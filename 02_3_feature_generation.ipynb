{
  "nbformat": 4,
  "nbformat_minor": 0,
  "metadata": {
    "kernelspec": {
      "name": "python3",
      "display_name": "Python 3"
    },
    "language_info": {
      "codemirror_mode": {
        "name": "ipython",
        "version": 3
      },
      "file_extension": ".py",
      "mimetype": "text/x-python",
      "name": "python",
      "nbconvert_exporter": "python",
      "pygments_lexer": "ipython3",
      "version": "3.7.2"
    },
    "colab": {
      "name": "02_3_feature_generation.ipynb",
      "provenance": []
    },
    "accelerator": "GPU"
  },
  "cells": [
    {
      "cell_type": "code",
      "metadata": {
        "id": "rcn3MS-1Qqit",
        "colab_type": "code",
        "colab": {
          "base_uri": "https://localhost:8080/",
          "height": 399
        },
        "outputId": "dff70081-b0eb-4b29-9835-0ce469bf7750"
      },
      "source": [
        "!rm -rf dl-projects\n",
        "!git clone https://github.com/mengwangk/dl-projects\n",
        "!cd dl-projects && ls "
      ],
      "execution_count": 1,
      "outputs": [
        {
          "output_type": "stream",
          "text": [
            "Cloning into 'dl-projects'...\n",
            "remote: Enumerating objects: 171, done.\u001b[K\n",
            "remote: Counting objects: 100% (171/171), done.\u001b[K\n",
            "remote: Compressing objects: 100% (137/137), done.\u001b[K\n",
            "remote: Total 390 (delta 100), reused 84 (delta 33), pack-reused 219\u001b[K\n",
            "Receiving objects: 100% (390/390), 11.29 MiB | 9.81 MiB/s, done.\n",
            "Resolving deltas: 100% (205/205), done.\n",
            "01_1_tensor.ipynb\t       07_algebra.ipynb      LICENSE\n",
            "01_2_correlation.ipynb\t       08_probability.ipynb  lstm_s1.ipynb\n",
            "01_3_preprocessing.ipynb       09_evaluation.ipynb   lstm_s2.ipynb\n",
            "01_4_numpy.ipynb\t       50_RL.ipynb\t     lstm_s3.ipynb\n",
            "01_5_parallelization.ipynb     999_Links.ipynb\t     lstm_s4.ipynb\n",
            "02_1_feature_engineer.ipynb    archive\t\t     lstm_s5.ipynb\n",
            "02_2_feature_generation.ipynb  d01_download.ipynb    lstm_s6.ipynb\n",
            "02_3_feature_generation.ipynb  d02_0_features.ipynb  notebook2script.py\n",
            "03_1_feature_selection.ipynb   d02_1_features.ipynb  README.md\n",
            "03_2_feature_selection.ipynb   d03_train_dl.ipynb    run_notebook.py\n",
            "04_0_basic_nn.ipynb\t       d04_train_ml.ipynb    scraper\n",
            "04_1_cnn.ipynb\t\t       dask-worker-space     stock.ipynb\n",
            "04_2_rnn.ipynb\t\t       datasets\t\t     utils.py\n",
            "05_calculus.ipynb\t       exp\n",
            "06_stats.ipynb\t\t       featurelib\n"
          ],
          "name": "stdout"
        }
      ]
    },
    {
      "cell_type": "code",
      "metadata": {
        "id": "Y-2caZD3Qnns",
        "colab_type": "code",
        "colab": {}
      },
      "source": [
        "# pandas and numpy for data manipulation\n",
        "import pandas as pd\n",
        "import numpy as np\n",
        "\n",
        "# Visualization\n",
        "import matplotlib.pyplot as plt\n",
        "import seaborn as sns\n",
        "\n",
        "plt.style.use('fivethirtyeight')\n",
        "%matplotlib inline\n",
        "\n",
        "# Automated feature engineering\n",
        "import featuretools as ft\n",
        "\n",
        "# Machine learning\n",
        "from sklearn.pipeline import Pipeline\n",
        "from sklearn.preprocessing import Imputer, MinMaxScaler\n",
        "from sklearn.metrics import precision_score, recall_score, f1_score, roc_auc_score, precision_recall_curve, roc_curve\n",
        "from sklearn.model_selection import train_test_split, cross_val_score\n",
        "from sklearn.ensemble import RandomForestClassifier\n",
        "\n",
        "from pathlib import Path"
      ],
      "execution_count": 0,
      "outputs": []
    },
    {
      "cell_type": "code",
      "metadata": {
        "id": "uX4MO0CWQnny",
        "colab_type": "code",
        "colab": {}
      },
      "source": [
        "# DATASET = Path(\"datasets/lotto/data_processed_2.csv\")\n",
        "\n",
        "DATASET = Path(\"dl-projects/datasets/lotto/data_processed.csv\")\n",
        "\n",
        "# The Answer to the Ultimate Question of Life, the Universe, and Everything.\n",
        "np.random.seed(42)"
      ],
      "execution_count": 0,
      "outputs": []
    },
    {
      "cell_type": "code",
      "metadata": {
        "id": "QYyDAGvaQnn0",
        "colab_type": "code",
        "colab": {}
      },
      "source": [
        "# Read into data frame\n",
        "dataset = pd.read_csv(DATASET, header=0, sep=',', quotechar='\"', parse_dates=['DrawDate'], dtype={'PrizeType': str})"
      ],
      "execution_count": 0,
      "outputs": []
    },
    {
      "cell_type": "code",
      "metadata": {
        "id": "e4cZbF10Qnn3",
        "colab_type": "code",
        "colab": {}
      },
      "source": [
        "df = dataset.copy()"
      ],
      "execution_count": 0,
      "outputs": []
    },
    {
      "cell_type": "code",
      "metadata": {
        "id": "PeqLRK6HQnn_",
        "colab_type": "code",
        "colab": {
          "base_uri": "https://localhost:8080/",
          "height": 373
        },
        "outputId": "6474721f-37f5-4bed-bd0f-388e02e64103"
      },
      "source": [
        "columns = ['DrawNo', 'DrawDate', 'PrizeType', 'LuckyNo']\n",
        "df = df[columns]\n",
        "print(df.shape)\n",
        "df.head(10)"
      ],
      "execution_count": 22,
      "outputs": [
        {
          "output_type": "stream",
          "text": [
            "(104673, 4)\n"
          ],
          "name": "stdout"
        },
        {
          "output_type": "execute_result",
          "data": {
            "text/html": [
              "<div>\n",
              "<style scoped>\n",
              "    .dataframe tbody tr th:only-of-type {\n",
              "        vertical-align: middle;\n",
              "    }\n",
              "\n",
              "    .dataframe tbody tr th {\n",
              "        vertical-align: top;\n",
              "    }\n",
              "\n",
              "    .dataframe thead th {\n",
              "        text-align: right;\n",
              "    }\n",
              "</style>\n",
              "<table border=\"1\" class=\"dataframe\">\n",
              "  <thead>\n",
              "    <tr style=\"text-align: right;\">\n",
              "      <th></th>\n",
              "      <th>DrawNo</th>\n",
              "      <th>DrawDate</th>\n",
              "      <th>PrizeType</th>\n",
              "      <th>LuckyNo</th>\n",
              "    </tr>\n",
              "  </thead>\n",
              "  <tbody>\n",
              "    <tr>\n",
              "      <th>0</th>\n",
              "      <td>40792</td>\n",
              "      <td>1992-05-06</td>\n",
              "      <td>1stPrizeNo</td>\n",
              "      <td>19</td>\n",
              "    </tr>\n",
              "    <tr>\n",
              "      <th>1</th>\n",
              "      <td>40792</td>\n",
              "      <td>1992-05-06</td>\n",
              "      <td>2ndPrizeNo</td>\n",
              "      <td>1124</td>\n",
              "    </tr>\n",
              "    <tr>\n",
              "      <th>2</th>\n",
              "      <td>40792</td>\n",
              "      <td>1992-05-06</td>\n",
              "      <td>3rdPrizeNo</td>\n",
              "      <td>592</td>\n",
              "    </tr>\n",
              "    <tr>\n",
              "      <th>3</th>\n",
              "      <td>40792</td>\n",
              "      <td>1992-05-06</td>\n",
              "      <td>ConsolationNo1</td>\n",
              "      <td>5311</td>\n",
              "    </tr>\n",
              "    <tr>\n",
              "      <th>4</th>\n",
              "      <td>40792</td>\n",
              "      <td>1992-05-06</td>\n",
              "      <td>ConsolationNo10</td>\n",
              "      <td>407</td>\n",
              "    </tr>\n",
              "    <tr>\n",
              "      <th>5</th>\n",
              "      <td>40792</td>\n",
              "      <td>1992-05-06</td>\n",
              "      <td>ConsolationNo2</td>\n",
              "      <td>1949</td>\n",
              "    </tr>\n",
              "    <tr>\n",
              "      <th>6</th>\n",
              "      <td>40792</td>\n",
              "      <td>1992-05-06</td>\n",
              "      <td>ConsolationNo3</td>\n",
              "      <td>1606</td>\n",
              "    </tr>\n",
              "    <tr>\n",
              "      <th>7</th>\n",
              "      <td>40792</td>\n",
              "      <td>1992-05-06</td>\n",
              "      <td>ConsolationNo4</td>\n",
              "      <td>3775</td>\n",
              "    </tr>\n",
              "    <tr>\n",
              "      <th>8</th>\n",
              "      <td>40792</td>\n",
              "      <td>1992-05-06</td>\n",
              "      <td>ConsolationNo5</td>\n",
              "      <td>6226</td>\n",
              "    </tr>\n",
              "    <tr>\n",
              "      <th>9</th>\n",
              "      <td>40792</td>\n",
              "      <td>1992-05-06</td>\n",
              "      <td>ConsolationNo6</td>\n",
              "      <td>1271</td>\n",
              "    </tr>\n",
              "  </tbody>\n",
              "</table>\n",
              "</div>"
            ],
            "text/plain": [
              "   DrawNo   DrawDate        PrizeType  LuckyNo\n",
              "0   40792 1992-05-06       1stPrizeNo       19\n",
              "1   40792 1992-05-06       2ndPrizeNo     1124\n",
              "2   40792 1992-05-06       3rdPrizeNo      592\n",
              "3   40792 1992-05-06   ConsolationNo1     5311\n",
              "4   40792 1992-05-06  ConsolationNo10      407\n",
              "5   40792 1992-05-06   ConsolationNo2     1949\n",
              "6   40792 1992-05-06   ConsolationNo3     1606\n",
              "7   40792 1992-05-06   ConsolationNo4     3775\n",
              "8   40792 1992-05-06   ConsolationNo5     6226\n",
              "9   40792 1992-05-06   ConsolationNo6     1271"
            ]
          },
          "metadata": {
            "tags": []
          },
          "execution_count": 22
        }
      ]
    },
    {
      "cell_type": "code",
      "metadata": {
        "id": "hKDROfYKQnoB",
        "colab_type": "code",
        "colab": {}
      },
      "source": [
        "#df['LuckyNo'].value_counts().plot.bar(figsize=(6,5))"
      ],
      "execution_count": 0,
      "outputs": []
    },
    {
      "cell_type": "code",
      "metadata": {
        "id": "LqT_9licQnoF",
        "colab_type": "code",
        "colab": {}
      },
      "source": [
        "# df.groupby(['LuckyNo']).max().head(10)"
      ],
      "execution_count": 0,
      "outputs": []
    },
    {
      "cell_type": "code",
      "metadata": {
        "id": "FjnFRPDsQnoM",
        "colab_type": "code",
        "colab": {}
      },
      "source": [
        "# df.groupby(['LuckyNo']).count().tail(10)"
      ],
      "execution_count": 0,
      "outputs": []
    },
    {
      "cell_type": "code",
      "metadata": {
        "id": "RIiTmg10UCVa",
        "colab_type": "code",
        "colab": {}
      },
      "source": [
        "df.rename(columns={\"DrawNo\": \"draw_no\", \"DrawDate\": \"draw_date\", \"PrizeType\": \"prize_type\", \"LuckyNo\": \"lucky_no\" }, inplace=True)"
      ],
      "execution_count": 0,
      "outputs": []
    },
    {
      "cell_type": "code",
      "metadata": {
        "id": "pPQsQWIQUcaK",
        "colab_type": "code",
        "colab": {
          "base_uri": "https://localhost:8080/",
          "height": 173
        },
        "outputId": "dac84d41-f204-47ed-d7b0-a90761b57531"
      },
      "source": [
        "df.info()"
      ],
      "execution_count": 27,
      "outputs": [
        {
          "output_type": "stream",
          "text": [
            "<class 'pandas.core.frame.DataFrame'>\n",
            "RangeIndex: 104673 entries, 0 to 104672\n",
            "Data columns (total 4 columns):\n",
            "draw_no       104673 non-null int64\n",
            "draw_date     104673 non-null datetime64[ns]\n",
            "prize_type    104673 non-null object\n",
            "lucky_no      104673 non-null int64\n",
            "dtypes: datetime64[ns](1), int64(2), object(1)\n",
            "memory usage: 3.2+ MB\n"
          ],
          "name": "stdout"
        }
      ]
    },
    {
      "cell_type": "code",
      "metadata": {
        "id": "M0Z9x8zgQnoQ",
        "colab_type": "code",
        "colab": {}
      },
      "source": [
        "df['number_id'] = df.groupby(['lucky_no']).ngroup()"
      ],
      "execution_count": 0,
      "outputs": []
    },
    {
      "cell_type": "code",
      "metadata": {
        "id": "PoaBVXBHQnoT",
        "colab_type": "code",
        "colab": {
          "base_uri": "https://localhost:8080/",
          "height": 325
        },
        "outputId": "f8e276b1-349b-40b2-ca7c-50b4a0ee0dfe"
      },
      "source": [
        "df.loc[lambda df: df['number_id'] == 1346]"
      ],
      "execution_count": 37,
      "outputs": [
        {
          "output_type": "execute_result",
          "data": {
            "text/html": [
              "<div>\n",
              "<style scoped>\n",
              "    .dataframe tbody tr th:only-of-type {\n",
              "        vertical-align: middle;\n",
              "    }\n",
              "\n",
              "    .dataframe tbody tr th {\n",
              "        vertical-align: top;\n",
              "    }\n",
              "\n",
              "    .dataframe thead th {\n",
              "        text-align: right;\n",
              "    }\n",
              "</style>\n",
              "<table border=\"1\" class=\"dataframe\">\n",
              "  <thead>\n",
              "    <tr style=\"text-align: right;\">\n",
              "      <th></th>\n",
              "      <th>number_id</th>\n",
              "      <th>draw_no</th>\n",
              "      <th>draw_date</th>\n",
              "      <th>prize_type</th>\n",
              "      <th>lucky_no</th>\n",
              "    </tr>\n",
              "  </thead>\n",
              "  <tbody>\n",
              "    <tr>\n",
              "      <th>2834</th>\n",
              "      <td>1346</td>\n",
              "      <td>53093</td>\n",
              "      <td>1993-02-17</td>\n",
              "      <td>ConsolationNo2</td>\n",
              "      <td>1346</td>\n",
              "    </tr>\n",
              "    <tr>\n",
              "      <th>4611</th>\n",
              "      <td>1346</td>\n",
              "      <td>60793</td>\n",
              "      <td>1993-08-15</td>\n",
              "      <td>ConsolationNo8</td>\n",
              "      <td>1346</td>\n",
              "    </tr>\n",
              "    <tr>\n",
              "      <th>19725</th>\n",
              "      <td>1346</td>\n",
              "      <td>126497</td>\n",
              "      <td>1997-10-25</td>\n",
              "      <td>SpecialNo10</td>\n",
              "      <td>1346</td>\n",
              "    </tr>\n",
              "    <tr>\n",
              "      <th>28133</th>\n",
              "      <td>1346</td>\n",
              "      <td>163000</td>\n",
              "      <td>2000-02-02</td>\n",
              "      <td>ConsolationNo10</td>\n",
              "      <td>1346</td>\n",
              "    </tr>\n",
              "    <tr>\n",
              "      <th>51494</th>\n",
              "      <td>1346</td>\n",
              "      <td>264606</td>\n",
              "      <td>2006-03-21</td>\n",
              "      <td>SpecialNo7</td>\n",
              "      <td>1346</td>\n",
              "    </tr>\n",
              "    <tr>\n",
              "      <th>57574</th>\n",
              "      <td>1346</td>\n",
              "      <td>291107</td>\n",
              "      <td>2007-10-17</td>\n",
              "      <td>ConsolationNo2</td>\n",
              "      <td>1346</td>\n",
              "    </tr>\n",
              "    <tr>\n",
              "      <th>66505</th>\n",
              "      <td>1346</td>\n",
              "      <td>329910</td>\n",
              "      <td>2010-02-03</td>\n",
              "      <td>ConsolationNo9</td>\n",
              "      <td>1346</td>\n",
              "    </tr>\n",
              "    <tr>\n",
              "      <th>72700</th>\n",
              "      <td>1346</td>\n",
              "      <td>356811</td>\n",
              "      <td>2011-08-14</td>\n",
              "      <td>SpecialNo7</td>\n",
              "      <td>1346</td>\n",
              "    </tr>\n",
              "    <tr>\n",
              "      <th>104389</th>\n",
              "      <td>1346</td>\n",
              "      <td>494619</td>\n",
              "      <td>2019-05-12</td>\n",
              "      <td>SpecialNo2</td>\n",
              "      <td>1346</td>\n",
              "    </tr>\n",
              "  </tbody>\n",
              "</table>\n",
              "</div>"
            ],
            "text/plain": [
              "        number_id  draw_no  draw_date       prize_type  lucky_no\n",
              "2834         1346    53093 1993-02-17   ConsolationNo2      1346\n",
              "4611         1346    60793 1993-08-15   ConsolationNo8      1346\n",
              "19725        1346   126497 1997-10-25      SpecialNo10      1346\n",
              "28133        1346   163000 2000-02-02  ConsolationNo10      1346\n",
              "51494        1346   264606 2006-03-21       SpecialNo7      1346\n",
              "57574        1346   291107 2007-10-17   ConsolationNo2      1346\n",
              "66505        1346   329910 2010-02-03   ConsolationNo9      1346\n",
              "72700        1346   356811 2011-08-14       SpecialNo7      1346\n",
              "104389       1346   494619 2019-05-12       SpecialNo2      1346"
            ]
          },
          "metadata": {
            "tags": []
          },
          "execution_count": 37
        }
      ]
    },
    {
      "cell_type": "code",
      "metadata": {
        "id": "nF4T4FbFQnoV",
        "colab_type": "code",
        "colab": {
          "base_uri": "https://localhost:8080/",
          "height": 141
        },
        "outputId": "e970a82b-a802-466b-9cfb-525bfff20954"
      },
      "source": [
        "df = df[[\"number_id\", \"draw_no\", \"draw_date\", \"prize_type\", \"lucky_no\"]]\n",
        "df.head(3)"
      ],
      "execution_count": 32,
      "outputs": [
        {
          "output_type": "execute_result",
          "data": {
            "text/html": [
              "<div>\n",
              "<style scoped>\n",
              "    .dataframe tbody tr th:only-of-type {\n",
              "        vertical-align: middle;\n",
              "    }\n",
              "\n",
              "    .dataframe tbody tr th {\n",
              "        vertical-align: top;\n",
              "    }\n",
              "\n",
              "    .dataframe thead th {\n",
              "        text-align: right;\n",
              "    }\n",
              "</style>\n",
              "<table border=\"1\" class=\"dataframe\">\n",
              "  <thead>\n",
              "    <tr style=\"text-align: right;\">\n",
              "      <th></th>\n",
              "      <th>number_id</th>\n",
              "      <th>draw_no</th>\n",
              "      <th>draw_date</th>\n",
              "      <th>prize_type</th>\n",
              "      <th>lucky_no</th>\n",
              "    </tr>\n",
              "  </thead>\n",
              "  <tbody>\n",
              "    <tr>\n",
              "      <th>0</th>\n",
              "      <td>19</td>\n",
              "      <td>40792</td>\n",
              "      <td>1992-05-06</td>\n",
              "      <td>1stPrizeNo</td>\n",
              "      <td>19</td>\n",
              "    </tr>\n",
              "    <tr>\n",
              "      <th>1</th>\n",
              "      <td>1124</td>\n",
              "      <td>40792</td>\n",
              "      <td>1992-05-06</td>\n",
              "      <td>2ndPrizeNo</td>\n",
              "      <td>1124</td>\n",
              "    </tr>\n",
              "    <tr>\n",
              "      <th>2</th>\n",
              "      <td>592</td>\n",
              "      <td>40792</td>\n",
              "      <td>1992-05-06</td>\n",
              "      <td>3rdPrizeNo</td>\n",
              "      <td>592</td>\n",
              "    </tr>\n",
              "  </tbody>\n",
              "</table>\n",
              "</div>"
            ],
            "text/plain": [
              "   number_id  draw_no  draw_date  prize_type  lucky_no\n",
              "0         19    40792 1992-05-06  1stPrizeNo        19\n",
              "1       1124    40792 1992-05-06  2ndPrizeNo      1124\n",
              "2        592    40792 1992-05-06  3rdPrizeNo       592"
            ]
          },
          "metadata": {
            "tags": []
          },
          "execution_count": 32
        }
      ]
    },
    {
      "cell_type": "markdown",
      "metadata": {
        "id": "jnYAzEezXMVz",
        "colab_type": "text"
      },
      "source": [
        "## Making Labels"
      ]
    },
    {
      "cell_type": "code",
      "metadata": {
        "id": "XkXd7ypeXROT",
        "colab_type": "code",
        "colab": {}
      },
      "source": [
        "# Start with year 1993 and generate the labels\n",
        "START_YEAR = 1993\n",
        "\n",
        "def make_cutoffs(draw_date):\n",
        "  all_numbers = df[df['draw_date'] <= draw_date]['number_id'].unique()\n",
        "  matched_numbers = df[df['draw_date'] == draw_date]['number_id'].unique()\n",
        "  print(len(all_numbers), len(matched_numbers))\n",
        "    \n",
        "    "
      ],
      "execution_count": 0,
      "outputs": []
    },
    {
      "cell_type": "code",
      "metadata": {
        "id": "nBVSNnSQXRZB",
        "colab_type": "code",
        "colab": {
          "base_uri": "https://localhost:8080/",
          "height": 35
        },
        "outputId": "e61e1e8f-46aa-4d7c-e0a7-a06b7af63ae6"
      },
      "source": [
        "for dt in df.head(2400).loc[df['draw_date'].dt.year >= START_YEAR]['draw_date'].unique():\n",
        "  make_cutoffs(dt)"
      ],
      "execution_count": 74,
      "outputs": [
        {
          "output_type": "stream",
          "text": [
            "2144 23\n"
          ],
          "name": "stdout"
        }
      ]
    },
    {
      "cell_type": "code",
      "metadata": {
        "id": "9Ye-3RgOXRkM",
        "colab_type": "code",
        "colab": {}
      },
      "source": [
        ""
      ],
      "execution_count": 0,
      "outputs": []
    },
    {
      "cell_type": "markdown",
      "metadata": {
        "id": "Hs6PX8_oQnoX",
        "colab_type": "text"
      },
      "source": [
        "## Skewness of data"
      ]
    },
    {
      "cell_type": "code",
      "metadata": {
        "id": "hZHHa3B5QnoY",
        "colab_type": "code",
        "colab": {}
      },
      "source": [
        "#  https://github.com/mengwangk/Automated-Manual-Comparison/blob/master/Retail%20Spending/notebooks/Automated%20Retail%20Spending.ipynb"
      ],
      "execution_count": 0,
      "outputs": []
    },
    {
      "cell_type": "code",
      "metadata": {
        "id": "JkxnOoWqQnoa",
        "colab_type": "code",
        "colab": {}
      },
      "source": [
        "def ecdf(data):\n",
        "    \"\"\"\n",
        "    Empirical cumulative distribution function (ECDF) plot\n",
        "    \"\"\"\n",
        "    x = np.sort(data)\n",
        "    y = np.arange(1, len(x) + 1) / len(x)\n",
        "    return x, y"
      ],
      "execution_count": 0,
      "outputs": []
    },
    {
      "cell_type": "code",
      "metadata": {
        "id": "hhZxr5x0Qnod",
        "colab_type": "code",
        "colab": {}
      },
      "source": [
        "# d = df['LuckyNo'].astype(str)"
      ],
      "execution_count": 0,
      "outputs": []
    },
    {
      "cell_type": "code",
      "metadata": {
        "id": "E-cTsfHxQnof",
        "colab_type": "code",
        "colab": {}
      },
      "source": [
        "# x, y = ecdf(d)\n",
        "# plt.plot(x, y, marker = '.')\n",
        "# plt.xlabel('Lucky No'); plt.ylabel('Percentile'); plt.title('ECDF of Lucky No');"
      ],
      "execution_count": 0,
      "outputs": []
    },
    {
      "cell_type": "markdown",
      "metadata": {
        "id": "emOJwpx_Qnoi",
        "colab_type": "text"
      },
      "source": [
        "### Generate new features"
      ]
    },
    {
      "cell_type": "code",
      "metadata": {
        "id": "5LClHTifQnoi",
        "colab_type": "code",
        "colab": {}
      },
      "source": [
        "df = df.reset_index()"
      ],
      "execution_count": 0,
      "outputs": []
    },
    {
      "cell_type": "code",
      "metadata": {
        "id": "YV7jk8ZDQnol",
        "colab_type": "code",
        "colab": {},
        "outputId": "ac58b3dc-cc44-4c73-a1f1-0180453ae144"
      },
      "source": [
        "df.rename(columns={\"index\": \"instance_id\"}, inplace=True)\n",
        "df.head(10)"
      ],
      "execution_count": 0,
      "outputs": [
        {
          "output_type": "execute_result",
          "data": {
            "text/html": [
              "<div>\n",
              "<style scoped>\n",
              "    .dataframe tbody tr th:only-of-type {\n",
              "        vertical-align: middle;\n",
              "    }\n",
              "\n",
              "    .dataframe tbody tr th {\n",
              "        vertical-align: top;\n",
              "    }\n",
              "\n",
              "    .dataframe thead th {\n",
              "        text-align: right;\n",
              "    }\n",
              "</style>\n",
              "<table border=\"1\" class=\"dataframe\">\n",
              "  <thead>\n",
              "    <tr style=\"text-align: right;\">\n",
              "      <th></th>\n",
              "      <th>instance_id</th>\n",
              "      <th>DrawNo</th>\n",
              "      <th>DrawDate</th>\n",
              "      <th>PrizeType</th>\n",
              "      <th>LuckyNo</th>\n",
              "      <th>result_id</th>\n",
              "    </tr>\n",
              "  </thead>\n",
              "  <tbody>\n",
              "    <tr>\n",
              "      <th>0</th>\n",
              "      <td>0</td>\n",
              "      <td>40792</td>\n",
              "      <td>1992-05-06</td>\n",
              "      <td>1stPrizeNo</td>\n",
              "      <td>19</td>\n",
              "      <td>19</td>\n",
              "    </tr>\n",
              "    <tr>\n",
              "      <th>1</th>\n",
              "      <td>1</td>\n",
              "      <td>40792</td>\n",
              "      <td>1992-05-06</td>\n",
              "      <td>2ndPrizeNo</td>\n",
              "      <td>1124</td>\n",
              "      <td>1124</td>\n",
              "    </tr>\n",
              "    <tr>\n",
              "      <th>2</th>\n",
              "      <td>2</td>\n",
              "      <td>40792</td>\n",
              "      <td>1992-05-06</td>\n",
              "      <td>3rdPrizeNo</td>\n",
              "      <td>592</td>\n",
              "      <td>592</td>\n",
              "    </tr>\n",
              "    <tr>\n",
              "      <th>3</th>\n",
              "      <td>3</td>\n",
              "      <td>40792</td>\n",
              "      <td>1992-05-06</td>\n",
              "      <td>ConsolationNo1</td>\n",
              "      <td>5311</td>\n",
              "      <td>5311</td>\n",
              "    </tr>\n",
              "    <tr>\n",
              "      <th>4</th>\n",
              "      <td>4</td>\n",
              "      <td>40792</td>\n",
              "      <td>1992-05-06</td>\n",
              "      <td>ConsolationNo10</td>\n",
              "      <td>407</td>\n",
              "      <td>407</td>\n",
              "    </tr>\n",
              "    <tr>\n",
              "      <th>5</th>\n",
              "      <td>5</td>\n",
              "      <td>40792</td>\n",
              "      <td>1992-05-06</td>\n",
              "      <td>ConsolationNo2</td>\n",
              "      <td>1949</td>\n",
              "      <td>1949</td>\n",
              "    </tr>\n",
              "    <tr>\n",
              "      <th>6</th>\n",
              "      <td>6</td>\n",
              "      <td>40792</td>\n",
              "      <td>1992-05-06</td>\n",
              "      <td>ConsolationNo3</td>\n",
              "      <td>1606</td>\n",
              "      <td>1606</td>\n",
              "    </tr>\n",
              "    <tr>\n",
              "      <th>7</th>\n",
              "      <td>7</td>\n",
              "      <td>40792</td>\n",
              "      <td>1992-05-06</td>\n",
              "      <td>ConsolationNo4</td>\n",
              "      <td>3775</td>\n",
              "      <td>3775</td>\n",
              "    </tr>\n",
              "    <tr>\n",
              "      <th>8</th>\n",
              "      <td>8</td>\n",
              "      <td>40792</td>\n",
              "      <td>1992-05-06</td>\n",
              "      <td>ConsolationNo5</td>\n",
              "      <td>6226</td>\n",
              "      <td>6226</td>\n",
              "    </tr>\n",
              "    <tr>\n",
              "      <th>9</th>\n",
              "      <td>9</td>\n",
              "      <td>40792</td>\n",
              "      <td>1992-05-06</td>\n",
              "      <td>ConsolationNo6</td>\n",
              "      <td>1271</td>\n",
              "      <td>1271</td>\n",
              "    </tr>\n",
              "  </tbody>\n",
              "</table>\n",
              "</div>"
            ],
            "text/plain": [
              "   instance_id  DrawNo   DrawDate        PrizeType  LuckyNo  result_id\n",
              "0            0   40792 1992-05-06       1stPrizeNo       19         19\n",
              "1            1   40792 1992-05-06       2ndPrizeNo     1124       1124\n",
              "2            2   40792 1992-05-06       3rdPrizeNo      592        592\n",
              "3            3   40792 1992-05-06   ConsolationNo1     5311       5311\n",
              "4            4   40792 1992-05-06  ConsolationNo10      407        407\n",
              "5            5   40792 1992-05-06   ConsolationNo2     1949       1949\n",
              "6            6   40792 1992-05-06   ConsolationNo3     1606       1606\n",
              "7            7   40792 1992-05-06   ConsolationNo4     3775       3775\n",
              "8            8   40792 1992-05-06   ConsolationNo5     6226       6226\n",
              "9            9   40792 1992-05-06   ConsolationNo6     1271       1271"
            ]
          },
          "metadata": {
            "tags": []
          },
          "execution_count": 18
        }
      ]
    },
    {
      "cell_type": "markdown",
      "metadata": {
        "id": "nFdhbIhRQnon",
        "colab_type": "text"
      },
      "source": [
        "#### Cut off time"
      ]
    },
    {
      "cell_type": "code",
      "metadata": {
        "id": "z0dqQQ4UQnoo",
        "colab_type": "code",
        "colab": {},
        "outputId": "f8bad55a-8434-413d-8c47-86c82de52045"
      },
      "source": [
        "labels = df[[\"instance_id\", \"DrawDate\"]].groupby([\"instance_id\", \"DrawDate\"]).min().reset_index()\n",
        "labels.rename(columns = {\"DrawDate\":\"cutoff_time\"}, inplace=True)"
      ],
      "execution_count": 0,
      "outputs": [
        {
          "output_type": "stream",
          "text": [
            "/Users/mengwangk/anaconda3/lib/python3.7/site-packages/pandas/core/groupby/groupby.py:4315: FutureWarning: arrays to stack must be passed as a \"sequence\" type such as list or tuple. Support for non-sequence iterables such as generators is deprecated as of NumPy 1.16 and will raise an error in the future.\n",
            "  stacked_values = np.vstack(map(np.asarray, values))\n"
          ],
          "name": "stderr"
        }
      ]
    },
    {
      "cell_type": "code",
      "metadata": {
        "id": "xtFG1DZCQnos",
        "colab_type": "code",
        "colab": {},
        "outputId": "c39530d0-0fc0-4aa3-b960-a754dd0ea7b4"
      },
      "source": [
        "labels.head(30)"
      ],
      "execution_count": 0,
      "outputs": [
        {
          "output_type": "execute_result",
          "data": {
            "text/html": [
              "<div>\n",
              "<style scoped>\n",
              "    .dataframe tbody tr th:only-of-type {\n",
              "        vertical-align: middle;\n",
              "    }\n",
              "\n",
              "    .dataframe tbody tr th {\n",
              "        vertical-align: top;\n",
              "    }\n",
              "\n",
              "    .dataframe thead th {\n",
              "        text-align: right;\n",
              "    }\n",
              "</style>\n",
              "<table border=\"1\" class=\"dataframe\">\n",
              "  <thead>\n",
              "    <tr style=\"text-align: right;\">\n",
              "      <th></th>\n",
              "      <th>instance_id</th>\n",
              "      <th>cutoff_time</th>\n",
              "    </tr>\n",
              "  </thead>\n",
              "  <tbody>\n",
              "    <tr>\n",
              "      <th>0</th>\n",
              "      <td>0</td>\n",
              "      <td>1992-05-06</td>\n",
              "    </tr>\n",
              "    <tr>\n",
              "      <th>1</th>\n",
              "      <td>1</td>\n",
              "      <td>1992-05-06</td>\n",
              "    </tr>\n",
              "    <tr>\n",
              "      <th>2</th>\n",
              "      <td>2</td>\n",
              "      <td>1992-05-06</td>\n",
              "    </tr>\n",
              "    <tr>\n",
              "      <th>3</th>\n",
              "      <td>3</td>\n",
              "      <td>1992-05-06</td>\n",
              "    </tr>\n",
              "    <tr>\n",
              "      <th>4</th>\n",
              "      <td>4</td>\n",
              "      <td>1992-05-06</td>\n",
              "    </tr>\n",
              "    <tr>\n",
              "      <th>5</th>\n",
              "      <td>5</td>\n",
              "      <td>1992-05-06</td>\n",
              "    </tr>\n",
              "    <tr>\n",
              "      <th>6</th>\n",
              "      <td>6</td>\n",
              "      <td>1992-05-06</td>\n",
              "    </tr>\n",
              "    <tr>\n",
              "      <th>7</th>\n",
              "      <td>7</td>\n",
              "      <td>1992-05-06</td>\n",
              "    </tr>\n",
              "    <tr>\n",
              "      <th>8</th>\n",
              "      <td>8</td>\n",
              "      <td>1992-05-06</td>\n",
              "    </tr>\n",
              "    <tr>\n",
              "      <th>9</th>\n",
              "      <td>9</td>\n",
              "      <td>1992-05-06</td>\n",
              "    </tr>\n",
              "    <tr>\n",
              "      <th>10</th>\n",
              "      <td>10</td>\n",
              "      <td>1992-05-06</td>\n",
              "    </tr>\n",
              "    <tr>\n",
              "      <th>11</th>\n",
              "      <td>11</td>\n",
              "      <td>1992-05-06</td>\n",
              "    </tr>\n",
              "    <tr>\n",
              "      <th>12</th>\n",
              "      <td>12</td>\n",
              "      <td>1992-05-06</td>\n",
              "    </tr>\n",
              "    <tr>\n",
              "      <th>13</th>\n",
              "      <td>13</td>\n",
              "      <td>1992-05-06</td>\n",
              "    </tr>\n",
              "    <tr>\n",
              "      <th>14</th>\n",
              "      <td>14</td>\n",
              "      <td>1992-05-06</td>\n",
              "    </tr>\n",
              "    <tr>\n",
              "      <th>15</th>\n",
              "      <td>15</td>\n",
              "      <td>1992-05-06</td>\n",
              "    </tr>\n",
              "    <tr>\n",
              "      <th>16</th>\n",
              "      <td>16</td>\n",
              "      <td>1992-05-06</td>\n",
              "    </tr>\n",
              "    <tr>\n",
              "      <th>17</th>\n",
              "      <td>17</td>\n",
              "      <td>1992-05-06</td>\n",
              "    </tr>\n",
              "    <tr>\n",
              "      <th>18</th>\n",
              "      <td>18</td>\n",
              "      <td>1992-05-06</td>\n",
              "    </tr>\n",
              "    <tr>\n",
              "      <th>19</th>\n",
              "      <td>19</td>\n",
              "      <td>1992-05-06</td>\n",
              "    </tr>\n",
              "    <tr>\n",
              "      <th>20</th>\n",
              "      <td>20</td>\n",
              "      <td>1992-05-06</td>\n",
              "    </tr>\n",
              "    <tr>\n",
              "      <th>21</th>\n",
              "      <td>21</td>\n",
              "      <td>1992-05-06</td>\n",
              "    </tr>\n",
              "    <tr>\n",
              "      <th>22</th>\n",
              "      <td>22</td>\n",
              "      <td>1992-05-06</td>\n",
              "    </tr>\n",
              "    <tr>\n",
              "      <th>23</th>\n",
              "      <td>23</td>\n",
              "      <td>1992-05-07</td>\n",
              "    </tr>\n",
              "    <tr>\n",
              "      <th>24</th>\n",
              "      <td>24</td>\n",
              "      <td>1992-05-07</td>\n",
              "    </tr>\n",
              "    <tr>\n",
              "      <th>25</th>\n",
              "      <td>25</td>\n",
              "      <td>1992-05-07</td>\n",
              "    </tr>\n",
              "    <tr>\n",
              "      <th>26</th>\n",
              "      <td>26</td>\n",
              "      <td>1992-05-07</td>\n",
              "    </tr>\n",
              "    <tr>\n",
              "      <th>27</th>\n",
              "      <td>27</td>\n",
              "      <td>1992-05-07</td>\n",
              "    </tr>\n",
              "    <tr>\n",
              "      <th>28</th>\n",
              "      <td>28</td>\n",
              "      <td>1992-05-07</td>\n",
              "    </tr>\n",
              "    <tr>\n",
              "      <th>29</th>\n",
              "      <td>29</td>\n",
              "      <td>1992-05-07</td>\n",
              "    </tr>\n",
              "  </tbody>\n",
              "</table>\n",
              "</div>"
            ],
            "text/plain": [
              "    instance_id cutoff_time\n",
              "0             0  1992-05-06\n",
              "1             1  1992-05-06\n",
              "2             2  1992-05-06\n",
              "3             3  1992-05-06\n",
              "4             4  1992-05-06\n",
              "5             5  1992-05-06\n",
              "6             6  1992-05-06\n",
              "7             7  1992-05-06\n",
              "8             8  1992-05-06\n",
              "9             9  1992-05-06\n",
              "10           10  1992-05-06\n",
              "11           11  1992-05-06\n",
              "12           12  1992-05-06\n",
              "13           13  1992-05-06\n",
              "14           14  1992-05-06\n",
              "15           15  1992-05-06\n",
              "16           16  1992-05-06\n",
              "17           17  1992-05-06\n",
              "18           18  1992-05-06\n",
              "19           19  1992-05-06\n",
              "20           20  1992-05-06\n",
              "21           21  1992-05-06\n",
              "22           22  1992-05-06\n",
              "23           23  1992-05-07\n",
              "24           24  1992-05-07\n",
              "25           25  1992-05-07\n",
              "26           26  1992-05-07\n",
              "27           27  1992-05-07\n",
              "28           28  1992-05-07\n",
              "29           29  1992-05-07"
            ]
          },
          "metadata": {
            "tags": []
          },
          "execution_count": 20
        }
      ]
    },
    {
      "cell_type": "code",
      "metadata": {
        "id": "koYp01SDQnox",
        "colab_type": "code",
        "colab": {}
      },
      "source": [
        "df.drop(columns=['instance_id'], inplace=True)"
      ],
      "execution_count": 0,
      "outputs": []
    },
    {
      "cell_type": "code",
      "metadata": {
        "id": "_cOii6ZBQno0",
        "colab_type": "code",
        "colab": {},
        "outputId": "f4cf186b-0ef9-45a9-d5d2-65c243ee2b2d"
      },
      "source": [
        "df.head(10)"
      ],
      "execution_count": 0,
      "outputs": [
        {
          "output_type": "execute_result",
          "data": {
            "text/html": [
              "<div>\n",
              "<style scoped>\n",
              "    .dataframe tbody tr th:only-of-type {\n",
              "        vertical-align: middle;\n",
              "    }\n",
              "\n",
              "    .dataframe tbody tr th {\n",
              "        vertical-align: top;\n",
              "    }\n",
              "\n",
              "    .dataframe thead th {\n",
              "        text-align: right;\n",
              "    }\n",
              "</style>\n",
              "<table border=\"1\" class=\"dataframe\">\n",
              "  <thead>\n",
              "    <tr style=\"text-align: right;\">\n",
              "      <th></th>\n",
              "      <th>DrawNo</th>\n",
              "      <th>DrawDate</th>\n",
              "      <th>PrizeType</th>\n",
              "      <th>LuckyNo</th>\n",
              "      <th>result_id</th>\n",
              "    </tr>\n",
              "  </thead>\n",
              "  <tbody>\n",
              "    <tr>\n",
              "      <th>0</th>\n",
              "      <td>40792</td>\n",
              "      <td>1992-05-06</td>\n",
              "      <td>1stPrizeNo</td>\n",
              "      <td>19</td>\n",
              "      <td>19</td>\n",
              "    </tr>\n",
              "    <tr>\n",
              "      <th>1</th>\n",
              "      <td>40792</td>\n",
              "      <td>1992-05-06</td>\n",
              "      <td>2ndPrizeNo</td>\n",
              "      <td>1124</td>\n",
              "      <td>1124</td>\n",
              "    </tr>\n",
              "    <tr>\n",
              "      <th>2</th>\n",
              "      <td>40792</td>\n",
              "      <td>1992-05-06</td>\n",
              "      <td>3rdPrizeNo</td>\n",
              "      <td>592</td>\n",
              "      <td>592</td>\n",
              "    </tr>\n",
              "    <tr>\n",
              "      <th>3</th>\n",
              "      <td>40792</td>\n",
              "      <td>1992-05-06</td>\n",
              "      <td>ConsolationNo1</td>\n",
              "      <td>5311</td>\n",
              "      <td>5311</td>\n",
              "    </tr>\n",
              "    <tr>\n",
              "      <th>4</th>\n",
              "      <td>40792</td>\n",
              "      <td>1992-05-06</td>\n",
              "      <td>ConsolationNo10</td>\n",
              "      <td>407</td>\n",
              "      <td>407</td>\n",
              "    </tr>\n",
              "    <tr>\n",
              "      <th>5</th>\n",
              "      <td>40792</td>\n",
              "      <td>1992-05-06</td>\n",
              "      <td>ConsolationNo2</td>\n",
              "      <td>1949</td>\n",
              "      <td>1949</td>\n",
              "    </tr>\n",
              "    <tr>\n",
              "      <th>6</th>\n",
              "      <td>40792</td>\n",
              "      <td>1992-05-06</td>\n",
              "      <td>ConsolationNo3</td>\n",
              "      <td>1606</td>\n",
              "      <td>1606</td>\n",
              "    </tr>\n",
              "    <tr>\n",
              "      <th>7</th>\n",
              "      <td>40792</td>\n",
              "      <td>1992-05-06</td>\n",
              "      <td>ConsolationNo4</td>\n",
              "      <td>3775</td>\n",
              "      <td>3775</td>\n",
              "    </tr>\n",
              "    <tr>\n",
              "      <th>8</th>\n",
              "      <td>40792</td>\n",
              "      <td>1992-05-06</td>\n",
              "      <td>ConsolationNo5</td>\n",
              "      <td>6226</td>\n",
              "      <td>6226</td>\n",
              "    </tr>\n",
              "    <tr>\n",
              "      <th>9</th>\n",
              "      <td>40792</td>\n",
              "      <td>1992-05-06</td>\n",
              "      <td>ConsolationNo6</td>\n",
              "      <td>1271</td>\n",
              "      <td>1271</td>\n",
              "    </tr>\n",
              "  </tbody>\n",
              "</table>\n",
              "</div>"
            ],
            "text/plain": [
              "   DrawNo   DrawDate        PrizeType  LuckyNo  result_id\n",
              "0   40792 1992-05-06       1stPrizeNo       19         19\n",
              "1   40792 1992-05-06       2ndPrizeNo     1124       1124\n",
              "2   40792 1992-05-06       3rdPrizeNo      592        592\n",
              "3   40792 1992-05-06   ConsolationNo1     5311       5311\n",
              "4   40792 1992-05-06  ConsolationNo10      407        407\n",
              "5   40792 1992-05-06   ConsolationNo2     1949       1949\n",
              "6   40792 1992-05-06   ConsolationNo3     1606       1606\n",
              "7   40792 1992-05-06   ConsolationNo4     3775       3775\n",
              "8   40792 1992-05-06   ConsolationNo5     6226       6226\n",
              "9   40792 1992-05-06   ConsolationNo6     1271       1271"
            ]
          },
          "metadata": {
            "tags": []
          },
          "execution_count": 22
        }
      ]
    },
    {
      "cell_type": "code",
      "metadata": {
        "id": "KE3BfV7wQno2",
        "colab_type": "code",
        "colab": {}
      },
      "source": [
        "es = ft.EntitySet(id=\"Draw Results\")"
      ],
      "execution_count": 0,
      "outputs": []
    },
    {
      "cell_type": "code",
      "metadata": {
        "id": "pzk-uwxEQno4",
        "colab_type": "code",
        "colab": {},
        "outputId": "50a49a72-417a-4b0f-9d48-284c3318acf8"
      },
      "source": [
        "# Add the entire data table as an entity\n",
        "es.entity_from_dataframe(\"results\",\n",
        "                         dataframe=df,\n",
        "                         index=\"results_index\",\n",
        "                         time_index = 'DrawDate')\n",
        "\n",
        "es['results']"
      ],
      "execution_count": 0,
      "outputs": [
        {
          "output_type": "stream",
          "text": [
            "2019-10-07 23:19:43,718 featuretools.entityset - WARNING    index results_index not found in dataframe, creating new integer column\n"
          ],
          "name": "stdout"
        },
        {
          "output_type": "execute_result",
          "data": {
            "text/plain": [
              "Entity: results\n",
              "  Variables:\n",
              "    results_index (dtype: index)\n",
              "    DrawNo (dtype: numeric)\n",
              "    DrawDate (dtype: datetime_time_index)\n",
              "    PrizeType (dtype: categorical)\n",
              "    LuckyNo (dtype: numeric)\n",
              "    result_id (dtype: numeric)\n",
              "  Shape:\n",
              "    (Rows: 104673, Columns: 6)"
            ]
          },
          "metadata": {
            "tags": []
          },
          "execution_count": 24
        }
      ]
    },
    {
      "cell_type": "code",
      "metadata": {
        "id": "bikjREJCQno6",
        "colab_type": "code",
        "colab": {},
        "outputId": "5795a3d6-ea69-4b05-fb85-8f18dd6ca8eb"
      },
      "source": [
        "# Create a new entity\n",
        "es.normalize_entity(new_entity_id=\"draws\",\n",
        "                    base_entity_id=\"results\",\n",
        "                    index=\"LuckyNo\")\n",
        "                    # additional_variables=[\"\"])\n",
        "es['draws'].df.head()"
      ],
      "execution_count": 0,
      "outputs": [
        {
          "output_type": "execute_result",
          "data": {
            "text/html": [
              "<div>\n",
              "<style scoped>\n",
              "    .dataframe tbody tr th:only-of-type {\n",
              "        vertical-align: middle;\n",
              "    }\n",
              "\n",
              "    .dataframe tbody tr th {\n",
              "        vertical-align: top;\n",
              "    }\n",
              "\n",
              "    .dataframe thead th {\n",
              "        text-align: right;\n",
              "    }\n",
              "</style>\n",
              "<table border=\"1\" class=\"dataframe\">\n",
              "  <thead>\n",
              "    <tr style=\"text-align: right;\">\n",
              "      <th></th>\n",
              "      <th>LuckyNo</th>\n",
              "      <th>first_results_time</th>\n",
              "    </tr>\n",
              "  </thead>\n",
              "  <tbody>\n",
              "    <tr>\n",
              "      <th>19</th>\n",
              "      <td>19</td>\n",
              "      <td>1992-05-06</td>\n",
              "    </tr>\n",
              "    <tr>\n",
              "      <th>407</th>\n",
              "      <td>407</td>\n",
              "      <td>1992-05-06</td>\n",
              "    </tr>\n",
              "    <tr>\n",
              "      <th>592</th>\n",
              "      <td>592</td>\n",
              "      <td>1992-05-06</td>\n",
              "    </tr>\n",
              "    <tr>\n",
              "      <th>950</th>\n",
              "      <td>950</td>\n",
              "      <td>1992-05-06</td>\n",
              "    </tr>\n",
              "    <tr>\n",
              "      <th>1124</th>\n",
              "      <td>1124</td>\n",
              "      <td>1992-05-06</td>\n",
              "    </tr>\n",
              "  </tbody>\n",
              "</table>\n",
              "</div>"
            ],
            "text/plain": [
              "      LuckyNo first_results_time\n",
              "19         19         1992-05-06\n",
              "407       407         1992-05-06\n",
              "592       592         1992-05-06\n",
              "950       950         1992-05-06\n",
              "1124     1124         1992-05-06"
            ]
          },
          "metadata": {
            "tags": []
          },
          "execution_count": 25
        }
      ]
    },
    {
      "cell_type": "code",
      "metadata": {
        "id": "zj64nCmaQno8",
        "colab_type": "code",
        "colab": {},
        "outputId": "30d2193d-8dd9-4173-dafb-6291bb5aac52"
      },
      "source": [
        "es['results'].df.head(10)"
      ],
      "execution_count": 0,
      "outputs": [
        {
          "output_type": "execute_result",
          "data": {
            "text/html": [
              "<div>\n",
              "<style scoped>\n",
              "    .dataframe tbody tr th:only-of-type {\n",
              "        vertical-align: middle;\n",
              "    }\n",
              "\n",
              "    .dataframe tbody tr th {\n",
              "        vertical-align: top;\n",
              "    }\n",
              "\n",
              "    .dataframe thead th {\n",
              "        text-align: right;\n",
              "    }\n",
              "</style>\n",
              "<table border=\"1\" class=\"dataframe\">\n",
              "  <thead>\n",
              "    <tr style=\"text-align: right;\">\n",
              "      <th></th>\n",
              "      <th>results_index</th>\n",
              "      <th>DrawNo</th>\n",
              "      <th>DrawDate</th>\n",
              "      <th>PrizeType</th>\n",
              "      <th>LuckyNo</th>\n",
              "      <th>result_id</th>\n",
              "    </tr>\n",
              "  </thead>\n",
              "  <tbody>\n",
              "    <tr>\n",
              "      <th>0</th>\n",
              "      <td>0</td>\n",
              "      <td>40792</td>\n",
              "      <td>1992-05-06</td>\n",
              "      <td>1stPrizeNo</td>\n",
              "      <td>19</td>\n",
              "      <td>19</td>\n",
              "    </tr>\n",
              "    <tr>\n",
              "      <th>1</th>\n",
              "      <td>1</td>\n",
              "      <td>40792</td>\n",
              "      <td>1992-05-06</td>\n",
              "      <td>2ndPrizeNo</td>\n",
              "      <td>1124</td>\n",
              "      <td>1124</td>\n",
              "    </tr>\n",
              "    <tr>\n",
              "      <th>2</th>\n",
              "      <td>2</td>\n",
              "      <td>40792</td>\n",
              "      <td>1992-05-06</td>\n",
              "      <td>3rdPrizeNo</td>\n",
              "      <td>592</td>\n",
              "      <td>592</td>\n",
              "    </tr>\n",
              "    <tr>\n",
              "      <th>3</th>\n",
              "      <td>3</td>\n",
              "      <td>40792</td>\n",
              "      <td>1992-05-06</td>\n",
              "      <td>ConsolationNo1</td>\n",
              "      <td>5311</td>\n",
              "      <td>5311</td>\n",
              "    </tr>\n",
              "    <tr>\n",
              "      <th>4</th>\n",
              "      <td>4</td>\n",
              "      <td>40792</td>\n",
              "      <td>1992-05-06</td>\n",
              "      <td>ConsolationNo10</td>\n",
              "      <td>407</td>\n",
              "      <td>407</td>\n",
              "    </tr>\n",
              "    <tr>\n",
              "      <th>5</th>\n",
              "      <td>5</td>\n",
              "      <td>40792</td>\n",
              "      <td>1992-05-06</td>\n",
              "      <td>ConsolationNo2</td>\n",
              "      <td>1949</td>\n",
              "      <td>1949</td>\n",
              "    </tr>\n",
              "    <tr>\n",
              "      <th>6</th>\n",
              "      <td>6</td>\n",
              "      <td>40792</td>\n",
              "      <td>1992-05-06</td>\n",
              "      <td>ConsolationNo3</td>\n",
              "      <td>1606</td>\n",
              "      <td>1606</td>\n",
              "    </tr>\n",
              "    <tr>\n",
              "      <th>7</th>\n",
              "      <td>7</td>\n",
              "      <td>40792</td>\n",
              "      <td>1992-05-06</td>\n",
              "      <td>ConsolationNo4</td>\n",
              "      <td>3775</td>\n",
              "      <td>3775</td>\n",
              "    </tr>\n",
              "    <tr>\n",
              "      <th>8</th>\n",
              "      <td>8</td>\n",
              "      <td>40792</td>\n",
              "      <td>1992-05-06</td>\n",
              "      <td>ConsolationNo5</td>\n",
              "      <td>6226</td>\n",
              "      <td>6226</td>\n",
              "    </tr>\n",
              "    <tr>\n",
              "      <th>9</th>\n",
              "      <td>9</td>\n",
              "      <td>40792</td>\n",
              "      <td>1992-05-06</td>\n",
              "      <td>ConsolationNo6</td>\n",
              "      <td>1271</td>\n",
              "      <td>1271</td>\n",
              "    </tr>\n",
              "  </tbody>\n",
              "</table>\n",
              "</div>"
            ],
            "text/plain": [
              "   results_index  DrawNo   DrawDate        PrizeType  LuckyNo  result_id\n",
              "0              0   40792 1992-05-06       1stPrizeNo       19         19\n",
              "1              1   40792 1992-05-06       2ndPrizeNo     1124       1124\n",
              "2              2   40792 1992-05-06       3rdPrizeNo      592        592\n",
              "3              3   40792 1992-05-06   ConsolationNo1     5311       5311\n",
              "4              4   40792 1992-05-06  ConsolationNo10      407        407\n",
              "5              5   40792 1992-05-06   ConsolationNo2     1949       1949\n",
              "6              6   40792 1992-05-06   ConsolationNo3     1606       1606\n",
              "7              7   40792 1992-05-06   ConsolationNo4     3775       3775\n",
              "8              8   40792 1992-05-06   ConsolationNo5     6226       6226\n",
              "9              9   40792 1992-05-06   ConsolationNo6     1271       1271"
            ]
          },
          "metadata": {
            "tags": []
          },
          "execution_count": 34
        }
      ]
    },
    {
      "cell_type": "code",
      "metadata": {
        "id": "AWUv2rqpQno_",
        "colab_type": "code",
        "colab": {},
        "outputId": "9ee6ab09-0c32-4a14-e779-1633fe31f0cc"
      },
      "source": [
        "es['draws'].df.loc[lambda df: df['LuckyNo'] == 19].head()"
      ],
      "execution_count": 0,
      "outputs": [
        {
          "output_type": "execute_result",
          "data": {
            "text/html": [
              "<div>\n",
              "<style scoped>\n",
              "    .dataframe tbody tr th:only-of-type {\n",
              "        vertical-align: middle;\n",
              "    }\n",
              "\n",
              "    .dataframe tbody tr th {\n",
              "        vertical-align: top;\n",
              "    }\n",
              "\n",
              "    .dataframe thead th {\n",
              "        text-align: right;\n",
              "    }\n",
              "</style>\n",
              "<table border=\"1\" class=\"dataframe\">\n",
              "  <thead>\n",
              "    <tr style=\"text-align: right;\">\n",
              "      <th></th>\n",
              "      <th>LuckyNo</th>\n",
              "      <th>first_results_time</th>\n",
              "    </tr>\n",
              "  </thead>\n",
              "  <tbody>\n",
              "    <tr>\n",
              "      <th>19</th>\n",
              "      <td>19</td>\n",
              "      <td>1992-05-06</td>\n",
              "    </tr>\n",
              "  </tbody>\n",
              "</table>\n",
              "</div>"
            ],
            "text/plain": [
              "    LuckyNo first_results_time\n",
              "19       19         1992-05-06"
            ]
          },
          "metadata": {
            "tags": []
          },
          "execution_count": 27
        }
      ]
    },
    {
      "cell_type": "code",
      "metadata": {
        "id": "3MpuagTLQnpB",
        "colab_type": "code",
        "colab": {},
        "outputId": "5c0e390f-9a7e-44d2-be63-d06770cf695c"
      },
      "source": [
        "es['results'].df.loc[lambda df: df['LuckyNo'] == 19].head()"
      ],
      "execution_count": 0,
      "outputs": [
        {
          "output_type": "execute_result",
          "data": {
            "text/html": [
              "<div>\n",
              "<style scoped>\n",
              "    .dataframe tbody tr th:only-of-type {\n",
              "        vertical-align: middle;\n",
              "    }\n",
              "\n",
              "    .dataframe tbody tr th {\n",
              "        vertical-align: top;\n",
              "    }\n",
              "\n",
              "    .dataframe thead th {\n",
              "        text-align: right;\n",
              "    }\n",
              "</style>\n",
              "<table border=\"1\" class=\"dataframe\">\n",
              "  <thead>\n",
              "    <tr style=\"text-align: right;\">\n",
              "      <th></th>\n",
              "      <th>results_index</th>\n",
              "      <th>DrawNo</th>\n",
              "      <th>DrawDate</th>\n",
              "      <th>PrizeType</th>\n",
              "      <th>LuckyNo</th>\n",
              "      <th>result_id</th>\n",
              "    </tr>\n",
              "  </thead>\n",
              "  <tbody>\n",
              "    <tr>\n",
              "      <th>0</th>\n",
              "      <td>0</td>\n",
              "      <td>40792</td>\n",
              "      <td>1992-05-06</td>\n",
              "      <td>1stPrizeNo</td>\n",
              "      <td>19</td>\n",
              "      <td>19</td>\n",
              "    </tr>\n",
              "    <tr>\n",
              "      <th>297</th>\n",
              "      <td>297</td>\n",
              "      <td>41992</td>\n",
              "      <td>1992-06-03</td>\n",
              "      <td>SpecialNo8</td>\n",
              "      <td>19</td>\n",
              "      <td>19</td>\n",
              "    </tr>\n",
              "    <tr>\n",
              "      <th>10813</th>\n",
              "      <td>10813</td>\n",
              "      <td>87795</td>\n",
              "      <td>1995-05-06</td>\n",
              "      <td>ConsolationNo1</td>\n",
              "      <td>19</td>\n",
              "      <td>19</td>\n",
              "    </tr>\n",
              "    <tr>\n",
              "      <th>11566</th>\n",
              "      <td>11566</td>\n",
              "      <td>90995</td>\n",
              "      <td>1995-07-19</td>\n",
              "      <td>SpecialNo7</td>\n",
              "      <td>19</td>\n",
              "      <td>19</td>\n",
              "    </tr>\n",
              "    <tr>\n",
              "      <th>14844</th>\n",
              "      <td>14844</td>\n",
              "      <td>105296</td>\n",
              "      <td>1996-06-16</td>\n",
              "      <td>ConsolationNo6</td>\n",
              "      <td>19</td>\n",
              "      <td>19</td>\n",
              "    </tr>\n",
              "  </tbody>\n",
              "</table>\n",
              "</div>"
            ],
            "text/plain": [
              "       results_index  DrawNo   DrawDate       PrizeType  LuckyNo  result_id\n",
              "0                  0   40792 1992-05-06      1stPrizeNo       19         19\n",
              "297              297   41992 1992-06-03      SpecialNo8       19         19\n",
              "10813          10813   87795 1995-05-06  ConsolationNo1       19         19\n",
              "11566          11566   90995 1995-07-19      SpecialNo7       19         19\n",
              "14844          14844  105296 1996-06-16  ConsolationNo6       19         19"
            ]
          },
          "metadata": {
            "tags": []
          },
          "execution_count": 28
        }
      ]
    },
    {
      "cell_type": "code",
      "metadata": {
        "id": "x4QY3nTXQnpD",
        "colab_type": "code",
        "colab": {},
        "outputId": "fbdf1581-8745-48e0-b0e7-f2be98071ca3"
      },
      "source": [
        "es"
      ],
      "execution_count": 0,
      "outputs": [
        {
          "output_type": "execute_result",
          "data": {
            "text/plain": [
              "Entityset: Draw Results\n",
              "  Entities:\n",
              "    results [Rows: 104673, Columns: 6]\n",
              "    draws [Rows: 10000, Columns: 2]\n",
              "  Relationships:\n",
              "    results.LuckyNo -> draws.LuckyNo"
            ]
          },
          "metadata": {
            "tags": []
          },
          "execution_count": 29
        }
      ]
    },
    {
      "cell_type": "markdown",
      "metadata": {
        "id": "vqaB8vmnQnpF",
        "colab_type": "text"
      },
      "source": [
        "#### Generate features"
      ]
    },
    {
      "cell_type": "code",
      "metadata": {
        "id": "ASQJn7CeQnpG",
        "colab_type": "code",
        "colab": {},
        "outputId": "17ec7dfa-ef65-4035-fc54-0b0976941e0f"
      },
      "source": [
        "feature_matrix, feature_names = ft.dfs(entityset=es, target_entity='results',\n",
        "                                       cutoff_time = labels, verbose = 2,\n",
        "                                       cutoff_time_in_index = True,\n",
        "                                       chunk_size = len(labels), n_jobs = -1,\n",
        "                                       max_depth = 1)"
      ],
      "execution_count": 0,
      "outputs": [
        {
          "output_type": "stream",
          "text": [
            "Built 8 features\n",
            "EntitySet scattered to workers in 1.006 seconds\n",
            "Elapsed: 01:16 | Remaining: 00:00 | Progress: 100%|██████████| Calculated: 1/1 chunks\n"
          ],
          "name": "stdout"
        }
      ]
    },
    {
      "cell_type": "code",
      "metadata": {
        "id": "RTtJGyfDQnpJ",
        "colab_type": "code",
        "colab": {}
      },
      "source": [
        "feature_matrix.head(50)"
      ],
      "execution_count": 0,
      "outputs": []
    },
    {
      "cell_type": "code",
      "metadata": {
        "id": "3hydhdP2QnpM",
        "colab_type": "code",
        "colab": {}
      },
      "source": [
        ""
      ],
      "execution_count": 0,
      "outputs": []
    }
  ]
}
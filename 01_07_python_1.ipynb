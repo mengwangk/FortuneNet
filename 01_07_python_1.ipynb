{
  "nbformat": 4,
  "nbformat_minor": 0,
  "metadata": {
    "kernelspec": {
      "display_name": "Python 3",
      "language": "python",
      "name": "python3"
    },
    "language_info": {
      "codemirror_mode": {
        "name": "ipython",
        "version": 3
      },
      "file_extension": ".py",
      "mimetype": "text/x-python",
      "name": "python",
      "nbconvert_exporter": "python",
      "pygments_lexer": "ipython3",
      "version": "3.7.2"
    },
    "colab": {
      "name": "01_07_python..ipynb",
      "provenance": [],
      "include_colab_link": true
    }
  },
  "cells": [
    {
      "cell_type": "markdown",
      "metadata": {
        "id": "view-in-github",
        "colab_type": "text"
      },
      "source": [
        "<a href=\"https://colab.research.google.com/github/mengwangk/dl-projects/blob/master/01_07_python..ipynb\" target=\"_parent\"><img src=\"https://colab.research.google.com/assets/colab-badge.svg\" alt=\"Open In Colab\"/></a>"
      ]
    },
    {
      "cell_type": "code",
      "metadata": {
        "id": "64QW6JHO3eRR",
        "colab_type": "code",
        "colab": {}
      },
      "source": [
        "import numpy as np\n",
        "import pandas as pd"
      ],
      "execution_count": 0,
      "outputs": []
    },
    {
      "cell_type": "markdown",
      "metadata": {
        "id": "hl3DMGAV3eRX",
        "colab_type": "text"
      },
      "source": [
        "### Concatenate Strings"
      ]
    },
    {
      "cell_type": "code",
      "metadata": {
        "id": "dFVVUvci3eRX",
        "colab_type": "code",
        "colab": {},
        "outputId": "63b12bdc-916e-4bb7-e99e-b84860c5f40f"
      },
      "source": [
        "characters = ['p', 'y', 't', 'h', 'o', 'n']\n",
        "word = \"\".join(characters)\n",
        "print(word) # python"
      ],
      "execution_count": 0,
      "outputs": [
        {
          "output_type": "stream",
          "text": [
            "python\n"
          ],
          "name": "stdout"
        }
      ]
    },
    {
      "cell_type": "markdown",
      "metadata": {
        "id": "tGMHlx143eRc",
        "colab_type": "text"
      },
      "source": [
        "### List Comprehensions\n"
      ]
    },
    {
      "cell_type": "code",
      "metadata": {
        "id": "3gE-qyB_3eRc",
        "colab_type": "code",
        "colab": {},
        "outputId": "26d79998-b6e7-4296-9f89-04ad47cfcaab"
      },
      "source": [
        "m = [x ** 2 for x in range(5)]\n",
        "print(m) # [0, 1, 4, 9, 16]\n"
      ],
      "execution_count": 0,
      "outputs": [
        {
          "output_type": "stream",
          "text": [
            "[0, 1, 4, 9, 16]\n"
          ],
          "name": "stdout"
        }
      ]
    },
    {
      "cell_type": "code",
      "metadata": {
        "id": "drM7FUZR3eRf",
        "colab_type": "code",
        "colab": {},
        "outputId": "6bde5b5d-a473-4a60-a796-cfdf754ce759"
      },
      "source": [
        "list_a = [1, 2, 3, 4]\n",
        "list_b = [2, 3, 4, 5]\n",
        "common_num = [a for a in list_a for b in list_b if a == b]\n",
        "print(common_num) # [2, 3, 4]"
      ],
      "execution_count": 0,
      "outputs": [
        {
          "output_type": "stream",
          "text": [
            "[2, 3, 4]\n"
          ],
          "name": "stdout"
        }
      ]
    },
    {
      "cell_type": "markdown",
      "metadata": {
        "id": "sSkB19a53eRh",
        "colab_type": "text"
      },
      "source": [
        "## Iterate with enumerate()"
      ]
    },
    {
      "cell_type": "code",
      "metadata": {
        "id": "xjefQdOK3eRh",
        "colab_type": "code",
        "colab": {},
        "outputId": "430dbda4-47c1-4045-95f4-634cfe21fc3a"
      },
      "source": [
        "numbers = [30, 42, 28, 50, 15]\n",
        "for i, num in enumerate(numbers):\n",
        "    if num % 3 == 0 and num % 5 == 0:\n",
        "       numbers[i] = 'fizzbuzz'\n",
        "    elif num % 3 == 0:\n",
        "       numbers[i] = 'fizz'\n",
        "    elif num % 5 == 0:\n",
        "       numbers[i] = 'buzz'\n",
        "print(numbers) # ['fizzbuzz', 'fizz', 28, 'buzz', 'fizzbuzz']"
      ],
      "execution_count": 0,
      "outputs": [
        {
          "output_type": "stream",
          "text": [
            "['fizzbuzz', 'fizz', 28, 'buzz', 'fizzbuzz']\n"
          ],
          "name": "stdout"
        }
      ]
    },
    {
      "cell_type": "markdown",
      "metadata": {
        "id": "EqOduRyM3eRj",
        "colab_type": "text"
      },
      "source": [
        "### Using Zip with Lists"
      ]
    },
    {
      "cell_type": "code",
      "metadata": {
        "id": "q_JAbg343eRk",
        "colab_type": "code",
        "colab": {},
        "outputId": "b8ac3e26-9843-461d-ebd6-2bdfb36e77d9"
      },
      "source": [
        "countries = ['France', 'Germany', 'Canada']\n",
        "capitals = ['Paris', 'Berlin', 'Ottawa']\n",
        "for country, capital in zip(countries,capitals):\n",
        "    print(country, capital) \n"
      ],
      "execution_count": 0,
      "outputs": [
        {
          "output_type": "stream",
          "text": [
            "France Paris\n",
            "Germany Berlin\n",
            "Canada Ottawa\n"
          ],
          "name": "stdout"
        }
      ]
    },
    {
      "cell_type": "markdown",
      "metadata": {
        "id": "ag1k060B3eRm",
        "colab_type": "text"
      },
      "source": [
        "### Using itertools"
      ]
    },
    {
      "cell_type": "code",
      "metadata": {
        "id": "QD8vSlTc3eRn",
        "colab_type": "code",
        "colab": {},
        "outputId": "1df9e348-e69e-4527-b9cb-70cc09f2f1b0"
      },
      "source": [
        "import itertools\n",
        "friends = ['Team 1', 'Team 2', 'Team 3', 'Team 4']\n",
        "list(itertools.combinations(friends, r=2)) # [('Team 1', 'Team 2'),      ('Team 1', 'Team 3'),  ('Team 1', 'Team 4'),  ('Team 2', 'Team 3'),  ('Team 2', 'Team 4'),  ('Team 3', 'Team 4')]\n"
      ],
      "execution_count": 0,
      "outputs": [
        {
          "output_type": "execute_result",
          "data": {
            "text/plain": [
              "[('Team 1', 'Team 2'),\n",
              " ('Team 1', 'Team 3'),\n",
              " ('Team 1', 'Team 4'),\n",
              " ('Team 2', 'Team 3'),\n",
              " ('Team 2', 'Team 4'),\n",
              " ('Team 3', 'Team 4')]"
            ]
          },
          "metadata": {
            "tags": []
          },
          "execution_count": 35
        }
      ]
    },
    {
      "cell_type": "markdown",
      "metadata": {
        "id": "-z0nN-T63eRq",
        "colab_type": "text"
      },
      "source": [
        "### Collections"
      ]
    },
    {
      "cell_type": "code",
      "metadata": {
        "id": "E1J9BvT-3eRq",
        "colab_type": "code",
        "colab": {},
        "outputId": "bb62bf9d-98c9-4681-fe74-85b5862ebac6"
      },
      "source": [
        "from collections import Counter\n",
        "count = Counter(['a','b','c','d','b','c','d','b'])\n",
        "print(count) # Counter({'b': 3, 'c': 2, 'd': 2, 'a': 1})"
      ],
      "execution_count": 0,
      "outputs": [
        {
          "output_type": "stream",
          "text": [
            "Counter({'b': 3, 'c': 2, 'd': 2, 'a': 1})\n"
          ],
          "name": "stdout"
        }
      ]
    },
    {
      "cell_type": "markdown",
      "metadata": {
        "id": "B_XDIyEx3eRs",
        "colab_type": "text"
      },
      "source": [
        "### List to Dictionary"
      ]
    },
    {
      "cell_type": "code",
      "metadata": {
        "id": "rb4k--T93eRt",
        "colab_type": "code",
        "colab": {},
        "outputId": "68b221b4-b431-4c2d-bfd9-595080d03b9f"
      },
      "source": [
        "students = [\"Peter\", \"Julia\", \"Alex\"]\n",
        "marks = [84, 65, 77]\n",
        "dictionary = dict(zip(students, marks))\n",
        "print(dictionary) # {'Peter': 84, 'Julia': 65, 'Alex': 77}"
      ],
      "execution_count": 0,
      "outputs": [
        {
          "output_type": "stream",
          "text": [
            "{'Peter': 84, 'Julia': 65, 'Alex': 77}\n"
          ],
          "name": "stdout"
        }
      ]
    },
    {
      "cell_type": "markdown",
      "metadata": {
        "id": "QQN3mADa3eRv",
        "colab_type": "text"
      },
      "source": [
        "### Generators"
      ]
    },
    {
      "cell_type": "code",
      "metadata": {
        "id": "4f6olZrx3eRw",
        "colab_type": "code",
        "colab": {},
        "outputId": "2156d66c-238e-4384-8765-56251d412823"
      },
      "source": [
        "import time\n",
        "t1 = time.clock()\n",
        "sum([i * i for i in range(1, 100000000)])\n",
        "t2 = time.clock()\n",
        "time_diff = t2 - t1\n",
        "print(f\"It took {time_diff} Secs to execute this method\")"
      ],
      "execution_count": 0,
      "outputs": [
        {
          "output_type": "stream",
          "text": [
            "/Users/mengwangk/anaconda3/lib/python3.7/site-packages/ipykernel_launcher.py:2: DeprecationWarning: time.clock has been deprecated in Python 3.3 and will be removed from Python 3.8: use time.perf_counter or time.process_time instead\n",
            "  \n"
          ],
          "name": "stderr"
        },
        {
          "output_type": "stream",
          "text": [
            "It took 18.581878000000003 Secs to execute this method\n"
          ],
          "name": "stdout"
        },
        {
          "output_type": "stream",
          "text": [
            "/Users/mengwangk/anaconda3/lib/python3.7/site-packages/ipykernel_launcher.py:4: DeprecationWarning: time.clock has been deprecated in Python 3.3 and will be removed from Python 3.8: use time.perf_counter or time.process_time instead\n",
            "  after removing the cwd from sys.path.\n"
          ],
          "name": "stderr"
        }
      ]
    },
    {
      "cell_type": "markdown",
      "metadata": {
        "id": "jF9EISs13eRy",
        "colab_type": "text"
      },
      "source": [
        "### Iterable"
      ]
    },
    {
      "cell_type": "code",
      "metadata": {
        "id": "5nSsQhW43eRz",
        "colab_type": "code",
        "colab": {},
        "outputId": "41b248b7-6db5-49af-8a63-3cbc985da5d4"
      },
      "source": [
        "x = range(0,10,2)\n",
        "print(x)"
      ],
      "execution_count": 0,
      "outputs": [
        {
          "output_type": "stream",
          "text": [
            "range(0, 10, 2)\n"
          ],
          "name": "stdout"
        }
      ]
    },
    {
      "cell_type": "code",
      "metadata": {
        "id": "fmqnk4pe3eR1",
        "colab_type": "code",
        "colab": {},
        "outputId": "f06fd1ca-fd8c-44df-a0eb-5f3de4564a0c"
      },
      "source": [
        "sum(x)"
      ],
      "execution_count": 0,
      "outputs": [
        {
          "output_type": "execute_result",
          "data": {
            "text/plain": [
              "20"
            ]
          },
          "metadata": {
            "tags": []
          },
          "execution_count": 6
        }
      ]
    },
    {
      "cell_type": "code",
      "metadata": {
        "id": "2fTY1eFJ3eR3",
        "colab_type": "code",
        "colab": {},
        "outputId": "ad95182a-28ca-4f71-9556-285fd52faf3a"
      },
      "source": [
        "any(a % 2==0 for a in range(0,10,2))"
      ],
      "execution_count": 0,
      "outputs": [
        {
          "output_type": "execute_result",
          "data": {
            "text/plain": [
              "True"
            ]
          },
          "metadata": {
            "tags": []
          },
          "execution_count": 7
        }
      ]
    },
    {
      "cell_type": "code",
      "metadata": {
        "id": "F0k_P9MY3eR6",
        "colab_type": "code",
        "colab": {},
        "outputId": "bd79dedd-f04b-49bb-e4d9-fdac587fe754"
      },
      "source": [
        "all(a % 2==0 for a in range(0,10,2))"
      ],
      "execution_count": 0,
      "outputs": [
        {
          "output_type": "execute_result",
          "data": {
            "text/plain": [
              "True"
            ]
          },
          "metadata": {
            "tags": []
          },
          "execution_count": 10
        }
      ]
    },
    {
      "cell_type": "code",
      "metadata": {
        "id": "AME_jUyk3eR9",
        "colab_type": "code",
        "colab": {},
        "outputId": "0c1eb65a-2da2-4eb1-e7bf-0412aee21a4b"
      },
      "source": [
        "res = list(np.cumsum(range(0,10,2)))\n",
        "res"
      ],
      "execution_count": 0,
      "outputs": [
        {
          "output_type": "execute_result",
          "data": {
            "text/plain": [
              "[0, 2, 6, 12, 20]"
            ]
          },
          "metadata": {
            "tags": []
          },
          "execution_count": 14
        }
      ]
    },
    {
      "cell_type": "code",
      "metadata": {
        "id": "As9whN6p3eSA",
        "colab_type": "code",
        "colab": {},
        "outputId": "4285421a-0c52-4f69-80af-14be6bd0892e"
      },
      "source": [
        "a = ['Hello', 'world', '!']\n",
        "list(enumerate(a))"
      ],
      "execution_count": 0,
      "outputs": [
        {
          "output_type": "execute_result",
          "data": {
            "text/plain": [
              "[(0, 'Hello'), (1, 'world'), (2, '!')]"
            ]
          },
          "metadata": {
            "tags": []
          },
          "execution_count": 15
        }
      ]
    },
    {
      "cell_type": "code",
      "metadata": {
        "id": "_5iPFCUF3eSC",
        "colab_type": "code",
        "colab": {},
        "outputId": "834dffc9-f569-4561-b2e8-d6ab06c4df2b"
      },
      "source": [
        "a = [\"python\",\"really\", \"rocks\"]\n",
        "\" \".join(a)"
      ],
      "execution_count": 0,
      "outputs": [
        {
          "output_type": "execute_result",
          "data": {
            "text/plain": [
              "'python really rocks'"
            ]
          },
          "metadata": {
            "tags": []
          },
          "execution_count": 16
        }
      ]
    },
    {
      "cell_type": "code",
      "metadata": {
        "id": "3xzkLE5P3eSE",
        "colab_type": "code",
        "colab": {},
        "outputId": "79dac432-3348-4780-acce-2ade61ede617"
      },
      "source": [
        "from pprint import pprint\n",
        "a = [1, 2, 3]\n",
        "b = ['a', 'b', 'c']\n",
        "z = zip(a, b)\n",
        "list(z)"
      ],
      "execution_count": 0,
      "outputs": [
        {
          "output_type": "execute_result",
          "data": {
            "text/plain": [
              "[(1, 'a'), (2, 'b'), (3, 'c')]"
            ]
          },
          "metadata": {
            "tags": []
          },
          "execution_count": 23
        }
      ]
    },
    {
      "cell_type": "code",
      "metadata": {
        "id": "LySuj6U93eSJ",
        "colab_type": "code",
        "colab": {},
        "outputId": "0cd4519d-e758-4bc3-b9ff-d6124dd3871a"
      },
      "source": [
        "# Pivoting list of tuples\n",
        "zip(*z)\n",
        "#[(1, 2, 3), ('a', 'b', 'c')]"
      ],
      "execution_count": 0,
      "outputs": [
        {
          "output_type": "execute_result",
          "data": {
            "text/plain": [
              "<zip at 0x1152294c8>"
            ]
          },
          "metadata": {
            "tags": []
          },
          "execution_count": 27
        }
      ]
    },
    {
      "cell_type": "code",
      "metadata": {
        "id": "e49DL9Cx3eSN",
        "colab_type": "code",
        "colab": {},
        "outputId": "6da4acba-6af8-4517-8f05-805c7425697d"
      },
      "source": [
        "a = [1, 2, -3]\n",
        "max(a)"
      ],
      "execution_count": 0,
      "outputs": [
        {
          "output_type": "execute_result",
          "data": {
            "text/plain": [
              "2"
            ]
          },
          "metadata": {
            "tags": []
          },
          "execution_count": 28
        }
      ]
    },
    {
      "cell_type": "code",
      "metadata": {
        "id": "17ix0hPo3eSP",
        "colab_type": "code",
        "colab": {},
        "outputId": "01521a72-25c7-404f-ad61-7f943d2c3d3c"
      },
      "source": [
        "min(a)"
      ],
      "execution_count": 0,
      "outputs": [
        {
          "output_type": "execute_result",
          "data": {
            "text/plain": [
              "-3"
            ]
          },
          "metadata": {
            "tags": []
          },
          "execution_count": 29
        }
      ]
    },
    {
      "cell_type": "code",
      "metadata": {
        "id": "9DkMlmqb3eSR",
        "colab_type": "code",
        "colab": {},
        "outputId": "50f21dd1-c1eb-4fbe-f1a1-f536812751bb"
      },
      "source": [
        "max(a,key=abs)"
      ],
      "execution_count": 0,
      "outputs": [
        {
          "output_type": "execute_result",
          "data": {
            "text/plain": [
              "-3"
            ]
          },
          "metadata": {
            "tags": []
          },
          "execution_count": 30
        }
      ]
    },
    {
      "cell_type": "code",
      "metadata": {
        "id": "e77BANdP3eST",
        "colab_type": "code",
        "colab": {},
        "outputId": "648a154e-e653-4200-9549-aa8969809a0d"
      },
      "source": [
        "a = [1, 2, -3]\n",
        "sorted(a)"
      ],
      "execution_count": 0,
      "outputs": [
        {
          "output_type": "execute_result",
          "data": {
            "text/plain": [
              "[-3, 1, 2]"
            ]
          },
          "metadata": {
            "tags": []
          },
          "execution_count": 31
        }
      ]
    },
    {
      "cell_type": "code",
      "metadata": {
        "id": "HD-rL74S3eSW",
        "colab_type": "code",
        "colab": {},
        "outputId": "bcfe0ec9-12c7-4043-daf4-e81d64b7d8f3"
      },
      "source": [
        "sorted(a,key=abs)"
      ],
      "execution_count": 0,
      "outputs": [
        {
          "output_type": "execute_result",
          "data": {
            "text/plain": [
              "[1, 2, -3]"
            ]
          },
          "metadata": {
            "tags": []
          },
          "execution_count": 32
        }
      ]
    },
    {
      "cell_type": "code",
      "metadata": {
        "id": "so3WyqLN3eSZ",
        "colab_type": "code",
        "colab": {},
        "outputId": "0fd042a3-e517-4313-c241-1a5c41d281a7"
      },
      "source": [
        "s = \"a,b,c\"\n",
        "s.split(\",\")"
      ],
      "execution_count": 0,
      "outputs": [
        {
          "output_type": "execute_result",
          "data": {
            "text/plain": [
              "['a', 'b', 'c']"
            ]
          },
          "metadata": {
            "tags": []
          },
          "execution_count": 33
        }
      ]
    },
    {
      "cell_type": "code",
      "metadata": {
        "id": "4h94v7913eSc",
        "colab_type": "code",
        "colab": {},
        "outputId": "80e8e5c3-36a7-4f38-fdf4-b7981fd6b424"
      },
      "source": [
        "[1]* 10"
      ],
      "execution_count": 0,
      "outputs": [
        {
          "output_type": "execute_result",
          "data": {
            "text/plain": [
              "[1, 1, 1, 1, 1, 1, 1, 1, 1, 1]"
            ]
          },
          "metadata": {
            "tags": []
          },
          "execution_count": 34
        }
      ]
    },
    {
      "cell_type": "code",
      "metadata": {
        "id": "kkrECBo83eSe",
        "colab_type": "code",
        "colab": {},
        "outputId": "e356b8e6-0655-479f-e9fe-d601691c5b0b"
      },
      "source": [
        "a = {\"a\":1, \"b\":1}\n",
        "b = {\"b\":2, \"c\":1}\n",
        "a.update(b)\n",
        "a"
      ],
      "execution_count": 0,
      "outputs": [
        {
          "output_type": "execute_result",
          "data": {
            "text/plain": [
              "{'a': 1, 'b': 2, 'c': 1}"
            ]
          },
          "metadata": {
            "tags": []
          },
          "execution_count": 36
        }
      ]
    },
    {
      "cell_type": "code",
      "metadata": {
        "id": "eG5zQ6wV3eSg",
        "colab_type": "code",
        "colab": {},
        "outputId": "a78d75eb-b412-43da-bbb1-357170784bd9"
      },
      "source": [
        "a = [0, 1, 2, 3, 4, 5]\n",
        "LASTTHREE = slice(-3, None)\n",
        "LASTTHREE\n",
        "a[LASTTHREE]"
      ],
      "execution_count": 0,
      "outputs": [
        {
          "output_type": "execute_result",
          "data": {
            "text/plain": [
              "[3, 4, 5]"
            ]
          },
          "metadata": {
            "tags": []
          },
          "execution_count": 38
        }
      ]
    },
    {
      "cell_type": "code",
      "metadata": {
        "id": "pJBngMXq3eSi",
        "colab_type": "code",
        "colab": {},
        "outputId": "9814c9bf-cc5f-4577-b7a5-15e037326e81"
      },
      "source": [
        "a = [\"foo\", \"bar\", \"baz\"]\n",
        "a.index(\"bar\")"
      ],
      "execution_count": 0,
      "outputs": [
        {
          "output_type": "execute_result",
          "data": {
            "text/plain": [
              "1"
            ]
          },
          "metadata": {
            "tags": []
          },
          "execution_count": 39
        }
      ]
    },
    {
      "cell_type": "code",
      "metadata": {
        "id": "ohU2cjtd3eSp",
        "colab_type": "code",
        "colab": {},
        "outputId": "c8d7d466-be94-4876-ba26-1ecc224a92e2"
      },
      "source": [
        "a = [2, 3, 1]\n",
        "min(enumerate(a),key=lambda x: x[1])[0]"
      ],
      "execution_count": 0,
      "outputs": [
        {
          "output_type": "execute_result",
          "data": {
            "text/plain": [
              "2"
            ]
          },
          "metadata": {
            "tags": []
          },
          "execution_count": 40
        }
      ]
    },
    {
      "cell_type": "code",
      "metadata": {
        "id": "23qXPVII3eSr",
        "colab_type": "code",
        "colab": {},
        "outputId": "cc04711a-77de-4eba-cd2b-55babd6be3ef"
      },
      "source": [
        "a = [1, 2, 3, 4]\n",
        "k = 2\n",
        "a[-2:] + a[:-2]"
      ],
      "execution_count": 0,
      "outputs": [
        {
          "output_type": "execute_result",
          "data": {
            "text/plain": [
              "[3, 4, 1, 2]"
            ]
          },
          "metadata": {
            "tags": []
          },
          "execution_count": 41
        }
      ]
    },
    {
      "cell_type": "code",
      "metadata": {
        "id": "f-vUy65R3eSt",
        "colab_type": "code",
        "colab": {}
      },
      "source": [
        "name = \"//George//\""
      ],
      "execution_count": 0,
      "outputs": []
    },
    {
      "cell_type": "code",
      "metadata": {
        "id": "nysPLa613eSv",
        "colab_type": "code",
        "colab": {},
        "outputId": "d6c23bf0-92e1-4036-fffc-1f4bcf0bf2f0"
      },
      "source": [
        "name.strip(\"/\")"
      ],
      "execution_count": 0,
      "outputs": [
        {
          "output_type": "execute_result",
          "data": {
            "text/plain": [
              "'George'"
            ]
          },
          "metadata": {
            "tags": []
          },
          "execution_count": 43
        }
      ]
    },
    {
      "cell_type": "code",
      "metadata": {
        "id": "Jc08xQLh3eSx",
        "colab_type": "code",
        "colab": {},
        "outputId": "59141e98-696b-4ed5-f012-8d28f5accdb4"
      },
      "source": [
        "name.rstrip(\"/\")"
      ],
      "execution_count": 0,
      "outputs": [
        {
          "output_type": "execute_result",
          "data": {
            "text/plain": [
              "'//George'"
            ]
          },
          "metadata": {
            "tags": []
          },
          "execution_count": 44
        }
      ]
    },
    {
      "cell_type": "code",
      "metadata": {
        "id": "uWoKvxPc3eSy",
        "colab_type": "code",
        "colab": {},
        "outputId": "56a757b4-c909-492c-a534-904a51bc9221"
      },
      "source": [
        "name.lstrip(\"/\")"
      ],
      "execution_count": 0,
      "outputs": [
        {
          "output_type": "execute_result",
          "data": {
            "text/plain": [
              "'George//'"
            ]
          },
          "metadata": {
            "tags": []
          },
          "execution_count": 45
        }
      ]
    },
    {
      "cell_type": "code",
      "metadata": {
        "id": "4zoOoo-w3eS0",
        "colab_type": "code",
        "colab": {},
        "outputId": "3443c1d8-f4ec-42fe-a701-090536fc8cbc"
      },
      "source": [
        "s = \"abc\"\n",
        "s[::-1]"
      ],
      "execution_count": 0,
      "outputs": [
        {
          "output_type": "execute_result",
          "data": {
            "text/plain": [
              "'cba'"
            ]
          },
          "metadata": {
            "tags": []
          },
          "execution_count": 46
        }
      ]
    },
    {
      "cell_type": "code",
      "metadata": {
        "id": "HSiQDfro3eS3",
        "colab_type": "code",
        "colab": {},
        "outputId": "1eba3b13-88e4-4180-b9a4-b3512d22ec38"
      },
      "source": [
        "l = [\"a\", \"b\", \"c\"]\n",
        "l[::-1]"
      ],
      "execution_count": 0,
      "outputs": [
        {
          "output_type": "execute_result",
          "data": {
            "text/plain": [
              "['c', 'b', 'a']"
            ]
          },
          "metadata": {
            "tags": []
          },
          "execution_count": 47
        }
      ]
    },
    {
      "cell_type": "markdown",
      "metadata": {
        "id": "kkBbYYR-3eS4",
        "colab_type": "text"
      },
      "source": [
        "### Branching"
      ]
    },
    {
      "cell_type": "code",
      "metadata": {
        "id": "Yh2p2qF43eS5",
        "colab_type": "code",
        "colab": {},
        "outputId": "56c19452-be79-42dd-a598-3462793c742e"
      },
      "source": [
        "n = 10\n",
        "1 < n < 20"
      ],
      "execution_count": 0,
      "outputs": [
        {
          "output_type": "execute_result",
          "data": {
            "text/plain": [
              "True"
            ]
          },
          "metadata": {
            "tags": []
          },
          "execution_count": 48
        }
      ]
    },
    {
      "cell_type": "code",
      "metadata": {
        "id": "d3hTL6Ef3eS8",
        "colab_type": "code",
        "colab": {},
        "outputId": "4066e88a-1993-43fa-93ae-3ed0ce13b9d8"
      },
      "source": [
        "for i in mylist:\n",
        "    if i == theflag:\n",
        "        break\n",
        "    process(i)\n",
        "else:\n",
        "    raise ValueError(\"List argument missing terminal flag.\")"
      ],
      "execution_count": 0,
      "outputs": [
        {
          "output_type": "error",
          "ename": "NameError",
          "evalue": "name 'mylist' is not defined",
          "traceback": [
            "\u001b[0;31m---------------------------------------------------------------------------\u001b[0m",
            "\u001b[0;31mNameError\u001b[0m                                 Traceback (most recent call last)",
            "\u001b[0;32m<ipython-input-49-1c43aeaf4f17>\u001b[0m in \u001b[0;36m<module>\u001b[0;34m\u001b[0m\n\u001b[0;32m----> 1\u001b[0;31m \u001b[0;32mfor\u001b[0m \u001b[0mi\u001b[0m \u001b[0;32min\u001b[0m \u001b[0mmylist\u001b[0m\u001b[0;34m:\u001b[0m\u001b[0;34m\u001b[0m\u001b[0;34m\u001b[0m\u001b[0m\n\u001b[0m\u001b[1;32m      2\u001b[0m     \u001b[0;32mif\u001b[0m \u001b[0mi\u001b[0m \u001b[0;34m==\u001b[0m \u001b[0mtheflag\u001b[0m\u001b[0;34m:\u001b[0m\u001b[0;34m\u001b[0m\u001b[0;34m\u001b[0m\u001b[0m\n\u001b[1;32m      3\u001b[0m         \u001b[0;32mbreak\u001b[0m\u001b[0;34m\u001b[0m\u001b[0;34m\u001b[0m\u001b[0m\n\u001b[1;32m      4\u001b[0m     \u001b[0mprocess\u001b[0m\u001b[0;34m(\u001b[0m\u001b[0mi\u001b[0m\u001b[0;34m)\u001b[0m\u001b[0;34m\u001b[0m\u001b[0;34m\u001b[0m\u001b[0m\n\u001b[1;32m      5\u001b[0m \u001b[0;32melse\u001b[0m\u001b[0;34m:\u001b[0m\u001b[0;34m\u001b[0m\u001b[0;34m\u001b[0m\u001b[0m\n",
            "\u001b[0;31mNameError\u001b[0m: name 'mylist' is not defined"
          ]
        }
      ]
    },
    {
      "cell_type": "code",
      "metadata": {
        "id": "G5_GHb2t3eS_",
        "colab_type": "code",
        "colab": {},
        "outputId": "42eb6965-7f7e-4d1b-c456-cf06098e7fbd"
      },
      "source": [
        "\"Python ROCK\" if True else \" I AM GRUMPY\""
      ],
      "execution_count": 0,
      "outputs": [
        {
          "output_type": "execute_result",
          "data": {
            "text/plain": [
              "'Python ROCK'"
            ]
          },
          "metadata": {
            "tags": []
          },
          "execution_count": 51
        }
      ]
    },
    {
      "cell_type": "code",
      "metadata": {
        "id": "fjBIVEE-3eTA",
        "colab_type": "code",
        "colab": {},
        "outputId": "181743f5-8e3a-4ecf-9f92-fe4395530fd7"
      },
      "source": [
        "try:\n",
        "  foo() \n",
        "except Exception: \n",
        "  print(\"Exception occured\")\n",
        "else:\n",
        "  print(\"Exception didnt occur\")\n",
        "finally:\n",
        "  print(\"Always gets here\")"
      ],
      "execution_count": 0,
      "outputs": [
        {
          "output_type": "stream",
          "text": [
            "Exception occured\n",
            "Always gets here\n"
          ],
          "name": "stdout"
        }
      ]
    },
    {
      "cell_type": "code",
      "metadata": {
        "id": "1gwQi4Ss3eTD",
        "colab_type": "code",
        "colab": {},
        "outputId": "81f7f293-8068-4460-d99e-8b7868d91173"
      },
      "source": [
        "i = 5\n",
        "\n",
        "while i > 1:\n",
        "    print(\"Whil-ing away!\")\n",
        "    i -= 1\n",
        "    if i == 3:\n",
        "        break\n",
        "else:\n",
        "    print(\"Finished up!\")"
      ],
      "execution_count": 0,
      "outputs": [
        {
          "output_type": "stream",
          "text": [
            "Whil-ing away!\n",
            "Whil-ing away!\n"
          ],
          "name": "stdout"
        }
      ]
    },
    {
      "cell_type": "markdown",
      "metadata": {
        "id": "pDzltZ_k3eTG",
        "colab_type": "text"
      },
      "source": [
        "### Comprehensions"
      ]
    },
    {
      "cell_type": "code",
      "metadata": {
        "id": "chQ0wPuX3eTG",
        "colab_type": "code",
        "colab": {},
        "outputId": "f394b609-3739-4886-ea13-e301bb1c25a1"
      },
      "source": [
        "m = [x ** 2 for x in range(5)]\n",
        "m"
      ],
      "execution_count": 0,
      "outputs": [
        {
          "output_type": "execute_result",
          "data": {
            "text/plain": [
              "[0, 1, 4, 9, 16]"
            ]
          },
          "metadata": {
            "tags": []
          },
          "execution_count": 54
        }
      ]
    },
    {
      "cell_type": "code",
      "metadata": {
        "id": "P5Jcksop3eTH",
        "colab_type": "code",
        "colab": {},
        "outputId": "3f5b8174-ae39-4a54-86a5-9a94beefc5d0"
      },
      "source": [
        "m = {x ** 2 for x in range(5)}\n",
        "m"
      ],
      "execution_count": 0,
      "outputs": [
        {
          "output_type": "execute_result",
          "data": {
            "text/plain": [
              "{0, 1, 4, 9, 16}"
            ]
          },
          "metadata": {
            "tags": []
          },
          "execution_count": 55
        }
      ]
    },
    {
      "cell_type": "code",
      "metadata": {
        "id": "Iq6ncTNQ3eTJ",
        "colab_type": "code",
        "colab": {},
        "outputId": "e3283bb3-895a-4e86-82d3-50e549937951"
      },
      "source": [
        "m = {x: x ** 2 for x in range(5)}\n",
        "m"
      ],
      "execution_count": 0,
      "outputs": [
        {
          "output_type": "execute_result",
          "data": {
            "text/plain": [
              "{0: 0, 1: 1, 2: 4, 3: 9, 4: 16}"
            ]
          },
          "metadata": {
            "tags": []
          },
          "execution_count": 56
        }
      ]
    },
    {
      "cell_type": "code",
      "metadata": {
        "id": "0P4ZZIN13eTN",
        "colab_type": "code",
        "colab": {},
        "outputId": "0ec01130-6990-423d-c8f1-53b41a40c5f2"
      },
      "source": [
        "m = (x ** 2 for x in range(5))\n",
        "m"
      ],
      "execution_count": 0,
      "outputs": [
        {
          "output_type": "execute_result",
          "data": {
            "text/plain": [
              "<generator object <genexpr> at 0x108de1b10>"
            ]
          },
          "metadata": {
            "tags": []
          },
          "execution_count": 57
        }
      ]
    },
    {
      "cell_type": "code",
      "metadata": {
        "id": "n97wcprq3eTQ",
        "colab_type": "code",
        "colab": {},
        "outputId": "052e7e06-31e1-4451-afa9-e6f7c19df0f7"
      },
      "source": [
        "list(m)"
      ],
      "execution_count": 0,
      "outputs": [
        {
          "output_type": "execute_result",
          "data": {
            "text/plain": [
              "[0, 1, 4, 9, 16]"
            ]
          },
          "metadata": {
            "tags": []
          },
          "execution_count": 58
        }
      ]
    },
    {
      "cell_type": "code",
      "metadata": {
        "id": "83H4bJu_3eTR",
        "colab_type": "code",
        "colab": {},
        "outputId": "9db2a25d-45b3-4b22-87c3-8ea6f1c5502a"
      },
      "source": [
        "m = (x ** 2 for x in range(5))\n",
        "next(m)"
      ],
      "execution_count": 0,
      "outputs": [
        {
          "output_type": "execute_result",
          "data": {
            "text/plain": [
              "0"
            ]
          },
          "metadata": {
            "tags": []
          },
          "execution_count": 59
        }
      ]
    },
    {
      "cell_type": "code",
      "metadata": {
        "id": "kQ_5QiRP3eTT",
        "colab_type": "code",
        "colab": {},
        "outputId": "4944ccc3-0b08-4486-85ee-7d3db5200891"
      },
      "source": [
        "list(m)"
      ],
      "execution_count": 0,
      "outputs": [
        {
          "output_type": "execute_result",
          "data": {
            "text/plain": [
              "[1, 4, 9, 16]"
            ]
          },
          "metadata": {
            "tags": []
          },
          "execution_count": 60
        }
      ]
    },
    {
      "cell_type": "code",
      "metadata": {
        "id": "3b70hb3Z3eTX",
        "colab_type": "code",
        "colab": {},
        "outputId": "1a73c709-db17-451d-e6d6-af802a6d1420"
      },
      "source": [
        "a = [1, 2, 4,2]\n",
        "[y - x for x,y in zip(a,a[1:])]"
      ],
      "execution_count": 0,
      "outputs": [
        {
          "output_type": "execute_result",
          "data": {
            "text/plain": [
              "[1, 2, -2]"
            ]
          },
          "metadata": {
            "tags": []
          },
          "execution_count": 62
        }
      ]
    },
    {
      "cell_type": "markdown",
      "metadata": {
        "id": "7PGjGkAQ3eTZ",
        "colab_type": "text"
      },
      "source": [
        "### Unpacking"
      ]
    },
    {
      "cell_type": "code",
      "metadata": {
        "id": "tMQN1Ymf3eTZ",
        "colab_type": "code",
        "colab": {},
        "outputId": "8c12c5f8-96d5-47f9-e413-fdc4b556fea4"
      },
      "source": [
        "a, b, c = 1, 2, 3\n",
        "a, b, c"
      ],
      "execution_count": 0,
      "outputs": [
        {
          "output_type": "execute_result",
          "data": {
            "text/plain": [
              "(1, 2, 3)"
            ]
          },
          "metadata": {
            "tags": []
          },
          "execution_count": 63
        }
      ]
    },
    {
      "cell_type": "code",
      "metadata": {
        "id": "xcoID79O3eTb",
        "colab_type": "code",
        "colab": {},
        "outputId": "1f267052-d37c-4939-bd7d-7b8adbec9de5"
      },
      "source": [
        "a, b, c = [1, 2, 3]\n",
        "a, b, c"
      ],
      "execution_count": 0,
      "outputs": [
        {
          "output_type": "execute_result",
          "data": {
            "text/plain": [
              "(1, 2, 3)"
            ]
          },
          "metadata": {
            "tags": []
          },
          "execution_count": 64
        }
      ]
    },
    {
      "cell_type": "code",
      "metadata": {
        "id": "_qxBS7ma3eTe",
        "colab_type": "code",
        "colab": {},
        "outputId": "89ba135e-08fa-4196-bb80-4cb8173938f1"
      },
      "source": [
        "a, b = 1, 2\n",
        "a, b = b, a\n",
        "a, b"
      ],
      "execution_count": 0,
      "outputs": [
        {
          "output_type": "execute_result",
          "data": {
            "text/plain": [
              "(2, 1)"
            ]
          },
          "metadata": {
            "tags": []
          },
          "execution_count": 65
        }
      ]
    },
    {
      "cell_type": "code",
      "metadata": {
        "id": "03TrR9Br3eTh",
        "colab_type": "code",
        "colab": {},
        "outputId": "49cb597d-0e45-491d-94cf-c6febb7ce31c"
      },
      "source": [
        "a, *b, c = [1, 2, 3, 4, 5]\n",
        "a"
      ],
      "execution_count": 0,
      "outputs": [
        {
          "output_type": "execute_result",
          "data": {
            "text/plain": [
              "1"
            ]
          },
          "metadata": {
            "tags": []
          },
          "execution_count": 66
        }
      ]
    },
    {
      "cell_type": "code",
      "metadata": {
        "id": "nB3x0OOJ3eTj",
        "colab_type": "code",
        "colab": {},
        "outputId": "bc0c89fe-41c2-4a32-d12e-2b2bb3bdf987"
      },
      "source": [
        "b"
      ],
      "execution_count": 0,
      "outputs": [
        {
          "output_type": "execute_result",
          "data": {
            "text/plain": [
              "[2, 3, 4]"
            ]
          },
          "metadata": {
            "tags": []
          },
          "execution_count": 67
        }
      ]
    },
    {
      "cell_type": "code",
      "metadata": {
        "id": "jyPtvnoI3eTk",
        "colab_type": "code",
        "colab": {},
        "outputId": "1039c758-5c6b-4402-ce75-de9ff043c254"
      },
      "source": [
        "c"
      ],
      "execution_count": 0,
      "outputs": [
        {
          "output_type": "execute_result",
          "data": {
            "text/plain": [
              "5"
            ]
          },
          "metadata": {
            "tags": []
          },
          "execution_count": 68
        }
      ]
    },
    {
      "cell_type": "code",
      "metadata": {
        "id": "aXMCJPz13eTm",
        "colab_type": "code",
        "colab": {},
        "outputId": "a1ff5199-3d44-43a4-9a31-21acb55db6a1"
      },
      "source": [
        "def test(x, y, z):\n",
        "    print(x, y, z)  \n",
        "\n",
        "res = test(*[10, 20, 30]) "
      ],
      "execution_count": 0,
      "outputs": [
        {
          "output_type": "stream",
          "text": [
            "10 20 30\n"
          ],
          "name": "stdout"
        }
      ]
    },
    {
      "cell_type": "code",
      "metadata": {
        "id": "GzXwDgNH3eTn",
        "colab_type": "code",
        "colab": {},
        "outputId": "28ecbf24-a4e4-4741-cfc6-ea471292163a"
      },
      "source": [
        "res = test(**{'x': 1, 'y': 2, 'z': 3} )"
      ],
      "execution_count": 0,
      "outputs": [
        {
          "output_type": "stream",
          "text": [
            "1 2 3\n"
          ],
          "name": "stdout"
        }
      ]
    },
    {
      "cell_type": "markdown",
      "metadata": {
        "id": "1RJmGL6k3eTs",
        "colab_type": "text"
      },
      "source": [
        "### itertools()"
      ]
    },
    {
      "cell_type": "code",
      "metadata": {
        "id": "4Jr4UOat3eTs",
        "colab_type": "code",
        "colab": {},
        "outputId": "f4321240-fcdf-46bb-a818-e19335fbe4a5"
      },
      "source": [
        "import itertools\n",
        "\n",
        "a = [[1, 2], [3, 4], [5, 6]]\n",
        "list(itertools.chain.from_iterable(a))"
      ],
      "execution_count": 0,
      "outputs": [
        {
          "output_type": "execute_result",
          "data": {
            "text/plain": [
              "[1, 2, 3, 4, 5, 6]"
            ]
          },
          "metadata": {
            "tags": []
          },
          "execution_count": 76
        }
      ]
    },
    {
      "cell_type": "code",
      "metadata": {
        "id": "NwkMJ23E3eTw",
        "colab_type": "code",
        "colab": {},
        "outputId": "8f2edc4f-e0d1-4eb1-cbb4-90e4f970e4f3"
      },
      "source": [
        "for p in itertools.product([1, 2, 3], [4, 5]):\n",
        "    print(p)"
      ],
      "execution_count": 0,
      "outputs": [
        {
          "output_type": "stream",
          "text": [
            "(1, 4)\n",
            "(1, 5)\n",
            "(2, 4)\n",
            "(2, 5)\n",
            "(3, 4)\n",
            "(3, 5)\n"
          ],
          "name": "stdout"
        }
      ]
    },
    {
      "cell_type": "code",
      "metadata": {
        "id": "pFhtAkxb3eTx",
        "colab_type": "code",
        "colab": {},
        "outputId": "74c2dc7a-c1d5-4905-8751-7744776f6fbf"
      },
      "source": [
        "for p in itertools.permutations([1, 2, 3]):\n",
        "    print(p)"
      ],
      "execution_count": 0,
      "outputs": [
        {
          "output_type": "stream",
          "text": [
            "(1, 2, 3)\n",
            "(1, 3, 2)\n",
            "(2, 1, 3)\n",
            "(2, 3, 1)\n",
            "(3, 1, 2)\n",
            "(3, 2, 1)\n"
          ],
          "name": "stdout"
        }
      ]
    },
    {
      "cell_type": "code",
      "metadata": {
        "id": "SQ4_3EXR3eTz",
        "colab_type": "code",
        "colab": {}
      },
      "source": [
        "from itertools import islice\n",
        "\n",
        "def n_grams(a, n):\n",
        "    z = (islice(a, i, None) for i in range(n))\n",
        "    return zip(*z)"
      ],
      "execution_count": 0,
      "outputs": []
    },
    {
      "cell_type": "code",
      "metadata": {
        "id": "wbaJxb-W3eT2",
        "colab_type": "code",
        "colab": {},
        "outputId": "1768baaf-7a8a-4c88-cfc0-16d846de2c85"
      },
      "source": [
        "a = [1, 2, 3, 4, 5, 6]\n",
        "list(n_grams(a,3))"
      ],
      "execution_count": 0,
      "outputs": [
        {
          "output_type": "execute_result",
          "data": {
            "text/plain": [
              "[(1, 2, 3), (2, 3, 4), (3, 4, 5), (4, 5, 6)]"
            ]
          },
          "metadata": {
            "tags": []
          },
          "execution_count": 82
        }
      ]
    },
    {
      "cell_type": "code",
      "metadata": {
        "id": "lvdDM2iJ3eT4",
        "colab_type": "code",
        "colab": {},
        "outputId": "c5bf3563-05d1-46ac-90b8-03aa79ebe5b0"
      },
      "source": [
        "list(n_grams(a,2))"
      ],
      "execution_count": 0,
      "outputs": [
        {
          "output_type": "execute_result",
          "data": {
            "text/plain": [
              "[(1, 2), (2, 3), (3, 4), (4, 5), (5, 6)]"
            ]
          },
          "metadata": {
            "tags": []
          },
          "execution_count": 83
        }
      ]
    },
    {
      "cell_type": "code",
      "metadata": {
        "id": "8vA6ZXtv3eT6",
        "colab_type": "code",
        "colab": {},
        "outputId": "674d3d74-8237-4c19-c314-59e28832ced0"
      },
      "source": [
        "list(n_grams(a,4))"
      ],
      "execution_count": 0,
      "outputs": [
        {
          "output_type": "execute_result",
          "data": {
            "text/plain": [
              "[(1, 2, 3, 4), (2, 3, 4, 5), (3, 4, 5, 6)]"
            ]
          },
          "metadata": {
            "tags": []
          },
          "execution_count": 84
        }
      ]
    },
    {
      "cell_type": "code",
      "metadata": {
        "id": "RVbXEpLa3eT_",
        "colab_type": "code",
        "colab": {},
        "outputId": "1616c96f-20bf-4fbe-da2f-660d81494857"
      },
      "source": [
        "import itertools as it\n",
        "x = [1, 2, 3, 4, 5]\n",
        "y = ['a', 'b', 'c']\n",
        "list(zip(x, y))"
      ],
      "execution_count": 0,
      "outputs": [
        {
          "output_type": "execute_result",
          "data": {
            "text/plain": [
              "[(1, 'a'), (2, 'b'), (3, 'c')]"
            ]
          },
          "metadata": {
            "tags": []
          },
          "execution_count": 85
        }
      ]
    },
    {
      "cell_type": "code",
      "metadata": {
        "id": "0e_6B3Gd3eUC",
        "colab_type": "code",
        "colab": {},
        "outputId": "b786fadb-cc3d-468d-d269-d23cc1249e78"
      },
      "source": [
        "list(it.zip_longest(x, y))"
      ],
      "execution_count": 0,
      "outputs": [
        {
          "output_type": "execute_result",
          "data": {
            "text/plain": [
              "[(1, 'a'), (2, 'b'), (3, 'c'), (4, None), (5, None)]"
            ]
          },
          "metadata": {
            "tags": []
          },
          "execution_count": 86
        }
      ]
    },
    {
      "cell_type": "code",
      "metadata": {
        "id": "-i5rd07A3eUE",
        "colab_type": "code",
        "colab": {}
      },
      "source": [
        "import itertools\n",
        "bills = [20, 20, 20, 10, 10, 10, 10, 10, 5, 5, 1, 1, 1, 1, 1]\n",
        "#list(itertools.combinations(bills, 10))"
      ],
      "execution_count": 0,
      "outputs": []
    },
    {
      "cell_type": "code",
      "metadata": {
        "id": "ZQrD9Jic3eUF",
        "colab_type": "code",
        "colab": {},
        "outputId": "a82f2076-3221-4977-c0c4-8dd1e06eea18"
      },
      "source": [
        "import itertools\n",
        "list(itertools.accumulate([9, 21, 17, 5, 11, 12, 2, 6], min))"
      ],
      "execution_count": 0,
      "outputs": [
        {
          "output_type": "execute_result",
          "data": {
            "text/plain": [
              "[9, 9, 9, 5, 5, 5, 2, 2]"
            ]
          },
          "metadata": {
            "tags": []
          },
          "execution_count": 90
        }
      ]
    },
    {
      "cell_type": "code",
      "metadata": {
        "id": "XWNZKFI13eUH",
        "colab_type": "code",
        "colab": {},
        "outputId": "b88dd760-04dd-4944-8146-306df0cd7938"
      },
      "source": [
        "import itertools\n",
        "list(itertools.takewhile(lambda x: x < 3, [0, 1, 2, 3, 4]))"
      ],
      "execution_count": 0,
      "outputs": [
        {
          "output_type": "execute_result",
          "data": {
            "text/plain": [
              "[0, 1, 2]"
            ]
          },
          "metadata": {
            "tags": []
          },
          "execution_count": 92
        }
      ]
    },
    {
      "cell_type": "code",
      "metadata": {
        "id": "zNWKNYNc3eUJ",
        "colab_type": "code",
        "colab": {},
        "outputId": "d25979de-9b6f-4110-94dd-ac5fd6ce4107"
      },
      "source": [
        "list(it.dropwhile(lambda x: x < 3, [0, 1, 2, 3, 4]))"
      ],
      "execution_count": 0,
      "outputs": [
        {
          "output_type": "execute_result",
          "data": {
            "text/plain": [
              "[3, 4]"
            ]
          },
          "metadata": {
            "tags": []
          },
          "execution_count": 94
        }
      ]
    },
    {
      "cell_type": "code",
      "metadata": {
        "id": "krNEsYQO3eUM",
        "colab_type": "code",
        "colab": {},
        "outputId": "a5ec6dc8-a215-4785-93ff-ee6c189f81e8"
      },
      "source": [
        "import itertools\n",
        "# keeping only false values\n",
        "list(itertools.filterfalse(bool, [None, False, 1, 0, 10]))"
      ],
      "execution_count": 0,
      "outputs": [
        {
          "output_type": "execute_result",
          "data": {
            "text/plain": [
              "[None, False, 0]"
            ]
          },
          "metadata": {
            "tags": []
          },
          "execution_count": 95
        }
      ]
    },
    {
      "cell_type": "code",
      "metadata": {
        "id": "SWQBMXSE3eUO",
        "colab_type": "code",
        "colab": {},
        "outputId": "b6b3025c-18aa-4fd2-dbae-63e9b34575ec"
      },
      "source": [
        "import itertools \n",
        "import operator\n",
        "a = [(2, 6), (8, 4), (7, 3)]\n",
        "list(itertools.starmap(operator.mul, a))"
      ],
      "execution_count": 0,
      "outputs": [
        {
          "output_type": "execute_result",
          "data": {
            "text/plain": [
              "[12, 32, 21]"
            ]
          },
          "metadata": {
            "tags": []
          },
          "execution_count": 96
        }
      ]
    },
    {
      "cell_type": "code",
      "metadata": {
        "id": "0W1c0kW83eUQ",
        "colab_type": "code",
        "colab": {},
        "outputId": "d62982bc-f2fa-46ac-907c-b5a661c87d14"
      },
      "source": [
        "itertools.starmap?"
      ],
      "execution_count": 0,
      "outputs": [
        {
          "output_type": "display_data",
          "data": {
            "text/plain": [
              "\u001b[0;31mInit signature:\u001b[0m \u001b[0mitertools\u001b[0m\u001b[0;34m.\u001b[0m\u001b[0mstarmap\u001b[0m\u001b[0;34m(\u001b[0m\u001b[0mself\u001b[0m\u001b[0;34m,\u001b[0m \u001b[0;34m/\u001b[0m\u001b[0;34m,\u001b[0m \u001b[0;34m*\u001b[0m\u001b[0margs\u001b[0m\u001b[0;34m,\u001b[0m \u001b[0;34m**\u001b[0m\u001b[0mkwargs\u001b[0m\u001b[0;34m)\u001b[0m\u001b[0;34m\u001b[0m\u001b[0;34m\u001b[0m\u001b[0m\n",
              "\u001b[0;31mDocstring:\u001b[0m     \n",
              "starmap(function, sequence) --> starmap object\n",
              "\n",
              "Return an iterator whose values are returned from the function evaluated\n",
              "with an argument tuple taken from the given sequence.\n",
              "\u001b[0;31mType:\u001b[0m           type\n",
              "\u001b[0;31mSubclasses:\u001b[0m     \n"
            ]
          },
          "metadata": {
            "tags": []
          }
        }
      ]
    },
    {
      "cell_type": "markdown",
      "metadata": {
        "id": "f2p_F6FG3eUS",
        "colab_type": "text"
      },
      "source": [
        "### Collections"
      ]
    },
    {
      "cell_type": "code",
      "metadata": {
        "id": "Zk53y-2N3eUS",
        "colab_type": "code",
        "colab": {},
        "outputId": "fe964eed-879e-4a73-c361-0be1707c0782"
      },
      "source": [
        "A = {1, 2, 3, 3}\n",
        "A"
      ],
      "execution_count": 0,
      "outputs": [
        {
          "output_type": "execute_result",
          "data": {
            "text/plain": [
              "{1, 2, 3}"
            ]
          },
          "metadata": {
            "tags": []
          },
          "execution_count": 101
        }
      ]
    },
    {
      "cell_type": "code",
      "metadata": {
        "id": "X-EeTJvY3eUU",
        "colab_type": "code",
        "colab": {},
        "outputId": "8cfa9ae6-5ac2-446a-98a1-f04ff0391ed4"
      },
      "source": [
        "B = {3, 4, 5, 6, 7}\n",
        "B"
      ],
      "execution_count": 0,
      "outputs": [
        {
          "output_type": "execute_result",
          "data": {
            "text/plain": [
              "{3, 4, 5, 6, 7}"
            ]
          },
          "metadata": {
            "tags": []
          },
          "execution_count": 102
        }
      ]
    },
    {
      "cell_type": "code",
      "metadata": {
        "id": "zFSyu_t63eUW",
        "colab_type": "code",
        "colab": {},
        "outputId": "bd372790-a74a-4a32-916a-ff2fd8ebeafa"
      },
      "source": [
        "A | B"
      ],
      "execution_count": 0,
      "outputs": [
        {
          "output_type": "execute_result",
          "data": {
            "text/plain": [
              "{1, 2, 3, 4, 5, 6, 7}"
            ]
          },
          "metadata": {
            "tags": []
          },
          "execution_count": 103
        }
      ]
    },
    {
      "cell_type": "code",
      "metadata": {
        "id": "9dKH_iZl3eUX",
        "colab_type": "code",
        "colab": {},
        "outputId": "20b5f4c2-ff71-49d0-fd1a-667f912d59a7"
      },
      "source": [
        "A & B"
      ],
      "execution_count": 0,
      "outputs": [
        {
          "output_type": "execute_result",
          "data": {
            "text/plain": [
              "{3}"
            ]
          },
          "metadata": {
            "tags": []
          },
          "execution_count": 104
        }
      ]
    },
    {
      "cell_type": "code",
      "metadata": {
        "id": "rKDsQpjJ3eUZ",
        "colab_type": "code",
        "colab": {},
        "outputId": "575d9c9d-4579-41a7-b9c3-1636624147f9"
      },
      "source": [
        "A - B"
      ],
      "execution_count": 0,
      "outputs": [
        {
          "output_type": "execute_result",
          "data": {
            "text/plain": [
              "{1, 2}"
            ]
          },
          "metadata": {
            "tags": []
          },
          "execution_count": 105
        }
      ]
    },
    {
      "cell_type": "code",
      "metadata": {
        "id": "-DE0uyDr3eUe",
        "colab_type": "code",
        "colab": {},
        "outputId": "33e8e8cd-c23e-4b68-ccfe-0f2c5135e75c"
      },
      "source": [
        "B - A"
      ],
      "execution_count": 0,
      "outputs": [
        {
          "output_type": "execute_result",
          "data": {
            "text/plain": [
              "{4, 5, 6, 7}"
            ]
          },
          "metadata": {
            "tags": []
          },
          "execution_count": 106
        }
      ]
    },
    {
      "cell_type": "code",
      "metadata": {
        "id": "MtwOFE9p3eUi",
        "colab_type": "code",
        "colab": {},
        "outputId": "7bdc8dea-6d42-4d4a-e174-45802a6f1be6"
      },
      "source": [
        "A ^ B"
      ],
      "execution_count": 0,
      "outputs": [
        {
          "output_type": "execute_result",
          "data": {
            "text/plain": [
              "{1, 2, 4, 5, 6, 7}"
            ]
          },
          "metadata": {
            "tags": []
          },
          "execution_count": 107
        }
      ]
    },
    {
      "cell_type": "code",
      "metadata": {
        "id": "JTbc86zY3eUk",
        "colab_type": "code",
        "colab": {},
        "outputId": "05ac8726-9dfe-4c18-baaa-6c020bc0b99e"
      },
      "source": [
        "(A ^ B) == ((A - B) | (B - A))"
      ],
      "execution_count": 0,
      "outputs": [
        {
          "output_type": "execute_result",
          "data": {
            "text/plain": [
              "True"
            ]
          },
          "metadata": {
            "tags": []
          },
          "execution_count": 108
        }
      ]
    },
    {
      "cell_type": "code",
      "metadata": {
        "id": "vo9dF37s3eUo",
        "colab_type": "code",
        "colab": {},
        "outputId": "5ee322cf-46b8-467b-a41f-72227f3770e6"
      },
      "source": [
        "import collections\n",
        "\n",
        "A = collections.Counter([1, 1, 2, 2, 3, 3, 3, 3, 4, 5, 6, 7])\n",
        "A"
      ],
      "execution_count": 0,
      "outputs": [
        {
          "output_type": "execute_result",
          "data": {
            "text/plain": [
              "Counter({1: 2, 2: 2, 3: 4, 4: 1, 5: 1, 6: 1, 7: 1})"
            ]
          },
          "metadata": {
            "tags": []
          },
          "execution_count": 109
        }
      ]
    },
    {
      "cell_type": "code",
      "metadata": {
        "id": "spBserIC3eUr",
        "colab_type": "code",
        "colab": {},
        "outputId": "5fb5556c-35ef-476b-bc09-7af84038d02b"
      },
      "source": [
        "A.most_common(1)"
      ],
      "execution_count": 0,
      "outputs": [
        {
          "output_type": "execute_result",
          "data": {
            "text/plain": [
              "[(3, 4)]"
            ]
          },
          "metadata": {
            "tags": []
          },
          "execution_count": 110
        }
      ]
    },
    {
      "cell_type": "code",
      "metadata": {
        "id": "JBWafd3w3eUt",
        "colab_type": "code",
        "colab": {},
        "outputId": "937b8e2e-8545-4ec3-b2e0-36b62c5dc54d"
      },
      "source": [
        "A.most_common(3)"
      ],
      "execution_count": 0,
      "outputs": [
        {
          "output_type": "execute_result",
          "data": {
            "text/plain": [
              "[(3, 4), (1, 2), (2, 2)]"
            ]
          },
          "metadata": {
            "tags": []
          },
          "execution_count": 111
        }
      ]
    },
    {
      "cell_type": "code",
      "metadata": {
        "id": "dUFyZ29V3eUw",
        "colab_type": "code",
        "colab": {},
        "outputId": "0bfd5cd0-d14e-4873-f2f5-ae6f93f9fd38"
      },
      "source": [
        "# Default dictionary structure\n",
        "import collections\n",
        "m = collections.defaultdict(int)\n",
        "m['a']"
      ],
      "execution_count": 0,
      "outputs": [
        {
          "output_type": "execute_result",
          "data": {
            "text/plain": [
              "0"
            ]
          },
          "metadata": {
            "tags": []
          },
          "execution_count": 112
        }
      ]
    },
    {
      "cell_type": "code",
      "metadata": {
        "id": "s60jRSRh3eUz",
        "colab_type": "code",
        "colab": {},
        "outputId": "53d48336-0684-459f-fdd4-1db2c4777c1d"
      },
      "source": [
        "m = collections.defaultdict(str)\n",
        "m['a']"
      ],
      "execution_count": 0,
      "outputs": [
        {
          "output_type": "execute_result",
          "data": {
            "text/plain": [
              "''"
            ]
          },
          "metadata": {
            "tags": []
          },
          "execution_count": 113
        }
      ]
    },
    {
      "cell_type": "code",
      "metadata": {
        "id": "wAyiuQpw3eU1",
        "colab_type": "code",
        "colab": {},
        "outputId": "c97bb19a-bbd9-4ef0-b7df-88a36ec6d830"
      },
      "source": [
        "m['b'] += 'a'\n",
        "m['b']"
      ],
      "execution_count": 0,
      "outputs": [
        {
          "output_type": "execute_result",
          "data": {
            "text/plain": [
              "'aa'"
            ]
          },
          "metadata": {
            "tags": []
          },
          "execution_count": 115
        }
      ]
    },
    {
      "cell_type": "code",
      "metadata": {
        "id": "sBNYIX0E3eU6",
        "colab_type": "code",
        "colab": {},
        "outputId": "06abd03a-6c2e-41a5-a0b2-23f3f7b94aa8"
      },
      "source": [
        "m = collections.defaultdict(lambda: '[default value]')\n",
        "m['a']"
      ],
      "execution_count": 0,
      "outputs": [
        {
          "output_type": "execute_result",
          "data": {
            "text/plain": [
              "'[default value]'"
            ]
          },
          "metadata": {
            "tags": []
          },
          "execution_count": 116
        }
      ]
    },
    {
      "cell_type": "code",
      "metadata": {
        "id": "zyjQXLSR3eU_",
        "colab_type": "code",
        "colab": {},
        "outputId": "05fdce04-7fba-4219-a59b-9f880e6313e7"
      },
      "source": [
        "m = collections.defaultdict(list)\n",
        "m['a']"
      ],
      "execution_count": 0,
      "outputs": [
        {
          "output_type": "execute_result",
          "data": {
            "text/plain": [
              "[]"
            ]
          },
          "metadata": {
            "tags": []
          },
          "execution_count": 117
        }
      ]
    },
    {
      "cell_type": "code",
      "metadata": {
        "id": "gXdfCCmo3eVB",
        "colab_type": "code",
        "colab": {},
        "outputId": "1d4ebf81-a861-4770-85d5-867be658aadd"
      },
      "source": [
        "# Ordered dict structure\n",
        "from collections import OrderedDict\n",
        "\n",
        "d = OrderedDict.fromkeys('abcde')\n",
        "d.move_to_end('b')\n",
        "''.join(d.keys())"
      ],
      "execution_count": 0,
      "outputs": [
        {
          "output_type": "execute_result",
          "data": {
            "text/plain": [
              "'acdeb'"
            ]
          },
          "metadata": {
            "tags": []
          },
          "execution_count": 119
        }
      ]
    },
    {
      "cell_type": "code",
      "metadata": {
        "id": "VkaRrcKQ3eVD",
        "colab_type": "code",
        "colab": {},
        "outputId": "57e1ab14-e273-40c7-a4c8-f2f5b019506f"
      },
      "source": [
        "d.move_to_end('b', last=False)\n",
        "''.join(d.keys())"
      ],
      "execution_count": 0,
      "outputs": [
        {
          "output_type": "execute_result",
          "data": {
            "text/plain": [
              "'bacde'"
            ]
          },
          "metadata": {
            "tags": []
          },
          "execution_count": 120
        }
      ]
    },
    {
      "cell_type": "code",
      "metadata": {
        "id": "f2iU9L-43eVF",
        "colab_type": "code",
        "colab": {},
        "outputId": "c8a32f69-b1e0-4c29-e0d9-f823f94a7ad3"
      },
      "source": [
        "# Deques structures\n",
        "import collections\n",
        "Q = collections.deque()\n",
        "Q.append(1)\n",
        "Q.appendleft(2)\n",
        "Q.extend([3, 4])\n",
        "Q.extendleft([5, 6])\n",
        "Q"
      ],
      "execution_count": 0,
      "outputs": [
        {
          "output_type": "execute_result",
          "data": {
            "text/plain": [
              "deque([6, 5, 2, 1, 3, 4])"
            ]
          },
          "metadata": {
            "tags": []
          },
          "execution_count": 122
        }
      ]
    },
    {
      "cell_type": "code",
      "metadata": {
        "id": "RD4j3Mi53eVG",
        "colab_type": "code",
        "colab": {},
        "outputId": "644c4f9e-5d12-4be9-b03d-1c870c55e4b3"
      },
      "source": [
        "Q.pop()"
      ],
      "execution_count": 0,
      "outputs": [
        {
          "output_type": "execute_result",
          "data": {
            "text/plain": [
              "4"
            ]
          },
          "metadata": {
            "tags": []
          },
          "execution_count": 123
        }
      ]
    },
    {
      "cell_type": "code",
      "metadata": {
        "id": "8Hrnnsxi3eVH",
        "colab_type": "code",
        "colab": {},
        "outputId": "35a5e915-7146-4bfb-b8c0-605c6fe36f90"
      },
      "source": [
        "Q.popleft()"
      ],
      "execution_count": 0,
      "outputs": [
        {
          "output_type": "execute_result",
          "data": {
            "text/plain": [
              "6"
            ]
          },
          "metadata": {
            "tags": []
          },
          "execution_count": 124
        }
      ]
    },
    {
      "cell_type": "code",
      "metadata": {
        "id": "9sVdlNUB3eVI",
        "colab_type": "code",
        "colab": {},
        "outputId": "f7a373ea-5257-4202-856a-dceb0e8b0064"
      },
      "source": [
        "Q"
      ],
      "execution_count": 0,
      "outputs": [
        {
          "output_type": "execute_result",
          "data": {
            "text/plain": [
              "deque([5, 2, 1, 3])"
            ]
          },
          "metadata": {
            "tags": []
          },
          "execution_count": 125
        }
      ]
    },
    {
      "cell_type": "code",
      "metadata": {
        "id": "EzW4GEDZ3eVJ",
        "colab_type": "code",
        "colab": {}
      },
      "source": [
        "Q.rotate(3)"
      ],
      "execution_count": 0,
      "outputs": []
    },
    {
      "cell_type": "code",
      "metadata": {
        "id": "xPIxbrEy3eVK",
        "colab_type": "code",
        "colab": {},
        "outputId": "7e9346f4-139f-4140-ec28-2acddf80025a"
      },
      "source": [
        "Q"
      ],
      "execution_count": 0,
      "outputs": [
        {
          "output_type": "execute_result",
          "data": {
            "text/plain": [
              "deque([2, 1, 3, 5])"
            ]
          },
          "metadata": {
            "tags": []
          },
          "execution_count": 127
        }
      ]
    },
    {
      "cell_type": "code",
      "metadata": {
        "id": "IVG2UW-r3eVL",
        "colab_type": "code",
        "colab": {},
        "outputId": "ed724051-539e-4463-d096-57fd5f0a2199"
      },
      "source": [
        "Q.rotate(-3)\n",
        "Q"
      ],
      "execution_count": 0,
      "outputs": [
        {
          "output_type": "execute_result",
          "data": {
            "text/plain": [
              "deque([5, 2, 1, 3])"
            ]
          },
          "metadata": {
            "tags": []
          },
          "execution_count": 128
        }
      ]
    },
    {
      "cell_type": "code",
      "metadata": {
        "id": "552rrX8z3eVN",
        "colab_type": "code",
        "colab": {},
        "outputId": "e03a76a4-5df1-46a8-8f05-78c49efe0867"
      },
      "source": [
        "last_three = collections.deque(maxlen=3)\n",
        "for i in range(4):\n",
        "    last_three.append(i)\n",
        "    print(', '.join(str(x) for x in last_three))"
      ],
      "execution_count": 0,
      "outputs": [
        {
          "output_type": "stream",
          "text": [
            "0\n",
            "0, 1\n",
            "0, 1, 2\n",
            "1, 2, 3\n"
          ],
          "name": "stdout"
        }
      ]
    },
    {
      "cell_type": "code",
      "metadata": {
        "id": "zW-TfeAK3eVO",
        "colab_type": "code",
        "colab": {},
        "outputId": "b5c6d85b-a11e-45d9-bda4-2df76c6d6378"
      },
      "source": [
        "# Named tuples structure\n",
        "import collections\n",
        "Point = collections.namedtuple('Point', ['x', 'y'])\n",
        "p = Point(x=1.0, y=2.0)\n",
        "p"
      ],
      "execution_count": 0,
      "outputs": [
        {
          "output_type": "execute_result",
          "data": {
            "text/plain": [
              "Point(x=1.0, y=2.0)"
            ]
          },
          "metadata": {
            "tags": []
          },
          "execution_count": 131
        }
      ]
    },
    {
      "cell_type": "code",
      "metadata": {
        "id": "h_wzjmrN3eVQ",
        "colab_type": "code",
        "colab": {},
        "outputId": "0ac5239e-1302-46f1-d094-1157247b25b5"
      },
      "source": [
        "p.x"
      ],
      "execution_count": 0,
      "outputs": [
        {
          "output_type": "execute_result",
          "data": {
            "text/plain": [
              "1.0"
            ]
          },
          "metadata": {
            "tags": []
          },
          "execution_count": 132
        }
      ]
    },
    {
      "cell_type": "code",
      "metadata": {
        "id": "7soDQDuF3eVU",
        "colab_type": "code",
        "colab": {},
        "outputId": "e6597c14-557f-4629-ffc4-f7cffab718ab"
      },
      "source": [
        "p.y"
      ],
      "execution_count": 0,
      "outputs": [
        {
          "output_type": "execute_result",
          "data": {
            "text/plain": [
              "2.0"
            ]
          },
          "metadata": {
            "tags": []
          },
          "execution_count": 133
        }
      ]
    },
    {
      "cell_type": "code",
      "metadata": {
        "id": "SA5Rc-TP3eVW",
        "colab_type": "code",
        "colab": {},
        "outputId": "f1a43dbe-662b-4c88-d1f2-df44f4fefb29"
      },
      "source": [
        "# Dictionary to store switch\n",
        "func_dict = {'sum': lambda x, y: x + y, 'subtract': lambda x, y: x-y}\n",
        "func_dict['sum'](9,3)"
      ],
      "execution_count": 0,
      "outputs": [
        {
          "output_type": "execute_result",
          "data": {
            "text/plain": [
              "12"
            ]
          },
          "metadata": {
            "tags": []
          },
          "execution_count": 137
        }
      ]
    },
    {
      "cell_type": "code",
      "metadata": {
        "id": "DY6rDC5i3eVY",
        "colab_type": "code",
        "colab": {},
        "outputId": "b357ddba-2e73-4dd8-be26-3d8e341cbc5c"
      },
      "source": [
        "func_dict['subtract'](9,3)"
      ],
      "execution_count": 0,
      "outputs": [
        {
          "output_type": "execute_result",
          "data": {
            "text/plain": [
              "6"
            ]
          },
          "metadata": {
            "tags": []
          },
          "execution_count": 138
        }
      ]
    },
    {
      "cell_type": "code",
      "metadata": {
        "id": "r2PPrLYu3eVZ",
        "colab_type": "code",
        "colab": {}
      },
      "source": [
        "# Data classes structure\n",
        "from dataclasses import dataclass\n",
        "\n",
        "@dataclass\n",
        "class InventoryItem:\n",
        "    '''Class for keeping track of an item in inventory.'''\n",
        "    name: str\n",
        "    unit_price: float\n",
        "    quantity_on_hand: int = 0\n",
        "\n",
        "    def total_cost(self) -> float:\n",
        "        return self.unit_price * self.quantity_on_hand"
      ],
      "execution_count": 0,
      "outputs": []
    },
    {
      "cell_type": "code",
      "metadata": {
        "id": "asOuAhW13eVa",
        "colab_type": "code",
        "colab": {},
        "outputId": "948ab083-e994-4b91-8ce0-e554de0a0e71"
      },
      "source": [
        "@dataclass\n",
        "class DataClassCard:\n",
        "    rank: str\n",
        "    suit: str\n",
        "    \n",
        "queen_of_hearts = DataClassCard('Q', 'Hearts')\n",
        "queen_of_hearts.rank"
      ],
      "execution_count": 0,
      "outputs": [
        {
          "output_type": "execute_result",
          "data": {
            "text/plain": [
              "'Q'"
            ]
          },
          "metadata": {
            "tags": []
          },
          "execution_count": 142
        }
      ]
    },
    {
      "cell_type": "code",
      "metadata": {
        "id": "z9bd4P3m3eVc",
        "colab_type": "code",
        "colab": {},
        "outputId": "3effd31e-e250-46cd-8cc5-148e5109628c"
      },
      "source": [
        "queen_of_hearts"
      ],
      "execution_count": 0,
      "outputs": [
        {
          "output_type": "execute_result",
          "data": {
            "text/plain": [
              "DataClassCard(rank='Q', suit='Hearts')"
            ]
          },
          "metadata": {
            "tags": []
          },
          "execution_count": 143
        }
      ]
    },
    {
      "cell_type": "code",
      "metadata": {
        "id": "hpaYWJad3eVd",
        "colab_type": "code",
        "colab": {},
        "outputId": "8d7674af-e085-47ef-c722-cb06c86a4a48"
      },
      "source": [
        "queen_of_hearts == DataClassCard('Q', 'Hearts')"
      ],
      "execution_count": 0,
      "outputs": [
        {
          "output_type": "execute_result",
          "data": {
            "text/plain": [
              "True"
            ]
          },
          "metadata": {
            "tags": []
          },
          "execution_count": 144
        }
      ]
    },
    {
      "cell_type": "code",
      "metadata": {
        "id": "TYt9PdK13eVe",
        "colab_type": "code",
        "colab": {},
        "outputId": "6477d302-448e-44a9-af6b-33d510b34f4f"
      },
      "source": [
        "# This creates a randomized 128-bit number that will almost certainly be unique.\n",
        "# In fact, there are over 2¹²² possible UUIDs that can be generated. That’s over five undecillion (or 5,000,000,000,000,000,000,000,000,000,000,000,000).\n",
        "\n",
        "import uuid\n",
        "user_id = uuid.uuid4()\n",
        "user_id "
      ],
      "execution_count": 0,
      "outputs": [
        {
          "output_type": "execute_result",
          "data": {
            "text/plain": [
              "UUID('fbb0ef00-0e27-489a-972d-847f5ed246c3')"
            ]
          },
          "metadata": {
            "tags": []
          },
          "execution_count": 145
        }
      ]
    },
    {
      "cell_type": "code",
      "metadata": {
        "id": "wtPPLiQm3eVf",
        "colab_type": "code",
        "colab": {}
      },
      "source": [
        "# Memoization using LRU cache.\n",
        "\n",
        "import functools\n",
        "\n",
        "@functools.lru_cache(maxsize=128)\n",
        "def fibonacci(n):\n",
        "    if n == 0:\n",
        "        return 0\n",
        "    elif n == 1:\n",
        "        return 1\n",
        "    return fibonacci(n - 1) + fibonacci(n - 2)"
      ],
      "execution_count": 0,
      "outputs": []
    },
    {
      "cell_type": "code",
      "metadata": {
        "id": "04yCfLPH3eVg",
        "colab_type": "code",
        "colab": {},
        "outputId": "234bfa94-f619-4da7-fd7a-22dc02907371"
      },
      "source": [
        "fibonacci(128)"
      ],
      "execution_count": 0,
      "outputs": [
        {
          "output_type": "execute_result",
          "data": {
            "text/plain": [
              "251728825683549488150424261"
            ]
          },
          "metadata": {
            "tags": []
          },
          "execution_count": 148
        }
      ]
    },
    {
      "cell_type": "code",
      "metadata": {
        "id": "dcsvoPc63eVk",
        "colab_type": "code",
        "colab": {}
      },
      "source": [
        "## Suppression of expressions\n",
        "from contextlib import suppress\n",
        "\n",
        "with suppress(ZeroDivisionError):\n",
        "    10/0\n",
        "# No exception raised"
      ],
      "execution_count": 0,
      "outputs": []
    },
    {
      "cell_type": "markdown",
      "metadata": {
        "id": "nuzFx2UP3eVl",
        "colab_type": "text"
      },
      "source": [
        "## Context managers when setup and teardown\n",
        "\n",
        "https://docs.python.org/2/library/contextlib.html?source=post_page-----e5dbe05212d7----------------------"
      ]
    },
    {
      "cell_type": "code",
      "metadata": {
        "id": "mM5irqGh3eVl",
        "colab_type": "code",
        "colab": {},
        "outputId": "d08d9273-6483-4de9-ad6a-e3bd8e060539"
      },
      "source": [
        "## Filepath\n",
        "\n",
        "from pathlib import Path\n",
        "data_folder = Path(\"source_data/text_files/\")\n",
        "\n",
        "# Path calculation and metadata\n",
        "file_to_open = data_folder/\"raw_data.txt\"\n",
        "file_to_open.name"
      ],
      "execution_count": 0,
      "outputs": [
        {
          "output_type": "execute_result",
          "data": {
            "text/plain": [
              "'raw_data.txt'"
            ]
          },
          "metadata": {
            "tags": []
          },
          "execution_count": 153
        }
      ]
    },
    {
      "cell_type": "code",
      "metadata": {
        "id": "M37RGlYF3eVm",
        "colab_type": "code",
        "colab": {},
        "outputId": "55c1964a-b3fb-4069-f979-dd4fea15b4d7"
      },
      "source": [
        "file_to_open.suffix"
      ],
      "execution_count": 0,
      "outputs": [
        {
          "output_type": "execute_result",
          "data": {
            "text/plain": [
              "'.txt'"
            ]
          },
          "metadata": {
            "tags": []
          },
          "execution_count": 154
        }
      ]
    },
    {
      "cell_type": "code",
      "metadata": {
        "id": "Kk7B6u0H3eVn",
        "colab_type": "code",
        "colab": {},
        "outputId": "b2f492ac-b931-4731-ec01-47bd73872f95"
      },
      "source": [
        "file_to_open.stem"
      ],
      "execution_count": 0,
      "outputs": [
        {
          "output_type": "execute_result",
          "data": {
            "text/plain": [
              "'raw_data'"
            ]
          },
          "metadata": {
            "tags": []
          },
          "execution_count": 155
        }
      ]
    },
    {
      "cell_type": "code",
      "metadata": {
        "id": "ESw-qDGk3eVo",
        "colab_type": "code",
        "colab": {}
      },
      "source": [
        "import io\n",
        "\n",
        "#f = open(file_to_open)"
      ],
      "execution_count": 0,
      "outputs": []
    },
    {
      "cell_type": "markdown",
      "metadata": {
        "id": "5wSExus63eVp",
        "colab_type": "text"
      },
      "source": [
        "## Standard operator\n",
        "https://docs.python.org/3/library/operator.html?source=post_page-----e5dbe05212d7----------------------"
      ]
    },
    {
      "cell_type": "code",
      "metadata": {
        "id": "SgOGNipQ3eVp",
        "colab_type": "code",
        "colab": {},
        "outputId": "126efc23-450d-4f9b-9e33-afcc64342da1"
      },
      "source": [
        "import operator\n",
        "\n",
        "operator.pow(2,5)"
      ],
      "execution_count": 0,
      "outputs": [
        {
          "output_type": "execute_result",
          "data": {
            "text/plain": [
              "32"
            ]
          },
          "metadata": {
            "tags": []
          },
          "execution_count": 159
        }
      ]
    },
    {
      "cell_type": "code",
      "metadata": {
        "id": "wC_6PtbX3eVq",
        "colab_type": "code",
        "colab": {},
        "outputId": "484a1806-e12d-451d-8a1a-e219791a5a35"
      },
      "source": [
        "## Decorator to separate concerns\n",
        "\n",
        "from functools import wraps\n",
        "\n",
        "def add_sandwich(wrapped):\n",
        "    @wraps(wrapped)\n",
        "    def wrapper(*args, **kwargs):\n",
        "        return wrapped(*args, **kwargs) + ' sandwich'\n",
        "        return wrapper\n",
        "\n",
        "@add_sandwich\n",
        "def ham():\n",
        "    return 'ham'\n",
        "\n",
        "ham()"
      ],
      "execution_count": 0,
      "outputs": [
        {
          "output_type": "error",
          "ename": "TypeError",
          "evalue": "'NoneType' object is not callable",
          "traceback": [
            "\u001b[0;31m---------------------------------------------------------------------------\u001b[0m",
            "\u001b[0;31mTypeError\u001b[0m                                 Traceback (most recent call last)",
            "\u001b[0;32m<ipython-input-161-d7d5411c5418>\u001b[0m in \u001b[0;36m<module>\u001b[0;34m\u001b[0m\n\u001b[1;32m     13\u001b[0m     \u001b[0;32mreturn\u001b[0m \u001b[0;34m'ham'\u001b[0m\u001b[0;34m\u001b[0m\u001b[0;34m\u001b[0m\u001b[0m\n\u001b[1;32m     14\u001b[0m \u001b[0;34m\u001b[0m\u001b[0m\n\u001b[0;32m---> 15\u001b[0;31m \u001b[0mham\u001b[0m\u001b[0;34m(\u001b[0m\u001b[0;34m)\u001b[0m\u001b[0;34m\u001b[0m\u001b[0;34m\u001b[0m\u001b[0m\n\u001b[0m",
            "\u001b[0;31mTypeError\u001b[0m: 'NoneType' object is not callable"
          ]
        }
      ]
    },
    {
      "cell_type": "code",
      "metadata": {
        "id": "w9ItffLB3eVr",
        "colab_type": "code",
        "colab": {},
        "outputId": "5f83cd66-7537-47b0-f0f2-82df15490168"
      },
      "source": [
        "## Yield\n",
        "\n",
        "def foo(lst):\n",
        "    for x in lst:\n",
        "        yield x\n",
        "        yield x*2\n",
        "\n",
        "a = [1, 3]\n",
        "list(foo(a))"
      ],
      "execution_count": 0,
      "outputs": [
        {
          "output_type": "execute_result",
          "data": {
            "text/plain": [
              "[1, 2, 3, 6]"
            ]
          },
          "metadata": {
            "tags": []
          },
          "execution_count": 162
        }
      ]
    },
    {
      "cell_type": "markdown",
      "metadata": {
        "id": "TYb8bOXI3eVs",
        "colab_type": "text"
      },
      "source": [
        "https://stackoverflow.com/questions/9708902/in-practice-what-are-the-main-uses-for-the-new-yield-from-syntax-in-python-3?source=post_page-----e5dbe05212d7----------------------"
      ]
    },
    {
      "cell_type": "code",
      "metadata": {
        "id": "CfpB-LWV3eVs",
        "colab_type": "code",
        "colab": {},
        "outputId": "19a7e7e7-9175-4d03-d004-6603b13d90d7"
      },
      "source": [
        "## Antigravity\n",
        "import antigravity\n",
        "\n",
        "antigravity.fly()"
      ],
      "execution_count": 0,
      "outputs": [
        {
          "output_type": "error",
          "ename": "AttributeError",
          "evalue": "module 'antigravity' has no attribute 'fly'",
          "traceback": [
            "\u001b[0;31m---------------------------------------------------------------------------\u001b[0m",
            "\u001b[0;31mAttributeError\u001b[0m                            Traceback (most recent call last)",
            "\u001b[0;32m<ipython-input-177-061af5dd4582>\u001b[0m in \u001b[0;36m<module>\u001b[0;34m\u001b[0m\n\u001b[1;32m      2\u001b[0m \u001b[0;32mimport\u001b[0m \u001b[0mantigravity\u001b[0m\u001b[0;34m\u001b[0m\u001b[0;34m\u001b[0m\u001b[0m\n\u001b[1;32m      3\u001b[0m \u001b[0;34m\u001b[0m\u001b[0m\n\u001b[0;32m----> 4\u001b[0;31m \u001b[0mantigravity\u001b[0m\u001b[0;34m.\u001b[0m\u001b[0mfly\u001b[0m\u001b[0;34m(\u001b[0m\u001b[0;34m)\u001b[0m\u001b[0;34m\u001b[0m\u001b[0;34m\u001b[0m\u001b[0m\n\u001b[0m",
            "\u001b[0;31mAttributeError\u001b[0m: module 'antigravity' has no attribute 'fly'"
          ]
        }
      ]
    },
    {
      "cell_type": "code",
      "metadata": {
        "id": "dbx4zTiL3eVt",
        "colab_type": "code",
        "colab": {},
        "outputId": "6d00cf8e-9e46-4d38-8bac-d28fdcc91bd4"
      },
      "source": [
        "import this"
      ],
      "execution_count": 0,
      "outputs": [
        {
          "output_type": "stream",
          "text": [
            "The Zen of Python, by Tim Peters\n",
            "\n",
            "Beautiful is better than ugly.\n",
            "Explicit is better than implicit.\n",
            "Simple is better than complex.\n",
            "Complex is better than complicated.\n",
            "Flat is better than nested.\n",
            "Sparse is better than dense.\n",
            "Readability counts.\n",
            "Special cases aren't special enough to break the rules.\n",
            "Although practicality beats purity.\n",
            "Errors should never pass silently.\n",
            "Unless explicitly silenced.\n",
            "In the face of ambiguity, refuse the temptation to guess.\n",
            "There should be one-- and preferably only one --obvious way to do it.\n",
            "Although that way may not be obvious at first unless you're Dutch.\n",
            "Now is better than never.\n",
            "Although never is often better than *right* now.\n",
            "If the implementation is hard to explain, it's a bad idea.\n",
            "If the implementation is easy to explain, it may be a good idea.\n",
            "Namespaces are one honking great idea -- let's do more of those!\n"
          ],
          "name": "stdout"
        }
      ]
    },
    {
      "cell_type": "markdown",
      "metadata": {
        "id": "WGkx98BC3eVu",
        "colab_type": "text"
      },
      "source": [
        "## Easter eggs\n",
        "https://github.com/OrkoHunter/python-easter-eggs?source=post_page-----e5dbe05212d7----------------------"
      ]
    },
    {
      "cell_type": "markdown",
      "metadata": {
        "id": "539U-4rM3eVu",
        "colab_type": "text"
      },
      "source": [
        "## Use __main__.py\n",
        "\n",
        "https://shaneoneill.io/2019/06/12/use-__main__-py/?source=post_page-----e5dbe05212d7----------------------"
      ]
    },
    {
      "cell_type": "code",
      "metadata": {
        "id": "GIapOiVR3eVu",
        "colab_type": "code",
        "colab": {},
        "outputId": "0176bda1-70bb-4387-c045-5040dfa6b1ae"
      },
      "source": [
        "# List object structures\n",
        "# dir()\n",
        "# dir(\"hello world\")\n",
        "dir?"
      ],
      "execution_count": 0,
      "outputs": [
        {
          "output_type": "display_data",
          "data": {
            "text/plain": [
              "\u001b[0;31mDocstring:\u001b[0m\n",
              "dir([object]) -> list of strings\n",
              "\n",
              "If called without an argument, return the names in the current scope.\n",
              "Else, return an alphabetized list of names comprising (some of) the attributes\n",
              "of the given object, and of attributes reachable from it.\n",
              "If the object supplies a method named __dir__, it will be used; otherwise\n",
              "the default dir() logic is used and returns:\n",
              "  for a module object: the module's attributes.\n",
              "  for a class object:  its attributes, and recursively the attributes\n",
              "    of its bases.\n",
              "  for any other object: its attributes, its class's attributes, and\n",
              "    recursively the attributes of its class's base classes.\n",
              "\u001b[0;31mType:\u001b[0m      builtin_function_or_method\n"
            ]
          },
          "metadata": {
            "tags": []
          }
        }
      ]
    },
    {
      "cell_type": "code",
      "metadata": {
        "id": "aW-o2cBq3eVw",
        "colab_type": "code",
        "colab": {}
      },
      "source": [
        "import types\n",
        "from inspect import isawaitable\n",
        "# inspect\n",
        "def gen():\n",
        "    yield\n",
        "@types.coroutine\n",
        "def gen_coro():\n",
        "    yield\n",
        "    \n",
        "assert not isawaitable(gen())\n",
        "assert isawaitable(gen_coro())"
      ],
      "execution_count": 0,
      "outputs": []
    },
    {
      "cell_type": "markdown",
      "metadata": {
        "id": "N0F72z7o3eVy",
        "colab_type": "text"
      },
      "source": [
        "## List Comprehensions"
      ]
    },
    {
      "cell_type": "code",
      "metadata": {
        "id": "gsvdJ9rE3m-N",
        "colab_type": "code",
        "colab": {
          "base_uri": "https://localhost:8080/",
          "height": 35
        },
        "outputId": "f7c0524f-ef6e-4b0d-b399-a6b69dea81e5"
      },
      "source": [
        "add_func = lambda z: z ** 2\n",
        "is_odd = lambda z: z%2 == 1\n",
        "multiply = lambda x,y: x*y\n",
        "\n",
        "aList = list(range(10))\n",
        "print(aList)\n",
        "# [0, 1, 2, 3, 4, 5, 6, 7, 8, 9]"
      ],
      "execution_count": 1,
      "outputs": [
        {
          "output_type": "stream",
          "text": [
            "[0, 1, 2, 3, 4, 5, 6, 7, 8, 9]\n"
          ],
          "name": "stdout"
        }
      ]
    },
    {
      "cell_type": "code",
      "metadata": {
        "id": "N7PfYylm3q70",
        "colab_type": "code",
        "colab": {
          "base_uri": "https://localhost:8080/",
          "height": 52
        },
        "outputId": "b2813c80-bf72-4107-f7e4-3aa8cc97b170"
      },
      "source": [
        "print(list(map(add_func, aList)))\n",
        "print([x ** 2 for x in aList])"
      ],
      "execution_count": 2,
      "outputs": [
        {
          "output_type": "stream",
          "text": [
            "[0, 1, 4, 9, 16, 25, 36, 49, 64, 81]\n",
            "[0, 1, 4, 9, 16, 25, 36, 49, 64, 81]\n"
          ],
          "name": "stdout"
        }
      ]
    },
    {
      "cell_type": "code",
      "metadata": {
        "id": "SFWLXpk93x3r",
        "colab_type": "code",
        "colab": {}
      },
      "source": [
        "map?"
      ],
      "execution_count": 0,
      "outputs": []
    },
    {
      "cell_type": "code",
      "metadata": {
        "id": "CK8QTUZs34Ln",
        "colab_type": "code",
        "colab": {
          "base_uri": "https://localhost:8080/",
          "height": 52
        },
        "outputId": "6624d923-7f87-43e7-c8e8-64b22f328952"
      },
      "source": [
        "print(list(filter(is_odd, aList)))\n",
        "print([x for x in aList if x%2 == 1])"
      ],
      "execution_count": 4,
      "outputs": [
        {
          "output_type": "stream",
          "text": [
            "[1, 3, 5, 7, 9]\n",
            "[1, 3, 5, 7, 9]\n"
          ],
          "name": "stdout"
        }
      ]
    },
    {
      "cell_type": "markdown",
      "metadata": {
        "id": "7HCq2RYI3-k3",
        "colab_type": "text"
      },
      "source": [
        "## List Manipulation - circular lists"
      ]
    },
    {
      "cell_type": "code",
      "metadata": {
        "id": "ddd-jQEX4Hpv",
        "colab_type": "code",
        "colab": {
          "base_uri": "https://localhost:8080/",
          "height": 52
        },
        "outputId": "e509d885-31fc-49ee-d800-cc96c0da0b54"
      },
      "source": [
        "a, b, c, d = aList[0:4]\n",
        "print(f'a = {a}, b = {b}, c = {c}, d = {d}')\n",
        "# a = 0, b = 1, c = 2, d = 3\n",
        "\n",
        "a, *b, c, d = aList\n",
        "print(f'a = {a}, b = {b}, c = {c}, d = {d}')\n",
        "# a = 0, b = [1, 2, 3, 4, 5, 6, 7], c = 8, d = 9"
      ],
      "execution_count": 5,
      "outputs": [
        {
          "output_type": "stream",
          "text": [
            "a = 0, b = 1, c = 2, d = 3\n",
            "a = 0, b = [1, 2, 3, 4, 5, 6, 7], c = 8, d = 9\n"
          ],
          "name": "stdout"
        }
      ]
    },
    {
      "cell_type": "markdown",
      "metadata": {
        "id": "YO-8zzXA4h3S",
        "colab_type": "text"
      },
      "source": [
        "## Zipping and enumerate - for-loops"
      ]
    },
    {
      "cell_type": "code",
      "metadata": {
        "id": "_avLpWpO4qad",
        "colab_type": "code",
        "colab": {
          "base_uri": "https://localhost:8080/",
          "height": 88
        },
        "outputId": "ed9ee291-f3ae-4dcd-f6ef-81e35bfdb60e"
      },
      "source": [
        "numList = [0, 1, 2]\n",
        "engList = ['zero', 'one', 'two']\n",
        "espList = ['cero', 'uno', 'dos']\n",
        "print(list(zip(numList, engList, espList)))\n",
        "# [(0, 'zero', 'cero'), (1, 'one', 'uno'), (2, 'two', 'dos')]\n",
        "\n",
        "for num, eng, esp in zip(numList, engList, espList):\n",
        "    print(f'{num} is {eng} in English and {esp} in Spanish.')\n",
        "# 0 is zero in English and cero in Spanish.\n",
        "# 1 is one in English and uno in Spanish.\n",
        "# 2 is two in English and dos in Spanish."
      ],
      "execution_count": 6,
      "outputs": [
        {
          "output_type": "stream",
          "text": [
            "[(0, 'zero', 'cero'), (1, 'one', 'uno'), (2, 'two', 'dos')]\n",
            "0 is zero in English and cero in Spanish.\n",
            "1 is one in English and uno in Spanish.\n",
            "2 is two in English and dos in Spanish.\n"
          ],
          "name": "stdout"
        }
      ]
    },
    {
      "cell_type": "code",
      "metadata": {
        "id": "2ziVsPur4zoJ",
        "colab_type": "code",
        "colab": {
          "base_uri": "https://localhost:8080/",
          "height": 106
        },
        "outputId": "af95021d-b95f-4eb6-8446-bfdd191184bf"
      },
      "source": [
        "Eng = list(zip(engList, espList, numList))\n",
        "print(Eng)\n",
        "Eng.sort() # sort by engList\n",
        "print(Eng)\n",
        "a, b, c = zip(*Eng)\n",
        "\n",
        "print(a)\n",
        "print(b)\n",
        "print(c)\n",
        "# ('one', 'two', 'zero')\n",
        "# ('uno', 'dos', 'cero')\n",
        "# (1, 2, 0)"
      ],
      "execution_count": 8,
      "outputs": [
        {
          "output_type": "stream",
          "text": [
            "[('zero', 'cero', 0), ('one', 'uno', 1), ('two', 'dos', 2)]\n",
            "[('one', 'uno', 1), ('two', 'dos', 2), ('zero', 'cero', 0)]\n",
            "('one', 'two', 'zero')\n",
            "('uno', 'dos', 'cero')\n",
            "(1, 2, 0)\n"
          ],
          "name": "stdout"
        }
      ]
    },
    {
      "cell_type": "code",
      "metadata": {
        "id": "xcJ1o8CU5CaE",
        "colab_type": "code",
        "colab": {}
      },
      "source": [
        "enumerate?"
      ],
      "execution_count": 0,
      "outputs": []
    },
    {
      "cell_type": "code",
      "metadata": {
        "id": "woiEpAfw5Ye5",
        "colab_type": "code",
        "colab": {
          "base_uri": "https://localhost:8080/",
          "height": 124
        },
        "outputId": "8241fef8-1272-47ee-8213-83ef5a2babd5"
      },
      "source": [
        "upperCase = ['A', 'B', 'C', 'D', 'E', 'F']\n",
        "lowerCase = ['a', 'b', 'c', 'd', 'e', 'f']\n",
        "for i, (upper, lower) in enumerate(zip(upperCase, lowerCase), 1):\n",
        "    print(f'{i}: {upper} and {lower}.')\n",
        "# 1: A and a.\n",
        "# 2: B and b.\n",
        "# 3: C and c.\n",
        "# 4: D and d.\n",
        "# 5: E and e.\n",
        "# 6: F and f."
      ],
      "execution_count": 10,
      "outputs": [
        {
          "output_type": "stream",
          "text": [
            "1: A and a.\n",
            "2: B and b.\n",
            "3: C and c.\n",
            "4: D and d.\n",
            "5: E and e.\n",
            "6: F and f.\n"
          ],
          "name": "stdout"
        }
      ]
    },
    {
      "cell_type": "markdown",
      "metadata": {
        "id": "XQvlt3Th5eCf",
        "colab_type": "text"
      },
      "source": [
        "## Generator - memory efficiency"
      ]
    },
    {
      "cell_type": "code",
      "metadata": {
        "id": "fUm26PjY5ird",
        "colab_type": "code",
        "colab": {
          "base_uri": "https://localhost:8080/",
          "height": 88
        },
        "outputId": "512c49b9-579f-4263-f950-2f1638cc574d"
      },
      "source": [
        "def gen(n):    # an infinite sequence generator that generates integers >= n\n",
        "    while True:\n",
        "        yield n\n",
        "        n += 1\n",
        "        \n",
        "G = gen(3)     # starts at 3\n",
        "print(next(G)) # 3\n",
        "print(next(G)) # 4\n",
        "print(next(G)) # 5\n",
        "print(next(G)) # 6"
      ],
      "execution_count": 11,
      "outputs": [
        {
          "output_type": "stream",
          "text": [
            "3\n",
            "4\n",
            "5\n",
            "6\n"
          ],
          "name": "stdout"
        }
      ]
    },
    {
      "cell_type": "markdown",
      "metadata": {
        "id": "lwlxNkG_56e-",
        "colab_type": "text"
      },
      "source": [
        "## Virtual environment"
      ]
    },
    {
      "cell_type": "code",
      "metadata": {
        "id": "KduJ30I66MPN",
        "colab_type": "code",
        "colab": {}
      },
      "source": [
        "conda create -n venv pip python=3.7  # select python version\n",
        "source activate venv\n",
        "...\n",
        "source deactivate"
      ],
      "execution_count": 0,
      "outputs": []
    }
  ]
}
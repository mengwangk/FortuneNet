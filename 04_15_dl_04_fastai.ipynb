{
  "nbformat": 4,
  "nbformat_minor": 0,
  "metadata": {
    "accelerator": "GPU",
    "colab": {
      "name": "04_14_gbdt_01.ipynb",
      "provenance": []
    },
    "kernelspec": {
      "display_name": "Python 3",
      "language": "python",
      "name": "python3"
    },
    "language_info": {
      "codemirror_mode": {
        "name": "ipython",
        "version": 3
      },
      "file_extension": ".py",
      "mimetype": "text/x-python",
      "name": "python",
      "nbconvert_exporter": "python",
      "pygments_lexer": "ipython3",
      "version": "3.8.3"
    }
  },
  "cells": [
    {
      "cell_type": "markdown",
      "metadata": {
        "id": "I7aG9jzGoP18"
      },
      "source": [
        "# Dataset"
      ]
    },
    {
      "cell_type": "code",
      "metadata": {
        "id": "zlVvNIxToP1-"
      },
      "source": [
        "from IPython.core.interactiveshell import InteractiveShell\n",
        "InteractiveShell.ast_node_interactivity = \"all\"\n",
        "\n",
        "%load_ext autoreload\n",
        "%autoreload 2"
      ],
      "execution_count": 1,
      "outputs": []
    },
    {
      "cell_type": "code",
      "metadata": {
        "id": "UXQchcJCoP2E"
      },
      "source": [
        "required_libs = [ (\"numpy\", \"numpy\"),\n",
        "                 (\"pandas\", \"pandas\"),\n",
        "                 (\"seaborn\", \"seaborn\"),\n",
        "                 (\"matplotlib\", \"matplotlib\"),\n",
        "                 (\"sklearn\", \"sklearn\"),\n",
        "                 (\"colorama\", \"colorama\"),\n",
        "                 (\"emoji\", \"emoji\"),\n",
        "                ]"
      ],
      "execution_count": 2,
      "outputs": []
    },
    {
      "cell_type": "code",
      "metadata": {
        "id": "Uyzk4kXYoP2J"
      },
      "source": [
        "def is_lib_exists(name):\n",
        "    import importlib\n",
        "    lib = importlib.util.find_spec(name)\n",
        "    return lib is not None"
      ],
      "execution_count": 3,
      "outputs": []
    },
    {
      "cell_type": "code",
      "metadata": {
        "id": "5SJ6r_j2oP2N",
        "outputId": "41973012-62c7-4b27-f31c-06093eff578d",
        "colab": {
          "base_uri": "https://localhost:8080/"
        }
      },
      "source": [
        "for (clz,lib) in required_libs:\n",
        "    if not is_lib_exists(clz):\n",
        "        print(f\"Installing {lib}\")\n",
        "        !pip -qq install {lib}\n",
        "    else:\n",
        "        print(f\"{lib} exists\")"
      ],
      "execution_count": 4,
      "outputs": [
        {
          "output_type": "stream",
          "text": [
            "numpy exists\n",
            "pandas exists\n",
            "seaborn exists\n",
            "matplotlib exists\n",
            "sklearn exists\n",
            "Installing colorama\n",
            "Installing emoji\n",
            "\u001b[K     |████████████████████████████████| 51kB 2.3MB/s \n",
            "\u001b[?25h  Building wheel for emoji (setup.py) ... \u001b[?25l\u001b[?25hdone\n"
          ],
          "name": "stdout"
        }
      ]
    },
    {
      "cell_type": "code",
      "metadata": {
        "id": "kr8IQzcWjE-v",
        "outputId": "9fdd0b9c-8d66-41e8-87c3-016335cf979b",
        "colab": {
          "base_uri": "https://localhost:8080/"
        }
      },
      "source": [
        "# Uninstall fastai ver 1 and install ver 2\n",
        "!pip uninstall -qq --yes fastai \n",
        "!pip install -q fastai\n",
        "!pip install -q nbdev\n",
        "import fastai\n",
        "print(fastai.__version__)"
      ],
      "execution_count": 5,
      "outputs": [
        {
          "output_type": "stream",
          "text": [
            "\u001b[K     |████████████████████████████████| 194kB 10.8MB/s \n",
            "\u001b[K     |████████████████████████████████| 51kB 5.3MB/s \n",
            "\u001b[K     |████████████████████████████████| 51kB 5.2MB/s \n",
            "\u001b[?25h2.0.16\n"
          ],
          "name": "stdout"
        }
      ]
    },
    {
      "cell_type": "code",
      "metadata": {
        "id": "hRyT0uoNoP2Q"
      },
      "source": [
        "COLAB = True\n",
        "\n",
        "DATASET_NAME = '4D.zip'\n",
        "\n",
        "FEATURE_DATASET_PREFIX = 'feature_matrix_d2_v3'"
      ],
      "execution_count": 6,
      "outputs": []
    },
    {
      "cell_type": "code",
      "metadata": {
        "id": "zEbqmb8KoP2S"
      },
      "source": [
        "import numpy as np\n",
        "import pandas as pd\n",
        "import seaborn as sns\n",
        "import matplotlib.pyplot as plt\n",
        "import calendar\n",
        "import traceback\n",
        "import gc\n",
        "from pathlib import Path\n",
        "from dateutil.relativedelta import *\n",
        "from datetime import *\n",
        "from scipy import stats\n",
        "from scipy.stats.stats import pearsonr\n",
        "from pandas.api.types import is_string_dtype, is_numeric_dtype, is_categorical_dtype\n",
        "from fastai.tabular.all import *\n",
        "from sklearn.metrics import roc_auc_score\n",
        "np.set_printoptions(precision=4)\n",
        "pd.options.display.max_columns = None"
      ],
      "execution_count": 7,
      "outputs": []
    },
    {
      "cell_type": "code",
      "metadata": {
        "id": "C-7Jn85JoP2V",
        "outputId": "238a3a45-44a4-426e-ec61-2516f3e02a72",
        "colab": {
          "base_uri": "https://localhost:8080/"
        }
      },
      "source": [
        "%matplotlib inline\n",
        "%aimport"
      ],
      "execution_count": 8,
      "outputs": [
        {
          "output_type": "stream",
          "text": [
            "Modules to reload:\n",
            "all-except-skipped\n",
            "\n",
            "Modules to skip:\n",
            "\n"
          ],
          "name": "stdout"
        }
      ]
    },
    {
      "cell_type": "code",
      "metadata": {
        "id": "bRRyrDnzoP2a"
      },
      "source": [
        "from IPython.display import display"
      ],
      "execution_count": 9,
      "outputs": []
    },
    {
      "cell_type": "code",
      "metadata": {
        "id": "yGhSyyL2pSHj",
        "outputId": "7a2a5a64-67e2-4cb6-cd66-2af25759eb6e",
        "colab": {
          "base_uri": "https://localhost:8080/"
        }
      },
      "source": [
        "# colab setup\n",
        "if COLAB:\n",
        "  !rm -rf dl-projects\n",
        "  !git clone https://github.com/mengwangk/dl-projects\n",
        "  \n",
        "  !cp dl-projects/utils* .\n",
        "  !cp dl-projects/preprocess* .\n",
        "  !cp dl-projects/plot* .\n",
        "  \n",
        "  from google.colab import drive\n",
        "  drive.mount('/content/gdrive')\n",
        "  GDRIVE_DATASET_FOLDER = Path('gdrive/My Drive/datasets/')\n",
        "  DATASET_PATH = GDRIVE_DATASET_FOLDER\n",
        "  ORIGIN_DATASET_PATH = Path('dl-projects/datasets')\n",
        "  #!ls -l gdrive/\"My Drive\"/datasets/ --block-size=M\n",
        "\n",
        "DATASET = DATASET_PATH/f\"{FEATURE_DATASET_PREFIX}.ft\"\n",
        "ORIGIN_DATASET = ORIGIN_DATASET_PATH/DATASET_NAME"
      ],
      "execution_count": 10,
      "outputs": [
        {
          "output_type": "stream",
          "text": [
            "Cloning into 'dl-projects'...\n",
            "remote: Enumerating objects: 203, done.\u001b[K\n",
            "remote: Counting objects: 100% (203/203), done.\u001b[K\n",
            "remote: Compressing objects: 100% (173/173), done.\u001b[K\n",
            "remote: Total 2413 (delta 120), reused 65 (delta 29), pack-reused 2210\u001b[K\n",
            "Receiving objects: 100% (2413/2413), 80.72 MiB | 33.25 MiB/s, done.\n",
            "Resolving deltas: 100% (1499/1499), done.\n",
            "Mounted at /content/gdrive\n"
          ],
          "name": "stdout"
        }
      ]
    },
    {
      "cell_type": "markdown",
      "metadata": {
        "id": "gvnr5KFJoP2f"
      },
      "source": [
        "## EDA"
      ]
    },
    {
      "cell_type": "code",
      "metadata": {
        "id": "ZV-CiR4Yrb7m"
      },
      "source": [
        "from preprocess import *\n",
        "from utils import feature_selection, plot_feature_importances\n",
        "from plot import plot_correlation_matrix, plot_labeled_scatter"
      ],
      "execution_count": 11,
      "outputs": []
    },
    {
      "cell_type": "code",
      "metadata": {
        "id": "OTuQ19LcpP0L"
      },
      "source": [
        "data = pd.read_feather(DATASET)\n",
        "origin_data = format_tabular(ORIGIN_DATASET)"
      ],
      "execution_count": 12,
      "outputs": []
    },
    {
      "cell_type": "code",
      "metadata": {
        "id": "NznUjX3ppQeG"
      },
      "source": [
        "jan_2020 = pd.read_feather(DATASET_PATH/f\"feature_matrix_2020_jan.ft\")\n",
        "feb_2020 = pd.read_feather(DATASET_PATH/f\"feature_matrix_2020_feb.ft\")\n",
        "mar_2020 = pd.read_feather(DATASET_PATH/f\"feature_matrix_2020_mar.ft\")\n",
        "apr_2020 = pd.read_feather(DATASET_PATH/f\"feature_matrix_2020_apr.ft\")\n",
        "may_2020 = pd.read_feather(DATASET_PATH/f\"feature_matrix_2020_may.ft\")\n",
        "jun_2020 = pd.read_feather(DATASET_PATH/f\"feature_matrix_2020_jun.ft\")\n",
        "jul_2020 = pd.read_feather(DATASET_PATH/f\"feature_matrix_2020_jul.ft\")"
      ],
      "execution_count": 13,
      "outputs": []
    },
    {
      "cell_type": "code",
      "metadata": {
        "id": "Z4nQM7SkxbTM",
        "outputId": "8165c745-48ef-40b9-c833-0f2802035de6",
        "colab": {
          "base_uri": "https://localhost:8080/"
        }
      },
      "source": [
        "new_data = data.append(jan_2020[data.columns],ignore_index=True)\n",
        "new_data = new_data.append(feb_2020[data.columns],ignore_index=True)\n",
        "new_data = new_data.append(mar_2020[data.columns],ignore_index=True)\n",
        "new_data = new_data.append(apr_2020[data.columns],ignore_index=True)\n",
        "new_data = new_data.append(may_2020[data.columns],ignore_index=True)\n",
        "new_data = new_data.append(jun_2020[data.columns],ignore_index=True)\n",
        "new_data = new_data.append(jul_2020[data.columns],ignore_index=True)\n",
        "data.shape, new_data.shape "
      ],
      "execution_count": 14,
      "outputs": [
        {
          "output_type": "execute_result",
          "data": {
            "text/plain": [
              "((959893, 217), (1029893, 217))"
            ]
          },
          "metadata": {
            "tags": []
          },
          "execution_count": 14
        }
      ]
    },
    {
      "cell_type": "code",
      "metadata": {
        "id": "6fcS0WHNF84G"
      },
      "source": [
        "del data\n",
        "data = new_data"
      ],
      "execution_count": 15,
      "outputs": []
    },
    {
      "cell_type": "code",
      "metadata": {
        "id": "P21A_rqdF_SP",
        "outputId": "7b866baf-a6a3-416f-f709-09e431dd3dcd",
        "colab": {
          "base_uri": "https://localhost:8080/"
        }
      },
      "source": [
        "data.isna().sum().sort_values(ascending=False)"
      ],
      "execution_count": 16,
      "outputs": [
        {
          "output_type": "execute_result",
          "data": {
            "text/plain": [
              "CUM_SUM(SKEW(Results.TotalStrike))           7685\n",
              "CUM_MEAN(TREND(Results.DrawNo, DrawDate))    7685\n",
              "TREND(Results.CUM_SUM(DrawNo), DrawDate)     7685\n",
              "TREND(Results.CUM_SUM(LuckyNo), DrawDate)    7685\n",
              "CUM_SUM(SKEW(Results.LuckyNo))               7685\n",
              "                                             ... \n",
              "CUM_SUM(MIN(Results.DrawNo))                    0\n",
              "NUM_UNIQUE(Results.DAY(DrawDate))               0\n",
              "NUM_UNIQUE(Results.MONTH(DrawDate))             0\n",
              "SUM(Results.PERCENTILE(LuckyNo))                0\n",
              "NumberId                                        0\n",
              "Length: 217, dtype: int64"
            ]
          },
          "metadata": {
            "tags": []
          },
          "execution_count": 16
        }
      ]
    },
    {
      "cell_type": "code",
      "metadata": {
        "id": "ifvYMCzTGY6X"
      },
      "source": [
        "# data.info(max_cols=500, null_counts=True)\n",
        "# data.columns.tolist()"
      ],
      "execution_count": 17,
      "outputs": []
    },
    {
      "cell_type": "code",
      "metadata": {
        "id": "hwDc-KVoGaG1"
      },
      "source": [
        "feature_matrix = data\n",
        "\n",
        "### fastai to handle missing values\n",
        "# feature_matrix = data.fillna(0)\n",
        "# feature_matrix.sort_values(by=['time', 'MAX(Results.LuckyNo)'], inplace=True)\n",
        "# feature_matrix.head(20)"
      ],
      "execution_count": 18,
      "outputs": []
    },
    {
      "cell_type": "code",
      "metadata": {
        "id": "gg7SIK0XLaDx"
      },
      "source": [
        "from sklearn.feature_selection import SelectKBest\n",
        "from sklearn.feature_selection import f_classif, chi2, f_regression\n",
        "from sklearn.model_selection import train_test_split\n",
        "from sklearn.feature_selection import VarianceThreshold\n",
        "\n",
        "# other_features = ['Label', 'NumberId', 'time', 'TotalStrike',  'month', 'year']\n",
        "# feature_matrix = feature_selection(data)\n",
        "\n",
        "def select_features(df, func=f_regression):\n",
        "  X = df.drop(columns=other_features)\n",
        "  y = df.Label\n",
        "  fs = SelectKBest(score_func=func, k=50)\n",
        "  X_selected = fs.fit_transform(X, y)\n",
        "  mask = fs.get_support()\n",
        "  return X.columns[mask]\n",
        "\n",
        "def reduce_features(df, lower_threshold=10, upper_threshold=10000):\n",
        "  cols_to_drop = []\n",
        "  for col in df.columns:\n",
        "    if df[col].nunique() > upper_threshold or df[col].nunique() < lower_threshold:\n",
        "      cols_to_drop.append(col)\n",
        "  print(cols_to_drop)\n",
        "  return cols_to_drop, df.drop(columns=cols_to_drop)\n",
        "\n",
        "def select_by_variance(df, threshold=0):\n",
        "  \"\"\"Select features by variance\"\"\"\n",
        "  filter = VarianceThreshold(threshold=threshold)\n",
        "  filter.fit(df)\n",
        "  cols_to_drop = [column for column in df.columns\n",
        "                  if column not in df.columns[filter.get_support()]]\n",
        "  print(f\"No of columns to drop - {len(cols_to_drop)}\")\n",
        "  print(cols_to_drop)\n",
        "  return cols_to_drop\n",
        "\n",
        "def select_duplicates(df):\n",
        "  df_transposed = df.head(20000).T\n",
        "  print(df_transposed.duplicated().sum())\n",
        "  unique_features = df_transposed.drop_duplicates(keep='first').T\n",
        "  print(unique_features.shape)\n",
        "  duplicated_features = [dup_col for dup_col in df.columns if dup_col not in unique_features.columns]\n",
        "  return duplicated_features\n",
        "\n",
        "def select_correlated(df):\n",
        "  correlated_features = set()\n",
        "  correlation_matrix = df.corr()\n",
        "  for i in range(len(correlation_matrix .columns)):\n",
        "    for j in range(i):\n",
        "        if abs(correlation_matrix.iloc[i, j]) > 0.8:\n",
        "            colname = correlation_matrix.columns[i]\n",
        "            correlated_features.add(colname)\n",
        "  print(len(correlated_features))\n",
        "  print(correlated_features)\n",
        "  return correlated_features\n"
      ],
      "execution_count": 19,
      "outputs": []
    },
    {
      "cell_type": "code",
      "metadata": {
        "id": "Trquu1WUfxY5",
        "outputId": "ecac1413-4c40-4b05-8d14-c3b1039cff17",
        "colab": {
          "base_uri": "https://localhost:8080/"
        }
      },
      "source": [
        "selected_features = feature_matrix.columns.to_list()\n",
        "# display(len(selected_features), selected_features)\n",
        "print(len(selected_features))"
      ],
      "execution_count": 20,
      "outputs": [
        {
          "output_type": "stream",
          "text": [
            "217\n"
          ],
          "name": "stdout"
        }
      ]
    },
    {
      "cell_type": "code",
      "metadata": {
        "id": "C387QlBkPyE5"
      },
      "source": [
        "df_selected_features = feature_matrix[selected_features]"
      ],
      "execution_count": 21,
      "outputs": []
    },
    {
      "cell_type": "code",
      "metadata": {
        "id": "idW_WF_Bcddg"
      },
      "source": [
        "# def split_data(df, dt):\n",
        "#   y_train = df.loc[df['time'] < dt, 'Label']\n",
        "#   y_validation = df.loc[df['time'] == dt, 'Label']\n",
        "# \n",
        "#   X_train = df[df['time'] < dt].drop(columns = ['NumberId', 'time', 'Label', 'TotalStrike', 'year', 'month'])\n",
        "#   X_validation = df[df['time'] == dt].drop(columns = ['NumberId', 'time', 'Label', 'TotalStrike', 'year', 'month'])\n",
        "# \n",
        "#   # Reduce by standard deviation\n",
        "#   # X_train = X_train.loc[:, X_train.std() > .0]\n",
        "#   # X_validation = X_validation[X_train.columns]\n",
        "# \n",
        "#   return X_train, X_validation, y_train, y_validation"
      ],
      "execution_count": 22,
      "outputs": []
    },
    {
      "cell_type": "code",
      "metadata": {
        "id": "3zKM2ACMPAtG"
      },
      "source": [
        "TARGET_DT = datetime(2020,1,1)\n",
        "\n",
        "# X_train, X_validation, y_train, y_validation = split_data(df_selected_features, TARGET_MONTH)\n",
        "# X_train.shape, X_validation.shape, y_train.shape, y_validation.shape"
      ],
      "execution_count": 23,
      "outputs": []
    },
    {
      "cell_type": "code",
      "metadata": {
        "id": "gKqw1dzPQwZm"
      },
      "source": [
        "# cols_to_drop = select_by_variance(X_train,0.0)\n",
        "# X_train = X_train.drop(columns=cols_to_drop)\n",
        "# X_validation = X_validation[X_train.columns]\n",
        "# X_train.shape, X_validation.shape\n",
        "# \n",
        "# cols_to_drop = select_by_variance(X_train,0.01)\n",
        "# X_train = X_train.drop(columns=cols_to_drop)\n",
        "# X_validation = X_validation[X_train.columns]\n",
        "# X_train.shape, X_validation.shape\n",
        "# \n",
        "# cols_to_drop = select_duplicates(X_train)\n",
        "# X_train = X_train.drop(columns=cols_to_drop)\n",
        "# X_validation = X_validation[X_train.columns]\n",
        "# X_train.shape, X_validation.shape\n",
        "# \n",
        "# cols_to_drop = select_correlated(X_train)\n",
        "# X_train = X_train.drop(columns=cols_to_drop)\n",
        "# X_validation = X_validation[X_train.columns]\n",
        "# X_train.shape, X_validation.shape"
      ],
      "execution_count": 24,
      "outputs": []
    },
    {
      "cell_type": "code",
      "metadata": {
        "id": "Eo0w6jFi8yRA"
      },
      "source": [
        "# CAT_FEATURES = []\n",
        "# UNIQUE_THRESHOLD = 500\n",
        "# for col in X_train.select_dtypes(include=['int64']).columns:\n",
        "#   print(f\"{col}: Index - {X_train.columns.get_loc(col)}, Unique values - {X_train[col].nunique()}\")\n",
        "#   if X_train[col].nunique() <= UNIQUE_THRESHOLD:\n",
        "#     CAT_FEATURES.append(X_train.columns.get_loc(col))\n",
        "#   \n",
        "# print(CAT_FEATURES)"
      ],
      "execution_count": 25,
      "outputs": []
    },
    {
      "cell_type": "code",
      "metadata": {
        "id": "StdaxjZ-Omwi",
        "outputId": "d2e6e39e-5916-4f84-a2de-0b5165f81076",
        "colab": {
          "base_uri": "https://localhost:8080/"
        }
      },
      "source": [
        "df_selected_features.columns"
      ],
      "execution_count": 26,
      "outputs": [
        {
          "output_type": "execute_result",
          "data": {
            "text/plain": [
              "Index(['NumberId', 'time', 'STD(Results.DrawNo)', 'STD(Results.TotalStrike)',\n",
              "       'STD(Results.LuckyNo)', 'MAX(Results.DrawNo)',\n",
              "       'MAX(Results.TotalStrike)', 'MAX(Results.LuckyNo)',\n",
              "       'MIN(Results.DrawNo)', 'MIN(Results.TotalStrike)',\n",
              "       ...\n",
              "       'PERCENTILE(SUM(Results.DrawNo))',\n",
              "       'PERCENTILE(TREND(Results.DrawNo, DrawDate))',\n",
              "       'PERCENTILE(LAST(Results.LuckyNo))', 'PERCENTILE(MAX(Results.LuckyNo))',\n",
              "       'TotalStrike', 'Label', 'MODE(Results.PrizeType)_Prize',\n",
              "       'LAST(Results.PrizeType)_Prize', 'month', 'year'],\n",
              "      dtype='object', length=217)"
            ]
          },
          "metadata": {
            "tags": []
          },
          "execution_count": 26
        }
      ]
    },
    {
      "cell_type": "code",
      "metadata": {
        "id": "JVeC-xVYDhPp",
        "outputId": "a67d37f6-c446-4d3e-8d3e-2019028a7168",
        "colab": {
          "base_uri": "https://localhost:8080/"
        }
      },
      "source": [
        "cols_to_drop = select_by_variance(df_selected_features.drop(columns=['Label', 'NumberId', 'time', 'TotalStrike',  'month', 'year']), 0.01)"
      ],
      "execution_count": 27,
      "outputs": [
        {
          "output_type": "stream",
          "text": [
            "No of columns to drop - 68\n",
            "['STD(Results.TotalStrike)', 'STD(Results.LuckyNo)', 'MAX(Results.TotalStrike)', 'MIN(Results.TotalStrike)', 'MEAN(Results.TotalStrike)', 'SKEW(Results.TotalStrike)', 'SKEW(Results.LuckyNo)', 'LAST(Results.TotalStrike)', 'TREND(Results.TotalStrike, DrawDate)', 'TREND(Results.LuckyNo, DrawDate)', 'TREND(Results.DrawNo, DrawDate)', 'NUM_UNIQUE(Results.PrizeType)', 'STD(Results.PERCENTILE(DrawNo))', 'STD(Results.PERCENTILE(TotalStrike))', 'STD(Results.CUM_MEAN(TotalStrike))', 'STD(Results.PERCENTILE(LuckyNo))', 'MAX(Results.PERCENTILE(TotalStrike))', 'MAX(Results.CUM_MEAN(TotalStrike))', 'MIN(Results.PERCENTILE(TotalStrike))', 'MIN(Results.CUM_MEAN(TotalStrike))', 'MEAN(Results.PERCENTILE(TotalStrike))', 'MEAN(Results.CUM_MEAN(TotalStrike))', 'SKEW(Results.PERCENTILE(TotalStrike))', 'SKEW(Results.CUM_MEAN(TotalStrike))', 'SKEW(Results.PERCENTILE(LuckyNo))', 'LAST(Results.PERCENTILE(TotalStrike))', 'LAST(Results.CUM_MEAN(TotalStrike))', 'TREND(Results.CUM_MEAN(LuckyNo), DrawDate)', 'TREND(Results.PERCENTILE(LuckyNo), DrawDate)', 'TREND(Results.PERCENTILE(DrawNo), DrawDate)', 'TREND(Results.CUM_MEAN(DrawNo), DrawDate)', 'TREND(Results.TIME_SINCE(DrawDate), DrawDate)', 'TREND(Results.CUM_SUM(TotalStrike), DrawDate)', 'TREND(Results.PERCENTILE(TotalStrike), DrawDate)', 'TREND(Results.TIME_SINCE_PREVIOUS(DrawDate), DrawDate)', 'TREND(Results.CUM_MEAN(TotalStrike), DrawDate)', 'CUM_SUM(SKEW(Results.LuckyNo))', 'CUM_SUM(STD(Results.LuckyNo))', 'CUM_SUM(TREND(Results.TotalStrike, DrawDate))', 'CUM_SUM(TREND(Results.LuckyNo, DrawDate))', 'CUM_SUM(STD(Results.TotalStrike))', 'CUM_SUM(SKEW(Results.TotalStrike))', 'CUM_MEAN(SKEW(Results.LuckyNo))', 'CUM_MEAN(STD(Results.LuckyNo))', 'CUM_MEAN(MAX(Results.TotalStrike))', 'CUM_MEAN(TREND(Results.TotalStrike, DrawDate))', 'CUM_MEAN(MEAN(Results.TotalStrike))', 'CUM_MEAN(MIN(Results.TotalStrike))', 'CUM_MEAN(NUM_UNIQUE(Results.PrizeType))', 'CUM_MEAN(LAST(Results.TotalStrike))', 'CUM_MEAN(SKEW(Results.DrawNo))', 'CUM_MEAN(TREND(Results.LuckyNo, DrawDate))', 'CUM_MEAN(STD(Results.TotalStrike))', 'CUM_MEAN(SKEW(Results.TotalStrike))', 'CUM_MEAN(TREND(Results.DrawNo, DrawDate))', 'PERCENTILE(SKEW(Results.LuckyNo))', 'PERCENTILE(STD(Results.LuckyNo))', 'PERCENTILE(MAX(Results.TotalStrike))', 'PERCENTILE(TREND(Results.TotalStrike, DrawDate))', 'PERCENTILE(MEAN(Results.TotalStrike))', 'PERCENTILE(MIN(Results.TotalStrike))', 'PERCENTILE(NUM_UNIQUE(Results.PrizeType))', 'PERCENTILE(LAST(Results.TotalStrike))', 'PERCENTILE(TREND(Results.LuckyNo, DrawDate))', 'PERCENTILE(STD(Results.TotalStrike))', 'PERCENTILE(SKEW(Results.TotalStrike))', 'MODE(Results.PrizeType)_Prize', 'LAST(Results.PrizeType)_Prize']\n"
          ],
          "name": "stdout"
        }
      ]
    },
    {
      "cell_type": "code",
      "metadata": {
        "id": "RlHYwaMNsLgU",
        "outputId": "a240faa6-203b-4cd5-f402-6f98c568dca4",
        "colab": {
          "base_uri": "https://localhost:8080/"
        }
      },
      "source": [
        "# Prepare the data\n",
        "# unused_features = ['NumberId', 'time', 'TotalStrike',  'month', 'year']\n",
        "unused_features = ['time', 'TotalStrike'] + cols_to_drop\n",
        "print(\"Columns to drop \", unused_features)\n",
        "df = df_selected_features.drop(columns=unused_features)"
      ],
      "execution_count": 28,
      "outputs": [
        {
          "output_type": "stream",
          "text": [
            "Columns to drop  ['time', 'TotalStrike', 'STD(Results.TotalStrike)', 'STD(Results.LuckyNo)', 'MAX(Results.TotalStrike)', 'MIN(Results.TotalStrike)', 'MEAN(Results.TotalStrike)', 'SKEW(Results.TotalStrike)', 'SKEW(Results.LuckyNo)', 'LAST(Results.TotalStrike)', 'TREND(Results.TotalStrike, DrawDate)', 'TREND(Results.LuckyNo, DrawDate)', 'TREND(Results.DrawNo, DrawDate)', 'NUM_UNIQUE(Results.PrizeType)', 'STD(Results.PERCENTILE(DrawNo))', 'STD(Results.PERCENTILE(TotalStrike))', 'STD(Results.CUM_MEAN(TotalStrike))', 'STD(Results.PERCENTILE(LuckyNo))', 'MAX(Results.PERCENTILE(TotalStrike))', 'MAX(Results.CUM_MEAN(TotalStrike))', 'MIN(Results.PERCENTILE(TotalStrike))', 'MIN(Results.CUM_MEAN(TotalStrike))', 'MEAN(Results.PERCENTILE(TotalStrike))', 'MEAN(Results.CUM_MEAN(TotalStrike))', 'SKEW(Results.PERCENTILE(TotalStrike))', 'SKEW(Results.CUM_MEAN(TotalStrike))', 'SKEW(Results.PERCENTILE(LuckyNo))', 'LAST(Results.PERCENTILE(TotalStrike))', 'LAST(Results.CUM_MEAN(TotalStrike))', 'TREND(Results.CUM_MEAN(LuckyNo), DrawDate)', 'TREND(Results.PERCENTILE(LuckyNo), DrawDate)', 'TREND(Results.PERCENTILE(DrawNo), DrawDate)', 'TREND(Results.CUM_MEAN(DrawNo), DrawDate)', 'TREND(Results.TIME_SINCE(DrawDate), DrawDate)', 'TREND(Results.CUM_SUM(TotalStrike), DrawDate)', 'TREND(Results.PERCENTILE(TotalStrike), DrawDate)', 'TREND(Results.TIME_SINCE_PREVIOUS(DrawDate), DrawDate)', 'TREND(Results.CUM_MEAN(TotalStrike), DrawDate)', 'CUM_SUM(SKEW(Results.LuckyNo))', 'CUM_SUM(STD(Results.LuckyNo))', 'CUM_SUM(TREND(Results.TotalStrike, DrawDate))', 'CUM_SUM(TREND(Results.LuckyNo, DrawDate))', 'CUM_SUM(STD(Results.TotalStrike))', 'CUM_SUM(SKEW(Results.TotalStrike))', 'CUM_MEAN(SKEW(Results.LuckyNo))', 'CUM_MEAN(STD(Results.LuckyNo))', 'CUM_MEAN(MAX(Results.TotalStrike))', 'CUM_MEAN(TREND(Results.TotalStrike, DrawDate))', 'CUM_MEAN(MEAN(Results.TotalStrike))', 'CUM_MEAN(MIN(Results.TotalStrike))', 'CUM_MEAN(NUM_UNIQUE(Results.PrizeType))', 'CUM_MEAN(LAST(Results.TotalStrike))', 'CUM_MEAN(SKEW(Results.DrawNo))', 'CUM_MEAN(TREND(Results.LuckyNo, DrawDate))', 'CUM_MEAN(STD(Results.TotalStrike))', 'CUM_MEAN(SKEW(Results.TotalStrike))', 'CUM_MEAN(TREND(Results.DrawNo, DrawDate))', 'PERCENTILE(SKEW(Results.LuckyNo))', 'PERCENTILE(STD(Results.LuckyNo))', 'PERCENTILE(MAX(Results.TotalStrike))', 'PERCENTILE(TREND(Results.TotalStrike, DrawDate))', 'PERCENTILE(MEAN(Results.TotalStrike))', 'PERCENTILE(MIN(Results.TotalStrike))', 'PERCENTILE(NUM_UNIQUE(Results.PrizeType))', 'PERCENTILE(LAST(Results.TotalStrike))', 'PERCENTILE(TREND(Results.LuckyNo, DrawDate))', 'PERCENTILE(STD(Results.TotalStrike))', 'PERCENTILE(SKEW(Results.TotalStrike))', 'MODE(Results.PrizeType)_Prize', 'LAST(Results.PrizeType)_Prize']\n"
          ],
          "name": "stdout"
        }
      ]
    },
    {
      "cell_type": "code",
      "metadata": {
        "id": "UqeCvBS4Vcv9"
      },
      "source": [
        "# Target label. No need to np.log\n",
        "dep_var = 'Label'\n",
        "\n",
        "# Train test split\n",
        "procs = [Categorify, FillMissing, Normalize]\n",
        "train_cond = (df.year < TARGET_DT.year) | (df.month < TARGET_DT.month)\n",
        "valid_cond = (df.year == TARGET_DT.year) & (df.month == TARGET_DT.month)\n",
        "train_idx = np.where(train_cond)[0]\n",
        "valid_idx = np.where(valid_cond)[0]\n",
        "splits = (list(train_idx),list(valid_idx))"
      ],
      "execution_count": 29,
      "outputs": []
    },
    {
      "cell_type": "code",
      "metadata": {
        "id": "_Hotbb4utFl_",
        "outputId": "06212a06-7b33-438b-ba60-38db9491a0f5",
        "colab": {
          "base_uri": "https://localhost:8080/"
        }
      },
      "source": [
        "print(len(df))\n",
        "print(list(train_idx)[len(list(train_idx))-1])\n",
        "print(list(valid_idx)[0], list(valid_idx)[len(list(valid_idx))-1])"
      ],
      "execution_count": 31,
      "outputs": [
        {
          "output_type": "stream",
          "text": [
            "1029893\n",
            "959892\n",
            "959893 969892\n"
          ],
          "name": "stdout"
        }
      ]
    },
    {
      "cell_type": "code",
      "metadata": {
        "id": "-SbyTBuRLybj"
      },
      "source": [
        "df[dep_var] = df[dep_var].astype('category')"
      ],
      "execution_count": 32,
      "outputs": []
    },
    {
      "cell_type": "code",
      "metadata": {
        "id": "O4CGlo7hut3V",
        "outputId": "fed65371-4add-4fb6-96f4-fa75b6a7ed8f",
        "colab": {
          "base_uri": "https://localhost:8080/"
        }
      },
      "source": [
        "# Continuous and categorical variables\n",
        "cont,cat = cont_cat_split(df, max_card=9000, dep_var=dep_var)\n",
        "print(\"Continous features: \", len(cont))\n",
        "print(\"Categorical features:\", len(cat))"
      ],
      "execution_count": 33,
      "outputs": [
        {
          "output_type": "stream",
          "text": [
            "Continous features:  129\n",
            "Categorical features: 17\n"
          ],
          "name": "stdout"
        }
      ]
    },
    {
      "cell_type": "code",
      "metadata": {
        "id": "X5rDIH8Bs_XQ",
        "outputId": "db2f5c21-de70-48ad-e86d-34eb10aa5c56",
        "colab": {
          "base_uri": "https://localhost:8080/"
        }
      },
      "source": [
        "help(cont_cat_split)"
      ],
      "execution_count": 34,
      "outputs": [
        {
          "output_type": "stream",
          "text": [
            "Help on function cont_cat_split in module fastai.tabular.core:\n",
            "\n",
            "cont_cat_split(df, max_card=20, dep_var=None)\n",
            "    Helper function that returns column names of cont and cat variables from given `df`.\n",
            "\n"
          ],
          "name": "stdout"
        }
      ]
    },
    {
      "cell_type": "code",
      "metadata": {
        "id": "O8T4MVbLv51G",
        "outputId": "059cb466-67d4-4720-e4aa-f0cf2de6394f",
        "colab": {
          "base_uri": "https://localhost:8080/"
        }
      },
      "source": [
        "to = TabularPandas(df, procs=procs, cat_names=cat, cont_names=cont, y_names=dep_var, splits=splits)\n",
        "len(to.train),len(to.valid)"
      ],
      "execution_count": 35,
      "outputs": [
        {
          "output_type": "execute_result",
          "data": {
            "text/plain": [
              "(959893, 10000)"
            ]
          },
          "metadata": {
            "tags": []
          },
          "execution_count": 35
        }
      ]
    },
    {
      "cell_type": "code",
      "metadata": {
        "id": "pHMFFei0wdtU"
      },
      "source": [
        "dls = to.dataloaders(1024)"
      ],
      "execution_count": 36,
      "outputs": []
    },
    {
      "cell_type": "code",
      "metadata": {
        "id": "-FlBejyUw_Fh"
      },
      "source": [
        "#y = to.train.y\n",
        "#y.min(),y.max()\n",
        "\n",
        "del feature_matrix\n",
        "del new_data\n",
        "#del df_selected_features\n",
        "del jan_2020\n",
        "del feb_2020\n",
        "del mar_2020\n",
        "del apr_2020\n",
        "del may_2020\n",
        "del jun_2020\n",
        "del jul_2020"
      ],
      "execution_count": 37,
      "outputs": []
    },
    {
      "cell_type": "code",
      "metadata": {
        "id": "1k_mPW1FaJTz",
        "outputId": "cba1e702-27b8-4b28-d7a6-8c179a07dd38",
        "colab": {
          "base_uri": "https://localhost:8080/"
        }
      },
      "source": [
        "# doc(tabular_learner)\n",
        "\n",
        "# View Transformed Training/Validation Data\n",
        "# dls.xs\n",
        "\n",
        "#####################\n",
        "# Construct Weights #\n",
        "#####################\n",
        "# class_count_df = df.groupby(dep_var).count()\n",
        "#n_0, n_1 = class_count_df.iloc[0, 0], class_count_df.iloc[1, 0]\n",
        "\n",
        "n_0, n_1 = df[dep_var].value_counts()[0], df[dep_var].value_counts()[1]\n",
        "print(n_0, n_1)\n",
        "\n",
        "w_0 = (n_0 + n_1) / (2.0 * n_0)\n",
        "w_1 = (n_0 + n_1) / (2.0 * n_1)\n",
        "print(w_0, w_1)"
      ],
      "execution_count": 38,
      "outputs": [
        {
          "output_type": "stream",
          "text": [
            "996848 33045\n",
            "0.5165747435918013 15.583189589953093\n"
          ],
          "name": "stdout"
        }
      ]
    },
    {
      "cell_type": "code",
      "metadata": {
        "id": "AcFSyYjFMVtD"
      },
      "source": [
        "# Important: Convert Weights To Float Tensor\n",
        "class_weights=torch.FloatTensor([w_0, w_1]).cuda()\n",
        "\n",
        "############################\n",
        "# Model Performance Metric #\n",
        "############################\n",
        "# Instantiate RocAucBinary Score\n",
        "roc_auc = RocAucBinary() # Very important: Use the binary scoring function and not RocAuc()\n",
        "\n",
        "#################\n",
        "# Loss Function #\n",
        "#################\n",
        "loss_func = CrossEntropyLossFlat(weight=class_weights)"
      ],
      "execution_count": 39,
      "outputs": []
    },
    {
      "cell_type": "code",
      "metadata": {
        "id": "_FbyiuH7oKKQ"
      },
      "source": [
        "def calcHiddenLayer(data, alpha, numHiddenLayers):\n",
        "  tempData = data.train_ds\n",
        "  #i, o = len(tempData.x.classes), len(tempData.y.classes)\n",
        "  #io = i+o\n",
        "  io = len(tempData.classes)\n",
        "  print(io)\n",
        "  return [(len(data.train_ds)//(alpha*(io)))//numHiddenLayers]*numHiddenLayers"
      ],
      "execution_count": 40,
      "outputs": []
    },
    {
      "cell_type": "code",
      "metadata": {
        "id": "Onfh1JE2oLm-",
        "outputId": "c439740b-482f-4ea1-a135-6671d716169e",
        "colab": {
          "base_uri": "https://localhost:8080/"
        }
      },
      "source": [
        "layers = calcHiddenLayer(dls, 3, 3)\n",
        "print(layers)"
      ],
      "execution_count": 41,
      "outputs": [
        {
          "output_type": "stream",
          "text": [
            "48\n",
            "[2221, 2221, 2221]\n"
          ],
          "name": "stdout"
        }
      ]
    },
    {
      "cell_type": "code",
      "metadata": {
        "id": "npmxMphFoL_m"
      },
      "source": [
        "#dls.train_ds.classes"
      ],
      "execution_count": 42,
      "outputs": []
    },
    {
      "cell_type": "code",
      "metadata": {
        "id": "_1SDZrO7yJZH",
        "outputId": "0c1c5e55-98a3-46bd-80dc-cd2cb861d7f1",
        "colab": {
          "base_uri": "https://localhost:8080/"
        }
      },
      "source": [
        "#learn = tabular_learner(dls, y_range=(0,1), layers=[500,250], metrics=[accuracy], loss_func=F.binary_cross_entropy)\n",
        "#learn = tabular_learner(dls, loss_func=loss_func, metrics=roc_auc)\n",
        "#config = tabular_config(ps=[0.001,0.01, 0.1], embed_p=0.04)\n",
        "#learn = tabular_learner(dls, layers=[1000, 500,250], loss_func=loss_func, metrics=roc_auc, config=config)\n",
        "#learn = tabular_learner(dls, layers=layers, loss_func=loss_func, metrics=roc_auc, config=config)\n",
        "\n",
        "learn = tabular_learner(dls, layers=[500,250])\n",
        "learn.loss_func\n",
        "learn.opt_func\n",
        "learn.model"
      ],
      "execution_count": 53,
      "outputs": [
        {
          "output_type": "execute_result",
          "data": {
            "text/plain": [
              "FlattenedLoss of CrossEntropyLoss()"
            ]
          },
          "metadata": {
            "tags": []
          },
          "execution_count": 53
        },
        {
          "output_type": "execute_result",
          "data": {
            "text/plain": [
              "<function fastai.optimizer.Adam>"
            ]
          },
          "metadata": {
            "tags": []
          },
          "execution_count": 53
        },
        {
          "output_type": "execute_result",
          "data": {
            "text/plain": [
              "TabularModel(\n",
              "  (embeds): ModuleList(\n",
              "    (0): Embedding(3023, 142)\n",
              "    (1): Embedding(1597, 100)\n",
              "    (2): Embedding(3023, 142)\n",
              "    (3): Embedding(28, 10)\n",
              "    (4): Embedding(28, 10)\n",
              "    (5): Embedding(13, 7)\n",
              "    (6): Embedding(32, 11)\n",
              "    (7): Embedding(13, 7)\n",
              "    (8): Embedding(32, 11)\n",
              "    (9): Embedding(32, 11)\n",
              "    (10): Embedding(13, 7)\n",
              "    (11): Embedding(13, 7)\n",
              "    (12): Embedding(21, 9)\n",
              "    (13): Embedding(13, 7)\n",
              "    (14): Embedding(32, 11)\n",
              "    (15): Embedding(13, 7)\n",
              "    (16): Embedding(9, 5)\n",
              "    (17): Embedding(3, 3)\n",
              "    (18): Embedding(3, 3)\n",
              "    (19): Embedding(3, 3)\n",
              "    (20): Embedding(3, 3)\n",
              "    (21): Embedding(3, 3)\n",
              "    (22): Embedding(3, 3)\n",
              "    (23): Embedding(3, 3)\n",
              "    (24): Embedding(3, 3)\n",
              "    (25): Embedding(3, 3)\n",
              "    (26): Embedding(3, 3)\n",
              "    (27): Embedding(3, 3)\n",
              "    (28): Embedding(3, 3)\n",
              "    (29): Embedding(3, 3)\n",
              "    (30): Embedding(3, 3)\n",
              "    (31): Embedding(3, 3)\n",
              "    (32): Embedding(3, 3)\n",
              "    (33): Embedding(3, 3)\n",
              "    (34): Embedding(3, 3)\n",
              "    (35): Embedding(3, 3)\n",
              "    (36): Embedding(3, 3)\n",
              "    (37): Embedding(3, 3)\n",
              "    (38): Embedding(3, 3)\n",
              "    (39): Embedding(3, 3)\n",
              "    (40): Embedding(3, 3)\n",
              "    (41): Embedding(3, 3)\n",
              "    (42): Embedding(3, 3)\n",
              "    (43): Embedding(3, 3)\n",
              "    (44): Embedding(3, 3)\n",
              "    (45): Embedding(3, 3)\n",
              "    (46): Embedding(3, 3)\n",
              "    (47): Embedding(3, 3)\n",
              "  )\n",
              "  (emb_drop): Dropout(p=0.0, inplace=False)\n",
              "  (bn_cont): BatchNorm1d(129, eps=1e-05, momentum=0.1, affine=True, track_running_stats=True)\n",
              "  (layers): Sequential(\n",
              "    (0): LinBnDrop(\n",
              "      (0): BatchNorm1d(726, eps=1e-05, momentum=0.1, affine=True, track_running_stats=True)\n",
              "      (1): Linear(in_features=726, out_features=500, bias=False)\n",
              "      (2): ReLU(inplace=True)\n",
              "    )\n",
              "    (1): LinBnDrop(\n",
              "      (0): BatchNorm1d(500, eps=1e-05, momentum=0.1, affine=True, track_running_stats=True)\n",
              "      (1): Linear(in_features=500, out_features=250, bias=False)\n",
              "      (2): ReLU(inplace=True)\n",
              "    )\n",
              "    (2): LinBnDrop(\n",
              "      (0): Linear(in_features=250, out_features=2, bias=True)\n",
              "    )\n",
              "  )\n",
              ")"
            ]
          },
          "metadata": {
            "tags": []
          },
          "execution_count": 53
        }
      ]
    },
    {
      "cell_type": "code",
      "metadata": {
        "id": "JfGUl8C8kO9Q",
        "outputId": "0e4671bd-7f0d-4a28-86ed-6c35e126dde9",
        "colab": {
          "base_uri": "https://localhost:8080/",
          "height": 300
        }
      },
      "source": [
        "learn.lr_find()"
      ],
      "execution_count": 54,
      "outputs": [
        {
          "output_type": "display_data",
          "data": {
            "text/html": [
              ""
            ],
            "text/plain": [
              "<IPython.core.display.HTML object>"
            ]
          },
          "metadata": {
            "tags": []
          }
        },
        {
          "output_type": "execute_result",
          "data": {
            "text/plain": [
              "SuggestedLRs(lr_min=0.014454397559165954, lr_steep=0.0012022644514217973)"
            ]
          },
          "metadata": {
            "tags": []
          },
          "execution_count": 54
        },
        {
          "output_type": "display_data",
          "data": {
            "image/png": "[encoded data removed]",
            "text/plain": [
              "<Figure size 432x288 with 1 Axes>"
            ]
          },
          "metadata": {
            "tags": [],
            "needs_background": "light"
          }
        }
      ]
    },
    {
      "cell_type": "code",
      "metadata": {
        "id": "bvmfNXplzyrl",
        "outputId": "3f472de1-a5cc-48ba-d954-a55fd1c002eb",
        "colab": {
          "base_uri": "https://localhost:8080/",
          "height": 161
        }
      },
      "source": [
        "doc(tabular_learner)"
      ],
      "execution_count": 55,
      "outputs": [
        {
          "output_type": "display_data",
          "data": {
            "text/html": [
              "<h4 id=\"tabular_learner\" class=\"doc_header\"><code>tabular_learner</code><a href=\"https://github.com/fastai/fastai/tree/master/fastai/tabular/learner.py#L24\" class=\"source_link\" style=\"float:right\">[source]</a></h4><blockquote><p><code>tabular_learner</code>(<strong><code>dls</code></strong>, <strong><code>layers</code></strong>=<em><code>None</code></em>, <strong><code>emb_szs</code></strong>=<em><code>None</code></em>, <strong><code>config</code></strong>=<em><code>None</code></em>, <strong><code>n_out</code></strong>=<em><code>None</code></em>, <strong><code>y_range</code></strong>=<em><code>None</code></em>, <strong><code>loss_func</code></strong>=<em><code>None</code></em>, <strong><code>opt_func</code></strong>=<em><code>Adam</code></em>, <strong><code>lr</code></strong>=<em><code>0.001</code></em>, <strong><code>splitter</code></strong>=<em><code>trainable_params</code></em>, <strong><code>cbs</code></strong>=<em><code>None</code></em>, <strong><code>metrics</code></strong>=<em><code>None</code></em>, <strong><code>path</code></strong>=<em><code>None</code></em>, <strong><code>model_dir</code></strong>=<em><code>'models'</code></em>, <strong><code>wd</code></strong>=<em><code>None</code></em>, <strong><code>wd_bn_bias</code></strong>=<em><code>False</code></em>, <strong><code>train_bn</code></strong>=<em><code>True</code></em>, <strong><code>moms</code></strong>=<em><code>(0.95, 0.85, 0.95)</code></em>)</p>\n",
              "</blockquote>\n",
              "<p>Get a <code>Learner</code> using <code>dls</code>, with <code>metrics</code>, including a <code>TabularModel</code> created using the remaining params.</p>\n",
              "<p><a href=\"https://docs.fast.ai/tabular.learner#tabular_learner\" target=\"_blank\" rel=\"noreferrer noopener\">Show in docs</a></p>\n"
            ],
            "text/plain": [
              "<IPython.core.display.HTML object>"
            ]
          },
          "metadata": {
            "tags": []
          }
        }
      ]
    },
    {
      "cell_type": "code",
      "metadata": {
        "id": "Kh9sitEz1CLA",
        "outputId": "dc7287b2-3b88-4720-8563-08168ef1ffb4",
        "colab": {
          "base_uri": "https://localhost:8080/",
          "height": 168
        }
      },
      "source": [
        "doc(TabularPandas)"
      ],
      "execution_count": 56,
      "outputs": [
        {
          "output_type": "display_data",
          "data": {
            "text/html": [
              "<h2 id=\"TabularPandas\" class=\"doc_header\"><code>class</code> <code>TabularPandas</code><a href=\"https://github.com/fastai/fastai/tree/master/fastai/tabular/core.py#L197\" class=\"source_link\" style=\"float:right\">[source]</a></h2><blockquote><p><code>TabularPandas</code>(<strong><code>df</code></strong>, <strong><code>procs</code></strong>=<em><code>None</code></em>, <strong><code>cat_names</code></strong>=<em><code>None</code></em>, <strong><code>cont_names</code></strong>=<em><code>None</code></em>, <strong><code>y_names</code></strong>=<em><code>None</code></em>, <strong><code>y_block</code></strong>=<em><code>None</code></em>, <strong><code>splits</code></strong>=<em><code>None</code></em>, <strong><code>do_setup</code></strong>=<em><code>True</code></em>, <strong><code>device</code></strong>=<em><code>None</code></em>, <strong><code>inplace</code></strong>=<em><code>False</code></em>, <strong><code>reduce_memory</code></strong>=<em><code>True</code></em>) :: <code>Tabular</code></p>\n",
              "</blockquote>\n",
              "<p>A <code>Tabular</code> object with transforms</p>\n",
              "<p><a href=\"https://docs.fast.ai/tabular.core#TabularPandas\" target=\"_blank\" rel=\"noreferrer noopener\">Show in docs</a></p>\n"
            ],
            "text/plain": [
              "<IPython.core.display.HTML object>"
            ]
          },
          "metadata": {
            "tags": []
          }
        }
      ]
    },
    {
      "cell_type": "code",
      "metadata": {
        "id": "vlLy2B1akQ8D",
        "outputId": "564cdeb8-3345-4616-df60-7a4737d92e4b",
        "colab": {
          "base_uri": "https://localhost:8080/",
          "height": 142
        }
      },
      "source": [
        "#learn.fit_one_cycle(30, 1e-4)\n",
        "learn.fit_one_cycle(3)"
      ],
      "execution_count": 57,
      "outputs": [
        {
          "output_type": "display_data",
          "data": {
            "text/html": [
              "<table border=\"1\" class=\"dataframe\">\n",
              "  <thead>\n",
              "    <tr style=\"text-align: left;\">\n",
              "      <th>epoch</th>\n",
              "      <th>train_loss</th>\n",
              "      <th>valid_loss</th>\n",
              "      <th>time</th>\n",
              "    </tr>\n",
              "  </thead>\n",
              "  <tbody>\n",
              "    <tr>\n",
              "      <td>0</td>\n",
              "      <td>0.147690</td>\n",
              "      <td>0.148079</td>\n",
              "      <td>00:38</td>\n",
              "    </tr>\n",
              "    <tr>\n",
              "      <td>1</td>\n",
              "      <td>0.142802</td>\n",
              "      <td>0.147638</td>\n",
              "      <td>00:37</td>\n",
              "    </tr>\n",
              "    <tr>\n",
              "      <td>2</td>\n",
              "      <td>0.138389</td>\n",
              "      <td>0.149560</td>\n",
              "      <td>00:37</td>\n",
              "    </tr>\n",
              "  </tbody>\n",
              "</table>"
            ],
            "text/plain": [
              "<IPython.core.display.HTML object>"
            ]
          },
          "metadata": {
            "tags": []
          }
        }
      ]
    },
    {
      "cell_type": "code",
      "metadata": {
        "id": "4GCZTUF0z5rs",
        "outputId": "470701ef-7f92-4bd7-db83-cb2c5b86c241",
        "colab": {
          "base_uri": "https://localhost:8080/",
          "height": 265
        }
      },
      "source": [
        "learn.recorder.plot_loss()"
      ],
      "execution_count": 58,
      "outputs": [
        {
          "output_type": "display_data",
          "data": {
            "image/png": "[encoded data removed]",
            "text/plain": [
              "<Figure size 432x288 with 1 Axes>"
            ]
          },
          "metadata": {
            "tags": [],
            "needs_background": "light"
          }
        }
      ]
    },
    {
      "cell_type": "code",
      "metadata": {
        "id": "vPOEVs9MQLkR",
        "outputId": "8b59a1d4-828b-4ca8-a3cd-f5dd74032653",
        "colab": {
          "base_uri": "https://localhost:8080/",
          "height": 17
        }
      },
      "source": [
        "cls = ClassificationInterpretation.from_learner(learn)"
      ],
      "execution_count": 59,
      "outputs": [
        {
          "output_type": "display_data",
          "data": {
            "text/html": [
              ""
            ],
            "text/plain": [
              "<IPython.core.display.HTML object>"
            ]
          },
          "metadata": {
            "tags": []
          }
        }
      ]
    },
    {
      "cell_type": "code",
      "metadata": {
        "id": "Dz47YSIHRGwY",
        "outputId": "af98467d-7f88-42b5-b310-6ff65e09eb58",
        "colab": {
          "base_uri": "https://localhost:8080/",
          "height": 311
        }
      },
      "source": [
        "cls.plot_confusion_matrix()"
      ],
      "execution_count": 60,
      "outputs": [
        {
          "output_type": "display_data",
          "data": {
            "image/png": "[encoded data removed]",
            "text/plain": [
              "<Figure size 432x288 with 1 Axes>"
            ]
          },
          "metadata": {
            "tags": [],
            "needs_background": "light"
          }
        }
      ]
    },
    {
      "cell_type": "code",
      "metadata": {
        "id": "5w1KlMbprOaY",
        "outputId": "31f311d5-1727-46ed-c15a-897c54249c0f",
        "colab": {
          "base_uri": "https://localhost:8080/",
          "height": 34
        }
      },
      "source": [
        "preds,targs = learn.get_preds()\n",
        "print(len(preds), len(targs))"
      ],
      "execution_count": 61,
      "outputs": [
        {
          "output_type": "display_data",
          "data": {
            "text/html": [
              ""
            ],
            "text/plain": [
              "<IPython.core.display.HTML object>"
            ]
          },
          "metadata": {
            "tags": []
          }
        },
        {
          "output_type": "stream",
          "text": [
            "10000 10000\n"
          ],
          "name": "stdout"
        }
      ]
    },
    {
      "cell_type": "code",
      "metadata": {
        "id": "JK-OzMNKsRpS",
        "outputId": "e28e03cc-fea8-4730-89e1-6239a5a1db91",
        "colab": {
          "base_uri": "https://localhost:8080/"
        }
      },
      "source": [
        "print(preds)"
      ],
      "execution_count": 52,
      "outputs": [
        {
          "output_type": "stream",
          "text": [
            "tensor([[0.9812, 0.0188],\n",
            "        [0.9655, 0.0345],\n",
            "        [0.9952, 0.0048],\n",
            "        ...,\n",
            "        [0.9962, 0.0038],\n",
            "        [0.9939, 0.0061],\n",
            "        [0.9688, 0.0312]])\n"
          ],
          "name": "stdout"
        }
      ]
    },
    {
      "cell_type": "code",
      "metadata": {
        "id": "Fc2IwNdpfY9Q"
      },
      "source": [
        "print(targs)"
      ],
      "execution_count": null,
      "outputs": []
    },
    {
      "cell_type": "markdown",
      "metadata": {
        "id": "kDPMYNTNrH6z"
      },
      "source": [
        "##### https://medium.com/@abhikjha/fastai-tabular-hooks-forests-1748aa2b2f8c\n",
        "##### https://docs.fast.ai/tutorial.medical_imaging\n",
        "##### https://mc.ai/deep-learning-with-weighted-cross-entropy-loss-on-imbalanced-tabular-data-using-fastai/\n",
        "##### https://www.kaggle.com/yngspacecadet/fastai-tabular-model\n",
        "##### https://towardsdatascience.com/deep-learning-with-weighted-cross-entropy-loss-on-imbalanced-tabular-data-using-fastai-fe1c009e184c"
      ]
    },
    {
      "cell_type": "code",
      "metadata": {
        "id": "NB4E4e6qrH60"
      },
      "source": [
        ""
      ],
      "execution_count": null,
      "outputs": []
    }
  ]
}
{
  "nbformat": 4,
  "nbformat_minor": 0,
  "metadata": {
    "kernelspec": {
      "display_name": "Python 3",
      "language": "python",
      "name": "python3"
    },
    "language_info": {
      "codemirror_mode": {
        "name": "ipython",
        "version": 3
      },
      "file_extension": ".py",
      "mimetype": "text/x-python",
      "name": "python",
      "nbconvert_exporter": "python",
      "pygments_lexer": "ipython3",
      "version": "3.8.3"
    },
    "colab": {
      "name": "04_17_prophet_01.ipynb",
      "provenance": [],
      "include_colab_link": true
    }
  },
  "cells": [
    {
      "cell_type": "markdown",
      "metadata": {
        "id": "view-in-github",
        "colab_type": "text"
      },
      "source": [
        "<a href=\"https://colab.research.google.com/github/mengwangk/dl-projects/blob/master/04_17_prophet_01.ipynb\" target=\"_parent\"><img src=\"https://colab.research.google.com/assets/colab-badge.svg\" alt=\"Open In Colab\"/></a>"
      ]
    },
    {
      "cell_type": "markdown",
      "metadata": {
        "id": "C0wsNdjJj-No"
      },
      "source": [
        "# Prophet from Facebook\n",
        "\n",
        "[Getting started](https://facebook.github.io/prophet/docs/quick_start.html#python-api)\n",
        "\n",
        "[Prophet+Fastai](https://www.martinalarcon.org/2018-12-31-ab-timeseries/)\n",
        "\n",
        "[Arima, LSTM, Prophet](https://medium.com/analytics-vidhya/time-series-forecasting-arima-vs-lstm-vs-prophet-62241c203a3b)"
      ]
    },
    {
      "cell_type": "code",
      "metadata": {
        "id": "1s1Gnay5j-Np"
      },
      "source": [
        "!pip install -qq pystan\n",
        "!pip install -qq fbprophet"
      ],
      "execution_count": 1,
      "outputs": []
    },
    {
      "cell_type": "code",
      "metadata": {
        "id": "hgaR7pnCk1jD"
      },
      "source": [
        "import pandas as pd\n",
        "import numpy as np\n",
        "import seaborn as sns\n",
        "import matplotlib.pyplot as plt\n",
        "import matplotlib\n",
        "from pathlib import Path\n",
        "from fbprophet import Prophet\n",
        "\n",
        "DATASET_NAME = '4D.zip'"
      ],
      "execution_count": 2,
      "outputs": []
    },
    {
      "cell_type": "code",
      "metadata": {
        "id": "XPWqHVQelWwT",
        "outputId": "a768c891-17f1-4d95-b63a-faef78e539d2",
        "colab": {
          "base_uri": "https://localhost:8080/",
          "height": 136
        }
      },
      "source": [
        "!git clone https://github.com/mengwangk/dl-projects\n",
        "!cp dl-projects/utils* .\n",
        "!cp dl-projects/preprocess* ."
      ],
      "execution_count": 3,
      "outputs": [
        {
          "output_type": "stream",
          "text": [
            "Cloning into 'dl-projects'...\n",
            "remote: Enumerating objects: 158, done.\u001b[K\n",
            "remote: Counting objects: 100% (158/158), done.\u001b[K\n",
            "remote: Compressing objects: 100% (141/141), done.\u001b[K\n",
            "remote: Total 2368 (delta 98), reused 33 (delta 17), pack-reused 2210\u001b[K\n",
            "Receiving objects: 100% (2368/2368), 80.66 MiB | 11.09 MiB/s, done.\n",
            "Resolving deltas: 100% (1477/1477), done.\n"
          ],
          "name": "stdout"
        }
      ]
    },
    {
      "cell_type": "code",
      "metadata": {
        "id": "_D0Mx_vOm5Ak"
      },
      "source": [
        "%reload_ext autoreload\n",
        "%autoreload 2\n",
        "\n",
        "%matplotlib notebook"
      ],
      "execution_count": 4,
      "outputs": []
    },
    {
      "cell_type": "code",
      "metadata": {
        "id": "N9aShCpxnvqc"
      },
      "source": [
        "from utils import *\n",
        "from preprocess import *"
      ],
      "execution_count": 5,
      "outputs": []
    },
    {
      "cell_type": "code",
      "metadata": {
        "id": "B6z_N9RaoFSk",
        "outputId": "0dc7abad-b7c8-4708-b8e9-1a996bf6578a",
        "colab": {
          "base_uri": "https://localhost:8080/",
          "height": 34
        }
      },
      "source": [
        "from google.colab import drive\n",
        "drive.mount('/content/gdrive')\n",
        "GDRIVE_DATASET_FOLDER = Path('gdrive/My Drive/datasets/')\n",
        "DATASET_PATH = GDRIVE_DATASET_FOLDER\n",
        "ORIGIN_DATASET_PATH = Path('dl-projects/datasets')\n",
        "ORIGIN_DATASET = ORIGIN_DATASET_PATH/DATASET_NAME"
      ],
      "execution_count": 6,
      "outputs": [
        {
          "output_type": "stream",
          "text": [
            "Mounted at /content/gdrive\n"
          ],
          "name": "stdout"
        }
      ]
    },
    {
      "cell_type": "code",
      "metadata": {
        "id": "rZ-ni0_8oStC",
        "outputId": "b5aedda4-e849-44b4-e0fc-9af432129091",
        "colab": {
          "base_uri": "https://localhost:8080/",
          "height": 359
        }
      },
      "source": [
        "data = format_tabular(ORIGIN_DATASET)\n",
        "data.head(10)"
      ],
      "execution_count": 7,
      "outputs": [
        {
          "output_type": "execute_result",
          "data": {
            "text/html": [
              "<div>\n",
              "<style scoped>\n",
              "    .dataframe tbody tr th:only-of-type {\n",
              "        vertical-align: middle;\n",
              "    }\n",
              "\n",
              "    .dataframe tbody tr th {\n",
              "        vertical-align: top;\n",
              "    }\n",
              "\n",
              "    .dataframe thead th {\n",
              "        text-align: right;\n",
              "    }\n",
              "</style>\n",
              "<table border=\"1\" class=\"dataframe\">\n",
              "  <thead>\n",
              "    <tr style=\"text-align: right;\">\n",
              "      <th></th>\n",
              "      <th>DrawNo</th>\n",
              "      <th>DrawDate</th>\n",
              "      <th>PrizeType</th>\n",
              "      <th>LuckyNo</th>\n",
              "    </tr>\n",
              "  </thead>\n",
              "  <tbody>\n",
              "    <tr>\n",
              "      <th>0</th>\n",
              "      <td>40792</td>\n",
              "      <td>1992-05-06</td>\n",
              "      <td>1stPrizeNo</td>\n",
              "      <td>19</td>\n",
              "    </tr>\n",
              "    <tr>\n",
              "      <th>1</th>\n",
              "      <td>40792</td>\n",
              "      <td>1992-05-06</td>\n",
              "      <td>2ndPrizeNo</td>\n",
              "      <td>1124</td>\n",
              "    </tr>\n",
              "    <tr>\n",
              "      <th>2</th>\n",
              "      <td>40792</td>\n",
              "      <td>1992-05-06</td>\n",
              "      <td>3rdPrizeNo</td>\n",
              "      <td>592</td>\n",
              "    </tr>\n",
              "    <tr>\n",
              "      <th>3</th>\n",
              "      <td>40792</td>\n",
              "      <td>1992-05-06</td>\n",
              "      <td>ConsolationNo1</td>\n",
              "      <td>5311</td>\n",
              "    </tr>\n",
              "    <tr>\n",
              "      <th>4</th>\n",
              "      <td>40792</td>\n",
              "      <td>1992-05-06</td>\n",
              "      <td>ConsolationNo10</td>\n",
              "      <td>407</td>\n",
              "    </tr>\n",
              "    <tr>\n",
              "      <th>5</th>\n",
              "      <td>40792</td>\n",
              "      <td>1992-05-06</td>\n",
              "      <td>ConsolationNo2</td>\n",
              "      <td>1949</td>\n",
              "    </tr>\n",
              "    <tr>\n",
              "      <th>6</th>\n",
              "      <td>40792</td>\n",
              "      <td>1992-05-06</td>\n",
              "      <td>ConsolationNo3</td>\n",
              "      <td>1606</td>\n",
              "    </tr>\n",
              "    <tr>\n",
              "      <th>7</th>\n",
              "      <td>40792</td>\n",
              "      <td>1992-05-06</td>\n",
              "      <td>ConsolationNo4</td>\n",
              "      <td>3775</td>\n",
              "    </tr>\n",
              "    <tr>\n",
              "      <th>8</th>\n",
              "      <td>40792</td>\n",
              "      <td>1992-05-06</td>\n",
              "      <td>ConsolationNo5</td>\n",
              "      <td>6226</td>\n",
              "    </tr>\n",
              "    <tr>\n",
              "      <th>9</th>\n",
              "      <td>40792</td>\n",
              "      <td>1992-05-06</td>\n",
              "      <td>ConsolationNo6</td>\n",
              "      <td>1271</td>\n",
              "    </tr>\n",
              "  </tbody>\n",
              "</table>\n",
              "</div>"
            ],
            "text/plain": [
              "   DrawNo   DrawDate        PrizeType  LuckyNo\n",
              "0   40792 1992-05-06       1stPrizeNo       19\n",
              "1   40792 1992-05-06       2ndPrizeNo     1124\n",
              "2   40792 1992-05-06       3rdPrizeNo      592\n",
              "3   40792 1992-05-06   ConsolationNo1     5311\n",
              "4   40792 1992-05-06  ConsolationNo10      407\n",
              "5   40792 1992-05-06   ConsolationNo2     1949\n",
              "6   40792 1992-05-06   ConsolationNo3     1606\n",
              "7   40792 1992-05-06   ConsolationNo4     3775\n",
              "8   40792 1992-05-06   ConsolationNo5     6226\n",
              "9   40792 1992-05-06   ConsolationNo6     1271"
            ]
          },
          "metadata": {
            "tags": []
          },
          "execution_count": 7
        }
      ]
    },
    {
      "cell_type": "code",
      "metadata": {
        "id": "h6XJMGKsoqk3",
        "outputId": "e8fccd57-d61f-4cc2-9e86-49663e8e8b49",
        "colab": {
          "base_uri": "https://localhost:8080/",
          "height": 359
        }
      },
      "source": [
        "data.rename(columns={\"DrawDate\": 'ds', \"LuckyNo\": \"y\" }, inplace=True)\n",
        "ts_data = data.drop(columns=[\"DrawNo\", \"PrizeType\"])\n",
        "ts_data.head(10)"
      ],
      "execution_count": 12,
      "outputs": [
        {
          "output_type": "execute_result",
          "data": {
            "text/html": [
              "<div>\n",
              "<style scoped>\n",
              "    .dataframe tbody tr th:only-of-type {\n",
              "        vertical-align: middle;\n",
              "    }\n",
              "\n",
              "    .dataframe tbody tr th {\n",
              "        vertical-align: top;\n",
              "    }\n",
              "\n",
              "    .dataframe thead th {\n",
              "        text-align: right;\n",
              "    }\n",
              "</style>\n",
              "<table border=\"1\" class=\"dataframe\">\n",
              "  <thead>\n",
              "    <tr style=\"text-align: right;\">\n",
              "      <th></th>\n",
              "      <th>ds</th>\n",
              "      <th>y</th>\n",
              "    </tr>\n",
              "  </thead>\n",
              "  <tbody>\n",
              "    <tr>\n",
              "      <th>0</th>\n",
              "      <td>1992-05-06</td>\n",
              "      <td>19</td>\n",
              "    </tr>\n",
              "    <tr>\n",
              "      <th>1</th>\n",
              "      <td>1992-05-06</td>\n",
              "      <td>1124</td>\n",
              "    </tr>\n",
              "    <tr>\n",
              "      <th>2</th>\n",
              "      <td>1992-05-06</td>\n",
              "      <td>592</td>\n",
              "    </tr>\n",
              "    <tr>\n",
              "      <th>3</th>\n",
              "      <td>1992-05-06</td>\n",
              "      <td>5311</td>\n",
              "    </tr>\n",
              "    <tr>\n",
              "      <th>4</th>\n",
              "      <td>1992-05-06</td>\n",
              "      <td>407</td>\n",
              "    </tr>\n",
              "    <tr>\n",
              "      <th>5</th>\n",
              "      <td>1992-05-06</td>\n",
              "      <td>1949</td>\n",
              "    </tr>\n",
              "    <tr>\n",
              "      <th>6</th>\n",
              "      <td>1992-05-06</td>\n",
              "      <td>1606</td>\n",
              "    </tr>\n",
              "    <tr>\n",
              "      <th>7</th>\n",
              "      <td>1992-05-06</td>\n",
              "      <td>3775</td>\n",
              "    </tr>\n",
              "    <tr>\n",
              "      <th>8</th>\n",
              "      <td>1992-05-06</td>\n",
              "      <td>6226</td>\n",
              "    </tr>\n",
              "    <tr>\n",
              "      <th>9</th>\n",
              "      <td>1992-05-06</td>\n",
              "      <td>1271</td>\n",
              "    </tr>\n",
              "  </tbody>\n",
              "</table>\n",
              "</div>"
            ],
            "text/plain": [
              "          ds     y\n",
              "0 1992-05-06    19\n",
              "1 1992-05-06  1124\n",
              "2 1992-05-06   592\n",
              "3 1992-05-06  5311\n",
              "4 1992-05-06   407\n",
              "5 1992-05-06  1949\n",
              "6 1992-05-06  1606\n",
              "7 1992-05-06  3775\n",
              "8 1992-05-06  6226\n",
              "9 1992-05-06  1271"
            ]
          },
          "metadata": {
            "tags": []
          },
          "execution_count": 12
        }
      ]
    },
    {
      "cell_type": "code",
      "metadata": {
        "id": "ilfk9cHKZv8V",
        "outputId": "9a8fa4c3-babd-49dd-eac3-8a2d35a93dd0",
        "colab": {
          "base_uri": "https://localhost:8080/",
          "height": 68
        }
      },
      "source": [
        "m = Prophet()\n",
        "m.fit(ts_data)"
      ],
      "execution_count": 13,
      "outputs": [
        {
          "output_type": "stream",
          "text": [
            "INFO:numexpr.utils:NumExpr defaulting to 2 threads.\n",
            "INFO:fbprophet:Disabling daily seasonality. Run prophet with daily_seasonality=True to override this.\n"
          ],
          "name": "stderr"
        },
        {
          "output_type": "execute_result",
          "data": {
            "text/plain": [
              "<fbprophet.forecaster.Prophet at 0x7fbfc8c8b940>"
            ]
          },
          "metadata": {
            "tags": []
          },
          "execution_count": 13
        }
      ]
    },
    {
      "cell_type": "code",
      "metadata": {
        "id": "d0o7gFZdaSVC",
        "outputId": "cf370b08-9d4b-4719-c286-883093961f8a",
        "colab": {
          "base_uri": "https://localhost:8080/",
          "height": 34
        }
      },
      "source": [
        "m.sample_model"
      ],
      "execution_count": 15,
      "outputs": [
        {
          "output_type": "execute_result",
          "data": {
            "text/plain": [
              "<bound method Prophet.sample_model of <fbprophet.forecaster.Prophet object at 0x7fbfc8c8b940>>"
            ]
          },
          "metadata": {
            "tags": []
          },
          "execution_count": 15
        }
      ]
    },
    {
      "cell_type": "code",
      "metadata": {
        "id": "lyyt3Hfaavoa"
      },
      "source": [
        ""
      ],
      "execution_count": null,
      "outputs": []
    }
  ]
}
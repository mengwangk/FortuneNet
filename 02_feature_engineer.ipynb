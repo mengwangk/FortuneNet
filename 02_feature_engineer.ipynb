{
 "cells": [
  {
   "cell_type": "markdown",
   "metadata": {},
   "source": [
    "# Feature Engineering"
   ]
  },
  {
   "cell_type": "code",
   "execution_count": 1,
   "metadata": {},
   "outputs": [],
   "source": [
    "from pathlib import Path\n",
    "import pandas as pd\n",
    "import numpy as np\n",
    "\n",
    "DATASET = Path(\"datasets/lotto/data_processed.csv\")"
   ]
  },
  {
   "cell_type": "code",
   "execution_count": 2,
   "metadata": {},
   "outputs": [],
   "source": [
    "# Read into data frame\n",
    "dataset = pd.read_csv(DATASET, header=0, sep=',', quotechar='\"', parse_dates=['DrawDate'], dtype={'PrizeType': str})"
   ]
  },
  {
   "cell_type": "code",
   "execution_count": 3,
   "metadata": {},
   "outputs": [],
   "source": [
    "df = dataset.copy()"
   ]
  },
  {
   "cell_type": "code",
   "execution_count": 84,
   "metadata": {},
   "outputs": [
    {
     "name": "stdout",
     "output_type": "stream",
     "text": [
      "<class 'pandas.core.frame.DataFrame'>\n",
      "RangeIndex: 104673 entries, 0 to 104672\n",
      "Columns: 115 entries, DrawNo to pos_4_9_freq\n",
      "dtypes: datetime64[ns](1), float64(2), int64(111), object(1)\n",
      "memory usage: 91.8+ MB\n"
     ]
    }
   ],
   "source": [
    "df.info()"
   ]
  },
  {
   "cell_type": "code",
   "execution_count": 88,
   "metadata": {},
   "outputs": [
    {
     "data": {
      "text/html": [
       "<div>\n",
       "<style scoped>\n",
       "    .dataframe tbody tr th:only-of-type {\n",
       "        vertical-align: middle;\n",
       "    }\n",
       "\n",
       "    .dataframe tbody tr th {\n",
       "        vertical-align: top;\n",
       "    }\n",
       "\n",
       "    .dataframe thead th {\n",
       "        text-align: right;\n",
       "    }\n",
       "</style>\n",
       "<table border=\"1\" class=\"dataframe\">\n",
       "  <thead>\n",
       "    <tr style=\"text-align: right;\">\n",
       "      <th></th>\n",
       "      <th>DrawNo</th>\n",
       "      <th>DrawDate</th>\n",
       "      <th>PrizeType</th>\n",
       "      <th>LuckyNo</th>\n",
       "      <th>DaysSinceLastExactMatch</th>\n",
       "      <th>DaysUntilNextExactMatch</th>\n",
       "      <th>DaysSinceLastAnyMatch</th>\n",
       "      <th>DaysUntilNextAnyMatch</th>\n",
       "      <th>1st_digit</th>\n",
       "      <th>2nd_digit</th>\n",
       "      <th>...</th>\n",
       "      <th>pos_4_0_freq</th>\n",
       "      <th>pos_4_1_freq</th>\n",
       "      <th>pos_4_2_freq</th>\n",
       "      <th>pos_4_3_freq</th>\n",
       "      <th>pos_4_4_freq</th>\n",
       "      <th>pos_4_5_freq</th>\n",
       "      <th>pos_4_6_freq</th>\n",
       "      <th>pos_4_7_freq</th>\n",
       "      <th>pos_4_8_freq</th>\n",
       "      <th>pos_4_9_freq</th>\n",
       "    </tr>\n",
       "  </thead>\n",
       "  <tbody>\n",
       "    <tr>\n",
       "      <th>0</th>\n",
       "      <td>40792</td>\n",
       "      <td>1992-05-06</td>\n",
       "      <td>1stPrizeNo</td>\n",
       "      <td>19</td>\n",
       "      <td>0</td>\n",
       "      <td>28</td>\n",
       "      <td>0</td>\n",
       "      <td>28</td>\n",
       "      <td>0</td>\n",
       "      <td>0</td>\n",
       "      <td>...</td>\n",
       "      <td>5</td>\n",
       "      <td>8</td>\n",
       "      <td>2</td>\n",
       "      <td>2</td>\n",
       "      <td>5</td>\n",
       "      <td>5</td>\n",
       "      <td>5</td>\n",
       "      <td>6</td>\n",
       "      <td>2</td>\n",
       "      <td>6</td>\n",
       "    </tr>\n",
       "  </tbody>\n",
       "</table>\n",
       "<p>1 rows × 115 columns</p>\n",
       "</div>"
      ],
      "text/plain": [
       "   DrawNo   DrawDate   PrizeType  LuckyNo  DaysSinceLastExactMatch  \\\n",
       "0   40792 1992-05-06  1stPrizeNo       19                        0   \n",
       "\n",
       "   DaysUntilNextExactMatch  DaysSinceLastAnyMatch  DaysUntilNextAnyMatch  \\\n",
       "0                       28                      0                     28   \n",
       "\n",
       "   1st_digit  2nd_digit      ...       pos_4_0_freq  pos_4_1_freq  \\\n",
       "0          0          0      ...                  5             8   \n",
       "\n",
       "   pos_4_2_freq  pos_4_3_freq  pos_4_4_freq  pos_4_5_freq  pos_4_6_freq  \\\n",
       "0             2             2             5             5             5   \n",
       "\n",
       "   pos_4_7_freq  pos_4_8_freq  pos_4_9_freq  \n",
       "0             6             2             6  \n",
       "\n",
       "[1 rows x 115 columns]"
      ]
     },
     "execution_count": 88,
     "metadata": {},
     "output_type": "execute_result"
    }
   ],
   "source": [
    "df.head(1)"
   ]
  },
  {
   "cell_type": "code",
   "execution_count": 6,
   "metadata": {},
   "outputs": [],
   "source": [
    "# Python ≥3.5 is required\n",
    "import sys\n",
    "assert sys.version_info >= (3, 5)"
   ]
  },
  {
   "cell_type": "code",
   "execution_count": null,
   "metadata": {},
   "outputs": [],
   "source": [
    "# Scikit-Learn ≥0.20 is required\n",
    "import sklearn\n",
    "assert sklearn.__version__ >= \"0.20\""
   ]
  },
  {
   "cell_type": "code",
   "execution_count": 93,
   "metadata": {},
   "outputs": [],
   "source": [
    "# pytorch\n",
    "import torch\n",
    "from torchvision import transforms"
   ]
  },
  {
   "cell_type": "code",
   "execution_count": 7,
   "metadata": {},
   "outputs": [
    {
     "data": {
      "text/plain": [
       "\u001b[0;31mType:\u001b[0m        CClass\n",
       "\u001b[0;31mString form:\u001b[0m <numpy.lib.index_tricks.CClass object at 0x110d77748>\n",
       "\u001b[0;31mLength:\u001b[0m      0\n",
       "\u001b[0;31mFile:\u001b[0m        ~/anaconda3/lib/python3.7/site-packages/numpy/lib/index_tricks.py\n",
       "\u001b[0;31mDocstring:\u001b[0m  \n",
       "Translates slice objects to concatenation along the second axis.\n",
       "\n",
       "This is short-hand for ``np.r_['-1,2,0', index expression]``, which is\n",
       "useful because of its common occurrence. In particular, arrays will be\n",
       "stacked along their last axis after being upgraded to at least 2-D with\n",
       "1's post-pended to the shape (column vectors made out of 1-D arrays).\n",
       "\n",
       "See Also\n",
       "--------\n",
       "column_stack : Stack 1-D arrays as columns into a 2-D array.\n",
       "r_ : For more detailed documentation.\n",
       "\n",
       "Examples\n",
       "--------\n",
       ">>> np.c_[np.array([1,2,3]), np.array([4,5,6])]\n",
       "array([[1, 4],\n",
       "       [2, 5],\n",
       "       [3, 6]])\n",
       ">>> np.c_[np.array([[1,2,3]]), 0, 0, np.array([[4,5,6]])]\n",
       "array([[1, 2, 3, 0, 0, 4, 5, 6]])\n"
      ]
     },
     "metadata": {},
     "output_type": "display_data"
    }
   ],
   "source": [
    "np.c_?"
   ]
  },
  {
   "cell_type": "code",
   "execution_count": 58,
   "metadata": {},
   "outputs": [
    {
     "name": "stdout",
     "output_type": "stream",
     "text": [
      "[DrawNo] \n",
      "[DrawDate] [PrizeType] [LuckyNo] [DaysSinceLastExactMatch] [DaysUntilNextExactMatch] [DaysSinceLastAnyMatch] [DaysUntilNextAnyMatch] [1st_digit] [2nd_digit] [3rd_digit] \n",
      "[4th_digit] [DrawYear] [DrawMonth] [DrawWeek] [DrawDay] [DrawDayofweek] [DrawDayofyear] [CumProbaExactMatch] [CumProbaAnyMatch] [0_1] \n",
      "[0_2] [0_3] [0_4] [0_5] [0_6] [0_7] [0_8] [0_9] [1_2] [1_3] \n",
      "[1_4] [1_5] [1_6] [1_7] [1_8] [1_9] [2_3] [2_4] [2_5] [2_6] \n",
      "[2_7] [2_8] [2_9] [3_4] [3_5] [3_6] [3_7] [3_8] [3_9] [4_5] \n",
      "[4_6] [4_7] [4_8] [4_9] [5_6] [5_7] [5_8] [5_9] [6_7] [6_8] \n",
      "[6_9] [7_8] [7_9] [8_9] [0_0] [1_1] [2_2] [3_3] [4_4] [5_5] \n",
      "[6_6] [7_7] [8_8] [9_9] [pos_1_0_freq] [pos_1_1_freq] [pos_1_2_freq] [pos_1_3_freq] [pos_1_4_freq] [pos_1_5_freq] \n",
      "[pos_1_6_freq] [pos_1_7_freq] [pos_1_8_freq] [pos_1_9_freq] [pos_2_0_freq] [pos_2_1_freq] [pos_2_2_freq] [pos_2_3_freq] [pos_2_4_freq] [pos_2_5_freq] \n",
      "[pos_2_6_freq] [pos_2_7_freq] [pos_2_8_freq] [pos_2_9_freq] [pos_3_0_freq] [pos_3_1_freq] [pos_3_2_freq] [pos_3_3_freq] [pos_3_4_freq] [pos_3_5_freq] \n",
      "[pos_3_6_freq] [pos_3_7_freq] [pos_3_8_freq] [pos_3_9_freq] [pos_4_0_freq] [pos_4_1_freq] [pos_4_2_freq] [pos_4_3_freq] [pos_4_4_freq] [pos_4_5_freq] \n",
      "[pos_4_6_freq] [pos_4_7_freq] [pos_4_8_freq] [pos_4_9_freq] "
     ]
    }
   ],
   "source": [
    "for ind, column in enumerate(df.columns):\n",
    "    print(\"[{}]\".format(column), end=' ')\n",
    "    if ind % 10 == 0:\n",
    "        print()"
   ]
  },
  {
   "cell_type": "code",
   "execution_count": 77,
   "metadata": {},
   "outputs": [],
   "source": [
    "numeric_features = [\"DaysSinceLastExactMatch\", \"DaysUntilNextExactMatch\"]\n",
    "categorical_features = []\n",
    "datetime_features = [\"DrawDate\"]\n",
    "target_feature = [\"DrawNo\"]"
   ]
  },
  {
   "cell_type": "code",
   "execution_count": null,
   "metadata": {},
   "outputs": [],
   "source": []
  },
  {
   "cell_type": "code",
   "execution_count": null,
   "metadata": {},
   "outputs": [],
   "source": []
  },
  {
   "cell_type": "markdown",
   "metadata": {},
   "source": [
    "## Numeric\n",
    "\n",
    "```\n",
    "1. Numeric feature preprocessing is different for tree and\n",
    "non-tree models:\n",
    "    a. Tree-based models doesn’t depend on scaling\n",
    "    b. Non-tree-based models hugely depend on scaling\n",
    "\n",
    "\n",
    "2. Most often used preprocessings are:\n",
    "    a. MinMaxScaler - to [0,1]\n",
    "    b. StandardScaler - to mean==0, std==1\n",
    "    c. Rank - sets spaces between sorted values to be equal\n",
    "    d. np.log(1+x) and np.sqrt(1+x)\n",
    "\n",
    "\n",
    "3. Scaling and Rank for numeric features:\n",
    "    a. Tree-based models doesn't depend on them\n",
    "    b. Non-tree-based models hugely depend on them\n",
    "\n",
    "4. Most often used preprocessings are:\n",
    "    a. MinMaxScaler - to [0,1]\n",
    "    b. StandardScaler - to mean==0, std==1\n",
    "    c. Rank - sets spaces between sorted values to be equal\n",
    "    d. np.log(1+x) and np.sqrt(1+x)\n",
    "\n",
    "5. Feature generation is powered by:\n",
    "    a. Prior knowledge\n",
    "    b. Exploratory data analysis\n",
    "    \n",
    "To [0,1]\n",
    "sklearn.preprocessing.MinMaxScaler\n",
    "X = (X  X.min())/(X.max()  X.min())\n",
    "\n",
    "To mean=0, std=1\n",
    "sklearn.preprocessing.StandardScaler\n",
    "X = (X  X.mean())/X.std()    \n",
    "\n",
    "UPPERBOUND, LOWERBOUND = np.percentile(x, [1,99])\n",
    "y = np.clip(x, UPPERBOUBD, LOWERBOUND)\n",
    "pd.Series(y).hist(bins=30)\n",
    "\n",
    "```\n"
   ]
  },
  {
   "cell_type": "code",
   "execution_count": 73,
   "metadata": {},
   "outputs": [],
   "source": [
    "numeric_features = {}"
   ]
  },
  {
   "cell_type": "code",
   "execution_count": null,
   "metadata": {},
   "outputs": [],
   "source": []
  },
  {
   "cell_type": "markdown",
   "metadata": {},
   "source": [
    "## Categorical"
   ]
  },
  {
   "cell_type": "markdown",
   "metadata": {},
   "source": [
    "### Mean Encoding"
   ]
  },
  {
   "cell_type": "code",
   "execution_count": null,
   "metadata": {},
   "outputs": [],
   "source": []
  },
  {
   "cell_type": "markdown",
   "metadata": {},
   "source": [
    "## DateTime"
   ]
  },
  {
   "cell_type": "code",
   "execution_count": null,
   "metadata": {},
   "outputs": [],
   "source": []
  },
  {
   "cell_type": "code",
   "execution_count": null,
   "metadata": {},
   "outputs": [],
   "source": []
  },
  {
   "cell_type": "code",
   "execution_count": null,
   "metadata": {},
   "outputs": [],
   "source": []
  },
  {
   "cell_type": "code",
   "execution_count": null,
   "metadata": {},
   "outputs": [],
   "source": []
  },
  {
   "cell_type": "markdown",
   "metadata": {},
   "source": [
    "## Timeseries"
   ]
  },
  {
   "cell_type": "markdown",
   "metadata": {},
   "source": [
    "## Coordinate"
   ]
  },
  {
   "cell_type": "code",
   "execution_count": null,
   "metadata": {},
   "outputs": [],
   "source": []
  },
  {
   "cell_type": "code",
   "execution_count": null,
   "metadata": {},
   "outputs": [],
   "source": []
  },
  {
   "cell_type": "code",
   "execution_count": null,
   "metadata": {},
   "outputs": [],
   "source": []
  },
  {
   "cell_type": "code",
   "execution_count": null,
   "metadata": {},
   "outputs": [],
   "source": []
  }
 ],
 "metadata": {
  "kernelspec": {
   "display_name": "Python 3",
   "language": "python",
   "name": "python3"
  },
  "language_info": {
   "codemirror_mode": {
    "name": "ipython",
    "version": 3
   },
   "file_extension": ".py",
   "mimetype": "text/x-python",
   "name": "python",
   "nbconvert_exporter": "python",
   "pygments_lexer": "ipython3",
   "version": "3.7.2"
  }
 },
 "nbformat": 4,
 "nbformat_minor": 2
}

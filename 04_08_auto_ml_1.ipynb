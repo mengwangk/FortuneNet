{
 "cells": [
  {
   "cell_type": "markdown",
   "metadata": {
    "colab_type": "text",
    "id": "view-in-github"
   },
   "source": [
    "<a href=\"https://colab.research.google.com/github/mengwangk/dl-projects/blob/master/04_07_auto_ml_5.ipynb\" target=\"_parent\"><img src=\"https://colab.research.google.com/assets/colab-badge.svg\" alt=\"Open In Colab\"/></a>"
   ]
  },
  {
   "cell_type": "markdown",
   "metadata": {
    "colab_type": "text",
    "id": "4hyoPGdjpqa_"
   },
   "source": [
    "# Automated ML - Tuning"
   ]
  },
  {
   "cell_type": "code",
   "execution_count": 0,
   "metadata": {
    "colab": {},
    "colab_type": "code",
    "id": "SLxr2k_ue8yq"
   },
   "outputs": [],
   "source": [
    "COLAB = True\n",
    "\n",
    "DATASET_NAME = '4D.zip'\n",
    "\n",
    "FEATURE_DATASET_PREFIX = 'feature_matrix_d2_v3'"
   ]
  },
  {
   "cell_type": "code",
   "execution_count": 4,
   "metadata": {
    "colab": {
     "base_uri": "https://localhost:8080/",
     "height": 258
    },
    "colab_type": "code",
    "id": "oy5ww2zRfFGG",
    "outputId": "433a06eb-5668-48ac-ce0e-a68f6b66b0ae"
   },
   "outputs": [
    {
     "name": "stdout",
     "output_type": "stream",
     "text": [
      "Requirement already up-to-date: imblearn in /usr/local/lib/python3.6/dist-packages (0.0)\n",
      "Requirement already satisfied, skipping upgrade: imbalanced-learn in /usr/local/lib/python3.6/dist-packages (from imblearn) (0.4.3)\n",
      "Requirement already satisfied, skipping upgrade: scipy>=0.13.3 in /usr/local/lib/python3.6/dist-packages (from imbalanced-learn->imblearn) (1.4.1)\n",
      "Requirement already satisfied, skipping upgrade: scikit-learn>=0.20 in /usr/local/lib/python3.6/dist-packages (from imbalanced-learn->imblearn) (0.22.1)\n",
      "Requirement already satisfied, skipping upgrade: numpy>=1.8.2 in /usr/local/lib/python3.6/dist-packages (from imbalanced-learn->imblearn) (1.17.5)\n",
      "Requirement already satisfied, skipping upgrade: joblib>=0.11 in /usr/local/lib/python3.6/dist-packages (from scikit-learn>=0.20->imbalanced-learn->imblearn) (0.14.1)\n",
      "Cloning into 'dl-projects'...\n",
      "remote: Enumerating objects: 66, done.\u001b[K\n",
      "remote: Counting objects: 100% (66/66), done.\u001b[K\n",
      "remote: Compressing objects: 100% (57/57), done.\u001b[K\n",
      "remote: Total 1497 (delta 41), reused 16 (delta 9), pack-reused 1431\u001b[K\n",
      "Receiving objects: 100% (1497/1497), 75.86 MiB | 25.02 MiB/s, done.\n",
      "Resolving deltas: 100% (909/909), done.\n"
     ]
    }
   ],
   "source": [
    "if COLAB:\n",
    "  !pip install -U imblearn\n",
    "  !rm -rf dl-projects\n",
    "  !git clone https://github.com/mengwangk/dl-projects"
   ]
  },
  {
   "cell_type": "code",
   "execution_count": 0,
   "metadata": {
    "colab": {},
    "colab_type": "code",
    "id": "G2xin10SfozR"
   },
   "outputs": [],
   "source": [
    "if COLAB:\n",
    "  !cp dl-projects/utils* .\n",
    "  !cp dl-projects/preprocess* .\n",
    "  !cp dl-projects/plot* ."
   ]
  },
  {
   "cell_type": "code",
   "execution_count": 0,
   "metadata": {
    "colab": {},
    "colab_type": "code",
    "id": "fC2-l3JBpqbE"
   },
   "outputs": [],
   "source": [
    "%load_ext autoreload\n",
    "# %reload_ext autoreload\n",
    "%autoreload 2\n",
    "\n",
    "%matplotlib inline"
   ]
  },
  {
   "cell_type": "code",
   "execution_count": 0,
   "metadata": {
    "colab": {},
    "colab_type": "code",
    "id": "TP7V_IzepqbK"
   },
   "outputs": [],
   "source": [
    "import numpy as np\n",
    "import pandas as pd\n",
    "import seaborn as sns\n",
    "import matplotlib.pyplot as plt\n",
    "import math \n",
    "import matplotlib\n",
    "import sys\n",
    "import gc\n",
    "\n",
    "from scipy import stats\n",
    "from collections import Counter\n",
    "from pathlib import Path\n",
    "\n",
    "import warnings\n",
    "warnings.filterwarnings('ignore')\n",
    "\n",
    "import featuretools as ft\n",
    "from sklearn.pipeline import Pipeline, make_pipeline\n",
    "from sklearn.preprocessing import MinMaxScaler, StandardScaler, RobustScaler\n",
    "from sklearn.impute import SimpleImputer\n",
    "from sklearn.metrics import precision_score, recall_score, f1_score, confusion_matrix, roc_auc_score, precision_recall_curve, make_scorer, recall_score, roc_curve, mean_squared_error, accuracy_score, average_precision_score, classification_report\n",
    "from sklearn.model_selection import train_test_split, cross_val_score, GridSearchCV, RandomizedSearchCV, StratifiedShuffleSplit\n",
    "from sklearn.linear_model import LogisticRegression\n",
    "from sklearn.svm import SVC\n",
    "from sklearn.neighbors import KNeighborsClassifier\n",
    "from sklearn.tree import DecisionTreeClassifier\n",
    "from sklearn.ensemble import RandomForestClassifier\n",
    "from sklearn.decomposition import PCA\n",
    "from imblearn.ensemble import BalancedRandomForestClassifier\n",
    "from imblearn.under_sampling import (RandomUnderSampler, \n",
    "                                     ClusterCentroids,\n",
    "                                     TomekLinks,\n",
    "                                     NeighbourhoodCleaningRule,\n",
    "                                     AllKNN,\n",
    "                                     NearMiss,\n",
    "                                     OneSidedSelection)\n",
    "from imblearn.combine import SMOTETomek\n",
    "from imblearn.pipeline import make_pipeline as make_pipeline_imb\n",
    "from imblearn.metrics import classification_report_imbalanced \n",
    "from imblearn.over_sampling import SMOTE, SMOTENC, ADASYN\n",
    "import pylab as pl\n",
    "import xgboost as xgb\n",
    "from collections import Counter\n",
    "from dateutil.relativedelta import relativedelta\n",
    "\n",
    "\n",
    "# from skopt import BayesSearchCV\n",
    "# from skopt.space import Real, Categorical, Integer\n",
    "# from scikitplot.plotters import plot_precision_recall_curve\n",
    "\n",
    "from utils import feature_selection, plot_feature_importances\n",
    "from preprocess import *\n",
    "from plot import plot_correlation_matrix, plot_labeled_scatter\n",
    "\n",
    "from IPython.display import display\n",
    "\n",
    "np.set_printoptions(threshold=sys.maxsize)\n",
    "\n",
    "plt.style.use('fivethirtyeight')\n",
    "\n",
    "sns.set(style=\"ticks\")\n",
    "\n",
    "# The Answer to the Ultimate Question of Life, the Universe, and Everything.\n",
    "np.random.seed(42)"
   ]
  },
  {
   "cell_type": "code",
   "execution_count": 8,
   "metadata": {
    "colab": {
     "base_uri": "https://localhost:8080/",
     "height": 102
    },
    "colab_type": "code",
    "id": "3bFT5CoxpqbP",
    "outputId": "451bc508-b184-4538-99e3-6d3ecacee79b"
   },
   "outputs": [
    {
     "name": "stdout",
     "output_type": "stream",
     "text": [
      "Modules to reload:\n",
      "all-except-skipped\n",
      "\n",
      "Modules to skip:\n",
      "\n"
     ]
    }
   ],
   "source": [
    "%aimport"
   ]
  },
  {
   "cell_type": "markdown",
   "metadata": {
    "colab_type": "text",
    "id": "3E16jPVPpqbV"
   },
   "source": [
    "## Preparation"
   ]
  },
  {
   "cell_type": "code",
   "execution_count": 9,
   "metadata": {
    "colab": {
     "base_uri": "https://localhost:8080/",
     "height": 122
    },
    "colab_type": "code",
    "id": "U421BuhtfYS7",
    "outputId": "132537fb-e562-4430-88e2-3a80a2d7ce54"
   },
   "outputs": [
    {
     "name": "stdout",
     "output_type": "stream",
     "text": [
      "Go to this URL in a browser: https://accounts.google.com/o/oauth2/auth?client_id=947318989803-6bn6qk8qdgf4n4g3pfee6491hc0brc4i.apps.googleusercontent.com&redirect_uri=urn%3aietf%3awg%3aoauth%3a2.0%3aoob&response_type=code&scope=email%20https%3a%2f%2fwww.googleapis.com%2fauth%2fdocs.test%20https%3a%2f%2fwww.googleapis.com%2fauth%2fdrive%20https%3a%2f%2fwww.googleapis.com%2fauth%2fdrive.photos.readonly%20https%3a%2f%2fwww.googleapis.com%2fauth%2fpeopleapi.readonly\n",
      "\n",
      "Enter your authorization code:\n",
      "··········\n",
      "Mounted at /content/gdrive\n"
     ]
    }
   ],
   "source": [
    "if COLAB:\n",
    "  from google.colab import drive\n",
    "  drive.mount('/content/gdrive')\n",
    "  GDRIVE_DATASET_FOLDER = Path('gdrive/My Drive/datasets/')"
   ]
  },
  {
   "cell_type": "code",
   "execution_count": 10,
   "metadata": {
    "colab": {
     "base_uri": "https://localhost:8080/",
     "height": 272
    },
    "colab_type": "code",
    "id": "9IgnETKkpqbX",
    "outputId": "95340e70-cbb5-4900-f3af-64ad359aed99"
   },
   "outputs": [
    {
     "name": "stdout",
     "output_type": "stream",
     "text": [
      "total 7449M\n",
      "-rw------- 1 root root   11M Jan 30 04:21 data_X_test.csv\n",
      "-rw------- 1 root root 1425M Jan 30 04:19 data_X_train.csv\n",
      "-rw------- 1 root root    1M Jan 30 04:21 data_y_test.csv\n",
      "-rw------- 1 root root    3M Jan 30 04:21 data_y_train.csv\n",
      "-rw------- 1 root root 1548M Jan  7 00:07 feature_matrix_d2_v1.pkl\n",
      "-rw------- 1 root root 2454M Jan 12 01:24 feature_matrix_d2_v2.ft\n",
      "-rw------- 1 root root 1585M Jan 12 23:39 feature_matrix_d2_v3.ft\n",
      "-rw------- 1 root root    5M Jan 30 04:33 orig_X_test.ft\n",
      "-rw------- 1 root root  415M Jan 30 04:33 orig_X_train.ft\n",
      "-rw------- 1 root root    1M Jan 30 04:33 orig_y_test.ft\n",
      "-rw------- 1 root root    7M Jan 30 04:33 orig_y_train.ft\n",
      "total 25M\n",
      "-rw-r--r-- 1 root root  1M Jan 30 14:36 4D.zip\n",
      "-rw-r--r-- 1 root root 25M Jan 30 14:36 labels.csv\n"
     ]
    }
   ],
   "source": [
    "if COLAB:\n",
    "  DATASET_PATH = GDRIVE_DATASET_FOLDER\n",
    "  ORIGIN_DATASET_PATH = Path('dl-projects/datasets')\n",
    "else:\n",
    "  DATASET_PATH = Path(\"datasets\")\n",
    "  ORIGIN_DATASET_PATH = Path('datasets')\n",
    "\n",
    "DATASET = DATASET_PATH/f\"{FEATURE_DATASET_PREFIX}.ft\"\n",
    "ORIGIN_DATASET = ORIGIN_DATASET_PATH/DATASET_NAME\n",
    "\n",
    "if COLAB:\n",
    "  !ls -l gdrive/\"My Drive\"/datasets/ --block-size=M\n",
    "  !ls -l dl-projects/datasets --block-size=M"
   ]
  },
  {
   "cell_type": "code",
   "execution_count": 0,
   "metadata": {
    "colab": {},
    "colab_type": "code",
    "id": "urQTD6DQNutw"
   },
   "outputs": [],
   "source": [
    "# Read the data\n",
    "data = pd.read_feather(DATASET)\n",
    "origin_data = format_tabular(ORIGIN_DATASET)"
   ]
  },
  {
   "cell_type": "markdown",
   "metadata": {
    "colab_type": "text",
    "id": "vOYlp-8Br61r"
   },
   "source": [
    "## Exploratory Data Analysis"
   ]
  },
  {
   "cell_type": "markdown",
   "metadata": {
    "colab_type": "text",
    "id": "kHiN1VVlG9Kh"
   },
   "source": [
    "### View data"
   ]
  },
  {
   "cell_type": "code",
   "execution_count": 0,
   "metadata": {
    "colab": {},
    "colab_type": "code",
    "id": "JnQXyVqng5Cm"
   },
   "outputs": [],
   "source": [
    "# Feature matrix\n",
    "feature_matrix = data.drop(columns=['NumberId', 'month', 'year'])"
   ]
  },
  {
   "cell_type": "code",
   "execution_count": 13,
   "metadata": {
    "colab": {
     "base_uri": "https://localhost:8080/",
     "height": 102
    },
    "colab_type": "code",
    "id": "apMYVNz9HK9e",
    "outputId": "2bcfcae6-823a-4bfb-898e-e2fd9c32ce50"
   },
   "outputs": [
    {
     "name": "stdout",
     "output_type": "stream",
     "text": [
      "<class 'pandas.core.frame.DataFrame'>\n",
      "Int64Index: 959893 entries, 7020 to 956511\n",
      "Columns: 214 entries, time to LAST(Results.PrizeType)_Prize\n",
      "dtypes: datetime64[ns](1), float64(155), int64(56), uint8(2)\n",
      "memory usage: 1.5 GB\n"
     ]
    }
   ],
   "source": [
    "# Sort data\n",
    "feature_matrix.sort_values(by=['time', 'MAX(Results.LuckyNo)'], inplace=True)\n",
    "feature_matrix.info()"
   ]
  },
  {
   "cell_type": "code",
   "execution_count": 14,
   "metadata": {
    "colab": {
     "base_uri": "https://localhost:8080/",
     "height": 136
    },
    "colab_type": "code",
    "id": "CZKTbWRFJNUq",
    "outputId": "ba09da84-769b-4cef-9b8c-2e66632a9a10"
   },
   "outputs": [
    {
     "name": "stdout",
     "output_type": "stream",
     "text": [
      "Distrbution\n",
      "0    927839\n",
      "1     32054\n",
      "Name: Label, dtype: int64\n",
      "\n",
      "Positive: 927839 which is  96.66 % of the dataset\n",
      "Negative: 32054 which is  3.34 % of the dataset\n"
     ]
    }
   ],
   "source": [
    "print('Distrbution')\n",
    "print(feature_matrix['Label'].value_counts())\n",
    "print()\n",
    "print('Positive: ' + str(feature_matrix['Label'].value_counts()[0]) + ' which is ', round(feature_matrix['Label'].value_counts()[0]/len(feature_matrix) * 100,2), '% of the dataset')\n",
    "print('Negative: ' + str(feature_matrix['Label'].value_counts()[1]) + ' which is ', round(feature_matrix['Label'].value_counts()[1]/len(feature_matrix) * 100,2), '% of the dataset')"
   ]
  },
  {
   "cell_type": "code",
   "execution_count": 15,
   "metadata": {
    "colab": {
     "base_uri": "https://localhost:8080/",
     "height": 221
    },
    "colab_type": "code",
    "id": "plplpAQ6JrKb",
    "outputId": "334e92bf-4c42-4623-9783-41dec8242ad2"
   },
   "outputs": [
    {
     "data": {
      "text/plain": [
       "SKEW(Results.TIME_SINCE_PREVIOUS(DrawDate))               7636\n",
       "CUM_MEAN(TREND(Results.LuckyNo, DrawDate))                7636\n",
       "TREND(Results.TIME_SINCE_PREVIOUS(DrawDate), DrawDate)    7636\n",
       "TREND(Results.CUM_MEAN(TotalStrike), DrawDate)            7636\n",
       "TREND(Results.CUM_SUM(LuckyNo), DrawDate)                 7636\n",
       "                                                          ... \n",
       "CUM_SUM(MIN(Results.DrawNo))                                 0\n",
       "NUM_UNIQUE(Results.DAY(DrawDate))                            0\n",
       "NUM_UNIQUE(Results.MONTH(DrawDate))                          0\n",
       "SUM(Results.PERCENTILE(LuckyNo))                             0\n",
       "time                                                         0\n",
       "Length: 214, dtype: int64"
      ]
     },
     "execution_count": 15,
     "metadata": {
      "tags": []
     },
     "output_type": "execute_result"
    }
   ],
   "source": [
    "feature_matrix.isna().sum().sort_values(ascending=False)"
   ]
  },
  {
   "cell_type": "markdown",
   "metadata": {
    "colab_type": "text",
    "id": "zF_zCRksL1Ls"
   },
   "source": [
    "### Feature Selection"
   ]
  },
  {
   "cell_type": "code",
   "execution_count": 0,
   "metadata": {
    "colab": {},
    "colab_type": "code",
    "id": "S1aLGsXSOa9K"
   },
   "outputs": [],
   "source": [
    "# Fill all NaN with 0\n",
    "feature_matrix = feature_matrix.fillna(0)"
   ]
  },
  {
   "cell_type": "code",
   "execution_count": 17,
   "metadata": {
    "colab": {
     "base_uri": "https://localhost:8080/",
     "height": 34
    },
    "colab_type": "code",
    "id": "5A8LZ805MqjP",
    "outputId": "01b68fed-5f9a-448d-e427-18d1eefa653e"
   },
   "outputs": [
    {
     "data": {
      "text/plain": [
       "(959893, 214)"
      ]
     },
     "execution_count": 17,
     "metadata": {
      "tags": []
     },
     "output_type": "execute_result"
    }
   ],
   "source": [
    "feature_matrix.shape"
   ]
  },
  {
   "cell_type": "code",
   "execution_count": 18,
   "metadata": {
    "colab": {
     "base_uri": "https://localhost:8080/",
     "height": 119
    },
    "colab_type": "code",
    "id": "rPFOkiGjhuKj",
    "outputId": "1979b824-ffb5-4509-d326-77a8ef519a2a"
   },
   "outputs": [
    {
     "name": "stdout",
     "output_type": "stream",
     "text": [
      "Original shape:  (959893, 211)\n",
      "0 missing columns with threshold: 90.\n",
      "41 zero variance columns.\n",
      "109 collinear columns removed with threshold: 0.95.\n",
      "Total columns removed:  150\n",
      "Shape after feature selection: (959893, 61).\n"
     ]
    }
   ],
   "source": [
    "feature_matrix_selection = feature_selection(feature_matrix.drop(columns = ['time', 'TotalStrike', 'Label']))"
   ]
  },
  {
   "cell_type": "code",
   "execution_count": 19,
   "metadata": {
    "colab": {
     "base_uri": "https://localhost:8080/",
     "height": 782
    },
    "colab_type": "code",
    "id": "vT2K0WeJhugH",
    "outputId": "fdddf6c7-3a74-4638-81ff-0f775377afd0"
   },
   "outputs": [
    {
     "data": {
      "text/plain": [
       "((959893, 61),\n",
       " Index(['STD(Results.DrawNo)', 'MAX(Results.DrawNo)', 'MAX(Results.LuckyNo)',\n",
       "        'MIN(Results.DrawNo)', 'MEAN(Results.DrawNo)', 'SKEW(Results.DrawNo)',\n",
       "        'AVG_TIME_BETWEEN(Results.DrawDate)', 'COUNT(Results)',\n",
       "        'SUM(Results.DrawNo)', 'SUM(Results.LuckyNo)',\n",
       "        'TREND(Results.DrawNo, DrawDate)', 'MONTH(first_Results_time)',\n",
       "        'DAY(first_Results_time)', 'TIME_SINCE(first_Results_time)',\n",
       "        'TIME_SINCE_PREVIOUS(first_Results_time)',\n",
       "        'STD(Results.PERCENTILE(DrawNo))',\n",
       "        'STD(Results.TIME_SINCE_PREVIOUS(DrawDate))',\n",
       "        'STD(Results.CUM_SUM(DrawNo))', 'STD(Results.CUM_MEAN(LuckyNo))',\n",
       "        'MAX(Results.PERCENTILE(DrawNo))',\n",
       "        'MAX(Results.PERCENTILE(TotalStrike))',\n",
       "        'MAX(Results.CUM_MEAN(LuckyNo))',\n",
       "        'MIN(Results.TIME_SINCE_PREVIOUS(DrawDate))',\n",
       "        'MIN(Results.CUM_MEAN(LuckyNo))', 'MODE(Results.MONTH(DrawDate))',\n",
       "        'MODE(Results.DAY(DrawDate))', 'MEAN(Results.TIME_SINCE(DrawDate))',\n",
       "        'MEAN(Results.PERCENTILE(DrawNo))',\n",
       "        'MEAN(Results.TIME_SINCE_PREVIOUS(DrawDate))',\n",
       "        'MEAN(Results.CUM_MEAN(LuckyNo))',\n",
       "        'SKEW(Results.TIME_SINCE_PREVIOUS(DrawDate))',\n",
       "        'SKEW(Results.CUM_SUM(DrawNo))', 'SKEW(Results.CUM_MEAN(LuckyNo))',\n",
       "        'LAST(Results.DAY(DrawDate))',\n",
       "        'LAST(Results.TIME_SINCE_PREVIOUS(DrawDate))',\n",
       "        'LAST(Results.MONTH(DrawDate))', 'LAST(Results.CUM_MEAN(LuckyNo))',\n",
       "        'SUM(Results.TIME_SINCE(DrawDate))',\n",
       "        'SUM(Results.TIME_SINCE_PREVIOUS(DrawDate))',\n",
       "        'TREND(Results.CUM_MEAN(LuckyNo), DrawDate)',\n",
       "        'TREND(Results.PERCENTILE(LuckyNo), DrawDate)',\n",
       "        'TREND(Results.PERCENTILE(DrawNo), DrawDate)',\n",
       "        'TREND(Results.PERCENTILE(TotalStrike), DrawDate)',\n",
       "        'TREND(Results.TIME_SINCE_PREVIOUS(DrawDate), DrawDate)',\n",
       "        'TREND(Results.CUM_SUM(DrawNo), DrawDate)',\n",
       "        'NUM_UNIQUE(Results.MONTH(DrawDate))',\n",
       "        'NUM_UNIQUE(Results.DAY(DrawDate))', 'CUM_SUM(MIN(Results.DrawNo))',\n",
       "        'CUM_SUM(SKEW(Results.DrawNo))',\n",
       "        'CUM_MEAN(AVG_TIME_BETWEEN(Results.DrawDate))',\n",
       "        'CUM_MEAN(SUM(Results.LuckyNo))', 'CUM_MEAN(SKEW(Results.DrawNo))',\n",
       "        'PERCENTILE(STD(Results.LuckyNo))', 'PERCENTILE(LAST(Results.DrawNo))',\n",
       "        'PERCENTILE(MAX(Results.TotalStrike))',\n",
       "        'PERCENTILE(AVG_TIME_BETWEEN(Results.DrawDate))',\n",
       "        'PERCENTILE(COUNT(Results))', 'PERCENTILE(STD(Results.DrawNo))',\n",
       "        'PERCENTILE(SKEW(Results.DrawNo))', 'PERCENTILE(SUM(Results.DrawNo))',\n",
       "        'PERCENTILE(TREND(Results.DrawNo, DrawDate))'],\n",
       "       dtype='object'))"
      ]
     },
     "execution_count": 19,
     "metadata": {
      "tags": []
     },
     "output_type": "execute_result"
    }
   ],
   "source": [
    "feature_matrix_selection.shape, feature_matrix_selection.columns"
   ]
  },
  {
   "cell_type": "code",
   "execution_count": 0,
   "metadata": {
    "colab": {},
    "colab_type": "code",
    "id": "yZUhYrWFiRod"
   },
   "outputs": [],
   "source": [
    "feature_matrix_selection['time'] = feature_matrix['time']\n",
    "feature_matrix_selection['TotalStrike'] = feature_matrix['TotalStrike']\n",
    "feature_matrix_selection['Label'] = feature_matrix['Label']"
   ]
  },
  {
   "cell_type": "markdown",
   "metadata": {
    "colab_type": "text",
    "id": "hugygOqSiR6K"
   },
   "source": [
    "### Feature Correlation"
   ]
  },
  {
   "cell_type": "code",
   "execution_count": 0,
   "metadata": {
    "colab": {},
    "colab_type": "code",
    "id": "u7Ha8Zlkhuoe"
   },
   "outputs": [],
   "source": [
    "# Check with feature selection\n",
    "corrs = feature_matrix_selection.corr().sort_values('Label')"
   ]
  },
  {
   "cell_type": "code",
   "execution_count": 22,
   "metadata": {
    "colab": {
     "base_uri": "https://localhost:8080/",
     "height": 1000
    },
    "colab_type": "code",
    "id": "EWRODfAdPk6j",
    "outputId": "c38c2b2d-956e-48e8-ca2f-afcfabd2e00d"
   },
   "outputs": [
    {
     "data": {
      "text/plain": [
       "STD(Results.CUM_SUM(DrawNo))                             -0.002778\n",
       "MAX(Results.LuckyNo)                                     -0.002680\n",
       "SUM(Results.LuckyNo)                                     -0.002426\n",
       "MAX(Results.DrawNo)                                      -0.002377\n",
       "MIN(Results.CUM_MEAN(LuckyNo))                           -0.002333\n",
       "CUM_MEAN(AVG_TIME_BETWEEN(Results.DrawDate))             -0.002238\n",
       "MEAN(Results.TIME_SINCE(DrawDate))                       -0.002056\n",
       "STD(Results.PERCENTILE(DrawNo))                          -0.001937\n",
       "PERCENTILE(STD(Results.LuckyNo))                         -0.001931\n",
       "PERCENTILE(STD(Results.DrawNo))                          -0.001814\n",
       "CUM_SUM(SKEW(Results.DrawNo))                            -0.001741\n",
       "SUM(Results.TIME_SINCE(DrawDate))                        -0.001492\n",
       "MEAN(Results.CUM_MEAN(LuckyNo))                          -0.001477\n",
       "AVG_TIME_BETWEEN(Results.DrawDate)                       -0.001429\n",
       "PERCENTILE(SKEW(Results.DrawNo))                         -0.001354\n",
       "SKEW(Results.CUM_MEAN(LuckyNo))                          -0.001339\n",
       "SKEW(Results.CUM_SUM(DrawNo))                            -0.001294\n",
       "SKEW(Results.DrawNo)                                     -0.001030\n",
       "MAX(Results.PERCENTILE(DrawNo))                          -0.001006\n",
       "LAST(Results.DAY(DrawDate))                              -0.001000\n",
       "TREND(Results.CUM_SUM(DrawNo), DrawDate)                 -0.000958\n",
       "PERCENTILE(AVG_TIME_BETWEEN(Results.DrawDate))           -0.000921\n",
       "NUM_UNIQUE(Results.DAY(DrawDate))                        -0.000833\n",
       "MODE(Results.MONTH(DrawDate))                            -0.000827\n",
       "DAY(first_Results_time)                                  -0.000677\n",
       "TREND(Results.DrawNo, DrawDate)                          -0.000630\n",
       "SUM(Results.DrawNo)                                      -0.000541\n",
       "COUNT(Results)                                           -0.000535\n",
       "CUM_MEAN(SKEW(Results.DrawNo))                           -0.000398\n",
       "LAST(Results.MONTH(DrawDate))                            -0.000351\n",
       "NUM_UNIQUE(Results.MONTH(DrawDate))                      -0.000248\n",
       "SKEW(Results.TIME_SINCE_PREVIOUS(DrawDate))              -0.000226\n",
       "MEAN(Results.DrawNo)                                     -0.000160\n",
       "TREND(Results.PERCENTILE(TotalStrike), DrawDate)         -0.000156\n",
       "PERCENTILE(COUNT(Results))                               -0.000139\n",
       "LAST(Results.TIME_SINCE_PREVIOUS(DrawDate))              -0.000131\n",
       "PERCENTILE(LAST(Results.DrawNo))                         -0.000094\n",
       "TREND(Results.TIME_SINCE_PREVIOUS(DrawDate), DrawDate)    0.000169\n",
       "STD(Results.TIME_SINCE_PREVIOUS(DrawDate))                0.000213\n",
       "MEAN(Results.TIME_SINCE_PREVIOUS(DrawDate))               0.000345\n",
       "SUM(Results.TIME_SINCE_PREVIOUS(DrawDate))                0.000442\n",
       "MODE(Results.DAY(DrawDate))                               0.000471\n",
       "PERCENTILE(SUM(Results.DrawNo))                           0.000610\n",
       "TREND(Results.PERCENTILE(LuckyNo), DrawDate)              0.000687\n",
       "MONTH(first_Results_time)                                 0.000858\n",
       "PERCENTILE(TREND(Results.DrawNo, DrawDate))               0.000912\n",
       "MIN(Results.TIME_SINCE_PREVIOUS(DrawDate))                0.000984\n",
       "TIME_SINCE_PREVIOUS(first_Results_time)                   0.000987\n",
       "LAST(Results.CUM_MEAN(LuckyNo))                           0.000988\n",
       "MAX(Results.CUM_MEAN(LuckyNo))                            0.001007\n",
       "MEAN(Results.PERCENTILE(DrawNo))                          0.001149\n",
       "TREND(Results.CUM_MEAN(LuckyNo), DrawDate)                0.001493\n",
       "TREND(Results.PERCENTILE(DrawNo), DrawDate)               0.001528\n",
       "PERCENTILE(MAX(Results.TotalStrike))                      0.001564\n",
       "MIN(Results.DrawNo)                                       0.001718\n",
       "CUM_SUM(MIN(Results.DrawNo))                              0.001852\n",
       "MAX(Results.PERCENTILE(TotalStrike))                      0.002320\n",
       "STD(Results.CUM_MEAN(LuckyNo))                            0.002331\n",
       "TotalStrike                                               0.991808\n",
       "Label                                                     1.000000\n",
       "Name: Label, dtype: float64"
      ]
     },
     "execution_count": 22,
     "metadata": {
      "tags": []
     },
     "output_type": "execute_result"
    }
   ],
   "source": [
    "corrs['Label'].tail(60)"
   ]
  },
  {
   "cell_type": "markdown",
   "metadata": {
    "colab_type": "text",
    "id": "waeD1ED_kqDB"
   },
   "source": [
    "## Modeling"
   ]
  },
  {
   "cell_type": "code",
   "execution_count": 0,
   "metadata": {
    "colab": {},
    "colab_type": "code",
    "id": "9yrJyIVLh5So"
   },
   "outputs": [],
   "source": [
    "def recall_optim(y_true, y_pred):\n",
    "    \"\"\"Make a scoring function that improves specificity while identifying all strikes\n",
    "    \"\"\"\n",
    "    conf_matrix = confusion_matrix(y_true, y_pred)\n",
    "    \n",
    "    # Recall will be worth a greater value than specificity\n",
    "    rec = recall_score(y_true, y_pred) * 0.8 \n",
    "    spe = conf_matrix[0,0]/conf_matrix[0,:].sum() * 0.2 \n",
    "    \n",
    "    # Imperfect recalls will lose a penalty\n",
    "    # This means the best results will have perfect recalls and compete for specificity\n",
    "    if rec < 0.8:\n",
    "        rec -= 0.2\n",
    "    return rec + spe \n",
    "\n",
    "\n",
    "# Make a scoring callable from recall_score\n",
    "recall = make_scorer(recall_score)\n",
    "\n",
    "# Create a scoring callable based on the scoring function\n",
    "optimize = make_scorer(recall_optim)\n",
    "\n",
    "# DataFrame to store classifier performance\n",
    "performance = pd.DataFrame(columns=['Train_Recall','Test_Recall','Test_Specificity', 'Optimize'])\n",
    "\n",
    "\n",
    "def score_optimization(dt, feature_matrix, clf, params, X_train, y_train, X_test, y_test, skip_grid_search_cv=False, optimized_scorer=False):\n",
    "    \"\"\"Find the optimized classifier.\n",
    "    \"\"\"\n",
    "    if not skip_grid_search_cv:\n",
    "      print(\"\\nFinding the optimized classifier...\")\n",
    "\n",
    "      # Load GridSearchCV\n",
    "      # search = GridSearchCV(\n",
    "      search = RandomizedSearchCV(\n",
    "            estimator=clf,\n",
    "            #param_grid=params,\n",
    "            param_distributions=params,\n",
    "            n_jobs=4,\n",
    "            scoring=optimize  # Use custom scorer\n",
    "      )\n",
    "\n",
    "      # Train search object\n",
    "      search.fit(X_train, y_train)\n",
    "\n",
    "      # Heading\n",
    "      print('\\n','-'*40,'\\n',clf.__class__.__name__,'\\n','-'*40)\n",
    "\n",
    "      # Extract best estimator\n",
    "      best = search.best_estimator_\n",
    "      print('Best parameters: \\n\\n',search.best_params_,'\\n')\n",
    "    \n",
    "    else:\n",
    "      print(\"\\nUse the passed in classifier...\\n\")\n",
    "      best = clf\n",
    "\n",
    "    # Cross-validate on the train data\n",
    "    print(\"TRAIN GROUP\")\n",
    "    if not optimized_scorer:\n",
    "      print('\\nUse default scorer')\n",
    "      train_cv = cross_val_score(\n",
    "                                n_jobs=4,\n",
    "                                X=X_train, \n",
    "                                y=y_train, \n",
    "                                estimator=best, \n",
    "                                scoring=recall,\n",
    "                                cv=3)\n",
    "    else:\n",
    "      print('\\nUse optimized scorer')\n",
    "      train_cv = cross_val_score(\n",
    "                                n_jobs=4,\n",
    "                                X=X_train, \n",
    "                                y=y_train, \n",
    "                                estimator=best, \n",
    "                                scoring=optimize,\n",
    "                                cv=3)\n",
    "\n",
    "    print(\"\\nCross-validation recall scores:\",train_cv)\n",
    "    print(\"Mean recall score:\",train_cv.mean())\n",
    "\n",
    "    # Now predict on the test group\n",
    "    print(\"\\nTEST GROUP\")\n",
    "    y_pred = best.fit(X_train, y_train).predict(X_test)\n",
    "    probas = best.predict_proba(X_test)[:, 1]\n",
    "    print(\"\\nRecall:\",recall_score(y_test,y_pred))\n",
    "\n",
    "    # Get imbalanced classification report\n",
    "    print(classification_report_imbalanced(y_test, y_pred))\n",
    "\n",
    "    # Print confusion matrix\n",
    "    conf_matrix = confusion_matrix(y_test,y_pred)\n",
    "    sns.heatmap(conf_matrix, annot=True, fmt='d', cmap=plt.cm.copper)\n",
    "    plt.show()\n",
    "\n",
    "    # Store results\n",
    "    performance.loc[clf.__class__.__name__+'_optimize',:] = [\n",
    "        train_cv.mean(),\n",
    "        recall_score(y_test,y_pred),\n",
    "        conf_matrix[0,0]/conf_matrix[0,:].sum(),\n",
    "        recall_optim(y_test,y_pred)\n",
    "    ]\n",
    "    # Look at the parameters for the top best scores\n",
    "    if not skip_grid_search_cv:\n",
    "      display(pd.DataFrame(search.cv_results_).iloc[:,4:].sort_values(by='rank_test_score').head())\n",
    "    display(performance)\n",
    "\n",
    "    # Additionl info\n",
    "    print('\\n\\nAdditional Info')\n",
    "    print('='*40)\n",
    "    positive = np.where((y_pred==1))\n",
    "    print(f'Total predicted to be positive: {len(positive[0])} \\n')\n",
    "\n",
    "    # Total predicted matches\n",
    "    print('Predicted matches')\n",
    "    pred = np.where((y_pred==1))\n",
    "    print(len(pred[0]), pred[0][0:23])\n",
    "    topN = np.argpartition(probas, -23)[-23:]\n",
    "    print(f'\\n{topN}\\n')  # Top N most high probability numbers\n",
    "  \n",
    "    if len(positive[0]) > 0:\n",
    "    \n",
    "      # Matching draws\n",
    "      print('Matched draws')\n",
    "      md = np.where((y_pred==1) & (y_test==1))\n",
    "      print(f\"Count: {len(md[0])}, Index: {md}\")\n",
    "      month_data = feature_matrix.loc[feature_matrix['time'] == dt]\n",
    "      numbers = month_data.iloc[md[0]][['MAX(Results.LuckyNo)']]\n",
    "\n",
    "      print('\\n\\nTop 23 Possibility')\n",
    "      print(origin_data[(origin_data['DrawDate'].dt.year == dt.year) & \n",
    "                          (origin_data['DrawDate'].dt.month == dt.month) &  \n",
    "                          (origin_data['LuckyNo'].isin(topN))].head(23))  \n",
    "      \n",
    "      print('\\n\\nFirst 23 Numbers')\n",
    "      print(origin_data[(origin_data['DrawDate'].dt.year == dt.year) & \n",
    "                          (origin_data['DrawDate'].dt.month == dt.month) &  \n",
    "                          (origin_data['LuckyNo'].isin(pred[0][0:23]))].head(23))    \n",
    "             \n",
    "\n",
    "      print('\\n\\nAll matched')\n",
    "      print(origin_data[(origin_data['DrawDate'].dt.year == dt.year) & \n",
    "                          (origin_data['DrawDate'].dt.month == dt.month) &  \n",
    "                          (origin_data['LuckyNo'].isin(numbers['MAX(Results.LuckyNo)']))].head(100))    \n",
    "                                                  \n",
    "    else:\n",
    "      print('No luck this month')  \n",
    "  \n",
    "\n",
    "\n",
    "def remove_outliers(balanced, threshold=0.001, remove=True):\n",
    "    \"\"\"Removing Outliers from high-correlation features.\n",
    "    \"\"\"\n",
    "\n",
    "    if not remove:\n",
    "      return balanced\n",
    "\n",
    "    bal_corr = balanced.corr()\n",
    "    no_outliers=pd.DataFrame(balanced.copy())\n",
    "\n",
    "    cols = bal_corr.Label.index[:-1]\n",
    "\n",
    "    # For each feature correlated with Class...\n",
    "    for col in cols:\n",
    "        # If absolute correlation value is more than X percent...\n",
    "        correlation = bal_corr.loc['Label',col]\n",
    "\n",
    "        if np.absolute(correlation) > threshold:\n",
    "          # Separate the classes of the high-correlation column\n",
    "          nonstrikes = no_outliers.loc[no_outliers.Label==0,col]\n",
    "          strikes = no_outliers.loc[no_outliers.Label==1,col]\n",
    "\n",
    "          # Identify the 25th and 75th quartiles\n",
    "          all_values = no_outliers.loc[:,col]\n",
    "          q25, q75 = np.percentile(all_values, 25), np.percentile(all_values, 75)\n",
    "          # Get the inter quartile range\n",
    "          iqr = q75 - q25\n",
    "          # Smaller cutoffs will remove more outliers\n",
    "          cutoff = iqr * 7\n",
    "          # Set the bounds of the desired portion to keep\n",
    "          lower, upper = q25 - cutoff, q75 + cutoff\n",
    "          \n",
    "          # If positively correlated...\n",
    "          # Drop nonstrikes above upper bound, and strikes below lower bound\n",
    "          if correlation > 0: \n",
    "              no_outliers.drop(index=nonstrikes[nonstrikes>upper].index,inplace=True)\n",
    "              no_outliers.drop(index=strikes[strikes<lower].index,inplace=True)\n",
    "          \n",
    "          # If negatively correlated...\n",
    "          # Drop non strikes below lower bound, and strikes above upper bound\n",
    "          elif correlation < 0: \n",
    "              no_outliers.drop(index=nonstrikes[nonstrikes<lower].index,inplace=True)\n",
    "              no_outliers.drop(index=strikes[strikes>upper].index,inplace=True)\n",
    "        \n",
    "    print('\\nData shape before removing outliers:', balanced.shape)\n",
    "    print('\\nCounts of strikes VS non-strikes in previous data:')\n",
    "    print(balanced.Label.value_counts())\n",
    "    print('-'*40)\n",
    "    print('-'*40)\n",
    "    print('\\nData shape after removing outliers:', no_outliers.shape)\n",
    "    print('\\nCounts of strikes VS non-strikes in new data:')\n",
    "    print(no_outliers.Label.value_counts())\n",
    "\n",
    "    # no_outliers.iloc[:,:-1].boxplot(rot=90,figsize=(16,4))\n",
    "    # plt.title('Distributions with Less Outliers', fontsize=17)\n",
    "    # plt.show()\n",
    "\n",
    "    return no_outliers\n",
    "\n",
    "\n",
    "def filter_features(no_outliers, threshold=0.001):\n",
    "    \"\"\"Feature selection.\n",
    "    \"\"\"\n",
    "    feat_sel = pd.DataFrame(no_outliers.copy())\n",
    "\n",
    "    # Make a dataframe with the label-correlations before removing outliers\n",
    "    # corr_change = pd.DataFrame()\n",
    "    # corr_change['correlation']= bal_corr.Label\n",
    "    # corr_change['origin']= 'w/outliers'\n",
    "\n",
    "    # Make a dataframe with label-correlations after removing outliers \n",
    "    # corr_other = pd.DataFrame()\n",
    "    # corr_other['correlation']= feat_sel.corr().Label\n",
    "    # corr_other['origin']= 'no_outliers'\n",
    "\n",
    "    # Join them\n",
    "    # corr_change = corr_change.append(corr_other)\n",
    "\n",
    "    # plt.figure(figsize=(14,6))\n",
    "    # plt.xticks(rotation=90)\n",
    "\n",
    "    # Plot them\n",
    "    # sns.set_style('darkgrid')\n",
    "    # plt.title('Label correlation per feature. With vs without outliers', fontsize=17)\n",
    "    # sns.barplot(data=corr_change,x=corr_change.index,y='correlation',hue='origin')\n",
    "    # plt.show()\n",
    "\n",
    "    # Feature Selection based on correlation with label\n",
    "\n",
    "    print('\\nData shape before feature selection:', feat_sel.shape)\n",
    "    print('\\nCounts of strikes vs non-strikes before feature selection:')\n",
    "    print(feat_sel.Label.value_counts())\n",
    "    print('-'*40)\n",
    "\n",
    "    # Correlation matrix after removing outliers\n",
    "    new_corr = feat_sel.corr()\n",
    "\n",
    "    for col in new_corr.Label.index[:-1]:\n",
    "        # Pick desired cutoff for dropping features. In absolute-value terms.\n",
    "        if np.absolute(new_corr.loc['Label',col]) < threshold:\n",
    "            # Drop the feature if correlation is below cutoff\n",
    "            feat_sel.drop(columns=col,inplace=True)\n",
    "\n",
    "    print('-'*40)\n",
    "    print('\\nData shape after feature selection:', feat_sel.shape)\n",
    "    print('\\nCounts of strikes vs non-strikes in new data:')\n",
    "    print(feat_sel.Label.value_counts())\n",
    "\n",
    "    return feat_sel\n",
    "\n",
    "    # feat_sel.iloc[:,:-1].boxplot(rot=90,figsize=(16,4))\n",
    "    # plt.title('Distribution of Features Selected', fontsize=17)\n",
    "    # plt.show()\n",
    "\n",
    "def under_sampler(data, sample_size=20000, sampling=False):\n",
    "    # Undersample model for efficiency and balance classes.\n",
    "\n",
    "    X_train = data.drop('Label',1)\n",
    "    y_train = data.Label\n",
    "\n",
    "    if not sampling:\n",
    "      return X_train, y_train\n",
    "\n",
    "    # After feature-selection, X_test needs to include only the same features as X_train\n",
    "    # cols = X_train.columns\n",
    "    # X_test = X_test[cols]\n",
    "\n",
    "    # Undersample and balance classes\n",
    "    X_train, y_train = RandomUnderSampler(sampling_strategy={1:sample_size,0:sample_size}).fit_resample(X_train,y_train)\n",
    "\n",
    "    print('\\nX_train shape after reduction:', X_train.shape)\n",
    "    print('\\nCounts of strikes VS non-strikes in y_train:')\n",
    "    print(np.unique(y_train, return_counts=True))\n",
    "\n",
    "    return X_train, y_train\n"
   ]
  },
  {
   "cell_type": "code",
   "execution_count": 0,
   "metadata": {
    "colab": {},
    "colab_type": "code",
    "id": "pl5ZoepSNPf4"
   },
   "outputs": [],
   "source": [
    "def gen_train_test_set(dt, feature_matrix, file_prefix='data'): \n",
    "    \n",
    "    # Subset labels\n",
    "    test_labels = feature_matrix.loc[feature_matrix['time'] == dt, 'Label']\n",
    "    train_labels = feature_matrix.loc[feature_matrix['time'] < dt, 'Label']\n",
    "\n",
    "    # Features\n",
    "    X_train = feature_matrix[feature_matrix['time'] < dt].drop(columns = ['NumberId', 'time', 'Label', 'TotalStrike', 'month', 'year', 'index'], errors='ignore')\n",
    "    X_test = feature_matrix[feature_matrix['time'] == dt].drop(columns = ['NumberId', 'time', 'Label', 'TotalStrike', 'month', 'year', 'index'], errors='ignore')\n",
    "    feature_names = list(X_train.columns)\n",
    "    \n",
    "    # Labels\n",
    "    y_train = np.array(train_labels).reshape((-1, ))\n",
    "    y_test = np.array(test_labels).reshape((-1, ))\n",
    "    \n",
    "    print('Training on {} observations.'.format(len(X_train)))\n",
    "    print('Testing on {} observations.\\n'.format(len(X_test)))\n",
    "\n",
    "    # Join the train data\n",
    "    train = X_train.join(train_labels)\n",
    "\n",
    "    print('Data shape before balancing:', train.shape)\n",
    "    print('\\nCounts of strikes vs non-strikes in previous data:')\n",
    "    print(train.Label.value_counts())\n",
    "    print('-'*40)\n",
    "\n",
    "    # sklearn pipeline\n",
    "    pipeline = make_pipeline(\n",
    "        SimpleImputer(strategy = 'constant', fill_value=0),\n",
    "        StandardScaler())\n",
    "    \n",
    "    X_train = pipeline.fit_transform(X_train)\n",
    "    X_test = pipeline.transform(X_test)\n",
    "\n",
    "    # imblearn pipeline\n",
    "    imb_pipeline = make_pipeline_imb(\n",
    "          SMOTE(sampling_strategy='minority',random_state=42, n_jobs=4)\n",
    "          #OneSidedSelection(n_neighbors=1, n_seeds_S=200, random_state=42, n_jobs=4)\n",
    "    )\n",
    "     \n",
    "    # Balance the data\n",
    "    to_balanced = False\n",
    "    if to_balanced:\n",
    "      print('\\nBalancing data')\n",
    "      X_bal, y_bal = imb_pipeline.fit_resample(X_train, y_train)\n",
    "      X_bal = pd.DataFrame(X_bal,columns=feature_names)\n",
    "      y_bal = pd.DataFrame(y_bal,columns=['Label'])\n",
    "    else:\n",
    "      print('\\nNO balancing')\n",
    "      X_bal = pd.DataFrame(X_train,columns=feature_names)\n",
    "      y_bal = pd.DataFrame(y_train,columns=['Label'])\n",
    "\n",
    "    balanced = X_bal.join(y_bal)\n",
    "\n",
    "    # print('-'*40)\n",
    "    print('Data shape after balancing:',balanced.shape)\n",
    "    print('\\nCounts of strikes VS non-strikes in new data:')\n",
    "    print(balanced.Label.value_counts())\n",
    "\n",
    "    # Remove high correlation outliers\n",
    "    no_outliers = remove_outliers(balanced, remove=False)\n",
    "\n",
    "    # Remove features with low correlation\n",
    "    filter_features = False\n",
    "    if filter_features:\n",
    "      print('\\nFiltering features')\n",
    "      features_selected = filter_features(no_outliers)\n",
    "    else:\n",
    "      print('\\nNO filtering')\n",
    "      features_selected = no_outliers \n",
    "\n",
    "    columns_selected = features_selected.drop('Label',1).columns\n",
    "\n",
    "    # Under sampling\n",
    "    X_train, y_train = under_sampler(features_selected, sampling=False) \n",
    "    X_train = pd.DataFrame(X_train,columns=columns_selected)\n",
    "    y_train = pd.DataFrame(y_train,columns=['Label'])\n",
    "\n",
    "    # For X_test, now only use the selected features\n",
    "    X_test = pd.DataFrame(X_test,columns=feature_names)\n",
    "    X_test = X_test[columns_selected]\n",
    "    y_test = pd.DataFrame(y_test,columns=['Label'])\n",
    "\n",
    "    #print(X_train.describe())\n",
    "    #return\n",
    "    \n",
    "    # Save data\n",
    "    X_train.to_feather(DATASET_PATH/f\"{file_prefix}_X_train.ft\")\n",
    "    y_train.to_feather(DATASET_PATH/f\"{file_prefix}_y_train.ft\")\n",
    "   \n",
    "    X_test.to_feather(DATASET_PATH/f\"{file_prefix}_X_test.ft\")\n",
    "    y_test.to_feather(DATASET_PATH/f\"{file_prefix}_y_test.ft\")\n",
    "\n",
    "    gc.collect()\n",
    "\n",
    "\n",
    "def model(dt, feature_matrix, file_prefix='data', csv=False):\n",
    "    \"\"\"Predict for a particular month.\n",
    "\n",
    "    - https://www.kaggle.com/miguelniblock/optimizing-imbalanced-classification-100-recall\n",
    "    - https://www.kaggle.com/saxinou/imbalanced-data-xgboost-tunning\n",
    "    - https://www.kaggle.com/andreanuzzo/balance-the-imbalanced-rf-and-xgboost-with-smote\n",
    "    - https://github.com/mengwangk/FraudDetection/blob/master/05_Sampling_techniques_for_extremely_imbalanced_data.ipynb\n",
    "    - https://www.kaggle.com/rafjaa/resampling-strategies-for-imbalanced-datasets\n",
    "    - https://github.com/coding-maniacs/over-under-sampling/blob/master/src/main.py\n",
    "    - https://github.com/scikit-learn-contrib/imbalanced-learn/issues/552#issuecomment-466348310\n",
    "    - https://stackoverflow.com/questions/52499788/smotetomek-how-to-set-ratio-as-dictionary-for-fixed-balance\n",
    "    - https://imbalanced-learn.readthedocs.io/en/stable/generated/imblearn.under_sampling.OneSidedSelection.html#imblearn.under_sampling.OneSidedSelection\n",
    "    - https://xgboost.readthedocs.io/en/latest/python/python_api.html#module-xgboost.sklearn\n",
    "    - https://machinelearningmastery.com/undersampling-algorithms-for-imbalanced-classification/\n",
    "    - https://seaborn.pydata.org/generated/seaborn.heatmap.html\n",
    "    - https://stats.stackexchange.com/questions/243207/what-is-the-proper-usage-of-scale-pos-weight-in-xgboost-for-imbalanced-datasets\n",
    "    - https://scikit-learn.org/stable/auto_examples/svm/plot_oneclass.html#sphx-glr-auto-examples-svm-plot-oneclass-py\n",
    "    - https://machinelearningmastery.com/cost-sensitive-logistic-regression/\n",
    "    \"\"\"\n",
    "\n",
    "    # Read data\n",
    "    if not csv:\n",
    "      X_train = pd.read_feather(DATASET_PATH/f\"{file_prefix}_X_train.ft\")\n",
    "      y_train = pd.read_feather(DATASET_PATH/f\"{file_prefix}_y_train.ft\")\n",
    "    \n",
    "      X_test = pd.read_feather(DATASET_PATH/f\"{file_prefix}_X_test.ft\")\n",
    "      y_test = pd.read_feather(DATASET_PATH/f\"{file_prefix}_y_test.ft\")\n",
    "    else:\n",
    "      X_train = pd.read_csv(DATASET_PATH/f\"{file_prefix}_X_train.csv\", header=0, sep=',', quotechar='\"')\n",
    "      y_train = pd.read_csv(DATASET_PATH/f\"{file_prefix}_y_train.csv\", header=0, sep=',', quotechar='\"')\n",
    "    \n",
    "      X_test = pd.read_csv(DATASET_PATH/f\"{file_prefix}_X_test.csv\", header=0, sep=',', quotechar='\"')\n",
    "      y_test = pd.read_csv(DATASET_PATH/f\"{file_prefix}_y_test.csv\", header=0, sep=',', quotechar='\"')\n",
    "\n",
    "    # Reshape\n",
    "    y_train = np.array(y_train).reshape((-1, ))\n",
    "    y_test = np.array(y_test).reshape((-1, ))\n",
    "    \n",
    "    print('Data shape')\n",
    "    print(X_train.shape, y_train.shape, X_test.shape, y_test.shape)\n",
    "\n",
    "    # print(X_train.describe())\n",
    "    # return\n",
    "\n",
    "    # Calculate hit ratio for xgboost classifier\n",
    "    print(\"\\nCalculating scale pos weight\")\n",
    "    counter = Counter(y_train)\n",
    "    print(Counter(y_train))\n",
    "    scale_pos_weight = float(counter[0] / counter[1])\n",
    "    print(f\"\\nscale_pos_weight - {scale_pos_weight}\\n\")\n",
    "\n",
    "     # Modeling\n",
    "    clf = xgb.XGBClassifier(\n",
    "              n_jobs=4, \n",
    "              random_state=42,\n",
    "              learning_rate=0.1,\n",
    "              n_estimators=100,\n",
    "              max_depth=6, \n",
    "              min_child_weight=1, \n",
    "              gamma=0,\n",
    "              subsample=0.8,\n",
    "              colsample_bytree=0.8,\n",
    "              objective='binary:logistic', \n",
    "              scale_pos_weight=scale_pos_weight,\n",
    "              seed=27)\n",
    "    # clf = xgb.XGBClassifier(n_jobs=4, \n",
    "    #                         random_state=42,\n",
    "    #                         objective='binary:logistic', \n",
    "    #                         #scale_pos_weight=28)\n",
    "    #                         scale_pos_weight=scale_pos_weight)\n",
    "    clf_params = clf.get_params()\n",
    "    print(clf_params)\n",
    "\n",
    "    # Set parameters\n",
    "    # clf_params['max_depth'] = 10\n",
    "    # clf.set_params(clf_params)\n",
    "\n",
    "    # Parameters to compare\n",
    "    learn_params = {\n",
    "        'learning_rate': [0.1, 0.3, 1], \n",
    "    }\n",
    "\n",
    "    # Test and validate\n",
    "    score_optimization(dt,\n",
    "                       feature_matrix,\n",
    "                       clf, \n",
    "                       learn_params,  \n",
    "                       X_train, \n",
    "                       y_train, \n",
    "                       X_test, \n",
    "                       y_test, \n",
    "                       skip_grid_search_cv=True,\n",
    "                       optimized_scorer=True)\n",
    "\n",
    "    gc.collect()\n",
    "    \n",
    "    # clf.fit(X_train, y_train)\n",
    "    # y_pred = clf.predict(X_test)\n",
    "\n",
    "    # # ROC score\n",
    "    # auc = roc_auc_score(y_test, y_pred)\n",
    "    # print(\"ROC score: \", auc)\n",
    "\n",
    "    # # Print confusion matrix\n",
    "    # conf_matrix = confusion_matrix(y_test, y_pred)\n",
    "    # sns.heatmap(conf_matrix, annot=True,fmt='d', cmap=plt.cm.copper)\n",
    "    # plt.show()\n",
    "\n",
    "    # Parameters to compare\n",
    "    # params = {\n",
    "    #     'criterion':['entropy','gini'],\n",
    "    #     'class_weight':[{1:1,0:0.3},{1:1,0:0.4},{1:1,0:0.5},{1:1,0:0.6},{1:1,0:7}]\n",
    "    # }\n",
    "\n",
    "    # Implement the classifier\n",
    "    # clf = RandomForestClassifier(\n",
    "    #     n_estimators=100,\n",
    "    #     max_features=None,\n",
    "    #     n_jobs=4,\n",
    "    # )\n",
    "\n",
    "    # # Test and validate\n",
    "    # score_optimization(clf, params, X_train, y_train, X_test, y_test)"
   ]
  },
  {
   "cell_type": "code",
   "execution_count": 25,
   "metadata": {
    "colab": {
     "base_uri": "https://localhost:8080/",
     "height": 1000
    },
    "colab_type": "code",
    "id": "okghQsdPeGmw",
    "outputId": "4688927a-87ce-4e37-a778-acab2c885d7e"
   },
   "outputs": [
    {
     "name": "stdout",
     "output_type": "stream",
     "text": [
      "Data shape\n",
      "(889893, 61) (889893,) (10000, 61) (10000,)\n",
      "\n",
      "Calculating scale pos weight\n",
      "Counter({0: 860060, 1: 29833})\n",
      "\n",
      "scale_pos_weight - 28.829148929038315\n",
      "\n",
      "{'base_score': 0.5, 'booster': 'gbtree', 'colsample_bylevel': 1, 'colsample_bynode': 1, 'colsample_bytree': 0.8, 'gamma': 0, 'learning_rate': 0.1, 'max_delta_step': 0, 'max_depth': 6, 'min_child_weight': 1, 'missing': None, 'n_estimators': 100, 'n_jobs': 4, 'nthread': None, 'objective': 'binary:logistic', 'random_state': 42, 'reg_alpha': 0, 'reg_lambda': 1, 'scale_pos_weight': 28.829148929038315, 'seed': 27, 'silent': None, 'subsample': 0.8, 'verbosity': 1}\n",
      "\n",
      "Use the passed in classifier...\n",
      "\n",
      "TRAIN GROUP\n",
      "\n",
      "Use optimized scorer\n",
      "\n",
      "Cross-validation recall scores: [0.43269226 0.23733303 0.00170105]\n",
      "Mean recall score: 0.2239087785980831\n",
      "\n",
      "TEST GROUP\n",
      "\n",
      "Recall: 0.18154761904761904\n",
      "                   pre       rec       spe        f1       geo       iba       sup\n",
      "\n",
      "          0       0.97      0.85      0.18      0.90      0.39      0.16      9664\n",
      "          1       0.04      0.18      0.85      0.06      0.39      0.14       336\n",
      "\n",
      "avg / total       0.94      0.82      0.20      0.87      0.39      0.16     10000\n",
      "\n"
     ]
    },
    {
     "data": {
      "image/png": "[encoded data removed]",
      "text/plain": [
       "<Figure size 432x288 with 2 Axes>"
      ]
     },
     "metadata": {
      "tags": []
     },
     "output_type": "display_data"
    },
    {
     "data": {
      "text/html": [
       "<div>\n",
       "<style scoped>\n",
       "    .dataframe tbody tr th:only-of-type {\n",
       "        vertical-align: middle;\n",
       "    }\n",
       "\n",
       "    .dataframe tbody tr th {\n",
       "        vertical-align: top;\n",
       "    }\n",
       "\n",
       "    .dataframe thead th {\n",
       "        text-align: right;\n",
       "    }\n",
       "</style>\n",
       "<table border=\"1\" class=\"dataframe\">\n",
       "  <thead>\n",
       "    <tr style=\"text-align: right;\">\n",
       "      <th></th>\n",
       "      <th>Train_Recall</th>\n",
       "      <th>Test_Recall</th>\n",
       "      <th>Test_Specificity</th>\n",
       "      <th>Optimize</th>\n",
       "    </tr>\n",
       "  </thead>\n",
       "  <tbody>\n",
       "    <tr>\n",
       "      <th>XGBClassifier_optimize</th>\n",
       "      <td>0.223909</td>\n",
       "      <td>0.181548</td>\n",
       "      <td>0.845923</td>\n",
       "      <td>0.114423</td>\n",
       "    </tr>\n",
       "  </tbody>\n",
       "</table>\n",
       "</div>"
      ],
      "text/plain": [
       "                       Train_Recall Test_Recall Test_Specificity  Optimize\n",
       "XGBClassifier_optimize     0.223909    0.181548         0.845923  0.114423"
      ]
     },
     "metadata": {
      "tags": []
     },
     "output_type": "display_data"
    },
    {
     "name": "stdout",
     "output_type": "stream",
     "text": [
      "\n",
      "\n",
      "Additional Info\n",
      "========================================\n",
      "Total predicted to be positive: 1550 \n",
      "\n",
      "Predicted matches\n",
      "1550 [ 18  28  35  44  72  89  96 145 151 157 159 165 171 182 186 188 191 192\n",
      " 193 197 201 205 208]\n",
      "\n",
      "[6232 4472  803 5240 7182 2386 2488 5319 3870 7231 1047 5191 1495 3414\n",
      " 4478 2061 5000 3674 4587 7106 5344 5261 7159]\n",
      "\n",
      "Matched draws\n",
      "Count: 61, Index: (array([  44,  397,  437,  628,  761,  767,  791,  956,  994, 1252, 1253,\n",
      "       1387, 1495, 1746, 1889, 1904, 2044, 2133, 2588, 2631, 2646, 2785,\n",
      "       3004, 3222, 3610, 3669, 3947, 4183, 4258, 4336, 4613, 4626, 4663,\n",
      "       4819, 4824, 4878, 4992, 5099, 5101, 5147, 5228, 5501, 5532, 5545,\n",
      "       5553, 5983, 6005, 6090, 6592, 6883, 6894, 7159, 7287, 7778, 7851,\n",
      "       7882, 8113, 8550, 8661, 9018, 9171]),)\n",
      "\n",
      "\n",
      "Top 23 Possibility\n",
      "        DrawNo   DrawDate   PrizeType  LuckyNo\n",
      "104602  495519 2019-06-02  SpecialNo8     7159\n",
      "104606  495619 2019-06-05  3rdPrizeNo     1495\n",
      "\n",
      "\n",
      "First 23 Numbers\n",
      "        DrawNo   DrawDate   PrizeType  LuckyNo\n",
      "104789  496419 2019-06-22  2ndPrizeNo       44\n",
      "\n",
      "\n",
      "All matched\n",
      "        DrawNo   DrawDate        PrizeType  LuckyNo\n",
      "104558  495419 2019-06-01       1stPrizeNo     7882\n",
      "104559  495419 2019-06-01       2ndPrizeNo     8550\n",
      "104562  495419 2019-06-01  ConsolationNo10     4336\n",
      "104570  495419 2019-06-01   ConsolationNo9     4626\n",
      "104581  495519 2019-06-02       1stPrizeNo     2646\n",
      "...        ...        ...              ...      ...\n",
      "104894  496819 2019-06-30      SpecialNo10     2588\n",
      "104896  496819 2019-06-30       SpecialNo3     1889\n",
      "104898  496819 2019-06-30       SpecialNo5     4613\n",
      "104899  496819 2019-06-30       SpecialNo6     5501\n",
      "104900  496819 2019-06-30       SpecialNo7      628\n",
      "\n",
      "[62 rows x 4 columns]\n",
      "CPU times: user 16min 24s, sys: 3.33 s, total: 16min 27s\n",
      "Wall time: 25min 31s\n"
     ]
    }
   ],
   "source": [
    "# Predict for a particular month\n",
    "# %time predict(pd.datetime(2019,6,1), feature_matrix_selection)\n",
    "\n",
    "#%time gen_train_test_set(pd.datetime(2019,6,1), feature_matrix_selection, file_prefix='orig')\n",
    "\n",
    "%time model(pd.datetime(2019,6,1), feature_matrix_selection, file_prefix='orig')"
   ]
  },
  {
   "cell_type": "code",
   "execution_count": 28,
   "metadata": {
    "colab": {
     "base_uri": "https://localhost:8080/",
     "height": 1000
    },
    "colab_type": "code",
    "id": "7YDG_h0pSuxL",
    "outputId": "f3e48cea-93ca-423d-cd02-0a2e18bc7912"
   },
   "outputs": [
    {
     "name": "stdout",
     "output_type": "stream",
     "text": [
      "Data shape\n",
      "(1299177, 58) (1299177,) (10000, 58) (10000,)\n",
      "\n",
      "Calculating scale pos weight\n",
      "Counter({0: 655347, 1: 643830})\n",
      "\n",
      "scale_pos_weight - 1.0178882624295233\n",
      "\n",
      "{'base_score': 0.5, 'booster': 'gbtree', 'colsample_bylevel': 1, 'colsample_bynode': 1, 'colsample_bytree': 0.8, 'gamma': 0, 'learning_rate': 0.1, 'max_delta_step': 0, 'max_depth': 6, 'min_child_weight': 1, 'missing': None, 'n_estimators': 100, 'n_jobs': 4, 'nthread': None, 'objective': 'binary:logistic', 'random_state': 42, 'reg_alpha': 0, 'reg_lambda': 1, 'scale_pos_weight': 1.0178882624295233, 'seed': 27, 'silent': None, 'subsample': 0.8, 'verbosity': 1}\n",
      "\n",
      "Use the passed in classifier...\n",
      "\n",
      "TRAIN GROUP\n",
      "\n",
      "Use optimized scorer\n",
      "\n",
      "Cross-validation recall scores: [0.49477795 0.53053161 0.56642738]\n",
      "Mean recall score: 0.530578979269016\n",
      "\n",
      "TEST GROUP\n",
      "\n",
      "Recall: 0.21726190476190477\n",
      "                   pre       rec       spe        f1       geo       iba       sup\n",
      "\n",
      "          0       0.97      0.77      0.22      0.85      0.41      0.18      9664\n",
      "          1       0.03      0.22      0.77      0.05      0.41      0.16       336\n",
      "\n",
      "avg / total       0.93      0.75      0.24      0.83      0.41      0.18     10000\n",
      "\n"
     ]
    },
    {
     "data": {
      "image/png": "[encoded data removed]",
      "text/plain": [
       "<Figure size 432x288 with 2 Axes>"
      ]
     },
     "metadata": {
      "tags": []
     },
     "output_type": "display_data"
    },
    {
     "data": {
      "text/html": [
       "<div>\n",
       "<style scoped>\n",
       "    .dataframe tbody tr th:only-of-type {\n",
       "        vertical-align: middle;\n",
       "    }\n",
       "\n",
       "    .dataframe tbody tr th {\n",
       "        vertical-align: top;\n",
       "    }\n",
       "\n",
       "    .dataframe thead th {\n",
       "        text-align: right;\n",
       "    }\n",
       "</style>\n",
       "<table border=\"1\" class=\"dataframe\">\n",
       "  <thead>\n",
       "    <tr style=\"text-align: right;\">\n",
       "      <th></th>\n",
       "      <th>Train_Recall</th>\n",
       "      <th>Test_Recall</th>\n",
       "      <th>Test_Specificity</th>\n",
       "      <th>Optimize</th>\n",
       "    </tr>\n",
       "  </thead>\n",
       "  <tbody>\n",
       "    <tr>\n",
       "      <th>XGBClassifier_optimize</th>\n",
       "      <td>0.530579</td>\n",
       "      <td>0.217262</td>\n",
       "      <td>0.766763</td>\n",
       "      <td>0.127162</td>\n",
       "    </tr>\n",
       "  </tbody>\n",
       "</table>\n",
       "</div>"
      ],
      "text/plain": [
       "                       Train_Recall Test_Recall Test_Specificity  Optimize\n",
       "XGBClassifier_optimize     0.530579    0.217262         0.766763  0.127162"
      ]
     },
     "metadata": {
      "tags": []
     },
     "output_type": "display_data"
    },
    {
     "name": "stdout",
     "output_type": "stream",
     "text": [
      "\n",
      "\n",
      "Additional Info\n",
      "========================================\n",
      "Total predicted to be positive: 2327 \n",
      "\n",
      "Predicted matches\n",
      "2327 [ 3  6 11 13 19 25 31 32 34 39 41 43 45 49 51 53 55 60 61 62 63 65 69]\n",
      "\n",
      "[9317 8244 2373 7781 8119 5732 4655 9433 4285 8959 4256 5863 1682 9849\n",
      " 5297 2663 9634 1448 3490 1192 9927 4868 1915]\n",
      "\n",
      "Matched draws\n",
      "Count: 73, Index: (array([   6,   87,  128,  149,  296,  311, 1111, 1144, 1199, 1218, 1359,\n",
      "       1645, 1661, 1693, 1753, 1889, 2044, 2089, 2091, 2133, 2270, 2588,\n",
      "       2646, 2663, 2835, 2837, 2885, 2965, 2986, 3165, 3397, 3795, 4031,\n",
      "       4347, 4591, 4622, 4629, 4703, 4722, 4824, 4939, 5101, 5109, 5147,\n",
      "       5492, 5532, 5612, 5901, 6005, 6022, 6163, 6238, 6276, 6946, 7052,\n",
      "       7330, 7394, 7403, 7428, 7801, 7851, 7882, 8148, 8178, 9073, 9115,\n",
      "       9171, 9410, 9427, 9525, 9569, 9913, 9927]),)\n",
      "\n",
      "\n",
      "Top 23 Possibility\n",
      "        DrawNo   DrawDate       PrizeType  LuckyNo\n",
      "104592  495519 2019-06-02  ConsolationNo8     2663\n",
      "104616  495619 2019-06-05  ConsolationNo9     9927\n",
      "\n",
      "\n",
      "First 23 Numbers\n",
      "        DrawNo   DrawDate       PrizeType  LuckyNo\n",
      "104635  495719 2019-06-08  ConsolationNo5        6\n",
      "104856  496619 2019-06-26      SpecialNo9        6\n",
      "\n",
      "\n",
      "All matched\n",
      "        DrawNo   DrawDate       PrizeType  LuckyNo\n",
      "104558  495419 2019-06-01      1stPrizeNo     7882\n",
      "104565  495419 2019-06-01  ConsolationNo4     2089\n",
      "104574  495419 2019-06-01      SpecialNo3      128\n",
      "104576  495419 2019-06-01      SpecialNo5     1661\n",
      "104577  495419 2019-06-01      SpecialNo6     2986\n",
      "...        ...        ...             ...      ...\n",
      "104891  496819 2019-06-30  ConsolationNo8     6005\n",
      "104893  496819 2019-06-30      SpecialNo1     2835\n",
      "104894  496819 2019-06-30     SpecialNo10     2588\n",
      "104896  496819 2019-06-30      SpecialNo3     1889\n",
      "104901  496819 2019-06-30      SpecialNo8     5612\n",
      "\n",
      "[76 rows x 4 columns]\n",
      "CPU times: user 30min 48s, sys: 6.05 s, total: 30min 54s\n",
      "Wall time: 46min 5s\n"
     ]
    }
   ],
   "source": [
    "%time model(pd.datetime(2019,6,1), feature_matrix_selection, file_prefix='data',csv=True)"
   ]
  },
  {
   "cell_type": "code",
   "execution_count": 0,
   "metadata": {
    "colab": {
     "base_uri": "https://localhost:8080/",
     "height": 1000
    },
    "colab_type": "code",
    "id": "HHHMq98AGIEJ",
    "outputId": "d1f531d5-a134-4cfb-fe98-b77f42b85adb"
   },
   "outputs": [
    {
     "name": "stdout",
     "output_type": "stream",
     "text": [
      "\n",
      "2019-07-01 00:00:00\n",
      "-------------------\n",
      "\n",
      "Training on 899893 observations.\n",
      "Testing on 10000 observations.\n",
      "\n",
      "Data shape before balancing: (899893, 62)\n",
      "\n",
      "Counts of strikes vs non-strikes in previous data:\n",
      "0    869724\n",
      "1     30169\n",
      "Name: Label, dtype: int64\n",
      "----------------------------------------\n",
      "\n",
      "NO balancing\n",
      "Data shape after balancing: (899893, 62)\n",
      "\n",
      "Counts of strikes VS non-strikes in new data:\n",
      "0    869724\n",
      "1     30169\n",
      "Name: Label, dtype: int64\n",
      "\n",
      "NO filtering\n",
      "CPU times: user 4.1 s, sys: 996 ms, total: 5.09 s\n",
      "Wall time: 6.6 s\n",
      "Data shape\n",
      "(899893, 61) (899893,) (10000, 61) (10000,)\n",
      "\n",
      "Calculating scale pos weight\n",
      "Counter({0: 869724, 1: 30169})\n",
      "\n",
      "scale_pos_weight - 28.828400013258644\n",
      "\n",
      "{'base_score': 0.5, 'booster': 'gbtree', 'colsample_bylevel': 1, 'colsample_bynode': 1, 'colsample_bytree': 0.8, 'gamma': 0, 'learning_rate': 0.1, 'max_delta_step': 0, 'max_depth': 6, 'min_child_weight': 1, 'missing': None, 'n_estimators': 100, 'n_jobs': 4, 'nthread': None, 'objective': 'binary:logistic', 'random_state': 42, 'reg_alpha': 0, 'reg_lambda': 1, 'scale_pos_weight': 28.828400013258644, 'seed': 27, 'silent': None, 'subsample': 0.8, 'verbosity': 1}\n",
      "\n",
      "Use the passed in classifier...\n",
      "\n",
      "TRAIN GROUP\n",
      "\n",
      "Use optimized scorer\n",
      "\n",
      "Cross-validation recall scores: [0.80004829 0.28317064 0.04458218]\n",
      "Mean recall score: 0.3759337038851455\n",
      "\n",
      "TEST GROUP\n",
      "\n",
      "Recall: 0.21337579617834396\n",
      "                   pre       rec       spe        f1       geo       iba       sup\n",
      "\n",
      "          0       0.97      0.76      0.21      0.85      0.40      0.17      9686\n",
      "          1       0.03      0.21      0.76      0.05      0.40      0.15       314\n",
      "\n",
      "avg / total       0.94      0.74      0.23      0.83      0.40      0.17     10000\n",
      "\n"
     ]
    },
    {
     "data": {
      "image/png": "[encoded data removed]",
      "text/plain": [
       "<Figure size 432x288 with 2 Axes>"
      ]
     },
     "metadata": {
      "tags": []
     },
     "output_type": "display_data"
    },
    {
     "data": {
      "text/html": [
       "<div>\n",
       "<style scoped>\n",
       "    .dataframe tbody tr th:only-of-type {\n",
       "        vertical-align: middle;\n",
       "    }\n",
       "\n",
       "    .dataframe tbody tr th {\n",
       "        vertical-align: top;\n",
       "    }\n",
       "\n",
       "    .dataframe thead th {\n",
       "        text-align: right;\n",
       "    }\n",
       "</style>\n",
       "<table border=\"1\" class=\"dataframe\">\n",
       "  <thead>\n",
       "    <tr style=\"text-align: right;\">\n",
       "      <th></th>\n",
       "      <th>Train_Recall</th>\n",
       "      <th>Test_Recall</th>\n",
       "      <th>Test_Specificity</th>\n",
       "      <th>Optimize</th>\n",
       "    </tr>\n",
       "  </thead>\n",
       "  <tbody>\n",
       "    <tr>\n",
       "      <th>XGBClassifier_optimize</th>\n",
       "      <td>0.375934</td>\n",
       "      <td>0.213376</td>\n",
       "      <td>0.761615</td>\n",
       "      <td>0.123024</td>\n",
       "    </tr>\n",
       "  </tbody>\n",
       "</table>\n",
       "</div>"
      ],
      "text/plain": [
       "                       Train_Recall Test_Recall Test_Specificity  Optimize\n",
       "XGBClassifier_optimize     0.375934    0.213376         0.761615  0.123024"
      ]
     },
     "metadata": {
      "tags": []
     },
     "output_type": "display_data"
    },
    {
     "name": "stdout",
     "output_type": "stream",
     "text": [
      "\n",
      "\n",
      "Additional Info\n",
      "========================================\n",
      "Total predicted to be positive: 2376 \n",
      "\n",
      "Predicted matches\n",
      "2376 [ 8  9 12 13 17 28 29 33 34 42 45 50 51 52 57 62 64 66 67 70 72 73 75]\n",
      "\n",
      "[4098 7908 5203 3140 3002 1002 3558 2320 1516 4015 6626 6744 8283  914\n",
      " 3545 2497 7700 1871 1308 6015 6937 5080 9597]\n",
      "\n",
      "Matched draws\n",
      "Count: 67, Index: (array([  28,   66,  275,  347,  476,  502,  712,  843,  859,  896, 1093,\n",
      "       1156, 1268, 1374, 1583, 1600, 1618, 1803, 1938, 2062, 2117, 2255,\n",
      "       2327, 2338, 2403, 2490, 2692, 2787, 3150, 3182, 3211, 3694, 4208,\n",
      "       4351, 4371, 4401, 4468, 4581, 4755, 4898, 5106, 5223, 5408, 5524,\n",
      "       5702, 6490, 6577, 6676, 6693, 6933, 7175, 7319, 7352, 7611, 7844,\n",
      "       8069, 8369, 8624, 8631, 8675, 8725, 8807, 9010, 9062, 9147, 9597,\n",
      "       9660]),)\n",
      "\n",
      "\n",
      "Top 23 Possibility\n",
      "        DrawNo   DrawDate    PrizeType  LuckyNo\n",
      "104733  496119 2019-06-16  SpecialNo10     3558\n",
      "104755  496219 2019-06-18   SpecialNo1     6626\n",
      "\n",
      "\n",
      "First 23 Numbers\n",
      "Empty DataFrame\n",
      "Columns: [DrawNo, DrawDate, PrizeType, LuckyNo]\n",
      "Index: []\n",
      "\n",
      "\n",
      "All matched\n",
      "        DrawNo   DrawDate   PrizeType  LuckyNo\n",
      "104854  496619 2019-06-26  SpecialNo7      896\n",
      "CPU times: user 16min 33s, sys: 3.38 s, total: 16min 36s\n",
      "Wall time: 26min 33s\n",
      "\n",
      "2019-08-01 00:00:00\n",
      "-------------------\n",
      "\n",
      "Training on 909893 observations.\n",
      "Testing on 10000 observations.\n",
      "\n",
      "Data shape before balancing: (909893, 62)\n",
      "\n",
      "Counts of strikes vs non-strikes in previous data:\n",
      "0    879410\n",
      "1     30483\n",
      "Name: Label, dtype: int64\n",
      "----------------------------------------\n",
      "\n",
      "NO balancing\n",
      "Data shape after balancing: (909893, 62)\n",
      "\n",
      "Counts of strikes VS non-strikes in new data:\n",
      "0    879410\n",
      "1     30483\n",
      "Name: Label, dtype: int64\n",
      "\n",
      "NO filtering\n",
      "CPU times: user 4.19 s, sys: 587 ms, total: 4.78 s\n",
      "Wall time: 5.65 s\n",
      "Data shape\n",
      "(909893, 61) (909893,) (10000, 61) (10000,)\n",
      "\n",
      "Calculating scale pos weight\n",
      "Counter({0: 879410, 1: 30483})\n",
      "\n",
      "scale_pos_weight - 28.849194633074173\n",
      "\n",
      "{'base_score': 0.5, 'booster': 'gbtree', 'colsample_bylevel': 1, 'colsample_bynode': 1, 'colsample_bytree': 0.8, 'gamma': 0, 'learning_rate': 0.1, 'max_delta_step': 0, 'max_depth': 6, 'min_child_weight': 1, 'missing': None, 'n_estimators': 100, 'n_jobs': 4, 'nthread': None, 'objective': 'binary:logistic', 'random_state': 42, 'reg_alpha': 0, 'reg_lambda': 1, 'scale_pos_weight': 28.849194633074173, 'seed': 27, 'silent': None, 'subsample': 0.8, 'verbosity': 1}\n",
      "\n",
      "Use the passed in classifier...\n",
      "\n",
      "TRAIN GROUP\n",
      "\n",
      "Use optimized scorer\n",
      "\n",
      "Cross-validation recall scores: [0.28797343 0.30746963 0.02068716]\n",
      "Mean recall score: 0.20537674203101783\n",
      "\n",
      "TEST GROUP\n",
      "\n",
      "Recall: 0.14331210191082802\n",
      "                   pre       rec       spe        f1       geo       iba       sup\n",
      "\n",
      "          0       0.97      0.82      0.14      0.88      0.34      0.12      9686\n",
      "          1       0.02      0.14      0.82      0.04      0.34      0.11       314\n",
      "\n",
      "avg / total       0.94      0.79      0.16      0.86      0.34      0.12     10000\n",
      "\n"
     ]
    },
    {
     "data": {
      "image/png": "[encoded data removed]",
      "text/plain": [
       "<Figure size 432x288 with 2 Axes>"
      ]
     },
     "metadata": {
      "tags": []
     },
     "output_type": "display_data"
    },
    {
     "data": {
      "text/html": [
       "<div>\n",
       "<style scoped>\n",
       "    .dataframe tbody tr th:only-of-type {\n",
       "        vertical-align: middle;\n",
       "    }\n",
       "\n",
       "    .dataframe tbody tr th {\n",
       "        vertical-align: top;\n",
       "    }\n",
       "\n",
       "    .dataframe thead th {\n",
       "        text-align: right;\n",
       "    }\n",
       "</style>\n",
       "<table border=\"1\" class=\"dataframe\">\n",
       "  <thead>\n",
       "    <tr style=\"text-align: right;\">\n",
       "      <th></th>\n",
       "      <th>Train_Recall</th>\n",
       "      <th>Test_Recall</th>\n",
       "      <th>Test_Specificity</th>\n",
       "      <th>Optimize</th>\n",
       "    </tr>\n",
       "  </thead>\n",
       "  <tbody>\n",
       "    <tr>\n",
       "      <th>XGBClassifier_optimize</th>\n",
       "      <td>0.205377</td>\n",
       "      <td>0.143312</td>\n",
       "      <td>0.815197</td>\n",
       "      <td>0.0776891</td>\n",
       "    </tr>\n",
       "  </tbody>\n",
       "</table>\n",
       "</div>"
      ],
      "text/plain": [
       "                       Train_Recall Test_Recall Test_Specificity   Optimize\n",
       "XGBClassifier_optimize     0.205377    0.143312         0.815197  0.0776891"
      ]
     },
     "metadata": {
      "tags": []
     },
     "output_type": "display_data"
    },
    {
     "name": "stdout",
     "output_type": "stream",
     "text": [
      "\n",
      "\n",
      "Additional Info\n",
      "========================================\n",
      "Total predicted to be positive: 1835 \n",
      "\n",
      "Predicted matches\n",
      "1835 [ 12  24  25  36  50  53  58  62  65  72  96 104 110 113 115 117 118 119\n",
      " 121 125 129 152 154]\n",
      "\n",
      "[2608 4835 1394 1133 7085 8193 4755  870 2213  845 2194 8656 6129 6643\n",
      " 3777 1747 5401 7570 2883 9398 2075 3056 8559]\n",
      "\n",
      "Matched draws\n",
      "Count: 45, Index: (array([ 287,  356,  470,  845, 1439, 1459, 1465, 1601, 1676, 1897, 1961,\n",
      "       2075, 2136, 2205, 2903, 3271, 3340, 3462, 3664, 3727, 3738, 4108,\n",
      "       4223, 4299, 4559, 5000, 5051, 5583, 5704, 5761, 6510, 6764, 7292,\n",
      "       7466, 7828, 7838, 7927, 8080, 8253, 8297, 8320, 8440, 9077, 9150,\n",
      "       9413]),)\n",
      "\n",
      "\n",
      "Top 23 Possibility\n",
      "Empty DataFrame\n",
      "Columns: [DrawNo, DrawDate, PrizeType, LuckyNo]\n",
      "Index: []\n",
      "\n",
      "\n",
      "First 23 Numbers\n",
      "Empty DataFrame\n",
      "Columns: [DrawNo, DrawDate, PrizeType, LuckyNo]\n",
      "Index: []\n",
      "\n",
      "\n",
      "All matched\n",
      "        DrawNo   DrawDate       PrizeType  LuckyNo\n",
      "104726  496119 2019-06-16  ConsolationNo4     1961\n",
      "CPU times: user 19min 58s, sys: 3.37 s, total: 20min 1s\n",
      "Wall time: 28min 18s\n",
      "\n",
      "2019-09-01 00:00:00\n",
      "-------------------\n",
      "\n",
      "Training on 919893 observations.\n",
      "Testing on 10000 observations.\n",
      "\n",
      "Data shape before balancing: (919893, 62)\n",
      "\n",
      "Counts of strikes vs non-strikes in previous data:\n",
      "0    889096\n",
      "1     30797\n",
      "Name: Label, dtype: int64\n",
      "----------------------------------------\n",
      "\n",
      "NO balancing\n",
      "Data shape after balancing: (919893, 62)\n",
      "\n",
      "Counts of strikes VS non-strikes in new data:\n",
      "0    889096\n",
      "1     30797\n",
      "Name: Label, dtype: int64\n",
      "\n",
      "NO filtering\n",
      "CPU times: user 5.28 s, sys: 1.08 s, total: 6.36 s\n",
      "Wall time: 8.03 s\n",
      "Data shape\n",
      "(919893, 61) (919893,) (10000, 61) (10000,)\n",
      "\n",
      "Calculating scale pos weight\n",
      "Counter({0: 889096, 1: 30797})\n",
      "\n",
      "scale_pos_weight - 28.869565217391305\n",
      "\n",
      "{'base_score': 0.5, 'booster': 'gbtree', 'colsample_bylevel': 1, 'colsample_bynode': 1, 'colsample_bytree': 0.8, 'gamma': 0, 'learning_rate': 0.1, 'max_delta_step': 0, 'max_depth': 6, 'min_child_weight': 1, 'missing': None, 'n_estimators': 100, 'n_jobs': 4, 'nthread': None, 'objective': 'binary:logistic', 'random_state': 42, 'reg_alpha': 0, 'reg_lambda': 1, 'scale_pos_weight': 28.869565217391305, 'seed': 27, 'silent': None, 'subsample': 0.8, 'verbosity': 1}\n",
      "\n",
      "Use the passed in classifier...\n",
      "\n",
      "TRAIN GROUP\n",
      "\n",
      "Use optimized scorer\n",
      "\n",
      "Cross-validation recall scores: [4.46620594e-01 3.26321232e-01 7.79271381e-05]\n",
      "Mean recall score: 0.2576732508261662\n",
      "\n",
      "TEST GROUP\n",
      "\n",
      "Recall: 0.24367088607594936\n",
      "                   pre       rec       spe        f1       geo       iba       sup\n",
      "\n",
      "          0       0.97      0.77      0.24      0.86      0.43      0.20      9684\n",
      "          1       0.03      0.24      0.77      0.06      0.43      0.18       316\n",
      "\n",
      "avg / total       0.94      0.75      0.26      0.83      0.43      0.20     10000\n",
      "\n"
     ]
    },
    {
     "data": {
      "image/png": "[encoded data removed]",
      "text/plain": [
       "<Figure size 432x288 with 2 Axes>"
      ]
     },
     "metadata": {
      "tags": []
     },
     "output_type": "display_data"
    },
    {
     "data": {
      "text/html": [
       "<div>\n",
       "<style scoped>\n",
       "    .dataframe tbody tr th:only-of-type {\n",
       "        vertical-align: middle;\n",
       "    }\n",
       "\n",
       "    .dataframe tbody tr th {\n",
       "        vertical-align: top;\n",
       "    }\n",
       "\n",
       "    .dataframe thead th {\n",
       "        text-align: right;\n",
       "    }\n",
       "</style>\n",
       "<table border=\"1\" class=\"dataframe\">\n",
       "  <thead>\n",
       "    <tr style=\"text-align: right;\">\n",
       "      <th></th>\n",
       "      <th>Train_Recall</th>\n",
       "      <th>Test_Recall</th>\n",
       "      <th>Test_Specificity</th>\n",
       "      <th>Optimize</th>\n",
       "    </tr>\n",
       "  </thead>\n",
       "  <tbody>\n",
       "    <tr>\n",
       "      <th>XGBClassifier_optimize</th>\n",
       "      <td>0.257673</td>\n",
       "      <td>0.243671</td>\n",
       "      <td>0.770756</td>\n",
       "      <td>0.149088</td>\n",
       "    </tr>\n",
       "  </tbody>\n",
       "</table>\n",
       "</div>"
      ],
      "text/plain": [
       "                       Train_Recall Test_Recall Test_Specificity  Optimize\n",
       "XGBClassifier_optimize     0.257673    0.243671         0.770756  0.149088"
      ]
     },
     "metadata": {
      "tags": []
     },
     "output_type": "display_data"
    },
    {
     "name": "stdout",
     "output_type": "stream",
     "text": [
      "\n",
      "\n",
      "Additional Info\n",
      "========================================\n",
      "Total predicted to be positive: 2297 \n",
      "\n",
      "Predicted matches\n",
      "2297 [ 37  72 115 146 151 160 163 171 176 177 180 188 190 197 198 200 205 240\n",
      " 243 244 247 249 250]\n",
      "\n",
      "[5077 7848 5519 5738 9295 4562 5270 9041 1961 5162 7743 4708 8297 2037\n",
      " 3865 1398 9067 4865  584 2162  896 4060 4317]\n",
      "\n",
      "Matched draws\n",
      "Count: 77, Index: (array([ 268,  358,  418,  420,  489,  494,  687,  721,  732,  764,  812,\n",
      "        851,  905, 1089, 1184, 1311, 1349, 1356, 1485, 1709, 1758, 1800,\n",
      "       2219, 2318, 2505, 2585, 2637, 2820, 3043, 3104, 3192, 3470, 3499,\n",
      "       3612, 3643, 3901, 3926, 3953, 3987, 3994, 4103, 4186, 4230, 4283,\n",
      "       4480, 4550, 4775, 5064, 5162, 5533, 5565, 5810, 6018, 6471, 6506,\n",
      "       6898, 7123, 7224, 7341, 7382, 7412, 7588, 7931, 7934, 7935, 8719,\n",
      "       8860, 8962, 8981, 9001, 9091, 9336, 9475, 9652, 9763, 9774, 9782]),)\n",
      "\n",
      "\n",
      "Top 23 Possibility\n",
      "        DrawNo   DrawDate       PrizeType  LuckyNo\n",
      "104726  496119 2019-06-16  ConsolationNo4     1961\n",
      "104854  496619 2019-06-26      SpecialNo7      896\n",
      "\n",
      "\n",
      "First 23 Numbers\n",
      "        DrawNo   DrawDate   PrizeType  LuckyNo\n",
      "104698  496019 2019-06-15  3rdPrizeNo      190\n",
      "\n",
      "\n",
      "All matched\n",
      "        DrawNo   DrawDate       PrizeType  LuckyNo\n",
      "104797  496419 2019-06-22  ConsolationNo6     5565\n",
      "104890  496819 2019-06-30  ConsolationNo7      812\n",
      "CPU times: user 18min 55s, sys: 4.13 s, total: 18min 59s\n",
      "Wall time: 33min 45s\n",
      "\n",
      "2019-10-01 00:00:00\n",
      "-------------------\n",
      "\n",
      "Training on 929893 observations.\n",
      "Testing on 10000 observations.\n",
      "\n",
      "Data shape before balancing: (929893, 62)\n",
      "\n",
      "Counts of strikes vs non-strikes in previous data:\n",
      "0    898780\n",
      "1     31113\n",
      "Name: Label, dtype: int64\n",
      "----------------------------------------\n",
      "\n",
      "NO balancing\n",
      "Data shape after balancing: (929893, 62)\n",
      "\n",
      "Counts of strikes VS non-strikes in new data:\n",
      "0    898780\n",
      "1     31113\n",
      "Name: Label, dtype: int64\n",
      "\n",
      "NO filtering\n",
      "CPU times: user 5.24 s, sys: 1.13 s, total: 6.37 s\n",
      "Wall time: 7.5 s\n",
      "Data shape\n",
      "(929893, 61) (929893,) (10000, 61) (10000,)\n",
      "\n",
      "Calculating scale pos weight\n",
      "Counter({0: 898780, 1: 31113})\n",
      "\n",
      "scale_pos_weight - 28.88760325265966\n",
      "\n",
      "{'base_score': 0.5, 'booster': 'gbtree', 'colsample_bylevel': 1, 'colsample_bynode': 1, 'colsample_bytree': 0.8, 'gamma': 0, 'learning_rate': 0.1, 'max_delta_step': 0, 'max_depth': 6, 'min_child_weight': 1, 'missing': None, 'n_estimators': 100, 'n_jobs': 4, 'nthread': None, 'objective': 'binary:logistic', 'random_state': 42, 'reg_alpha': 0, 'reg_lambda': 1, 'scale_pos_weight': 28.88760325265966, 'seed': 27, 'silent': None, 'subsample': 0.8, 'verbosity': 1}\n",
      "\n",
      "Use the passed in classifier...\n",
      "\n",
      "TRAIN GROUP\n",
      "\n",
      "Use optimized scorer\n",
      "\n",
      "Cross-validation recall scores: [8.00024700e-01 2.74764064e-01 6.25250532e-04]\n",
      "Mean recall score: 0.35847133833391354\n",
      "\n",
      "TEST GROUP\n"
     ]
    }
   ],
   "source": [
    "start_mt = pd.datetime(2019,7,1)\n",
    "how_many_mt = 6 \n",
    "for i in range(how_many_mt):\n",
    "  month_to_predict = start_mt + relativedelta(months=i)\n",
    "  print(f\"\\n{month_to_predict}\\n-------------------\\n\")\n",
    "  %time gen_train_test_set(month_to_predict, feature_matrix_selection, file_prefix='test')\n",
    "  %time model(pd.datetime(2019,6,1), feature_matrix_selection, file_prefix='test')"
   ]
  },
  {
   "cell_type": "code",
   "execution_count": 0,
   "metadata": {
    "colab": {},
    "colab_type": "code",
    "id": "m9UobqUWMI9b"
   },
   "outputs": [],
   "source": []
  }
 ],
 "metadata": {
  "accelerator": "GPU",
  "colab": {
   "include_colab_link": true,
   "machine_shape": "hm",
   "name": "04_02_automated_machine_learning.ipynb",
   "provenance": []
  },
  "kernelspec": {
   "display_name": "Python 3",
   "language": "python",
   "name": "python3"
  },
  "language_info": {
   "codemirror_mode": {
    "name": "ipython",
    "version": 3
   },
   "file_extension": ".py",
   "mimetype": "text/x-python",
   "name": "python",
   "nbconvert_exporter": "python",
   "pygments_lexer": "ipython3",
   "version": "3.7.2"
  }
 },
 "nbformat": 4,
 "nbformat_minor": 0
}

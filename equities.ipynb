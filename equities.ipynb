{
 "cells": [
  {
   "cell_type": "markdown",
   "metadata": {
    "colab_type": "text",
    "id": "view-in-github"
   },
   "source": [
    "<a href=\"https://colab.research.google.com/github/mengwangk/dl-projects/blob/master/equities.ipynb\" target=\"_parent\"><img src=\"https://colab.research.google.com/assets/colab-badge.svg\" alt=\"Open In Colab\"/></a>"
   ]
  },
  {
   "cell_type": "markdown",
   "metadata": {
    "colab_type": "text",
    "id": "OS4Nx4-83Jw4",
    "toc-hr-collapsed": false
   },
   "source": [
    "# Equities"
   ]
  },
  {
   "cell_type": "markdown",
   "metadata": {},
   "source": [
    "## Magic and Import"
   ]
  },
  {
   "cell_type": "code",
   "execution_count": 47,
   "metadata": {
    "colab": {},
    "colab_type": "code",
    "id": "9Gl02_J13PFx"
   },
   "outputs": [],
   "source": [
    "%reload_ext autoreload\n",
    "%autoreload 2\n",
    "\n",
    "%matplotlib inline"
   ]
  },
  {
   "cell_type": "code",
   "execution_count": 48,
   "metadata": {},
   "outputs": [],
   "source": [
    "# To support both python 2 and python 3\n",
    "from __future__ import division, print_function, unicode_literals\n",
    "\n",
    "# Common imports\n",
    "import numpy as np\n",
    "import os\n",
    "import pandas as pd\n",
    "import featuretools as ft\n",
    "import matplotlib as mpl\n",
    "import matplotlib.pyplot as plt\n",
    "import logging\n",
    "import json\n",
    "\n",
    "from pathlib import Path"
   ]
  },
  {
   "cell_type": "markdown",
   "metadata": {},
   "source": [
    "## Setup"
   ]
  },
  {
   "cell_type": "code",
   "execution_count": 49,
   "metadata": {},
   "outputs": [
    {
     "data": {
      "text/plain": [
       "'3.7.2'"
      ]
     },
     "execution_count": 49,
     "metadata": {},
     "output_type": "execute_result"
    }
   ],
   "source": [
    "# Settings for notebook\n",
    "from IPython.core.interactiveshell import InteractiveShell\n",
    "InteractiveShell.ast_node_interactivity = \"all\"\n",
    "\n",
    "# Show Python version\n",
    "import platform\n",
    "platform.python_version()"
   ]
  },
  {
   "cell_type": "code",
   "execution_count": 50,
   "metadata": {},
   "outputs": [],
   "source": [
    "# to make this notebook's output stable across runs\n",
    "np.random.seed(42)\n",
    "\n",
    "mpl.rc('axes', labelsize=14)\n",
    "mpl.rc('xtick', labelsize=12)\n",
    "mpl.rc('ytick', labelsize=12)\n",
    "\n",
    "# Ignore useless warnings (see SciPy issue #5998)\n",
    "import warnings\n",
    "warnings.filterwarnings(action=\"ignore\", message=\"^internal gelsd\")\n",
    "\n",
    "from IPython.display import display\n",
    "pd.options.display.max_columns = 50\n",
    "pd.options.display.html.table_schema = True"
   ]
  },
  {
   "cell_type": "markdown",
   "metadata": {},
   "source": [
    "## Global variables"
   ]
  },
  {
   "cell_type": "code",
   "execution_count": 51,
   "metadata": {},
   "outputs": [],
   "source": [
    "# Component stocks URL\n",
    "_URL_COMPONENT_STOCKS = 'https://www.investing.com/indices/ftse-malaysia-klci-components'"
   ]
  },
  {
   "cell_type": "code",
   "execution_count": 199,
   "metadata": {},
   "outputs": [],
   "source": [
    "_DS_PATH = Path('datasets/equities')\n",
    "_COMPONENT_STOCKS_JSON_FILE = _DS_PATH/'equities.json'\n",
    "_COMPONENT_STOCKS_CSV_FILE = _DS_PATH/'equities.csv'\n",
    "\n",
    "os.makedirs(os.path.dirname(_COMPONENT_STOCKS_JSON_FILE), exist_ok=True)"
   ]
  },
  {
   "cell_type": "code",
   "execution_count": 124,
   "metadata": {},
   "outputs": [],
   "source": [
    "# Import and install Scrapy\n",
    "try:\n",
    "    import scrapy\n",
    "except:\n",
    "    !pip install scrapy\n",
    "    import scrapy\n",
    "    \n",
    "import scrapy.crawler as crawler\n",
    "from scrapy.http import *\n",
    "from scrapy.selector import Selector\n",
    "from scrapy.crawler import CrawlerProcess\n",
    "from multiprocessing import Process, Queue\n",
    "from twisted.internet import reactor"
   ]
  },
  {
   "cell_type": "markdown",
   "metadata": {
    "toc-hr-collapsed": false
   },
   "source": [
    "## Scrap Component Stocks"
   ]
  },
  {
   "cell_type": "markdown",
   "metadata": {},
   "source": [
    "### Helper Functions"
   ]
  },
  {
   "cell_type": "code",
   "execution_count": 92,
   "metadata": {},
   "outputs": [],
   "source": [
    "# the wrapper to make it run more times\n",
    "def run_spider(spider):\n",
    "    def f(q):\n",
    "        try:\n",
    "            runner = crawler.CrawlerRunner({'USER_AGENT': 'Mozilla/5.0 (Windows NT 10.0; Win64; x64) AppleWebKit/537.36 (KHTML, like Gecko) Chrome/60.0.3112.113 Safari/537.36'})\n",
    "            deferred = runner.crawl(spider)\n",
    "            deferred.addBoth(lambda _: reactor.stop())\n",
    "            reactor.run()\n",
    "            q.put(None)\n",
    "        except Exception as e:\n",
    "            q.put(e)\n",
    "\n",
    "    q = Queue()\n",
    "    p = Process(target=f, args=(q,))\n",
    "    p.start()\n",
    "    result = q.get()\n",
    "    p.join()\n",
    "\n",
    "    if result is not None:\n",
    "        raise result"
   ]
  },
  {
   "cell_type": "code",
   "execution_count": 204,
   "metadata": {},
   "outputs": [],
   "source": [
    "class JsonWriterPipeline(object):\n",
    "    \"\"\"JSON output writer\"\"\"\n",
    "\n",
    "    def open_spider(self, spider):\n",
    "        self.file = open(_COMPONENT_STOCKS_JSON_FILE, 'a', encoding='utf-8') \n",
    "\n",
    "    def close_spider(self, spider):\n",
    "        self.file.close()\n",
    "\n",
    "    def process_item(self, item, spider):\n",
    "        line = json.dumps(dict(item)) + \"\\n\"\n",
    "        self.file.write(line)\n",
    "        return item\n",
    "    \n",
    "class CsvWriterPipeline(object):\n",
    "    \"\"\"CSV output writer\"\"\"\n",
    "    \n",
    "    def open_spider(self, spider):\n",
    "        self.file = open(_COMPONENT_STOCKS_CSV_FILE, 'a', encoding='utf-8') \n",
    "        writer = csv.writer(self)\n",
    "        writer.writerow(['name', 'link'])\n",
    "\n",
    "    def close_spider(self, spider):\n",
    "        self.file.close()\n",
    "\n",
    "    def process_item(self, item, spider):\n",
    "        line = json.dumps(dict(item)) + \"\\n\"\n",
    "        self.file.write(line)\n",
    "        return item\n",
    "    "
   ]
  },
  {
   "cell_type": "code",
   "execution_count": 206,
   "metadata": {},
   "outputs": [],
   "source": [
    "class ComponentStocksSpider(scrapy.Spider):\n",
    "    name = \"component_stocks_spider\"\n",
    "    start_urls = [\n",
    "        _URL_COMPONENT_STOCKS\n",
    "    ]\n",
    "    custom_settings = {\n",
    "        'LOG_LEVEL': logging.WARNING,\n",
    "        'ITEM_PIPELINES': {'__main__.CsvWriterPipeline': 1}, # Used for pipeline 1\n",
    "    }\n",
    "\n",
    "    def start_requests(self):\n",
    "        # self.driver = webdriver.Chrome(self._CHROME_DRIVER)\n",
    "        for url in self.start_urls:\n",
    "            yield scrapy.Request(url=url, callback=self.parse)\n",
    "\n",
    "    def parse(self, response):\n",
    "        selector = Selector(response)\n",
    "        table = selector.xpath('//*[@id=\"cr1\"]')\n",
    "        rows = table.xpath(\".//tbody/tr\")\n",
    "        for row in rows:\n",
    "            print(row.xpath('.//td[2]/a/text()').extract())\n",
    "            print(row.xpath('.//td[2]/a/@href').extract())\n",
    "        "
   ]
  },
  {
   "cell_type": "markdown",
   "metadata": {},
   "source": [
    "### Download Component Stocks"
   ]
  },
  {
   "cell_type": "code",
   "execution_count": 197,
   "metadata": {},
   "outputs": [
    {
     "name": "stdout",
     "output_type": "stream",
     "text": [
      "['AMMB']\n",
      "['/equities/ammb-holdings-bhd']\n",
      "['Axiata']\n",
      "['/equities/axiata-group-bhd']\n",
      "['Bumiputra Commerce']\n",
      "['/equities/bumiputra---commerce-holdings-bhd']\n",
      "['Dialog']\n",
      "['/equities/dialog-group-bhd']\n",
      "['DiGi.Com']\n",
      "['/equities/digi.com-bhd']\n",
      "['Genting']\n",
      "['/equities/genting-bhd']\n",
      "['Genting Malaysia']\n",
      "['/equities/genting-malaysia-bhd']\n",
      "['Hap Seng Consolidated']\n",
      "['/equities/hap-seng-consolidated-bhd']\n",
      "['Hartalega']\n",
      "['/equities/hartalega-holdings-bhd']\n",
      "['Hong Leong Bank']\n",
      "['/equities/hong-leong-bank-bhd']\n",
      "['Hong Leong Financial']\n",
      "['/equities/hong-leong-financial-group-bhd']\n",
      "['IHH Healthcare']\n",
      "['/equities/ihh-healthcare-bhd']\n",
      "['IOI Corp']\n",
      "['/equities/ioi-corporation-bhd']\n",
      "['Kuala Lumpur Kepong']\n",
      "['/equities/kuala-lumpur-kepong-bhd']\n",
      "['Malayan Banking']\n",
      "['/equities/malayan-banking-bhd']\n",
      "['Malaysia Airport']\n",
      "['/equities/malaysia-airport-holdings-bhd']\n",
      "['Maxis']\n",
      "['/equities/maxis-bhd']\n",
      "['MISC']\n",
      "['/equities/misc-bhd']\n",
      "['Nestle']\n",
      "['/equities/nestle-(malaysia)-bhd']\n",
      "['Petronas Chemicals']\n",
      "['/equities/petronas-chemicals-group-bhd']\n",
      "['Petronas Dagangan']\n",
      "['/equities/petronas-dagangan-bhd']\n",
      "['Petronas Gas']\n",
      "['/equities/petronas-gas-bhd']\n",
      "['PPB']\n",
      "['/equities/ppb-group-bhd']\n",
      "['Press Metal Bhd']\n",
      "['/equities/press-metal-bhd']\n",
      "['Public Bank']\n",
      "['/equities/public-bank-bhd']\n",
      "['RHB Bank']\n",
      "['/equities/rhb-capital-bhd']\n",
      "['Sime Darby']\n",
      "['/equities/sime-darby-bhd']\n",
      "['Sime Darby Plantation']\n",
      "['/equities/sime-darby-plantation']\n",
      "['Tenaga Nasional']\n",
      "['/equities/tenaga-nasional-bhd']\n",
      "['Top Glove Corp']\n",
      "['/equities/top-glove-corporation-bhd']\n"
     ]
    }
   ],
   "source": [
    "# process = CrawlerProcess({\n",
    "#     'USER_AGENT': 'Mozilla/4.0 (compatible; MSIE 7.0; Windows NT 5.1)'\n",
    "# })\n",
    "\n",
    "# process.crawl(ComponentStocksSpider)\n",
    "# process.start()\n",
    "\n",
    "run_spider(ComponentStocksSpider)"
   ]
  },
  {
   "cell_type": "code",
   "execution_count": null,
   "metadata": {},
   "outputs": [],
   "source": []
  },
  {
   "cell_type": "code",
   "execution_count": null,
   "metadata": {},
   "outputs": [],
   "source": []
  }
 ],
 "metadata": {
  "colab": {
   "include_colab_link": true,
   "name": "equities.ipynb",
   "provenance": [],
   "version": "0.3.2"
  },
  "kernelspec": {
   "display_name": "Python 3",
   "language": "python",
   "name": "python3"
  },
  "language_info": {
   "codemirror_mode": {
    "name": "ipython",
    "version": 3
   },
   "file_extension": ".py",
   "mimetype": "text/x-python",
   "name": "python",
   "nbconvert_exporter": "python",
   "pygments_lexer": "ipython3",
   "version": "3.7.2"
  },
  "toc-showtags": false
 },
 "nbformat": 4,
 "nbformat_minor": 2
}

{
  "nbformat": 4,
  "nbformat_minor": 0,
  "metadata": {
    "accelerator": "GPU",
    "colab": {
      "name": "04_14_gbdt_01.ipynb",
      "provenance": []
    },
    "kernelspec": {
      "display_name": "Python 3",
      "language": "python",
      "name": "python3"
    },
    "language_info": {
      "codemirror_mode": {
        "name": "ipython",
        "version": 3
      },
      "file_extension": ".py",
      "mimetype": "text/x-python",
      "name": "python",
      "nbconvert_exporter": "python",
      "pygments_lexer": "ipython3",
      "version": "3.8.3"
    }
  },
  "cells": [
    {
      "cell_type": "markdown",
      "metadata": {
        "id": "I7aG9jzGoP18"
      },
      "source": [
        "# Dataset"
      ]
    },
    {
      "cell_type": "code",
      "metadata": {
        "id": "zlVvNIxToP1-"
      },
      "source": [
        "from IPython.core.interactiveshell import InteractiveShell\n",
        "InteractiveShell.ast_node_interactivity = \"all\"\n",
        "\n",
        "%load_ext autoreload\n",
        "%autoreload 2"
      ],
      "execution_count": 1,
      "outputs": []
    },
    {
      "cell_type": "code",
      "metadata": {
        "id": "UXQchcJCoP2E"
      },
      "source": [
        "required_libs = [ (\"numpy\", \"numpy\"),\n",
        "                 (\"pandas\", \"pandas\"),\n",
        "                 (\"seaborn\", \"seaborn\"),\n",
        "                 (\"matplotlib\", \"matplotlib\"),\n",
        "                 (\"sklearn\", \"sklearn\"),\n",
        "                 (\"colorama\", \"colorama\"),\n",
        "                 (\"emoji\", \"emoji\"),\n",
        "                 #(\"catboost\", \"catboost\")\n",
        "                ]"
      ],
      "execution_count": 2,
      "outputs": []
    },
    {
      "cell_type": "code",
      "metadata": {
        "id": "Uyzk4kXYoP2J"
      },
      "source": [
        "def is_lib_exists(name):\n",
        "    import importlib\n",
        "    lib = importlib.util.find_spec(name)\n",
        "    return lib is not None"
      ],
      "execution_count": 3,
      "outputs": []
    },
    {
      "cell_type": "code",
      "metadata": {
        "id": "5SJ6r_j2oP2N",
        "outputId": "e41e044f-adf5-47a8-f75f-afe6a94f5702",
        "colab": {
          "base_uri": "https://localhost:8080/",
          "height": 136
        }
      },
      "source": [
        "for (clz,lib) in required_libs:\n",
        "    if not is_lib_exists(clz):\n",
        "        print(f\"Installing {lib}\")\n",
        "        !pip -qq install {lib}\n",
        "    else:\n",
        "        print(f\"{lib} exists\")"
      ],
      "execution_count": 4,
      "outputs": [
        {
          "output_type": "stream",
          "text": [
            "numpy exists\n",
            "pandas exists\n",
            "seaborn exists\n",
            "matplotlib exists\n",
            "sklearn exists\n",
            "colorama exists\n",
            "emoji exists\n"
          ],
          "name": "stdout"
        }
      ]
    },
    {
      "cell_type": "code",
      "metadata": {
        "id": "kr8IQzcWjE-v",
        "outputId": "11834abf-eedd-4869-be5e-6d2a318e5111",
        "colab": {
          "base_uri": "https://localhost:8080/",
          "height": 34
        }
      },
      "source": [
        "# Uninstall fastai ver 1 and install ver 2\n",
        "!pip uninstall -qq --yes fastai \n",
        "!pip install -q fastai\n",
        "!pip install -q nbdev\n",
        "import fastai\n",
        "print(fastai.__version__)"
      ],
      "execution_count": 5,
      "outputs": [
        {
          "output_type": "stream",
          "text": [
            "2.0.15\n"
          ],
          "name": "stdout"
        }
      ]
    },
    {
      "cell_type": "code",
      "metadata": {
        "id": "hRyT0uoNoP2Q"
      },
      "source": [
        "COLAB = True\n",
        "\n",
        "DATASET_NAME = '4D.zip'\n",
        "\n",
        "FEATURE_DATASET_PREFIX = 'feature_matrix_d2_v3'"
      ],
      "execution_count": 6,
      "outputs": []
    },
    {
      "cell_type": "code",
      "metadata": {
        "id": "zEbqmb8KoP2S"
      },
      "source": [
        "import numpy as np\n",
        "import pandas as pd\n",
        "import seaborn as sns\n",
        "import matplotlib.pyplot as plt\n",
        "import calendar\n",
        "import traceback\n",
        "# import catboost\n",
        "import gc\n",
        "from pathlib import Path\n",
        "from dateutil.relativedelta import *\n",
        "from datetime import *\n",
        "#from catboost import *\n",
        "#from catboost import datasets\n",
        "#from catboost import CatBoostClassifier\n",
        "from scipy import stats\n",
        "from scipy.stats.stats import pearsonr\n",
        "from pandas.api.types import is_string_dtype, is_numeric_dtype, is_categorical_dtype\n",
        "from fastai.tabular.all import *\n",
        "from sklearn.metrics import roc_auc_score\n",
        "np.set_printoptions(precision=4)\n",
        "pd.options.display.max_columns = None"
      ],
      "execution_count": 7,
      "outputs": []
    },
    {
      "cell_type": "code",
      "metadata": {
        "id": "C-7Jn85JoP2V",
        "outputId": "5497ebd3-afab-4907-9e8b-d1420b3093bb",
        "colab": {
          "base_uri": "https://localhost:8080/",
          "height": 102
        }
      },
      "source": [
        "%matplotlib inline\n",
        "%aimport"
      ],
      "execution_count": 8,
      "outputs": [
        {
          "output_type": "stream",
          "text": [
            "Modules to reload:\n",
            "all-except-skipped\n",
            "\n",
            "Modules to skip:\n",
            "\n"
          ],
          "name": "stdout"
        }
      ]
    },
    {
      "cell_type": "code",
      "metadata": {
        "id": "bRRyrDnzoP2a"
      },
      "source": [
        "from IPython.display import display"
      ],
      "execution_count": 9,
      "outputs": []
    },
    {
      "cell_type": "code",
      "metadata": {
        "id": "WQ16s9UjoP2d"
      },
      "source": [
        "# check catboost version\n",
        "# print(catboost.__version__)\n",
        "# !python --version"
      ],
      "execution_count": 10,
      "outputs": []
    },
    {
      "cell_type": "code",
      "metadata": {
        "id": "yGhSyyL2pSHj",
        "outputId": "4fb5be58-4a7c-4b7b-e6f1-41daffbcd0bd",
        "colab": {
          "base_uri": "https://localhost:8080/",
          "height": 173
        }
      },
      "source": [
        "# colab setup\n",
        "if COLAB:\n",
        "  !rm -rf dl-projects\n",
        "  !git clone https://github.com/mengwangk/dl-projects\n",
        "  \n",
        "  !cp dl-projects/utils* .\n",
        "  !cp dl-projects/preprocess* .\n",
        "  !cp dl-projects/plot* .\n",
        "  \n",
        "  from google.colab import drive\n",
        "  drive.mount('/content/gdrive')\n",
        "  GDRIVE_DATASET_FOLDER = Path('gdrive/My Drive/datasets/')\n",
        "  DATASET_PATH = GDRIVE_DATASET_FOLDER\n",
        "  ORIGIN_DATASET_PATH = Path('dl-projects/datasets')\n",
        "  #!ls -l gdrive/\"My Drive\"/datasets/ --block-size=M\n",
        "\n",
        "DATASET = DATASET_PATH/f\"{FEATURE_DATASET_PREFIX}.ft\"\n",
        "ORIGIN_DATASET = ORIGIN_DATASET_PATH/DATASET_NAME"
      ],
      "execution_count": 11,
      "outputs": [
        {
          "output_type": "stream",
          "text": [
            "Cloning into 'dl-projects'...\n",
            "remote: Enumerating objects: 146, done.\u001b[K\n",
            "remote: Counting objects: 100% (146/146), done.\u001b[K\n",
            "remote: Compressing objects: 100% (129/129), done.\u001b[K\n",
            "remote: Total 2356 (delta 91), reused 33 (delta 17), pack-reused 2210\u001b[K\n",
            "Receiving objects: 100% (2356/2356), 80.59 MiB | 11.51 MiB/s, done.\n",
            "Resolving deltas: 100% (1470/1470), done.\n",
            "Drive already mounted at /content/gdrive; to attempt to forcibly remount, call drive.mount(\"/content/gdrive\", force_remount=True).\n"
          ],
          "name": "stdout"
        }
      ]
    },
    {
      "cell_type": "markdown",
      "metadata": {
        "id": "gvnr5KFJoP2f"
      },
      "source": [
        "## EDA"
      ]
    },
    {
      "cell_type": "code",
      "metadata": {
        "id": "ZV-CiR4Yrb7m"
      },
      "source": [
        "from preprocess import *\n",
        "from utils import feature_selection, plot_feature_importances\n",
        "from plot import plot_correlation_matrix, plot_labeled_scatter"
      ],
      "execution_count": 12,
      "outputs": []
    },
    {
      "cell_type": "code",
      "metadata": {
        "id": "OTuQ19LcpP0L"
      },
      "source": [
        "data = pd.read_feather(DATASET)\n",
        "origin_data = format_tabular(ORIGIN_DATASET)"
      ],
      "execution_count": 13,
      "outputs": []
    },
    {
      "cell_type": "code",
      "metadata": {
        "id": "NznUjX3ppQeG"
      },
      "source": [
        "jan_2020 = pd.read_feather(DATASET_PATH/f\"feature_matrix_2020_jan.ft\")\n",
        "feb_2020 = pd.read_feather(DATASET_PATH/f\"feature_matrix_2020_feb.ft\")\n",
        "mar_2020 = pd.read_feather(DATASET_PATH/f\"feature_matrix_2020_mar.ft\")\n",
        "apr_2020 = pd.read_feather(DATASET_PATH/f\"feature_matrix_2020_apr.ft\")\n",
        "may_2020 = pd.read_feather(DATASET_PATH/f\"feature_matrix_2020_may.ft\")\n",
        "jun_2020 = pd.read_feather(DATASET_PATH/f\"feature_matrix_2020_jun.ft\")\n",
        "jul_2020 = pd.read_feather(DATASET_PATH/f\"feature_matrix_2020_jul.ft\")"
      ],
      "execution_count": 14,
      "outputs": []
    },
    {
      "cell_type": "code",
      "metadata": {
        "id": "Z4nQM7SkxbTM",
        "outputId": "240c2345-35ab-45ee-c38a-0479b45979f3",
        "colab": {
          "base_uri": "https://localhost:8080/",
          "height": 34
        }
      },
      "source": [
        "new_data = data.append(jan_2020[data.columns],ignore_index=True)\n",
        "new_data = new_data.append(feb_2020[data.columns],ignore_index=True)\n",
        "new_data = new_data.append(mar_2020[data.columns],ignore_index=True)\n",
        "new_data = new_data.append(apr_2020[data.columns],ignore_index=True)\n",
        "new_data = new_data.append(may_2020[data.columns],ignore_index=True)\n",
        "new_data = new_data.append(jun_2020[data.columns],ignore_index=True)\n",
        "new_data = new_data.append(jul_2020[data.columns],ignore_index=True)\n",
        "data.shape, new_data.shape "
      ],
      "execution_count": 15,
      "outputs": [
        {
          "output_type": "execute_result",
          "data": {
            "text/plain": [
              "((959893, 217), (1029893, 217))"
            ]
          },
          "metadata": {
            "tags": []
          },
          "execution_count": 15
        }
      ]
    },
    {
      "cell_type": "code",
      "metadata": {
        "id": "6fcS0WHNF84G"
      },
      "source": [
        "del data\n",
        "data = new_data"
      ],
      "execution_count": 16,
      "outputs": []
    },
    {
      "cell_type": "code",
      "metadata": {
        "id": "P21A_rqdF_SP",
        "outputId": "5f78d349-3503-46a5-e68c-f935a919294a",
        "colab": {
          "base_uri": "https://localhost:8080/",
          "height": 221
        }
      },
      "source": [
        "data.isna().sum().sort_values(ascending=False)"
      ],
      "execution_count": 17,
      "outputs": [
        {
          "output_type": "execute_result",
          "data": {
            "text/plain": [
              "CUM_SUM(SKEW(Results.TotalStrike))           7685\n",
              "CUM_MEAN(TREND(Results.DrawNo, DrawDate))    7685\n",
              "TREND(Results.CUM_SUM(DrawNo), DrawDate)     7685\n",
              "TREND(Results.CUM_SUM(LuckyNo), DrawDate)    7685\n",
              "CUM_SUM(SKEW(Results.LuckyNo))               7685\n",
              "                                             ... \n",
              "CUM_SUM(MIN(Results.DrawNo))                    0\n",
              "NUM_UNIQUE(Results.DAY(DrawDate))               0\n",
              "NUM_UNIQUE(Results.MONTH(DrawDate))             0\n",
              "SUM(Results.PERCENTILE(LuckyNo))                0\n",
              "NumberId                                        0\n",
              "Length: 217, dtype: int64"
            ]
          },
          "metadata": {
            "tags": []
          },
          "execution_count": 17
        }
      ]
    },
    {
      "cell_type": "code",
      "metadata": {
        "id": "ifvYMCzTGY6X"
      },
      "source": [
        "# data.info(max_cols=500, null_counts=True)\n",
        "# data.columns.tolist()"
      ],
      "execution_count": 18,
      "outputs": []
    },
    {
      "cell_type": "code",
      "metadata": {
        "id": "hwDc-KVoGaG1"
      },
      "source": [
        "feature_matrix = data\n",
        "\n",
        "### fastai to handle missing values\n",
        "# feature_matrix = data.fillna(0)\n",
        "# feature_matrix.sort_values(by=['time', 'MAX(Results.LuckyNo)'], inplace=True)\n",
        "# feature_matrix.head(20)"
      ],
      "execution_count": 19,
      "outputs": []
    },
    {
      "cell_type": "code",
      "metadata": {
        "id": "gg7SIK0XLaDx"
      },
      "source": [
        "from sklearn.feature_selection import SelectKBest\n",
        "from sklearn.feature_selection import f_classif, chi2, f_regression\n",
        "from sklearn.model_selection import train_test_split\n",
        "from sklearn.feature_selection import VarianceThreshold\n",
        "\n",
        "# other_features = ['Label', 'NumberId', 'time', 'TotalStrike',  'month', 'year']\n",
        "# feature_matrix = feature_selection(data)\n",
        "\n",
        "def select_features(df, func=f_regression):\n",
        "  X = df.drop(columns=other_features)\n",
        "  y = df.Label\n",
        "  fs = SelectKBest(score_func=func, k=50)\n",
        "  X_selected = fs.fit_transform(X, y)\n",
        "  mask = fs.get_support()\n",
        "  return X.columns[mask]\n",
        "\n",
        "def reduce_features(df, lower_threshold=10, upper_threshold=10000):\n",
        "  cols_to_drop = []\n",
        "  for col in df.columns:\n",
        "    if df[col].nunique() > upper_threshold or df[col].nunique() < lower_threshold:\n",
        "      cols_to_drop.append(col)\n",
        "  print(cols_to_drop)\n",
        "  return cols_to_drop, df.drop(columns=cols_to_drop)\n",
        "\n",
        "def select_by_variance(df, threshold=0):\n",
        "  \"\"\"Select features by variance\"\"\"\n",
        "  filter = VarianceThreshold(threshold=threshold)\n",
        "  filter.fit(df)\n",
        "  cols_to_drop = [column for column in df.columns\n",
        "                  if column not in df.columns[filter.get_support()]]\n",
        "  print(f\"No of columns to drop - {len(cols_to_drop)}\")\n",
        "  print(cols_to_drop)\n",
        "  return cols_to_drop\n",
        "\n",
        "def select_duplicates(df):\n",
        "  df_transposed = df.head(20000).T\n",
        "  print(df_transposed.duplicated().sum())\n",
        "  unique_features = df_transposed.drop_duplicates(keep='first').T\n",
        "  print(unique_features.shape)\n",
        "  duplicated_features = [dup_col for dup_col in df.columns if dup_col not in unique_features.columns]\n",
        "  return duplicated_features\n",
        "\n",
        "def select_correlated(df):\n",
        "  correlated_features = set()\n",
        "  correlation_matrix = df.corr()\n",
        "  for i in range(len(correlation_matrix .columns)):\n",
        "    for j in range(i):\n",
        "        if abs(correlation_matrix.iloc[i, j]) > 0.8:\n",
        "            colname = correlation_matrix.columns[i]\n",
        "            correlated_features.add(colname)\n",
        "  print(len(correlated_features))\n",
        "  print(correlated_features)\n",
        "  return correlated_features\n"
      ],
      "execution_count": 20,
      "outputs": []
    },
    {
      "cell_type": "code",
      "metadata": {
        "id": "Trquu1WUfxY5",
        "outputId": "4d2f1262-59fd-4ded-9140-ef0c492c1e61",
        "colab": {
          "base_uri": "https://localhost:8080/",
          "height": 34
        }
      },
      "source": [
        "selected_features = feature_matrix.columns.to_list()\n",
        "# display(len(selected_features), selected_features)\n",
        "print(len(selected_features))"
      ],
      "execution_count": 21,
      "outputs": [
        {
          "output_type": "stream",
          "text": [
            "217\n"
          ],
          "name": "stdout"
        }
      ]
    },
    {
      "cell_type": "code",
      "metadata": {
        "id": "C387QlBkPyE5"
      },
      "source": [
        "df_selected_features = feature_matrix[selected_features]"
      ],
      "execution_count": 22,
      "outputs": []
    },
    {
      "cell_type": "code",
      "metadata": {
        "id": "idW_WF_Bcddg"
      },
      "source": [
        "# def split_data(df, dt):\n",
        "#   y_train = df.loc[df['time'] < dt, 'Label']\n",
        "#   y_validation = df.loc[df['time'] == dt, 'Label']\n",
        "# \n",
        "#   X_train = df[df['time'] < dt].drop(columns = ['NumberId', 'time', 'Label', 'TotalStrike', 'year', 'month'])\n",
        "#   X_validation = df[df['time'] == dt].drop(columns = ['NumberId', 'time', 'Label', 'TotalStrike', 'year', 'month'])\n",
        "# \n",
        "#   # Reduce by standard deviation\n",
        "#   # X_train = X_train.loc[:, X_train.std() > .0]\n",
        "#   # X_validation = X_validation[X_train.columns]\n",
        "# \n",
        "#   return X_train, X_validation, y_train, y_validation"
      ],
      "execution_count": 23,
      "outputs": []
    },
    {
      "cell_type": "code",
      "metadata": {
        "id": "3zKM2ACMPAtG"
      },
      "source": [
        "TARGET_DT = datetime(2020,1,1)\n",
        "\n",
        "# X_train, X_validation, y_train, y_validation = split_data(df_selected_features, TARGET_MONTH)\n",
        "# X_train.shape, X_validation.shape, y_train.shape, y_validation.shape"
      ],
      "execution_count": 24,
      "outputs": []
    },
    {
      "cell_type": "code",
      "metadata": {
        "id": "gKqw1dzPQwZm"
      },
      "source": [
        "# cols_to_drop = select_by_variance(X_train,0.0)\n",
        "# X_train = X_train.drop(columns=cols_to_drop)\n",
        "# X_validation = X_validation[X_train.columns]\n",
        "# X_train.shape, X_validation.shape\n",
        "# \n",
        "# cols_to_drop = select_by_variance(X_train,0.01)\n",
        "# X_train = X_train.drop(columns=cols_to_drop)\n",
        "# X_validation = X_validation[X_train.columns]\n",
        "# X_train.shape, X_validation.shape\n",
        "# \n",
        "# cols_to_drop = select_duplicates(X_train)\n",
        "# X_train = X_train.drop(columns=cols_to_drop)\n",
        "# X_validation = X_validation[X_train.columns]\n",
        "# X_train.shape, X_validation.shape\n",
        "# \n",
        "# cols_to_drop = select_correlated(X_train)\n",
        "# X_train = X_train.drop(columns=cols_to_drop)\n",
        "# X_validation = X_validation[X_train.columns]\n",
        "# X_train.shape, X_validation.shape"
      ],
      "execution_count": 25,
      "outputs": []
    },
    {
      "cell_type": "code",
      "metadata": {
        "id": "Eo0w6jFi8yRA"
      },
      "source": [
        "# CAT_FEATURES = []\n",
        "# UNIQUE_THRESHOLD = 500\n",
        "# for col in X_train.select_dtypes(include=['int64']).columns:\n",
        "#   print(f\"{col}: Index - {X_train.columns.get_loc(col)}, Unique values - {X_train[col].nunique()}\")\n",
        "#   if X_train[col].nunique() <= UNIQUE_THRESHOLD:\n",
        "#     CAT_FEATURES.append(X_train.columns.get_loc(col))\n",
        "#   \n",
        "# print(CAT_FEATURES)"
      ],
      "execution_count": 26,
      "outputs": []
    },
    {
      "cell_type": "code",
      "metadata": {
        "id": "StdaxjZ-Omwi",
        "outputId": "0a65635c-b009-49e7-fedb-66868ab04cee",
        "colab": {
          "base_uri": "https://localhost:8080/",
          "height": 204
        }
      },
      "source": [
        "df_selected_features.columns"
      ],
      "execution_count": 27,
      "outputs": [
        {
          "output_type": "execute_result",
          "data": {
            "text/plain": [
              "Index(['NumberId', 'time', 'STD(Results.DrawNo)', 'STD(Results.TotalStrike)',\n",
              "       'STD(Results.LuckyNo)', 'MAX(Results.DrawNo)',\n",
              "       'MAX(Results.TotalStrike)', 'MAX(Results.LuckyNo)',\n",
              "       'MIN(Results.DrawNo)', 'MIN(Results.TotalStrike)',\n",
              "       ...\n",
              "       'PERCENTILE(SUM(Results.DrawNo))',\n",
              "       'PERCENTILE(TREND(Results.DrawNo, DrawDate))',\n",
              "       'PERCENTILE(LAST(Results.LuckyNo))', 'PERCENTILE(MAX(Results.LuckyNo))',\n",
              "       'TotalStrike', 'Label', 'MODE(Results.PrizeType)_Prize',\n",
              "       'LAST(Results.PrizeType)_Prize', 'month', 'year'],\n",
              "      dtype='object', length=217)"
            ]
          },
          "metadata": {
            "tags": []
          },
          "execution_count": 27
        }
      ]
    },
    {
      "cell_type": "code",
      "metadata": {
        "id": "JVeC-xVYDhPp",
        "outputId": "35cd2d5a-4884-491b-cdf6-3ed603b0d8f6",
        "colab": {
          "base_uri": "https://localhost:8080/",
          "height": 71
        }
      },
      "source": [
        "cols_to_drop = select_by_variance(df_selected_features.drop(columns=['Label', 'NumberId', 'time', 'TotalStrike',  'month', 'year']), 0.01)"
      ],
      "execution_count": 28,
      "outputs": [
        {
          "output_type": "stream",
          "text": [
            "No of columns to drop - 68\n",
            "['STD(Results.TotalStrike)', 'STD(Results.LuckyNo)', 'MAX(Results.TotalStrike)', 'MIN(Results.TotalStrike)', 'MEAN(Results.TotalStrike)', 'SKEW(Results.TotalStrike)', 'SKEW(Results.LuckyNo)', 'LAST(Results.TotalStrike)', 'TREND(Results.TotalStrike, DrawDate)', 'TREND(Results.LuckyNo, DrawDate)', 'TREND(Results.DrawNo, DrawDate)', 'NUM_UNIQUE(Results.PrizeType)', 'STD(Results.PERCENTILE(DrawNo))', 'STD(Results.PERCENTILE(TotalStrike))', 'STD(Results.CUM_MEAN(TotalStrike))', 'STD(Results.PERCENTILE(LuckyNo))', 'MAX(Results.PERCENTILE(TotalStrike))', 'MAX(Results.CUM_MEAN(TotalStrike))', 'MIN(Results.PERCENTILE(TotalStrike))', 'MIN(Results.CUM_MEAN(TotalStrike))', 'MEAN(Results.PERCENTILE(TotalStrike))', 'MEAN(Results.CUM_MEAN(TotalStrike))', 'SKEW(Results.PERCENTILE(TotalStrike))', 'SKEW(Results.CUM_MEAN(TotalStrike))', 'SKEW(Results.PERCENTILE(LuckyNo))', 'LAST(Results.PERCENTILE(TotalStrike))', 'LAST(Results.CUM_MEAN(TotalStrike))', 'TREND(Results.CUM_MEAN(LuckyNo), DrawDate)', 'TREND(Results.PERCENTILE(LuckyNo), DrawDate)', 'TREND(Results.PERCENTILE(DrawNo), DrawDate)', 'TREND(Results.CUM_MEAN(DrawNo), DrawDate)', 'TREND(Results.TIME_SINCE(DrawDate), DrawDate)', 'TREND(Results.CUM_SUM(TotalStrike), DrawDate)', 'TREND(Results.PERCENTILE(TotalStrike), DrawDate)', 'TREND(Results.TIME_SINCE_PREVIOUS(DrawDate), DrawDate)', 'TREND(Results.CUM_MEAN(TotalStrike), DrawDate)', 'CUM_SUM(SKEW(Results.LuckyNo))', 'CUM_SUM(STD(Results.LuckyNo))', 'CUM_SUM(TREND(Results.TotalStrike, DrawDate))', 'CUM_SUM(TREND(Results.LuckyNo, DrawDate))', 'CUM_SUM(STD(Results.TotalStrike))', 'CUM_SUM(SKEW(Results.TotalStrike))', 'CUM_MEAN(SKEW(Results.LuckyNo))', 'CUM_MEAN(STD(Results.LuckyNo))', 'CUM_MEAN(MAX(Results.TotalStrike))', 'CUM_MEAN(TREND(Results.TotalStrike, DrawDate))', 'CUM_MEAN(MEAN(Results.TotalStrike))', 'CUM_MEAN(MIN(Results.TotalStrike))', 'CUM_MEAN(NUM_UNIQUE(Results.PrizeType))', 'CUM_MEAN(LAST(Results.TotalStrike))', 'CUM_MEAN(SKEW(Results.DrawNo))', 'CUM_MEAN(TREND(Results.LuckyNo, DrawDate))', 'CUM_MEAN(STD(Results.TotalStrike))', 'CUM_MEAN(SKEW(Results.TotalStrike))', 'CUM_MEAN(TREND(Results.DrawNo, DrawDate))', 'PERCENTILE(SKEW(Results.LuckyNo))', 'PERCENTILE(STD(Results.LuckyNo))', 'PERCENTILE(MAX(Results.TotalStrike))', 'PERCENTILE(TREND(Results.TotalStrike, DrawDate))', 'PERCENTILE(MEAN(Results.TotalStrike))', 'PERCENTILE(MIN(Results.TotalStrike))', 'PERCENTILE(NUM_UNIQUE(Results.PrizeType))', 'PERCENTILE(LAST(Results.TotalStrike))', 'PERCENTILE(TREND(Results.LuckyNo, DrawDate))', 'PERCENTILE(STD(Results.TotalStrike))', 'PERCENTILE(SKEW(Results.TotalStrike))', 'MODE(Results.PrizeType)_Prize', 'LAST(Results.PrizeType)_Prize']\n"
          ],
          "name": "stdout"
        }
      ]
    },
    {
      "cell_type": "code",
      "metadata": {
        "id": "RlHYwaMNsLgU",
        "outputId": "1092de98-5376-494c-cc8f-85808ebb602c",
        "colab": {
          "base_uri": "https://localhost:8080/",
          "height": 54
        }
      },
      "source": [
        "# Prepare the data\n",
        "# unused_features = ['NumberId', 'time', 'TotalStrike',  'month', 'year']\n",
        "unused_features = ['time', 'TotalStrike'] + cols_to_drop\n",
        "print(\"Columns to drop \", unused_features)\n",
        "df = df_selected_features.drop(columns=unused_features)"
      ],
      "execution_count": 29,
      "outputs": [
        {
          "output_type": "stream",
          "text": [
            "Columns to drop  ['time', 'TotalStrike', 'STD(Results.TotalStrike)', 'STD(Results.LuckyNo)', 'MAX(Results.TotalStrike)', 'MIN(Results.TotalStrike)', 'MEAN(Results.TotalStrike)', 'SKEW(Results.TotalStrike)', 'SKEW(Results.LuckyNo)', 'LAST(Results.TotalStrike)', 'TREND(Results.TotalStrike, DrawDate)', 'TREND(Results.LuckyNo, DrawDate)', 'TREND(Results.DrawNo, DrawDate)', 'NUM_UNIQUE(Results.PrizeType)', 'STD(Results.PERCENTILE(DrawNo))', 'STD(Results.PERCENTILE(TotalStrike))', 'STD(Results.CUM_MEAN(TotalStrike))', 'STD(Results.PERCENTILE(LuckyNo))', 'MAX(Results.PERCENTILE(TotalStrike))', 'MAX(Results.CUM_MEAN(TotalStrike))', 'MIN(Results.PERCENTILE(TotalStrike))', 'MIN(Results.CUM_MEAN(TotalStrike))', 'MEAN(Results.PERCENTILE(TotalStrike))', 'MEAN(Results.CUM_MEAN(TotalStrike))', 'SKEW(Results.PERCENTILE(TotalStrike))', 'SKEW(Results.CUM_MEAN(TotalStrike))', 'SKEW(Results.PERCENTILE(LuckyNo))', 'LAST(Results.PERCENTILE(TotalStrike))', 'LAST(Results.CUM_MEAN(TotalStrike))', 'TREND(Results.CUM_MEAN(LuckyNo), DrawDate)', 'TREND(Results.PERCENTILE(LuckyNo), DrawDate)', 'TREND(Results.PERCENTILE(DrawNo), DrawDate)', 'TREND(Results.CUM_MEAN(DrawNo), DrawDate)', 'TREND(Results.TIME_SINCE(DrawDate), DrawDate)', 'TREND(Results.CUM_SUM(TotalStrike), DrawDate)', 'TREND(Results.PERCENTILE(TotalStrike), DrawDate)', 'TREND(Results.TIME_SINCE_PREVIOUS(DrawDate), DrawDate)', 'TREND(Results.CUM_MEAN(TotalStrike), DrawDate)', 'CUM_SUM(SKEW(Results.LuckyNo))', 'CUM_SUM(STD(Results.LuckyNo))', 'CUM_SUM(TREND(Results.TotalStrike, DrawDate))', 'CUM_SUM(TREND(Results.LuckyNo, DrawDate))', 'CUM_SUM(STD(Results.TotalStrike))', 'CUM_SUM(SKEW(Results.TotalStrike))', 'CUM_MEAN(SKEW(Results.LuckyNo))', 'CUM_MEAN(STD(Results.LuckyNo))', 'CUM_MEAN(MAX(Results.TotalStrike))', 'CUM_MEAN(TREND(Results.TotalStrike, DrawDate))', 'CUM_MEAN(MEAN(Results.TotalStrike))', 'CUM_MEAN(MIN(Results.TotalStrike))', 'CUM_MEAN(NUM_UNIQUE(Results.PrizeType))', 'CUM_MEAN(LAST(Results.TotalStrike))', 'CUM_MEAN(SKEW(Results.DrawNo))', 'CUM_MEAN(TREND(Results.LuckyNo, DrawDate))', 'CUM_MEAN(STD(Results.TotalStrike))', 'CUM_MEAN(SKEW(Results.TotalStrike))', 'CUM_MEAN(TREND(Results.DrawNo, DrawDate))', 'PERCENTILE(SKEW(Results.LuckyNo))', 'PERCENTILE(STD(Results.LuckyNo))', 'PERCENTILE(MAX(Results.TotalStrike))', 'PERCENTILE(TREND(Results.TotalStrike, DrawDate))', 'PERCENTILE(MEAN(Results.TotalStrike))', 'PERCENTILE(MIN(Results.TotalStrike))', 'PERCENTILE(NUM_UNIQUE(Results.PrizeType))', 'PERCENTILE(LAST(Results.TotalStrike))', 'PERCENTILE(TREND(Results.LuckyNo, DrawDate))', 'PERCENTILE(STD(Results.TotalStrike))', 'PERCENTILE(SKEW(Results.TotalStrike))', 'MODE(Results.PrizeType)_Prize', 'LAST(Results.PrizeType)_Prize']\n"
          ],
          "name": "stdout"
        }
      ]
    },
    {
      "cell_type": "code",
      "metadata": {
        "id": "UqeCvBS4Vcv9"
      },
      "source": [
        "# Target label. No need to np.log\n",
        "dep_var = 'Label'\n",
        "\n",
        "# Train test split\n",
        "procs = [Categorify, FillMissing, Normalize]\n",
        "train_cond = (df.year < TARGET_DT.year) | (df.month < TARGET_DT.month)\n",
        "valid_cond = (df.year == TARGET_DT.year) & (df.month == TARGET_DT.month)\n",
        "train_idx = np.where(train_cond)[0]\n",
        "valid_idx = np.where(valid_cond)[0]\n",
        "splits = (list(train_idx),list(valid_idx))"
      ],
      "execution_count": 30,
      "outputs": []
    },
    {
      "cell_type": "code",
      "metadata": {
        "id": "_Hotbb4utFl_",
        "outputId": "d36ee1ff-a6d7-4994-8e5d-cca8303139b3",
        "colab": {
          "base_uri": "https://localhost:8080/",
          "height": 51
        }
      },
      "source": [
        "print(list(train_idx)[len(list(train_idx))-1])\n",
        "print(list(valid_idx)[0], list(valid_idx)[len(list(valid_idx))-1])"
      ],
      "execution_count": 31,
      "outputs": [
        {
          "output_type": "stream",
          "text": [
            "959892\n",
            "959893 969892\n"
          ],
          "name": "stdout"
        }
      ]
    },
    {
      "cell_type": "code",
      "metadata": {
        "id": "-SbyTBuRLybj"
      },
      "source": [
        "df[dep_var] = df[dep_var].astype('category')"
      ],
      "execution_count": 32,
      "outputs": []
    },
    {
      "cell_type": "code",
      "metadata": {
        "id": "O4CGlo7hut3V",
        "outputId": "651c2f72-babd-428e-b212-378b034fda7a",
        "colab": {
          "base_uri": "https://localhost:8080/",
          "height": 51
        }
      },
      "source": [
        "# Continuous and categorical variables\n",
        "cont,cat = cont_cat_split(df, max_card=9000, dep_var=dep_var)\n",
        "print(\"Continous features: \", len(cont))\n",
        "print(\"Categorical features:\", len(cat))"
      ],
      "execution_count": 33,
      "outputs": [
        {
          "output_type": "stream",
          "text": [
            "Continous features:  129\n",
            "Categorical features: 17\n"
          ],
          "name": "stdout"
        }
      ]
    },
    {
      "cell_type": "code",
      "metadata": {
        "id": "O8T4MVbLv51G",
        "outputId": "89aabd2a-7a9c-46da-b9c9-f42736bcec89",
        "colab": {
          "base_uri": "https://localhost:8080/",
          "height": 34
        }
      },
      "source": [
        "#gc.collect() # Garbage collect\n",
        "\n",
        "to = TabularPandas(df, procs=procs, cat_names=cat, cont_names=cont, y_names=dep_var, splits=splits)\n",
        "len(to.train),len(to.valid)"
      ],
      "execution_count": 34,
      "outputs": [
        {
          "output_type": "execute_result",
          "data": {
            "text/plain": [
              "(959893, 10000)"
            ]
          },
          "metadata": {
            "tags": []
          },
          "execution_count": 34
        }
      ]
    },
    {
      "cell_type": "code",
      "metadata": {
        "id": "pHMFFei0wdtU"
      },
      "source": [
        "dls = to.dataloaders(1024)"
      ],
      "execution_count": 35,
      "outputs": []
    },
    {
      "cell_type": "code",
      "metadata": {
        "id": "-FlBejyUw_Fh"
      },
      "source": [
        "#y = to.train.y\n",
        "#y.min(),y.max()\n",
        "\n",
        "del feature_matrix\n",
        "del new_data\n",
        "#del df_selected_features\n",
        "del jan_2020\n",
        "del feb_2020\n",
        "del mar_2020\n",
        "del apr_2020\n",
        "del may_2020\n",
        "del jun_2020\n",
        "del jul_2020"
      ],
      "execution_count": 36,
      "outputs": []
    },
    {
      "cell_type": "code",
      "metadata": {
        "id": "1k_mPW1FaJTz",
        "outputId": "20cf9863-81be-4c68-8ac4-8c72e206dec5",
        "colab": {
          "base_uri": "https://localhost:8080/",
          "height": 51
        }
      },
      "source": [
        "# doc(tabular_learner)\n",
        "\n",
        "# View Transformed Training/Validation Data\n",
        "# dls.xs\n",
        "\n",
        "#####################\n",
        "# Construct Weights #\n",
        "#####################\n",
        "# class_count_df = df.groupby(dep_var).count()\n",
        "#n_0, n_1 = class_count_df.iloc[0, 0], class_count_df.iloc[1, 0]\n",
        "\n",
        "n_0, n_1 = df[dep_var].value_counts()[0], df[dep_var].value_counts()[1]\n",
        "print(n_0, n_1)\n",
        "\n",
        "w_0 = (n_0 + n_1) / (2.0 * n_0)\n",
        "w_1 = (n_0 + n_1) / (2.0 * n_1)\n",
        "print(w_0, w_1)"
      ],
      "execution_count": 37,
      "outputs": [
        {
          "output_type": "stream",
          "text": [
            "996848 33045\n",
            "0.5165747435918013 15.583189589953093\n"
          ],
          "name": "stdout"
        }
      ]
    },
    {
      "cell_type": "code",
      "metadata": {
        "id": "AcFSyYjFMVtD"
      },
      "source": [
        "# Important: Convert Weights To Float Tensor\n",
        "class_weights=torch.FloatTensor([w_0, w_1]).cuda()\n",
        "\n",
        "############################\n",
        "# Model Performance Metric #\n",
        "############################\n",
        "# Instantiate RocAucBinary Score\n",
        "roc_auc = RocAucBinary() # Very important: Use the binary scoring function and not RocAuc()\n",
        "\n",
        "#################\n",
        "# Loss Function #\n",
        "#################\n",
        "loss_func = CrossEntropyLossFlat(weight=class_weights)"
      ],
      "execution_count": 38,
      "outputs": []
    },
    {
      "cell_type": "code",
      "metadata": {
        "id": "_FbyiuH7oKKQ"
      },
      "source": [
        "def calcHiddenLayer(data, alpha, numHiddenLayers):\n",
        "  tempData = data.train_ds\n",
        "  #i, o = len(tempData.x.classes), len(tempData.y.classes)\n",
        "  #io = i+o\n",
        "  io = len(tempData.classes)\n",
        "  print(io)\n",
        "  return [(len(data.train_ds)//(alpha*(io)))//numHiddenLayers]*numHiddenLayers"
      ],
      "execution_count": 62,
      "outputs": []
    },
    {
      "cell_type": "code",
      "metadata": {
        "id": "Onfh1JE2oLm-",
        "outputId": "5bc7e378-b1f6-4ffb-e7a2-6c3a2af2d80b",
        "colab": {
          "base_uri": "https://localhost:8080/",
          "height": 51
        }
      },
      "source": [
        "layers = calcHiddenLayer(dls, 3, 3)\n",
        "print(layers)"
      ],
      "execution_count": 64,
      "outputs": [
        {
          "output_type": "stream",
          "text": [
            "48\n",
            "[2221, 2221, 2221]\n"
          ],
          "name": "stdout"
        }
      ]
    },
    {
      "cell_type": "code",
      "metadata": {
        "id": "npmxMphFoL_m",
        "outputId": "a38d9b34-0114-47e8-cd77-87d074363ad7",
        "colab": {
          "base_uri": "https://localhost:8080/",
          "height": 833
        }
      },
      "source": [
        "#dls.train_ds.classes"
      ],
      "execution_count": 58,
      "outputs": [
        {
          "output_type": "execute_result",
          "data": {
            "text/plain": [
              "{'AVG_TIME_BETWEEN(Results.DrawDate)_na': (#3) ['#na#',False,True],\n",
              " 'COUNT(Results)': (#28) ['#na#',1,2,3,4,5,6,7,8,9...],\n",
              " 'CUM_MEAN(AVG_TIME_BETWEEN(Results.DrawDate))_na': (#3) ['#na#',False,True],\n",
              " 'CUM_MEAN(STD(Results.DrawNo))_na': (#3) ['#na#',False,True],\n",
              " 'CUM_SUM(AVG_TIME_BETWEEN(Results.DrawDate))_na': (#3) ['#na#',False,True],\n",
              " 'CUM_SUM(SKEW(Results.DrawNo))_na': (#3) ['#na#',False,True],\n",
              " 'CUM_SUM(STD(Results.DrawNo))_na': (#3) ['#na#',False,True],\n",
              " 'CUM_SUM(TREND(Results.DrawNo, DrawDate))_na': (#3) ['#na#',False,True],\n",
              " 'DAY(LAST(Results.DrawDate))': (#32) ['#na#',1,2,3,4,5,6,7,8,9...],\n",
              " 'DAY(first_Results_time)': (#32) ['#na#',1,2,3,4,5,6,7,8,9...],\n",
              " 'LAST(Results.DAY(DrawDate))': (#32) ['#na#',1,2,3,4,5,6,7,8,9...],\n",
              " 'LAST(Results.DrawNo)': (#3023) ['#na#',43992,46192,53093,56793,60393,67994,72494,73994,77594...],\n",
              " 'LAST(Results.MONTH(DrawDate))': (#13) ['#na#',1,2,3,4,5,6,7,8,9...],\n",
              " 'MAX(Results.DrawNo)': (#3023) ['#na#',43992,46192,53093,56793,60393,67994,72494,73994,77594...],\n",
              " 'MIN(Results.DrawNo)': (#1597) ['#na#',40792,40892,40992,41092,41192,41292,41392,41492,41592...],\n",
              " 'MODE(Results.DAY(DrawDate))': (#32) ['#na#',1,2,3,4,5,6,7,8,9...],\n",
              " 'MODE(Results.MONTH(DrawDate))': (#13) ['#na#',1,2,3,4,5,6,7,8,9...],\n",
              " 'MONTH(LAST(Results.DrawDate))': (#13) ['#na#',1,2,3,4,5,6,7,8,9...],\n",
              " 'MONTH(first_Results_time)': (#13) ['#na#',1,2,3,4,5,6,7,8,9...],\n",
              " 'NUM_UNIQUE(Results.DAY(DrawDate))': (#21) ['#na#',1,2,3,4,5,6,7,8,9...],\n",
              " 'NUM_UNIQUE(Results.MONTH(DrawDate))': (#13) ['#na#',1,2,3,4,5,6,7,8,9...],\n",
              " 'PERCENTILE(AVG_TIME_BETWEEN(Results.DrawDate))_na': (#3) ['#na#',False,True],\n",
              " 'PERCENTILE(SKEW(Results.DrawNo))_na': (#3) ['#na#',False,True],\n",
              " 'PERCENTILE(STD(Results.DrawNo))_na': (#3) ['#na#',False,True],\n",
              " 'PERCENTILE(TREND(Results.DrawNo, DrawDate))_na': (#3) ['#na#',False,True],\n",
              " 'SKEW(Results.CUM_MEAN(DrawNo))_na': (#3) ['#na#',False,True],\n",
              " 'SKEW(Results.CUM_MEAN(LuckyNo))_na': (#3) ['#na#',False,True],\n",
              " 'SKEW(Results.CUM_SUM(DrawNo))_na': (#3) ['#na#',False,True],\n",
              " 'SKEW(Results.CUM_SUM(LuckyNo))_na': (#3) ['#na#',False,True],\n",
              " 'SKEW(Results.CUM_SUM(TotalStrike))_na': (#3) ['#na#',False,True],\n",
              " 'SKEW(Results.DrawNo)_na': (#3) ['#na#',False,True],\n",
              " 'SKEW(Results.PERCENTILE(DrawNo))_na': (#3) ['#na#',False,True],\n",
              " 'SKEW(Results.TIME_SINCE(DrawDate))_na': (#3) ['#na#',False,True],\n",
              " 'SKEW(Results.TIME_SINCE_PREVIOUS(DrawDate))_na': (#3) ['#na#',False,True],\n",
              " 'STD(Results.CUM_MEAN(DrawNo))_na': (#3) ['#na#',False,True],\n",
              " 'STD(Results.CUM_MEAN(LuckyNo))_na': (#3) ['#na#',False,True],\n",
              " 'STD(Results.CUM_SUM(DrawNo))_na': (#3) ['#na#',False,True],\n",
              " 'STD(Results.CUM_SUM(LuckyNo))_na': (#3) ['#na#',False,True],\n",
              " 'STD(Results.CUM_SUM(TotalStrike))_na': (#3) ['#na#',False,True],\n",
              " 'STD(Results.DrawNo)_na': (#3) ['#na#',False,True],\n",
              " 'STD(Results.TIME_SINCE(DrawDate))_na': (#3) ['#na#',False,True],\n",
              " 'STD(Results.TIME_SINCE_PREVIOUS(DrawDate))_na': (#3) ['#na#',False,True],\n",
              " 'SUM(Results.TotalStrike)': (#28) ['#na#',1,2,3,4,5,6,7,8,9...],\n",
              " 'TIME_SINCE_PREVIOUS(first_Results_time)_na': (#3) ['#na#',False,True],\n",
              " 'TREND(Results.CUM_SUM(DrawNo), DrawDate)_na': (#3) ['#na#',False,True],\n",
              " 'TREND(Results.CUM_SUM(LuckyNo), DrawDate)_na': (#3) ['#na#',False,True],\n",
              " 'month': (#13) ['#na#',1,2,3,4,5,6,7,8,9...],\n",
              " 'year': (#9) ['#na#',2012,2013,2014,2015,2016,2017,2018,2019]}"
            ]
          },
          "metadata": {
            "tags": []
          },
          "execution_count": 58
        }
      ]
    },
    {
      "cell_type": "code",
      "metadata": {
        "id": "_1SDZrO7yJZH",
        "outputId": "47d10595-af33-4251-dddb-a171762f96a3",
        "colab": {
          "base_uri": "https://localhost:8080/",
          "height": 1000
        }
      },
      "source": [
        "#learn = tabular_learner(dls, y_range=(0,1), layers=[500,250], metrics=[accuracy], loss_func=F.binary_cross_entropy)\n",
        "#learn = tabular_learner(dls, loss_func=loss_func, metrics=roc_auc)\n",
        "config = tabular_config(ps=[0.001,0.01, 0.1], embed_p=0.04)\n",
        "learn = tabular_learner(dls, layers=[1000, 500,250], loss_func=loss_func, metrics=roc_auc, config=config)\n",
        "learn.model"
      ],
      "execution_count": 41,
      "outputs": [
        {
          "output_type": "execute_result",
          "data": {
            "text/plain": [
              "TabularModel(\n",
              "  (embeds): ModuleList(\n",
              "    (0): Embedding(3023, 142)\n",
              "    (1): Embedding(1597, 100)\n",
              "    (2): Embedding(3023, 142)\n",
              "    (3): Embedding(28, 10)\n",
              "    (4): Embedding(28, 10)\n",
              "    (5): Embedding(13, 7)\n",
              "    (6): Embedding(32, 11)\n",
              "    (7): Embedding(13, 7)\n",
              "    (8): Embedding(32, 11)\n",
              "    (9): Embedding(32, 11)\n",
              "    (10): Embedding(13, 7)\n",
              "    (11): Embedding(13, 7)\n",
              "    (12): Embedding(21, 9)\n",
              "    (13): Embedding(13, 7)\n",
              "    (14): Embedding(32, 11)\n",
              "    (15): Embedding(13, 7)\n",
              "    (16): Embedding(9, 5)\n",
              "    (17): Embedding(3, 3)\n",
              "    (18): Embedding(3, 3)\n",
              "    (19): Embedding(3, 3)\n",
              "    (20): Embedding(3, 3)\n",
              "    (21): Embedding(3, 3)\n",
              "    (22): Embedding(3, 3)\n",
              "    (23): Embedding(3, 3)\n",
              "    (24): Embedding(3, 3)\n",
              "    (25): Embedding(3, 3)\n",
              "    (26): Embedding(3, 3)\n",
              "    (27): Embedding(3, 3)\n",
              "    (28): Embedding(3, 3)\n",
              "    (29): Embedding(3, 3)\n",
              "    (30): Embedding(3, 3)\n",
              "    (31): Embedding(3, 3)\n",
              "    (32): Embedding(3, 3)\n",
              "    (33): Embedding(3, 3)\n",
              "    (34): Embedding(3, 3)\n",
              "    (35): Embedding(3, 3)\n",
              "    (36): Embedding(3, 3)\n",
              "    (37): Embedding(3, 3)\n",
              "    (38): Embedding(3, 3)\n",
              "    (39): Embedding(3, 3)\n",
              "    (40): Embedding(3, 3)\n",
              "    (41): Embedding(3, 3)\n",
              "    (42): Embedding(3, 3)\n",
              "    (43): Embedding(3, 3)\n",
              "    (44): Embedding(3, 3)\n",
              "    (45): Embedding(3, 3)\n",
              "    (46): Embedding(3, 3)\n",
              "    (47): Embedding(3, 3)\n",
              "  )\n",
              "  (emb_drop): Dropout(p=0.04, inplace=False)\n",
              "  (bn_cont): BatchNorm1d(129, eps=1e-05, momentum=0.1, affine=True, track_running_stats=True)\n",
              "  (layers): Sequential(\n",
              "    (0): LinBnDrop(\n",
              "      (0): BatchNorm1d(726, eps=1e-05, momentum=0.1, affine=True, track_running_stats=True)\n",
              "      (1): Dropout(p=0.001, inplace=False)\n",
              "      (2): Linear(in_features=726, out_features=1000, bias=False)\n",
              "      (3): ReLU(inplace=True)\n",
              "    )\n",
              "    (1): LinBnDrop(\n",
              "      (0): BatchNorm1d(1000, eps=1e-05, momentum=0.1, affine=True, track_running_stats=True)\n",
              "      (1): Dropout(p=0.01, inplace=False)\n",
              "      (2): Linear(in_features=1000, out_features=500, bias=False)\n",
              "      (3): ReLU(inplace=True)\n",
              "    )\n",
              "    (2): LinBnDrop(\n",
              "      (0): BatchNorm1d(500, eps=1e-05, momentum=0.1, affine=True, track_running_stats=True)\n",
              "      (1): Dropout(p=0.1, inplace=False)\n",
              "      (2): Linear(in_features=500, out_features=250, bias=False)\n",
              "      (3): ReLU(inplace=True)\n",
              "    )\n",
              "    (3): LinBnDrop(\n",
              "      (0): Linear(in_features=250, out_features=2, bias=True)\n",
              "    )\n",
              "  )\n",
              ")"
            ]
          },
          "metadata": {
            "tags": []
          },
          "execution_count": 41
        }
      ]
    },
    {
      "cell_type": "code",
      "metadata": {
        "id": "JfGUl8C8kO9Q",
        "outputId": "f02b2f30-0893-4add-a940-f2029cdcdbba",
        "colab": {
          "base_uri": "https://localhost:8080/",
          "height": 300
        }
      },
      "source": [
        "learn.lr_find()"
      ],
      "execution_count": 42,
      "outputs": [
        {
          "output_type": "display_data",
          "data": {
            "text/html": [
              ""
            ],
            "text/plain": [
              "<IPython.core.display.HTML object>"
            ]
          },
          "metadata": {
            "tags": []
          }
        },
        {
          "output_type": "execute_result",
          "data": {
            "text/plain": [
              "SuggestedLRs(lr_min=7.585775892948732e-06, lr_steep=0.12022644281387329)"
            ]
          },
          "metadata": {
            "tags": []
          },
          "execution_count": 42
        },
        {
          "output_type": "display_data",
          "data": {
            "image/png": "[encoded data removed]",
            "text/plain": [
              "<Figure size 432x288 with 1 Axes>"
            ]
          },
          "metadata": {
            "tags": [],
            "needs_background": "light"
          }
        }
      ]
    },
    {
      "cell_type": "code",
      "metadata": {
        "id": "bvmfNXplzyrl",
        "outputId": "e20c2f32-f111-4ae8-99d6-e7d59d430199",
        "colab": {
          "base_uri": "https://localhost:8080/",
          "height": 178
        }
      },
      "source": [
        "doc(tabular_learner)"
      ],
      "execution_count": 43,
      "outputs": [
        {
          "output_type": "display_data",
          "data": {
            "text/html": [
              "<h4 id=\"tabular_learner\" class=\"doc_header\"><code>tabular_learner</code><a href=\"https://github.com/fastai/fastai/tree/master/fastai/tabular/learner.py#L24\" class=\"source_link\" style=\"float:right\">[source]</a></h4><blockquote><p><code>tabular_learner</code>(<strong><code>dls</code></strong>, <strong><code>layers</code></strong>=<em><code>None</code></em>, <strong><code>emb_szs</code></strong>=<em><code>None</code></em>, <strong><code>config</code></strong>=<em><code>None</code></em>, <strong><code>n_out</code></strong>=<em><code>None</code></em>, <strong><code>y_range</code></strong>=<em><code>None</code></em>, <strong><code>loss_func</code></strong>=<em><code>None</code></em>, <strong><code>opt_func</code></strong>=<em><code>Adam</code></em>, <strong><code>lr</code></strong>=<em><code>0.001</code></em>, <strong><code>splitter</code></strong>=<em><code>trainable_params</code></em>, <strong><code>cbs</code></strong>=<em><code>None</code></em>, <strong><code>metrics</code></strong>=<em><code>None</code></em>, <strong><code>path</code></strong>=<em><code>None</code></em>, <strong><code>model_dir</code></strong>=<em><code>'models'</code></em>, <strong><code>wd</code></strong>=<em><code>None</code></em>, <strong><code>wd_bn_bias</code></strong>=<em><code>False</code></em>, <strong><code>train_bn</code></strong>=<em><code>True</code></em>, <strong><code>moms</code></strong>=<em><code>(0.95, 0.85, 0.95)</code></em>)</p>\n",
              "</blockquote>\n",
              "<p>Get a <code>Learner</code> using <code>dls</code>, with <code>metrics</code>, including a <code>TabularModel</code> created using the remaining params.</p>\n",
              "<p><a href=\"https://docs.fast.ai/tabular.learner#tabular_learner\" target=\"_blank\" rel=\"noreferrer noopener\">Show in docs</a></p>\n"
            ],
            "text/plain": [
              "<IPython.core.display.HTML object>"
            ]
          },
          "metadata": {
            "tags": []
          }
        }
      ]
    },
    {
      "cell_type": "code",
      "metadata": {
        "id": "Kh9sitEz1CLA",
        "outputId": "c89b23ac-bfcc-41fa-ec44-fbcd0d0642e7",
        "colab": {
          "base_uri": "https://localhost:8080/",
          "height": 168
        }
      },
      "source": [
        "doc(TabularPandas)"
      ],
      "execution_count": 44,
      "outputs": [
        {
          "output_type": "display_data",
          "data": {
            "text/html": [
              "<h2 id=\"TabularPandas\" class=\"doc_header\"><code>class</code> <code>TabularPandas</code><a href=\"https://github.com/fastai/fastai/tree/master/fastai/tabular/core.py#L197\" class=\"source_link\" style=\"float:right\">[source]</a></h2><blockquote><p><code>TabularPandas</code>(<strong><code>df</code></strong>, <strong><code>procs</code></strong>=<em><code>None</code></em>, <strong><code>cat_names</code></strong>=<em><code>None</code></em>, <strong><code>cont_names</code></strong>=<em><code>None</code></em>, <strong><code>y_names</code></strong>=<em><code>None</code></em>, <strong><code>y_block</code></strong>=<em><code>None</code></em>, <strong><code>splits</code></strong>=<em><code>None</code></em>, <strong><code>do_setup</code></strong>=<em><code>True</code></em>, <strong><code>device</code></strong>=<em><code>None</code></em>, <strong><code>inplace</code></strong>=<em><code>False</code></em>, <strong><code>reduce_memory</code></strong>=<em><code>True</code></em>) :: <code>Tabular</code></p>\n",
              "</blockquote>\n",
              "<p>A <code>Tabular</code> object with transforms</p>\n",
              "<p><a href=\"https://docs.fast.ai/tabular.core#TabularPandas\" target=\"_blank\" rel=\"noreferrer noopener\">Show in docs</a></p>\n"
            ],
            "text/plain": [
              "<IPython.core.display.HTML object>"
            ]
          },
          "metadata": {
            "tags": []
          }
        }
      ]
    },
    {
      "cell_type": "code",
      "metadata": {
        "id": "vlLy2B1akQ8D",
        "outputId": "2792e8c3-3511-4e8b-c2c9-e7823b46599d",
        "colab": {
          "base_uri": "https://localhost:8080/",
          "height": 979
        }
      },
      "source": [
        "learn.fit_one_cycle(30, 1e-4)"
      ],
      "execution_count": 45,
      "outputs": [
        {
          "output_type": "display_data",
          "data": {
            "text/html": [
              "<table border=\"1\" class=\"dataframe\">\n",
              "  <thead>\n",
              "    <tr style=\"text-align: left;\">\n",
              "      <th>epoch</th>\n",
              "      <th>train_loss</th>\n",
              "      <th>valid_loss</th>\n",
              "      <th>roc_auc_score</th>\n",
              "      <th>time</th>\n",
              "    </tr>\n",
              "  </thead>\n",
              "  <tbody>\n",
              "    <tr>\n",
              "      <td>0</td>\n",
              "      <td>0.699635</td>\n",
              "      <td>0.685303</td>\n",
              "      <td>0.486958</td>\n",
              "      <td>00:36</td>\n",
              "    </tr>\n",
              "    <tr>\n",
              "      <td>1</td>\n",
              "      <td>0.691938</td>\n",
              "      <td>0.677681</td>\n",
              "      <td>0.476012</td>\n",
              "      <td>00:36</td>\n",
              "    </tr>\n",
              "    <tr>\n",
              "      <td>2</td>\n",
              "      <td>0.683676</td>\n",
              "      <td>0.666420</td>\n",
              "      <td>0.469098</td>\n",
              "      <td>00:37</td>\n",
              "    </tr>\n",
              "    <tr>\n",
              "      <td>3</td>\n",
              "      <td>0.664384</td>\n",
              "      <td>0.648237</td>\n",
              "      <td>0.485095</td>\n",
              "      <td>00:37</td>\n",
              "    </tr>\n",
              "    <tr>\n",
              "      <td>4</td>\n",
              "      <td>0.647310</td>\n",
              "      <td>0.655389</td>\n",
              "      <td>0.525122</td>\n",
              "      <td>00:36</td>\n",
              "    </tr>\n",
              "    <tr>\n",
              "      <td>5</td>\n",
              "      <td>0.625673</td>\n",
              "      <td>0.539335</td>\n",
              "      <td>0.496339</td>\n",
              "      <td>00:37</td>\n",
              "    </tr>\n",
              "    <tr>\n",
              "      <td>6</td>\n",
              "      <td>0.604858</td>\n",
              "      <td>0.621820</td>\n",
              "      <td>0.496735</td>\n",
              "      <td>00:36</td>\n",
              "    </tr>\n",
              "    <tr>\n",
              "      <td>7</td>\n",
              "      <td>0.573860</td>\n",
              "      <td>0.563793</td>\n",
              "      <td>0.512581</td>\n",
              "      <td>00:38</td>\n",
              "    </tr>\n",
              "    <tr>\n",
              "      <td>8</td>\n",
              "      <td>0.540585</td>\n",
              "      <td>0.539562</td>\n",
              "      <td>0.497003</td>\n",
              "      <td>00:37</td>\n",
              "    </tr>\n",
              "    <tr>\n",
              "      <td>9</td>\n",
              "      <td>0.511196</td>\n",
              "      <td>0.542601</td>\n",
              "      <td>0.499055</td>\n",
              "      <td>00:37</td>\n",
              "    </tr>\n",
              "    <tr>\n",
              "      <td>10</td>\n",
              "      <td>0.477067</td>\n",
              "      <td>0.501083</td>\n",
              "      <td>0.514460</td>\n",
              "      <td>00:37</td>\n",
              "    </tr>\n",
              "    <tr>\n",
              "      <td>11</td>\n",
              "      <td>0.461513</td>\n",
              "      <td>0.477692</td>\n",
              "      <td>0.510332</td>\n",
              "      <td>00:37</td>\n",
              "    </tr>\n",
              "    <tr>\n",
              "      <td>12</td>\n",
              "      <td>0.423570</td>\n",
              "      <td>0.550384</td>\n",
              "      <td>0.520395</td>\n",
              "      <td>00:37</td>\n",
              "    </tr>\n",
              "    <tr>\n",
              "      <td>13</td>\n",
              "      <td>0.403965</td>\n",
              "      <td>0.480676</td>\n",
              "      <td>0.513973</td>\n",
              "      <td>00:37</td>\n",
              "    </tr>\n",
              "    <tr>\n",
              "      <td>14</td>\n",
              "      <td>0.376019</td>\n",
              "      <td>0.525865</td>\n",
              "      <td>0.494355</td>\n",
              "      <td>00:37</td>\n",
              "    </tr>\n",
              "    <tr>\n",
              "      <td>15</td>\n",
              "      <td>0.345826</td>\n",
              "      <td>0.519223</td>\n",
              "      <td>0.502087</td>\n",
              "      <td>00:37</td>\n",
              "    </tr>\n",
              "    <tr>\n",
              "      <td>16</td>\n",
              "      <td>0.321019</td>\n",
              "      <td>0.514469</td>\n",
              "      <td>0.509870</td>\n",
              "      <td>00:37</td>\n",
              "    </tr>\n",
              "    <tr>\n",
              "      <td>17</td>\n",
              "      <td>0.293092</td>\n",
              "      <td>0.501335</td>\n",
              "      <td>0.514451</td>\n",
              "      <td>00:37</td>\n",
              "    </tr>\n",
              "    <tr>\n",
              "      <td>18</td>\n",
              "      <td>0.274655</td>\n",
              "      <td>0.532676</td>\n",
              "      <td>0.505636</td>\n",
              "      <td>00:36</td>\n",
              "    </tr>\n",
              "    <tr>\n",
              "      <td>19</td>\n",
              "      <td>0.251431</td>\n",
              "      <td>0.531446</td>\n",
              "      <td>0.515768</td>\n",
              "      <td>00:37</td>\n",
              "    </tr>\n",
              "    <tr>\n",
              "      <td>20</td>\n",
              "      <td>0.238450</td>\n",
              "      <td>0.576155</td>\n",
              "      <td>0.501360</td>\n",
              "      <td>00:36</td>\n",
              "    </tr>\n",
              "    <tr>\n",
              "      <td>21</td>\n",
              "      <td>0.211650</td>\n",
              "      <td>0.586339</td>\n",
              "      <td>0.499064</td>\n",
              "      <td>00:37</td>\n",
              "    </tr>\n",
              "    <tr>\n",
              "      <td>22</td>\n",
              "      <td>0.198733</td>\n",
              "      <td>0.587958</td>\n",
              "      <td>0.511556</td>\n",
              "      <td>00:36</td>\n",
              "    </tr>\n",
              "    <tr>\n",
              "      <td>23</td>\n",
              "      <td>0.184955</td>\n",
              "      <td>0.602044</td>\n",
              "      <td>0.504532</td>\n",
              "      <td>00:37</td>\n",
              "    </tr>\n",
              "    <tr>\n",
              "      <td>24</td>\n",
              "      <td>0.169000</td>\n",
              "      <td>0.610555</td>\n",
              "      <td>0.504578</td>\n",
              "      <td>00:37</td>\n",
              "    </tr>\n",
              "    <tr>\n",
              "      <td>25</td>\n",
              "      <td>0.161179</td>\n",
              "      <td>0.626902</td>\n",
              "      <td>0.502308</td>\n",
              "      <td>00:37</td>\n",
              "    </tr>\n",
              "    <tr>\n",
              "      <td>26</td>\n",
              "      <td>0.150455</td>\n",
              "      <td>0.626103</td>\n",
              "      <td>0.505656</td>\n",
              "      <td>00:37</td>\n",
              "    </tr>\n",
              "    <tr>\n",
              "      <td>27</td>\n",
              "      <td>0.143204</td>\n",
              "      <td>0.634260</td>\n",
              "      <td>0.502677</td>\n",
              "      <td>00:37</td>\n",
              "    </tr>\n",
              "    <tr>\n",
              "      <td>28</td>\n",
              "      <td>0.147335</td>\n",
              "      <td>0.638353</td>\n",
              "      <td>0.504026</td>\n",
              "      <td>00:36</td>\n",
              "    </tr>\n",
              "    <tr>\n",
              "      <td>29</td>\n",
              "      <td>0.143896</td>\n",
              "      <td>0.640868</td>\n",
              "      <td>0.503461</td>\n",
              "      <td>00:36</td>\n",
              "    </tr>\n",
              "  </tbody>\n",
              "</table>"
            ],
            "text/plain": [
              "<IPython.core.display.HTML object>"
            ]
          },
          "metadata": {
            "tags": []
          }
        }
      ]
    },
    {
      "cell_type": "code",
      "metadata": {
        "id": "4GCZTUF0z5rs",
        "outputId": "eaea56a5-abb6-402c-edd8-245ed4066490",
        "colab": {
          "base_uri": "https://localhost:8080/",
          "height": 265
        }
      },
      "source": [
        "learn.recorder.plot_loss()"
      ],
      "execution_count": 46,
      "outputs": [
        {
          "output_type": "display_data",
          "data": {
            "image/png": "[encoded data removed]",
            "text/plain": [
              "<Figure size 432x288 with 1 Axes>"
            ]
          },
          "metadata": {
            "tags": [],
            "needs_background": "light"
          }
        }
      ]
    },
    {
      "cell_type": "code",
      "metadata": {
        "id": "vPOEVs9MQLkR",
        "outputId": "8c2d09e8-5ccf-42c3-f8a9-736b37c86972",
        "colab": {
          "base_uri": "https://localhost:8080/",
          "height": 17
        }
      },
      "source": [
        "cls = ClassificationInterpretation.from_learner(learn)"
      ],
      "execution_count": 47,
      "outputs": [
        {
          "output_type": "display_data",
          "data": {
            "text/html": [
              ""
            ],
            "text/plain": [
              "<IPython.core.display.HTML object>"
            ]
          },
          "metadata": {
            "tags": []
          }
        }
      ]
    },
    {
      "cell_type": "code",
      "metadata": {
        "id": "Dz47YSIHRGwY",
        "outputId": "51f29620-c5fa-4439-ed72-8b6506557329",
        "colab": {
          "base_uri": "https://localhost:8080/",
          "height": 311
        }
      },
      "source": [
        "cls.plot_confusion_matrix()"
      ],
      "execution_count": 48,
      "outputs": [
        {
          "output_type": "display_data",
          "data": {
            "image/png": "[encoded data removed]",
            "text/plain": [
              "<Figure size 432x288 with 1 Axes>"
            ]
          },
          "metadata": {
            "tags": [],
            "needs_background": "light"
          }
        }
      ]
    },
    {
      "cell_type": "code",
      "metadata": {
        "id": "5w1KlMbprOaY",
        "outputId": "c7c80e60-037f-48b5-e8cb-0eb5789a21a4",
        "colab": {
          "base_uri": "https://localhost:8080/",
          "height": 34
        }
      },
      "source": [
        "preds,targs = learn.get_preds()\n",
        "print(len(preds), len(targs))"
      ],
      "execution_count": 49,
      "outputs": [
        {
          "output_type": "display_data",
          "data": {
            "text/html": [
              ""
            ],
            "text/plain": [
              "<IPython.core.display.HTML object>"
            ]
          },
          "metadata": {
            "tags": []
          }
        },
        {
          "output_type": "stream",
          "text": [
            "10000 10000\n"
          ],
          "name": "stdout"
        }
      ]
    },
    {
      "cell_type": "code",
      "metadata": {
        "id": "JK-OzMNKsRpS",
        "outputId": "ecafc8ed-2664-4c41-d346-67b3c69f7b72",
        "colab": {
          "base_uri": "https://localhost:8080/",
          "height": 136
        }
      },
      "source": [
        "print(preds)"
      ],
      "execution_count": 50,
      "outputs": [
        {
          "output_type": "stream",
          "text": [
            "tensor([[0.9549, 0.0451],\n",
            "        [0.9701, 0.0299],\n",
            "        [0.9972, 0.0028],\n",
            "        ...,\n",
            "        [0.9790, 0.0210],\n",
            "        [0.9944, 0.0056],\n",
            "        [0.9742, 0.0258]])\n"
          ],
          "name": "stdout"
        }
      ]
    },
    {
      "cell_type": "code",
      "metadata": {
        "id": "Fc2IwNdpfY9Q",
        "outputId": "4d3aff55-e7f5-40f8-95a9-a8f0dad85ea5",
        "colab": {
          "base_uri": "https://localhost:8080/",
          "height": 136
        }
      },
      "source": [
        "print(targs)"
      ],
      "execution_count": 51,
      "outputs": [
        {
          "output_type": "stream",
          "text": [
            "tensor([[1],\n",
            "        [1],\n",
            "        [1],\n",
            "        ...,\n",
            "        [0],\n",
            "        [0],\n",
            "        [0]], dtype=torch.int8)\n"
          ],
          "name": "stdout"
        }
      ]
    },
    {
      "cell_type": "code",
      "metadata": {
        "id": "kgBVQOhPJljM"
      },
      "source": [
        "# https://www.kaggle.com/osmano/fast-ai-tabular-library/notebook\n",
        "# https://nbviewer.jupyter.org/github/fastai/fastbook/blob/master/09_tabular.ipynb\n",
        "# https://catboost.ai/docs/concepts/python-reference_utils_select_threshold.html\n",
        "# https://forums.fast.ai/t/some-useful-functions-for-tabular-models/44044\n",
        "# https://stackoverflow.com/questions/41864083/how-to-set-a-threshold-for-a-sklearn-classifier-based-on-roc-results/45372522\n",
        "\n",
        "# http://francescopochetti.com/plant-pathologies-fastais-wonders-in-computer-vision/\n",
        "\n",
        "# https://www.kaggle.com/dromosys/fast-ai-pytorch-train-only\n",
        "\n",
        "# https://www.kaggle.com/qitvision/a-complete-ml-pipeline-fast-ai\n",
        "# https://sgugger.github.io/the-1cycle-policy.html\n",
        "# https://colab.research.google.com/drive/1PVaRPY1XZuPLtm01V2XxIWqhLrz3_rgX#scrollTo=MgfhPo__CIc7\n",
        "    \n",
        "# https://forums.fast.ai/t/using-auc-as-metric-in-fastai/38917/19\n",
        "# https://docs.fast.ai/tabular.learner#tabular_learner\n",
        "# https://stackoverflow.com/questions/52093388/how-to-choose-optimal-threshold-for-class-probabilities\n",
        "# https://towardsdatascience.com/deep-learning-with-weighted-cross-entropy-loss-on-imbalanced-tabular-data-using-fastai-fe1c009e184c\n",
        "\n",
        "\n",
        "# https://github.com/FyzHsn/ml-classification-exploration/tree/develop\n",
        "# https://github.com/FyzHsn/ml-classification-exploration/blob/develop/fastai/fastai_model.ipynb\n",
        "# https://gist.githubusercontent.com/FyzHsn/28eb64cadea18f438487841f24a9739e/raw/b6830bf53337a7e62050da2d20c316b159cf581d/fastai_tabular_data_model.py"
      ],
      "execution_count": 52,
      "outputs": []
    },
    {
      "cell_type": "code",
      "metadata": {
        "id": "gZMotGcENre0"
      },
      "source": [
        "# doc(learn.get_preds)"
      ],
      "execution_count": 53,
      "outputs": []
    },
    {
      "cell_type": "code",
      "metadata": {
        "id": "qWxzJ5LRV4aY"
      },
      "source": [
        ""
      ],
      "execution_count": 53,
      "outputs": []
    }
  ]
}
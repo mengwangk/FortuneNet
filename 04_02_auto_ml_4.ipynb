{
  "nbformat": 4,
  "nbformat_minor": 0,
  "metadata": {
    "accelerator": "GPU",
    "colab": {
      "name": "04_02_automated_machine_learning.ipynb",
      "provenance": [],
      "include_colab_link": true
    },
    "kernelspec": {
      "display_name": "Python 3",
      "name": "python3"
    },
    "language_info": {
      "codemirror_mode": {
        "name": "ipython",
        "version": 3
      },
      "file_extension": ".py",
      "mimetype": "text/x-python",
      "name": "python",
      "nbconvert_exporter": "python",
      "pygments_lexer": "ipython3",
      "version": "3.7.2"
    }
  },
  "cells": [
    {
      "cell_type": "markdown",
      "metadata": {
        "id": "view-in-github",
        "colab_type": "text"
      },
      "source": [
        "<a href=\"https://colab.research.google.com/github/mengwangk/dl-projects/blob/master/04_02_auto_ml_4.ipynb\" target=\"_parent\"><img src=\"https://colab.research.google.com/assets/colab-badge.svg\" alt=\"Open In Colab\"/></a>"
      ]
    },
    {
      "cell_type": "markdown",
      "metadata": {
        "colab_type": "text",
        "id": "4hyoPGdjpqa_"
      },
      "source": [
        "# Automated ML"
      ]
    },
    {
      "cell_type": "code",
      "metadata": {
        "colab_type": "code",
        "id": "SLxr2k_ue8yq",
        "colab": {}
      },
      "source": [
        "COLAB = True"
      ],
      "execution_count": 0,
      "outputs": []
    },
    {
      "cell_type": "code",
      "metadata": {
        "colab_type": "code",
        "id": "oy5ww2zRfFGG",
        "outputId": "37e3ab58-438b-4319-cdd3-17503190e4c6",
        "colab": {
          "base_uri": "https://localhost:8080/",
          "height": 639
        }
      },
      "source": [
        "if COLAB:\n",
        "  !sudo apt-get install git-lfs && git lfs install\n",
        "  !rm -rf dl-projects\n",
        "  !git clone https://github.com/mengwangk/dl-projects\n",
        "  #!cd dl-projects && ls -l --block-size=M"
      ],
      "execution_count": 3,
      "outputs": [
        {
          "output_type": "stream",
          "text": [
            "Reading package lists... Done\n",
            "Building dependency tree       \n",
            "Reading state information... Done\n",
            "The following package was automatically installed and is no longer required:\n",
            "  libnvidia-common-430\n",
            "Use 'sudo apt autoremove' to remove it.\n",
            "The following NEW packages will be installed:\n",
            "  git-lfs\n",
            "0 upgraded, 1 newly installed, 0 to remove and 7 not upgraded.\n",
            "Need to get 2,129 kB of archives.\n",
            "After this operation, 7,662 kB of additional disk space will be used.\n",
            "Get:1 http://archive.ubuntu.com/ubuntu bionic/universe amd64 git-lfs amd64 2.3.4-1 [2,129 kB]\n",
            "Fetched 2,129 kB in 2s (885 kB/s)\n",
            "debconf: unable to initialize frontend: Dialog\n",
            "debconf: (No usable dialog-like program is installed, so the dialog based frontend cannot be used. at /usr/share/perl5/Debconf/FrontEnd/Dialog.pm line 76, <> line 1.)\n",
            "debconf: falling back to frontend: Readline\n",
            "debconf: unable to initialize frontend: Readline\n",
            "debconf: (This frontend requires a controlling tty.)\n",
            "debconf: falling back to frontend: Teletype\n",
            "dpkg-preconfigure: unable to re-open stdin: \n",
            "Selecting previously unselected package git-lfs.\n",
            "(Reading database ... 145674 files and directories currently installed.)\n",
            "Preparing to unpack .../git-lfs_2.3.4-1_amd64.deb ...\n",
            "Unpacking git-lfs (2.3.4-1) ...\n",
            "Setting up git-lfs (2.3.4-1) ...\n",
            "Processing triggers for man-db (2.8.3-2ubuntu0.1) ...\n",
            "Error: Failed to call git rev-parse --git-dir --show-toplevel: \"fatal: not a git repository (or any of the parent directories): .git\\n\"\n",
            "Git LFS initialized.\n",
            "Cloning into 'dl-projects'...\n",
            "remote: Enumerating objects: 91, done.\u001b[K\n",
            "remote: Counting objects: 100% (91/91), done.\u001b[K\n",
            "remote: Compressing objects: 100% (84/84), done.\u001b[K\n",
            "remote: Total 718 (delta 53), reused 15 (delta 5), pack-reused 627\u001b[K\n",
            "Receiving objects: 100% (718/718), 67.07 MiB | 10.96 MiB/s, done.\n",
            "Resolving deltas: 100% (407/407), done.\n"
          ],
          "name": "stdout"
        }
      ]
    },
    {
      "cell_type": "code",
      "metadata": {
        "colab_type": "code",
        "id": "G2xin10SfozR",
        "colab": {}
      },
      "source": [
        "if COLAB:\n",
        "  !cp dl-projects/utils* .\n",
        "  !cp dl-projects/preprocess* ."
      ],
      "execution_count": 0,
      "outputs": []
    },
    {
      "cell_type": "code",
      "metadata": {
        "colab_type": "code",
        "id": "fC2-l3JBpqbE",
        "colab": {}
      },
      "source": [
        "%reload_ext autoreload\n",
        "%autoreload 2\n",
        "\n",
        "%matplotlib inline"
      ],
      "execution_count": 0,
      "outputs": []
    },
    {
      "cell_type": "code",
      "metadata": {
        "colab_type": "code",
        "id": "TP7V_IzepqbK",
        "colab": {}
      },
      "source": [
        "import numpy as np\n",
        "import pandas as pd\n",
        "import seaborn as sns\n",
        "import matplotlib.pyplot as plt\n",
        "import scipy.stats as ss\n",
        "import math \n",
        "import matplotlib\n",
        "\n",
        "from scipy import stats\n",
        "from collections import Counter\n",
        "from pathlib import Path\n",
        "\n",
        "plt.style.use('fivethirtyeight')\n",
        "\n",
        "sns.set(style=\"ticks\")\n",
        "\n",
        "# Automated feature engineering\n",
        "import featuretools as ft\n",
        "\n",
        "# Machine learning\n",
        "from sklearn.pipeline import Pipeline\n",
        "from sklearn.preprocessing import Imputer, MinMaxScaler, StandardScaler\n",
        "from sklearn.impute import SimpleImputer\n",
        "from sklearn.metrics import precision_score, recall_score, f1_score, roc_auc_score, precision_recall_curve, roc_curve, mean_squared_error\n",
        "from sklearn.model_selection import train_test_split, cross_val_score\n",
        "from sklearn.ensemble import RandomForestClassifier\n",
        "\n",
        "from IPython.display import display\n",
        "\n",
        "from utils import *\n",
        "from preprocess import *\n",
        "\n",
        "# The Answer to the Ultimate Question of Life, the Universe, and Everything.\n",
        "np.random.seed(42)"
      ],
      "execution_count": 0,
      "outputs": []
    },
    {
      "cell_type": "code",
      "metadata": {
        "colab_type": "code",
        "id": "3bFT5CoxpqbP",
        "outputId": "4f85cff0-3038-4148-b312-04f6ae5fc09c",
        "colab": {
          "base_uri": "https://localhost:8080/",
          "height": 106
        }
      },
      "source": [
        "%aimport"
      ],
      "execution_count": 8,
      "outputs": [
        {
          "output_type": "stream",
          "text": [
            "Modules to reload:\n",
            "all-except-skipped\n",
            "\n",
            "Modules to skip:\n",
            "\n"
          ],
          "name": "stdout"
        }
      ]
    },
    {
      "cell_type": "markdown",
      "metadata": {
        "colab_type": "text",
        "id": "3E16jPVPpqbV"
      },
      "source": [
        "## Preparation"
      ]
    },
    {
      "cell_type": "code",
      "metadata": {
        "colab_type": "code",
        "id": "U421BuhtfYS7",
        "outputId": "286b5513-8c34-41f5-a11a-b9a556e86895",
        "colab": {
          "base_uri": "https://localhost:8080/",
          "height": 126
        }
      },
      "source": [
        "if COLAB:\n",
        "  from google.colab import drive\n",
        "  drive.mount('/content/gdrive')\n",
        "  GDRIVE_DATASET_FOLDER = Path('gdrive/My Drive/datasets/')"
      ],
      "execution_count": 9,
      "outputs": [
        {
          "output_type": "stream",
          "text": [
            "Go to this URL in a browser: https://accounts.google.com/o/oauth2/auth?client_id=947318989803-6bn6qk8qdgf4n4g3pfee6491hc0brc4i.apps.googleusercontent.com&redirect_uri=urn%3aietf%3awg%3aoauth%3a2.0%3aoob&response_type=code&scope=email%20https%3a%2f%2fwww.googleapis.com%2fauth%2fdocs.test%20https%3a%2f%2fwww.googleapis.com%2fauth%2fdrive%20https%3a%2f%2fwww.googleapis.com%2fauth%2fdrive.photos.readonly%20https%3a%2f%2fwww.googleapis.com%2fauth%2fpeopleapi.readonly\n",
            "\n",
            "Enter your authorization code:\n",
            "··········\n",
            "Mounted at /content/gdrive\n"
          ],
          "name": "stdout"
        }
      ]
    },
    {
      "cell_type": "code",
      "metadata": {
        "colab_type": "code",
        "id": "9IgnETKkpqbX",
        "outputId": "8e8e3809-2dfb-4abb-c804-e5f1a9012e7e",
        "colab": {
          "base_uri": "https://localhost:8080/",
          "height": 159
        }
      },
      "source": [
        "if COLAB:\n",
        "  DATASET_PATH = GDRIVE_DATASET_FOLDER\n",
        "  ORIGIN_DATASET_PATH = Path('dl-projects/datasets')\n",
        "else:\n",
        "  DATASET_PATH = Path(\"datasets\")\n",
        "  ORIGIN_DATASET_PATH = Path('datasets')\n",
        "\n",
        "DATASET = DATASET_PATH/\"feature_matrix.csv\"\n",
        "ORIGIN_DATASET = ORIGIN_DATASET_PATH/'4D.zip'\n",
        "\n",
        "if COLAB:\n",
        "  !ls -l gdrive/\"My Drive\"/datasets/ --block-size=M\n",
        "  !ls -l dl-projects/datasets --block-size=M"
      ],
      "execution_count": 10,
      "outputs": [
        {
          "output_type": "stream",
          "text": [
            "total 1151M\n",
            "-rw------- 1 root root 407M Dec 30 05:00 feature_matrix_2.csv\n",
            "-rw------- 1 root root 428M Dec 30 05:01 feature_matrix_2.pkl\n",
            "-rw------- 1 root root 141M Dec 27 08:27 feature_matrix.csv\n",
            "-rw------- 1 root root 176M Dec 27 08:28 feature_matrix.pkl\n",
            "total 1M\n",
            "-rw-r--r-- 1 root root 1M Dec 31 08:10 4D.txt\n",
            "-rw-r--r-- 1 root root 1M Dec 31 08:10 4D.zip\n"
          ],
          "name": "stdout"
        }
      ]
    },
    {
      "cell_type": "code",
      "metadata": {
        "colab_type": "code",
        "id": "urQTD6DQNutw",
        "colab": {}
      },
      "source": [
        "data = pd.read_csv(DATASET, header=0, sep=',', quotechar='\"', parse_dates=['time'])\n",
        "origin_data = format_tabular(ORIGIN_DATASET)"
      ],
      "execution_count": 0,
      "outputs": []
    },
    {
      "cell_type": "code",
      "metadata": {
        "colab_type": "code",
        "id": "4BjrERxV8WuT",
        "outputId": "446a59c1-f86a-49a3-aa1e-ab7f10d5cc6a",
        "colab": {
          "base_uri": "https://localhost:8080/",
          "height": 1000
        }
      },
      "source": [
        "data.info()"
      ],
      "execution_count": 12,
      "outputs": [
        {
          "output_type": "stream",
          "text": [
            "<class 'pandas.core.frame.DataFrame'>\n",
            "RangeIndex: 699972 entries, 0 to 699971\n",
            "Data columns (total 53 columns):\n",
            "NumberId                                   699972 non-null int64\n",
            "time                                       699972 non-null datetime64[ns]\n",
            "SUM(Results.DrawNo)                        699972 non-null int64\n",
            "SUM(Results.LuckyNo)                       699972 non-null int64\n",
            "SUM(Results.TotalStrike)                   699972 non-null int64\n",
            "STD(Results.DrawNo)                        699575 non-null float64\n",
            "STD(Results.LuckyNo)                       699575 non-null float64\n",
            "STD(Results.TotalStrike)                   699575 non-null float64\n",
            "MAX(Results.DrawNo)                        699972 non-null int64\n",
            "MAX(Results.LuckyNo)                       699972 non-null int64\n",
            "MAX(Results.TotalStrike)                   699972 non-null int64\n",
            "SKEW(Results.DrawNo)                       696365 non-null float64\n",
            "SKEW(Results.LuckyNo)                      696365 non-null float64\n",
            "SKEW(Results.TotalStrike)                  696365 non-null float64\n",
            "MIN(Results.DrawNo)                        699972 non-null int64\n",
            "MIN(Results.LuckyNo)                       699972 non-null int64\n",
            "MIN(Results.TotalStrike)                   699972 non-null int64\n",
            "MEAN(Results.DrawNo)                       699972 non-null float64\n",
            "MEAN(Results.LuckyNo)                      699972 non-null int64\n",
            "MEAN(Results.TotalStrike)                  699972 non-null int64\n",
            "COUNT(Results)                             699972 non-null int64\n",
            "NUM_UNIQUE(Results.PrizeType)              699972 non-null int64\n",
            "DAY(first_Results_time)                    699972 non-null int64\n",
            "YEAR(first_Results_time)                   699972 non-null int64\n",
            "MONTH(first_Results_time)                  699972 non-null int64\n",
            "WEEKDAY(first_Results_time)                699972 non-null int64\n",
            "TotalStrike                                699972 non-null float64\n",
            "Label                                      699972 non-null int64\n",
            "MODE(Results.PrizeType)_1stPrizeNo         699972 non-null int64\n",
            "MODE(Results.PrizeType)_2ndPrizeNo         699972 non-null int64\n",
            "MODE(Results.PrizeType)_3rdPrizeNo         699972 non-null int64\n",
            "MODE(Results.PrizeType)_ConsolationNo1     699972 non-null int64\n",
            "MODE(Results.PrizeType)_ConsolationNo10    699972 non-null int64\n",
            "MODE(Results.PrizeType)_ConsolationNo2     699972 non-null int64\n",
            "MODE(Results.PrizeType)_ConsolationNo3     699972 non-null int64\n",
            "MODE(Results.PrizeType)_ConsolationNo4     699972 non-null int64\n",
            "MODE(Results.PrizeType)_ConsolationNo5     699972 non-null int64\n",
            "MODE(Results.PrizeType)_ConsolationNo6     699972 non-null int64\n",
            "MODE(Results.PrizeType)_ConsolationNo7     699972 non-null int64\n",
            "MODE(Results.PrizeType)_ConsolationNo8     699972 non-null int64\n",
            "MODE(Results.PrizeType)_ConsolationNo9     699972 non-null int64\n",
            "MODE(Results.PrizeType)_SpecialNo1         699972 non-null int64\n",
            "MODE(Results.PrizeType)_SpecialNo10        699972 non-null int64\n",
            "MODE(Results.PrizeType)_SpecialNo2         699972 non-null int64\n",
            "MODE(Results.PrizeType)_SpecialNo3         699972 non-null int64\n",
            "MODE(Results.PrizeType)_SpecialNo4         699972 non-null int64\n",
            "MODE(Results.PrizeType)_SpecialNo5         699972 non-null int64\n",
            "MODE(Results.PrizeType)_SpecialNo6         699972 non-null int64\n",
            "MODE(Results.PrizeType)_SpecialNo7         699972 non-null int64\n",
            "MODE(Results.PrizeType)_SpecialNo8         699972 non-null int64\n",
            "MODE(Results.PrizeType)_SpecialNo9         699972 non-null int64\n",
            "month                                      699972 non-null int64\n",
            "year                                       699972 non-null int64\n",
            "dtypes: datetime64[ns](1), float64(8), int64(44)\n",
            "memory usage: 283.0 MB\n"
          ],
          "name": "stdout"
        }
      ]
    },
    {
      "cell_type": "markdown",
      "metadata": {
        "colab_type": "text",
        "id": "vOYlp-8Br61r"
      },
      "source": [
        "## Preliminary Modeling"
      ]
    },
    {
      "cell_type": "code",
      "metadata": {
        "colab_type": "code",
        "id": "JnQXyVqng5Cm",
        "colab": {}
      },
      "source": [
        "feature_matrix = data"
      ],
      "execution_count": 0,
      "outputs": []
    },
    {
      "cell_type": "code",
      "metadata": {
        "colab_type": "code",
        "id": "fa1Oc3LiiCIY",
        "outputId": "a5c6e1f9-c069-4727-a5af-4a61e2d5c238",
        "colab": {
          "base_uri": "https://localhost:8080/",
          "height": 657
        }
      },
      "source": [
        "feature_matrix.columns"
      ],
      "execution_count": 14,
      "outputs": [
        {
          "output_type": "execute_result",
          "data": {
            "text/plain": [
              "Index(['NumberId', 'time', 'SUM(Results.DrawNo)', 'SUM(Results.LuckyNo)',\n",
              "       'SUM(Results.TotalStrike)', 'STD(Results.DrawNo)',\n",
              "       'STD(Results.LuckyNo)', 'STD(Results.TotalStrike)',\n",
              "       'MAX(Results.DrawNo)', 'MAX(Results.LuckyNo)',\n",
              "       'MAX(Results.TotalStrike)', 'SKEW(Results.DrawNo)',\n",
              "       'SKEW(Results.LuckyNo)', 'SKEW(Results.TotalStrike)',\n",
              "       'MIN(Results.DrawNo)', 'MIN(Results.LuckyNo)',\n",
              "       'MIN(Results.TotalStrike)', 'MEAN(Results.DrawNo)',\n",
              "       'MEAN(Results.LuckyNo)', 'MEAN(Results.TotalStrike)', 'COUNT(Results)',\n",
              "       'NUM_UNIQUE(Results.PrizeType)', 'DAY(first_Results_time)',\n",
              "       'YEAR(first_Results_time)', 'MONTH(first_Results_time)',\n",
              "       'WEEKDAY(first_Results_time)', 'TotalStrike', 'Label',\n",
              "       'MODE(Results.PrizeType)_1stPrizeNo',\n",
              "       'MODE(Results.PrizeType)_2ndPrizeNo',\n",
              "       'MODE(Results.PrizeType)_3rdPrizeNo',\n",
              "       'MODE(Results.PrizeType)_ConsolationNo1',\n",
              "       'MODE(Results.PrizeType)_ConsolationNo10',\n",
              "       'MODE(Results.PrizeType)_ConsolationNo2',\n",
              "       'MODE(Results.PrizeType)_ConsolationNo3',\n",
              "       'MODE(Results.PrizeType)_ConsolationNo4',\n",
              "       'MODE(Results.PrizeType)_ConsolationNo5',\n",
              "       'MODE(Results.PrizeType)_ConsolationNo6',\n",
              "       'MODE(Results.PrizeType)_ConsolationNo7',\n",
              "       'MODE(Results.PrizeType)_ConsolationNo8',\n",
              "       'MODE(Results.PrizeType)_ConsolationNo9',\n",
              "       'MODE(Results.PrizeType)_SpecialNo1',\n",
              "       'MODE(Results.PrizeType)_SpecialNo10',\n",
              "       'MODE(Results.PrizeType)_SpecialNo2',\n",
              "       'MODE(Results.PrizeType)_SpecialNo3',\n",
              "       'MODE(Results.PrizeType)_SpecialNo4',\n",
              "       'MODE(Results.PrizeType)_SpecialNo5',\n",
              "       'MODE(Results.PrizeType)_SpecialNo6',\n",
              "       'MODE(Results.PrizeType)_SpecialNo7',\n",
              "       'MODE(Results.PrizeType)_SpecialNo8',\n",
              "       'MODE(Results.PrizeType)_SpecialNo9', 'month', 'year'],\n",
              "      dtype='object')"
            ]
          },
          "metadata": {
            "tags": []
          },
          "execution_count": 14
        }
      ]
    },
    {
      "cell_type": "code",
      "metadata": {
        "colab_type": "code",
        "id": "NwxxOED04A8X",
        "outputId": "6f818a6a-5a0b-4c67-d308-59770105be7f",
        "colab": {
          "base_uri": "https://localhost:8080/",
          "height": 1000
        }
      },
      "source": [
        "feature_matrix.head(4).T"
      ],
      "execution_count": 15,
      "outputs": [
        {
          "output_type": "execute_result",
          "data": {
            "text/html": [
              "<div>\n",
              "<style scoped>\n",
              "    .dataframe tbody tr th:only-of-type {\n",
              "        vertical-align: middle;\n",
              "    }\n",
              "\n",
              "    .dataframe tbody tr th {\n",
              "        vertical-align: top;\n",
              "    }\n",
              "\n",
              "    .dataframe thead th {\n",
              "        text-align: right;\n",
              "    }\n",
              "</style>\n",
              "<table border=\"1\" class=\"dataframe\">\n",
              "  <thead>\n",
              "    <tr style=\"text-align: right;\">\n",
              "      <th></th>\n",
              "      <th>0</th>\n",
              "      <th>1</th>\n",
              "      <th>2</th>\n",
              "      <th>3</th>\n",
              "    </tr>\n",
              "  </thead>\n",
              "  <tbody>\n",
              "    <tr>\n",
              "      <th>NumberId</th>\n",
              "      <td>0</td>\n",
              "      <td>1</td>\n",
              "      <td>2</td>\n",
              "      <td>3</td>\n",
              "    </tr>\n",
              "    <tr>\n",
              "      <th>time</th>\n",
              "      <td>2014-01-01 00:00:00</td>\n",
              "      <td>2014-01-01 00:00:00</td>\n",
              "      <td>2014-01-01 00:00:00</td>\n",
              "      <td>2014-01-01 00:00:00</td>\n",
              "    </tr>\n",
              "    <tr>\n",
              "      <th>SUM(Results.DrawNo)</th>\n",
              "      <td>1857929</td>\n",
              "      <td>1571202</td>\n",
              "      <td>898913</td>\n",
              "      <td>1628516</td>\n",
              "    </tr>\n",
              "    <tr>\n",
              "      <th>SUM(Results.LuckyNo)</th>\n",
              "      <td>0</td>\n",
              "      <td>9</td>\n",
              "      <td>8</td>\n",
              "      <td>24</td>\n",
              "    </tr>\n",
              "    <tr>\n",
              "      <th>SUM(Results.TotalStrike)</th>\n",
              "      <td>8</td>\n",
              "      <td>9</td>\n",
              "      <td>4</td>\n",
              "      <td>8</td>\n",
              "    </tr>\n",
              "    <tr>\n",
              "      <th>STD(Results.DrawNo)</th>\n",
              "      <td>116257</td>\n",
              "      <td>96697.5</td>\n",
              "      <td>49525.7</td>\n",
              "      <td>116135</td>\n",
              "    </tr>\n",
              "    <tr>\n",
              "      <th>STD(Results.LuckyNo)</th>\n",
              "      <td>0</td>\n",
              "      <td>0</td>\n",
              "      <td>0</td>\n",
              "      <td>0</td>\n",
              "    </tr>\n",
              "    <tr>\n",
              "      <th>STD(Results.TotalStrike)</th>\n",
              "      <td>0</td>\n",
              "      <td>0</td>\n",
              "      <td>0</td>\n",
              "      <td>0</td>\n",
              "    </tr>\n",
              "    <tr>\n",
              "      <th>MAX(Results.DrawNo)</th>\n",
              "      <td>394013</td>\n",
              "      <td>363311</td>\n",
              "      <td>265606</td>\n",
              "      <td>393913</td>\n",
              "    </tr>\n",
              "    <tr>\n",
              "      <th>MAX(Results.LuckyNo)</th>\n",
              "      <td>0</td>\n",
              "      <td>1</td>\n",
              "      <td>2</td>\n",
              "      <td>3</td>\n",
              "    </tr>\n",
              "    <tr>\n",
              "      <th>MAX(Results.TotalStrike)</th>\n",
              "      <td>1</td>\n",
              "      <td>1</td>\n",
              "      <td>1</td>\n",
              "      <td>1</td>\n",
              "    </tr>\n",
              "    <tr>\n",
              "      <th>SKEW(Results.DrawNo)</th>\n",
              "      <td>0.419098</td>\n",
              "      <td>0.722334</td>\n",
              "      <td>-1.07971</td>\n",
              "      <td>0.757804</td>\n",
              "    </tr>\n",
              "    <tr>\n",
              "      <th>SKEW(Results.LuckyNo)</th>\n",
              "      <td>0</td>\n",
              "      <td>0</td>\n",
              "      <td>0</td>\n",
              "      <td>0</td>\n",
              "    </tr>\n",
              "    <tr>\n",
              "      <th>SKEW(Results.TotalStrike)</th>\n",
              "      <td>0</td>\n",
              "      <td>0</td>\n",
              "      <td>0</td>\n",
              "      <td>0</td>\n",
              "    </tr>\n",
              "    <tr>\n",
              "      <th>MIN(Results.DrawNo)</th>\n",
              "      <td>91595</td>\n",
              "      <td>56893</td>\n",
              "      <td>157599</td>\n",
              "      <td>84395</td>\n",
              "    </tr>\n",
              "    <tr>\n",
              "      <th>MIN(Results.LuckyNo)</th>\n",
              "      <td>0</td>\n",
              "      <td>1</td>\n",
              "      <td>2</td>\n",
              "      <td>3</td>\n",
              "    </tr>\n",
              "    <tr>\n",
              "      <th>MIN(Results.TotalStrike)</th>\n",
              "      <td>1</td>\n",
              "      <td>1</td>\n",
              "      <td>1</td>\n",
              "      <td>1</td>\n",
              "    </tr>\n",
              "    <tr>\n",
              "      <th>MEAN(Results.DrawNo)</th>\n",
              "      <td>232241</td>\n",
              "      <td>174578</td>\n",
              "      <td>224728</td>\n",
              "      <td>203564</td>\n",
              "    </tr>\n",
              "    <tr>\n",
              "      <th>MEAN(Results.LuckyNo)</th>\n",
              "      <td>0</td>\n",
              "      <td>1</td>\n",
              "      <td>2</td>\n",
              "      <td>3</td>\n",
              "    </tr>\n",
              "    <tr>\n",
              "      <th>MEAN(Results.TotalStrike)</th>\n",
              "      <td>1</td>\n",
              "      <td>1</td>\n",
              "      <td>1</td>\n",
              "      <td>1</td>\n",
              "    </tr>\n",
              "    <tr>\n",
              "      <th>COUNT(Results)</th>\n",
              "      <td>8</td>\n",
              "      <td>9</td>\n",
              "      <td>4</td>\n",
              "      <td>8</td>\n",
              "    </tr>\n",
              "    <tr>\n",
              "      <th>NUM_UNIQUE(Results.PrizeType)</th>\n",
              "      <td>7</td>\n",
              "      <td>7</td>\n",
              "      <td>4</td>\n",
              "      <td>7</td>\n",
              "    </tr>\n",
              "    <tr>\n",
              "      <th>DAY(first_Results_time)</th>\n",
              "      <td>2</td>\n",
              "      <td>16</td>\n",
              "      <td>29</td>\n",
              "      <td>15</td>\n",
              "    </tr>\n",
              "    <tr>\n",
              "      <th>YEAR(first_Results_time)</th>\n",
              "      <td>1995</td>\n",
              "      <td>1993</td>\n",
              "      <td>1999</td>\n",
              "      <td>1995</td>\n",
              "    </tr>\n",
              "    <tr>\n",
              "      <th>MONTH(first_Results_time)</th>\n",
              "      <td>8</td>\n",
              "      <td>5</td>\n",
              "      <td>9</td>\n",
              "      <td>2</td>\n",
              "    </tr>\n",
              "    <tr>\n",
              "      <th>WEEKDAY(first_Results_time)</th>\n",
              "      <td>2</td>\n",
              "      <td>6</td>\n",
              "      <td>2</td>\n",
              "      <td>2</td>\n",
              "    </tr>\n",
              "    <tr>\n",
              "      <th>TotalStrike</th>\n",
              "      <td>0</td>\n",
              "      <td>0</td>\n",
              "      <td>0</td>\n",
              "      <td>0</td>\n",
              "    </tr>\n",
              "    <tr>\n",
              "      <th>Label</th>\n",
              "      <td>0</td>\n",
              "      <td>0</td>\n",
              "      <td>0</td>\n",
              "      <td>0</td>\n",
              "    </tr>\n",
              "    <tr>\n",
              "      <th>MODE(Results.PrizeType)_1stPrizeNo</th>\n",
              "      <td>0</td>\n",
              "      <td>0</td>\n",
              "      <td>0</td>\n",
              "      <td>0</td>\n",
              "    </tr>\n",
              "    <tr>\n",
              "      <th>MODE(Results.PrizeType)_2ndPrizeNo</th>\n",
              "      <td>1</td>\n",
              "      <td>0</td>\n",
              "      <td>0</td>\n",
              "      <td>0</td>\n",
              "    </tr>\n",
              "    <tr>\n",
              "      <th>MODE(Results.PrizeType)_3rdPrizeNo</th>\n",
              "      <td>0</td>\n",
              "      <td>0</td>\n",
              "      <td>0</td>\n",
              "      <td>0</td>\n",
              "    </tr>\n",
              "    <tr>\n",
              "      <th>MODE(Results.PrizeType)_ConsolationNo1</th>\n",
              "      <td>0</td>\n",
              "      <td>0</td>\n",
              "      <td>1</td>\n",
              "      <td>0</td>\n",
              "    </tr>\n",
              "    <tr>\n",
              "      <th>MODE(Results.PrizeType)_ConsolationNo10</th>\n",
              "      <td>0</td>\n",
              "      <td>0</td>\n",
              "      <td>0</td>\n",
              "      <td>0</td>\n",
              "    </tr>\n",
              "    <tr>\n",
              "      <th>MODE(Results.PrizeType)_ConsolationNo2</th>\n",
              "      <td>0</td>\n",
              "      <td>0</td>\n",
              "      <td>0</td>\n",
              "      <td>0</td>\n",
              "    </tr>\n",
              "    <tr>\n",
              "      <th>MODE(Results.PrizeType)_ConsolationNo3</th>\n",
              "      <td>0</td>\n",
              "      <td>0</td>\n",
              "      <td>0</td>\n",
              "      <td>0</td>\n",
              "    </tr>\n",
              "    <tr>\n",
              "      <th>MODE(Results.PrizeType)_ConsolationNo4</th>\n",
              "      <td>0</td>\n",
              "      <td>0</td>\n",
              "      <td>0</td>\n",
              "      <td>0</td>\n",
              "    </tr>\n",
              "    <tr>\n",
              "      <th>MODE(Results.PrizeType)_ConsolationNo5</th>\n",
              "      <td>0</td>\n",
              "      <td>1</td>\n",
              "      <td>0</td>\n",
              "      <td>0</td>\n",
              "    </tr>\n",
              "    <tr>\n",
              "      <th>MODE(Results.PrizeType)_ConsolationNo6</th>\n",
              "      <td>0</td>\n",
              "      <td>0</td>\n",
              "      <td>0</td>\n",
              "      <td>0</td>\n",
              "    </tr>\n",
              "    <tr>\n",
              "      <th>MODE(Results.PrizeType)_ConsolationNo7</th>\n",
              "      <td>0</td>\n",
              "      <td>0</td>\n",
              "      <td>0</td>\n",
              "      <td>0</td>\n",
              "    </tr>\n",
              "    <tr>\n",
              "      <th>MODE(Results.PrizeType)_ConsolationNo8</th>\n",
              "      <td>0</td>\n",
              "      <td>0</td>\n",
              "      <td>0</td>\n",
              "      <td>0</td>\n",
              "    </tr>\n",
              "    <tr>\n",
              "      <th>MODE(Results.PrizeType)_ConsolationNo9</th>\n",
              "      <td>0</td>\n",
              "      <td>0</td>\n",
              "      <td>0</td>\n",
              "      <td>0</td>\n",
              "    </tr>\n",
              "    <tr>\n",
              "      <th>MODE(Results.PrizeType)_SpecialNo1</th>\n",
              "      <td>0</td>\n",
              "      <td>0</td>\n",
              "      <td>0</td>\n",
              "      <td>0</td>\n",
              "    </tr>\n",
              "    <tr>\n",
              "      <th>MODE(Results.PrizeType)_SpecialNo10</th>\n",
              "      <td>0</td>\n",
              "      <td>0</td>\n",
              "      <td>0</td>\n",
              "      <td>0</td>\n",
              "    </tr>\n",
              "    <tr>\n",
              "      <th>MODE(Results.PrizeType)_SpecialNo2</th>\n",
              "      <td>0</td>\n",
              "      <td>0</td>\n",
              "      <td>0</td>\n",
              "      <td>0</td>\n",
              "    </tr>\n",
              "    <tr>\n",
              "      <th>MODE(Results.PrizeType)_SpecialNo3</th>\n",
              "      <td>0</td>\n",
              "      <td>0</td>\n",
              "      <td>0</td>\n",
              "      <td>0</td>\n",
              "    </tr>\n",
              "    <tr>\n",
              "      <th>MODE(Results.PrizeType)_SpecialNo4</th>\n",
              "      <td>0</td>\n",
              "      <td>0</td>\n",
              "      <td>0</td>\n",
              "      <td>0</td>\n",
              "    </tr>\n",
              "    <tr>\n",
              "      <th>MODE(Results.PrizeType)_SpecialNo5</th>\n",
              "      <td>0</td>\n",
              "      <td>0</td>\n",
              "      <td>0</td>\n",
              "      <td>0</td>\n",
              "    </tr>\n",
              "    <tr>\n",
              "      <th>MODE(Results.PrizeType)_SpecialNo6</th>\n",
              "      <td>0</td>\n",
              "      <td>0</td>\n",
              "      <td>0</td>\n",
              "      <td>1</td>\n",
              "    </tr>\n",
              "    <tr>\n",
              "      <th>MODE(Results.PrizeType)_SpecialNo7</th>\n",
              "      <td>0</td>\n",
              "      <td>0</td>\n",
              "      <td>0</td>\n",
              "      <td>0</td>\n",
              "    </tr>\n",
              "    <tr>\n",
              "      <th>MODE(Results.PrizeType)_SpecialNo8</th>\n",
              "      <td>0</td>\n",
              "      <td>0</td>\n",
              "      <td>0</td>\n",
              "      <td>0</td>\n",
              "    </tr>\n",
              "    <tr>\n",
              "      <th>MODE(Results.PrizeType)_SpecialNo9</th>\n",
              "      <td>0</td>\n",
              "      <td>0</td>\n",
              "      <td>0</td>\n",
              "      <td>0</td>\n",
              "    </tr>\n",
              "    <tr>\n",
              "      <th>month</th>\n",
              "      <td>1</td>\n",
              "      <td>1</td>\n",
              "      <td>1</td>\n",
              "      <td>1</td>\n",
              "    </tr>\n",
              "    <tr>\n",
              "      <th>year</th>\n",
              "      <td>2014</td>\n",
              "      <td>2014</td>\n",
              "      <td>2014</td>\n",
              "      <td>2014</td>\n",
              "    </tr>\n",
              "  </tbody>\n",
              "</table>\n",
              "</div>"
            ],
            "text/plain": [
              "                                                           0  ...                    3\n",
              "NumberId                                                   0  ...                    3\n",
              "time                                     2014-01-01 00:00:00  ...  2014-01-01 00:00:00\n",
              "SUM(Results.DrawNo)                                  1857929  ...              1628516\n",
              "SUM(Results.LuckyNo)                                       0  ...                   24\n",
              "SUM(Results.TotalStrike)                                   8  ...                    8\n",
              "STD(Results.DrawNo)                                   116257  ...               116135\n",
              "STD(Results.LuckyNo)                                       0  ...                    0\n",
              "STD(Results.TotalStrike)                                   0  ...                    0\n",
              "MAX(Results.DrawNo)                                   394013  ...               393913\n",
              "MAX(Results.LuckyNo)                                       0  ...                    3\n",
              "MAX(Results.TotalStrike)                                   1  ...                    1\n",
              "SKEW(Results.DrawNo)                                0.419098  ...             0.757804\n",
              "SKEW(Results.LuckyNo)                                      0  ...                    0\n",
              "SKEW(Results.TotalStrike)                                  0  ...                    0\n",
              "MIN(Results.DrawNo)                                    91595  ...                84395\n",
              "MIN(Results.LuckyNo)                                       0  ...                    3\n",
              "MIN(Results.TotalStrike)                                   1  ...                    1\n",
              "MEAN(Results.DrawNo)                                  232241  ...               203564\n",
              "MEAN(Results.LuckyNo)                                      0  ...                    3\n",
              "MEAN(Results.TotalStrike)                                  1  ...                    1\n",
              "COUNT(Results)                                             8  ...                    8\n",
              "NUM_UNIQUE(Results.PrizeType)                              7  ...                    7\n",
              "DAY(first_Results_time)                                    2  ...                   15\n",
              "YEAR(first_Results_time)                                1995  ...                 1995\n",
              "MONTH(first_Results_time)                                  8  ...                    2\n",
              "WEEKDAY(first_Results_time)                                2  ...                    2\n",
              "TotalStrike                                                0  ...                    0\n",
              "Label                                                      0  ...                    0\n",
              "MODE(Results.PrizeType)_1stPrizeNo                         0  ...                    0\n",
              "MODE(Results.PrizeType)_2ndPrizeNo                         1  ...                    0\n",
              "MODE(Results.PrizeType)_3rdPrizeNo                         0  ...                    0\n",
              "MODE(Results.PrizeType)_ConsolationNo1                     0  ...                    0\n",
              "MODE(Results.PrizeType)_ConsolationNo10                    0  ...                    0\n",
              "MODE(Results.PrizeType)_ConsolationNo2                     0  ...                    0\n",
              "MODE(Results.PrizeType)_ConsolationNo3                     0  ...                    0\n",
              "MODE(Results.PrizeType)_ConsolationNo4                     0  ...                    0\n",
              "MODE(Results.PrizeType)_ConsolationNo5                     0  ...                    0\n",
              "MODE(Results.PrizeType)_ConsolationNo6                     0  ...                    0\n",
              "MODE(Results.PrizeType)_ConsolationNo7                     0  ...                    0\n",
              "MODE(Results.PrizeType)_ConsolationNo8                     0  ...                    0\n",
              "MODE(Results.PrizeType)_ConsolationNo9                     0  ...                    0\n",
              "MODE(Results.PrizeType)_SpecialNo1                         0  ...                    0\n",
              "MODE(Results.PrizeType)_SpecialNo10                        0  ...                    0\n",
              "MODE(Results.PrizeType)_SpecialNo2                         0  ...                    0\n",
              "MODE(Results.PrizeType)_SpecialNo3                         0  ...                    0\n",
              "MODE(Results.PrizeType)_SpecialNo4                         0  ...                    0\n",
              "MODE(Results.PrizeType)_SpecialNo5                         0  ...                    0\n",
              "MODE(Results.PrizeType)_SpecialNo6                         0  ...                    1\n",
              "MODE(Results.PrizeType)_SpecialNo7                         0  ...                    0\n",
              "MODE(Results.PrizeType)_SpecialNo8                         0  ...                    0\n",
              "MODE(Results.PrizeType)_SpecialNo9                         0  ...                    0\n",
              "month                                                      1  ...                    1\n",
              "year                                                    2014  ...                 2014\n",
              "\n",
              "[53 rows x 4 columns]"
            ]
          },
          "metadata": {
            "tags": []
          },
          "execution_count": 15
        }
      ]
    },
    {
      "cell_type": "code",
      "metadata": {
        "colab_type": "code",
        "id": "YvRCAb4e5AYH",
        "outputId": "296367fb-7912-49e9-9977-714a48781d2c",
        "colab": {
          "base_uri": "https://localhost:8080/",
          "height": 352
        }
      },
      "source": [
        "origin_data[origin_data['LuckyNo']==0].head(10)"
      ],
      "execution_count": 16,
      "outputs": [
        {
          "output_type": "execute_result",
          "data": {
            "text/html": [
              "<div>\n",
              "<style scoped>\n",
              "    .dataframe tbody tr th:only-of-type {\n",
              "        vertical-align: middle;\n",
              "    }\n",
              "\n",
              "    .dataframe tbody tr th {\n",
              "        vertical-align: top;\n",
              "    }\n",
              "\n",
              "    .dataframe thead th {\n",
              "        text-align: right;\n",
              "    }\n",
              "</style>\n",
              "<table border=\"1\" class=\"dataframe\">\n",
              "  <thead>\n",
              "    <tr style=\"text-align: right;\">\n",
              "      <th></th>\n",
              "      <th>DrawNo</th>\n",
              "      <th>DrawDate</th>\n",
              "      <th>PrizeType</th>\n",
              "      <th>LuckyNo</th>\n",
              "    </tr>\n",
              "  </thead>\n",
              "  <tbody>\n",
              "    <tr>\n",
              "      <th>11686</th>\n",
              "      <td>91595</td>\n",
              "      <td>1995-08-02</td>\n",
              "      <td>3rdPrizeNo</td>\n",
              "      <td>0</td>\n",
              "    </tr>\n",
              "    <tr>\n",
              "      <th>21541</th>\n",
              "      <td>134398</td>\n",
              "      <td>1998-04-26</td>\n",
              "      <td>SpecialNo1</td>\n",
              "      <td>0</td>\n",
              "    </tr>\n",
              "    <tr>\n",
              "      <th>23100</th>\n",
              "      <td>141198</td>\n",
              "      <td>1998-10-01</td>\n",
              "      <td>ConsolationNo5</td>\n",
              "      <td>0</td>\n",
              "    </tr>\n",
              "    <tr>\n",
              "      <th>30430</th>\n",
              "      <td>173000</td>\n",
              "      <td>2000-09-09</td>\n",
              "      <td>2ndPrizeNo</td>\n",
              "      <td>0</td>\n",
              "    </tr>\n",
              "    <tr>\n",
              "      <th>48346</th>\n",
              "      <td>251005</td>\n",
              "      <td>2005-06-04</td>\n",
              "      <td>1stPrizeNo</td>\n",
              "      <td>0</td>\n",
              "    </tr>\n",
              "    <tr>\n",
              "      <th>56190</th>\n",
              "      <td>285107</td>\n",
              "      <td>2007-06-06</td>\n",
              "      <td>2ndPrizeNo</td>\n",
              "      <td>0</td>\n",
              "    </tr>\n",
              "    <tr>\n",
              "      <th>79783</th>\n",
              "      <td>387613</td>\n",
              "      <td>2013-05-04</td>\n",
              "      <td>SpecialNo6</td>\n",
              "      <td>0</td>\n",
              "    </tr>\n",
              "    <tr>\n",
              "      <th>81258</th>\n",
              "      <td>394013</td>\n",
              "      <td>2013-09-14</td>\n",
              "      <td>SpecialNo9</td>\n",
              "      <td>0</td>\n",
              "    </tr>\n",
              "    <tr>\n",
              "      <th>82908</th>\n",
              "      <td>401214</td>\n",
              "      <td>2014-02-08</td>\n",
              "      <td>SpecialNo3</td>\n",
              "      <td>0</td>\n",
              "    </tr>\n",
              "    <tr>\n",
              "      <th>85712</th>\n",
              "      <td>413414</td>\n",
              "      <td>2014-10-18</td>\n",
              "      <td>SpecialNo10</td>\n",
              "      <td>0</td>\n",
              "    </tr>\n",
              "  </tbody>\n",
              "</table>\n",
              "</div>"
            ],
            "text/plain": [
              "       DrawNo   DrawDate       PrizeType  LuckyNo\n",
              "11686   91595 1995-08-02      3rdPrizeNo        0\n",
              "21541  134398 1998-04-26      SpecialNo1        0\n",
              "23100  141198 1998-10-01  ConsolationNo5        0\n",
              "30430  173000 2000-09-09      2ndPrizeNo        0\n",
              "48346  251005 2005-06-04      1stPrizeNo        0\n",
              "56190  285107 2007-06-06      2ndPrizeNo        0\n",
              "79783  387613 2013-05-04      SpecialNo6        0\n",
              "81258  394013 2013-09-14      SpecialNo9        0\n",
              "82908  401214 2014-02-08      SpecialNo3        0\n",
              "85712  413414 2014-10-18     SpecialNo10        0"
            ]
          },
          "metadata": {
            "tags": []
          },
          "execution_count": 16
        }
      ]
    },
    {
      "cell_type": "code",
      "metadata": {
        "colab_type": "code",
        "id": "DNNrR3LvKOk1",
        "outputId": "bfbcf7cc-78a9-486a-cd7a-9f1613243706",
        "colab": {
          "base_uri": "https://localhost:8080/",
          "height": 335
        }
      },
      "source": [
        "feature_matrix.groupby('time')['COUNT(Results)'].mean().plot()\n",
        "plt.title('Average Monthly Count of Results')\n",
        "plt.ylabel('Strike Per Number')"
      ],
      "execution_count": 17,
      "outputs": [
        {
          "output_type": "execute_result",
          "data": {
            "text/plain": [
              "Text(0, 0.5, 'Strike Per Number')"
            ]
          },
          "metadata": {
            "tags": []
          },
          "execution_count": 17
        },
        {
          "output_type": "display_data",
          "data": {
            "image/png": "[encoded data removed]",
            "text/plain": [
              "<Figure size 432x288 with 1 Axes>"
            ]
          },
          "metadata": {
            "tags": []
          }
        }
      ]
    },
    {
      "cell_type": "markdown",
      "metadata": {
        "colab_type": "text",
        "id": "5G5SHX0qFVRa"
      },
      "source": [
        "## Feature Selection"
      ]
    },
    {
      "cell_type": "code",
      "metadata": {
        "colab_type": "code",
        "id": "m-rXOEmJFVCl",
        "outputId": "d706e3dd-0a2a-4f08-c71e-64176608eacc",
        "colab": {
          "base_uri": "https://localhost:8080/",
          "height": 52
        }
      },
      "source": [
        "from utils import feature_selection\n",
        "\n",
        "%load_ext autoreload\n",
        "%autoreload 2"
      ],
      "execution_count": 18,
      "outputs": [
        {
          "output_type": "stream",
          "text": [
            "The autoreload extension is already loaded. To reload it, use:\n",
            "  %reload_ext autoreload\n"
          ],
          "name": "stdout"
        }
      ]
    },
    {
      "cell_type": "code",
      "metadata": {
        "colab_type": "code",
        "id": "C_1ACaOMFUp_",
        "outputId": "2f30487d-01b1-4358-8653-4d0a662f19de",
        "colab": {
          "base_uri": "https://localhost:8080/",
          "height": 124
        }
      },
      "source": [
        "feature_matrix_selection = feature_selection(feature_matrix.drop(columns = ['time', 'NumberId']))"
      ],
      "execution_count": 19,
      "outputs": [
        {
          "output_type": "stream",
          "text": [
            "Original shape:  (699972, 51)\n",
            "0 missing columns with threshold: 90.\n",
            "7 zero variance columns.\n",
            "5 collinear columns removed with threshold: 0.95.\n",
            "Total columns removed:  12\n",
            "Shape after feature selection: (699972, 39).\n"
          ],
          "name": "stdout"
        }
      ]
    },
    {
      "cell_type": "code",
      "metadata": {
        "colab_type": "code",
        "id": "5WC-SEf3F0m4",
        "colab": {}
      },
      "source": [
        "feature_matrix_selection['time'] = feature_matrix['time']\n",
        "feature_matrix_selection['NumberId'] = feature_matrix['NumberId']\n",
        "feature_matrix_selection['Label'] = feature_matrix['Label']"
      ],
      "execution_count": 0,
      "outputs": []
    },
    {
      "cell_type": "code",
      "metadata": {
        "colab_type": "code",
        "id": "Jnj8dp5bGRdk",
        "outputId": "578b3321-88f4-44bd-de6a-433a724e7034",
        "colab": {
          "base_uri": "https://localhost:8080/",
          "height": 568
        }
      },
      "source": [
        "feature_matrix_selection.columns"
      ],
      "execution_count": 21,
      "outputs": [
        {
          "output_type": "execute_result",
          "data": {
            "text/plain": [
              "Index(['SUM(Results.DrawNo)', 'SUM(Results.LuckyNo)',\n",
              "       'SUM(Results.TotalStrike)', 'STD(Results.DrawNo)',\n",
              "       'MAX(Results.DrawNo)', 'MAX(Results.LuckyNo)', 'SKEW(Results.DrawNo)',\n",
              "       'MIN(Results.DrawNo)', 'MEAN(Results.DrawNo)',\n",
              "       'NUM_UNIQUE(Results.PrizeType)', 'DAY(first_Results_time)',\n",
              "       'MONTH(first_Results_time)', 'WEEKDAY(first_Results_time)',\n",
              "       'TotalStrike', 'MODE(Results.PrizeType)_1stPrizeNo',\n",
              "       'MODE(Results.PrizeType)_2ndPrizeNo',\n",
              "       'MODE(Results.PrizeType)_3rdPrizeNo',\n",
              "       'MODE(Results.PrizeType)_ConsolationNo1',\n",
              "       'MODE(Results.PrizeType)_ConsolationNo10',\n",
              "       'MODE(Results.PrizeType)_ConsolationNo2',\n",
              "       'MODE(Results.PrizeType)_ConsolationNo3',\n",
              "       'MODE(Results.PrizeType)_ConsolationNo4',\n",
              "       'MODE(Results.PrizeType)_ConsolationNo5',\n",
              "       'MODE(Results.PrizeType)_ConsolationNo6',\n",
              "       'MODE(Results.PrizeType)_ConsolationNo7',\n",
              "       'MODE(Results.PrizeType)_ConsolationNo8',\n",
              "       'MODE(Results.PrizeType)_ConsolationNo9',\n",
              "       'MODE(Results.PrizeType)_SpecialNo1',\n",
              "       'MODE(Results.PrizeType)_SpecialNo10',\n",
              "       'MODE(Results.PrizeType)_SpecialNo2',\n",
              "       'MODE(Results.PrizeType)_SpecialNo3',\n",
              "       'MODE(Results.PrizeType)_SpecialNo4',\n",
              "       'MODE(Results.PrizeType)_SpecialNo5',\n",
              "       'MODE(Results.PrizeType)_SpecialNo6',\n",
              "       'MODE(Results.PrizeType)_SpecialNo7',\n",
              "       'MODE(Results.PrizeType)_SpecialNo8',\n",
              "       'MODE(Results.PrizeType)_SpecialNo9', 'month', 'year', 'time',\n",
              "       'NumberId', 'Label'],\n",
              "      dtype='object')"
            ]
          },
          "metadata": {
            "tags": []
          },
          "execution_count": 21
        }
      ]
    },
    {
      "cell_type": "markdown",
      "metadata": {
        "colab_type": "text",
        "id": "vt0maK--K2cQ"
      },
      "source": [
        "## Correlations"
      ]
    },
    {
      "cell_type": "code",
      "metadata": {
        "colab_type": "code",
        "id": "_3TLGrLhK-va",
        "outputId": "45c9c204-7658-4965-bb55-e41579a4ad6e",
        "colab": {
          "base_uri": "https://localhost:8080/",
          "height": 35
        }
      },
      "source": [
        "feature_matrix_selection.shape"
      ],
      "execution_count": 22,
      "outputs": [
        {
          "output_type": "execute_result",
          "data": {
            "text/plain": [
              "(699972, 42)"
            ]
          },
          "metadata": {
            "tags": []
          },
          "execution_count": 22
        }
      ]
    },
    {
      "cell_type": "code",
      "metadata": {
        "colab_type": "code",
        "id": "bKud_Z0yK-77",
        "outputId": "e2dec0cf-f035-41a5-ec1f-8ffe290b5345",
        "colab": {
          "base_uri": "https://localhost:8080/",
          "height": 124
        }
      },
      "source": [
        "corrs = feature_matrix_selection.corr().sort_values('TotalStrike')\n",
        "corrs['TotalStrike'].head()"
      ],
      "execution_count": 23,
      "outputs": [
        {
          "output_type": "execute_result",
          "data": {
            "text/plain": [
              "MODE(Results.PrizeType)_SpecialNo8       -0.003139\n",
              "MODE(Results.PrizeType)_ConsolationNo9   -0.002791\n",
              "year                                     -0.002787\n",
              "MAX(Results.LuckyNo)                     -0.002340\n",
              "NumberId                                 -0.002340\n",
              "Name: TotalStrike, dtype: float64"
            ]
          },
          "metadata": {
            "tags": []
          },
          "execution_count": 23
        }
      ]
    },
    {
      "cell_type": "code",
      "metadata": {
        "colab_type": "code",
        "id": "fU43s9BtK_IZ",
        "outputId": "b6cf042f-9741-493d-85c3-d339fd5606d0",
        "colab": {
          "base_uri": "https://localhost:8080/",
          "height": 124
        }
      },
      "source": [
        "corrs['Label'].dropna().tail()"
      ],
      "execution_count": 25,
      "outputs": [
        {
          "output_type": "execute_result",
          "data": {
            "text/plain": [
              "MAX(Results.DrawNo)     0.003222\n",
              "MEAN(Results.DrawNo)    0.003457\n",
              "SUM(Results.DrawNo)     0.003557\n",
              "Label                   1.000000\n",
              "TotalStrike             0.991613\n",
              "Name: Label, dtype: float64"
            ]
          },
          "metadata": {
            "tags": []
          },
          "execution_count": 25
        }
      ]
    },
    {
      "cell_type": "code",
      "metadata": {
        "id": "l6nY6TTrBb3l",
        "colab_type": "code",
        "colab": {
          "base_uri": "https://localhost:8080/",
          "height": 124
        },
        "outputId": "59865272-450e-4348-ae30-58d53390d569"
      },
      "source": [
        "corrs['TotalStrike'].dropna().tail()"
      ],
      "execution_count": 26,
      "outputs": [
        {
          "output_type": "execute_result",
          "data": {
            "text/plain": [
              "MAX(Results.DrawNo)     0.003362\n",
              "MEAN(Results.DrawNo)    0.003483\n",
              "SUM(Results.DrawNo)     0.003516\n",
              "Label                   0.991613\n",
              "TotalStrike             1.000000\n",
              "Name: TotalStrike, dtype: float64"
            ]
          },
          "metadata": {
            "tags": []
          },
          "execution_count": 26
        }
      ]
    },
    {
      "cell_type": "markdown",
      "metadata": {
        "id": "9kCNyWm1BgxF",
        "colab_type": "text"
      },
      "source": [
        "## Visualization"
      ]
    },
    {
      "cell_type": "code",
      "metadata": {
        "id": "GibUAbe5Byp0",
        "colab_type": "code",
        "colab": {
          "base_uri": "https://localhost:8080/",
          "height": 959
        },
        "outputId": "018826d3-8432-4763-dccc-6ed05f0f76d1"
      },
      "source": [
        "!pip install autoviz"
      ],
      "execution_count": 28,
      "outputs": [
        {
          "output_type": "stream",
          "text": [
            "Collecting autoviz\n",
            "  Downloading https://files.pythonhosted.org/packages/36/4f/b756f0cfda8710d19baa311d367c34de3cd96f4f92efce97b2279658f22e/autoviz-0.0.67-py3-none-any.whl\n",
            "Requirement already satisfied: matplotlib in /usr/local/lib/python3.6/dist-packages (from autoviz) (3.1.2)\n",
            "Requirement already satisfied: ipython in /usr/local/lib/python3.6/dist-packages (from autoviz) (5.5.0)\n",
            "Requirement already satisfied: jupyter in /usr/local/lib/python3.6/dist-packages (from autoviz) (1.0.0)\n",
            "Requirement already satisfied: seaborn in /usr/local/lib/python3.6/dist-packages (from autoviz) (0.9.0)\n",
            "Requirement already satisfied: scikit-learn in /usr/local/lib/python3.6/dist-packages (from autoviz) (0.21.3)\n",
            "Requirement already satisfied: pandas in /usr/local/lib/python3.6/dist-packages (from autoviz) (0.25.3)\n",
            "Requirement already satisfied: kiwisolver>=1.0.1 in /usr/local/lib/python3.6/dist-packages (from matplotlib->autoviz) (1.1.0)\n",
            "Requirement already satisfied: pyparsing!=2.0.4,!=2.1.2,!=2.1.6,>=2.0.1 in /usr/local/lib/python3.6/dist-packages (from matplotlib->autoviz) (2.4.5)\n",
            "Requirement already satisfied: python-dateutil>=2.1 in /usr/local/lib/python3.6/dist-packages (from matplotlib->autoviz) (2.6.1)\n",
            "Requirement already satisfied: cycler>=0.10 in /usr/local/lib/python3.6/dist-packages (from matplotlib->autoviz) (0.10.0)\n",
            "Requirement already satisfied: numpy>=1.11 in /usr/local/lib/python3.6/dist-packages (from matplotlib->autoviz) (1.17.4)\n",
            "Requirement already satisfied: pygments in /usr/local/lib/python3.6/dist-packages (from ipython->autoviz) (2.1.3)\n",
            "Requirement already satisfied: simplegeneric>0.8 in /usr/local/lib/python3.6/dist-packages (from ipython->autoviz) (0.8.1)\n",
            "Requirement already satisfied: traitlets>=4.2 in /usr/local/lib/python3.6/dist-packages (from ipython->autoviz) (4.3.3)\n",
            "Requirement already satisfied: setuptools>=18.5 in /usr/local/lib/python3.6/dist-packages (from ipython->autoviz) (42.0.2)\n",
            "Requirement already satisfied: pickleshare in /usr/local/lib/python3.6/dist-packages (from ipython->autoviz) (0.7.5)\n",
            "Requirement already satisfied: prompt-toolkit<2.0.0,>=1.0.4 in /usr/local/lib/python3.6/dist-packages (from ipython->autoviz) (1.0.18)\n",
            "Requirement already satisfied: pexpect; sys_platform != \"win32\" in /usr/local/lib/python3.6/dist-packages (from ipython->autoviz) (4.7.0)\n",
            "Requirement already satisfied: decorator in /usr/local/lib/python3.6/dist-packages (from ipython->autoviz) (4.4.1)\n",
            "Requirement already satisfied: qtconsole in /usr/local/lib/python3.6/dist-packages (from jupyter->autoviz) (4.6.0)\n",
            "Requirement already satisfied: nbconvert in /usr/local/lib/python3.6/dist-packages (from jupyter->autoviz) (5.6.1)\n",
            "Requirement already satisfied: notebook in /usr/local/lib/python3.6/dist-packages (from jupyter->autoviz) (5.2.2)\n",
            "Requirement already satisfied: jupyter-console in /usr/local/lib/python3.6/dist-packages (from jupyter->autoviz) (5.2.0)\n",
            "Requirement already satisfied: ipykernel in /usr/local/lib/python3.6/dist-packages (from jupyter->autoviz) (4.6.1)\n",
            "Requirement already satisfied: ipywidgets in /usr/local/lib/python3.6/dist-packages (from jupyter->autoviz) (7.5.1)\n",
            "Requirement already satisfied: scipy>=0.14.0 in /usr/local/lib/python3.6/dist-packages (from seaborn->autoviz) (1.3.3)\n",
            "Requirement already satisfied: joblib>=0.11 in /usr/local/lib/python3.6/dist-packages (from scikit-learn->autoviz) (0.14.1)\n",
            "Requirement already satisfied: pytz>=2017.2 in /usr/local/lib/python3.6/dist-packages (from pandas->autoviz) (2018.9)\n",
            "Requirement already satisfied: six>=1.5 in /usr/local/lib/python3.6/dist-packages (from python-dateutil>=2.1->matplotlib->autoviz) (1.12.0)\n",
            "Requirement already satisfied: ipython-genutils in /usr/local/lib/python3.6/dist-packages (from traitlets>=4.2->ipython->autoviz) (0.2.0)\n",
            "Requirement already satisfied: wcwidth in /usr/local/lib/python3.6/dist-packages (from prompt-toolkit<2.0.0,>=1.0.4->ipython->autoviz) (0.1.7)\n",
            "Requirement already satisfied: ptyprocess>=0.5 in /usr/local/lib/python3.6/dist-packages (from pexpect; sys_platform != \"win32\"->ipython->autoviz) (0.6.0)\n",
            "Requirement already satisfied: jupyter-core in /usr/local/lib/python3.6/dist-packages (from qtconsole->jupyter->autoviz) (4.6.1)\n",
            "Requirement already satisfied: jupyter-client>=4.1 in /usr/local/lib/python3.6/dist-packages (from qtconsole->jupyter->autoviz) (5.3.4)\n",
            "Requirement already satisfied: bleach in /usr/local/lib/python3.6/dist-packages (from nbconvert->jupyter->autoviz) (3.1.0)\n",
            "Requirement already satisfied: mistune<2,>=0.8.1 in /usr/local/lib/python3.6/dist-packages (from nbconvert->jupyter->autoviz) (0.8.4)\n",
            "Requirement already satisfied: jinja2>=2.4 in /usr/local/lib/python3.6/dist-packages (from nbconvert->jupyter->autoviz) (2.10.3)\n",
            "Requirement already satisfied: pandocfilters>=1.4.1 in /usr/local/lib/python3.6/dist-packages (from nbconvert->jupyter->autoviz) (1.4.2)\n",
            "Requirement already satisfied: nbformat>=4.4 in /usr/local/lib/python3.6/dist-packages (from nbconvert->jupyter->autoviz) (4.4.0)\n",
            "Requirement already satisfied: testpath in /usr/local/lib/python3.6/dist-packages (from nbconvert->jupyter->autoviz) (0.4.4)\n",
            "Requirement already satisfied: entrypoints>=0.2.2 in /usr/local/lib/python3.6/dist-packages (from nbconvert->jupyter->autoviz) (0.3)\n",
            "Requirement already satisfied: defusedxml in /usr/local/lib/python3.6/dist-packages (from nbconvert->jupyter->autoviz) (0.6.0)\n",
            "Requirement already satisfied: terminado>=0.3.3; sys_platform != \"win32\" in /usr/local/lib/python3.6/dist-packages (from notebook->jupyter->autoviz) (0.8.3)\n",
            "Requirement already satisfied: tornado>=4 in /usr/local/lib/python3.6/dist-packages (from notebook->jupyter->autoviz) (4.5.3)\n",
            "Requirement already satisfied: widgetsnbextension~=3.5.0 in /usr/local/lib/python3.6/dist-packages (from ipywidgets->jupyter->autoviz) (3.5.1)\n",
            "Requirement already satisfied: pyzmq>=13 in /usr/local/lib/python3.6/dist-packages (from jupyter-client>=4.1->qtconsole->jupyter->autoviz) (17.0.0)\n",
            "Requirement already satisfied: webencodings in /usr/local/lib/python3.6/dist-packages (from bleach->nbconvert->jupyter->autoviz) (0.5.1)\n",
            "Requirement already satisfied: MarkupSafe>=0.23 in /usr/local/lib/python3.6/dist-packages (from jinja2>=2.4->nbconvert->jupyter->autoviz) (1.1.1)\n",
            "Requirement already satisfied: jsonschema!=2.5.0,>=2.4 in /usr/local/lib/python3.6/dist-packages (from nbformat>=4.4->nbconvert->jupyter->autoviz) (2.6.0)\n",
            "Installing collected packages: autoviz\n",
            "Successfully installed autoviz-0.0.67\n"
          ],
          "name": "stdout"
        }
      ]
    },
    {
      "cell_type": "code",
      "metadata": {
        "id": "5FL2-Eb1Bm9p",
        "colab_type": "code",
        "colab": {
          "base_uri": "https://localhost:8080/",
          "height": 141
        },
        "outputId": "ff327619-6e31-4583-97af-b21ba95bb266"
      },
      "source": [
        "from autoviz.AutoViz_Class import AutoViz_Class"
      ],
      "execution_count": 29,
      "outputs": [
        {
          "output_type": "stream",
          "text": [
            "Imported AutoViz_Class version: 0.0.67. Call using: \n",
            "    from autoviz.AutoViz_Class import AutoViz_Class\n",
            "    AV = AutoViz_Class()\n",
            "    AutoViz(filename, sep=',', depVar='', dfte=None, header=0, verbose=0,\n",
            "                            lowess=False,chart_format='svg',max_rows_analyzed=150000,max_cols_analyzed=30)\n",
            "            \n",
            "To remove previous versions, perform 'pip uninstall autoviz'\n"
          ],
          "name": "stdout"
        }
      ]
    },
    {
      "cell_type": "code",
      "metadata": {
        "id": "-gjKZRW5BnHv",
        "colab_type": "code",
        "colab": {}
      },
      "source": [
        ""
      ],
      "execution_count": 0,
      "outputs": []
    },
    {
      "cell_type": "code",
      "metadata": {
        "id": "ZcyIfTPDB6xl",
        "colab_type": "code",
        "colab": {}
      },
      "source": [
        ""
      ],
      "execution_count": 0,
      "outputs": []
    },
    {
      "cell_type": "code",
      "metadata": {
        "id": "Xr67ZC4pB6_a",
        "colab_type": "code",
        "colab": {}
      },
      "source": [
        ""
      ],
      "execution_count": 0,
      "outputs": []
    },
    {
      "cell_type": "code",
      "metadata": {
        "id": "QM1BA7eXB7JZ",
        "colab_type": "code",
        "colab": {}
      },
      "source": [
        ""
      ],
      "execution_count": 0,
      "outputs": []
    },
    {
      "cell_type": "markdown",
      "metadata": {
        "colab_type": "text",
        "id": "hTJQWmXAsCVo"
      },
      "source": [
        "### XgBoost"
      ]
    },
    {
      "cell_type": "code",
      "metadata": {
        "id": "lrgkK2hyARmn",
        "colab_type": "code",
        "colab": {}
      },
      "source": [
        "import xgboost as xgb"
      ],
      "execution_count": 0,
      "outputs": []
    },
    {
      "cell_type": "code",
      "metadata": {
        "colab_type": "code",
        "id": "JuiMZl9rsMk1",
        "colab": {}
      },
      "source": [
        "model = xgb.XGBClassifier?"
      ],
      "execution_count": 0,
      "outputs": []
    },
    {
      "cell_type": "code",
      "metadata": {
        "colab_type": "code",
        "id": "DtkZVlf1sOq2",
        "colab": {}
      },
      "source": [
        "def predict_dt(dt, feature_matrix, return_probs = False):\n",
        "\n",
        "    feature_matrix['date'] = feature_matrix['time']\n",
        "\n",
        "    # Subset labels\n",
        "    test_labels = feature_matrix.loc[feature_matrix['date'] == dt, 'Label']\n",
        "    train_labels = feature_matrix.loc[feature_matrix['date'] < dt, 'Label']\n",
        "\n",
        "    print(f\"Size of test labels {len(test_labels)}\")\n",
        "    print(f\"Size of train labels {len(train_labels)}\")\n",
        "    \n",
        "    # Features\n",
        "    X_train = feature_matrix[feature_matrix['date'] < dt].drop(columns = ['NumberId', 'time',\n",
        "                                                                                     'date', 'Label', 'TotalStrike', 'month', 'year'])\n",
        "    X_test = feature_matrix[feature_matrix['date'] == dt].drop(columns = ['NumberId', 'time',\n",
        "                                                                                     'date', 'Label', 'TotalStrike', 'month', 'year'])\n",
        "    print(f\"Size of X train {len(X_train)}\")\n",
        "    print(f\"Size of X test  {len(X_test)}\")\n",
        "   \n",
        "\n",
        "    feature_names = list(X_train.columns)\n",
        "    \n",
        "    # Impute and scale features\n",
        "    pipeline = Pipeline([('imputer', SimpleImputer(strategy = 'median')), \n",
        "                      ('scaler', MinMaxScaler())])\n",
        "\n",
        "    # Fit and transform training data\n",
        "    X_train = pipeline.fit_transform(X_train)\n",
        "    X_test = pipeline.transform(X_test)\n",
        "    \n",
        "    # Labels\n",
        "    y_train = np.array(train_labels).reshape((-1, ))\n",
        "    y_test = np.array(test_labels).reshape((-1, ))\n",
        "    \n",
        "    print('Training on {} observations.'.format(len(X_train)))\n",
        "    print('Testing on {} observations.\\n'.format(len(X_test)))\n",
        "    \n",
        "    # Train \n",
        "    model.fit(X_train, y_train)\n",
        "    \n",
        "    # Make predictions\n",
        "    predictions = model.predict(X_test)\n",
        "    probs = model.predict_proba(X_test)[:, 1]\n",
        "    \n",
        "    # Calculate metrics\n",
        "    p = precision_score(y_test, predictions)\n",
        "    r = recall_score(y_test, predictions)\n",
        "    f = f1_score(y_test, predictions)\n",
        "    auc = roc_auc_score(y_test, probs)\n",
        "    \n",
        "    print(f'Precision: {round(p, 5)}')\n",
        "    print(f'Recall: {round(r, 5)}')\n",
        "    print(f'F1 Score: {round(f, 5)}')\n",
        "    print(f'ROC AUC: {round(auc, 5)}')\n",
        "    \n",
        "    # Feature importances\n",
        "    fi = pd.DataFrame({'feature': feature_names, 'importance': model.feature_importances_})\n",
        "    \n",
        "    if return_probs:\n",
        "        return fi, probs\n",
        "    \n",
        "    return fi\n",
        "    "
      ],
      "execution_count": 0,
      "outputs": []
    },
    {
      "cell_type": "code",
      "metadata": {
        "colab_type": "code",
        "id": "SwajXEsyuJOw",
        "colab": {}
      },
      "source": [
        "# All the months\n",
        "len(feature_matrix_selection['time'].unique()), feature_matrix_selection['time'].unique()"
      ],
      "execution_count": 0,
      "outputs": []
    },
    {
      "cell_type": "code",
      "metadata": {
        "colab_type": "code",
        "id": "55CRISQM9VoV",
        "colab": {}
      },
      "source": [
        "june_2019 = predict_dt(pd.datetime(2019,6,1), feature_matrix_selection)"
      ],
      "execution_count": 0,
      "outputs": []
    },
    {
      "cell_type": "code",
      "metadata": {
        "colab_type": "code",
        "id": "VG_tWy2m9sjg",
        "colab": {}
      },
      "source": [
        "from utils import plot_feature_importances\n",
        "\n",
        "norm_june_fi = plot_feature_importances(june_2019)"
      ],
      "execution_count": 0,
      "outputs": []
    },
    {
      "cell_type": "markdown",
      "metadata": {
        "colab_type": "text",
        "id": "RHO8sHSWEXp6"
      },
      "source": [
        "## Comparison to Baseline"
      ]
    },
    {
      "cell_type": "code",
      "metadata": {
        "colab_type": "code",
        "id": "XsPab_k6F7jq",
        "colab": {}
      },
      "source": [
        ""
      ],
      "execution_count": 0,
      "outputs": []
    }
  ]
}
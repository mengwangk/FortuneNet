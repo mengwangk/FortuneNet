{
 "cells": [
  {
   "cell_type": "markdown",
   "metadata": {
    "colab_type": "text",
    "id": "view-in-github"
   },
   "source": [
    "<a href=\"https://colab.research.google.com/github/mengwangk/dl-projects/blob/master/04_05_auto_ml_0.ipynb\" target=\"_parent\"><img src=\"https://colab.research.google.com/assets/colab-badge.svg\" alt=\"Open In Colab\"/></a>"
   ]
  },
  {
   "cell_type": "markdown",
   "metadata": {
    "colab_type": "text",
    "id": "4hyoPGdjpqa_"
   },
   "source": [
    "# Automated ML - Generate Data"
   ]
  },
  {
   "cell_type": "code",
   "execution_count": 1,
   "metadata": {
    "colab": {},
    "colab_type": "code",
    "id": "SLxr2k_ue8yq"
   },
   "outputs": [],
   "source": [
    "COLAB = False\n",
    "\n",
    "DATASET_NAME = '4D.zip'\n",
    "\n",
    "FEATURE_DATASET_PREFIX = 'feature_matrix_d2_v2'"
   ]
  },
  {
   "cell_type": "code",
   "execution_count": 2,
   "metadata": {
    "colab": {
     "base_uri": "https://localhost:8080/",
     "height": 1000
    },
    "colab_type": "code",
    "id": "uHQEWP-jXPzH",
    "outputId": "8d83e6a3-7c7b-44ab-f51c-1730cf63e014"
   },
   "outputs": [
    {
     "name": "stdout",
     "output_type": "stream",
     "text": [
      "Collecting featuretools\n",
      "  Using cached https://files.pythonhosted.org/packages/8a/2b/04d0c9ec0396e729fe28cc804feb1a86238650c0a1033a6993f08a098b44/featuretools-0.13.1-py3-none-any.whl\n",
      "Requirement already satisfied, skipping upgrade: scipy>=0.13.3 in /Users/mengwangk/anaconda3/lib/python3.7/site-packages (from featuretools) (1.2.1)\n",
      "Requirement already satisfied, skipping upgrade: cloudpickle>=0.4.0 in /Users/mengwangk/anaconda3/lib/python3.7/site-packages (from featuretools) (0.7.0)\n",
      "Requirement already satisfied, skipping upgrade: click>=7.0.0 in /Users/mengwangk/anaconda3/lib/python3.7/site-packages (from featuretools) (7.0)\n",
      "Requirement already satisfied, skipping upgrade: dask>=1.1.0 in /Users/mengwangk/anaconda3/lib/python3.7/site-packages (from featuretools) (1.1.1)\n",
      "Collecting pandas>=0.24.1 (from featuretools)\n",
      "  Using cached https://files.pythonhosted.org/packages/16/b5/bab3477466a4d9e705d40829ac65683155e7977acbc07f05b06fabded1be/pandas-0.25.3-cp37-cp37m-macosx_10_9_x86_64.whl\n",
      "Requirement already satisfied, skipping upgrade: numpy>=1.13.3 in /Users/mengwangk/anaconda3/lib/python3.7/site-packages (from featuretools) (1.16.2)\n",
      "Requirement already satisfied, skipping upgrade: pyyaml>=3.12 in /Users/mengwangk/anaconda3/lib/python3.7/site-packages (from featuretools) (3.13)\n",
      "Collecting tqdm>=4.32.0 (from featuretools)\n",
      "  Using cached https://files.pythonhosted.org/packages/72/c9/7fc20feac72e79032a7c8138fd0d395dc6d8812b5b9edf53c3afd0b31017/tqdm-4.41.1-py2.py3-none-any.whl\n",
      "Requirement already satisfied, skipping upgrade: psutil>=5.4.8 in /Users/mengwangk/anaconda3/lib/python3.7/site-packages (from featuretools) (5.5.0)\n",
      "Requirement already satisfied, skipping upgrade: distributed>=1.24.2 in /Users/mengwangk/anaconda3/lib/python3.7/site-packages (from featuretools) (1.25.3)\n",
      "Requirement already satisfied, skipping upgrade: python-dateutil>=2.6.1 in /Users/mengwangk/anaconda3/lib/python3.7/site-packages (from pandas>=0.24.1->featuretools) (2.7.5)\n",
      "Requirement already satisfied, skipping upgrade: pytz>=2017.2 in /Users/mengwangk/anaconda3/lib/python3.7/site-packages (from pandas>=0.24.1->featuretools) (2018.9)\n",
      "Requirement already satisfied, skipping upgrade: msgpack in /Users/mengwangk/anaconda3/lib/python3.7/site-packages (from distributed>=1.24.2->featuretools) (0.5.6)\n",
      "Requirement already satisfied, skipping upgrade: six in /Users/mengwangk/anaconda3/lib/python3.7/site-packages (from distributed>=1.24.2->featuretools) (1.12.0)\n",
      "Requirement already satisfied, skipping upgrade: sortedcontainers!=2.0.0,!=2.0.1 in /Users/mengwangk/anaconda3/lib/python3.7/site-packages (from distributed>=1.24.2->featuretools) (2.1.0)\n",
      "Requirement already satisfied, skipping upgrade: tblib in /Users/mengwangk/anaconda3/lib/python3.7/site-packages (from distributed>=1.24.2->featuretools) (1.3.2)\n",
      "Requirement already satisfied, skipping upgrade: toolz>=0.7.4 in /Users/mengwangk/anaconda3/lib/python3.7/site-packages (from distributed>=1.24.2->featuretools) (0.9.0)\n",
      "Requirement already satisfied, skipping upgrade: tornado>=4.5.1 in /Users/mengwangk/anaconda3/lib/python3.7/site-packages (from distributed>=1.24.2->featuretools) (5.1.1)\n",
      "Requirement already satisfied, skipping upgrade: zict>=0.1.3 in /Users/mengwangk/anaconda3/lib/python3.7/site-packages (from distributed>=1.24.2->featuretools) (0.1.3)\n",
      "Requirement already satisfied, skipping upgrade: heapdict in /Users/mengwangk/anaconda3/lib/python3.7/site-packages (from zict>=0.1.3->distributed>=1.24.2->featuretools) (1.0.0)\n",
      "\u001b[31mfastai 1.0.42 requires nvidia-ml-py3, which is not installed.\u001b[0m\n",
      "\u001b[31mmyinvestor-toolkit 0.1.0 requires backtrader, which is not installed.\u001b[0m\n",
      "\u001b[31mmyinvestor-toolkit 0.1.0 requires pyalgotrade, which is not installed.\u001b[0m\n",
      "\u001b[31mmyinvestor-toolkit 0.1.0 requires yahoofinancials, which is not installed.\u001b[0m\n",
      "\u001b[31mspacy 2.0.12 has requirement regex==2017.4.5, but you'll have regex 2018.7.11 which is incompatible.\u001b[0m\n",
      "\u001b[31mfastai 1.0.42 has requirement spacy>=2.0.18, but you'll have spacy 2.0.12 which is incompatible.\u001b[0m\n",
      "Installing collected packages: pandas, tqdm, featuretools\n",
      "  Found existing installation: pandas 0.23.4\n",
      "    Uninstalling pandas-0.23.4:\n",
      "      Successfully uninstalled pandas-0.23.4\n",
      "  Found existing installation: tqdm 4.29.1\n",
      "    Uninstalling tqdm-4.29.1:\n",
      "      Successfully uninstalled tqdm-4.29.1\n",
      "  Found existing installation: featuretools 0.6.0\n",
      "    Uninstalling featuretools-0.6.0:\n",
      "      Successfully uninstalled featuretools-0.6.0\n",
      "Successfully installed featuretools-0.13.1 pandas-0.25.3 tqdm-4.41.1\n"
     ]
    }
   ],
   "source": [
    "if COLAB:\n",
    "  !pip install -U featuretools\n",
    "  # !sudo apt-get install git-lfs && git lfs install\n",
    "  from google.colab import drive\n",
    "  drive.mount('/content/gdrive')\n",
    "  !rm -rf dl-projects\n",
    "  !git clone https://github.com/mengwangk/dl-projects\n",
    "  !cd dl-projects && ls\n",
    "else:\n",
    "  !pip install -U featuretools"
   ]
  },
  {
   "cell_type": "code",
   "execution_count": 3,
   "metadata": {
    "colab": {},
    "colab_type": "code",
    "id": "G2xin10SfozR"
   },
   "outputs": [],
   "source": [
    "if COLAB:\n",
    "  !cp dl-projects/utils* .\n",
    "  !cp dl-projects/preprocess* ."
   ]
  },
  {
   "cell_type": "code",
   "execution_count": 4,
   "metadata": {
    "colab": {},
    "colab_type": "code",
    "id": "fC2-l3JBpqbE"
   },
   "outputs": [],
   "source": [
    "%reload_ext autoreload\n",
    "%autoreload 2\n",
    "\n",
    "%matplotlib inline"
   ]
  },
  {
   "cell_type": "code",
   "execution_count": 5,
   "metadata": {
    "colab": {},
    "colab_type": "code",
    "id": "TP7V_IzepqbK"
   },
   "outputs": [],
   "source": [
    "import numpy as np\n",
    "import pandas as pd\n",
    "import seaborn as sns\n",
    "import matplotlib.pyplot as plt\n",
    "import scipy.stats as ss\n",
    "import math \n",
    "import matplotlib\n",
    "import re\n",
    "\n",
    "from scipy import stats\n",
    "from collections import Counter\n",
    "from pathlib import Path\n",
    "\n",
    "plt.style.use('fivethirtyeight')\n",
    "\n",
    "sns.set(style=\"ticks\")\n",
    "\n",
    "# Automated feature engineering\n",
    "import featuretools as ft\n",
    "\n",
    "# Machine learning\n",
    "from sklearn.pipeline import Pipeline\n",
    "from sklearn.preprocessing import MinMaxScaler, StandardScaler\n",
    "from sklearn.metrics import precision_score, recall_score, f1_score, roc_auc_score, precision_recall_curve, roc_curve\n",
    "from sklearn.model_selection import train_test_split, cross_val_score\n",
    "from sklearn.ensemble import RandomForestClassifier\n",
    "from dateutil.relativedelta import relativedelta\n",
    "\n",
    "from IPython.display import display\n",
    "\n",
    "from utils import *\n",
    "from preprocess import *\n",
    "\n",
    "# The Answer to the Ultimate Question of Life, the Universe, and Everything.\n",
    "np.random.seed(42)"
   ]
  },
  {
   "cell_type": "code",
   "execution_count": 6,
   "metadata": {
    "colab": {
     "base_uri": "https://localhost:8080/",
     "height": 102
    },
    "colab_type": "code",
    "id": "3bFT5CoxpqbP",
    "outputId": "7335485b-43e1-439b-c8b4-fe65713092c2"
   },
   "outputs": [
    {
     "name": "stdout",
     "output_type": "stream",
     "text": [
      "Modules to reload:\n",
      "all-except-skipped\n",
      "\n",
      "Modules to skip:\n",
      "\n"
     ]
    }
   ],
   "source": [
    "%aimport"
   ]
  },
  {
   "cell_type": "markdown",
   "metadata": {
    "colab_type": "text",
    "id": "3E16jPVPpqbV"
   },
   "source": [
    "## Preparation"
   ]
  },
  {
   "cell_type": "code",
   "execution_count": 7,
   "metadata": {
    "colab": {},
    "colab_type": "code",
    "id": "9IgnETKkpqbX"
   },
   "outputs": [],
   "source": [
    "if COLAB:\n",
    "  DATASET_PATH = Path(\"dl-projects/datasets\")\n",
    "else:\n",
    "  DATASET_PATH = Path(\"datasets\")\n",
    "\n",
    "DATASET = DATASET_PATH/DATASET_NAME"
   ]
  },
  {
   "cell_type": "code",
   "execution_count": 8,
   "metadata": {
    "colab": {},
    "colab_type": "code",
    "id": "vD-iIrCipqbc"
   },
   "outputs": [],
   "source": [
    "data = format_tabular(DATASET)"
   ]
  },
  {
   "cell_type": "code",
   "execution_count": 9,
   "metadata": {
    "colab": {
     "base_uri": "https://localhost:8080/",
     "height": 170
    },
    "colab_type": "code",
    "id": "BbDpkNHPpqbi",
    "outputId": "6e6a6107-8727-4567-d335-be6da66abc88"
   },
   "outputs": [
    {
     "name": "stdout",
     "output_type": "stream",
     "text": [
      "<class 'pandas.core.frame.DataFrame'>\n",
      "RangeIndex: 106858 entries, 0 to 106857\n",
      "Data columns (total 4 columns):\n",
      "DrawNo       106858 non-null int64\n",
      "DrawDate     106858 non-null datetime64[ns]\n",
      "PrizeType    106858 non-null object\n",
      "LuckyNo      106858 non-null int64\n",
      "dtypes: datetime64[ns](1), int64(2), object(1)\n",
      "memory usage: 3.3+ MB\n"
     ]
    }
   ],
   "source": [
    "data.info()"
   ]
  },
  {
   "cell_type": "code",
   "execution_count": 10,
   "metadata": {
    "colab": {
     "base_uri": "https://localhost:8080/",
     "height": 793
    },
    "colab_type": "code",
    "id": "WY4duu6Tpqbp",
    "outputId": "c58ce7ff-e177-458c-ffbc-623ef2bb678b"
   },
   "outputs": [
    {
     "data": {
      "text/html": [
       "<div>\n",
       "<style scoped>\n",
       "    .dataframe tbody tr th:only-of-type {\n",
       "        vertical-align: middle;\n",
       "    }\n",
       "\n",
       "    .dataframe tbody tr th {\n",
       "        vertical-align: top;\n",
       "    }\n",
       "\n",
       "    .dataframe thead th {\n",
       "        text-align: right;\n",
       "    }\n",
       "</style>\n",
       "<table border=\"1\" class=\"dataframe\">\n",
       "  <thead>\n",
       "    <tr style=\"text-align: right;\">\n",
       "      <th></th>\n",
       "      <th>DrawNo</th>\n",
       "      <th>DrawDate</th>\n",
       "      <th>PrizeType</th>\n",
       "      <th>LuckyNo</th>\n",
       "    </tr>\n",
       "  </thead>\n",
       "  <tbody>\n",
       "    <tr>\n",
       "      <th>106834</th>\n",
       "      <td>505219</td>\n",
       "      <td>2019-12-29</td>\n",
       "      <td>SpecialNo9</td>\n",
       "      <td>2528</td>\n",
       "    </tr>\n",
       "    <tr>\n",
       "      <th>106835</th>\n",
       "      <td>505320</td>\n",
       "      <td>2020-01-01</td>\n",
       "      <td>1stPrizeNo</td>\n",
       "      <td>875</td>\n",
       "    </tr>\n",
       "    <tr>\n",
       "      <th>106836</th>\n",
       "      <td>505320</td>\n",
       "      <td>2020-01-01</td>\n",
       "      <td>2ndPrizeNo</td>\n",
       "      <td>6307</td>\n",
       "    </tr>\n",
       "    <tr>\n",
       "      <th>106837</th>\n",
       "      <td>505320</td>\n",
       "      <td>2020-01-01</td>\n",
       "      <td>3rdPrizeNo</td>\n",
       "      <td>8552</td>\n",
       "    </tr>\n",
       "    <tr>\n",
       "      <th>106838</th>\n",
       "      <td>505320</td>\n",
       "      <td>2020-01-01</td>\n",
       "      <td>ConsolationNo1</td>\n",
       "      <td>2114</td>\n",
       "    </tr>\n",
       "    <tr>\n",
       "      <th>106839</th>\n",
       "      <td>505320</td>\n",
       "      <td>2020-01-01</td>\n",
       "      <td>ConsolationNo10</td>\n",
       "      <td>4861</td>\n",
       "    </tr>\n",
       "    <tr>\n",
       "      <th>106840</th>\n",
       "      <td>505320</td>\n",
       "      <td>2020-01-01</td>\n",
       "      <td>ConsolationNo2</td>\n",
       "      <td>508</td>\n",
       "    </tr>\n",
       "    <tr>\n",
       "      <th>106841</th>\n",
       "      <td>505320</td>\n",
       "      <td>2020-01-01</td>\n",
       "      <td>ConsolationNo3</td>\n",
       "      <td>2086</td>\n",
       "    </tr>\n",
       "    <tr>\n",
       "      <th>106842</th>\n",
       "      <td>505320</td>\n",
       "      <td>2020-01-01</td>\n",
       "      <td>ConsolationNo4</td>\n",
       "      <td>3296</td>\n",
       "    </tr>\n",
       "    <tr>\n",
       "      <th>106843</th>\n",
       "      <td>505320</td>\n",
       "      <td>2020-01-01</td>\n",
       "      <td>ConsolationNo5</td>\n",
       "      <td>413</td>\n",
       "    </tr>\n",
       "    <tr>\n",
       "      <th>106844</th>\n",
       "      <td>505320</td>\n",
       "      <td>2020-01-01</td>\n",
       "      <td>ConsolationNo6</td>\n",
       "      <td>4781</td>\n",
       "    </tr>\n",
       "    <tr>\n",
       "      <th>106845</th>\n",
       "      <td>505320</td>\n",
       "      <td>2020-01-01</td>\n",
       "      <td>ConsolationNo7</td>\n",
       "      <td>1459</td>\n",
       "    </tr>\n",
       "    <tr>\n",
       "      <th>106846</th>\n",
       "      <td>505320</td>\n",
       "      <td>2020-01-01</td>\n",
       "      <td>ConsolationNo8</td>\n",
       "      <td>7685</td>\n",
       "    </tr>\n",
       "    <tr>\n",
       "      <th>106847</th>\n",
       "      <td>505320</td>\n",
       "      <td>2020-01-01</td>\n",
       "      <td>ConsolationNo9</td>\n",
       "      <td>6087</td>\n",
       "    </tr>\n",
       "    <tr>\n",
       "      <th>106848</th>\n",
       "      <td>505320</td>\n",
       "      <td>2020-01-01</td>\n",
       "      <td>SpecialNo1</td>\n",
       "      <td>2404</td>\n",
       "    </tr>\n",
       "    <tr>\n",
       "      <th>106849</th>\n",
       "      <td>505320</td>\n",
       "      <td>2020-01-01</td>\n",
       "      <td>SpecialNo10</td>\n",
       "      <td>7382</td>\n",
       "    </tr>\n",
       "    <tr>\n",
       "      <th>106850</th>\n",
       "      <td>505320</td>\n",
       "      <td>2020-01-01</td>\n",
       "      <td>SpecialNo2</td>\n",
       "      <td>2220</td>\n",
       "    </tr>\n",
       "    <tr>\n",
       "      <th>106851</th>\n",
       "      <td>505320</td>\n",
       "      <td>2020-01-01</td>\n",
       "      <td>SpecialNo3</td>\n",
       "      <td>3573</td>\n",
       "    </tr>\n",
       "    <tr>\n",
       "      <th>106852</th>\n",
       "      <td>505320</td>\n",
       "      <td>2020-01-01</td>\n",
       "      <td>SpecialNo4</td>\n",
       "      <td>4524</td>\n",
       "    </tr>\n",
       "    <tr>\n",
       "      <th>106853</th>\n",
       "      <td>505320</td>\n",
       "      <td>2020-01-01</td>\n",
       "      <td>SpecialNo5</td>\n",
       "      <td>6856</td>\n",
       "    </tr>\n",
       "    <tr>\n",
       "      <th>106854</th>\n",
       "      <td>505320</td>\n",
       "      <td>2020-01-01</td>\n",
       "      <td>SpecialNo6</td>\n",
       "      <td>8107</td>\n",
       "    </tr>\n",
       "    <tr>\n",
       "      <th>106855</th>\n",
       "      <td>505320</td>\n",
       "      <td>2020-01-01</td>\n",
       "      <td>SpecialNo7</td>\n",
       "      <td>1026</td>\n",
       "    </tr>\n",
       "    <tr>\n",
       "      <th>106856</th>\n",
       "      <td>505320</td>\n",
       "      <td>2020-01-01</td>\n",
       "      <td>SpecialNo8</td>\n",
       "      <td>3960</td>\n",
       "    </tr>\n",
       "    <tr>\n",
       "      <th>106857</th>\n",
       "      <td>505320</td>\n",
       "      <td>2020-01-01</td>\n",
       "      <td>SpecialNo9</td>\n",
       "      <td>5472</td>\n",
       "    </tr>\n",
       "  </tbody>\n",
       "</table>\n",
       "</div>"
      ],
      "text/plain": [
       "        DrawNo   DrawDate        PrizeType  LuckyNo\n",
       "106834  505219 2019-12-29       SpecialNo9     2528\n",
       "106835  505320 2020-01-01       1stPrizeNo      875\n",
       "106836  505320 2020-01-01       2ndPrizeNo     6307\n",
       "106837  505320 2020-01-01       3rdPrizeNo     8552\n",
       "106838  505320 2020-01-01   ConsolationNo1     2114\n",
       "106839  505320 2020-01-01  ConsolationNo10     4861\n",
       "106840  505320 2020-01-01   ConsolationNo2      508\n",
       "106841  505320 2020-01-01   ConsolationNo3     2086\n",
       "106842  505320 2020-01-01   ConsolationNo4     3296\n",
       "106843  505320 2020-01-01   ConsolationNo5      413\n",
       "106844  505320 2020-01-01   ConsolationNo6     4781\n",
       "106845  505320 2020-01-01   ConsolationNo7     1459\n",
       "106846  505320 2020-01-01   ConsolationNo8     7685\n",
       "106847  505320 2020-01-01   ConsolationNo9     6087\n",
       "106848  505320 2020-01-01       SpecialNo1     2404\n",
       "106849  505320 2020-01-01      SpecialNo10     7382\n",
       "106850  505320 2020-01-01       SpecialNo2     2220\n",
       "106851  505320 2020-01-01       SpecialNo3     3573\n",
       "106852  505320 2020-01-01       SpecialNo4     4524\n",
       "106853  505320 2020-01-01       SpecialNo5     6856\n",
       "106854  505320 2020-01-01       SpecialNo6     8107\n",
       "106855  505320 2020-01-01       SpecialNo7     1026\n",
       "106856  505320 2020-01-01       SpecialNo8     3960\n",
       "106857  505320 2020-01-01       SpecialNo9     5472"
      ]
     },
     "execution_count": 10,
     "metadata": {},
     "output_type": "execute_result"
    }
   ],
   "source": [
    "data.tail(24)"
   ]
  },
  {
   "cell_type": "code",
   "execution_count": 11,
   "metadata": {
    "colab": {},
    "colab_type": "code",
    "id": "8qEDuHP2euiI"
   },
   "outputs": [],
   "source": [
    "data['NumberId'] = data['LuckyNo']"
   ]
  },
  {
   "cell_type": "code",
   "execution_count": 12,
   "metadata": {
    "colab": {
     "base_uri": "https://localhost:8080/",
     "height": 359
    },
    "colab_type": "code",
    "id": "PEXwBE9HeuiK",
    "outputId": "45e0b57d-d75c-4a07-affd-419f29719cb5"
   },
   "outputs": [
    {
     "data": {
      "text/html": [
       "<div>\n",
       "<style scoped>\n",
       "    .dataframe tbody tr th:only-of-type {\n",
       "        vertical-align: middle;\n",
       "    }\n",
       "\n",
       "    .dataframe tbody tr th {\n",
       "        vertical-align: top;\n",
       "    }\n",
       "\n",
       "    .dataframe thead th {\n",
       "        text-align: right;\n",
       "    }\n",
       "</style>\n",
       "<table border=\"1\" class=\"dataframe\">\n",
       "  <thead>\n",
       "    <tr style=\"text-align: right;\">\n",
       "      <th></th>\n",
       "      <th>DrawNo</th>\n",
       "      <th>DrawDate</th>\n",
       "      <th>PrizeType</th>\n",
       "      <th>LuckyNo</th>\n",
       "      <th>NumberId</th>\n",
       "    </tr>\n",
       "  </thead>\n",
       "  <tbody>\n",
       "    <tr>\n",
       "      <th>106848</th>\n",
       "      <td>505320</td>\n",
       "      <td>2020-01-01</td>\n",
       "      <td>SpecialNo1</td>\n",
       "      <td>2404</td>\n",
       "      <td>2404</td>\n",
       "    </tr>\n",
       "    <tr>\n",
       "      <th>106849</th>\n",
       "      <td>505320</td>\n",
       "      <td>2020-01-01</td>\n",
       "      <td>SpecialNo10</td>\n",
       "      <td>7382</td>\n",
       "      <td>7382</td>\n",
       "    </tr>\n",
       "    <tr>\n",
       "      <th>106850</th>\n",
       "      <td>505320</td>\n",
       "      <td>2020-01-01</td>\n",
       "      <td>SpecialNo2</td>\n",
       "      <td>2220</td>\n",
       "      <td>2220</td>\n",
       "    </tr>\n",
       "    <tr>\n",
       "      <th>106851</th>\n",
       "      <td>505320</td>\n",
       "      <td>2020-01-01</td>\n",
       "      <td>SpecialNo3</td>\n",
       "      <td>3573</td>\n",
       "      <td>3573</td>\n",
       "    </tr>\n",
       "    <tr>\n",
       "      <th>106852</th>\n",
       "      <td>505320</td>\n",
       "      <td>2020-01-01</td>\n",
       "      <td>SpecialNo4</td>\n",
       "      <td>4524</td>\n",
       "      <td>4524</td>\n",
       "    </tr>\n",
       "    <tr>\n",
       "      <th>106853</th>\n",
       "      <td>505320</td>\n",
       "      <td>2020-01-01</td>\n",
       "      <td>SpecialNo5</td>\n",
       "      <td>6856</td>\n",
       "      <td>6856</td>\n",
       "    </tr>\n",
       "    <tr>\n",
       "      <th>106854</th>\n",
       "      <td>505320</td>\n",
       "      <td>2020-01-01</td>\n",
       "      <td>SpecialNo6</td>\n",
       "      <td>8107</td>\n",
       "      <td>8107</td>\n",
       "    </tr>\n",
       "    <tr>\n",
       "      <th>106855</th>\n",
       "      <td>505320</td>\n",
       "      <td>2020-01-01</td>\n",
       "      <td>SpecialNo7</td>\n",
       "      <td>1026</td>\n",
       "      <td>1026</td>\n",
       "    </tr>\n",
       "    <tr>\n",
       "      <th>106856</th>\n",
       "      <td>505320</td>\n",
       "      <td>2020-01-01</td>\n",
       "      <td>SpecialNo8</td>\n",
       "      <td>3960</td>\n",
       "      <td>3960</td>\n",
       "    </tr>\n",
       "    <tr>\n",
       "      <th>106857</th>\n",
       "      <td>505320</td>\n",
       "      <td>2020-01-01</td>\n",
       "      <td>SpecialNo9</td>\n",
       "      <td>5472</td>\n",
       "      <td>5472</td>\n",
       "    </tr>\n",
       "  </tbody>\n",
       "</table>\n",
       "</div>"
      ],
      "text/plain": [
       "        DrawNo   DrawDate    PrizeType  LuckyNo  NumberId\n",
       "106848  505320 2020-01-01   SpecialNo1     2404      2404\n",
       "106849  505320 2020-01-01  SpecialNo10     7382      7382\n",
       "106850  505320 2020-01-01   SpecialNo2     2220      2220\n",
       "106851  505320 2020-01-01   SpecialNo3     3573      3573\n",
       "106852  505320 2020-01-01   SpecialNo4     4524      4524\n",
       "106853  505320 2020-01-01   SpecialNo5     6856      6856\n",
       "106854  505320 2020-01-01   SpecialNo6     8107      8107\n",
       "106855  505320 2020-01-01   SpecialNo7     1026      1026\n",
       "106856  505320 2020-01-01   SpecialNo8     3960      3960\n",
       "106857  505320 2020-01-01   SpecialNo9     5472      5472"
      ]
     },
     "execution_count": 12,
     "metadata": {},
     "output_type": "execute_result"
    }
   ],
   "source": [
    "data.tail(10)"
   ]
  },
  {
   "cell_type": "markdown",
   "metadata": {
    "colab_type": "text",
    "id": "8cSUZyfY8oyB"
   },
   "source": [
    "## Data Cleansing"
   ]
  },
  {
   "cell_type": "code",
   "execution_count": 13,
   "metadata": {
    "colab": {},
    "colab_type": "code",
    "id": "F08WbAAF8o_o"
   },
   "outputs": [],
   "source": [
    "def change_prize_type(x):\n",
    "  return \"Prize\"\n",
    "  # if \"Special\" in x:\n",
    "  #   return 'Prize'\n",
    "  # elif \"Consolation\" in x:\n",
    "  #   return 'Prize'\n",
    "  # else:\n",
    "  #   return x\n",
    "\n",
    "def increment_draw_date(x):\n",
    "  x = x + relativedelta(minutes=1)\n",
    "  return x\n",
    "\n",
    "data['PrizeType'] = data['PrizeType'].apply(change_prize_type)\n",
    "\n",
    "# Add 1 minutes to draw date to avoid overlapping with the cut off date\n",
    "data['DrawDate'] = data['DrawDate'].apply(increment_draw_date)"
   ]
  },
  {
   "cell_type": "code",
   "execution_count": 14,
   "metadata": {
    "colab": {
     "base_uri": "https://localhost:8080/",
     "height": 762
    },
    "colab_type": "code",
    "id": "Fsoy-LoU8pL4",
    "outputId": "531d1630-f429-498d-8e53-2164388e9218"
   },
   "outputs": [
    {
     "data": {
      "text/html": [
       "<div>\n",
       "<style scoped>\n",
       "    .dataframe tbody tr th:only-of-type {\n",
       "        vertical-align: middle;\n",
       "    }\n",
       "\n",
       "    .dataframe tbody tr th {\n",
       "        vertical-align: top;\n",
       "    }\n",
       "\n",
       "    .dataframe thead th {\n",
       "        text-align: right;\n",
       "    }\n",
       "</style>\n",
       "<table border=\"1\" class=\"dataframe\">\n",
       "  <thead>\n",
       "    <tr style=\"text-align: right;\">\n",
       "      <th></th>\n",
       "      <th>DrawNo</th>\n",
       "      <th>DrawDate</th>\n",
       "      <th>PrizeType</th>\n",
       "      <th>LuckyNo</th>\n",
       "      <th>NumberId</th>\n",
       "    </tr>\n",
       "  </thead>\n",
       "  <tbody>\n",
       "    <tr>\n",
       "      <th>106835</th>\n",
       "      <td>505320</td>\n",
       "      <td>2020-01-01 00:01:00</td>\n",
       "      <td>Prize</td>\n",
       "      <td>875</td>\n",
       "      <td>875</td>\n",
       "    </tr>\n",
       "    <tr>\n",
       "      <th>106836</th>\n",
       "      <td>505320</td>\n",
       "      <td>2020-01-01 00:01:00</td>\n",
       "      <td>Prize</td>\n",
       "      <td>6307</td>\n",
       "      <td>6307</td>\n",
       "    </tr>\n",
       "    <tr>\n",
       "      <th>106837</th>\n",
       "      <td>505320</td>\n",
       "      <td>2020-01-01 00:01:00</td>\n",
       "      <td>Prize</td>\n",
       "      <td>8552</td>\n",
       "      <td>8552</td>\n",
       "    </tr>\n",
       "    <tr>\n",
       "      <th>106838</th>\n",
       "      <td>505320</td>\n",
       "      <td>2020-01-01 00:01:00</td>\n",
       "      <td>Prize</td>\n",
       "      <td>2114</td>\n",
       "      <td>2114</td>\n",
       "    </tr>\n",
       "    <tr>\n",
       "      <th>106839</th>\n",
       "      <td>505320</td>\n",
       "      <td>2020-01-01 00:01:00</td>\n",
       "      <td>Prize</td>\n",
       "      <td>4861</td>\n",
       "      <td>4861</td>\n",
       "    </tr>\n",
       "    <tr>\n",
       "      <th>106840</th>\n",
       "      <td>505320</td>\n",
       "      <td>2020-01-01 00:01:00</td>\n",
       "      <td>Prize</td>\n",
       "      <td>508</td>\n",
       "      <td>508</td>\n",
       "    </tr>\n",
       "    <tr>\n",
       "      <th>106841</th>\n",
       "      <td>505320</td>\n",
       "      <td>2020-01-01 00:01:00</td>\n",
       "      <td>Prize</td>\n",
       "      <td>2086</td>\n",
       "      <td>2086</td>\n",
       "    </tr>\n",
       "    <tr>\n",
       "      <th>106842</th>\n",
       "      <td>505320</td>\n",
       "      <td>2020-01-01 00:01:00</td>\n",
       "      <td>Prize</td>\n",
       "      <td>3296</td>\n",
       "      <td>3296</td>\n",
       "    </tr>\n",
       "    <tr>\n",
       "      <th>106843</th>\n",
       "      <td>505320</td>\n",
       "      <td>2020-01-01 00:01:00</td>\n",
       "      <td>Prize</td>\n",
       "      <td>413</td>\n",
       "      <td>413</td>\n",
       "    </tr>\n",
       "    <tr>\n",
       "      <th>106844</th>\n",
       "      <td>505320</td>\n",
       "      <td>2020-01-01 00:01:00</td>\n",
       "      <td>Prize</td>\n",
       "      <td>4781</td>\n",
       "      <td>4781</td>\n",
       "    </tr>\n",
       "    <tr>\n",
       "      <th>106845</th>\n",
       "      <td>505320</td>\n",
       "      <td>2020-01-01 00:01:00</td>\n",
       "      <td>Prize</td>\n",
       "      <td>1459</td>\n",
       "      <td>1459</td>\n",
       "    </tr>\n",
       "    <tr>\n",
       "      <th>106846</th>\n",
       "      <td>505320</td>\n",
       "      <td>2020-01-01 00:01:00</td>\n",
       "      <td>Prize</td>\n",
       "      <td>7685</td>\n",
       "      <td>7685</td>\n",
       "    </tr>\n",
       "    <tr>\n",
       "      <th>106847</th>\n",
       "      <td>505320</td>\n",
       "      <td>2020-01-01 00:01:00</td>\n",
       "      <td>Prize</td>\n",
       "      <td>6087</td>\n",
       "      <td>6087</td>\n",
       "    </tr>\n",
       "    <tr>\n",
       "      <th>106848</th>\n",
       "      <td>505320</td>\n",
       "      <td>2020-01-01 00:01:00</td>\n",
       "      <td>Prize</td>\n",
       "      <td>2404</td>\n",
       "      <td>2404</td>\n",
       "    </tr>\n",
       "    <tr>\n",
       "      <th>106849</th>\n",
       "      <td>505320</td>\n",
       "      <td>2020-01-01 00:01:00</td>\n",
       "      <td>Prize</td>\n",
       "      <td>7382</td>\n",
       "      <td>7382</td>\n",
       "    </tr>\n",
       "    <tr>\n",
       "      <th>106850</th>\n",
       "      <td>505320</td>\n",
       "      <td>2020-01-01 00:01:00</td>\n",
       "      <td>Prize</td>\n",
       "      <td>2220</td>\n",
       "      <td>2220</td>\n",
       "    </tr>\n",
       "    <tr>\n",
       "      <th>106851</th>\n",
       "      <td>505320</td>\n",
       "      <td>2020-01-01 00:01:00</td>\n",
       "      <td>Prize</td>\n",
       "      <td>3573</td>\n",
       "      <td>3573</td>\n",
       "    </tr>\n",
       "    <tr>\n",
       "      <th>106852</th>\n",
       "      <td>505320</td>\n",
       "      <td>2020-01-01 00:01:00</td>\n",
       "      <td>Prize</td>\n",
       "      <td>4524</td>\n",
       "      <td>4524</td>\n",
       "    </tr>\n",
       "    <tr>\n",
       "      <th>106853</th>\n",
       "      <td>505320</td>\n",
       "      <td>2020-01-01 00:01:00</td>\n",
       "      <td>Prize</td>\n",
       "      <td>6856</td>\n",
       "      <td>6856</td>\n",
       "    </tr>\n",
       "    <tr>\n",
       "      <th>106854</th>\n",
       "      <td>505320</td>\n",
       "      <td>2020-01-01 00:01:00</td>\n",
       "      <td>Prize</td>\n",
       "      <td>8107</td>\n",
       "      <td>8107</td>\n",
       "    </tr>\n",
       "    <tr>\n",
       "      <th>106855</th>\n",
       "      <td>505320</td>\n",
       "      <td>2020-01-01 00:01:00</td>\n",
       "      <td>Prize</td>\n",
       "      <td>1026</td>\n",
       "      <td>1026</td>\n",
       "    </tr>\n",
       "    <tr>\n",
       "      <th>106856</th>\n",
       "      <td>505320</td>\n",
       "      <td>2020-01-01 00:01:00</td>\n",
       "      <td>Prize</td>\n",
       "      <td>3960</td>\n",
       "      <td>3960</td>\n",
       "    </tr>\n",
       "    <tr>\n",
       "      <th>106857</th>\n",
       "      <td>505320</td>\n",
       "      <td>2020-01-01 00:01:00</td>\n",
       "      <td>Prize</td>\n",
       "      <td>5472</td>\n",
       "      <td>5472</td>\n",
       "    </tr>\n",
       "  </tbody>\n",
       "</table>\n",
       "</div>"
      ],
      "text/plain": [
       "        DrawNo            DrawDate PrizeType  LuckyNo  NumberId\n",
       "106835  505320 2020-01-01 00:01:00     Prize      875       875\n",
       "106836  505320 2020-01-01 00:01:00     Prize     6307      6307\n",
       "106837  505320 2020-01-01 00:01:00     Prize     8552      8552\n",
       "106838  505320 2020-01-01 00:01:00     Prize     2114      2114\n",
       "106839  505320 2020-01-01 00:01:00     Prize     4861      4861\n",
       "106840  505320 2020-01-01 00:01:00     Prize      508       508\n",
       "106841  505320 2020-01-01 00:01:00     Prize     2086      2086\n",
       "106842  505320 2020-01-01 00:01:00     Prize     3296      3296\n",
       "106843  505320 2020-01-01 00:01:00     Prize      413       413\n",
       "106844  505320 2020-01-01 00:01:00     Prize     4781      4781\n",
       "106845  505320 2020-01-01 00:01:00     Prize     1459      1459\n",
       "106846  505320 2020-01-01 00:01:00     Prize     7685      7685\n",
       "106847  505320 2020-01-01 00:01:00     Prize     6087      6087\n",
       "106848  505320 2020-01-01 00:01:00     Prize     2404      2404\n",
       "106849  505320 2020-01-01 00:01:00     Prize     7382      7382\n",
       "106850  505320 2020-01-01 00:01:00     Prize     2220      2220\n",
       "106851  505320 2020-01-01 00:01:00     Prize     3573      3573\n",
       "106852  505320 2020-01-01 00:01:00     Prize     4524      4524\n",
       "106853  505320 2020-01-01 00:01:00     Prize     6856      6856\n",
       "106854  505320 2020-01-01 00:01:00     Prize     8107      8107\n",
       "106855  505320 2020-01-01 00:01:00     Prize     1026      1026\n",
       "106856  505320 2020-01-01 00:01:00     Prize     3960      3960\n",
       "106857  505320 2020-01-01 00:01:00     Prize     5472      5472"
      ]
     },
     "execution_count": 14,
     "metadata": {},
     "output_type": "execute_result"
    }
   ],
   "source": [
    "data.tail(23)"
   ]
  },
  {
   "cell_type": "code",
   "execution_count": 15,
   "metadata": {
    "colab": {
     "base_uri": "https://localhost:8080/",
     "height": 297
    },
    "colab_type": "code",
    "id": "I7ZFGEhieuiN",
    "outputId": "f816fc99-8363-40e9-e121-079f97779da1"
   },
   "outputs": [
    {
     "data": {
      "text/html": [
       "<div>\n",
       "<style scoped>\n",
       "    .dataframe tbody tr th:only-of-type {\n",
       "        vertical-align: middle;\n",
       "    }\n",
       "\n",
       "    .dataframe tbody tr th {\n",
       "        vertical-align: top;\n",
       "    }\n",
       "\n",
       "    .dataframe thead th {\n",
       "        text-align: right;\n",
       "    }\n",
       "</style>\n",
       "<table border=\"1\" class=\"dataframe\">\n",
       "  <thead>\n",
       "    <tr style=\"text-align: right;\">\n",
       "      <th></th>\n",
       "      <th>DrawNo</th>\n",
       "      <th>LuckyNo</th>\n",
       "      <th>NumberId</th>\n",
       "    </tr>\n",
       "  </thead>\n",
       "  <tbody>\n",
       "    <tr>\n",
       "      <th>count</th>\n",
       "      <td>106858.00</td>\n",
       "      <td>106858.00</td>\n",
       "      <td>106858.00</td>\n",
       "    </tr>\n",
       "    <tr>\n",
       "      <th>mean</th>\n",
       "      <td>273049.89</td>\n",
       "      <td>4973.57</td>\n",
       "      <td>4973.57</td>\n",
       "    </tr>\n",
       "    <tr>\n",
       "      <th>std</th>\n",
       "      <td>134131.48</td>\n",
       "      <td>2885.58</td>\n",
       "      <td>2885.58</td>\n",
       "    </tr>\n",
       "    <tr>\n",
       "      <th>min</th>\n",
       "      <td>40792.00</td>\n",
       "      <td>0.00</td>\n",
       "      <td>0.00</td>\n",
       "    </tr>\n",
       "    <tr>\n",
       "      <th>25%</th>\n",
       "      <td>156899.00</td>\n",
       "      <td>2462.00</td>\n",
       "      <td>2462.00</td>\n",
       "    </tr>\n",
       "    <tr>\n",
       "      <th>50%</th>\n",
       "      <td>273056.00</td>\n",
       "      <td>4951.00</td>\n",
       "      <td>4951.00</td>\n",
       "    </tr>\n",
       "    <tr>\n",
       "      <th>75%</th>\n",
       "      <td>389213.00</td>\n",
       "      <td>7463.00</td>\n",
       "      <td>7463.00</td>\n",
       "    </tr>\n",
       "    <tr>\n",
       "      <th>max</th>\n",
       "      <td>505320.00</td>\n",
       "      <td>9999.00</td>\n",
       "      <td>9999.00</td>\n",
       "    </tr>\n",
       "  </tbody>\n",
       "</table>\n",
       "</div>"
      ],
      "text/plain": [
       "          DrawNo    LuckyNo   NumberId\n",
       "count  106858.00  106858.00  106858.00\n",
       "mean   273049.89    4973.57    4973.57\n",
       "std    134131.48    2885.58    2885.58\n",
       "min     40792.00       0.00       0.00\n",
       "25%    156899.00    2462.00    2462.00\n",
       "50%    273056.00    4951.00    4951.00\n",
       "75%    389213.00    7463.00    7463.00\n",
       "max    505320.00    9999.00    9999.00"
      ]
     },
     "execution_count": 15,
     "metadata": {},
     "output_type": "execute_result"
    }
   ],
   "source": [
    "data.describe().round(2)"
   ]
  },
  {
   "cell_type": "code",
   "execution_count": 16,
   "metadata": {
    "colab": {
     "base_uri": "https://localhost:8080/",
     "height": 495
    },
    "colab_type": "code",
    "id": "61I6vIJjeuiP",
    "outputId": "699cb9dd-7f6e-4e81-d670-d1e2fa42ec1e"
   },
   "outputs": [
    {
     "data": {
      "text/plain": [
       "Text(0.5, 1.0, 'Draw')"
      ]
     },
     "execution_count": 16,
     "metadata": {},
     "output_type": "execute_result"
    },
    {
     "data": {
      "image/png": "[encoded data removed]",
      "text/plain": [
       "<Figure size 1440x432 with 1 Axes>"
      ]
     },
     "metadata": {},
     "output_type": "display_data"
    }
   ],
   "source": [
    "plt.figure(figsize=(20,6))\n",
    "sns.boxplot(x='NumberId', y='PrizeType',data=data)\n",
    "plt.xticks(rotation=90)\n",
    "plt.title('Draw')\n",
    "\n",
    "# print(data[data['NumberId']==1760])"
   ]
  },
  {
   "cell_type": "markdown",
   "metadata": {
    "colab_type": "text",
    "id": "u-a0nl-xeuiR"
   },
   "source": [
    "## Exploration"
   ]
  },
  {
   "cell_type": "code",
   "execution_count": 17,
   "metadata": {
    "colab": {},
    "colab_type": "code",
    "id": "AtgXHWx-euiS"
   },
   "outputs": [],
   "source": [
    "def ecdf(data):\n",
    "    x = np.sort(data)\n",
    "    y = np.arange(1, len(x) + 1) / len(x)\n",
    "    return x, y"
   ]
  },
  {
   "cell_type": "code",
   "execution_count": null,
   "metadata": {
    "colab": {},
    "colab_type": "code",
    "id": "Yc0muCCCeuiU"
   },
   "outputs": [],
   "source": []
  },
  {
   "cell_type": "markdown",
   "metadata": {
    "colab_type": "text",
    "id": "qBJcDOgAeuiX"
   },
   "source": [
    "## Making Labels"
   ]
  },
  {
   "cell_type": "code",
   "execution_count": 18,
   "metadata": {
    "colab": {
     "base_uri": "https://localhost:8080/",
     "height": 0
    },
    "colab_type": "code",
    "id": "tsYlAKtpeuiY",
    "outputId": "9f6873d5-03e5-4a49-8c3b-865d99c639de"
   },
   "outputs": [
    {
     "data": {
      "text/html": [
       "<div>\n",
       "<style scoped>\n",
       "    .dataframe tbody tr th:only-of-type {\n",
       "        vertical-align: middle;\n",
       "    }\n",
       "\n",
       "    .dataframe tbody tr th {\n",
       "        vertical-align: top;\n",
       "    }\n",
       "\n",
       "    .dataframe thead th {\n",
       "        text-align: right;\n",
       "    }\n",
       "</style>\n",
       "<table border=\"1\" class=\"dataframe\">\n",
       "  <thead>\n",
       "    <tr style=\"text-align: right;\">\n",
       "      <th></th>\n",
       "      <th>DrawNo</th>\n",
       "      <th>DrawDate</th>\n",
       "      <th>PrizeType</th>\n",
       "      <th>LuckyNo</th>\n",
       "      <th>NumberId</th>\n",
       "      <th>TotalStrike</th>\n",
       "    </tr>\n",
       "  </thead>\n",
       "  <tbody>\n",
       "    <tr>\n",
       "      <th>0</th>\n",
       "      <td>40792</td>\n",
       "      <td>1992-05-06 00:01:00</td>\n",
       "      <td>Prize</td>\n",
       "      <td>19</td>\n",
       "      <td>19</td>\n",
       "      <td>1</td>\n",
       "    </tr>\n",
       "    <tr>\n",
       "      <th>1</th>\n",
       "      <td>40792</td>\n",
       "      <td>1992-05-06 00:01:00</td>\n",
       "      <td>Prize</td>\n",
       "      <td>1124</td>\n",
       "      <td>1124</td>\n",
       "      <td>1</td>\n",
       "    </tr>\n",
       "    <tr>\n",
       "      <th>2</th>\n",
       "      <td>40792</td>\n",
       "      <td>1992-05-06 00:01:00</td>\n",
       "      <td>Prize</td>\n",
       "      <td>592</td>\n",
       "      <td>592</td>\n",
       "      <td>1</td>\n",
       "    </tr>\n",
       "    <tr>\n",
       "      <th>3</th>\n",
       "      <td>40792</td>\n",
       "      <td>1992-05-06 00:01:00</td>\n",
       "      <td>Prize</td>\n",
       "      <td>5311</td>\n",
       "      <td>5311</td>\n",
       "      <td>1</td>\n",
       "    </tr>\n",
       "    <tr>\n",
       "      <th>4</th>\n",
       "      <td>40792</td>\n",
       "      <td>1992-05-06 00:01:00</td>\n",
       "      <td>Prize</td>\n",
       "      <td>407</td>\n",
       "      <td>407</td>\n",
       "      <td>1</td>\n",
       "    </tr>\n",
       "    <tr>\n",
       "      <th>5</th>\n",
       "      <td>40792</td>\n",
       "      <td>1992-05-06 00:01:00</td>\n",
       "      <td>Prize</td>\n",
       "      <td>1949</td>\n",
       "      <td>1949</td>\n",
       "      <td>1</td>\n",
       "    </tr>\n",
       "    <tr>\n",
       "      <th>6</th>\n",
       "      <td>40792</td>\n",
       "      <td>1992-05-06 00:01:00</td>\n",
       "      <td>Prize</td>\n",
       "      <td>1606</td>\n",
       "      <td>1606</td>\n",
       "      <td>1</td>\n",
       "    </tr>\n",
       "    <tr>\n",
       "      <th>7</th>\n",
       "      <td>40792</td>\n",
       "      <td>1992-05-06 00:01:00</td>\n",
       "      <td>Prize</td>\n",
       "      <td>3775</td>\n",
       "      <td>3775</td>\n",
       "      <td>1</td>\n",
       "    </tr>\n",
       "    <tr>\n",
       "      <th>8</th>\n",
       "      <td>40792</td>\n",
       "      <td>1992-05-06 00:01:00</td>\n",
       "      <td>Prize</td>\n",
       "      <td>6226</td>\n",
       "      <td>6226</td>\n",
       "      <td>1</td>\n",
       "    </tr>\n",
       "    <tr>\n",
       "      <th>9</th>\n",
       "      <td>40792</td>\n",
       "      <td>1992-05-06 00:01:00</td>\n",
       "      <td>Prize</td>\n",
       "      <td>1271</td>\n",
       "      <td>1271</td>\n",
       "      <td>1</td>\n",
       "    </tr>\n",
       "  </tbody>\n",
       "</table>\n",
       "</div>"
      ],
      "text/plain": [
       "   DrawNo            DrawDate PrizeType  LuckyNo  NumberId  TotalStrike\n",
       "0   40792 1992-05-06 00:01:00     Prize       19        19            1\n",
       "1   40792 1992-05-06 00:01:00     Prize     1124      1124            1\n",
       "2   40792 1992-05-06 00:01:00     Prize      592       592            1\n",
       "3   40792 1992-05-06 00:01:00     Prize     5311      5311            1\n",
       "4   40792 1992-05-06 00:01:00     Prize      407       407            1\n",
       "5   40792 1992-05-06 00:01:00     Prize     1949      1949            1\n",
       "6   40792 1992-05-06 00:01:00     Prize     1606      1606            1\n",
       "7   40792 1992-05-06 00:01:00     Prize     3775      3775            1\n",
       "8   40792 1992-05-06 00:01:00     Prize     6226      6226            1\n",
       "9   40792 1992-05-06 00:01:00     Prize     1271      1271            1"
      ]
     },
     "execution_count": 18,
     "metadata": {},
     "output_type": "execute_result"
    }
   ],
   "source": [
    "data['TotalStrike'] = 1\n",
    "data.head(10)"
   ]
  },
  {
   "cell_type": "code",
   "execution_count": 19,
   "metadata": {
    "colab": {},
    "colab_type": "code",
    "id": "6ti9FbeJeuib"
   },
   "outputs": [],
   "source": [
    "def make_cutoffs(start_date, end_date, threshold=0):\n",
    "    # Find numbers exist before start date\n",
    "    number_pool = data[data['DrawDate'] < start_date]['NumberId'].unique()\n",
    "    tmp = pd.DataFrame({'NumberId': number_pool})\n",
    "   \n",
    "    # For numbers in the number pool, find their strike count between the start and end dates\n",
    "    strike_counts = data[(data['NumberId'].isin(number_pool)) & \n",
    "        (data['DrawDate'] >= start_date) & \n",
    "        (data['DrawDate']< end_date)\n",
    "    ].groupby('NumberId')['TotalStrike'].count().reset_index()\n",
    "    \n",
    "    number_of_draws = data[\n",
    "                 (data['DrawDate'] >= start_date) & \n",
    "                 (data['DrawDate']< end_date)]['DrawDate'].nunique()\n",
    "    # display(strike_counts)\n",
    "    # print(number_of_draws)\n",
    "    \n",
    "    # Merge with all the number ids to record all customers who existed before start date\n",
    "    strike_counts = strike_counts.merge(tmp, on='NumberId', how='right')\n",
    "    \n",
    "    # Set the total for any numbers who did not strike in the timeframe equal to 0\n",
    "    strike_counts['TotalStrike'] = strike_counts['TotalStrike'].fillna(0)\n",
    "    \n",
    "    # Label is based on the threshold\n",
    "    strike_counts['Label'] = (strike_counts['TotalStrike'] > threshold).astype(int)\n",
    "        \n",
    "    # The cutoff time is the start date\n",
    "    strike_counts['cutoff_time'] = pd.to_datetime(start_date)\n",
    "    strike_counts = strike_counts[['NumberId', 'cutoff_time', 'TotalStrike', 'Label']]\n",
    "    \n",
    "    #display(strike_counts[strike_counts['Label']==1].nunique())\n",
    "    #display(strike_counts.sort_values(by='TotalStrike', ascending=False))\n",
    "   \n",
    "    return number_of_draws, strike_counts"
   ]
  },
  {
   "cell_type": "code",
   "execution_count": 20,
   "metadata": {
    "colab": {
     "base_uri": "https://localhost:8080/",
     "height": 0
    },
    "colab_type": "code",
    "id": "D2A36_d7euid",
    "outputId": "fad44941-d12f-4994-914c-5285b5e7da26"
   },
   "outputs": [
    {
     "data": {
      "text/html": [
       "<div>\n",
       "<style scoped>\n",
       "    .dataframe tbody tr th:only-of-type {\n",
       "        vertical-align: middle;\n",
       "    }\n",
       "\n",
       "    .dataframe tbody tr th {\n",
       "        vertical-align: top;\n",
       "    }\n",
       "\n",
       "    .dataframe thead th {\n",
       "        text-align: right;\n",
       "    }\n",
       "</style>\n",
       "<table border=\"1\" class=\"dataframe\">\n",
       "  <thead>\n",
       "    <tr style=\"text-align: right;\">\n",
       "      <th></th>\n",
       "      <th>NumberId</th>\n",
       "      <th>cutoff_time</th>\n",
       "      <th>TotalStrike</th>\n",
       "      <th>Label</th>\n",
       "    </tr>\n",
       "  </thead>\n",
       "  <tbody>\n",
       "    <tr>\n",
       "      <th>3</th>\n",
       "      <td>135</td>\n",
       "      <td>2019-12-01</td>\n",
       "      <td>2.0</td>\n",
       "      <td>1</td>\n",
       "    </tr>\n",
       "    <tr>\n",
       "      <th>86</th>\n",
       "      <td>2513</td>\n",
       "      <td>2019-12-01</td>\n",
       "      <td>2.0</td>\n",
       "      <td>1</td>\n",
       "    </tr>\n",
       "    <tr>\n",
       "      <th>167</th>\n",
       "      <td>5030</td>\n",
       "      <td>2019-12-01</td>\n",
       "      <td>2.0</td>\n",
       "      <td>1</td>\n",
       "    </tr>\n",
       "    <tr>\n",
       "      <th>189</th>\n",
       "      <td>5740</td>\n",
       "      <td>2019-12-01</td>\n",
       "      <td>2.0</td>\n",
       "      <td>1</td>\n",
       "    </tr>\n",
       "    <tr>\n",
       "      <th>192</th>\n",
       "      <td>5864</td>\n",
       "      <td>2019-12-01</td>\n",
       "      <td>2.0</td>\n",
       "      <td>1</td>\n",
       "    </tr>\n",
       "  </tbody>\n",
       "</table>\n",
       "</div>"
      ],
      "text/plain": [
       "     NumberId cutoff_time  TotalStrike  Label\n",
       "3         135  2019-12-01          2.0      1\n",
       "86       2513  2019-12-01          2.0      1\n",
       "167      5030  2019-12-01          2.0      1\n",
       "189      5740  2019-12-01          2.0      1\n",
       "192      5864  2019-12-01          2.0      1"
      ]
     },
     "execution_count": 20,
     "metadata": {},
     "output_type": "execute_result"
    }
   ],
   "source": [
    "number_of_draws, dec_2019 = make_cutoffs(pd.datetime(2019, 12, 1), pd.datetime(2020, 1, 1))\n",
    "dec_2019[(dec_2019['Label']==1) & (dec_2019['TotalStrike']==2)].sort_values(by='TotalStrike', ascending=False).head()"
   ]
  },
  {
   "cell_type": "code",
   "execution_count": 21,
   "metadata": {
    "colab": {
     "base_uri": "https://localhost:8080/",
     "height": 0
    },
    "colab_type": "code",
    "id": "CWtkzeNV3ae8",
    "outputId": "68fab581-247f-4874-ef1e-c0419bb70ddf"
   },
   "outputs": [
    {
     "data": {
      "text/html": [
       "<div>\n",
       "<style scoped>\n",
       "    .dataframe tbody tr th:only-of-type {\n",
       "        vertical-align: middle;\n",
       "    }\n",
       "\n",
       "    .dataframe tbody tr th {\n",
       "        vertical-align: top;\n",
       "    }\n",
       "\n",
       "    .dataframe thead th {\n",
       "        text-align: right;\n",
       "    }\n",
       "</style>\n",
       "<table border=\"1\" class=\"dataframe\">\n",
       "  <thead>\n",
       "    <tr style=\"text-align: right;\">\n",
       "      <th></th>\n",
       "      <th>DrawNo</th>\n",
       "      <th>DrawDate</th>\n",
       "      <th>PrizeType</th>\n",
       "      <th>LuckyNo</th>\n",
       "      <th>NumberId</th>\n",
       "      <th>TotalStrike</th>\n",
       "    </tr>\n",
       "  </thead>\n",
       "  <tbody>\n",
       "    <tr>\n",
       "      <th>6255</th>\n",
       "      <td>67894</td>\n",
       "      <td>1994-01-27 00:01:00</td>\n",
       "      <td>Prize</td>\n",
       "      <td>2513</td>\n",
       "      <td>2513</td>\n",
       "      <td>1</td>\n",
       "    </tr>\n",
       "    <tr>\n",
       "      <th>6994</th>\n",
       "      <td>71194</td>\n",
       "      <td>1994-04-14 00:01:00</td>\n",
       "      <td>Prize</td>\n",
       "      <td>5030</td>\n",
       "      <td>5030</td>\n",
       "      <td>1</td>\n",
       "    </tr>\n",
       "    <tr>\n",
       "      <th>9126</th>\n",
       "      <td>80394</td>\n",
       "      <td>1994-11-13 00:01:00</td>\n",
       "      <td>Prize</td>\n",
       "      <td>2513</td>\n",
       "      <td>2513</td>\n",
       "      <td>1</td>\n",
       "    </tr>\n",
       "    <tr>\n",
       "      <th>11857</th>\n",
       "      <td>92295</td>\n",
       "      <td>1995-08-19 00:01:00</td>\n",
       "      <td>Prize</td>\n",
       "      <td>2513</td>\n",
       "      <td>2513</td>\n",
       "      <td>1</td>\n",
       "    </tr>\n",
       "    <tr>\n",
       "      <th>16285</th>\n",
       "      <td>111596</td>\n",
       "      <td>1996-11-10 00:01:00</td>\n",
       "      <td>Prize</td>\n",
       "      <td>2513</td>\n",
       "      <td>2513</td>\n",
       "      <td>1</td>\n",
       "    </tr>\n",
       "    <tr>\n",
       "      <th>19202</th>\n",
       "      <td>124197</td>\n",
       "      <td>1997-08-31 00:01:00</td>\n",
       "      <td>Prize</td>\n",
       "      <td>135</td>\n",
       "      <td>135</td>\n",
       "      <td>1</td>\n",
       "    </tr>\n",
       "    <tr>\n",
       "      <th>40002</th>\n",
       "      <td>214703</td>\n",
       "      <td>2003-04-05 00:01:00</td>\n",
       "      <td>Prize</td>\n",
       "      <td>5030</td>\n",
       "      <td>5030</td>\n",
       "      <td>1</td>\n",
       "    </tr>\n",
       "    <tr>\n",
       "      <th>46671</th>\n",
       "      <td>243705</td>\n",
       "      <td>2005-01-04 00:01:00</td>\n",
       "      <td>Prize</td>\n",
       "      <td>2513</td>\n",
       "      <td>2513</td>\n",
       "      <td>1</td>\n",
       "    </tr>\n",
       "    <tr>\n",
       "      <th>50329</th>\n",
       "      <td>259605</td>\n",
       "      <td>2005-12-10 00:01:00</td>\n",
       "      <td>Prize</td>\n",
       "      <td>2513</td>\n",
       "      <td>2513</td>\n",
       "      <td>1</td>\n",
       "    </tr>\n",
       "    <tr>\n",
       "      <th>55421</th>\n",
       "      <td>281707</td>\n",
       "      <td>2007-03-25 00:01:00</td>\n",
       "      <td>Prize</td>\n",
       "      <td>5030</td>\n",
       "      <td>5030</td>\n",
       "      <td>1</td>\n",
       "    </tr>\n",
       "    <tr>\n",
       "      <th>61894</th>\n",
       "      <td>309908</td>\n",
       "      <td>2008-12-10 00:01:00</td>\n",
       "      <td>Prize</td>\n",
       "      <td>2513</td>\n",
       "      <td>2513</td>\n",
       "      <td>1</td>\n",
       "    </tr>\n",
       "    <tr>\n",
       "      <th>64702</th>\n",
       "      <td>322109</td>\n",
       "      <td>2009-08-26 00:01:00</td>\n",
       "      <td>Prize</td>\n",
       "      <td>135</td>\n",
       "      <td>135</td>\n",
       "      <td>1</td>\n",
       "    </tr>\n",
       "    <tr>\n",
       "      <th>66047</th>\n",
       "      <td>327909</td>\n",
       "      <td>2009-12-23 00:01:00</td>\n",
       "      <td>Prize</td>\n",
       "      <td>2513</td>\n",
       "      <td>2513</td>\n",
       "      <td>1</td>\n",
       "    </tr>\n",
       "    <tr>\n",
       "      <th>72749</th>\n",
       "      <td>357111</td>\n",
       "      <td>2011-08-21 00:01:00</td>\n",
       "      <td>Prize</td>\n",
       "      <td>2513</td>\n",
       "      <td>2513</td>\n",
       "      <td>1</td>\n",
       "    </tr>\n",
       "    <tr>\n",
       "      <th>73171</th>\n",
       "      <td>358911</td>\n",
       "      <td>2011-09-28 00:01:00</td>\n",
       "      <td>Prize</td>\n",
       "      <td>2513</td>\n",
       "      <td>2513</td>\n",
       "      <td>1</td>\n",
       "    </tr>\n",
       "    <tr>\n",
       "      <th>87326</th>\n",
       "      <td>420415</td>\n",
       "      <td>2015-03-04 00:01:00</td>\n",
       "      <td>Prize</td>\n",
       "      <td>2513</td>\n",
       "      <td>2513</td>\n",
       "      <td>1</td>\n",
       "    </tr>\n",
       "    <tr>\n",
       "      <th>92227</th>\n",
       "      <td>441716</td>\n",
       "      <td>2016-05-14 00:01:00</td>\n",
       "      <td>Prize</td>\n",
       "      <td>135</td>\n",
       "      <td>135</td>\n",
       "      <td>1</td>\n",
       "    </tr>\n",
       "    <tr>\n",
       "      <th>99474</th>\n",
       "      <td>473218</td>\n",
       "      <td>2018-02-18 00:01:00</td>\n",
       "      <td>Prize</td>\n",
       "      <td>135</td>\n",
       "      <td>135</td>\n",
       "      <td>1</td>\n",
       "    </tr>\n",
       "    <tr>\n",
       "      <th>106597</th>\n",
       "      <td>504219</td>\n",
       "      <td>2019-12-07 00:01:00</td>\n",
       "      <td>Prize</td>\n",
       "      <td>2513</td>\n",
       "      <td>2513</td>\n",
       "      <td>1</td>\n",
       "    </tr>\n",
       "    <tr>\n",
       "      <th>106626</th>\n",
       "      <td>504319</td>\n",
       "      <td>2019-12-08 00:01:00</td>\n",
       "      <td>Prize</td>\n",
       "      <td>5030</td>\n",
       "      <td>5030</td>\n",
       "      <td>1</td>\n",
       "    </tr>\n",
       "    <tr>\n",
       "      <th>106627</th>\n",
       "      <td>504319</td>\n",
       "      <td>2019-12-08 00:01:00</td>\n",
       "      <td>Prize</td>\n",
       "      <td>2513</td>\n",
       "      <td>2513</td>\n",
       "      <td>1</td>\n",
       "    </tr>\n",
       "    <tr>\n",
       "      <th>106700</th>\n",
       "      <td>504719</td>\n",
       "      <td>2019-12-18 00:01:00</td>\n",
       "      <td>Prize</td>\n",
       "      <td>135</td>\n",
       "      <td>135</td>\n",
       "      <td>1</td>\n",
       "    </tr>\n",
       "    <tr>\n",
       "      <th>106723</th>\n",
       "      <td>504819</td>\n",
       "      <td>2019-12-21 00:01:00</td>\n",
       "      <td>Prize</td>\n",
       "      <td>5030</td>\n",
       "      <td>5030</td>\n",
       "      <td>1</td>\n",
       "    </tr>\n",
       "    <tr>\n",
       "      <th>106730</th>\n",
       "      <td>504819</td>\n",
       "      <td>2019-12-21 00:01:00</td>\n",
       "      <td>Prize</td>\n",
       "      <td>135</td>\n",
       "      <td>135</td>\n",
       "      <td>1</td>\n",
       "    </tr>\n",
       "  </tbody>\n",
       "</table>\n",
       "</div>"
      ],
      "text/plain": [
       "        DrawNo            DrawDate PrizeType  LuckyNo  NumberId  TotalStrike\n",
       "6255     67894 1994-01-27 00:01:00     Prize     2513      2513            1\n",
       "6994     71194 1994-04-14 00:01:00     Prize     5030      5030            1\n",
       "9126     80394 1994-11-13 00:01:00     Prize     2513      2513            1\n",
       "11857    92295 1995-08-19 00:01:00     Prize     2513      2513            1\n",
       "16285   111596 1996-11-10 00:01:00     Prize     2513      2513            1\n",
       "19202   124197 1997-08-31 00:01:00     Prize      135       135            1\n",
       "40002   214703 2003-04-05 00:01:00     Prize     5030      5030            1\n",
       "46671   243705 2005-01-04 00:01:00     Prize     2513      2513            1\n",
       "50329   259605 2005-12-10 00:01:00     Prize     2513      2513            1\n",
       "55421   281707 2007-03-25 00:01:00     Prize     5030      5030            1\n",
       "61894   309908 2008-12-10 00:01:00     Prize     2513      2513            1\n",
       "64702   322109 2009-08-26 00:01:00     Prize      135       135            1\n",
       "66047   327909 2009-12-23 00:01:00     Prize     2513      2513            1\n",
       "72749   357111 2011-08-21 00:01:00     Prize     2513      2513            1\n",
       "73171   358911 2011-09-28 00:01:00     Prize     2513      2513            1\n",
       "87326   420415 2015-03-04 00:01:00     Prize     2513      2513            1\n",
       "92227   441716 2016-05-14 00:01:00     Prize      135       135            1\n",
       "99474   473218 2018-02-18 00:01:00     Prize      135       135            1\n",
       "106597  504219 2019-12-07 00:01:00     Prize     2513      2513            1\n",
       "106626  504319 2019-12-08 00:01:00     Prize     5030      5030            1\n",
       "106627  504319 2019-12-08 00:01:00     Prize     2513      2513            1\n",
       "106700  504719 2019-12-18 00:01:00     Prize      135       135            1\n",
       "106723  504819 2019-12-21 00:01:00     Prize     5030      5030            1\n",
       "106730  504819 2019-12-21 00:01:00     Prize      135       135            1"
      ]
     },
     "execution_count": 21,
     "metadata": {},
     "output_type": "execute_result"
    }
   ],
   "source": [
    "data[data['NumberId'].isin([135,2513,5030])]"
   ]
  },
  {
   "cell_type": "code",
   "execution_count": 22,
   "metadata": {
    "colab": {
     "base_uri": "https://localhost:8080/",
     "height": 0
    },
    "colab_type": "code",
    "id": "mslYCIBteuif",
    "outputId": "e5fb0a4a-b944-471c-f28f-0f793a7f9f2d"
   },
   "outputs": [
    {
     "data": {
      "text/plain": [
       "Text(0.5, 1.0, 'Label Distribution for May')"
      ]
     },
     "execution_count": 22,
     "metadata": {},
     "output_type": "execute_result"
    },
    {
     "data": {
      "image/png": "[encoded data removed]",
      "text/plain": [
       "<Figure size 432x288 with 1 Axes>"
      ]
     },
     "metadata": {},
     "output_type": "display_data"
    }
   ],
   "source": [
    "dec_2019['Label'].value_counts().plot.bar()\n",
    "plt.title('Label Distribution for May')"
   ]
  },
  {
   "cell_type": "code",
   "execution_count": 23,
   "metadata": {
    "colab": {},
    "colab_type": "code",
    "id": "yay4yhhxeuih"
   },
   "outputs": [],
   "source": [
    "CUT_OFF_YEAR=pd.datetime(2012, 1, 1)"
   ]
  },
  {
   "cell_type": "code",
   "execution_count": 24,
   "metadata": {
    "colab": {
     "base_uri": "https://localhost:8080/",
     "height": 0
    },
    "colab_type": "code",
    "id": "FRldQMdyeuik",
    "outputId": "9c0beeeb-5938-4c74-d493-a03482acfac2"
   },
   "outputs": [
    {
     "name": "stdout",
     "output_type": "stream",
     "text": [
      "Max month year: 2019-12-31 00:01:00\n",
      "Labels from 2012-01-01 00:00:00 to 2012-02-01 00:00:00\n",
      "Labels from 2012-02-01 00:00:00 to 2012-03-01 00:00:00\n",
      "Labels from 2012-03-01 00:00:00 to 2012-04-01 00:00:00\n",
      "Labels from 2012-04-01 00:00:00 to 2012-05-01 00:00:00\n",
      "Labels from 2012-05-01 00:00:00 to 2012-06-01 00:00:00\n",
      "Labels from 2012-06-01 00:00:00 to 2012-07-01 00:00:00\n",
      "Labels from 2012-07-01 00:00:00 to 2012-08-01 00:00:00\n",
      "Labels from 2012-08-01 00:00:00 to 2012-09-01 00:00:00\n",
      "Labels from 2012-09-01 00:00:00 to 2012-10-01 00:00:00\n",
      "Labels from 2012-10-01 00:00:00 to 2012-11-01 00:00:00\n",
      "Labels from 2012-11-01 00:00:00 to 2012-12-01 00:00:00\n",
      "Labels from 2012-12-01 00:00:00 to 2013-01-01 00:00:00\n",
      "Labels from 2013-01-01 00:00:00 to 2013-02-01 00:00:00\n",
      "Labels from 2013-02-01 00:00:00 to 2013-03-01 00:00:00\n",
      "Labels from 2013-03-01 00:00:00 to 2013-04-01 00:00:00\n",
      "Labels from 2013-04-01 00:00:00 to 2013-05-01 00:00:00\n",
      "Labels from 2013-05-01 00:00:00 to 2013-06-01 00:00:00\n",
      "Labels from 2013-06-01 00:00:00 to 2013-07-01 00:00:00\n",
      "Labels from 2013-07-01 00:00:00 to 2013-08-01 00:00:00\n",
      "Labels from 2013-08-01 00:00:00 to 2013-09-01 00:00:00\n",
      "Labels from 2013-09-01 00:00:00 to 2013-10-01 00:00:00\n",
      "Labels from 2013-10-01 00:00:00 to 2013-11-01 00:00:00\n",
      "Labels from 2013-11-01 00:00:00 to 2013-12-01 00:00:00\n",
      "Labels from 2013-12-01 00:00:00 to 2014-01-01 00:00:00\n",
      "Labels from 2014-01-01 00:00:00 to 2014-02-01 00:00:00\n",
      "Labels from 2014-02-01 00:00:00 to 2014-03-01 00:00:00\n",
      "Labels from 2014-03-01 00:00:00 to 2014-04-01 00:00:00\n",
      "Labels from 2014-04-01 00:00:00 to 2014-05-01 00:00:00\n",
      "Labels from 2014-05-01 00:00:00 to 2014-06-01 00:00:00\n",
      "Labels from 2014-06-01 00:00:00 to 2014-07-01 00:00:00\n",
      "Labels from 2014-07-01 00:00:00 to 2014-08-01 00:00:00\n",
      "Labels from 2014-08-01 00:00:00 to 2014-09-01 00:00:00\n",
      "Labels from 2014-09-01 00:00:00 to 2014-10-01 00:00:00\n",
      "Labels from 2014-10-01 00:00:00 to 2014-11-01 00:00:00\n",
      "Labels from 2014-11-01 00:00:00 to 2014-12-01 00:00:00\n",
      "Labels from 2014-12-01 00:00:00 to 2015-01-01 00:00:00\n",
      "Labels from 2015-01-01 00:00:00 to 2015-02-01 00:00:00\n",
      "Labels from 2015-02-01 00:00:00 to 2015-03-01 00:00:00\n",
      "Labels from 2015-03-01 00:00:00 to 2015-04-01 00:00:00\n",
      "Labels from 2015-04-01 00:00:00 to 2015-05-01 00:00:00\n",
      "Labels from 2015-05-01 00:00:00 to 2015-06-01 00:00:00\n",
      "Labels from 2015-06-01 00:00:00 to 2015-07-01 00:00:00\n",
      "Labels from 2015-07-01 00:00:00 to 2015-08-01 00:00:00\n",
      "Labels from 2015-08-01 00:00:00 to 2015-09-01 00:00:00\n",
      "Labels from 2015-09-01 00:00:00 to 2015-10-01 00:00:00\n",
      "Labels from 2015-10-01 00:00:00 to 2015-11-01 00:00:00\n",
      "Labels from 2015-11-01 00:00:00 to 2015-12-01 00:00:00\n",
      "Labels from 2015-12-01 00:00:00 to 2016-01-01 00:00:00\n",
      "Labels from 2016-01-01 00:00:00 to 2016-02-01 00:00:00\n",
      "Labels from 2016-02-01 00:00:00 to 2016-03-01 00:00:00\n",
      "Labels from 2016-03-01 00:00:00 to 2016-04-01 00:00:00\n",
      "Labels from 2016-04-01 00:00:00 to 2016-05-01 00:00:00\n",
      "Labels from 2016-05-01 00:00:00 to 2016-06-01 00:00:00\n",
      "Labels from 2016-06-01 00:00:00 to 2016-07-01 00:00:00\n",
      "Labels from 2016-07-01 00:00:00 to 2016-08-01 00:00:00\n",
      "Labels from 2016-08-01 00:00:00 to 2016-09-01 00:00:00\n",
      "Labels from 2016-09-01 00:00:00 to 2016-10-01 00:00:00\n",
      "Labels from 2016-10-01 00:00:00 to 2016-11-01 00:00:00\n",
      "Labels from 2016-11-01 00:00:00 to 2016-12-01 00:00:00\n",
      "Labels from 2016-12-01 00:00:00 to 2017-01-01 00:00:00\n",
      "Labels from 2017-01-01 00:00:00 to 2017-02-01 00:00:00\n",
      "Labels from 2017-02-01 00:00:00 to 2017-03-01 00:00:00\n",
      "Labels from 2017-03-01 00:00:00 to 2017-04-01 00:00:00\n",
      "Labels from 2017-04-01 00:00:00 to 2017-05-01 00:00:00\n",
      "Labels from 2017-05-01 00:00:00 to 2017-06-01 00:00:00\n",
      "Labels from 2017-06-01 00:00:00 to 2017-07-01 00:00:00\n",
      "Labels from 2017-07-01 00:00:00 to 2017-08-01 00:00:00\n",
      "Labels from 2017-08-01 00:00:00 to 2017-09-01 00:00:00\n",
      "Labels from 2017-09-01 00:00:00 to 2017-10-01 00:00:00\n",
      "Labels from 2017-10-01 00:00:00 to 2017-11-01 00:00:00\n",
      "Labels from 2017-11-01 00:00:00 to 2017-12-01 00:00:00\n",
      "Labels from 2017-12-01 00:00:00 to 2018-01-01 00:00:00\n",
      "Labels from 2018-01-01 00:00:00 to 2018-02-01 00:00:00\n",
      "Labels from 2018-02-01 00:00:00 to 2018-03-01 00:00:00\n",
      "Labels from 2018-03-01 00:00:00 to 2018-04-01 00:00:00\n",
      "Labels from 2018-04-01 00:00:00 to 2018-05-01 00:00:00\n",
      "Labels from 2018-05-01 00:00:00 to 2018-06-01 00:00:00\n",
      "Labels from 2018-06-01 00:00:00 to 2018-07-01 00:00:00\n",
      "Labels from 2018-07-01 00:00:00 to 2018-08-01 00:00:00\n",
      "Labels from 2018-08-01 00:00:00 to 2018-09-01 00:00:00\n",
      "Labels from 2018-09-01 00:00:00 to 2018-10-01 00:00:00\n",
      "Labels from 2018-10-01 00:00:00 to 2018-11-01 00:00:00\n",
      "Labels from 2018-11-01 00:00:00 to 2018-12-01 00:00:00\n",
      "Labels from 2018-12-01 00:00:00 to 2019-01-01 00:00:00\n",
      "Labels from 2019-01-01 00:00:00 to 2019-02-01 00:00:00\n",
      "Labels from 2019-02-01 00:00:00 to 2019-03-01 00:00:00\n",
      "Labels from 2019-03-01 00:00:00 to 2019-04-01 00:00:00\n",
      "Labels from 2019-04-01 00:00:00 to 2019-05-01 00:00:00\n",
      "Labels from 2019-05-01 00:00:00 to 2019-06-01 00:00:00\n",
      "Labels from 2019-06-01 00:00:00 to 2019-07-01 00:00:00\n",
      "Labels from 2019-07-01 00:00:00 to 2019-08-01 00:00:00\n",
      "Labels from 2019-08-01 00:00:00 to 2019-09-01 00:00:00\n",
      "Labels from 2019-09-01 00:00:00 to 2019-10-01 00:00:00\n",
      "Labels from 2019-10-01 00:00:00 to 2019-11-01 00:00:00\n",
      "Labels from 2019-11-01 00:00:00 to 2019-12-01 00:00:00\n",
      "Labels from 2019-12-01 00:00:00 to 2020-01-01 00:00:00\n",
      "Total draws: 1417\n",
      "Total draws: 1417\n",
      "Total months:96\n",
      "Total records count: 959893\n",
      "[9995, 9995, 9996, 9996, 9996, 9996, 9996, 9997, 9997, 9997, 9997, 9997, 9997, 9997, 9997, 9997, 9997, 9997, 9997, 9997, 9997, 9997, 9998, 9998, 9998, 9998, 9998, 9998, 9998, 9998, 9998, 9998, 9998, 9998, 9998, 9999, 9999, 9999, 9999, 9999, 9999, 10000, 10000, 10000, 10000, 10000, 10000, 10000, 10000, 10000, 10000, 10000, 10000, 10000, 10000, 10000, 10000, 10000, 10000, 10000, 10000, 10000, 10000, 10000, 10000, 10000, 10000, 10000, 10000, 10000, 10000, 10000, 10000, 10000, 10000, 10000, 10000, 10000, 10000, 10000, 10000, 10000, 10000, 10000, 10000, 10000, 10000, 10000, 10000, 10000, 10000, 10000, 10000, 10000, 10000, 10000]\n"
     ]
    }
   ],
   "source": [
    "## Loop through each month starting from CUT_OFF_YEAR\n",
    "\n",
    "# print(data['DrawDate'].max())\n",
    "max_year_month = data['DrawDate'].max() - relativedelta(months=1) + relativedelta(day=31)\n",
    "print(f\"Max month year: {max_year_month}\")\n",
    "\n",
    "start_year_month = CUT_OFF_YEAR\n",
    "\n",
    "months_data = []\n",
    "total_draws = 0\n",
    "while start_year_month < max_year_month:\n",
    "    start_date = start_year_month \n",
    "    end_date = start_date + relativedelta(months=1)\n",
    "    start_year_month = start_year_month + relativedelta(months=1)\n",
    "    print(f\"Labels from {start_date} to {end_date}\")\n",
    "    draw_count, month_data = make_cutoffs(start_date, end_date)\n",
    "    total_draws = total_draws + draw_count\n",
    "    months_data.append(month_data)\n",
    "\n",
    "print(f\"Total draws: {total_draws}\")\n",
    "print(f\"Total draws: {data[(data['DrawDate'] >= CUT_OFF_YEAR) & (data['DrawDate'] <= max_year_month)]['DrawDate'].nunique()}\")\n",
    "print(f\"Total months:{len(months_data)}\")\n",
    "print(f\"Total records count: {sum([len(l) for l in months_data])}\")\n",
    "print([len(l) for l in months_data])"
   ]
  },
  {
   "cell_type": "code",
   "execution_count": 25,
   "metadata": {
    "colab": {
     "base_uri": "https://localhost:8080/",
     "height": 0
    },
    "colab_type": "code",
    "id": "UVKdKkdReuir",
    "outputId": "10bdf18d-fddd-4bc0-9876-0b570a099c96"
   },
   "outputs": [
    {
     "data": {
      "text/html": [
       "<div>\n",
       "<style scoped>\n",
       "    .dataframe tbody tr th:only-of-type {\n",
       "        vertical-align: middle;\n",
       "    }\n",
       "\n",
       "    .dataframe tbody tr th {\n",
       "        vertical-align: top;\n",
       "    }\n",
       "\n",
       "    .dataframe thead th {\n",
       "        text-align: right;\n",
       "    }\n",
       "</style>\n",
       "<table border=\"1\" class=\"dataframe\">\n",
       "  <thead>\n",
       "    <tr style=\"text-align: right;\">\n",
       "      <th></th>\n",
       "      <th>NumberId</th>\n",
       "      <th>TotalStrike</th>\n",
       "      <th>Label</th>\n",
       "    </tr>\n",
       "  </thead>\n",
       "  <tbody>\n",
       "    <tr>\n",
       "      <th>count</th>\n",
       "      <td>959893.000000</td>\n",
       "      <td>959893.000000</td>\n",
       "      <td>959893.000000</td>\n",
       "    </tr>\n",
       "    <tr>\n",
       "      <th>mean</th>\n",
       "      <td>4999.183099</td>\n",
       "      <td>0.033948</td>\n",
       "      <td>0.033393</td>\n",
       "    </tr>\n",
       "    <tr>\n",
       "      <th>std</th>\n",
       "      <td>2886.681334</td>\n",
       "      <td>0.184152</td>\n",
       "      <td>0.179661</td>\n",
       "    </tr>\n",
       "    <tr>\n",
       "      <th>min</th>\n",
       "      <td>0.000000</td>\n",
       "      <td>0.000000</td>\n",
       "      <td>0.000000</td>\n",
       "    </tr>\n",
       "    <tr>\n",
       "      <th>25%</th>\n",
       "      <td>2499.000000</td>\n",
       "      <td>0.000000</td>\n",
       "      <td>0.000000</td>\n",
       "    </tr>\n",
       "    <tr>\n",
       "      <th>50%</th>\n",
       "      <td>4999.000000</td>\n",
       "      <td>0.000000</td>\n",
       "      <td>0.000000</td>\n",
       "    </tr>\n",
       "    <tr>\n",
       "      <th>75%</th>\n",
       "      <td>7499.000000</td>\n",
       "      <td>0.000000</td>\n",
       "      <td>0.000000</td>\n",
       "    </tr>\n",
       "    <tr>\n",
       "      <th>max</th>\n",
       "      <td>9999.000000</td>\n",
       "      <td>3.000000</td>\n",
       "      <td>1.000000</td>\n",
       "    </tr>\n",
       "  </tbody>\n",
       "</table>\n",
       "</div>"
      ],
      "text/plain": [
       "            NumberId    TotalStrike          Label\n",
       "count  959893.000000  959893.000000  959893.000000\n",
       "mean     4999.183099       0.033948       0.033393\n",
       "std      2886.681334       0.184152       0.179661\n",
       "min         0.000000       0.000000       0.000000\n",
       "25%      2499.000000       0.000000       0.000000\n",
       "50%      4999.000000       0.000000       0.000000\n",
       "75%      7499.000000       0.000000       0.000000\n",
       "max      9999.000000       3.000000       1.000000"
      ]
     },
     "execution_count": 25,
     "metadata": {},
     "output_type": "execute_result"
    }
   ],
   "source": [
    "labels = pd.concat(months_data)\n",
    "labels.to_csv(DATASET_PATH/'labels.csv')\n",
    "labels.describe()"
   ]
  },
  {
   "cell_type": "code",
   "execution_count": 26,
   "metadata": {
    "colab": {
     "base_uri": "https://localhost:8080/",
     "height": 0
    },
    "colab_type": "code",
    "id": "pn4ERZaweuiz",
    "outputId": "f0e1364c-4b43-4ab5-919b-26b3206857f5"
   },
   "outputs": [
    {
     "data": {
      "text/html": [
       "<div>\n",
       "<style scoped>\n",
       "    .dataframe tbody tr th:only-of-type {\n",
       "        vertical-align: middle;\n",
       "    }\n",
       "\n",
       "    .dataframe tbody tr th {\n",
       "        vertical-align: top;\n",
       "    }\n",
       "\n",
       "    .dataframe thead th {\n",
       "        text-align: right;\n",
       "    }\n",
       "</style>\n",
       "<table border=\"1\" class=\"dataframe\">\n",
       "  <thead>\n",
       "    <tr style=\"text-align: right;\">\n",
       "      <th></th>\n",
       "      <th>NumberId</th>\n",
       "      <th>cutoff_time</th>\n",
       "      <th>TotalStrike</th>\n",
       "      <th>Label</th>\n",
       "    </tr>\n",
       "  </thead>\n",
       "  <tbody>\n",
       "    <tr>\n",
       "      <th>307</th>\n",
       "      <td>9016</td>\n",
       "      <td>2014-10-01</td>\n",
       "      <td>1.0</td>\n",
       "      <td>1</td>\n",
       "    </tr>\n",
       "    <tr>\n",
       "      <th>305</th>\n",
       "      <td>9016</td>\n",
       "      <td>2016-05-01</td>\n",
       "      <td>1.0</td>\n",
       "      <td>1</td>\n",
       "    </tr>\n",
       "  </tbody>\n",
       "</table>\n",
       "</div>"
      ],
      "text/plain": [
       "     NumberId cutoff_time  TotalStrike  Label\n",
       "307      9016  2014-10-01          1.0      1\n",
       "305      9016  2016-05-01          1.0      1"
      ]
     },
     "execution_count": 26,
     "metadata": {},
     "output_type": "execute_result"
    }
   ],
   "source": [
    "labels[(labels['NumberId'] == 9016)  & (labels['Label'] > 0)]"
   ]
  },
  {
   "cell_type": "code",
   "execution_count": 27,
   "metadata": {
    "colab": {
     "base_uri": "https://localhost:8080/",
     "height": 0
    },
    "colab_type": "code",
    "id": "tYqyvoCeeui1",
    "outputId": "d38c8cad-51e0-4978-efb4-f788fb37e919"
   },
   "outputs": [
    {
     "data": {
      "image/png": "[encoded data removed]",
      "text/plain": [
       "<Figure size 432x288 with 1 Axes>"
      ]
     },
     "metadata": {},
     "output_type": "display_data"
    }
   ],
   "source": [
    "labels.loc[labels['NumberId'] == 9016].set_index('cutoff_time')['TotalStrike'].plot(figsize = (6, 4), linewidth = 3)\n",
    "plt.xlabel('Date', size = 16); \n",
    "plt.ylabel('Total Strike', size = 16); \n",
    "plt.title('Draw', size = 20);\n",
    "plt.xticks(size = 16); plt.yticks(size = 16);"
   ]
  },
  {
   "cell_type": "code",
   "execution_count": 28,
   "metadata": {
    "colab": {
     "base_uri": "https://localhost:8080/",
     "height": 0
    },
    "colab_type": "code",
    "id": "iyAGwDhNeui4",
    "outputId": "9e2f5aa3-e05d-4adf-ea3b-6d3c48226349"
   },
   "outputs": [
    {
     "data": {
      "text/html": [
       "<div>\n",
       "<style scoped>\n",
       "    .dataframe tbody tr th:only-of-type {\n",
       "        vertical-align: middle;\n",
       "    }\n",
       "\n",
       "    .dataframe tbody tr th {\n",
       "        vertical-align: top;\n",
       "    }\n",
       "\n",
       "    .dataframe thead th {\n",
       "        text-align: right;\n",
       "    }\n",
       "</style>\n",
       "<table border=\"1\" class=\"dataframe\">\n",
       "  <thead>\n",
       "    <tr style=\"text-align: right;\">\n",
       "      <th></th>\n",
       "      <th>NumberId</th>\n",
       "      <th>cutoff_time</th>\n",
       "      <th>TotalStrike</th>\n",
       "      <th>Label</th>\n",
       "    </tr>\n",
       "  </thead>\n",
       "  <tbody>\n",
       "    <tr>\n",
       "      <th>9990</th>\n",
       "      <td>4949</td>\n",
       "      <td>2019-12-01</td>\n",
       "      <td>0.0</td>\n",
       "      <td>0</td>\n",
       "    </tr>\n",
       "    <tr>\n",
       "      <th>9991</th>\n",
       "      <td>3479</td>\n",
       "      <td>2019-12-01</td>\n",
       "      <td>0.0</td>\n",
       "      <td>0</td>\n",
       "    </tr>\n",
       "    <tr>\n",
       "      <th>9992</th>\n",
       "      <td>6512</td>\n",
       "      <td>2019-12-01</td>\n",
       "      <td>0.0</td>\n",
       "      <td>0</td>\n",
       "    </tr>\n",
       "    <tr>\n",
       "      <th>9993</th>\n",
       "      <td>4996</td>\n",
       "      <td>2019-12-01</td>\n",
       "      <td>0.0</td>\n",
       "      <td>0</td>\n",
       "    </tr>\n",
       "    <tr>\n",
       "      <th>9994</th>\n",
       "      <td>3852</td>\n",
       "      <td>2019-12-01</td>\n",
       "      <td>0.0</td>\n",
       "      <td>0</td>\n",
       "    </tr>\n",
       "    <tr>\n",
       "      <th>9995</th>\n",
       "      <td>7940</td>\n",
       "      <td>2019-12-01</td>\n",
       "      <td>0.0</td>\n",
       "      <td>0</td>\n",
       "    </tr>\n",
       "    <tr>\n",
       "      <th>9996</th>\n",
       "      <td>5407</td>\n",
       "      <td>2019-12-01</td>\n",
       "      <td>0.0</td>\n",
       "      <td>0</td>\n",
       "    </tr>\n",
       "    <tr>\n",
       "      <th>9997</th>\n",
       "      <td>7709</td>\n",
       "      <td>2019-12-01</td>\n",
       "      <td>0.0</td>\n",
       "      <td>0</td>\n",
       "    </tr>\n",
       "    <tr>\n",
       "      <th>9998</th>\n",
       "      <td>9659</td>\n",
       "      <td>2019-12-01</td>\n",
       "      <td>0.0</td>\n",
       "      <td>0</td>\n",
       "    </tr>\n",
       "    <tr>\n",
       "      <th>9999</th>\n",
       "      <td>5488</td>\n",
       "      <td>2019-12-01</td>\n",
       "      <td>0.0</td>\n",
       "      <td>0</td>\n",
       "    </tr>\n",
       "  </tbody>\n",
       "</table>\n",
       "</div>"
      ],
      "text/plain": [
       "      NumberId cutoff_time  TotalStrike  Label\n",
       "9990      4949  2019-12-01          0.0      0\n",
       "9991      3479  2019-12-01          0.0      0\n",
       "9992      6512  2019-12-01          0.0      0\n",
       "9993      4996  2019-12-01          0.0      0\n",
       "9994      3852  2019-12-01          0.0      0\n",
       "9995      7940  2019-12-01          0.0      0\n",
       "9996      5407  2019-12-01          0.0      0\n",
       "9997      7709  2019-12-01          0.0      0\n",
       "9998      9659  2019-12-01          0.0      0\n",
       "9999      5488  2019-12-01          0.0      0"
      ]
     },
     "execution_count": 28,
     "metadata": {},
     "output_type": "execute_result"
    }
   ],
   "source": [
    "labels.tail(10)"
   ]
  },
  {
   "cell_type": "markdown",
   "metadata": {
    "colab_type": "text",
    "id": "stLvE4bspqbx"
   },
   "source": [
    "## Automated Feature Engineering"
   ]
  },
  {
   "cell_type": "code",
   "execution_count": 29,
   "metadata": {
    "colab": {
     "base_uri": "https://localhost:8080/",
     "height": 0
    },
    "colab_type": "code",
    "id": "ACOmTMZQpqbz",
    "outputId": "bdf4da07-657d-4783-f519-83c3b16ebbb2"
   },
   "outputs": [
    {
     "name": "stdout",
     "output_type": "stream",
     "text": [
      "2020-01-11 20:22:14,718 featuretools.entityset - WARNING    index results_index not found in dataframe, creating new integer column\n"
     ]
    },
    {
     "data": {
      "text/plain": [
       "Entity: Results\n",
       "  Variables:\n",
       "    results_index (dtype: index)\n",
       "    DrawNo (dtype: numeric)\n",
       "    DrawDate (dtype: datetime_time_index)\n",
       "    PrizeType (dtype: categorical)\n",
       "    LuckyNo (dtype: numeric)\n",
       "    NumberId (dtype: numeric)\n",
       "    TotalStrike (dtype: numeric)\n",
       "  Shape:\n",
       "    (Rows: 106858, Columns: 7)"
      ]
     },
     "execution_count": 29,
     "metadata": {},
     "output_type": "execute_result"
    }
   ],
   "source": [
    "es = ft.EntitySet(id=\"Lotto Results\")\n",
    "\n",
    "# Add the entire data table as an entity\n",
    "es.entity_from_dataframe(\"Results\",\n",
    "                         dataframe=data,\n",
    "                         index=\"results_index\",\n",
    "                         time_index = 'DrawDate')\n",
    "\n",
    "es['Results']"
   ]
  },
  {
   "cell_type": "code",
   "execution_count": 30,
   "metadata": {
    "colab": {
     "base_uri": "https://localhost:8080/",
     "height": 0
    },
    "colab_type": "code",
    "id": "aG9Bvh9keui9",
    "outputId": "8e8519f9-653d-47e8-dd9d-13a514120820"
   },
   "outputs": [
    {
     "data": {
      "text/plain": [
       "Entityset: Lotto Results\n",
       "  Entities:\n",
       "    Results [Rows: 106858, Columns: 7]\n",
       "    Numbers [Rows: 10000, Columns: 2]\n",
       "  Relationships:\n",
       "    Results.NumberId -> Numbers.NumberId"
      ]
     },
     "execution_count": 30,
     "metadata": {},
     "output_type": "execute_result"
    }
   ],
   "source": [
    "es.normalize_entity(new_entity_id=\"Numbers\",\n",
    "                    base_entity_id=\"Results\",\n",
    "                    index=\"NumberId\",\n",
    "                    )"
   ]
  },
  {
   "cell_type": "code",
   "execution_count": 31,
   "metadata": {
    "colab": {
     "base_uri": "https://localhost:8080/",
     "height": 0
    },
    "colab_type": "code",
    "id": "qVb6QmM6eui_",
    "outputId": "b27968ab-4487-4c83-ef83-b1b900ec133c"
   },
   "outputs": [
    {
     "data": {
      "text/plain": [
       "Entityset: Lotto Results\n",
       "  Entities:\n",
       "    Results [Rows: 106858, Columns: 7]\n",
       "    Numbers [Rows: 10000, Columns: 2]\n",
       "  Relationships:\n",
       "    Results.NumberId -> Numbers.NumberId"
      ]
     },
     "execution_count": 31,
     "metadata": {},
     "output_type": "execute_result"
    }
   ],
   "source": [
    "es"
   ]
  },
  {
   "cell_type": "code",
   "execution_count": 32,
   "metadata": {
    "colab": {
     "base_uri": "https://localhost:8080/",
     "height": 0
    },
    "colab_type": "code",
    "id": "dtCMg6OgeujB",
    "outputId": "0ee15606-fd83-4634-f7f6-354fbca3a80c"
   },
   "outputs": [
    {
     "data": {
      "text/html": [
       "<div>\n",
       "<style scoped>\n",
       "    .dataframe tbody tr th:only-of-type {\n",
       "        vertical-align: middle;\n",
       "    }\n",
       "\n",
       "    .dataframe tbody tr th {\n",
       "        vertical-align: top;\n",
       "    }\n",
       "\n",
       "    .dataframe thead th {\n",
       "        text-align: right;\n",
       "    }\n",
       "</style>\n",
       "<table border=\"1\" class=\"dataframe\">\n",
       "  <thead>\n",
       "    <tr style=\"text-align: right;\">\n",
       "      <th></th>\n",
       "      <th>NumberId</th>\n",
       "      <th>first_Results_time</th>\n",
       "    </tr>\n",
       "  </thead>\n",
       "  <tbody>\n",
       "    <tr>\n",
       "      <th>19</th>\n",
       "      <td>19</td>\n",
       "      <td>1992-05-06 00:01:00</td>\n",
       "    </tr>\n",
       "    <tr>\n",
       "      <th>1124</th>\n",
       "      <td>1124</td>\n",
       "      <td>1992-05-06 00:01:00</td>\n",
       "    </tr>\n",
       "    <tr>\n",
       "      <th>592</th>\n",
       "      <td>592</td>\n",
       "      <td>1992-05-06 00:01:00</td>\n",
       "    </tr>\n",
       "    <tr>\n",
       "      <th>5311</th>\n",
       "      <td>5311</td>\n",
       "      <td>1992-05-06 00:01:00</td>\n",
       "    </tr>\n",
       "    <tr>\n",
       "      <th>407</th>\n",
       "      <td>407</td>\n",
       "      <td>1992-05-06 00:01:00</td>\n",
       "    </tr>\n",
       "    <tr>\n",
       "      <th>1949</th>\n",
       "      <td>1949</td>\n",
       "      <td>1992-05-06 00:01:00</td>\n",
       "    </tr>\n",
       "    <tr>\n",
       "      <th>1606</th>\n",
       "      <td>1606</td>\n",
       "      <td>1992-05-06 00:01:00</td>\n",
       "    </tr>\n",
       "    <tr>\n",
       "      <th>3775</th>\n",
       "      <td>3775</td>\n",
       "      <td>1992-05-06 00:01:00</td>\n",
       "    </tr>\n",
       "    <tr>\n",
       "      <th>6226</th>\n",
       "      <td>6226</td>\n",
       "      <td>1992-05-06 00:01:00</td>\n",
       "    </tr>\n",
       "    <tr>\n",
       "      <th>1271</th>\n",
       "      <td>1271</td>\n",
       "      <td>1992-05-06 00:01:00</td>\n",
       "    </tr>\n",
       "    <tr>\n",
       "      <th>7455</th>\n",
       "      <td>7455</td>\n",
       "      <td>1992-05-06 00:01:00</td>\n",
       "    </tr>\n",
       "    <tr>\n",
       "      <th>7227</th>\n",
       "      <td>7227</td>\n",
       "      <td>1992-05-06 00:01:00</td>\n",
       "    </tr>\n",
       "    <tr>\n",
       "      <th>9258</th>\n",
       "      <td>9258</td>\n",
       "      <td>1992-05-06 00:01:00</td>\n",
       "    </tr>\n",
       "    <tr>\n",
       "      <th>950</th>\n",
       "      <td>950</td>\n",
       "      <td>1992-05-06 00:01:00</td>\n",
       "    </tr>\n",
       "    <tr>\n",
       "      <th>5301</th>\n",
       "      <td>5301</td>\n",
       "      <td>1992-05-06 00:01:00</td>\n",
       "    </tr>\n",
       "    <tr>\n",
       "      <th>2479</th>\n",
       "      <td>2479</td>\n",
       "      <td>1992-05-06 00:01:00</td>\n",
       "    </tr>\n",
       "    <tr>\n",
       "      <th>7139</th>\n",
       "      <td>7139</td>\n",
       "      <td>1992-05-06 00:01:00</td>\n",
       "    </tr>\n",
       "    <tr>\n",
       "      <th>3114</th>\n",
       "      <td>3114</td>\n",
       "      <td>1992-05-06 00:01:00</td>\n",
       "    </tr>\n",
       "    <tr>\n",
       "      <th>4609</th>\n",
       "      <td>4609</td>\n",
       "      <td>1992-05-06 00:01:00</td>\n",
       "    </tr>\n",
       "    <tr>\n",
       "      <th>7836</th>\n",
       "      <td>7836</td>\n",
       "      <td>1992-05-06 00:01:00</td>\n",
       "    </tr>\n",
       "    <tr>\n",
       "      <th>8981</th>\n",
       "      <td>8981</td>\n",
       "      <td>1992-05-06 00:01:00</td>\n",
       "    </tr>\n",
       "    <tr>\n",
       "      <th>4465</th>\n",
       "      <td>4465</td>\n",
       "      <td>1992-05-06 00:01:00</td>\n",
       "    </tr>\n",
       "    <tr>\n",
       "      <th>6114</th>\n",
       "      <td>6114</td>\n",
       "      <td>1992-05-06 00:01:00</td>\n",
       "    </tr>\n",
       "    <tr>\n",
       "      <th>905</th>\n",
       "      <td>905</td>\n",
       "      <td>1992-05-07 00:01:00</td>\n",
       "    </tr>\n",
       "  </tbody>\n",
       "</table>\n",
       "</div>"
      ],
      "text/plain": [
       "      NumberId  first_Results_time\n",
       "19          19 1992-05-06 00:01:00\n",
       "1124      1124 1992-05-06 00:01:00\n",
       "592        592 1992-05-06 00:01:00\n",
       "5311      5311 1992-05-06 00:01:00\n",
       "407        407 1992-05-06 00:01:00\n",
       "1949      1949 1992-05-06 00:01:00\n",
       "1606      1606 1992-05-06 00:01:00\n",
       "3775      3775 1992-05-06 00:01:00\n",
       "6226      6226 1992-05-06 00:01:00\n",
       "1271      1271 1992-05-06 00:01:00\n",
       "7455      7455 1992-05-06 00:01:00\n",
       "7227      7227 1992-05-06 00:01:00\n",
       "9258      9258 1992-05-06 00:01:00\n",
       "950        950 1992-05-06 00:01:00\n",
       "5301      5301 1992-05-06 00:01:00\n",
       "2479      2479 1992-05-06 00:01:00\n",
       "7139      7139 1992-05-06 00:01:00\n",
       "3114      3114 1992-05-06 00:01:00\n",
       "4609      4609 1992-05-06 00:01:00\n",
       "7836      7836 1992-05-06 00:01:00\n",
       "8981      8981 1992-05-06 00:01:00\n",
       "4465      4465 1992-05-06 00:01:00\n",
       "6114      6114 1992-05-06 00:01:00\n",
       "905        905 1992-05-07 00:01:00"
      ]
     },
     "execution_count": 32,
     "metadata": {},
     "output_type": "execute_result"
    }
   ],
   "source": [
    "es['Numbers'].df.head(24)"
   ]
  },
  {
   "cell_type": "code",
   "execution_count": 33,
   "metadata": {
    "colab": {
     "base_uri": "https://localhost:8080/",
     "height": 0
    },
    "colab_type": "code",
    "id": "pesqNguDeujD",
    "outputId": "0b30a19b-3fe4-4ecf-8bf5-671be45b90ad"
   },
   "outputs": [
    {
     "data": {
      "text/html": [
       "<div>\n",
       "<style scoped>\n",
       "    .dataframe tbody tr th:only-of-type {\n",
       "        vertical-align: middle;\n",
       "    }\n",
       "\n",
       "    .dataframe tbody tr th {\n",
       "        vertical-align: top;\n",
       "    }\n",
       "\n",
       "    .dataframe thead th {\n",
       "        text-align: right;\n",
       "    }\n",
       "</style>\n",
       "<table border=\"1\" class=\"dataframe\">\n",
       "  <thead>\n",
       "    <tr style=\"text-align: right;\">\n",
       "      <th></th>\n",
       "      <th>results_index</th>\n",
       "      <th>DrawNo</th>\n",
       "      <th>DrawDate</th>\n",
       "      <th>PrizeType</th>\n",
       "      <th>LuckyNo</th>\n",
       "      <th>NumberId</th>\n",
       "      <th>TotalStrike</th>\n",
       "    </tr>\n",
       "  </thead>\n",
       "  <tbody>\n",
       "    <tr>\n",
       "      <th>0</th>\n",
       "      <td>0</td>\n",
       "      <td>40792</td>\n",
       "      <td>1992-05-06 00:01:00</td>\n",
       "      <td>Prize</td>\n",
       "      <td>19</td>\n",
       "      <td>19</td>\n",
       "      <td>1</td>\n",
       "    </tr>\n",
       "    <tr>\n",
       "      <th>1</th>\n",
       "      <td>1</td>\n",
       "      <td>40792</td>\n",
       "      <td>1992-05-06 00:01:00</td>\n",
       "      <td>Prize</td>\n",
       "      <td>1124</td>\n",
       "      <td>1124</td>\n",
       "      <td>1</td>\n",
       "    </tr>\n",
       "    <tr>\n",
       "      <th>2</th>\n",
       "      <td>2</td>\n",
       "      <td>40792</td>\n",
       "      <td>1992-05-06 00:01:00</td>\n",
       "      <td>Prize</td>\n",
       "      <td>592</td>\n",
       "      <td>592</td>\n",
       "      <td>1</td>\n",
       "    </tr>\n",
       "    <tr>\n",
       "      <th>3</th>\n",
       "      <td>3</td>\n",
       "      <td>40792</td>\n",
       "      <td>1992-05-06 00:01:00</td>\n",
       "      <td>Prize</td>\n",
       "      <td>5311</td>\n",
       "      <td>5311</td>\n",
       "      <td>1</td>\n",
       "    </tr>\n",
       "    <tr>\n",
       "      <th>4</th>\n",
       "      <td>4</td>\n",
       "      <td>40792</td>\n",
       "      <td>1992-05-06 00:01:00</td>\n",
       "      <td>Prize</td>\n",
       "      <td>407</td>\n",
       "      <td>407</td>\n",
       "      <td>1</td>\n",
       "    </tr>\n",
       "    <tr>\n",
       "      <th>5</th>\n",
       "      <td>5</td>\n",
       "      <td>40792</td>\n",
       "      <td>1992-05-06 00:01:00</td>\n",
       "      <td>Prize</td>\n",
       "      <td>1949</td>\n",
       "      <td>1949</td>\n",
       "      <td>1</td>\n",
       "    </tr>\n",
       "    <tr>\n",
       "      <th>6</th>\n",
       "      <td>6</td>\n",
       "      <td>40792</td>\n",
       "      <td>1992-05-06 00:01:00</td>\n",
       "      <td>Prize</td>\n",
       "      <td>1606</td>\n",
       "      <td>1606</td>\n",
       "      <td>1</td>\n",
       "    </tr>\n",
       "    <tr>\n",
       "      <th>7</th>\n",
       "      <td>7</td>\n",
       "      <td>40792</td>\n",
       "      <td>1992-05-06 00:01:00</td>\n",
       "      <td>Prize</td>\n",
       "      <td>3775</td>\n",
       "      <td>3775</td>\n",
       "      <td>1</td>\n",
       "    </tr>\n",
       "    <tr>\n",
       "      <th>8</th>\n",
       "      <td>8</td>\n",
       "      <td>40792</td>\n",
       "      <td>1992-05-06 00:01:00</td>\n",
       "      <td>Prize</td>\n",
       "      <td>6226</td>\n",
       "      <td>6226</td>\n",
       "      <td>1</td>\n",
       "    </tr>\n",
       "    <tr>\n",
       "      <th>9</th>\n",
       "      <td>9</td>\n",
       "      <td>40792</td>\n",
       "      <td>1992-05-06 00:01:00</td>\n",
       "      <td>Prize</td>\n",
       "      <td>1271</td>\n",
       "      <td>1271</td>\n",
       "      <td>1</td>\n",
       "    </tr>\n",
       "    <tr>\n",
       "      <th>10</th>\n",
       "      <td>10</td>\n",
       "      <td>40792</td>\n",
       "      <td>1992-05-06 00:01:00</td>\n",
       "      <td>Prize</td>\n",
       "      <td>7455</td>\n",
       "      <td>7455</td>\n",
       "      <td>1</td>\n",
       "    </tr>\n",
       "    <tr>\n",
       "      <th>11</th>\n",
       "      <td>11</td>\n",
       "      <td>40792</td>\n",
       "      <td>1992-05-06 00:01:00</td>\n",
       "      <td>Prize</td>\n",
       "      <td>7227</td>\n",
       "      <td>7227</td>\n",
       "      <td>1</td>\n",
       "    </tr>\n",
       "    <tr>\n",
       "      <th>12</th>\n",
       "      <td>12</td>\n",
       "      <td>40792</td>\n",
       "      <td>1992-05-06 00:01:00</td>\n",
       "      <td>Prize</td>\n",
       "      <td>9258</td>\n",
       "      <td>9258</td>\n",
       "      <td>1</td>\n",
       "    </tr>\n",
       "    <tr>\n",
       "      <th>13</th>\n",
       "      <td>13</td>\n",
       "      <td>40792</td>\n",
       "      <td>1992-05-06 00:01:00</td>\n",
       "      <td>Prize</td>\n",
       "      <td>950</td>\n",
       "      <td>950</td>\n",
       "      <td>1</td>\n",
       "    </tr>\n",
       "    <tr>\n",
       "      <th>14</th>\n",
       "      <td>14</td>\n",
       "      <td>40792</td>\n",
       "      <td>1992-05-06 00:01:00</td>\n",
       "      <td>Prize</td>\n",
       "      <td>5301</td>\n",
       "      <td>5301</td>\n",
       "      <td>1</td>\n",
       "    </tr>\n",
       "    <tr>\n",
       "      <th>15</th>\n",
       "      <td>15</td>\n",
       "      <td>40792</td>\n",
       "      <td>1992-05-06 00:01:00</td>\n",
       "      <td>Prize</td>\n",
       "      <td>2479</td>\n",
       "      <td>2479</td>\n",
       "      <td>1</td>\n",
       "    </tr>\n",
       "    <tr>\n",
       "      <th>16</th>\n",
       "      <td>16</td>\n",
       "      <td>40792</td>\n",
       "      <td>1992-05-06 00:01:00</td>\n",
       "      <td>Prize</td>\n",
       "      <td>7139</td>\n",
       "      <td>7139</td>\n",
       "      <td>1</td>\n",
       "    </tr>\n",
       "    <tr>\n",
       "      <th>17</th>\n",
       "      <td>17</td>\n",
       "      <td>40792</td>\n",
       "      <td>1992-05-06 00:01:00</td>\n",
       "      <td>Prize</td>\n",
       "      <td>3114</td>\n",
       "      <td>3114</td>\n",
       "      <td>1</td>\n",
       "    </tr>\n",
       "    <tr>\n",
       "      <th>18</th>\n",
       "      <td>18</td>\n",
       "      <td>40792</td>\n",
       "      <td>1992-05-06 00:01:00</td>\n",
       "      <td>Prize</td>\n",
       "      <td>4609</td>\n",
       "      <td>4609</td>\n",
       "      <td>1</td>\n",
       "    </tr>\n",
       "    <tr>\n",
       "      <th>19</th>\n",
       "      <td>19</td>\n",
       "      <td>40792</td>\n",
       "      <td>1992-05-06 00:01:00</td>\n",
       "      <td>Prize</td>\n",
       "      <td>7836</td>\n",
       "      <td>7836</td>\n",
       "      <td>1</td>\n",
       "    </tr>\n",
       "    <tr>\n",
       "      <th>20</th>\n",
       "      <td>20</td>\n",
       "      <td>40792</td>\n",
       "      <td>1992-05-06 00:01:00</td>\n",
       "      <td>Prize</td>\n",
       "      <td>8981</td>\n",
       "      <td>8981</td>\n",
       "      <td>1</td>\n",
       "    </tr>\n",
       "    <tr>\n",
       "      <th>21</th>\n",
       "      <td>21</td>\n",
       "      <td>40792</td>\n",
       "      <td>1992-05-06 00:01:00</td>\n",
       "      <td>Prize</td>\n",
       "      <td>4465</td>\n",
       "      <td>4465</td>\n",
       "      <td>1</td>\n",
       "    </tr>\n",
       "    <tr>\n",
       "      <th>22</th>\n",
       "      <td>22</td>\n",
       "      <td>40792</td>\n",
       "      <td>1992-05-06 00:01:00</td>\n",
       "      <td>Prize</td>\n",
       "      <td>6114</td>\n",
       "      <td>6114</td>\n",
       "      <td>1</td>\n",
       "    </tr>\n",
       "    <tr>\n",
       "      <th>23</th>\n",
       "      <td>23</td>\n",
       "      <td>40892</td>\n",
       "      <td>1992-05-07 00:01:00</td>\n",
       "      <td>Prize</td>\n",
       "      <td>905</td>\n",
       "      <td>905</td>\n",
       "      <td>1</td>\n",
       "    </tr>\n",
       "  </tbody>\n",
       "</table>\n",
       "</div>"
      ],
      "text/plain": [
       "    results_index  DrawNo            DrawDate PrizeType  LuckyNo  NumberId  \\\n",
       "0               0   40792 1992-05-06 00:01:00     Prize       19        19   \n",
       "1               1   40792 1992-05-06 00:01:00     Prize     1124      1124   \n",
       "2               2   40792 1992-05-06 00:01:00     Prize      592       592   \n",
       "3               3   40792 1992-05-06 00:01:00     Prize     5311      5311   \n",
       "4               4   40792 1992-05-06 00:01:00     Prize      407       407   \n",
       "5               5   40792 1992-05-06 00:01:00     Prize     1949      1949   \n",
       "6               6   40792 1992-05-06 00:01:00     Prize     1606      1606   \n",
       "7               7   40792 1992-05-06 00:01:00     Prize     3775      3775   \n",
       "8               8   40792 1992-05-06 00:01:00     Prize     6226      6226   \n",
       "9               9   40792 1992-05-06 00:01:00     Prize     1271      1271   \n",
       "10             10   40792 1992-05-06 00:01:00     Prize     7455      7455   \n",
       "11             11   40792 1992-05-06 00:01:00     Prize     7227      7227   \n",
       "12             12   40792 1992-05-06 00:01:00     Prize     9258      9258   \n",
       "13             13   40792 1992-05-06 00:01:00     Prize      950       950   \n",
       "14             14   40792 1992-05-06 00:01:00     Prize     5301      5301   \n",
       "15             15   40792 1992-05-06 00:01:00     Prize     2479      2479   \n",
       "16             16   40792 1992-05-06 00:01:00     Prize     7139      7139   \n",
       "17             17   40792 1992-05-06 00:01:00     Prize     3114      3114   \n",
       "18             18   40792 1992-05-06 00:01:00     Prize     4609      4609   \n",
       "19             19   40792 1992-05-06 00:01:00     Prize     7836      7836   \n",
       "20             20   40792 1992-05-06 00:01:00     Prize     8981      8981   \n",
       "21             21   40792 1992-05-06 00:01:00     Prize     4465      4465   \n",
       "22             22   40792 1992-05-06 00:01:00     Prize     6114      6114   \n",
       "23             23   40892 1992-05-07 00:01:00     Prize      905       905   \n",
       "\n",
       "    TotalStrike  \n",
       "0             1  \n",
       "1             1  \n",
       "2             1  \n",
       "3             1  \n",
       "4             1  \n",
       "5             1  \n",
       "6             1  \n",
       "7             1  \n",
       "8             1  \n",
       "9             1  \n",
       "10            1  \n",
       "11            1  \n",
       "12            1  \n",
       "13            1  \n",
       "14            1  \n",
       "15            1  \n",
       "16            1  \n",
       "17            1  \n",
       "18            1  \n",
       "19            1  \n",
       "20            1  \n",
       "21            1  \n",
       "22            1  \n",
       "23            1  "
      ]
     },
     "execution_count": 33,
     "metadata": {},
     "output_type": "execute_result"
    }
   ],
   "source": [
    "es['Results'].df.head(24)"
   ]
  },
  {
   "cell_type": "code",
   "execution_count": 34,
   "metadata": {
    "colab": {
     "base_uri": "https://localhost:8080/",
     "height": 0
    },
    "colab_type": "code",
    "id": "Q4B-Isg5hob-",
    "outputId": "119a9d4f-d8fd-482f-a989-f249ca06639d"
   },
   "outputs": [
    {
     "data": {
      "text/plain": [
       "106858"
      ]
     },
     "execution_count": 34,
     "metadata": {},
     "output_type": "execute_result"
    }
   ],
   "source": [
    "len(es['Results'].df)"
   ]
  },
  {
   "cell_type": "markdown",
   "metadata": {
    "colab_type": "text",
    "id": "UgUuD752eujH"
   },
   "source": [
    "## Deep Feature Synthesis"
   ]
  },
  {
   "cell_type": "code",
   "execution_count": 35,
   "metadata": {
    "colab": {
     "base_uri": "https://localhost:8080/",
     "height": 281
    },
    "colab_type": "code",
    "id": "-CBGKZuKeujH",
    "outputId": "a017f4a5-6e48-4c4d-ae28-7822a85eb1db"
   },
   "outputs": [
    {
     "name": "stdout",
     "output_type": "stream",
     "text": [
      "0.13.1\n"
     ]
    },
    {
     "data": {
      "text/html": [
       "<div>\n",
       "<style scoped>\n",
       "    .dataframe tbody tr th:only-of-type {\n",
       "        vertical-align: middle;\n",
       "    }\n",
       "\n",
       "    .dataframe tbody tr th {\n",
       "        vertical-align: top;\n",
       "    }\n",
       "\n",
       "    .dataframe thead th {\n",
       "        text-align: right;\n",
       "    }\n",
       "</style>\n",
       "<table border=\"1\" class=\"dataframe\">\n",
       "  <thead>\n",
       "    <tr style=\"text-align: right;\">\n",
       "      <th></th>\n",
       "      <th>0</th>\n",
       "      <th>1</th>\n",
       "      <th>2</th>\n",
       "      <th>3</th>\n",
       "      <th>4</th>\n",
       "      <th>5</th>\n",
       "      <th>6</th>\n",
       "      <th>7</th>\n",
       "      <th>8</th>\n",
       "      <th>9</th>\n",
       "      <th>...</th>\n",
       "      <th>68</th>\n",
       "      <th>69</th>\n",
       "      <th>70</th>\n",
       "      <th>71</th>\n",
       "      <th>72</th>\n",
       "      <th>73</th>\n",
       "      <th>74</th>\n",
       "      <th>75</th>\n",
       "      <th>76</th>\n",
       "      <th>77</th>\n",
       "    </tr>\n",
       "  </thead>\n",
       "  <tbody>\n",
       "    <tr>\n",
       "      <th>name</th>\n",
       "      <td>trend</td>\n",
       "      <td>min</td>\n",
       "      <td>time_since_last</td>\n",
       "      <td>mean</td>\n",
       "      <td>any</td>\n",
       "      <td>first</td>\n",
       "      <td>n_most_common</td>\n",
       "      <td>skew</td>\n",
       "      <td>num_true</td>\n",
       "      <td>max</td>\n",
       "      <td>...</td>\n",
       "      <td>year</td>\n",
       "      <td>day</td>\n",
       "      <td>cum_sum</td>\n",
       "      <td>divide_numeric</td>\n",
       "      <td>and</td>\n",
       "      <td>equal_scalar</td>\n",
       "      <td>not</td>\n",
       "      <td>absolute</td>\n",
       "      <td>multiply_numeric_scalar</td>\n",
       "      <td>less_than_equal_to_scalar</td>\n",
       "    </tr>\n",
       "    <tr>\n",
       "      <th>type</th>\n",
       "      <td>aggregation</td>\n",
       "      <td>aggregation</td>\n",
       "      <td>aggregation</td>\n",
       "      <td>aggregation</td>\n",
       "      <td>aggregation</td>\n",
       "      <td>aggregation</td>\n",
       "      <td>aggregation</td>\n",
       "      <td>aggregation</td>\n",
       "      <td>aggregation</td>\n",
       "      <td>aggregation</td>\n",
       "      <td>...</td>\n",
       "      <td>transform</td>\n",
       "      <td>transform</td>\n",
       "      <td>transform</td>\n",
       "      <td>transform</td>\n",
       "      <td>transform</td>\n",
       "      <td>transform</td>\n",
       "      <td>transform</td>\n",
       "      <td>transform</td>\n",
       "      <td>transform</td>\n",
       "      <td>transform</td>\n",
       "    </tr>\n",
       "    <tr>\n",
       "      <th>description</th>\n",
       "      <td>Calculates the trend of a variable over time.</td>\n",
       "      <td>Calculates the smallest value, ignoring `NaN` ...</td>\n",
       "      <td>Calculates the time elapsed since the last dat...</td>\n",
       "      <td>Computes the average for a list of values.</td>\n",
       "      <td>Determines if any value is 'True' in a list.</td>\n",
       "      <td>Determines the first value in a list.</td>\n",
       "      <td>Determines the `n` most common elements.</td>\n",
       "      <td>Computes the extent to which a distribution di...</td>\n",
       "      <td>Counts the number of `True` values.</td>\n",
       "      <td>Calculates the highest value, ignoring `NaN` v...</td>\n",
       "      <td>...</td>\n",
       "      <td>Determines the year value of a datetime.</td>\n",
       "      <td>Determines the day of the month from a datetime.</td>\n",
       "      <td>Calculates the cumulative sum.</td>\n",
       "      <td>Element-wise division of two lists.</td>\n",
       "      <td>Element-wise logical AND of two lists.</td>\n",
       "      <td>Determines if values in a list are equal to a ...</td>\n",
       "      <td>Negates a boolean value.</td>\n",
       "      <td>Computes the absolute value of a number.</td>\n",
       "      <td>Multiply each element in the list by a scalar.</td>\n",
       "      <td>Determines if values are less than or equal to...</td>\n",
       "    </tr>\n",
       "  </tbody>\n",
       "</table>\n",
       "<p>3 rows × 78 columns</p>\n",
       "</div>"
      ],
      "text/plain": [
       "                                                        0   \\\n",
       "name                                                 trend   \n",
       "type                                           aggregation   \n",
       "description  Calculates the trend of a variable over time.   \n",
       "\n",
       "                                                            1   \\\n",
       "name                                                       min   \n",
       "type                                               aggregation   \n",
       "description  Calculates the smallest value, ignoring `NaN` ...   \n",
       "\n",
       "                                                            2   \\\n",
       "name                                           time_since_last   \n",
       "type                                               aggregation   \n",
       "description  Calculates the time elapsed since the last dat...   \n",
       "\n",
       "                                                     3   \\\n",
       "name                                               mean   \n",
       "type                                        aggregation   \n",
       "description  Computes the average for a list of values.   \n",
       "\n",
       "                                                       4   \\\n",
       "name                                                  any   \n",
       "type                                          aggregation   \n",
       "description  Determines if any value is 'True' in a list.   \n",
       "\n",
       "                                                5   \\\n",
       "name                                         first   \n",
       "type                                   aggregation   \n",
       "description  Determines the first value in a list.   \n",
       "\n",
       "                                                   6   \\\n",
       "name                                    n_most_common   \n",
       "type                                      aggregation   \n",
       "description  Determines the `n` most common elements.   \n",
       "\n",
       "                                                            7   \\\n",
       "name                                                      skew   \n",
       "type                                               aggregation   \n",
       "description  Computes the extent to which a distribution di...   \n",
       "\n",
       "                                              8   \\\n",
       "name                                    num_true   \n",
       "type                                 aggregation   \n",
       "description  Counts the number of `True` values.   \n",
       "\n",
       "                                                            9   ...  \\\n",
       "name                                                       max  ...   \n",
       "type                                               aggregation  ...   \n",
       "description  Calculates the highest value, ignoring `NaN` v...  ...   \n",
       "\n",
       "                                                   68  \\\n",
       "name                                             year   \n",
       "type                                        transform   \n",
       "description  Determines the year value of a datetime.   \n",
       "\n",
       "                                                           69  \\\n",
       "name                                                      day   \n",
       "type                                                transform   \n",
       "description  Determines the day of the month from a datetime.   \n",
       "\n",
       "                                         70  \\\n",
       "name                                cum_sum   \n",
       "type                              transform   \n",
       "description  Calculates the cumulative sum.   \n",
       "\n",
       "                                              71  \\\n",
       "name                              divide_numeric   \n",
       "type                                   transform   \n",
       "description  Element-wise division of two lists.   \n",
       "\n",
       "                                                 72  \\\n",
       "name                                            and   \n",
       "type                                      transform   \n",
       "description  Element-wise logical AND of two lists.   \n",
       "\n",
       "                                                            73  \\\n",
       "name                                              equal_scalar   \n",
       "type                                                 transform   \n",
       "description  Determines if values in a list are equal to a ...   \n",
       "\n",
       "                                   74  \\\n",
       "name                              not   \n",
       "type                        transform   \n",
       "description  Negates a boolean value.   \n",
       "\n",
       "                                                   75  \\\n",
       "name                                         absolute   \n",
       "type                                        transform   \n",
       "description  Computes the absolute value of a number.   \n",
       "\n",
       "                                                         76  \\\n",
       "name                                multiply_numeric_scalar   \n",
       "type                                              transform   \n",
       "description  Multiply each element in the list by a scalar.   \n",
       "\n",
       "                                                            77  \n",
       "name                                 less_than_equal_to_scalar  \n",
       "type                                                 transform  \n",
       "description  Determines if values are less than or equal to...  \n",
       "\n",
       "[3 rows x 78 columns]"
      ]
     },
     "execution_count": 35,
     "metadata": {},
     "output_type": "execute_result"
    }
   ],
   "source": [
    "# feature_matrix, feature_names = ft.dfs(entityset=es, target_entity='Numbers',\n",
    "#                                         cutoff_time = labels, verbose = 2,\n",
    "#                                         cutoff_time_in_index = True,\n",
    "#                                         chunk_size = len(labels), n_jobs = 1,\n",
    "#                                         max_depth = 1)\n",
    "print(ft.__version__)\n",
    "ft.list_primitives().T"
   ]
  },
  {
   "cell_type": "code",
   "execution_count": null,
   "metadata": {
    "colab": {
     "base_uri": "https://localhost:8080/",
     "height": 51
    },
    "colab_type": "code",
    "id": "YBdz1ZRKZ4Gh",
    "outputId": "ef659051-1a2c-409a-eff2-acfc589d3363"
   },
   "outputs": [
    {
     "name": "stdout",
     "output_type": "stream",
     "text": [
      "Built 329 features\n",
      "EntitySet scattered to 4 workers in 8 seconds\n",
      "Elapsed: 00:00 | Progress:   0%|          "
     ]
    }
   ],
   "source": [
    "default_agg_primitives =  ['std', 'max', 'min', 'mode', 'mean', 'skew', 'last', 'avg_time_between', \n",
    "                           'count', 'sum', 'trend', 'percent_true', 'num_unique', 'time_since_last', \n",
    "                           'time_since_first']\n",
    "default_trans_primitives =  ['cum_sum', 'cum_mean', 'month', 'day', 'percentile', \n",
    "                              'time_since', 'time_since_previous', 'cum_min', 'cum_max']\n",
    "\n",
    "feature_matrix, feature_names = ft.dfs(entityset=es, target_entity='Numbers',\n",
    "                                        agg_primitives = default_agg_primitives ,\n",
    "                                        trans_primitives = default_trans_primitives,\n",
    "                                        cutoff_time = labels, verbose = 1,\n",
    "                                        cutoff_time_in_index = True,\n",
    "                                        #chunk_size = len(labels), n_jobs = 1,\n",
    "                                        chunk_size = 10000, n_jobs = -1,\n",
    "                                        max_depth = 2)"
   ]
  },
  {
   "cell_type": "code",
   "execution_count": null,
   "metadata": {
    "colab": {},
    "colab_type": "code",
    "id": "mIWROhRteujK"
   },
   "outputs": [],
   "source": [
    "len(feature_matrix.columns), feature_matrix.columns"
   ]
  },
  {
   "cell_type": "code",
   "execution_count": null,
   "metadata": {
    "colab": {},
    "colab_type": "code",
    "id": "9Ipeq6WAeujN"
   },
   "outputs": [],
   "source": [
    "len(feature_matrix)"
   ]
  },
  {
   "cell_type": "code",
   "execution_count": null,
   "metadata": {
    "colab": {},
    "colab_type": "code",
    "id": "rlwWExxVeujR"
   },
   "outputs": [],
   "source": [
    "feature_matrix.head().T"
   ]
  },
  {
   "cell_type": "code",
   "execution_count": null,
   "metadata": {
    "colab": {},
    "colab_type": "code",
    "id": "G52SwLCFeujT"
   },
   "outputs": [],
   "source": [
    "feature_matrix.shape"
   ]
  },
  {
   "cell_type": "code",
   "execution_count": null,
   "metadata": {
    "colab": {},
    "colab_type": "code",
    "id": "CRCvwSGFc6Bg"
   },
   "outputs": [],
   "source": [
    "feature_matrix.head(2)"
   ]
  },
  {
   "cell_type": "code",
   "execution_count": null,
   "metadata": {
    "colab": {},
    "colab_type": "code",
    "id": "UTlTGRatewxx"
   },
   "outputs": [],
   "source": [
    "#feature_matrix[(feature_matrix['NumberId']==0) & (feature_matrix['Label']==1)].head(10)"
   ]
  },
  {
   "cell_type": "markdown",
   "metadata": {
    "colab_type": "text",
    "id": "xFeHotmbfnhn"
   },
   "source": [
    "## Correlations"
   ]
  },
  {
   "cell_type": "code",
   "execution_count": null,
   "metadata": {
    "colab": {},
    "colab_type": "code",
    "id": "EE0MZiCipQRi"
   },
   "outputs": [],
   "source": [
    "# Save the original feature matrix\n",
    "origin_feature_matrix = feature_matrix\n",
    "\n",
    "feature_matrix = pd.get_dummies(feature_matrix).reset_index()\n",
    "feature_matrix.shape"
   ]
  },
  {
   "cell_type": "code",
   "execution_count": null,
   "metadata": {
    "colab": {},
    "colab_type": "code",
    "id": "nhljH4WzpWsO"
   },
   "outputs": [],
   "source": [
    "feature_matrix.head(10)"
   ]
  },
  {
   "cell_type": "code",
   "execution_count": null,
   "metadata": {
    "colab": {},
    "colab_type": "code",
    "id": "hYQy-CwppbIT"
   },
   "outputs": [],
   "source": [
    "corrs = feature_matrix.corr().sort_values('TotalStrike')\n",
    "corrs['TotalStrike'].head()"
   ]
  },
  {
   "cell_type": "code",
   "execution_count": null,
   "metadata": {
    "colab": {},
    "colab_type": "code",
    "id": "aJYr17JXpsNf"
   },
   "outputs": [],
   "source": [
    "corrs['TotalStrike'].dropna().tail(60)"
   ]
  },
  {
   "cell_type": "code",
   "execution_count": null,
   "metadata": {
    "colab": {},
    "colab_type": "code",
    "id": "MdhhEg_vqQoC"
   },
   "outputs": [],
   "source": [
    "feature_matrix['month'] = feature_matrix['time'].dt.month\n",
    "feature_matrix['year'] = feature_matrix['time'].dt.year"
   ]
  },
  {
   "cell_type": "code",
   "execution_count": null,
   "metadata": {
    "colab": {},
    "colab_type": "code",
    "id": "88yuBM0przQG"
   },
   "outputs": [],
   "source": [
    "feature_matrix.info()"
   ]
  },
  {
   "cell_type": "code",
   "execution_count": null,
   "metadata": {
    "colab": {},
    "colab_type": "code",
    "id": "-Ym4tZDEstFL"
   },
   "outputs": [],
   "source": [
    "feature_matrix.head()"
   ]
  },
  {
   "cell_type": "code",
   "execution_count": null,
   "metadata": {
    "colab": {},
    "colab_type": "code",
    "id": "ikqkrTUPpHBa"
   },
   "outputs": [],
   "source": [
    "feature_matrix.tail()"
   ]
  },
  {
   "cell_type": "code",
   "execution_count": null,
   "metadata": {
    "colab": {},
    "colab_type": "code",
    "id": "MUlGhp0JqCdJ"
   },
   "outputs": [],
   "source": [
    "display(feature_matrix.describe())"
   ]
  },
  {
   "cell_type": "markdown",
   "metadata": {
    "colab_type": "text",
    "id": "jUgeaJgjYUTH"
   },
   "source": [
    "## Save feature matrix"
   ]
  },
  {
   "cell_type": "code",
   "execution_count": null,
   "metadata": {
    "colab": {},
    "colab_type": "code",
    "id": "9fpAptJ7YUtr"
   },
   "outputs": [],
   "source": [
    "# https://towardsdatascience.com/downloading-datasets-into-google-drive-via-google-colab-bcb1b30b0166\n",
    "if COLAB:\n",
    "  #!cd dl-projects && git config --global user.email 'mengwangk@gmail.com' \n",
    "  #!cd dl-projects && git config --global user.name 'mengwangk'\n",
    "  #!cd dl-projects && git add -A && git commit -m 'Updated from colab' \n",
    "  # from google.colab import drive\n",
    "  # drive.mount('/content/gdrive')\n",
    "  GDRIVE_DATASET_FOLDER = Path('gdrive/My Drive/datasets/')\n",
    "  #!ls /content/gdrive/My\\ Drive/\n",
    "  \n",
    "  # feature_matrix.to_csv(GDRIVE_DATASET_FOLDER/f\"{FEATURE_DATASET_PREFIX}.csv\", index=False)\n",
    "  feature_matrix.to_pickle(GDRIVE_DATASET_FOLDER/f\"{FEATURE_DATASET_PREFIX}.pkl\")\n",
    "  origin_feature_matrix.to_pickle(GDRIVE_DATASET_FOLDER/f\"{FEATURE_DATASET_PREFIX}_origin.pkl\")"
   ]
  },
  {
   "cell_type": "code",
   "execution_count": null,
   "metadata": {
    "colab": {},
    "colab_type": "code",
    "id": "qun_lhxyYVKz"
   },
   "outputs": [],
   "source": [
    "#if COLAB:\n",
    "#  !cd dl-projects && git remote rm origin && git remote add origin https://mengwangk:XX@github.com/mengwangk/dl-projects.git && git push -u origin master"
   ]
  },
  {
   "cell_type": "code",
   "execution_count": null,
   "metadata": {
    "colab": {},
    "colab_type": "code",
    "id": "XsPab_k6F7jq"
   },
   "outputs": [],
   "source": [
    "# from google.colab import files\n",
    "# files.download(DATASET_PATH/'feature_matrix.csv') "
   ]
  },
  {
   "cell_type": "code",
   "execution_count": null,
   "metadata": {
    "colab": {},
    "colab_type": "code",
    "id": "o2pbgTRtg2-g"
   },
   "outputs": [],
   "source": [
    "if COLAB:\n",
    "  !cd gdrive/\"My Drive\"/datasets/ && ls -l --block-size=M"
   ]
  },
  {
   "cell_type": "markdown",
   "metadata": {
    "colab_type": "text",
    "id": "alN0Kxs6jwvq"
   },
   "source": [
    "## Validation"
   ]
  },
  {
   "cell_type": "markdown",
   "metadata": {
    "colab_type": "text",
    "id": "joA87V3b6MFQ"
   },
   "source": [
    "#### Oct 2019"
   ]
  },
  {
   "cell_type": "code",
   "execution_count": null,
   "metadata": {
    "colab": {},
    "colab_type": "code",
    "id": "abZCagsS0PzV"
   },
   "outputs": [],
   "source": [
    "month_data = feature_matrix.loc[feature_matrix['time'] == pd.datetime(2019,10,1)]\n",
    "len(month_data), month_data.columns"
   ]
  },
  {
   "cell_type": "code",
   "execution_count": null,
   "metadata": {
    "colab": {},
    "colab_type": "code",
    "id": "vM-V5YOh0RvU"
   },
   "outputs": [],
   "source": [
    "len(month_data[month_data['Label'] == 1]), len(month_data[month_data['TotalStrike'] == 1]), len(month_data[month_data['TotalStrike'] > 1])"
   ]
  },
  {
   "cell_type": "code",
   "execution_count": null,
   "metadata": {
    "colab": {},
    "colab_type": "code",
    "id": "W5PWFKY64VV0"
   },
   "outputs": [],
   "source": [
    "display(month_data[month_data['Label'] == 1].head(3))"
   ]
  },
  {
   "cell_type": "code",
   "execution_count": null,
   "metadata": {
    "colab": {},
    "colab_type": "code",
    "id": "n1swkhSV4XTj"
   },
   "outputs": [],
   "source": [
    "month_numbers = np.array([month_data[month_data['Label'] == 1]['NumberId']])[0]\n",
    "len(month_numbers), np.sort(month_numbers)"
   ]
  },
  {
   "cell_type": "code",
   "execution_count": null,
   "metadata": {
    "colab": {},
    "colab_type": "code",
    "id": "fvu6qMg24aG1"
   },
   "outputs": [],
   "source": [
    "origin_month_numbers = np.array([data[ (data['DrawDate'].dt.year == 2019) & (data['DrawDate'].dt.month == 10) ]['LuckyNo']])[0]\n",
    "len(origin_month_numbers), np.sort(origin_month_numbers)"
   ]
  },
  {
   "cell_type": "code",
   "execution_count": null,
   "metadata": {
    "colab": {},
    "colab_type": "code",
    "id": "7oCObrgy4fVk"
   },
   "outputs": [],
   "source": [
    "data[ (data['DrawDate'].dt.year == 2019) & (data['DrawDate'].dt.month == 10) & (data['LuckyNo'] == 7198) ]"
   ]
  },
  {
   "cell_type": "code",
   "execution_count": null,
   "metadata": {
    "colab": {},
    "colab_type": "code",
    "id": "fnKZwSZq4yXq"
   },
   "outputs": [],
   "source": [
    "month_data[month_data['TotalStrike'] == 1].sort_values(by=['MAX(Results.DrawNo)'], ascending=False)"
   ]
  },
  {
   "cell_type": "code",
   "execution_count": null,
   "metadata": {
    "colab": {},
    "colab_type": "code",
    "id": "ijIni61O5CB7"
   },
   "outputs": [],
   "source": [
    "data[ (data['LuckyNo'] == 7198) ]"
   ]
  },
  {
   "cell_type": "markdown",
   "metadata": {
    "colab_type": "text",
    "id": "p5ip9EBq5-IQ"
   },
   "source": [
    "### Dec 2019"
   ]
  },
  {
   "cell_type": "code",
   "execution_count": null,
   "metadata": {
    "colab": {},
    "colab_type": "code",
    "id": "MdB32VE16W7q"
   },
   "outputs": [],
   "source": [
    "month_data = feature_matrix.loc[feature_matrix['time'] == pd.datetime(2019,12,1)]\n",
    "len(month_data), month_data.columns"
   ]
  },
  {
   "cell_type": "code",
   "execution_count": null,
   "metadata": {
    "colab": {},
    "colab_type": "code",
    "id": "I1oTc9sx6Z3P"
   },
   "outputs": [],
   "source": [
    "len(month_data[month_data['Label'] == 1]), len(month_data[month_data['TotalStrike'] == 1]), len(month_data[month_data['TotalStrike'] > 1])"
   ]
  },
  {
   "cell_type": "code",
   "execution_count": null,
   "metadata": {
    "colab": {},
    "colab_type": "code",
    "id": "QBZ9XqCz6d31"
   },
   "outputs": [],
   "source": [
    "display(month_data[month_data['Label'] == 1].head(3))"
   ]
  },
  {
   "cell_type": "code",
   "execution_count": null,
   "metadata": {
    "colab": {},
    "colab_type": "code",
    "id": "maIvg3OW6i0Z"
   },
   "outputs": [],
   "source": [
    "month_numbers = np.array([month_data[month_data['Label'] == 1]['NumberId']])[0]\n",
    "len(month_numbers), np.sort(month_numbers)"
   ]
  },
  {
   "cell_type": "code",
   "execution_count": null,
   "metadata": {
    "colab": {},
    "colab_type": "code",
    "id": "VSLtxulW6quI"
   },
   "outputs": [],
   "source": [
    "origin_month_numbers = np.array([data[ (data['DrawDate'].dt.year == 2019) & (data['DrawDate'].dt.month == 12) ]['LuckyNo']])[0]\n",
    "len(origin_month_numbers), np.sort(origin_month_numbers)"
   ]
  },
  {
   "cell_type": "code",
   "execution_count": null,
   "metadata": {
    "colab": {},
    "colab_type": "code",
    "id": "Jds31tJd6w91"
   },
   "outputs": [],
   "source": [
    "month_data[month_data['TotalStrike'] == 1].sort_values(by=['MAX(Results.DrawNo)'], ascending=False)"
   ]
  },
  {
   "cell_type": "code",
   "execution_count": null,
   "metadata": {
    "colab": {},
    "colab_type": "code",
    "id": "_5-ejNHe63XX"
   },
   "outputs": [],
   "source": [
    "data[ (data['LuckyNo'] == 3649) ]"
   ]
  },
  {
   "cell_type": "code",
   "execution_count": null,
   "metadata": {
    "colab": {},
    "colab_type": "code",
    "id": "MNpMn_PS7Bx9"
   },
   "outputs": [],
   "source": []
  }
 ],
 "metadata": {
  "accelerator": "GPU",
  "colab": {
   "include_colab_link": true,
   "name": "04_02_automated_machine_learning.ipynb",
   "provenance": [],
   "toc_visible": true
  },
  "kernelspec": {
   "display_name": "Python 3",
   "language": "python",
   "name": "python3"
  },
  "language_info": {
   "codemirror_mode": {
    "name": "ipython",
    "version": 3
   },
   "file_extension": ".py",
   "mimetype": "text/x-python",
   "name": "python",
   "nbconvert_exporter": "python",
   "pygments_lexer": "ipython3",
   "version": "3.7.2"
  }
 },
 "nbformat": 4,
 "nbformat_minor": 2
}

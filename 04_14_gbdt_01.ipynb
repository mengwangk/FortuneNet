{
  "nbformat": 4,
  "nbformat_minor": 0,
  "metadata": {
    "kernelspec": {
      "display_name": "Python 3",
      "language": "python",
      "name": "python3"
    },
    "language_info": {
      "codemirror_mode": {
        "name": "ipython",
        "version": 3
      },
      "file_extension": ".py",
      "mimetype": "text/x-python",
      "name": "python",
      "nbconvert_exporter": "python",
      "pygments_lexer": "ipython3",
      "version": "3.7.6"
    },
    "colab": {
      "name": "04_14_gbdt_01.ipynb",
      "provenance": []
    }
  },
  "cells": [
    {
      "cell_type": "markdown",
      "metadata": {
        "id": "I7aG9jzGoP18",
        "colab_type": "text"
      },
      "source": [
        "# Machine Learning - CatBoost"
      ]
    },
    {
      "cell_type": "code",
      "metadata": {
        "id": "zlVvNIxToP1-",
        "colab_type": "code",
        "colab": {}
      },
      "source": [
        "from IPython.core.interactiveshell import InteractiveShell\n",
        "InteractiveShell.ast_node_interactivity = \"all\"\n",
        "\n",
        "%load_ext autoreload\n",
        "%autoreload 2"
      ],
      "execution_count": 1,
      "outputs": []
    },
    {
      "cell_type": "code",
      "metadata": {
        "id": "UXQchcJCoP2E",
        "colab_type": "code",
        "colab": {}
      },
      "source": [
        "required_libs = [ (\"numpy\", \"numpy\"),\n",
        "                 (\"pandas\", \"pandas\"),\n",
        "                 (\"seaborn\", \"seaborn\"),\n",
        "                 (\"matplotlib\", \"matplotlib\"),\n",
        "                 (\"catboost\", \"catboost\"),\n",
        "                 (\"sklearn\", \"sklearn\"),\n",
        "                 (\"ipywidgets\", \"ipywidgets\"),\n",
        "                 (\"shap\", \"shap\"),\n",
        "                ]"
      ],
      "execution_count": 2,
      "outputs": []
    },
    {
      "cell_type": "code",
      "metadata": {
        "id": "Uyzk4kXYoP2J",
        "colab_type": "code",
        "colab": {}
      },
      "source": [
        "def is_lib_exists(name):\n",
        "    import importlib\n",
        "    lib = importlib.util.find_spec(name)\n",
        "    return lib is not None"
      ],
      "execution_count": 3,
      "outputs": []
    },
    {
      "cell_type": "code",
      "metadata": {
        "id": "5SJ6r_j2oP2N",
        "colab_type": "code",
        "colab": {
          "base_uri": "https://localhost:8080/",
          "height": 815
        },
        "outputId": "74ca546a-328e-49e3-eba6-f73a8b8a72c5"
      },
      "source": [
        "for (clz,lib) in required_libs:\n",
        "    if not is_lib_exists(clz):\n",
        "        print(f\"Installing {lib}\")\n",
        "        !pip install {lib}\n",
        "    else:\n",
        "        print(f\"{lib} exists\")"
      ],
      "execution_count": 4,
      "outputs": [
        {
          "output_type": "stream",
          "text": [
            "numpy exists\n",
            "pandas exists\n",
            "seaborn exists\n",
            "matplotlib exists\n",
            "Installing catboost\n",
            "Collecting catboost\n",
            "\u001b[?25l  Downloading https://files.pythonhosted.org/packages/b2/aa/e61819d04ef2bbee778bf4b3a748db1f3ad23512377e43ecfdc3211437a0/catboost-0.23.2-cp36-none-manylinux1_x86_64.whl (64.8MB)\n",
            "\u001b[K     |████████████████████████████████| 64.8MB 61kB/s \n",
            "\u001b[?25hRequirement already satisfied: graphviz in /usr/local/lib/python3.6/dist-packages (from catboost) (0.10.1)\n",
            "Requirement already satisfied: pandas>=0.24.0 in /usr/local/lib/python3.6/dist-packages (from catboost) (1.0.5)\n",
            "Requirement already satisfied: matplotlib in /usr/local/lib/python3.6/dist-packages (from catboost) (3.2.2)\n",
            "Requirement already satisfied: six in /usr/local/lib/python3.6/dist-packages (from catboost) (1.15.0)\n",
            "Requirement already satisfied: numpy>=1.16.0 in /usr/local/lib/python3.6/dist-packages (from catboost) (1.18.5)\n",
            "Requirement already satisfied: plotly in /usr/local/lib/python3.6/dist-packages (from catboost) (4.4.1)\n",
            "Requirement already satisfied: scipy in /usr/local/lib/python3.6/dist-packages (from catboost) (1.4.1)\n",
            "Requirement already satisfied: pytz>=2017.2 in /usr/local/lib/python3.6/dist-packages (from pandas>=0.24.0->catboost) (2018.9)\n",
            "Requirement already satisfied: python-dateutil>=2.6.1 in /usr/local/lib/python3.6/dist-packages (from pandas>=0.24.0->catboost) (2.8.1)\n",
            "Requirement already satisfied: kiwisolver>=1.0.1 in /usr/local/lib/python3.6/dist-packages (from matplotlib->catboost) (1.2.0)\n",
            "Requirement already satisfied: pyparsing!=2.0.4,!=2.1.2,!=2.1.6,>=2.0.1 in /usr/local/lib/python3.6/dist-packages (from matplotlib->catboost) (2.4.7)\n",
            "Requirement already satisfied: cycler>=0.10 in /usr/local/lib/python3.6/dist-packages (from matplotlib->catboost) (0.10.0)\n",
            "Requirement already satisfied: retrying>=1.3.3 in /usr/local/lib/python3.6/dist-packages (from plotly->catboost) (1.3.3)\n",
            "Installing collected packages: catboost\n",
            "Successfully installed catboost-0.23.2\n",
            "sklearn exists\n",
            "ipywidgets exists\n",
            "Installing shap\n",
            "Collecting shap\n",
            "\u001b[?25l  Downloading https://files.pythonhosted.org/packages/a8/77/b504e43e21a2ba543a1ac4696718beb500cfa708af2fb57cb54ce299045c/shap-0.35.0.tar.gz (273kB)\n",
            "\u001b[K     |████████████████████████████████| 276kB 2.8MB/s \n",
            "\u001b[?25hRequirement already satisfied: numpy in /usr/local/lib/python3.6/dist-packages (from shap) (1.18.5)\n",
            "Requirement already satisfied: scipy in /usr/local/lib/python3.6/dist-packages (from shap) (1.4.1)\n",
            "Requirement already satisfied: scikit-learn in /usr/local/lib/python3.6/dist-packages (from shap) (0.22.2.post1)\n",
            "Requirement already satisfied: pandas in /usr/local/lib/python3.6/dist-packages (from shap) (1.0.5)\n",
            "Requirement already satisfied: tqdm>4.25.0 in /usr/local/lib/python3.6/dist-packages (from shap) (4.41.1)\n",
            "Requirement already satisfied: joblib>=0.11 in /usr/local/lib/python3.6/dist-packages (from scikit-learn->shap) (0.16.0)\n",
            "Requirement already satisfied: pytz>=2017.2 in /usr/local/lib/python3.6/dist-packages (from pandas->shap) (2018.9)\n",
            "Requirement already satisfied: python-dateutil>=2.6.1 in /usr/local/lib/python3.6/dist-packages (from pandas->shap) (2.8.1)\n",
            "Requirement already satisfied: six>=1.5 in /usr/local/lib/python3.6/dist-packages (from python-dateutil>=2.6.1->pandas->shap) (1.15.0)\n",
            "Building wheels for collected packages: shap\n",
            "  Building wheel for shap (setup.py) ... \u001b[?25l\u001b[?25hdone\n",
            "  Created wheel for shap: filename=shap-0.35.0-cp36-cp36m-linux_x86_64.whl size=394114 sha256=39a84a87c4f32235ca9c100ff2dd3704afbea8b241c383502bdb3ec840b7147c\n",
            "  Stored in directory: /root/.cache/pip/wheels/e7/f7/0f/b57055080cf8894906b3bd3616d2fc2bfd0b12d5161bcb24ac\n",
            "Successfully built shap\n",
            "Installing collected packages: shap\n",
            "Successfully installed shap-0.35.0\n"
          ],
          "name": "stdout"
        }
      ]
    },
    {
      "cell_type": "code",
      "metadata": {
        "id": "hRyT0uoNoP2Q",
        "colab_type": "code",
        "colab": {}
      },
      "source": [
        "COLAB = True\n",
        "\n",
        "DATASET_NAME = '4D.zip'\n",
        "\n",
        "FEATURE_DATASET_PREFIX = 'feature_matrix_d2_v3'"
      ],
      "execution_count": 5,
      "outputs": []
    },
    {
      "cell_type": "code",
      "metadata": {
        "id": "zEbqmb8KoP2S",
        "colab_type": "code",
        "colab": {
          "base_uri": "https://localhost:8080/",
          "height": 72
        },
        "outputId": "b227374e-6422-4142-f450-763671cd76da"
      },
      "source": [
        "import numpy as np\n",
        "import pandas as pd\n",
        "import seaborn as sns\n",
        "import matplotlib.pyplot as plt\n",
        "import calendar\n",
        "import traceback\n",
        "import catboost\n",
        "from pathlib import Path\n",
        "from dateutil.relativedelta import *\n",
        "from datetime import *\n",
        "from catboost import *\n",
        "from catboost import datasets\n",
        "np.set_printoptions(precision=4)"
      ],
      "execution_count": 6,
      "outputs": [
        {
          "output_type": "stream",
          "text": [
            "/usr/local/lib/python3.6/dist-packages/statsmodels/tools/_testing.py:19: FutureWarning: pandas.util.testing is deprecated. Use the functions in the public API at pandas.testing instead.\n",
            "  import pandas.util.testing as tm\n"
          ],
          "name": "stderr"
        }
      ]
    },
    {
      "cell_type": "code",
      "metadata": {
        "id": "C-7Jn85JoP2V",
        "colab_type": "code",
        "colab": {
          "base_uri": "https://localhost:8080/",
          "height": 104
        },
        "outputId": "cee5e40a-b9c5-4a51-c8d3-b83764611d4a"
      },
      "source": [
        "%matplotlib inline\n",
        "%aimport"
      ],
      "execution_count": 7,
      "outputs": [
        {
          "output_type": "stream",
          "text": [
            "Modules to reload:\n",
            "all-except-skipped\n",
            "\n",
            "Modules to skip:\n",
            "\n"
          ],
          "name": "stdout"
        }
      ]
    },
    {
      "cell_type": "code",
      "metadata": {
        "id": "bRRyrDnzoP2a",
        "colab_type": "code",
        "colab": {}
      },
      "source": [
        "from IPython.display import display"
      ],
      "execution_count": 8,
      "outputs": []
    },
    {
      "cell_type": "code",
      "metadata": {
        "id": "WQ16s9UjoP2d",
        "colab_type": "code",
        "colab": {
          "base_uri": "https://localhost:8080/",
          "height": 52
        },
        "outputId": "51dd5690-cbfa-4ec3-f4a3-19c352e5d903"
      },
      "source": [
        "# check catboost version\n",
        "print(catboost.__version__)\n",
        "!python --version"
      ],
      "execution_count": 9,
      "outputs": [
        {
          "output_type": "stream",
          "text": [
            "0.23.2\n",
            "Python 3.6.9\n"
          ],
          "name": "stdout"
        }
      ]
    },
    {
      "cell_type": "code",
      "metadata": {
        "id": "yGhSyyL2pSHj",
        "colab_type": "code",
        "colab": {
          "base_uri": "https://localhost:8080/",
          "height": 676
        },
        "outputId": "00603c90-395b-4327-9a70-8b09c304701c"
      },
      "source": [
        "# colab setup\n",
        "if COLAB:\n",
        "  !rm -rf dl-projects\n",
        "  !git clone https://github.com/mengwangk/dl-projects\n",
        "  \n",
        "  !cp dl-projects/utils* .\n",
        "  !cp dl-projects/preprocess* .\n",
        "  !cp dl-projects/plot* .\n",
        "  \n",
        "  from google.colab import drive\n",
        "  drive.mount('/content/gdrive')\n",
        "  GDRIVE_DATASET_FOLDER = Path('gdrive/My Drive/datasets/')\n",
        "  DATASET_PATH = GDRIVE_DATASET_FOLDER\n",
        "  ORIGIN_DATASET_PATH = Path('dl-projects/datasets')\n",
        "  !ls -l gdrive/\"My Drive\"/datasets/ --block-size=M\n",
        "\n",
        "DATASET = DATASET_PATH/f\"{FEATURE_DATASET_PREFIX}.ft\"\n",
        "ORIGIN_DATASET = ORIGIN_DATASET_PATH/DATASET_NAME"
      ],
      "execution_count": 10,
      "outputs": [
        {
          "output_type": "stream",
          "text": [
            "Cloning into 'dl-projects'...\n",
            "remote: Enumerating objects: 149, done.\u001b[K\n",
            "remote: Counting objects:   0% (1/149)\u001b[K\rremote: Counting objects:   1% (2/149)\u001b[K\rremote: Counting objects:   2% (3/149)\u001b[K\rremote: Counting objects:   3% (5/149)\u001b[K\rremote: Counting objects:   4% (6/149)\u001b[K\rremote: Counting objects:   5% (8/149)\u001b[K\rremote: Counting objects:   6% (9/149)\u001b[K\rremote: Counting objects:   7% (11/149)\u001b[K\rremote: Counting objects:   8% (12/149)\u001b[K\rremote: Counting objects:   9% (14/149)\u001b[K\rremote: Counting objects:  10% (15/149)\u001b[K\rremote: Counting objects:  11% (17/149)\u001b[K\rremote: Counting objects:  12% (18/149)\u001b[K\rremote: Counting objects:  13% (20/149)\u001b[K\rremote: Counting objects:  14% (21/149)\u001b[K\rremote: Counting objects:  15% (23/149)\u001b[K\rremote: Counting objects:  16% (24/149)\u001b[K\rremote: Counting objects:  17% (26/149)\u001b[K\rremote: Counting objects:  18% (27/149)\u001b[K\rremote: Counting objects:  19% (29/149)\u001b[K\rremote: Counting objects:  20% (30/149)\u001b[K\rremote: Counting objects:  21% (32/149)\u001b[K\rremote: Counting objects:  22% (33/149)\u001b[K\rremote: Counting objects:  23% (35/149)\u001b[K\rremote: Counting objects:  24% (36/149)\u001b[K\rremote: Counting objects:  25% (38/149)\u001b[K\rremote: Counting objects:  26% (39/149)\u001b[K\rremote: Counting objects:  27% (41/149)\u001b[K\rremote: Counting objects:  28% (42/149)\u001b[K\rremote: Counting objects:  29% (44/149)\u001b[K\rremote: Counting objects:  30% (45/149)\u001b[K\rremote: Counting objects:  31% (47/149)\u001b[K\rremote: Counting objects:  32% (48/149)\u001b[K\rremote: Counting objects:  33% (50/149)\u001b[K\rremote: Counting objects:  34% (51/149)\u001b[K\rremote: Counting objects:  35% (53/149)\u001b[K\rremote: Counting objects:  36% (54/149)\u001b[K\rremote: Counting objects:  37% (56/149)\u001b[K\rremote: Counting objects:  38% (57/149)\u001b[K\rremote: Counting objects:  39% (59/149)\u001b[K\rremote: Counting objects:  40% (60/149)\u001b[K\rremote: Counting objects:  41% (62/149)\u001b[K\rremote: Counting objects:  42% (63/149)\u001b[K\rremote: Counting objects:  43% (65/149)\u001b[K\rremote: Counting objects:  44% (66/149)\u001b[K\rremote: Counting objects:  45% (68/149)\u001b[K\rremote: Counting objects:  46% (69/149)\u001b[K\rremote: Counting objects:  47% (71/149)\u001b[K\rremote: Counting objects:  48% (72/149)\u001b[K\rremote: Counting objects:  49% (74/149)\u001b[K\rremote: Counting objects:  50% (75/149)\u001b[K\rremote: Counting objects:  51% (76/149)\u001b[K\rremote: Counting objects:  52% (78/149)\u001b[K\rremote: Counting objects:  53% (79/149)\u001b[K\rremote: Counting objects:  54% (81/149)\u001b[K\rremote: Counting objects:  55% (82/149)\u001b[K\rremote: Counting objects:  56% (84/149)\u001b[K\rremote: Counting objects:  57% (85/149)\u001b[K\rremote: Counting objects:  58% (87/149)\u001b[K\rremote: Counting objects:  59% (88/149)\u001b[K\rremote: Counting objects:  60% (90/149)\u001b[K\rremote: Counting objects:  61% (91/149)\u001b[K\rremote: Counting objects:  62% (93/149)\u001b[K\rremote: Counting objects:  63% (94/149)\u001b[K\rremote: Counting objects:  64% (96/149)\u001b[K\rremote: Counting objects:  65% (97/149)\u001b[K\rremote: Counting objects:  66% (99/149)\u001b[K\rremote: Counting objects:  67% (100/149)\u001b[K\rremote: Counting objects:  68% (102/149)\u001b[K\rremote: Counting objects:  69% (103/149)\u001b[K\rremote: Counting objects:  70% (105/149)\u001b[K\rremote: Counting objects:  71% (106/149)\u001b[K\rremote: Counting objects:  72% (108/149)\u001b[K\rremote: Counting objects:  73% (109/149)\u001b[K\rremote: Counting objects:  74% (111/149)\u001b[K\rremote: Counting objects:  75% (112/149)\u001b[K\rremote: Counting objects:  76% (114/149)\u001b[K\rremote: Counting objects:  77% (115/149)\u001b[K\rremote: Counting objects:  78% (117/149)\u001b[K\rremote: Counting objects:  79% (118/149)\u001b[K\rremote: Counting objects:  80% (120/149)\u001b[K\rremote: Counting objects:  81% (121/149)\u001b[K\rremote: Counting objects:  82% (123/149)\u001b[K\rremote: Counting objects:  83% (124/149)\u001b[K\rremote: Counting objects:  84% (126/149)\u001b[K\rremote: Counting objects:  85% (127/149)\u001b[K\rremote: Counting objects:  86% (129/149)\u001b[K\rremote: Counting objects:  87% (130/149)\u001b[K\rremote: Counting objects:  88% (132/149)\u001b[K\rremote: Counting objects:  89% (133/149)\u001b[K\rremote: Counting objects:  90% (135/149)\u001b[K\rremote: Counting objects:  91% (136/149)\u001b[K\rremote: Counting objects:  92% (138/149)\u001b[K\rremote: Counting objects:  93% (139/149)\u001b[K\rremote: Counting objects:  94% (141/149)\u001b[K\rremote: Counting objects:  95% (142/149)\u001b[K\rremote: Counting objects:  96% (144/149)\u001b[K\rremote: Counting objects:  97% (145/149)\u001b[K\rremote: Counting objects:  98% (147/149)\u001b[K\rremote: Counting objects:  99% (148/149)\u001b[K\rremote: Counting objects: 100% (149/149)\u001b[K\rremote: Counting objects: 100% (149/149), done.\u001b[K\n",
            "remote: Compressing objects: 100% (135/135), done.\u001b[K\n",
            "remote: Total 2126 (delta 91), reused 32 (delta 14), pack-reused 1977\u001b[K\n",
            "Receiving objects: 100% (2126/2126), 79.28 MiB | 12.27 MiB/s, done.\n",
            "Resolving deltas: 100% (1316/1316), done.\n",
            "Go to this URL in a browser: https://accounts.google.com/o/oauth2/auth?client_id=947318989803-6bn6qk8qdgf4n4g3pfee6491hc0brc4i.apps.googleusercontent.com&redirect_uri=urn%3aietf%3awg%3aoauth%3a2.0%3aoob&response_type=code&scope=email%20https%3a%2f%2fwww.googleapis.com%2fauth%2fdocs.test%20https%3a%2f%2fwww.googleapis.com%2fauth%2fdrive%20https%3a%2f%2fwww.googleapis.com%2fauth%2fdrive.photos.readonly%20https%3a%2f%2fwww.googleapis.com%2fauth%2fpeopleapi.readonly\n",
            "\n",
            "Enter your authorization code:\n",
            "··········\n",
            "Mounted at /content/gdrive\n",
            "total 4948M\n",
            "-rw------- 1 root root   17M Jul  6 14:06 feature_matrix_2020_apr.ft\n",
            "-rw------- 1 root root   17M Jul  6 14:06 feature_matrix_2020_apr_orig.pkl\n",
            "-rw------- 1 root root   17M Mar  1 05:47 feature_matrix_2020_feb.ft\n",
            "-rw------- 1 root root   17M Mar  1 05:39 feature_matrix_2020_jan.ft\n",
            "-rw------- 1 root root   17M Jul  7 13:52 feature_matrix_2020_jul.ft\n",
            "-rw------- 1 root root   17M Jul  7 13:52 feature_matrix_2020_jul_orig.pkl\n",
            "-rw------- 1 root root   17M Jul  5 07:30 feature_matrix_2020_jun.ft\n",
            "-rw------- 1 root root   17M Jul  5 07:30 feature_matrix_2020_jun_orig.pkl\n",
            "-rw------- 1 root root   17M Jul  6 13:56 feature_matrix_2020_mar.ft\n",
            "-rw------- 1 root root   17M Jul  6 13:56 feature_matrix_2020_mar_orig.pkl\n",
            "-rw------- 1 root root   17M Jul  7 13:40 feature_matrix_2020_may.ft\n",
            "-rw------- 1 root root   17M Jul  7 13:40 feature_matrix_2020_may_orig.pkl\n",
            "-rw------- 1 root root 2454M Jan 12  2020 feature_matrix_d2_v2.ft\n",
            "-rw------- 1 root root 1585M Jan 12  2020 feature_matrix_d2_v3.ft\n",
            "-rw------- 1 root root   17M Feb 21 13:07 feature_matrix_snapshot.ft\n",
            "-rw------- 1 root root    1M Jul  7 13:43 labels.csv\n",
            "-rw------- 1 root root    5M Jan 30  2020 orig_X_test.ft\n",
            "-rw------- 1 root root  415M Jan 30  2020 orig_X_train.ft\n",
            "-rw------- 1 root root    1M Jan 30  2020 orig_y_test.ft\n",
            "-rw------- 1 root root    7M Jan 30  2020 orig_y_train.ft\n",
            "-rw------- 1 root root    3M Jul 30 13:48 test_X_test.ft\n",
            "-rw------- 1 root root  259M Jul 30 13:48 test_X_train.ft\n",
            "-rw------- 1 root root    1M Jul 30 13:48 test_y_test.ft\n",
            "-rw------- 1 root root    8M Jul 30 13:48 test_y_train.ft\n"
          ],
          "name": "stdout"
        }
      ]
    },
    {
      "cell_type": "markdown",
      "metadata": {
        "id": "gvnr5KFJoP2f",
        "colab_type": "text"
      },
      "source": [
        "## EDA"
      ]
    },
    {
      "cell_type": "code",
      "metadata": {
        "id": "ZV-CiR4Yrb7m",
        "colab_type": "code",
        "colab": {}
      },
      "source": [
        "from preprocess import *"
      ],
      "execution_count": 11,
      "outputs": []
    },
    {
      "cell_type": "code",
      "metadata": {
        "id": "OTuQ19LcpP0L",
        "colab_type": "code",
        "colab": {}
      },
      "source": [
        "data = pd.read_feather(DATASET)\n",
        "origin_data = format_tabular(ORIGIN_DATASET)"
      ],
      "execution_count": 12,
      "outputs": []
    },
    {
      "cell_type": "code",
      "metadata": {
        "id": "NznUjX3ppQeG",
        "colab_type": "code",
        "colab": {}
      },
      "source": [
        "jan_2020 = pd.read_feather(DATASET_PATH/f\"feature_matrix_2020_jan.ft\")\n",
        "feb_2020 = pd.read_feather(DATASET_PATH/f\"feature_matrix_2020_feb.ft\")\n",
        "mar_2020 = pd.read_feather(DATASET_PATH/f\"feature_matrix_2020_mar.ft\")\n",
        "apr_2020 = pd.read_feather(DATASET_PATH/f\"feature_matrix_2020_apr.ft\")\n",
        "may_2020 = pd.read_feather(DATASET_PATH/f\"feature_matrix_2020_may.ft\")\n",
        "jun_2020 = pd.read_feather(DATASET_PATH/f\"feature_matrix_2020_jun.ft\")\n",
        "jul_2020 = pd.read_feather(DATASET_PATH/f\"feature_matrix_2020_jul.ft\")"
      ],
      "execution_count": 13,
      "outputs": []
    },
    {
      "cell_type": "code",
      "metadata": {
        "id": "bwM_R5wMpEq9",
        "colab_type": "code",
        "colab": {}
      },
      "source": [
        "# Compare July data\n",
        "jul_2020_orig = pd.read_pickle(DATASET_PATH/f\"feature_matrix_2020_jul_orig.pkl\")"
      ],
      "execution_count": 14,
      "outputs": []
    },
    {
      "cell_type": "code",
      "metadata": {
        "id": "qpQp0v9EsZtd",
        "colab_type": "code",
        "colab": {
          "base_uri": "https://localhost:8080/",
          "height": 104
        },
        "outputId": "3638590c-cc8c-416f-991a-680b2cece03e"
      },
      "source": [
        "# Compare July data\n",
        "jul_2020.shape, jul_2020_orig.shape\n",
        "display(jul_2020.columns.difference(jul_2020_orig.columns))\n",
        "display(jul_2020_orig.columns.difference(jul_2020.columns))"
      ],
      "execution_count": 15,
      "outputs": [
        {
          "output_type": "execute_result",
          "data": {
            "text/plain": [
              "((10000, 217), (10000, 213))"
            ]
          },
          "metadata": {
            "tags": []
          },
          "execution_count": 15
        },
        {
          "output_type": "display_data",
          "data": {
            "text/plain": [
              "Index(['LAST(Results.PrizeType)_Prize', 'MODE(Results.PrizeType)_Prize',\n",
              "       'NumberId', 'month', 'time', 'year'],\n",
              "      dtype='object')"
            ]
          },
          "metadata": {
            "tags": []
          }
        },
        {
          "output_type": "display_data",
          "data": {
            "text/plain": [
              "Index(['LAST(Results.PrizeType)', 'MODE(Results.PrizeType)'], dtype='object')"
            ]
          },
          "metadata": {
            "tags": []
          }
        }
      ]
    },
    {
      "cell_type": "code",
      "metadata": {
        "id": "x7dgo6jWxGxr",
        "colab_type": "code",
        "colab": {
          "base_uri": "https://localhost:8080/",
          "height": 276
        },
        "outputId": "34ac7c2b-9a70-498c-fc14-ca204baebac6"
      },
      "source": [
        "#jul_2020_orig.dtypes.head(10)\n",
        "jul_2020_orig.shape\n",
        "display(jul_2020_orig[\"LAST(Results.PrizeType)\"].head(300))\n",
        "len(list(jul_2020_orig[\"LAST(Results.PrizeType)\"].values))"
      ],
      "execution_count": 19,
      "outputs": [
        {
          "output_type": "execute_result",
          "data": {
            "text/plain": [
              "(10000, 213)"
            ]
          },
          "metadata": {
            "tags": []
          },
          "execution_count": 19
        },
        {
          "output_type": "display_data",
          "data": {
            "text/plain": [
              "NumberId  time      \n",
              "115       2020-07-01    Prize\n",
              "204       2020-07-01    Prize\n",
              "318       2020-07-01    Prize\n",
              "513       2020-07-01    Prize\n",
              "793       2020-07-01    Prize\n",
              "                        ...  \n",
              "9285      2020-07-01    Prize\n",
              "8726      2020-07-01    Prize\n",
              "93        2020-07-01    Prize\n",
              "6128      2020-07-01    Prize\n",
              "1096      2020-07-01    Prize\n",
              "Name: LAST(Results.PrizeType), Length: 300, dtype: object"
            ]
          },
          "metadata": {
            "tags": []
          }
        },
        {
          "output_type": "execute_result",
          "data": {
            "text/plain": [
              "10000"
            ]
          },
          "metadata": {
            "tags": []
          },
          "execution_count": 19
        }
      ]
    },
    {
      "cell_type": "code",
      "metadata": {
        "id": "Z4nQM7SkxbTM",
        "colab_type": "code",
        "colab": {}
      },
      "source": [
        ""
      ],
      "execution_count": 16,
      "outputs": []
    }
  ]
}
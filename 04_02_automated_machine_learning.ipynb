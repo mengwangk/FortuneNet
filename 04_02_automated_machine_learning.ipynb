{
 "cells": [
  {
   "cell_type": "markdown",
   "metadata": {
    "colab_type": "text",
    "id": "view-in-github"
   },
   "source": [
    "<a href=\"https://colab.research.google.com/github/mengwangk/dl-projects/blob/master/04_02_automated_machine_learning.ipynb\" target=\"_parent\"><img src=\"https://colab.research.google.com/assets/colab-badge.svg\" alt=\"Open In Colab\"/></a>"
   ]
  },
  {
   "cell_type": "markdown",
   "metadata": {
    "colab_type": "text",
    "id": "4hyoPGdjpqa_"
   },
   "source": [
    "# Automated ML"
   ]
  },
  {
   "cell_type": "code",
   "execution_count": null,
   "metadata": {
    "colab": {},
    "colab_type": "code",
    "id": "fC2-l3JBpqbE"
   },
   "outputs": [],
   "source": [
    "%reload_ext autoreload\n",
    "%autoreload 2\n",
    "\n",
    "%matplotlib inline"
   ]
  },
  {
   "cell_type": "code",
   "execution_count": null,
   "metadata": {
    "colab": {},
    "colab_type": "code",
    "id": "TP7V_IzepqbK"
   },
   "outputs": [],
   "source": [
    "import numpy as np\n",
    "import pandas as pd\n",
    "import seaborn as sns\n",
    "import matplotlib.pyplot as plt\n",
    "import scipy.stats as ss\n",
    "import math \n",
    "import matplotlib\n",
    "\n",
    "from scipy import stats\n",
    "from collections import Counter\n",
    "from pathlib import Path\n",
    "\n",
    "plt.style.use('fivethirtyeight')\n",
    "\n",
    "sns.set(style=\"ticks\")\n",
    "\n",
    "# Automated feature engineering\n",
    "import featuretools as ft\n",
    "\n",
    "# Machine learning\n",
    "from sklearn.pipeline import Pipeline\n",
    "from sklearn.preprocessing import Imputer, MinMaxScaler, StandardScaler\n",
    "from sklearn.metrics import precision_score, recall_score, f1_score, roc_auc_score, precision_recall_curve, roc_curve\n",
    "from sklearn.model_selection import train_test_split, cross_val_score\n",
    "from sklearn.ensemble import RandomForestClassifier\n",
    "\n",
    "from IPython.display import display\n",
    "\n",
    "from utils import *\n",
    "from preprocess import *\n",
    "\n",
    "# The Answer to the Ultimate Question of Life, the Universe, and Everything.\n",
    "np.random.seed(42)"
   ]
  },
  {
   "cell_type": "code",
   "execution_count": null,
   "metadata": {
    "colab": {},
    "colab_type": "code",
    "id": "3bFT5CoxpqbP",
    "outputId": "93abb871-e28b-40b0-f673-9d866ffb40a6"
   },
   "outputs": [],
   "source": [
    "%aimport"
   ]
  },
  {
   "cell_type": "markdown",
   "metadata": {
    "colab_type": "text",
    "id": "3E16jPVPpqbV"
   },
   "source": [
    "## Preparation"
   ]
  },
  {
   "cell_type": "code",
   "execution_count": null,
   "metadata": {
    "colab": {},
    "colab_type": "code",
    "id": "9IgnETKkpqbX"
   },
   "outputs": [],
   "source": [
    "DATASET_PATH = Path(\"datasets/lotto\")\n",
    "DATASET = DATASET_PATH/\"4D.zip\""
   ]
  },
  {
   "cell_type": "code",
   "execution_count": null,
   "metadata": {
    "colab": {},
    "colab_type": "code",
    "id": "vD-iIrCipqbc"
   },
   "outputs": [],
   "source": [
    "data = format_tabular(DATASET)"
   ]
  },
  {
   "cell_type": "code",
   "execution_count": null,
   "metadata": {
    "colab": {},
    "colab_type": "code",
    "id": "BbDpkNHPpqbi",
    "outputId": "7fb399e0-ecef-4499-8386-670a4cec7971"
   },
   "outputs": [],
   "source": [
    "data.info()"
   ]
  },
  {
   "cell_type": "code",
   "execution_count": null,
   "metadata": {
    "colab": {},
    "colab_type": "code",
    "id": "WY4duu6Tpqbp",
    "outputId": "25c1cb68-e6c5-4882-b9f2-1309be0a1256"
   },
   "outputs": [],
   "source": [
    "data.tail(10)"
   ]
  },
  {
   "cell_type": "code",
   "execution_count": null,
   "metadata": {},
   "outputs": [],
   "source": [
    "data['NumberId'] = data['LuckyNo']"
   ]
  },
  {
   "cell_type": "code",
   "execution_count": null,
   "metadata": {},
   "outputs": [],
   "source": [
    "data.tail(10)"
   ]
  },
  {
   "cell_type": "code",
   "execution_count": null,
   "metadata": {},
   "outputs": [],
   "source": [
    "data.describe()"
   ]
  },
  {
   "cell_type": "code",
   "execution_count": null,
   "metadata": {},
   "outputs": [],
   "source": [
    "plt.figure(figsize=(20,6))\n",
    "sns.boxplot(x='NumberId', y='PrizeType',data=data)\n",
    "plt.xticks(rotation=90)\n",
    "plt.title('Draw')\n",
    "\n",
    "print(data[data['NumberId']==1760])"
   ]
  },
  {
   "cell_type": "markdown",
   "metadata": {},
   "source": [
    "## Exploration"
   ]
  },
  {
   "cell_type": "code",
   "execution_count": null,
   "metadata": {},
   "outputs": [],
   "source": [
    "def ecdf(data):\n",
    "    x = np.sort(data)\n",
    "    y = np.arange(1, len(x) + 1) / len(x)\n",
    "    return x, y"
   ]
  },
  {
   "cell_type": "code",
   "execution_count": null,
   "metadata": {},
   "outputs": [],
   "source": []
  },
  {
   "cell_type": "markdown",
   "metadata": {},
   "source": [
    "## Making Labels"
   ]
  },
  {
   "cell_type": "code",
   "execution_count": null,
   "metadata": {},
   "outputs": [],
   "source": [
    "data['TotalStrike'] = 1\n",
    "data.head(10)"
   ]
  },
  {
   "cell_type": "code",
   "execution_count": null,
   "metadata": {},
   "outputs": [],
   "source": [
    "def make_cutoffs(start_date, end_date, threshold=0):\n",
    "    # Find numbers exist before start date\n",
    "    number_pool = data[data['DrawDate'] < start_date]['NumberId'].unique()\n",
    "    tmp = pd.DataFrame({'NumberId': number_pool})\n",
    "   \n",
    "    # For numbers in the number pool, find their strike count between the start and end dates\n",
    "    strike_counts = data[(data['NumberId'].isin(number_pool)) & \n",
    "        (data['DrawDate'] >= start_date) & \n",
    "        (data['DrawDate']< end_date)\n",
    "    ].groupby('NumberId')['TotalStrike'].count().reset_index()\n",
    "    \n",
    "    number_of_draws = data[\n",
    "                 (data['DrawDate'] >= start_date) & \n",
    "                 (data['DrawDate']< end_date)]['DrawDate'].nunique()\n",
    "    # display(strike_counts)\n",
    "    # print(number_of_draws)\n",
    "    \n",
    "    # Merge with all the number ids to record all customers who existed before start date\n",
    "    strike_counts = strike_counts.merge(tmp, on='NumberId', how='right')\n",
    "    \n",
    "    # Set the total for any numbers who did not strike in the timeframe equal to 0\n",
    "    strike_counts['TotalStrike'] = strike_counts['TotalStrike'].fillna(0)\n",
    "    \n",
    "    # Label is based on the threshold\n",
    "    strike_counts['Label'] = (strike_counts['TotalStrike'] > threshold).astype(int)\n",
    "        \n",
    "    # The cutoff time is the start date\n",
    "    strike_counts['cutoff_time'] = pd.to_datetime(start_date)\n",
    "    strike_counts = strike_counts[['NumberId', 'cutoff_time', 'TotalStrike', 'Label']]\n",
    "    \n",
    "    #display(strike_counts[strike_counts['Label']==1].nunique())\n",
    "    #display(strike_counts.sort_values(by='TotalStrike', ascending=False))\n",
    "   \n",
    "    return number_of_draws, strike_counts"
   ]
  },
  {
   "cell_type": "code",
   "execution_count": null,
   "metadata": {},
   "outputs": [],
   "source": [
    "number_of_draws, may_2015 = make_cutoffs(pd.datetime(2015, 5, 1), pd.datetime(2015, 6, 1))\n",
    "#display(len(may_2015))\n",
    "#display(may_2015[may_2015['Label']==1].nunique())\n",
    "may_2015[may_2015['Label']==1 & (may_2015['TotalStrike']==2)].sort_values(by='TotalStrike', ascending=False).head()"
   ]
  },
  {
   "cell_type": "code",
   "execution_count": null,
   "metadata": {},
   "outputs": [],
   "source": [
    "may_2015['Label'].value_counts().plot.bar()\n",
    "plt.title('Label Distribution for May')"
   ]
  },
  {
   "cell_type": "code",
   "execution_count": null,
   "metadata": {},
   "outputs": [],
   "source": [
    "CUT_OFF_YEAR=pd.datetime(2014, 1, 1)"
   ]
  },
  {
   "cell_type": "code",
   "execution_count": null,
   "metadata": {},
   "outputs": [],
   "source": [
    "## Loop through each month starting from CUT_OFF_YEAR\n",
    "\n",
    "from dateutil.relativedelta import relativedelta\n",
    "\n",
    "# print(data['DrawDate'].max())\n",
    "max_year_month = data['DrawDate'].max() - relativedelta(months=1) + relativedelta(day=31)\n",
    "print(f\"Max month year: {max_year_month}\")\n",
    "\n",
    "start_year_month = CUT_OFF_YEAR\n",
    "\n",
    "months_data = []\n",
    "total_draws = 0\n",
    "while start_year_month < max_year_month:\n",
    "    start_date = start_year_month \n",
    "    end_date = start_date + relativedelta(months=1)\n",
    "    start_year_month = start_year_month + relativedelta(months=1)\n",
    "    #print(f\"Labels from {start_date} to {end_date}\")\n",
    "    draw_count, month_data = make_cutoffs(start_date, end_date)\n",
    "    total_draws = total_draws + draw_count\n",
    "    months_data.append(month_data)\n",
    "\n",
    "print(f\"Total draws: {total_draws}\")\n",
    "print(f\"Total draws: {data[(data['DrawDate'] >= CUT_OFF_YEAR) & (data['DrawDate'] <= max_year_month)]['DrawDate'].nunique()}\")\n",
    "print(f\"Total months:{len(months_data)}\")\n",
    "print(f\"Total records count: {sum([len(l) for l in months_data])}\")\n",
    "print([len(l) for l in months_data])"
   ]
  },
  {
   "cell_type": "code",
   "execution_count": null,
   "metadata": {},
   "outputs": [],
   "source": [
    "labels = pd.concat(months_data)\n",
    "labels.to_csv(DATASET_PATH/'labels.csv')\n",
    "labels.describe()"
   ]
  },
  {
   "cell_type": "code",
   "execution_count": null,
   "metadata": {},
   "outputs": [],
   "source": [
    "# plot_labels = labels.copy()\n",
    "# plot_labels['month'] = plot_labels['cutoff_time'].dt.month\n",
    "\n",
    "# plt.figure(figsize = (12, 6))\n",
    "# sns.boxplot(x = 'month', y = 'TotalStrike', \n",
    "#             data = plot_labels[(plot_labels['TotalStrike'] > 0)]);\n",
    "# plt.title('Distribution by Month');"
   ]
  },
  {
   "cell_type": "code",
   "execution_count": null,
   "metadata": {},
   "outputs": [],
   "source": [
    "labels[(labels['NumberId'] == 9016)  & (labels['Label'] > 0)]"
   ]
  },
  {
   "cell_type": "code",
   "execution_count": null,
   "metadata": {},
   "outputs": [],
   "source": [
    "labels.loc[labels['NumberId'] == 9016].set_index('cutoff_time')['TotalStrike'].plot(figsize = (6, 4), linewidth = 3)\n",
    "plt.xlabel('Date', size = 16); \n",
    "plt.ylabel('Total Strike', size = 16); \n",
    "plt.title('Draw', size = 20);\n",
    "plt.xticks(size = 16); plt.yticks(size = 16);"
   ]
  },
  {
   "cell_type": "code",
   "execution_count": null,
   "metadata": {},
   "outputs": [],
   "source": []
  },
  {
   "cell_type": "markdown",
   "metadata": {
    "colab_type": "text",
    "id": "stLvE4bspqbx"
   },
   "source": [
    "## Automated Feature Engineering"
   ]
  },
  {
   "cell_type": "code",
   "execution_count": null,
   "metadata": {
    "colab": {},
    "colab_type": "code",
    "id": "ACOmTMZQpqbz"
   },
   "outputs": [],
   "source": [
    "es = ft.EntitySet(id=\"Lotto Results\")\n",
    "\n",
    "# Add the entire data table as an entity\n",
    "es.entity_from_dataframe(\"Results\",\n",
    "                         dataframe=data,\n",
    "                         index=\"results_index\",\n",
    "                         time_index = 'DrawDate')\n",
    "\n",
    "es['Results']"
   ]
  },
  {
   "cell_type": "code",
   "execution_count": null,
   "metadata": {},
   "outputs": [],
   "source": [
    "es.normalize_entity(new_entity_id=\"Numbers\",\n",
    "                    base_entity_id=\"Results\",\n",
    "                    index=\"NumberId\",\n",
    "                    )"
   ]
  },
  {
   "cell_type": "code",
   "execution_count": null,
   "metadata": {},
   "outputs": [],
   "source": [
    "es"
   ]
  },
  {
   "cell_type": "code",
   "execution_count": null,
   "metadata": {},
   "outputs": [],
   "source": [
    "es['Numbers'].df.head(10)"
   ]
  },
  {
   "cell_type": "code",
   "execution_count": null,
   "metadata": {},
   "outputs": [],
   "source": [
    "es['Results'].df.head(10)"
   ]
  },
  {
   "cell_type": "markdown",
   "metadata": {},
   "source": [
    "## Deep Feature Synthesis"
   ]
  },
  {
   "cell_type": "code",
   "execution_count": null,
   "metadata": {},
   "outputs": [],
   "source": [
    "feature_matrix, feature_names = ft.dfs(entityset=es, target_entity='Numbers',\n",
    "                                       cutoff_time = labels, verbose = 2,\n",
    "                                       cutoff_time_in_index = True,\n",
    "                                       chunk_size = len(labels), n_jobs = -1,\n",
    "                                       max_depth = 1)"
   ]
  },
  {
   "cell_type": "code",
   "execution_count": null,
   "metadata": {},
   "outputs": [],
   "source": [
    "feature_matrix.columns"
   ]
  },
  {
   "cell_type": "code",
   "execution_count": null,
   "metadata": {},
   "outputs": [],
   "source": [
    "len(feature_matrix)"
   ]
  },
  {
   "cell_type": "code",
   "execution_count": null,
   "metadata": {},
   "outputs": [],
   "source": [
    "feature_matrix.head(100)"
   ]
  },
  {
   "cell_type": "code",
   "execution_count": null,
   "metadata": {},
   "outputs": [],
   "source": []
  }
 ],
 "metadata": {
  "colab": {
   "include_colab_link": true,
   "name": "04_02_automated_machine_learning.ipynb",
   "provenance": []
  },
  "kernelspec": {
   "display_name": "Python 3",
   "language": "python",
   "name": "python3"
  },
  "language_info": {
   "codemirror_mode": {
    "name": "ipython",
    "version": 3
   },
   "file_extension": ".py",
   "mimetype": "text/x-python",
   "name": "python",
   "nbconvert_exporter": "python",
   "pygments_lexer": "ipython3",
   "version": "3.7.2"
  }
 },
 "nbformat": 4,
 "nbformat_minor": 2
}

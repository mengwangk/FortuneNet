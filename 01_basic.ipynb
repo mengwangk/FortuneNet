{
 "cells": [
  {
   "cell_type": "code",
   "execution_count": 3,
   "metadata": {},
   "outputs": [],
   "source": [
    "from pathlib import Path\n",
    "import pandas as pd\n",
    "\n",
    "DATASET = Path(\"datasets/lotto/data_processed.csv\")"
   ]
  },
  {
   "cell_type": "code",
   "execution_count": 4,
   "metadata": {},
   "outputs": [],
   "source": [
    "# Read into data frame\n",
    "dataset = pd.read_csv(DATASET, header=0, sep=',', quotechar='\"', parse_dates=['DrawDate'], dtype={'PrizeType': str})"
   ]
  },
  {
   "cell_type": "code",
   "execution_count": 8,
   "metadata": {},
   "outputs": [],
   "source": [
    "df = dataset.copy()"
   ]
  },
  {
   "cell_type": "code",
   "execution_count": 11,
   "metadata": {},
   "outputs": [
    {
     "data": {
      "text/plain": [
       "Index(['DrawNo', 'DrawDate', 'PrizeType', 'LuckyNo', 'DaysSinceLastExactMatch',\n",
       "       'DaysUntilNextExactMatch', 'DaysSinceLastAnyMatch',\n",
       "       'DaysUntilNextAnyMatch', '1st_digit', '2nd_digit',\n",
       "       ...\n",
       "       'pos_4_0_freq', 'pos_4_1_freq', 'pos_4_2_freq', 'pos_4_3_freq',\n",
       "       'pos_4_4_freq', 'pos_4_5_freq', 'pos_4_6_freq', 'pos_4_7_freq',\n",
       "       'pos_4_8_freq', 'pos_4_9_freq'],\n",
       "      dtype='object', length=115)"
      ]
     },
     "execution_count": 11,
     "metadata": {},
     "output_type": "execute_result"
    }
   ],
   "source": [
    "df.columns"
   ]
  },
  {
   "cell_type": "code",
   "execution_count": 13,
   "metadata": {},
   "outputs": [
    {
     "name": "stdout",
     "output_type": "stream",
     "text": [
      "<class 'pandas.core.frame.DataFrame'>\n",
      "RangeIndex: 104673 entries, 0 to 104672\n",
      "Columns: 115 entries, DrawNo to pos_4_9_freq\n",
      "dtypes: datetime64[ns](1), float64(2), int64(111), object(1)\n",
      "memory usage: 91.8+ MB\n"
     ]
    }
   ],
   "source": [
    "df.info()"
   ]
  },
  {
   "cell_type": "code",
   "execution_count": 16,
   "metadata": {},
   "outputs": [
    {
     "data": {
      "text/plain": [
       "DrawNo                              int64\n",
       "DrawDate                   datetime64[ns]\n",
       "PrizeType                          object\n",
       "LuckyNo                             int64\n",
       "DaysSinceLastExactMatch             int64\n",
       "DaysUntilNextExactMatch             int64\n",
       "DaysSinceLastAnyMatch               int64\n",
       "DaysUntilNextAnyMatch               int64\n",
       "1st_digit                           int64\n",
       "2nd_digit                           int64\n",
       "3rd_digit                           int64\n",
       "4th_digit                           int64\n",
       "DrawYear                            int64\n",
       "DrawMonth                           int64\n",
       "DrawWeek                            int64\n",
       "DrawDay                             int64\n",
       "DrawDayofweek                       int64\n",
       "DrawDayofyear                       int64\n",
       "CumProbaExactMatch                float64\n",
       "CumProbaAnyMatch                  float64\n",
       "0_1                                 int64\n",
       "0_2                                 int64\n",
       "0_3                                 int64\n",
       "0_4                                 int64\n",
       "0_5                                 int64\n",
       "0_6                                 int64\n",
       "0_7                                 int64\n",
       "0_8                                 int64\n",
       "0_9                                 int64\n",
       "1_2                                 int64\n",
       "                                ...      \n",
       "pos_2_0_freq                        int64\n",
       "pos_2_1_freq                        int64\n",
       "pos_2_2_freq                        int64\n",
       "pos_2_3_freq                        int64\n",
       "pos_2_4_freq                        int64\n",
       "pos_2_5_freq                        int64\n",
       "pos_2_6_freq                        int64\n",
       "pos_2_7_freq                        int64\n",
       "pos_2_8_freq                        int64\n",
       "pos_2_9_freq                        int64\n",
       "pos_3_0_freq                        int64\n",
       "pos_3_1_freq                        int64\n",
       "pos_3_2_freq                        int64\n",
       "pos_3_3_freq                        int64\n",
       "pos_3_4_freq                        int64\n",
       "pos_3_5_freq                        int64\n",
       "pos_3_6_freq                        int64\n",
       "pos_3_7_freq                        int64\n",
       "pos_3_8_freq                        int64\n",
       "pos_3_9_freq                        int64\n",
       "pos_4_0_freq                        int64\n",
       "pos_4_1_freq                        int64\n",
       "pos_4_2_freq                        int64\n",
       "pos_4_3_freq                        int64\n",
       "pos_4_4_freq                        int64\n",
       "pos_4_5_freq                        int64\n",
       "pos_4_6_freq                        int64\n",
       "pos_4_7_freq                        int64\n",
       "pos_4_8_freq                        int64\n",
       "pos_4_9_freq                        int64\n",
       "Length: 115, dtype: object"
      ]
     },
     "execution_count": 16,
     "metadata": {},
     "output_type": "execute_result"
    }
   ],
   "source": [
    "df.dtypes"
   ]
  },
  {
   "cell_type": "code",
   "execution_count": null,
   "metadata": {},
   "outputs": [],
   "source": []
  }
 ],
 "metadata": {
  "kernelspec": {
   "display_name": "Python 3",
   "language": "python",
   "name": "python3"
  },
  "language_info": {
   "codemirror_mode": {
    "name": "ipython",
    "version": 3
   },
   "file_extension": ".py",
   "mimetype": "text/x-python",
   "name": "python",
   "nbconvert_exporter": "python",
   "pygments_lexer": "ipython3",
   "version": "3.7.2"
  }
 },
 "nbformat": 4,
 "nbformat_minor": 2
}

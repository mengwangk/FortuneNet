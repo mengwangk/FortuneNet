{
  "nbformat": 4,
  "nbformat_minor": 0,
  "metadata": {
    "kernelspec": {
      "name": "python3",
      "display_name": "Python 3"
    },
    "language_info": {
      "codemirror_mode": {
        "name": "ipython",
        "version": 3
      },
      "file_extension": ".py",
      "mimetype": "text/x-python",
      "name": "python",
      "nbconvert_exporter": "python",
      "pygments_lexer": "ipython3",
      "version": "3.7.2"
    },
    "colab": {
      "name": "01_07_python..ipynb",
      "provenance": [],
      "include_colab_link": true
    },
    "accelerator": "GPU"
  },
  "cells": [
    {
      "cell_type": "markdown",
      "metadata": {
        "id": "view-in-github",
        "colab_type": "text"
      },
      "source": [
        "<a href=\"https://colab.research.google.com/github/mengwangk/dl-projects/blob/master/01_07_python_1.ipynb\" target=\"_parent\"><img src=\"https://colab.research.google.com/assets/colab-badge.svg\" alt=\"Open In Colab\"/></a>"
      ]
    },
    {
      "cell_type": "code",
      "metadata": {
        "id": "64QW6JHO3eRR",
        "colab_type": "code",
        "colab": {}
      },
      "source": [
        "import numpy as np\n",
        "import pandas as pd"
      ],
      "execution_count": 0,
      "outputs": []
    },
    {
      "cell_type": "markdown",
      "metadata": {
        "id": "hl3DMGAV3eRX",
        "colab_type": "text"
      },
      "source": [
        "Swapping Values"
      ]
    },
    {
      "cell_type": "code",
      "metadata": {
        "id": "KduJ30I66MPN",
        "colab_type": "code",
        "colab": {
          "base_uri": "https://localhost:8080/",
          "height": 52
        },
        "outputId": "a2ac5ea1-47f0-43fa-c521-6990341cda68"
      },
      "source": [
        "x, y = 1, 2\n",
        "print(x, y)\n",
        "x, y = y, x\n",
        "print(x, y)"
      ],
      "execution_count": 2,
      "outputs": [
        {
          "output_type": "stream",
          "text": [
            "1 2\n",
            "2 1\n"
          ],
          "name": "stdout"
        }
      ]
    },
    {
      "cell_type": "markdown",
      "metadata": {
        "id": "RxO3bsbXFd-z",
        "colab_type": "text"
      },
      "source": [
        "## Combining list of strings"
      ]
    },
    {
      "cell_type": "code",
      "metadata": {
        "id": "DK8RYirsF8Kg",
        "colab_type": "code",
        "colab": {
          "base_uri": "https://localhost:8080/",
          "height": 34
        },
        "outputId": "5c86fd8a-34d6-4e7b-a5c7-551b37d84b00"
      },
      "source": [
        "sentence_list = [\"my\", \"name\", \"is\", \"George\"]\n",
        "sentence_string = \" \".join(sentence_list)\n",
        "print(sentence_string)"
      ],
      "execution_count": 3,
      "outputs": [
        {
          "output_type": "stream",
          "text": [
            "my name is George\n"
          ],
          "name": "stdout"
        }
      ]
    },
    {
      "cell_type": "markdown",
      "metadata": {
        "id": "aH6GWZaAF9-Q",
        "colab_type": "text"
      },
      "source": [
        "## Splitting a string into a list of substrings"
      ]
    },
    {
      "cell_type": "code",
      "metadata": {
        "id": "3X7SFH42GBi2",
        "colab_type": "code",
        "colab": {
          "base_uri": "https://localhost:8080/",
          "height": 34
        },
        "outputId": "22e1f50d-67db-4f2b-83e1-ca3b2a00772b"
      },
      "source": [
        "sentence_string = \"my name is George\"\n",
        "sentence_string.split()\n",
        "print(sentence_string)"
      ],
      "execution_count": 4,
      "outputs": [
        {
          "output_type": "stream",
          "text": [
            "my name is George\n"
          ],
          "name": "stdout"
        }
      ]
    },
    {
      "cell_type": "markdown",
      "metadata": {
        "id": "ZM96Iy2iGCzv",
        "colab_type": "text"
      },
      "source": [
        "## Initialising a list filled with some number"
      ]
    },
    {
      "cell_type": "code",
      "metadata": {
        "id": "gloC1ICvGGab",
        "colab_type": "code",
        "colab": {
          "base_uri": "https://localhost:8080/",
          "height": 34
        },
        "outputId": "0163c2eb-4f9c-4fe0-a82b-36c9d98524e1"
      },
      "source": [
        "[8.2]*10 # List of 1000 8.2's"
      ],
      "execution_count": 7,
      "outputs": [
        {
          "output_type": "execute_result",
          "data": {
            "text/plain": [
              "[8.2, 8.2, 8.2, 8.2, 8.2, 8.2, 8.2, 8.2, 8.2, 8.2]"
            ]
          },
          "metadata": {
            "tags": []
          },
          "execution_count": 7
        }
      ]
    },
    {
      "cell_type": "markdown",
      "metadata": {
        "id": "m7D1mtAYGHne",
        "colab_type": "text"
      },
      "source": [
        "## Merging dictionaries"
      ]
    },
    {
      "cell_type": "code",
      "metadata": {
        "id": "9p8gWR7FGTJX",
        "colab_type": "code",
        "colab": {
          "base_uri": "https://localhost:8080/",
          "height": 34
        },
        "outputId": "559a1e8a-2f97-4d46-8d9d-d083954aa069"
      },
      "source": [
        "x = {'a': 1, 'b': 2}\n",
        "y = {'b': 3, 'c': 4}\n",
        "z = {**x, **y}\n",
        "print(z)"
      ],
      "execution_count": 9,
      "outputs": [
        {
          "output_type": "stream",
          "text": [
            "{'a': 1, 'b': 3, 'c': 4}\n"
          ],
          "name": "stdout"
        }
      ]
    },
    {
      "cell_type": "markdown",
      "metadata": {
        "id": "opcM91wTGUO0",
        "colab_type": "text"
      },
      "source": [
        "## Reverse a string"
      ]
    },
    {
      "cell_type": "code",
      "metadata": {
        "id": "uzcM0n9gG-JP",
        "colab_type": "code",
        "colab": {
          "base_uri": "https://localhost:8080/",
          "height": 34
        },
        "outputId": "a6505868-8d7f-4954-a2a6-1247f675885f"
      },
      "source": [
        "name = \"George\"\n",
        "name[::-1]"
      ],
      "execution_count": 10,
      "outputs": [
        {
          "output_type": "execute_result",
          "data": {
            "text/plain": [
              "'egroeG'"
            ]
          },
          "metadata": {
            "tags": []
          },
          "execution_count": 10
        }
      ]
    },
    {
      "cell_type": "markdown",
      "metadata": {
        "id": "7oxfgJ3cG_RX",
        "colab_type": "text"
      },
      "source": [
        "## Return multiple values"
      ]
    },
    {
      "cell_type": "code",
      "metadata": {
        "id": "Ydonw2pFHB6G",
        "colab_type": "code",
        "colab": {}
      },
      "source": [
        "def get_a_string():\n",
        "    a = \"George\"\n",
        "    b = \"is\"\n",
        "    c = \"cool\"\n",
        "    return a, b, c\n",
        "sentence = get_a_string()\n",
        "(a, b, c) = sentence"
      ],
      "execution_count": 0,
      "outputs": []
    },
    {
      "cell_type": "markdown",
      "metadata": {
        "id": "jvbZ-RwUHDOl",
        "colab_type": "text"
      },
      "source": [
        "## List comprehension"
      ]
    },
    {
      "cell_type": "code",
      "metadata": {
        "id": "q3cg5IBeHFyV",
        "colab_type": "code",
        "colab": {}
      },
      "source": [
        "a = [1, 2, 3]\n",
        "b = [num*2 for num in a] # Create a new list by multiplying each element in a by 2"
      ],
      "execution_count": 0,
      "outputs": []
    },
    {
      "cell_type": "markdown",
      "metadata": {
        "id": "1pC7vvoPHIrT",
        "colab_type": "text"
      },
      "source": [
        "## Iterating over a dictionary"
      ]
    },
    {
      "cell_type": "code",
      "metadata": {
        "id": "wAOqwpBMHL0T",
        "colab_type": "code",
        "colab": {
          "base_uri": "https://localhost:8080/",
          "height": 87
        },
        "outputId": "3730d474-6442-4d1a-c318-cceef95239ed"
      },
      "source": [
        "m = {'a': 1, 'b': 2, 'c': 3, 'd': 4} \n",
        "for key, value in m.items():\n",
        "    print('{0}: {1}'.format(key, value))"
      ],
      "execution_count": 13,
      "outputs": [
        {
          "output_type": "stream",
          "text": [
            "a: 1\n",
            "b: 2\n",
            "c: 3\n",
            "d: 4\n"
          ],
          "name": "stdout"
        }
      ]
    },
    {
      "cell_type": "markdown",
      "metadata": {
        "id": "wsfeKO6LHM5g",
        "colab_type": "text"
      },
      "source": [
        "## Iterating over list values while getting the index too"
      ]
    },
    {
      "cell_type": "code",
      "metadata": {
        "id": "n8GjAz1gHRE4",
        "colab_type": "code",
        "colab": {
          "base_uri": "https://localhost:8080/",
          "height": 87
        },
        "outputId": "04dea383-8df2-4fe1-b104-96b02ebdd5a7"
      },
      "source": [
        "m = ['a', 'b', 'c', 'd']\n",
        "for index, value in enumerate(m):\n",
        "    print('{0}: {1}'.format(index, value))"
      ],
      "execution_count": 14,
      "outputs": [
        {
          "output_type": "stream",
          "text": [
            "0: a\n",
            "1: b\n",
            "2: c\n",
            "3: d\n"
          ],
          "name": "stdout"
        }
      ]
    },
    {
      "cell_type": "markdown",
      "metadata": {
        "id": "GmVUJUL_HSG3",
        "colab_type": "text"
      },
      "source": [
        "## Initialising empty containers"
      ]
    },
    {
      "cell_type": "code",
      "metadata": {
        "id": "95CR35M0HVwo",
        "colab_type": "code",
        "colab": {}
      },
      "source": [
        "a_list = list()\n",
        "a_dict = dict()\n",
        "a_set = set()"
      ],
      "execution_count": 0,
      "outputs": []
    },
    {
      "cell_type": "markdown",
      "metadata": {
        "id": "hO3b-IsZHWzA",
        "colab_type": "text"
      },
      "source": [
        "## Remove useless characters"
      ]
    },
    {
      "cell_type": "code",
      "metadata": {
        "id": "UTMafcj5HeyO",
        "colab_type": "code",
        "colab": {
          "base_uri": "https://localhost:8080/",
          "height": 34
        },
        "outputId": "ba4765a6-b78c-4c3d-b0ff-dce0c692f771"
      },
      "source": [
        "name = \"  George \"\n",
        "name_2 = \"George///\"\n",
        "name.strip() # prints \"George\"\n",
        "name_2.strip(\"/\") # prints \"George\""
      ],
      "execution_count": 17,
      "outputs": [
        {
          "output_type": "execute_result",
          "data": {
            "text/plain": [
              "'George'"
            ]
          },
          "metadata": {
            "tags": []
          },
          "execution_count": 17
        }
      ]
    },
    {
      "cell_type": "markdown",
      "metadata": {
        "id": "I8HjL5e0Hf93",
        "colab_type": "text"
      },
      "source": [
        "## Find the most frequent element in a list"
      ]
    },
    {
      "cell_type": "code",
      "metadata": {
        "id": "Wrz-B66zHlxG",
        "colab_type": "code",
        "colab": {
          "base_uri": "https://localhost:8080/",
          "height": 34
        },
        "outputId": "eebf5028-138a-4893-a3d7-ff3293f9d6a8"
      },
      "source": [
        "test = [1, 2, 3, 4, 2, 2, 3, 1, 4, 4, 4, 4]\n",
        "print(max(set(test), key = test.count))"
      ],
      "execution_count": 19,
      "outputs": [
        {
          "output_type": "stream",
          "text": [
            "4\n"
          ],
          "name": "stdout"
        }
      ]
    },
    {
      "cell_type": "markdown",
      "metadata": {
        "id": "-GCLzZjyHnPJ",
        "colab_type": "text"
      },
      "source": [
        "## Check the memory usage of an object\n"
      ]
    },
    {
      "cell_type": "code",
      "metadata": {
        "id": "gsZKG9n6ILkN",
        "colab_type": "code",
        "colab": {
          "base_uri": "https://localhost:8080/",
          "height": 34
        },
        "outputId": "8b124ac4-42e3-4735-a4fb-75be1827dbf9"
      },
      "source": [
        "import sys\n",
        "x = 1\n",
        "print(sys.getsizeof(x))"
      ],
      "execution_count": 20,
      "outputs": [
        {
          "output_type": "stream",
          "text": [
            "28\n"
          ],
          "name": "stdout"
        }
      ]
    },
    {
      "cell_type": "markdown",
      "metadata": {
        "id": "bEw_QkKWINyQ",
        "colab_type": "text"
      },
      "source": [
        "## Convert dict to XML"
      ]
    },
    {
      "cell_type": "code",
      "metadata": {
        "id": "KhR1G7JMITEC",
        "colab_type": "code",
        "colab": {}
      },
      "source": [
        "from xml.etree.ElementTree import Element\n",
        "def dict_to_xml(tag, d):\n",
        "    '''\n",
        "    Turn a simple dict of key/value pairs into XML\n",
        "    '''\n",
        "    elem = Element(tag)\n",
        "    for key, val in d.items():\n",
        "        child = Element(key)\n",
        "        child.text = str(val)\n",
        "        elem.append(child)\n",
        "    return elem"
      ],
      "execution_count": 0,
      "outputs": []
    },
    {
      "cell_type": "code",
      "metadata": {
        "id": "mlpb8mbDIUyt",
        "colab_type": "code",
        "colab": {}
      },
      "source": [
        ""
      ],
      "execution_count": 0,
      "outputs": []
    }
  ]
}
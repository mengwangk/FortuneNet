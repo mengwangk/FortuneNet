{
 "cells": [
  {
   "cell_type": "code",
   "execution_count": null,
   "metadata": {},
   "outputs": [],
   "source": [
    "from pathlib import Path\n",
    "import pandas as pd\n",
    "import numpy as np\n",
    "import scipy as sp\n",
    "\n",
    "import warnings\n",
    "warnings.filterwarnings(action=\"ignore\", message=\"^internal gelsd\")\n",
    "\n",
    "DATASET = Path(\"datasets/lotto/data_processed.csv\")\n",
    "\n",
    "# The Answer to the Ultimate Question of Life, the Universe, and Everything.\n",
    "np.random.seed(42)"
   ]
  },
  {
   "cell_type": "code",
   "execution_count": null,
   "metadata": {},
   "outputs": [],
   "source": [
    "# Read into data frame\n",
    "dataset = pd.read_csv(DATASET, header=0, sep=',', quotechar='\"', parse_dates=['DrawDate'], dtype={'PrizeType': str})"
   ]
  },
  {
   "cell_type": "code",
   "execution_count": null,
   "metadata": {},
   "outputs": [],
   "source": [
    "dataset.head(10)"
   ]
  },
  {
   "cell_type": "code",
   "execution_count": null,
   "metadata": {},
   "outputs": [],
   "source": [
    "df = dataset.copy()\n",
    "len(df.columns)"
   ]
  },
  {
   "cell_type": "code",
   "execution_count": null,
   "metadata": {},
   "outputs": [],
   "source": [
    "for ind, column in enumerate(df.columns):\n",
    "    print('\"{}\"'.format(column), end=', ')\n",
    "    if ind % 5 == 0:\n",
    "        print()"
   ]
  },
  {
   "cell_type": "code",
   "execution_count": null,
   "metadata": {},
   "outputs": [],
   "source": [
    "numeric_features = [\"DrawNo\",\n",
    "                    \"DaysSinceLastExactMatch\", \"DaysUntilNextExactMatch\", \n",
    "                    \"DaysSinceLastAnyMatch\", \"DaysUntilNextAnyMatch\",\n",
    "                    \"DrawYear\", \"DrawMonth\", \"DrawWeek\", \"DrawDay\", \"DrawDayofweek\", \"DrawDayofyear\",\n",
    "                    \"CumProbaExactMatch\", \"CumProbaAnyMatch\",\n",
    "                    \"0_1\", \"0_2\", \"0_3\", \"0_4\", \"0_5\", \n",
    "                    \"0_6\", \"0_7\", \"0_8\", \"0_9\", \"1_2\", \"1_3\", \"1_4\", \"1_5\", \n",
    "                    \"1_6\", \"1_7\", \"1_8\", \"1_9\", \"2_3\", \"2_4\", \"2_5\", \"2_6\", \n",
    "                    \"2_7\", \"2_8\", \"2_9\", \"3_4\", \"3_5\", \"3_6\", \"3_7\", \"3_8\", \n",
    "                    \"3_9\", \"4_5\", \"4_6\", \"4_7\", \"4_8\", \"4_9\", \"5_6\", \"5_7\", \n",
    "                    \"5_8\", \"5_9\", \"6_7\", \"6_8\", \"6_9\", \"7_8\", \"7_9\", \"8_9\", \n",
    "                    \"0_0\", \"1_1\", \"2_2\", \"3_3\", \"4_4\", \"5_5\", \"6_6\", \"7_7\", \n",
    "                    \"8_8\", \"9_9\",\n",
    "                    \"pos_1_0_freq\", \"pos_1_1_freq\", \"pos_1_2_freq\", \"pos_1_3_freq\", \"pos_1_4_freq\", \"pos_1_5_freq\", \n",
    "                    \"pos_1_6_freq\", \"pos_1_7_freq\", \"pos_1_8_freq\", \"pos_1_9_freq\", \"pos_2_0_freq\", \"pos_2_1_freq\", \"pos_2_2_freq\", \"pos_2_3_freq\", \n",
    "                    \"pos_2_4_freq\", \"pos_2_5_freq\", \"pos_2_6_freq\", \"pos_2_7_freq\", \"pos_2_8_freq\", \"pos_2_9_freq\", \"pos_3_0_freq\", \"pos_3_1_freq\", \n",
    "                    \"pos_3_2_freq\", \"pos_3_3_freq\", \"pos_3_4_freq\", \"pos_3_5_freq\", \"pos_3_6_freq\", \"pos_3_7_freq\", \"pos_3_8_freq\", \"pos_3_9_freq\", \n",
    "                    \"pos_4_0_freq\", \"pos_4_1_freq\", \"pos_4_2_freq\", \"pos_4_3_freq\", \"pos_4_4_freq\", \"pos_4_5_freq\", \"pos_4_6_freq\", \"pos_4_7_freq\", \n",
    "                    \"pos_4_8_freq\", \"pos_4_9_freq\"\n",
    "                   ]\n",
    "categorical_features = [\"PrizeType\"]\n",
    "datetime_features = [\"DrawDate\"]\n",
    "target_feature = [\"LuckyNo\"]\n",
    "target_features_drilled = [\"1st_digit\", \"2nd_digit\", \"3rd_digit\", \"4th_digit\"]\n",
    "\n",
    "# mean_features = [\"TotalMean\", \"1stDigitMean\", \"2ndDigitMean\", \"3rdDigitMean\", \"4thDigitMean\"]\n",
    "\n",
    "len(numeric_features)"
   ]
  },
  {
   "cell_type": "markdown",
   "metadata": {},
   "source": [
    "### Scaling"
   ]
  },
  {
   "cell_type": "code",
   "execution_count": null,
   "metadata": {},
   "outputs": [],
   "source": [
    "from sklearn.preprocessing import StandardScaler\n",
    "scaler = StandardScaler()\n",
    "nf_scaled = scaler.fit_transform(df[numeric_features])\n",
    "print(scaler.mean_)\n",
    "print(scaler.inverse_transform(nf_scaled))"
   ]
  },
  {
   "cell_type": "code",
   "execution_count": null,
   "metadata": {},
   "outputs": [],
   "source": [
    "from sklearn.preprocessing import OneHotEncoder, LabelBinarizer, MultiLabelBinarizer\n",
    "from sklearn.feature_extraction import DictVectorizer, FeatureHasher\n",
    "\n",
    "onehot_encoder = OneHotEncoder()\n",
    "cf_scaled = onehot_encoder.fit_transform(df[categorical_features])\n",
    "onehot_encoder.categories_, cf_scaled.shape, len(cf_scaled.toarray()), cf_scaled.toarray()"
   ]
  },
  {
   "cell_type": "code",
   "execution_count": null,
   "metadata": {},
   "outputs": [],
   "source": [
    "# Features\n",
    "nf_scaled.shape, cf_scaled.shape"
   ]
  },
  {
   "cell_type": "code",
   "execution_count": null,
   "metadata": {},
   "outputs": [],
   "source": [
    "# Join the 2 arrays\n",
    "features = sp.sparse.hstack((nf_scaled, cf_scaled))\n",
    "features.shape"
   ]
  },
  {
   "cell_type": "code",
   "execution_count": null,
   "metadata": {},
   "outputs": [],
   "source": [
    "labels = scaler.fit_transform(df[target_feature])\n",
    "labels, scaler.inverse_transform(labels)"
   ]
  },
  {
   "cell_type": "markdown",
   "metadata": {},
   "source": [
    "### Correlation"
   ]
  },
  {
   "cell_type": "code",
   "execution_count": null,
   "metadata": {},
   "outputs": [],
   "source": [
    "features.shape, labels.shape"
   ]
  },
  {
   "cell_type": "code",
   "execution_count": null,
   "metadata": {},
   "outputs": [],
   "source": [
    "features.dtype, labels.dtype"
   ]
  },
  {
   "cell_type": "code",
   "execution_count": null,
   "metadata": {},
   "outputs": [],
   "source": [
    "for ind, f in enumerate(nf_scaled[0]):\n",
    "    print(numeric_features[ind], '\\t\\t', np.corrcoef(nf_scaled[:, ind], labels[:, 0])[0][1])\n",
    "    # print(nf_scaled[:, ind].shape, labels[:, 0].shape)\n",
    "    # print()"
   ]
  },
  {
   "cell_type": "markdown",
   "metadata": {},
   "source": [
    "#### Drop features"
   ]
  },
  {
   "cell_type": "code",
   "execution_count": null,
   "metadata": {},
   "outputs": [],
   "source": [
    "# drop DrawDay\n",
    "numeric_features = [\"DrawNo\",\n",
    "                    \"DaysSinceLastExactMatch\", \"DaysUntilNextExactMatch\", \n",
    "                    \"DaysSinceLastAnyMatch\", \"DaysUntilNextAnyMatch\",\n",
    "                    \"DrawYear\", \"DrawMonth\", \"DrawWeek\", \"DrawDayofweek\", \"DrawDayofyear\",\n",
    "                    \"CumProbaExactMatch\", \"CumProbaAnyMatch\"\n",
    "                   ]\n",
    "categorical_features = [\"PrizeType\"]\n",
    "datetime_features = [\"DrawDate\"]\n",
    "target_feature = [\"LuckyNo\"]"
   ]
  },
  {
   "cell_type": "code",
   "execution_count": null,
   "metadata": {},
   "outputs": [],
   "source": [
    "nf_scaled = scaler.fit_transform(df[numeric_features])\n",
    "for ind, f in enumerate(nf_scaled[0]):\n",
    "    print(numeric_features[ind], '\\t\\t', np.corrcoef(nf_scaled[:, ind], labels[:, 0])[0][1])"
   ]
  },
  {
   "cell_type": "code",
   "execution_count": null,
   "metadata": {},
   "outputs": [],
   "source": [
    "# Validation\n",
    "corr_matrix = df[numeric_features + categorical_features + target_feature].corr()\n",
    "print(corr_matrix['LuckyNo'].sort_values(ascending=False))"
   ]
  },
  {
   "cell_type": "code",
   "execution_count": null,
   "metadata": {},
   "outputs": [],
   "source": [
    "df = dataset[target_feature + target_features_drilled + categorical_features + numeric_features + datetime_features].copy()\n",
    "df.columns"
   ]
  },
  {
   "cell_type": "code",
   "execution_count": null,
   "metadata": {},
   "outputs": [],
   "source": [
    "df.describe() # all data"
   ]
  },
  {
   "cell_type": "code",
   "execution_count": null,
   "metadata": {},
   "outputs": [],
   "source": [
    "# 1/3 of data\n",
    "df.head( int(len(df) / 3)).describe()"
   ]
  },
  {
   "cell_type": "code",
   "execution_count": null,
   "metadata": {},
   "outputs": [],
   "source": [
    "# 1/2 of data\n",
    "df.head( int(len(df) / 2)).describe()"
   ]
  },
  {
   "cell_type": "code",
   "execution_count": null,
   "metadata": {},
   "outputs": [],
   "source": [
    "df['LuckyNo'].mean(), df['1st_digit'].mean(), df['2nd_digit'].mean(), df['3rd_digit'].mean(), df['4th_digit'].mean()"
   ]
  },
  {
   "cell_type": "code",
   "execution_count": null,
   "metadata": {},
   "outputs": [],
   "source": [
    "# Derive the means\n",
    "\n",
    "df[\"TotalMean\"] = 0\n",
    "df[\"1stDigitMean\"] = 0\n",
    "df[\"2ndDigitMean\"] = 0 \n",
    "df[\"3rdDigitMean\"] = 0 \n",
    "df[\"4thDigitMean\"] = 0\n",
    "\n",
    "for index, draw_date in enumerate(df.DrawDate.unique()):\n",
    "    if (index + 1) % 1000 == 0:\n",
    "        print(f'Processing {index+1}')\n",
    "    df.loc[df.DrawDate == draw_date, 'TotalMean'] = df[df.DrawDate <= draw_date]['LuckyNo'].mean()\n",
    "    # print(len(df[df.DrawDate <= draw_date]['LuckyNo']))\n",
    "    # print(draw_date, df[df.DrawDate == draw_date]['LuckyNo'].mean())\n",
    "    # if (index + 1 % 100 == 0):\n",
    "        #break\n",
    "    #print()"
   ]
  },
  {
   "cell_type": "code",
   "execution_count": null,
   "metadata": {},
   "outputs": [],
   "source": [
    "df.head(26)"
   ]
  },
  {
   "cell_type": "code",
   "execution_count": null,
   "metadata": {},
   "outputs": [],
   "source": []
  }
 ],
 "metadata": {
  "kernelspec": {
   "display_name": "Python 3",
   "language": "python",
   "name": "python3"
  },
  "language_info": {
   "codemirror_mode": {
    "name": "ipython",
    "version": 3
   },
   "file_extension": ".py",
   "mimetype": "text/x-python",
   "name": "python",
   "nbconvert_exporter": "python",
   "pygments_lexer": "ipython3",
   "version": "3.7.2"
  }
 },
 "nbformat": 4,
 "nbformat_minor": 2
}

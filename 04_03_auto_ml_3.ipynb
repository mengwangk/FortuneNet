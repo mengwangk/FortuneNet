{
 "cells": [
  {
   "cell_type": "markdown",
   "metadata": {
    "colab_type": "text",
    "id": "view-in-github"
   },
   "source": [
    "<a href=\"https://colab.research.google.com/github/mengwangk/dl-projects/blob/master/04_03_auto_ml_2.ipynb\" target=\"_parent\"><img src=\"https://colab.research.google.com/assets/colab-badge.svg\" alt=\"Open In Colab\"/></a>"
   ]
  },
  {
   "cell_type": "markdown",
   "metadata": {
    "colab_type": "text",
    "id": "4hyoPGdjpqa_"
   },
   "source": [
    "# Automated ML - Validation"
   ]
  },
  {
   "cell_type": "code",
   "execution_count": null,
   "metadata": {
    "colab": {},
    "colab_type": "code",
    "id": "SLxr2k_ue8yq"
   },
   "outputs": [],
   "source": [
    "COLAB = True\n",
    "\n",
    "DATASET_NAME = '4D.zip'\n",
    "\n",
    "FEATURE_DATASET_PREFIX = 'feature_matrix_d2'"
   ]
  },
  {
   "cell_type": "code",
   "execution_count": 2,
   "metadata": {
    "colab": {
     "base_uri": "https://localhost:8080/",
     "height": 136
    },
    "colab_type": "code",
    "id": "oy5ww2zRfFGG",
    "outputId": "1cf6f548-4862-4741-a2a3-45bf1c1927da"
   },
   "outputs": [
    {
     "name": "stdout",
     "output_type": "stream",
     "text": [
      "Cloning into 'dl-projects'...\n",
      "remote: Enumerating objects: 50, done.\u001b[K\n",
      "remote: Counting objects: 100% (50/50), done.\u001b[K\n",
      "remote: Compressing objects: 100% (49/49), done.\u001b[K\n",
      "remote: Total 831 (delta 29), reused 2 (delta 1), pack-reused 781\u001b[K\n",
      "Receiving objects: 100% (831/831), 68.80 MiB | 24.52 MiB/s, done.\n",
      "Resolving deltas: 100% (477/477), done.\n"
     ]
    }
   ],
   "source": [
    "if COLAB:\n",
    "  # !sudo apt-get install git-lfs && git lfs install\n",
    "  !rm -rf dl-projects\n",
    "  !git clone https://github.com/mengwangk/dl-projects\n",
    "  #!cd dl-projects && ls -l --block-size=M"
   ]
  },
  {
   "cell_type": "code",
   "execution_count": null,
   "metadata": {
    "colab": {},
    "colab_type": "code",
    "id": "G2xin10SfozR"
   },
   "outputs": [],
   "source": [
    "if COLAB:\n",
    "  !cp dl-projects/utils* .\n",
    "  !cp dl-projects/preprocess* ."
   ]
  },
  {
   "cell_type": "code",
   "execution_count": null,
   "metadata": {
    "colab": {},
    "colab_type": "code",
    "id": "fC2-l3JBpqbE"
   },
   "outputs": [],
   "source": [
    "%reload_ext autoreload\n",
    "%autoreload 2\n",
    "\n",
    "%matplotlib inline"
   ]
  },
  {
   "cell_type": "code",
   "execution_count": null,
   "metadata": {
    "colab": {},
    "colab_type": "code",
    "id": "TP7V_IzepqbK"
   },
   "outputs": [],
   "source": [
    "import numpy as np\n",
    "import pandas as pd\n",
    "import seaborn as sns\n",
    "import matplotlib.pyplot as plt\n",
    "import scipy.stats as ss\n",
    "import math \n",
    "import matplotlib\n",
    "import sys\n",
    "\n",
    "from scipy import stats\n",
    "from collections import Counter\n",
    "from pathlib import Path\n",
    "\n",
    "plt.style.use('fivethirtyeight')\n",
    "\n",
    "sns.set(style=\"ticks\")\n",
    "\n",
    "# Automated feature engineering\n",
    "import featuretools as ft\n",
    "\n",
    "import warnings\n",
    "warnings.filterwarnings('ignore')\n",
    "\n",
    "# Machine learning\n",
    "from sklearn.pipeline import Pipeline\n",
    "from sklearn.preprocessing import Imputer, MinMaxScaler, StandardScaler\n",
    "from sklearn.impute import SimpleImputer\n",
    "from sklearn.metrics import precision_score, recall_score, f1_score, confusion_matrix, roc_auc_score, precision_recall_curve, roc_curve, mean_squared_error, accuracy_score, average_precision_score\n",
    "from sklearn.model_selection import train_test_split, cross_val_score\n",
    "#from sklearn.ensemble import RandomForestClassifier\n",
    "#from scikitplot.plotters import plot_precision_recall_curve\n",
    "from dateutil.relativedelta import relativedelta\n",
    "\n",
    "from IPython.display import display\n",
    "\n",
    "from utils import *\n",
    "from preprocess import *\n",
    "\n",
    "np.set_printoptions(threshold=sys.maxsize)\n",
    "\n",
    "# The Answer to the Ultimate Question of Life, the Universe, and Everything.\n",
    "np.random.seed(42)"
   ]
  },
  {
   "cell_type": "code",
   "execution_count": 6,
   "metadata": {
    "colab": {
     "base_uri": "https://localhost:8080/",
     "height": 102
    },
    "colab_type": "code",
    "id": "3bFT5CoxpqbP",
    "outputId": "3370f9bb-591b-4f52-d565-9e4b3554472d"
   },
   "outputs": [
    {
     "name": "stdout",
     "output_type": "stream",
     "text": [
      "Modules to reload:\n",
      "all-except-skipped\n",
      "\n",
      "Modules to skip:\n",
      "\n"
     ]
    }
   ],
   "source": [
    "%aimport"
   ]
  },
  {
   "cell_type": "markdown",
   "metadata": {
    "colab_type": "text",
    "id": "3E16jPVPpqbV"
   },
   "source": [
    "## Preparation"
   ]
  },
  {
   "cell_type": "code",
   "execution_count": 7,
   "metadata": {
    "colab": {
     "base_uri": "https://localhost:8080/",
     "height": 34
    },
    "colab_type": "code",
    "id": "U421BuhtfYS7",
    "outputId": "2590bec0-ec18-43a2-9eb5-26798d5e2b4e"
   },
   "outputs": [
    {
     "name": "stdout",
     "output_type": "stream",
     "text": [
      "Drive already mounted at /content/gdrive; to attempt to forcibly remount, call drive.mount(\"/content/gdrive\", force_remount=True).\n"
     ]
    }
   ],
   "source": [
    "if COLAB:\n",
    "  from google.colab import drive\n",
    "  drive.mount('/content/gdrive')\n",
    "  GDRIVE_DATASET_FOLDER = Path('gdrive/My Drive/datasets/')"
   ]
  },
  {
   "cell_type": "code",
   "execution_count": 8,
   "metadata": {
    "colab": {
     "base_uri": "https://localhost:8080/",
     "height": 170
    },
    "colab_type": "code",
    "id": "9IgnETKkpqbX",
    "outputId": "41f66d20-ef57-40a3-802e-66a1ad329fc0"
   },
   "outputs": [
    {
     "name": "stdout",
     "output_type": "stream",
     "text": [
      "total 3954M\n",
      "-rw------- 1 root root  407M Dec 30 05:00 feature_matrix_2.csv\n",
      "-rw------- 1 root root  428M Dec 30 05:01 feature_matrix_2.pkl\n",
      "-rw------- 1 root root  141M Dec 27 08:27 feature_matrix.csv\n",
      "-rw------- 1 root root 1637M Jan  4 07:31 feature_matrix_d2.csv\n",
      "-rw------- 1 root root 1166M Jan  4 07:35 feature_matrix_d2.pkl\n",
      "-rw------- 1 root root  176M Dec 27 08:28 feature_matrix.pkl\n",
      "total 1M\n",
      "-rw-r--r-- 1 root root 1M Jan  4 15:49 4D.zip\n"
     ]
    }
   ],
   "source": [
    "if COLAB:\n",
    "  DATASET_PATH = GDRIVE_DATASET_FOLDER\n",
    "  ORIGIN_DATASET_PATH = Path('dl-projects/datasets')\n",
    "else:\n",
    "  DATASET_PATH = Path(\"datasets\")\n",
    "  ORIGIN_DATASET_PATH = Path('datasets')\n",
    "\n",
    "DATASET = DATASET_PATH/f\"{FEATURE_DATASET_PREFIX}.pkl\"\n",
    "ORIGIN_DATASET = ORIGIN_DATASET_PATH/DATASET_NAME\n",
    "\n",
    "if COLAB:\n",
    "  !ls -l gdrive/\"My Drive\"/datasets/ --block-size=M\n",
    "  !ls -l dl-projects/datasets --block-size=M"
   ]
  },
  {
   "cell_type": "code",
   "execution_count": null,
   "metadata": {
    "colab": {},
    "colab_type": "code",
    "id": "urQTD6DQNutw"
   },
   "outputs": [],
   "source": [
    "#data = pd.read_csv(DATASET, header=0, sep=',', quotechar='\"', parse_dates=['time'])\n",
    "#data = pd.read_csv(DATASET_PATH/\"feature_matrix_2.csv\", header=0, sep=',', quotechar='\"', parse_dates=['time'])\n",
    "data = pd.read_pickle(DATASET)\n",
    "origin_data = format_tabular(ORIGIN_DATASET)"
   ]
  },
  {
   "cell_type": "code",
   "execution_count": 10,
   "metadata": {
    "colab": {
     "base_uri": "https://localhost:8080/",
     "height": 102
    },
    "colab_type": "code",
    "id": "4BjrERxV8WuT",
    "outputId": "72de8062-5635-4f45-96fb-61a008dae3a1"
   },
   "outputs": [
    {
     "name": "stdout",
     "output_type": "stream",
     "text": [
      "<class 'pandas.core.frame.DataFrame'>\n",
      "RangeIndex: 719972 entries, 0 to 719971\n",
      "Columns: 221 entries, NumberId to year\n",
      "dtypes: datetime64[ns](1), float64(146), int64(64), uint8(10)\n",
      "memory usage: 1.1 GB\n"
     ]
    }
   ],
   "source": [
    "data.info()"
   ]
  },
  {
   "cell_type": "markdown",
   "metadata": {
    "colab_type": "text",
    "id": "vOYlp-8Br61r"
   },
   "source": [
    "## Exploratory Data Analysis"
   ]
  },
  {
   "cell_type": "code",
   "execution_count": null,
   "metadata": {
    "colab": {},
    "colab_type": "code",
    "id": "JnQXyVqng5Cm"
   },
   "outputs": [],
   "source": [
    "feature_matrix = data"
   ]
  },
  {
   "cell_type": "code",
   "execution_count": 12,
   "metadata": {
    "colab": {
     "base_uri": "https://localhost:8080/",
     "height": 238
    },
    "colab_type": "code",
    "id": "fa1Oc3LiiCIY",
    "outputId": "110d5db5-ccb7-4090-b8be-5a7e6cba3b85"
   },
   "outputs": [
    {
     "data": {
      "text/plain": [
       "Index(['NumberId', 'time', 'STD(Results.DrawNo)', 'STD(Results.LuckyNo)',\n",
       "       'STD(Results.TotalStrike)', 'MAX(Results.DrawNo)',\n",
       "       'MAX(Results.LuckyNo)', 'MAX(Results.TotalStrike)',\n",
       "       'MIN(Results.DrawNo)', 'MIN(Results.LuckyNo)',\n",
       "       ...\n",
       "       'MODE(Results.PrizeType)_3rdPrizeNo',\n",
       "       'MODE(Results.PrizeType)_Consolation',\n",
       "       'MODE(Results.PrizeType)_Special', 'LAST(Results.PrizeType)_1stPrizeNo',\n",
       "       'LAST(Results.PrizeType)_2ndPrizeNo',\n",
       "       'LAST(Results.PrizeType)_3rdPrizeNo',\n",
       "       'LAST(Results.PrizeType)_Consolation',\n",
       "       'LAST(Results.PrizeType)_Special', 'month', 'year'],\n",
       "      dtype='object', length=221)"
      ]
     },
     "metadata": {
      "tags": []
     },
     "output_type": "display_data"
    }
   ],
   "source": [
    "display(feature_matrix.columns)"
   ]
  },
  {
   "cell_type": "code",
   "execution_count": 83,
   "metadata": {
    "colab": {
     "base_uri": "https://localhost:8080/",
     "height": 419
    },
    "colab_type": "code",
    "id": "NwxxOED04A8X",
    "outputId": "8b7c9569-a4b6-4b99-a284-eb4d98b31192"
   },
   "outputs": [
    {
     "data": {
      "text/html": [
       "<div>\n",
       "<style scoped>\n",
       "    .dataframe tbody tr th:only-of-type {\n",
       "        vertical-align: middle;\n",
       "    }\n",
       "\n",
       "    .dataframe tbody tr th {\n",
       "        vertical-align: top;\n",
       "    }\n",
       "\n",
       "    .dataframe thead th {\n",
       "        text-align: right;\n",
       "    }\n",
       "</style>\n",
       "<table border=\"1\" class=\"dataframe\">\n",
       "  <thead>\n",
       "    <tr style=\"text-align: right;\">\n",
       "      <th></th>\n",
       "      <th>0</th>\n",
       "      <th>1</th>\n",
       "      <th>2</th>\n",
       "      <th>3</th>\n",
       "    </tr>\n",
       "  </thead>\n",
       "  <tbody>\n",
       "    <tr>\n",
       "      <th>index</th>\n",
       "      <td>0</td>\n",
       "      <td>1</td>\n",
       "      <td>2</td>\n",
       "      <td>3</td>\n",
       "    </tr>\n",
       "    <tr>\n",
       "      <th>NumberId</th>\n",
       "      <td>0</td>\n",
       "      <td>1</td>\n",
       "      <td>2</td>\n",
       "      <td>3</td>\n",
       "    </tr>\n",
       "    <tr>\n",
       "      <th>time</th>\n",
       "      <td>2014-01-01 00:00:00</td>\n",
       "      <td>2014-01-01 00:00:00</td>\n",
       "      <td>2014-01-01 00:00:00</td>\n",
       "      <td>2014-01-01 00:00:00</td>\n",
       "    </tr>\n",
       "    <tr>\n",
       "      <th>STD(Results.DrawNo)</th>\n",
       "      <td>116257</td>\n",
       "      <td>96697.5</td>\n",
       "      <td>49525.7</td>\n",
       "      <td>116135</td>\n",
       "    </tr>\n",
       "    <tr>\n",
       "      <th>STD(Results.LuckyNo)</th>\n",
       "      <td>0</td>\n",
       "      <td>0</td>\n",
       "      <td>0</td>\n",
       "      <td>0</td>\n",
       "    </tr>\n",
       "    <tr>\n",
       "      <th>...</th>\n",
       "      <td>...</td>\n",
       "      <td>...</td>\n",
       "      <td>...</td>\n",
       "      <td>...</td>\n",
       "    </tr>\n",
       "    <tr>\n",
       "      <th>LAST(Results.PrizeType)_SpecialNo7</th>\n",
       "      <td>0</td>\n",
       "      <td>0</td>\n",
       "      <td>0</td>\n",
       "      <td>0</td>\n",
       "    </tr>\n",
       "    <tr>\n",
       "      <th>LAST(Results.PrizeType)_SpecialNo8</th>\n",
       "      <td>0</td>\n",
       "      <td>0</td>\n",
       "      <td>0</td>\n",
       "      <td>0</td>\n",
       "    </tr>\n",
       "    <tr>\n",
       "      <th>LAST(Results.PrizeType)_SpecialNo9</th>\n",
       "      <td>1</td>\n",
       "      <td>0</td>\n",
       "      <td>0</td>\n",
       "      <td>0</td>\n",
       "    </tr>\n",
       "    <tr>\n",
       "      <th>month</th>\n",
       "      <td>1</td>\n",
       "      <td>1</td>\n",
       "      <td>1</td>\n",
       "      <td>1</td>\n",
       "    </tr>\n",
       "    <tr>\n",
       "      <th>year</th>\n",
       "      <td>2014</td>\n",
       "      <td>2014</td>\n",
       "      <td>2014</td>\n",
       "      <td>2014</td>\n",
       "    </tr>\n",
       "  </tbody>\n",
       "</table>\n",
       "<p>123 rows × 4 columns</p>\n",
       "</div>"
      ],
      "text/plain": [
       "                                                      0  ...                    3\n",
       "index                                                 0  ...                    3\n",
       "NumberId                                              0  ...                    3\n",
       "time                                2014-01-01 00:00:00  ...  2014-01-01 00:00:00\n",
       "STD(Results.DrawNo)                              116257  ...               116135\n",
       "STD(Results.LuckyNo)                                  0  ...                    0\n",
       "...                                                 ...  ...                  ...\n",
       "LAST(Results.PrizeType)_SpecialNo7                    0  ...                    0\n",
       "LAST(Results.PrizeType)_SpecialNo8                    0  ...                    0\n",
       "LAST(Results.PrizeType)_SpecialNo9                    1  ...                    0\n",
       "month                                                 1  ...                    1\n",
       "year                                               2014  ...                 2014\n",
       "\n",
       "[123 rows x 4 columns]"
      ]
     },
     "metadata": {
      "tags": []
     },
     "output_type": "display_data"
    }
   ],
   "source": [
    "display(feature_matrix.head(4).T)"
   ]
  },
  {
   "cell_type": "code",
   "execution_count": 14,
   "metadata": {
    "colab": {
     "base_uri": "https://localhost:8080/",
     "height": 359
    },
    "colab_type": "code",
    "id": "YvRCAb4e5AYH",
    "outputId": "f1c1d48f-181f-4120-9e0a-f38ef651b9c0"
   },
   "outputs": [
    {
     "data": {
      "text/html": [
       "<div>\n",
       "<style scoped>\n",
       "    .dataframe tbody tr th:only-of-type {\n",
       "        vertical-align: middle;\n",
       "    }\n",
       "\n",
       "    .dataframe tbody tr th {\n",
       "        vertical-align: top;\n",
       "    }\n",
       "\n",
       "    .dataframe thead th {\n",
       "        text-align: right;\n",
       "    }\n",
       "</style>\n",
       "<table border=\"1\" class=\"dataframe\">\n",
       "  <thead>\n",
       "    <tr style=\"text-align: right;\">\n",
       "      <th></th>\n",
       "      <th>DrawNo</th>\n",
       "      <th>DrawDate</th>\n",
       "      <th>PrizeType</th>\n",
       "      <th>LuckyNo</th>\n",
       "    </tr>\n",
       "  </thead>\n",
       "  <tbody>\n",
       "    <tr>\n",
       "      <th>10287</th>\n",
       "      <td>85495</td>\n",
       "      <td>1995-03-12</td>\n",
       "      <td>ConsolationNo3</td>\n",
       "      <td>911</td>\n",
       "    </tr>\n",
       "    <tr>\n",
       "      <th>13607</th>\n",
       "      <td>99896</td>\n",
       "      <td>1996-02-11</td>\n",
       "      <td>SpecialNo10</td>\n",
       "      <td>911</td>\n",
       "    </tr>\n",
       "    <tr>\n",
       "      <th>26564</th>\n",
       "      <td>156199</td>\n",
       "      <td>1999-08-29</td>\n",
       "      <td>SpecialNo9</td>\n",
       "      <td>911</td>\n",
       "    </tr>\n",
       "    <tr>\n",
       "      <th>30160</th>\n",
       "      <td>171800</td>\n",
       "      <td>2000-08-16</td>\n",
       "      <td>ConsolationNo4</td>\n",
       "      <td>911</td>\n",
       "    </tr>\n",
       "    <tr>\n",
       "      <th>65817</th>\n",
       "      <td>326909</td>\n",
       "      <td>2009-12-05</td>\n",
       "      <td>SpecialNo10</td>\n",
       "      <td>911</td>\n",
       "    </tr>\n",
       "    <tr>\n",
       "      <th>89716</th>\n",
       "      <td>430815</td>\n",
       "      <td>2015-10-07</td>\n",
       "      <td>SpecialNo3</td>\n",
       "      <td>911</td>\n",
       "    </tr>\n",
       "    <tr>\n",
       "      <th>96458</th>\n",
       "      <td>460117</td>\n",
       "      <td>2017-05-27</td>\n",
       "      <td>SpecialNo6</td>\n",
       "      <td>911</td>\n",
       "    </tr>\n",
       "    <tr>\n",
       "      <th>102733</th>\n",
       "      <td>487418</td>\n",
       "      <td>2018-12-08</td>\n",
       "      <td>SpecialNo2</td>\n",
       "      <td>911</td>\n",
       "    </tr>\n",
       "    <tr>\n",
       "      <th>104575</th>\n",
       "      <td>495419</td>\n",
       "      <td>2019-06-01</td>\n",
       "      <td>SpecialNo4</td>\n",
       "      <td>911</td>\n",
       "    </tr>\n",
       "    <tr>\n",
       "      <th>104910</th>\n",
       "      <td>496919</td>\n",
       "      <td>2019-07-03</td>\n",
       "      <td>ConsolationNo4</td>\n",
       "      <td>911</td>\n",
       "    </tr>\n",
       "  </tbody>\n",
       "</table>\n",
       "</div>"
      ],
      "text/plain": [
       "        DrawNo   DrawDate       PrizeType  LuckyNo\n",
       "10287    85495 1995-03-12  ConsolationNo3      911\n",
       "13607    99896 1996-02-11     SpecialNo10      911\n",
       "26564   156199 1999-08-29      SpecialNo9      911\n",
       "30160   171800 2000-08-16  ConsolationNo4      911\n",
       "65817   326909 2009-12-05     SpecialNo10      911\n",
       "89716   430815 2015-10-07      SpecialNo3      911\n",
       "96458   460117 2017-05-27      SpecialNo6      911\n",
       "102733  487418 2018-12-08      SpecialNo2      911\n",
       "104575  495419 2019-06-01      SpecialNo4      911\n",
       "104910  496919 2019-07-03  ConsolationNo4      911"
      ]
     },
     "execution_count": 14,
     "metadata": {
      "tags": []
     },
     "output_type": "execute_result"
    }
   ],
   "source": [
    "origin_data[origin_data['LuckyNo']==911].head(10)"
   ]
  },
  {
   "cell_type": "code",
   "execution_count": null,
   "metadata": {
    "colab": {},
    "colab_type": "code",
    "id": "DNNrR3LvKOk1"
   },
   "outputs": [],
   "source": [
    "# feature_matrix.groupby('time')['COUNT(Results)'].mean().plot()\n",
    "# plt.title('Average Monthly Count of Results')\n",
    "# plt.ylabel('Strike Per Number')"
   ]
  },
  {
   "cell_type": "markdown",
   "metadata": {
    "colab_type": "text",
    "id": "5G5SHX0qFVRa"
   },
   "source": [
    "## Feature Selection"
   ]
  },
  {
   "cell_type": "code",
   "execution_count": 16,
   "metadata": {
    "colab": {
     "base_uri": "https://localhost:8080/",
     "height": 51
    },
    "colab_type": "code",
    "id": "m-rXOEmJFVCl",
    "outputId": "92377e05-d301-4428-cad6-2fb393c99db0"
   },
   "outputs": [
    {
     "name": "stdout",
     "output_type": "stream",
     "text": [
      "The autoreload extension is already loaded. To reload it, use:\n",
      "  %reload_ext autoreload\n"
     ]
    }
   ],
   "source": [
    "from utils import feature_selection\n",
    "\n",
    "%load_ext autoreload\n",
    "%autoreload 2"
   ]
  },
  {
   "cell_type": "code",
   "execution_count": 17,
   "metadata": {
    "colab": {
     "base_uri": "https://localhost:8080/",
     "height": 119
    },
    "colab_type": "code",
    "id": "C_1ACaOMFUp_",
    "outputId": "7bac6efa-c2a8-4e27-9db8-88f1bdc644a1"
   },
   "outputs": [
    {
     "name": "stdout",
     "output_type": "stream",
     "text": [
      "Original shape:  (719972, 219)\n",
      "0 missing columns with threshold: 90.\n",
      "42 zero variance columns.\n",
      "115 collinear columns removed with threshold: 0.95.\n",
      "Total columns removed:  157\n",
      "Shape after feature selection: (719972, 62).\n"
     ]
    }
   ],
   "source": [
    "feature_matrix_selection = feature_selection(feature_matrix.drop(columns = ['time', 'NumberId']))"
   ]
  },
  {
   "cell_type": "code",
   "execution_count": null,
   "metadata": {
    "colab": {},
    "colab_type": "code",
    "id": "5WC-SEf3F0m4"
   },
   "outputs": [],
   "source": [
    "feature_matrix_selection['time'] = feature_matrix['time']\n",
    "feature_matrix_selection['NumberId'] = feature_matrix['NumberId']\n",
    "feature_matrix_selection['Label'] = feature_matrix['Label']"
   ]
  },
  {
   "cell_type": "code",
   "execution_count": 39,
   "metadata": {
    "colab": {
     "base_uri": "https://localhost:8080/",
     "height": 765
    },
    "colab_type": "code",
    "id": "Jnj8dp5bGRdk",
    "outputId": "99e6f28f-d75f-407a-8d8f-9c94992f075a"
   },
   "outputs": [
    {
     "data": {
      "text/plain": [
       "(66,\n",
       " Index(['STD(Results.DrawNo)', 'MAX(Results.DrawNo)', 'MAX(Results.LuckyNo)',\n",
       "        'MIN(Results.DrawNo)', 'MEAN(Results.DrawNo)', 'SKEW(Results.DrawNo)',\n",
       "        'AVG_TIME_BETWEEN(Results.DrawDate)', 'COUNT(Results)',\n",
       "        'SUM(Results.DrawNo)', 'SUM(Results.LuckyNo)',\n",
       "        'TREND(Results.DrawNo, DrawDate)', 'NUM_UNIQUE(Results.PrizeType)',\n",
       "        'DAY(first_Results_time)', 'MONTH(first_Results_time)',\n",
       "        'TIME_SINCE(first_Results_time)', 'STD(Results.CUM_MEAN(LuckyNo))',\n",
       "        'STD(Results.CUM_SUM(DrawNo))', 'STD(Results.PERCENTILE(DrawNo))',\n",
       "        'MAX(Results.PERCENTILE(TotalStrike))',\n",
       "        'MAX(Results.CUM_MEAN(LuckyNo))', 'MAX(Results.PERCENTILE(DrawNo))',\n",
       "        'MIN(Results.CUM_MEAN(LuckyNo))', 'MIN(Results.CUM_SUM(DrawNo))',\n",
       "        'MODE(Results.DAY(DrawDate))', 'MODE(Results.MONTH(DrawDate))',\n",
       "        'MEAN(Results.CUM_MEAN(LuckyNo))', 'MEAN(Results.PERCENTILE(DrawNo))',\n",
       "        'MEAN(Results.TIME_SINCE(DrawDate))', 'SKEW(Results.CUM_MEAN(LuckyNo))',\n",
       "        'SKEW(Results.CUM_SUM(DrawNo))', 'LAST(Results.CUM_MEAN(LuckyNo))',\n",
       "        'LAST(Results.MONTH(DrawDate))', 'LAST(Results.DAY(DrawDate))',\n",
       "        'SUM(Results.TIME_SINCE(DrawDate))',\n",
       "        'TREND(Results.PERCENTILE(TotalStrike), DrawDate)',\n",
       "        'TREND(Results.TIME_SINCE(DrawDate), DrawDate)',\n",
       "        'TREND(Results.PERCENTILE(LuckyNo), DrawDate)',\n",
       "        'NUM_UNIQUE(Results.DAY(DrawDate))',\n",
       "        'NUM_UNIQUE(Results.MONTH(DrawDate))', 'CUM_SUM(SUM(Results.DrawNo))',\n",
       "        'CUM_SUM(SKEW(Results.DrawNo))', 'CUM_MEAN(SKEW(Results.DrawNo))',\n",
       "        'CUM_MEAN(SUM(Results.TotalStrike))',\n",
       "        'CUM_MEAN(NUM_UNIQUE(Results.PrizeType))',\n",
       "        'CUM_MEAN(SUM(Results.LuckyNo))',\n",
       "        'CUM_MEAN(AVG_TIME_BETWEEN(Results.DrawDate))',\n",
       "        'PERCENTILE(MAX(Results.DrawNo))',\n",
       "        'PERCENTILE(SUM(Results.TotalStrike))',\n",
       "        'PERCENTILE(MAX(Results.TotalStrike))',\n",
       "        'PERCENTILE(TREND(Results.DrawNo, DrawDate))',\n",
       "        'PERCENTILE(AVG_TIME_BETWEEN(Results.DrawDate))', 'TotalStrike',\n",
       "        'MODE(Results.PrizeType)_1stPrizeNo',\n",
       "        'MODE(Results.PrizeType)_2ndPrizeNo',\n",
       "        'MODE(Results.PrizeType)_3rdPrizeNo',\n",
       "        'MODE(Results.PrizeType)_Consolation',\n",
       "        'LAST(Results.PrizeType)_1stPrizeNo',\n",
       "        'LAST(Results.PrizeType)_2ndPrizeNo',\n",
       "        'LAST(Results.PrizeType)_3rdPrizeNo',\n",
       "        'LAST(Results.PrizeType)_Consolation',\n",
       "        'LAST(Results.PrizeType)_Special', 'month', 'time', 'NumberId', 'Label',\n",
       "        'date'],\n",
       "       dtype='object'))"
      ]
     },
     "execution_count": 39,
     "metadata": {
      "tags": []
     },
     "output_type": "execute_result"
    }
   ],
   "source": [
    "len(feature_matrix_selection.columns), feature_matrix_selection.columns"
   ]
  },
  {
   "cell_type": "code",
   "execution_count": null,
   "metadata": {
    "colab": {},
    "colab_type": "code",
    "id": "-GTIZdItLnLa"
   },
   "outputs": [],
   "source": []
  },
  {
   "cell_type": "markdown",
   "metadata": {
    "colab_type": "text",
    "id": "vt0maK--K2cQ"
   },
   "source": [
    "## Correlations"
   ]
  },
  {
   "cell_type": "code",
   "execution_count": 20,
   "metadata": {
    "colab": {
     "base_uri": "https://localhost:8080/",
     "height": 34
    },
    "colab_type": "code",
    "id": "_3TLGrLhK-va",
    "outputId": "61e6cd7d-194b-442d-de16-60a7ea12a4be"
   },
   "outputs": [
    {
     "data": {
      "text/plain": [
       "(719972, 65)"
      ]
     },
     "execution_count": 20,
     "metadata": {
      "tags": []
     },
     "output_type": "execute_result"
    }
   ],
   "source": [
    "feature_matrix_selection.shape"
   ]
  },
  {
   "cell_type": "code",
   "execution_count": 21,
   "metadata": {
    "colab": {
     "base_uri": "https://localhost:8080/",
     "height": 119
    },
    "colab_type": "code",
    "id": "bKud_Z0yK-77",
    "outputId": "6b71b077-b09b-499b-f1d9-c8278e54c8cb"
   },
   "outputs": [
    {
     "data": {
      "text/plain": [
       "LAST(Results.DAY(DrawDate))               -0.011889\n",
       "MEAN(Results.TIME_SINCE(DrawDate))        -0.005068\n",
       "CUM_MEAN(SUM(Results.LuckyNo))            -0.003941\n",
       "CUM_MEAN(NUM_UNIQUE(Results.PrizeType))   -0.003609\n",
       "TIME_SINCE(first_Results_time)            -0.003036\n",
       "Name: TotalStrike, dtype: float64"
      ]
     },
     "execution_count": 21,
     "metadata": {
      "tags": []
     },
     "output_type": "execute_result"
    }
   ],
   "source": [
    "corrs = feature_matrix_selection.corr().sort_values('TotalStrike')\n",
    "corrs['TotalStrike'].head()"
   ]
  },
  {
   "cell_type": "code",
   "execution_count": 22,
   "metadata": {
    "colab": {
     "base_uri": "https://localhost:8080/",
     "height": 289
    },
    "colab_type": "code",
    "id": "fU43s9BtK_IZ",
    "outputId": "8f9ef3df-bb26-4035-c062-4755533e05ee"
   },
   "outputs": [
    {
     "data": {
      "text/plain": [
       "PERCENTILE(SUM(Results.TotalStrike))           0.002129\n",
       "STD(Results.CUM_SUM(DrawNo))                   0.002094\n",
       "STD(Results.PERCENTILE(DrawNo))                0.002256\n",
       "STD(Results.CUM_MEAN(LuckyNo))                 0.002878\n",
       "MAX(Results.PERCENTILE(TotalStrike))           0.002796\n",
       "TREND(Results.DrawNo, DrawDate)                0.002548\n",
       "MAX(Results.DrawNo)                            0.002697\n",
       "SUM(Results.DrawNo)                            0.003176\n",
       "MEAN(Results.DrawNo)                           0.003106\n",
       "MEAN(Results.PERCENTILE(DrawNo))               0.004480\n",
       "PERCENTILE(TREND(Results.DrawNo, DrawDate))    0.005074\n",
       "MAX(Results.PERCENTILE(DrawNo))                0.005337\n",
       "PERCENTILE(MAX(Results.DrawNo))                0.010404\n",
       "Label                                          1.000000\n",
       "TotalStrike                                    0.991439\n",
       "Name: Label, dtype: float64"
      ]
     },
     "execution_count": 22,
     "metadata": {
      "tags": []
     },
     "output_type": "execute_result"
    }
   ],
   "source": [
    "corrs['Label'].dropna().tail(15)"
   ]
  },
  {
   "cell_type": "code",
   "execution_count": 23,
   "metadata": {
    "colab": {
     "base_uri": "https://localhost:8080/",
     "height": 170
    },
    "colab_type": "code",
    "id": "l6nY6TTrBb3l",
    "outputId": "af290834-8fce-406a-c016-2df5f05b0569"
   },
   "outputs": [
    {
     "data": {
      "text/plain": [
       "SUM(Results.DrawNo)                            0.003077\n",
       "MEAN(Results.DrawNo)                           0.003125\n",
       "MEAN(Results.PERCENTILE(DrawNo))               0.004504\n",
       "PERCENTILE(TREND(Results.DrawNo, DrawDate))    0.005467\n",
       "MAX(Results.PERCENTILE(DrawNo))                0.005518\n",
       "PERCENTILE(MAX(Results.DrawNo))                0.010733\n",
       "Label                                          0.991439\n",
       "TotalStrike                                    1.000000\n",
       "Name: TotalStrike, dtype: float64"
      ]
     },
     "execution_count": 23,
     "metadata": {
      "tags": []
     },
     "output_type": "execute_result"
    }
   ],
   "source": [
    "corrs['TotalStrike'].dropna().tail(8)"
   ]
  },
  {
   "cell_type": "markdown",
   "metadata": {
    "colab_type": "text",
    "id": "9kCNyWm1BgxF"
   },
   "source": [
    "## Visualization"
   ]
  },
  {
   "cell_type": "code",
   "execution_count": null,
   "metadata": {
    "colab": {},
    "colab_type": "code",
    "id": "GibUAbe5Byp0"
   },
   "outputs": [],
   "source": [
    "#pip install autoviz"
   ]
  },
  {
   "cell_type": "code",
   "execution_count": null,
   "metadata": {
    "colab": {},
    "colab_type": "code",
    "id": "5FL2-Eb1Bm9p"
   },
   "outputs": [],
   "source": [
    "#from autoviz.AutoViz_Class import AutoViz_Class"
   ]
  },
  {
   "cell_type": "markdown",
   "metadata": {
    "colab_type": "text",
    "id": "hTJQWmXAsCVo"
   },
   "source": [
    "### XgBoost"
   ]
  },
  {
   "cell_type": "code",
   "execution_count": null,
   "metadata": {
    "colab": {},
    "colab_type": "code",
    "id": "lrgkK2hyARmn"
   },
   "outputs": [],
   "source": [
    "import xgboost as xgb"
   ]
  },
  {
   "cell_type": "code",
   "execution_count": null,
   "metadata": {
    "colab": {},
    "colab_type": "code",
    "id": "JuiMZl9rsMk1"
   },
   "outputs": [],
   "source": [
    "model = xgb.XGBClassifier()"
   ]
  },
  {
   "cell_type": "code",
   "execution_count": null,
   "metadata": {
    "colab": {},
    "colab_type": "code",
    "id": "DtkZVlf1sOq2"
   },
   "outputs": [],
   "source": [
    "def predict_dt(dt, feature_matrix, return_probs = False):\n",
    "\n",
    "    feature_matrix['date'] = feature_matrix['time']\n",
    "\n",
    "    # Subset labels\n",
    "    test_labels = feature_matrix.loc[feature_matrix['date'] == dt, 'Label']\n",
    "    train_labels = feature_matrix.loc[feature_matrix['date'] < dt, 'Label']\n",
    "\n",
    "    print(f\"Size of test labels {len(test_labels)}\")\n",
    "    print(f\"Size of train labels {len(train_labels)}\")\n",
    "    \n",
    "    # Features\n",
    "    X_train = feature_matrix[feature_matrix['date'] < dt].drop(columns = ['NumberId', 'time',\n",
    "                                                                                     'date', 'Label', 'TotalStrike', 'month', 'year', 'index'], errors='ignore')\n",
    "    X_test = feature_matrix[feature_matrix['date'] == dt].drop(columns = ['NumberId', 'time',\n",
    "                                                                                     'date', 'Label', 'TotalStrike', 'month', 'year', 'index'], errors='ignore')\n",
    "    print(f\"Size of X train {len(X_train)}\")\n",
    "    print(f\"Size of X test  {len(X_test)}\")\n",
    "   \n",
    "    feature_names = list(X_train.columns)\n",
    "    \n",
    "    # Impute and scale features\n",
    "    pipeline = Pipeline([('imputer', SimpleImputer(strategy = 'median')), \n",
    "                      ('scaler', MinMaxScaler())])\n",
    "\n",
    "    # Fit and transform training data\n",
    "    X_train = pipeline.fit_transform(X_train)\n",
    "    X_test = pipeline.transform(X_test)\n",
    "    \n",
    "    # Labels\n",
    "    y_train = np.array(train_labels).reshape((-1, ))\n",
    "    y_test = np.array(test_labels).reshape((-1, ))\n",
    "    \n",
    "    print('Training on {} observations.'.format(len(X_train)))\n",
    "    print('Testing on {} observations.\\n'.format(len(X_test)))\n",
    "    \n",
    "    # Train \n",
    "    model.fit(X_train, y_train)\n",
    "    \n",
    "    # Make predictions\n",
    "    predictions = model.predict(X_test)\n",
    "    probs = model.predict_proba(X_test)[:, 1]\n",
    "    \n",
    "    # Total positive\n",
    "    positive = np.where((predictions==1))\n",
    "    print('Total predicted to be positive: ', len(positive[0]))\n",
    "  \n",
    "    # Calculate metrics\n",
    "    p_score = precision_score(y_test, predictions)\n",
    "    r_score = recall_score(y_test, predictions)\n",
    "    f_score = f1_score(y_test, predictions)\n",
    "    auc_score = roc_auc_score(y_test, probs)\n",
    "    a_score = accuracy_score(y_test, predictions)\n",
    "    avg_p_score = average_precision_score(y_test, predictions)\n",
    "    cm = confusion_matrix(y_test, predictions)\n",
    "    \n",
    "    print(f'Precision: {round(p_score, 5)}')\n",
    "    print(f'Recall: {round(r_score, 5)}')\n",
    "    print(f'F1 Score: {round(f_score, 5)}')\n",
    "    print(f'ROC AUC: {round(auc_score, 5)}')\n",
    "    print(f'Accuracy: {round(a_score, 5)}')\n",
    "    print(f'Average precision: {round(avg_p_score, 5)}')\n",
    "    \n",
    "    print('Confusion matrix')\n",
    "    print(cm)\n",
    "\n",
    "    # Total predicted matches\n",
    "    print('Predicted matches')\n",
    "    # print(predictions)\n",
    "    m = np.where((predictions==1))\n",
    "    print(len(m[0]), m)\n",
    "\n",
    "    if len(positive[0]) > 0:\n",
    "      # Matching draws\n",
    "      print('Matched draws')\n",
    "      m = np.where((predictions==1) & (y_test==1))\n",
    "      print(len(m[0]), m)\n",
    "      month_data = feature_matrix.loc[feature_matrix['date'] == dt]\n",
    "      numbers = month_data.iloc[m[0]][['NumberId']]\n",
    "      #print(numbers)\n",
    "      display(origin_data[(origin_data['DrawDate'].dt.year == dt.year) & \n",
    "                          (origin_data['DrawDate'].dt.month == dt.month) & \n",
    "                          (origin_data['LuckyNo'].isin(numbers.NumberId))].head(len(positive[0])))                                                   \n",
    "    else:\n",
    "      print('No luck this month')                 \n",
    "\n",
    "    # Feature importances\n",
    "    fi = pd.DataFrame({'feature': feature_names, 'importance': model.feature_importances_})\n",
    "    \n",
    "    if return_probs:\n",
    "        return fi, probs\n",
    "    \n",
    "    return fi\n",
    "    "
   ]
  },
  {
   "cell_type": "code",
   "execution_count": 29,
   "metadata": {
    "colab": {
     "base_uri": "https://localhost:8080/",
     "height": 646
    },
    "colab_type": "code",
    "id": "SwajXEsyuJOw",
    "outputId": "d57bf50b-17bb-4535-c5c6-c7de876ee005"
   },
   "outputs": [
    {
     "data": {
      "text/plain": [
       "(72, array(['2014-01-01T00:00:00.000000000', '2014-02-01T00:00:00.000000000',\n",
       "        '2014-03-01T00:00:00.000000000', '2014-04-01T00:00:00.000000000',\n",
       "        '2014-05-01T00:00:00.000000000', '2014-06-01T00:00:00.000000000',\n",
       "        '2014-07-01T00:00:00.000000000', '2014-08-01T00:00:00.000000000',\n",
       "        '2014-09-01T00:00:00.000000000', '2014-10-01T00:00:00.000000000',\n",
       "        '2014-11-01T00:00:00.000000000', '2014-12-01T00:00:00.000000000',\n",
       "        '2015-01-01T00:00:00.000000000', '2015-02-01T00:00:00.000000000',\n",
       "        '2015-03-01T00:00:00.000000000', '2015-04-01T00:00:00.000000000',\n",
       "        '2015-05-01T00:00:00.000000000', '2015-06-01T00:00:00.000000000',\n",
       "        '2015-07-01T00:00:00.000000000', '2015-08-01T00:00:00.000000000',\n",
       "        '2015-09-01T00:00:00.000000000', '2015-10-01T00:00:00.000000000',\n",
       "        '2015-11-01T00:00:00.000000000', '2015-12-01T00:00:00.000000000',\n",
       "        '2016-01-01T00:00:00.000000000', '2016-02-01T00:00:00.000000000',\n",
       "        '2016-03-01T00:00:00.000000000', '2016-04-01T00:00:00.000000000',\n",
       "        '2016-05-01T00:00:00.000000000', '2016-06-01T00:00:00.000000000',\n",
       "        '2016-07-01T00:00:00.000000000', '2016-08-01T00:00:00.000000000',\n",
       "        '2016-09-01T00:00:00.000000000', '2016-10-01T00:00:00.000000000',\n",
       "        '2016-11-01T00:00:00.000000000', '2016-12-01T00:00:00.000000000',\n",
       "        '2017-01-01T00:00:00.000000000', '2017-02-01T00:00:00.000000000',\n",
       "        '2017-03-01T00:00:00.000000000', '2017-04-01T00:00:00.000000000',\n",
       "        '2017-05-01T00:00:00.000000000', '2017-06-01T00:00:00.000000000',\n",
       "        '2017-07-01T00:00:00.000000000', '2017-08-01T00:00:00.000000000',\n",
       "        '2017-09-01T00:00:00.000000000', '2017-10-01T00:00:00.000000000',\n",
       "        '2017-11-01T00:00:00.000000000', '2017-12-01T00:00:00.000000000',\n",
       "        '2018-01-01T00:00:00.000000000', '2018-02-01T00:00:00.000000000',\n",
       "        '2018-03-01T00:00:00.000000000', '2018-04-01T00:00:00.000000000',\n",
       "        '2018-05-01T00:00:00.000000000', '2018-06-01T00:00:00.000000000',\n",
       "        '2018-07-01T00:00:00.000000000', '2018-08-01T00:00:00.000000000',\n",
       "        '2018-09-01T00:00:00.000000000', '2018-10-01T00:00:00.000000000',\n",
       "        '2018-11-01T00:00:00.000000000', '2018-12-01T00:00:00.000000000',\n",
       "        '2019-01-01T00:00:00.000000000', '2019-02-01T00:00:00.000000000',\n",
       "        '2019-03-01T00:00:00.000000000', '2019-04-01T00:00:00.000000000',\n",
       "        '2019-05-01T00:00:00.000000000', '2019-06-01T00:00:00.000000000',\n",
       "        '2019-07-01T00:00:00.000000000', '2019-08-01T00:00:00.000000000',\n",
       "        '2019-09-01T00:00:00.000000000', '2019-10-01T00:00:00.000000000',\n",
       "        '2019-11-01T00:00:00.000000000', '2019-12-01T00:00:00.000000000'],\n",
       "       dtype='datetime64[ns]'))"
      ]
     },
     "execution_count": 29,
     "metadata": {
      "tags": []
     },
     "output_type": "execute_result"
    }
   ],
   "source": [
    "# All the months\n",
    "len(feature_matrix_selection['time'].unique()), feature_matrix_selection['time'].unique()"
   ]
  },
  {
   "cell_type": "markdown",
   "metadata": {
    "colab_type": "text",
    "id": "G01L52R_ZzaF"
   },
   "source": [
    "### Prediction by months"
   ]
  },
  {
   "cell_type": "code",
   "execution_count": null,
   "metadata": {
    "colab": {},
    "colab_type": "code",
    "id": "Vg7RB6QvZ9tn"
   },
   "outputs": [],
   "source": [
    "from utils import plot_feature_importances"
   ]
  },
  {
   "cell_type": "code",
   "execution_count": 104,
   "metadata": {
    "colab": {
     "base_uri": "https://localhost:8080/",
     "height": 1000
    },
    "colab_type": "code",
    "id": "55CRISQM9VoV",
    "outputId": "5afddd52-dea6-4d00-9db0-8a390c2e4e6d"
   },
   "outputs": [
    {
     "name": "stdout",
     "output_type": "stream",
     "text": [
      "Size of test labels 10000\n",
      "Size of train labels 689972\n",
      "Size of X train 689972\n",
      "Size of X test  10000\n",
      "Training on 689972 observations.\n",
      "Testing on 10000 observations.\n",
      "\n",
      "Total predicted to be positive:  23\n",
      "Precision: 1.0\n",
      "Recall: 0.07256\n",
      "F1 Score: 0.13529\n",
      "ROC AUC: 0.54742\n",
      "Accuracy: 0.9706\n",
      "Average precision: 0.10196\n",
      "Confusion matrix\n",
      "[[9683    0]\n",
      " [ 294   23]]\n",
      "Predicted matches\n",
      "23 (array([ 23,  32,  43,  59,  61,  90, 103, 110, 145, 149, 154, 164, 166,\n",
      "       189, 228, 233, 241, 255, 281, 300, 305, 308, 312]),)\n",
      "Matched draws\n",
      "23 (array([ 23,  32,  43,  59,  61,  90, 103, 110, 145, 149, 154, 164, 166,\n",
      "       189, 228, 233, 241, 255, 281, 300, 305, 308, 312]),)\n"
     ]
    },
    {
     "data": {
      "text/html": [
       "<div>\n",
       "<style scoped>\n",
       "    .dataframe tbody tr th:only-of-type {\n",
       "        vertical-align: middle;\n",
       "    }\n",
       "\n",
       "    .dataframe tbody tr th {\n",
       "        vertical-align: top;\n",
       "    }\n",
       "\n",
       "    .dataframe thead th {\n",
       "        text-align: right;\n",
       "    }\n",
       "</style>\n",
       "<table border=\"1\" class=\"dataframe\">\n",
       "  <thead>\n",
       "    <tr style=\"text-align: right;\">\n",
       "      <th></th>\n",
       "      <th>DrawNo</th>\n",
       "      <th>DrawDate</th>\n",
       "      <th>PrizeType</th>\n",
       "      <th>LuckyNo</th>\n",
       "    </tr>\n",
       "  </thead>\n",
       "  <tbody>\n",
       "    <tr>\n",
       "      <th>105869</th>\n",
       "      <td>501119</td>\n",
       "      <td>2019-10-01</td>\n",
       "      <td>1stPrizeNo</td>\n",
       "      <td>7344</td>\n",
       "    </tr>\n",
       "    <tr>\n",
       "      <th>105870</th>\n",
       "      <td>501119</td>\n",
       "      <td>2019-10-01</td>\n",
       "      <td>2ndPrizeNo</td>\n",
       "      <td>4600</td>\n",
       "    </tr>\n",
       "    <tr>\n",
       "      <th>105871</th>\n",
       "      <td>501119</td>\n",
       "      <td>2019-10-01</td>\n",
       "      <td>3rdPrizeNo</td>\n",
       "      <td>3162</td>\n",
       "    </tr>\n",
       "    <tr>\n",
       "      <th>105872</th>\n",
       "      <td>501119</td>\n",
       "      <td>2019-10-01</td>\n",
       "      <td>ConsolationNo1</td>\n",
       "      <td>9520</td>\n",
       "    </tr>\n",
       "    <tr>\n",
       "      <th>105873</th>\n",
       "      <td>501119</td>\n",
       "      <td>2019-10-01</td>\n",
       "      <td>ConsolationNo10</td>\n",
       "      <td>1836</td>\n",
       "    </tr>\n",
       "    <tr>\n",
       "      <th>105874</th>\n",
       "      <td>501119</td>\n",
       "      <td>2019-10-01</td>\n",
       "      <td>ConsolationNo2</td>\n",
       "      <td>4483</td>\n",
       "    </tr>\n",
       "    <tr>\n",
       "      <th>105875</th>\n",
       "      <td>501119</td>\n",
       "      <td>2019-10-01</td>\n",
       "      <td>ConsolationNo3</td>\n",
       "      <td>502</td>\n",
       "    </tr>\n",
       "    <tr>\n",
       "      <th>105876</th>\n",
       "      <td>501119</td>\n",
       "      <td>2019-10-01</td>\n",
       "      <td>ConsolationNo4</td>\n",
       "      <td>6958</td>\n",
       "    </tr>\n",
       "    <tr>\n",
       "      <th>105877</th>\n",
       "      <td>501119</td>\n",
       "      <td>2019-10-01</td>\n",
       "      <td>ConsolationNo5</td>\n",
       "      <td>9808</td>\n",
       "    </tr>\n",
       "    <tr>\n",
       "      <th>105878</th>\n",
       "      <td>501119</td>\n",
       "      <td>2019-10-01</td>\n",
       "      <td>ConsolationNo6</td>\n",
       "      <td>1069</td>\n",
       "    </tr>\n",
       "    <tr>\n",
       "      <th>105879</th>\n",
       "      <td>501119</td>\n",
       "      <td>2019-10-01</td>\n",
       "      <td>ConsolationNo7</td>\n",
       "      <td>4785</td>\n",
       "    </tr>\n",
       "    <tr>\n",
       "      <th>105880</th>\n",
       "      <td>501119</td>\n",
       "      <td>2019-10-01</td>\n",
       "      <td>ConsolationNo8</td>\n",
       "      <td>717</td>\n",
       "    </tr>\n",
       "    <tr>\n",
       "      <th>105881</th>\n",
       "      <td>501119</td>\n",
       "      <td>2019-10-01</td>\n",
       "      <td>ConsolationNo9</td>\n",
       "      <td>5702</td>\n",
       "    </tr>\n",
       "    <tr>\n",
       "      <th>105882</th>\n",
       "      <td>501119</td>\n",
       "      <td>2019-10-01</td>\n",
       "      <td>SpecialNo1</td>\n",
       "      <td>7129</td>\n",
       "    </tr>\n",
       "    <tr>\n",
       "      <th>105883</th>\n",
       "      <td>501119</td>\n",
       "      <td>2019-10-01</td>\n",
       "      <td>SpecialNo10</td>\n",
       "      <td>9691</td>\n",
       "    </tr>\n",
       "    <tr>\n",
       "      <th>105884</th>\n",
       "      <td>501119</td>\n",
       "      <td>2019-10-01</td>\n",
       "      <td>SpecialNo2</td>\n",
       "      <td>4809</td>\n",
       "    </tr>\n",
       "    <tr>\n",
       "      <th>105885</th>\n",
       "      <td>501119</td>\n",
       "      <td>2019-10-01</td>\n",
       "      <td>SpecialNo3</td>\n",
       "      <td>8993</td>\n",
       "    </tr>\n",
       "    <tr>\n",
       "      <th>105886</th>\n",
       "      <td>501119</td>\n",
       "      <td>2019-10-01</td>\n",
       "      <td>SpecialNo4</td>\n",
       "      <td>2917</td>\n",
       "    </tr>\n",
       "    <tr>\n",
       "      <th>105887</th>\n",
       "      <td>501119</td>\n",
       "      <td>2019-10-01</td>\n",
       "      <td>SpecialNo5</td>\n",
       "      <td>4418</td>\n",
       "    </tr>\n",
       "    <tr>\n",
       "      <th>105888</th>\n",
       "      <td>501119</td>\n",
       "      <td>2019-10-01</td>\n",
       "      <td>SpecialNo6</td>\n",
       "      <td>1781</td>\n",
       "    </tr>\n",
       "    <tr>\n",
       "      <th>105889</th>\n",
       "      <td>501119</td>\n",
       "      <td>2019-10-01</td>\n",
       "      <td>SpecialNo7</td>\n",
       "      <td>9864</td>\n",
       "    </tr>\n",
       "    <tr>\n",
       "      <th>105890</th>\n",
       "      <td>501119</td>\n",
       "      <td>2019-10-01</td>\n",
       "      <td>SpecialNo8</td>\n",
       "      <td>3399</td>\n",
       "    </tr>\n",
       "    <tr>\n",
       "      <th>105891</th>\n",
       "      <td>501119</td>\n",
       "      <td>2019-10-01</td>\n",
       "      <td>SpecialNo9</td>\n",
       "      <td>7911</td>\n",
       "    </tr>\n",
       "  </tbody>\n",
       "</table>\n",
       "</div>"
      ],
      "text/plain": [
       "        DrawNo   DrawDate        PrizeType  LuckyNo\n",
       "105869  501119 2019-10-01       1stPrizeNo     7344\n",
       "105870  501119 2019-10-01       2ndPrizeNo     4600\n",
       "105871  501119 2019-10-01       3rdPrizeNo     3162\n",
       "105872  501119 2019-10-01   ConsolationNo1     9520\n",
       "105873  501119 2019-10-01  ConsolationNo10     1836\n",
       "105874  501119 2019-10-01   ConsolationNo2     4483\n",
       "105875  501119 2019-10-01   ConsolationNo3      502\n",
       "105876  501119 2019-10-01   ConsolationNo4     6958\n",
       "105877  501119 2019-10-01   ConsolationNo5     9808\n",
       "105878  501119 2019-10-01   ConsolationNo6     1069\n",
       "105879  501119 2019-10-01   ConsolationNo7     4785\n",
       "105880  501119 2019-10-01   ConsolationNo8      717\n",
       "105881  501119 2019-10-01   ConsolationNo9     5702\n",
       "105882  501119 2019-10-01       SpecialNo1     7129\n",
       "105883  501119 2019-10-01      SpecialNo10     9691\n",
       "105884  501119 2019-10-01       SpecialNo2     4809\n",
       "105885  501119 2019-10-01       SpecialNo3     8993\n",
       "105886  501119 2019-10-01       SpecialNo4     2917\n",
       "105887  501119 2019-10-01       SpecialNo5     4418\n",
       "105888  501119 2019-10-01       SpecialNo6     1781\n",
       "105889  501119 2019-10-01       SpecialNo7     9864\n",
       "105890  501119 2019-10-01       SpecialNo8     3399\n",
       "105891  501119 2019-10-01       SpecialNo9     7911"
      ]
     },
     "metadata": {
      "tags": []
     },
     "output_type": "display_data"
    },
    {
     "name": "stdout",
     "output_type": "stream",
     "text": [
      "CPU times: user 2min 44s, sys: 582 ms, total: 2min 44s\n",
      "Wall time: 2min 44s\n"
     ]
    }
   ],
   "source": [
    "%time june_2019 = predict_dt(pd.datetime(2019,10,1), feature_matrix_selection)"
   ]
  },
  {
   "cell_type": "code",
   "execution_count": 32,
   "metadata": {
    "colab": {
     "base_uri": "https://localhost:8080/",
     "height": 553
    },
    "colab_type": "code",
    "id": "VG_tWy2m9sjg",
    "outputId": "5424bcbc-0a5c-4196-9d99-20f03942c316"
   },
   "outputs": [
    {
     "data": {
      "image/png": "[encoded data removed]",
      "text/plain": [
       "<Figure size 864x576 with 1 Axes>"
      ]
     },
     "metadata": {
      "tags": []
     },
     "output_type": "display_data"
    }
   ],
   "source": [
    "norm_june_2019_fi = plot_feature_importances(june_2019)"
   ]
  },
  {
   "cell_type": "code",
   "execution_count": 135,
   "metadata": {
    "colab": {
     "base_uri": "https://localhost:8080/",
     "height": 1000
    },
    "colab_type": "code",
    "id": "c7jfHqawe0hD",
    "outputId": "8eb4dfd5-dc71-4390-80cf-b151ab422e8f"
   },
   "outputs": [
    {
     "name": "stdout",
     "output_type": "stream",
     "text": [
      "2019-06-01 00:00:00\n",
      "-------------------\n",
      "\n",
      "Size of test labels 10000\n",
      "Size of train labels 649972\n",
      "Size of X train 649972\n",
      "Size of X test  10000\n",
      "Training on 649972 observations.\n",
      "Testing on 10000 observations.\n",
      "\n",
      "Total predicted to be positive:  23\n",
      "Precision: 1.0\n",
      "Recall: 0.06845\n",
      "F1 Score: 0.12813\n",
      "ROC AUC: 0.53763\n",
      "Accuracy: 0.9687\n",
      "Average precision: 0.09975\n",
      "Confusion matrix\n",
      "[[9664    0]\n",
      " [ 313   23]]\n",
      "Predicted matches\n",
      "23 (array([  5,  17,  28,  59,  74,  76,  86,  97, 102, 105, 122, 125, 151,\n",
      "       161, 164, 168, 201, 206, 242, 246, 283, 299, 314]),)\n",
      "Matched draws\n",
      "23 (array([  5,  17,  28,  59,  74,  76,  86,  97, 102, 105, 122, 125, 151,\n",
      "       161, 164, 168, 201, 206, 242, 246, 283, 299, 314]),)\n"
     ]
    },
    {
     "data": {
      "text/html": [
       "<div>\n",
       "<style scoped>\n",
       "    .dataframe tbody tr th:only-of-type {\n",
       "        vertical-align: middle;\n",
       "    }\n",
       "\n",
       "    .dataframe tbody tr th {\n",
       "        vertical-align: top;\n",
       "    }\n",
       "\n",
       "    .dataframe thead th {\n",
       "        text-align: right;\n",
       "    }\n",
       "</style>\n",
       "<table border=\"1\" class=\"dataframe\">\n",
       "  <thead>\n",
       "    <tr style=\"text-align: right;\">\n",
       "      <th></th>\n",
       "      <th>DrawNo</th>\n",
       "      <th>DrawDate</th>\n",
       "      <th>PrizeType</th>\n",
       "      <th>LuckyNo</th>\n",
       "    </tr>\n",
       "  </thead>\n",
       "  <tbody>\n",
       "    <tr>\n",
       "      <th>104558</th>\n",
       "      <td>495419</td>\n",
       "      <td>2019-06-01</td>\n",
       "      <td>1stPrizeNo</td>\n",
       "      <td>7882</td>\n",
       "    </tr>\n",
       "    <tr>\n",
       "      <th>104559</th>\n",
       "      <td>495419</td>\n",
       "      <td>2019-06-01</td>\n",
       "      <td>2ndPrizeNo</td>\n",
       "      <td>8550</td>\n",
       "    </tr>\n",
       "    <tr>\n",
       "      <th>104560</th>\n",
       "      <td>495419</td>\n",
       "      <td>2019-06-01</td>\n",
       "      <td>3rdPrizeNo</td>\n",
       "      <td>7022</td>\n",
       "    </tr>\n",
       "    <tr>\n",
       "      <th>104561</th>\n",
       "      <td>495419</td>\n",
       "      <td>2019-06-01</td>\n",
       "      <td>ConsolationNo1</td>\n",
       "      <td>2969</td>\n",
       "    </tr>\n",
       "    <tr>\n",
       "      <th>104562</th>\n",
       "      <td>495419</td>\n",
       "      <td>2019-06-01</td>\n",
       "      <td>ConsolationNo10</td>\n",
       "      <td>4336</td>\n",
       "    </tr>\n",
       "    <tr>\n",
       "      <th>104563</th>\n",
       "      <td>495419</td>\n",
       "      <td>2019-06-01</td>\n",
       "      <td>ConsolationNo2</td>\n",
       "      <td>2006</td>\n",
       "    </tr>\n",
       "    <tr>\n",
       "      <th>104564</th>\n",
       "      <td>495419</td>\n",
       "      <td>2019-06-01</td>\n",
       "      <td>ConsolationNo3</td>\n",
       "      <td>9275</td>\n",
       "    </tr>\n",
       "    <tr>\n",
       "      <th>104565</th>\n",
       "      <td>495419</td>\n",
       "      <td>2019-06-01</td>\n",
       "      <td>ConsolationNo4</td>\n",
       "      <td>2089</td>\n",
       "    </tr>\n",
       "    <tr>\n",
       "      <th>104566</th>\n",
       "      <td>495419</td>\n",
       "      <td>2019-06-01</td>\n",
       "      <td>ConsolationNo5</td>\n",
       "      <td>3649</td>\n",
       "    </tr>\n",
       "    <tr>\n",
       "      <th>104567</th>\n",
       "      <td>495419</td>\n",
       "      <td>2019-06-01</td>\n",
       "      <td>ConsolationNo6</td>\n",
       "      <td>2537</td>\n",
       "    </tr>\n",
       "    <tr>\n",
       "      <th>104568</th>\n",
       "      <td>495419</td>\n",
       "      <td>2019-06-01</td>\n",
       "      <td>ConsolationNo7</td>\n",
       "      <td>3566</td>\n",
       "    </tr>\n",
       "    <tr>\n",
       "      <th>104569</th>\n",
       "      <td>495419</td>\n",
       "      <td>2019-06-01</td>\n",
       "      <td>ConsolationNo8</td>\n",
       "      <td>6964</td>\n",
       "    </tr>\n",
       "    <tr>\n",
       "      <th>104570</th>\n",
       "      <td>495419</td>\n",
       "      <td>2019-06-01</td>\n",
       "      <td>ConsolationNo9</td>\n",
       "      <td>4626</td>\n",
       "    </tr>\n",
       "    <tr>\n",
       "      <th>104571</th>\n",
       "      <td>495419</td>\n",
       "      <td>2019-06-01</td>\n",
       "      <td>SpecialNo1</td>\n",
       "      <td>511</td>\n",
       "    </tr>\n",
       "    <tr>\n",
       "      <th>104572</th>\n",
       "      <td>495419</td>\n",
       "      <td>2019-06-01</td>\n",
       "      <td>SpecialNo10</td>\n",
       "      <td>5916</td>\n",
       "    </tr>\n",
       "    <tr>\n",
       "      <th>104573</th>\n",
       "      <td>495419</td>\n",
       "      <td>2019-06-01</td>\n",
       "      <td>SpecialNo2</td>\n",
       "      <td>4738</td>\n",
       "    </tr>\n",
       "    <tr>\n",
       "      <th>104574</th>\n",
       "      <td>495419</td>\n",
       "      <td>2019-06-01</td>\n",
       "      <td>SpecialNo3</td>\n",
       "      <td>128</td>\n",
       "    </tr>\n",
       "    <tr>\n",
       "      <th>104575</th>\n",
       "      <td>495419</td>\n",
       "      <td>2019-06-01</td>\n",
       "      <td>SpecialNo4</td>\n",
       "      <td>911</td>\n",
       "    </tr>\n",
       "    <tr>\n",
       "      <th>104576</th>\n",
       "      <td>495419</td>\n",
       "      <td>2019-06-01</td>\n",
       "      <td>SpecialNo5</td>\n",
       "      <td>1661</td>\n",
       "    </tr>\n",
       "    <tr>\n",
       "      <th>104577</th>\n",
       "      <td>495419</td>\n",
       "      <td>2019-06-01</td>\n",
       "      <td>SpecialNo6</td>\n",
       "      <td>2986</td>\n",
       "    </tr>\n",
       "    <tr>\n",
       "      <th>104578</th>\n",
       "      <td>495419</td>\n",
       "      <td>2019-06-01</td>\n",
       "      <td>SpecialNo7</td>\n",
       "      <td>2885</td>\n",
       "    </tr>\n",
       "    <tr>\n",
       "      <th>104579</th>\n",
       "      <td>495419</td>\n",
       "      <td>2019-06-01</td>\n",
       "      <td>SpecialNo8</td>\n",
       "      <td>5687</td>\n",
       "    </tr>\n",
       "    <tr>\n",
       "      <th>104580</th>\n",
       "      <td>495419</td>\n",
       "      <td>2019-06-01</td>\n",
       "      <td>SpecialNo9</td>\n",
       "      <td>4664</td>\n",
       "    </tr>\n",
       "  </tbody>\n",
       "</table>\n",
       "</div>"
      ],
      "text/plain": [
       "        DrawNo   DrawDate        PrizeType  LuckyNo\n",
       "104558  495419 2019-06-01       1stPrizeNo     7882\n",
       "104559  495419 2019-06-01       2ndPrizeNo     8550\n",
       "104560  495419 2019-06-01       3rdPrizeNo     7022\n",
       "104561  495419 2019-06-01   ConsolationNo1     2969\n",
       "104562  495419 2019-06-01  ConsolationNo10     4336\n",
       "104563  495419 2019-06-01   ConsolationNo2     2006\n",
       "104564  495419 2019-06-01   ConsolationNo3     9275\n",
       "104565  495419 2019-06-01   ConsolationNo4     2089\n",
       "104566  495419 2019-06-01   ConsolationNo5     3649\n",
       "104567  495419 2019-06-01   ConsolationNo6     2537\n",
       "104568  495419 2019-06-01   ConsolationNo7     3566\n",
       "104569  495419 2019-06-01   ConsolationNo8     6964\n",
       "104570  495419 2019-06-01   ConsolationNo9     4626\n",
       "104571  495419 2019-06-01       SpecialNo1      511\n",
       "104572  495419 2019-06-01      SpecialNo10     5916\n",
       "104573  495419 2019-06-01       SpecialNo2     4738\n",
       "104574  495419 2019-06-01       SpecialNo3      128\n",
       "104575  495419 2019-06-01       SpecialNo4      911\n",
       "104576  495419 2019-06-01       SpecialNo5     1661\n",
       "104577  495419 2019-06-01       SpecialNo6     2986\n",
       "104578  495419 2019-06-01       SpecialNo7     2885\n",
       "104579  495419 2019-06-01       SpecialNo8     5687\n",
       "104580  495419 2019-06-01       SpecialNo9     4664"
      ]
     },
     "metadata": {
      "tags": []
     },
     "output_type": "display_data"
    },
    {
     "name": "stdout",
     "output_type": "stream",
     "text": [
      "2019-07-01 00:00:00\n",
      "-------------------\n",
      "\n",
      "Size of test labels 10000\n",
      "Size of train labels 659972\n",
      "Size of X train 659972\n",
      "Size of X test  10000\n",
      "Training on 659972 observations.\n",
      "Testing on 10000 observations.\n",
      "\n",
      "Total predicted to be positive:  0\n",
      "Precision: 0.0\n",
      "Recall: 0.0\n",
      "F1 Score: 0.0\n",
      "ROC AUC: 0.50939\n",
      "Accuracy: 0.9686\n",
      "Average precision: 0.0314\n",
      "Confusion matrix\n",
      "[[9686    0]\n",
      " [ 314    0]]\n",
      "Predicted matches\n",
      "0 (array([], dtype=int64),)\n",
      "No luck this month\n",
      "2019-08-01 00:00:00\n",
      "-------------------\n",
      "\n",
      "Size of test labels 10000\n",
      "Size of train labels 669972\n",
      "Size of X train 669972\n",
      "Size of X test  10000\n",
      "Training on 669972 observations.\n",
      "Testing on 10000 observations.\n",
      "\n",
      "Total predicted to be positive:  0\n",
      "Precision: 0.0\n",
      "Recall: 0.0\n",
      "F1 Score: 0.0\n",
      "ROC AUC: 0.47624\n",
      "Accuracy: 0.9686\n",
      "Average precision: 0.0314\n",
      "Confusion matrix\n",
      "[[9686    0]\n",
      " [ 314    0]]\n",
      "Predicted matches\n",
      "0 (array([], dtype=int64),)\n",
      "No luck this month\n",
      "2019-09-01 00:00:00\n",
      "-------------------\n",
      "\n",
      "Size of test labels 10000\n",
      "Size of train labels 679972\n",
      "Size of X train 679972\n",
      "Size of X test  10000\n",
      "Training on 679972 observations.\n",
      "Testing on 10000 observations.\n",
      "\n",
      "Total predicted to be positive:  23\n",
      "Precision: 1.0\n",
      "Recall: 0.07278\n",
      "F1 Score: 0.13569\n",
      "ROC AUC: 0.54691\n",
      "Accuracy: 0.9707\n",
      "Average precision: 0.10208\n",
      "Confusion matrix\n",
      "[[9684    0]\n",
      " [ 293   23]]\n",
      "Predicted matches\n",
      "23 (array([ 33,  34,  47,  55,  62,  82,  90, 105, 107, 113, 116, 128, 131,\n",
      "       134, 166, 178, 199, 224, 250, 262, 275, 280, 302]),)\n",
      "Matched draws\n",
      "23 (array([ 33,  34,  47,  55,  62,  82,  90, 105, 107, 113, 116, 128, 131,\n",
      "       134, 166, 178, 199, 224, 250, 262, 275, 280, 302]),)\n"
     ]
    },
    {
     "data": {
      "text/html": [
       "<div>\n",
       "<style scoped>\n",
       "    .dataframe tbody tr th:only-of-type {\n",
       "        vertical-align: middle;\n",
       "    }\n",
       "\n",
       "    .dataframe tbody tr th {\n",
       "        vertical-align: top;\n",
       "    }\n",
       "\n",
       "    .dataframe thead th {\n",
       "        text-align: right;\n",
       "    }\n",
       "</style>\n",
       "<table border=\"1\" class=\"dataframe\">\n",
       "  <thead>\n",
       "    <tr style=\"text-align: right;\">\n",
       "      <th></th>\n",
       "      <th>DrawNo</th>\n",
       "      <th>DrawDate</th>\n",
       "      <th>PrizeType</th>\n",
       "      <th>LuckyNo</th>\n",
       "    </tr>\n",
       "  </thead>\n",
       "  <tbody>\n",
       "    <tr>\n",
       "      <th>105547</th>\n",
       "      <td>499719</td>\n",
       "      <td>2019-09-01</td>\n",
       "      <td>1stPrizeNo</td>\n",
       "      <td>1574</td>\n",
       "    </tr>\n",
       "    <tr>\n",
       "      <th>105548</th>\n",
       "      <td>499719</td>\n",
       "      <td>2019-09-01</td>\n",
       "      <td>2ndPrizeNo</td>\n",
       "      <td>3192</td>\n",
       "    </tr>\n",
       "    <tr>\n",
       "      <th>105549</th>\n",
       "      <td>499719</td>\n",
       "      <td>2019-09-01</td>\n",
       "      <td>3rdPrizeNo</td>\n",
       "      <td>3926</td>\n",
       "    </tr>\n",
       "    <tr>\n",
       "      <th>105550</th>\n",
       "      <td>499719</td>\n",
       "      <td>2019-09-01</td>\n",
       "      <td>ConsolationNo1</td>\n",
       "      <td>8171</td>\n",
       "    </tr>\n",
       "    <tr>\n",
       "      <th>105551</th>\n",
       "      <td>499719</td>\n",
       "      <td>2019-09-01</td>\n",
       "      <td>ConsolationNo10</td>\n",
       "      <td>9001</td>\n",
       "    </tr>\n",
       "    <tr>\n",
       "      <th>105552</th>\n",
       "      <td>499719</td>\n",
       "      <td>2019-09-01</td>\n",
       "      <td>ConsolationNo2</td>\n",
       "      <td>1800</td>\n",
       "    </tr>\n",
       "    <tr>\n",
       "      <th>105553</th>\n",
       "      <td>499719</td>\n",
       "      <td>2019-09-01</td>\n",
       "      <td>ConsolationNo3</td>\n",
       "      <td>2731</td>\n",
       "    </tr>\n",
       "    <tr>\n",
       "      <th>105554</th>\n",
       "      <td>499719</td>\n",
       "      <td>2019-09-01</td>\n",
       "      <td>ConsolationNo4</td>\n",
       "      <td>5091</td>\n",
       "    </tr>\n",
       "    <tr>\n",
       "      <th>105555</th>\n",
       "      <td>499719</td>\n",
       "      <td>2019-09-01</td>\n",
       "      <td>ConsolationNo5</td>\n",
       "      <td>6780</td>\n",
       "    </tr>\n",
       "    <tr>\n",
       "      <th>105556</th>\n",
       "      <td>499719</td>\n",
       "      <td>2019-09-01</td>\n",
       "      <td>ConsolationNo6</td>\n",
       "      <td>3791</td>\n",
       "    </tr>\n",
       "    <tr>\n",
       "      <th>105557</th>\n",
       "      <td>499719</td>\n",
       "      <td>2019-09-01</td>\n",
       "      <td>ConsolationNo7</td>\n",
       "      <td>851</td>\n",
       "    </tr>\n",
       "    <tr>\n",
       "      <th>105558</th>\n",
       "      <td>499719</td>\n",
       "      <td>2019-09-01</td>\n",
       "      <td>ConsolationNo8</td>\n",
       "      <td>2524</td>\n",
       "    </tr>\n",
       "    <tr>\n",
       "      <th>105559</th>\n",
       "      <td>499719</td>\n",
       "      <td>2019-09-01</td>\n",
       "      <td>ConsolationNo9</td>\n",
       "      <td>5806</td>\n",
       "    </tr>\n",
       "    <tr>\n",
       "      <th>105560</th>\n",
       "      <td>499719</td>\n",
       "      <td>2019-09-01</td>\n",
       "      <td>SpecialNo1</td>\n",
       "      <td>3719</td>\n",
       "    </tr>\n",
       "    <tr>\n",
       "      <th>105561</th>\n",
       "      <td>499719</td>\n",
       "      <td>2019-09-01</td>\n",
       "      <td>SpecialNo10</td>\n",
       "      <td>7714</td>\n",
       "    </tr>\n",
       "    <tr>\n",
       "      <th>105562</th>\n",
       "      <td>499719</td>\n",
       "      <td>2019-09-01</td>\n",
       "      <td>SpecialNo2</td>\n",
       "      <td>9682</td>\n",
       "    </tr>\n",
       "    <tr>\n",
       "      <th>105563</th>\n",
       "      <td>499719</td>\n",
       "      <td>2019-09-01</td>\n",
       "      <td>SpecialNo3</td>\n",
       "      <td>1311</td>\n",
       "    </tr>\n",
       "    <tr>\n",
       "      <th>105564</th>\n",
       "      <td>499719</td>\n",
       "      <td>2019-09-01</td>\n",
       "      <td>SpecialNo4</td>\n",
       "      <td>878</td>\n",
       "    </tr>\n",
       "    <tr>\n",
       "      <th>105565</th>\n",
       "      <td>499719</td>\n",
       "      <td>2019-09-01</td>\n",
       "      <td>SpecialNo5</td>\n",
       "      <td>4719</td>\n",
       "    </tr>\n",
       "    <tr>\n",
       "      <th>105566</th>\n",
       "      <td>499719</td>\n",
       "      <td>2019-09-01</td>\n",
       "      <td>SpecialNo6</td>\n",
       "      <td>3246</td>\n",
       "    </tr>\n",
       "    <tr>\n",
       "      <th>105567</th>\n",
       "      <td>499719</td>\n",
       "      <td>2019-09-01</td>\n",
       "      <td>SpecialNo7</td>\n",
       "      <td>3425</td>\n",
       "    </tr>\n",
       "    <tr>\n",
       "      <th>105568</th>\n",
       "      <td>499719</td>\n",
       "      <td>2019-09-01</td>\n",
       "      <td>SpecialNo8</td>\n",
       "      <td>3499</td>\n",
       "    </tr>\n",
       "    <tr>\n",
       "      <th>105569</th>\n",
       "      <td>499719</td>\n",
       "      <td>2019-09-01</td>\n",
       "      <td>SpecialNo9</td>\n",
       "      <td>8900</td>\n",
       "    </tr>\n",
       "  </tbody>\n",
       "</table>\n",
       "</div>"
      ],
      "text/plain": [
       "        DrawNo   DrawDate        PrizeType  LuckyNo\n",
       "105547  499719 2019-09-01       1stPrizeNo     1574\n",
       "105548  499719 2019-09-01       2ndPrizeNo     3192\n",
       "105549  499719 2019-09-01       3rdPrizeNo     3926\n",
       "105550  499719 2019-09-01   ConsolationNo1     8171\n",
       "105551  499719 2019-09-01  ConsolationNo10     9001\n",
       "105552  499719 2019-09-01   ConsolationNo2     1800\n",
       "105553  499719 2019-09-01   ConsolationNo3     2731\n",
       "105554  499719 2019-09-01   ConsolationNo4     5091\n",
       "105555  499719 2019-09-01   ConsolationNo5     6780\n",
       "105556  499719 2019-09-01   ConsolationNo6     3791\n",
       "105557  499719 2019-09-01   ConsolationNo7      851\n",
       "105558  499719 2019-09-01   ConsolationNo8     2524\n",
       "105559  499719 2019-09-01   ConsolationNo9     5806\n",
       "105560  499719 2019-09-01       SpecialNo1     3719\n",
       "105561  499719 2019-09-01      SpecialNo10     7714\n",
       "105562  499719 2019-09-01       SpecialNo2     9682\n",
       "105563  499719 2019-09-01       SpecialNo3     1311\n",
       "105564  499719 2019-09-01       SpecialNo4      878\n",
       "105565  499719 2019-09-01       SpecialNo5     4719\n",
       "105566  499719 2019-09-01       SpecialNo6     3246\n",
       "105567  499719 2019-09-01       SpecialNo7     3425\n",
       "105568  499719 2019-09-01       SpecialNo8     3499\n",
       "105569  499719 2019-09-01       SpecialNo9     8900"
      ]
     },
     "metadata": {
      "tags": []
     },
     "output_type": "display_data"
    },
    {
     "name": "stdout",
     "output_type": "stream",
     "text": [
      "2019-10-01 00:00:00\n",
      "-------------------\n",
      "\n",
      "Size of test labels 10000\n",
      "Size of train labels 689972\n",
      "Size of X train 689972\n",
      "Size of X test  10000\n",
      "Training on 689972 observations.\n",
      "Testing on 10000 observations.\n",
      "\n",
      "Total predicted to be positive:  23\n",
      "Precision: 1.0\n",
      "Recall: 0.07256\n",
      "F1 Score: 0.13529\n",
      "ROC AUC: 0.54742\n",
      "Accuracy: 0.9706\n",
      "Average precision: 0.10196\n",
      "Confusion matrix\n",
      "[[9683    0]\n",
      " [ 294   23]]\n",
      "Predicted matches\n",
      "23 (array([ 23,  32,  43,  59,  61,  90, 103, 110, 145, 149, 154, 164, 166,\n",
      "       189, 228, 233, 241, 255, 281, 300, 305, 308, 312]),)\n",
      "Matched draws\n",
      "23 (array([ 23,  32,  43,  59,  61,  90, 103, 110, 145, 149, 154, 164, 166,\n",
      "       189, 228, 233, 241, 255, 281, 300, 305, 308, 312]),)\n"
     ]
    },
    {
     "data": {
      "text/html": [
       "<div>\n",
       "<style scoped>\n",
       "    .dataframe tbody tr th:only-of-type {\n",
       "        vertical-align: middle;\n",
       "    }\n",
       "\n",
       "    .dataframe tbody tr th {\n",
       "        vertical-align: top;\n",
       "    }\n",
       "\n",
       "    .dataframe thead th {\n",
       "        text-align: right;\n",
       "    }\n",
       "</style>\n",
       "<table border=\"1\" class=\"dataframe\">\n",
       "  <thead>\n",
       "    <tr style=\"text-align: right;\">\n",
       "      <th></th>\n",
       "      <th>DrawNo</th>\n",
       "      <th>DrawDate</th>\n",
       "      <th>PrizeType</th>\n",
       "      <th>LuckyNo</th>\n",
       "    </tr>\n",
       "  </thead>\n",
       "  <tbody>\n",
       "    <tr>\n",
       "      <th>105869</th>\n",
       "      <td>501119</td>\n",
       "      <td>2019-10-01</td>\n",
       "      <td>1stPrizeNo</td>\n",
       "      <td>7344</td>\n",
       "    </tr>\n",
       "    <tr>\n",
       "      <th>105870</th>\n",
       "      <td>501119</td>\n",
       "      <td>2019-10-01</td>\n",
       "      <td>2ndPrizeNo</td>\n",
       "      <td>4600</td>\n",
       "    </tr>\n",
       "    <tr>\n",
       "      <th>105871</th>\n",
       "      <td>501119</td>\n",
       "      <td>2019-10-01</td>\n",
       "      <td>3rdPrizeNo</td>\n",
       "      <td>3162</td>\n",
       "    </tr>\n",
       "    <tr>\n",
       "      <th>105872</th>\n",
       "      <td>501119</td>\n",
       "      <td>2019-10-01</td>\n",
       "      <td>ConsolationNo1</td>\n",
       "      <td>9520</td>\n",
       "    </tr>\n",
       "    <tr>\n",
       "      <th>105873</th>\n",
       "      <td>501119</td>\n",
       "      <td>2019-10-01</td>\n",
       "      <td>ConsolationNo10</td>\n",
       "      <td>1836</td>\n",
       "    </tr>\n",
       "    <tr>\n",
       "      <th>105874</th>\n",
       "      <td>501119</td>\n",
       "      <td>2019-10-01</td>\n",
       "      <td>ConsolationNo2</td>\n",
       "      <td>4483</td>\n",
       "    </tr>\n",
       "    <tr>\n",
       "      <th>105875</th>\n",
       "      <td>501119</td>\n",
       "      <td>2019-10-01</td>\n",
       "      <td>ConsolationNo3</td>\n",
       "      <td>502</td>\n",
       "    </tr>\n",
       "    <tr>\n",
       "      <th>105876</th>\n",
       "      <td>501119</td>\n",
       "      <td>2019-10-01</td>\n",
       "      <td>ConsolationNo4</td>\n",
       "      <td>6958</td>\n",
       "    </tr>\n",
       "    <tr>\n",
       "      <th>105877</th>\n",
       "      <td>501119</td>\n",
       "      <td>2019-10-01</td>\n",
       "      <td>ConsolationNo5</td>\n",
       "      <td>9808</td>\n",
       "    </tr>\n",
       "    <tr>\n",
       "      <th>105878</th>\n",
       "      <td>501119</td>\n",
       "      <td>2019-10-01</td>\n",
       "      <td>ConsolationNo6</td>\n",
       "      <td>1069</td>\n",
       "    </tr>\n",
       "    <tr>\n",
       "      <th>105879</th>\n",
       "      <td>501119</td>\n",
       "      <td>2019-10-01</td>\n",
       "      <td>ConsolationNo7</td>\n",
       "      <td>4785</td>\n",
       "    </tr>\n",
       "    <tr>\n",
       "      <th>105880</th>\n",
       "      <td>501119</td>\n",
       "      <td>2019-10-01</td>\n",
       "      <td>ConsolationNo8</td>\n",
       "      <td>717</td>\n",
       "    </tr>\n",
       "    <tr>\n",
       "      <th>105881</th>\n",
       "      <td>501119</td>\n",
       "      <td>2019-10-01</td>\n",
       "      <td>ConsolationNo9</td>\n",
       "      <td>5702</td>\n",
       "    </tr>\n",
       "    <tr>\n",
       "      <th>105882</th>\n",
       "      <td>501119</td>\n",
       "      <td>2019-10-01</td>\n",
       "      <td>SpecialNo1</td>\n",
       "      <td>7129</td>\n",
       "    </tr>\n",
       "    <tr>\n",
       "      <th>105883</th>\n",
       "      <td>501119</td>\n",
       "      <td>2019-10-01</td>\n",
       "      <td>SpecialNo10</td>\n",
       "      <td>9691</td>\n",
       "    </tr>\n",
       "    <tr>\n",
       "      <th>105884</th>\n",
       "      <td>501119</td>\n",
       "      <td>2019-10-01</td>\n",
       "      <td>SpecialNo2</td>\n",
       "      <td>4809</td>\n",
       "    </tr>\n",
       "    <tr>\n",
       "      <th>105885</th>\n",
       "      <td>501119</td>\n",
       "      <td>2019-10-01</td>\n",
       "      <td>SpecialNo3</td>\n",
       "      <td>8993</td>\n",
       "    </tr>\n",
       "    <tr>\n",
       "      <th>105886</th>\n",
       "      <td>501119</td>\n",
       "      <td>2019-10-01</td>\n",
       "      <td>SpecialNo4</td>\n",
       "      <td>2917</td>\n",
       "    </tr>\n",
       "    <tr>\n",
       "      <th>105887</th>\n",
       "      <td>501119</td>\n",
       "      <td>2019-10-01</td>\n",
       "      <td>SpecialNo5</td>\n",
       "      <td>4418</td>\n",
       "    </tr>\n",
       "    <tr>\n",
       "      <th>105888</th>\n",
       "      <td>501119</td>\n",
       "      <td>2019-10-01</td>\n",
       "      <td>SpecialNo6</td>\n",
       "      <td>1781</td>\n",
       "    </tr>\n",
       "    <tr>\n",
       "      <th>105889</th>\n",
       "      <td>501119</td>\n",
       "      <td>2019-10-01</td>\n",
       "      <td>SpecialNo7</td>\n",
       "      <td>9864</td>\n",
       "    </tr>\n",
       "    <tr>\n",
       "      <th>105890</th>\n",
       "      <td>501119</td>\n",
       "      <td>2019-10-01</td>\n",
       "      <td>SpecialNo8</td>\n",
       "      <td>3399</td>\n",
       "    </tr>\n",
       "    <tr>\n",
       "      <th>105891</th>\n",
       "      <td>501119</td>\n",
       "      <td>2019-10-01</td>\n",
       "      <td>SpecialNo9</td>\n",
       "      <td>7911</td>\n",
       "    </tr>\n",
       "  </tbody>\n",
       "</table>\n",
       "</div>"
      ],
      "text/plain": [
       "        DrawNo   DrawDate        PrizeType  LuckyNo\n",
       "105869  501119 2019-10-01       1stPrizeNo     7344\n",
       "105870  501119 2019-10-01       2ndPrizeNo     4600\n",
       "105871  501119 2019-10-01       3rdPrizeNo     3162\n",
       "105872  501119 2019-10-01   ConsolationNo1     9520\n",
       "105873  501119 2019-10-01  ConsolationNo10     1836\n",
       "105874  501119 2019-10-01   ConsolationNo2     4483\n",
       "105875  501119 2019-10-01   ConsolationNo3      502\n",
       "105876  501119 2019-10-01   ConsolationNo4     6958\n",
       "105877  501119 2019-10-01   ConsolationNo5     9808\n",
       "105878  501119 2019-10-01   ConsolationNo6     1069\n",
       "105879  501119 2019-10-01   ConsolationNo7     4785\n",
       "105880  501119 2019-10-01   ConsolationNo8      717\n",
       "105881  501119 2019-10-01   ConsolationNo9     5702\n",
       "105882  501119 2019-10-01       SpecialNo1     7129\n",
       "105883  501119 2019-10-01      SpecialNo10     9691\n",
       "105884  501119 2019-10-01       SpecialNo2     4809\n",
       "105885  501119 2019-10-01       SpecialNo3     8993\n",
       "105886  501119 2019-10-01       SpecialNo4     2917\n",
       "105887  501119 2019-10-01       SpecialNo5     4418\n",
       "105888  501119 2019-10-01       SpecialNo6     1781\n",
       "105889  501119 2019-10-01       SpecialNo7     9864\n",
       "105890  501119 2019-10-01       SpecialNo8     3399\n",
       "105891  501119 2019-10-01       SpecialNo9     7911"
      ]
     },
     "metadata": {
      "tags": []
     },
     "output_type": "display_data"
    },
    {
     "name": "stdout",
     "output_type": "stream",
     "text": [
      "2019-11-01 00:00:00\n",
      "-------------------\n",
      "\n",
      "Size of test labels 10000\n",
      "Size of train labels 699972\n",
      "Size of X train 699972\n",
      "Size of X test  10000\n",
      "Training on 699972 observations.\n",
      "Testing on 10000 observations.\n",
      "\n",
      "Total predicted to be positive:  0\n",
      "Precision: 0.0\n",
      "Recall: 0.0\n",
      "F1 Score: 0.0\n",
      "ROC AUC: 0.49021\n",
      "Accuracy: 0.9692\n",
      "Average precision: 0.0308\n",
      "Confusion matrix\n",
      "[[9692    0]\n",
      " [ 308    0]]\n",
      "Predicted matches\n",
      "0 (array([], dtype=int64),)\n",
      "No luck this month\n",
      "2019-12-01 00:00:00\n",
      "-------------------\n",
      "\n",
      "Size of test labels 10000\n",
      "Size of train labels 709972\n",
      "Size of X train 709972\n",
      "Size of X test  10000\n",
      "Training on 709972 observations.\n",
      "Testing on 10000 observations.\n",
      "\n",
      "Total predicted to be positive:  23\n",
      "Precision: 1.0\n",
      "Recall: 0.07278\n",
      "F1 Score: 0.13569\n",
      "ROC AUC: 0.54434\n",
      "Accuracy: 0.9707\n",
      "Average precision: 0.10208\n",
      "Confusion matrix\n",
      "[[9684    0]\n",
      " [ 293   23]]\n",
      "Predicted matches\n",
      "23 (array([  0,   7,  16,  42,  61,  84,  98, 101, 111, 121, 133, 135, 136,\n",
      "       188, 195, 198, 221, 243, 246, 258, 263, 283, 303]),)\n",
      "Matched draws\n",
      "23 (array([  0,   7,  16,  42,  61,  84,  98, 101, 111, 121, 133, 135, 136,\n",
      "       188, 195, 198, 221, 243, 246, 258, 263, 283, 303]),)\n"
     ]
    },
    {
     "data": {
      "text/html": [
       "<div>\n",
       "<style scoped>\n",
       "    .dataframe tbody tr th:only-of-type {\n",
       "        vertical-align: middle;\n",
       "    }\n",
       "\n",
       "    .dataframe tbody tr th {\n",
       "        vertical-align: top;\n",
       "    }\n",
       "\n",
       "    .dataframe thead th {\n",
       "        text-align: right;\n",
       "    }\n",
       "</style>\n",
       "<table border=\"1\" class=\"dataframe\">\n",
       "  <thead>\n",
       "    <tr style=\"text-align: right;\">\n",
       "      <th></th>\n",
       "      <th>DrawNo</th>\n",
       "      <th>DrawDate</th>\n",
       "      <th>PrizeType</th>\n",
       "      <th>LuckyNo</th>\n",
       "    </tr>\n",
       "  </thead>\n",
       "  <tbody>\n",
       "    <tr>\n",
       "      <th>106513</th>\n",
       "      <td>503919</td>\n",
       "      <td>2019-12-01</td>\n",
       "      <td>1stPrizeNo</td>\n",
       "      <td>26</td>\n",
       "    </tr>\n",
       "    <tr>\n",
       "      <th>106514</th>\n",
       "      <td>503919</td>\n",
       "      <td>2019-12-01</td>\n",
       "      <td>2ndPrizeNo</td>\n",
       "      <td>3782</td>\n",
       "    </tr>\n",
       "    <tr>\n",
       "      <th>106515</th>\n",
       "      <td>503919</td>\n",
       "      <td>2019-12-01</td>\n",
       "      <td>3rdPrizeNo</td>\n",
       "      <td>5711</td>\n",
       "    </tr>\n",
       "    <tr>\n",
       "      <th>106516</th>\n",
       "      <td>503919</td>\n",
       "      <td>2019-12-01</td>\n",
       "      <td>ConsolationNo1</td>\n",
       "      <td>3098</td>\n",
       "    </tr>\n",
       "    <tr>\n",
       "      <th>106517</th>\n",
       "      <td>503919</td>\n",
       "      <td>2019-12-01</td>\n",
       "      <td>ConsolationNo10</td>\n",
       "      <td>8826</td>\n",
       "    </tr>\n",
       "    <tr>\n",
       "      <th>106518</th>\n",
       "      <td>503919</td>\n",
       "      <td>2019-12-01</td>\n",
       "      <td>ConsolationNo2</td>\n",
       "      <td>3791</td>\n",
       "    </tr>\n",
       "    <tr>\n",
       "      <th>106519</th>\n",
       "      <td>503919</td>\n",
       "      <td>2019-12-01</td>\n",
       "      <td>ConsolationNo3</td>\n",
       "      <td>7458</td>\n",
       "    </tr>\n",
       "    <tr>\n",
       "      <th>106520</th>\n",
       "      <td>503919</td>\n",
       "      <td>2019-12-01</td>\n",
       "      <td>ConsolationNo4</td>\n",
       "      <td>6075</td>\n",
       "    </tr>\n",
       "    <tr>\n",
       "      <th>106521</th>\n",
       "      <td>503919</td>\n",
       "      <td>2019-12-01</td>\n",
       "      <td>ConsolationNo5</td>\n",
       "      <td>3727</td>\n",
       "    </tr>\n",
       "    <tr>\n",
       "      <th>106522</th>\n",
       "      <td>503919</td>\n",
       "      <td>2019-12-01</td>\n",
       "      <td>ConsolationNo6</td>\n",
       "      <td>2438</td>\n",
       "    </tr>\n",
       "    <tr>\n",
       "      <th>106523</th>\n",
       "      <td>503919</td>\n",
       "      <td>2019-12-01</td>\n",
       "      <td>ConsolationNo7</td>\n",
       "      <td>7961</td>\n",
       "    </tr>\n",
       "    <tr>\n",
       "      <th>106524</th>\n",
       "      <td>503919</td>\n",
       "      <td>2019-12-01</td>\n",
       "      <td>ConsolationNo8</td>\n",
       "      <td>6862</td>\n",
       "    </tr>\n",
       "    <tr>\n",
       "      <th>106525</th>\n",
       "      <td>503919</td>\n",
       "      <td>2019-12-01</td>\n",
       "      <td>ConsolationNo9</td>\n",
       "      <td>572</td>\n",
       "    </tr>\n",
       "    <tr>\n",
       "      <th>106526</th>\n",
       "      <td>503919</td>\n",
       "      <td>2019-12-01</td>\n",
       "      <td>SpecialNo1</td>\n",
       "      <td>9428</td>\n",
       "    </tr>\n",
       "    <tr>\n",
       "      <th>106527</th>\n",
       "      <td>503919</td>\n",
       "      <td>2019-12-01</td>\n",
       "      <td>SpecialNo10</td>\n",
       "      <td>7604</td>\n",
       "    </tr>\n",
       "    <tr>\n",
       "      <th>106528</th>\n",
       "      <td>503919</td>\n",
       "      <td>2019-12-01</td>\n",
       "      <td>SpecialNo2</td>\n",
       "      <td>5957</td>\n",
       "    </tr>\n",
       "    <tr>\n",
       "      <th>106529</th>\n",
       "      <td>503919</td>\n",
       "      <td>2019-12-01</td>\n",
       "      <td>SpecialNo3</td>\n",
       "      <td>1782</td>\n",
       "    </tr>\n",
       "    <tr>\n",
       "      <th>106530</th>\n",
       "      <td>503919</td>\n",
       "      <td>2019-12-01</td>\n",
       "      <td>SpecialNo4</td>\n",
       "      <td>2965</td>\n",
       "    </tr>\n",
       "    <tr>\n",
       "      <th>106531</th>\n",
       "      <td>503919</td>\n",
       "      <td>2019-12-01</td>\n",
       "      <td>SpecialNo5</td>\n",
       "      <td>3402</td>\n",
       "    </tr>\n",
       "    <tr>\n",
       "      <th>106532</th>\n",
       "      <td>503919</td>\n",
       "      <td>2019-12-01</td>\n",
       "      <td>SpecialNo6</td>\n",
       "      <td>1331</td>\n",
       "    </tr>\n",
       "    <tr>\n",
       "      <th>106533</th>\n",
       "      <td>503919</td>\n",
       "      <td>2019-12-01</td>\n",
       "      <td>SpecialNo7</td>\n",
       "      <td>215</td>\n",
       "    </tr>\n",
       "    <tr>\n",
       "      <th>106534</th>\n",
       "      <td>503919</td>\n",
       "      <td>2019-12-01</td>\n",
       "      <td>SpecialNo8</td>\n",
       "      <td>8059</td>\n",
       "    </tr>\n",
       "    <tr>\n",
       "      <th>106535</th>\n",
       "      <td>503919</td>\n",
       "      <td>2019-12-01</td>\n",
       "      <td>SpecialNo9</td>\n",
       "      <td>2858</td>\n",
       "    </tr>\n",
       "  </tbody>\n",
       "</table>\n",
       "</div>"
      ],
      "text/plain": [
       "        DrawNo   DrawDate        PrizeType  LuckyNo\n",
       "106513  503919 2019-12-01       1stPrizeNo       26\n",
       "106514  503919 2019-12-01       2ndPrizeNo     3782\n",
       "106515  503919 2019-12-01       3rdPrizeNo     5711\n",
       "106516  503919 2019-12-01   ConsolationNo1     3098\n",
       "106517  503919 2019-12-01  ConsolationNo10     8826\n",
       "106518  503919 2019-12-01   ConsolationNo2     3791\n",
       "106519  503919 2019-12-01   ConsolationNo3     7458\n",
       "106520  503919 2019-12-01   ConsolationNo4     6075\n",
       "106521  503919 2019-12-01   ConsolationNo5     3727\n",
       "106522  503919 2019-12-01   ConsolationNo6     2438\n",
       "106523  503919 2019-12-01   ConsolationNo7     7961\n",
       "106524  503919 2019-12-01   ConsolationNo8     6862\n",
       "106525  503919 2019-12-01   ConsolationNo9      572\n",
       "106526  503919 2019-12-01       SpecialNo1     9428\n",
       "106527  503919 2019-12-01      SpecialNo10     7604\n",
       "106528  503919 2019-12-01       SpecialNo2     5957\n",
       "106529  503919 2019-12-01       SpecialNo3     1782\n",
       "106530  503919 2019-12-01       SpecialNo4     2965\n",
       "106531  503919 2019-12-01       SpecialNo5     3402\n",
       "106532  503919 2019-12-01       SpecialNo6     1331\n",
       "106533  503919 2019-12-01       SpecialNo7      215\n",
       "106534  503919 2019-12-01       SpecialNo8     8059\n",
       "106535  503919 2019-12-01       SpecialNo9     2858"
      ]
     },
     "metadata": {
      "tags": []
     },
     "output_type": "display_data"
    }
   ],
   "source": [
    "## Loop through from June to Dec\n",
    "start_mt = pd.datetime(2019,6,1)\n",
    "how_many_mt = 7\n",
    "for i in range(how_many_mt):\n",
    "  month_to_predict = start_mt + relativedelta(months=i)\n",
    "  print(f\"\\n{month_to_predict}\\n-------------------\\n\")\n",
    "  %time predict_dt(month_to_predict, feature_matrix_selection)"
   ]
  },
  {
   "cell_type": "code",
   "execution_count": null,
   "metadata": {
    "colab": {},
    "colab_type": "code",
    "id": "bvcaaAZle0XI"
   },
   "outputs": [],
   "source": []
  },
  {
   "cell_type": "code",
   "execution_count": null,
   "metadata": {
    "colab": {},
    "colab_type": "code",
    "id": "_knRAZVCe0ML"
   },
   "outputs": [],
   "source": []
  },
  {
   "cell_type": "code",
   "execution_count": null,
   "metadata": {
    "colab": {},
    "colab_type": "code",
    "id": "s3h8GNGuez-T"
   },
   "outputs": [],
   "source": []
  },
  {
   "cell_type": "code",
   "execution_count": null,
   "metadata": {
    "colab": {},
    "colab_type": "code",
    "id": "wwMPNFdACZEO"
   },
   "outputs": [],
   "source": [
    " # %time oct_2019 = predict_dt(pd.datetime(2019,10,1), feature_matrix_selection)"
   ]
  },
  {
   "cell_type": "code",
   "execution_count": null,
   "metadata": {
    "colab": {},
    "colab_type": "code",
    "id": "NLKVpYHnK5oW"
   },
   "outputs": [],
   "source": [
    "#month_data = feature_matrix_selection.loc[feature_matrix_selection['time'] == pd.datetime(2019,6,1)]\n",
    "# aa = np.sort(np.array([month_data.NumberId]))\n",
    "# print(len(aa[0]),aa)\n",
    "# print(np.array([month_data.NumberId]))\n",
    "#month_data[month_data['Label'] == 1]['NumberId']"
   ]
  },
  {
   "cell_type": "code",
   "execution_count": null,
   "metadata": {
    "colab": {},
    "colab_type": "code",
    "id": "Her0uo3yafnG"
   },
   "outputs": [],
   "source": [
    "#dd = pd.read_csv(DATASET_PATH/\"feature_matrix_2.csv\", header=0, sep=',', quotechar='\"', parse_dates=['time'])\n",
    "#prev_data = dd.loc[dd['time'] == pd.datetime(2019,6,1)]\n",
    "#prev_data[prev_data['Label'] == 1]['NumberId']\n",
    "#print(np.array([prev_data.NumberId]))"
   ]
  },
  {
   "cell_type": "markdown",
   "metadata": {
    "colab_type": "text",
    "id": "zrus1QsAafwI"
   },
   "source": [
    "## Check Raw Data"
   ]
  },
  {
   "cell_type": "code",
   "execution_count": null,
   "metadata": {
    "colab": {},
    "colab_type": "code",
    "id": "8Yd0wdngcvrb"
   },
   "outputs": [],
   "source": [
    "# number = [[128], [511]] \n",
    "# d = pd.DataFrame(number, columns = ['NumberId']) \n",
    "# d"
   ]
  },
  {
   "cell_type": "code",
   "execution_count": null,
   "metadata": {
    "colab": {},
    "colab_type": "code",
    "id": "Q51I6LDAamln"
   },
   "outputs": [],
   "source": [
    "#display(origin_data[(origin_data['DrawDate'].dt.year == 2019) & (origin_data['DrawDate'].dt.month == 6) & (origin_data['LuckyNo'].isin(d.NumberId))].head(10))"
   ]
  },
  {
   "cell_type": "code",
   "execution_count": null,
   "metadata": {
    "colab": {},
    "colab_type": "code",
    "id": "_37X2av5Tggp"
   },
   "outputs": [],
   "source": [
    "#display(origin_data[(origin_data['DrawDate'].dt.year == 2019) & (origin_data['DrawDate'].dt.month == 10)].head(30))"
   ]
  },
  {
   "cell_type": "code",
   "execution_count": 35,
   "metadata": {
    "colab": {
     "base_uri": "https://localhost:8080/",
     "height": 34
    },
    "colab_type": "code",
    "id": "Zehh4dANam0Y",
    "outputId": "0bdde90d-e0d9-4e58-bd74-87968fc7afe4"
   },
   "outputs": [
    {
     "data": {
      "text/plain": [
       "15"
      ]
     },
     "execution_count": 35,
     "metadata": {
      "tags": []
     },
     "output_type": "execute_result"
    }
   ],
   "source": [
    "origin_data[(origin_data['DrawDate'].dt.year == 2019) & (origin_data['DrawDate'].dt.month == 6)]['DrawNo'].nunique()"
   ]
  },
  {
   "cell_type": "code",
   "execution_count": 36,
   "metadata": {
    "colab": {
     "base_uri": "https://localhost:8080/",
     "height": 34
    },
    "colab_type": "code",
    "id": "9CuaHUA8qq79",
    "outputId": "6fd28ea5-fa76-4bbe-914f-d17faa73e381"
   },
   "outputs": [
    {
     "data": {
      "text/plain": [
       "14"
      ]
     },
     "execution_count": 36,
     "metadata": {
      "tags": []
     },
     "output_type": "execute_result"
    }
   ],
   "source": [
    "origin_data[(origin_data['DrawDate'].dt.year == 2019) & (origin_data['DrawDate'].dt.month == 10)]['DrawNo'].nunique()"
   ]
  },
  {
   "cell_type": "code",
   "execution_count": 37,
   "metadata": {
    "colab": {
     "base_uri": "https://localhost:8080/",
     "height": 34
    },
    "colab_type": "code",
    "id": "qE1h8Uq3qwlA",
    "outputId": "7b769589-7972-403c-be7e-e7274bbaf50e"
   },
   "outputs": [
    {
     "name": "stdout",
     "output_type": "stream",
     "text": [
      "667\n"
     ]
    }
   ],
   "source": [
    "print(15 * 23 + 14 * 23)"
   ]
  },
  {
   "cell_type": "markdown",
   "metadata": {
    "colab_type": "text",
    "id": "vO2-mn8-YJoe"
   },
   "source": [
    "\n",
    "## Parameter Tuning - GridSearchCV"
   ]
  },
  {
   "cell_type": "code",
   "execution_count": null,
   "metadata": {
    "colab": {},
    "colab_type": "code",
    "id": "rP4J9IwOXYVT"
   },
   "outputs": [],
   "source": []
  }
 ],
 "metadata": {
  "accelerator": "GPU",
  "colab": {
   "include_colab_link": true,
   "name": "04_02_automated_machine_learning.ipynb",
   "provenance": [],
   "toc_visible": true
  },
  "kernelspec": {
   "display_name": "Python 3",
   "language": "python",
   "name": "python3"
  },
  "language_info": {
   "codemirror_mode": {
    "name": "ipython",
    "version": 3
   },
   "file_extension": ".py",
   "mimetype": "text/x-python",
   "name": "python",
   "nbconvert_exporter": "python",
   "pygments_lexer": "ipython3",
   "version": "3.7.2"
  }
 },
 "nbformat": 4,
 "nbformat_minor": 2
}

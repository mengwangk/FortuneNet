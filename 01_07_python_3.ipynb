{
 "cells": [
  {
   "cell_type": "code",
   "execution_count": 4,
   "metadata": {},
   "outputs": [],
   "source": [
    "from IPython.core.interactiveshell import InteractiveShell\n",
    "InteractiveShell.ast_node_interactivity = \"all\""
   ]
  },
  {
   "cell_type": "code",
   "execution_count": 8,
   "metadata": {},
   "outputs": [],
   "source": [
    "people = [\n",
    "{ 'name': 'John', \"age\": 64 },\n",
    "{ 'name': 'Janet', \"age\": 34 },\n",
    "{ 'name': 'Ed', \"age\": 24 },\n",
    "{ 'name': 'Sara', \"age\": 64 },\n",
    "{ 'name': 'John', \"age\": 32 },\n",
    "{ 'name': 'Jane', \"age\": 34 },\n",
    "{ 'name': 'John', \"age\": 99 },\n",
    "]"
   ]
  },
  {
   "cell_type": "code",
   "execution_count": 11,
   "metadata": {},
   "outputs": [
    {
     "data": {
      "text/plain": [
       "[{'name': 'Ed', 'age': 24},\n",
       " {'name': 'John', 'age': 32},\n",
       " {'name': 'Jane', 'age': 34},\n",
       " {'name': 'Janet', 'age': 34},\n",
       " {'name': 'John', 'age': 64},\n",
       " {'name': 'Sara', 'age': 64},\n",
       " {'name': 'John', 'age': 99}]"
      ]
     },
     "execution_count": 11,
     "metadata": {},
     "output_type": "execute_result"
    },
    {
     "data": {
      "text/plain": [
       "[{'name': 'Ed', 'age': 24},\n",
       " {'name': 'Jane', 'age': 34},\n",
       " {'name': 'Janet', 'age': 34},\n",
       " {'name': 'John', 'age': 32},\n",
       " {'name': 'John', 'age': 64},\n",
       " {'name': 'John', 'age': 99},\n",
       " {'name': 'Sara', 'age': 64}]"
      ]
     },
     "execution_count": 11,
     "metadata": {},
     "output_type": "execute_result"
    }
   ],
   "source": [
    "# Sorting objects by multiple keys\n",
    "import operator\n",
    "people.sort(key=operator.itemgetter('age'))\n",
    "people\n",
    "\n",
    "people.sort(key=operator.itemgetter('name'))\n",
    "people"
   ]
  },
  {
   "cell_type": "code",
   "execution_count": 15,
   "metadata": {},
   "outputs": [
    {
     "name": "stdout",
     "output_type": "stream",
     "text": [
      "[0, 1, 2, 3, 4, 5, 6, 7, 8, 9]\n",
      "[0, 1, 4, 9, 16, 25, 36, 49, 64, 81]\n",
      "[2.5, 3.0, 3.5, 4.0, 4.5, 5.0, 5.5, 6.0, 6.5, 7.0]\n",
      "[0, 2, 4, 6, 8, 10, 12, 14, 16, 18]\n"
     ]
    }
   ],
   "source": [
    "# List Comprehensions\n",
    "mylist = [i for i in range(10)]\n",
    "print(mylist)\n",
    "\n",
    "squares = [x**2 for x in range(10)]\n",
    "print(squares)\n",
    "\n",
    "def some_function(a):\n",
    "    return (a + 5) / 2\n",
    "    \n",
    "my_formula = [some_function(i) for i in range(10)]\n",
    "print(my_formula)\n",
    "\n",
    "filtered = [i for i in range(20) if i%2==0]\n",
    "print(filtered)"
   ]
  },
  {
   "cell_type": "code",
   "execution_count": 17,
   "metadata": {},
   "outputs": [
    {
     "name": "stdout",
     "output_type": "stream",
     "text": [
      "48\n",
      "87632\n"
     ]
    }
   ],
   "source": [
    "# Check memory usage of your objects\n",
    "import sys\n",
    "\n",
    "mylist = range(0, 10000)\n",
    "print(sys.getsizeof(mylist))\n",
    "\n",
    "myreallist = [x for x in range(0, 10000)]\n",
    "print(sys.getsizeof(myreallist))"
   ]
  },
  {
   "cell_type": "code",
   "execution_count": 18,
   "metadata": {},
   "outputs": [
    {
     "name": "stdout",
     "output_type": "stream",
     "text": [
      "True\n",
      "Q\n",
      "Card(rank='Q', suit='hearts')\n"
     ]
    },
    {
     "data": {
      "text/plain": [
       "Card(rank='Q', suit='hearts')"
      ]
     },
     "execution_count": 18,
     "metadata": {},
     "output_type": "execute_result"
    }
   ],
   "source": [
    "# Data classes\n",
    "from dataclasses import dataclass\n",
    "\n",
    "@dataclass\n",
    "class Card:\n",
    "    rank: str\n",
    "    suit: str\n",
    "    \n",
    "card = Card(\"Q\", \"hearts\")\n",
    "\n",
    "print(card == card)\n",
    "# True\n",
    "\n",
    "print(card.rank)\n",
    "# 'Q'\n",
    "\n",
    "print(card)\n",
    "Card(rank='Q', suit='hearts')"
   ]
  },
  {
   "cell_type": "code",
   "execution_count": 22,
   "metadata": {},
   "outputs": [
    {
     "name": "stdout",
     "output_type": "stream",
     "text": [
      "{'a': 1, 'b': 3, 'c': 4}\n"
     ]
    }
   ],
   "source": [
    "# Merging dictionaries\n",
    "dict1 = { 'a': 1, 'b': 2 }\n",
    "dict2 = { 'b': 3, 'c': 4 }\n",
    "merged = { **dict1, **dict2 }\n",
    "print (merged)\n",
    "# {'a': 1, 'b': 3, 'c': 4}\n",
    "\n",
    "# Python 3.9\n",
    "#merged = dict1 | dict2"
   ]
  },
  {
   "cell_type": "code",
   "execution_count": 23,
   "metadata": {},
   "outputs": [
    {
     "name": "stdout",
     "output_type": "stream",
     "text": [
      "4\n"
     ]
    }
   ],
   "source": [
    "# Find most frequent occuring values\n",
    "test = [1, 2, 3, 4, 2, 2, 3, 1, 4, 4, 4]\n",
    "print(max(set(test), key = test.count))"
   ]
  },
  {
   "cell_type": "code",
   "execution_count": 2,
   "metadata": {},
   "outputs": [
    {
     "data": {
      "text/plain": [
       "'Hello world!'"
      ]
     },
     "execution_count": 2,
     "metadata": {},
     "output_type": "execute_result"
    }
   ],
   "source": [
    "# Reverse a string\n",
    "a = \"!dlrow olleH\"\n",
    "backward = a[::-1]\n",
    "backward"
   ]
  },
  {
   "cell_type": "code",
   "execution_count": 3,
   "metadata": {},
   "outputs": [
    {
     "data": {
      "text/plain": [
       "5"
      ]
     },
     "execution_count": 3,
     "metadata": {},
     "output_type": "execute_result"
    }
   ],
   "source": [
    "# Dim as variable\n",
    "array = [5, 10, 15, 20]\n",
    "five, ten, fift, twent = array\n",
    "five"
   ]
  },
  {
   "cell_type": "code",
   "execution_count": 4,
   "metadata": {},
   "outputs": [
    {
     "data": {
      "text/plain": [
       "[1, 2, 3, 4, 5, 6]"
      ]
     },
     "execution_count": 4,
     "metadata": {},
     "output_type": "execute_result"
    }
   ],
   "source": [
    "# itertools\n",
    "c = [[1, 2], [3, 4], [5, 6]]\n",
    "# Let's convert this matrix to a 1 dimensional list.\n",
    "import itertools as it\n",
    "newlist = list(it.chain.from_iterable(c))\n",
    "newlist"
   ]
  },
  {
   "cell_type": "code",
   "execution_count": 5,
   "metadata": {},
   "outputs": [
    {
     "data": {
      "text/plain": [
       "(1, [2, 3, 4], 5)"
      ]
     },
     "execution_count": 5,
     "metadata": {},
     "output_type": "execute_result"
    }
   ],
   "source": [
    "# Intelligent unpacking\n",
    "a, *b, c = [1, 2, 3, 4, 5]\n",
    "a, b, c"
   ]
  },
  {
   "cell_type": "code",
   "execution_count": 6,
   "metadata": {},
   "outputs": [
    {
     "name": "stdout",
     "output_type": "stream",
     "text": [
      "0 5\n",
      "1 10\n",
      "2 15\n",
      "3 20\n"
     ]
    }
   ],
   "source": [
    "# enumerate\n",
    "for i,w in enumerate(array):\n",
    "    print(i,w)"
   ]
  },
  {
   "cell_type": "code",
   "execution_count": 8,
   "metadata": {},
   "outputs": [
    {
     "name": "stdout",
     "output_type": "stream",
     "text": [
      "[3, 4, 5]\n"
     ]
    }
   ],
   "source": [
    "# slice\n",
    "a = [0, 1, 2, 3, 4, 5]\n",
    "LASTTHREE = slice(-3, None)\n",
    "slice(-3, None, None)\n",
    "print(a[LASTTHREE])"
   ]
  },
  {
   "cell_type": "code",
   "execution_count": 14,
   "metadata": {},
   "outputs": [
    {
     "name": "stdout",
     "output_type": "stream",
     "text": [
      "((1, 2, 3), (4, 5, 6))\n",
      "[(1, 2), (3, 4), (5, 6)]\n",
      "[(1,), (2,), (3,), (4,), (5,), (6,)]\n"
     ]
    }
   ],
   "source": [
    "# group adjacent list\n",
    "a = [1, 2, 3, 4, 5, 6]  \n",
    "group_adjacent = lambda a, k: zip(*([iter(a)] * k)) \n",
    "print(tuple(group_adjacent(a, 3)))\n",
    "print(list(group_adjacent(a, 2)))\n",
    "print(list(group_adjacent(a, 1)))"
   ]
  },
  {
   "cell_type": "code",
   "execution_count": 15,
   "metadata": {},
   "outputs": [
    {
     "name": "stdout",
     "output_type": "stream",
     "text": [
      "deque([5, 2, 1, 3])\n"
     ]
    }
   ],
   "source": [
    "# Dequeue\n",
    "import collections\n",
    "Q = collections.deque() \n",
    "Q.append(1) \n",
    "Q.appendleft(2) \n",
    "Q.extend([3, 4]) \n",
    "Q.extendleft([5, 6]) \n",
    "Q.pop()\n",
    "Q.popleft()\n",
    "Q.rotate(3) \n",
    "Q.rotate(-3)\n",
    "print(Q)"
   ]
  }
 ],
 "metadata": {
  "accelerator": "GPU",
  "colab": {
   "include_colab_link": true,
   "name": "01_07_python..ipynb",
   "provenance": []
  },
  "kernelspec": {
   "display_name": "Python 3",
   "language": "python",
   "name": "python3"
  },
  "language_info": {
   "codemirror_mode": {
    "name": "ipython",
    "version": 3
   },
   "file_extension": ".py",
   "mimetype": "text/x-python",
   "name": "python",
   "nbconvert_exporter": "python",
   "pygments_lexer": "ipython3",
   "version": "3.7.6"
  }
 },
 "nbformat": 4,
 "nbformat_minor": 4
}

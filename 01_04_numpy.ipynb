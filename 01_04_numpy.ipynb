{
  "nbformat": 4,
  "nbformat_minor": 0,
  "metadata": {
    "kernelspec": {
      "display_name": "Python 3",
      "language": "python",
      "name": "python3"
    },
    "language_info": {
      "codemirror_mode": {
        "name": "ipython",
        "version": 3
      },
      "file_extension": ".py",
      "mimetype": "text/x-python",
      "name": "python",
      "nbconvert_exporter": "python",
      "pygments_lexer": "ipython3",
      "version": "3.7.2"
    },
    "colab": {
      "name": "01_04_numpy.ipynb",
      "provenance": []
    }
  },
  "cells": [
    {
      "cell_type": "code",
      "metadata": {
        "id": "UonPlCjiUYXs",
        "colab_type": "code",
        "colab": {}
      },
      "source": [
        "import numpy as np"
      ],
      "execution_count": 0,
      "outputs": []
    },
    {
      "cell_type": "markdown",
      "metadata": {
        "id": "aTlXJpV2UYXx",
        "colab_type": "text"
      },
      "source": [
        "### Array manipulation"
      ]
    },
    {
      "cell_type": "code",
      "metadata": {
        "id": "PFSTHJ4wUYXy",
        "colab_type": "code",
        "colab": {},
        "outputId": "d3f655e2-1117-4447-b28f-402515109ec7"
      },
      "source": [
        "arr = np.arange(9)\n",
        "arr"
      ],
      "execution_count": 0,
      "outputs": [
        {
          "output_type": "execute_result",
          "data": {
            "text/plain": [
              "array([0, 1, 2, 3, 4, 5, 6, 7, 8])"
            ]
          },
          "metadata": {
            "tags": []
          },
          "execution_count": 4
        }
      ]
    },
    {
      "cell_type": "code",
      "metadata": {
        "id": "wDK5o-MxUYX2",
        "colab_type": "code",
        "colab": {},
        "outputId": "62d68c6c-5f2f-410b-f3f4-99b9eefd4534"
      },
      "source": [
        "arr2D_1 = arr.reshape(3,3)\n",
        "arr2D_1"
      ],
      "execution_count": 0,
      "outputs": [
        {
          "output_type": "execute_result",
          "data": {
            "text/plain": [
              "array([[0, 1, 2],\n",
              "       [3, 4, 5],\n",
              "       [6, 7, 8]])"
            ]
          },
          "metadata": {
            "tags": []
          },
          "execution_count": 6
        }
      ]
    },
    {
      "cell_type": "code",
      "metadata": {
        "id": "_iCSTbw3UYX5",
        "colab_type": "code",
        "colab": {},
        "outputId": "38460b5b-c138-47e6-897c-ae4a04b4f251"
      },
      "source": [
        "arr2D_2 = np.arange(10,19).reshape(3,3)\n",
        "arr2D_2"
      ],
      "execution_count": 0,
      "outputs": [
        {
          "output_type": "execute_result",
          "data": {
            "text/plain": [
              "array([[10, 11, 12],\n",
              "       [13, 14, 15],\n",
              "       [16, 17, 18]])"
            ]
          },
          "metadata": {
            "tags": []
          },
          "execution_count": 8
        }
      ]
    },
    {
      "cell_type": "code",
      "metadata": {
        "id": "llAJ1y6UUYX9",
        "colab_type": "code",
        "colab": {},
        "outputId": "41b3abd5-b6b4-4e75-d886-6ada8f8519da"
      },
      "source": [
        "np.concatenate((arr2D_1, arr2D_2))"
      ],
      "execution_count": 0,
      "outputs": [
        {
          "output_type": "execute_result",
          "data": {
            "text/plain": [
              "array([[ 0,  1,  2],\n",
              "       [ 3,  4,  5],\n",
              "       [ 6,  7,  8],\n",
              "       [10, 11, 12],\n",
              "       [13, 14, 15],\n",
              "       [16, 17, 18]])"
            ]
          },
          "metadata": {
            "tags": []
          },
          "execution_count": 11
        }
      ]
    },
    {
      "cell_type": "code",
      "metadata": {
        "id": "vTgmN5w3UYX_",
        "colab_type": "code",
        "colab": {},
        "outputId": "61d6d0d2-18e2-4af6-a774-85bc2a251eb6"
      },
      "source": [
        "np.concatenate((arr2D_1, arr2D_2), axis=1)"
      ],
      "execution_count": 0,
      "outputs": [
        {
          "output_type": "execute_result",
          "data": {
            "text/plain": [
              "array([[ 0,  1,  2, 10, 11, 12],\n",
              "       [ 3,  4,  5, 13, 14, 15],\n",
              "       [ 6,  7,  8, 16, 17, 18]])"
            ]
          },
          "metadata": {
            "tags": []
          },
          "execution_count": 12
        }
      ]
    },
    {
      "cell_type": "code",
      "metadata": {
        "id": "5_0zGTKdUYYB",
        "colab_type": "code",
        "colab": {},
        "outputId": "817428ab-2065-4d28-96f8-2e8fbde5c354"
      },
      "source": [
        "np.concatenate((arr2D_1, arr2D_2, arr2D_1))"
      ],
      "execution_count": 0,
      "outputs": [
        {
          "output_type": "execute_result",
          "data": {
            "text/plain": [
              "array([[ 0,  1,  2],\n",
              "       [ 3,  4,  5],\n",
              "       [ 6,  7,  8],\n",
              "       [10, 11, 12],\n",
              "       [13, 14, 15],\n",
              "       [16, 17, 18],\n",
              "       [ 0,  1,  2],\n",
              "       [ 3,  4,  5],\n",
              "       [ 6,  7,  8]])"
            ]
          },
          "metadata": {
            "tags": []
          },
          "execution_count": 14
        }
      ]
    },
    {
      "cell_type": "code",
      "metadata": {
        "id": "AUN9_6FWUYYE",
        "colab_type": "code",
        "colab": {},
        "outputId": "7d3df21b-a3d1-4ed3-ceb6-00849e981cb4"
      },
      "source": [
        "# Alternatives\n",
        "np.vstack((arr2D_1, arr2D_2))"
      ],
      "execution_count": 0,
      "outputs": [
        {
          "output_type": "execute_result",
          "data": {
            "text/plain": [
              "array([[ 0,  1,  2],\n",
              "       [ 3,  4,  5],\n",
              "       [ 6,  7,  8],\n",
              "       [10, 11, 12],\n",
              "       [13, 14, 15],\n",
              "       [16, 17, 18]])"
            ]
          },
          "metadata": {
            "tags": []
          },
          "execution_count": 16
        }
      ]
    },
    {
      "cell_type": "code",
      "metadata": {
        "id": "pspfBpB4UYYG",
        "colab_type": "code",
        "colab": {},
        "outputId": "bb3193fe-10c5-4fc1-9b96-cb92eb36076e"
      },
      "source": [
        "np.hstack((arr2D_1, arr2D_2))"
      ],
      "execution_count": 0,
      "outputs": [
        {
          "output_type": "execute_result",
          "data": {
            "text/plain": [
              "array([[ 0,  1,  2, 10, 11, 12],\n",
              "       [ 3,  4,  5, 13, 14, 15],\n",
              "       [ 6,  7,  8, 16, 17, 18]])"
            ]
          },
          "metadata": {
            "tags": []
          },
          "execution_count": 17
        }
      ]
    },
    {
      "cell_type": "markdown",
      "metadata": {
        "id": "0Hv9kslyUYYJ",
        "colab_type": "text"
      },
      "source": [
        "## np.argsort"
      ]
    },
    {
      "cell_type": "code",
      "metadata": {
        "id": "TDawIBf0UnsQ",
        "colab_type": "code",
        "colab": {
          "base_uri": "https://localhost:8080/",
          "height": 124
        },
        "outputId": "a8dc0baa-4ccb-4a60-a4a2-e44c11969670"
      },
      "source": [
        "score = np.array([70, 60, 50, 10, 90, 40, 80])\n",
        "name = np.array(['Ada', 'Ben', 'Charlie', 'Danny', 'Eden', 'Fanny', 'George'])\n",
        "sorted_name = name[np.argsort(score)] # an array of names in ascending order of their scores\n",
        "print(sorted_name)   # ['Danny' 'Fanny' 'Charlie' 'Ben' 'Ada' 'George' 'Eden']\n",
        "\n",
        "original_name = sorted_name[np.argsort(np.argsort(score))]\n",
        "print(original_name) # ['Ada' 'Ben' 'Charlie' 'Danny' 'Eden' 'Fanny' 'George']\n",
        "\n",
        "%timeit name[np.argsort(score)] \n",
        "# 1.83 µs ± 182 ns per loop (mean ± std. dev. of 7 runs, 100000 loops each)\n",
        "\n",
        "%timeit sorted(zip(score, name))\n",
        "# 3.2 µs ± 76.7 ns per loop (mean ± std. dev. of 7 runs, 100000 loops each)"
      ],
      "execution_count": 2,
      "outputs": [
        {
          "output_type": "stream",
          "text": [
            "['Danny' 'Fanny' 'Charlie' 'Ben' 'Ada' 'George' 'Eden']\n",
            "['Ada' 'Ben' 'Charlie' 'Danny' 'Eden' 'Fanny' 'George']\n",
            "The slowest run took 40.26 times longer than the fastest. This could mean that an intermediate result is being cached.\n",
            "100000 loops, best of 3: 2.19 µs per loop\n",
            "The slowest run took 12.29 times longer than the fastest. This could mean that an intermediate result is being cached.\n",
            "100000 loops, best of 3: 4.11 µs per loop\n"
          ],
          "name": "stdout"
        }
      ]
    },
    {
      "cell_type": "markdown",
      "metadata": {
        "id": "_9jOSKmNUsZc",
        "colab_type": "text"
      },
      "source": [
        "## Broadcasting - shapes"
      ]
    },
    {
      "cell_type": "code",
      "metadata": {
        "id": "F8s1ARRUWM1D",
        "colab_type": "code",
        "colab": {
          "base_uri": "https://localhost:8080/",
          "height": 132
        },
        "outputId": "dafe38b1-079f-4956-95d9-c57415cb2979"
      },
      "source": [
        "Argument 1  (4D array): 7 × 5 × 3 × 1\n",
        "Argument 2  (3D array):     1 × 3 × 9\n",
        "Output      (4D array): 7 × 5 × 3 × 9"
      ],
      "execution_count": 3,
      "outputs": [
        {
          "output_type": "error",
          "ename": "SyntaxError",
          "evalue": "ignored",
          "traceback": [
            "\u001b[0;36m  File \u001b[0;32m\"<ipython-input-3-96c08670f2e0>\"\u001b[0;36m, line \u001b[0;32m1\u001b[0m\n\u001b[0;31m    Argument 1  (4D array): 7 × 5 × 3 × 1\u001b[0m\n\u001b[0m             ^\u001b[0m\n\u001b[0;31mSyntaxError\u001b[0m\u001b[0;31m:\u001b[0m invalid syntax\n"
          ]
        }
      ]
    },
    {
      "cell_type": "markdown",
      "metadata": {
        "id": "QXSmZ9U0WXmm",
        "colab_type": "text"
      },
      "source": [
        "## Ellipsis and NewAxis — dimensions"
      ]
    },
    {
      "cell_type": "code",
      "metadata": {
        "id": "gwXPRmpNWbap",
        "colab_type": "code",
        "colab": {
          "base_uri": "https://localhost:8080/",
          "height": 248
        },
        "outputId": "952dc095-2b99-4392-97d2-06d71513009c"
      },
      "source": [
        "arr = np.array(range(1000)).reshape(2,5,2,10,-1)\n",
        "print(arr[:,:,:,3,2] == arr[...,3,2])\n",
        "\n",
        "# [[[ True,  True],\n",
        "#   [ True,  True],\n",
        "#   [ True,  True],\n",
        "#   [ True,  True],\n",
        "#   [ True,  True]],\n",
        "#  [[ True,  True],\n",
        "#   [ True,  True],\n",
        "#   [ True,  True],\n",
        "#   [ True,  True],\n",
        "#   [ True,  True]]])\n",
        "\n",
        "print(arr.shape)                       # (2, 5, 2, 10, 5)\n",
        "print(arr[...,np.newaxis,:,:,:].shape) # (2, 5, 1, 2, 10, 5)"
      ],
      "execution_count": 4,
      "outputs": [
        {
          "output_type": "stream",
          "text": [
            "[[[ True  True]\n",
            "  [ True  True]\n",
            "  [ True  True]\n",
            "  [ True  True]\n",
            "  [ True  True]]\n",
            "\n",
            " [[ True  True]\n",
            "  [ True  True]\n",
            "  [ True  True]\n",
            "  [ True  True]\n",
            "  [ True  True]]]\n",
            "(2, 5, 2, 10, 5)\n",
            "(2, 5, 1, 2, 10, 5)\n"
          ],
          "name": "stdout"
        }
      ]
    },
    {
      "cell_type": "markdown",
      "metadata": {
        "id": "mXqcSoEUWuXD",
        "colab_type": "text"
      },
      "source": [
        "## Masked Array — selection"
      ]
    },
    {
      "cell_type": "code",
      "metadata": {
        "id": "JhsXONxrYRD0",
        "colab_type": "code",
        "colab": {
          "base_uri": "https://localhost:8080/",
          "height": 167
        },
        "outputId": "7b54e39a-74ec-4ee1-f5e8-c44d2e21c1af"
      },
      "source": [
        "np.ma.MaskedArray(data=arr, mask=invalid_mask)"
      ],
      "execution_count": 5,
      "outputs": [
        {
          "output_type": "error",
          "ename": "NameError",
          "evalue": "ignored",
          "traceback": [
            "\u001b[0;31m---------------------------------------------------------------------------\u001b[0m",
            "\u001b[0;31mNameError\u001b[0m                                 Traceback (most recent call last)",
            "\u001b[0;32m<ipython-input-5-d9e3544a9135>\u001b[0m in \u001b[0;36m<module>\u001b[0;34m()\u001b[0m\n\u001b[0;32m----> 1\u001b[0;31m \u001b[0mnp\u001b[0m\u001b[0;34m.\u001b[0m\u001b[0mma\u001b[0m\u001b[0;34m.\u001b[0m\u001b[0mMaskedArray\u001b[0m\u001b[0;34m(\u001b[0m\u001b[0mdata\u001b[0m\u001b[0;34m=\u001b[0m\u001b[0marr\u001b[0m\u001b[0;34m,\u001b[0m \u001b[0mmask\u001b[0m\u001b[0;34m=\u001b[0m\u001b[0minvalid_mask\u001b[0m\u001b[0;34m)\u001b[0m\u001b[0;34m\u001b[0m\u001b[0;34m\u001b[0m\u001b[0m\n\u001b[0m",
            "\u001b[0;31mNameError\u001b[0m: name 'invalid_mask' is not defined"
          ]
        }
      ]
    },
    {
      "cell_type": "code",
      "metadata": {
        "id": "I6sXomBJYgpy",
        "colab_type": "code",
        "colab": {
          "base_uri": "https://localhost:8080/",
          "height": 124
        },
        "outputId": "bf421cd8-fc91-43fb-aff4-de105f5e6da3"
      },
      "source": [
        "import math\n",
        "\n",
        "def is_prime(n):\n",
        "    assert n > 1, 'Input must be larger than 1'\n",
        "    if n % 2 == 0 and n > 2: \n",
        "        return False\n",
        "    return all(n % i for i in range(3, int(math.sqrt(n)) + 1, 2))\n",
        "\n",
        "arr = np.array(range(2,100))\n",
        "non_prime_mask = [not is_prime(n) for n in arr]\n",
        "prime_arr = np.ma.MaskedArray(data=arr, mask=non_prime_mask)\n",
        "print(prime_arr)\n",
        "\n",
        "# [2 3 -- 5 -- 7 -- -- -- 11 -- 13 -- -- -- 17 -- 19 -- -- -- 23 -- -- -- --\n",
        "#  -- 29 -- 31 -- -- -- -- -- 37 -- -- -- 41 -- 43 -- -- -- 47 -- -- -- --\n",
        "#  -- 53 -- -- -- -- -- 59 -- 61 -- -- -- -- -- 67 -- -- -- 71 -- 73 -- --\n",
        "#  -- -- -- 79 -- -- -- 83 -- -- -- -- -- 89 -- -- -- -- -- -- -- 97 -- --]\n",
        "\n",
        "arr = np.array(range(11))\n",
        "print(arr.sum())        # 55\n",
        "\n",
        "arr[-1] = -999 # indicates missing value\n",
        "\n",
        "masked_arr = np.ma.masked_values(arr, -999)\n",
        "print(masked_arr.sum()) # 45  "
      ],
      "execution_count": 7,
      "outputs": [
        {
          "output_type": "stream",
          "text": [
            "[2 3 -- 5 -- 7 -- -- -- 11 -- 13 -- -- -- 17 -- 19 -- -- -- 23 -- -- -- --\n",
            " -- 29 -- 31 -- -- -- -- -- 37 -- -- -- 41 -- 43 -- -- -- 47 -- -- -- --\n",
            " -- 53 -- -- -- -- -- 59 -- 61 -- -- -- -- -- 67 -- -- -- 71 -- 73 -- --\n",
            " -- -- -- 79 -- -- -- 83 -- -- -- -- -- 89 -- -- -- -- -- -- -- 97 -- --]\n",
            "55\n",
            "45\n"
          ],
          "name": "stdout"
        }
      ]
    },
    {
      "cell_type": "code",
      "metadata": {
        "id": "LQaX9hVzaL_v",
        "colab_type": "code",
        "colab": {}
      },
      "source": [
        ""
      ],
      "execution_count": 0,
      "outputs": []
    }
  ]
}
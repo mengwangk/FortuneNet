{
 "cells": [
  {
   "cell_type": "code",
   "execution_count": 18,
   "metadata": {
    "colab": {},
    "colab_type": "code",
    "id": "UonPlCjiUYXs"
   },
   "outputs": [],
   "source": [
    "import numpy as np"
   ]
  },
  {
   "cell_type": "markdown",
   "metadata": {
    "colab_type": "text",
    "id": "aTlXJpV2UYXx"
   },
   "source": [
    "### Array manipulation"
   ]
  },
  {
   "cell_type": "code",
   "execution_count": null,
   "metadata": {
    "colab": {},
    "colab_type": "code",
    "id": "PFSTHJ4wUYXy",
    "outputId": "d3f655e2-1117-4447-b28f-402515109ec7"
   },
   "outputs": [
    {
     "data": {
      "text/plain": [
       "array([0, 1, 2, 3, 4, 5, 6, 7, 8])"
      ]
     },
     "execution_count": 4,
     "metadata": {
      "tags": []
     },
     "output_type": "execute_result"
    }
   ],
   "source": [
    "arr = np.arange(9)\n",
    "arr"
   ]
  },
  {
   "cell_type": "code",
   "execution_count": null,
   "metadata": {
    "colab": {},
    "colab_type": "code",
    "id": "wDK5o-MxUYX2",
    "outputId": "62d68c6c-5f2f-410b-f3f4-99b9eefd4534"
   },
   "outputs": [
    {
     "data": {
      "text/plain": [
       "array([[0, 1, 2],\n",
       "       [3, 4, 5],\n",
       "       [6, 7, 8]])"
      ]
     },
     "execution_count": 6,
     "metadata": {
      "tags": []
     },
     "output_type": "execute_result"
    }
   ],
   "source": [
    "arr2D_1 = arr.reshape(3,3)\n",
    "arr2D_1"
   ]
  },
  {
   "cell_type": "code",
   "execution_count": null,
   "metadata": {
    "colab": {},
    "colab_type": "code",
    "id": "_iCSTbw3UYX5",
    "outputId": "38460b5b-c138-47e6-897c-ae4a04b4f251"
   },
   "outputs": [
    {
     "data": {
      "text/plain": [
       "array([[10, 11, 12],\n",
       "       [13, 14, 15],\n",
       "       [16, 17, 18]])"
      ]
     },
     "execution_count": 8,
     "metadata": {
      "tags": []
     },
     "output_type": "execute_result"
    }
   ],
   "source": [
    "arr2D_2 = np.arange(10,19).reshape(3,3)\n",
    "arr2D_2"
   ]
  },
  {
   "cell_type": "code",
   "execution_count": null,
   "metadata": {
    "colab": {},
    "colab_type": "code",
    "id": "llAJ1y6UUYX9",
    "outputId": "41b3abd5-b6b4-4e75-d886-6ada8f8519da"
   },
   "outputs": [
    {
     "data": {
      "text/plain": [
       "array([[ 0,  1,  2],\n",
       "       [ 3,  4,  5],\n",
       "       [ 6,  7,  8],\n",
       "       [10, 11, 12],\n",
       "       [13, 14, 15],\n",
       "       [16, 17, 18]])"
      ]
     },
     "execution_count": 11,
     "metadata": {
      "tags": []
     },
     "output_type": "execute_result"
    }
   ],
   "source": [
    "np.concatenate((arr2D_1, arr2D_2))"
   ]
  },
  {
   "cell_type": "code",
   "execution_count": null,
   "metadata": {
    "colab": {},
    "colab_type": "code",
    "id": "vTgmN5w3UYX_",
    "outputId": "61d6d0d2-18e2-4af6-a774-85bc2a251eb6"
   },
   "outputs": [
    {
     "data": {
      "text/plain": [
       "array([[ 0,  1,  2, 10, 11, 12],\n",
       "       [ 3,  4,  5, 13, 14, 15],\n",
       "       [ 6,  7,  8, 16, 17, 18]])"
      ]
     },
     "execution_count": 12,
     "metadata": {
      "tags": []
     },
     "output_type": "execute_result"
    }
   ],
   "source": [
    "np.concatenate((arr2D_1, arr2D_2), axis=1)"
   ]
  },
  {
   "cell_type": "code",
   "execution_count": null,
   "metadata": {
    "colab": {},
    "colab_type": "code",
    "id": "5_0zGTKdUYYB",
    "outputId": "817428ab-2065-4d28-96f8-2e8fbde5c354"
   },
   "outputs": [
    {
     "data": {
      "text/plain": [
       "array([[ 0,  1,  2],\n",
       "       [ 3,  4,  5],\n",
       "       [ 6,  7,  8],\n",
       "       [10, 11, 12],\n",
       "       [13, 14, 15],\n",
       "       [16, 17, 18],\n",
       "       [ 0,  1,  2],\n",
       "       [ 3,  4,  5],\n",
       "       [ 6,  7,  8]])"
      ]
     },
     "execution_count": 14,
     "metadata": {
      "tags": []
     },
     "output_type": "execute_result"
    }
   ],
   "source": [
    "np.concatenate((arr2D_1, arr2D_2, arr2D_1))"
   ]
  },
  {
   "cell_type": "code",
   "execution_count": null,
   "metadata": {
    "colab": {},
    "colab_type": "code",
    "id": "AUN9_6FWUYYE",
    "outputId": "7d3df21b-a3d1-4ed3-ceb6-00849e981cb4"
   },
   "outputs": [
    {
     "data": {
      "text/plain": [
       "array([[ 0,  1,  2],\n",
       "       [ 3,  4,  5],\n",
       "       [ 6,  7,  8],\n",
       "       [10, 11, 12],\n",
       "       [13, 14, 15],\n",
       "       [16, 17, 18]])"
      ]
     },
     "execution_count": 16,
     "metadata": {
      "tags": []
     },
     "output_type": "execute_result"
    }
   ],
   "source": [
    "# Alternatives\n",
    "np.vstack((arr2D_1, arr2D_2))"
   ]
  },
  {
   "cell_type": "code",
   "execution_count": null,
   "metadata": {
    "colab": {},
    "colab_type": "code",
    "id": "pspfBpB4UYYG",
    "outputId": "bb3193fe-10c5-4fc1-9b96-cb92eb36076e"
   },
   "outputs": [
    {
     "data": {
      "text/plain": [
       "array([[ 0,  1,  2, 10, 11, 12],\n",
       "       [ 3,  4,  5, 13, 14, 15],\n",
       "       [ 6,  7,  8, 16, 17, 18]])"
      ]
     },
     "execution_count": 17,
     "metadata": {
      "tags": []
     },
     "output_type": "execute_result"
    }
   ],
   "source": [
    "np.hstack((arr2D_1, arr2D_2))"
   ]
  },
  {
   "cell_type": "markdown",
   "metadata": {
    "colab_type": "text",
    "id": "0Hv9kslyUYYJ"
   },
   "source": [
    "## np.argsort"
   ]
  },
  {
   "cell_type": "code",
   "execution_count": 2,
   "metadata": {
    "colab": {
     "base_uri": "https://localhost:8080/",
     "height": 124
    },
    "colab_type": "code",
    "id": "TDawIBf0UnsQ",
    "outputId": "a8dc0baa-4ccb-4a60-a4a2-e44c11969670"
   },
   "outputs": [
    {
     "name": "stdout",
     "output_type": "stream",
     "text": [
      "['Danny' 'Fanny' 'Charlie' 'Ben' 'Ada' 'George' 'Eden']\n",
      "['Ada' 'Ben' 'Charlie' 'Danny' 'Eden' 'Fanny' 'George']\n",
      "The slowest run took 40.26 times longer than the fastest. This could mean that an intermediate result is being cached.\n",
      "100000 loops, best of 3: 2.19 µs per loop\n",
      "The slowest run took 12.29 times longer than the fastest. This could mean that an intermediate result is being cached.\n",
      "100000 loops, best of 3: 4.11 µs per loop\n"
     ]
    }
   ],
   "source": [
    "score = np.array([70, 60, 50, 10, 90, 40, 80])\n",
    "name = np.array(['Ada', 'Ben', 'Charlie', 'Danny', 'Eden', 'Fanny', 'George'])\n",
    "sorted_name = name[np.argsort(score)] # an array of names in ascending order of their scores\n",
    "print(sorted_name)   # ['Danny' 'Fanny' 'Charlie' 'Ben' 'Ada' 'George' 'Eden']\n",
    "\n",
    "original_name = sorted_name[np.argsort(np.argsort(score))]\n",
    "print(original_name) # ['Ada' 'Ben' 'Charlie' 'Danny' 'Eden' 'Fanny' 'George']\n",
    "\n",
    "%timeit name[np.argsort(score)] \n",
    "# 1.83 µs ± 182 ns per loop (mean ± std. dev. of 7 runs, 100000 loops each)\n",
    "\n",
    "%timeit sorted(zip(score, name))\n",
    "# 3.2 µs ± 76.7 ns per loop (mean ± std. dev. of 7 runs, 100000 loops each)"
   ]
  },
  {
   "cell_type": "markdown",
   "metadata": {
    "colab_type": "text",
    "id": "_9jOSKmNUsZc"
   },
   "source": [
    "## Broadcasting - shapes"
   ]
  },
  {
   "cell_type": "code",
   "execution_count": 3,
   "metadata": {
    "colab": {
     "base_uri": "https://localhost:8080/",
     "height": 132
    },
    "colab_type": "code",
    "id": "F8s1ARRUWM1D",
    "outputId": "dafe38b1-079f-4956-95d9-c57415cb2979"
   },
   "outputs": [
    {
     "ename": "SyntaxError",
     "evalue": "ignored",
     "output_type": "error",
     "traceback": [
      "\u001b[0;36m  File \u001b[0;32m\"<ipython-input-3-96c08670f2e0>\"\u001b[0;36m, line \u001b[0;32m1\u001b[0m\n\u001b[0;31m    Argument 1  (4D array): 7 × 5 × 3 × 1\u001b[0m\n\u001b[0m             ^\u001b[0m\n\u001b[0;31mSyntaxError\u001b[0m\u001b[0;31m:\u001b[0m invalid syntax\n"
     ]
    }
   ],
   "source": [
    "Argument 1  (4D array): 7 × 5 × 3 × 1\n",
    "Argument 2  (3D array):     1 × 3 × 9\n",
    "Output      (4D array): 7 × 5 × 3 × 9"
   ]
  },
  {
   "cell_type": "markdown",
   "metadata": {
    "colab_type": "text",
    "id": "QXSmZ9U0WXmm"
   },
   "source": [
    "## Ellipsis and NewAxis — dimensions"
   ]
  },
  {
   "cell_type": "code",
   "execution_count": 4,
   "metadata": {
    "colab": {
     "base_uri": "https://localhost:8080/",
     "height": 248
    },
    "colab_type": "code",
    "id": "gwXPRmpNWbap",
    "outputId": "952dc095-2b99-4392-97d2-06d71513009c"
   },
   "outputs": [
    {
     "name": "stdout",
     "output_type": "stream",
     "text": [
      "[[[ True  True]\n",
      "  [ True  True]\n",
      "  [ True  True]\n",
      "  [ True  True]\n",
      "  [ True  True]]\n",
      "\n",
      " [[ True  True]\n",
      "  [ True  True]\n",
      "  [ True  True]\n",
      "  [ True  True]\n",
      "  [ True  True]]]\n",
      "(2, 5, 2, 10, 5)\n",
      "(2, 5, 1, 2, 10, 5)\n"
     ]
    }
   ],
   "source": [
    "arr = np.array(range(1000)).reshape(2,5,2,10,-1)\n",
    "print(arr[:,:,:,3,2] == arr[...,3,2])\n",
    "\n",
    "# [[[ True,  True],\n",
    "#   [ True,  True],\n",
    "#   [ True,  True],\n",
    "#   [ True,  True],\n",
    "#   [ True,  True]],\n",
    "#  [[ True,  True],\n",
    "#   [ True,  True],\n",
    "#   [ True,  True],\n",
    "#   [ True,  True],\n",
    "#   [ True,  True]]])\n",
    "\n",
    "print(arr.shape)                       # (2, 5, 2, 10, 5)\n",
    "print(arr[...,np.newaxis,:,:,:].shape) # (2, 5, 1, 2, 10, 5)"
   ]
  },
  {
   "cell_type": "markdown",
   "metadata": {
    "colab_type": "text",
    "id": "mXqcSoEUWuXD"
   },
   "source": [
    "## Masked Array — selection"
   ]
  },
  {
   "cell_type": "code",
   "execution_count": 1,
   "metadata": {
    "colab": {
     "base_uri": "https://localhost:8080/",
     "height": 167
    },
    "colab_type": "code",
    "id": "JhsXONxrYRD0",
    "outputId": "7b54e39a-74ec-4ee1-f5e8-c44d2e21c1af"
   },
   "outputs": [],
   "source": [
    "# np.ma.MaskedArray(data=arr, mask=invalid_mask)"
   ]
  },
  {
   "cell_type": "code",
   "execution_count": 7,
   "metadata": {
    "colab": {
     "base_uri": "https://localhost:8080/",
     "height": 124
    },
    "colab_type": "code",
    "id": "I6sXomBJYgpy",
    "outputId": "bf421cd8-fc91-43fb-aff4-de105f5e6da3"
   },
   "outputs": [
    {
     "name": "stdout",
     "output_type": "stream",
     "text": [
      "[2 3 -- 5 -- 7 -- -- -- 11 -- 13 -- -- -- 17 -- 19 -- -- -- 23 -- -- -- --\n",
      " -- 29 -- 31 -- -- -- -- -- 37 -- -- -- 41 -- 43 -- -- -- 47 -- -- -- --\n",
      " -- 53 -- -- -- -- -- 59 -- 61 -- -- -- -- -- 67 -- -- -- 71 -- 73 -- --\n",
      " -- -- -- 79 -- -- -- 83 -- -- -- -- -- 89 -- -- -- -- -- -- -- 97 -- --]\n",
      "55\n",
      "45\n"
     ]
    }
   ],
   "source": [
    "import math\n",
    "\n",
    "def is_prime(n):\n",
    "    assert n > 1, 'Input must be larger than 1'\n",
    "    if n % 2 == 0 and n > 2: \n",
    "        return False\n",
    "    return all(n % i for i in range(3, int(math.sqrt(n)) + 1, 2))\n",
    "\n",
    "arr = np.array(range(2,100))\n",
    "non_prime_mask = [not is_prime(n) for n in arr]\n",
    "prime_arr = np.ma.MaskedArray(data=arr, mask=non_prime_mask)\n",
    "print(prime_arr)\n",
    "\n",
    "# [2 3 -- 5 -- 7 -- -- -- 11 -- 13 -- -- -- 17 -- 19 -- -- -- 23 -- -- -- --\n",
    "#  -- 29 -- 31 -- -- -- -- -- 37 -- -- -- 41 -- 43 -- -- -- 47 -- -- -- --\n",
    "#  -- 53 -- -- -- -- -- 59 -- 61 -- -- -- -- -- 67 -- -- -- 71 -- 73 -- --\n",
    "#  -- -- -- 79 -- -- -- 83 -- -- -- -- -- 89 -- -- -- -- -- -- -- 97 -- --]\n",
    "\n",
    "arr = np.array(range(11))\n",
    "print(arr.sum())        # 55\n",
    "\n",
    "arr[-1] = -999 # indicates missing value\n",
    "\n",
    "masked_arr = np.ma.masked_values(arr, -999)\n",
    "print(masked_arr.sum()) # 45  "
   ]
  },
  {
   "cell_type": "markdown",
   "metadata": {
    "colab": {},
    "colab_type": "code",
    "id": "LQaX9hVzaL_v"
   },
   "source": [
    "### Percentile"
   ]
  },
  {
   "cell_type": "code",
   "execution_count": 19,
   "metadata": {},
   "outputs": [
    {
     "data": {
      "text/plain": [
       "array([   6,   44,   52,   72,  197,  217,  219,  230,  279,  283,  298,\n",
       "        356,  392,  422,  463,  468,  479,  487,  507,  510,  520,  537,\n",
       "        540,  550,  557,  559,  560,  567,  586,  594,  595,  604,  623,\n",
       "        628,  637,  661,  706,  720,  732,  802,  803,  823,  895,  903,\n",
       "        928,  950,  974,  994, 1009, 1018, 1047, 1086, 1093, 1115, 1217,\n",
       "       1230, 1271, 1378, 1446, 1478, 1504, 1508, 1535, 1553, 1597, 1671,\n",
       "       1686, 1697, 1702, 1723, 1807, 1862, 1914, 1962, 1989, 2037, 2105,\n",
       "       2260, 2276, 2320, 2326, 2461, 2466, 2492, 2502, 2532, 2550, 2581,\n",
       "       2633, 2672, 2792, 2794, 2958, 2983, 2989, 3029, 3034, 3086, 3105,\n",
       "       3113, 3138, 3277, 3340, 3350, 3356, 3468, 3470, 3497, 3526, 3545,\n",
       "       3624, 3675, 3781, 3846, 3948, 3968, 3987, 4012, 4015, 4016, 4036,\n",
       "       4060, 4112, 4267, 4321, 4373, 4479, 4514, 4528, 4578, 4663, 4675,\n",
       "       4725, 4748, 4836, 4840, 4851, 4876, 4974, 5140, 5185, 5237, 5240,\n",
       "       5308, 5311, 5355, 5426, 5442, 5501, 5506, 5523, 5533, 5618, 5673,\n",
       "       5720, 5725, 5820, 5842, 5921, 5949, 6019, 6045, 6156, 6257, 6447,\n",
       "       6772, 7106, 7166, 7181, 7196, 7222, 7231, 7249, 7455, 7466, 7503,\n",
       "       7513, 7557, 7583, 7669, 7686, 7722, 7931, 7983, 8051, 8078, 8186,\n",
       "       8323, 8701, 8988, 9028, 9074, 9234, 9308, 9465])"
      ]
     },
     "execution_count": 19,
     "metadata": {},
     "output_type": "execute_result"
    }
   ],
   "source": [
    "s = \"\"\"\n",
    "6   44   52   72  197  217  219  230  279  283  298  356  392  422\n",
    "  463  468  479  487  507  510  520  537  540  550  557  559  560  567\n",
    "  586  594  595  604  623  628  637  661  706  720  732  802  803  823\n",
    "  895  903  928  950  974  994 1009 1018 1047 1086 1093 1115 1217 1230\n",
    " 1271 1378 1446 1478 1504 1508 1535 1553 1597 1671 1686 1697 1702 1723\n",
    " 1807 1862 1914 1962 1989 2037 2105 2260 2276 2320 2326 2461 2466 2492\n",
    " 2502 2532 2550 2581 2633 2672 2792 2794 2958 2983 2989 3029 3034 3086\n",
    " 3105 3113 3138 3277 3340 3350 3356 3468 3470 3497 3526 3545 3624 3675\n",
    " 3781 3846 3948 3968 3987 4012 4015 4016 4036 4060 4112 4267 4321 4373\n",
    " 4479 4514 4528 4578 4663 4675 4725 4748 4836 4840 4851 4876 4974 5140\n",
    " 5185 5237 5240 5308 5311 5355 5426 5442 5501 5506 5523 5533 5618 5673\n",
    " 5720 5725 5820 5842 5921 5949 6019 6045 6156 6257 6447 6772 7106 7166\n",
    " 7181 7196 7222 7231 7249 7455 7466 7503 7513 7557 7583 7669 7686 7722\n",
    " 7931 7983 8051 8078 8186 8323 8701 8988 9028 9074 9234 9308 9465\n",
    "\"\"\".split(' ')\n",
    "numbers = np.array([ int(v.strip()) for v in  s if v.strip() != ''])\n",
    "numbers"
   ]
  },
  {
   "cell_type": "code",
   "execution_count": null,
   "metadata": {},
   "outputs": [],
   "source": []
  },
  {
   "cell_type": "code",
   "execution_count": null,
   "metadata": {},
   "outputs": [],
   "source": []
  }
 ],
 "metadata": {
  "colab": {
   "name": "01_04_numpy.ipynb",
   "provenance": []
  },
  "kernelspec": {
   "display_name": "Python 3",
   "language": "python",
   "name": "python3"
  },
  "language_info": {
   "codemirror_mode": {
    "name": "ipython",
    "version": 3
   },
   "file_extension": ".py",
   "mimetype": "text/x-python",
   "name": "python",
   "nbconvert_exporter": "python",
   "pygments_lexer": "ipython3",
   "version": "3.7.2"
  }
 },
 "nbformat": 4,
 "nbformat_minor": 2
}

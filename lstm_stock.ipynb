{
  "nbformat": 4,
  "nbformat_minor": 0,
  "metadata": {
    "colab": {
      "name": "lstm_stock.ipynb",
      "version": "0.3.2",
      "provenance": []
    },
    "language_info": {
      "codemirror_mode": {
        "name": "ipython",
        "version": 3
      },
      "file_extension": ".py",
      "mimetype": "text/x-python",
      "name": "python",
      "nbconvert_exporter": "python",
      "pygments_lexer": "ipython3",
      "version": "3.7.2"
    },
    "kernelspec": {
      "name": "python3",
      "display_name": "Python 3"
    },
    "accelerator": "GPU"
  },
  "cells": [
    {
      "cell_type": "markdown",
      "metadata": {
        "id": "221uNfzeTXax",
        "colab_type": "text"
      },
      "source": [
        "# LSTM"
      ]
    },
    {
      "cell_type": "markdown",
      "metadata": {
        "id": "A4ItXv-fTXaz",
        "colab_type": "text"
      },
      "source": [
        "## Data Preprocessing"
      ]
    },
    {
      "cell_type": "code",
      "metadata": {
        "id": "LLVivFIoTXa1",
        "colab_type": "code",
        "colab": {}
      },
      "source": [
        "# To plot pretty figures\n",
        "%matplotlib inline\n",
        "import matplotlib\n",
        "import matplotlib.pyplot as plt\n",
        "plt.rcParams['axes.labelsize'] = 14\n",
        "plt.rcParams['xtick.labelsize'] = 12\n",
        "plt.rcParams['ytick.labelsize'] = 12\n",
        "\n",
        "\n",
        "import numpy as np\n",
        "import pandas as pd\n",
        "from pathlib import Path\n",
        "from sklearn.model_selection import train_test_split"
      ],
      "execution_count": 0,
      "outputs": []
    },
    {
      "cell_type": "code",
      "metadata": {
        "id": "sA6EqaOOTXa4",
        "colab_type": "code",
        "colab": {}
      },
      "source": [
        "# path = Path('datasets/equities/mbb.csv')\n",
        "path = Path('mbb.csv')"
      ],
      "execution_count": 0,
      "outputs": []
    },
    {
      "cell_type": "code",
      "metadata": {
        "id": "zMXcKuHgTXa7",
        "colab_type": "code",
        "colab": {}
      },
      "source": [
        "df = pd.read_csv(path)"
      ],
      "execution_count": 0,
      "outputs": []
    },
    {
      "cell_type": "code",
      "metadata": {
        "id": "yxT4Crl2TXa9",
        "colab_type": "code",
        "colab": {
          "base_uri": "https://localhost:8080/",
          "height": 221
        },
        "outputId": "8742c586-6da2-4bf0-fbf5-9cc623ccf7d6"
      },
      "source": [
        "df.info()"
      ],
      "execution_count": 79,
      "outputs": [
        {
          "output_type": "stream",
          "text": [
            "<class 'pandas.core.frame.DataFrame'>\n",
            "RangeIndex: 1893 entries, 0 to 1892\n",
            "Data columns (total 7 columns):\n",
            "Date        1893 non-null object\n",
            "Price       1893 non-null float64\n",
            "Open        1893 non-null float64\n",
            "High        1893 non-null float64\n",
            "Low         1893 non-null float64\n",
            "Vol.        1893 non-null object\n",
            "Change %    1893 non-null object\n",
            "dtypes: float64(4), object(3)\n",
            "memory usage: 103.6+ KB\n"
          ],
          "name": "stdout"
        }
      ]
    },
    {
      "cell_type": "code",
      "metadata": {
        "id": "HuaikXW2TXbB",
        "colab_type": "code",
        "colab": {
          "base_uri": "https://localhost:8080/",
          "height": 359
        },
        "outputId": "5836d236-010b-4de7-9afb-07a24c3e4cce"
      },
      "source": [
        "df.head(10)"
      ],
      "execution_count": 80,
      "outputs": [
        {
          "output_type": "execute_result",
          "data": {
            "text/html": [
              "<div>\n",
              "<style scoped>\n",
              "    .dataframe tbody tr th:only-of-type {\n",
              "        vertical-align: middle;\n",
              "    }\n",
              "\n",
              "    .dataframe tbody tr th {\n",
              "        vertical-align: top;\n",
              "    }\n",
              "\n",
              "    .dataframe thead th {\n",
              "        text-align: right;\n",
              "    }\n",
              "</style>\n",
              "<table border=\"1\" class=\"dataframe\">\n",
              "  <thead>\n",
              "    <tr style=\"text-align: right;\">\n",
              "      <th></th>\n",
              "      <th>Date</th>\n",
              "      <th>Price</th>\n",
              "      <th>Open</th>\n",
              "      <th>High</th>\n",
              "      <th>Low</th>\n",
              "      <th>Vol.</th>\n",
              "      <th>Change %</th>\n",
              "    </tr>\n",
              "  </thead>\n",
              "  <tbody>\n",
              "    <tr>\n",
              "      <th>0</th>\n",
              "      <td>May 24, 2019</td>\n",
              "      <td>8.99</td>\n",
              "      <td>9.00</td>\n",
              "      <td>9.05</td>\n",
              "      <td>8.96</td>\n",
              "      <td>4.78M</td>\n",
              "      <td>-0.33%</td>\n",
              "    </tr>\n",
              "    <tr>\n",
              "      <th>1</th>\n",
              "      <td>May 23, 2019</td>\n",
              "      <td>9.02</td>\n",
              "      <td>8.75</td>\n",
              "      <td>9.10</td>\n",
              "      <td>8.75</td>\n",
              "      <td>9.07M</td>\n",
              "      <td>0.33%</td>\n",
              "    </tr>\n",
              "    <tr>\n",
              "      <th>2</th>\n",
              "      <td>May 21, 2019</td>\n",
              "      <td>8.99</td>\n",
              "      <td>9.00</td>\n",
              "      <td>9.04</td>\n",
              "      <td>8.95</td>\n",
              "      <td>5.88M</td>\n",
              "      <td>-0.11%</td>\n",
              "    </tr>\n",
              "    <tr>\n",
              "      <th>3</th>\n",
              "      <td>May 17, 2019</td>\n",
              "      <td>9.00</td>\n",
              "      <td>9.00</td>\n",
              "      <td>9.02</td>\n",
              "      <td>8.98</td>\n",
              "      <td>5.44M</td>\n",
              "      <td>0.45%</td>\n",
              "    </tr>\n",
              "    <tr>\n",
              "      <th>4</th>\n",
              "      <td>May 16, 2019</td>\n",
              "      <td>8.96</td>\n",
              "      <td>9.01</td>\n",
              "      <td>9.02</td>\n",
              "      <td>8.96</td>\n",
              "      <td>6.56M</td>\n",
              "      <td>-0.55%</td>\n",
              "    </tr>\n",
              "    <tr>\n",
              "      <th>5</th>\n",
              "      <td>May 15, 2019</td>\n",
              "      <td>9.01</td>\n",
              "      <td>8.98</td>\n",
              "      <td>9.04</td>\n",
              "      <td>8.95</td>\n",
              "      <td>14.21M</td>\n",
              "      <td>0.56%</td>\n",
              "    </tr>\n",
              "    <tr>\n",
              "      <th>6</th>\n",
              "      <td>May 14, 2019</td>\n",
              "      <td>8.96</td>\n",
              "      <td>8.90</td>\n",
              "      <td>8.99</td>\n",
              "      <td>8.90</td>\n",
              "      <td>9.81M</td>\n",
              "      <td>-0.22%</td>\n",
              "    </tr>\n",
              "    <tr>\n",
              "      <th>7</th>\n",
              "      <td>May 13, 2019</td>\n",
              "      <td>8.98</td>\n",
              "      <td>8.98</td>\n",
              "      <td>9.00</td>\n",
              "      <td>8.91</td>\n",
              "      <td>9.16M</td>\n",
              "      <td>0.11%</td>\n",
              "    </tr>\n",
              "    <tr>\n",
              "      <th>8</th>\n",
              "      <td>May 10, 2019</td>\n",
              "      <td>8.97</td>\n",
              "      <td>8.97</td>\n",
              "      <td>8.99</td>\n",
              "      <td>8.91</td>\n",
              "      <td>9.95M</td>\n",
              "      <td>0.00%</td>\n",
              "    </tr>\n",
              "    <tr>\n",
              "      <th>9</th>\n",
              "      <td>May 09, 2019</td>\n",
              "      <td>8.97</td>\n",
              "      <td>8.98</td>\n",
              "      <td>9.00</td>\n",
              "      <td>8.96</td>\n",
              "      <td>11.64M</td>\n",
              "      <td>0.00%</td>\n",
              "    </tr>\n",
              "  </tbody>\n",
              "</table>\n",
              "</div>"
            ],
            "text/plain": [
              "           Date  Price  Open  High   Low    Vol. Change %\n",
              "0  May 24, 2019   8.99  9.00  9.05  8.96   4.78M   -0.33%\n",
              "1  May 23, 2019   9.02  8.75  9.10  8.75   9.07M    0.33%\n",
              "2  May 21, 2019   8.99  9.00  9.04  8.95   5.88M   -0.11%\n",
              "3  May 17, 2019   9.00  9.00  9.02  8.98   5.44M    0.45%\n",
              "4  May 16, 2019   8.96  9.01  9.02  8.96   6.56M   -0.55%\n",
              "5  May 15, 2019   9.01  8.98  9.04  8.95  14.21M    0.56%\n",
              "6  May 14, 2019   8.96  8.90  8.99  8.90   9.81M   -0.22%\n",
              "7  May 13, 2019   8.98  8.98  9.00  8.91   9.16M    0.11%\n",
              "8  May 10, 2019   8.97  8.97  8.99  8.91   9.95M    0.00%\n",
              "9  May 09, 2019   8.97  8.98  9.00  8.96  11.64M    0.00%"
            ]
          },
          "metadata": {
            "tags": []
          },
          "execution_count": 80
        }
      ]
    },
    {
      "cell_type": "code",
      "metadata": {
        "id": "lv9LX3CVTXbE",
        "colab_type": "code",
        "colab": {}
      },
      "source": [
        "# Convert the date column\n",
        "df['Date'] = pd.to_datetime(df['Date'])"
      ],
      "execution_count": 0,
      "outputs": []
    },
    {
      "cell_type": "code",
      "metadata": {
        "id": "83CVuEXlTXbG",
        "colab_type": "code",
        "colab": {
          "base_uri": "https://localhost:8080/",
          "height": 359
        },
        "outputId": "3ac0cf66-b722-4d98-b3e1-ae16f40a6343"
      },
      "source": [
        "df.head(10)"
      ],
      "execution_count": 82,
      "outputs": [
        {
          "output_type": "execute_result",
          "data": {
            "text/html": [
              "<div>\n",
              "<style scoped>\n",
              "    .dataframe tbody tr th:only-of-type {\n",
              "        vertical-align: middle;\n",
              "    }\n",
              "\n",
              "    .dataframe tbody tr th {\n",
              "        vertical-align: top;\n",
              "    }\n",
              "\n",
              "    .dataframe thead th {\n",
              "        text-align: right;\n",
              "    }\n",
              "</style>\n",
              "<table border=\"1\" class=\"dataframe\">\n",
              "  <thead>\n",
              "    <tr style=\"text-align: right;\">\n",
              "      <th></th>\n",
              "      <th>Date</th>\n",
              "      <th>Price</th>\n",
              "      <th>Open</th>\n",
              "      <th>High</th>\n",
              "      <th>Low</th>\n",
              "      <th>Vol.</th>\n",
              "      <th>Change %</th>\n",
              "    </tr>\n",
              "  </thead>\n",
              "  <tbody>\n",
              "    <tr>\n",
              "      <th>0</th>\n",
              "      <td>2019-05-24</td>\n",
              "      <td>8.99</td>\n",
              "      <td>9.00</td>\n",
              "      <td>9.05</td>\n",
              "      <td>8.96</td>\n",
              "      <td>4.78M</td>\n",
              "      <td>-0.33%</td>\n",
              "    </tr>\n",
              "    <tr>\n",
              "      <th>1</th>\n",
              "      <td>2019-05-23</td>\n",
              "      <td>9.02</td>\n",
              "      <td>8.75</td>\n",
              "      <td>9.10</td>\n",
              "      <td>8.75</td>\n",
              "      <td>9.07M</td>\n",
              "      <td>0.33%</td>\n",
              "    </tr>\n",
              "    <tr>\n",
              "      <th>2</th>\n",
              "      <td>2019-05-21</td>\n",
              "      <td>8.99</td>\n",
              "      <td>9.00</td>\n",
              "      <td>9.04</td>\n",
              "      <td>8.95</td>\n",
              "      <td>5.88M</td>\n",
              "      <td>-0.11%</td>\n",
              "    </tr>\n",
              "    <tr>\n",
              "      <th>3</th>\n",
              "      <td>2019-05-17</td>\n",
              "      <td>9.00</td>\n",
              "      <td>9.00</td>\n",
              "      <td>9.02</td>\n",
              "      <td>8.98</td>\n",
              "      <td>5.44M</td>\n",
              "      <td>0.45%</td>\n",
              "    </tr>\n",
              "    <tr>\n",
              "      <th>4</th>\n",
              "      <td>2019-05-16</td>\n",
              "      <td>8.96</td>\n",
              "      <td>9.01</td>\n",
              "      <td>9.02</td>\n",
              "      <td>8.96</td>\n",
              "      <td>6.56M</td>\n",
              "      <td>-0.55%</td>\n",
              "    </tr>\n",
              "    <tr>\n",
              "      <th>5</th>\n",
              "      <td>2019-05-15</td>\n",
              "      <td>9.01</td>\n",
              "      <td>8.98</td>\n",
              "      <td>9.04</td>\n",
              "      <td>8.95</td>\n",
              "      <td>14.21M</td>\n",
              "      <td>0.56%</td>\n",
              "    </tr>\n",
              "    <tr>\n",
              "      <th>6</th>\n",
              "      <td>2019-05-14</td>\n",
              "      <td>8.96</td>\n",
              "      <td>8.90</td>\n",
              "      <td>8.99</td>\n",
              "      <td>8.90</td>\n",
              "      <td>9.81M</td>\n",
              "      <td>-0.22%</td>\n",
              "    </tr>\n",
              "    <tr>\n",
              "      <th>7</th>\n",
              "      <td>2019-05-13</td>\n",
              "      <td>8.98</td>\n",
              "      <td>8.98</td>\n",
              "      <td>9.00</td>\n",
              "      <td>8.91</td>\n",
              "      <td>9.16M</td>\n",
              "      <td>0.11%</td>\n",
              "    </tr>\n",
              "    <tr>\n",
              "      <th>8</th>\n",
              "      <td>2019-05-10</td>\n",
              "      <td>8.97</td>\n",
              "      <td>8.97</td>\n",
              "      <td>8.99</td>\n",
              "      <td>8.91</td>\n",
              "      <td>9.95M</td>\n",
              "      <td>0.00%</td>\n",
              "    </tr>\n",
              "    <tr>\n",
              "      <th>9</th>\n",
              "      <td>2019-05-09</td>\n",
              "      <td>8.97</td>\n",
              "      <td>8.98</td>\n",
              "      <td>9.00</td>\n",
              "      <td>8.96</td>\n",
              "      <td>11.64M</td>\n",
              "      <td>0.00%</td>\n",
              "    </tr>\n",
              "  </tbody>\n",
              "</table>\n",
              "</div>"
            ],
            "text/plain": [
              "        Date  Price  Open  High   Low    Vol. Change %\n",
              "0 2019-05-24   8.99  9.00  9.05  8.96   4.78M   -0.33%\n",
              "1 2019-05-23   9.02  8.75  9.10  8.75   9.07M    0.33%\n",
              "2 2019-05-21   8.99  9.00  9.04  8.95   5.88M   -0.11%\n",
              "3 2019-05-17   9.00  9.00  9.02  8.98   5.44M    0.45%\n",
              "4 2019-05-16   8.96  9.01  9.02  8.96   6.56M   -0.55%\n",
              "5 2019-05-15   9.01  8.98  9.04  8.95  14.21M    0.56%\n",
              "6 2019-05-14   8.96  8.90  8.99  8.90   9.81M   -0.22%\n",
              "7 2019-05-13   8.98  8.98  9.00  8.91   9.16M    0.11%\n",
              "8 2019-05-10   8.97  8.97  8.99  8.91   9.95M    0.00%\n",
              "9 2019-05-09   8.97  8.98  9.00  8.96  11.64M    0.00%"
            ]
          },
          "metadata": {
            "tags": []
          },
          "execution_count": 82
        }
      ]
    },
    {
      "cell_type": "code",
      "metadata": {
        "id": "wxmfs9A8TXbJ",
        "colab_type": "code",
        "colab": {}
      },
      "source": [
        "# Sort date column ascending\n",
        "df.sort_values(by=['Date'], inplace=True)"
      ],
      "execution_count": 0,
      "outputs": []
    },
    {
      "cell_type": "code",
      "metadata": {
        "id": "Pk6l2BB8TXbL",
        "colab_type": "code",
        "colab": {
          "base_uri": "https://localhost:8080/",
          "height": 359
        },
        "outputId": "29d1b3c2-81a6-400d-9cec-3fec5740c294"
      },
      "source": [
        "df.head(10)"
      ],
      "execution_count": 84,
      "outputs": [
        {
          "output_type": "execute_result",
          "data": {
            "text/html": [
              "<div>\n",
              "<style scoped>\n",
              "    .dataframe tbody tr th:only-of-type {\n",
              "        vertical-align: middle;\n",
              "    }\n",
              "\n",
              "    .dataframe tbody tr th {\n",
              "        vertical-align: top;\n",
              "    }\n",
              "\n",
              "    .dataframe thead th {\n",
              "        text-align: right;\n",
              "    }\n",
              "</style>\n",
              "<table border=\"1\" class=\"dataframe\">\n",
              "  <thead>\n",
              "    <tr style=\"text-align: right;\">\n",
              "      <th></th>\n",
              "      <th>Date</th>\n",
              "      <th>Price</th>\n",
              "      <th>Open</th>\n",
              "      <th>High</th>\n",
              "      <th>Low</th>\n",
              "      <th>Vol.</th>\n",
              "      <th>Change %</th>\n",
              "    </tr>\n",
              "  </thead>\n",
              "  <tbody>\n",
              "    <tr>\n",
              "      <th>1892</th>\n",
              "      <td>2011-09-02</td>\n",
              "      <td>8.72</td>\n",
              "      <td>9.00</td>\n",
              "      <td>9.00</td>\n",
              "      <td>8.69</td>\n",
              "      <td>12.92M</td>\n",
              "      <td>0.00%</td>\n",
              "    </tr>\n",
              "    <tr>\n",
              "      <th>1891</th>\n",
              "      <td>2011-09-05</td>\n",
              "      <td>8.73</td>\n",
              "      <td>8.72</td>\n",
              "      <td>8.75</td>\n",
              "      <td>8.70</td>\n",
              "      <td>12.39M</td>\n",
              "      <td>0.11%</td>\n",
              "    </tr>\n",
              "    <tr>\n",
              "      <th>1890</th>\n",
              "      <td>2011-09-06</td>\n",
              "      <td>8.68</td>\n",
              "      <td>8.72</td>\n",
              "      <td>8.72</td>\n",
              "      <td>8.68</td>\n",
              "      <td>11.48M</td>\n",
              "      <td>-0.57%</td>\n",
              "    </tr>\n",
              "    <tr>\n",
              "      <th>1889</th>\n",
              "      <td>2011-09-07</td>\n",
              "      <td>8.67</td>\n",
              "      <td>8.70</td>\n",
              "      <td>8.70</td>\n",
              "      <td>8.64</td>\n",
              "      <td>5.73M</td>\n",
              "      <td>-0.12%</td>\n",
              "    </tr>\n",
              "    <tr>\n",
              "      <th>1888</th>\n",
              "      <td>2011-09-08</td>\n",
              "      <td>8.69</td>\n",
              "      <td>8.71</td>\n",
              "      <td>8.74</td>\n",
              "      <td>8.67</td>\n",
              "      <td>4.69M</td>\n",
              "      <td>0.23%</td>\n",
              "    </tr>\n",
              "    <tr>\n",
              "      <th>1887</th>\n",
              "      <td>2011-09-09</td>\n",
              "      <td>8.69</td>\n",
              "      <td>8.70</td>\n",
              "      <td>8.70</td>\n",
              "      <td>8.68</td>\n",
              "      <td>5.09M</td>\n",
              "      <td>0.00%</td>\n",
              "    </tr>\n",
              "    <tr>\n",
              "      <th>1886</th>\n",
              "      <td>2011-09-12</td>\n",
              "      <td>8.61</td>\n",
              "      <td>8.65</td>\n",
              "      <td>8.68</td>\n",
              "      <td>8.55</td>\n",
              "      <td>8.59M</td>\n",
              "      <td>-0.92%</td>\n",
              "    </tr>\n",
              "    <tr>\n",
              "      <th>1885</th>\n",
              "      <td>2011-09-13</td>\n",
              "      <td>8.60</td>\n",
              "      <td>8.58</td>\n",
              "      <td>8.61</td>\n",
              "      <td>8.55</td>\n",
              "      <td>3.62M</td>\n",
              "      <td>-0.12%</td>\n",
              "    </tr>\n",
              "    <tr>\n",
              "      <th>1884</th>\n",
              "      <td>2011-09-14</td>\n",
              "      <td>8.60</td>\n",
              "      <td>8.64</td>\n",
              "      <td>8.64</td>\n",
              "      <td>8.57</td>\n",
              "      <td>10.24M</td>\n",
              "      <td>0.00%</td>\n",
              "    </tr>\n",
              "    <tr>\n",
              "      <th>1883</th>\n",
              "      <td>2011-09-15</td>\n",
              "      <td>8.59</td>\n",
              "      <td>8.62</td>\n",
              "      <td>8.62</td>\n",
              "      <td>8.57</td>\n",
              "      <td>7.59M</td>\n",
              "      <td>-0.12%</td>\n",
              "    </tr>\n",
              "  </tbody>\n",
              "</table>\n",
              "</div>"
            ],
            "text/plain": [
              "           Date  Price  Open  High   Low    Vol. Change %\n",
              "1892 2011-09-02   8.72  9.00  9.00  8.69  12.92M    0.00%\n",
              "1891 2011-09-05   8.73  8.72  8.75  8.70  12.39M    0.11%\n",
              "1890 2011-09-06   8.68  8.72  8.72  8.68  11.48M   -0.57%\n",
              "1889 2011-09-07   8.67  8.70  8.70  8.64   5.73M   -0.12%\n",
              "1888 2011-09-08   8.69  8.71  8.74  8.67   4.69M    0.23%\n",
              "1887 2011-09-09   8.69  8.70  8.70  8.68   5.09M    0.00%\n",
              "1886 2011-09-12   8.61  8.65  8.68  8.55   8.59M   -0.92%\n",
              "1885 2011-09-13   8.60  8.58  8.61  8.55   3.62M   -0.12%\n",
              "1884 2011-09-14   8.60  8.64  8.64  8.57  10.24M    0.00%\n",
              "1883 2011-09-15   8.59  8.62  8.62  8.57   7.59M   -0.12%"
            ]
          },
          "metadata": {
            "tags": []
          },
          "execution_count": 84
        }
      ]
    },
    {
      "cell_type": "code",
      "metadata": {
        "id": "hbdgBaocTXbO",
        "colab_type": "code",
        "colab": {}
      },
      "source": [
        "# train_test_split?\n",
        "# Split to training and test set without shuffling\n",
        "training_set, test_set = train_test_split(df, test_size=0.10, shuffle=False)"
      ],
      "execution_count": 0,
      "outputs": []
    },
    {
      "cell_type": "code",
      "metadata": {
        "id": "oUi6b5g3TXbV",
        "colab_type": "code",
        "colab": {
          "base_uri": "https://localhost:8080/",
          "height": 376
        },
        "outputId": "b5dcdab2-8fb5-4047-b764-9c940cca120b"
      },
      "source": [
        "print(len(training_set));training_set.head(10)"
      ],
      "execution_count": 86,
      "outputs": [
        {
          "output_type": "stream",
          "text": [
            "1703\n"
          ],
          "name": "stdout"
        },
        {
          "output_type": "execute_result",
          "data": {
            "text/html": [
              "<div>\n",
              "<style scoped>\n",
              "    .dataframe tbody tr th:only-of-type {\n",
              "        vertical-align: middle;\n",
              "    }\n",
              "\n",
              "    .dataframe tbody tr th {\n",
              "        vertical-align: top;\n",
              "    }\n",
              "\n",
              "    .dataframe thead th {\n",
              "        text-align: right;\n",
              "    }\n",
              "</style>\n",
              "<table border=\"1\" class=\"dataframe\">\n",
              "  <thead>\n",
              "    <tr style=\"text-align: right;\">\n",
              "      <th></th>\n",
              "      <th>Date</th>\n",
              "      <th>Price</th>\n",
              "      <th>Open</th>\n",
              "      <th>High</th>\n",
              "      <th>Low</th>\n",
              "      <th>Vol.</th>\n",
              "      <th>Change %</th>\n",
              "    </tr>\n",
              "  </thead>\n",
              "  <tbody>\n",
              "    <tr>\n",
              "      <th>1892</th>\n",
              "      <td>2011-09-02</td>\n",
              "      <td>8.72</td>\n",
              "      <td>9.00</td>\n",
              "      <td>9.00</td>\n",
              "      <td>8.69</td>\n",
              "      <td>12.92M</td>\n",
              "      <td>0.00%</td>\n",
              "    </tr>\n",
              "    <tr>\n",
              "      <th>1891</th>\n",
              "      <td>2011-09-05</td>\n",
              "      <td>8.73</td>\n",
              "      <td>8.72</td>\n",
              "      <td>8.75</td>\n",
              "      <td>8.70</td>\n",
              "      <td>12.39M</td>\n",
              "      <td>0.11%</td>\n",
              "    </tr>\n",
              "    <tr>\n",
              "      <th>1890</th>\n",
              "      <td>2011-09-06</td>\n",
              "      <td>8.68</td>\n",
              "      <td>8.72</td>\n",
              "      <td>8.72</td>\n",
              "      <td>8.68</td>\n",
              "      <td>11.48M</td>\n",
              "      <td>-0.57%</td>\n",
              "    </tr>\n",
              "    <tr>\n",
              "      <th>1889</th>\n",
              "      <td>2011-09-07</td>\n",
              "      <td>8.67</td>\n",
              "      <td>8.70</td>\n",
              "      <td>8.70</td>\n",
              "      <td>8.64</td>\n",
              "      <td>5.73M</td>\n",
              "      <td>-0.12%</td>\n",
              "    </tr>\n",
              "    <tr>\n",
              "      <th>1888</th>\n",
              "      <td>2011-09-08</td>\n",
              "      <td>8.69</td>\n",
              "      <td>8.71</td>\n",
              "      <td>8.74</td>\n",
              "      <td>8.67</td>\n",
              "      <td>4.69M</td>\n",
              "      <td>0.23%</td>\n",
              "    </tr>\n",
              "    <tr>\n",
              "      <th>1887</th>\n",
              "      <td>2011-09-09</td>\n",
              "      <td>8.69</td>\n",
              "      <td>8.70</td>\n",
              "      <td>8.70</td>\n",
              "      <td>8.68</td>\n",
              "      <td>5.09M</td>\n",
              "      <td>0.00%</td>\n",
              "    </tr>\n",
              "    <tr>\n",
              "      <th>1886</th>\n",
              "      <td>2011-09-12</td>\n",
              "      <td>8.61</td>\n",
              "      <td>8.65</td>\n",
              "      <td>8.68</td>\n",
              "      <td>8.55</td>\n",
              "      <td>8.59M</td>\n",
              "      <td>-0.92%</td>\n",
              "    </tr>\n",
              "    <tr>\n",
              "      <th>1885</th>\n",
              "      <td>2011-09-13</td>\n",
              "      <td>8.60</td>\n",
              "      <td>8.58</td>\n",
              "      <td>8.61</td>\n",
              "      <td>8.55</td>\n",
              "      <td>3.62M</td>\n",
              "      <td>-0.12%</td>\n",
              "    </tr>\n",
              "    <tr>\n",
              "      <th>1884</th>\n",
              "      <td>2011-09-14</td>\n",
              "      <td>8.60</td>\n",
              "      <td>8.64</td>\n",
              "      <td>8.64</td>\n",
              "      <td>8.57</td>\n",
              "      <td>10.24M</td>\n",
              "      <td>0.00%</td>\n",
              "    </tr>\n",
              "    <tr>\n",
              "      <th>1883</th>\n",
              "      <td>2011-09-15</td>\n",
              "      <td>8.59</td>\n",
              "      <td>8.62</td>\n",
              "      <td>8.62</td>\n",
              "      <td>8.57</td>\n",
              "      <td>7.59M</td>\n",
              "      <td>-0.12%</td>\n",
              "    </tr>\n",
              "  </tbody>\n",
              "</table>\n",
              "</div>"
            ],
            "text/plain": [
              "           Date  Price  Open  High   Low    Vol. Change %\n",
              "1892 2011-09-02   8.72  9.00  9.00  8.69  12.92M    0.00%\n",
              "1891 2011-09-05   8.73  8.72  8.75  8.70  12.39M    0.11%\n",
              "1890 2011-09-06   8.68  8.72  8.72  8.68  11.48M   -0.57%\n",
              "1889 2011-09-07   8.67  8.70  8.70  8.64   5.73M   -0.12%\n",
              "1888 2011-09-08   8.69  8.71  8.74  8.67   4.69M    0.23%\n",
              "1887 2011-09-09   8.69  8.70  8.70  8.68   5.09M    0.00%\n",
              "1886 2011-09-12   8.61  8.65  8.68  8.55   8.59M   -0.92%\n",
              "1885 2011-09-13   8.60  8.58  8.61  8.55   3.62M   -0.12%\n",
              "1884 2011-09-14   8.60  8.64  8.64  8.57  10.24M    0.00%\n",
              "1883 2011-09-15   8.59  8.62  8.62  8.57   7.59M   -0.12%"
            ]
          },
          "metadata": {
            "tags": []
          },
          "execution_count": 86
        }
      ]
    },
    {
      "cell_type": "code",
      "metadata": {
        "id": "B_7O8Ur7TXbb",
        "colab_type": "code",
        "colab": {
          "base_uri": "https://localhost:8080/",
          "height": 376
        },
        "outputId": "479d443f-0c2b-49e7-c0f0-3cd7c7494945"
      },
      "source": [
        "print(len(test_set));test_set.head(10)"
      ],
      "execution_count": 87,
      "outputs": [
        {
          "output_type": "stream",
          "text": [
            "190\n"
          ],
          "name": "stdout"
        },
        {
          "output_type": "execute_result",
          "data": {
            "text/html": [
              "<div>\n",
              "<style scoped>\n",
              "    .dataframe tbody tr th:only-of-type {\n",
              "        vertical-align: middle;\n",
              "    }\n",
              "\n",
              "    .dataframe tbody tr th {\n",
              "        vertical-align: top;\n",
              "    }\n",
              "\n",
              "    .dataframe thead th {\n",
              "        text-align: right;\n",
              "    }\n",
              "</style>\n",
              "<table border=\"1\" class=\"dataframe\">\n",
              "  <thead>\n",
              "    <tr style=\"text-align: right;\">\n",
              "      <th></th>\n",
              "      <th>Date</th>\n",
              "      <th>Price</th>\n",
              "      <th>Open</th>\n",
              "      <th>High</th>\n",
              "      <th>Low</th>\n",
              "      <th>Vol.</th>\n",
              "      <th>Change %</th>\n",
              "    </tr>\n",
              "  </thead>\n",
              "  <tbody>\n",
              "    <tr>\n",
              "      <th>189</th>\n",
              "      <td>2018-08-10</td>\n",
              "      <td>9.89</td>\n",
              "      <td>9.90</td>\n",
              "      <td>9.93</td>\n",
              "      <td>9.88</td>\n",
              "      <td>10.03M</td>\n",
              "      <td>-0.10%</td>\n",
              "    </tr>\n",
              "    <tr>\n",
              "      <th>188</th>\n",
              "      <td>2018-08-13</td>\n",
              "      <td>9.88</td>\n",
              "      <td>9.89</td>\n",
              "      <td>9.90</td>\n",
              "      <td>9.85</td>\n",
              "      <td>6.73M</td>\n",
              "      <td>-0.10%</td>\n",
              "    </tr>\n",
              "    <tr>\n",
              "      <th>187</th>\n",
              "      <td>2018-08-14</td>\n",
              "      <td>9.80</td>\n",
              "      <td>9.86</td>\n",
              "      <td>9.90</td>\n",
              "      <td>9.80</td>\n",
              "      <td>10.30M</td>\n",
              "      <td>-0.81%</td>\n",
              "    </tr>\n",
              "    <tr>\n",
              "      <th>186</th>\n",
              "      <td>2018-08-15</td>\n",
              "      <td>9.79</td>\n",
              "      <td>9.80</td>\n",
              "      <td>9.82</td>\n",
              "      <td>9.76</td>\n",
              "      <td>7.34M</td>\n",
              "      <td>-0.10%</td>\n",
              "    </tr>\n",
              "    <tr>\n",
              "      <th>185</th>\n",
              "      <td>2018-08-16</td>\n",
              "      <td>9.79</td>\n",
              "      <td>9.78</td>\n",
              "      <td>9.82</td>\n",
              "      <td>9.77</td>\n",
              "      <td>6.14M</td>\n",
              "      <td>0.00%</td>\n",
              "    </tr>\n",
              "    <tr>\n",
              "      <th>184</th>\n",
              "      <td>2018-08-17</td>\n",
              "      <td>9.78</td>\n",
              "      <td>9.80</td>\n",
              "      <td>9.81</td>\n",
              "      <td>9.78</td>\n",
              "      <td>5.92M</td>\n",
              "      <td>-0.10%</td>\n",
              "    </tr>\n",
              "    <tr>\n",
              "      <th>183</th>\n",
              "      <td>2018-08-20</td>\n",
              "      <td>9.79</td>\n",
              "      <td>9.77</td>\n",
              "      <td>9.85</td>\n",
              "      <td>9.77</td>\n",
              "      <td>6.42M</td>\n",
              "      <td>0.10%</td>\n",
              "    </tr>\n",
              "    <tr>\n",
              "      <th>182</th>\n",
              "      <td>2018-08-21</td>\n",
              "      <td>9.82</td>\n",
              "      <td>9.80</td>\n",
              "      <td>9.84</td>\n",
              "      <td>9.78</td>\n",
              "      <td>13.85M</td>\n",
              "      <td>0.31%</td>\n",
              "    </tr>\n",
              "    <tr>\n",
              "      <th>181</th>\n",
              "      <td>2018-08-23</td>\n",
              "      <td>9.81</td>\n",
              "      <td>9.81</td>\n",
              "      <td>9.82</td>\n",
              "      <td>9.77</td>\n",
              "      <td>10.97M</td>\n",
              "      <td>-0.10%</td>\n",
              "    </tr>\n",
              "    <tr>\n",
              "      <th>180</th>\n",
              "      <td>2018-08-24</td>\n",
              "      <td>9.81</td>\n",
              "      <td>9.80</td>\n",
              "      <td>9.84</td>\n",
              "      <td>9.80</td>\n",
              "      <td>6.11M</td>\n",
              "      <td>0.00%</td>\n",
              "    </tr>\n",
              "  </tbody>\n",
              "</table>\n",
              "</div>"
            ],
            "text/plain": [
              "          Date  Price  Open  High   Low    Vol. Change %\n",
              "189 2018-08-10   9.89  9.90  9.93  9.88  10.03M   -0.10%\n",
              "188 2018-08-13   9.88  9.89  9.90  9.85   6.73M   -0.10%\n",
              "187 2018-08-14   9.80  9.86  9.90  9.80  10.30M   -0.81%\n",
              "186 2018-08-15   9.79  9.80  9.82  9.76   7.34M   -0.10%\n",
              "185 2018-08-16   9.79  9.78  9.82  9.77   6.14M    0.00%\n",
              "184 2018-08-17   9.78  9.80  9.81  9.78   5.92M   -0.10%\n",
              "183 2018-08-20   9.79  9.77  9.85  9.77   6.42M    0.10%\n",
              "182 2018-08-21   9.82  9.80  9.84  9.78  13.85M    0.31%\n",
              "181 2018-08-23   9.81  9.81  9.82  9.77  10.97M   -0.10%\n",
              "180 2018-08-24   9.81  9.80  9.84  9.80   6.11M    0.00%"
            ]
          },
          "metadata": {
            "tags": []
          },
          "execution_count": 87
        }
      ]
    },
    {
      "cell_type": "code",
      "metadata": {
        "id": "mgKC1K_KTXbi",
        "colab_type": "code",
        "colab": {
          "base_uri": "https://localhost:8080/",
          "height": 136
        },
        "outputId": "e129358a-60b1-4206-ed6f-2c5502485ace"
      },
      "source": [
        "# Use the Open price\n",
        "training_set = training_set.iloc[:,2:3].values\n",
        "print(training_set)"
      ],
      "execution_count": 88,
      "outputs": [
        {
          "output_type": "stream",
          "text": [
            "[[9.  ]\n",
            " [8.72]\n",
            " [8.72]\n",
            " ...\n",
            " [9.86]\n",
            " [9.89]\n",
            " [9.9 ]]\n"
          ],
          "name": "stdout"
        }
      ]
    },
    {
      "cell_type": "code",
      "metadata": {
        "id": "u6L54WmbTXbm",
        "colab_type": "code",
        "colab": {
          "base_uri": "https://localhost:8080/",
          "height": 136
        },
        "outputId": "54ad09a2-ec16-471d-c383-91a77983aab3"
      },
      "source": [
        "# Feature scaling\n",
        "from sklearn.preprocessing import MinMaxScaler\n",
        "sc = MinMaxScaler()\n",
        "training_set = sc.fit_transform(training_set)\n",
        "print(training_set)"
      ],
      "execution_count": 89,
      "outputs": [
        {
          "output_type": "stream",
          "text": [
            "[[0.43880597]\n",
            " [0.35522388]\n",
            " [0.35522388]\n",
            " ...\n",
            " [0.69552239]\n",
            " [0.70447761]\n",
            " [0.70746269]]\n"
          ],
          "name": "stdout"
        }
      ]
    },
    {
      "cell_type": "code",
      "metadata": {
        "id": "0HFDGSXBTXbp",
        "colab_type": "code",
        "colab": {
          "base_uri": "https://localhost:8080/",
          "height": 34
        },
        "outputId": "3a32dfc2-d669-48a9-f73d-e8d2d03c1775"
      },
      "source": [
        "n = len(training_set); n"
      ],
      "execution_count": 90,
      "outputs": [
        {
          "output_type": "execute_result",
          "data": {
            "text/plain": [
              "1703"
            ]
          },
          "metadata": {
            "tags": []
          },
          "execution_count": 90
        }
      ]
    },
    {
      "cell_type": "code",
      "metadata": {
        "id": "hCjzXeb_TXbu",
        "colab_type": "code",
        "colab": {
          "base_uri": "https://localhost:8080/",
          "height": 289
        },
        "outputId": "40349198-4896-4648-8942-4b167d815163"
      },
      "source": [
        "# Getting the inputs and the ouputs\n",
        "# Restricting the input and output based on how LSTM functions.\n",
        "X_train = training_set[0:n-1]\n",
        "y_train = training_set[1:n]\n",
        "print(X_train); print(len(X_train))\n",
        "print(y_train); print(len(y_train))"
      ],
      "execution_count": 54,
      "outputs": [
        {
          "output_type": "stream",
          "text": [
            "[[0.43880597]\n",
            " [0.35522388]\n",
            " [0.35522388]\n",
            " ...\n",
            " [0.68656716]\n",
            " [0.69552239]\n",
            " [0.70447761]]\n",
            "1702\n",
            "[[0.35522388]\n",
            " [0.35522388]\n",
            " [0.34925373]\n",
            " ...\n",
            " [0.69552239]\n",
            " [0.70447761]\n",
            " [0.70746269]]\n",
            "1702\n"
          ],
          "name": "stdout"
        }
      ]
    },
    {
      "cell_type": "code",
      "metadata": {
        "id": "T_6r6SzRTXby",
        "colab_type": "code",
        "colab": {}
      },
      "source": [
        "# Reshaping - Adding time interval as a dimension for input.\n",
        "X_train = np.reshape(X_train, (n-1, 1, 1))"
      ],
      "execution_count": 0,
      "outputs": []
    },
    {
      "cell_type": "code",
      "metadata": {
        "id": "N3JMFOkUTXb1",
        "colab_type": "code",
        "colab": {
          "base_uri": "https://localhost:8080/",
          "height": 34
        },
        "outputId": "f3cd26c2-547b-4062-a008-24751a1bd93c"
      },
      "source": [
        "print(X_train.shape)"
      ],
      "execution_count": 56,
      "outputs": [
        {
          "output_type": "stream",
          "text": [
            "(1702, 1, 1)\n"
          ],
          "name": "stdout"
        }
      ]
    },
    {
      "cell_type": "markdown",
      "metadata": {
        "id": "7xbyya1oTXb3",
        "colab_type": "text"
      },
      "source": [
        "## Build the Network"
      ]
    },
    {
      "cell_type": "code",
      "metadata": {
        "id": "ANldwJtDTXb4",
        "colab_type": "code",
        "colab": {}
      },
      "source": [
        "# Importing the Keras libraries and packages\n",
        "from keras.models import Sequential\n",
        "from keras.layers import Dense\n",
        "from keras.layers import LSTM"
      ],
      "execution_count": 0,
      "outputs": []
    },
    {
      "cell_type": "code",
      "metadata": {
        "id": "j3iIZNz7TXb6",
        "colab_type": "code",
        "colab": {}
      },
      "source": [
        "regressor = Sequential()\n",
        "\n",
        "# 4 memory units, sigmoid activation function and (None time interval with 1 attribute as input)\n",
        "regressor.add(LSTM(units = 4, activation = 'sigmoid', input_shape = (None, 1)))"
      ],
      "execution_count": 0,
      "outputs": []
    },
    {
      "cell_type": "code",
      "metadata": {
        "id": "JEeGra5oTXb-",
        "colab_type": "code",
        "colab": {}
      },
      "source": [
        "# 1 neuron in the output layer for 1 dimensional output\n",
        "regressor.add(Dense(units = 1))"
      ],
      "execution_count": 0,
      "outputs": []
    },
    {
      "cell_type": "code",
      "metadata": {
        "id": "gukrzfxOTXcA",
        "colab_type": "code",
        "colab": {}
      },
      "source": [
        "regressor.compile(optimizer = 'adam', loss = 'mean_squared_error')"
      ],
      "execution_count": 0,
      "outputs": []
    },
    {
      "cell_type": "code",
      "metadata": {
        "id": "9X3da0U5TXcD",
        "colab_type": "code",
        "colab": {
          "base_uri": "https://localhost:8080/",
          "height": 374
        },
        "outputId": "43bd5aec-e0f2-49c1-d144-bc700a9e817a"
      },
      "source": [
        "regressor.fit(X_train, y_train, batch_size = 32, epochs = 10)"
      ],
      "execution_count": 71,
      "outputs": [
        {
          "output_type": "stream",
          "text": [
            "Epoch 1/10\n",
            "1702/1702 [==============================] - 0s 138us/step - loss: 6.1533e-04\n",
            "Epoch 2/10\n",
            "1702/1702 [==============================] - 0s 129us/step - loss: 6.1762e-04\n",
            "Epoch 3/10\n",
            "1702/1702 [==============================] - 0s 129us/step - loss: 6.0982e-04\n",
            "Epoch 4/10\n",
            "1702/1702 [==============================] - 0s 128us/step - loss: 6.0552e-04\n",
            "Epoch 5/10\n",
            "1702/1702 [==============================] - 0s 129us/step - loss: 6.0687e-04\n",
            "Epoch 6/10\n",
            "1702/1702 [==============================] - 0s 136us/step - loss: 6.0838e-04\n",
            "Epoch 7/10\n",
            "1702/1702 [==============================] - 0s 131us/step - loss: 6.0781e-04\n",
            "Epoch 8/10\n",
            "1702/1702 [==============================] - 0s 128us/step - loss: 6.0991e-04\n",
            "Epoch 9/10\n",
            "1702/1702 [==============================] - 0s 130us/step - loss: 6.1052e-04\n",
            "Epoch 10/10\n",
            "1702/1702 [==============================] - 0s 127us/step - loss: 6.0722e-04\n"
          ],
          "name": "stdout"
        },
        {
          "output_type": "execute_result",
          "data": {
            "text/plain": [
              "<keras.callbacks.History at 0x7f93f56f9ba8>"
            ]
          },
          "metadata": {
            "tags": []
          },
          "execution_count": 71
        }
      ]
    },
    {
      "cell_type": "markdown",
      "metadata": {
        "id": "Ut9ya6h5TXcG",
        "colab_type": "text"
      },
      "source": [
        ""
      ]
    },
    {
      "cell_type": "markdown",
      "metadata": {
        "id": "waB2iBRNTXcH",
        "colab_type": "text"
      },
      "source": [
        "## Prediction"
      ]
    },
    {
      "cell_type": "code",
      "metadata": {
        "id": "Tz0XemoJTXcI",
        "colab_type": "code",
        "colab": {
          "base_uri": "https://localhost:8080/",
          "height": 34
        },
        "outputId": "38ecb927-7675-4455-fed4-9e40f1beea33"
      },
      "source": [
        "real_stock_price = test_set.iloc[:,2:3].values; len(real_stock_price)"
      ],
      "execution_count": 91,
      "outputs": [
        {
          "output_type": "execute_result",
          "data": {
            "text/plain": [
              "190"
            ]
          },
          "metadata": {
            "tags": []
          },
          "execution_count": 91
        }
      ]
    },
    {
      "cell_type": "code",
      "metadata": {
        "id": "hsU9ZRZwTXcJ",
        "colab_type": "code",
        "colab": {
          "base_uri": "https://localhost:8080/",
          "height": 34
        },
        "outputId": "002da5db-2e90-44f5-8af6-05d2d9f201bf"
      },
      "source": [
        "# Getting the predicted stock price of 2017\n",
        "inputs = real_stock_price\n",
        "inputs = sc.transform(inputs)\n",
        "inputs = np.reshape(inputs, (len(real_stock_price), 1, 1))\n",
        "inputs.shape\n"
      ],
      "execution_count": 92,
      "outputs": [
        {
          "output_type": "execute_result",
          "data": {
            "text/plain": [
              "(190, 1, 1)"
            ]
          },
          "metadata": {
            "tags": []
          },
          "execution_count": 92
        }
      ]
    },
    {
      "cell_type": "code",
      "metadata": {
        "id": "XTl3YvyWTXcM",
        "colab_type": "code",
        "colab": {}
      },
      "source": [
        "predicted_stock_price = regressor.predict(inputs)\n",
        "predicted_stock_price = sc.inverse_transform(predicted_stock_price)"
      ],
      "execution_count": 0,
      "outputs": []
    },
    {
      "cell_type": "markdown",
      "metadata": {
        "id": "cxhmMBZPTXcP",
        "colab_type": "text"
      },
      "source": [
        "## Visualize the results"
      ]
    },
    {
      "cell_type": "code",
      "metadata": {
        "id": "ht8Wl-fJTXcR",
        "colab_type": "code",
        "colab": {
          "base_uri": "https://localhost:8080/",
          "height": 411
        },
        "outputId": "279b1867-7415-4b46-b69d-c560e43e9c30"
      },
      "source": [
        "plt.figure(figsize=(16, 6))\n",
        "plt.plot(real_stock_price, color = 'red', label = 'Real Stock Price')\n",
        "plt.plot(predicted_stock_price, color = 'blue', label = 'Predicted Stock Price')\n",
        "plt.title('Stock Price Prediction')\n",
        "plt.xlabel('Time')\n",
        "plt.ylabel('Stock Price')\n",
        "plt.legend()\n",
        "plt.show()"
      ],
      "execution_count": 104,
      "outputs": [
        {
          "output_type": "display_data",
          "data": {
            "image/png": "[encoded data removed]",
            "text/plain": [
              "<Figure size 1152x432 with 1 Axes>"
            ]
          },
          "metadata": {
            "tags": []
          }
        }
      ]
    },
    {
      "cell_type": "code",
      "metadata": {
        "id": "ZLzg1cMjTXcT",
        "colab_type": "code",
        "colab": {}
      },
      "source": [
        "# Make predictions on entire dataset\n",
        "training_set, test_set = train_test_split(df, test_size=0.10, shuffle=False)\n",
        "real_stock_price_train = training_set.iloc[:,2:3].values"
      ],
      "execution_count": 0,
      "outputs": []
    },
    {
      "cell_type": "code",
      "metadata": {
        "id": "eRw3eZcPaK02",
        "colab_type": "code",
        "colab": {}
      },
      "source": [
        "predicted_stock_price_train = regressor.predict(X_train)\n",
        "predicted_stock_price_train = sc.inverse_transform(predicted_stock_price_train)"
      ],
      "execution_count": 0,
      "outputs": []
    },
    {
      "cell_type": "code",
      "metadata": {
        "id": "06gvP3eJaNMJ",
        "colab_type": "code",
        "colab": {
          "base_uri": "https://localhost:8080/",
          "height": 411
        },
        "outputId": "de9302d9-8c84-443d-cdef-310237ad39be"
      },
      "source": [
        "# Visualising the results\n",
        "plt.figure(figsize=(16, 6))\n",
        "plt.plot(real_stock_price_train, color = 'red', label = 'Real Stock Price')\n",
        "plt.plot(predicted_stock_price_train, color = 'blue', label = 'Predicted Stock Price')\n",
        "plt.title('Stock Price Prediction')\n",
        "plt.xlabel('Time')\n",
        "plt.ylabel('Stock Price')\n",
        "plt.legend()\n",
        "plt.show()"
      ],
      "execution_count": 108,
      "outputs": [
        {
          "output_type": "display_data",
          "data": {
            "image/png": "[encoded data removed]",
            "text/plain": [
              "<Figure size 1152x432 with 1 Axes>"
            ]
          },
          "metadata": {
            "tags": []
          }
        }
      ]
    },
    {
      "cell_type": "code",
      "metadata": {
        "id": "wZrGrXGBaOGK",
        "colab_type": "code",
        "colab": {}
      },
      "source": [
        ""
      ],
      "execution_count": 0,
      "outputs": []
    },
    {
      "cell_type": "markdown",
      "metadata": {
        "id": "6N_fdqGcTXcV",
        "colab_type": "text"
      },
      "source": [
        "## Evaluation"
      ]
    },
    {
      "cell_type": "code",
      "metadata": {
        "id": "1ZRGl0c6TXcV",
        "colab_type": "code",
        "colab": {
          "base_uri": "https://localhost:8080/",
          "height": 34
        },
        "outputId": "4bbd4282-666f-4917-a509-f7a7bcadc5bb"
      },
      "source": [
        "import math\n",
        "from sklearn.metrics import mean_squared_error\n",
        "rmse = math.sqrt(mean_squared_error(real_stock_price, predicted_stock_price))\n",
        "print(rmse)"
      ],
      "execution_count": 70,
      "outputs": [
        {
          "output_type": "stream",
          "text": [
            "0.008756224759704497\n"
          ],
          "name": "stdout"
        }
      ]
    },
    {
      "cell_type": "code",
      "metadata": {
        "id": "9iNuW3A7TXcZ",
        "colab_type": "code",
        "colab": {}
      },
      "source": [
        ""
      ],
      "execution_count": 0,
      "outputs": []
    }
  ]
}
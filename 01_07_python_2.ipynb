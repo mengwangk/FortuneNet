{
  "nbformat": 4,
  "nbformat_minor": 0,
  "metadata": {
    "kernelspec": {
      "name": "python3",
      "display_name": "Python 3"
    },
    "language_info": {
      "codemirror_mode": {
        "name": "ipython",
        "version": 3
      },
      "file_extension": ".py",
      "mimetype": "text/x-python",
      "name": "python",
      "nbconvert_exporter": "python",
      "pygments_lexer": "ipython3",
      "version": "3.7.2"
    },
    "colab": {
      "name": "01_07_python..ipynb",
      "provenance": [],
      "include_colab_link": true
    },
    "accelerator": "GPU"
  },
  "cells": [
    {
      "cell_type": "markdown",
      "metadata": {
        "id": "view-in-github",
        "colab_type": "text"
      },
      "source": [
        "<a href=\"https://colab.research.google.com/github/mengwangk/dl-projects/blob/master/01_07_python_2.ipynb\" target=\"_parent\"><img src=\"https://colab.research.google.com/assets/colab-badge.svg\" alt=\"Open In Colab\"/></a>"
      ]
    },
    {
      "cell_type": "code",
      "metadata": {
        "id": "64QW6JHO3eRR",
        "colab_type": "code",
        "colab": {}
      },
      "source": [
        "import numpy as np\n",
        "import pandas as pd"
      ],
      "execution_count": 0,
      "outputs": []
    },
    {
      "cell_type": "markdown",
      "metadata": {
        "id": "mlpb8mbDIUyt",
        "colab_type": "text"
      },
      "source": [
        "NameTuple vs DataClass"
      ]
    },
    {
      "cell_type": "code",
      "metadata": {
        "id": "5ZLQPenBRhxO",
        "colab_type": "code",
        "colab": {
          "base_uri": "https://localhost:8080/",
          "height": 68
        },
        "outputId": "937b3928-7ce7-4546-9196-d2af9723d13d"
      },
      "source": [
        "# https://pymotw.com/2/collections/namedtuple.html\n",
        "# https://docs.python.org/3/library/collections.html\n",
        "# https://medium.com/@jacktator/dataclass-vs-namedtuple-vs-object-for-performance-optimization-in-python-691e234253b9\n",
        "\n",
        "from collections import namedtuple\n",
        "from dataclasses import dataclass\n",
        "\n",
        "Person = namedtuple('Person', 'name age gender')\n",
        "\n",
        "print(f\"Type of person {type(Person)}\")\n",
        "\n",
        "john = Person(name='John', age=30, gender='male')\n",
        "print(f'\\nRepresentation: {john}')\n"
      ],
      "execution_count": 12,
      "outputs": [
        {
          "output_type": "stream",
          "text": [
            "Type of person <class 'type'>\n",
            "\n",
            "Representation: Person(name='John', age=30, gender='male')\n"
          ],
          "name": "stdout"
        }
      ]
    },
    {
      "cell_type": "code",
      "metadata": {
        "id": "hvv0hmE3SBaf",
        "colab_type": "code",
        "colab": {
          "base_uri": "https://localhost:8080/",
          "height": 34
        },
        "outputId": "33f7a84d-3d72-4de4-e575-9e1f099a429a"
      },
      "source": [
        "Point = namedtuple('Point', ['x', 'y'])\n",
        "p = Point(11, y=22)\n",
        "p[0] + p[1] "
      ],
      "execution_count": 13,
      "outputs": [
        {
          "output_type": "execute_result",
          "data": {
            "text/plain": [
              "33"
            ]
          },
          "metadata": {
            "tags": []
          },
          "execution_count": 13
        }
      ]
    },
    {
      "cell_type": "code",
      "metadata": {
        "id": "sABLnMU5SWC5",
        "colab_type": "code",
        "colab": {
          "base_uri": "https://localhost:8080/",
          "height": 34
        },
        "outputId": "49aee215-f30b-418b-da2c-1d0cd27b8502"
      },
      "source": [
        "x, y = p \n",
        "x,y"
      ],
      "execution_count": 14,
      "outputs": [
        {
          "output_type": "execute_result",
          "data": {
            "text/plain": [
              "(11, 22)"
            ]
          },
          "metadata": {
            "tags": []
          },
          "execution_count": 14
        }
      ]
    },
    {
      "cell_type": "code",
      "metadata": {
        "id": "k_9KFnIuSeo7",
        "colab_type": "code",
        "colab": {
          "base_uri": "https://localhost:8080/",
          "height": 34
        },
        "outputId": "465c8eb7-5c39-4928-e0e3-199d38ce57b3"
      },
      "source": [
        "p.x + p.y  "
      ],
      "execution_count": 15,
      "outputs": [
        {
          "output_type": "execute_result",
          "data": {
            "text/plain": [
              "33"
            ]
          },
          "metadata": {
            "tags": []
          },
          "execution_count": 15
        }
      ]
    },
    {
      "cell_type": "code",
      "metadata": {
        "id": "y6sh8W8vSif3",
        "colab_type": "code",
        "colab": {}
      },
      "source": [
        "EmployeeRecord = namedtuple('EmployeeRecord', 'name, age, title, department, paygrade')\n",
        "\n",
        "import csv\n",
        "for emp in map(EmployeeRecord._make, csv.reader(open(\"employees.csv\", \"rb\"))):\n",
        "    print(emp.name, emp.title)\n",
        "\n",
        "import sqlite3\n",
        "conn = sqlite3.connect('/companydata')\n",
        "cursor = conn.cursor()\n",
        "cursor.execute('SELECT name, age, title, department, paygrade FROM employees')\n",
        "for emp in map(EmployeeRecord._make, cursor.fetchall()):\n",
        "    print(emp.name, emp.title)"
      ],
      "execution_count": 0,
      "outputs": []
    },
    {
      "cell_type": "code",
      "metadata": {
        "id": "L4oWen0ESmmb",
        "colab_type": "code",
        "colab": {
          "base_uri": "https://localhost:8080/",
          "height": 34
        },
        "outputId": "6a1e78d3-e63c-4bb6-b684-00109f3d601e"
      },
      "source": [
        "from typing import NamedTuple\n",
        "from datetime import date\n",
        "\n",
        "class Prices(NamedTuple(\"Prices\", \n",
        "                         [('open', float), \n",
        "                          ('high', float), \n",
        "                          ('low', float), \n",
        "                          ('close', float)])):\n",
        "    pass\n",
        "\n",
        "\n",
        "class TradeDay(NamedTuple(\"TradeDay\", \n",
        "                          ((\"symbol\", str), \n",
        "                           (\"date\", date), \n",
        "                           (\"prices\", Prices)))):\n",
        "    @property\n",
        "    def change(self):\n",
        "        return round(\n",
        "            (self.prices.close - self.prices.open) / self.prices.open, \n",
        "            4)\n",
        "        \n",
        "import datetime\n",
        "\n",
        "day: TradeDay = TradeDay(\"MA\", datetime.date.today(), Prices(10.0, 30.0, 5.0, 20.0))\n",
        "\n",
        "day"
      ],
      "execution_count": 17,
      "outputs": [
        {
          "output_type": "execute_result",
          "data": {
            "text/plain": [
              "TradeDay(symbol='MA', date=datetime.date(2020, 2, 10), prices=Prices(open=10.0, high=30.0, low=5.0, close=20.0))"
            ]
          },
          "metadata": {
            "tags": []
          },
          "execution_count": 17
        }
      ]
    },
    {
      "cell_type": "code",
      "metadata": {
        "id": "bmj2TdAdTamT",
        "colab_type": "code",
        "colab": {
          "base_uri": "https://localhost:8080/",
          "height": 34
        },
        "outputId": "ff834dab-f8c1-4969-e2ad-a54c1f4815b8"
      },
      "source": [
        "from dataclasses import dataclass\n",
        "from datetime import date\n",
        "\n",
        "@dataclass\n",
        "class Prices: \n",
        "    \"\"\"\n",
        "    DataClass for storing prices\n",
        "    \"\"\"\n",
        "    open: float\n",
        "    high: float\n",
        "    low: float\n",
        "    close: float\n",
        "\n",
        "@dataclass\n",
        "class TradeDay:\n",
        "    \"\"\"\n",
        "    DataClass for storing a TradeDay\n",
        "    \"\"\"\n",
        "    symbol: str\n",
        "    date: date\n",
        "    prices: Prices\n",
        "    change = lambda self : round(\n",
        "            (self.prices.close - self.prices.open) / self.prices.open, \n",
        "            4)\n",
        "    \n",
        "\n",
        "\n",
        "day: TradeDay = TradeDay(\"MA\", datetime.date.today(), Prices(10.0, 30.0, 5.0, 20.0))\n",
        "\n",
        "day"
      ],
      "execution_count": 19,
      "outputs": [
        {
          "output_type": "execute_result",
          "data": {
            "text/plain": [
              "TradeDay(symbol='MA', date=datetime.date(2020, 2, 10), prices=Prices(open=10.0, high=30.0, low=5.0, close=20.0))"
            ]
          },
          "metadata": {
            "tags": []
          },
          "execution_count": 19
        }
      ]
    },
    {
      "cell_type": "code",
      "metadata": {
        "id": "77d5yeRHTrvr",
        "colab_type": "code",
        "colab": {}
      },
      "source": [
        ""
      ],
      "execution_count": 0,
      "outputs": []
    }
  ]
}
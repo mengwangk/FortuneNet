{
  "nbformat": 4,
  "nbformat_minor": 0,
  "metadata": {
    "accelerator": "GPU",
    "colab": {
      "name": "04_02_automated_machine_learning.ipynb",
      "provenance": [],
      "include_colab_link": true
    },
    "kernelspec": {
      "name": "python3",
      "display_name": "Python 3"
    },
    "language_info": {
      "codemirror_mode": {
        "name": "ipython",
        "version": 3
      },
      "file_extension": ".py",
      "mimetype": "text/x-python",
      "name": "python",
      "nbconvert_exporter": "python",
      "pygments_lexer": "ipython3",
      "version": "3.7.2"
    }
  },
  "cells": [
    {
      "cell_type": "markdown",
      "metadata": {
        "id": "view-in-github",
        "colab_type": "text"
      },
      "source": [
        "<a href=\"https://colab.research.google.com/github/mengwangk/dl-projects/blob/master/04_02_auto_ml_1.ipynb\" target=\"_parent\"><img src=\"https://colab.research.google.com/assets/colab-badge.svg\" alt=\"Open In Colab\"/></a>"
      ]
    },
    {
      "cell_type": "markdown",
      "metadata": {
        "colab_type": "text",
        "id": "4hyoPGdjpqa_"
      },
      "source": [
        "# Automated ML"
      ]
    },
    {
      "cell_type": "code",
      "metadata": {
        "colab_type": "code",
        "id": "SLxr2k_ue8yq",
        "colab": {}
      },
      "source": [
        "COLAB = True"
      ],
      "execution_count": 0,
      "outputs": []
    },
    {
      "cell_type": "code",
      "metadata": {
        "id": "uHQEWP-jXPzH",
        "colab_type": "code",
        "colab": {}
      },
      "source": [
        "\n",
        "if COLAB:\n",
        "  # !sudo apt-get install git-lfs && git lfs install\n",
        "  !rm -rf dl-projects\n",
        "  !git clone https://github.com/mengwangk/dl-projects\n",
        "  !cd dl-projects && ls"
      ],
      "execution_count": 0,
      "outputs": []
    },
    {
      "cell_type": "code",
      "metadata": {
        "colab_type": "code",
        "id": "G2xin10SfozR",
        "colab": {}
      },
      "source": [
        "if COLAB:\n",
        "  !cp dl-projects/utils* .\n",
        "  !cp dl-projects/preprocess* ."
      ],
      "execution_count": 0,
      "outputs": []
    },
    {
      "cell_type": "code",
      "metadata": {
        "colab_type": "code",
        "id": "fC2-l3JBpqbE",
        "colab": {}
      },
      "source": [
        "%reload_ext autoreload\n",
        "%autoreload 2\n",
        "\n",
        "%matplotlib inline"
      ],
      "execution_count": 0,
      "outputs": []
    },
    {
      "cell_type": "code",
      "metadata": {
        "colab_type": "code",
        "id": "TP7V_IzepqbK",
        "colab": {}
      },
      "source": [
        "import numpy as np\n",
        "import pandas as pd\n",
        "import seaborn as sns\n",
        "import matplotlib.pyplot as plt\n",
        "import scipy.stats as ss\n",
        "import math \n",
        "import matplotlib\n",
        "\n",
        "from scipy import stats\n",
        "from collections import Counter\n",
        "from pathlib import Path\n",
        "\n",
        "plt.style.use('fivethirtyeight')\n",
        "\n",
        "sns.set(style=\"ticks\")\n",
        "\n",
        "# Automated feature engineering\n",
        "import featuretools as ft\n",
        "\n",
        "# Machine learning\n",
        "from sklearn.pipeline import Pipeline\n",
        "from sklearn.preprocessing import Imputer, MinMaxScaler, StandardScaler\n",
        "from sklearn.metrics import precision_score, recall_score, f1_score, roc_auc_score, precision_recall_curve, roc_curve\n",
        "from sklearn.model_selection import train_test_split, cross_val_score\n",
        "from sklearn.ensemble import RandomForestClassifier\n",
        "\n",
        "from IPython.display import display\n",
        "\n",
        "from utils import *\n",
        "from preprocess import *\n",
        "\n",
        "# The Answer to the Ultimate Question of Life, the Universe, and Everything.\n",
        "np.random.seed(42)"
      ],
      "execution_count": 0,
      "outputs": []
    },
    {
      "cell_type": "code",
      "metadata": {
        "colab_type": "code",
        "id": "3bFT5CoxpqbP",
        "colab": {}
      },
      "source": [
        "%aimport"
      ],
      "execution_count": 0,
      "outputs": []
    },
    {
      "cell_type": "markdown",
      "metadata": {
        "colab_type": "text",
        "id": "3E16jPVPpqbV"
      },
      "source": [
        "## Preparation"
      ]
    },
    {
      "cell_type": "code",
      "metadata": {
        "colab_type": "code",
        "id": "9IgnETKkpqbX",
        "colab": {}
      },
      "source": [
        "if COLAB:\n",
        "  DATASET_PATH = Path(\"dl-projects/datasets\")\n",
        "else:\n",
        "  DATASET_PATH = Path(\"datasets\")\n",
        "\n",
        "DATASET = DATASET_PATH/\"4D.zip\""
      ],
      "execution_count": 0,
      "outputs": []
    },
    {
      "cell_type": "code",
      "metadata": {
        "colab_type": "code",
        "id": "vD-iIrCipqbc",
        "colab": {}
      },
      "source": [
        "data = format_tabular(DATASET)"
      ],
      "execution_count": 0,
      "outputs": []
    },
    {
      "cell_type": "code",
      "metadata": {
        "colab_type": "code",
        "id": "BbDpkNHPpqbi",
        "colab": {}
      },
      "source": [
        "data.info()"
      ],
      "execution_count": 0,
      "outputs": []
    },
    {
      "cell_type": "code",
      "metadata": {
        "colab_type": "code",
        "id": "WY4duu6Tpqbp",
        "colab": {}
      },
      "source": [
        "data.tail(10)"
      ],
      "execution_count": 0,
      "outputs": []
    },
    {
      "cell_type": "code",
      "metadata": {
        "colab_type": "code",
        "id": "8qEDuHP2euiI",
        "colab": {}
      },
      "source": [
        "data['NumberId'] = data['LuckyNo']"
      ],
      "execution_count": 0,
      "outputs": []
    },
    {
      "cell_type": "code",
      "metadata": {
        "colab_type": "code",
        "id": "PEXwBE9HeuiK",
        "colab": {}
      },
      "source": [
        "data.tail(10)"
      ],
      "execution_count": 0,
      "outputs": []
    },
    {
      "cell_type": "code",
      "metadata": {
        "colab_type": "code",
        "id": "I7ZFGEhieuiN",
        "colab": {}
      },
      "source": [
        "data.describe()"
      ],
      "execution_count": 0,
      "outputs": []
    },
    {
      "cell_type": "code",
      "metadata": {
        "colab_type": "code",
        "id": "61I6vIJjeuiP",
        "colab": {}
      },
      "source": [
        "plt.figure(figsize=(20,6))\n",
        "sns.boxplot(x='NumberId', y='PrizeType',data=data)\n",
        "plt.xticks(rotation=90)\n",
        "plt.title('Draw')\n",
        "\n",
        "print(data[data['NumberId']==1760])"
      ],
      "execution_count": 0,
      "outputs": []
    },
    {
      "cell_type": "markdown",
      "metadata": {
        "colab_type": "text",
        "id": "u-a0nl-xeuiR"
      },
      "source": [
        "## Exploration"
      ]
    },
    {
      "cell_type": "code",
      "metadata": {
        "colab_type": "code",
        "id": "AtgXHWx-euiS",
        "colab": {}
      },
      "source": [
        "def ecdf(data):\n",
        "    x = np.sort(data)\n",
        "    y = np.arange(1, len(x) + 1) / len(x)\n",
        "    return x, y"
      ],
      "execution_count": 0,
      "outputs": []
    },
    {
      "cell_type": "code",
      "metadata": {
        "colab_type": "code",
        "id": "Yc0muCCCeuiU",
        "colab": {}
      },
      "source": [
        ""
      ],
      "execution_count": 0,
      "outputs": []
    },
    {
      "cell_type": "markdown",
      "metadata": {
        "colab_type": "text",
        "id": "qBJcDOgAeuiX"
      },
      "source": [
        "## Making Labels"
      ]
    },
    {
      "cell_type": "code",
      "metadata": {
        "colab_type": "code",
        "id": "tsYlAKtpeuiY",
        "colab": {}
      },
      "source": [
        "data['TotalStrike'] = 1\n",
        "data.head(10)"
      ],
      "execution_count": 0,
      "outputs": []
    },
    {
      "cell_type": "code",
      "metadata": {
        "colab_type": "code",
        "id": "6ti9FbeJeuib",
        "colab": {}
      },
      "source": [
        "def make_cutoffs(start_date, end_date, threshold=0):\n",
        "    # Find numbers exist before start date\n",
        "    number_pool = data[data['DrawDate'] < start_date]['NumberId'].unique()\n",
        "    tmp = pd.DataFrame({'NumberId': number_pool})\n",
        "   \n",
        "    # For numbers in the number pool, find their strike count between the start and end dates\n",
        "    strike_counts = data[(data['NumberId'].isin(number_pool)) & \n",
        "        (data['DrawDate'] >= start_date) & \n",
        "        (data['DrawDate']< end_date)\n",
        "    ].groupby('NumberId')['TotalStrike'].count().reset_index()\n",
        "    \n",
        "    number_of_draws = data[\n",
        "                 (data['DrawDate'] >= start_date) & \n",
        "                 (data['DrawDate']< end_date)]['DrawDate'].nunique()\n",
        "    # display(strike_counts)\n",
        "    # print(number_of_draws)\n",
        "    \n",
        "    # Merge with all the number ids to record all customers who existed before start date\n",
        "    strike_counts = strike_counts.merge(tmp, on='NumberId', how='right')\n",
        "    \n",
        "    # Set the total for any numbers who did not strike in the timeframe equal to 0\n",
        "    strike_counts['TotalStrike'] = strike_counts['TotalStrike'].fillna(0)\n",
        "    \n",
        "    # Label is based on the threshold\n",
        "    strike_counts['Label'] = (strike_counts['TotalStrike'] > threshold).astype(int)\n",
        "        \n",
        "    # The cutoff time is the start date\n",
        "    strike_counts['cutoff_time'] = pd.to_datetime(start_date)\n",
        "    strike_counts = strike_counts[['NumberId', 'cutoff_time', 'TotalStrike', 'Label']]\n",
        "    \n",
        "    #display(strike_counts[strike_counts['Label']==1].nunique())\n",
        "    #display(strike_counts.sort_values(by='TotalStrike', ascending=False))\n",
        "   \n",
        "    return number_of_draws, strike_counts"
      ],
      "execution_count": 0,
      "outputs": []
    },
    {
      "cell_type": "code",
      "metadata": {
        "colab_type": "code",
        "id": "D2A36_d7euid",
        "colab": {}
      },
      "source": [
        "number_of_draws, may_2015 = make_cutoffs(pd.datetime(2015, 5, 1), pd.datetime(2015, 6, 1))\n",
        "#display(len(may_2015))\n",
        "#display(may_2015[may_2015['Label']==1].nunique())\n",
        "may_2015[(may_2015['Label']==1) & (may_2015['TotalStrike']==2)].sort_values(by='TotalStrike', ascending=False).head()"
      ],
      "execution_count": 0,
      "outputs": []
    },
    {
      "cell_type": "code",
      "metadata": {
        "colab_type": "code",
        "id": "mslYCIBteuif",
        "colab": {}
      },
      "source": [
        "may_2015['Label'].value_counts().plot.bar()\n",
        "plt.title('Label Distribution for May')"
      ],
      "execution_count": 0,
      "outputs": []
    },
    {
      "cell_type": "code",
      "metadata": {
        "colab_type": "code",
        "id": "yay4yhhxeuih",
        "colab": {}
      },
      "source": [
        "CUT_OFF_YEAR=pd.datetime(2014, 1, 1)"
      ],
      "execution_count": 0,
      "outputs": []
    },
    {
      "cell_type": "code",
      "metadata": {
        "colab_type": "code",
        "id": "FRldQMdyeuik",
        "colab": {}
      },
      "source": [
        "## Loop through each month starting from CUT_OFF_YEAR\n",
        "\n",
        "from dateutil.relativedelta import relativedelta\n",
        "\n",
        "# print(data['DrawDate'].max())\n",
        "max_year_month = data['DrawDate'].max() - relativedelta(months=1) + relativedelta(day=31)\n",
        "print(f\"Max month year: {max_year_month}\")\n",
        "\n",
        "start_year_month = CUT_OFF_YEAR\n",
        "\n",
        "months_data = []\n",
        "total_draws = 0\n",
        "while start_year_month < max_year_month:\n",
        "    start_date = start_year_month \n",
        "    end_date = start_date + relativedelta(months=1)\n",
        "    start_year_month = start_year_month + relativedelta(months=1)\n",
        "    #print(f\"Labels from {start_date} to {end_date}\")\n",
        "    draw_count, month_data = make_cutoffs(start_date, end_date)\n",
        "    total_draws = total_draws + draw_count\n",
        "    months_data.append(month_data)\n",
        "\n",
        "print(f\"Total draws: {total_draws}\")\n",
        "print(f\"Total draws: {data[(data['DrawDate'] >= CUT_OFF_YEAR) & (data['DrawDate'] <= max_year_month)]['DrawDate'].nunique()}\")\n",
        "print(f\"Total months:{len(months_data)}\")\n",
        "print(f\"Total records count: {sum([len(l) for l in months_data])}\")\n",
        "print([len(l) for l in months_data])"
      ],
      "execution_count": 0,
      "outputs": []
    },
    {
      "cell_type": "code",
      "metadata": {
        "colab_type": "code",
        "id": "UVKdKkdReuir",
        "colab": {}
      },
      "source": [
        "labels = pd.concat(months_data)\n",
        "labels.to_csv(DATASET_PATH/'labels.csv')\n",
        "labels.describe()"
      ],
      "execution_count": 0,
      "outputs": []
    },
    {
      "cell_type": "code",
      "metadata": {
        "colab_type": "code",
        "id": "9DyzGJLxeuiv",
        "colab": {}
      },
      "source": [
        "# plot_labels = labels.copy()\n",
        "# plot_labels['month'] = plot_labels['cutoff_time'].dt.month\n",
        "\n",
        "# plt.figure(figsize = (12, 6))\n",
        "# sns.boxplot(x = 'month', y = 'TotalStrike', \n",
        "#             data = plot_labels[(plot_labels['TotalStrike'] > 0)]);\n",
        "# plt.title('Distribution by Month');"
      ],
      "execution_count": 0,
      "outputs": []
    },
    {
      "cell_type": "code",
      "metadata": {
        "colab_type": "code",
        "id": "pn4ERZaweuiz",
        "colab": {}
      },
      "source": [
        "labels[(labels['NumberId'] == 9016)  & (labels['Label'] > 0)]"
      ],
      "execution_count": 0,
      "outputs": []
    },
    {
      "cell_type": "code",
      "metadata": {
        "colab_type": "code",
        "id": "tYqyvoCeeui1",
        "colab": {}
      },
      "source": [
        "labels.loc[labels['NumberId'] == 9016].set_index('cutoff_time')['TotalStrike'].plot(figsize = (6, 4), linewidth = 3)\n",
        "plt.xlabel('Date', size = 16); \n",
        "plt.ylabel('Total Strike', size = 16); \n",
        "plt.title('Draw', size = 20);\n",
        "plt.xticks(size = 16); plt.yticks(size = 16);"
      ],
      "execution_count": 0,
      "outputs": []
    },
    {
      "cell_type": "code",
      "metadata": {
        "colab_type": "code",
        "id": "iyAGwDhNeui4",
        "colab": {}
      },
      "source": [
        ""
      ],
      "execution_count": 0,
      "outputs": []
    },
    {
      "cell_type": "markdown",
      "metadata": {
        "colab_type": "text",
        "id": "stLvE4bspqbx"
      },
      "source": [
        "## Automated Feature Engineering"
      ]
    },
    {
      "cell_type": "code",
      "metadata": {
        "colab_type": "code",
        "id": "ACOmTMZQpqbz",
        "colab": {}
      },
      "source": [
        "es = ft.EntitySet(id=\"Lotto Results\")\n",
        "\n",
        "# Add the entire data table as an entity\n",
        "es.entity_from_dataframe(\"Results\",\n",
        "                         dataframe=data,\n",
        "                         index=\"results_index\",\n",
        "                         time_index = 'DrawDate')\n",
        "\n",
        "es['Results']"
      ],
      "execution_count": 0,
      "outputs": []
    },
    {
      "cell_type": "code",
      "metadata": {
        "colab_type": "code",
        "id": "aG9Bvh9keui9",
        "colab": {}
      },
      "source": [
        "es.normalize_entity(new_entity_id=\"Numbers\",\n",
        "                    base_entity_id=\"Results\",\n",
        "                    index=\"NumberId\",\n",
        "                    )"
      ],
      "execution_count": 0,
      "outputs": []
    },
    {
      "cell_type": "code",
      "metadata": {
        "colab_type": "code",
        "id": "qVb6QmM6eui_",
        "colab": {}
      },
      "source": [
        "es"
      ],
      "execution_count": 0,
      "outputs": []
    },
    {
      "cell_type": "code",
      "metadata": {
        "colab_type": "code",
        "id": "dtCMg6OgeujB",
        "colab": {}
      },
      "source": [
        "es['Numbers'].df.head(24)"
      ],
      "execution_count": 0,
      "outputs": []
    },
    {
      "cell_type": "code",
      "metadata": {
        "colab_type": "code",
        "id": "pesqNguDeujD",
        "colab": {}
      },
      "source": [
        "es['Results'].df.head(24)"
      ],
      "execution_count": 0,
      "outputs": []
    },
    {
      "cell_type": "code",
      "metadata": {
        "colab_type": "code",
        "id": "Q4B-Isg5hob-",
        "colab": {}
      },
      "source": [
        "len(es['Results'].df)"
      ],
      "execution_count": 0,
      "outputs": []
    },
    {
      "cell_type": "markdown",
      "metadata": {
        "colab_type": "text",
        "id": "UgUuD752eujH"
      },
      "source": [
        "## Deep Feature Synthesis"
      ]
    },
    {
      "cell_type": "code",
      "metadata": {
        "colab_type": "code",
        "id": "-CBGKZuKeujH",
        "colab": {}
      },
      "source": [
        "feature_matrix, feature_names = ft.dfs(entityset=es, target_entity='Numbers',\n",
        "                                       cutoff_time = labels, verbose = 2,\n",
        "                                       cutoff_time_in_index = True,\n",
        "                                       chunk_size = len(labels), n_jobs = 1,\n",
        "                                       max_depth = 1)"
      ],
      "execution_count": 0,
      "outputs": []
    },
    {
      "cell_type": "code",
      "metadata": {
        "colab_type": "code",
        "id": "mIWROhRteujK",
        "colab": {}
      },
      "source": [
        "len(feature_matrix.columns), feature_matrix.columns"
      ],
      "execution_count": 0,
      "outputs": []
    },
    {
      "cell_type": "code",
      "metadata": {
        "colab_type": "code",
        "id": "9Ipeq6WAeujN",
        "colab": {}
      },
      "source": [
        "len(feature_matrix)"
      ],
      "execution_count": 0,
      "outputs": []
    },
    {
      "cell_type": "code",
      "metadata": {
        "colab_type": "code",
        "id": "rlwWExxVeujR",
        "colab": {}
      },
      "source": [
        "feature_matrix.head()"
      ],
      "execution_count": 0,
      "outputs": []
    },
    {
      "cell_type": "code",
      "metadata": {
        "colab_type": "code",
        "id": "G52SwLCFeujT",
        "colab": {}
      },
      "source": [
        "feature_matrix.shape"
      ],
      "execution_count": 0,
      "outputs": []
    },
    {
      "cell_type": "code",
      "metadata": {
        "colab_type": "code",
        "id": "UTlTGRatewxx",
        "colab": {}
      },
      "source": [
        "feature_matrix.loc[9016, :].sample(10, axis = 1)"
      ],
      "execution_count": 0,
      "outputs": []
    },
    {
      "cell_type": "markdown",
      "metadata": {
        "colab_type": "text",
        "id": "xFeHotmbfnhn"
      },
      "source": [
        "## Correlations"
      ]
    },
    {
      "cell_type": "code",
      "metadata": {
        "colab_type": "code",
        "id": "EE0MZiCipQRi",
        "colab": {}
      },
      "source": [
        "feature_matrix = pd.get_dummies(feature_matrix).reset_index()\n",
        "feature_matrix.shape"
      ],
      "execution_count": 0,
      "outputs": []
    },
    {
      "cell_type": "code",
      "metadata": {
        "colab_type": "code",
        "id": "nhljH4WzpWsO",
        "colab": {}
      },
      "source": [
        "feature_matrix.head()"
      ],
      "execution_count": 0,
      "outputs": []
    },
    {
      "cell_type": "code",
      "metadata": {
        "colab_type": "code",
        "id": "hYQy-CwppbIT",
        "colab": {}
      },
      "source": [
        "corrs = feature_matrix.corr().sort_values('TotalStrike')\n",
        "corrs['TotalStrike'].head()"
      ],
      "execution_count": 0,
      "outputs": []
    },
    {
      "cell_type": "code",
      "metadata": {
        "colab_type": "code",
        "id": "aJYr17JXpsNf",
        "colab": {}
      },
      "source": [
        "corrs['TotalStrike'].dropna().tail()"
      ],
      "execution_count": 0,
      "outputs": []
    },
    {
      "cell_type": "code",
      "metadata": {
        "colab_type": "code",
        "id": "m0iiqP5ipzlY",
        "colab": {}
      },
      "source": [
        "g = sns.FacetGrid(feature_matrix[(feature_matrix['SUM(Results.DrawNo)'] > 0)],\n",
        "                  hue = 'Label', size = 4, aspect = 3)\n",
        "g.map(sns.kdeplot, 'SUM(Results.DrawNo)')\n",
        "g.add_legend();\n",
        "plt.title('Distribution of Results Total by Label');"
      ],
      "execution_count": 0,
      "outputs": []
    },
    {
      "cell_type": "code",
      "metadata": {
        "colab_type": "code",
        "id": "MdhhEg_vqQoC",
        "colab": {}
      },
      "source": [
        "feature_matrix['month'] = feature_matrix['time'].dt.month\n",
        "feature_matrix['year'] = feature_matrix['time'].dt.year"
      ],
      "execution_count": 0,
      "outputs": []
    },
    {
      "cell_type": "code",
      "metadata": {
        "colab_type": "code",
        "id": "88yuBM0przQG",
        "colab": {}
      },
      "source": [
        "feature_matrix.info()"
      ],
      "execution_count": 0,
      "outputs": []
    },
    {
      "cell_type": "code",
      "metadata": {
        "colab_type": "code",
        "id": "-Ym4tZDEstFL",
        "colab": {}
      },
      "source": [
        "feature_matrix.head()"
      ],
      "execution_count": 0,
      "outputs": []
    },
    {
      "cell_type": "markdown",
      "metadata": {
        "colab_type": "text",
        "id": "jUgeaJgjYUTH"
      },
      "source": [
        "## Save feature matrix"
      ]
    },
    {
      "cell_type": "code",
      "metadata": {
        "colab_type": "code",
        "id": "_OV5kPTUYUiy",
        "colab": {}
      },
      "source": [
        "#if COLAB:\n",
        "#  feature_matrix.to_csv(DATASET_PATH/'feature_matrix.csv', index=False)\n",
        "#  feature_matrix.to_pickle(DATASET_PATH/'feature_matrix.pkl')"
      ],
      "execution_count": 0,
      "outputs": []
    },
    {
      "cell_type": "markdown",
      "metadata": {
        "id": "6wnrlyTT1dOU",
        "colab_type": "text"
      },
      "source": [
        "### Save the data\n",
        "\n",
        "https://towardsdatascience.com/downloading-datasets-into-google-drive-via-google-colab-bcb1b30b0166"
      ]
    },
    {
      "cell_type": "code",
      "metadata": {
        "colab_type": "code",
        "id": "9fpAptJ7YUtr",
        "colab": {}
      },
      "source": [
        "if COLAB:\n",
        "  #!cd dl-projects && git config --global user.email 'mengwangk@gmail.com' \n",
        "  #!cd dl-projects && git config --global user.name 'mengwangk'\n",
        "  #!cd dl-projects && git add -A && git commit -m 'Updated from colab' \n",
        "  from google.colab import drive\n",
        "  drive.mount('/content/gdrive')\n",
        "  GDRIVE_DATASET_FOLDER = Path('gdrive/My Drive/datasets/')\n",
        "  #!ls /content/gdrive/My\\ Drive/\n",
        "  feature_matrix.to_csv(GDRIVE_DATASET_FOLDER/'feature_matrix.csv', index=False)\n",
        "  feature_matrix.to_pickle(GDRIVE_DATASET_FOLDER/'feature_matrix.pkl')\n"
      ],
      "execution_count": 0,
      "outputs": []
    },
    {
      "cell_type": "code",
      "metadata": {
        "colab_type": "code",
        "id": "qun_lhxyYVKz",
        "colab": {}
      },
      "source": [
        "#if COLAB:\n",
        "#  !cd dl-projects && git remote rm origin && git remote add origin https://mengwangk:XX@github.com/mengwangk/dl-projects.git && git push -u origin master"
      ],
      "execution_count": 0,
      "outputs": []
    },
    {
      "cell_type": "code",
      "metadata": {
        "colab_type": "code",
        "id": "XsPab_k6F7jq",
        "colab": {}
      },
      "source": [
        "# from google.colab import files\n",
        "# files.download(DATASET_PATH/'feature_matrix.csv') "
      ],
      "execution_count": 0,
      "outputs": []
    },
    {
      "cell_type": "code",
      "metadata": {
        "colab_type": "code",
        "id": "o2pbgTRtg2-g",
        "colab": {}
      },
      "source": [
        "if COLAB:\n",
        "  !cd dl-projects/datasets && ls -l --block-size=M"
      ],
      "execution_count": 0,
      "outputs": []
    },
    {
      "cell_type": "code",
      "metadata": {
        "colab_type": "code",
        "id": "alN0Kxs6jwvq",
        "colab": {}
      },
      "source": [
        ""
      ],
      "execution_count": 0,
      "outputs": []
    }
  ]
}
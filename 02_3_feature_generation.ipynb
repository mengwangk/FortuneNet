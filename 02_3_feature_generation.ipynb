{
  "nbformat": 4,
  "nbformat_minor": 0,
  "metadata": {
    "kernelspec": {
      "name": "python3",
      "display_name": "Python 3"
    },
    "language_info": {
      "codemirror_mode": {
        "name": "ipython",
        "version": 3
      },
      "file_extension": ".py",
      "mimetype": "text/x-python",
      "name": "python",
      "nbconvert_exporter": "python",
      "pygments_lexer": "ipython3",
      "version": "3.7.2"
    },
    "colab": {
      "name": "02_3_feature_generation.ipynb",
      "provenance": []
    },
    "accelerator": "GPU"
  },
  "cells": [
    {
      "cell_type": "code",
      "metadata": {
        "id": "rcn3MS-1Qqit",
        "colab_type": "code",
        "outputId": "9f147f1f-2fd4-483c-c9c6-3b7e48fdeba7",
        "colab": {
          "base_uri": "https://localhost:8080/",
          "height": 1000
        }
      },
      "source": [
        "!rm -rf dl-projects\n",
        "!git clone https://github.com/mengwangk/dl-projects\n",
        "!cd dl-projects && ls \n",
        "\n",
        "!pip install featuretools==0.11.0"
      ],
      "execution_count": 2,
      "outputs": [
        {
          "output_type": "stream",
          "text": [
            "Cloning into 'dl-projects'...\n",
            "remote: Enumerating objects: 15, done.\u001b[K\n",
            "remote: Counting objects:   6% (1/15)\u001b[K\rremote: Counting objects:  13% (2/15)\u001b[K\rremote: Counting objects:  20% (3/15)\u001b[K\rremote: Counting objects:  26% (4/15)\u001b[K\rremote: Counting objects:  33% (5/15)\u001b[K\rremote: Counting objects:  40% (6/15)\u001b[K\rremote: Counting objects:  46% (7/15)\u001b[K\rremote: Counting objects:  53% (8/15)\u001b[K\rremote: Counting objects:  60% (9/15)\u001b[K\rremote: Counting objects:  66% (10/15)\u001b[K\rremote: Counting objects:  73% (11/15)\u001b[K\rremote: Counting objects:  80% (12/15)\u001b[K\rremote: Counting objects:  86% (13/15)\u001b[K\rremote: Counting objects:  93% (14/15)\u001b[K\rremote: Counting objects: 100% (15/15)\u001b[K\rremote: Counting objects: 100% (15/15), done.\u001b[K\n",
            "remote: Compressing objects: 100% (15/15), done.\u001b[K\n",
            "remote: Total 454 (delta 8), reused 0 (delta 0), pack-reused 439\u001b[K\n",
            "Receiving objects: 100% (454/454), 62.06 MiB | 30.80 MiB/s, done.\n",
            "Resolving deltas: 100% (253/253), done.\n",
            "01_1_tensor.ipynb\t       07_algebra.ipynb      LICENSE\n",
            "01_2_correlation.ipynb\t       08_probability.ipynb  lstm_s1.ipynb\n",
            "01_3_preprocessing.ipynb       09_evaluation.ipynb   lstm_s2.ipynb\n",
            "01_4_numpy.ipynb\t       50_RL.ipynb\t     lstm_s3.ipynb\n",
            "01_5_parallelization.ipynb     999_Links.ipynb\t     lstm_s4.ipynb\n",
            "02_1_feature_engineer.ipynb    archive\t\t     lstm_s5.ipynb\n",
            "02_2_feature_generation.ipynb  d01_download.ipynb    lstm_s6.ipynb\n",
            "02_3_feature_generation.ipynb  d02_0_features.ipynb  notebook2script.py\n",
            "03_1_feature_selection.ipynb   d02_1_features.ipynb  README.md\n",
            "03_2_feature_selection.ipynb   d03_train_dl.ipynb    run_notebook.py\n",
            "04_0_basic_nn.ipynb\t       d04_train_ml.ipynb    scraper\n",
            "04_1_cnn.ipynb\t\t       dask-worker-space     stock.ipynb\n",
            "04_2_rnn.ipynb\t\t       datasets\t\t     utils.py\n",
            "05_calculus.ipynb\t       exp\n",
            "06_stats.ipynb\t\t       featurelib\n",
            "Requirement already satisfied: featuretools==0.11.0 in /usr/local/lib/python3.6/dist-packages (0.11.0)\n",
            "Requirement already satisfied: numpy>=1.13.3 in /usr/local/lib/python3.6/dist-packages (from featuretools==0.11.0) (1.16.5)\n",
            "Requirement already satisfied: dask>=1.1.0; python_version >= \"3\" in /usr/local/lib/python3.6/dist-packages (from featuretools==0.11.0) (1.1.5)\n",
            "Requirement already satisfied: pandas>=0.23.0 in /usr/local/lib/python3.6/dist-packages (from featuretools==0.11.0) (0.24.2)\n",
            "Requirement already satisfied: future>=0.16.0 in /usr/local/lib/python3.6/dist-packages (from featuretools==0.11.0) (0.16.0)\n",
            "Requirement already satisfied: pyyaml>=3.12 in /usr/local/lib/python3.6/dist-packages (from featuretools==0.11.0) (3.13)\n",
            "Requirement already satisfied: tqdm>=4.32.0 in /usr/local/lib/python3.6/dist-packages (from featuretools==0.11.0) (4.36.1)\n",
            "Requirement already satisfied: s3fs>=0.2.2 in /usr/local/lib/python3.6/dist-packages (from featuretools==0.11.0) (0.3.4)\n",
            "Requirement already satisfied: click>=7.0.0 in /usr/local/lib/python3.6/dist-packages (from featuretools==0.11.0) (7.0)\n",
            "Requirement already satisfied: cloudpickle>=0.4.0 in /usr/local/lib/python3.6/dist-packages (from featuretools==0.11.0) (0.6.1)\n",
            "Requirement already satisfied: psutil>=5.4.8 in /usr/local/lib/python3.6/dist-packages (from featuretools==0.11.0) (5.4.8)\n",
            "Requirement already satisfied: smart-open>=1.8.4 in /usr/local/lib/python3.6/dist-packages (from featuretools==0.11.0) (1.8.4)\n",
            "Requirement already satisfied: distributed>=1.24.2; python_version >= \"3\" in /usr/local/lib/python3.6/dist-packages (from featuretools==0.11.0) (1.25.3)\n",
            "Requirement already satisfied: scikit-learn>=0.20.0; python_version >= \"3\" in /usr/local/lib/python3.6/dist-packages (from featuretools==0.11.0) (0.21.3)\n",
            "Requirement already satisfied: python-dateutil>=2.5.0 in /usr/local/lib/python3.6/dist-packages (from pandas>=0.23.0->featuretools==0.11.0) (2.5.3)\n",
            "Requirement already satisfied: pytz>=2011k in /usr/local/lib/python3.6/dist-packages (from pandas>=0.23.0->featuretools==0.11.0) (2018.9)\n",
            "Requirement already satisfied: fsspec>=0.2.2 in /usr/local/lib/python3.6/dist-packages (from s3fs>=0.2.2->featuretools==0.11.0) (0.5.1)\n",
            "Requirement already satisfied: botocore>=1.12.91 in /usr/local/lib/python3.6/dist-packages (from s3fs>=0.2.2->featuretools==0.11.0) (1.12.243)\n",
            "Requirement already satisfied: boto3>=1.9.91 in /usr/local/lib/python3.6/dist-packages (from s3fs>=0.2.2->featuretools==0.11.0) (1.9.243)\n",
            "Requirement already satisfied: boto>=2.32 in /usr/local/lib/python3.6/dist-packages (from smart-open>=1.8.4->featuretools==0.11.0) (2.49.0)\n",
            "Requirement already satisfied: requests in /usr/local/lib/python3.6/dist-packages (from smart-open>=1.8.4->featuretools==0.11.0) (2.21.0)\n",
            "Requirement already satisfied: six in /usr/local/lib/python3.6/dist-packages (from distributed>=1.24.2; python_version >= \"3\"->featuretools==0.11.0) (1.12.0)\n",
            "Requirement already satisfied: zict>=0.1.3 in /usr/local/lib/python3.6/dist-packages (from distributed>=1.24.2; python_version >= \"3\"->featuretools==0.11.0) (1.0.0)\n",
            "Requirement already satisfied: tblib in /usr/local/lib/python3.6/dist-packages (from distributed>=1.24.2; python_version >= \"3\"->featuretools==0.11.0) (1.4.0)\n",
            "Requirement already satisfied: sortedcontainers!=2.0.0,!=2.0.1 in /usr/local/lib/python3.6/dist-packages (from distributed>=1.24.2; python_version >= \"3\"->featuretools==0.11.0) (2.1.0)\n",
            "Requirement already satisfied: toolz>=0.7.4 in /usr/local/lib/python3.6/dist-packages (from distributed>=1.24.2; python_version >= \"3\"->featuretools==0.11.0) (0.10.0)\n",
            "Requirement already satisfied: msgpack in /usr/local/lib/python3.6/dist-packages (from distributed>=1.24.2; python_version >= \"3\"->featuretools==0.11.0) (0.5.6)\n",
            "Requirement already satisfied: tornado>=4.5.1 in /usr/local/lib/python3.6/dist-packages (from distributed>=1.24.2; python_version >= \"3\"->featuretools==0.11.0) (4.5.3)\n",
            "Requirement already satisfied: joblib>=0.11 in /usr/local/lib/python3.6/dist-packages (from scikit-learn>=0.20.0; python_version >= \"3\"->featuretools==0.11.0) (0.14.0)\n",
            "Requirement already satisfied: scipy>=0.17.0 in /usr/local/lib/python3.6/dist-packages (from scikit-learn>=0.20.0; python_version >= \"3\"->featuretools==0.11.0) (1.3.1)\n",
            "Requirement already satisfied: urllib3<1.26,>=1.20; python_version >= \"3.4\" in /usr/local/lib/python3.6/dist-packages (from botocore>=1.12.91->s3fs>=0.2.2->featuretools==0.11.0) (1.24.3)\n",
            "Requirement already satisfied: jmespath<1.0.0,>=0.7.1 in /usr/local/lib/python3.6/dist-packages (from botocore>=1.12.91->s3fs>=0.2.2->featuretools==0.11.0) (0.9.4)\n",
            "Requirement already satisfied: docutils<0.16,>=0.10 in /usr/local/lib/python3.6/dist-packages (from botocore>=1.12.91->s3fs>=0.2.2->featuretools==0.11.0) (0.15.2)\n",
            "Requirement already satisfied: s3transfer<0.3.0,>=0.2.0 in /usr/local/lib/python3.6/dist-packages (from boto3>=1.9.91->s3fs>=0.2.2->featuretools==0.11.0) (0.2.1)\n",
            "Requirement already satisfied: certifi>=2017.4.17 in /usr/local/lib/python3.6/dist-packages (from requests->smart-open>=1.8.4->featuretools==0.11.0) (2019.9.11)\n",
            "Requirement already satisfied: chardet<3.1.0,>=3.0.2 in /usr/local/lib/python3.6/dist-packages (from requests->smart-open>=1.8.4->featuretools==0.11.0) (3.0.4)\n",
            "Requirement already satisfied: idna<2.9,>=2.5 in /usr/local/lib/python3.6/dist-packages (from requests->smart-open>=1.8.4->featuretools==0.11.0) (2.8)\n",
            "Requirement already satisfied: heapdict in /usr/local/lib/python3.6/dist-packages (from zict>=0.1.3->distributed>=1.24.2; python_version >= \"3\"->featuretools==0.11.0) (1.0.1)\n"
          ],
          "name": "stdout"
        }
      ]
    },
    {
      "cell_type": "code",
      "metadata": {
        "id": "Y-2caZD3Qnns",
        "colab_type": "code",
        "colab": {}
      },
      "source": [
        "# pandas and numpy for data manipulation\n",
        "import pandas as pd\n",
        "import numpy as np\n",
        "\n",
        "# Visualization\n",
        "import matplotlib.pyplot as plt\n",
        "import seaborn as sns\n",
        "\n",
        "plt.style.use('fivethirtyeight')\n",
        "%matplotlib inline\n",
        "\n",
        "# Automated feature engineering\n",
        "import featuretools as ft\n",
        "\n",
        "# Machine learning\n",
        "from sklearn.pipeline import Pipeline\n",
        "from sklearn.preprocessing import Imputer, MinMaxScaler\n",
        "from sklearn.metrics import precision_score, recall_score, f1_score, roc_auc_score, precision_recall_curve, roc_curve\n",
        "from sklearn.model_selection import train_test_split, cross_val_score\n",
        "from sklearn.ensemble import RandomForestClassifier\n",
        "\n",
        "from pathlib import Path\n",
        "\n"
      ],
      "execution_count": 0,
      "outputs": []
    },
    {
      "cell_type": "code",
      "metadata": {
        "id": "uX4MO0CWQnny",
        "colab_type": "code",
        "colab": {}
      },
      "source": [
        "# DATASET = Path(\"datasets/lotto/data_processed_2.csv\")\n",
        "\n",
        "DATASET = Path(\"dl-projects/datasets/lotto/data_processed.csv\")\n",
        "\n",
        "# The Answer to the Ultimate Question of Life, the Universe, and Everything.\n",
        "np.random.seed(42)"
      ],
      "execution_count": 0,
      "outputs": []
    },
    {
      "cell_type": "code",
      "metadata": {
        "id": "QYyDAGvaQnn0",
        "colab_type": "code",
        "colab": {}
      },
      "source": [
        "# Read into data frame\n",
        "dataset = pd.read_csv(DATASET, header=0, sep=',', quotechar='\"', parse_dates=['DrawDate'], dtype={'PrizeType': str})"
      ],
      "execution_count": 0,
      "outputs": []
    },
    {
      "cell_type": "code",
      "metadata": {
        "id": "e4cZbF10Qnn3",
        "colab_type": "code",
        "colab": {}
      },
      "source": [
        "df = dataset.copy()"
      ],
      "execution_count": 0,
      "outputs": []
    },
    {
      "cell_type": "code",
      "metadata": {
        "id": "PeqLRK6HQnn_",
        "colab_type": "code",
        "outputId": "6bf7e317-fa1a-494b-c72d-a4ffba39e5df",
        "colab": {
          "base_uri": "https://localhost:8080/",
          "height": 370
        }
      },
      "source": [
        "columns = ['DrawNo', 'DrawDate', 'PrizeType', 'LuckyNo']\n",
        "df = df[columns]\n",
        "print(df.shape)\n",
        "df.head(10)"
      ],
      "execution_count": 7,
      "outputs": [
        {
          "output_type": "stream",
          "text": [
            "(104673, 4)\n"
          ],
          "name": "stdout"
        },
        {
          "output_type": "execute_result",
          "data": {
            "text/html": [
              "<div>\n",
              "<style scoped>\n",
              "    .dataframe tbody tr th:only-of-type {\n",
              "        vertical-align: middle;\n",
              "    }\n",
              "\n",
              "    .dataframe tbody tr th {\n",
              "        vertical-align: top;\n",
              "    }\n",
              "\n",
              "    .dataframe thead th {\n",
              "        text-align: right;\n",
              "    }\n",
              "</style>\n",
              "<table border=\"1\" class=\"dataframe\">\n",
              "  <thead>\n",
              "    <tr style=\"text-align: right;\">\n",
              "      <th></th>\n",
              "      <th>DrawNo</th>\n",
              "      <th>DrawDate</th>\n",
              "      <th>PrizeType</th>\n",
              "      <th>LuckyNo</th>\n",
              "    </tr>\n",
              "  </thead>\n",
              "  <tbody>\n",
              "    <tr>\n",
              "      <th>0</th>\n",
              "      <td>40792</td>\n",
              "      <td>1992-05-06</td>\n",
              "      <td>1stPrizeNo</td>\n",
              "      <td>19</td>\n",
              "    </tr>\n",
              "    <tr>\n",
              "      <th>1</th>\n",
              "      <td>40792</td>\n",
              "      <td>1992-05-06</td>\n",
              "      <td>2ndPrizeNo</td>\n",
              "      <td>1124</td>\n",
              "    </tr>\n",
              "    <tr>\n",
              "      <th>2</th>\n",
              "      <td>40792</td>\n",
              "      <td>1992-05-06</td>\n",
              "      <td>3rdPrizeNo</td>\n",
              "      <td>592</td>\n",
              "    </tr>\n",
              "    <tr>\n",
              "      <th>3</th>\n",
              "      <td>40792</td>\n",
              "      <td>1992-05-06</td>\n",
              "      <td>ConsolationNo1</td>\n",
              "      <td>5311</td>\n",
              "    </tr>\n",
              "    <tr>\n",
              "      <th>4</th>\n",
              "      <td>40792</td>\n",
              "      <td>1992-05-06</td>\n",
              "      <td>ConsolationNo10</td>\n",
              "      <td>407</td>\n",
              "    </tr>\n",
              "    <tr>\n",
              "      <th>5</th>\n",
              "      <td>40792</td>\n",
              "      <td>1992-05-06</td>\n",
              "      <td>ConsolationNo2</td>\n",
              "      <td>1949</td>\n",
              "    </tr>\n",
              "    <tr>\n",
              "      <th>6</th>\n",
              "      <td>40792</td>\n",
              "      <td>1992-05-06</td>\n",
              "      <td>ConsolationNo3</td>\n",
              "      <td>1606</td>\n",
              "    </tr>\n",
              "    <tr>\n",
              "      <th>7</th>\n",
              "      <td>40792</td>\n",
              "      <td>1992-05-06</td>\n",
              "      <td>ConsolationNo4</td>\n",
              "      <td>3775</td>\n",
              "    </tr>\n",
              "    <tr>\n",
              "      <th>8</th>\n",
              "      <td>40792</td>\n",
              "      <td>1992-05-06</td>\n",
              "      <td>ConsolationNo5</td>\n",
              "      <td>6226</td>\n",
              "    </tr>\n",
              "    <tr>\n",
              "      <th>9</th>\n",
              "      <td>40792</td>\n",
              "      <td>1992-05-06</td>\n",
              "      <td>ConsolationNo6</td>\n",
              "      <td>1271</td>\n",
              "    </tr>\n",
              "  </tbody>\n",
              "</table>\n",
              "</div>"
            ],
            "text/plain": [
              "   DrawNo   DrawDate        PrizeType  LuckyNo\n",
              "0   40792 1992-05-06       1stPrizeNo       19\n",
              "1   40792 1992-05-06       2ndPrizeNo     1124\n",
              "2   40792 1992-05-06       3rdPrizeNo      592\n",
              "3   40792 1992-05-06   ConsolationNo1     5311\n",
              "4   40792 1992-05-06  ConsolationNo10      407\n",
              "5   40792 1992-05-06   ConsolationNo2     1949\n",
              "6   40792 1992-05-06   ConsolationNo3     1606\n",
              "7   40792 1992-05-06   ConsolationNo4     3775\n",
              "8   40792 1992-05-06   ConsolationNo5     6226\n",
              "9   40792 1992-05-06   ConsolationNo6     1271"
            ]
          },
          "metadata": {
            "tags": []
          },
          "execution_count": 7
        }
      ]
    },
    {
      "cell_type": "code",
      "metadata": {
        "id": "hKDROfYKQnoB",
        "colab_type": "code",
        "colab": {}
      },
      "source": [
        "#df['LuckyNo'].value_counts().plot.bar(figsize=(6,5))"
      ],
      "execution_count": 0,
      "outputs": []
    },
    {
      "cell_type": "code",
      "metadata": {
        "id": "LqT_9licQnoF",
        "colab_type": "code",
        "colab": {}
      },
      "source": [
        "# df.groupby(['LuckyNo']).max().head(10)"
      ],
      "execution_count": 0,
      "outputs": []
    },
    {
      "cell_type": "code",
      "metadata": {
        "id": "FjnFRPDsQnoM",
        "colab_type": "code",
        "colab": {}
      },
      "source": [
        "# df.groupby(['LuckyNo']).count().tail(10)"
      ],
      "execution_count": 0,
      "outputs": []
    },
    {
      "cell_type": "code",
      "metadata": {
        "id": "RIiTmg10UCVa",
        "colab_type": "code",
        "colab": {}
      },
      "source": [
        "df.rename(columns={\"DrawNo\": \"draw_no\", \"DrawDate\": \"draw_date\", \"PrizeType\": \"prize_type\", \"LuckyNo\": \"lucky_no\" }, inplace=True)"
      ],
      "execution_count": 0,
      "outputs": []
    },
    {
      "cell_type": "code",
      "metadata": {
        "id": "pPQsQWIQUcaK",
        "colab_type": "code",
        "outputId": "db29d9dc-b602-476a-d8a3-2c3a1d75446c",
        "colab": {
          "base_uri": "https://localhost:8080/",
          "height": 177
        }
      },
      "source": [
        "df.info()"
      ],
      "execution_count": 12,
      "outputs": [
        {
          "output_type": "stream",
          "text": [
            "<class 'pandas.core.frame.DataFrame'>\n",
            "RangeIndex: 104673 entries, 0 to 104672\n",
            "Data columns (total 4 columns):\n",
            "draw_no       104673 non-null int64\n",
            "draw_date     104673 non-null datetime64[ns]\n",
            "prize_type    104673 non-null object\n",
            "lucky_no      104673 non-null int64\n",
            "dtypes: datetime64[ns](1), int64(2), object(1)\n",
            "memory usage: 3.2+ MB\n"
          ],
          "name": "stdout"
        }
      ]
    },
    {
      "cell_type": "code",
      "metadata": {
        "id": "M0Z9x8zgQnoQ",
        "colab_type": "code",
        "colab": {}
      },
      "source": [
        "df['number_id'] = df.groupby(['lucky_no']).ngroup()"
      ],
      "execution_count": 0,
      "outputs": []
    },
    {
      "cell_type": "code",
      "metadata": {
        "id": "PoaBVXBHQnoT",
        "colab_type": "code",
        "outputId": "8d3399d6-68ad-4d20-9dff-7230c8631d30",
        "colab": {
          "base_uri": "https://localhost:8080/",
          "height": 443
        }
      },
      "source": [
        "df.loc[lambda df: df['number_id'] == 0000]"
      ],
      "execution_count": 14,
      "outputs": [
        {
          "output_type": "execute_result",
          "data": {
            "text/html": [
              "<div>\n",
              "<style scoped>\n",
              "    .dataframe tbody tr th:only-of-type {\n",
              "        vertical-align: middle;\n",
              "    }\n",
              "\n",
              "    .dataframe tbody tr th {\n",
              "        vertical-align: top;\n",
              "    }\n",
              "\n",
              "    .dataframe thead th {\n",
              "        text-align: right;\n",
              "    }\n",
              "</style>\n",
              "<table border=\"1\" class=\"dataframe\">\n",
              "  <thead>\n",
              "    <tr style=\"text-align: right;\">\n",
              "      <th></th>\n",
              "      <th>draw_no</th>\n",
              "      <th>draw_date</th>\n",
              "      <th>prize_type</th>\n",
              "      <th>lucky_no</th>\n",
              "      <th>number_id</th>\n",
              "    </tr>\n",
              "  </thead>\n",
              "  <tbody>\n",
              "    <tr>\n",
              "      <th>11686</th>\n",
              "      <td>91595</td>\n",
              "      <td>1995-08-02</td>\n",
              "      <td>3rdPrizeNo</td>\n",
              "      <td>0</td>\n",
              "      <td>0</td>\n",
              "    </tr>\n",
              "    <tr>\n",
              "      <th>21541</th>\n",
              "      <td>134398</td>\n",
              "      <td>1998-04-26</td>\n",
              "      <td>SpecialNo1</td>\n",
              "      <td>0</td>\n",
              "      <td>0</td>\n",
              "    </tr>\n",
              "    <tr>\n",
              "      <th>23100</th>\n",
              "      <td>141198</td>\n",
              "      <td>1998-10-01</td>\n",
              "      <td>ConsolationNo5</td>\n",
              "      <td>0</td>\n",
              "      <td>0</td>\n",
              "    </tr>\n",
              "    <tr>\n",
              "      <th>30430</th>\n",
              "      <td>173000</td>\n",
              "      <td>2000-09-09</td>\n",
              "      <td>2ndPrizeNo</td>\n",
              "      <td>0</td>\n",
              "      <td>0</td>\n",
              "    </tr>\n",
              "    <tr>\n",
              "      <th>48346</th>\n",
              "      <td>251005</td>\n",
              "      <td>2005-06-04</td>\n",
              "      <td>1stPrizeNo</td>\n",
              "      <td>0</td>\n",
              "      <td>0</td>\n",
              "    </tr>\n",
              "    <tr>\n",
              "      <th>56190</th>\n",
              "      <td>285107</td>\n",
              "      <td>2007-06-06</td>\n",
              "      <td>2ndPrizeNo</td>\n",
              "      <td>0</td>\n",
              "      <td>0</td>\n",
              "    </tr>\n",
              "    <tr>\n",
              "      <th>79783</th>\n",
              "      <td>387613</td>\n",
              "      <td>2013-05-04</td>\n",
              "      <td>SpecialNo6</td>\n",
              "      <td>0</td>\n",
              "      <td>0</td>\n",
              "    </tr>\n",
              "    <tr>\n",
              "      <th>81258</th>\n",
              "      <td>394013</td>\n",
              "      <td>2013-09-14</td>\n",
              "      <td>SpecialNo9</td>\n",
              "      <td>0</td>\n",
              "      <td>0</td>\n",
              "    </tr>\n",
              "    <tr>\n",
              "      <th>82908</th>\n",
              "      <td>401214</td>\n",
              "      <td>2014-02-08</td>\n",
              "      <td>SpecialNo3</td>\n",
              "      <td>0</td>\n",
              "      <td>0</td>\n",
              "    </tr>\n",
              "    <tr>\n",
              "      <th>85712</th>\n",
              "      <td>413414</td>\n",
              "      <td>2014-10-18</td>\n",
              "      <td>SpecialNo10</td>\n",
              "      <td>0</td>\n",
              "      <td>0</td>\n",
              "    </tr>\n",
              "    <tr>\n",
              "      <th>85748</th>\n",
              "      <td>413614</td>\n",
              "      <td>2014-10-22</td>\n",
              "      <td>ConsolationNo10</td>\n",
              "      <td>0</td>\n",
              "      <td>0</td>\n",
              "    </tr>\n",
              "    <tr>\n",
              "      <th>85901</th>\n",
              "      <td>414214</td>\n",
              "      <td>2014-11-02</td>\n",
              "      <td>SpecialNo6</td>\n",
              "      <td>0</td>\n",
              "      <td>0</td>\n",
              "    </tr>\n",
              "    <tr>\n",
              "      <th>86157</th>\n",
              "      <td>415314</td>\n",
              "      <td>2014-11-25</td>\n",
              "      <td>SpecialNo9</td>\n",
              "      <td>0</td>\n",
              "      <td>0</td>\n",
              "    </tr>\n",
              "  </tbody>\n",
              "</table>\n",
              "</div>"
            ],
            "text/plain": [
              "       draw_no  draw_date       prize_type  lucky_no  number_id\n",
              "11686    91595 1995-08-02       3rdPrizeNo         0          0\n",
              "21541   134398 1998-04-26       SpecialNo1         0          0\n",
              "23100   141198 1998-10-01   ConsolationNo5         0          0\n",
              "30430   173000 2000-09-09       2ndPrizeNo         0          0\n",
              "48346   251005 2005-06-04       1stPrizeNo         0          0\n",
              "56190   285107 2007-06-06       2ndPrizeNo         0          0\n",
              "79783   387613 2013-05-04       SpecialNo6         0          0\n",
              "81258   394013 2013-09-14       SpecialNo9         0          0\n",
              "82908   401214 2014-02-08       SpecialNo3         0          0\n",
              "85712   413414 2014-10-18      SpecialNo10         0          0\n",
              "85748   413614 2014-10-22  ConsolationNo10         0          0\n",
              "85901   414214 2014-11-02       SpecialNo6         0          0\n",
              "86157   415314 2014-11-25       SpecialNo9         0          0"
            ]
          },
          "metadata": {
            "tags": []
          },
          "execution_count": 14
        }
      ]
    },
    {
      "cell_type": "code",
      "metadata": {
        "id": "nF4T4FbFQnoV",
        "colab_type": "code",
        "outputId": "6ff767b5-f14d-49a5-d054-fc023560bf20",
        "colab": {
          "base_uri": "https://localhost:8080/",
          "height": 139
        }
      },
      "source": [
        "df = df[[\"number_id\", \"draw_no\", \"draw_date\", \"prize_type\", \"lucky_no\"]]\n",
        "df.head(3)"
      ],
      "execution_count": 15,
      "outputs": [
        {
          "output_type": "execute_result",
          "data": {
            "text/html": [
              "<div>\n",
              "<style scoped>\n",
              "    .dataframe tbody tr th:only-of-type {\n",
              "        vertical-align: middle;\n",
              "    }\n",
              "\n",
              "    .dataframe tbody tr th {\n",
              "        vertical-align: top;\n",
              "    }\n",
              "\n",
              "    .dataframe thead th {\n",
              "        text-align: right;\n",
              "    }\n",
              "</style>\n",
              "<table border=\"1\" class=\"dataframe\">\n",
              "  <thead>\n",
              "    <tr style=\"text-align: right;\">\n",
              "      <th></th>\n",
              "      <th>number_id</th>\n",
              "      <th>draw_no</th>\n",
              "      <th>draw_date</th>\n",
              "      <th>prize_type</th>\n",
              "      <th>lucky_no</th>\n",
              "    </tr>\n",
              "  </thead>\n",
              "  <tbody>\n",
              "    <tr>\n",
              "      <th>0</th>\n",
              "      <td>19</td>\n",
              "      <td>40792</td>\n",
              "      <td>1992-05-06</td>\n",
              "      <td>1stPrizeNo</td>\n",
              "      <td>19</td>\n",
              "    </tr>\n",
              "    <tr>\n",
              "      <th>1</th>\n",
              "      <td>1124</td>\n",
              "      <td>40792</td>\n",
              "      <td>1992-05-06</td>\n",
              "      <td>2ndPrizeNo</td>\n",
              "      <td>1124</td>\n",
              "    </tr>\n",
              "    <tr>\n",
              "      <th>2</th>\n",
              "      <td>592</td>\n",
              "      <td>40792</td>\n",
              "      <td>1992-05-06</td>\n",
              "      <td>3rdPrizeNo</td>\n",
              "      <td>592</td>\n",
              "    </tr>\n",
              "  </tbody>\n",
              "</table>\n",
              "</div>"
            ],
            "text/plain": [
              "   number_id  draw_no  draw_date  prize_type  lucky_no\n",
              "0         19    40792 1992-05-06  1stPrizeNo        19\n",
              "1       1124    40792 1992-05-06  2ndPrizeNo      1124\n",
              "2        592    40792 1992-05-06  3rdPrizeNo       592"
            ]
          },
          "metadata": {
            "tags": []
          },
          "execution_count": 15
        }
      ]
    },
    {
      "cell_type": "markdown",
      "metadata": {
        "id": "jnYAzEezXMVz",
        "colab_type": "text"
      },
      "source": [
        "## Making Labels"
      ]
    },
    {
      "cell_type": "code",
      "metadata": {
        "id": "XkXd7ypeXROT",
        "colab_type": "code",
        "colab": {}
      },
      "source": [
        "def make_cutoffs(draw_date):\n",
        "  all_numbers = df[df['draw_date'] <= draw_date]['number_id'].unique()\n",
        "  matched_numbers = df[df['draw_date'] == draw_date]['number_id'].unique()\n",
        "  df_all = pd.DataFrame({'number_id': all_numbers, 'lucky_no': all_numbers})\n",
        "  df_all['label'] = (df_all['number_id'].isin(matched_numbers)).astype(int)\n",
        "  \n",
        "  # The cutoff time is the draw_date\n",
        "  df_all['cutoff_time'] = pd.to_datetime(draw_date)\n",
        "  df_all = df_all[['number_id', 'cutoff_time', 'lucky_no', 'label']]\n",
        "  return df_all     "
      ],
      "execution_count": 0,
      "outputs": []
    },
    {
      "cell_type": "code",
      "metadata": {
        "id": "reB2wOPjzJ9x",
        "colab_type": "code",
        "outputId": "3243987a-dc74-4532-9976-ea07aa2b23e5",
        "colab": {
          "base_uri": "https://localhost:8080/",
          "height": 582
        }
      },
      "source": [
        "  df_draw = make_cutoffs(pd.datetime(2014, 1, 4))\n",
        "  plt.figure(figsize=(8,8))\n",
        "  df_draw['label'].value_counts().plot.bar();\n",
        "  plt.title('Label distribution')\n",
        "  df_draw.loc[df_draw['label'] ==1].count()"
      ],
      "execution_count": 17,
      "outputs": [
        {
          "output_type": "execute_result",
          "data": {
            "text/plain": [
              "number_id      22\n",
              "cutoff_time    22\n",
              "lucky_no       22\n",
              "label          22\n",
              "dtype: int64"
            ]
          },
          "metadata": {
            "tags": []
          },
          "execution_count": 17
        },
        {
          "output_type": "display_data",
          "data": {
            "image/png": "[encoded data removed]",
            "text/plain": [
              "<Figure size 576x576 with 1 Axes>"
            ]
          },
          "metadata": {
            "tags": []
          }
        }
      ]
    },
    {
      "cell_type": "code",
      "metadata": {
        "id": "9gJ-dU3_FCFi",
        "colab_type": "code",
        "outputId": "7a820dea-7f58-4778-cda9-e204d40e6007",
        "colab": {
          "base_uri": "https://localhost:8080/",
          "height": 747
        }
      },
      "source": [
        "df.loc[df['draw_date'] == pd.datetime(2014,1,4)].sort_values(['lucky_no'])"
      ],
      "execution_count": 18,
      "outputs": [
        {
          "output_type": "execute_result",
          "data": {
            "text/html": [
              "<div>\n",
              "<style scoped>\n",
              "    .dataframe tbody tr th:only-of-type {\n",
              "        vertical-align: middle;\n",
              "    }\n",
              "\n",
              "    .dataframe tbody tr th {\n",
              "        vertical-align: top;\n",
              "    }\n",
              "\n",
              "    .dataframe thead th {\n",
              "        text-align: right;\n",
              "    }\n",
              "</style>\n",
              "<table border=\"1\" class=\"dataframe\">\n",
              "  <thead>\n",
              "    <tr style=\"text-align: right;\">\n",
              "      <th></th>\n",
              "      <th>number_id</th>\n",
              "      <th>draw_no</th>\n",
              "      <th>draw_date</th>\n",
              "      <th>prize_type</th>\n",
              "      <th>lucky_no</th>\n",
              "    </tr>\n",
              "  </thead>\n",
              "  <tbody>\n",
              "    <tr>\n",
              "      <th>82482</th>\n",
              "      <td>598</td>\n",
              "      <td>399414</td>\n",
              "      <td>2014-01-04</td>\n",
              "      <td>ConsolationNo10</td>\n",
              "      <td>598</td>\n",
              "    </tr>\n",
              "    <tr>\n",
              "      <th>82490</th>\n",
              "      <td>925</td>\n",
              "      <td>399414</td>\n",
              "      <td>2014-01-04</td>\n",
              "      <td>ConsolationNo9</td>\n",
              "      <td>925</td>\n",
              "    </tr>\n",
              "    <tr>\n",
              "      <th>82478</th>\n",
              "      <td>963</td>\n",
              "      <td>399414</td>\n",
              "      <td>2014-01-04</td>\n",
              "      <td>1stPrizeNo</td>\n",
              "      <td>963</td>\n",
              "    </tr>\n",
              "    <tr>\n",
              "      <th>82484</th>\n",
              "      <td>1486</td>\n",
              "      <td>399414</td>\n",
              "      <td>2014-01-04</td>\n",
              "      <td>ConsolationNo3</td>\n",
              "      <td>1486</td>\n",
              "    </tr>\n",
              "    <tr>\n",
              "      <th>82483</th>\n",
              "      <td>1556</td>\n",
              "      <td>399414</td>\n",
              "      <td>2014-01-04</td>\n",
              "      <td>ConsolationNo2</td>\n",
              "      <td>1556</td>\n",
              "    </tr>\n",
              "    <tr>\n",
              "      <th>82499</th>\n",
              "      <td>3348</td>\n",
              "      <td>399414</td>\n",
              "      <td>2014-01-04</td>\n",
              "      <td>SpecialNo8</td>\n",
              "      <td>3348</td>\n",
              "    </tr>\n",
              "    <tr>\n",
              "      <th>82491</th>\n",
              "      <td>3693</td>\n",
              "      <td>399414</td>\n",
              "      <td>2014-01-04</td>\n",
              "      <td>SpecialNo1</td>\n",
              "      <td>3693</td>\n",
              "    </tr>\n",
              "    <tr>\n",
              "      <th>82485</th>\n",
              "      <td>4225</td>\n",
              "      <td>399414</td>\n",
              "      <td>2014-01-04</td>\n",
              "      <td>ConsolationNo4</td>\n",
              "      <td>4225</td>\n",
              "    </tr>\n",
              "    <tr>\n",
              "      <th>82480</th>\n",
              "      <td>4761</td>\n",
              "      <td>399414</td>\n",
              "      <td>2014-01-04</td>\n",
              "      <td>3rdPrizeNo</td>\n",
              "      <td>4761</td>\n",
              "    </tr>\n",
              "    <tr>\n",
              "      <th>82494</th>\n",
              "      <td>4776</td>\n",
              "      <td>399414</td>\n",
              "      <td>2014-01-04</td>\n",
              "      <td>SpecialNo3</td>\n",
              "      <td>4776</td>\n",
              "    </tr>\n",
              "    <tr>\n",
              "      <th>82486</th>\n",
              "      <td>4915</td>\n",
              "      <td>399414</td>\n",
              "      <td>2014-01-04</td>\n",
              "      <td>ConsolationNo5</td>\n",
              "      <td>4915</td>\n",
              "    </tr>\n",
              "    <tr>\n",
              "      <th>82500</th>\n",
              "      <td>4975</td>\n",
              "      <td>399414</td>\n",
              "      <td>2014-01-04</td>\n",
              "      <td>SpecialNo9</td>\n",
              "      <td>4975</td>\n",
              "    </tr>\n",
              "    <tr>\n",
              "      <th>82495</th>\n",
              "      <td>5270</td>\n",
              "      <td>399414</td>\n",
              "      <td>2014-01-04</td>\n",
              "      <td>SpecialNo4</td>\n",
              "      <td>5270</td>\n",
              "    </tr>\n",
              "    <tr>\n",
              "      <th>82498</th>\n",
              "      <td>5382</td>\n",
              "      <td>399414</td>\n",
              "      <td>2014-01-04</td>\n",
              "      <td>SpecialNo7</td>\n",
              "      <td>5382</td>\n",
              "    </tr>\n",
              "    <tr>\n",
              "      <th>82487</th>\n",
              "      <td>6195</td>\n",
              "      <td>399414</td>\n",
              "      <td>2014-01-04</td>\n",
              "      <td>ConsolationNo6</td>\n",
              "      <td>6195</td>\n",
              "    </tr>\n",
              "    <tr>\n",
              "      <th>82496</th>\n",
              "      <td>6453</td>\n",
              "      <td>399414</td>\n",
              "      <td>2014-01-04</td>\n",
              "      <td>SpecialNo5</td>\n",
              "      <td>6453</td>\n",
              "    </tr>\n",
              "    <tr>\n",
              "      <th>82488</th>\n",
              "      <td>6829</td>\n",
              "      <td>399414</td>\n",
              "      <td>2014-01-04</td>\n",
              "      <td>ConsolationNo7</td>\n",
              "      <td>6829</td>\n",
              "    </tr>\n",
              "    <tr>\n",
              "      <th>82497</th>\n",
              "      <td>7235</td>\n",
              "      <td>399414</td>\n",
              "      <td>2014-01-04</td>\n",
              "      <td>SpecialNo6</td>\n",
              "      <td>7235</td>\n",
              "    </tr>\n",
              "    <tr>\n",
              "      <th>82479</th>\n",
              "      <td>7538</td>\n",
              "      <td>399414</td>\n",
              "      <td>2014-01-04</td>\n",
              "      <td>2ndPrizeNo</td>\n",
              "      <td>7538</td>\n",
              "    </tr>\n",
              "    <tr>\n",
              "      <th>82489</th>\n",
              "      <td>8232</td>\n",
              "      <td>399414</td>\n",
              "      <td>2014-01-04</td>\n",
              "      <td>ConsolationNo8</td>\n",
              "      <td>8232</td>\n",
              "    </tr>\n",
              "    <tr>\n",
              "      <th>82492</th>\n",
              "      <td>8716</td>\n",
              "      <td>399414</td>\n",
              "      <td>2014-01-04</td>\n",
              "      <td>SpecialNo10</td>\n",
              "      <td>8716</td>\n",
              "    </tr>\n",
              "    <tr>\n",
              "      <th>82481</th>\n",
              "      <td>9556</td>\n",
              "      <td>399414</td>\n",
              "      <td>2014-01-04</td>\n",
              "      <td>ConsolationNo1</td>\n",
              "      <td>9556</td>\n",
              "    </tr>\n",
              "    <tr>\n",
              "      <th>82493</th>\n",
              "      <td>9556</td>\n",
              "      <td>399414</td>\n",
              "      <td>2014-01-04</td>\n",
              "      <td>SpecialNo2</td>\n",
              "      <td>9556</td>\n",
              "    </tr>\n",
              "  </tbody>\n",
              "</table>\n",
              "</div>"
            ],
            "text/plain": [
              "       number_id  draw_no  draw_date       prize_type  lucky_no\n",
              "82482        598   399414 2014-01-04  ConsolationNo10       598\n",
              "82490        925   399414 2014-01-04   ConsolationNo9       925\n",
              "82478        963   399414 2014-01-04       1stPrizeNo       963\n",
              "82484       1486   399414 2014-01-04   ConsolationNo3      1486\n",
              "82483       1556   399414 2014-01-04   ConsolationNo2      1556\n",
              "82499       3348   399414 2014-01-04       SpecialNo8      3348\n",
              "82491       3693   399414 2014-01-04       SpecialNo1      3693\n",
              "82485       4225   399414 2014-01-04   ConsolationNo4      4225\n",
              "82480       4761   399414 2014-01-04       3rdPrizeNo      4761\n",
              "82494       4776   399414 2014-01-04       SpecialNo3      4776\n",
              "82486       4915   399414 2014-01-04   ConsolationNo5      4915\n",
              "82500       4975   399414 2014-01-04       SpecialNo9      4975\n",
              "82495       5270   399414 2014-01-04       SpecialNo4      5270\n",
              "82498       5382   399414 2014-01-04       SpecialNo7      5382\n",
              "82487       6195   399414 2014-01-04   ConsolationNo6      6195\n",
              "82496       6453   399414 2014-01-04       SpecialNo5      6453\n",
              "82488       6829   399414 2014-01-04   ConsolationNo7      6829\n",
              "82497       7235   399414 2014-01-04       SpecialNo6      7235\n",
              "82479       7538   399414 2014-01-04       2ndPrizeNo      7538\n",
              "82489       8232   399414 2014-01-04   ConsolationNo8      8232\n",
              "82492       8716   399414 2014-01-04      SpecialNo10      8716\n",
              "82481       9556   399414 2014-01-04   ConsolationNo1      9556\n",
              "82493       9556   399414 2014-01-04       SpecialNo2      9556"
            ]
          },
          "metadata": {
            "tags": []
          },
          "execution_count": 18
        }
      ]
    },
    {
      "cell_type": "code",
      "metadata": {
        "id": "XUSEYsrf8MCo",
        "colab_type": "code",
        "outputId": "9e7d6e3b-a0e0-49f8-d581-f958e075f692",
        "colab": {
          "base_uri": "https://localhost:8080/",
          "height": 35
        }
      },
      "source": [
        "df.loc[df['draw_date'].dt.year <= 2014]['lucky_no'].nunique()"
      ],
      "execution_count": 19,
      "outputs": [
        {
          "output_type": "execute_result",
          "data": {
            "text/plain": [
              "9999"
            ]
          },
          "metadata": {
            "tags": []
          },
          "execution_count": 19
        }
      ]
    },
    {
      "cell_type": "code",
      "metadata": {
        "id": "nBVSNnSQXRZB",
        "colab_type": "code",
        "colab": {}
      },
      "source": [
        "# Start year to generate the labels\n",
        "START_YEAR = 2014\n",
        "\n",
        "# labels = pd.DataFrame()\n",
        "# for dt in df.loc[df['draw_date'].dt.year >= START_YEAR]['draw_date'].unique():\n",
        "#   df_draw = make_cutoffs(dt)\n",
        "#   if labels.empty:\n",
        "#     labels = df_draw\n",
        "#   else:\n",
        "#     labels = pd.concat([labels, df_draw], axis=0)\n",
        "#   #print(dt, labels.shape, len(labels.loc[labels['label'] == 1]))\n",
        "\n",
        "\n",
        "# print(labels.shape, len(labels.loc[labels['label'] == 1]))\n",
        "# labels.to_csv('labels.csv', index=False)"
      ],
      "execution_count": 0,
      "outputs": []
    },
    {
      "cell_type": "code",
      "metadata": {
        "id": "CharGC7ozJTR",
        "colab_type": "code",
        "colab": {}
      },
      "source": [
        "# !tar cvf labels.tar labels.csv \n",
        "# !gzip labels.tar"
      ],
      "execution_count": 0,
      "outputs": []
    },
    {
      "cell_type": "code",
      "metadata": {
        "id": "mSr0bzrDzI0J",
        "colab_type": "code",
        "colab": {}
      },
      "source": [
        "# from google.colab import files\n",
        "# files.download('labels.tar.gz')"
      ],
      "execution_count": 0,
      "outputs": []
    },
    {
      "cell_type": "code",
      "metadata": {
        "id": "xbRtawggGMoa",
        "colab_type": "code",
        "colab": {}
      },
      "source": [
        "labels = pd.read_csv('dl-projects/datasets/lotto/labels.tar.gz', compression=\"gzip\", header=0, sep=',', quotechar='\"', parse_dates=['cutoff_time'], )"
      ],
      "execution_count": 0,
      "outputs": []
    },
    {
      "cell_type": "code",
      "metadata": {
        "id": "nXBh8o8xGxgz",
        "colab_type": "code",
        "outputId": "8736a3e1-b445-426d-e002-3d8f2bff65c2",
        "colab": {
          "base_uri": "https://localhost:8080/",
          "height": 35
        }
      },
      "source": [
        "labels.shape"
      ],
      "execution_count": 24,
      "outputs": [
        {
          "output_type": "execute_result",
          "data": {
            "text/plain": [
              "(9659595, 4)"
            ]
          },
          "metadata": {
            "tags": []
          },
          "execution_count": 24
        }
      ]
    },
    {
      "cell_type": "code",
      "metadata": {
        "id": "SE6pxzDwG9gn",
        "colab_type": "code",
        "outputId": "7d869333-4576-4f11-bfd0-d382a5145da5",
        "colab": {
          "base_uri": "https://localhost:8080/",
          "height": 352
        }
      },
      "source": [
        "labels.rename(columns={\"labels.csv\": \"number_id\"}, inplace=True)\n",
        "labels.head(10)"
      ],
      "execution_count": 25,
      "outputs": [
        {
          "output_type": "execute_result",
          "data": {
            "text/html": [
              "<div>\n",
              "<style scoped>\n",
              "    .dataframe tbody tr th:only-of-type {\n",
              "        vertical-align: middle;\n",
              "    }\n",
              "\n",
              "    .dataframe tbody tr th {\n",
              "        vertical-align: top;\n",
              "    }\n",
              "\n",
              "    .dataframe thead th {\n",
              "        text-align: right;\n",
              "    }\n",
              "</style>\n",
              "<table border=\"1\" class=\"dataframe\">\n",
              "  <thead>\n",
              "    <tr style=\"text-align: right;\">\n",
              "      <th></th>\n",
              "      <th>number_id</th>\n",
              "      <th>cutoff_time</th>\n",
              "      <th>lucky_no</th>\n",
              "      <th>label</th>\n",
              "    </tr>\n",
              "  </thead>\n",
              "  <tbody>\n",
              "    <tr>\n",
              "      <th>0</th>\n",
              "      <td>19.0</td>\n",
              "      <td>2014-01-01</td>\n",
              "      <td>19.0</td>\n",
              "      <td>0.0</td>\n",
              "    </tr>\n",
              "    <tr>\n",
              "      <th>1</th>\n",
              "      <td>1124.0</td>\n",
              "      <td>2014-01-01</td>\n",
              "      <td>1124.0</td>\n",
              "      <td>0.0</td>\n",
              "    </tr>\n",
              "    <tr>\n",
              "      <th>2</th>\n",
              "      <td>592.0</td>\n",
              "      <td>2014-01-01</td>\n",
              "      <td>592.0</td>\n",
              "      <td>0.0</td>\n",
              "    </tr>\n",
              "    <tr>\n",
              "      <th>3</th>\n",
              "      <td>5311.0</td>\n",
              "      <td>2014-01-01</td>\n",
              "      <td>5311.0</td>\n",
              "      <td>0.0</td>\n",
              "    </tr>\n",
              "    <tr>\n",
              "      <th>4</th>\n",
              "      <td>407.0</td>\n",
              "      <td>2014-01-01</td>\n",
              "      <td>407.0</td>\n",
              "      <td>0.0</td>\n",
              "    </tr>\n",
              "    <tr>\n",
              "      <th>5</th>\n",
              "      <td>1949.0</td>\n",
              "      <td>2014-01-01</td>\n",
              "      <td>1949.0</td>\n",
              "      <td>0.0</td>\n",
              "    </tr>\n",
              "    <tr>\n",
              "      <th>6</th>\n",
              "      <td>1606.0</td>\n",
              "      <td>2014-01-01</td>\n",
              "      <td>1606.0</td>\n",
              "      <td>0.0</td>\n",
              "    </tr>\n",
              "    <tr>\n",
              "      <th>7</th>\n",
              "      <td>3775.0</td>\n",
              "      <td>2014-01-01</td>\n",
              "      <td>3775.0</td>\n",
              "      <td>0.0</td>\n",
              "    </tr>\n",
              "    <tr>\n",
              "      <th>8</th>\n",
              "      <td>6226.0</td>\n",
              "      <td>2014-01-01</td>\n",
              "      <td>6226.0</td>\n",
              "      <td>0.0</td>\n",
              "    </tr>\n",
              "    <tr>\n",
              "      <th>9</th>\n",
              "      <td>1271.0</td>\n",
              "      <td>2014-01-01</td>\n",
              "      <td>1271.0</td>\n",
              "      <td>0.0</td>\n",
              "    </tr>\n",
              "  </tbody>\n",
              "</table>\n",
              "</div>"
            ],
            "text/plain": [
              "   number_id cutoff_time  lucky_no  label\n",
              "0       19.0  2014-01-01      19.0    0.0\n",
              "1     1124.0  2014-01-01    1124.0    0.0\n",
              "2      592.0  2014-01-01     592.0    0.0\n",
              "3     5311.0  2014-01-01    5311.0    0.0\n",
              "4      407.0  2014-01-01     407.0    0.0\n",
              "5     1949.0  2014-01-01    1949.0    0.0\n",
              "6     1606.0  2014-01-01    1606.0    0.0\n",
              "7     3775.0  2014-01-01    3775.0    0.0\n",
              "8     6226.0  2014-01-01    6226.0    0.0\n",
              "9     1271.0  2014-01-01    1271.0    0.0"
            ]
          },
          "metadata": {
            "tags": []
          },
          "execution_count": 25
        }
      ]
    },
    {
      "cell_type": "code",
      "metadata": {
        "id": "YPfasTthIJmL",
        "colab_type": "code",
        "outputId": "81de87e2-ea44-4a65-db50-8feef1a3030a",
        "colab": {
          "base_uri": "https://localhost:8080/",
          "height": 291
        }
      },
      "source": [
        "labels.describe()"
      ],
      "execution_count": 26,
      "outputs": [
        {
          "output_type": "execute_result",
          "data": {
            "text/html": [
              "<div>\n",
              "<style scoped>\n",
              "    .dataframe tbody tr th:only-of-type {\n",
              "        vertical-align: middle;\n",
              "    }\n",
              "\n",
              "    .dataframe tbody tr th {\n",
              "        vertical-align: top;\n",
              "    }\n",
              "\n",
              "    .dataframe thead th {\n",
              "        text-align: right;\n",
              "    }\n",
              "</style>\n",
              "<table border=\"1\" class=\"dataframe\">\n",
              "  <thead>\n",
              "    <tr style=\"text-align: right;\">\n",
              "      <th></th>\n",
              "      <th>number_id</th>\n",
              "      <th>lucky_no</th>\n",
              "      <th>label</th>\n",
              "    </tr>\n",
              "  </thead>\n",
              "  <tbody>\n",
              "    <tr>\n",
              "      <th>count</th>\n",
              "      <td>9.659594e+06</td>\n",
              "      <td>9.659594e+06</td>\n",
              "      <td>9.659594e+06</td>\n",
              "    </tr>\n",
              "    <tr>\n",
              "      <th>mean</th>\n",
              "      <td>4.999413e+03</td>\n",
              "      <td>4.999413e+03</td>\n",
              "      <td>2.297405e-03</td>\n",
              "    </tr>\n",
              "    <tr>\n",
              "      <th>std</th>\n",
              "      <td>2.886751e+03</td>\n",
              "      <td>2.886751e+03</td>\n",
              "      <td>4.787617e-02</td>\n",
              "    </tr>\n",
              "    <tr>\n",
              "      <th>min</th>\n",
              "      <td>0.000000e+00</td>\n",
              "      <td>0.000000e+00</td>\n",
              "      <td>0.000000e+00</td>\n",
              "    </tr>\n",
              "    <tr>\n",
              "      <th>25%</th>\n",
              "      <td>2.499000e+03</td>\n",
              "      <td>2.499000e+03</td>\n",
              "      <td>0.000000e+00</td>\n",
              "    </tr>\n",
              "    <tr>\n",
              "      <th>50%</th>\n",
              "      <td>4.999000e+03</td>\n",
              "      <td>4.999000e+03</td>\n",
              "      <td>0.000000e+00</td>\n",
              "    </tr>\n",
              "    <tr>\n",
              "      <th>75%</th>\n",
              "      <td>7.499000e+03</td>\n",
              "      <td>7.499000e+03</td>\n",
              "      <td>0.000000e+00</td>\n",
              "    </tr>\n",
              "    <tr>\n",
              "      <th>max</th>\n",
              "      <td>9.999000e+03</td>\n",
              "      <td>9.999000e+03</td>\n",
              "      <td>1.000000e+00</td>\n",
              "    </tr>\n",
              "  </tbody>\n",
              "</table>\n",
              "</div>"
            ],
            "text/plain": [
              "          number_id      lucky_no         label\n",
              "count  9.659594e+06  9.659594e+06  9.659594e+06\n",
              "mean   4.999413e+03  4.999413e+03  2.297405e-03\n",
              "std    2.886751e+03  2.886751e+03  4.787617e-02\n",
              "min    0.000000e+00  0.000000e+00  0.000000e+00\n",
              "25%    2.499000e+03  2.499000e+03  0.000000e+00\n",
              "50%    4.999000e+03  4.999000e+03  0.000000e+00\n",
              "75%    7.499000e+03  7.499000e+03  0.000000e+00\n",
              "max    9.999000e+03  9.999000e+03  1.000000e+00"
            ]
          },
          "metadata": {
            "tags": []
          },
          "execution_count": 26
        }
      ]
    },
    {
      "cell_type": "code",
      "metadata": {
        "id": "UmJLDsxDIpsf",
        "colab_type": "code",
        "outputId": "90c37256-fe40-4ded-9a50-bfcf2b28ae59",
        "colab": {
          "base_uri": "https://localhost:8080/",
          "height": 177
        }
      },
      "source": [
        "labels.info()"
      ],
      "execution_count": 27,
      "outputs": [
        {
          "output_type": "stream",
          "text": [
            "<class 'pandas.core.frame.DataFrame'>\n",
            "RangeIndex: 9659595 entries, 0 to 9659594\n",
            "Data columns (total 4 columns):\n",
            "number_id      float64\n",
            "cutoff_time    datetime64[ns]\n",
            "lucky_no       float64\n",
            "label          float64\n",
            "dtypes: datetime64[ns](1), float64(3)\n",
            "memory usage: 294.8 MB\n"
          ],
          "name": "stdout"
        }
      ]
    },
    {
      "cell_type": "markdown",
      "metadata": {
        "id": "Hs6PX8_oQnoX",
        "colab_type": "text"
      },
      "source": [
        "## Skewness of data"
      ]
    },
    {
      "cell_type": "code",
      "metadata": {
        "id": "hZHHa3B5QnoY",
        "colab_type": "code",
        "colab": {}
      },
      "source": [
        "#  https://github.com/mengwangk/Automated-Manual-Comparison/blob/master/Retail%20Spending/notebooks/Automated%20Retail%20Spending.ipynb"
      ],
      "execution_count": 0,
      "outputs": []
    },
    {
      "cell_type": "code",
      "metadata": {
        "id": "JkxnOoWqQnoa",
        "colab_type": "code",
        "colab": {}
      },
      "source": [
        "def ecdf(data):\n",
        "    \"\"\"\n",
        "    Empirical cumulative distribution function (ECDF) plot\n",
        "    \"\"\"\n",
        "    x = np.sort(data)\n",
        "    y = np.arange(1, len(x) + 1) / len(x)\n",
        "    return x, y"
      ],
      "execution_count": 0,
      "outputs": []
    },
    {
      "cell_type": "code",
      "metadata": {
        "id": "hhZxr5x0Qnod",
        "colab_type": "code",
        "colab": {}
      },
      "source": [
        "# d = df['LuckyNo'].astype(str)"
      ],
      "execution_count": 0,
      "outputs": []
    },
    {
      "cell_type": "code",
      "metadata": {
        "id": "E-cTsfHxQnof",
        "colab_type": "code",
        "colab": {}
      },
      "source": [
        "# x, y = ecdf(d)\n",
        "# plt.plot(x, y, marker = '.')\n",
        "# plt.xlabel('Lucky No'); plt.ylabel('Percentile'); plt.title('ECDF of Lucky No');"
      ],
      "execution_count": 0,
      "outputs": []
    },
    {
      "cell_type": "markdown",
      "metadata": {
        "id": "emOJwpx_Qnoi",
        "colab_type": "text"
      },
      "source": [
        "### Generate new features"
      ]
    },
    {
      "cell_type": "code",
      "metadata": {
        "id": "5LClHTifQnoi",
        "colab_type": "code",
        "colab": {}
      },
      "source": [
        "#df = df.reset_index()"
      ],
      "execution_count": 0,
      "outputs": []
    },
    {
      "cell_type": "code",
      "metadata": {
        "id": "YV7jk8ZDQnol",
        "colab_type": "code",
        "outputId": "d1a506f3-2f2f-4297-ab0c-c2e61ca37e36",
        "colab": {
          "base_uri": "https://localhost:8080/",
          "height": 352
        }
      },
      "source": [
        "#df.rename(columns={\"index\": \"instance_id\"}, inplace=True)\n",
        "df.head(10)"
      ],
      "execution_count": 33,
      "outputs": [
        {
          "output_type": "execute_result",
          "data": {
            "text/html": [
              "<div>\n",
              "<style scoped>\n",
              "    .dataframe tbody tr th:only-of-type {\n",
              "        vertical-align: middle;\n",
              "    }\n",
              "\n",
              "    .dataframe tbody tr th {\n",
              "        vertical-align: top;\n",
              "    }\n",
              "\n",
              "    .dataframe thead th {\n",
              "        text-align: right;\n",
              "    }\n",
              "</style>\n",
              "<table border=\"1\" class=\"dataframe\">\n",
              "  <thead>\n",
              "    <tr style=\"text-align: right;\">\n",
              "      <th></th>\n",
              "      <th>number_id</th>\n",
              "      <th>draw_no</th>\n",
              "      <th>draw_date</th>\n",
              "      <th>prize_type</th>\n",
              "      <th>lucky_no</th>\n",
              "    </tr>\n",
              "  </thead>\n",
              "  <tbody>\n",
              "    <tr>\n",
              "      <th>0</th>\n",
              "      <td>19</td>\n",
              "      <td>40792</td>\n",
              "      <td>1992-05-06</td>\n",
              "      <td>1stPrizeNo</td>\n",
              "      <td>19</td>\n",
              "    </tr>\n",
              "    <tr>\n",
              "      <th>1</th>\n",
              "      <td>1124</td>\n",
              "      <td>40792</td>\n",
              "      <td>1992-05-06</td>\n",
              "      <td>2ndPrizeNo</td>\n",
              "      <td>1124</td>\n",
              "    </tr>\n",
              "    <tr>\n",
              "      <th>2</th>\n",
              "      <td>592</td>\n",
              "      <td>40792</td>\n",
              "      <td>1992-05-06</td>\n",
              "      <td>3rdPrizeNo</td>\n",
              "      <td>592</td>\n",
              "    </tr>\n",
              "    <tr>\n",
              "      <th>3</th>\n",
              "      <td>5311</td>\n",
              "      <td>40792</td>\n",
              "      <td>1992-05-06</td>\n",
              "      <td>ConsolationNo1</td>\n",
              "      <td>5311</td>\n",
              "    </tr>\n",
              "    <tr>\n",
              "      <th>4</th>\n",
              "      <td>407</td>\n",
              "      <td>40792</td>\n",
              "      <td>1992-05-06</td>\n",
              "      <td>ConsolationNo10</td>\n",
              "      <td>407</td>\n",
              "    </tr>\n",
              "    <tr>\n",
              "      <th>5</th>\n",
              "      <td>1949</td>\n",
              "      <td>40792</td>\n",
              "      <td>1992-05-06</td>\n",
              "      <td>ConsolationNo2</td>\n",
              "      <td>1949</td>\n",
              "    </tr>\n",
              "    <tr>\n",
              "      <th>6</th>\n",
              "      <td>1606</td>\n",
              "      <td>40792</td>\n",
              "      <td>1992-05-06</td>\n",
              "      <td>ConsolationNo3</td>\n",
              "      <td>1606</td>\n",
              "    </tr>\n",
              "    <tr>\n",
              "      <th>7</th>\n",
              "      <td>3775</td>\n",
              "      <td>40792</td>\n",
              "      <td>1992-05-06</td>\n",
              "      <td>ConsolationNo4</td>\n",
              "      <td>3775</td>\n",
              "    </tr>\n",
              "    <tr>\n",
              "      <th>8</th>\n",
              "      <td>6226</td>\n",
              "      <td>40792</td>\n",
              "      <td>1992-05-06</td>\n",
              "      <td>ConsolationNo5</td>\n",
              "      <td>6226</td>\n",
              "    </tr>\n",
              "    <tr>\n",
              "      <th>9</th>\n",
              "      <td>1271</td>\n",
              "      <td>40792</td>\n",
              "      <td>1992-05-06</td>\n",
              "      <td>ConsolationNo6</td>\n",
              "      <td>1271</td>\n",
              "    </tr>\n",
              "  </tbody>\n",
              "</table>\n",
              "</div>"
            ],
            "text/plain": [
              "   number_id  draw_no  draw_date       prize_type  lucky_no\n",
              "0         19    40792 1992-05-06       1stPrizeNo        19\n",
              "1       1124    40792 1992-05-06       2ndPrizeNo      1124\n",
              "2        592    40792 1992-05-06       3rdPrizeNo       592\n",
              "3       5311    40792 1992-05-06   ConsolationNo1      5311\n",
              "4        407    40792 1992-05-06  ConsolationNo10       407\n",
              "5       1949    40792 1992-05-06   ConsolationNo2      1949\n",
              "6       1606    40792 1992-05-06   ConsolationNo3      1606\n",
              "7       3775    40792 1992-05-06   ConsolationNo4      3775\n",
              "8       6226    40792 1992-05-06   ConsolationNo5      6226\n",
              "9       1271    40792 1992-05-06   ConsolationNo6      1271"
            ]
          },
          "metadata": {
            "tags": []
          },
          "execution_count": 33
        }
      ]
    },
    {
      "cell_type": "code",
      "metadata": {
        "id": "KE3BfV7wQno2",
        "colab_type": "code",
        "colab": {}
      },
      "source": [
        "es = ft.EntitySet(id=\"Results\")"
      ],
      "execution_count": 0,
      "outputs": []
    },
    {
      "cell_type": "code",
      "metadata": {
        "id": "pzk-uwxEQno4",
        "colab_type": "code",
        "outputId": "94faa39d-5b0d-4786-a4af-ebb61111b1d6",
        "colab": {
          "base_uri": "https://localhost:8080/",
          "height": 212
        }
      },
      "source": [
        "# Add the entire data table as an entity\n",
        "es.entity_from_dataframe(\"results\",\n",
        "                         dataframe=df,\n",
        "                         index=\"results_index\",\n",
        "                         time_index = 'draw_date')\n",
        "\n",
        "es['results']"
      ],
      "execution_count": 35,
      "outputs": [
        {
          "output_type": "stream",
          "text": [
            "2019-10-14 07:06:33,882 featuretools.entityset - WARNING    index results_index not found in dataframe, creating new integer column\n"
          ],
          "name": "stdout"
        },
        {
          "output_type": "execute_result",
          "data": {
            "text/plain": [
              "Entity: results\n",
              "  Variables:\n",
              "    results_index (dtype: index)\n",
              "    number_id (dtype: numeric)\n",
              "    draw_no (dtype: numeric)\n",
              "    draw_date (dtype: datetime_time_index)\n",
              "    prize_type (dtype: categorical)\n",
              "    lucky_no (dtype: numeric)\n",
              "  Shape:\n",
              "    (Rows: 104673, Columns: 6)"
            ]
          },
          "metadata": {
            "tags": []
          },
          "execution_count": 35
        }
      ]
    },
    {
      "cell_type": "code",
      "metadata": {
        "id": "bikjREJCQno6",
        "colab_type": "code",
        "outputId": "578900ae-f0e4-44f6-9887-d77613343426",
        "colab": {
          "base_uri": "https://localhost:8080/",
          "height": 200
        }
      },
      "source": [
        "# Create a new entity\n",
        "es.normalize_entity(new_entity_id=\"numbers\",\n",
        "                    base_entity_id=\"results\",\n",
        "                    index=\"number_id\",\n",
        "                    additional_variables=[\"lucky_no\"])\n",
        "es['numbers'].df.head()"
      ],
      "execution_count": 36,
      "outputs": [
        {
          "output_type": "execute_result",
          "data": {
            "text/html": [
              "<div>\n",
              "<style scoped>\n",
              "    .dataframe tbody tr th:only-of-type {\n",
              "        vertical-align: middle;\n",
              "    }\n",
              "\n",
              "    .dataframe tbody tr th {\n",
              "        vertical-align: top;\n",
              "    }\n",
              "\n",
              "    .dataframe thead th {\n",
              "        text-align: right;\n",
              "    }\n",
              "</style>\n",
              "<table border=\"1\" class=\"dataframe\">\n",
              "  <thead>\n",
              "    <tr style=\"text-align: right;\">\n",
              "      <th></th>\n",
              "      <th>number_id</th>\n",
              "      <th>lucky_no</th>\n",
              "      <th>first_results_time</th>\n",
              "    </tr>\n",
              "  </thead>\n",
              "  <tbody>\n",
              "    <tr>\n",
              "      <th>19</th>\n",
              "      <td>19</td>\n",
              "      <td>19</td>\n",
              "      <td>1992-05-06</td>\n",
              "    </tr>\n",
              "    <tr>\n",
              "      <th>1124</th>\n",
              "      <td>1124</td>\n",
              "      <td>1124</td>\n",
              "      <td>1992-05-06</td>\n",
              "    </tr>\n",
              "    <tr>\n",
              "      <th>592</th>\n",
              "      <td>592</td>\n",
              "      <td>592</td>\n",
              "      <td>1992-05-06</td>\n",
              "    </tr>\n",
              "    <tr>\n",
              "      <th>5311</th>\n",
              "      <td>5311</td>\n",
              "      <td>5311</td>\n",
              "      <td>1992-05-06</td>\n",
              "    </tr>\n",
              "    <tr>\n",
              "      <th>407</th>\n",
              "      <td>407</td>\n",
              "      <td>407</td>\n",
              "      <td>1992-05-06</td>\n",
              "    </tr>\n",
              "  </tbody>\n",
              "</table>\n",
              "</div>"
            ],
            "text/plain": [
              "      number_id  lucky_no first_results_time\n",
              "19           19        19         1992-05-06\n",
              "1124       1124      1124         1992-05-06\n",
              "592         592       592         1992-05-06\n",
              "5311       5311      5311         1992-05-06\n",
              "407         407       407         1992-05-06"
            ]
          },
          "metadata": {
            "tags": []
          },
          "execution_count": 36
        }
      ]
    },
    {
      "cell_type": "code",
      "metadata": {
        "id": "UMz5KeRXLcgN",
        "colab_type": "code",
        "outputId": "28b3f274-4d20-4485-ec0d-fb60c8488c04",
        "colab": {
          "base_uri": "https://localhost:8080/",
          "height": 35
        }
      },
      "source": [
        "es['numbers'].df.shape"
      ],
      "execution_count": 37,
      "outputs": [
        {
          "output_type": "execute_result",
          "data": {
            "text/plain": [
              "(10000, 3)"
            ]
          },
          "metadata": {
            "tags": []
          },
          "execution_count": 37
        }
      ]
    },
    {
      "cell_type": "code",
      "metadata": {
        "id": "zj64nCmaQno8",
        "colab_type": "code",
        "outputId": "1efbdd54-842f-41e1-e030-62c5d33e6f79",
        "colab": {
          "base_uri": "https://localhost:8080/",
          "height": 352
        }
      },
      "source": [
        "es['results'].df.head(10)"
      ],
      "execution_count": 38,
      "outputs": [
        {
          "output_type": "execute_result",
          "data": {
            "text/html": [
              "<div>\n",
              "<style scoped>\n",
              "    .dataframe tbody tr th:only-of-type {\n",
              "        vertical-align: middle;\n",
              "    }\n",
              "\n",
              "    .dataframe tbody tr th {\n",
              "        vertical-align: top;\n",
              "    }\n",
              "\n",
              "    .dataframe thead th {\n",
              "        text-align: right;\n",
              "    }\n",
              "</style>\n",
              "<table border=\"1\" class=\"dataframe\">\n",
              "  <thead>\n",
              "    <tr style=\"text-align: right;\">\n",
              "      <th></th>\n",
              "      <th>results_index</th>\n",
              "      <th>number_id</th>\n",
              "      <th>draw_no</th>\n",
              "      <th>draw_date</th>\n",
              "      <th>prize_type</th>\n",
              "    </tr>\n",
              "  </thead>\n",
              "  <tbody>\n",
              "    <tr>\n",
              "      <th>0</th>\n",
              "      <td>0</td>\n",
              "      <td>19</td>\n",
              "      <td>40792</td>\n",
              "      <td>1992-05-06</td>\n",
              "      <td>1stPrizeNo</td>\n",
              "    </tr>\n",
              "    <tr>\n",
              "      <th>1</th>\n",
              "      <td>1</td>\n",
              "      <td>1124</td>\n",
              "      <td>40792</td>\n",
              "      <td>1992-05-06</td>\n",
              "      <td>2ndPrizeNo</td>\n",
              "    </tr>\n",
              "    <tr>\n",
              "      <th>2</th>\n",
              "      <td>2</td>\n",
              "      <td>592</td>\n",
              "      <td>40792</td>\n",
              "      <td>1992-05-06</td>\n",
              "      <td>3rdPrizeNo</td>\n",
              "    </tr>\n",
              "    <tr>\n",
              "      <th>3</th>\n",
              "      <td>3</td>\n",
              "      <td>5311</td>\n",
              "      <td>40792</td>\n",
              "      <td>1992-05-06</td>\n",
              "      <td>ConsolationNo1</td>\n",
              "    </tr>\n",
              "    <tr>\n",
              "      <th>4</th>\n",
              "      <td>4</td>\n",
              "      <td>407</td>\n",
              "      <td>40792</td>\n",
              "      <td>1992-05-06</td>\n",
              "      <td>ConsolationNo10</td>\n",
              "    </tr>\n",
              "    <tr>\n",
              "      <th>5</th>\n",
              "      <td>5</td>\n",
              "      <td>1949</td>\n",
              "      <td>40792</td>\n",
              "      <td>1992-05-06</td>\n",
              "      <td>ConsolationNo2</td>\n",
              "    </tr>\n",
              "    <tr>\n",
              "      <th>6</th>\n",
              "      <td>6</td>\n",
              "      <td>1606</td>\n",
              "      <td>40792</td>\n",
              "      <td>1992-05-06</td>\n",
              "      <td>ConsolationNo3</td>\n",
              "    </tr>\n",
              "    <tr>\n",
              "      <th>7</th>\n",
              "      <td>7</td>\n",
              "      <td>3775</td>\n",
              "      <td>40792</td>\n",
              "      <td>1992-05-06</td>\n",
              "      <td>ConsolationNo4</td>\n",
              "    </tr>\n",
              "    <tr>\n",
              "      <th>8</th>\n",
              "      <td>8</td>\n",
              "      <td>6226</td>\n",
              "      <td>40792</td>\n",
              "      <td>1992-05-06</td>\n",
              "      <td>ConsolationNo5</td>\n",
              "    </tr>\n",
              "    <tr>\n",
              "      <th>9</th>\n",
              "      <td>9</td>\n",
              "      <td>1271</td>\n",
              "      <td>40792</td>\n",
              "      <td>1992-05-06</td>\n",
              "      <td>ConsolationNo6</td>\n",
              "    </tr>\n",
              "  </tbody>\n",
              "</table>\n",
              "</div>"
            ],
            "text/plain": [
              "   results_index  number_id  draw_no  draw_date       prize_type\n",
              "0              0         19    40792 1992-05-06       1stPrizeNo\n",
              "1              1       1124    40792 1992-05-06       2ndPrizeNo\n",
              "2              2        592    40792 1992-05-06       3rdPrizeNo\n",
              "3              3       5311    40792 1992-05-06   ConsolationNo1\n",
              "4              4        407    40792 1992-05-06  ConsolationNo10\n",
              "5              5       1949    40792 1992-05-06   ConsolationNo2\n",
              "6              6       1606    40792 1992-05-06   ConsolationNo3\n",
              "7              7       3775    40792 1992-05-06   ConsolationNo4\n",
              "8              8       6226    40792 1992-05-06   ConsolationNo5\n",
              "9              9       1271    40792 1992-05-06   ConsolationNo6"
            ]
          },
          "metadata": {
            "tags": []
          },
          "execution_count": 38
        }
      ]
    },
    {
      "cell_type": "code",
      "metadata": {
        "id": "AWUv2rqpQno_",
        "colab_type": "code",
        "outputId": "3f7e273a-df71-438f-9499-d64f7f67101e",
        "colab": {
          "base_uri": "https://localhost:8080/",
          "height": 78
        }
      },
      "source": [
        "es['numbers'].df.loc[lambda df: df['lucky_no'] == 19].head()"
      ],
      "execution_count": 39,
      "outputs": [
        {
          "output_type": "execute_result",
          "data": {
            "text/html": [
              "<div>\n",
              "<style scoped>\n",
              "    .dataframe tbody tr th:only-of-type {\n",
              "        vertical-align: middle;\n",
              "    }\n",
              "\n",
              "    .dataframe tbody tr th {\n",
              "        vertical-align: top;\n",
              "    }\n",
              "\n",
              "    .dataframe thead th {\n",
              "        text-align: right;\n",
              "    }\n",
              "</style>\n",
              "<table border=\"1\" class=\"dataframe\">\n",
              "  <thead>\n",
              "    <tr style=\"text-align: right;\">\n",
              "      <th></th>\n",
              "      <th>number_id</th>\n",
              "      <th>lucky_no</th>\n",
              "      <th>first_results_time</th>\n",
              "    </tr>\n",
              "  </thead>\n",
              "  <tbody>\n",
              "    <tr>\n",
              "      <th>19</th>\n",
              "      <td>19</td>\n",
              "      <td>19</td>\n",
              "      <td>1992-05-06</td>\n",
              "    </tr>\n",
              "  </tbody>\n",
              "</table>\n",
              "</div>"
            ],
            "text/plain": [
              "    number_id  lucky_no first_results_time\n",
              "19         19        19         1992-05-06"
            ]
          },
          "metadata": {
            "tags": []
          },
          "execution_count": 39
        }
      ]
    },
    {
      "cell_type": "code",
      "metadata": {
        "id": "3MpuagTLQnpB",
        "colab_type": "code",
        "outputId": "7fd0735e-ce5d-4ff1-f8b6-daf3dd04371a",
        "colab": {
          "base_uri": "https://localhost:8080/",
          "height": 200
        }
      },
      "source": [
        "es['results'].df.loc[lambda df: df['number_id'] == 19].head()"
      ],
      "execution_count": 40,
      "outputs": [
        {
          "output_type": "execute_result",
          "data": {
            "text/html": [
              "<div>\n",
              "<style scoped>\n",
              "    .dataframe tbody tr th:only-of-type {\n",
              "        vertical-align: middle;\n",
              "    }\n",
              "\n",
              "    .dataframe tbody tr th {\n",
              "        vertical-align: top;\n",
              "    }\n",
              "\n",
              "    .dataframe thead th {\n",
              "        text-align: right;\n",
              "    }\n",
              "</style>\n",
              "<table border=\"1\" class=\"dataframe\">\n",
              "  <thead>\n",
              "    <tr style=\"text-align: right;\">\n",
              "      <th></th>\n",
              "      <th>results_index</th>\n",
              "      <th>number_id</th>\n",
              "      <th>draw_no</th>\n",
              "      <th>draw_date</th>\n",
              "      <th>prize_type</th>\n",
              "    </tr>\n",
              "  </thead>\n",
              "  <tbody>\n",
              "    <tr>\n",
              "      <th>0</th>\n",
              "      <td>0</td>\n",
              "      <td>19</td>\n",
              "      <td>40792</td>\n",
              "      <td>1992-05-06</td>\n",
              "      <td>1stPrizeNo</td>\n",
              "    </tr>\n",
              "    <tr>\n",
              "      <th>297</th>\n",
              "      <td>297</td>\n",
              "      <td>19</td>\n",
              "      <td>41992</td>\n",
              "      <td>1992-06-03</td>\n",
              "      <td>SpecialNo8</td>\n",
              "    </tr>\n",
              "    <tr>\n",
              "      <th>10813</th>\n",
              "      <td>10813</td>\n",
              "      <td>19</td>\n",
              "      <td>87795</td>\n",
              "      <td>1995-05-06</td>\n",
              "      <td>ConsolationNo1</td>\n",
              "    </tr>\n",
              "    <tr>\n",
              "      <th>11566</th>\n",
              "      <td>11566</td>\n",
              "      <td>19</td>\n",
              "      <td>90995</td>\n",
              "      <td>1995-07-19</td>\n",
              "      <td>SpecialNo7</td>\n",
              "    </tr>\n",
              "    <tr>\n",
              "      <th>14844</th>\n",
              "      <td>14844</td>\n",
              "      <td>19</td>\n",
              "      <td>105296</td>\n",
              "      <td>1996-06-16</td>\n",
              "      <td>ConsolationNo6</td>\n",
              "    </tr>\n",
              "  </tbody>\n",
              "</table>\n",
              "</div>"
            ],
            "text/plain": [
              "       results_index  number_id  draw_no  draw_date      prize_type\n",
              "0                  0         19    40792 1992-05-06      1stPrizeNo\n",
              "297              297         19    41992 1992-06-03      SpecialNo8\n",
              "10813          10813         19    87795 1995-05-06  ConsolationNo1\n",
              "11566          11566         19    90995 1995-07-19      SpecialNo7\n",
              "14844          14844         19   105296 1996-06-16  ConsolationNo6"
            ]
          },
          "metadata": {
            "tags": []
          },
          "execution_count": 40
        }
      ]
    },
    {
      "cell_type": "code",
      "metadata": {
        "id": "x4QY3nTXQnpD",
        "colab_type": "code",
        "outputId": "18d7f8c1-c5ef-4526-e07e-80ad321f7240",
        "colab": {
          "base_uri": "https://localhost:8080/",
          "height": 124
        }
      },
      "source": [
        "es"
      ],
      "execution_count": 41,
      "outputs": [
        {
          "output_type": "execute_result",
          "data": {
            "text/plain": [
              "Entityset: Results\n",
              "  Entities:\n",
              "    results [Rows: 104673, Columns: 5]\n",
              "    numbers [Rows: 10000, Columns: 3]\n",
              "  Relationships:\n",
              "    results.number_id -> numbers.number_id"
            ]
          },
          "metadata": {
            "tags": []
          },
          "execution_count": 41
        }
      ]
    },
    {
      "cell_type": "markdown",
      "metadata": {
        "id": "vqaB8vmnQnpF",
        "colab_type": "text"
      },
      "source": [
        "#### Generate features"
      ]
    },
    {
      "cell_type": "code",
      "metadata": {
        "id": "dS3UxIjVPT3o",
        "colab_type": "code",
        "outputId": "34ea212a-ac17-47ba-8b70-64785294ac71",
        "colab": {
          "base_uri": "https://localhost:8080/",
          "height": 78
        }
      },
      "source": [
        "labels[labels.isnull().any(axis=1)].head()"
      ],
      "execution_count": 42,
      "outputs": [
        {
          "output_type": "execute_result",
          "data": {
            "text/html": [
              "<div>\n",
              "<style scoped>\n",
              "    .dataframe tbody tr th:only-of-type {\n",
              "        vertical-align: middle;\n",
              "    }\n",
              "\n",
              "    .dataframe tbody tr th {\n",
              "        vertical-align: top;\n",
              "    }\n",
              "\n",
              "    .dataframe thead th {\n",
              "        text-align: right;\n",
              "    }\n",
              "</style>\n",
              "<table border=\"1\" class=\"dataframe\">\n",
              "  <thead>\n",
              "    <tr style=\"text-align: right;\">\n",
              "      <th></th>\n",
              "      <th>number_id</th>\n",
              "      <th>cutoff_time</th>\n",
              "      <th>lucky_no</th>\n",
              "      <th>label</th>\n",
              "    </tr>\n",
              "  </thead>\n",
              "  <tbody>\n",
              "    <tr>\n",
              "      <th>9659594</th>\n",
              "      <td>NaN</td>\n",
              "      <td>NaT</td>\n",
              "      <td>NaN</td>\n",
              "      <td>NaN</td>\n",
              "    </tr>\n",
              "  </tbody>\n",
              "</table>\n",
              "</div>"
            ],
            "text/plain": [
              "         number_id cutoff_time  lucky_no  label\n",
              "9659594        NaN         NaT       NaN    NaN"
            ]
          },
          "metadata": {
            "tags": []
          },
          "execution_count": 42
        }
      ]
    },
    {
      "cell_type": "code",
      "metadata": {
        "id": "meaDqzIwKfnv",
        "colab_type": "code",
        "colab": {
          "base_uri": "https://localhost:8080/",
          "height": 106
        },
        "outputId": "76495ecd-5d2e-47b5-e216-2900c69b4531"
      },
      "source": [
        "labels.isnull().sum()"
      ],
      "execution_count": 43,
      "outputs": [
        {
          "output_type": "execute_result",
          "data": {
            "text/plain": [
              "number_id      1\n",
              "cutoff_time    1\n",
              "lucky_no       1\n",
              "label          1\n",
              "dtype: int64"
            ]
          },
          "metadata": {
            "tags": []
          },
          "execution_count": 43
        }
      ]
    },
    {
      "cell_type": "code",
      "metadata": {
        "id": "LCWw0mBrK6b0",
        "colab_type": "code",
        "colab": {
          "base_uri": "https://localhost:8080/",
          "height": 106
        },
        "outputId": "cb2b7b23-1a8e-4757-b2b4-07abb321e3f0"
      },
      "source": [
        "labels.isna().any(axis=0)"
      ],
      "execution_count": 44,
      "outputs": [
        {
          "output_type": "execute_result",
          "data": {
            "text/plain": [
              "number_id      True\n",
              "cutoff_time    True\n",
              "lucky_no       True\n",
              "label          True\n",
              "dtype: bool"
            ]
          },
          "metadata": {
            "tags": []
          },
          "execution_count": 44
        }
      ]
    },
    {
      "cell_type": "code",
      "metadata": {
        "id": "iGAgSkKZPfHL",
        "colab_type": "code",
        "outputId": "32763c7d-2076-4989-c0ef-fe439fb701d0",
        "colab": {
          "base_uri": "https://localhost:8080/",
          "height": 35
        }
      },
      "source": [
        "labels.shape"
      ],
      "execution_count": 45,
      "outputs": [
        {
          "output_type": "execute_result",
          "data": {
            "text/plain": [
              "(9659595, 4)"
            ]
          },
          "metadata": {
            "tags": []
          },
          "execution_count": 45
        }
      ]
    },
    {
      "cell_type": "code",
      "metadata": {
        "id": "vGwz8_okPi0P",
        "colab_type": "code",
        "colab": {}
      },
      "source": [
        "labels = labels.dropna(axis=0)"
      ],
      "execution_count": 0,
      "outputs": []
    },
    {
      "cell_type": "code",
      "metadata": {
        "id": "cUraprSiPjRf",
        "colab_type": "code",
        "outputId": "3267ae8f-4f0b-4af5-9b1a-fcccb5f1a55f",
        "colab": {
          "base_uri": "https://localhost:8080/",
          "height": 35
        }
      },
      "source": [
        "labels.shape"
      ],
      "execution_count": 47,
      "outputs": [
        {
          "output_type": "execute_result",
          "data": {
            "text/plain": [
              "(9659594, 4)"
            ]
          },
          "metadata": {
            "tags": []
          },
          "execution_count": 47
        }
      ]
    },
    {
      "cell_type": "code",
      "metadata": {
        "id": "_kl1X5RFOiDj",
        "colab_type": "code",
        "colab": {}
      },
      "source": [
        "labels['number_id'] = labels['number_id'].astype(int)"
      ],
      "execution_count": 0,
      "outputs": []
    },
    {
      "cell_type": "code",
      "metadata": {
        "id": "dnvYGzHuPiCS",
        "colab_type": "code",
        "outputId": "e4624b54-3dcb-4d52-f494-7671a505b3a3",
        "colab": {
          "base_uri": "https://localhost:8080/",
          "height": 106
        }
      },
      "source": [
        "labels.dtypes"
      ],
      "execution_count": 49,
      "outputs": [
        {
          "output_type": "execute_result",
          "data": {
            "text/plain": [
              "number_id               int64\n",
              "cutoff_time    datetime64[ns]\n",
              "lucky_no              float64\n",
              "label                 float64\n",
              "dtype: object"
            ]
          },
          "metadata": {
            "tags": []
          },
          "execution_count": 49
        }
      ]
    },
    {
      "cell_type": "code",
      "metadata": {
        "id": "Jo6zAfmrNVlQ",
        "colab_type": "code",
        "outputId": "dd61aef0-7e13-4c74-8042-66ae13c0f7ca",
        "colab": {
          "base_uri": "https://localhost:8080/",
          "height": 139
        }
      },
      "source": [
        "labels.head(3)"
      ],
      "execution_count": 50,
      "outputs": [
        {
          "output_type": "execute_result",
          "data": {
            "text/html": [
              "<div>\n",
              "<style scoped>\n",
              "    .dataframe tbody tr th:only-of-type {\n",
              "        vertical-align: middle;\n",
              "    }\n",
              "\n",
              "    .dataframe tbody tr th {\n",
              "        vertical-align: top;\n",
              "    }\n",
              "\n",
              "    .dataframe thead th {\n",
              "        text-align: right;\n",
              "    }\n",
              "</style>\n",
              "<table border=\"1\" class=\"dataframe\">\n",
              "  <thead>\n",
              "    <tr style=\"text-align: right;\">\n",
              "      <th></th>\n",
              "      <th>number_id</th>\n",
              "      <th>cutoff_time</th>\n",
              "      <th>lucky_no</th>\n",
              "      <th>label</th>\n",
              "    </tr>\n",
              "  </thead>\n",
              "  <tbody>\n",
              "    <tr>\n",
              "      <th>0</th>\n",
              "      <td>19</td>\n",
              "      <td>2014-01-01</td>\n",
              "      <td>19.0</td>\n",
              "      <td>0.0</td>\n",
              "    </tr>\n",
              "    <tr>\n",
              "      <th>1</th>\n",
              "      <td>1124</td>\n",
              "      <td>2014-01-01</td>\n",
              "      <td>1124.0</td>\n",
              "      <td>0.0</td>\n",
              "    </tr>\n",
              "    <tr>\n",
              "      <th>2</th>\n",
              "      <td>592</td>\n",
              "      <td>2014-01-01</td>\n",
              "      <td>592.0</td>\n",
              "      <td>0.0</td>\n",
              "    </tr>\n",
              "  </tbody>\n",
              "</table>\n",
              "</div>"
            ],
            "text/plain": [
              "   number_id cutoff_time  lucky_no  label\n",
              "0         19  2014-01-01      19.0    0.0\n",
              "1       1124  2014-01-01    1124.0    0.0\n",
              "2        592  2014-01-01     592.0    0.0"
            ]
          },
          "metadata": {
            "tags": []
          },
          "execution_count": 50
        }
      ]
    },
    {
      "cell_type": "code",
      "metadata": {
        "id": "jFib8kWZOhSA",
        "colab_type": "code",
        "colab": {}
      },
      "source": [
        ""
      ],
      "execution_count": 0,
      "outputs": []
    },
    {
      "cell_type": "code",
      "metadata": {
        "id": "ASQJn7CeQnpG",
        "colab_type": "code",
        "outputId": "b05a9f34-99df-4df3-fcdd-9ed9e83d1b3c",
        "colab": {
          "base_uri": "https://localhost:8080/",
          "height": 52
        }
      },
      "source": [
        "feature_matrix, feature_names = ft.dfs(entityset=es, target_entity='numbers',\n",
        "                                       cutoff_time = labels, verbose = 2,\n",
        "                                       cutoff_time_in_index = True,\n",
        "                                       chunk_size = len(labels), n_jobs = -1,\n",
        "                                       max_depth = 1)"
      ],
      "execution_count": 0,
      "outputs": [
        {
          "output_type": "stream",
          "text": [
            "Built 14 features\n",
            "Elapsed: 00:00 | Progress:   0%|          "
          ],
          "name": "stdout"
        }
      ]
    },
    {
      "cell_type": "code",
      "metadata": {
        "id": "RTtJGyfDQnpJ",
        "colab_type": "code",
        "colab": {}
      },
      "source": [
        "feature_matrix.head(50)"
      ],
      "execution_count": 0,
      "outputs": []
    },
    {
      "cell_type": "code",
      "metadata": {
        "id": "3hydhdP2QnpM",
        "colab_type": "code",
        "colab": {}
      },
      "source": [
        ""
      ],
      "execution_count": 0,
      "outputs": []
    }
  ]
}
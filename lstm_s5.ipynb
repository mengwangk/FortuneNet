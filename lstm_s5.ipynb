{
 "cells": [
  {
   "cell_type": "code",
   "execution_count": 113,
   "metadata": {},
   "outputs": [],
   "source": [
    "# To support both python 2 and python 3\n",
    "from __future__ import division, print_function, unicode_literals\n",
    "\n",
    "# Common imports\n",
    "import numpy as np\n",
    "import os\n",
    "import pandas as pd\n",
    "import io\n",
    "\n",
    "from pathlib import Path\n",
    "\n",
    "# To plot pretty figures\n",
    "%matplotlib inline\n",
    "import matplotlib\n",
    "import matplotlib.pyplot as plt\n",
    "plt.rcParams['axes.labelsize'] = 14\n",
    "plt.rcParams['xtick.labelsize'] = 12\n",
    "plt.rcParams['ytick.labelsize'] = 12\n",
    "\n",
    "# Ignore useless warnings (see SciPy issue #5998)\n",
    "import warnings\n",
    "warnings.filterwarnings(action=\"ignore\", module=\"scipy\", message=\"^internal gelsd\")\n",
    "\n",
    "from IPython.display import display\n",
    "pd.options.display.max_columns = 50\n",
    "pd.options.display.html.table_schema = True"
   ]
  },
  {
   "cell_type": "markdown",
   "metadata": {},
   "source": [
    "## Preprocessing"
   ]
  },
  {
   "cell_type": "code",
   "execution_count": 124,
   "metadata": {},
   "outputs": [
    {
     "data": {
      "application/vnd.dataresource+json": {
       "data": [
        {
         "Change %": "0.00%",
         "Close": 8.72,
         "Date": "2011-09-02T00:00:00.000Z",
         "High": 9,
         "Low": 8.69,
         "Open": 9,
         "Vol.": "12.92M"
        },
        {
         "Change %": "0.11%",
         "Close": 8.73,
         "Date": "2011-09-05T00:00:00.000Z",
         "High": 8.75,
         "Low": 8.7,
         "Open": 8.72,
         "Vol.": "12.39M"
        },
        {
         "Change %": "-0.57%",
         "Close": 8.68,
         "Date": "2011-09-06T00:00:00.000Z",
         "High": 8.72,
         "Low": 8.68,
         "Open": 8.72,
         "Vol.": "11.48M"
        },
        {
         "Change %": "-0.12%",
         "Close": 8.67,
         "Date": "2011-09-07T00:00:00.000Z",
         "High": 8.7,
         "Low": 8.64,
         "Open": 8.7,
         "Vol.": "5.73M"
        },
        {
         "Change %": "0.23%",
         "Close": 8.69,
         "Date": "2011-09-08T00:00:00.000Z",
         "High": 8.74,
         "Low": 8.67,
         "Open": 8.71,
         "Vol.": "4.69M"
        },
        {
         "Change %": "0.00%",
         "Close": 8.69,
         "Date": "2011-09-09T00:00:00.000Z",
         "High": 8.7,
         "Low": 8.68,
         "Open": 8.7,
         "Vol.": "5.09M"
        },
        {
         "Change %": "-0.92%",
         "Close": 8.61,
         "Date": "2011-09-12T00:00:00.000Z",
         "High": 8.68,
         "Low": 8.55,
         "Open": 8.65,
         "Vol.": "8.59M"
        },
        {
         "Change %": "-0.12%",
         "Close": 8.6,
         "Date": "2011-09-13T00:00:00.000Z",
         "High": 8.61,
         "Low": 8.55,
         "Open": 8.58,
         "Vol.": "3.62M"
        },
        {
         "Change %": "0.00%",
         "Close": 8.6,
         "Date": "2011-09-14T00:00:00.000Z",
         "High": 8.64,
         "Low": 8.57,
         "Open": 8.64,
         "Vol.": "10.24M"
        },
        {
         "Change %": "-0.12%",
         "Close": 8.59,
         "Date": "2011-09-15T00:00:00.000Z",
         "High": 8.62,
         "Low": 8.57,
         "Open": 8.62,
         "Vol.": "7.59M"
        }
       ],
       "schema": {
        "fields": [
         {
          "name": "Date",
          "type": "datetime"
         },
         {
          "name": "Close",
          "type": "number"
         },
         {
          "name": "Open",
          "type": "number"
         },
         {
          "name": "High",
          "type": "number"
         },
         {
          "name": "Low",
          "type": "number"
         },
         {
          "name": "Vol.",
          "type": "string"
         },
         {
          "name": "Change %",
          "type": "string"
         }
        ],
        "pandas_version": "0.20.0",
        "primaryKey": [
         "Date"
        ]
       }
      },
      "text/html": [
       "<div>\n",
       "<style scoped>\n",
       "    .dataframe tbody tr th:only-of-type {\n",
       "        vertical-align: middle;\n",
       "    }\n",
       "\n",
       "    .dataframe tbody tr th {\n",
       "        vertical-align: top;\n",
       "    }\n",
       "\n",
       "    .dataframe thead th {\n",
       "        text-align: right;\n",
       "    }\n",
       "</style>\n",
       "<table border=\"1\" class=\"dataframe\">\n",
       "  <thead>\n",
       "    <tr style=\"text-align: right;\">\n",
       "      <th></th>\n",
       "      <th>Close</th>\n",
       "      <th>Open</th>\n",
       "      <th>High</th>\n",
       "      <th>Low</th>\n",
       "      <th>Vol.</th>\n",
       "      <th>Change %</th>\n",
       "    </tr>\n",
       "    <tr>\n",
       "      <th>Date</th>\n",
       "      <th></th>\n",
       "      <th></th>\n",
       "      <th></th>\n",
       "      <th></th>\n",
       "      <th></th>\n",
       "      <th></th>\n",
       "    </tr>\n",
       "  </thead>\n",
       "  <tbody>\n",
       "    <tr>\n",
       "      <th>2011-09-02</th>\n",
       "      <td>8.72</td>\n",
       "      <td>9.00</td>\n",
       "      <td>9.00</td>\n",
       "      <td>8.69</td>\n",
       "      <td>12.92M</td>\n",
       "      <td>0.00%</td>\n",
       "    </tr>\n",
       "    <tr>\n",
       "      <th>2011-09-05</th>\n",
       "      <td>8.73</td>\n",
       "      <td>8.72</td>\n",
       "      <td>8.75</td>\n",
       "      <td>8.70</td>\n",
       "      <td>12.39M</td>\n",
       "      <td>0.11%</td>\n",
       "    </tr>\n",
       "    <tr>\n",
       "      <th>2011-09-06</th>\n",
       "      <td>8.68</td>\n",
       "      <td>8.72</td>\n",
       "      <td>8.72</td>\n",
       "      <td>8.68</td>\n",
       "      <td>11.48M</td>\n",
       "      <td>-0.57%</td>\n",
       "    </tr>\n",
       "    <tr>\n",
       "      <th>2011-09-07</th>\n",
       "      <td>8.67</td>\n",
       "      <td>8.70</td>\n",
       "      <td>8.70</td>\n",
       "      <td>8.64</td>\n",
       "      <td>5.73M</td>\n",
       "      <td>-0.12%</td>\n",
       "    </tr>\n",
       "    <tr>\n",
       "      <th>2011-09-08</th>\n",
       "      <td>8.69</td>\n",
       "      <td>8.71</td>\n",
       "      <td>8.74</td>\n",
       "      <td>8.67</td>\n",
       "      <td>4.69M</td>\n",
       "      <td>0.23%</td>\n",
       "    </tr>\n",
       "    <tr>\n",
       "      <th>2011-09-09</th>\n",
       "      <td>8.69</td>\n",
       "      <td>8.70</td>\n",
       "      <td>8.70</td>\n",
       "      <td>8.68</td>\n",
       "      <td>5.09M</td>\n",
       "      <td>0.00%</td>\n",
       "    </tr>\n",
       "    <tr>\n",
       "      <th>2011-09-12</th>\n",
       "      <td>8.61</td>\n",
       "      <td>8.65</td>\n",
       "      <td>8.68</td>\n",
       "      <td>8.55</td>\n",
       "      <td>8.59M</td>\n",
       "      <td>-0.92%</td>\n",
       "    </tr>\n",
       "    <tr>\n",
       "      <th>2011-09-13</th>\n",
       "      <td>8.60</td>\n",
       "      <td>8.58</td>\n",
       "      <td>8.61</td>\n",
       "      <td>8.55</td>\n",
       "      <td>3.62M</td>\n",
       "      <td>-0.12%</td>\n",
       "    </tr>\n",
       "    <tr>\n",
       "      <th>2011-09-14</th>\n",
       "      <td>8.60</td>\n",
       "      <td>8.64</td>\n",
       "      <td>8.64</td>\n",
       "      <td>8.57</td>\n",
       "      <td>10.24M</td>\n",
       "      <td>0.00%</td>\n",
       "    </tr>\n",
       "    <tr>\n",
       "      <th>2011-09-15</th>\n",
       "      <td>8.59</td>\n",
       "      <td>8.62</td>\n",
       "      <td>8.62</td>\n",
       "      <td>8.57</td>\n",
       "      <td>7.59M</td>\n",
       "      <td>-0.12%</td>\n",
       "    </tr>\n",
       "  </tbody>\n",
       "</table>\n",
       "</div>"
      ],
      "text/plain": [
       "            Close  Open  High   Low    Vol. Change %\n",
       "Date                                                \n",
       "2011-09-02   8.72  9.00  9.00  8.69  12.92M    0.00%\n",
       "2011-09-05   8.73  8.72  8.75  8.70  12.39M    0.11%\n",
       "2011-09-06   8.68  8.72  8.72  8.68  11.48M   -0.57%\n",
       "2011-09-07   8.67  8.70  8.70  8.64   5.73M   -0.12%\n",
       "2011-09-08   8.69  8.71  8.74  8.67   4.69M    0.23%\n",
       "2011-09-09   8.69  8.70  8.70  8.68   5.09M    0.00%\n",
       "2011-09-12   8.61  8.65  8.68  8.55   8.59M   -0.92%\n",
       "2011-09-13   8.60  8.58  8.61  8.55   3.62M   -0.12%\n",
       "2011-09-14   8.60  8.64  8.64  8.57  10.24M    0.00%\n",
       "2011-09-15   8.59  8.62  8.62  8.57   7.59M   -0.12%"
      ]
     },
     "metadata": {},
     "output_type": "display_data"
    },
    {
     "name": "stdout",
     "output_type": "stream",
     "text": [
      "<class 'pandas.core.frame.DataFrame'>\n",
      "DatetimeIndex: 1893 entries, 2011-09-02 to 2019-05-24\n",
      "Data columns (total 6 columns):\n",
      "Close       1893 non-null float64\n",
      "Open        1893 non-null float64\n",
      "High        1893 non-null float64\n",
      "Low         1893 non-null float64\n",
      "Vol.        1893 non-null object\n",
      "Change %    1893 non-null object\n",
      "dtypes: float64(4), object(2)\n",
      "memory usage: 103.5+ KB\n"
     ]
    }
   ],
   "source": [
    "path = Path('datasets/stocks/mbb.csv')\n",
    "#path = Path('mbb.csv')\n",
    "\n",
    "dataset = pd.read_csv(path, parse_dates=True)\n",
    "df = dataset.copy()\n",
    "df.rename(index=str, columns={\"Price\":\"Close\"}, inplace=True)\n",
    "df.head(10)\n",
    "\n",
    "# Convert the date column\n",
    "df['Date'] = pd.to_datetime(df['Date'])\n",
    "\n",
    "df.sort_values(by=['Date'], ascending=True, inplace=True)\n",
    "df.set_index(['Date'], inplace=True)    \n",
    "display(df.head(10))\n",
    "df.info()"
   ]
  },
  {
   "cell_type": "code",
   "execution_count": 125,
   "metadata": {},
   "outputs": [
    {
     "data": {
      "application/vnd.dataresource+json": {
       "data": [
        {
         "index": "Close",
         "values": false
        },
        {
         "index": "Open",
         "values": false
        },
        {
         "index": "High",
         "values": false
        },
        {
         "index": "Low",
         "values": false
        },
        {
         "index": "Vol.",
         "values": false
        },
        {
         "index": "Change %",
         "values": false
        }
       ],
       "schema": {
        "fields": [
         {
          "name": "index",
          "type": "string"
         },
         {
          "name": "values",
          "type": "boolean"
         }
        ],
        "pandas_version": "0.20.0",
        "primaryKey": [
         "index"
        ]
       }
      },
      "text/plain": [
       "Close       False\n",
       "Open        False\n",
       "High        False\n",
       "Low         False\n",
       "Vol.        False\n",
       "Change %    False\n",
       "dtype: bool"
      ]
     },
     "execution_count": 125,
     "metadata": {},
     "output_type": "execute_result"
    }
   ],
   "source": [
    "df.isna().any()"
   ]
  },
  {
   "cell_type": "code",
   "execution_count": 126,
   "metadata": {},
   "outputs": [
    {
     "data": {
      "text/plain": [
       "<matplotlib.axes._subplots.AxesSubplot at 0x129d8c438>"
      ]
     },
     "execution_count": 126,
     "metadata": {},
     "output_type": "execute_result"
    },
    {
     "data": {
      "image/png": "[encoded data removed]",
      "text/plain": [
       "<Figure size 1152x432 with 1 Axes>"
      ]
     },
     "metadata": {
      "needs_background": "light"
     },
     "output_type": "display_data"
    }
   ],
   "source": [
    "df['Open'].plot(figsize=(16,6))"
   ]
  },
  {
   "cell_type": "markdown",
   "metadata": {},
   "source": [
    "### 7 days rolling means"
   ]
  },
  {
   "cell_type": "code",
   "execution_count": 127,
   "metadata": {},
   "outputs": [
    {
     "data": {
      "application/vnd.dataresource+json": {
       "data": [
        {
         "Close": null,
         "Date": "2011-09-02T00:00:00.000Z",
         "High": null,
         "Low": null,
         "Open": null
        },
        {
         "Close": null,
         "Date": "2011-09-05T00:00:00.000Z",
         "High": null,
         "Low": null,
         "Open": null
        },
        {
         "Close": null,
         "Date": "2011-09-06T00:00:00.000Z",
         "High": null,
         "Low": null,
         "Open": null
        },
        {
         "Close": null,
         "Date": "2011-09-07T00:00:00.000Z",
         "High": null,
         "Low": null,
         "Open": null
        },
        {
         "Close": null,
         "Date": "2011-09-08T00:00:00.000Z",
         "High": null,
         "Low": null,
         "Open": null
        },
        {
         "Close": null,
         "Date": "2011-09-09T00:00:00.000Z",
         "High": null,
         "Low": null,
         "Open": null
        },
        {
         "Close": 8.6842857143,
         "Date": "2011-09-12T00:00:00.000Z",
         "High": 8.7557142857,
         "Low": 8.6585714286,
         "Open": 8.7428571429
        },
        {
         "Close": 8.6671428571,
         "Date": "2011-09-13T00:00:00.000Z",
         "High": 8.7,
         "Low": 8.6385714286,
         "Open": 8.6828571429
        }
       ],
       "schema": {
        "fields": [
         {
          "name": "Date",
          "type": "datetime"
         },
         {
          "name": "Close",
          "type": "number"
         },
         {
          "name": "Open",
          "type": "number"
         },
         {
          "name": "High",
          "type": "number"
         },
         {
          "name": "Low",
          "type": "number"
         }
        ],
        "pandas_version": "0.20.0",
        "primaryKey": [
         "Date"
        ]
       }
      },
      "text/html": [
       "<div>\n",
       "<style scoped>\n",
       "    .dataframe tbody tr th:only-of-type {\n",
       "        vertical-align: middle;\n",
       "    }\n",
       "\n",
       "    .dataframe tbody tr th {\n",
       "        vertical-align: top;\n",
       "    }\n",
       "\n",
       "    .dataframe thead th {\n",
       "        text-align: right;\n",
       "    }\n",
       "</style>\n",
       "<table border=\"1\" class=\"dataframe\">\n",
       "  <thead>\n",
       "    <tr style=\"text-align: right;\">\n",
       "      <th></th>\n",
       "      <th>Close</th>\n",
       "      <th>Open</th>\n",
       "      <th>High</th>\n",
       "      <th>Low</th>\n",
       "    </tr>\n",
       "    <tr>\n",
       "      <th>Date</th>\n",
       "      <th></th>\n",
       "      <th></th>\n",
       "      <th></th>\n",
       "      <th></th>\n",
       "    </tr>\n",
       "  </thead>\n",
       "  <tbody>\n",
       "    <tr>\n",
       "      <th>2011-09-02</th>\n",
       "      <td>NaN</td>\n",
       "      <td>NaN</td>\n",
       "      <td>NaN</td>\n",
       "      <td>NaN</td>\n",
       "    </tr>\n",
       "    <tr>\n",
       "      <th>2011-09-05</th>\n",
       "      <td>NaN</td>\n",
       "      <td>NaN</td>\n",
       "      <td>NaN</td>\n",
       "      <td>NaN</td>\n",
       "    </tr>\n",
       "    <tr>\n",
       "      <th>2011-09-06</th>\n",
       "      <td>NaN</td>\n",
       "      <td>NaN</td>\n",
       "      <td>NaN</td>\n",
       "      <td>NaN</td>\n",
       "    </tr>\n",
       "    <tr>\n",
       "      <th>2011-09-07</th>\n",
       "      <td>NaN</td>\n",
       "      <td>NaN</td>\n",
       "      <td>NaN</td>\n",
       "      <td>NaN</td>\n",
       "    </tr>\n",
       "    <tr>\n",
       "      <th>2011-09-08</th>\n",
       "      <td>NaN</td>\n",
       "      <td>NaN</td>\n",
       "      <td>NaN</td>\n",
       "      <td>NaN</td>\n",
       "    </tr>\n",
       "    <tr>\n",
       "      <th>2011-09-09</th>\n",
       "      <td>NaN</td>\n",
       "      <td>NaN</td>\n",
       "      <td>NaN</td>\n",
       "      <td>NaN</td>\n",
       "    </tr>\n",
       "    <tr>\n",
       "      <th>2011-09-12</th>\n",
       "      <td>8.684286</td>\n",
       "      <td>8.742857</td>\n",
       "      <td>8.755714</td>\n",
       "      <td>8.658571</td>\n",
       "    </tr>\n",
       "    <tr>\n",
       "      <th>2011-09-13</th>\n",
       "      <td>8.667143</td>\n",
       "      <td>8.682857</td>\n",
       "      <td>8.700000</td>\n",
       "      <td>8.638571</td>\n",
       "    </tr>\n",
       "  </tbody>\n",
       "</table>\n",
       "</div>"
      ],
      "text/plain": [
       "               Close      Open      High       Low\n",
       "Date                                              \n",
       "2011-09-02       NaN       NaN       NaN       NaN\n",
       "2011-09-05       NaN       NaN       NaN       NaN\n",
       "2011-09-06       NaN       NaN       NaN       NaN\n",
       "2011-09-07       NaN       NaN       NaN       NaN\n",
       "2011-09-08       NaN       NaN       NaN       NaN\n",
       "2011-09-09       NaN       NaN       NaN       NaN\n",
       "2011-09-12  8.684286  8.742857  8.755714  8.658571\n",
       "2011-09-13  8.667143  8.682857  8.700000  8.638571"
      ]
     },
     "execution_count": 127,
     "metadata": {},
     "output_type": "execute_result"
    }
   ],
   "source": [
    "df = df[['Close', 'Open', 'High', 'Low']]\n",
    "df.rolling(7).mean().head(8)"
   ]
  },
  {
   "cell_type": "code",
   "execution_count": 128,
   "metadata": {},
   "outputs": [
    {
     "data": {
      "application/vnd.dataresource+json": {
       "data": [
        {
         "Close": 8.72,
         "Date": "2011-09-02T00:00:00.000Z",
         "High": 9,
         "Low": 8.69,
         "Open": 9
        },
        {
         "Close": 8.73,
         "Date": "2011-09-05T00:00:00.000Z",
         "High": 8.75,
         "Low": 8.7,
         "Open": 8.72
        },
        {
         "Close": 8.68,
         "Date": "2011-09-06T00:00:00.000Z",
         "High": 8.72,
         "Low": 8.68,
         "Open": 8.72
        }
       ],
       "schema": {
        "fields": [
         {
          "name": "Date",
          "type": "datetime"
         },
         {
          "name": "Close",
          "type": "number"
         },
         {
          "name": "Open",
          "type": "number"
         },
         {
          "name": "High",
          "type": "number"
         },
         {
          "name": "Low",
          "type": "number"
         }
        ],
        "pandas_version": "0.20.0",
        "primaryKey": [
         "Date"
        ]
       }
      },
      "text/html": [
       "<div>\n",
       "<style scoped>\n",
       "    .dataframe tbody tr th:only-of-type {\n",
       "        vertical-align: middle;\n",
       "    }\n",
       "\n",
       "    .dataframe tbody tr th {\n",
       "        vertical-align: top;\n",
       "    }\n",
       "\n",
       "    .dataframe thead th {\n",
       "        text-align: right;\n",
       "    }\n",
       "</style>\n",
       "<table border=\"1\" class=\"dataframe\">\n",
       "  <thead>\n",
       "    <tr style=\"text-align: right;\">\n",
       "      <th></th>\n",
       "      <th>Close</th>\n",
       "      <th>Open</th>\n",
       "      <th>High</th>\n",
       "      <th>Low</th>\n",
       "    </tr>\n",
       "    <tr>\n",
       "      <th>Date</th>\n",
       "      <th></th>\n",
       "      <th></th>\n",
       "      <th></th>\n",
       "      <th></th>\n",
       "    </tr>\n",
       "  </thead>\n",
       "  <tbody>\n",
       "    <tr>\n",
       "      <th>2011-09-02</th>\n",
       "      <td>8.72</td>\n",
       "      <td>9.00</td>\n",
       "      <td>9.00</td>\n",
       "      <td>8.69</td>\n",
       "    </tr>\n",
       "    <tr>\n",
       "      <th>2011-09-05</th>\n",
       "      <td>8.73</td>\n",
       "      <td>8.72</td>\n",
       "      <td>8.75</td>\n",
       "      <td>8.70</td>\n",
       "    </tr>\n",
       "    <tr>\n",
       "      <th>2011-09-06</th>\n",
       "      <td>8.68</td>\n",
       "      <td>8.72</td>\n",
       "      <td>8.72</td>\n",
       "      <td>8.68</td>\n",
       "    </tr>\n",
       "  </tbody>\n",
       "</table>\n",
       "</div>"
      ],
      "text/plain": [
       "            Close  Open  High   Low\n",
       "Date                               \n",
       "2011-09-02   8.72  9.00  9.00  8.69\n",
       "2011-09-05   8.73  8.72  8.75  8.70\n",
       "2011-09-06   8.68  8.72  8.72  8.68"
      ]
     },
     "execution_count": 128,
     "metadata": {},
     "output_type": "execute_result"
    }
   ],
   "source": [
    "df.head(3)"
   ]
  },
  {
   "cell_type": "code",
   "execution_count": 129,
   "metadata": {},
   "outputs": [
    {
     "data": {
      "text/plain": [
       "<matplotlib.axes._subplots.AxesSubplot at 0x126a4b240>"
      ]
     },
     "execution_count": 129,
     "metadata": {},
     "output_type": "execute_result"
    },
    {
     "data": {
      "image/png": "[encoded data removed]",
      "text/plain": [
       "<Figure size 1152x432 with 1 Axes>"
      ]
     },
     "metadata": {
      "needs_background": "light"
     },
     "output_type": "display_data"
    }
   ],
   "source": [
    "# Open vs Close 30 days mean\n",
    "df['Close 30 Days Mean'] = df['Close'].rolling(window=30).mean()\n",
    "df[['Open', 'Close 30 Days Mean']].plot(figsize=(16,6))\n",
    "#df.rolling(window=30).mean()['Close'].plot()"
   ]
  },
  {
   "cell_type": "code",
   "execution_count": 130,
   "metadata": {},
   "outputs": [
    {
     "data": {
      "text/plain": [
       "<matplotlib.axes._subplots.AxesSubplot at 0x129e0d630>"
      ]
     },
     "execution_count": 130,
     "metadata": {},
     "output_type": "execute_result"
    },
    {
     "data": {
      "image/png": "[encoded data removed]",
      "text/plain": [
       "<Figure size 1152x432 with 1 Axes>"
      ]
     },
     "metadata": {
      "needs_background": "light"
     },
     "output_type": "display_data"
    }
   ],
   "source": [
    "# df['Close: 30 Day Mean'] = df['Price'].rolling(window=30).mean()\n",
    "df[['Close','Close 30 Days Mean']].plot(figsize=(16,6))"
   ]
  },
  {
   "cell_type": "markdown",
   "metadata": {},
   "source": [
    "### Expanding"
   ]
  },
  {
   "cell_type": "code",
   "execution_count": 131,
   "metadata": {},
   "outputs": [
    {
     "data": {
      "text/plain": [
       "<matplotlib.axes._subplots.AxesSubplot at 0x12a28beb8>"
      ]
     },
     "execution_count": 131,
     "metadata": {},
     "output_type": "execute_result"
    },
    {
     "data": {
      "image/png": "[encoded data removed]",
      "text/plain": [
       "<Figure size 1152x432 with 1 Axes>"
      ]
     },
     "metadata": {
      "needs_background": "light"
     },
     "output_type": "display_data"
    }
   ],
   "source": [
    "# Optional specify a minimum number of periods\n",
    "df['Close'].expanding(min_periods=1).mean().plot(figsize=(16,6))"
   ]
  },
  {
   "cell_type": "markdown",
   "metadata": {},
   "source": [
    "### Group into X days prices"
   ]
  },
  {
   "cell_type": "code",
   "execution_count": 132,
   "metadata": {},
   "outputs": [
    {
     "data": {
      "application/vnd.dataresource+json": {
       "data": [
        {
         "Close": 8.72,
         "Close 30 Days Mean": null,
         "Date": "2011-09-02T00:00:00.000Z",
         "High": 9,
         "Low": 8.69,
         "Open": 9,
         "index": 0
        },
        {
         "Close": 8.73,
         "Close 30 Days Mean": null,
         "Date": "2011-09-05T00:00:00.000Z",
         "High": 8.75,
         "Low": 8.7,
         "Open": 8.72,
         "index": 1
        },
        {
         "Close": 8.68,
         "Close 30 Days Mean": null,
         "Date": "2011-09-06T00:00:00.000Z",
         "High": 8.72,
         "Low": 8.68,
         "Open": 8.72,
         "index": 2
        },
        {
         "Close": 8.67,
         "Close 30 Days Mean": null,
         "Date": "2011-09-07T00:00:00.000Z",
         "High": 8.7,
         "Low": 8.64,
         "Open": 8.7,
         "index": 3
        },
        {
         "Close": 8.69,
         "Close 30 Days Mean": null,
         "Date": "2011-09-08T00:00:00.000Z",
         "High": 8.74,
         "Low": 8.67,
         "Open": 8.71,
         "index": 4
        }
       ],
       "schema": {
        "fields": [
         {
          "name": "index",
          "type": "integer"
         },
         {
          "name": "Date",
          "type": "datetime"
         },
         {
          "name": "Close",
          "type": "number"
         },
         {
          "name": "Open",
          "type": "number"
         },
         {
          "name": "High",
          "type": "number"
         },
         {
          "name": "Low",
          "type": "number"
         },
         {
          "name": "Close 30 Days Mean",
          "type": "number"
         }
        ],
        "pandas_version": "0.20.0",
        "primaryKey": [
         "index"
        ]
       }
      },
      "text/html": [
       "<div>\n",
       "<style scoped>\n",
       "    .dataframe tbody tr th:only-of-type {\n",
       "        vertical-align: middle;\n",
       "    }\n",
       "\n",
       "    .dataframe tbody tr th {\n",
       "        vertical-align: top;\n",
       "    }\n",
       "\n",
       "    .dataframe thead th {\n",
       "        text-align: right;\n",
       "    }\n",
       "</style>\n",
       "<table border=\"1\" class=\"dataframe\">\n",
       "  <thead>\n",
       "    <tr style=\"text-align: right;\">\n",
       "      <th></th>\n",
       "      <th>Date</th>\n",
       "      <th>Close</th>\n",
       "      <th>Open</th>\n",
       "      <th>High</th>\n",
       "      <th>Low</th>\n",
       "      <th>Close 30 Days Mean</th>\n",
       "    </tr>\n",
       "  </thead>\n",
       "  <tbody>\n",
       "    <tr>\n",
       "      <th>0</th>\n",
       "      <td>2011-09-02</td>\n",
       "      <td>8.72</td>\n",
       "      <td>9.00</td>\n",
       "      <td>9.00</td>\n",
       "      <td>8.69</td>\n",
       "      <td>NaN</td>\n",
       "    </tr>\n",
       "    <tr>\n",
       "      <th>1</th>\n",
       "      <td>2011-09-05</td>\n",
       "      <td>8.73</td>\n",
       "      <td>8.72</td>\n",
       "      <td>8.75</td>\n",
       "      <td>8.70</td>\n",
       "      <td>NaN</td>\n",
       "    </tr>\n",
       "    <tr>\n",
       "      <th>2</th>\n",
       "      <td>2011-09-06</td>\n",
       "      <td>8.68</td>\n",
       "      <td>8.72</td>\n",
       "      <td>8.72</td>\n",
       "      <td>8.68</td>\n",
       "      <td>NaN</td>\n",
       "    </tr>\n",
       "    <tr>\n",
       "      <th>3</th>\n",
       "      <td>2011-09-07</td>\n",
       "      <td>8.67</td>\n",
       "      <td>8.70</td>\n",
       "      <td>8.70</td>\n",
       "      <td>8.64</td>\n",
       "      <td>NaN</td>\n",
       "    </tr>\n",
       "    <tr>\n",
       "      <th>4</th>\n",
       "      <td>2011-09-08</td>\n",
       "      <td>8.69</td>\n",
       "      <td>8.71</td>\n",
       "      <td>8.74</td>\n",
       "      <td>8.67</td>\n",
       "      <td>NaN</td>\n",
       "    </tr>\n",
       "  </tbody>\n",
       "</table>\n",
       "</div>"
      ],
      "text/plain": [
       "        Date  Close  Open  High   Low  Close 30 Days Mean\n",
       "0 2011-09-02   8.72  9.00  9.00  8.69                 NaN\n",
       "1 2011-09-05   8.73  8.72  8.75  8.70                 NaN\n",
       "2 2011-09-06   8.68  8.72  8.72  8.68                 NaN\n",
       "3 2011-09-07   8.67  8.70  8.70  8.64                 NaN\n",
       "4 2011-09-08   8.69  8.71  8.74  8.67                 NaN"
      ]
     },
     "execution_count": 132,
     "metadata": {},
     "output_type": "execute_result"
    }
   ],
   "source": [
    "df_temp = df.copy()\n",
    "df_temp.reset_index(inplace=True)\n",
    "number_of_days = 5\n",
    "df_temp.head(5)"
   ]
  },
  {
   "cell_type": "code",
   "execution_count": 136,
   "metadata": {},
   "outputs": [
    {
     "data": {
      "application/vnd.dataresource+json": {
       "data": [
        {
         "Close": 8.72,
         "Close 30 Days Mean": null,
         "Date": "2011-09-02T00:00:00.000Z",
         "High": 9,
         "Low": 8.69,
         "Open": 9
        },
        {
         "Close": 8.73,
         "Close 30 Days Mean": null,
         "Date": "2011-09-05T00:00:00.000Z",
         "High": 8.75,
         "Low": 8.7,
         "Open": 8.72
        },
        {
         "Close": 8.68,
         "Close 30 Days Mean": null,
         "Date": "2011-09-06T00:00:00.000Z",
         "High": 8.72,
         "Low": 8.68,
         "Open": 8.72
        },
        {
         "Close": 8.67,
         "Close 30 Days Mean": null,
         "Date": "2011-09-07T00:00:00.000Z",
         "High": 8.7,
         "Low": 8.64,
         "Open": 8.7
        },
        {
         "Close": 8.69,
         "Close 30 Days Mean": null,
         "Date": "2011-09-08T00:00:00.000Z",
         "High": 8.74,
         "Low": 8.67,
         "Open": 8.71
        },
        {
         "Close": 8.69,
         "Close 30 Days Mean": null,
         "Date": "2011-09-09T00:00:00.000Z",
         "High": 8.7,
         "Low": 8.68,
         "Open": 8.7
        },
        {
         "Close": 8.61,
         "Close 30 Days Mean": null,
         "Date": "2011-09-12T00:00:00.000Z",
         "High": 8.68,
         "Low": 8.55,
         "Open": 8.65
        },
        {
         "Close": 8.6,
         "Close 30 Days Mean": null,
         "Date": "2011-09-13T00:00:00.000Z",
         "High": 8.61,
         "Low": 8.55,
         "Open": 8.58
        },
        {
         "Close": 8.6,
         "Close 30 Days Mean": null,
         "Date": "2011-09-14T00:00:00.000Z",
         "High": 8.64,
         "Low": 8.57,
         "Open": 8.64
        },
        {
         "Close": 8.59,
         "Close 30 Days Mean": null,
         "Date": "2011-09-15T00:00:00.000Z",
         "High": 8.62,
         "Low": 8.57,
         "Open": 8.62
        }
       ],
       "schema": {
        "fields": [
         {
          "name": "Date",
          "type": "datetime"
         },
         {
          "name": "Close",
          "type": "number"
         },
         {
          "name": "Open",
          "type": "number"
         },
         {
          "name": "High",
          "type": "number"
         },
         {
          "name": "Low",
          "type": "number"
         },
         {
          "name": "Close 30 Days Mean",
          "type": "number"
         }
        ],
        "pandas_version": "0.20.0",
        "primaryKey": [
         "Date"
        ]
       }
      },
      "text/html": [
       "<div>\n",
       "<style scoped>\n",
       "    .dataframe tbody tr th:only-of-type {\n",
       "        vertical-align: middle;\n",
       "    }\n",
       "\n",
       "    .dataframe tbody tr th {\n",
       "        vertical-align: top;\n",
       "    }\n",
       "\n",
       "    .dataframe thead th {\n",
       "        text-align: right;\n",
       "    }\n",
       "</style>\n",
       "<table border=\"1\" class=\"dataframe\">\n",
       "  <thead>\n",
       "    <tr style=\"text-align: right;\">\n",
       "      <th></th>\n",
       "      <th>Close</th>\n",
       "      <th>Open</th>\n",
       "      <th>High</th>\n",
       "      <th>Low</th>\n",
       "      <th>Close 30 Days Mean</th>\n",
       "    </tr>\n",
       "    <tr>\n",
       "      <th>Date</th>\n",
       "      <th></th>\n",
       "      <th></th>\n",
       "      <th></th>\n",
       "      <th></th>\n",
       "      <th></th>\n",
       "    </tr>\n",
       "  </thead>\n",
       "  <tbody>\n",
       "    <tr>\n",
       "      <th>2011-09-02</th>\n",
       "      <td>8.72</td>\n",
       "      <td>9.00</td>\n",
       "      <td>9.00</td>\n",
       "      <td>8.69</td>\n",
       "      <td>NaN</td>\n",
       "    </tr>\n",
       "    <tr>\n",
       "      <th>2011-09-05</th>\n",
       "      <td>8.73</td>\n",
       "      <td>8.72</td>\n",
       "      <td>8.75</td>\n",
       "      <td>8.70</td>\n",
       "      <td>NaN</td>\n",
       "    </tr>\n",
       "    <tr>\n",
       "      <th>2011-09-06</th>\n",
       "      <td>8.68</td>\n",
       "      <td>8.72</td>\n",
       "      <td>8.72</td>\n",
       "      <td>8.68</td>\n",
       "      <td>NaN</td>\n",
       "    </tr>\n",
       "    <tr>\n",
       "      <th>2011-09-07</th>\n",
       "      <td>8.67</td>\n",
       "      <td>8.70</td>\n",
       "      <td>8.70</td>\n",
       "      <td>8.64</td>\n",
       "      <td>NaN</td>\n",
       "    </tr>\n",
       "    <tr>\n",
       "      <th>2011-09-08</th>\n",
       "      <td>8.69</td>\n",
       "      <td>8.71</td>\n",
       "      <td>8.74</td>\n",
       "      <td>8.67</td>\n",
       "      <td>NaN</td>\n",
       "    </tr>\n",
       "    <tr>\n",
       "      <th>2011-09-09</th>\n",
       "      <td>8.69</td>\n",
       "      <td>8.70</td>\n",
       "      <td>8.70</td>\n",
       "      <td>8.68</td>\n",
       "      <td>NaN</td>\n",
       "    </tr>\n",
       "    <tr>\n",
       "      <th>2011-09-12</th>\n",
       "      <td>8.61</td>\n",
       "      <td>8.65</td>\n",
       "      <td>8.68</td>\n",
       "      <td>8.55</td>\n",
       "      <td>NaN</td>\n",
       "    </tr>\n",
       "    <tr>\n",
       "      <th>2011-09-13</th>\n",
       "      <td>8.60</td>\n",
       "      <td>8.58</td>\n",
       "      <td>8.61</td>\n",
       "      <td>8.55</td>\n",
       "      <td>NaN</td>\n",
       "    </tr>\n",
       "    <tr>\n",
       "      <th>2011-09-14</th>\n",
       "      <td>8.60</td>\n",
       "      <td>8.64</td>\n",
       "      <td>8.64</td>\n",
       "      <td>8.57</td>\n",
       "      <td>NaN</td>\n",
       "    </tr>\n",
       "    <tr>\n",
       "      <th>2011-09-15</th>\n",
       "      <td>8.59</td>\n",
       "      <td>8.62</td>\n",
       "      <td>8.62</td>\n",
       "      <td>8.57</td>\n",
       "      <td>NaN</td>\n",
       "    </tr>\n",
       "  </tbody>\n",
       "</table>\n",
       "</div>"
      ],
      "text/plain": [
       "            Close  Open  High   Low  Close 30 Days Mean\n",
       "Date                                                   \n",
       "2011-09-02   8.72  9.00  9.00  8.69                 NaN\n",
       "2011-09-05   8.73  8.72  8.75  8.70                 NaN\n",
       "2011-09-06   8.68  8.72  8.72  8.68                 NaN\n",
       "2011-09-07   8.67  8.70  8.70  8.64                 NaN\n",
       "2011-09-08   8.69  8.71  8.74  8.67                 NaN\n",
       "2011-09-09   8.69  8.70  8.70  8.68                 NaN\n",
       "2011-09-12   8.61  8.65  8.68  8.55                 NaN\n",
       "2011-09-13   8.60  8.58  8.61  8.55                 NaN\n",
       "2011-09-14   8.60  8.64  8.64  8.57                 NaN\n",
       "2011-09-15   8.59  8.62  8.62  8.57                 NaN"
      ]
     },
     "metadata": {},
     "output_type": "display_data"
    },
    {
     "data": {
      "text/plain": [
       "1893"
      ]
     },
     "metadata": {},
     "output_type": "display_data"
    },
    {
     "data": {
      "application/vnd.dataresource+json": {
       "data": [
        {
         "Close": 8.698,
         "Close 30 Days Mean": null,
         "GroupId": 0,
         "High": 8.782,
         "Low": 8.676,
         "Open": 8.77,
         "index": 0
        },
        {
         "Close": 8.618,
         "Close 30 Days Mean": null,
         "GroupId": 1,
         "High": 8.65,
         "Low": 8.584,
         "Open": 8.638,
         "index": 1
        },
        {
         "Close": 8.408,
         "Close 30 Days Mean": null,
         "GroupId": 2,
         "High": 8.526,
         "Low": 8.352,
         "Open": 8.508,
         "index": 2
        },
        {
         "Close": 7.866,
         "Close 30 Days Mean": null,
         "GroupId": 3,
         "High": 7.996,
         "Low": 7.698,
         "Open": 7.856,
         "index": 3
        },
        {
         "Close": 8.03,
         "Close 30 Days Mean": null,
         "GroupId": 4,
         "High": 8.086,
         "Low": 7.906,
         "Open": 7.972,
         "index": 4
        },
        {
         "Close": 8.26,
         "Close 30 Days Mean": 8.3133333333,
         "GroupId": 5,
         "High": 8.3,
         "Low": 8.212,
         "Open": 8.256,
         "index": 5
        },
        {
         "Close": 8.254,
         "Close 30 Days Mean": 8.269,
         "GroupId": 6,
         "High": 8.3,
         "Low": 8.218,
         "Open": 8.272,
         "index": 6
        },
        {
         "Close": 8.304,
         "Close 30 Days Mean": 8.2045333333,
         "GroupId": 7,
         "High": 8.358,
         "Low": 8.278,
         "Open": 8.318,
         "index": 7
        },
        {
         "Close": 8.264,
         "Close 30 Days Mean": 8.1664666667,
         "GroupId": 8,
         "High": 8.338,
         "Low": 8.232,
         "Open": 8.33,
         "index": 8
        },
        {
         "Close": 8.244,
         "Close 30 Days Mean": 8.2073333333,
         "GroupId": 9,
         "High": 8.282,
         "Low": 8.178,
         "Open": 8.23,
         "index": 9
        }
       ],
       "schema": {
        "fields": [
         {
          "name": "index",
          "type": "integer"
         },
         {
          "name": "GroupId",
          "type": "integer"
         },
         {
          "name": "Close",
          "type": "number"
         },
         {
          "name": "Open",
          "type": "number"
         },
         {
          "name": "High",
          "type": "number"
         },
         {
          "name": "Low",
          "type": "number"
         },
         {
          "name": "Close 30 Days Mean",
          "type": "number"
         }
        ],
        "pandas_version": "0.20.0",
        "primaryKey": [
         "index"
        ]
       }
      },
      "text/html": [
       "<div>\n",
       "<style scoped>\n",
       "    .dataframe tbody tr th:only-of-type {\n",
       "        vertical-align: middle;\n",
       "    }\n",
       "\n",
       "    .dataframe tbody tr th {\n",
       "        vertical-align: top;\n",
       "    }\n",
       "\n",
       "    .dataframe thead th {\n",
       "        text-align: right;\n",
       "    }\n",
       "</style>\n",
       "<table border=\"1\" class=\"dataframe\">\n",
       "  <thead>\n",
       "    <tr style=\"text-align: right;\">\n",
       "      <th></th>\n",
       "      <th>GroupId</th>\n",
       "      <th>Close</th>\n",
       "      <th>Open</th>\n",
       "      <th>High</th>\n",
       "      <th>Low</th>\n",
       "      <th>Close 30 Days Mean</th>\n",
       "    </tr>\n",
       "  </thead>\n",
       "  <tbody>\n",
       "    <tr>\n",
       "      <th>0</th>\n",
       "      <td>0</td>\n",
       "      <td>8.698</td>\n",
       "      <td>8.770</td>\n",
       "      <td>8.782</td>\n",
       "      <td>8.676</td>\n",
       "      <td>NaN</td>\n",
       "    </tr>\n",
       "    <tr>\n",
       "      <th>1</th>\n",
       "      <td>1</td>\n",
       "      <td>8.618</td>\n",
       "      <td>8.638</td>\n",
       "      <td>8.650</td>\n",
       "      <td>8.584</td>\n",
       "      <td>NaN</td>\n",
       "    </tr>\n",
       "    <tr>\n",
       "      <th>2</th>\n",
       "      <td>2</td>\n",
       "      <td>8.408</td>\n",
       "      <td>8.508</td>\n",
       "      <td>8.526</td>\n",
       "      <td>8.352</td>\n",
       "      <td>NaN</td>\n",
       "    </tr>\n",
       "    <tr>\n",
       "      <th>3</th>\n",
       "      <td>3</td>\n",
       "      <td>7.866</td>\n",
       "      <td>7.856</td>\n",
       "      <td>7.996</td>\n",
       "      <td>7.698</td>\n",
       "      <td>NaN</td>\n",
       "    </tr>\n",
       "    <tr>\n",
       "      <th>4</th>\n",
       "      <td>4</td>\n",
       "      <td>8.030</td>\n",
       "      <td>7.972</td>\n",
       "      <td>8.086</td>\n",
       "      <td>7.906</td>\n",
       "      <td>NaN</td>\n",
       "    </tr>\n",
       "    <tr>\n",
       "      <th>5</th>\n",
       "      <td>5</td>\n",
       "      <td>8.260</td>\n",
       "      <td>8.256</td>\n",
       "      <td>8.300</td>\n",
       "      <td>8.212</td>\n",
       "      <td>8.313333</td>\n",
       "    </tr>\n",
       "    <tr>\n",
       "      <th>6</th>\n",
       "      <td>6</td>\n",
       "      <td>8.254</td>\n",
       "      <td>8.272</td>\n",
       "      <td>8.300</td>\n",
       "      <td>8.218</td>\n",
       "      <td>8.269000</td>\n",
       "    </tr>\n",
       "    <tr>\n",
       "      <th>7</th>\n",
       "      <td>7</td>\n",
       "      <td>8.304</td>\n",
       "      <td>8.318</td>\n",
       "      <td>8.358</td>\n",
       "      <td>8.278</td>\n",
       "      <td>8.204533</td>\n",
       "    </tr>\n",
       "    <tr>\n",
       "      <th>8</th>\n",
       "      <td>8</td>\n",
       "      <td>8.264</td>\n",
       "      <td>8.330</td>\n",
       "      <td>8.338</td>\n",
       "      <td>8.232</td>\n",
       "      <td>8.166467</td>\n",
       "    </tr>\n",
       "    <tr>\n",
       "      <th>9</th>\n",
       "      <td>9</td>\n",
       "      <td>8.244</td>\n",
       "      <td>8.230</td>\n",
       "      <td>8.282</td>\n",
       "      <td>8.178</td>\n",
       "      <td>8.207333</td>\n",
       "    </tr>\n",
       "  </tbody>\n",
       "</table>\n",
       "</div>"
      ],
      "text/plain": [
       "   GroupId  Close   Open   High    Low  Close 30 Days Mean\n",
       "0        0  8.698  8.770  8.782  8.676                 NaN\n",
       "1        1  8.618  8.638  8.650  8.584                 NaN\n",
       "2        2  8.408  8.508  8.526  8.352                 NaN\n",
       "3        3  7.866  7.856  7.996  7.698                 NaN\n",
       "4        4  8.030  7.972  8.086  7.906                 NaN\n",
       "5        5  8.260  8.256  8.300  8.212            8.313333\n",
       "6        6  8.254  8.272  8.300  8.218            8.269000\n",
       "7        7  8.304  8.318  8.358  8.278            8.204533\n",
       "8        8  8.264  8.330  8.338  8.232            8.166467\n",
       "9        9  8.244  8.230  8.282  8.178            8.207333"
      ]
     },
     "metadata": {},
     "output_type": "display_data"
    },
    {
     "data": {
      "text/plain": [
       "379"
      ]
     },
     "metadata": {},
     "output_type": "display_data"
    }
   ],
   "source": [
    "df_temp['GroupId'] = df_temp.index\n",
    "df_temp['GroupId'] = df_temp.apply(lambda x: df_temp['GroupId'] // number_of_days)\n",
    "df_grouped_mean = df_temp.groupby(['GroupId'], as_index=False).mean()\n",
    "display(df.head(10), len(df))\n",
    "display(df_grouped_mean.head(10), len(df_grouped_mean))"
   ]
  },
  {
   "cell_type": "markdown",
   "metadata": {},
   "source": [
    "### Split to train and test data sets"
   ]
  },
  {
   "cell_type": "code",
   "execution_count": 143,
   "metadata": {},
   "outputs": [
    {
     "data": {
      "text/plain": [
       "303"
      ]
     },
     "metadata": {},
     "output_type": "display_data"
    },
    {
     "data": {
      "application/vnd.dataresource+json": {
       "data": [
        {
         "Close": 8.698,
         "Close 30 Days Mean": null,
         "GroupId": 0,
         "High": 8.782,
         "Low": 8.676,
         "Open": 8.77,
         "index": 0
        },
        {
         "Close": 8.618,
         "Close 30 Days Mean": null,
         "GroupId": 1,
         "High": 8.65,
         "Low": 8.584,
         "Open": 8.638,
         "index": 1
        },
        {
         "Close": 8.408,
         "Close 30 Days Mean": null,
         "GroupId": 2,
         "High": 8.526,
         "Low": 8.352,
         "Open": 8.508,
         "index": 2
        },
        {
         "Close": 7.866,
         "Close 30 Days Mean": null,
         "GroupId": 3,
         "High": 7.996,
         "Low": 7.698,
         "Open": 7.856,
         "index": 3
        },
        {
         "Close": 8.03,
         "Close 30 Days Mean": null,
         "GroupId": 4,
         "High": 8.086,
         "Low": 7.906,
         "Open": 7.972,
         "index": 4
        },
        {
         "Close": 8.26,
         "Close 30 Days Mean": 8.3133333333,
         "GroupId": 5,
         "High": 8.3,
         "Low": 8.212,
         "Open": 8.256,
         "index": 5
        },
        {
         "Close": 8.254,
         "Close 30 Days Mean": 8.269,
         "GroupId": 6,
         "High": 8.3,
         "Low": 8.218,
         "Open": 8.272,
         "index": 6
        },
        {
         "Close": 8.304,
         "Close 30 Days Mean": 8.2045333333,
         "GroupId": 7,
         "High": 8.358,
         "Low": 8.278,
         "Open": 8.318,
         "index": 7
        },
        {
         "Close": 8.264,
         "Close 30 Days Mean": 8.1664666667,
         "GroupId": 8,
         "High": 8.338,
         "Low": 8.232,
         "Open": 8.33,
         "index": 8
        },
        {
         "Close": 8.244,
         "Close 30 Days Mean": 8.2073333333,
         "GroupId": 9,
         "High": 8.282,
         "Low": 8.178,
         "Open": 8.23,
         "index": 9
        }
       ],
       "schema": {
        "fields": [
         {
          "name": "index",
          "type": "integer"
         },
         {
          "name": "GroupId",
          "type": "integer"
         },
         {
          "name": "Close",
          "type": "number"
         },
         {
          "name": "Open",
          "type": "number"
         },
         {
          "name": "High",
          "type": "number"
         },
         {
          "name": "Low",
          "type": "number"
         },
         {
          "name": "Close 30 Days Mean",
          "type": "number"
         }
        ],
        "pandas_version": "0.20.0",
        "primaryKey": [
         "index"
        ]
       }
      },
      "text/html": [
       "<div>\n",
       "<style scoped>\n",
       "    .dataframe tbody tr th:only-of-type {\n",
       "        vertical-align: middle;\n",
       "    }\n",
       "\n",
       "    .dataframe tbody tr th {\n",
       "        vertical-align: top;\n",
       "    }\n",
       "\n",
       "    .dataframe thead th {\n",
       "        text-align: right;\n",
       "    }\n",
       "</style>\n",
       "<table border=\"1\" class=\"dataframe\">\n",
       "  <thead>\n",
       "    <tr style=\"text-align: right;\">\n",
       "      <th></th>\n",
       "      <th>GroupId</th>\n",
       "      <th>Close</th>\n",
       "      <th>Open</th>\n",
       "      <th>High</th>\n",
       "      <th>Low</th>\n",
       "      <th>Close 30 Days Mean</th>\n",
       "    </tr>\n",
       "  </thead>\n",
       "  <tbody>\n",
       "    <tr>\n",
       "      <th>0</th>\n",
       "      <td>0</td>\n",
       "      <td>8.698</td>\n",
       "      <td>8.770</td>\n",
       "      <td>8.782</td>\n",
       "      <td>8.676</td>\n",
       "      <td>NaN</td>\n",
       "    </tr>\n",
       "    <tr>\n",
       "      <th>1</th>\n",
       "      <td>1</td>\n",
       "      <td>8.618</td>\n",
       "      <td>8.638</td>\n",
       "      <td>8.650</td>\n",
       "      <td>8.584</td>\n",
       "      <td>NaN</td>\n",
       "    </tr>\n",
       "    <tr>\n",
       "      <th>2</th>\n",
       "      <td>2</td>\n",
       "      <td>8.408</td>\n",
       "      <td>8.508</td>\n",
       "      <td>8.526</td>\n",
       "      <td>8.352</td>\n",
       "      <td>NaN</td>\n",
       "    </tr>\n",
       "    <tr>\n",
       "      <th>3</th>\n",
       "      <td>3</td>\n",
       "      <td>7.866</td>\n",
       "      <td>7.856</td>\n",
       "      <td>7.996</td>\n",
       "      <td>7.698</td>\n",
       "      <td>NaN</td>\n",
       "    </tr>\n",
       "    <tr>\n",
       "      <th>4</th>\n",
       "      <td>4</td>\n",
       "      <td>8.030</td>\n",
       "      <td>7.972</td>\n",
       "      <td>8.086</td>\n",
       "      <td>7.906</td>\n",
       "      <td>NaN</td>\n",
       "    </tr>\n",
       "    <tr>\n",
       "      <th>5</th>\n",
       "      <td>5</td>\n",
       "      <td>8.260</td>\n",
       "      <td>8.256</td>\n",
       "      <td>8.300</td>\n",
       "      <td>8.212</td>\n",
       "      <td>8.313333</td>\n",
       "    </tr>\n",
       "    <tr>\n",
       "      <th>6</th>\n",
       "      <td>6</td>\n",
       "      <td>8.254</td>\n",
       "      <td>8.272</td>\n",
       "      <td>8.300</td>\n",
       "      <td>8.218</td>\n",
       "      <td>8.269000</td>\n",
       "    </tr>\n",
       "    <tr>\n",
       "      <th>7</th>\n",
       "      <td>7</td>\n",
       "      <td>8.304</td>\n",
       "      <td>8.318</td>\n",
       "      <td>8.358</td>\n",
       "      <td>8.278</td>\n",
       "      <td>8.204533</td>\n",
       "    </tr>\n",
       "    <tr>\n",
       "      <th>8</th>\n",
       "      <td>8</td>\n",
       "      <td>8.264</td>\n",
       "      <td>8.330</td>\n",
       "      <td>8.338</td>\n",
       "      <td>8.232</td>\n",
       "      <td>8.166467</td>\n",
       "    </tr>\n",
       "    <tr>\n",
       "      <th>9</th>\n",
       "      <td>9</td>\n",
       "      <td>8.244</td>\n",
       "      <td>8.230</td>\n",
       "      <td>8.282</td>\n",
       "      <td>8.178</td>\n",
       "      <td>8.207333</td>\n",
       "    </tr>\n",
       "  </tbody>\n",
       "</table>\n",
       "</div>"
      ],
      "text/plain": [
       "   GroupId  Close   Open   High    Low  Close 30 Days Mean\n",
       "0        0  8.698  8.770  8.782  8.676                 NaN\n",
       "1        1  8.618  8.638  8.650  8.584                 NaN\n",
       "2        2  8.408  8.508  8.526  8.352                 NaN\n",
       "3        3  7.866  7.856  7.996  7.698                 NaN\n",
       "4        4  8.030  7.972  8.086  7.906                 NaN\n",
       "5        5  8.260  8.256  8.300  8.212            8.313333\n",
       "6        6  8.254  8.272  8.300  8.218            8.269000\n",
       "7        7  8.304  8.318  8.358  8.278            8.204533\n",
       "8        8  8.264  8.330  8.338  8.232            8.166467\n",
       "9        9  8.244  8.230  8.282  8.178            8.207333"
      ]
     },
     "metadata": {},
     "output_type": "display_data"
    },
    {
     "data": {
      "text/plain": [
       "76"
      ]
     },
     "metadata": {},
     "output_type": "display_data"
    },
    {
     "data": {
      "application/vnd.dataresource+json": {
       "data": [
        {
         "Close": 9.21,
         "Close 30 Days Mean": 9.4236666667,
         "GroupId": 303,
         "High": 9.248,
         "Low": 9.186,
         "Open": 9.224,
         "index": 303
        },
        {
         "Close": 9.22,
         "Close 30 Days Mean": 9.3403333333,
         "GroupId": 304,
         "High": 9.346,
         "Low": 9.152,
         "Open": 9.238,
         "index": 304
        },
        {
         "Close": 9.212,
         "Close 30 Days Mean": 9.2860666667,
         "GroupId": 305,
         "High": 9.238,
         "Low": 9.196,
         "Open": 9.208,
         "index": 305
        },
        {
         "Close": 9.2,
         "Close 30 Days Mean": 9.2339333333,
         "GroupId": 306,
         "High": 9.23,
         "Low": 9.166,
         "Open": 9.204,
         "index": 306
        },
        {
         "Close": 9.286,
         "Close 30 Days Mean": 9.2245333333,
         "GroupId": 307,
         "High": 9.36,
         "Low": 9.238,
         "Open": 9.286,
         "index": 307
        },
        {
         "Close": 9.356,
         "Close 30 Days Mean": 9.2337333333,
         "GroupId": 308,
         "High": 9.396,
         "Low": 9.274,
         "Open": 9.294,
         "index": 308
        },
        {
         "Close": 9.49,
         "Close 30 Days Mean": 9.2739333333,
         "GroupId": 309,
         "High": 9.51,
         "Low": 9.436,
         "Open": 9.488,
         "index": 309
        },
        {
         "Close": 9.608,
         "Close 30 Days Mean": 9.3293333333,
         "GroupId": 310,
         "High": 9.632,
         "Low": 9.504,
         "Open": 9.544,
         "index": 310
        },
        {
         "Close": 9.812,
         "Close 30 Days Mean": 9.4175333333,
         "GroupId": 311,
         "High": 9.824,
         "Low": 9.764,
         "Open": 9.772,
         "index": 311
        },
        {
         "Close": 9.846,
         "Close 30 Days Mean": 9.5244,
         "GroupId": 312,
         "High": 9.862,
         "Low": 9.824,
         "Open": 9.834,
         "index": 312
        }
       ],
       "schema": {
        "fields": [
         {
          "name": "index",
          "type": "integer"
         },
         {
          "name": "GroupId",
          "type": "integer"
         },
         {
          "name": "Close",
          "type": "number"
         },
         {
          "name": "Open",
          "type": "number"
         },
         {
          "name": "High",
          "type": "number"
         },
         {
          "name": "Low",
          "type": "number"
         },
         {
          "name": "Close 30 Days Mean",
          "type": "number"
         }
        ],
        "pandas_version": "0.20.0",
        "primaryKey": [
         "index"
        ]
       }
      },
      "text/html": [
       "<div>\n",
       "<style scoped>\n",
       "    .dataframe tbody tr th:only-of-type {\n",
       "        vertical-align: middle;\n",
       "    }\n",
       "\n",
       "    .dataframe tbody tr th {\n",
       "        vertical-align: top;\n",
       "    }\n",
       "\n",
       "    .dataframe thead th {\n",
       "        text-align: right;\n",
       "    }\n",
       "</style>\n",
       "<table border=\"1\" class=\"dataframe\">\n",
       "  <thead>\n",
       "    <tr style=\"text-align: right;\">\n",
       "      <th></th>\n",
       "      <th>GroupId</th>\n",
       "      <th>Close</th>\n",
       "      <th>Open</th>\n",
       "      <th>High</th>\n",
       "      <th>Low</th>\n",
       "      <th>Close 30 Days Mean</th>\n",
       "    </tr>\n",
       "  </thead>\n",
       "  <tbody>\n",
       "    <tr>\n",
       "      <th>303</th>\n",
       "      <td>303</td>\n",
       "      <td>9.210</td>\n",
       "      <td>9.224</td>\n",
       "      <td>9.248</td>\n",
       "      <td>9.186</td>\n",
       "      <td>9.423667</td>\n",
       "    </tr>\n",
       "    <tr>\n",
       "      <th>304</th>\n",
       "      <td>304</td>\n",
       "      <td>9.220</td>\n",
       "      <td>9.238</td>\n",
       "      <td>9.346</td>\n",
       "      <td>9.152</td>\n",
       "      <td>9.340333</td>\n",
       "    </tr>\n",
       "    <tr>\n",
       "      <th>305</th>\n",
       "      <td>305</td>\n",
       "      <td>9.212</td>\n",
       "      <td>9.208</td>\n",
       "      <td>9.238</td>\n",
       "      <td>9.196</td>\n",
       "      <td>9.286067</td>\n",
       "    </tr>\n",
       "    <tr>\n",
       "      <th>306</th>\n",
       "      <td>306</td>\n",
       "      <td>9.200</td>\n",
       "      <td>9.204</td>\n",
       "      <td>9.230</td>\n",
       "      <td>9.166</td>\n",
       "      <td>9.233933</td>\n",
       "    </tr>\n",
       "    <tr>\n",
       "      <th>307</th>\n",
       "      <td>307</td>\n",
       "      <td>9.286</td>\n",
       "      <td>9.286</td>\n",
       "      <td>9.360</td>\n",
       "      <td>9.238</td>\n",
       "      <td>9.224533</td>\n",
       "    </tr>\n",
       "    <tr>\n",
       "      <th>308</th>\n",
       "      <td>308</td>\n",
       "      <td>9.356</td>\n",
       "      <td>9.294</td>\n",
       "      <td>9.396</td>\n",
       "      <td>9.274</td>\n",
       "      <td>9.233733</td>\n",
       "    </tr>\n",
       "    <tr>\n",
       "      <th>309</th>\n",
       "      <td>309</td>\n",
       "      <td>9.490</td>\n",
       "      <td>9.488</td>\n",
       "      <td>9.510</td>\n",
       "      <td>9.436</td>\n",
       "      <td>9.273933</td>\n",
       "    </tr>\n",
       "    <tr>\n",
       "      <th>310</th>\n",
       "      <td>310</td>\n",
       "      <td>9.608</td>\n",
       "      <td>9.544</td>\n",
       "      <td>9.632</td>\n",
       "      <td>9.504</td>\n",
       "      <td>9.329333</td>\n",
       "    </tr>\n",
       "    <tr>\n",
       "      <th>311</th>\n",
       "      <td>311</td>\n",
       "      <td>9.812</td>\n",
       "      <td>9.772</td>\n",
       "      <td>9.824</td>\n",
       "      <td>9.764</td>\n",
       "      <td>9.417533</td>\n",
       "    </tr>\n",
       "    <tr>\n",
       "      <th>312</th>\n",
       "      <td>312</td>\n",
       "      <td>9.846</td>\n",
       "      <td>9.834</td>\n",
       "      <td>9.862</td>\n",
       "      <td>9.824</td>\n",
       "      <td>9.524400</td>\n",
       "    </tr>\n",
       "  </tbody>\n",
       "</table>\n",
       "</div>"
      ],
      "text/plain": [
       "     GroupId  Close   Open   High    Low  Close 30 Days Mean\n",
       "303      303  9.210  9.224  9.248  9.186            9.423667\n",
       "304      304  9.220  9.238  9.346  9.152            9.340333\n",
       "305      305  9.212  9.208  9.238  9.196            9.286067\n",
       "306      306  9.200  9.204  9.230  9.166            9.233933\n",
       "307      307  9.286  9.286  9.360  9.238            9.224533\n",
       "308      308  9.356  9.294  9.396  9.274            9.233733\n",
       "309      309  9.490  9.488  9.510  9.436            9.273933\n",
       "310      310  9.608  9.544  9.632  9.504            9.329333\n",
       "311      311  9.812  9.772  9.824  9.764            9.417533\n",
       "312      312  9.846  9.834  9.862  9.824            9.524400"
      ]
     },
     "metadata": {},
     "output_type": "display_data"
    }
   ],
   "source": [
    "df = df_grouped_mean\n",
    "\n",
    "from sklearn.model_selection import train_test_split\n",
    "training_set, test_set = train_test_split(df, test_size=0.20, shuffle=False)\n",
    "display(len(training_set),training_set.head(10))\n",
    "display(len(test_set), test_set.head(10))"
   ]
  },
  {
   "cell_type": "markdown",
   "metadata": {},
   "source": [
    "## Training"
   ]
  },
  {
   "cell_type": "code",
   "execution_count": 147,
   "metadata": {},
   "outputs": [
    {
     "data": {
      "application/vnd.dataresource+json": {
       "data": [
        {
         "Open": 8.77,
         "index": 0
        },
        {
         "Open": 8.638,
         "index": 1
        },
        {
         "Open": 8.508,
         "index": 2
        },
        {
         "Open": 7.856,
         "index": 3
        },
        {
         "Open": 7.972,
         "index": 4
        },
        {
         "Open": 8.256,
         "index": 5
        },
        {
         "Open": 8.272,
         "index": 6
        },
        {
         "Open": 8.318,
         "index": 7
        },
        {
         "Open": 8.33,
         "index": 8
        },
        {
         "Open": 8.23,
         "index": 9
        }
       ],
       "schema": {
        "fields": [
         {
          "name": "index",
          "type": "integer"
         },
         {
          "name": "Open",
          "type": "number"
         }
        ],
        "pandas_version": "0.20.0",
        "primaryKey": [
         "index"
        ]
       }
      },
      "text/html": [
       "<div>\n",
       "<style scoped>\n",
       "    .dataframe tbody tr th:only-of-type {\n",
       "        vertical-align: middle;\n",
       "    }\n",
       "\n",
       "    .dataframe tbody tr th {\n",
       "        vertical-align: top;\n",
       "    }\n",
       "\n",
       "    .dataframe thead th {\n",
       "        text-align: right;\n",
       "    }\n",
       "</style>\n",
       "<table border=\"1\" class=\"dataframe\">\n",
       "  <thead>\n",
       "    <tr style=\"text-align: right;\">\n",
       "      <th></th>\n",
       "      <th>Open</th>\n",
       "    </tr>\n",
       "  </thead>\n",
       "  <tbody>\n",
       "    <tr>\n",
       "      <th>0</th>\n",
       "      <td>8.770</td>\n",
       "    </tr>\n",
       "    <tr>\n",
       "      <th>1</th>\n",
       "      <td>8.638</td>\n",
       "    </tr>\n",
       "    <tr>\n",
       "      <th>2</th>\n",
       "      <td>8.508</td>\n",
       "    </tr>\n",
       "    <tr>\n",
       "      <th>3</th>\n",
       "      <td>7.856</td>\n",
       "    </tr>\n",
       "    <tr>\n",
       "      <th>4</th>\n",
       "      <td>7.972</td>\n",
       "    </tr>\n",
       "    <tr>\n",
       "      <th>5</th>\n",
       "      <td>8.256</td>\n",
       "    </tr>\n",
       "    <tr>\n",
       "      <th>6</th>\n",
       "      <td>8.272</td>\n",
       "    </tr>\n",
       "    <tr>\n",
       "      <th>7</th>\n",
       "      <td>8.318</td>\n",
       "    </tr>\n",
       "    <tr>\n",
       "      <th>8</th>\n",
       "      <td>8.330</td>\n",
       "    </tr>\n",
       "    <tr>\n",
       "      <th>9</th>\n",
       "      <td>8.230</td>\n",
       "    </tr>\n",
       "  </tbody>\n",
       "</table>\n",
       "</div>"
      ],
      "text/plain": [
       "    Open\n",
       "0  8.770\n",
       "1  8.638\n",
       "2  8.508\n",
       "3  7.856\n",
       "4  7.972\n",
       "5  8.256\n",
       "6  8.272\n",
       "7  8.318\n",
       "8  8.330\n",
       "9  8.230"
      ]
     },
     "metadata": {},
     "output_type": "display_data"
    }
   ],
   "source": [
    "training_set=training_set['Open']\n",
    "training_set=pd.DataFrame(training_set)\n",
    "display(training_set.head(10))"
   ]
  },
  {
   "cell_type": "code",
   "execution_count": 148,
   "metadata": {},
   "outputs": [],
   "source": [
    "# Feature Scaling\n",
    "from sklearn.preprocessing import MinMaxScaler\n",
    "sc = MinMaxScaler(feature_range = (0, 1))\n",
    "training_set_scaled = sc.fit_transform(training_set)"
   ]
  },
  {
   "cell_type": "code",
   "execution_count": 152,
   "metadata": {},
   "outputs": [
    {
     "data": {
      "text/plain": [
       "(273, 30, 1)"
      ]
     },
     "metadata": {},
     "output_type": "display_data"
    }
   ],
   "source": [
    "# Creating a data structure with 30 timesteps and 1 output\n",
    "TIME_STEP=30\n",
    "X_train = []\n",
    "y_train = []\n",
    "for i in range(TIME_STEP, len(training_set)):\n",
    "    X_train.append(training_set_scaled[i-TIME_STEP:i, 0])\n",
    "    y_train.append(training_set_scaled[i, 0])\n",
    "X_train, y_train = np.array(X_train), np.array(y_train)\n",
    "\n",
    "# Reshaping\n",
    "X_train = np.reshape(X_train, (X_train.shape[0], X_train.shape[1], 1))\n",
    "display(X_train.shape)"
   ]
  },
  {
   "cell_type": "markdown",
   "metadata": {},
   "source": [
    "### LSTM network"
   ]
  },
  {
   "cell_type": "code",
   "execution_count": 153,
   "metadata": {},
   "outputs": [
    {
     "name": "stderr",
     "output_type": "stream",
     "text": [
      "Using TensorFlow backend.\n"
     ]
    }
   ],
   "source": [
    "# Importing the Keras libraries and packages\n",
    "from keras.models import Sequential\n",
    "from keras.layers import Dense\n",
    "from keras.layers import LSTM\n",
    "from keras.layers import Dropout"
   ]
  },
  {
   "cell_type": "code",
   "execution_count": 154,
   "metadata": {},
   "outputs": [
    {
     "ename": "AttributeError",
     "evalue": "module 'tensorflow' has no attribute 'get_default_graph'",
     "output_type": "error",
     "traceback": [
      "\u001b[0;31m------------------------------------------------\u001b[0m",
      "\u001b[0;31mAttributeError\u001b[0m Traceback (most recent call last)",
      "\u001b[0;32m<ipython-input-154-7cf72d340650>\u001b[0m in \u001b[0;36m<module>\u001b[0;34m\u001b[0m\n\u001b[1;32m      1\u001b[0m \u001b[0;31m# Initialising the LSTM\u001b[0m\u001b[0;34m\u001b[0m\u001b[0;34m\u001b[0m\u001b[0;34m\u001b[0m\u001b[0m\n\u001b[0;32m----> 2\u001b[0;31m \u001b[0mregressor\u001b[0m \u001b[0;34m=\u001b[0m \u001b[0mSequential\u001b[0m\u001b[0;34m(\u001b[0m\u001b[0;34m)\u001b[0m\u001b[0;34m\u001b[0m\u001b[0;34m\u001b[0m\u001b[0m\n\u001b[0m\u001b[1;32m      3\u001b[0m \u001b[0;31m# Adding the first LSTM layer and some Dropout regularisation\u001b[0m\u001b[0;34m\u001b[0m\u001b[0;34m\u001b[0m\u001b[0;34m\u001b[0m\u001b[0m\n\u001b[1;32m      4\u001b[0m \u001b[0mregressor\u001b[0m\u001b[0;34m.\u001b[0m\u001b[0madd\u001b[0m\u001b[0;34m(\u001b[0m\u001b[0mLSTM\u001b[0m\u001b[0;34m(\u001b[0m\u001b[0munits\u001b[0m \u001b[0;34m=\u001b[0m \u001b[0;36m50\u001b[0m\u001b[0;34m,\u001b[0m \u001b[0mreturn_sequences\u001b[0m \u001b[0;34m=\u001b[0m \u001b[0;32mTrue\u001b[0m\u001b[0;34m,\u001b[0m \u001b[0minput_shape\u001b[0m \u001b[0;34m=\u001b[0m \u001b[0;34m(\u001b[0m\u001b[0mX_train\u001b[0m\u001b[0;34m.\u001b[0m\u001b[0mshape\u001b[0m\u001b[0;34m[\u001b[0m\u001b[0;36m1\u001b[0m\u001b[0;34m]\u001b[0m\u001b[0;34m,\u001b[0m \u001b[0;36m1\u001b[0m\u001b[0;34m)\u001b[0m\u001b[0;34m)\u001b[0m\u001b[0;34m)\u001b[0m\u001b[0;34m\u001b[0m\u001b[0;34m\u001b[0m\u001b[0m\n\u001b[1;32m      5\u001b[0m \u001b[0mregressor\u001b[0m\u001b[0;34m.\u001b[0m\u001b[0madd\u001b[0m\u001b[0;34m(\u001b[0m\u001b[0mDropout\u001b[0m\u001b[0;34m(\u001b[0m\u001b[0;36m0.2\u001b[0m\u001b[0;34m)\u001b[0m\u001b[0;34m)\u001b[0m\u001b[0;34m\u001b[0m\u001b[0;34m\u001b[0m\u001b[0m\n",
      "\u001b[0;32m~/anaconda3/lib/python3.7/site-packages/keras/engine/sequential.py\u001b[0m in \u001b[0;36m__init__\u001b[0;34m(self, layers, name)\u001b[0m\n\u001b[1;32m     85\u001b[0m \u001b[0;34m\u001b[0m\u001b[0m\n\u001b[1;32m     86\u001b[0m     \u001b[0;32mdef\u001b[0m \u001b[0m__init__\u001b[0m\u001b[0;34m(\u001b[0m\u001b[0mself\u001b[0m\u001b[0;34m,\u001b[0m \u001b[0mlayers\u001b[0m\u001b[0;34m=\u001b[0m\u001b[0;32mNone\u001b[0m\u001b[0;34m,\u001b[0m \u001b[0mname\u001b[0m\u001b[0;34m=\u001b[0m\u001b[0;32mNone\u001b[0m\u001b[0;34m)\u001b[0m\u001b[0;34m:\u001b[0m\u001b[0;34m\u001b[0m\u001b[0;34m\u001b[0m\u001b[0m\n\u001b[0;32m---> 87\u001b[0;31m         \u001b[0msuper\u001b[0m\u001b[0;34m(\u001b[0m\u001b[0mSequential\u001b[0m\u001b[0;34m,\u001b[0m \u001b[0mself\u001b[0m\u001b[0;34m)\u001b[0m\u001b[0;34m.\u001b[0m\u001b[0m__init__\u001b[0m\u001b[0;34m(\u001b[0m\u001b[0mname\u001b[0m\u001b[0;34m=\u001b[0m\u001b[0mname\u001b[0m\u001b[0;34m)\u001b[0m\u001b[0;34m\u001b[0m\u001b[0;34m\u001b[0m\u001b[0m\n\u001b[0m\u001b[1;32m     88\u001b[0m         \u001b[0mself\u001b[0m\u001b[0;34m.\u001b[0m\u001b[0m_build_input_shape\u001b[0m \u001b[0;34m=\u001b[0m \u001b[0;32mNone\u001b[0m\u001b[0;34m\u001b[0m\u001b[0;34m\u001b[0m\u001b[0m\n\u001b[1;32m     89\u001b[0m \u001b[0;34m\u001b[0m\u001b[0m\n",
      "\u001b[0;32m~/anaconda3/lib/python3.7/site-packages/keras/legacy/interfaces.py\u001b[0m in \u001b[0;36mwrapper\u001b[0;34m(*args, **kwargs)\u001b[0m\n\u001b[1;32m     89\u001b[0m                 warnings.warn('Update your `' + object_name + '` call to the ' +\n\u001b[1;32m     90\u001b[0m                               'Keras 2 API: ' + signature, stacklevel=2)\n\u001b[0;32m---> 91\u001b[0;31m             \u001b[0;32mreturn\u001b[0m \u001b[0mfunc\u001b[0m\u001b[0;34m(\u001b[0m\u001b[0;34m*\u001b[0m\u001b[0margs\u001b[0m\u001b[0;34m,\u001b[0m \u001b[0;34m**\u001b[0m\u001b[0mkwargs\u001b[0m\u001b[0;34m)\u001b[0m\u001b[0;34m\u001b[0m\u001b[0;34m\u001b[0m\u001b[0m\n\u001b[0m\u001b[1;32m     92\u001b[0m         \u001b[0mwrapper\u001b[0m\u001b[0;34m.\u001b[0m\u001b[0m_original_function\u001b[0m \u001b[0;34m=\u001b[0m \u001b[0mfunc\u001b[0m\u001b[0;34m\u001b[0m\u001b[0;34m\u001b[0m\u001b[0m\n\u001b[1;32m     93\u001b[0m         \u001b[0;32mreturn\u001b[0m \u001b[0mwrapper\u001b[0m\u001b[0;34m\u001b[0m\u001b[0;34m\u001b[0m\u001b[0m\n",
      "\u001b[0;32m~/anaconda3/lib/python3.7/site-packages/keras/engine/network.py\u001b[0m in \u001b[0;36m__init__\u001b[0;34m(self, *args, **kwargs)\u001b[0m\n\u001b[1;32m     94\u001b[0m         \u001b[0;32melse\u001b[0m\u001b[0;34m:\u001b[0m\u001b[0;34m\u001b[0m\u001b[0;34m\u001b[0m\u001b[0m\n\u001b[1;32m     95\u001b[0m             \u001b[0;31m# Subclassed network\u001b[0m\u001b[0;34m\u001b[0m\u001b[0;34m\u001b[0m\u001b[0;34m\u001b[0m\u001b[0m\n\u001b[0;32m---> 96\u001b[0;31m             \u001b[0mself\u001b[0m\u001b[0;34m.\u001b[0m\u001b[0m_init_subclassed_network\u001b[0m\u001b[0;34m(\u001b[0m\u001b[0;34m**\u001b[0m\u001b[0mkwargs\u001b[0m\u001b[0;34m)\u001b[0m\u001b[0;34m\u001b[0m\u001b[0;34m\u001b[0m\u001b[0m\n\u001b[0m\u001b[1;32m     97\u001b[0m \u001b[0;34m\u001b[0m\u001b[0m\n\u001b[1;32m     98\u001b[0m     \u001b[0;32mdef\u001b[0m \u001b[0m_base_init\u001b[0m\u001b[0;34m(\u001b[0m\u001b[0mself\u001b[0m\u001b[0;34m,\u001b[0m \u001b[0mname\u001b[0m\u001b[0;34m=\u001b[0m\u001b[0;32mNone\u001b[0m\u001b[0;34m)\u001b[0m\u001b[0;34m:\u001b[0m\u001b[0;34m\u001b[0m\u001b[0;34m\u001b[0m\u001b[0m\n",
      "\u001b[0;32m~/anaconda3/lib/python3.7/site-packages/keras/engine/network.py\u001b[0m in \u001b[0;36m_init_subclassed_network\u001b[0;34m(self, name)\u001b[0m\n\u001b[1;32m    292\u001b[0m \u001b[0;34m\u001b[0m\u001b[0m\n\u001b[1;32m    293\u001b[0m     \u001b[0;32mdef\u001b[0m \u001b[0m_init_subclassed_network\u001b[0m\u001b[0;34m(\u001b[0m\u001b[0mself\u001b[0m\u001b[0;34m,\u001b[0m \u001b[0mname\u001b[0m\u001b[0;34m=\u001b[0m\u001b[0;32mNone\u001b[0m\u001b[0;34m)\u001b[0m\u001b[0;34m:\u001b[0m\u001b[0;34m\u001b[0m\u001b[0;34m\u001b[0m\u001b[0m\n\u001b[0;32m--> 294\u001b[0;31m         \u001b[0mself\u001b[0m\u001b[0;34m.\u001b[0m\u001b[0m_base_init\u001b[0m\u001b[0;34m(\u001b[0m\u001b[0mname\u001b[0m\u001b[0;34m=\u001b[0m\u001b[0mname\u001b[0m\u001b[0;34m)\u001b[0m\u001b[0;34m\u001b[0m\u001b[0;34m\u001b[0m\u001b[0m\n\u001b[0m\u001b[1;32m    295\u001b[0m         \u001b[0mself\u001b[0m\u001b[0;34m.\u001b[0m\u001b[0m_is_graph_network\u001b[0m \u001b[0;34m=\u001b[0m \u001b[0;32mFalse\u001b[0m\u001b[0;34m\u001b[0m\u001b[0;34m\u001b[0m\u001b[0m\n\u001b[1;32m    296\u001b[0m         \u001b[0mself\u001b[0m\u001b[0;34m.\u001b[0m\u001b[0m_expects_training_arg\u001b[0m \u001b[0;34m=\u001b[0m \u001b[0mhas_arg\u001b[0m\u001b[0;34m(\u001b[0m\u001b[0mself\u001b[0m\u001b[0;34m.\u001b[0m\u001b[0mcall\u001b[0m\u001b[0;34m,\u001b[0m \u001b[0;34m'training'\u001b[0m\u001b[0;34m)\u001b[0m\u001b[0;34m\u001b[0m\u001b[0;34m\u001b[0m\u001b[0m\n",
      "\u001b[0;32m~/anaconda3/lib/python3.7/site-packages/keras/engine/network.py\u001b[0m in \u001b[0;36m_base_init\u001b[0;34m(self, name)\u001b[0m\n\u001b[1;32m    107\u001b[0m         \u001b[0;32mif\u001b[0m \u001b[0;32mnot\u001b[0m \u001b[0mname\u001b[0m\u001b[0;34m:\u001b[0m\u001b[0;34m\u001b[0m\u001b[0;34m\u001b[0m\u001b[0m\n\u001b[1;32m    108\u001b[0m             \u001b[0mprefix\u001b[0m \u001b[0;34m=\u001b[0m \u001b[0mself\u001b[0m\u001b[0;34m.\u001b[0m\u001b[0m__class__\u001b[0m\u001b[0;34m.\u001b[0m\u001b[0m__name__\u001b[0m\u001b[0;34m.\u001b[0m\u001b[0mlower\u001b[0m\u001b[0;34m(\u001b[0m\u001b[0;34m)\u001b[0m\u001b[0;34m\u001b[0m\u001b[0;34m\u001b[0m\u001b[0m\n\u001b[0;32m--> 109\u001b[0;31m             \u001b[0mname\u001b[0m \u001b[0;34m=\u001b[0m \u001b[0mprefix\u001b[0m \u001b[0;34m+\u001b[0m \u001b[0;34m'_'\u001b[0m \u001b[0;34m+\u001b[0m \u001b[0mstr\u001b[0m\u001b[0;34m(\u001b[0m\u001b[0mK\u001b[0m\u001b[0;34m.\u001b[0m\u001b[0mget_uid\u001b[0m\u001b[0;34m(\u001b[0m\u001b[0mprefix\u001b[0m\u001b[0;34m)\u001b[0m\u001b[0;34m)\u001b[0m\u001b[0;34m\u001b[0m\u001b[0;34m\u001b[0m\u001b[0m\n\u001b[0m\u001b[1;32m    110\u001b[0m         \u001b[0mself\u001b[0m\u001b[0;34m.\u001b[0m\u001b[0mname\u001b[0m \u001b[0;34m=\u001b[0m \u001b[0mname\u001b[0m\u001b[0;34m\u001b[0m\u001b[0;34m\u001b[0m\u001b[0m\n\u001b[1;32m    111\u001b[0m \u001b[0;34m\u001b[0m\u001b[0m\n",
      "\u001b[0;32m~/anaconda3/lib/python3.7/site-packages/keras/backend/tensorflow_backend.py\u001b[0m in \u001b[0;36mget_uid\u001b[0;34m(prefix)\u001b[0m\n\u001b[1;32m     72\u001b[0m     \"\"\"\n\u001b[1;32m     73\u001b[0m     \u001b[0;32mglobal\u001b[0m \u001b[0m_GRAPH_UID_DICTS\u001b[0m\u001b[0;34m\u001b[0m\u001b[0;34m\u001b[0m\u001b[0m\n\u001b[0;32m---> 74\u001b[0;31m     \u001b[0mgraph\u001b[0m \u001b[0;34m=\u001b[0m \u001b[0mtf\u001b[0m\u001b[0;34m.\u001b[0m\u001b[0mget_default_graph\u001b[0m\u001b[0;34m(\u001b[0m\u001b[0;34m)\u001b[0m\u001b[0;34m\u001b[0m\u001b[0;34m\u001b[0m\u001b[0m\n\u001b[0m\u001b[1;32m     75\u001b[0m     \u001b[0;32mif\u001b[0m \u001b[0mgraph\u001b[0m \u001b[0;32mnot\u001b[0m \u001b[0;32min\u001b[0m \u001b[0m_GRAPH_UID_DICTS\u001b[0m\u001b[0;34m:\u001b[0m\u001b[0;34m\u001b[0m\u001b[0;34m\u001b[0m\u001b[0m\n\u001b[1;32m     76\u001b[0m         \u001b[0m_GRAPH_UID_DICTS\u001b[0m\u001b[0;34m[\u001b[0m\u001b[0mgraph\u001b[0m\u001b[0;34m]\u001b[0m \u001b[0;34m=\u001b[0m \u001b[0mdefaultdict\u001b[0m\u001b[0;34m(\u001b[0m\u001b[0mint\u001b[0m\u001b[0;34m)\u001b[0m\u001b[0;34m\u001b[0m\u001b[0;34m\u001b[0m\u001b[0m\n",
      "\u001b[0;31mAttributeError\u001b[0m: module 'tensorflow' has no attribute 'get_default_graph'"
     ]
    }
   ],
   "source": [
    "# Initialising the LSTM\n",
    "regressor = Sequential()\n",
    "\n",
    "# Adding the first LSTM layer and some Dropout regularisation\n",
    "regressor.add(LSTM(units = 50, return_sequences = True, input_shape = (X_train.shape[1], 1)))\n",
    "regressor.add(Dropout(0.2))\n",
    "\n",
    "# Adding a second LSTM layer and some Dropout regularisation\n",
    "regressor.add(LSTM(units = 50, return_sequences = True))\n",
    "regressor.add(Dropout(0.2))\n",
    "\n",
    "# Adding a third LSTM layer and some Dropout regularisation\n",
    "regressor.add(LSTM(units = 50, return_sequences = True))\n",
    "regressor.add(Dropout(0.2))\n",
    "\n",
    "# Adding a fourth LSTM layer and some Dropout regularisation\n",
    "regressor.add(LSTM(units = 50))\n",
    "regressor.add(Dropout(0.2))\n",
    "\n",
    "# Adding the output layer\n",
    "regressor.add(Dense(units = 1))"
   ]
  },
  {
   "cell_type": "code",
   "execution_count": 155,
   "metadata": {},
   "outputs": [
    {
     "ename": "NameError",
     "evalue": "name 'regressor' is not defined",
     "output_type": "error",
     "traceback": [
      "\u001b[0;31m------------------------------------------------\u001b[0m",
      "\u001b[0;31mNameError\u001b[0m      Traceback (most recent call last)",
      "\u001b[0;32m<ipython-input-155-35a931e02910>\u001b[0m in \u001b[0;36m<module>\u001b[0;34m\u001b[0m\n\u001b[1;32m      1\u001b[0m \u001b[0;31m# Compiling the RNN\u001b[0m\u001b[0;34m\u001b[0m\u001b[0;34m\u001b[0m\u001b[0;34m\u001b[0m\u001b[0m\n\u001b[0;32m----> 2\u001b[0;31m \u001b[0mregressor\u001b[0m\u001b[0;34m.\u001b[0m\u001b[0mcompile\u001b[0m\u001b[0;34m(\u001b[0m\u001b[0moptimizer\u001b[0m \u001b[0;34m=\u001b[0m \u001b[0;34m'adam'\u001b[0m\u001b[0;34m,\u001b[0m \u001b[0mloss\u001b[0m \u001b[0;34m=\u001b[0m \u001b[0;34m'mean_squared_error'\u001b[0m\u001b[0;34m)\u001b[0m\u001b[0;34m\u001b[0m\u001b[0;34m\u001b[0m\u001b[0m\n\u001b[0m\u001b[1;32m      3\u001b[0m \u001b[0;34m\u001b[0m\u001b[0m\n\u001b[1;32m      4\u001b[0m \u001b[0;31m# Fitting the RNN to the Training set\u001b[0m\u001b[0;34m\u001b[0m\u001b[0;34m\u001b[0m\u001b[0;34m\u001b[0m\u001b[0m\n\u001b[1;32m      5\u001b[0m \u001b[0mregressor\u001b[0m\u001b[0;34m.\u001b[0m\u001b[0mfit\u001b[0m\u001b[0;34m(\u001b[0m\u001b[0mX_train\u001b[0m\u001b[0;34m,\u001b[0m \u001b[0my_train\u001b[0m\u001b[0;34m,\u001b[0m \u001b[0mepochs\u001b[0m \u001b[0;34m=\u001b[0m \u001b[0;36m100\u001b[0m\u001b[0;34m,\u001b[0m \u001b[0mbatch_size\u001b[0m \u001b[0;34m=\u001b[0m \u001b[0;36m32\u001b[0m\u001b[0;34m)\u001b[0m\u001b[0;34m\u001b[0m\u001b[0;34m\u001b[0m\u001b[0m\n",
      "\u001b[0;31mNameError\u001b[0m: name 'regressor' is not defined"
     ]
    }
   ],
   "source": [
    "# Compiling the RNN\n",
    "regressor.compile(optimizer = 'adam', loss = 'mean_squared_error')\n",
    "\n",
    "# Fitting the RNN to the Training set\n",
    "regressor.fit(X_train, y_train, epochs = 100, batch_size = 32)"
   ]
  },
  {
   "cell_type": "code",
   "execution_count": null,
   "metadata": {},
   "outputs": [],
   "source": []
  }
 ],
 "metadata": {
  "kernelspec": {
   "display_name": "Python 3",
   "language": "python",
   "name": "python3"
  },
  "language_info": {
   "codemirror_mode": {
    "name": "ipython",
    "version": 3
   },
   "file_extension": ".py",
   "mimetype": "text/x-python",
   "name": "python",
   "nbconvert_exporter": "python",
   "pygments_lexer": "ipython3",
   "version": "3.7.2"
  }
 },
 "nbformat": 4,
 "nbformat_minor": 2
}

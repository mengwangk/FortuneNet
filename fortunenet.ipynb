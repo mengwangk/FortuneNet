{
  "nbformat": 4,
  "nbformat_minor": 0,
  "metadata": {
    "colab": {
      "name": "lotto.ipynb",
      "version": "0.3.2",
      "provenance": [],
      "include_colab_link": true
    },
    "language_info": {
      "codemirror_mode": {
        "name": "ipython",
        "version": 3
      },
      "file_extension": ".py",
      "mimetype": "text/x-python",
      "name": "python",
      "nbconvert_exporter": "python",
      "pygments_lexer": "ipython3",
      "version": "3.7.2"
    },
    "kernelspec": {
      "display_name": "Python 3",
      "language": "python",
      "name": "python3"
    }
  },
  "cells": [
    {
      "cell_type": "markdown",
      "metadata": {
        "id": "view-in-github",
        "colab_type": "text"
      },
      "source": [
        "<a href=\"https://colab.research.google.com/github/mengwangk/FortuneNet/blob/master/fortunenet.ipynb\" target=\"_parent\"><img src=\"https://colab.research.google.com/assets/colab-badge.svg\" alt=\"Open In Colab\"/></a>"
      ]
    },
    {
      "metadata": {
        "colab_type": "text",
        "id": "b5243bUj8-K1"
      },
      "cell_type": "markdown",
      "source": [
        "# FortuneNet"
      ]
    },
    {
      "metadata": {
        "colab_type": "text",
        "id": "CQBDKNHCB7gO"
      },
      "cell_type": "markdown",
      "source": [
        "## Magic"
      ]
    },
    {
      "metadata": {
        "id": "-IIhuSvDcwZy",
        "colab_type": "code",
        "colab": {}
      },
      "cell_type": "code",
      "source": [
        "%reload_ext autoreload\n",
        "%autoreload 2\n",
        "\n",
        "%matplotlib inline"
      ],
      "execution_count": 0,
      "outputs": []
    },
    {
      "metadata": {
        "id": "ytVP_Sy4cwZ1",
        "colab_type": "text"
      },
      "cell_type": "markdown",
      "source": [
        "## Imports"
      ]
    },
    {
      "metadata": {
        "id": "pdS7XRoicwZ2",
        "colab_type": "code",
        "colab": {}
      },
      "cell_type": "code",
      "source": [
        "# To support both python 2 and python 3\n",
        "from __future__ import division, print_function, unicode_literals\n",
        "\n",
        "# Common imports\n",
        "import numpy as np\n",
        "import os\n",
        "import pandas as pd\n",
        "import featuretools as ft\n",
        "import matplotlib as mpl\n",
        "import matplotlib.pyplot as plt"
      ],
      "execution_count": 0,
      "outputs": []
    },
    {
      "metadata": {
        "id": "A9eZHyChcwZ4",
        "colab_type": "code",
        "colab": {}
      },
      "cell_type": "code",
      "source": [
        "from fastai.basics import *\n",
        "from fastai.tabular import *"
      ],
      "execution_count": 0,
      "outputs": []
    },
    {
      "metadata": {
        "id": "ugtBDkyVcwZ6",
        "colab_type": "text"
      },
      "cell_type": "markdown",
      "source": [
        "## Setup"
      ]
    },
    {
      "metadata": {
        "id": "tc6D3kBScwZ7",
        "colab_type": "code",
        "colab": {}
      },
      "cell_type": "code",
      "source": [
        "# to make this notebook's output stable across runs\n",
        "np.random.seed(42)\n",
        "\n",
        "mpl.rc('axes', labelsize=14)\n",
        "mpl.rc('xtick', labelsize=12)\n",
        "mpl.rc('ytick', labelsize=12)\n",
        "\n",
        "# Ignore useless warnings (see SciPy issue #5998)\n",
        "import warnings\n",
        "warnings.filterwarnings(action=\"ignore\", message=\"^internal gelsd\")\n",
        "\n",
        "from IPython.display import display\n",
        "pd.options.display.max_columns = 50\n",
        "pd.options.display.html.table_schema = True"
      ],
      "execution_count": 0,
      "outputs": []
    },
    {
      "metadata": {
        "id": "qEhj3OF3cwZ9",
        "colab_type": "code",
        "colab": {}
      },
      "cell_type": "code",
      "source": [
        "# Where to save the figures\n",
        "PROJECT_ROOT_DIR = \".\"\n",
        "ID = \"fortunenet\"\n",
        "IMAGES_PATH = os.path.join(PROJECT_ROOT_DIR, \"images\", ID)\n",
        "\n",
        "def save_fig(fig_id, tight_layout=True, fig_extension=\"png\", resolution=300):\n",
        "    path = os.path.join(IMAGES_PATH, fig_id + \".\" + fig_extension)\n",
        "    print(\"Saving figure\", fig_id)\n",
        "    if tight_layout:\n",
        "        plt.tight_layout()\n",
        "    plt.savefig(path, format=fig_extension, dpi=resolution)"
      ],
      "execution_count": 0,
      "outputs": []
    },
    {
      "metadata": {
        "id": "W9QfYuy9cwZ_",
        "colab_type": "text"
      },
      "cell_type": "markdown",
      "source": [
        "## Helper Functions"
      ]
    },
    {
      "metadata": {
        "id": "-18vaytjcwaA",
        "colab_type": "code",
        "colab": {}
      },
      "cell_type": "code",
      "source": [
        "def add_datepart(df, fldname, drop=True, time=False):\n",
        "    \"\"\"Helper function that adds columns relevant to a date.\"\"\"\n",
        "    fld = df[fldname]\n",
        "    fld_dtype = fld.dtype\n",
        "    if isinstance(fld_dtype, pd.core.dtypes.dtypes.DatetimeTZDtype):\n",
        "        fld_dtype = np.datetime64\n",
        "\n",
        "    if not np.issubdtype(fld_dtype, np.datetime64):\n",
        "        df[fldname] = fld = pd.to_datetime(fld, infer_datetime_format=True)\n",
        "    targ_pre = re.sub('[Dd]ate$', '', fldname)\n",
        "    attr = ['Year', 'Month', 'Week', 'Day', 'Dayofweek', 'Dayofyear',\n",
        "            'Is_month_end', 'Is_month_start', 'Is_quarter_end', 'Is_quarter_start', 'Is_year_end', 'Is_year_start']\n",
        "    if time: attr = attr + ['Hour', 'Minute', 'Second']\n",
        "    for n in attr: df[targ_pre + n] = getattr(fld.dt, n.lower())\n",
        "    df[targ_pre + 'Elapsed'] = fld.astype(np.int64) // 10 ** 9\n",
        "    if drop: df.drop(fldname, axis=1, inplace=True)"
      ],
      "execution_count": 0,
      "outputs": []
    },
    {
      "metadata": {
        "id": "Hj7lXLY3cwaD",
        "colab_type": "code",
        "colab": {}
      },
      "cell_type": "code",
      "source": [
        "def download_file(url, path, download_path):\n",
        "    \"\"\"Download the dataset\"\"\"\n",
        "    if not os.path.isdir(path):\n",
        "        os.makedirs(path)\n",
        "    urllib.request.urlretrieve(url, download_path)\n",
        "    if (os.path.isfile(download_path)):\n",
        "        print(f'Download path: {download_path}')"
      ],
      "execution_count": 0,
      "outputs": []
    },
    {
      "metadata": {
        "id": "JigLrfOscwaH",
        "colab_type": "text"
      },
      "cell_type": "markdown",
      "source": [
        "## Datasets - Run the section you want to analyse"
      ]
    },
    {
      "metadata": {
        "id": "O1oXBFtycwaH",
        "colab_type": "code",
        "colab": {}
      },
      "cell_type": "code",
      "source": [
        "import os\n",
        "import zipfile\n",
        "from six.moves import urllib\n",
        "\n",
        "DOWNLOAD_ROOT = \"http://www.sportstoto.com.my/\"\n",
        "LOTTO_PATH = os.path.join(os.getcwd(), \"datasets\", \"lotto\")"
      ],
      "execution_count": 0,
      "outputs": []
    },
    {
      "metadata": {
        "colab_type": "text",
        "id": "9DdDmsXnCDK4"
      },
      "cell_type": "markdown",
      "source": [
        "### Dataset - 4D"
      ]
    },
    {
      "metadata": {
        "id": "KYjdmdlacwaM",
        "colab_type": "code",
        "colab": {}
      },
      "cell_type": "code",
      "source": [
        "_4D_URL = DOWNLOAD_ROOT + \"upload/4D.zip\"\n",
        "_4D_ZIP = os.path.join(LOTTO_PATH, \"4D.zip\")"
      ],
      "execution_count": 0,
      "outputs": []
    },
    {
      "metadata": {
        "colab_type": "code",
        "id": "kcCjDnNqCsxN",
        "colab": {
          "base_uri": "https://localhost:8080/",
          "height": 34
        },
        "outputId": "a210b2e4-647e-4337-b6bb-06b776a9cd40"
      },
      "cell_type": "code",
      "source": [
        "# Download 4D\n",
        "download_file(_4D_URL, LOTTO_PATH, _4D_ZIP)"
      ],
      "execution_count": 14,
      "outputs": [
        {
          "output_type": "stream",
          "text": [
            "Download path: /content/datasets/lotto/4D.zip\n"
          ],
          "name": "stdout"
        }
      ]
    },
    {
      "metadata": {
        "id": "eDYOndxHcwaU",
        "colab_type": "code",
        "colab": {}
      },
      "cell_type": "code",
      "source": [
        "downloaded_file = _4D_ZIP"
      ],
      "execution_count": 0,
      "outputs": []
    },
    {
      "metadata": {
        "id": "PpAs4SgXcwaW",
        "colab_type": "text"
      },
      "cell_type": "markdown",
      "source": [
        "### Dataset - Others"
      ]
    },
    {
      "metadata": {
        "id": "88ENAOYFcwaX",
        "colab_type": "code",
        "colab": {}
      },
      "cell_type": "code",
      "source": [
        ""
      ],
      "execution_count": 0,
      "outputs": []
    },
    {
      "metadata": {
        "id": "rNk59tWhcwaZ",
        "colab_type": "text"
      },
      "cell_type": "markdown",
      "source": [
        "## Read the downloaded file"
      ]
    },
    {
      "metadata": {
        "colab_type": "code",
        "id": "I7frraxZLNzA",
        "colab": {}
      },
      "cell_type": "code",
      "source": [
        "# Read into data frame\n",
        "df = pd.read_csv(downloaded_file, header=0, sep=',', quotechar='\"')"
      ],
      "execution_count": 0,
      "outputs": []
    },
    {
      "metadata": {
        "colab_type": "code",
        "id": "ZlLHkuqmEeI2",
        "outputId": "b7188f42-881a-4ff1-c75c-c9a6b8aec5c7",
        "colab": {
          "base_uri": "https://localhost:8080/",
          "height": 824
        }
      },
      "cell_type": "code",
      "source": [
        "# Tail the last 10 rows\n",
        "df.tail(10).T"
      ],
      "execution_count": 64,
      "outputs": [
        {
          "output_type": "execute_result",
          "data": {
            "application/vnd.dataresource+json": {
              "data": [
                {
                  "4524": 493219,
                  "4525": 493319,
                  "4526": 493419,
                  "4527": 493519,
                  "4528": 493619,
                  "4529": 493719,
                  "4530": 493819,
                  "4531": 493919,
                  "4532": 494019,
                  "4533": 494119,
                  "index": "DrawNo"
                },
                {
                  "4524": 20190410,
                  "4525": 20190413,
                  "4526": 20190414,
                  "4527": 20190417,
                  "4528": 20190420,
                  "4529": 20190421,
                  "4530": 20190424,
                  "4531": 20190427,
                  "4532": 20190428,
                  "4533": 20190501,
                  "index": "DrawDate"
                },
                {
                  "4524": 1002,
                  "4525": 9397,
                  "4526": 3196,
                  "4527": 4007,
                  "4528": 6622,
                  "4529": 3634,
                  "4530": 1615,
                  "4531": 3582,
                  "4532": 8975,
                  "4533": 4633,
                  "index": "1stPrizeNo"
                },
                {
                  "4524": 7403,
                  "4525": 1660,
                  "4526": 3443,
                  "4527": 8246,
                  "4528": 7203,
                  "4529": 5822,
                  "4530": 9328,
                  "4531": 1486,
                  "4532": 1998,
                  "4533": 4154,
                  "index": "2ndPrizeNo"
                },
                {
                  "4524": 123,
                  "4525": 2187,
                  "4526": 1796,
                  "4527": 1493,
                  "4528": 4982,
                  "4529": 4752,
                  "4530": 6138,
                  "4531": 8937,
                  "4532": 8973,
                  "4533": 318,
                  "index": "3rdPrizeNo"
                },
                {
                  "4524": 4950,
                  "4525": 9181,
                  "4526": 1957,
                  "4527": 2102,
                  "4528": 993,
                  "4529": 7700,
                  "4530": 6914,
                  "4531": 8464,
                  "4532": 3112,
                  "4533": 1271,
                  "index": "SpecialNo1"
                },
                {
                  "4524": 1195,
                  "4525": 2838,
                  "4526": 7325,
                  "4527": 194,
                  "4528": 7631,
                  "4529": 1287,
                  "4530": 4874,
                  "4531": 5668,
                  "4532": 2316,
                  "4533": 7440,
                  "index": "SpecialNo2"
                },
                {
                  "4524": 524,
                  "4525": 4971,
                  "4526": 6801,
                  "4527": 6853,
                  "4528": 8813,
                  "4529": 2736,
                  "4530": 6988,
                  "4531": 4914,
                  "4532": 8050,
                  "4533": 8707,
                  "index": "SpecialNo3"
                },
                {
                  "4524": 6065,
                  "4525": 400,
                  "4526": 2098,
                  "4527": 9083,
                  "4528": 6902,
                  "4529": 5179,
                  "4530": 2663,
                  "4531": 2182,
                  "4532": 4631,
                  "4533": 6127,
                  "index": "SpecialNo4"
                },
                {
                  "4524": 2364,
                  "4525": 9201,
                  "4526": 2517,
                  "4527": 6763,
                  "4528": 8474,
                  "4529": 4386,
                  "4530": 3020,
                  "4531": 2689,
                  "4532": 3584,
                  "4533": 2690,
                  "index": "SpecialNo5"
                },
                {
                  "4524": 8959,
                  "4525": 4830,
                  "4526": 2231,
                  "4527": 2599,
                  "4528": 4372,
                  "4529": 997,
                  "4530": 1152,
                  "4531": 7176,
                  "4532": 9329,
                  "4533": 8531,
                  "index": "SpecialNo6"
                },
                {
                  "4524": 5930,
                  "4525": 8293,
                  "4526": 8870,
                  "4527": 5192,
                  "4528": 5081,
                  "4529": 312,
                  "4530": 7209,
                  "4531": 3315,
                  "4532": 1714,
                  "4533": 9627,
                  "index": "SpecialNo7"
                },
                {
                  "4524": 989,
                  "4525": 2589,
                  "4526": 1121,
                  "4527": 3514,
                  "4528": 2037,
                  "4529": 918,
                  "4530": 527,
                  "4531": 3413,
                  "4532": 1572,
                  "4533": 6547,
                  "index": "SpecialNo8"
                },
                {
                  "4524": 8223,
                  "4525": 2962,
                  "4526": 9679,
                  "4527": 8253,
                  "4528": 8326,
                  "4529": 4313,
                  "4530": 3310,
                  "4531": 4247,
                  "4532": 5405,
                  "4533": 2222,
                  "index": "SpecialNo9"
                },
                {
                  "4524": 1889,
                  "4525": 6365,
                  "4526": 7159,
                  "4527": 8548,
                  "4528": 6705,
                  "4529": 6232,
                  "4530": 1081,
                  "4531": 9621,
                  "4532": 1344,
                  "4533": 2106,
                  "index": "SpecialNo10"
                },
                {
                  "4524": 8534,
                  "4525": 8,
                  "4526": 8711,
                  "4527": 2385,
                  "4528": 5764,
                  "4529": 6400,
                  "4530": 6585,
                  "4531": 955,
                  "4532": 5392,
                  "4533": 3663,
                  "index": "ConsolationNo1"
                },
                {
                  "4524": 471,
                  "4525": 1401,
                  "4526": 4940,
                  "4527": 3325,
                  "4528": 5979,
                  "4529": 2898,
                  "4530": 4517,
                  "4531": 4440,
                  "4532": 1206,
                  "4533": 8503,
                  "index": "ConsolationNo2"
                },
                {
                  "4524": 999,
                  "4525": 7610,
                  "4526": 4441,
                  "4527": 6311,
                  "4528": 1951,
                  "4529": 352,
                  "4530": 1314,
                  "4531": 8582,
                  "4532": 7955,
                  "4533": 9387,
                  "index": "ConsolationNo3"
                },
                {
                  "4524": 2114,
                  "4525": 6501,
                  "4526": 6414,
                  "4527": 1837,
                  "4528": 7761,
                  "4529": 3326,
                  "4530": 1181,
                  "4531": 6238,
                  "4532": 1235,
                  "4533": 4279,
                  "index": "ConsolationNo4"
                },
                {
                  "4524": 5833,
                  "4525": 2624,
                  "4526": 4897,
                  "4527": 8312,
                  "4528": 9182,
                  "4529": 6903,
                  "4530": 9444,
                  "4531": 2945,
                  "4532": 1197,
                  "4533": 992,
                  "index": "ConsolationNo5"
                },
                {
                  "4524": 6200,
                  "4525": 4544,
                  "4526": 5403,
                  "4527": 8840,
                  "4528": 8027,
                  "4529": 3435,
                  "4530": 6827,
                  "4531": 2016,
                  "4532": 4883,
                  "4533": 6246,
                  "index": "ConsolationNo6"
                },
                {
                  "4524": 8957,
                  "4525": 4911,
                  "4526": 9498,
                  "4527": 8743,
                  "4528": 5130,
                  "4529": 3716,
                  "4530": 1871,
                  "4531": 2240,
                  "4532": 6971,
                  "4533": 9262,
                  "index": "ConsolationNo7"
                },
                {
                  "4524": 1097,
                  "4525": 7295,
                  "4526": 3661,
                  "4527": 5015,
                  "4528": 8119,
                  "4529": 5085,
                  "4530": 6984,
                  "4531": 1286,
                  "4532": 7918,
                  "4533": 3764,
                  "index": "ConsolationNo8"
                },
                {
                  "4524": 4668,
                  "4525": 3974,
                  "4526": 9290,
                  "4527": 335,
                  "4528": 2508,
                  "4529": 4527,
                  "4530": 7105,
                  "4531": 8726,
                  "4532": 155,
                  "4533": 4649,
                  "index": "ConsolationNo9"
                },
                {
                  "4524": 7028,
                  "4525": 8741,
                  "4526": 1809,
                  "4527": 5203,
                  "4528": 5710,
                  "4529": 2554,
                  "4530": 9314,
                  "4531": 715,
                  "4532": 6495,
                  "4533": 8866,
                  "index": "ConsolationNo10"
                }
              ],
              "schema": {
                "fields": [
                  {
                    "type": "string",
                    "name": "index"
                  },
                  {
                    "type": "integer",
                    "name": 4524
                  },
                  {
                    "type": "integer",
                    "name": 4525
                  },
                  {
                    "type": "integer",
                    "name": 4526
                  },
                  {
                    "type": "integer",
                    "name": 4527
                  },
                  {
                    "type": "integer",
                    "name": 4528
                  },
                  {
                    "type": "integer",
                    "name": 4529
                  },
                  {
                    "type": "integer",
                    "name": 4530
                  },
                  {
                    "type": "integer",
                    "name": 4531
                  },
                  {
                    "type": "integer",
                    "name": 4532
                  },
                  {
                    "type": "integer",
                    "name": 4533
                  }
                ],
                "pandas_version": "0.20.0",
                "primaryKey": [
                  "index"
                ]
              }
            },
            "text/html": [
              "<div>\n",
              "<style scoped>\n",
              "    .dataframe tbody tr th:only-of-type {\n",
              "        vertical-align: middle;\n",
              "    }\n",
              "\n",
              "    .dataframe tbody tr th {\n",
              "        vertical-align: top;\n",
              "    }\n",
              "\n",
              "    .dataframe thead th {\n",
              "        text-align: right;\n",
              "    }\n",
              "</style>\n",
              "<table border=\"1\" class=\"dataframe\">\n",
              "  <thead>\n",
              "    <tr style=\"text-align: right;\">\n",
              "      <th></th>\n",
              "      <th>4524</th>\n",
              "      <th>4525</th>\n",
              "      <th>4526</th>\n",
              "      <th>4527</th>\n",
              "      <th>4528</th>\n",
              "      <th>4529</th>\n",
              "      <th>4530</th>\n",
              "      <th>4531</th>\n",
              "      <th>4532</th>\n",
              "      <th>4533</th>\n",
              "    </tr>\n",
              "  </thead>\n",
              "  <tbody>\n",
              "    <tr>\n",
              "      <th>DrawNo</th>\n",
              "      <td>493219</td>\n",
              "      <td>493319</td>\n",
              "      <td>493419</td>\n",
              "      <td>493519</td>\n",
              "      <td>493619</td>\n",
              "      <td>493719</td>\n",
              "      <td>493819</td>\n",
              "      <td>493919</td>\n",
              "      <td>494019</td>\n",
              "      <td>494119</td>\n",
              "    </tr>\n",
              "    <tr>\n",
              "      <th>DrawDate</th>\n",
              "      <td>20190410</td>\n",
              "      <td>20190413</td>\n",
              "      <td>20190414</td>\n",
              "      <td>20190417</td>\n",
              "      <td>20190420</td>\n",
              "      <td>20190421</td>\n",
              "      <td>20190424</td>\n",
              "      <td>20190427</td>\n",
              "      <td>20190428</td>\n",
              "      <td>20190501</td>\n",
              "    </tr>\n",
              "    <tr>\n",
              "      <th>1stPrizeNo</th>\n",
              "      <td>1002</td>\n",
              "      <td>9397</td>\n",
              "      <td>3196</td>\n",
              "      <td>4007</td>\n",
              "      <td>6622</td>\n",
              "      <td>3634</td>\n",
              "      <td>1615</td>\n",
              "      <td>3582</td>\n",
              "      <td>8975</td>\n",
              "      <td>4633</td>\n",
              "    </tr>\n",
              "    <tr>\n",
              "      <th>2ndPrizeNo</th>\n",
              "      <td>7403</td>\n",
              "      <td>1660</td>\n",
              "      <td>3443</td>\n",
              "      <td>8246</td>\n",
              "      <td>7203</td>\n",
              "      <td>5822</td>\n",
              "      <td>9328</td>\n",
              "      <td>1486</td>\n",
              "      <td>1998</td>\n",
              "      <td>4154</td>\n",
              "    </tr>\n",
              "    <tr>\n",
              "      <th>3rdPrizeNo</th>\n",
              "      <td>123</td>\n",
              "      <td>2187</td>\n",
              "      <td>1796</td>\n",
              "      <td>1493</td>\n",
              "      <td>4982</td>\n",
              "      <td>4752</td>\n",
              "      <td>6138</td>\n",
              "      <td>8937</td>\n",
              "      <td>8973</td>\n",
              "      <td>318</td>\n",
              "    </tr>\n",
              "    <tr>\n",
              "      <th>SpecialNo1</th>\n",
              "      <td>4950</td>\n",
              "      <td>9181</td>\n",
              "      <td>1957</td>\n",
              "      <td>2102</td>\n",
              "      <td>993</td>\n",
              "      <td>7700</td>\n",
              "      <td>6914</td>\n",
              "      <td>8464</td>\n",
              "      <td>3112</td>\n",
              "      <td>1271</td>\n",
              "    </tr>\n",
              "    <tr>\n",
              "      <th>SpecialNo2</th>\n",
              "      <td>1195</td>\n",
              "      <td>2838</td>\n",
              "      <td>7325</td>\n",
              "      <td>194</td>\n",
              "      <td>7631</td>\n",
              "      <td>1287</td>\n",
              "      <td>4874</td>\n",
              "      <td>5668</td>\n",
              "      <td>2316</td>\n",
              "      <td>7440</td>\n",
              "    </tr>\n",
              "    <tr>\n",
              "      <th>SpecialNo3</th>\n",
              "      <td>524</td>\n",
              "      <td>4971</td>\n",
              "      <td>6801</td>\n",
              "      <td>6853</td>\n",
              "      <td>8813</td>\n",
              "      <td>2736</td>\n",
              "      <td>6988</td>\n",
              "      <td>4914</td>\n",
              "      <td>8050</td>\n",
              "      <td>8707</td>\n",
              "    </tr>\n",
              "    <tr>\n",
              "      <th>SpecialNo4</th>\n",
              "      <td>6065</td>\n",
              "      <td>400</td>\n",
              "      <td>2098</td>\n",
              "      <td>9083</td>\n",
              "      <td>6902</td>\n",
              "      <td>5179</td>\n",
              "      <td>2663</td>\n",
              "      <td>2182</td>\n",
              "      <td>4631</td>\n",
              "      <td>6127</td>\n",
              "    </tr>\n",
              "    <tr>\n",
              "      <th>SpecialNo5</th>\n",
              "      <td>2364</td>\n",
              "      <td>9201</td>\n",
              "      <td>2517</td>\n",
              "      <td>6763</td>\n",
              "      <td>8474</td>\n",
              "      <td>4386</td>\n",
              "      <td>3020</td>\n",
              "      <td>2689</td>\n",
              "      <td>3584</td>\n",
              "      <td>2690</td>\n",
              "    </tr>\n",
              "    <tr>\n",
              "      <th>SpecialNo6</th>\n",
              "      <td>8959</td>\n",
              "      <td>4830</td>\n",
              "      <td>2231</td>\n",
              "      <td>2599</td>\n",
              "      <td>4372</td>\n",
              "      <td>997</td>\n",
              "      <td>1152</td>\n",
              "      <td>7176</td>\n",
              "      <td>9329</td>\n",
              "      <td>8531</td>\n",
              "    </tr>\n",
              "    <tr>\n",
              "      <th>SpecialNo7</th>\n",
              "      <td>5930</td>\n",
              "      <td>8293</td>\n",
              "      <td>8870</td>\n",
              "      <td>5192</td>\n",
              "      <td>5081</td>\n",
              "      <td>312</td>\n",
              "      <td>7209</td>\n",
              "      <td>3315</td>\n",
              "      <td>1714</td>\n",
              "      <td>9627</td>\n",
              "    </tr>\n",
              "    <tr>\n",
              "      <th>SpecialNo8</th>\n",
              "      <td>989</td>\n",
              "      <td>2589</td>\n",
              "      <td>1121</td>\n",
              "      <td>3514</td>\n",
              "      <td>2037</td>\n",
              "      <td>918</td>\n",
              "      <td>527</td>\n",
              "      <td>3413</td>\n",
              "      <td>1572</td>\n",
              "      <td>6547</td>\n",
              "    </tr>\n",
              "    <tr>\n",
              "      <th>SpecialNo9</th>\n",
              "      <td>8223</td>\n",
              "      <td>2962</td>\n",
              "      <td>9679</td>\n",
              "      <td>8253</td>\n",
              "      <td>8326</td>\n",
              "      <td>4313</td>\n",
              "      <td>3310</td>\n",
              "      <td>4247</td>\n",
              "      <td>5405</td>\n",
              "      <td>2222</td>\n",
              "    </tr>\n",
              "    <tr>\n",
              "      <th>SpecialNo10</th>\n",
              "      <td>1889</td>\n",
              "      <td>6365</td>\n",
              "      <td>7159</td>\n",
              "      <td>8548</td>\n",
              "      <td>6705</td>\n",
              "      <td>6232</td>\n",
              "      <td>1081</td>\n",
              "      <td>9621</td>\n",
              "      <td>1344</td>\n",
              "      <td>2106</td>\n",
              "    </tr>\n",
              "    <tr>\n",
              "      <th>ConsolationNo1</th>\n",
              "      <td>8534</td>\n",
              "      <td>8</td>\n",
              "      <td>8711</td>\n",
              "      <td>2385</td>\n",
              "      <td>5764</td>\n",
              "      <td>6400</td>\n",
              "      <td>6585</td>\n",
              "      <td>955</td>\n",
              "      <td>5392</td>\n",
              "      <td>3663</td>\n",
              "    </tr>\n",
              "    <tr>\n",
              "      <th>ConsolationNo2</th>\n",
              "      <td>471</td>\n",
              "      <td>1401</td>\n",
              "      <td>4940</td>\n",
              "      <td>3325</td>\n",
              "      <td>5979</td>\n",
              "      <td>2898</td>\n",
              "      <td>4517</td>\n",
              "      <td>4440</td>\n",
              "      <td>1206</td>\n",
              "      <td>8503</td>\n",
              "    </tr>\n",
              "    <tr>\n",
              "      <th>ConsolationNo3</th>\n",
              "      <td>999</td>\n",
              "      <td>7610</td>\n",
              "      <td>4441</td>\n",
              "      <td>6311</td>\n",
              "      <td>1951</td>\n",
              "      <td>352</td>\n",
              "      <td>1314</td>\n",
              "      <td>8582</td>\n",
              "      <td>7955</td>\n",
              "      <td>9387</td>\n",
              "    </tr>\n",
              "    <tr>\n",
              "      <th>ConsolationNo4</th>\n",
              "      <td>2114</td>\n",
              "      <td>6501</td>\n",
              "      <td>6414</td>\n",
              "      <td>1837</td>\n",
              "      <td>7761</td>\n",
              "      <td>3326</td>\n",
              "      <td>1181</td>\n",
              "      <td>6238</td>\n",
              "      <td>1235</td>\n",
              "      <td>4279</td>\n",
              "    </tr>\n",
              "    <tr>\n",
              "      <th>ConsolationNo5</th>\n",
              "      <td>5833</td>\n",
              "      <td>2624</td>\n",
              "      <td>4897</td>\n",
              "      <td>8312</td>\n",
              "      <td>9182</td>\n",
              "      <td>6903</td>\n",
              "      <td>9444</td>\n",
              "      <td>2945</td>\n",
              "      <td>1197</td>\n",
              "      <td>992</td>\n",
              "    </tr>\n",
              "    <tr>\n",
              "      <th>ConsolationNo6</th>\n",
              "      <td>6200</td>\n",
              "      <td>4544</td>\n",
              "      <td>5403</td>\n",
              "      <td>8840</td>\n",
              "      <td>8027</td>\n",
              "      <td>3435</td>\n",
              "      <td>6827</td>\n",
              "      <td>2016</td>\n",
              "      <td>4883</td>\n",
              "      <td>6246</td>\n",
              "    </tr>\n",
              "    <tr>\n",
              "      <th>ConsolationNo7</th>\n",
              "      <td>8957</td>\n",
              "      <td>4911</td>\n",
              "      <td>9498</td>\n",
              "      <td>8743</td>\n",
              "      <td>5130</td>\n",
              "      <td>3716</td>\n",
              "      <td>1871</td>\n",
              "      <td>2240</td>\n",
              "      <td>6971</td>\n",
              "      <td>9262</td>\n",
              "    </tr>\n",
              "    <tr>\n",
              "      <th>ConsolationNo8</th>\n",
              "      <td>1097</td>\n",
              "      <td>7295</td>\n",
              "      <td>3661</td>\n",
              "      <td>5015</td>\n",
              "      <td>8119</td>\n",
              "      <td>5085</td>\n",
              "      <td>6984</td>\n",
              "      <td>1286</td>\n",
              "      <td>7918</td>\n",
              "      <td>3764</td>\n",
              "    </tr>\n",
              "    <tr>\n",
              "      <th>ConsolationNo9</th>\n",
              "      <td>4668</td>\n",
              "      <td>3974</td>\n",
              "      <td>9290</td>\n",
              "      <td>335</td>\n",
              "      <td>2508</td>\n",
              "      <td>4527</td>\n",
              "      <td>7105</td>\n",
              "      <td>8726</td>\n",
              "      <td>155</td>\n",
              "      <td>4649</td>\n",
              "    </tr>\n",
              "    <tr>\n",
              "      <th>ConsolationNo10</th>\n",
              "      <td>7028</td>\n",
              "      <td>8741</td>\n",
              "      <td>1809</td>\n",
              "      <td>5203</td>\n",
              "      <td>5710</td>\n",
              "      <td>2554</td>\n",
              "      <td>9314</td>\n",
              "      <td>715</td>\n",
              "      <td>6495</td>\n",
              "      <td>8866</td>\n",
              "    </tr>\n",
              "  </tbody>\n",
              "</table>\n",
              "</div>"
            ],
            "text/plain": [
              "                     4524      4525      4526      4527      4528      4529  \\\n",
              "DrawNo             493219    493319    493419    493519    493619    493719   \n",
              "DrawDate         20190410  20190413  20190414  20190417  20190420  20190421   \n",
              "1stPrizeNo           1002      9397      3196      4007      6622      3634   \n",
              "2ndPrizeNo           7403      1660      3443      8246      7203      5822   \n",
              "3rdPrizeNo            123      2187      1796      1493      4982      4752   \n",
              "SpecialNo1           4950      9181      1957      2102       993      7700   \n",
              "SpecialNo2           1195      2838      7325       194      7631      1287   \n",
              "SpecialNo3            524      4971      6801      6853      8813      2736   \n",
              "SpecialNo4           6065       400      2098      9083      6902      5179   \n",
              "SpecialNo5           2364      9201      2517      6763      8474      4386   \n",
              "SpecialNo6           8959      4830      2231      2599      4372       997   \n",
              "SpecialNo7           5930      8293      8870      5192      5081       312   \n",
              "SpecialNo8            989      2589      1121      3514      2037       918   \n",
              "SpecialNo9           8223      2962      9679      8253      8326      4313   \n",
              "SpecialNo10          1889      6365      7159      8548      6705      6232   \n",
              "ConsolationNo1       8534         8      8711      2385      5764      6400   \n",
              "ConsolationNo2        471      1401      4940      3325      5979      2898   \n",
              "ConsolationNo3        999      7610      4441      6311      1951       352   \n",
              "ConsolationNo4       2114      6501      6414      1837      7761      3326   \n",
              "ConsolationNo5       5833      2624      4897      8312      9182      6903   \n",
              "ConsolationNo6       6200      4544      5403      8840      8027      3435   \n",
              "ConsolationNo7       8957      4911      9498      8743      5130      3716   \n",
              "ConsolationNo8       1097      7295      3661      5015      8119      5085   \n",
              "ConsolationNo9       4668      3974      9290       335      2508      4527   \n",
              "ConsolationNo10      7028      8741      1809      5203      5710      2554   \n",
              "\n",
              "                     4530      4531      4532      4533  \n",
              "DrawNo             493819    493919    494019    494119  \n",
              "DrawDate         20190424  20190427  20190428  20190501  \n",
              "1stPrizeNo           1615      3582      8975      4633  \n",
              "2ndPrizeNo           9328      1486      1998      4154  \n",
              "3rdPrizeNo           6138      8937      8973       318  \n",
              "SpecialNo1           6914      8464      3112      1271  \n",
              "SpecialNo2           4874      5668      2316      7440  \n",
              "SpecialNo3           6988      4914      8050      8707  \n",
              "SpecialNo4           2663      2182      4631      6127  \n",
              "SpecialNo5           3020      2689      3584      2690  \n",
              "SpecialNo6           1152      7176      9329      8531  \n",
              "SpecialNo7           7209      3315      1714      9627  \n",
              "SpecialNo8            527      3413      1572      6547  \n",
              "SpecialNo9           3310      4247      5405      2222  \n",
              "SpecialNo10          1081      9621      1344      2106  \n",
              "ConsolationNo1       6585       955      5392      3663  \n",
              "ConsolationNo2       4517      4440      1206      8503  \n",
              "ConsolationNo3       1314      8582      7955      9387  \n",
              "ConsolationNo4       1181      6238      1235      4279  \n",
              "ConsolationNo5       9444      2945      1197       992  \n",
              "ConsolationNo6       6827      2016      4883      6246  \n",
              "ConsolationNo7       1871      2240      6971      9262  \n",
              "ConsolationNo8       6984      1286      7918      3764  \n",
              "ConsolationNo9       7105      8726       155      4649  \n",
              "ConsolationNo10      9314       715      6495      8866  "
            ]
          },
          "metadata": {
            "tags": []
          },
          "execution_count": 64
        }
      ]
    },
    {
      "metadata": {
        "id": "hJqn_qhfcwag",
        "colab_type": "text"
      },
      "cell_type": "markdown",
      "source": [
        "## Preprocessing"
      ]
    },
    {
      "metadata": {
        "id": "yve_GeP_cwah",
        "colab_type": "text"
      },
      "cell_type": "markdown",
      "source": [
        "### Transpose the data"
      ]
    },
    {
      "metadata": {
        "id": "Jk0qwa5kcwai",
        "colab_type": "code",
        "colab": {
          "base_uri": "https://localhost:8080/",
          "height": 170
        },
        "outputId": "257a0a61-0664-46e2-d086-45426b2963c1"
      },
      "cell_type": "code",
      "source": [
        "df_transposed = df.melt(id_vars=[\"DrawNo\", \"DrawDate\"], var_name=\"PrizeType\", value_name=\"LuckyNo\")\n",
        "df_transposed = df_transposed.sort_values([\"DrawNo\", \"DrawDate\", \"PrizeType\"], ascending=True)\n",
        "df_transposed['DrawDate'] = pd.to_datetime(df_transposed['DrawDate'], format='%Y%m%d')\n",
        "df_transposed.info()"
      ],
      "execution_count": 65,
      "outputs": [
        {
          "output_type": "stream",
          "text": [
            "<class 'pandas.core.frame.DataFrame'>\n",
            "Int64Index: 104282 entries, 0 to 54407\n",
            "Data columns (total 4 columns):\n",
            "DrawNo       104282 non-null int64\n",
            "DrawDate     104282 non-null datetime64[ns]\n",
            "PrizeType    104282 non-null object\n",
            "LuckyNo      104282 non-null int64\n",
            "dtypes: datetime64[ns](1), int64(2), object(1)\n",
            "memory usage: 4.0+ MB\n"
          ],
          "name": "stdout"
        }
      ]
    },
    {
      "metadata": {
        "colab_type": "code",
        "id": "TtPqd8Titw6r",
        "outputId": "605c4c84-d9c7-448d-9d04-7bba6b8cd676",
        "colab": {
          "base_uri": "https://localhost:8080/",
          "height": 227
        }
      },
      "cell_type": "code",
      "source": [
        "# Tail the data\n",
        "df_transposed.head(23).T"
      ],
      "execution_count": 66,
      "outputs": [
        {
          "output_type": "execute_result",
          "data": {
            "application/vnd.dataresource+json": {
              "data": [
                {
                  "0": 40792,
                  "4534": 40792,
                  "9068": 40792,
                  "13602": 40792,
                  "18136": 40792,
                  "22670": 40792,
                  "27204": 40792,
                  "31738": 40792,
                  "36272": 40792,
                  "40806": 40792,
                  "45340": 40792,
                  "49874": 40792,
                  "54408": 40792,
                  "58942": 40792,
                  "63476": 40792,
                  "68010": 40792,
                  "72544": 40792,
                  "77078": 40792,
                  "81612": 40792,
                  "86146": 40792,
                  "90680": 40792,
                  "95214": 40792,
                  "99748": 40792,
                  "index": "DrawNo"
                },
                {
                  "0": "1992-05-06T00:00:00.000Z",
                  "4534": "1992-05-06T00:00:00.000Z",
                  "9068": "1992-05-06T00:00:00.000Z",
                  "13602": "1992-05-06T00:00:00.000Z",
                  "18136": "1992-05-06T00:00:00.000Z",
                  "22670": "1992-05-06T00:00:00.000Z",
                  "27204": "1992-05-06T00:00:00.000Z",
                  "31738": "1992-05-06T00:00:00.000Z",
                  "36272": "1992-05-06T00:00:00.000Z",
                  "40806": "1992-05-06T00:00:00.000Z",
                  "45340": "1992-05-06T00:00:00.000Z",
                  "49874": "1992-05-06T00:00:00.000Z",
                  "54408": "1992-05-06T00:00:00.000Z",
                  "58942": "1992-05-06T00:00:00.000Z",
                  "63476": "1992-05-06T00:00:00.000Z",
                  "68010": "1992-05-06T00:00:00.000Z",
                  "72544": "1992-05-06T00:00:00.000Z",
                  "77078": "1992-05-06T00:00:00.000Z",
                  "81612": "1992-05-06T00:00:00.000Z",
                  "86146": "1992-05-06T00:00:00.000Z",
                  "90680": "1992-05-06T00:00:00.000Z",
                  "95214": "1992-05-06T00:00:00.000Z",
                  "99748": "1992-05-06T00:00:00.000Z",
                  "index": "DrawDate"
                },
                {
                  "0": "1stPrizeNo",
                  "4534": "2ndPrizeNo",
                  "9068": "3rdPrizeNo",
                  "13602": "SpecialNo1",
                  "18136": "SpecialNo2",
                  "22670": "SpecialNo3",
                  "27204": "SpecialNo4",
                  "31738": "SpecialNo5",
                  "36272": "SpecialNo6",
                  "40806": "SpecialNo7",
                  "45340": "SpecialNo8",
                  "49874": "SpecialNo9",
                  "54408": "SpecialNo10",
                  "58942": "ConsolationNo1",
                  "63476": "ConsolationNo2",
                  "68010": "ConsolationNo3",
                  "72544": "ConsolationNo4",
                  "77078": "ConsolationNo5",
                  "81612": "ConsolationNo6",
                  "86146": "ConsolationNo7",
                  "90680": "ConsolationNo8",
                  "95214": "ConsolationNo9",
                  "99748": "ConsolationNo10",
                  "index": "PrizeType"
                },
                {
                  "0": 19,
                  "4534": 1124,
                  "9068": 592,
                  "13602": 950,
                  "18136": 2479,
                  "22670": 7139,
                  "27204": 3114,
                  "31738": 4609,
                  "36272": 7836,
                  "40806": 8981,
                  "45340": 4465,
                  "49874": 6114,
                  "54408": 5301,
                  "58942": 5311,
                  "63476": 1949,
                  "68010": 1606,
                  "72544": 3775,
                  "77078": 6226,
                  "81612": 1271,
                  "86146": 7455,
                  "90680": 7227,
                  "95214": 9258,
                  "99748": 407,
                  "index": "LuckyNo"
                }
              ],
              "schema": {
                "fields": [
                  {
                    "type": "string",
                    "name": "index"
                  },
                  {
                    "type": "string",
                    "name": 0
                  },
                  {
                    "type": "string",
                    "name": 4534
                  },
                  {
                    "type": "string",
                    "name": 9068
                  },
                  {
                    "type": "string",
                    "name": 58942
                  },
                  {
                    "type": "string",
                    "name": 99748
                  },
                  {
                    "type": "string",
                    "name": 63476
                  },
                  {
                    "type": "string",
                    "name": 68010
                  },
                  {
                    "type": "string",
                    "name": 72544
                  },
                  {
                    "type": "string",
                    "name": 77078
                  },
                  {
                    "type": "string",
                    "name": 81612
                  },
                  {
                    "type": "string",
                    "name": 86146
                  },
                  {
                    "type": "string",
                    "name": 90680
                  },
                  {
                    "type": "string",
                    "name": 95214
                  },
                  {
                    "type": "string",
                    "name": 13602
                  },
                  {
                    "type": "string",
                    "name": 54408
                  },
                  {
                    "type": "string",
                    "name": 18136
                  },
                  {
                    "type": "string",
                    "name": 22670
                  },
                  {
                    "type": "string",
                    "name": 27204
                  },
                  {
                    "type": "string",
                    "name": 31738
                  },
                  {
                    "type": "string",
                    "name": 36272
                  },
                  {
                    "type": "string",
                    "name": 40806
                  },
                  {
                    "type": "string",
                    "name": 45340
                  },
                  {
                    "type": "string",
                    "name": 49874
                  }
                ],
                "pandas_version": "0.20.0",
                "primaryKey": [
                  "index"
                ]
              }
            },
            "text/html": [
              "<div>\n",
              "<style scoped>\n",
              "    .dataframe tbody tr th:only-of-type {\n",
              "        vertical-align: middle;\n",
              "    }\n",
              "\n",
              "    .dataframe tbody tr th {\n",
              "        vertical-align: top;\n",
              "    }\n",
              "\n",
              "    .dataframe thead th {\n",
              "        text-align: right;\n",
              "    }\n",
              "</style>\n",
              "<table border=\"1\" class=\"dataframe\">\n",
              "  <thead>\n",
              "    <tr style=\"text-align: right;\">\n",
              "      <th></th>\n",
              "      <th>0</th>\n",
              "      <th>4534</th>\n",
              "      <th>9068</th>\n",
              "      <th>58942</th>\n",
              "      <th>99748</th>\n",
              "      <th>63476</th>\n",
              "      <th>68010</th>\n",
              "      <th>72544</th>\n",
              "      <th>77078</th>\n",
              "      <th>81612</th>\n",
              "      <th>86146</th>\n",
              "      <th>90680</th>\n",
              "      <th>95214</th>\n",
              "      <th>13602</th>\n",
              "      <th>54408</th>\n",
              "      <th>18136</th>\n",
              "      <th>22670</th>\n",
              "      <th>27204</th>\n",
              "      <th>31738</th>\n",
              "      <th>36272</th>\n",
              "      <th>40806</th>\n",
              "      <th>45340</th>\n",
              "      <th>49874</th>\n",
              "    </tr>\n",
              "  </thead>\n",
              "  <tbody>\n",
              "    <tr>\n",
              "      <th>DrawNo</th>\n",
              "      <td>40792</td>\n",
              "      <td>40792</td>\n",
              "      <td>40792</td>\n",
              "      <td>40792</td>\n",
              "      <td>40792</td>\n",
              "      <td>40792</td>\n",
              "      <td>40792</td>\n",
              "      <td>40792</td>\n",
              "      <td>40792</td>\n",
              "      <td>40792</td>\n",
              "      <td>40792</td>\n",
              "      <td>40792</td>\n",
              "      <td>40792</td>\n",
              "      <td>40792</td>\n",
              "      <td>40792</td>\n",
              "      <td>40792</td>\n",
              "      <td>40792</td>\n",
              "      <td>40792</td>\n",
              "      <td>40792</td>\n",
              "      <td>40792</td>\n",
              "      <td>40792</td>\n",
              "      <td>40792</td>\n",
              "      <td>40792</td>\n",
              "    </tr>\n",
              "    <tr>\n",
              "      <th>DrawDate</th>\n",
              "      <td>1992-05-06 00:00:00</td>\n",
              "      <td>1992-05-06 00:00:00</td>\n",
              "      <td>1992-05-06 00:00:00</td>\n",
              "      <td>1992-05-06 00:00:00</td>\n",
              "      <td>1992-05-06 00:00:00</td>\n",
              "      <td>1992-05-06 00:00:00</td>\n",
              "      <td>1992-05-06 00:00:00</td>\n",
              "      <td>1992-05-06 00:00:00</td>\n",
              "      <td>1992-05-06 00:00:00</td>\n",
              "      <td>1992-05-06 00:00:00</td>\n",
              "      <td>1992-05-06 00:00:00</td>\n",
              "      <td>1992-05-06 00:00:00</td>\n",
              "      <td>1992-05-06 00:00:00</td>\n",
              "      <td>1992-05-06 00:00:00</td>\n",
              "      <td>1992-05-06 00:00:00</td>\n",
              "      <td>1992-05-06 00:00:00</td>\n",
              "      <td>1992-05-06 00:00:00</td>\n",
              "      <td>1992-05-06 00:00:00</td>\n",
              "      <td>1992-05-06 00:00:00</td>\n",
              "      <td>1992-05-06 00:00:00</td>\n",
              "      <td>1992-05-06 00:00:00</td>\n",
              "      <td>1992-05-06 00:00:00</td>\n",
              "      <td>1992-05-06 00:00:00</td>\n",
              "    </tr>\n",
              "    <tr>\n",
              "      <th>PrizeType</th>\n",
              "      <td>1stPrizeNo</td>\n",
              "      <td>2ndPrizeNo</td>\n",
              "      <td>3rdPrizeNo</td>\n",
              "      <td>ConsolationNo1</td>\n",
              "      <td>ConsolationNo10</td>\n",
              "      <td>ConsolationNo2</td>\n",
              "      <td>ConsolationNo3</td>\n",
              "      <td>ConsolationNo4</td>\n",
              "      <td>ConsolationNo5</td>\n",
              "      <td>ConsolationNo6</td>\n",
              "      <td>ConsolationNo7</td>\n",
              "      <td>ConsolationNo8</td>\n",
              "      <td>ConsolationNo9</td>\n",
              "      <td>SpecialNo1</td>\n",
              "      <td>SpecialNo10</td>\n",
              "      <td>SpecialNo2</td>\n",
              "      <td>SpecialNo3</td>\n",
              "      <td>SpecialNo4</td>\n",
              "      <td>SpecialNo5</td>\n",
              "      <td>SpecialNo6</td>\n",
              "      <td>SpecialNo7</td>\n",
              "      <td>SpecialNo8</td>\n",
              "      <td>SpecialNo9</td>\n",
              "    </tr>\n",
              "    <tr>\n",
              "      <th>LuckyNo</th>\n",
              "      <td>19</td>\n",
              "      <td>1124</td>\n",
              "      <td>592</td>\n",
              "      <td>5311</td>\n",
              "      <td>407</td>\n",
              "      <td>1949</td>\n",
              "      <td>1606</td>\n",
              "      <td>3775</td>\n",
              "      <td>6226</td>\n",
              "      <td>1271</td>\n",
              "      <td>7455</td>\n",
              "      <td>7227</td>\n",
              "      <td>9258</td>\n",
              "      <td>950</td>\n",
              "      <td>5301</td>\n",
              "      <td>2479</td>\n",
              "      <td>7139</td>\n",
              "      <td>3114</td>\n",
              "      <td>4609</td>\n",
              "      <td>7836</td>\n",
              "      <td>8981</td>\n",
              "      <td>4465</td>\n",
              "      <td>6114</td>\n",
              "    </tr>\n",
              "  </tbody>\n",
              "</table>\n",
              "</div>"
            ],
            "text/plain": [
              "                         0                    4534                 9068   \\\n",
              "DrawNo                   40792                40792                40792   \n",
              "DrawDate   1992-05-06 00:00:00  1992-05-06 00:00:00  1992-05-06 00:00:00   \n",
              "PrizeType           1stPrizeNo           2ndPrizeNo           3rdPrizeNo   \n",
              "LuckyNo                     19                 1124                  592   \n",
              "\n",
              "                         58942                99748                63476  \\\n",
              "DrawNo                   40792                40792                40792   \n",
              "DrawDate   1992-05-06 00:00:00  1992-05-06 00:00:00  1992-05-06 00:00:00   \n",
              "PrizeType       ConsolationNo1      ConsolationNo10       ConsolationNo2   \n",
              "LuckyNo                   5311                  407                 1949   \n",
              "\n",
              "                         68010                72544                77078  \\\n",
              "DrawNo                   40792                40792                40792   \n",
              "DrawDate   1992-05-06 00:00:00  1992-05-06 00:00:00  1992-05-06 00:00:00   \n",
              "PrizeType       ConsolationNo3       ConsolationNo4       ConsolationNo5   \n",
              "LuckyNo                   1606                 3775                 6226   \n",
              "\n",
              "                         81612                86146                90680  \\\n",
              "DrawNo                   40792                40792                40792   \n",
              "DrawDate   1992-05-06 00:00:00  1992-05-06 00:00:00  1992-05-06 00:00:00   \n",
              "PrizeType       ConsolationNo6       ConsolationNo7       ConsolationNo8   \n",
              "LuckyNo                   1271                 7455                 7227   \n",
              "\n",
              "                         95214                13602                54408  \\\n",
              "DrawNo                   40792                40792                40792   \n",
              "DrawDate   1992-05-06 00:00:00  1992-05-06 00:00:00  1992-05-06 00:00:00   \n",
              "PrizeType       ConsolationNo9           SpecialNo1          SpecialNo10   \n",
              "LuckyNo                   9258                  950                 5301   \n",
              "\n",
              "                         18136                22670                27204  \\\n",
              "DrawNo                   40792                40792                40792   \n",
              "DrawDate   1992-05-06 00:00:00  1992-05-06 00:00:00  1992-05-06 00:00:00   \n",
              "PrizeType           SpecialNo2           SpecialNo3           SpecialNo4   \n",
              "LuckyNo                   2479                 7139                 3114   \n",
              "\n",
              "                         31738                36272                40806  \\\n",
              "DrawNo                   40792                40792                40792   \n",
              "DrawDate   1992-05-06 00:00:00  1992-05-06 00:00:00  1992-05-06 00:00:00   \n",
              "PrizeType           SpecialNo5           SpecialNo6           SpecialNo7   \n",
              "LuckyNo                   4609                 7836                 8981   \n",
              "\n",
              "                         45340                49874  \n",
              "DrawNo                   40792                40792  \n",
              "DrawDate   1992-05-06 00:00:00  1992-05-06 00:00:00  \n",
              "PrizeType           SpecialNo8           SpecialNo9  \n",
              "LuckyNo                   4465                 6114  "
            ]
          },
          "metadata": {
            "tags": []
          },
          "execution_count": 66
        }
      ]
    },
    {
      "metadata": {
        "id": "EISQP-uNcwar",
        "colab_type": "code",
        "colab": {
          "base_uri": "https://localhost:8080/",
          "height": 549
        },
        "outputId": "a6d03c2d-ff1e-47fb-85b7-d4cb5c4ca659"
      },
      "cell_type": "code",
      "source": [
        "# Split the date into year, month, day, day of week\n",
        "# df_transformed[\"DrawYear\"] = pd.DatetimeIndex(df_transformed[\"DrawDate\"]).year\n",
        "# df_transformed[\"DrawMonth\"] = pd.DatetimeIndex(df_transformed[\"DrawDate\"]).month\n",
        "# df_transformed[\"DrawDay\"] = pd.DatetimeIndex(df_transformed[\"DrawDate\"]).day\n",
        "# df_transformed[\"DrawDayOfYear\"] = pd.DatetimeIndex(df_transformed[\"DrawDate\"]).dayofyear\n",
        "# df_transformed[\"DrawDayOfWeek\"] = pd.DatetimeIndex(df_transformed[\"DrawDate\"]).dayofweek\n",
        "# df_transformed[\"DrawWeekDay\"] = pd.DatetimeIndex(df_transformed[\"DrawDate\"]).weekday\n",
        "# df_transformed[\"DrawWeekOfYear\"] = pd.DatetimeIndex(df_transformed[\"DrawDate\"]).weekofyear\n",
        "# df_transformed[\"DrawQuarter\"] = pd.DatetimeIndex(df_transformed[\"DrawDate\"]).quarter\n",
        "df_processed = df_transposed.copy()\n",
        "add_datepart(df_processed, 'DrawDate', drop=False)\n",
        "df_processed.tail(10)"
      ],
      "execution_count": 67,
      "outputs": [
        {
          "output_type": "execute_result",
          "data": {
            "application/vnd.dataresource+json": {
              "data": [
                {
                  "index": 18135,
                  "DrawIs_quarter_start": false,
                  "DrawIs_year_start": false,
                  "DrawIs_month_start": true,
                  "DrawDayofweek": 2,
                  "LuckyNo": 1271,
                  "DrawIs_month_end": false,
                  "DrawNo": 494119,
                  "PrizeType": "SpecialNo1",
                  "DrawWeek": 18,
                  "DrawMonth": 5,
                  "DrawDayofyear": 121,
                  "DrawDay": 1,
                  "DrawDate": "2019-05-01T00:00:00.000Z",
                  "DrawIs_quarter_end": false,
                  "DrawIs_year_end": false,
                  "DrawYear": 2019,
                  "DrawElapsed": 1556668800
                },
                {
                  "index": 58941,
                  "DrawIs_quarter_start": false,
                  "DrawIs_year_start": false,
                  "DrawIs_month_start": true,
                  "DrawDayofweek": 2,
                  "LuckyNo": 2106,
                  "DrawIs_month_end": false,
                  "DrawNo": 494119,
                  "PrizeType": "SpecialNo10",
                  "DrawWeek": 18,
                  "DrawMonth": 5,
                  "DrawDayofyear": 121,
                  "DrawDay": 1,
                  "DrawDate": "2019-05-01T00:00:00.000Z",
                  "DrawIs_quarter_end": false,
                  "DrawIs_year_end": false,
                  "DrawYear": 2019,
                  "DrawElapsed": 1556668800
                },
                {
                  "index": 22669,
                  "DrawIs_quarter_start": false,
                  "DrawIs_year_start": false,
                  "DrawIs_month_start": true,
                  "DrawDayofweek": 2,
                  "LuckyNo": 7440,
                  "DrawIs_month_end": false,
                  "DrawNo": 494119,
                  "PrizeType": "SpecialNo2",
                  "DrawWeek": 18,
                  "DrawMonth": 5,
                  "DrawDayofyear": 121,
                  "DrawDay": 1,
                  "DrawDate": "2019-05-01T00:00:00.000Z",
                  "DrawIs_quarter_end": false,
                  "DrawIs_year_end": false,
                  "DrawYear": 2019,
                  "DrawElapsed": 1556668800
                },
                {
                  "index": 27203,
                  "DrawIs_quarter_start": false,
                  "DrawIs_year_start": false,
                  "DrawIs_month_start": true,
                  "DrawDayofweek": 2,
                  "LuckyNo": 8707,
                  "DrawIs_month_end": false,
                  "DrawNo": 494119,
                  "PrizeType": "SpecialNo3",
                  "DrawWeek": 18,
                  "DrawMonth": 5,
                  "DrawDayofyear": 121,
                  "DrawDay": 1,
                  "DrawDate": "2019-05-01T00:00:00.000Z",
                  "DrawIs_quarter_end": false,
                  "DrawIs_year_end": false,
                  "DrawYear": 2019,
                  "DrawElapsed": 1556668800
                },
                {
                  "index": 31737,
                  "DrawIs_quarter_start": false,
                  "DrawIs_year_start": false,
                  "DrawIs_month_start": true,
                  "DrawDayofweek": 2,
                  "LuckyNo": 6127,
                  "DrawIs_month_end": false,
                  "DrawNo": 494119,
                  "PrizeType": "SpecialNo4",
                  "DrawWeek": 18,
                  "DrawMonth": 5,
                  "DrawDayofyear": 121,
                  "DrawDay": 1,
                  "DrawDate": "2019-05-01T00:00:00.000Z",
                  "DrawIs_quarter_end": false,
                  "DrawIs_year_end": false,
                  "DrawYear": 2019,
                  "DrawElapsed": 1556668800
                },
                {
                  "index": 36271,
                  "DrawIs_quarter_start": false,
                  "DrawIs_year_start": false,
                  "DrawIs_month_start": true,
                  "DrawDayofweek": 2,
                  "LuckyNo": 2690,
                  "DrawIs_month_end": false,
                  "DrawNo": 494119,
                  "PrizeType": "SpecialNo5",
                  "DrawWeek": 18,
                  "DrawMonth": 5,
                  "DrawDayofyear": 121,
                  "DrawDay": 1,
                  "DrawDate": "2019-05-01T00:00:00.000Z",
                  "DrawIs_quarter_end": false,
                  "DrawIs_year_end": false,
                  "DrawYear": 2019,
                  "DrawElapsed": 1556668800
                },
                {
                  "index": 40805,
                  "DrawIs_quarter_start": false,
                  "DrawIs_year_start": false,
                  "DrawIs_month_start": true,
                  "DrawDayofweek": 2,
                  "LuckyNo": 8531,
                  "DrawIs_month_end": false,
                  "DrawNo": 494119,
                  "PrizeType": "SpecialNo6",
                  "DrawWeek": 18,
                  "DrawMonth": 5,
                  "DrawDayofyear": 121,
                  "DrawDay": 1,
                  "DrawDate": "2019-05-01T00:00:00.000Z",
                  "DrawIs_quarter_end": false,
                  "DrawIs_year_end": false,
                  "DrawYear": 2019,
                  "DrawElapsed": 1556668800
                },
                {
                  "index": 45339,
                  "DrawIs_quarter_start": false,
                  "DrawIs_year_start": false,
                  "DrawIs_month_start": true,
                  "DrawDayofweek": 2,
                  "LuckyNo": 9627,
                  "DrawIs_month_end": false,
                  "DrawNo": 494119,
                  "PrizeType": "SpecialNo7",
                  "DrawWeek": 18,
                  "DrawMonth": 5,
                  "DrawDayofyear": 121,
                  "DrawDay": 1,
                  "DrawDate": "2019-05-01T00:00:00.000Z",
                  "DrawIs_quarter_end": false,
                  "DrawIs_year_end": false,
                  "DrawYear": 2019,
                  "DrawElapsed": 1556668800
                },
                {
                  "index": 49873,
                  "DrawIs_quarter_start": false,
                  "DrawIs_year_start": false,
                  "DrawIs_month_start": true,
                  "DrawDayofweek": 2,
                  "LuckyNo": 6547,
                  "DrawIs_month_end": false,
                  "DrawNo": 494119,
                  "PrizeType": "SpecialNo8",
                  "DrawWeek": 18,
                  "DrawMonth": 5,
                  "DrawDayofyear": 121,
                  "DrawDay": 1,
                  "DrawDate": "2019-05-01T00:00:00.000Z",
                  "DrawIs_quarter_end": false,
                  "DrawIs_year_end": false,
                  "DrawYear": 2019,
                  "DrawElapsed": 1556668800
                },
                {
                  "index": 54407,
                  "DrawIs_quarter_start": false,
                  "DrawIs_year_start": false,
                  "DrawIs_month_start": true,
                  "DrawDayofweek": 2,
                  "LuckyNo": 2222,
                  "DrawIs_month_end": false,
                  "DrawNo": 494119,
                  "PrizeType": "SpecialNo9",
                  "DrawWeek": 18,
                  "DrawMonth": 5,
                  "DrawDayofyear": 121,
                  "DrawDay": 1,
                  "DrawDate": "2019-05-01T00:00:00.000Z",
                  "DrawIs_quarter_end": false,
                  "DrawIs_year_end": false,
                  "DrawYear": 2019,
                  "DrawElapsed": 1556668800
                }
              ],
              "schema": {
                "fields": [
                  {
                    "type": "integer",
                    "name": "index"
                  },
                  {
                    "type": "integer",
                    "name": "DrawNo"
                  },
                  {
                    "type": "datetime",
                    "name": "DrawDate"
                  },
                  {
                    "type": "string",
                    "name": "PrizeType"
                  },
                  {
                    "type": "integer",
                    "name": "LuckyNo"
                  },
                  {
                    "type": "integer",
                    "name": "DrawYear"
                  },
                  {
                    "type": "integer",
                    "name": "DrawMonth"
                  },
                  {
                    "type": "integer",
                    "name": "DrawWeek"
                  },
                  {
                    "type": "integer",
                    "name": "DrawDay"
                  },
                  {
                    "type": "integer",
                    "name": "DrawDayofweek"
                  },
                  {
                    "type": "integer",
                    "name": "DrawDayofyear"
                  },
                  {
                    "type": "boolean",
                    "name": "DrawIs_month_end"
                  },
                  {
                    "type": "boolean",
                    "name": "DrawIs_month_start"
                  },
                  {
                    "type": "boolean",
                    "name": "DrawIs_quarter_end"
                  },
                  {
                    "type": "boolean",
                    "name": "DrawIs_quarter_start"
                  },
                  {
                    "type": "boolean",
                    "name": "DrawIs_year_end"
                  },
                  {
                    "type": "boolean",
                    "name": "DrawIs_year_start"
                  },
                  {
                    "type": "integer",
                    "name": "DrawElapsed"
                  }
                ],
                "pandas_version": "0.20.0",
                "primaryKey": [
                  "index"
                ]
              }
            },
            "text/html": [
              "<div>\n",
              "<style scoped>\n",
              "    .dataframe tbody tr th:only-of-type {\n",
              "        vertical-align: middle;\n",
              "    }\n",
              "\n",
              "    .dataframe tbody tr th {\n",
              "        vertical-align: top;\n",
              "    }\n",
              "\n",
              "    .dataframe thead th {\n",
              "        text-align: right;\n",
              "    }\n",
              "</style>\n",
              "<table border=\"1\" class=\"dataframe\">\n",
              "  <thead>\n",
              "    <tr style=\"text-align: right;\">\n",
              "      <th></th>\n",
              "      <th>DrawNo</th>\n",
              "      <th>DrawDate</th>\n",
              "      <th>PrizeType</th>\n",
              "      <th>LuckyNo</th>\n",
              "      <th>DrawYear</th>\n",
              "      <th>DrawMonth</th>\n",
              "      <th>DrawWeek</th>\n",
              "      <th>DrawDay</th>\n",
              "      <th>DrawDayofweek</th>\n",
              "      <th>DrawDayofyear</th>\n",
              "      <th>DrawIs_month_end</th>\n",
              "      <th>DrawIs_month_start</th>\n",
              "      <th>DrawIs_quarter_end</th>\n",
              "      <th>DrawIs_quarter_start</th>\n",
              "      <th>DrawIs_year_end</th>\n",
              "      <th>DrawIs_year_start</th>\n",
              "      <th>DrawElapsed</th>\n",
              "    </tr>\n",
              "  </thead>\n",
              "  <tbody>\n",
              "    <tr>\n",
              "      <th>18135</th>\n",
              "      <td>494119</td>\n",
              "      <td>2019-05-01</td>\n",
              "      <td>SpecialNo1</td>\n",
              "      <td>1271</td>\n",
              "      <td>2019</td>\n",
              "      <td>5</td>\n",
              "      <td>18</td>\n",
              "      <td>1</td>\n",
              "      <td>2</td>\n",
              "      <td>121</td>\n",
              "      <td>False</td>\n",
              "      <td>True</td>\n",
              "      <td>False</td>\n",
              "      <td>False</td>\n",
              "      <td>False</td>\n",
              "      <td>False</td>\n",
              "      <td>1556668800</td>\n",
              "    </tr>\n",
              "    <tr>\n",
              "      <th>58941</th>\n",
              "      <td>494119</td>\n",
              "      <td>2019-05-01</td>\n",
              "      <td>SpecialNo10</td>\n",
              "      <td>2106</td>\n",
              "      <td>2019</td>\n",
              "      <td>5</td>\n",
              "      <td>18</td>\n",
              "      <td>1</td>\n",
              "      <td>2</td>\n",
              "      <td>121</td>\n",
              "      <td>False</td>\n",
              "      <td>True</td>\n",
              "      <td>False</td>\n",
              "      <td>False</td>\n",
              "      <td>False</td>\n",
              "      <td>False</td>\n",
              "      <td>1556668800</td>\n",
              "    </tr>\n",
              "    <tr>\n",
              "      <th>22669</th>\n",
              "      <td>494119</td>\n",
              "      <td>2019-05-01</td>\n",
              "      <td>SpecialNo2</td>\n",
              "      <td>7440</td>\n",
              "      <td>2019</td>\n",
              "      <td>5</td>\n",
              "      <td>18</td>\n",
              "      <td>1</td>\n",
              "      <td>2</td>\n",
              "      <td>121</td>\n",
              "      <td>False</td>\n",
              "      <td>True</td>\n",
              "      <td>False</td>\n",
              "      <td>False</td>\n",
              "      <td>False</td>\n",
              "      <td>False</td>\n",
              "      <td>1556668800</td>\n",
              "    </tr>\n",
              "    <tr>\n",
              "      <th>27203</th>\n",
              "      <td>494119</td>\n",
              "      <td>2019-05-01</td>\n",
              "      <td>SpecialNo3</td>\n",
              "      <td>8707</td>\n",
              "      <td>2019</td>\n",
              "      <td>5</td>\n",
              "      <td>18</td>\n",
              "      <td>1</td>\n",
              "      <td>2</td>\n",
              "      <td>121</td>\n",
              "      <td>False</td>\n",
              "      <td>True</td>\n",
              "      <td>False</td>\n",
              "      <td>False</td>\n",
              "      <td>False</td>\n",
              "      <td>False</td>\n",
              "      <td>1556668800</td>\n",
              "    </tr>\n",
              "    <tr>\n",
              "      <th>31737</th>\n",
              "      <td>494119</td>\n",
              "      <td>2019-05-01</td>\n",
              "      <td>SpecialNo4</td>\n",
              "      <td>6127</td>\n",
              "      <td>2019</td>\n",
              "      <td>5</td>\n",
              "      <td>18</td>\n",
              "      <td>1</td>\n",
              "      <td>2</td>\n",
              "      <td>121</td>\n",
              "      <td>False</td>\n",
              "      <td>True</td>\n",
              "      <td>False</td>\n",
              "      <td>False</td>\n",
              "      <td>False</td>\n",
              "      <td>False</td>\n",
              "      <td>1556668800</td>\n",
              "    </tr>\n",
              "    <tr>\n",
              "      <th>36271</th>\n",
              "      <td>494119</td>\n",
              "      <td>2019-05-01</td>\n",
              "      <td>SpecialNo5</td>\n",
              "      <td>2690</td>\n",
              "      <td>2019</td>\n",
              "      <td>5</td>\n",
              "      <td>18</td>\n",
              "      <td>1</td>\n",
              "      <td>2</td>\n",
              "      <td>121</td>\n",
              "      <td>False</td>\n",
              "      <td>True</td>\n",
              "      <td>False</td>\n",
              "      <td>False</td>\n",
              "      <td>False</td>\n",
              "      <td>False</td>\n",
              "      <td>1556668800</td>\n",
              "    </tr>\n",
              "    <tr>\n",
              "      <th>40805</th>\n",
              "      <td>494119</td>\n",
              "      <td>2019-05-01</td>\n",
              "      <td>SpecialNo6</td>\n",
              "      <td>8531</td>\n",
              "      <td>2019</td>\n",
              "      <td>5</td>\n",
              "      <td>18</td>\n",
              "      <td>1</td>\n",
              "      <td>2</td>\n",
              "      <td>121</td>\n",
              "      <td>False</td>\n",
              "      <td>True</td>\n",
              "      <td>False</td>\n",
              "      <td>False</td>\n",
              "      <td>False</td>\n",
              "      <td>False</td>\n",
              "      <td>1556668800</td>\n",
              "    </tr>\n",
              "    <tr>\n",
              "      <th>45339</th>\n",
              "      <td>494119</td>\n",
              "      <td>2019-05-01</td>\n",
              "      <td>SpecialNo7</td>\n",
              "      <td>9627</td>\n",
              "      <td>2019</td>\n",
              "      <td>5</td>\n",
              "      <td>18</td>\n",
              "      <td>1</td>\n",
              "      <td>2</td>\n",
              "      <td>121</td>\n",
              "      <td>False</td>\n",
              "      <td>True</td>\n",
              "      <td>False</td>\n",
              "      <td>False</td>\n",
              "      <td>False</td>\n",
              "      <td>False</td>\n",
              "      <td>1556668800</td>\n",
              "    </tr>\n",
              "    <tr>\n",
              "      <th>49873</th>\n",
              "      <td>494119</td>\n",
              "      <td>2019-05-01</td>\n",
              "      <td>SpecialNo8</td>\n",
              "      <td>6547</td>\n",
              "      <td>2019</td>\n",
              "      <td>5</td>\n",
              "      <td>18</td>\n",
              "      <td>1</td>\n",
              "      <td>2</td>\n",
              "      <td>121</td>\n",
              "      <td>False</td>\n",
              "      <td>True</td>\n",
              "      <td>False</td>\n",
              "      <td>False</td>\n",
              "      <td>False</td>\n",
              "      <td>False</td>\n",
              "      <td>1556668800</td>\n",
              "    </tr>\n",
              "    <tr>\n",
              "      <th>54407</th>\n",
              "      <td>494119</td>\n",
              "      <td>2019-05-01</td>\n",
              "      <td>SpecialNo9</td>\n",
              "      <td>2222</td>\n",
              "      <td>2019</td>\n",
              "      <td>5</td>\n",
              "      <td>18</td>\n",
              "      <td>1</td>\n",
              "      <td>2</td>\n",
              "      <td>121</td>\n",
              "      <td>False</td>\n",
              "      <td>True</td>\n",
              "      <td>False</td>\n",
              "      <td>False</td>\n",
              "      <td>False</td>\n",
              "      <td>False</td>\n",
              "      <td>1556668800</td>\n",
              "    </tr>\n",
              "  </tbody>\n",
              "</table>\n",
              "</div>"
            ],
            "text/plain": [
              "       DrawNo   DrawDate    PrizeType  LuckyNo  DrawYear  DrawMonth  DrawWeek  \\\n",
              "18135  494119 2019-05-01   SpecialNo1     1271      2019          5        18   \n",
              "58941  494119 2019-05-01  SpecialNo10     2106      2019          5        18   \n",
              "22669  494119 2019-05-01   SpecialNo2     7440      2019          5        18   \n",
              "27203  494119 2019-05-01   SpecialNo3     8707      2019          5        18   \n",
              "31737  494119 2019-05-01   SpecialNo4     6127      2019          5        18   \n",
              "36271  494119 2019-05-01   SpecialNo5     2690      2019          5        18   \n",
              "40805  494119 2019-05-01   SpecialNo6     8531      2019          5        18   \n",
              "45339  494119 2019-05-01   SpecialNo7     9627      2019          5        18   \n",
              "49873  494119 2019-05-01   SpecialNo8     6547      2019          5        18   \n",
              "54407  494119 2019-05-01   SpecialNo9     2222      2019          5        18   \n",
              "\n",
              "       DrawDay  DrawDayofweek  DrawDayofyear  DrawIs_month_end  \\\n",
              "18135        1              2            121             False   \n",
              "58941        1              2            121             False   \n",
              "22669        1              2            121             False   \n",
              "27203        1              2            121             False   \n",
              "31737        1              2            121             False   \n",
              "36271        1              2            121             False   \n",
              "40805        1              2            121             False   \n",
              "45339        1              2            121             False   \n",
              "49873        1              2            121             False   \n",
              "54407        1              2            121             False   \n",
              "\n",
              "       DrawIs_month_start  DrawIs_quarter_end  DrawIs_quarter_start  \\\n",
              "18135                True               False                 False   \n",
              "58941                True               False                 False   \n",
              "22669                True               False                 False   \n",
              "27203                True               False                 False   \n",
              "31737                True               False                 False   \n",
              "36271                True               False                 False   \n",
              "40805                True               False                 False   \n",
              "45339                True               False                 False   \n",
              "49873                True               False                 False   \n",
              "54407                True               False                 False   \n",
              "\n",
              "       DrawIs_year_end  DrawIs_year_start  DrawElapsed  \n",
              "18135            False              False   1556668800  \n",
              "58941            False              False   1556668800  \n",
              "22669            False              False   1556668800  \n",
              "27203            False              False   1556668800  \n",
              "31737            False              False   1556668800  \n",
              "36271            False              False   1556668800  \n",
              "40805            False              False   1556668800  \n",
              "45339            False              False   1556668800  \n",
              "49873            False              False   1556668800  \n",
              "54407            False              False   1556668800  "
            ]
          },
          "metadata": {
            "tags": []
          },
          "execution_count": 67
        }
      ]
    },
    {
      "metadata": {
        "id": "tIfpzBPOcwaz",
        "colab_type": "text"
      },
      "cell_type": "markdown",
      "source": [
        "### Train and Validation Split"
      ]
    },
    {
      "metadata": {
        "id": "migCiR94cwa1",
        "colab_type": "code",
        "colab": {
          "base_uri": "https://localhost:8080/",
          "height": 34
        },
        "outputId": "39cc9b94-02e0-4330-f550-a3cf7124a7dc"
      },
      "cell_type": "code",
      "source": [
        "n = len(df_processed); n"
      ],
      "execution_count": 31,
      "outputs": [
        {
          "output_type": "execute_result",
          "data": {
            "text/plain": [
              "104282"
            ]
          },
          "metadata": {
            "tags": []
          },
          "execution_count": 31
        }
      ]
    },
    {
      "metadata": {
        "id": "BvVWP2DtrN9Z",
        "colab_type": "code",
        "colab": {}
      },
      "cell_type": "code",
      "source": [
        ""
      ],
      "execution_count": 0,
      "outputs": []
    },
    {
      "metadata": {
        "id": "OzquwRh6rNr5",
        "colab_type": "code",
        "colab": {}
      },
      "cell_type": "code",
      "source": [
        "train_df = df_processed"
      ],
      "execution_count": 0,
      "outputs": []
    },
    {
      "metadata": {
        "id": "MOy03HkwtZbK",
        "colab_type": "text"
      },
      "cell_type": "markdown",
      "source": [
        "### Field Variables"
      ]
    },
    {
      "metadata": {
        "id": "rLIfCUFNth5H",
        "colab_type": "code",
        "colab": {}
      },
      "cell_type": "code",
      "source": [
        "# Outcome to predict\n",
        "dep_var = \"LuckyNo\""
      ],
      "execution_count": 0,
      "outputs": []
    },
    {
      "metadata": {
        "id": "o8-_uHW0waOU",
        "colab_type": "text"
      },
      "cell_type": "markdown",
      "source": [
        "## Experiment with a sample"
      ]
    },
    {
      "metadata": {
        "id": "9dm_l8Xqs6yq",
        "colab_type": "code",
        "colab": {
          "base_uri": "https://localhost:8080/",
          "height": 374
        },
        "outputId": "5553c340-8edd-4e0b-fbdf-789dbfca9e99"
      },
      "cell_type": "code",
      "source": [
        "train_df.info()"
      ],
      "execution_count": 41,
      "outputs": [
        {
          "output_type": "stream",
          "text": [
            "<class 'pandas.core.frame.DataFrame'>\n",
            "RangeIndex: 104282 entries, 0 to 104281\n",
            "Data columns (total 16 columns):\n",
            "DrawNo                  104282 non-null int64\n",
            "PrizeType               104282 non-null object\n",
            "LuckyNo                 104282 non-null int64\n",
            "DrawYear                104282 non-null int64\n",
            "DrawMonth               104282 non-null int64\n",
            "DrawWeek                104282 non-null int64\n",
            "DrawDay                 104282 non-null int64\n",
            "DrawDayofweek           104282 non-null int64\n",
            "DrawDayofyear           104282 non-null int64\n",
            "DrawIs_month_end        104282 non-null bool\n",
            "DrawIs_month_start      104282 non-null bool\n",
            "DrawIs_quarter_end      104282 non-null bool\n",
            "DrawIs_quarter_start    104282 non-null bool\n",
            "DrawIs_year_end         104282 non-null bool\n",
            "DrawIs_year_start       104282 non-null bool\n",
            "DrawElapsed             104282 non-null int64\n",
            "dtypes: bool(6), int64(9), object(1)\n",
            "memory usage: 8.6+ MB\n"
          ],
          "name": "stdout"
        }
      ]
    },
    {
      "metadata": {
        "id": "nP6L7tltrM7U",
        "colab_type": "code",
        "colab": {
          "base_uri": "https://localhost:8080/",
          "height": 68
        },
        "outputId": "3727b96c-76d6-4007-a3f7-d1f173593bbe"
      },
      "cell_type": "code",
      "source": [
        "idx = np.random.permutation(range(n))[:6000]\n",
        "print(n)\n",
        "print(len(idx))\n",
        "print(idx)\n",
        "\n",
        "idx.sort()\n",
        "\n",
        "small_train_df = train_df.iloc[idx[:3000]]\n",
        "small_test_df = train_df.iloc[idx[3000:]]\n"
      ],
      "execution_count": 40,
      "outputs": [
        {
          "output_type": "stream",
          "text": [
            "104282\n",
            "6000\n",
            "[35393 56792 90165 45932 ... 29432 59465 57785  8622]\n"
          ],
          "name": "stdout"
        }
      ]
    },
    {
      "metadata": {
        "id": "rfmvFeagrVBe",
        "colab_type": "code",
        "colab": {}
      },
      "cell_type": "code",
      "source": [
        "# Set continuous and categorical columns\n",
        "small_cont_vars = [\"DrawNo\", \"DrawElapsed\"]\n",
        "small_cat_vars = [\"PrizeType\", \"DrawYear\", \"DrawMonth\", \"DrawWeek\", \"DrawDay\", \"DrawDayofweek\", \n",
        "                  \"DrawDayofyear\",\"DrawIs_month_end\",\"DrawIs_month_start\", \"DrawIs_quarter_end\", \"DrawIs_quarter_start\", \"DrawIs_year_end\", \"DrawIs_year_start\"]"
      ],
      "execution_count": 0,
      "outputs": []
    },
    {
      "metadata": {
        "id": "Ff3NsGryuU2m",
        "colab_type": "code",
        "colab": {}
      },
      "cell_type": "code",
      "source": [
        "small_train_df = small_train_df[small_cat_vars + small_cont_vars + [dep_var]]\n",
        "small_test_df = small_test_df[small_cat_vars + small_cont_vars + [dep_var]]"
      ],
      "execution_count": 0,
      "outputs": []
    },
    {
      "metadata": {
        "id": "vraIDuPCur6N",
        "colab_type": "code",
        "colab": {
          "base_uri": "https://localhost:8080/",
          "height": 224
        },
        "outputId": "cd48a1a1-6920-4e35-8a61-5d3cfdbd770a"
      },
      "cell_type": "code",
      "source": [
        "small_train_df.head(5)"
      ],
      "execution_count": 48,
      "outputs": [
        {
          "output_type": "execute_result",
          "data": {
            "application/vnd.dataresource+json": {
              "data": [
                {
                  "index": 11,
                  "DrawIs_quarter_start": false,
                  "DrawIs_month_start": false,
                  "DrawDayofweek": 6,
                  "DrawIs_year_start": false,
                  "DrawIs_month_end": true,
                  "DrawDayofyear": 152,
                  "PrizeType": "1stPrizeNo",
                  "DrawWeek": 22,
                  "LuckyNo": 3876,
                  "DrawMonth": 5,
                  "DrawNo": 41892,
                  "DrawDay": 31,
                  "DrawIs_quarter_end": false,
                  "DrawIs_year_end": false,
                  "DrawYear": 1992,
                  "DrawElapsed": 707270400
                },
                {
                  "index": 18,
                  "DrawIs_quarter_start": false,
                  "DrawIs_month_start": false,
                  "DrawDayofweek": 2,
                  "DrawIs_year_start": false,
                  "DrawIs_month_end": false,
                  "DrawDayofyear": 169,
                  "PrizeType": "1stPrizeNo",
                  "DrawWeek": 25,
                  "LuckyNo": 6440,
                  "DrawMonth": 6,
                  "DrawNo": 42592,
                  "DrawDay": 17,
                  "DrawIs_quarter_end": false,
                  "DrawIs_year_end": false,
                  "DrawYear": 1992,
                  "DrawElapsed": 708739200
                },
                {
                  "index": 31,
                  "DrawIs_quarter_start": false,
                  "DrawIs_month_start": false,
                  "DrawDayofweek": 3,
                  "DrawIs_year_start": false,
                  "DrawIs_month_end": false,
                  "DrawDayofyear": 198,
                  "PrizeType": "1stPrizeNo",
                  "DrawWeek": 29,
                  "LuckyNo": 8467,
                  "DrawMonth": 7,
                  "DrawNo": 43892,
                  "DrawDay": 16,
                  "DrawIs_quarter_end": false,
                  "DrawIs_year_end": false,
                  "DrawYear": 1992,
                  "DrawElapsed": 711244800
                },
                {
                  "index": 43,
                  "DrawIs_quarter_start": false,
                  "DrawIs_month_start": false,
                  "DrawDayofweek": 3,
                  "DrawIs_year_start": false,
                  "DrawIs_month_end": false,
                  "DrawDayofyear": 226,
                  "PrizeType": "1stPrizeNo",
                  "DrawWeek": 33,
                  "LuckyNo": 5592,
                  "DrawMonth": 8,
                  "DrawNo": 45092,
                  "DrawDay": 13,
                  "DrawIs_quarter_end": false,
                  "DrawIs_year_end": false,
                  "DrawYear": 1992,
                  "DrawElapsed": 713664000
                },
                {
                  "index": 72,
                  "DrawIs_quarter_start": false,
                  "DrawIs_month_start": false,
                  "DrawDayofweek": 2,
                  "DrawIs_year_start": false,
                  "DrawIs_month_end": false,
                  "DrawDayofyear": 295,
                  "PrizeType": "1stPrizeNo",
                  "DrawWeek": 43,
                  "LuckyNo": 7942,
                  "DrawMonth": 10,
                  "DrawNo": 47992,
                  "DrawDay": 21,
                  "DrawIs_quarter_end": false,
                  "DrawIs_year_end": false,
                  "DrawYear": 1992,
                  "DrawElapsed": 719625600
                }
              ],
              "schema": {
                "fields": [
                  {
                    "type": "integer",
                    "name": "index"
                  },
                  {
                    "type": "string",
                    "name": "PrizeType"
                  },
                  {
                    "type": "integer",
                    "name": "DrawYear"
                  },
                  {
                    "type": "integer",
                    "name": "DrawMonth"
                  },
                  {
                    "type": "integer",
                    "name": "DrawWeek"
                  },
                  {
                    "type": "integer",
                    "name": "DrawDay"
                  },
                  {
                    "type": "integer",
                    "name": "DrawDayofweek"
                  },
                  {
                    "type": "integer",
                    "name": "DrawDayofyear"
                  },
                  {
                    "type": "boolean",
                    "name": "DrawIs_month_end"
                  },
                  {
                    "type": "boolean",
                    "name": "DrawIs_month_start"
                  },
                  {
                    "type": "boolean",
                    "name": "DrawIs_quarter_end"
                  },
                  {
                    "type": "boolean",
                    "name": "DrawIs_quarter_start"
                  },
                  {
                    "type": "boolean",
                    "name": "DrawIs_year_end"
                  },
                  {
                    "type": "boolean",
                    "name": "DrawIs_year_start"
                  },
                  {
                    "type": "integer",
                    "name": "DrawNo"
                  },
                  {
                    "type": "integer",
                    "name": "DrawElapsed"
                  },
                  {
                    "type": "integer",
                    "name": "LuckyNo"
                  }
                ],
                "pandas_version": "0.20.0",
                "primaryKey": [
                  "index"
                ]
              }
            },
            "text/html": [
              "<div>\n",
              "<style scoped>\n",
              "    .dataframe tbody tr th:only-of-type {\n",
              "        vertical-align: middle;\n",
              "    }\n",
              "\n",
              "    .dataframe tbody tr th {\n",
              "        vertical-align: top;\n",
              "    }\n",
              "\n",
              "    .dataframe thead th {\n",
              "        text-align: right;\n",
              "    }\n",
              "</style>\n",
              "<table border=\"1\" class=\"dataframe\">\n",
              "  <thead>\n",
              "    <tr style=\"text-align: right;\">\n",
              "      <th></th>\n",
              "      <th>PrizeType</th>\n",
              "      <th>DrawYear</th>\n",
              "      <th>DrawMonth</th>\n",
              "      <th>DrawWeek</th>\n",
              "      <th>DrawDay</th>\n",
              "      <th>DrawDayofweek</th>\n",
              "      <th>DrawDayofyear</th>\n",
              "      <th>DrawIs_month_end</th>\n",
              "      <th>DrawIs_month_start</th>\n",
              "      <th>DrawIs_quarter_end</th>\n",
              "      <th>DrawIs_quarter_start</th>\n",
              "      <th>DrawIs_year_end</th>\n",
              "      <th>DrawIs_year_start</th>\n",
              "      <th>DrawNo</th>\n",
              "      <th>DrawElapsed</th>\n",
              "      <th>LuckyNo</th>\n",
              "    </tr>\n",
              "  </thead>\n",
              "  <tbody>\n",
              "    <tr>\n",
              "      <th>11</th>\n",
              "      <td>1stPrizeNo</td>\n",
              "      <td>1992</td>\n",
              "      <td>5</td>\n",
              "      <td>22</td>\n",
              "      <td>31</td>\n",
              "      <td>6</td>\n",
              "      <td>152</td>\n",
              "      <td>True</td>\n",
              "      <td>False</td>\n",
              "      <td>False</td>\n",
              "      <td>False</td>\n",
              "      <td>False</td>\n",
              "      <td>False</td>\n",
              "      <td>41892</td>\n",
              "      <td>707270400</td>\n",
              "      <td>3876</td>\n",
              "    </tr>\n",
              "    <tr>\n",
              "      <th>18</th>\n",
              "      <td>1stPrizeNo</td>\n",
              "      <td>1992</td>\n",
              "      <td>6</td>\n",
              "      <td>25</td>\n",
              "      <td>17</td>\n",
              "      <td>2</td>\n",
              "      <td>169</td>\n",
              "      <td>False</td>\n",
              "      <td>False</td>\n",
              "      <td>False</td>\n",
              "      <td>False</td>\n",
              "      <td>False</td>\n",
              "      <td>False</td>\n",
              "      <td>42592</td>\n",
              "      <td>708739200</td>\n",
              "      <td>6440</td>\n",
              "    </tr>\n",
              "    <tr>\n",
              "      <th>31</th>\n",
              "      <td>1stPrizeNo</td>\n",
              "      <td>1992</td>\n",
              "      <td>7</td>\n",
              "      <td>29</td>\n",
              "      <td>16</td>\n",
              "      <td>3</td>\n",
              "      <td>198</td>\n",
              "      <td>False</td>\n",
              "      <td>False</td>\n",
              "      <td>False</td>\n",
              "      <td>False</td>\n",
              "      <td>False</td>\n",
              "      <td>False</td>\n",
              "      <td>43892</td>\n",
              "      <td>711244800</td>\n",
              "      <td>8467</td>\n",
              "    </tr>\n",
              "    <tr>\n",
              "      <th>43</th>\n",
              "      <td>1stPrizeNo</td>\n",
              "      <td>1992</td>\n",
              "      <td>8</td>\n",
              "      <td>33</td>\n",
              "      <td>13</td>\n",
              "      <td>3</td>\n",
              "      <td>226</td>\n",
              "      <td>False</td>\n",
              "      <td>False</td>\n",
              "      <td>False</td>\n",
              "      <td>False</td>\n",
              "      <td>False</td>\n",
              "      <td>False</td>\n",
              "      <td>45092</td>\n",
              "      <td>713664000</td>\n",
              "      <td>5592</td>\n",
              "    </tr>\n",
              "    <tr>\n",
              "      <th>72</th>\n",
              "      <td>1stPrizeNo</td>\n",
              "      <td>1992</td>\n",
              "      <td>10</td>\n",
              "      <td>43</td>\n",
              "      <td>21</td>\n",
              "      <td>2</td>\n",
              "      <td>295</td>\n",
              "      <td>False</td>\n",
              "      <td>False</td>\n",
              "      <td>False</td>\n",
              "      <td>False</td>\n",
              "      <td>False</td>\n",
              "      <td>False</td>\n",
              "      <td>47992</td>\n",
              "      <td>719625600</td>\n",
              "      <td>7942</td>\n",
              "    </tr>\n",
              "  </tbody>\n",
              "</table>\n",
              "</div>"
            ],
            "text/plain": [
              "     PrizeType  DrawYear  DrawMonth  DrawWeek  DrawDay  DrawDayofweek  \\\n",
              "11  1stPrizeNo      1992          5        22       31              6   \n",
              "18  1stPrizeNo      1992          6        25       17              2   \n",
              "31  1stPrizeNo      1992          7        29       16              3   \n",
              "43  1stPrizeNo      1992          8        33       13              3   \n",
              "72  1stPrizeNo      1992         10        43       21              2   \n",
              "\n",
              "    DrawDayofyear  DrawIs_month_end  DrawIs_month_start  DrawIs_quarter_end  \\\n",
              "11            152              True               False               False   \n",
              "18            169             False               False               False   \n",
              "31            198             False               False               False   \n",
              "43            226             False               False               False   \n",
              "72            295             False               False               False   \n",
              "\n",
              "    DrawIs_quarter_start  DrawIs_year_end  DrawIs_year_start  DrawNo  \\\n",
              "11                 False            False              False   41892   \n",
              "18                 False            False              False   42592   \n",
              "31                 False            False              False   43892   \n",
              "43                 False            False              False   45092   \n",
              "72                 False            False              False   47992   \n",
              "\n",
              "    DrawElapsed  LuckyNo  \n",
              "11    707270400     3876  \n",
              "18    708739200     6440  \n",
              "31    711244800     8467  \n",
              "43    713664000     5592  \n",
              "72    719625600     7942  "
            ]
          },
          "metadata": {
            "tags": []
          },
          "execution_count": 48
        }
      ]
    },
    {
      "metadata": {
        "id": "clcMP_asuvuB",
        "colab_type": "code",
        "colab": {
          "base_uri": "https://localhost:8080/",
          "height": 224
        },
        "outputId": "da04ae02-7d67-4965-bcb6-bdc085ec728b"
      },
      "cell_type": "code",
      "source": [
        "small_test_df.head(5)"
      ],
      "execution_count": 49,
      "outputs": [
        {
          "output_type": "execute_result",
          "data": {
            "application/vnd.dataresource+json": {
              "data": [
                {
                  "index": 50594,
                  "DrawIs_quarter_start": false,
                  "DrawIs_month_start": false,
                  "DrawDayofweek": 6,
                  "DrawIs_year_start": false,
                  "DrawIs_month_end": false,
                  "DrawDayofyear": 343,
                  "PrizeType": "SpecialNo9",
                  "DrawWeek": 49,
                  "LuckyNo": 4406,
                  "DrawMonth": 12,
                  "DrawNo": 112796,
                  "DrawDay": 8,
                  "DrawIs_quarter_end": false,
                  "DrawIs_year_end": false,
                  "DrawYear": 1996,
                  "DrawElapsed": 850003200
                },
                {
                  "index": 50617,
                  "DrawIs_quarter_start": false,
                  "DrawIs_month_start": true,
                  "DrawDayofweek": 5,
                  "DrawIs_year_start": false,
                  "DrawIs_month_end": false,
                  "DrawDayofyear": 32,
                  "PrizeType": "SpecialNo9",
                  "DrawWeek": 5,
                  "LuckyNo": 6167,
                  "DrawMonth": 2,
                  "DrawNo": 115097,
                  "DrawDay": 1,
                  "DrawIs_quarter_end": false,
                  "DrawIs_year_end": false,
                  "DrawYear": 1997,
                  "DrawElapsed": 854755200
                },
                {
                  "index": 50628,
                  "DrawIs_quarter_start": false,
                  "DrawIs_month_start": false,
                  "DrawDayofweek": 2,
                  "DrawIs_year_start": false,
                  "DrawIs_month_end": false,
                  "DrawDayofyear": 57,
                  "PrizeType": "SpecialNo9",
                  "DrawWeek": 9,
                  "LuckyNo": 298,
                  "DrawMonth": 2,
                  "DrawNo": 116197,
                  "DrawDay": 26,
                  "DrawIs_quarter_end": false,
                  "DrawIs_year_end": false,
                  "DrawYear": 1997,
                  "DrawElapsed": 856915200
                },
                {
                  "index": 50638,
                  "DrawIs_quarter_start": false,
                  "DrawIs_month_start": false,
                  "DrawDayofweek": 5,
                  "DrawIs_year_start": false,
                  "DrawIs_month_end": false,
                  "DrawDayofyear": 81,
                  "PrizeType": "SpecialNo9",
                  "DrawWeek": 12,
                  "LuckyNo": 8123,
                  "DrawMonth": 3,
                  "DrawNo": 117197,
                  "DrawDay": 22,
                  "DrawIs_quarter_end": false,
                  "DrawIs_year_end": false,
                  "DrawYear": 1997,
                  "DrawElapsed": 858988800
                },
                {
                  "index": 50669,
                  "DrawIs_quarter_start": false,
                  "DrawIs_month_start": true,
                  "DrawDayofweek": 6,
                  "DrawIs_year_start": false,
                  "DrawIs_month_end": false,
                  "DrawDayofyear": 152,
                  "PrizeType": "SpecialNo9",
                  "DrawWeek": 22,
                  "LuckyNo": 7594,
                  "DrawMonth": 6,
                  "DrawNo": 120297,
                  "DrawDay": 1,
                  "DrawIs_quarter_end": false,
                  "DrawIs_year_end": false,
                  "DrawYear": 1997,
                  "DrawElapsed": 865123200
                }
              ],
              "schema": {
                "fields": [
                  {
                    "type": "integer",
                    "name": "index"
                  },
                  {
                    "type": "string",
                    "name": "PrizeType"
                  },
                  {
                    "type": "integer",
                    "name": "DrawYear"
                  },
                  {
                    "type": "integer",
                    "name": "DrawMonth"
                  },
                  {
                    "type": "integer",
                    "name": "DrawWeek"
                  },
                  {
                    "type": "integer",
                    "name": "DrawDay"
                  },
                  {
                    "type": "integer",
                    "name": "DrawDayofweek"
                  },
                  {
                    "type": "integer",
                    "name": "DrawDayofyear"
                  },
                  {
                    "type": "boolean",
                    "name": "DrawIs_month_end"
                  },
                  {
                    "type": "boolean",
                    "name": "DrawIs_month_start"
                  },
                  {
                    "type": "boolean",
                    "name": "DrawIs_quarter_end"
                  },
                  {
                    "type": "boolean",
                    "name": "DrawIs_quarter_start"
                  },
                  {
                    "type": "boolean",
                    "name": "DrawIs_year_end"
                  },
                  {
                    "type": "boolean",
                    "name": "DrawIs_year_start"
                  },
                  {
                    "type": "integer",
                    "name": "DrawNo"
                  },
                  {
                    "type": "integer",
                    "name": "DrawElapsed"
                  },
                  {
                    "type": "integer",
                    "name": "LuckyNo"
                  }
                ],
                "pandas_version": "0.20.0",
                "primaryKey": [
                  "index"
                ]
              }
            },
            "text/html": [
              "<div>\n",
              "<style scoped>\n",
              "    .dataframe tbody tr th:only-of-type {\n",
              "        vertical-align: middle;\n",
              "    }\n",
              "\n",
              "    .dataframe tbody tr th {\n",
              "        vertical-align: top;\n",
              "    }\n",
              "\n",
              "    .dataframe thead th {\n",
              "        text-align: right;\n",
              "    }\n",
              "</style>\n",
              "<table border=\"1\" class=\"dataframe\">\n",
              "  <thead>\n",
              "    <tr style=\"text-align: right;\">\n",
              "      <th></th>\n",
              "      <th>PrizeType</th>\n",
              "      <th>DrawYear</th>\n",
              "      <th>DrawMonth</th>\n",
              "      <th>DrawWeek</th>\n",
              "      <th>DrawDay</th>\n",
              "      <th>DrawDayofweek</th>\n",
              "      <th>DrawDayofyear</th>\n",
              "      <th>DrawIs_month_end</th>\n",
              "      <th>DrawIs_month_start</th>\n",
              "      <th>DrawIs_quarter_end</th>\n",
              "      <th>DrawIs_quarter_start</th>\n",
              "      <th>DrawIs_year_end</th>\n",
              "      <th>DrawIs_year_start</th>\n",
              "      <th>DrawNo</th>\n",
              "      <th>DrawElapsed</th>\n",
              "      <th>LuckyNo</th>\n",
              "    </tr>\n",
              "  </thead>\n",
              "  <tbody>\n",
              "    <tr>\n",
              "      <th>50594</th>\n",
              "      <td>SpecialNo9</td>\n",
              "      <td>1996</td>\n",
              "      <td>12</td>\n",
              "      <td>49</td>\n",
              "      <td>8</td>\n",
              "      <td>6</td>\n",
              "      <td>343</td>\n",
              "      <td>False</td>\n",
              "      <td>False</td>\n",
              "      <td>False</td>\n",
              "      <td>False</td>\n",
              "      <td>False</td>\n",
              "      <td>False</td>\n",
              "      <td>112796</td>\n",
              "      <td>850003200</td>\n",
              "      <td>4406</td>\n",
              "    </tr>\n",
              "    <tr>\n",
              "      <th>50617</th>\n",
              "      <td>SpecialNo9</td>\n",
              "      <td>1997</td>\n",
              "      <td>2</td>\n",
              "      <td>5</td>\n",
              "      <td>1</td>\n",
              "      <td>5</td>\n",
              "      <td>32</td>\n",
              "      <td>False</td>\n",
              "      <td>True</td>\n",
              "      <td>False</td>\n",
              "      <td>False</td>\n",
              "      <td>False</td>\n",
              "      <td>False</td>\n",
              "      <td>115097</td>\n",
              "      <td>854755200</td>\n",
              "      <td>6167</td>\n",
              "    </tr>\n",
              "    <tr>\n",
              "      <th>50628</th>\n",
              "      <td>SpecialNo9</td>\n",
              "      <td>1997</td>\n",
              "      <td>2</td>\n",
              "      <td>9</td>\n",
              "      <td>26</td>\n",
              "      <td>2</td>\n",
              "      <td>57</td>\n",
              "      <td>False</td>\n",
              "      <td>False</td>\n",
              "      <td>False</td>\n",
              "      <td>False</td>\n",
              "      <td>False</td>\n",
              "      <td>False</td>\n",
              "      <td>116197</td>\n",
              "      <td>856915200</td>\n",
              "      <td>298</td>\n",
              "    </tr>\n",
              "    <tr>\n",
              "      <th>50638</th>\n",
              "      <td>SpecialNo9</td>\n",
              "      <td>1997</td>\n",
              "      <td>3</td>\n",
              "      <td>12</td>\n",
              "      <td>22</td>\n",
              "      <td>5</td>\n",
              "      <td>81</td>\n",
              "      <td>False</td>\n",
              "      <td>False</td>\n",
              "      <td>False</td>\n",
              "      <td>False</td>\n",
              "      <td>False</td>\n",
              "      <td>False</td>\n",
              "      <td>117197</td>\n",
              "      <td>858988800</td>\n",
              "      <td>8123</td>\n",
              "    </tr>\n",
              "    <tr>\n",
              "      <th>50669</th>\n",
              "      <td>SpecialNo9</td>\n",
              "      <td>1997</td>\n",
              "      <td>6</td>\n",
              "      <td>22</td>\n",
              "      <td>1</td>\n",
              "      <td>6</td>\n",
              "      <td>152</td>\n",
              "      <td>False</td>\n",
              "      <td>True</td>\n",
              "      <td>False</td>\n",
              "      <td>False</td>\n",
              "      <td>False</td>\n",
              "      <td>False</td>\n",
              "      <td>120297</td>\n",
              "      <td>865123200</td>\n",
              "      <td>7594</td>\n",
              "    </tr>\n",
              "  </tbody>\n",
              "</table>\n",
              "</div>"
            ],
            "text/plain": [
              "        PrizeType  DrawYear  DrawMonth  DrawWeek  DrawDay  DrawDayofweek  \\\n",
              "50594  SpecialNo9      1996         12        49        8              6   \n",
              "50617  SpecialNo9      1997          2         5        1              5   \n",
              "50628  SpecialNo9      1997          2         9       26              2   \n",
              "50638  SpecialNo9      1997          3        12       22              5   \n",
              "50669  SpecialNo9      1997          6        22        1              6   \n",
              "\n",
              "       DrawDayofyear  DrawIs_month_end  DrawIs_month_start  \\\n",
              "50594            343             False               False   \n",
              "50617             32             False                True   \n",
              "50628             57             False               False   \n",
              "50638             81             False               False   \n",
              "50669            152             False                True   \n",
              "\n",
              "       DrawIs_quarter_end  DrawIs_quarter_start  DrawIs_year_end  \\\n",
              "50594               False                 False            False   \n",
              "50617               False                 False            False   \n",
              "50628               False                 False            False   \n",
              "50638               False                 False            False   \n",
              "50669               False                 False            False   \n",
              "\n",
              "       DrawIs_year_start  DrawNo  DrawElapsed  LuckyNo  \n",
              "50594              False  112796    850003200     4406  \n",
              "50617              False  115097    854755200     6167  \n",
              "50628              False  116197    856915200      298  \n",
              "50638              False  117197    858988800     8123  \n",
              "50669              False  120297    865123200     7594  "
            ]
          },
          "metadata": {
            "tags": []
          },
          "execution_count": 49
        }
      ]
    },
    {
      "metadata": {
        "id": "09XGqEUku4Bl",
        "colab_type": "code",
        "colab": {}
      },
      "cell_type": "code",
      "source": [
        "categorify = Categorify(small_cat_vars, small_cont_vars)\n",
        "categorify(small_train_df)\n",
        "categorify(small_test_df, test=True)"
      ],
      "execution_count": 0,
      "outputs": []
    },
    {
      "metadata": {
        "id": "enAi7pjWvCoA",
        "colab_type": "code",
        "colab": {
          "base_uri": "https://localhost:8080/",
          "height": 85
        },
        "outputId": "4743f5d2-74e1-4ff4-fca8-66e6a1f7f29a"
      },
      "cell_type": "code",
      "source": [
        "small_train_df.PrizeType.cat.categories"
      ],
      "execution_count": 52,
      "outputs": [
        {
          "output_type": "execute_result",
          "data": {
            "text/plain": [
              "Index(['1stPrizeNo', '2ndPrizeNo', '3rdPrizeNo', 'SpecialNo1', 'SpecialNo2',\n",
              "       'SpecialNo3', 'SpecialNo4', 'SpecialNo5', 'SpecialNo6', 'SpecialNo7',\n",
              "       'SpecialNo8', 'SpecialNo9'],\n",
              "      dtype='object')"
            ]
          },
          "metadata": {
            "tags": []
          },
          "execution_count": 52
        }
      ]
    },
    {
      "metadata": {
        "id": "zKbHZ3xYvIFv",
        "colab_type": "code",
        "colab": {
          "base_uri": "https://localhost:8080/",
          "height": 204
        },
        "outputId": "03d9b410-060d-4d9b-d055-2a1e4b4992d5"
      },
      "cell_type": "code",
      "source": [
        "small_train_df.PrizeType.cat.codes[:10]"
      ],
      "execution_count": 54,
      "outputs": [
        {
          "output_type": "execute_result",
          "data": {
            "application/vnd.dataresource+json": {
              "data": [
                {
                  "index": 11,
                  "values": 0
                },
                {
                  "index": 18,
                  "values": 0
                },
                {
                  "index": 31,
                  "values": 0
                },
                {
                  "index": 43,
                  "values": 0
                },
                {
                  "index": 72,
                  "values": 0
                },
                {
                  "index": 73,
                  "values": 0
                },
                {
                  "index": 87,
                  "values": 0
                },
                {
                  "index": 107,
                  "values": 0
                },
                {
                  "index": 122,
                  "values": 0
                },
                {
                  "index": 169,
                  "values": 0
                }
              ],
              "schema": {
                "fields": [
                  {
                    "type": "integer",
                    "name": "index"
                  },
                  {
                    "type": "integer",
                    "name": "values"
                  }
                ],
                "pandas_version": "0.20.0",
                "primaryKey": [
                  "index"
                ]
              }
            },
            "text/plain": [
              "11     0\n",
              "18     0\n",
              "31     0\n",
              "43     0\n",
              "72     0\n",
              "73     0\n",
              "87     0\n",
              "107    0\n",
              "122    0\n",
              "169    0\n",
              "dtype: int8"
            ]
          },
          "metadata": {
            "tags": []
          },
          "execution_count": 54
        }
      ]
    },
    {
      "metadata": {
        "id": "4lTp1pX4v-kk",
        "colab_type": "code",
        "colab": {}
      },
      "cell_type": "code",
      "source": [
        "fill_missing = FillMissing(small_cat_vars, small_cont_vars)\n",
        "fill_missing(small_train_df)\n",
        "fill_missing(small_test_df, test=True)"
      ],
      "execution_count": 0,
      "outputs": []
    },
    {
      "metadata": {
        "id": "Lnc36v4_wPej",
        "colab_type": "code",
        "colab": {
          "base_uri": "https://localhost:8080/",
          "height": 243
        },
        "outputId": "e878a467-a9b5-4de0-b14e-06c71333b1c1"
      },
      "cell_type": "code",
      "source": [
        "doc(FillMissing)"
      ],
      "execution_count": 57,
      "outputs": [
        {
          "output_type": "display_data",
          "data": {
            "text/html": [
              "<h2 id=\"FillMissing\" class=\"doc_header\"><code>class</code> <code>FillMissing</code><a href=\"https://github.com/fastai/fastai/blob/master/fastai/tabular/transform.py#L150\" class=\"source_link\" style=\"float:right\">[source]</a><a class=\"source_link\" data-toggle=\"collapse\" data-target=\"#FillMissing-pytest\" style=\"float:right; padding-right:10px\">[test]</a></h2><blockquote><p><code>FillMissing</code>(<strong><code>cat_names</code></strong>:<code>StrList</code>, <strong><code>cont_names</code></strong>:<code>StrList</code>, <strong><code>fill_strategy</code></strong>:<a href=\"https://docs.fast.ai/tabular.transform.html#FillStrategy\"><code>FillStrategy</code></a>=<strong><em><code>&lt;FillStrategy.MEDIAN: 1&gt;</code></em></strong>, <strong><code>add_col</code></strong>:<code>bool</code>=<strong><em><code>True</code></em></strong>, <strong><code>fill_val</code></strong>:<code>float</code>=<strong><em><code>0.0</code></em></strong>) :: <a href=\"https://docs.fast.ai/tabular.transform.html#TabularProc\"><code>TabularProc</code></a></p>\n",
              "</blockquote>\n",
              "<div class=\"collapse\" id=\"FillMissing-pytest\"><div class=\"card card-body pytest_card\"><a type=\"button\" data-toggle=\"collapse\" data-target=\"#FillMissing-pytest\" class=\"close\" aria-label=\"Close\"><span aria-hidden=\"true\">&times;</span></a><p>Tests found for <code>FillMissing</code>:</p><ul><li><code>pytest -sv tests/test_tabular_transform.py::test_default_fill_strategy_is_median</code> <a href=\"https://github.com/fastai/fastai/blob/master/tests/test_tabular_transform.py#L30\" class=\"source_link\" style=\"float:right\">[source]</a></li></ul><p>To run tests please refer to this <a href=\"/dev/test.html#quick-guide\">guide</a>.</p></div></div><p>Fill the missing values in continuous columns.</p>\n",
              "<p><a href=\"https://docs.fast.ai/tabular.transform.html#FillMissing\" target=\"_blank\" rel=\"noreferrer noopener\">Show in docs</a></p>\n"
            ],
            "text/plain": [
              "<IPython.core.display.HTML object>"
            ]
          },
          "metadata": {
            "tags": []
          }
        }
      ]
    },
    {
      "metadata": {
        "id": "tbsL5b0NwRRt",
        "colab_type": "code",
        "colab": {
          "base_uri": "https://localhost:8080/",
          "height": 374
        },
        "outputId": "d74c3613-3064-4bd3-fe79-35fb06565972"
      },
      "cell_type": "code",
      "source": [
        "small_train_df.info()"
      ],
      "execution_count": 58,
      "outputs": [
        {
          "output_type": "stream",
          "text": [
            "<class 'pandas.core.frame.DataFrame'>\n",
            "Int64Index: 3000 entries, 11 to 50566\n",
            "Data columns (total 16 columns):\n",
            "PrizeType               3000 non-null category\n",
            "DrawYear                3000 non-null category\n",
            "DrawMonth               3000 non-null category\n",
            "DrawWeek                3000 non-null category\n",
            "DrawDay                 3000 non-null category\n",
            "DrawDayofweek           3000 non-null category\n",
            "DrawDayofyear           3000 non-null category\n",
            "DrawIs_month_end        3000 non-null category\n",
            "DrawIs_month_start      3000 non-null category\n",
            "DrawIs_quarter_end      3000 non-null category\n",
            "DrawIs_quarter_start    3000 non-null category\n",
            "DrawIs_year_end         3000 non-null category\n",
            "DrawIs_year_start       3000 non-null category\n",
            "DrawNo                  3000 non-null int64\n",
            "DrawElapsed             3000 non-null int64\n",
            "LuckyNo                 3000 non-null int64\n",
            "dtypes: category(13), int64(3)\n",
            "memory usage: 155.1 KB\n"
          ],
          "name": "stdout"
        }
      ]
    },
    {
      "metadata": {
        "id": "CBHTYhMCwdem",
        "colab_type": "text"
      },
      "cell_type": "markdown",
      "source": [
        "## Preparing full data set"
      ]
    },
    {
      "metadata": {
        "id": "4NdF0S1TwnLT",
        "colab_type": "code",
        "colab": {}
      },
      "cell_type": "code",
      "source": [
        "train_df = df_processed\n"
      ],
      "execution_count": 0,
      "outputs": []
    },
    {
      "metadata": {
        "id": "DwSkbsZeyfJB",
        "colab_type": "code",
        "colab": {}
      },
      "cell_type": "code",
      "source": [
        ""
      ],
      "execution_count": 0,
      "outputs": []
    }
  ]
}
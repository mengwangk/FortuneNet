{
  "nbformat": 4,
  "nbformat_minor": 0,
  "metadata": {
    "kernelspec": {
      "display_name": "Python 3",
      "language": "python",
      "name": "python3"
    },
    "language_info": {
      "codemirror_mode": {
        "name": "ipython",
        "version": 3
      },
      "file_extension": ".py",
      "mimetype": "text/x-python",
      "name": "python",
      "nbconvert_exporter": "python",
      "pygments_lexer": "ipython3",
      "version": "3.7.6"
    },
    "colab": {
      "name": "04_14_gbdt_01.ipynb",
      "provenance": []
    }
  },
  "cells": [
    {
      "cell_type": "markdown",
      "metadata": {
        "id": "I7aG9jzGoP18",
        "colab_type": "text"
      },
      "source": [
        "# Machine Learning - CatBoost"
      ]
    },
    {
      "cell_type": "code",
      "metadata": {
        "id": "zlVvNIxToP1-",
        "colab_type": "code",
        "colab": {}
      },
      "source": [
        "from IPython.core.interactiveshell import InteractiveShell\n",
        "InteractiveShell.ast_node_interactivity = \"all\"\n",
        "\n",
        "%load_ext autoreload\n",
        "%autoreload 2"
      ],
      "execution_count": 1,
      "outputs": []
    },
    {
      "cell_type": "code",
      "metadata": {
        "id": "UXQchcJCoP2E",
        "colab_type": "code",
        "colab": {}
      },
      "source": [
        "required_libs = [ (\"numpy\", \"numpy\"),\n",
        "                 (\"pandas\", \"pandas\"),\n",
        "                 (\"seaborn\", \"seaborn\"),\n",
        "                 (\"matplotlib\", \"matplotlib\"),\n",
        "                 (\"catboost\", \"catboost\"),\n",
        "                 (\"sklearn\", \"sklearn\"),\n",
        "                 (\"ipywidgets\", \"ipywidgets\"),\n",
        "                 (\"shap\", \"shap\"),\n",
        "                 (\"colorama\", \"colorama\"),\n",
        "                 (\"emoji\", \"emoji\")\n",
        "                ]"
      ],
      "execution_count": 2,
      "outputs": []
    },
    {
      "cell_type": "code",
      "metadata": {
        "id": "Uyzk4kXYoP2J",
        "colab_type": "code",
        "colab": {}
      },
      "source": [
        "def is_lib_exists(name):\n",
        "    import importlib\n",
        "    lib = importlib.util.find_spec(name)\n",
        "    return lib is not None"
      ],
      "execution_count": 3,
      "outputs": []
    },
    {
      "cell_type": "code",
      "metadata": {
        "id": "5SJ6r_j2oP2N",
        "colab_type": "code",
        "colab": {
          "base_uri": "https://localhost:8080/",
          "height": 1000
        },
        "outputId": "363ef755-91ef-4cd1-cab3-47e6e70f7ae3"
      },
      "source": [
        "for (clz,lib) in required_libs:\n",
        "    if not is_lib_exists(clz):\n",
        "        print(f\"Installing {lib}\")\n",
        "        !pip install {lib}\n",
        "    else:\n",
        "        print(f\"{lib} exists\")"
      ],
      "execution_count": 4,
      "outputs": [
        {
          "output_type": "stream",
          "text": [
            "numpy exists\n",
            "pandas exists\n",
            "seaborn exists\n",
            "matplotlib exists\n",
            "Installing catboost\n",
            "Collecting catboost\n",
            "\u001b[?25l  Downloading https://files.pythonhosted.org/packages/96/6c/6608210b29649267de52001b09e369777ee2a5cfe1c71fa75eba82a4f2dc/catboost-0.24-cp36-none-manylinux1_x86_64.whl (65.9MB)\n",
            "\u001b[K     |████████████████████████████████| 65.9MB 58kB/s \n",
            "\u001b[?25hRequirement already satisfied: graphviz in /usr/local/lib/python3.6/dist-packages (from catboost) (0.10.1)\n",
            "Requirement already satisfied: plotly in /usr/local/lib/python3.6/dist-packages (from catboost) (4.4.1)\n",
            "Requirement already satisfied: numpy>=1.16.0 in /usr/local/lib/python3.6/dist-packages (from catboost) (1.18.5)\n",
            "Requirement already satisfied: pandas>=0.24.0 in /usr/local/lib/python3.6/dist-packages (from catboost) (1.0.5)\n",
            "Requirement already satisfied: six in /usr/local/lib/python3.6/dist-packages (from catboost) (1.15.0)\n",
            "Requirement already satisfied: matplotlib in /usr/local/lib/python3.6/dist-packages (from catboost) (3.2.2)\n",
            "Requirement already satisfied: scipy in /usr/local/lib/python3.6/dist-packages (from catboost) (1.4.1)\n",
            "Requirement already satisfied: retrying>=1.3.3 in /usr/local/lib/python3.6/dist-packages (from plotly->catboost) (1.3.3)\n",
            "Requirement already satisfied: python-dateutil>=2.6.1 in /usr/local/lib/python3.6/dist-packages (from pandas>=0.24.0->catboost) (2.8.1)\n",
            "Requirement already satisfied: pytz>=2017.2 in /usr/local/lib/python3.6/dist-packages (from pandas>=0.24.0->catboost) (2018.9)\n",
            "Requirement already satisfied: kiwisolver>=1.0.1 in /usr/local/lib/python3.6/dist-packages (from matplotlib->catboost) (1.2.0)\n",
            "Requirement already satisfied: pyparsing!=2.0.4,!=2.1.2,!=2.1.6,>=2.0.1 in /usr/local/lib/python3.6/dist-packages (from matplotlib->catboost) (2.4.7)\n",
            "Requirement already satisfied: cycler>=0.10 in /usr/local/lib/python3.6/dist-packages (from matplotlib->catboost) (0.10.0)\n",
            "Installing collected packages: catboost\n",
            "Successfully installed catboost-0.24\n",
            "sklearn exists\n",
            "ipywidgets exists\n",
            "Installing shap\n",
            "Collecting shap\n",
            "\u001b[?25l  Downloading https://files.pythonhosted.org/packages/a8/77/b504e43e21a2ba543a1ac4696718beb500cfa708af2fb57cb54ce299045c/shap-0.35.0.tar.gz (273kB)\n",
            "\u001b[K     |████████████████████████████████| 276kB 2.4MB/s \n",
            "\u001b[?25hRequirement already satisfied: numpy in /usr/local/lib/python3.6/dist-packages (from shap) (1.18.5)\n",
            "Requirement already satisfied: scipy in /usr/local/lib/python3.6/dist-packages (from shap) (1.4.1)\n",
            "Requirement already satisfied: scikit-learn in /usr/local/lib/python3.6/dist-packages (from shap) (0.22.2.post1)\n",
            "Requirement already satisfied: pandas in /usr/local/lib/python3.6/dist-packages (from shap) (1.0.5)\n",
            "Requirement already satisfied: tqdm>4.25.0 in /usr/local/lib/python3.6/dist-packages (from shap) (4.41.1)\n",
            "Requirement already satisfied: joblib>=0.11 in /usr/local/lib/python3.6/dist-packages (from scikit-learn->shap) (0.16.0)\n",
            "Requirement already satisfied: python-dateutil>=2.6.1 in /usr/local/lib/python3.6/dist-packages (from pandas->shap) (2.8.1)\n",
            "Requirement already satisfied: pytz>=2017.2 in /usr/local/lib/python3.6/dist-packages (from pandas->shap) (2018.9)\n",
            "Requirement already satisfied: six>=1.5 in /usr/local/lib/python3.6/dist-packages (from python-dateutil>=2.6.1->pandas->shap) (1.15.0)\n",
            "Building wheels for collected packages: shap\n",
            "  Building wheel for shap (setup.py) ... \u001b[?25l\u001b[?25hdone\n",
            "  Created wheel for shap: filename=shap-0.35.0-cp36-cp36m-linux_x86_64.whl size=394115 sha256=44de41aeebb823032d48ff79291b0bcffe18a33a40b7eeb0487523f4bc7063c4\n",
            "  Stored in directory: /root/.cache/pip/wheels/e7/f7/0f/b57055080cf8894906b3bd3616d2fc2bfd0b12d5161bcb24ac\n",
            "Successfully built shap\n",
            "Installing collected packages: shap\n",
            "Successfully installed shap-0.35.0\n",
            "Installing colorama\n",
            "Collecting colorama\n",
            "  Downloading https://files.pythonhosted.org/packages/c9/dc/45cdef1b4d119eb96316b3117e6d5708a08029992b2fee2c143c7a0a5cc5/colorama-0.4.3-py2.py3-none-any.whl\n",
            "Installing collected packages: colorama\n",
            "Successfully installed colorama-0.4.3\n",
            "Installing emoji\n",
            "Collecting emoji\n",
            "\u001b[?25l  Downloading https://files.pythonhosted.org/packages/ff/1c/1f1457fe52d0b30cbeebfd578483cedb3e3619108d2d5a21380dfecf8ffd/emoji-0.6.0.tar.gz (51kB)\n",
            "\u001b[K     |████████████████████████████████| 51kB 1.6MB/s \n",
            "\u001b[?25hBuilding wheels for collected packages: emoji\n",
            "  Building wheel for emoji (setup.py) ... \u001b[?25l\u001b[?25hdone\n",
            "  Created wheel for emoji: filename=emoji-0.6.0-cp36-none-any.whl size=49714 sha256=8f8e910deba6afda7e3227f2d228c53c5c8644f2df331879b931beb468a085dc\n",
            "  Stored in directory: /root/.cache/pip/wheels/46/2c/8b/9dcf5216ca68e14e0320e283692dce8ae321cdc01e73e17796\n",
            "Successfully built emoji\n",
            "Installing collected packages: emoji\n",
            "Successfully installed emoji-0.6.0\n"
          ],
          "name": "stdout"
        }
      ]
    },
    {
      "cell_type": "code",
      "metadata": {
        "id": "szrXUImhH96V",
        "colab_type": "code",
        "colab": {
          "base_uri": "https://localhost:8080/",
          "height": 35
        },
        "outputId": "0090ec83-66ab-4c95-ac0e-766eeaccf4ec"
      },
      "source": [
        "from colorama import Fore\n",
        "print(Fore.RED + \"hello\")"
      ],
      "execution_count": 5,
      "outputs": [
        {
          "output_type": "stream",
          "text": [
            "\u001b[31mhello\n"
          ],
          "name": "stdout"
        }
      ]
    },
    {
      "cell_type": "code",
      "metadata": {
        "id": "hRyT0uoNoP2Q",
        "colab_type": "code",
        "colab": {}
      },
      "source": [
        "COLAB = True\n",
        "\n",
        "DATASET_NAME = '4D.zip'\n",
        "\n",
        "FEATURE_DATASET_PREFIX = 'feature_matrix_d2_v3'"
      ],
      "execution_count": 5,
      "outputs": []
    },
    {
      "cell_type": "code",
      "metadata": {
        "id": "zEbqmb8KoP2S",
        "colab_type": "code",
        "colab": {
          "base_uri": "https://localhost:8080/",
          "height": 72
        },
        "outputId": "b4d864d5-eaff-45b3-cc85-c36cfde24a67"
      },
      "source": [
        "import numpy as np\n",
        "import pandas as pd\n",
        "import seaborn as sns\n",
        "import matplotlib.pyplot as plt\n",
        "import calendar\n",
        "import traceback\n",
        "import catboost\n",
        "from pathlib import Path\n",
        "from dateutil.relativedelta import *\n",
        "from datetime import *\n",
        "from catboost import *\n",
        "from catboost import datasets\n",
        "np.set_printoptions(precision=4)"
      ],
      "execution_count": 6,
      "outputs": [
        {
          "output_type": "stream",
          "text": [
            "/usr/local/lib/python3.6/dist-packages/statsmodels/tools/_testing.py:19: FutureWarning: pandas.util.testing is deprecated. Use the functions in the public API at pandas.testing instead.\n",
            "  import pandas.util.testing as tm\n"
          ],
          "name": "stderr"
        }
      ]
    },
    {
      "cell_type": "code",
      "metadata": {
        "id": "C-7Jn85JoP2V",
        "colab_type": "code",
        "colab": {
          "base_uri": "https://localhost:8080/",
          "height": 104
        },
        "outputId": "1c61bfd2-a2d7-42ee-8bf8-80d04444fd20"
      },
      "source": [
        "%matplotlib inline\n",
        "%aimport"
      ],
      "execution_count": 7,
      "outputs": [
        {
          "output_type": "stream",
          "text": [
            "Modules to reload:\n",
            "all-except-skipped\n",
            "\n",
            "Modules to skip:\n",
            "\n"
          ],
          "name": "stdout"
        }
      ]
    },
    {
      "cell_type": "code",
      "metadata": {
        "id": "bRRyrDnzoP2a",
        "colab_type": "code",
        "colab": {}
      },
      "source": [
        "from IPython.display import display"
      ],
      "execution_count": 8,
      "outputs": []
    },
    {
      "cell_type": "code",
      "metadata": {
        "id": "WQ16s9UjoP2d",
        "colab_type": "code",
        "colab": {
          "base_uri": "https://localhost:8080/",
          "height": 52
        },
        "outputId": "265c73cc-96bc-4c88-c8fa-46ef2e5952d5"
      },
      "source": [
        "# check catboost version\n",
        "print(catboost.__version__)\n",
        "!python --version"
      ],
      "execution_count": 9,
      "outputs": [
        {
          "output_type": "stream",
          "text": [
            "0.24\n",
            "Python 3.6.9\n"
          ],
          "name": "stdout"
        }
      ]
    },
    {
      "cell_type": "code",
      "metadata": {
        "id": "yGhSyyL2pSHj",
        "colab_type": "code",
        "colab": {
          "base_uri": "https://localhost:8080/",
          "height": 676
        },
        "outputId": "54e53dd1-3b2e-4de6-fc09-51f5384ef320"
      },
      "source": [
        "# colab setup\n",
        "if COLAB:\n",
        "  !rm -rf dl-projects\n",
        "  !git clone https://github.com/mengwangk/dl-projects\n",
        "  \n",
        "  !cp dl-projects/utils* .\n",
        "  !cp dl-projects/preprocess* .\n",
        "  !cp dl-projects/plot* .\n",
        "  \n",
        "  from google.colab import drive\n",
        "  drive.mount('/content/gdrive')\n",
        "  GDRIVE_DATASET_FOLDER = Path('gdrive/My Drive/datasets/')\n",
        "  DATASET_PATH = GDRIVE_DATASET_FOLDER\n",
        "  ORIGIN_DATASET_PATH = Path('dl-projects/datasets')\n",
        "  !ls -l gdrive/\"My Drive\"/datasets/ --block-size=M\n",
        "\n",
        "DATASET = DATASET_PATH/f\"{FEATURE_DATASET_PREFIX}.ft\"\n",
        "ORIGIN_DATASET = ORIGIN_DATASET_PATH/DATASET_NAME"
      ],
      "execution_count": 10,
      "outputs": [
        {
          "output_type": "stream",
          "text": [
            "Cloning into 'dl-projects'...\n",
            "remote: Enumerating objects: 152, done.\u001b[K\n",
            "remote: Counting objects: 100% (152/152), done.\u001b[K\n",
            "remote: Compressing objects: 100% (138/138), done.\u001b[K\n",
            "remote: Total 2129 (delta 93), reused 32 (delta 14), pack-reused 1977\u001b[K\n",
            "Receiving objects: 100% (2129/2129), 79.29 MiB | 12.96 MiB/s, done.\n",
            "Resolving deltas: 100% (1318/1318), done.\n",
            "Go to this URL in a browser: https://accounts.google.com/o/oauth2/auth?client_id=947318989803-6bn6qk8qdgf4n4g3pfee6491hc0brc4i.apps.googleusercontent.com&redirect_uri=urn%3aietf%3awg%3aoauth%3a2.0%3aoob&response_type=code&scope=email%20https%3a%2f%2fwww.googleapis.com%2fauth%2fdocs.test%20https%3a%2f%2fwww.googleapis.com%2fauth%2fdrive%20https%3a%2f%2fwww.googleapis.com%2fauth%2fdrive.photos.readonly%20https%3a%2f%2fwww.googleapis.com%2fauth%2fpeopleapi.readonly\n",
            "\n",
            "Enter your authorization code:\n",
            "··········\n",
            "Mounted at /content/gdrive\n",
            "total 4948M\n",
            "-rw------- 1 root root   17M Jul  6 14:06 feature_matrix_2020_apr.ft\n",
            "-rw------- 1 root root   17M Jul  6 14:06 feature_matrix_2020_apr_orig.pkl\n",
            "-rw------- 1 root root   17M Mar  1 05:47 feature_matrix_2020_feb.ft\n",
            "-rw------- 1 root root   17M Mar  1 05:39 feature_matrix_2020_jan.ft\n",
            "-rw------- 1 root root   17M Jul  7 13:52 feature_matrix_2020_jul.ft\n",
            "-rw------- 1 root root   17M Jul  7 13:52 feature_matrix_2020_jul_orig.pkl\n",
            "-rw------- 1 root root   17M Jul  5 07:30 feature_matrix_2020_jun.ft\n",
            "-rw------- 1 root root   17M Jul  5 07:30 feature_matrix_2020_jun_orig.pkl\n",
            "-rw------- 1 root root   17M Jul  6 13:56 feature_matrix_2020_mar.ft\n",
            "-rw------- 1 root root   17M Jul  6 13:56 feature_matrix_2020_mar_orig.pkl\n",
            "-rw------- 1 root root   17M Jul  7 13:40 feature_matrix_2020_may.ft\n",
            "-rw------- 1 root root   17M Jul  7 13:40 feature_matrix_2020_may_orig.pkl\n",
            "-rw------- 1 root root 2454M Jan 12  2020 feature_matrix_d2_v2.ft\n",
            "-rw------- 1 root root 1585M Jan 12  2020 feature_matrix_d2_v3.ft\n",
            "-rw------- 1 root root   17M Feb 21 13:07 feature_matrix_snapshot.ft\n",
            "-rw------- 1 root root    1M Aug  5 13:33 labels.csv\n",
            "-rw------- 1 root root    5M Jan 30  2020 orig_X_test.ft\n",
            "-rw------- 1 root root  415M Jan 30  2020 orig_X_train.ft\n",
            "-rw------- 1 root root    1M Jan 30  2020 orig_y_test.ft\n",
            "-rw------- 1 root root    7M Jan 30  2020 orig_y_train.ft\n",
            "-rw------- 1 root root    3M Jul 30 13:48 test_X_test.ft\n",
            "-rw------- 1 root root  259M Jul 30 13:48 test_X_train.ft\n",
            "-rw------- 1 root root    1M Jul 30 13:48 test_y_test.ft\n",
            "-rw------- 1 root root    8M Jul 30 13:48 test_y_train.ft\n"
          ],
          "name": "stdout"
        }
      ]
    },
    {
      "cell_type": "markdown",
      "metadata": {
        "id": "gvnr5KFJoP2f",
        "colab_type": "text"
      },
      "source": [
        "## EDA"
      ]
    },
    {
      "cell_type": "code",
      "metadata": {
        "id": "ZV-CiR4Yrb7m",
        "colab_type": "code",
        "colab": {}
      },
      "source": [
        "from preprocess import *"
      ],
      "execution_count": 12,
      "outputs": []
    },
    {
      "cell_type": "code",
      "metadata": {
        "id": "OTuQ19LcpP0L",
        "colab_type": "code",
        "colab": {}
      },
      "source": [
        "data = pd.read_feather(DATASET)\n",
        "origin_data = format_tabular(ORIGIN_DATASET)"
      ],
      "execution_count": 13,
      "outputs": []
    },
    {
      "cell_type": "code",
      "metadata": {
        "id": "NznUjX3ppQeG",
        "colab_type": "code",
        "colab": {}
      },
      "source": [
        "jan_2020 = pd.read_feather(DATASET_PATH/f\"feature_matrix_2020_jan.ft\")\n",
        "feb_2020 = pd.read_feather(DATASET_PATH/f\"feature_matrix_2020_feb.ft\")\n",
        "mar_2020 = pd.read_feather(DATASET_PATH/f\"feature_matrix_2020_mar.ft\")\n",
        "apr_2020 = pd.read_feather(DATASET_PATH/f\"feature_matrix_2020_apr.ft\")\n",
        "may_2020 = pd.read_feather(DATASET_PATH/f\"feature_matrix_2020_may.ft\")\n",
        "jun_2020 = pd.read_feather(DATASET_PATH/f\"feature_matrix_2020_jun.ft\")\n",
        "jul_2020 = pd.read_feather(DATASET_PATH/f\"feature_matrix_2020_jul.ft\")"
      ],
      "execution_count": 14,
      "outputs": []
    },
    {
      "cell_type": "code",
      "metadata": {
        "id": "bwM_R5wMpEq9",
        "colab_type": "code",
        "colab": {}
      },
      "source": [
        "# Compare July data\n",
        "jul_2020_orig = pd.read_pickle(DATASET_PATH/f\"feature_matrix_2020_jul_orig.pkl\")"
      ],
      "execution_count": 15,
      "outputs": []
    },
    {
      "cell_type": "code",
      "metadata": {
        "id": "qpQp0v9EsZtd",
        "colab_type": "code",
        "colab": {
          "base_uri": "https://localhost:8080/",
          "height": 104
        },
        "outputId": "869dcbb6-a9f5-496d-e76b-bdd7f4b82782"
      },
      "source": [
        "# Compare July data\n",
        "jul_2020.shape, jul_2020_orig.shape\n",
        "display(jul_2020.columns.difference(jul_2020_orig.columns))\n",
        "display(jul_2020_orig.columns.difference(jul_2020.columns))"
      ],
      "execution_count": 16,
      "outputs": [
        {
          "output_type": "execute_result",
          "data": {
            "text/plain": [
              "((10000, 217), (10000, 213))"
            ]
          },
          "metadata": {
            "tags": []
          },
          "execution_count": 16
        },
        {
          "output_type": "display_data",
          "data": {
            "text/plain": [
              "Index(['LAST(Results.PrizeType)_Prize', 'MODE(Results.PrizeType)_Prize',\n",
              "       'NumberId', 'month', 'time', 'year'],\n",
              "      dtype='object')"
            ]
          },
          "metadata": {
            "tags": []
          }
        },
        {
          "output_type": "display_data",
          "data": {
            "text/plain": [
              "Index(['LAST(Results.PrizeType)', 'MODE(Results.PrizeType)'], dtype='object')"
            ]
          },
          "metadata": {
            "tags": []
          }
        }
      ]
    },
    {
      "cell_type": "code",
      "metadata": {
        "id": "x7dgo6jWxGxr",
        "colab_type": "code",
        "colab": {
          "base_uri": "https://localhost:8080/",
          "height": 1000
        },
        "outputId": "e2a53e34-7a3f-47f0-a43a-6a3be2761886"
      },
      "source": [
        "#jul_2020_orig.dtypes.head(10)\n",
        "#jul_2020_orig.shape\n",
        "#display(jul_2020_orig[\"LAST(Results.PrizeType)\"].head(300))\n",
        "# len(list(jul_2020_orig[\"LAST(Results.PrizeType)\"].values))\n",
        "jul_2020_orig.columns.tolist()"
      ],
      "execution_count": 20,
      "outputs": [
        {
          "output_type": "execute_result",
          "data": {
            "text/plain": [
              "['STD(Results.LuckyNo)',\n",
              " 'STD(Results.DrawNo)',\n",
              " 'STD(Results.TotalStrike)',\n",
              " 'MAX(Results.LuckyNo)',\n",
              " 'MAX(Results.DrawNo)',\n",
              " 'MAX(Results.TotalStrike)',\n",
              " 'MIN(Results.LuckyNo)',\n",
              " 'MIN(Results.DrawNo)',\n",
              " 'MIN(Results.TotalStrike)',\n",
              " 'MODE(Results.PrizeType)',\n",
              " 'MEAN(Results.LuckyNo)',\n",
              " 'MEAN(Results.DrawNo)',\n",
              " 'MEAN(Results.TotalStrike)',\n",
              " 'SKEW(Results.LuckyNo)',\n",
              " 'SKEW(Results.DrawNo)',\n",
              " 'SKEW(Results.TotalStrike)',\n",
              " 'LAST(Results.results_index)',\n",
              " 'LAST(Results.LuckyNo)',\n",
              " 'LAST(Results.DrawNo)',\n",
              " 'LAST(Results.PrizeType)',\n",
              " 'LAST(Results.TotalStrike)',\n",
              " 'AVG_TIME_BETWEEN(Results.DrawDate)',\n",
              " 'COUNT(Results)',\n",
              " 'SUM(Results.LuckyNo)',\n",
              " 'SUM(Results.DrawNo)',\n",
              " 'SUM(Results.TotalStrike)',\n",
              " 'TREND(Results.TotalStrike, DrawDate)',\n",
              " 'TREND(Results.DrawNo, DrawDate)',\n",
              " 'TREND(Results.LuckyNo, DrawDate)',\n",
              " 'NUM_UNIQUE(Results.PrizeType)',\n",
              " 'MONTH(first_Results_time)',\n",
              " 'DAY(first_Results_time)',\n",
              " 'TIME_SINCE(first_Results_time)',\n",
              " 'TIME_SINCE_PREVIOUS(first_Results_time)',\n",
              " 'STD(Results.CUM_MEAN(DrawNo))',\n",
              " 'STD(Results.CUM_MEAN(TotalStrike))',\n",
              " 'STD(Results.CUM_SUM(DrawNo))',\n",
              " 'STD(Results.CUM_SUM(LuckyNo))',\n",
              " 'STD(Results.CUM_MEAN(LuckyNo))',\n",
              " 'STD(Results.PERCENTILE(DrawNo))',\n",
              " 'STD(Results.PERCENTILE(LuckyNo))',\n",
              " 'STD(Results.PERCENTILE(TotalStrike))',\n",
              " 'STD(Results.TIME_SINCE(DrawDate))',\n",
              " 'STD(Results.CUM_SUM(TotalStrike))',\n",
              " 'STD(Results.TIME_SINCE_PREVIOUS(DrawDate))',\n",
              " 'MAX(Results.CUM_MEAN(DrawNo))',\n",
              " 'MAX(Results.CUM_MEAN(TotalStrike))',\n",
              " 'MAX(Results.CUM_SUM(DrawNo))',\n",
              " 'MAX(Results.CUM_SUM(LuckyNo))',\n",
              " 'MAX(Results.CUM_MEAN(LuckyNo))',\n",
              " 'MAX(Results.PERCENTILE(DrawNo))',\n",
              " 'MAX(Results.PERCENTILE(LuckyNo))',\n",
              " 'MAX(Results.PERCENTILE(TotalStrike))',\n",
              " 'MAX(Results.TIME_SINCE(DrawDate))',\n",
              " 'MAX(Results.CUM_SUM(TotalStrike))',\n",
              " 'MAX(Results.TIME_SINCE_PREVIOUS(DrawDate))',\n",
              " 'MIN(Results.CUM_MEAN(DrawNo))',\n",
              " 'MIN(Results.CUM_MEAN(TotalStrike))',\n",
              " 'MIN(Results.CUM_SUM(DrawNo))',\n",
              " 'MIN(Results.CUM_SUM(LuckyNo))',\n",
              " 'MIN(Results.CUM_MEAN(LuckyNo))',\n",
              " 'MIN(Results.PERCENTILE(DrawNo))',\n",
              " 'MIN(Results.PERCENTILE(LuckyNo))',\n",
              " 'MIN(Results.PERCENTILE(TotalStrike))',\n",
              " 'MIN(Results.TIME_SINCE(DrawDate))',\n",
              " 'MIN(Results.CUM_SUM(TotalStrike))',\n",
              " 'MIN(Results.TIME_SINCE_PREVIOUS(DrawDate))',\n",
              " 'MODE(Results.MONTH(DrawDate))',\n",
              " 'MODE(Results.DAY(DrawDate))',\n",
              " 'MEAN(Results.CUM_MEAN(DrawNo))',\n",
              " 'MEAN(Results.CUM_MEAN(TotalStrike))',\n",
              " 'MEAN(Results.CUM_SUM(DrawNo))',\n",
              " 'MEAN(Results.CUM_SUM(LuckyNo))',\n",
              " 'MEAN(Results.CUM_MEAN(LuckyNo))',\n",
              " 'MEAN(Results.PERCENTILE(DrawNo))',\n",
              " 'MEAN(Results.PERCENTILE(LuckyNo))',\n",
              " 'MEAN(Results.PERCENTILE(TotalStrike))',\n",
              " 'MEAN(Results.TIME_SINCE(DrawDate))',\n",
              " 'MEAN(Results.CUM_SUM(TotalStrike))',\n",
              " 'MEAN(Results.TIME_SINCE_PREVIOUS(DrawDate))',\n",
              " 'SKEW(Results.CUM_MEAN(DrawNo))',\n",
              " 'SKEW(Results.CUM_MEAN(TotalStrike))',\n",
              " 'SKEW(Results.CUM_SUM(DrawNo))',\n",
              " 'SKEW(Results.CUM_SUM(LuckyNo))',\n",
              " 'SKEW(Results.CUM_MEAN(LuckyNo))',\n",
              " 'SKEW(Results.PERCENTILE(DrawNo))',\n",
              " 'SKEW(Results.PERCENTILE(LuckyNo))',\n",
              " 'SKEW(Results.PERCENTILE(TotalStrike))',\n",
              " 'SKEW(Results.TIME_SINCE(DrawDate))',\n",
              " 'SKEW(Results.CUM_SUM(TotalStrike))',\n",
              " 'SKEW(Results.TIME_SINCE_PREVIOUS(DrawDate))',\n",
              " 'LAST(Results.TIME_SINCE(DrawDate))',\n",
              " 'LAST(Results.MONTH(DrawDate))',\n",
              " 'LAST(Results.CUM_MEAN(DrawNo))',\n",
              " 'LAST(Results.CUM_MEAN(TotalStrike))',\n",
              " 'LAST(Results.CUM_SUM(DrawNo))',\n",
              " 'LAST(Results.CUM_SUM(LuckyNo))',\n",
              " 'LAST(Results.CUM_MEAN(LuckyNo))',\n",
              " 'LAST(Results.PERCENTILE(LuckyNo))',\n",
              " 'LAST(Results.PERCENTILE(DrawNo))',\n",
              " 'LAST(Results.PERCENTILE(TotalStrike))',\n",
              " 'LAST(Results.CUM_SUM(TotalStrike))',\n",
              " 'LAST(Results.DAY(DrawDate))',\n",
              " 'LAST(Results.TIME_SINCE_PREVIOUS(DrawDate))',\n",
              " 'SUM(Results.CUM_MEAN(DrawNo))',\n",
              " 'SUM(Results.CUM_MEAN(TotalStrike))',\n",
              " 'SUM(Results.CUM_SUM(DrawNo))',\n",
              " 'SUM(Results.CUM_SUM(LuckyNo))',\n",
              " 'SUM(Results.CUM_MEAN(LuckyNo))',\n",
              " 'SUM(Results.PERCENTILE(DrawNo))',\n",
              " 'SUM(Results.PERCENTILE(LuckyNo))',\n",
              " 'SUM(Results.PERCENTILE(TotalStrike))',\n",
              " 'SUM(Results.TIME_SINCE(DrawDate))',\n",
              " 'SUM(Results.CUM_SUM(TotalStrike))',\n",
              " 'SUM(Results.TIME_SINCE_PREVIOUS(DrawDate))',\n",
              " 'TREND(Results.CUM_MEAN(TotalStrike), DrawDate)',\n",
              " 'TREND(Results.PERCENTILE(LuckyNo), DrawDate)',\n",
              " 'TREND(Results.PERCENTILE(TotalStrike), DrawDate)',\n",
              " 'TREND(Results.CUM_MEAN(DrawNo), DrawDate)',\n",
              " 'TREND(Results.CUM_MEAN(LuckyNo), DrawDate)',\n",
              " 'TREND(Results.PERCENTILE(DrawNo), DrawDate)',\n",
              " 'TREND(Results.TIME_SINCE(DrawDate), DrawDate)',\n",
              " 'TREND(Results.CUM_SUM(TotalStrike), DrawDate)',\n",
              " 'TREND(Results.CUM_SUM(LuckyNo), DrawDate)',\n",
              " 'TREND(Results.CUM_SUM(DrawNo), DrawDate)',\n",
              " 'TREND(Results.TIME_SINCE_PREVIOUS(DrawDate), DrawDate)',\n",
              " 'NUM_UNIQUE(Results.MONTH(DrawDate))',\n",
              " 'NUM_UNIQUE(Results.DAY(DrawDate))',\n",
              " 'CUM_SUM(SKEW(Results.DrawNo))',\n",
              " 'CUM_SUM(TREND(Results.TotalStrike, DrawDate))',\n",
              " 'CUM_SUM(MEAN(Results.LuckyNo))',\n",
              " 'CUM_SUM(MIN(Results.LuckyNo))',\n",
              " 'CUM_SUM(LAST(Results.DrawNo))',\n",
              " 'CUM_SUM(MIN(Results.DrawNo))',\n",
              " 'CUM_SUM(SUM(Results.LuckyNo))',\n",
              " 'CUM_SUM(NUM_UNIQUE(Results.PrizeType))',\n",
              " 'CUM_SUM(SUM(Results.TotalStrike))',\n",
              " 'CUM_SUM(MIN(Results.TotalStrike))',\n",
              " 'CUM_SUM(MAX(Results.LuckyNo))',\n",
              " 'CUM_SUM(STD(Results.LuckyNo))',\n",
              " 'CUM_SUM(AVG_TIME_BETWEEN(Results.DrawDate))',\n",
              " 'CUM_SUM(TREND(Results.LuckyNo, DrawDate))',\n",
              " 'CUM_SUM(STD(Results.TotalStrike))',\n",
              " 'CUM_SUM(LAST(Results.LuckyNo))',\n",
              " 'CUM_SUM(MAX(Results.TotalStrike))',\n",
              " 'CUM_SUM(MEAN(Results.DrawNo))',\n",
              " 'CUM_SUM(STD(Results.DrawNo))',\n",
              " 'CUM_SUM(COUNT(Results))',\n",
              " 'CUM_SUM(LAST(Results.TotalStrike))',\n",
              " 'CUM_SUM(MEAN(Results.TotalStrike))',\n",
              " 'CUM_SUM(SUM(Results.DrawNo))',\n",
              " 'CUM_SUM(SKEW(Results.TotalStrike))',\n",
              " 'CUM_SUM(MAX(Results.DrawNo))',\n",
              " 'CUM_SUM(TREND(Results.DrawNo, DrawDate))',\n",
              " 'CUM_SUM(SKEW(Results.LuckyNo))',\n",
              " 'CUM_MEAN(SKEW(Results.DrawNo))',\n",
              " 'CUM_MEAN(TREND(Results.TotalStrike, DrawDate))',\n",
              " 'CUM_MEAN(MEAN(Results.LuckyNo))',\n",
              " 'CUM_MEAN(MIN(Results.LuckyNo))',\n",
              " 'CUM_MEAN(LAST(Results.DrawNo))',\n",
              " 'CUM_MEAN(MIN(Results.DrawNo))',\n",
              " 'CUM_MEAN(SUM(Results.LuckyNo))',\n",
              " 'CUM_MEAN(NUM_UNIQUE(Results.PrizeType))',\n",
              " 'CUM_MEAN(SUM(Results.TotalStrike))',\n",
              " 'CUM_MEAN(MIN(Results.TotalStrike))',\n",
              " 'CUM_MEAN(MAX(Results.LuckyNo))',\n",
              " 'CUM_MEAN(STD(Results.LuckyNo))',\n",
              " 'CUM_MEAN(AVG_TIME_BETWEEN(Results.DrawDate))',\n",
              " 'CUM_MEAN(TREND(Results.LuckyNo, DrawDate))',\n",
              " 'CUM_MEAN(STD(Results.TotalStrike))',\n",
              " 'CUM_MEAN(LAST(Results.LuckyNo))',\n",
              " 'CUM_MEAN(MAX(Results.TotalStrike))',\n",
              " 'CUM_MEAN(MEAN(Results.DrawNo))',\n",
              " 'CUM_MEAN(STD(Results.DrawNo))',\n",
              " 'CUM_MEAN(COUNT(Results))',\n",
              " 'CUM_MEAN(LAST(Results.TotalStrike))',\n",
              " 'CUM_MEAN(MEAN(Results.TotalStrike))',\n",
              " 'CUM_MEAN(SUM(Results.DrawNo))',\n",
              " 'CUM_MEAN(SKEW(Results.TotalStrike))',\n",
              " 'CUM_MEAN(MAX(Results.DrawNo))',\n",
              " 'CUM_MEAN(TREND(Results.DrawNo, DrawDate))',\n",
              " 'CUM_MEAN(SKEW(Results.LuckyNo))',\n",
              " 'MONTH(LAST(Results.DrawDate))',\n",
              " 'DAY(LAST(Results.DrawDate))',\n",
              " 'PERCENTILE(SKEW(Results.DrawNo))',\n",
              " 'PERCENTILE(TREND(Results.TotalStrike, DrawDate))',\n",
              " 'PERCENTILE(MEAN(Results.LuckyNo))',\n",
              " 'PERCENTILE(MIN(Results.LuckyNo))',\n",
              " 'PERCENTILE(LAST(Results.DrawNo))',\n",
              " 'PERCENTILE(MIN(Results.DrawNo))',\n",
              " 'PERCENTILE(SUM(Results.LuckyNo))',\n",
              " 'PERCENTILE(NUM_UNIQUE(Results.PrizeType))',\n",
              " 'PERCENTILE(SUM(Results.TotalStrike))',\n",
              " 'PERCENTILE(MIN(Results.TotalStrike))',\n",
              " 'PERCENTILE(MAX(Results.LuckyNo))',\n",
              " 'PERCENTILE(STD(Results.LuckyNo))',\n",
              " 'PERCENTILE(AVG_TIME_BETWEEN(Results.DrawDate))',\n",
              " 'PERCENTILE(TREND(Results.LuckyNo, DrawDate))',\n",
              " 'PERCENTILE(STD(Results.TotalStrike))',\n",
              " 'PERCENTILE(LAST(Results.LuckyNo))',\n",
              " 'PERCENTILE(MAX(Results.TotalStrike))',\n",
              " 'PERCENTILE(MEAN(Results.DrawNo))',\n",
              " 'PERCENTILE(STD(Results.DrawNo))',\n",
              " 'PERCENTILE(COUNT(Results))',\n",
              " 'PERCENTILE(LAST(Results.TotalStrike))',\n",
              " 'PERCENTILE(MEAN(Results.TotalStrike))',\n",
              " 'PERCENTILE(SUM(Results.DrawNo))',\n",
              " 'PERCENTILE(SKEW(Results.TotalStrike))',\n",
              " 'PERCENTILE(MAX(Results.DrawNo))',\n",
              " 'PERCENTILE(TREND(Results.DrawNo, DrawDate))',\n",
              " 'PERCENTILE(SKEW(Results.LuckyNo))',\n",
              " 'TotalStrike',\n",
              " 'Label']"
            ]
          },
          "metadata": {
            "tags": []
          },
          "execution_count": 20
        }
      ]
    },
    {
      "cell_type": "code",
      "metadata": {
        "id": "Z4nQM7SkxbTM",
        "colab_type": "code",
        "colab": {}
      },
      "source": [
        ""
      ],
      "execution_count": null,
      "outputs": []
    }
  ]
}
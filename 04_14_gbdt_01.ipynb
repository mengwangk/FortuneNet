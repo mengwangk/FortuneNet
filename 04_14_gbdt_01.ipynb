{
 "cells": [
  {
   "cell_type": "markdown",
   "metadata": {},
   "source": [
    "# Machine Learning - CatBoost"
   ]
  },
  {
   "cell_type": "markdown",
   "metadata": {},
   "source": [
    "## Setup"
   ]
  },
  {
   "cell_type": "code",
   "execution_count": 9,
   "metadata": {},
   "outputs": [
    {
     "name": "stdout",
     "output_type": "stream",
     "text": [
      "The autoreload extension is already loaded. To reload it, use:\n",
      "  %reload_ext autoreload\n"
     ]
    }
   ],
   "source": [
    "from IPython.core.interactiveshell import InteractiveShell\n",
    "InteractiveShell.ast_node_interactivity = \"all\"\n",
    "\n",
    "%load_ext autoreload\n",
    "%autoreload 2"
   ]
  },
  {
   "cell_type": "code",
   "execution_count": 10,
   "metadata": {},
   "outputs": [],
   "source": [
    "required_libs = [ (\"numpy\", \"numpy\"),\n",
    "                 (\"pandas\", \"pandas\"),\n",
    "                 (\"seaborn\", \"seaborn\"),\n",
    "                 (\"matplotlib\", \"matplotlib\"),\n",
    "                 (\"catboost\", \"catboost\"),\n",
    "                 (\"sklearn\", \"sklearn\"),\n",
    "                 (\"ipywidgets\", \"ipywidgets\"),\n",
    "                 (\"shap\", \"shap\"),\n",
    "                ]"
   ]
  },
  {
   "cell_type": "code",
   "execution_count": 11,
   "metadata": {},
   "outputs": [],
   "source": [
    "def is_lib_exists(name):\n",
    "    import importlib\n",
    "    lib = importlib.util.find_spec(name)\n",
    "    return lib is not None"
   ]
  },
  {
   "cell_type": "code",
   "execution_count": 12,
   "metadata": {},
   "outputs": [
    {
     "name": "stdout",
     "output_type": "stream",
     "text": [
      "numpy exists\n",
      "pandas exists\n",
      "seaborn exists\n",
      "matplotlib exists\n",
      "catboost exists\n",
      "sklearn exists\n",
      "ipywidgets exists\n",
      "shap exists\n"
     ]
    }
   ],
   "source": [
    "for (clz,lib) in required_libs:\n",
    "    if not is_lib_exists(clz):\n",
    "        print(f\"Installing {lib}\")\n",
    "        !pip install {lib}\n",
    "    else:\n",
    "        print(f\"{lib} exists\")"
   ]
  },
  {
   "cell_type": "code",
   "execution_count": 13,
   "metadata": {},
   "outputs": [],
   "source": [
    "COLAB = True\n",
    "\n",
    "DATASET_NAME = '4D.zip'\n",
    "\n",
    "FEATURE_DATASET_PREFIX = 'feature_matrix_d2_v3'"
   ]
  },
  {
   "cell_type": "code",
   "execution_count": 14,
   "metadata": {},
   "outputs": [],
   "source": [
    "#export\n",
    "import numpy as np\n",
    "import pandas as pd\n",
    "import seaborn as sns\n",
    "import matplotlib.pyplot as plt\n",
    "import calendar\n",
    "import traceback\n",
    "import catboost\n",
    "from pathlib import Path\n",
    "from dateutil.relativedelta import *\n",
    "from datetime import *\n",
    "from catboost import *\n",
    "from catboost import datasets\n",
    "np.set_printoptions(precision=4)"
   ]
  },
  {
   "cell_type": "code",
   "execution_count": 6,
   "metadata": {},
   "outputs": [],
   "source": [
    "%matplotlib inline"
   ]
  },
  {
   "cell_type": "code",
   "execution_count": 8,
   "metadata": {},
   "outputs": [],
   "source": [
    "from IPython.display import display"
   ]
  },
  {
   "cell_type": "code",
   "execution_count": null,
   "metadata": {},
   "outputs": [],
   "source": [
    "# check catboost version\n",
    "print(catboost.__version__)\n",
    "!python --version"
   ]
  },
  {
   "cell_type": "code",
   "execution_count": null,
   "metadata": {},
   "outputs": [],
   "source": []
  }
 ],
 "metadata": {
  "kernelspec": {
   "display_name": "Python 3",
   "language": "python",
   "name": "python3"
  },
  "language_info": {
   "codemirror_mode": {
    "name": "ipython",
    "version": 3
   },
   "file_extension": ".py",
   "mimetype": "text/x-python",
   "name": "python",
   "nbconvert_exporter": "python",
   "pygments_lexer": "ipython3",
   "version": "3.7.6"
  }
 },
 "nbformat": 4,
 "nbformat_minor": 4
}

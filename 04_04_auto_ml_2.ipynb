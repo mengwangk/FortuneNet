{
  "nbformat": 4,
  "nbformat_minor": 0,
  "metadata": {
    "accelerator": "GPU",
    "colab": {
      "name": "04_02_automated_machine_learning.ipynb",
      "provenance": [],
      "toc_visible": true,
      "include_colab_link": true
    },
    "kernelspec": {
      "display_name": "Python 3",
      "language": "python",
      "name": "python3"
    },
    "language_info": {
      "codemirror_mode": {
        "name": "ipython",
        "version": 3
      },
      "file_extension": ".py",
      "mimetype": "text/x-python",
      "name": "python",
      "nbconvert_exporter": "python",
      "pygments_lexer": "ipython3",
      "version": "3.7.2"
    }
  },
  "cells": [
    {
      "cell_type": "markdown",
      "metadata": {
        "id": "view-in-github",
        "colab_type": "text"
      },
      "source": [
        "<a href=\"https://colab.research.google.com/github/mengwangk/dl-projects/blob/master/04_04_auto_ml_2.ipynb\" target=\"_parent\"><img src=\"https://colab.research.google.com/assets/colab-badge.svg\" alt=\"Open In Colab\"/></a>"
      ]
    },
    {
      "cell_type": "markdown",
      "metadata": {
        "colab_type": "text",
        "id": "4hyoPGdjpqa_"
      },
      "source": [
        "# Automated ML - Modeling"
      ]
    },
    {
      "cell_type": "code",
      "metadata": {
        "colab_type": "code",
        "id": "SLxr2k_ue8yq",
        "colab": {}
      },
      "source": [
        "COLAB = True\n",
        "\n",
        "DATASET_NAME = '4D.zip'\n",
        "\n",
        "FEATURE_DATASET_PREFIX = 'feature_matrix_d2'"
      ],
      "execution_count": 0,
      "outputs": []
    },
    {
      "cell_type": "code",
      "metadata": {
        "colab_type": "code",
        "id": "oy5ww2zRfFGG",
        "outputId": "63017f85-cda3-42b6-a150-94a174941491",
        "colab": {
          "base_uri": "https://localhost:8080/",
          "height": 136
        }
      },
      "source": [
        "if COLAB:\n",
        "  # !sudo apt-get install git-lfs && git lfs install\n",
        "  !rm -rf dl-projects\n",
        "  !git clone https://github.com/mengwangk/dl-projects\n",
        "  #!cd dl-projects && ls -l --block-size=M"
      ],
      "execution_count": 2,
      "outputs": [
        {
          "output_type": "stream",
          "text": [
            "Cloning into 'dl-projects'...\n",
            "remote: Enumerating objects: 130, done.\u001b[K\n",
            "remote: Counting objects: 100% (130/130), done.\u001b[K\n",
            "remote: Compressing objects: 100% (122/122), done.\u001b[K\n",
            "remote: Total 911 (delta 80), reused 14 (delta 8), pack-reused 781\u001b[K\n",
            "Receiving objects: 100% (911/911), 69.05 MiB | 23.81 MiB/s, done.\n",
            "Resolving deltas: 100% (528/528), done.\n"
          ],
          "name": "stdout"
        }
      ]
    },
    {
      "cell_type": "code",
      "metadata": {
        "colab_type": "code",
        "id": "G2xin10SfozR",
        "colab": {}
      },
      "source": [
        "if COLAB:\n",
        "  !cp dl-projects/utils* .\n",
        "  !cp dl-projects/preprocess* ."
      ],
      "execution_count": 0,
      "outputs": []
    },
    {
      "cell_type": "code",
      "metadata": {
        "colab_type": "code",
        "id": "fC2-l3JBpqbE",
        "colab": {}
      },
      "source": [
        "%reload_ext autoreload\n",
        "%autoreload 2\n",
        "\n",
        "%matplotlib inline"
      ],
      "execution_count": 0,
      "outputs": []
    },
    {
      "cell_type": "code",
      "metadata": {
        "colab_type": "code",
        "id": "TP7V_IzepqbK",
        "colab": {}
      },
      "source": [
        "import numpy as np\n",
        "import pandas as pd\n",
        "import seaborn as sns\n",
        "import matplotlib.pyplot as plt\n",
        "import scipy.stats as ss\n",
        "import math \n",
        "import matplotlib\n",
        "import sys\n",
        "\n",
        "from scipy import stats\n",
        "from collections import Counter\n",
        "from pathlib import Path\n",
        "\n",
        "plt.style.use('fivethirtyeight')\n",
        "\n",
        "sns.set(style=\"ticks\")\n",
        "\n",
        "# Automated feature engineering\n",
        "import featuretools as ft\n",
        "\n",
        "import warnings\n",
        "warnings.filterwarnings('ignore')\n",
        "\n",
        "# Machine learning\n",
        "from sklearn.pipeline import Pipeline\n",
        "from sklearn.preprocessing import Imputer, MinMaxScaler, StandardScaler\n",
        "from sklearn.impute import SimpleImputer\n",
        "from sklearn.metrics import precision_score, recall_score, f1_score, confusion_matrix, roc_auc_score, precision_recall_curve, roc_curve, mean_squared_error, accuracy_score, average_precision_score\n",
        "from sklearn.model_selection import train_test_split, cross_val_score\n",
        "#from sklearn.ensemble import RandomForestClassifier\n",
        "#from scikitplot.plotters import plot_precision_recall_curve\n",
        "from dateutil.relativedelta import relativedelta\n",
        "\n",
        "from IPython.display import display\n",
        "\n",
        "from utils import *\n",
        "from preprocess import *\n",
        "\n",
        "np.set_printoptions(threshold=sys.maxsize)\n",
        "\n",
        "# The Answer to the Ultimate Question of Life, the Universe, and Everything.\n",
        "np.random.seed(42)"
      ],
      "execution_count": 0,
      "outputs": []
    },
    {
      "cell_type": "code",
      "metadata": {
        "colab_type": "code",
        "id": "3bFT5CoxpqbP",
        "outputId": "759ff657-80bd-42c4-def4-8f497b9a9180",
        "colab": {
          "base_uri": "https://localhost:8080/",
          "height": 102
        }
      },
      "source": [
        "%aimport"
      ],
      "execution_count": 8,
      "outputs": [
        {
          "output_type": "stream",
          "text": [
            "Modules to reload:\n",
            "all-except-skipped\n",
            "\n",
            "Modules to skip:\n",
            "\n"
          ],
          "name": "stdout"
        }
      ]
    },
    {
      "cell_type": "markdown",
      "metadata": {
        "colab_type": "text",
        "id": "3E16jPVPpqbV"
      },
      "source": [
        "## Preparation"
      ]
    },
    {
      "cell_type": "code",
      "metadata": {
        "colab_type": "code",
        "id": "U421BuhtfYS7",
        "outputId": "2e74103f-e16f-4220-99d0-d77ee146a422",
        "colab": {
          "base_uri": "https://localhost:8080/",
          "height": 122
        }
      },
      "source": [
        "if COLAB:\n",
        "  from google.colab import drive\n",
        "  drive.mount('/content/gdrive')\n",
        "  GDRIVE_DATASET_FOLDER = Path('gdrive/My Drive/datasets/')"
      ],
      "execution_count": 9,
      "outputs": [
        {
          "output_type": "stream",
          "text": [
            "Go to this URL in a browser: https://accounts.google.com/o/oauth2/auth?client_id=947318989803-6bn6qk8qdgf4n4g3pfee6491hc0brc4i.apps.googleusercontent.com&redirect_uri=urn%3aietf%3awg%3aoauth%3a2.0%3aoob&response_type=code&scope=email%20https%3a%2f%2fwww.googleapis.com%2fauth%2fdocs.test%20https%3a%2f%2fwww.googleapis.com%2fauth%2fdrive%20https%3a%2f%2fwww.googleapis.com%2fauth%2fdrive.photos.readonly%20https%3a%2f%2fwww.googleapis.com%2fauth%2fpeopleapi.readonly\n",
            "\n",
            "Enter your authorization code:\n",
            "··········\n",
            "Mounted at /content/gdrive\n"
          ],
          "name": "stdout"
        }
      ]
    },
    {
      "cell_type": "code",
      "metadata": {
        "colab_type": "code",
        "id": "9IgnETKkpqbX",
        "outputId": "41f1ed62-8ff9-46fa-ce44-163f03746d9b",
        "colab": {
          "base_uri": "https://localhost:8080/",
          "height": 85
        }
      },
      "source": [
        "if COLAB:\n",
        "  DATASET_PATH = GDRIVE_DATASET_FOLDER\n",
        "  ORIGIN_DATASET_PATH = Path('dl-projects/datasets')\n",
        "else:\n",
        "  DATASET_PATH = Path(\"datasets\")\n",
        "  ORIGIN_DATASET_PATH = Path('datasets')\n",
        "\n",
        "DATASET = DATASET_PATH/f\"{FEATURE_DATASET_PREFIX}.pkl\"\n",
        "ORIGIN_DATASET = ORIGIN_DATASET_PATH/DATASET_NAME\n",
        "\n",
        "if COLAB:\n",
        "  !ls -l gdrive/\"My Drive\"/datasets/ --block-size=M\n",
        "  !ls -l dl-projects/datasets --block-size=M"
      ],
      "execution_count": 10,
      "outputs": [
        {
          "output_type": "stream",
          "text": [
            "total 1555M\n",
            "-rw------- 1 root root 1555M Jan  5 23:01 feature_matrix_d2.pkl\n",
            "total 1M\n",
            "-rw-r--r-- 1 root root 1M Jan  6 14:51 4D.zip\n"
          ],
          "name": "stdout"
        }
      ]
    },
    {
      "cell_type": "code",
      "metadata": {
        "colab_type": "code",
        "id": "urQTD6DQNutw",
        "colab": {}
      },
      "source": [
        "#data = pd.read_csv(DATASET, header=0, sep=',', quotechar='\"', parse_dates=['time'])\n",
        "#data = pd.read_csv(DATASET_PATH/\"feature_matrix_2.csv\", header=0, sep=',', quotechar='\"', parse_dates=['time'])\n",
        "data = pd.read_pickle(DATASET)\n",
        "origin_data = format_tabular(ORIGIN_DATASET)"
      ],
      "execution_count": 0,
      "outputs": []
    },
    {
      "cell_type": "code",
      "metadata": {
        "colab_type": "code",
        "id": "4BjrERxV8WuT",
        "outputId": "518cbdc5-9e9b-45f2-f930-020081144372",
        "colab": {
          "base_uri": "https://localhost:8080/",
          "height": 102
        }
      },
      "source": [
        "data.info()"
      ],
      "execution_count": 12,
      "outputs": [
        {
          "output_type": "stream",
          "text": [
            "<class 'pandas.core.frame.DataFrame'>\n",
            "RangeIndex: 959893 entries, 0 to 959892\n",
            "Columns: 221 entries, NumberId to year\n",
            "dtypes: datetime64[ns](1), float64(146), int64(64), uint8(10)\n",
            "memory usage: 1.5 GB\n"
          ],
          "name": "stdout"
        }
      ]
    },
    {
      "cell_type": "markdown",
      "metadata": {
        "colab_type": "text",
        "id": "vOYlp-8Br61r"
      },
      "source": [
        "## Exploratory Data Analysis"
      ]
    },
    {
      "cell_type": "code",
      "metadata": {
        "colab_type": "code",
        "id": "JnQXyVqng5Cm",
        "colab": {}
      },
      "source": [
        "feature_matrix = data"
      ],
      "execution_count": 0,
      "outputs": []
    },
    {
      "cell_type": "code",
      "metadata": {
        "colab_type": "code",
        "id": "fa1Oc3LiiCIY",
        "outputId": "9a045aad-26d7-4a01-98a4-93b08c9c2718",
        "colab": {
          "base_uri": "https://localhost:8080/",
          "height": 238
        }
      },
      "source": [
        "display(feature_matrix.columns)"
      ],
      "execution_count": 14,
      "outputs": [
        {
          "output_type": "display_data",
          "data": {
            "text/plain": [
              "Index(['NumberId', 'time', 'STD(Results.TotalStrike)', 'STD(Results.DrawNo)',\n",
              "       'STD(Results.LuckyNo)', 'MAX(Results.TotalStrike)',\n",
              "       'MAX(Results.DrawNo)', 'MAX(Results.LuckyNo)',\n",
              "       'MIN(Results.TotalStrike)', 'MIN(Results.DrawNo)',\n",
              "       ...\n",
              "       'MODE(Results.PrizeType)_3rdPrizeNo',\n",
              "       'MODE(Results.PrizeType)_Consolation',\n",
              "       'MODE(Results.PrizeType)_Special', 'LAST(Results.PrizeType)_1stPrizeNo',\n",
              "       'LAST(Results.PrizeType)_2ndPrizeNo',\n",
              "       'LAST(Results.PrizeType)_3rdPrizeNo',\n",
              "       'LAST(Results.PrizeType)_Consolation',\n",
              "       'LAST(Results.PrizeType)_Special', 'month', 'year'],\n",
              "      dtype='object', length=221)"
            ]
          },
          "metadata": {
            "tags": []
          }
        }
      ]
    },
    {
      "cell_type": "code",
      "metadata": {
        "colab_type": "code",
        "id": "NwxxOED04A8X",
        "outputId": "b422769a-6746-43f0-b8e9-22b9e8b2ccde",
        "colab": {
          "base_uri": "https://localhost:8080/",
          "height": 419
        }
      },
      "source": [
        "display(feature_matrix.head(4).T)"
      ],
      "execution_count": 15,
      "outputs": [
        {
          "output_type": "display_data",
          "data": {
            "text/html": [
              "<div>\n",
              "<style scoped>\n",
              "    .dataframe tbody tr th:only-of-type {\n",
              "        vertical-align: middle;\n",
              "    }\n",
              "\n",
              "    .dataframe tbody tr th {\n",
              "        vertical-align: top;\n",
              "    }\n",
              "\n",
              "    .dataframe thead th {\n",
              "        text-align: right;\n",
              "    }\n",
              "</style>\n",
              "<table border=\"1\" class=\"dataframe\">\n",
              "  <thead>\n",
              "    <tr style=\"text-align: right;\">\n",
              "      <th></th>\n",
              "      <th>0</th>\n",
              "      <th>1</th>\n",
              "      <th>2</th>\n",
              "      <th>3</th>\n",
              "    </tr>\n",
              "  </thead>\n",
              "  <tbody>\n",
              "    <tr>\n",
              "      <th>NumberId</th>\n",
              "      <td>72</td>\n",
              "      <td>98</td>\n",
              "      <td>121</td>\n",
              "      <td>166</td>\n",
              "    </tr>\n",
              "    <tr>\n",
              "      <th>time</th>\n",
              "      <td>2012-01-01 00:00:00</td>\n",
              "      <td>2012-01-01 00:00:00</td>\n",
              "      <td>2012-01-01 00:00:00</td>\n",
              "      <td>2012-01-01 00:00:00</td>\n",
              "    </tr>\n",
              "    <tr>\n",
              "      <th>STD(Results.TotalStrike)</th>\n",
              "      <td>0</td>\n",
              "      <td>0</td>\n",
              "      <td>0</td>\n",
              "      <td>0</td>\n",
              "    </tr>\n",
              "    <tr>\n",
              "      <th>STD(Results.DrawNo)</th>\n",
              "      <td>75380.4</td>\n",
              "      <td>111281</td>\n",
              "      <td>60627.5</td>\n",
              "      <td>104465</td>\n",
              "    </tr>\n",
              "    <tr>\n",
              "      <th>STD(Results.LuckyNo)</th>\n",
              "      <td>0</td>\n",
              "      <td>0</td>\n",
              "      <td>0</td>\n",
              "      <td>0</td>\n",
              "    </tr>\n",
              "    <tr>\n",
              "      <th>...</th>\n",
              "      <td>...</td>\n",
              "      <td>...</td>\n",
              "      <td>...</td>\n",
              "      <td>...</td>\n",
              "    </tr>\n",
              "    <tr>\n",
              "      <th>LAST(Results.PrizeType)_3rdPrizeNo</th>\n",
              "      <td>0</td>\n",
              "      <td>0</td>\n",
              "      <td>0</td>\n",
              "      <td>0</td>\n",
              "    </tr>\n",
              "    <tr>\n",
              "      <th>LAST(Results.PrizeType)_Consolation</th>\n",
              "      <td>1</td>\n",
              "      <td>1</td>\n",
              "      <td>1</td>\n",
              "      <td>0</td>\n",
              "    </tr>\n",
              "    <tr>\n",
              "      <th>LAST(Results.PrizeType)_Special</th>\n",
              "      <td>0</td>\n",
              "      <td>0</td>\n",
              "      <td>0</td>\n",
              "      <td>1</td>\n",
              "    </tr>\n",
              "    <tr>\n",
              "      <th>month</th>\n",
              "      <td>1</td>\n",
              "      <td>1</td>\n",
              "      <td>1</td>\n",
              "      <td>1</td>\n",
              "    </tr>\n",
              "    <tr>\n",
              "      <th>year</th>\n",
              "      <td>2012</td>\n",
              "      <td>2012</td>\n",
              "      <td>2012</td>\n",
              "      <td>2012</td>\n",
              "    </tr>\n",
              "  </tbody>\n",
              "</table>\n",
              "<p>221 rows × 4 columns</p>\n",
              "</div>"
            ],
            "text/plain": [
              "                                                       0  ...                    3\n",
              "NumberId                                              72  ...                  166\n",
              "time                                 2012-01-01 00:00:00  ...  2012-01-01 00:00:00\n",
              "STD(Results.TotalStrike)                               0  ...                    0\n",
              "STD(Results.DrawNo)                              75380.4  ...               104465\n",
              "STD(Results.LuckyNo)                                   0  ...                    0\n",
              "...                                                  ...  ...                  ...\n",
              "LAST(Results.PrizeType)_3rdPrizeNo                     0  ...                    0\n",
              "LAST(Results.PrizeType)_Consolation                    1  ...                    0\n",
              "LAST(Results.PrizeType)_Special                        0  ...                    1\n",
              "month                                                  1  ...                    1\n",
              "year                                                2012  ...                 2012\n",
              "\n",
              "[221 rows x 4 columns]"
            ]
          },
          "metadata": {
            "tags": []
          }
        }
      ]
    },
    {
      "cell_type": "code",
      "metadata": {
        "colab_type": "code",
        "id": "YvRCAb4e5AYH",
        "outputId": "b7edc4fc-d595-4e85-b05a-5cb939192fe8",
        "colab": {
          "base_uri": "https://localhost:8080/",
          "height": 359
        }
      },
      "source": [
        "origin_data[origin_data['LuckyNo']==911].head(10)"
      ],
      "execution_count": 16,
      "outputs": [
        {
          "output_type": "execute_result",
          "data": {
            "text/html": [
              "<div>\n",
              "<style scoped>\n",
              "    .dataframe tbody tr th:only-of-type {\n",
              "        vertical-align: middle;\n",
              "    }\n",
              "\n",
              "    .dataframe tbody tr th {\n",
              "        vertical-align: top;\n",
              "    }\n",
              "\n",
              "    .dataframe thead th {\n",
              "        text-align: right;\n",
              "    }\n",
              "</style>\n",
              "<table border=\"1\" class=\"dataframe\">\n",
              "  <thead>\n",
              "    <tr style=\"text-align: right;\">\n",
              "      <th></th>\n",
              "      <th>DrawNo</th>\n",
              "      <th>DrawDate</th>\n",
              "      <th>PrizeType</th>\n",
              "      <th>LuckyNo</th>\n",
              "    </tr>\n",
              "  </thead>\n",
              "  <tbody>\n",
              "    <tr>\n",
              "      <th>10287</th>\n",
              "      <td>85495</td>\n",
              "      <td>1995-03-12</td>\n",
              "      <td>ConsolationNo3</td>\n",
              "      <td>911</td>\n",
              "    </tr>\n",
              "    <tr>\n",
              "      <th>13607</th>\n",
              "      <td>99896</td>\n",
              "      <td>1996-02-11</td>\n",
              "      <td>SpecialNo10</td>\n",
              "      <td>911</td>\n",
              "    </tr>\n",
              "    <tr>\n",
              "      <th>26564</th>\n",
              "      <td>156199</td>\n",
              "      <td>1999-08-29</td>\n",
              "      <td>SpecialNo9</td>\n",
              "      <td>911</td>\n",
              "    </tr>\n",
              "    <tr>\n",
              "      <th>30160</th>\n",
              "      <td>171800</td>\n",
              "      <td>2000-08-16</td>\n",
              "      <td>ConsolationNo4</td>\n",
              "      <td>911</td>\n",
              "    </tr>\n",
              "    <tr>\n",
              "      <th>65817</th>\n",
              "      <td>326909</td>\n",
              "      <td>2009-12-05</td>\n",
              "      <td>SpecialNo10</td>\n",
              "      <td>911</td>\n",
              "    </tr>\n",
              "    <tr>\n",
              "      <th>89716</th>\n",
              "      <td>430815</td>\n",
              "      <td>2015-10-07</td>\n",
              "      <td>SpecialNo3</td>\n",
              "      <td>911</td>\n",
              "    </tr>\n",
              "    <tr>\n",
              "      <th>96458</th>\n",
              "      <td>460117</td>\n",
              "      <td>2017-05-27</td>\n",
              "      <td>SpecialNo6</td>\n",
              "      <td>911</td>\n",
              "    </tr>\n",
              "    <tr>\n",
              "      <th>102733</th>\n",
              "      <td>487418</td>\n",
              "      <td>2018-12-08</td>\n",
              "      <td>SpecialNo2</td>\n",
              "      <td>911</td>\n",
              "    </tr>\n",
              "    <tr>\n",
              "      <th>104575</th>\n",
              "      <td>495419</td>\n",
              "      <td>2019-06-01</td>\n",
              "      <td>SpecialNo4</td>\n",
              "      <td>911</td>\n",
              "    </tr>\n",
              "    <tr>\n",
              "      <th>104910</th>\n",
              "      <td>496919</td>\n",
              "      <td>2019-07-03</td>\n",
              "      <td>ConsolationNo4</td>\n",
              "      <td>911</td>\n",
              "    </tr>\n",
              "  </tbody>\n",
              "</table>\n",
              "</div>"
            ],
            "text/plain": [
              "        DrawNo   DrawDate       PrizeType  LuckyNo\n",
              "10287    85495 1995-03-12  ConsolationNo3      911\n",
              "13607    99896 1996-02-11     SpecialNo10      911\n",
              "26564   156199 1999-08-29      SpecialNo9      911\n",
              "30160   171800 2000-08-16  ConsolationNo4      911\n",
              "65817   326909 2009-12-05     SpecialNo10      911\n",
              "89716   430815 2015-10-07      SpecialNo3      911\n",
              "96458   460117 2017-05-27      SpecialNo6      911\n",
              "102733  487418 2018-12-08      SpecialNo2      911\n",
              "104575  495419 2019-06-01      SpecialNo4      911\n",
              "104910  496919 2019-07-03  ConsolationNo4      911"
            ]
          },
          "metadata": {
            "tags": []
          },
          "execution_count": 16
        }
      ]
    },
    {
      "cell_type": "code",
      "metadata": {
        "colab_type": "code",
        "id": "DNNrR3LvKOk1",
        "colab": {}
      },
      "source": [
        "# feature_matrix.groupby('time')['COUNT(Results)'].mean().plot()\n",
        "# plt.title('Average Monthly Count of Results')\n",
        "# plt.ylabel('Strike Per Number')"
      ],
      "execution_count": 0,
      "outputs": []
    },
    {
      "cell_type": "markdown",
      "metadata": {
        "colab_type": "text",
        "id": "5G5SHX0qFVRa"
      },
      "source": [
        "## Feature Selection"
      ]
    },
    {
      "cell_type": "code",
      "metadata": {
        "colab_type": "code",
        "id": "m-rXOEmJFVCl",
        "outputId": "187473b0-5a52-459d-f4b2-86b29a62e03a",
        "colab": {
          "base_uri": "https://localhost:8080/",
          "height": 51
        }
      },
      "source": [
        "from utils import feature_selection\n",
        "\n",
        "%load_ext autoreload\n",
        "%autoreload 2"
      ],
      "execution_count": 18,
      "outputs": [
        {
          "output_type": "stream",
          "text": [
            "The autoreload extension is already loaded. To reload it, use:\n",
            "  %reload_ext autoreload\n"
          ],
          "name": "stdout"
        }
      ]
    },
    {
      "cell_type": "code",
      "metadata": {
        "colab_type": "code",
        "id": "C_1ACaOMFUp_",
        "outputId": "5c20194e-455d-4e60-be71-58311c8d3aff",
        "colab": {
          "base_uri": "https://localhost:8080/",
          "height": 119
        }
      },
      "source": [
        "feature_matrix_selection = feature_selection(feature_matrix.drop(columns = ['time', 'NumberId']))"
      ],
      "execution_count": 0,
      "outputs": [
        {
          "output_type": "stream",
          "text": [
            "Original shape:  (959893, 219)\n",
            "0 missing columns with threshold: 90.\n",
            "42 zero variance columns.\n",
            "117 collinear columns removed with threshold: 0.95.\n",
            "Total columns removed:  159\n",
            "Shape after feature selection: (959893, 60).\n"
          ],
          "name": "stdout"
        }
      ]
    },
    {
      "cell_type": "code",
      "metadata": {
        "colab_type": "code",
        "id": "5WC-SEf3F0m4",
        "colab": {}
      },
      "source": [
        "feature_matrix_selection['time'] = feature_matrix['time']\n",
        "feature_matrix_selection['NumberId'] = feature_matrix['NumberId']\n",
        "feature_matrix_selection['Label'] = feature_matrix['Label']"
      ],
      "execution_count": 0,
      "outputs": []
    },
    {
      "cell_type": "code",
      "metadata": {
        "colab_type": "code",
        "id": "Jnj8dp5bGRdk",
        "outputId": "af28b5c2-2ba2-4736-bf08-6cba1272bd72",
        "colab": {
          "base_uri": "https://localhost:8080/",
          "height": 731
        }
      },
      "source": [
        "len(feature_matrix_selection.columns), feature_matrix_selection.columns"
      ],
      "execution_count": 0,
      "outputs": [
        {
          "output_type": "execute_result",
          "data": {
            "text/plain": [
              "(63,\n",
              " Index(['STD(Results.DrawNo)', 'MAX(Results.DrawNo)', 'MAX(Results.LuckyNo)',\n",
              "        'MIN(Results.DrawNo)', 'MEAN(Results.DrawNo)', 'SKEW(Results.DrawNo)',\n",
              "        'AVG_TIME_BETWEEN(Results.DrawDate)', 'COUNT(Results)',\n",
              "        'SUM(Results.DrawNo)', 'SUM(Results.LuckyNo)',\n",
              "        'TREND(Results.DrawNo, DrawDate)', 'NUM_UNIQUE(Results.PrizeType)',\n",
              "        'DAY(first_Results_time)', 'MONTH(first_Results_time)',\n",
              "        'TIME_SINCE(first_Results_time)', 'STD(Results.CUM_SUM(DrawNo))',\n",
              "        'STD(Results.PERCENTILE(DrawNo))', 'STD(Results.CUM_MEAN(LuckyNo))',\n",
              "        'MAX(Results.PERCENTILE(DrawNo))', 'MAX(Results.CUM_MEAN(LuckyNo))',\n",
              "        'MAX(Results.PERCENTILE(TotalStrike))',\n",
              "        'MIN(Results.CUM_MEAN(LuckyNo))', 'MODE(Results.DAY(DrawDate))',\n",
              "        'MODE(Results.MONTH(DrawDate))', 'MEAN(Results.TIME_SINCE(DrawDate))',\n",
              "        'MEAN(Results.PERCENTILE(DrawNo))', 'MEAN(Results.CUM_MEAN(LuckyNo))',\n",
              "        'SKEW(Results.CUM_SUM(DrawNo))', 'SKEW(Results.CUM_MEAN(LuckyNo))',\n",
              "        'LAST(Results.MONTH(DrawDate))', 'LAST(Results.DAY(DrawDate))',\n",
              "        'LAST(Results.CUM_MEAN(LuckyNo))', 'SUM(Results.TIME_SINCE(DrawDate))',\n",
              "        'TREND(Results.CUM_MEAN(LuckyNo), DrawDate)',\n",
              "        'TREND(Results.PERCENTILE(TotalStrike), DrawDate)',\n",
              "        'TREND(Results.PERCENTILE(LuckyNo), DrawDate)',\n",
              "        'TREND(Results.TIME_SINCE(DrawDate), DrawDate)',\n",
              "        'NUM_UNIQUE(Results.DAY(DrawDate))',\n",
              "        'NUM_UNIQUE(Results.MONTH(DrawDate))',\n",
              "        'CUM_SUM(LAST(Results.TotalStrike))', 'CUM_SUM(SKEW(Results.DrawNo))',\n",
              "        'CUM_MEAN(AVG_TIME_BETWEEN(Results.DrawDate))',\n",
              "        'CUM_MEAN(SKEW(Results.DrawNo))',\n",
              "        'PERCENTILE(LAST(Results.TotalStrike))',\n",
              "        'PERCENTILE(SUM(Results.DrawNo))', 'PERCENTILE(MAX(Results.DrawNo))',\n",
              "        'PERCENTILE(COUNT(Results))',\n",
              "        'PERCENTILE(TREND(Results.DrawNo, DrawDate))',\n",
              "        'PERCENTILE(AVG_TIME_BETWEEN(Results.DrawDate))', 'TotalStrike',\n",
              "        'MODE(Results.PrizeType)_1stPrizeNo',\n",
              "        'MODE(Results.PrizeType)_2ndPrizeNo',\n",
              "        'MODE(Results.PrizeType)_3rdPrizeNo',\n",
              "        'MODE(Results.PrizeType)_Consolation',\n",
              "        'LAST(Results.PrizeType)_1stPrizeNo',\n",
              "        'LAST(Results.PrizeType)_2ndPrizeNo',\n",
              "        'LAST(Results.PrizeType)_3rdPrizeNo',\n",
              "        'LAST(Results.PrizeType)_Consolation',\n",
              "        'LAST(Results.PrizeType)_Special', 'month', 'time', 'NumberId',\n",
              "        'Label'],\n",
              "       dtype='object'))"
            ]
          },
          "metadata": {
            "tags": []
          },
          "execution_count": 19
        }
      ]
    },
    {
      "cell_type": "markdown",
      "metadata": {
        "colab_type": "text",
        "id": "vt0maK--K2cQ"
      },
      "source": [
        "## Correlations"
      ]
    },
    {
      "cell_type": "code",
      "metadata": {
        "id": "HT0W-YE0WURJ",
        "colab_type": "code",
        "colab": {}
      },
      "source": [
        "feature_matrix_selection = feature_matrix"
      ],
      "execution_count": 0,
      "outputs": []
    },
    {
      "cell_type": "code",
      "metadata": {
        "colab_type": "code",
        "id": "_3TLGrLhK-va",
        "outputId": "356ff9c2-6a0d-47c3-d662-254b4ee3967a",
        "colab": {
          "base_uri": "https://localhost:8080/",
          "height": 34
        }
      },
      "source": [
        "feature_matrix_selection.shape"
      ],
      "execution_count": 20,
      "outputs": [
        {
          "output_type": "execute_result",
          "data": {
            "text/plain": [
              "(959893, 221)"
            ]
          },
          "metadata": {
            "tags": []
          },
          "execution_count": 20
        }
      ]
    },
    {
      "cell_type": "code",
      "metadata": {
        "colab_type": "code",
        "id": "bKud_Z0yK-77",
        "outputId": "cc084e39-9a33-4741-ddc4-32d8b08feb7a",
        "colab": {
          "base_uri": "https://localhost:8080/",
          "height": 119
        }
      },
      "source": [
        "corrs = feature_matrix_selection.corr().sort_values('TotalStrike')\n",
        "corrs['TotalStrike'].head()"
      ],
      "execution_count": 21,
      "outputs": [
        {
          "output_type": "execute_result",
          "data": {
            "text/plain": [
              "CUM_MEAN(SUM(Results.LuckyNo))            -0.003148\n",
              "CUM_MEAN(NUM_UNIQUE(Results.PrizeType))   -0.002917\n",
              "TIME_SINCE(first_Results_time)            -0.002875\n",
              "MAX(Results.TIME_SINCE(DrawDate))         -0.002875\n",
              "CUM_MEAN(STD(Results.DrawNo))             -0.002662\n",
              "Name: TotalStrike, dtype: float64"
            ]
          },
          "metadata": {
            "tags": []
          },
          "execution_count": 21
        }
      ]
    },
    {
      "cell_type": "code",
      "metadata": {
        "colab_type": "code",
        "id": "fU43s9BtK_IZ",
        "outputId": "f2197130-df15-4177-8e00-7a56eaec5c1c",
        "colab": {
          "base_uri": "https://localhost:8080/",
          "height": 289
        }
      },
      "source": [
        "corrs['Label'].dropna().tail(15)"
      ],
      "execution_count": 23,
      "outputs": [
        {
          "output_type": "execute_result",
          "data": {
            "text/plain": [
              "PERCENTILE(TREND(Results.LuckyNo, DrawDate))        0.002011\n",
              "PERCENTILE(SKEW(Results.TotalStrike))               0.002011\n",
              "PERCENTILE(SKEW(Results.LuckyNo))                   0.002011\n",
              "PERCENTILE(TREND(Results.TotalStrike, DrawDate))    0.002011\n",
              "CUM_MEAN(MIN(Results.DrawNo))                       0.001819\n",
              "CUM_SUM(MIN(Results.DrawNo))                        0.001852\n",
              "MIN(Results.PERCENTILE(DrawNo))                     0.001972\n",
              "MAX(Results.PERCENTILE(TotalStrike))                0.002320\n",
              "MIN(Results.PERCENTILE(TotalStrike))                0.002320\n",
              "LAST(Results.PERCENTILE(TotalStrike))               0.002320\n",
              "MEAN(Results.PERCENTILE(TotalStrike))               0.002320\n",
              "STD(Results.CUM_MEAN(LuckyNo))                      0.002349\n",
              "TREND(Results.PERCENTILE(DrawNo), DrawDate)         0.002548\n",
              "Label                                               1.000000\n",
              "TotalStrike                                         0.991808\n",
              "Name: Label, dtype: float64"
            ]
          },
          "metadata": {
            "tags": []
          },
          "execution_count": 23
        }
      ]
    },
    {
      "cell_type": "code",
      "metadata": {
        "colab_type": "code",
        "id": "l6nY6TTrBb3l",
        "outputId": "3ced5587-b982-422b-a33c-68325b656875",
        "colab": {
          "base_uri": "https://localhost:8080/",
          "height": 170
        }
      },
      "source": [
        "corrs['TotalStrike'].dropna().tail(8)"
      ],
      "execution_count": 24,
      "outputs": [
        {
          "output_type": "execute_result",
          "data": {
            "text/plain": [
              "MAX(Results.PERCENTILE(TotalStrike))           0.002124\n",
              "MIN(Results.PERCENTILE(TotalStrike))           0.002124\n",
              "LAST(Results.PERCENTILE(TotalStrike))          0.002124\n",
              "MEAN(Results.PERCENTILE(TotalStrike))          0.002124\n",
              "STD(Results.CUM_MEAN(LuckyNo))                 0.002318\n",
              "TREND(Results.PERCENTILE(DrawNo), DrawDate)    0.002381\n",
              "Label                                          0.991808\n",
              "TotalStrike                                    1.000000\n",
              "Name: TotalStrike, dtype: float64"
            ]
          },
          "metadata": {
            "tags": []
          },
          "execution_count": 24
        }
      ]
    },
    {
      "cell_type": "markdown",
      "metadata": {
        "colab_type": "text",
        "id": "9kCNyWm1BgxF"
      },
      "source": [
        "## Visualization"
      ]
    },
    {
      "cell_type": "code",
      "metadata": {
        "colab_type": "code",
        "id": "GibUAbe5Byp0",
        "colab": {}
      },
      "source": [
        "#pip install autoviz"
      ],
      "execution_count": 0,
      "outputs": []
    },
    {
      "cell_type": "code",
      "metadata": {
        "colab_type": "code",
        "id": "5FL2-Eb1Bm9p",
        "colab": {}
      },
      "source": [
        "#from autoviz.AutoViz_Class import AutoViz_Class"
      ],
      "execution_count": 0,
      "outputs": []
    },
    {
      "cell_type": "markdown",
      "metadata": {
        "colab_type": "text",
        "id": "hTJQWmXAsCVo"
      },
      "source": [
        "### XgBoost"
      ]
    },
    {
      "cell_type": "code",
      "metadata": {
        "colab_type": "code",
        "id": "lrgkK2hyARmn",
        "colab": {}
      },
      "source": [
        "import xgboost as xgb"
      ],
      "execution_count": 0,
      "outputs": []
    },
    {
      "cell_type": "code",
      "metadata": {
        "colab_type": "code",
        "id": "JuiMZl9rsMk1",
        "colab": {}
      },
      "source": [
        "# https://xgboost.readthedocs.io/en/latest/parameter.html\n",
        "model = xgb.XGBClassifier()"
      ],
      "execution_count": 0,
      "outputs": []
    },
    {
      "cell_type": "code",
      "metadata": {
        "colab_type": "code",
        "id": "DtkZVlf1sOq2",
        "colab": {}
      },
      "source": [
        "def predict_dt(dt, feature_matrix, return_probs = False):\n",
        "\n",
        "    feature_matrix['date'] = feature_matrix['time']\n",
        "\n",
        "    # Subset labels\n",
        "    test_labels = feature_matrix.loc[feature_matrix['date'] == dt, 'Label']\n",
        "    train_labels = feature_matrix.loc[feature_matrix['date'] < dt, 'Label']\n",
        "\n",
        "    print(f\"Size of test labels {len(test_labels)}\")\n",
        "    print(f\"Size of train labels {len(train_labels)}\")\n",
        "    \n",
        "    # Features\n",
        "    X_train = feature_matrix[feature_matrix['date'] < dt].drop(columns = ['NumberId', 'time',\n",
        "                                                                                     'date', 'Label', 'TotalStrike', 'month', 'year', 'index'], errors='ignore')\n",
        "    X_test = feature_matrix[feature_matrix['date'] == dt].drop(columns = ['NumberId', 'time',\n",
        "                                                                                     'date', 'Label', 'TotalStrike', 'month', 'year', 'index'], errors='ignore')\n",
        "    print(f\"Size of X train {len(X_train)}\")\n",
        "    print(f\"Size of X test  {len(X_test)}\")\n",
        "   \n",
        "    feature_names = list(X_train.columns)\n",
        "    \n",
        "    # Impute and scale features\n",
        "    pipeline = Pipeline([('imputer', SimpleImputer(strategy = 'median')), \n",
        "                      ('scaler', MinMaxScaler())])\n",
        "\n",
        "    # Fit and transform training data\n",
        "    X_train = pipeline.fit_transform(X_train)\n",
        "    X_test = pipeline.transform(X_test)\n",
        "    \n",
        "    # Labels\n",
        "    y_train = np.array(train_labels).reshape((-1, ))\n",
        "    y_test = np.array(test_labels).reshape((-1, ))\n",
        "    \n",
        "    print('Training on {} observations.'.format(len(X_train)))\n",
        "    print('Testing on {} observations.\\n'.format(len(X_test)))\n",
        "    \n",
        "    # Train \n",
        "    model.fit(X_train, y_train)\n",
        "    \n",
        "    # Make predictions\n",
        "    predictions = model.predict(X_test)\n",
        "    probs = model.predict_proba(X_test)[:, 1]\n",
        "    \n",
        "    # Total positive\n",
        "    positive = np.where((predictions==1))\n",
        "    print('Total predicted to be positive: ', len(positive[0]))\n",
        "  \n",
        "    # Calculate metrics\n",
        "    p_score = precision_score(y_test, predictions)\n",
        "    r_score = recall_score(y_test, predictions)\n",
        "    f_score = f1_score(y_test, predictions)\n",
        "    auc_score = roc_auc_score(y_test, probs)\n",
        "    a_score = accuracy_score(y_test, predictions)\n",
        "    avg_p_score = average_precision_score(y_test, predictions)\n",
        "    cm = confusion_matrix(y_test, predictions)\n",
        "    \n",
        "    print(f'Precision: {round(p_score, 5)}')\n",
        "    print(f'Recall: {round(r_score, 5)}')\n",
        "    print(f'F1 Score: {round(f_score, 5)}')\n",
        "    print(f'ROC AUC: {round(auc_score, 5)}')\n",
        "    print(f'Accuracy: {round(a_score, 5)}')\n",
        "    print(f'Average precision: {round(avg_p_score, 5)}')\n",
        "    \n",
        "    print('Confusion matrix')\n",
        "    print(cm)\n",
        "\n",
        "    # Total predicted matches\n",
        "    print('Predicted matches')\n",
        "    # print(predictions)\n",
        "    m = np.where((predictions==1))\n",
        "    print(len(m[0]), m)\n",
        "\n",
        "    if len(positive[0]) > 0:\n",
        "      # Matching draws\n",
        "      print('Matched draws')\n",
        "      m = np.where((predictions==1) & (y_test==1))\n",
        "      print(len(m[0]), m)\n",
        "      month_data = feature_matrix.loc[feature_matrix['date'] == dt]\n",
        "      numbers = month_data.iloc[m[0]][['NumberId']]\n",
        "      #print(numbers)\n",
        "      display(origin_data[(origin_data['DrawDate'].dt.year == dt.year) & \n",
        "                          (origin_data['DrawDate'].dt.month == dt.month) & \n",
        "                          (origin_data['LuckyNo'].isin(numbers.NumberId))].head(len(positive[0])))                                                   \n",
        "    else:\n",
        "      print('No luck this month')                 \n",
        "\n",
        "    # Feature importances\n",
        "    fi = pd.DataFrame({'feature': feature_names, 'importance': model.feature_importances_})\n",
        "    \n",
        "    if return_probs:\n",
        "        return fi, probs\n",
        "    \n",
        "    return fi\n",
        "    "
      ],
      "execution_count": 0,
      "outputs": []
    },
    {
      "cell_type": "code",
      "metadata": {
        "colab_type": "code",
        "id": "SwajXEsyuJOw",
        "outputId": "480c91f3-8c74-4c82-a26c-414ce052bf5f",
        "colab": {
          "base_uri": "https://localhost:8080/",
          "height": 850
        }
      },
      "source": [
        "# All the months\n",
        "len(feature_matrix_selection['time'].unique()), feature_matrix_selection['time'].unique()"
      ],
      "execution_count": 28,
      "outputs": [
        {
          "output_type": "execute_result",
          "data": {
            "text/plain": [
              "(96, array(['2012-01-01T00:00:00.000000000', '2012-02-01T00:00:00.000000000',\n",
              "        '2012-03-01T00:00:00.000000000', '2012-04-01T00:00:00.000000000',\n",
              "        '2012-05-01T00:00:00.000000000', '2012-06-01T00:00:00.000000000',\n",
              "        '2012-07-01T00:00:00.000000000', '2012-08-01T00:00:00.000000000',\n",
              "        '2012-09-01T00:00:00.000000000', '2012-10-01T00:00:00.000000000',\n",
              "        '2012-11-01T00:00:00.000000000', '2012-12-01T00:00:00.000000000',\n",
              "        '2013-01-01T00:00:00.000000000', '2013-02-01T00:00:00.000000000',\n",
              "        '2013-03-01T00:00:00.000000000', '2013-04-01T00:00:00.000000000',\n",
              "        '2013-05-01T00:00:00.000000000', '2013-06-01T00:00:00.000000000',\n",
              "        '2013-07-01T00:00:00.000000000', '2013-08-01T00:00:00.000000000',\n",
              "        '2013-09-01T00:00:00.000000000', '2013-10-01T00:00:00.000000000',\n",
              "        '2013-11-01T00:00:00.000000000', '2013-12-01T00:00:00.000000000',\n",
              "        '2014-01-01T00:00:00.000000000', '2014-02-01T00:00:00.000000000',\n",
              "        '2014-03-01T00:00:00.000000000', '2014-04-01T00:00:00.000000000',\n",
              "        '2014-05-01T00:00:00.000000000', '2014-06-01T00:00:00.000000000',\n",
              "        '2014-07-01T00:00:00.000000000', '2014-08-01T00:00:00.000000000',\n",
              "        '2014-09-01T00:00:00.000000000', '2014-10-01T00:00:00.000000000',\n",
              "        '2014-11-01T00:00:00.000000000', '2014-12-01T00:00:00.000000000',\n",
              "        '2015-01-01T00:00:00.000000000', '2015-02-01T00:00:00.000000000',\n",
              "        '2015-03-01T00:00:00.000000000', '2015-04-01T00:00:00.000000000',\n",
              "        '2015-05-01T00:00:00.000000000', '2015-06-01T00:00:00.000000000',\n",
              "        '2015-07-01T00:00:00.000000000', '2015-08-01T00:00:00.000000000',\n",
              "        '2015-09-01T00:00:00.000000000', '2015-10-01T00:00:00.000000000',\n",
              "        '2015-11-01T00:00:00.000000000', '2015-12-01T00:00:00.000000000',\n",
              "        '2016-01-01T00:00:00.000000000', '2016-02-01T00:00:00.000000000',\n",
              "        '2016-03-01T00:00:00.000000000', '2016-04-01T00:00:00.000000000',\n",
              "        '2016-05-01T00:00:00.000000000', '2016-06-01T00:00:00.000000000',\n",
              "        '2016-07-01T00:00:00.000000000', '2016-08-01T00:00:00.000000000',\n",
              "        '2016-09-01T00:00:00.000000000', '2016-10-01T00:00:00.000000000',\n",
              "        '2016-11-01T00:00:00.000000000', '2016-12-01T00:00:00.000000000',\n",
              "        '2017-01-01T00:00:00.000000000', '2017-02-01T00:00:00.000000000',\n",
              "        '2017-03-01T00:00:00.000000000', '2017-04-01T00:00:00.000000000',\n",
              "        '2017-05-01T00:00:00.000000000', '2017-06-01T00:00:00.000000000',\n",
              "        '2017-07-01T00:00:00.000000000', '2017-08-01T00:00:00.000000000',\n",
              "        '2017-09-01T00:00:00.000000000', '2017-10-01T00:00:00.000000000',\n",
              "        '2017-11-01T00:00:00.000000000', '2017-12-01T00:00:00.000000000',\n",
              "        '2018-01-01T00:00:00.000000000', '2018-02-01T00:00:00.000000000',\n",
              "        '2018-03-01T00:00:00.000000000', '2018-04-01T00:00:00.000000000',\n",
              "        '2018-05-01T00:00:00.000000000', '2018-06-01T00:00:00.000000000',\n",
              "        '2018-07-01T00:00:00.000000000', '2018-08-01T00:00:00.000000000',\n",
              "        '2018-09-01T00:00:00.000000000', '2018-10-01T00:00:00.000000000',\n",
              "        '2018-11-01T00:00:00.000000000', '2018-12-01T00:00:00.000000000',\n",
              "        '2019-01-01T00:00:00.000000000', '2019-02-01T00:00:00.000000000',\n",
              "        '2019-03-01T00:00:00.000000000', '2019-04-01T00:00:00.000000000',\n",
              "        '2019-05-01T00:00:00.000000000', '2019-06-01T00:00:00.000000000',\n",
              "        '2019-07-01T00:00:00.000000000', '2019-08-01T00:00:00.000000000',\n",
              "        '2019-09-01T00:00:00.000000000', '2019-10-01T00:00:00.000000000',\n",
              "        '2019-11-01T00:00:00.000000000', '2019-12-01T00:00:00.000000000'],\n",
              "       dtype='datetime64[ns]'))"
            ]
          },
          "metadata": {
            "tags": []
          },
          "execution_count": 28
        }
      ]
    },
    {
      "cell_type": "markdown",
      "metadata": {
        "colab_type": "text",
        "id": "G01L52R_ZzaF"
      },
      "source": [
        "### Prediction by months"
      ]
    },
    {
      "cell_type": "code",
      "metadata": {
        "colab_type": "code",
        "id": "Vg7RB6QvZ9tn",
        "colab": {}
      },
      "source": [
        "from utils import plot_feature_importances"
      ],
      "execution_count": 0,
      "outputs": []
    },
    {
      "cell_type": "code",
      "metadata": {
        "colab_type": "code",
        "id": "55CRISQM9VoV",
        "outputId": "733399cb-62db-42ab-89f5-482b4f06998b",
        "colab": {
          "base_uri": "https://localhost:8080/",
          "height": 136
        }
      },
      "source": [
        "%time june_2019 = predict_dt(pd.datetime(2019,10,1), feature_matrix_selection)"
      ],
      "execution_count": 0,
      "outputs": [
        {
          "output_type": "stream",
          "text": [
            "Size of test labels 10000\n",
            "Size of train labels 929893\n",
            "Size of X train 929893\n",
            "Size of X test  10000\n",
            "Training on 929893 observations.\n",
            "Testing on 10000 observations.\n",
            "\n"
          ],
          "name": "stdout"
        }
      ]
    },
    {
      "cell_type": "code",
      "metadata": {
        "colab_type": "code",
        "id": "VG_tWy2m9sjg",
        "outputId": "b999d6c1-fa39-4496-cc40-29bb8e16dfa4",
        "colab": {
          "base_uri": "https://localhost:8080/",
          "height": 573
        }
      },
      "source": [
        "norm_june_2019_fi = plot_feature_importances(june_2019)"
      ],
      "execution_count": 0,
      "outputs": [
        {
          "output_type": "display_data",
          "data": {
            "image/png": "[encoded data removed]",
            "text/plain": [
              "<Figure size 864x576 with 1 Axes>"
            ]
          },
          "metadata": {
            "tags": []
          }
        }
      ]
    },
    {
      "cell_type": "code",
      "metadata": {
        "colab_type": "code",
        "id": "c7jfHqawe0hD",
        "outputId": "4b4cfb33-5061-4c52-f1ec-b9fa8a8e4a59",
        "colab": {
          "base_uri": "https://localhost:8080/",
          "height": 1000
        }
      },
      "source": [
        "## Loop through from June to Dec\n",
        "start_mt = pd.datetime(2019,6,1)\n",
        "how_many_mt = 7\n",
        "for i in range(how_many_mt):\n",
        "  month_to_predict = start_mt + relativedelta(months=i)\n",
        "  print(f\"\\n{month_to_predict}\\n-------------------\\n\")\n",
        "  %time predict_dt(month_to_predict, feature_matrix_selection)"
      ],
      "execution_count": 0,
      "outputs": [
        {
          "output_type": "stream",
          "text": [
            "\n",
            "2019-06-01 00:00:00\n",
            "-------------------\n",
            "\n",
            "Size of test labels 10000\n",
            "Size of train labels 889893\n",
            "Size of X train 889893\n",
            "Size of X test  10000\n",
            "Training on 889893 observations.\n",
            "Testing on 10000 observations.\n",
            "\n",
            "Total predicted to be positive:  0\n",
            "Precision: 0.0\n",
            "Recall: 0.0\n",
            "F1 Score: 0.0\n",
            "ROC AUC: 0.4984\n",
            "Accuracy: 0.9664\n",
            "Average precision: 0.0336\n",
            "Confusion matrix\n",
            "[[9664    0]\n",
            " [ 336    0]]\n",
            "Predicted matches\n",
            "0 (array([], dtype=int64),)\n",
            "No luck this month\n",
            "CPU times: user 3min 46s, sys: 178 ms, total: 3min 46s\n",
            "Wall time: 3min 46s\n",
            "\n",
            "2019-07-01 00:00:00\n",
            "-------------------\n",
            "\n",
            "Size of test labels 10000\n",
            "Size of train labels 899893\n",
            "Size of X train 899893\n",
            "Size of X test  10000\n",
            "Training on 899893 observations.\n",
            "Testing on 10000 observations.\n",
            "\n",
            "Total predicted to be positive:  0\n",
            "Precision: 0.0\n",
            "Recall: 0.0\n",
            "F1 Score: 0.0\n",
            "ROC AUC: 0.49241\n",
            "Accuracy: 0.9686\n",
            "Average precision: 0.0314\n",
            "Confusion matrix\n",
            "[[9686    0]\n",
            " [ 314    0]]\n",
            "Predicted matches\n",
            "0 (array([], dtype=int64),)\n",
            "No luck this month\n",
            "CPU times: user 3min 31s, sys: 134 ms, total: 3min 31s\n",
            "Wall time: 3min 31s\n",
            "\n",
            "2019-08-01 00:00:00\n",
            "-------------------\n",
            "\n",
            "Size of test labels 10000\n",
            "Size of train labels 909893\n",
            "Size of X train 909893\n",
            "Size of X test  10000\n",
            "Training on 909893 observations.\n",
            "Testing on 10000 observations.\n",
            "\n",
            "Total predicted to be positive:  0\n",
            "Precision: 0.0\n",
            "Recall: 0.0\n",
            "F1 Score: 0.0\n",
            "ROC AUC: 0.47839\n",
            "Accuracy: 0.9686\n",
            "Average precision: 0.0314\n",
            "Confusion matrix\n",
            "[[9686    0]\n",
            " [ 314    0]]\n",
            "Predicted matches\n",
            "0 (array([], dtype=int64),)\n",
            "No luck this month\n",
            "CPU times: user 3min 32s, sys: 112 ms, total: 3min 32s\n",
            "Wall time: 3min 32s\n",
            "\n",
            "2019-09-01 00:00:00\n",
            "-------------------\n",
            "\n",
            "Size of test labels 10000\n",
            "Size of train labels 919893\n",
            "Size of X train 919893\n",
            "Size of X test  10000\n",
            "Training on 919893 observations.\n",
            "Testing on 10000 observations.\n",
            "\n",
            "Total predicted to be positive:  0\n",
            "Precision: 0.0\n",
            "Recall: 0.0\n",
            "F1 Score: 0.0\n",
            "ROC AUC: 0.51286\n",
            "Accuracy: 0.9684\n",
            "Average precision: 0.0316\n",
            "Confusion matrix\n",
            "[[9684    0]\n",
            " [ 316    0]]\n",
            "Predicted matches\n",
            "0 (array([], dtype=int64),)\n",
            "No luck this month\n",
            "CPU times: user 3min 35s, sys: 137 ms, total: 3min 35s\n",
            "Wall time: 3min 35s\n",
            "\n",
            "2019-10-01 00:00:00\n",
            "-------------------\n",
            "\n",
            "Size of test labels 10000\n",
            "Size of train labels 929893\n",
            "Size of X train 929893\n",
            "Size of X test  10000\n",
            "Training on 929893 observations.\n",
            "Testing on 10000 observations.\n",
            "\n",
            "Total predicted to be positive:  0\n",
            "Precision: 0.0\n",
            "Recall: 0.0\n",
            "F1 Score: 0.0\n",
            "ROC AUC: 0.49112\n",
            "Accuracy: 0.9683\n",
            "Average precision: 0.0317\n",
            "Confusion matrix\n",
            "[[9683    0]\n",
            " [ 317    0]]\n",
            "Predicted matches\n",
            "0 (array([], dtype=int64),)\n",
            "No luck this month\n",
            "CPU times: user 3min 38s, sys: 202 ms, total: 3min 38s\n",
            "Wall time: 3min 38s\n",
            "\n",
            "2019-11-01 00:00:00\n",
            "-------------------\n",
            "\n",
            "Size of test labels 10000\n",
            "Size of train labels 939893\n",
            "Size of X train 939893\n",
            "Size of X test  10000\n",
            "Training on 939893 observations.\n",
            "Testing on 10000 observations.\n",
            "\n",
            "Total predicted to be positive:  0\n",
            "Precision: 0.0\n",
            "Recall: 0.0\n",
            "F1 Score: 0.0\n",
            "ROC AUC: 0.48677\n",
            "Accuracy: 0.9692\n",
            "Average precision: 0.0308\n",
            "Confusion matrix\n",
            "[[9692    0]\n",
            " [ 308    0]]\n",
            "Predicted matches\n",
            "0 (array([], dtype=int64),)\n",
            "No luck this month\n",
            "CPU times: user 3min 43s, sys: 184 ms, total: 3min 43s\n",
            "Wall time: 3min 43s\n",
            "\n",
            "2019-12-01 00:00:00\n",
            "-------------------\n",
            "\n",
            "Size of test labels 10000\n",
            "Size of train labels 949893\n",
            "Size of X train 949893\n",
            "Size of X test  10000\n",
            "Training on 949893 observations.\n",
            "Testing on 10000 observations.\n",
            "\n",
            "Total predicted to be positive:  0\n",
            "Precision: 0.0\n",
            "Recall: 0.0\n",
            "F1 Score: 0.0\n",
            "ROC AUC: 0.48336\n",
            "Accuracy: 0.9684\n",
            "Average precision: 0.0316\n",
            "Confusion matrix\n",
            "[[9684    0]\n",
            " [ 316    0]]\n",
            "Predicted matches\n",
            "0 (array([], dtype=int64),)\n",
            "No luck this month\n",
            "CPU times: user 3min 41s, sys: 162 ms, total: 3min 41s\n",
            "Wall time: 3min 41s\n"
          ],
          "name": "stdout"
        }
      ]
    },
    {
      "cell_type": "code",
      "metadata": {
        "colab_type": "code",
        "id": "bvcaaAZle0XI",
        "colab": {}
      },
      "source": [
        ""
      ],
      "execution_count": 0,
      "outputs": []
    },
    {
      "cell_type": "code",
      "metadata": {
        "colab_type": "code",
        "id": "_knRAZVCe0ML",
        "colab": {}
      },
      "source": [
        ""
      ],
      "execution_count": 0,
      "outputs": []
    },
    {
      "cell_type": "code",
      "metadata": {
        "colab_type": "code",
        "id": "s3h8GNGuez-T",
        "colab": {}
      },
      "source": [
        ""
      ],
      "execution_count": 0,
      "outputs": []
    },
    {
      "cell_type": "code",
      "metadata": {
        "colab_type": "code",
        "id": "wwMPNFdACZEO",
        "colab": {}
      },
      "source": [
        " # %time oct_2019 = predict_dt(pd.datetime(2019,10,1), feature_matrix_selection)"
      ],
      "execution_count": 0,
      "outputs": []
    },
    {
      "cell_type": "code",
      "metadata": {
        "colab_type": "code",
        "id": "NLKVpYHnK5oW",
        "colab": {}
      },
      "source": [
        "#month_data = feature_matrix_selection.loc[feature_matrix_selection['time'] == pd.datetime(2019,6,1)]\n",
        "# aa = np.sort(np.array([month_data.NumberId]))\n",
        "# print(len(aa[0]),aa)\n",
        "# print(np.array([month_data.NumberId]))\n",
        "#month_data[month_data['Label'] == 1]['NumberId']"
      ],
      "execution_count": 0,
      "outputs": []
    },
    {
      "cell_type": "code",
      "metadata": {
        "colab_type": "code",
        "id": "Her0uo3yafnG",
        "colab": {}
      },
      "source": [
        "#dd = pd.read_csv(DATASET_PATH/\"feature_matrix_2.csv\", header=0, sep=',', quotechar='\"', parse_dates=['time'])\n",
        "#prev_data = dd.loc[dd['time'] == pd.datetime(2019,6,1)]\n",
        "#prev_data[prev_data['Label'] == 1]['NumberId']\n",
        "#print(np.array([prev_data.NumberId]))"
      ],
      "execution_count": 0,
      "outputs": []
    },
    {
      "cell_type": "markdown",
      "metadata": {
        "colab_type": "text",
        "id": "zrus1QsAafwI"
      },
      "source": [
        "## Check Raw Data"
      ]
    },
    {
      "cell_type": "code",
      "metadata": {
        "colab_type": "code",
        "id": "8Yd0wdngcvrb",
        "colab": {}
      },
      "source": [
        "# number = [[128], [511]] \n",
        "# d = pd.DataFrame(number, columns = ['NumberId']) \n",
        "# d"
      ],
      "execution_count": 0,
      "outputs": []
    },
    {
      "cell_type": "code",
      "metadata": {
        "colab_type": "code",
        "id": "Q51I6LDAamln",
        "colab": {}
      },
      "source": [
        "#display(origin_data[(origin_data['DrawDate'].dt.year == 2019) & (origin_data['DrawDate'].dt.month == 6) & (origin_data['LuckyNo'].isin(d.NumberId))].head(10))"
      ],
      "execution_count": 0,
      "outputs": []
    },
    {
      "cell_type": "code",
      "metadata": {
        "colab_type": "code",
        "id": "_37X2av5Tggp",
        "colab": {}
      },
      "source": [
        "#display(origin_data[(origin_data['DrawDate'].dt.year == 2019) & (origin_data['DrawDate'].dt.month == 10)].head(30))"
      ],
      "execution_count": 0,
      "outputs": []
    },
    {
      "cell_type": "code",
      "metadata": {
        "colab_type": "code",
        "id": "Zehh4dANam0Y",
        "outputId": "65752abe-26d0-439c-d8e7-c2f648ea6b5c",
        "colab": {
          "base_uri": "https://localhost:8080/",
          "height": 34
        }
      },
      "source": [
        "origin_data[(origin_data['DrawDate'].dt.year == 2019) & (origin_data['DrawDate'].dt.month == 6)]['DrawNo'].nunique()"
      ],
      "execution_count": 0,
      "outputs": [
        {
          "output_type": "execute_result",
          "data": {
            "text/plain": [
              "15"
            ]
          },
          "metadata": {
            "tags": []
          },
          "execution_count": 40
        }
      ]
    },
    {
      "cell_type": "code",
      "metadata": {
        "colab_type": "code",
        "id": "9CuaHUA8qq79",
        "outputId": "9281da19-bc3e-47a1-b1d4-4c3baae48d3c",
        "colab": {
          "base_uri": "https://localhost:8080/",
          "height": 34
        }
      },
      "source": [
        "origin_data[(origin_data['DrawDate'].dt.year == 2019) & (origin_data['DrawDate'].dt.month == 10)]['DrawNo'].nunique()"
      ],
      "execution_count": 0,
      "outputs": [
        {
          "output_type": "execute_result",
          "data": {
            "text/plain": [
              "14"
            ]
          },
          "metadata": {
            "tags": []
          },
          "execution_count": 41
        }
      ]
    },
    {
      "cell_type": "code",
      "metadata": {
        "colab_type": "code",
        "id": "qE1h8Uq3qwlA",
        "outputId": "2233242d-3382-437f-b2c7-dcd537f5ddb3",
        "colab": {
          "base_uri": "https://localhost:8080/",
          "height": 34
        }
      },
      "source": [
        "print(15 * 23 + 14 * 23)"
      ],
      "execution_count": 0,
      "outputs": [
        {
          "output_type": "stream",
          "text": [
            "667\n"
          ],
          "name": "stdout"
        }
      ]
    },
    {
      "cell_type": "markdown",
      "metadata": {
        "colab_type": "text",
        "id": "vO2-mn8-YJoe"
      },
      "source": [
        "\n",
        "## Parameter Tuning - GridSearchCV"
      ]
    },
    {
      "cell_type": "code",
      "metadata": {
        "colab_type": "code",
        "id": "rP4J9IwOXYVT",
        "colab": {}
      },
      "source": [
        ""
      ],
      "execution_count": 0,
      "outputs": []
    }
  ]
}
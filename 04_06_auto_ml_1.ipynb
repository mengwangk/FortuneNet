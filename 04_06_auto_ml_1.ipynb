{
  "nbformat": 4,
  "nbformat_minor": 0,
  "metadata": {
    "accelerator": "GPU",
    "colab": {
      "name": "04_02_automated_machine_learning.ipynb",
      "provenance": [],
      "toc_visible": true,
      "machine_shape": "hm",
      "include_colab_link": true
    },
    "kernelspec": {
      "display_name": "Python 3",
      "language": "python",
      "name": "python3"
    },
    "language_info": {
      "codemirror_mode": {
        "name": "ipython",
        "version": 3
      },
      "file_extension": ".py",
      "mimetype": "text/x-python",
      "name": "python",
      "nbconvert_exporter": "python",
      "pygments_lexer": "ipython3",
      "version": "3.7.2"
    }
  },
  "cells": [
    {
      "cell_type": "markdown",
      "metadata": {
        "id": "view-in-github",
        "colab_type": "text"
      },
      "source": [
        "<a href=\"https://colab.research.google.com/github/mengwangk/dl-projects/blob/master/04_06_auto_ml_1.ipynb\" target=\"_parent\"><img src=\"https://colab.research.google.com/assets/colab-badge.svg\" alt=\"Open In Colab\"/></a>"
      ]
    },
    {
      "cell_type": "markdown",
      "metadata": {
        "colab_type": "text",
        "id": "4hyoPGdjpqa_"
      },
      "source": [
        "# Automated ML - Tuning"
      ]
    },
    {
      "cell_type": "code",
      "metadata": {
        "colab_type": "code",
        "id": "SLxr2k_ue8yq",
        "colab": {}
      },
      "source": [
        "COLAB = True\n",
        "\n",
        "DATASET_NAME = '4D.zip'\n",
        "\n",
        "FEATURE_DATASET_PREFIX = 'feature_matrix_d2_v2'"
      ],
      "execution_count": 0,
      "outputs": []
    },
    {
      "cell_type": "code",
      "metadata": {
        "colab_type": "code",
        "id": "oy5ww2zRfFGG",
        "outputId": "9955a69d-8c27-430d-d436-eea0e6da6bb3",
        "colab": {
          "base_uri": "https://localhost:8080/",
          "height": 136
        }
      },
      "source": [
        "if COLAB:\n",
        "  !rm -rf dl-projects\n",
        "  !git clone https://github.com/mengwangk/dl-projects"
      ],
      "execution_count": 2,
      "outputs": [
        {
          "output_type": "stream",
          "text": [
            "Cloning into 'dl-projects'...\n",
            "remote: Enumerating objects: 18, done.\u001b[K\n",
            "remote: Counting objects: 100% (18/18), done.\u001b[K\n",
            "remote: Compressing objects: 100% (17/17), done.\u001b[K\n",
            "remote: Total 1107 (delta 10), reused 3 (delta 1), pack-reused 1089\u001b[K\n",
            "Receiving objects: 100% (1107/1107), 72.51 MiB | 37.63 MiB/s, done.\n",
            "Resolving deltas: 100% (655/655), done.\n"
          ],
          "name": "stdout"
        }
      ]
    },
    {
      "cell_type": "code",
      "metadata": {
        "colab_type": "code",
        "id": "G2xin10SfozR",
        "colab": {}
      },
      "source": [
        "if COLAB:\n",
        "  !cp dl-projects/utils* .\n",
        "  !cp dl-projects/preprocess* .\n",
        "  !cp dl-projects/plot* ."
      ],
      "execution_count": 0,
      "outputs": []
    },
    {
      "cell_type": "code",
      "metadata": {
        "colab_type": "code",
        "id": "fC2-l3JBpqbE",
        "colab": {}
      },
      "source": [
        "%load_ext autoreload\n",
        "# %reload_ext autoreload\n",
        "%autoreload 2\n",
        "\n",
        "%matplotlib inline"
      ],
      "execution_count": 0,
      "outputs": []
    },
    {
      "cell_type": "code",
      "metadata": {
        "colab_type": "code",
        "id": "TP7V_IzepqbK",
        "colab": {}
      },
      "source": [
        "import numpy as np\n",
        "import pandas as pd\n",
        "import seaborn as sns\n",
        "import matplotlib.pyplot as plt\n",
        "import math \n",
        "import matplotlib\n",
        "import sys\n",
        "\n",
        "from scipy import stats\n",
        "from collections import Counter\n",
        "from pathlib import Path\n",
        "\n",
        "plt.style.use('fivethirtyeight')\n",
        "\n",
        "sns.set(style=\"ticks\")\n",
        "\n",
        "import featuretools as ft\n",
        "\n",
        "import warnings\n",
        "warnings.filterwarnings('ignore')\n",
        "\n",
        "from sklearn.pipeline import Pipeline\n",
        "from sklearn.preprocessing import MinMaxScaler, StandardScaler, RobustScaler\n",
        "from sklearn.impute import SimpleImputer\n",
        "from sklearn.metrics import precision_score, recall_score, f1_score, confusion_matrix, roc_auc_score, precision_recall_curve, roc_curve, mean_squared_error, accuracy_score, average_precision_score, classification_report\n",
        "from sklearn.model_selection import train_test_split, cross_val_score, GridSearchCV, RandomizedSearchCV\n",
        "from sklearn.decomposition import PCA\n",
        "import pylab as pl\n",
        "from collections import Counter\n",
        "\n",
        "# from skopt import BayesSearchCV\n",
        "# from skopt.space import Real, Categorical, Integer\n",
        "\n",
        "# from sklearn.ensemble import RandomForestClassifier\n",
        "\n",
        "# from scikitplot.plotters import plot_precision_recall_curve\n",
        "\n",
        "from dateutil.relativedelta import relativedelta\n",
        "\n",
        "from IPython.display import display\n",
        "\n",
        "from utils import *\n",
        "from preprocess import *\n",
        "\n",
        "import xgboost as xgb\n",
        "\n",
        "np.set_printoptions(threshold=sys.maxsize)\n",
        "\n",
        "# The Answer to the Ultimate Question of Life, the Universe, and Everything.\n",
        "np.random.seed(42)\n",
        "\n",
        "from utils import feature_selection, plot_feature_importances\n",
        "from plot import plot_correlation_matrix, plot_labelled_scatter"
      ],
      "execution_count": 0,
      "outputs": []
    },
    {
      "cell_type": "code",
      "metadata": {
        "colab_type": "code",
        "id": "3bFT5CoxpqbP",
        "outputId": "0efd27ce-3522-4142-9093-4fc8ac202154",
        "colab": {
          "base_uri": "https://localhost:8080/",
          "height": 102
        }
      },
      "source": [
        "%aimport"
      ],
      "execution_count": 6,
      "outputs": [
        {
          "output_type": "stream",
          "text": [
            "Modules to reload:\n",
            "all-except-skipped\n",
            "\n",
            "Modules to skip:\n",
            "\n"
          ],
          "name": "stdout"
        }
      ]
    },
    {
      "cell_type": "markdown",
      "metadata": {
        "colab_type": "text",
        "id": "3E16jPVPpqbV"
      },
      "source": [
        "## Preparation"
      ]
    },
    {
      "cell_type": "code",
      "metadata": {
        "colab_type": "code",
        "id": "U421BuhtfYS7",
        "outputId": "8616538e-a201-4ec7-8862-be89fc412953",
        "colab": {
          "base_uri": "https://localhost:8080/",
          "height": 122
        }
      },
      "source": [
        "if COLAB:\n",
        "  from google.colab import drive\n",
        "  drive.mount('/content/gdrive')\n",
        "  GDRIVE_DATASET_FOLDER = Path('gdrive/My Drive/datasets/')"
      ],
      "execution_count": 7,
      "outputs": [
        {
          "output_type": "stream",
          "text": [
            "Go to this URL in a browser: https://accounts.google.com/o/oauth2/auth?client_id=947318989803-6bn6qk8qdgf4n4g3pfee6491hc0brc4i.apps.googleusercontent.com&redirect_uri=urn%3aietf%3awg%3aoauth%3a2.0%3aoob&response_type=code&scope=email%20https%3a%2f%2fwww.googleapis.com%2fauth%2fdocs.test%20https%3a%2f%2fwww.googleapis.com%2fauth%2fdrive%20https%3a%2f%2fwww.googleapis.com%2fauth%2fdrive.photos.readonly%20https%3a%2f%2fwww.googleapis.com%2fauth%2fpeopleapi.readonly\n",
            "\n",
            "Enter your authorization code:\n",
            "··········\n",
            "Mounted at /content/gdrive\n"
          ],
          "name": "stdout"
        }
      ]
    },
    {
      "cell_type": "code",
      "metadata": {
        "colab_type": "code",
        "id": "9IgnETKkpqbX",
        "outputId": "948f58ee-e649-4bf1-fb4e-6dd5df316dbc",
        "colab": {
          "base_uri": "https://localhost:8080/",
          "height": 119
        }
      },
      "source": [
        "if COLAB:\n",
        "  DATASET_PATH = GDRIVE_DATASET_FOLDER\n",
        "  ORIGIN_DATASET_PATH = Path('dl-projects/datasets')\n",
        "else:\n",
        "  DATASET_PATH = Path(\"datasets\")\n",
        "  ORIGIN_DATASET_PATH = Path('datasets')\n",
        "\n",
        "DATASET = DATASET_PATH/f\"{FEATURE_DATASET_PREFIX}.ft\"\n",
        "ORIGIN_DATASET = ORIGIN_DATASET_PATH/DATASET_NAME\n",
        "\n",
        "if COLAB:\n",
        "  !ls -l gdrive/\"My Drive\"/datasets/ --block-size=M\n",
        "  !ls -l dl-projects/datasets --block-size=M"
      ],
      "execution_count": 11,
      "outputs": [
        {
          "output_type": "stream",
          "text": [
            "total 4001M\n",
            "-rw------- 1 root root 1548M Jan  7 00:07 feature_matrix_d2_v1.pkl\n",
            "-rw------- 1 root root 2454M Jan 12 01:24 feature_matrix_d2_v2.ft\n",
            "total 25M\n",
            "-rw-r--r-- 1 root root  1M Jan 12 03:24 4D.zip\n",
            "-rw-r--r-- 1 root root 25M Jan 12 03:24 labels.csv\n"
          ],
          "name": "stdout"
        }
      ]
    },
    {
      "cell_type": "code",
      "metadata": {
        "colab_type": "code",
        "id": "urQTD6DQNutw",
        "colab": {}
      },
      "source": [
        "data = pd.read_feather(DATASET)\n",
        "origin_data = format_tabular(ORIGIN_DATASET)"
      ],
      "execution_count": 0,
      "outputs": []
    },
    {
      "cell_type": "code",
      "metadata": {
        "colab_type": "code",
        "id": "4BjrERxV8WuT",
        "outputId": "3cc03ce4-be6d-4a6e-8fcf-f405623c24c4",
        "colab": {
          "base_uri": "https://localhost:8080/",
          "height": 102
        }
      },
      "source": [
        "data.info()"
      ],
      "execution_count": 13,
      "outputs": [
        {
          "output_type": "stream",
          "text": [
            "<class 'pandas.core.frame.DataFrame'>\n",
            "RangeIndex: 959893 entries, 0 to 959892\n",
            "Columns: 335 entries, NumberId to year\n",
            "dtypes: datetime64[ns](1), float64(214), int64(118), uint8(2)\n",
            "memory usage: 2.4 GB\n"
          ],
          "name": "stdout"
        }
      ]
    },
    {
      "cell_type": "markdown",
      "metadata": {
        "colab_type": "text",
        "id": "vOYlp-8Br61r"
      },
      "source": [
        "## Exploratory Data Analysis"
      ]
    },
    {
      "cell_type": "markdown",
      "metadata": {
        "colab_type": "text",
        "id": "kHiN1VVlG9Kh"
      },
      "source": [
        "### View data"
      ]
    },
    {
      "cell_type": "code",
      "metadata": {
        "colab_type": "code",
        "id": "JnQXyVqng5Cm",
        "colab": {}
      },
      "source": [
        "# Feature matrix\n",
        "feature_matrix = data.drop(columns=['NumberId', 'month', 'year'])"
      ],
      "execution_count": 0,
      "outputs": []
    },
    {
      "cell_type": "code",
      "metadata": {
        "colab_type": "code",
        "id": "apMYVNz9HK9e",
        "colab": {}
      },
      "source": [
        "# Sort data\n",
        "feature_matrix.sort_values(by=['time', 'MAX(Results.LuckyNo)'], inplace=True)"
      ],
      "execution_count": 0,
      "outputs": []
    },
    {
      "cell_type": "code",
      "metadata": {
        "colab_type": "code",
        "id": "CZKTbWRFJNUq",
        "outputId": "6b6a07e6-9eee-4237-d40c-f25977509bc0",
        "colab": {
          "base_uri": "https://localhost:8080/",
          "height": 51
        }
      },
      "source": [
        "print('Positive: ' + str(feature_matrix['Label'].value_counts()[0]) + ' which is ', round(feature_matrix['Label'].value_counts()[0]/len(feature_matrix) * 100,2), '% of the dataset')\n",
        "print('Negative: ' + str(feature_matrix['Label'].value_counts()[1]) + ' which is ', round(feature_matrix['Label'].value_counts()[1]/len(feature_matrix) * 100,2), '% of the dataset')"
      ],
      "execution_count": 18,
      "outputs": [
        {
          "output_type": "stream",
          "text": [
            "Positive: 927839 which is  96.66 % of the dataset\n",
            "Negative: 32054 which is  3.34 % of the dataset\n"
          ],
          "name": "stdout"
        }
      ]
    },
    {
      "cell_type": "code",
      "metadata": {
        "colab_type": "code",
        "id": "E8ZoClJ9JmFY",
        "outputId": "8b9b7c03-7655-44fe-d625-8ec4978339c5",
        "colab": {
          "base_uri": "https://localhost:8080/",
          "height": 551
        }
      },
      "source": [
        "plt.figure(figsize=(8, 8))\n",
        "sns.countplot('Label', data=feature_matrix)"
      ],
      "execution_count": 19,
      "outputs": [
        {
          "output_type": "execute_result",
          "data": {
            "text/plain": [
              "<matplotlib.axes._subplots.AxesSubplot at 0x7fee87097128>"
            ]
          },
          "metadata": {
            "tags": []
          },
          "execution_count": 19
        },
        {
          "output_type": "display_data",
          "data": {
            "image/png": "[encoded data removed]",
            "text/plain": [
              "<Figure size 576x576 with 1 Axes>"
            ]
          },
          "metadata": {
            "tags": []
          }
        }
      ]
    },
    {
      "cell_type": "code",
      "metadata": {
        "colab_type": "code",
        "id": "plplpAQ6JrKb",
        "outputId": "9315a760-81ef-46c2-be3b-a6d77339da90",
        "colab": {
          "base_uri": "https://localhost:8080/",
          "height": 221
        }
      },
      "source": [
        "feature_matrix.isna().sum().sort_values(ascending=False)"
      ],
      "execution_count": 20,
      "outputs": [
        {
          "output_type": "execute_result",
          "data": {
            "text/plain": [
              "CUM_MEAN(TREND(Results.LuckyNo, DrawDate))      7636\n",
              "SKEW(Results.CUM_MAX(LuckyNo))                  7636\n",
              "SKEW(Results.PERCENTILE(DrawNo))                7636\n",
              "SKEW(Results.TIME_SINCE_PREVIOUS(DrawDate))     7636\n",
              "CUM_SUM(SKEW(Results.DrawNo))                   7636\n",
              "                                                ... \n",
              "CUM_SUM(MIN(Results.DrawNo))                       0\n",
              "SUM(Results.PERCENTILE(TotalStrike))               0\n",
              "CUM_MEAN(TIME_SINCE_FIRST(Results.DrawDate))       0\n",
              "CUM_SUM(MAX(Results.TotalStrike))                  0\n",
              "time                                               0\n",
              "Length: 332, dtype: int64"
            ]
          },
          "metadata": {
            "tags": []
          },
          "execution_count": 20
        }
      ]
    },
    {
      "cell_type": "code",
      "metadata": {
        "colab_type": "code",
        "id": "S1612o1VKnof",
        "outputId": "b291f3e8-4b85-4c26-f2ec-5861bffbc333",
        "colab": {
          "base_uri": "https://localhost:8080/",
          "height": 355
        }
      },
      "source": [
        "feature_matrix[feature_matrix.isnull().any(axis=1)].head()"
      ],
      "execution_count": 23,
      "outputs": [
        {
          "output_type": "execute_result",
          "data": {
            "text/html": [
              "<div>\n",
              "<style scoped>\n",
              "    .dataframe tbody tr th:only-of-type {\n",
              "        vertical-align: middle;\n",
              "    }\n",
              "\n",
              "    .dataframe tbody tr th {\n",
              "        vertical-align: top;\n",
              "    }\n",
              "\n",
              "    .dataframe thead th {\n",
              "        text-align: right;\n",
              "    }\n",
              "</style>\n",
              "<table border=\"1\" class=\"dataframe\">\n",
              "  <thead>\n",
              "    <tr style=\"text-align: right;\">\n",
              "      <th></th>\n",
              "      <th>time</th>\n",
              "      <th>NUM_UNIQUE(Results.PrizeType)</th>\n",
              "      <th>TIME_SINCE_FIRST(Results.DrawDate)</th>\n",
              "      <th>MIN(Results.TotalStrike)</th>\n",
              "      <th>SKEW(Results.LuckyNo)</th>\n",
              "      <th>LAST(Results.results_index)</th>\n",
              "      <th>SKEW(Results.TotalStrike)</th>\n",
              "      <th>AVG_TIME_BETWEEN(Results.DrawDate)</th>\n",
              "      <th>LAST(Results.DrawNo)</th>\n",
              "      <th>MIN(Results.LuckyNo)</th>\n",
              "      <th>LAST(Results.TotalStrike)</th>\n",
              "      <th>STD(Results.DrawNo)</th>\n",
              "      <th>TREND(Results.LuckyNo, DrawDate)</th>\n",
              "      <th>MAX(Results.TotalStrike)</th>\n",
              "      <th>SUM(Results.DrawNo)</th>\n",
              "      <th>MEAN(Results.DrawNo)</th>\n",
              "      <th>MAX(Results.DrawNo)</th>\n",
              "      <th>TIME_SINCE_LAST(Results.DrawDate)</th>\n",
              "      <th>TIME_SINCE(first_Results_time)</th>\n",
              "      <th>TREND(Results.DrawNo, DrawDate)</th>\n",
              "      <th>MONTH(first_Results_time)</th>\n",
              "      <th>MEAN(Results.LuckyNo)</th>\n",
              "      <th>DAY(first_Results_time)</th>\n",
              "      <th>MIN(Results.DrawNo)</th>\n",
              "      <th>COUNT(Results)</th>\n",
              "      <th>STD(Results.TotalStrike)</th>\n",
              "      <th>MAX(Results.LuckyNo)</th>\n",
              "      <th>MEAN(Results.TotalStrike)</th>\n",
              "      <th>TREND(Results.TotalStrike, DrawDate)</th>\n",
              "      <th>SUM(Results.TotalStrike)</th>\n",
              "      <th>TIME_SINCE_PREVIOUS(first_Results_time)</th>\n",
              "      <th>SUM(Results.LuckyNo)</th>\n",
              "      <th>LAST(Results.LuckyNo)</th>\n",
              "      <th>STD(Results.LuckyNo)</th>\n",
              "      <th>SKEW(Results.DrawNo)</th>\n",
              "      <th>PERCENTILE(STD(Results.DrawNo))</th>\n",
              "      <th>CUM_MAX(LAST(Results.DrawNo))</th>\n",
              "      <th>SKEW(Results.PERCENTILE(DrawNo))</th>\n",
              "      <th>CUM_SUM(SUM(Results.TotalStrike))</th>\n",
              "      <th>CUM_MAX(SUM(Results.TotalStrike))</th>\n",
              "      <th>...</th>\n",
              "      <th>CUM_SUM(NUM_UNIQUE(Results.PrizeType))</th>\n",
              "      <th>TREND(Results.CUM_MEAN(TotalStrike), DrawDate)</th>\n",
              "      <th>SUM(Results.CUM_MIN(LuckyNo))</th>\n",
              "      <th>MAX(Results.PERCENTILE(TotalStrike))</th>\n",
              "      <th>TREND(Results.TIME_SINCE(DrawDate), DrawDate)</th>\n",
              "      <th>SUM(Results.CUM_SUM(LuckyNo))</th>\n",
              "      <th>STD(Results.PERCENTILE(DrawNo))</th>\n",
              "      <th>MAX(Results.CUM_MIN(LuckyNo))</th>\n",
              "      <th>CUM_MEAN(MAX(Results.TotalStrike))</th>\n",
              "      <th>SUM(Results.CUM_MAX(LuckyNo))</th>\n",
              "      <th>SKEW(Results.CUM_SUM(LuckyNo))</th>\n",
              "      <th>SKEW(Results.TIME_SINCE(DrawDate))</th>\n",
              "      <th>LAST(Results.CUM_MEAN(TotalStrike))</th>\n",
              "      <th>CUM_MIN(TIME_SINCE_LAST(Results.DrawDate))</th>\n",
              "      <th>MIN(Results.CUM_MIN(LuckyNo))</th>\n",
              "      <th>CUM_SUM(MEAN(Results.LuckyNo))</th>\n",
              "      <th>MEAN(Results.PERCENTILE(DrawNo))</th>\n",
              "      <th>PERCENTILE(MIN(Results.TotalStrike))</th>\n",
              "      <th>MIN(Results.PERCENTILE(LuckyNo))</th>\n",
              "      <th>MIN(Results.PERCENTILE(DrawNo))</th>\n",
              "      <th>CUM_MIN(MEAN(Results.TotalStrike))</th>\n",
              "      <th>STD(Results.CUM_SUM(DrawNo))</th>\n",
              "      <th>CUM_MIN(MIN(Results.LuckyNo))</th>\n",
              "      <th>MAX(Results.CUM_MIN(TotalStrike))</th>\n",
              "      <th>TREND(Results.PERCENTILE(DrawNo), DrawDate)</th>\n",
              "      <th>CUM_SUM(STD(Results.LuckyNo))</th>\n",
              "      <th>CUM_MEAN(SKEW(Results.TotalStrike))</th>\n",
              "      <th>NUM_UNIQUE(Results.DAY(DrawDate))</th>\n",
              "      <th>MAX(Results.CUM_MAX(LuckyNo))</th>\n",
              "      <th>MAX(Results.CUM_MIN(DrawNo))</th>\n",
              "      <th>SKEW(Results.CUM_MEAN(TotalStrike))</th>\n",
              "      <th>MAX(Results.TIME_SINCE_PREVIOUS(DrawDate))</th>\n",
              "      <th>CUM_MIN(TIME_SINCE(first_Results_time))</th>\n",
              "      <th>SUM(Results.CUM_MEAN(TotalStrike))</th>\n",
              "      <th>MAX(Results.CUM_SUM(TotalStrike))</th>\n",
              "      <th>CUM_MAX(SKEW(Results.DrawNo))</th>\n",
              "      <th>TotalStrike</th>\n",
              "      <th>Label</th>\n",
              "      <th>LAST(Results.PrizeType)_Prize</th>\n",
              "      <th>MODE(Results.PrizeType)_Prize</th>\n",
              "    </tr>\n",
              "  </thead>\n",
              "  <tbody>\n",
              "    <tr>\n",
              "      <th>363</th>\n",
              "      <td>2012-01-01</td>\n",
              "      <td>1</td>\n",
              "      <td>620265540.0</td>\n",
              "      <td>1</td>\n",
              "      <td>0.0</td>\n",
              "      <td>64949</td>\n",
              "      <td>0.0</td>\n",
              "      <td>4.214991e+07</td>\n",
              "      <td>323109</td>\n",
              "      <td>19</td>\n",
              "      <td>1</td>\n",
              "      <td>101777.042238</td>\n",
              "      <td>0.0</td>\n",
              "      <td>1</td>\n",
              "      <td>2500705</td>\n",
              "      <td>178621.785714</td>\n",
              "      <td>323109</td>\n",
              "      <td>72316740.0</td>\n",
              "      <td>620265540.0</td>\n",
              "      <td>0.03093</td>\n",
              "      <td>5</td>\n",
              "      <td>19</td>\n",
              "      <td>6</td>\n",
              "      <td>40792</td>\n",
              "      <td>14</td>\n",
              "      <td>0.0</td>\n",
              "      <td>19</td>\n",
              "      <td>1</td>\n",
              "      <td>0.0</td>\n",
              "      <td>14</td>\n",
              "      <td>NaN</td>\n",
              "      <td>266</td>\n",
              "      <td>19</td>\n",
              "      <td>0.0</td>\n",
              "      <td>0.070113</td>\n",
              "      <td>0.696425</td>\n",
              "      <td>323109</td>\n",
              "      <td>0.070115</td>\n",
              "      <td>14</td>\n",
              "      <td>14</td>\n",
              "      <td>...</td>\n",
              "      <td>1</td>\n",
              "      <td>0.0</td>\n",
              "      <td>40</td>\n",
              "      <td>0.500007</td>\n",
              "      <td>-60.0</td>\n",
              "      <td>2211177150</td>\n",
              "      <td>0.315275</td>\n",
              "      <td>19</td>\n",
              "      <td>1.0</td>\n",
              "      <td>129998</td>\n",
              "      <td>0.070944</td>\n",
              "      <td>-0.043829</td>\n",
              "      <td>1.0</td>\n",
              "      <td>72316740.0</td>\n",
              "      <td>0</td>\n",
              "      <td>19</td>\n",
              "      <td>0.427118</td>\n",
              "      <td>0.50005</td>\n",
              "      <td>0.001771</td>\n",
              "      <td>0.000162</td>\n",
              "      <td>1</td>\n",
              "      <td>4.322517e+09</td>\n",
              "      <td>19</td>\n",
              "      <td>1</td>\n",
              "      <td>9.581165e-08</td>\n",
              "      <td>0.0</td>\n",
              "      <td>0.0</td>\n",
              "      <td>11</td>\n",
              "      <td>9999</td>\n",
              "      <td>40792</td>\n",
              "      <td>0.0</td>\n",
              "      <td>86400.0</td>\n",
              "      <td>620265540.0</td>\n",
              "      <td>14.0</td>\n",
              "      <td>64950</td>\n",
              "      <td>0.070113</td>\n",
              "      <td>0.0</td>\n",
              "      <td>0</td>\n",
              "      <td>1</td>\n",
              "      <td>1</td>\n",
              "    </tr>\n",
              "    <tr>\n",
              "      <th>9017</th>\n",
              "      <td>2012-01-01</td>\n",
              "      <td>1</td>\n",
              "      <td>421027140.0</td>\n",
              "      <td>1</td>\n",
              "      <td>NaN</td>\n",
              "      <td>63742</td>\n",
              "      <td>NaN</td>\n",
              "      <td>3.393792e+08</td>\n",
              "      <td>317909</td>\n",
              "      <td>123</td>\n",
              "      <td>1</td>\n",
              "      <td>126014.206582</td>\n",
              "      <td>NaN</td>\n",
              "      <td>1</td>\n",
              "      <td>457607</td>\n",
              "      <td>228803.500000</td>\n",
              "      <td>317909</td>\n",
              "      <td>81647940.0</td>\n",
              "      <td>421027140.0</td>\n",
              "      <td>NaN</td>\n",
              "      <td>8</td>\n",
              "      <td>123</td>\n",
              "      <td>29</td>\n",
              "      <td>139698</td>\n",
              "      <td>2</td>\n",
              "      <td>0.0</td>\n",
              "      <td>123</td>\n",
              "      <td>1</td>\n",
              "      <td>NaN</td>\n",
              "      <td>2</td>\n",
              "      <td>259200.0</td>\n",
              "      <td>246</td>\n",
              "      <td>123</td>\n",
              "      <td>0.0</td>\n",
              "      <td>NaN</td>\n",
              "      <td>0.962392</td>\n",
              "      <td>363511</td>\n",
              "      <td>NaN</td>\n",
              "      <td>68968</td>\n",
              "      <td>21</td>\n",
              "      <td>...</td>\n",
              "      <td>8978</td>\n",
              "      <td>NaN</td>\n",
              "      <td>0</td>\n",
              "      <td>0.500007</td>\n",
              "      <td>NaN</td>\n",
              "      <td>431412305</td>\n",
              "      <td>0.390354</td>\n",
              "      <td>0</td>\n",
              "      <td>1.0</td>\n",
              "      <td>19998</td>\n",
              "      <td>NaN</td>\n",
              "      <td>NaN</td>\n",
              "      <td>1.0</td>\n",
              "      <td>86340.0</td>\n",
              "      <td>0</td>\n",
              "      <td>44911320</td>\n",
              "      <td>0.582566</td>\n",
              "      <td>0.50005</td>\n",
              "      <td>0.011334</td>\n",
              "      <td>0.306543</td>\n",
              "      <td>1</td>\n",
              "      <td>6.631006e+09</td>\n",
              "      <td>0</td>\n",
              "      <td>1</td>\n",
              "      <td>NaN</td>\n",
              "      <td>0.0</td>\n",
              "      <td>NaN</td>\n",
              "      <td>2</td>\n",
              "      <td>9999</td>\n",
              "      <td>40792</td>\n",
              "      <td>NaN</td>\n",
              "      <td>0.0</td>\n",
              "      <td>421027140.0</td>\n",
              "      <td>2.0</td>\n",
              "      <td>63743</td>\n",
              "      <td>NaN</td>\n",
              "      <td>0.0</td>\n",
              "      <td>0</td>\n",
              "      <td>1</td>\n",
              "      <td>1</td>\n",
              "    </tr>\n",
              "    <tr>\n",
              "      <th>8619</th>\n",
              "      <td>2012-01-01</td>\n",
              "      <td>1</td>\n",
              "      <td>452390340.0</td>\n",
              "      <td>1</td>\n",
              "      <td>NaN</td>\n",
              "      <td>64702</td>\n",
              "      <td>NaN</td>\n",
              "      <td>3.782592e+08</td>\n",
              "      <td>322109</td>\n",
              "      <td>135</td>\n",
              "      <td>1</td>\n",
              "      <td>139944.917278</td>\n",
              "      <td>NaN</td>\n",
              "      <td>1</td>\n",
              "      <td>446306</td>\n",
              "      <td>223153.000000</td>\n",
              "      <td>322109</td>\n",
              "      <td>74131140.0</td>\n",
              "      <td>452390340.0</td>\n",
              "      <td>NaN</td>\n",
              "      <td>8</td>\n",
              "      <td>135</td>\n",
              "      <td>31</td>\n",
              "      <td>124197</td>\n",
              "      <td>2</td>\n",
              "      <td>0.0</td>\n",
              "      <td>135</td>\n",
              "      <td>1</td>\n",
              "      <td>NaN</td>\n",
              "      <td>2</td>\n",
              "      <td>0.0</td>\n",
              "      <td>270</td>\n",
              "      <td>135</td>\n",
              "      <td>0.0</td>\n",
              "      <td>NaN</td>\n",
              "      <td>0.990259</td>\n",
              "      <td>363511</td>\n",
              "      <td>NaN</td>\n",
              "      <td>66239</td>\n",
              "      <td>21</td>\n",
              "      <td>...</td>\n",
              "      <td>8560</td>\n",
              "      <td>NaN</td>\n",
              "      <td>0</td>\n",
              "      <td>0.500007</td>\n",
              "      <td>NaN</td>\n",
              "      <td>418227262</td>\n",
              "      <td>0.433508</td>\n",
              "      <td>0</td>\n",
              "      <td>1.0</td>\n",
              "      <td>19998</td>\n",
              "      <td>NaN</td>\n",
              "      <td>NaN</td>\n",
              "      <td>1.0</td>\n",
              "      <td>86340.0</td>\n",
              "      <td>0</td>\n",
              "      <td>42705579</td>\n",
              "      <td>0.565062</td>\n",
              "      <td>0.50005</td>\n",
              "      <td>0.012533</td>\n",
              "      <td>0.258526</td>\n",
              "      <td>1</td>\n",
              "      <td>7.179265e+09</td>\n",
              "      <td>0</td>\n",
              "      <td>1</td>\n",
              "      <td>NaN</td>\n",
              "      <td>0.0</td>\n",
              "      <td>NaN</td>\n",
              "      <td>2</td>\n",
              "      <td>9999</td>\n",
              "      <td>40792</td>\n",
              "      <td>NaN</td>\n",
              "      <td>0.0</td>\n",
              "      <td>452390340.0</td>\n",
              "      <td>2.0</td>\n",
              "      <td>64703</td>\n",
              "      <td>NaN</td>\n",
              "      <td>0.0</td>\n",
              "      <td>0</td>\n",
              "      <td>1</td>\n",
              "      <td>1</td>\n",
              "    </tr>\n",
              "    <tr>\n",
              "      <th>9519</th>\n",
              "      <td>2012-01-01</td>\n",
              "      <td>1</td>\n",
              "      <td>361756740.0</td>\n",
              "      <td>1</td>\n",
              "      <td>NaN</td>\n",
              "      <td>49848</td>\n",
              "      <td>NaN</td>\n",
              "      <td>1.664064e+08</td>\n",
              "      <td>257505</td>\n",
              "      <td>185</td>\n",
              "      <td>1</td>\n",
              "      <td>61592.536175</td>\n",
              "      <td>NaN</td>\n",
              "      <td>1</td>\n",
              "      <td>427905</td>\n",
              "      <td>213952.500000</td>\n",
              "      <td>257505</td>\n",
              "      <td>195350340.0</td>\n",
              "      <td>361756740.0</td>\n",
              "      <td>NaN</td>\n",
              "      <td>7</td>\n",
              "      <td>185</td>\n",
              "      <td>15</td>\n",
              "      <td>170400</td>\n",
              "      <td>2</td>\n",
              "      <td>0.0</td>\n",
              "      <td>185</td>\n",
              "      <td>1</td>\n",
              "      <td>NaN</td>\n",
              "      <td>2</td>\n",
              "      <td>0.0</td>\n",
              "      <td>370</td>\n",
              "      <td>185</td>\n",
              "      <td>0.0</td>\n",
              "      <td>NaN</td>\n",
              "      <td>0.095903</td>\n",
              "      <td>363511</td>\n",
              "      <td>NaN</td>\n",
              "      <td>72040</td>\n",
              "      <td>21</td>\n",
              "      <td>...</td>\n",
              "      <td>9502</td>\n",
              "      <td>NaN</td>\n",
              "      <td>0</td>\n",
              "      <td>0.500007</td>\n",
              "      <td>NaN</td>\n",
              "      <td>396912897</td>\n",
              "      <td>0.190577</td>\n",
              "      <td>0</td>\n",
              "      <td>1.0</td>\n",
              "      <td>19998</td>\n",
              "      <td>NaN</td>\n",
              "      <td>NaN</td>\n",
              "      <td>1.0</td>\n",
              "      <td>86340.0</td>\n",
              "      <td>0</td>\n",
              "      <td>47513290</td>\n",
              "      <td>0.536717</td>\n",
              "      <td>0.50005</td>\n",
              "      <td>0.017624</td>\n",
              "      <td>0.401958</td>\n",
              "      <td>1</td>\n",
              "      <td>3.026228e+09</td>\n",
              "      <td>0</td>\n",
              "      <td>1</td>\n",
              "      <td>NaN</td>\n",
              "      <td>0.0</td>\n",
              "      <td>NaN</td>\n",
              "      <td>2</td>\n",
              "      <td>9999</td>\n",
              "      <td>40792</td>\n",
              "      <td>NaN</td>\n",
              "      <td>0.0</td>\n",
              "      <td>361756740.0</td>\n",
              "      <td>2.0</td>\n",
              "      <td>49849</td>\n",
              "      <td>NaN</td>\n",
              "      <td>0.0</td>\n",
              "      <td>0</td>\n",
              "      <td>1</td>\n",
              "      <td>1</td>\n",
              "    </tr>\n",
              "    <tr>\n",
              "      <th>7564</th>\n",
              "      <td>2012-01-01</td>\n",
              "      <td>1</td>\n",
              "      <td>501379140.0</td>\n",
              "      <td>1</td>\n",
              "      <td>NaN</td>\n",
              "      <td>44272</td>\n",
              "      <td>NaN</td>\n",
              "      <td>2.605824e+08</td>\n",
              "      <td>233204</td>\n",
              "      <td>234</td>\n",
              "      <td>1</td>\n",
              "      <td>94262.990786</td>\n",
              "      <td>NaN</td>\n",
              "      <td>1</td>\n",
              "      <td>333100</td>\n",
              "      <td>166550.000000</td>\n",
              "      <td>233204</td>\n",
              "      <td>240796740.0</td>\n",
              "      <td>501379140.0</td>\n",
              "      <td>NaN</td>\n",
              "      <td>2</td>\n",
              "      <td>234</td>\n",
              "      <td>11</td>\n",
              "      <td>99896</td>\n",
              "      <td>2</td>\n",
              "      <td>0.0</td>\n",
              "      <td>234</td>\n",
              "      <td>1</td>\n",
              "      <td>NaN</td>\n",
              "      <td>2</td>\n",
              "      <td>0.0</td>\n",
              "      <td>468</td>\n",
              "      <td>234</td>\n",
              "      <td>0.0</td>\n",
              "      <td>NaN</td>\n",
              "      <td>0.543483</td>\n",
              "      <td>363511</td>\n",
              "      <td>NaN</td>\n",
              "      <td>58795</td>\n",
              "      <td>21</td>\n",
              "      <td>...</td>\n",
              "      <td>7465</td>\n",
              "      <td>NaN</td>\n",
              "      <td>0</td>\n",
              "      <td>0.500007</td>\n",
              "      <td>NaN</td>\n",
              "      <td>288307910</td>\n",
              "      <td>0.291999</td>\n",
              "      <td>0</td>\n",
              "      <td>1.0</td>\n",
              "      <td>19998</td>\n",
              "      <td>NaN</td>\n",
              "      <td>NaN</td>\n",
              "      <td>1.0</td>\n",
              "      <td>86340.0</td>\n",
              "      <td>0</td>\n",
              "      <td>37315233</td>\n",
              "      <td>0.389722</td>\n",
              "      <td>0.50005</td>\n",
              "      <td>0.022716</td>\n",
              "      <td>0.183247</td>\n",
              "      <td>1</td>\n",
              "      <td>3.611873e+09</td>\n",
              "      <td>0</td>\n",
              "      <td>1</td>\n",
              "      <td>NaN</td>\n",
              "      <td>0.0</td>\n",
              "      <td>NaN</td>\n",
              "      <td>2</td>\n",
              "      <td>9999</td>\n",
              "      <td>40792</td>\n",
              "      <td>NaN</td>\n",
              "      <td>0.0</td>\n",
              "      <td>501379140.0</td>\n",
              "      <td>2.0</td>\n",
              "      <td>44273</td>\n",
              "      <td>NaN</td>\n",
              "      <td>0.0</td>\n",
              "      <td>0</td>\n",
              "      <td>1</td>\n",
              "      <td>1</td>\n",
              "    </tr>\n",
              "  </tbody>\n",
              "</table>\n",
              "<p>5 rows × 332 columns</p>\n",
              "</div>"
            ],
            "text/plain": [
              "           time  ...  MODE(Results.PrizeType)_Prize\n",
              "363  2012-01-01  ...                              1\n",
              "9017 2012-01-01  ...                              1\n",
              "8619 2012-01-01  ...                              1\n",
              "9519 2012-01-01  ...                              1\n",
              "7564 2012-01-01  ...                              1\n",
              "\n",
              "[5 rows x 332 columns]"
            ]
          },
          "metadata": {
            "tags": []
          },
          "execution_count": 23
        }
      ]
    },
    {
      "cell_type": "markdown",
      "metadata": {
        "colab_type": "text",
        "id": "fdayfSLPLN_k"
      },
      "source": [
        "### Data Cleansing"
      ]
    },
    {
      "cell_type": "code",
      "metadata": {
        "colab_type": "code",
        "id": "9LcvGa8eLiEX",
        "colab": {}
      },
      "source": [
        "## Fill all NaN with 0\n",
        "feature_matrix = feature_matrix.fillna(0)"
      ],
      "execution_count": 0,
      "outputs": []
    },
    {
      "cell_type": "code",
      "metadata": {
        "colab_type": "code",
        "id": "7KMHiiNyLv_a",
        "outputId": "0960f71e-8689-48c2-a24d-60d2fcfa9147",
        "colab": {
          "base_uri": "https://localhost:8080/",
          "height": 221
        }
      },
      "source": [
        "feature_matrix.isna().sum().sort_values(ascending=False)"
      ],
      "execution_count": 25,
      "outputs": [
        {
          "output_type": "execute_result",
          "data": {
            "text/plain": [
              "MODE(Results.PrizeType)_Prize           0\n",
              "STD(Results.CUM_MAX(TotalStrike))       0\n",
              "MIN(Results.PERCENTILE(TotalStrike))    0\n",
              "MIN(Results.CUM_MAX(DrawNo))            0\n",
              "LAST(Results.CUM_MAX(DrawNo))           0\n",
              "                                       ..\n",
              "CUM_SUM(SKEW(Results.DrawNo))           0\n",
              "MAX(Results.PERCENTILE(DrawNo))         0\n",
              "LAST(Results.CUM_MIN(LuckyNo))          0\n",
              "MIN(Results.CUM_MEAN(LuckyNo))          0\n",
              "time                                    0\n",
              "Length: 332, dtype: int64"
            ]
          },
          "metadata": {
            "tags": []
          },
          "execution_count": 25
        }
      ]
    },
    {
      "cell_type": "code",
      "metadata": {
        "colab_type": "code",
        "id": "mzHx8OYQLx0C",
        "outputId": "8964e79f-ae63-4563-bcb3-8a05cb7862a4",
        "colab": {
          "base_uri": "https://localhost:8080/",
          "height": 115
        }
      },
      "source": [
        "feature_matrix[feature_matrix.isnull().any(axis=1)].head()"
      ],
      "execution_count": 27,
      "outputs": [
        {
          "output_type": "execute_result",
          "data": {
            "text/html": [
              "<div>\n",
              "<style scoped>\n",
              "    .dataframe tbody tr th:only-of-type {\n",
              "        vertical-align: middle;\n",
              "    }\n",
              "\n",
              "    .dataframe tbody tr th {\n",
              "        vertical-align: top;\n",
              "    }\n",
              "\n",
              "    .dataframe thead th {\n",
              "        text-align: right;\n",
              "    }\n",
              "</style>\n",
              "<table border=\"1\" class=\"dataframe\">\n",
              "  <thead>\n",
              "    <tr style=\"text-align: right;\">\n",
              "      <th></th>\n",
              "      <th>time</th>\n",
              "      <th>NUM_UNIQUE(Results.PrizeType)</th>\n",
              "      <th>TIME_SINCE_FIRST(Results.DrawDate)</th>\n",
              "      <th>MIN(Results.TotalStrike)</th>\n",
              "      <th>SKEW(Results.LuckyNo)</th>\n",
              "      <th>LAST(Results.results_index)</th>\n",
              "      <th>SKEW(Results.TotalStrike)</th>\n",
              "      <th>AVG_TIME_BETWEEN(Results.DrawDate)</th>\n",
              "      <th>LAST(Results.DrawNo)</th>\n",
              "      <th>MIN(Results.LuckyNo)</th>\n",
              "      <th>LAST(Results.TotalStrike)</th>\n",
              "      <th>STD(Results.DrawNo)</th>\n",
              "      <th>TREND(Results.LuckyNo, DrawDate)</th>\n",
              "      <th>MAX(Results.TotalStrike)</th>\n",
              "      <th>SUM(Results.DrawNo)</th>\n",
              "      <th>MEAN(Results.DrawNo)</th>\n",
              "      <th>MAX(Results.DrawNo)</th>\n",
              "      <th>TIME_SINCE_LAST(Results.DrawDate)</th>\n",
              "      <th>TIME_SINCE(first_Results_time)</th>\n",
              "      <th>TREND(Results.DrawNo, DrawDate)</th>\n",
              "      <th>MONTH(first_Results_time)</th>\n",
              "      <th>MEAN(Results.LuckyNo)</th>\n",
              "      <th>DAY(first_Results_time)</th>\n",
              "      <th>MIN(Results.DrawNo)</th>\n",
              "      <th>COUNT(Results)</th>\n",
              "      <th>STD(Results.TotalStrike)</th>\n",
              "      <th>MAX(Results.LuckyNo)</th>\n",
              "      <th>MEAN(Results.TotalStrike)</th>\n",
              "      <th>TREND(Results.TotalStrike, DrawDate)</th>\n",
              "      <th>SUM(Results.TotalStrike)</th>\n",
              "      <th>TIME_SINCE_PREVIOUS(first_Results_time)</th>\n",
              "      <th>SUM(Results.LuckyNo)</th>\n",
              "      <th>LAST(Results.LuckyNo)</th>\n",
              "      <th>STD(Results.LuckyNo)</th>\n",
              "      <th>SKEW(Results.DrawNo)</th>\n",
              "      <th>PERCENTILE(STD(Results.DrawNo))</th>\n",
              "      <th>CUM_MAX(LAST(Results.DrawNo))</th>\n",
              "      <th>SKEW(Results.PERCENTILE(DrawNo))</th>\n",
              "      <th>CUM_SUM(SUM(Results.TotalStrike))</th>\n",
              "      <th>CUM_MAX(SUM(Results.TotalStrike))</th>\n",
              "      <th>...</th>\n",
              "      <th>CUM_SUM(NUM_UNIQUE(Results.PrizeType))</th>\n",
              "      <th>TREND(Results.CUM_MEAN(TotalStrike), DrawDate)</th>\n",
              "      <th>SUM(Results.CUM_MIN(LuckyNo))</th>\n",
              "      <th>MAX(Results.PERCENTILE(TotalStrike))</th>\n",
              "      <th>TREND(Results.TIME_SINCE(DrawDate), DrawDate)</th>\n",
              "      <th>SUM(Results.CUM_SUM(LuckyNo))</th>\n",
              "      <th>STD(Results.PERCENTILE(DrawNo))</th>\n",
              "      <th>MAX(Results.CUM_MIN(LuckyNo))</th>\n",
              "      <th>CUM_MEAN(MAX(Results.TotalStrike))</th>\n",
              "      <th>SUM(Results.CUM_MAX(LuckyNo))</th>\n",
              "      <th>SKEW(Results.CUM_SUM(LuckyNo))</th>\n",
              "      <th>SKEW(Results.TIME_SINCE(DrawDate))</th>\n",
              "      <th>LAST(Results.CUM_MEAN(TotalStrike))</th>\n",
              "      <th>CUM_MIN(TIME_SINCE_LAST(Results.DrawDate))</th>\n",
              "      <th>MIN(Results.CUM_MIN(LuckyNo))</th>\n",
              "      <th>CUM_SUM(MEAN(Results.LuckyNo))</th>\n",
              "      <th>MEAN(Results.PERCENTILE(DrawNo))</th>\n",
              "      <th>PERCENTILE(MIN(Results.TotalStrike))</th>\n",
              "      <th>MIN(Results.PERCENTILE(LuckyNo))</th>\n",
              "      <th>MIN(Results.PERCENTILE(DrawNo))</th>\n",
              "      <th>CUM_MIN(MEAN(Results.TotalStrike))</th>\n",
              "      <th>STD(Results.CUM_SUM(DrawNo))</th>\n",
              "      <th>CUM_MIN(MIN(Results.LuckyNo))</th>\n",
              "      <th>MAX(Results.CUM_MIN(TotalStrike))</th>\n",
              "      <th>TREND(Results.PERCENTILE(DrawNo), DrawDate)</th>\n",
              "      <th>CUM_SUM(STD(Results.LuckyNo))</th>\n",
              "      <th>CUM_MEAN(SKEW(Results.TotalStrike))</th>\n",
              "      <th>NUM_UNIQUE(Results.DAY(DrawDate))</th>\n",
              "      <th>MAX(Results.CUM_MAX(LuckyNo))</th>\n",
              "      <th>MAX(Results.CUM_MIN(DrawNo))</th>\n",
              "      <th>SKEW(Results.CUM_MEAN(TotalStrike))</th>\n",
              "      <th>MAX(Results.TIME_SINCE_PREVIOUS(DrawDate))</th>\n",
              "      <th>CUM_MIN(TIME_SINCE(first_Results_time))</th>\n",
              "      <th>SUM(Results.CUM_MEAN(TotalStrike))</th>\n",
              "      <th>MAX(Results.CUM_SUM(TotalStrike))</th>\n",
              "      <th>CUM_MAX(SKEW(Results.DrawNo))</th>\n",
              "      <th>TotalStrike</th>\n",
              "      <th>Label</th>\n",
              "      <th>LAST(Results.PrizeType)_Prize</th>\n",
              "      <th>MODE(Results.PrizeType)_Prize</th>\n",
              "    </tr>\n",
              "  </thead>\n",
              "  <tbody>\n",
              "  </tbody>\n",
              "</table>\n",
              "<p>0 rows × 332 columns</p>\n",
              "</div>"
            ],
            "text/plain": [
              "Empty DataFrame\n",
              "Columns: [time, NUM_UNIQUE(Results.PrizeType), TIME_SINCE_FIRST(Results.DrawDate), MIN(Results.TotalStrike), SKEW(Results.LuckyNo), LAST(Results.results_index), SKEW(Results.TotalStrike), AVG_TIME_BETWEEN(Results.DrawDate), LAST(Results.DrawNo), MIN(Results.LuckyNo), LAST(Results.TotalStrike), STD(Results.DrawNo), TREND(Results.LuckyNo, DrawDate), MAX(Results.TotalStrike), SUM(Results.DrawNo), MEAN(Results.DrawNo), MAX(Results.DrawNo), TIME_SINCE_LAST(Results.DrawDate), TIME_SINCE(first_Results_time), TREND(Results.DrawNo, DrawDate), MONTH(first_Results_time), MEAN(Results.LuckyNo), DAY(first_Results_time), MIN(Results.DrawNo), COUNT(Results), STD(Results.TotalStrike), MAX(Results.LuckyNo), MEAN(Results.TotalStrike), TREND(Results.TotalStrike, DrawDate), SUM(Results.TotalStrike), TIME_SINCE_PREVIOUS(first_Results_time), SUM(Results.LuckyNo), LAST(Results.LuckyNo), STD(Results.LuckyNo), SKEW(Results.DrawNo), PERCENTILE(STD(Results.DrawNo)), CUM_MAX(LAST(Results.DrawNo)), SKEW(Results.PERCENTILE(DrawNo)), CUM_SUM(SUM(Results.TotalStrike)), CUM_MAX(SUM(Results.TotalStrike)), LAST(Results.CUM_MIN(TotalStrike)), MEAN(Results.CUM_MAX(DrawNo)), MIN(Results.CUM_MEAN(TotalStrike)), SUM(Results.PERCENTILE(DrawNo)), CUM_MAX(MAX(Results.LuckyNo)), CUM_MIN(COUNT(Results)), SKEW(Results.CUM_MEAN(DrawNo)), PERCENTILE(COUNT(Results)), CUM_MEAN(MIN(Results.TotalStrike)), CUM_MAX(LAST(Results.TotalStrike)), CUM_MAX(TIME_SINCE_FIRST(Results.DrawDate)), CUM_MIN(SUM(Results.TotalStrike)), CUM_MEAN(STD(Results.DrawNo)), CUM_MIN(STD(Results.DrawNo)), STD(Results.PERCENTILE(LuckyNo)), CUM_MAX(MEAN(Results.LuckyNo)), CUM_MIN(MAX(Results.DrawNo)), TREND(Results.CUM_MAX(DrawNo), DrawDate), SKEW(Results.PERCENTILE(LuckyNo)), STD(Results.CUM_SUM(LuckyNo)), MEAN(Results.TIME_SINCE_PREVIOUS(DrawDate)), CUM_MEAN(TREND(Results.LuckyNo, DrawDate)), CUM_MIN(STD(Results.LuckyNo)), CUM_MAX(SUM(Results.DrawNo)), CUM_MEAN(TIME_SINCE_LAST(Results.DrawDate)), CUM_MIN(SUM(Results.LuckyNo)), SUM(Results.PERCENTILE(LuckyNo)), PERCENTILE(TIME_SINCE_FIRST(Results.DrawDate)), MAX(Results.CUM_MEAN(DrawNo)), CUM_MEAN(AVG_TIME_BETWEEN(Results.DrawDate)), CUM_MIN(MEAN(Results.DrawNo)), CUM_MIN(TIME_SINCE_PREVIOUS(first_Results_time)), CUM_SUM(TREND(Results.DrawNo, DrawDate)), MEAN(Results.CUM_MIN(TotalStrike)), LAST(Results.TIME_SINCE_PREVIOUS(DrawDate)), PERCENTILE(SKEW(Results.DrawNo)), LAST(Results.CUM_MEAN(DrawNo)), CUM_MEAN(LAST(Results.DrawNo)), LAST(Results.CUM_SUM(LuckyNo)), PERCENTILE(STD(Results.TotalStrike)), LAST(Results.CUM_MAX(LuckyNo)), SKEW(Results.CUM_MAX(LuckyNo)), CUM_MEAN(SKEW(Results.LuckyNo)), CUM_SUM(AVG_TIME_BETWEEN(Results.DrawDate)), CUM_MAX(TIME_SINCE_PREVIOUS(first_Results_time)), CUM_MAX(STD(Results.LuckyNo)), PERCENTILE(SKEW(Results.LuckyNo)), CUM_MEAN(NUM_UNIQUE(Results.PrizeType)), TREND(Results.CUM_SUM(TotalStrike), DrawDate), MEAN(Results.CUM_SUM(TotalStrike)), CUM_SUM(SKEW(Results.LuckyNo)), CUM_MIN(SKEW(Results.LuckyNo)), CUM_MAX(TREND(Results.DrawNo, DrawDate)), LAST(Results.MONTH(DrawDate)), SUM(Results.CUM_MIN(DrawNo)), PERCENTILE(TREND(Results.TotalStrike, DrawDate)), SUM(Results.CUM_MIN(TotalStrike)), MEAN(Results.CUM_MAX(TotalStrike)), CUM_SUM(TIME_SINCE_FIRST(Results.DrawDate)), PERCENTILE(AVG_TIME_BETWEEN(Results.DrawDate)), ...]\n",
              "Index: []\n",
              "\n",
              "[0 rows x 332 columns]"
            ]
          },
          "metadata": {
            "tags": []
          },
          "execution_count": 27
        }
      ]
    },
    {
      "cell_type": "markdown",
      "metadata": {
        "colab_type": "text",
        "id": "zF_zCRksL1Ls"
      },
      "source": [
        "### Feature Selection"
      ]
    },
    {
      "cell_type": "code",
      "metadata": {
        "colab_type": "code",
        "id": "_uA8YPbHlleB",
        "colab": {}
      },
      "source": [
        "# Feature scaling first??"
      ],
      "execution_count": 0,
      "outputs": []
    },
    {
      "cell_type": "code",
      "metadata": {
        "colab_type": "code",
        "id": "5A8LZ805MqjP",
        "outputId": "f1d1abf1-98d0-4a73-dfec-3d24e1e7fc45",
        "colab": {
          "base_uri": "https://localhost:8080/",
          "height": 272
        }
      },
      "source": [
        "print(feature_matrix.shape)\n",
        "feature_matrix.columns"
      ],
      "execution_count": 29,
      "outputs": [
        {
          "output_type": "stream",
          "text": [
            "(959893, 332)\n"
          ],
          "name": "stdout"
        },
        {
          "output_type": "execute_result",
          "data": {
            "text/plain": [
              "Index(['time', 'NUM_UNIQUE(Results.PrizeType)',\n",
              "       'TIME_SINCE_FIRST(Results.DrawDate)', 'MIN(Results.TotalStrike)',\n",
              "       'SKEW(Results.LuckyNo)', 'LAST(Results.results_index)',\n",
              "       'SKEW(Results.TotalStrike)', 'AVG_TIME_BETWEEN(Results.DrawDate)',\n",
              "       'LAST(Results.DrawNo)', 'MIN(Results.LuckyNo)',\n",
              "       ...\n",
              "       'SKEW(Results.CUM_MEAN(TotalStrike))',\n",
              "       'MAX(Results.TIME_SINCE_PREVIOUS(DrawDate))',\n",
              "       'CUM_MIN(TIME_SINCE(first_Results_time))',\n",
              "       'SUM(Results.CUM_MEAN(TotalStrike))',\n",
              "       'MAX(Results.CUM_SUM(TotalStrike))', 'CUM_MAX(SKEW(Results.DrawNo))',\n",
              "       'TotalStrike', 'Label', 'LAST(Results.PrizeType)_Prize',\n",
              "       'MODE(Results.PrizeType)_Prize'],\n",
              "      dtype='object', length=332)"
            ]
          },
          "metadata": {
            "tags": []
          },
          "execution_count": 29
        }
      ]
    },
    {
      "cell_type": "code",
      "metadata": {
        "colab_type": "code",
        "id": "rPFOkiGjhuKj",
        "outputId": "476789e5-1ef2-4099-e9eb-70cc6f79fb66",
        "colab": {
          "base_uri": "https://localhost:8080/",
          "height": 119
        }
      },
      "source": [
        "feature_matrix_selection = feature_selection(feature_matrix.drop(columns = ['time', 'TotalStrike', 'Label']))"
      ],
      "execution_count": 30,
      "outputs": [
        {
          "output_type": "stream",
          "text": [
            "Original shape:  (959893, 329)\n",
            "0 missing columns with threshold: 90.\n",
            "86 zero variance columns.\n",
            "154 collinear columns removed with threshold: 0.95.\n",
            "Total columns removed:  240\n",
            "Shape after feature selection: (959893, 89).\n"
          ],
          "name": "stdout"
        }
      ]
    },
    {
      "cell_type": "code",
      "metadata": {
        "colab_type": "code",
        "id": "vT2K0WeJhugH",
        "outputId": "7e40a368-3627-41e5-ef81-271b91dcd5e1",
        "colab": {
          "base_uri": "https://localhost:8080/",
          "height": 1000
        }
      },
      "source": [
        "feature_matrix_selection.shape, feature_matrix_selection.columns"
      ],
      "execution_count": 31,
      "outputs": [
        {
          "output_type": "execute_result",
          "data": {
            "text/plain": [
              "((959893, 89),\n",
              " Index(['TIME_SINCE_FIRST(Results.DrawDate)', 'LAST(Results.results_index)',\n",
              "        'AVG_TIME_BETWEEN(Results.DrawDate)', 'MIN(Results.LuckyNo)',\n",
              "        'STD(Results.DrawNo)', 'SUM(Results.DrawNo)', 'MEAN(Results.DrawNo)',\n",
              "        'TIME_SINCE_LAST(Results.DrawDate)', 'TREND(Results.DrawNo, DrawDate)',\n",
              "        'MONTH(first_Results_time)', 'DAY(first_Results_time)',\n",
              "        'MIN(Results.DrawNo)', 'COUNT(Results)',\n",
              "        'TIME_SINCE_PREVIOUS(first_Results_time)', 'SUM(Results.LuckyNo)',\n",
              "        'SKEW(Results.DrawNo)', 'PERCENTILE(STD(Results.DrawNo))',\n",
              "        'CUM_MAX(LAST(Results.DrawNo))', 'CUM_SUM(SUM(Results.TotalStrike))',\n",
              "        'CUM_MAX(SUM(Results.TotalStrike))', 'CUM_MAX(MAX(Results.LuckyNo))',\n",
              "        'CUM_MIN(COUNT(Results))', 'PERCENTILE(COUNT(Results))',\n",
              "        'CUM_MEAN(STD(Results.DrawNo))', 'CUM_MIN(STD(Results.DrawNo))',\n",
              "        'CUM_MIN(MAX(Results.DrawNo))',\n",
              "        'MEAN(Results.TIME_SINCE_PREVIOUS(DrawDate))',\n",
              "        'CUM_MAX(SUM(Results.DrawNo))',\n",
              "        'CUM_MEAN(TIME_SINCE_LAST(Results.DrawDate))',\n",
              "        'CUM_MIN(SUM(Results.LuckyNo))',\n",
              "        'CUM_MEAN(AVG_TIME_BETWEEN(Results.DrawDate))',\n",
              "        'CUM_MIN(MEAN(Results.DrawNo))',\n",
              "        'LAST(Results.TIME_SINCE_PREVIOUS(DrawDate))',\n",
              "        'PERCENTILE(SKEW(Results.DrawNo))',\n",
              "        'PERCENTILE(STD(Results.TotalStrike))',\n",
              "        'LAST(Results.CUM_MAX(LuckyNo))', 'SKEW(Results.CUM_MAX(LuckyNo))',\n",
              "        'CUM_MAX(TIME_SINCE_PREVIOUS(first_Results_time))',\n",
              "        'LAST(Results.MONTH(DrawDate))',\n",
              "        'PERCENTILE(AVG_TIME_BETWEEN(Results.DrawDate))',\n",
              "        'TREND(Results.TIME_SINCE_PREVIOUS(DrawDate), DrawDate)',\n",
              "        'STD(Results.CUM_MEAN(LuckyNo))', 'CUM_MAX(MEAN(Results.DrawNo))',\n",
              "        'TREND(Results.PERCENTILE(LuckyNo), DrawDate)',\n",
              "        'SKEW(Results.TIME_SINCE_PREVIOUS(DrawDate))',\n",
              "        'PERCENTILE(MEAN(Results.TotalStrike))',\n",
              "        'TREND(Results.PERCENTILE(TotalStrike), DrawDate)',\n",
              "        'CUM_MEAN(MIN(Results.LuckyNo))', 'MEAN(Results.TIME_SINCE(DrawDate))',\n",
              "        'MEAN(Results.CUM_MIN(LuckyNo))', 'CUM_MIN(LAST(Results.LuckyNo))',\n",
              "        'PERCENTILE(LAST(Results.DrawNo))', 'LAST(Results.CUM_MEAN(LuckyNo))',\n",
              "        'SUM(Results.TIME_SINCE_PREVIOUS(DrawDate))',\n",
              "        'PERCENTILE(SUM(Results.DrawNo))',\n",
              "        'MIN(Results.TIME_SINCE_PREVIOUS(DrawDate))',\n",
              "        'LAST(Results.DAY(DrawDate))', 'MEAN(Results.CUM_MEAN(LuckyNo))',\n",
              "        'SUM(Results.TIME_SINCE(DrawDate))', 'MODE(Results.MONTH(DrawDate))',\n",
              "        'CUM_MAX(TIME_SINCE_LAST(Results.DrawDate))',\n",
              "        'CUM_MAX(AVG_TIME_BETWEEN(Results.DrawDate))',\n",
              "        'PERCENTILE(MEAN(Results.DrawNo))', 'MODE(Results.DAY(DrawDate))',\n",
              "        'PERCENTILE(TREND(Results.DrawNo, DrawDate))',\n",
              "        'CUM_MEAN(SKEW(Results.DrawNo))', 'CUM_MAX(STD(Results.DrawNo))',\n",
              "        'CUM_MIN(SKEW(Results.DrawNo))', 'SKEW(Results.CUM_MIN(LuckyNo))',\n",
              "        'CUM_SUM(SKEW(Results.DrawNo))', 'LAST(Results.CUM_MIN(LuckyNo))',\n",
              "        'NUM_UNIQUE(Results.MONTH(DrawDate))',\n",
              "        'TREND(Results.CUM_SUM(DrawNo), DrawDate)',\n",
              "        'CUM_MAX(SUM(Results.LuckyNo))',\n",
              "        'TREND(Results.CUM_MIN(LuckyNo), DrawDate)',\n",
              "        'SKEW(Results.CUM_SUM(DrawNo))',\n",
              "        'CUM_MIN(AVG_TIME_BETWEEN(Results.DrawDate))',\n",
              "        'STD(Results.TIME_SINCE_PREVIOUS(DrawDate))',\n",
              "        'MAX(Results.CUM_MEAN(LuckyNo))', 'SKEW(Results.CUM_MEAN(LuckyNo))',\n",
              "        'CUM_MIN(SUM(Results.DrawNo))',\n",
              "        'TREND(Results.CUM_MEAN(LuckyNo), DrawDate)',\n",
              "        'SUM(Results.CUM_MIN(LuckyNo))', 'STD(Results.PERCENTILE(DrawNo))',\n",
              "        'CUM_MIN(TIME_SINCE_LAST(Results.DrawDate))',\n",
              "        'STD(Results.CUM_SUM(DrawNo))',\n",
              "        'TREND(Results.PERCENTILE(DrawNo), DrawDate)',\n",
              "        'NUM_UNIQUE(Results.DAY(DrawDate))', 'CUM_MAX(SKEW(Results.DrawNo))'],\n",
              "       dtype='object'))"
            ]
          },
          "metadata": {
            "tags": []
          },
          "execution_count": 31
        }
      ]
    },
    {
      "cell_type": "code",
      "metadata": {
        "colab_type": "code",
        "id": "yZUhYrWFiRod",
        "colab": {}
      },
      "source": [
        "feature_matrix_selection['time'] = feature_matrix['time']\n",
        "feature_matrix_selection['TotalStrike'] = feature_matrix['TotalStrike']\n",
        "feature_matrix_selection['Label'] = feature_matrix['Label']"
      ],
      "execution_count": 0,
      "outputs": []
    },
    {
      "cell_type": "markdown",
      "metadata": {
        "colab_type": "text",
        "id": "hugygOqSiR6K"
      },
      "source": [
        "### Feature Correlation"
      ]
    },
    {
      "cell_type": "code",
      "metadata": {
        "colab_type": "code",
        "id": "JwecxRqfjtaH",
        "colab": {}
      },
      "source": [
        "# Check without feature selection\n",
        "# corrs = feature_matrix.corr().sort_values('Label')\n",
        "# corrs['Label'].tail(100)"
      ],
      "execution_count": 0,
      "outputs": []
    },
    {
      "cell_type": "code",
      "metadata": {
        "colab_type": "code",
        "id": "u7Ha8Zlkhuoe",
        "outputId": "901fb2ba-f477-45d8-b3f8-a8affd9b619f",
        "colab": {
          "base_uri": "https://localhost:8080/",
          "height": 374
        }
      },
      "source": [
        "# Check with feature selection\n",
        "corrs = feature_matrix_selection.corr().sort_values('Label')\n",
        "corrs['Label'].tail(20)"
      ],
      "execution_count": 34,
      "outputs": [
        {
          "output_type": "execute_result",
          "data": {
            "text/plain": [
              "TIME_SINCE_LAST(Results.DrawDate)                   0.000913\n",
              "MIN(Results.TIME_SINCE_PREVIOUS(DrawDate))          0.000984\n",
              "SKEW(Results.CUM_MAX(LuckyNo))                      0.000985\n",
              "TIME_SINCE_PREVIOUS(first_Results_time)             0.000987\n",
              "LAST(Results.CUM_MEAN(LuckyNo))                     0.000988\n",
              "MAX(Results.CUM_MEAN(LuckyNo))                      0.001007\n",
              "PERCENTILE(MEAN(Results.DrawNo))                    0.001022\n",
              "CUM_SUM(SUM(Results.TotalStrike))                   0.001039\n",
              "TREND(Results.PERCENTILE(LuckyNo), DrawDate)        0.001139\n",
              "CUM_MAX(TIME_SINCE_PREVIOUS(first_Results_time))    0.001145\n",
              "CUM_MIN(TIME_SINCE_LAST(Results.DrawDate))          0.001153\n",
              "CUM_MIN(SKEW(Results.DrawNo))                       0.001267\n",
              "TREND(Results.CUM_MEAN(LuckyNo), DrawDate)          0.001493\n",
              "TREND(Results.PERCENTILE(DrawNo), DrawDate)         0.001528\n",
              "PERCENTILE(MEAN(Results.TotalStrike))               0.001564\n",
              "MIN(Results.DrawNo)                                 0.001718\n",
              "STD(Results.CUM_MEAN(LuckyNo))                      0.002331\n",
              "LAST(Results.CUM_MIN(LuckyNo))                      0.003472\n",
              "TotalStrike                                         0.991808\n",
              "Label                                               1.000000\n",
              "Name: Label, dtype: float64"
            ]
          },
          "metadata": {
            "tags": []
          },
          "execution_count": 34
        }
      ]
    },
    {
      "cell_type": "markdown",
      "metadata": {
        "colab_type": "text",
        "id": "b5MHgSCaQCh1"
      },
      "source": [
        "### Balancing data"
      ]
    },
    {
      "cell_type": "code",
      "metadata": {
        "colab_type": "code",
        "id": "pMtgp-f-Uzee",
        "colab": {}
      },
      "source": [
        "from imblearn.under_sampling import (RandomUnderSampler, \n",
        "                                     ClusterCentroids,\n",
        "                                     TomekLinks,\n",
        "                                     NeighbourhoodCleaningRule,\n",
        "                                     AllKNN,\n",
        "                                     NearMiss)\n",
        "from imblearn.pipeline import make_pipeline\n",
        "\n",
        "def under_sampling(feature_data, cut_off_date, ratio=0.8):\n",
        "  y = feature_data.loc[feature_data['time'] < cut_off_date, 'Label']\n",
        "  X = feature_data[feature_data['time'] < cut_off_date].drop(columns = ['Label', 'TotalStrike','time','date'])\n",
        "  total_count = y.value_counts()\n",
        "  neg_count = y.value_counts()[0]\n",
        "  pos_count = y.value_counts()[1]\n",
        "  target_neg_count = pos_count / (1-ratio)\n",
        "  target_ratio = {0: target_neg_count, 1: pos_count}\n",
        "  #print(type(X), X.shape, type(y), y.shape, target_ratio)\n",
        "  print('Before sampling {}'.format(Counter(y)))\n",
        "  sampler = TomekLinks(random_state=42, sampling_strategy=target_ratio)\n",
        "  X_bal, y_bal = sampler.fit_sample(X, y)\n",
        "  print(type(X_bal), type(y_bal))\n",
        "  print('Undersampling {}'.format(Counter(y_bal)))\n",
        "      "
      ],
      "execution_count": 0,
      "outputs": []
    },
    {
      "cell_type": "code",
      "metadata": {
        "id": "C-qPNCC90sXi",
        "colab_type": "code",
        "colab": {
          "base_uri": "https://localhost:8080/",
          "height": 51
        },
        "outputId": "838e4f4e-389e-40cd-8d1a-fe212c42e4ed"
      },
      "source": [
        "%time under_sampling(feature_matrix_selection, pd.datetime(2019,6,1))"
      ],
      "execution_count": 0,
      "outputs": [
        {
          "output_type": "stream",
          "text": [
            "<class 'pandas.core.frame.DataFrame'> (889893, 89) <class 'pandas.core.series.Series'> (889893,) {0: 149165.00000000003, 1: 29833}\n",
            "Before sampling Counter({0: 860060, 1: 29833})\n"
          ],
          "name": "stdout"
        }
      ]
    },
    {
      "cell_type": "code",
      "metadata": {
        "colab_type": "code",
        "id": "Nc2OeCEhHoKO",
        "colab": {}
      },
      "source": [
        ""
      ],
      "execution_count": 0,
      "outputs": []
    },
    {
      "cell_type": "markdown",
      "metadata": {
        "colab_type": "text",
        "id": "waeD1ED_kqDB"
      },
      "source": [
        "## Modeling"
      ]
    },
    {
      "cell_type": "code",
      "metadata": {
        "colab_type": "code",
        "id": "9Gq0iPZ1C8ka",
        "colab": {}
      },
      "source": [
        "def predict(dt, feature_matrix, return_probs = False): \n",
        "   \n",
        "    feature_matrix['date'] = feature_matrix['time']\n",
        "\n",
        "    # Subset labels\n",
        "    test_labels = feature_matrix.loc[feature_matrix['date'] == dt, 'Label']\n",
        "    train_labels = feature_matrix.loc[feature_matrix['date'] < dt, 'Label']\n",
        "\n",
        "    print(f\"Size of test labels {len(test_labels)}\")\n",
        "    print(f\"Size of train labels {len(train_labels)}\")\n",
        "    \n",
        "    # Features\n",
        "    X_train = feature_matrix[feature_matrix['date'] < dt].drop(columns = ['NumberId', 'time',\n",
        "                                                                                     'date', 'Label', 'TotalStrike', 'month', 'year', 'index'], errors='ignore')\n",
        "    X_test = feature_matrix[feature_matrix['date'] == dt].drop(columns = ['NumberId', 'time',\n",
        "                                                                                     'date', 'Label', 'TotalStrike', 'month', 'year', 'index'], errors='ignore')\n",
        "    print(f\"Size of X train {len(X_train)}\")\n",
        "    print(f\"Size of X test  {len(X_test)}\")\n",
        "   \n",
        "    feature_names = list(X_train.columns)\n",
        "    \n",
        "    # Impute and scale features\n",
        "    pipeline = Pipeline([('imputer', SimpleImputer(strategy = 'constant', fill_value=0)), \n",
        "                      ('scaler', StandardScaler())])\n",
        "\n",
        "    # Fit and transform training data\n",
        "    X_train = pipeline.fit_transform(X_train)\n",
        "    X_test = pipeline.transform(X_test)\n",
        "\n",
        "    ## Balance the data\n",
        "    \n",
        "\n",
        "    # Labels\n",
        "    y_train = np.array(train_labels).reshape((-1, ))\n",
        "    y_test = np.array(test_labels).reshape((-1, ))\n",
        "    \n",
        "    print('Training on {} observations.'.format(len(X_train)))\n",
        "    print('Testing on {} observations.\\n'.format(len(X_test)))\n",
        "    \n",
        "    # https://xgboost.readthedocs.io/en/latest/parameter.html\n",
        "    # https://xgboost.readthedocs.io/en/latest/tutorials/param_tuning.html\n",
        "    # https://stats.stackexchange.com/questions/224512/reduce-false-positives-with-xgboost\n",
        "    hit_ratio = float(train_labels.value_counts()[0]/train_labels.value_counts()[1]) \n",
        "    #hit_ratio = 33\n",
        "    print(f\"Hit ratio - {hit_ratio}\")\n",
        "\n",
        "     # Create the classifier\n",
        "    model = xgb.XGBClassifier(n_jobs=-1, \n",
        "                             random_state = 42,\n",
        "                             n_estimators=100, \n",
        "                             max_depth=3,\n",
        "                             min_child_weight=1,\n",
        "                             scale_pos_weight=hit_ratio \n",
        "                             )\n",
        "\n",
        "    # Train \n",
        "    model.fit(X_train, y_train)\n",
        "    \n",
        "    # Make predictions\n",
        "    predictions = model.predict(X_test)\n",
        "    probs = model.predict_proba(X_test)[:, 1]\n",
        "    \n",
        "    # Total positive\n",
        "    positive = np.where((predictions==1))\n",
        "    print('Total predicted to be positive: ', len(positive[0]))\n",
        "  \n",
        "    # Calculate metrics\n",
        "    rpt = classification_report(y_test, predictions)\n",
        "    cm = confusion_matrix(y_test, predictions)\n",
        "    print('Classification report')\n",
        "    print(rpt)\n",
        "    print('Confusion matrix')\n",
        "    print(cm)\n",
        "\n",
        "    # Total predicted matches\n",
        "    print('Predicted matches')\n",
        "    pred = np.where((predictions==1))\n",
        "    print(len(pred[0]), pred)\n",
        "  \n",
        "    if len(positive[0]) > 0:\n",
        "    \n",
        "      # Matching draws\n",
        "      print('Matched draws')\n",
        "      md = np.where((predictions==1) & (y_test==1))\n",
        "      print(f\"Count: {len(md[0])}, Index: {md}\")\n",
        "      month_data = feature_matrix.loc[feature_matrix['date'] == dt]\n",
        "      numbers = month_data.iloc[md[0]][['MIN(Results.LuckyNo)']]\n",
        "\n",
        "      \n",
        "      display(origin_data[(origin_data['DrawDate'].dt.year == dt.year) & \n",
        "                          (origin_data['DrawDate'].dt.month == dt.month) &  \n",
        "                          (origin_data['LuckyNo'].isin(numbers['MIN(Results.LuckyNo)']))].head(len(positive[0])))                                                   \n",
        "    else:\n",
        "      print('No luck this month')                 \n",
        "\n",
        "    # Feature importances\n",
        "    fi = pd.DataFrame({'feature': feature_names, 'importance': model.feature_importances_})\n",
        "    \n",
        "    if return_probs:\n",
        "        return fi, probs\n",
        "    \n",
        "    return fi"
      ],
      "execution_count": 0,
      "outputs": []
    },
    {
      "cell_type": "code",
      "metadata": {
        "colab_type": "code",
        "id": "EFAFoPBEoWFi",
        "outputId": "ed3e67d7-b436-4b2b-c8a4-1ae7113dd6af",
        "colab": {
          "base_uri": "https://localhost:8080/",
          "height": 1000
        }
      },
      "source": [
        "%time june_2019 = predict(pd.datetime(2019,6,1), feature_matrix_selection)"
      ],
      "execution_count": 87,
      "outputs": [
        {
          "output_type": "stream",
          "text": [
            "Size of test labels 10000\n",
            "Size of train labels 889893\n",
            "Size of X train 889893\n",
            "Size of X test  10000\n",
            "Training on 889893 observations.\n",
            "Testing on 10000 observations.\n",
            "\n",
            "Hit ratio - 28.829148929038315\n",
            "Total predicted to be positive:  2740\n",
            "Classification report\n",
            "              precision    recall  f1-score   support\n",
            "\n",
            "           0       0.97      0.73      0.83      9664\n",
            "           1       0.03      0.28      0.06       336\n",
            "\n",
            "    accuracy                           0.71     10000\n",
            "   macro avg       0.50      0.50      0.44     10000\n",
            "weighted avg       0.94      0.71      0.80     10000\n",
            "\n",
            "Confusion matrix\n",
            "[[7017 2647]\n",
            " [ 243   93]]\n",
            "Predicted matches\n",
            "2740 (array([   3,    6,   16,   17,   18,   21,   22,   28,   36,   37,   38,\n",
            "         39,   42,   44,   50,   52,   54,   58,   62,   64,   67,   70,\n",
            "         72,   75,   77,   80,   96,  104,  107,  111,  113,  117,  122,\n",
            "        130,  131,  145,  146,  147,  148,  151,  152,  154,  155,  157,\n",
            "        160,  163,  165,  171,  176,  178,  180,  182,  191,  192,  193,\n",
            "        197,  198,  199,  200,  201,  205,  206,  210,  211,  212,  215,\n",
            "        216,  217,  219,  220,  226,  228,  229,  230,  232,  235,  238,\n",
            "        239,  240,  244,  246,  248,  249,  250,  253,  259,  262,  266,\n",
            "        271,  272,  276,  277,  279,  282,  283,  285,  287,  288,  291,\n",
            "        294,  295,  298,  300,  305,  310,  313,  314,  320,  322,  326,\n",
            "        329,  330,  336,  341,  344,  350,  351,  353,  356,  365,  366,\n",
            "        369,  370,  373,  376,  377,  379,  380,  381,  382,  384,  390,\n",
            "        391,  392,  393,  396,  397,  399,  400,  402,  405,  411,  414,\n",
            "        415,  418,  422,  428,  429,  430,  436,  437,  438,  439,  441,\n",
            "        444,  448,  450,  451,  452,  453,  455,  457,  462,  463,  466,\n",
            "        468,  469,  473,  474,  476,  478,  479,  480,  482,  487,  488,\n",
            "        489,  491,  496,  498,  500,  502,  503,  507,  510,  511,  513,\n",
            "        514,  517,  518,  519,  520,  521,  526,  530,  532,  536,  537,\n",
            "        540,  544,  550,  551,  552,  553,  554,  555,  557,  558,  559,\n",
            "        560,  566,  568,  572,  577,  580,  581,  582,  586,  588,  590,\n",
            "        594,  595,  596,  598,  599,  603,  604,  607,  613,  619,  621,\n",
            "        622,  623,  626,  628,  630,  636,  637,  641,  648,  654,  657,\n",
            "        658,  659,  661,  664,  665,  667,  669,  671,  673,  675,  683,\n",
            "        686,  687,  691,  692,  695,  697,  699,  701,  703,  705,  706,\n",
            "        708,  709,  710,  712,  714,  716,  720,  721,  722,  724,  727,\n",
            "        728,  731,  732,  734,  735,  744,  746,  749,  750,  752,  761,\n",
            "        762,  763,  764,  765,  766,  767,  768,  769,  776,  777,  787,\n",
            "        789,  791,  793,  796,  800,  802,  803,  804,  810,  811,  816,\n",
            "        818,  819,  822,  825,  827,  830,  831,  832,  833,  834,  838,\n",
            "        841,  843,  844,  846,  847,  848,  851,  852,  855,  857,  859,\n",
            "        865,  866,  868,  871,  874,  877,  878,  885,  888,  893,  894,\n",
            "        895,  897,  900,  903,  904,  910,  914,  915,  916,  918,  922,\n",
            "        923,  925,  929,  930,  931,  933,  935,  938,  941,  944,  947,\n",
            "        951,  954,  955,  956,  957,  958,  959,  960,  963,  964,  966,\n",
            "        969,  970,  971,  974,  976,  977,  985,  988,  990,  991,  992,\n",
            "        994,  995,  996, 1001, 1003, 1007, 1008, 1009, 1010, 1011, 1014,\n",
            "       1016, 1018, 1020, 1027, 1029, 1031, 1034, 1036, 1038, 1039, 1042,\n",
            "       1043, 1045, 1047, 1050, 1052, 1056, 1057, 1060, 1061, 1062, 1064,\n",
            "       1065, 1067, 1069, 1071, 1075, 1077, 1079, 1080, 1081, 1085, 1086,\n",
            "       1093, 1094, 1097, 1098, 1099, 1101, 1102, 1103, 1104, 1108, 1109,\n",
            "       1115, 1116, 1117, 1127, 1128, 1129, 1130, 1138, 1139, 1141, 1142,\n",
            "       1144, 1156, 1161, 1163, 1165, 1166, 1168, 1169, 1170, 1174, 1175,\n",
            "       1178, 1181, 1186, 1188, 1190, 1191, 1195, 1197, 1201, 1207, 1208,\n",
            "       1214, 1217, 1218, 1221, 1226, 1230, 1231, 1232, 1236, 1237, 1240,\n",
            "       1242, 1245, 1246, 1249, 1252, 1255, 1256, 1257, 1259, 1260, 1261,\n",
            "       1262, 1263, 1266, 1268, 1271, 1272, 1273, 1274, 1277, 1279, 1284,\n",
            "       1285, 1288, 1295, 1297, 1298, 1299, 1300, 1301, 1302, 1304, 1307,\n",
            "       1308, 1314, 1316, 1319, 1320, 1321, 1328, 1331, 1332, 1333, 1334,\n",
            "       1336, 1338, 1340, 1341, 1343, 1344, 1345, 1347, 1349, 1350, 1354,\n",
            "       1356, 1357, 1358, 1360, 1361, 1362, 1363, 1364, 1370, 1373, 1374,\n",
            "       1375, 1377, 1378, 1379, 1381, 1383, 1386, 1387, 1388, 1390, 1396,\n",
            "       1399, 1400, 1404, 1405, 1409, 1413, 1414, 1415, 1416, 1423, 1427,\n",
            "       1428, 1431, 1433, 1434, 1438, 1444, 1445, 1446, 1450, 1454, 1458,\n",
            "       1460, 1464, 1465, 1467, 1469, 1471, 1472, 1475, 1478, 1479, 1480,\n",
            "       1482, 1483, 1484, 1485, 1487, 1491, 1492, 1493, 1494, 1495, 1496,\n",
            "       1499, 1503, 1510, 1513, 1516, 1517, 1521, 1535, 1537, 1538, 1542,\n",
            "       1546, 1550, 1552, 1553, 1554, 1555, 1557, 1559, 1560, 1571, 1572,\n",
            "       1578, 1580, 1581, 1583, 1585, 1596, 1597, 1601, 1602, 1608, 1610,\n",
            "       1611, 1612, 1616, 1618, 1619, 1622, 1631, 1635, 1637, 1640, 1649,\n",
            "       1651, 1652, 1655, 1660, 1661, 1665, 1667, 1671, 1677, 1689, 1694,\n",
            "       1697, 1699, 1701, 1713, 1714, 1721, 1723, 1726, 1728, 1729, 1731,\n",
            "       1732, 1736, 1745, 1748, 1751, 1752, 1754, 1756, 1758, 1760, 1762,\n",
            "       1771, 1773, 1774, 1775, 1776, 1778, 1780, 1782, 1789, 1790, 1796,\n",
            "       1804, 1809, 1811, 1813, 1815, 1818, 1822, 1823, 1828, 1833, 1834,\n",
            "       1836, 1839, 1843, 1855, 1857, 1860, 1862, 1866, 1867, 1868, 1870,\n",
            "       1871, 1873, 1874, 1875, 1884, 1891, 1892, 1894, 1896, 1899, 1904,\n",
            "       1909, 1911, 1913, 1916, 1917, 1919, 1926, 1927, 1930, 1935, 1938,\n",
            "       1939, 1942, 1947, 1955, 1959, 1962, 1966, 1969, 1970, 1974, 1975,\n",
            "       1979, 1980, 1981, 1982, 1983, 1989, 1990, 2002, 2017, 2019, 2021,\n",
            "       2023, 2024, 2029, 2031, 2036, 2038, 2044, 2050, 2052, 2056, 2057,\n",
            "       2060, 2061, 2064, 2065, 2073, 2074, 2075, 2080, 2082, 2085, 2087,\n",
            "       2088, 2093, 2094, 2097, 2098, 2100, 2101, 2102, 2104, 2105, 2109,\n",
            "       2111, 2115, 2117, 2118, 2122, 2125, 2127, 2130, 2132, 2133, 2140,\n",
            "       2145, 2150, 2152, 2154, 2174, 2175, 2178, 2182, 2184, 2185, 2187,\n",
            "       2190, 2196, 2198, 2203, 2205, 2207, 2210, 2213, 2214, 2215, 2219,\n",
            "       2223, 2226, 2227, 2230, 2231, 2232, 2234, 2235, 2238, 2239, 2241,\n",
            "       2242, 2243, 2248, 2260, 2264, 2266, 2268, 2269, 2271, 2276, 2278,\n",
            "       2286, 2297, 2300, 2302, 2305, 2311, 2316, 2318, 2320, 2322, 2325,\n",
            "       2327, 2331, 2333, 2342, 2346, 2349, 2351, 2355, 2356, 2359, 2360,\n",
            "       2364, 2365, 2371, 2373, 2378, 2388, 2390, 2391, 2392, 2396, 2397,\n",
            "       2405, 2408, 2410, 2412, 2414, 2415, 2423, 2430, 2436, 2438, 2439,\n",
            "       2442, 2443, 2451, 2457, 2461, 2466, 2472, 2474, 2481, 2482, 2484,\n",
            "       2488, 2489, 2492, 2493, 2494, 2495, 2497, 2500, 2502, 2504, 2505,\n",
            "       2506, 2513, 2515, 2519, 2521, 2527, 2528, 2533, 2536, 2542, 2544,\n",
            "       2549, 2550, 2554, 2560, 2562, 2564, 2566, 2567, 2568, 2570, 2571,\n",
            "       2572, 2581, 2584, 2588, 2590, 2591, 2594, 2599, 2600, 2603, 2609,\n",
            "       2611, 2619, 2624, 2628, 2629, 2631, 2633, 2637, 2639, 2644, 2645,\n",
            "       2651, 2652, 2654, 2656, 2657, 2663, 2665, 2670, 2672, 2673, 2680,\n",
            "       2681, 2683, 2690, 2691, 2692, 2695, 2701, 2702, 2707, 2720, 2721,\n",
            "       2728, 2729, 2730, 2738, 2739, 2745, 2749, 2752, 2759, 2760, 2763,\n",
            "       2765, 2772, 2775, 2778, 2785, 2786, 2787, 2788, 2791, 2794, 2795,\n",
            "       2796, 2797, 2798, 2800, 2806, 2808, 2810, 2818, 2819, 2820, 2821,\n",
            "       2827, 2831, 2838, 2839, 2842, 2850, 2855, 2857, 2858, 2860, 2862,\n",
            "       2879, 2886, 2890, 2892, 2895, 2897, 2898, 2899, 2902, 2912, 2916,\n",
            "       2918, 2920, 2924, 2932, 2935, 2936, 2940, 2946, 2951, 2952, 2958,\n",
            "       2959, 2962, 2976, 2979, 2980, 2983, 2987, 2989, 2994, 2996, 2998,\n",
            "       2999, 3014, 3016, 3026, 3028, 3029, 3030, 3031, 3032, 3034, 3037,\n",
            "       3040, 3045, 3046, 3048, 3053, 3059, 3068, 3072, 3075, 3078, 3081,\n",
            "       3083, 3084, 3089, 3090, 3091, 3097, 3098, 3099, 3111, 3113, 3115,\n",
            "       3120, 3122, 3126, 3129, 3132, 3134, 3138, 3139, 3145, 3149, 3150,\n",
            "       3151, 3152, 3156, 3167, 3171, 3173, 3177, 3178, 3182, 3183, 3191,\n",
            "       3194, 3198, 3206, 3208, 3209, 3211, 3213, 3214, 3215, 3216, 3218,\n",
            "       3222, 3228, 3241, 3247, 3250, 3251, 3254, 3255, 3258, 3266, 3269,\n",
            "       3272, 3276, 3277, 3283, 3286, 3290, 3302, 3306, 3316, 3319, 3320,\n",
            "       3324, 3330, 3334, 3337, 3345, 3346, 3349, 3352, 3356, 3361, 3362,\n",
            "       3366, 3370, 3381, 3383, 3398, 3409, 3410, 3411, 3412, 3417, 3419,\n",
            "       3423, 3426, 3430, 3431, 3434, 3438, 3444, 3450, 3457, 3460, 3462,\n",
            "       3466, 3468, 3475, 3482, 3487, 3488, 3491, 3492, 3493, 3494, 3496,\n",
            "       3511, 3512, 3513, 3514, 3515, 3519, 3526, 3532, 3544, 3545, 3548,\n",
            "       3565, 3570, 3574, 3576, 3580, 3584, 3585, 3588, 3593, 3596, 3600,\n",
            "       3601, 3607, 3611, 3613, 3618, 3620, 3624, 3626, 3632, 3633, 3638,\n",
            "       3640, 3648, 3653, 3654, 3657, 3662, 3664, 3665, 3669, 3674, 3675,\n",
            "       3679, 3685, 3694, 3695, 3699, 3708, 3713, 3724, 3730, 3733, 3736,\n",
            "       3737, 3741, 3747, 3751, 3753, 3755, 3769, 3770, 3781, 3783, 3789,\n",
            "       3792, 3794, 3795, 3800, 3803, 3805, 3809, 3811, 3813, 3816, 3818,\n",
            "       3823, 3826, 3831, 3842, 3845, 3846, 3854, 3857, 3860, 3863, 3866,\n",
            "       3867, 3870, 3878, 3884, 3886, 3887, 3890, 3901, 3908, 3912, 3919,\n",
            "       3920, 3926, 3928, 3932, 3947, 3948, 3966, 3968, 3973, 3976, 3977,\n",
            "       3978, 3985, 3987, 3988, 3996, 3997, 4001, 4004, 4005, 4006, 4009,\n",
            "       4012, 4013, 4015, 4016, 4018, 4024, 4025, 4027, 4030, 4034, 4036,\n",
            "       4043, 4044, 4051, 4053, 4060, 4070, 4071, 4079, 4081, 4082, 4086,\n",
            "       4088, 4089, 4096, 4102, 4107, 4111, 4112, 4113, 4116, 4117, 4123,\n",
            "       4132, 4135, 4143, 4146, 4149, 4154, 4155, 4156, 4166, 4170, 4178,\n",
            "       4179, 4181, 4186, 4197, 4205, 4209, 4214, 4223, 4225, 4228, 4231,\n",
            "       4233, 4234, 4239, 4244, 4246, 4247, 4253, 4254, 4265, 4266, 4268,\n",
            "       4272, 4278, 4279, 4282, 4284, 4288, 4289, 4292, 4294, 4295, 4301,\n",
            "       4311, 4313, 4315, 4316, 4327, 4329, 4332, 4334, 4336, 4339, 4341,\n",
            "       4344, 4351, 4368, 4369, 4371, 4372, 4377, 4381, 4382, 4384, 4386,\n",
            "       4387, 4401, 4402, 4405, 4413, 4419, 4424, 4427, 4431, 4433, 4434,\n",
            "       4435, 4442, 4445, 4448, 4450, 4451, 4453, 4456, 4460, 4461, 4464,\n",
            "       4466, 4469, 4472, 4473, 4478, 4479, 4481, 4485, 4488, 4489, 4490,\n",
            "       4491, 4493, 4495, 4496, 4498, 4506, 4514, 4517, 4518, 4520, 4528,\n",
            "       4530, 4533, 4539, 4544, 4546, 4547, 4551, 4552, 4570, 4575, 4578,\n",
            "       4580, 4581, 4586, 4587, 4596, 4599, 4604, 4613, 4615, 4617, 4621,\n",
            "       4638, 4650, 4652, 4655, 4657, 4659, 4662, 4663, 4669, 4670, 4672,\n",
            "       4675, 4679, 4680, 4683, 4685, 4689, 4692, 4693, 4698, 4704, 4705,\n",
            "       4712, 4713, 4714, 4717, 4725, 4726, 4737, 4747, 4748, 4753, 4757,\n",
            "       4759, 4769, 4778, 4781, 4785, 4792, 4795, 4797, 4800, 4803, 4807,\n",
            "       4812, 4813, 4821, 4840, 4844, 4851, 4859, 4860, 4876, 4881, 4883,\n",
            "       4888, 4894, 4897, 4902, 4910, 4911, 4912, 4913, 4914, 4916, 4918,\n",
            "       4923, 4924, 4926, 4928, 4932, 4934, 4941, 4945, 4947, 4950, 4955,\n",
            "       4957, 4958, 4973, 4974, 4975, 4977, 4978, 4982, 4983, 4992, 4993,\n",
            "       4999, 5001, 5009, 5010, 5012, 5013, 5021, 5024, 5029, 5031, 5032,\n",
            "       5043, 5045, 5047, 5052, 5068, 5070, 5071, 5080, 5081, 5084, 5085,\n",
            "       5087, 5090, 5096, 5103, 5105, 5112, 5114, 5119, 5120, 5127, 5131,\n",
            "       5132, 5149, 5154, 5155, 5156, 5161, 5164, 5183, 5185, 5188, 5191,\n",
            "       5193, 5195, 5201, 5203, 5213, 5214, 5217, 5218, 5219, 5221, 5227,\n",
            "       5228, 5237, 5240, 5248, 5249, 5250, 5251, 5255, 5258, 5261, 5294,\n",
            "       5296, 5299, 5307, 5309, 5311, 5312, 5315, 5319, 5321, 5331, 5333,\n",
            "       5335, 5340, 5344, 5346, 5351, 5355, 5356, 5358, 5379, 5385, 5388,\n",
            "       5397, 5398, 5405, 5406, 5421, 5422, 5425, 5426, 5427, 5428, 5430,\n",
            "       5442, 5445, 5453, 5455, 5456, 5459, 5461, 5479, 5484, 5485, 5489,\n",
            "       5501, 5504, 5506, 5512, 5520, 5523, 5527, 5533, 5539, 5558, 5560,\n",
            "       5561, 5562, 5567, 5572, 5576, 5578, 5583, 5589, 5601, 5615, 5616,\n",
            "       5617, 5618, 5621, 5624, 5632, 5635, 5637, 5644, 5645, 5652, 5663,\n",
            "       5669, 5673, 5679, 5685, 5692, 5694, 5698, 5699, 5706, 5709, 5710,\n",
            "       5714, 5717, 5720, 5724, 5725, 5728, 5733, 5735, 5743, 5764, 5770,\n",
            "       5778, 5783, 5791, 5792, 5794, 5795, 5796, 5797, 5799, 5800, 5804,\n",
            "       5819, 5820, 5822, 5823, 5827, 5835, 5837, 5838, 5840, 5842, 5845,\n",
            "       5852, 5853, 5865, 5869, 5875, 5887, 5890, 5895, 5896, 5899, 5909,\n",
            "       5910, 5918, 5921, 5922, 5930, 5932, 5936, 5937, 5938, 5940, 5942,\n",
            "       5946, 5947, 5949, 5956, 5964, 5968, 5974, 5977, 5984, 5987, 5991,\n",
            "       5995, 6002, 6004, 6005, 6009, 6014, 6017, 6018, 6019, 6026, 6028,\n",
            "       6031, 6045, 6047, 6050, 6051, 6060, 6061, 6067, 6075, 6077, 6080,\n",
            "       6081, 6084, 6091, 6092, 6094, 6095, 6098, 6103, 6105, 6117, 6120,\n",
            "       6124, 6134, 6138, 6141, 6145, 6152, 6155, 6156, 6158, 6159, 6168,\n",
            "       6176, 6182, 6188, 6190, 6191, 6193, 6197, 6199, 6202, 6203, 6205,\n",
            "       6212, 6213, 6220, 6221, 6229, 6237, 6238, 6241, 6242, 6245, 6246,\n",
            "       6247, 6251, 6252, 6254, 6255, 6257, 6258, 6261, 6269, 6275, 6279,\n",
            "       6285, 6286, 6292, 6300, 6311, 6314, 6316, 6328, 6330, 6331, 6332,\n",
            "       6337, 6340, 6344, 6348, 6349, 6352, 6354, 6359, 6365, 6367, 6368,\n",
            "       6376, 6379, 6384, 6386, 6387, 6390, 6392, 6394, 6395, 6396, 6401,\n",
            "       6411, 6412, 6414, 6425, 6432, 6434, 6439, 6443, 6446, 6447, 6451,\n",
            "       6452, 6453, 6455, 6457, 6459, 6466, 6470, 6486, 6499, 6507, 6510,\n",
            "       6515, 6521, 6522, 6523, 6527, 6528, 6538, 6539, 6543, 6546, 6547,\n",
            "       6548, 6550, 6554, 6557, 6560, 6562, 6565, 6567, 6573, 6585, 6586,\n",
            "       6588, 6590, 6593, 6598, 6603, 6604, 6605, 6608, 6614, 6617, 6620,\n",
            "       6628, 6630, 6634, 6635, 6637, 6643, 6645, 6655, 6660, 6671, 6674,\n",
            "       6675, 6676, 6682, 6687, 6688, 6690, 6697, 6698, 6700, 6705, 6709,\n",
            "       6714, 6722, 6723, 6725, 6733, 6736, 6742, 6743, 6757, 6759, 6761,\n",
            "       6763, 6767, 6772, 6776, 6777, 6779, 6780, 6781, 6782, 6787, 6790,\n",
            "       6794, 6797, 6799, 6802, 6804, 6809, 6814, 6820, 6822, 6828, 6833,\n",
            "       6835, 6837, 6850, 6855, 6863, 6864, 6866, 6867, 6869, 6871, 6874,\n",
            "       6881, 6883, 6885, 6894, 6896, 6898, 6904, 6905, 6911, 6923, 6926,\n",
            "       6927, 6929, 6932, 6933, 6937, 6941, 6945, 6950, 6953, 6958, 6960,\n",
            "       6967, 6968, 6973, 6976, 6978, 6980, 6981, 6983, 6984, 6986, 6989,\n",
            "       6991, 6992, 6994, 7007, 7008, 7013, 7015, 7016, 7018, 7019, 7021,\n",
            "       7026, 7032, 7033, 7036, 7049, 7050, 7052, 7055, 7057, 7058, 7063,\n",
            "       7064, 7073, 7081, 7086, 7093, 7096, 7104, 7105, 7111, 7112, 7116,\n",
            "       7119, 7125, 7133, 7137, 7139, 7140, 7143, 7146, 7155, 7159, 7160,\n",
            "       7162, 7166, 7170, 7173, 7182, 7183, 7184, 7196, 7209, 7210, 7218,\n",
            "       7220, 7224, 7225, 7226, 7230, 7232, 7236, 7238, 7248, 7249, 7252,\n",
            "       7255, 7258, 7264, 7267, 7269, 7270, 7271, 7277, 7280, 7291, 7293,\n",
            "       7294, 7303, 7305, 7313, 7318, 7319, 7320, 7321, 7322, 7325, 7332,\n",
            "       7335, 7340, 7347, 7351, 7353, 7354, 7363, 7370, 7371, 7372, 7373,\n",
            "       7382, 7389, 7397, 7400, 7405, 7411, 7414, 7417, 7418, 7420, 7426,\n",
            "       7427, 7429, 7433, 7435, 7439, 7444, 7445, 7446, 7448, 7455, 7459,\n",
            "       7462, 7466, 7467, 7470, 7474, 7479, 7484, 7487, 7488, 7492, 7495,\n",
            "       7503, 7507, 7513, 7517, 7522, 7523, 7528, 7532, 7534, 7539, 7552,\n",
            "       7555, 7557, 7562, 7564, 7567, 7568, 7570, 7572, 7576, 7578, 7583,\n",
            "       7591, 7600, 7616, 7620, 7623, 7629, 7631, 7638, 7644, 7647, 7648,\n",
            "       7649, 7654, 7659, 7662, 7666, 7667, 7669, 7670, 7678, 7679, 7685,\n",
            "       7690, 7701, 7706, 7708, 7722, 7727, 7732, 7733, 7740, 7749, 7752,\n",
            "       7753, 7754, 7761, 7765, 7766, 7771, 7772, 7775, 7777, 7780, 7781,\n",
            "       7784, 7787, 7791, 7792, 7795, 7798, 7801, 7804, 7805, 7822, 7828,\n",
            "       7830, 7851, 7857, 7860, 7872, 7873, 7883, 7885, 7889, 7891, 7896,\n",
            "       7898, 7903, 7908, 7911, 7914, 7916, 7917, 7918, 7920, 7921, 7927,\n",
            "       7932, 7933, 7936, 7937, 7938, 7944, 7948, 7956, 7958, 7970, 7976,\n",
            "       7977, 7982, 7983, 7986, 7991, 8006, 8012, 8014, 8015, 8017, 8028,\n",
            "       8031, 8033, 8042, 8049, 8051, 8057, 8058, 8062, 8064, 8076, 8078,\n",
            "       8082, 8085, 8088, 8109, 8116, 8124, 8126, 8136, 8150, 8151, 8153,\n",
            "       8160, 8163, 8164, 8165, 8175, 8179, 8187, 8190, 8199, 8207, 8212,\n",
            "       8215, 8216, 8219, 8223, 8225, 8228, 8230, 8231, 8232, 8235, 8236,\n",
            "       8237, 8239, 8241, 8243, 8248, 8260, 8265, 8272, 8277, 8286, 8290,\n",
            "       8293, 8298, 8302, 8310, 8313, 8321, 8323, 8324, 8329, 8331, 8332,\n",
            "       8335, 8338, 8344, 8348, 8354, 8360, 8363, 8369, 8370, 8371, 8374,\n",
            "       8375, 8378, 8385, 8390, 8392, 8395, 8404, 8410, 8419, 8420, 8429,\n",
            "       8436, 8439, 8443, 8446, 8447, 8453, 8455, 8459, 8460, 8461, 8462,\n",
            "       8464, 8465, 8469, 8472, 8478, 8484, 8487, 8495, 8498, 8499, 8501,\n",
            "       8502, 8505, 8521, 8524, 8525, 8526, 8529, 8531, 8538, 8539, 8543,\n",
            "       8546, 8547, 8548, 8549, 8555, 8558, 8562, 8563, 8566, 8567, 8568,\n",
            "       8570, 8576, 8580, 8589, 8590, 8593, 8610, 8618, 8621, 8637, 8639,\n",
            "       8643, 8646, 8650, 8651, 8653, 8665, 8677, 8682, 8692, 8698, 8699,\n",
            "       8701, 8705, 8708, 8722, 8725, 8727, 8732, 8745, 8747, 8749, 8758,\n",
            "       8761, 8762, 8763, 8767, 8775, 8776, 8789, 8794, 8798, 8803, 8805,\n",
            "       8806, 8807, 8810, 8812, 8839, 8842, 8850, 8854, 8860, 8862, 8870,\n",
            "       8883, 8887, 8888, 8897, 8904, 8906, 8907, 8912, 8916, 8918, 8920,\n",
            "       8931, 8944, 8949, 8951, 8956, 8957, 8959, 8966, 8968, 8970, 8972,\n",
            "       8978, 8987, 8989, 8993, 8998, 8999, 9000, 9001, 9006, 9011, 9018,\n",
            "       9019, 9022, 9025, 9028, 9031, 9037, 9046, 9053, 9054, 9065, 9071,\n",
            "       9074, 9080, 9081, 9087, 9089, 9090, 9092, 9104, 9106, 9110, 9127,\n",
            "       9134, 9136, 9146, 9151, 9163, 9165, 9173, 9175, 9181, 9182, 9190,\n",
            "       9191, 9192, 9195, 9197, 9221, 9222, 9225, 9228, 9232, 9233, 9234,\n",
            "       9237, 9239, 9242, 9255, 9257, 9266, 9271, 9276, 9279, 9281, 9284,\n",
            "       9291, 9292, 9307, 9308, 9310, 9313, 9316, 9324, 9326, 9327, 9343,\n",
            "       9344, 9345, 9346, 9348, 9355, 9357, 9368, 9372, 9377, 9379, 9382,\n",
            "       9400, 9401, 9402, 9403, 9417, 9422, 9430, 9434, 9440, 9448, 9449,\n",
            "       9453, 9457, 9461, 9469, 9472, 9478, 9481, 9482, 9483, 9486, 9487,\n",
            "       9491, 9496, 9510, 9512, 9521, 9522, 9525, 9540, 9544, 9549, 9551,\n",
            "       9557, 9563, 9569, 9571, 9572, 9574, 9576, 9587, 9588, 9589, 9593,\n",
            "       9595, 9600, 9603, 9606, 9609, 9611, 9613, 9621, 9624, 9627, 9628,\n",
            "       9631, 9636, 9637, 9639, 9640, 9644, 9647, 9648, 9656, 9672, 9677,\n",
            "       9679, 9686, 9687, 9694, 9703, 9707, 9715, 9719, 9727, 9730, 9731,\n",
            "       9734, 9735, 9737, 9738, 9740, 9743, 9748, 9751, 9752, 9755, 9761,\n",
            "       9762, 9763, 9766, 9767, 9769, 9775, 9778, 9779, 9784, 9791, 9811,\n",
            "       9814, 9821, 9832, 9834, 9836, 9841, 9842, 9845, 9853, 9855, 9857,\n",
            "       9862, 9863, 9867, 9872, 9874, 9879, 9880, 9886, 9887, 9888, 9889,\n",
            "       9892, 9894, 9901, 9902, 9908, 9922, 9925, 9926, 9927, 9932, 9942,\n",
            "       9944, 9945, 9946, 9964, 9965, 9976, 9977, 9983, 9994, 9995, 9996,\n",
            "       9997]),)\n",
            "Matched draws\n",
            "Count: 93, Index: (array([   6,   22,   44,  217,  397,  437,  511,  558,  628,  761,  767,\n",
            "        791,  904,  956,  977,  994, 1010, 1081, 1130, 1144, 1218, 1232,\n",
            "       1252, 1314, 1381, 1387, 1472, 1495, 1552, 1661, 1815, 1904, 2044,\n",
            "       2133, 2588, 2631, 2663, 2785, 2962, 2976, 2998, 3040, 3222, 3596,\n",
            "       3669, 3795, 3867, 3919, 3947, 4071, 4135, 4336, 4613, 4663, 4902,\n",
            "       4992, 5031, 5228, 5501, 6005, 6124, 6238, 6251, 6257, 6590, 6780,\n",
            "       6804, 6883, 6894, 6932, 6986, 7036, 7052, 7073, 7159, 7252, 7340,\n",
            "       7351, 7389, 7523, 7761, 7801, 7851, 8064, 8179, 8298, 8419, 9018,\n",
            "       9134, 9525, 9569, 9600, 9927]),)\n"
          ],
          "name": "stdout"
        },
        {
          "output_type": "display_data",
          "data": {
            "text/html": [
              "<div>\n",
              "<style scoped>\n",
              "    .dataframe tbody tr th:only-of-type {\n",
              "        vertical-align: middle;\n",
              "    }\n",
              "\n",
              "    .dataframe tbody tr th {\n",
              "        vertical-align: top;\n",
              "    }\n",
              "\n",
              "    .dataframe thead th {\n",
              "        text-align: right;\n",
              "    }\n",
              "</style>\n",
              "<table border=\"1\" class=\"dataframe\">\n",
              "  <thead>\n",
              "    <tr style=\"text-align: right;\">\n",
              "      <th></th>\n",
              "      <th>DrawNo</th>\n",
              "      <th>DrawDate</th>\n",
              "      <th>PrizeType</th>\n",
              "      <th>LuckyNo</th>\n",
              "    </tr>\n",
              "  </thead>\n",
              "  <tbody>\n",
              "    <tr>\n",
              "      <th>104562</th>\n",
              "      <td>495419</td>\n",
              "      <td>2019-06-01</td>\n",
              "      <td>ConsolationNo10</td>\n",
              "      <td>4336</td>\n",
              "    </tr>\n",
              "    <tr>\n",
              "      <th>104571</th>\n",
              "      <td>495419</td>\n",
              "      <td>2019-06-01</td>\n",
              "      <td>SpecialNo1</td>\n",
              "      <td>511</td>\n",
              "    </tr>\n",
              "    <tr>\n",
              "      <th>104576</th>\n",
              "      <td>495419</td>\n",
              "      <td>2019-06-01</td>\n",
              "      <td>SpecialNo5</td>\n",
              "      <td>1661</td>\n",
              "    </tr>\n",
              "    <tr>\n",
              "      <th>104586</th>\n",
              "      <td>495519</td>\n",
              "      <td>2019-06-02</td>\n",
              "      <td>ConsolationNo2</td>\n",
              "      <td>6124</td>\n",
              "    </tr>\n",
              "    <tr>\n",
              "      <th>104592</th>\n",
              "      <td>495519</td>\n",
              "      <td>2019-06-02</td>\n",
              "      <td>ConsolationNo8</td>\n",
              "      <td>2663</td>\n",
              "    </tr>\n",
              "    <tr>\n",
              "      <th>...</th>\n",
              "      <td>...</td>\n",
              "      <td>...</td>\n",
              "      <td>...</td>\n",
              "      <td>...</td>\n",
              "    </tr>\n",
              "    <tr>\n",
              "      <th>104894</th>\n",
              "      <td>496819</td>\n",
              "      <td>2019-06-30</td>\n",
              "      <td>SpecialNo10</td>\n",
              "      <td>2588</td>\n",
              "    </tr>\n",
              "    <tr>\n",
              "      <th>104895</th>\n",
              "      <td>496819</td>\n",
              "      <td>2019-06-30</td>\n",
              "      <td>SpecialNo2</td>\n",
              "      <td>3867</td>\n",
              "    </tr>\n",
              "    <tr>\n",
              "      <th>104898</th>\n",
              "      <td>496819</td>\n",
              "      <td>2019-06-30</td>\n",
              "      <td>SpecialNo5</td>\n",
              "      <td>4613</td>\n",
              "    </tr>\n",
              "    <tr>\n",
              "      <th>104899</th>\n",
              "      <td>496819</td>\n",
              "      <td>2019-06-30</td>\n",
              "      <td>SpecialNo6</td>\n",
              "      <td>5501</td>\n",
              "    </tr>\n",
              "    <tr>\n",
              "      <th>104900</th>\n",
              "      <td>496819</td>\n",
              "      <td>2019-06-30</td>\n",
              "      <td>SpecialNo7</td>\n",
              "      <td>628</td>\n",
              "    </tr>\n",
              "  </tbody>\n",
              "</table>\n",
              "<p>95 rows × 4 columns</p>\n",
              "</div>"
            ],
            "text/plain": [
              "        DrawNo   DrawDate        PrizeType  LuckyNo\n",
              "104562  495419 2019-06-01  ConsolationNo10     4336\n",
              "104571  495419 2019-06-01       SpecialNo1      511\n",
              "104576  495419 2019-06-01       SpecialNo5     1661\n",
              "104586  495519 2019-06-02   ConsolationNo2     6124\n",
              "104592  495519 2019-06-02   ConsolationNo8     2663\n",
              "...        ...        ...              ...      ...\n",
              "104894  496819 2019-06-30      SpecialNo10     2588\n",
              "104895  496819 2019-06-30       SpecialNo2     3867\n",
              "104898  496819 2019-06-30       SpecialNo5     4613\n",
              "104899  496819 2019-06-30       SpecialNo6     5501\n",
              "104900  496819 2019-06-30       SpecialNo7      628\n",
              "\n",
              "[95 rows x 4 columns]"
            ]
          },
          "metadata": {
            "tags": []
          }
        },
        {
          "output_type": "stream",
          "text": [
            "CPU times: user 8min 38s, sys: 214 ms, total: 8min 38s\n",
            "Wall time: 2min 15s\n"
          ],
          "name": "stdout"
        }
      ]
    },
    {
      "cell_type": "code",
      "metadata": {
        "colab_type": "code",
        "id": "rV0niLRnfmsj",
        "colab": {}
      },
      "source": [
        "#normalized_fi = plot_feature_importances(june_2019)"
      ],
      "execution_count": 0,
      "outputs": []
    },
    {
      "cell_type": "code",
      "metadata": {
        "colab_type": "code",
        "id": "ucXb4eBFHNNl",
        "colab": {}
      },
      "source": [
        ""
      ],
      "execution_count": 0,
      "outputs": []
    }
  ]
}
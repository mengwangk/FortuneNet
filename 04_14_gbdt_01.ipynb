{
  "nbformat": 4,
  "nbformat_minor": 0,
  "metadata": {
    "kernelspec": {
      "display_name": "Python 3",
      "language": "python",
      "name": "python3"
    },
    "language_info": {
      "codemirror_mode": {
        "name": "ipython",
        "version": 3
      },
      "file_extension": ".py",
      "mimetype": "text/x-python",
      "name": "python",
      "nbconvert_exporter": "python",
      "pygments_lexer": "ipython3",
      "version": "3.7.6"
    },
    "colab": {
      "name": "04_14_gbdt_01.ipynb",
      "provenance": []
    }
  },
  "cells": [
    {
      "cell_type": "markdown",
      "metadata": {
        "id": "I7aG9jzGoP18",
        "colab_type": "text"
      },
      "source": [
        "# Machine Learning - CatBoost"
      ]
    },
    {
      "cell_type": "code",
      "metadata": {
        "id": "zlVvNIxToP1-",
        "colab_type": "code",
        "colab": {}
      },
      "source": [
        "from IPython.core.interactiveshell import InteractiveShell\n",
        "InteractiveShell.ast_node_interactivity = \"all\"\n",
        "\n",
        "%load_ext autoreload\n",
        "%autoreload 2"
      ],
      "execution_count": null,
      "outputs": []
    },
    {
      "cell_type": "code",
      "metadata": {
        "id": "UXQchcJCoP2E",
        "colab_type": "code",
        "colab": {}
      },
      "source": [
        "required_libs = [ (\"numpy\", \"numpy\"),\n",
        "                 (\"pandas\", \"pandas\"),\n",
        "                 (\"seaborn\", \"seaborn\"),\n",
        "                 (\"matplotlib\", \"matplotlib\"),\n",
        "                 (\"catboost\", \"catboost\"),\n",
        "                 (\"sklearn\", \"sklearn\"),\n",
        "                 (\"ipywidgets\", \"ipywidgets\"),\n",
        "                 (\"shap\", \"shap\"),\n",
        "                 (\"colorama\", \"colorama\"),\n",
        "                 (\"emoji\", \"emoji\")\n",
        "                ]"
      ],
      "execution_count": null,
      "outputs": []
    },
    {
      "cell_type": "code",
      "metadata": {
        "id": "Uyzk4kXYoP2J",
        "colab_type": "code",
        "colab": {}
      },
      "source": [
        "def is_lib_exists(name):\n",
        "    import importlib\n",
        "    lib = importlib.util.find_spec(name)\n",
        "    return lib is not None"
      ],
      "execution_count": null,
      "outputs": []
    },
    {
      "cell_type": "code",
      "metadata": {
        "id": "5SJ6r_j2oP2N",
        "colab_type": "code",
        "colab": {}
      },
      "source": [
        "for (clz,lib) in required_libs:\n",
        "    if not is_lib_exists(clz):\n",
        "        print(f\"Installing {lib}\")\n",
        "        !pip install {lib}\n",
        "    else:\n",
        "        print(f\"{lib} exists\")"
      ],
      "execution_count": null,
      "outputs": []
    },
    {
      "cell_type": "code",
      "metadata": {
        "id": "hRyT0uoNoP2Q",
        "colab_type": "code",
        "colab": {}
      },
      "source": [
        "COLAB = True\n",
        "\n",
        "DATASET_NAME = '4D.zip'\n",
        "\n",
        "FEATURE_DATASET_PREFIX = 'feature_matrix_d2_v3'"
      ],
      "execution_count": null,
      "outputs": []
    },
    {
      "cell_type": "code",
      "metadata": {
        "id": "zEbqmb8KoP2S",
        "colab_type": "code",
        "colab": {}
      },
      "source": [
        "import numpy as np\n",
        "import pandas as pd\n",
        "import seaborn as sns\n",
        "import matplotlib.pyplot as plt\n",
        "import calendar\n",
        "import traceback\n",
        "import catboost\n",
        "from pathlib import Path\n",
        "from dateutil.relativedelta import *\n",
        "from datetime import *\n",
        "from catboost import *\n",
        "from catboost import datasets\n",
        "from catboost import CatBoostClassifier\n",
        "from scipy import stats\n",
        "from scipy.stats.stats import pearsonr\n",
        "np.set_printoptions(precision=4)\n",
        "pd.options.display.max_columns = None"
      ],
      "execution_count": null,
      "outputs": []
    },
    {
      "cell_type": "code",
      "metadata": {
        "id": "C-7Jn85JoP2V",
        "colab_type": "code",
        "colab": {}
      },
      "source": [
        "%matplotlib inline\n",
        "%aimport"
      ],
      "execution_count": null,
      "outputs": []
    },
    {
      "cell_type": "code",
      "metadata": {
        "id": "bRRyrDnzoP2a",
        "colab_type": "code",
        "colab": {}
      },
      "source": [
        "from IPython.display import display"
      ],
      "execution_count": null,
      "outputs": []
    },
    {
      "cell_type": "code",
      "metadata": {
        "id": "WQ16s9UjoP2d",
        "colab_type": "code",
        "colab": {}
      },
      "source": [
        "# check catboost version\n",
        "print(catboost.__version__)\n",
        "!python --version"
      ],
      "execution_count": null,
      "outputs": []
    },
    {
      "cell_type": "code",
      "metadata": {
        "id": "yGhSyyL2pSHj",
        "colab_type": "code",
        "colab": {}
      },
      "source": [
        "# colab setup\n",
        "if COLAB:\n",
        "  !rm -rf dl-projects\n",
        "  !git clone https://github.com/mengwangk/dl-projects\n",
        "  \n",
        "  !cp dl-projects/utils* .\n",
        "  !cp dl-projects/preprocess* .\n",
        "  !cp dl-projects/plot* .\n",
        "  \n",
        "  from google.colab import drive\n",
        "  drive.mount('/content/gdrive')\n",
        "  GDRIVE_DATASET_FOLDER = Path('gdrive/My Drive/datasets/')\n",
        "  DATASET_PATH = GDRIVE_DATASET_FOLDER\n",
        "  ORIGIN_DATASET_PATH = Path('dl-projects/datasets')\n",
        "  !ls -l gdrive/\"My Drive\"/datasets/ --block-size=M\n",
        "\n",
        "DATASET = DATASET_PATH/f\"{FEATURE_DATASET_PREFIX}.ft\"\n",
        "ORIGIN_DATASET = ORIGIN_DATASET_PATH/DATASET_NAME"
      ],
      "execution_count": null,
      "outputs": []
    },
    {
      "cell_type": "markdown",
      "metadata": {
        "id": "gvnr5KFJoP2f",
        "colab_type": "text"
      },
      "source": [
        "## EDA"
      ]
    },
    {
      "cell_type": "code",
      "metadata": {
        "id": "ZV-CiR4Yrb7m",
        "colab_type": "code",
        "colab": {}
      },
      "source": [
        "from preprocess import *\n",
        "from utils import feature_selection, plot_feature_importances\n",
        "from plot import plot_correlation_matrix, plot_labeled_scatter"
      ],
      "execution_count": null,
      "outputs": []
    },
    {
      "cell_type": "code",
      "metadata": {
        "id": "OTuQ19LcpP0L",
        "colab_type": "code",
        "colab": {}
      },
      "source": [
        "data = pd.read_feather(DATASET)\n",
        "origin_data = format_tabular(ORIGIN_DATASET)"
      ],
      "execution_count": null,
      "outputs": []
    },
    {
      "cell_type": "code",
      "metadata": {
        "id": "NznUjX3ppQeG",
        "colab_type": "code",
        "colab": {}
      },
      "source": [
        "jan_2020 = pd.read_feather(DATASET_PATH/f\"feature_matrix_2020_jan.ft\")\n",
        "feb_2020 = pd.read_feather(DATASET_PATH/f\"feature_matrix_2020_feb.ft\")\n",
        "mar_2020 = pd.read_feather(DATASET_PATH/f\"feature_matrix_2020_mar.ft\")\n",
        "apr_2020 = pd.read_feather(DATASET_PATH/f\"feature_matrix_2020_apr.ft\")\n",
        "may_2020 = pd.read_feather(DATASET_PATH/f\"feature_matrix_2020_may.ft\")\n",
        "jun_2020 = pd.read_feather(DATASET_PATH/f\"feature_matrix_2020_jun.ft\")\n",
        "jul_2020 = pd.read_feather(DATASET_PATH/f\"feature_matrix_2020_jul.ft\")"
      ],
      "execution_count": null,
      "outputs": []
    },
    {
      "cell_type": "code",
      "metadata": {
        "id": "Z4nQM7SkxbTM",
        "colab_type": "code",
        "colab": {}
      },
      "source": [
        "new_data = data.append(jan_2020[data.columns],ignore_index=True)\n",
        "new_data = new_data.append(feb_2020[data.columns],ignore_index=True)\n",
        "new_data = new_data.append(mar_2020[data.columns],ignore_index=True)\n",
        "new_data = new_data.append(apr_2020[data.columns],ignore_index=True)\n",
        "new_data = new_data.append(may_2020[data.columns],ignore_index=True)\n",
        "new_data = new_data.append(jun_2020[data.columns],ignore_index=True)\n",
        "new_data = new_data.append(jul_2020[data.columns],ignore_index=True)\n",
        "data.shape, new_data.shape "
      ],
      "execution_count": null,
      "outputs": []
    },
    {
      "cell_type": "code",
      "metadata": {
        "id": "6fcS0WHNF84G",
        "colab_type": "code",
        "colab": {}
      },
      "source": [
        "data = new_data"
      ],
      "execution_count": null,
      "outputs": []
    },
    {
      "cell_type": "code",
      "metadata": {
        "id": "P21A_rqdF_SP",
        "colab_type": "code",
        "colab": {}
      },
      "source": [
        "data.isna().sum().sort_values(ascending=False)"
      ],
      "execution_count": null,
      "outputs": []
    },
    {
      "cell_type": "code",
      "metadata": {
        "id": "ifvYMCzTGY6X",
        "colab_type": "code",
        "colab": {}
      },
      "source": [
        "data.info(max_cols=500, null_counts=True)\n",
        "#data.columns.tolist()"
      ],
      "execution_count": null,
      "outputs": []
    },
    {
      "cell_type": "code",
      "metadata": {
        "id": "hwDc-KVoGaG1",
        "colab_type": "code",
        "colab": {}
      },
      "source": [
        "feature_matrix = data\n",
        "feature_matrix = data.fillna(0)\n",
        "feature_matrix.sort_values(by=['time', 'MAX(Results.LuckyNo)'], inplace=True)\n",
        "feature_matrix.head(20)"
      ],
      "execution_count": null,
      "outputs": []
    },
    {
      "cell_type": "code",
      "metadata": {
        "id": "gg7SIK0XLaDx",
        "colab_type": "code",
        "colab": {}
      },
      "source": [
        "from sklearn.feature_selection import SelectKBest\n",
        "from sklearn.feature_selection import f_classif, chi2, f_regression\n",
        "\n",
        "other_features = ['Label', 'NumberId', 'time', 'TotalStrike',  'month', 'year']\n",
        "#feature_matrix = feature_selection(data)\n",
        "\n",
        "def select_features(df, func=f_regression):\n",
        "  X = df.drop(columns=other_features)\n",
        "  y = df.Label\n",
        "  fs = SelectKBest(score_func=func, k=50)\n",
        "  X_selected = fs.fit_transform(X, y)\n",
        "  mask = fs.get_support()\n",
        "  return X.columns[mask]\n",
        "\n",
        "def reduce_features(df, lower_threshold=10, upper_threshold=10000):\n",
        "  cols_to_drop = []\n",
        "  for col in df.columns:\n",
        "    if df[col].nunique() > upper_threshold or df[col].nunique() < lower_threshold:\n",
        "      cols_to_drop.append(col)\n",
        "  print(cols_to_drop)\n",
        "  return cols_to_drop, dfdrop(columns=cols_to_drop)\n",
        "\n",
        "def show_variations(df):\n",
        "  pass\n"
      ],
      "execution_count": null,
      "outputs": []
    },
    {
      "cell_type": "code",
      "metadata": {
        "id": "fKOtH50PMPBe",
        "colab_type": "code",
        "colab": {}
      },
      "source": [
        "# import gc\n",
        "\n",
        "#features = select_features(feature_matrix)\n",
        "#numerical_features = features.to_list()\n",
        "\n",
        "#gc.collect()\n",
        "\n",
        "#features = select_features(feature_matrix, func=f_classif)\n",
        "#numerical_features =  features.to_list()\n",
        "\n",
        "#features = feature_selection(feature_matrix.drop(columns=other_features))\n",
        "#numerical_features = features.columns.to_list()  \n",
        "\n",
        "#features = feature_selection(feature_matrix.drop(columns=other_features))\n",
        "#numerical_features = numerical_features + features.columns.to_list()  \n",
        "\n",
        "#numerical_features = ['MAX(Results.CUM_SUM(DrawNo))', 'LAST(Results.CUM_SUM(DrawNo))', 'CUM_MEAN(MEAN(Results.DrawNo))', 'CUM_MEAN(LAST(Results.DrawNo))', 'CUM_MEAN(MAX(Results.DrawNo))', 'CUM_MEAN(COUNT(Results))', 'CUM_MEAN(SUM(Results.LuckyNo))', 'CUM_MEAN(STD(Results.DrawNo))', 'CUM_MEAN(SUM(Results.TotalStrike))', 'CUM_MEAN(SUM(Results.DrawNo))']"
      ],
      "execution_count": null,
      "outputs": []
    },
    {
      "cell_type": "code",
      "metadata": {
        "id": "Trquu1WUfxY5",
        "colab_type": "code",
        "colab": {}
      },
      "source": [
        "#selected_features = other_features + numerical_features\n",
        "selected_features = feature_matrix.columns.to_list()\n",
        "display(len(selected_features), selected_features)"
      ],
      "execution_count": null,
      "outputs": []
    },
    {
      "cell_type": "code",
      "metadata": {
        "id": "C387QlBkPyE5",
        "colab_type": "code",
        "colab": {}
      },
      "source": [
        "df_selected_features = feature_matrix[selected_features]"
      ],
      "execution_count": null,
      "outputs": []
    },
    {
      "cell_type": "code",
      "metadata": {
        "id": "idW_WF_Bcddg",
        "colab_type": "code",
        "colab": {}
      },
      "source": [
        "def split_data(df, dt):\n",
        "  y_train = df.loc[df['time'] < dt, 'Label']\n",
        "  y_validation = df.loc[df['time'] == dt, 'Label']\n",
        "\n",
        "  X_train = df[df['time'] < dt].drop(columns = ['NumberId', 'time', 'Label', 'TotalStrike', 'year'])\n",
        "  X_validation = df[df['time'] == dt].drop(columns = ['NumberId', 'time', 'Label', 'TotalStrike', 'year'])\n",
        "\n",
        "  # Reduce by standard deviation\n",
        "  X_train = X_train.loc[:, X_train.std() > .0]\n",
        "  X_validation = X_validation[X_train.columns]\n",
        "\n",
        "  # Reduce by number of distinct values\n",
        "  #cols, X_train = reduce_features(X_train)\n",
        "  #X_validation = X_validation.drop(columns=cols)\n",
        "  \n",
        "  return X_train, X_validation, y_train, y_validation\n",
        " "
      ],
      "execution_count": null,
      "outputs": []
    },
    {
      "cell_type": "code",
      "metadata": {
        "id": "3zKM2ACMPAtG",
        "colab_type": "code",
        "colab": {}
      },
      "source": [
        "TARGET_MONTH = datetime(2020,1,1)\n",
        "\n",
        "X_train, X_validation, y_train, y_validation = split_data(df_selected_features, TARGET_MONTH)\n",
        "X_train.shape, X_validation.shape, y_train.shape, y_validation.shape"
      ],
      "execution_count": null,
      "outputs": []
    },
    {
      "cell_type": "code",
      "metadata": {
        "id": "GbqgNFMO9us1",
        "colab_type": "code",
        "colab": {}
      },
      "source": [
        "#df_test = X_train.loc[:, X_train.std() > .0]\n",
        "#df_test.columns\n",
        "import pandas as pd\n",
        "import numpy as np\n",
        "from sklearn.model_selection import train_test_split\n",
        "from sklearn.feature_selection import VarianceThreshold\n",
        "\n",
        "def select_by_variance(threshold=0):\n",
        "  \"\"\"Select features by variance\"\"\"\n",
        "  filter = VarianceThreshold(threshold=threshold)\n",
        "  cols_to_drop = [column for column in train_features.columns\n",
        "                  if column not in train_features.columns[constant_filter.get_support()]]\n",
        "  print(len(cols_to_drop))\n"
      ],
      "execution_count": null,
      "outputs": []
    },
    {
      "cell_type": "code",
      "metadata": {
        "id": "Z_WD9tQy_1RK",
        "colab_type": "code",
        "colab": {}
      },
      "source": [
        ""
      ],
      "execution_count": null,
      "outputs": []
    },
    {
      "cell_type": "code",
      "metadata": {
        "id": "CPTB2h8-Gdm5",
        "colab_type": "code",
        "colab": {}
      },
      "source": [
        "# https://stackabuse.com/applying-filter-methods-in-python-for-feature-selection/\n"
      ],
      "execution_count": null,
      "outputs": []
    },
    {
      "cell_type": "code",
      "metadata": {
        "id": "YQx4PolfrdQT",
        "colab_type": "code",
        "colab": {}
      },
      "source": [
        "CAT_FEATURES = []\n",
        "for col in X_train.select_dtypes(include=['int64']).columns:\n",
        "  print(f\"{col}: Index - {X_train.columns.get_loc(col)}, Unique values - {X_train[col].nunique()}\")\n",
        "  if X_train[col].nunique() <= 200:\n",
        "    CAT_FEATURES.append(X_train.columns.get_loc(col))\n",
        "  \n",
        "#CAT_FEATURES = [0, 2, 3, 4, 8, 9, 10, 12, 13, 24, 26, 27, 34, 36, 46, 47, 48]\n",
        "#CAT_FEATURES = [2, 3, 4, 8, 10, 27, 34, 46, 47]\n",
        "CAT_FEATURES\n",
        "#X_train.select_dtypes(include=['int64']).columns"
      ],
      "execution_count": null,
      "outputs": []
    },
    {
      "cell_type": "code",
      "metadata": {
        "id": "xC8DMpzAs371",
        "colab_type": "code",
        "colab": {}
      },
      "source": [
        "pool_train = Pool(data=X_train, label=y_train, cat_features=CAT_FEATURES)"
      ],
      "execution_count": null,
      "outputs": []
    },
    {
      "cell_type": "code",
      "metadata": {
        "id": "qDRXyYj9IA2C",
        "colab_type": "code",
        "colab": {}
      },
      "source": [
        "# class weights\n",
        "class_weights = [ 1, y_train.value_counts()[0] / y_train.value_counts()[1] ]\n",
        "class_weights"
      ],
      "execution_count": null,
      "outputs": []
    },
    {
      "cell_type": "code",
      "metadata": {
        "id": "TdtcBvbzdV0F",
        "colab_type": "code",
        "colab": {}
      },
      "source": [
        "#help(CatBoostClassifier)"
      ],
      "execution_count": null,
      "outputs": []
    },
    {
      "cell_type": "code",
      "metadata": {
        "id": "CeCxQ4cOkNmE",
        "colab_type": "code",
        "colab": {}
      },
      "source": [
        "model = CatBoostClassifier(\n",
        "    iterations=100,\n",
        "    learning_rate=0.1,\n",
        "    loss_function=\"Logloss\",\n",
        "    class_weights=class_weights\n",
        ")\n",
        "model.fit(\n",
        "    X_train, y_train,\n",
        "    cat_features=CAT_FEATURES,\n",
        "    eval_set=(X_validation, y_validation),\n",
        "    plot=True\n",
        ")\n",
        "\n",
        "# - 0.6920349 (81) - selectkbest 50\n",
        "# - 0.6933487 (3)  - use all features\n",
        "# - 0.6924407 (90) - reduce_features\n",
        "# - 0.6929845 (3)  - std > 0.3"
      ],
      "execution_count": null,
      "outputs": []
    },
    {
      "cell_type": "code",
      "metadata": {
        "id": "Uue2VpxTwEj4",
        "colab_type": "code",
        "colab": {}
      },
      "source": [
        "from catboost.utils import get_roc_curve\n",
        "import sklearn\n",
        "from sklearn import metrics\n",
        "\n",
        "eval_pool = pool_train\n",
        "curve = get_roc_curve(model, eval_pool)\n",
        "(fpr, tpr, thresholds) = curve\n",
        "roc_auc = sklearn.metrics.auc(fpr, tpr)"
      ],
      "execution_count": null,
      "outputs": []
    },
    {
      "cell_type": "code",
      "metadata": {
        "id": "QMRN5yn7KFaz",
        "colab_type": "code",
        "colab": {}
      },
      "source": [
        "import matplotlib.pyplot as plt\n",
        "\n",
        "plt.figure(figsize=(16, 8))\n",
        "lw = 2\n",
        "\n",
        "plt.plot(fpr, tpr, color='darkorange',\n",
        "         lw=lw, label='ROC curve (area = %0.2f)' % roc_auc, alpha=0.5)\n",
        "\n",
        "plt.plot([0, 1], [0, 1], color='navy', lw=lw, linestyle='--', alpha=0.5)\n",
        "\n",
        "plt.xlim([0.0, 1.0])\n",
        "plt.ylim([0.0, 1.05])\n",
        "plt.xticks(fontsize=16)\n",
        "plt.yticks(fontsize=16)\n",
        "plt.grid(True)\n",
        "plt.xlabel('False Positive Rate', fontsize=16)\n",
        "plt.ylabel('True Positive Rate', fontsize=16)\n",
        "plt.title('Receiver operating characteristic', fontsize=20)\n",
        "plt.legend(loc=\"lower right\", fontsize=16)\n",
        "plt.show()"
      ],
      "execution_count": null,
      "outputs": []
    },
    {
      "cell_type": "code",
      "metadata": {
        "id": "9GliWHWnKF2a",
        "colab_type": "code",
        "colab": {}
      },
      "source": [
        "from catboost.utils import get_fpr_curve\n",
        "from catboost.utils import get_fnr_curve\n",
        "\n",
        "(thresholds, fpr) = get_fpr_curve(curve=curve)\n",
        "(thresholds, fnr) = get_fnr_curve(curve=curve)"
      ],
      "execution_count": null,
      "outputs": []
    },
    {
      "cell_type": "code",
      "metadata": {
        "id": "7N3tZsnpch38",
        "colab_type": "code",
        "colab": {}
      },
      "source": [
        "plt.figure(figsize=(16, 8))\n",
        "lw = 2\n",
        "\n",
        "plt.plot(thresholds, fpr, color='blue', lw=lw, label='FPR', alpha=0.5)\n",
        "plt.plot(thresholds, fnr, color='green', lw=lw, label='FNR', alpha=0.5)\n",
        "\n",
        "plt.xlim([0.0, 1.0])\n",
        "plt.ylim([0.0, 1.05])\n",
        "plt.xticks(fontsize=16)\n",
        "plt.yticks(fontsize=16)\n",
        "plt.grid(True)\n",
        "plt.xlabel('Threshold', fontsize=16)\n",
        "plt.ylabel('Error Rate', fontsize=16)\n",
        "plt.title('FPR-FNR curves', fontsize=20)\n",
        "plt.legend(loc=\"lower left\", fontsize=16)\n",
        "plt.show()"
      ],
      "execution_count": null,
      "outputs": []
    },
    {
      "cell_type": "code",
      "metadata": {
        "id": "us9yPpt8cht4",
        "colab_type": "code",
        "colab": {}
      },
      "source": [
        "from catboost.utils import select_threshold\n",
        "\n",
        "fnr_threshold = select_threshold(model=model, data=eval_pool, FNR=0.005)\n",
        "fpr_threshold = select_threshold(model=model, data=eval_pool, FPR=0.005)\n",
        "print(fnr_threshold)\n",
        "print(fpr_threshold)"
      ],
      "execution_count": null,
      "outputs": []
    },
    {
      "cell_type": "code",
      "metadata": {
        "id": "reqpppghchgy",
        "colab_type": "code",
        "colab": {}
      },
      "source": [
        "probas = model.predict_proba(data=X_validation)[:,1]\n",
        "preds = model.predict(data=X_validation)\n",
        "positive = np.where((preds==1))\n",
        "print(f'Total predicted to be positive: {len(positive[0])} \\n')\n",
        "\n",
        "print(\"Matched draws\\n\")\n",
        "matched_numbers = np.where((preds==1) & (y_validation ==1))\n",
        "print(f\"Count: {len(matched_numbers[0])},  {matched_numbers}\")\n",
        "\n",
        "print('\\n\\nAll matched')\n",
        "month_data = feature_matrix.loc[feature_matrix['time'] == TARGET_MONTH]\n",
        "numbers = month_data.iloc[matched_numbers[0]][['NumberId']]\n",
        "\n",
        "print(origin_data[(origin_data['DrawDate'].dt.year == TARGET_MONTH.year) & \n",
        "                    (origin_data['DrawDate'].dt.month == TARGET_MONTH.month) &  \n",
        "                    (origin_data['LuckyNo'].isin(numbers['NumberId']))].head(100))   \n",
        "print(f\"\\nAverage: {np.average(probas[positive])}\\n\")\n",
        "print(f\"Probas: {probas[positive]}\\n\")\n",
        "print(f\"Matched probas: {probas[matched_numbers]}\\n\")\n"
      ],
      "execution_count": null,
      "outputs": []
    },
    {
      "cell_type": "code",
      "metadata": {
        "id": "qKAKRn7HchLr",
        "colab_type": "code",
        "colab": {}
      },
      "source": [
        "probas_fpr = np.where(probas > fpr_threshold)\n",
        "total_draws = origin_data[(origin_data['DrawDate'].dt.year == TARGET_MONTH.year) & \n",
        "                    (origin_data['DrawDate'].dt.month == TARGET_MONTH.month)]['DrawDate'].nunique()\n",
        "print(f\"Total draws: {total_draws}\")                    \n",
        "print(f\" Total predicted: {len(probas_fpr[0])}\")\n",
        "print(probas_fpr)\n",
        "numbers = month_data.iloc[probas_fpr][['NumberId']]\n",
        "print(origin_data[(origin_data['DrawDate'].dt.year == TARGET_MONTH.year) & \n",
        "                    (origin_data['DrawDate'].dt.month == TARGET_MONTH.month) &  \n",
        "                    (origin_data['LuckyNo'].isin(numbers['NumberId']))].head(100))  "
      ],
      "execution_count": null,
      "outputs": []
    },
    {
      "cell_type": "code",
      "metadata": {
        "id": "OSal2518vrXc",
        "colab_type": "code",
        "colab": {}
      },
      "source": [
        "model.get_feature_importance(prettified=True)"
      ],
      "execution_count": null,
      "outputs": []
    },
    {
      "cell_type": "code",
      "metadata": {
        "id": "kafA2qdgenSP",
        "colab_type": "code",
        "colab": {}
      },
      "source": [
        "\"\"\"\n",
        "Class weight\n",
        "\n",
        "from sklearn.utils import class_weight\n",
        "cw = list(class_weight.compute_class_weight('balanced',\n",
        "                                             np.unique(df_train['Target']),\n",
        "                                             df_train['Target']))\n",
        "\"\"\"\n",
        "\n",
        "\"\"\"\n",
        "imbalanced-learn package\n",
        "\"\"\""
      ],
      "execution_count": null,
      "outputs": []
    },
    {
      "cell_type": "code",
      "metadata": {
        "id": "Eo0w6jFi8yRA",
        "colab_type": "code",
        "colab": {}
      },
      "source": [
        ""
      ],
      "execution_count": null,
      "outputs": []
    }
  ]
}
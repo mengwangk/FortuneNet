{
  "nbformat": 4,
  "nbformat_minor": 0,
  "metadata": {
    "colab": {
      "name": "lstm_s5.ipynb",
      "version": "0.3.2",
      "provenance": []
    },
    "language_info": {
      "codemirror_mode": {
        "name": "ipython",
        "version": 3
      },
      "file_extension": ".py",
      "mimetype": "text/x-python",
      "name": "python",
      "nbconvert_exporter": "python",
      "pygments_lexer": "ipython3",
      "version": "3.7.2"
    },
    "kernelspec": {
      "name": "python3",
      "display_name": "Python 3"
    },
    "accelerator": "GPU"
  },
  "cells": [
    {
      "cell_type": "code",
      "metadata": {
        "colab_type": "code",
        "id": "qgmH_sSq4gF0",
        "colab": {}
      },
      "source": [
        "# To support both python 2 and python 3\n",
        "from __future__ import division, print_function, unicode_literals\n",
        "\n",
        "# Common imports\n",
        "import numpy as np\n",
        "import os\n",
        "import pandas as pd\n",
        "import io\n",
        "\n",
        "from pathlib import Path\n",
        "\n",
        "# To plot pretty figures\n",
        "%matplotlib inline\n",
        "import matplotlib\n",
        "import matplotlib.pyplot as plt\n",
        "plt.rcParams['axes.labelsize'] = 14\n",
        "plt.rcParams['xtick.labelsize'] = 12\n",
        "plt.rcParams['ytick.labelsize'] = 12\n",
        "\n",
        "# Ignore useless warnings (see SciPy issue #5998)\n",
        "import warnings\n",
        "warnings.filterwarnings(action=\"ignore\", module=\"scipy\", message=\"^internal gelsd\")\n",
        "\n",
        "from IPython.display import display\n",
        "pd.options.display.max_columns = 50\n",
        "pd.options.display.html.table_schema = True"
      ],
      "execution_count": 0,
      "outputs": []
    },
    {
      "cell_type": "markdown",
      "metadata": {
        "colab_type": "text",
        "id": "bfqOe4xP4gF-"
      },
      "source": [
        "## Preprocessing"
      ]
    },
    {
      "cell_type": "code",
      "metadata": {
        "colab_type": "code",
        "id": "G6NSrtET4gF_",
        "outputId": "f53aae32-44df-468f-8e22-55fe49cfa0a4",
        "colab": {
          "base_uri": "https://localhost:8080/",
          "height": 577
        }
      },
      "source": [
        "#path = Path('datasets/stocks/mbb.csv')\n",
        "path = Path('mbb.csv')\n",
        "\n",
        "dataset = pd.read_csv(path, parse_dates=True)\n",
        "df = dataset.copy()\n",
        "df.rename(index=str, columns={\"Price\":\"Close\"}, inplace=True)\n",
        "df.head(10)\n",
        "\n",
        "# Convert the date column\n",
        "df['Date'] = pd.to_datetime(df['Date'])\n",
        "\n",
        "df.sort_values(by=['Date'], ascending=True, inplace=True)\n",
        "df.set_index(['Date'], inplace=True)    \n",
        "display(df.head(10))\n",
        "df.info()"
      ],
      "execution_count": 15,
      "outputs": [
        {
          "output_type": "display_data",
          "data": {
            "application/vnd.dataresource+json": {
              "data": [
                {
                  "Vol.": "12.92M",
                  "High": 9,
                  "Low": 8.69,
                  "Date": "2011-09-02T00:00:00.000Z",
                  "Close": 8.72,
                  "Open": 9,
                  "Change %": "0.00%"
                },
                {
                  "Vol.": "12.39M",
                  "High": 8.75,
                  "Low": 8.7,
                  "Date": "2011-09-05T00:00:00.000Z",
                  "Close": 8.73,
                  "Open": 8.72,
                  "Change %": "0.11%"
                },
                {
                  "Vol.": "11.48M",
                  "High": 8.72,
                  "Low": 8.68,
                  "Date": "2011-09-06T00:00:00.000Z",
                  "Close": 8.68,
                  "Open": 8.72,
                  "Change %": "-0.57%"
                },
                {
                  "Vol.": "5.73M",
                  "High": 8.7,
                  "Low": 8.64,
                  "Date": "2011-09-07T00:00:00.000Z",
                  "Close": 8.67,
                  "Open": 8.7,
                  "Change %": "-0.12%"
                },
                {
                  "Vol.": "4.69M",
                  "High": 8.74,
                  "Low": 8.67,
                  "Date": "2011-09-08T00:00:00.000Z",
                  "Close": 8.69,
                  "Open": 8.71,
                  "Change %": "0.23%"
                },
                {
                  "Vol.": "5.09M",
                  "High": 8.7,
                  "Low": 8.68,
                  "Date": "2011-09-09T00:00:00.000Z",
                  "Close": 8.69,
                  "Open": 8.7,
                  "Change %": "0.00%"
                },
                {
                  "Vol.": "8.59M",
                  "High": 8.68,
                  "Low": 8.55,
                  "Date": "2011-09-12T00:00:00.000Z",
                  "Close": 8.61,
                  "Open": 8.65,
                  "Change %": "-0.92%"
                },
                {
                  "Vol.": "3.62M",
                  "High": 8.61,
                  "Low": 8.55,
                  "Date": "2011-09-13T00:00:00.000Z",
                  "Close": 8.6,
                  "Open": 8.58,
                  "Change %": "-0.12%"
                },
                {
                  "Vol.": "10.24M",
                  "High": 8.64,
                  "Low": 8.57,
                  "Date": "2011-09-14T00:00:00.000Z",
                  "Close": 8.6,
                  "Open": 8.64,
                  "Change %": "0.00%"
                },
                {
                  "Vol.": "7.59M",
                  "High": 8.62,
                  "Low": 8.57,
                  "Date": "2011-09-15T00:00:00.000Z",
                  "Close": 8.59,
                  "Open": 8.62,
                  "Change %": "-0.12%"
                }
              ],
              "schema": {
                "fields": [
                  {
                    "type": "datetime",
                    "name": "Date"
                  },
                  {
                    "type": "number",
                    "name": "Close"
                  },
                  {
                    "type": "number",
                    "name": "Open"
                  },
                  {
                    "type": "number",
                    "name": "High"
                  },
                  {
                    "type": "number",
                    "name": "Low"
                  },
                  {
                    "type": "string",
                    "name": "Vol."
                  },
                  {
                    "type": "string",
                    "name": "Change %"
                  }
                ],
                "pandas_version": "0.20.0",
                "primaryKey": [
                  "Date"
                ]
              }
            },
            "text/html": [
              "<div>\n",
              "<style scoped>\n",
              "    .dataframe tbody tr th:only-of-type {\n",
              "        vertical-align: middle;\n",
              "    }\n",
              "\n",
              "    .dataframe tbody tr th {\n",
              "        vertical-align: top;\n",
              "    }\n",
              "\n",
              "    .dataframe thead th {\n",
              "        text-align: right;\n",
              "    }\n",
              "</style>\n",
              "<table border=\"1\" class=\"dataframe\">\n",
              "  <thead>\n",
              "    <tr style=\"text-align: right;\">\n",
              "      <th></th>\n",
              "      <th>Close</th>\n",
              "      <th>Open</th>\n",
              "      <th>High</th>\n",
              "      <th>Low</th>\n",
              "      <th>Vol.</th>\n",
              "      <th>Change %</th>\n",
              "    </tr>\n",
              "    <tr>\n",
              "      <th>Date</th>\n",
              "      <th></th>\n",
              "      <th></th>\n",
              "      <th></th>\n",
              "      <th></th>\n",
              "      <th></th>\n",
              "      <th></th>\n",
              "    </tr>\n",
              "  </thead>\n",
              "  <tbody>\n",
              "    <tr>\n",
              "      <th>2011-09-02</th>\n",
              "      <td>8.72</td>\n",
              "      <td>9.00</td>\n",
              "      <td>9.00</td>\n",
              "      <td>8.69</td>\n",
              "      <td>12.92M</td>\n",
              "      <td>0.00%</td>\n",
              "    </tr>\n",
              "    <tr>\n",
              "      <th>2011-09-05</th>\n",
              "      <td>8.73</td>\n",
              "      <td>8.72</td>\n",
              "      <td>8.75</td>\n",
              "      <td>8.70</td>\n",
              "      <td>12.39M</td>\n",
              "      <td>0.11%</td>\n",
              "    </tr>\n",
              "    <tr>\n",
              "      <th>2011-09-06</th>\n",
              "      <td>8.68</td>\n",
              "      <td>8.72</td>\n",
              "      <td>8.72</td>\n",
              "      <td>8.68</td>\n",
              "      <td>11.48M</td>\n",
              "      <td>-0.57%</td>\n",
              "    </tr>\n",
              "    <tr>\n",
              "      <th>2011-09-07</th>\n",
              "      <td>8.67</td>\n",
              "      <td>8.70</td>\n",
              "      <td>8.70</td>\n",
              "      <td>8.64</td>\n",
              "      <td>5.73M</td>\n",
              "      <td>-0.12%</td>\n",
              "    </tr>\n",
              "    <tr>\n",
              "      <th>2011-09-08</th>\n",
              "      <td>8.69</td>\n",
              "      <td>8.71</td>\n",
              "      <td>8.74</td>\n",
              "      <td>8.67</td>\n",
              "      <td>4.69M</td>\n",
              "      <td>0.23%</td>\n",
              "    </tr>\n",
              "    <tr>\n",
              "      <th>2011-09-09</th>\n",
              "      <td>8.69</td>\n",
              "      <td>8.70</td>\n",
              "      <td>8.70</td>\n",
              "      <td>8.68</td>\n",
              "      <td>5.09M</td>\n",
              "      <td>0.00%</td>\n",
              "    </tr>\n",
              "    <tr>\n",
              "      <th>2011-09-12</th>\n",
              "      <td>8.61</td>\n",
              "      <td>8.65</td>\n",
              "      <td>8.68</td>\n",
              "      <td>8.55</td>\n",
              "      <td>8.59M</td>\n",
              "      <td>-0.92%</td>\n",
              "    </tr>\n",
              "    <tr>\n",
              "      <th>2011-09-13</th>\n",
              "      <td>8.60</td>\n",
              "      <td>8.58</td>\n",
              "      <td>8.61</td>\n",
              "      <td>8.55</td>\n",
              "      <td>3.62M</td>\n",
              "      <td>-0.12%</td>\n",
              "    </tr>\n",
              "    <tr>\n",
              "      <th>2011-09-14</th>\n",
              "      <td>8.60</td>\n",
              "      <td>8.64</td>\n",
              "      <td>8.64</td>\n",
              "      <td>8.57</td>\n",
              "      <td>10.24M</td>\n",
              "      <td>0.00%</td>\n",
              "    </tr>\n",
              "    <tr>\n",
              "      <th>2011-09-15</th>\n",
              "      <td>8.59</td>\n",
              "      <td>8.62</td>\n",
              "      <td>8.62</td>\n",
              "      <td>8.57</td>\n",
              "      <td>7.59M</td>\n",
              "      <td>-0.12%</td>\n",
              "    </tr>\n",
              "  </tbody>\n",
              "</table>\n",
              "</div>"
            ],
            "text/plain": [
              "            Close  Open  High   Low    Vol. Change %\n",
              "Date                                                \n",
              "2011-09-02   8.72  9.00  9.00  8.69  12.92M    0.00%\n",
              "2011-09-05   8.73  8.72  8.75  8.70  12.39M    0.11%\n",
              "2011-09-06   8.68  8.72  8.72  8.68  11.48M   -0.57%\n",
              "2011-09-07   8.67  8.70  8.70  8.64   5.73M   -0.12%\n",
              "2011-09-08   8.69  8.71  8.74  8.67   4.69M    0.23%\n",
              "2011-09-09   8.69  8.70  8.70  8.68   5.09M    0.00%\n",
              "2011-09-12   8.61  8.65  8.68  8.55   8.59M   -0.92%\n",
              "2011-09-13   8.60  8.58  8.61  8.55   3.62M   -0.12%\n",
              "2011-09-14   8.60  8.64  8.64  8.57  10.24M    0.00%\n",
              "2011-09-15   8.59  8.62  8.62  8.57   7.59M   -0.12%"
            ]
          },
          "metadata": {
            "tags": []
          }
        },
        {
          "output_type": "stream",
          "text": [
            "<class 'pandas.core.frame.DataFrame'>\n",
            "DatetimeIndex: 1893 entries, 2011-09-02 to 2019-05-24\n",
            "Data columns (total 6 columns):\n",
            "Close       1893 non-null float64\n",
            "Open        1893 non-null float64\n",
            "High        1893 non-null float64\n",
            "Low         1893 non-null float64\n",
            "Vol.        1893 non-null object\n",
            "Change %    1893 non-null object\n",
            "dtypes: float64(4), object(2)\n",
            "memory usage: 103.5+ KB\n"
          ],
          "name": "stdout"
        }
      ]
    },
    {
      "cell_type": "code",
      "metadata": {
        "colab_type": "code",
        "id": "lDcEpZeZ4gGG",
        "outputId": "d9b9748f-4bbc-4f2e-a3ea-e00a6acb7428",
        "colab": {
          "base_uri": "https://localhost:8080/",
          "height": 136
        }
      },
      "source": [
        "df.isna().any()"
      ],
      "execution_count": 16,
      "outputs": [
        {
          "output_type": "execute_result",
          "data": {
            "application/vnd.dataresource+json": {
              "data": [
                {
                  "index": "Close",
                  "values": false
                },
                {
                  "index": "Open",
                  "values": false
                },
                {
                  "index": "High",
                  "values": false
                },
                {
                  "index": "Low",
                  "values": false
                },
                {
                  "index": "Vol.",
                  "values": false
                },
                {
                  "index": "Change %",
                  "values": false
                }
              ],
              "schema": {
                "fields": [
                  {
                    "type": "string",
                    "name": "index"
                  },
                  {
                    "type": "boolean",
                    "name": "values"
                  }
                ],
                "pandas_version": "0.20.0",
                "primaryKey": [
                  "index"
                ]
              }
            },
            "text/plain": [
              "Close       False\n",
              "Open        False\n",
              "High        False\n",
              "Low         False\n",
              "Vol.        False\n",
              "Change %    False\n",
              "dtype: bool"
            ]
          },
          "metadata": {
            "tags": []
          },
          "execution_count": 16
        }
      ]
    },
    {
      "cell_type": "code",
      "metadata": {
        "colab_type": "code",
        "id": "5P6UXHBJ4gGM",
        "outputId": "36061c26-e1e9-47c4-b2e9-d3936e3d1b79",
        "colab": {
          "base_uri": "https://localhost:8080/",
          "height": 397
        }
      },
      "source": [
        "df['Open'].plot(figsize=(16,6))"
      ],
      "execution_count": 17,
      "outputs": [
        {
          "output_type": "execute_result",
          "data": {
            "text/plain": [
              "<matplotlib.axes._subplots.AxesSubplot at 0x7f3c1ec71da0>"
            ]
          },
          "metadata": {
            "tags": []
          },
          "execution_count": 17
        },
        {
          "output_type": "display_data",
          "data": {
            "image/png": "[encoded data removed]",
            "text/plain": [
              "<Figure size 1152x432 with 1 Axes>"
            ]
          },
          "metadata": {
            "tags": []
          }
        }
      ]
    },
    {
      "cell_type": "markdown",
      "metadata": {
        "colab_type": "text",
        "id": "yA0J5UwP4gGQ"
      },
      "source": [
        "### 7 days rolling means"
      ]
    },
    {
      "cell_type": "code",
      "metadata": {
        "colab_type": "code",
        "id": "EBsc1LWz4gGR",
        "outputId": "a7600953-2430-4b83-fa3c-b85f8f952c80",
        "colab": {
          "base_uri": "https://localhost:8080/",
          "height": 328
        }
      },
      "source": [
        "df = df[['Close', 'Open', 'High', 'Low']]\n",
        "df.rolling(7).mean().head(8)"
      ],
      "execution_count": 18,
      "outputs": [
        {
          "output_type": "execute_result",
          "data": {
            "application/vnd.dataresource+json": {
              "data": [
                {
                  "Date": "2011-09-02T00:00:00.000Z",
                  "Close": null,
                  "Open": null,
                  "High": null,
                  "Low": null
                },
                {
                  "Date": "2011-09-05T00:00:00.000Z",
                  "Close": null,
                  "Open": null,
                  "High": null,
                  "Low": null
                },
                {
                  "Date": "2011-09-06T00:00:00.000Z",
                  "Close": null,
                  "Open": null,
                  "High": null,
                  "Low": null
                },
                {
                  "Date": "2011-09-07T00:00:00.000Z",
                  "Close": null,
                  "Open": null,
                  "High": null,
                  "Low": null
                },
                {
                  "Date": "2011-09-08T00:00:00.000Z",
                  "Close": null,
                  "Open": null,
                  "High": null,
                  "Low": null
                },
                {
                  "Date": "2011-09-09T00:00:00.000Z",
                  "Close": null,
                  "Open": null,
                  "High": null,
                  "Low": null
                },
                {
                  "Date": "2011-09-12T00:00:00.000Z",
                  "Close": 8.6842857143,
                  "Open": 8.7428571429,
                  "High": 8.7557142857,
                  "Low": 8.6585714286
                },
                {
                  "Date": "2011-09-13T00:00:00.000Z",
                  "Close": 8.6671428571,
                  "Open": 8.6828571429,
                  "High": 8.7,
                  "Low": 8.6385714286
                }
              ],
              "schema": {
                "fields": [
                  {
                    "type": "datetime",
                    "name": "Date"
                  },
                  {
                    "type": "number",
                    "name": "Close"
                  },
                  {
                    "type": "number",
                    "name": "Open"
                  },
                  {
                    "type": "number",
                    "name": "High"
                  },
                  {
                    "type": "number",
                    "name": "Low"
                  }
                ],
                "pandas_version": "0.20.0",
                "primaryKey": [
                  "Date"
                ]
              }
            },
            "text/html": [
              "<div>\n",
              "<style scoped>\n",
              "    .dataframe tbody tr th:only-of-type {\n",
              "        vertical-align: middle;\n",
              "    }\n",
              "\n",
              "    .dataframe tbody tr th {\n",
              "        vertical-align: top;\n",
              "    }\n",
              "\n",
              "    .dataframe thead th {\n",
              "        text-align: right;\n",
              "    }\n",
              "</style>\n",
              "<table border=\"1\" class=\"dataframe\">\n",
              "  <thead>\n",
              "    <tr style=\"text-align: right;\">\n",
              "      <th></th>\n",
              "      <th>Close</th>\n",
              "      <th>Open</th>\n",
              "      <th>High</th>\n",
              "      <th>Low</th>\n",
              "    </tr>\n",
              "    <tr>\n",
              "      <th>Date</th>\n",
              "      <th></th>\n",
              "      <th></th>\n",
              "      <th></th>\n",
              "      <th></th>\n",
              "    </tr>\n",
              "  </thead>\n",
              "  <tbody>\n",
              "    <tr>\n",
              "      <th>2011-09-02</th>\n",
              "      <td>NaN</td>\n",
              "      <td>NaN</td>\n",
              "      <td>NaN</td>\n",
              "      <td>NaN</td>\n",
              "    </tr>\n",
              "    <tr>\n",
              "      <th>2011-09-05</th>\n",
              "      <td>NaN</td>\n",
              "      <td>NaN</td>\n",
              "      <td>NaN</td>\n",
              "      <td>NaN</td>\n",
              "    </tr>\n",
              "    <tr>\n",
              "      <th>2011-09-06</th>\n",
              "      <td>NaN</td>\n",
              "      <td>NaN</td>\n",
              "      <td>NaN</td>\n",
              "      <td>NaN</td>\n",
              "    </tr>\n",
              "    <tr>\n",
              "      <th>2011-09-07</th>\n",
              "      <td>NaN</td>\n",
              "      <td>NaN</td>\n",
              "      <td>NaN</td>\n",
              "      <td>NaN</td>\n",
              "    </tr>\n",
              "    <tr>\n",
              "      <th>2011-09-08</th>\n",
              "      <td>NaN</td>\n",
              "      <td>NaN</td>\n",
              "      <td>NaN</td>\n",
              "      <td>NaN</td>\n",
              "    </tr>\n",
              "    <tr>\n",
              "      <th>2011-09-09</th>\n",
              "      <td>NaN</td>\n",
              "      <td>NaN</td>\n",
              "      <td>NaN</td>\n",
              "      <td>NaN</td>\n",
              "    </tr>\n",
              "    <tr>\n",
              "      <th>2011-09-12</th>\n",
              "      <td>8.684286</td>\n",
              "      <td>8.742857</td>\n",
              "      <td>8.755714</td>\n",
              "      <td>8.658571</td>\n",
              "    </tr>\n",
              "    <tr>\n",
              "      <th>2011-09-13</th>\n",
              "      <td>8.667143</td>\n",
              "      <td>8.682857</td>\n",
              "      <td>8.700000</td>\n",
              "      <td>8.638571</td>\n",
              "    </tr>\n",
              "  </tbody>\n",
              "</table>\n",
              "</div>"
            ],
            "text/plain": [
              "               Close      Open      High       Low\n",
              "Date                                              \n",
              "2011-09-02       NaN       NaN       NaN       NaN\n",
              "2011-09-05       NaN       NaN       NaN       NaN\n",
              "2011-09-06       NaN       NaN       NaN       NaN\n",
              "2011-09-07       NaN       NaN       NaN       NaN\n",
              "2011-09-08       NaN       NaN       NaN       NaN\n",
              "2011-09-09       NaN       NaN       NaN       NaN\n",
              "2011-09-12  8.684286  8.742857  8.755714  8.658571\n",
              "2011-09-13  8.667143  8.682857  8.700000  8.638571"
            ]
          },
          "metadata": {
            "tags": []
          },
          "execution_count": 18
        }
      ]
    },
    {
      "cell_type": "code",
      "metadata": {
        "colab_type": "code",
        "id": "lWbMvESS4gGV",
        "outputId": "19dc3218-79ba-4cbe-eb17-0c1ef35c73eb",
        "colab": {
          "base_uri": "https://localhost:8080/",
          "height": 173
        }
      },
      "source": [
        "df.head(3)"
      ],
      "execution_count": 19,
      "outputs": [
        {
          "output_type": "execute_result",
          "data": {
            "application/vnd.dataresource+json": {
              "data": [
                {
                  "Date": "2011-09-02T00:00:00.000Z",
                  "Close": 8.72,
                  "Open": 9,
                  "High": 9,
                  "Low": 8.69
                },
                {
                  "Date": "2011-09-05T00:00:00.000Z",
                  "Close": 8.73,
                  "Open": 8.72,
                  "High": 8.75,
                  "Low": 8.7
                },
                {
                  "Date": "2011-09-06T00:00:00.000Z",
                  "Close": 8.68,
                  "Open": 8.72,
                  "High": 8.72,
                  "Low": 8.68
                }
              ],
              "schema": {
                "fields": [
                  {
                    "type": "datetime",
                    "name": "Date"
                  },
                  {
                    "type": "number",
                    "name": "Close"
                  },
                  {
                    "type": "number",
                    "name": "Open"
                  },
                  {
                    "type": "number",
                    "name": "High"
                  },
                  {
                    "type": "number",
                    "name": "Low"
                  }
                ],
                "pandas_version": "0.20.0",
                "primaryKey": [
                  "Date"
                ]
              }
            },
            "text/html": [
              "<div>\n",
              "<style scoped>\n",
              "    .dataframe tbody tr th:only-of-type {\n",
              "        vertical-align: middle;\n",
              "    }\n",
              "\n",
              "    .dataframe tbody tr th {\n",
              "        vertical-align: top;\n",
              "    }\n",
              "\n",
              "    .dataframe thead th {\n",
              "        text-align: right;\n",
              "    }\n",
              "</style>\n",
              "<table border=\"1\" class=\"dataframe\">\n",
              "  <thead>\n",
              "    <tr style=\"text-align: right;\">\n",
              "      <th></th>\n",
              "      <th>Close</th>\n",
              "      <th>Open</th>\n",
              "      <th>High</th>\n",
              "      <th>Low</th>\n",
              "    </tr>\n",
              "    <tr>\n",
              "      <th>Date</th>\n",
              "      <th></th>\n",
              "      <th></th>\n",
              "      <th></th>\n",
              "      <th></th>\n",
              "    </tr>\n",
              "  </thead>\n",
              "  <tbody>\n",
              "    <tr>\n",
              "      <th>2011-09-02</th>\n",
              "      <td>8.72</td>\n",
              "      <td>9.00</td>\n",
              "      <td>9.00</td>\n",
              "      <td>8.69</td>\n",
              "    </tr>\n",
              "    <tr>\n",
              "      <th>2011-09-05</th>\n",
              "      <td>8.73</td>\n",
              "      <td>8.72</td>\n",
              "      <td>8.75</td>\n",
              "      <td>8.70</td>\n",
              "    </tr>\n",
              "    <tr>\n",
              "      <th>2011-09-06</th>\n",
              "      <td>8.68</td>\n",
              "      <td>8.72</td>\n",
              "      <td>8.72</td>\n",
              "      <td>8.68</td>\n",
              "    </tr>\n",
              "  </tbody>\n",
              "</table>\n",
              "</div>"
            ],
            "text/plain": [
              "            Close  Open  High   Low\n",
              "Date                               \n",
              "2011-09-02   8.72  9.00  9.00  8.69\n",
              "2011-09-05   8.73  8.72  8.75  8.70\n",
              "2011-09-06   8.68  8.72  8.72  8.68"
            ]
          },
          "metadata": {
            "tags": []
          },
          "execution_count": 19
        }
      ]
    },
    {
      "cell_type": "code",
      "metadata": {
        "colab_type": "code",
        "id": "ec4n4zIS4gGb",
        "outputId": "9ac224f6-c351-4925-9103-652ca8d7ff01",
        "colab": {
          "base_uri": "https://localhost:8080/",
          "height": 397
        }
      },
      "source": [
        "# Open vs Close 30 days mean\n",
        "df['Close 30 Days Mean'] = df['Close'].rolling(window=30).mean()\n",
        "df[['Open', 'Close 30 Days Mean']].plot(figsize=(16,6))\n",
        "#df.rolling(window=30).mean()['Close'].plot()"
      ],
      "execution_count": 20,
      "outputs": [
        {
          "output_type": "execute_result",
          "data": {
            "text/plain": [
              "<matplotlib.axes._subplots.AxesSubplot at 0x7f3c12a5c320>"
            ]
          },
          "metadata": {
            "tags": []
          },
          "execution_count": 20
        },
        {
          "output_type": "display_data",
          "data": {
            "image/png": "[encoded data removed]",
            "text/plain": [
              "<Figure size 1152x432 with 1 Axes>"
            ]
          },
          "metadata": {
            "tags": []
          }
        }
      ]
    },
    {
      "cell_type": "code",
      "metadata": {
        "colab_type": "code",
        "id": "mQzrkYqJ4gGg",
        "outputId": "35005360-9c06-4e3a-e9b5-b2c5eb825c5f",
        "colab": {
          "base_uri": "https://localhost:8080/",
          "height": 397
        }
      },
      "source": [
        "# df['Close: 30 Day Mean'] = df['Price'].rolling(window=30).mean()\n",
        "df[['Close','Close 30 Days Mean']].plot(figsize=(16,6))"
      ],
      "execution_count": 21,
      "outputs": [
        {
          "output_type": "execute_result",
          "data": {
            "text/plain": [
              "<matplotlib.axes._subplots.AxesSubplot at 0x7f3c129d7550>"
            ]
          },
          "metadata": {
            "tags": []
          },
          "execution_count": 21
        },
        {
          "output_type": "display_data",
          "data": {
            "image/png": "[encoded data removed]",
            "text/plain": [
              "<Figure size 1152x432 with 1 Axes>"
            ]
          },
          "metadata": {
            "tags": []
          }
        }
      ]
    },
    {
      "cell_type": "markdown",
      "metadata": {
        "colab_type": "text",
        "id": "3cDFPJtC4gGm"
      },
      "source": [
        "### Expanding"
      ]
    },
    {
      "cell_type": "code",
      "metadata": {
        "colab_type": "code",
        "id": "igi21g0m4gGn",
        "outputId": "690878a8-3107-4458-b840-d557867eaccf",
        "colab": {
          "base_uri": "https://localhost:8080/",
          "height": 397
        }
      },
      "source": [
        "# Optional specify a minimum number of periods\n",
        "df['Close'].expanding(min_periods=1).mean().plot(figsize=(16,6))"
      ],
      "execution_count": 22,
      "outputs": [
        {
          "output_type": "execute_result",
          "data": {
            "text/plain": [
              "<matplotlib.axes._subplots.AxesSubplot at 0x7f3c129ce630>"
            ]
          },
          "metadata": {
            "tags": []
          },
          "execution_count": 22
        },
        {
          "output_type": "display_data",
          "data": {
            "image/png": "[encoded data removed]",
            "text/plain": [
              "<Figure size 1152x432 with 1 Axes>"
            ]
          },
          "metadata": {
            "tags": []
          }
        }
      ]
    },
    {
      "cell_type": "markdown",
      "metadata": {
        "colab_type": "text",
        "id": "ATagRPb74gGs"
      },
      "source": [
        "### Group into X days prices"
      ]
    },
    {
      "cell_type": "code",
      "metadata": {
        "colab_type": "code",
        "id": "-WvxuZSJ4gGu",
        "outputId": "eaef6268-44df-4559-de39-13d924b4b355",
        "colab": {
          "base_uri": "https://localhost:8080/",
          "height": 204
        }
      },
      "source": [
        "df_temp = df.copy()\n",
        "df_temp.reset_index(inplace=True)\n",
        "number_of_days = 5\n",
        "df_temp.head(5)"
      ],
      "execution_count": 23,
      "outputs": [
        {
          "output_type": "execute_result",
          "data": {
            "application/vnd.dataresource+json": {
              "data": [
                {
                  "index": 0,
                  "Close 30 Days Mean": null,
                  "High": 9,
                  "Low": 8.69,
                  "Date": "2011-09-02T00:00:00.000Z",
                  "Close": 8.72,
                  "Open": 9
                },
                {
                  "index": 1,
                  "Close 30 Days Mean": null,
                  "High": 8.75,
                  "Low": 8.7,
                  "Date": "2011-09-05T00:00:00.000Z",
                  "Close": 8.73,
                  "Open": 8.72
                },
                {
                  "index": 2,
                  "Close 30 Days Mean": null,
                  "High": 8.72,
                  "Low": 8.68,
                  "Date": "2011-09-06T00:00:00.000Z",
                  "Close": 8.68,
                  "Open": 8.72
                },
                {
                  "index": 3,
                  "Close 30 Days Mean": null,
                  "High": 8.7,
                  "Low": 8.64,
                  "Date": "2011-09-07T00:00:00.000Z",
                  "Close": 8.67,
                  "Open": 8.7
                },
                {
                  "index": 4,
                  "Close 30 Days Mean": null,
                  "High": 8.74,
                  "Low": 8.67,
                  "Date": "2011-09-08T00:00:00.000Z",
                  "Close": 8.69,
                  "Open": 8.71
                }
              ],
              "schema": {
                "fields": [
                  {
                    "type": "integer",
                    "name": "index"
                  },
                  {
                    "type": "datetime",
                    "name": "Date"
                  },
                  {
                    "type": "number",
                    "name": "Close"
                  },
                  {
                    "type": "number",
                    "name": "Open"
                  },
                  {
                    "type": "number",
                    "name": "High"
                  },
                  {
                    "type": "number",
                    "name": "Low"
                  },
                  {
                    "type": "number",
                    "name": "Close 30 Days Mean"
                  }
                ],
                "pandas_version": "0.20.0",
                "primaryKey": [
                  "index"
                ]
              }
            },
            "text/html": [
              "<div>\n",
              "<style scoped>\n",
              "    .dataframe tbody tr th:only-of-type {\n",
              "        vertical-align: middle;\n",
              "    }\n",
              "\n",
              "    .dataframe tbody tr th {\n",
              "        vertical-align: top;\n",
              "    }\n",
              "\n",
              "    .dataframe thead th {\n",
              "        text-align: right;\n",
              "    }\n",
              "</style>\n",
              "<table border=\"1\" class=\"dataframe\">\n",
              "  <thead>\n",
              "    <tr style=\"text-align: right;\">\n",
              "      <th></th>\n",
              "      <th>Date</th>\n",
              "      <th>Close</th>\n",
              "      <th>Open</th>\n",
              "      <th>High</th>\n",
              "      <th>Low</th>\n",
              "      <th>Close 30 Days Mean</th>\n",
              "    </tr>\n",
              "  </thead>\n",
              "  <tbody>\n",
              "    <tr>\n",
              "      <th>0</th>\n",
              "      <td>2011-09-02</td>\n",
              "      <td>8.72</td>\n",
              "      <td>9.00</td>\n",
              "      <td>9.00</td>\n",
              "      <td>8.69</td>\n",
              "      <td>NaN</td>\n",
              "    </tr>\n",
              "    <tr>\n",
              "      <th>1</th>\n",
              "      <td>2011-09-05</td>\n",
              "      <td>8.73</td>\n",
              "      <td>8.72</td>\n",
              "      <td>8.75</td>\n",
              "      <td>8.70</td>\n",
              "      <td>NaN</td>\n",
              "    </tr>\n",
              "    <tr>\n",
              "      <th>2</th>\n",
              "      <td>2011-09-06</td>\n",
              "      <td>8.68</td>\n",
              "      <td>8.72</td>\n",
              "      <td>8.72</td>\n",
              "      <td>8.68</td>\n",
              "      <td>NaN</td>\n",
              "    </tr>\n",
              "    <tr>\n",
              "      <th>3</th>\n",
              "      <td>2011-09-07</td>\n",
              "      <td>8.67</td>\n",
              "      <td>8.70</td>\n",
              "      <td>8.70</td>\n",
              "      <td>8.64</td>\n",
              "      <td>NaN</td>\n",
              "    </tr>\n",
              "    <tr>\n",
              "      <th>4</th>\n",
              "      <td>2011-09-08</td>\n",
              "      <td>8.69</td>\n",
              "      <td>8.71</td>\n",
              "      <td>8.74</td>\n",
              "      <td>8.67</td>\n",
              "      <td>NaN</td>\n",
              "    </tr>\n",
              "  </tbody>\n",
              "</table>\n",
              "</div>"
            ],
            "text/plain": [
              "        Date  Close  Open  High   Low  Close 30 Days Mean\n",
              "0 2011-09-02   8.72  9.00  9.00  8.69                 NaN\n",
              "1 2011-09-05   8.73  8.72  8.75  8.70                 NaN\n",
              "2 2011-09-06   8.68  8.72  8.72  8.68                 NaN\n",
              "3 2011-09-07   8.67  8.70  8.70  8.64                 NaN\n",
              "4 2011-09-08   8.69  8.71  8.74  8.67                 NaN"
            ]
          },
          "metadata": {
            "tags": []
          },
          "execution_count": 23
        }
      ]
    },
    {
      "cell_type": "code",
      "metadata": {
        "colab_type": "code",
        "id": "Xb1VUqVU4gHN",
        "outputId": "0d6177c8-ae1d-43ae-f758-2692e5be7329",
        "colab": {
          "base_uri": "https://localhost:8080/",
          "height": 766
        }
      },
      "source": [
        "df_temp['GroupId'] = df_temp.index\n",
        "df_temp['GroupId'] = df_temp.apply(lambda x: df_temp['GroupId'] // number_of_days)\n",
        "df_grouped_mean = df_temp.groupby(['GroupId'], as_index=False).mean()\n",
        "display(df.head(10), len(df))\n",
        "display(df_grouped_mean.head(10), len(df_grouped_mean))"
      ],
      "execution_count": 24,
      "outputs": [
        {
          "output_type": "display_data",
          "data": {
            "application/vnd.dataresource+json": {
              "data": [
                {
                  "Close 30 Days Mean": null,
                  "High": 9,
                  "Low": 8.69,
                  "Date": "2011-09-02T00:00:00.000Z",
                  "Close": 8.72,
                  "Open": 9
                },
                {
                  "Close 30 Days Mean": null,
                  "High": 8.75,
                  "Low": 8.7,
                  "Date": "2011-09-05T00:00:00.000Z",
                  "Close": 8.73,
                  "Open": 8.72
                },
                {
                  "Close 30 Days Mean": null,
                  "High": 8.72,
                  "Low": 8.68,
                  "Date": "2011-09-06T00:00:00.000Z",
                  "Close": 8.68,
                  "Open": 8.72
                },
                {
                  "Close 30 Days Mean": null,
                  "High": 8.7,
                  "Low": 8.64,
                  "Date": "2011-09-07T00:00:00.000Z",
                  "Close": 8.67,
                  "Open": 8.7
                },
                {
                  "Close 30 Days Mean": null,
                  "High": 8.74,
                  "Low": 8.67,
                  "Date": "2011-09-08T00:00:00.000Z",
                  "Close": 8.69,
                  "Open": 8.71
                },
                {
                  "Close 30 Days Mean": null,
                  "High": 8.7,
                  "Low": 8.68,
                  "Date": "2011-09-09T00:00:00.000Z",
                  "Close": 8.69,
                  "Open": 8.7
                },
                {
                  "Close 30 Days Mean": null,
                  "High": 8.68,
                  "Low": 8.55,
                  "Date": "2011-09-12T00:00:00.000Z",
                  "Close": 8.61,
                  "Open": 8.65
                },
                {
                  "Close 30 Days Mean": null,
                  "High": 8.61,
                  "Low": 8.55,
                  "Date": "2011-09-13T00:00:00.000Z",
                  "Close": 8.6,
                  "Open": 8.58
                },
                {
                  "Close 30 Days Mean": null,
                  "High": 8.64,
                  "Low": 8.57,
                  "Date": "2011-09-14T00:00:00.000Z",
                  "Close": 8.6,
                  "Open": 8.64
                },
                {
                  "Close 30 Days Mean": null,
                  "High": 8.62,
                  "Low": 8.57,
                  "Date": "2011-09-15T00:00:00.000Z",
                  "Close": 8.59,
                  "Open": 8.62
                }
              ],
              "schema": {
                "fields": [
                  {
                    "type": "datetime",
                    "name": "Date"
                  },
                  {
                    "type": "number",
                    "name": "Close"
                  },
                  {
                    "type": "number",
                    "name": "Open"
                  },
                  {
                    "type": "number",
                    "name": "High"
                  },
                  {
                    "type": "number",
                    "name": "Low"
                  },
                  {
                    "type": "number",
                    "name": "Close 30 Days Mean"
                  }
                ],
                "pandas_version": "0.20.0",
                "primaryKey": [
                  "Date"
                ]
              }
            },
            "text/html": [
              "<div>\n",
              "<style scoped>\n",
              "    .dataframe tbody tr th:only-of-type {\n",
              "        vertical-align: middle;\n",
              "    }\n",
              "\n",
              "    .dataframe tbody tr th {\n",
              "        vertical-align: top;\n",
              "    }\n",
              "\n",
              "    .dataframe thead th {\n",
              "        text-align: right;\n",
              "    }\n",
              "</style>\n",
              "<table border=\"1\" class=\"dataframe\">\n",
              "  <thead>\n",
              "    <tr style=\"text-align: right;\">\n",
              "      <th></th>\n",
              "      <th>Close</th>\n",
              "      <th>Open</th>\n",
              "      <th>High</th>\n",
              "      <th>Low</th>\n",
              "      <th>Close 30 Days Mean</th>\n",
              "    </tr>\n",
              "    <tr>\n",
              "      <th>Date</th>\n",
              "      <th></th>\n",
              "      <th></th>\n",
              "      <th></th>\n",
              "      <th></th>\n",
              "      <th></th>\n",
              "    </tr>\n",
              "  </thead>\n",
              "  <tbody>\n",
              "    <tr>\n",
              "      <th>2011-09-02</th>\n",
              "      <td>8.72</td>\n",
              "      <td>9.00</td>\n",
              "      <td>9.00</td>\n",
              "      <td>8.69</td>\n",
              "      <td>NaN</td>\n",
              "    </tr>\n",
              "    <tr>\n",
              "      <th>2011-09-05</th>\n",
              "      <td>8.73</td>\n",
              "      <td>8.72</td>\n",
              "      <td>8.75</td>\n",
              "      <td>8.70</td>\n",
              "      <td>NaN</td>\n",
              "    </tr>\n",
              "    <tr>\n",
              "      <th>2011-09-06</th>\n",
              "      <td>8.68</td>\n",
              "      <td>8.72</td>\n",
              "      <td>8.72</td>\n",
              "      <td>8.68</td>\n",
              "      <td>NaN</td>\n",
              "    </tr>\n",
              "    <tr>\n",
              "      <th>2011-09-07</th>\n",
              "      <td>8.67</td>\n",
              "      <td>8.70</td>\n",
              "      <td>8.70</td>\n",
              "      <td>8.64</td>\n",
              "      <td>NaN</td>\n",
              "    </tr>\n",
              "    <tr>\n",
              "      <th>2011-09-08</th>\n",
              "      <td>8.69</td>\n",
              "      <td>8.71</td>\n",
              "      <td>8.74</td>\n",
              "      <td>8.67</td>\n",
              "      <td>NaN</td>\n",
              "    </tr>\n",
              "    <tr>\n",
              "      <th>2011-09-09</th>\n",
              "      <td>8.69</td>\n",
              "      <td>8.70</td>\n",
              "      <td>8.70</td>\n",
              "      <td>8.68</td>\n",
              "      <td>NaN</td>\n",
              "    </tr>\n",
              "    <tr>\n",
              "      <th>2011-09-12</th>\n",
              "      <td>8.61</td>\n",
              "      <td>8.65</td>\n",
              "      <td>8.68</td>\n",
              "      <td>8.55</td>\n",
              "      <td>NaN</td>\n",
              "    </tr>\n",
              "    <tr>\n",
              "      <th>2011-09-13</th>\n",
              "      <td>8.60</td>\n",
              "      <td>8.58</td>\n",
              "      <td>8.61</td>\n",
              "      <td>8.55</td>\n",
              "      <td>NaN</td>\n",
              "    </tr>\n",
              "    <tr>\n",
              "      <th>2011-09-14</th>\n",
              "      <td>8.60</td>\n",
              "      <td>8.64</td>\n",
              "      <td>8.64</td>\n",
              "      <td>8.57</td>\n",
              "      <td>NaN</td>\n",
              "    </tr>\n",
              "    <tr>\n",
              "      <th>2011-09-15</th>\n",
              "      <td>8.59</td>\n",
              "      <td>8.62</td>\n",
              "      <td>8.62</td>\n",
              "      <td>8.57</td>\n",
              "      <td>NaN</td>\n",
              "    </tr>\n",
              "  </tbody>\n",
              "</table>\n",
              "</div>"
            ],
            "text/plain": [
              "            Close  Open  High   Low  Close 30 Days Mean\n",
              "Date                                                   \n",
              "2011-09-02   8.72  9.00  9.00  8.69                 NaN\n",
              "2011-09-05   8.73  8.72  8.75  8.70                 NaN\n",
              "2011-09-06   8.68  8.72  8.72  8.68                 NaN\n",
              "2011-09-07   8.67  8.70  8.70  8.64                 NaN\n",
              "2011-09-08   8.69  8.71  8.74  8.67                 NaN\n",
              "2011-09-09   8.69  8.70  8.70  8.68                 NaN\n",
              "2011-09-12   8.61  8.65  8.68  8.55                 NaN\n",
              "2011-09-13   8.60  8.58  8.61  8.55                 NaN\n",
              "2011-09-14   8.60  8.64  8.64  8.57                 NaN\n",
              "2011-09-15   8.59  8.62  8.62  8.57                 NaN"
            ]
          },
          "metadata": {
            "tags": []
          }
        },
        {
          "output_type": "display_data",
          "data": {
            "text/plain": [
              "1893"
            ]
          },
          "metadata": {
            "tags": []
          }
        },
        {
          "output_type": "display_data",
          "data": {
            "application/vnd.dataresource+json": {
              "data": [
                {
                  "index": 0,
                  "Close 30 Days Mean": null,
                  "High": 8.782,
                  "Low": 8.676,
                  "Close": 8.698,
                  "Open": 8.77,
                  "GroupId": 0
                },
                {
                  "index": 1,
                  "Close 30 Days Mean": null,
                  "High": 8.65,
                  "Low": 8.584,
                  "Close": 8.618,
                  "Open": 8.638,
                  "GroupId": 1
                },
                {
                  "index": 2,
                  "Close 30 Days Mean": null,
                  "High": 8.526,
                  "Low": 8.352,
                  "Close": 8.408,
                  "Open": 8.508,
                  "GroupId": 2
                },
                {
                  "index": 3,
                  "Close 30 Days Mean": null,
                  "High": 7.996,
                  "Low": 7.698,
                  "Close": 7.866,
                  "Open": 7.856,
                  "GroupId": 3
                },
                {
                  "index": 4,
                  "Close 30 Days Mean": null,
                  "High": 8.086,
                  "Low": 7.906,
                  "Close": 8.03,
                  "Open": 7.972,
                  "GroupId": 4
                },
                {
                  "index": 5,
                  "Close 30 Days Mean": 8.3133333333,
                  "High": 8.3,
                  "Low": 8.212,
                  "Close": 8.26,
                  "Open": 8.256,
                  "GroupId": 5
                },
                {
                  "index": 6,
                  "Close 30 Days Mean": 8.269,
                  "High": 8.3,
                  "Low": 8.218,
                  "Close": 8.254,
                  "Open": 8.272,
                  "GroupId": 6
                },
                {
                  "index": 7,
                  "Close 30 Days Mean": 8.2045333333,
                  "High": 8.358,
                  "Low": 8.278,
                  "Close": 8.304,
                  "Open": 8.318,
                  "GroupId": 7
                },
                {
                  "index": 8,
                  "Close 30 Days Mean": 8.1664666667,
                  "High": 8.338,
                  "Low": 8.232,
                  "Close": 8.264,
                  "Open": 8.33,
                  "GroupId": 8
                },
                {
                  "index": 9,
                  "Close 30 Days Mean": 8.2073333333,
                  "High": 8.282,
                  "Low": 8.178,
                  "Close": 8.244,
                  "Open": 8.23,
                  "GroupId": 9
                }
              ],
              "schema": {
                "fields": [
                  {
                    "type": "integer",
                    "name": "index"
                  },
                  {
                    "type": "integer",
                    "name": "GroupId"
                  },
                  {
                    "type": "number",
                    "name": "Close"
                  },
                  {
                    "type": "number",
                    "name": "Open"
                  },
                  {
                    "type": "number",
                    "name": "High"
                  },
                  {
                    "type": "number",
                    "name": "Low"
                  },
                  {
                    "type": "number",
                    "name": "Close 30 Days Mean"
                  }
                ],
                "pandas_version": "0.20.0",
                "primaryKey": [
                  "index"
                ]
              }
            },
            "text/html": [
              "<div>\n",
              "<style scoped>\n",
              "    .dataframe tbody tr th:only-of-type {\n",
              "        vertical-align: middle;\n",
              "    }\n",
              "\n",
              "    .dataframe tbody tr th {\n",
              "        vertical-align: top;\n",
              "    }\n",
              "\n",
              "    .dataframe thead th {\n",
              "        text-align: right;\n",
              "    }\n",
              "</style>\n",
              "<table border=\"1\" class=\"dataframe\">\n",
              "  <thead>\n",
              "    <tr style=\"text-align: right;\">\n",
              "      <th></th>\n",
              "      <th>GroupId</th>\n",
              "      <th>Close</th>\n",
              "      <th>Open</th>\n",
              "      <th>High</th>\n",
              "      <th>Low</th>\n",
              "      <th>Close 30 Days Mean</th>\n",
              "    </tr>\n",
              "  </thead>\n",
              "  <tbody>\n",
              "    <tr>\n",
              "      <th>0</th>\n",
              "      <td>0</td>\n",
              "      <td>8.698</td>\n",
              "      <td>8.770</td>\n",
              "      <td>8.782</td>\n",
              "      <td>8.676</td>\n",
              "      <td>NaN</td>\n",
              "    </tr>\n",
              "    <tr>\n",
              "      <th>1</th>\n",
              "      <td>1</td>\n",
              "      <td>8.618</td>\n",
              "      <td>8.638</td>\n",
              "      <td>8.650</td>\n",
              "      <td>8.584</td>\n",
              "      <td>NaN</td>\n",
              "    </tr>\n",
              "    <tr>\n",
              "      <th>2</th>\n",
              "      <td>2</td>\n",
              "      <td>8.408</td>\n",
              "      <td>8.508</td>\n",
              "      <td>8.526</td>\n",
              "      <td>8.352</td>\n",
              "      <td>NaN</td>\n",
              "    </tr>\n",
              "    <tr>\n",
              "      <th>3</th>\n",
              "      <td>3</td>\n",
              "      <td>7.866</td>\n",
              "      <td>7.856</td>\n",
              "      <td>7.996</td>\n",
              "      <td>7.698</td>\n",
              "      <td>NaN</td>\n",
              "    </tr>\n",
              "    <tr>\n",
              "      <th>4</th>\n",
              "      <td>4</td>\n",
              "      <td>8.030</td>\n",
              "      <td>7.972</td>\n",
              "      <td>8.086</td>\n",
              "      <td>7.906</td>\n",
              "      <td>NaN</td>\n",
              "    </tr>\n",
              "    <tr>\n",
              "      <th>5</th>\n",
              "      <td>5</td>\n",
              "      <td>8.260</td>\n",
              "      <td>8.256</td>\n",
              "      <td>8.300</td>\n",
              "      <td>8.212</td>\n",
              "      <td>8.313333</td>\n",
              "    </tr>\n",
              "    <tr>\n",
              "      <th>6</th>\n",
              "      <td>6</td>\n",
              "      <td>8.254</td>\n",
              "      <td>8.272</td>\n",
              "      <td>8.300</td>\n",
              "      <td>8.218</td>\n",
              "      <td>8.269000</td>\n",
              "    </tr>\n",
              "    <tr>\n",
              "      <th>7</th>\n",
              "      <td>7</td>\n",
              "      <td>8.304</td>\n",
              "      <td>8.318</td>\n",
              "      <td>8.358</td>\n",
              "      <td>8.278</td>\n",
              "      <td>8.204533</td>\n",
              "    </tr>\n",
              "    <tr>\n",
              "      <th>8</th>\n",
              "      <td>8</td>\n",
              "      <td>8.264</td>\n",
              "      <td>8.330</td>\n",
              "      <td>8.338</td>\n",
              "      <td>8.232</td>\n",
              "      <td>8.166467</td>\n",
              "    </tr>\n",
              "    <tr>\n",
              "      <th>9</th>\n",
              "      <td>9</td>\n",
              "      <td>8.244</td>\n",
              "      <td>8.230</td>\n",
              "      <td>8.282</td>\n",
              "      <td>8.178</td>\n",
              "      <td>8.207333</td>\n",
              "    </tr>\n",
              "  </tbody>\n",
              "</table>\n",
              "</div>"
            ],
            "text/plain": [
              "   GroupId  Close   Open   High    Low  Close 30 Days Mean\n",
              "0        0  8.698  8.770  8.782  8.676                 NaN\n",
              "1        1  8.618  8.638  8.650  8.584                 NaN\n",
              "2        2  8.408  8.508  8.526  8.352                 NaN\n",
              "3        3  7.866  7.856  7.996  7.698                 NaN\n",
              "4        4  8.030  7.972  8.086  7.906                 NaN\n",
              "5        5  8.260  8.256  8.300  8.212            8.313333\n",
              "6        6  8.254  8.272  8.300  8.218            8.269000\n",
              "7        7  8.304  8.318  8.358  8.278            8.204533\n",
              "8        8  8.264  8.330  8.338  8.232            8.166467\n",
              "9        9  8.244  8.230  8.282  8.178            8.207333"
            ]
          },
          "metadata": {
            "tags": []
          }
        },
        {
          "output_type": "display_data",
          "data": {
            "text/plain": [
              "379"
            ]
          },
          "metadata": {
            "tags": []
          }
        }
      ]
    },
    {
      "cell_type": "markdown",
      "metadata": {
        "colab_type": "text",
        "id": "KwDzSkbI4gHR"
      },
      "source": [
        "### Split to train and test data sets"
      ]
    },
    {
      "cell_type": "code",
      "metadata": {
        "colab_type": "code",
        "id": "nOrrUUfB4gHT",
        "outputId": "c746ad07-ef54-4039-d923-a7faebd73503",
        "colab": {
          "base_uri": "https://localhost:8080/",
          "height": 735
        }
      },
      "source": [
        "df = df_grouped_mean\n",
        "\n",
        "from sklearn.model_selection import train_test_split\n",
        "training_set, test_set = train_test_split(df, test_size=0.20, shuffle=False)\n",
        "display(len(training_set),training_set.head(10))\n",
        "display(len(test_set), test_set.head(10))"
      ],
      "execution_count": 25,
      "outputs": [
        {
          "output_type": "display_data",
          "data": {
            "text/plain": [
              "303"
            ]
          },
          "metadata": {
            "tags": []
          }
        },
        {
          "output_type": "display_data",
          "data": {
            "application/vnd.dataresource+json": {
              "data": [
                {
                  "index": 0,
                  "Close 30 Days Mean": null,
                  "High": 8.782,
                  "Low": 8.676,
                  "Close": 8.698,
                  "Open": 8.77,
                  "GroupId": 0
                },
                {
                  "index": 1,
                  "Close 30 Days Mean": null,
                  "High": 8.65,
                  "Low": 8.584,
                  "Close": 8.618,
                  "Open": 8.638,
                  "GroupId": 1
                },
                {
                  "index": 2,
                  "Close 30 Days Mean": null,
                  "High": 8.526,
                  "Low": 8.352,
                  "Close": 8.408,
                  "Open": 8.508,
                  "GroupId": 2
                },
                {
                  "index": 3,
                  "Close 30 Days Mean": null,
                  "High": 7.996,
                  "Low": 7.698,
                  "Close": 7.866,
                  "Open": 7.856,
                  "GroupId": 3
                },
                {
                  "index": 4,
                  "Close 30 Days Mean": null,
                  "High": 8.086,
                  "Low": 7.906,
                  "Close": 8.03,
                  "Open": 7.972,
                  "GroupId": 4
                },
                {
                  "index": 5,
                  "Close 30 Days Mean": 8.3133333333,
                  "High": 8.3,
                  "Low": 8.212,
                  "Close": 8.26,
                  "Open": 8.256,
                  "GroupId": 5
                },
                {
                  "index": 6,
                  "Close 30 Days Mean": 8.269,
                  "High": 8.3,
                  "Low": 8.218,
                  "Close": 8.254,
                  "Open": 8.272,
                  "GroupId": 6
                },
                {
                  "index": 7,
                  "Close 30 Days Mean": 8.2045333333,
                  "High": 8.358,
                  "Low": 8.278,
                  "Close": 8.304,
                  "Open": 8.318,
                  "GroupId": 7
                },
                {
                  "index": 8,
                  "Close 30 Days Mean": 8.1664666667,
                  "High": 8.338,
                  "Low": 8.232,
                  "Close": 8.264,
                  "Open": 8.33,
                  "GroupId": 8
                },
                {
                  "index": 9,
                  "Close 30 Days Mean": 8.2073333333,
                  "High": 8.282,
                  "Low": 8.178,
                  "Close": 8.244,
                  "Open": 8.23,
                  "GroupId": 9
                }
              ],
              "schema": {
                "fields": [
                  {
                    "type": "integer",
                    "name": "index"
                  },
                  {
                    "type": "integer",
                    "name": "GroupId"
                  },
                  {
                    "type": "number",
                    "name": "Close"
                  },
                  {
                    "type": "number",
                    "name": "Open"
                  },
                  {
                    "type": "number",
                    "name": "High"
                  },
                  {
                    "type": "number",
                    "name": "Low"
                  },
                  {
                    "type": "number",
                    "name": "Close 30 Days Mean"
                  }
                ],
                "pandas_version": "0.20.0",
                "primaryKey": [
                  "index"
                ]
              }
            },
            "text/html": [
              "<div>\n",
              "<style scoped>\n",
              "    .dataframe tbody tr th:only-of-type {\n",
              "        vertical-align: middle;\n",
              "    }\n",
              "\n",
              "    .dataframe tbody tr th {\n",
              "        vertical-align: top;\n",
              "    }\n",
              "\n",
              "    .dataframe thead th {\n",
              "        text-align: right;\n",
              "    }\n",
              "</style>\n",
              "<table border=\"1\" class=\"dataframe\">\n",
              "  <thead>\n",
              "    <tr style=\"text-align: right;\">\n",
              "      <th></th>\n",
              "      <th>GroupId</th>\n",
              "      <th>Close</th>\n",
              "      <th>Open</th>\n",
              "      <th>High</th>\n",
              "      <th>Low</th>\n",
              "      <th>Close 30 Days Mean</th>\n",
              "    </tr>\n",
              "  </thead>\n",
              "  <tbody>\n",
              "    <tr>\n",
              "      <th>0</th>\n",
              "      <td>0</td>\n",
              "      <td>8.698</td>\n",
              "      <td>8.770</td>\n",
              "      <td>8.782</td>\n",
              "      <td>8.676</td>\n",
              "      <td>NaN</td>\n",
              "    </tr>\n",
              "    <tr>\n",
              "      <th>1</th>\n",
              "      <td>1</td>\n",
              "      <td>8.618</td>\n",
              "      <td>8.638</td>\n",
              "      <td>8.650</td>\n",
              "      <td>8.584</td>\n",
              "      <td>NaN</td>\n",
              "    </tr>\n",
              "    <tr>\n",
              "      <th>2</th>\n",
              "      <td>2</td>\n",
              "      <td>8.408</td>\n",
              "      <td>8.508</td>\n",
              "      <td>8.526</td>\n",
              "      <td>8.352</td>\n",
              "      <td>NaN</td>\n",
              "    </tr>\n",
              "    <tr>\n",
              "      <th>3</th>\n",
              "      <td>3</td>\n",
              "      <td>7.866</td>\n",
              "      <td>7.856</td>\n",
              "      <td>7.996</td>\n",
              "      <td>7.698</td>\n",
              "      <td>NaN</td>\n",
              "    </tr>\n",
              "    <tr>\n",
              "      <th>4</th>\n",
              "      <td>4</td>\n",
              "      <td>8.030</td>\n",
              "      <td>7.972</td>\n",
              "      <td>8.086</td>\n",
              "      <td>7.906</td>\n",
              "      <td>NaN</td>\n",
              "    </tr>\n",
              "    <tr>\n",
              "      <th>5</th>\n",
              "      <td>5</td>\n",
              "      <td>8.260</td>\n",
              "      <td>8.256</td>\n",
              "      <td>8.300</td>\n",
              "      <td>8.212</td>\n",
              "      <td>8.313333</td>\n",
              "    </tr>\n",
              "    <tr>\n",
              "      <th>6</th>\n",
              "      <td>6</td>\n",
              "      <td>8.254</td>\n",
              "      <td>8.272</td>\n",
              "      <td>8.300</td>\n",
              "      <td>8.218</td>\n",
              "      <td>8.269000</td>\n",
              "    </tr>\n",
              "    <tr>\n",
              "      <th>7</th>\n",
              "      <td>7</td>\n",
              "      <td>8.304</td>\n",
              "      <td>8.318</td>\n",
              "      <td>8.358</td>\n",
              "      <td>8.278</td>\n",
              "      <td>8.204533</td>\n",
              "    </tr>\n",
              "    <tr>\n",
              "      <th>8</th>\n",
              "      <td>8</td>\n",
              "      <td>8.264</td>\n",
              "      <td>8.330</td>\n",
              "      <td>8.338</td>\n",
              "      <td>8.232</td>\n",
              "      <td>8.166467</td>\n",
              "    </tr>\n",
              "    <tr>\n",
              "      <th>9</th>\n",
              "      <td>9</td>\n",
              "      <td>8.244</td>\n",
              "      <td>8.230</td>\n",
              "      <td>8.282</td>\n",
              "      <td>8.178</td>\n",
              "      <td>8.207333</td>\n",
              "    </tr>\n",
              "  </tbody>\n",
              "</table>\n",
              "</div>"
            ],
            "text/plain": [
              "   GroupId  Close   Open   High    Low  Close 30 Days Mean\n",
              "0        0  8.698  8.770  8.782  8.676                 NaN\n",
              "1        1  8.618  8.638  8.650  8.584                 NaN\n",
              "2        2  8.408  8.508  8.526  8.352                 NaN\n",
              "3        3  7.866  7.856  7.996  7.698                 NaN\n",
              "4        4  8.030  7.972  8.086  7.906                 NaN\n",
              "5        5  8.260  8.256  8.300  8.212            8.313333\n",
              "6        6  8.254  8.272  8.300  8.218            8.269000\n",
              "7        7  8.304  8.318  8.358  8.278            8.204533\n",
              "8        8  8.264  8.330  8.338  8.232            8.166467\n",
              "9        9  8.244  8.230  8.282  8.178            8.207333"
            ]
          },
          "metadata": {
            "tags": []
          }
        },
        {
          "output_type": "display_data",
          "data": {
            "text/plain": [
              "76"
            ]
          },
          "metadata": {
            "tags": []
          }
        },
        {
          "output_type": "display_data",
          "data": {
            "application/vnd.dataresource+json": {
              "data": [
                {
                  "index": 303,
                  "Close 30 Days Mean": 9.4236666667,
                  "High": 9.248,
                  "Low": 9.186,
                  "Close": 9.21,
                  "Open": 9.224,
                  "GroupId": 303
                },
                {
                  "index": 304,
                  "Close 30 Days Mean": 9.3403333333,
                  "High": 9.346,
                  "Low": 9.152,
                  "Close": 9.22,
                  "Open": 9.238,
                  "GroupId": 304
                },
                {
                  "index": 305,
                  "Close 30 Days Mean": 9.2860666667,
                  "High": 9.238,
                  "Low": 9.196,
                  "Close": 9.212,
                  "Open": 9.208,
                  "GroupId": 305
                },
                {
                  "index": 306,
                  "Close 30 Days Mean": 9.2339333333,
                  "High": 9.23,
                  "Low": 9.166,
                  "Close": 9.2,
                  "Open": 9.204,
                  "GroupId": 306
                },
                {
                  "index": 307,
                  "Close 30 Days Mean": 9.2245333333,
                  "High": 9.36,
                  "Low": 9.238,
                  "Close": 9.286,
                  "Open": 9.286,
                  "GroupId": 307
                },
                {
                  "index": 308,
                  "Close 30 Days Mean": 9.2337333333,
                  "High": 9.396,
                  "Low": 9.274,
                  "Close": 9.356,
                  "Open": 9.294,
                  "GroupId": 308
                },
                {
                  "index": 309,
                  "Close 30 Days Mean": 9.2739333333,
                  "High": 9.51,
                  "Low": 9.436,
                  "Close": 9.49,
                  "Open": 9.488,
                  "GroupId": 309
                },
                {
                  "index": 310,
                  "Close 30 Days Mean": 9.3293333333,
                  "High": 9.632,
                  "Low": 9.504,
                  "Close": 9.608,
                  "Open": 9.544,
                  "GroupId": 310
                },
                {
                  "index": 311,
                  "Close 30 Days Mean": 9.4175333333,
                  "High": 9.824,
                  "Low": 9.764,
                  "Close": 9.812,
                  "Open": 9.772,
                  "GroupId": 311
                },
                {
                  "index": 312,
                  "Close 30 Days Mean": 9.5244,
                  "High": 9.862,
                  "Low": 9.824,
                  "Close": 9.846,
                  "Open": 9.834,
                  "GroupId": 312
                }
              ],
              "schema": {
                "fields": [
                  {
                    "type": "integer",
                    "name": "index"
                  },
                  {
                    "type": "integer",
                    "name": "GroupId"
                  },
                  {
                    "type": "number",
                    "name": "Close"
                  },
                  {
                    "type": "number",
                    "name": "Open"
                  },
                  {
                    "type": "number",
                    "name": "High"
                  },
                  {
                    "type": "number",
                    "name": "Low"
                  },
                  {
                    "type": "number",
                    "name": "Close 30 Days Mean"
                  }
                ],
                "pandas_version": "0.20.0",
                "primaryKey": [
                  "index"
                ]
              }
            },
            "text/html": [
              "<div>\n",
              "<style scoped>\n",
              "    .dataframe tbody tr th:only-of-type {\n",
              "        vertical-align: middle;\n",
              "    }\n",
              "\n",
              "    .dataframe tbody tr th {\n",
              "        vertical-align: top;\n",
              "    }\n",
              "\n",
              "    .dataframe thead th {\n",
              "        text-align: right;\n",
              "    }\n",
              "</style>\n",
              "<table border=\"1\" class=\"dataframe\">\n",
              "  <thead>\n",
              "    <tr style=\"text-align: right;\">\n",
              "      <th></th>\n",
              "      <th>GroupId</th>\n",
              "      <th>Close</th>\n",
              "      <th>Open</th>\n",
              "      <th>High</th>\n",
              "      <th>Low</th>\n",
              "      <th>Close 30 Days Mean</th>\n",
              "    </tr>\n",
              "  </thead>\n",
              "  <tbody>\n",
              "    <tr>\n",
              "      <th>303</th>\n",
              "      <td>303</td>\n",
              "      <td>9.210</td>\n",
              "      <td>9.224</td>\n",
              "      <td>9.248</td>\n",
              "      <td>9.186</td>\n",
              "      <td>9.423667</td>\n",
              "    </tr>\n",
              "    <tr>\n",
              "      <th>304</th>\n",
              "      <td>304</td>\n",
              "      <td>9.220</td>\n",
              "      <td>9.238</td>\n",
              "      <td>9.346</td>\n",
              "      <td>9.152</td>\n",
              "      <td>9.340333</td>\n",
              "    </tr>\n",
              "    <tr>\n",
              "      <th>305</th>\n",
              "      <td>305</td>\n",
              "      <td>9.212</td>\n",
              "      <td>9.208</td>\n",
              "      <td>9.238</td>\n",
              "      <td>9.196</td>\n",
              "      <td>9.286067</td>\n",
              "    </tr>\n",
              "    <tr>\n",
              "      <th>306</th>\n",
              "      <td>306</td>\n",
              "      <td>9.200</td>\n",
              "      <td>9.204</td>\n",
              "      <td>9.230</td>\n",
              "      <td>9.166</td>\n",
              "      <td>9.233933</td>\n",
              "    </tr>\n",
              "    <tr>\n",
              "      <th>307</th>\n",
              "      <td>307</td>\n",
              "      <td>9.286</td>\n",
              "      <td>9.286</td>\n",
              "      <td>9.360</td>\n",
              "      <td>9.238</td>\n",
              "      <td>9.224533</td>\n",
              "    </tr>\n",
              "    <tr>\n",
              "      <th>308</th>\n",
              "      <td>308</td>\n",
              "      <td>9.356</td>\n",
              "      <td>9.294</td>\n",
              "      <td>9.396</td>\n",
              "      <td>9.274</td>\n",
              "      <td>9.233733</td>\n",
              "    </tr>\n",
              "    <tr>\n",
              "      <th>309</th>\n",
              "      <td>309</td>\n",
              "      <td>9.490</td>\n",
              "      <td>9.488</td>\n",
              "      <td>9.510</td>\n",
              "      <td>9.436</td>\n",
              "      <td>9.273933</td>\n",
              "    </tr>\n",
              "    <tr>\n",
              "      <th>310</th>\n",
              "      <td>310</td>\n",
              "      <td>9.608</td>\n",
              "      <td>9.544</td>\n",
              "      <td>9.632</td>\n",
              "      <td>9.504</td>\n",
              "      <td>9.329333</td>\n",
              "    </tr>\n",
              "    <tr>\n",
              "      <th>311</th>\n",
              "      <td>311</td>\n",
              "      <td>9.812</td>\n",
              "      <td>9.772</td>\n",
              "      <td>9.824</td>\n",
              "      <td>9.764</td>\n",
              "      <td>9.417533</td>\n",
              "    </tr>\n",
              "    <tr>\n",
              "      <th>312</th>\n",
              "      <td>312</td>\n",
              "      <td>9.846</td>\n",
              "      <td>9.834</td>\n",
              "      <td>9.862</td>\n",
              "      <td>9.824</td>\n",
              "      <td>9.524400</td>\n",
              "    </tr>\n",
              "  </tbody>\n",
              "</table>\n",
              "</div>"
            ],
            "text/plain": [
              "     GroupId  Close   Open   High    Low  Close 30 Days Mean\n",
              "303      303  9.210  9.224  9.248  9.186            9.423667\n",
              "304      304  9.220  9.238  9.346  9.152            9.340333\n",
              "305      305  9.212  9.208  9.238  9.196            9.286067\n",
              "306      306  9.200  9.204  9.230  9.166            9.233933\n",
              "307      307  9.286  9.286  9.360  9.238            9.224533\n",
              "308      308  9.356  9.294  9.396  9.274            9.233733\n",
              "309      309  9.490  9.488  9.510  9.436            9.273933\n",
              "310      310  9.608  9.544  9.632  9.504            9.329333\n",
              "311      311  9.812  9.772  9.824  9.764            9.417533\n",
              "312      312  9.846  9.834  9.862  9.824            9.524400"
            ]
          },
          "metadata": {
            "tags": []
          }
        }
      ]
    },
    {
      "cell_type": "markdown",
      "metadata": {
        "colab_type": "text",
        "id": "MCNEWBbc4gHY"
      },
      "source": [
        "## Training"
      ]
    },
    {
      "cell_type": "code",
      "metadata": {
        "colab_type": "code",
        "id": "wSh3vpi-96qj",
        "outputId": "60f05b4a-1712-4377-9e06-c977131d1573",
        "colab": {
          "base_uri": "https://localhost:8080/",
          "height": 398
        }
      },
      "source": [
        "data = df[['Close']]\n",
        "data.plot(y='Close', figsize=(16,6))"
      ],
      "execution_count": 26,
      "outputs": [
        {
          "output_type": "execute_result",
          "data": {
            "text/plain": [
              "<matplotlib.axes._subplots.AxesSubplot at 0x7f3c128c9860>"
            ]
          },
          "metadata": {
            "tags": []
          },
          "execution_count": 26
        },
        {
          "output_type": "display_data",
          "data": {
            "image/png": "[encoded data removed]",
            "text/plain": [
              "<Figure size 1152x432 with 1 Axes>"
            ]
          },
          "metadata": {
            "tags": []
          }
        }
      ]
    },
    {
      "cell_type": "code",
      "metadata": {
        "colab_type": "code",
        "id": "rumN3IAA_x10",
        "outputId": "aa920425-827d-4122-eae4-1625052e6250",
        "colab": {
          "base_uri": "https://localhost:8080/",
          "height": 381
        }
      },
      "source": [
        "train = training_set[['Close']]\n",
        "test = test_set[['Close']]\n",
        "\n",
        "ax = train.plot(figsize=(16,6))\n",
        "test.plot(ax=ax)\n",
        "plt.legend(['train', 'test'])\n",
        "plt.show()"
      ],
      "execution_count": 27,
      "outputs": [
        {
          "output_type": "display_data",
          "data": {
            "image/png": "[encoded data removed]",
            "text/plain": [
              "<Figure size 1152x432 with 1 Axes>"
            ]
          },
          "metadata": {
            "tags": []
          }
        }
      ]
    },
    {
      "cell_type": "markdown",
      "metadata": {
        "colab_type": "text",
        "id": "JFw5Kc_NAyEb"
      },
      "source": [
        "### Normalize the data"
      ]
    },
    {
      "cell_type": "code",
      "metadata": {
        "colab_type": "code",
        "id": "JMHSVeOABwQq",
        "colab": {}
      },
      "source": [
        "from sklearn.preprocessing import MinMaxScaler\n",
        "sc = MinMaxScaler()\n",
        "train_sc = sc.fit_transform(train)\n",
        "test_sc = sc.transform(test)"
      ],
      "execution_count": 0,
      "outputs": []
    },
    {
      "cell_type": "code",
      "metadata": {
        "colab_type": "code",
        "id": "dMLFHAG5Byg6",
        "outputId": "6679928c-cc0e-4834-d565-42040f1e9ab1",
        "colab": {
          "base_uri": "https://localhost:8080/",
          "height": 119
        }
      },
      "source": [
        "train_sc_df = pd.DataFrame(train_sc, columns=['Y'], index=train.index)\n",
        "test_sc_df = pd.DataFrame(test_sc, columns=['Y'], index=test.index)\n",
        "\n",
        "for s in range(1,2):\n",
        "    train_sc_df['X_{}'.format(s)] = train_sc_df['Y'].shift(s)\n",
        "    test_sc_df['X_{}'.format(s)] = test_sc_df['Y'].shift(s)\n",
        "\n",
        "#print(train_sc_df)\n",
        "X_train = train_sc_df.dropna().drop('Y', axis=1)\n",
        "y_train = train_sc_df.dropna().drop('X_1', axis=1)\n",
        "\n",
        "X_test = test_sc_df.dropna().drop('Y', axis=1)\n",
        "y_test = test_sc_df.dropna().drop('X_1', axis=1)\n",
        "\n",
        "X_train = X_train.as_matrix()\n",
        "y_train = y_train.as_matrix()\n",
        "\n",
        "X_test = X_test.as_matrix()\n",
        "y_test = y_test.as_matrix()"
      ],
      "execution_count": 29,
      "outputs": [
        {
          "output_type": "stream",
          "text": [
            "/usr/local/lib/python3.6/dist-packages/ipykernel_launcher.py:15: FutureWarning: Method .as_matrix will be removed in a future version. Use .values instead.\n",
            "  from ipykernel import kernelapp as app\n",
            "/usr/local/lib/python3.6/dist-packages/ipykernel_launcher.py:16: FutureWarning: Method .as_matrix will be removed in a future version. Use .values instead.\n",
            "  app.launch_new_instance()\n",
            "/usr/local/lib/python3.6/dist-packages/ipykernel_launcher.py:18: FutureWarning: Method .as_matrix will be removed in a future version. Use .values instead.\n",
            "/usr/local/lib/python3.6/dist-packages/ipykernel_launcher.py:19: FutureWarning: Method .as_matrix will be removed in a future version. Use .values instead.\n"
          ],
          "name": "stderr"
        }
      ]
    },
    {
      "cell_type": "markdown",
      "metadata": {
        "colab_type": "text",
        "id": "aNr0UrAVB6IP"
      },
      "source": [
        "### SVM"
      ]
    },
    {
      "cell_type": "code",
      "metadata": {
        "colab_type": "code",
        "id": "tnoHefnsCPZ0",
        "outputId": "0ecada41-fa26-407c-81fd-cbb463c3739f",
        "colab": {
          "base_uri": "https://localhost:8080/",
          "height": 377
        }
      },
      "source": [
        "from sklearn.svm import SVR\n",
        "regressor = SVR(kernel='rbf')\n",
        "regressor.fit(X_train, y_train)\n",
        "y_pred = regressor.predict(X_test)\n",
        "\n",
        "plt.plot(y_test)\n",
        "plt.plot(y_pred)"
      ],
      "execution_count": 30,
      "outputs": [
        {
          "output_type": "stream",
          "text": [
            "/usr/local/lib/python3.6/dist-packages/sklearn/utils/validation.py:724: DataConversionWarning: A column-vector y was passed when a 1d array was expected. Please change the shape of y to (n_samples, ), for example using ravel().\n",
            "  y = column_or_1d(y, warn=True)\n",
            "/usr/local/lib/python3.6/dist-packages/sklearn/svm/base.py:193: FutureWarning: The default value of gamma will change from 'auto' to 'scale' in version 0.22 to account better for unscaled features. Set gamma explicitly to 'auto' or 'scale' to avoid this warning.\n",
            "  \"avoid this warning.\", FutureWarning)\n"
          ],
          "name": "stderr"
        },
        {
          "output_type": "execute_result",
          "data": {
            "text/plain": [
              "[<matplotlib.lines.Line2D at 0x7f3c1131e0f0>]"
            ]
          },
          "metadata": {
            "tags": []
          },
          "execution_count": 30
        },
        {
          "output_type": "display_data",
          "data": {
            "image/png": "[encoded data removed]",
            "text/plain": [
              "<Figure size 432x288 with 1 Axes>"
            ]
          },
          "metadata": {
            "tags": []
          }
        }
      ]
    },
    {
      "cell_type": "markdown",
      "metadata": {
        "colab_type": "text",
        "id": "bAx__D0tCVk-"
      },
      "source": [
        "### LSTM"
      ]
    },
    {
      "cell_type": "code",
      "metadata": {
        "colab_type": "code",
        "id": "AnB0rzOZC0TT",
        "colab": {}
      },
      "source": [
        "X_train = train_sc[:-1]\n",
        "y_train = train_sc[1:]\n",
        "\n",
        "X_test = test_sc[:-1]\n",
        "y_test = test_sc[1:]"
      ],
      "execution_count": 0,
      "outputs": []
    },
    {
      "cell_type": "code",
      "metadata": {
        "colab_type": "code",
        "id": "0cV6UaAcC1XG",
        "colab": {
          "base_uri": "https://localhost:8080/",
          "height": 34
        },
        "outputId": "2661874a-ee3b-4ca9-8539-23380e533807"
      },
      "source": [
        "from keras.models import Sequential\n",
        "from keras.layers import Dense\n",
        "import keras.backend as K\n",
        "from keras.callbacks import EarlyStopping\n",
        "from keras.optimizers import Adam\n",
        "from keras.models import load_model"
      ],
      "execution_count": 32,
      "outputs": [
        {
          "output_type": "stream",
          "text": [
            "Using TensorFlow backend.\n"
          ],
          "name": "stderr"
        }
      ]
    },
    {
      "cell_type": "code",
      "metadata": {
        "colab_type": "code",
        "id": "tVMUqJMZC3ws",
        "colab": {}
      },
      "source": [
        "X_tr_t = X_train.reshape(X_train.shape[0], 1, X_train.shape[1])\n",
        "X_tst_t = X_test.reshape(X_test.shape[0], 1, X_test.shape[1])\n",
        "#print(X_tr_t)"
      ],
      "execution_count": 0,
      "outputs": []
    },
    {
      "cell_type": "code",
      "metadata": {
        "colab_type": "code",
        "id": "rFWARPr6DfyL",
        "outputId": "577b932f-b394-4ad0-f588-f092513492f0",
        "colab": {
          "base_uri": "https://localhost:8080/",
          "height": 6851
        }
      },
      "source": [
        "from keras.layers import LSTM\n",
        "from sklearn.metrics import r2_score\n",
        "K.clear_session()\n",
        "model_lstm = Sequential()\n",
        "model_lstm.add(LSTM(7, input_shape=(1, X_train.shape[1]), activation='relu', kernel_initializer='lecun_uniform', return_sequences=False))\n",
        "model_lstm.add(Dense(1))\n",
        "model_lstm.compile(loss='mean_squared_error', optimizer='adam')\n",
        "early_stop = EarlyStopping(monitor='loss', patience=5, verbose=1)\n",
        "history_model_lstm = model_lstm.fit(X_tr_t, y_train, epochs=200, batch_size=32, verbose=1, shuffle=False, callbacks=[early_stop])\n",
        "\n",
        "y_pred_test_lstm = model_lstm.predict(X_tst_t)\n",
        "y_train_pred_lstm = model_lstm.predict(X_tr_t)\n",
        "print(\"The R2 score on the Train set is:\\t{:0.3f}\".format(r2_score(y_train, y_train_pred_lstm)))\n",
        "print(\"The R2 score on the Test set is:\\t{:0.3f}\".format(r2_score(y_test, y_pred_test_lstm)))"
      ],
      "execution_count": 37,
      "outputs": [
        {
          "output_type": "stream",
          "text": [
            "Epoch 1/200\n",
            "302/302 [==============================] - 1s 2ms/step - loss: 0.3737\n",
            "Epoch 2/200\n",
            "302/302 [==============================] - 0s 180us/step - loss: 0.3515\n",
            "Epoch 3/200\n",
            "302/302 [==============================] - 0s 172us/step - loss: 0.3304\n",
            "Epoch 4/200\n",
            "302/302 [==============================] - 0s 170us/step - loss: 0.3104\n",
            "Epoch 5/200\n",
            "302/302 [==============================] - 0s 178us/step - loss: 0.2914\n",
            "Epoch 6/200\n",
            "302/302 [==============================] - 0s 166us/step - loss: 0.2734\n",
            "Epoch 7/200\n",
            "302/302 [==============================] - 0s 173us/step - loss: 0.2564\n",
            "Epoch 8/200\n",
            "302/302 [==============================] - 0s 179us/step - loss: 0.2403\n",
            "Epoch 9/200\n",
            "302/302 [==============================] - 0s 177us/step - loss: 0.2250\n",
            "Epoch 10/200\n",
            "302/302 [==============================] - 0s 171us/step - loss: 0.2105\n",
            "Epoch 11/200\n",
            "302/302 [==============================] - 0s 178us/step - loss: 0.1967\n",
            "Epoch 12/200\n",
            "302/302 [==============================] - 0s 175us/step - loss: 0.1837\n",
            "Epoch 13/200\n",
            "302/302 [==============================] - 0s 164us/step - loss: 0.1714\n",
            "Epoch 14/200\n",
            "302/302 [==============================] - 0s 178us/step - loss: 0.1598\n",
            "Epoch 15/200\n",
            "302/302 [==============================] - 0s 174us/step - loss: 0.1488\n",
            "Epoch 16/200\n",
            "302/302 [==============================] - 0s 163us/step - loss: 0.1385\n",
            "Epoch 17/200\n",
            "302/302 [==============================] - 0s 164us/step - loss: 0.1287\n",
            "Epoch 18/200\n",
            "302/302 [==============================] - 0s 172us/step - loss: 0.1196\n",
            "Epoch 19/200\n",
            "302/302 [==============================] - 0s 163us/step - loss: 0.1110\n",
            "Epoch 20/200\n",
            "302/302 [==============================] - 0s 218us/step - loss: 0.1030\n",
            "Epoch 21/200\n",
            "302/302 [==============================] - 0s 160us/step - loss: 0.0956\n",
            "Epoch 22/200\n",
            "302/302 [==============================] - 0s 170us/step - loss: 0.0887\n",
            "Epoch 23/200\n",
            "302/302 [==============================] - 0s 175us/step - loss: 0.0823\n",
            "Epoch 24/200\n",
            "302/302 [==============================] - 0s 168us/step - loss: 0.0764\n",
            "Epoch 25/200\n",
            "302/302 [==============================] - 0s 164us/step - loss: 0.0710\n",
            "Epoch 26/200\n",
            "302/302 [==============================] - 0s 168us/step - loss: 0.0661\n",
            "Epoch 27/200\n",
            "302/302 [==============================] - 0s 166us/step - loss: 0.0616\n",
            "Epoch 28/200\n",
            "302/302 [==============================] - 0s 169us/step - loss: 0.0575\n",
            "Epoch 29/200\n",
            "302/302 [==============================] - 0s 165us/step - loss: 0.0538\n",
            "Epoch 30/200\n",
            "302/302 [==============================] - 0s 171us/step - loss: 0.0505\n",
            "Epoch 31/200\n",
            "302/302 [==============================] - 0s 169us/step - loss: 0.0476\n",
            "Epoch 32/200\n",
            "302/302 [==============================] - 0s 166us/step - loss: 0.0450\n",
            "Epoch 33/200\n",
            "302/302 [==============================] - 0s 168us/step - loss: 0.0426\n",
            "Epoch 34/200\n",
            "302/302 [==============================] - 0s 166us/step - loss: 0.0406\n",
            "Epoch 35/200\n",
            "302/302 [==============================] - 0s 164us/step - loss: 0.0388\n",
            "Epoch 36/200\n",
            "302/302 [==============================] - 0s 168us/step - loss: 0.0373\n",
            "Epoch 37/200\n",
            "302/302 [==============================] - 0s 169us/step - loss: 0.0359\n",
            "Epoch 38/200\n",
            "302/302 [==============================] - 0s 166us/step - loss: 0.0347\n",
            "Epoch 39/200\n",
            "302/302 [==============================] - 0s 187us/step - loss: 0.0337\n",
            "Epoch 40/200\n",
            "302/302 [==============================] - 0s 180us/step - loss: 0.0328\n",
            "Epoch 41/200\n",
            "302/302 [==============================] - 0s 168us/step - loss: 0.0320\n",
            "Epoch 42/200\n",
            "302/302 [==============================] - 0s 167us/step - loss: 0.0314\n",
            "Epoch 43/200\n",
            "302/302 [==============================] - 0s 167us/step - loss: 0.0308\n",
            "Epoch 44/200\n",
            "302/302 [==============================] - 0s 165us/step - loss: 0.0302\n",
            "Epoch 45/200\n",
            "302/302 [==============================] - 0s 173us/step - loss: 0.0298\n",
            "Epoch 46/200\n",
            "302/302 [==============================] - 0s 169us/step - loss: 0.0294\n",
            "Epoch 47/200\n",
            "302/302 [==============================] - 0s 177us/step - loss: 0.0290\n",
            "Epoch 48/200\n",
            "302/302 [==============================] - 0s 170us/step - loss: 0.0286\n",
            "Epoch 49/200\n",
            "302/302 [==============================] - 0s 160us/step - loss: 0.0283\n",
            "Epoch 50/200\n",
            "302/302 [==============================] - 0s 167us/step - loss: 0.0280\n",
            "Epoch 51/200\n",
            "302/302 [==============================] - 0s 174us/step - loss: 0.0277\n",
            "Epoch 52/200\n",
            "302/302 [==============================] - 0s 168us/step - loss: 0.0275\n",
            "Epoch 53/200\n",
            "302/302 [==============================] - 0s 166us/step - loss: 0.0272\n",
            "Epoch 54/200\n",
            "302/302 [==============================] - 0s 166us/step - loss: 0.0270\n",
            "Epoch 55/200\n",
            "302/302 [==============================] - 0s 165us/step - loss: 0.0267\n",
            "Epoch 56/200\n",
            "302/302 [==============================] - 0s 169us/step - loss: 0.0265\n",
            "Epoch 57/200\n",
            "302/302 [==============================] - 0s 169us/step - loss: 0.0262\n",
            "Epoch 58/200\n",
            "302/302 [==============================] - 0s 168us/step - loss: 0.0260\n",
            "Epoch 59/200\n",
            "302/302 [==============================] - 0s 221us/step - loss: 0.0257\n",
            "Epoch 60/200\n",
            "302/302 [==============================] - 0s 164us/step - loss: 0.0255\n",
            "Epoch 61/200\n",
            "302/302 [==============================] - 0s 166us/step - loss: 0.0253\n",
            "Epoch 62/200\n",
            "302/302 [==============================] - 0s 164us/step - loss: 0.0250\n",
            "Epoch 63/200\n",
            "302/302 [==============================] - 0s 173us/step - loss: 0.0248\n",
            "Epoch 64/200\n",
            "302/302 [==============================] - 0s 187us/step - loss: 0.0246\n",
            "Epoch 65/200\n",
            "302/302 [==============================] - 0s 178us/step - loss: 0.0243\n",
            "Epoch 66/200\n",
            "302/302 [==============================] - 0s 174us/step - loss: 0.0241\n",
            "Epoch 67/200\n",
            "302/302 [==============================] - 0s 166us/step - loss: 0.0239\n",
            "Epoch 68/200\n",
            "302/302 [==============================] - 0s 159us/step - loss: 0.0236\n",
            "Epoch 69/200\n",
            "302/302 [==============================] - 0s 170us/step - loss: 0.0234\n",
            "Epoch 70/200\n",
            "302/302 [==============================] - 0s 162us/step - loss: 0.0232\n",
            "Epoch 71/200\n",
            "302/302 [==============================] - 0s 179us/step - loss: 0.0229\n",
            "Epoch 72/200\n",
            "302/302 [==============================] - 0s 200us/step - loss: 0.0227\n",
            "Epoch 73/200\n",
            "302/302 [==============================] - 0s 195us/step - loss: 0.0225\n",
            "Epoch 74/200\n",
            "302/302 [==============================] - 0s 187us/step - loss: 0.0222\n",
            "Epoch 75/200\n",
            "302/302 [==============================] - 0s 168us/step - loss: 0.0220\n",
            "Epoch 76/200\n",
            "302/302 [==============================] - 0s 180us/step - loss: 0.0218\n",
            "Epoch 77/200\n",
            "302/302 [==============================] - 0s 168us/step - loss: 0.0215\n",
            "Epoch 78/200\n",
            "302/302 [==============================] - 0s 188us/step - loss: 0.0213\n",
            "Epoch 79/200\n",
            "302/302 [==============================] - 0s 174us/step - loss: 0.0210\n",
            "Epoch 80/200\n",
            "302/302 [==============================] - 0s 171us/step - loss: 0.0208\n",
            "Epoch 81/200\n",
            "302/302 [==============================] - 0s 169us/step - loss: 0.0206\n",
            "Epoch 82/200\n",
            "302/302 [==============================] - 0s 168us/step - loss: 0.0203\n",
            "Epoch 83/200\n",
            "302/302 [==============================] - 0s 168us/step - loss: 0.0201\n",
            "Epoch 84/200\n",
            "302/302 [==============================] - 0s 170us/step - loss: 0.0199\n",
            "Epoch 85/200\n",
            "302/302 [==============================] - 0s 168us/step - loss: 0.0197\n",
            "Epoch 86/200\n",
            "302/302 [==============================] - 0s 172us/step - loss: 0.0194\n",
            "Epoch 87/200\n",
            "302/302 [==============================] - 0s 166us/step - loss: 0.0192\n",
            "Epoch 88/200\n",
            "302/302 [==============================] - 0s 171us/step - loss: 0.0190\n",
            "Epoch 89/200\n",
            "302/302 [==============================] - 0s 164us/step - loss: 0.0187\n",
            "Epoch 90/200\n",
            "302/302 [==============================] - 0s 166us/step - loss: 0.0185\n",
            "Epoch 91/200\n",
            "302/302 [==============================] - 0s 164us/step - loss: 0.0183\n",
            "Epoch 92/200\n",
            "302/302 [==============================] - 0s 168us/step - loss: 0.0181\n",
            "Epoch 93/200\n",
            "302/302 [==============================] - 0s 164us/step - loss: 0.0178\n",
            "Epoch 94/200\n",
            "302/302 [==============================] - 0s 169us/step - loss: 0.0176\n",
            "Epoch 95/200\n",
            "302/302 [==============================] - 0s 169us/step - loss: 0.0174\n",
            "Epoch 96/200\n",
            "302/302 [==============================] - 0s 170us/step - loss: 0.0172\n",
            "Epoch 97/200\n",
            "302/302 [==============================] - 0s 203us/step - loss: 0.0169\n",
            "Epoch 98/200\n",
            "302/302 [==============================] - 0s 166us/step - loss: 0.0167\n",
            "Epoch 99/200\n",
            "302/302 [==============================] - 0s 164us/step - loss: 0.0165\n",
            "Epoch 100/200\n",
            "302/302 [==============================] - 0s 167us/step - loss: 0.0163\n",
            "Epoch 101/200\n",
            "302/302 [==============================] - 0s 173us/step - loss: 0.0161\n",
            "Epoch 102/200\n",
            "302/302 [==============================] - 0s 166us/step - loss: 0.0158\n",
            "Epoch 103/200\n",
            "302/302 [==============================] - 0s 169us/step - loss: 0.0156\n",
            "Epoch 104/200\n",
            "302/302 [==============================] - 0s 167us/step - loss: 0.0154\n",
            "Epoch 105/200\n",
            "302/302 [==============================] - 0s 172us/step - loss: 0.0152\n",
            "Epoch 106/200\n",
            "302/302 [==============================] - 0s 165us/step - loss: 0.0150\n",
            "Epoch 107/200\n",
            "302/302 [==============================] - 0s 179us/step - loss: 0.0148\n",
            "Epoch 108/200\n",
            "302/302 [==============================] - 0s 165us/step - loss: 0.0146\n",
            "Epoch 109/200\n",
            "302/302 [==============================] - 0s 163us/step - loss: 0.0144\n",
            "Epoch 110/200\n",
            "302/302 [==============================] - 0s 164us/step - loss: 0.0142\n",
            "Epoch 111/200\n",
            "302/302 [==============================] - 0s 168us/step - loss: 0.0140\n",
            "Epoch 112/200\n",
            "302/302 [==============================] - 0s 167us/step - loss: 0.0138\n",
            "Epoch 113/200\n",
            "302/302 [==============================] - 0s 180us/step - loss: 0.0135\n",
            "Epoch 114/200\n",
            "302/302 [==============================] - 0s 176us/step - loss: 0.0133\n",
            "Epoch 115/200\n",
            "302/302 [==============================] - 0s 169us/step - loss: 0.0131\n",
            "Epoch 116/200\n",
            "302/302 [==============================] - 0s 168us/step - loss: 0.0130\n",
            "Epoch 117/200\n",
            "302/302 [==============================] - 0s 200us/step - loss: 0.0128\n",
            "Epoch 118/200\n",
            "302/302 [==============================] - 0s 166us/step - loss: 0.0126\n",
            "Epoch 119/200\n",
            "302/302 [==============================] - 0s 165us/step - loss: 0.0124\n",
            "Epoch 120/200\n",
            "302/302 [==============================] - 0s 170us/step - loss: 0.0122\n",
            "Epoch 121/200\n",
            "302/302 [==============================] - 0s 168us/step - loss: 0.0120\n",
            "Epoch 122/200\n",
            "302/302 [==============================] - 0s 175us/step - loss: 0.0118\n",
            "Epoch 123/200\n",
            "302/302 [==============================] - 0s 176us/step - loss: 0.0116\n",
            "Epoch 124/200\n",
            "302/302 [==============================] - 0s 172us/step - loss: 0.0114\n",
            "Epoch 125/200\n",
            "302/302 [==============================] - 0s 174us/step - loss: 0.0112\n",
            "Epoch 126/200\n",
            "302/302 [==============================] - 0s 179us/step - loss: 0.0111\n",
            "Epoch 127/200\n",
            "302/302 [==============================] - 0s 167us/step - loss: 0.0109\n",
            "Epoch 128/200\n",
            "302/302 [==============================] - 0s 172us/step - loss: 0.0107\n",
            "Epoch 129/200\n",
            "302/302 [==============================] - 0s 167us/step - loss: 0.0105\n",
            "Epoch 130/200\n",
            "302/302 [==============================] - 0s 170us/step - loss: 0.0104\n",
            "Epoch 131/200\n",
            "302/302 [==============================] - 0s 168us/step - loss: 0.0102\n",
            "Epoch 132/200\n",
            "302/302 [==============================] - 0s 166us/step - loss: 0.0100\n",
            "Epoch 133/200\n",
            "302/302 [==============================] - 0s 166us/step - loss: 0.0098\n",
            "Epoch 134/200\n",
            "302/302 [==============================] - 0s 180us/step - loss: 0.0097\n",
            "Epoch 135/200\n",
            "302/302 [==============================] - 0s 174us/step - loss: 0.0095\n",
            "Epoch 136/200\n",
            "302/302 [==============================] - 0s 199us/step - loss: 0.0093\n",
            "Epoch 137/200\n",
            "302/302 [==============================] - 0s 173us/step - loss: 0.0092\n",
            "Epoch 138/200\n",
            "302/302 [==============================] - 0s 177us/step - loss: 0.0090\n",
            "Epoch 139/200\n",
            "302/302 [==============================] - 0s 173us/step - loss: 0.0089\n",
            "Epoch 140/200\n",
            "302/302 [==============================] - 0s 171us/step - loss: 0.0087\n",
            "Epoch 141/200\n",
            "302/302 [==============================] - 0s 169us/step - loss: 0.0086\n",
            "Epoch 142/200\n",
            "302/302 [==============================] - 0s 168us/step - loss: 0.0084\n",
            "Epoch 143/200\n",
            "302/302 [==============================] - 0s 162us/step - loss: 0.0083\n",
            "Epoch 144/200\n",
            "302/302 [==============================] - 0s 173us/step - loss: 0.0081\n",
            "Epoch 145/200\n",
            "302/302 [==============================] - 0s 167us/step - loss: 0.0080\n",
            "Epoch 146/200\n",
            "302/302 [==============================] - 0s 165us/step - loss: 0.0078\n",
            "Epoch 147/200\n",
            "302/302 [==============================] - 0s 170us/step - loss: 0.0077\n",
            "Epoch 148/200\n",
            "302/302 [==============================] - 0s 188us/step - loss: 0.0075\n",
            "Epoch 149/200\n",
            "302/302 [==============================] - 0s 186us/step - loss: 0.0074\n",
            "Epoch 150/200\n",
            "302/302 [==============================] - 0s 178us/step - loss: 0.0073\n",
            "Epoch 151/200\n",
            "302/302 [==============================] - 0s 164us/step - loss: 0.0071\n",
            "Epoch 152/200\n",
            "302/302 [==============================] - 0s 177us/step - loss: 0.0070\n",
            "Epoch 153/200\n",
            "302/302 [==============================] - 0s 174us/step - loss: 0.0069\n",
            "Epoch 154/200\n",
            "302/302 [==============================] - 0s 173us/step - loss: 0.0067\n",
            "Epoch 155/200\n",
            "302/302 [==============================] - 0s 241us/step - loss: 0.0066\n",
            "Epoch 156/200\n",
            "302/302 [==============================] - 0s 172us/step - loss: 0.0065\n",
            "Epoch 157/200\n",
            "302/302 [==============================] - 0s 184us/step - loss: 0.0064\n",
            "Epoch 158/200\n",
            "302/302 [==============================] - 0s 183us/step - loss: 0.0062\n",
            "Epoch 159/200\n",
            "302/302 [==============================] - 0s 195us/step - loss: 0.0061\n",
            "Epoch 160/200\n",
            "302/302 [==============================] - 0s 170us/step - loss: 0.0060\n",
            "Epoch 161/200\n",
            "302/302 [==============================] - 0s 167us/step - loss: 0.0059\n",
            "Epoch 162/200\n",
            "302/302 [==============================] - 0s 166us/step - loss: 0.0058\n",
            "Epoch 163/200\n",
            "302/302 [==============================] - 0s 165us/step - loss: 0.0057\n",
            "Epoch 164/200\n",
            "302/302 [==============================] - 0s 164us/step - loss: 0.0056\n",
            "Epoch 165/200\n",
            "302/302 [==============================] - 0s 166us/step - loss: 0.0055\n",
            "Epoch 166/200\n",
            "302/302 [==============================] - 0s 169us/step - loss: 0.0054\n",
            "Epoch 167/200\n",
            "302/302 [==============================] - 0s 180us/step - loss: 0.0053\n",
            "Epoch 168/200\n",
            "302/302 [==============================] - 0s 183us/step - loss: 0.0052\n",
            "Epoch 169/200\n",
            "302/302 [==============================] - 0s 186us/step - loss: 0.0051\n",
            "Epoch 170/200\n",
            "302/302 [==============================] - 0s 186us/step - loss: 0.0050\n",
            "Epoch 171/200\n",
            "302/302 [==============================] - 0s 182us/step - loss: 0.0049\n",
            "Epoch 172/200\n",
            "302/302 [==============================] - 0s 172us/step - loss: 0.0048\n",
            "Epoch 173/200\n",
            "302/302 [==============================] - 0s 164us/step - loss: 0.0047\n",
            "Epoch 174/200\n",
            "302/302 [==============================] - 0s 199us/step - loss: 0.0046\n",
            "Epoch 175/200\n",
            "302/302 [==============================] - 0s 177us/step - loss: 0.0045\n",
            "Epoch 176/200\n",
            "302/302 [==============================] - 0s 169us/step - loss: 0.0044\n",
            "Epoch 177/200\n",
            "302/302 [==============================] - 0s 179us/step - loss: 0.0043\n",
            "Epoch 178/200\n",
            "302/302 [==============================] - 0s 182us/step - loss: 0.0043\n",
            "Epoch 179/200\n",
            "302/302 [==============================] - 0s 176us/step - loss: 0.0042\n",
            "Epoch 180/200\n",
            "302/302 [==============================] - 0s 170us/step - loss: 0.0041\n",
            "Epoch 181/200\n",
            "302/302 [==============================] - 0s 240us/step - loss: 0.0040\n",
            "Epoch 182/200\n",
            "302/302 [==============================] - 0s 190us/step - loss: 0.0040\n",
            "Epoch 183/200\n",
            "302/302 [==============================] - 0s 165us/step - loss: 0.0039\n",
            "Epoch 184/200\n",
            "302/302 [==============================] - 0s 179us/step - loss: 0.0038\n",
            "Epoch 185/200\n",
            "302/302 [==============================] - 0s 172us/step - loss: 0.0038\n",
            "Epoch 186/200\n",
            "302/302 [==============================] - 0s 164us/step - loss: 0.0037\n",
            "Epoch 187/200\n",
            "302/302 [==============================] - 0s 167us/step - loss: 0.0036\n",
            "Epoch 188/200\n",
            "302/302 [==============================] - 0s 166us/step - loss: 0.0036\n",
            "Epoch 189/200\n",
            "302/302 [==============================] - 0s 166us/step - loss: 0.0035\n",
            "Epoch 190/200\n",
            "302/302 [==============================] - 0s 166us/step - loss: 0.0034\n",
            "Epoch 191/200\n",
            "302/302 [==============================] - 0s 168us/step - loss: 0.0034\n",
            "Epoch 192/200\n",
            "302/302 [==============================] - 0s 160us/step - loss: 0.0033\n",
            "Epoch 193/200\n",
            "302/302 [==============================] - 0s 192us/step - loss: 0.0033\n",
            "Epoch 194/200\n",
            "302/302 [==============================] - 0s 165us/step - loss: 0.0032\n",
            "Epoch 195/200\n",
            "302/302 [==============================] - 0s 180us/step - loss: 0.0032\n",
            "Epoch 196/200\n",
            "302/302 [==============================] - 0s 170us/step - loss: 0.0031\n",
            "Epoch 197/200\n",
            "302/302 [==============================] - 0s 169us/step - loss: 0.0031\n",
            "Epoch 198/200\n",
            "302/302 [==============================] - 0s 165us/step - loss: 0.0030\n",
            "Epoch 199/200\n",
            "302/302 [==============================] - 0s 164us/step - loss: 0.0030\n",
            "Epoch 200/200\n",
            "302/302 [==============================] - 0s 164us/step - loss: 0.0029\n",
            "The R2 score on the Train set is:\t0.942\n",
            "The R2 score on the Test set is:\t0.868\n"
          ],
          "name": "stdout"
        }
      ]
    },
    {
      "cell_type": "code",
      "metadata": {
        "colab_type": "code",
        "id": "0bSOu86DDz4K",
        "colab": {}
      },
      "source": [
        "model_lstm.save('LSTM_NonShift.h5')"
      ],
      "execution_count": 0,
      "outputs": []
    },
    {
      "cell_type": "markdown",
      "metadata": {
        "colab_type": "text",
        "id": "d843A6fWD5pA"
      },
      "source": [
        "### Prediction"
      ]
    },
    {
      "cell_type": "code",
      "metadata": {
        "colab_type": "code",
        "id": "ON2jwRIbD--y",
        "colab": {}
      },
      "source": [
        "model_lstm = load_model('LSTM_NonShift.h5')"
      ],
      "execution_count": 0,
      "outputs": []
    },
    {
      "cell_type": "code",
      "metadata": {
        "colab_type": "code",
        "id": "zg-ftaSwEAaB",
        "outputId": "2168a9af-086b-4855-ec4a-a30cb56f6e4c",
        "colab": {
          "base_uri": "https://localhost:8080/",
          "height": 34
        }
      },
      "source": [
        "score_lstm= model_lstm.evaluate(X_tst_t, y_test, batch_size=32)\n"
      ],
      "execution_count": 40,
      "outputs": [
        {
          "output_type": "stream",
          "text": [
            "75/75 [==============================] - 0s 2ms/step\n"
          ],
          "name": "stdout"
        }
      ]
    },
    {
      "cell_type": "code",
      "metadata": {
        "colab_type": "code",
        "id": "eS_WBfjxECi_",
        "outputId": "6a693cab-5d26-41d4-fae7-15d082f16c96",
        "colab": {
          "base_uri": "https://localhost:8080/",
          "height": 34
        }
      },
      "source": [
        "print('LSTM: %f'%score_lstm)"
      ],
      "execution_count": 41,
      "outputs": [
        {
          "output_type": "stream",
          "text": [
            "LSTM: 0.003062\n"
          ],
          "name": "stdout"
        }
      ]
    },
    {
      "cell_type": "code",
      "metadata": {
        "colab_type": "code",
        "id": "CSmj_gU6EF8V",
        "colab": {}
      },
      "source": [
        "y_pred_test_LSTM = model_lstm.predict(X_tst_t)"
      ],
      "execution_count": 0,
      "outputs": []
    },
    {
      "cell_type": "code",
      "metadata": {
        "colab_type": "code",
        "id": "ctakfYmKEJPF",
        "colab": {}
      },
      "source": [
        "col1 = pd.DataFrame(y_test, columns=['True'])\n",
        "#col2 = pd.DataFrame(y_pred_test_ANN, columns=['ANN_prediction'])\n",
        "col3 = pd.DataFrame(y_pred_test_LSTM, columns=['LSTM_prediction'])\n",
        "#col4 = pd.DataFrame(history.history['loss'], columns=['Loss_ANN'])\n",
        "col5 = pd.DataFrame(history_model_lstm.history['loss'], columns=['Loss_LSTM'])\n",
        "results = pd.concat([col1, col3, col5], axis=1)\n",
        "results.to_excel('PredictionResults_ANN-LSTM_NonShift.xlsx')"
      ],
      "execution_count": 0,
      "outputs": []
    },
    {
      "cell_type": "code",
      "metadata": {
        "colab_type": "code",
        "id": "mKBMfFAcEaKN",
        "outputId": "0c70d30f-298c-43d4-cafb-aeca20fe237d",
        "colab": {
          "base_uri": "https://localhost:8080/",
          "height": 302
        }
      },
      "source": [
        "plt.plot(y_test, label='True')\n",
        "plt.plot(y_pred_test_LSTM, label='LSTM')\n",
        "plt.title(\"LSTM's_Prediction\")\n",
        "plt.xlabel('Observation')\n",
        "plt.ylabel('Price Scaled')\n",
        "plt.legend()\n",
        "plt.show()"
      ],
      "execution_count": 44,
      "outputs": [
        {
          "output_type": "display_data",
          "data": {
            "image/png": "[encoded data removed]",
            "text/plain": [
              "<Figure size 432x288 with 1 Axes>"
            ]
          },
          "metadata": {
            "tags": []
          }
        }
      ]
    },
    {
      "cell_type": "code",
      "metadata": {
        "colab_type": "code",
        "id": "80xXk6_SEdQt",
        "colab": {
          "base_uri": "https://localhost:8080/",
          "height": 1309
        },
        "outputId": "2784318b-f4ab-43e8-e4db-3f7c221784cf"
      },
      "source": [
        "y_test_real = sc.inverse_transform(y_test)\n",
        "display(len(y_test_real), y_test_real)"
      ],
      "execution_count": 47,
      "outputs": [
        {
          "output_type": "display_data",
          "data": {
            "text/plain": [
              "75"
            ]
          },
          "metadata": {
            "tags": []
          }
        },
        {
          "output_type": "display_data",
          "data": {
            "text/plain": [
              "array([[ 9.22 ],\n",
              "       [ 9.212],\n",
              "       [ 9.2  ],\n",
              "       [ 9.286],\n",
              "       [ 9.356],\n",
              "       [ 9.49 ],\n",
              "       [ 9.608],\n",
              "       [ 9.812],\n",
              "       [ 9.846],\n",
              "       [ 9.874],\n",
              "       [10.058],\n",
              "       [10.052],\n",
              "       [10.08 ],\n",
              "       [10.184],\n",
              "       [10.444],\n",
              "       [10.46 ],\n",
              "       [10.4  ],\n",
              "       [10.396],\n",
              "       [10.532],\n",
              "       [10.468],\n",
              "       [10.524],\n",
              "       [10.644],\n",
              "       [10.652],\n",
              "       [10.66 ],\n",
              "       [10.796],\n",
              "       [10.704],\n",
              "       [ 9.906],\n",
              "       [ 9.778],\n",
              "       [ 9.622],\n",
              "       [ 9.192],\n",
              "       [ 8.896],\n",
              "       [ 9.008],\n",
              "       [ 9.372],\n",
              "       [ 9.718],\n",
              "       [ 9.842],\n",
              "       [ 9.84 ],\n",
              "       [ 9.892],\n",
              "       [ 9.79 ],\n",
              "       [ 9.874],\n",
              "       [ 9.968],\n",
              "       [ 9.87 ],\n",
              "       [ 9.772],\n",
              "       [ 9.774],\n",
              "       [ 9.692],\n",
              "       [ 9.52 ],\n",
              "       [ 9.588],\n",
              "       [ 9.392],\n",
              "       [ 9.402],\n",
              "       [ 9.256],\n",
              "       [ 9.404],\n",
              "       [ 9.418],\n",
              "       [ 9.422],\n",
              "       [ 9.372],\n",
              "       [ 9.332],\n",
              "       [ 9.32 ],\n",
              "       [ 9.406],\n",
              "       [ 9.46 ],\n",
              "       [ 9.444],\n",
              "       [ 9.598],\n",
              "       [ 9.598],\n",
              "       [ 9.566],\n",
              "       [ 9.496],\n",
              "       [ 9.548],\n",
              "       [ 9.534],\n",
              "       [ 9.506],\n",
              "       [ 9.462],\n",
              "       [ 9.258],\n",
              "       [ 9.246],\n",
              "       [ 9.276],\n",
              "       [ 9.146],\n",
              "       [ 9.134],\n",
              "       [ 9.208],\n",
              "       [ 9.04 ],\n",
              "       [ 8.982],\n",
              "       [ 9.   ]])"
            ]
          },
          "metadata": {
            "tags": []
          }
        }
      ]
    },
    {
      "cell_type": "code",
      "metadata": {
        "id": "SbjQAC8UJbvZ",
        "colab_type": "code",
        "colab": {
          "base_uri": "https://localhost:8080/",
          "height": 1309
        },
        "outputId": "6718c766-6af5-4deb-ad72-8384df6ea14c"
      },
      "source": [
        "y_test_predict = sc.inverse_transform(y_pred_test_LSTM)\n",
        "display(len(y_test_predict), y_test_predict)"
      ],
      "execution_count": 48,
      "outputs": [
        {
          "output_type": "display_data",
          "data": {
            "text/plain": [
              "75"
            ]
          },
          "metadata": {
            "tags": []
          }
        },
        {
          "output_type": "display_data",
          "data": {
            "text/plain": [
              "array([[ 9.20546  ],\n",
              "       [ 9.213921 ],\n",
              "       [ 9.207151 ],\n",
              "       [ 9.197005 ],\n",
              "       [ 9.269927 ],\n",
              "       [ 9.32963  ],\n",
              "       [ 9.444799 ],\n",
              "       [ 9.547175 ],\n",
              "       [ 9.721191 ],\n",
              "       [ 9.750429 ],\n",
              "       [ 9.774581 ],\n",
              "       [ 9.934961 ],\n",
              "       [ 9.929686 ],\n",
              "       [ 9.954332 ],\n",
              "       [10.046465 ],\n",
              "       [10.280878 ],\n",
              "       [10.295494 ],\n",
              "       [10.240797 ],\n",
              "       [10.237162 ],\n",
              "       [10.361542 ],\n",
              "       [10.30281  ],\n",
              "       [10.35418  ],\n",
              "       [10.465178 ],\n",
              "       [10.472622 ],\n",
              "       [10.480072 ],\n",
              "       [10.607572 ],\n",
              "       [10.521145 ],\n",
              "       [ 9.802264 ],\n",
              "       [ 9.692054 ],\n",
              "       [ 9.5593815],\n",
              "       [ 9.190246 ],\n",
              "       [ 8.943    ],\n",
              "       [ 9.035901 ],\n",
              "       [ 9.343322 ],\n",
              "       [ 9.640875 ],\n",
              "       [ 9.746984 ],\n",
              "       [ 9.745262 ],\n",
              "       [ 9.790142 ],\n",
              "       [ 9.702326 ],\n",
              "       [ 9.774581 ],\n",
              "       [ 9.856152 ],\n",
              "       [ 9.771126 ],\n",
              "       [ 9.686922 ],\n",
              "       [ 9.688632 ],\n",
              "       [ 9.618792 ],\n",
              "       [ 9.470741 ],\n",
              "       [ 9.52976  ],\n",
              "       [ 9.360457 ],\n",
              "       [ 9.369036 ],\n",
              "       [ 9.244435 ],\n",
              "       [ 9.370751 ],\n",
              "       [ 9.382773 ],\n",
              "       [ 9.386211 ],\n",
              "       [ 9.343322 ],\n",
              "       [ 9.309125 ],\n",
              "       [ 9.298886 ],\n",
              "       [ 9.372468 ],\n",
              "       [ 9.418915 ],\n",
              "       [ 9.405133 ],\n",
              "       [ 9.538465 ],\n",
              "       [ 9.538465 ],\n",
              "       [ 9.510633 ],\n",
              "       [ 9.449983 ],\n",
              "       [ 9.4950075],\n",
              "       [ 9.482868 ],\n",
              "       [ 9.458628 ],\n",
              "       [ 9.420638 ],\n",
              "       [ 9.246133 ],\n",
              "       [ 9.23595  ],\n",
              "       [ 9.261422 ],\n",
              "       [ 9.151458 ],\n",
              "       [ 9.141361 ],\n",
              "       [ 9.203769 ],\n",
              "       [ 9.062589 ],\n",
              "       [ 9.014264 ]], dtype=float32)"
            ]
          },
          "metadata": {
            "tags": []
          }
        }
      ]
    },
    {
      "cell_type": "code",
      "metadata": {
        "id": "4JsU4fTyMj26",
        "colab_type": "code",
        "colab": {
          "base_uri": "https://localhost:8080/",
          "height": 302
        },
        "outputId": "d4077052-be3f-4efd-924a-0a815bb25c77"
      },
      "source": [
        "plt.plot(y_test_real, label='True')\n",
        "plt.plot(y_test_predict, label='LSTM')\n",
        "plt.title(\"LSTM's_Prediction\")\n",
        "plt.xlabel('Observation')\n",
        "plt.ylabel('Price Scaled')\n",
        "plt.legend()\n",
        "plt.show()"
      ],
      "execution_count": 49,
      "outputs": [
        {
          "output_type": "display_data",
          "data": {
            "image/png": "[encoded data removed]",
            "text/plain": [
              "<Figure size 432x288 with 1 Axes>"
            ]
          },
          "metadata": {
            "tags": []
          }
        }
      ]
    },
    {
      "cell_type": "code",
      "metadata": {
        "id": "H0bUiRcCM5Rl",
        "colab_type": "code",
        "colab": {}
      },
      "source": [
        ""
      ],
      "execution_count": 0,
      "outputs": []
    }
  ]
}
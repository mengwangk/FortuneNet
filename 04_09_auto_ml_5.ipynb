{
  "nbformat": 4,
  "nbformat_minor": 0,
  "metadata": {
    "accelerator": "GPU",
    "colab": {
      "name": "04_02_automated_machine_learning.ipynb",
      "provenance": [],
      "machine_shape": "hm",
      "include_colab_link": true
    },
    "kernelspec": {
      "display_name": "Python 3",
      "language": "python",
      "name": "python3"
    },
    "language_info": {
      "codemirror_mode": {
        "name": "ipython",
        "version": 3
      },
      "file_extension": ".py",
      "mimetype": "text/x-python",
      "name": "python",
      "nbconvert_exporter": "python",
      "pygments_lexer": "ipython3",
      "version": "3.7.2"
    }
  },
  "cells": [
    {
      "cell_type": "markdown",
      "metadata": {
        "id": "view-in-github",
        "colab_type": "text"
      },
      "source": [
        "<a href=\"https://colab.research.google.com/github/mengwangk/dl-projects/blob/master/04_09_auto_ml_5.ipynb\" target=\"_parent\"><img src=\"https://colab.research.google.com/assets/colab-badge.svg\" alt=\"Open In Colab\"/></a>"
      ]
    },
    {
      "cell_type": "markdown",
      "metadata": {
        "colab_type": "text",
        "id": "4hyoPGdjpqa_"
      },
      "source": [
        "# Automated ML - Tuning"
      ]
    },
    {
      "cell_type": "code",
      "metadata": {
        "colab_type": "code",
        "id": "SLxr2k_ue8yq",
        "colab": {}
      },
      "source": [
        "COLAB = True\n",
        "\n",
        "DATASET_NAME = '4D.zip'\n",
        "\n",
        "FEATURE_DATASET_PREFIX = 'feature_matrix_d2_v3'"
      ],
      "execution_count": 0,
      "outputs": []
    },
    {
      "cell_type": "code",
      "metadata": {
        "colab_type": "code",
        "id": "wwYshXtLt7b7",
        "colab": {}
      },
      "source": [
        "#!pip install -U imblearn\n",
        "#!pip install -U xgboost\n",
        "# !pip install -U featuretools\n",
        "\n",
        "# https://towardsdatascience.com/handling-imbalanced-datasets-in-machine-learning-7a0e84220f28\n",
        "# https://machinelearningmastery.com/threshold-moving-for-imbalanced-classification/\n",
        "# https://machinelearningmastery.com/imbalanced-classification-model-to-detect-oil-spills/"
      ],
      "execution_count": 0,
      "outputs": []
    },
    {
      "cell_type": "code",
      "metadata": {
        "colab_type": "code",
        "id": "oy5ww2zRfFGG",
        "outputId": "6319a495-c46a-4b41-ed91-a29c306fcb08",
        "colab": {
          "base_uri": "https://localhost:8080/",
          "height": 136
        }
      },
      "source": [
        "if COLAB:\n",
        "  !rm -rf dl-projects\n",
        "  !git clone https://github.com/mengwangk/dl-projects"
      ],
      "execution_count": 3,
      "outputs": [
        {
          "output_type": "stream",
          "text": [
            "Cloning into 'dl-projects'...\n",
            "remote: Enumerating objects: 7, done.\u001b[K\n",
            "remote: Counting objects:  14% (1/7)\u001b[K\rremote: Counting objects:  28% (2/7)\u001b[K\rremote: Counting objects:  42% (3/7)\u001b[K\rremote: Counting objects:  57% (4/7)\u001b[K\rremote: Counting objects:  71% (5/7)\u001b[K\rremote: Counting objects:  85% (6/7)\u001b[K\rremote: Counting objects: 100% (7/7)\u001b[K\rremote: Counting objects: 100% (7/7), done.\u001b[K\n",
            "remote: Compressing objects: 100% (7/7), done.\u001b[K\n",
            "remote: Total 1984 (delta 1), reused 2 (delta 0), pack-reused 1977\u001b[K\n",
            "Receiving objects: 100% (1984/1984), 78.33 MiB | 26.51 MiB/s, done.\n",
            "Resolving deltas: 100% (1226/1226), done.\n"
          ],
          "name": "stdout"
        }
      ]
    },
    {
      "cell_type": "code",
      "metadata": {
        "colab_type": "code",
        "id": "G2xin10SfozR",
        "colab": {}
      },
      "source": [
        "if COLAB:\n",
        "  !cp dl-projects/utils* .\n",
        "  !cp dl-projects/preprocess* .\n",
        "  !cp dl-projects/plot* ."
      ],
      "execution_count": 0,
      "outputs": []
    },
    {
      "cell_type": "code",
      "metadata": {
        "colab_type": "code",
        "id": "fC2-l3JBpqbE",
        "colab": {}
      },
      "source": [
        "%load_ext autoreload\n",
        "# %reload_ext autoreload\n",
        "%autoreload 2\n",
        "\n",
        "%matplotlib inline"
      ],
      "execution_count": 0,
      "outputs": []
    },
    {
      "cell_type": "code",
      "metadata": {
        "colab_type": "code",
        "id": "TP7V_IzepqbK",
        "colab": {}
      },
      "source": [
        "import numpy as np\n",
        "import pandas as pd\n",
        "import seaborn as sns\n",
        "import matplotlib.pyplot as plt\n",
        "import math \n",
        "import matplotlib\n",
        "import sys\n",
        "import gc\n",
        "\n",
        "from scipy import stats\n",
        "from collections import Counter\n",
        "from pathlib import Path\n",
        "\n",
        "import warnings\n",
        "warnings.filterwarnings('ignore')\n",
        "\n",
        "import featuretools as ft\n",
        "from sklearn.pipeline import Pipeline, make_pipeline\n",
        "from sklearn.preprocessing import MinMaxScaler, StandardScaler, RobustScaler\n",
        "from sklearn.impute import SimpleImputer\n",
        "from sklearn.metrics import precision_score, recall_score, f1_score, confusion_matrix, roc_auc_score, precision_recall_curve, make_scorer, recall_score, roc_curve, mean_squared_error, accuracy_score, average_precision_score, classification_report\n",
        "from sklearn.model_selection import train_test_split, cross_val_score, GridSearchCV, RandomizedSearchCV, StratifiedShuffleSplit, RepeatedStratifiedKFold\n",
        "from sklearn.linear_model import LogisticRegression\n",
        "from sklearn.svm import SVC\n",
        "from sklearn.neighbors import KNeighborsClassifier\n",
        "from sklearn.tree import DecisionTreeClassifier\n",
        "from sklearn.ensemble import RandomForestClassifier\n",
        "from sklearn.decomposition import PCA\n",
        "from imblearn.ensemble import BalancedRandomForestClassifier\n",
        "from imblearn.under_sampling import (RandomUnderSampler, \n",
        "                                     ClusterCentroids,\n",
        "                                     TomekLinks,\n",
        "                                     NeighbourhoodCleaningRule,\n",
        "                                     AllKNN,\n",
        "                                     NearMiss,\n",
        "                                     OneSidedSelection,\n",
        "                                     EditedNearestNeighbours)\n",
        "from imblearn.combine import SMOTETomek, SMOTEENN\n",
        "from imblearn.pipeline import make_pipeline as make_pipeline_imb\n",
        "from imblearn.metrics import classification_report_imbalanced, geometric_mean_score\n",
        "from imblearn.over_sampling import SMOTE, SMOTENC, ADASYN \n",
        "import pylab as pl\n",
        "import xgboost as xgb\n",
        "from collections import Counter\n",
        "from dateutil.relativedelta import relativedelta\n",
        "\n",
        "\n",
        "# from skopt import BayesSearchCV\n",
        "# from skopt.space import Real, Categorical, Integer\n",
        "# from scikitplot.plotters import plot_precision_recall_curve\n",
        "\n",
        "from utils import feature_selection, plot_feature_importances\n",
        "from preprocess import *\n",
        "from plot import plot_correlation_matrix, plot_labeled_scatter\n",
        "\n",
        "from IPython.display import display\n",
        "\n",
        "np.set_printoptions(threshold=sys.maxsize)\n",
        "\n",
        "plt.style.use('fivethirtyeight')\n",
        "\n",
        "sns.set(style=\"ticks\")\n",
        "\n",
        "# The Answer to the Ultimate Question of Life, the Universe, and Everything.\n",
        "np.random.seed(42)"
      ],
      "execution_count": 0,
      "outputs": []
    },
    {
      "cell_type": "code",
      "metadata": {
        "colab_type": "code",
        "id": "3bFT5CoxpqbP",
        "outputId": "d0de530f-fbdb-42e6-9a4c-63cfe04bfda6",
        "colab": {
          "base_uri": "https://localhost:8080/",
          "height": 102
        }
      },
      "source": [
        "%aimport"
      ],
      "execution_count": 7,
      "outputs": [
        {
          "output_type": "stream",
          "text": [
            "Modules to reload:\n",
            "all-except-skipped\n",
            "\n",
            "Modules to skip:\n",
            "\n"
          ],
          "name": "stdout"
        }
      ]
    },
    {
      "cell_type": "markdown",
      "metadata": {
        "colab_type": "text",
        "id": "3E16jPVPpqbV"
      },
      "source": [
        "## Preparation"
      ]
    },
    {
      "cell_type": "code",
      "metadata": {
        "colab_type": "code",
        "id": "U421BuhtfYS7",
        "outputId": "9cfd93f7-0cd4-4a00-9d77-8eb9a057dfe0",
        "colab": {
          "base_uri": "https://localhost:8080/",
          "height": 122
        }
      },
      "source": [
        "if COLAB:\n",
        "  from google.colab import drive\n",
        "  drive.mount('/content/gdrive')\n",
        "  GDRIVE_DATASET_FOLDER = Path('gdrive/My Drive/datasets/')"
      ],
      "execution_count": 8,
      "outputs": [
        {
          "output_type": "stream",
          "text": [
            "Go to this URL in a browser: https://accounts.google.com/o/oauth2/auth?client_id=947318989803-6bn6qk8qdgf4n4g3pfee6491hc0brc4i.apps.googleusercontent.com&redirect_uri=urn%3aietf%3awg%3aoauth%3a2.0%3aoob&response_type=code&scope=email%20https%3a%2f%2fwww.googleapis.com%2fauth%2fdocs.test%20https%3a%2f%2fwww.googleapis.com%2fauth%2fdrive%20https%3a%2f%2fwww.googleapis.com%2fauth%2fdrive.photos.readonly%20https%3a%2f%2fwww.googleapis.com%2fauth%2fpeopleapi.readonly\n",
            "\n",
            "Enter your authorization code:\n",
            "··········\n",
            "Mounted at /content/gdrive\n"
          ],
          "name": "stdout"
        }
      ]
    },
    {
      "cell_type": "code",
      "metadata": {
        "colab_type": "code",
        "id": "9IgnETKkpqbX",
        "outputId": "409529d0-c611-47cf-f2ba-0bb79f0abc24",
        "colab": {
          "base_uri": "https://localhost:8080/",
          "height": 357
        }
      },
      "source": [
        "if COLAB:\n",
        "  DATASET_PATH = GDRIVE_DATASET_FOLDER\n",
        "  ORIGIN_DATASET_PATH = Path('dl-projects/datasets')\n",
        "else:\n",
        "  DATASET_PATH = Path(\"../datasets\")\n",
        "  ORIGIN_DATASET_PATH = Path('datasets')\n",
        "\n",
        "DATASET = DATASET_PATH/f\"{FEATURE_DATASET_PREFIX}.ft\"\n",
        "ORIGIN_DATASET = ORIGIN_DATASET_PATH/DATASET_NAME\n",
        "\n",
        "if COLAB:\n",
        "  !ls -l gdrive/\"My Drive\"/datasets/ --block-size=M\n",
        "  !ls -l dl-projects/datasets --block-size=M"
      ],
      "execution_count": 9,
      "outputs": [
        {
          "output_type": "stream",
          "text": [
            "total 4812M\n",
            "-rw------- 1 root root   17M Mar  1 05:47 feature_matrix_2020_feb.ft\n",
            "-rw------- 1 root root   17M Mar  1 05:39 feature_matrix_2020_jan.ft\n",
            "-rw------- 1 root root   17M Mar 14 02:03 feature_matrix_2020_mar.ft\n",
            "-rw------- 1 root root   17M Mar 14 02:03 feature_matrix_2020_mar_orig.pkl\n",
            "-rw------- 1 root root 2454M Jan 12 01:24 feature_matrix_d2_v2.ft\n",
            "-rw------- 1 root root 1585M Jan 12 23:39 feature_matrix_d2_v3.ft\n",
            "-rw------- 1 root root   17M Feb 21 13:07 feature_matrix_snapshot.ft\n",
            "-rw------- 1 root root    1M Mar 14 01:56 labels.csv\n",
            "-rw------- 1 root root    5M Jan 30 04:33 orig_X_test.ft\n",
            "-rw------- 1 root root  415M Jan 30 04:33 orig_X_train.ft\n",
            "-rw------- 1 root root    1M Jan 30 04:33 orig_y_test.ft\n",
            "-rw------- 1 root root    7M Jan 30 04:33 orig_y_train.ft\n",
            "-rw------- 1 root root    3M Mar  4 14:14 test_X_test.ft\n",
            "-rw------- 1 root root  255M Mar  4 14:14 test_X_train.ft\n",
            "-rw------- 1 root root    1M Mar  4 14:14 test_y_test.ft\n",
            "-rw------- 1 root root    8M Mar  4 14:14 test_y_train.ft\n",
            "total 25M\n",
            "-rw-r--r-- 1 root root  1M Mar 14 11:18 4D.zip\n",
            "-rw-r--r-- 1 root root 25M Mar 14 11:18 labels.csv\n"
          ],
          "name": "stdout"
        }
      ]
    },
    {
      "cell_type": "code",
      "metadata": {
        "colab_type": "code",
        "id": "urQTD6DQNutw",
        "colab": {}
      },
      "source": [
        "# Read the data\n",
        "data = pd.read_feather(DATASET)\n",
        "origin_data = format_tabular(ORIGIN_DATASET)"
      ],
      "execution_count": 0,
      "outputs": []
    },
    {
      "cell_type": "markdown",
      "metadata": {
        "colab_type": "text",
        "id": "Zov05QHZxxiS"
      },
      "source": [
        "## Add new data"
      ]
    },
    {
      "cell_type": "code",
      "metadata": {
        "colab_type": "code",
        "id": "foPB8T1vx2tp",
        "outputId": "215f654d-758c-4220-a7b5-c503a0764238",
        "colab": {
          "base_uri": "https://localhost:8080/",
          "height": 34
        }
      },
      "source": [
        "data.shape"
      ],
      "execution_count": 11,
      "outputs": [
        {
          "output_type": "execute_result",
          "data": {
            "text/plain": [
              "(959893, 217)"
            ]
          },
          "metadata": {
            "tags": []
          },
          "execution_count": 11
        }
      ]
    },
    {
      "cell_type": "code",
      "metadata": {
        "colab_type": "code",
        "id": "43sc1Eaux25j",
        "colab": {}
      },
      "source": [
        "jan_2020 = pd.read_feather(DATASET_PATH/f\"feature_matrix_2020_jan.ft\")\n",
        "feb_2020= pd.read_feather(DATASET_PATH/f\"feature_matrix_2020_feb.ft\")\n",
        "mar_2020= pd.read_feather(DATASET_PATH/f\"feature_matrix_2020_mar.ft\")"
      ],
      "execution_count": 0,
      "outputs": []
    },
    {
      "cell_type": "code",
      "metadata": {
        "colab_type": "code",
        "id": "2vISxEbsyQG1",
        "outputId": "2e3a9b28-146d-4abd-cfa2-6415f5105082",
        "colab": {
          "base_uri": "https://localhost:8080/",
          "height": 34
        }
      },
      "source": [
        "new_data = data.append(jan_2020[data.columns],ignore_index=True)\n",
        "new_data = new_data.append(feb_2020[data.columns],ignore_index=True)\n",
        "new_data = new_data.append(mar_2020[data.columns],ignore_index=True)\n",
        "new_data.shape "
      ],
      "execution_count": 13,
      "outputs": [
        {
          "output_type": "execute_result",
          "data": {
            "text/plain": [
              "(989893, 217)"
            ]
          },
          "metadata": {
            "tags": []
          },
          "execution_count": 13
        }
      ]
    },
    {
      "cell_type": "code",
      "metadata": {
        "colab_type": "code",
        "id": "FVVMXCj-zyaW",
        "outputId": "781523eb-7730-4207-df67-5a03ce15bc47",
        "colab": {
          "base_uri": "https://localhost:8080/",
          "height": 34
        }
      },
      "source": [
        "data = new_data\n",
        "data.shape"
      ],
      "execution_count": 14,
      "outputs": [
        {
          "output_type": "execute_result",
          "data": {
            "text/plain": [
              "(989893, 217)"
            ]
          },
          "metadata": {
            "tags": []
          },
          "execution_count": 14
        }
      ]
    },
    {
      "cell_type": "markdown",
      "metadata": {
        "colab_type": "text",
        "id": "vOYlp-8Br61r"
      },
      "source": [
        "## Exploratory Data Analysis"
      ]
    },
    {
      "cell_type": "markdown",
      "metadata": {
        "colab_type": "text",
        "id": "kHiN1VVlG9Kh"
      },
      "source": [
        "### View data"
      ]
    },
    {
      "cell_type": "code",
      "metadata": {
        "colab_type": "code",
        "id": "JnQXyVqng5Cm",
        "colab": {}
      },
      "source": [
        "# Feature matrix\n",
        "feature_matrix = data.drop(columns=['NumberId', 'month', 'year'])"
      ],
      "execution_count": 0,
      "outputs": []
    },
    {
      "cell_type": "code",
      "metadata": {
        "colab_type": "code",
        "id": "apMYVNz9HK9e",
        "outputId": "47e274c8-d945-4747-a73d-150f44939140",
        "colab": {
          "base_uri": "https://localhost:8080/",
          "height": 0
        }
      },
      "source": [
        "# Sort data\n",
        "feature_matrix.sort_values(by=['time', 'MAX(Results.LuckyNo)'], inplace=True)\n",
        "feature_matrix.info()"
      ],
      "execution_count": 16,
      "outputs": [
        {
          "output_type": "stream",
          "text": [
            "<class 'pandas.core.frame.DataFrame'>\n",
            "Int64Index: 989893 entries, 7020 to 986432\n",
            "Columns: 214 entries, time to LAST(Results.PrizeType)_Prize\n",
            "dtypes: datetime64[ns](1), float64(155), int64(56), uint8(2)\n",
            "memory usage: 1.6 GB\n"
          ],
          "name": "stdout"
        }
      ]
    },
    {
      "cell_type": "code",
      "metadata": {
        "colab_type": "code",
        "id": "CZKTbWRFJNUq",
        "outputId": "6256f4e6-4b58-4dcf-fc6d-8e32b1c4e2a4",
        "colab": {
          "base_uri": "https://localhost:8080/",
          "height": 0
        }
      },
      "source": [
        "print('Distribution')\n",
        "print(feature_matrix['Label'].value_counts())\n",
        "print()\n",
        "print('Positive: ' + str(feature_matrix['Label'].value_counts()[0]) + ' which is ', round(feature_matrix['Label'].value_counts()[0]/len(feature_matrix) * 100,2), '% of the dataset')\n",
        "print('Negative: ' + str(feature_matrix['Label'].value_counts()[1]) + ' which is ', round(feature_matrix['Label'].value_counts()[1]/len(feature_matrix) * 100,2), '% of the dataset')"
      ],
      "execution_count": 17,
      "outputs": [
        {
          "output_type": "stream",
          "text": [
            "Distribution\n",
            "0    957077\n",
            "1     32816\n",
            "Name: Label, dtype: int64\n",
            "\n",
            "Positive: 957077 which is  96.68 % of the dataset\n",
            "Negative: 32816 which is  3.32 % of the dataset\n"
          ],
          "name": "stdout"
        }
      ]
    },
    {
      "cell_type": "code",
      "metadata": {
        "colab_type": "code",
        "id": "plplpAQ6JrKb",
        "outputId": "4e2a2f9d-f945-4e6d-c56f-23bddc121339",
        "colab": {
          "base_uri": "https://localhost:8080/",
          "height": 0
        }
      },
      "source": [
        "feature_matrix.isna().sum().sort_values(ascending=False)"
      ],
      "execution_count": 18,
      "outputs": [
        {
          "output_type": "execute_result",
          "data": {
            "text/plain": [
              "SKEW(Results.TIME_SINCE_PREVIOUS(DrawDate))               7657\n",
              "CUM_MEAN(TREND(Results.LuckyNo, DrawDate))                7657\n",
              "TREND(Results.TIME_SINCE_PREVIOUS(DrawDate), DrawDate)    7657\n",
              "TREND(Results.CUM_MEAN(TotalStrike), DrawDate)            7657\n",
              "TREND(Results.CUM_SUM(LuckyNo), DrawDate)                 7657\n",
              "                                                          ... \n",
              "CUM_SUM(MIN(Results.DrawNo))                                 0\n",
              "NUM_UNIQUE(Results.DAY(DrawDate))                            0\n",
              "NUM_UNIQUE(Results.MONTH(DrawDate))                          0\n",
              "SUM(Results.PERCENTILE(LuckyNo))                             0\n",
              "time                                                         0\n",
              "Length: 214, dtype: int64"
            ]
          },
          "metadata": {
            "tags": []
          },
          "execution_count": 18
        }
      ]
    },
    {
      "cell_type": "markdown",
      "metadata": {
        "colab_type": "text",
        "id": "zF_zCRksL1Ls"
      },
      "source": [
        "### Feature Selection"
      ]
    },
    {
      "cell_type": "code",
      "metadata": {
        "colab_type": "code",
        "id": "S1aLGsXSOa9K",
        "colab": {}
      },
      "source": [
        "# Fill all NaN with 0\n",
        "feature_matrix = feature_matrix.fillna(0)"
      ],
      "execution_count": 0,
      "outputs": []
    },
    {
      "cell_type": "code",
      "metadata": {
        "colab_type": "code",
        "id": "5A8LZ805MqjP",
        "outputId": "7ce14ac5-7d05-48bd-c59e-07fafc76e3f5",
        "colab": {
          "base_uri": "https://localhost:8080/",
          "height": 0
        }
      },
      "source": [
        "feature_matrix.shape"
      ],
      "execution_count": 20,
      "outputs": [
        {
          "output_type": "execute_result",
          "data": {
            "text/plain": [
              "(989893, 214)"
            ]
          },
          "metadata": {
            "tags": []
          },
          "execution_count": 20
        }
      ]
    },
    {
      "cell_type": "code",
      "metadata": {
        "colab_type": "code",
        "id": "rPFOkiGjhuKj",
        "outputId": "0b728001-95f3-4368-e6b1-e84631652dbe",
        "colab": {
          "base_uri": "https://localhost:8080/",
          "height": 0
        }
      },
      "source": [
        "feature_matrix_selection = feature_selection(feature_matrix.drop(columns = ['time', 'TotalStrike', 'Label']))\n",
        "# feature_matrix_selection = feature_matrix.drop(columns = ['time', 'TotalStrike', 'Label'])"
      ],
      "execution_count": 21,
      "outputs": [
        {
          "output_type": "stream",
          "text": [
            "Original shape:  (989893, 211)\n",
            "0 missing columns with threshold: 90.\n",
            "41 zero variance columns.\n",
            "108 collinear columns removed with threshold: 0.95.\n",
            "Total columns removed:  149\n",
            "Shape after feature selection: (989893, 62).\n"
          ],
          "name": "stdout"
        }
      ]
    },
    {
      "cell_type": "code",
      "metadata": {
        "colab_type": "code",
        "id": "vT2K0WeJhugH",
        "outputId": "28497242-1ca0-4c9e-9a21-7de6064f35c9",
        "colab": {
          "base_uri": "https://localhost:8080/",
          "height": 0
        }
      },
      "source": [
        "feature_matrix_selection.shape, feature_matrix_selection.columns"
      ],
      "execution_count": 22,
      "outputs": [
        {
          "output_type": "execute_result",
          "data": {
            "text/plain": [
              "((989893, 62),\n",
              " Index(['STD(Results.DrawNo)', 'MAX(Results.DrawNo)', 'MAX(Results.LuckyNo)',\n",
              "        'MIN(Results.DrawNo)', 'MEAN(Results.DrawNo)', 'SKEW(Results.DrawNo)',\n",
              "        'AVG_TIME_BETWEEN(Results.DrawDate)', 'COUNT(Results)',\n",
              "        'SUM(Results.DrawNo)', 'SUM(Results.LuckyNo)',\n",
              "        'TREND(Results.DrawNo, DrawDate)', 'MONTH(first_Results_time)',\n",
              "        'DAY(first_Results_time)', 'TIME_SINCE(first_Results_time)',\n",
              "        'TIME_SINCE_PREVIOUS(first_Results_time)',\n",
              "        'STD(Results.PERCENTILE(DrawNo))',\n",
              "        'STD(Results.TIME_SINCE_PREVIOUS(DrawDate))',\n",
              "        'STD(Results.CUM_SUM(DrawNo))', 'STD(Results.CUM_MEAN(LuckyNo))',\n",
              "        'MAX(Results.PERCENTILE(DrawNo))',\n",
              "        'MAX(Results.PERCENTILE(TotalStrike))',\n",
              "        'MAX(Results.CUM_MEAN(LuckyNo))',\n",
              "        'MIN(Results.TIME_SINCE_PREVIOUS(DrawDate))',\n",
              "        'MIN(Results.CUM_SUM(DrawNo))', 'MIN(Results.CUM_MEAN(LuckyNo))',\n",
              "        'MODE(Results.MONTH(DrawDate))', 'MODE(Results.DAY(DrawDate))',\n",
              "        'MEAN(Results.TIME_SINCE(DrawDate))',\n",
              "        'MEAN(Results.PERCENTILE(DrawNo))',\n",
              "        'MEAN(Results.TIME_SINCE_PREVIOUS(DrawDate))',\n",
              "        'MEAN(Results.CUM_MEAN(LuckyNo))',\n",
              "        'SKEW(Results.TIME_SINCE_PREVIOUS(DrawDate))',\n",
              "        'SKEW(Results.CUM_SUM(DrawNo))', 'SKEW(Results.CUM_MEAN(LuckyNo))',\n",
              "        'LAST(Results.DAY(DrawDate))',\n",
              "        'LAST(Results.TIME_SINCE_PREVIOUS(DrawDate))',\n",
              "        'LAST(Results.MONTH(DrawDate))', 'LAST(Results.CUM_MEAN(LuckyNo))',\n",
              "        'SUM(Results.TIME_SINCE(DrawDate))',\n",
              "        'SUM(Results.TIME_SINCE_PREVIOUS(DrawDate))',\n",
              "        'TREND(Results.CUM_MEAN(LuckyNo), DrawDate)',\n",
              "        'TREND(Results.PERCENTILE(LuckyNo), DrawDate)',\n",
              "        'TREND(Results.PERCENTILE(DrawNo), DrawDate)',\n",
              "        'TREND(Results.PERCENTILE(TotalStrike), DrawDate)',\n",
              "        'TREND(Results.TIME_SINCE_PREVIOUS(DrawDate), DrawDate)',\n",
              "        'TREND(Results.CUM_SUM(DrawNo), DrawDate)',\n",
              "        'NUM_UNIQUE(Results.MONTH(DrawDate))',\n",
              "        'NUM_UNIQUE(Results.DAY(DrawDate))', 'CUM_SUM(MIN(Results.DrawNo))',\n",
              "        'CUM_SUM(SKEW(Results.DrawNo))',\n",
              "        'CUM_MEAN(AVG_TIME_BETWEEN(Results.DrawDate))',\n",
              "        'CUM_MEAN(SUM(Results.LuckyNo))', 'CUM_MEAN(SKEW(Results.DrawNo))',\n",
              "        'PERCENTILE(STD(Results.LuckyNo))', 'PERCENTILE(LAST(Results.DrawNo))',\n",
              "        'PERCENTILE(MAX(Results.TotalStrike))',\n",
              "        'PERCENTILE(AVG_TIME_BETWEEN(Results.DrawDate))',\n",
              "        'PERCENTILE(COUNT(Results))', 'PERCENTILE(STD(Results.DrawNo))',\n",
              "        'PERCENTILE(SKEW(Results.DrawNo))', 'PERCENTILE(SUM(Results.DrawNo))',\n",
              "        'PERCENTILE(TREND(Results.DrawNo, DrawDate))'],\n",
              "       dtype='object'))"
            ]
          },
          "metadata": {
            "tags": []
          },
          "execution_count": 22
        }
      ]
    },
    {
      "cell_type": "code",
      "metadata": {
        "colab_type": "code",
        "id": "yZUhYrWFiRod",
        "colab": {}
      },
      "source": [
        "feature_matrix_selection['time'] = feature_matrix['time']\n",
        "feature_matrix_selection['TotalStrike'] = feature_matrix['TotalStrike']\n",
        "feature_matrix_selection['Label'] = feature_matrix['Label']"
      ],
      "execution_count": 0,
      "outputs": []
    },
    {
      "cell_type": "markdown",
      "metadata": {
        "colab_type": "text",
        "id": "hugygOqSiR6K"
      },
      "source": [
        "### Feature Correlation"
      ]
    },
    {
      "cell_type": "code",
      "metadata": {
        "colab_type": "code",
        "id": "loagcqTEKOkO",
        "colab": {}
      },
      "source": [
        "#feature_matrix.isnull().sum().sort_values(ascending=False)"
      ],
      "execution_count": 0,
      "outputs": []
    },
    {
      "cell_type": "code",
      "metadata": {
        "colab_type": "code",
        "id": "u7Ha8Zlkhuoe",
        "colab": {}
      },
      "source": [
        "# Check with feature selection\n",
        "#corrs = feature_matrix_selection.corr().sort_values('Label')"
      ],
      "execution_count": 0,
      "outputs": []
    },
    {
      "cell_type": "code",
      "metadata": {
        "colab_type": "code",
        "id": "EWRODfAdPk6j",
        "colab": {}
      },
      "source": [
        "#corrs['Label'].head(60)"
      ],
      "execution_count": 0,
      "outputs": []
    },
    {
      "cell_type": "markdown",
      "metadata": {
        "colab_type": "text",
        "id": "waeD1ED_kqDB"
      },
      "source": [
        "## Modeling"
      ]
    },
    {
      "cell_type": "code",
      "metadata": {
        "colab_type": "code",
        "id": "9yrJyIVLh5So",
        "colab": {}
      },
      "source": [
        "def recall_optim(y_true, y_pred):\n",
        "    \"\"\"Make a scoring function that improves specificity while identifying all strikes\n",
        "    \"\"\"\n",
        "    conf_matrix = confusion_matrix(y_true, y_pred)\n",
        "    \n",
        "    # Recall will be worth a greater value than specificity\n",
        "    rec = recall_score(y_true, y_pred) * 0.8 \n",
        "    spe = conf_matrix[0,0]/conf_matrix[0,:].sum() * 0.2 \n",
        "    \n",
        "    # Imperfect recalls will lose a penalty\n",
        "    # This means the best results will have perfect recalls and compete for specificity\n",
        "    if rec < 0.8:\n",
        "        rec -= 0.2\n",
        "    return rec + spe \n",
        "\n",
        "\n",
        "# Make a scoring callable from recall_score\n",
        "recall = make_scorer(recall_score)\n",
        "\n",
        "# Create a scoring callable based on the scoring function\n",
        "optimize = make_scorer(recall_optim)\n",
        "\n",
        "# Geometric mean scorer\n",
        "geo_mean_scorer = make_scorer(geometric_mean_score)\n",
        "\n",
        "# DataFrame to store classifier performance\n",
        "performance = pd.DataFrame(columns=['Train_Recall','Test_Recall','Test_Specificity', 'Optimize'])\n",
        "\n",
        "def to_labels(pos_probs, threshold):\n",
        "    \"\"\"Apply threshold to positive probabilities to create labels.\n",
        "    \"\"\"\n",
        "    return (pos_probs >= threshold).astype('int')\n",
        " \n",
        "\n",
        "def score_optimization(dt, feature_matrix, clf, params, X_train, y_train, X_test, y_test, skip_grid_search_cv=False, optimized_scorer=False):\n",
        "    \"\"\"Find the optimized classifier.\n",
        "    \"\"\"\n",
        "    if not skip_grid_search_cv:\n",
        "      print(\"\\nFinding the optimized classifier...\")\n",
        "\n",
        "      # Load GridSearchCV\n",
        "      # search = GridSearchCV(\n",
        "      search = RandomizedSearchCV(\n",
        "            estimator=clf,\n",
        "            #param_grid=params,\n",
        "            param_distributions=params,\n",
        "            n_jobs=4,\n",
        "            scoring=optimize  # Use custom scorer\n",
        "      )\n",
        "\n",
        "      # Train search object\n",
        "      search.fit(X_train, y_train)\n",
        "\n",
        "      # Heading\n",
        "      print('\\n','-'*40,'\\n',clf.__class__.__name__,'\\n','-'*40)\n",
        "\n",
        "      # Extract best estimator\n",
        "      best = search.best_estimator_\n",
        "      print('Best parameters: \\n\\n',search.best_params_,'\\n')\n",
        "    \n",
        "    else:\n",
        "      print(\"\\nUse the passed in classifier...\\n\")\n",
        "      best = clf\n",
        "\n",
        "    # Cross-validate on the train data\n",
        "    if not skip_grid_search_cv: \n",
        "      print(\"TRAIN GROUP\")\n",
        "      #cv = RepeatedStratifiedKFold(n_splits=10, n_repeats=3, random_state=42)\n",
        "      cv = 3\n",
        "      if not optimized_scorer:\n",
        "        print('\\nUse default scorer')\n",
        "        train_cv = cross_val_score(\n",
        "                                  n_jobs=4,\n",
        "                                  X=X_train, \n",
        "                                  y=y_train, \n",
        "                                  estimator=best, \n",
        "                                  scoring=recall,\n",
        "                                  cv=cv)\n",
        "      else:\n",
        "        print('\\nUse optimized scorer')\n",
        "        train_cv = cross_val_score(\n",
        "                                  n_jobs=4,\n",
        "                                  X=X_train, \n",
        "                                  y=y_train, \n",
        "                                  estimator=best, \n",
        "                                  #scoring=optimize,\n",
        "                                  scoring='roc_auc',\n",
        "                                  #scoring=geo_mean_scorer,\n",
        "                                  cv=cv)\n",
        "\n",
        "      print(\"\\nCross-validation recall scores:\",train_cv)\n",
        "      print(\"Mean recall score:\",train_cv.mean())\n",
        "      print('Mean G-Mean: %.3f (%.3f)' % (np.mean(train_cv), np.std(train_cv)))\n",
        "    else:\n",
        "      train_cv = np.zeros(3)\n",
        "\n",
        "    # Now predict on the test group\n",
        "    print(\"\\nTEST GROUP\")\n",
        "    y_pred = best.fit(X_train, y_train).predict(X_test)\n",
        "    # y_pred = best.fit(X_train, y_train,\n",
        "    #                   eval_set=[(X_test, y_test)],\n",
        "    #                   eval_metric='auc',\n",
        "    #                   early_stopping_rounds=10,\n",
        "    #                   verbose=True\n",
        "    #                   ).predict(X_test)\n",
        "\n",
        "    # keep probabilities for the positive outcome only\n",
        "    probas = best.predict_proba(X_test)[:, 1]\n",
        "    \n",
        "    # define thresholds\n",
        "    thresholds = np.arange(0, 1, 0.001)\n",
        "\n",
        "    # evaluate each threshold\n",
        "    scores = [f1_score(y_test, to_labels(probas, t)) for t in thresholds]\n",
        "\n",
        "    # get best threshold\n",
        "    ix = np.argmax(scores)\n",
        "    print('Threshold=%.3f, F-Score=%.5f' % (thresholds[ix], scores[ix]))\n",
        "\n",
        "    # print recall\n",
        "    print(\"\\nRecall:\",recall_score(y_test,y_pred))\n",
        "\n",
        "    # Get imbalanced classification report\n",
        "    print(classification_report_imbalanced(y_test, y_pred))\n",
        "\n",
        "    # Print confusion matrix\n",
        "    conf_matrix = confusion_matrix(y_test,y_pred)\n",
        "    sns.heatmap(conf_matrix, annot=True, fmt='d', cmap=plt.cm.copper)\n",
        "    plt.show()\n",
        "\n",
        "    # Store results\n",
        "    performance.loc[clf.__class__.__name__+'_optimize',:] = [\n",
        "        train_cv.mean(),\n",
        "        recall_score(y_test,y_pred),\n",
        "        conf_matrix[0,0]/conf_matrix[0,:].sum(),\n",
        "        recall_optim(y_test,y_pred)\n",
        "    ]\n",
        "    # Look at the parameters for the top best scores\n",
        "    if not skip_grid_search_cv:\n",
        "      display(pd.DataFrame(search.cv_results_).iloc[:,4:].sort_values(by='rank_test_score').head())\n",
        "    display(performance)\n",
        "\n",
        "    # Additionl info\n",
        "    print('\\n\\nAdditional Info')\n",
        "    print('='*40)\n",
        "    positive = np.where((y_pred==1))\n",
        "    print(f'Total predicted to be positive: {len(positive[0])} \\n')\n",
        "\n",
        "    pred = np.where((y_pred==1))\n",
        "    all_preds = pred[0]\n",
        "\n",
        "    # Total predicted matches\n",
        "    print('First 23 matches')\n",
        "    print(23, all_preds[0:23])\n",
        "    print(f'\\n{probas[all_preds[0:23]]}\\n') \n",
        "\n",
        "    print(\"\\nTop 23 Probable Matches\")\n",
        "    #print('probas', probas)\n",
        "    topN = np.argpartition(probas, -23)[-23:]\n",
        "    print(f'\\n{topN}\\n')          # Top N most high probability numbers\n",
        "    print(f'\\n{probas[topN]}\\n')  # Top N probability\n",
        "\n",
        "    # Check for 2 to 3 digits range \n",
        "    print('\\n2 To 3 Digits\\n')\n",
        "    idx_range = np.where((all_preds < 1000) & (all_preds >= 10))\n",
        "    #print(idx_range)\n",
        "    range_numbers = all_preds[idx_range]\n",
        "    print(len(range_numbers), range_numbers)\n",
        "    print(f'\\n{probas[range_numbers]}\\n') \n",
        "\n",
        "\n",
        "    # 2 to 3 Digits > Average Probas\n",
        "    print('\\n2 To 3 Digits Average Proba\\n')\n",
        "    avg_proba = np.average(probas[range_numbers])\n",
        "    print(f'Average proba {avg_proba}\\n')\n",
        "    idx_avg_proba = np.where(probas > avg_proba) \n",
        "    print(len(idx_avg_proba[0]), idx_avg_proba[0])\n",
        "\n",
        "    # 2 to 3 Digits > All Average Probas\n",
        "    print('\\n\\nAll Average Proba\\n')\n",
        "    all_avg_proba = np.average(probas[all_preds])\n",
        "    print(f'All average probas {all_avg_proba}\\n')\n",
        "    idx_all_avg_proba = np.where(probas > all_avg_proba) \n",
        "    print(len(idx_all_avg_proba[0]), idx_all_avg_proba[0])\n",
        "\n",
        "\n",
        "    # All predicted matches\n",
        "    print('\\n\\nAll Predictions\\n')\n",
        "    print(len(all_preds), all_preds)\n",
        "    print()\n",
        "    print(len(probas[all_preds]), probas[all_preds])\n",
        "    \n",
        "    #print('Debug')\n",
        "    #print(pred)\n",
        "    \n",
        "    if len(positive[0]) > 0:\n",
        "    \n",
        "      # Matching draws\n",
        "      print('\\nMatched draws')\n",
        "      md = np.where((y_pred==1) & (y_test==1))\n",
        "      print(f\"Count: {len(md[0])}, Index: {md}\")\n",
        "      month_data = feature_matrix.loc[feature_matrix['time'] == dt]\n",
        "      numbers = month_data.iloc[md[0]][['MAX(Results.LuckyNo)']]\n",
        "\n",
        "      print('\\n\\nTop 23 Possibility')\n",
        "      print(origin_data[(origin_data['DrawDate'].dt.year == dt.year) & \n",
        "                          (origin_data['DrawDate'].dt.month == dt.month) &  \n",
        "                          (origin_data['LuckyNo'].isin(topN))].head(23))  \n",
        "      \n",
        "      print('\\n\\nFirst 23 Numbers')\n",
        "      print(origin_data[(origin_data['DrawDate'].dt.year == dt.year) & \n",
        "                          (origin_data['DrawDate'].dt.month == dt.month) &  \n",
        "                          (origin_data['LuckyNo'].isin(pred[0][0:23]))].head(23))    \n",
        "             \n",
        "\n",
        "      print('\\n\\n2 To 3 Digits Numbers')\n",
        "      print(origin_data[(origin_data['DrawDate'].dt.year == dt.year) & \n",
        "                          (origin_data['DrawDate'].dt.month == dt.month) &  \n",
        "                          (origin_data['LuckyNo'].isin(range_numbers))].head(23))    \n",
        "     \n",
        "\n",
        "      print('\\n\\nAll matched')\n",
        "      print(origin_data[(origin_data['DrawDate'].dt.year == dt.year) & \n",
        "                          (origin_data['DrawDate'].dt.month == dt.month) &  \n",
        "                          (origin_data['LuckyNo'].isin(numbers['MAX(Results.LuckyNo)']))].head(100))    \n",
        "                                                  \n",
        "    else:\n",
        "      print('No luck this month')  \n",
        "\n",
        "    if len(range_numbers) >= 50:\n",
        "      return False\n",
        "\n",
        "    return True"
      ],
      "execution_count": 0,
      "outputs": []
    },
    {
      "cell_type": "code",
      "metadata": {
        "colab_type": "code",
        "id": "VrL8gYwjc-hd",
        "colab": {}
      },
      "source": [
        "def remove_outliers(balanced, threshold=0.001, remove=True):\n",
        "    \"\"\"Removing Outliers from high-correlation features.\n",
        "    \"\"\"\n",
        "\n",
        "    if not remove:\n",
        "      return balanced\n",
        "\n",
        "    bal_corr = balanced.corr()\n",
        "    no_outliers=pd.DataFrame(balanced.copy())\n",
        "\n",
        "    cols = bal_corr.Label.index[:-1]\n",
        "\n",
        "    # For each feature correlated with Class...\n",
        "    for col in cols:\n",
        "        # If absolute correlation value is more than X percent...\n",
        "        correlation = bal_corr.loc['Label',col]\n",
        "\n",
        "        if np.absolute(correlation) > threshold:\n",
        "          # Separate the classes of the high-correlation column\n",
        "          nonstrikes = no_outliers.loc[no_outliers.Label==0,col]\n",
        "          strikes = no_outliers.loc[no_outliers.Label==1,col]\n",
        "\n",
        "          # Identify the 25th and 75th quartiles\n",
        "          all_values = no_outliers.loc[:,col]\n",
        "          q25, q75 = np.percentile(all_values, 25), np.percentile(all_values, 75)\n",
        "          # Get the inter quartile range\n",
        "          iqr = q75 - q25\n",
        "          # Smaller cutoffs will remove more outliers\n",
        "          cutoff = iqr * 7\n",
        "          # Set the bounds of the desired portion to keep\n",
        "          lower, upper = q25 - cutoff, q75 + cutoff\n",
        "          \n",
        "          # If positively correlated...\n",
        "          # Drop nonstrikes above upper bound, and strikes below lower bound\n",
        "          if correlation > 0: \n",
        "              no_outliers.drop(index=nonstrikes[nonstrikes>upper].index,inplace=True)\n",
        "              no_outliers.drop(index=strikes[strikes<lower].index,inplace=True)\n",
        "          \n",
        "          # If negatively correlated...\n",
        "          # Drop non strikes below lower bound, and strikes above upper bound\n",
        "          elif correlation < 0: \n",
        "              no_outliers.drop(index=nonstrikes[nonstrikes<lower].index,inplace=True)\n",
        "              no_outliers.drop(index=strikes[strikes>upper].index,inplace=True)\n",
        "        \n",
        "    print('\\nData shape before removing outliers:', balanced.shape)\n",
        "    print('\\nCounts of strikes VS non-strikes in previous data:')\n",
        "    print(balanced.Label.value_counts())\n",
        "    print('-'*40)\n",
        "    print('-'*40)\n",
        "    print('\\nData shape after removing outliers:', no_outliers.shape)\n",
        "    print('\\nCounts of strikes VS non-strikes in new data:')\n",
        "    print(no_outliers.Label.value_counts())\n",
        "\n",
        "    # no_outliers.iloc[:,:-1].boxplot(rot=90,figsize=(16,4))\n",
        "    # plt.title('Distributions with Less Outliers', fontsize=17)\n",
        "    # plt.show()\n",
        "    \n",
        "    no_outliers.reset_index(drop=True, inplace=True)\n",
        "    return no_outliers\n",
        "\n",
        "\n",
        "def filter_features(no_outliers, threshold=0.001):\n",
        "    \"\"\"Feature selection.\n",
        "    \"\"\"\n",
        "    feat_sel = pd.DataFrame(no_outliers.copy())\n",
        "\n",
        "    # Make a dataframe with the label-correlations before removing outliers\n",
        "    # corr_change = pd.DataFrame()\n",
        "    # corr_change['correlation']= bal_corr.Label\n",
        "    # corr_change['origin']= 'w/outliers'\n",
        "\n",
        "    # Make a dataframe with label-correlations after removing outliers \n",
        "    # corr_other = pd.DataFrame()\n",
        "    # corr_other['correlation']= feat_sel.corr().Label\n",
        "    # corr_other['origin']= 'no_outliers'\n",
        "\n",
        "    # Join them\n",
        "    # corr_change = corr_change.append(corr_other)\n",
        "\n",
        "    # plt.figure(figsize=(14,6))\n",
        "    # plt.xticks(rotation=90)\n",
        "\n",
        "    # Plot them\n",
        "    # sns.set_style('darkgrid')\n",
        "    # plt.title('Label correlation per feature. With vs without outliers', fontsize=17)\n",
        "    # sns.barplot(data=corr_change,x=corr_change.index,y='correlation',hue='origin')\n",
        "    # plt.show()\n",
        "\n",
        "    # Feature Selection based on correlation with label\n",
        "\n",
        "    print('\\nData shape before feature selection:', feat_sel.shape)\n",
        "    print('\\nCounts of strikes vs non-strikes before feature selection:')\n",
        "    print(feat_sel.Label.value_counts())\n",
        "    print('-'*40)\n",
        "\n",
        "    # Correlation matrix after removing outliers\n",
        "    new_corr = feat_sel.corr()\n",
        "\n",
        "    for col in new_corr.Label.index[:-1]:\n",
        "        # Pick desired cutoff for dropping features. In absolute-value terms.\n",
        "        if np.absolute(new_corr.loc['Label',col]) < threshold:\n",
        "            # Drop the feature if correlation is below cutoff\n",
        "            feat_sel.drop(columns=col,inplace=True)\n",
        "\n",
        "    print('-'*40)\n",
        "    print('\\nData shape after feature selection:', feat_sel.shape)\n",
        "    print('\\nCounts of strikes vs non-strikes in new data:')\n",
        "    print(feat_sel.Label.value_counts())\n",
        "\n",
        "    return feat_sel\n",
        "\n",
        "    # feat_sel.iloc[:,:-1].boxplot(rot=90,figsize=(16,4))\n",
        "    # plt.title('Distribution of Features Selected', fontsize=17)\n",
        "    # plt.show()\n",
        "\n",
        "def under_sampler(data, sample_size=20000, sampling=False):\n",
        "    # Undersample model for efficiency and balance classes.\n",
        "\n",
        "    X_train = data.drop('Label',1)\n",
        "    y_train = data.Label\n",
        "\n",
        "    if not sampling:\n",
        "      return X_train, y_train\n",
        "\n",
        "    # After feature-selection, X_test needs to include only the same features as X_train\n",
        "    # cols = X_train.columns\n",
        "    # X_test = X_test[cols]\n",
        "\n",
        "    # Undersample and balance classes\n",
        "    X_train, y_train = RandomUnderSampler(sampling_strategy={1:sample_size,0:sample_size}).fit_resample(X_train,y_train)\n",
        "\n",
        "    print('\\nX_train shape after reduction:', X_train.shape)\n",
        "    print('\\nCounts of strikes VS non-strikes in y_train:')\n",
        "    print(np.unique(y_train, return_counts=True))\n",
        "\n",
        "    return X_train, y_train"
      ],
      "execution_count": 0,
      "outputs": []
    },
    {
      "cell_type": "code",
      "metadata": {
        "colab_type": "code",
        "id": "pl5ZoepSNPf4",
        "colab": {}
      },
      "source": [
        "def gen_train_test_set(dt, feature_matrix, file_prefix='data'): \n",
        "    \n",
        "    # Subset labels\n",
        "    test_labels = feature_matrix.loc[feature_matrix['time'] == dt, 'Label']\n",
        "    train_labels = feature_matrix.loc[feature_matrix['time'] < dt, 'Label']\n",
        "\n",
        "    # Features\n",
        "    X_train = feature_matrix[feature_matrix['time'] < dt].drop(columns = ['NumberId', 'time', 'Label', 'TotalStrike', 'month', 'year', 'index'], errors='ignore')\n",
        "    X_test = feature_matrix[feature_matrix['time'] == dt].drop(columns = ['NumberId', 'time', 'Label', 'TotalStrike', 'month', 'year', 'index'], errors='ignore')\n",
        "    feature_names = list(X_train.columns)\n",
        "    \n",
        "    # Labels\n",
        "    y_train = np.array(train_labels).reshape((-1, ))\n",
        "    y_test = np.array(test_labels).reshape((-1, ))\n",
        "    \n",
        "    print('Training on {} observations.'.format(len(X_train)))\n",
        "    print('Testing on {} observations.\\n'.format(len(X_test)))\n",
        "\n",
        "    # Join the train data\n",
        "    train = X_train.join(train_labels)\n",
        "\n",
        "    print('Data shape before balancing:', train.shape)\n",
        "    print('\\nCounts of strikes vs non-strikes in previous data:')\n",
        "    print(train.Label.value_counts())\n",
        "    print('-'*40)\n",
        "\n",
        "    # sklearn pipeline\n",
        "    pipeline = make_pipeline(\n",
        "        SimpleImputer(strategy = 'constant', fill_value=0),\n",
        "        StandardScaler())\n",
        "    \n",
        "    X_train = pipeline.fit_transform(X_train)\n",
        "    X_test = pipeline.transform(X_test)\n",
        "\n",
        "    # imblearn pipeline\n",
        "    imb_pipeline = make_pipeline_imb(\n",
        "          # NearMiss(version=3, n_neighbors_ver3=3, n_jobs=4)\n",
        "          # SMOTE(sampling_strategy='minority',random_state=42, n_jobs=4)\n",
        "          # ADASYN(sampling_strategy='minority',random_state=42, n_jobs=4)\n",
        "          # OneSidedSelection(n_neighbors=1, n_seeds_S=200, random_state=42, n_jobs=4)\n",
        "          SMOTEENN(enn=EditedNearestNeighbours(sampling_strategy='majority'))\n",
        "    )\n",
        "     \n",
        "    # Balance the data\n",
        "    to_balanced = False\n",
        "    if to_balanced:\n",
        "      print('\\nBalancing data')\n",
        "      X_bal, y_bal = imb_pipeline.fit_resample(X_train, y_train)\n",
        "      X_bal = pd.DataFrame(X_bal,columns=feature_names)\n",
        "      y_bal = pd.DataFrame(y_bal,columns=['Label'])\n",
        "    else:\n",
        "      print('\\nNO balancing')\n",
        "      X_bal = pd.DataFrame(X_train,columns=feature_names)\n",
        "      y_bal = pd.DataFrame(y_train,columns=['Label'])\n",
        "\n",
        "    balanced = X_bal.join(y_bal)\n",
        "\n",
        "    # print('-'*40)\n",
        "    print('Data shape after balancing:',balanced.shape)\n",
        "    print('\\nCounts of strikes VS non-strikes in new data:')\n",
        "    print(balanced.Label.value_counts())\n",
        "\n",
        "    # Remove high correlation outliers\n",
        "    no_outliers = remove_outliers(balanced, remove=False)\n",
        "   \n",
        "    # Remove features with low correlation\n",
        "    remove_features = True\n",
        "    if remove_features:\n",
        "      print('\\nFiltering features')\n",
        "      features_selected = filter_features(no_outliers)\n",
        "    else:\n",
        "      print('\\nNO filtering')\n",
        "      features_selected = no_outliers \n",
        "\n",
        "    columns_selected = features_selected.drop('Label',1).columns\n",
        "\n",
        "    # Under sampling\n",
        "    X_train, y_train = under_sampler(features_selected, sampling=False) \n",
        "    X_train = pd.DataFrame(X_train,columns=columns_selected)\n",
        "    y_train = pd.DataFrame(y_train,columns=['Label'])\n",
        "\n",
        "    # For X_test, now only use the selected features\n",
        "    X_test = pd.DataFrame(X_test,columns=feature_names)\n",
        "    X_test = X_test[columns_selected]\n",
        "    y_test = pd.DataFrame(y_test,columns=['Label'])\n",
        "\n",
        "    #print(X_train.describe())\n",
        "    #return\n",
        "\n",
        "    # Save data\n",
        "    # print(X_train.head(10))\n",
        "    # print(y_train.head(10)) \n",
        "\n",
        "    # print(X_test.head(10))\n",
        "    # print(y_test.head(10)) \n",
        "    X_train.to_feather(DATASET_PATH/f\"{file_prefix}_X_train.ft\")\n",
        "    y_train.to_feather(DATASET_PATH/f\"{file_prefix}_y_train.ft\")\n",
        "   \n",
        "    X_test.to_feather(DATASET_PATH/f\"{file_prefix}_X_test.ft\")\n",
        "    y_test.to_feather(DATASET_PATH/f\"{file_prefix}_y_test.ft\")\n",
        "\n",
        "    gc.collect()\n"
      ],
      "execution_count": 0,
      "outputs": []
    },
    {
      "cell_type": "code",
      "metadata": {
        "colab_type": "code",
        "id": "PcKlL67TP9UM",
        "colab": {}
      },
      "source": [
        "def model(dt, feature_matrix, file_prefix='data', csv=False, class_weight=1.0, estimators=300, depth=3):\n",
        "    \"\"\"Predict for a particular month.\n",
        "\n",
        "    - https://www.kaggle.com/miguelniblock/optimizing-imbalanced-classification-100-recall\n",
        "    - https://www.kaggle.com/saxinou/imbalanced-data-xgboost-tunning\n",
        "    - https://www.kaggle.com/andreanuzzo/balance-the-imbalanced-rf-and-xgboost-with-smote\n",
        "    - https://github.com/mengwangk/FraudDetection/blob/master/05_Sampling_techniques_for_extremely_imbalanced_data.ipynb\n",
        "    - https://www.kaggle.com/rafjaa/resampling-strategies-for-imbalanced-datasets\n",
        "    - https://github.com/coding-maniacs/over-under-sampling/blob/master/src/main.py\n",
        "    - https://github.com/scikit-learn-contrib/imbalanced-learn/issues/552#issuecomment-466348310\n",
        "    - https://stackoverflow.com/questions/52499788/smotetomek-how-to-set-ratio-as-dictionary-for-fixed-balance\n",
        "    - https://imbalanced-learn.readthedocs.io/en/stable/generated/imblearn.under_sampling.OneSidedSelection.html#imblearn.under_sampling.OneSidedSelection\n",
        "    - https://xgboost.readthedocs.io/en/latest/python/python_api.html#module-xgboost.sklearn\n",
        "    - https://machinelearningmastery.com/undersampling-algorithms-for-imbalanced-classification/\n",
        "    - https://seaborn.pydata.org/generated/seaborn.heatmap.html\n",
        "    - https://stats.stackexchange.com/questions/243207/what-is-the-proper-usage-of-scale-pos-weight-in-xgboost-for-imbalanced-datasets\n",
        "    - https://scikit-learn.org/stable/auto_examples/svm/plot_oneclass.html#sphx-glr-auto-examples-svm-plot-oneclass-py\n",
        "    - https://machinelearningmastery.com/cost-sensitive-logistic-regression/\n",
        "    \n",
        "    - https://datascience.stackexchange.com/questions/28285/what-is-the-best-way-to-deal-with-imbalanced-data-for-xgboost/28292\n",
        "    - https://machinelearningmastery.com/xgboost-for-imbalanced-classification/\n",
        "    - https://machinelearningmastery.com/tactics-to-combat-imbalanced-classes-in-your-machine-learning-dataset/\n",
        "    \n",
        "    \"\"\"\n",
        "\n",
        "    # Read data\n",
        "    if not csv:\n",
        "      X_train = pd.read_feather(DATASET_PATH/f\"{file_prefix}_X_train.ft\")\n",
        "      y_train = pd.read_feather(DATASET_PATH/f\"{file_prefix}_y_train.ft\")\n",
        "    \n",
        "      X_test = pd.read_feather(DATASET_PATH/f\"{file_prefix}_X_test.ft\")\n",
        "      y_test = pd.read_feather(DATASET_PATH/f\"{file_prefix}_y_test.ft\")\n",
        "    else:\n",
        "      X_train = pd.read_csv(DATASET_PATH/f\"{file_prefix}_X_train.csv\", header=0, sep=',', quotechar='\"')\n",
        "      y_train = pd.read_csv(DATASET_PATH/f\"{file_prefix}_y_train.csv\", header=0, sep=',', quotechar='\"')\n",
        "    \n",
        "      X_test = pd.read_csv(DATASET_PATH/f\"{file_prefix}_X_test.csv\", header=0, sep=',', quotechar='\"')\n",
        "      y_test = pd.read_csv(DATASET_PATH/f\"{file_prefix}_y_test.csv\", header=0, sep=',', quotechar='\"')\n",
        "\n",
        "\n",
        "    print(f'\\n-----------{dt}-----------------\\n')\n",
        "\n",
        "    # Reshape\n",
        "    y_train = np.array(y_train).reshape((-1, ))\n",
        "    y_test = np.array(y_test).reshape((-1, ))\n",
        "    \n",
        "    print('Data shape')\n",
        "    print(X_train.shape, y_train.shape, X_test.shape, y_test.shape)\n",
        "\n",
        "    # print(X_train.describe())\n",
        "    # return\n",
        "\n",
        "    # Calculate hit ratio for xgboost classifier\n",
        "    print(\"\\nCalculating scale pos weight\")\n",
        "    counter = Counter(y_train)\n",
        "    print(Counter(y_train))\n",
        "    #scale_pos_weight = float(counter[0] / counter[1])\n",
        "    scale_pos_weight = (float(counter[0] / counter[1])) * class_weight\n",
        "    print(f\"\\nscale_pos_weight - {scale_pos_weight}\\n\")\n",
        "    \n",
        "     # Modeling\n",
        "#     clf = xgb.XGBClassifier(\n",
        "#               n_jobs=4, \n",
        "#               random_state=42,\n",
        "#               #learning_rate=0.1,\n",
        "#               #n_estimators=500,\n",
        "#               #max_depth=6, \n",
        "#               #min_child_weight=3, \n",
        "#               #gamma=0,\n",
        "#               #subsample=0.8,\n",
        "#               #colsample_bytree=0.8,\n",
        "#               objective='binary:logistic', \n",
        "#               scale_pos_weight=scale_pos_weight,\n",
        "#               ##eval_metric=\"auc\",\n",
        "#               ##max_delta_step=1,\n",
        "#               seed=27)\n",
        "#     clf = xgb.XGBClassifier(n_jobs=4, \n",
        "#                             random_state=42,\n",
        "#                             objective='binary:logistic', \n",
        "#                             #scale_pos_weight=28)\n",
        "#                             scale_pos_weight=scale_pos_weight)\n",
        "    \n",
        "    eval_set=[(X_train, y_train), (X_test, y_test)]\n",
        "    clf = xgb.XGBClassifier(\n",
        "                    n_jobs=4, \n",
        "                    random_state=42,\n",
        "                    objective='binary:logistic',\n",
        "                    subsample=0.55, \n",
        "                    #n_estimators=300,\n",
        "                    n_estimators=estimators,\n",
        "                    #n_estimators=550,\n",
        "                    min_child_weight=1,\n",
        "                    #max_depth=3, \n",
        "                    max_depth=depth, \n",
        "                    learning_rate=0.007,\n",
        "                    gamma=0.1, \n",
        "                    colsample_bytree=0.95,\n",
        "                    tree_method='hist',\n",
        "                    booster='dart',\n",
        "                    scale_pos_weight=scale_pos_weight,\n",
        "                    eval_metric='auc',\n",
        "                    eval_set=eval_set\n",
        "                    )\n",
        "\n",
        "    clf_params = clf.get_params()\n",
        "    print(clf_params)\n",
        "\n",
        "    # Set parameters\n",
        "    #clf_params['max_depth'] = 10\n",
        "    #clf.set_params(clf_params)\n",
        "\n",
        "    # Parameters to compare\n",
        "    weights = [i for i in range(1,36,1)]\n",
        "    weights.append(scale_pos_weight)\n",
        "    learn_params = {\n",
        "        'n_estimators': [100, 300, 500, 800, 1000], \n",
        "        'max_depth': range(3,10,2),\n",
        "        'min_child_weight': range(1,6,2),\n",
        "        #'gamma':[i/10.0 for i in range(0,5)],\n",
        "        'subsample':[i/100.0 for i in range(55,70,5)],\n",
        "        'colsample_bytree':[i/100.0 for i in range(85,100,5)],\n",
        "        #'learning_rate':[i/1000.0 for i in range(5,20,2)],\n",
        "        'scale_pos_weight': weights\n",
        "    }\n",
        "    print(f'Parameter distribution: {learn_params}')\n",
        "    \n",
        "    # Test and validate\n",
        "    ret_val = score_optimization(dt,\n",
        "                       feature_matrix,\n",
        "                       clf, \n",
        "                       learn_params,  \n",
        "                       X_train, \n",
        "                       y_train, \n",
        "                       X_test, \n",
        "                       y_test, \n",
        "                       skip_grid_search_cv=True,\n",
        "                       optimized_scorer=True)\n",
        "\n",
        "    gc.collect()\n",
        "\n",
        "    return ret_val\n",
        "    \n",
        "    # clf.fit(X_train, y_train)\n",
        "    # y_pred = clf.predict(X_test)\n",
        "\n",
        "    # # ROC score\n",
        "    # auc = roc_auc_score(y_test, y_pred)\n",
        "    # print(\"ROC score: \", auc)\n",
        "\n",
        "    # # Print confusion matrix\n",
        "    # conf_matrix = confusion_matrix(y_test, y_pred)\n",
        "    # sns.heatmap(conf_matrix, annot=True,fmt='d', cmap=plt.cm.copper)\n",
        "    # plt.show()\n",
        "\n",
        "    # Parameters to compare\n",
        "    # params = {\n",
        "    #     'criterion':['entropy','gini'],\n",
        "    #     'class_weight':[{1:1,0:0.3},{1:1,0:0.4},{1:1,0:0.5},{1:1,0:0.6},{1:1,0:7}]\n",
        "    # }\n",
        "\n",
        "    # Implement the classifier\n",
        "    # clf = RandomForestClassifier(\n",
        "    #     n_estimators=100,\n",
        "    #     max_features=None,\n",
        "    #     n_jobs=4,\n",
        "    # )\n",
        "\n",
        "    # # Test and validate\n",
        "    # score_optimization(clf, params, X_train, y_train, X_test, y_test)"
      ],
      "execution_count": 0,
      "outputs": []
    },
    {
      "cell_type": "code",
      "metadata": {
        "colab_type": "code",
        "id": "m9UobqUWMI9b",
        "jupyter": {
          "source_hidden": true
        },
        "colab": {}
      },
      "source": [
        "# Predict for a particular month\n",
        "\n",
        "# %time gen_train_test_set(pd.datetime(2019,6,1), feature_matrix_selection)\n",
        "\n",
        "#%time gen_train_test_set(pd.datetime(2019,6,1), feature_matrix_selection, file_prefix='test')\n",
        "#%time model(pd.datetime(2019,6,1), feature_matrix_selection, file_prefix='orig')"
      ],
      "execution_count": 0,
      "outputs": []
    },
    {
      "cell_type": "code",
      "metadata": {
        "colab_type": "code",
        "id": "Ns3Puh7Gnxl5",
        "outputId": "49310e49-6583-436d-af13-8328fde7552d",
        "colab": {
          "base_uri": "https://localhost:8080/",
          "height": 1000
        }
      },
      "source": [
        "target_mt = pd.datetime(2020,2,1)\n",
        "%time gen_train_test_set(target_mt, feature_matrix_selection, file_prefix='test')\n",
        "\n",
        "#for (estimators, depth) in ((300,3), (500,6), (550,6), (600,6)):\n",
        "for (estimators, depth) in ((300,3),):\n",
        "  %time model(target_mt, feature_matrix_selection, file_prefix='test', estimators=estimators, depth=depth)"
      ],
      "execution_count": 44,
      "outputs": [
        {
          "output_type": "stream",
          "text": [
            "Training on 969893 observations.\n",
            "Testing on 10000 observations.\n",
            "\n",
            "Data shape before balancing: (969893, 63)\n",
            "\n",
            "Counts of strikes vs non-strikes in previous data:\n",
            "0    937508\n",
            "1     32385\n",
            "Name: Label, dtype: int64\n",
            "----------------------------------------\n",
            "\n",
            "NO balancing\n",
            "Data shape after balancing: (969893, 63)\n",
            "\n",
            "Counts of strikes VS non-strikes in new data:\n",
            "0    937508\n",
            "1     32385\n",
            "Name: Label, dtype: int64\n",
            "\n",
            "Filtering features\n",
            "\n",
            "Data shape before feature selection: (969893, 63)\n",
            "\n",
            "Counts of strikes vs non-strikes before feature selection:\n",
            "0    937508\n",
            "1     32385\n",
            "Name: Label, dtype: int64\n",
            "----------------------------------------\n",
            "----------------------------------------\n",
            "\n",
            "Data shape after feature selection: (969893, 36)\n",
            "\n",
            "Counts of strikes vs non-strikes in new data:\n",
            "0    937508\n",
            "1     32385\n",
            "Name: Label, dtype: int64\n",
            "CPU times: user 14.2 s, sys: 202 ms, total: 14.4 s\n",
            "Wall time: 14.7 s\n",
            "\n",
            "-----------2020-02-01 00:00:00-----------------\n",
            "\n",
            "Data shape\n",
            "(969893, 35) (969893,) (10000, 35) (10000,)\n",
            "\n",
            "Calculating scale pos weight\n",
            "Counter({0: 937508, 1: 32385})\n",
            "\n",
            "scale_pos_weight - 28.94883433688436\n",
            "\n"
          ],
          "name": "stdout"
        },
        {
          "output_type": "stream",
          "text": [
            "IOPub data rate exceeded.\n",
            "The notebook server will temporarily stop sending output\n",
            "to the client in order to avoid crashing it.\n",
            "To change this limit, set the config variable\n",
            "`--NotebookApp.iopub_data_rate_limit`.\n",
            "\n",
            "Current values:\n",
            "NotebookApp.iopub_data_rate_limit=1000000.0 (bytes/sec)\n",
            "NotebookApp.rate_limit_window=3.0 (secs)\n",
            "\n"
          ],
          "name": "stderr"
        },
        {
          "output_type": "stream",
          "text": [
            "Threshold=0.471, F-Score=0.06217\n",
            "\n",
            "Recall: 0.050473186119873815\n",
            "                   pre       rec       spe        f1       geo       iba       sup\n",
            "\n",
            "          0       0.97      0.93      0.05      0.95      0.22      0.05      9683\n",
            "          1       0.02      0.05      0.93      0.03      0.22      0.04       317\n",
            "\n",
            "avg / total       0.94      0.90      0.08      0.92      0.22      0.05     10000\n",
            "\n"
          ],
          "name": "stdout"
        },
        {
          "output_type": "display_data",
          "data": {
            "image/png": "[encoded data removed]",
            "text/plain": [
              "<Figure size 432x288 with 2 Axes>"
            ]
          },
          "metadata": {
            "tags": []
          }
        },
        {
          "output_type": "display_data",
          "data": {
            "text/html": [
              "<div>\n",
              "<style scoped>\n",
              "    .dataframe tbody tr th:only-of-type {\n",
              "        vertical-align: middle;\n",
              "    }\n",
              "\n",
              "    .dataframe tbody tr th {\n",
              "        vertical-align: top;\n",
              "    }\n",
              "\n",
              "    .dataframe thead th {\n",
              "        text-align: right;\n",
              "    }\n",
              "</style>\n",
              "<table border=\"1\" class=\"dataframe\">\n",
              "  <thead>\n",
              "    <tr style=\"text-align: right;\">\n",
              "      <th></th>\n",
              "      <th>Train_Recall</th>\n",
              "      <th>Test_Recall</th>\n",
              "      <th>Test_Specificity</th>\n",
              "      <th>Optimize</th>\n",
              "    </tr>\n",
              "  </thead>\n",
              "  <tbody>\n",
              "    <tr>\n",
              "      <th>XGBClassifier_optimize</th>\n",
              "      <td>0</td>\n",
              "      <td>0.0504732</td>\n",
              "      <td>0.927915</td>\n",
              "      <td>0.0259615</td>\n",
              "    </tr>\n",
              "  </tbody>\n",
              "</table>\n",
              "</div>"
            ],
            "text/plain": [
              "                       Train_Recall Test_Recall Test_Specificity   Optimize\n",
              "XGBClassifier_optimize            0   0.0504732         0.927915  0.0259615"
            ]
          },
          "metadata": {
            "tags": []
          }
        },
        {
          "output_type": "stream",
          "text": [
            "\n",
            "\n",
            "Additional Info\n",
            "========================================\n",
            "Total predicted to be positive: 714 \n",
            "\n",
            "First 23 matches\n",
            "23 [  0  13  17  19  28  29  33  35  42  45  52  54  72  92 111 139 151 163\n",
            " 191 193 197 199 201]\n",
            "\n",
            "[0.50685877 0.5033251  0.50277746 0.51575655 0.5039137  0.5026578\n",
            " 0.50536865 0.5088764  0.50419843 0.500126   0.50590575 0.50413275\n",
            " 0.51133925 0.50342876 0.5018266  0.5011236  0.50322425 0.50321686\n",
            " 0.500613   0.50859404 0.50753075 0.5055681  0.50231284]\n",
            "\n",
            "\n",
            "Top 23 Probable Matches\n",
            "\n",
            "[1933 4465 8981 9595  905 3111 1230 2479 7836   19 1271 4562 5311  950\n",
            " 6114  823 1047  592 8938 8690 1949 5301 7455]\n",
            "\n",
            "\n",
            "[0.5153783  0.5177647  0.51862836 0.5163709  0.5159055  0.51613307\n",
            " 0.51648396 0.5168489  0.5159804  0.51575655 0.5192052  0.52193505\n",
            " 0.53189355 0.52347255 0.527189   0.5305465  0.52050555 0.53662175\n",
            " 0.52050716 0.5227675  0.524571   0.537097   0.52512646]\n",
            "\n",
            "\n",
            "2 To 3 Digits\n",
            "\n",
            "192 [ 13  17  19  28  29  33  35  42  45  52  54  72  92 111 139 151 163 191\n",
            " 193 197 199 201 210 216 219 226 230 239 253 260 262 270 271 272 278 279\n",
            " 282 283 291 298 314 316 317 325 328 330 336 344 352 353 354 363 365 382\n",
            " 384 392 421 422 431 437 446 451 468 479 490 495 496 498 500 507 510 520\n",
            " 535 537 538 540 546 553 557 559 560 567 568 569 573 575 580 581 591 592\n",
            " 594 598 599 604 607 608 613 614 616 618 621 622 623 626 628 630 634 637\n",
            " 641 643 644 649 657 661 666 667 674 691 697 706 708 709 716 720 728 731\n",
            " 736 743 744 749 752 757 760 764 765 767 769 771 776 782 787 792 793 799\n",
            " 800 802 803 804 806 809 810 816 817 818 823 831 839 847 848 854 855 859\n",
            " 866 868 874 876 877 882 885 886 887 895 900 903 905 921 922 923 925 929\n",
            " 942 944 947 950 952 954 957 963 966 971 974 987]\n",
            "\n",
            "[0.5033251  0.50277746 0.51575655 0.5039137  0.5026578  0.50536865\n",
            " 0.5088764  0.50419843 0.500126   0.50590575 0.50413275 0.51133925\n",
            " 0.50342876 0.5018266  0.5011236  0.50322425 0.50321686 0.500613\n",
            " 0.50859404 0.50753075 0.5055681  0.50231284 0.5108487  0.50420636\n",
            " 0.50732    0.5026786  0.5048685  0.50104076 0.50174785 0.5032388\n",
            " 0.50017667 0.5028019  0.50254035 0.50752324 0.5042445  0.5064163\n",
            " 0.503481   0.5101219  0.5046015  0.50686884 0.5058063  0.50102687\n",
            " 0.5039492  0.5016582  0.5022074  0.50125    0.5031476  0.5066384\n",
            " 0.501196   0.5010004  0.504877   0.5008732  0.5024251  0.50066584\n",
            " 0.50330245 0.510123   0.5050188  0.5029317  0.50214326 0.5029084\n",
            " 0.501368   0.50204676 0.50291646 0.50660056 0.5021567  0.50587136\n",
            " 0.50277746 0.50875187 0.50490963 0.5097872  0.50185204 0.50125813\n",
            " 0.5062684  0.50630015 0.50188786 0.5025088  0.5023292  0.5050775\n",
            " 0.51296335 0.503987   0.5018754  0.5094072  0.505909   0.5005597\n",
            " 0.50053674 0.5069004  0.5028312  0.5014504  0.5022013  0.53662175\n",
            " 0.5081985  0.50265336 0.5016347  0.50648105 0.50337845 0.5042921\n",
            " 0.5022363  0.50067043 0.5020813  0.51073295 0.50491035 0.5099787\n",
            " 0.5039105  0.5061329  0.50059634 0.5072162  0.504721   0.50441766\n",
            " 0.5086733  0.5003537  0.502569   0.5007634  0.5022341  0.50659233\n",
            " 0.5019185  0.50046206 0.5013717  0.5031962  0.5025548  0.5076831\n",
            " 0.50901306 0.5008765  0.5026399  0.503215   0.50264984 0.50148565\n",
            " 0.5035591  0.5027905  0.5001812  0.5001145  0.5009595  0.5048831\n",
            " 0.50091046 0.50365406 0.50309324 0.5001872  0.50136065 0.50007206\n",
            " 0.50318944 0.50235283 0.50213635 0.50034124 0.5021423  0.50690556\n",
            " 0.50085557 0.50816476 0.5043129  0.50326693 0.5047201  0.5022856\n",
            " 0.5031094  0.50286025 0.50074977 0.5014732  0.5305465  0.50425845\n",
            " 0.51260334 0.5006182  0.5019607  0.50713736 0.5046649  0.50132513\n",
            " 0.50065    0.5007896  0.5036353  0.50088996 0.5026527  0.5009667\n",
            " 0.5015936  0.50396305 0.50344634 0.5144131  0.5002391  0.51384616\n",
            " 0.5159055  0.50494707 0.5070739  0.50782514 0.51303136 0.50276804\n",
            " 0.50237834 0.5045125  0.50329775 0.52347255 0.50771123 0.5040152\n",
            " 0.5019433  0.5033317  0.5059402  0.50086385 0.50840855 0.5026856 ]\n",
            "\n",
            "\n",
            "2 To 3 Digits Average Proba\n",
            "\n",
            "Average proba 0.5044637322425842\n",
            "\n",
            "175 [   0   19   33   35   52   72  193  197  199  210  219  230  272  279\n",
            "  283  291  298  314  344  354  392  421  479  495  498  500  507  535\n",
            "  537  553  557  567  568  575  592  594  604  618  621  622  626  630\n",
            "  634  641  661  706  708  757  799  802  806  823  839  854  855  895\n",
            "  903  905  921  922  923  925  944  950  952  966  974 1009 1047 1050\n",
            " 1115 1126 1156 1198 1216 1221 1230 1231 1255 1271 1304 1320 1378 1438\n",
            " 1445 1508 1519 1553 1563 1577 1597 1671 1686 1773 1807 1933 1949 1950\n",
            " 1962 1979 2011 2029 2030 2036 2071 2144 2185 2190 2213 2255 2260 2451\n",
            " 2466 2479 2532 2533 2536 2609 2722 2759 2769 2958 3029 3034 3111 3138\n",
            " 3163 3183 3269 3350 3411 3830 3927 4012 4016 4060 4116 4339 4465 4562\n",
            " 4851 4855 4859 4923 5261 5301 5311 5378 5437 5464 6045 6114 6117 6326\n",
            " 6367 6439 6772 6874 7166 7231 7302 7455 7730 7836 8260 8360 8499 8690\n",
            " 8938 8981 9028 9192 9258 9431 9595]\n",
            "\n",
            "\n",
            "All Average Proba\n",
            "\n",
            "All average probas 0.503632128238678\n",
            "\n",
            "235 [   0   19   28   33   35   42   52   54   72  193  197  199  210  216\n",
            "  219  230  272  278  279  283  291  298  314  317  344  354  392  421\n",
            "  479  495  498  500  507  535  537  553  557  559  567  568  575  592\n",
            "  594  604  608  618  621  622  623  626  630  634  637  641  661  706\n",
            "  708  757  764  799  802  803  806  823  831  839  854  855  874  886\n",
            "  895  903  905  921  922  923  925  944  950  952  954  966  974 1009\n",
            " 1017 1018 1039 1047 1050 1115 1126 1142 1156 1198 1216 1221 1230 1231\n",
            " 1255 1271 1304 1320 1378 1438 1445 1450 1474 1489 1502 1508 1519 1550\n",
            " 1553 1555 1563 1577 1597 1671 1686 1702 1773 1807 1811 1853 1933 1949\n",
            " 1950 1962 1979 2011 2029 2030 2036 2071 2144 2153 2185 2190 2213 2255\n",
            " 2260 2269 2276 2451 2466 2479 2532 2533 2536 2550 2603 2609 2701 2722\n",
            " 2759 2769 2936 2958 3029 3034 3081 3090 3091 3111 3138 3163 3183 3269\n",
            " 3350 3400 3411 3526 3733 3811 3830 3927 3988 4012 4016 4060 4116 4339\n",
            " 4465 4562 4851 4855 4859 4923 5045 5084 5261 5301 5311 5378 5437 5464\n",
            " 5523 5725 5820 6045 6114 6117 6326 6352 6367 6439 6772 6874 6997 7081\n",
            " 7166 7231 7302 7318 7402 7405 7455 7730 7836 8009 8031 8216 8260 8360\n",
            " 8499 8690 8938 8981 9028 9192 9258 9431 9595 9610 9895]\n",
            "\n",
            "\n",
            "All Predictions\n",
            "\n",
            "714 [   0   13   17   19   28   29   33   35   42   45   52   54   72   92\n",
            "  111  139  151  163  191  193  197  199  201  210  216  219  226  230\n",
            "  239  253  260  262  270  271  272  278  279  282  283  291  298  314\n",
            "  316  317  325  328  330  336  344  352  353  354  363  365  382  384\n",
            "  392  421  422  431  437  446  451  468  479  490  495  496  498  500\n",
            "  507  510  520  535  537  538  540  546  553  557  559  560  567  568\n",
            "  569  573  575  580  581  591  592  594  598  599  604  607  608  613\n",
            "  614  616  618  621  622  623  626  628  630  634  637  641  643  644\n",
            "  649  657  661  666  667  674  691  697  706  708  709  716  720  728\n",
            "  731  736  743  744  749  752  757  760  764  765  767  769  771  776\n",
            "  782  787  792  793  799  800  802  803  804  806  809  810  816  817\n",
            "  818  823  831  839  847  848  854  855  859  866  868  874  876  877\n",
            "  882  885  886  887  895  900  903  905  921  922  923  925  929  942\n",
            "  944  947  950  952  954  957  963  966  971  974  987 1009 1016 1017\n",
            " 1018 1022 1027 1029 1030 1031 1039 1044 1046 1047 1050 1055 1061 1064\n",
            " 1071 1083 1085 1088 1102 1103 1112 1115 1126 1127 1142 1152 1156 1174\n",
            " 1175 1178 1198 1207 1216 1221 1228 1230 1231 1255 1256 1260 1271 1279\n",
            " 1284 1296 1298 1304 1308 1315 1316 1320 1321 1334 1336 1348 1349 1353\n",
            " 1354 1360 1362 1378 1399 1412 1414 1423 1431 1435 1438 1445 1450 1454\n",
            " 1456 1463 1467 1474 1475 1489 1502 1506 1508 1516 1519 1531 1534 1550\n",
            " 1553 1554 1555 1557 1563 1571 1577 1580 1581 1585 1597 1631 1649 1651\n",
            " 1655 1671 1684 1686 1689 1695 1700 1702 1710 1723 1736 1747 1748 1754\n",
            " 1766 1773 1777 1789 1807 1810 1811 1828 1830 1832 1834 1853 1857 1862\n",
            " 1867 1879 1884 1888 1896 1905 1907 1914 1933 1942 1949 1950 1957 1962\n",
            " 1979 1984 1992 2011 2019 2029 2030 2036 2050 2053 2056 2064 2071 2075\n",
            " 2093 2097 2105 2107 2115 2144 2145 2153 2157 2158 2172 2178 2185 2188\n",
            " 2190 2196 2209 2213 2241 2243 2248 2254 2255 2260 2266 2268 2269 2275\n",
            " 2276 2278 2302 2303 2325 2326 2331 2346 2353 2376 2398 2399 2414 2415\n",
            " 2418 2425 2439 2441 2446 2449 2451 2461 2466 2474 2479 2485 2495 2497\n",
            " 2502 2509 2520 2532 2533 2536 2550 2560 2571 2603 2609 2628 2633 2679\n",
            " 2701 2704 2722 2723 2749 2759 2760 2765 2769 2786 2842 2860 2865 2869\n",
            " 2872 2879 2889 2897 2936 2952 2958 2989 3003 3009 3010 3018 3029 3030\n",
            " 3034 3043 3081 3086 3090 3091 3099 3111 3113 3138 3139 3152 3156 3163\n",
            " 3171 3183 3209 3251 3254 3266 3269 3283 3306 3319 3334 3350 3356 3387\n",
            " 3400 3411 3428 3436 3448 3468 3482 3492 3494 3521 3526 3545 3591 3600\n",
            " 3613 3618 3624 3632 3675 3710 3732 3733 3772 3781 3791 3805 3811 3816\n",
            " 3828 3830 3845 3879 3890 3920 3927 3931 3932 3935 3968 3988 4012 4016\n",
            " 4036 4043 4044 4053 4060 4080 4098 4116 4123 4166 4242 4253 4257 4282\n",
            " 4315 4321 4336 4339 4369 4373 4465 4472 4473 4479 4514 4562 4578 4592\n",
            " 4609 4661 4669 4725 4753 4763 4780 4789 4826 4849 4851 4855 4859 4923\n",
            " 4932 4974 5009 5032 5045 5067 5070 5084 5087 5092 5213 5237 5240 5261\n",
            " 5294 5301 5309 5311 5331 5338 5340 5365 5371 5378 5426 5430 5437 5440\n",
            " 5442 5464 5506 5521 5523 5587 5631 5648 5709 5725 5726 5792 5797 5820\n",
            " 5825 5899 5960 6019 6045 6055 6092 6094 6114 6117 6131 6156 6215 6241\n",
            " 6281 6326 6352 6367 6379 6408 6439 6447 6451 6453 6481 6510 6586 6603\n",
            " 6620 6742 6749 6772 6806 6874 6918 6926 6945 6960 6962 6992 6997 7058\n",
            " 7081 7097 7136 7139 7143 7144 7160 7166 7222 7227 7231 7249 7302 7318\n",
            " 7320 7339 7397 7400 7402 7405 7433 7455 7486 7495 7513 7532 7649 7682\n",
            " 7730 7836 7904 7936 7956 8009 8031 8051 8078 8186 8216 8260 8360 8490\n",
            " 8499 8524 8690 8697 8701 8919 8938 8981 8983 9028 9110 9122 9192 9254\n",
            " 9258 9282 9364 9431 9465 9595 9610 9671 9692 9702 9755 9766 9895 9963]\n",
            "\n",
            "714 [0.50685877 0.5033251  0.50277746 0.51575655 0.5039137  0.5026578\n",
            " 0.50536865 0.5088764  0.50419843 0.500126   0.50590575 0.50413275\n",
            " 0.51133925 0.50342876 0.5018266  0.5011236  0.50322425 0.50321686\n",
            " 0.500613   0.50859404 0.50753075 0.5055681  0.50231284 0.5108487\n",
            " 0.50420636 0.50732    0.5026786  0.5048685  0.50104076 0.50174785\n",
            " 0.5032388  0.50017667 0.5028019  0.50254035 0.50752324 0.5042445\n",
            " 0.5064163  0.503481   0.5101219  0.5046015  0.50686884 0.5058063\n",
            " 0.50102687 0.5039492  0.5016582  0.5022074  0.50125    0.5031476\n",
            " 0.5066384  0.501196   0.5010004  0.504877   0.5008732  0.5024251\n",
            " 0.50066584 0.50330245 0.510123   0.5050188  0.5029317  0.50214326\n",
            " 0.5029084  0.501368   0.50204676 0.50291646 0.50660056 0.5021567\n",
            " 0.50587136 0.50277746 0.50875187 0.50490963 0.5097872  0.50185204\n",
            " 0.50125813 0.5062684  0.50630015 0.50188786 0.5025088  0.5023292\n",
            " 0.5050775  0.51296335 0.503987   0.5018754  0.5094072  0.505909\n",
            " 0.5005597  0.50053674 0.5069004  0.5028312  0.5014504  0.5022013\n",
            " 0.53662175 0.5081985  0.50265336 0.5016347  0.50648105 0.50337845\n",
            " 0.5042921  0.5022363  0.50067043 0.5020813  0.51073295 0.50491035\n",
            " 0.5099787  0.5039105  0.5061329  0.50059634 0.5072162  0.504721\n",
            " 0.50441766 0.5086733  0.5003537  0.502569   0.5007634  0.5022341\n",
            " 0.50659233 0.5019185  0.50046206 0.5013717  0.5031962  0.5025548\n",
            " 0.5076831  0.50901306 0.5008765  0.5026399  0.503215   0.50264984\n",
            " 0.50148565 0.5035591  0.5027905  0.5001812  0.5001145  0.5009595\n",
            " 0.5048831  0.50091046 0.50365406 0.50309324 0.5001872  0.50136065\n",
            " 0.50007206 0.50318944 0.50235283 0.50213635 0.50034124 0.5021423\n",
            " 0.50690556 0.50085557 0.50816476 0.5043129  0.50326693 0.5047201\n",
            " 0.5022856  0.5031094  0.50286025 0.50074977 0.5014732  0.5305465\n",
            " 0.50425845 0.51260334 0.5006182  0.5019607  0.50713736 0.5046649\n",
            " 0.50132513 0.50065    0.5007896  0.5036353  0.50088996 0.5026527\n",
            " 0.5009667  0.5015936  0.50396305 0.50344634 0.5144131  0.5002391\n",
            " 0.51384616 0.5159055  0.50494707 0.5070739  0.50782514 0.51303136\n",
            " 0.50276804 0.50237834 0.5045125  0.50329775 0.52347255 0.50771123\n",
            " 0.5040152  0.5019433  0.5033317  0.5059402  0.50086385 0.50840855\n",
            " 0.5026856  0.50841856 0.50154334 0.503787   0.50427    0.50044906\n",
            " 0.5017425  0.5004651  0.5000313  0.5014536  0.5043593  0.50357246\n",
            " 0.50033087 0.52050555 0.5045967  0.50156444 0.5007373  0.5003508\n",
            " 0.5024047  0.5029101  0.5004017  0.5016965  0.500803   0.5023658\n",
            " 0.5025465  0.5057849  0.50451374 0.5013619  0.5038482  0.5002992\n",
            " 0.5046192  0.5028597  0.5029118  0.5014137  0.5055436  0.50127476\n",
            " 0.50495905 0.50791967 0.502195   0.51648396 0.5073899  0.5053183\n",
            " 0.50281    0.5028662  0.5192052  0.50049454 0.5009887  0.50339013\n",
            " 0.5012148  0.50483656 0.50359565 0.50169754 0.5015026  0.506712\n",
            " 0.50117624 0.50200665 0.5006097  0.50215465 0.50047284 0.50154465\n",
            " 0.50029176 0.50218636 0.5000992  0.5064659  0.50146514 0.5002631\n",
            " 0.5028232  0.50334513 0.50314957 0.5001669  0.5061792  0.50608784\n",
            " 0.5044343  0.501712   0.5011323  0.5003228  0.50013816 0.5036404\n",
            " 0.50299054 0.50380576 0.503767   0.50066376 0.50985557 0.50355405\n",
            " 0.50735563 0.502148   0.50264233 0.50403106 0.507069   0.501775\n",
            " 0.5038209  0.5021604  0.5057468  0.50157857 0.50446415 0.50064814\n",
            " 0.5001455  0.50045216 0.5082264  0.50105876 0.5013851  0.50204676\n",
            " 0.50139046 0.50732994 0.50336635 0.5068786  0.5021466  0.50268596\n",
            " 0.50288314 0.5038956  0.5024081  0.5020695  0.50113016 0.50269634\n",
            " 0.5018927  0.50085896 0.5008103  0.50577927 0.5002313  0.5010563\n",
            " 0.50624555 0.502441   0.50399    0.5005074  0.50244    0.5003694\n",
            " 0.50012034 0.5042389  0.5006541  0.5014113  0.50166655 0.502483\n",
            " 0.50292563 0.5003188  0.50232285 0.5002798  0.5035721  0.5020565\n",
            " 0.5153783  0.50211465 0.524571   0.5044686  0.5013608  0.50524765\n",
            " 0.5046865  0.50122195 0.5025193  0.5081406  0.501375   0.5085194\n",
            " 0.50964576 0.5049924  0.5010123  0.5003502  0.50237066 0.5029011\n",
            " 0.5048311  0.5024367  0.5003247  0.5017004  0.5021941  0.5032726\n",
            " 0.5012788  0.50811297 0.5018194  0.50390345 0.5018206  0.5024254\n",
            " 0.50308853 0.50214136 0.5098019  0.5002953  0.505823   0.50123954\n",
            " 0.5031589  0.50471187 0.5005304  0.50272954 0.5001359  0.5005849\n",
            " 0.50643766 0.5078951  0.5019198  0.5008998  0.50437343 0.5016336\n",
            " 0.5040752  0.50145745 0.5014729  0.50083345 0.50079805 0.5005628\n",
            " 0.5006692  0.50126743 0.50130713 0.5019525  0.50195044 0.5006651\n",
            " 0.5008894  0.5006941  0.5000487  0.5029745  0.5019373  0.5026598\n",
            " 0.50070626 0.50192106 0.5104835  0.50291026 0.50496185 0.50039285\n",
            " 0.5168489  0.5031465  0.50002986 0.50197697 0.50111264 0.50059783\n",
            " 0.5003783  0.5094527  0.5051587  0.50597143 0.50423205 0.50181186\n",
            " 0.502836   0.50372857 0.50792176 0.5010226  0.502797   0.50244325\n",
            " 0.5040057  0.5016804  0.5066852  0.5015866  0.5007022  0.50808614\n",
            " 0.50355387 0.50181586 0.5059085  0.50167674 0.50118715 0.5004774\n",
            " 0.50212264 0.50242746 0.50067425 0.50085735 0.50163484 0.50027454\n",
            " 0.504079   0.50220376 0.5057851  0.50101423 0.5014687  0.50012004\n",
            " 0.5035923  0.5013094  0.5050372  0.5000697  0.50481236 0.501347\n",
            " 0.5037575  0.500818   0.50428826 0.504439   0.5007044  0.51613307\n",
            " 0.5014867  0.5050195  0.5035706  0.50018656 0.50037724 0.50472975\n",
            " 0.50355995 0.5062454  0.5006811  0.5007373  0.5029009  0.5017483\n",
            " 0.50595    0.5000145  0.50360644 0.5023081  0.50213397 0.50800973\n",
            " 0.5019753  0.5002658  0.504204   0.50906575 0.50250447 0.5016806\n",
            " 0.5011264  0.50186807 0.5033243  0.5015433  0.5031763  0.50264204\n",
            " 0.50379616 0.50089395 0.50361997 0.50345963 0.5023287  0.50204176\n",
            " 0.5027799  0.50030375 0.5007931  0.50090325 0.5000773  0.504206\n",
            " 0.5011725  0.50072235 0.50258756 0.5025913  0.50363874 0.5012729\n",
            " 0.5001984  0.5046513  0.5004545  0.50011605 0.5001905  0.5000942\n",
            " 0.5053113  0.5029039  0.50082666 0.5024229  0.5027096  0.5041277\n",
            " 0.50489664 0.50509083 0.5024161  0.50038844 0.5019473  0.500238\n",
            " 0.50613594 0.5011014  0.5011082  0.5045728  0.5029831  0.5010353\n",
            " 0.50273365 0.50063616 0.50095147 0.50036114 0.50125617 0.50025463\n",
            " 0.5005453  0.5057319  0.50153106 0.5021447  0.5177647  0.5011362\n",
            " 0.50185204 0.5028946  0.5008979  0.52193505 0.5031183  0.50002927\n",
            " 0.50115204 0.50015664 0.5027212  0.5012342  0.50120145 0.5030948\n",
            " 0.5011489  0.5019517  0.5002654  0.5006439  0.5067328  0.5131891\n",
            " 0.50645703 0.50890857 0.50157475 0.5003626  0.5003599  0.5003415\n",
            " 0.5039153  0.50225407 0.5010567  0.50442874 0.5017869  0.5012431\n",
            " 0.50080997 0.5016814  0.50263244 0.5048933  0.5018826  0.537097\n",
            " 0.5013993  0.53189355 0.50147563 0.5021643  0.5007052  0.50057423\n",
            " 0.5028453  0.5125847  0.50006    0.50045    0.5052608  0.5008791\n",
            " 0.5025042  0.50677186 0.50256246 0.5019234  0.50363433 0.50318336\n",
            " 0.50022817 0.50260264 0.50048745 0.5042128  0.5014091  0.5007672\n",
            " 0.50056493 0.50372136 0.5014009  0.50022995 0.5017133  0.50162965\n",
            " 0.5069014  0.5010886  0.5008286  0.50050515 0.527189   0.5048404\n",
            " 0.5002506  0.50124586 0.5019663  0.50059927 0.500865   0.5110358\n",
            " 0.5044396  0.505342   0.50078917 0.5008489  0.50639915 0.50153804\n",
            " 0.50151837 0.5011308  0.50084245 0.5023073  0.502385   0.50181115\n",
            " 0.50348246 0.5002157  0.5018016  0.50518894 0.5034153  0.5083002\n",
            " 0.5016356  0.50174415 0.5027394  0.50305176 0.50291026 0.5007446\n",
            " 0.5037645  0.50078607 0.50380087 0.5026269  0.5002395  0.5034211\n",
            " 0.5025038  0.50007045 0.5003852  0.50641966 0.50224906 0.50030273\n",
            " 0.50652725 0.50165117 0.50765485 0.50393957 0.5020605  0.5026991\n",
            " 0.50079936 0.50023866 0.50416493 0.5038186  0.5018578  0.52512646\n",
            " 0.50347495 0.50130194 0.5003486  0.50230217 0.5005666  0.5010101\n",
            " 0.50471824 0.5159804  0.5022859  0.5005313  0.50036585 0.5044589\n",
            " 0.5037253  0.5007172  0.50290716 0.503269   0.50401413 0.5051937\n",
            " 0.5061917  0.5008115  0.51249105 0.5018159  0.5227675  0.50113094\n",
            " 0.50125545 0.50199115 0.52050716 0.51862836 0.50170404 0.5047022\n",
            " 0.5014479  0.5011994  0.50455844 0.50082594 0.5134311  0.50356054\n",
            " 0.5007379  0.5063558  0.5029683  0.5163709  0.5039889  0.50257957\n",
            " 0.5001333  0.502546   0.503238   0.5002408  0.5037342  0.50285476]\n",
            "\n",
            "Matched draws\n",
            "Count: 16, Index: (array([ 392,  422, 1228, 1284, 1467, 1475, 1519, 1789, 1884, 2030, 2145,\n",
            "       2889, 3400, 3927, 4116, 6439]),)\n",
            "\n",
            "\n",
            "Top 23 Possibility\n",
            "Empty DataFrame\n",
            "Columns: [DrawNo, DrawDate, PrizeType, LuckyNo]\n",
            "Index: []\n",
            "\n",
            "\n",
            "First 23 Numbers\n",
            "Empty DataFrame\n",
            "Columns: [DrawNo, DrawDate, PrizeType, LuckyNo]\n",
            "Index: []\n",
            "\n",
            "\n",
            "2 To 3 Digits Numbers\n",
            "        DrawNo   DrawDate       PrizeType  LuckyNo\n",
            "107279  507220 2020-02-08  ConsolationNo4      422\n",
            "107356  507520 2020-02-15      SpecialNo2      392\n",
            "\n",
            "\n",
            "All matched\n",
            "        DrawNo   DrawDate        PrizeType  LuckyNo\n",
            "107187  506820 2020-02-01   ConsolationNo4     1789\n",
            "107199  506820 2020-02-01       SpecialNo6     2030\n",
            "107206  506920 2020-02-02   ConsolationNo1     1519\n",
            "107216  506920 2020-02-02       SpecialNo1     1467\n",
            "107223  506920 2020-02-02       SpecialNo7     1284\n",
            "107243  507020 2020-02-04       SpecialNo4     1884\n",
            "107279  507220 2020-02-08   ConsolationNo4      422\n",
            "107289  507220 2020-02-08       SpecialNo4     4116\n",
            "107356  507520 2020-02-15       SpecialNo2      392\n",
            "107365  507620 2020-02-16       2ndPrizeNo     1228\n",
            "107385  507620 2020-02-16       SpecialNo8     3400\n",
            "107402  507720 2020-02-19       SpecialNo2     2145\n",
            "107414  507820 2020-02-22  ConsolationNo10     2889\n",
            "107456  508020 2020-02-26       1stPrizeNo     3927\n",
            "107466  508020 2020-02-26   ConsolationNo7     1475\n",
            "107475  508020 2020-02-26       SpecialNo6     6439\n",
            "CPU times: user 37min 39s, sys: 2.74 s, total: 37min 42s\n",
            "Wall time: 10min 8s\n"
          ],
          "name": "stdout"
        }
      ]
    },
    {
      "cell_type": "code",
      "metadata": {
        "id": "DRtzlp_pcBGd",
        "colab_type": "code",
        "colab": {}
      },
      "source": [
        ""
      ],
      "execution_count": 0,
      "outputs": []
    },
    {
      "cell_type": "code",
      "metadata": {
        "colab_type": "code",
        "id": "VE6Xbz-IyvLj",
        "colab": {}
      },
      "source": [
        "# weight=1.0\n",
        "# decrement = 0.000\n",
        "# to_stop=False\n",
        "\n",
        "# dt = pd.datetime(2020,1,1)\n",
        "# %time gen_train_test_set(dt, feature_matrix_selection, file_prefix='test')\n",
        "# while not to_stop:\n",
        "#   to_stop = model(dt, feature_matrix_selection, file_prefix='test', class_weight=(weight-decrement))\n",
        "#   decrement = decrement + 0.005"
      ],
      "execution_count": 0,
      "outputs": []
    },
    {
      "cell_type": "code",
      "metadata": {
        "colab_type": "code",
        "id": "qktZbi7OGqP3",
        "colab": {}
      },
      "source": [
        "# start_mt = pd.datetime(2019,7,1)\n",
        "# how_many_mt = 6 \n",
        "# for i in range(how_many_mt):\n",
        "#   month_to_predict = start_mt + relativedelta(months=i)\n",
        "#   print(f\"\\n{month_to_predict}\\n-------------------\\n\")\n",
        "\n",
        "#   weight=1.0\n",
        "#   decrement = 0.000\n",
        "#   to_stop=False\n",
        "\n",
        "#   gen_train_test_set(month_to_predict, feature_matrix_selection, file_prefix='test')\n",
        "#   while not to_stop:\n",
        "#     to_stop = model(month_to_predict, feature_matrix_selection, file_prefix='test', class_weight=(weight-decrement))\n",
        "#     decrement = decrement + 0.001\n"
      ],
      "execution_count": 0,
      "outputs": []
    },
    {
      "cell_type": "code",
      "metadata": {
        "colab_type": "code",
        "id": "N8tcqn4yIl21",
        "colab": {}
      },
      "source": [
        "# weight=1.0\n",
        "# decrement = 0.000\n",
        "# to_stop=False\n",
        "\n",
        "# dt = pd.datetime(2020,2,1)\n",
        "# %time gen_train_test_set(dt, feature_matrix_selection, file_prefix='test')\n",
        "# while not to_stop:\n",
        "#   to_stop = model(dt, feature_matrix_selection, file_prefix='test', class_weight=(weight-decrement))\n",
        "#   decrement = decrement + 0.005"
      ],
      "execution_count": 0,
      "outputs": []
    },
    {
      "cell_type": "code",
      "metadata": {
        "colab_type": "code",
        "id": "1SC8YG8P_ljs",
        "colab": {}
      },
      "source": [
        "# weight=1.0\n",
        "# decrement = 0.000\n",
        "# to_stop=False\n",
        "\n",
        "# dt = pd.datetime(2020,3,1)\n",
        "# %time gen_train_test_set(dt, feature_matrix_selection, file_prefix='test')\n",
        "# while not to_stop:\n",
        "#   to_stop = model(dt, feature_matrix_selection, file_prefix='test', class_weight=(weight-decrement))\n",
        "#   decrement = decrement + 0.00"
      ],
      "execution_count": 0,
      "outputs": []
    },
    {
      "cell_type": "code",
      "metadata": {
        "colab_type": "code",
        "id": "yASd8nZFR7Qb",
        "colab": {}
      },
      "source": [
        ""
      ],
      "execution_count": 0,
      "outputs": []
    },
    {
      "cell_type": "code",
      "metadata": {
        "id": "153K-Fpie_vd",
        "colab_type": "code",
        "colab": {}
      },
      "source": [
        "# target_mt = pd.datetime(2020,3,1)\n",
        "# %time gen_train_test_set(target_mt, feature_matrix_selection, file_prefix='test')\n",
        "\n",
        "# for (estimators, depth) in ((300,3), (500,6), (550,6), (600,6)):\n",
        "#   %time model(target_mt, feature_matrix_selection, file_prefix='test', estimators=estimators, depth=depth)"
      ],
      "execution_count": 0,
      "outputs": []
    },
    {
      "cell_type": "code",
      "metadata": {
        "id": "Y4FzHxatfCd7",
        "colab_type": "code",
        "colab": {}
      },
      "source": [
        ""
      ],
      "execution_count": 0,
      "outputs": []
    }
  ]
}
{
 "cells": [
  {
   "cell_type": "code",
   "execution_count": null,
   "metadata": {},
   "outputs": [],
   "source": [
    "from snapy import MinHash, LSH\n",
    "\n",
    "content = [\n",
    "    '0000',\n",
    "    '1234',\n",
    "    '5523'\n",
    "]\n",
    "\n",
    "labels = [1, 2, 3 ]\n",
    "seed = 3\n",
    "\n",
    "# Create MinHash object.\n",
    "minhash = MinHash(content, n_gram=4, permutations=100, hash_bits=64, seed=3)\n",
    "\n",
    "# Create LSH model.\n",
    "lsh = LSH(minhash, labels, no_of_bands=50)\n",
    "\n",
    "# Query to find near duplicates for text 1.\n",
    "print(lsh.query(1, min_jaccard=0.5))\n",
    "\n",
    "# Generate minhash signature and add new texts to LSH model.\n",
    "new_text = [\n",
    "    '0001',\n",
    "    '1235'\n",
    "]\n",
    "\n",
    "new_labels = ['doc1', 'doc2']\n",
    "\n",
    "new_minhash = MinHash(new_text, n_gram=9, permutations=100, hash_bits=64, seed=3)\n",
    "\n",
    "lsh.update(new_minhash, new_labels)\n",
    "\n",
    "# Check contents of documents.\n",
    "print(lsh.contains())"
   ]
  },
  {
   "cell_type": "code",
   "execution_count": null,
   "metadata": {},
   "outputs": [],
   "source": []
  }
 ],
 "metadata": {
  "kernelspec": {
   "display_name": "Python 3",
   "language": "python",
   "name": "python3"
  },
  "language_info": {
   "codemirror_mode": {
    "name": "ipython",
    "version": 3
   },
   "file_extension": ".py",
   "mimetype": "text/x-python",
   "name": "python",
   "nbconvert_exporter": "python",
   "pygments_lexer": "ipython3",
   "version": "3.8.3"
  }
 },
 "nbformat": 4,
 "nbformat_minor": 4
}

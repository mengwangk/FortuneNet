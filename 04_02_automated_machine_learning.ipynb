{
  "nbformat": 4,
  "nbformat_minor": 0,
  "metadata": {
    "kernelspec": {
      "display_name": "Python 3",
      "language": "python",
      "name": "python3"
    },
    "language_info": {
      "codemirror_mode": {
        "name": "ipython",
        "version": 3
      },
      "file_extension": ".py",
      "mimetype": "text/x-python",
      "name": "python",
      "nbconvert_exporter": "python",
      "pygments_lexer": "ipython3",
      "version": "3.7.2"
    },
    "colab": {
      "name": "04_02_automated_machine_learning.ipynb",
      "provenance": [],
      "include_colab_link": true
    }
  },
  "cells": [
    {
      "cell_type": "markdown",
      "metadata": {
        "id": "view-in-github",
        "colab_type": "text"
      },
      "source": [
        "<a href=\"https://colab.research.google.com/github/mengwangk/dl-projects/blob/master/04_02_automated_machine_learning.ipynb\" target=\"_parent\"><img src=\"https://colab.research.google.com/assets/colab-badge.svg\" alt=\"Open In Colab\"/></a>"
      ]
    },
    {
      "cell_type": "markdown",
      "metadata": {
        "id": "4hyoPGdjpqa_",
        "colab_type": "text"
      },
      "source": [
        "# Automated ML"
      ]
    },
    {
      "cell_type": "code",
      "metadata": {
        "id": "fC2-l3JBpqbE",
        "colab_type": "code",
        "colab": {}
      },
      "source": [
        "%reload_ext autoreload\n",
        "%autoreload 2\n",
        "\n",
        "%matplotlib inline"
      ],
      "execution_count": 0,
      "outputs": []
    },
    {
      "cell_type": "code",
      "metadata": {
        "id": "TP7V_IzepqbK",
        "colab_type": "code",
        "colab": {}
      },
      "source": [
        "import numpy as np\n",
        "import pandas as pd\n",
        "import seaborn as sns\n",
        "import matplotlib.pyplot as plt\n",
        "import scipy.stats as ss\n",
        "import math \n",
        "import matplotlib\n",
        "\n",
        "from scipy import stats\n",
        "from collections import Counter\n",
        "from pathlib import Path\n",
        "\n",
        "plt.style.use('fivethirtyeight')\n",
        "\n",
        "sns.set(style=\"ticks\")\n",
        "\n",
        "# Automated feature engineering\n",
        "import featuretools as ft\n",
        "\n",
        "# Machine learning\n",
        "from sklearn.pipeline import Pipeline\n",
        "from sklearn.preprocessing import Imputer, MinMaxScaler, StandardScaler\n",
        "from sklearn.metrics import precision_score, recall_score, f1_score, roc_auc_score, precision_recall_curve, roc_curve\n",
        "from sklearn.model_selection import train_test_split, cross_val_score\n",
        "from sklearn.ensemble import RandomForestClassifier\n",
        "\n",
        "from IPython.display import display\n",
        "\n",
        "from utils import *\n",
        "from preprocess import *\n",
        "\n",
        "# The Answer to the Ultimate Question of Life, the Universe, and Everything.\n",
        "np.random.seed(42)"
      ],
      "execution_count": 0,
      "outputs": []
    },
    {
      "cell_type": "code",
      "metadata": {
        "id": "3bFT5CoxpqbP",
        "colab_type": "code",
        "colab": {},
        "outputId": "93abb871-e28b-40b0-f673-9d866ffb40a6"
      },
      "source": [
        "%aimport"
      ],
      "execution_count": 0,
      "outputs": [
        {
          "output_type": "stream",
          "text": [
            "Modules to reload:\n",
            "all-except-skipped\n",
            "\n",
            "Modules to skip:\n",
            "\n"
          ],
          "name": "stdout"
        }
      ]
    },
    {
      "cell_type": "markdown",
      "metadata": {
        "id": "3E16jPVPpqbV",
        "colab_type": "text"
      },
      "source": [
        "## Preparation"
      ]
    },
    {
      "cell_type": "code",
      "metadata": {
        "id": "9IgnETKkpqbX",
        "colab_type": "code",
        "colab": {}
      },
      "source": [
        "DATASET_PATH = Path(\"datasets/lotto\")\n",
        "DATASET = DATASET_PATH/\"4D.zip\""
      ],
      "execution_count": 0,
      "outputs": []
    },
    {
      "cell_type": "code",
      "metadata": {
        "id": "vD-iIrCipqbc",
        "colab_type": "code",
        "colab": {}
      },
      "source": [
        "df = format_tabular(DATASET)"
      ],
      "execution_count": 0,
      "outputs": []
    },
    {
      "cell_type": "code",
      "metadata": {
        "id": "BbDpkNHPpqbi",
        "colab_type": "code",
        "colab": {},
        "outputId": "7fb399e0-ecef-4499-8386-670a4cec7971"
      },
      "source": [
        "df.info()"
      ],
      "execution_count": 0,
      "outputs": [
        {
          "output_type": "stream",
          "text": [
            "<class 'pandas.core.frame.DataFrame'>\n",
            "RangeIndex: 106398 entries, 0 to 106397\n",
            "Data columns (total 4 columns):\n",
            "DrawNo       106398 non-null int64\n",
            "DrawDate     106398 non-null datetime64[ns]\n",
            "PrizeType    106398 non-null object\n",
            "LuckyNo      106398 non-null int64\n",
            "dtypes: datetime64[ns](1), int64(2), object(1)\n",
            "memory usage: 3.2+ MB\n"
          ],
          "name": "stdout"
        }
      ]
    },
    {
      "cell_type": "code",
      "metadata": {
        "id": "WY4duu6Tpqbp",
        "colab_type": "code",
        "colab": {},
        "outputId": "25c1cb68-e6c5-4882-b9f2-1309be0a1256"
      },
      "source": [
        "df.tail(10)"
      ],
      "execution_count": 0,
      "outputs": [
        {
          "output_type": "execute_result",
          "data": {
            "text/html": [
              "<div>\n",
              "<style scoped>\n",
              "    .dataframe tbody tr th:only-of-type {\n",
              "        vertical-align: middle;\n",
              "    }\n",
              "\n",
              "    .dataframe tbody tr th {\n",
              "        vertical-align: top;\n",
              "    }\n",
              "\n",
              "    .dataframe thead th {\n",
              "        text-align: right;\n",
              "    }\n",
              "</style>\n",
              "<table border=\"1\" class=\"dataframe\">\n",
              "  <thead>\n",
              "    <tr style=\"text-align: right;\">\n",
              "      <th></th>\n",
              "      <th>DrawNo</th>\n",
              "      <th>DrawDate</th>\n",
              "      <th>PrizeType</th>\n",
              "      <th>LuckyNo</th>\n",
              "    </tr>\n",
              "  </thead>\n",
              "  <tbody>\n",
              "    <tr>\n",
              "      <th>106388</th>\n",
              "      <td>503319</td>\n",
              "      <td>2019-11-17</td>\n",
              "      <td>SpecialNo1</td>\n",
              "      <td>2457</td>\n",
              "    </tr>\n",
              "    <tr>\n",
              "      <th>106389</th>\n",
              "      <td>503319</td>\n",
              "      <td>2019-11-17</td>\n",
              "      <td>SpecialNo10</td>\n",
              "      <td>4508</td>\n",
              "    </tr>\n",
              "    <tr>\n",
              "      <th>106390</th>\n",
              "      <td>503319</td>\n",
              "      <td>2019-11-17</td>\n",
              "      <td>SpecialNo2</td>\n",
              "      <td>2647</td>\n",
              "    </tr>\n",
              "    <tr>\n",
              "      <th>106391</th>\n",
              "      <td>503319</td>\n",
              "      <td>2019-11-17</td>\n",
              "      <td>SpecialNo3</td>\n",
              "      <td>2911</td>\n",
              "    </tr>\n",
              "    <tr>\n",
              "      <th>106392</th>\n",
              "      <td>503319</td>\n",
              "      <td>2019-11-17</td>\n",
              "      <td>SpecialNo4</td>\n",
              "      <td>7238</td>\n",
              "    </tr>\n",
              "    <tr>\n",
              "      <th>106393</th>\n",
              "      <td>503319</td>\n",
              "      <td>2019-11-17</td>\n",
              "      <td>SpecialNo5</td>\n",
              "      <td>4698</td>\n",
              "    </tr>\n",
              "    <tr>\n",
              "      <th>106394</th>\n",
              "      <td>503319</td>\n",
              "      <td>2019-11-17</td>\n",
              "      <td>SpecialNo6</td>\n",
              "      <td>1916</td>\n",
              "    </tr>\n",
              "    <tr>\n",
              "      <th>106395</th>\n",
              "      <td>503319</td>\n",
              "      <td>2019-11-17</td>\n",
              "      <td>SpecialNo7</td>\n",
              "      <td>1552</td>\n",
              "    </tr>\n",
              "    <tr>\n",
              "      <th>106396</th>\n",
              "      <td>503319</td>\n",
              "      <td>2019-11-17</td>\n",
              "      <td>SpecialNo8</td>\n",
              "      <td>3738</td>\n",
              "    </tr>\n",
              "    <tr>\n",
              "      <th>106397</th>\n",
              "      <td>503319</td>\n",
              "      <td>2019-11-17</td>\n",
              "      <td>SpecialNo9</td>\n",
              "      <td>6188</td>\n",
              "    </tr>\n",
              "  </tbody>\n",
              "</table>\n",
              "</div>"
            ],
            "text/plain": [
              "        DrawNo   DrawDate    PrizeType  LuckyNo\n",
              "106388  503319 2019-11-17   SpecialNo1     2457\n",
              "106389  503319 2019-11-17  SpecialNo10     4508\n",
              "106390  503319 2019-11-17   SpecialNo2     2647\n",
              "106391  503319 2019-11-17   SpecialNo3     2911\n",
              "106392  503319 2019-11-17   SpecialNo4     7238\n",
              "106393  503319 2019-11-17   SpecialNo5     4698\n",
              "106394  503319 2019-11-17   SpecialNo6     1916\n",
              "106395  503319 2019-11-17   SpecialNo7     1552\n",
              "106396  503319 2019-11-17   SpecialNo8     3738\n",
              "106397  503319 2019-11-17   SpecialNo9     6188"
            ]
          },
          "metadata": {
            "tags": []
          },
          "execution_count": 29
        }
      ]
    },
    {
      "cell_type": "markdown",
      "metadata": {
        "id": "stLvE4bspqbx",
        "colab_type": "text"
      },
      "source": [
        "## Automated Feature Engineering"
      ]
    },
    {
      "cell_type": "code",
      "metadata": {
        "id": "ACOmTMZQpqbz",
        "colab_type": "code",
        "colab": {}
      },
      "source": [
        ""
      ],
      "execution_count": 0,
      "outputs": []
    }
  ]
}
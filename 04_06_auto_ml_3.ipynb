{
  "nbformat": 4,
  "nbformat_minor": 0,
  "metadata": {
    "accelerator": "GPU",
    "colab": {
      "name": "04_02_automated_machine_learning.ipynb",
      "provenance": [],
      "toc_visible": true,
      "machine_shape": "hm",
      "include_colab_link": true
    },
    "kernelspec": {
      "display_name": "Python 3",
      "language": "python",
      "name": "python3"
    },
    "language_info": {
      "codemirror_mode": {
        "name": "ipython",
        "version": 3
      },
      "file_extension": ".py",
      "mimetype": "text/x-python",
      "name": "python",
      "nbconvert_exporter": "python",
      "pygments_lexer": "ipython3",
      "version": "3.7.2"
    }
  },
  "cells": [
    {
      "cell_type": "markdown",
      "metadata": {
        "id": "view-in-github",
        "colab_type": "text"
      },
      "source": [
        "<a href=\"https://colab.research.google.com/github/mengwangk/dl-projects/blob/master/04_06_auto_ml_3.ipynb\" target=\"_parent\"><img src=\"https://colab.research.google.com/assets/colab-badge.svg\" alt=\"Open In Colab\"/></a>"
      ]
    },
    {
      "cell_type": "markdown",
      "metadata": {
        "colab_type": "text",
        "id": "4hyoPGdjpqa_"
      },
      "source": [
        "# Automated ML - Tuning"
      ]
    },
    {
      "cell_type": "code",
      "metadata": {
        "colab_type": "code",
        "id": "SLxr2k_ue8yq",
        "colab": {}
      },
      "source": [
        "COLAB = True\n",
        "\n",
        "DATASET_NAME = '4D.zip'\n",
        "\n",
        "FEATURE_DATASET_PREFIX = 'feature_matrix_d2_v3'"
      ],
      "execution_count": 0,
      "outputs": []
    },
    {
      "cell_type": "code",
      "metadata": {
        "colab_type": "code",
        "id": "oy5ww2zRfFGG",
        "colab": {
          "base_uri": "https://localhost:8080/",
          "height": 238
        },
        "outputId": "6340b579-5af6-45c8-d4b7-260df36fc9f6"
      },
      "source": [
        "if COLAB:\n",
        "  !pip install -U imblearn\n",
        "  !rm -rf dl-projects\n",
        "  !git clone https://github.com/mengwangk/dl-projects"
      ],
      "execution_count": 2,
      "outputs": [
        {
          "output_type": "stream",
          "text": [
            "Requirement already up-to-date: imblearn in /usr/local/lib/python3.6/dist-packages (0.0)\n",
            "Requirement already satisfied, skipping upgrade: imbalanced-learn in /usr/local/lib/python3.6/dist-packages (from imblearn) (0.4.3)\n",
            "Requirement already satisfied, skipping upgrade: scipy>=0.13.3 in /usr/local/lib/python3.6/dist-packages (from imbalanced-learn->imblearn) (1.4.1)\n",
            "Requirement already satisfied, skipping upgrade: scikit-learn>=0.20 in /usr/local/lib/python3.6/dist-packages (from imbalanced-learn->imblearn) (0.22.1)\n",
            "Requirement already satisfied, skipping upgrade: numpy>=1.8.2 in /usr/local/lib/python3.6/dist-packages (from imbalanced-learn->imblearn) (1.17.5)\n",
            "Requirement already satisfied, skipping upgrade: joblib>=0.11 in /usr/local/lib/python3.6/dist-packages (from scikit-learn>=0.20->imbalanced-learn->imblearn) (0.14.1)\n",
            "Cloning into 'dl-projects'...\n",
            "remote: Enumerating objects: 66, done.\u001b[K\n",
            "remote: Counting objects: 100% (66/66), done.\u001b[K\n",
            "remote: Compressing objects: 100% (64/64), done.\u001b[K\n",
            "remote: Total 1155 (delta 41), reused 4 (delta 2), pack-reused 1089\u001b[K\n",
            "Receiving objects: 100% (1155/1155), 72.61 MiB | 34.81 MiB/s, done.\n",
            "Resolving deltas: 100% (686/686), done.\n"
          ],
          "name": "stdout"
        }
      ]
    },
    {
      "cell_type": "code",
      "metadata": {
        "colab_type": "code",
        "id": "G2xin10SfozR",
        "colab": {}
      },
      "source": [
        "if COLAB:\n",
        "  !cp dl-projects/utils* .\n",
        "  !cp dl-projects/preprocess* .\n",
        "  !cp dl-projects/plot* ."
      ],
      "execution_count": 0,
      "outputs": []
    },
    {
      "cell_type": "code",
      "metadata": {
        "colab_type": "code",
        "id": "fC2-l3JBpqbE",
        "colab": {}
      },
      "source": [
        "%load_ext autoreload\n",
        "# %reload_ext autoreload\n",
        "%autoreload 2\n",
        "\n",
        "%matplotlib inline"
      ],
      "execution_count": 0,
      "outputs": []
    },
    {
      "cell_type": "code",
      "metadata": {
        "colab_type": "code",
        "id": "TP7V_IzepqbK",
        "colab": {}
      },
      "source": [
        "import numpy as np\n",
        "import pandas as pd\n",
        "import seaborn as sns\n",
        "import matplotlib.pyplot as plt\n",
        "import math \n",
        "import matplotlib\n",
        "import sys\n",
        "\n",
        "from scipy import stats\n",
        "from collections import Counter\n",
        "from pathlib import Path\n",
        "\n",
        "plt.style.use('fivethirtyeight')\n",
        "\n",
        "sns.set(style=\"ticks\")\n",
        "\n",
        "import featuretools as ft\n",
        "\n",
        "import warnings\n",
        "warnings.filterwarnings('ignore')\n",
        "\n",
        "from sklearn.pipeline import Pipeline\n",
        "from sklearn.preprocessing import MinMaxScaler, StandardScaler, RobustScaler\n",
        "from sklearn.impute import SimpleImputer\n",
        "from sklearn.metrics import precision_score, recall_score, f1_score, confusion_matrix, roc_auc_score, precision_recall_curve, roc_curve, mean_squared_error, accuracy_score, average_precision_score, classification_report\n",
        "from sklearn.model_selection import train_test_split, cross_val_score, GridSearchCV, RandomizedSearchCV\n",
        "from sklearn.decomposition import PCA\n",
        "import pylab as pl\n",
        "from collections import Counter\n",
        "\n",
        "# from skopt import BayesSearchCV\n",
        "# from skopt.space import Real, Categorical, Integer\n",
        "\n",
        "# from sklearn.ensemble import RandomForestClassifier\n",
        "\n",
        "# from scikitplot.plotters import plot_precision_recall_curve\n",
        "\n",
        "from dateutil.relativedelta import relativedelta\n",
        "\n",
        "from IPython.display import display\n",
        "\n",
        "from utils import *\n",
        "from preprocess import *\n",
        "\n",
        "import xgboost as xgb\n",
        "\n",
        "np.set_printoptions(threshold=sys.maxsize)\n",
        "\n",
        "# The Answer to the Ultimate Question of Life, the Universe, and Everything.\n",
        "np.random.seed(42)\n",
        "\n",
        "from utils import feature_selection, plot_feature_importances\n",
        "from plot import plot_correlation_matrix, plot_labelled_scatter"
      ],
      "execution_count": 0,
      "outputs": []
    },
    {
      "cell_type": "code",
      "metadata": {
        "colab_type": "code",
        "id": "3bFT5CoxpqbP",
        "colab": {
          "base_uri": "https://localhost:8080/",
          "height": 102
        },
        "outputId": "ae680426-dbe4-4248-b564-92aa88132507"
      },
      "source": [
        "%aimport"
      ],
      "execution_count": 6,
      "outputs": [
        {
          "output_type": "stream",
          "text": [
            "Modules to reload:\n",
            "all-except-skipped\n",
            "\n",
            "Modules to skip:\n",
            "\n"
          ],
          "name": "stdout"
        }
      ]
    },
    {
      "cell_type": "markdown",
      "metadata": {
        "colab_type": "text",
        "id": "3E16jPVPpqbV"
      },
      "source": [
        "## Preparation"
      ]
    },
    {
      "cell_type": "code",
      "metadata": {
        "colab_type": "code",
        "id": "U421BuhtfYS7",
        "colab": {
          "base_uri": "https://localhost:8080/",
          "height": 122
        },
        "outputId": "e9dc5cbc-f04a-42d5-9980-cf8c93d74c8a"
      },
      "source": [
        "if COLAB:\n",
        "  from google.colab import drive\n",
        "  drive.mount('/content/gdrive')\n",
        "  GDRIVE_DATASET_FOLDER = Path('gdrive/My Drive/datasets/')"
      ],
      "execution_count": 7,
      "outputs": [
        {
          "output_type": "stream",
          "text": [
            "Go to this URL in a browser: https://accounts.google.com/o/oauth2/auth?client_id=947318989803-6bn6qk8qdgf4n4g3pfee6491hc0brc4i.apps.googleusercontent.com&redirect_uri=urn%3aietf%3awg%3aoauth%3a2.0%3aoob&response_type=code&scope=email%20https%3a%2f%2fwww.googleapis.com%2fauth%2fdocs.test%20https%3a%2f%2fwww.googleapis.com%2fauth%2fdrive%20https%3a%2f%2fwww.googleapis.com%2fauth%2fdrive.photos.readonly%20https%3a%2f%2fwww.googleapis.com%2fauth%2fpeopleapi.readonly\n",
            "\n",
            "Enter your authorization code:\n",
            "··········\n",
            "Mounted at /content/gdrive\n"
          ],
          "name": "stdout"
        }
      ]
    },
    {
      "cell_type": "code",
      "metadata": {
        "colab_type": "code",
        "id": "9IgnETKkpqbX",
        "colab": {
          "base_uri": "https://localhost:8080/",
          "height": 136
        },
        "outputId": "e2b09179-3296-4cab-a779-289c07c63fbe"
      },
      "source": [
        "if COLAB:\n",
        "  DATASET_PATH = GDRIVE_DATASET_FOLDER\n",
        "  ORIGIN_DATASET_PATH = Path('dl-projects/datasets')\n",
        "else:\n",
        "  DATASET_PATH = Path(\"datasets\")\n",
        "  ORIGIN_DATASET_PATH = Path('datasets')\n",
        "\n",
        "DATASET = DATASET_PATH/f\"{FEATURE_DATASET_PREFIX}.ft\"\n",
        "ORIGIN_DATASET = ORIGIN_DATASET_PATH/DATASET_NAME\n",
        "\n",
        "if COLAB:\n",
        "  !ls -l gdrive/\"My Drive\"/datasets/ --block-size=M\n",
        "  !ls -l dl-projects/datasets --block-size=M"
      ],
      "execution_count": 8,
      "outputs": [
        {
          "output_type": "stream",
          "text": [
            "total 5586M\n",
            "-rw------- 1 root root 1548M Jan  7 00:07 feature_matrix_d2_v1.pkl\n",
            "-rw------- 1 root root 2454M Jan 12 01:24 feature_matrix_d2_v2.ft\n",
            "-rw------- 1 root root 1585M Jan 12 23:39 feature_matrix_d2_v3.ft\n",
            "total 25M\n",
            "-rw-r--r-- 1 root root  1M Jan 14 14:19 4D.zip\n",
            "-rw-r--r-- 1 root root 25M Jan 14 14:19 labels.csv\n"
          ],
          "name": "stdout"
        }
      ]
    },
    {
      "cell_type": "code",
      "metadata": {
        "colab_type": "code",
        "id": "urQTD6DQNutw",
        "colab": {}
      },
      "source": [
        "data = pd.read_feather(DATASET)\n",
        "origin_data = format_tabular(ORIGIN_DATASET)"
      ],
      "execution_count": 0,
      "outputs": []
    },
    {
      "cell_type": "code",
      "metadata": {
        "colab_type": "code",
        "id": "4BjrERxV8WuT",
        "colab": {
          "base_uri": "https://localhost:8080/",
          "height": 102
        },
        "outputId": "13dd4914-4e08-4935-cae2-1c72e4502612"
      },
      "source": [
        "data.info()"
      ],
      "execution_count": 10,
      "outputs": [
        {
          "output_type": "stream",
          "text": [
            "<class 'pandas.core.frame.DataFrame'>\n",
            "RangeIndex: 959893 entries, 0 to 959892\n",
            "Columns: 217 entries, NumberId to year\n",
            "dtypes: datetime64[ns](1), float64(155), int64(59), uint8(2)\n",
            "memory usage: 1.5 GB\n"
          ],
          "name": "stdout"
        }
      ]
    },
    {
      "cell_type": "markdown",
      "metadata": {
        "colab_type": "text",
        "id": "vOYlp-8Br61r"
      },
      "source": [
        "## Exploratory Data Analysis"
      ]
    },
    {
      "cell_type": "markdown",
      "metadata": {
        "colab_type": "text",
        "id": "kHiN1VVlG9Kh"
      },
      "source": [
        "### View data"
      ]
    },
    {
      "cell_type": "code",
      "metadata": {
        "colab_type": "code",
        "id": "JnQXyVqng5Cm",
        "colab": {}
      },
      "source": [
        "# Feature matrix\n",
        "feature_matrix = data.drop(columns=['NumberId', 'month', 'year'])"
      ],
      "execution_count": 0,
      "outputs": []
    },
    {
      "cell_type": "code",
      "metadata": {
        "colab_type": "code",
        "id": "apMYVNz9HK9e",
        "colab": {}
      },
      "source": [
        "# Sort data\n",
        "feature_matrix.sort_values(by=['time', 'MAX(Results.LuckyNo)'], inplace=True)"
      ],
      "execution_count": 0,
      "outputs": []
    },
    {
      "cell_type": "code",
      "metadata": {
        "colab_type": "code",
        "id": "CZKTbWRFJNUq",
        "colab": {
          "base_uri": "https://localhost:8080/",
          "height": 51
        },
        "outputId": "5dbac01f-1826-4202-cc51-1d68b9bf5359"
      },
      "source": [
        "print('Positive: ' + str(feature_matrix['Label'].value_counts()[0]) + ' which is ', round(feature_matrix['Label'].value_counts()[0]/len(feature_matrix) * 100,2), '% of the dataset')\n",
        "print('Negative: ' + str(feature_matrix['Label'].value_counts()[1]) + ' which is ', round(feature_matrix['Label'].value_counts()[1]/len(feature_matrix) * 100,2), '% of the dataset')"
      ],
      "execution_count": 13,
      "outputs": [
        {
          "output_type": "stream",
          "text": [
            "Positive: 927839 which is  96.66 % of the dataset\n",
            "Negative: 32054 which is  3.34 % of the dataset\n"
          ],
          "name": "stdout"
        }
      ]
    },
    {
      "cell_type": "code",
      "metadata": {
        "colab_type": "code",
        "id": "E8ZoClJ9JmFY",
        "colab": {
          "base_uri": "https://localhost:8080/",
          "height": 551
        },
        "outputId": "5861d212-77c7-4eaa-8193-e5efb22edfe7"
      },
      "source": [
        "plt.figure(figsize=(8, 8))\n",
        "sns.countplot('Label', data=feature_matrix)"
      ],
      "execution_count": 14,
      "outputs": [
        {
          "output_type": "execute_result",
          "data": {
            "text/plain": [
              "<matplotlib.axes._subplots.AxesSubplot at 0x7f5855cab898>"
            ]
          },
          "metadata": {
            "tags": []
          },
          "execution_count": 14
        },
        {
          "output_type": "display_data",
          "data": {
            "image/png": "[encoded data removed]",
            "text/plain": [
              "<Figure size 576x576 with 1 Axes>"
            ]
          },
          "metadata": {
            "tags": []
          }
        }
      ]
    },
    {
      "cell_type": "code",
      "metadata": {
        "colab_type": "code",
        "id": "plplpAQ6JrKb",
        "colab": {
          "base_uri": "https://localhost:8080/",
          "height": 221
        },
        "outputId": "f1a55259-2e10-4911-e7c0-10e74c060038"
      },
      "source": [
        "feature_matrix.isna().sum().sort_values(ascending=False)"
      ],
      "execution_count": 15,
      "outputs": [
        {
          "output_type": "execute_result",
          "data": {
            "text/plain": [
              "SKEW(Results.TIME_SINCE_PREVIOUS(DrawDate))               7636\n",
              "CUM_MEAN(TREND(Results.LuckyNo, DrawDate))                7636\n",
              "TREND(Results.TIME_SINCE_PREVIOUS(DrawDate), DrawDate)    7636\n",
              "TREND(Results.CUM_MEAN(TotalStrike), DrawDate)            7636\n",
              "TREND(Results.CUM_SUM(LuckyNo), DrawDate)                 7636\n",
              "                                                          ... \n",
              "CUM_SUM(MIN(Results.DrawNo))                                 0\n",
              "NUM_UNIQUE(Results.DAY(DrawDate))                            0\n",
              "NUM_UNIQUE(Results.MONTH(DrawDate))                          0\n",
              "SUM(Results.PERCENTILE(LuckyNo))                             0\n",
              "time                                                         0\n",
              "Length: 214, dtype: int64"
            ]
          },
          "metadata": {
            "tags": []
          },
          "execution_count": 15
        }
      ]
    },
    {
      "cell_type": "code",
      "metadata": {
        "colab_type": "code",
        "id": "S1612o1VKnof",
        "colab": {
          "base_uri": "https://localhost:8080/",
          "height": 355
        },
        "outputId": "ed6bd366-e2ee-415c-e48c-e1b32fb0a5fe"
      },
      "source": [
        "feature_matrix[feature_matrix.isnull().any(axis=1)].head()"
      ],
      "execution_count": 16,
      "outputs": [
        {
          "output_type": "execute_result",
          "data": {
            "text/html": [
              "<div>\n",
              "<style scoped>\n",
              "    .dataframe tbody tr th:only-of-type {\n",
              "        vertical-align: middle;\n",
              "    }\n",
              "\n",
              "    .dataframe tbody tr th {\n",
              "        vertical-align: top;\n",
              "    }\n",
              "\n",
              "    .dataframe thead th {\n",
              "        text-align: right;\n",
              "    }\n",
              "</style>\n",
              "<table border=\"1\" class=\"dataframe\">\n",
              "  <thead>\n",
              "    <tr style=\"text-align: right;\">\n",
              "      <th></th>\n",
              "      <th>time</th>\n",
              "      <th>STD(Results.DrawNo)</th>\n",
              "      <th>STD(Results.TotalStrike)</th>\n",
              "      <th>STD(Results.LuckyNo)</th>\n",
              "      <th>MAX(Results.DrawNo)</th>\n",
              "      <th>MAX(Results.TotalStrike)</th>\n",
              "      <th>MAX(Results.LuckyNo)</th>\n",
              "      <th>MIN(Results.DrawNo)</th>\n",
              "      <th>MIN(Results.TotalStrike)</th>\n",
              "      <th>MIN(Results.LuckyNo)</th>\n",
              "      <th>MEAN(Results.DrawNo)</th>\n",
              "      <th>MEAN(Results.TotalStrike)</th>\n",
              "      <th>MEAN(Results.LuckyNo)</th>\n",
              "      <th>SKEW(Results.DrawNo)</th>\n",
              "      <th>SKEW(Results.TotalStrike)</th>\n",
              "      <th>SKEW(Results.LuckyNo)</th>\n",
              "      <th>LAST(Results.results_index)</th>\n",
              "      <th>LAST(Results.DrawNo)</th>\n",
              "      <th>LAST(Results.TotalStrike)</th>\n",
              "      <th>LAST(Results.LuckyNo)</th>\n",
              "      <th>AVG_TIME_BETWEEN(Results.DrawDate)</th>\n",
              "      <th>COUNT(Results)</th>\n",
              "      <th>SUM(Results.DrawNo)</th>\n",
              "      <th>SUM(Results.TotalStrike)</th>\n",
              "      <th>SUM(Results.LuckyNo)</th>\n",
              "      <th>TREND(Results.TotalStrike, DrawDate)</th>\n",
              "      <th>TREND(Results.LuckyNo, DrawDate)</th>\n",
              "      <th>TREND(Results.DrawNo, DrawDate)</th>\n",
              "      <th>NUM_UNIQUE(Results.PrizeType)</th>\n",
              "      <th>MONTH(first_Results_time)</th>\n",
              "      <th>DAY(first_Results_time)</th>\n",
              "      <th>TIME_SINCE(first_Results_time)</th>\n",
              "      <th>TIME_SINCE_PREVIOUS(first_Results_time)</th>\n",
              "      <th>STD(Results.TIME_SINCE(DrawDate))</th>\n",
              "      <th>STD(Results.CUM_MEAN(DrawNo))</th>\n",
              "      <th>STD(Results.CUM_SUM(LuckyNo))</th>\n",
              "      <th>STD(Results.PERCENTILE(DrawNo))</th>\n",
              "      <th>STD(Results.TIME_SINCE_PREVIOUS(DrawDate))</th>\n",
              "      <th>STD(Results.CUM_SUM(TotalStrike))</th>\n",
              "      <th>STD(Results.PERCENTILE(TotalStrike))</th>\n",
              "      <th>...</th>\n",
              "      <th>CUM_MEAN(SUM(Results.TotalStrike))</th>\n",
              "      <th>CUM_MEAN(STD(Results.TotalStrike))</th>\n",
              "      <th>CUM_MEAN(SKEW(Results.TotalStrike))</th>\n",
              "      <th>CUM_MEAN(SUM(Results.DrawNo))</th>\n",
              "      <th>CUM_MEAN(TREND(Results.DrawNo, DrawDate))</th>\n",
              "      <th>CUM_MEAN(LAST(Results.LuckyNo))</th>\n",
              "      <th>CUM_MEAN(MAX(Results.LuckyNo))</th>\n",
              "      <th>MONTH(LAST(Results.DrawDate))</th>\n",
              "      <th>DAY(LAST(Results.DrawDate))</th>\n",
              "      <th>PERCENTILE(SKEW(Results.LuckyNo))</th>\n",
              "      <th>PERCENTILE(MIN(Results.DrawNo))</th>\n",
              "      <th>PERCENTILE(MEAN(Results.DrawNo))</th>\n",
              "      <th>PERCENTILE(STD(Results.LuckyNo))</th>\n",
              "      <th>PERCENTILE(LAST(Results.DrawNo))</th>\n",
              "      <th>PERCENTILE(MAX(Results.TotalStrike))</th>\n",
              "      <th>PERCENTILE(TREND(Results.TotalStrike, DrawDate))</th>\n",
              "      <th>PERCENTILE(MEAN(Results.TotalStrike))</th>\n",
              "      <th>PERCENTILE(MIN(Results.TotalStrike))</th>\n",
              "      <th>PERCENTILE(AVG_TIME_BETWEEN(Results.DrawDate))</th>\n",
              "      <th>PERCENTILE(MEAN(Results.LuckyNo))</th>\n",
              "      <th>PERCENTILE(MAX(Results.DrawNo))</th>\n",
              "      <th>PERCENTILE(COUNT(Results))</th>\n",
              "      <th>PERCENTILE(MIN(Results.LuckyNo))</th>\n",
              "      <th>PERCENTILE(SUM(Results.LuckyNo))</th>\n",
              "      <th>PERCENTILE(NUM_UNIQUE(Results.PrizeType))</th>\n",
              "      <th>PERCENTILE(LAST(Results.TotalStrike))</th>\n",
              "      <th>PERCENTILE(STD(Results.DrawNo))</th>\n",
              "      <th>PERCENTILE(SKEW(Results.DrawNo))</th>\n",
              "      <th>PERCENTILE(TREND(Results.LuckyNo, DrawDate))</th>\n",
              "      <th>PERCENTILE(SUM(Results.TotalStrike))</th>\n",
              "      <th>PERCENTILE(STD(Results.TotalStrike))</th>\n",
              "      <th>PERCENTILE(SKEW(Results.TotalStrike))</th>\n",
              "      <th>PERCENTILE(SUM(Results.DrawNo))</th>\n",
              "      <th>PERCENTILE(TREND(Results.DrawNo, DrawDate))</th>\n",
              "      <th>PERCENTILE(LAST(Results.LuckyNo))</th>\n",
              "      <th>PERCENTILE(MAX(Results.LuckyNo))</th>\n",
              "      <th>TotalStrike</th>\n",
              "      <th>Label</th>\n",
              "      <th>MODE(Results.PrizeType)_Prize</th>\n",
              "      <th>LAST(Results.PrizeType)_Prize</th>\n",
              "    </tr>\n",
              "  </thead>\n",
              "  <tbody>\n",
              "    <tr>\n",
              "      <th>363</th>\n",
              "      <td>2012-01-01</td>\n",
              "      <td>101777.042238</td>\n",
              "      <td>0.0</td>\n",
              "      <td>0.0</td>\n",
              "      <td>323109</td>\n",
              "      <td>1</td>\n",
              "      <td>19</td>\n",
              "      <td>40792</td>\n",
              "      <td>1</td>\n",
              "      <td>19</td>\n",
              "      <td>178621.785714</td>\n",
              "      <td>1</td>\n",
              "      <td>19</td>\n",
              "      <td>0.070113</td>\n",
              "      <td>0.0</td>\n",
              "      <td>0.0</td>\n",
              "      <td>64949</td>\n",
              "      <td>323109</td>\n",
              "      <td>1</td>\n",
              "      <td>19</td>\n",
              "      <td>4.214991e+07</td>\n",
              "      <td>14</td>\n",
              "      <td>2500705</td>\n",
              "      <td>14</td>\n",
              "      <td>266</td>\n",
              "      <td>0.0</td>\n",
              "      <td>0.0</td>\n",
              "      <td>0.03093</td>\n",
              "      <td>1</td>\n",
              "      <td>5</td>\n",
              "      <td>6</td>\n",
              "      <td>620265540.0</td>\n",
              "      <td>NaN</td>\n",
              "      <td>1.974207e+08</td>\n",
              "      <td>50881.655504</td>\n",
              "      <td>1.165405e+08</td>\n",
              "      <td>0.315275</td>\n",
              "      <td>23963.048477</td>\n",
              "      <td>23409.008640</td>\n",
              "      <td>0.0</td>\n",
              "      <td>...</td>\n",
              "      <td>14.000000</td>\n",
              "      <td>0.0</td>\n",
              "      <td>0.0</td>\n",
              "      <td>2.500705e+06</td>\n",
              "      <td>0.03093</td>\n",
              "      <td>19.000000</td>\n",
              "      <td>19.000000</td>\n",
              "      <td>9</td>\n",
              "      <td>16</td>\n",
              "      <td>0.500051</td>\n",
              "      <td>0.001201</td>\n",
              "      <td>0.256328</td>\n",
              "      <td>0.50005</td>\n",
              "      <td>0.392496</td>\n",
              "      <td>0.50005</td>\n",
              "      <td>0.500051</td>\n",
              "      <td>0.50005</td>\n",
              "      <td>0.50005</td>\n",
              "      <td>0.056537</td>\n",
              "      <td>0.002001</td>\n",
              "      <td>0.392496</td>\n",
              "      <td>0.985643</td>\n",
              "      <td>0.002001</td>\n",
              "      <td>0.004502</td>\n",
              "      <td>0.50005</td>\n",
              "      <td>0.50005</td>\n",
              "      <td>0.696425</td>\n",
              "      <td>0.548813</td>\n",
              "      <td>0.500051</td>\n",
              "      <td>0.985643</td>\n",
              "      <td>0.50005</td>\n",
              "      <td>0.500051</td>\n",
              "      <td>0.937769</td>\n",
              "      <td>0.200471</td>\n",
              "      <td>0.002001</td>\n",
              "      <td>0.002001</td>\n",
              "      <td>0.0</td>\n",
              "      <td>0</td>\n",
              "      <td>1</td>\n",
              "      <td>1</td>\n",
              "    </tr>\n",
              "    <tr>\n",
              "      <th>9017</th>\n",
              "      <td>2012-01-01</td>\n",
              "      <td>126014.206582</td>\n",
              "      <td>0.0</td>\n",
              "      <td>0.0</td>\n",
              "      <td>317909</td>\n",
              "      <td>1</td>\n",
              "      <td>123</td>\n",
              "      <td>139698</td>\n",
              "      <td>1</td>\n",
              "      <td>123</td>\n",
              "      <td>228803.500000</td>\n",
              "      <td>1</td>\n",
              "      <td>123</td>\n",
              "      <td>NaN</td>\n",
              "      <td>NaN</td>\n",
              "      <td>NaN</td>\n",
              "      <td>63742</td>\n",
              "      <td>317909</td>\n",
              "      <td>1</td>\n",
              "      <td>123</td>\n",
              "      <td>3.393792e+08</td>\n",
              "      <td>2</td>\n",
              "      <td>457607</td>\n",
              "      <td>2</td>\n",
              "      <td>246</td>\n",
              "      <td>NaN</td>\n",
              "      <td>NaN</td>\n",
              "      <td>NaN</td>\n",
              "      <td>1</td>\n",
              "      <td>8</td>\n",
              "      <td>29</td>\n",
              "      <td>421027140.0</td>\n",
              "      <td>259200.0</td>\n",
              "      <td>2.399773e+08</td>\n",
              "      <td>63009.063553</td>\n",
              "      <td>1.443593e+08</td>\n",
              "      <td>0.390354</td>\n",
              "      <td>0.000000</td>\n",
              "      <td>28985.721174</td>\n",
              "      <td>0.0</td>\n",
              "      <td>...</td>\n",
              "      <td>7.681889</td>\n",
              "      <td>0.0</td>\n",
              "      <td>NaN</td>\n",
              "      <td>1.524155e+06</td>\n",
              "      <td>NaN</td>\n",
              "      <td>5002.374694</td>\n",
              "      <td>5002.374694</td>\n",
              "      <td>5</td>\n",
              "      <td>31</td>\n",
              "      <td>NaN</td>\n",
              "      <td>0.898299</td>\n",
              "      <td>0.772186</td>\n",
              "      <td>0.50005</td>\n",
              "      <td>0.348174</td>\n",
              "      <td>0.50005</td>\n",
              "      <td>NaN</td>\n",
              "      <td>0.50005</td>\n",
              "      <td>0.50005</td>\n",
              "      <td>0.996485</td>\n",
              "      <td>0.012406</td>\n",
              "      <td>0.348174</td>\n",
              "      <td>0.013057</td>\n",
              "      <td>0.012406</td>\n",
              "      <td>0.003902</td>\n",
              "      <td>0.50005</td>\n",
              "      <td>0.50005</td>\n",
              "      <td>0.962392</td>\n",
              "      <td>NaN</td>\n",
              "      <td>NaN</td>\n",
              "      <td>0.013057</td>\n",
              "      <td>0.50005</td>\n",
              "      <td>NaN</td>\n",
              "      <td>0.026213</td>\n",
              "      <td>NaN</td>\n",
              "      <td>0.012406</td>\n",
              "      <td>0.012406</td>\n",
              "      <td>0.0</td>\n",
              "      <td>0</td>\n",
              "      <td>1</td>\n",
              "      <td>1</td>\n",
              "    </tr>\n",
              "    <tr>\n",
              "      <th>8619</th>\n",
              "      <td>2012-01-01</td>\n",
              "      <td>139944.917278</td>\n",
              "      <td>0.0</td>\n",
              "      <td>0.0</td>\n",
              "      <td>322109</td>\n",
              "      <td>1</td>\n",
              "      <td>135</td>\n",
              "      <td>124197</td>\n",
              "      <td>1</td>\n",
              "      <td>135</td>\n",
              "      <td>223153.000000</td>\n",
              "      <td>1</td>\n",
              "      <td>135</td>\n",
              "      <td>NaN</td>\n",
              "      <td>NaN</td>\n",
              "      <td>NaN</td>\n",
              "      <td>64702</td>\n",
              "      <td>322109</td>\n",
              "      <td>1</td>\n",
              "      <td>135</td>\n",
              "      <td>3.782592e+08</td>\n",
              "      <td>2</td>\n",
              "      <td>446306</td>\n",
              "      <td>2</td>\n",
              "      <td>270</td>\n",
              "      <td>NaN</td>\n",
              "      <td>NaN</td>\n",
              "      <td>NaN</td>\n",
              "      <td>1</td>\n",
              "      <td>8</td>\n",
              "      <td>31</td>\n",
              "      <td>452390340.0</td>\n",
              "      <td>0.0</td>\n",
              "      <td>2.674696e+08</td>\n",
              "      <td>69939.255825</td>\n",
              "      <td>1.603340e+08</td>\n",
              "      <td>0.433508</td>\n",
              "      <td>0.000000</td>\n",
              "      <td>32173.358544</td>\n",
              "      <td>0.0</td>\n",
              "      <td>...</td>\n",
              "      <td>7.738201</td>\n",
              "      <td>0.0</td>\n",
              "      <td>NaN</td>\n",
              "      <td>1.524989e+06</td>\n",
              "      <td>NaN</td>\n",
              "      <td>4988.969509</td>\n",
              "      <td>4988.969509</td>\n",
              "      <td>8</td>\n",
              "      <td>26</td>\n",
              "      <td>NaN</td>\n",
              "      <td>0.856378</td>\n",
              "      <td>0.721761</td>\n",
              "      <td>0.50005</td>\n",
              "      <td>0.383192</td>\n",
              "      <td>0.50005</td>\n",
              "      <td>NaN</td>\n",
              "      <td>0.50005</td>\n",
              "      <td>0.50005</td>\n",
              "      <td>0.997791</td>\n",
              "      <td>0.013607</td>\n",
              "      <td>0.383192</td>\n",
              "      <td>0.013057</td>\n",
              "      <td>0.013607</td>\n",
              "      <td>0.004702</td>\n",
              "      <td>0.50005</td>\n",
              "      <td>0.50005</td>\n",
              "      <td>0.990259</td>\n",
              "      <td>NaN</td>\n",
              "      <td>NaN</td>\n",
              "      <td>0.013057</td>\n",
              "      <td>0.50005</td>\n",
              "      <td>NaN</td>\n",
              "      <td>0.024612</td>\n",
              "      <td>NaN</td>\n",
              "      <td>0.013607</td>\n",
              "      <td>0.013607</td>\n",
              "      <td>0.0</td>\n",
              "      <td>0</td>\n",
              "      <td>1</td>\n",
              "      <td>1</td>\n",
              "    </tr>\n",
              "    <tr>\n",
              "      <th>9519</th>\n",
              "      <td>2012-01-01</td>\n",
              "      <td>61592.536175</td>\n",
              "      <td>0.0</td>\n",
              "      <td>0.0</td>\n",
              "      <td>257505</td>\n",
              "      <td>1</td>\n",
              "      <td>185</td>\n",
              "      <td>170400</td>\n",
              "      <td>1</td>\n",
              "      <td>185</td>\n",
              "      <td>213952.500000</td>\n",
              "      <td>1</td>\n",
              "      <td>185</td>\n",
              "      <td>NaN</td>\n",
              "      <td>NaN</td>\n",
              "      <td>NaN</td>\n",
              "      <td>49848</td>\n",
              "      <td>257505</td>\n",
              "      <td>1</td>\n",
              "      <td>185</td>\n",
              "      <td>1.664064e+08</td>\n",
              "      <td>2</td>\n",
              "      <td>427905</td>\n",
              "      <td>2</td>\n",
              "      <td>370</td>\n",
              "      <td>NaN</td>\n",
              "      <td>NaN</td>\n",
              "      <td>NaN</td>\n",
              "      <td>1</td>\n",
              "      <td>7</td>\n",
              "      <td>15</td>\n",
              "      <td>361756740.0</td>\n",
              "      <td>0.0</td>\n",
              "      <td>1.176671e+08</td>\n",
              "      <td>30741.219027</td>\n",
              "      <td>7.009099e+07</td>\n",
              "      <td>0.190577</td>\n",
              "      <td>0.000000</td>\n",
              "      <td>14142.135624</td>\n",
              "      <td>0.0</td>\n",
              "      <td>...</td>\n",
              "      <td>7.581562</td>\n",
              "      <td>0.0</td>\n",
              "      <td>NaN</td>\n",
              "      <td>1.517761e+06</td>\n",
              "      <td>NaN</td>\n",
              "      <td>5000.346243</td>\n",
              "      <td>5000.346243</td>\n",
              "      <td>10</td>\n",
              "      <td>23</td>\n",
              "      <td>NaN</td>\n",
              "      <td>0.950625</td>\n",
              "      <td>0.632316</td>\n",
              "      <td>0.50005</td>\n",
              "      <td>0.086193</td>\n",
              "      <td>0.50005</td>\n",
              "      <td>NaN</td>\n",
              "      <td>0.50005</td>\n",
              "      <td>0.50005</td>\n",
              "      <td>0.957873</td>\n",
              "      <td>0.018609</td>\n",
              "      <td>0.086193</td>\n",
              "      <td>0.013057</td>\n",
              "      <td>0.018609</td>\n",
              "      <td>0.006703</td>\n",
              "      <td>0.50005</td>\n",
              "      <td>0.50005</td>\n",
              "      <td>0.095903</td>\n",
              "      <td>NaN</td>\n",
              "      <td>NaN</td>\n",
              "      <td>0.013057</td>\n",
              "      <td>0.50005</td>\n",
              "      <td>NaN</td>\n",
              "      <td>0.022211</td>\n",
              "      <td>NaN</td>\n",
              "      <td>0.018609</td>\n",
              "      <td>0.018609</td>\n",
              "      <td>0.0</td>\n",
              "      <td>0</td>\n",
              "      <td>1</td>\n",
              "      <td>1</td>\n",
              "    </tr>\n",
              "    <tr>\n",
              "      <th>7564</th>\n",
              "      <td>2012-01-01</td>\n",
              "      <td>94262.990786</td>\n",
              "      <td>0.0</td>\n",
              "      <td>0.0</td>\n",
              "      <td>233204</td>\n",
              "      <td>1</td>\n",
              "      <td>234</td>\n",
              "      <td>99896</td>\n",
              "      <td>1</td>\n",
              "      <td>234</td>\n",
              "      <td>166550.000000</td>\n",
              "      <td>1</td>\n",
              "      <td>234</td>\n",
              "      <td>NaN</td>\n",
              "      <td>NaN</td>\n",
              "      <td>NaN</td>\n",
              "      <td>44272</td>\n",
              "      <td>233204</td>\n",
              "      <td>1</td>\n",
              "      <td>234</td>\n",
              "      <td>2.605824e+08</td>\n",
              "      <td>2</td>\n",
              "      <td>333100</td>\n",
              "      <td>2</td>\n",
              "      <td>468</td>\n",
              "      <td>NaN</td>\n",
              "      <td>NaN</td>\n",
              "      <td>NaN</td>\n",
              "      <td>1</td>\n",
              "      <td>2</td>\n",
              "      <td>11</td>\n",
              "      <td>501379140.0</td>\n",
              "      <td>0.0</td>\n",
              "      <td>1.842596e+08</td>\n",
              "      <td>47138.076085</td>\n",
              "      <td>1.079460e+08</td>\n",
              "      <td>0.291999</td>\n",
              "      <td>0.000000</td>\n",
              "      <td>21686.964979</td>\n",
              "      <td>0.0</td>\n",
              "      <td>...</td>\n",
              "      <td>7.876088</td>\n",
              "      <td>0.0</td>\n",
              "      <td>NaN</td>\n",
              "      <td>1.530420e+06</td>\n",
              "      <td>NaN</td>\n",
              "      <td>4998.691628</td>\n",
              "      <td>4998.691628</td>\n",
              "      <td>5</td>\n",
              "      <td>15</td>\n",
              "      <td>NaN</td>\n",
              "      <td>0.746923</td>\n",
              "      <td>0.161781</td>\n",
              "      <td>0.50005</td>\n",
              "      <td>0.047024</td>\n",
              "      <td>0.50005</td>\n",
              "      <td>NaN</td>\n",
              "      <td>0.50005</td>\n",
              "      <td>0.50005</td>\n",
              "      <td>0.991464</td>\n",
              "      <td>0.023512</td>\n",
              "      <td>0.047024</td>\n",
              "      <td>0.013057</td>\n",
              "      <td>0.023512</td>\n",
              "      <td>0.008704</td>\n",
              "      <td>0.50005</td>\n",
              "      <td>0.50005</td>\n",
              "      <td>0.543483</td>\n",
              "      <td>NaN</td>\n",
              "      <td>NaN</td>\n",
              "      <td>0.013057</td>\n",
              "      <td>0.50005</td>\n",
              "      <td>NaN</td>\n",
              "      <td>0.011206</td>\n",
              "      <td>NaN</td>\n",
              "      <td>0.023512</td>\n",
              "      <td>0.023512</td>\n",
              "      <td>0.0</td>\n",
              "      <td>0</td>\n",
              "      <td>1</td>\n",
              "      <td>1</td>\n",
              "    </tr>\n",
              "  </tbody>\n",
              "</table>\n",
              "<p>5 rows × 214 columns</p>\n",
              "</div>"
            ],
            "text/plain": [
              "           time  ...  LAST(Results.PrizeType)_Prize\n",
              "363  2012-01-01  ...                              1\n",
              "9017 2012-01-01  ...                              1\n",
              "8619 2012-01-01  ...                              1\n",
              "9519 2012-01-01  ...                              1\n",
              "7564 2012-01-01  ...                              1\n",
              "\n",
              "[5 rows x 214 columns]"
            ]
          },
          "metadata": {
            "tags": []
          },
          "execution_count": 16
        }
      ]
    },
    {
      "cell_type": "markdown",
      "metadata": {
        "colab_type": "text",
        "id": "fdayfSLPLN_k"
      },
      "source": [
        "### Data Cleansing"
      ]
    },
    {
      "cell_type": "code",
      "metadata": {
        "colab_type": "code",
        "id": "9LcvGa8eLiEX",
        "colab": {}
      },
      "source": [
        "## Fill all NaN with 0\n",
        "feature_matrix = feature_matrix.fillna(0)"
      ],
      "execution_count": 0,
      "outputs": []
    },
    {
      "cell_type": "code",
      "metadata": {
        "colab_type": "code",
        "id": "7KMHiiNyLv_a",
        "colab": {
          "base_uri": "https://localhost:8080/",
          "height": 221
        },
        "outputId": "ba92621a-4521-40ed-a96b-eee396c2229c"
      },
      "source": [
        "feature_matrix.isna().sum().sort_values(ascending=False)"
      ],
      "execution_count": 18,
      "outputs": [
        {
          "output_type": "execute_result",
          "data": {
            "text/plain": [
              "LAST(Results.PrizeType)_Prize                  0\n",
              "SKEW(Results.TIME_SINCE(DrawDate))             0\n",
              "MEAN(Results.CUM_MEAN(TotalStrike))            0\n",
              "MEAN(Results.CUM_MEAN(LuckyNo))                0\n",
              "MEAN(Results.CUM_SUM(DrawNo))                  0\n",
              "                                              ..\n",
              "CUM_SUM(COUNT(Results))                        0\n",
              "CUM_SUM(MAX(Results.DrawNo))                   0\n",
              "CUM_SUM(MEAN(Results.LuckyNo))                 0\n",
              "CUM_SUM(AVG_TIME_BETWEEN(Results.DrawDate))    0\n",
              "time                                           0\n",
              "Length: 214, dtype: int64"
            ]
          },
          "metadata": {
            "tags": []
          },
          "execution_count": 18
        }
      ]
    },
    {
      "cell_type": "code",
      "metadata": {
        "colab_type": "code",
        "id": "mzHx8OYQLx0C",
        "colab": {
          "base_uri": "https://localhost:8080/",
          "height": 115
        },
        "outputId": "eaa75ac5-a27c-4e13-fbfb-55daadba84fe"
      },
      "source": [
        "feature_matrix[feature_matrix.isnull().any(axis=1)].head()"
      ],
      "execution_count": 19,
      "outputs": [
        {
          "output_type": "execute_result",
          "data": {
            "text/html": [
              "<div>\n",
              "<style scoped>\n",
              "    .dataframe tbody tr th:only-of-type {\n",
              "        vertical-align: middle;\n",
              "    }\n",
              "\n",
              "    .dataframe tbody tr th {\n",
              "        vertical-align: top;\n",
              "    }\n",
              "\n",
              "    .dataframe thead th {\n",
              "        text-align: right;\n",
              "    }\n",
              "</style>\n",
              "<table border=\"1\" class=\"dataframe\">\n",
              "  <thead>\n",
              "    <tr style=\"text-align: right;\">\n",
              "      <th></th>\n",
              "      <th>time</th>\n",
              "      <th>STD(Results.DrawNo)</th>\n",
              "      <th>STD(Results.TotalStrike)</th>\n",
              "      <th>STD(Results.LuckyNo)</th>\n",
              "      <th>MAX(Results.DrawNo)</th>\n",
              "      <th>MAX(Results.TotalStrike)</th>\n",
              "      <th>MAX(Results.LuckyNo)</th>\n",
              "      <th>MIN(Results.DrawNo)</th>\n",
              "      <th>MIN(Results.TotalStrike)</th>\n",
              "      <th>MIN(Results.LuckyNo)</th>\n",
              "      <th>MEAN(Results.DrawNo)</th>\n",
              "      <th>MEAN(Results.TotalStrike)</th>\n",
              "      <th>MEAN(Results.LuckyNo)</th>\n",
              "      <th>SKEW(Results.DrawNo)</th>\n",
              "      <th>SKEW(Results.TotalStrike)</th>\n",
              "      <th>SKEW(Results.LuckyNo)</th>\n",
              "      <th>LAST(Results.results_index)</th>\n",
              "      <th>LAST(Results.DrawNo)</th>\n",
              "      <th>LAST(Results.TotalStrike)</th>\n",
              "      <th>LAST(Results.LuckyNo)</th>\n",
              "      <th>AVG_TIME_BETWEEN(Results.DrawDate)</th>\n",
              "      <th>COUNT(Results)</th>\n",
              "      <th>SUM(Results.DrawNo)</th>\n",
              "      <th>SUM(Results.TotalStrike)</th>\n",
              "      <th>SUM(Results.LuckyNo)</th>\n",
              "      <th>TREND(Results.TotalStrike, DrawDate)</th>\n",
              "      <th>TREND(Results.LuckyNo, DrawDate)</th>\n",
              "      <th>TREND(Results.DrawNo, DrawDate)</th>\n",
              "      <th>NUM_UNIQUE(Results.PrizeType)</th>\n",
              "      <th>MONTH(first_Results_time)</th>\n",
              "      <th>DAY(first_Results_time)</th>\n",
              "      <th>TIME_SINCE(first_Results_time)</th>\n",
              "      <th>TIME_SINCE_PREVIOUS(first_Results_time)</th>\n",
              "      <th>STD(Results.TIME_SINCE(DrawDate))</th>\n",
              "      <th>STD(Results.CUM_MEAN(DrawNo))</th>\n",
              "      <th>STD(Results.CUM_SUM(LuckyNo))</th>\n",
              "      <th>STD(Results.PERCENTILE(DrawNo))</th>\n",
              "      <th>STD(Results.TIME_SINCE_PREVIOUS(DrawDate))</th>\n",
              "      <th>STD(Results.CUM_SUM(TotalStrike))</th>\n",
              "      <th>STD(Results.PERCENTILE(TotalStrike))</th>\n",
              "      <th>...</th>\n",
              "      <th>CUM_MEAN(SUM(Results.TotalStrike))</th>\n",
              "      <th>CUM_MEAN(STD(Results.TotalStrike))</th>\n",
              "      <th>CUM_MEAN(SKEW(Results.TotalStrike))</th>\n",
              "      <th>CUM_MEAN(SUM(Results.DrawNo))</th>\n",
              "      <th>CUM_MEAN(TREND(Results.DrawNo, DrawDate))</th>\n",
              "      <th>CUM_MEAN(LAST(Results.LuckyNo))</th>\n",
              "      <th>CUM_MEAN(MAX(Results.LuckyNo))</th>\n",
              "      <th>MONTH(LAST(Results.DrawDate))</th>\n",
              "      <th>DAY(LAST(Results.DrawDate))</th>\n",
              "      <th>PERCENTILE(SKEW(Results.LuckyNo))</th>\n",
              "      <th>PERCENTILE(MIN(Results.DrawNo))</th>\n",
              "      <th>PERCENTILE(MEAN(Results.DrawNo))</th>\n",
              "      <th>PERCENTILE(STD(Results.LuckyNo))</th>\n",
              "      <th>PERCENTILE(LAST(Results.DrawNo))</th>\n",
              "      <th>PERCENTILE(MAX(Results.TotalStrike))</th>\n",
              "      <th>PERCENTILE(TREND(Results.TotalStrike, DrawDate))</th>\n",
              "      <th>PERCENTILE(MEAN(Results.TotalStrike))</th>\n",
              "      <th>PERCENTILE(MIN(Results.TotalStrike))</th>\n",
              "      <th>PERCENTILE(AVG_TIME_BETWEEN(Results.DrawDate))</th>\n",
              "      <th>PERCENTILE(MEAN(Results.LuckyNo))</th>\n",
              "      <th>PERCENTILE(MAX(Results.DrawNo))</th>\n",
              "      <th>PERCENTILE(COUNT(Results))</th>\n",
              "      <th>PERCENTILE(MIN(Results.LuckyNo))</th>\n",
              "      <th>PERCENTILE(SUM(Results.LuckyNo))</th>\n",
              "      <th>PERCENTILE(NUM_UNIQUE(Results.PrizeType))</th>\n",
              "      <th>PERCENTILE(LAST(Results.TotalStrike))</th>\n",
              "      <th>PERCENTILE(STD(Results.DrawNo))</th>\n",
              "      <th>PERCENTILE(SKEW(Results.DrawNo))</th>\n",
              "      <th>PERCENTILE(TREND(Results.LuckyNo, DrawDate))</th>\n",
              "      <th>PERCENTILE(SUM(Results.TotalStrike))</th>\n",
              "      <th>PERCENTILE(STD(Results.TotalStrike))</th>\n",
              "      <th>PERCENTILE(SKEW(Results.TotalStrike))</th>\n",
              "      <th>PERCENTILE(SUM(Results.DrawNo))</th>\n",
              "      <th>PERCENTILE(TREND(Results.DrawNo, DrawDate))</th>\n",
              "      <th>PERCENTILE(LAST(Results.LuckyNo))</th>\n",
              "      <th>PERCENTILE(MAX(Results.LuckyNo))</th>\n",
              "      <th>TotalStrike</th>\n",
              "      <th>Label</th>\n",
              "      <th>MODE(Results.PrizeType)_Prize</th>\n",
              "      <th>LAST(Results.PrizeType)_Prize</th>\n",
              "    </tr>\n",
              "  </thead>\n",
              "  <tbody>\n",
              "  </tbody>\n",
              "</table>\n",
              "<p>0 rows × 214 columns</p>\n",
              "</div>"
            ],
            "text/plain": [
              "Empty DataFrame\n",
              "Columns: [time, STD(Results.DrawNo), STD(Results.TotalStrike), STD(Results.LuckyNo), MAX(Results.DrawNo), MAX(Results.TotalStrike), MAX(Results.LuckyNo), MIN(Results.DrawNo), MIN(Results.TotalStrike), MIN(Results.LuckyNo), MEAN(Results.DrawNo), MEAN(Results.TotalStrike), MEAN(Results.LuckyNo), SKEW(Results.DrawNo), SKEW(Results.TotalStrike), SKEW(Results.LuckyNo), LAST(Results.results_index), LAST(Results.DrawNo), LAST(Results.TotalStrike), LAST(Results.LuckyNo), AVG_TIME_BETWEEN(Results.DrawDate), COUNT(Results), SUM(Results.DrawNo), SUM(Results.TotalStrike), SUM(Results.LuckyNo), TREND(Results.TotalStrike, DrawDate), TREND(Results.LuckyNo, DrawDate), TREND(Results.DrawNo, DrawDate), NUM_UNIQUE(Results.PrizeType), MONTH(first_Results_time), DAY(first_Results_time), TIME_SINCE(first_Results_time), TIME_SINCE_PREVIOUS(first_Results_time), STD(Results.TIME_SINCE(DrawDate)), STD(Results.CUM_MEAN(DrawNo)), STD(Results.CUM_SUM(LuckyNo)), STD(Results.PERCENTILE(DrawNo)), STD(Results.TIME_SINCE_PREVIOUS(DrawDate)), STD(Results.CUM_SUM(TotalStrike)), STD(Results.PERCENTILE(TotalStrike)), STD(Results.CUM_SUM(DrawNo)), STD(Results.CUM_MEAN(LuckyNo)), STD(Results.CUM_MEAN(TotalStrike)), STD(Results.PERCENTILE(LuckyNo)), MAX(Results.TIME_SINCE(DrawDate)), MAX(Results.CUM_MEAN(DrawNo)), MAX(Results.CUM_SUM(LuckyNo)), MAX(Results.PERCENTILE(DrawNo)), MAX(Results.TIME_SINCE_PREVIOUS(DrawDate)), MAX(Results.CUM_SUM(TotalStrike)), MAX(Results.PERCENTILE(TotalStrike)), MAX(Results.CUM_SUM(DrawNo)), MAX(Results.CUM_MEAN(LuckyNo)), MAX(Results.CUM_MEAN(TotalStrike)), MAX(Results.PERCENTILE(LuckyNo)), MIN(Results.TIME_SINCE(DrawDate)), MIN(Results.CUM_MEAN(DrawNo)), MIN(Results.CUM_SUM(LuckyNo)), MIN(Results.PERCENTILE(DrawNo)), MIN(Results.TIME_SINCE_PREVIOUS(DrawDate)), MIN(Results.CUM_SUM(TotalStrike)), MIN(Results.PERCENTILE(TotalStrike)), MIN(Results.CUM_SUM(DrawNo)), MIN(Results.CUM_MEAN(LuckyNo)), MIN(Results.CUM_MEAN(TotalStrike)), MIN(Results.PERCENTILE(LuckyNo)), MODE(Results.MONTH(DrawDate)), MODE(Results.DAY(DrawDate)), MEAN(Results.TIME_SINCE(DrawDate)), MEAN(Results.CUM_MEAN(DrawNo)), MEAN(Results.CUM_SUM(LuckyNo)), MEAN(Results.PERCENTILE(DrawNo)), MEAN(Results.TIME_SINCE_PREVIOUS(DrawDate)), MEAN(Results.CUM_SUM(TotalStrike)), MEAN(Results.PERCENTILE(TotalStrike)), MEAN(Results.CUM_SUM(DrawNo)), MEAN(Results.CUM_MEAN(LuckyNo)), MEAN(Results.CUM_MEAN(TotalStrike)), MEAN(Results.PERCENTILE(LuckyNo)), SKEW(Results.TIME_SINCE(DrawDate)), SKEW(Results.CUM_MEAN(DrawNo)), SKEW(Results.CUM_SUM(LuckyNo)), SKEW(Results.PERCENTILE(DrawNo)), SKEW(Results.TIME_SINCE_PREVIOUS(DrawDate)), SKEW(Results.CUM_SUM(TotalStrike)), SKEW(Results.PERCENTILE(TotalStrike)), SKEW(Results.CUM_SUM(DrawNo)), SKEW(Results.CUM_MEAN(LuckyNo)), SKEW(Results.CUM_MEAN(TotalStrike)), SKEW(Results.PERCENTILE(LuckyNo)), LAST(Results.TIME_SINCE(DrawDate)), LAST(Results.CUM_MEAN(DrawNo)), LAST(Results.CUM_SUM(LuckyNo)), LAST(Results.PERCENTILE(DrawNo)), LAST(Results.DAY(DrawDate)), LAST(Results.TIME_SINCE_PREVIOUS(DrawDate)), LAST(Results.CUM_SUM(TotalStrike)), LAST(Results.MONTH(DrawDate)), LAST(Results.CUM_SUM(DrawNo)), LAST(Results.CUM_MEAN(LuckyNo)), ...]\n",
              "Index: []\n",
              "\n",
              "[0 rows x 214 columns]"
            ]
          },
          "metadata": {
            "tags": []
          },
          "execution_count": 19
        }
      ]
    },
    {
      "cell_type": "markdown",
      "metadata": {
        "colab_type": "text",
        "id": "zF_zCRksL1Ls"
      },
      "source": [
        "### Feature Selection"
      ]
    },
    {
      "cell_type": "code",
      "metadata": {
        "colab_type": "code",
        "id": "_uA8YPbHlleB",
        "colab": {}
      },
      "source": [
        "# Feature scaling first??"
      ],
      "execution_count": 0,
      "outputs": []
    },
    {
      "cell_type": "code",
      "metadata": {
        "colab_type": "code",
        "id": "5A8LZ805MqjP",
        "colab": {
          "base_uri": "https://localhost:8080/",
          "height": 272
        },
        "outputId": "bf1418e1-5fba-4b57-959b-41d6101c162b"
      },
      "source": [
        "print(feature_matrix.shape)\n",
        "feature_matrix.columns"
      ],
      "execution_count": 21,
      "outputs": [
        {
          "output_type": "stream",
          "text": [
            "(959893, 214)\n"
          ],
          "name": "stdout"
        },
        {
          "output_type": "execute_result",
          "data": {
            "text/plain": [
              "Index(['time', 'STD(Results.DrawNo)', 'STD(Results.TotalStrike)',\n",
              "       'STD(Results.LuckyNo)', 'MAX(Results.DrawNo)',\n",
              "       'MAX(Results.TotalStrike)', 'MAX(Results.LuckyNo)',\n",
              "       'MIN(Results.DrawNo)', 'MIN(Results.TotalStrike)',\n",
              "       'MIN(Results.LuckyNo)',\n",
              "       ...\n",
              "       'PERCENTILE(STD(Results.TotalStrike))',\n",
              "       'PERCENTILE(SKEW(Results.TotalStrike))',\n",
              "       'PERCENTILE(SUM(Results.DrawNo))',\n",
              "       'PERCENTILE(TREND(Results.DrawNo, DrawDate))',\n",
              "       'PERCENTILE(LAST(Results.LuckyNo))', 'PERCENTILE(MAX(Results.LuckyNo))',\n",
              "       'TotalStrike', 'Label', 'MODE(Results.PrizeType)_Prize',\n",
              "       'LAST(Results.PrizeType)_Prize'],\n",
              "      dtype='object', length=214)"
            ]
          },
          "metadata": {
            "tags": []
          },
          "execution_count": 21
        }
      ]
    },
    {
      "cell_type": "code",
      "metadata": {
        "colab_type": "code",
        "id": "rPFOkiGjhuKj",
        "colab": {
          "base_uri": "https://localhost:8080/",
          "height": 119
        },
        "outputId": "419a3b13-3cb6-4956-de39-4b08f2f5d43e"
      },
      "source": [
        "feature_matrix_selection = feature_selection(feature_matrix.drop(columns = ['time', 'TotalStrike', 'Label']))"
      ],
      "execution_count": 22,
      "outputs": [
        {
          "output_type": "stream",
          "text": [
            "Original shape:  (959893, 211)\n",
            "0 missing columns with threshold: 90.\n",
            "41 zero variance columns.\n",
            "109 collinear columns removed with threshold: 0.95.\n",
            "Total columns removed:  150\n",
            "Shape after feature selection: (959893, 61).\n"
          ],
          "name": "stdout"
        }
      ]
    },
    {
      "cell_type": "code",
      "metadata": {
        "colab_type": "code",
        "id": "vT2K0WeJhugH",
        "colab": {
          "base_uri": "https://localhost:8080/",
          "height": 782
        },
        "outputId": "06e1b5ff-18af-40de-cf80-b90f801be4a2"
      },
      "source": [
        "feature_matrix_selection.shape, feature_matrix_selection.columns"
      ],
      "execution_count": 23,
      "outputs": [
        {
          "output_type": "execute_result",
          "data": {
            "text/plain": [
              "((959893, 61),\n",
              " Index(['STD(Results.DrawNo)', 'MAX(Results.DrawNo)', 'MAX(Results.LuckyNo)',\n",
              "        'MIN(Results.DrawNo)', 'MEAN(Results.DrawNo)', 'SKEW(Results.DrawNo)',\n",
              "        'AVG_TIME_BETWEEN(Results.DrawDate)', 'COUNT(Results)',\n",
              "        'SUM(Results.DrawNo)', 'SUM(Results.LuckyNo)',\n",
              "        'TREND(Results.DrawNo, DrawDate)', 'MONTH(first_Results_time)',\n",
              "        'DAY(first_Results_time)', 'TIME_SINCE(first_Results_time)',\n",
              "        'TIME_SINCE_PREVIOUS(first_Results_time)',\n",
              "        'STD(Results.PERCENTILE(DrawNo))',\n",
              "        'STD(Results.TIME_SINCE_PREVIOUS(DrawDate))',\n",
              "        'STD(Results.CUM_SUM(DrawNo))', 'STD(Results.CUM_MEAN(LuckyNo))',\n",
              "        'MAX(Results.PERCENTILE(DrawNo))',\n",
              "        'MAX(Results.PERCENTILE(TotalStrike))',\n",
              "        'MAX(Results.CUM_MEAN(LuckyNo))',\n",
              "        'MIN(Results.TIME_SINCE_PREVIOUS(DrawDate))',\n",
              "        'MIN(Results.CUM_MEAN(LuckyNo))', 'MODE(Results.MONTH(DrawDate))',\n",
              "        'MODE(Results.DAY(DrawDate))', 'MEAN(Results.TIME_SINCE(DrawDate))',\n",
              "        'MEAN(Results.PERCENTILE(DrawNo))',\n",
              "        'MEAN(Results.TIME_SINCE_PREVIOUS(DrawDate))',\n",
              "        'MEAN(Results.CUM_MEAN(LuckyNo))',\n",
              "        'SKEW(Results.TIME_SINCE_PREVIOUS(DrawDate))',\n",
              "        'SKEW(Results.CUM_SUM(DrawNo))', 'SKEW(Results.CUM_MEAN(LuckyNo))',\n",
              "        'LAST(Results.DAY(DrawDate))',\n",
              "        'LAST(Results.TIME_SINCE_PREVIOUS(DrawDate))',\n",
              "        'LAST(Results.MONTH(DrawDate))', 'LAST(Results.CUM_MEAN(LuckyNo))',\n",
              "        'SUM(Results.TIME_SINCE(DrawDate))',\n",
              "        'SUM(Results.TIME_SINCE_PREVIOUS(DrawDate))',\n",
              "        'TREND(Results.CUM_MEAN(LuckyNo), DrawDate)',\n",
              "        'TREND(Results.PERCENTILE(LuckyNo), DrawDate)',\n",
              "        'TREND(Results.PERCENTILE(DrawNo), DrawDate)',\n",
              "        'TREND(Results.PERCENTILE(TotalStrike), DrawDate)',\n",
              "        'TREND(Results.TIME_SINCE_PREVIOUS(DrawDate), DrawDate)',\n",
              "        'TREND(Results.CUM_SUM(DrawNo), DrawDate)',\n",
              "        'NUM_UNIQUE(Results.MONTH(DrawDate))',\n",
              "        'NUM_UNIQUE(Results.DAY(DrawDate))', 'CUM_SUM(MIN(Results.DrawNo))',\n",
              "        'CUM_SUM(SKEW(Results.DrawNo))',\n",
              "        'CUM_MEAN(AVG_TIME_BETWEEN(Results.DrawDate))',\n",
              "        'CUM_MEAN(SUM(Results.LuckyNo))', 'CUM_MEAN(SKEW(Results.DrawNo))',\n",
              "        'PERCENTILE(STD(Results.LuckyNo))', 'PERCENTILE(LAST(Results.DrawNo))',\n",
              "        'PERCENTILE(MAX(Results.TotalStrike))',\n",
              "        'PERCENTILE(AVG_TIME_BETWEEN(Results.DrawDate))',\n",
              "        'PERCENTILE(COUNT(Results))', 'PERCENTILE(STD(Results.DrawNo))',\n",
              "        'PERCENTILE(SKEW(Results.DrawNo))', 'PERCENTILE(SUM(Results.DrawNo))',\n",
              "        'PERCENTILE(TREND(Results.DrawNo, DrawDate))'],\n",
              "       dtype='object'))"
            ]
          },
          "metadata": {
            "tags": []
          },
          "execution_count": 23
        }
      ]
    },
    {
      "cell_type": "code",
      "metadata": {
        "colab_type": "code",
        "id": "yZUhYrWFiRod",
        "colab": {}
      },
      "source": [
        "feature_matrix_selection['time'] = feature_matrix['time']\n",
        "feature_matrix_selection['TotalStrike'] = feature_matrix['TotalStrike']\n",
        "feature_matrix_selection['Label'] = feature_matrix['Label']"
      ],
      "execution_count": 0,
      "outputs": []
    },
    {
      "cell_type": "markdown",
      "metadata": {
        "colab_type": "text",
        "id": "hugygOqSiR6K"
      },
      "source": [
        "### Feature Correlation"
      ]
    },
    {
      "cell_type": "code",
      "metadata": {
        "colab_type": "code",
        "id": "JwecxRqfjtaH",
        "colab": {}
      },
      "source": [
        "# Check without feature selection\n",
        "# corrs = feature_matrix.corr().sort_values('Label')\n",
        "# corrs['Label'].tail(100)"
      ],
      "execution_count": 0,
      "outputs": []
    },
    {
      "cell_type": "code",
      "metadata": {
        "colab_type": "code",
        "id": "u7Ha8Zlkhuoe",
        "colab": {
          "base_uri": "https://localhost:8080/",
          "height": 374
        },
        "outputId": "4a475db6-b581-40e2-febd-5388d26d8759"
      },
      "source": [
        "# Check with feature selection\n",
        "corrs = feature_matrix_selection.corr().sort_values('Label')\n",
        "corrs['Label'].tail(20)"
      ],
      "execution_count": 26,
      "outputs": [
        {
          "output_type": "execute_result",
          "data": {
            "text/plain": [
              "SUM(Results.TIME_SINCE_PREVIOUS(DrawDate))      0.000442\n",
              "MODE(Results.DAY(DrawDate))                     0.000471\n",
              "PERCENTILE(SUM(Results.DrawNo))                 0.000610\n",
              "TREND(Results.PERCENTILE(LuckyNo), DrawDate)    0.000687\n",
              "MONTH(first_Results_time)                       0.000858\n",
              "PERCENTILE(TREND(Results.DrawNo, DrawDate))     0.000912\n",
              "MIN(Results.TIME_SINCE_PREVIOUS(DrawDate))      0.000984\n",
              "TIME_SINCE_PREVIOUS(first_Results_time)         0.000987\n",
              "LAST(Results.CUM_MEAN(LuckyNo))                 0.000988\n",
              "MAX(Results.CUM_MEAN(LuckyNo))                  0.001007\n",
              "MEAN(Results.PERCENTILE(DrawNo))                0.001149\n",
              "TREND(Results.CUM_MEAN(LuckyNo), DrawDate)      0.001493\n",
              "TREND(Results.PERCENTILE(DrawNo), DrawDate)     0.001528\n",
              "PERCENTILE(MAX(Results.TotalStrike))            0.001564\n",
              "MIN(Results.DrawNo)                             0.001718\n",
              "CUM_SUM(MIN(Results.DrawNo))                    0.001852\n",
              "MAX(Results.PERCENTILE(TotalStrike))            0.002320\n",
              "STD(Results.CUM_MEAN(LuckyNo))                  0.002331\n",
              "TotalStrike                                     0.991808\n",
              "Label                                           1.000000\n",
              "Name: Label, dtype: float64"
            ]
          },
          "metadata": {
            "tags": []
          },
          "execution_count": 26
        }
      ]
    },
    {
      "cell_type": "markdown",
      "metadata": {
        "colab_type": "text",
        "id": "b5MHgSCaQCh1"
      },
      "source": [
        "### Balancing data"
      ]
    },
    {
      "cell_type": "code",
      "metadata": {
        "colab_type": "code",
        "id": "pMtgp-f-Uzee",
        "colab": {}
      },
      "source": [
        "from imblearn.under_sampling import (RandomUnderSampler, \n",
        "                                     ClusterCentroids,\n",
        "                                     TomekLinks,\n",
        "                                     NeighbourhoodCleaningRule,\n",
        "                                     AllKNN,\n",
        "                                     NearMiss)\n",
        "from imblearn.combine import SMOTETomek\n",
        "from imblearn.pipeline import make_pipeline as make_pipeline_imb\n",
        "from imblearn.metrics import classification_report_imbalanced\n",
        "from imblearn.over_sampling import SMOTE, SMOTENC\n",
        "\n",
        "# pipeline = Pipeline([('imputer', SimpleImputer(strategy = 'constant', fill_value=0)), ('scaler', StandardScaler())])"
      ],
      "execution_count": 0,
      "outputs": []
    },
    {
      "cell_type": "code",
      "metadata": {
        "id": "hG6IuU2KQVQ3",
        "colab_type": "code",
        "colab": {}
      },
      "source": [
        "# def under_sampling_test(feature_data, cut_off_date, ratio=0.8):\n",
        "#   y = feature_data.loc[feature_data['time'] < cut_off_date, 'Label']\n",
        "#   X = feature_data[feature_data['time'] < cut_off_date].drop(columns = ['Label', 'TotalStrike','time','date'], errors='ignore')\n",
        "#   total_count = y.value_counts()\n",
        "#   neg_count = y.value_counts()[0]\n",
        "#   pos_count = y.value_counts()[1]\n",
        "#   target_neg_count = int(pos_count / (1-ratio))\n",
        "#   target_ratio = {0: target_neg_count, 1:  pos_count}\n",
        "#   print(X.shape, y.shape, target_ratio)\n",
        "#   # print('Before sampling {}'.format(Counter(y)))\n",
        "#   sampler = RandomUnderSampler(sampling_strategy=target_ratio, random_state=42)\n",
        "#   X_bal, y_bal = sampler.fit_sample(X, y)\n",
        "#   print('Undersampling {}'.format(Counter(y_bal)))\n",
        "#   return X_bal, y_bal\n",
        "\n",
        "# def balancing_pipeline_test(X_train, tra,):\n",
        "  \n",
        "#   pipeline = make_pipeline(SimpleImputer(strategy = 'constant', fill_value=0), \n",
        "#                            StandardScaler(),\n",
        "#                            )\n",
        "\n",
        "#   total_count = y.value_counts()\n",
        "#   neg_count = y.value_counts()[0]\n",
        "#   pos_count = y.value_counts()[1]\n",
        "#   target_neg_count = int(pos_count / (1-ratio))\n",
        "#   target_ratio = {0: target_neg_count, 1:  pos_count}\n",
        "\n",
        "#   print('Before sampling {}'.format(Counter(y)))\n",
        "#   #sampler = NearMiss(sampling_strategy={0: target_neg_count}, n_jobs=4)\n",
        "#   sampler = SMOTETomek(sampling_strategy='auto')\n",
        "#   X = pipeline.fit_transform(X)\n",
        "#   X_bal, y_bal = sampler.fit_sample(X, y)\n",
        "#   print('Over and undersampling {}'.format(Counter(y_bal)))\n",
        "#   return X_bal, y_bal\n",
        "\n",
        "# def balancing_pipeline(X, y):\n",
        "#   pass\n",
        "\n",
        "# cut_off = pd.datetime(2019,6,1)\n",
        "# X = feature_data[feature_data['time'] < cut_off_date].drop(columns = ['Label', 'TotalStrike','time','date'], errors='ignore')\n",
        "# y = feature_data.loc[feature_data['time'] < cut_off_date, 'Label']\n",
        "  \n",
        "# %time X_res, y_res = balancing_pipeline_test(X, y)"
      ],
      "execution_count": 0,
      "outputs": []
    },
    {
      "cell_type": "code",
      "metadata": {
        "id": "jyZSWpKCSeL6",
        "colab_type": "code",
        "colab": {}
      },
      "source": [
        "def plot_this(X_rs,y_rs,method):\n",
        "  # Use principal component to condense the 10 features to 2 features\n",
        "  pca = PCA(n_components=2).fit(X_rs)\n",
        "  pca_2d = pca.transform(X_rs)\n",
        "  # Assign colors\n",
        "  for i in range(0, pca_2d.shape[0]):\n",
        "    if y_rs[i] == 0:\n",
        "      c1 = pl.scatter(pca_2d[i,0],pca_2d[i,1],c='r', marker='o')\n",
        "    elif y_rs[i] == 1:\n",
        "      c2 = pl.scatter(pca_2d[i,0],pca_2d[i,1],c='g', marker='*')  \n",
        "  pl.legend([c1, c2], ['Class 1', 'Class 2'])\n",
        "  pl.title(method)\n",
        "  pl.axis([-4, 5, -4, 4])  # x axis (-4,5), y axis (-4,4)\n",
        "  pl.show()\n",
        "\n",
        "# Plot \n",
        "# plot_this(X_res, y_res, 'SMOTETomek')"
      ],
      "execution_count": 0,
      "outputs": []
    },
    {
      "cell_type": "code",
      "metadata": {
        "id": "_K2G3__hQZ6v",
        "colab_type": "code",
        "colab": {}
      },
      "source": [
        "# def under_sampling(X, y, ratio=0.9):\n",
        "#   total_count = y.value_counts()\n",
        "#   neg_count = y.value_counts()[0]\n",
        "#   pos_count = y.value_counts()[1]\n",
        "\n",
        "#   target_neg_count = int(pos_count / (1-ratio))\n",
        "#   target_ratio = {0: target_neg_count, 1:  pos_count}\n",
        "#   #print(X.shape, y.shape, target_ratio)\n",
        "#   print('Before sampling {}'.format(Counter(y)))\n",
        "#   sampler = RandomUnderSampler(random_state=42, sampling_strategy=target_ratio)\n",
        "#   X_bal, y_bal = sampler.fit_sample(X, y)\n",
        "#   print('Undersampling {}'.format(Counter(y_bal)))\n",
        "#   return X_bal, y_bal\n",
        "\n",
        "# def over_under_sampling(X, y):\n",
        "#   pass"
      ],
      "execution_count": 0,
      "outputs": []
    },
    {
      "cell_type": "markdown",
      "metadata": {
        "colab_type": "text",
        "id": "waeD1ED_kqDB"
      },
      "source": [
        "## Modeling"
      ]
    },
    {
      "cell_type": "code",
      "metadata": {
        "colab_type": "code",
        "id": "9Gq0iPZ1C8ka",
        "colab": {}
      },
      "source": [
        "def predict_imb(dt, feature_matrix): \n",
        "    \"\"\"\n",
        "    Reference:\n",
        "      - https://xgboost.readthedocs.io/en/latest/parameter.html\n",
        "      - https://xgboost.readthedocs.io/en/latest/tutorials/param_tuning.html\n",
        "      - https://stats.stackexchange.com/questions/224512/reduce-false-positives-with-xgboost\n",
        "      - https://stackoverflow.com/questions/52499788/smotetomek-how-to-set-ratio-as-dictionary-for-fixed-balance\n",
        "      - https://github.com/coding-maniacs/over-under-sampling/blob/master/src/main.py\n",
        "    \"\"\"\n",
        "    feature_matrix['date'] = feature_matrix['time']\n",
        "\n",
        "    # Subset labels\n",
        "    test_labels = feature_matrix.loc[feature_matrix['date'] == dt, 'Label']\n",
        "    train_labels = feature_matrix.loc[feature_matrix['date'] < dt, 'Label']\n",
        "\n",
        "    # print(f\"Size of test labels {len(test_labels)}\")\n",
        "    # print(f\"Size of train labels {len(train_labels)}\")\n",
        "    \n",
        "    # Features\n",
        "    X_train = feature_matrix[feature_matrix['date'] < dt].drop(columns = ['NumberId', 'time',\n",
        "                                                                                     'date', 'Label', 'TotalStrike', 'month', 'year', 'index'], errors='ignore')\n",
        "    X_test = feature_matrix[feature_matrix['date'] == dt].drop(columns = ['NumberId', 'time',\n",
        "                                                                                     'date', 'Label', 'TotalStrike', 'month', 'year', 'index'], errors='ignore')\n",
        "    # print(f\"Size of X train {len(X_train)}\")\n",
        "    # print(f\"Size of X test  {len(X_test)}\")\n",
        "   \n",
        "    feature_names = list(X_train.columns)\n",
        "    \n",
        "    if type(train_labels) == np.ndarray:\n",
        "      hit_ratio = float( len(np.where(train_labels == 0)[0]) / len(np.where(train_labels == 1)[0]) ) \n",
        "    else:\n",
        "      hit_ratio = float(train_labels.value_counts()[0]/train_labels.value_counts()[1]) \n",
        "    print(f\"Hit ratio - {hit_ratio}\\n\")\n",
        "\n",
        "    # Create the classifier\n",
        "    classifier = xgb.XGBClassifier(\n",
        "                             n_jobs=4, \n",
        "                             random_state = 42,\n",
        "                             n_estimators=100, \n",
        "                             max_depth=3,\n",
        "                            #  n_estimators=1000, \n",
        "                            #  max_depth=5,\n",
        "                            #  gamma=0,\n",
        "                            #  subsample=0.8,\n",
        "                            #  colsample_bytree=0.8,\n",
        "                            #  learning_rate=0.1,\n",
        "                             objective='binary:logistic',\n",
        "                             min_child_weight=1,\n",
        "                             scale_pos_weight=hit_ratio \n",
        "                             )\n",
        "    \n",
        "    #pipeline = Pipeline([('imputer', SimpleImputer(strategy = 'constant', fill_value=0)), ('scaler', StandardScaler())])\n",
        "\n",
        "    # Fit and transform training data\n",
        "    #X_train = pipeline.fit_transform(X_train)\n",
        "    #X_test = pipeline.transform(X_test)\n",
        "\n",
        "    # Labels\n",
        "    y_train = np.array(train_labels).reshape((-1, ))\n",
        "    y_test = np.array(test_labels).reshape((-1, ))\n",
        "    \n",
        "    print('Training on {} observations.'.format(len(X_train)))\n",
        "    print('Testing on {} observations.\\n'.format(len(X_test)))\n",
        "  \n",
        "    # Sampling technique\n",
        "    balancer = SMOTE(sampling_strategy='auto', random_state=42, n_jobs=4)\n",
        "\n",
        "    # Create the pipeline\n",
        "    pipeline = make_pipeline_imb(\n",
        "                                SimpleImputer(strategy = 'constant', fill_value=0),\n",
        "                                StandardScaler(),\n",
        "                                balancer,\n",
        "                                classifier\n",
        "                                )\n",
        "    model = pipeline.fit(X_train, train_labels)\n",
        "    predictions = pipeline.predict(X_test)\n",
        "    probs = pipeline.predict_proba(X_test)[:, 1]\n",
        "\n",
        "    # Train \n",
        "    #classifier.fit(X_train, y_train)\n",
        "    \n",
        "    # Make predictions\n",
        "    #predictions = classifier.predict(X_test)\n",
        "    #probs = classifier.predict_proba(X_test)[:, 1]\n",
        "\n",
        "    # Total positive\n",
        "    positive = np.where((predictions==1))\n",
        "    print(f'Total predicted to be positive: {len(positive[0])} \\n')\n",
        "  \n",
        "    # Calculate metrics\n",
        "    rpt = classification_report(y_test, predictions)\n",
        "    rpt_imb = classification_report_imbalanced(y_test, predictions)\n",
        "    cm = confusion_matrix(y_test, predictions)\n",
        "    print('Classification report')\n",
        "    print(rpt)\n",
        "    print('Classification report - imbalanced')\n",
        "    print(rpt_imb)\n",
        "    print(f'Confusion matrix:\\n {cm}\\n')\n",
        "\n",
        "    # Total predicted matches\n",
        "    print('Predicted matches')\n",
        "    pred = np.where((predictions==1))\n",
        "    print(len(pred[0]), pred[0][0:23])\n",
        "    topN = np.argpartition(probs, -23)[-23:]\n",
        "    print(f'\\n{topN}\\n')  # Top N most high probability numbers\n",
        "  \n",
        "    if len(positive[0]) > 0:\n",
        "    \n",
        "      # Matching draws\n",
        "      print('Matched draws')\n",
        "      md = np.where((predictions==1) & (y_test==1))\n",
        "      print(f\"Count: {len(md[0])}, Index: {md}\")\n",
        "      month_data = feature_matrix.loc[feature_matrix['date'] == dt]\n",
        "      numbers = month_data.iloc[md[0]][['MAX(Results.LuckyNo)']]\n",
        "\n",
        "      print('\\n\\nTop 23 Possibility')\n",
        "      print(origin_data[(origin_data['DrawDate'].dt.year == dt.year) & \n",
        "                          (origin_data['DrawDate'].dt.month == dt.month) &  \n",
        "                          (origin_data['LuckyNo'].isin(topN))].head(23))  \n",
        "      \n",
        "      print('\\n\\nFirst 23 Numbers')\n",
        "      print(origin_data[(origin_data['DrawDate'].dt.year == dt.year) & \n",
        "                          (origin_data['DrawDate'].dt.month == dt.month) &  \n",
        "                          (origin_data['LuckyNo'].isin(pred[0][0:23]))].head(23))    \n",
        "             \n",
        "\n",
        "      print('\\n\\nAll matched')\n",
        "      print(origin_data[(origin_data['DrawDate'].dt.year == dt.year) & \n",
        "                          (origin_data['DrawDate'].dt.month == dt.month) &  \n",
        "                          (origin_data['LuckyNo'].isin(numbers['MAX(Results.LuckyNo)']))].head(100))    \n",
        "                                                  \n",
        "    else:\n",
        "      print('No luck this month')                 \n",
        "\n",
        "    # Feature importances\n",
        "    fi = pd.DataFrame({'feature': feature_names, 'importance': classifier.feature_importances_})\n",
        "    \n",
        "    return fi, probs"
      ],
      "execution_count": 0,
      "outputs": []
    },
    {
      "cell_type": "code",
      "metadata": {
        "colab_type": "code",
        "id": "EFAFoPBEoWFi",
        "colab": {
          "base_uri": "https://localhost:8080/",
          "height": 102
        },
        "outputId": "a8b5dd8d-0958-42e3-b594-bfe7edf1b15d"
      },
      "source": [
        "%time fi, probs = predict_imb(pd.datetime(2019,6,1), feature_matrix_selection)"
      ],
      "execution_count": 0,
      "outputs": [
        {
          "output_type": "stream",
          "text": [
            "Hit ratio - 28.829148929038315\n",
            "\n",
            "Training on 889893 observations.\n",
            "Testing on 10000 observations.\n",
            "\n"
          ],
          "name": "stdout"
        }
      ]
    },
    {
      "cell_type": "code",
      "metadata": {
        "colab_type": "code",
        "id": "rV0niLRnfmsj",
        "colab": {
          "base_uri": "https://localhost:8080/",
          "height": 553
        },
        "outputId": "69b7708d-bcd0-4b08-db3c-8ba6eb2c6efc"
      },
      "source": [
        "normalized_fi = plot_feature_importances(fi)"
      ],
      "execution_count": 49,
      "outputs": [
        {
          "output_type": "display_data",
          "data": {
            "image/png": "[encoded data removed]",
            "text/plain": [
              "<Figure size 864x576 with 1 Axes>"
            ]
          },
          "metadata": {
            "tags": []
          }
        }
      ]
    },
    {
      "cell_type": "code",
      "metadata": {
        "colab_type": "code",
        "id": "C7itdGGHwprH",
        "colab": {}
      },
      "source": [
        "# Loop through from June to Dec\n",
        "# start_mt = pd.datetime(2019,6,1)\n",
        "# how_many_mt = 7\n",
        "# for i in range(how_many_mt):\n",
        "#   month_to_predict = start_mt + relativedelta(months=i)\n",
        "#   print(f\"\\n{month_to_predict}\\n-------------------\\n\")\n",
        "#   %time predict(month_to_predict, feature_matrix_selection)"
      ],
      "execution_count": 0,
      "outputs": []
    },
    {
      "cell_type": "code",
      "metadata": {
        "colab_type": "code",
        "id": "q91OSb9M3xfj",
        "colab": {}
      },
      "source": [
        ""
      ],
      "execution_count": 0,
      "outputs": []
    }
  ]
}
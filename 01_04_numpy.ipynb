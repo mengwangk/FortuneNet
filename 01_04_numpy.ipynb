{
  "nbformat": 4,
  "nbformat_minor": 0,
  "metadata": {
    "colab": {
      "name": "01_04_numpy.ipynb",
      "provenance": []
    },
    "kernelspec": {
      "display_name": "Python 3",
      "language": "python",
      "name": "python3"
    },
    "language_info": {
      "codemirror_mode": {
        "name": "ipython",
        "version": 3
      },
      "file_extension": ".py",
      "mimetype": "text/x-python",
      "name": "python",
      "nbconvert_exporter": "python",
      "pygments_lexer": "ipython3",
      "version": "3.7.2"
    }
  },
  "cells": [
    {
      "cell_type": "code",
      "metadata": {
        "colab_type": "code",
        "id": "UonPlCjiUYXs",
        "colab": {}
      },
      "source": [
        "import numpy as np"
      ],
      "execution_count": 0,
      "outputs": []
    },
    {
      "cell_type": "markdown",
      "metadata": {
        "colab_type": "text",
        "id": "aTlXJpV2UYXx"
      },
      "source": [
        "### Array manipulation"
      ]
    },
    {
      "cell_type": "code",
      "metadata": {
        "colab_type": "code",
        "id": "PFSTHJ4wUYXy",
        "outputId": "d3f655e2-1117-4447-b28f-402515109ec7",
        "colab": {}
      },
      "source": [
        "arr = np.arange(9)\n",
        "arr"
      ],
      "execution_count": 0,
      "outputs": [
        {
          "output_type": "execute_result",
          "data": {
            "text/plain": [
              "array([0, 1, 2, 3, 4, 5, 6, 7, 8])"
            ]
          },
          "metadata": {
            "tags": []
          },
          "execution_count": 4
        }
      ]
    },
    {
      "cell_type": "code",
      "metadata": {
        "colab_type": "code",
        "id": "wDK5o-MxUYX2",
        "outputId": "62d68c6c-5f2f-410b-f3f4-99b9eefd4534",
        "colab": {}
      },
      "source": [
        "arr2D_1 = arr.reshape(3,3)\n",
        "arr2D_1"
      ],
      "execution_count": 0,
      "outputs": [
        {
          "output_type": "execute_result",
          "data": {
            "text/plain": [
              "array([[0, 1, 2],\n",
              "       [3, 4, 5],\n",
              "       [6, 7, 8]])"
            ]
          },
          "metadata": {
            "tags": []
          },
          "execution_count": 6
        }
      ]
    },
    {
      "cell_type": "code",
      "metadata": {
        "colab_type": "code",
        "id": "_iCSTbw3UYX5",
        "outputId": "38460b5b-c138-47e6-897c-ae4a04b4f251",
        "colab": {}
      },
      "source": [
        "arr2D_2 = np.arange(10,19).reshape(3,3)\n",
        "arr2D_2"
      ],
      "execution_count": 0,
      "outputs": [
        {
          "output_type": "execute_result",
          "data": {
            "text/plain": [
              "array([[10, 11, 12],\n",
              "       [13, 14, 15],\n",
              "       [16, 17, 18]])"
            ]
          },
          "metadata": {
            "tags": []
          },
          "execution_count": 8
        }
      ]
    },
    {
      "cell_type": "code",
      "metadata": {
        "colab_type": "code",
        "id": "llAJ1y6UUYX9",
        "outputId": "41b3abd5-b6b4-4e75-d886-6ada8f8519da",
        "colab": {}
      },
      "source": [
        "np.concatenate((arr2D_1, arr2D_2))"
      ],
      "execution_count": 0,
      "outputs": [
        {
          "output_type": "execute_result",
          "data": {
            "text/plain": [
              "array([[ 0,  1,  2],\n",
              "       [ 3,  4,  5],\n",
              "       [ 6,  7,  8],\n",
              "       [10, 11, 12],\n",
              "       [13, 14, 15],\n",
              "       [16, 17, 18]])"
            ]
          },
          "metadata": {
            "tags": []
          },
          "execution_count": 11
        }
      ]
    },
    {
      "cell_type": "code",
      "metadata": {
        "colab_type": "code",
        "id": "vTgmN5w3UYX_",
        "outputId": "61d6d0d2-18e2-4af6-a774-85bc2a251eb6",
        "colab": {}
      },
      "source": [
        "np.concatenate((arr2D_1, arr2D_2), axis=1)"
      ],
      "execution_count": 0,
      "outputs": [
        {
          "output_type": "execute_result",
          "data": {
            "text/plain": [
              "array([[ 0,  1,  2, 10, 11, 12],\n",
              "       [ 3,  4,  5, 13, 14, 15],\n",
              "       [ 6,  7,  8, 16, 17, 18]])"
            ]
          },
          "metadata": {
            "tags": []
          },
          "execution_count": 12
        }
      ]
    },
    {
      "cell_type": "code",
      "metadata": {
        "colab_type": "code",
        "id": "5_0zGTKdUYYB",
        "outputId": "817428ab-2065-4d28-96f8-2e8fbde5c354",
        "colab": {}
      },
      "source": [
        "np.concatenate((arr2D_1, arr2D_2, arr2D_1))"
      ],
      "execution_count": 0,
      "outputs": [
        {
          "output_type": "execute_result",
          "data": {
            "text/plain": [
              "array([[ 0,  1,  2],\n",
              "       [ 3,  4,  5],\n",
              "       [ 6,  7,  8],\n",
              "       [10, 11, 12],\n",
              "       [13, 14, 15],\n",
              "       [16, 17, 18],\n",
              "       [ 0,  1,  2],\n",
              "       [ 3,  4,  5],\n",
              "       [ 6,  7,  8]])"
            ]
          },
          "metadata": {
            "tags": []
          },
          "execution_count": 14
        }
      ]
    },
    {
      "cell_type": "code",
      "metadata": {
        "colab_type": "code",
        "id": "AUN9_6FWUYYE",
        "outputId": "7d3df21b-a3d1-4ed3-ceb6-00849e981cb4",
        "colab": {}
      },
      "source": [
        "# Alternatives\n",
        "np.vstack((arr2D_1, arr2D_2))"
      ],
      "execution_count": 0,
      "outputs": [
        {
          "output_type": "execute_result",
          "data": {
            "text/plain": [
              "array([[ 0,  1,  2],\n",
              "       [ 3,  4,  5],\n",
              "       [ 6,  7,  8],\n",
              "       [10, 11, 12],\n",
              "       [13, 14, 15],\n",
              "       [16, 17, 18]])"
            ]
          },
          "metadata": {
            "tags": []
          },
          "execution_count": 16
        }
      ]
    },
    {
      "cell_type": "code",
      "metadata": {
        "colab_type": "code",
        "id": "pspfBpB4UYYG",
        "outputId": "bb3193fe-10c5-4fc1-9b96-cb92eb36076e",
        "colab": {}
      },
      "source": [
        "np.hstack((arr2D_1, arr2D_2))"
      ],
      "execution_count": 0,
      "outputs": [
        {
          "output_type": "execute_result",
          "data": {
            "text/plain": [
              "array([[ 0,  1,  2, 10, 11, 12],\n",
              "       [ 3,  4,  5, 13, 14, 15],\n",
              "       [ 6,  7,  8, 16, 17, 18]])"
            ]
          },
          "metadata": {
            "tags": []
          },
          "execution_count": 17
        }
      ]
    },
    {
      "cell_type": "markdown",
      "metadata": {
        "colab_type": "text",
        "id": "0Hv9kslyUYYJ"
      },
      "source": [
        "## np.argsort"
      ]
    },
    {
      "cell_type": "code",
      "metadata": {
        "colab_type": "code",
        "id": "TDawIBf0UnsQ",
        "outputId": "a8dc0baa-4ccb-4a60-a4a2-e44c11969670",
        "colab": {
          "base_uri": "https://localhost:8080/",
          "height": 124
        }
      },
      "source": [
        "score = np.array([70, 60, 50, 10, 90, 40, 80])\n",
        "name = np.array(['Ada', 'Ben', 'Charlie', 'Danny', 'Eden', 'Fanny', 'George'])\n",
        "sorted_name = name[np.argsort(score)] # an array of names in ascending order of their scores\n",
        "print(sorted_name)   # ['Danny' 'Fanny' 'Charlie' 'Ben' 'Ada' 'George' 'Eden']\n",
        "\n",
        "original_name = sorted_name[np.argsort(np.argsort(score))]\n",
        "print(original_name) # ['Ada' 'Ben' 'Charlie' 'Danny' 'Eden' 'Fanny' 'George']\n",
        "\n",
        "%timeit name[np.argsort(score)] \n",
        "# 1.83 µs ± 182 ns per loop (mean ± std. dev. of 7 runs, 100000 loops each)\n",
        "\n",
        "%timeit sorted(zip(score, name))\n",
        "# 3.2 µs ± 76.7 ns per loop (mean ± std. dev. of 7 runs, 100000 loops each)"
      ],
      "execution_count": 0,
      "outputs": [
        {
          "output_type": "stream",
          "text": [
            "['Danny' 'Fanny' 'Charlie' 'Ben' 'Ada' 'George' 'Eden']\n",
            "['Ada' 'Ben' 'Charlie' 'Danny' 'Eden' 'Fanny' 'George']\n",
            "The slowest run took 40.26 times longer than the fastest. This could mean that an intermediate result is being cached.\n",
            "100000 loops, best of 3: 2.19 µs per loop\n",
            "The slowest run took 12.29 times longer than the fastest. This could mean that an intermediate result is being cached.\n",
            "100000 loops, best of 3: 4.11 µs per loop\n"
          ],
          "name": "stdout"
        }
      ]
    },
    {
      "cell_type": "markdown",
      "metadata": {
        "colab_type": "text",
        "id": "_9jOSKmNUsZc"
      },
      "source": [
        "## Broadcasting - shapes"
      ]
    },
    {
      "cell_type": "code",
      "metadata": {
        "colab_type": "code",
        "id": "F8s1ARRUWM1D",
        "outputId": "dafe38b1-079f-4956-95d9-c57415cb2979",
        "colab": {
          "base_uri": "https://localhost:8080/",
          "height": 132
        }
      },
      "source": [
        "Argument 1  (4D array): 7 × 5 × 3 × 1\n",
        "Argument 2  (3D array):     1 × 3 × 9\n",
        "Output      (4D array): 7 × 5 × 3 × 9"
      ],
      "execution_count": 0,
      "outputs": [
        {
          "output_type": "error",
          "ename": "SyntaxError",
          "evalue": "ignored",
          "traceback": [
            "\u001b[0;36m  File \u001b[0;32m\"<ipython-input-3-96c08670f2e0>\"\u001b[0;36m, line \u001b[0;32m1\u001b[0m\n\u001b[0;31m    Argument 1  (4D array): 7 × 5 × 3 × 1\u001b[0m\n\u001b[0m             ^\u001b[0m\n\u001b[0;31mSyntaxError\u001b[0m\u001b[0;31m:\u001b[0m invalid syntax\n"
          ]
        }
      ]
    },
    {
      "cell_type": "markdown",
      "metadata": {
        "colab_type": "text",
        "id": "QXSmZ9U0WXmm"
      },
      "source": [
        "## Ellipsis and NewAxis — dimensions"
      ]
    },
    {
      "cell_type": "code",
      "metadata": {
        "colab_type": "code",
        "id": "gwXPRmpNWbap",
        "outputId": "952dc095-2b99-4392-97d2-06d71513009c",
        "colab": {
          "base_uri": "https://localhost:8080/",
          "height": 248
        }
      },
      "source": [
        "arr = np.array(range(1000)).reshape(2,5,2,10,-1)\n",
        "print(arr[:,:,:,3,2] == arr[...,3,2])\n",
        "\n",
        "# [[[ True,  True],\n",
        "#   [ True,  True],\n",
        "#   [ True,  True],\n",
        "#   [ True,  True],\n",
        "#   [ True,  True]],\n",
        "#  [[ True,  True],\n",
        "#   [ True,  True],\n",
        "#   [ True,  True],\n",
        "#   [ True,  True],\n",
        "#   [ True,  True]]])\n",
        "\n",
        "print(arr.shape)                       # (2, 5, 2, 10, 5)\n",
        "print(arr[...,np.newaxis,:,:,:].shape) # (2, 5, 1, 2, 10, 5)"
      ],
      "execution_count": 0,
      "outputs": [
        {
          "output_type": "stream",
          "text": [
            "[[[ True  True]\n",
            "  [ True  True]\n",
            "  [ True  True]\n",
            "  [ True  True]\n",
            "  [ True  True]]\n",
            "\n",
            " [[ True  True]\n",
            "  [ True  True]\n",
            "  [ True  True]\n",
            "  [ True  True]\n",
            "  [ True  True]]]\n",
            "(2, 5, 2, 10, 5)\n",
            "(2, 5, 1, 2, 10, 5)\n"
          ],
          "name": "stdout"
        }
      ]
    },
    {
      "cell_type": "markdown",
      "metadata": {
        "colab_type": "text",
        "id": "mXqcSoEUWuXD"
      },
      "source": [
        "## Masked Array — selection"
      ]
    },
    {
      "cell_type": "code",
      "metadata": {
        "colab_type": "code",
        "id": "JhsXONxrYRD0",
        "colab": {}
      },
      "source": [
        "# np.ma.MaskedArray(data=arr, mask=invalid_mask)"
      ],
      "execution_count": 0,
      "outputs": []
    },
    {
      "cell_type": "code",
      "metadata": {
        "colab_type": "code",
        "id": "I6sXomBJYgpy",
        "outputId": "bf421cd8-fc91-43fb-aff4-de105f5e6da3",
        "colab": {
          "base_uri": "https://localhost:8080/",
          "height": 124
        }
      },
      "source": [
        "import math\n",
        "\n",
        "def is_prime(n):\n",
        "    assert n > 1, 'Input must be larger than 1'\n",
        "    if n % 2 == 0 and n > 2: \n",
        "        return False\n",
        "    return all(n % i for i in range(3, int(math.sqrt(n)) + 1, 2))\n",
        "\n",
        "arr = np.array(range(2,100))\n",
        "non_prime_mask = [not is_prime(n) for n in arr]\n",
        "prime_arr = np.ma.MaskedArray(data=arr, mask=non_prime_mask)\n",
        "print(prime_arr)\n",
        "\n",
        "# [2 3 -- 5 -- 7 -- -- -- 11 -- 13 -- -- -- 17 -- 19 -- -- -- 23 -- -- -- --\n",
        "#  -- 29 -- 31 -- -- -- -- -- 37 -- -- -- 41 -- 43 -- -- -- 47 -- -- -- --\n",
        "#  -- 53 -- -- -- -- -- 59 -- 61 -- -- -- -- -- 67 -- -- -- 71 -- 73 -- --\n",
        "#  -- -- -- 79 -- -- -- 83 -- -- -- -- -- 89 -- -- -- -- -- -- -- 97 -- --]\n",
        "\n",
        "arr = np.array(range(11))\n",
        "print(arr.sum())        # 55\n",
        "\n",
        "arr[-1] = -999 # indicates missing value\n",
        "\n",
        "masked_arr = np.ma.masked_values(arr, -999)\n",
        "print(masked_arr.sum()) # 45  "
      ],
      "execution_count": 0,
      "outputs": [
        {
          "output_type": "stream",
          "text": [
            "[2 3 -- 5 -- 7 -- -- -- 11 -- 13 -- -- -- 17 -- 19 -- -- -- 23 -- -- -- --\n",
            " -- 29 -- 31 -- -- -- -- -- 37 -- -- -- 41 -- 43 -- -- -- 47 -- -- -- --\n",
            " -- 53 -- -- -- -- -- 59 -- 61 -- -- -- -- -- 67 -- -- -- 71 -- 73 -- --\n",
            " -- -- -- 79 -- -- -- 83 -- -- -- -- -- 89 -- -- -- -- -- -- -- 97 -- --]\n",
            "55\n",
            "45\n"
          ],
          "name": "stdout"
        }
      ]
    },
    {
      "cell_type": "code",
      "metadata": {
        "colab_type": "code",
        "id": "LQaX9hVzaL_v",
        "colab": {}
      },
      "source": [
        "### Percentile"
      ],
      "execution_count": 0,
      "outputs": []
    },
    {
      "cell_type": "code",
      "metadata": {
        "id": "9Sv8ryoYvWf4",
        "colab_type": "code",
        "colab": {
          "base_uri": "https://localhost:8080/",
          "height": 832
        },
        "outputId": "477743f5-d823-4566-f201-971968a5a43e"
      },
      "source": [
        "s = \"\"\"\n",
        "6   44   52   72  197  217  219  230  279  283  298  356  392  422\n",
        "  463  468  479  487  507  510  520  537  540  550  557  559  560  567\n",
        "  586  594  595  604  623  628  637  661  706  720  732  802  803  823\n",
        "  895  903  928  950  974  994 1009 1018 1047 1086 1093 1115 1217 1230\n",
        " 1271 1378 1446 1478 1504 1508 1535 1553 1597 1671 1686 1697 1702 1723\n",
        " 1807 1862 1914 1962 1989 2037 2105 2260 2276 2320 2326 2461 2466 2492\n",
        " 2502 2532 2550 2581 2633 2672 2792 2794 2958 2983 2989 3029 3034 3086\n",
        " 3105 3113 3138 3277 3340 3350 3356 3468 3470 3497 3526 3545 3624 3675\n",
        " 3781 3846 3948 3968 3987 4012 4015 4016 4036 4060 4112 4267 4321 4373\n",
        " 4479 4514 4528 4578 4663 4675 4725 4748 4836 4840 4851 4876 4974 5140\n",
        " 5185 5237 5240 5308 5311 5355 5426 5442 5501 5506 5523 5533 5618 5673\n",
        " 5720 5725 5820 5842 5921 5949 6019 6045 6156 6257 6447 6772 7106 7166\n",
        " 7181 7196 7222 7231 7249 7455 7466 7503 7513 7557 7583 7669 7686 7722\n",
        " 7931 7983 8051 8078 8186 8323 8701 8988 9028 9074 9234 9308 9465\n",
        "\"\"\".split(' ')\n",
        "numbers = np.array([ int(v.strip()) for v in  s if v.strip() != ''])\n",
        "print(len(numbers), numbers)\n",
        "\n",
        "s = \"\"\"\n",
        "0.5002664  0.5030543  0.5011834  0.50345784 0.5030445  0.50096476\n",
        " 0.5014635  0.5052597  0.5015462  0.5009198  0.5042279  0.50006586\n",
        " 0.50178766 0.5023342  0.50314224 0.5004783  0.5055111  0.50520676\n",
        " 0.502752   0.50549245 0.5023156  0.50282675 0.50116205 0.50143045\n",
        " 0.5035101  0.5000821  0.50057685 0.50085443 0.5011579  0.5002063\n",
        " 0.50650465 0.50328237 0.5013409  0.5014749  0.5012579  0.50692064\n",
        " 0.505105   0.5018501  0.5014952  0.50276613 0.50555366 0.50691855\n",
        " 0.5031804  0.50596476 0.50178415 0.50021064 0.5042699  0.50111026\n",
        " 0.50641996 0.5032469  0.50847775 0.50062954 0.5001466  0.50336856\n",
        " 0.5024362  0.50006026 0.5009796  0.5019523  0.5001754  0.50096774\n",
        " 0.50319767 0.50054866 0.50182873 0.5046981  0.5033597  0.50512415\n",
        " 0.50483483 0.5014438  0.50194305 0.50123465 0.50008434 0.50341696\n",
        " 0.50045264 0.5025949  0.50230265 0.5001563  0.50238717 0.5011572\n",
        " 0.50144017 0.50044996 0.50233644 0.50212455 0.5012261  0.50025487\n",
        " 0.5008068  0.50028175 0.5020612  0.5019552  0.5036699  0.5035833\n",
        " 0.5019106  0.5008689  0.5000663  0.5018568  0.500888   0.500508\n",
        " 0.5014499  0.5001171  0.503839   0.5002827  0.5018912  0.50058854\n",
        " 0.50156236 0.501077   0.5004424  0.50066143 0.5021202  0.50402784\n",
        " 0.5026449  0.5004557  0.5001347  0.5005555  0.50083715 0.50087285\n",
        " 0.5012383  0.50178754 0.50007164 0.50061536 0.50035024 0.50409687\n",
        " 0.5041618  0.50725734 0.50100785 0.5059609  0.5033471  0.5000567\n",
        " 0.5003834  0.5026191  0.50031006 0.5008642  0.5008177  0.50193226\n",
        " 0.5019959  0.50106937 0.5004341  0.50066406 0.50575113 0.5023617\n",
        " 0.50140333 0.5010693  0.5000706  0.5018855  0.50137466 0.5004089\n",
        " 0.50492716 0.50401115 0.50000346 0.500923   0.50069857 0.5001628\n",
        " 0.5006791  0.50340325 0.50013334 0.5011139  0.50137734 0.50342333\n",
        " 0.50395393 0.50051075 0.5035721  0.5021655  0.5002876  0.50285715\n",
        " 0.50163585 0.50263757 0.50299925 0.50205386 0.5027933  0.5011403\n",
        " 0.501143   0.50303525 0.500594   0.5029259  0.5011528  0.5018968\n",
        " 0.50152516 0.5013398  0.50072265 0.50102705 0.50118047 0.50084674\n",
        " 0.50000525 0.5034939  0.5034052  0.5060979  0.5025529  0.5020137\n",
        " 0.5032606  0.50090754 0.50194335 0.50144184 0.5018807  0.50249344\n",
        " 0.5002677  0.50301665 0.50083494\n",
        "\"\"\".split(' ')\n",
        "probas = np.array([ float(v.strip()) for v in  s if v.strip() != ''])\n",
        "print(len(probas), probas)"
      ],
      "execution_count": 8,
      "outputs": [
        {
          "output_type": "stream",
          "text": [
            "195 [   6   44   52   72  197  217  219  230  279  283  298  356  392  422\n",
            "  463  468  479  487  507  510  520  537  540  550  557  559  560  567\n",
            "  586  594  595  604  623  628  637  661  706  720  732  802  803  823\n",
            "  895  903  928  950  974  994 1009 1018 1047 1086 1093 1115 1217 1230\n",
            " 1271 1378 1446 1478 1504 1508 1535 1553 1597 1671 1686 1697 1702 1723\n",
            " 1807 1862 1914 1962 1989 2037 2105 2260 2276 2320 2326 2461 2466 2492\n",
            " 2502 2532 2550 2581 2633 2672 2792 2794 2958 2983 2989 3029 3034 3086\n",
            " 3105 3113 3138 3277 3340 3350 3356 3468 3470 3497 3526 3545 3624 3675\n",
            " 3781 3846 3948 3968 3987 4012 4015 4016 4036 4060 4112 4267 4321 4373\n",
            " 4479 4514 4528 4578 4663 4675 4725 4748 4836 4840 4851 4876 4974 5140\n",
            " 5185 5237 5240 5308 5311 5355 5426 5442 5501 5506 5523 5533 5618 5673\n",
            " 5720 5725 5820 5842 5921 5949 6019 6045 6156 6257 6447 6772 7106 7166\n",
            " 7181 7196 7222 7231 7249 7455 7466 7503 7513 7557 7583 7669 7686 7722\n",
            " 7931 7983 8051 8078 8186 8323 8701 8988 9028 9074 9234 9308 9465]\n",
            "195 [0.5002664  0.5030543  0.5011834  0.50345784 0.5030445  0.50096476\n",
            " 0.5014635  0.5052597  0.5015462  0.5009198  0.5042279  0.50006586\n",
            " 0.50178766 0.5023342  0.50314224 0.5004783  0.5055111  0.50520676\n",
            " 0.502752   0.50549245 0.5023156  0.50282675 0.50116205 0.50143045\n",
            " 0.5035101  0.5000821  0.50057685 0.50085443 0.5011579  0.5002063\n",
            " 0.50650465 0.50328237 0.5013409  0.5014749  0.5012579  0.50692064\n",
            " 0.505105   0.5018501  0.5014952  0.50276613 0.50555366 0.50691855\n",
            " 0.5031804  0.50596476 0.50178415 0.50021064 0.5042699  0.50111026\n",
            " 0.50641996 0.5032469  0.50847775 0.50062954 0.5001466  0.50336856\n",
            " 0.5024362  0.50006026 0.5009796  0.5019523  0.5001754  0.50096774\n",
            " 0.50319767 0.50054866 0.50182873 0.5046981  0.5033597  0.50512415\n",
            " 0.50483483 0.5014438  0.50194305 0.50123465 0.50008434 0.50341696\n",
            " 0.50045264 0.5025949  0.50230265 0.5001563  0.50238717 0.5011572\n",
            " 0.50144017 0.50044996 0.50233644 0.50212455 0.5012261  0.50025487\n",
            " 0.5008068  0.50028175 0.5020612  0.5019552  0.5036699  0.5035833\n",
            " 0.5019106  0.5008689  0.5000663  0.5018568  0.500888   0.500508\n",
            " 0.5014499  0.5001171  0.503839   0.5002827  0.5018912  0.50058854\n",
            " 0.50156236 0.501077   0.5004424  0.50066143 0.5021202  0.50402784\n",
            " 0.5026449  0.5004557  0.5001347  0.5005555  0.50083715 0.50087285\n",
            " 0.5012383  0.50178754 0.50007164 0.50061536 0.50035024 0.50409687\n",
            " 0.5041618  0.50725734 0.50100785 0.5059609  0.5033471  0.5000567\n",
            " 0.5003834  0.5026191  0.50031006 0.5008642  0.5008177  0.50193226\n",
            " 0.5019959  0.50106937 0.5004341  0.50066406 0.50575113 0.5023617\n",
            " 0.50140333 0.5010693  0.5000706  0.5018855  0.50137466 0.5004089\n",
            " 0.50492716 0.50401115 0.50000346 0.500923   0.50069857 0.5001628\n",
            " 0.5006791  0.50340325 0.50013334 0.5011139  0.50137734 0.50342333\n",
            " 0.50395393 0.50051075 0.5035721  0.5021655  0.5002876  0.50285715\n",
            " 0.50163585 0.50263757 0.50299925 0.50205386 0.5027933  0.5011403\n",
            " 0.501143   0.50303525 0.500594   0.5029259  0.5011528  0.5018968\n",
            " 0.50152516 0.5013398  0.50072265 0.50102705 0.50118047 0.50084674\n",
            " 0.50000525 0.5034939  0.5034052  0.5060979  0.5025529  0.5020137\n",
            " 0.5032606  0.50090754 0.50194335 0.50144184 0.5018807  0.50249344\n",
            " 0.5002677  0.50301665 0.50083494]\n"
          ],
          "name": "stdout"
        }
      ]
    },
    {
      "cell_type": "code",
      "metadata": {
        "id": "4GaNYoO-vWf8",
        "colab_type": "code",
        "colab": {
          "base_uri": "https://localhost:8080/",
          "height": 121
        },
        "outputId": "be0df9e1-1deb-4134-c190-0dc3cf2e8256"
      },
      "source": [
        "idxs = np.where(numbers < 1000)\n",
        "print(idxs)\n",
        "selected_numbers = numbers[idxs]\n",
        "print(len(selected_numbers), selected_numbers)"
      ],
      "execution_count": 13,
      "outputs": [
        {
          "output_type": "stream",
          "text": [
            "(array([ 0,  1,  2,  3,  4,  5,  6,  7,  8,  9, 10, 11, 12, 13, 14, 15, 16,\n",
            "       17, 18, 19, 20, 21, 22, 23, 24, 25, 26, 27, 28, 29, 30, 31, 32, 33,\n",
            "       34, 35, 36, 37, 38, 39, 40, 41, 42, 43, 44, 45, 46, 47]),)\n",
            "48 [  6  44  52  72 197 217 219 230 279 283 298 356 392 422 463 468 479 487\n",
            " 507 510 520 537 540 550 557 559 560 567 586 594 595 604 623 628 637 661\n",
            " 706 720 732 802 803 823 895 903 928 950 974 994]\n"
          ],
          "name": "stdout"
        }
      ]
    },
    {
      "cell_type": "code",
      "metadata": {
        "id": "81SLF71vvWf_",
        "colab_type": "code",
        "colab": {
          "base_uri": "https://localhost:8080/",
          "height": 35
        },
        "outputId": "02dff0ed-edb3-4e6e-b4df-7a3dfea28190"
      },
      "source": [
        "avg_all_probas = np.average(probas)\n",
        "print(avg_all_probas)"
      ],
      "execution_count": 11,
      "outputs": [
        {
          "output_type": "stream",
          "text": [
            "0.5020542709230769\n"
          ],
          "name": "stdout"
        }
      ]
    },
    {
      "cell_type": "code",
      "metadata": {
        "id": "r-HpPPG7x4NZ",
        "colab_type": "code",
        "colab": {
          "base_uri": "https://localhost:8080/",
          "height": 173
        },
        "outputId": "5ca179c5-2cd3-4591-95ea-2d449130a986"
      },
      "source": [
        "avg_selected_probas = np.average(probas[idxs])\n",
        "print(probas[idxs])\n",
        "print(avg_selected_probas)"
      ],
      "execution_count": 15,
      "outputs": [
        {
          "output_type": "stream",
          "text": [
            "[0.5002664  0.5030543  0.5011834  0.50345784 0.5030445  0.50096476\n",
            " 0.5014635  0.5052597  0.5015462  0.5009198  0.5042279  0.50006586\n",
            " 0.50178766 0.5023342  0.50314224 0.5004783  0.5055111  0.50520676\n",
            " 0.502752   0.50549245 0.5023156  0.50282675 0.50116205 0.50143045\n",
            " 0.5035101  0.5000821  0.50057685 0.50085443 0.5011579  0.5002063\n",
            " 0.50650465 0.50328237 0.5013409  0.5014749  0.5012579  0.50692064\n",
            " 0.505105   0.5018501  0.5014952  0.50276613 0.50555366 0.50691855\n",
            " 0.5031804  0.50596476 0.50178415 0.50021064 0.5042699  0.50111026]\n",
            "0.5026514897916666\n"
          ],
          "name": "stdout"
        }
      ]
    },
    {
      "cell_type": "code",
      "metadata": {
        "id": "Fp5uKGwwzJtg",
        "colab_type": "code",
        "colab": {
          "base_uri": "https://localhost:8080/",
          "height": 52
        },
        "outputId": "adba2c68-db1e-4303-bd79-8e6de54d2e44"
      },
      "source": [
        "selected_idxs = np.where(probas[idxs] > avg_selected_probas)\n",
        "print(selected_numbers[selected_idxs])"
      ],
      "execution_count": 16,
      "outputs": [
        {
          "output_type": "stream",
          "text": [
            "[ 44  72 197 230 298 463 479 487 507 510 537 557 595 604 661 706 802 803\n",
            " 823 895 903 974]\n"
          ],
          "name": "stdout"
        }
      ]
    },
    {
      "cell_type": "code",
      "metadata": {
        "id": "xX7AB3FQ1K7G",
        "colab_type": "code",
        "colab": {
          "base_uri": "https://localhost:8080/",
          "height": 52
        },
        "outputId": "0b02a8f2-21ff-455b-cdb9-447ce213e0e1"
      },
      "source": [
        "selected_idxs = np.where(probas[idxs] > avg_all_probas)\n",
        "print(selected_numbers[selected_idxs])"
      ],
      "execution_count": 17,
      "outputs": [
        {
          "output_type": "stream",
          "text": [
            "[ 44  72 197 230 298 422 463 479 487 507 510 520 537 557 595 604 661 706\n",
            " 802 803 823 895 903 974]\n"
          ],
          "name": "stdout"
        }
      ]
    },
    {
      "cell_type": "code",
      "metadata": {
        "id": "6hwebDKs1W7p",
        "colab_type": "code",
        "colab": {}
      },
      "source": [
        ""
      ],
      "execution_count": 0,
      "outputs": []
    }
  ]
}
{
 "cells": [
  {
   "cell_type": "code",
   "execution_count": 4,
   "metadata": {
    "colab": {},
    "colab_type": "code",
    "id": "Y-2caZD3Qnns"
   },
   "outputs": [],
   "source": [
    "# pandas and numpy for data manipulation\n",
    "import pandas as pd\n",
    "import numpy as np\n",
    "\n",
    "# Visualization\n",
    "import matplotlib.pyplot as plt\n",
    "import seaborn as sns\n",
    "\n",
    "plt.style.use('fivethirtyeight')\n",
    "%matplotlib inline\n",
    "\n",
    "# Automated feature engineering\n",
    "import featuretools as ft\n",
    "\n",
    "# Machine learning\n",
    "from sklearn.pipeline import Pipeline\n",
    "from sklearn.preprocessing import Imputer, MinMaxScaler\n",
    "from sklearn.metrics import precision_score, recall_score, f1_score, roc_auc_score, precision_recall_curve, roc_curve\n",
    "from sklearn.model_selection import train_test_split, cross_val_score\n",
    "from sklearn.ensemble import RandomForestClassifier\n",
    "\n",
    "from pathlib import Path\n",
    "\n",
    "from IPython.display import display\n",
    "\n",
    "# The Answer to the Ultimate Question of Life, the Universe, and Everything.\n",
    "np.random.seed(42)"
   ]
  },
  {
   "cell_type": "code",
   "execution_count": null,
   "metadata": {
    "colab": {},
    "colab_type": "code",
    "id": "uX4MO0CWQnny"
   },
   "outputs": [],
   "source": [
    "DATASET = Path(\"../input/data_processed_2.csv\")\n",
    "\n",
    "# Read into data frame\n",
    "dataset = pd.read_csv(DATASET, header=0, sep=',', quotechar='\"', parse_dates=['DrawDate'], dtype={'PrizeType': str})\n",
    "\n",
    "df = dataset.copy()"
   ]
  },
  {
   "cell_type": "code",
   "execution_count": null,
   "metadata": {},
   "outputs": [],
   "source": [
    "df.columns"
   ]
  },
  {
   "cell_type": "code",
   "execution_count": null,
   "metadata": {
    "colab": {
     "base_uri": "https://localhost:8080/",
     "height": 370
    },
    "colab_type": "code",
    "id": "PeqLRK6HQnn_",
    "outputId": "6bf7e317-fa1a-494b-c72d-a4ffba39e5df"
   },
   "outputs": [],
   "source": [
    "columns = ['DrawNo', 'DrawDate', 'PrizeType', '1st_digit', '2nd_digit', '3rd_digit', '4th_digit', 'LuckyNo']\n",
    "df = df[columns]\n",
    "print(df.shape)\n",
    "df.head(10)"
   ]
  },
  {
   "cell_type": "code",
   "execution_count": null,
   "metadata": {
    "colab": {},
    "colab_type": "code",
    "id": "RIiTmg10UCVa"
   },
   "outputs": [],
   "source": [
    "df.rename(columns={\"DrawNo\": \"draw_no\", \"DrawDate\": \"draw_date\", \"PrizeType\": \"prize_type\", \"LuckyNo\": \"lucky_no\" }, inplace=True)\n",
    "df.info()"
   ]
  },
  {
   "cell_type": "code",
   "execution_count": null,
   "metadata": {
    "colab": {},
    "colab_type": "code",
    "id": "M0Z9x8zgQnoQ"
   },
   "outputs": [],
   "source": [
    "df['number_id'] = df.groupby(['lucky_no']).ngroup()\n",
    "df.loc[lambda df: df['number_id'] == 1346]"
   ]
  },
  {
   "cell_type": "code",
   "execution_count": null,
   "metadata": {
    "colab": {
     "base_uri": "https://localhost:8080/",
     "height": 139
    },
    "colab_type": "code",
    "id": "nF4T4FbFQnoV",
    "outputId": "6ff767b5-f14d-49a5-d054-fc023560bf20"
   },
   "outputs": [],
   "source": [
    "df = df[[\"number_id\", \"draw_no\", \"draw_date\", \"prize_type\", '1st_digit', '2nd_digit', '3rd_digit', '4th_digit', \"lucky_no\"]]\n",
    "df.head(3)"
   ]
  },
  {
   "cell_type": "markdown",
   "metadata": {
    "colab_type": "text",
    "id": "jnYAzEezXMVz"
   },
   "source": [
    "## Making Labels"
   ]
  },
  {
   "cell_type": "code",
   "execution_count": null,
   "metadata": {
    "colab": {},
    "colab_type": "code",
    "id": "XkXd7ypeXROT"
   },
   "outputs": [],
   "source": [
    "# Start year to generate the labels\n",
    "START_YEAR = 2014\n",
    "\n",
    "def make_cutoffs(draw_date):\n",
    "  all_numbers = df[df['draw_date'] <= draw_date]['number_id'].unique()\n",
    "  matched_numbers = df[df['draw_date'] == draw_date]['number_id'].unique()\n",
    "  df_all = pd.DataFrame({'number_id': all_numbers, 'lucky_no': all_numbers})\n",
    "  df_all['label'] = (df_all['number_id'].isin(matched_numbers)).astype(int)\n",
    "  \n",
    "  # The cutoff time is the draw_date\n",
    "  df_all['cutoff_time'] = pd.to_datetime(draw_date)\n",
    "  df_all = df_all[['number_id', 'cutoff_time', 'lucky_no', 'label']]\n",
    "  return df_all     "
   ]
  },
  {
   "cell_type": "code",
   "execution_count": null,
   "metadata": {
    "colab": {
     "base_uri": "https://localhost:8080/",
     "height": 582
    },
    "colab_type": "code",
    "id": "reB2wOPjzJ9x",
    "outputId": "3243987a-dc74-4532-9976-ea07aa2b23e5"
   },
   "outputs": [],
   "source": [
    "# Testing\n",
    "df_draw = make_cutoffs(pd.datetime(2014, 1, 4))\n",
    "print(df_draw.loc[df_draw['label'] ==1].count())\n",
    "\n",
    "plt.figure(figsize=(8,8))\n",
    "df_draw['label'].value_counts().plot.bar();\n",
    "plt.title('Label distribution')"
   ]
  },
  {
   "cell_type": "code",
   "execution_count": null,
   "metadata": {
    "colab": {
     "base_uri": "https://localhost:8080/",
     "height": 747
    },
    "colab_type": "code",
    "id": "9gJ-dU3_FCFi",
    "outputId": "7a820dea-7f58-4778-cda9-e204d40e6007"
   },
   "outputs": [],
   "source": [
    "df.loc[df['draw_date'] == pd.datetime(START_YEAR,1,4)].sort_values(['lucky_no'])"
   ]
  },
  {
   "cell_type": "code",
   "execution_count": null,
   "metadata": {
    "colab": {},
    "colab_type": "code",
    "id": "nBVSNnSQXRZB"
   },
   "outputs": [],
   "source": [
    "\n",
    "# labels = pd.DataFrame()\n",
    "# for dt in df.loc[df['draw_date'].dt.year >= START_YEAR]['draw_date'].unique():\n",
    "#   df_draw = make_cutoffs(dt)\n",
    "#   if labels.empty:\n",
    "#     labels = df_draw\n",
    "#   else:\n",
    "#     labels = pd.concat([labels, df_draw], axis=0)\n",
    "#   #print(dt, labels.shape, len(labels.loc[labels['label'] == 1]))\n",
    "\n",
    "\n",
    "# print(labels.shape, len(labels.loc[labels['label'] == 1]))\n",
    "# labels.to_csv('labels.csv', index=False)\n",
    "\n",
    "# !tar cvf labels.tar labels.csv \n",
    "# !gzip labels.tar\n",
    "\n",
    "# from google.colab import files\n",
    "# files.download('labels.tar.gz')"
   ]
  },
  {
   "cell_type": "code",
   "execution_count": null,
   "metadata": {},
   "outputs": [],
   "source": [
    "df.loc[df['draw_date'].dt.year <= START_YEAR]['lucky_no'].nunique()"
   ]
  },
  {
   "cell_type": "code",
   "execution_count": null,
   "metadata": {
    "colab": {},
    "colab_type": "code",
    "id": "xbRtawggGMoa"
   },
   "outputs": [],
   "source": [
    "labels = pd.read_csv('../input/labels/labels.csv', header=0, sep=',', quotechar='\"', parse_dates=['cutoff_time'])\n",
    "print(labels.shape)\n",
    "print(labels.info())"
   ]
  },
  {
   "cell_type": "code",
   "execution_count": null,
   "metadata": {
    "colab": {
     "base_uri": "https://localhost:8080/",
     "height": 352
    },
    "colab_type": "code",
    "id": "SE6pxzDwG9gn",
    "outputId": "7d869333-4576-4f11-bfd0-d382a5145da5"
   },
   "outputs": [],
   "source": [
    "labels.loc[labels['cutoff_time'].dt.year == START_YEAR + 1].head(10000)\n",
    "# labels[labels.isnull().any(axis=1)].head()"
   ]
  },
  {
   "cell_type": "markdown",
   "metadata": {
    "colab_type": "text",
    "id": "emOJwpx_Qnoi"
   },
   "source": [
    "### Generate new features"
   ]
  },
  {
   "cell_type": "code",
   "execution_count": null,
   "metadata": {
    "colab": {
     "base_uri": "https://localhost:8080/",
     "height": 352
    },
    "colab_type": "code",
    "id": "YV7jk8ZDQnol",
    "outputId": "d1a506f3-2f2f-4297-ab0c-c2e61ca37e36"
   },
   "outputs": [],
   "source": [
    "df.head(10)"
   ]
  },
  {
   "cell_type": "code",
   "execution_count": null,
   "metadata": {
    "colab": {},
    "colab_type": "code",
    "id": "KE3BfV7wQno2"
   },
   "outputs": [],
   "source": [
    "es = ft.EntitySet(id=\"Results\")\n",
    "\n",
    "# Add the entire data table as an entity\n",
    "es.entity_from_dataframe(\"results\",\n",
    "                         dataframe=df,\n",
    "                         index=\"results_index\",\n",
    "                         time_index = 'draw_date')\n",
    "\n",
    "es['results']"
   ]
  },
  {
   "cell_type": "code",
   "execution_count": null,
   "metadata": {
    "colab": {
     "base_uri": "https://localhost:8080/",
     "height": 200
    },
    "colab_type": "code",
    "id": "bikjREJCQno6",
    "outputId": "578900ae-f0e4-44f6-9887-d77613343426"
   },
   "outputs": [],
   "source": [
    "# Create a new entity\n",
    "es.normalize_entity(new_entity_id=\"numbers\",\n",
    "                    base_entity_id=\"results\",\n",
    "                    index=\"number_id\",\n",
    "                    additional_variables=[\"lucky_no\"])\n",
    "es['numbers'].df.head()"
   ]
  },
  {
   "cell_type": "code",
   "execution_count": null,
   "metadata": {
    "colab": {
     "base_uri": "https://localhost:8080/",
     "height": 35
    },
    "colab_type": "code",
    "id": "UMz5KeRXLcgN",
    "outputId": "28b3f274-4d20-4485-ec0d-fb60c8488c04"
   },
   "outputs": [],
   "source": [
    "print(es['numbers'].df.shape)\n",
    "print(es['numbers'].df.loc[lambda df: df['lucky_no'] == 19].head())"
   ]
  },
  {
   "cell_type": "code",
   "execution_count": null,
   "metadata": {
    "colab": {
     "base_uri": "https://localhost:8080/",
     "height": 352
    },
    "colab_type": "code",
    "id": "zj64nCmaQno8",
    "outputId": "1efbdd54-842f-41e1-e030-62c5d33e6f79"
   },
   "outputs": [],
   "source": [
    "es['results'].df.loc[lambda df: df['number_id'] == 19].head()"
   ]
  },
  {
   "cell_type": "code",
   "execution_count": null,
   "metadata": {
    "colab": {
     "base_uri": "https://localhost:8080/",
     "height": 124
    },
    "colab_type": "code",
    "id": "x4QY3nTXQnpD",
    "outputId": "18d7f8c1-c5ef-4526-e07e-80ad321f7240"
   },
   "outputs": [],
   "source": [
    "es"
   ]
  },
  {
   "cell_type": "markdown",
   "metadata": {
    "colab_type": "text",
    "id": "vqaB8vmnQnpF"
   },
   "source": [
    "#### Generate features"
   ]
  },
  {
   "cell_type": "code",
   "execution_count": null,
   "metadata": {
    "colab": {},
    "colab_type": "code",
    "id": "_kl1X5RFOiDj"
   },
   "outputs": [],
   "source": [
    "labels['number_id'] = labels['number_id'].astype(int)\n",
    "labels.loc[labels['cutoff_time'] == pd.datetime(2014,1,22)].describe()"
   ]
  },
  {
   "cell_type": "code",
   "execution_count": null,
   "metadata": {
    "colab": {
     "base_uri": "https://localhost:8080/",
     "height": 52
    },
    "colab_type": "code",
    "id": "ASQJn7CeQnpG",
    "outputId": "b05a9f34-99df-4df3-fcdd-9ed9e83d1b3c"
   },
   "outputs": [],
   "source": [
    "feature_matrix, feature_names = ft.dfs(entityset=es, target_entity='numbers',\n",
    "                                       cutoff_time = labels[3569594:], verbose = 2,\n",
    "                                       cutoff_time_in_index = True,\n",
    "                                       chunk_size = len(labels), n_jobs = -1,\n",
    "                                       max_depth = 2)"
   ]
  },
  {
   "cell_type": "code",
   "execution_count": null,
   "metadata": {},
   "outputs": [],
   "source": [
    "df.loc[df['draw_date'].dt.year == START_YEAR]"
   ]
  },
  {
   "cell_type": "code",
   "execution_count": null,
   "metadata": {},
   "outputs": [],
   "source": [
    "display(feature_matrix.head(100).T)"
   ]
  },
  {
   "cell_type": "code",
   "execution_count": null,
   "metadata": {},
   "outputs": [],
   "source": [
    "type(feature_matrix), type(feature_names)"
   ]
  },
  {
   "cell_type": "code",
   "execution_count": null,
   "metadata": {},
   "outputs": [],
   "source": [
    "feature_names"
   ]
  },
  {
   "cell_type": "code",
   "execution_count": null,
   "metadata": {},
   "outputs": [],
   "source": [
    "feature_matrix.info()"
   ]
  },
  {
   "cell_type": "markdown",
   "metadata": {},
   "source": [
    "#### Correlations"
   ]
  },
  {
   "cell_type": "code",
   "execution_count": null,
   "metadata": {},
   "outputs": [],
   "source": [
    "feature_matrix = pd.get_dummies(feature_matrix).reset_index()\n",
    "feature_matrix.shape"
   ]
  },
  {
   "cell_type": "code",
   "execution_count": null,
   "metadata": {},
   "outputs": [],
   "source": [
    "corrs = feature_matrix.corr().sort_values('lucky_no')\n",
    "corrs['lucky_no'].head()"
   ]
  },
  {
   "cell_type": "code",
   "execution_count": null,
   "metadata": {},
   "outputs": [],
   "source": [
    "corrs['lucky_no'].dropna().tail(20)"
   ]
  },
  {
   "cell_type": "code",
   "execution_count": null,
   "metadata": {},
   "outputs": [],
   "source": [
    "g = sns.FacetGrid(feature_matrix[(feature_matrix['MAX(results.1st_digit)'] > 0) & (feature_matrix['MAX(results.1st_digit)'] < 10)],\n",
    "                  hue = 'label', size = 4, aspect = 3)\n",
    "g.map(sns.kdeplot, 'MAX(results.1st_digit)')\n",
    "g.add_legend();\n",
    "plt.title('Distribution of Digits Total by Label');"
   ]
  },
  {
   "cell_type": "code",
   "execution_count": null,
   "metadata": {},
   "outputs": [],
   "source": [
    "feature_matrix.to_csv(\"feature_matrix.csv\", index=False)"
   ]
  },
  {
   "cell_type": "code",
   "execution_count": null,
   "metadata": {},
   "outputs": [],
   "source": [
    "myfeature = pd.read_csv(\"feature_matrix.csv\")\n",
    "myfeature.head(10)"
   ]
  },
  {
   "cell_type": "code",
   "execution_count": null,
   "metadata": {},
   "outputs": [],
   "source": []
  }
 ],
 "metadata": {
  "accelerator": "GPU",
  "colab": {
   "name": "02_3_feature_generation.ipynb",
   "provenance": []
  },
  "kernelspec": {
   "display_name": "Python 3",
   "language": "python",
   "name": "python3"
  },
  "language_info": {
   "codemirror_mode": {
    "name": "ipython",
    "version": 3
   },
   "file_extension": ".py",
   "mimetype": "text/x-python",
   "name": "python",
   "nbconvert_exporter": "python",
   "pygments_lexer": "ipython3",
   "version": "3.7.2"
  }
 },
 "nbformat": 4,
 "nbformat_minor": 2
}

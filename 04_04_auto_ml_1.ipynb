{
  "nbformat": 4,
  "nbformat_minor": 0,
  "metadata": {
    "accelerator": "GPU",
    "colab": {
      "name": "04_02_automated_machine_learning.ipynb",
      "provenance": [],
      "toc_visible": true,
      "include_colab_link": true
    },
    "kernelspec": {
      "display_name": "Python 3",
      "language": "python",
      "name": "python3"
    },
    "language_info": {
      "codemirror_mode": {
        "name": "ipython",
        "version": 3
      },
      "file_extension": ".py",
      "mimetype": "text/x-python",
      "name": "python",
      "nbconvert_exporter": "python",
      "pygments_lexer": "ipython3",
      "version": "3.7.2"
    }
  },
  "cells": [
    {
      "cell_type": "markdown",
      "metadata": {
        "id": "view-in-github",
        "colab_type": "text"
      },
      "source": [
        "<a href=\"https://colab.research.google.com/github/mengwangk/dl-projects/blob/master/04_04_auto_ml_1.ipynb\" target=\"_parent\"><img src=\"https://colab.research.google.com/assets/colab-badge.svg\" alt=\"Open In Colab\"/></a>"
      ]
    },
    {
      "cell_type": "markdown",
      "metadata": {
        "colab_type": "text",
        "id": "4hyoPGdjpqa_"
      },
      "source": [
        "# Automated ML - Generate Data"
      ]
    },
    {
      "cell_type": "code",
      "metadata": {
        "colab_type": "code",
        "id": "SLxr2k_ue8yq",
        "colab": {}
      },
      "source": [
        "COLAB = True\n",
        "\n",
        "DATASET_NAME = '4D.zip'\n",
        "\n",
        "FEATURE_DATASET_PREFIX = 'feature_matrix_d2_v1'"
      ],
      "execution_count": 0,
      "outputs": []
    },
    {
      "cell_type": "code",
      "metadata": {
        "colab_type": "code",
        "id": "uHQEWP-jXPzH",
        "outputId": "b1c7b997-dc4d-4901-d9bb-758f3f9b3094",
        "colab": {
          "base_uri": "https://localhost:8080/",
          "height": 938
        }
      },
      "source": [
        "if COLAB:\n",
        "  !pip install -U featuretools\n",
        "  # !sudo apt-get install git-lfs && git lfs install\n",
        "  from google.colab import drive\n",
        "  drive.mount('/content/gdrive')\n",
        "  !rm -rf dl-projects\n",
        "  !git clone https://github.com/mengwangk/dl-projects\n",
        "  !cd dl-projects && ls"
      ],
      "execution_count": 3,
      "outputs": [
        {
          "output_type": "stream",
          "text": [
            "Requirement already up-to-date: featuretools in /usr/local/lib/python3.6/dist-packages (0.13.1)\n",
            "Requirement already satisfied, skipping upgrade: click>=7.0.0 in /usr/local/lib/python3.6/dist-packages (from featuretools) (7.0)\n",
            "Requirement already satisfied, skipping upgrade: pandas>=0.24.1 in /usr/local/lib/python3.6/dist-packages (from featuretools) (0.25.3)\n",
            "Requirement already satisfied, skipping upgrade: scipy>=0.13.3 in /usr/local/lib/python3.6/dist-packages (from featuretools) (1.3.3)\n",
            "Requirement already satisfied, skipping upgrade: numpy>=1.13.3 in /usr/local/lib/python3.6/dist-packages (from featuretools) (1.17.4)\n",
            "Requirement already satisfied, skipping upgrade: tqdm>=4.32.0 in /usr/local/lib/python3.6/dist-packages (from featuretools) (4.41.1)\n",
            "Requirement already satisfied, skipping upgrade: psutil>=5.4.8 in /usr/local/lib/python3.6/dist-packages (from featuretools) (5.4.8)\n",
            "Requirement already satisfied, skipping upgrade: distributed>=1.24.2 in /usr/local/lib/python3.6/dist-packages (from featuretools) (1.25.3)\n",
            "Requirement already satisfied, skipping upgrade: pyyaml>=3.12 in /usr/local/lib/python3.6/dist-packages (from featuretools) (3.13)\n",
            "Requirement already satisfied, skipping upgrade: dask>=1.1.0 in /usr/local/lib/python3.6/dist-packages (from featuretools) (1.1.5)\n",
            "Requirement already satisfied, skipping upgrade: cloudpickle>=0.4.0 in /usr/local/lib/python3.6/dist-packages (from featuretools) (1.2.2)\n",
            "Requirement already satisfied, skipping upgrade: pytz>=2017.2 in /usr/local/lib/python3.6/dist-packages (from pandas>=0.24.1->featuretools) (2018.9)\n",
            "Requirement already satisfied, skipping upgrade: python-dateutil>=2.6.1 in /usr/local/lib/python3.6/dist-packages (from pandas>=0.24.1->featuretools) (2.6.1)\n",
            "Requirement already satisfied, skipping upgrade: sortedcontainers!=2.0.0,!=2.0.1 in /usr/local/lib/python3.6/dist-packages (from distributed>=1.24.2->featuretools) (2.1.0)\n",
            "Requirement already satisfied, skipping upgrade: six in /usr/local/lib/python3.6/dist-packages (from distributed>=1.24.2->featuretools) (1.12.0)\n",
            "Requirement already satisfied, skipping upgrade: toolz>=0.7.4 in /usr/local/lib/python3.6/dist-packages (from distributed>=1.24.2->featuretools) (0.10.0)\n",
            "Requirement already satisfied, skipping upgrade: tornado>=4.5.1 in /usr/local/lib/python3.6/dist-packages (from distributed>=1.24.2->featuretools) (4.5.3)\n",
            "Requirement already satisfied, skipping upgrade: tblib in /usr/local/lib/python3.6/dist-packages (from distributed>=1.24.2->featuretools) (1.6.0)\n",
            "Requirement already satisfied, skipping upgrade: msgpack in /usr/local/lib/python3.6/dist-packages (from distributed>=1.24.2->featuretools) (0.5.6)\n",
            "Requirement already satisfied, skipping upgrade: zict>=0.1.3 in /usr/local/lib/python3.6/dist-packages (from distributed>=1.24.2->featuretools) (1.0.0)\n",
            "Requirement already satisfied, skipping upgrade: heapdict in /usr/local/lib/python3.6/dist-packages (from zict>=0.1.3->distributed>=1.24.2->featuretools) (1.0.1)\n",
            "Go to this URL in a browser: https://accounts.google.com/o/oauth2/auth?client_id=947318989803-6bn6qk8qdgf4n4g3pfee6491hc0brc4i.apps.googleusercontent.com&redirect_uri=urn%3aietf%3awg%3aoauth%3a2.0%3aoob&response_type=code&scope=email%20https%3a%2f%2fwww.googleapis.com%2fauth%2fdocs.test%20https%3a%2f%2fwww.googleapis.com%2fauth%2fdrive%20https%3a%2f%2fwww.googleapis.com%2fauth%2fdrive.photos.readonly%20https%3a%2f%2fwww.googleapis.com%2fauth%2fpeopleapi.readonly\n",
            "\n",
            "Enter your authorization code:\n",
            "··········\n",
            "Mounted at /content/gdrive\n",
            "Cloning into 'dl-projects'...\n",
            "remote: Enumerating objects: 91, done.\u001b[K\n",
            "remote: Counting objects: 100% (91/91), done.\u001b[K\n",
            "remote: Compressing objects: 100% (84/84), done.\u001b[K\n",
            "remote: Total 872 (delta 57), reused 13 (delta 7), pack-reused 781\u001b[K\n",
            "Receiving objects: 100% (872/872), 68.85 MiB | 23.62 MiB/s, done.\n",
            "Resolving deltas: 100% (505/505), done.\n",
            "01_01_tensor.ipynb\t       04_02_auto_ml_5.ipynb  d03_train_dl.ipynb\n",
            "01_02_correlation.ipynb        04_03_auto_ml_1.ipynb  d04_train_ml.ipynb\n",
            "01_03_preprocessing.ipynb      04_03_auto_ml_2.ipynb  datasets\n",
            "01_04_numpy.ipynb\t       04_03_auto_ml_3.ipynb  exp\n",
            "01_05_parallelization.ipynb    04_04_auto_ml_1.ipynb  featurelib\n",
            "01_06_pandas..ipynb\t       04_10_basic_nn.ipynb   LICENSE\n",
            "01_07_python_0.ipynb\t       04_11_cnn.ipynb\t      lstm_s1.ipynb\n",
            "01_07_python_1.ipynb\t       04_12_rnn.ipynb\t      lstm_s2.ipynb\n",
            "02_1_feature_engineer.ipynb    04_13_embedding.ipynb  lstm_s3.ipynb\n",
            "02_2_feature_generation.ipynb  05_calculus.ipynb      lstm_s4.ipynb\n",
            "02_3_feature_generation.ipynb  06_stats.ipynb\t      lstm_s5.ipynb\n",
            "02_4_feature_generation.ipynb  07_algebra.ipynb       lstm_s6.ipynb\n",
            "03_1_feature_selection.ipynb   08_probability.ipynb   notebook2script.py\n",
            "03_2_feature_selection.ipynb   09_evaluation.ipynb    preprocess.py\n",
            "04_01_machine_learning.ipynb   50_RL.ipynb\t      README.md\n",
            "04_02_auto_ml_0.ipynb\t       999_Links.ipynb\t      run_notebook.py\n",
            "04_02_auto_ml_1.ipynb\t       archive\t\t      scraper\n",
            "04_02_auto_ml_2.ipynb\t       d01_download.ipynb     stock.ipynb\n",
            "04_02_auto_ml_3.ipynb\t       d02_0_features.ipynb   utils.py\n",
            "04_02_auto_ml_4.ipynb\t       d02_1_features.ipynb\n"
          ],
          "name": "stdout"
        }
      ]
    },
    {
      "cell_type": "code",
      "metadata": {
        "colab_type": "code",
        "id": "G2xin10SfozR",
        "colab": {}
      },
      "source": [
        "if COLAB:\n",
        "  !cp dl-projects/utils* .\n",
        "  !cp dl-projects/preprocess* ."
      ],
      "execution_count": 0,
      "outputs": []
    },
    {
      "cell_type": "code",
      "metadata": {
        "colab_type": "code",
        "id": "fC2-l3JBpqbE",
        "colab": {}
      },
      "source": [
        "%reload_ext autoreload\n",
        "%autoreload 2\n",
        "\n",
        "%matplotlib inline"
      ],
      "execution_count": 0,
      "outputs": []
    },
    {
      "cell_type": "code",
      "metadata": {
        "colab_type": "code",
        "id": "TP7V_IzepqbK",
        "colab": {}
      },
      "source": [
        "import numpy as np\n",
        "import pandas as pd\n",
        "import seaborn as sns\n",
        "import matplotlib.pyplot as plt\n",
        "import scipy.stats as ss\n",
        "import math \n",
        "import matplotlib\n",
        "import re\n",
        "\n",
        "from scipy import stats\n",
        "from collections import Counter\n",
        "from pathlib import Path\n",
        "\n",
        "plt.style.use('fivethirtyeight')\n",
        "\n",
        "sns.set(style=\"ticks\")\n",
        "\n",
        "# Automated feature engineering\n",
        "import featuretools as ft\n",
        "\n",
        "# Machine learning\n",
        "from sklearn.pipeline import Pipeline\n",
        "from sklearn.preprocessing import Imputer, MinMaxScaler, StandardScaler\n",
        "from sklearn.metrics import precision_score, recall_score, f1_score, roc_auc_score, precision_recall_curve, roc_curve\n",
        "from sklearn.model_selection import train_test_split, cross_val_score\n",
        "from sklearn.ensemble import RandomForestClassifier\n",
        "from dateutil.relativedelta import relativedelta\n",
        "\n",
        "from IPython.display import display\n",
        "\n",
        "from utils import *\n",
        "from preprocess import *\n",
        "\n",
        "# The Answer to the Ultimate Question of Life, the Universe, and Everything.\n",
        "np.random.seed(42)"
      ],
      "execution_count": 0,
      "outputs": []
    },
    {
      "cell_type": "code",
      "metadata": {
        "colab_type": "code",
        "id": "3bFT5CoxpqbP",
        "outputId": "1e5d999d-cf0d-4938-c485-904615e6d86f",
        "colab": {
          "base_uri": "https://localhost:8080/",
          "height": 102
        }
      },
      "source": [
        "%aimport"
      ],
      "execution_count": 11,
      "outputs": [
        {
          "output_type": "stream",
          "text": [
            "Modules to reload:\n",
            "all-except-skipped\n",
            "\n",
            "Modules to skip:\n",
            "\n"
          ],
          "name": "stdout"
        }
      ]
    },
    {
      "cell_type": "markdown",
      "metadata": {
        "colab_type": "text",
        "id": "3E16jPVPpqbV"
      },
      "source": [
        "## Preparation"
      ]
    },
    {
      "cell_type": "code",
      "metadata": {
        "colab_type": "code",
        "id": "9IgnETKkpqbX",
        "colab": {}
      },
      "source": [
        "if COLAB:\n",
        "  DATASET_PATH = Path(\"dl-projects/datasets\")\n",
        "else:\n",
        "  DATASET_PATH = Path(\"datasets\")\n",
        "\n",
        "DATASET = DATASET_PATH/DATASET_NAME"
      ],
      "execution_count": 0,
      "outputs": []
    },
    {
      "cell_type": "code",
      "metadata": {
        "colab_type": "code",
        "id": "vD-iIrCipqbc",
        "colab": {}
      },
      "source": [
        "data = format_tabular(DATASET)"
      ],
      "execution_count": 0,
      "outputs": []
    },
    {
      "cell_type": "code",
      "metadata": {
        "colab_type": "code",
        "id": "BbDpkNHPpqbi",
        "outputId": "a6b7e307-f85c-4b7f-c1b2-2983161038f2",
        "colab": {
          "base_uri": "https://localhost:8080/",
          "height": 170
        }
      },
      "source": [
        "data.info()"
      ],
      "execution_count": 14,
      "outputs": [
        {
          "output_type": "stream",
          "text": [
            "<class 'pandas.core.frame.DataFrame'>\n",
            "RangeIndex: 106858 entries, 0 to 106857\n",
            "Data columns (total 4 columns):\n",
            "DrawNo       106858 non-null int64\n",
            "DrawDate     106858 non-null datetime64[ns]\n",
            "PrizeType    106858 non-null object\n",
            "LuckyNo      106858 non-null int64\n",
            "dtypes: datetime64[ns](1), int64(2), object(1)\n",
            "memory usage: 3.3+ MB\n"
          ],
          "name": "stdout"
        }
      ]
    },
    {
      "cell_type": "code",
      "metadata": {
        "colab_type": "code",
        "id": "WY4duu6Tpqbp",
        "outputId": "f8c5d3c8-f667-45f3-f695-98fad61b4209",
        "colab": {
          "base_uri": "https://localhost:8080/",
          "height": 793
        }
      },
      "source": [
        "data.tail(24)"
      ],
      "execution_count": 31,
      "outputs": [
        {
          "output_type": "execute_result",
          "data": {
            "text/html": [
              "<div>\n",
              "<style scoped>\n",
              "    .dataframe tbody tr th:only-of-type {\n",
              "        vertical-align: middle;\n",
              "    }\n",
              "\n",
              "    .dataframe tbody tr th {\n",
              "        vertical-align: top;\n",
              "    }\n",
              "\n",
              "    .dataframe thead th {\n",
              "        text-align: right;\n",
              "    }\n",
              "</style>\n",
              "<table border=\"1\" class=\"dataframe\">\n",
              "  <thead>\n",
              "    <tr style=\"text-align: right;\">\n",
              "      <th></th>\n",
              "      <th>DrawNo</th>\n",
              "      <th>DrawDate</th>\n",
              "      <th>PrizeType</th>\n",
              "      <th>LuckyNo</th>\n",
              "      <th>NumberId</th>\n",
              "    </tr>\n",
              "  </thead>\n",
              "  <tbody>\n",
              "    <tr>\n",
              "      <th>106834</th>\n",
              "      <td>505219</td>\n",
              "      <td>2019-12-29 00:01:00</td>\n",
              "      <td>Special</td>\n",
              "      <td>2528</td>\n",
              "      <td>2528</td>\n",
              "    </tr>\n",
              "    <tr>\n",
              "      <th>106835</th>\n",
              "      <td>505320</td>\n",
              "      <td>2020-01-01 00:01:00</td>\n",
              "      <td>1stPrizeNo</td>\n",
              "      <td>875</td>\n",
              "      <td>875</td>\n",
              "    </tr>\n",
              "    <tr>\n",
              "      <th>106836</th>\n",
              "      <td>505320</td>\n",
              "      <td>2020-01-01 00:01:00</td>\n",
              "      <td>2ndPrizeNo</td>\n",
              "      <td>6307</td>\n",
              "      <td>6307</td>\n",
              "    </tr>\n",
              "    <tr>\n",
              "      <th>106837</th>\n",
              "      <td>505320</td>\n",
              "      <td>2020-01-01 00:01:00</td>\n",
              "      <td>3rdPrizeNo</td>\n",
              "      <td>8552</td>\n",
              "      <td>8552</td>\n",
              "    </tr>\n",
              "    <tr>\n",
              "      <th>106838</th>\n",
              "      <td>505320</td>\n",
              "      <td>2020-01-01 00:01:00</td>\n",
              "      <td>Consolation</td>\n",
              "      <td>2114</td>\n",
              "      <td>2114</td>\n",
              "    </tr>\n",
              "    <tr>\n",
              "      <th>106839</th>\n",
              "      <td>505320</td>\n",
              "      <td>2020-01-01 00:01:00</td>\n",
              "      <td>Consolation</td>\n",
              "      <td>4861</td>\n",
              "      <td>4861</td>\n",
              "    </tr>\n",
              "    <tr>\n",
              "      <th>106840</th>\n",
              "      <td>505320</td>\n",
              "      <td>2020-01-01 00:01:00</td>\n",
              "      <td>Consolation</td>\n",
              "      <td>508</td>\n",
              "      <td>508</td>\n",
              "    </tr>\n",
              "    <tr>\n",
              "      <th>106841</th>\n",
              "      <td>505320</td>\n",
              "      <td>2020-01-01 00:01:00</td>\n",
              "      <td>Consolation</td>\n",
              "      <td>2086</td>\n",
              "      <td>2086</td>\n",
              "    </tr>\n",
              "    <tr>\n",
              "      <th>106842</th>\n",
              "      <td>505320</td>\n",
              "      <td>2020-01-01 00:01:00</td>\n",
              "      <td>Consolation</td>\n",
              "      <td>3296</td>\n",
              "      <td>3296</td>\n",
              "    </tr>\n",
              "    <tr>\n",
              "      <th>106843</th>\n",
              "      <td>505320</td>\n",
              "      <td>2020-01-01 00:01:00</td>\n",
              "      <td>Consolation</td>\n",
              "      <td>413</td>\n",
              "      <td>413</td>\n",
              "    </tr>\n",
              "    <tr>\n",
              "      <th>106844</th>\n",
              "      <td>505320</td>\n",
              "      <td>2020-01-01 00:01:00</td>\n",
              "      <td>Consolation</td>\n",
              "      <td>4781</td>\n",
              "      <td>4781</td>\n",
              "    </tr>\n",
              "    <tr>\n",
              "      <th>106845</th>\n",
              "      <td>505320</td>\n",
              "      <td>2020-01-01 00:01:00</td>\n",
              "      <td>Consolation</td>\n",
              "      <td>1459</td>\n",
              "      <td>1459</td>\n",
              "    </tr>\n",
              "    <tr>\n",
              "      <th>106846</th>\n",
              "      <td>505320</td>\n",
              "      <td>2020-01-01 00:01:00</td>\n",
              "      <td>Consolation</td>\n",
              "      <td>7685</td>\n",
              "      <td>7685</td>\n",
              "    </tr>\n",
              "    <tr>\n",
              "      <th>106847</th>\n",
              "      <td>505320</td>\n",
              "      <td>2020-01-01 00:01:00</td>\n",
              "      <td>Consolation</td>\n",
              "      <td>6087</td>\n",
              "      <td>6087</td>\n",
              "    </tr>\n",
              "    <tr>\n",
              "      <th>106848</th>\n",
              "      <td>505320</td>\n",
              "      <td>2020-01-01 00:01:00</td>\n",
              "      <td>Special</td>\n",
              "      <td>2404</td>\n",
              "      <td>2404</td>\n",
              "    </tr>\n",
              "    <tr>\n",
              "      <th>106849</th>\n",
              "      <td>505320</td>\n",
              "      <td>2020-01-01 00:01:00</td>\n",
              "      <td>Special</td>\n",
              "      <td>7382</td>\n",
              "      <td>7382</td>\n",
              "    </tr>\n",
              "    <tr>\n",
              "      <th>106850</th>\n",
              "      <td>505320</td>\n",
              "      <td>2020-01-01 00:01:00</td>\n",
              "      <td>Special</td>\n",
              "      <td>2220</td>\n",
              "      <td>2220</td>\n",
              "    </tr>\n",
              "    <tr>\n",
              "      <th>106851</th>\n",
              "      <td>505320</td>\n",
              "      <td>2020-01-01 00:01:00</td>\n",
              "      <td>Special</td>\n",
              "      <td>3573</td>\n",
              "      <td>3573</td>\n",
              "    </tr>\n",
              "    <tr>\n",
              "      <th>106852</th>\n",
              "      <td>505320</td>\n",
              "      <td>2020-01-01 00:01:00</td>\n",
              "      <td>Special</td>\n",
              "      <td>4524</td>\n",
              "      <td>4524</td>\n",
              "    </tr>\n",
              "    <tr>\n",
              "      <th>106853</th>\n",
              "      <td>505320</td>\n",
              "      <td>2020-01-01 00:01:00</td>\n",
              "      <td>Special</td>\n",
              "      <td>6856</td>\n",
              "      <td>6856</td>\n",
              "    </tr>\n",
              "    <tr>\n",
              "      <th>106854</th>\n",
              "      <td>505320</td>\n",
              "      <td>2020-01-01 00:01:00</td>\n",
              "      <td>Special</td>\n",
              "      <td>8107</td>\n",
              "      <td>8107</td>\n",
              "    </tr>\n",
              "    <tr>\n",
              "      <th>106855</th>\n",
              "      <td>505320</td>\n",
              "      <td>2020-01-01 00:01:00</td>\n",
              "      <td>Special</td>\n",
              "      <td>1026</td>\n",
              "      <td>1026</td>\n",
              "    </tr>\n",
              "    <tr>\n",
              "      <th>106856</th>\n",
              "      <td>505320</td>\n",
              "      <td>2020-01-01 00:01:00</td>\n",
              "      <td>Special</td>\n",
              "      <td>3960</td>\n",
              "      <td>3960</td>\n",
              "    </tr>\n",
              "    <tr>\n",
              "      <th>106857</th>\n",
              "      <td>505320</td>\n",
              "      <td>2020-01-01 00:01:00</td>\n",
              "      <td>Special</td>\n",
              "      <td>5472</td>\n",
              "      <td>5472</td>\n",
              "    </tr>\n",
              "  </tbody>\n",
              "</table>\n",
              "</div>"
            ],
            "text/plain": [
              "        DrawNo            DrawDate    PrizeType  LuckyNo  NumberId\n",
              "106834  505219 2019-12-29 00:01:00      Special     2528      2528\n",
              "106835  505320 2020-01-01 00:01:00   1stPrizeNo      875       875\n",
              "106836  505320 2020-01-01 00:01:00   2ndPrizeNo     6307      6307\n",
              "106837  505320 2020-01-01 00:01:00   3rdPrizeNo     8552      8552\n",
              "106838  505320 2020-01-01 00:01:00  Consolation     2114      2114\n",
              "106839  505320 2020-01-01 00:01:00  Consolation     4861      4861\n",
              "106840  505320 2020-01-01 00:01:00  Consolation      508       508\n",
              "106841  505320 2020-01-01 00:01:00  Consolation     2086      2086\n",
              "106842  505320 2020-01-01 00:01:00  Consolation     3296      3296\n",
              "106843  505320 2020-01-01 00:01:00  Consolation      413       413\n",
              "106844  505320 2020-01-01 00:01:00  Consolation     4781      4781\n",
              "106845  505320 2020-01-01 00:01:00  Consolation     1459      1459\n",
              "106846  505320 2020-01-01 00:01:00  Consolation     7685      7685\n",
              "106847  505320 2020-01-01 00:01:00  Consolation     6087      6087\n",
              "106848  505320 2020-01-01 00:01:00      Special     2404      2404\n",
              "106849  505320 2020-01-01 00:01:00      Special     7382      7382\n",
              "106850  505320 2020-01-01 00:01:00      Special     2220      2220\n",
              "106851  505320 2020-01-01 00:01:00      Special     3573      3573\n",
              "106852  505320 2020-01-01 00:01:00      Special     4524      4524\n",
              "106853  505320 2020-01-01 00:01:00      Special     6856      6856\n",
              "106854  505320 2020-01-01 00:01:00      Special     8107      8107\n",
              "106855  505320 2020-01-01 00:01:00      Special     1026      1026\n",
              "106856  505320 2020-01-01 00:01:00      Special     3960      3960\n",
              "106857  505320 2020-01-01 00:01:00      Special     5472      5472"
            ]
          },
          "metadata": {
            "tags": []
          },
          "execution_count": 31
        }
      ]
    },
    {
      "cell_type": "code",
      "metadata": {
        "colab_type": "code",
        "id": "8qEDuHP2euiI",
        "colab": {}
      },
      "source": [
        "data['NumberId'] = data['LuckyNo']"
      ],
      "execution_count": 0,
      "outputs": []
    },
    {
      "cell_type": "code",
      "metadata": {
        "colab_type": "code",
        "id": "PEXwBE9HeuiK",
        "outputId": "b8e99594-d4eb-4de4-cb8e-ef0999744372",
        "colab": {
          "base_uri": "https://localhost:8080/",
          "height": 359
        }
      },
      "source": [
        "data.tail(10)"
      ],
      "execution_count": 17,
      "outputs": [
        {
          "output_type": "execute_result",
          "data": {
            "text/html": [
              "<div>\n",
              "<style scoped>\n",
              "    .dataframe tbody tr th:only-of-type {\n",
              "        vertical-align: middle;\n",
              "    }\n",
              "\n",
              "    .dataframe tbody tr th {\n",
              "        vertical-align: top;\n",
              "    }\n",
              "\n",
              "    .dataframe thead th {\n",
              "        text-align: right;\n",
              "    }\n",
              "</style>\n",
              "<table border=\"1\" class=\"dataframe\">\n",
              "  <thead>\n",
              "    <tr style=\"text-align: right;\">\n",
              "      <th></th>\n",
              "      <th>DrawNo</th>\n",
              "      <th>DrawDate</th>\n",
              "      <th>PrizeType</th>\n",
              "      <th>LuckyNo</th>\n",
              "      <th>NumberId</th>\n",
              "    </tr>\n",
              "  </thead>\n",
              "  <tbody>\n",
              "    <tr>\n",
              "      <th>106848</th>\n",
              "      <td>505320</td>\n",
              "      <td>2020-01-01</td>\n",
              "      <td>SpecialNo1</td>\n",
              "      <td>2404</td>\n",
              "      <td>2404</td>\n",
              "    </tr>\n",
              "    <tr>\n",
              "      <th>106849</th>\n",
              "      <td>505320</td>\n",
              "      <td>2020-01-01</td>\n",
              "      <td>SpecialNo10</td>\n",
              "      <td>7382</td>\n",
              "      <td>7382</td>\n",
              "    </tr>\n",
              "    <tr>\n",
              "      <th>106850</th>\n",
              "      <td>505320</td>\n",
              "      <td>2020-01-01</td>\n",
              "      <td>SpecialNo2</td>\n",
              "      <td>2220</td>\n",
              "      <td>2220</td>\n",
              "    </tr>\n",
              "    <tr>\n",
              "      <th>106851</th>\n",
              "      <td>505320</td>\n",
              "      <td>2020-01-01</td>\n",
              "      <td>SpecialNo3</td>\n",
              "      <td>3573</td>\n",
              "      <td>3573</td>\n",
              "    </tr>\n",
              "    <tr>\n",
              "      <th>106852</th>\n",
              "      <td>505320</td>\n",
              "      <td>2020-01-01</td>\n",
              "      <td>SpecialNo4</td>\n",
              "      <td>4524</td>\n",
              "      <td>4524</td>\n",
              "    </tr>\n",
              "    <tr>\n",
              "      <th>106853</th>\n",
              "      <td>505320</td>\n",
              "      <td>2020-01-01</td>\n",
              "      <td>SpecialNo5</td>\n",
              "      <td>6856</td>\n",
              "      <td>6856</td>\n",
              "    </tr>\n",
              "    <tr>\n",
              "      <th>106854</th>\n",
              "      <td>505320</td>\n",
              "      <td>2020-01-01</td>\n",
              "      <td>SpecialNo6</td>\n",
              "      <td>8107</td>\n",
              "      <td>8107</td>\n",
              "    </tr>\n",
              "    <tr>\n",
              "      <th>106855</th>\n",
              "      <td>505320</td>\n",
              "      <td>2020-01-01</td>\n",
              "      <td>SpecialNo7</td>\n",
              "      <td>1026</td>\n",
              "      <td>1026</td>\n",
              "    </tr>\n",
              "    <tr>\n",
              "      <th>106856</th>\n",
              "      <td>505320</td>\n",
              "      <td>2020-01-01</td>\n",
              "      <td>SpecialNo8</td>\n",
              "      <td>3960</td>\n",
              "      <td>3960</td>\n",
              "    </tr>\n",
              "    <tr>\n",
              "      <th>106857</th>\n",
              "      <td>505320</td>\n",
              "      <td>2020-01-01</td>\n",
              "      <td>SpecialNo9</td>\n",
              "      <td>5472</td>\n",
              "      <td>5472</td>\n",
              "    </tr>\n",
              "  </tbody>\n",
              "</table>\n",
              "</div>"
            ],
            "text/plain": [
              "        DrawNo   DrawDate    PrizeType  LuckyNo  NumberId\n",
              "106848  505320 2020-01-01   SpecialNo1     2404      2404\n",
              "106849  505320 2020-01-01  SpecialNo10     7382      7382\n",
              "106850  505320 2020-01-01   SpecialNo2     2220      2220\n",
              "106851  505320 2020-01-01   SpecialNo3     3573      3573\n",
              "106852  505320 2020-01-01   SpecialNo4     4524      4524\n",
              "106853  505320 2020-01-01   SpecialNo5     6856      6856\n",
              "106854  505320 2020-01-01   SpecialNo6     8107      8107\n",
              "106855  505320 2020-01-01   SpecialNo7     1026      1026\n",
              "106856  505320 2020-01-01   SpecialNo8     3960      3960\n",
              "106857  505320 2020-01-01   SpecialNo9     5472      5472"
            ]
          },
          "metadata": {
            "tags": []
          },
          "execution_count": 17
        }
      ]
    },
    {
      "cell_type": "markdown",
      "metadata": {
        "colab_type": "text",
        "id": "8cSUZyfY8oyB"
      },
      "source": [
        "## Data Cleansing"
      ]
    },
    {
      "cell_type": "code",
      "metadata": {
        "colab_type": "code",
        "id": "F08WbAAF8o_o",
        "colab": {}
      },
      "source": [
        "def change_prize_type(x):\n",
        "  if \"Special\" in x:\n",
        "    return 'Special'\n",
        "  elif \"Consolation\" in x:\n",
        "    return 'Consolation'\n",
        "  else:\n",
        "    return x\n",
        "\n",
        "def increment_draw_date(x):\n",
        "  x = x + relativedelta(minutes=1)\n",
        "  return x\n",
        "\n",
        "data['PrizeType'] = data['PrizeType'].apply(change_prize_type)\n",
        "\n",
        "# Add 1 minutes to draw date to avoid overlapping with the cut off date\n",
        "data['DrawDate'] = data['DrawDate'].apply(increment_draw_date)"
      ],
      "execution_count": 0,
      "outputs": []
    },
    {
      "cell_type": "code",
      "metadata": {
        "colab_type": "code",
        "id": "Fsoy-LoU8pL4",
        "outputId": "3a30cc71-9ba3-41c3-9a59-e1ae7e4056c5",
        "colab": {
          "base_uri": "https://localhost:8080/",
          "height": 762
        }
      },
      "source": [
        "data.tail(23)"
      ],
      "execution_count": 28,
      "outputs": [
        {
          "output_type": "execute_result",
          "data": {
            "text/html": [
              "<div>\n",
              "<style scoped>\n",
              "    .dataframe tbody tr th:only-of-type {\n",
              "        vertical-align: middle;\n",
              "    }\n",
              "\n",
              "    .dataframe tbody tr th {\n",
              "        vertical-align: top;\n",
              "    }\n",
              "\n",
              "    .dataframe thead th {\n",
              "        text-align: right;\n",
              "    }\n",
              "</style>\n",
              "<table border=\"1\" class=\"dataframe\">\n",
              "  <thead>\n",
              "    <tr style=\"text-align: right;\">\n",
              "      <th></th>\n",
              "      <th>DrawNo</th>\n",
              "      <th>DrawDate</th>\n",
              "      <th>PrizeType</th>\n",
              "      <th>LuckyNo</th>\n",
              "      <th>NumberId</th>\n",
              "    </tr>\n",
              "  </thead>\n",
              "  <tbody>\n",
              "    <tr>\n",
              "      <th>106835</th>\n",
              "      <td>505320</td>\n",
              "      <td>2020-01-01 00:01:00</td>\n",
              "      <td>1stPrizeNo</td>\n",
              "      <td>875</td>\n",
              "      <td>875</td>\n",
              "    </tr>\n",
              "    <tr>\n",
              "      <th>106836</th>\n",
              "      <td>505320</td>\n",
              "      <td>2020-01-01 00:01:00</td>\n",
              "      <td>2ndPrizeNo</td>\n",
              "      <td>6307</td>\n",
              "      <td>6307</td>\n",
              "    </tr>\n",
              "    <tr>\n",
              "      <th>106837</th>\n",
              "      <td>505320</td>\n",
              "      <td>2020-01-01 00:01:00</td>\n",
              "      <td>3rdPrizeNo</td>\n",
              "      <td>8552</td>\n",
              "      <td>8552</td>\n",
              "    </tr>\n",
              "    <tr>\n",
              "      <th>106838</th>\n",
              "      <td>505320</td>\n",
              "      <td>2020-01-01 00:01:00</td>\n",
              "      <td>Consolation</td>\n",
              "      <td>2114</td>\n",
              "      <td>2114</td>\n",
              "    </tr>\n",
              "    <tr>\n",
              "      <th>106839</th>\n",
              "      <td>505320</td>\n",
              "      <td>2020-01-01 00:01:00</td>\n",
              "      <td>Consolation</td>\n",
              "      <td>4861</td>\n",
              "      <td>4861</td>\n",
              "    </tr>\n",
              "    <tr>\n",
              "      <th>106840</th>\n",
              "      <td>505320</td>\n",
              "      <td>2020-01-01 00:01:00</td>\n",
              "      <td>Consolation</td>\n",
              "      <td>508</td>\n",
              "      <td>508</td>\n",
              "    </tr>\n",
              "    <tr>\n",
              "      <th>106841</th>\n",
              "      <td>505320</td>\n",
              "      <td>2020-01-01 00:01:00</td>\n",
              "      <td>Consolation</td>\n",
              "      <td>2086</td>\n",
              "      <td>2086</td>\n",
              "    </tr>\n",
              "    <tr>\n",
              "      <th>106842</th>\n",
              "      <td>505320</td>\n",
              "      <td>2020-01-01 00:01:00</td>\n",
              "      <td>Consolation</td>\n",
              "      <td>3296</td>\n",
              "      <td>3296</td>\n",
              "    </tr>\n",
              "    <tr>\n",
              "      <th>106843</th>\n",
              "      <td>505320</td>\n",
              "      <td>2020-01-01 00:01:00</td>\n",
              "      <td>Consolation</td>\n",
              "      <td>413</td>\n",
              "      <td>413</td>\n",
              "    </tr>\n",
              "    <tr>\n",
              "      <th>106844</th>\n",
              "      <td>505320</td>\n",
              "      <td>2020-01-01 00:01:00</td>\n",
              "      <td>Consolation</td>\n",
              "      <td>4781</td>\n",
              "      <td>4781</td>\n",
              "    </tr>\n",
              "    <tr>\n",
              "      <th>106845</th>\n",
              "      <td>505320</td>\n",
              "      <td>2020-01-01 00:01:00</td>\n",
              "      <td>Consolation</td>\n",
              "      <td>1459</td>\n",
              "      <td>1459</td>\n",
              "    </tr>\n",
              "    <tr>\n",
              "      <th>106846</th>\n",
              "      <td>505320</td>\n",
              "      <td>2020-01-01 00:01:00</td>\n",
              "      <td>Consolation</td>\n",
              "      <td>7685</td>\n",
              "      <td>7685</td>\n",
              "    </tr>\n",
              "    <tr>\n",
              "      <th>106847</th>\n",
              "      <td>505320</td>\n",
              "      <td>2020-01-01 00:01:00</td>\n",
              "      <td>Consolation</td>\n",
              "      <td>6087</td>\n",
              "      <td>6087</td>\n",
              "    </tr>\n",
              "    <tr>\n",
              "      <th>106848</th>\n",
              "      <td>505320</td>\n",
              "      <td>2020-01-01 00:01:00</td>\n",
              "      <td>Special</td>\n",
              "      <td>2404</td>\n",
              "      <td>2404</td>\n",
              "    </tr>\n",
              "    <tr>\n",
              "      <th>106849</th>\n",
              "      <td>505320</td>\n",
              "      <td>2020-01-01 00:01:00</td>\n",
              "      <td>Special</td>\n",
              "      <td>7382</td>\n",
              "      <td>7382</td>\n",
              "    </tr>\n",
              "    <tr>\n",
              "      <th>106850</th>\n",
              "      <td>505320</td>\n",
              "      <td>2020-01-01 00:01:00</td>\n",
              "      <td>Special</td>\n",
              "      <td>2220</td>\n",
              "      <td>2220</td>\n",
              "    </tr>\n",
              "    <tr>\n",
              "      <th>106851</th>\n",
              "      <td>505320</td>\n",
              "      <td>2020-01-01 00:01:00</td>\n",
              "      <td>Special</td>\n",
              "      <td>3573</td>\n",
              "      <td>3573</td>\n",
              "    </tr>\n",
              "    <tr>\n",
              "      <th>106852</th>\n",
              "      <td>505320</td>\n",
              "      <td>2020-01-01 00:01:00</td>\n",
              "      <td>Special</td>\n",
              "      <td>4524</td>\n",
              "      <td>4524</td>\n",
              "    </tr>\n",
              "    <tr>\n",
              "      <th>106853</th>\n",
              "      <td>505320</td>\n",
              "      <td>2020-01-01 00:01:00</td>\n",
              "      <td>Special</td>\n",
              "      <td>6856</td>\n",
              "      <td>6856</td>\n",
              "    </tr>\n",
              "    <tr>\n",
              "      <th>106854</th>\n",
              "      <td>505320</td>\n",
              "      <td>2020-01-01 00:01:00</td>\n",
              "      <td>Special</td>\n",
              "      <td>8107</td>\n",
              "      <td>8107</td>\n",
              "    </tr>\n",
              "    <tr>\n",
              "      <th>106855</th>\n",
              "      <td>505320</td>\n",
              "      <td>2020-01-01 00:01:00</td>\n",
              "      <td>Special</td>\n",
              "      <td>1026</td>\n",
              "      <td>1026</td>\n",
              "    </tr>\n",
              "    <tr>\n",
              "      <th>106856</th>\n",
              "      <td>505320</td>\n",
              "      <td>2020-01-01 00:01:00</td>\n",
              "      <td>Special</td>\n",
              "      <td>3960</td>\n",
              "      <td>3960</td>\n",
              "    </tr>\n",
              "    <tr>\n",
              "      <th>106857</th>\n",
              "      <td>505320</td>\n",
              "      <td>2020-01-01 00:01:00</td>\n",
              "      <td>Special</td>\n",
              "      <td>5472</td>\n",
              "      <td>5472</td>\n",
              "    </tr>\n",
              "  </tbody>\n",
              "</table>\n",
              "</div>"
            ],
            "text/plain": [
              "        DrawNo            DrawDate    PrizeType  LuckyNo  NumberId\n",
              "106835  505320 2020-01-01 00:01:00   1stPrizeNo      875       875\n",
              "106836  505320 2020-01-01 00:01:00   2ndPrizeNo     6307      6307\n",
              "106837  505320 2020-01-01 00:01:00   3rdPrizeNo     8552      8552\n",
              "106838  505320 2020-01-01 00:01:00  Consolation     2114      2114\n",
              "106839  505320 2020-01-01 00:01:00  Consolation     4861      4861\n",
              "106840  505320 2020-01-01 00:01:00  Consolation      508       508\n",
              "106841  505320 2020-01-01 00:01:00  Consolation     2086      2086\n",
              "106842  505320 2020-01-01 00:01:00  Consolation     3296      3296\n",
              "106843  505320 2020-01-01 00:01:00  Consolation      413       413\n",
              "106844  505320 2020-01-01 00:01:00  Consolation     4781      4781\n",
              "106845  505320 2020-01-01 00:01:00  Consolation     1459      1459\n",
              "106846  505320 2020-01-01 00:01:00  Consolation     7685      7685\n",
              "106847  505320 2020-01-01 00:01:00  Consolation     6087      6087\n",
              "106848  505320 2020-01-01 00:01:00      Special     2404      2404\n",
              "106849  505320 2020-01-01 00:01:00      Special     7382      7382\n",
              "106850  505320 2020-01-01 00:01:00      Special     2220      2220\n",
              "106851  505320 2020-01-01 00:01:00      Special     3573      3573\n",
              "106852  505320 2020-01-01 00:01:00      Special     4524      4524\n",
              "106853  505320 2020-01-01 00:01:00      Special     6856      6856\n",
              "106854  505320 2020-01-01 00:01:00      Special     8107      8107\n",
              "106855  505320 2020-01-01 00:01:00      Special     1026      1026\n",
              "106856  505320 2020-01-01 00:01:00      Special     3960      3960\n",
              "106857  505320 2020-01-01 00:01:00      Special     5472      5472"
            ]
          },
          "metadata": {
            "tags": []
          },
          "execution_count": 28
        }
      ]
    },
    {
      "cell_type": "code",
      "metadata": {
        "colab_type": "code",
        "id": "I7ZFGEhieuiN",
        "outputId": "c9201b39-5213-45b2-b2fe-7d13754c1618",
        "colab": {
          "base_uri": "https://localhost:8080/",
          "height": 297
        }
      },
      "source": [
        "data.describe().round(2)"
      ],
      "execution_count": 29,
      "outputs": [
        {
          "output_type": "execute_result",
          "data": {
            "text/html": [
              "<div>\n",
              "<style scoped>\n",
              "    .dataframe tbody tr th:only-of-type {\n",
              "        vertical-align: middle;\n",
              "    }\n",
              "\n",
              "    .dataframe tbody tr th {\n",
              "        vertical-align: top;\n",
              "    }\n",
              "\n",
              "    .dataframe thead th {\n",
              "        text-align: right;\n",
              "    }\n",
              "</style>\n",
              "<table border=\"1\" class=\"dataframe\">\n",
              "  <thead>\n",
              "    <tr style=\"text-align: right;\">\n",
              "      <th></th>\n",
              "      <th>DrawNo</th>\n",
              "      <th>LuckyNo</th>\n",
              "      <th>NumberId</th>\n",
              "    </tr>\n",
              "  </thead>\n",
              "  <tbody>\n",
              "    <tr>\n",
              "      <th>count</th>\n",
              "      <td>106858.00</td>\n",
              "      <td>106858.00</td>\n",
              "      <td>106858.00</td>\n",
              "    </tr>\n",
              "    <tr>\n",
              "      <th>mean</th>\n",
              "      <td>273049.89</td>\n",
              "      <td>4973.57</td>\n",
              "      <td>4973.57</td>\n",
              "    </tr>\n",
              "    <tr>\n",
              "      <th>std</th>\n",
              "      <td>134131.48</td>\n",
              "      <td>2885.58</td>\n",
              "      <td>2885.58</td>\n",
              "    </tr>\n",
              "    <tr>\n",
              "      <th>min</th>\n",
              "      <td>40792.00</td>\n",
              "      <td>0.00</td>\n",
              "      <td>0.00</td>\n",
              "    </tr>\n",
              "    <tr>\n",
              "      <th>25%</th>\n",
              "      <td>156899.00</td>\n",
              "      <td>2462.00</td>\n",
              "      <td>2462.00</td>\n",
              "    </tr>\n",
              "    <tr>\n",
              "      <th>50%</th>\n",
              "      <td>273056.00</td>\n",
              "      <td>4951.00</td>\n",
              "      <td>4951.00</td>\n",
              "    </tr>\n",
              "    <tr>\n",
              "      <th>75%</th>\n",
              "      <td>389213.00</td>\n",
              "      <td>7463.00</td>\n",
              "      <td>7463.00</td>\n",
              "    </tr>\n",
              "    <tr>\n",
              "      <th>max</th>\n",
              "      <td>505320.00</td>\n",
              "      <td>9999.00</td>\n",
              "      <td>9999.00</td>\n",
              "    </tr>\n",
              "  </tbody>\n",
              "</table>\n",
              "</div>"
            ],
            "text/plain": [
              "          DrawNo    LuckyNo   NumberId\n",
              "count  106858.00  106858.00  106858.00\n",
              "mean   273049.89    4973.57    4973.57\n",
              "std    134131.48    2885.58    2885.58\n",
              "min     40792.00       0.00       0.00\n",
              "25%    156899.00    2462.00    2462.00\n",
              "50%    273056.00    4951.00    4951.00\n",
              "75%    389213.00    7463.00    7463.00\n",
              "max    505320.00    9999.00    9999.00"
            ]
          },
          "metadata": {
            "tags": []
          },
          "execution_count": 29
        }
      ]
    },
    {
      "cell_type": "code",
      "metadata": {
        "colab_type": "code",
        "id": "61I6vIJjeuiP",
        "outputId": "0cd57c2b-b83d-4655-dd21-213c75ab082f",
        "colab": {
          "base_uri": "https://localhost:8080/",
          "height": 679
        }
      },
      "source": [
        "plt.figure(figsize=(20,6))\n",
        "sns.boxplot(x='NumberId', y='PrizeType',data=data)\n",
        "plt.xticks(rotation=90)\n",
        "plt.title('Draw')\n",
        "\n",
        "print(data[data['NumberId']==1760])"
      ],
      "execution_count": 30,
      "outputs": [
        {
          "output_type": "stream",
          "text": [
            "       DrawNo            DrawDate    PrizeType  LuckyNo  NumberId\n",
            "6007    66894 1994-01-05 00:01:00  Consolation     1760      1760\n",
            "12089   93295 1995-09-10 00:01:00      Special     1760      1760\n",
            "33221  185101 2001-06-09 00:01:00  Consolation     1760      1760\n",
            "41325  220403 2003-08-10 00:01:00      Special     1760      1760\n",
            "56402  286007 2007-06-24 00:01:00  Consolation     1760      1760\n",
            "67267  333210 2010-04-10 00:01:00      Special     1760      1760\n",
            "70041  345310 2010-12-19 00:01:00  Consolation     1760      1760\n",
            "72759  357111 2011-08-21 00:01:00  Consolation     1760      1760\n",
            "75155  367512 2012-03-20 00:01:00      Special     1760      1760\n",
            "88140  424015 2015-05-17 00:01:00  Consolation     1760      1760\n",
            "88193  424215 2015-05-23 00:01:00  Consolation     1760      1760\n",
            "94840  453117 2017-01-04 00:01:00  Consolation     1760      1760\n"
          ],
          "name": "stdout"
        },
        {
          "output_type": "display_data",
          "data": {
            "image/png": "[encoded data removed]",
            "text/plain": [
              "<Figure size 1440x432 with 1 Axes>"
            ]
          },
          "metadata": {
            "tags": []
          }
        }
      ]
    },
    {
      "cell_type": "markdown",
      "metadata": {
        "colab_type": "text",
        "id": "u-a0nl-xeuiR"
      },
      "source": [
        "## Exploration"
      ]
    },
    {
      "cell_type": "code",
      "metadata": {
        "colab_type": "code",
        "id": "AtgXHWx-euiS",
        "colab": {}
      },
      "source": [
        "def ecdf(data):\n",
        "    x = np.sort(data)\n",
        "    y = np.arange(1, len(x) + 1) / len(x)\n",
        "    return x, y"
      ],
      "execution_count": 0,
      "outputs": []
    },
    {
      "cell_type": "code",
      "metadata": {
        "colab_type": "code",
        "id": "Yc0muCCCeuiU",
        "colab": {}
      },
      "source": [
        ""
      ],
      "execution_count": 0,
      "outputs": []
    },
    {
      "cell_type": "markdown",
      "metadata": {
        "colab_type": "text",
        "id": "qBJcDOgAeuiX"
      },
      "source": [
        "## Making Labels"
      ]
    },
    {
      "cell_type": "code",
      "metadata": {
        "colab_type": "code",
        "id": "tsYlAKtpeuiY",
        "outputId": "29755263-f2f2-4248-d666-8a89af88bff3",
        "colab": {
          "base_uri": "https://localhost:8080/",
          "height": 359
        }
      },
      "source": [
        "data['TotalStrike'] = 1\n",
        "data.head(10)"
      ],
      "execution_count": 33,
      "outputs": [
        {
          "output_type": "execute_result",
          "data": {
            "text/html": [
              "<div>\n",
              "<style scoped>\n",
              "    .dataframe tbody tr th:only-of-type {\n",
              "        vertical-align: middle;\n",
              "    }\n",
              "\n",
              "    .dataframe tbody tr th {\n",
              "        vertical-align: top;\n",
              "    }\n",
              "\n",
              "    .dataframe thead th {\n",
              "        text-align: right;\n",
              "    }\n",
              "</style>\n",
              "<table border=\"1\" class=\"dataframe\">\n",
              "  <thead>\n",
              "    <tr style=\"text-align: right;\">\n",
              "      <th></th>\n",
              "      <th>DrawNo</th>\n",
              "      <th>DrawDate</th>\n",
              "      <th>PrizeType</th>\n",
              "      <th>LuckyNo</th>\n",
              "      <th>NumberId</th>\n",
              "      <th>TotalStrike</th>\n",
              "    </tr>\n",
              "  </thead>\n",
              "  <tbody>\n",
              "    <tr>\n",
              "      <th>0</th>\n",
              "      <td>40792</td>\n",
              "      <td>1992-05-06 00:01:00</td>\n",
              "      <td>1stPrizeNo</td>\n",
              "      <td>19</td>\n",
              "      <td>19</td>\n",
              "      <td>1</td>\n",
              "    </tr>\n",
              "    <tr>\n",
              "      <th>1</th>\n",
              "      <td>40792</td>\n",
              "      <td>1992-05-06 00:01:00</td>\n",
              "      <td>2ndPrizeNo</td>\n",
              "      <td>1124</td>\n",
              "      <td>1124</td>\n",
              "      <td>1</td>\n",
              "    </tr>\n",
              "    <tr>\n",
              "      <th>2</th>\n",
              "      <td>40792</td>\n",
              "      <td>1992-05-06 00:01:00</td>\n",
              "      <td>3rdPrizeNo</td>\n",
              "      <td>592</td>\n",
              "      <td>592</td>\n",
              "      <td>1</td>\n",
              "    </tr>\n",
              "    <tr>\n",
              "      <th>3</th>\n",
              "      <td>40792</td>\n",
              "      <td>1992-05-06 00:01:00</td>\n",
              "      <td>Consolation</td>\n",
              "      <td>5311</td>\n",
              "      <td>5311</td>\n",
              "      <td>1</td>\n",
              "    </tr>\n",
              "    <tr>\n",
              "      <th>4</th>\n",
              "      <td>40792</td>\n",
              "      <td>1992-05-06 00:01:00</td>\n",
              "      <td>Consolation</td>\n",
              "      <td>407</td>\n",
              "      <td>407</td>\n",
              "      <td>1</td>\n",
              "    </tr>\n",
              "    <tr>\n",
              "      <th>5</th>\n",
              "      <td>40792</td>\n",
              "      <td>1992-05-06 00:01:00</td>\n",
              "      <td>Consolation</td>\n",
              "      <td>1949</td>\n",
              "      <td>1949</td>\n",
              "      <td>1</td>\n",
              "    </tr>\n",
              "    <tr>\n",
              "      <th>6</th>\n",
              "      <td>40792</td>\n",
              "      <td>1992-05-06 00:01:00</td>\n",
              "      <td>Consolation</td>\n",
              "      <td>1606</td>\n",
              "      <td>1606</td>\n",
              "      <td>1</td>\n",
              "    </tr>\n",
              "    <tr>\n",
              "      <th>7</th>\n",
              "      <td>40792</td>\n",
              "      <td>1992-05-06 00:01:00</td>\n",
              "      <td>Consolation</td>\n",
              "      <td>3775</td>\n",
              "      <td>3775</td>\n",
              "      <td>1</td>\n",
              "    </tr>\n",
              "    <tr>\n",
              "      <th>8</th>\n",
              "      <td>40792</td>\n",
              "      <td>1992-05-06 00:01:00</td>\n",
              "      <td>Consolation</td>\n",
              "      <td>6226</td>\n",
              "      <td>6226</td>\n",
              "      <td>1</td>\n",
              "    </tr>\n",
              "    <tr>\n",
              "      <th>9</th>\n",
              "      <td>40792</td>\n",
              "      <td>1992-05-06 00:01:00</td>\n",
              "      <td>Consolation</td>\n",
              "      <td>1271</td>\n",
              "      <td>1271</td>\n",
              "      <td>1</td>\n",
              "    </tr>\n",
              "  </tbody>\n",
              "</table>\n",
              "</div>"
            ],
            "text/plain": [
              "   DrawNo            DrawDate    PrizeType  LuckyNo  NumberId  TotalStrike\n",
              "0   40792 1992-05-06 00:01:00   1stPrizeNo       19        19            1\n",
              "1   40792 1992-05-06 00:01:00   2ndPrizeNo     1124      1124            1\n",
              "2   40792 1992-05-06 00:01:00   3rdPrizeNo      592       592            1\n",
              "3   40792 1992-05-06 00:01:00  Consolation     5311      5311            1\n",
              "4   40792 1992-05-06 00:01:00  Consolation      407       407            1\n",
              "5   40792 1992-05-06 00:01:00  Consolation     1949      1949            1\n",
              "6   40792 1992-05-06 00:01:00  Consolation     1606      1606            1\n",
              "7   40792 1992-05-06 00:01:00  Consolation     3775      3775            1\n",
              "8   40792 1992-05-06 00:01:00  Consolation     6226      6226            1\n",
              "9   40792 1992-05-06 00:01:00  Consolation     1271      1271            1"
            ]
          },
          "metadata": {
            "tags": []
          },
          "execution_count": 33
        }
      ]
    },
    {
      "cell_type": "code",
      "metadata": {
        "colab_type": "code",
        "id": "6ti9FbeJeuib",
        "colab": {}
      },
      "source": [
        "def make_cutoffs(start_date, end_date, threshold=0):\n",
        "    # Find numbers exist before start date\n",
        "    number_pool = data[data['DrawDate'] < start_date]['NumberId'].unique()\n",
        "    tmp = pd.DataFrame({'NumberId': number_pool})\n",
        "   \n",
        "    # For numbers in the number pool, find their strike count between the start and end dates\n",
        "    strike_counts = data[(data['NumberId'].isin(number_pool)) & \n",
        "        (data['DrawDate'] >= start_date) & \n",
        "        (data['DrawDate']< end_date)\n",
        "    ].groupby('NumberId')['TotalStrike'].count().reset_index()\n",
        "    \n",
        "    number_of_draws = data[\n",
        "                 (data['DrawDate'] >= start_date) & \n",
        "                 (data['DrawDate']< end_date)]['DrawDate'].nunique()\n",
        "    # display(strike_counts)\n",
        "    # print(number_of_draws)\n",
        "    \n",
        "    # Merge with all the number ids to record all customers who existed before start date\n",
        "    strike_counts = strike_counts.merge(tmp, on='NumberId', how='right')\n",
        "    \n",
        "    # Set the total for any numbers who did not strike in the timeframe equal to 0\n",
        "    strike_counts['TotalStrike'] = strike_counts['TotalStrike'].fillna(0)\n",
        "    \n",
        "    # Label is based on the threshold\n",
        "    strike_counts['Label'] = (strike_counts['TotalStrike'] > threshold).astype(int)\n",
        "        \n",
        "    # The cutoff time is the start date\n",
        "    strike_counts['cutoff_time'] = pd.to_datetime(start_date)\n",
        "    strike_counts = strike_counts[['NumberId', 'cutoff_time', 'TotalStrike', 'Label']]\n",
        "    \n",
        "    #display(strike_counts[strike_counts['Label']==1].nunique())\n",
        "    #display(strike_counts.sort_values(by='TotalStrike', ascending=False))\n",
        "   \n",
        "    return number_of_draws, strike_counts"
      ],
      "execution_count": 0,
      "outputs": []
    },
    {
      "cell_type": "code",
      "metadata": {
        "id": "FTZxnLSkEFdu",
        "colab_type": "code",
        "colab": {}
      },
      "source": [
        ""
      ],
      "execution_count": 0,
      "outputs": []
    },
    {
      "cell_type": "code",
      "metadata": {
        "colab_type": "code",
        "id": "D2A36_d7euid",
        "colab": {}
      },
      "source": [
        "number_of_draws, may_2015 = make_cutoffs(pd.datetime(2015, 5, 1), pd.datetime(2015, 6, 1))\n",
        "#display(len(may_2015))\n",
        "#display(may_2015[may_2015['Label']==1].nunique())\n",
        "may_2015[(may_2015['Label']==1) & (may_2015['TotalStrike']==2)].sort_values(by='TotalStrike', ascending=False).head()"
      ],
      "execution_count": 0,
      "outputs": []
    },
    {
      "cell_type": "code",
      "metadata": {
        "colab_type": "code",
        "id": "CWtkzeNV3ae8",
        "colab": {}
      },
      "source": [
        "data[data['NumberId'].isin([904,1760])]"
      ],
      "execution_count": 0,
      "outputs": []
    },
    {
      "cell_type": "code",
      "metadata": {
        "colab_type": "code",
        "id": "mslYCIBteuif",
        "colab": {}
      },
      "source": [
        "may_2015['Label'].value_counts().plot.bar()\n",
        "plt.title('Label Distribution for May')"
      ],
      "execution_count": 0,
      "outputs": []
    },
    {
      "cell_type": "code",
      "metadata": {
        "colab_type": "code",
        "id": "yay4yhhxeuih",
        "colab": {}
      },
      "source": [
        "CUT_OFF_YEAR=pd.datetime(2014, 1, 1)"
      ],
      "execution_count": 0,
      "outputs": []
    },
    {
      "cell_type": "code",
      "metadata": {
        "colab_type": "code",
        "id": "FRldQMdyeuik",
        "colab": {}
      },
      "source": [
        "## Loop through each month starting from CUT_OFF_YEAR\n",
        "\n",
        "# print(data['DrawDate'].max())\n",
        "max_year_month = data['DrawDate'].max() - relativedelta(months=1) + relativedelta(day=31)\n",
        "print(f\"Max month year: {max_year_month}\")\n",
        "\n",
        "start_year_month = CUT_OFF_YEAR\n",
        "\n",
        "months_data = []\n",
        "total_draws = 0\n",
        "while start_year_month < max_year_month:\n",
        "    start_date = start_year_month \n",
        "    end_date = start_date + relativedelta(months=1)\n",
        "    start_year_month = start_year_month + relativedelta(months=1)\n",
        "    #print(f\"Labels from {start_date} to {end_date}\")\n",
        "    draw_count, month_data = make_cutoffs(start_date, end_date)\n",
        "    total_draws = total_draws + draw_count\n",
        "    months_data.append(month_data)\n",
        "\n",
        "print(f\"Total draws: {total_draws}\")\n",
        "print(f\"Total draws: {data[(data['DrawDate'] >= CUT_OFF_YEAR) & (data['DrawDate'] <= max_year_month)]['DrawDate'].nunique()}\")\n",
        "print(f\"Total months:{len(months_data)}\")\n",
        "print(f\"Total records count: {sum([len(l) for l in months_data])}\")\n",
        "print([len(l) for l in months_data])"
      ],
      "execution_count": 0,
      "outputs": []
    },
    {
      "cell_type": "code",
      "metadata": {
        "colab_type": "code",
        "id": "UVKdKkdReuir",
        "colab": {}
      },
      "source": [
        "labels = pd.concat(months_data)\n",
        "labels.to_csv(DATASET_PATH/'labels.csv')\n",
        "labels.describe()"
      ],
      "execution_count": 0,
      "outputs": []
    },
    {
      "cell_type": "code",
      "metadata": {
        "colab_type": "code",
        "id": "pn4ERZaweuiz",
        "colab": {}
      },
      "source": [
        "labels[(labels['NumberId'] == 9016)  & (labels['Label'] > 0)]"
      ],
      "execution_count": 0,
      "outputs": []
    },
    {
      "cell_type": "code",
      "metadata": {
        "colab_type": "code",
        "id": "tYqyvoCeeui1",
        "colab": {}
      },
      "source": [
        "labels.loc[labels['NumberId'] == 9016].set_index('cutoff_time')['TotalStrike'].plot(figsize = (6, 4), linewidth = 3)\n",
        "plt.xlabel('Date', size = 16); \n",
        "plt.ylabel('Total Strike', size = 16); \n",
        "plt.title('Draw', size = 20);\n",
        "plt.xticks(size = 16); plt.yticks(size = 16);"
      ],
      "execution_count": 0,
      "outputs": []
    },
    {
      "cell_type": "code",
      "metadata": {
        "colab_type": "code",
        "id": "iyAGwDhNeui4",
        "colab": {}
      },
      "source": [
        "labels.tail(10)"
      ],
      "execution_count": 0,
      "outputs": []
    },
    {
      "cell_type": "markdown",
      "metadata": {
        "colab_type": "text",
        "id": "stLvE4bspqbx"
      },
      "source": [
        "## Automated Feature Engineering"
      ]
    },
    {
      "cell_type": "code",
      "metadata": {
        "colab_type": "code",
        "id": "ACOmTMZQpqbz",
        "colab": {}
      },
      "source": [
        "es = ft.EntitySet(id=\"Lotto Results\")\n",
        "\n",
        "# Add the entire data table as an entity\n",
        "es.entity_from_dataframe(\"Results\",\n",
        "                         dataframe=data,\n",
        "                         index=\"results_index\",\n",
        "                         time_index = 'DrawDate')\n",
        "\n",
        "es['Results']"
      ],
      "execution_count": 0,
      "outputs": []
    },
    {
      "cell_type": "code",
      "metadata": {
        "colab_type": "code",
        "id": "aG9Bvh9keui9",
        "colab": {}
      },
      "source": [
        "es.normalize_entity(new_entity_id=\"Numbers\",\n",
        "                    base_entity_id=\"Results\",\n",
        "                    index=\"NumberId\",\n",
        "                    )"
      ],
      "execution_count": 0,
      "outputs": []
    },
    {
      "cell_type": "code",
      "metadata": {
        "colab_type": "code",
        "id": "qVb6QmM6eui_",
        "colab": {}
      },
      "source": [
        "es"
      ],
      "execution_count": 0,
      "outputs": []
    },
    {
      "cell_type": "code",
      "metadata": {
        "colab_type": "code",
        "id": "dtCMg6OgeujB",
        "colab": {}
      },
      "source": [
        "es['Numbers'].df.head(24)"
      ],
      "execution_count": 0,
      "outputs": []
    },
    {
      "cell_type": "code",
      "metadata": {
        "colab_type": "code",
        "id": "pesqNguDeujD",
        "colab": {}
      },
      "source": [
        "es['Results'].df.head(24)"
      ],
      "execution_count": 0,
      "outputs": []
    },
    {
      "cell_type": "code",
      "metadata": {
        "colab_type": "code",
        "id": "Q4B-Isg5hob-",
        "colab": {}
      },
      "source": [
        "len(es['Results'].df)"
      ],
      "execution_count": 0,
      "outputs": []
    },
    {
      "cell_type": "markdown",
      "metadata": {
        "colab_type": "text",
        "id": "UgUuD752eujH"
      },
      "source": [
        "## Deep Feature Synthesis"
      ]
    },
    {
      "cell_type": "code",
      "metadata": {
        "colab_type": "code",
        "id": "-CBGKZuKeujH",
        "colab": {}
      },
      "source": [
        "# feature_matrix, feature_names = ft.dfs(entityset=es, target_entity='Numbers',\n",
        "#                                        cutoff_time = labels, verbose = 2,\n",
        "#                                        cutoff_time_in_index = True,\n",
        "#                                        chunk_size = len(labels), n_jobs = 1,\n",
        "#                                        max_depth = 1)"
      ],
      "execution_count": 0,
      "outputs": []
    },
    {
      "cell_type": "code",
      "metadata": {
        "colab_type": "code",
        "id": "YBdz1ZRKZ4Gh",
        "colab": {}
      },
      "source": [
        "default_agg_primitives =  ['std', 'max', 'min', 'mode', 'mean', 'skew', 'last', 'avg_time_between', \n",
        "                            'count', 'sum', 'trend', 'percent_true', 'num_unique']\n",
        "default_trans_primitives =  ['cum_sum', 'cum_mean', 'day', 'month', 'hour', 'percentile', 'and', 'time_since']\n",
        "\n",
        "feature_matrix, feature_names = ft.dfs(entityset=es, target_entity='Numbers',\n",
        "                                       agg_primitives = default_agg_primitives ,\n",
        "                                       trans_primitives = default_trans_primitives,\n",
        "                                       cutoff_time = labels, verbose = 1,\n",
        "                                       cutoff_time_in_index = True,\n",
        "                                       chunk_size = len(labels), n_jobs = 1,\n",
        "                                       max_depth = 2)"
      ],
      "execution_count": 0,
      "outputs": []
    },
    {
      "cell_type": "code",
      "metadata": {
        "colab_type": "code",
        "id": "mIWROhRteujK",
        "colab": {}
      },
      "source": [
        "len(feature_matrix.columns), feature_matrix.columns"
      ],
      "execution_count": 0,
      "outputs": []
    },
    {
      "cell_type": "code",
      "metadata": {
        "colab_type": "code",
        "id": "9Ipeq6WAeujN",
        "colab": {}
      },
      "source": [
        "len(feature_matrix)"
      ],
      "execution_count": 0,
      "outputs": []
    },
    {
      "cell_type": "code",
      "metadata": {
        "colab_type": "code",
        "id": "rlwWExxVeujR",
        "colab": {}
      },
      "source": [
        "feature_matrix.head().T"
      ],
      "execution_count": 0,
      "outputs": []
    },
    {
      "cell_type": "code",
      "metadata": {
        "colab_type": "code",
        "id": "G52SwLCFeujT",
        "colab": {}
      },
      "source": [
        "feature_matrix.shape"
      ],
      "execution_count": 0,
      "outputs": []
    },
    {
      "cell_type": "code",
      "metadata": {
        "colab_type": "code",
        "id": "CRCvwSGFc6Bg",
        "colab": {}
      },
      "source": [
        "feature_matrix.head(2)"
      ],
      "execution_count": 0,
      "outputs": []
    },
    {
      "cell_type": "code",
      "metadata": {
        "colab_type": "code",
        "id": "UTlTGRatewxx",
        "colab": {}
      },
      "source": [
        "#feature_matrix[(feature_matrix['NumberId']==0) & (feature_matrix['Label']==1)].head(10)"
      ],
      "execution_count": 0,
      "outputs": []
    },
    {
      "cell_type": "markdown",
      "metadata": {
        "colab_type": "text",
        "id": "xFeHotmbfnhn"
      },
      "source": [
        "## Correlations"
      ]
    },
    {
      "cell_type": "code",
      "metadata": {
        "colab_type": "code",
        "id": "EE0MZiCipQRi",
        "colab": {}
      },
      "source": [
        "# Save the original feature matrix\n",
        "origin_feature_matrix = feature_matrix\n",
        "\n",
        "feature_matrix = pd.get_dummies(feature_matrix).reset_index()\n",
        "feature_matrix.shape"
      ],
      "execution_count": 0,
      "outputs": []
    },
    {
      "cell_type": "code",
      "metadata": {
        "colab_type": "code",
        "id": "nhljH4WzpWsO",
        "colab": {}
      },
      "source": [
        "feature_matrix.head(10)"
      ],
      "execution_count": 0,
      "outputs": []
    },
    {
      "cell_type": "code",
      "metadata": {
        "colab_type": "code",
        "id": "hYQy-CwppbIT",
        "colab": {}
      },
      "source": [
        "corrs = feature_matrix.corr().sort_values('TotalStrike')\n",
        "corrs['TotalStrike'].head()"
      ],
      "execution_count": 0,
      "outputs": []
    },
    {
      "cell_type": "code",
      "metadata": {
        "colab_type": "code",
        "id": "aJYr17JXpsNf",
        "colab": {}
      },
      "source": [
        "corrs['TotalStrike'].dropna().tail(60)"
      ],
      "execution_count": 0,
      "outputs": []
    },
    {
      "cell_type": "code",
      "metadata": {
        "colab_type": "code",
        "id": "MdhhEg_vqQoC",
        "colab": {}
      },
      "source": [
        "feature_matrix['month'] = feature_matrix['time'].dt.month\n",
        "feature_matrix['year'] = feature_matrix['time'].dt.year"
      ],
      "execution_count": 0,
      "outputs": []
    },
    {
      "cell_type": "code",
      "metadata": {
        "colab_type": "code",
        "id": "88yuBM0przQG",
        "colab": {}
      },
      "source": [
        "feature_matrix.info()"
      ],
      "execution_count": 0,
      "outputs": []
    },
    {
      "cell_type": "code",
      "metadata": {
        "colab_type": "code",
        "id": "-Ym4tZDEstFL",
        "colab": {}
      },
      "source": [
        "feature_matrix.head()"
      ],
      "execution_count": 0,
      "outputs": []
    },
    {
      "cell_type": "code",
      "metadata": {
        "colab_type": "code",
        "id": "ikqkrTUPpHBa",
        "colab": {}
      },
      "source": [
        "feature_matrix.tail()"
      ],
      "execution_count": 0,
      "outputs": []
    },
    {
      "cell_type": "code",
      "metadata": {
        "colab_type": "code",
        "id": "MUlGhp0JqCdJ",
        "colab": {}
      },
      "source": [
        "display(feature_matrix.describe())"
      ],
      "execution_count": 0,
      "outputs": []
    },
    {
      "cell_type": "markdown",
      "metadata": {
        "colab_type": "text",
        "id": "jUgeaJgjYUTH"
      },
      "source": [
        "## Save feature matrix"
      ]
    },
    {
      "cell_type": "code",
      "metadata": {
        "id": "od61DyXcCQA8",
        "colab_type": "code",
        "colab": {}
      },
      "source": [
        ""
      ],
      "execution_count": 0,
      "outputs": []
    },
    {
      "cell_type": "code",
      "metadata": {
        "colab_type": "code",
        "id": "9fpAptJ7YUtr",
        "colab": {}
      },
      "source": [
        "# https://towardsdatascience.com/downloading-datasets-into-google-drive-via-google-colab-bcb1b30b0166\n",
        "if COLAB:\n",
        "  #!cd dl-projects && git config --global user.email 'mengwangk@gmail.com' \n",
        "  #!cd dl-projects && git config --global user.name 'mengwangk'\n",
        "  #!cd dl-projects && git add -A && git commit -m 'Updated from colab' \n",
        "  # from google.colab import drive\n",
        "  # drive.mount('/content/gdrive')\n",
        "  GDRIVE_DATASET_FOLDER = Path('gdrive/My Drive/datasets/')\n",
        "  #!ls /content/gdrive/My\\ Drive/\n",
        "  \n",
        "  feature_matrix.to_csv(GDRIVE_DATASET_FOLDER/f\"{FEATURE_DATASET_PREFIX}.csv\", index=False)\n",
        "  feature_matrix.to_pickle(GDRIVE_DATASET_FOLDER/f\"{FEATURE_DATASET_PREFIX}.pkl\")\n",
        "  origin_feature_matrix.to_pickle(GDRIVE_DATASET_FOLDER/f\"{FEATURE_DATASET_PREFIX}_origin.pkl\")"
      ],
      "execution_count": 0,
      "outputs": []
    },
    {
      "cell_type": "code",
      "metadata": {
        "colab_type": "code",
        "id": "qun_lhxyYVKz",
        "colab": {}
      },
      "source": [
        "#if COLAB:\n",
        "#  !cd dl-projects && git remote rm origin && git remote add origin https://mengwangk:XX@github.com/mengwangk/dl-projects.git && git push -u origin master"
      ],
      "execution_count": 0,
      "outputs": []
    },
    {
      "cell_type": "code",
      "metadata": {
        "colab_type": "code",
        "id": "XsPab_k6F7jq",
        "colab": {}
      },
      "source": [
        "# from google.colab import files\n",
        "# files.download(DATASET_PATH/'feature_matrix.csv') "
      ],
      "execution_count": 0,
      "outputs": []
    },
    {
      "cell_type": "code",
      "metadata": {
        "colab_type": "code",
        "id": "o2pbgTRtg2-g",
        "colab": {}
      },
      "source": [
        "if COLAB:\n",
        "  !cd gdrive/\"My Drive\"/datasets/ && ls -l --block-size=M"
      ],
      "execution_count": 0,
      "outputs": []
    },
    {
      "cell_type": "code",
      "metadata": {
        "colab_type": "code",
        "id": "alN0Kxs6jwvq",
        "colab": {}
      },
      "source": [
        ""
      ],
      "execution_count": 0,
      "outputs": []
    }
  ]
}
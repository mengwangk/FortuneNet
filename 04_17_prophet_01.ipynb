{
  "nbformat": 4,
  "nbformat_minor": 0,
  "metadata": {
    "kernelspec": {
      "display_name": "Python 3",
      "language": "python",
      "name": "python3"
    },
    "language_info": {
      "codemirror_mode": {
        "name": "ipython",
        "version": 3
      },
      "file_extension": ".py",
      "mimetype": "text/x-python",
      "name": "python",
      "nbconvert_exporter": "python",
      "pygments_lexer": "ipython3",
      "version": "3.8.3"
    },
    "colab": {
      "name": "04_17_prophet_01.ipynb",
      "provenance": []
    }
  },
  "cells": [
    {
      "cell_type": "markdown",
      "metadata": {
        "id": "C0wsNdjJj-No"
      },
      "source": [
        "# Prophet from Facebook\n",
        "\n",
        "[Getting started](https://facebook.github.io/prophet/docs/quick_start.html#python-api)\n",
        "\n",
        "[Prophet+Fastai](https://www.martinalarcon.org/2018-12-31-ab-timeseries/)\n",
        "\n",
        "[Arima, LSTM, Prophet](https://medium.com/analytics-vidhya/time-series-forecasting-arima-vs-lstm-vs-prophet-62241c203a3b)"
      ]
    },
    {
      "cell_type": "code",
      "metadata": {
        "id": "1s1Gnay5j-Np"
      },
      "source": [
        "!pip install -qq pystan\n",
        "!pip install -qq fbprophet"
      ],
      "execution_count": 1,
      "outputs": []
    },
    {
      "cell_type": "code",
      "metadata": {
        "id": "hgaR7pnCk1jD"
      },
      "source": [
        "import pandas as pd\n",
        "import numpy as np\n",
        "import seaborn as sns\n",
        "import matplotlib.pyplot as plt\n",
        "import matplotlib\n",
        "from pathlib import Path\n",
        "from fbprophet import Prophet\n",
        "\n",
        "DATASET_NAME = '4D.zip'"
      ],
      "execution_count": 2,
      "outputs": []
    },
    {
      "cell_type": "code",
      "metadata": {
        "id": "XPWqHVQelWwT",
        "outputId": "1a20a77d-7c3c-4eab-b3db-a885b4f851fc",
        "colab": {
          "base_uri": "https://localhost:8080/",
          "height": 136
        }
      },
      "source": [
        "!git clone https://github.com/mengwangk/dl-projects\n",
        "!cp dl-projects/*utils* .\n",
        "!cp dl-projects/preprocess* ."
      ],
      "execution_count": 3,
      "outputs": [
        {
          "output_type": "stream",
          "text": [
            "Cloning into 'dl-projects'...\n",
            "remote: Enumerating objects: 170, done.\u001b[K\n",
            "remote: Counting objects: 100% (170/170), done.\u001b[K\n",
            "remote: Compressing objects: 100% (149/149), done.\u001b[K\n",
            "remote: Total 2380 (delta 104), reused 42 (delta 21), pack-reused 2210\u001b[K\n",
            "Receiving objects: 100% (2380/2380), 80.67 MiB | 15.42 MiB/s, done.\n",
            "Resolving deltas: 100% (1483/1483), done.\n"
          ],
          "name": "stdout"
        }
      ]
    },
    {
      "cell_type": "code",
      "metadata": {
        "id": "_D0Mx_vOm5Ak"
      },
      "source": [
        "%reload_ext autoreload\n",
        "%autoreload 2\n",
        "\n",
        "%matplotlib notebook"
      ],
      "execution_count": 4,
      "outputs": []
    },
    {
      "cell_type": "code",
      "metadata": {
        "id": "N9aShCpxnvqc"
      },
      "source": [
        "from utils import *\n",
        "from preprocess import *"
      ],
      "execution_count": 5,
      "outputs": []
    },
    {
      "cell_type": "code",
      "metadata": {
        "id": "B6z_N9RaoFSk",
        "outputId": "b354613b-0d63-4ff4-b8bc-b4ef9d26aab6",
        "colab": {
          "base_uri": "https://localhost:8080/",
          "height": 34
        }
      },
      "source": [
        "from google.colab import drive\n",
        "drive.mount('/content/gdrive')\n",
        "GDRIVE_DATASET_FOLDER = Path('gdrive/My Drive/datasets/')\n",
        "DATASET_PATH = GDRIVE_DATASET_FOLDER\n",
        "ORIGIN_DATASET_PATH = Path('dl-projects/datasets')\n",
        "ORIGIN_DATASET = ORIGIN_DATASET_PATH/DATASET_NAME"
      ],
      "execution_count": 6,
      "outputs": [
        {
          "output_type": "stream",
          "text": [
            "Mounted at /content/gdrive\n"
          ],
          "name": "stdout"
        }
      ]
    },
    {
      "cell_type": "code",
      "metadata": {
        "id": "rZ-ni0_8oStC",
        "outputId": "9037d7d0-7560-42d6-d4ae-84195fbecc6e",
        "colab": {
          "base_uri": "https://localhost:8080/",
          "height": 359
        }
      },
      "source": [
        "data = format_tabular(ORIGIN_DATASET)\n",
        "data.head(10)"
      ],
      "execution_count": 7,
      "outputs": [
        {
          "output_type": "execute_result",
          "data": {
            "text/html": [
              "<div>\n",
              "<style scoped>\n",
              "    .dataframe tbody tr th:only-of-type {\n",
              "        vertical-align: middle;\n",
              "    }\n",
              "\n",
              "    .dataframe tbody tr th {\n",
              "        vertical-align: top;\n",
              "    }\n",
              "\n",
              "    .dataframe thead th {\n",
              "        text-align: right;\n",
              "    }\n",
              "</style>\n",
              "<table border=\"1\" class=\"dataframe\">\n",
              "  <thead>\n",
              "    <tr style=\"text-align: right;\">\n",
              "      <th></th>\n",
              "      <th>DrawNo</th>\n",
              "      <th>DrawDate</th>\n",
              "      <th>PrizeType</th>\n",
              "      <th>LuckyNo</th>\n",
              "    </tr>\n",
              "  </thead>\n",
              "  <tbody>\n",
              "    <tr>\n",
              "      <th>0</th>\n",
              "      <td>40792</td>\n",
              "      <td>1992-05-06</td>\n",
              "      <td>1stPrizeNo</td>\n",
              "      <td>19</td>\n",
              "    </tr>\n",
              "    <tr>\n",
              "      <th>1</th>\n",
              "      <td>40792</td>\n",
              "      <td>1992-05-06</td>\n",
              "      <td>2ndPrizeNo</td>\n",
              "      <td>1124</td>\n",
              "    </tr>\n",
              "    <tr>\n",
              "      <th>2</th>\n",
              "      <td>40792</td>\n",
              "      <td>1992-05-06</td>\n",
              "      <td>3rdPrizeNo</td>\n",
              "      <td>592</td>\n",
              "    </tr>\n",
              "    <tr>\n",
              "      <th>3</th>\n",
              "      <td>40792</td>\n",
              "      <td>1992-05-06</td>\n",
              "      <td>ConsolationNo1</td>\n",
              "      <td>5311</td>\n",
              "    </tr>\n",
              "    <tr>\n",
              "      <th>4</th>\n",
              "      <td>40792</td>\n",
              "      <td>1992-05-06</td>\n",
              "      <td>ConsolationNo10</td>\n",
              "      <td>407</td>\n",
              "    </tr>\n",
              "    <tr>\n",
              "      <th>5</th>\n",
              "      <td>40792</td>\n",
              "      <td>1992-05-06</td>\n",
              "      <td>ConsolationNo2</td>\n",
              "      <td>1949</td>\n",
              "    </tr>\n",
              "    <tr>\n",
              "      <th>6</th>\n",
              "      <td>40792</td>\n",
              "      <td>1992-05-06</td>\n",
              "      <td>ConsolationNo3</td>\n",
              "      <td>1606</td>\n",
              "    </tr>\n",
              "    <tr>\n",
              "      <th>7</th>\n",
              "      <td>40792</td>\n",
              "      <td>1992-05-06</td>\n",
              "      <td>ConsolationNo4</td>\n",
              "      <td>3775</td>\n",
              "    </tr>\n",
              "    <tr>\n",
              "      <th>8</th>\n",
              "      <td>40792</td>\n",
              "      <td>1992-05-06</td>\n",
              "      <td>ConsolationNo5</td>\n",
              "      <td>6226</td>\n",
              "    </tr>\n",
              "    <tr>\n",
              "      <th>9</th>\n",
              "      <td>40792</td>\n",
              "      <td>1992-05-06</td>\n",
              "      <td>ConsolationNo6</td>\n",
              "      <td>1271</td>\n",
              "    </tr>\n",
              "  </tbody>\n",
              "</table>\n",
              "</div>"
            ],
            "text/plain": [
              "   DrawNo   DrawDate        PrizeType  LuckyNo\n",
              "0   40792 1992-05-06       1stPrizeNo       19\n",
              "1   40792 1992-05-06       2ndPrizeNo     1124\n",
              "2   40792 1992-05-06       3rdPrizeNo      592\n",
              "3   40792 1992-05-06   ConsolationNo1     5311\n",
              "4   40792 1992-05-06  ConsolationNo10      407\n",
              "5   40792 1992-05-06   ConsolationNo2     1949\n",
              "6   40792 1992-05-06   ConsolationNo3     1606\n",
              "7   40792 1992-05-06   ConsolationNo4     3775\n",
              "8   40792 1992-05-06   ConsolationNo5     6226\n",
              "9   40792 1992-05-06   ConsolationNo6     1271"
            ]
          },
          "metadata": {
            "tags": []
          },
          "execution_count": 7
        }
      ]
    },
    {
      "cell_type": "code",
      "metadata": {
        "id": "h6XJMGKsoqk3",
        "outputId": "5dd4128a-c18f-4948-be60-f459a12c84ff",
        "colab": {
          "base_uri": "https://localhost:8080/",
          "height": 359
        }
      },
      "source": [
        "data.rename(columns={\"DrawDate\": 'ds', \"LuckyNo\": \"y\" }, inplace=True)\n",
        "ts_data = data.drop(columns=[\"DrawNo\", \"PrizeType\"])\n",
        "ts_data.head(10)"
      ],
      "execution_count": 8,
      "outputs": [
        {
          "output_type": "execute_result",
          "data": {
            "text/html": [
              "<div>\n",
              "<style scoped>\n",
              "    .dataframe tbody tr th:only-of-type {\n",
              "        vertical-align: middle;\n",
              "    }\n",
              "\n",
              "    .dataframe tbody tr th {\n",
              "        vertical-align: top;\n",
              "    }\n",
              "\n",
              "    .dataframe thead th {\n",
              "        text-align: right;\n",
              "    }\n",
              "</style>\n",
              "<table border=\"1\" class=\"dataframe\">\n",
              "  <thead>\n",
              "    <tr style=\"text-align: right;\">\n",
              "      <th></th>\n",
              "      <th>ds</th>\n",
              "      <th>y</th>\n",
              "    </tr>\n",
              "  </thead>\n",
              "  <tbody>\n",
              "    <tr>\n",
              "      <th>0</th>\n",
              "      <td>1992-05-06</td>\n",
              "      <td>19</td>\n",
              "    </tr>\n",
              "    <tr>\n",
              "      <th>1</th>\n",
              "      <td>1992-05-06</td>\n",
              "      <td>1124</td>\n",
              "    </tr>\n",
              "    <tr>\n",
              "      <th>2</th>\n",
              "      <td>1992-05-06</td>\n",
              "      <td>592</td>\n",
              "    </tr>\n",
              "    <tr>\n",
              "      <th>3</th>\n",
              "      <td>1992-05-06</td>\n",
              "      <td>5311</td>\n",
              "    </tr>\n",
              "    <tr>\n",
              "      <th>4</th>\n",
              "      <td>1992-05-06</td>\n",
              "      <td>407</td>\n",
              "    </tr>\n",
              "    <tr>\n",
              "      <th>5</th>\n",
              "      <td>1992-05-06</td>\n",
              "      <td>1949</td>\n",
              "    </tr>\n",
              "    <tr>\n",
              "      <th>6</th>\n",
              "      <td>1992-05-06</td>\n",
              "      <td>1606</td>\n",
              "    </tr>\n",
              "    <tr>\n",
              "      <th>7</th>\n",
              "      <td>1992-05-06</td>\n",
              "      <td>3775</td>\n",
              "    </tr>\n",
              "    <tr>\n",
              "      <th>8</th>\n",
              "      <td>1992-05-06</td>\n",
              "      <td>6226</td>\n",
              "    </tr>\n",
              "    <tr>\n",
              "      <th>9</th>\n",
              "      <td>1992-05-06</td>\n",
              "      <td>1271</td>\n",
              "    </tr>\n",
              "  </tbody>\n",
              "</table>\n",
              "</div>"
            ],
            "text/plain": [
              "          ds     y\n",
              "0 1992-05-06    19\n",
              "1 1992-05-06  1124\n",
              "2 1992-05-06   592\n",
              "3 1992-05-06  5311\n",
              "4 1992-05-06   407\n",
              "5 1992-05-06  1949\n",
              "6 1992-05-06  1606\n",
              "7 1992-05-06  3775\n",
              "8 1992-05-06  6226\n",
              "9 1992-05-06  1271"
            ]
          },
          "metadata": {
            "tags": []
          },
          "execution_count": 8
        }
      ]
    },
    {
      "cell_type": "code",
      "metadata": {
        "id": "2BVBLZtirTXG",
        "outputId": "95b82add-c121-4ddc-c124-b98dc8aaa045",
        "colab": {
          "base_uri": "https://localhost:8080/",
          "height": 85
        }
      },
      "source": [
        "from ts_utils import *"
      ],
      "execution_count": 9,
      "outputs": [
        {
          "output_type": "stream",
          "text": [
            "/usr/local/lib/python3.6/dist-packages/statsmodels/tools/_testing.py:19: FutureWarning:\n",
            "\n",
            "pandas.util.testing is deprecated. Use the functions in the public API at pandas.testing instead.\n",
            "\n"
          ],
          "name": "stderr"
        }
      ]
    },
    {
      "cell_type": "code",
      "metadata": {
        "id": "PZKjh6enrwZ4"
      },
      "source": [
        "train_data = ts_data[ts_data['ds'].dt.year < 2020]\n",
        "test_data = ts_data[ts_data['ds'].dt.year >= 2020]"
      ],
      "execution_count": 19,
      "outputs": []
    },
    {
      "cell_type": "code",
      "metadata": {
        "id": "0DgV-M_HrwNT",
        "outputId": "ee89fa77-5a58-471c-bda0-365a29b0f61b",
        "colab": {
          "base_uri": "https://localhost:8080/",
          "height": 34
        }
      },
      "source": [
        "len(ts_data), len(train_data), len(test_data)"
      ],
      "execution_count": 20,
      "outputs": [
        {
          "output_type": "execute_result",
          "data": {
            "text/plain": [
              "(107847, 106835, 1012)"
            ]
          },
          "metadata": {
            "tags": []
          },
          "execution_count": 20
        }
      ]
    },
    {
      "cell_type": "code",
      "metadata": {
        "id": "ilfk9cHKZv8V",
        "outputId": "c6b9da9e-e0de-48a7-fbe2-106859845dc3",
        "colab": {
          "base_uri": "https://localhost:8080/",
          "height": 51
        }
      },
      "source": [
        "m = Prophet()\n",
        "m.fit(train_data)"
      ],
      "execution_count": 21,
      "outputs": [
        {
          "output_type": "stream",
          "text": [
            "INFO:fbprophet:Disabling daily seasonality. Run prophet with daily_seasonality=True to override this.\n"
          ],
          "name": "stderr"
        },
        {
          "output_type": "execute_result",
          "data": {
            "text/plain": [
              "<fbprophet.forecaster.Prophet at 0x7fc97bcf83c8>"
            ]
          },
          "metadata": {
            "tags": []
          },
          "execution_count": 21
        }
      ]
    },
    {
      "cell_type": "code",
      "metadata": {
        "id": "d0o7gFZdaSVC",
        "outputId": "91f098a7-f85d-4cf0-fa03-b38b23bdd40d",
        "colab": {
          "base_uri": "https://localhost:8080/",
          "height": 419
        }
      },
      "source": [
        "future = pd.DataFrame(test_data['ds'])\n",
        "future"
      ],
      "execution_count": 25,
      "outputs": [
        {
          "output_type": "execute_result",
          "data": {
            "text/html": [
              "<div>\n",
              "<style scoped>\n",
              "    .dataframe tbody tr th:only-of-type {\n",
              "        vertical-align: middle;\n",
              "    }\n",
              "\n",
              "    .dataframe tbody tr th {\n",
              "        vertical-align: top;\n",
              "    }\n",
              "\n",
              "    .dataframe thead th {\n",
              "        text-align: right;\n",
              "    }\n",
              "</style>\n",
              "<table border=\"1\" class=\"dataframe\">\n",
              "  <thead>\n",
              "    <tr style=\"text-align: right;\">\n",
              "      <th></th>\n",
              "      <th>ds</th>\n",
              "    </tr>\n",
              "  </thead>\n",
              "  <tbody>\n",
              "    <tr>\n",
              "      <th>106835</th>\n",
              "      <td>2020-01-01</td>\n",
              "    </tr>\n",
              "    <tr>\n",
              "      <th>106836</th>\n",
              "      <td>2020-01-01</td>\n",
              "    </tr>\n",
              "    <tr>\n",
              "      <th>106837</th>\n",
              "      <td>2020-01-01</td>\n",
              "    </tr>\n",
              "    <tr>\n",
              "      <th>106838</th>\n",
              "      <td>2020-01-01</td>\n",
              "    </tr>\n",
              "    <tr>\n",
              "      <th>106839</th>\n",
              "      <td>2020-01-01</td>\n",
              "    </tr>\n",
              "    <tr>\n",
              "      <th>...</th>\n",
              "      <td>...</td>\n",
              "    </tr>\n",
              "    <tr>\n",
              "      <th>107842</th>\n",
              "      <td>2020-07-04</td>\n",
              "    </tr>\n",
              "    <tr>\n",
              "      <th>107843</th>\n",
              "      <td>2020-07-04</td>\n",
              "    </tr>\n",
              "    <tr>\n",
              "      <th>107844</th>\n",
              "      <td>2020-07-04</td>\n",
              "    </tr>\n",
              "    <tr>\n",
              "      <th>107845</th>\n",
              "      <td>2020-07-04</td>\n",
              "    </tr>\n",
              "    <tr>\n",
              "      <th>107846</th>\n",
              "      <td>2020-07-04</td>\n",
              "    </tr>\n",
              "  </tbody>\n",
              "</table>\n",
              "<p>1012 rows × 1 columns</p>\n",
              "</div>"
            ],
            "text/plain": [
              "               ds\n",
              "106835 2020-01-01\n",
              "106836 2020-01-01\n",
              "106837 2020-01-01\n",
              "106838 2020-01-01\n",
              "106839 2020-01-01\n",
              "...           ...\n",
              "107842 2020-07-04\n",
              "107843 2020-07-04\n",
              "107844 2020-07-04\n",
              "107845 2020-07-04\n",
              "107846 2020-07-04\n",
              "\n",
              "[1012 rows x 1 columns]"
            ]
          },
          "metadata": {
            "tags": []
          },
          "execution_count": 25
        }
      ]
    },
    {
      "cell_type": "code",
      "metadata": {
        "id": "A2MoNN_1uX0a",
        "outputId": "22bc898f-04b6-443f-f674-113c736a3dff",
        "colab": {
          "base_uri": "https://localhost:8080/",
          "height": 762
        }
      },
      "source": [
        "forecast = m.predict(future)\n",
        "forecast[['ds', 'yhat', 'yhat_lower', 'yhat_upper']].tail(23)"
      ],
      "execution_count": 30,
      "outputs": [
        {
          "output_type": "execute_result",
          "data": {
            "text/html": [
              "<div>\n",
              "<style scoped>\n",
              "    .dataframe tbody tr th:only-of-type {\n",
              "        vertical-align: middle;\n",
              "    }\n",
              "\n",
              "    .dataframe tbody tr th {\n",
              "        vertical-align: top;\n",
              "    }\n",
              "\n",
              "    .dataframe thead th {\n",
              "        text-align: right;\n",
              "    }\n",
              "</style>\n",
              "<table border=\"1\" class=\"dataframe\">\n",
              "  <thead>\n",
              "    <tr style=\"text-align: right;\">\n",
              "      <th></th>\n",
              "      <th>ds</th>\n",
              "      <th>yhat</th>\n",
              "      <th>yhat_lower</th>\n",
              "      <th>yhat_upper</th>\n",
              "    </tr>\n",
              "  </thead>\n",
              "  <tbody>\n",
              "    <tr>\n",
              "      <th>989</th>\n",
              "      <td>2020-07-04</td>\n",
              "      <td>4994.148624</td>\n",
              "      <td>1180.202507</td>\n",
              "      <td>8668.951516</td>\n",
              "    </tr>\n",
              "    <tr>\n",
              "      <th>990</th>\n",
              "      <td>2020-07-04</td>\n",
              "      <td>4994.148624</td>\n",
              "      <td>1220.599797</td>\n",
              "      <td>8638.878536</td>\n",
              "    </tr>\n",
              "    <tr>\n",
              "      <th>991</th>\n",
              "      <td>2020-07-04</td>\n",
              "      <td>4994.148624</td>\n",
              "      <td>1499.860519</td>\n",
              "      <td>8504.334684</td>\n",
              "    </tr>\n",
              "    <tr>\n",
              "      <th>992</th>\n",
              "      <td>2020-07-04</td>\n",
              "      <td>4994.148624</td>\n",
              "      <td>1448.563933</td>\n",
              "      <td>8717.213672</td>\n",
              "    </tr>\n",
              "    <tr>\n",
              "      <th>993</th>\n",
              "      <td>2020-07-04</td>\n",
              "      <td>4994.148624</td>\n",
              "      <td>1345.004130</td>\n",
              "      <td>8684.236243</td>\n",
              "    </tr>\n",
              "    <tr>\n",
              "      <th>994</th>\n",
              "      <td>2020-07-04</td>\n",
              "      <td>4994.148624</td>\n",
              "      <td>1163.002173</td>\n",
              "      <td>8479.969127</td>\n",
              "    </tr>\n",
              "    <tr>\n",
              "      <th>995</th>\n",
              "      <td>2020-07-04</td>\n",
              "      <td>4994.148624</td>\n",
              "      <td>1142.696376</td>\n",
              "      <td>8583.786378</td>\n",
              "    </tr>\n",
              "    <tr>\n",
              "      <th>996</th>\n",
              "      <td>2020-07-04</td>\n",
              "      <td>4994.148624</td>\n",
              "      <td>1570.404780</td>\n",
              "      <td>8868.374577</td>\n",
              "    </tr>\n",
              "    <tr>\n",
              "      <th>997</th>\n",
              "      <td>2020-07-04</td>\n",
              "      <td>4994.148624</td>\n",
              "      <td>1416.605484</td>\n",
              "      <td>8987.025916</td>\n",
              "    </tr>\n",
              "    <tr>\n",
              "      <th>998</th>\n",
              "      <td>2020-07-04</td>\n",
              "      <td>4994.148624</td>\n",
              "      <td>1536.475456</td>\n",
              "      <td>8708.640598</td>\n",
              "    </tr>\n",
              "    <tr>\n",
              "      <th>999</th>\n",
              "      <td>2020-07-04</td>\n",
              "      <td>4994.148624</td>\n",
              "      <td>1440.240821</td>\n",
              "      <td>8793.305647</td>\n",
              "    </tr>\n",
              "    <tr>\n",
              "      <th>1000</th>\n",
              "      <td>2020-07-04</td>\n",
              "      <td>4994.148624</td>\n",
              "      <td>1410.350551</td>\n",
              "      <td>8615.391348</td>\n",
              "    </tr>\n",
              "    <tr>\n",
              "      <th>1001</th>\n",
              "      <td>2020-07-04</td>\n",
              "      <td>4994.148624</td>\n",
              "      <td>1585.151573</td>\n",
              "      <td>8519.145145</td>\n",
              "    </tr>\n",
              "    <tr>\n",
              "      <th>1002</th>\n",
              "      <td>2020-07-04</td>\n",
              "      <td>4994.148624</td>\n",
              "      <td>1054.062867</td>\n",
              "      <td>8559.364714</td>\n",
              "    </tr>\n",
              "    <tr>\n",
              "      <th>1003</th>\n",
              "      <td>2020-07-04</td>\n",
              "      <td>4994.148624</td>\n",
              "      <td>1595.078533</td>\n",
              "      <td>8961.750690</td>\n",
              "    </tr>\n",
              "    <tr>\n",
              "      <th>1004</th>\n",
              "      <td>2020-07-04</td>\n",
              "      <td>4994.148624</td>\n",
              "      <td>1226.168765</td>\n",
              "      <td>8496.130061</td>\n",
              "    </tr>\n",
              "    <tr>\n",
              "      <th>1005</th>\n",
              "      <td>2020-07-04</td>\n",
              "      <td>4994.148624</td>\n",
              "      <td>1352.586066</td>\n",
              "      <td>8746.976519</td>\n",
              "    </tr>\n",
              "    <tr>\n",
              "      <th>1006</th>\n",
              "      <td>2020-07-04</td>\n",
              "      <td>4994.148624</td>\n",
              "      <td>1224.269237</td>\n",
              "      <td>8688.598544</td>\n",
              "    </tr>\n",
              "    <tr>\n",
              "      <th>1007</th>\n",
              "      <td>2020-07-04</td>\n",
              "      <td>4994.148624</td>\n",
              "      <td>1434.551677</td>\n",
              "      <td>8839.508331</td>\n",
              "    </tr>\n",
              "    <tr>\n",
              "      <th>1008</th>\n",
              "      <td>2020-07-04</td>\n",
              "      <td>4994.148624</td>\n",
              "      <td>1366.727237</td>\n",
              "      <td>8640.916468</td>\n",
              "    </tr>\n",
              "    <tr>\n",
              "      <th>1009</th>\n",
              "      <td>2020-07-04</td>\n",
              "      <td>4994.148624</td>\n",
              "      <td>1293.233474</td>\n",
              "      <td>8836.088751</td>\n",
              "    </tr>\n",
              "    <tr>\n",
              "      <th>1010</th>\n",
              "      <td>2020-07-04</td>\n",
              "      <td>4994.148624</td>\n",
              "      <td>1222.517351</td>\n",
              "      <td>8772.673158</td>\n",
              "    </tr>\n",
              "    <tr>\n",
              "      <th>1011</th>\n",
              "      <td>2020-07-04</td>\n",
              "      <td>4994.148624</td>\n",
              "      <td>1190.589951</td>\n",
              "      <td>8430.506106</td>\n",
              "    </tr>\n",
              "  </tbody>\n",
              "</table>\n",
              "</div>"
            ],
            "text/plain": [
              "             ds         yhat   yhat_lower   yhat_upper\n",
              "989  2020-07-04  4994.148624  1180.202507  8668.951516\n",
              "990  2020-07-04  4994.148624  1220.599797  8638.878536\n",
              "991  2020-07-04  4994.148624  1499.860519  8504.334684\n",
              "992  2020-07-04  4994.148624  1448.563933  8717.213672\n",
              "993  2020-07-04  4994.148624  1345.004130  8684.236243\n",
              "994  2020-07-04  4994.148624  1163.002173  8479.969127\n",
              "995  2020-07-04  4994.148624  1142.696376  8583.786378\n",
              "996  2020-07-04  4994.148624  1570.404780  8868.374577\n",
              "997  2020-07-04  4994.148624  1416.605484  8987.025916\n",
              "998  2020-07-04  4994.148624  1536.475456  8708.640598\n",
              "999  2020-07-04  4994.148624  1440.240821  8793.305647\n",
              "1000 2020-07-04  4994.148624  1410.350551  8615.391348\n",
              "1001 2020-07-04  4994.148624  1585.151573  8519.145145\n",
              "1002 2020-07-04  4994.148624  1054.062867  8559.364714\n",
              "1003 2020-07-04  4994.148624  1595.078533  8961.750690\n",
              "1004 2020-07-04  4994.148624  1226.168765  8496.130061\n",
              "1005 2020-07-04  4994.148624  1352.586066  8746.976519\n",
              "1006 2020-07-04  4994.148624  1224.269237  8688.598544\n",
              "1007 2020-07-04  4994.148624  1434.551677  8839.508331\n",
              "1008 2020-07-04  4994.148624  1366.727237  8640.916468\n",
              "1009 2020-07-04  4994.148624  1293.233474  8836.088751\n",
              "1010 2020-07-04  4994.148624  1222.517351  8772.673158\n",
              "1011 2020-07-04  4994.148624  1190.589951  8430.506106"
            ]
          },
          "metadata": {
            "tags": []
          },
          "execution_count": 30
        }
      ]
    },
    {
      "cell_type": "code",
      "metadata": {
        "id": "lyyt3Hfaavoa",
        "outputId": "6fd8b9b9-237a-4180-e118-1ffb11d6ace7",
        "colab": {
          "base_uri": "https://localhost:8080/",
          "height": 762
        }
      },
      "source": [
        "test_data.tail(23)"
      ],
      "execution_count": 28,
      "outputs": [
        {
          "output_type": "execute_result",
          "data": {
            "text/html": [
              "<div>\n",
              "<style scoped>\n",
              "    .dataframe tbody tr th:only-of-type {\n",
              "        vertical-align: middle;\n",
              "    }\n",
              "\n",
              "    .dataframe tbody tr th {\n",
              "        vertical-align: top;\n",
              "    }\n",
              "\n",
              "    .dataframe thead th {\n",
              "        text-align: right;\n",
              "    }\n",
              "</style>\n",
              "<table border=\"1\" class=\"dataframe\">\n",
              "  <thead>\n",
              "    <tr style=\"text-align: right;\">\n",
              "      <th></th>\n",
              "      <th>ds</th>\n",
              "      <th>y</th>\n",
              "    </tr>\n",
              "  </thead>\n",
              "  <tbody>\n",
              "    <tr>\n",
              "      <th>107824</th>\n",
              "      <td>2020-07-04</td>\n",
              "      <td>2999</td>\n",
              "    </tr>\n",
              "    <tr>\n",
              "      <th>107825</th>\n",
              "      <td>2020-07-04</td>\n",
              "      <td>115</td>\n",
              "    </tr>\n",
              "    <tr>\n",
              "      <th>107826</th>\n",
              "      <td>2020-07-04</td>\n",
              "      <td>5808</td>\n",
              "    </tr>\n",
              "    <tr>\n",
              "      <th>107827</th>\n",
              "      <td>2020-07-04</td>\n",
              "      <td>6792</td>\n",
              "    </tr>\n",
              "    <tr>\n",
              "      <th>107828</th>\n",
              "      <td>2020-07-04</td>\n",
              "      <td>5049</td>\n",
              "    </tr>\n",
              "    <tr>\n",
              "      <th>107829</th>\n",
              "      <td>2020-07-04</td>\n",
              "      <td>9926</td>\n",
              "    </tr>\n",
              "    <tr>\n",
              "      <th>107830</th>\n",
              "      <td>2020-07-04</td>\n",
              "      <td>8257</td>\n",
              "    </tr>\n",
              "    <tr>\n",
              "      <th>107831</th>\n",
              "      <td>2020-07-04</td>\n",
              "      <td>7643</td>\n",
              "    </tr>\n",
              "    <tr>\n",
              "      <th>107832</th>\n",
              "      <td>2020-07-04</td>\n",
              "      <td>204</td>\n",
              "    </tr>\n",
              "    <tr>\n",
              "      <th>107833</th>\n",
              "      <td>2020-07-04</td>\n",
              "      <td>6606</td>\n",
              "    </tr>\n",
              "    <tr>\n",
              "      <th>107834</th>\n",
              "      <td>2020-07-04</td>\n",
              "      <td>7656</td>\n",
              "    </tr>\n",
              "    <tr>\n",
              "      <th>107835</th>\n",
              "      <td>2020-07-04</td>\n",
              "      <td>7991</td>\n",
              "    </tr>\n",
              "    <tr>\n",
              "      <th>107836</th>\n",
              "      <td>2020-07-04</td>\n",
              "      <td>8514</td>\n",
              "    </tr>\n",
              "    <tr>\n",
              "      <th>107837</th>\n",
              "      <td>2020-07-04</td>\n",
              "      <td>8800</td>\n",
              "    </tr>\n",
              "    <tr>\n",
              "      <th>107838</th>\n",
              "      <td>2020-07-04</td>\n",
              "      <td>2761</td>\n",
              "    </tr>\n",
              "    <tr>\n",
              "      <th>107839</th>\n",
              "      <td>2020-07-04</td>\n",
              "      <td>793</td>\n",
              "    </tr>\n",
              "    <tr>\n",
              "      <th>107840</th>\n",
              "      <td>2020-07-04</td>\n",
              "      <td>4488</td>\n",
              "    </tr>\n",
              "    <tr>\n",
              "      <th>107841</th>\n",
              "      <td>2020-07-04</td>\n",
              "      <td>9952</td>\n",
              "    </tr>\n",
              "    <tr>\n",
              "      <th>107842</th>\n",
              "      <td>2020-07-04</td>\n",
              "      <td>1671</td>\n",
              "    </tr>\n",
              "    <tr>\n",
              "      <th>107843</th>\n",
              "      <td>2020-07-04</td>\n",
              "      <td>3808</td>\n",
              "    </tr>\n",
              "    <tr>\n",
              "      <th>107844</th>\n",
              "      <td>2020-07-04</td>\n",
              "      <td>1011</td>\n",
              "    </tr>\n",
              "    <tr>\n",
              "      <th>107845</th>\n",
              "      <td>2020-07-04</td>\n",
              "      <td>2639</td>\n",
              "    </tr>\n",
              "    <tr>\n",
              "      <th>107846</th>\n",
              "      <td>2020-07-04</td>\n",
              "      <td>3009</td>\n",
              "    </tr>\n",
              "  </tbody>\n",
              "</table>\n",
              "</div>"
            ],
            "text/plain": [
              "               ds     y\n",
              "107824 2020-07-04  2999\n",
              "107825 2020-07-04   115\n",
              "107826 2020-07-04  5808\n",
              "107827 2020-07-04  6792\n",
              "107828 2020-07-04  5049\n",
              "107829 2020-07-04  9926\n",
              "107830 2020-07-04  8257\n",
              "107831 2020-07-04  7643\n",
              "107832 2020-07-04   204\n",
              "107833 2020-07-04  6606\n",
              "107834 2020-07-04  7656\n",
              "107835 2020-07-04  7991\n",
              "107836 2020-07-04  8514\n",
              "107837 2020-07-04  8800\n",
              "107838 2020-07-04  2761\n",
              "107839 2020-07-04   793\n",
              "107840 2020-07-04  4488\n",
              "107841 2020-07-04  9952\n",
              "107842 2020-07-04  1671\n",
              "107843 2020-07-04  3808\n",
              "107844 2020-07-04  1011\n",
              "107845 2020-07-04  2639\n",
              "107846 2020-07-04  3009"
            ]
          },
          "metadata": {
            "tags": []
          },
          "execution_count": 28
        }
      ]
    },
    {
      "cell_type": "code",
      "metadata": {
        "id": "kTsBvH0cu0rp"
      },
      "source": [
        ""
      ],
      "execution_count": null,
      "outputs": []
    }
  ]
}
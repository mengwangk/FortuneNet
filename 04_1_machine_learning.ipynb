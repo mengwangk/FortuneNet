{
 "cells": [
  {
   "cell_type": "markdown",
   "metadata": {},
   "source": [
    "# Training "
   ]
  },
  {
   "cell_type": "code",
   "execution_count": 49,
   "metadata": {},
   "outputs": [],
   "source": [
    "import numpy as np\n",
    "import pandas as pd\n",
    "import seaborn as sns\n",
    "import matplotlib.pyplot as plt\n",
    "import featuretools as ft\n",
    "import scipy.stats as ss\n",
    "import math \n",
    "import matplotlib\n",
    "\n",
    "from scipy import stats\n",
    "from collections import Counter\n",
    "from pathlib import Path\n",
    "\n",
    "%matplotlib inline\n",
    "\n",
    "sns.set(style=\"ticks\")\n",
    "\n",
    "from utils import *"
   ]
  },
  {
   "cell_type": "code",
   "execution_count": 50,
   "metadata": {},
   "outputs": [
    {
     "data": {
      "text/plain": [
       "(Index(['LuckyNo', '1st_digit', '2nd_digit', '3rd_digit', '4th_digit',\n",
       "        'PrizeType', 'DrawNo', 'DaysSinceLastExactMatch',\n",
       "        'DaysUntilNextExactMatch', 'DaysSinceLastAnyMatch',\n",
       "        'DaysUntilNextAnyMatch', 'DrawYear', 'DrawMonth', 'DrawWeek',\n",
       "        'DrawDayofweek', 'DrawDayofyear', 'CumProbaExactMatch',\n",
       "        'CumProbaAnyMatch', 'DrawDate', 'TotalMean', '1stDigitMean',\n",
       "        '2ndDigitMean', '3rdDigitMean', '4thDigitMean'],\n",
       "       dtype='object'), 24)"
      ]
     },
     "execution_count": 50,
     "metadata": {},
     "output_type": "execute_result"
    }
   ],
   "source": [
    "DATASET = Path(\"datasets/lotto/data_processed_2.csv\")\n",
    "\n",
    "# The Answer to the Ultimate Question of Life, the Universe, and Everything.\n",
    "np.random.seed(42)\n",
    "\n",
    "# Read into data frame\n",
    "dataset = pd.read_csv(DATASET, header=0, sep=',', quotechar='\"', parse_dates=['DrawDate'], dtype={'PrizeType': str})\n",
    "\n",
    "dataset.columns, len(dataset.columns)"
   ]
  },
  {
   "cell_type": "code",
   "execution_count": 51,
   "metadata": {},
   "outputs": [],
   "source": [
    "df = dataset.copy()"
   ]
  },
  {
   "cell_type": "code",
   "execution_count": 52,
   "metadata": {},
   "outputs": [
    {
     "data": {
      "text/plain": [
       "(13, 1)"
      ]
     },
     "execution_count": 52,
     "metadata": {},
     "output_type": "execute_result"
    }
   ],
   "source": [
    "num_attrs = [\"TotalMean\", \"1stDigitMean\", \"2ndDigitMean\", \n",
    "            \"DaysUntilNextExactMatch\", \"DaysSinceLastExactMatch\",\n",
    "            \"DrawDayofweek\", \"DaysUntilNextAnyMatch\",\n",
    "            \"4thDigitMean\", \"DaysSinceLastAnyMatch\",\n",
    "            \"3rdDigitMean\", \"DrawWeek\", \"DrawDayofyear\", \"DrawMonth\"\n",
    "            ]\n",
    "cat_attrs = [\"PrizeType\"]\n",
    "label = [\"LuckyNo\"]\n",
    "len(num_attrs), len(cat_attrs)"
   ]
  },
  {
   "cell_type": "markdown",
   "metadata": {},
   "source": [
    "### Train Test Split"
   ]
  },
  {
   "cell_type": "code",
   "execution_count": 53,
   "metadata": {},
   "outputs": [],
   "source": [
    "from sklearn.model_selection import train_test_split"
   ]
  },
  {
   "cell_type": "code",
   "execution_count": 54,
   "metadata": {},
   "outputs": [],
   "source": [
    "train_set, test_set = train_test_split(df, test_size=0.2, random_state=42)"
   ]
  },
  {
   "cell_type": "code",
   "execution_count": 55,
   "metadata": {},
   "outputs": [
    {
     "data": {
      "text/plain": [
       "((83738, 24), (20935, 24))"
      ]
     },
     "execution_count": 55,
     "metadata": {},
     "output_type": "execute_result"
    }
   ],
   "source": [
    "train_set.shape, test_set.shape"
   ]
  },
  {
   "cell_type": "code",
   "execution_count": 81,
   "metadata": {},
   "outputs": [
    {
     "data": {
      "text/plain": [
       "((83738, 14), (83738, 1))"
      ]
     },
     "execution_count": 81,
     "metadata": {},
     "output_type": "execute_result"
    }
   ],
   "source": [
    "data = train_set[num_attrs + cat_attrs]\n",
    "labels = train_set[label].copy()\n",
    "data.shape, labels.shape"
   ]
  },
  {
   "cell_type": "markdown",
   "metadata": {},
   "source": [
    "### Preprocessing"
   ]
  },
  {
   "cell_type": "code",
   "execution_count": 73,
   "metadata": {},
   "outputs": [],
   "source": [
    "from sklearn.pipeline import Pipeline\n",
    "from sklearn.preprocessing import StandardScaler, OneHotEncoder, LabelBinarizer"
   ]
  },
  {
   "cell_type": "code",
   "execution_count": 74,
   "metadata": {},
   "outputs": [],
   "source": [
    "num_pipeline = Pipeline([\n",
    "        ('std_scaler', StandardScaler()),\n",
    "    ])\n",
    "\n",
    "cat_pipeline = num_pipeline = Pipeline([\n",
    "       (\"cat\", OneHotEncoder(categories='auto'))\n",
    "    ])"
   ]
  },
  {
   "cell_type": "code",
   "execution_count": 75,
   "metadata": {},
   "outputs": [
    {
     "name": "stdout",
     "output_type": "stream",
     "text": [
      "[[4.97435594e+03 4.47595109e+00 4.48958657e+00 ... 1.00000000e+00\n",
      "  5.00000000e+00 1.00000000e+00]\n",
      " [4.97801962e+03 4.47898887e+00 4.49526242e+00 ... 3.50000000e+01\n",
      "  2.42000000e+02 8.00000000e+00]\n",
      " [4.97647746e+03 4.47743438e+00 4.49504685e+00 ... 4.40000000e+01\n",
      "  3.06000000e+02 1.10000000e+01]\n",
      " ...\n",
      " [4.97570271e+03 4.47722912e+00 4.49034299e+00 ... 1.00000000e+01\n",
      "  6.50000000e+01 3.00000000e+00]\n",
      " [5.00980206e+03 4.51258581e+00 4.47482838e+00 ... 3.10000000e+01\n",
      "  2.12000000e+02 7.00000000e+00]\n",
      " [4.98869382e+03 4.48395671e+00 4.54825644e+00 ... 3.80000000e+01\n",
      "  2.65000000e+02 9.00000000e+00]]\n"
     ]
    }
   ],
   "source": [
    "data_num_attrs = num_pipeline.fit_transform(data[num_attrs])\n",
    "print(num_pipeline.inverse_transform(data_num_attrs))"
   ]
  },
  {
   "cell_type": "code",
   "execution_count": 76,
   "metadata": {},
   "outputs": [
    {
     "name": "stdout",
     "output_type": "stream",
     "text": [
      "[['ConsolationNo1']\n",
      " ['1stPrizeNo']\n",
      " ['SpecialNo2']\n",
      " ...\n",
      " ['ConsolationNo7']\n",
      " ['ConsolationNo6']\n",
      " ['SpecialNo4']]\n"
     ]
    }
   ],
   "source": [
    "data_cat_attrs = cat_pipeline.fit_transform(data[cat_attrs])\n",
    "print(cat_pipeline.inverse_transform(data_cat_attrs))"
   ]
  },
  {
   "cell_type": "code",
   "execution_count": 77,
   "metadata": {},
   "outputs": [
    {
     "data": {
      "text/plain": [
       "((83738, 32483), (83738, 23))"
      ]
     },
     "execution_count": 77,
     "metadata": {},
     "output_type": "execute_result"
    }
   ],
   "source": [
    "data_num_attrs.shape, data_cat_attrs.shape"
   ]
  },
  {
   "cell_type": "code",
   "execution_count": 78,
   "metadata": {},
   "outputs": [
    {
     "data": {
      "text/plain": [
       "(83738, 32506)"
      ]
     },
     "execution_count": 78,
     "metadata": {},
     "output_type": "execute_result"
    }
   ],
   "source": [
    "from sklearn.compose import ColumnTransformer\n",
    "\n",
    "full_pipeline = ColumnTransformer([\n",
    "        (\"num\", num_pipeline, num_attrs),\n",
    "        (\"cat\", cat_pipeline, cat_attrs),\n",
    "    ])\n",
    "\n",
    "data_prepared = full_pipeline.fit_transform(data)\n",
    "data_prepared.shape"
   ]
  },
  {
   "cell_type": "code",
   "execution_count": 79,
   "metadata": {},
   "outputs": [
    {
     "data": {
      "text/plain": [
       "LinearRegression(copy_X=True, fit_intercept=True, n_jobs=None,\n",
       "         normalize=False)"
      ]
     },
     "execution_count": 79,
     "metadata": {},
     "output_type": "execute_result"
    }
   ],
   "source": [
    "from sklearn.linear_model import LinearRegression\n",
    "\n",
    "lin_reg = LinearRegression()\n",
    "lin_reg.fit(data_prepared, data_labels)"
   ]
  },
  {
   "cell_type": "code",
   "execution_count": 82,
   "metadata": {},
   "outputs": [
    {
     "name": "stdout",
     "output_type": "stream",
     "text": [
      "Predictions: [[4463.51708075]\n",
      " [5130.42552388]\n",
      " [5330.17111437]\n",
      " [4667.01141844]\n",
      " [5477.38395408]]\n"
     ]
    }
   ],
   "source": [
    "# let's try the full preprocessing pipeline on a few training instances\n",
    "some_data = data.iloc[:5]\n",
    "some_labels = labels.iloc[:5]\n",
    "some_data_prepared = full_pipeline.transform(some_data)\n",
    "\n",
    "print(\"Predictions:\", lin_reg.predict(some_data_prepared))"
   ]
  },
  {
   "cell_type": "code",
   "execution_count": 84,
   "metadata": {},
   "outputs": [
    {
     "name": "stdout",
     "output_type": "stream",
     "text": [
      "Labels:         LuckyNo\n",
      "103020     6266\n",
      "89263       249\n",
      "85897      3339\n",
      "54297      8800\n",
      "996        3024\n"
     ]
    }
   ],
   "source": [
    "print(\"Labels:\", some_labels)"
   ]
  },
  {
   "cell_type": "code",
   "execution_count": 88,
   "metadata": {},
   "outputs": [
    {
     "data": {
      "text/plain": [
       "2625.7318516601754"
      ]
     },
     "execution_count": 88,
     "metadata": {},
     "output_type": "execute_result"
    }
   ],
   "source": [
    "from sklearn.metrics import mean_squared_error\n",
    "\n",
    "predictions = lin_reg.predict(data_prepared)\n",
    "lin_mse = mean_squared_error(labels, predictions)\n",
    "lin_rmse = np.sqrt(lin_mse)\n",
    "lin_rmse"
   ]
  },
  {
   "cell_type": "code",
   "execution_count": null,
   "metadata": {},
   "outputs": [],
   "source": []
  }
 ],
 "metadata": {
  "kernelspec": {
   "display_name": "Python 3",
   "language": "python",
   "name": "python3"
  },
  "language_info": {
   "codemirror_mode": {
    "name": "ipython",
    "version": 3
   },
   "file_extension": ".py",
   "mimetype": "text/x-python",
   "name": "python",
   "nbconvert_exporter": "python",
   "pygments_lexer": "ipython3",
   "version": "3.7.2"
  }
 },
 "nbformat": 4,
 "nbformat_minor": 2
}

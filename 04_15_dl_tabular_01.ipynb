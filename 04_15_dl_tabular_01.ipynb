{
 "cells": [
  {
   "cell_type": "markdown",
   "metadata": {
    "colab_type": "text",
    "id": "I7aG9jzGoP18"
   },
   "source": [
    "# Dataset"
   ]
  },
  {
   "cell_type": "code",
   "execution_count": null,
   "metadata": {
    "colab": {},
    "colab_type": "code",
    "id": "zlVvNIxToP1-"
   },
   "outputs": [],
   "source": [
    "from IPython.core.interactiveshell import InteractiveShell\n",
    "InteractiveShell.ast_node_interactivity = \"all\"\n",
    "\n",
    "%load_ext autoreload\n",
    "%autoreload 2"
   ]
  },
  {
   "cell_type": "code",
   "execution_count": null,
   "metadata": {
    "colab": {},
    "colab_type": "code",
    "id": "UXQchcJCoP2E"
   },
   "outputs": [],
   "source": [
    "required_libs = [ (\"numpy\", \"numpy\"),\n",
    "                 (\"pandas\", \"pandas\"),\n",
    "                 (\"seaborn\", \"seaborn\"),\n",
    "                 (\"matplotlib\", \"matplotlib\"),\n",
    "                 (\"sklearn\", \"sklearn\"),\n",
    "                 (\"colorama\", \"colorama\"),\n",
    "                 (\"emoji\", \"emoji\"),\n",
    "                 (\"fastai\", \"fastai\"),\n",
    "                ]"
   ]
  },
  {
   "cell_type": "code",
   "execution_count": null,
   "metadata": {
    "colab": {},
    "colab_type": "code",
    "id": "Uyzk4kXYoP2J"
   },
   "outputs": [],
   "source": [
    "def is_lib_exists(name):\n",
    "    import importlib\n",
    "    lib = importlib.util.find_spec(name)\n",
    "    return lib is not None"
   ]
  },
  {
   "cell_type": "code",
   "execution_count": null,
   "metadata": {
    "colab": {},
    "colab_type": "code",
    "id": "5SJ6r_j2oP2N"
   },
   "outputs": [],
   "source": [
    "for (clz,lib) in required_libs:\n",
    "    if not is_lib_exists(clz):\n",
    "        print(f\"Installing {lib}\")\n",
    "        !pip -Uqq install {lib}\n",
    "    else:\n",
    "        print(f\"{lib} exists\")"
   ]
  },
  {
   "cell_type": "code",
   "execution_count": null,
   "metadata": {
    "colab": {},
    "colab_type": "code",
    "id": "hRyT0uoNoP2Q"
   },
   "outputs": [],
   "source": [
    "COLAB = True\n",
    "\n",
    "DATASET_NAME = '4D.zip'\n",
    "\n",
    "FEATURE_DATASET_PREFIX = 'feature_matrix_d2_v3'"
   ]
  },
  {
   "cell_type": "code",
   "execution_count": null,
   "metadata": {
    "colab": {},
    "colab_type": "code",
    "id": "zEbqmb8KoP2S"
   },
   "outputs": [],
   "source": [
    "import numpy as np\n",
    "import pandas as pd\n",
    "import seaborn as sns\n",
    "import matplotlib.pyplot as plt\n",
    "import calendar\n",
    "import traceback\n",
    "import catboost\n",
    "import gc\n",
    "from pathlib import Path\n",
    "from dateutil.relativedelta import *\n",
    "from datetime import *\n",
    "from catboost import *\n",
    "from catboost import datasets\n",
    "from catboost import CatBoostClassifier\n",
    "from scipy import stats\n",
    "from scipy.stats.stats import pearsonr\n",
    "from pandas.api.types import is_string_dtype, is_numeric_dtype, is_categorical_dtype\n",
    "from fastai.tabular.all import \n",
    "np.set_printoptions(precision=4)\n",
    "pd.options.display.max_columns = None"
   ]
  },
  {
   "cell_type": "code",
   "execution_count": null,
   "metadata": {
    "colab": {},
    "colab_type": "code",
    "id": "C-7Jn85JoP2V"
   },
   "outputs": [],
   "source": [
    "%matplotlib inline\n",
    "%aimport"
   ]
  },
  {
   "cell_type": "code",
   "execution_count": null,
   "metadata": {
    "colab": {},
    "colab_type": "code",
    "id": "bRRyrDnzoP2a"
   },
   "outputs": [],
   "source": [
    "from IPython.display import display"
   ]
  },
  {
   "cell_type": "code",
   "execution_count": null,
   "metadata": {
    "colab": {},
    "colab_type": "code",
    "id": "WQ16s9UjoP2d"
   },
   "outputs": [],
   "source": [
    "# check catboost version\n",
    "print(catboost.__version__)\n",
    "!python --version"
   ]
  },
  {
   "cell_type": "code",
   "execution_count": null,
   "metadata": {
    "colab": {},
    "colab_type": "code",
    "id": "yGhSyyL2pSHj"
   },
   "outputs": [],
   "source": [
    "# colab setup\n",
    "if COLAB:\n",
    "  !rm -rf dl-projects\n",
    "  !git clone https://github.com/mengwangk/dl-projects\n",
    "  \n",
    "  !cp dl-projects/utils* .\n",
    "  !cp dl-projects/preprocess* .\n",
    "  !cp dl-projects/plot* .\n",
    "  \n",
    "  from google.colab import drive\n",
    "  drive.mount('/content/gdrive')\n",
    "  GDRIVE_DATASET_FOLDER = Path('gdrive/My Drive/datasets/')\n",
    "  DATASET_PATH = GDRIVE_DATASET_FOLDER\n",
    "  ORIGIN_DATASET_PATH = Path('dl-projects/datasets')\n",
    "  !ls -l gdrive/\"My Drive\"/datasets/ --block-size=M\n",
    "\n",
    "DATASET = DATASET_PATH/f\"{FEATURE_DATASET_PREFIX}.ft\"\n",
    "ORIGIN_DATASET = ORIGIN_DATASET_PATH/DATASET_NAME"
   ]
  },
  {
   "cell_type": "markdown",
   "metadata": {
    "colab_type": "text",
    "id": "gvnr5KFJoP2f"
   },
   "source": [
    "## EDA"
   ]
  },
  {
   "cell_type": "code",
   "execution_count": null,
   "metadata": {
    "colab": {},
    "colab_type": "code",
    "id": "ZV-CiR4Yrb7m"
   },
   "outputs": [],
   "source": [
    "from preprocess import *\n",
    "from utils import feature_selection, plot_feature_importances\n",
    "from plot import plot_correlation_matrix, plot_labeled_scatter"
   ]
  },
  {
   "cell_type": "code",
   "execution_count": null,
   "metadata": {
    "colab": {},
    "colab_type": "code",
    "id": "OTuQ19LcpP0L"
   },
   "outputs": [],
   "source": [
    "data = pd.read_feather(DATASET)\n",
    "origin_data = format_tabular(ORIGIN_DATASET)"
   ]
  },
  {
   "cell_type": "code",
   "execution_count": null,
   "metadata": {
    "colab": {},
    "colab_type": "code",
    "id": "NznUjX3ppQeG"
   },
   "outputs": [],
   "source": [
    "jan_2020 = pd.read_feather(DATASET_PATH/f\"feature_matrix_2020_jan.ft\")\n",
    "feb_2020 = pd.read_feather(DATASET_PATH/f\"feature_matrix_2020_feb.ft\")\n",
    "mar_2020 = pd.read_feather(DATASET_PATH/f\"feature_matrix_2020_mar.ft\")\n",
    "apr_2020 = pd.read_feather(DATASET_PATH/f\"feature_matrix_2020_apr.ft\")\n",
    "may_2020 = pd.read_feather(DATASET_PATH/f\"feature_matrix_2020_may.ft\")\n",
    "jun_2020 = pd.read_feather(DATASET_PATH/f\"feature_matrix_2020_jun.ft\")\n",
    "jul_2020 = pd.read_feather(DATASET_PATH/f\"feature_matrix_2020_jul.ft\")"
   ]
  },
  {
   "cell_type": "code",
   "execution_count": null,
   "metadata": {
    "colab": {},
    "colab_type": "code",
    "id": "Z4nQM7SkxbTM"
   },
   "outputs": [],
   "source": [
    "new_data = data.append(jan_2020[data.columns],ignore_index=True)\n",
    "new_data = new_data.append(feb_2020[data.columns],ignore_index=True)\n",
    "new_data = new_data.append(mar_2020[data.columns],ignore_index=True)\n",
    "new_data = new_data.append(apr_2020[data.columns],ignore_index=True)\n",
    "new_data = new_data.append(may_2020[data.columns],ignore_index=True)\n",
    "new_data = new_data.append(jun_2020[data.columns],ignore_index=True)\n",
    "new_data = new_data.append(jul_2020[data.columns],ignore_index=True)\n",
    "data.shape, new_data.shape "
   ]
  },
  {
   "cell_type": "code",
   "execution_count": null,
   "metadata": {
    "colab": {},
    "colab_type": "code",
    "id": "6fcS0WHNF84G"
   },
   "outputs": [],
   "source": [
    "data = new_data"
   ]
  },
  {
   "cell_type": "code",
   "execution_count": null,
   "metadata": {
    "colab": {},
    "colab_type": "code",
    "id": "P21A_rqdF_SP"
   },
   "outputs": [],
   "source": [
    "data.isna().sum().sort_values(ascending=False)"
   ]
  },
  {
   "cell_type": "code",
   "execution_count": null,
   "metadata": {
    "colab": {},
    "colab_type": "code",
    "id": "ifvYMCzTGY6X"
   },
   "outputs": [],
   "source": [
    "data.info(max_cols=500, null_counts=True)\n",
    "# data.columns.tolist()"
   ]
  },
  {
   "cell_type": "code",
   "execution_count": null,
   "metadata": {
    "colab": {},
    "colab_type": "code",
    "id": "hwDc-KVoGaG1"
   },
   "outputs": [],
   "source": [
    "feature_matrix = data\n",
    "feature_matrix = data.fillna(0)\n",
    "feature_matrix.sort_values(by=['time', 'MAX(Results.LuckyNo)'], inplace=True)\n",
    "feature_matrix.head(20)"
   ]
  },
  {
   "cell_type": "code",
   "execution_count": null,
   "metadata": {
    "colab": {},
    "colab_type": "code",
    "id": "gg7SIK0XLaDx"
   },
   "outputs": [],
   "source": [
    "from sklearn.feature_selection import SelectKBest\n",
    "from sklearn.feature_selection import f_classif, chi2, f_regression\n",
    "from sklearn.model_selection import train_test_split\n",
    "from sklearn.feature_selection import VarianceThreshold\n",
    "\n",
    "other_features = ['Label', 'NumberId', 'time', 'TotalStrike',  'month', 'year']\n",
    "# feature_matrix = feature_selection(data)\n",
    "\n",
    "def select_features(df, func=f_regression):\n",
    "  X = df.drop(columns=other_features)\n",
    "  y = df.Label\n",
    "  fs = SelectKBest(score_func=func, k=50)\n",
    "  X_selected = fs.fit_transform(X, y)\n",
    "  mask = fs.get_support()\n",
    "  return X.columns[mask]\n",
    "\n",
    "def reduce_features(df, lower_threshold=10, upper_threshold=10000):\n",
    "  cols_to_drop = []\n",
    "  for col in df.columns:\n",
    "    if df[col].nunique() > upper_threshold or df[col].nunique() < lower_threshold:\n",
    "      cols_to_drop.append(col)\n",
    "  print(cols_to_drop)\n",
    "  return cols_to_drop, df.drop(columns=cols_to_drop)\n",
    "\n",
    "def select_by_variance(df, threshold=0):\n",
    "  \"\"\"Select features by variance\"\"\"\n",
    "  filter = VarianceThreshold(threshold=threshold)\n",
    "  filter.fit(df)\n",
    "  cols_to_drop = [column for column in df.columns\n",
    "                  if column not in df.columns[filter.get_support()]]\n",
    "  print(f\"No of columns to drop - {len(cols_to_drop)}\")\n",
    "  print(cols_to_drop)\n",
    "  return cols_to_drop\n",
    "\n",
    "def select_duplicates(df):\n",
    "  df_transposed = df.head(20000).T\n",
    "  print(df_transposed.duplicated().sum())\n",
    "  unique_features = df_transposed.drop_duplicates(keep='first').T\n",
    "  print(unique_features.shape)\n",
    "  duplicated_features = [dup_col for dup_col in df.columns if dup_col not in unique_features.columns]\n",
    "  return duplicated_features\n",
    "\n",
    "def select_correlated(df):\n",
    "  correlated_features = set()\n",
    "  correlation_matrix = df.corr()\n",
    "  for i in range(len(correlation_matrix .columns)):\n",
    "    for j in range(i):\n",
    "        if abs(correlation_matrix.iloc[i, j]) > 0.8:\n",
    "            colname = correlation_matrix.columns[i]\n",
    "            correlated_features.add(colname)\n",
    "  print(len(correlated_features))\n",
    "  print(correlated_features)\n",
    "  return correlated_features\n"
   ]
  },
  {
   "cell_type": "code",
   "execution_count": null,
   "metadata": {
    "colab": {},
    "colab_type": "code",
    "id": "Trquu1WUfxY5"
   },
   "outputs": [],
   "source": [
    "selected_features = feature_matrix.columns.to_list()\n",
    "display(len(selected_features), selected_features)"
   ]
  },
  {
   "cell_type": "code",
   "execution_count": null,
   "metadata": {
    "colab": {},
    "colab_type": "code",
    "id": "C387QlBkPyE5"
   },
   "outputs": [],
   "source": [
    "df_selected_features = feature_matrix[selected_features]"
   ]
  },
  {
   "cell_type": "code",
   "execution_count": null,
   "metadata": {
    "colab": {},
    "colab_type": "code",
    "id": "idW_WF_Bcddg"
   },
   "outputs": [],
   "source": [
    "def split_data(df, dt):\n",
    "  y_train = df.loc[df['time'] < dt, 'Label']\n",
    "  y_validation = df.loc[df['time'] == dt, 'Label']\n",
    "\n",
    "  X_train = df[df['time'] < dt].drop(columns = ['NumberId', 'time', 'Label', 'TotalStrike', 'year'])\n",
    "  X_validation = df[df['time'] == dt].drop(columns = ['NumberId', 'time', 'Label', 'TotalStrike', 'year'])\n",
    "\n",
    "  # Reduce by standard deviation\n",
    "  # X_train = X_train.loc[:, X_train.std() > .0]\n",
    "  # X_validation = X_validation[X_train.columns]\n",
    "\n",
    "  return X_train, X_validation, y_train, y_validation\n",
    " "
   ]
  },
  {
   "cell_type": "code",
   "execution_count": null,
   "metadata": {
    "colab": {},
    "colab_type": "code",
    "id": "3zKM2ACMPAtG"
   },
   "outputs": [],
   "source": [
    "TARGET_MONTH = datetime(2020,1,1)\n",
    "\n",
    "X_train, X_validation, y_train, y_validation = split_data(df_selected_features, TARGET_MONTH)\n",
    "X_train.shape, X_validation.shape, y_train.shape, y_validation.shape"
   ]
  },
  {
   "cell_type": "code",
   "execution_count": null,
   "metadata": {
    "colab": {},
    "colab_type": "code",
    "id": "gKqw1dzPQwZm"
   },
   "outputs": [],
   "source": [
    "cols_to_drop = select_by_variance(X_train,0.0)\n",
    "X_train = X_train.drop(columns=cols_to_drop)\n",
    "X_validation = X_validation[X_train.columns]\n",
    "X_train.shape, X_validation.shape\n",
    "\n",
    "cols_to_drop = select_by_variance(X_train,0.01)\n",
    "X_train = X_train.drop(columns=cols_to_drop)\n",
    "X_validation = X_validation[X_train.columns]\n",
    "X_train.shape, X_validation.shape\n",
    "\n",
    "cols_to_drop = select_duplicates(X_train)\n",
    "X_train = X_train.drop(columns=cols_to_drop)\n",
    "X_validation = X_validation[X_train.columns]\n",
    "X_train.shape, X_validation.shape\n",
    "\n",
    "cols_to_drop = select_correlated(X_train)\n",
    "X_train = X_train.drop(columns=cols_to_drop)\n",
    "X_validation = X_validation[X_train.columns]\n",
    "X_train.shape, X_validation.shape"
   ]
  },
  {
   "cell_type": "code",
   "execution_count": null,
   "metadata": {
    "colab": {},
    "colab_type": "code",
    "id": "Eo0w6jFi8yRA"
   },
   "outputs": [],
   "source": []
  }
 ],
 "metadata": {
  "colab": {
   "name": "04_14_gbdt_01.ipynb",
   "provenance": []
  },
  "kernelspec": {
   "display_name": "Python 3",
   "language": "python",
   "name": "python3"
  },
  "language_info": {
   "codemirror_mode": {
    "name": "ipython",
    "version": 3
   },
   "file_extension": ".py",
   "mimetype": "text/x-python",
   "name": "python",
   "nbconvert_exporter": "python",
   "pygments_lexer": "ipython3",
   "version": "3.8.3"
  }
 },
 "nbformat": 4,
 "nbformat_minor": 4
}

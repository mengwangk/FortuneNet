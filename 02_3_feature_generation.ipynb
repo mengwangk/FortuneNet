{
 "cells": [
  {
   "cell_type": "code",
   "execution_count": 8,
   "metadata": {},
   "outputs": [],
   "source": [
    "# pandas and numpy for data manipulation\n",
    "import pandas as pd\n",
    "import numpy as np\n",
    "\n",
    "# Visualization\n",
    "import matplotlib.pyplot as plt\n",
    "import seaborn as sns\n",
    "\n",
    "plt.style.use('fivethirtyeight')\n",
    "%matplotlib inline\n",
    "\n",
    "# Automated feature engineering\n",
    "import featuretools as ft\n",
    "\n",
    "# Machine learning\n",
    "from sklearn.pipeline import Pipeline\n",
    "from sklearn.preprocessing import Imputer, MinMaxScaler\n",
    "from sklearn.metrics import precision_score, recall_score, f1_score, roc_auc_score, precision_recall_curve, roc_curve\n",
    "from sklearn.model_selection import train_test_split, cross_val_score\n",
    "from sklearn.ensemble import RandomForestClassifier\n",
    "\n",
    "from pathlib import Path"
   ]
  },
  {
   "cell_type": "code",
   "execution_count": 9,
   "metadata": {},
   "outputs": [],
   "source": [
    "DATASET = Path(\"datasets/lotto/data_processed_2.csv\")\n",
    "\n",
    "# The Answer to the Ultimate Question of Life, the Universe, and Everything.\n",
    "np.random.seed(42)"
   ]
  },
  {
   "cell_type": "code",
   "execution_count": 10,
   "metadata": {},
   "outputs": [],
   "source": [
    "# Read into data frame\n",
    "dataset = pd.read_csv(DATASET, header=0, sep=',', quotechar='\"', parse_dates=['DrawDate'], dtype={'PrizeType': str})"
   ]
  },
  {
   "cell_type": "code",
   "execution_count": 11,
   "metadata": {},
   "outputs": [],
   "source": [
    "df = dataset.copy()"
   ]
  },
  {
   "cell_type": "code",
   "execution_count": 18,
   "metadata": {},
   "outputs": [
    {
     "data": {
      "text/plain": [
       "LuckyNo                             int64\n",
       "1st_digit                           int64\n",
       "2nd_digit                           int64\n",
       "3rd_digit                           int64\n",
       "4th_digit                           int64\n",
       "PrizeType                          object\n",
       "DrawNo                              int64\n",
       "DaysSinceLastExactMatch             int64\n",
       "DaysUntilNextExactMatch             int64\n",
       "DaysSinceLastAnyMatch               int64\n",
       "DaysUntilNextAnyMatch               int64\n",
       "DrawYear                            int64\n",
       "DrawMonth                           int64\n",
       "DrawWeek                            int64\n",
       "DrawDayofweek                       int64\n",
       "DrawDayofyear                       int64\n",
       "CumProbaExactMatch                float64\n",
       "CumProbaAnyMatch                  float64\n",
       "DrawDate                   datetime64[ns]\n",
       "TotalMean                         float64\n",
       "1stDigitMean                      float64\n",
       "2ndDigitMean                      float64\n",
       "3rdDigitMean                      float64\n",
       "4thDigitMean                      float64\n",
       "dtype: object"
      ]
     },
     "execution_count": 18,
     "metadata": {},
     "output_type": "execute_result"
    }
   ],
   "source": [
    "df.dtypes"
   ]
  },
  {
   "cell_type": "code",
   "execution_count": 24,
   "metadata": {},
   "outputs": [
    {
     "data": {
      "text/plain": [
       "((104673, 4),    DrawNo   DrawDate        PrizeType  LuckyNo\n",
       " 0   40792 1992-05-06       1stPrizeNo       19\n",
       " 1   40792 1992-05-06       2ndPrizeNo     1124\n",
       " 2   40792 1992-05-06       3rdPrizeNo      592\n",
       " 3   40792 1992-05-06   ConsolationNo1     5311\n",
       " 4   40792 1992-05-06  ConsolationNo10      407\n",
       " 5   40792 1992-05-06   ConsolationNo2     1949\n",
       " 6   40792 1992-05-06   ConsolationNo3     1606\n",
       " 7   40792 1992-05-06   ConsolationNo4     3775\n",
       " 8   40792 1992-05-06   ConsolationNo5     6226\n",
       " 9   40792 1992-05-06   ConsolationNo6     1271)"
      ]
     },
     "execution_count": 24,
     "metadata": {},
     "output_type": "execute_result"
    }
   ],
   "source": [
    "columns = ['DrawNo', 'DrawDate', 'PrizeType', 'LuckyNo']\n",
    "df = df[columns]\n",
    "df.shape, df.head(10)"
   ]
  },
  {
   "cell_type": "code",
   "execution_count": null,
   "metadata": {},
   "outputs": [],
   "source": [
    "# df['LuckyNo'].value_counts().plot.bar(figsize=(6,5))"
   ]
  },
  {
   "cell_type": "code",
   "execution_count": null,
   "metadata": {},
   "outputs": [],
   "source": [
    "print('reat')"
   ]
  },
  {
   "cell_type": "code",
   "execution_count": null,
   "metadata": {},
   "outputs": [],
   "source": []
  }
 ],
 "metadata": {
  "kernelspec": {
   "display_name": "Python 3",
   "language": "python",
   "name": "python3"
  },
  "language_info": {
   "codemirror_mode": {
    "name": "ipython",
    "version": 3
   },
   "file_extension": ".py",
   "mimetype": "text/x-python",
   "name": "python",
   "nbconvert_exporter": "python",
   "pygments_lexer": "ipython3",
   "version": "3.7.2"
  }
 },
 "nbformat": 4,
 "nbformat_minor": 2
}

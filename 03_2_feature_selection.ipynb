{
 "cells": [
  {
   "cell_type": "markdown",
   "metadata": {},
   "source": [
    "# Feature Selection"
   ]
  },
  {
   "cell_type": "code",
   "execution_count": 35,
   "metadata": {},
   "outputs": [],
   "source": [
    "import numpy as np\n",
    "import pandas as pd\n",
    "import seaborn as sns\n",
    "import matplotlib.pyplot as plt\n",
    "import featuretools as ft\n",
    "import scipy.stats as ss\n",
    "import math \n",
    "\n",
    "from scipy import stats\n",
    "from collections import Counter\n",
    "from pathlib import Path\n",
    "\n",
    "%matplotlib inline\n",
    "\n",
    "sns.set(style=\"ticks\")"
   ]
  },
  {
   "cell_type": "markdown",
   "metadata": {},
   "source": [
    "## Dataset"
   ]
  },
  {
   "cell_type": "code",
   "execution_count": 36,
   "metadata": {},
   "outputs": [],
   "source": [
    "DATASET = Path(\"datasets/lotto/data_processed_2.csv\")\n",
    "\n",
    "# The Answer to the Ultimate Question of Life, the Universe, and Everything.\n",
    "np.random.seed(42)"
   ]
  },
  {
   "cell_type": "code",
   "execution_count": 37,
   "metadata": {},
   "outputs": [],
   "source": [
    "# Read into data frame\n",
    "dataset = pd.read_csv(DATASET, header=0, sep=',', quotechar='\"', parse_dates=['DrawDate'], dtype={'PrizeType': str})"
   ]
  },
  {
   "cell_type": "code",
   "execution_count": 38,
   "metadata": {},
   "outputs": [
    {
     "data": {
      "text/plain": [
       "Index(['LuckyNo', '1st_digit', '2nd_digit', '3rd_digit', '4th_digit',\n",
       "       'PrizeType', 'DrawNo', 'DaysSinceLastExactMatch',\n",
       "       'DaysUntilNextExactMatch', 'DaysSinceLastAnyMatch',\n",
       "       'DaysUntilNextAnyMatch', 'DrawYear', 'DrawMonth', 'DrawWeek',\n",
       "       'DrawDayofweek', 'DrawDayofyear', 'CumProbaExactMatch',\n",
       "       'CumProbaAnyMatch', 'DrawDate', 'TotalMean', '1stDigitMean',\n",
       "       '2ndDigitMean', '3rdDigitMean', '4thDigitMean'],\n",
       "      dtype='object')"
      ]
     },
     "execution_count": 38,
     "metadata": {},
     "output_type": "execute_result"
    }
   ],
   "source": [
    "dataset.columns"
   ]
  },
  {
   "cell_type": "code",
   "execution_count": 39,
   "metadata": {},
   "outputs": [
    {
     "data": {
      "text/html": [
       "<div>\n",
       "<style scoped>\n",
       "    .dataframe tbody tr th:only-of-type {\n",
       "        vertical-align: middle;\n",
       "    }\n",
       "\n",
       "    .dataframe tbody tr th {\n",
       "        vertical-align: top;\n",
       "    }\n",
       "\n",
       "    .dataframe thead th {\n",
       "        text-align: right;\n",
       "    }\n",
       "</style>\n",
       "<table border=\"1\" class=\"dataframe\">\n",
       "  <thead>\n",
       "    <tr style=\"text-align: right;\">\n",
       "      <th></th>\n",
       "      <th>LuckyNo</th>\n",
       "      <th>1st_digit</th>\n",
       "      <th>2nd_digit</th>\n",
       "      <th>3rd_digit</th>\n",
       "      <th>4th_digit</th>\n",
       "      <th>PrizeType</th>\n",
       "      <th>DrawNo</th>\n",
       "      <th>DaysSinceLastExactMatch</th>\n",
       "      <th>DaysUntilNextExactMatch</th>\n",
       "      <th>DaysSinceLastAnyMatch</th>\n",
       "      <th>...</th>\n",
       "      <th>DrawDayofweek</th>\n",
       "      <th>DrawDayofyear</th>\n",
       "      <th>CumProbaExactMatch</th>\n",
       "      <th>CumProbaAnyMatch</th>\n",
       "      <th>DrawDate</th>\n",
       "      <th>TotalMean</th>\n",
       "      <th>1stDigitMean</th>\n",
       "      <th>2ndDigitMean</th>\n",
       "      <th>3rdDigitMean</th>\n",
       "      <th>4thDigitMean</th>\n",
       "    </tr>\n",
       "  </thead>\n",
       "  <tbody>\n",
       "    <tr>\n",
       "      <th>34923</th>\n",
       "      <td>599</td>\n",
       "      <td>0</td>\n",
       "      <td>5</td>\n",
       "      <td>9</td>\n",
       "      <td>9</td>\n",
       "      <td>ConsolationNo6</td>\n",
       "      <td>192601</td>\n",
       "      <td>98</td>\n",
       "      <td>2863</td>\n",
       "      <td>6</td>\n",
       "      <td>...</td>\n",
       "      <td>5</td>\n",
       "      <td>335</td>\n",
       "      <td>0.05</td>\n",
       "      <td>0.49</td>\n",
       "      <td>2001-12-01</td>\n",
       "      <td>4982.462490</td>\n",
       "      <td>4.481495</td>\n",
       "      <td>4.513267</td>\n",
       "      <td>4.516272</td>\n",
       "      <td>4.477832</td>\n",
       "    </tr>\n",
       "    <tr>\n",
       "      <th>83006</th>\n",
       "      <td>73</td>\n",
       "      <td>0</td>\n",
       "      <td>0</td>\n",
       "      <td>7</td>\n",
       "      <td>3</td>\n",
       "      <td>SpecialNo9</td>\n",
       "      <td>401614</td>\n",
       "      <td>140</td>\n",
       "      <td>729</td>\n",
       "      <td>28</td>\n",
       "      <td>...</td>\n",
       "      <td>5</td>\n",
       "      <td>46</td>\n",
       "      <td>0.09</td>\n",
       "      <td>1.10</td>\n",
       "      <td>2014-02-15</td>\n",
       "      <td>4977.331864</td>\n",
       "      <td>4.478225</td>\n",
       "      <td>4.495958</td>\n",
       "      <td>4.503813</td>\n",
       "      <td>4.473189</td>\n",
       "    </tr>\n",
       "    <tr>\n",
       "      <th>57030</th>\n",
       "      <td>4369</td>\n",
       "      <td>4</td>\n",
       "      <td>3</td>\n",
       "      <td>6</td>\n",
       "      <td>9</td>\n",
       "      <td>SpecialNo1</td>\n",
       "      <td>288707</td>\n",
       "      <td>930</td>\n",
       "      <td>967</td>\n",
       "      <td>10</td>\n",
       "      <td>...</td>\n",
       "      <td>5</td>\n",
       "      <td>237</td>\n",
       "      <td>0.10</td>\n",
       "      <td>1.33</td>\n",
       "      <td>2007-08-25</td>\n",
       "      <td>4978.500894</td>\n",
       "      <td>4.478927</td>\n",
       "      <td>4.500596</td>\n",
       "      <td>4.503576</td>\n",
       "      <td>4.478454</td>\n",
       "    </tr>\n",
       "  </tbody>\n",
       "</table>\n",
       "<p>3 rows × 24 columns</p>\n",
       "</div>"
      ],
      "text/plain": [
       "       LuckyNo  1st_digit  2nd_digit  3rd_digit  4th_digit       PrizeType  \\\n",
       "34923      599          0          5          9          9  ConsolationNo6   \n",
       "83006       73          0          0          7          3      SpecialNo9   \n",
       "57030     4369          4          3          6          9      SpecialNo1   \n",
       "\n",
       "       DrawNo  DaysSinceLastExactMatch  DaysUntilNextExactMatch  \\\n",
       "34923  192601                       98                     2863   \n",
       "83006  401614                      140                      729   \n",
       "57030  288707                      930                      967   \n",
       "\n",
       "       DaysSinceLastAnyMatch      ...       DrawDayofweek  DrawDayofyear  \\\n",
       "34923                      6      ...                   5            335   \n",
       "83006                     28      ...                   5             46   \n",
       "57030                     10      ...                   5            237   \n",
       "\n",
       "       CumProbaExactMatch  CumProbaAnyMatch   DrawDate    TotalMean  \\\n",
       "34923                0.05              0.49 2001-12-01  4982.462490   \n",
       "83006                0.09              1.10 2014-02-15  4977.331864   \n",
       "57030                0.10              1.33 2007-08-25  4978.500894   \n",
       "\n",
       "       1stDigitMean  2ndDigitMean 3rdDigitMean  4thDigitMean  \n",
       "34923      4.481495      4.513267     4.516272      4.477832  \n",
       "83006      4.478225      4.495958     4.503813      4.473189  \n",
       "57030      4.478927      4.500596     4.503576      4.478454  \n",
       "\n",
       "[3 rows x 24 columns]"
      ]
     },
     "execution_count": 39,
     "metadata": {},
     "output_type": "execute_result"
    }
   ],
   "source": [
    "dataset.sample(3)"
   ]
  },
  {
   "cell_type": "code",
   "execution_count": 40,
   "metadata": {},
   "outputs": [],
   "source": [
    "df = dataset.copy()"
   ]
  },
  {
   "cell_type": "code",
   "execution_count": 41,
   "metadata": {},
   "outputs": [
    {
     "name": "stdout",
     "output_type": "stream",
     "text": [
      "<class 'pandas.core.frame.DataFrame'>\n",
      "RangeIndex: 104673 entries, 0 to 104672\n",
      "Data columns (total 24 columns):\n",
      "LuckyNo                    104673 non-null int64\n",
      "1st_digit                  104673 non-null int64\n",
      "2nd_digit                  104673 non-null int64\n",
      "3rd_digit                  104673 non-null int64\n",
      "4th_digit                  104673 non-null int64\n",
      "PrizeType                  104673 non-null object\n",
      "DrawNo                     104673 non-null int64\n",
      "DaysSinceLastExactMatch    104673 non-null int64\n",
      "DaysUntilNextExactMatch    104673 non-null int64\n",
      "DaysSinceLastAnyMatch      104673 non-null int64\n",
      "DaysUntilNextAnyMatch      104673 non-null int64\n",
      "DrawYear                   104673 non-null int64\n",
      "DrawMonth                  104673 non-null int64\n",
      "DrawWeek                   104673 non-null int64\n",
      "DrawDayofweek              104673 non-null int64\n",
      "DrawDayofyear              104673 non-null int64\n",
      "CumProbaExactMatch         104673 non-null float64\n",
      "CumProbaAnyMatch           104673 non-null float64\n",
      "DrawDate                   104673 non-null datetime64[ns]\n",
      "TotalMean                  104673 non-null float64\n",
      "1stDigitMean               104673 non-null float64\n",
      "2ndDigitMean               104673 non-null float64\n",
      "3rdDigitMean               104673 non-null float64\n",
      "4thDigitMean               104673 non-null float64\n",
      "dtypes: datetime64[ns](1), float64(7), int64(15), object(1)\n",
      "memory usage: 19.2+ MB\n"
     ]
    }
   ],
   "source": [
    "df.info()"
   ]
  },
  {
   "cell_type": "code",
   "execution_count": 42,
   "metadata": {},
   "outputs": [
    {
     "data": {
      "text/plain": [
       "LuckyNo                    1.000000\n",
       "1st_digit                  0.994971\n",
       "2nd_digit                  0.098613\n",
       "TotalMean                  0.010611\n",
       "1stDigitMean               0.010482\n",
       "3rd_digit                  0.010338\n",
       "2ndDigitMean               0.006560\n",
       "DaysUntilNextExactMatch    0.005985\n",
       "DaysSinceLastExactMatch    0.005985\n",
       "DrawDayofweek              0.004380\n",
       "DaysUntilNextAnyMatch      0.003307\n",
       "4thDigitMean               0.002701\n",
       "DaysSinceLastAnyMatch      0.002328\n",
       "3rdDigitMean               0.001825\n",
       "4th_digit                  0.001711\n",
       "DrawWeek                  -0.002762\n",
       "DrawDayofyear             -0.002896\n",
       "DrawMonth                 -0.002985\n",
       "DrawYear                  -0.003071\n",
       "DrawNo                    -0.003218\n",
       "CumProbaAnyMatch          -0.003994\n",
       "CumProbaExactMatch        -0.009410\n",
       "Name: LuckyNo, dtype: float64"
      ]
     },
     "execution_count": 42,
     "metadata": {},
     "output_type": "execute_result"
    }
   ],
   "source": [
    "corr_matrix = df.corr()\n",
    "corr_matrix['LuckyNo'].sort_values(ascending=False)"
   ]
  },
  {
   "cell_type": "code",
   "execution_count": 43,
   "metadata": {},
   "outputs": [],
   "source": [
    "num_attrs = [\"TotalMean\", \"1stDigitMean\", \"2ndDigitMean\", \n",
    "            \"DaysUntilNextExactMatch\", \"DaysSinceLastExactMatch\",\n",
    "            \"DrawDayofweek\", \"DaysUntilNextAnyMatch\",\n",
    "            \"4thDigitMean\", \"DaysSinceLastAnyMatch\",\n",
    "            \"3rdDigitMean\", \"DrawWeek\", \"DrawDayofyear\", \"DrawMonth\"\n",
    "            ]\n",
    "cat_attrs = [\"PrizeType\"]\n",
    "target_label = [\"LuckyNo\"]"
   ]
  },
  {
   "cell_type": "code",
   "execution_count": null,
   "metadata": {},
   "outputs": [],
   "source": []
  }
 ],
 "metadata": {
  "kernelspec": {
   "display_name": "Python 3",
   "language": "python",
   "name": "python3"
  },
  "language_info": {
   "codemirror_mode": {
    "name": "ipython",
    "version": 3
   },
   "file_extension": ".py",
   "mimetype": "text/x-python",
   "name": "python",
   "nbconvert_exporter": "python",
   "pygments_lexer": "ipython3",
   "version": "3.7.2"
  }
 },
 "nbformat": 4,
 "nbformat_minor": 2
}

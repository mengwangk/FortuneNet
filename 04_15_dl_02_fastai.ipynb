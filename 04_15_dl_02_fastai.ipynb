{
 "cells": [
  {
   "cell_type": "markdown",
   "metadata": {
    "id": "I7aG9jzGoP18"
   },
   "source": [
    "# Dataset"
   ]
  },
  {
   "cell_type": "code",
   "execution_count": 1,
   "metadata": {
    "id": "zlVvNIxToP1-"
   },
   "outputs": [],
   "source": [
    "from IPython.core.interactiveshell import InteractiveShell\n",
    "InteractiveShell.ast_node_interactivity = \"all\"\n",
    "\n",
    "%load_ext autoreload\n",
    "%autoreload 2"
   ]
  },
  {
   "cell_type": "code",
   "execution_count": 2,
   "metadata": {
    "id": "UXQchcJCoP2E"
   },
   "outputs": [],
   "source": [
    "required_libs = [ (\"numpy\", \"numpy\"),\n",
    "                 (\"pandas\", \"pandas\"),\n",
    "                 (\"seaborn\", \"seaborn\"),\n",
    "                 (\"matplotlib\", \"matplotlib\"),\n",
    "                 (\"sklearn\", \"sklearn\"),\n",
    "                 (\"colorama\", \"colorama\"),\n",
    "                 (\"emoji\", \"emoji\"),\n",
    "                 #(\"catboost\", \"catboost\")\n",
    "                ]"
   ]
  },
  {
   "cell_type": "code",
   "execution_count": 3,
   "metadata": {
    "id": "Uyzk4kXYoP2J"
   },
   "outputs": [],
   "source": [
    "def is_lib_exists(name):\n",
    "    import importlib\n",
    "    lib = importlib.util.find_spec(name)\n",
    "    return lib is not None"
   ]
  },
  {
   "cell_type": "code",
   "execution_count": 4,
   "metadata": {
    "colab": {
     "base_uri": "https://localhost:8080/",
     "height": 170
    },
    "id": "5SJ6r_j2oP2N",
    "outputId": "d3117053-fe48-4f3f-9d1f-052c1f20d026"
   },
   "outputs": [
    {
     "name": "stdout",
     "output_type": "stream",
     "text": [
      "numpy exists\n",
      "pandas exists\n",
      "seaborn exists\n",
      "matplotlib exists\n",
      "sklearn exists\n",
      "Installing colorama\n",
      "Installing emoji\n",
      "\u001b[K     |████████████████████████████████| 51kB 3.1MB/s \n",
      "\u001b[?25h  Building wheel for emoji (setup.py) ... \u001b[?25l\u001b[?25hdone\n"
     ]
    }
   ],
   "source": [
    "for (clz,lib) in required_libs:\n",
    "    if not is_lib_exists(clz):\n",
    "        print(f\"Installing {lib}\")\n",
    "        !pip -qq install {lib}\n",
    "    else:\n",
    "        print(f\"{lib} exists\")"
   ]
  },
  {
   "cell_type": "code",
   "execution_count": 5,
   "metadata": {
    "colab": {
     "base_uri": "https://localhost:8080/",
     "height": 85
    },
    "id": "kr8IQzcWjE-v",
    "outputId": "a9890d60-4ab0-442a-a15e-195a732bbd7f"
   },
   "outputs": [
    {
     "name": "stdout",
     "output_type": "stream",
     "text": [
      "\u001b[K     |████████████████████████████████| 358kB 6.1MB/s \n",
      "\u001b[K     |████████████████████████████████| 40kB 4.7MB/s \n",
      "\u001b[K     |████████████████████████████████| 61kB 3.4MB/s \n",
      "\u001b[?25h2.0.13\n"
     ]
    }
   ],
   "source": [
    "# Uninstall fastai ver 1 and install ver 2\n",
    "!pip uninstall -qq --yes fastai \n",
    "!pip install -q fastai\n",
    "!pip install -q nbdev\n",
    "import fastai\n",
    "print(fastai.__version__)"
   ]
  },
  {
   "cell_type": "code",
   "execution_count": 6,
   "metadata": {
    "id": "hRyT0uoNoP2Q"
   },
   "outputs": [],
   "source": [
    "COLAB = True\n",
    "\n",
    "DATASET_NAME = '4D.zip'\n",
    "\n",
    "FEATURE_DATASET_PREFIX = 'feature_matrix_d2_v3'"
   ]
  },
  {
   "cell_type": "code",
   "execution_count": 7,
   "metadata": {
    "colab": {
     "base_uri": "https://localhost:8080/",
     "height": 71
    },
    "id": "zEbqmb8KoP2S",
    "outputId": "05510d32-c085-44de-9704-d8513b346309"
   },
   "outputs": [
    {
     "name": "stderr",
     "output_type": "stream",
     "text": [
      "/usr/local/lib/python3.6/dist-packages/statsmodels/tools/_testing.py:19: FutureWarning: pandas.util.testing is deprecated. Use the functions in the public API at pandas.testing instead.\n",
      "  import pandas.util.testing as tm\n"
     ]
    }
   ],
   "source": [
    "import numpy as np\n",
    "import pandas as pd\n",
    "import seaborn as sns\n",
    "import matplotlib.pyplot as plt\n",
    "import calendar\n",
    "import traceback\n",
    "# import catboost\n",
    "import gc\n",
    "from pathlib import Path\n",
    "from dateutil.relativedelta import *\n",
    "from datetime import *\n",
    "#from catboost import *\n",
    "#from catboost import datasets\n",
    "#from catboost import CatBoostClassifier\n",
    "from scipy import stats\n",
    "from scipy.stats.stats import pearsonr\n",
    "from pandas.api.types import is_string_dtype, is_numeric_dtype, is_categorical_dtype\n",
    "from fastai.tabular.all import *\n",
    "from sklearn.metrics import roc_auc_score\n",
    "np.set_printoptions(precision=4)\n",
    "pd.options.display.max_columns = None"
   ]
  },
  {
   "cell_type": "code",
   "execution_count": 8,
   "metadata": {
    "colab": {
     "base_uri": "https://localhost:8080/",
     "height": 102
    },
    "id": "C-7Jn85JoP2V",
    "outputId": "b3e29f66-6091-4452-a375-c00ce0068971"
   },
   "outputs": [
    {
     "name": "stdout",
     "output_type": "stream",
     "text": [
      "Modules to reload:\n",
      "all-except-skipped\n",
      "\n",
      "Modules to skip:\n",
      "\n"
     ]
    }
   ],
   "source": [
    "%matplotlib inline\n",
    "%aimport"
   ]
  },
  {
   "cell_type": "code",
   "execution_count": 9,
   "metadata": {
    "id": "bRRyrDnzoP2a"
   },
   "outputs": [],
   "source": [
    "from IPython.display import display"
   ]
  },
  {
   "cell_type": "code",
   "execution_count": 10,
   "metadata": {
    "id": "WQ16s9UjoP2d"
   },
   "outputs": [],
   "source": [
    "# check catboost version\n",
    "# print(catboost.__version__)\n",
    "# !python --version"
   ]
  },
  {
   "cell_type": "code",
   "execution_count": 11,
   "metadata": {
    "colab": {
     "base_uri": "https://localhost:8080/",
     "height": 153
    },
    "id": "yGhSyyL2pSHj",
    "outputId": "fac7828c-e922-4f4d-f4de-b0e1edc8fcde"
   },
   "outputs": [
    {
     "name": "stdout",
     "output_type": "stream",
     "text": [
      "Cloning into 'dl-projects'...\n",
      "remote: Enumerating objects: 113, done.\u001b[K\n",
      "remote: Counting objects: 100% (113/113), done.\u001b[K\n",
      "remote: Compressing objects: 100% (100/100), done.\u001b[K\n",
      "remote: Total 2323 (delta 70), reused 26 (delta 13), pack-reused 2210\u001b[K\n",
      "Receiving objects: 100% (2323/2323), 80.42 MiB | 8.28 MiB/s, done.\n",
      "Resolving deltas: 100% (1449/1449), done.\n",
      "Mounted at /content/gdrive\n"
     ]
    }
   ],
   "source": [
    "# colab setup\n",
    "if COLAB:\n",
    "  !rm -rf dl-projects\n",
    "  !git clone https://github.com/mengwangk/dl-projects\n",
    "  \n",
    "  !cp dl-projects/utils* .\n",
    "  !cp dl-projects/preprocess* .\n",
    "  !cp dl-projects/plot* .\n",
    "  \n",
    "  from google.colab import drive\n",
    "  drive.mount('/content/gdrive')\n",
    "  GDRIVE_DATASET_FOLDER = Path('gdrive/My Drive/datasets/')\n",
    "  DATASET_PATH = GDRIVE_DATASET_FOLDER\n",
    "  ORIGIN_DATASET_PATH = Path('dl-projects/datasets')\n",
    "  #!ls -l gdrive/\"My Drive\"/datasets/ --block-size=M\n",
    "\n",
    "DATASET = DATASET_PATH/f\"{FEATURE_DATASET_PREFIX}.ft\"\n",
    "ORIGIN_DATASET = ORIGIN_DATASET_PATH/DATASET_NAME"
   ]
  },
  {
   "cell_type": "markdown",
   "metadata": {
    "id": "gvnr5KFJoP2f"
   },
   "source": [
    "## EDA"
   ]
  },
  {
   "cell_type": "code",
   "execution_count": 12,
   "metadata": {
    "id": "ZV-CiR4Yrb7m"
   },
   "outputs": [],
   "source": [
    "from preprocess import *\n",
    "from utils import feature_selection, plot_feature_importances\n",
    "from plot import plot_correlation_matrix, plot_labeled_scatter"
   ]
  },
  {
   "cell_type": "code",
   "execution_count": 13,
   "metadata": {
    "id": "OTuQ19LcpP0L"
   },
   "outputs": [],
   "source": [
    "data = pd.read_feather(DATASET)\n",
    "origin_data = format_tabular(ORIGIN_DATASET)"
   ]
  },
  {
   "cell_type": "code",
   "execution_count": 14,
   "metadata": {
    "id": "NznUjX3ppQeG"
   },
   "outputs": [],
   "source": [
    "jan_2020 = pd.read_feather(DATASET_PATH/f\"feature_matrix_2020_jan.ft\")\n",
    "feb_2020 = pd.read_feather(DATASET_PATH/f\"feature_matrix_2020_feb.ft\")\n",
    "mar_2020 = pd.read_feather(DATASET_PATH/f\"feature_matrix_2020_mar.ft\")\n",
    "apr_2020 = pd.read_feather(DATASET_PATH/f\"feature_matrix_2020_apr.ft\")\n",
    "may_2020 = pd.read_feather(DATASET_PATH/f\"feature_matrix_2020_may.ft\")\n",
    "jun_2020 = pd.read_feather(DATASET_PATH/f\"feature_matrix_2020_jun.ft\")\n",
    "jul_2020 = pd.read_feather(DATASET_PATH/f\"feature_matrix_2020_jul.ft\")"
   ]
  },
  {
   "cell_type": "code",
   "execution_count": 15,
   "metadata": {
    "colab": {
     "base_uri": "https://localhost:8080/",
     "height": 34
    },
    "id": "Z4nQM7SkxbTM",
    "outputId": "f1c11600-1585-4775-a3f0-2b7cb46d4edb"
   },
   "outputs": [
    {
     "data": {
      "text/plain": [
       "((959893, 217), (1029893, 217))"
      ]
     },
     "execution_count": 15,
     "metadata": {
      "tags": []
     },
     "output_type": "execute_result"
    }
   ],
   "source": [
    "new_data = data.append(jan_2020[data.columns],ignore_index=True)\n",
    "new_data = new_data.append(feb_2020[data.columns],ignore_index=True)\n",
    "new_data = new_data.append(mar_2020[data.columns],ignore_index=True)\n",
    "new_data = new_data.append(apr_2020[data.columns],ignore_index=True)\n",
    "new_data = new_data.append(may_2020[data.columns],ignore_index=True)\n",
    "new_data = new_data.append(jun_2020[data.columns],ignore_index=True)\n",
    "new_data = new_data.append(jul_2020[data.columns],ignore_index=True)\n",
    "data.shape, new_data.shape "
   ]
  },
  {
   "cell_type": "code",
   "execution_count": 16,
   "metadata": {
    "id": "6fcS0WHNF84G"
   },
   "outputs": [],
   "source": [
    "del data\n",
    "data = new_data"
   ]
  },
  {
   "cell_type": "code",
   "execution_count": 17,
   "metadata": {
    "colab": {
     "base_uri": "https://localhost:8080/",
     "height": 221
    },
    "id": "P21A_rqdF_SP",
    "outputId": "0245932d-2bc6-4dfa-e011-051b95bf686c"
   },
   "outputs": [
    {
     "data": {
      "text/plain": [
       "CUM_SUM(SKEW(Results.TotalStrike))           7685\n",
       "CUM_MEAN(TREND(Results.DrawNo, DrawDate))    7685\n",
       "TREND(Results.CUM_SUM(DrawNo), DrawDate)     7685\n",
       "TREND(Results.CUM_SUM(LuckyNo), DrawDate)    7685\n",
       "CUM_SUM(SKEW(Results.LuckyNo))               7685\n",
       "                                             ... \n",
       "CUM_SUM(MIN(Results.DrawNo))                    0\n",
       "NUM_UNIQUE(Results.DAY(DrawDate))               0\n",
       "NUM_UNIQUE(Results.MONTH(DrawDate))             0\n",
       "SUM(Results.PERCENTILE(LuckyNo))                0\n",
       "NumberId                                        0\n",
       "Length: 217, dtype: int64"
      ]
     },
     "execution_count": 17,
     "metadata": {
      "tags": []
     },
     "output_type": "execute_result"
    }
   ],
   "source": [
    "data.isna().sum().sort_values(ascending=False)"
   ]
  },
  {
   "cell_type": "code",
   "execution_count": 18,
   "metadata": {
    "id": "ifvYMCzTGY6X"
   },
   "outputs": [],
   "source": [
    "# data.info(max_cols=500, null_counts=True)\n",
    "# data.columns.tolist()"
   ]
  },
  {
   "cell_type": "code",
   "execution_count": 19,
   "metadata": {
    "id": "hwDc-KVoGaG1"
   },
   "outputs": [],
   "source": [
    "feature_matrix = data\n",
    "\n",
    "### fastai to handle missing values\n",
    "# feature_matrix = data.fillna(0)\n",
    "# feature_matrix.sort_values(by=['time', 'MAX(Results.LuckyNo)'], inplace=True)\n",
    "# feature_matrix.head(20)"
   ]
  },
  {
   "cell_type": "code",
   "execution_count": 20,
   "metadata": {
    "id": "gg7SIK0XLaDx"
   },
   "outputs": [],
   "source": [
    "from sklearn.feature_selection import SelectKBest\n",
    "from sklearn.feature_selection import f_classif, chi2, f_regression\n",
    "from sklearn.model_selection import train_test_split\n",
    "from sklearn.feature_selection import VarianceThreshold\n",
    "\n",
    "# other_features = ['Label', 'NumberId', 'time', 'TotalStrike',  'month', 'year']\n",
    "# feature_matrix = feature_selection(data)\n",
    "\n",
    "def select_features(df, func=f_regression):\n",
    "  X = df.drop(columns=other_features)\n",
    "  y = df.Label\n",
    "  fs = SelectKBest(score_func=func, k=50)\n",
    "  X_selected = fs.fit_transform(X, y)\n",
    "  mask = fs.get_support()\n",
    "  return X.columns[mask]\n",
    "\n",
    "def reduce_features(df, lower_threshold=10, upper_threshold=10000):\n",
    "  cols_to_drop = []\n",
    "  for col in df.columns:\n",
    "    if df[col].nunique() > upper_threshold or df[col].nunique() < lower_threshold:\n",
    "      cols_to_drop.append(col)\n",
    "  print(cols_to_drop)\n",
    "  return cols_to_drop, df.drop(columns=cols_to_drop)\n",
    "\n",
    "def select_by_variance(df, threshold=0):\n",
    "  \"\"\"Select features by variance\"\"\"\n",
    "  filter = VarianceThreshold(threshold=threshold)\n",
    "  filter.fit(df)\n",
    "  cols_to_drop = [column for column in df.columns\n",
    "                  if column not in df.columns[filter.get_support()]]\n",
    "  print(f\"No of columns to drop - {len(cols_to_drop)}\")\n",
    "  print(cols_to_drop)\n",
    "  return cols_to_drop\n",
    "\n",
    "def select_duplicates(df):\n",
    "  df_transposed = df.head(20000).T\n",
    "  print(df_transposed.duplicated().sum())\n",
    "  unique_features = df_transposed.drop_duplicates(keep='first').T\n",
    "  print(unique_features.shape)\n",
    "  duplicated_features = [dup_col for dup_col in df.columns if dup_col not in unique_features.columns]\n",
    "  return duplicated_features\n",
    "\n",
    "def select_correlated(df):\n",
    "  correlated_features = set()\n",
    "  correlation_matrix = df.corr()\n",
    "  for i in range(len(correlation_matrix .columns)):\n",
    "    for j in range(i):\n",
    "        if abs(correlation_matrix.iloc[i, j]) > 0.8:\n",
    "            colname = correlation_matrix.columns[i]\n",
    "            correlated_features.add(colname)\n",
    "  print(len(correlated_features))\n",
    "  print(correlated_features)\n",
    "  return correlated_features\n"
   ]
  },
  {
   "cell_type": "code",
   "execution_count": 21,
   "metadata": {
    "colab": {
     "base_uri": "https://localhost:8080/",
     "height": 34
    },
    "id": "Trquu1WUfxY5",
    "outputId": "d67835be-20e6-4e6b-8d7f-e0621fce1cfe"
   },
   "outputs": [
    {
     "name": "stdout",
     "output_type": "stream",
     "text": [
      "217\n"
     ]
    }
   ],
   "source": [
    "selected_features = feature_matrix.columns.to_list()\n",
    "# display(len(selected_features), selected_features)\n",
    "print(len(selected_features))"
   ]
  },
  {
   "cell_type": "code",
   "execution_count": 22,
   "metadata": {
    "id": "C387QlBkPyE5"
   },
   "outputs": [],
   "source": [
    "df_selected_features = feature_matrix[selected_features]"
   ]
  },
  {
   "cell_type": "code",
   "execution_count": 23,
   "metadata": {
    "id": "idW_WF_Bcddg"
   },
   "outputs": [],
   "source": [
    "# def split_data(df, dt):\n",
    "#   y_train = df.loc[df['time'] < dt, 'Label']\n",
    "#   y_validation = df.loc[df['time'] == dt, 'Label']\n",
    "# \n",
    "#   X_train = df[df['time'] < dt].drop(columns = ['NumberId', 'time', 'Label', 'TotalStrike', 'year', 'month'])\n",
    "#   X_validation = df[df['time'] == dt].drop(columns = ['NumberId', 'time', 'Label', 'TotalStrike', 'year', 'month'])\n",
    "# \n",
    "#   # Reduce by standard deviation\n",
    "#   # X_train = X_train.loc[:, X_train.std() > .0]\n",
    "#   # X_validation = X_validation[X_train.columns]\n",
    "# \n",
    "#   return X_train, X_validation, y_train, y_validation"
   ]
  },
  {
   "cell_type": "code",
   "execution_count": 24,
   "metadata": {
    "id": "3zKM2ACMPAtG"
   },
   "outputs": [],
   "source": [
    "TARGET_DT = datetime(2020,1,1)\n",
    "\n",
    "# X_train, X_validation, y_train, y_validation = split_data(df_selected_features, TARGET_MONTH)\n",
    "# X_train.shape, X_validation.shape, y_train.shape, y_validation.shape"
   ]
  },
  {
   "cell_type": "code",
   "execution_count": 25,
   "metadata": {
    "id": "gKqw1dzPQwZm"
   },
   "outputs": [],
   "source": [
    "# cols_to_drop = select_by_variance(X_train,0.0)\n",
    "# X_train = X_train.drop(columns=cols_to_drop)\n",
    "# X_validation = X_validation[X_train.columns]\n",
    "# X_train.shape, X_validation.shape\n",
    "# \n",
    "# cols_to_drop = select_by_variance(X_train,0.01)\n",
    "# X_train = X_train.drop(columns=cols_to_drop)\n",
    "# X_validation = X_validation[X_train.columns]\n",
    "# X_train.shape, X_validation.shape\n",
    "# \n",
    "# cols_to_drop = select_duplicates(X_train)\n",
    "# X_train = X_train.drop(columns=cols_to_drop)\n",
    "# X_validation = X_validation[X_train.columns]\n",
    "# X_train.shape, X_validation.shape\n",
    "# \n",
    "# cols_to_drop = select_correlated(X_train)\n",
    "# X_train = X_train.drop(columns=cols_to_drop)\n",
    "# X_validation = X_validation[X_train.columns]\n",
    "# X_train.shape, X_validation.shape"
   ]
  },
  {
   "cell_type": "code",
   "execution_count": 26,
   "metadata": {
    "id": "Eo0w6jFi8yRA"
   },
   "outputs": [],
   "source": [
    "# CAT_FEATURES = []\n",
    "# UNIQUE_THRESHOLD = 500\n",
    "# for col in X_train.select_dtypes(include=['int64']).columns:\n",
    "#   print(f\"{col}: Index - {X_train.columns.get_loc(col)}, Unique values - {X_train[col].nunique()}\")\n",
    "#   if X_train[col].nunique() <= UNIQUE_THRESHOLD:\n",
    "#     CAT_FEATURES.append(X_train.columns.get_loc(col))\n",
    "#   \n",
    "# print(CAT_FEATURES)"
   ]
  },
  {
   "cell_type": "code",
   "execution_count": 27,
   "metadata": {
    "colab": {
     "base_uri": "https://localhost:8080/",
     "height": 204
    },
    "id": "StdaxjZ-Omwi",
    "outputId": "f150611d-fa5b-47a2-eed7-e5442ff2054d"
   },
   "outputs": [
    {
     "data": {
      "text/plain": [
       "Index(['NumberId', 'time', 'STD(Results.DrawNo)', 'STD(Results.TotalStrike)',\n",
       "       'STD(Results.LuckyNo)', 'MAX(Results.DrawNo)',\n",
       "       'MAX(Results.TotalStrike)', 'MAX(Results.LuckyNo)',\n",
       "       'MIN(Results.DrawNo)', 'MIN(Results.TotalStrike)',\n",
       "       ...\n",
       "       'PERCENTILE(SUM(Results.DrawNo))',\n",
       "       'PERCENTILE(TREND(Results.DrawNo, DrawDate))',\n",
       "       'PERCENTILE(LAST(Results.LuckyNo))', 'PERCENTILE(MAX(Results.LuckyNo))',\n",
       "       'TotalStrike', 'Label', 'MODE(Results.PrizeType)_Prize',\n",
       "       'LAST(Results.PrizeType)_Prize', 'month', 'year'],\n",
       "      dtype='object', length=217)"
      ]
     },
     "execution_count": 27,
     "metadata": {
      "tags": []
     },
     "output_type": "execute_result"
    }
   ],
   "source": [
    "df_selected_features.columns"
   ]
  },
  {
   "cell_type": "code",
   "execution_count": 28,
   "metadata": {
    "colab": {
     "base_uri": "https://localhost:8080/",
     "height": 71
    },
    "id": "JVeC-xVYDhPp",
    "outputId": "89e9a8e1-8af4-45e4-b593-9694f49cd65a"
   },
   "outputs": [
    {
     "name": "stdout",
     "output_type": "stream",
     "text": [
      "No of columns to drop - 68\n",
      "['STD(Results.TotalStrike)', 'STD(Results.LuckyNo)', 'MAX(Results.TotalStrike)', 'MIN(Results.TotalStrike)', 'MEAN(Results.TotalStrike)', 'SKEW(Results.TotalStrike)', 'SKEW(Results.LuckyNo)', 'LAST(Results.TotalStrike)', 'TREND(Results.TotalStrike, DrawDate)', 'TREND(Results.LuckyNo, DrawDate)', 'TREND(Results.DrawNo, DrawDate)', 'NUM_UNIQUE(Results.PrizeType)', 'STD(Results.PERCENTILE(DrawNo))', 'STD(Results.PERCENTILE(TotalStrike))', 'STD(Results.CUM_MEAN(TotalStrike))', 'STD(Results.PERCENTILE(LuckyNo))', 'MAX(Results.PERCENTILE(TotalStrike))', 'MAX(Results.CUM_MEAN(TotalStrike))', 'MIN(Results.PERCENTILE(TotalStrike))', 'MIN(Results.CUM_MEAN(TotalStrike))', 'MEAN(Results.PERCENTILE(TotalStrike))', 'MEAN(Results.CUM_MEAN(TotalStrike))', 'SKEW(Results.PERCENTILE(TotalStrike))', 'SKEW(Results.CUM_MEAN(TotalStrike))', 'SKEW(Results.PERCENTILE(LuckyNo))', 'LAST(Results.PERCENTILE(TotalStrike))', 'LAST(Results.CUM_MEAN(TotalStrike))', 'TREND(Results.CUM_MEAN(LuckyNo), DrawDate)', 'TREND(Results.PERCENTILE(LuckyNo), DrawDate)', 'TREND(Results.PERCENTILE(DrawNo), DrawDate)', 'TREND(Results.CUM_MEAN(DrawNo), DrawDate)', 'TREND(Results.TIME_SINCE(DrawDate), DrawDate)', 'TREND(Results.CUM_SUM(TotalStrike), DrawDate)', 'TREND(Results.PERCENTILE(TotalStrike), DrawDate)', 'TREND(Results.TIME_SINCE_PREVIOUS(DrawDate), DrawDate)', 'TREND(Results.CUM_MEAN(TotalStrike), DrawDate)', 'CUM_SUM(SKEW(Results.LuckyNo))', 'CUM_SUM(STD(Results.LuckyNo))', 'CUM_SUM(TREND(Results.TotalStrike, DrawDate))', 'CUM_SUM(TREND(Results.LuckyNo, DrawDate))', 'CUM_SUM(STD(Results.TotalStrike))', 'CUM_SUM(SKEW(Results.TotalStrike))', 'CUM_MEAN(SKEW(Results.LuckyNo))', 'CUM_MEAN(STD(Results.LuckyNo))', 'CUM_MEAN(MAX(Results.TotalStrike))', 'CUM_MEAN(TREND(Results.TotalStrike, DrawDate))', 'CUM_MEAN(MEAN(Results.TotalStrike))', 'CUM_MEAN(MIN(Results.TotalStrike))', 'CUM_MEAN(NUM_UNIQUE(Results.PrizeType))', 'CUM_MEAN(LAST(Results.TotalStrike))', 'CUM_MEAN(SKEW(Results.DrawNo))', 'CUM_MEAN(TREND(Results.LuckyNo, DrawDate))', 'CUM_MEAN(STD(Results.TotalStrike))', 'CUM_MEAN(SKEW(Results.TotalStrike))', 'CUM_MEAN(TREND(Results.DrawNo, DrawDate))', 'PERCENTILE(SKEW(Results.LuckyNo))', 'PERCENTILE(STD(Results.LuckyNo))', 'PERCENTILE(MAX(Results.TotalStrike))', 'PERCENTILE(TREND(Results.TotalStrike, DrawDate))', 'PERCENTILE(MEAN(Results.TotalStrike))', 'PERCENTILE(MIN(Results.TotalStrike))', 'PERCENTILE(NUM_UNIQUE(Results.PrizeType))', 'PERCENTILE(LAST(Results.TotalStrike))', 'PERCENTILE(TREND(Results.LuckyNo, DrawDate))', 'PERCENTILE(STD(Results.TotalStrike))', 'PERCENTILE(SKEW(Results.TotalStrike))', 'MODE(Results.PrizeType)_Prize', 'LAST(Results.PrizeType)_Prize']\n"
     ]
    }
   ],
   "source": [
    "cols_to_drop = select_by_variance(df_selected_features.drop(columns=['Label', 'NumberId', 'time', 'TotalStrike',  'month', 'year']), 0.01)"
   ]
  },
  {
   "cell_type": "code",
   "execution_count": 29,
   "metadata": {
    "colab": {
     "base_uri": "https://localhost:8080/",
     "height": 54
    },
    "id": "RlHYwaMNsLgU",
    "outputId": "c9a68d95-8361-4bb7-b982-5e8f0c281e7f"
   },
   "outputs": [
    {
     "name": "stdout",
     "output_type": "stream",
     "text": [
      "Columns to drop  ['time', 'TotalStrike', 'STD(Results.TotalStrike)', 'STD(Results.LuckyNo)', 'MAX(Results.TotalStrike)', 'MIN(Results.TotalStrike)', 'MEAN(Results.TotalStrike)', 'SKEW(Results.TotalStrike)', 'SKEW(Results.LuckyNo)', 'LAST(Results.TotalStrike)', 'TREND(Results.TotalStrike, DrawDate)', 'TREND(Results.LuckyNo, DrawDate)', 'TREND(Results.DrawNo, DrawDate)', 'NUM_UNIQUE(Results.PrizeType)', 'STD(Results.PERCENTILE(DrawNo))', 'STD(Results.PERCENTILE(TotalStrike))', 'STD(Results.CUM_MEAN(TotalStrike))', 'STD(Results.PERCENTILE(LuckyNo))', 'MAX(Results.PERCENTILE(TotalStrike))', 'MAX(Results.CUM_MEAN(TotalStrike))', 'MIN(Results.PERCENTILE(TotalStrike))', 'MIN(Results.CUM_MEAN(TotalStrike))', 'MEAN(Results.PERCENTILE(TotalStrike))', 'MEAN(Results.CUM_MEAN(TotalStrike))', 'SKEW(Results.PERCENTILE(TotalStrike))', 'SKEW(Results.CUM_MEAN(TotalStrike))', 'SKEW(Results.PERCENTILE(LuckyNo))', 'LAST(Results.PERCENTILE(TotalStrike))', 'LAST(Results.CUM_MEAN(TotalStrike))', 'TREND(Results.CUM_MEAN(LuckyNo), DrawDate)', 'TREND(Results.PERCENTILE(LuckyNo), DrawDate)', 'TREND(Results.PERCENTILE(DrawNo), DrawDate)', 'TREND(Results.CUM_MEAN(DrawNo), DrawDate)', 'TREND(Results.TIME_SINCE(DrawDate), DrawDate)', 'TREND(Results.CUM_SUM(TotalStrike), DrawDate)', 'TREND(Results.PERCENTILE(TotalStrike), DrawDate)', 'TREND(Results.TIME_SINCE_PREVIOUS(DrawDate), DrawDate)', 'TREND(Results.CUM_MEAN(TotalStrike), DrawDate)', 'CUM_SUM(SKEW(Results.LuckyNo))', 'CUM_SUM(STD(Results.LuckyNo))', 'CUM_SUM(TREND(Results.TotalStrike, DrawDate))', 'CUM_SUM(TREND(Results.LuckyNo, DrawDate))', 'CUM_SUM(STD(Results.TotalStrike))', 'CUM_SUM(SKEW(Results.TotalStrike))', 'CUM_MEAN(SKEW(Results.LuckyNo))', 'CUM_MEAN(STD(Results.LuckyNo))', 'CUM_MEAN(MAX(Results.TotalStrike))', 'CUM_MEAN(TREND(Results.TotalStrike, DrawDate))', 'CUM_MEAN(MEAN(Results.TotalStrike))', 'CUM_MEAN(MIN(Results.TotalStrike))', 'CUM_MEAN(NUM_UNIQUE(Results.PrizeType))', 'CUM_MEAN(LAST(Results.TotalStrike))', 'CUM_MEAN(SKEW(Results.DrawNo))', 'CUM_MEAN(TREND(Results.LuckyNo, DrawDate))', 'CUM_MEAN(STD(Results.TotalStrike))', 'CUM_MEAN(SKEW(Results.TotalStrike))', 'CUM_MEAN(TREND(Results.DrawNo, DrawDate))', 'PERCENTILE(SKEW(Results.LuckyNo))', 'PERCENTILE(STD(Results.LuckyNo))', 'PERCENTILE(MAX(Results.TotalStrike))', 'PERCENTILE(TREND(Results.TotalStrike, DrawDate))', 'PERCENTILE(MEAN(Results.TotalStrike))', 'PERCENTILE(MIN(Results.TotalStrike))', 'PERCENTILE(NUM_UNIQUE(Results.PrizeType))', 'PERCENTILE(LAST(Results.TotalStrike))', 'PERCENTILE(TREND(Results.LuckyNo, DrawDate))', 'PERCENTILE(STD(Results.TotalStrike))', 'PERCENTILE(SKEW(Results.TotalStrike))', 'MODE(Results.PrizeType)_Prize', 'LAST(Results.PrizeType)_Prize']\n"
     ]
    }
   ],
   "source": [
    "# Prepare the data\n",
    "# unused_features = ['NumberId', 'time', 'TotalStrike',  'month', 'year']\n",
    "unused_features = ['time', 'TotalStrike'] + cols_to_drop\n",
    "print(\"Columns to drop \", unused_features)\n",
    "df = df_selected_features.drop(columns=unused_features)"
   ]
  },
  {
   "cell_type": "code",
   "execution_count": 30,
   "metadata": {
    "id": "UqeCvBS4Vcv9"
   },
   "outputs": [],
   "source": [
    "# Target label. No need to np.log\n",
    "dep_var = 'Label'\n",
    "\n",
    "# Train test split\n",
    "procs = [Categorify, FillMissing, Normalize]\n",
    "train_cond = (df.year < TARGET_DT.year) | (df.month < TARGET_DT.month)\n",
    "valid_cond = (df.year == TARGET_DT.year) & (df.month == TARGET_DT.month)\n",
    "train_idx = np.where(train_cond)[0]\n",
    "valid_idx = np.where(valid_cond)[0]\n",
    "splits = (list(train_idx),list(valid_idx))"
   ]
  },
  {
   "cell_type": "code",
   "execution_count": 31,
   "metadata": {
    "colab": {
     "base_uri": "https://localhost:8080/",
     "height": 51
    },
    "id": "_Hotbb4utFl_",
    "outputId": "f1e85228-2683-4cc1-b029-28941fde00b2"
   },
   "outputs": [
    {
     "name": "stdout",
     "output_type": "stream",
     "text": [
      "959892\n",
      "959893 969892\n"
     ]
    }
   ],
   "source": [
    "print(list(train_idx)[len(list(train_idx))-1])\n",
    "print(list(valid_idx)[0], list(valid_idx)[len(list(valid_idx))-1])"
   ]
  },
  {
   "cell_type": "code",
   "execution_count": 32,
   "metadata": {
    "id": "-SbyTBuRLybj"
   },
   "outputs": [],
   "source": [
    "df[dep_var] = df[dep_var].astype('category')"
   ]
  },
  {
   "cell_type": "code",
   "execution_count": 33,
   "metadata": {
    "colab": {
     "base_uri": "https://localhost:8080/",
     "height": 71
    },
    "id": "O4CGlo7hut3V",
    "outputId": "0ce636fa-d28d-468b-a86e-5c2ad8ecb6f4"
   },
   "outputs": [
    {
     "name": "stdout",
     "output_type": "stream",
     "text": [
      "Continous features:  ['NumberId', 'STD(Results.DrawNo)', 'MAX(Results.LuckyNo)', 'MIN(Results.LuckyNo)', 'MEAN(Results.DrawNo)', 'MEAN(Results.LuckyNo)', 'SKEW(Results.DrawNo)', 'LAST(Results.results_index)', 'LAST(Results.LuckyNo)', 'AVG_TIME_BETWEEN(Results.DrawDate)', 'SUM(Results.DrawNo)', 'SUM(Results.LuckyNo)', 'TIME_SINCE(first_Results_time)', 'TIME_SINCE_PREVIOUS(first_Results_time)', 'STD(Results.TIME_SINCE(DrawDate))', 'STD(Results.CUM_MEAN(DrawNo))', 'STD(Results.CUM_SUM(LuckyNo))', 'STD(Results.TIME_SINCE_PREVIOUS(DrawDate))', 'STD(Results.CUM_SUM(TotalStrike))', 'STD(Results.CUM_SUM(DrawNo))', 'STD(Results.CUM_MEAN(LuckyNo))', 'MAX(Results.TIME_SINCE(DrawDate))', 'MAX(Results.CUM_MEAN(DrawNo))', 'MAX(Results.CUM_SUM(LuckyNo))', 'MAX(Results.PERCENTILE(DrawNo))', 'MAX(Results.TIME_SINCE_PREVIOUS(DrawDate))', 'MAX(Results.CUM_SUM(TotalStrike))', 'MAX(Results.CUM_SUM(DrawNo))', 'MAX(Results.CUM_MEAN(LuckyNo))', 'MAX(Results.PERCENTILE(LuckyNo))', 'MIN(Results.TIME_SINCE(DrawDate))', 'MIN(Results.CUM_MEAN(DrawNo))', 'MIN(Results.CUM_SUM(LuckyNo))', 'MIN(Results.PERCENTILE(DrawNo))', 'MIN(Results.TIME_SINCE_PREVIOUS(DrawDate))', 'MIN(Results.CUM_SUM(TotalStrike))', 'MIN(Results.CUM_SUM(DrawNo))', 'MIN(Results.CUM_MEAN(LuckyNo))', 'MIN(Results.PERCENTILE(LuckyNo))', 'MEAN(Results.TIME_SINCE(DrawDate))', 'MEAN(Results.CUM_MEAN(DrawNo))', 'MEAN(Results.CUM_SUM(LuckyNo))', 'MEAN(Results.PERCENTILE(DrawNo))', 'MEAN(Results.TIME_SINCE_PREVIOUS(DrawDate))', 'MEAN(Results.CUM_SUM(TotalStrike))', 'MEAN(Results.CUM_SUM(DrawNo))', 'MEAN(Results.CUM_MEAN(LuckyNo))', 'MEAN(Results.PERCENTILE(LuckyNo))', 'SKEW(Results.TIME_SINCE(DrawDate))', 'SKEW(Results.CUM_MEAN(DrawNo))', 'SKEW(Results.CUM_SUM(LuckyNo))', 'SKEW(Results.PERCENTILE(DrawNo))', 'SKEW(Results.TIME_SINCE_PREVIOUS(DrawDate))', 'SKEW(Results.CUM_SUM(TotalStrike))', 'SKEW(Results.CUM_SUM(DrawNo))', 'SKEW(Results.CUM_MEAN(LuckyNo))', 'LAST(Results.TIME_SINCE(DrawDate))', 'LAST(Results.CUM_MEAN(DrawNo))', 'LAST(Results.CUM_SUM(LuckyNo))', 'LAST(Results.PERCENTILE(DrawNo))', 'LAST(Results.TIME_SINCE_PREVIOUS(DrawDate))', 'LAST(Results.CUM_SUM(TotalStrike))', 'LAST(Results.CUM_SUM(DrawNo))', 'LAST(Results.CUM_MEAN(LuckyNo))', 'LAST(Results.PERCENTILE(LuckyNo))', 'SUM(Results.TIME_SINCE(DrawDate))', 'SUM(Results.CUM_MEAN(DrawNo))', 'SUM(Results.CUM_SUM(LuckyNo))', 'SUM(Results.PERCENTILE(DrawNo))', 'SUM(Results.TIME_SINCE_PREVIOUS(DrawDate))', 'SUM(Results.CUM_SUM(TotalStrike))', 'SUM(Results.PERCENTILE(TotalStrike))', 'SUM(Results.CUM_SUM(DrawNo))', 'SUM(Results.CUM_MEAN(LuckyNo))', 'SUM(Results.CUM_MEAN(TotalStrike))', 'SUM(Results.PERCENTILE(LuckyNo))', 'TREND(Results.CUM_SUM(DrawNo), DrawDate)', 'TREND(Results.CUM_SUM(LuckyNo), DrawDate)', 'CUM_SUM(MIN(Results.DrawNo))', 'CUM_SUM(MEAN(Results.DrawNo))', 'CUM_SUM(LAST(Results.DrawNo))', 'CUM_SUM(MAX(Results.TotalStrike))', 'CUM_SUM(MEAN(Results.TotalStrike))', 'CUM_SUM(MIN(Results.TotalStrike))', 'CUM_SUM(AVG_TIME_BETWEEN(Results.DrawDate))', 'CUM_SUM(MEAN(Results.LuckyNo))', 'CUM_SUM(MAX(Results.DrawNo))', 'CUM_SUM(COUNT(Results))', 'CUM_SUM(MIN(Results.LuckyNo))', 'CUM_SUM(SUM(Results.LuckyNo))', 'CUM_SUM(NUM_UNIQUE(Results.PrizeType))', 'CUM_SUM(LAST(Results.TotalStrike))', 'CUM_SUM(STD(Results.DrawNo))', 'CUM_SUM(SKEW(Results.DrawNo))', 'CUM_SUM(SUM(Results.TotalStrike))', 'CUM_SUM(SUM(Results.DrawNo))', 'CUM_SUM(TREND(Results.DrawNo, DrawDate))', 'CUM_SUM(LAST(Results.LuckyNo))', 'CUM_SUM(MAX(Results.LuckyNo))', 'CUM_MEAN(MIN(Results.DrawNo))', 'CUM_MEAN(MEAN(Results.DrawNo))', 'CUM_MEAN(LAST(Results.DrawNo))', 'CUM_MEAN(AVG_TIME_BETWEEN(Results.DrawDate))', 'CUM_MEAN(MEAN(Results.LuckyNo))', 'CUM_MEAN(MAX(Results.DrawNo))', 'CUM_MEAN(COUNT(Results))', 'CUM_MEAN(MIN(Results.LuckyNo))', 'CUM_MEAN(SUM(Results.LuckyNo))', 'CUM_MEAN(STD(Results.DrawNo))', 'CUM_MEAN(SUM(Results.TotalStrike))', 'CUM_MEAN(SUM(Results.DrawNo))', 'CUM_MEAN(LAST(Results.LuckyNo))', 'CUM_MEAN(MAX(Results.LuckyNo))', 'PERCENTILE(MIN(Results.DrawNo))', 'PERCENTILE(MEAN(Results.DrawNo))', 'PERCENTILE(LAST(Results.DrawNo))', 'PERCENTILE(AVG_TIME_BETWEEN(Results.DrawDate))', 'PERCENTILE(MEAN(Results.LuckyNo))', 'PERCENTILE(MAX(Results.DrawNo))', 'PERCENTILE(COUNT(Results))', 'PERCENTILE(MIN(Results.LuckyNo))', 'PERCENTILE(SUM(Results.LuckyNo))', 'PERCENTILE(STD(Results.DrawNo))', 'PERCENTILE(SKEW(Results.DrawNo))', 'PERCENTILE(SUM(Results.TotalStrike))', 'PERCENTILE(SUM(Results.DrawNo))', 'PERCENTILE(TREND(Results.DrawNo, DrawDate))', 'PERCENTILE(LAST(Results.LuckyNo))', 'PERCENTILE(MAX(Results.LuckyNo))']\n",
      "Categorical features: ['MAX(Results.DrawNo)', 'MIN(Results.DrawNo)', 'LAST(Results.DrawNo)', 'COUNT(Results)', 'SUM(Results.TotalStrike)', 'MONTH(first_Results_time)', 'DAY(first_Results_time)', 'MODE(Results.MONTH(DrawDate))', 'MODE(Results.DAY(DrawDate))', 'LAST(Results.DAY(DrawDate))', 'LAST(Results.MONTH(DrawDate))', 'NUM_UNIQUE(Results.MONTH(DrawDate))', 'NUM_UNIQUE(Results.DAY(DrawDate))', 'MONTH(LAST(Results.DrawDate))', 'DAY(LAST(Results.DrawDate))', 'month', 'year']\n"
     ]
    }
   ],
   "source": [
    "# Continuous and categorical variables\n",
    "cont,cat = cont_cat_split(df, max_card=9000, dep_var=dep_var)\n",
    "print(\"Continous features: \", cont)\n",
    "print(\"Categorical features:\", cat)"
   ]
  },
  {
   "cell_type": "code",
   "execution_count": 34,
   "metadata": {
    "colab": {
     "base_uri": "https://localhost:8080/",
     "height": 34
    },
    "id": "O8T4MVbLv51G",
    "outputId": "cbd30725-beec-42b8-c5dc-f09c288ed62d"
   },
   "outputs": [
    {
     "data": {
      "text/plain": [
       "(959893, 10000)"
      ]
     },
     "execution_count": 34,
     "metadata": {
      "tags": []
     },
     "output_type": "execute_result"
    }
   ],
   "source": [
    "#gc.collect() # Garbage collect\n",
    "\n",
    "to = TabularPandas(df, procs=procs, cat_names=cat, cont_names=cont, y_names=dep_var, splits=splits)\n",
    "len(to.train),len(to.valid)"
   ]
  },
  {
   "cell_type": "code",
   "execution_count": 35,
   "metadata": {
    "id": "pHMFFei0wdtU"
   },
   "outputs": [],
   "source": [
    "dls = to.dataloaders(1024)"
   ]
  },
  {
   "cell_type": "code",
   "execution_count": 36,
   "metadata": {
    "id": "-FlBejyUw_Fh"
   },
   "outputs": [],
   "source": [
    "#y = to.train.y\n",
    "#y.min(),y.max()\n",
    "\n",
    "del feature_matrix\n",
    "del new_data\n",
    "#del df_selected_features\n",
    "del jan_2020\n",
    "del feb_2020\n",
    "del mar_2020\n",
    "del apr_2020\n",
    "del may_2020\n",
    "del jun_2020\n",
    "del jul_2020"
   ]
  },
  {
   "cell_type": "code",
   "execution_count": 37,
   "metadata": {
    "colab": {
     "base_uri": "https://localhost:8080/",
     "height": 351
    },
    "id": "1k_mPW1FaJTz",
    "outputId": "4dd78328-297c-4d11-c16b-aaf67228cf2d"
   },
   "outputs": [
    {
     "ename": "RecursionError",
     "evalue": "ignored",
     "output_type": "error",
     "traceback": [
      "\u001b[0;31m---------------------------------------------------------------------------\u001b[0m",
      "\u001b[0;31mRecursionError\u001b[0m                            Traceback (most recent call last)",
      "\u001b[0;32m/usr/lib/python3.6/abc.py\u001b[0m in \u001b[0;36m__instancecheck__\u001b[0;34m(cls, instance)\u001b[0m\n\u001b[1;32m    182\u001b[0m         \u001b[0;31m# Inline the cache checking\u001b[0m\u001b[0;34m\u001b[0m\u001b[0;34m\u001b[0m\u001b[0;34m\u001b[0m\u001b[0m\n\u001b[1;32m    183\u001b[0m         \u001b[0msubclass\u001b[0m \u001b[0;34m=\u001b[0m \u001b[0minstance\u001b[0m\u001b[0;34m.\u001b[0m\u001b[0m__class__\u001b[0m\u001b[0;34m\u001b[0m\u001b[0;34m\u001b[0m\u001b[0m\n\u001b[0;32m--> 184\u001b[0;31m         \u001b[0;32mif\u001b[0m \u001b[0msubclass\u001b[0m \u001b[0;32min\u001b[0m \u001b[0mcls\u001b[0m\u001b[0;34m.\u001b[0m\u001b[0m_abc_cache\u001b[0m\u001b[0;34m:\u001b[0m\u001b[0;34m\u001b[0m\u001b[0;34m\u001b[0m\u001b[0m\n\u001b[0m\u001b[1;32m    185\u001b[0m             \u001b[0;32mreturn\u001b[0m \u001b[0;32mTrue\u001b[0m\u001b[0;34m\u001b[0m\u001b[0;34m\u001b[0m\u001b[0m\n\u001b[1;32m    186\u001b[0m         \u001b[0msubtype\u001b[0m \u001b[0;34m=\u001b[0m \u001b[0mtype\u001b[0m\u001b[0;34m(\u001b[0m\u001b[0minstance\u001b[0m\u001b[0;34m)\u001b[0m\u001b[0;34m\u001b[0m\u001b[0;34m\u001b[0m\u001b[0m\n",
      "\u001b[0;31mRecursionError\u001b[0m: maximum recursion depth exceeded while calling a Python object"
     ]
    },
    {
     "name": "stdout",
     "output_type": "stream",
     "text": [
      "996848 33045\n",
      "0.5165747435918013 15.583189589953093\n"
     ]
    },
    {
     "name": "stderr",
     "output_type": "stream",
     "text": [
      "Exception ignored in: 'pandas._libs.lib.c_is_list_like'\n",
      "Traceback (most recent call last):\n",
      "  File \"/usr/lib/python3.6/abc.py\", line 184, in __instancecheck__\n",
      "    if subclass in cls._abc_cache:\n",
      "RecursionError: maximum recursion depth exceeded while calling a Python object\n"
     ]
    }
   ],
   "source": [
    "# doc(tabular_learner)\n",
    "\n",
    "# View Transformed Training/Validation Data\n",
    "# dls.xs\n",
    "\n",
    "#####################\n",
    "# Construct Weights #\n",
    "#####################\n",
    "# class_count_df = df.groupby(dep_var).count()\n",
    "#n_0, n_1 = class_count_df.iloc[0, 0], class_count_df.iloc[1, 0]\n",
    "\n",
    "n_0, n_1 = df[dep_var].value_counts()[0], df[dep_var].value_counts()[1]\n",
    "print(n_0, n_1)\n",
    "\n",
    "w_0 = (n_0 + n_1) / (2.0 * n_0)\n",
    "w_1 = (n_0 + n_1) / (2.0 * n_1)\n",
    "print(w_0, w_1)"
   ]
  },
  {
   "cell_type": "code",
   "execution_count": 38,
   "metadata": {
    "id": "AcFSyYjFMVtD"
   },
   "outputs": [],
   "source": [
    "# Important: Convert Weights To Float Tensor\n",
    "class_weights=torch.FloatTensor([w_0, w_1]).cuda()\n",
    "\n",
    "############################\n",
    "# Model Performance Metric #\n",
    "############################\n",
    "# Instantiate RocAucBinary Score\n",
    "roc_auc = RocAucBinary() # Very important: Use the binary scoring function and not RocAuc()\n",
    "\n",
    "#################\n",
    "# Loss Function #\n",
    "#################\n",
    "loss_func = CrossEntropyLossFlat(weight=class_weights)"
   ]
  },
  {
   "cell_type": "code",
   "execution_count": 52,
   "metadata": {
    "colab": {
     "base_uri": "https://localhost:8080/",
     "height": 34
    },
    "id": "_1SDZrO7yJZH",
    "outputId": "add01901-8eb7-4bdd-f577-1220fdf3686e"
   },
   "outputs": [
    {
     "data": {
      "text/plain": [
       "FlattenedLoss of CrossEntropyLoss()"
      ]
     },
     "execution_count": 52,
     "metadata": {
      "tags": []
     },
     "output_type": "execute_result"
    }
   ],
   "source": [
    "#learn = tabular_learner(dls, y_range=(0,1), layers=[500,250], metrics=[accuracy], loss_func=F.binary_cross_entropy)\n",
    "#learn = tabular_learner(dls, loss_func=loss_func, metrics=roc_auc)\n",
    "learn = tabular_learner(dls, layers=[1000, 500,250], loss_func=loss_func, metrics=roc_auc)\n",
    "learn.loss_func"
   ]
  },
  {
   "cell_type": "code",
   "execution_count": 53,
   "metadata": {
    "colab": {
     "base_uri": "https://localhost:8080/",
     "height": 300
    },
    "id": "JfGUl8C8kO9Q",
    "outputId": "d4e9b925-bc52-4fcf-b7cc-c70141862183"
   },
   "outputs": [
    {
     "data": {
      "text/html": [],
      "text/plain": [
       "<IPython.core.display.HTML object>"
      ]
     },
     "metadata": {
      "tags": []
     },
     "output_type": "display_data"
    },
    {
     "data": {
      "text/plain": [
       "SuggestedLRs(lr_min=0.00012022644514217973, lr_steep=0.14454397559165955)"
      ]
     },
     "execution_count": 53,
     "metadata": {
      "tags": []
     },
     "output_type": "execute_result"
    },
    {
     "data": {
      "image/png": "[encoded data removed]",
      "text/plain": [
       "<Figure size 432x288 with 1 Axes>"
      ]
     },
     "metadata": {
      "needs_background": "light",
      "tags": []
     },
     "output_type": "display_data"
    }
   ],
   "source": [
    "learn.lr_find()"
   ]
  },
  {
   "cell_type": "code",
   "execution_count": 62,
   "metadata": {
    "colab": {
     "base_uri": "https://localhost:8080/",
     "height": 514
    },
    "id": "vlLy2B1akQ8D",
    "outputId": "0ba1badd-fd3d-44bc-d345-8c3dd58bba77"
   },
   "outputs": [
    {
     "data": {
      "text/html": [
       "<table border=\"1\" class=\"dataframe\">\n",
       "  <thead>\n",
       "    <tr style=\"text-align: left;\">\n",
       "      <th>epoch</th>\n",
       "      <th>train_loss</th>\n",
       "      <th>valid_loss</th>\n",
       "      <th>roc_auc_score</th>\n",
       "      <th>time</th>\n",
       "    </tr>\n",
       "  </thead>\n",
       "  <tbody>\n",
       "    <tr>\n",
       "      <td>0</td>\n",
       "      <td>0.545621</td>\n",
       "      <td>0.643175</td>\n",
       "      <td>0.489721</td>\n",
       "      <td>01:04</td>\n",
       "    </tr>\n",
       "    <tr>\n",
       "      <td>1</td>\n",
       "      <td>0.558005</td>\n",
       "      <td>0.669764</td>\n",
       "      <td>0.502934</td>\n",
       "      <td>01:04</td>\n",
       "    </tr>\n",
       "    <tr>\n",
       "      <td>2</td>\n",
       "      <td>0.571737</td>\n",
       "      <td>0.723966</td>\n",
       "      <td>0.503540</td>\n",
       "      <td>01:04</td>\n",
       "    </tr>\n",
       "    <tr>\n",
       "      <td>3</td>\n",
       "      <td>0.559489</td>\n",
       "      <td>0.647667</td>\n",
       "      <td>0.498718</td>\n",
       "      <td>01:04</td>\n",
       "    </tr>\n",
       "    <tr>\n",
       "      <td>4</td>\n",
       "      <td>0.509627</td>\n",
       "      <td>0.759347</td>\n",
       "      <td>0.499443</td>\n",
       "      <td>01:04</td>\n",
       "    </tr>\n",
       "    <tr>\n",
       "      <td>5</td>\n",
       "      <td>0.445946</td>\n",
       "      <td>0.768588</td>\n",
       "      <td>0.505709</td>\n",
       "      <td>01:04</td>\n",
       "    </tr>\n",
       "    <tr>\n",
       "      <td>6</td>\n",
       "      <td>0.386063</td>\n",
       "      <td>0.684076</td>\n",
       "      <td>0.489764</td>\n",
       "      <td>01:04</td>\n",
       "    </tr>\n",
       "    <tr>\n",
       "      <td>7</td>\n",
       "      <td>0.314729</td>\n",
       "      <td>0.721726</td>\n",
       "      <td>0.484747</td>\n",
       "      <td>01:04</td>\n",
       "    </tr>\n",
       "    <tr>\n",
       "      <td>8</td>\n",
       "      <td>0.248285</td>\n",
       "      <td>0.612286</td>\n",
       "      <td>0.491792</td>\n",
       "      <td>01:04</td>\n",
       "    </tr>\n",
       "    <tr>\n",
       "      <td>9</td>\n",
       "      <td>0.186356</td>\n",
       "      <td>0.719617</td>\n",
       "      <td>0.489934</td>\n",
       "      <td>01:03</td>\n",
       "    </tr>\n",
       "    <tr>\n",
       "      <td>10</td>\n",
       "      <td>0.132394</td>\n",
       "      <td>0.712465</td>\n",
       "      <td>0.488675</td>\n",
       "      <td>01:04</td>\n",
       "    </tr>\n",
       "    <tr>\n",
       "      <td>11</td>\n",
       "      <td>0.089605</td>\n",
       "      <td>0.711676</td>\n",
       "      <td>0.488628</td>\n",
       "      <td>01:04</td>\n",
       "    </tr>\n",
       "    <tr>\n",
       "      <td>12</td>\n",
       "      <td>0.063214</td>\n",
       "      <td>0.724013</td>\n",
       "      <td>0.487304</td>\n",
       "      <td>01:04</td>\n",
       "    </tr>\n",
       "    <tr>\n",
       "      <td>13</td>\n",
       "      <td>0.046882</td>\n",
       "      <td>0.732052</td>\n",
       "      <td>0.491608</td>\n",
       "      <td>01:04</td>\n",
       "    </tr>\n",
       "    <tr>\n",
       "      <td>14</td>\n",
       "      <td>0.040888</td>\n",
       "      <td>0.729212</td>\n",
       "      <td>0.491466</td>\n",
       "      <td>01:04</td>\n",
       "    </tr>\n",
       "  </tbody>\n",
       "</table>"
      ],
      "text/plain": [
       "<IPython.core.display.HTML object>"
      ]
     },
     "metadata": {
      "tags": []
     },
     "output_type": "display_data"
    }
   ],
   "source": [
    "learn.fit_one_cycle(15, 1e-4)"
   ]
  },
  {
   "cell_type": "code",
   "execution_count": 63,
   "metadata": {
    "colab": {
     "base_uri": "https://localhost:8080/",
     "height": 17
    },
    "id": "vPOEVs9MQLkR",
    "outputId": "b41a5b41-1919-4087-91be-fa068b5f0e34"
   },
   "outputs": [
    {
     "data": {
      "text/html": [],
      "text/plain": [
       "<IPython.core.display.HTML object>"
      ]
     },
     "metadata": {
      "tags": []
     },
     "output_type": "display_data"
    }
   ],
   "source": [
    "cls = ClassificationInterpretation.from_learner(learn)"
   ]
  },
  {
   "cell_type": "code",
   "execution_count": 1,
   "metadata": {
    "colab": {
     "base_uri": "https://localhost:8080/",
     "height": 311
    },
    "id": "Dz47YSIHRGwY",
    "outputId": "38af30a7-0422-4d49-e59c-e503167be8ba"
   },
   "outputs": [
    {
     "ename": "NameError",
     "evalue": "name 'cls' is not defined",
     "output_type": "error",
     "traceback": [
      "\u001b[0;31m---------------------------------------------------------------------------\u001b[0m",
      "\u001b[0;31mNameError\u001b[0m                                 Traceback (most recent call last)",
      "\u001b[0;32m<ipython-input-1-cac8af76e18b>\u001b[0m in \u001b[0;36m<module>\u001b[0;34m\u001b[0m\n\u001b[0;32m----> 1\u001b[0;31m \u001b[0mcls\u001b[0m\u001b[0;34m.\u001b[0m\u001b[0mplot_confusion_matrix\u001b[0m\u001b[0;34m(\u001b[0m\u001b[0;34m)\u001b[0m\u001b[0;34m\u001b[0m\u001b[0;34m\u001b[0m\u001b[0m\n\u001b[0m",
      "\u001b[0;31mNameError\u001b[0m: name 'cls' is not defined"
     ]
    }
   ],
   "source": [
    "cls.plot_confusion_matrix()"
   ]
  },
  {
   "cell_type": "code",
   "execution_count": 2,
   "metadata": {
    "colab": {
     "base_uri": "https://localhost:8080/",
     "height": 34
    },
    "id": "5w1KlMbprOaY",
    "outputId": "0238b889-4f84-4ff3-cc70-51d9ec08ae21"
   },
   "outputs": [
    {
     "ename": "NameError",
     "evalue": "name 'learn' is not defined",
     "output_type": "error",
     "traceback": [
      "\u001b[0;31m---------------------------------------------------------------------------\u001b[0m",
      "\u001b[0;31mNameError\u001b[0m                                 Traceback (most recent call last)",
      "\u001b[0;32m<ipython-input-2-6fcc6282c0be>\u001b[0m in \u001b[0;36m<module>\u001b[0;34m\u001b[0m\n\u001b[0;32m----> 1\u001b[0;31m \u001b[0mpreds\u001b[0m\u001b[0;34m,\u001b[0m\u001b[0mtargs\u001b[0m \u001b[0;34m=\u001b[0m \u001b[0mlearn\u001b[0m\u001b[0;34m.\u001b[0m\u001b[0mget_preds\u001b[0m\u001b[0;34m(\u001b[0m\u001b[0;34m)\u001b[0m\u001b[0;34m\u001b[0m\u001b[0;34m\u001b[0m\u001b[0m\n\u001b[0m\u001b[1;32m      2\u001b[0m \u001b[0mprint\u001b[0m\u001b[0;34m(\u001b[0m\u001b[0mlen\u001b[0m\u001b[0;34m(\u001b[0m\u001b[0mpreds\u001b[0m\u001b[0;34m)\u001b[0m\u001b[0;34m,\u001b[0m \u001b[0mlen\u001b[0m\u001b[0;34m(\u001b[0m\u001b[0mtargs\u001b[0m\u001b[0;34m)\u001b[0m\u001b[0;34m)\u001b[0m\u001b[0;34m\u001b[0m\u001b[0;34m\u001b[0m\u001b[0m\n",
      "\u001b[0;31mNameError\u001b[0m: name 'learn' is not defined"
     ]
    }
   ],
   "source": [
    "preds,targs = learn.get_preds()\n",
    "print(len(preds), len(targs))"
   ]
  },
  {
   "cell_type": "code",
   "execution_count": 66,
   "metadata": {
    "colab": {
     "base_uri": "https://localhost:8080/",
     "height": 136
    },
    "id": "JK-OzMNKsRpS",
    "outputId": "b1fbb9cd-dd83-418c-ebac-4f900f27d780"
   },
   "outputs": [
    {
     "name": "stdout",
     "output_type": "stream",
     "text": [
      "tensor([[0.9981, 0.0019],\n",
      "        [0.8015, 0.1985],\n",
      "        [0.9973, 0.0027],\n",
      "        ...,\n",
      "        [0.7791, 0.2209],\n",
      "        [0.8713, 0.1287],\n",
      "        [0.8561, 0.1439]])\n"
     ]
    }
   ],
   "source": [
    "print(preds)"
   ]
  },
  {
   "cell_type": "code",
   "execution_count": 67,
   "metadata": {
    "colab": {
     "base_uri": "https://localhost:8080/",
     "height": 136
    },
    "id": "Fc2IwNdpfY9Q",
    "outputId": "5708cf91-ac80-4790-c8ea-16ce25687c67"
   },
   "outputs": [
    {
     "name": "stdout",
     "output_type": "stream",
     "text": [
      "tensor([[1],\n",
      "        [1],\n",
      "        [1],\n",
      "        ...,\n",
      "        [0],\n",
      "        [0],\n",
      "        [0]], dtype=torch.int8)\n"
     ]
    }
   ],
   "source": [
    "print(targs)"
   ]
  },
  {
   "cell_type": "code",
   "execution_count": 68,
   "metadata": {
    "id": "kgBVQOhPJljM"
   },
   "outputs": [],
   "source": [
    "# https://www.kaggle.com/osmano/fast-ai-tabular-library/notebook\n",
    "# https://nbviewer.jupyter.org/github/fastai/fastbook/blob/master/09_tabular.ipynb\n",
    "# https://catboost.ai/docs/concepts/python-reference_utils_select_threshold.html\n",
    "# https://forums.fast.ai/t/some-useful-functions-for-tabular-models/44044\n",
    "# https://stackoverflow.com/questions/41864083/how-to-set-a-threshold-for-a-sklearn-classifier-based-on-roc-results/45372522\n",
    "\n",
    "# http://francescopochetti.com/plant-pathologies-fastais-wonders-in-computer-vision/\n",
    "\n",
    "# https://www.kaggle.com/dromosys/fast-ai-pytorch-train-only\n",
    "\n",
    "# https://www.kaggle.com/qitvision/a-complete-ml-pipeline-fast-ai\n",
    "# https://sgugger.github.io/the-1cycle-policy.html\n",
    "# https://colab.research.google.com/drive/1PVaRPY1XZuPLtm01V2XxIWqhLrz3_rgX#scrollTo=MgfhPo__CIc7\n",
    "    \n",
    "# https://forums.fast.ai/t/using-auc-as-metric-in-fastai/38917/19\n",
    "# https://docs.fast.ai/tabular.learner#tabular_learner\n",
    "# https://stackoverflow.com/questions/52093388/how-to-choose-optimal-threshold-for-class-probabilities\n",
    "# https://towardsdatascience.com/deep-learning-with-weighted-cross-entropy-loss-on-imbalanced-tabular-data-using-fastai-fe1c009e184c\n",
    "\n",
    "\n",
    "# https://github.com/FyzHsn/ml-classification-exploration/tree/develop\n",
    "# https://github.com/FyzHsn/ml-classification-exploration/blob/develop/fastai/fastai_model.ipynb\n",
    "# https://gist.githubusercontent.com/FyzHsn/28eb64cadea18f438487841f24a9739e/raw/b6830bf53337a7e62050da2d20c316b159cf581d/fastai_tabular_data_model.py"
   ]
  },
  {
   "cell_type": "code",
   "execution_count": 69,
   "metadata": {
    "id": "gZMotGcENre0"
   },
   "outputs": [],
   "source": [
    "# doc(learn.get_preds)"
   ]
  },
  {
   "cell_type": "code",
   "execution_count": 69,
   "metadata": {
    "id": "qWxzJ5LRV4aY"
   },
   "outputs": [],
   "source": []
  }
 ],
 "metadata": {
  "accelerator": "GPU",
  "colab": {
   "name": "04_14_gbdt_01.ipynb",
   "provenance": []
  },
  "kernelspec": {
   "display_name": "Python 3",
   "language": "python",
   "name": "python3"
  },
  "language_info": {
   "codemirror_mode": {
    "name": "ipython",
    "version": 3
   },
   "file_extension": ".py",
   "mimetype": "text/x-python",
   "name": "python",
   "nbconvert_exporter": "python",
   "pygments_lexer": "ipython3",
   "version": "3.8.3"
  }
 },
 "nbformat": 4,
 "nbformat_minor": 4
}

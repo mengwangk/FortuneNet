{
 "cells": [
  {
   "cell_type": "markdown",
   "metadata": {
    "colab_type": "text",
    "id": "view-in-github"
   },
   "source": [
    "<a href=\"https://colab.research.google.com/github/mengwangk/dl-projects/blob/master/number_crunching.ipynb\" target=\"_parent\"><img src=\"https://colab.research.google.com/assets/colab-badge.svg\" alt=\"Open In Colab\"/></a>"
   ]
  },
  {
   "cell_type": "markdown",
   "metadata": {
    "colab_type": "text",
    "id": "b5243bUj8-K1",
    "toc-hr-collapsed": false
   },
   "source": [
    "# Number Crunching"
   ]
  },
  {
   "cell_type": "markdown",
   "metadata": {
    "colab_type": "text",
    "id": "CQBDKNHCB7gO"
   },
   "source": [
    "## Magic"
   ]
  },
  {
   "cell_type": "code",
   "execution_count": 1,
   "metadata": {
    "colab": {},
    "colab_type": "code",
    "id": "-IIhuSvDcwZy"
   },
   "outputs": [],
   "source": [
    "%reload_ext autoreload\n",
    "%autoreload 2\n",
    "\n",
    "%matplotlib inline"
   ]
  },
  {
   "cell_type": "code",
   "execution_count": 6,
   "metadata": {
    "colab": {},
    "colab_type": "code",
    "id": "pdS7XRoicwZ2"
   },
   "outputs": [],
   "source": [
    "# To support both python 2 and python 3\n",
    "from __future__ import division, print_function, unicode_literals\n",
    "\n",
    "# Common imports\n",
    "import numpy as np\n",
    "import os\n",
    "import pandas as pd\n",
    "import featuretools as ft\n",
    "import matplotlib as mpl\n",
    "import matplotlib.pyplot as plt"
   ]
  },
  {
   "cell_type": "code",
   "execution_count": 7,
   "metadata": {
    "colab": {},
    "colab_type": "code",
    "id": "A9eZHyChcwZ4"
   },
   "outputs": [],
   "source": [
    "from fastai.basics import *\n",
    "from fastai.tabular import *"
   ]
  },
  {
   "cell_type": "code",
   "execution_count": 8,
   "metadata": {
    "colab": {},
    "colab_type": "code",
    "id": "L9xMGiLBc1gn"
   },
   "outputs": [],
   "source": [
    "# pdb.set_trace"
   ]
  },
  {
   "cell_type": "markdown",
   "metadata": {
    "colab_type": "text",
    "id": "ugtBDkyVcwZ6"
   },
   "source": [
    "## Setup"
   ]
  },
  {
   "cell_type": "code",
   "execution_count": 9,
   "metadata": {
    "colab": {},
    "colab_type": "code",
    "id": "tc6D3kBScwZ7"
   },
   "outputs": [],
   "source": [
    "# to make this notebook's output stable across runs\n",
    "np.random.seed(42)\n",
    "\n",
    "mpl.rc('axes', labelsize=14)\n",
    "mpl.rc('xtick', labelsize=12)\n",
    "mpl.rc('ytick', labelsize=12)\n",
    "\n",
    "# Ignore useless warnings (see SciPy issue #5998)\n",
    "import warnings\n",
    "warnings.filterwarnings(action=\"ignore\", message=\"^internal gelsd\")\n",
    "\n",
    "from IPython.display import display\n",
    "pd.options.display.max_columns = 50\n",
    "pd.options.display.html.table_schema = True"
   ]
  },
  {
   "cell_type": "code",
   "execution_count": 10,
   "metadata": {
    "colab": {},
    "colab_type": "code",
    "id": "qEhj3OF3cwZ9"
   },
   "outputs": [],
   "source": [
    "# Where to save the figures\n",
    "PROJECT_ROOT_DIR = \".\"\n",
    "ID = \"number_cruncher\"\n",
    "IMAGES_PATH = os.path.join(PROJECT_ROOT_DIR, \"images\", ID)\n",
    "\n",
    "def save_fig(fig_id, tight_layout=True, fig_extension=\"png\", resolution=300):\n",
    "    path = os.path.join(IMAGES_PATH, fig_id + \".\" + fig_extension)\n",
    "    print(\"Saving figure\", fig_id)\n",
    "    if tight_layout:\n",
    "        plt.tight_layout()\n",
    "    plt.savefig(path, format=fig_extension, dpi=resolution)"
   ]
  },
  {
   "cell_type": "markdown",
   "metadata": {
    "colab_type": "text",
    "id": "W9QfYuy9cwZ_"
   },
   "source": [
    "## Helper Functions"
   ]
  },
  {
   "cell_type": "code",
   "execution_count": 11,
   "metadata": {
    "colab": {},
    "colab_type": "code",
    "id": "-18vaytjcwaA"
   },
   "outputs": [],
   "source": [
    "def add_datepart(df, fldname, drop=True, time=False):\n",
    "    \"\"\"Helper function that adds columns relevant to a date.\"\"\"\n",
    "    fld = df[fldname]\n",
    "    fld_dtype = fld.dtype\n",
    "    if isinstance(fld_dtype, pd.core.dtypes.dtypes.DatetimeTZDtype):\n",
    "        fld_dtype = np.datetime64\n",
    "\n",
    "    if not np.issubdtype(fld_dtype, np.datetime64):\n",
    "        df[fldname] = fld = pd.to_datetime(fld, infer_datetime_format=True)\n",
    "    targ_pre = re.sub('[Dd]ate$', '', fldname)\n",
    "    attr = ['Year', 'Month', 'Week', 'Day', 'Dayofweek', 'Dayofyear',\n",
    "            'Is_month_end', 'Is_month_start', 'Is_quarter_end', 'Is_quarter_start', 'Is_year_end', 'Is_year_start']\n",
    "    if time: attr = attr + ['Hour', 'Minute', 'Second']\n",
    "    for n in attr: df[targ_pre + n] = getattr(fld.dt, n.lower())\n",
    "    df[targ_pre + 'Elapsed'] = fld.astype(np.int64) // 10 ** 9\n",
    "    if drop: df.drop(fldname, axis=1, inplace=True)"
   ]
  },
  {
   "cell_type": "code",
   "execution_count": 12,
   "metadata": {
    "colab": {},
    "colab_type": "code",
    "id": "qtjxNLZKc1gz"
   },
   "outputs": [],
   "source": [
    "def get_elapsed(fld, pre):\n",
    "    day1 = np.timedelta64(1, 'D')\n",
    "    last_date = np.datetime64()\n",
    "    last_store = 0\n",
    "    res = []\n",
    "\n",
    "    for s,v,d in zip(df.Store.values,df[fld].values, df.Date.values):\n",
    "        if s != last_store:\n",
    "            last_date = np.datetime64()\n",
    "            last_store = s\n",
    "        if v: last_date = d\n",
    "        res.append(((d-last_date).astype('timedelta64[D]') / day1))\n",
    "    df[pre+fld] = res"
   ]
  },
  {
   "cell_type": "code",
   "execution_count": 13,
   "metadata": {
    "colab": {},
    "colab_type": "code",
    "id": "Hj7lXLY3cwaD"
   },
   "outputs": [],
   "source": [
    "def download_file(url, path, download_path):\n",
    "    \"\"\"Download the dataset\"\"\"\n",
    "    if not os.path.isdir(path):\n",
    "        os.makedirs(path)\n",
    "    urllib.request.urlretrieve(url, download_path)\n",
    "    if (os.path.isfile(download_path)):\n",
    "        print(f'Download path: {download_path}')"
   ]
  },
  {
   "cell_type": "markdown",
   "metadata": {
    "colab_type": "text",
    "id": "JigLrfOscwaH"
   },
   "source": [
    "## Datasets - Run the section you want to analyse"
   ]
  },
  {
   "cell_type": "code",
   "execution_count": 14,
   "metadata": {
    "colab": {},
    "colab_type": "code",
    "id": "O1oXBFtycwaH"
   },
   "outputs": [],
   "source": [
    "import os\n",
    "import zipfile\n",
    "from six.moves import urllib\n",
    "\n",
    "DOWNLOAD_ROOT = \"http://www.sportstoto.com.my/\"\n",
    "LOTTO_PATH = os.path.join(os.getcwd(), \"datasets\", \"lotto\")"
   ]
  },
  {
   "cell_type": "markdown",
   "metadata": {
    "colab_type": "text",
    "id": "9DdDmsXnCDK4"
   },
   "source": [
    "### Dataset - 4D"
   ]
  },
  {
   "cell_type": "code",
   "execution_count": 15,
   "metadata": {
    "colab": {},
    "colab_type": "code",
    "id": "KYjdmdlacwaM"
   },
   "outputs": [],
   "source": [
    "_4D_URL = DOWNLOAD_ROOT + \"upload/4D.zip\"\n",
    "_4D_ZIP = os.path.join(LOTTO_PATH, \"4D.zip\")"
   ]
  },
  {
   "cell_type": "code",
   "execution_count": 16,
   "metadata": {
    "colab": {
     "base_uri": "https://localhost:8080/",
     "height": 34
    },
    "colab_type": "code",
    "id": "kcCjDnNqCsxN",
    "outputId": "b1341e49-8fbd-4e34-aca0-28a6f0629273"
   },
   "outputs": [
    {
     "name": "stdout",
     "output_type": "stream",
     "text": [
      "Download path: /Users/mengwangk/workspace/development/dl-projects/datasets/lotto/4D.zip\n"
     ]
    }
   ],
   "source": [
    "# Download 4D\n",
    "download_file(_4D_URL, LOTTO_PATH, _4D_ZIP)"
   ]
  },
  {
   "cell_type": "code",
   "execution_count": 17,
   "metadata": {
    "colab": {},
    "colab_type": "code",
    "id": "eDYOndxHcwaU"
   },
   "outputs": [],
   "source": [
    "downloaded_file = _4D_ZIP"
   ]
  },
  {
   "cell_type": "markdown",
   "metadata": {
    "colab_type": "text",
    "id": "PpAs4SgXcwaW"
   },
   "source": [
    "### Dataset - Others"
   ]
  },
  {
   "cell_type": "code",
   "execution_count": null,
   "metadata": {
    "colab": {},
    "colab_type": "code",
    "id": "88ENAOYFcwaX"
   },
   "outputs": [],
   "source": []
  },
  {
   "cell_type": "markdown",
   "metadata": {
    "colab_type": "text",
    "id": "rNk59tWhcwaZ"
   },
   "source": [
    "## Read the downloaded file"
   ]
  },
  {
   "cell_type": "code",
   "execution_count": 18,
   "metadata": {
    "colab": {},
    "colab_type": "code",
    "id": "I7frraxZLNzA"
   },
   "outputs": [],
   "source": [
    "# Read into data frame\n",
    "df = pd.read_csv(downloaded_file, header=0, sep=',', quotechar='\"')"
   ]
  },
  {
   "cell_type": "code",
   "execution_count": 19,
   "metadata": {
    "colab": {
     "base_uri": "https://localhost:8080/",
     "height": 379
    },
    "colab_type": "code",
    "id": "ZlLHkuqmEeI2",
    "outputId": "57f46060-3d90-4c84-ebdc-c2e864b7eed1"
   },
   "outputs": [
    {
     "data": {
      "application/vnd.dataresource+json": {
       "data": [
        {
         "1stPrizeNo": 3634,
         "2ndPrizeNo": 5822,
         "3rdPrizeNo": 4752,
         "ConsolationNo1": 6400,
         "ConsolationNo10": 2554,
         "ConsolationNo2": 2898,
         "ConsolationNo3": 352,
         "ConsolationNo4": 3326,
         "ConsolationNo5": 6903,
         "ConsolationNo6": 3435,
         "ConsolationNo7": 3716,
         "ConsolationNo8": 5085,
         "ConsolationNo9": 4527,
         "DrawDate": 20190421,
         "DrawNo": 493719,
         "SpecialNo1": 7700,
         "SpecialNo10": 6232,
         "SpecialNo2": 1287,
         "SpecialNo3": 2736,
         "SpecialNo4": 5179,
         "SpecialNo5": 4386,
         "SpecialNo6": 997,
         "SpecialNo7": 312,
         "SpecialNo8": 918,
         "SpecialNo9": 4313,
         "index": 4529
        },
        {
         "1stPrizeNo": 1615,
         "2ndPrizeNo": 9328,
         "3rdPrizeNo": 6138,
         "ConsolationNo1": 6585,
         "ConsolationNo10": 9314,
         "ConsolationNo2": 4517,
         "ConsolationNo3": 1314,
         "ConsolationNo4": 1181,
         "ConsolationNo5": 9444,
         "ConsolationNo6": 6827,
         "ConsolationNo7": 1871,
         "ConsolationNo8": 6984,
         "ConsolationNo9": 7105,
         "DrawDate": 20190424,
         "DrawNo": 493819,
         "SpecialNo1": 6914,
         "SpecialNo10": 1081,
         "SpecialNo2": 4874,
         "SpecialNo3": 6988,
         "SpecialNo4": 2663,
         "SpecialNo5": 3020,
         "SpecialNo6": 1152,
         "SpecialNo7": 7209,
         "SpecialNo8": 527,
         "SpecialNo9": 3310,
         "index": 4530
        },
        {
         "1stPrizeNo": 3582,
         "2ndPrizeNo": 1486,
         "3rdPrizeNo": 8937,
         "ConsolationNo1": 955,
         "ConsolationNo10": 715,
         "ConsolationNo2": 4440,
         "ConsolationNo3": 8582,
         "ConsolationNo4": 6238,
         "ConsolationNo5": 2945,
         "ConsolationNo6": 2016,
         "ConsolationNo7": 2240,
         "ConsolationNo8": 1286,
         "ConsolationNo9": 8726,
         "DrawDate": 20190427,
         "DrawNo": 493919,
         "SpecialNo1": 8464,
         "SpecialNo10": 9621,
         "SpecialNo2": 5668,
         "SpecialNo3": 4914,
         "SpecialNo4": 2182,
         "SpecialNo5": 2689,
         "SpecialNo6": 7176,
         "SpecialNo7": 3315,
         "SpecialNo8": 3413,
         "SpecialNo9": 4247,
         "index": 4531
        },
        {
         "1stPrizeNo": 8975,
         "2ndPrizeNo": 1998,
         "3rdPrizeNo": 8973,
         "ConsolationNo1": 5392,
         "ConsolationNo10": 6495,
         "ConsolationNo2": 1206,
         "ConsolationNo3": 7955,
         "ConsolationNo4": 1235,
         "ConsolationNo5": 1197,
         "ConsolationNo6": 4883,
         "ConsolationNo7": 6971,
         "ConsolationNo8": 7918,
         "ConsolationNo9": 155,
         "DrawDate": 20190428,
         "DrawNo": 494019,
         "SpecialNo1": 3112,
         "SpecialNo10": 1344,
         "SpecialNo2": 2316,
         "SpecialNo3": 8050,
         "SpecialNo4": 4631,
         "SpecialNo5": 3584,
         "SpecialNo6": 9329,
         "SpecialNo7": 1714,
         "SpecialNo8": 1572,
         "SpecialNo9": 5405,
         "index": 4532
        },
        {
         "1stPrizeNo": 4633,
         "2ndPrizeNo": 4154,
         "3rdPrizeNo": 318,
         "ConsolationNo1": 3663,
         "ConsolationNo10": 8866,
         "ConsolationNo2": 8503,
         "ConsolationNo3": 9387,
         "ConsolationNo4": 4279,
         "ConsolationNo5": 992,
         "ConsolationNo6": 6246,
         "ConsolationNo7": 9262,
         "ConsolationNo8": 3764,
         "ConsolationNo9": 4649,
         "DrawDate": 20190501,
         "DrawNo": 494119,
         "SpecialNo1": 1271,
         "SpecialNo10": 2106,
         "SpecialNo2": 7440,
         "SpecialNo3": 8707,
         "SpecialNo4": 6127,
         "SpecialNo5": 2690,
         "SpecialNo6": 8531,
         "SpecialNo7": 9627,
         "SpecialNo8": 6547,
         "SpecialNo9": 2222,
         "index": 4533
        },
        {
         "1stPrizeNo": 9401,
         "2ndPrizeNo": 962,
         "3rdPrizeNo": 3826,
         "ConsolationNo1": 2447,
         "ConsolationNo10": 5288,
         "ConsolationNo2": 3674,
         "ConsolationNo3": 8128,
         "ConsolationNo4": 8865,
         "ConsolationNo5": 9808,
         "ConsolationNo6": 1032,
         "ConsolationNo7": 6563,
         "ConsolationNo8": 5311,
         "ConsolationNo9": 4172,
         "DrawDate": 20190504,
         "DrawNo": 494219,
         "SpecialNo1": 6554,
         "SpecialNo10": 1539,
         "SpecialNo2": 8957,
         "SpecialNo3": 4334,
         "SpecialNo4": 1223,
         "SpecialNo5": 8574,
         "SpecialNo6": 7667,
         "SpecialNo7": 8775,
         "SpecialNo8": 2681,
         "SpecialNo9": 2349,
         "index": 4534
        },
        {
         "1stPrizeNo": 7181,
         "2ndPrizeNo": 433,
         "3rdPrizeNo": 1274,
         "ConsolationNo1": 3679,
         "ConsolationNo10": 8485,
         "ConsolationNo2": 4116,
         "ConsolationNo3": 3769,
         "ConsolationNo4": 3941,
         "ConsolationNo5": 8207,
         "ConsolationNo6": 9366,
         "ConsolationNo7": 3584,
         "ConsolationNo8": 7190,
         "ConsolationNo9": 1969,
         "DrawDate": 20190505,
         "DrawNo": 494319,
         "SpecialNo1": 984,
         "SpecialNo10": 8722,
         "SpecialNo2": 8015,
         "SpecialNo3": 6690,
         "SpecialNo4": 830,
         "SpecialNo5": 1673,
         "SpecialNo6": 8940,
         "SpecialNo7": 9430,
         "SpecialNo8": 4694,
         "SpecialNo9": 1303,
         "index": 4535
        },
        {
         "1stPrizeNo": 1754,
         "2ndPrizeNo": 1635,
         "3rdPrizeNo": 6964,
         "ConsolationNo1": 1809,
         "ConsolationNo10": 8277,
         "ConsolationNo2": 1726,
         "ConsolationNo3": 7393,
         "ConsolationNo4": 6634,
         "ConsolationNo5": 1913,
         "ConsolationNo6": 4692,
         "ConsolationNo7": 7841,
         "ConsolationNo8": 4128,
         "ConsolationNo9": 2599,
         "DrawDate": 20190508,
         "DrawNo": 494419,
         "SpecialNo1": 3190,
         "SpecialNo10": 9103,
         "SpecialNo2": 3054,
         "SpecialNo3": 6741,
         "SpecialNo4": 8799,
         "SpecialNo5": 4881,
         "SpecialNo6": 286,
         "SpecialNo7": 3992,
         "SpecialNo8": 8362,
         "SpecialNo9": 7412,
         "index": 4536
        },
        {
         "1stPrizeNo": 7100,
         "2ndPrizeNo": 2386,
         "3rdPrizeNo": 5679,
         "ConsolationNo1": 1702,
         "ConsolationNo10": 4647,
         "ConsolationNo2": 6752,
         "ConsolationNo3": 8560,
         "ConsolationNo4": 6392,
         "ConsolationNo5": 8858,
         "ConsolationNo6": 915,
         "ConsolationNo7": 6049,
         "ConsolationNo8": 4428,
         "ConsolationNo9": 5451,
         "DrawDate": 20190511,
         "DrawNo": 494519,
         "SpecialNo1": 9530,
         "SpecialNo10": 7863,
         "SpecialNo2": 404,
         "SpecialNo3": 9321,
         "SpecialNo4": 1001,
         "SpecialNo5": 3276,
         "SpecialNo6": 7217,
         "SpecialNo7": 3917,
         "SpecialNo8": 4963,
         "SpecialNo9": 6588,
         "index": 4537
        },
        {
         "1stPrizeNo": 5907,
         "2ndPrizeNo": 2641,
         "3rdPrizeNo": 1839,
         "ConsolationNo1": 9303,
         "ConsolationNo10": 4733,
         "ConsolationNo2": 2085,
         "ConsolationNo3": 5137,
         "ConsolationNo4": 6218,
         "ConsolationNo5": 4033,
         "ConsolationNo6": 1097,
         "ConsolationNo7": 5750,
         "ConsolationNo8": 3323,
         "ConsolationNo9": 3660,
         "DrawDate": 20190512,
         "DrawNo": 494619,
         "SpecialNo1": 2617,
         "SpecialNo10": 3403,
         "SpecialNo2": 1346,
         "SpecialNo3": 4533,
         "SpecialNo4": 6470,
         "SpecialNo5": 2898,
         "SpecialNo6": 4759,
         "SpecialNo7": 7335,
         "SpecialNo8": 5065,
         "SpecialNo9": 2781,
         "index": 4538
        }
       ],
       "schema": {
        "fields": [
         {
          "name": "index",
          "type": "integer"
         },
         {
          "name": "DrawNo",
          "type": "integer"
         },
         {
          "name": "DrawDate",
          "type": "integer"
         },
         {
          "name": "1stPrizeNo",
          "type": "integer"
         },
         {
          "name": "2ndPrizeNo",
          "type": "integer"
         },
         {
          "name": "3rdPrizeNo",
          "type": "integer"
         },
         {
          "name": "SpecialNo1",
          "type": "integer"
         },
         {
          "name": "SpecialNo2",
          "type": "integer"
         },
         {
          "name": "SpecialNo3",
          "type": "integer"
         },
         {
          "name": "SpecialNo4",
          "type": "integer"
         },
         {
          "name": "SpecialNo5",
          "type": "integer"
         },
         {
          "name": "SpecialNo6",
          "type": "integer"
         },
         {
          "name": "SpecialNo7",
          "type": "integer"
         },
         {
          "name": "SpecialNo8",
          "type": "integer"
         },
         {
          "name": "SpecialNo9",
          "type": "integer"
         },
         {
          "name": "SpecialNo10",
          "type": "integer"
         },
         {
          "name": "ConsolationNo1",
          "type": "integer"
         },
         {
          "name": "ConsolationNo2",
          "type": "integer"
         },
         {
          "name": "ConsolationNo3",
          "type": "integer"
         },
         {
          "name": "ConsolationNo4",
          "type": "integer"
         },
         {
          "name": "ConsolationNo5",
          "type": "integer"
         },
         {
          "name": "ConsolationNo6",
          "type": "integer"
         },
         {
          "name": "ConsolationNo7",
          "type": "integer"
         },
         {
          "name": "ConsolationNo8",
          "type": "integer"
         },
         {
          "name": "ConsolationNo9",
          "type": "integer"
         },
         {
          "name": "ConsolationNo10",
          "type": "integer"
         }
        ],
        "pandas_version": "0.20.0",
        "primaryKey": [
         "index"
        ]
       }
      },
      "text/html": [
       "<div>\n",
       "<style scoped>\n",
       "    .dataframe tbody tr th:only-of-type {\n",
       "        vertical-align: middle;\n",
       "    }\n",
       "\n",
       "    .dataframe tbody tr th {\n",
       "        vertical-align: top;\n",
       "    }\n",
       "\n",
       "    .dataframe thead th {\n",
       "        text-align: right;\n",
       "    }\n",
       "</style>\n",
       "<table border=\"1\" class=\"dataframe\">\n",
       "  <thead>\n",
       "    <tr style=\"text-align: right;\">\n",
       "      <th></th>\n",
       "      <th>DrawNo</th>\n",
       "      <th>DrawDate</th>\n",
       "      <th>1stPrizeNo</th>\n",
       "      <th>2ndPrizeNo</th>\n",
       "      <th>3rdPrizeNo</th>\n",
       "      <th>SpecialNo1</th>\n",
       "      <th>SpecialNo2</th>\n",
       "      <th>SpecialNo3</th>\n",
       "      <th>SpecialNo4</th>\n",
       "      <th>SpecialNo5</th>\n",
       "      <th>SpecialNo6</th>\n",
       "      <th>SpecialNo7</th>\n",
       "      <th>SpecialNo8</th>\n",
       "      <th>SpecialNo9</th>\n",
       "      <th>SpecialNo10</th>\n",
       "      <th>ConsolationNo1</th>\n",
       "      <th>ConsolationNo2</th>\n",
       "      <th>ConsolationNo3</th>\n",
       "      <th>ConsolationNo4</th>\n",
       "      <th>ConsolationNo5</th>\n",
       "      <th>ConsolationNo6</th>\n",
       "      <th>ConsolationNo7</th>\n",
       "      <th>ConsolationNo8</th>\n",
       "      <th>ConsolationNo9</th>\n",
       "      <th>ConsolationNo10</th>\n",
       "    </tr>\n",
       "  </thead>\n",
       "  <tbody>\n",
       "    <tr>\n",
       "      <th>4529</th>\n",
       "      <td>493719</td>\n",
       "      <td>20190421</td>\n",
       "      <td>3634</td>\n",
       "      <td>5822</td>\n",
       "      <td>4752</td>\n",
       "      <td>7700</td>\n",
       "      <td>1287</td>\n",
       "      <td>2736</td>\n",
       "      <td>5179</td>\n",
       "      <td>4386</td>\n",
       "      <td>997</td>\n",
       "      <td>312</td>\n",
       "      <td>918</td>\n",
       "      <td>4313</td>\n",
       "      <td>6232</td>\n",
       "      <td>6400</td>\n",
       "      <td>2898</td>\n",
       "      <td>352</td>\n",
       "      <td>3326</td>\n",
       "      <td>6903</td>\n",
       "      <td>3435</td>\n",
       "      <td>3716</td>\n",
       "      <td>5085</td>\n",
       "      <td>4527</td>\n",
       "      <td>2554</td>\n",
       "    </tr>\n",
       "    <tr>\n",
       "      <th>4530</th>\n",
       "      <td>493819</td>\n",
       "      <td>20190424</td>\n",
       "      <td>1615</td>\n",
       "      <td>9328</td>\n",
       "      <td>6138</td>\n",
       "      <td>6914</td>\n",
       "      <td>4874</td>\n",
       "      <td>6988</td>\n",
       "      <td>2663</td>\n",
       "      <td>3020</td>\n",
       "      <td>1152</td>\n",
       "      <td>7209</td>\n",
       "      <td>527</td>\n",
       "      <td>3310</td>\n",
       "      <td>1081</td>\n",
       "      <td>6585</td>\n",
       "      <td>4517</td>\n",
       "      <td>1314</td>\n",
       "      <td>1181</td>\n",
       "      <td>9444</td>\n",
       "      <td>6827</td>\n",
       "      <td>1871</td>\n",
       "      <td>6984</td>\n",
       "      <td>7105</td>\n",
       "      <td>9314</td>\n",
       "    </tr>\n",
       "    <tr>\n",
       "      <th>4531</th>\n",
       "      <td>493919</td>\n",
       "      <td>20190427</td>\n",
       "      <td>3582</td>\n",
       "      <td>1486</td>\n",
       "      <td>8937</td>\n",
       "      <td>8464</td>\n",
       "      <td>5668</td>\n",
       "      <td>4914</td>\n",
       "      <td>2182</td>\n",
       "      <td>2689</td>\n",
       "      <td>7176</td>\n",
       "      <td>3315</td>\n",
       "      <td>3413</td>\n",
       "      <td>4247</td>\n",
       "      <td>9621</td>\n",
       "      <td>955</td>\n",
       "      <td>4440</td>\n",
       "      <td>8582</td>\n",
       "      <td>6238</td>\n",
       "      <td>2945</td>\n",
       "      <td>2016</td>\n",
       "      <td>2240</td>\n",
       "      <td>1286</td>\n",
       "      <td>8726</td>\n",
       "      <td>715</td>\n",
       "    </tr>\n",
       "    <tr>\n",
       "      <th>4532</th>\n",
       "      <td>494019</td>\n",
       "      <td>20190428</td>\n",
       "      <td>8975</td>\n",
       "      <td>1998</td>\n",
       "      <td>8973</td>\n",
       "      <td>3112</td>\n",
       "      <td>2316</td>\n",
       "      <td>8050</td>\n",
       "      <td>4631</td>\n",
       "      <td>3584</td>\n",
       "      <td>9329</td>\n",
       "      <td>1714</td>\n",
       "      <td>1572</td>\n",
       "      <td>5405</td>\n",
       "      <td>1344</td>\n",
       "      <td>5392</td>\n",
       "      <td>1206</td>\n",
       "      <td>7955</td>\n",
       "      <td>1235</td>\n",
       "      <td>1197</td>\n",
       "      <td>4883</td>\n",
       "      <td>6971</td>\n",
       "      <td>7918</td>\n",
       "      <td>155</td>\n",
       "      <td>6495</td>\n",
       "    </tr>\n",
       "    <tr>\n",
       "      <th>4533</th>\n",
       "      <td>494119</td>\n",
       "      <td>20190501</td>\n",
       "      <td>4633</td>\n",
       "      <td>4154</td>\n",
       "      <td>318</td>\n",
       "      <td>1271</td>\n",
       "      <td>7440</td>\n",
       "      <td>8707</td>\n",
       "      <td>6127</td>\n",
       "      <td>2690</td>\n",
       "      <td>8531</td>\n",
       "      <td>9627</td>\n",
       "      <td>6547</td>\n",
       "      <td>2222</td>\n",
       "      <td>2106</td>\n",
       "      <td>3663</td>\n",
       "      <td>8503</td>\n",
       "      <td>9387</td>\n",
       "      <td>4279</td>\n",
       "      <td>992</td>\n",
       "      <td>6246</td>\n",
       "      <td>9262</td>\n",
       "      <td>3764</td>\n",
       "      <td>4649</td>\n",
       "      <td>8866</td>\n",
       "    </tr>\n",
       "    <tr>\n",
       "      <th>4534</th>\n",
       "      <td>494219</td>\n",
       "      <td>20190504</td>\n",
       "      <td>9401</td>\n",
       "      <td>962</td>\n",
       "      <td>3826</td>\n",
       "      <td>6554</td>\n",
       "      <td>8957</td>\n",
       "      <td>4334</td>\n",
       "      <td>1223</td>\n",
       "      <td>8574</td>\n",
       "      <td>7667</td>\n",
       "      <td>8775</td>\n",
       "      <td>2681</td>\n",
       "      <td>2349</td>\n",
       "      <td>1539</td>\n",
       "      <td>2447</td>\n",
       "      <td>3674</td>\n",
       "      <td>8128</td>\n",
       "      <td>8865</td>\n",
       "      <td>9808</td>\n",
       "      <td>1032</td>\n",
       "      <td>6563</td>\n",
       "      <td>5311</td>\n",
       "      <td>4172</td>\n",
       "      <td>5288</td>\n",
       "    </tr>\n",
       "    <tr>\n",
       "      <th>4535</th>\n",
       "      <td>494319</td>\n",
       "      <td>20190505</td>\n",
       "      <td>7181</td>\n",
       "      <td>433</td>\n",
       "      <td>1274</td>\n",
       "      <td>984</td>\n",
       "      <td>8015</td>\n",
       "      <td>6690</td>\n",
       "      <td>830</td>\n",
       "      <td>1673</td>\n",
       "      <td>8940</td>\n",
       "      <td>9430</td>\n",
       "      <td>4694</td>\n",
       "      <td>1303</td>\n",
       "      <td>8722</td>\n",
       "      <td>3679</td>\n",
       "      <td>4116</td>\n",
       "      <td>3769</td>\n",
       "      <td>3941</td>\n",
       "      <td>8207</td>\n",
       "      <td>9366</td>\n",
       "      <td>3584</td>\n",
       "      <td>7190</td>\n",
       "      <td>1969</td>\n",
       "      <td>8485</td>\n",
       "    </tr>\n",
       "    <tr>\n",
       "      <th>4536</th>\n",
       "      <td>494419</td>\n",
       "      <td>20190508</td>\n",
       "      <td>1754</td>\n",
       "      <td>1635</td>\n",
       "      <td>6964</td>\n",
       "      <td>3190</td>\n",
       "      <td>3054</td>\n",
       "      <td>6741</td>\n",
       "      <td>8799</td>\n",
       "      <td>4881</td>\n",
       "      <td>286</td>\n",
       "      <td>3992</td>\n",
       "      <td>8362</td>\n",
       "      <td>7412</td>\n",
       "      <td>9103</td>\n",
       "      <td>1809</td>\n",
       "      <td>1726</td>\n",
       "      <td>7393</td>\n",
       "      <td>6634</td>\n",
       "      <td>1913</td>\n",
       "      <td>4692</td>\n",
       "      <td>7841</td>\n",
       "      <td>4128</td>\n",
       "      <td>2599</td>\n",
       "      <td>8277</td>\n",
       "    </tr>\n",
       "    <tr>\n",
       "      <th>4537</th>\n",
       "      <td>494519</td>\n",
       "      <td>20190511</td>\n",
       "      <td>7100</td>\n",
       "      <td>2386</td>\n",
       "      <td>5679</td>\n",
       "      <td>9530</td>\n",
       "      <td>404</td>\n",
       "      <td>9321</td>\n",
       "      <td>1001</td>\n",
       "      <td>3276</td>\n",
       "      <td>7217</td>\n",
       "      <td>3917</td>\n",
       "      <td>4963</td>\n",
       "      <td>6588</td>\n",
       "      <td>7863</td>\n",
       "      <td>1702</td>\n",
       "      <td>6752</td>\n",
       "      <td>8560</td>\n",
       "      <td>6392</td>\n",
       "      <td>8858</td>\n",
       "      <td>915</td>\n",
       "      <td>6049</td>\n",
       "      <td>4428</td>\n",
       "      <td>5451</td>\n",
       "      <td>4647</td>\n",
       "    </tr>\n",
       "    <tr>\n",
       "      <th>4538</th>\n",
       "      <td>494619</td>\n",
       "      <td>20190512</td>\n",
       "      <td>5907</td>\n",
       "      <td>2641</td>\n",
       "      <td>1839</td>\n",
       "      <td>2617</td>\n",
       "      <td>1346</td>\n",
       "      <td>4533</td>\n",
       "      <td>6470</td>\n",
       "      <td>2898</td>\n",
       "      <td>4759</td>\n",
       "      <td>7335</td>\n",
       "      <td>5065</td>\n",
       "      <td>2781</td>\n",
       "      <td>3403</td>\n",
       "      <td>9303</td>\n",
       "      <td>2085</td>\n",
       "      <td>5137</td>\n",
       "      <td>6218</td>\n",
       "      <td>4033</td>\n",
       "      <td>1097</td>\n",
       "      <td>5750</td>\n",
       "      <td>3323</td>\n",
       "      <td>3660</td>\n",
       "      <td>4733</td>\n",
       "    </tr>\n",
       "  </tbody>\n",
       "</table>\n",
       "</div>"
      ],
      "text/plain": [
       "      DrawNo  DrawDate  1stPrizeNo  2ndPrizeNo  3rdPrizeNo  SpecialNo1  \\\n",
       "4529  493719  20190421        3634        5822        4752        7700   \n",
       "4530  493819  20190424        1615        9328        6138        6914   \n",
       "4531  493919  20190427        3582        1486        8937        8464   \n",
       "4532  494019  20190428        8975        1998        8973        3112   \n",
       "4533  494119  20190501        4633        4154         318        1271   \n",
       "4534  494219  20190504        9401         962        3826        6554   \n",
       "4535  494319  20190505        7181         433        1274         984   \n",
       "4536  494419  20190508        1754        1635        6964        3190   \n",
       "4537  494519  20190511        7100        2386        5679        9530   \n",
       "4538  494619  20190512        5907        2641        1839        2617   \n",
       "\n",
       "      SpecialNo2  SpecialNo3  SpecialNo4  SpecialNo5  SpecialNo6  SpecialNo7  \\\n",
       "4529        1287        2736        5179        4386         997         312   \n",
       "4530        4874        6988        2663        3020        1152        7209   \n",
       "4531        5668        4914        2182        2689        7176        3315   \n",
       "4532        2316        8050        4631        3584        9329        1714   \n",
       "4533        7440        8707        6127        2690        8531        9627   \n",
       "4534        8957        4334        1223        8574        7667        8775   \n",
       "4535        8015        6690         830        1673        8940        9430   \n",
       "4536        3054        6741        8799        4881         286        3992   \n",
       "4537         404        9321        1001        3276        7217        3917   \n",
       "4538        1346        4533        6470        2898        4759        7335   \n",
       "\n",
       "      SpecialNo8  SpecialNo9  SpecialNo10  ConsolationNo1  ConsolationNo2  \\\n",
       "4529         918        4313         6232            6400            2898   \n",
       "4530         527        3310         1081            6585            4517   \n",
       "4531        3413        4247         9621             955            4440   \n",
       "4532        1572        5405         1344            5392            1206   \n",
       "4533        6547        2222         2106            3663            8503   \n",
       "4534        2681        2349         1539            2447            3674   \n",
       "4535        4694        1303         8722            3679            4116   \n",
       "4536        8362        7412         9103            1809            1726   \n",
       "4537        4963        6588         7863            1702            6752   \n",
       "4538        5065        2781         3403            9303            2085   \n",
       "\n",
       "      ConsolationNo3  ConsolationNo4  ConsolationNo5  ConsolationNo6  \\\n",
       "4529             352            3326            6903            3435   \n",
       "4530            1314            1181            9444            6827   \n",
       "4531            8582            6238            2945            2016   \n",
       "4532            7955            1235            1197            4883   \n",
       "4533            9387            4279             992            6246   \n",
       "4534            8128            8865            9808            1032   \n",
       "4535            3769            3941            8207            9366   \n",
       "4536            7393            6634            1913            4692   \n",
       "4537            8560            6392            8858             915   \n",
       "4538            5137            6218            4033            1097   \n",
       "\n",
       "      ConsolationNo7  ConsolationNo8  ConsolationNo9  ConsolationNo10  \n",
       "4529            3716            5085            4527             2554  \n",
       "4530            1871            6984            7105             9314  \n",
       "4531            2240            1286            8726              715  \n",
       "4532            6971            7918             155             6495  \n",
       "4533            9262            3764            4649             8866  \n",
       "4534            6563            5311            4172             5288  \n",
       "4535            3584            7190            1969             8485  \n",
       "4536            7841            4128            2599             8277  \n",
       "4537            6049            4428            5451             4647  \n",
       "4538            5750            3323            3660             4733  "
      ]
     },
     "execution_count": 19,
     "metadata": {},
     "output_type": "execute_result"
    }
   ],
   "source": [
    "# Tail the last 10 rows\n",
    "df.tail(10)"
   ]
  },
  {
   "cell_type": "markdown",
   "metadata": {
    "colab_type": "text",
    "id": "hJqn_qhfcwag",
    "toc-hr-collapsed": true
   },
   "source": [
    "## Preprocessing"
   ]
  },
  {
   "cell_type": "markdown",
   "metadata": {
    "colab_type": "text",
    "id": "yve_GeP_cwah"
   },
   "source": [
    "### Transpose the data"
   ]
  },
  {
   "cell_type": "code",
   "execution_count": 20,
   "metadata": {
    "colab": {
     "base_uri": "https://localhost:8080/",
     "height": 170
    },
    "colab_type": "code",
    "id": "Jk0qwa5kcwai",
    "outputId": "58781cbc-2551-4e76-e0b4-5c9a52b7961d"
   },
   "outputs": [
    {
     "name": "stdout",
     "output_type": "stream",
     "text": [
      "<class 'pandas.core.frame.DataFrame'>\n",
      "RangeIndex: 104397 entries, 0 to 104396\n",
      "Data columns (total 4 columns):\n",
      "DrawNo       104397 non-null int64\n",
      "DrawDate     104397 non-null datetime64[ns]\n",
      "PrizeType    104397 non-null object\n",
      "LuckyNo      104397 non-null int64\n",
      "dtypes: datetime64[ns](1), int64(2), object(1)\n",
      "memory usage: 3.2+ MB\n"
     ]
    }
   ],
   "source": [
    "df_transposed = df.melt(id_vars=[\"DrawNo\", \"DrawDate\"], var_name=\"PrizeType\", value_name=\"LuckyNo\")\n",
    "df_transposed = df_transposed.sort_values([\"DrawNo\", \"DrawDate\", \"PrizeType\"], ascending=True)\n",
    "df_transposed['DrawDate'] = pd.to_datetime(df_transposed['DrawDate'], format='%Y%m%d')\n",
    "df_transposed.reset_index(inplace=True, drop=True)\n",
    "df_transposed.info()"
   ]
  },
  {
   "cell_type": "code",
   "execution_count": 21,
   "metadata": {
    "colab": {
     "base_uri": "https://localhost:8080/",
     "height": 762
    },
    "colab_type": "code",
    "id": "TtPqd8Titw6r",
    "outputId": "1be14b50-aa80-4763-c7d5-e8301834da3b"
   },
   "outputs": [
    {
     "data": {
      "application/vnd.dataresource+json": {
       "data": [
        {
         "DrawDate": "1992-05-06T00:00:00.000Z",
         "DrawNo": 40792,
         "LuckyNo": 19,
         "PrizeType": "1stPrizeNo",
         "index": 0
        },
        {
         "DrawDate": "1992-05-06T00:00:00.000Z",
         "DrawNo": 40792,
         "LuckyNo": 1124,
         "PrizeType": "2ndPrizeNo",
         "index": 1
        },
        {
         "DrawDate": "1992-05-06T00:00:00.000Z",
         "DrawNo": 40792,
         "LuckyNo": 592,
         "PrizeType": "3rdPrizeNo",
         "index": 2
        },
        {
         "DrawDate": "1992-05-06T00:00:00.000Z",
         "DrawNo": 40792,
         "LuckyNo": 5311,
         "PrizeType": "ConsolationNo1",
         "index": 3
        },
        {
         "DrawDate": "1992-05-06T00:00:00.000Z",
         "DrawNo": 40792,
         "LuckyNo": 407,
         "PrizeType": "ConsolationNo10",
         "index": 4
        },
        {
         "DrawDate": "1992-05-06T00:00:00.000Z",
         "DrawNo": 40792,
         "LuckyNo": 1949,
         "PrizeType": "ConsolationNo2",
         "index": 5
        },
        {
         "DrawDate": "1992-05-06T00:00:00.000Z",
         "DrawNo": 40792,
         "LuckyNo": 1606,
         "PrizeType": "ConsolationNo3",
         "index": 6
        },
        {
         "DrawDate": "1992-05-06T00:00:00.000Z",
         "DrawNo": 40792,
         "LuckyNo": 3775,
         "PrizeType": "ConsolationNo4",
         "index": 7
        },
        {
         "DrawDate": "1992-05-06T00:00:00.000Z",
         "DrawNo": 40792,
         "LuckyNo": 6226,
         "PrizeType": "ConsolationNo5",
         "index": 8
        },
        {
         "DrawDate": "1992-05-06T00:00:00.000Z",
         "DrawNo": 40792,
         "LuckyNo": 1271,
         "PrizeType": "ConsolationNo6",
         "index": 9
        },
        {
         "DrawDate": "1992-05-06T00:00:00.000Z",
         "DrawNo": 40792,
         "LuckyNo": 7455,
         "PrizeType": "ConsolationNo7",
         "index": 10
        },
        {
         "DrawDate": "1992-05-06T00:00:00.000Z",
         "DrawNo": 40792,
         "LuckyNo": 7227,
         "PrizeType": "ConsolationNo8",
         "index": 11
        },
        {
         "DrawDate": "1992-05-06T00:00:00.000Z",
         "DrawNo": 40792,
         "LuckyNo": 9258,
         "PrizeType": "ConsolationNo9",
         "index": 12
        },
        {
         "DrawDate": "1992-05-06T00:00:00.000Z",
         "DrawNo": 40792,
         "LuckyNo": 950,
         "PrizeType": "SpecialNo1",
         "index": 13
        },
        {
         "DrawDate": "1992-05-06T00:00:00.000Z",
         "DrawNo": 40792,
         "LuckyNo": 5301,
         "PrizeType": "SpecialNo10",
         "index": 14
        },
        {
         "DrawDate": "1992-05-06T00:00:00.000Z",
         "DrawNo": 40792,
         "LuckyNo": 2479,
         "PrizeType": "SpecialNo2",
         "index": 15
        },
        {
         "DrawDate": "1992-05-06T00:00:00.000Z",
         "DrawNo": 40792,
         "LuckyNo": 7139,
         "PrizeType": "SpecialNo3",
         "index": 16
        },
        {
         "DrawDate": "1992-05-06T00:00:00.000Z",
         "DrawNo": 40792,
         "LuckyNo": 3114,
         "PrizeType": "SpecialNo4",
         "index": 17
        },
        {
         "DrawDate": "1992-05-06T00:00:00.000Z",
         "DrawNo": 40792,
         "LuckyNo": 4609,
         "PrizeType": "SpecialNo5",
         "index": 18
        },
        {
         "DrawDate": "1992-05-06T00:00:00.000Z",
         "DrawNo": 40792,
         "LuckyNo": 7836,
         "PrizeType": "SpecialNo6",
         "index": 19
        },
        {
         "DrawDate": "1992-05-06T00:00:00.000Z",
         "DrawNo": 40792,
         "LuckyNo": 8981,
         "PrizeType": "SpecialNo7",
         "index": 20
        },
        {
         "DrawDate": "1992-05-06T00:00:00.000Z",
         "DrawNo": 40792,
         "LuckyNo": 4465,
         "PrizeType": "SpecialNo8",
         "index": 21
        },
        {
         "DrawDate": "1992-05-06T00:00:00.000Z",
         "DrawNo": 40792,
         "LuckyNo": 6114,
         "PrizeType": "SpecialNo9",
         "index": 22
        }
       ],
       "schema": {
        "fields": [
         {
          "name": "index",
          "type": "integer"
         },
         {
          "name": "DrawNo",
          "type": "integer"
         },
         {
          "name": "DrawDate",
          "type": "datetime"
         },
         {
          "name": "PrizeType",
          "type": "string"
         },
         {
          "name": "LuckyNo",
          "type": "integer"
         }
        ],
        "pandas_version": "0.20.0",
        "primaryKey": [
         "index"
        ]
       }
      },
      "text/html": [
       "<div>\n",
       "<style scoped>\n",
       "    .dataframe tbody tr th:only-of-type {\n",
       "        vertical-align: middle;\n",
       "    }\n",
       "\n",
       "    .dataframe tbody tr th {\n",
       "        vertical-align: top;\n",
       "    }\n",
       "\n",
       "    .dataframe thead th {\n",
       "        text-align: right;\n",
       "    }\n",
       "</style>\n",
       "<table border=\"1\" class=\"dataframe\">\n",
       "  <thead>\n",
       "    <tr style=\"text-align: right;\">\n",
       "      <th></th>\n",
       "      <th>DrawNo</th>\n",
       "      <th>DrawDate</th>\n",
       "      <th>PrizeType</th>\n",
       "      <th>LuckyNo</th>\n",
       "    </tr>\n",
       "  </thead>\n",
       "  <tbody>\n",
       "    <tr>\n",
       "      <th>0</th>\n",
       "      <td>40792</td>\n",
       "      <td>1992-05-06</td>\n",
       "      <td>1stPrizeNo</td>\n",
       "      <td>19</td>\n",
       "    </tr>\n",
       "    <tr>\n",
       "      <th>1</th>\n",
       "      <td>40792</td>\n",
       "      <td>1992-05-06</td>\n",
       "      <td>2ndPrizeNo</td>\n",
       "      <td>1124</td>\n",
       "    </tr>\n",
       "    <tr>\n",
       "      <th>2</th>\n",
       "      <td>40792</td>\n",
       "      <td>1992-05-06</td>\n",
       "      <td>3rdPrizeNo</td>\n",
       "      <td>592</td>\n",
       "    </tr>\n",
       "    <tr>\n",
       "      <th>3</th>\n",
       "      <td>40792</td>\n",
       "      <td>1992-05-06</td>\n",
       "      <td>ConsolationNo1</td>\n",
       "      <td>5311</td>\n",
       "    </tr>\n",
       "    <tr>\n",
       "      <th>4</th>\n",
       "      <td>40792</td>\n",
       "      <td>1992-05-06</td>\n",
       "      <td>ConsolationNo10</td>\n",
       "      <td>407</td>\n",
       "    </tr>\n",
       "    <tr>\n",
       "      <th>5</th>\n",
       "      <td>40792</td>\n",
       "      <td>1992-05-06</td>\n",
       "      <td>ConsolationNo2</td>\n",
       "      <td>1949</td>\n",
       "    </tr>\n",
       "    <tr>\n",
       "      <th>6</th>\n",
       "      <td>40792</td>\n",
       "      <td>1992-05-06</td>\n",
       "      <td>ConsolationNo3</td>\n",
       "      <td>1606</td>\n",
       "    </tr>\n",
       "    <tr>\n",
       "      <th>7</th>\n",
       "      <td>40792</td>\n",
       "      <td>1992-05-06</td>\n",
       "      <td>ConsolationNo4</td>\n",
       "      <td>3775</td>\n",
       "    </tr>\n",
       "    <tr>\n",
       "      <th>8</th>\n",
       "      <td>40792</td>\n",
       "      <td>1992-05-06</td>\n",
       "      <td>ConsolationNo5</td>\n",
       "      <td>6226</td>\n",
       "    </tr>\n",
       "    <tr>\n",
       "      <th>9</th>\n",
       "      <td>40792</td>\n",
       "      <td>1992-05-06</td>\n",
       "      <td>ConsolationNo6</td>\n",
       "      <td>1271</td>\n",
       "    </tr>\n",
       "    <tr>\n",
       "      <th>10</th>\n",
       "      <td>40792</td>\n",
       "      <td>1992-05-06</td>\n",
       "      <td>ConsolationNo7</td>\n",
       "      <td>7455</td>\n",
       "    </tr>\n",
       "    <tr>\n",
       "      <th>11</th>\n",
       "      <td>40792</td>\n",
       "      <td>1992-05-06</td>\n",
       "      <td>ConsolationNo8</td>\n",
       "      <td>7227</td>\n",
       "    </tr>\n",
       "    <tr>\n",
       "      <th>12</th>\n",
       "      <td>40792</td>\n",
       "      <td>1992-05-06</td>\n",
       "      <td>ConsolationNo9</td>\n",
       "      <td>9258</td>\n",
       "    </tr>\n",
       "    <tr>\n",
       "      <th>13</th>\n",
       "      <td>40792</td>\n",
       "      <td>1992-05-06</td>\n",
       "      <td>SpecialNo1</td>\n",
       "      <td>950</td>\n",
       "    </tr>\n",
       "    <tr>\n",
       "      <th>14</th>\n",
       "      <td>40792</td>\n",
       "      <td>1992-05-06</td>\n",
       "      <td>SpecialNo10</td>\n",
       "      <td>5301</td>\n",
       "    </tr>\n",
       "    <tr>\n",
       "      <th>15</th>\n",
       "      <td>40792</td>\n",
       "      <td>1992-05-06</td>\n",
       "      <td>SpecialNo2</td>\n",
       "      <td>2479</td>\n",
       "    </tr>\n",
       "    <tr>\n",
       "      <th>16</th>\n",
       "      <td>40792</td>\n",
       "      <td>1992-05-06</td>\n",
       "      <td>SpecialNo3</td>\n",
       "      <td>7139</td>\n",
       "    </tr>\n",
       "    <tr>\n",
       "      <th>17</th>\n",
       "      <td>40792</td>\n",
       "      <td>1992-05-06</td>\n",
       "      <td>SpecialNo4</td>\n",
       "      <td>3114</td>\n",
       "    </tr>\n",
       "    <tr>\n",
       "      <th>18</th>\n",
       "      <td>40792</td>\n",
       "      <td>1992-05-06</td>\n",
       "      <td>SpecialNo5</td>\n",
       "      <td>4609</td>\n",
       "    </tr>\n",
       "    <tr>\n",
       "      <th>19</th>\n",
       "      <td>40792</td>\n",
       "      <td>1992-05-06</td>\n",
       "      <td>SpecialNo6</td>\n",
       "      <td>7836</td>\n",
       "    </tr>\n",
       "    <tr>\n",
       "      <th>20</th>\n",
       "      <td>40792</td>\n",
       "      <td>1992-05-06</td>\n",
       "      <td>SpecialNo7</td>\n",
       "      <td>8981</td>\n",
       "    </tr>\n",
       "    <tr>\n",
       "      <th>21</th>\n",
       "      <td>40792</td>\n",
       "      <td>1992-05-06</td>\n",
       "      <td>SpecialNo8</td>\n",
       "      <td>4465</td>\n",
       "    </tr>\n",
       "    <tr>\n",
       "      <th>22</th>\n",
       "      <td>40792</td>\n",
       "      <td>1992-05-06</td>\n",
       "      <td>SpecialNo9</td>\n",
       "      <td>6114</td>\n",
       "    </tr>\n",
       "  </tbody>\n",
       "</table>\n",
       "</div>"
      ],
      "text/plain": [
       "    DrawNo   DrawDate        PrizeType  LuckyNo\n",
       "0    40792 1992-05-06       1stPrizeNo       19\n",
       "1    40792 1992-05-06       2ndPrizeNo     1124\n",
       "2    40792 1992-05-06       3rdPrizeNo      592\n",
       "3    40792 1992-05-06   ConsolationNo1     5311\n",
       "4    40792 1992-05-06  ConsolationNo10      407\n",
       "5    40792 1992-05-06   ConsolationNo2     1949\n",
       "6    40792 1992-05-06   ConsolationNo3     1606\n",
       "7    40792 1992-05-06   ConsolationNo4     3775\n",
       "8    40792 1992-05-06   ConsolationNo5     6226\n",
       "9    40792 1992-05-06   ConsolationNo6     1271\n",
       "10   40792 1992-05-06   ConsolationNo7     7455\n",
       "11   40792 1992-05-06   ConsolationNo8     7227\n",
       "12   40792 1992-05-06   ConsolationNo9     9258\n",
       "13   40792 1992-05-06       SpecialNo1      950\n",
       "14   40792 1992-05-06      SpecialNo10     5301\n",
       "15   40792 1992-05-06       SpecialNo2     2479\n",
       "16   40792 1992-05-06       SpecialNo3     7139\n",
       "17   40792 1992-05-06       SpecialNo4     3114\n",
       "18   40792 1992-05-06       SpecialNo5     4609\n",
       "19   40792 1992-05-06       SpecialNo6     7836\n",
       "20   40792 1992-05-06       SpecialNo7     8981\n",
       "21   40792 1992-05-06       SpecialNo8     4465\n",
       "22   40792 1992-05-06       SpecialNo9     6114"
      ]
     },
     "execution_count": 21,
     "metadata": {},
     "output_type": "execute_result"
    }
   ],
   "source": [
    "# Tail the data\n",
    "df_transposed.head(23)"
   ]
  },
  {
   "cell_type": "code",
   "execution_count": 22,
   "metadata": {
    "colab": {
     "base_uri": "https://localhost:8080/",
     "height": 549
    },
    "colab_type": "code",
    "id": "EISQP-uNcwar",
    "outputId": "bd4b5bb2-82ca-448a-c806-086845557298"
   },
   "outputs": [
    {
     "data": {
      "application/vnd.dataresource+json": {
       "data": [
        {
         "DrawDate": "1992-05-06T00:00:00.000Z",
         "DrawDay": 6,
         "DrawDayofweek": 2,
         "DrawDayofyear": 127,
         "DrawElapsed": 705110400,
         "DrawIs_month_end": false,
         "DrawIs_month_start": false,
         "DrawIs_quarter_end": false,
         "DrawIs_quarter_start": false,
         "DrawIs_year_end": false,
         "DrawIs_year_start": false,
         "DrawMonth": 5,
         "DrawNo": 40792,
         "DrawWeek": 19,
         "DrawYear": 1992,
         "LuckyNo": 19,
         "PrizeType": "1stPrizeNo",
         "index": 0
        },
        {
         "DrawDate": "1992-05-06T00:00:00.000Z",
         "DrawDay": 6,
         "DrawDayofweek": 2,
         "DrawDayofyear": 127,
         "DrawElapsed": 705110400,
         "DrawIs_month_end": false,
         "DrawIs_month_start": false,
         "DrawIs_quarter_end": false,
         "DrawIs_quarter_start": false,
         "DrawIs_year_end": false,
         "DrawIs_year_start": false,
         "DrawMonth": 5,
         "DrawNo": 40792,
         "DrawWeek": 19,
         "DrawYear": 1992,
         "LuckyNo": 1124,
         "PrizeType": "2ndPrizeNo",
         "index": 1
        },
        {
         "DrawDate": "1992-05-06T00:00:00.000Z",
         "DrawDay": 6,
         "DrawDayofweek": 2,
         "DrawDayofyear": 127,
         "DrawElapsed": 705110400,
         "DrawIs_month_end": false,
         "DrawIs_month_start": false,
         "DrawIs_quarter_end": false,
         "DrawIs_quarter_start": false,
         "DrawIs_year_end": false,
         "DrawIs_year_start": false,
         "DrawMonth": 5,
         "DrawNo": 40792,
         "DrawWeek": 19,
         "DrawYear": 1992,
         "LuckyNo": 592,
         "PrizeType": "3rdPrizeNo",
         "index": 2
        },
        {
         "DrawDate": "1992-05-06T00:00:00.000Z",
         "DrawDay": 6,
         "DrawDayofweek": 2,
         "DrawDayofyear": 127,
         "DrawElapsed": 705110400,
         "DrawIs_month_end": false,
         "DrawIs_month_start": false,
         "DrawIs_quarter_end": false,
         "DrawIs_quarter_start": false,
         "DrawIs_year_end": false,
         "DrawIs_year_start": false,
         "DrawMonth": 5,
         "DrawNo": 40792,
         "DrawWeek": 19,
         "DrawYear": 1992,
         "LuckyNo": 5311,
         "PrizeType": "ConsolationNo1",
         "index": 3
        },
        {
         "DrawDate": "1992-05-06T00:00:00.000Z",
         "DrawDay": 6,
         "DrawDayofweek": 2,
         "DrawDayofyear": 127,
         "DrawElapsed": 705110400,
         "DrawIs_month_end": false,
         "DrawIs_month_start": false,
         "DrawIs_quarter_end": false,
         "DrawIs_quarter_start": false,
         "DrawIs_year_end": false,
         "DrawIs_year_start": false,
         "DrawMonth": 5,
         "DrawNo": 40792,
         "DrawWeek": 19,
         "DrawYear": 1992,
         "LuckyNo": 407,
         "PrizeType": "ConsolationNo10",
         "index": 4
        },
        {
         "DrawDate": "1992-05-06T00:00:00.000Z",
         "DrawDay": 6,
         "DrawDayofweek": 2,
         "DrawDayofyear": 127,
         "DrawElapsed": 705110400,
         "DrawIs_month_end": false,
         "DrawIs_month_start": false,
         "DrawIs_quarter_end": false,
         "DrawIs_quarter_start": false,
         "DrawIs_year_end": false,
         "DrawIs_year_start": false,
         "DrawMonth": 5,
         "DrawNo": 40792,
         "DrawWeek": 19,
         "DrawYear": 1992,
         "LuckyNo": 1949,
         "PrizeType": "ConsolationNo2",
         "index": 5
        },
        {
         "DrawDate": "1992-05-06T00:00:00.000Z",
         "DrawDay": 6,
         "DrawDayofweek": 2,
         "DrawDayofyear": 127,
         "DrawElapsed": 705110400,
         "DrawIs_month_end": false,
         "DrawIs_month_start": false,
         "DrawIs_quarter_end": false,
         "DrawIs_quarter_start": false,
         "DrawIs_year_end": false,
         "DrawIs_year_start": false,
         "DrawMonth": 5,
         "DrawNo": 40792,
         "DrawWeek": 19,
         "DrawYear": 1992,
         "LuckyNo": 1606,
         "PrizeType": "ConsolationNo3",
         "index": 6
        },
        {
         "DrawDate": "1992-05-06T00:00:00.000Z",
         "DrawDay": 6,
         "DrawDayofweek": 2,
         "DrawDayofyear": 127,
         "DrawElapsed": 705110400,
         "DrawIs_month_end": false,
         "DrawIs_month_start": false,
         "DrawIs_quarter_end": false,
         "DrawIs_quarter_start": false,
         "DrawIs_year_end": false,
         "DrawIs_year_start": false,
         "DrawMonth": 5,
         "DrawNo": 40792,
         "DrawWeek": 19,
         "DrawYear": 1992,
         "LuckyNo": 3775,
         "PrizeType": "ConsolationNo4",
         "index": 7
        },
        {
         "DrawDate": "1992-05-06T00:00:00.000Z",
         "DrawDay": 6,
         "DrawDayofweek": 2,
         "DrawDayofyear": 127,
         "DrawElapsed": 705110400,
         "DrawIs_month_end": false,
         "DrawIs_month_start": false,
         "DrawIs_quarter_end": false,
         "DrawIs_quarter_start": false,
         "DrawIs_year_end": false,
         "DrawIs_year_start": false,
         "DrawMonth": 5,
         "DrawNo": 40792,
         "DrawWeek": 19,
         "DrawYear": 1992,
         "LuckyNo": 6226,
         "PrizeType": "ConsolationNo5",
         "index": 8
        },
        {
         "DrawDate": "1992-05-06T00:00:00.000Z",
         "DrawDay": 6,
         "DrawDayofweek": 2,
         "DrawDayofyear": 127,
         "DrawElapsed": 705110400,
         "DrawIs_month_end": false,
         "DrawIs_month_start": false,
         "DrawIs_quarter_end": false,
         "DrawIs_quarter_start": false,
         "DrawIs_year_end": false,
         "DrawIs_year_start": false,
         "DrawMonth": 5,
         "DrawNo": 40792,
         "DrawWeek": 19,
         "DrawYear": 1992,
         "LuckyNo": 1271,
         "PrizeType": "ConsolationNo6",
         "index": 9
        }
       ],
       "schema": {
        "fields": [
         {
          "name": "index",
          "type": "integer"
         },
         {
          "name": "DrawNo",
          "type": "integer"
         },
         {
          "name": "DrawDate",
          "type": "datetime"
         },
         {
          "name": "PrizeType",
          "type": "string"
         },
         {
          "name": "LuckyNo",
          "type": "integer"
         },
         {
          "name": "DrawYear",
          "type": "integer"
         },
         {
          "name": "DrawMonth",
          "type": "integer"
         },
         {
          "name": "DrawWeek",
          "type": "integer"
         },
         {
          "name": "DrawDay",
          "type": "integer"
         },
         {
          "name": "DrawDayofweek",
          "type": "integer"
         },
         {
          "name": "DrawDayofyear",
          "type": "integer"
         },
         {
          "name": "DrawIs_month_end",
          "type": "boolean"
         },
         {
          "name": "DrawIs_month_start",
          "type": "boolean"
         },
         {
          "name": "DrawIs_quarter_end",
          "type": "boolean"
         },
         {
          "name": "DrawIs_quarter_start",
          "type": "boolean"
         },
         {
          "name": "DrawIs_year_end",
          "type": "boolean"
         },
         {
          "name": "DrawIs_year_start",
          "type": "boolean"
         },
         {
          "name": "DrawElapsed",
          "type": "integer"
         }
        ],
        "pandas_version": "0.20.0",
        "primaryKey": [
         "index"
        ]
       }
      },
      "text/html": [
       "<div>\n",
       "<style scoped>\n",
       "    .dataframe tbody tr th:only-of-type {\n",
       "        vertical-align: middle;\n",
       "    }\n",
       "\n",
       "    .dataframe tbody tr th {\n",
       "        vertical-align: top;\n",
       "    }\n",
       "\n",
       "    .dataframe thead th {\n",
       "        text-align: right;\n",
       "    }\n",
       "</style>\n",
       "<table border=\"1\" class=\"dataframe\">\n",
       "  <thead>\n",
       "    <tr style=\"text-align: right;\">\n",
       "      <th></th>\n",
       "      <th>DrawNo</th>\n",
       "      <th>DrawDate</th>\n",
       "      <th>PrizeType</th>\n",
       "      <th>LuckyNo</th>\n",
       "      <th>DrawYear</th>\n",
       "      <th>DrawMonth</th>\n",
       "      <th>DrawWeek</th>\n",
       "      <th>DrawDay</th>\n",
       "      <th>DrawDayofweek</th>\n",
       "      <th>DrawDayofyear</th>\n",
       "      <th>DrawIs_month_end</th>\n",
       "      <th>DrawIs_month_start</th>\n",
       "      <th>DrawIs_quarter_end</th>\n",
       "      <th>DrawIs_quarter_start</th>\n",
       "      <th>DrawIs_year_end</th>\n",
       "      <th>DrawIs_year_start</th>\n",
       "      <th>DrawElapsed</th>\n",
       "    </tr>\n",
       "  </thead>\n",
       "  <tbody>\n",
       "    <tr>\n",
       "      <th>0</th>\n",
       "      <td>40792</td>\n",
       "      <td>1992-05-06</td>\n",
       "      <td>1stPrizeNo</td>\n",
       "      <td>19</td>\n",
       "      <td>1992</td>\n",
       "      <td>5</td>\n",
       "      <td>19</td>\n",
       "      <td>6</td>\n",
       "      <td>2</td>\n",
       "      <td>127</td>\n",
       "      <td>False</td>\n",
       "      <td>False</td>\n",
       "      <td>False</td>\n",
       "      <td>False</td>\n",
       "      <td>False</td>\n",
       "      <td>False</td>\n",
       "      <td>705110400</td>\n",
       "    </tr>\n",
       "    <tr>\n",
       "      <th>1</th>\n",
       "      <td>40792</td>\n",
       "      <td>1992-05-06</td>\n",
       "      <td>2ndPrizeNo</td>\n",
       "      <td>1124</td>\n",
       "      <td>1992</td>\n",
       "      <td>5</td>\n",
       "      <td>19</td>\n",
       "      <td>6</td>\n",
       "      <td>2</td>\n",
       "      <td>127</td>\n",
       "      <td>False</td>\n",
       "      <td>False</td>\n",
       "      <td>False</td>\n",
       "      <td>False</td>\n",
       "      <td>False</td>\n",
       "      <td>False</td>\n",
       "      <td>705110400</td>\n",
       "    </tr>\n",
       "    <tr>\n",
       "      <th>2</th>\n",
       "      <td>40792</td>\n",
       "      <td>1992-05-06</td>\n",
       "      <td>3rdPrizeNo</td>\n",
       "      <td>592</td>\n",
       "      <td>1992</td>\n",
       "      <td>5</td>\n",
       "      <td>19</td>\n",
       "      <td>6</td>\n",
       "      <td>2</td>\n",
       "      <td>127</td>\n",
       "      <td>False</td>\n",
       "      <td>False</td>\n",
       "      <td>False</td>\n",
       "      <td>False</td>\n",
       "      <td>False</td>\n",
       "      <td>False</td>\n",
       "      <td>705110400</td>\n",
       "    </tr>\n",
       "    <tr>\n",
       "      <th>3</th>\n",
       "      <td>40792</td>\n",
       "      <td>1992-05-06</td>\n",
       "      <td>ConsolationNo1</td>\n",
       "      <td>5311</td>\n",
       "      <td>1992</td>\n",
       "      <td>5</td>\n",
       "      <td>19</td>\n",
       "      <td>6</td>\n",
       "      <td>2</td>\n",
       "      <td>127</td>\n",
       "      <td>False</td>\n",
       "      <td>False</td>\n",
       "      <td>False</td>\n",
       "      <td>False</td>\n",
       "      <td>False</td>\n",
       "      <td>False</td>\n",
       "      <td>705110400</td>\n",
       "    </tr>\n",
       "    <tr>\n",
       "      <th>4</th>\n",
       "      <td>40792</td>\n",
       "      <td>1992-05-06</td>\n",
       "      <td>ConsolationNo10</td>\n",
       "      <td>407</td>\n",
       "      <td>1992</td>\n",
       "      <td>5</td>\n",
       "      <td>19</td>\n",
       "      <td>6</td>\n",
       "      <td>2</td>\n",
       "      <td>127</td>\n",
       "      <td>False</td>\n",
       "      <td>False</td>\n",
       "      <td>False</td>\n",
       "      <td>False</td>\n",
       "      <td>False</td>\n",
       "      <td>False</td>\n",
       "      <td>705110400</td>\n",
       "    </tr>\n",
       "    <tr>\n",
       "      <th>5</th>\n",
       "      <td>40792</td>\n",
       "      <td>1992-05-06</td>\n",
       "      <td>ConsolationNo2</td>\n",
       "      <td>1949</td>\n",
       "      <td>1992</td>\n",
       "      <td>5</td>\n",
       "      <td>19</td>\n",
       "      <td>6</td>\n",
       "      <td>2</td>\n",
       "      <td>127</td>\n",
       "      <td>False</td>\n",
       "      <td>False</td>\n",
       "      <td>False</td>\n",
       "      <td>False</td>\n",
       "      <td>False</td>\n",
       "      <td>False</td>\n",
       "      <td>705110400</td>\n",
       "    </tr>\n",
       "    <tr>\n",
       "      <th>6</th>\n",
       "      <td>40792</td>\n",
       "      <td>1992-05-06</td>\n",
       "      <td>ConsolationNo3</td>\n",
       "      <td>1606</td>\n",
       "      <td>1992</td>\n",
       "      <td>5</td>\n",
       "      <td>19</td>\n",
       "      <td>6</td>\n",
       "      <td>2</td>\n",
       "      <td>127</td>\n",
       "      <td>False</td>\n",
       "      <td>False</td>\n",
       "      <td>False</td>\n",
       "      <td>False</td>\n",
       "      <td>False</td>\n",
       "      <td>False</td>\n",
       "      <td>705110400</td>\n",
       "    </tr>\n",
       "    <tr>\n",
       "      <th>7</th>\n",
       "      <td>40792</td>\n",
       "      <td>1992-05-06</td>\n",
       "      <td>ConsolationNo4</td>\n",
       "      <td>3775</td>\n",
       "      <td>1992</td>\n",
       "      <td>5</td>\n",
       "      <td>19</td>\n",
       "      <td>6</td>\n",
       "      <td>2</td>\n",
       "      <td>127</td>\n",
       "      <td>False</td>\n",
       "      <td>False</td>\n",
       "      <td>False</td>\n",
       "      <td>False</td>\n",
       "      <td>False</td>\n",
       "      <td>False</td>\n",
       "      <td>705110400</td>\n",
       "    </tr>\n",
       "    <tr>\n",
       "      <th>8</th>\n",
       "      <td>40792</td>\n",
       "      <td>1992-05-06</td>\n",
       "      <td>ConsolationNo5</td>\n",
       "      <td>6226</td>\n",
       "      <td>1992</td>\n",
       "      <td>5</td>\n",
       "      <td>19</td>\n",
       "      <td>6</td>\n",
       "      <td>2</td>\n",
       "      <td>127</td>\n",
       "      <td>False</td>\n",
       "      <td>False</td>\n",
       "      <td>False</td>\n",
       "      <td>False</td>\n",
       "      <td>False</td>\n",
       "      <td>False</td>\n",
       "      <td>705110400</td>\n",
       "    </tr>\n",
       "    <tr>\n",
       "      <th>9</th>\n",
       "      <td>40792</td>\n",
       "      <td>1992-05-06</td>\n",
       "      <td>ConsolationNo6</td>\n",
       "      <td>1271</td>\n",
       "      <td>1992</td>\n",
       "      <td>5</td>\n",
       "      <td>19</td>\n",
       "      <td>6</td>\n",
       "      <td>2</td>\n",
       "      <td>127</td>\n",
       "      <td>False</td>\n",
       "      <td>False</td>\n",
       "      <td>False</td>\n",
       "      <td>False</td>\n",
       "      <td>False</td>\n",
       "      <td>False</td>\n",
       "      <td>705110400</td>\n",
       "    </tr>\n",
       "  </tbody>\n",
       "</table>\n",
       "</div>"
      ],
      "text/plain": [
       "   DrawNo   DrawDate        PrizeType  LuckyNo  DrawYear  DrawMonth  DrawWeek  \\\n",
       "0   40792 1992-05-06       1stPrizeNo       19      1992          5        19   \n",
       "1   40792 1992-05-06       2ndPrizeNo     1124      1992          5        19   \n",
       "2   40792 1992-05-06       3rdPrizeNo      592      1992          5        19   \n",
       "3   40792 1992-05-06   ConsolationNo1     5311      1992          5        19   \n",
       "4   40792 1992-05-06  ConsolationNo10      407      1992          5        19   \n",
       "5   40792 1992-05-06   ConsolationNo2     1949      1992          5        19   \n",
       "6   40792 1992-05-06   ConsolationNo3     1606      1992          5        19   \n",
       "7   40792 1992-05-06   ConsolationNo4     3775      1992          5        19   \n",
       "8   40792 1992-05-06   ConsolationNo5     6226      1992          5        19   \n",
       "9   40792 1992-05-06   ConsolationNo6     1271      1992          5        19   \n",
       "\n",
       "   DrawDay  DrawDayofweek  DrawDayofyear  DrawIs_month_end  \\\n",
       "0        6              2            127             False   \n",
       "1        6              2            127             False   \n",
       "2        6              2            127             False   \n",
       "3        6              2            127             False   \n",
       "4        6              2            127             False   \n",
       "5        6              2            127             False   \n",
       "6        6              2            127             False   \n",
       "7        6              2            127             False   \n",
       "8        6              2            127             False   \n",
       "9        6              2            127             False   \n",
       "\n",
       "   DrawIs_month_start  DrawIs_quarter_end  DrawIs_quarter_start  \\\n",
       "0               False               False                 False   \n",
       "1               False               False                 False   \n",
       "2               False               False                 False   \n",
       "3               False               False                 False   \n",
       "4               False               False                 False   \n",
       "5               False               False                 False   \n",
       "6               False               False                 False   \n",
       "7               False               False                 False   \n",
       "8               False               False                 False   \n",
       "9               False               False                 False   \n",
       "\n",
       "   DrawIs_year_end  DrawIs_year_start  DrawElapsed  \n",
       "0            False              False    705110400  \n",
       "1            False              False    705110400  \n",
       "2            False              False    705110400  \n",
       "3            False              False    705110400  \n",
       "4            False              False    705110400  \n",
       "5            False              False    705110400  \n",
       "6            False              False    705110400  \n",
       "7            False              False    705110400  \n",
       "8            False              False    705110400  \n",
       "9            False              False    705110400  "
      ]
     },
     "execution_count": 22,
     "metadata": {},
     "output_type": "execute_result"
    }
   ],
   "source": [
    "# Split the date into year, month, day, day of week\n",
    "# df_transformed[\"DrawYear\"] = pd.DatetimeIndex(df_transformed[\"DrawDate\"]).year\n",
    "# df_transformed[\"DrawMonth\"] = pd.DatetimeIndex(df_transformed[\"DrawDate\"]).month\n",
    "# df_transformed[\"DrawDay\"] = pd.DatetimeIndex(df_transformed[\"DrawDate\"]).day\n",
    "# df_transformed[\"DrawDayOfYear\"] = pd.DatetimeIndex(df_transformed[\"DrawDate\"]).dayofyear\n",
    "# df_transformed[\"DrawDayOfWeek\"] = pd.DatetimeIndex(df_transformed[\"DrawDate\"]).dayofweek\n",
    "# df_transformed[\"DrawWeekDay\"] = pd.DatetimeIndex(df_transformed[\"DrawDate\"]).weekday\n",
    "# df_transformed[\"DrawWeekOfYear\"] = pd.DatetimeIndex(df_transformed[\"DrawDate\"]).weekofyear\n",
    "# df_transformed[\"DrawQuarter\"] = pd.DatetimeIndex(df_transformed[\"DrawDate\"]).quarter\n",
    "df_processed = df_transposed.copy()\n",
    "add_datepart(df_processed, 'DrawDate', drop=False)\n",
    "df_processed.head(10)"
   ]
  },
  {
   "cell_type": "markdown",
   "metadata": {
    "colab_type": "text",
    "id": "14T0QDkkJRhc"
   },
   "source": [
    "### Field Variables"
   ]
  },
  {
   "cell_type": "code",
   "execution_count": 23,
   "metadata": {
    "colab": {},
    "colab_type": "code",
    "id": "WbUfHTt9JRhd"
   },
   "outputs": [],
   "source": [
    "# Outcome to predict\n",
    "dep_var = \"LuckyNo\""
   ]
  },
  {
   "cell_type": "markdown",
   "metadata": {
    "colab_type": "text",
    "id": "tIfpzBPOcwaz"
   },
   "source": [
    "### Train and Validation Split"
   ]
  },
  {
   "cell_type": "code",
   "execution_count": 24,
   "metadata": {
    "colab": {
     "base_uri": "https://localhost:8080/",
     "height": 34
    },
    "colab_type": "code",
    "id": "migCiR94cwa1",
    "outputId": "6b5a1281-7a03-48e8-de5a-661520b7da72"
   },
   "outputs": [
    {
     "data": {
      "text/plain": [
       "104397"
      ]
     },
     "execution_count": 24,
     "metadata": {},
     "output_type": "execute_result"
    }
   ],
   "source": [
    "n = len(df_processed); n"
   ]
  },
  {
   "cell_type": "code",
   "execution_count": 25,
   "metadata": {
    "colab": {
     "base_uri": "https://localhost:8080/",
     "height": 51
    },
    "colab_type": "code",
    "id": "BvVWP2DtrN9Z",
    "outputId": "a068576f-8453-4830-f43e-3d4c9dca7407"
   },
   "outputs": [
    {
     "name": "stdout",
     "output_type": "stream",
     "text": [
      "104397\n",
      "104397\n"
     ]
    }
   ],
   "source": [
    "from sklearn.model_selection import train_test_split\n",
    "\n",
    "X = df_processed.copy()\n",
    "y = X[dep_var]; \n",
    "print(len(X))\n",
    "print(len(y))"
   ]
  },
  {
   "cell_type": "code",
   "execution_count": 26,
   "metadata": {
    "colab": {
     "base_uri": "https://localhost:8080/",
     "height": 117
    },
    "colab_type": "code",
    "id": "57qAI7kvJRhp",
    "outputId": "424e7cb5-69c1-4bb9-9bf3-d75df5b2c26f"
   },
   "outputs": [
    {
     "data": {
      "application/vnd.dataresource+json": {
       "data": [
        {
         "DrawDate": "1992-05-06T00:00:00.000Z",
         "DrawDay": 6,
         "DrawDayofweek": 2,
         "DrawDayofyear": 127,
         "DrawElapsed": 705110400,
         "DrawIs_month_end": false,
         "DrawIs_month_start": false,
         "DrawIs_quarter_end": false,
         "DrawIs_quarter_start": false,
         "DrawIs_year_end": false,
         "DrawIs_year_start": false,
         "DrawMonth": 5,
         "DrawNo": 40792,
         "DrawWeek": 19,
         "DrawYear": 1992,
         "PrizeType": "1stPrizeNo",
         "index": 0
        }
       ],
       "schema": {
        "fields": [
         {
          "name": "index",
          "type": "integer"
         },
         {
          "name": "DrawNo",
          "type": "integer"
         },
         {
          "name": "DrawDate",
          "type": "datetime"
         },
         {
          "name": "PrizeType",
          "type": "string"
         },
         {
          "name": "DrawYear",
          "type": "integer"
         },
         {
          "name": "DrawMonth",
          "type": "integer"
         },
         {
          "name": "DrawWeek",
          "type": "integer"
         },
         {
          "name": "DrawDay",
          "type": "integer"
         },
         {
          "name": "DrawDayofweek",
          "type": "integer"
         },
         {
          "name": "DrawDayofyear",
          "type": "integer"
         },
         {
          "name": "DrawIs_month_end",
          "type": "boolean"
         },
         {
          "name": "DrawIs_month_start",
          "type": "boolean"
         },
         {
          "name": "DrawIs_quarter_end",
          "type": "boolean"
         },
         {
          "name": "DrawIs_quarter_start",
          "type": "boolean"
         },
         {
          "name": "DrawIs_year_end",
          "type": "boolean"
         },
         {
          "name": "DrawIs_year_start",
          "type": "boolean"
         },
         {
          "name": "DrawElapsed",
          "type": "integer"
         }
        ],
        "pandas_version": "0.20.0",
        "primaryKey": [
         "index"
        ]
       }
      },
      "text/html": [
       "<div>\n",
       "<style scoped>\n",
       "    .dataframe tbody tr th:only-of-type {\n",
       "        vertical-align: middle;\n",
       "    }\n",
       "\n",
       "    .dataframe tbody tr th {\n",
       "        vertical-align: top;\n",
       "    }\n",
       "\n",
       "    .dataframe thead th {\n",
       "        text-align: right;\n",
       "    }\n",
       "</style>\n",
       "<table border=\"1\" class=\"dataframe\">\n",
       "  <thead>\n",
       "    <tr style=\"text-align: right;\">\n",
       "      <th></th>\n",
       "      <th>DrawNo</th>\n",
       "      <th>DrawDate</th>\n",
       "      <th>PrizeType</th>\n",
       "      <th>DrawYear</th>\n",
       "      <th>DrawMonth</th>\n",
       "      <th>DrawWeek</th>\n",
       "      <th>DrawDay</th>\n",
       "      <th>DrawDayofweek</th>\n",
       "      <th>DrawDayofyear</th>\n",
       "      <th>DrawIs_month_end</th>\n",
       "      <th>DrawIs_month_start</th>\n",
       "      <th>DrawIs_quarter_end</th>\n",
       "      <th>DrawIs_quarter_start</th>\n",
       "      <th>DrawIs_year_end</th>\n",
       "      <th>DrawIs_year_start</th>\n",
       "      <th>DrawElapsed</th>\n",
       "    </tr>\n",
       "  </thead>\n",
       "  <tbody>\n",
       "    <tr>\n",
       "      <th>0</th>\n",
       "      <td>40792</td>\n",
       "      <td>1992-05-06</td>\n",
       "      <td>1stPrizeNo</td>\n",
       "      <td>1992</td>\n",
       "      <td>5</td>\n",
       "      <td>19</td>\n",
       "      <td>6</td>\n",
       "      <td>2</td>\n",
       "      <td>127</td>\n",
       "      <td>False</td>\n",
       "      <td>False</td>\n",
       "      <td>False</td>\n",
       "      <td>False</td>\n",
       "      <td>False</td>\n",
       "      <td>False</td>\n",
       "      <td>705110400</td>\n",
       "    </tr>\n",
       "  </tbody>\n",
       "</table>\n",
       "</div>"
      ],
      "text/plain": [
       "   DrawNo   DrawDate   PrizeType  DrawYear  DrawMonth  DrawWeek  DrawDay  \\\n",
       "0   40792 1992-05-06  1stPrizeNo      1992          5        19        6   \n",
       "\n",
       "   DrawDayofweek  DrawDayofyear  DrawIs_month_end  DrawIs_month_start  \\\n",
       "0              2            127             False               False   \n",
       "\n",
       "   DrawIs_quarter_end  DrawIs_quarter_start  DrawIs_year_end  \\\n",
       "0               False                 False            False   \n",
       "\n",
       "   DrawIs_year_start  DrawElapsed  \n",
       "0              False    705110400  "
      ]
     },
     "execution_count": 26,
     "metadata": {},
     "output_type": "execute_result"
    }
   ],
   "source": [
    "X.drop([dep_var], inplace=True, axis=1)\n",
    "X.head(1)"
   ]
  },
  {
   "cell_type": "code",
   "execution_count": 27,
   "metadata": {
    "colab": {},
    "colab_type": "code",
    "id": "GZI30urJJRhr"
   },
   "outputs": [],
   "source": [
    "X_train, X_test, y_train, y_test = train_test_split(X, y, test_size=0.3, random_state=42)"
   ]
  },
  {
   "cell_type": "code",
   "execution_count": 28,
   "metadata": {
    "colab": {
     "base_uri": "https://localhost:8080/",
     "height": 85
    },
    "colab_type": "code",
    "id": "H6HgX1BRJRht",
    "outputId": "eddefe12-bd74-4ff9-eac8-862166a1ad14"
   },
   "outputs": [
    {
     "name": "stdout",
     "output_type": "stream",
     "text": [
      "73077\n",
      "31320\n",
      "73077\n",
      "31320\n"
     ]
    }
   ],
   "source": [
    "print(len(X_train)); print(len(X_test)); print(len(y_train)); print(len(y_test))"
   ]
  },
  {
   "cell_type": "markdown",
   "metadata": {
    "colab_type": "text",
    "id": "Zj1_wEzXJRhw"
   },
   "source": [
    "### Assignment"
   ]
  },
  {
   "cell_type": "code",
   "execution_count": 29,
   "metadata": {
    "colab": {},
    "colab_type": "code",
    "id": "OzquwRh6rNr5"
   },
   "outputs": [],
   "source": [
    "train_df = df_processed"
   ]
  },
  {
   "cell_type": "markdown",
   "metadata": {
    "colab_type": "text",
    "id": "o8-_uHW0waOU"
   },
   "source": [
    "## Experiment with a sample"
   ]
  },
  {
   "cell_type": "code",
   "execution_count": null,
   "metadata": {
    "colab": {
     "base_uri": "https://localhost:8080/",
     "height": 391
    },
    "colab_type": "code",
    "id": "9dm_l8Xqs6yq",
    "outputId": "d7a63f23-9597-419e-964a-38d91c2dd4f9"
   },
   "outputs": [
    {
     "name": "stdout",
     "output_type": "stream",
     "text": [
      "<class 'pandas.core.frame.DataFrame'>\n",
      "RangeIndex: 104397 entries, 0 to 104396\n",
      "Data columns (total 17 columns):\n",
      "DrawNo                  104397 non-null int64\n",
      "DrawDate                104397 non-null datetime64[ns]\n",
      "PrizeType               104397 non-null object\n",
      "LuckyNo                 104397 non-null int64\n",
      "DrawYear                104397 non-null int64\n",
      "DrawMonth               104397 non-null int64\n",
      "DrawWeek                104397 non-null int64\n",
      "DrawDay                 104397 non-null int64\n",
      "DrawDayofweek           104397 non-null int64\n",
      "DrawDayofyear           104397 non-null int64\n",
      "DrawIs_month_end        104397 non-null bool\n",
      "DrawIs_month_start      104397 non-null bool\n",
      "DrawIs_quarter_end      104397 non-null bool\n",
      "DrawIs_quarter_start    104397 non-null bool\n",
      "DrawIs_year_end         104397 non-null bool\n",
      "DrawIs_year_start       104397 non-null bool\n",
      "DrawElapsed             104397 non-null int64\n",
      "dtypes: bool(6), datetime64[ns](1), int64(9), object(1)\n",
      "memory usage: 9.4+ MB\n"
     ]
    }
   ],
   "source": [
    "train_df.info()"
   ]
  },
  {
   "cell_type": "code",
   "execution_count": null,
   "metadata": {
    "colab": {
     "base_uri": "https://localhost:8080/",
     "height": 68
    },
    "colab_type": "code",
    "id": "nP6L7tltrM7U",
    "outputId": "c02be416-e27d-4a26-a635-eb7393dff997"
   },
   "outputs": [
    {
     "name": "stdout",
     "output_type": "stream",
     "text": [
      "104397\n",
      "6000\n",
      "[    35     87     97    114 ... 104302 104306 104360 104366]\n"
     ]
    }
   ],
   "source": [
    "idx = np.random.permutation(range(n))[:6000]\n",
    "print(n)\n",
    "print(len(idx))\n",
    "\n",
    "idx.sort()\n",
    "print(idx)\n",
    "\n",
    "small_train_df = train_df.iloc[idx[:3000]]\n",
    "small_test_df = train_df.iloc[idx[3000:]]"
   ]
  },
  {
   "cell_type": "code",
   "execution_count": null,
   "metadata": {
    "colab": {},
    "colab_type": "code",
    "id": "rfmvFeagrVBe"
   },
   "outputs": [],
   "source": [
    "# Set continuous and categorical columns\n",
    "small_cont_vars = [\"DrawNo\", \"DrawElapsed\"]\n",
    "small_cat_vars = [\"PrizeType\", \"DrawYear\", \"DrawMonth\", \"DrawWeek\", \"DrawDay\", \"DrawDayofweek\", \n",
    "                  \"DrawDayofyear\",\"DrawIs_month_end\",\"DrawIs_month_start\", \"DrawIs_quarter_end\", \"DrawIs_quarter_start\", \"DrawIs_year_end\", \"DrawIs_year_start\"]"
   ]
  },
  {
   "cell_type": "code",
   "execution_count": null,
   "metadata": {
    "colab": {},
    "colab_type": "code",
    "id": "Ff3NsGryuU2m"
   },
   "outputs": [],
   "source": [
    "small_train_df = small_train_df[small_cat_vars + small_cont_vars + [dep_var]]\n",
    "small_test_df = small_test_df[small_cat_vars + small_cont_vars + [dep_var]]"
   ]
  },
  {
   "cell_type": "code",
   "execution_count": null,
   "metadata": {
    "colab": {
     "base_uri": "https://localhost:8080/",
     "height": 224
    },
    "colab_type": "code",
    "id": "vraIDuPCur6N",
    "outputId": "7051d826-3a77-4f98-b0dc-6ca82caa9c03"
   },
   "outputs": [
    {
     "data": {
      "application/vnd.dataresource+json": {
       "data": [
        {
         "DrawDay": 7,
         "DrawDayofweek": 3,
         "DrawDayofyear": 128,
         "DrawElapsed": 705196800,
         "DrawIs_month_end": false,
         "DrawIs_month_start": false,
         "DrawIs_quarter_end": false,
         "DrawIs_quarter_start": false,
         "DrawIs_year_end": false,
         "DrawIs_year_start": false,
         "DrawMonth": 5,
         "DrawNo": 40892,
         "DrawWeek": 19,
         "DrawYear": 1992,
         "LuckyNo": 4640,
         "PrizeType": "ConsolationNo9",
         "index": 35
        },
        {
         "DrawDay": 13,
         "DrawDayofweek": 2,
         "DrawDayofyear": 134,
         "DrawElapsed": 705715200,
         "DrawIs_month_end": false,
         "DrawIs_month_start": false,
         "DrawIs_quarter_end": false,
         "DrawIs_quarter_start": false,
         "DrawIs_year_end": false,
         "DrawIs_year_start": false,
         "DrawMonth": 5,
         "DrawNo": 41092,
         "DrawWeek": 20,
         "DrawYear": 1992,
         "LuckyNo": 6792,
         "PrizeType": "SpecialNo5",
         "index": 87
        },
        {
         "DrawDay": 14,
         "DrawDayofweek": 3,
         "DrawDayofyear": 135,
         "DrawElapsed": 705801600,
         "DrawIs_month_end": false,
         "DrawIs_month_start": false,
         "DrawIs_quarter_end": false,
         "DrawIs_quarter_start": false,
         "DrawIs_year_end": false,
         "DrawIs_year_start": false,
         "DrawMonth": 5,
         "DrawNo": 41192,
         "DrawWeek": 20,
         "DrawYear": 1992,
         "LuckyNo": 6817,
         "PrizeType": "ConsolationNo2",
         "index": 97
        },
        {
         "DrawDay": 14,
         "DrawDayofweek": 3,
         "DrawDayofyear": 135,
         "DrawElapsed": 705801600,
         "DrawIs_month_end": false,
         "DrawIs_month_start": false,
         "DrawIs_quarter_end": false,
         "DrawIs_quarter_start": false,
         "DrawIs_year_end": false,
         "DrawIs_year_start": false,
         "DrawMonth": 5,
         "DrawNo": 41192,
         "DrawWeek": 20,
         "DrawYear": 1992,
         "LuckyNo": 5664,
         "PrizeType": "SpecialNo9",
         "index": 114
        },
        {
         "DrawDay": 17,
         "DrawDayofweek": 6,
         "DrawDayofyear": 138,
         "DrawElapsed": 706060800,
         "DrawIs_month_end": false,
         "DrawIs_month_start": false,
         "DrawIs_quarter_end": false,
         "DrawIs_quarter_start": false,
         "DrawIs_year_end": false,
         "DrawIs_year_start": false,
         "DrawMonth": 5,
         "DrawNo": 41292,
         "DrawWeek": 20,
         "DrawYear": 1992,
         "LuckyNo": 3573,
         "PrizeType": "ConsolationNo9",
         "index": 127
        }
       ],
       "schema": {
        "fields": [
         {
          "name": "index",
          "type": "integer"
         },
         {
          "name": "PrizeType",
          "type": "string"
         },
         {
          "name": "DrawYear",
          "type": "integer"
         },
         {
          "name": "DrawMonth",
          "type": "integer"
         },
         {
          "name": "DrawWeek",
          "type": "integer"
         },
         {
          "name": "DrawDay",
          "type": "integer"
         },
         {
          "name": "DrawDayofweek",
          "type": "integer"
         },
         {
          "name": "DrawDayofyear",
          "type": "integer"
         },
         {
          "name": "DrawIs_month_end",
          "type": "boolean"
         },
         {
          "name": "DrawIs_month_start",
          "type": "boolean"
         },
         {
          "name": "DrawIs_quarter_end",
          "type": "boolean"
         },
         {
          "name": "DrawIs_quarter_start",
          "type": "boolean"
         },
         {
          "name": "DrawIs_year_end",
          "type": "boolean"
         },
         {
          "name": "DrawIs_year_start",
          "type": "boolean"
         },
         {
          "name": "DrawNo",
          "type": "integer"
         },
         {
          "name": "DrawElapsed",
          "type": "integer"
         },
         {
          "name": "LuckyNo",
          "type": "integer"
         }
        ],
        "pandas_version": "0.20.0",
        "primaryKey": [
         "index"
        ]
       }
      },
      "text/html": [
       "<div>\n",
       "<style scoped>\n",
       "    .dataframe tbody tr th:only-of-type {\n",
       "        vertical-align: middle;\n",
       "    }\n",
       "\n",
       "    .dataframe tbody tr th {\n",
       "        vertical-align: top;\n",
       "    }\n",
       "\n",
       "    .dataframe thead th {\n",
       "        text-align: right;\n",
       "    }\n",
       "</style>\n",
       "<table border=\"1\" class=\"dataframe\">\n",
       "  <thead>\n",
       "    <tr style=\"text-align: right;\">\n",
       "      <th></th>\n",
       "      <th>PrizeType</th>\n",
       "      <th>DrawYear</th>\n",
       "      <th>DrawMonth</th>\n",
       "      <th>DrawWeek</th>\n",
       "      <th>DrawDay</th>\n",
       "      <th>DrawDayofweek</th>\n",
       "      <th>DrawDayofyear</th>\n",
       "      <th>DrawIs_month_end</th>\n",
       "      <th>DrawIs_month_start</th>\n",
       "      <th>DrawIs_quarter_end</th>\n",
       "      <th>DrawIs_quarter_start</th>\n",
       "      <th>DrawIs_year_end</th>\n",
       "      <th>DrawIs_year_start</th>\n",
       "      <th>DrawNo</th>\n",
       "      <th>DrawElapsed</th>\n",
       "      <th>LuckyNo</th>\n",
       "    </tr>\n",
       "  </thead>\n",
       "  <tbody>\n",
       "    <tr>\n",
       "      <th>35</th>\n",
       "      <td>ConsolationNo9</td>\n",
       "      <td>1992</td>\n",
       "      <td>5</td>\n",
       "      <td>19</td>\n",
       "      <td>7</td>\n",
       "      <td>3</td>\n",
       "      <td>128</td>\n",
       "      <td>False</td>\n",
       "      <td>False</td>\n",
       "      <td>False</td>\n",
       "      <td>False</td>\n",
       "      <td>False</td>\n",
       "      <td>False</td>\n",
       "      <td>40892</td>\n",
       "      <td>705196800</td>\n",
       "      <td>4640</td>\n",
       "    </tr>\n",
       "    <tr>\n",
       "      <th>87</th>\n",
       "      <td>SpecialNo5</td>\n",
       "      <td>1992</td>\n",
       "      <td>5</td>\n",
       "      <td>20</td>\n",
       "      <td>13</td>\n",
       "      <td>2</td>\n",
       "      <td>134</td>\n",
       "      <td>False</td>\n",
       "      <td>False</td>\n",
       "      <td>False</td>\n",
       "      <td>False</td>\n",
       "      <td>False</td>\n",
       "      <td>False</td>\n",
       "      <td>41092</td>\n",
       "      <td>705715200</td>\n",
       "      <td>6792</td>\n",
       "    </tr>\n",
       "    <tr>\n",
       "      <th>97</th>\n",
       "      <td>ConsolationNo2</td>\n",
       "      <td>1992</td>\n",
       "      <td>5</td>\n",
       "      <td>20</td>\n",
       "      <td>14</td>\n",
       "      <td>3</td>\n",
       "      <td>135</td>\n",
       "      <td>False</td>\n",
       "      <td>False</td>\n",
       "      <td>False</td>\n",
       "      <td>False</td>\n",
       "      <td>False</td>\n",
       "      <td>False</td>\n",
       "      <td>41192</td>\n",
       "      <td>705801600</td>\n",
       "      <td>6817</td>\n",
       "    </tr>\n",
       "    <tr>\n",
       "      <th>114</th>\n",
       "      <td>SpecialNo9</td>\n",
       "      <td>1992</td>\n",
       "      <td>5</td>\n",
       "      <td>20</td>\n",
       "      <td>14</td>\n",
       "      <td>3</td>\n",
       "      <td>135</td>\n",
       "      <td>False</td>\n",
       "      <td>False</td>\n",
       "      <td>False</td>\n",
       "      <td>False</td>\n",
       "      <td>False</td>\n",
       "      <td>False</td>\n",
       "      <td>41192</td>\n",
       "      <td>705801600</td>\n",
       "      <td>5664</td>\n",
       "    </tr>\n",
       "    <tr>\n",
       "      <th>127</th>\n",
       "      <td>ConsolationNo9</td>\n",
       "      <td>1992</td>\n",
       "      <td>5</td>\n",
       "      <td>20</td>\n",
       "      <td>17</td>\n",
       "      <td>6</td>\n",
       "      <td>138</td>\n",
       "      <td>False</td>\n",
       "      <td>False</td>\n",
       "      <td>False</td>\n",
       "      <td>False</td>\n",
       "      <td>False</td>\n",
       "      <td>False</td>\n",
       "      <td>41292</td>\n",
       "      <td>706060800</td>\n",
       "      <td>3573</td>\n",
       "    </tr>\n",
       "  </tbody>\n",
       "</table>\n",
       "</div>"
      ],
      "text/plain": [
       "          PrizeType  DrawYear  DrawMonth  DrawWeek  DrawDay  DrawDayofweek  \\\n",
       "35   ConsolationNo9      1992          5        19        7              3   \n",
       "87       SpecialNo5      1992          5        20       13              2   \n",
       "97   ConsolationNo2      1992          5        20       14              3   \n",
       "114      SpecialNo9      1992          5        20       14              3   \n",
       "127  ConsolationNo9      1992          5        20       17              6   \n",
       "\n",
       "     DrawDayofyear  DrawIs_month_end  DrawIs_month_start  DrawIs_quarter_end  \\\n",
       "35             128             False               False               False   \n",
       "87             134             False               False               False   \n",
       "97             135             False               False               False   \n",
       "114            135             False               False               False   \n",
       "127            138             False               False               False   \n",
       "\n",
       "     DrawIs_quarter_start  DrawIs_year_end  DrawIs_year_start  DrawNo  \\\n",
       "35                  False            False              False   40892   \n",
       "87                  False            False              False   41092   \n",
       "97                  False            False              False   41192   \n",
       "114                 False            False              False   41192   \n",
       "127                 False            False              False   41292   \n",
       "\n",
       "     DrawElapsed  LuckyNo  \n",
       "35     705196800     4640  \n",
       "87     705715200     6792  \n",
       "97     705801600     6817  \n",
       "114    705801600     5664  \n",
       "127    706060800     3573  "
      ]
     },
     "execution_count": 30,
     "metadata": {
      "tags": []
     },
     "output_type": "execute_result"
    }
   ],
   "source": [
    "small_train_df.head(5)"
   ]
  },
  {
   "cell_type": "code",
   "execution_count": null,
   "metadata": {
    "colab": {
     "base_uri": "https://localhost:8080/",
     "height": 224
    },
    "colab_type": "code",
    "id": "clcMP_asuvuB",
    "outputId": "0fdbcda1-957d-44ac-f924-0036502bacc5"
   },
   "outputs": [
    {
     "data": {
      "application/vnd.dataresource+json": {
       "data": [
        {
         "DrawDay": 9,
         "DrawDayofweek": 6,
         "DrawDayofyear": 190,
         "DrawElapsed": 1152403200,
         "DrawIs_month_end": false,
         "DrawIs_month_start": false,
         "DrawIs_quarter_end": false,
         "DrawIs_quarter_start": false,
         "DrawIs_year_end": false,
         "DrawIs_year_start": false,
         "DrawMonth": 7,
         "DrawNo": 270006,
         "DrawWeek": 27,
         "DrawYear": 2006,
         "LuckyNo": 8912,
         "PrizeType": "ConsolationNo9",
         "index": 52728
        },
        {
         "DrawDay": 9,
         "DrawDayofweek": 6,
         "DrawDayofyear": 190,
         "DrawElapsed": 1152403200,
         "DrawIs_month_end": false,
         "DrawIs_month_start": false,
         "DrawIs_quarter_end": false,
         "DrawIs_quarter_start": false,
         "DrawIs_year_end": false,
         "DrawIs_year_start": false,
         "DrawMonth": 7,
         "DrawNo": 270006,
         "DrawWeek": 27,
         "DrawYear": 2006,
         "LuckyNo": 8476,
         "PrizeType": "SpecialNo5",
         "index": 52734
        },
        {
         "DrawDay": 12,
         "DrawDayofweek": 2,
         "DrawDayofyear": 193,
         "DrawElapsed": 1152662400,
         "DrawIs_month_end": false,
         "DrawIs_month_start": false,
         "DrawIs_quarter_end": false,
         "DrawIs_quarter_start": false,
         "DrawIs_year_end": false,
         "DrawIs_year_start": false,
         "DrawMonth": 7,
         "DrawNo": 270106,
         "DrawWeek": 28,
         "DrawYear": 2006,
         "LuckyNo": 1628,
         "PrizeType": "ConsolationNo10",
         "index": 52743
        },
        {
         "DrawDay": 12,
         "DrawDayofweek": 2,
         "DrawDayofyear": 193,
         "DrawElapsed": 1152662400,
         "DrawIs_month_end": false,
         "DrawIs_month_start": false,
         "DrawIs_quarter_end": false,
         "DrawIs_quarter_start": false,
         "DrawIs_year_end": false,
         "DrawIs_year_start": false,
         "DrawMonth": 7,
         "DrawNo": 270106,
         "DrawWeek": 28,
         "DrawYear": 2006,
         "LuckyNo": 8284,
         "PrizeType": "ConsolationNo5",
         "index": 52747
        },
        {
         "DrawDay": 15,
         "DrawDayofweek": 5,
         "DrawDayofyear": 196,
         "DrawElapsed": 1152921600,
         "DrawIs_month_end": false,
         "DrawIs_month_start": false,
         "DrawIs_quarter_end": false,
         "DrawIs_quarter_start": false,
         "DrawIs_year_end": false,
         "DrawIs_year_start": false,
         "DrawMonth": 7,
         "DrawNo": 270206,
         "DrawWeek": 28,
         "DrawYear": 2006,
         "LuckyNo": 2522,
         "PrizeType": "ConsolationNo4",
         "index": 52769
        }
       ],
       "schema": {
        "fields": [
         {
          "name": "index",
          "type": "integer"
         },
         {
          "name": "PrizeType",
          "type": "string"
         },
         {
          "name": "DrawYear",
          "type": "integer"
         },
         {
          "name": "DrawMonth",
          "type": "integer"
         },
         {
          "name": "DrawWeek",
          "type": "integer"
         },
         {
          "name": "DrawDay",
          "type": "integer"
         },
         {
          "name": "DrawDayofweek",
          "type": "integer"
         },
         {
          "name": "DrawDayofyear",
          "type": "integer"
         },
         {
          "name": "DrawIs_month_end",
          "type": "boolean"
         },
         {
          "name": "DrawIs_month_start",
          "type": "boolean"
         },
         {
          "name": "DrawIs_quarter_end",
          "type": "boolean"
         },
         {
          "name": "DrawIs_quarter_start",
          "type": "boolean"
         },
         {
          "name": "DrawIs_year_end",
          "type": "boolean"
         },
         {
          "name": "DrawIs_year_start",
          "type": "boolean"
         },
         {
          "name": "DrawNo",
          "type": "integer"
         },
         {
          "name": "DrawElapsed",
          "type": "integer"
         },
         {
          "name": "LuckyNo",
          "type": "integer"
         }
        ],
        "pandas_version": "0.20.0",
        "primaryKey": [
         "index"
        ]
       }
      },
      "text/html": [
       "<div>\n",
       "<style scoped>\n",
       "    .dataframe tbody tr th:only-of-type {\n",
       "        vertical-align: middle;\n",
       "    }\n",
       "\n",
       "    .dataframe tbody tr th {\n",
       "        vertical-align: top;\n",
       "    }\n",
       "\n",
       "    .dataframe thead th {\n",
       "        text-align: right;\n",
       "    }\n",
       "</style>\n",
       "<table border=\"1\" class=\"dataframe\">\n",
       "  <thead>\n",
       "    <tr style=\"text-align: right;\">\n",
       "      <th></th>\n",
       "      <th>PrizeType</th>\n",
       "      <th>DrawYear</th>\n",
       "      <th>DrawMonth</th>\n",
       "      <th>DrawWeek</th>\n",
       "      <th>DrawDay</th>\n",
       "      <th>DrawDayofweek</th>\n",
       "      <th>DrawDayofyear</th>\n",
       "      <th>DrawIs_month_end</th>\n",
       "      <th>DrawIs_month_start</th>\n",
       "      <th>DrawIs_quarter_end</th>\n",
       "      <th>DrawIs_quarter_start</th>\n",
       "      <th>DrawIs_year_end</th>\n",
       "      <th>DrawIs_year_start</th>\n",
       "      <th>DrawNo</th>\n",
       "      <th>DrawElapsed</th>\n",
       "      <th>LuckyNo</th>\n",
       "    </tr>\n",
       "  </thead>\n",
       "  <tbody>\n",
       "    <tr>\n",
       "      <th>52728</th>\n",
       "      <td>ConsolationNo9</td>\n",
       "      <td>2006</td>\n",
       "      <td>7</td>\n",
       "      <td>27</td>\n",
       "      <td>9</td>\n",
       "      <td>6</td>\n",
       "      <td>190</td>\n",
       "      <td>False</td>\n",
       "      <td>False</td>\n",
       "      <td>False</td>\n",
       "      <td>False</td>\n",
       "      <td>False</td>\n",
       "      <td>False</td>\n",
       "      <td>270006</td>\n",
       "      <td>1152403200</td>\n",
       "      <td>8912</td>\n",
       "    </tr>\n",
       "    <tr>\n",
       "      <th>52734</th>\n",
       "      <td>SpecialNo5</td>\n",
       "      <td>2006</td>\n",
       "      <td>7</td>\n",
       "      <td>27</td>\n",
       "      <td>9</td>\n",
       "      <td>6</td>\n",
       "      <td>190</td>\n",
       "      <td>False</td>\n",
       "      <td>False</td>\n",
       "      <td>False</td>\n",
       "      <td>False</td>\n",
       "      <td>False</td>\n",
       "      <td>False</td>\n",
       "      <td>270006</td>\n",
       "      <td>1152403200</td>\n",
       "      <td>8476</td>\n",
       "    </tr>\n",
       "    <tr>\n",
       "      <th>52743</th>\n",
       "      <td>ConsolationNo10</td>\n",
       "      <td>2006</td>\n",
       "      <td>7</td>\n",
       "      <td>28</td>\n",
       "      <td>12</td>\n",
       "      <td>2</td>\n",
       "      <td>193</td>\n",
       "      <td>False</td>\n",
       "      <td>False</td>\n",
       "      <td>False</td>\n",
       "      <td>False</td>\n",
       "      <td>False</td>\n",
       "      <td>False</td>\n",
       "      <td>270106</td>\n",
       "      <td>1152662400</td>\n",
       "      <td>1628</td>\n",
       "    </tr>\n",
       "    <tr>\n",
       "      <th>52747</th>\n",
       "      <td>ConsolationNo5</td>\n",
       "      <td>2006</td>\n",
       "      <td>7</td>\n",
       "      <td>28</td>\n",
       "      <td>12</td>\n",
       "      <td>2</td>\n",
       "      <td>193</td>\n",
       "      <td>False</td>\n",
       "      <td>False</td>\n",
       "      <td>False</td>\n",
       "      <td>False</td>\n",
       "      <td>False</td>\n",
       "      <td>False</td>\n",
       "      <td>270106</td>\n",
       "      <td>1152662400</td>\n",
       "      <td>8284</td>\n",
       "    </tr>\n",
       "    <tr>\n",
       "      <th>52769</th>\n",
       "      <td>ConsolationNo4</td>\n",
       "      <td>2006</td>\n",
       "      <td>7</td>\n",
       "      <td>28</td>\n",
       "      <td>15</td>\n",
       "      <td>5</td>\n",
       "      <td>196</td>\n",
       "      <td>False</td>\n",
       "      <td>False</td>\n",
       "      <td>False</td>\n",
       "      <td>False</td>\n",
       "      <td>False</td>\n",
       "      <td>False</td>\n",
       "      <td>270206</td>\n",
       "      <td>1152921600</td>\n",
       "      <td>2522</td>\n",
       "    </tr>\n",
       "  </tbody>\n",
       "</table>\n",
       "</div>"
      ],
      "text/plain": [
       "             PrizeType  DrawYear  DrawMonth  DrawWeek  DrawDay  DrawDayofweek  \\\n",
       "52728   ConsolationNo9      2006          7        27        9              6   \n",
       "52734       SpecialNo5      2006          7        27        9              6   \n",
       "52743  ConsolationNo10      2006          7        28       12              2   \n",
       "52747   ConsolationNo5      2006          7        28       12              2   \n",
       "52769   ConsolationNo4      2006          7        28       15              5   \n",
       "\n",
       "       DrawDayofyear  DrawIs_month_end  DrawIs_month_start  \\\n",
       "52728            190             False               False   \n",
       "52734            190             False               False   \n",
       "52743            193             False               False   \n",
       "52747            193             False               False   \n",
       "52769            196             False               False   \n",
       "\n",
       "       DrawIs_quarter_end  DrawIs_quarter_start  DrawIs_year_end  \\\n",
       "52728               False                 False            False   \n",
       "52734               False                 False            False   \n",
       "52743               False                 False            False   \n",
       "52747               False                 False            False   \n",
       "52769               False                 False            False   \n",
       "\n",
       "       DrawIs_year_start  DrawNo  DrawElapsed  LuckyNo  \n",
       "52728              False  270006   1152403200     8912  \n",
       "52734              False  270006   1152403200     8476  \n",
       "52743              False  270106   1152662400     1628  \n",
       "52747              False  270106   1152662400     8284  \n",
       "52769              False  270206   1152921600     2522  "
      ]
     },
     "execution_count": 31,
     "metadata": {
      "tags": []
     },
     "output_type": "execute_result"
    }
   ],
   "source": [
    "small_test_df.head(5)"
   ]
  },
  {
   "cell_type": "code",
   "execution_count": null,
   "metadata": {
    "colab": {},
    "colab_type": "code",
    "id": "09XGqEUku4Bl"
   },
   "outputs": [],
   "source": [
    "categorify = Categorify(small_cat_vars, small_cont_vars)\n",
    "categorify(small_train_df)\n",
    "categorify(small_test_df, test=True)"
   ]
  },
  {
   "cell_type": "code",
   "execution_count": null,
   "metadata": {
    "colab": {
     "base_uri": "https://localhost:8080/",
     "height": 136
    },
    "colab_type": "code",
    "id": "enAi7pjWvCoA",
    "outputId": "1a911747-130e-429f-804c-4f6b08ec6373"
   },
   "outputs": [
    {
     "data": {
      "text/plain": [
       "Index(['1stPrizeNo', '2ndPrizeNo', '3rdPrizeNo', 'ConsolationNo1',\n",
       "       'ConsolationNo10', 'ConsolationNo2', 'ConsolationNo3', 'ConsolationNo4',\n",
       "       'ConsolationNo5', 'ConsolationNo6', 'ConsolationNo7', 'ConsolationNo8',\n",
       "       'ConsolationNo9', 'SpecialNo1', 'SpecialNo10', 'SpecialNo2',\n",
       "       'SpecialNo3', 'SpecialNo4', 'SpecialNo5', 'SpecialNo6', 'SpecialNo7',\n",
       "       'SpecialNo8', 'SpecialNo9'],\n",
       "      dtype='object')"
      ]
     },
     "execution_count": 33,
     "metadata": {
      "tags": []
     },
     "output_type": "execute_result"
    }
   ],
   "source": [
    "small_train_df.PrizeType.cat.categories"
   ]
  },
  {
   "cell_type": "code",
   "execution_count": null,
   "metadata": {
    "colab": {
     "base_uri": "https://localhost:8080/",
     "height": 204
    },
    "colab_type": "code",
    "id": "zKbHZ3xYvIFv",
    "outputId": "fc7c7e6b-6295-4503-edf3-cc2b2ac2caaf"
   },
   "outputs": [
    {
     "data": {
      "application/vnd.dataresource+json": {
       "data": [
        {
         "index": 35,
         "values": 12
        },
        {
         "index": 87,
         "values": 18
        },
        {
         "index": 97,
         "values": 5
        },
        {
         "index": 114,
         "values": 22
        },
        {
         "index": 127,
         "values": 12
        },
        {
         "index": 134,
         "values": 19
        },
        {
         "index": 144,
         "values": 6
        },
        {
         "index": 149,
         "values": 11
        },
        {
         "index": 164,
         "values": 3
        },
        {
         "index": 186,
         "values": 2
        }
       ],
       "schema": {
        "fields": [
         {
          "name": "index",
          "type": "integer"
         },
         {
          "name": "values",
          "type": "integer"
         }
        ],
        "pandas_version": "0.20.0",
        "primaryKey": [
         "index"
        ]
       }
      },
      "text/plain": [
       "35     12\n",
       "87     18\n",
       "97      5\n",
       "114    22\n",
       "127    12\n",
       "134    19\n",
       "144     6\n",
       "149    11\n",
       "164     3\n",
       "186     2\n",
       "dtype: int8"
      ]
     },
     "execution_count": 34,
     "metadata": {
      "tags": []
     },
     "output_type": "execute_result"
    }
   ],
   "source": [
    "small_train_df.PrizeType.cat.codes[:10]"
   ]
  },
  {
   "cell_type": "code",
   "execution_count": null,
   "metadata": {
    "colab": {
     "base_uri": "https://localhost:8080/",
     "height": 238
    },
    "colab_type": "code",
    "id": "Xutlsh9kJRiP",
    "outputId": "f8e0f741-849d-4519-b765-1e89db443274"
   },
   "outputs": [
    {
     "data": {
      "application/vnd.dataresource+json": {
       "data": [
        {
         "PrizeType": "ConsolationNo9",
         "index": 35
        },
        {
         "PrizeType": "SpecialNo5",
         "index": 87
        },
        {
         "PrizeType": "ConsolationNo2",
         "index": 97
        },
        {
         "PrizeType": "SpecialNo9",
         "index": 114
        },
        {
         "PrizeType": "ConsolationNo9",
         "index": 127
        },
        {
         "PrizeType": "SpecialNo6",
         "index": 134
        },
        {
         "PrizeType": "ConsolationNo3",
         "index": 144
        },
        {
         "PrizeType": "ConsolationNo8",
         "index": 149
        },
        {
         "PrizeType": "ConsolationNo1",
         "index": 164
        },
        {
         "PrizeType": "3rdPrizeNo",
         "index": 186
        }
       ],
       "schema": {
        "fields": [
         {
          "name": "index",
          "type": "integer"
         },
         {
          "constraints": {
           "enum": [
            "1stPrizeNo",
            "2ndPrizeNo",
            "3rdPrizeNo",
            "ConsolationNo1",
            "ConsolationNo10",
            "ConsolationNo2",
            "ConsolationNo3",
            "ConsolationNo4",
            "ConsolationNo5",
            "ConsolationNo6",
            "ConsolationNo7",
            "ConsolationNo8",
            "ConsolationNo9",
            "SpecialNo1",
            "SpecialNo10",
            "SpecialNo2",
            "SpecialNo3",
            "SpecialNo4",
            "SpecialNo5",
            "SpecialNo6",
            "SpecialNo7",
            "SpecialNo8",
            "SpecialNo9"
           ]
          },
          "name": "PrizeType",
          "ordered": true,
          "type": "any"
         }
        ],
        "pandas_version": "0.20.0",
        "primaryKey": [
         "index"
        ]
       }
      },
      "text/plain": [
       "35     ConsolationNo9\n",
       "87         SpecialNo5\n",
       "97     ConsolationNo2\n",
       "114        SpecialNo9\n",
       "127    ConsolationNo9\n",
       "134        SpecialNo6\n",
       "144    ConsolationNo3\n",
       "149    ConsolationNo8\n",
       "164    ConsolationNo1\n",
       "186        3rdPrizeNo\n",
       "Name: PrizeType, dtype: category\n",
       "Categories (23, object): [1stPrizeNo < 2ndPrizeNo < 3rdPrizeNo < ConsolationNo1 ... SpecialNo6 <\n",
       "                          SpecialNo7 < SpecialNo8 < SpecialNo9]"
      ]
     },
     "execution_count": 35,
     "metadata": {
      "tags": []
     },
     "output_type": "execute_result"
    }
   ],
   "source": [
    "small_train_df.PrizeType.head(10)"
   ]
  },
  {
   "cell_type": "code",
   "execution_count": null,
   "metadata": {
    "colab": {},
    "colab_type": "code",
    "id": "4lTp1pX4v-kk"
   },
   "outputs": [],
   "source": [
    "fill_missing = FillMissing(small_cat_vars, small_cont_vars)\n",
    "fill_missing(small_train_df)\n",
    "fill_missing(small_test_df, test=True)"
   ]
  },
  {
   "cell_type": "code",
   "execution_count": null,
   "metadata": {
    "colab": {},
    "colab_type": "code",
    "id": "Lnc36v4_wPej"
   },
   "outputs": [],
   "source": [
    "FillMissing?"
   ]
  },
  {
   "cell_type": "code",
   "execution_count": null,
   "metadata": {
    "colab": {},
    "colab_type": "code",
    "id": "80VmVLlBJRig"
   },
   "outputs": [],
   "source": [
    "import inspect\n",
    "Categorify??"
   ]
  },
  {
   "cell_type": "code",
   "execution_count": null,
   "metadata": {
    "colab": {
     "base_uri": "https://localhost:8080/",
     "height": 374
    },
    "colab_type": "code",
    "id": "tbsL5b0NwRRt",
    "outputId": "485cd044-fc27-485c-c203-5b58126adf55"
   },
   "outputs": [
    {
     "name": "stdout",
     "output_type": "stream",
     "text": [
      "<class 'pandas.core.frame.DataFrame'>\n",
      "Int64Index: 3000 entries, 35 to 52725\n",
      "Data columns (total 16 columns):\n",
      "PrizeType               3000 non-null category\n",
      "DrawYear                3000 non-null category\n",
      "DrawMonth               3000 non-null category\n",
      "DrawWeek                3000 non-null category\n",
      "DrawDay                 3000 non-null category\n",
      "DrawDayofweek           3000 non-null category\n",
      "DrawDayofyear           3000 non-null category\n",
      "DrawIs_month_end        3000 non-null category\n",
      "DrawIs_month_start      3000 non-null category\n",
      "DrawIs_quarter_end      3000 non-null category\n",
      "DrawIs_quarter_start    3000 non-null category\n",
      "DrawIs_year_end         3000 non-null category\n",
      "DrawIs_year_start       3000 non-null category\n",
      "DrawNo                  3000 non-null int64\n",
      "DrawElapsed             3000 non-null int64\n",
      "LuckyNo                 3000 non-null int64\n",
      "dtypes: category(13), int64(3)\n",
      "memory usage: 154.7 KB\n"
     ]
    }
   ],
   "source": [
    "small_train_df.info()"
   ]
  },
  {
   "cell_type": "code",
   "execution_count": null,
   "metadata": {
    "colab": {},
    "colab_type": "code",
    "id": "7kpqWTO-JRio"
   },
   "outputs": [],
   "source": []
  },
  {
   "cell_type": "markdown",
   "metadata": {
    "colab_type": "text",
    "id": "CBHTYhMCwdem"
   },
   "source": [
    "## Preparing full data set"
   ]
  },
  {
   "cell_type": "markdown",
   "metadata": {},
   "source": [
    "### Shuffle"
   ]
  },
  {
   "cell_type": "code",
   "execution_count": 78,
   "metadata": {},
   "outputs": [],
   "source": [
    "from sklearn.utils import shuffle\n",
    "df_processed = shuffle(df_processed)"
   ]
  },
  {
   "cell_type": "code",
   "execution_count": 79,
   "metadata": {
    "colab": {
     "base_uri": "https://localhost:8080/",
     "height": 170
    },
    "colab_type": "code",
    "id": "4NdF0S1TwnLT",
    "outputId": "b92116a1-1717-492c-a4dc-d458fabd32e7"
   },
   "outputs": [
    {
     "name": "stdout",
     "output_type": "stream",
     "text": [
      "104397\n",
      "4539.0\n",
      "1992-05-06 00:00:00\n",
      "2019-05-12 00:00:00\n",
      "78297.75\n",
      "78292\n",
      "78292 1992-05-06 00:00:00 2019-05-12 00:00:00\n",
      "26105 1992-05-06 00:00:00 2019-05-12 00:00:00\n",
      "104397\n"
     ]
    }
   ],
   "source": [
    "n = len(df_processed)\n",
    "print(n)\n",
    "print(n/23)\n",
    "print(df_processed['DrawDate'].min())\n",
    "print(df_processed['DrawDate'].max())\n",
    "\n",
    "\n",
    "split_percent = 0.75\n",
    "idx = n * split_percent\n",
    "print(idx)\n",
    "idx = int(idx // 23 * 23)\n",
    "print(idx)\n",
    "\n",
    "train_df = df_processed[:idx]\n",
    "test_df = df_processed[idx:]\n",
    "\n",
    "print(len(train_df), train_df.DrawDate.min(), train_df.DrawDate.max())\n",
    "print(len(test_df), test_df.DrawDate.min(), test_df.DrawDate.max())\n",
    "print(len(train_df) + len(test_df))"
   ]
  },
  {
   "cell_type": "code",
   "execution_count": 80,
   "metadata": {
    "colab": {
     "base_uri": "https://localhost:8080/",
     "height": 165
    },
    "colab_type": "code",
    "id": "tbDG0RGVJRiv",
    "outputId": "039f12d2-4d25-4cfe-ea2f-e05943715cac"
   },
   "outputs": [
    {
     "data": {
      "application/vnd.dataresource+json": {
       "data": [
        {
         "DrawDate": "2012-05-12T00:00:00.000Z",
         "DrawDay": 12,
         "DrawDayofweek": 5,
         "DrawDayofyear": 133,
         "DrawElapsed": 1336780800,
         "DrawIs_month_end": false,
         "DrawIs_month_start": false,
         "DrawIs_quarter_end": false,
         "DrawIs_quarter_start": false,
         "DrawIs_year_end": false,
         "DrawIs_year_start": false,
         "DrawMonth": 5,
         "DrawNo": 370112,
         "DrawWeek": 19,
         "DrawYear": 2012,
         "LuckyNo": 1976,
         "PrizeType": "2ndPrizeNo",
         "index": 75740
        },
        {
         "DrawDate": "2017-10-22T00:00:00.000Z",
         "DrawDay": 22,
         "DrawDayofweek": 6,
         "DrawDayofyear": 295,
         "DrawElapsed": 1508630400,
         "DrawIs_month_end": false,
         "DrawIs_month_start": false,
         "DrawIs_quarter_end": false,
         "DrawIs_quarter_start": false,
         "DrawIs_year_end": false,
         "DrawIs_year_start": false,
         "DrawMonth": 10,
         "DrawNo": 467217,
         "DrawWeek": 42,
         "DrawYear": 2017,
         "LuckyNo": 3197,
         "PrizeType": "ConsolationNo1",
         "index": 98075
        }
       ],
       "schema": {
        "fields": [
         {
          "name": "index",
          "type": "integer"
         },
         {
          "name": "DrawNo",
          "type": "integer"
         },
         {
          "name": "DrawDate",
          "type": "datetime"
         },
         {
          "name": "PrizeType",
          "type": "string"
         },
         {
          "name": "LuckyNo",
          "type": "integer"
         },
         {
          "name": "DrawYear",
          "type": "integer"
         },
         {
          "name": "DrawMonth",
          "type": "integer"
         },
         {
          "name": "DrawWeek",
          "type": "integer"
         },
         {
          "name": "DrawDay",
          "type": "integer"
         },
         {
          "name": "DrawDayofweek",
          "type": "integer"
         },
         {
          "name": "DrawDayofyear",
          "type": "integer"
         },
         {
          "name": "DrawIs_month_end",
          "type": "boolean"
         },
         {
          "name": "DrawIs_month_start",
          "type": "boolean"
         },
         {
          "name": "DrawIs_quarter_end",
          "type": "boolean"
         },
         {
          "name": "DrawIs_quarter_start",
          "type": "boolean"
         },
         {
          "name": "DrawIs_year_end",
          "type": "boolean"
         },
         {
          "name": "DrawIs_year_start",
          "type": "boolean"
         },
         {
          "name": "DrawElapsed",
          "type": "integer"
         }
        ],
        "pandas_version": "0.20.0",
        "primaryKey": [
         "index"
        ]
       }
      },
      "text/html": [
       "<div>\n",
       "<style scoped>\n",
       "    .dataframe tbody tr th:only-of-type {\n",
       "        vertical-align: middle;\n",
       "    }\n",
       "\n",
       "    .dataframe tbody tr th {\n",
       "        vertical-align: top;\n",
       "    }\n",
       "\n",
       "    .dataframe thead th {\n",
       "        text-align: right;\n",
       "    }\n",
       "</style>\n",
       "<table border=\"1\" class=\"dataframe\">\n",
       "  <thead>\n",
       "    <tr style=\"text-align: right;\">\n",
       "      <th></th>\n",
       "      <th>DrawNo</th>\n",
       "      <th>DrawDate</th>\n",
       "      <th>PrizeType</th>\n",
       "      <th>LuckyNo</th>\n",
       "      <th>DrawYear</th>\n",
       "      <th>DrawMonth</th>\n",
       "      <th>DrawWeek</th>\n",
       "      <th>DrawDay</th>\n",
       "      <th>DrawDayofweek</th>\n",
       "      <th>DrawDayofyear</th>\n",
       "      <th>DrawIs_month_end</th>\n",
       "      <th>DrawIs_month_start</th>\n",
       "      <th>DrawIs_quarter_end</th>\n",
       "      <th>DrawIs_quarter_start</th>\n",
       "      <th>DrawIs_year_end</th>\n",
       "      <th>DrawIs_year_start</th>\n",
       "      <th>DrawElapsed</th>\n",
       "    </tr>\n",
       "  </thead>\n",
       "  <tbody>\n",
       "    <tr>\n",
       "      <th>75740</th>\n",
       "      <td>370112</td>\n",
       "      <td>2012-05-12</td>\n",
       "      <td>2ndPrizeNo</td>\n",
       "      <td>1976</td>\n",
       "      <td>2012</td>\n",
       "      <td>5</td>\n",
       "      <td>19</td>\n",
       "      <td>12</td>\n",
       "      <td>5</td>\n",
       "      <td>133</td>\n",
       "      <td>False</td>\n",
       "      <td>False</td>\n",
       "      <td>False</td>\n",
       "      <td>False</td>\n",
       "      <td>False</td>\n",
       "      <td>False</td>\n",
       "      <td>1336780800</td>\n",
       "    </tr>\n",
       "    <tr>\n",
       "      <th>98075</th>\n",
       "      <td>467217</td>\n",
       "      <td>2017-10-22</td>\n",
       "      <td>ConsolationNo1</td>\n",
       "      <td>3197</td>\n",
       "      <td>2017</td>\n",
       "      <td>10</td>\n",
       "      <td>42</td>\n",
       "      <td>22</td>\n",
       "      <td>6</td>\n",
       "      <td>295</td>\n",
       "      <td>False</td>\n",
       "      <td>False</td>\n",
       "      <td>False</td>\n",
       "      <td>False</td>\n",
       "      <td>False</td>\n",
       "      <td>False</td>\n",
       "      <td>1508630400</td>\n",
       "    </tr>\n",
       "  </tbody>\n",
       "</table>\n",
       "</div>"
      ],
      "text/plain": [
       "       DrawNo   DrawDate       PrizeType  LuckyNo  DrawYear  DrawMonth  \\\n",
       "75740  370112 2012-05-12      2ndPrizeNo     1976      2012          5   \n",
       "98075  467217 2017-10-22  ConsolationNo1     3197      2017         10   \n",
       "\n",
       "       DrawWeek  DrawDay  DrawDayofweek  DrawDayofyear  DrawIs_month_end  \\\n",
       "75740        19       12              5            133             False   \n",
       "98075        42       22              6            295             False   \n",
       "\n",
       "       DrawIs_month_start  DrawIs_quarter_end  DrawIs_quarter_start  \\\n",
       "75740               False               False                 False   \n",
       "98075               False               False                 False   \n",
       "\n",
       "       DrawIs_year_end  DrawIs_year_start  DrawElapsed  \n",
       "75740            False              False   1336780800  \n",
       "98075            False              False   1508630400  "
      ]
     },
     "execution_count": 80,
     "metadata": {},
     "output_type": "execute_result"
    }
   ],
   "source": [
    "train_df.head(2)"
   ]
  },
  {
   "cell_type": "code",
   "execution_count": 81,
   "metadata": {
    "colab": {
     "base_uri": "https://localhost:8080/",
     "height": 117
    },
    "colab_type": "code",
    "id": "XhNtN7sLJRi1",
    "outputId": "5999afcf-2c01-4488-f2e5-ce2e384219da"
   },
   "outputs": [
    {
     "data": {
      "application/vnd.dataresource+json": {
       "data": [
        {
         "DrawDate": "2018-08-26T00:00:00.000Z",
         "DrawDay": 26,
         "DrawDayofweek": 6,
         "DrawDayofyear": 238,
         "DrawElapsed": 1535241600,
         "DrawIs_month_end": false,
         "DrawIs_month_start": false,
         "DrawIs_quarter_end": false,
         "DrawIs_quarter_start": false,
         "DrawIs_year_end": false,
         "DrawIs_year_start": false,
         "DrawMonth": 8,
         "DrawNo": 482218,
         "DrawWeek": 34,
         "DrawYear": 2018,
         "LuckyNo": 9444,
         "PrizeType": "ConsolationNo10",
         "index": 101526
        }
       ],
       "schema": {
        "fields": [
         {
          "name": "index",
          "type": "integer"
         },
         {
          "name": "DrawNo",
          "type": "integer"
         },
         {
          "name": "DrawDate",
          "type": "datetime"
         },
         {
          "name": "PrizeType",
          "type": "string"
         },
         {
          "name": "LuckyNo",
          "type": "integer"
         },
         {
          "name": "DrawYear",
          "type": "integer"
         },
         {
          "name": "DrawMonth",
          "type": "integer"
         },
         {
          "name": "DrawWeek",
          "type": "integer"
         },
         {
          "name": "DrawDay",
          "type": "integer"
         },
         {
          "name": "DrawDayofweek",
          "type": "integer"
         },
         {
          "name": "DrawDayofyear",
          "type": "integer"
         },
         {
          "name": "DrawIs_month_end",
          "type": "boolean"
         },
         {
          "name": "DrawIs_month_start",
          "type": "boolean"
         },
         {
          "name": "DrawIs_quarter_end",
          "type": "boolean"
         },
         {
          "name": "DrawIs_quarter_start",
          "type": "boolean"
         },
         {
          "name": "DrawIs_year_end",
          "type": "boolean"
         },
         {
          "name": "DrawIs_year_start",
          "type": "boolean"
         },
         {
          "name": "DrawElapsed",
          "type": "integer"
         }
        ],
        "pandas_version": "0.20.0",
        "primaryKey": [
         "index"
        ]
       }
      },
      "text/html": [
       "<div>\n",
       "<style scoped>\n",
       "    .dataframe tbody tr th:only-of-type {\n",
       "        vertical-align: middle;\n",
       "    }\n",
       "\n",
       "    .dataframe tbody tr th {\n",
       "        vertical-align: top;\n",
       "    }\n",
       "\n",
       "    .dataframe thead th {\n",
       "        text-align: right;\n",
       "    }\n",
       "</style>\n",
       "<table border=\"1\" class=\"dataframe\">\n",
       "  <thead>\n",
       "    <tr style=\"text-align: right;\">\n",
       "      <th></th>\n",
       "      <th>DrawNo</th>\n",
       "      <th>DrawDate</th>\n",
       "      <th>PrizeType</th>\n",
       "      <th>LuckyNo</th>\n",
       "      <th>DrawYear</th>\n",
       "      <th>DrawMonth</th>\n",
       "      <th>DrawWeek</th>\n",
       "      <th>DrawDay</th>\n",
       "      <th>DrawDayofweek</th>\n",
       "      <th>DrawDayofyear</th>\n",
       "      <th>DrawIs_month_end</th>\n",
       "      <th>DrawIs_month_start</th>\n",
       "      <th>DrawIs_quarter_end</th>\n",
       "      <th>DrawIs_quarter_start</th>\n",
       "      <th>DrawIs_year_end</th>\n",
       "      <th>DrawIs_year_start</th>\n",
       "      <th>DrawElapsed</th>\n",
       "    </tr>\n",
       "  </thead>\n",
       "  <tbody>\n",
       "    <tr>\n",
       "      <th>101526</th>\n",
       "      <td>482218</td>\n",
       "      <td>2018-08-26</td>\n",
       "      <td>ConsolationNo10</td>\n",
       "      <td>9444</td>\n",
       "      <td>2018</td>\n",
       "      <td>8</td>\n",
       "      <td>34</td>\n",
       "      <td>26</td>\n",
       "      <td>6</td>\n",
       "      <td>238</td>\n",
       "      <td>False</td>\n",
       "      <td>False</td>\n",
       "      <td>False</td>\n",
       "      <td>False</td>\n",
       "      <td>False</td>\n",
       "      <td>False</td>\n",
       "      <td>1535241600</td>\n",
       "    </tr>\n",
       "  </tbody>\n",
       "</table>\n",
       "</div>"
      ],
      "text/plain": [
       "        DrawNo   DrawDate        PrizeType  LuckyNo  DrawYear  DrawMonth  \\\n",
       "101526  482218 2018-08-26  ConsolationNo10     9444      2018          8   \n",
       "\n",
       "        DrawWeek  DrawDay  DrawDayofweek  DrawDayofyear  DrawIs_month_end  \\\n",
       "101526        34       26              6            238             False   \n",
       "\n",
       "        DrawIs_month_start  DrawIs_quarter_end  DrawIs_quarter_start  \\\n",
       "101526               False               False                 False   \n",
       "\n",
       "        DrawIs_year_end  DrawIs_year_start  DrawElapsed  \n",
       "101526            False              False   1535241600  "
      ]
     },
     "execution_count": 81,
     "metadata": {},
     "output_type": "execute_result"
    }
   ],
   "source": [
    "test_df.head(1)"
   ]
  },
  {
   "cell_type": "code",
   "execution_count": 82,
   "metadata": {
    "colab": {},
    "colab_type": "code",
    "id": "DwSkbsZeyfJB"
   },
   "outputs": [],
   "source": [
    "# Data normalization proceses\n",
    "procs=[FillMissing, Categorify, Normalize]"
   ]
  },
  {
   "cell_type": "code",
   "execution_count": 83,
   "metadata": {
    "colab": {},
    "colab_type": "code",
    "id": "pRSdjjeJJRi9"
   },
   "outputs": [],
   "source": [
    "# Set continuous and categorical columns\n",
    "#cont_vars = [\"DrawNo\", \"DrawElapsed\"]\n",
    "cont_vars = [\"DrawDayofyear\"]\n",
    "#cat_vars = [\"PrizeType\", \"DrawYear\", \"DrawMonth\", \"DrawWeek\", \"DrawDay\", \"DrawDayofweek\", \n",
    "#                  \"DrawDayofyear\",\"DrawIs_month_end\",\"DrawIs_month_start\", \"DrawIs_quarter_end\", \"DrawIs_quarter_start\", \"DrawIs_year_end\", \"DrawIs_year_start\"]\n",
    "cat_vars = [\"DrawMonth\", \"DrawWeek\", \"DrawDay\", \"DrawDayofweek\"]"
   ]
  },
  {
   "cell_type": "code",
   "execution_count": 84,
   "metadata": {
    "colab": {},
    "colab_type": "code",
    "id": "NX6sRVnFJRi_"
   },
   "outputs": [],
   "source": [
    "dep_var = 'LuckyNo'"
   ]
  },
  {
   "cell_type": "code",
   "execution_count": 85,
   "metadata": {
    "colab": {},
    "colab_type": "code",
    "id": "K08LmXY_JRjB"
   },
   "outputs": [],
   "source": [
    "df = train_df[cat_vars + cont_vars + [dep_var,'DrawDate']].copy()"
   ]
  },
  {
   "cell_type": "code",
   "execution_count": 86,
   "metadata": {
    "colab": {},
    "colab_type": "code",
    "id": "yzK1iibUc1jF"
   },
   "outputs": [],
   "source": [
    "train_df = train_df[cat_vars + cont_vars + [dep_var,'DrawDate']].copy()\n",
    "test_df = test_df[cat_vars + cont_vars + [dep_var,'DrawDate']].copy()"
   ]
  },
  {
   "cell_type": "code",
   "execution_count": 87,
   "metadata": {
    "colab": {
     "base_uri": "https://localhost:8080/",
     "height": 34
    },
    "colab_type": "code",
    "id": "pTtBKYQgJRjE",
    "outputId": "c29c5a78-d366-4f8e-f808-2a5b45a1ec77"
   },
   "outputs": [
    {
     "data": {
      "text/plain": [
       "(Timestamp('1992-05-06 00:00:00'), Timestamp('2019-05-12 00:00:00'))"
      ]
     },
     "execution_count": 87,
     "metadata": {},
     "output_type": "execute_result"
    }
   ],
   "source": [
    "# Min and max draw date\n",
    "test_df['DrawDate'].min(), test_df['DrawDate'].max()"
   ]
  },
  {
   "cell_type": "markdown",
   "metadata": {
    "colab_type": "text",
    "id": "psovR8pRJRjJ"
   },
   "source": [
    "### Create a validation set"
   ]
  },
  {
   "cell_type": "code",
   "execution_count": 88,
   "metadata": {
    "colab": {
     "base_uri": "https://localhost:8080/",
     "height": 34
    },
    "colab_type": "code",
    "id": "2M08ikGlJRjK",
    "outputId": "282537c9-c19f-4cda-997b-7704453d8f9f"
   },
   "outputs": [
    {
     "name": "stdout",
     "output_type": "stream",
     "text": [
      "26127\n"
     ]
    }
   ],
   "source": [
    "# 1st criteria - of the same date\n",
    "# 2nd criteria - >= len(test_df)\n",
    "\n",
    "cut = train_df['DrawDate'][(train_df['DrawDate'] == train_df['DrawDate'][len(test_df)])].index.max()\n",
    "print(cut)"
   ]
  },
  {
   "cell_type": "code",
   "execution_count": 89,
   "metadata": {
    "colab": {
     "base_uri": "https://localhost:8080/",
     "height": 204
    },
    "colab_type": "code",
    "id": "iEdDShxec1jL",
    "outputId": "1f4e861b-58e4-403f-e4e7-3c64cb513b3a"
   },
   "outputs": [
    {
     "data": {
      "application/vnd.dataresource+json": {
       "data": [
        {
         "DrawDate": "2012-05-12T00:00:00.000Z",
         "DrawDay": 12,
         "DrawDayofweek": 5,
         "DrawDayofyear": 133,
         "DrawMonth": 5,
         "DrawWeek": 19,
         "LuckyNo": 1976,
         "index": 75740
        },
        {
         "DrawDate": "2017-10-22T00:00:00.000Z",
         "DrawDay": 22,
         "DrawDayofweek": 6,
         "DrawDayofyear": 295,
         "DrawMonth": 10,
         "DrawWeek": 42,
         "LuckyNo": 3197,
         "index": 98075
        },
        {
         "DrawDate": "2008-12-21T00:00:00.000Z",
         "DrawDay": 21,
         "DrawDayofweek": 6,
         "DrawDayofyear": 356,
         "DrawMonth": 12,
         "DrawWeek": 51,
         "LuckyNo": 2272,
         "index": 62009
        },
        {
         "DrawDate": "2016-10-15T00:00:00.000Z",
         "DrawDay": 15,
         "DrawDayofweek": 5,
         "DrawDayofyear": 289,
         "DrawMonth": 10,
         "DrawWeek": 41,
         "LuckyNo": 6030,
         "index": 93896
        },
        {
         "DrawDate": "2003-05-10T00:00:00.000Z",
         "DrawDay": 10,
         "DrawDayofweek": 5,
         "DrawDayofyear": 130,
         "DrawMonth": 5,
         "DrawWeek": 19,
         "LuckyNo": 411,
         "index": 40346
        }
       ],
       "schema": {
        "fields": [
         {
          "name": "index",
          "type": "integer"
         },
         {
          "name": "DrawMonth",
          "type": "integer"
         },
         {
          "name": "DrawWeek",
          "type": "integer"
         },
         {
          "name": "DrawDay",
          "type": "integer"
         },
         {
          "name": "DrawDayofweek",
          "type": "integer"
         },
         {
          "name": "DrawDayofyear",
          "type": "integer"
         },
         {
          "name": "LuckyNo",
          "type": "integer"
         },
         {
          "name": "DrawDate",
          "type": "datetime"
         }
        ],
        "pandas_version": "0.20.0",
        "primaryKey": [
         "index"
        ]
       }
      },
      "text/html": [
       "<div>\n",
       "<style scoped>\n",
       "    .dataframe tbody tr th:only-of-type {\n",
       "        vertical-align: middle;\n",
       "    }\n",
       "\n",
       "    .dataframe tbody tr th {\n",
       "        vertical-align: top;\n",
       "    }\n",
       "\n",
       "    .dataframe thead th {\n",
       "        text-align: right;\n",
       "    }\n",
       "</style>\n",
       "<table border=\"1\" class=\"dataframe\">\n",
       "  <thead>\n",
       "    <tr style=\"text-align: right;\">\n",
       "      <th></th>\n",
       "      <th>DrawMonth</th>\n",
       "      <th>DrawWeek</th>\n",
       "      <th>DrawDay</th>\n",
       "      <th>DrawDayofweek</th>\n",
       "      <th>DrawDayofyear</th>\n",
       "      <th>LuckyNo</th>\n",
       "      <th>DrawDate</th>\n",
       "    </tr>\n",
       "  </thead>\n",
       "  <tbody>\n",
       "    <tr>\n",
       "      <th>75740</th>\n",
       "      <td>5</td>\n",
       "      <td>19</td>\n",
       "      <td>12</td>\n",
       "      <td>5</td>\n",
       "      <td>133</td>\n",
       "      <td>1976</td>\n",
       "      <td>2012-05-12</td>\n",
       "    </tr>\n",
       "    <tr>\n",
       "      <th>98075</th>\n",
       "      <td>10</td>\n",
       "      <td>42</td>\n",
       "      <td>22</td>\n",
       "      <td>6</td>\n",
       "      <td>295</td>\n",
       "      <td>3197</td>\n",
       "      <td>2017-10-22</td>\n",
       "    </tr>\n",
       "    <tr>\n",
       "      <th>62009</th>\n",
       "      <td>12</td>\n",
       "      <td>51</td>\n",
       "      <td>21</td>\n",
       "      <td>6</td>\n",
       "      <td>356</td>\n",
       "      <td>2272</td>\n",
       "      <td>2008-12-21</td>\n",
       "    </tr>\n",
       "    <tr>\n",
       "      <th>93896</th>\n",
       "      <td>10</td>\n",
       "      <td>41</td>\n",
       "      <td>15</td>\n",
       "      <td>5</td>\n",
       "      <td>289</td>\n",
       "      <td>6030</td>\n",
       "      <td>2016-10-15</td>\n",
       "    </tr>\n",
       "    <tr>\n",
       "      <th>40346</th>\n",
       "      <td>5</td>\n",
       "      <td>19</td>\n",
       "      <td>10</td>\n",
       "      <td>5</td>\n",
       "      <td>130</td>\n",
       "      <td>411</td>\n",
       "      <td>2003-05-10</td>\n",
       "    </tr>\n",
       "  </tbody>\n",
       "</table>\n",
       "</div>"
      ],
      "text/plain": [
       "       DrawMonth  DrawWeek  DrawDay  DrawDayofweek  DrawDayofyear  LuckyNo  \\\n",
       "75740          5        19       12              5            133     1976   \n",
       "98075         10        42       22              6            295     3197   \n",
       "62009         12        51       21              6            356     2272   \n",
       "93896         10        41       15              5            289     6030   \n",
       "40346          5        19       10              5            130      411   \n",
       "\n",
       "        DrawDate  \n",
       "75740 2012-05-12  \n",
       "98075 2017-10-22  \n",
       "62009 2008-12-21  \n",
       "93896 2016-10-15  \n",
       "40346 2003-05-10  "
      ]
     },
     "execution_count": 89,
     "metadata": {},
     "output_type": "execute_result"
    }
   ],
   "source": [
    "train_df.head(5)"
   ]
  },
  {
   "cell_type": "code",
   "execution_count": 90,
   "metadata": {
    "colab": {
     "base_uri": "https://localhost:8080/",
     "height": 204
    },
    "colab_type": "code",
    "id": "rlJZ7WvXc1jN",
    "outputId": "4bc96267-518d-4f79-b8ee-569020143e71"
   },
   "outputs": [
    {
     "data": {
      "application/vnd.dataresource+json": {
       "data": [
        {
         "DrawDate": "1999-07-18T00:00:00.000Z",
         "index": 26126
        },
        {
         "DrawDate": "1999-07-18T00:00:00.000Z",
         "index": 26105
        },
        {
         "DrawDate": "1999-07-18T00:00:00.000Z",
         "index": 26106
        },
        {
         "DrawDate": "1999-07-18T00:00:00.000Z",
         "index": 26119
        },
        {
         "DrawDate": "1999-07-18T00:00:00.000Z",
         "index": 26116
        },
        {
         "DrawDate": "1999-07-18T00:00:00.000Z",
         "index": 26120
        },
        {
         "DrawDate": "1999-07-18T00:00:00.000Z",
         "index": 26115
        },
        {
         "DrawDate": "1999-07-18T00:00:00.000Z",
         "index": 26108
        },
        {
         "DrawDate": "1999-07-18T00:00:00.000Z",
         "index": 26111
        },
        {
         "DrawDate": "1999-07-18T00:00:00.000Z",
         "index": 26112
        }
       ],
       "schema": {
        "fields": [
         {
          "name": "index",
          "type": "integer"
         },
         {
          "name": "DrawDate",
          "type": "datetime"
         }
        ],
        "pandas_version": "0.20.0",
        "primaryKey": [
         "index"
        ]
       }
      },
      "text/plain": [
       "26126   1999-07-18\n",
       "26105   1999-07-18\n",
       "26106   1999-07-18\n",
       "26119   1999-07-18\n",
       "26116   1999-07-18\n",
       "26120   1999-07-18\n",
       "26115   1999-07-18\n",
       "26108   1999-07-18\n",
       "26111   1999-07-18\n",
       "26112   1999-07-18\n",
       "Name: DrawDate, dtype: datetime64[ns]"
      ]
     },
     "execution_count": 90,
     "metadata": {},
     "output_type": "execute_result"
    }
   ],
   "source": [
    "train_df['DrawDate'][(train_df['DrawDate'] == train_df['DrawDate'][len(test_df)])].tail(10)"
   ]
  },
  {
   "cell_type": "code",
   "execution_count": 91,
   "metadata": {
    "colab": {
     "base_uri": "https://localhost:8080/",
     "height": 34
    },
    "colab_type": "code",
    "id": "825smVEzJRjL",
    "outputId": "91c06c0b-fe5e-41b0-8d83-1b75da3d8f11"
   },
   "outputs": [
    {
     "name": "stdout",
     "output_type": "stream",
     "text": [
      "range(0, 26127)\n"
     ]
    }
   ],
   "source": [
    "valid_idx = range(cut)\n",
    "print(valid_idx)"
   ]
  },
  {
   "cell_type": "code",
   "execution_count": 92,
   "metadata": {
    "colab": {},
    "colab_type": "code",
    "id": "IPUHYMiQzWof"
   },
   "outputs": [],
   "source": [
    "# train_idx = len(train_df) - cut\n",
    "# valid_idx = range(train_idx + 1, train_idx + cut)\n",
    "# train_idx = range(train_idx)\n",
    "# print(train_idx)\n",
    "# print(valid_idx)"
   ]
  },
  {
   "cell_type": "code",
   "execution_count": 93,
   "metadata": {
    "colab": {
     "base_uri": "https://localhost:8080/",
     "height": 119
    },
    "colab_type": "code",
    "id": "CQf46HenJRjO",
    "outputId": "1595beb3-2ee7-4389-aedd-e7bf23b1e814"
   },
   "outputs": [
    {
     "data": {
      "application/vnd.dataresource+json": {
       "data": [
        {
         "LuckyNo": 1976,
         "index": 75740
        },
        {
         "LuckyNo": 3197,
         "index": 98075
        },
        {
         "LuckyNo": 2272,
         "index": 62009
        },
        {
         "LuckyNo": 6030,
         "index": 93896
        },
        {
         "LuckyNo": 411,
         "index": 40346
        }
       ],
       "schema": {
        "fields": [
         {
          "name": "index",
          "type": "integer"
         },
         {
          "name": "LuckyNo",
          "type": "integer"
         }
        ],
        "pandas_version": "0.20.0",
        "primaryKey": [
         "index"
        ]
       }
      },
      "text/plain": [
       "75740    1976\n",
       "98075    3197\n",
       "62009    2272\n",
       "93896    6030\n",
       "40346     411\n",
       "Name: LuckyNo, dtype: int64"
      ]
     },
     "execution_count": 93,
     "metadata": {},
     "output_type": "execute_result"
    }
   ],
   "source": [
    "df[dep_var].head()"
   ]
  },
  {
   "cell_type": "markdown",
   "metadata": {
    "colab_type": "text",
    "id": "eJ7BbqQOJRjS"
   },
   "source": [
    "## Train"
   ]
  },
  {
   "cell_type": "code",
   "execution_count": 94,
   "metadata": {
    "colab": {},
    "colab_type": "code",
    "id": "zvFwyNMfJRjS"
   },
   "outputs": [],
   "source": [
    "path = Path('datasets/lotto')"
   ]
  },
  {
   "cell_type": "code",
   "execution_count": 105,
   "metadata": {
    "colab": {
     "base_uri": "https://localhost:8080/",
     "height": 85
    },
    "colab_type": "code",
    "id": "NclUP3xdJRjT",
    "outputId": "522751e7-5fcf-4f1f-e3c3-8999587e81c8"
   },
   "outputs": [],
   "source": [
    "data = (TabularList.from_df(df, path=path, cat_names=cat_vars, cont_names=cont_vars, procs=procs)\n",
    "                .split_by_idx(valid_idx)\n",
    "                .label_from_df(cols=dep_var, label_cls=FloatList, log=True)\n",
    "                #.label_from_df(cols=dep_var, label_cls=CategoryList)\n",
    "                .add_test(TabularList.from_df(test_df, path=path, cat_names=cat_vars, cont_names=cont_vars))\n",
    "                .databunch())\n",
    "# FloatList?\n",
    "# CategoryList?"
   ]
  },
  {
   "cell_type": "code",
   "execution_count": 106,
   "metadata": {
    "colab": {
     "base_uri": "https://localhost:8080/",
     "height": 411
    },
    "colab_type": "code",
    "id": "ULMiGgN6yB9J",
    "outputId": "63afcf1c-4487-4f4e-fb30-2db6aa51e4a2"
   },
   "outputs": [
    {
     "data": {
      "text/plain": [
       "TabularDataBunch;\n",
       "\n",
       "Train: LabelList\n",
       "y: FloatList (52165 items)\n",
       "[FloatItem 8.883918, FloatItem 9.192787, FloatItem 8.570734, FloatItem 8.993054, FloatItem 7.74457]...\n",
       "Path: datasets/lotto\n",
       "x: TabularList (52165 items)\n",
       "[TabularLine DrawMonth 4; DrawWeek 14; DrawDay 7; DrawDayofweek 3; DrawDayofyear -0.8060; , TabularLine DrawMonth 12; DrawWeek 53; DrawDay 29; DrawDayofweek 2; DrawDayofyear 1.7136; , TabularLine DrawMonth 8; DrawWeek 34; DrawDay 24; DrawDayofweek 5; DrawDayofyear 0.5151; , TabularLine DrawMonth 4; DrawWeek 14; DrawDay 6; DrawDayofweek 5; DrawDayofyear -0.8060; , TabularLine DrawMonth 9; DrawWeek 36; DrawDay 7; DrawDayofweek 5; DrawDayofyear 0.6472; ]...\n",
       "Path: datasets/lotto;\n",
       "\n",
       "Valid: LabelList\n",
       "y: FloatList (26127 items)\n",
       "[FloatItem 7.58883, FloatItem 8.069968, FloatItem 7.728416, FloatItem 8.704502, FloatItem 6.0185933]...\n",
       "Path: datasets/lotto\n",
       "x: TabularList (26127 items)\n",
       "[TabularLine DrawMonth 5; DrawWeek 19; DrawDay 12; DrawDayofweek 5; DrawDayofyear -0.4663; , TabularLine DrawMonth 10; DrawWeek 42; DrawDay 22; DrawDayofweek 6; DrawDayofyear 1.0624; , TabularLine DrawMonth 12; DrawWeek 51; DrawDay 21; DrawDayofweek 6; DrawDayofyear 1.6381; , TabularLine DrawMonth 10; DrawWeek 41; DrawDay 15; DrawDayofweek 5; DrawDayofyear 1.0058; , TabularLine DrawMonth 5; DrawWeek 19; DrawDay 10; DrawDayofweek 5; DrawDayofyear -0.4946; ]...\n",
       "Path: datasets/lotto;\n",
       "\n",
       "Test: LabelList\n",
       "y: EmptyLabelList (26105 items)\n",
       "[EmptyLabel , EmptyLabel , EmptyLabel , EmptyLabel , EmptyLabel ]...\n",
       "Path: .\n",
       "x: TabularList (26105 items)\n",
       "[TabularLine DrawMonth 8; DrawWeek 34; DrawDay 26; DrawDayofweek 6; DrawDayofyear 0.5246; , TabularLine DrawMonth 10; DrawWeek 43; DrawDay 23; DrawDayofweek 2; DrawDayofyear 1.0719; , TabularLine DrawMonth 8; DrawWeek 32; DrawDay 9; DrawDayofweek 2; DrawDayofyear 0.3641; , TabularLine DrawMonth 3; DrawWeek 12; DrawDay 20; DrawDayofweek 1; DrawDayofyear -0.9664; , TabularLine DrawMonth 7; DrawWeek 31; DrawDay 31; DrawDayofweek 2; DrawDayofyear 0.2886; ]...\n",
       "Path: datasets/lotto"
      ]
     },
     "execution_count": 106,
     "metadata": {},
     "output_type": "execute_result"
    }
   ],
   "source": [
    "data"
   ]
  },
  {
   "cell_type": "markdown",
   "metadata": {
    "colab_type": "text",
    "id": "-yCl0twwJRjV"
   },
   "source": [
    "### Model"
   ]
  },
  {
   "cell_type": "code",
   "execution_count": 107,
   "metadata": {
    "colab": {
     "base_uri": "https://localhost:8080/",
     "height": 102
    },
    "colab_type": "code",
    "id": "kQnJ0mT9JRjV",
    "outputId": "6ff5a915-7875-4cb9-a36d-6a04a4e078c1"
   },
   "outputs": [
    {
     "name": "stdout",
     "output_type": "stream",
     "text": [
      "9999\n",
      "9.21024036697585\n",
      "9.21024036697585 tensor([0.0000, 9.2102])\n",
      "torch.float32\n"
     ]
    }
   ],
   "source": [
    "print(np.max(train_df[dep_var]))\n",
    "print(np.log(np.max(train_df[dep_var])))\n",
    "max_log_y = np.log(np.max(train_df[dep_var]) * 1.0)\n",
    "y_range = torch.tensor([0, max_log_y], device=defaults.device)\n",
    "print(max_log_y, y_range)\n",
    "print(y_range.dtype)\n",
    "\n",
    "#y_range = torch.tensor([0, 9999], dtype=torch.long, device=defaults.device)\n",
    "#print(y_range)"
   ]
  },
  {
   "cell_type": "code",
   "execution_count": 108,
   "metadata": {
    "colab": {},
    "colab_type": "code",
    "id": "Bm-lBz87JRjW"
   },
   "outputs": [],
   "source": [
    "learn = tabular_learner(data, layers=[1000,500], ps=[0.001,0.01], emb_drop=0.04, \n",
    "                        #y_range=y_range, metrics=accuracy)                        \n",
    "                        y_range=y_range, metrics=exp_rmspe)"
   ]
  },
  {
   "cell_type": "code",
   "execution_count": 109,
   "metadata": {
    "colab": {},
    "colab_type": "code",
    "id": "MQB9Eq2RJRjb"
   },
   "outputs": [],
   "source": [
    "# doc(tabular_learner)"
   ]
  },
  {
   "cell_type": "code",
   "execution_count": 110,
   "metadata": {
    "colab": {
     "base_uri": "https://localhost:8080/",
     "height": 408
    },
    "colab_type": "code",
    "id": "Cmg7aOiiJRjd",
    "outputId": "5e4aa377-fdf2-4a96-b16f-40d0e3f6eaab"
   },
   "outputs": [
    {
     "data": {
      "text/plain": [
       "TabularModel(\n",
       "  (embeds): ModuleList(\n",
       "    (0): Embedding(13, 7)\n",
       "    (1): Embedding(54, 15)\n",
       "    (2): Embedding(32, 11)\n",
       "    (3): Embedding(6, 4)\n",
       "  )\n",
       "  (emb_drop): Dropout(p=0.04)\n",
       "  (bn_cont): BatchNorm1d(1, eps=1e-05, momentum=0.1, affine=True, track_running_stats=True)\n",
       "  (layers): Sequential(\n",
       "    (0): Linear(in_features=38, out_features=1000, bias=True)\n",
       "    (1): ReLU(inplace)\n",
       "    (2): BatchNorm1d(1000, eps=1e-05, momentum=0.1, affine=True, track_running_stats=True)\n",
       "    (3): Dropout(p=0.001)\n",
       "    (4): Linear(in_features=1000, out_features=500, bias=True)\n",
       "    (5): ReLU(inplace)\n",
       "    (6): BatchNorm1d(500, eps=1e-05, momentum=0.1, affine=True, track_running_stats=True)\n",
       "    (7): Dropout(p=0.01)\n",
       "    (8): Linear(in_features=500, out_features=1, bias=True)\n",
       "  )\n",
       ")"
      ]
     },
     "execution_count": 110,
     "metadata": {},
     "output_type": "execute_result"
    }
   ],
   "source": [
    "learn.model"
   ]
  },
  {
   "cell_type": "code",
   "execution_count": 111,
   "metadata": {
    "colab": {
     "base_uri": "https://localhost:8080/",
     "height": 34
    },
    "colab_type": "code",
    "id": "JaZQqsvfJRje",
    "outputId": "e4fc6b5c-5e67-4576-8b77-6d90b8a56ca0"
   },
   "outputs": [
    {
     "data": {
      "text/plain": [
       "1"
      ]
     },
     "execution_count": 111,
     "metadata": {},
     "output_type": "execute_result"
    }
   ],
   "source": [
    "len(data.train_ds.cont_names)"
   ]
  },
  {
   "cell_type": "code",
   "execution_count": 112,
   "metadata": {
    "colab": {
     "base_uri": "https://localhost:8080/",
     "height": 34
    },
    "colab_type": "code",
    "id": "kyT9HU-LJRji",
    "outputId": "bb770ef3-e1e4-4ffa-fd95-7f5a80d254e9"
   },
   "outputs": [
    {
     "name": "stdout",
     "output_type": "stream",
     "text": [
      "LR Finder is complete, type {learner_name}.recorder.plot() to see the graph.\n"
     ]
    }
   ],
   "source": [
    "learn.lr_find()"
   ]
  },
  {
   "cell_type": "code",
   "execution_count": 113,
   "metadata": {
    "colab": {
     "base_uri": "https://localhost:8080/",
     "height": 290
    },
    "colab_type": "code",
    "id": "vAyOUM7wJRjk",
    "outputId": "32f56120-c87a-4db4-8b4b-cc69d8a80c39"
   },
   "outputs": [
    {
     "data": {
      "image/png": "[encoded data removed]",
      "text/plain": [
       "<Figure size 432x288 with 1 Axes>"
      ]
     },
     "metadata": {
      "needs_background": "light"
     },
     "output_type": "display_data"
    }
   ],
   "source": [
    "learn.recorder.plot()"
   ]
  },
  {
   "cell_type": "code",
   "execution_count": 114,
   "metadata": {
    "colab": {
     "base_uri": "https://localhost:8080/",
     "height": 204
    },
    "colab_type": "code",
    "id": "rRqmRng5JRjn",
    "outputId": "3e26360e-b3d3-4e38-ed06-3d69f8718d15"
   },
   "outputs": [
    {
     "data": {
      "text/html": [
       "Total time: 00:25 <p><table style='width:300px; margin-bottom:10px'>\n",
       "  <tr>\n",
       "    <th>epoch</th>\n",
       "    <th>train_loss</th>\n",
       "    <th>valid_loss</th>\n",
       "    <th>exp_rmspe</th>\n",
       "  </tr>\n",
       "  <tr>\n",
       "    <th>1</th>\n",
       "    <th>inf</th>\n",
       "    <th>nan</th>\n",
       "    <th>nan</th>\n",
       "  </tr>\n",
       "</table>\n"
      ],
      "text/plain": [
       "<IPython.core.display.HTML object>"
      ]
     },
     "metadata": {},
     "output_type": "display_data"
    }
   ],
   "source": [
    "learn.fit_one_cycle(1, 1e-04, wd=0.2)"
   ]
  },
  {
   "cell_type": "code",
   "execution_count": null,
   "metadata": {
    "colab": {},
    "colab_type": "code",
    "id": "IDxVjdaoJRjp"
   },
   "outputs": [],
   "source": [
    "learn.save('1')"
   ]
  },
  {
   "cell_type": "code",
   "execution_count": null,
   "metadata": {
    "colab": {
     "base_uri": "https://localhost:8080/",
     "height": 164
    },
    "colab_type": "code",
    "id": "VsgKgrIDc1jv",
    "outputId": "86ce45b3-2404-44bc-e156-dfefe44b4586"
   },
   "outputs": [
    {
     "ename": "TypeError",
     "evalue": "ignored",
     "output_type": "error",
     "traceback": [
      "\u001b[0;31m---------------------------------------------------------------------------\u001b[0m",
      "\u001b[0;31mTypeError\u001b[0m                                 Traceback (most recent call last)",
      "\u001b[0;32m<ipython-input-143-0b26919095ad>\u001b[0m in \u001b[0;36m<module>\u001b[0;34m()\u001b[0m\n\u001b[0;32m----> 1\u001b[0;31m \u001b[0mlearn\u001b[0m\u001b[0;34m.\u001b[0m\u001b[0mrecorder\u001b[0m\u001b[0;34m.\u001b[0m\u001b[0mplot_losses\u001b[0m\u001b[0;34m(\u001b[0m\u001b[0mlast\u001b[0m\u001b[0;34m=\u001b[0m\u001b[0;34m-\u001b[0m\u001b[0;36m1\u001b[0m\u001b[0;34m)\u001b[0m\u001b[0;34m\u001b[0m\u001b[0;34m\u001b[0m\u001b[0m\n\u001b[0m",
      "\u001b[0;31mTypeError\u001b[0m: plot_losses() got an unexpected keyword argument 'last'"
     ]
    }
   ],
   "source": [
    "learn.recorder.plot_losses(last=-1)"
   ]
  },
  {
   "cell_type": "code",
   "execution_count": null,
   "metadata": {
    "colab": {},
    "colab_type": "code",
    "id": "mM2ORUowc1jw"
   },
   "outputs": [],
   "source": []
  }
 ],
 "metadata": {
  "accelerator": "GPU",
  "colab": {
   "include_colab_link": true,
   "name": "lotto.ipynb",
   "provenance": [],
   "version": "0.3.2"
  },
  "kernelspec": {
   "display_name": "Python 3",
   "language": "python",
   "name": "python3"
  },
  "language_info": {
   "codemirror_mode": {
    "name": "ipython",
    "version": 3
   },
   "file_extension": ".py",
   "mimetype": "text/x-python",
   "name": "python",
   "nbconvert_exporter": "python",
   "pygments_lexer": "ipython3",
   "version": "3.7.2"
  }
 },
 "nbformat": 4,
 "nbformat_minor": 2
}

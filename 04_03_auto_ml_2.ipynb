{
  "nbformat": 4,
  "nbformat_minor": 0,
  "metadata": {
    "accelerator": "GPU",
    "colab": {
      "name": "04_02_automated_machine_learning.ipynb",
      "provenance": [],
      "toc_visible": true,
      "include_colab_link": true
    },
    "kernelspec": {
      "display_name": "Python 3",
      "language": "python",
      "name": "python3"
    },
    "language_info": {
      "codemirror_mode": {
        "name": "ipython",
        "version": 3
      },
      "file_extension": ".py",
      "mimetype": "text/x-python",
      "name": "python",
      "nbconvert_exporter": "python",
      "pygments_lexer": "ipython3",
      "version": "3.7.2"
    }
  },
  "cells": [
    {
      "cell_type": "markdown",
      "metadata": {
        "id": "view-in-github",
        "colab_type": "text"
      },
      "source": [
        "<a href=\"https://colab.research.google.com/github/mengwangk/dl-projects/blob/master/04_03_auto_ml_2.ipynb\" target=\"_parent\"><img src=\"https://colab.research.google.com/assets/colab-badge.svg\" alt=\"Open In Colab\"/></a>"
      ]
    },
    {
      "cell_type": "markdown",
      "metadata": {
        "colab_type": "text",
        "id": "4hyoPGdjpqa_"
      },
      "source": [
        "# Automated ML"
      ]
    },
    {
      "cell_type": "code",
      "metadata": {
        "colab_type": "code",
        "id": "SLxr2k_ue8yq",
        "colab": {}
      },
      "source": [
        "COLAB = True\n",
        "\n",
        "DATASET_NAME = '4D.zip'\n",
        "\n",
        "FEATURE_DATASET_PREFIX = 'feature_matrix_d2'"
      ],
      "execution_count": 0,
      "outputs": []
    },
    {
      "cell_type": "code",
      "metadata": {
        "colab_type": "code",
        "id": "oy5ww2zRfFGG",
        "outputId": "1cf6f548-4862-4741-a2a3-45bf1c1927da",
        "colab": {
          "base_uri": "https://localhost:8080/",
          "height": 136
        }
      },
      "source": [
        "if COLAB:\n",
        "  # !sudo apt-get install git-lfs && git lfs install\n",
        "  !rm -rf dl-projects\n",
        "  !git clone https://github.com/mengwangk/dl-projects\n",
        "  #!cd dl-projects && ls -l --block-size=M"
      ],
      "execution_count": 2,
      "outputs": [
        {
          "output_type": "stream",
          "text": [
            "Cloning into 'dl-projects'...\n",
            "remote: Enumerating objects: 50, done.\u001b[K\n",
            "remote: Counting objects:   2% (1/50)\u001b[K\rremote: Counting objects:   4% (2/50)\u001b[K\rremote: Counting objects:   6% (3/50)\u001b[K\rremote: Counting objects:   8% (4/50)\u001b[K\rremote: Counting objects:  10% (5/50)\u001b[K\rremote: Counting objects:  12% (6/50)\u001b[K\rremote: Counting objects:  14% (7/50)\u001b[K\rremote: Counting objects:  16% (8/50)\u001b[K\rremote: Counting objects:  18% (9/50)\u001b[K\rremote: Counting objects:  20% (10/50)\u001b[K\rremote: Counting objects:  22% (11/50)\u001b[K\rremote: Counting objects:  24% (12/50)\u001b[K\rremote: Counting objects:  26% (13/50)\u001b[K\rremote: Counting objects:  28% (14/50)\u001b[K\rremote: Counting objects:  30% (15/50)\u001b[K\rremote: Counting objects:  32% (16/50)\u001b[K\rremote: Counting objects:  34% (17/50)\u001b[K\rremote: Counting objects:  36% (18/50)\u001b[K\rremote: Counting objects:  38% (19/50)\u001b[K\rremote: Counting objects:  40% (20/50)\u001b[K\rremote: Counting objects:  42% (21/50)\u001b[K\rremote: Counting objects:  44% (22/50)\u001b[K\rremote: Counting objects:  46% (23/50)\u001b[K\rremote: Counting objects:  48% (24/50)\u001b[K\rremote: Counting objects:  50% (25/50)\u001b[K\rremote: Counting objects:  52% (26/50)\u001b[K\rremote: Counting objects:  54% (27/50)\u001b[K\rremote: Counting objects:  56% (28/50)\u001b[K\rremote: Counting objects:  58% (29/50)\u001b[K\rremote: Counting objects:  60% (30/50)\u001b[K\rremote: Counting objects:  62% (31/50)\u001b[K\rremote: Counting objects:  64% (32/50)\u001b[K\rremote: Counting objects:  66% (33/50)\u001b[K\rremote: Counting objects:  68% (34/50)\u001b[K\rremote: Counting objects:  70% (35/50)\u001b[K\rremote: Counting objects:  72% (36/50)\u001b[K\rremote: Counting objects:  74% (37/50)\u001b[K\rremote: Counting objects:  76% (38/50)\u001b[K\rremote: Counting objects:  78% (39/50)\u001b[K\rremote: Counting objects:  80% (40/50)\u001b[K\rremote: Counting objects:  82% (41/50)\u001b[K\rremote: Counting objects:  84% (42/50)\u001b[K\rremote: Counting objects:  86% (43/50)\u001b[K\rremote: Counting objects:  88% (44/50)\u001b[K\rremote: Counting objects:  90% (45/50)\u001b[K\rremote: Counting objects:  92% (46/50)\u001b[K\rremote: Counting objects:  94% (47/50)\u001b[K\rremote: Counting objects:  96% (48/50)\u001b[K\rremote: Counting objects:  98% (49/50)\u001b[K\rremote: Counting objects: 100% (50/50)\u001b[K\rremote: Counting objects: 100% (50/50), done.\u001b[K\n",
            "remote: Compressing objects: 100% (49/49), done.\u001b[K\n",
            "remote: Total 831 (delta 29), reused 2 (delta 1), pack-reused 781\u001b[K\n",
            "Receiving objects: 100% (831/831), 68.80 MiB | 24.52 MiB/s, done.\n",
            "Resolving deltas: 100% (477/477), done.\n"
          ],
          "name": "stdout"
        }
      ]
    },
    {
      "cell_type": "code",
      "metadata": {
        "colab_type": "code",
        "id": "G2xin10SfozR",
        "colab": {}
      },
      "source": [
        "if COLAB:\n",
        "  !cp dl-projects/utils* .\n",
        "  !cp dl-projects/preprocess* ."
      ],
      "execution_count": 0,
      "outputs": []
    },
    {
      "cell_type": "code",
      "metadata": {
        "colab_type": "code",
        "id": "fC2-l3JBpqbE",
        "colab": {}
      },
      "source": [
        "%reload_ext autoreload\n",
        "%autoreload 2\n",
        "\n",
        "%matplotlib inline"
      ],
      "execution_count": 0,
      "outputs": []
    },
    {
      "cell_type": "code",
      "metadata": {
        "colab_type": "code",
        "id": "TP7V_IzepqbK",
        "colab": {}
      },
      "source": [
        "import numpy as np\n",
        "import pandas as pd\n",
        "import seaborn as sns\n",
        "import matplotlib.pyplot as plt\n",
        "import scipy.stats as ss\n",
        "import math \n",
        "import matplotlib\n",
        "\n",
        "from scipy import stats\n",
        "from collections import Counter\n",
        "from pathlib import Path\n",
        "\n",
        "plt.style.use('fivethirtyeight')\n",
        "\n",
        "sns.set(style=\"ticks\")\n",
        "\n",
        "# Automated feature engineering\n",
        "import featuretools as ft\n",
        "\n",
        "import warnings\n",
        "warnings.filterwarnings('ignore')\n",
        "\n",
        "# Machine learning\n",
        "from sklearn.pipeline import Pipeline\n",
        "from sklearn.preprocessing import Imputer, MinMaxScaler, StandardScaler\n",
        "from sklearn.impute import SimpleImputer\n",
        "from sklearn.metrics import precision_score, recall_score, f1_score, confusion_matrix, roc_auc_score, precision_recall_curve, roc_curve, mean_squared_error, accuracy_score, average_precision_score\n",
        "from sklearn.model_selection import train_test_split, cross_val_score\n",
        "#from sklearn.ensemble import RandomForestClassifier\n",
        "#from scikitplot.plotters import plot_precision_recall_curve\n",
        "\n",
        "from IPython.display import display\n",
        "\n",
        "from utils import *\n",
        "from preprocess import *\n",
        "\n",
        "# The Answer to the Ultimate Question of Life, the Universe, and Everything.\n",
        "np.random.seed(42)"
      ],
      "execution_count": 0,
      "outputs": []
    },
    {
      "cell_type": "code",
      "metadata": {
        "colab_type": "code",
        "id": "3bFT5CoxpqbP",
        "outputId": "3370f9bb-591b-4f52-d565-9e4b3554472d",
        "colab": {
          "base_uri": "https://localhost:8080/",
          "height": 102
        }
      },
      "source": [
        "%aimport"
      ],
      "execution_count": 6,
      "outputs": [
        {
          "output_type": "stream",
          "text": [
            "Modules to reload:\n",
            "all-except-skipped\n",
            "\n",
            "Modules to skip:\n",
            "\n"
          ],
          "name": "stdout"
        }
      ]
    },
    {
      "cell_type": "markdown",
      "metadata": {
        "colab_type": "text",
        "id": "3E16jPVPpqbV"
      },
      "source": [
        "## Preparation"
      ]
    },
    {
      "cell_type": "code",
      "metadata": {
        "colab_type": "code",
        "id": "U421BuhtfYS7",
        "outputId": "2590bec0-ec18-43a2-9eb5-26798d5e2b4e",
        "colab": {
          "base_uri": "https://localhost:8080/",
          "height": 34
        }
      },
      "source": [
        "if COLAB:\n",
        "  from google.colab import drive\n",
        "  drive.mount('/content/gdrive')\n",
        "  GDRIVE_DATASET_FOLDER = Path('gdrive/My Drive/datasets/')"
      ],
      "execution_count": 7,
      "outputs": [
        {
          "output_type": "stream",
          "text": [
            "Drive already mounted at /content/gdrive; to attempt to forcibly remount, call drive.mount(\"/content/gdrive\", force_remount=True).\n"
          ],
          "name": "stdout"
        }
      ]
    },
    {
      "cell_type": "code",
      "metadata": {
        "colab_type": "code",
        "id": "9IgnETKkpqbX",
        "outputId": "41f66d20-ef57-40a3-802e-66a1ad329fc0",
        "colab": {
          "base_uri": "https://localhost:8080/",
          "height": 170
        }
      },
      "source": [
        "if COLAB:\n",
        "  DATASET_PATH = GDRIVE_DATASET_FOLDER\n",
        "  ORIGIN_DATASET_PATH = Path('dl-projects/datasets')\n",
        "else:\n",
        "  DATASET_PATH = Path(\"datasets\")\n",
        "  ORIGIN_DATASET_PATH = Path('datasets')\n",
        "\n",
        "DATASET = DATASET_PATH/f\"{FEATURE_DATASET_PREFIX}.pkl\"\n",
        "ORIGIN_DATASET = ORIGIN_DATASET_PATH/DATASET_NAME\n",
        "\n",
        "if COLAB:\n",
        "  !ls -l gdrive/\"My Drive\"/datasets/ --block-size=M\n",
        "  !ls -l dl-projects/datasets --block-size=M"
      ],
      "execution_count": 8,
      "outputs": [
        {
          "output_type": "stream",
          "text": [
            "total 3954M\n",
            "-rw------- 1 root root  407M Dec 30 05:00 feature_matrix_2.csv\n",
            "-rw------- 1 root root  428M Dec 30 05:01 feature_matrix_2.pkl\n",
            "-rw------- 1 root root  141M Dec 27 08:27 feature_matrix.csv\n",
            "-rw------- 1 root root 1637M Jan  4 07:31 feature_matrix_d2.csv\n",
            "-rw------- 1 root root 1166M Jan  4 07:35 feature_matrix_d2.pkl\n",
            "-rw------- 1 root root  176M Dec 27 08:28 feature_matrix.pkl\n",
            "total 1M\n",
            "-rw-r--r-- 1 root root 1M Jan  4 15:49 4D.zip\n"
          ],
          "name": "stdout"
        }
      ]
    },
    {
      "cell_type": "code",
      "metadata": {
        "colab_type": "code",
        "id": "urQTD6DQNutw",
        "colab": {}
      },
      "source": [
        "#data = pd.read_csv(DATASET, header=0, sep=',', quotechar='\"', parse_dates=['time'])\n",
        "data = pd.read_pickle(DATASET)\n",
        "origin_data = format_tabular(ORIGIN_DATASET)"
      ],
      "execution_count": 0,
      "outputs": []
    },
    {
      "cell_type": "code",
      "metadata": {
        "colab_type": "code",
        "id": "4BjrERxV8WuT",
        "outputId": "72de8062-5635-4f45-96fb-61a008dae3a1",
        "colab": {
          "base_uri": "https://localhost:8080/",
          "height": 102
        }
      },
      "source": [
        "data.info()"
      ],
      "execution_count": 10,
      "outputs": [
        {
          "output_type": "stream",
          "text": [
            "<class 'pandas.core.frame.DataFrame'>\n",
            "RangeIndex: 719972 entries, 0 to 719971\n",
            "Columns: 221 entries, NumberId to year\n",
            "dtypes: datetime64[ns](1), float64(146), int64(64), uint8(10)\n",
            "memory usage: 1.1 GB\n"
          ],
          "name": "stdout"
        }
      ]
    },
    {
      "cell_type": "markdown",
      "metadata": {
        "colab_type": "text",
        "id": "vOYlp-8Br61r"
      },
      "source": [
        "## Exploratory Data Analysis"
      ]
    },
    {
      "cell_type": "code",
      "metadata": {
        "colab_type": "code",
        "id": "JnQXyVqng5Cm",
        "colab": {}
      },
      "source": [
        "feature_matrix = data"
      ],
      "execution_count": 0,
      "outputs": []
    },
    {
      "cell_type": "code",
      "metadata": {
        "colab_type": "code",
        "id": "fa1Oc3LiiCIY",
        "outputId": "110d5db5-ccb7-4090-b8be-5a7e6cba3b85",
        "colab": {
          "base_uri": "https://localhost:8080/",
          "height": 238
        }
      },
      "source": [
        "display(feature_matrix.columns)"
      ],
      "execution_count": 12,
      "outputs": [
        {
          "output_type": "display_data",
          "data": {
            "text/plain": [
              "Index(['NumberId', 'time', 'STD(Results.DrawNo)', 'STD(Results.LuckyNo)',\n",
              "       'STD(Results.TotalStrike)', 'MAX(Results.DrawNo)',\n",
              "       'MAX(Results.LuckyNo)', 'MAX(Results.TotalStrike)',\n",
              "       'MIN(Results.DrawNo)', 'MIN(Results.LuckyNo)',\n",
              "       ...\n",
              "       'MODE(Results.PrizeType)_3rdPrizeNo',\n",
              "       'MODE(Results.PrizeType)_Consolation',\n",
              "       'MODE(Results.PrizeType)_Special', 'LAST(Results.PrizeType)_1stPrizeNo',\n",
              "       'LAST(Results.PrizeType)_2ndPrizeNo',\n",
              "       'LAST(Results.PrizeType)_3rdPrizeNo',\n",
              "       'LAST(Results.PrizeType)_Consolation',\n",
              "       'LAST(Results.PrizeType)_Special', 'month', 'year'],\n",
              "      dtype='object', length=221)"
            ]
          },
          "metadata": {
            "tags": []
          }
        }
      ]
    },
    {
      "cell_type": "code",
      "metadata": {
        "colab_type": "code",
        "id": "NwxxOED04A8X",
        "outputId": "7e1d0691-84bd-4616-cba5-145e91458f36",
        "colab": {
          "base_uri": "https://localhost:8080/",
          "height": 307
        }
      },
      "source": [
        "display(feature_matrix.head(4))"
      ],
      "execution_count": 13,
      "outputs": [
        {
          "output_type": "display_data",
          "data": {
            "text/html": [
              "<div>\n",
              "<style scoped>\n",
              "    .dataframe tbody tr th:only-of-type {\n",
              "        vertical-align: middle;\n",
              "    }\n",
              "\n",
              "    .dataframe tbody tr th {\n",
              "        vertical-align: top;\n",
              "    }\n",
              "\n",
              "    .dataframe thead th {\n",
              "        text-align: right;\n",
              "    }\n",
              "</style>\n",
              "<table border=\"1\" class=\"dataframe\">\n",
              "  <thead>\n",
              "    <tr style=\"text-align: right;\">\n",
              "      <th></th>\n",
              "      <th>NumberId</th>\n",
              "      <th>time</th>\n",
              "      <th>STD(Results.DrawNo)</th>\n",
              "      <th>STD(Results.LuckyNo)</th>\n",
              "      <th>STD(Results.TotalStrike)</th>\n",
              "      <th>MAX(Results.DrawNo)</th>\n",
              "      <th>MAX(Results.LuckyNo)</th>\n",
              "      <th>MAX(Results.TotalStrike)</th>\n",
              "      <th>MIN(Results.DrawNo)</th>\n",
              "      <th>MIN(Results.LuckyNo)</th>\n",
              "      <th>MIN(Results.TotalStrike)</th>\n",
              "      <th>MEAN(Results.DrawNo)</th>\n",
              "      <th>MEAN(Results.LuckyNo)</th>\n",
              "      <th>MEAN(Results.TotalStrike)</th>\n",
              "      <th>SKEW(Results.DrawNo)</th>\n",
              "      <th>SKEW(Results.LuckyNo)</th>\n",
              "      <th>SKEW(Results.TotalStrike)</th>\n",
              "      <th>LAST(Results.DrawNo)</th>\n",
              "      <th>LAST(Results.LuckyNo)</th>\n",
              "      <th>LAST(Results.TotalStrike)</th>\n",
              "      <th>LAST(Results.results_index)</th>\n",
              "      <th>AVG_TIME_BETWEEN(Results.DrawDate)</th>\n",
              "      <th>COUNT(Results)</th>\n",
              "      <th>SUM(Results.DrawNo)</th>\n",
              "      <th>SUM(Results.LuckyNo)</th>\n",
              "      <th>SUM(Results.TotalStrike)</th>\n",
              "      <th>TREND(Results.DrawNo, DrawDate)</th>\n",
              "      <th>TREND(Results.LuckyNo, DrawDate)</th>\n",
              "      <th>TREND(Results.TotalStrike, DrawDate)</th>\n",
              "      <th>NUM_UNIQUE(Results.PrizeType)</th>\n",
              "      <th>DAY(first_Results_time)</th>\n",
              "      <th>MONTH(first_Results_time)</th>\n",
              "      <th>HOUR(first_Results_time)</th>\n",
              "      <th>TIME_SINCE(first_Results_time)</th>\n",
              "      <th>STD(Results.PERCENTILE(TotalStrike))</th>\n",
              "      <th>STD(Results.CUM_MEAN(LuckyNo))</th>\n",
              "      <th>STD(Results.CUM_SUM(TotalStrike))</th>\n",
              "      <th>STD(Results.CUM_SUM(DrawNo))</th>\n",
              "      <th>STD(Results.CUM_SUM(LuckyNo))</th>\n",
              "      <th>STD(Results.PERCENTILE(DrawNo))</th>\n",
              "      <th>...</th>\n",
              "      <th>PERCENTILE(SUM(Results.DrawNo))</th>\n",
              "      <th>PERCENTILE(SKEW(Results.DrawNo))</th>\n",
              "      <th>PERCENTILE(MAX(Results.DrawNo))</th>\n",
              "      <th>PERCENTILE(SUM(Results.TotalStrike))</th>\n",
              "      <th>PERCENTILE(MAX(Results.TotalStrike))</th>\n",
              "      <th>PERCENTILE(TREND(Results.LuckyNo, DrawDate))</th>\n",
              "      <th>PERCENTILE(MAX(Results.LuckyNo))</th>\n",
              "      <th>PERCENTILE(NUM_UNIQUE(Results.PrizeType))</th>\n",
              "      <th>PERCENTILE(LAST(Results.DrawNo))</th>\n",
              "      <th>PERCENTILE(TREND(Results.DrawNo, DrawDate))</th>\n",
              "      <th>PERCENTILE(MEAN(Results.DrawNo))</th>\n",
              "      <th>PERCENTILE(MIN(Results.DrawNo))</th>\n",
              "      <th>PERCENTILE(MEAN(Results.LuckyNo))</th>\n",
              "      <th>PERCENTILE(SUM(Results.LuckyNo))</th>\n",
              "      <th>PERCENTILE(COUNT(Results))</th>\n",
              "      <th>PERCENTILE(LAST(Results.TotalStrike))</th>\n",
              "      <th>PERCENTILE(TREND(Results.TotalStrike, DrawDate))</th>\n",
              "      <th>PERCENTILE(MIN(Results.TotalStrike))</th>\n",
              "      <th>PERCENTILE(LAST(Results.LuckyNo))</th>\n",
              "      <th>PERCENTILE(SKEW(Results.TotalStrike))</th>\n",
              "      <th>PERCENTILE(MIN(Results.LuckyNo))</th>\n",
              "      <th>PERCENTILE(STD(Results.DrawNo))</th>\n",
              "      <th>PERCENTILE(MEAN(Results.TotalStrike))</th>\n",
              "      <th>PERCENTILE(STD(Results.LuckyNo))</th>\n",
              "      <th>PERCENTILE(AVG_TIME_BETWEEN(Results.DrawDate))</th>\n",
              "      <th>PERCENTILE(STD(Results.TotalStrike))</th>\n",
              "      <th>TotalStrike</th>\n",
              "      <th>Label</th>\n",
              "      <th>MODE(Results.PrizeType)_1stPrizeNo</th>\n",
              "      <th>MODE(Results.PrizeType)_2ndPrizeNo</th>\n",
              "      <th>MODE(Results.PrizeType)_3rdPrizeNo</th>\n",
              "      <th>MODE(Results.PrizeType)_Consolation</th>\n",
              "      <th>MODE(Results.PrizeType)_Special</th>\n",
              "      <th>LAST(Results.PrizeType)_1stPrizeNo</th>\n",
              "      <th>LAST(Results.PrizeType)_2ndPrizeNo</th>\n",
              "      <th>LAST(Results.PrizeType)_3rdPrizeNo</th>\n",
              "      <th>LAST(Results.PrizeType)_Consolation</th>\n",
              "      <th>LAST(Results.PrizeType)_Special</th>\n",
              "      <th>month</th>\n",
              "      <th>year</th>\n",
              "    </tr>\n",
              "  </thead>\n",
              "  <tbody>\n",
              "    <tr>\n",
              "      <th>0</th>\n",
              "      <td>45</td>\n",
              "      <td>2014-01-01</td>\n",
              "      <td>112624.014707</td>\n",
              "      <td>0.0</td>\n",
              "      <td>0.0</td>\n",
              "      <td>380012</td>\n",
              "      <td>45</td>\n",
              "      <td>1</td>\n",
              "      <td>97695</td>\n",
              "      <td>45</td>\n",
              "      <td>1</td>\n",
              "      <td>279760.909091</td>\n",
              "      <td>45</td>\n",
              "      <td>1</td>\n",
              "      <td>-0.930399</td>\n",
              "      <td>0.0</td>\n",
              "      <td>0.0</td>\n",
              "      <td>380012</td>\n",
              "      <td>45</td>\n",
              "      <td>1</td>\n",
              "      <td>78016</td>\n",
              "      <td>5.347296e+07</td>\n",
              "      <td>11</td>\n",
              "      <td>3077370</td>\n",
              "      <td>495</td>\n",
              "      <td>11</td>\n",
              "      <td>45.560053</td>\n",
              "      <td>0.0</td>\n",
              "      <td>0.0</td>\n",
              "      <td>3</td>\n",
              "      <td>23</td>\n",
              "      <td>12</td>\n",
              "      <td>0</td>\n",
              "      <td>568857600.0</td>\n",
              "      <td>0.0</td>\n",
              "      <td>5.101631</td>\n",
              "      <td>25901.838735</td>\n",
              "      <td>6.189125e+09</td>\n",
              "      <td>1.288990e+08</td>\n",
              "      <td>0.314047</td>\n",
              "      <td>...</td>\n",
              "      <td>0.954191</td>\n",
              "      <td>0.088030</td>\n",
              "      <td>0.641928</td>\n",
              "      <td>0.826365</td>\n",
              "      <td>0.50005</td>\n",
              "      <td>0.500051</td>\n",
              "      <td>0.004601</td>\n",
              "      <td>0.580366</td>\n",
              "      <td>0.641928</td>\n",
              "      <td>0.751189</td>\n",
              "      <td>0.939988</td>\n",
              "      <td>0.732947</td>\n",
              "      <td>0.004601</td>\n",
              "      <td>0.008102</td>\n",
              "      <td>0.826365</td>\n",
              "      <td>0.50005</td>\n",
              "      <td>0.500051</td>\n",
              "      <td>0.50005</td>\n",
              "      <td>0.004601</td>\n",
              "      <td>0.500051</td>\n",
              "      <td>0.004601</td>\n",
              "      <td>0.701934</td>\n",
              "      <td>0.50005</td>\n",
              "      <td>0.50005</td>\n",
              "      <td>0.170524</td>\n",
              "      <td>0.50005</td>\n",
              "      <td>1.0</td>\n",
              "      <td>1</td>\n",
              "      <td>0</td>\n",
              "      <td>0</td>\n",
              "      <td>0</td>\n",
              "      <td>1</td>\n",
              "      <td>0</td>\n",
              "      <td>1</td>\n",
              "      <td>0</td>\n",
              "      <td>0</td>\n",
              "      <td>0</td>\n",
              "      <td>0</td>\n",
              "      <td>1</td>\n",
              "      <td>2014</td>\n",
              "    </tr>\n",
              "    <tr>\n",
              "      <th>1</th>\n",
              "      <td>64</td>\n",
              "      <td>2014-01-01</td>\n",
              "      <td>120519.321745</td>\n",
              "      <td>0.0</td>\n",
              "      <td>0.0</td>\n",
              "      <td>375112</td>\n",
              "      <td>64</td>\n",
              "      <td>1</td>\n",
              "      <td>61593</td>\n",
              "      <td>64</td>\n",
              "      <td>1</td>\n",
              "      <td>230353.500000</td>\n",
              "      <td>64</td>\n",
              "      <td>1</td>\n",
              "      <td>-0.167286</td>\n",
              "      <td>0.0</td>\n",
              "      <td>0.0</td>\n",
              "      <td>375112</td>\n",
              "      <td>64</td>\n",
              "      <td>1</td>\n",
              "      <td>76900</td>\n",
              "      <td>1.198022e+08</td>\n",
              "      <td>6</td>\n",
              "      <td>1382121</td>\n",
              "      <td>384</td>\n",
              "      <td>6</td>\n",
              "      <td>45.316013</td>\n",
              "      <td>0.0</td>\n",
              "      <td>0.0</td>\n",
              "      <td>3</td>\n",
              "      <td>2</td>\n",
              "      <td>9</td>\n",
              "      <td>0</td>\n",
              "      <td>641606400.0</td>\n",
              "      <td>0.0</td>\n",
              "      <td>8.481822</td>\n",
              "      <td>27713.008869</td>\n",
              "      <td>6.313569e+09</td>\n",
              "      <td>1.379830e+08</td>\n",
              "      <td>0.336035</td>\n",
              "      <td>...</td>\n",
              "      <td>0.285457</td>\n",
              "      <td>0.389659</td>\n",
              "      <td>0.572615</td>\n",
              "      <td>0.226895</td>\n",
              "      <td>0.50005</td>\n",
              "      <td>0.500051</td>\n",
              "      <td>0.006501</td>\n",
              "      <td>0.580366</td>\n",
              "      <td>0.572615</td>\n",
              "      <td>0.567641</td>\n",
              "      <td>0.609822</td>\n",
              "      <td>0.378876</td>\n",
              "      <td>0.006501</td>\n",
              "      <td>0.006501</td>\n",
              "      <td>0.226895</td>\n",
              "      <td>0.50005</td>\n",
              "      <td>0.500051</td>\n",
              "      <td>0.50005</td>\n",
              "      <td>0.006501</td>\n",
              "      <td>0.500051</td>\n",
              "      <td>0.006501</td>\n",
              "      <td>0.826070</td>\n",
              "      <td>0.50005</td>\n",
              "      <td>0.50005</td>\n",
              "      <td>0.884080</td>\n",
              "      <td>0.50005</td>\n",
              "      <td>1.0</td>\n",
              "      <td>1</td>\n",
              "      <td>0</td>\n",
              "      <td>0</td>\n",
              "      <td>0</td>\n",
              "      <td>0</td>\n",
              "      <td>1</td>\n",
              "      <td>0</td>\n",
              "      <td>0</td>\n",
              "      <td>0</td>\n",
              "      <td>1</td>\n",
              "      <td>0</td>\n",
              "      <td>1</td>\n",
              "      <td>2014</td>\n",
              "    </tr>\n",
              "    <tr>\n",
              "      <th>2</th>\n",
              "      <td>81</td>\n",
              "      <td>2014-01-01</td>\n",
              "      <td>113967.559506</td>\n",
              "      <td>0.0</td>\n",
              "      <td>0.0</td>\n",
              "      <td>358811</td>\n",
              "      <td>81</td>\n",
              "      <td>1</td>\n",
              "      <td>41792</td>\n",
              "      <td>81</td>\n",
              "      <td>1</td>\n",
              "      <td>211827.500000</td>\n",
              "      <td>81</td>\n",
              "      <td>1</td>\n",
              "      <td>-0.543717</td>\n",
              "      <td>0.0</td>\n",
              "      <td>0.0</td>\n",
              "      <td>358811</td>\n",
              "      <td>81</td>\n",
              "      <td>1</td>\n",
              "      <td>73156</td>\n",
              "      <td>8.715291e+07</td>\n",
              "      <td>8</td>\n",
              "      <td>1694620</td>\n",
              "      <td>648</td>\n",
              "      <td>8</td>\n",
              "      <td>44.679995</td>\n",
              "      <td>0.0</td>\n",
              "      <td>0.0</td>\n",
              "      <td>2</td>\n",
              "      <td>28</td>\n",
              "      <td>5</td>\n",
              "      <td>0</td>\n",
              "      <td>681523200.0</td>\n",
              "      <td>0.0</td>\n",
              "      <td>31.435416</td>\n",
              "      <td>26209.269549</td>\n",
              "      <td>5.083894e+09</td>\n",
              "      <td>1.304944e+08</td>\n",
              "      <td>0.317785</td>\n",
              "      <td>...</td>\n",
              "      <td>0.458742</td>\n",
              "      <td>0.198017</td>\n",
              "      <td>0.397880</td>\n",
              "      <td>0.490798</td>\n",
              "      <td>0.50005</td>\n",
              "      <td>0.500051</td>\n",
              "      <td>0.008202</td>\n",
              "      <td>0.192488</td>\n",
              "      <td>0.397880</td>\n",
              "      <td>0.129313</td>\n",
              "      <td>0.415433</td>\n",
              "      <td>0.023955</td>\n",
              "      <td>0.008202</td>\n",
              "      <td>0.010202</td>\n",
              "      <td>0.490798</td>\n",
              "      <td>0.50005</td>\n",
              "      <td>0.500051</td>\n",
              "      <td>0.50005</td>\n",
              "      <td>0.008202</td>\n",
              "      <td>0.500051</td>\n",
              "      <td>0.008202</td>\n",
              "      <td>0.726280</td>\n",
              "      <td>0.50005</td>\n",
              "      <td>0.50005</td>\n",
              "      <td>0.678690</td>\n",
              "      <td>0.50005</td>\n",
              "      <td>1.0</td>\n",
              "      <td>1</td>\n",
              "      <td>0</td>\n",
              "      <td>0</td>\n",
              "      <td>0</td>\n",
              "      <td>1</td>\n",
              "      <td>0</td>\n",
              "      <td>0</td>\n",
              "      <td>0</td>\n",
              "      <td>0</td>\n",
              "      <td>0</td>\n",
              "      <td>1</td>\n",
              "      <td>1</td>\n",
              "      <td>2014</td>\n",
              "    </tr>\n",
              "    <tr>\n",
              "      <th>3</th>\n",
              "      <td>93</td>\n",
              "      <td>2014-01-01</td>\n",
              "      <td>127901.309529</td>\n",
              "      <td>0.0</td>\n",
              "      <td>0.0</td>\n",
              "      <td>363111</td>\n",
              "      <td>93</td>\n",
              "      <td>1</td>\n",
              "      <td>41892</td>\n",
              "      <td>93</td>\n",
              "      <td>1</td>\n",
              "      <td>181780.400000</td>\n",
              "      <td>93</td>\n",
              "      <td>1</td>\n",
              "      <td>0.469604</td>\n",
              "      <td>0.0</td>\n",
              "      <td>0.0</td>\n",
              "      <td>363111</td>\n",
              "      <td>93</td>\n",
              "      <td>1</td>\n",
              "      <td>74151</td>\n",
              "      <td>1.543536e+08</td>\n",
              "      <td>5</td>\n",
              "      <td>908902</td>\n",
              "      <td>465</td>\n",
              "      <td>5</td>\n",
              "      <td>44.856697</td>\n",
              "      <td>0.0</td>\n",
              "      <td>0.0</td>\n",
              "      <td>2</td>\n",
              "      <td>31</td>\n",
              "      <td>5</td>\n",
              "      <td>0</td>\n",
              "      <td>681264000.0</td>\n",
              "      <td>0.0</td>\n",
              "      <td>26.262759</td>\n",
              "      <td>29422.852739</td>\n",
              "      <td>6.054084e+09</td>\n",
              "      <td>1.465251e+08</td>\n",
              "      <td>0.356650</td>\n",
              "      <td>...</td>\n",
              "      <td>0.088318</td>\n",
              "      <td>0.768188</td>\n",
              "      <td>0.437788</td>\n",
              "      <td>0.127726</td>\n",
              "      <td>0.50005</td>\n",
              "      <td>0.500051</td>\n",
              "      <td>0.009402</td>\n",
              "      <td>0.192488</td>\n",
              "      <td>0.437788</td>\n",
              "      <td>0.205808</td>\n",
              "      <td>0.156731</td>\n",
              "      <td>0.026105</td>\n",
              "      <td>0.009402</td>\n",
              "      <td>0.007702</td>\n",
              "      <td>0.127726</td>\n",
              "      <td>0.50005</td>\n",
              "      <td>0.500051</td>\n",
              "      <td>0.50005</td>\n",
              "      <td>0.009402</td>\n",
              "      <td>0.500051</td>\n",
              "      <td>0.009402</td>\n",
              "      <td>0.903016</td>\n",
              "      <td>0.50005</td>\n",
              "      <td>0.50005</td>\n",
              "      <td>0.952309</td>\n",
              "      <td>0.50005</td>\n",
              "      <td>1.0</td>\n",
              "      <td>1</td>\n",
              "      <td>0</td>\n",
              "      <td>0</td>\n",
              "      <td>0</td>\n",
              "      <td>1</td>\n",
              "      <td>0</td>\n",
              "      <td>0</td>\n",
              "      <td>0</td>\n",
              "      <td>0</td>\n",
              "      <td>0</td>\n",
              "      <td>1</td>\n",
              "      <td>1</td>\n",
              "      <td>2014</td>\n",
              "    </tr>\n",
              "  </tbody>\n",
              "</table>\n",
              "<p>4 rows × 221 columns</p>\n",
              "</div>"
            ],
            "text/plain": [
              "   NumberId       time  ...  month  year\n",
              "0        45 2014-01-01  ...      1  2014\n",
              "1        64 2014-01-01  ...      1  2014\n",
              "2        81 2014-01-01  ...      1  2014\n",
              "3        93 2014-01-01  ...      1  2014\n",
              "\n",
              "[4 rows x 221 columns]"
            ]
          },
          "metadata": {
            "tags": []
          }
        }
      ]
    },
    {
      "cell_type": "code",
      "metadata": {
        "colab_type": "code",
        "id": "YvRCAb4e5AYH",
        "outputId": "f1c1d48f-181f-4120-9e0a-f38ef651b9c0",
        "colab": {
          "base_uri": "https://localhost:8080/",
          "height": 359
        }
      },
      "source": [
        "origin_data[origin_data['LuckyNo']==911].head(10)"
      ],
      "execution_count": 14,
      "outputs": [
        {
          "output_type": "execute_result",
          "data": {
            "text/html": [
              "<div>\n",
              "<style scoped>\n",
              "    .dataframe tbody tr th:only-of-type {\n",
              "        vertical-align: middle;\n",
              "    }\n",
              "\n",
              "    .dataframe tbody tr th {\n",
              "        vertical-align: top;\n",
              "    }\n",
              "\n",
              "    .dataframe thead th {\n",
              "        text-align: right;\n",
              "    }\n",
              "</style>\n",
              "<table border=\"1\" class=\"dataframe\">\n",
              "  <thead>\n",
              "    <tr style=\"text-align: right;\">\n",
              "      <th></th>\n",
              "      <th>DrawNo</th>\n",
              "      <th>DrawDate</th>\n",
              "      <th>PrizeType</th>\n",
              "      <th>LuckyNo</th>\n",
              "    </tr>\n",
              "  </thead>\n",
              "  <tbody>\n",
              "    <tr>\n",
              "      <th>10287</th>\n",
              "      <td>85495</td>\n",
              "      <td>1995-03-12</td>\n",
              "      <td>ConsolationNo3</td>\n",
              "      <td>911</td>\n",
              "    </tr>\n",
              "    <tr>\n",
              "      <th>13607</th>\n",
              "      <td>99896</td>\n",
              "      <td>1996-02-11</td>\n",
              "      <td>SpecialNo10</td>\n",
              "      <td>911</td>\n",
              "    </tr>\n",
              "    <tr>\n",
              "      <th>26564</th>\n",
              "      <td>156199</td>\n",
              "      <td>1999-08-29</td>\n",
              "      <td>SpecialNo9</td>\n",
              "      <td>911</td>\n",
              "    </tr>\n",
              "    <tr>\n",
              "      <th>30160</th>\n",
              "      <td>171800</td>\n",
              "      <td>2000-08-16</td>\n",
              "      <td>ConsolationNo4</td>\n",
              "      <td>911</td>\n",
              "    </tr>\n",
              "    <tr>\n",
              "      <th>65817</th>\n",
              "      <td>326909</td>\n",
              "      <td>2009-12-05</td>\n",
              "      <td>SpecialNo10</td>\n",
              "      <td>911</td>\n",
              "    </tr>\n",
              "    <tr>\n",
              "      <th>89716</th>\n",
              "      <td>430815</td>\n",
              "      <td>2015-10-07</td>\n",
              "      <td>SpecialNo3</td>\n",
              "      <td>911</td>\n",
              "    </tr>\n",
              "    <tr>\n",
              "      <th>96458</th>\n",
              "      <td>460117</td>\n",
              "      <td>2017-05-27</td>\n",
              "      <td>SpecialNo6</td>\n",
              "      <td>911</td>\n",
              "    </tr>\n",
              "    <tr>\n",
              "      <th>102733</th>\n",
              "      <td>487418</td>\n",
              "      <td>2018-12-08</td>\n",
              "      <td>SpecialNo2</td>\n",
              "      <td>911</td>\n",
              "    </tr>\n",
              "    <tr>\n",
              "      <th>104575</th>\n",
              "      <td>495419</td>\n",
              "      <td>2019-06-01</td>\n",
              "      <td>SpecialNo4</td>\n",
              "      <td>911</td>\n",
              "    </tr>\n",
              "    <tr>\n",
              "      <th>104910</th>\n",
              "      <td>496919</td>\n",
              "      <td>2019-07-03</td>\n",
              "      <td>ConsolationNo4</td>\n",
              "      <td>911</td>\n",
              "    </tr>\n",
              "  </tbody>\n",
              "</table>\n",
              "</div>"
            ],
            "text/plain": [
              "        DrawNo   DrawDate       PrizeType  LuckyNo\n",
              "10287    85495 1995-03-12  ConsolationNo3      911\n",
              "13607    99896 1996-02-11     SpecialNo10      911\n",
              "26564   156199 1999-08-29      SpecialNo9      911\n",
              "30160   171800 2000-08-16  ConsolationNo4      911\n",
              "65817   326909 2009-12-05     SpecialNo10      911\n",
              "89716   430815 2015-10-07      SpecialNo3      911\n",
              "96458   460117 2017-05-27      SpecialNo6      911\n",
              "102733  487418 2018-12-08      SpecialNo2      911\n",
              "104575  495419 2019-06-01      SpecialNo4      911\n",
              "104910  496919 2019-07-03  ConsolationNo4      911"
            ]
          },
          "metadata": {
            "tags": []
          },
          "execution_count": 14
        }
      ]
    },
    {
      "cell_type": "code",
      "metadata": {
        "colab_type": "code",
        "id": "DNNrR3LvKOk1",
        "colab": {}
      },
      "source": [
        "# feature_matrix.groupby('time')['COUNT(Results)'].mean().plot()\n",
        "# plt.title('Average Monthly Count of Results')\n",
        "# plt.ylabel('Strike Per Number')"
      ],
      "execution_count": 0,
      "outputs": []
    },
    {
      "cell_type": "markdown",
      "metadata": {
        "colab_type": "text",
        "id": "5G5SHX0qFVRa"
      },
      "source": [
        "## Feature Selection"
      ]
    },
    {
      "cell_type": "code",
      "metadata": {
        "colab_type": "code",
        "id": "m-rXOEmJFVCl",
        "outputId": "92377e05-d301-4428-cad6-2fb393c99db0",
        "colab": {
          "base_uri": "https://localhost:8080/",
          "height": 51
        }
      },
      "source": [
        "from utils import feature_selection\n",
        "\n",
        "%load_ext autoreload\n",
        "%autoreload 2"
      ],
      "execution_count": 16,
      "outputs": [
        {
          "output_type": "stream",
          "text": [
            "The autoreload extension is already loaded. To reload it, use:\n",
            "  %reload_ext autoreload\n"
          ],
          "name": "stdout"
        }
      ]
    },
    {
      "cell_type": "code",
      "metadata": {
        "colab_type": "code",
        "id": "C_1ACaOMFUp_",
        "outputId": "7bac6efa-c2a8-4e27-9db8-88f1bdc644a1",
        "colab": {
          "base_uri": "https://localhost:8080/",
          "height": 68
        }
      },
      "source": [
        "feature_matrix_selection = feature_selection(feature_matrix.drop(columns = ['time', 'NumberId']))"
      ],
      "execution_count": 0,
      "outputs": [
        {
          "output_type": "stream",
          "text": [
            "Original shape:  (719972, 219)\n",
            "0 missing columns with threshold: 90.\n",
            "42 zero variance columns.\n"
          ],
          "name": "stdout"
        }
      ]
    },
    {
      "cell_type": "code",
      "metadata": {
        "colab_type": "code",
        "id": "5WC-SEf3F0m4",
        "colab": {}
      },
      "source": [
        "feature_matrix_selection['time'] = feature_matrix['time']\n",
        "feature_matrix_selection['NumberId'] = feature_matrix['NumberId']\n",
        "feature_matrix_selection['Label'] = feature_matrix['Label']"
      ],
      "execution_count": 0,
      "outputs": []
    },
    {
      "cell_type": "code",
      "metadata": {
        "colab_type": "code",
        "id": "Jnj8dp5bGRdk",
        "colab": {}
      },
      "source": [
        "feature_matrix_selection.columns"
      ],
      "execution_count": 0,
      "outputs": []
    },
    {
      "cell_type": "code",
      "metadata": {
        "colab_type": "code",
        "id": "-GTIZdItLnLa",
        "colab": {}
      },
      "source": [
        ""
      ],
      "execution_count": 0,
      "outputs": []
    },
    {
      "cell_type": "markdown",
      "metadata": {
        "colab_type": "text",
        "id": "vt0maK--K2cQ"
      },
      "source": [
        "## Correlations"
      ]
    },
    {
      "cell_type": "code",
      "metadata": {
        "colab_type": "code",
        "id": "_3TLGrLhK-va",
        "colab": {}
      },
      "source": [
        "feature_matrix_selection.shape"
      ],
      "execution_count": 0,
      "outputs": []
    },
    {
      "cell_type": "code",
      "metadata": {
        "colab_type": "code",
        "id": "bKud_Z0yK-77",
        "colab": {}
      },
      "source": [
        "corrs = feature_matrix_selection.corr().sort_values('TotalStrike')\n",
        "corrs['TotalStrike'].head()"
      ],
      "execution_count": 0,
      "outputs": []
    },
    {
      "cell_type": "code",
      "metadata": {
        "colab_type": "code",
        "id": "fU43s9BtK_IZ",
        "colab": {}
      },
      "source": [
        "corrs['Label'].dropna().tail(15)"
      ],
      "execution_count": 0,
      "outputs": []
    },
    {
      "cell_type": "code",
      "metadata": {
        "colab_type": "code",
        "id": "l6nY6TTrBb3l",
        "colab": {}
      },
      "source": [
        "corrs['TotalStrike'].dropna().tail(8)"
      ],
      "execution_count": 0,
      "outputs": []
    },
    {
      "cell_type": "markdown",
      "metadata": {
        "colab_type": "text",
        "id": "9kCNyWm1BgxF"
      },
      "source": [
        "## Visualization"
      ]
    },
    {
      "cell_type": "code",
      "metadata": {
        "colab_type": "code",
        "id": "GibUAbe5Byp0",
        "colab": {}
      },
      "source": [
        "#pip install autoviz"
      ],
      "execution_count": 0,
      "outputs": []
    },
    {
      "cell_type": "code",
      "metadata": {
        "colab_type": "code",
        "id": "5FL2-Eb1Bm9p",
        "colab": {}
      },
      "source": [
        "#from autoviz.AutoViz_Class import AutoViz_Class"
      ],
      "execution_count": 0,
      "outputs": []
    },
    {
      "cell_type": "markdown",
      "metadata": {
        "colab_type": "text",
        "id": "hTJQWmXAsCVo"
      },
      "source": [
        "### XgBoost"
      ]
    },
    {
      "cell_type": "code",
      "metadata": {
        "colab_type": "code",
        "id": "lrgkK2hyARmn",
        "colab": {}
      },
      "source": [
        "import xgboost as xgb"
      ],
      "execution_count": 0,
      "outputs": []
    },
    {
      "cell_type": "code",
      "metadata": {
        "colab_type": "code",
        "id": "JuiMZl9rsMk1",
        "colab": {}
      },
      "source": [
        "model = xgb.XGBClassifier()"
      ],
      "execution_count": 0,
      "outputs": []
    },
    {
      "cell_type": "code",
      "metadata": {
        "colab_type": "code",
        "id": "DtkZVlf1sOq2",
        "colab": {}
      },
      "source": [
        "def predict_dt(dt, feature_matrix, return_probs = False):\n",
        "\n",
        "    feature_matrix['date'] = feature_matrix['time']\n",
        "\n",
        "    # Subset labels\n",
        "    test_labels = feature_matrix.loc[feature_matrix['date'] == dt, 'Label']\n",
        "    train_labels = feature_matrix.loc[feature_matrix['date'] < dt, 'Label']\n",
        "\n",
        "    print(f\"Size of test labels {len(test_labels)}\")\n",
        "    print(f\"Size of train labels {len(train_labels)}\")\n",
        "    \n",
        "    # Features\n",
        "    X_train = feature_matrix[feature_matrix['date'] < dt].drop(columns = ['NumberId', 'time',\n",
        "                                                                                     'date', 'Label', 'TotalStrike', 'month', 'year', 'index'], errors='ignore')\n",
        "    X_test = feature_matrix[feature_matrix['date'] == dt].drop(columns = ['NumberId', 'time',\n",
        "                                                                                     'date', 'Label', 'TotalStrike', 'month', 'year', 'index'], errors='ignore')\n",
        "    print(f\"Size of X train {len(X_train)}\")\n",
        "    print(f\"Size of X test  {len(X_test)}\")\n",
        "   \n",
        "    feature_names = list(X_train.columns)\n",
        "    \n",
        "    # Impute and scale features\n",
        "    pipeline = Pipeline([('imputer', SimpleImputer(strategy = 'median')), \n",
        "                      ('scaler', MinMaxScaler())])\n",
        "\n",
        "    # Fit and transform training data\n",
        "    X_train = pipeline.fit_transform(X_train)\n",
        "    X_test = pipeline.transform(X_test)\n",
        "    \n",
        "    # Labels\n",
        "    y_train = np.array(train_labels).reshape((-1, ))\n",
        "    y_test = np.array(test_labels).reshape((-1, ))\n",
        "    \n",
        "    print('Training on {} observations.'.format(len(X_train)))\n",
        "    print('Testing on {} observations.\\n'.format(len(X_test)))\n",
        "    \n",
        "    # Train \n",
        "    model.fit(X_train, y_train)\n",
        "    \n",
        "    # Make predictions\n",
        "    predictions = model.predict(X_test)\n",
        "    probs = model.predict_proba(X_test)[:, 1]\n",
        "    \n",
        "    # Total positive\n",
        "    positive = np.where((predictions==1))\n",
        "    print('Total predicted to be positive: ', len(positive[0]))\n",
        "  \n",
        "    # Calculate metrics\n",
        "    p_score = precision_score(y_test, predictions)\n",
        "    r_score = recall_score(y_test, predictions)\n",
        "    f_score = f1_score(y_test, predictions)\n",
        "    auc_score = roc_auc_score(y_test, probs)\n",
        "    a_score = accuracy_score(y_test, predictions)\n",
        "    avg_p_score = average_precision_score(y_test, predictions)\n",
        "    cm = confusion_matrix(y_test, predictions)\n",
        "    \n",
        "    print(f'Precision: {round(p_score, 5)}')\n",
        "    print(f'Recall: {round(r_score, 5)}')\n",
        "    print(f'F1 Score: {round(f_score, 5)}')\n",
        "    print(f'ROC AUC: {round(auc_score, 5)}')\n",
        "    print(f'Accuracy: {round(a_score, 5)}')\n",
        "    print(f'Average precision: {round(avg_p_score, 5)}')\n",
        "    \n",
        "    print('Confusion matrix')\n",
        "    print(cm)\n",
        "\n",
        "    # Total predicted matches\n",
        "    print('Predicted matches')\n",
        "    m = np.where((predictions==1))\n",
        "    print(len(m[0]), m)\n",
        "\n",
        "    if len(positive[0]) > 0:\n",
        "      # Matching draws\n",
        "      print('Matched draws')\n",
        "      m = np.where((predictions==1) & (y_test == 1))\n",
        "      print(len(m[0]), m)\n",
        "      month_data = feature_matrix.loc[feature_matrix['date'] == dt]\n",
        "      numbers = month_data.iloc[m[0]][['NumberId']]\n",
        "      print(numbers)\n",
        "      display(origin_data[(origin_data['DrawDate'].dt.year == dt.year) & \n",
        "                          (origin_data['DrawDate'].dt.month == dt.month) & \n",
        "                          (origin_data['LuckyNo'].isin(numbers))].head(len(positive[0])))                                                   \n",
        "    else:\n",
        "      print('No luck this month')                 \n",
        "\n",
        "    # Feature importances\n",
        "    fi = pd.DataFrame({'feature': feature_names, 'importance': model.feature_importances_})\n",
        "    \n",
        "    if return_probs:\n",
        "        return fi, probs\n",
        "    \n",
        "    return fi\n",
        "    "
      ],
      "execution_count": 0,
      "outputs": []
    },
    {
      "cell_type": "code",
      "metadata": {
        "colab_type": "code",
        "id": "SwajXEsyuJOw",
        "colab": {}
      },
      "source": [
        "# All the months\n",
        "len(feature_matrix_selection['time'].unique()), feature_matrix_selection['time'].unique()"
      ],
      "execution_count": 0,
      "outputs": []
    },
    {
      "cell_type": "markdown",
      "metadata": {
        "colab_type": "text",
        "id": "G01L52R_ZzaF"
      },
      "source": [
        "### Prediction by months"
      ]
    },
    {
      "cell_type": "code",
      "metadata": {
        "colab_type": "code",
        "id": "Vg7RB6QvZ9tn",
        "colab": {}
      },
      "source": [
        "from utils import plot_feature_importances"
      ],
      "execution_count": 0,
      "outputs": []
    },
    {
      "cell_type": "code",
      "metadata": {
        "colab_type": "code",
        "id": "55CRISQM9VoV",
        "colab": {}
      },
      "source": [
        "%time june_2019 = predict_dt(pd.datetime(2019,6,1), feature_matrix_selection)"
      ],
      "execution_count": 0,
      "outputs": []
    },
    {
      "cell_type": "code",
      "metadata": {
        "colab_type": "code",
        "id": "VG_tWy2m9sjg",
        "colab": {}
      },
      "source": [
        "norm_june_2019_fi = plot_feature_importances(june_2019)"
      ],
      "execution_count": 0,
      "outputs": []
    },
    {
      "cell_type": "code",
      "metadata": {
        "id": "wwMPNFdACZEO",
        "colab_type": "code",
        "colab": {}
      },
      "source": [
        " # %time oct_2019 = predict_dt(pd.datetime(2019,10,1), feature_matrix_selection)"
      ],
      "execution_count": 0,
      "outputs": []
    },
    {
      "cell_type": "code",
      "metadata": {
        "id": "NLKVpYHnK5oW",
        "colab_type": "code",
        "colab": {}
      },
      "source": [
        ""
      ],
      "execution_count": 0,
      "outputs": []
    },
    {
      "cell_type": "markdown",
      "metadata": {
        "colab_type": "text",
        "id": "fG8qe5e3K-ZB"
      },
      "source": [
        "## Parameter Tuning - GridSearchCV"
      ]
    },
    {
      "cell_type": "code",
      "metadata": {
        "id": "2Mu18mN8CYqF",
        "colab_type": "code",
        "colab": {}
      },
      "source": [
        ""
      ],
      "execution_count": 0,
      "outputs": []
    },
    {
      "cell_type": "code",
      "metadata": {
        "id": "8GCX0qWUCXwy",
        "colab_type": "code",
        "colab": {}
      },
      "source": [
        ""
      ],
      "execution_count": 0,
      "outputs": []
    },
    {
      "cell_type": "code",
      "metadata": {
        "colab_type": "code",
        "id": "Tm2CtATFLFBD",
        "colab": {}
      },
      "source": [
        ""
      ],
      "execution_count": 0,
      "outputs": []
    },
    {
      "cell_type": "code",
      "metadata": {
        "colab_type": "code",
        "id": "c1_TjU7VafcF",
        "colab": {}
      },
      "source": [
        ""
      ],
      "execution_count": 0,
      "outputs": []
    },
    {
      "cell_type": "code",
      "metadata": {
        "colab_type": "code",
        "id": "Her0uo3yafnG",
        "colab": {}
      },
      "source": [
        ""
      ],
      "execution_count": 0,
      "outputs": []
    },
    {
      "cell_type": "markdown",
      "metadata": {
        "colab_type": "text",
        "id": "zrus1QsAafwI"
      },
      "source": [
        "## Check Raw Data"
      ]
    },
    {
      "cell_type": "code",
      "metadata": {
        "colab_type": "code",
        "id": "Q51I6LDAamln",
        "colab": {}
      },
      "source": [
        "display(origin_data[(origin_data['DrawDate'].dt.year == 2019) & (origin_data['DrawDate'].dt.month == 10) & (origin_data['LuckyNo'].isin([3162]))].head(10))"
      ],
      "execution_count": 0,
      "outputs": []
    },
    {
      "cell_type": "code",
      "metadata": {
        "colab_type": "code",
        "id": "Zehh4dANam0Y",
        "colab": {}
      },
      "source": [
        "origin_data[(origin_data['DrawDate'].dt.year == 2019) & (origin_data['DrawDate'].dt.month == 6)]['DrawNo'].nunique()"
      ],
      "execution_count": 0,
      "outputs": []
    },
    {
      "cell_type": "code",
      "metadata": {
        "colab_type": "code",
        "id": "9CuaHUA8qq79",
        "colab": {}
      },
      "source": [
        "origin_data[(origin_data['DrawDate'].dt.year == 2019) & (origin_data['DrawDate'].dt.month == 10)]['DrawNo'].nunique()"
      ],
      "execution_count": 0,
      "outputs": []
    },
    {
      "cell_type": "code",
      "metadata": {
        "colab_type": "code",
        "id": "qE1h8Uq3qwlA",
        "colab": {}
      },
      "source": [
        "print(15 * 23 + 14 * 23)"
      ],
      "execution_count": 0,
      "outputs": []
    },
    {
      "cell_type": "code",
      "metadata": {
        "colab_type": "code",
        "id": "vO2-mn8-YJoe",
        "colab": {}
      },
      "source": [
        ""
      ],
      "execution_count": 0,
      "outputs": []
    }
  ]
}
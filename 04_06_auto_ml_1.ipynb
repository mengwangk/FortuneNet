{
  "nbformat": 4,
  "nbformat_minor": 0,
  "metadata": {
    "accelerator": "GPU",
    "colab": {
      "name": "04_02_automated_machine_learning.ipynb",
      "provenance": [],
      "toc_visible": true,
      "machine_shape": "hm",
      "include_colab_link": true
    },
    "kernelspec": {
      "display_name": "Python 3",
      "language": "python",
      "name": "python3"
    },
    "language_info": {
      "codemirror_mode": {
        "name": "ipython",
        "version": 3
      },
      "file_extension": ".py",
      "mimetype": "text/x-python",
      "name": "python",
      "nbconvert_exporter": "python",
      "pygments_lexer": "ipython3",
      "version": "3.7.2"
    }
  },
  "cells": [
    {
      "cell_type": "markdown",
      "metadata": {
        "id": "view-in-github",
        "colab_type": "text"
      },
      "source": [
        "<a href=\"https://colab.research.google.com/github/mengwangk/dl-projects/blob/master/04_06_auto_ml_1.ipynb\" target=\"_parent\"><img src=\"https://colab.research.google.com/assets/colab-badge.svg\" alt=\"Open In Colab\"/></a>"
      ]
    },
    {
      "cell_type": "markdown",
      "metadata": {
        "colab_type": "text",
        "id": "4hyoPGdjpqa_"
      },
      "source": [
        "# Automated ML - Tuning"
      ]
    },
    {
      "cell_type": "code",
      "metadata": {
        "colab_type": "code",
        "id": "SLxr2k_ue8yq",
        "colab": {}
      },
      "source": [
        "COLAB = True\n",
        "\n",
        "DATASET_NAME = '4D.zip'\n",
        "\n",
        "FEATURE_DATASET_PREFIX = 'feature_matrix_d2_v2'"
      ],
      "execution_count": 0,
      "outputs": []
    },
    {
      "cell_type": "code",
      "metadata": {
        "colab_type": "code",
        "id": "oy5ww2zRfFGG",
        "outputId": "9955a69d-8c27-430d-d436-eea0e6da6bb3",
        "colab": {
          "base_uri": "https://localhost:8080/",
          "height": 136
        }
      },
      "source": [
        "if COLAB:\n",
        "  !rm -rf dl-projects\n",
        "  !git clone https://github.com/mengwangk/dl-projects"
      ],
      "execution_count": 2,
      "outputs": [
        {
          "output_type": "stream",
          "text": [
            "Cloning into 'dl-projects'...\n",
            "remote: Enumerating objects: 18, done.\u001b[K\n",
            "remote: Counting objects: 100% (18/18), done.\u001b[K\n",
            "remote: Compressing objects: 100% (17/17), done.\u001b[K\n",
            "remote: Total 1107 (delta 10), reused 3 (delta 1), pack-reused 1089\u001b[K\n",
            "Receiving objects: 100% (1107/1107), 72.51 MiB | 37.63 MiB/s, done.\n",
            "Resolving deltas: 100% (655/655), done.\n"
          ],
          "name": "stdout"
        }
      ]
    },
    {
      "cell_type": "code",
      "metadata": {
        "colab_type": "code",
        "id": "G2xin10SfozR",
        "colab": {}
      },
      "source": [
        "if COLAB:\n",
        "  !cp dl-projects/utils* .\n",
        "  !cp dl-projects/preprocess* .\n",
        "  !cp dl-projects/plot* ."
      ],
      "execution_count": 0,
      "outputs": []
    },
    {
      "cell_type": "code",
      "metadata": {
        "colab_type": "code",
        "id": "fC2-l3JBpqbE",
        "colab": {}
      },
      "source": [
        "%load_ext autoreload\n",
        "# %reload_ext autoreload\n",
        "%autoreload 2\n",
        "\n",
        "%matplotlib inline"
      ],
      "execution_count": 0,
      "outputs": []
    },
    {
      "cell_type": "code",
      "metadata": {
        "colab_type": "code",
        "id": "TP7V_IzepqbK",
        "colab": {}
      },
      "source": [
        "import numpy as np\n",
        "import pandas as pd\n",
        "import seaborn as sns\n",
        "import matplotlib.pyplot as plt\n",
        "import math \n",
        "import matplotlib\n",
        "import sys\n",
        "\n",
        "from scipy import stats\n",
        "from collections import Counter\n",
        "from pathlib import Path\n",
        "\n",
        "plt.style.use('fivethirtyeight')\n",
        "\n",
        "sns.set(style=\"ticks\")\n",
        "\n",
        "import featuretools as ft\n",
        "\n",
        "import warnings\n",
        "warnings.filterwarnings('ignore')\n",
        "\n",
        "from sklearn.pipeline import Pipeline\n",
        "from sklearn.preprocessing import MinMaxScaler, StandardScaler, RobustScaler\n",
        "from sklearn.impute import SimpleImputer\n",
        "from sklearn.metrics import precision_score, recall_score, f1_score, confusion_matrix, roc_auc_score, precision_recall_curve, roc_curve, mean_squared_error, accuracy_score, average_precision_score, classification_report\n",
        "from sklearn.model_selection import train_test_split, cross_val_score, GridSearchCV, RandomizedSearchCV\n",
        "from sklearn.decomposition import PCA\n",
        "import pylab as pl\n",
        "from collections import Counter\n",
        "\n",
        "# from skopt import BayesSearchCV\n",
        "# from skopt.space import Real, Categorical, Integer\n",
        "\n",
        "# from sklearn.ensemble import RandomForestClassifier\n",
        "\n",
        "# from scikitplot.plotters import plot_precision_recall_curve\n",
        "\n",
        "from dateutil.relativedelta import relativedelta\n",
        "\n",
        "from IPython.display import display\n",
        "\n",
        "from utils import *\n",
        "from preprocess import *\n",
        "\n",
        "import xgboost as xgb\n",
        "\n",
        "np.set_printoptions(threshold=sys.maxsize)\n",
        "\n",
        "# The Answer to the Ultimate Question of Life, the Universe, and Everything.\n",
        "np.random.seed(42)\n",
        "\n",
        "from utils import feature_selection, plot_feature_importances\n",
        "from plot import plot_correlation_matrix, plot_labelled_scatter"
      ],
      "execution_count": 0,
      "outputs": []
    },
    {
      "cell_type": "code",
      "metadata": {
        "colab_type": "code",
        "id": "3bFT5CoxpqbP",
        "outputId": "0efd27ce-3522-4142-9093-4fc8ac202154",
        "colab": {
          "base_uri": "https://localhost:8080/",
          "height": 102
        }
      },
      "source": [
        "%aimport"
      ],
      "execution_count": 6,
      "outputs": [
        {
          "output_type": "stream",
          "text": [
            "Modules to reload:\n",
            "all-except-skipped\n",
            "\n",
            "Modules to skip:\n",
            "\n"
          ],
          "name": "stdout"
        }
      ]
    },
    {
      "cell_type": "markdown",
      "metadata": {
        "colab_type": "text",
        "id": "3E16jPVPpqbV"
      },
      "source": [
        "## Preparation"
      ]
    },
    {
      "cell_type": "code",
      "metadata": {
        "colab_type": "code",
        "id": "U421BuhtfYS7",
        "outputId": "8616538e-a201-4ec7-8862-be89fc412953",
        "colab": {
          "base_uri": "https://localhost:8080/",
          "height": 122
        }
      },
      "source": [
        "if COLAB:\n",
        "  from google.colab import drive\n",
        "  drive.mount('/content/gdrive')\n",
        "  GDRIVE_DATASET_FOLDER = Path('gdrive/My Drive/datasets/')"
      ],
      "execution_count": 7,
      "outputs": [
        {
          "output_type": "stream",
          "text": [
            "Go to this URL in a browser: https://accounts.google.com/o/oauth2/auth?client_id=947318989803-6bn6qk8qdgf4n4g3pfee6491hc0brc4i.apps.googleusercontent.com&redirect_uri=urn%3aietf%3awg%3aoauth%3a2.0%3aoob&response_type=code&scope=email%20https%3a%2f%2fwww.googleapis.com%2fauth%2fdocs.test%20https%3a%2f%2fwww.googleapis.com%2fauth%2fdrive%20https%3a%2f%2fwww.googleapis.com%2fauth%2fdrive.photos.readonly%20https%3a%2f%2fwww.googleapis.com%2fauth%2fpeopleapi.readonly\n",
            "\n",
            "Enter your authorization code:\n",
            "··········\n",
            "Mounted at /content/gdrive\n"
          ],
          "name": "stdout"
        }
      ]
    },
    {
      "cell_type": "code",
      "metadata": {
        "colab_type": "code",
        "id": "9IgnETKkpqbX",
        "outputId": "948f58ee-e649-4bf1-fb4e-6dd5df316dbc",
        "colab": {
          "base_uri": "https://localhost:8080/",
          "height": 119
        }
      },
      "source": [
        "if COLAB:\n",
        "  DATASET_PATH = GDRIVE_DATASET_FOLDER\n",
        "  ORIGIN_DATASET_PATH = Path('dl-projects/datasets')\n",
        "else:\n",
        "  DATASET_PATH = Path(\"datasets\")\n",
        "  ORIGIN_DATASET_PATH = Path('datasets')\n",
        "\n",
        "DATASET = DATASET_PATH/f\"{FEATURE_DATASET_PREFIX}.ft\"\n",
        "ORIGIN_DATASET = ORIGIN_DATASET_PATH/DATASET_NAME\n",
        "\n",
        "if COLAB:\n",
        "  !ls -l gdrive/\"My Drive\"/datasets/ --block-size=M\n",
        "  !ls -l dl-projects/datasets --block-size=M"
      ],
      "execution_count": 11,
      "outputs": [
        {
          "output_type": "stream",
          "text": [
            "total 4001M\n",
            "-rw------- 1 root root 1548M Jan  7 00:07 feature_matrix_d2_v1.pkl\n",
            "-rw------- 1 root root 2454M Jan 12 01:24 feature_matrix_d2_v2.ft\n",
            "total 25M\n",
            "-rw-r--r-- 1 root root  1M Jan 12 03:24 4D.zip\n",
            "-rw-r--r-- 1 root root 25M Jan 12 03:24 labels.csv\n"
          ],
          "name": "stdout"
        }
      ]
    },
    {
      "cell_type": "code",
      "metadata": {
        "colab_type": "code",
        "id": "urQTD6DQNutw",
        "colab": {}
      },
      "source": [
        "data = pd.read_feather(DATASET)\n",
        "origin_data = format_tabular(ORIGIN_DATASET)"
      ],
      "execution_count": 0,
      "outputs": []
    },
    {
      "cell_type": "code",
      "metadata": {
        "colab_type": "code",
        "id": "4BjrERxV8WuT",
        "outputId": "3cc03ce4-be6d-4a6e-8fcf-f405623c24c4",
        "colab": {
          "base_uri": "https://localhost:8080/",
          "height": 102
        }
      },
      "source": [
        "data.info()"
      ],
      "execution_count": 13,
      "outputs": [
        {
          "output_type": "stream",
          "text": [
            "<class 'pandas.core.frame.DataFrame'>\n",
            "RangeIndex: 959893 entries, 0 to 959892\n",
            "Columns: 335 entries, NumberId to year\n",
            "dtypes: datetime64[ns](1), float64(214), int64(118), uint8(2)\n",
            "memory usage: 2.4 GB\n"
          ],
          "name": "stdout"
        }
      ]
    },
    {
      "cell_type": "markdown",
      "metadata": {
        "colab_type": "text",
        "id": "vOYlp-8Br61r"
      },
      "source": [
        "## Exploratory Data Analysis"
      ]
    },
    {
      "cell_type": "markdown",
      "metadata": {
        "colab_type": "text",
        "id": "kHiN1VVlG9Kh"
      },
      "source": [
        "### View data"
      ]
    },
    {
      "cell_type": "code",
      "metadata": {
        "colab_type": "code",
        "id": "JnQXyVqng5Cm",
        "colab": {}
      },
      "source": [
        "# Feature matrix\n",
        "feature_matrix = data.drop(columns=['NumberId', 'month', 'year'])"
      ],
      "execution_count": 0,
      "outputs": []
    },
    {
      "cell_type": "code",
      "metadata": {
        "colab_type": "code",
        "id": "apMYVNz9HK9e",
        "colab": {}
      },
      "source": [
        "# Sort data\n",
        "feature_matrix.sort_values(by=['time', 'MAX(Results.LuckyNo)'], inplace=True)"
      ],
      "execution_count": 0,
      "outputs": []
    },
    {
      "cell_type": "code",
      "metadata": {
        "colab_type": "code",
        "id": "CZKTbWRFJNUq",
        "outputId": "6b6a07e6-9eee-4237-d40c-f25977509bc0",
        "colab": {
          "base_uri": "https://localhost:8080/",
          "height": 51
        }
      },
      "source": [
        "print('Positive: ' + str(feature_matrix['Label'].value_counts()[0]) + ' which is ', round(feature_matrix['Label'].value_counts()[0]/len(feature_matrix) * 100,2), '% of the dataset')\n",
        "print('Negative: ' + str(feature_matrix['Label'].value_counts()[1]) + ' which is ', round(feature_matrix['Label'].value_counts()[1]/len(feature_matrix) * 100,2), '% of the dataset')"
      ],
      "execution_count": 18,
      "outputs": [
        {
          "output_type": "stream",
          "text": [
            "Positive: 927839 which is  96.66 % of the dataset\n",
            "Negative: 32054 which is  3.34 % of the dataset\n"
          ],
          "name": "stdout"
        }
      ]
    },
    {
      "cell_type": "code",
      "metadata": {
        "colab_type": "code",
        "id": "E8ZoClJ9JmFY",
        "outputId": "8b9b7c03-7655-44fe-d625-8ec4978339c5",
        "colab": {
          "base_uri": "https://localhost:8080/",
          "height": 551
        }
      },
      "source": [
        "plt.figure(figsize=(8, 8))\n",
        "sns.countplot('Label', data=feature_matrix)"
      ],
      "execution_count": 19,
      "outputs": [
        {
          "output_type": "execute_result",
          "data": {
            "text/plain": [
              "<matplotlib.axes._subplots.AxesSubplot at 0x7fee87097128>"
            ]
          },
          "metadata": {
            "tags": []
          },
          "execution_count": 19
        },
        {
          "output_type": "display_data",
          "data": {
            "image/png": "[encoded data removed]",
            "text/plain": [
              "<Figure size 576x576 with 1 Axes>"
            ]
          },
          "metadata": {
            "tags": []
          }
        }
      ]
    },
    {
      "cell_type": "code",
      "metadata": {
        "colab_type": "code",
        "id": "plplpAQ6JrKb",
        "outputId": "9315a760-81ef-46c2-be3b-a6d77339da90",
        "colab": {
          "base_uri": "https://localhost:8080/",
          "height": 221
        }
      },
      "source": [
        "feature_matrix.isna().sum().sort_values(ascending=False)"
      ],
      "execution_count": 20,
      "outputs": [
        {
          "output_type": "execute_result",
          "data": {
            "text/plain": [
              "CUM_MEAN(TREND(Results.LuckyNo, DrawDate))      7636\n",
              "SKEW(Results.CUM_MAX(LuckyNo))                  7636\n",
              "SKEW(Results.PERCENTILE(DrawNo))                7636\n",
              "SKEW(Results.TIME_SINCE_PREVIOUS(DrawDate))     7636\n",
              "CUM_SUM(SKEW(Results.DrawNo))                   7636\n",
              "                                                ... \n",
              "CUM_SUM(MIN(Results.DrawNo))                       0\n",
              "SUM(Results.PERCENTILE(TotalStrike))               0\n",
              "CUM_MEAN(TIME_SINCE_FIRST(Results.DrawDate))       0\n",
              "CUM_SUM(MAX(Results.TotalStrike))                  0\n",
              "time                                               0\n",
              "Length: 332, dtype: int64"
            ]
          },
          "metadata": {
            "tags": []
          },
          "execution_count": 20
        }
      ]
    },
    {
      "cell_type": "code",
      "metadata": {
        "colab_type": "code",
        "id": "S1612o1VKnof",
        "outputId": "b291f3e8-4b85-4c26-f2ec-5861bffbc333",
        "colab": {
          "base_uri": "https://localhost:8080/",
          "height": 355
        }
      },
      "source": [
        "feature_matrix[feature_matrix.isnull().any(axis=1)].head()"
      ],
      "execution_count": 23,
      "outputs": [
        {
          "output_type": "execute_result",
          "data": {
            "text/html": [
              "<div>\n",
              "<style scoped>\n",
              "    .dataframe tbody tr th:only-of-type {\n",
              "        vertical-align: middle;\n",
              "    }\n",
              "\n",
              "    .dataframe tbody tr th {\n",
              "        vertical-align: top;\n",
              "    }\n",
              "\n",
              "    .dataframe thead th {\n",
              "        text-align: right;\n",
              "    }\n",
              "</style>\n",
              "<table border=\"1\" class=\"dataframe\">\n",
              "  <thead>\n",
              "    <tr style=\"text-align: right;\">\n",
              "      <th></th>\n",
              "      <th>time</th>\n",
              "      <th>NUM_UNIQUE(Results.PrizeType)</th>\n",
              "      <th>TIME_SINCE_FIRST(Results.DrawDate)</th>\n",
              "      <th>MIN(Results.TotalStrike)</th>\n",
              "      <th>SKEW(Results.LuckyNo)</th>\n",
              "      <th>LAST(Results.results_index)</th>\n",
              "      <th>SKEW(Results.TotalStrike)</th>\n",
              "      <th>AVG_TIME_BETWEEN(Results.DrawDate)</th>\n",
              "      <th>LAST(Results.DrawNo)</th>\n",
              "      <th>MIN(Results.LuckyNo)</th>\n",
              "      <th>LAST(Results.TotalStrike)</th>\n",
              "      <th>STD(Results.DrawNo)</th>\n",
              "      <th>TREND(Results.LuckyNo, DrawDate)</th>\n",
              "      <th>MAX(Results.TotalStrike)</th>\n",
              "      <th>SUM(Results.DrawNo)</th>\n",
              "      <th>MEAN(Results.DrawNo)</th>\n",
              "      <th>MAX(Results.DrawNo)</th>\n",
              "      <th>TIME_SINCE_LAST(Results.DrawDate)</th>\n",
              "      <th>TIME_SINCE(first_Results_time)</th>\n",
              "      <th>TREND(Results.DrawNo, DrawDate)</th>\n",
              "      <th>MONTH(first_Results_time)</th>\n",
              "      <th>MEAN(Results.LuckyNo)</th>\n",
              "      <th>DAY(first_Results_time)</th>\n",
              "      <th>MIN(Results.DrawNo)</th>\n",
              "      <th>COUNT(Results)</th>\n",
              "      <th>STD(Results.TotalStrike)</th>\n",
              "      <th>MAX(Results.LuckyNo)</th>\n",
              "      <th>MEAN(Results.TotalStrike)</th>\n",
              "      <th>TREND(Results.TotalStrike, DrawDate)</th>\n",
              "      <th>SUM(Results.TotalStrike)</th>\n",
              "      <th>TIME_SINCE_PREVIOUS(first_Results_time)</th>\n",
              "      <th>SUM(Results.LuckyNo)</th>\n",
              "      <th>LAST(Results.LuckyNo)</th>\n",
              "      <th>STD(Results.LuckyNo)</th>\n",
              "      <th>SKEW(Results.DrawNo)</th>\n",
              "      <th>PERCENTILE(STD(Results.DrawNo))</th>\n",
              "      <th>CUM_MAX(LAST(Results.DrawNo))</th>\n",
              "      <th>SKEW(Results.PERCENTILE(DrawNo))</th>\n",
              "      <th>CUM_SUM(SUM(Results.TotalStrike))</th>\n",
              "      <th>CUM_MAX(SUM(Results.TotalStrike))</th>\n",
              "      <th>...</th>\n",
              "      <th>CUM_SUM(NUM_UNIQUE(Results.PrizeType))</th>\n",
              "      <th>TREND(Results.CUM_MEAN(TotalStrike), DrawDate)</th>\n",
              "      <th>SUM(Results.CUM_MIN(LuckyNo))</th>\n",
              "      <th>MAX(Results.PERCENTILE(TotalStrike))</th>\n",
              "      <th>TREND(Results.TIME_SINCE(DrawDate), DrawDate)</th>\n",
              "      <th>SUM(Results.CUM_SUM(LuckyNo))</th>\n",
              "      <th>STD(Results.PERCENTILE(DrawNo))</th>\n",
              "      <th>MAX(Results.CUM_MIN(LuckyNo))</th>\n",
              "      <th>CUM_MEAN(MAX(Results.TotalStrike))</th>\n",
              "      <th>SUM(Results.CUM_MAX(LuckyNo))</th>\n",
              "      <th>SKEW(Results.CUM_SUM(LuckyNo))</th>\n",
              "      <th>SKEW(Results.TIME_SINCE(DrawDate))</th>\n",
              "      <th>LAST(Results.CUM_MEAN(TotalStrike))</th>\n",
              "      <th>CUM_MIN(TIME_SINCE_LAST(Results.DrawDate))</th>\n",
              "      <th>MIN(Results.CUM_MIN(LuckyNo))</th>\n",
              "      <th>CUM_SUM(MEAN(Results.LuckyNo))</th>\n",
              "      <th>MEAN(Results.PERCENTILE(DrawNo))</th>\n",
              "      <th>PERCENTILE(MIN(Results.TotalStrike))</th>\n",
              "      <th>MIN(Results.PERCENTILE(LuckyNo))</th>\n",
              "      <th>MIN(Results.PERCENTILE(DrawNo))</th>\n",
              "      <th>CUM_MIN(MEAN(Results.TotalStrike))</th>\n",
              "      <th>STD(Results.CUM_SUM(DrawNo))</th>\n",
              "      <th>CUM_MIN(MIN(Results.LuckyNo))</th>\n",
              "      <th>MAX(Results.CUM_MIN(TotalStrike))</th>\n",
              "      <th>TREND(Results.PERCENTILE(DrawNo), DrawDate)</th>\n",
              "      <th>CUM_SUM(STD(Results.LuckyNo))</th>\n",
              "      <th>CUM_MEAN(SKEW(Results.TotalStrike))</th>\n",
              "      <th>NUM_UNIQUE(Results.DAY(DrawDate))</th>\n",
              "      <th>MAX(Results.CUM_MAX(LuckyNo))</th>\n",
              "      <th>MAX(Results.CUM_MIN(DrawNo))</th>\n",
              "      <th>SKEW(Results.CUM_MEAN(TotalStrike))</th>\n",
              "      <th>MAX(Results.TIME_SINCE_PREVIOUS(DrawDate))</th>\n",
              "      <th>CUM_MIN(TIME_SINCE(first_Results_time))</th>\n",
              "      <th>SUM(Results.CUM_MEAN(TotalStrike))</th>\n",
              "      <th>MAX(Results.CUM_SUM(TotalStrike))</th>\n",
              "      <th>CUM_MAX(SKEW(Results.DrawNo))</th>\n",
              "      <th>TotalStrike</th>\n",
              "      <th>Label</th>\n",
              "      <th>LAST(Results.PrizeType)_Prize</th>\n",
              "      <th>MODE(Results.PrizeType)_Prize</th>\n",
              "    </tr>\n",
              "  </thead>\n",
              "  <tbody>\n",
              "    <tr>\n",
              "      <th>363</th>\n",
              "      <td>2012-01-01</td>\n",
              "      <td>1</td>\n",
              "      <td>620265540.0</td>\n",
              "      <td>1</td>\n",
              "      <td>0.0</td>\n",
              "      <td>64949</td>\n",
              "      <td>0.0</td>\n",
              "      <td>4.214991e+07</td>\n",
              "      <td>323109</td>\n",
              "      <td>19</td>\n",
              "      <td>1</td>\n",
              "      <td>101777.042238</td>\n",
              "      <td>0.0</td>\n",
              "      <td>1</td>\n",
              "      <td>2500705</td>\n",
              "      <td>178621.785714</td>\n",
              "      <td>323109</td>\n",
              "      <td>72316740.0</td>\n",
              "      <td>620265540.0</td>\n",
              "      <td>0.03093</td>\n",
              "      <td>5</td>\n",
              "      <td>19</td>\n",
              "      <td>6</td>\n",
              "      <td>40792</td>\n",
              "      <td>14</td>\n",
              "      <td>0.0</td>\n",
              "      <td>19</td>\n",
              "      <td>1</td>\n",
              "      <td>0.0</td>\n",
              "      <td>14</td>\n",
              "      <td>NaN</td>\n",
              "      <td>266</td>\n",
              "      <td>19</td>\n",
              "      <td>0.0</td>\n",
              "      <td>0.070113</td>\n",
              "      <td>0.696425</td>\n",
              "      <td>323109</td>\n",
              "      <td>0.070115</td>\n",
              "      <td>14</td>\n",
              "      <td>14</td>\n",
              "      <td>...</td>\n",
              "      <td>1</td>\n",
              "      <td>0.0</td>\n",
              "      <td>40</td>\n",
              "      <td>0.500007</td>\n",
              "      <td>-60.0</td>\n",
              "      <td>2211177150</td>\n",
              "      <td>0.315275</td>\n",
              "      <td>19</td>\n",
              "      <td>1.0</td>\n",
              "      <td>129998</td>\n",
              "      <td>0.070944</td>\n",
              "      <td>-0.043829</td>\n",
              "      <td>1.0</td>\n",
              "      <td>72316740.0</td>\n",
              "      <td>0</td>\n",
              "      <td>19</td>\n",
              "      <td>0.427118</td>\n",
              "      <td>0.50005</td>\n",
              "      <td>0.001771</td>\n",
              "      <td>0.000162</td>\n",
              "      <td>1</td>\n",
              "      <td>4.322517e+09</td>\n",
              "      <td>19</td>\n",
              "      <td>1</td>\n",
              "      <td>9.581165e-08</td>\n",
              "      <td>0.0</td>\n",
              "      <td>0.0</td>\n",
              "      <td>11</td>\n",
              "      <td>9999</td>\n",
              "      <td>40792</td>\n",
              "      <td>0.0</td>\n",
              "      <td>86400.0</td>\n",
              "      <td>620265540.0</td>\n",
              "      <td>14.0</td>\n",
              "      <td>64950</td>\n",
              "      <td>0.070113</td>\n",
              "      <td>0.0</td>\n",
              "      <td>0</td>\n",
              "      <td>1</td>\n",
              "      <td>1</td>\n",
              "    </tr>\n",
              "    <tr>\n",
              "      <th>9017</th>\n",
              "      <td>2012-01-01</td>\n",
              "      <td>1</td>\n",
              "      <td>421027140.0</td>\n",
              "      <td>1</td>\n",
              "      <td>NaN</td>\n",
              "      <td>63742</td>\n",
              "      <td>NaN</td>\n",
              "      <td>3.393792e+08</td>\n",
              "      <td>317909</td>\n",
              "      <td>123</td>\n",
              "      <td>1</td>\n",
              "      <td>126014.206582</td>\n",
              "      <td>NaN</td>\n",
              "      <td>1</td>\n",
              "      <td>457607</td>\n",
              "      <td>228803.500000</td>\n",
              "      <td>317909</td>\n",
              "      <td>81647940.0</td>\n",
              "      <td>421027140.0</td>\n",
              "      <td>NaN</td>\n",
              "      <td>8</td>\n",
              "      <td>123</td>\n",
              "      <td>29</td>\n",
              "      <td>139698</td>\n",
              "      <td>2</td>\n",
              "      <td>0.0</td>\n",
              "      <td>123</td>\n",
              "      <td>1</td>\n",
              "      <td>NaN</td>\n",
              "      <td>2</td>\n",
              "      <td>259200.0</td>\n",
              "      <td>246</td>\n",
              "      <td>123</td>\n",
              "      <td>0.0</td>\n",
              "      <td>NaN</td>\n",
              "      <td>0.962392</td>\n",
              "      <td>363511</td>\n",
              "      <td>NaN</td>\n",
              "      <td>68968</td>\n",
              "      <td>21</td>\n",
              "      <td>...</td>\n",
              "      <td>8978</td>\n",
              "      <td>NaN</td>\n",
              "      <td>0</td>\n",
              "      <td>0.500007</td>\n",
              "      <td>NaN</td>\n",
              "      <td>431412305</td>\n",
              "      <td>0.390354</td>\n",
              "      <td>0</td>\n",
              "      <td>1.0</td>\n",
              "      <td>19998</td>\n",
              "      <td>NaN</td>\n",
              "      <td>NaN</td>\n",
              "      <td>1.0</td>\n",
              "      <td>86340.0</td>\n",
              "      <td>0</td>\n",
              "      <td>44911320</td>\n",
              "      <td>0.582566</td>\n",
              "      <td>0.50005</td>\n",
              "      <td>0.011334</td>\n",
              "      <td>0.306543</td>\n",
              "      <td>1</td>\n",
              "      <td>6.631006e+09</td>\n",
              "      <td>0</td>\n",
              "      <td>1</td>\n",
              "      <td>NaN</td>\n",
              "      <td>0.0</td>\n",
              "      <td>NaN</td>\n",
              "      <td>2</td>\n",
              "      <td>9999</td>\n",
              "      <td>40792</td>\n",
              "      <td>NaN</td>\n",
              "      <td>0.0</td>\n",
              "      <td>421027140.0</td>\n",
              "      <td>2.0</td>\n",
              "      <td>63743</td>\n",
              "      <td>NaN</td>\n",
              "      <td>0.0</td>\n",
              "      <td>0</td>\n",
              "      <td>1</td>\n",
              "      <td>1</td>\n",
              "    </tr>\n",
              "    <tr>\n",
              "      <th>8619</th>\n",
              "      <td>2012-01-01</td>\n",
              "      <td>1</td>\n",
              "      <td>452390340.0</td>\n",
              "      <td>1</td>\n",
              "      <td>NaN</td>\n",
              "      <td>64702</td>\n",
              "      <td>NaN</td>\n",
              "      <td>3.782592e+08</td>\n",
              "      <td>322109</td>\n",
              "      <td>135</td>\n",
              "      <td>1</td>\n",
              "      <td>139944.917278</td>\n",
              "      <td>NaN</td>\n",
              "      <td>1</td>\n",
              "      <td>446306</td>\n",
              "      <td>223153.000000</td>\n",
              "      <td>322109</td>\n",
              "      <td>74131140.0</td>\n",
              "      <td>452390340.0</td>\n",
              "      <td>NaN</td>\n",
              "      <td>8</td>\n",
              "      <td>135</td>\n",
              "      <td>31</td>\n",
              "      <td>124197</td>\n",
              "      <td>2</td>\n",
              "      <td>0.0</td>\n",
              "      <td>135</td>\n",
              "      <td>1</td>\n",
              "      <td>NaN</td>\n",
              "      <td>2</td>\n",
              "      <td>0.0</td>\n",
              "      <td>270</td>\n",
              "      <td>135</td>\n",
              "      <td>0.0</td>\n",
              "      <td>NaN</td>\n",
              "      <td>0.990259</td>\n",
              "      <td>363511</td>\n",
              "      <td>NaN</td>\n",
              "      <td>66239</td>\n",
              "      <td>21</td>\n",
              "      <td>...</td>\n",
              "      <td>8560</td>\n",
              "      <td>NaN</td>\n",
              "      <td>0</td>\n",
              "      <td>0.500007</td>\n",
              "      <td>NaN</td>\n",
              "      <td>418227262</td>\n",
              "      <td>0.433508</td>\n",
              "      <td>0</td>\n",
              "      <td>1.0</td>\n",
              "      <td>19998</td>\n",
              "      <td>NaN</td>\n",
              "      <td>NaN</td>\n",
              "      <td>1.0</td>\n",
              "      <td>86340.0</td>\n",
              "      <td>0</td>\n",
              "      <td>42705579</td>\n",
              "      <td>0.565062</td>\n",
              "      <td>0.50005</td>\n",
              "      <td>0.012533</td>\n",
              "      <td>0.258526</td>\n",
              "      <td>1</td>\n",
              "      <td>7.179265e+09</td>\n",
              "      <td>0</td>\n",
              "      <td>1</td>\n",
              "      <td>NaN</td>\n",
              "      <td>0.0</td>\n",
              "      <td>NaN</td>\n",
              "      <td>2</td>\n",
              "      <td>9999</td>\n",
              "      <td>40792</td>\n",
              "      <td>NaN</td>\n",
              "      <td>0.0</td>\n",
              "      <td>452390340.0</td>\n",
              "      <td>2.0</td>\n",
              "      <td>64703</td>\n",
              "      <td>NaN</td>\n",
              "      <td>0.0</td>\n",
              "      <td>0</td>\n",
              "      <td>1</td>\n",
              "      <td>1</td>\n",
              "    </tr>\n",
              "    <tr>\n",
              "      <th>9519</th>\n",
              "      <td>2012-01-01</td>\n",
              "      <td>1</td>\n",
              "      <td>361756740.0</td>\n",
              "      <td>1</td>\n",
              "      <td>NaN</td>\n",
              "      <td>49848</td>\n",
              "      <td>NaN</td>\n",
              "      <td>1.664064e+08</td>\n",
              "      <td>257505</td>\n",
              "      <td>185</td>\n",
              "      <td>1</td>\n",
              "      <td>61592.536175</td>\n",
              "      <td>NaN</td>\n",
              "      <td>1</td>\n",
              "      <td>427905</td>\n",
              "      <td>213952.500000</td>\n",
              "      <td>257505</td>\n",
              "      <td>195350340.0</td>\n",
              "      <td>361756740.0</td>\n",
              "      <td>NaN</td>\n",
              "      <td>7</td>\n",
              "      <td>185</td>\n",
              "      <td>15</td>\n",
              "      <td>170400</td>\n",
              "      <td>2</td>\n",
              "      <td>0.0</td>\n",
              "      <td>185</td>\n",
              "      <td>1</td>\n",
              "      <td>NaN</td>\n",
              "      <td>2</td>\n",
              "      <td>0.0</td>\n",
              "      <td>370</td>\n",
              "      <td>185</td>\n",
              "      <td>0.0</td>\n",
              "      <td>NaN</td>\n",
              "      <td>0.095903</td>\n",
              "      <td>363511</td>\n",
              "      <td>NaN</td>\n",
              "      <td>72040</td>\n",
              "      <td>21</td>\n",
              "      <td>...</td>\n",
              "      <td>9502</td>\n",
              "      <td>NaN</td>\n",
              "      <td>0</td>\n",
              "      <td>0.500007</td>\n",
              "      <td>NaN</td>\n",
              "      <td>396912897</td>\n",
              "      <td>0.190577</td>\n",
              "      <td>0</td>\n",
              "      <td>1.0</td>\n",
              "      <td>19998</td>\n",
              "      <td>NaN</td>\n",
              "      <td>NaN</td>\n",
              "      <td>1.0</td>\n",
              "      <td>86340.0</td>\n",
              "      <td>0</td>\n",
              "      <td>47513290</td>\n",
              "      <td>0.536717</td>\n",
              "      <td>0.50005</td>\n",
              "      <td>0.017624</td>\n",
              "      <td>0.401958</td>\n",
              "      <td>1</td>\n",
              "      <td>3.026228e+09</td>\n",
              "      <td>0</td>\n",
              "      <td>1</td>\n",
              "      <td>NaN</td>\n",
              "      <td>0.0</td>\n",
              "      <td>NaN</td>\n",
              "      <td>2</td>\n",
              "      <td>9999</td>\n",
              "      <td>40792</td>\n",
              "      <td>NaN</td>\n",
              "      <td>0.0</td>\n",
              "      <td>361756740.0</td>\n",
              "      <td>2.0</td>\n",
              "      <td>49849</td>\n",
              "      <td>NaN</td>\n",
              "      <td>0.0</td>\n",
              "      <td>0</td>\n",
              "      <td>1</td>\n",
              "      <td>1</td>\n",
              "    </tr>\n",
              "    <tr>\n",
              "      <th>7564</th>\n",
              "      <td>2012-01-01</td>\n",
              "      <td>1</td>\n",
              "      <td>501379140.0</td>\n",
              "      <td>1</td>\n",
              "      <td>NaN</td>\n",
              "      <td>44272</td>\n",
              "      <td>NaN</td>\n",
              "      <td>2.605824e+08</td>\n",
              "      <td>233204</td>\n",
              "      <td>234</td>\n",
              "      <td>1</td>\n",
              "      <td>94262.990786</td>\n",
              "      <td>NaN</td>\n",
              "      <td>1</td>\n",
              "      <td>333100</td>\n",
              "      <td>166550.000000</td>\n",
              "      <td>233204</td>\n",
              "      <td>240796740.0</td>\n",
              "      <td>501379140.0</td>\n",
              "      <td>NaN</td>\n",
              "      <td>2</td>\n",
              "      <td>234</td>\n",
              "      <td>11</td>\n",
              "      <td>99896</td>\n",
              "      <td>2</td>\n",
              "      <td>0.0</td>\n",
              "      <td>234</td>\n",
              "      <td>1</td>\n",
              "      <td>NaN</td>\n",
              "      <td>2</td>\n",
              "      <td>0.0</td>\n",
              "      <td>468</td>\n",
              "      <td>234</td>\n",
              "      <td>0.0</td>\n",
              "      <td>NaN</td>\n",
              "      <td>0.543483</td>\n",
              "      <td>363511</td>\n",
              "      <td>NaN</td>\n",
              "      <td>58795</td>\n",
              "      <td>21</td>\n",
              "      <td>...</td>\n",
              "      <td>7465</td>\n",
              "      <td>NaN</td>\n",
              "      <td>0</td>\n",
              "      <td>0.500007</td>\n",
              "      <td>NaN</td>\n",
              "      <td>288307910</td>\n",
              "      <td>0.291999</td>\n",
              "      <td>0</td>\n",
              "      <td>1.0</td>\n",
              "      <td>19998</td>\n",
              "      <td>NaN</td>\n",
              "      <td>NaN</td>\n",
              "      <td>1.0</td>\n",
              "      <td>86340.0</td>\n",
              "      <td>0</td>\n",
              "      <td>37315233</td>\n",
              "      <td>0.389722</td>\n",
              "      <td>0.50005</td>\n",
              "      <td>0.022716</td>\n",
              "      <td>0.183247</td>\n",
              "      <td>1</td>\n",
              "      <td>3.611873e+09</td>\n",
              "      <td>0</td>\n",
              "      <td>1</td>\n",
              "      <td>NaN</td>\n",
              "      <td>0.0</td>\n",
              "      <td>NaN</td>\n",
              "      <td>2</td>\n",
              "      <td>9999</td>\n",
              "      <td>40792</td>\n",
              "      <td>NaN</td>\n",
              "      <td>0.0</td>\n",
              "      <td>501379140.0</td>\n",
              "      <td>2.0</td>\n",
              "      <td>44273</td>\n",
              "      <td>NaN</td>\n",
              "      <td>0.0</td>\n",
              "      <td>0</td>\n",
              "      <td>1</td>\n",
              "      <td>1</td>\n",
              "    </tr>\n",
              "  </tbody>\n",
              "</table>\n",
              "<p>5 rows × 332 columns</p>\n",
              "</div>"
            ],
            "text/plain": [
              "           time  ...  MODE(Results.PrizeType)_Prize\n",
              "363  2012-01-01  ...                              1\n",
              "9017 2012-01-01  ...                              1\n",
              "8619 2012-01-01  ...                              1\n",
              "9519 2012-01-01  ...                              1\n",
              "7564 2012-01-01  ...                              1\n",
              "\n",
              "[5 rows x 332 columns]"
            ]
          },
          "metadata": {
            "tags": []
          },
          "execution_count": 23
        }
      ]
    },
    {
      "cell_type": "markdown",
      "metadata": {
        "colab_type": "text",
        "id": "fdayfSLPLN_k"
      },
      "source": [
        "### Data Cleansing"
      ]
    },
    {
      "cell_type": "code",
      "metadata": {
        "colab_type": "code",
        "id": "9LcvGa8eLiEX",
        "colab": {}
      },
      "source": [
        "## Fill all NaN with 0\n",
        "feature_matrix = feature_matrix.fillna(0)"
      ],
      "execution_count": 0,
      "outputs": []
    },
    {
      "cell_type": "code",
      "metadata": {
        "colab_type": "code",
        "id": "7KMHiiNyLv_a",
        "outputId": "0960f71e-8689-48c2-a24d-60d2fcfa9147",
        "colab": {
          "base_uri": "https://localhost:8080/",
          "height": 221
        }
      },
      "source": [
        "feature_matrix.isna().sum().sort_values(ascending=False)"
      ],
      "execution_count": 25,
      "outputs": [
        {
          "output_type": "execute_result",
          "data": {
            "text/plain": [
              "MODE(Results.PrizeType)_Prize           0\n",
              "STD(Results.CUM_MAX(TotalStrike))       0\n",
              "MIN(Results.PERCENTILE(TotalStrike))    0\n",
              "MIN(Results.CUM_MAX(DrawNo))            0\n",
              "LAST(Results.CUM_MAX(DrawNo))           0\n",
              "                                       ..\n",
              "CUM_SUM(SKEW(Results.DrawNo))           0\n",
              "MAX(Results.PERCENTILE(DrawNo))         0\n",
              "LAST(Results.CUM_MIN(LuckyNo))          0\n",
              "MIN(Results.CUM_MEAN(LuckyNo))          0\n",
              "time                                    0\n",
              "Length: 332, dtype: int64"
            ]
          },
          "metadata": {
            "tags": []
          },
          "execution_count": 25
        }
      ]
    },
    {
      "cell_type": "code",
      "metadata": {
        "colab_type": "code",
        "id": "mzHx8OYQLx0C",
        "outputId": "8964e79f-ae63-4563-bcb3-8a05cb7862a4",
        "colab": {
          "base_uri": "https://localhost:8080/",
          "height": 115
        }
      },
      "source": [
        "feature_matrix[feature_matrix.isnull().any(axis=1)].head()"
      ],
      "execution_count": 27,
      "outputs": [
        {
          "output_type": "execute_result",
          "data": {
            "text/html": [
              "<div>\n",
              "<style scoped>\n",
              "    .dataframe tbody tr th:only-of-type {\n",
              "        vertical-align: middle;\n",
              "    }\n",
              "\n",
              "    .dataframe tbody tr th {\n",
              "        vertical-align: top;\n",
              "    }\n",
              "\n",
              "    .dataframe thead th {\n",
              "        text-align: right;\n",
              "    }\n",
              "</style>\n",
              "<table border=\"1\" class=\"dataframe\">\n",
              "  <thead>\n",
              "    <tr style=\"text-align: right;\">\n",
              "      <th></th>\n",
              "      <th>time</th>\n",
              "      <th>NUM_UNIQUE(Results.PrizeType)</th>\n",
              "      <th>TIME_SINCE_FIRST(Results.DrawDate)</th>\n",
              "      <th>MIN(Results.TotalStrike)</th>\n",
              "      <th>SKEW(Results.LuckyNo)</th>\n",
              "      <th>LAST(Results.results_index)</th>\n",
              "      <th>SKEW(Results.TotalStrike)</th>\n",
              "      <th>AVG_TIME_BETWEEN(Results.DrawDate)</th>\n",
              "      <th>LAST(Results.DrawNo)</th>\n",
              "      <th>MIN(Results.LuckyNo)</th>\n",
              "      <th>LAST(Results.TotalStrike)</th>\n",
              "      <th>STD(Results.DrawNo)</th>\n",
              "      <th>TREND(Results.LuckyNo, DrawDate)</th>\n",
              "      <th>MAX(Results.TotalStrike)</th>\n",
              "      <th>SUM(Results.DrawNo)</th>\n",
              "      <th>MEAN(Results.DrawNo)</th>\n",
              "      <th>MAX(Results.DrawNo)</th>\n",
              "      <th>TIME_SINCE_LAST(Results.DrawDate)</th>\n",
              "      <th>TIME_SINCE(first_Results_time)</th>\n",
              "      <th>TREND(Results.DrawNo, DrawDate)</th>\n",
              "      <th>MONTH(first_Results_time)</th>\n",
              "      <th>MEAN(Results.LuckyNo)</th>\n",
              "      <th>DAY(first_Results_time)</th>\n",
              "      <th>MIN(Results.DrawNo)</th>\n",
              "      <th>COUNT(Results)</th>\n",
              "      <th>STD(Results.TotalStrike)</th>\n",
              "      <th>MAX(Results.LuckyNo)</th>\n",
              "      <th>MEAN(Results.TotalStrike)</th>\n",
              "      <th>TREND(Results.TotalStrike, DrawDate)</th>\n",
              "      <th>SUM(Results.TotalStrike)</th>\n",
              "      <th>TIME_SINCE_PREVIOUS(first_Results_time)</th>\n",
              "      <th>SUM(Results.LuckyNo)</th>\n",
              "      <th>LAST(Results.LuckyNo)</th>\n",
              "      <th>STD(Results.LuckyNo)</th>\n",
              "      <th>SKEW(Results.DrawNo)</th>\n",
              "      <th>PERCENTILE(STD(Results.DrawNo))</th>\n",
              "      <th>CUM_MAX(LAST(Results.DrawNo))</th>\n",
              "      <th>SKEW(Results.PERCENTILE(DrawNo))</th>\n",
              "      <th>CUM_SUM(SUM(Results.TotalStrike))</th>\n",
              "      <th>CUM_MAX(SUM(Results.TotalStrike))</th>\n",
              "      <th>...</th>\n",
              "      <th>CUM_SUM(NUM_UNIQUE(Results.PrizeType))</th>\n",
              "      <th>TREND(Results.CUM_MEAN(TotalStrike), DrawDate)</th>\n",
              "      <th>SUM(Results.CUM_MIN(LuckyNo))</th>\n",
              "      <th>MAX(Results.PERCENTILE(TotalStrike))</th>\n",
              "      <th>TREND(Results.TIME_SINCE(DrawDate), DrawDate)</th>\n",
              "      <th>SUM(Results.CUM_SUM(LuckyNo))</th>\n",
              "      <th>STD(Results.PERCENTILE(DrawNo))</th>\n",
              "      <th>MAX(Results.CUM_MIN(LuckyNo))</th>\n",
              "      <th>CUM_MEAN(MAX(Results.TotalStrike))</th>\n",
              "      <th>SUM(Results.CUM_MAX(LuckyNo))</th>\n",
              "      <th>SKEW(Results.CUM_SUM(LuckyNo))</th>\n",
              "      <th>SKEW(Results.TIME_SINCE(DrawDate))</th>\n",
              "      <th>LAST(Results.CUM_MEAN(TotalStrike))</th>\n",
              "      <th>CUM_MIN(TIME_SINCE_LAST(Results.DrawDate))</th>\n",
              "      <th>MIN(Results.CUM_MIN(LuckyNo))</th>\n",
              "      <th>CUM_SUM(MEAN(Results.LuckyNo))</th>\n",
              "      <th>MEAN(Results.PERCENTILE(DrawNo))</th>\n",
              "      <th>PERCENTILE(MIN(Results.TotalStrike))</th>\n",
              "      <th>MIN(Results.PERCENTILE(LuckyNo))</th>\n",
              "      <th>MIN(Results.PERCENTILE(DrawNo))</th>\n",
              "      <th>CUM_MIN(MEAN(Results.TotalStrike))</th>\n",
              "      <th>STD(Results.CUM_SUM(DrawNo))</th>\n",
              "      <th>CUM_MIN(MIN(Results.LuckyNo))</th>\n",
              "      <th>MAX(Results.CUM_MIN(TotalStrike))</th>\n",
              "      <th>TREND(Results.PERCENTILE(DrawNo), DrawDate)</th>\n",
              "      <th>CUM_SUM(STD(Results.LuckyNo))</th>\n",
              "      <th>CUM_MEAN(SKEW(Results.TotalStrike))</th>\n",
              "      <th>NUM_UNIQUE(Results.DAY(DrawDate))</th>\n",
              "      <th>MAX(Results.CUM_MAX(LuckyNo))</th>\n",
              "      <th>MAX(Results.CUM_MIN(DrawNo))</th>\n",
              "      <th>SKEW(Results.CUM_MEAN(TotalStrike))</th>\n",
              "      <th>MAX(Results.TIME_SINCE_PREVIOUS(DrawDate))</th>\n",
              "      <th>CUM_MIN(TIME_SINCE(first_Results_time))</th>\n",
              "      <th>SUM(Results.CUM_MEAN(TotalStrike))</th>\n",
              "      <th>MAX(Results.CUM_SUM(TotalStrike))</th>\n",
              "      <th>CUM_MAX(SKEW(Results.DrawNo))</th>\n",
              "      <th>TotalStrike</th>\n",
              "      <th>Label</th>\n",
              "      <th>LAST(Results.PrizeType)_Prize</th>\n",
              "      <th>MODE(Results.PrizeType)_Prize</th>\n",
              "    </tr>\n",
              "  </thead>\n",
              "  <tbody>\n",
              "  </tbody>\n",
              "</table>\n",
              "<p>0 rows × 332 columns</p>\n",
              "</div>"
            ],
            "text/plain": [
              "Empty DataFrame\n",
              "Columns: [time, NUM_UNIQUE(Results.PrizeType), TIME_SINCE_FIRST(Results.DrawDate), MIN(Results.TotalStrike), SKEW(Results.LuckyNo), LAST(Results.results_index), SKEW(Results.TotalStrike), AVG_TIME_BETWEEN(Results.DrawDate), LAST(Results.DrawNo), MIN(Results.LuckyNo), LAST(Results.TotalStrike), STD(Results.DrawNo), TREND(Results.LuckyNo, DrawDate), MAX(Results.TotalStrike), SUM(Results.DrawNo), MEAN(Results.DrawNo), MAX(Results.DrawNo), TIME_SINCE_LAST(Results.DrawDate), TIME_SINCE(first_Results_time), TREND(Results.DrawNo, DrawDate), MONTH(first_Results_time), MEAN(Results.LuckyNo), DAY(first_Results_time), MIN(Results.DrawNo), COUNT(Results), STD(Results.TotalStrike), MAX(Results.LuckyNo), MEAN(Results.TotalStrike), TREND(Results.TotalStrike, DrawDate), SUM(Results.TotalStrike), TIME_SINCE_PREVIOUS(first_Results_time), SUM(Results.LuckyNo), LAST(Results.LuckyNo), STD(Results.LuckyNo), SKEW(Results.DrawNo), PERCENTILE(STD(Results.DrawNo)), CUM_MAX(LAST(Results.DrawNo)), SKEW(Results.PERCENTILE(DrawNo)), CUM_SUM(SUM(Results.TotalStrike)), CUM_MAX(SUM(Results.TotalStrike)), LAST(Results.CUM_MIN(TotalStrike)), MEAN(Results.CUM_MAX(DrawNo)), MIN(Results.CUM_MEAN(TotalStrike)), SUM(Results.PERCENTILE(DrawNo)), CUM_MAX(MAX(Results.LuckyNo)), CUM_MIN(COUNT(Results)), SKEW(Results.CUM_MEAN(DrawNo)), PERCENTILE(COUNT(Results)), CUM_MEAN(MIN(Results.TotalStrike)), CUM_MAX(LAST(Results.TotalStrike)), CUM_MAX(TIME_SINCE_FIRST(Results.DrawDate)), CUM_MIN(SUM(Results.TotalStrike)), CUM_MEAN(STD(Results.DrawNo)), CUM_MIN(STD(Results.DrawNo)), STD(Results.PERCENTILE(LuckyNo)), CUM_MAX(MEAN(Results.LuckyNo)), CUM_MIN(MAX(Results.DrawNo)), TREND(Results.CUM_MAX(DrawNo), DrawDate), SKEW(Results.PERCENTILE(LuckyNo)), STD(Results.CUM_SUM(LuckyNo)), MEAN(Results.TIME_SINCE_PREVIOUS(DrawDate)), CUM_MEAN(TREND(Results.LuckyNo, DrawDate)), CUM_MIN(STD(Results.LuckyNo)), CUM_MAX(SUM(Results.DrawNo)), CUM_MEAN(TIME_SINCE_LAST(Results.DrawDate)), CUM_MIN(SUM(Results.LuckyNo)), SUM(Results.PERCENTILE(LuckyNo)), PERCENTILE(TIME_SINCE_FIRST(Results.DrawDate)), MAX(Results.CUM_MEAN(DrawNo)), CUM_MEAN(AVG_TIME_BETWEEN(Results.DrawDate)), CUM_MIN(MEAN(Results.DrawNo)), CUM_MIN(TIME_SINCE_PREVIOUS(first_Results_time)), CUM_SUM(TREND(Results.DrawNo, DrawDate)), MEAN(Results.CUM_MIN(TotalStrike)), LAST(Results.TIME_SINCE_PREVIOUS(DrawDate)), PERCENTILE(SKEW(Results.DrawNo)), LAST(Results.CUM_MEAN(DrawNo)), CUM_MEAN(LAST(Results.DrawNo)), LAST(Results.CUM_SUM(LuckyNo)), PERCENTILE(STD(Results.TotalStrike)), LAST(Results.CUM_MAX(LuckyNo)), SKEW(Results.CUM_MAX(LuckyNo)), CUM_MEAN(SKEW(Results.LuckyNo)), CUM_SUM(AVG_TIME_BETWEEN(Results.DrawDate)), CUM_MAX(TIME_SINCE_PREVIOUS(first_Results_time)), CUM_MAX(STD(Results.LuckyNo)), PERCENTILE(SKEW(Results.LuckyNo)), CUM_MEAN(NUM_UNIQUE(Results.PrizeType)), TREND(Results.CUM_SUM(TotalStrike), DrawDate), MEAN(Results.CUM_SUM(TotalStrike)), CUM_SUM(SKEW(Results.LuckyNo)), CUM_MIN(SKEW(Results.LuckyNo)), CUM_MAX(TREND(Results.DrawNo, DrawDate)), LAST(Results.MONTH(DrawDate)), SUM(Results.CUM_MIN(DrawNo)), PERCENTILE(TREND(Results.TotalStrike, DrawDate)), SUM(Results.CUM_MIN(TotalStrike)), MEAN(Results.CUM_MAX(TotalStrike)), CUM_SUM(TIME_SINCE_FIRST(Results.DrawDate)), PERCENTILE(AVG_TIME_BETWEEN(Results.DrawDate)), ...]\n",
              "Index: []\n",
              "\n",
              "[0 rows x 332 columns]"
            ]
          },
          "metadata": {
            "tags": []
          },
          "execution_count": 27
        }
      ]
    },
    {
      "cell_type": "markdown",
      "metadata": {
        "colab_type": "text",
        "id": "zF_zCRksL1Ls"
      },
      "source": [
        "### Feature Selection"
      ]
    },
    {
      "cell_type": "code",
      "metadata": {
        "colab_type": "code",
        "id": "_uA8YPbHlleB",
        "colab": {}
      },
      "source": [
        "# Feature scaling first??"
      ],
      "execution_count": 0,
      "outputs": []
    },
    {
      "cell_type": "code",
      "metadata": {
        "colab_type": "code",
        "id": "5A8LZ805MqjP",
        "outputId": "f1d1abf1-98d0-4a73-dfec-3d24e1e7fc45",
        "colab": {
          "base_uri": "https://localhost:8080/",
          "height": 272
        }
      },
      "source": [
        "print(feature_matrix.shape)\n",
        "feature_matrix.columns"
      ],
      "execution_count": 29,
      "outputs": [
        {
          "output_type": "stream",
          "text": [
            "(959893, 332)\n"
          ],
          "name": "stdout"
        },
        {
          "output_type": "execute_result",
          "data": {
            "text/plain": [
              "Index(['time', 'NUM_UNIQUE(Results.PrizeType)',\n",
              "       'TIME_SINCE_FIRST(Results.DrawDate)', 'MIN(Results.TotalStrike)',\n",
              "       'SKEW(Results.LuckyNo)', 'LAST(Results.results_index)',\n",
              "       'SKEW(Results.TotalStrike)', 'AVG_TIME_BETWEEN(Results.DrawDate)',\n",
              "       'LAST(Results.DrawNo)', 'MIN(Results.LuckyNo)',\n",
              "       ...\n",
              "       'SKEW(Results.CUM_MEAN(TotalStrike))',\n",
              "       'MAX(Results.TIME_SINCE_PREVIOUS(DrawDate))',\n",
              "       'CUM_MIN(TIME_SINCE(first_Results_time))',\n",
              "       'SUM(Results.CUM_MEAN(TotalStrike))',\n",
              "       'MAX(Results.CUM_SUM(TotalStrike))', 'CUM_MAX(SKEW(Results.DrawNo))',\n",
              "       'TotalStrike', 'Label', 'LAST(Results.PrizeType)_Prize',\n",
              "       'MODE(Results.PrizeType)_Prize'],\n",
              "      dtype='object', length=332)"
            ]
          },
          "metadata": {
            "tags": []
          },
          "execution_count": 29
        }
      ]
    },
    {
      "cell_type": "code",
      "metadata": {
        "colab_type": "code",
        "id": "rPFOkiGjhuKj",
        "outputId": "476789e5-1ef2-4099-e9eb-70cc6f79fb66",
        "colab": {
          "base_uri": "https://localhost:8080/",
          "height": 119
        }
      },
      "source": [
        "feature_matrix_selection = feature_selection(feature_matrix.drop(columns = ['time', 'TotalStrike', 'Label']))"
      ],
      "execution_count": 30,
      "outputs": [
        {
          "output_type": "stream",
          "text": [
            "Original shape:  (959893, 329)\n",
            "0 missing columns with threshold: 90.\n",
            "86 zero variance columns.\n",
            "154 collinear columns removed with threshold: 0.95.\n",
            "Total columns removed:  240\n",
            "Shape after feature selection: (959893, 89).\n"
          ],
          "name": "stdout"
        }
      ]
    },
    {
      "cell_type": "code",
      "metadata": {
        "colab_type": "code",
        "id": "vT2K0WeJhugH",
        "outputId": "7e40a368-3627-41e5-ef81-271b91dcd5e1",
        "colab": {
          "base_uri": "https://localhost:8080/",
          "height": 1000
        }
      },
      "source": [
        "feature_matrix_selection.shape, feature_matrix_selection.columns"
      ],
      "execution_count": 31,
      "outputs": [
        {
          "output_type": "execute_result",
          "data": {
            "text/plain": [
              "((959893, 89),\n",
              " Index(['TIME_SINCE_FIRST(Results.DrawDate)', 'LAST(Results.results_index)',\n",
              "        'AVG_TIME_BETWEEN(Results.DrawDate)', 'MIN(Results.LuckyNo)',\n",
              "        'STD(Results.DrawNo)', 'SUM(Results.DrawNo)', 'MEAN(Results.DrawNo)',\n",
              "        'TIME_SINCE_LAST(Results.DrawDate)', 'TREND(Results.DrawNo, DrawDate)',\n",
              "        'MONTH(first_Results_time)', 'DAY(first_Results_time)',\n",
              "        'MIN(Results.DrawNo)', 'COUNT(Results)',\n",
              "        'TIME_SINCE_PREVIOUS(first_Results_time)', 'SUM(Results.LuckyNo)',\n",
              "        'SKEW(Results.DrawNo)', 'PERCENTILE(STD(Results.DrawNo))',\n",
              "        'CUM_MAX(LAST(Results.DrawNo))', 'CUM_SUM(SUM(Results.TotalStrike))',\n",
              "        'CUM_MAX(SUM(Results.TotalStrike))', 'CUM_MAX(MAX(Results.LuckyNo))',\n",
              "        'CUM_MIN(COUNT(Results))', 'PERCENTILE(COUNT(Results))',\n",
              "        'CUM_MEAN(STD(Results.DrawNo))', 'CUM_MIN(STD(Results.DrawNo))',\n",
              "        'CUM_MIN(MAX(Results.DrawNo))',\n",
              "        'MEAN(Results.TIME_SINCE_PREVIOUS(DrawDate))',\n",
              "        'CUM_MAX(SUM(Results.DrawNo))',\n",
              "        'CUM_MEAN(TIME_SINCE_LAST(Results.DrawDate))',\n",
              "        'CUM_MIN(SUM(Results.LuckyNo))',\n",
              "        'CUM_MEAN(AVG_TIME_BETWEEN(Results.DrawDate))',\n",
              "        'CUM_MIN(MEAN(Results.DrawNo))',\n",
              "        'LAST(Results.TIME_SINCE_PREVIOUS(DrawDate))',\n",
              "        'PERCENTILE(SKEW(Results.DrawNo))',\n",
              "        'PERCENTILE(STD(Results.TotalStrike))',\n",
              "        'LAST(Results.CUM_MAX(LuckyNo))', 'SKEW(Results.CUM_MAX(LuckyNo))',\n",
              "        'CUM_MAX(TIME_SINCE_PREVIOUS(first_Results_time))',\n",
              "        'LAST(Results.MONTH(DrawDate))',\n",
              "        'PERCENTILE(AVG_TIME_BETWEEN(Results.DrawDate))',\n",
              "        'TREND(Results.TIME_SINCE_PREVIOUS(DrawDate), DrawDate)',\n",
              "        'STD(Results.CUM_MEAN(LuckyNo))', 'CUM_MAX(MEAN(Results.DrawNo))',\n",
              "        'TREND(Results.PERCENTILE(LuckyNo), DrawDate)',\n",
              "        'SKEW(Results.TIME_SINCE_PREVIOUS(DrawDate))',\n",
              "        'PERCENTILE(MEAN(Results.TotalStrike))',\n",
              "        'TREND(Results.PERCENTILE(TotalStrike), DrawDate)',\n",
              "        'CUM_MEAN(MIN(Results.LuckyNo))', 'MEAN(Results.TIME_SINCE(DrawDate))',\n",
              "        'MEAN(Results.CUM_MIN(LuckyNo))', 'CUM_MIN(LAST(Results.LuckyNo))',\n",
              "        'PERCENTILE(LAST(Results.DrawNo))', 'LAST(Results.CUM_MEAN(LuckyNo))',\n",
              "        'SUM(Results.TIME_SINCE_PREVIOUS(DrawDate))',\n",
              "        'PERCENTILE(SUM(Results.DrawNo))',\n",
              "        'MIN(Results.TIME_SINCE_PREVIOUS(DrawDate))',\n",
              "        'LAST(Results.DAY(DrawDate))', 'MEAN(Results.CUM_MEAN(LuckyNo))',\n",
              "        'SUM(Results.TIME_SINCE(DrawDate))', 'MODE(Results.MONTH(DrawDate))',\n",
              "        'CUM_MAX(TIME_SINCE_LAST(Results.DrawDate))',\n",
              "        'CUM_MAX(AVG_TIME_BETWEEN(Results.DrawDate))',\n",
              "        'PERCENTILE(MEAN(Results.DrawNo))', 'MODE(Results.DAY(DrawDate))',\n",
              "        'PERCENTILE(TREND(Results.DrawNo, DrawDate))',\n",
              "        'CUM_MEAN(SKEW(Results.DrawNo))', 'CUM_MAX(STD(Results.DrawNo))',\n",
              "        'CUM_MIN(SKEW(Results.DrawNo))', 'SKEW(Results.CUM_MIN(LuckyNo))',\n",
              "        'CUM_SUM(SKEW(Results.DrawNo))', 'LAST(Results.CUM_MIN(LuckyNo))',\n",
              "        'NUM_UNIQUE(Results.MONTH(DrawDate))',\n",
              "        'TREND(Results.CUM_SUM(DrawNo), DrawDate)',\n",
              "        'CUM_MAX(SUM(Results.LuckyNo))',\n",
              "        'TREND(Results.CUM_MIN(LuckyNo), DrawDate)',\n",
              "        'SKEW(Results.CUM_SUM(DrawNo))',\n",
              "        'CUM_MIN(AVG_TIME_BETWEEN(Results.DrawDate))',\n",
              "        'STD(Results.TIME_SINCE_PREVIOUS(DrawDate))',\n",
              "        'MAX(Results.CUM_MEAN(LuckyNo))', 'SKEW(Results.CUM_MEAN(LuckyNo))',\n",
              "        'CUM_MIN(SUM(Results.DrawNo))',\n",
              "        'TREND(Results.CUM_MEAN(LuckyNo), DrawDate)',\n",
              "        'SUM(Results.CUM_MIN(LuckyNo))', 'STD(Results.PERCENTILE(DrawNo))',\n",
              "        'CUM_MIN(TIME_SINCE_LAST(Results.DrawDate))',\n",
              "        'STD(Results.CUM_SUM(DrawNo))',\n",
              "        'TREND(Results.PERCENTILE(DrawNo), DrawDate)',\n",
              "        'NUM_UNIQUE(Results.DAY(DrawDate))', 'CUM_MAX(SKEW(Results.DrawNo))'],\n",
              "       dtype='object'))"
            ]
          },
          "metadata": {
            "tags": []
          },
          "execution_count": 31
        }
      ]
    },
    {
      "cell_type": "code",
      "metadata": {
        "colab_type": "code",
        "id": "yZUhYrWFiRod",
        "colab": {}
      },
      "source": [
        "feature_matrix_selection['time'] = feature_matrix['time']\n",
        "feature_matrix_selection['TotalStrike'] = feature_matrix['TotalStrike']\n",
        "feature_matrix_selection['Label'] = feature_matrix['Label']"
      ],
      "execution_count": 0,
      "outputs": []
    },
    {
      "cell_type": "markdown",
      "metadata": {
        "colab_type": "text",
        "id": "hugygOqSiR6K"
      },
      "source": [
        "### Feature Correlation"
      ]
    },
    {
      "cell_type": "code",
      "metadata": {
        "colab_type": "code",
        "id": "JwecxRqfjtaH",
        "colab": {}
      },
      "source": [
        "# Check without feature selection\n",
        "# corrs = feature_matrix.corr().sort_values('Label')\n",
        "# corrs['Label'].tail(100)"
      ],
      "execution_count": 0,
      "outputs": []
    },
    {
      "cell_type": "code",
      "metadata": {
        "colab_type": "code",
        "id": "u7Ha8Zlkhuoe",
        "outputId": "901fb2ba-f477-45d8-b3f8-a8affd9b619f",
        "colab": {
          "base_uri": "https://localhost:8080/",
          "height": 374
        }
      },
      "source": [
        "# Check with feature selection\n",
        "corrs = feature_matrix_selection.corr().sort_values('Label')\n",
        "corrs['Label'].tail(20)"
      ],
      "execution_count": 34,
      "outputs": [
        {
          "output_type": "execute_result",
          "data": {
            "text/plain": [
              "TIME_SINCE_LAST(Results.DrawDate)                   0.000913\n",
              "MIN(Results.TIME_SINCE_PREVIOUS(DrawDate))          0.000984\n",
              "SKEW(Results.CUM_MAX(LuckyNo))                      0.000985\n",
              "TIME_SINCE_PREVIOUS(first_Results_time)             0.000987\n",
              "LAST(Results.CUM_MEAN(LuckyNo))                     0.000988\n",
              "MAX(Results.CUM_MEAN(LuckyNo))                      0.001007\n",
              "PERCENTILE(MEAN(Results.DrawNo))                    0.001022\n",
              "CUM_SUM(SUM(Results.TotalStrike))                   0.001039\n",
              "TREND(Results.PERCENTILE(LuckyNo), DrawDate)        0.001139\n",
              "CUM_MAX(TIME_SINCE_PREVIOUS(first_Results_time))    0.001145\n",
              "CUM_MIN(TIME_SINCE_LAST(Results.DrawDate))          0.001153\n",
              "CUM_MIN(SKEW(Results.DrawNo))                       0.001267\n",
              "TREND(Results.CUM_MEAN(LuckyNo), DrawDate)          0.001493\n",
              "TREND(Results.PERCENTILE(DrawNo), DrawDate)         0.001528\n",
              "PERCENTILE(MEAN(Results.TotalStrike))               0.001564\n",
              "MIN(Results.DrawNo)                                 0.001718\n",
              "STD(Results.CUM_MEAN(LuckyNo))                      0.002331\n",
              "LAST(Results.CUM_MIN(LuckyNo))                      0.003472\n",
              "TotalStrike                                         0.991808\n",
              "Label                                               1.000000\n",
              "Name: Label, dtype: float64"
            ]
          },
          "metadata": {
            "tags": []
          },
          "execution_count": 34
        }
      ]
    },
    {
      "cell_type": "markdown",
      "metadata": {
        "colab_type": "text",
        "id": "b5MHgSCaQCh1"
      },
      "source": [
        "### Balancing data"
      ]
    },
    {
      "cell_type": "code",
      "metadata": {
        "colab_type": "code",
        "id": "pMtgp-f-Uzee",
        "colab": {}
      },
      "source": [
        "from imblearn.under_sampling import (RandomUnderSampler, \n",
        "                                     ClusterCentroids,\n",
        "                                     TomekLinks,\n",
        "                                     NeighbourhoodCleaningRule,\n",
        "                                     AllKNN,\n",
        "                                     NearMiss)\n",
        "from imblearn.pipeline import make_pipeline\n",
        "\n",
        "def under_sampling(feature_data, cut_off_date, ratio=0.8):\n",
        "  y = feature_data.loc[feature_data['time'] < cut_off_date, 'Label']\n",
        "  X = feature_data[feature_data['time'] < cut_off_date].drop(columns = ['Label', 'TotalStrike','time','date'], errors='ignore')\n",
        "  total_count = y.value_counts()\n",
        "  neg_count = y.value_counts()[0]\n",
        "  pos_count = y.value_counts()[1]\n",
        "  target_neg_count = int(pos_count / (1-ratio))\n",
        "  target_ratio = {0: target_neg_count, 1:  pos_count}\n",
        "  print(X.shape, y.shape, target_ratio)\n",
        "  print('Before sampling {}'.format(Counter(y)))\n",
        "  sampler = RandomUnderSampler(sampling_strategy=target_ratio, random_state=42)\n",
        "  X_bal, y_bal = sampler.fit_sample(X, y)\n",
        "  print('Undersampling {}'.format(Counter(y_bal)))\n",
        "  return X_bal, y_bal\n",
        "      "
      ],
      "execution_count": 0,
      "outputs": []
    },
    {
      "cell_type": "code",
      "metadata": {
        "id": "C-qPNCC90sXi",
        "colab_type": "code",
        "colab": {
          "base_uri": "https://localhost:8080/",
          "height": 102
        },
        "outputId": "939f4b85-adc2-4f11-807d-27ae8bfbdf18"
      },
      "source": [
        "%time under_sampling(feature_matrix_selection, pd.datetime(2019,6,1))"
      ],
      "execution_count": 0,
      "outputs": [
        {
          "output_type": "stream",
          "text": [
            "(889893, 89) (889893,) {0: 149165, 1: 29833}\n",
            "Before sampling Counter({0: 860060, 1: 29833})\n",
            "Undersampling Counter({0: 149165, 1: 29833})\n",
            "CPU times: user 1.15 s, sys: 26.9 ms, total: 1.17 s\n",
            "Wall time: 1.18 s\n"
          ],
          "name": "stdout"
        }
      ]
    },
    {
      "cell_type": "markdown",
      "metadata": {
        "colab_type": "text",
        "id": "waeD1ED_kqDB"
      },
      "source": [
        "## Modeling"
      ]
    },
    {
      "cell_type": "code",
      "metadata": {
        "colab_type": "code",
        "id": "9Gq0iPZ1C8ka",
        "colab": {}
      },
      "source": [
        "def predict(dt, feature_matrix, return_probs = False): \n",
        "   \n",
        "    feature_matrix['date'] = feature_matrix['time']\n",
        "\n",
        "    # Subset labels\n",
        "    test_labels = feature_matrix.loc[feature_matrix['date'] == dt, 'Label']\n",
        "    train_labels = feature_matrix.loc[feature_matrix['date'] < dt, 'Label']\n",
        "\n",
        "    print(f\"Size of test labels {len(test_labels)}\")\n",
        "    print(f\"Size of train labels {len(train_labels)}\")\n",
        "    \n",
        "    # Features\n",
        "    X_train = feature_matrix[feature_matrix['date'] < dt].drop(columns = ['NumberId', 'time',\n",
        "                                                                                     'date', 'Label', 'TotalStrike', 'month', 'year', 'index'], errors='ignore')\n",
        "    X_test = feature_matrix[feature_matrix['date'] == dt].drop(columns = ['NumberId', 'time',\n",
        "                                                                                     'date', 'Label', 'TotalStrike', 'month', 'year', 'index'], errors='ignore')\n",
        "    print(f\"Size of X train {len(X_train)}\")\n",
        "    print(f\"Size of X test  {len(X_test)}\")\n",
        "   \n",
        "    feature_names = list(X_train.columns)\n",
        "    \n",
        "    # Balance the data\n",
        "    X_train, train_labels = under_sampling(X_train, train_labels)\n",
        "\n",
        "    # Impute and scale features\n",
        "    pipeline = Pipeline([('imputer', SimpleImputer(strategy = 'constant', fill_value=0)), \n",
        "                      ('scaler', StandardScaler())])\n",
        "\n",
        "    # Fit and transform training data\n",
        "    X_train = pipeline.fit_transform(X_train)\n",
        "    X_test = pipeline.transform(X_test)\n",
        "\n",
        "\n",
        "    # Labels\n",
        "    y_train = np.array(train_labels).reshape((-1, ))\n",
        "    y_test = np.array(test_labels).reshape((-1, ))\n",
        "    \n",
        "    print('Training on {} observations.'.format(len(X_train)))\n",
        "    print('Testing on {} observations.\\n'.format(len(X_test)))\n",
        "    \n",
        "    # https://xgboost.readthedocs.io/en/latest/parameter.html\n",
        "    # https://xgboost.readthedocs.io/en/latest/tutorials/param_tuning.html\n",
        "    # https://stats.stackexchange.com/questions/224512/reduce-false-positives-with-xgboost\n",
        "    hit_ratio = float(train_labels.value_counts()[0]/train_labels.value_counts()[1]) \n",
        "    #hit_ratio = 33\n",
        "    print(f\"Hit ratio - {hit_ratio}\")\n",
        "\n",
        "     # Create the classifier\n",
        "    model = xgb.XGBClassifier(n_jobs=-1, \n",
        "                             random_state = 42,\n",
        "                             n_estimators=100, \n",
        "                             max_depth=3,\n",
        "                             min_child_weight=1,\n",
        "                             scale_pos_weight=hit_ratio \n",
        "                             )\n",
        "\n",
        "    # Train \n",
        "    model.fit(X_train, y_train)\n",
        "    \n",
        "    # Make predictions\n",
        "    predictions = model.predict(X_test)\n",
        "    probs = model.predict_proba(X_test)[:, 1]\n",
        "    \n",
        "    # Total positive\n",
        "    positive = np.where((predictions==1))\n",
        "    print('Total predicted to be positive: ', len(positive[0]))\n",
        "  \n",
        "    # Calculate metrics\n",
        "    rpt = classification_report(y_test, predictions)\n",
        "    cm = confusion_matrix(y_test, predictions)\n",
        "    print('Classification report')\n",
        "    print(rpt)\n",
        "    print('Confusion matrix')\n",
        "    print(cm)\n",
        "\n",
        "    # Total predicted matches\n",
        "    print('Predicted matches')\n",
        "    pred = np.where((predictions==1))\n",
        "    print(len(pred[0]), pred)\n",
        "  \n",
        "    if len(positive[0]) > 0:\n",
        "    \n",
        "      # Matching draws\n",
        "      print('Matched draws')\n",
        "      md = np.where((predictions==1) & (y_test==1))\n",
        "      print(f\"Count: {len(md[0])}, Index: {md}\")\n",
        "      month_data = feature_matrix.loc[feature_matrix['date'] == dt]\n",
        "      numbers = month_data.iloc[md[0]][['MIN(Results.LuckyNo)']]\n",
        "\n",
        "      \n",
        "      display(origin_data[(origin_data['DrawDate'].dt.year == dt.year) & \n",
        "                          (origin_data['DrawDate'].dt.month == dt.month) &  \n",
        "                          (origin_data['LuckyNo'].isin(numbers['MIN(Results.LuckyNo)']))].head(len(positive[0])))                                                   \n",
        "    else:\n",
        "      print('No luck this month')                 \n",
        "\n",
        "    # Feature importances\n",
        "    fi = pd.DataFrame({'feature': feature_names, 'importance': model.feature_importances_})\n",
        "    \n",
        "    if return_probs:\n",
        "        return fi, probs\n",
        "    \n",
        "    return fi"
      ],
      "execution_count": 0,
      "outputs": []
    },
    {
      "cell_type": "code",
      "metadata": {
        "id": "p3Hhx-vvZBy8",
        "colab_type": "code",
        "colab": {}
      },
      "source": [
        "feature_matrix_selection.columns"
      ],
      "execution_count": 0,
      "outputs": []
    },
    {
      "cell_type": "code",
      "metadata": {
        "colab_type": "code",
        "id": "EFAFoPBEoWFi",
        "outputId": "e7811068-7f5d-4482-bc23-15ec72eb14df",
        "colab": {
          "base_uri": "https://localhost:8080/",
          "height": 834
        }
      },
      "source": [
        "%time june_2019 = predict(pd.datetime(2019,6,1), feature_matrix_selection)"
      ],
      "execution_count": 114,
      "outputs": [
        {
          "output_type": "stream",
          "text": [
            "Size of test labels 10000\n",
            "Size of train labels 889893\n",
            "Size of X train 889893\n",
            "Size of X test  10000\n"
          ],
          "name": "stdout"
        },
        {
          "output_type": "error",
          "ename": "KeyError",
          "evalue": "ignored",
          "traceback": [
            "\u001b[0;31m---------------------------------------------------------------------------\u001b[0m",
            "\u001b[0;31mKeyError\u001b[0m                                  Traceback (most recent call last)",
            "\u001b[0;32m/usr/local/lib/python3.6/dist-packages/pandas/core/indexes/base.py\u001b[0m in \u001b[0;36mget_loc\u001b[0;34m(self, key, method, tolerance)\u001b[0m\n\u001b[1;32m   2896\u001b[0m             \u001b[0;32mtry\u001b[0m\u001b[0;34m:\u001b[0m\u001b[0;34m\u001b[0m\u001b[0;34m\u001b[0m\u001b[0m\n\u001b[0;32m-> 2897\u001b[0;31m                 \u001b[0;32mreturn\u001b[0m \u001b[0mself\u001b[0m\u001b[0;34m.\u001b[0m\u001b[0m_engine\u001b[0m\u001b[0;34m.\u001b[0m\u001b[0mget_loc\u001b[0m\u001b[0;34m(\u001b[0m\u001b[0mkey\u001b[0m\u001b[0;34m)\u001b[0m\u001b[0;34m\u001b[0m\u001b[0;34m\u001b[0m\u001b[0m\n\u001b[0m\u001b[1;32m   2898\u001b[0m             \u001b[0;32mexcept\u001b[0m \u001b[0mKeyError\u001b[0m\u001b[0;34m:\u001b[0m\u001b[0;34m\u001b[0m\u001b[0;34m\u001b[0m\u001b[0m\n",
            "\u001b[0;32mpandas/_libs/index.pyx\u001b[0m in \u001b[0;36mpandas._libs.index.IndexEngine.get_loc\u001b[0;34m()\u001b[0m\n",
            "\u001b[0;32mpandas/_libs/index.pyx\u001b[0m in \u001b[0;36mpandas._libs.index.IndexEngine.get_loc\u001b[0;34m()\u001b[0m\n",
            "\u001b[0;32mpandas/_libs/hashtable_class_helper.pxi\u001b[0m in \u001b[0;36mpandas._libs.hashtable.PyObjectHashTable.get_item\u001b[0;34m()\u001b[0m\n",
            "\u001b[0;32mpandas/_libs/hashtable_class_helper.pxi\u001b[0m in \u001b[0;36mpandas._libs.hashtable.PyObjectHashTable.get_item\u001b[0;34m()\u001b[0m\n",
            "\u001b[0;31mKeyError\u001b[0m: 'time'",
            "\nDuring handling of the above exception, another exception occurred:\n",
            "\u001b[0;31mKeyError\u001b[0m                                  Traceback (most recent call last)",
            "\u001b[0;32m<ipython-input-114-831196860ac8>\u001b[0m in \u001b[0;36m<module>\u001b[0;34m()\u001b[0m\n\u001b[0;32m----> 1\u001b[0;31m \u001b[0mget_ipython\u001b[0m\u001b[0;34m(\u001b[0m\u001b[0;34m)\u001b[0m\u001b[0;34m.\u001b[0m\u001b[0mmagic\u001b[0m\u001b[0;34m(\u001b[0m\u001b[0;34m'time june_2019 = predict(pd.datetime(2019,6,1), feature_matrix_selection)'\u001b[0m\u001b[0;34m)\u001b[0m\u001b[0;34m\u001b[0m\u001b[0;34m\u001b[0m\u001b[0m\n\u001b[0m",
            "\u001b[0;32m/usr/local/lib/python3.6/dist-packages/IPython/core/interactiveshell.py\u001b[0m in \u001b[0;36mmagic\u001b[0;34m(self, arg_s)\u001b[0m\n\u001b[1;32m   2158\u001b[0m         \u001b[0mmagic_name\u001b[0m\u001b[0;34m,\u001b[0m \u001b[0m_\u001b[0m\u001b[0;34m,\u001b[0m \u001b[0mmagic_arg_s\u001b[0m \u001b[0;34m=\u001b[0m \u001b[0marg_s\u001b[0m\u001b[0;34m.\u001b[0m\u001b[0mpartition\u001b[0m\u001b[0;34m(\u001b[0m\u001b[0;34m' '\u001b[0m\u001b[0;34m)\u001b[0m\u001b[0;34m\u001b[0m\u001b[0;34m\u001b[0m\u001b[0m\n\u001b[1;32m   2159\u001b[0m         \u001b[0mmagic_name\u001b[0m \u001b[0;34m=\u001b[0m \u001b[0mmagic_name\u001b[0m\u001b[0;34m.\u001b[0m\u001b[0mlstrip\u001b[0m\u001b[0;34m(\u001b[0m\u001b[0mprefilter\u001b[0m\u001b[0;34m.\u001b[0m\u001b[0mESC_MAGIC\u001b[0m\u001b[0;34m)\u001b[0m\u001b[0;34m\u001b[0m\u001b[0;34m\u001b[0m\u001b[0m\n\u001b[0;32m-> 2160\u001b[0;31m         \u001b[0;32mreturn\u001b[0m \u001b[0mself\u001b[0m\u001b[0;34m.\u001b[0m\u001b[0mrun_line_magic\u001b[0m\u001b[0;34m(\u001b[0m\u001b[0mmagic_name\u001b[0m\u001b[0;34m,\u001b[0m \u001b[0mmagic_arg_s\u001b[0m\u001b[0;34m)\u001b[0m\u001b[0;34m\u001b[0m\u001b[0;34m\u001b[0m\u001b[0m\n\u001b[0m\u001b[1;32m   2161\u001b[0m \u001b[0;34m\u001b[0m\u001b[0m\n\u001b[1;32m   2162\u001b[0m     \u001b[0;31m#-------------------------------------------------------------------------\u001b[0m\u001b[0;34m\u001b[0m\u001b[0;34m\u001b[0m\u001b[0;34m\u001b[0m\u001b[0m\n",
            "\u001b[0;32m/usr/local/lib/python3.6/dist-packages/IPython/core/interactiveshell.py\u001b[0m in \u001b[0;36mrun_line_magic\u001b[0;34m(self, magic_name, line)\u001b[0m\n\u001b[1;32m   2079\u001b[0m                 \u001b[0mkwargs\u001b[0m\u001b[0;34m[\u001b[0m\u001b[0;34m'local_ns'\u001b[0m\u001b[0;34m]\u001b[0m \u001b[0;34m=\u001b[0m \u001b[0msys\u001b[0m\u001b[0;34m.\u001b[0m\u001b[0m_getframe\u001b[0m\u001b[0;34m(\u001b[0m\u001b[0mstack_depth\u001b[0m\u001b[0;34m)\u001b[0m\u001b[0;34m.\u001b[0m\u001b[0mf_locals\u001b[0m\u001b[0;34m\u001b[0m\u001b[0;34m\u001b[0m\u001b[0m\n\u001b[1;32m   2080\u001b[0m             \u001b[0;32mwith\u001b[0m \u001b[0mself\u001b[0m\u001b[0;34m.\u001b[0m\u001b[0mbuiltin_trap\u001b[0m\u001b[0;34m:\u001b[0m\u001b[0;34m\u001b[0m\u001b[0;34m\u001b[0m\u001b[0m\n\u001b[0;32m-> 2081\u001b[0;31m                 \u001b[0mresult\u001b[0m \u001b[0;34m=\u001b[0m \u001b[0mfn\u001b[0m\u001b[0;34m(\u001b[0m\u001b[0;34m*\u001b[0m\u001b[0margs\u001b[0m\u001b[0;34m,\u001b[0m\u001b[0;34m**\u001b[0m\u001b[0mkwargs\u001b[0m\u001b[0;34m)\u001b[0m\u001b[0;34m\u001b[0m\u001b[0;34m\u001b[0m\u001b[0m\n\u001b[0m\u001b[1;32m   2082\u001b[0m             \u001b[0;32mreturn\u001b[0m \u001b[0mresult\u001b[0m\u001b[0;34m\u001b[0m\u001b[0;34m\u001b[0m\u001b[0m\n\u001b[1;32m   2083\u001b[0m \u001b[0;34m\u001b[0m\u001b[0m\n",
            "\u001b[0;32m</usr/local/lib/python3.6/dist-packages/decorator.py:decorator-gen-60>\u001b[0m in \u001b[0;36mtime\u001b[0;34m(self, line, cell, local_ns)\u001b[0m\n",
            "\u001b[0;32m/usr/local/lib/python3.6/dist-packages/IPython/core/magic.py\u001b[0m in \u001b[0;36m<lambda>\u001b[0;34m(f, *a, **k)\u001b[0m\n\u001b[1;32m    186\u001b[0m     \u001b[0;31m# but it's overkill for just that one bit of state.\u001b[0m\u001b[0;34m\u001b[0m\u001b[0;34m\u001b[0m\u001b[0;34m\u001b[0m\u001b[0m\n\u001b[1;32m    187\u001b[0m     \u001b[0;32mdef\u001b[0m \u001b[0mmagic_deco\u001b[0m\u001b[0;34m(\u001b[0m\u001b[0marg\u001b[0m\u001b[0;34m)\u001b[0m\u001b[0;34m:\u001b[0m\u001b[0;34m\u001b[0m\u001b[0;34m\u001b[0m\u001b[0m\n\u001b[0;32m--> 188\u001b[0;31m         \u001b[0mcall\u001b[0m \u001b[0;34m=\u001b[0m \u001b[0;32mlambda\u001b[0m \u001b[0mf\u001b[0m\u001b[0;34m,\u001b[0m \u001b[0;34m*\u001b[0m\u001b[0ma\u001b[0m\u001b[0;34m,\u001b[0m \u001b[0;34m**\u001b[0m\u001b[0mk\u001b[0m\u001b[0;34m:\u001b[0m \u001b[0mf\u001b[0m\u001b[0;34m(\u001b[0m\u001b[0;34m*\u001b[0m\u001b[0ma\u001b[0m\u001b[0;34m,\u001b[0m \u001b[0;34m**\u001b[0m\u001b[0mk\u001b[0m\u001b[0;34m)\u001b[0m\u001b[0;34m\u001b[0m\u001b[0;34m\u001b[0m\u001b[0m\n\u001b[0m\u001b[1;32m    189\u001b[0m \u001b[0;34m\u001b[0m\u001b[0m\n\u001b[1;32m    190\u001b[0m         \u001b[0;32mif\u001b[0m \u001b[0mcallable\u001b[0m\u001b[0;34m(\u001b[0m\u001b[0marg\u001b[0m\u001b[0;34m)\u001b[0m\u001b[0;34m:\u001b[0m\u001b[0;34m\u001b[0m\u001b[0;34m\u001b[0m\u001b[0m\n",
            "\u001b[0;32m/usr/local/lib/python3.6/dist-packages/IPython/core/magics/execution.py\u001b[0m in \u001b[0;36mtime\u001b[0;34m(self, line, cell, local_ns)\u001b[0m\n\u001b[1;32m   1191\u001b[0m         \u001b[0;32melse\u001b[0m\u001b[0;34m:\u001b[0m\u001b[0;34m\u001b[0m\u001b[0;34m\u001b[0m\u001b[0m\n\u001b[1;32m   1192\u001b[0m             \u001b[0mst\u001b[0m \u001b[0;34m=\u001b[0m \u001b[0mclock2\u001b[0m\u001b[0;34m(\u001b[0m\u001b[0;34m)\u001b[0m\u001b[0;34m\u001b[0m\u001b[0;34m\u001b[0m\u001b[0m\n\u001b[0;32m-> 1193\u001b[0;31m             \u001b[0mexec\u001b[0m\u001b[0;34m(\u001b[0m\u001b[0mcode\u001b[0m\u001b[0;34m,\u001b[0m \u001b[0mglob\u001b[0m\u001b[0;34m,\u001b[0m \u001b[0mlocal_ns\u001b[0m\u001b[0;34m)\u001b[0m\u001b[0;34m\u001b[0m\u001b[0;34m\u001b[0m\u001b[0m\n\u001b[0m\u001b[1;32m   1194\u001b[0m             \u001b[0mend\u001b[0m \u001b[0;34m=\u001b[0m \u001b[0mclock2\u001b[0m\u001b[0;34m(\u001b[0m\u001b[0;34m)\u001b[0m\u001b[0;34m\u001b[0m\u001b[0;34m\u001b[0m\u001b[0m\n\u001b[1;32m   1195\u001b[0m             \u001b[0mout\u001b[0m \u001b[0;34m=\u001b[0m \u001b[0;32mNone\u001b[0m\u001b[0;34m\u001b[0m\u001b[0;34m\u001b[0m\u001b[0m\n",
            "\u001b[0;32m<timed exec>\u001b[0m in \u001b[0;36m<module>\u001b[0;34m()\u001b[0m\n",
            "\u001b[0;32m<ipython-input-112-d59c2447690f>\u001b[0m in \u001b[0;36mpredict\u001b[0;34m(dt, feature_matrix, return_probs)\u001b[0m\n\u001b[1;32m     21\u001b[0m \u001b[0;34m\u001b[0m\u001b[0m\n\u001b[1;32m     22\u001b[0m     \u001b[0;31m# Balance the data\u001b[0m\u001b[0;34m\u001b[0m\u001b[0;34m\u001b[0m\u001b[0;34m\u001b[0m\u001b[0m\n\u001b[0;32m---> 23\u001b[0;31m     \u001b[0mX_train\u001b[0m\u001b[0;34m,\u001b[0m \u001b[0mtrain_labels\u001b[0m \u001b[0;34m=\u001b[0m \u001b[0munder_sampling\u001b[0m\u001b[0;34m(\u001b[0m\u001b[0mX_train\u001b[0m\u001b[0;34m,\u001b[0m \u001b[0mtrain_labels\u001b[0m\u001b[0;34m)\u001b[0m\u001b[0;34m\u001b[0m\u001b[0;34m\u001b[0m\u001b[0m\n\u001b[0m\u001b[1;32m     24\u001b[0m \u001b[0;34m\u001b[0m\u001b[0m\n\u001b[1;32m     25\u001b[0m     \u001b[0;31m# Impute and scale features\u001b[0m\u001b[0;34m\u001b[0m\u001b[0;34m\u001b[0m\u001b[0;34m\u001b[0m\u001b[0m\n",
            "\u001b[0;32m<ipython-input-106-a0ce5f427b18>\u001b[0m in \u001b[0;36munder_sampling\u001b[0;34m(feature_data, cut_off_date, ratio)\u001b[0m\n\u001b[1;32m      8\u001b[0m \u001b[0;34m\u001b[0m\u001b[0m\n\u001b[1;32m      9\u001b[0m \u001b[0;32mdef\u001b[0m \u001b[0munder_sampling\u001b[0m\u001b[0;34m(\u001b[0m\u001b[0mfeature_data\u001b[0m\u001b[0;34m,\u001b[0m \u001b[0mcut_off_date\u001b[0m\u001b[0;34m,\u001b[0m \u001b[0mratio\u001b[0m\u001b[0;34m=\u001b[0m\u001b[0;36m0.8\u001b[0m\u001b[0;34m)\u001b[0m\u001b[0;34m:\u001b[0m\u001b[0;34m\u001b[0m\u001b[0;34m\u001b[0m\u001b[0m\n\u001b[0;32m---> 10\u001b[0;31m   \u001b[0my\u001b[0m \u001b[0;34m=\u001b[0m \u001b[0mfeature_data\u001b[0m\u001b[0;34m.\u001b[0m\u001b[0mloc\u001b[0m\u001b[0;34m[\u001b[0m\u001b[0mfeature_data\u001b[0m\u001b[0;34m[\u001b[0m\u001b[0;34m'time'\u001b[0m\u001b[0;34m]\u001b[0m \u001b[0;34m<\u001b[0m \u001b[0mcut_off_date\u001b[0m\u001b[0;34m,\u001b[0m \u001b[0;34m'Label'\u001b[0m\u001b[0;34m]\u001b[0m\u001b[0;34m\u001b[0m\u001b[0;34m\u001b[0m\u001b[0m\n\u001b[0m\u001b[1;32m     11\u001b[0m   \u001b[0mX\u001b[0m \u001b[0;34m=\u001b[0m \u001b[0mfeature_data\u001b[0m\u001b[0;34m[\u001b[0m\u001b[0mfeature_data\u001b[0m\u001b[0;34m[\u001b[0m\u001b[0;34m'time'\u001b[0m\u001b[0;34m]\u001b[0m \u001b[0;34m<\u001b[0m \u001b[0mcut_off_date\u001b[0m\u001b[0;34m]\u001b[0m\u001b[0;34m.\u001b[0m\u001b[0mdrop\u001b[0m\u001b[0;34m(\u001b[0m\u001b[0mcolumns\u001b[0m \u001b[0;34m=\u001b[0m \u001b[0;34m[\u001b[0m\u001b[0;34m'Label'\u001b[0m\u001b[0;34m,\u001b[0m \u001b[0;34m'TotalStrike'\u001b[0m\u001b[0;34m,\u001b[0m\u001b[0;34m'time'\u001b[0m\u001b[0;34m,\u001b[0m\u001b[0;34m'date'\u001b[0m\u001b[0;34m]\u001b[0m\u001b[0;34m)\u001b[0m\u001b[0;34m\u001b[0m\u001b[0;34m\u001b[0m\u001b[0m\n\u001b[1;32m     12\u001b[0m   \u001b[0mtotal_count\u001b[0m \u001b[0;34m=\u001b[0m \u001b[0my\u001b[0m\u001b[0;34m.\u001b[0m\u001b[0mvalue_counts\u001b[0m\u001b[0;34m(\u001b[0m\u001b[0;34m)\u001b[0m\u001b[0;34m\u001b[0m\u001b[0;34m\u001b[0m\u001b[0m\n",
            "\u001b[0;32m/usr/local/lib/python3.6/dist-packages/pandas/core/frame.py\u001b[0m in \u001b[0;36m__getitem__\u001b[0;34m(self, key)\u001b[0m\n\u001b[1;32m   2993\u001b[0m             \u001b[0;32mif\u001b[0m \u001b[0mself\u001b[0m\u001b[0;34m.\u001b[0m\u001b[0mcolumns\u001b[0m\u001b[0;34m.\u001b[0m\u001b[0mnlevels\u001b[0m \u001b[0;34m>\u001b[0m \u001b[0;36m1\u001b[0m\u001b[0;34m:\u001b[0m\u001b[0;34m\u001b[0m\u001b[0;34m\u001b[0m\u001b[0m\n\u001b[1;32m   2994\u001b[0m                 \u001b[0;32mreturn\u001b[0m \u001b[0mself\u001b[0m\u001b[0;34m.\u001b[0m\u001b[0m_getitem_multilevel\u001b[0m\u001b[0;34m(\u001b[0m\u001b[0mkey\u001b[0m\u001b[0;34m)\u001b[0m\u001b[0;34m\u001b[0m\u001b[0;34m\u001b[0m\u001b[0m\n\u001b[0;32m-> 2995\u001b[0;31m             \u001b[0mindexer\u001b[0m \u001b[0;34m=\u001b[0m \u001b[0mself\u001b[0m\u001b[0;34m.\u001b[0m\u001b[0mcolumns\u001b[0m\u001b[0;34m.\u001b[0m\u001b[0mget_loc\u001b[0m\u001b[0;34m(\u001b[0m\u001b[0mkey\u001b[0m\u001b[0;34m)\u001b[0m\u001b[0;34m\u001b[0m\u001b[0;34m\u001b[0m\u001b[0m\n\u001b[0m\u001b[1;32m   2996\u001b[0m             \u001b[0;32mif\u001b[0m \u001b[0mis_integer\u001b[0m\u001b[0;34m(\u001b[0m\u001b[0mindexer\u001b[0m\u001b[0;34m)\u001b[0m\u001b[0;34m:\u001b[0m\u001b[0;34m\u001b[0m\u001b[0;34m\u001b[0m\u001b[0m\n\u001b[1;32m   2997\u001b[0m                 \u001b[0mindexer\u001b[0m \u001b[0;34m=\u001b[0m \u001b[0;34m[\u001b[0m\u001b[0mindexer\u001b[0m\u001b[0;34m]\u001b[0m\u001b[0;34m\u001b[0m\u001b[0;34m\u001b[0m\u001b[0m\n",
            "\u001b[0;32m/usr/local/lib/python3.6/dist-packages/pandas/core/indexes/base.py\u001b[0m in \u001b[0;36mget_loc\u001b[0;34m(self, key, method, tolerance)\u001b[0m\n\u001b[1;32m   2897\u001b[0m                 \u001b[0;32mreturn\u001b[0m \u001b[0mself\u001b[0m\u001b[0;34m.\u001b[0m\u001b[0m_engine\u001b[0m\u001b[0;34m.\u001b[0m\u001b[0mget_loc\u001b[0m\u001b[0;34m(\u001b[0m\u001b[0mkey\u001b[0m\u001b[0;34m)\u001b[0m\u001b[0;34m\u001b[0m\u001b[0;34m\u001b[0m\u001b[0m\n\u001b[1;32m   2898\u001b[0m             \u001b[0;32mexcept\u001b[0m \u001b[0mKeyError\u001b[0m\u001b[0;34m:\u001b[0m\u001b[0;34m\u001b[0m\u001b[0;34m\u001b[0m\u001b[0m\n\u001b[0;32m-> 2899\u001b[0;31m                 \u001b[0;32mreturn\u001b[0m \u001b[0mself\u001b[0m\u001b[0;34m.\u001b[0m\u001b[0m_engine\u001b[0m\u001b[0;34m.\u001b[0m\u001b[0mget_loc\u001b[0m\u001b[0;34m(\u001b[0m\u001b[0mself\u001b[0m\u001b[0;34m.\u001b[0m\u001b[0m_maybe_cast_indexer\u001b[0m\u001b[0;34m(\u001b[0m\u001b[0mkey\u001b[0m\u001b[0;34m)\u001b[0m\u001b[0;34m)\u001b[0m\u001b[0;34m\u001b[0m\u001b[0;34m\u001b[0m\u001b[0m\n\u001b[0m\u001b[1;32m   2900\u001b[0m         \u001b[0mindexer\u001b[0m \u001b[0;34m=\u001b[0m \u001b[0mself\u001b[0m\u001b[0;34m.\u001b[0m\u001b[0mget_indexer\u001b[0m\u001b[0;34m(\u001b[0m\u001b[0;34m[\u001b[0m\u001b[0mkey\u001b[0m\u001b[0;34m]\u001b[0m\u001b[0;34m,\u001b[0m \u001b[0mmethod\u001b[0m\u001b[0;34m=\u001b[0m\u001b[0mmethod\u001b[0m\u001b[0;34m,\u001b[0m \u001b[0mtolerance\u001b[0m\u001b[0;34m=\u001b[0m\u001b[0mtolerance\u001b[0m\u001b[0;34m)\u001b[0m\u001b[0;34m\u001b[0m\u001b[0;34m\u001b[0m\u001b[0m\n\u001b[1;32m   2901\u001b[0m         \u001b[0;32mif\u001b[0m \u001b[0mindexer\u001b[0m\u001b[0;34m.\u001b[0m\u001b[0mndim\u001b[0m \u001b[0;34m>\u001b[0m \u001b[0;36m1\u001b[0m \u001b[0;32mor\u001b[0m \u001b[0mindexer\u001b[0m\u001b[0;34m.\u001b[0m\u001b[0msize\u001b[0m \u001b[0;34m>\u001b[0m \u001b[0;36m1\u001b[0m\u001b[0;34m:\u001b[0m\u001b[0;34m\u001b[0m\u001b[0;34m\u001b[0m\u001b[0m\n",
            "\u001b[0;32mpandas/_libs/index.pyx\u001b[0m in \u001b[0;36mpandas._libs.index.IndexEngine.get_loc\u001b[0;34m()\u001b[0m\n",
            "\u001b[0;32mpandas/_libs/index.pyx\u001b[0m in \u001b[0;36mpandas._libs.index.IndexEngine.get_loc\u001b[0;34m()\u001b[0m\n",
            "\u001b[0;32mpandas/_libs/hashtable_class_helper.pxi\u001b[0m in \u001b[0;36mpandas._libs.hashtable.PyObjectHashTable.get_item\u001b[0;34m()\u001b[0m\n",
            "\u001b[0;32mpandas/_libs/hashtable_class_helper.pxi\u001b[0m in \u001b[0;36mpandas._libs.hashtable.PyObjectHashTable.get_item\u001b[0;34m()\u001b[0m\n",
            "\u001b[0;31mKeyError\u001b[0m: 'time'"
          ]
        }
      ]
    },
    {
      "cell_type": "code",
      "metadata": {
        "colab_type": "code",
        "id": "rV0niLRnfmsj",
        "colab": {}
      },
      "source": [
        "#normalized_fi = plot_feature_importances(june_2019)"
      ],
      "execution_count": 0,
      "outputs": []
    },
    {
      "cell_type": "code",
      "metadata": {
        "colab_type": "code",
        "id": "ucXb4eBFHNNl",
        "colab": {}
      },
      "source": [
        ""
      ],
      "execution_count": 0,
      "outputs": []
    }
  ]
}
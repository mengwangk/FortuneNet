{
  "nbformat": 4,
  "nbformat_minor": 0,
  "metadata": {
    "accelerator": "GPU",
    "colab": {
      "name": "04_02_automated_machine_learning.ipynb",
      "provenance": [],
      "toc_visible": true,
      "machine_shape": "hm",
      "include_colab_link": true
    },
    "kernelspec": {
      "display_name": "Python 3",
      "language": "python",
      "name": "python3"
    },
    "language_info": {
      "codemirror_mode": {
        "name": "ipython",
        "version": 3
      },
      "file_extension": ".py",
      "mimetype": "text/x-python",
      "name": "python",
      "nbconvert_exporter": "python",
      "pygments_lexer": "ipython3",
      "version": "3.7.2"
    }
  },
  "cells": [
    {
      "cell_type": "markdown",
      "metadata": {
        "id": "view-in-github",
        "colab_type": "text"
      },
      "source": [
        "<a href=\"https://colab.research.google.com/github/mengwangk/dl-projects/blob/master/04_05_auto_ml_1.ipynb\" target=\"_parent\"><img src=\"https://colab.research.google.com/assets/colab-badge.svg\" alt=\"Open In Colab\"/></a>"
      ]
    },
    {
      "cell_type": "markdown",
      "metadata": {
        "colab_type": "text",
        "id": "4hyoPGdjpqa_"
      },
      "source": [
        "# Automated ML - Tuning"
      ]
    },
    {
      "cell_type": "code",
      "metadata": {
        "colab_type": "code",
        "id": "SLxr2k_ue8yq",
        "colab": {}
      },
      "source": [
        "COLAB = True\n",
        "\n",
        "DATASET_NAME = '4D.zip'\n",
        "\n",
        "FEATURE_DATASET_PREFIX = 'feature_matrix_d2_v1'"
      ],
      "execution_count": 0,
      "outputs": []
    },
    {
      "cell_type": "code",
      "metadata": {
        "colab_type": "code",
        "id": "oy5ww2zRfFGG",
        "outputId": "84ac36ea-b6b3-4027-a2cd-f1ec3e73d71c",
        "colab": {
          "base_uri": "https://localhost:8080/",
          "height": 136
        }
      },
      "source": [
        "if COLAB:\n",
        "  !rm -rf dl-projects\n",
        "  !git clone https://github.com/mengwangk/dl-projects"
      ],
      "execution_count": 2,
      "outputs": [
        {
          "output_type": "stream",
          "text": [
            "Cloning into 'dl-projects'...\n",
            "remote: Enumerating objects: 73, done.\u001b[K\n",
            "remote: Counting objects: 100% (73/73), done.\u001b[K\n",
            "remote: Compressing objects: 100% (67/67), done.\u001b[K\n",
            "remote: Total 1009 (delta 42), reused 14 (delta 6), pack-reused 936\u001b[K\n",
            "Receiving objects: 100% (1009/1009), 70.92 MiB | 42.95 MiB/s, done.\n",
            "Resolving deltas: 100% (590/590), done.\n"
          ],
          "name": "stdout"
        }
      ]
    },
    {
      "cell_type": "code",
      "metadata": {
        "colab_type": "code",
        "id": "G2xin10SfozR",
        "colab": {}
      },
      "source": [
        "if COLAB:\n",
        "  !cp dl-projects/utils* .\n",
        "  !cp dl-projects/preprocess* .\n",
        "  !cp dl-projects/plot* ."
      ],
      "execution_count": 0,
      "outputs": []
    },
    {
      "cell_type": "code",
      "metadata": {
        "colab_type": "code",
        "id": "fC2-l3JBpqbE",
        "colab": {}
      },
      "source": [
        "%load_ext autoreload\n",
        "# %reload_ext autoreload\n",
        "%autoreload 2\n",
        "\n",
        "%matplotlib inline"
      ],
      "execution_count": 0,
      "outputs": []
    },
    {
      "cell_type": "code",
      "metadata": {
        "colab_type": "code",
        "id": "TP7V_IzepqbK",
        "colab": {}
      },
      "source": [
        "import numpy as np\n",
        "import pandas as pd\n",
        "import seaborn as sns\n",
        "import matplotlib.pyplot as plt\n",
        "import math \n",
        "import matplotlib\n",
        "import sys\n",
        "\n",
        "from scipy import stats\n",
        "from collections import Counter\n",
        "from pathlib import Path\n",
        "\n",
        "plt.style.use('fivethirtyeight')\n",
        "\n",
        "sns.set(style=\"ticks\")\n",
        "\n",
        "import featuretools as ft\n",
        "\n",
        "import warnings\n",
        "warnings.filterwarnings('ignore')\n",
        "\n",
        "from sklearn.pipeline import Pipeline\n",
        "from sklearn.preprocessing import MinMaxScaler, StandardScaler, RobustScaler\n",
        "from sklearn.impute import SimpleImputer\n",
        "from sklearn.metrics import precision_score, recall_score, f1_score, confusion_matrix, roc_auc_score, precision_recall_curve, roc_curve, mean_squared_error, accuracy_score, average_precision_score\n",
        "from sklearn.model_selection import train_test_split, cross_val_score, GridSearchCV, RandomizedSearchCV\n",
        "from sklearn.decomposition import PCA\n",
        "\n",
        "# from skopt import BayesSearchCV\n",
        "# from skopt.space import Real, Categorical, Integer\n",
        "\n",
        "# from sklearn.ensemble import RandomForestClassifier\n",
        "\n",
        "# from scikitplot.plotters import plot_precision_recall_curve\n",
        "\n",
        "from dateutil.relativedelta import relativedelta\n",
        "\n",
        "from IPython.display import display\n",
        "\n",
        "from utils import *\n",
        "from preprocess import *\n",
        "\n",
        "import xgboost as xgb\n",
        "\n",
        "np.set_printoptions(threshold=sys.maxsize)\n",
        "\n",
        "# The Answer to the Ultimate Question of Life, the Universe, and Everything.\n",
        "np.random.seed(42)\n",
        "\n",
        "from utils import feature_selection, plot_feature_importances\n",
        "from plot import plot_correlation_matrix, plot_labelled_scatter"
      ],
      "execution_count": 0,
      "outputs": []
    },
    {
      "cell_type": "code",
      "metadata": {
        "colab_type": "code",
        "id": "3bFT5CoxpqbP",
        "outputId": "5eb9ade9-0de3-4c9e-92e3-38ebf399fc25",
        "colab": {
          "base_uri": "https://localhost:8080/",
          "height": 102
        }
      },
      "source": [
        "%aimport"
      ],
      "execution_count": 6,
      "outputs": [
        {
          "output_type": "stream",
          "text": [
            "Modules to reload:\n",
            "all-except-skipped\n",
            "\n",
            "Modules to skip:\n",
            "\n"
          ],
          "name": "stdout"
        }
      ]
    },
    {
      "cell_type": "markdown",
      "metadata": {
        "colab_type": "text",
        "id": "3E16jPVPpqbV"
      },
      "source": [
        "## Preparation"
      ]
    },
    {
      "cell_type": "code",
      "metadata": {
        "colab_type": "code",
        "id": "U421BuhtfYS7",
        "outputId": "451a29d3-2f52-4ddd-e86f-cf44ad0cd285",
        "colab": {
          "base_uri": "https://localhost:8080/",
          "height": 122
        }
      },
      "source": [
        "if COLAB:\n",
        "  from google.colab import drive\n",
        "  drive.mount('/content/gdrive')\n",
        "  GDRIVE_DATASET_FOLDER = Path('gdrive/My Drive/datasets/')"
      ],
      "execution_count": 7,
      "outputs": [
        {
          "output_type": "stream",
          "text": [
            "Go to this URL in a browser: https://accounts.google.com/o/oauth2/auth?client_id=947318989803-6bn6qk8qdgf4n4g3pfee6491hc0brc4i.apps.googleusercontent.com&redirect_uri=urn%3aietf%3awg%3aoauth%3a2.0%3aoob&response_type=code&scope=email%20https%3a%2f%2fwww.googleapis.com%2fauth%2fdocs.test%20https%3a%2f%2fwww.googleapis.com%2fauth%2fdrive%20https%3a%2f%2fwww.googleapis.com%2fauth%2fdrive.photos.readonly%20https%3a%2f%2fwww.googleapis.com%2fauth%2fpeopleapi.readonly\n",
            "\n",
            "Enter your authorization code:\n",
            "··········\n",
            "Mounted at /content/gdrive\n"
          ],
          "name": "stdout"
        }
      ]
    },
    {
      "cell_type": "code",
      "metadata": {
        "colab_type": "code",
        "id": "9IgnETKkpqbX",
        "outputId": "91edb965-55aa-4457-82b5-0e2231d0f707",
        "colab": {
          "base_uri": "https://localhost:8080/",
          "height": 119
        }
      },
      "source": [
        "if COLAB:\n",
        "  DATASET_PATH = GDRIVE_DATASET_FOLDER\n",
        "  ORIGIN_DATASET_PATH = Path('dl-projects/datasets')\n",
        "else:\n",
        "  DATASET_PATH = Path(\"datasets\")\n",
        "  ORIGIN_DATASET_PATH = Path('datasets')\n",
        "\n",
        "DATASET = DATASET_PATH/f\"{FEATURE_DATASET_PREFIX}.pkl\"\n",
        "ORIGIN_DATASET = ORIGIN_DATASET_PATH/DATASET_NAME\n",
        "\n",
        "if COLAB:\n",
        "  !ls -l gdrive/\"My Drive\"/datasets/ --block-size=M\n",
        "  !ls -l dl-projects/datasets --block-size=M"
      ],
      "execution_count": 8,
      "outputs": [
        {
          "output_type": "stream",
          "text": [
            "total 4630M\n",
            "-rw------- 1 root root 1555M Jan  5 23:01 feature_matrix_d2.pkl\n",
            "-rw------- 1 root root 1528M Jan  7 00:07 feature_matrix_d2_v1_origin.pkl\n",
            "-rw------- 1 root root 1548M Jan  7 00:07 feature_matrix_d2_v1.pkl\n",
            "total 1M\n",
            "-rw-r--r-- 1 root root 1M Jan 10 12:49 4D.zip\n"
          ],
          "name": "stdout"
        }
      ]
    },
    {
      "cell_type": "code",
      "metadata": {
        "colab_type": "code",
        "id": "urQTD6DQNutw",
        "colab": {}
      },
      "source": [
        "data = pd.read_pickle(DATASET)\n",
        "origin_data = format_tabular(ORIGIN_DATASET)"
      ],
      "execution_count": 0,
      "outputs": []
    },
    {
      "cell_type": "code",
      "metadata": {
        "colab_type": "code",
        "id": "4BjrERxV8WuT",
        "outputId": "ecb49a82-d349-4b0a-845f-4a2949162bd4",
        "colab": {
          "base_uri": "https://localhost:8080/",
          "height": 102
        }
      },
      "source": [
        "data.info()"
      ],
      "execution_count": 10,
      "outputs": [
        {
          "output_type": "stream",
          "text": [
            "<class 'pandas.core.frame.DataFrame'>\n",
            "RangeIndex: 959893 entries, 0 to 959892\n",
            "Columns: 213 entries, NumberId to year\n",
            "dtypes: datetime64[ns](1), float64(146), int64(64), uint8(2)\n",
            "memory usage: 1.5 GB\n"
          ],
          "name": "stdout"
        }
      ]
    },
    {
      "cell_type": "markdown",
      "metadata": {
        "colab_type": "text",
        "id": "vOYlp-8Br61r"
      },
      "source": [
        "## Exploratory Data Analysis"
      ]
    },
    {
      "cell_type": "markdown",
      "metadata": {
        "colab_type": "text",
        "id": "kHiN1VVlG9Kh"
      },
      "source": [
        "### View data"
      ]
    },
    {
      "cell_type": "code",
      "metadata": {
        "colab_type": "code",
        "id": "JnQXyVqng5Cm",
        "colab": {}
      },
      "source": [
        "feature_matrix = data.drop(columns=['NumberId', 'month', 'year'])"
      ],
      "execution_count": 0,
      "outputs": []
    },
    {
      "cell_type": "code",
      "metadata": {
        "colab_type": "code",
        "id": "fa1Oc3LiiCIY",
        "outputId": "781f202c-28b9-44e1-86e3-15994b9c2f4e",
        "colab": {
          "base_uri": "https://localhost:8080/",
          "height": 255
        }
      },
      "source": [
        "print(feature_matrix.columns)"
      ],
      "execution_count": 12,
      "outputs": [
        {
          "output_type": "stream",
          "text": [
            "Index(['time', 'STD(Results.LuckyNo)', 'STD(Results.TotalStrike)',\n",
            "       'STD(Results.DrawNo)', 'MAX(Results.LuckyNo)',\n",
            "       'MAX(Results.TotalStrike)', 'MAX(Results.DrawNo)',\n",
            "       'MIN(Results.LuckyNo)', 'MIN(Results.TotalStrike)',\n",
            "       'MIN(Results.DrawNo)',\n",
            "       ...\n",
            "       'PERCENTILE(MAX(Results.DrawNo))',\n",
            "       'PERCENTILE(TREND(Results.LuckyNo, DrawDate))',\n",
            "       'PERCENTILE(LAST(Results.TotalStrike))',\n",
            "       'PERCENTILE(LAST(Results.LuckyNo))',\n",
            "       'PERCENTILE(NUM_UNIQUE(Results.PrizeType))',\n",
            "       'PERCENTILE(MEAN(Results.DrawNo))', 'TotalStrike', 'Label',\n",
            "       'MODE(Results.PrizeType)_Prize', 'LAST(Results.PrizeType)_Prize'],\n",
            "      dtype='object', length=210)\n"
          ],
          "name": "stdout"
        }
      ]
    },
    {
      "cell_type": "code",
      "metadata": {
        "colab_type": "code",
        "id": "NwxxOED04A8X",
        "outputId": "b6ee7e0b-aedb-4be5-ac3a-07c3f908893f",
        "colab": {
          "base_uri": "https://localhost:8080/",
          "height": 307
        }
      },
      "source": [
        "feature_matrix[feature_matrix['Label'] == 1 ].tail(4)"
      ],
      "execution_count": 13,
      "outputs": [
        {
          "output_type": "execute_result",
          "data": {
            "text/html": [
              "<div>\n",
              "<style scoped>\n",
              "    .dataframe tbody tr th:only-of-type {\n",
              "        vertical-align: middle;\n",
              "    }\n",
              "\n",
              "    .dataframe tbody tr th {\n",
              "        vertical-align: top;\n",
              "    }\n",
              "\n",
              "    .dataframe thead th {\n",
              "        text-align: right;\n",
              "    }\n",
              "</style>\n",
              "<table border=\"1\" class=\"dataframe\">\n",
              "  <thead>\n",
              "    <tr style=\"text-align: right;\">\n",
              "      <th></th>\n",
              "      <th>time</th>\n",
              "      <th>STD(Results.LuckyNo)</th>\n",
              "      <th>STD(Results.TotalStrike)</th>\n",
              "      <th>STD(Results.DrawNo)</th>\n",
              "      <th>MAX(Results.LuckyNo)</th>\n",
              "      <th>MAX(Results.TotalStrike)</th>\n",
              "      <th>MAX(Results.DrawNo)</th>\n",
              "      <th>MIN(Results.LuckyNo)</th>\n",
              "      <th>MIN(Results.TotalStrike)</th>\n",
              "      <th>MIN(Results.DrawNo)</th>\n",
              "      <th>MEAN(Results.LuckyNo)</th>\n",
              "      <th>MEAN(Results.TotalStrike)</th>\n",
              "      <th>MEAN(Results.DrawNo)</th>\n",
              "      <th>SKEW(Results.LuckyNo)</th>\n",
              "      <th>SKEW(Results.TotalStrike)</th>\n",
              "      <th>SKEW(Results.DrawNo)</th>\n",
              "      <th>LAST(Results.LuckyNo)</th>\n",
              "      <th>LAST(Results.TotalStrike)</th>\n",
              "      <th>LAST(Results.results_index)</th>\n",
              "      <th>LAST(Results.DrawNo)</th>\n",
              "      <th>AVG_TIME_BETWEEN(Results.DrawDate)</th>\n",
              "      <th>COUNT(Results)</th>\n",
              "      <th>SUM(Results.LuckyNo)</th>\n",
              "      <th>SUM(Results.TotalStrike)</th>\n",
              "      <th>SUM(Results.DrawNo)</th>\n",
              "      <th>TREND(Results.TotalStrike, DrawDate)</th>\n",
              "      <th>TREND(Results.LuckyNo, DrawDate)</th>\n",
              "      <th>TREND(Results.DrawNo, DrawDate)</th>\n",
              "      <th>NUM_UNIQUE(Results.PrizeType)</th>\n",
              "      <th>DAY(first_Results_time)</th>\n",
              "      <th>MONTH(first_Results_time)</th>\n",
              "      <th>HOUR(first_Results_time)</th>\n",
              "      <th>TIME_SINCE(first_Results_time)</th>\n",
              "      <th>STD(Results.CUM_MEAN(DrawNo))</th>\n",
              "      <th>STD(Results.TIME_SINCE(DrawDate))</th>\n",
              "      <th>STD(Results.PERCENTILE(DrawNo))</th>\n",
              "      <th>STD(Results.CUM_SUM(LuckyNo))</th>\n",
              "      <th>STD(Results.CUM_SUM(TotalStrike))</th>\n",
              "      <th>STD(Results.CUM_MEAN(TotalStrike))</th>\n",
              "      <th>STD(Results.PERCENTILE(LuckyNo))</th>\n",
              "      <th>...</th>\n",
              "      <th>CUM_MEAN(MAX(Results.DrawNo))</th>\n",
              "      <th>CUM_MEAN(TREND(Results.LuckyNo, DrawDate))</th>\n",
              "      <th>CUM_MEAN(LAST(Results.TotalStrike))</th>\n",
              "      <th>CUM_MEAN(LAST(Results.LuckyNo))</th>\n",
              "      <th>CUM_MEAN(NUM_UNIQUE(Results.PrizeType))</th>\n",
              "      <th>CUM_MEAN(MEAN(Results.DrawNo))</th>\n",
              "      <th>DAY(LAST(Results.DrawDate))</th>\n",
              "      <th>MONTH(LAST(Results.DrawDate))</th>\n",
              "      <th>HOUR(LAST(Results.DrawDate))</th>\n",
              "      <th>PERCENTILE(MIN(Results.TotalStrike))</th>\n",
              "      <th>PERCENTILE(STD(Results.TotalStrike))</th>\n",
              "      <th>PERCENTILE(SUM(Results.LuckyNo))</th>\n",
              "      <th>PERCENTILE(TREND(Results.DrawNo, DrawDate))</th>\n",
              "      <th>PERCENTILE(SUM(Results.DrawNo))</th>\n",
              "      <th>PERCENTILE(COUNT(Results))</th>\n",
              "      <th>PERCENTILE(SUM(Results.TotalStrike))</th>\n",
              "      <th>PERCENTILE(MAX(Results.LuckyNo))</th>\n",
              "      <th>PERCENTILE(MEAN(Results.TotalStrike))</th>\n",
              "      <th>PERCENTILE(MIN(Results.DrawNo))</th>\n",
              "      <th>PERCENTILE(STD(Results.LuckyNo))</th>\n",
              "      <th>PERCENTILE(SKEW(Results.LuckyNo))</th>\n",
              "      <th>PERCENTILE(TREND(Results.TotalStrike, DrawDate))</th>\n",
              "      <th>PERCENTILE(SKEW(Results.DrawNo))</th>\n",
              "      <th>PERCENTILE(LAST(Results.DrawNo))</th>\n",
              "      <th>PERCENTILE(SKEW(Results.TotalStrike))</th>\n",
              "      <th>PERCENTILE(MEAN(Results.LuckyNo))</th>\n",
              "      <th>PERCENTILE(MAX(Results.TotalStrike))</th>\n",
              "      <th>PERCENTILE(STD(Results.DrawNo))</th>\n",
              "      <th>PERCENTILE(MIN(Results.LuckyNo))</th>\n",
              "      <th>PERCENTILE(AVG_TIME_BETWEEN(Results.DrawDate))</th>\n",
              "      <th>PERCENTILE(MAX(Results.DrawNo))</th>\n",
              "      <th>PERCENTILE(TREND(Results.LuckyNo, DrawDate))</th>\n",
              "      <th>PERCENTILE(LAST(Results.TotalStrike))</th>\n",
              "      <th>PERCENTILE(LAST(Results.LuckyNo))</th>\n",
              "      <th>PERCENTILE(NUM_UNIQUE(Results.PrizeType))</th>\n",
              "      <th>PERCENTILE(MEAN(Results.DrawNo))</th>\n",
              "      <th>TotalStrike</th>\n",
              "      <th>Label</th>\n",
              "      <th>MODE(Results.PrizeType)_Prize</th>\n",
              "      <th>LAST(Results.PrizeType)_Prize</th>\n",
              "    </tr>\n",
              "  </thead>\n",
              "  <tbody>\n",
              "    <tr>\n",
              "      <th>950205</th>\n",
              "      <td>2019-12-01</td>\n",
              "      <td>0.0</td>\n",
              "      <td>0.0</td>\n",
              "      <td>127054.467100</td>\n",
              "      <td>9957</td>\n",
              "      <td>1</td>\n",
              "      <td>479318</td>\n",
              "      <td>9957</td>\n",
              "      <td>1</td>\n",
              "      <td>140498</td>\n",
              "      <td>9957</td>\n",
              "      <td>1</td>\n",
              "      <td>311519.333333</td>\n",
              "      <td>0.0</td>\n",
              "      <td>0.0</td>\n",
              "      <td>-0.012912</td>\n",
              "      <td>9957</td>\n",
              "      <td>1</td>\n",
              "      <td>100862</td>\n",
              "      <td>479318</td>\n",
              "      <td>78019200.0</td>\n",
              "      <td>9</td>\n",
              "      <td>89613</td>\n",
              "      <td>9</td>\n",
              "      <td>2803674</td>\n",
              "      <td>0.0</td>\n",
              "      <td>0.0</td>\n",
              "      <td>0.032599</td>\n",
              "      <td>1</td>\n",
              "      <td>16</td>\n",
              "      <td>9</td>\n",
              "      <td>0</td>\n",
              "      <td>669254340.0</td>\n",
              "      <td>63521.940426</td>\n",
              "      <td>2.338165e+08</td>\n",
              "      <td>0.274341</td>\n",
              "      <td>1.452695e+08</td>\n",
              "      <td>29218.946689</td>\n",
              "      <td>0.0</td>\n",
              "      <td>0.0</td>\n",
              "      <td>...</td>\n",
              "      <td>460830.857063</td>\n",
              "      <td>0.0</td>\n",
              "      <td>1.0</td>\n",
              "      <td>5004.820912</td>\n",
              "      <td>1.0</td>\n",
              "      <td>266657.801609</td>\n",
              "      <td>27</td>\n",
              "      <td>6</td>\n",
              "      <td>0</td>\n",
              "      <td>0.50005</td>\n",
              "      <td>0.50005</td>\n",
              "      <td>0.8357</td>\n",
              "      <td>0.916225</td>\n",
              "      <td>0.4834</td>\n",
              "      <td>0.32300</td>\n",
              "      <td>0.32300</td>\n",
              "      <td>0.9958</td>\n",
              "      <td>0.50005</td>\n",
              "      <td>0.89905</td>\n",
              "      <td>0.50005</td>\n",
              "      <td>0.50005</td>\n",
              "      <td>0.50005</td>\n",
              "      <td>0.485937</td>\n",
              "      <td>0.56675</td>\n",
              "      <td>0.50005</td>\n",
              "      <td>0.9958</td>\n",
              "      <td>0.50005</td>\n",
              "      <td>0.3915</td>\n",
              "      <td>0.9958</td>\n",
              "      <td>0.56380</td>\n",
              "      <td>0.56675</td>\n",
              "      <td>0.50005</td>\n",
              "      <td>0.50005</td>\n",
              "      <td>0.9958</td>\n",
              "      <td>0.50005</td>\n",
              "      <td>0.8226</td>\n",
              "      <td>1.0</td>\n",
              "      <td>1</td>\n",
              "      <td>1</td>\n",
              "      <td>1</td>\n",
              "    </tr>\n",
              "    <tr>\n",
              "      <th>950206</th>\n",
              "      <td>2019-12-01</td>\n",
              "      <td>0.0</td>\n",
              "      <td>0.0</td>\n",
              "      <td>87070.473740</td>\n",
              "      <td>9964</td>\n",
              "      <td>1</td>\n",
              "      <td>343510</td>\n",
              "      <td>9964</td>\n",
              "      <td>1</td>\n",
              "      <td>100096</td>\n",
              "      <td>9964</td>\n",
              "      <td>1</td>\n",
              "      <td>220612.090909</td>\n",
              "      <td>0.0</td>\n",
              "      <td>0.0</td>\n",
              "      <td>-0.225108</td>\n",
              "      <td>9964</td>\n",
              "      <td>1</td>\n",
              "      <td>69635</td>\n",
              "      <td>343510</td>\n",
              "      <td>46483200.0</td>\n",
              "      <td>11</td>\n",
              "      <td>109604</td>\n",
              "      <td>11</td>\n",
              "      <td>2426733</td>\n",
              "      <td>0.0</td>\n",
              "      <td>0.0</td>\n",
              "      <td>0.031344</td>\n",
              "      <td>1</td>\n",
              "      <td>17</td>\n",
              "      <td>2</td>\n",
              "      <td>0</td>\n",
              "      <td>750643140.0</td>\n",
              "      <td>43536.467551</td>\n",
              "      <td>1.666614e+08</td>\n",
              "      <td>0.188005</td>\n",
              "      <td>9.967259e+07</td>\n",
              "      <td>20027.865006</td>\n",
              "      <td>0.0</td>\n",
              "      <td>0.0</td>\n",
              "      <td>...</td>\n",
              "      <td>460467.145418</td>\n",
              "      <td>0.0</td>\n",
              "      <td>1.0</td>\n",
              "      <td>4999.691371</td>\n",
              "      <td>1.0</td>\n",
              "      <td>261837.337829</td>\n",
              "      <td>10</td>\n",
              "      <td>11</td>\n",
              "      <td>0</td>\n",
              "      <td>0.50005</td>\n",
              "      <td>0.50005</td>\n",
              "      <td>0.9263</td>\n",
              "      <td>0.035232</td>\n",
              "      <td>0.3364</td>\n",
              "      <td>0.56205</td>\n",
              "      <td>0.56205</td>\n",
              "      <td>0.9965</td>\n",
              "      <td>0.50005</td>\n",
              "      <td>0.74750</td>\n",
              "      <td>0.50005</td>\n",
              "      <td>0.50005</td>\n",
              "      <td>0.50005</td>\n",
              "      <td>0.329597</td>\n",
              "      <td>0.02420</td>\n",
              "      <td>0.50005</td>\n",
              "      <td>0.9965</td>\n",
              "      <td>0.50005</td>\n",
              "      <td>0.0351</td>\n",
              "      <td>0.9965</td>\n",
              "      <td>0.04675</td>\n",
              "      <td>0.02420</td>\n",
              "      <td>0.50005</td>\n",
              "      <td>0.50005</td>\n",
              "      <td>0.9965</td>\n",
              "      <td>0.50005</td>\n",
              "      <td>0.1111</td>\n",
              "      <td>1.0</td>\n",
              "      <td>1</td>\n",
              "      <td>1</td>\n",
              "      <td>1</td>\n",
              "    </tr>\n",
              "    <tr>\n",
              "      <th>950207</th>\n",
              "      <td>2019-12-01</td>\n",
              "      <td>0.0</td>\n",
              "      <td>0.0</td>\n",
              "      <td>111384.241449</td>\n",
              "      <td>9989</td>\n",
              "      <td>1</td>\n",
              "      <td>434715</td>\n",
              "      <td>9989</td>\n",
              "      <td>1</td>\n",
              "      <td>41692</td>\n",
              "      <td>9989</td>\n",
              "      <td>1</td>\n",
              "      <td>219502.777778</td>\n",
              "      <td>0.0</td>\n",
              "      <td>0.0</td>\n",
              "      <td>0.437460</td>\n",
              "      <td>9989</td>\n",
              "      <td>1</td>\n",
              "      <td>90599</td>\n",
              "      <td>434715</td>\n",
              "      <td>93031200.0</td>\n",
              "      <td>9</td>\n",
              "      <td>89901</td>\n",
              "      <td>9</td>\n",
              "      <td>1975525</td>\n",
              "      <td>0.0</td>\n",
              "      <td>0.0</td>\n",
              "      <td>0.031669</td>\n",
              "      <td>1</td>\n",
              "      <td>27</td>\n",
              "      <td>5</td>\n",
              "      <td>0</td>\n",
              "      <td>868233540.0</td>\n",
              "      <td>55681.529797</td>\n",
              "      <td>2.109426e+08</td>\n",
              "      <td>0.240496</td>\n",
              "      <td>1.274390e+08</td>\n",
              "      <td>25613.543923</td>\n",
              "      <td>0.0</td>\n",
              "      <td>0.0</td>\n",
              "      <td>...</td>\n",
              "      <td>457987.417431</td>\n",
              "      <td>0.0</td>\n",
              "      <td>1.0</td>\n",
              "      <td>5110.967890</td>\n",
              "      <td>1.0</td>\n",
              "      <td>253949.170276</td>\n",
              "      <td>27</td>\n",
              "      <td>12</td>\n",
              "      <td>0</td>\n",
              "      <td>0.50005</td>\n",
              "      <td>0.50005</td>\n",
              "      <td>0.8375</td>\n",
              "      <td>0.122710</td>\n",
              "      <td>0.1801</td>\n",
              "      <td>0.32300</td>\n",
              "      <td>0.32300</td>\n",
              "      <td>0.9990</td>\n",
              "      <td>0.50005</td>\n",
              "      <td>0.02170</td>\n",
              "      <td>0.50005</td>\n",
              "      <td>0.50005</td>\n",
              "      <td>0.50005</td>\n",
              "      <td>0.792313</td>\n",
              "      <td>0.20020</td>\n",
              "      <td>0.50005</td>\n",
              "      <td>0.9990</td>\n",
              "      <td>0.50005</td>\n",
              "      <td>0.1763</td>\n",
              "      <td>0.9990</td>\n",
              "      <td>0.74565</td>\n",
              "      <td>0.20020</td>\n",
              "      <td>0.50005</td>\n",
              "      <td>0.50005</td>\n",
              "      <td>0.9990</td>\n",
              "      <td>0.50005</td>\n",
              "      <td>0.1059</td>\n",
              "      <td>1.0</td>\n",
              "      <td>1</td>\n",
              "      <td>1</td>\n",
              "      <td>1</td>\n",
              "    </tr>\n",
              "    <tr>\n",
              "      <th>950208</th>\n",
              "      <td>2019-12-01</td>\n",
              "      <td>0.0</td>\n",
              "      <td>0.0</td>\n",
              "      <td>158865.967466</td>\n",
              "      <td>9990</td>\n",
              "      <td>1</td>\n",
              "      <td>498619</td>\n",
              "      <td>9990</td>\n",
              "      <td>1</td>\n",
              "      <td>74194</td>\n",
              "      <td>9990</td>\n",
              "      <td>1</td>\n",
              "      <td>241867.727273</td>\n",
              "      <td>0.0</td>\n",
              "      <td>0.0</td>\n",
              "      <td>0.581222</td>\n",
              "      <td>9990</td>\n",
              "      <td>1</td>\n",
              "      <td>105310</td>\n",
              "      <td>498619</td>\n",
              "      <td>79306560.0</td>\n",
              "      <td>11</td>\n",
              "      <td>109890</td>\n",
              "      <td>11</td>\n",
              "      <td>2660545</td>\n",
              "      <td>0.0</td>\n",
              "      <td>0.0</td>\n",
              "      <td>0.032093</td>\n",
              "      <td>1</td>\n",
              "      <td>23</td>\n",
              "      <td>6</td>\n",
              "      <td>0</td>\n",
              "      <td>802828740.0</td>\n",
              "      <td>79431.803264</td>\n",
              "      <td>2.969490e+08</td>\n",
              "      <td>0.343029</td>\n",
              "      <td>1.817704e+08</td>\n",
              "      <td>36537.767743</td>\n",
              "      <td>0.0</td>\n",
              "      <td>0.0</td>\n",
              "      <td>...</td>\n",
              "      <td>460356.653361</td>\n",
              "      <td>0.0</td>\n",
              "      <td>1.0</td>\n",
              "      <td>5008.984404</td>\n",
              "      <td>1.0</td>\n",
              "      <td>257135.013427</td>\n",
              "      <td>10</td>\n",
              "      <td>8</td>\n",
              "      <td>0</td>\n",
              "      <td>0.50005</td>\n",
              "      <td>0.50005</td>\n",
              "      <td>0.9274</td>\n",
              "      <td>0.540587</td>\n",
              "      <td>0.4261</td>\n",
              "      <td>0.56205</td>\n",
              "      <td>0.56205</td>\n",
              "      <td>0.9991</td>\n",
              "      <td>0.50005</td>\n",
              "      <td>0.53860</td>\n",
              "      <td>0.50005</td>\n",
              "      <td>0.50005</td>\n",
              "      <td>0.50005</td>\n",
              "      <td>0.854269</td>\n",
              "      <td>0.88680</td>\n",
              "      <td>0.50005</td>\n",
              "      <td>0.9991</td>\n",
              "      <td>0.50005</td>\n",
              "      <td>0.8988</td>\n",
              "      <td>0.9991</td>\n",
              "      <td>0.58225</td>\n",
              "      <td>0.88680</td>\n",
              "      <td>0.50005</td>\n",
              "      <td>0.50005</td>\n",
              "      <td>0.9991</td>\n",
              "      <td>0.50005</td>\n",
              "      <td>0.2367</td>\n",
              "      <td>1.0</td>\n",
              "      <td>1</td>\n",
              "      <td>1</td>\n",
              "      <td>1</td>\n",
              "    </tr>\n",
              "  </tbody>\n",
              "</table>\n",
              "<p>4 rows × 210 columns</p>\n",
              "</div>"
            ],
            "text/plain": [
              "             time  ...  LAST(Results.PrizeType)_Prize\n",
              "950205 2019-12-01  ...                              1\n",
              "950206 2019-12-01  ...                              1\n",
              "950207 2019-12-01  ...                              1\n",
              "950208 2019-12-01  ...                              1\n",
              "\n",
              "[4 rows x 210 columns]"
            ]
          },
          "metadata": {
            "tags": []
          },
          "execution_count": 13
        }
      ]
    },
    {
      "cell_type": "code",
      "metadata": {
        "colab_type": "code",
        "id": "IsutF7iYH5a1",
        "outputId": "29a09977-fb9c-4a04-8c72-0f8601d2ef2b",
        "colab": {
          "base_uri": "https://localhost:8080/",
          "height": 359
        }
      },
      "source": [
        "origin_data[origin_data.LuckyNo == 9957]"
      ],
      "execution_count": 14,
      "outputs": [
        {
          "output_type": "execute_result",
          "data": {
            "text/html": [
              "<div>\n",
              "<style scoped>\n",
              "    .dataframe tbody tr th:only-of-type {\n",
              "        vertical-align: middle;\n",
              "    }\n",
              "\n",
              "    .dataframe tbody tr th {\n",
              "        vertical-align: top;\n",
              "    }\n",
              "\n",
              "    .dataframe thead th {\n",
              "        text-align: right;\n",
              "    }\n",
              "</style>\n",
              "<table border=\"1\" class=\"dataframe\">\n",
              "  <thead>\n",
              "    <tr style=\"text-align: right;\">\n",
              "      <th></th>\n",
              "      <th>DrawNo</th>\n",
              "      <th>DrawDate</th>\n",
              "      <th>PrizeType</th>\n",
              "      <th>LuckyNo</th>\n",
              "    </tr>\n",
              "  </thead>\n",
              "  <tbody>\n",
              "    <tr>\n",
              "      <th>22933</th>\n",
              "      <td>140498</td>\n",
              "      <td>1998-09-16</td>\n",
              "      <td>3rdPrizeNo</td>\n",
              "      <td>9957</td>\n",
              "    </tr>\n",
              "    <tr>\n",
              "      <th>25390</th>\n",
              "      <td>151099</td>\n",
              "      <td>1999-05-11</td>\n",
              "      <td>SpecialNo8</td>\n",
              "      <td>9957</td>\n",
              "    </tr>\n",
              "    <tr>\n",
              "      <th>44467</th>\n",
              "      <td>234104</td>\n",
              "      <td>2004-06-05</td>\n",
              "      <td>ConsolationNo5</td>\n",
              "      <td>9957</td>\n",
              "    </tr>\n",
              "    <tr>\n",
              "      <th>53282</th>\n",
              "      <td>272406</td>\n",
              "      <td>2006-09-02</td>\n",
              "      <td>SpecialNo10</td>\n",
              "      <td>9957</td>\n",
              "    </tr>\n",
              "    <tr>\n",
              "      <th>53956</th>\n",
              "      <td>275306</td>\n",
              "      <td>2006-11-08</td>\n",
              "      <td>SpecialNo8</td>\n",
              "      <td>9957</td>\n",
              "    </tr>\n",
              "    <tr>\n",
              "      <th>79659</th>\n",
              "      <td>387113</td>\n",
              "      <td>2013-04-24</td>\n",
              "      <td>ConsolationNo7</td>\n",
              "      <td>9957</td>\n",
              "    </tr>\n",
              "    <tr>\n",
              "      <th>81901</th>\n",
              "      <td>396813</td>\n",
              "      <td>2013-11-10</td>\n",
              "      <td>SpecialNo8</td>\n",
              "      <td>9957</td>\n",
              "    </tr>\n",
              "    <tr>\n",
              "      <th>98026</th>\n",
              "      <td>467017</td>\n",
              "      <td>2017-10-18</td>\n",
              "      <td>1stPrizeNo</td>\n",
              "      <td>9957</td>\n",
              "    </tr>\n",
              "    <tr>\n",
              "      <th>100862</th>\n",
              "      <td>479318</td>\n",
              "      <td>2018-06-27</td>\n",
              "      <td>ConsolationNo4</td>\n",
              "      <td>9957</td>\n",
              "    </tr>\n",
              "    <tr>\n",
              "      <th>106753</th>\n",
              "      <td>504919</td>\n",
              "      <td>2019-12-22</td>\n",
              "      <td>ConsolationNo7</td>\n",
              "      <td>9957</td>\n",
              "    </tr>\n",
              "  </tbody>\n",
              "</table>\n",
              "</div>"
            ],
            "text/plain": [
              "        DrawNo   DrawDate       PrizeType  LuckyNo\n",
              "22933   140498 1998-09-16      3rdPrizeNo     9957\n",
              "25390   151099 1999-05-11      SpecialNo8     9957\n",
              "44467   234104 2004-06-05  ConsolationNo5     9957\n",
              "53282   272406 2006-09-02     SpecialNo10     9957\n",
              "53956   275306 2006-11-08      SpecialNo8     9957\n",
              "79659   387113 2013-04-24  ConsolationNo7     9957\n",
              "81901   396813 2013-11-10      SpecialNo8     9957\n",
              "98026   467017 2017-10-18      1stPrizeNo     9957\n",
              "100862  479318 2018-06-27  ConsolationNo4     9957\n",
              "106753  504919 2019-12-22  ConsolationNo7     9957"
            ]
          },
          "metadata": {
            "tags": []
          },
          "execution_count": 14
        }
      ]
    },
    {
      "cell_type": "code",
      "metadata": {
        "colab_type": "code",
        "id": "YvRCAb4e5AYH",
        "outputId": "b968fa07-2d99-4e20-f689-85cfec81b29d",
        "colab": {
          "base_uri": "https://localhost:8080/",
          "height": 363
        }
      },
      "source": [
        "feature_matrix.describe().round(2)"
      ],
      "execution_count": 15,
      "outputs": [
        {
          "output_type": "execute_result",
          "data": {
            "text/html": [
              "<div>\n",
              "<style scoped>\n",
              "    .dataframe tbody tr th:only-of-type {\n",
              "        vertical-align: middle;\n",
              "    }\n",
              "\n",
              "    .dataframe tbody tr th {\n",
              "        vertical-align: top;\n",
              "    }\n",
              "\n",
              "    .dataframe thead th {\n",
              "        text-align: right;\n",
              "    }\n",
              "</style>\n",
              "<table border=\"1\" class=\"dataframe\">\n",
              "  <thead>\n",
              "    <tr style=\"text-align: right;\">\n",
              "      <th></th>\n",
              "      <th>STD(Results.LuckyNo)</th>\n",
              "      <th>STD(Results.TotalStrike)</th>\n",
              "      <th>STD(Results.DrawNo)</th>\n",
              "      <th>MAX(Results.LuckyNo)</th>\n",
              "      <th>MAX(Results.TotalStrike)</th>\n",
              "      <th>MAX(Results.DrawNo)</th>\n",
              "      <th>MIN(Results.LuckyNo)</th>\n",
              "      <th>MIN(Results.TotalStrike)</th>\n",
              "      <th>MIN(Results.DrawNo)</th>\n",
              "      <th>MEAN(Results.LuckyNo)</th>\n",
              "      <th>MEAN(Results.TotalStrike)</th>\n",
              "      <th>MEAN(Results.DrawNo)</th>\n",
              "      <th>SKEW(Results.LuckyNo)</th>\n",
              "      <th>SKEW(Results.TotalStrike)</th>\n",
              "      <th>SKEW(Results.DrawNo)</th>\n",
              "      <th>LAST(Results.LuckyNo)</th>\n",
              "      <th>LAST(Results.TotalStrike)</th>\n",
              "      <th>LAST(Results.results_index)</th>\n",
              "      <th>LAST(Results.DrawNo)</th>\n",
              "      <th>AVG_TIME_BETWEEN(Results.DrawDate)</th>\n",
              "      <th>COUNT(Results)</th>\n",
              "      <th>SUM(Results.LuckyNo)</th>\n",
              "      <th>SUM(Results.TotalStrike)</th>\n",
              "      <th>SUM(Results.DrawNo)</th>\n",
              "      <th>TREND(Results.TotalStrike, DrawDate)</th>\n",
              "      <th>TREND(Results.LuckyNo, DrawDate)</th>\n",
              "      <th>TREND(Results.DrawNo, DrawDate)</th>\n",
              "      <th>NUM_UNIQUE(Results.PrizeType)</th>\n",
              "      <th>DAY(first_Results_time)</th>\n",
              "      <th>MONTH(first_Results_time)</th>\n",
              "      <th>HOUR(first_Results_time)</th>\n",
              "      <th>TIME_SINCE(first_Results_time)</th>\n",
              "      <th>STD(Results.CUM_MEAN(DrawNo))</th>\n",
              "      <th>STD(Results.TIME_SINCE(DrawDate))</th>\n",
              "      <th>STD(Results.PERCENTILE(DrawNo))</th>\n",
              "      <th>STD(Results.CUM_SUM(LuckyNo))</th>\n",
              "      <th>STD(Results.CUM_SUM(TotalStrike))</th>\n",
              "      <th>STD(Results.CUM_MEAN(TotalStrike))</th>\n",
              "      <th>STD(Results.PERCENTILE(LuckyNo))</th>\n",
              "      <th>STD(Results.PERCENTILE(TotalStrike))</th>\n",
              "      <th>...</th>\n",
              "      <th>CUM_MEAN(MAX(Results.DrawNo))</th>\n",
              "      <th>CUM_MEAN(TREND(Results.LuckyNo, DrawDate))</th>\n",
              "      <th>CUM_MEAN(LAST(Results.TotalStrike))</th>\n",
              "      <th>CUM_MEAN(LAST(Results.LuckyNo))</th>\n",
              "      <th>CUM_MEAN(NUM_UNIQUE(Results.PrizeType))</th>\n",
              "      <th>CUM_MEAN(MEAN(Results.DrawNo))</th>\n",
              "      <th>DAY(LAST(Results.DrawDate))</th>\n",
              "      <th>MONTH(LAST(Results.DrawDate))</th>\n",
              "      <th>HOUR(LAST(Results.DrawDate))</th>\n",
              "      <th>PERCENTILE(MIN(Results.TotalStrike))</th>\n",
              "      <th>PERCENTILE(STD(Results.TotalStrike))</th>\n",
              "      <th>PERCENTILE(SUM(Results.LuckyNo))</th>\n",
              "      <th>PERCENTILE(TREND(Results.DrawNo, DrawDate))</th>\n",
              "      <th>PERCENTILE(SUM(Results.DrawNo))</th>\n",
              "      <th>PERCENTILE(COUNT(Results))</th>\n",
              "      <th>PERCENTILE(SUM(Results.TotalStrike))</th>\n",
              "      <th>PERCENTILE(MAX(Results.LuckyNo))</th>\n",
              "      <th>PERCENTILE(MEAN(Results.TotalStrike))</th>\n",
              "      <th>PERCENTILE(MIN(Results.DrawNo))</th>\n",
              "      <th>PERCENTILE(STD(Results.LuckyNo))</th>\n",
              "      <th>PERCENTILE(SKEW(Results.LuckyNo))</th>\n",
              "      <th>PERCENTILE(TREND(Results.TotalStrike, DrawDate))</th>\n",
              "      <th>PERCENTILE(SKEW(Results.DrawNo))</th>\n",
              "      <th>PERCENTILE(LAST(Results.DrawNo))</th>\n",
              "      <th>PERCENTILE(SKEW(Results.TotalStrike))</th>\n",
              "      <th>PERCENTILE(MEAN(Results.LuckyNo))</th>\n",
              "      <th>PERCENTILE(MAX(Results.TotalStrike))</th>\n",
              "      <th>PERCENTILE(STD(Results.DrawNo))</th>\n",
              "      <th>PERCENTILE(MIN(Results.LuckyNo))</th>\n",
              "      <th>PERCENTILE(AVG_TIME_BETWEEN(Results.DrawDate))</th>\n",
              "      <th>PERCENTILE(MAX(Results.DrawNo))</th>\n",
              "      <th>PERCENTILE(TREND(Results.LuckyNo, DrawDate))</th>\n",
              "      <th>PERCENTILE(LAST(Results.TotalStrike))</th>\n",
              "      <th>PERCENTILE(LAST(Results.LuckyNo))</th>\n",
              "      <th>PERCENTILE(NUM_UNIQUE(Results.PrizeType))</th>\n",
              "      <th>PERCENTILE(MEAN(Results.DrawNo))</th>\n",
              "      <th>TotalStrike</th>\n",
              "      <th>Label</th>\n",
              "      <th>MODE(Results.PrizeType)_Prize</th>\n",
              "      <th>LAST(Results.PrizeType)_Prize</th>\n",
              "    </tr>\n",
              "  </thead>\n",
              "  <tbody>\n",
              "    <tr>\n",
              "      <th>count</th>\n",
              "      <td>958948.0</td>\n",
              "      <td>958948.0</td>\n",
              "      <td>958948.00</td>\n",
              "      <td>959893.00</td>\n",
              "      <td>959893.0</td>\n",
              "      <td>959893.00</td>\n",
              "      <td>959893.00</td>\n",
              "      <td>959893.0</td>\n",
              "      <td>959893.00</td>\n",
              "      <td>959893.00</td>\n",
              "      <td>959893.0</td>\n",
              "      <td>959893.00</td>\n",
              "      <td>952257.0</td>\n",
              "      <td>952257.0</td>\n",
              "      <td>952257.00</td>\n",
              "      <td>959893.00</td>\n",
              "      <td>959893.0</td>\n",
              "      <td>959893.00</td>\n",
              "      <td>959893.00</td>\n",
              "      <td>9.589480e+05</td>\n",
              "      <td>959893.00</td>\n",
              "      <td>959893.00</td>\n",
              "      <td>959893.00</td>\n",
              "      <td>959893.00</td>\n",
              "      <td>952257.0</td>\n",
              "      <td>952257.0</td>\n",
              "      <td>952257.00</td>\n",
              "      <td>959893.0</td>\n",
              "      <td>959893.00</td>\n",
              "      <td>959893.00</td>\n",
              "      <td>959893.0</td>\n",
              "      <td>9.598930e+05</td>\n",
              "      <td>958948.00</td>\n",
              "      <td>9.589480e+05</td>\n",
              "      <td>958948.00</td>\n",
              "      <td>9.589480e+05</td>\n",
              "      <td>958948.00</td>\n",
              "      <td>958948.0</td>\n",
              "      <td>958948.0</td>\n",
              "      <td>958948.0</td>\n",
              "      <td>...</td>\n",
              "      <td>959893.00</td>\n",
              "      <td>952257.0</td>\n",
              "      <td>959893.0</td>\n",
              "      <td>959893.00</td>\n",
              "      <td>959893.0</td>\n",
              "      <td>959893.00</td>\n",
              "      <td>959893.0</td>\n",
              "      <td>959893.00</td>\n",
              "      <td>959893.0</td>\n",
              "      <td>959893.0</td>\n",
              "      <td>958948.0</td>\n",
              "      <td>959893.00</td>\n",
              "      <td>952257.00</td>\n",
              "      <td>959893.00</td>\n",
              "      <td>959893.00</td>\n",
              "      <td>959893.00</td>\n",
              "      <td>959893.00</td>\n",
              "      <td>959893.0</td>\n",
              "      <td>959893.00</td>\n",
              "      <td>958948.0</td>\n",
              "      <td>952257.0</td>\n",
              "      <td>952257.0</td>\n",
              "      <td>952257.00</td>\n",
              "      <td>959893.00</td>\n",
              "      <td>952257.0</td>\n",
              "      <td>959893.00</td>\n",
              "      <td>959893.0</td>\n",
              "      <td>958948.00</td>\n",
              "      <td>959893.00</td>\n",
              "      <td>958948.00</td>\n",
              "      <td>959893.00</td>\n",
              "      <td>952257.0</td>\n",
              "      <td>959893.0</td>\n",
              "      <td>959893.00</td>\n",
              "      <td>959893.0</td>\n",
              "      <td>959893.00</td>\n",
              "      <td>959893.00</td>\n",
              "      <td>959893.00</td>\n",
              "      <td>959893.0</td>\n",
              "      <td>959893.0</td>\n",
              "    </tr>\n",
              "    <tr>\n",
              "      <th>mean</th>\n",
              "      <td>0.0</td>\n",
              "      <td>0.0</td>\n",
              "      <td>111342.20</td>\n",
              "      <td>4999.18</td>\n",
              "      <td>1.0</td>\n",
              "      <td>390906.91</td>\n",
              "      <td>4999.18</td>\n",
              "      <td>1.0</td>\n",
              "      <td>83952.25</td>\n",
              "      <td>4999.18</td>\n",
              "      <td>1.0</td>\n",
              "      <td>237399.51</td>\n",
              "      <td>0.0</td>\n",
              "      <td>0.0</td>\n",
              "      <td>-0.00</td>\n",
              "      <td>4999.18</td>\n",
              "      <td>1.0</td>\n",
              "      <td>80532.69</td>\n",
              "      <td>390906.91</td>\n",
              "      <td>8.234844e+07</td>\n",
              "      <td>9.05</td>\n",
              "      <td>45042.83</td>\n",
              "      <td>9.05</td>\n",
              "      <td>2168380.75</td>\n",
              "      <td>0.0</td>\n",
              "      <td>0.0</td>\n",
              "      <td>0.03</td>\n",
              "      <td>1.0</td>\n",
              "      <td>15.66</td>\n",
              "      <td>6.67</td>\n",
              "      <td>0.0</td>\n",
              "      <td>6.586662e+08</td>\n",
              "      <td>55666.09</td>\n",
              "      <td>2.109083e+08</td>\n",
              "      <td>0.28</td>\n",
              "      <td>1.274557e+08</td>\n",
              "      <td>25606.24</td>\n",
              "      <td>0.0</td>\n",
              "      <td>0.0</td>\n",
              "      <td>0.0</td>\n",
              "      <td>...</td>\n",
              "      <td>390647.83</td>\n",
              "      <td>0.0</td>\n",
              "      <td>1.0</td>\n",
              "      <td>4997.24</td>\n",
              "      <td>1.0</td>\n",
              "      <td>223470.76</td>\n",
              "      <td>15.8</td>\n",
              "      <td>6.51</td>\n",
              "      <td>0.0</td>\n",
              "      <td>0.5</td>\n",
              "      <td>0.5</td>\n",
              "      <td>0.50</td>\n",
              "      <td>0.50</td>\n",
              "      <td>0.50</td>\n",
              "      <td>0.50</td>\n",
              "      <td>0.50</td>\n",
              "      <td>0.50</td>\n",
              "      <td>0.5</td>\n",
              "      <td>0.50</td>\n",
              "      <td>0.5</td>\n",
              "      <td>0.5</td>\n",
              "      <td>0.5</td>\n",
              "      <td>0.50</td>\n",
              "      <td>0.50</td>\n",
              "      <td>0.5</td>\n",
              "      <td>0.50</td>\n",
              "      <td>0.5</td>\n",
              "      <td>0.50</td>\n",
              "      <td>0.50</td>\n",
              "      <td>0.50</td>\n",
              "      <td>0.50</td>\n",
              "      <td>0.5</td>\n",
              "      <td>0.5</td>\n",
              "      <td>0.50</td>\n",
              "      <td>0.5</td>\n",
              "      <td>0.50</td>\n",
              "      <td>0.03</td>\n",
              "      <td>0.03</td>\n",
              "      <td>1.0</td>\n",
              "      <td>1.0</td>\n",
              "    </tr>\n",
              "    <tr>\n",
              "      <th>std</th>\n",
              "      <td>0.0</td>\n",
              "      <td>0.0</td>\n",
              "      <td>25772.65</td>\n",
              "      <td>2886.68</td>\n",
              "      <td>0.0</td>\n",
              "      <td>59335.80</td>\n",
              "      <td>2886.68</td>\n",
              "      <td>0.0</td>\n",
              "      <td>42863.89</td>\n",
              "      <td>2886.68</td>\n",
              "      <td>0.0</td>\n",
              "      <td>45425.90</td>\n",
              "      <td>0.0</td>\n",
              "      <td>0.0</td>\n",
              "      <td>0.66</td>\n",
              "      <td>2886.68</td>\n",
              "      <td>0.0</td>\n",
              "      <td>13646.27</td>\n",
              "      <td>59335.80</td>\n",
              "      <td>3.895532e+07</td>\n",
              "      <td>3.16</td>\n",
              "      <td>31606.21</td>\n",
              "      <td>3.16</td>\n",
              "      <td>904878.09</td>\n",
              "      <td>0.0</td>\n",
              "      <td>0.0</td>\n",
              "      <td>0.00</td>\n",
              "      <td>0.0</td>\n",
              "      <td>8.81</td>\n",
              "      <td>3.37</td>\n",
              "      <td>0.0</td>\n",
              "      <td>1.119074e+08</td>\n",
              "      <td>12886.48</td>\n",
              "      <td>4.813546e+07</td>\n",
              "      <td>0.06</td>\n",
              "      <td>2.949965e+07</td>\n",
              "      <td>5927.49</td>\n",
              "      <td>0.0</td>\n",
              "      <td>0.0</td>\n",
              "      <td>0.0</td>\n",
              "      <td>...</td>\n",
              "      <td>41330.44</td>\n",
              "      <td>0.0</td>\n",
              "      <td>0.0</td>\n",
              "      <td>136.49</td>\n",
              "      <td>0.0</td>\n",
              "      <td>21357.55</td>\n",
              "      <td>9.1</td>\n",
              "      <td>3.47</td>\n",
              "      <td>0.0</td>\n",
              "      <td>0.0</td>\n",
              "      <td>0.0</td>\n",
              "      <td>0.29</td>\n",
              "      <td>0.29</td>\n",
              "      <td>0.29</td>\n",
              "      <td>0.29</td>\n",
              "      <td>0.29</td>\n",
              "      <td>0.29</td>\n",
              "      <td>0.0</td>\n",
              "      <td>0.29</td>\n",
              "      <td>0.0</td>\n",
              "      <td>0.0</td>\n",
              "      <td>0.0</td>\n",
              "      <td>0.29</td>\n",
              "      <td>0.29</td>\n",
              "      <td>0.0</td>\n",
              "      <td>0.29</td>\n",
              "      <td>0.0</td>\n",
              "      <td>0.29</td>\n",
              "      <td>0.29</td>\n",
              "      <td>0.29</td>\n",
              "      <td>0.29</td>\n",
              "      <td>0.0</td>\n",
              "      <td>0.0</td>\n",
              "      <td>0.29</td>\n",
              "      <td>0.0</td>\n",
              "      <td>0.29</td>\n",
              "      <td>0.18</td>\n",
              "      <td>0.18</td>\n",
              "      <td>0.0</td>\n",
              "      <td>0.0</td>\n",
              "    </tr>\n",
              "    <tr>\n",
              "      <th>min</th>\n",
              "      <td>0.0</td>\n",
              "      <td>0.0</td>\n",
              "      <td>70.71</td>\n",
              "      <td>0.00</td>\n",
              "      <td>1.0</td>\n",
              "      <td>43992.00</td>\n",
              "      <td>0.00</td>\n",
              "      <td>1.0</td>\n",
              "      <td>40792.00</td>\n",
              "      <td>0.00</td>\n",
              "      <td>1.0</td>\n",
              "      <td>43992.00</td>\n",
              "      <td>0.0</td>\n",
              "      <td>0.0</td>\n",
              "      <td>-2.62</td>\n",
              "      <td>0.00</td>\n",
              "      <td>1.0</td>\n",
              "      <td>744.00</td>\n",
              "      <td>43992.00</td>\n",
              "      <td>1.728000e+05</td>\n",
              "      <td>1.00</td>\n",
              "      <td>0.00</td>\n",
              "      <td>1.00</td>\n",
              "      <td>43992.00</td>\n",
              "      <td>0.0</td>\n",
              "      <td>0.0</td>\n",
              "      <td>0.03</td>\n",
              "      <td>1.0</td>\n",
              "      <td>1.00</td>\n",
              "      <td>1.00</td>\n",
              "      <td>0.0</td>\n",
              "      <td>4.319400e+05</td>\n",
              "      <td>43.05</td>\n",
              "      <td>1.221881e+05</td>\n",
              "      <td>0.00</td>\n",
              "      <td>8.357719e+04</td>\n",
              "      <td>19.80</td>\n",
              "      <td>0.0</td>\n",
              "      <td>0.0</td>\n",
              "      <td>0.0</td>\n",
              "      <td>...</td>\n",
              "      <td>297207.50</td>\n",
              "      <td>0.0</td>\n",
              "      <td>1.0</td>\n",
              "      <td>19.00</td>\n",
              "      <td>1.0</td>\n",
              "      <td>160891.70</td>\n",
              "      <td>1.0</td>\n",
              "      <td>1.00</td>\n",
              "      <td>0.0</td>\n",
              "      <td>0.5</td>\n",
              "      <td>0.5</td>\n",
              "      <td>0.00</td>\n",
              "      <td>0.00</td>\n",
              "      <td>0.00</td>\n",
              "      <td>0.00</td>\n",
              "      <td>0.00</td>\n",
              "      <td>0.00</td>\n",
              "      <td>0.5</td>\n",
              "      <td>0.00</td>\n",
              "      <td>0.5</td>\n",
              "      <td>0.5</td>\n",
              "      <td>0.5</td>\n",
              "      <td>0.00</td>\n",
              "      <td>0.00</td>\n",
              "      <td>0.5</td>\n",
              "      <td>0.00</td>\n",
              "      <td>0.5</td>\n",
              "      <td>0.00</td>\n",
              "      <td>0.00</td>\n",
              "      <td>0.00</td>\n",
              "      <td>0.00</td>\n",
              "      <td>0.5</td>\n",
              "      <td>0.5</td>\n",
              "      <td>0.00</td>\n",
              "      <td>0.5</td>\n",
              "      <td>0.00</td>\n",
              "      <td>0.00</td>\n",
              "      <td>0.00</td>\n",
              "      <td>1.0</td>\n",
              "      <td>1.0</td>\n",
              "    </tr>\n",
              "    <tr>\n",
              "      <th>25%</th>\n",
              "      <td>0.0</td>\n",
              "      <td>0.0</td>\n",
              "      <td>95435.72</td>\n",
              "      <td>2499.00</td>\n",
              "      <td>1.0</td>\n",
              "      <td>355511.00</td>\n",
              "      <td>2499.00</td>\n",
              "      <td>1.0</td>\n",
              "      <td>53293.00</td>\n",
              "      <td>2499.00</td>\n",
              "      <td>1.0</td>\n",
              "      <td>207002.00</td>\n",
              "      <td>0.0</td>\n",
              "      <td>0.0</td>\n",
              "      <td>-0.39</td>\n",
              "      <td>2499.00</td>\n",
              "      <td>1.0</td>\n",
              "      <td>72402.00</td>\n",
              "      <td>355511.00</td>\n",
              "      <td>5.911488e+07</td>\n",
              "      <td>7.00</td>\n",
              "      <td>19496.00</td>\n",
              "      <td>7.00</td>\n",
              "      <td>1513109.00</td>\n",
              "      <td>0.0</td>\n",
              "      <td>0.0</td>\n",
              "      <td>0.03</td>\n",
              "      <td>1.0</td>\n",
              "      <td>8.00</td>\n",
              "      <td>4.00</td>\n",
              "      <td>0.0</td>\n",
              "      <td>5.959007e+08</td>\n",
              "      <td>47706.85</td>\n",
              "      <td>1.815254e+08</td>\n",
              "      <td>0.25</td>\n",
              "      <td>1.092343e+08</td>\n",
              "      <td>21943.76</td>\n",
              "      <td>0.0</td>\n",
              "      <td>0.0</td>\n",
              "      <td>0.0</td>\n",
              "      <td>...</td>\n",
              "      <td>354906.10</td>\n",
              "      <td>0.0</td>\n",
              "      <td>1.0</td>\n",
              "      <td>4991.57</td>\n",
              "      <td>1.0</td>\n",
              "      <td>205540.45</td>\n",
              "      <td>8.0</td>\n",
              "      <td>3.00</td>\n",
              "      <td>0.0</td>\n",
              "      <td>0.5</td>\n",
              "      <td>0.5</td>\n",
              "      <td>0.25</td>\n",
              "      <td>0.25</td>\n",
              "      <td>0.25</td>\n",
              "      <td>0.25</td>\n",
              "      <td>0.25</td>\n",
              "      <td>0.25</td>\n",
              "      <td>0.5</td>\n",
              "      <td>0.25</td>\n",
              "      <td>0.5</td>\n",
              "      <td>0.5</td>\n",
              "      <td>0.5</td>\n",
              "      <td>0.25</td>\n",
              "      <td>0.25</td>\n",
              "      <td>0.5</td>\n",
              "      <td>0.25</td>\n",
              "      <td>0.5</td>\n",
              "      <td>0.25</td>\n",
              "      <td>0.25</td>\n",
              "      <td>0.25</td>\n",
              "      <td>0.25</td>\n",
              "      <td>0.5</td>\n",
              "      <td>0.5</td>\n",
              "      <td>0.25</td>\n",
              "      <td>0.5</td>\n",
              "      <td>0.25</td>\n",
              "      <td>0.00</td>\n",
              "      <td>0.00</td>\n",
              "      <td>1.0</td>\n",
              "      <td>1.0</td>\n",
              "    </tr>\n",
              "    <tr>\n",
              "      <th>50%</th>\n",
              "      <td>0.0</td>\n",
              "      <td>0.0</td>\n",
              "      <td>111816.31</td>\n",
              "      <td>4999.00</td>\n",
              "      <td>1.0</td>\n",
              "      <td>394313.00</td>\n",
              "      <td>4999.00</td>\n",
              "      <td>1.0</td>\n",
              "      <td>70794.00</td>\n",
              "      <td>4999.00</td>\n",
              "      <td>1.0</td>\n",
              "      <td>236360.86</td>\n",
              "      <td>0.0</td>\n",
              "      <td>0.0</td>\n",
              "      <td>-0.00</td>\n",
              "      <td>4999.00</td>\n",
              "      <td>1.0</td>\n",
              "      <td>81323.00</td>\n",
              "      <td>394313.00</td>\n",
              "      <td>7.342560e+07</td>\n",
              "      <td>9.00</td>\n",
              "      <td>39802.00</td>\n",
              "      <td>9.00</td>\n",
              "      <td>2069220.00</td>\n",
              "      <td>0.0</td>\n",
              "      <td>0.0</td>\n",
              "      <td>0.03</td>\n",
              "      <td>1.0</td>\n",
              "      <td>16.00</td>\n",
              "      <td>7.00</td>\n",
              "      <td>0.0</td>\n",
              "      <td>6.664031e+08</td>\n",
              "      <td>55901.55</td>\n",
              "      <td>2.121594e+08</td>\n",
              "      <td>0.29</td>\n",
              "      <td>1.280267e+08</td>\n",
              "      <td>25714.61</td>\n",
              "      <td>0.0</td>\n",
              "      <td>0.0</td>\n",
              "      <td>0.0</td>\n",
              "      <td>...</td>\n",
              "      <td>391122.90</td>\n",
              "      <td>0.0</td>\n",
              "      <td>1.0</td>\n",
              "      <td>5001.18</td>\n",
              "      <td>1.0</td>\n",
              "      <td>223561.78</td>\n",
              "      <td>16.0</td>\n",
              "      <td>7.00</td>\n",
              "      <td>0.0</td>\n",
              "      <td>0.5</td>\n",
              "      <td>0.5</td>\n",
              "      <td>0.50</td>\n",
              "      <td>0.50</td>\n",
              "      <td>0.50</td>\n",
              "      <td>0.50</td>\n",
              "      <td>0.50</td>\n",
              "      <td>0.50</td>\n",
              "      <td>0.5</td>\n",
              "      <td>0.50</td>\n",
              "      <td>0.5</td>\n",
              "      <td>0.5</td>\n",
              "      <td>0.5</td>\n",
              "      <td>0.50</td>\n",
              "      <td>0.50</td>\n",
              "      <td>0.5</td>\n",
              "      <td>0.50</td>\n",
              "      <td>0.5</td>\n",
              "      <td>0.50</td>\n",
              "      <td>0.50</td>\n",
              "      <td>0.50</td>\n",
              "      <td>0.50</td>\n",
              "      <td>0.5</td>\n",
              "      <td>0.5</td>\n",
              "      <td>0.50</td>\n",
              "      <td>0.5</td>\n",
              "      <td>0.50</td>\n",
              "      <td>0.00</td>\n",
              "      <td>0.00</td>\n",
              "      <td>1.0</td>\n",
              "      <td>1.0</td>\n",
              "    </tr>\n",
              "    <tr>\n",
              "      <th>75%</th>\n",
              "      <td>0.0</td>\n",
              "      <td>0.0</td>\n",
              "      <td>128452.56</td>\n",
              "      <td>7499.00</td>\n",
              "      <td>1.0</td>\n",
              "      <td>435016.00</td>\n",
              "      <td>7499.00</td>\n",
              "      <td>1.0</td>\n",
              "      <td>100596.00</td>\n",
              "      <td>7499.00</td>\n",
              "      <td>1.0</td>\n",
              "      <td>267205.90</td>\n",
              "      <td>0.0</td>\n",
              "      <td>0.0</td>\n",
              "      <td>0.40</td>\n",
              "      <td>7499.00</td>\n",
              "      <td>1.0</td>\n",
              "      <td>90678.00</td>\n",
              "      <td>435016.00</td>\n",
              "      <td>9.433440e+07</td>\n",
              "      <td>11.00</td>\n",
              "      <td>65058.00</td>\n",
              "      <td>11.00</td>\n",
              "      <td>2724341.00</td>\n",
              "      <td>0.0</td>\n",
              "      <td>0.0</td>\n",
              "      <td>0.03</td>\n",
              "      <td>1.0</td>\n",
              "      <td>23.00</td>\n",
              "      <td>10.00</td>\n",
              "      <td>0.0</td>\n",
              "      <td>7.405343e+08</td>\n",
              "      <td>64219.75</td>\n",
              "      <td>2.428607e+08</td>\n",
              "      <td>0.32</td>\n",
              "      <td>1.470528e+08</td>\n",
              "      <td>29541.33</td>\n",
              "      <td>0.0</td>\n",
              "      <td>0.0</td>\n",
              "      <td>0.0</td>\n",
              "      <td>...</td>\n",
              "      <td>426853.93</td>\n",
              "      <td>0.0</td>\n",
              "      <td>1.0</td>\n",
              "      <td>5008.94</td>\n",
              "      <td>1.0</td>\n",
              "      <td>241531.99</td>\n",
              "      <td>24.0</td>\n",
              "      <td>10.00</td>\n",
              "      <td>0.0</td>\n",
              "      <td>0.5</td>\n",
              "      <td>0.5</td>\n",
              "      <td>0.75</td>\n",
              "      <td>0.75</td>\n",
              "      <td>0.75</td>\n",
              "      <td>0.75</td>\n",
              "      <td>0.75</td>\n",
              "      <td>0.75</td>\n",
              "      <td>0.5</td>\n",
              "      <td>0.75</td>\n",
              "      <td>0.5</td>\n",
              "      <td>0.5</td>\n",
              "      <td>0.5</td>\n",
              "      <td>0.75</td>\n",
              "      <td>0.75</td>\n",
              "      <td>0.5</td>\n",
              "      <td>0.75</td>\n",
              "      <td>0.5</td>\n",
              "      <td>0.75</td>\n",
              "      <td>0.75</td>\n",
              "      <td>0.75</td>\n",
              "      <td>0.75</td>\n",
              "      <td>0.5</td>\n",
              "      <td>0.5</td>\n",
              "      <td>0.75</td>\n",
              "      <td>0.5</td>\n",
              "      <td>0.75</td>\n",
              "      <td>0.00</td>\n",
              "      <td>0.00</td>\n",
              "      <td>1.0</td>\n",
              "      <td>1.0</td>\n",
              "    </tr>\n",
              "    <tr>\n",
              "      <th>max</th>\n",
              "      <td>0.0</td>\n",
              "      <td>0.0</td>\n",
              "      <td>261432.93</td>\n",
              "      <td>9999.00</td>\n",
              "      <td>1.0</td>\n",
              "      <td>503819.00</td>\n",
              "      <td>9999.00</td>\n",
              "      <td>1.0</td>\n",
              "      <td>424515.00</td>\n",
              "      <td>9999.00</td>\n",
              "      <td>1.0</td>\n",
              "      <td>460600.00</td>\n",
              "      <td>0.0</td>\n",
              "      <td>0.0</td>\n",
              "      <td>2.66</td>\n",
              "      <td>9999.00</td>\n",
              "      <td>1.0</td>\n",
              "      <td>106512.00</td>\n",
              "      <td>503819.00</td>\n",
              "      <td>6.987168e+08</td>\n",
              "      <td>27.00</td>\n",
              "      <td>219975.00</td>\n",
              "      <td>27.00</td>\n",
              "      <td>7854810.00</td>\n",
              "      <td>0.0</td>\n",
              "      <td>0.0</td>\n",
              "      <td>0.03</td>\n",
              "      <td>1.0</td>\n",
              "      <td>31.00</td>\n",
              "      <td>12.00</td>\n",
              "      <td>0.0</td>\n",
              "      <td>8.700479e+08</td>\n",
              "      <td>130694.65</td>\n",
              "      <td>4.940674e+08</td>\n",
              "      <td>0.70</td>\n",
              "      <td>2.992684e+08</td>\n",
              "      <td>60118.22</td>\n",
              "      <td>0.0</td>\n",
              "      <td>0.0</td>\n",
              "      <td>0.0</td>\n",
              "      <td>...</td>\n",
              "      <td>479918.00</td>\n",
              "      <td>0.0</td>\n",
              "      <td>1.0</td>\n",
              "      <td>5486.23</td>\n",
              "      <td>1.0</td>\n",
              "      <td>294294.88</td>\n",
              "      <td>31.0</td>\n",
              "      <td>12.00</td>\n",
              "      <td>0.0</td>\n",
              "      <td>0.5</td>\n",
              "      <td>0.5</td>\n",
              "      <td>1.00</td>\n",
              "      <td>1.00</td>\n",
              "      <td>1.00</td>\n",
              "      <td>1.00</td>\n",
              "      <td>1.00</td>\n",
              "      <td>1.00</td>\n",
              "      <td>0.5</td>\n",
              "      <td>1.00</td>\n",
              "      <td>0.5</td>\n",
              "      <td>0.5</td>\n",
              "      <td>0.5</td>\n",
              "      <td>1.00</td>\n",
              "      <td>1.00</td>\n",
              "      <td>0.5</td>\n",
              "      <td>1.00</td>\n",
              "      <td>0.5</td>\n",
              "      <td>1.00</td>\n",
              "      <td>1.00</td>\n",
              "      <td>1.00</td>\n",
              "      <td>1.00</td>\n",
              "      <td>0.5</td>\n",
              "      <td>0.5</td>\n",
              "      <td>1.00</td>\n",
              "      <td>0.5</td>\n",
              "      <td>1.00</td>\n",
              "      <td>3.00</td>\n",
              "      <td>1.00</td>\n",
              "      <td>1.0</td>\n",
              "      <td>1.0</td>\n",
              "    </tr>\n",
              "  </tbody>\n",
              "</table>\n",
              "<p>8 rows × 209 columns</p>\n",
              "</div>"
            ],
            "text/plain": [
              "       STD(Results.LuckyNo)  ...  LAST(Results.PrizeType)_Prize\n",
              "count              958948.0  ...                       959893.0\n",
              "mean                    0.0  ...                            1.0\n",
              "std                     0.0  ...                            0.0\n",
              "min                     0.0  ...                            1.0\n",
              "25%                     0.0  ...                            1.0\n",
              "50%                     0.0  ...                            1.0\n",
              "75%                     0.0  ...                            1.0\n",
              "max                     0.0  ...                            1.0\n",
              "\n",
              "[8 rows x 209 columns]"
            ]
          },
          "metadata": {
            "tags": []
          },
          "execution_count": 15
        }
      ]
    },
    {
      "cell_type": "code",
      "metadata": {
        "colab_type": "code",
        "id": "CZKTbWRFJNUq",
        "outputId": "2f84fc7d-bbad-4796-aab6-39569d13f644",
        "colab": {
          "base_uri": "https://localhost:8080/",
          "height": 51
        }
      },
      "source": [
        "print('Positive: ' + str(feature_matrix['Label'].value_counts()[0]) + ' which is ', round(feature_matrix['Label'].value_counts()[0]/len(feature_matrix) * 100,2), '% of the dataset')\n",
        "print('Negative: ' + str(feature_matrix['Label'].value_counts()[1]) + ' which is ', round(feature_matrix['Label'].value_counts()[1]/len(feature_matrix) * 100,2), '% of the dataset')"
      ],
      "execution_count": 16,
      "outputs": [
        {
          "output_type": "stream",
          "text": [
            "Positive: 927839 which is  96.66 % of the dataset\n",
            "Negative: 32054 which is  3.34 % of the dataset\n"
          ],
          "name": "stdout"
        }
      ]
    },
    {
      "cell_type": "code",
      "metadata": {
        "colab_type": "code",
        "id": "E8ZoClJ9JmFY",
        "outputId": "99247ef1-2be2-49ab-946d-57f8d7fa1a63",
        "colab": {
          "base_uri": "https://localhost:8080/",
          "height": 551
        }
      },
      "source": [
        "plt.figure(figsize=(8, 8))\n",
        "sns.countplot('Label', data=feature_matrix)"
      ],
      "execution_count": 17,
      "outputs": [
        {
          "output_type": "execute_result",
          "data": {
            "text/plain": [
              "<matplotlib.axes._subplots.AxesSubplot at 0x7f02e99f0d68>"
            ]
          },
          "metadata": {
            "tags": []
          },
          "execution_count": 17
        },
        {
          "output_type": "display_data",
          "data": {
            "image/png": "[encoded data removed]",
            "text/plain": [
              "<Figure size 576x576 with 1 Axes>"
            ]
          },
          "metadata": {
            "tags": []
          }
        }
      ]
    },
    {
      "cell_type": "code",
      "metadata": {
        "colab_type": "code",
        "id": "plplpAQ6JrKb",
        "outputId": "c89312fe-e0fc-49b7-bc5f-57e94652dd7e",
        "colab": {
          "base_uri": "https://localhost:8080/",
          "height": 221
        }
      },
      "source": [
        "feature_matrix.isna().sum().sort_values(ascending=False)"
      ],
      "execution_count": 18,
      "outputs": [
        {
          "output_type": "execute_result",
          "data": {
            "text/plain": [
              "SKEW(Results.CUM_SUM(DrawNo))                       7636\n",
              "SKEW(Results.TotalStrike)                           7636\n",
              "TREND(Results.PERCENTILE(TotalStrike), DrawDate)    7636\n",
              "TREND(Results.CUM_MEAN(LuckyNo), DrawDate)          7636\n",
              "TREND(Results.CUM_SUM(DrawNo), DrawDate)            7636\n",
              "                                                    ... \n",
              "CUM_SUM(MIN(Results.TotalStrike))                      0\n",
              "NUM_UNIQUE(Results.MONTH(DrawDate))                    0\n",
              "NUM_UNIQUE(Results.HOUR(DrawDate))                     0\n",
              "NUM_UNIQUE(Results.DAY(DrawDate))                      0\n",
              "time                                                   0\n",
              "Length: 210, dtype: int64"
            ]
          },
          "metadata": {
            "tags": []
          },
          "execution_count": 18
        }
      ]
    },
    {
      "cell_type": "code",
      "metadata": {
        "colab_type": "code",
        "id": "p4nkL5qLJ5iK",
        "outputId": "bc1c2f9e-25d4-4f7d-f9e5-35eeb04e9b9f",
        "colab": {
          "base_uri": "https://localhost:8080/",
          "height": 221
        }
      },
      "source": [
        "feature_matrix.isnull().sum().sort_values(ascending=False)"
      ],
      "execution_count": 19,
      "outputs": [
        {
          "output_type": "execute_result",
          "data": {
            "text/plain": [
              "SKEW(Results.CUM_SUM(DrawNo))                       7636\n",
              "SKEW(Results.TotalStrike)                           7636\n",
              "TREND(Results.PERCENTILE(TotalStrike), DrawDate)    7636\n",
              "TREND(Results.CUM_MEAN(LuckyNo), DrawDate)          7636\n",
              "TREND(Results.CUM_SUM(DrawNo), DrawDate)            7636\n",
              "                                                    ... \n",
              "CUM_SUM(MIN(Results.TotalStrike))                      0\n",
              "NUM_UNIQUE(Results.MONTH(DrawDate))                    0\n",
              "NUM_UNIQUE(Results.HOUR(DrawDate))                     0\n",
              "NUM_UNIQUE(Results.DAY(DrawDate))                      0\n",
              "time                                                   0\n",
              "Length: 210, dtype: int64"
            ]
          },
          "metadata": {
            "tags": []
          },
          "execution_count": 19
        }
      ]
    },
    {
      "cell_type": "code",
      "metadata": {
        "colab_type": "code",
        "id": "TRWWhuVbKcMe",
        "outputId": "858a0ced-9ab2-4971-c597-eabb117f1e2f",
        "colab": {
          "base_uri": "https://localhost:8080/",
          "height": 34
        }
      },
      "source": [
        "len(feature_matrix[feature_matrix.isnull().any(axis=1)].time.unique())"
      ],
      "execution_count": 24,
      "outputs": [
        {
          "output_type": "execute_result",
          "data": {
            "text/plain": [
              "96"
            ]
          },
          "metadata": {
            "tags": []
          },
          "execution_count": 24
        }
      ]
    },
    {
      "cell_type": "code",
      "metadata": {
        "colab_type": "code",
        "id": "S1612o1VKnof",
        "outputId": "feba7015-460a-4663-a1b1-427cd68f5cc5",
        "colab": {
          "base_uri": "https://localhost:8080/",
          "height": 355
        }
      },
      "source": [
        "feature_matrix[feature_matrix.isnull().any(axis=1)].head()"
      ],
      "execution_count": 25,
      "outputs": [
        {
          "output_type": "execute_result",
          "data": {
            "text/html": [
              "<div>\n",
              "<style scoped>\n",
              "    .dataframe tbody tr th:only-of-type {\n",
              "        vertical-align: middle;\n",
              "    }\n",
              "\n",
              "    .dataframe tbody tr th {\n",
              "        vertical-align: top;\n",
              "    }\n",
              "\n",
              "    .dataframe thead th {\n",
              "        text-align: right;\n",
              "    }\n",
              "</style>\n",
              "<table border=\"1\" class=\"dataframe\">\n",
              "  <thead>\n",
              "    <tr style=\"text-align: right;\">\n",
              "      <th></th>\n",
              "      <th>time</th>\n",
              "      <th>STD(Results.LuckyNo)</th>\n",
              "      <th>STD(Results.TotalStrike)</th>\n",
              "      <th>STD(Results.DrawNo)</th>\n",
              "      <th>MAX(Results.LuckyNo)</th>\n",
              "      <th>MAX(Results.TotalStrike)</th>\n",
              "      <th>MAX(Results.DrawNo)</th>\n",
              "      <th>MIN(Results.LuckyNo)</th>\n",
              "      <th>MIN(Results.TotalStrike)</th>\n",
              "      <th>MIN(Results.DrawNo)</th>\n",
              "      <th>MEAN(Results.LuckyNo)</th>\n",
              "      <th>MEAN(Results.TotalStrike)</th>\n",
              "      <th>MEAN(Results.DrawNo)</th>\n",
              "      <th>SKEW(Results.LuckyNo)</th>\n",
              "      <th>SKEW(Results.TotalStrike)</th>\n",
              "      <th>SKEW(Results.DrawNo)</th>\n",
              "      <th>LAST(Results.LuckyNo)</th>\n",
              "      <th>LAST(Results.TotalStrike)</th>\n",
              "      <th>LAST(Results.results_index)</th>\n",
              "      <th>LAST(Results.DrawNo)</th>\n",
              "      <th>AVG_TIME_BETWEEN(Results.DrawDate)</th>\n",
              "      <th>COUNT(Results)</th>\n",
              "      <th>SUM(Results.LuckyNo)</th>\n",
              "      <th>SUM(Results.TotalStrike)</th>\n",
              "      <th>SUM(Results.DrawNo)</th>\n",
              "      <th>TREND(Results.TotalStrike, DrawDate)</th>\n",
              "      <th>TREND(Results.LuckyNo, DrawDate)</th>\n",
              "      <th>TREND(Results.DrawNo, DrawDate)</th>\n",
              "      <th>NUM_UNIQUE(Results.PrizeType)</th>\n",
              "      <th>DAY(first_Results_time)</th>\n",
              "      <th>MONTH(first_Results_time)</th>\n",
              "      <th>HOUR(first_Results_time)</th>\n",
              "      <th>TIME_SINCE(first_Results_time)</th>\n",
              "      <th>STD(Results.CUM_MEAN(DrawNo))</th>\n",
              "      <th>STD(Results.TIME_SINCE(DrawDate))</th>\n",
              "      <th>STD(Results.PERCENTILE(DrawNo))</th>\n",
              "      <th>STD(Results.CUM_SUM(LuckyNo))</th>\n",
              "      <th>STD(Results.CUM_SUM(TotalStrike))</th>\n",
              "      <th>STD(Results.CUM_MEAN(TotalStrike))</th>\n",
              "      <th>STD(Results.PERCENTILE(LuckyNo))</th>\n",
              "      <th>...</th>\n",
              "      <th>CUM_MEAN(MAX(Results.DrawNo))</th>\n",
              "      <th>CUM_MEAN(TREND(Results.LuckyNo, DrawDate))</th>\n",
              "      <th>CUM_MEAN(LAST(Results.TotalStrike))</th>\n",
              "      <th>CUM_MEAN(LAST(Results.LuckyNo))</th>\n",
              "      <th>CUM_MEAN(NUM_UNIQUE(Results.PrizeType))</th>\n",
              "      <th>CUM_MEAN(MEAN(Results.DrawNo))</th>\n",
              "      <th>DAY(LAST(Results.DrawDate))</th>\n",
              "      <th>MONTH(LAST(Results.DrawDate))</th>\n",
              "      <th>HOUR(LAST(Results.DrawDate))</th>\n",
              "      <th>PERCENTILE(MIN(Results.TotalStrike))</th>\n",
              "      <th>PERCENTILE(STD(Results.TotalStrike))</th>\n",
              "      <th>PERCENTILE(SUM(Results.LuckyNo))</th>\n",
              "      <th>PERCENTILE(TREND(Results.DrawNo, DrawDate))</th>\n",
              "      <th>PERCENTILE(SUM(Results.DrawNo))</th>\n",
              "      <th>PERCENTILE(COUNT(Results))</th>\n",
              "      <th>PERCENTILE(SUM(Results.TotalStrike))</th>\n",
              "      <th>PERCENTILE(MAX(Results.LuckyNo))</th>\n",
              "      <th>PERCENTILE(MEAN(Results.TotalStrike))</th>\n",
              "      <th>PERCENTILE(MIN(Results.DrawNo))</th>\n",
              "      <th>PERCENTILE(STD(Results.LuckyNo))</th>\n",
              "      <th>PERCENTILE(SKEW(Results.LuckyNo))</th>\n",
              "      <th>PERCENTILE(TREND(Results.TotalStrike, DrawDate))</th>\n",
              "      <th>PERCENTILE(SKEW(Results.DrawNo))</th>\n",
              "      <th>PERCENTILE(LAST(Results.DrawNo))</th>\n",
              "      <th>PERCENTILE(SKEW(Results.TotalStrike))</th>\n",
              "      <th>PERCENTILE(MEAN(Results.LuckyNo))</th>\n",
              "      <th>PERCENTILE(MAX(Results.TotalStrike))</th>\n",
              "      <th>PERCENTILE(STD(Results.DrawNo))</th>\n",
              "      <th>PERCENTILE(MIN(Results.LuckyNo))</th>\n",
              "      <th>PERCENTILE(AVG_TIME_BETWEEN(Results.DrawDate))</th>\n",
              "      <th>PERCENTILE(MAX(Results.DrawNo))</th>\n",
              "      <th>PERCENTILE(TREND(Results.LuckyNo, DrawDate))</th>\n",
              "      <th>PERCENTILE(LAST(Results.TotalStrike))</th>\n",
              "      <th>PERCENTILE(LAST(Results.LuckyNo))</th>\n",
              "      <th>PERCENTILE(NUM_UNIQUE(Results.PrizeType))</th>\n",
              "      <th>PERCENTILE(MEAN(Results.DrawNo))</th>\n",
              "      <th>TotalStrike</th>\n",
              "      <th>Label</th>\n",
              "      <th>MODE(Results.PrizeType)_Prize</th>\n",
              "      <th>LAST(Results.PrizeType)_Prize</th>\n",
              "    </tr>\n",
              "  </thead>\n",
              "  <tbody>\n",
              "    <tr>\n",
              "      <th>116</th>\n",
              "      <td>2012-01-01</td>\n",
              "      <td>NaN</td>\n",
              "      <td>NaN</td>\n",
              "      <td>NaN</td>\n",
              "      <td>3294</td>\n",
              "      <td>1</td>\n",
              "      <td>104596</td>\n",
              "      <td>3294</td>\n",
              "      <td>1</td>\n",
              "      <td>104596</td>\n",
              "      <td>3294</td>\n",
              "      <td>1</td>\n",
              "      <td>104596.0</td>\n",
              "      <td>NaN</td>\n",
              "      <td>NaN</td>\n",
              "      <td>NaN</td>\n",
              "      <td>3294</td>\n",
              "      <td>1</td>\n",
              "      <td>14682</td>\n",
              "      <td>104596</td>\n",
              "      <td>NaN</td>\n",
              "      <td>1</td>\n",
              "      <td>3294</td>\n",
              "      <td>1</td>\n",
              "      <td>104596</td>\n",
              "      <td>NaN</td>\n",
              "      <td>NaN</td>\n",
              "      <td>NaN</td>\n",
              "      <td>1</td>\n",
              "      <td>1</td>\n",
              "      <td>6</td>\n",
              "      <td>0</td>\n",
              "      <td>491788740.0</td>\n",
              "      <td>NaN</td>\n",
              "      <td>NaN</td>\n",
              "      <td>NaN</td>\n",
              "      <td>NaN</td>\n",
              "      <td>NaN</td>\n",
              "      <td>NaN</td>\n",
              "      <td>NaN</td>\n",
              "      <td>...</td>\n",
              "      <td>320021.630851</td>\n",
              "      <td>NaN</td>\n",
              "      <td>1.0</td>\n",
              "      <td>5001.828161</td>\n",
              "      <td>1.0</td>\n",
              "      <td>192504.336473</td>\n",
              "      <td>1</td>\n",
              "      <td>6</td>\n",
              "      <td>0</td>\n",
              "      <td>0.50005</td>\n",
              "      <td>NaN</td>\n",
              "      <td>0.053427</td>\n",
              "      <td>NaN</td>\n",
              "      <td>0.001001</td>\n",
              "      <td>0.001901</td>\n",
              "      <td>0.001901</td>\n",
              "      <td>0.329665</td>\n",
              "      <td>0.50005</td>\n",
              "      <td>0.773887</td>\n",
              "      <td>NaN</td>\n",
              "      <td>NaN</td>\n",
              "      <td>NaN</td>\n",
              "      <td>NaN</td>\n",
              "      <td>0.002201</td>\n",
              "      <td>NaN</td>\n",
              "      <td>0.329665</td>\n",
              "      <td>0.50005</td>\n",
              "      <td>NaN</td>\n",
              "      <td>0.329665</td>\n",
              "      <td>NaN</td>\n",
              "      <td>0.002201</td>\n",
              "      <td>NaN</td>\n",
              "      <td>0.50005</td>\n",
              "      <td>0.329665</td>\n",
              "      <td>0.50005</td>\n",
              "      <td>0.007804</td>\n",
              "      <td>1.0</td>\n",
              "      <td>1</td>\n",
              "      <td>1</td>\n",
              "      <td>1</td>\n",
              "    </tr>\n",
              "    <tr>\n",
              "      <th>126</th>\n",
              "      <td>2012-01-01</td>\n",
              "      <td>0.0</td>\n",
              "      <td>0.0</td>\n",
              "      <td>90302.485705</td>\n",
              "      <td>3455</td>\n",
              "      <td>1</td>\n",
              "      <td>327109</td>\n",
              "      <td>3455</td>\n",
              "      <td>1</td>\n",
              "      <td>199402</td>\n",
              "      <td>3455</td>\n",
              "      <td>1</td>\n",
              "      <td>263255.5</td>\n",
              "      <td>NaN</td>\n",
              "      <td>NaN</td>\n",
              "      <td>NaN</td>\n",
              "      <td>3455</td>\n",
              "      <td>1</td>\n",
              "      <td>65850</td>\n",
              "      <td>327109</td>\n",
              "      <td>240278400.0</td>\n",
              "      <td>2</td>\n",
              "      <td>6910</td>\n",
              "      <td>2</td>\n",
              "      <td>526511</td>\n",
              "      <td>NaN</td>\n",
              "      <td>NaN</td>\n",
              "      <td>NaN</td>\n",
              "      <td>1</td>\n",
              "      <td>28</td>\n",
              "      <td>4</td>\n",
              "      <td>0</td>\n",
              "      <td>305423940.0</td>\n",
              "      <td>45155.660222</td>\n",
              "      <td>1.699025e+08</td>\n",
              "      <td>0.279732</td>\n",
              "      <td>1.035840e+08</td>\n",
              "      <td>20767.726163</td>\n",
              "      <td>0.0</td>\n",
              "      <td>0.0</td>\n",
              "      <td>...</td>\n",
              "      <td>320268.030020</td>\n",
              "      <td>NaN</td>\n",
              "      <td>1.0</td>\n",
              "      <td>5003.717418</td>\n",
              "      <td>1.0</td>\n",
              "      <td>200090.691887</td>\n",
              "      <td>8</td>\n",
              "      <td>12</td>\n",
              "      <td>0</td>\n",
              "      <td>0.50005</td>\n",
              "      <td>0.50005</td>\n",
              "      <td>0.108754</td>\n",
              "      <td>NaN</td>\n",
              "      <td>0.037919</td>\n",
              "      <td>0.013057</td>\n",
              "      <td>0.013057</td>\n",
              "      <td>0.345773</td>\n",
              "      <td>0.50005</td>\n",
              "      <td>0.976538</td>\n",
              "      <td>0.50005</td>\n",
              "      <td>NaN</td>\n",
              "      <td>NaN</td>\n",
              "      <td>NaN</td>\n",
              "      <td>0.429465</td>\n",
              "      <td>NaN</td>\n",
              "      <td>0.345773</td>\n",
              "      <td>0.50005</td>\n",
              "      <td>0.457421</td>\n",
              "      <td>0.345773</td>\n",
              "      <td>0.987447</td>\n",
              "      <td>0.429465</td>\n",
              "      <td>NaN</td>\n",
              "      <td>0.50005</td>\n",
              "      <td>0.345773</td>\n",
              "      <td>0.50005</td>\n",
              "      <td>0.950675</td>\n",
              "      <td>1.0</td>\n",
              "      <td>1</td>\n",
              "      <td>1</td>\n",
              "      <td>1</td>\n",
              "    </tr>\n",
              "    <tr>\n",
              "      <th>128</th>\n",
              "      <td>2012-01-01</td>\n",
              "      <td>0.0</td>\n",
              "      <td>0.0</td>\n",
              "      <td>7990.306627</td>\n",
              "      <td>3479</td>\n",
              "      <td>1</td>\n",
              "      <td>362211</td>\n",
              "      <td>3479</td>\n",
              "      <td>1</td>\n",
              "      <td>350911</td>\n",
              "      <td>3479</td>\n",
              "      <td>1</td>\n",
              "      <td>356561.0</td>\n",
              "      <td>NaN</td>\n",
              "      <td>NaN</td>\n",
              "      <td>NaN</td>\n",
              "      <td>3479</td>\n",
              "      <td>1</td>\n",
              "      <td>73941</td>\n",
              "      <td>362211</td>\n",
              "      <td>20563200.0</td>\n",
              "      <td>2</td>\n",
              "      <td>6958</td>\n",
              "      <td>2</td>\n",
              "      <td>713122</td>\n",
              "      <td>NaN</td>\n",
              "      <td>NaN</td>\n",
              "      <td>NaN</td>\n",
              "      <td>1</td>\n",
              "      <td>10</td>\n",
              "      <td>4</td>\n",
              "      <td>0</td>\n",
              "      <td>22982340.0</td>\n",
              "      <td>4020.215271</td>\n",
              "      <td>1.454038e+07</td>\n",
              "      <td>0.024753</td>\n",
              "      <td>9.217371e+06</td>\n",
              "      <td>1849.084233</td>\n",
              "      <td>0.0</td>\n",
              "      <td>0.0</td>\n",
              "      <td>...</td>\n",
              "      <td>320438.809529</td>\n",
              "      <td>NaN</td>\n",
              "      <td>1.0</td>\n",
              "      <td>4997.881393</td>\n",
              "      <td>1.0</td>\n",
              "      <td>202004.621243</td>\n",
              "      <td>4</td>\n",
              "      <td>12</td>\n",
              "      <td>0</td>\n",
              "      <td>0.50005</td>\n",
              "      <td>0.50005</td>\n",
              "      <td>0.109555</td>\n",
              "      <td>NaN</td>\n",
              "      <td>0.087744</td>\n",
              "      <td>0.013057</td>\n",
              "      <td>0.013057</td>\n",
              "      <td>0.348174</td>\n",
              "      <td>0.50005</td>\n",
              "      <td>0.999650</td>\n",
              "      <td>0.50005</td>\n",
              "      <td>NaN</td>\n",
              "      <td>NaN</td>\n",
              "      <td>NaN</td>\n",
              "      <td>0.969335</td>\n",
              "      <td>NaN</td>\n",
              "      <td>0.348174</td>\n",
              "      <td>0.50005</td>\n",
              "      <td>0.001808</td>\n",
              "      <td>0.348174</td>\n",
              "      <td>0.002209</td>\n",
              "      <td>0.969335</td>\n",
              "      <td>NaN</td>\n",
              "      <td>0.50005</td>\n",
              "      <td>0.348174</td>\n",
              "      <td>0.50005</td>\n",
              "      <td>0.999900</td>\n",
              "      <td>1.0</td>\n",
              "      <td>1</td>\n",
              "      <td>1</td>\n",
              "      <td>1</td>\n",
              "    </tr>\n",
              "    <tr>\n",
              "      <th>199</th>\n",
              "      <td>2012-01-01</td>\n",
              "      <td>0.0</td>\n",
              "      <td>0.0</td>\n",
              "      <td>126014.206582</td>\n",
              "      <td>5870</td>\n",
              "      <td>1</td>\n",
              "      <td>239204</td>\n",
              "      <td>5870</td>\n",
              "      <td>1</td>\n",
              "      <td>60993</td>\n",
              "      <td>5870</td>\n",
              "      <td>1</td>\n",
              "      <td>150098.5</td>\n",
              "      <td>NaN</td>\n",
              "      <td>NaN</td>\n",
              "      <td>NaN</td>\n",
              "      <td>5870</td>\n",
              "      <td>1</td>\n",
              "      <td>45633</td>\n",
              "      <td>239204</td>\n",
              "      <td>350352000.0</td>\n",
              "      <td>2</td>\n",
              "      <td>11740</td>\n",
              "      <td>2</td>\n",
              "      <td>300197</td>\n",
              "      <td>NaN</td>\n",
              "      <td>NaN</td>\n",
              "      <td>NaN</td>\n",
              "      <td>1</td>\n",
              "      <td>19</td>\n",
              "      <td>8</td>\n",
              "      <td>0</td>\n",
              "      <td>579657540.0</td>\n",
              "      <td>62983.155445</td>\n",
              "      <td>2.477363e+08</td>\n",
              "      <td>0.390354</td>\n",
              "      <td>1.443588e+08</td>\n",
              "      <td>28975.114573</td>\n",
              "      <td>0.0</td>\n",
              "      <td>0.0</td>\n",
              "      <td>...</td>\n",
              "      <td>319607.679654</td>\n",
              "      <td>NaN</td>\n",
              "      <td>1.0</td>\n",
              "      <td>5002.181006</td>\n",
              "      <td>1.0</td>\n",
              "      <td>184891.578398</td>\n",
              "      <td>25</td>\n",
              "      <td>9</td>\n",
              "      <td>0</td>\n",
              "      <td>0.50005</td>\n",
              "      <td>0.50005</td>\n",
              "      <td>0.184792</td>\n",
              "      <td>NaN</td>\n",
              "      <td>0.008004</td>\n",
              "      <td>0.013057</td>\n",
              "      <td>0.013057</td>\n",
              "      <td>0.587194</td>\n",
              "      <td>0.50005</td>\n",
              "      <td>0.369835</td>\n",
              "      <td>0.50005</td>\n",
              "      <td>NaN</td>\n",
              "      <td>NaN</td>\n",
              "      <td>NaN</td>\n",
              "      <td>0.054077</td>\n",
              "      <td>NaN</td>\n",
              "      <td>0.587194</td>\n",
              "      <td>0.50005</td>\n",
              "      <td>0.962392</td>\n",
              "      <td>0.587194</td>\n",
              "      <td>0.996987</td>\n",
              "      <td>0.054077</td>\n",
              "      <td>NaN</td>\n",
              "      <td>0.50005</td>\n",
              "      <td>0.587194</td>\n",
              "      <td>0.50005</td>\n",
              "      <td>0.077439</td>\n",
              "      <td>1.0</td>\n",
              "      <td>1</td>\n",
              "      <td>1</td>\n",
              "      <td>1</td>\n",
              "    </tr>\n",
              "    <tr>\n",
              "      <th>209</th>\n",
              "      <td>2012-01-01</td>\n",
              "      <td>0.0</td>\n",
              "      <td>0.0</td>\n",
              "      <td>36205.988517</td>\n",
              "      <td>6034</td>\n",
              "      <td>1</td>\n",
              "      <td>149499</td>\n",
              "      <td>6034</td>\n",
              "      <td>1</td>\n",
              "      <td>98296</td>\n",
              "      <td>6034</td>\n",
              "      <td>1</td>\n",
              "      <td>123897.5</td>\n",
              "      <td>NaN</td>\n",
              "      <td>NaN</td>\n",
              "      <td>NaN</td>\n",
              "      <td>6034</td>\n",
              "      <td>1</td>\n",
              "      <td>25008</td>\n",
              "      <td>149499</td>\n",
              "      <td>102556800.0</td>\n",
              "      <td>2</td>\n",
              "      <td>12068</td>\n",
              "      <td>2</td>\n",
              "      <td>247795</td>\n",
              "      <td>NaN</td>\n",
              "      <td>NaN</td>\n",
              "      <td>NaN</td>\n",
              "      <td>1</td>\n",
              "      <td>6</td>\n",
              "      <td>1</td>\n",
              "      <td>0</td>\n",
              "      <td>504489540.0</td>\n",
              "      <td>18106.178107</td>\n",
              "      <td>7.251861e+07</td>\n",
              "      <td>0.112156</td>\n",
              "      <td>4.163878e+07</td>\n",
              "      <td>8328.303669</td>\n",
              "      <td>0.0</td>\n",
              "      <td>0.0</td>\n",
              "      <td>...</td>\n",
              "      <td>320021.597771</td>\n",
              "      <td>NaN</td>\n",
              "      <td>1.0</td>\n",
              "      <td>4998.002446</td>\n",
              "      <td>1.0</td>\n",
              "      <td>191581.454293</td>\n",
              "      <td>7</td>\n",
              "      <td>4</td>\n",
              "      <td>0</td>\n",
              "      <td>0.50005</td>\n",
              "      <td>0.50005</td>\n",
              "      <td>0.191096</td>\n",
              "      <td>NaN</td>\n",
              "      <td>0.004502</td>\n",
              "      <td>0.013057</td>\n",
              "      <td>0.013057</td>\n",
              "      <td>0.603602</td>\n",
              "      <td>0.50005</td>\n",
              "      <td>0.736468</td>\n",
              "      <td>0.50005</td>\n",
              "      <td>NaN</td>\n",
              "      <td>NaN</td>\n",
              "      <td>NaN</td>\n",
              "      <td>0.006603</td>\n",
              "      <td>NaN</td>\n",
              "      <td>0.603602</td>\n",
              "      <td>0.50005</td>\n",
              "      <td>0.014461</td>\n",
              "      <td>0.603602</td>\n",
              "      <td>0.794788</td>\n",
              "      <td>0.006603</td>\n",
              "      <td>NaN</td>\n",
              "      <td>0.50005</td>\n",
              "      <td>0.603602</td>\n",
              "      <td>0.50005</td>\n",
              "      <td>0.019710</td>\n",
              "      <td>1.0</td>\n",
              "      <td>1</td>\n",
              "      <td>1</td>\n",
              "      <td>1</td>\n",
              "    </tr>\n",
              "  </tbody>\n",
              "</table>\n",
              "<p>5 rows × 210 columns</p>\n",
              "</div>"
            ],
            "text/plain": [
              "          time  ...  LAST(Results.PrizeType)_Prize\n",
              "116 2012-01-01  ...                              1\n",
              "126 2012-01-01  ...                              1\n",
              "128 2012-01-01  ...                              1\n",
              "199 2012-01-01  ...                              1\n",
              "209 2012-01-01  ...                              1\n",
              "\n",
              "[5 rows x 210 columns]"
            ]
          },
          "metadata": {
            "tags": []
          },
          "execution_count": 25
        }
      ]
    },
    {
      "cell_type": "markdown",
      "metadata": {
        "colab_type": "text",
        "id": "fdayfSLPLN_k"
      },
      "source": [
        "### Data Cleansing"
      ]
    },
    {
      "cell_type": "code",
      "metadata": {
        "colab_type": "code",
        "id": "9LcvGa8eLiEX",
        "colab": {}
      },
      "source": [
        "## Fill all NaN with 0\n",
        "feature_matrix = feature_matrix.fillna(0)"
      ],
      "execution_count": 0,
      "outputs": []
    },
    {
      "cell_type": "code",
      "metadata": {
        "colab_type": "code",
        "id": "x-R7-RqkLnN9",
        "outputId": "64bbae2e-f9f5-415f-fc53-1891a746ee01",
        "colab": {
          "base_uri": "https://localhost:8080/",
          "height": 221
        }
      },
      "source": [
        "feature_matrix.isnull().sum().sort_values(ascending=False)"
      ],
      "execution_count": 27,
      "outputs": [
        {
          "output_type": "execute_result",
          "data": {
            "text/plain": [
              "LAST(Results.PrizeType)_Prize                    0\n",
              "MAX(Results.CUM_MEAN(LuckyNo))                   0\n",
              "SKEW(Results.CUM_MEAN(DrawNo))                   0\n",
              "MEAN(Results.CUM_MEAN(LuckyNo))                  0\n",
              "MEAN(Results.CUM_SUM(DrawNo))                    0\n",
              "                                                ..\n",
              "CUM_SUM(LAST(Results.DrawNo))                    0\n",
              "CUM_SUM(SKEW(Results.DrawNo))                    0\n",
              "CUM_SUM(TREND(Results.TotalStrike, DrawDate))    0\n",
              "CUM_SUM(SKEW(Results.LuckyNo))                   0\n",
              "time                                             0\n",
              "Length: 210, dtype: int64"
            ]
          },
          "metadata": {
            "tags": []
          },
          "execution_count": 27
        }
      ]
    },
    {
      "cell_type": "code",
      "metadata": {
        "colab_type": "code",
        "id": "7KMHiiNyLv_a",
        "outputId": "d05a6f9a-0cfd-40f3-d806-813aefb0d9ba",
        "colab": {
          "base_uri": "https://localhost:8080/",
          "height": 221
        }
      },
      "source": [
        "feature_matrix.isna().sum().sort_values(ascending=False)"
      ],
      "execution_count": 28,
      "outputs": [
        {
          "output_type": "execute_result",
          "data": {
            "text/plain": [
              "LAST(Results.PrizeType)_Prize                    0\n",
              "MAX(Results.CUM_MEAN(LuckyNo))                   0\n",
              "SKEW(Results.CUM_MEAN(DrawNo))                   0\n",
              "MEAN(Results.CUM_MEAN(LuckyNo))                  0\n",
              "MEAN(Results.CUM_SUM(DrawNo))                    0\n",
              "                                                ..\n",
              "CUM_SUM(LAST(Results.DrawNo))                    0\n",
              "CUM_SUM(SKEW(Results.DrawNo))                    0\n",
              "CUM_SUM(TREND(Results.TotalStrike, DrawDate))    0\n",
              "CUM_SUM(SKEW(Results.LuckyNo))                   0\n",
              "time                                             0\n",
              "Length: 210, dtype: int64"
            ]
          },
          "metadata": {
            "tags": []
          },
          "execution_count": 28
        }
      ]
    },
    {
      "cell_type": "code",
      "metadata": {
        "colab_type": "code",
        "id": "mzHx8OYQLx0C",
        "outputId": "14f01c95-4754-48d9-c756-8c798617d4bb",
        "colab": {
          "base_uri": "https://localhost:8080/",
          "height": 115
        }
      },
      "source": [
        "feature_matrix[feature_matrix.isnull().any(axis=1)].head()"
      ],
      "execution_count": 29,
      "outputs": [
        {
          "output_type": "execute_result",
          "data": {
            "text/html": [
              "<div>\n",
              "<style scoped>\n",
              "    .dataframe tbody tr th:only-of-type {\n",
              "        vertical-align: middle;\n",
              "    }\n",
              "\n",
              "    .dataframe tbody tr th {\n",
              "        vertical-align: top;\n",
              "    }\n",
              "\n",
              "    .dataframe thead th {\n",
              "        text-align: right;\n",
              "    }\n",
              "</style>\n",
              "<table border=\"1\" class=\"dataframe\">\n",
              "  <thead>\n",
              "    <tr style=\"text-align: right;\">\n",
              "      <th></th>\n",
              "      <th>time</th>\n",
              "      <th>STD(Results.LuckyNo)</th>\n",
              "      <th>STD(Results.TotalStrike)</th>\n",
              "      <th>STD(Results.DrawNo)</th>\n",
              "      <th>MAX(Results.LuckyNo)</th>\n",
              "      <th>MAX(Results.TotalStrike)</th>\n",
              "      <th>MAX(Results.DrawNo)</th>\n",
              "      <th>MIN(Results.LuckyNo)</th>\n",
              "      <th>MIN(Results.TotalStrike)</th>\n",
              "      <th>MIN(Results.DrawNo)</th>\n",
              "      <th>MEAN(Results.LuckyNo)</th>\n",
              "      <th>MEAN(Results.TotalStrike)</th>\n",
              "      <th>MEAN(Results.DrawNo)</th>\n",
              "      <th>SKEW(Results.LuckyNo)</th>\n",
              "      <th>SKEW(Results.TotalStrike)</th>\n",
              "      <th>SKEW(Results.DrawNo)</th>\n",
              "      <th>LAST(Results.LuckyNo)</th>\n",
              "      <th>LAST(Results.TotalStrike)</th>\n",
              "      <th>LAST(Results.results_index)</th>\n",
              "      <th>LAST(Results.DrawNo)</th>\n",
              "      <th>AVG_TIME_BETWEEN(Results.DrawDate)</th>\n",
              "      <th>COUNT(Results)</th>\n",
              "      <th>SUM(Results.LuckyNo)</th>\n",
              "      <th>SUM(Results.TotalStrike)</th>\n",
              "      <th>SUM(Results.DrawNo)</th>\n",
              "      <th>TREND(Results.TotalStrike, DrawDate)</th>\n",
              "      <th>TREND(Results.LuckyNo, DrawDate)</th>\n",
              "      <th>TREND(Results.DrawNo, DrawDate)</th>\n",
              "      <th>NUM_UNIQUE(Results.PrizeType)</th>\n",
              "      <th>DAY(first_Results_time)</th>\n",
              "      <th>MONTH(first_Results_time)</th>\n",
              "      <th>HOUR(first_Results_time)</th>\n",
              "      <th>TIME_SINCE(first_Results_time)</th>\n",
              "      <th>STD(Results.CUM_MEAN(DrawNo))</th>\n",
              "      <th>STD(Results.TIME_SINCE(DrawDate))</th>\n",
              "      <th>STD(Results.PERCENTILE(DrawNo))</th>\n",
              "      <th>STD(Results.CUM_SUM(LuckyNo))</th>\n",
              "      <th>STD(Results.CUM_SUM(TotalStrike))</th>\n",
              "      <th>STD(Results.CUM_MEAN(TotalStrike))</th>\n",
              "      <th>STD(Results.PERCENTILE(LuckyNo))</th>\n",
              "      <th>...</th>\n",
              "      <th>CUM_MEAN(MAX(Results.DrawNo))</th>\n",
              "      <th>CUM_MEAN(TREND(Results.LuckyNo, DrawDate))</th>\n",
              "      <th>CUM_MEAN(LAST(Results.TotalStrike))</th>\n",
              "      <th>CUM_MEAN(LAST(Results.LuckyNo))</th>\n",
              "      <th>CUM_MEAN(NUM_UNIQUE(Results.PrizeType))</th>\n",
              "      <th>CUM_MEAN(MEAN(Results.DrawNo))</th>\n",
              "      <th>DAY(LAST(Results.DrawDate))</th>\n",
              "      <th>MONTH(LAST(Results.DrawDate))</th>\n",
              "      <th>HOUR(LAST(Results.DrawDate))</th>\n",
              "      <th>PERCENTILE(MIN(Results.TotalStrike))</th>\n",
              "      <th>PERCENTILE(STD(Results.TotalStrike))</th>\n",
              "      <th>PERCENTILE(SUM(Results.LuckyNo))</th>\n",
              "      <th>PERCENTILE(TREND(Results.DrawNo, DrawDate))</th>\n",
              "      <th>PERCENTILE(SUM(Results.DrawNo))</th>\n",
              "      <th>PERCENTILE(COUNT(Results))</th>\n",
              "      <th>PERCENTILE(SUM(Results.TotalStrike))</th>\n",
              "      <th>PERCENTILE(MAX(Results.LuckyNo))</th>\n",
              "      <th>PERCENTILE(MEAN(Results.TotalStrike))</th>\n",
              "      <th>PERCENTILE(MIN(Results.DrawNo))</th>\n",
              "      <th>PERCENTILE(STD(Results.LuckyNo))</th>\n",
              "      <th>PERCENTILE(SKEW(Results.LuckyNo))</th>\n",
              "      <th>PERCENTILE(TREND(Results.TotalStrike, DrawDate))</th>\n",
              "      <th>PERCENTILE(SKEW(Results.DrawNo))</th>\n",
              "      <th>PERCENTILE(LAST(Results.DrawNo))</th>\n",
              "      <th>PERCENTILE(SKEW(Results.TotalStrike))</th>\n",
              "      <th>PERCENTILE(MEAN(Results.LuckyNo))</th>\n",
              "      <th>PERCENTILE(MAX(Results.TotalStrike))</th>\n",
              "      <th>PERCENTILE(STD(Results.DrawNo))</th>\n",
              "      <th>PERCENTILE(MIN(Results.LuckyNo))</th>\n",
              "      <th>PERCENTILE(AVG_TIME_BETWEEN(Results.DrawDate))</th>\n",
              "      <th>PERCENTILE(MAX(Results.DrawNo))</th>\n",
              "      <th>PERCENTILE(TREND(Results.LuckyNo, DrawDate))</th>\n",
              "      <th>PERCENTILE(LAST(Results.TotalStrike))</th>\n",
              "      <th>PERCENTILE(LAST(Results.LuckyNo))</th>\n",
              "      <th>PERCENTILE(NUM_UNIQUE(Results.PrizeType))</th>\n",
              "      <th>PERCENTILE(MEAN(Results.DrawNo))</th>\n",
              "      <th>TotalStrike</th>\n",
              "      <th>Label</th>\n",
              "      <th>MODE(Results.PrizeType)_Prize</th>\n",
              "      <th>LAST(Results.PrizeType)_Prize</th>\n",
              "    </tr>\n",
              "  </thead>\n",
              "  <tbody>\n",
              "  </tbody>\n",
              "</table>\n",
              "<p>0 rows × 210 columns</p>\n",
              "</div>"
            ],
            "text/plain": [
              "Empty DataFrame\n",
              "Columns: [time, STD(Results.LuckyNo), STD(Results.TotalStrike), STD(Results.DrawNo), MAX(Results.LuckyNo), MAX(Results.TotalStrike), MAX(Results.DrawNo), MIN(Results.LuckyNo), MIN(Results.TotalStrike), MIN(Results.DrawNo), MEAN(Results.LuckyNo), MEAN(Results.TotalStrike), MEAN(Results.DrawNo), SKEW(Results.LuckyNo), SKEW(Results.TotalStrike), SKEW(Results.DrawNo), LAST(Results.LuckyNo), LAST(Results.TotalStrike), LAST(Results.results_index), LAST(Results.DrawNo), AVG_TIME_BETWEEN(Results.DrawDate), COUNT(Results), SUM(Results.LuckyNo), SUM(Results.TotalStrike), SUM(Results.DrawNo), TREND(Results.TotalStrike, DrawDate), TREND(Results.LuckyNo, DrawDate), TREND(Results.DrawNo, DrawDate), NUM_UNIQUE(Results.PrizeType), DAY(first_Results_time), MONTH(first_Results_time), HOUR(first_Results_time), TIME_SINCE(first_Results_time), STD(Results.CUM_MEAN(DrawNo)), STD(Results.TIME_SINCE(DrawDate)), STD(Results.PERCENTILE(DrawNo)), STD(Results.CUM_SUM(LuckyNo)), STD(Results.CUM_SUM(TotalStrike)), STD(Results.CUM_MEAN(TotalStrike)), STD(Results.PERCENTILE(LuckyNo)), STD(Results.PERCENTILE(TotalStrike)), STD(Results.CUM_SUM(DrawNo)), STD(Results.CUM_MEAN(LuckyNo)), MAX(Results.CUM_MEAN(DrawNo)), MAX(Results.TIME_SINCE(DrawDate)), MAX(Results.PERCENTILE(DrawNo)), MAX(Results.CUM_SUM(LuckyNo)), MAX(Results.CUM_SUM(TotalStrike)), MAX(Results.CUM_MEAN(TotalStrike)), MAX(Results.PERCENTILE(LuckyNo)), MAX(Results.PERCENTILE(TotalStrike)), MAX(Results.CUM_SUM(DrawNo)), MAX(Results.CUM_MEAN(LuckyNo)), MIN(Results.CUM_MEAN(DrawNo)), MIN(Results.TIME_SINCE(DrawDate)), MIN(Results.PERCENTILE(DrawNo)), MIN(Results.CUM_SUM(LuckyNo)), MIN(Results.CUM_SUM(TotalStrike)), MIN(Results.CUM_MEAN(TotalStrike)), MIN(Results.PERCENTILE(LuckyNo)), MIN(Results.PERCENTILE(TotalStrike)), MIN(Results.CUM_SUM(DrawNo)), MIN(Results.CUM_MEAN(LuckyNo)), MODE(Results.DAY(DrawDate)), MODE(Results.HOUR(DrawDate)), MODE(Results.MONTH(DrawDate)), MEAN(Results.CUM_MEAN(DrawNo)), MEAN(Results.TIME_SINCE(DrawDate)), MEAN(Results.PERCENTILE(DrawNo)), MEAN(Results.CUM_SUM(LuckyNo)), MEAN(Results.CUM_SUM(TotalStrike)), MEAN(Results.CUM_MEAN(TotalStrike)), MEAN(Results.PERCENTILE(LuckyNo)), MEAN(Results.PERCENTILE(TotalStrike)), MEAN(Results.CUM_SUM(DrawNo)), MEAN(Results.CUM_MEAN(LuckyNo)), SKEW(Results.CUM_MEAN(DrawNo)), SKEW(Results.TIME_SINCE(DrawDate)), SKEW(Results.PERCENTILE(DrawNo)), SKEW(Results.CUM_SUM(LuckyNo)), SKEW(Results.CUM_SUM(TotalStrike)), SKEW(Results.CUM_MEAN(TotalStrike)), SKEW(Results.PERCENTILE(LuckyNo)), SKEW(Results.PERCENTILE(TotalStrike)), SKEW(Results.CUM_SUM(DrawNo)), SKEW(Results.CUM_MEAN(LuckyNo)), LAST(Results.CUM_MEAN(DrawNo)), LAST(Results.TIME_SINCE(DrawDate)), LAST(Results.PERCENTILE(DrawNo)), LAST(Results.DAY(DrawDate)), LAST(Results.HOUR(DrawDate)), LAST(Results.CUM_SUM(LuckyNo)), LAST(Results.CUM_SUM(TotalStrike)), LAST(Results.CUM_MEAN(TotalStrike)), LAST(Results.PERCENTILE(LuckyNo)), LAST(Results.PERCENTILE(TotalStrike)), LAST(Results.CUM_SUM(DrawNo)), LAST(Results.CUM_MEAN(LuckyNo)), LAST(Results.MONTH(DrawDate)), SUM(Results.CUM_MEAN(DrawNo)), ...]\n",
              "Index: []\n",
              "\n",
              "[0 rows x 210 columns]"
            ]
          },
          "metadata": {
            "tags": []
          },
          "execution_count": 29
        }
      ]
    },
    {
      "cell_type": "markdown",
      "metadata": {
        "colab_type": "text",
        "id": "zF_zCRksL1Ls"
      },
      "source": [
        "### Feature Selection"
      ]
    },
    {
      "cell_type": "code",
      "metadata": {
        "id": "_uA8YPbHlleB",
        "colab_type": "code",
        "colab": {}
      },
      "source": [
        "# Feature scaling first??\n"
      ],
      "execution_count": 0,
      "outputs": []
    },
    {
      "cell_type": "code",
      "metadata": {
        "colab_type": "code",
        "id": "5A8LZ805MqjP",
        "colab": {
          "base_uri": "https://localhost:8080/",
          "height": 272
        },
        "outputId": "f038938b-59a8-4233-e26f-1b5dab71b555"
      },
      "source": [
        "print(feature_matrix.shape)\n",
        "feature_matrix.columns"
      ],
      "execution_count": 41,
      "outputs": [
        {
          "output_type": "stream",
          "text": [
            "(959893, 210)\n"
          ],
          "name": "stdout"
        },
        {
          "output_type": "execute_result",
          "data": {
            "text/plain": [
              "Index(['time', 'STD(Results.LuckyNo)', 'STD(Results.TotalStrike)',\n",
              "       'STD(Results.DrawNo)', 'MAX(Results.LuckyNo)',\n",
              "       'MAX(Results.TotalStrike)', 'MAX(Results.DrawNo)',\n",
              "       'MIN(Results.LuckyNo)', 'MIN(Results.TotalStrike)',\n",
              "       'MIN(Results.DrawNo)',\n",
              "       ...\n",
              "       'PERCENTILE(MAX(Results.DrawNo))',\n",
              "       'PERCENTILE(TREND(Results.LuckyNo, DrawDate))',\n",
              "       'PERCENTILE(LAST(Results.TotalStrike))',\n",
              "       'PERCENTILE(LAST(Results.LuckyNo))',\n",
              "       'PERCENTILE(NUM_UNIQUE(Results.PrizeType))',\n",
              "       'PERCENTILE(MEAN(Results.DrawNo))', 'TotalStrike', 'Label',\n",
              "       'MODE(Results.PrizeType)_Prize', 'LAST(Results.PrizeType)_Prize'],\n",
              "      dtype='object', length=210)"
            ]
          },
          "metadata": {
            "tags": []
          },
          "execution_count": 41
        }
      ]
    },
    {
      "cell_type": "code",
      "metadata": {
        "id": "394rpW75lkbP",
        "colab_type": "code",
        "colab": {}
      },
      "source": [
        ""
      ],
      "execution_count": 0,
      "outputs": []
    },
    {
      "cell_type": "code",
      "metadata": {
        "id": "rPFOkiGjhuKj",
        "colab_type": "code",
        "colab": {
          "base_uri": "https://localhost:8080/",
          "height": 119
        },
        "outputId": "42b64789-7f7b-4c42-b3e0-8ae07ee38aab"
      },
      "source": [
        "feature_matrix_selection = feature_selection(feature_matrix.drop(columns = ['time', 'TotalStrike', 'Label']))"
      ],
      "execution_count": 42,
      "outputs": [
        {
          "output_type": "stream",
          "text": [
            "Original shape:  (959893, 207)\n",
            "0 missing columns with threshold: 90.\n",
            "46 zero variance columns.\n",
            "108 collinear columns removed with threshold: 0.95.\n",
            "Total columns removed:  154\n",
            "Shape after feature selection: (959893, 53).\n"
          ],
          "name": "stdout"
        }
      ]
    },
    {
      "cell_type": "code",
      "metadata": {
        "id": "vT2K0WeJhugH",
        "colab_type": "code",
        "colab": {
          "base_uri": "https://localhost:8080/",
          "height": 612
        },
        "outputId": "5f711f18-2a3e-416f-b211-c1f679edf285"
      },
      "source": [
        "feature_matrix_selection.shape, feature_matrix_selection.columns"
      ],
      "execution_count": 43,
      "outputs": [
        {
          "output_type": "execute_result",
          "data": {
            "text/plain": [
              "((959893, 53),\n",
              " Index(['STD(Results.DrawNo)', 'MAX(Results.LuckyNo)', 'MAX(Results.DrawNo)',\n",
              "        'MIN(Results.DrawNo)', 'MEAN(Results.DrawNo)', 'SKEW(Results.DrawNo)',\n",
              "        'AVG_TIME_BETWEEN(Results.DrawDate)', 'COUNT(Results)',\n",
              "        'SUM(Results.LuckyNo)', 'SUM(Results.DrawNo)',\n",
              "        'TREND(Results.DrawNo, DrawDate)', 'DAY(first_Results_time)',\n",
              "        'MONTH(first_Results_time)', 'TIME_SINCE(first_Results_time)',\n",
              "        'STD(Results.PERCENTILE(DrawNo))', 'STD(Results.CUM_SUM(DrawNo))',\n",
              "        'STD(Results.CUM_MEAN(LuckyNo))', 'MAX(Results.PERCENTILE(DrawNo))',\n",
              "        'MAX(Results.PERCENTILE(TotalStrike))',\n",
              "        'MAX(Results.CUM_MEAN(LuckyNo))', 'MIN(Results.CUM_MEAN(LuckyNo))',\n",
              "        'MODE(Results.DAY(DrawDate))', 'MODE(Results.MONTH(DrawDate))',\n",
              "        'MEAN(Results.TIME_SINCE(DrawDate))',\n",
              "        'MEAN(Results.PERCENTILE(DrawNo))', 'MEAN(Results.CUM_MEAN(LuckyNo))',\n",
              "        'SKEW(Results.CUM_SUM(DrawNo))', 'SKEW(Results.CUM_MEAN(LuckyNo))',\n",
              "        'LAST(Results.DAY(DrawDate))', 'LAST(Results.CUM_MEAN(LuckyNo))',\n",
              "        'LAST(Results.MONTH(DrawDate))', 'SUM(Results.TIME_SINCE(DrawDate))',\n",
              "        'TREND(Results.PERCENTILE(DrawNo), DrawDate)',\n",
              "        'TREND(Results.PERCENTILE(LuckyNo), DrawDate)',\n",
              "        'TREND(Results.PERCENTILE(TotalStrike), DrawDate)',\n",
              "        'TREND(Results.CUM_MEAN(LuckyNo), DrawDate)',\n",
              "        'TREND(Results.CUM_SUM(DrawNo), DrawDate)',\n",
              "        'NUM_UNIQUE(Results.DAY(DrawDate))',\n",
              "        'NUM_UNIQUE(Results.MONTH(DrawDate))',\n",
              "        'CUM_SUM(MIN(Results.TotalStrike))', 'CUM_SUM(SKEW(Results.DrawNo))',\n",
              "        'CUM_MEAN(SUM(Results.LuckyNo))', 'CUM_MEAN(SKEW(Results.DrawNo))',\n",
              "        'CUM_MEAN(AVG_TIME_BETWEEN(Results.DrawDate))',\n",
              "        'PERCENTILE(MIN(Results.TotalStrike))',\n",
              "        'PERCENTILE(STD(Results.TotalStrike))',\n",
              "        'PERCENTILE(TREND(Results.DrawNo, DrawDate))',\n",
              "        'PERCENTILE(SUM(Results.DrawNo))', 'PERCENTILE(COUNT(Results))',\n",
              "        'PERCENTILE(SKEW(Results.DrawNo))', 'PERCENTILE(LAST(Results.DrawNo))',\n",
              "        'PERCENTILE(STD(Results.DrawNo))',\n",
              "        'PERCENTILE(AVG_TIME_BETWEEN(Results.DrawDate))'],\n",
              "       dtype='object'))"
            ]
          },
          "metadata": {
            "tags": []
          },
          "execution_count": 43
        }
      ]
    },
    {
      "cell_type": "code",
      "metadata": {
        "id": "yZUhYrWFiRod",
        "colab_type": "code",
        "colab": {}
      },
      "source": [
        "feature_matrix_selection['time'] = feature_matrix['time']\n",
        "feature_matrix_selection['TotalStrike'] = feature_matrix['TotalStrike']\n",
        "feature_matrix_selection['Label'] = feature_matrix['Label']"
      ],
      "execution_count": 0,
      "outputs": []
    },
    {
      "cell_type": "markdown",
      "metadata": {
        "id": "hugygOqSiR6K",
        "colab_type": "text"
      },
      "source": [
        "### Feature Correlation"
      ]
    },
    {
      "cell_type": "code",
      "metadata": {
        "id": "JwecxRqfjtaH",
        "colab_type": "code",
        "colab": {
          "base_uri": "https://localhost:8080/",
          "height": 221
        },
        "outputId": "f76cea62-c233-4c9c-dd4f-dfaf3dc0e764"
      },
      "source": [
        "# Check without feature selection\n",
        "corrs = feature_matrix.corr().sort_values('Label')\n",
        "corrs['Label'].tail(100)"
      ],
      "execution_count": 47,
      "outputs": [
        {
          "output_type": "execute_result",
          "data": {
            "text/plain": [
              "TREND(Results.TIME_SINCE(DrawDate), DrawDate)    0.000523\n",
              "PERCENTILE(SUM(Results.DrawNo))                  0.000610\n",
              "CUM_SUM(SUM(Results.DrawNo))                     0.000678\n",
              "TREND(Results.PERCENTILE(LuckyNo), DrawDate)     0.000687\n",
              "MONTH(first_Results_time)                        0.000858\n",
              "                                                   ...   \n",
              "CUM_MEAN(LAST(Results.TotalStrike))                   NaN\n",
              "CUM_MEAN(NUM_UNIQUE(Results.PrizeType))               NaN\n",
              "HOUR(LAST(Results.DrawDate))                          NaN\n",
              "MODE(Results.PrizeType)_Prize                         NaN\n",
              "LAST(Results.PrizeType)_Prize                         NaN\n",
              "Name: Label, Length: 100, dtype: float64"
            ]
          },
          "metadata": {
            "tags": []
          },
          "execution_count": 47
        }
      ]
    },
    {
      "cell_type": "code",
      "metadata": {
        "id": "u7Ha8Zlkhuoe",
        "colab_type": "code",
        "colab": {
          "base_uri": "https://localhost:8080/",
          "height": 374
        },
        "outputId": "f4eef915-68dc-4674-c976-a67aa897fdab"
      },
      "source": [
        "# Check with feature selection\n",
        "corrs = feature_matrix_selection.corr().sort_values('Label')\n",
        "corrs['Label'].tail(20)"
      ],
      "execution_count": 48,
      "outputs": [
        {
          "output_type": "execute_result",
          "data": {
            "text/plain": [
              "TREND(Results.PERCENTILE(TotalStrike), DrawDate)   -0.000156\n",
              "PERCENTILE(COUNT(Results))                         -0.000139\n",
              "PERCENTILE(LAST(Results.DrawNo))                   -0.000094\n",
              "MODE(Results.DAY(DrawDate))                         0.000471\n",
              "PERCENTILE(SUM(Results.DrawNo))                     0.000610\n",
              "TREND(Results.PERCENTILE(LuckyNo), DrawDate)        0.000687\n",
              "MONTH(first_Results_time)                           0.000858\n",
              "PERCENTILE(TREND(Results.DrawNo, DrawDate))         0.000912\n",
              "LAST(Results.CUM_MEAN(LuckyNo))                     0.000988\n",
              "MAX(Results.CUM_MEAN(LuckyNo))                      0.001007\n",
              "MEAN(Results.PERCENTILE(DrawNo))                    0.001149\n",
              "TREND(Results.CUM_MEAN(LuckyNo), DrawDate)          0.001493\n",
              "TREND(Results.PERCENTILE(DrawNo), DrawDate)         0.001528\n",
              "PERCENTILE(MIN(Results.TotalStrike))                0.001564\n",
              "CUM_SUM(MIN(Results.TotalStrike))                   0.001572\n",
              "MIN(Results.DrawNo)                                 0.001718\n",
              "MAX(Results.PERCENTILE(TotalStrike))                0.002320\n",
              "STD(Results.CUM_MEAN(LuckyNo))                      0.002331\n",
              "TotalStrike                                         0.991808\n",
              "Label                                               1.000000\n",
              "Name: Label, dtype: float64"
            ]
          },
          "metadata": {
            "tags": []
          },
          "execution_count": 48
        }
      ]
    },
    {
      "cell_type": "markdown",
      "metadata": {
        "colab_type": "text",
        "id": "b5MHgSCaQCh1"
      },
      "source": [
        "### Balancing data"
      ]
    },
    {
      "cell_type": "code",
      "metadata": {
        "id": "Zt-hS271mO0E",
        "colab_type": "code",
        "colab": {}
      },
      "source": [
        "from imblearn.combine import SMOTETomek\n",
        "from imblearn.over_sampling import SMOTE\n",
        "from imblearn.under_sampling import TomekLinks\n",
        "\n",
        "balancer = TomekLinks(random_state=42)"
      ],
      "execution_count": 0,
      "outputs": []
    },
    {
      "cell_type": "code",
      "metadata": {
        "colab_type": "code",
        "id": "SioiAPHyRDjd",
        "outputId": "d14f2151-e25b-4d4e-b6d1-3ca279d73c66",
        "colab": {
          "base_uri": "https://localhost:8080/",
          "height": 34
        }
      },
      "source": [
        "X = feature_matrix_selection.drop(columns = ['time', 'Label', 'TotalStrike'])\n",
        "X.shape"
      ],
      "execution_count": 56,
      "outputs": [
        {
          "output_type": "execute_result",
          "data": {
            "text/plain": [
              "(959893, 53)"
            ]
          },
          "metadata": {
            "tags": []
          },
          "execution_count": 56
        }
      ]
    },
    {
      "cell_type": "code",
      "metadata": {
        "colab_type": "code",
        "id": "xDt3W67jRDYm",
        "outputId": "c3c0e87e-235b-4a18-8df2-16ac300285d8",
        "colab": {
          "base_uri": "https://localhost:8080/",
          "height": 34
        }
      },
      "source": [
        "y = feature_matrix_selection['Label']\n",
        "y.shape"
      ],
      "execution_count": 55,
      "outputs": [
        {
          "output_type": "execute_result",
          "data": {
            "text/plain": [
              "(959893,)"
            ]
          },
          "metadata": {
            "tags": []
          },
          "execution_count": 55
        }
      ]
    },
    {
      "cell_type": "code",
      "metadata": {
        "id": "wKERqygLm4nt",
        "colab_type": "code",
        "colab": {
          "base_uri": "https://localhost:8080/",
          "height": 34
        },
        "outputId": "30bf4a8c-5efc-48bf-dee7-bacca45337aa"
      },
      "source": [
        "X_bal, y_bal = balancer.fit_sample(X,y)\n",
        "X_bal.shape, y_bal.shape"
      ],
      "execution_count": 58,
      "outputs": [
        {
          "output_type": "execute_result",
          "data": {
            "text/plain": [
              "((941054, 53), (941054,))"
            ]
          },
          "metadata": {
            "tags": []
          },
          "execution_count": 58
        }
      ]
    },
    {
      "cell_type": "code",
      "metadata": {
        "id": "h-QrZPLLnxH4",
        "colab_type": "code",
        "colab": {}
      },
      "source": [
        "len(np.where(y_bal==0))"
      ],
      "execution_count": 0,
      "outputs": []
    },
    {
      "cell_type": "code",
      "metadata": {
        "id": "AevN9Ky5m5AX",
        "colab_type": "code",
        "colab": {
          "base_uri": "https://localhost:8080/",
          "height": 460
        },
        "outputId": "b7cdae35-6194-4f06-c548-197d8e20607b"
      },
      "source": [
        ""
      ],
      "execution_count": 59,
      "outputs": [
        {
          "output_type": "error",
          "ename": "KeyError",
          "evalue": "ignored",
          "traceback": [
            "\u001b[0;31m---------------------------------------------------------------------------\u001b[0m",
            "\u001b[0;31mKeyError\u001b[0m                                  Traceback (most recent call last)",
            "\u001b[0;32m<ipython-input-59-68f1db1806b3>\u001b[0m in \u001b[0;36m<module>\u001b[0;34m()\u001b[0m\n\u001b[0;32m----> 1\u001b[0;31m \u001b[0mprint\u001b[0m\u001b[0;34m(\u001b[0m\u001b[0;34m'Positive: '\u001b[0m \u001b[0;34m+\u001b[0m \u001b[0mstr\u001b[0m\u001b[0;34m(\u001b[0m\u001b[0my\u001b[0m\u001b[0;34m[\u001b[0m\u001b[0;34m'Label'\u001b[0m\u001b[0;34m]\u001b[0m\u001b[0;34m.\u001b[0m\u001b[0mvalue_counts\u001b[0m\u001b[0;34m(\u001b[0m\u001b[0;34m)\u001b[0m\u001b[0;34m[\u001b[0m\u001b[0;36m0\u001b[0m\u001b[0;34m]\u001b[0m\u001b[0;34m)\u001b[0m \u001b[0;34m+\u001b[0m \u001b[0;34m' which is '\u001b[0m\u001b[0;34m,\u001b[0m \u001b[0mround\u001b[0m\u001b[0;34m(\u001b[0m\u001b[0my\u001b[0m\u001b[0;34m[\u001b[0m\u001b[0;34m'Label'\u001b[0m\u001b[0;34m]\u001b[0m\u001b[0;34m.\u001b[0m\u001b[0mvalue_counts\u001b[0m\u001b[0;34m(\u001b[0m\u001b[0;34m)\u001b[0m\u001b[0;34m[\u001b[0m\u001b[0;36m0\u001b[0m\u001b[0;34m]\u001b[0m\u001b[0;34m/\u001b[0m\u001b[0mlen\u001b[0m\u001b[0;34m(\u001b[0m\u001b[0my\u001b[0m\u001b[0;34m)\u001b[0m \u001b[0;34m*\u001b[0m \u001b[0;36m100\u001b[0m\u001b[0;34m,\u001b[0m\u001b[0;36m2\u001b[0m\u001b[0;34m)\u001b[0m\u001b[0;34m,\u001b[0m \u001b[0;34m'% of the dataset'\u001b[0m\u001b[0;34m)\u001b[0m\u001b[0;34m\u001b[0m\u001b[0;34m\u001b[0m\u001b[0m\n\u001b[0m\u001b[1;32m      2\u001b[0m \u001b[0mprint\u001b[0m\u001b[0;34m(\u001b[0m\u001b[0;34m'Negative: '\u001b[0m \u001b[0;34m+\u001b[0m \u001b[0mstr\u001b[0m\u001b[0;34m(\u001b[0m\u001b[0my\u001b[0m\u001b[0;34m[\u001b[0m\u001b[0;34m'Label'\u001b[0m\u001b[0;34m]\u001b[0m\u001b[0;34m.\u001b[0m\u001b[0mvalue_counts\u001b[0m\u001b[0;34m(\u001b[0m\u001b[0;34m)\u001b[0m\u001b[0;34m[\u001b[0m\u001b[0;36m1\u001b[0m\u001b[0;34m]\u001b[0m\u001b[0;34m)\u001b[0m \u001b[0;34m+\u001b[0m \u001b[0;34m' which is '\u001b[0m\u001b[0;34m,\u001b[0m \u001b[0mround\u001b[0m\u001b[0;34m(\u001b[0m\u001b[0my\u001b[0m\u001b[0;34m[\u001b[0m\u001b[0;34m'Label'\u001b[0m\u001b[0;34m]\u001b[0m\u001b[0;34m.\u001b[0m\u001b[0mvalue_counts\u001b[0m\u001b[0;34m(\u001b[0m\u001b[0;34m)\u001b[0m\u001b[0;34m[\u001b[0m\u001b[0;36m1\u001b[0m\u001b[0;34m]\u001b[0m\u001b[0;34m/\u001b[0m\u001b[0mlen\u001b[0m\u001b[0;34m(\u001b[0m\u001b[0my\u001b[0m\u001b[0;34m)\u001b[0m \u001b[0;34m*\u001b[0m \u001b[0;36m100\u001b[0m\u001b[0;34m,\u001b[0m\u001b[0;36m2\u001b[0m\u001b[0;34m)\u001b[0m\u001b[0;34m,\u001b[0m \u001b[0;34m'% of the dataset'\u001b[0m\u001b[0;34m)\u001b[0m\u001b[0;34m\u001b[0m\u001b[0;34m\u001b[0m\u001b[0m\n",
            "\u001b[0;32m/usr/local/lib/python3.6/dist-packages/pandas/core/series.py\u001b[0m in \u001b[0;36m__getitem__\u001b[0;34m(self, key)\u001b[0m\n\u001b[1;32m   1069\u001b[0m         \u001b[0mkey\u001b[0m \u001b[0;34m=\u001b[0m \u001b[0mcom\u001b[0m\u001b[0;34m.\u001b[0m\u001b[0mapply_if_callable\u001b[0m\u001b[0;34m(\u001b[0m\u001b[0mkey\u001b[0m\u001b[0;34m,\u001b[0m \u001b[0mself\u001b[0m\u001b[0;34m)\u001b[0m\u001b[0;34m\u001b[0m\u001b[0;34m\u001b[0m\u001b[0m\n\u001b[1;32m   1070\u001b[0m         \u001b[0;32mtry\u001b[0m\u001b[0;34m:\u001b[0m\u001b[0;34m\u001b[0m\u001b[0;34m\u001b[0m\u001b[0m\n\u001b[0;32m-> 1071\u001b[0;31m             \u001b[0mresult\u001b[0m \u001b[0;34m=\u001b[0m \u001b[0mself\u001b[0m\u001b[0;34m.\u001b[0m\u001b[0mindex\u001b[0m\u001b[0;34m.\u001b[0m\u001b[0mget_value\u001b[0m\u001b[0;34m(\u001b[0m\u001b[0mself\u001b[0m\u001b[0;34m,\u001b[0m \u001b[0mkey\u001b[0m\u001b[0;34m)\u001b[0m\u001b[0;34m\u001b[0m\u001b[0;34m\u001b[0m\u001b[0m\n\u001b[0m\u001b[1;32m   1072\u001b[0m \u001b[0;34m\u001b[0m\u001b[0m\n\u001b[1;32m   1073\u001b[0m             \u001b[0;32mif\u001b[0m \u001b[0;32mnot\u001b[0m \u001b[0mis_scalar\u001b[0m\u001b[0;34m(\u001b[0m\u001b[0mresult\u001b[0m\u001b[0;34m)\u001b[0m\u001b[0;34m:\u001b[0m\u001b[0;34m\u001b[0m\u001b[0;34m\u001b[0m\u001b[0m\n",
            "\u001b[0;32m/usr/local/lib/python3.6/dist-packages/pandas/core/indexes/base.py\u001b[0m in \u001b[0;36mget_value\u001b[0;34m(self, series, key)\u001b[0m\n\u001b[1;32m   4728\u001b[0m         \u001b[0mk\u001b[0m \u001b[0;34m=\u001b[0m \u001b[0mself\u001b[0m\u001b[0;34m.\u001b[0m\u001b[0m_convert_scalar_indexer\u001b[0m\u001b[0;34m(\u001b[0m\u001b[0mk\u001b[0m\u001b[0;34m,\u001b[0m \u001b[0mkind\u001b[0m\u001b[0;34m=\u001b[0m\u001b[0;34m\"getitem\"\u001b[0m\u001b[0;34m)\u001b[0m\u001b[0;34m\u001b[0m\u001b[0;34m\u001b[0m\u001b[0m\n\u001b[1;32m   4729\u001b[0m         \u001b[0;32mtry\u001b[0m\u001b[0;34m:\u001b[0m\u001b[0;34m\u001b[0m\u001b[0;34m\u001b[0m\u001b[0m\n\u001b[0;32m-> 4730\u001b[0;31m             \u001b[0;32mreturn\u001b[0m \u001b[0mself\u001b[0m\u001b[0;34m.\u001b[0m\u001b[0m_engine\u001b[0m\u001b[0;34m.\u001b[0m\u001b[0mget_value\u001b[0m\u001b[0;34m(\u001b[0m\u001b[0ms\u001b[0m\u001b[0;34m,\u001b[0m \u001b[0mk\u001b[0m\u001b[0;34m,\u001b[0m \u001b[0mtz\u001b[0m\u001b[0;34m=\u001b[0m\u001b[0mgetattr\u001b[0m\u001b[0;34m(\u001b[0m\u001b[0mseries\u001b[0m\u001b[0;34m.\u001b[0m\u001b[0mdtype\u001b[0m\u001b[0;34m,\u001b[0m \u001b[0;34m\"tz\"\u001b[0m\u001b[0;34m,\u001b[0m \u001b[0;32mNone\u001b[0m\u001b[0;34m)\u001b[0m\u001b[0;34m)\u001b[0m\u001b[0;34m\u001b[0m\u001b[0;34m\u001b[0m\u001b[0m\n\u001b[0m\u001b[1;32m   4731\u001b[0m         \u001b[0;32mexcept\u001b[0m \u001b[0mKeyError\u001b[0m \u001b[0;32mas\u001b[0m \u001b[0me1\u001b[0m\u001b[0;34m:\u001b[0m\u001b[0;34m\u001b[0m\u001b[0;34m\u001b[0m\u001b[0m\n\u001b[1;32m   4732\u001b[0m             \u001b[0;32mif\u001b[0m \u001b[0mlen\u001b[0m\u001b[0;34m(\u001b[0m\u001b[0mself\u001b[0m\u001b[0;34m)\u001b[0m \u001b[0;34m>\u001b[0m \u001b[0;36m0\u001b[0m \u001b[0;32mand\u001b[0m \u001b[0;34m(\u001b[0m\u001b[0mself\u001b[0m\u001b[0;34m.\u001b[0m\u001b[0mholds_integer\u001b[0m\u001b[0;34m(\u001b[0m\u001b[0;34m)\u001b[0m \u001b[0;32mor\u001b[0m \u001b[0mself\u001b[0m\u001b[0;34m.\u001b[0m\u001b[0mis_boolean\u001b[0m\u001b[0;34m(\u001b[0m\u001b[0;34m)\u001b[0m\u001b[0;34m)\u001b[0m\u001b[0;34m:\u001b[0m\u001b[0;34m\u001b[0m\u001b[0;34m\u001b[0m\u001b[0m\n",
            "\u001b[0;32mpandas/_libs/index.pyx\u001b[0m in \u001b[0;36mpandas._libs.index.IndexEngine.get_value\u001b[0;34m()\u001b[0m\n",
            "\u001b[0;32mpandas/_libs/index.pyx\u001b[0m in \u001b[0;36mpandas._libs.index.IndexEngine.get_value\u001b[0;34m()\u001b[0m\n",
            "\u001b[0;32mpandas/_libs/index.pyx\u001b[0m in \u001b[0;36mpandas._libs.index.IndexEngine.get_loc\u001b[0;34m()\u001b[0m\n",
            "\u001b[0;32mpandas/_libs/index_class_helper.pxi\u001b[0m in \u001b[0;36mpandas._libs.index.Int64Engine._check_type\u001b[0;34m()\u001b[0m\n",
            "\u001b[0;31mKeyError\u001b[0m: 'Label'"
          ]
        }
      ]
    },
    {
      "cell_type": "markdown",
      "metadata": {
        "colab_type": "text",
        "id": "zaYd7xoxj0Zz"
      },
      "source": [
        "#### StandardScaler"
      ]
    },
    {
      "cell_type": "code",
      "metadata": {
        "colab_type": "code",
        "id": "7a7pV5y5mPZT",
        "outputId": "d0c4b31d-6342-41bc-ead4-a3409c4d5dfd",
        "colab": {
          "base_uri": "https://localhost:8080/",
          "height": 302
        }
      },
      "source": [
        "# Use PCA to find the 1st 2 principal components\n",
        "X_normalized = StandardScaler().fit(X).transform(X)  \n",
        "pca = PCA(n_components = 2).fit(X_normalized)\n",
        "X_pca = pca.transform(X_normalized)\n",
        "plt.figure(figsize=(8, 8))\n",
        "plot_labelled_scatter(X_pca, y, ['0', '1'])"
      ],
      "execution_count": 0,
      "outputs": [
        {
          "output_type": "display_data",
          "data": {
            "text/plain": [
              "<Figure size 576x576 with 0 Axes>"
            ]
          },
          "metadata": {
            "tags": []
          }
        },
        {
          "output_type": "display_data",
          "data": {
            "image/png": "[encoded data removed]",
            "text/plain": [
              "<Figure size 432x288 with 1 Axes>"
            ]
          },
          "metadata": {
            "tags": []
          }
        }
      ]
    },
    {
      "cell_type": "markdown",
      "metadata": {
        "colab_type": "text",
        "id": "p_Yk-Z15mPlJ"
      },
      "source": [
        "Use **StandardScaler** seems to be better!"
      ]
    },
    {
      "cell_type": "code",
      "metadata": {
        "colab_type": "code",
        "id": "oLIaG6jWx-qQ",
        "outputId": "69e9eb34-5d02-4456-ee47-2bca51db0c22",
        "colab": {
          "base_uri": "https://localhost:8080/",
          "height": 34
        }
      },
      "source": [
        "X.shape, X_normalized.shape"
      ],
      "execution_count": 0,
      "outputs": [
        {
          "output_type": "execute_result",
          "data": {
            "text/plain": [
              "((959893, 207), (959893, 207))"
            ]
          },
          "metadata": {
            "tags": []
          },
          "execution_count": 33
        }
      ]
    },
    {
      "cell_type": "markdown",
      "metadata": {
        "colab_type": "text",
        "id": "6115b4_AMxlG"
      },
      "source": [
        "## Balancing the data"
      ]
    },
    {
      "cell_type": "code",
      "metadata": {
        "colab_type": "code",
        "id": "QMH4AY-JmOry",
        "colab": {}
      },
      "source": [
        "X = feature_matrix.drop(columns = ['NumberId', 'time', 'Label', 'TotalStrike', 'month', 'year'])\n",
        "y = feature_matrix['Label']\n",
        "\n",
        "# Normalized X first?\n"
      ],
      "execution_count": 0,
      "outputs": []
    },
    {
      "cell_type": "code",
      "metadata": {
        "colab_type": "code",
        "id": "WkowqLLgjzup",
        "colab": {}
      },
      "source": [
        "\n",
        "\n",
        "# Oversampling followed by under-sampling\n",
        "# smt = SMOTETomek(ratio='auto')\n",
        "smt = SMOTE(ratio='auto')\n",
        "X_smt, y_smt = smt.fit_sample(X, y)"
      ],
      "execution_count": 0,
      "outputs": []
    },
    {
      "cell_type": "code",
      "metadata": {
        "colab_type": "code",
        "id": "Vcg_yKBWNCwG",
        "outputId": "9cdd9793-f9c1-4ec4-e8b2-31f7ac233292",
        "colab": {
          "base_uri": "https://localhost:8080/",
          "height": 301
        }
      },
      "source": [
        "# Use PCA to find the 1st 2 principal components again after resampling\n",
        "X_normalized = StandardScaler().fit(X_smt).transform(X_smt)  \n",
        "pca = PCA(n_components = 2).fit(X_normalized)\n",
        "X_pca = pca.transform(X_normalized)\n",
        "plt.figure(figsize=(8, 8))\n",
        "plot_labelled_scatter(X_pca, y_smt, ['0', '1'])"
      ],
      "execution_count": 0,
      "outputs": [
        {
          "output_type": "display_data",
          "data": {
            "text/plain": [
              "<Figure size 576x576 with 0 Axes>"
            ]
          },
          "metadata": {
            "tags": []
          }
        },
        {
          "output_type": "display_data",
          "data": {
            "image/png": "[encoded data removed]",
            "text/plain": [
              "<Figure size 432x288 with 1 Axes>"
            ]
          },
          "metadata": {
            "tags": []
          }
        }
      ]
    },
    {
      "cell_type": "code",
      "metadata": {
        "colab_type": "code",
        "id": "1e_8iRFddW83",
        "outputId": "9bf9a0b9-0f1b-4ef6-d8b7-f78ffbf8ca8c",
        "colab": {
          "base_uri": "https://localhost:8080/",
          "height": 34
        }
      },
      "source": [
        "type(X_smt), type(y_smt), X_smt.shape, y_smt.shape"
      ],
      "execution_count": 0,
      "outputs": [
        {
          "output_type": "execute_result",
          "data": {
            "text/plain": [
              "(numpy.ndarray, numpy.ndarray, (1855678, 207), (1855678,))"
            ]
          },
          "metadata": {
            "tags": []
          },
          "execution_count": 37
        }
      ]
    },
    {
      "cell_type": "code",
      "metadata": {
        "colab_type": "code",
        "id": "v3i9c4TEdWxb",
        "outputId": "d9beaae3-ceb5-437d-aab9-ac3688fb5bac",
        "colab": {
          "base_uri": "https://localhost:8080/",
          "height": 34
        }
      },
      "source": [
        "np.where(y==0)[0].shape, np.where(y==1)[0].shape"
      ],
      "execution_count": 0,
      "outputs": [
        {
          "output_type": "execute_result",
          "data": {
            "text/plain": [
              "((927839,), (32054,))"
            ]
          },
          "metadata": {
            "tags": []
          },
          "execution_count": 38
        }
      ]
    },
    {
      "cell_type": "code",
      "metadata": {
        "colab_type": "code",
        "id": "e2GpboQ0kp4j",
        "outputId": "ee6532b8-b273-460e-d1ad-ac74112d5bb5",
        "colab": {
          "base_uri": "https://localhost:8080/",
          "height": 34
        }
      },
      "source": [
        "np.where(y_smt==0)[0].shape, np.where(y_smt==1)[0].shape"
      ],
      "execution_count": 0,
      "outputs": [
        {
          "output_type": "execute_result",
          "data": {
            "text/plain": [
              "((927839,), (927839,))"
            ]
          },
          "metadata": {
            "tags": []
          },
          "execution_count": 39
        }
      ]
    },
    {
      "cell_type": "markdown",
      "metadata": {
        "colab_type": "text",
        "id": "0gp2n35Luh6o"
      },
      "source": [
        "## Feature Correlation"
      ]
    },
    {
      "cell_type": "code",
      "metadata": {
        "colab_type": "code",
        "id": "qwTrmIntuhts",
        "colab": {}
      },
      "source": [
        "smote = SMOTE(random_state=42)"
      ],
      "execution_count": 0,
      "outputs": []
    },
    {
      "cell_type": "code",
      "metadata": {
        "colab_type": "code",
        "id": "CO_2dTm3ulCe",
        "colab": {}
      },
      "source": [
        ""
      ],
      "execution_count": 0,
      "outputs": []
    },
    {
      "cell_type": "markdown",
      "metadata": {
        "colab_type": "text",
        "id": "waeD1ED_kqDB"
      },
      "source": [
        "## Modeling"
      ]
    },
    {
      "cell_type": "code",
      "metadata": {
        "colab_type": "code",
        "id": "wTC_lRildWCO",
        "colab": {}
      },
      "source": [
        "def predict(dt, feature_matrix, return_probs = False):\n",
        "    # Set max_delta_steps for unbalanced classes?\n",
        "    model = xgb.XGBClassifier(max_delta_steps=5)\n",
        "\n",
        "    feature_matrix['date'] = feature_matrix['time']\n",
        "\n",
        "    # Subset labels\n",
        "    test_labels = feature_matrix.loc[feature_matrix['date'] == dt, 'Label']\n",
        "    train_labels = feature_matrix.loc[feature_matrix['date'] < dt, 'Label']\n",
        "\n",
        "    print(f\"Size of test labels {len(test_labels)}\")\n",
        "    print(f\"Size of train labels {len(train_labels)}\")\n",
        "    \n",
        "    # Features\n",
        "    X_train = feature_matrix[feature_matrix['date'] < dt].drop(columns = ['NumberId', 'time',\n",
        "                                                                                     'date', 'Label', 'TotalStrike', 'month', 'year', 'index'], errors='ignore')\n",
        "    X_test = feature_matrix[feature_matrix['date'] == dt].drop(columns = ['NumberId', 'time',\n",
        "                                                                                     'date', 'Label', 'TotalStrike', 'month', 'year', 'index'], errors='ignore')\n",
        "    print(f\"Size of X train {len(X_train)}\")\n",
        "    print(f\"Size of X test  {len(X_test)}\")\n",
        "   \n",
        "    feature_names = list(X_train.columns)\n",
        "    \n",
        "    # Impute and scale features\n",
        "    pipeline = Pipeline([('imputer', SimpleImputer(strategy = 'constant', fill_value=0)), \n",
        "                      ('scaler', StandardScaler())])\n",
        "\n",
        "    # Fit and transform training data\n",
        "    X_train = pipeline.fit_transform(X_train)\n",
        "    X_test = pipeline.transform(X_test)\n",
        "\n",
        "    # Balance the training data only\n",
        "    # balancer = SMOTE(ratio='auto')\n",
        "    # X_balanced, y_balanced = balancer.fit_sample(X_train, train_labels)\n",
        "\n",
        "    # print(X_train.shape, train_labels.shape, X_balanced.shape, y_balanced.shape)\n",
        "    # X_train = X_balanced\n",
        "    # train_labels = y_balanced\n",
        "\n",
        "    \n",
        "    # Labels\n",
        "    y_train = np.array(train_labels).reshape((-1, ))\n",
        "    y_test = np.array(test_labels).reshape((-1, ))\n",
        "    \n",
        "    print('Training on {} observations.'.format(len(X_train)))\n",
        "    print('Testing on {} observations.\\n'.format(len(X_test)))\n",
        "    \n",
        "    # Train \n",
        "    model.fit(X_train, y_train)\n",
        "    \n",
        "    # Make predictions\n",
        "    predictions = model.predict(X_test)\n",
        "    probs = model.predict_proba(X_test)[:, 1]\n",
        "    \n",
        "    # Total positive\n",
        "    positive = np.where((predictions==1))\n",
        "    print('Total predicted to be positive: ', len(positive[0]))\n",
        "  \n",
        "    # Calculate metrics\n",
        "    p_score = precision_score(y_test, predictions)\n",
        "    r_score = recall_score(y_test, predictions)\n",
        "    f_score = f1_score(y_test, predictions)\n",
        "    auc_score = roc_auc_score(y_test, probs)\n",
        "    a_score = accuracy_score(y_test, predictions)\n",
        "    avg_p_score = average_precision_score(y_test, predictions)\n",
        "    cm = confusion_matrix(y_test, predictions)\n",
        "    \n",
        "    print(f'Precision: {round(p_score, 5)}')\n",
        "    print(f'Recall: {round(r_score, 5)}')\n",
        "    print(f'F1 Score: {round(f_score, 5)}')\n",
        "    print(f'ROC AUC: {round(auc_score, 5)}')\n",
        "    print(f'Accuracy: {round(a_score, 5)}')\n",
        "    print(f'Average precision: {round(avg_p_score, 5)}')\n",
        "    \n",
        "    print('Confusion matrix')\n",
        "    print(cm)\n",
        "\n",
        "    # Total predicted matches\n",
        "    print('Predicted matches')\n",
        "    # print(predictions)\n",
        "    m = np.where((predictions==1))\n",
        "    print(len(m[0]), m)\n",
        "\n",
        "    if len(positive[0]) > 0:\n",
        "      # Matching draws\n",
        "      print('Matched draws')\n",
        "      m = np.where((predictions==1) & (y_test==1))\n",
        "      print(len(m[0]), m)\n",
        "      month_data = feature_matrix.loc[feature_matrix['date'] == dt]\n",
        "      numbers = month_data.iloc[m[0]][['NumberId']]\n",
        "      #print(numbers)\n",
        "      display(origin_data[(origin_data['DrawDate'].dt.year == dt.year) & \n",
        "                          (origin_data['DrawDate'].dt.month == dt.month) & \n",
        "                          (origin_data['LuckyNo'].isin(numbers.NumberId))].head(len(positive[0])))                                                   \n",
        "    else:\n",
        "      print('No luck this month')                 \n",
        "\n",
        "    # Feature importances\n",
        "    fi = pd.DataFrame({'feature': feature_names, 'importance': model.feature_importances_})\n",
        "    \n",
        "    if return_probs:\n",
        "        return fi, probs\n",
        "    \n",
        "    return fi\n"
      ],
      "execution_count": 0,
      "outputs": []
    },
    {
      "cell_type": "code",
      "metadata": {
        "colab_type": "code",
        "id": "EFAFoPBEoWFi",
        "outputId": "fb35f5d2-e7d3-461a-e567-bb606f4c2798",
        "colab": {
          "base_uri": "https://localhost:8080/",
          "height": 391
        }
      },
      "source": [
        "%time june_2019 = predict(pd.datetime(2019,6,1), feature_matrix)"
      ],
      "execution_count": 0,
      "outputs": [
        {
          "output_type": "stream",
          "text": [
            "Size of test labels 10000\n",
            "Size of train labels 889893\n",
            "Size of X train 889893\n",
            "Size of X test  10000\n",
            "Training on 889893 observations.\n",
            "Testing on 10000 observations.\n",
            "\n",
            "Total predicted to be positive:  0\n",
            "Precision: 0.0\n",
            "Recall: 0.0\n",
            "F1 Score: 0.0\n",
            "ROC AUC: 0.50145\n",
            "Accuracy: 0.9664\n",
            "Average precision: 0.0336\n",
            "Confusion matrix\n",
            "[[9664    0]\n",
            " [ 336    0]]\n",
            "Predicted matches\n",
            "0 (array([], dtype=int64),)\n",
            "No luck this month\n",
            "CPU times: user 12min 27s, sys: 542 ms, total: 12min 28s\n",
            "Wall time: 12min 28s\n"
          ],
          "name": "stdout"
        }
      ]
    },
    {
      "cell_type": "code",
      "metadata": {
        "colab_type": "code",
        "id": "UQc9M9Jnovkt",
        "colab": {}
      },
      "source": [
        ""
      ],
      "execution_count": 0,
      "outputs": []
    }
  ]
}
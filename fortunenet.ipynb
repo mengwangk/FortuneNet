{
 "cells": [
  {
   "cell_type": "markdown",
   "metadata": {
    "colab_type": "text",
    "id": "view-in-github"
   },
   "source": [
    "<a href=\"https://colab.research.google.com/github/mengwangk/FortuneNet/blob/master/fortunenet.ipynb\" target=\"_parent\"><img src=\"https://colab.research.google.com/assets/colab-badge.svg\" alt=\"Open In Colab\"/></a>"
   ]
  },
  {
   "cell_type": "markdown",
   "metadata": {
    "colab_type": "text",
    "id": "b5243bUj8-K1"
   },
   "source": [
    "# FortuneNet"
   ]
  },
  {
   "cell_type": "markdown",
   "metadata": {
    "colab_type": "text",
    "id": "CQBDKNHCB7gO"
   },
   "source": [
    "## Magic"
   ]
  },
  {
   "cell_type": "code",
   "execution_count": 49,
   "metadata": {
    "colab": {},
    "colab_type": "code",
    "id": "-IIhuSvDcwZy"
   },
   "outputs": [],
   "source": [
    "%reload_ext autoreload\n",
    "%autoreload 2\n",
    "\n",
    "%matplotlib inline"
   ]
  },
  {
   "cell_type": "markdown",
   "metadata": {
    "colab_type": "text",
    "id": "ytVP_Sy4cwZ1"
   },
   "source": [
    "## Imports"
   ]
  },
  {
   "cell_type": "code",
   "execution_count": 50,
   "metadata": {
    "colab": {},
    "colab_type": "code",
    "id": "pdS7XRoicwZ2"
   },
   "outputs": [],
   "source": [
    "# To support both python 2 and python 3\n",
    "from __future__ import division, print_function, unicode_literals\n",
    "\n",
    "# Common imports\n",
    "import numpy as np\n",
    "import os\n",
    "import pandas as pd\n",
    "import featuretools as ft\n",
    "import matplotlib as mpl\n",
    "import matplotlib.pyplot as plt"
   ]
  },
  {
   "cell_type": "code",
   "execution_count": 51,
   "metadata": {
    "colab": {},
    "colab_type": "code",
    "id": "A9eZHyChcwZ4"
   },
   "outputs": [],
   "source": [
    "from fastai.basics import *\n",
    "from fastai.tabular import *"
   ]
  },
  {
   "cell_type": "markdown",
   "metadata": {
    "colab_type": "text",
    "id": "ugtBDkyVcwZ6"
   },
   "source": [
    "## Setup"
   ]
  },
  {
   "cell_type": "code",
   "execution_count": 52,
   "metadata": {
    "colab": {},
    "colab_type": "code",
    "id": "tc6D3kBScwZ7"
   },
   "outputs": [],
   "source": [
    "# to make this notebook's output stable across runs\n",
    "np.random.seed(42)\n",
    "\n",
    "mpl.rc('axes', labelsize=14)\n",
    "mpl.rc('xtick', labelsize=12)\n",
    "mpl.rc('ytick', labelsize=12)\n",
    "\n",
    "# Ignore useless warnings (see SciPy issue #5998)\n",
    "import warnings\n",
    "warnings.filterwarnings(action=\"ignore\", message=\"^internal gelsd\")\n",
    "\n",
    "from IPython.display import display\n",
    "pd.options.display.max_columns = 50\n",
    "pd.options.display.html.table_schema = True"
   ]
  },
  {
   "cell_type": "code",
   "execution_count": 53,
   "metadata": {
    "colab": {},
    "colab_type": "code",
    "id": "qEhj3OF3cwZ9"
   },
   "outputs": [],
   "source": [
    "# Where to save the figures\n",
    "PROJECT_ROOT_DIR = \".\"\n",
    "ID = \"fortunenet\"\n",
    "IMAGES_PATH = os.path.join(PROJECT_ROOT_DIR, \"images\", ID)\n",
    "\n",
    "def save_fig(fig_id, tight_layout=True, fig_extension=\"png\", resolution=300):\n",
    "    path = os.path.join(IMAGES_PATH, fig_id + \".\" + fig_extension)\n",
    "    print(\"Saving figure\", fig_id)\n",
    "    if tight_layout:\n",
    "        plt.tight_layout()\n",
    "    plt.savefig(path, format=fig_extension, dpi=resolution)"
   ]
  },
  {
   "cell_type": "markdown",
   "metadata": {
    "colab_type": "text",
    "id": "W9QfYuy9cwZ_"
   },
   "source": [
    "## Helper Functions"
   ]
  },
  {
   "cell_type": "code",
   "execution_count": 54,
   "metadata": {
    "colab": {},
    "colab_type": "code",
    "id": "-18vaytjcwaA"
   },
   "outputs": [],
   "source": [
    "def add_datepart(df, fldname, drop=True, time=False):\n",
    "    \"\"\"Helper function that adds columns relevant to a date.\"\"\"\n",
    "    fld = df[fldname]\n",
    "    fld_dtype = fld.dtype\n",
    "    if isinstance(fld_dtype, pd.core.dtypes.dtypes.DatetimeTZDtype):\n",
    "        fld_dtype = np.datetime64\n",
    "\n",
    "    if not np.issubdtype(fld_dtype, np.datetime64):\n",
    "        df[fldname] = fld = pd.to_datetime(fld, infer_datetime_format=True)\n",
    "    targ_pre = re.sub('[Dd]ate$', '', fldname)\n",
    "    attr = ['Year', 'Month', 'Week', 'Day', 'Dayofweek', 'Dayofyear',\n",
    "            'Is_month_end', 'Is_month_start', 'Is_quarter_end', 'Is_quarter_start', 'Is_year_end', 'Is_year_start']\n",
    "    if time: attr = attr + ['Hour', 'Minute', 'Second']\n",
    "    for n in attr: df[targ_pre + n] = getattr(fld.dt, n.lower())\n",
    "    df[targ_pre + 'Elapsed'] = fld.astype(np.int64) // 10 ** 9\n",
    "    if drop: df.drop(fldname, axis=1, inplace=True)"
   ]
  },
  {
   "cell_type": "code",
   "execution_count": 55,
   "metadata": {
    "colab": {},
    "colab_type": "code",
    "id": "Hj7lXLY3cwaD"
   },
   "outputs": [],
   "source": [
    "def download_file(url, path, download_path):\n",
    "    \"\"\"Download the dataset\"\"\"\n",
    "    if not os.path.isdir(path):\n",
    "        os.makedirs(path)\n",
    "    urllib.request.urlretrieve(url, download_path)\n",
    "    if (os.path.isfile(download_path)):\n",
    "        print(f'Download path: {download_path}')"
   ]
  },
  {
   "cell_type": "markdown",
   "metadata": {
    "colab_type": "text",
    "id": "JigLrfOscwaH"
   },
   "source": [
    "## Datasets - Run the section you want to analyse"
   ]
  },
  {
   "cell_type": "code",
   "execution_count": 56,
   "metadata": {
    "colab": {},
    "colab_type": "code",
    "id": "O1oXBFtycwaH"
   },
   "outputs": [],
   "source": [
    "import os\n",
    "import zipfile\n",
    "from six.moves import urllib\n",
    "\n",
    "DOWNLOAD_ROOT = \"http://www.sportstoto.com.my/\"\n",
    "LOTTO_PATH = os.path.join(os.getcwd(), \"datasets\", \"lotto\")"
   ]
  },
  {
   "cell_type": "markdown",
   "metadata": {
    "colab_type": "text",
    "id": "9DdDmsXnCDK4"
   },
   "source": [
    "### Dataset - 4D"
   ]
  },
  {
   "cell_type": "code",
   "execution_count": 57,
   "metadata": {
    "colab": {},
    "colab_type": "code",
    "id": "KYjdmdlacwaM"
   },
   "outputs": [],
   "source": [
    "_4D_URL = DOWNLOAD_ROOT + \"upload/4D.zip\"\n",
    "_4D_ZIP = os.path.join(LOTTO_PATH, \"4D.zip\")"
   ]
  },
  {
   "cell_type": "code",
   "execution_count": 58,
   "metadata": {
    "colab": {
     "base_uri": "https://localhost:8080/",
     "height": 34
    },
    "colab_type": "code",
    "id": "kcCjDnNqCsxN",
    "outputId": "a210b2e4-647e-4337-b6bb-06b776a9cd40"
   },
   "outputs": [
    {
     "name": "stdout",
     "output_type": "stream",
     "text": [
      "Download path: /Users/mengwangk/workspace/development/FortuneNet/datasets/lotto/4D.zip\n"
     ]
    }
   ],
   "source": [
    "# Download 4D\n",
    "download_file(_4D_URL, LOTTO_PATH, _4D_ZIP)"
   ]
  },
  {
   "cell_type": "code",
   "execution_count": 59,
   "metadata": {
    "colab": {},
    "colab_type": "code",
    "id": "eDYOndxHcwaU"
   },
   "outputs": [],
   "source": [
    "downloaded_file = _4D_ZIP"
   ]
  },
  {
   "cell_type": "markdown",
   "metadata": {
    "colab_type": "text",
    "id": "PpAs4SgXcwaW"
   },
   "source": [
    "### Dataset - Others"
   ]
  },
  {
   "cell_type": "code",
   "execution_count": null,
   "metadata": {
    "colab": {},
    "colab_type": "code",
    "id": "88ENAOYFcwaX"
   },
   "outputs": [],
   "source": []
  },
  {
   "cell_type": "markdown",
   "metadata": {
    "colab_type": "text",
    "id": "rNk59tWhcwaZ"
   },
   "source": [
    "## Read the downloaded file"
   ]
  },
  {
   "cell_type": "code",
   "execution_count": 198,
   "metadata": {
    "colab": {},
    "colab_type": "code",
    "id": "I7frraxZLNzA"
   },
   "outputs": [],
   "source": [
    "# Read into data frame\n",
    "df = pd.read_csv(downloaded_file, header=0, sep=',', quotechar='\"')"
   ]
  },
  {
   "cell_type": "code",
   "execution_count": 199,
   "metadata": {
    "colab": {
     "base_uri": "https://localhost:8080/",
     "height": 824
    },
    "colab_type": "code",
    "id": "ZlLHkuqmEeI2",
    "outputId": "b7188f42-881a-4ff1-c75c-c9a6b8aec5c7"
   },
   "outputs": [
    {
     "data": {
      "application/vnd.dataresource+json": {
       "data": [
        {
         "1stPrizeNo": 1002,
         "2ndPrizeNo": 7403,
         "3rdPrizeNo": 123,
         "ConsolationNo1": 8534,
         "ConsolationNo10": 7028,
         "ConsolationNo2": 471,
         "ConsolationNo3": 999,
         "ConsolationNo4": 2114,
         "ConsolationNo5": 5833,
         "ConsolationNo6": 6200,
         "ConsolationNo7": 8957,
         "ConsolationNo8": 1097,
         "ConsolationNo9": 4668,
         "DrawDate": 20190410,
         "DrawNo": 493219,
         "SpecialNo1": 4950,
         "SpecialNo10": 1889,
         "SpecialNo2": 1195,
         "SpecialNo3": 524,
         "SpecialNo4": 6065,
         "SpecialNo5": 2364,
         "SpecialNo6": 8959,
         "SpecialNo7": 5930,
         "SpecialNo8": 989,
         "SpecialNo9": 8223,
         "index": 4524
        },
        {
         "1stPrizeNo": 9397,
         "2ndPrizeNo": 1660,
         "3rdPrizeNo": 2187,
         "ConsolationNo1": 8,
         "ConsolationNo10": 8741,
         "ConsolationNo2": 1401,
         "ConsolationNo3": 7610,
         "ConsolationNo4": 6501,
         "ConsolationNo5": 2624,
         "ConsolationNo6": 4544,
         "ConsolationNo7": 4911,
         "ConsolationNo8": 7295,
         "ConsolationNo9": 3974,
         "DrawDate": 20190413,
         "DrawNo": 493319,
         "SpecialNo1": 9181,
         "SpecialNo10": 6365,
         "SpecialNo2": 2838,
         "SpecialNo3": 4971,
         "SpecialNo4": 400,
         "SpecialNo5": 9201,
         "SpecialNo6": 4830,
         "SpecialNo7": 8293,
         "SpecialNo8": 2589,
         "SpecialNo9": 2962,
         "index": 4525
        },
        {
         "1stPrizeNo": 3196,
         "2ndPrizeNo": 3443,
         "3rdPrizeNo": 1796,
         "ConsolationNo1": 8711,
         "ConsolationNo10": 1809,
         "ConsolationNo2": 4940,
         "ConsolationNo3": 4441,
         "ConsolationNo4": 6414,
         "ConsolationNo5": 4897,
         "ConsolationNo6": 5403,
         "ConsolationNo7": 9498,
         "ConsolationNo8": 3661,
         "ConsolationNo9": 9290,
         "DrawDate": 20190414,
         "DrawNo": 493419,
         "SpecialNo1": 1957,
         "SpecialNo10": 7159,
         "SpecialNo2": 7325,
         "SpecialNo3": 6801,
         "SpecialNo4": 2098,
         "SpecialNo5": 2517,
         "SpecialNo6": 2231,
         "SpecialNo7": 8870,
         "SpecialNo8": 1121,
         "SpecialNo9": 9679,
         "index": 4526
        },
        {
         "1stPrizeNo": 4007,
         "2ndPrizeNo": 8246,
         "3rdPrizeNo": 1493,
         "ConsolationNo1": 2385,
         "ConsolationNo10": 5203,
         "ConsolationNo2": 3325,
         "ConsolationNo3": 6311,
         "ConsolationNo4": 1837,
         "ConsolationNo5": 8312,
         "ConsolationNo6": 8840,
         "ConsolationNo7": 8743,
         "ConsolationNo8": 5015,
         "ConsolationNo9": 335,
         "DrawDate": 20190417,
         "DrawNo": 493519,
         "SpecialNo1": 2102,
         "SpecialNo10": 8548,
         "SpecialNo2": 194,
         "SpecialNo3": 6853,
         "SpecialNo4": 9083,
         "SpecialNo5": 6763,
         "SpecialNo6": 2599,
         "SpecialNo7": 5192,
         "SpecialNo8": 3514,
         "SpecialNo9": 8253,
         "index": 4527
        },
        {
         "1stPrizeNo": 6622,
         "2ndPrizeNo": 7203,
         "3rdPrizeNo": 4982,
         "ConsolationNo1": 5764,
         "ConsolationNo10": 5710,
         "ConsolationNo2": 5979,
         "ConsolationNo3": 1951,
         "ConsolationNo4": 7761,
         "ConsolationNo5": 9182,
         "ConsolationNo6": 8027,
         "ConsolationNo7": 5130,
         "ConsolationNo8": 8119,
         "ConsolationNo9": 2508,
         "DrawDate": 20190420,
         "DrawNo": 493619,
         "SpecialNo1": 993,
         "SpecialNo10": 6705,
         "SpecialNo2": 7631,
         "SpecialNo3": 8813,
         "SpecialNo4": 6902,
         "SpecialNo5": 8474,
         "SpecialNo6": 4372,
         "SpecialNo7": 5081,
         "SpecialNo8": 2037,
         "SpecialNo9": 8326,
         "index": 4528
        },
        {
         "1stPrizeNo": 3634,
         "2ndPrizeNo": 5822,
         "3rdPrizeNo": 4752,
         "ConsolationNo1": 6400,
         "ConsolationNo10": 2554,
         "ConsolationNo2": 2898,
         "ConsolationNo3": 352,
         "ConsolationNo4": 3326,
         "ConsolationNo5": 6903,
         "ConsolationNo6": 3435,
         "ConsolationNo7": 3716,
         "ConsolationNo8": 5085,
         "ConsolationNo9": 4527,
         "DrawDate": 20190421,
         "DrawNo": 493719,
         "SpecialNo1": 7700,
         "SpecialNo10": 6232,
         "SpecialNo2": 1287,
         "SpecialNo3": 2736,
         "SpecialNo4": 5179,
         "SpecialNo5": 4386,
         "SpecialNo6": 997,
         "SpecialNo7": 312,
         "SpecialNo8": 918,
         "SpecialNo9": 4313,
         "index": 4529
        },
        {
         "1stPrizeNo": 1615,
         "2ndPrizeNo": 9328,
         "3rdPrizeNo": 6138,
         "ConsolationNo1": 6585,
         "ConsolationNo10": 9314,
         "ConsolationNo2": 4517,
         "ConsolationNo3": 1314,
         "ConsolationNo4": 1181,
         "ConsolationNo5": 9444,
         "ConsolationNo6": 6827,
         "ConsolationNo7": 1871,
         "ConsolationNo8": 6984,
         "ConsolationNo9": 7105,
         "DrawDate": 20190424,
         "DrawNo": 493819,
         "SpecialNo1": 6914,
         "SpecialNo10": 1081,
         "SpecialNo2": 4874,
         "SpecialNo3": 6988,
         "SpecialNo4": 2663,
         "SpecialNo5": 3020,
         "SpecialNo6": 1152,
         "SpecialNo7": 7209,
         "SpecialNo8": 527,
         "SpecialNo9": 3310,
         "index": 4530
        },
        {
         "1stPrizeNo": 3582,
         "2ndPrizeNo": 1486,
         "3rdPrizeNo": 8937,
         "ConsolationNo1": 955,
         "ConsolationNo10": 715,
         "ConsolationNo2": 4440,
         "ConsolationNo3": 8582,
         "ConsolationNo4": 6238,
         "ConsolationNo5": 2945,
         "ConsolationNo6": 2016,
         "ConsolationNo7": 2240,
         "ConsolationNo8": 1286,
         "ConsolationNo9": 8726,
         "DrawDate": 20190427,
         "DrawNo": 493919,
         "SpecialNo1": 8464,
         "SpecialNo10": 9621,
         "SpecialNo2": 5668,
         "SpecialNo3": 4914,
         "SpecialNo4": 2182,
         "SpecialNo5": 2689,
         "SpecialNo6": 7176,
         "SpecialNo7": 3315,
         "SpecialNo8": 3413,
         "SpecialNo9": 4247,
         "index": 4531
        },
        {
         "1stPrizeNo": 8975,
         "2ndPrizeNo": 1998,
         "3rdPrizeNo": 8973,
         "ConsolationNo1": 5392,
         "ConsolationNo10": 6495,
         "ConsolationNo2": 1206,
         "ConsolationNo3": 7955,
         "ConsolationNo4": 1235,
         "ConsolationNo5": 1197,
         "ConsolationNo6": 4883,
         "ConsolationNo7": 6971,
         "ConsolationNo8": 7918,
         "ConsolationNo9": 155,
         "DrawDate": 20190428,
         "DrawNo": 494019,
         "SpecialNo1": 3112,
         "SpecialNo10": 1344,
         "SpecialNo2": 2316,
         "SpecialNo3": 8050,
         "SpecialNo4": 4631,
         "SpecialNo5": 3584,
         "SpecialNo6": 9329,
         "SpecialNo7": 1714,
         "SpecialNo8": 1572,
         "SpecialNo9": 5405,
         "index": 4532
        },
        {
         "1stPrizeNo": 4633,
         "2ndPrizeNo": 4154,
         "3rdPrizeNo": 318,
         "ConsolationNo1": 3663,
         "ConsolationNo10": 8866,
         "ConsolationNo2": 8503,
         "ConsolationNo3": 9387,
         "ConsolationNo4": 4279,
         "ConsolationNo5": 992,
         "ConsolationNo6": 6246,
         "ConsolationNo7": 9262,
         "ConsolationNo8": 3764,
         "ConsolationNo9": 4649,
         "DrawDate": 20190501,
         "DrawNo": 494119,
         "SpecialNo1": 1271,
         "SpecialNo10": 2106,
         "SpecialNo2": 7440,
         "SpecialNo3": 8707,
         "SpecialNo4": 6127,
         "SpecialNo5": 2690,
         "SpecialNo6": 8531,
         "SpecialNo7": 9627,
         "SpecialNo8": 6547,
         "SpecialNo9": 2222,
         "index": 4533
        }
       ],
       "schema": {
        "fields": [
         {
          "name": "index",
          "type": "integer"
         },
         {
          "name": "DrawNo",
          "type": "integer"
         },
         {
          "name": "DrawDate",
          "type": "integer"
         },
         {
          "name": "1stPrizeNo",
          "type": "integer"
         },
         {
          "name": "2ndPrizeNo",
          "type": "integer"
         },
         {
          "name": "3rdPrizeNo",
          "type": "integer"
         },
         {
          "name": "SpecialNo1",
          "type": "integer"
         },
         {
          "name": "SpecialNo2",
          "type": "integer"
         },
         {
          "name": "SpecialNo3",
          "type": "integer"
         },
         {
          "name": "SpecialNo4",
          "type": "integer"
         },
         {
          "name": "SpecialNo5",
          "type": "integer"
         },
         {
          "name": "SpecialNo6",
          "type": "integer"
         },
         {
          "name": "SpecialNo7",
          "type": "integer"
         },
         {
          "name": "SpecialNo8",
          "type": "integer"
         },
         {
          "name": "SpecialNo9",
          "type": "integer"
         },
         {
          "name": "SpecialNo10",
          "type": "integer"
         },
         {
          "name": "ConsolationNo1",
          "type": "integer"
         },
         {
          "name": "ConsolationNo2",
          "type": "integer"
         },
         {
          "name": "ConsolationNo3",
          "type": "integer"
         },
         {
          "name": "ConsolationNo4",
          "type": "integer"
         },
         {
          "name": "ConsolationNo5",
          "type": "integer"
         },
         {
          "name": "ConsolationNo6",
          "type": "integer"
         },
         {
          "name": "ConsolationNo7",
          "type": "integer"
         },
         {
          "name": "ConsolationNo8",
          "type": "integer"
         },
         {
          "name": "ConsolationNo9",
          "type": "integer"
         },
         {
          "name": "ConsolationNo10",
          "type": "integer"
         }
        ],
        "pandas_version": "0.20.0",
        "primaryKey": [
         "index"
        ]
       }
      },
      "text/html": [
       "<div>\n",
       "<style scoped>\n",
       "    .dataframe tbody tr th:only-of-type {\n",
       "        vertical-align: middle;\n",
       "    }\n",
       "\n",
       "    .dataframe tbody tr th {\n",
       "        vertical-align: top;\n",
       "    }\n",
       "\n",
       "    .dataframe thead th {\n",
       "        text-align: right;\n",
       "    }\n",
       "</style>\n",
       "<table border=\"1\" class=\"dataframe\">\n",
       "  <thead>\n",
       "    <tr style=\"text-align: right;\">\n",
       "      <th></th>\n",
       "      <th>DrawNo</th>\n",
       "      <th>DrawDate</th>\n",
       "      <th>1stPrizeNo</th>\n",
       "      <th>2ndPrizeNo</th>\n",
       "      <th>3rdPrizeNo</th>\n",
       "      <th>SpecialNo1</th>\n",
       "      <th>SpecialNo2</th>\n",
       "      <th>SpecialNo3</th>\n",
       "      <th>SpecialNo4</th>\n",
       "      <th>SpecialNo5</th>\n",
       "      <th>SpecialNo6</th>\n",
       "      <th>SpecialNo7</th>\n",
       "      <th>SpecialNo8</th>\n",
       "      <th>SpecialNo9</th>\n",
       "      <th>SpecialNo10</th>\n",
       "      <th>ConsolationNo1</th>\n",
       "      <th>ConsolationNo2</th>\n",
       "      <th>ConsolationNo3</th>\n",
       "      <th>ConsolationNo4</th>\n",
       "      <th>ConsolationNo5</th>\n",
       "      <th>ConsolationNo6</th>\n",
       "      <th>ConsolationNo7</th>\n",
       "      <th>ConsolationNo8</th>\n",
       "      <th>ConsolationNo9</th>\n",
       "      <th>ConsolationNo10</th>\n",
       "    </tr>\n",
       "  </thead>\n",
       "  <tbody>\n",
       "    <tr>\n",
       "      <th>4524</th>\n",
       "      <td>493219</td>\n",
       "      <td>20190410</td>\n",
       "      <td>1002</td>\n",
       "      <td>7403</td>\n",
       "      <td>123</td>\n",
       "      <td>4950</td>\n",
       "      <td>1195</td>\n",
       "      <td>524</td>\n",
       "      <td>6065</td>\n",
       "      <td>2364</td>\n",
       "      <td>8959</td>\n",
       "      <td>5930</td>\n",
       "      <td>989</td>\n",
       "      <td>8223</td>\n",
       "      <td>1889</td>\n",
       "      <td>8534</td>\n",
       "      <td>471</td>\n",
       "      <td>999</td>\n",
       "      <td>2114</td>\n",
       "      <td>5833</td>\n",
       "      <td>6200</td>\n",
       "      <td>8957</td>\n",
       "      <td>1097</td>\n",
       "      <td>4668</td>\n",
       "      <td>7028</td>\n",
       "    </tr>\n",
       "    <tr>\n",
       "      <th>4525</th>\n",
       "      <td>493319</td>\n",
       "      <td>20190413</td>\n",
       "      <td>9397</td>\n",
       "      <td>1660</td>\n",
       "      <td>2187</td>\n",
       "      <td>9181</td>\n",
       "      <td>2838</td>\n",
       "      <td>4971</td>\n",
       "      <td>400</td>\n",
       "      <td>9201</td>\n",
       "      <td>4830</td>\n",
       "      <td>8293</td>\n",
       "      <td>2589</td>\n",
       "      <td>2962</td>\n",
       "      <td>6365</td>\n",
       "      <td>8</td>\n",
       "      <td>1401</td>\n",
       "      <td>7610</td>\n",
       "      <td>6501</td>\n",
       "      <td>2624</td>\n",
       "      <td>4544</td>\n",
       "      <td>4911</td>\n",
       "      <td>7295</td>\n",
       "      <td>3974</td>\n",
       "      <td>8741</td>\n",
       "    </tr>\n",
       "    <tr>\n",
       "      <th>4526</th>\n",
       "      <td>493419</td>\n",
       "      <td>20190414</td>\n",
       "      <td>3196</td>\n",
       "      <td>3443</td>\n",
       "      <td>1796</td>\n",
       "      <td>1957</td>\n",
       "      <td>7325</td>\n",
       "      <td>6801</td>\n",
       "      <td>2098</td>\n",
       "      <td>2517</td>\n",
       "      <td>2231</td>\n",
       "      <td>8870</td>\n",
       "      <td>1121</td>\n",
       "      <td>9679</td>\n",
       "      <td>7159</td>\n",
       "      <td>8711</td>\n",
       "      <td>4940</td>\n",
       "      <td>4441</td>\n",
       "      <td>6414</td>\n",
       "      <td>4897</td>\n",
       "      <td>5403</td>\n",
       "      <td>9498</td>\n",
       "      <td>3661</td>\n",
       "      <td>9290</td>\n",
       "      <td>1809</td>\n",
       "    </tr>\n",
       "    <tr>\n",
       "      <th>4527</th>\n",
       "      <td>493519</td>\n",
       "      <td>20190417</td>\n",
       "      <td>4007</td>\n",
       "      <td>8246</td>\n",
       "      <td>1493</td>\n",
       "      <td>2102</td>\n",
       "      <td>194</td>\n",
       "      <td>6853</td>\n",
       "      <td>9083</td>\n",
       "      <td>6763</td>\n",
       "      <td>2599</td>\n",
       "      <td>5192</td>\n",
       "      <td>3514</td>\n",
       "      <td>8253</td>\n",
       "      <td>8548</td>\n",
       "      <td>2385</td>\n",
       "      <td>3325</td>\n",
       "      <td>6311</td>\n",
       "      <td>1837</td>\n",
       "      <td>8312</td>\n",
       "      <td>8840</td>\n",
       "      <td>8743</td>\n",
       "      <td>5015</td>\n",
       "      <td>335</td>\n",
       "      <td>5203</td>\n",
       "    </tr>\n",
       "    <tr>\n",
       "      <th>4528</th>\n",
       "      <td>493619</td>\n",
       "      <td>20190420</td>\n",
       "      <td>6622</td>\n",
       "      <td>7203</td>\n",
       "      <td>4982</td>\n",
       "      <td>993</td>\n",
       "      <td>7631</td>\n",
       "      <td>8813</td>\n",
       "      <td>6902</td>\n",
       "      <td>8474</td>\n",
       "      <td>4372</td>\n",
       "      <td>5081</td>\n",
       "      <td>2037</td>\n",
       "      <td>8326</td>\n",
       "      <td>6705</td>\n",
       "      <td>5764</td>\n",
       "      <td>5979</td>\n",
       "      <td>1951</td>\n",
       "      <td>7761</td>\n",
       "      <td>9182</td>\n",
       "      <td>8027</td>\n",
       "      <td>5130</td>\n",
       "      <td>8119</td>\n",
       "      <td>2508</td>\n",
       "      <td>5710</td>\n",
       "    </tr>\n",
       "    <tr>\n",
       "      <th>4529</th>\n",
       "      <td>493719</td>\n",
       "      <td>20190421</td>\n",
       "      <td>3634</td>\n",
       "      <td>5822</td>\n",
       "      <td>4752</td>\n",
       "      <td>7700</td>\n",
       "      <td>1287</td>\n",
       "      <td>2736</td>\n",
       "      <td>5179</td>\n",
       "      <td>4386</td>\n",
       "      <td>997</td>\n",
       "      <td>312</td>\n",
       "      <td>918</td>\n",
       "      <td>4313</td>\n",
       "      <td>6232</td>\n",
       "      <td>6400</td>\n",
       "      <td>2898</td>\n",
       "      <td>352</td>\n",
       "      <td>3326</td>\n",
       "      <td>6903</td>\n",
       "      <td>3435</td>\n",
       "      <td>3716</td>\n",
       "      <td>5085</td>\n",
       "      <td>4527</td>\n",
       "      <td>2554</td>\n",
       "    </tr>\n",
       "    <tr>\n",
       "      <th>4530</th>\n",
       "      <td>493819</td>\n",
       "      <td>20190424</td>\n",
       "      <td>1615</td>\n",
       "      <td>9328</td>\n",
       "      <td>6138</td>\n",
       "      <td>6914</td>\n",
       "      <td>4874</td>\n",
       "      <td>6988</td>\n",
       "      <td>2663</td>\n",
       "      <td>3020</td>\n",
       "      <td>1152</td>\n",
       "      <td>7209</td>\n",
       "      <td>527</td>\n",
       "      <td>3310</td>\n",
       "      <td>1081</td>\n",
       "      <td>6585</td>\n",
       "      <td>4517</td>\n",
       "      <td>1314</td>\n",
       "      <td>1181</td>\n",
       "      <td>9444</td>\n",
       "      <td>6827</td>\n",
       "      <td>1871</td>\n",
       "      <td>6984</td>\n",
       "      <td>7105</td>\n",
       "      <td>9314</td>\n",
       "    </tr>\n",
       "    <tr>\n",
       "      <th>4531</th>\n",
       "      <td>493919</td>\n",
       "      <td>20190427</td>\n",
       "      <td>3582</td>\n",
       "      <td>1486</td>\n",
       "      <td>8937</td>\n",
       "      <td>8464</td>\n",
       "      <td>5668</td>\n",
       "      <td>4914</td>\n",
       "      <td>2182</td>\n",
       "      <td>2689</td>\n",
       "      <td>7176</td>\n",
       "      <td>3315</td>\n",
       "      <td>3413</td>\n",
       "      <td>4247</td>\n",
       "      <td>9621</td>\n",
       "      <td>955</td>\n",
       "      <td>4440</td>\n",
       "      <td>8582</td>\n",
       "      <td>6238</td>\n",
       "      <td>2945</td>\n",
       "      <td>2016</td>\n",
       "      <td>2240</td>\n",
       "      <td>1286</td>\n",
       "      <td>8726</td>\n",
       "      <td>715</td>\n",
       "    </tr>\n",
       "    <tr>\n",
       "      <th>4532</th>\n",
       "      <td>494019</td>\n",
       "      <td>20190428</td>\n",
       "      <td>8975</td>\n",
       "      <td>1998</td>\n",
       "      <td>8973</td>\n",
       "      <td>3112</td>\n",
       "      <td>2316</td>\n",
       "      <td>8050</td>\n",
       "      <td>4631</td>\n",
       "      <td>3584</td>\n",
       "      <td>9329</td>\n",
       "      <td>1714</td>\n",
       "      <td>1572</td>\n",
       "      <td>5405</td>\n",
       "      <td>1344</td>\n",
       "      <td>5392</td>\n",
       "      <td>1206</td>\n",
       "      <td>7955</td>\n",
       "      <td>1235</td>\n",
       "      <td>1197</td>\n",
       "      <td>4883</td>\n",
       "      <td>6971</td>\n",
       "      <td>7918</td>\n",
       "      <td>155</td>\n",
       "      <td>6495</td>\n",
       "    </tr>\n",
       "    <tr>\n",
       "      <th>4533</th>\n",
       "      <td>494119</td>\n",
       "      <td>20190501</td>\n",
       "      <td>4633</td>\n",
       "      <td>4154</td>\n",
       "      <td>318</td>\n",
       "      <td>1271</td>\n",
       "      <td>7440</td>\n",
       "      <td>8707</td>\n",
       "      <td>6127</td>\n",
       "      <td>2690</td>\n",
       "      <td>8531</td>\n",
       "      <td>9627</td>\n",
       "      <td>6547</td>\n",
       "      <td>2222</td>\n",
       "      <td>2106</td>\n",
       "      <td>3663</td>\n",
       "      <td>8503</td>\n",
       "      <td>9387</td>\n",
       "      <td>4279</td>\n",
       "      <td>992</td>\n",
       "      <td>6246</td>\n",
       "      <td>9262</td>\n",
       "      <td>3764</td>\n",
       "      <td>4649</td>\n",
       "      <td>8866</td>\n",
       "    </tr>\n",
       "  </tbody>\n",
       "</table>\n",
       "</div>"
      ],
      "text/plain": [
       "      DrawNo  DrawDate  1stPrizeNo  2ndPrizeNo  3rdPrizeNo  SpecialNo1  \\\n",
       "4524  493219  20190410        1002        7403         123        4950   \n",
       "4525  493319  20190413        9397        1660        2187        9181   \n",
       "4526  493419  20190414        3196        3443        1796        1957   \n",
       "4527  493519  20190417        4007        8246        1493        2102   \n",
       "4528  493619  20190420        6622        7203        4982         993   \n",
       "4529  493719  20190421        3634        5822        4752        7700   \n",
       "4530  493819  20190424        1615        9328        6138        6914   \n",
       "4531  493919  20190427        3582        1486        8937        8464   \n",
       "4532  494019  20190428        8975        1998        8973        3112   \n",
       "4533  494119  20190501        4633        4154         318        1271   \n",
       "\n",
       "      SpecialNo2  SpecialNo3  SpecialNo4  SpecialNo5  SpecialNo6  SpecialNo7  \\\n",
       "4524        1195         524        6065        2364        8959        5930   \n",
       "4525        2838        4971         400        9201        4830        8293   \n",
       "4526        7325        6801        2098        2517        2231        8870   \n",
       "4527         194        6853        9083        6763        2599        5192   \n",
       "4528        7631        8813        6902        8474        4372        5081   \n",
       "4529        1287        2736        5179        4386         997         312   \n",
       "4530        4874        6988        2663        3020        1152        7209   \n",
       "4531        5668        4914        2182        2689        7176        3315   \n",
       "4532        2316        8050        4631        3584        9329        1714   \n",
       "4533        7440        8707        6127        2690        8531        9627   \n",
       "\n",
       "      SpecialNo8  SpecialNo9  SpecialNo10  ConsolationNo1  ConsolationNo2  \\\n",
       "4524         989        8223         1889            8534             471   \n",
       "4525        2589        2962         6365               8            1401   \n",
       "4526        1121        9679         7159            8711            4940   \n",
       "4527        3514        8253         8548            2385            3325   \n",
       "4528        2037        8326         6705            5764            5979   \n",
       "4529         918        4313         6232            6400            2898   \n",
       "4530         527        3310         1081            6585            4517   \n",
       "4531        3413        4247         9621             955            4440   \n",
       "4532        1572        5405         1344            5392            1206   \n",
       "4533        6547        2222         2106            3663            8503   \n",
       "\n",
       "      ConsolationNo3  ConsolationNo4  ConsolationNo5  ConsolationNo6  \\\n",
       "4524             999            2114            5833            6200   \n",
       "4525            7610            6501            2624            4544   \n",
       "4526            4441            6414            4897            5403   \n",
       "4527            6311            1837            8312            8840   \n",
       "4528            1951            7761            9182            8027   \n",
       "4529             352            3326            6903            3435   \n",
       "4530            1314            1181            9444            6827   \n",
       "4531            8582            6238            2945            2016   \n",
       "4532            7955            1235            1197            4883   \n",
       "4533            9387            4279             992            6246   \n",
       "\n",
       "      ConsolationNo7  ConsolationNo8  ConsolationNo9  ConsolationNo10  \n",
       "4524            8957            1097            4668             7028  \n",
       "4525            4911            7295            3974             8741  \n",
       "4526            9498            3661            9290             1809  \n",
       "4527            8743            5015             335             5203  \n",
       "4528            5130            8119            2508             5710  \n",
       "4529            3716            5085            4527             2554  \n",
       "4530            1871            6984            7105             9314  \n",
       "4531            2240            1286            8726              715  \n",
       "4532            6971            7918             155             6495  \n",
       "4533            9262            3764            4649             8866  "
      ]
     },
     "execution_count": 199,
     "metadata": {},
     "output_type": "execute_result"
    }
   ],
   "source": [
    "# Tail the last 10 rows\n",
    "df.tail(10)"
   ]
  },
  {
   "cell_type": "markdown",
   "metadata": {
    "colab_type": "text",
    "id": "hJqn_qhfcwag"
   },
   "source": [
    "## Preprocessing"
   ]
  },
  {
   "cell_type": "markdown",
   "metadata": {
    "colab_type": "text",
    "id": "yve_GeP_cwah"
   },
   "source": [
    "### Transpose the data"
   ]
  },
  {
   "cell_type": "code",
   "execution_count": 200,
   "metadata": {
    "colab": {
     "base_uri": "https://localhost:8080/",
     "height": 170
    },
    "colab_type": "code",
    "id": "Jk0qwa5kcwai",
    "outputId": "257a0a61-0664-46e2-d086-45426b2963c1"
   },
   "outputs": [
    {
     "name": "stdout",
     "output_type": "stream",
     "text": [
      "<class 'pandas.core.frame.DataFrame'>\n",
      "RangeIndex: 104282 entries, 0 to 104281\n",
      "Data columns (total 4 columns):\n",
      "DrawNo       104282 non-null int64\n",
      "DrawDate     104282 non-null datetime64[ns]\n",
      "PrizeType    104282 non-null object\n",
      "LuckyNo      104282 non-null int64\n",
      "dtypes: datetime64[ns](1), int64(2), object(1)\n",
      "memory usage: 3.2+ MB\n"
     ]
    }
   ],
   "source": [
    "df_transposed = df.melt(id_vars=[\"DrawNo\", \"DrawDate\"], var_name=\"PrizeType\", value_name=\"LuckyNo\")\n",
    "df_transposed = df_transposed.sort_values([\"DrawNo\", \"DrawDate\", \"PrizeType\"], ascending=True)\n",
    "df_transposed['DrawDate'] = pd.to_datetime(df_transposed['DrawDate'], format='%Y%m%d')\n",
    "df_transposed.reset_index(inplace=True, drop=True)\n",
    "df_transposed.info()"
   ]
  },
  {
   "cell_type": "code",
   "execution_count": 201,
   "metadata": {
    "colab": {
     "base_uri": "https://localhost:8080/",
     "height": 227
    },
    "colab_type": "code",
    "id": "TtPqd8Titw6r",
    "outputId": "605c4c84-d9c7-448d-9d04-7bba6b8cd676"
   },
   "outputs": [
    {
     "data": {
      "application/vnd.dataresource+json": {
       "data": [
        {
         "DrawDate": "1992-05-06T00:00:00.000Z",
         "DrawNo": 40792,
         "LuckyNo": 19,
         "PrizeType": "1stPrizeNo",
         "index": 0
        },
        {
         "DrawDate": "1992-05-06T00:00:00.000Z",
         "DrawNo": 40792,
         "LuckyNo": 1124,
         "PrizeType": "2ndPrizeNo",
         "index": 1
        },
        {
         "DrawDate": "1992-05-06T00:00:00.000Z",
         "DrawNo": 40792,
         "LuckyNo": 592,
         "PrizeType": "3rdPrizeNo",
         "index": 2
        },
        {
         "DrawDate": "1992-05-06T00:00:00.000Z",
         "DrawNo": 40792,
         "LuckyNo": 5311,
         "PrizeType": "ConsolationNo1",
         "index": 3
        },
        {
         "DrawDate": "1992-05-06T00:00:00.000Z",
         "DrawNo": 40792,
         "LuckyNo": 407,
         "PrizeType": "ConsolationNo10",
         "index": 4
        },
        {
         "DrawDate": "1992-05-06T00:00:00.000Z",
         "DrawNo": 40792,
         "LuckyNo": 1949,
         "PrizeType": "ConsolationNo2",
         "index": 5
        },
        {
         "DrawDate": "1992-05-06T00:00:00.000Z",
         "DrawNo": 40792,
         "LuckyNo": 1606,
         "PrizeType": "ConsolationNo3",
         "index": 6
        },
        {
         "DrawDate": "1992-05-06T00:00:00.000Z",
         "DrawNo": 40792,
         "LuckyNo": 3775,
         "PrizeType": "ConsolationNo4",
         "index": 7
        },
        {
         "DrawDate": "1992-05-06T00:00:00.000Z",
         "DrawNo": 40792,
         "LuckyNo": 6226,
         "PrizeType": "ConsolationNo5",
         "index": 8
        },
        {
         "DrawDate": "1992-05-06T00:00:00.000Z",
         "DrawNo": 40792,
         "LuckyNo": 1271,
         "PrizeType": "ConsolationNo6",
         "index": 9
        },
        {
         "DrawDate": "1992-05-06T00:00:00.000Z",
         "DrawNo": 40792,
         "LuckyNo": 7455,
         "PrizeType": "ConsolationNo7",
         "index": 10
        },
        {
         "DrawDate": "1992-05-06T00:00:00.000Z",
         "DrawNo": 40792,
         "LuckyNo": 7227,
         "PrizeType": "ConsolationNo8",
         "index": 11
        },
        {
         "DrawDate": "1992-05-06T00:00:00.000Z",
         "DrawNo": 40792,
         "LuckyNo": 9258,
         "PrizeType": "ConsolationNo9",
         "index": 12
        },
        {
         "DrawDate": "1992-05-06T00:00:00.000Z",
         "DrawNo": 40792,
         "LuckyNo": 950,
         "PrizeType": "SpecialNo1",
         "index": 13
        },
        {
         "DrawDate": "1992-05-06T00:00:00.000Z",
         "DrawNo": 40792,
         "LuckyNo": 5301,
         "PrizeType": "SpecialNo10",
         "index": 14
        },
        {
         "DrawDate": "1992-05-06T00:00:00.000Z",
         "DrawNo": 40792,
         "LuckyNo": 2479,
         "PrizeType": "SpecialNo2",
         "index": 15
        },
        {
         "DrawDate": "1992-05-06T00:00:00.000Z",
         "DrawNo": 40792,
         "LuckyNo": 7139,
         "PrizeType": "SpecialNo3",
         "index": 16
        },
        {
         "DrawDate": "1992-05-06T00:00:00.000Z",
         "DrawNo": 40792,
         "LuckyNo": 3114,
         "PrizeType": "SpecialNo4",
         "index": 17
        },
        {
         "DrawDate": "1992-05-06T00:00:00.000Z",
         "DrawNo": 40792,
         "LuckyNo": 4609,
         "PrizeType": "SpecialNo5",
         "index": 18
        },
        {
         "DrawDate": "1992-05-06T00:00:00.000Z",
         "DrawNo": 40792,
         "LuckyNo": 7836,
         "PrizeType": "SpecialNo6",
         "index": 19
        },
        {
         "DrawDate": "1992-05-06T00:00:00.000Z",
         "DrawNo": 40792,
         "LuckyNo": 8981,
         "PrizeType": "SpecialNo7",
         "index": 20
        },
        {
         "DrawDate": "1992-05-06T00:00:00.000Z",
         "DrawNo": 40792,
         "LuckyNo": 4465,
         "PrizeType": "SpecialNo8",
         "index": 21
        },
        {
         "DrawDate": "1992-05-06T00:00:00.000Z",
         "DrawNo": 40792,
         "LuckyNo": 6114,
         "PrizeType": "SpecialNo9",
         "index": 22
        }
       ],
       "schema": {
        "fields": [
         {
          "name": "index",
          "type": "integer"
         },
         {
          "name": "DrawNo",
          "type": "integer"
         },
         {
          "name": "DrawDate",
          "type": "datetime"
         },
         {
          "name": "PrizeType",
          "type": "string"
         },
         {
          "name": "LuckyNo",
          "type": "integer"
         }
        ],
        "pandas_version": "0.20.0",
        "primaryKey": [
         "index"
        ]
       }
      },
      "text/html": [
       "<div>\n",
       "<style scoped>\n",
       "    .dataframe tbody tr th:only-of-type {\n",
       "        vertical-align: middle;\n",
       "    }\n",
       "\n",
       "    .dataframe tbody tr th {\n",
       "        vertical-align: top;\n",
       "    }\n",
       "\n",
       "    .dataframe thead th {\n",
       "        text-align: right;\n",
       "    }\n",
       "</style>\n",
       "<table border=\"1\" class=\"dataframe\">\n",
       "  <thead>\n",
       "    <tr style=\"text-align: right;\">\n",
       "      <th></th>\n",
       "      <th>DrawNo</th>\n",
       "      <th>DrawDate</th>\n",
       "      <th>PrizeType</th>\n",
       "      <th>LuckyNo</th>\n",
       "    </tr>\n",
       "  </thead>\n",
       "  <tbody>\n",
       "    <tr>\n",
       "      <th>0</th>\n",
       "      <td>40792</td>\n",
       "      <td>1992-05-06</td>\n",
       "      <td>1stPrizeNo</td>\n",
       "      <td>19</td>\n",
       "    </tr>\n",
       "    <tr>\n",
       "      <th>1</th>\n",
       "      <td>40792</td>\n",
       "      <td>1992-05-06</td>\n",
       "      <td>2ndPrizeNo</td>\n",
       "      <td>1124</td>\n",
       "    </tr>\n",
       "    <tr>\n",
       "      <th>2</th>\n",
       "      <td>40792</td>\n",
       "      <td>1992-05-06</td>\n",
       "      <td>3rdPrizeNo</td>\n",
       "      <td>592</td>\n",
       "    </tr>\n",
       "    <tr>\n",
       "      <th>3</th>\n",
       "      <td>40792</td>\n",
       "      <td>1992-05-06</td>\n",
       "      <td>ConsolationNo1</td>\n",
       "      <td>5311</td>\n",
       "    </tr>\n",
       "    <tr>\n",
       "      <th>4</th>\n",
       "      <td>40792</td>\n",
       "      <td>1992-05-06</td>\n",
       "      <td>ConsolationNo10</td>\n",
       "      <td>407</td>\n",
       "    </tr>\n",
       "    <tr>\n",
       "      <th>5</th>\n",
       "      <td>40792</td>\n",
       "      <td>1992-05-06</td>\n",
       "      <td>ConsolationNo2</td>\n",
       "      <td>1949</td>\n",
       "    </tr>\n",
       "    <tr>\n",
       "      <th>6</th>\n",
       "      <td>40792</td>\n",
       "      <td>1992-05-06</td>\n",
       "      <td>ConsolationNo3</td>\n",
       "      <td>1606</td>\n",
       "    </tr>\n",
       "    <tr>\n",
       "      <th>7</th>\n",
       "      <td>40792</td>\n",
       "      <td>1992-05-06</td>\n",
       "      <td>ConsolationNo4</td>\n",
       "      <td>3775</td>\n",
       "    </tr>\n",
       "    <tr>\n",
       "      <th>8</th>\n",
       "      <td>40792</td>\n",
       "      <td>1992-05-06</td>\n",
       "      <td>ConsolationNo5</td>\n",
       "      <td>6226</td>\n",
       "    </tr>\n",
       "    <tr>\n",
       "      <th>9</th>\n",
       "      <td>40792</td>\n",
       "      <td>1992-05-06</td>\n",
       "      <td>ConsolationNo6</td>\n",
       "      <td>1271</td>\n",
       "    </tr>\n",
       "    <tr>\n",
       "      <th>10</th>\n",
       "      <td>40792</td>\n",
       "      <td>1992-05-06</td>\n",
       "      <td>ConsolationNo7</td>\n",
       "      <td>7455</td>\n",
       "    </tr>\n",
       "    <tr>\n",
       "      <th>11</th>\n",
       "      <td>40792</td>\n",
       "      <td>1992-05-06</td>\n",
       "      <td>ConsolationNo8</td>\n",
       "      <td>7227</td>\n",
       "    </tr>\n",
       "    <tr>\n",
       "      <th>12</th>\n",
       "      <td>40792</td>\n",
       "      <td>1992-05-06</td>\n",
       "      <td>ConsolationNo9</td>\n",
       "      <td>9258</td>\n",
       "    </tr>\n",
       "    <tr>\n",
       "      <th>13</th>\n",
       "      <td>40792</td>\n",
       "      <td>1992-05-06</td>\n",
       "      <td>SpecialNo1</td>\n",
       "      <td>950</td>\n",
       "    </tr>\n",
       "    <tr>\n",
       "      <th>14</th>\n",
       "      <td>40792</td>\n",
       "      <td>1992-05-06</td>\n",
       "      <td>SpecialNo10</td>\n",
       "      <td>5301</td>\n",
       "    </tr>\n",
       "    <tr>\n",
       "      <th>15</th>\n",
       "      <td>40792</td>\n",
       "      <td>1992-05-06</td>\n",
       "      <td>SpecialNo2</td>\n",
       "      <td>2479</td>\n",
       "    </tr>\n",
       "    <tr>\n",
       "      <th>16</th>\n",
       "      <td>40792</td>\n",
       "      <td>1992-05-06</td>\n",
       "      <td>SpecialNo3</td>\n",
       "      <td>7139</td>\n",
       "    </tr>\n",
       "    <tr>\n",
       "      <th>17</th>\n",
       "      <td>40792</td>\n",
       "      <td>1992-05-06</td>\n",
       "      <td>SpecialNo4</td>\n",
       "      <td>3114</td>\n",
       "    </tr>\n",
       "    <tr>\n",
       "      <th>18</th>\n",
       "      <td>40792</td>\n",
       "      <td>1992-05-06</td>\n",
       "      <td>SpecialNo5</td>\n",
       "      <td>4609</td>\n",
       "    </tr>\n",
       "    <tr>\n",
       "      <th>19</th>\n",
       "      <td>40792</td>\n",
       "      <td>1992-05-06</td>\n",
       "      <td>SpecialNo6</td>\n",
       "      <td>7836</td>\n",
       "    </tr>\n",
       "    <tr>\n",
       "      <th>20</th>\n",
       "      <td>40792</td>\n",
       "      <td>1992-05-06</td>\n",
       "      <td>SpecialNo7</td>\n",
       "      <td>8981</td>\n",
       "    </tr>\n",
       "    <tr>\n",
       "      <th>21</th>\n",
       "      <td>40792</td>\n",
       "      <td>1992-05-06</td>\n",
       "      <td>SpecialNo8</td>\n",
       "      <td>4465</td>\n",
       "    </tr>\n",
       "    <tr>\n",
       "      <th>22</th>\n",
       "      <td>40792</td>\n",
       "      <td>1992-05-06</td>\n",
       "      <td>SpecialNo9</td>\n",
       "      <td>6114</td>\n",
       "    </tr>\n",
       "  </tbody>\n",
       "</table>\n",
       "</div>"
      ],
      "text/plain": [
       "    DrawNo   DrawDate        PrizeType  LuckyNo\n",
       "0    40792 1992-05-06       1stPrizeNo       19\n",
       "1    40792 1992-05-06       2ndPrizeNo     1124\n",
       "2    40792 1992-05-06       3rdPrizeNo      592\n",
       "3    40792 1992-05-06   ConsolationNo1     5311\n",
       "4    40792 1992-05-06  ConsolationNo10      407\n",
       "5    40792 1992-05-06   ConsolationNo2     1949\n",
       "6    40792 1992-05-06   ConsolationNo3     1606\n",
       "7    40792 1992-05-06   ConsolationNo4     3775\n",
       "8    40792 1992-05-06   ConsolationNo5     6226\n",
       "9    40792 1992-05-06   ConsolationNo6     1271\n",
       "10   40792 1992-05-06   ConsolationNo7     7455\n",
       "11   40792 1992-05-06   ConsolationNo8     7227\n",
       "12   40792 1992-05-06   ConsolationNo9     9258\n",
       "13   40792 1992-05-06       SpecialNo1      950\n",
       "14   40792 1992-05-06      SpecialNo10     5301\n",
       "15   40792 1992-05-06       SpecialNo2     2479\n",
       "16   40792 1992-05-06       SpecialNo3     7139\n",
       "17   40792 1992-05-06       SpecialNo4     3114\n",
       "18   40792 1992-05-06       SpecialNo5     4609\n",
       "19   40792 1992-05-06       SpecialNo6     7836\n",
       "20   40792 1992-05-06       SpecialNo7     8981\n",
       "21   40792 1992-05-06       SpecialNo8     4465\n",
       "22   40792 1992-05-06       SpecialNo9     6114"
      ]
     },
     "execution_count": 201,
     "metadata": {},
     "output_type": "execute_result"
    }
   ],
   "source": [
    "# Tail the data\n",
    "df_transposed.head(23)"
   ]
  },
  {
   "cell_type": "code",
   "execution_count": 202,
   "metadata": {
    "colab": {
     "base_uri": "https://localhost:8080/",
     "height": 549
    },
    "colab_type": "code",
    "id": "EISQP-uNcwar",
    "outputId": "a6d03c2d-ff1e-47fb-85b7-d4cb5c4ca659"
   },
   "outputs": [
    {
     "data": {
      "application/vnd.dataresource+json": {
       "data": [
        {
         "DrawDate": "1992-05-06T00:00:00.000Z",
         "DrawDay": 6,
         "DrawDayofweek": 2,
         "DrawDayofyear": 127,
         "DrawElapsed": 705110400,
         "DrawIs_month_end": false,
         "DrawIs_month_start": false,
         "DrawIs_quarter_end": false,
         "DrawIs_quarter_start": false,
         "DrawIs_year_end": false,
         "DrawIs_year_start": false,
         "DrawMonth": 5,
         "DrawNo": 40792,
         "DrawWeek": 19,
         "DrawYear": 1992,
         "LuckyNo": 19,
         "PrizeType": "1stPrizeNo",
         "index": 0
        },
        {
         "DrawDate": "1992-05-06T00:00:00.000Z",
         "DrawDay": 6,
         "DrawDayofweek": 2,
         "DrawDayofyear": 127,
         "DrawElapsed": 705110400,
         "DrawIs_month_end": false,
         "DrawIs_month_start": false,
         "DrawIs_quarter_end": false,
         "DrawIs_quarter_start": false,
         "DrawIs_year_end": false,
         "DrawIs_year_start": false,
         "DrawMonth": 5,
         "DrawNo": 40792,
         "DrawWeek": 19,
         "DrawYear": 1992,
         "LuckyNo": 1124,
         "PrizeType": "2ndPrizeNo",
         "index": 1
        },
        {
         "DrawDate": "1992-05-06T00:00:00.000Z",
         "DrawDay": 6,
         "DrawDayofweek": 2,
         "DrawDayofyear": 127,
         "DrawElapsed": 705110400,
         "DrawIs_month_end": false,
         "DrawIs_month_start": false,
         "DrawIs_quarter_end": false,
         "DrawIs_quarter_start": false,
         "DrawIs_year_end": false,
         "DrawIs_year_start": false,
         "DrawMonth": 5,
         "DrawNo": 40792,
         "DrawWeek": 19,
         "DrawYear": 1992,
         "LuckyNo": 592,
         "PrizeType": "3rdPrizeNo",
         "index": 2
        },
        {
         "DrawDate": "1992-05-06T00:00:00.000Z",
         "DrawDay": 6,
         "DrawDayofweek": 2,
         "DrawDayofyear": 127,
         "DrawElapsed": 705110400,
         "DrawIs_month_end": false,
         "DrawIs_month_start": false,
         "DrawIs_quarter_end": false,
         "DrawIs_quarter_start": false,
         "DrawIs_year_end": false,
         "DrawIs_year_start": false,
         "DrawMonth": 5,
         "DrawNo": 40792,
         "DrawWeek": 19,
         "DrawYear": 1992,
         "LuckyNo": 5311,
         "PrizeType": "ConsolationNo1",
         "index": 3
        },
        {
         "DrawDate": "1992-05-06T00:00:00.000Z",
         "DrawDay": 6,
         "DrawDayofweek": 2,
         "DrawDayofyear": 127,
         "DrawElapsed": 705110400,
         "DrawIs_month_end": false,
         "DrawIs_month_start": false,
         "DrawIs_quarter_end": false,
         "DrawIs_quarter_start": false,
         "DrawIs_year_end": false,
         "DrawIs_year_start": false,
         "DrawMonth": 5,
         "DrawNo": 40792,
         "DrawWeek": 19,
         "DrawYear": 1992,
         "LuckyNo": 407,
         "PrizeType": "ConsolationNo10",
         "index": 4
        },
        {
         "DrawDate": "1992-05-06T00:00:00.000Z",
         "DrawDay": 6,
         "DrawDayofweek": 2,
         "DrawDayofyear": 127,
         "DrawElapsed": 705110400,
         "DrawIs_month_end": false,
         "DrawIs_month_start": false,
         "DrawIs_quarter_end": false,
         "DrawIs_quarter_start": false,
         "DrawIs_year_end": false,
         "DrawIs_year_start": false,
         "DrawMonth": 5,
         "DrawNo": 40792,
         "DrawWeek": 19,
         "DrawYear": 1992,
         "LuckyNo": 1949,
         "PrizeType": "ConsolationNo2",
         "index": 5
        },
        {
         "DrawDate": "1992-05-06T00:00:00.000Z",
         "DrawDay": 6,
         "DrawDayofweek": 2,
         "DrawDayofyear": 127,
         "DrawElapsed": 705110400,
         "DrawIs_month_end": false,
         "DrawIs_month_start": false,
         "DrawIs_quarter_end": false,
         "DrawIs_quarter_start": false,
         "DrawIs_year_end": false,
         "DrawIs_year_start": false,
         "DrawMonth": 5,
         "DrawNo": 40792,
         "DrawWeek": 19,
         "DrawYear": 1992,
         "LuckyNo": 1606,
         "PrizeType": "ConsolationNo3",
         "index": 6
        },
        {
         "DrawDate": "1992-05-06T00:00:00.000Z",
         "DrawDay": 6,
         "DrawDayofweek": 2,
         "DrawDayofyear": 127,
         "DrawElapsed": 705110400,
         "DrawIs_month_end": false,
         "DrawIs_month_start": false,
         "DrawIs_quarter_end": false,
         "DrawIs_quarter_start": false,
         "DrawIs_year_end": false,
         "DrawIs_year_start": false,
         "DrawMonth": 5,
         "DrawNo": 40792,
         "DrawWeek": 19,
         "DrawYear": 1992,
         "LuckyNo": 3775,
         "PrizeType": "ConsolationNo4",
         "index": 7
        },
        {
         "DrawDate": "1992-05-06T00:00:00.000Z",
         "DrawDay": 6,
         "DrawDayofweek": 2,
         "DrawDayofyear": 127,
         "DrawElapsed": 705110400,
         "DrawIs_month_end": false,
         "DrawIs_month_start": false,
         "DrawIs_quarter_end": false,
         "DrawIs_quarter_start": false,
         "DrawIs_year_end": false,
         "DrawIs_year_start": false,
         "DrawMonth": 5,
         "DrawNo": 40792,
         "DrawWeek": 19,
         "DrawYear": 1992,
         "LuckyNo": 6226,
         "PrizeType": "ConsolationNo5",
         "index": 8
        },
        {
         "DrawDate": "1992-05-06T00:00:00.000Z",
         "DrawDay": 6,
         "DrawDayofweek": 2,
         "DrawDayofyear": 127,
         "DrawElapsed": 705110400,
         "DrawIs_month_end": false,
         "DrawIs_month_start": false,
         "DrawIs_quarter_end": false,
         "DrawIs_quarter_start": false,
         "DrawIs_year_end": false,
         "DrawIs_year_start": false,
         "DrawMonth": 5,
         "DrawNo": 40792,
         "DrawWeek": 19,
         "DrawYear": 1992,
         "LuckyNo": 1271,
         "PrizeType": "ConsolationNo6",
         "index": 9
        }
       ],
       "schema": {
        "fields": [
         {
          "name": "index",
          "type": "integer"
         },
         {
          "name": "DrawNo",
          "type": "integer"
         },
         {
          "name": "DrawDate",
          "type": "datetime"
         },
         {
          "name": "PrizeType",
          "type": "string"
         },
         {
          "name": "LuckyNo",
          "type": "integer"
         },
         {
          "name": "DrawYear",
          "type": "integer"
         },
         {
          "name": "DrawMonth",
          "type": "integer"
         },
         {
          "name": "DrawWeek",
          "type": "integer"
         },
         {
          "name": "DrawDay",
          "type": "integer"
         },
         {
          "name": "DrawDayofweek",
          "type": "integer"
         },
         {
          "name": "DrawDayofyear",
          "type": "integer"
         },
         {
          "name": "DrawIs_month_end",
          "type": "boolean"
         },
         {
          "name": "DrawIs_month_start",
          "type": "boolean"
         },
         {
          "name": "DrawIs_quarter_end",
          "type": "boolean"
         },
         {
          "name": "DrawIs_quarter_start",
          "type": "boolean"
         },
         {
          "name": "DrawIs_year_end",
          "type": "boolean"
         },
         {
          "name": "DrawIs_year_start",
          "type": "boolean"
         },
         {
          "name": "DrawElapsed",
          "type": "integer"
         }
        ],
        "pandas_version": "0.20.0",
        "primaryKey": [
         "index"
        ]
       }
      },
      "text/html": [
       "<div>\n",
       "<style scoped>\n",
       "    .dataframe tbody tr th:only-of-type {\n",
       "        vertical-align: middle;\n",
       "    }\n",
       "\n",
       "    .dataframe tbody tr th {\n",
       "        vertical-align: top;\n",
       "    }\n",
       "\n",
       "    .dataframe thead th {\n",
       "        text-align: right;\n",
       "    }\n",
       "</style>\n",
       "<table border=\"1\" class=\"dataframe\">\n",
       "  <thead>\n",
       "    <tr style=\"text-align: right;\">\n",
       "      <th></th>\n",
       "      <th>DrawNo</th>\n",
       "      <th>DrawDate</th>\n",
       "      <th>PrizeType</th>\n",
       "      <th>LuckyNo</th>\n",
       "      <th>DrawYear</th>\n",
       "      <th>DrawMonth</th>\n",
       "      <th>DrawWeek</th>\n",
       "      <th>DrawDay</th>\n",
       "      <th>DrawDayofweek</th>\n",
       "      <th>DrawDayofyear</th>\n",
       "      <th>DrawIs_month_end</th>\n",
       "      <th>DrawIs_month_start</th>\n",
       "      <th>DrawIs_quarter_end</th>\n",
       "      <th>DrawIs_quarter_start</th>\n",
       "      <th>DrawIs_year_end</th>\n",
       "      <th>DrawIs_year_start</th>\n",
       "      <th>DrawElapsed</th>\n",
       "    </tr>\n",
       "  </thead>\n",
       "  <tbody>\n",
       "    <tr>\n",
       "      <th>0</th>\n",
       "      <td>40792</td>\n",
       "      <td>1992-05-06</td>\n",
       "      <td>1stPrizeNo</td>\n",
       "      <td>19</td>\n",
       "      <td>1992</td>\n",
       "      <td>5</td>\n",
       "      <td>19</td>\n",
       "      <td>6</td>\n",
       "      <td>2</td>\n",
       "      <td>127</td>\n",
       "      <td>False</td>\n",
       "      <td>False</td>\n",
       "      <td>False</td>\n",
       "      <td>False</td>\n",
       "      <td>False</td>\n",
       "      <td>False</td>\n",
       "      <td>705110400</td>\n",
       "    </tr>\n",
       "    <tr>\n",
       "      <th>1</th>\n",
       "      <td>40792</td>\n",
       "      <td>1992-05-06</td>\n",
       "      <td>2ndPrizeNo</td>\n",
       "      <td>1124</td>\n",
       "      <td>1992</td>\n",
       "      <td>5</td>\n",
       "      <td>19</td>\n",
       "      <td>6</td>\n",
       "      <td>2</td>\n",
       "      <td>127</td>\n",
       "      <td>False</td>\n",
       "      <td>False</td>\n",
       "      <td>False</td>\n",
       "      <td>False</td>\n",
       "      <td>False</td>\n",
       "      <td>False</td>\n",
       "      <td>705110400</td>\n",
       "    </tr>\n",
       "    <tr>\n",
       "      <th>2</th>\n",
       "      <td>40792</td>\n",
       "      <td>1992-05-06</td>\n",
       "      <td>3rdPrizeNo</td>\n",
       "      <td>592</td>\n",
       "      <td>1992</td>\n",
       "      <td>5</td>\n",
       "      <td>19</td>\n",
       "      <td>6</td>\n",
       "      <td>2</td>\n",
       "      <td>127</td>\n",
       "      <td>False</td>\n",
       "      <td>False</td>\n",
       "      <td>False</td>\n",
       "      <td>False</td>\n",
       "      <td>False</td>\n",
       "      <td>False</td>\n",
       "      <td>705110400</td>\n",
       "    </tr>\n",
       "    <tr>\n",
       "      <th>3</th>\n",
       "      <td>40792</td>\n",
       "      <td>1992-05-06</td>\n",
       "      <td>ConsolationNo1</td>\n",
       "      <td>5311</td>\n",
       "      <td>1992</td>\n",
       "      <td>5</td>\n",
       "      <td>19</td>\n",
       "      <td>6</td>\n",
       "      <td>2</td>\n",
       "      <td>127</td>\n",
       "      <td>False</td>\n",
       "      <td>False</td>\n",
       "      <td>False</td>\n",
       "      <td>False</td>\n",
       "      <td>False</td>\n",
       "      <td>False</td>\n",
       "      <td>705110400</td>\n",
       "    </tr>\n",
       "    <tr>\n",
       "      <th>4</th>\n",
       "      <td>40792</td>\n",
       "      <td>1992-05-06</td>\n",
       "      <td>ConsolationNo10</td>\n",
       "      <td>407</td>\n",
       "      <td>1992</td>\n",
       "      <td>5</td>\n",
       "      <td>19</td>\n",
       "      <td>6</td>\n",
       "      <td>2</td>\n",
       "      <td>127</td>\n",
       "      <td>False</td>\n",
       "      <td>False</td>\n",
       "      <td>False</td>\n",
       "      <td>False</td>\n",
       "      <td>False</td>\n",
       "      <td>False</td>\n",
       "      <td>705110400</td>\n",
       "    </tr>\n",
       "    <tr>\n",
       "      <th>5</th>\n",
       "      <td>40792</td>\n",
       "      <td>1992-05-06</td>\n",
       "      <td>ConsolationNo2</td>\n",
       "      <td>1949</td>\n",
       "      <td>1992</td>\n",
       "      <td>5</td>\n",
       "      <td>19</td>\n",
       "      <td>6</td>\n",
       "      <td>2</td>\n",
       "      <td>127</td>\n",
       "      <td>False</td>\n",
       "      <td>False</td>\n",
       "      <td>False</td>\n",
       "      <td>False</td>\n",
       "      <td>False</td>\n",
       "      <td>False</td>\n",
       "      <td>705110400</td>\n",
       "    </tr>\n",
       "    <tr>\n",
       "      <th>6</th>\n",
       "      <td>40792</td>\n",
       "      <td>1992-05-06</td>\n",
       "      <td>ConsolationNo3</td>\n",
       "      <td>1606</td>\n",
       "      <td>1992</td>\n",
       "      <td>5</td>\n",
       "      <td>19</td>\n",
       "      <td>6</td>\n",
       "      <td>2</td>\n",
       "      <td>127</td>\n",
       "      <td>False</td>\n",
       "      <td>False</td>\n",
       "      <td>False</td>\n",
       "      <td>False</td>\n",
       "      <td>False</td>\n",
       "      <td>False</td>\n",
       "      <td>705110400</td>\n",
       "    </tr>\n",
       "    <tr>\n",
       "      <th>7</th>\n",
       "      <td>40792</td>\n",
       "      <td>1992-05-06</td>\n",
       "      <td>ConsolationNo4</td>\n",
       "      <td>3775</td>\n",
       "      <td>1992</td>\n",
       "      <td>5</td>\n",
       "      <td>19</td>\n",
       "      <td>6</td>\n",
       "      <td>2</td>\n",
       "      <td>127</td>\n",
       "      <td>False</td>\n",
       "      <td>False</td>\n",
       "      <td>False</td>\n",
       "      <td>False</td>\n",
       "      <td>False</td>\n",
       "      <td>False</td>\n",
       "      <td>705110400</td>\n",
       "    </tr>\n",
       "    <tr>\n",
       "      <th>8</th>\n",
       "      <td>40792</td>\n",
       "      <td>1992-05-06</td>\n",
       "      <td>ConsolationNo5</td>\n",
       "      <td>6226</td>\n",
       "      <td>1992</td>\n",
       "      <td>5</td>\n",
       "      <td>19</td>\n",
       "      <td>6</td>\n",
       "      <td>2</td>\n",
       "      <td>127</td>\n",
       "      <td>False</td>\n",
       "      <td>False</td>\n",
       "      <td>False</td>\n",
       "      <td>False</td>\n",
       "      <td>False</td>\n",
       "      <td>False</td>\n",
       "      <td>705110400</td>\n",
       "    </tr>\n",
       "    <tr>\n",
       "      <th>9</th>\n",
       "      <td>40792</td>\n",
       "      <td>1992-05-06</td>\n",
       "      <td>ConsolationNo6</td>\n",
       "      <td>1271</td>\n",
       "      <td>1992</td>\n",
       "      <td>5</td>\n",
       "      <td>19</td>\n",
       "      <td>6</td>\n",
       "      <td>2</td>\n",
       "      <td>127</td>\n",
       "      <td>False</td>\n",
       "      <td>False</td>\n",
       "      <td>False</td>\n",
       "      <td>False</td>\n",
       "      <td>False</td>\n",
       "      <td>False</td>\n",
       "      <td>705110400</td>\n",
       "    </tr>\n",
       "  </tbody>\n",
       "</table>\n",
       "</div>"
      ],
      "text/plain": [
       "   DrawNo   DrawDate        PrizeType  LuckyNo  DrawYear  DrawMonth  DrawWeek  \\\n",
       "0   40792 1992-05-06       1stPrizeNo       19      1992          5        19   \n",
       "1   40792 1992-05-06       2ndPrizeNo     1124      1992          5        19   \n",
       "2   40792 1992-05-06       3rdPrizeNo      592      1992          5        19   \n",
       "3   40792 1992-05-06   ConsolationNo1     5311      1992          5        19   \n",
       "4   40792 1992-05-06  ConsolationNo10      407      1992          5        19   \n",
       "5   40792 1992-05-06   ConsolationNo2     1949      1992          5        19   \n",
       "6   40792 1992-05-06   ConsolationNo3     1606      1992          5        19   \n",
       "7   40792 1992-05-06   ConsolationNo4     3775      1992          5        19   \n",
       "8   40792 1992-05-06   ConsolationNo5     6226      1992          5        19   \n",
       "9   40792 1992-05-06   ConsolationNo6     1271      1992          5        19   \n",
       "\n",
       "   DrawDay  DrawDayofweek  DrawDayofyear  DrawIs_month_end  \\\n",
       "0        6              2            127             False   \n",
       "1        6              2            127             False   \n",
       "2        6              2            127             False   \n",
       "3        6              2            127             False   \n",
       "4        6              2            127             False   \n",
       "5        6              2            127             False   \n",
       "6        6              2            127             False   \n",
       "7        6              2            127             False   \n",
       "8        6              2            127             False   \n",
       "9        6              2            127             False   \n",
       "\n",
       "   DrawIs_month_start  DrawIs_quarter_end  DrawIs_quarter_start  \\\n",
       "0               False               False                 False   \n",
       "1               False               False                 False   \n",
       "2               False               False                 False   \n",
       "3               False               False                 False   \n",
       "4               False               False                 False   \n",
       "5               False               False                 False   \n",
       "6               False               False                 False   \n",
       "7               False               False                 False   \n",
       "8               False               False                 False   \n",
       "9               False               False                 False   \n",
       "\n",
       "   DrawIs_year_end  DrawIs_year_start  DrawElapsed  \n",
       "0            False              False    705110400  \n",
       "1            False              False    705110400  \n",
       "2            False              False    705110400  \n",
       "3            False              False    705110400  \n",
       "4            False              False    705110400  \n",
       "5            False              False    705110400  \n",
       "6            False              False    705110400  \n",
       "7            False              False    705110400  \n",
       "8            False              False    705110400  \n",
       "9            False              False    705110400  "
      ]
     },
     "execution_count": 202,
     "metadata": {},
     "output_type": "execute_result"
    }
   ],
   "source": [
    "# Split the date into year, month, day, day of week\n",
    "# df_transformed[\"DrawYear\"] = pd.DatetimeIndex(df_transformed[\"DrawDate\"]).year\n",
    "# df_transformed[\"DrawMonth\"] = pd.DatetimeIndex(df_transformed[\"DrawDate\"]).month\n",
    "# df_transformed[\"DrawDay\"] = pd.DatetimeIndex(df_transformed[\"DrawDate\"]).day\n",
    "# df_transformed[\"DrawDayOfYear\"] = pd.DatetimeIndex(df_transformed[\"DrawDate\"]).dayofyear\n",
    "# df_transformed[\"DrawDayOfWeek\"] = pd.DatetimeIndex(df_transformed[\"DrawDate\"]).dayofweek\n",
    "# df_transformed[\"DrawWeekDay\"] = pd.DatetimeIndex(df_transformed[\"DrawDate\"]).weekday\n",
    "# df_transformed[\"DrawWeekOfYear\"] = pd.DatetimeIndex(df_transformed[\"DrawDate\"]).weekofyear\n",
    "# df_transformed[\"DrawQuarter\"] = pd.DatetimeIndex(df_transformed[\"DrawDate\"]).quarter\n",
    "df_processed = df_transposed.copy()\n",
    "add_datepart(df_processed, 'DrawDate', drop=False)\n",
    "df_processed.head(10)"
   ]
  },
  {
   "cell_type": "markdown",
   "metadata": {},
   "source": [
    "### Field Variables"
   ]
  },
  {
   "cell_type": "code",
   "execution_count": 203,
   "metadata": {},
   "outputs": [],
   "source": [
    "# Outcome to predict\n",
    "dep_var = \"LuckyNo\""
   ]
  },
  {
   "cell_type": "markdown",
   "metadata": {
    "colab_type": "text",
    "id": "tIfpzBPOcwaz"
   },
   "source": [
    "### Train and Validation Split"
   ]
  },
  {
   "cell_type": "code",
   "execution_count": 204,
   "metadata": {
    "colab": {
     "base_uri": "https://localhost:8080/",
     "height": 34
    },
    "colab_type": "code",
    "id": "migCiR94cwa1",
    "outputId": "39cc9b94-02e0-4330-f550-a3cf7124a7dc"
   },
   "outputs": [
    {
     "data": {
      "text/plain": [
       "104282"
      ]
     },
     "execution_count": 204,
     "metadata": {},
     "output_type": "execute_result"
    }
   ],
   "source": [
    "n = len(df_processed); n"
   ]
  },
  {
   "cell_type": "code",
   "execution_count": 205,
   "metadata": {
    "colab": {},
    "colab_type": "code",
    "id": "BvVWP2DtrN9Z"
   },
   "outputs": [
    {
     "name": "stdout",
     "output_type": "stream",
     "text": [
      "104282\n",
      "104282\n"
     ]
    }
   ],
   "source": [
    "from sklearn.model_selection import train_test_split\n",
    "\n",
    "X = df_processed.copy()\n",
    "y = X[dep_var]; \n",
    "print(len(X))\n",
    "print(len(y))"
   ]
  },
  {
   "cell_type": "code",
   "execution_count": 206,
   "metadata": {},
   "outputs": [
    {
     "data": {
      "application/vnd.dataresource+json": {
       "data": [
        {
         "DrawDate": "1992-05-06T00:00:00.000Z",
         "DrawDay": 6,
         "DrawDayofweek": 2,
         "DrawDayofyear": 127,
         "DrawElapsed": 705110400,
         "DrawIs_month_end": false,
         "DrawIs_month_start": false,
         "DrawIs_quarter_end": false,
         "DrawIs_quarter_start": false,
         "DrawIs_year_end": false,
         "DrawIs_year_start": false,
         "DrawMonth": 5,
         "DrawNo": 40792,
         "DrawWeek": 19,
         "DrawYear": 1992,
         "PrizeType": "1stPrizeNo",
         "index": 0
        }
       ],
       "schema": {
        "fields": [
         {
          "name": "index",
          "type": "integer"
         },
         {
          "name": "DrawNo",
          "type": "integer"
         },
         {
          "name": "DrawDate",
          "type": "datetime"
         },
         {
          "name": "PrizeType",
          "type": "string"
         },
         {
          "name": "DrawYear",
          "type": "integer"
         },
         {
          "name": "DrawMonth",
          "type": "integer"
         },
         {
          "name": "DrawWeek",
          "type": "integer"
         },
         {
          "name": "DrawDay",
          "type": "integer"
         },
         {
          "name": "DrawDayofweek",
          "type": "integer"
         },
         {
          "name": "DrawDayofyear",
          "type": "integer"
         },
         {
          "name": "DrawIs_month_end",
          "type": "boolean"
         },
         {
          "name": "DrawIs_month_start",
          "type": "boolean"
         },
         {
          "name": "DrawIs_quarter_end",
          "type": "boolean"
         },
         {
          "name": "DrawIs_quarter_start",
          "type": "boolean"
         },
         {
          "name": "DrawIs_year_end",
          "type": "boolean"
         },
         {
          "name": "DrawIs_year_start",
          "type": "boolean"
         },
         {
          "name": "DrawElapsed",
          "type": "integer"
         }
        ],
        "pandas_version": "0.20.0",
        "primaryKey": [
         "index"
        ]
       }
      },
      "text/html": [
       "<div>\n",
       "<style scoped>\n",
       "    .dataframe tbody tr th:only-of-type {\n",
       "        vertical-align: middle;\n",
       "    }\n",
       "\n",
       "    .dataframe tbody tr th {\n",
       "        vertical-align: top;\n",
       "    }\n",
       "\n",
       "    .dataframe thead th {\n",
       "        text-align: right;\n",
       "    }\n",
       "</style>\n",
       "<table border=\"1\" class=\"dataframe\">\n",
       "  <thead>\n",
       "    <tr style=\"text-align: right;\">\n",
       "      <th></th>\n",
       "      <th>DrawNo</th>\n",
       "      <th>DrawDate</th>\n",
       "      <th>PrizeType</th>\n",
       "      <th>DrawYear</th>\n",
       "      <th>DrawMonth</th>\n",
       "      <th>DrawWeek</th>\n",
       "      <th>DrawDay</th>\n",
       "      <th>DrawDayofweek</th>\n",
       "      <th>DrawDayofyear</th>\n",
       "      <th>DrawIs_month_end</th>\n",
       "      <th>DrawIs_month_start</th>\n",
       "      <th>DrawIs_quarter_end</th>\n",
       "      <th>DrawIs_quarter_start</th>\n",
       "      <th>DrawIs_year_end</th>\n",
       "      <th>DrawIs_year_start</th>\n",
       "      <th>DrawElapsed</th>\n",
       "    </tr>\n",
       "  </thead>\n",
       "  <tbody>\n",
       "    <tr>\n",
       "      <th>0</th>\n",
       "      <td>40792</td>\n",
       "      <td>1992-05-06</td>\n",
       "      <td>1stPrizeNo</td>\n",
       "      <td>1992</td>\n",
       "      <td>5</td>\n",
       "      <td>19</td>\n",
       "      <td>6</td>\n",
       "      <td>2</td>\n",
       "      <td>127</td>\n",
       "      <td>False</td>\n",
       "      <td>False</td>\n",
       "      <td>False</td>\n",
       "      <td>False</td>\n",
       "      <td>False</td>\n",
       "      <td>False</td>\n",
       "      <td>705110400</td>\n",
       "    </tr>\n",
       "  </tbody>\n",
       "</table>\n",
       "</div>"
      ],
      "text/plain": [
       "   DrawNo   DrawDate   PrizeType  DrawYear  DrawMonth  DrawWeek  DrawDay  \\\n",
       "0   40792 1992-05-06  1stPrizeNo      1992          5        19        6   \n",
       "\n",
       "   DrawDayofweek  DrawDayofyear  DrawIs_month_end  DrawIs_month_start  \\\n",
       "0              2            127             False               False   \n",
       "\n",
       "   DrawIs_quarter_end  DrawIs_quarter_start  DrawIs_year_end  \\\n",
       "0               False                 False            False   \n",
       "\n",
       "   DrawIs_year_start  DrawElapsed  \n",
       "0              False    705110400  "
      ]
     },
     "execution_count": 206,
     "metadata": {},
     "output_type": "execute_result"
    }
   ],
   "source": [
    "X.drop([dep_var], inplace=True, axis=1)\n",
    "X.head(1)"
   ]
  },
  {
   "cell_type": "code",
   "execution_count": 207,
   "metadata": {},
   "outputs": [],
   "source": [
    "X_train, X_test, y_train, y_test = train_test_split(X, y, test_size=0.3, random_state=42)"
   ]
  },
  {
   "cell_type": "code",
   "execution_count": 208,
   "metadata": {},
   "outputs": [
    {
     "name": "stdout",
     "output_type": "stream",
     "text": [
      "72997\n",
      "31285\n",
      "72997\n",
      "31285\n"
     ]
    }
   ],
   "source": [
    "print(len(X_train)); print(len(X_test)); print(len(y_train)); print(len(y_test))"
   ]
  },
  {
   "cell_type": "markdown",
   "metadata": {},
   "source": [
    "### Assignment"
   ]
  },
  {
   "cell_type": "code",
   "execution_count": 209,
   "metadata": {
    "colab": {},
    "colab_type": "code",
    "id": "OzquwRh6rNr5"
   },
   "outputs": [],
   "source": [
    "train_df = df_processed"
   ]
  },
  {
   "cell_type": "markdown",
   "metadata": {
    "colab_type": "text",
    "id": "o8-_uHW0waOU"
   },
   "source": [
    "## Experiment with a sample"
   ]
  },
  {
   "cell_type": "code",
   "execution_count": 210,
   "metadata": {
    "colab": {
     "base_uri": "https://localhost:8080/",
     "height": 374
    },
    "colab_type": "code",
    "id": "9dm_l8Xqs6yq",
    "outputId": "5553c340-8edd-4e0b-fbdf-789dbfca9e99"
   },
   "outputs": [
    {
     "name": "stdout",
     "output_type": "stream",
     "text": [
      "<class 'pandas.core.frame.DataFrame'>\n",
      "RangeIndex: 104282 entries, 0 to 104281\n",
      "Data columns (total 17 columns):\n",
      "DrawNo                  104282 non-null int64\n",
      "DrawDate                104282 non-null datetime64[ns]\n",
      "PrizeType               104282 non-null object\n",
      "LuckyNo                 104282 non-null int64\n",
      "DrawYear                104282 non-null int64\n",
      "DrawMonth               104282 non-null int64\n",
      "DrawWeek                104282 non-null int64\n",
      "DrawDay                 104282 non-null int64\n",
      "DrawDayofweek           104282 non-null int64\n",
      "DrawDayofyear           104282 non-null int64\n",
      "DrawIs_month_end        104282 non-null bool\n",
      "DrawIs_month_start      104282 non-null bool\n",
      "DrawIs_quarter_end      104282 non-null bool\n",
      "DrawIs_quarter_start    104282 non-null bool\n",
      "DrawIs_year_end         104282 non-null bool\n",
      "DrawIs_year_start       104282 non-null bool\n",
      "DrawElapsed             104282 non-null int64\n",
      "dtypes: bool(6), datetime64[ns](1), int64(9), object(1)\n",
      "memory usage: 9.3+ MB\n"
     ]
    }
   ],
   "source": [
    "train_df.info()"
   ]
  },
  {
   "cell_type": "code",
   "execution_count": 211,
   "metadata": {
    "colab": {
     "base_uri": "https://localhost:8080/",
     "height": 68
    },
    "colab_type": "code",
    "id": "nP6L7tltrM7U",
    "outputId": "3727b96c-76d6-4007-a3f7-d1f173593bbe"
   },
   "outputs": [
    {
     "name": "stdout",
     "output_type": "stream",
     "text": [
      "104282\n",
      "6000\n",
      "[     9     12     13     17 ... 104256 104265 104270 104277]\n"
     ]
    }
   ],
   "source": [
    "idx = np.random.permutation(range(n))[:6000]\n",
    "print(n)\n",
    "print(len(idx))\n",
    "\n",
    "idx.sort()\n",
    "print(idx)\n",
    "\n",
    "small_train_df = train_df.iloc[idx[:3000]]\n",
    "small_test_df = train_df.iloc[idx[3000:]]"
   ]
  },
  {
   "cell_type": "code",
   "execution_count": 212,
   "metadata": {
    "colab": {},
    "colab_type": "code",
    "id": "rfmvFeagrVBe"
   },
   "outputs": [],
   "source": [
    "# Set continuous and categorical columns\n",
    "small_cont_vars = [\"DrawNo\", \"DrawElapsed\"]\n",
    "small_cat_vars = [\"PrizeType\", \"DrawYear\", \"DrawMonth\", \"DrawWeek\", \"DrawDay\", \"DrawDayofweek\", \n",
    "                  \"DrawDayofyear\",\"DrawIs_month_end\",\"DrawIs_month_start\", \"DrawIs_quarter_end\", \"DrawIs_quarter_start\", \"DrawIs_year_end\", \"DrawIs_year_start\"]"
   ]
  },
  {
   "cell_type": "code",
   "execution_count": 213,
   "metadata": {
    "colab": {},
    "colab_type": "code",
    "id": "Ff3NsGryuU2m"
   },
   "outputs": [],
   "source": [
    "small_train_df = small_train_df[small_cat_vars + small_cont_vars + [dep_var]]\n",
    "small_test_df = small_test_df[small_cat_vars + small_cont_vars + [dep_var]]"
   ]
  },
  {
   "cell_type": "code",
   "execution_count": 214,
   "metadata": {
    "colab": {
     "base_uri": "https://localhost:8080/",
     "height": 224
    },
    "colab_type": "code",
    "id": "vraIDuPCur6N",
    "outputId": "cd48a1a1-6920-4e35-8a61-5d3cfdbd770a"
   },
   "outputs": [
    {
     "data": {
      "application/vnd.dataresource+json": {
       "data": [
        {
         "DrawDay": 6,
         "DrawDayofweek": 2,
         "DrawDayofyear": 127,
         "DrawElapsed": 705110400,
         "DrawIs_month_end": false,
         "DrawIs_month_start": false,
         "DrawIs_quarter_end": false,
         "DrawIs_quarter_start": false,
         "DrawIs_year_end": false,
         "DrawIs_year_start": false,
         "DrawMonth": 5,
         "DrawNo": 40792,
         "DrawWeek": 19,
         "DrawYear": 1992,
         "LuckyNo": 1271,
         "PrizeType": "ConsolationNo6",
         "index": 9
        },
        {
         "DrawDay": 6,
         "DrawDayofweek": 2,
         "DrawDayofyear": 127,
         "DrawElapsed": 705110400,
         "DrawIs_month_end": false,
         "DrawIs_month_start": false,
         "DrawIs_quarter_end": false,
         "DrawIs_quarter_start": false,
         "DrawIs_year_end": false,
         "DrawIs_year_start": false,
         "DrawMonth": 5,
         "DrawNo": 40792,
         "DrawWeek": 19,
         "DrawYear": 1992,
         "LuckyNo": 9258,
         "PrizeType": "ConsolationNo9",
         "index": 12
        },
        {
         "DrawDay": 6,
         "DrawDayofweek": 2,
         "DrawDayofyear": 127,
         "DrawElapsed": 705110400,
         "DrawIs_month_end": false,
         "DrawIs_month_start": false,
         "DrawIs_quarter_end": false,
         "DrawIs_quarter_start": false,
         "DrawIs_year_end": false,
         "DrawIs_year_start": false,
         "DrawMonth": 5,
         "DrawNo": 40792,
         "DrawWeek": 19,
         "DrawYear": 1992,
         "LuckyNo": 950,
         "PrizeType": "SpecialNo1",
         "index": 13
        },
        {
         "DrawDay": 6,
         "DrawDayofweek": 2,
         "DrawDayofyear": 127,
         "DrawElapsed": 705110400,
         "DrawIs_month_end": false,
         "DrawIs_month_start": false,
         "DrawIs_quarter_end": false,
         "DrawIs_quarter_start": false,
         "DrawIs_year_end": false,
         "DrawIs_year_start": false,
         "DrawMonth": 5,
         "DrawNo": 40792,
         "DrawWeek": 19,
         "DrawYear": 1992,
         "LuckyNo": 3114,
         "PrizeType": "SpecialNo4",
         "index": 17
        },
        {
         "DrawDay": 10,
         "DrawDayofweek": 6,
         "DrawDayofyear": 131,
         "DrawElapsed": 705456000,
         "DrawIs_month_end": false,
         "DrawIs_month_start": false,
         "DrawIs_quarter_end": false,
         "DrawIs_quarter_start": false,
         "DrawIs_year_end": false,
         "DrawIs_year_start": false,
         "DrawMonth": 5,
         "DrawNo": 40992,
         "DrawWeek": 19,
         "DrawYear": 1992,
         "LuckyNo": 5766,
         "PrizeType": "2ndPrizeNo",
         "index": 47
        }
       ],
       "schema": {
        "fields": [
         {
          "name": "index",
          "type": "integer"
         },
         {
          "name": "PrizeType",
          "type": "string"
         },
         {
          "name": "DrawYear",
          "type": "integer"
         },
         {
          "name": "DrawMonth",
          "type": "integer"
         },
         {
          "name": "DrawWeek",
          "type": "integer"
         },
         {
          "name": "DrawDay",
          "type": "integer"
         },
         {
          "name": "DrawDayofweek",
          "type": "integer"
         },
         {
          "name": "DrawDayofyear",
          "type": "integer"
         },
         {
          "name": "DrawIs_month_end",
          "type": "boolean"
         },
         {
          "name": "DrawIs_month_start",
          "type": "boolean"
         },
         {
          "name": "DrawIs_quarter_end",
          "type": "boolean"
         },
         {
          "name": "DrawIs_quarter_start",
          "type": "boolean"
         },
         {
          "name": "DrawIs_year_end",
          "type": "boolean"
         },
         {
          "name": "DrawIs_year_start",
          "type": "boolean"
         },
         {
          "name": "DrawNo",
          "type": "integer"
         },
         {
          "name": "DrawElapsed",
          "type": "integer"
         },
         {
          "name": "LuckyNo",
          "type": "integer"
         }
        ],
        "pandas_version": "0.20.0",
        "primaryKey": [
         "index"
        ]
       }
      },
      "text/html": [
       "<div>\n",
       "<style scoped>\n",
       "    .dataframe tbody tr th:only-of-type {\n",
       "        vertical-align: middle;\n",
       "    }\n",
       "\n",
       "    .dataframe tbody tr th {\n",
       "        vertical-align: top;\n",
       "    }\n",
       "\n",
       "    .dataframe thead th {\n",
       "        text-align: right;\n",
       "    }\n",
       "</style>\n",
       "<table border=\"1\" class=\"dataframe\">\n",
       "  <thead>\n",
       "    <tr style=\"text-align: right;\">\n",
       "      <th></th>\n",
       "      <th>PrizeType</th>\n",
       "      <th>DrawYear</th>\n",
       "      <th>DrawMonth</th>\n",
       "      <th>DrawWeek</th>\n",
       "      <th>DrawDay</th>\n",
       "      <th>DrawDayofweek</th>\n",
       "      <th>DrawDayofyear</th>\n",
       "      <th>DrawIs_month_end</th>\n",
       "      <th>DrawIs_month_start</th>\n",
       "      <th>DrawIs_quarter_end</th>\n",
       "      <th>DrawIs_quarter_start</th>\n",
       "      <th>DrawIs_year_end</th>\n",
       "      <th>DrawIs_year_start</th>\n",
       "      <th>DrawNo</th>\n",
       "      <th>DrawElapsed</th>\n",
       "      <th>LuckyNo</th>\n",
       "    </tr>\n",
       "  </thead>\n",
       "  <tbody>\n",
       "    <tr>\n",
       "      <th>9</th>\n",
       "      <td>ConsolationNo6</td>\n",
       "      <td>1992</td>\n",
       "      <td>5</td>\n",
       "      <td>19</td>\n",
       "      <td>6</td>\n",
       "      <td>2</td>\n",
       "      <td>127</td>\n",
       "      <td>False</td>\n",
       "      <td>False</td>\n",
       "      <td>False</td>\n",
       "      <td>False</td>\n",
       "      <td>False</td>\n",
       "      <td>False</td>\n",
       "      <td>40792</td>\n",
       "      <td>705110400</td>\n",
       "      <td>1271</td>\n",
       "    </tr>\n",
       "    <tr>\n",
       "      <th>12</th>\n",
       "      <td>ConsolationNo9</td>\n",
       "      <td>1992</td>\n",
       "      <td>5</td>\n",
       "      <td>19</td>\n",
       "      <td>6</td>\n",
       "      <td>2</td>\n",
       "      <td>127</td>\n",
       "      <td>False</td>\n",
       "      <td>False</td>\n",
       "      <td>False</td>\n",
       "      <td>False</td>\n",
       "      <td>False</td>\n",
       "      <td>False</td>\n",
       "      <td>40792</td>\n",
       "      <td>705110400</td>\n",
       "      <td>9258</td>\n",
       "    </tr>\n",
       "    <tr>\n",
       "      <th>13</th>\n",
       "      <td>SpecialNo1</td>\n",
       "      <td>1992</td>\n",
       "      <td>5</td>\n",
       "      <td>19</td>\n",
       "      <td>6</td>\n",
       "      <td>2</td>\n",
       "      <td>127</td>\n",
       "      <td>False</td>\n",
       "      <td>False</td>\n",
       "      <td>False</td>\n",
       "      <td>False</td>\n",
       "      <td>False</td>\n",
       "      <td>False</td>\n",
       "      <td>40792</td>\n",
       "      <td>705110400</td>\n",
       "      <td>950</td>\n",
       "    </tr>\n",
       "    <tr>\n",
       "      <th>17</th>\n",
       "      <td>SpecialNo4</td>\n",
       "      <td>1992</td>\n",
       "      <td>5</td>\n",
       "      <td>19</td>\n",
       "      <td>6</td>\n",
       "      <td>2</td>\n",
       "      <td>127</td>\n",
       "      <td>False</td>\n",
       "      <td>False</td>\n",
       "      <td>False</td>\n",
       "      <td>False</td>\n",
       "      <td>False</td>\n",
       "      <td>False</td>\n",
       "      <td>40792</td>\n",
       "      <td>705110400</td>\n",
       "      <td>3114</td>\n",
       "    </tr>\n",
       "    <tr>\n",
       "      <th>47</th>\n",
       "      <td>2ndPrizeNo</td>\n",
       "      <td>1992</td>\n",
       "      <td>5</td>\n",
       "      <td>19</td>\n",
       "      <td>10</td>\n",
       "      <td>6</td>\n",
       "      <td>131</td>\n",
       "      <td>False</td>\n",
       "      <td>False</td>\n",
       "      <td>False</td>\n",
       "      <td>False</td>\n",
       "      <td>False</td>\n",
       "      <td>False</td>\n",
       "      <td>40992</td>\n",
       "      <td>705456000</td>\n",
       "      <td>5766</td>\n",
       "    </tr>\n",
       "  </tbody>\n",
       "</table>\n",
       "</div>"
      ],
      "text/plain": [
       "         PrizeType  DrawYear  DrawMonth  DrawWeek  DrawDay  DrawDayofweek  \\\n",
       "9   ConsolationNo6      1992          5        19        6              2   \n",
       "12  ConsolationNo9      1992          5        19        6              2   \n",
       "13      SpecialNo1      1992          5        19        6              2   \n",
       "17      SpecialNo4      1992          5        19        6              2   \n",
       "47      2ndPrizeNo      1992          5        19       10              6   \n",
       "\n",
       "    DrawDayofyear  DrawIs_month_end  DrawIs_month_start  DrawIs_quarter_end  \\\n",
       "9             127             False               False               False   \n",
       "12            127             False               False               False   \n",
       "13            127             False               False               False   \n",
       "17            127             False               False               False   \n",
       "47            131             False               False               False   \n",
       "\n",
       "    DrawIs_quarter_start  DrawIs_year_end  DrawIs_year_start  DrawNo  \\\n",
       "9                  False            False              False   40792   \n",
       "12                 False            False              False   40792   \n",
       "13                 False            False              False   40792   \n",
       "17                 False            False              False   40792   \n",
       "47                 False            False              False   40992   \n",
       "\n",
       "    DrawElapsed  LuckyNo  \n",
       "9     705110400     1271  \n",
       "12    705110400     9258  \n",
       "13    705110400      950  \n",
       "17    705110400     3114  \n",
       "47    705456000     5766  "
      ]
     },
     "execution_count": 214,
     "metadata": {},
     "output_type": "execute_result"
    }
   ],
   "source": [
    "small_train_df.head(5)"
   ]
  },
  {
   "cell_type": "code",
   "execution_count": 215,
   "metadata": {
    "colab": {
     "base_uri": "https://localhost:8080/",
     "height": 224
    },
    "colab_type": "code",
    "id": "clcMP_asuvuB",
    "outputId": "da04ae02-7d67-4965-bcb6-bdc085ec728b"
   },
   "outputs": [
    {
     "data": {
      "application/vnd.dataresource+json": {
       "data": [
        {
         "DrawDay": 8,
         "DrawDayofweek": 5,
         "DrawDayofyear": 98,
         "DrawElapsed": 1144454400,
         "DrawIs_month_end": false,
         "DrawIs_month_start": false,
         "DrawIs_quarter_end": false,
         "DrawIs_quarter_start": false,
         "DrawIs_year_end": false,
         "DrawIs_year_start": false,
         "DrawMonth": 4,
         "DrawNo": 265506,
         "DrawWeek": 14,
         "DrawYear": 2006,
         "LuckyNo": 9945,
         "PrizeType": "ConsolationNo2",
         "index": 51686
        },
        {
         "DrawDay": 8,
         "DrawDayofweek": 5,
         "DrawDayofyear": 98,
         "DrawElapsed": 1144454400,
         "DrawIs_month_end": false,
         "DrawIs_month_start": false,
         "DrawIs_quarter_end": false,
         "DrawIs_quarter_start": false,
         "DrawIs_year_end": false,
         "DrawIs_year_start": false,
         "DrawMonth": 4,
         "DrawNo": 265506,
         "DrawWeek": 14,
         "DrawYear": 2006,
         "LuckyNo": 2813,
         "PrizeType": "ConsolationNo6",
         "index": 51690
        },
        {
         "DrawDay": 8,
         "DrawDayofweek": 5,
         "DrawDayofyear": 98,
         "DrawElapsed": 1144454400,
         "DrawIs_month_end": false,
         "DrawIs_month_start": false,
         "DrawIs_quarter_end": false,
         "DrawIs_quarter_start": false,
         "DrawIs_year_end": false,
         "DrawIs_year_start": false,
         "DrawMonth": 4,
         "DrawNo": 265506,
         "DrawWeek": 14,
         "DrawYear": 2006,
         "LuckyNo": 341,
         "PrizeType": "SpecialNo3",
         "index": 51697
        },
        {
         "DrawDay": 9,
         "DrawDayofweek": 6,
         "DrawDayofyear": 99,
         "DrawElapsed": 1144540800,
         "DrawIs_month_end": false,
         "DrawIs_month_start": false,
         "DrawIs_quarter_end": false,
         "DrawIs_quarter_start": false,
         "DrawIs_year_end": false,
         "DrawIs_year_start": false,
         "DrawMonth": 4,
         "DrawNo": 265606,
         "DrawWeek": 14,
         "DrawYear": 2006,
         "LuckyNo": 1462,
         "PrizeType": "ConsolationNo7",
         "index": 51714
        },
        {
         "DrawDay": 16,
         "DrawDayofweek": 6,
         "DrawDayofyear": 106,
         "DrawElapsed": 1145145600,
         "DrawIs_month_end": false,
         "DrawIs_month_start": false,
         "DrawIs_quarter_end": false,
         "DrawIs_quarter_start": false,
         "DrawIs_year_end": false,
         "DrawIs_year_start": false,
         "DrawMonth": 4,
         "DrawNo": 265906,
         "DrawWeek": 15,
         "DrawYear": 2006,
         "LuckyNo": 2889,
         "PrizeType": "ConsolationNo4",
         "index": 51780
        }
       ],
       "schema": {
        "fields": [
         {
          "name": "index",
          "type": "integer"
         },
         {
          "name": "PrizeType",
          "type": "string"
         },
         {
          "name": "DrawYear",
          "type": "integer"
         },
         {
          "name": "DrawMonth",
          "type": "integer"
         },
         {
          "name": "DrawWeek",
          "type": "integer"
         },
         {
          "name": "DrawDay",
          "type": "integer"
         },
         {
          "name": "DrawDayofweek",
          "type": "integer"
         },
         {
          "name": "DrawDayofyear",
          "type": "integer"
         },
         {
          "name": "DrawIs_month_end",
          "type": "boolean"
         },
         {
          "name": "DrawIs_month_start",
          "type": "boolean"
         },
         {
          "name": "DrawIs_quarter_end",
          "type": "boolean"
         },
         {
          "name": "DrawIs_quarter_start",
          "type": "boolean"
         },
         {
          "name": "DrawIs_year_end",
          "type": "boolean"
         },
         {
          "name": "DrawIs_year_start",
          "type": "boolean"
         },
         {
          "name": "DrawNo",
          "type": "integer"
         },
         {
          "name": "DrawElapsed",
          "type": "integer"
         },
         {
          "name": "LuckyNo",
          "type": "integer"
         }
        ],
        "pandas_version": "0.20.0",
        "primaryKey": [
         "index"
        ]
       }
      },
      "text/html": [
       "<div>\n",
       "<style scoped>\n",
       "    .dataframe tbody tr th:only-of-type {\n",
       "        vertical-align: middle;\n",
       "    }\n",
       "\n",
       "    .dataframe tbody tr th {\n",
       "        vertical-align: top;\n",
       "    }\n",
       "\n",
       "    .dataframe thead th {\n",
       "        text-align: right;\n",
       "    }\n",
       "</style>\n",
       "<table border=\"1\" class=\"dataframe\">\n",
       "  <thead>\n",
       "    <tr style=\"text-align: right;\">\n",
       "      <th></th>\n",
       "      <th>PrizeType</th>\n",
       "      <th>DrawYear</th>\n",
       "      <th>DrawMonth</th>\n",
       "      <th>DrawWeek</th>\n",
       "      <th>DrawDay</th>\n",
       "      <th>DrawDayofweek</th>\n",
       "      <th>DrawDayofyear</th>\n",
       "      <th>DrawIs_month_end</th>\n",
       "      <th>DrawIs_month_start</th>\n",
       "      <th>DrawIs_quarter_end</th>\n",
       "      <th>DrawIs_quarter_start</th>\n",
       "      <th>DrawIs_year_end</th>\n",
       "      <th>DrawIs_year_start</th>\n",
       "      <th>DrawNo</th>\n",
       "      <th>DrawElapsed</th>\n",
       "      <th>LuckyNo</th>\n",
       "    </tr>\n",
       "  </thead>\n",
       "  <tbody>\n",
       "    <tr>\n",
       "      <th>51686</th>\n",
       "      <td>ConsolationNo2</td>\n",
       "      <td>2006</td>\n",
       "      <td>4</td>\n",
       "      <td>14</td>\n",
       "      <td>8</td>\n",
       "      <td>5</td>\n",
       "      <td>98</td>\n",
       "      <td>False</td>\n",
       "      <td>False</td>\n",
       "      <td>False</td>\n",
       "      <td>False</td>\n",
       "      <td>False</td>\n",
       "      <td>False</td>\n",
       "      <td>265506</td>\n",
       "      <td>1144454400</td>\n",
       "      <td>9945</td>\n",
       "    </tr>\n",
       "    <tr>\n",
       "      <th>51690</th>\n",
       "      <td>ConsolationNo6</td>\n",
       "      <td>2006</td>\n",
       "      <td>4</td>\n",
       "      <td>14</td>\n",
       "      <td>8</td>\n",
       "      <td>5</td>\n",
       "      <td>98</td>\n",
       "      <td>False</td>\n",
       "      <td>False</td>\n",
       "      <td>False</td>\n",
       "      <td>False</td>\n",
       "      <td>False</td>\n",
       "      <td>False</td>\n",
       "      <td>265506</td>\n",
       "      <td>1144454400</td>\n",
       "      <td>2813</td>\n",
       "    </tr>\n",
       "    <tr>\n",
       "      <th>51697</th>\n",
       "      <td>SpecialNo3</td>\n",
       "      <td>2006</td>\n",
       "      <td>4</td>\n",
       "      <td>14</td>\n",
       "      <td>8</td>\n",
       "      <td>5</td>\n",
       "      <td>98</td>\n",
       "      <td>False</td>\n",
       "      <td>False</td>\n",
       "      <td>False</td>\n",
       "      <td>False</td>\n",
       "      <td>False</td>\n",
       "      <td>False</td>\n",
       "      <td>265506</td>\n",
       "      <td>1144454400</td>\n",
       "      <td>341</td>\n",
       "    </tr>\n",
       "    <tr>\n",
       "      <th>51714</th>\n",
       "      <td>ConsolationNo7</td>\n",
       "      <td>2006</td>\n",
       "      <td>4</td>\n",
       "      <td>14</td>\n",
       "      <td>9</td>\n",
       "      <td>6</td>\n",
       "      <td>99</td>\n",
       "      <td>False</td>\n",
       "      <td>False</td>\n",
       "      <td>False</td>\n",
       "      <td>False</td>\n",
       "      <td>False</td>\n",
       "      <td>False</td>\n",
       "      <td>265606</td>\n",
       "      <td>1144540800</td>\n",
       "      <td>1462</td>\n",
       "    </tr>\n",
       "    <tr>\n",
       "      <th>51780</th>\n",
       "      <td>ConsolationNo4</td>\n",
       "      <td>2006</td>\n",
       "      <td>4</td>\n",
       "      <td>15</td>\n",
       "      <td>16</td>\n",
       "      <td>6</td>\n",
       "      <td>106</td>\n",
       "      <td>False</td>\n",
       "      <td>False</td>\n",
       "      <td>False</td>\n",
       "      <td>False</td>\n",
       "      <td>False</td>\n",
       "      <td>False</td>\n",
       "      <td>265906</td>\n",
       "      <td>1145145600</td>\n",
       "      <td>2889</td>\n",
       "    </tr>\n",
       "  </tbody>\n",
       "</table>\n",
       "</div>"
      ],
      "text/plain": [
       "            PrizeType  DrawYear  DrawMonth  DrawWeek  DrawDay  DrawDayofweek  \\\n",
       "51686  ConsolationNo2      2006          4        14        8              5   \n",
       "51690  ConsolationNo6      2006          4        14        8              5   \n",
       "51697      SpecialNo3      2006          4        14        8              5   \n",
       "51714  ConsolationNo7      2006          4        14        9              6   \n",
       "51780  ConsolationNo4      2006          4        15       16              6   \n",
       "\n",
       "       DrawDayofyear  DrawIs_month_end  DrawIs_month_start  \\\n",
       "51686             98             False               False   \n",
       "51690             98             False               False   \n",
       "51697             98             False               False   \n",
       "51714             99             False               False   \n",
       "51780            106             False               False   \n",
       "\n",
       "       DrawIs_quarter_end  DrawIs_quarter_start  DrawIs_year_end  \\\n",
       "51686               False                 False            False   \n",
       "51690               False                 False            False   \n",
       "51697               False                 False            False   \n",
       "51714               False                 False            False   \n",
       "51780               False                 False            False   \n",
       "\n",
       "       DrawIs_year_start  DrawNo  DrawElapsed  LuckyNo  \n",
       "51686              False  265506   1144454400     9945  \n",
       "51690              False  265506   1144454400     2813  \n",
       "51697              False  265506   1144454400      341  \n",
       "51714              False  265606   1144540800     1462  \n",
       "51780              False  265906   1145145600     2889  "
      ]
     },
     "execution_count": 215,
     "metadata": {},
     "output_type": "execute_result"
    }
   ],
   "source": [
    "small_test_df.head(5)"
   ]
  },
  {
   "cell_type": "code",
   "execution_count": 216,
   "metadata": {
    "colab": {},
    "colab_type": "code",
    "id": "09XGqEUku4Bl"
   },
   "outputs": [],
   "source": [
    "categorify = Categorify(small_cat_vars, small_cont_vars)\n",
    "categorify(small_train_df)\n",
    "categorify(small_test_df, test=True)"
   ]
  },
  {
   "cell_type": "code",
   "execution_count": 217,
   "metadata": {
    "colab": {
     "base_uri": "https://localhost:8080/",
     "height": 85
    },
    "colab_type": "code",
    "id": "enAi7pjWvCoA",
    "outputId": "4743f5d2-74e1-4ff4-fca8-66e6a1f7f29a"
   },
   "outputs": [
    {
     "data": {
      "text/plain": [
       "Index(['1stPrizeNo', '2ndPrizeNo', '3rdPrizeNo', 'ConsolationNo1',\n",
       "       'ConsolationNo10', 'ConsolationNo2', 'ConsolationNo3', 'ConsolationNo4',\n",
       "       'ConsolationNo5', 'ConsolationNo6', 'ConsolationNo7', 'ConsolationNo8',\n",
       "       'ConsolationNo9', 'SpecialNo1', 'SpecialNo10', 'SpecialNo2',\n",
       "       'SpecialNo3', 'SpecialNo4', 'SpecialNo5', 'SpecialNo6', 'SpecialNo7',\n",
       "       'SpecialNo8', 'SpecialNo9'],\n",
       "      dtype='object')"
      ]
     },
     "execution_count": 217,
     "metadata": {},
     "output_type": "execute_result"
    }
   ],
   "source": [
    "small_train_df.PrizeType.cat.categories"
   ]
  },
  {
   "cell_type": "code",
   "execution_count": 218,
   "metadata": {
    "colab": {
     "base_uri": "https://localhost:8080/",
     "height": 204
    },
    "colab_type": "code",
    "id": "zKbHZ3xYvIFv",
    "outputId": "03d9b410-060d-4d9b-d055-2a1e4b4992d5"
   },
   "outputs": [
    {
     "data": {
      "application/vnd.dataresource+json": {
       "data": [
        {
         "index": 9,
         "values": 9
        },
        {
         "index": 12,
         "values": 12
        },
        {
         "index": 13,
         "values": 13
        },
        {
         "index": 17,
         "values": 17
        },
        {
         "index": 47,
         "values": 1
        },
        {
         "index": 50,
         "values": 4
        },
        {
         "index": 57,
         "values": 11
        },
        {
         "index": 60,
         "values": 14
        },
        {
         "index": 81,
         "values": 12
        },
        {
         "index": 85,
         "values": 16
        }
       ],
       "schema": {
        "fields": [
         {
          "name": "index",
          "type": "integer"
         },
         {
          "name": "values",
          "type": "integer"
         }
        ],
        "pandas_version": "0.20.0",
        "primaryKey": [
         "index"
        ]
       }
      },
      "text/plain": [
       "9      9\n",
       "12    12\n",
       "13    13\n",
       "17    17\n",
       "47     1\n",
       "50     4\n",
       "57    11\n",
       "60    14\n",
       "81    12\n",
       "85    16\n",
       "dtype: int8"
      ]
     },
     "execution_count": 218,
     "metadata": {},
     "output_type": "execute_result"
    }
   ],
   "source": [
    "small_train_df.PrizeType.cat.codes[:10]"
   ]
  },
  {
   "cell_type": "code",
   "execution_count": 219,
   "metadata": {},
   "outputs": [
    {
     "data": {
      "application/vnd.dataresource+json": {
       "data": [
        {
         "PrizeType": "ConsolationNo6",
         "index": 9
        },
        {
         "PrizeType": "ConsolationNo9",
         "index": 12
        },
        {
         "PrizeType": "SpecialNo1",
         "index": 13
        },
        {
         "PrizeType": "SpecialNo4",
         "index": 17
        },
        {
         "PrizeType": "2ndPrizeNo",
         "index": 47
        },
        {
         "PrizeType": "ConsolationNo10",
         "index": 50
        },
        {
         "PrizeType": "ConsolationNo8",
         "index": 57
        },
        {
         "PrizeType": "SpecialNo10",
         "index": 60
        },
        {
         "PrizeType": "ConsolationNo9",
         "index": 81
        },
        {
         "PrizeType": "SpecialNo3",
         "index": 85
        }
       ],
       "schema": {
        "fields": [
         {
          "name": "index",
          "type": "integer"
         },
         {
          "constraints": {
           "enum": [
            "1stPrizeNo",
            "2ndPrizeNo",
            "3rdPrizeNo",
            "ConsolationNo1",
            "ConsolationNo10",
            "ConsolationNo2",
            "ConsolationNo3",
            "ConsolationNo4",
            "ConsolationNo5",
            "ConsolationNo6",
            "ConsolationNo7",
            "ConsolationNo8",
            "ConsolationNo9",
            "SpecialNo1",
            "SpecialNo10",
            "SpecialNo2",
            "SpecialNo3",
            "SpecialNo4",
            "SpecialNo5",
            "SpecialNo6",
            "SpecialNo7",
            "SpecialNo8",
            "SpecialNo9"
           ]
          },
          "name": "PrizeType",
          "ordered": true,
          "type": "any"
         }
        ],
        "pandas_version": "0.20.0",
        "primaryKey": [
         "index"
        ]
       }
      },
      "text/plain": [
       "9      ConsolationNo6\n",
       "12     ConsolationNo9\n",
       "13         SpecialNo1\n",
       "17         SpecialNo4\n",
       "47         2ndPrizeNo\n",
       "50    ConsolationNo10\n",
       "57     ConsolationNo8\n",
       "60        SpecialNo10\n",
       "81     ConsolationNo9\n",
       "85         SpecialNo3\n",
       "Name: PrizeType, dtype: category\n",
       "Categories (23, object): [1stPrizeNo < 2ndPrizeNo < 3rdPrizeNo < ConsolationNo1 ... SpecialNo6 < SpecialNo7 < SpecialNo8 < SpecialNo9]"
      ]
     },
     "execution_count": 219,
     "metadata": {},
     "output_type": "execute_result"
    }
   ],
   "source": [
    "small_train_df.PrizeType.head(10)"
   ]
  },
  {
   "cell_type": "code",
   "execution_count": 220,
   "metadata": {
    "colab": {},
    "colab_type": "code",
    "id": "4lTp1pX4v-kk"
   },
   "outputs": [],
   "source": [
    "fill_missing = FillMissing(small_cat_vars, small_cont_vars)\n",
    "fill_missing(small_train_df)\n",
    "fill_missing(small_test_df, test=True)"
   ]
  },
  {
   "cell_type": "code",
   "execution_count": 221,
   "metadata": {
    "colab": {
     "base_uri": "https://localhost:8080/",
     "height": 243
    },
    "colab_type": "code",
    "id": "Lnc36v4_wPej",
    "outputId": "e878a467-a9b5-4de0-b14e-06c71333b1c1"
   },
   "outputs": [
    {
     "data": {
      "text/html": [
       "<h2 id=\"FillMissing\"><code>class</code> <code>FillMissing</code><a href=\"https://github.com/fastai/fastai/blob/master/fastai/tabular/transform.py#L68\" class=\"source_link\">[source]</a></h2><blockquote><p><code>FillMissing</code>(<b>`cat_names`</b>:<code>StrList</code>, <b>`cont_names`</b>:<code>StrList</code>, <b>`fill_strategy`</b>:<a href=\"https://docs.fast.ai/tabular.transform.html#FillStrategy\"><code>FillStrategy</code></a>=<b><i>`<FillStrategy.MEDIAN: 1>`</i></b>, <b>`add_col`</b>:<code>bool</code>=<b><i>`True`</i></b>, <b>`fill_val`</b>:<code>float</code>=<b><i>`0.0`</i></b>) :: <a href=\"https://docs.fast.ai/tabular.transform.html#TabularProc\"><code>TabularProc</code></a></p>\n",
       "</blockquote>\n",
       "<p>Fill the missing values in continuous columns.</p>\n",
       "<p><a href=\"https://docs.fast.ai/tabular.transform.html#FillMissing\" target=\"_blank\" rel=\"noreferrer noopener\">Show in docs</a></p>\n"
      ]
     },
     "metadata": {},
     "output_type": "display_data"
    }
   ],
   "source": [
    "doc(FillMissing)"
   ]
  },
  {
   "cell_type": "code",
   "execution_count": 222,
   "metadata": {},
   "outputs": [
    {
     "data": {
      "text/plain": [
       "\u001b[0;31mInit signature:\u001b[0m \u001b[0mCategorify\u001b[0m\u001b[0;34m(\u001b[0m\u001b[0mcat_names\u001b[0m\u001b[0;34m:\u001b[0m \u001b[0mCollection\u001b[0m\u001b[0;34m[\u001b[0m\u001b[0mstr\u001b[0m\u001b[0;34m]\u001b[0m\u001b[0;34m,\u001b[0m \u001b[0mcont_names\u001b[0m\u001b[0;34m:\u001b[0m \u001b[0mCollection\u001b[0m\u001b[0;34m[\u001b[0m\u001b[0mstr\u001b[0m\u001b[0;34m]\u001b[0m\u001b[0;34m)\u001b[0m \u001b[0;34m->\u001b[0m \u001b[0;32mNone\u001b[0m\u001b[0;34m\u001b[0m\u001b[0;34m\u001b[0m\u001b[0m\n",
       "\u001b[0;31mSource:\u001b[0m        \n",
       "\u001b[0;32mclass\u001b[0m \u001b[0mCategorify\u001b[0m\u001b[0;34m(\u001b[0m\u001b[0mTabularProc\u001b[0m\u001b[0;34m)\u001b[0m\u001b[0;34m:\u001b[0m\u001b[0;34m\u001b[0m\n",
       "\u001b[0;34m\u001b[0m    \u001b[0;34m\"Transform the categorical variables to that type.\"\u001b[0m\u001b[0;34m\u001b[0m\n",
       "\u001b[0;34m\u001b[0m    \u001b[0;32mdef\u001b[0m \u001b[0mapply_train\u001b[0m\u001b[0;34m(\u001b[0m\u001b[0mself\u001b[0m\u001b[0;34m,\u001b[0m \u001b[0mdf\u001b[0m\u001b[0;34m:\u001b[0m\u001b[0mDataFrame\u001b[0m\u001b[0;34m)\u001b[0m\u001b[0;34m:\u001b[0m\u001b[0;34m\u001b[0m\n",
       "\u001b[0;34m\u001b[0m        \u001b[0;34m\"Transform `self.cat_names` columns in categorical.\"\u001b[0m\u001b[0;34m\u001b[0m\n",
       "\u001b[0;34m\u001b[0m        \u001b[0mself\u001b[0m\u001b[0;34m.\u001b[0m\u001b[0mcategories\u001b[0m \u001b[0;34m=\u001b[0m \u001b[0;34m{\u001b[0m\u001b[0;34m}\u001b[0m\u001b[0;34m\u001b[0m\n",
       "\u001b[0;34m\u001b[0m        \u001b[0;32mfor\u001b[0m \u001b[0mn\u001b[0m \u001b[0;32min\u001b[0m \u001b[0mself\u001b[0m\u001b[0;34m.\u001b[0m\u001b[0mcat_names\u001b[0m\u001b[0;34m:\u001b[0m\u001b[0;34m\u001b[0m\n",
       "\u001b[0;34m\u001b[0m            \u001b[0mdf\u001b[0m\u001b[0;34m.\u001b[0m\u001b[0mloc\u001b[0m\u001b[0;34m[\u001b[0m\u001b[0;34m:\u001b[0m\u001b[0;34m,\u001b[0m\u001b[0mn\u001b[0m\u001b[0;34m]\u001b[0m \u001b[0;34m=\u001b[0m \u001b[0mdf\u001b[0m\u001b[0;34m.\u001b[0m\u001b[0mloc\u001b[0m\u001b[0;34m[\u001b[0m\u001b[0;34m:\u001b[0m\u001b[0;34m,\u001b[0m\u001b[0mn\u001b[0m\u001b[0;34m]\u001b[0m\u001b[0;34m.\u001b[0m\u001b[0mastype\u001b[0m\u001b[0;34m(\u001b[0m\u001b[0;34m'category'\u001b[0m\u001b[0;34m)\u001b[0m\u001b[0;34m.\u001b[0m\u001b[0mcat\u001b[0m\u001b[0;34m.\u001b[0m\u001b[0mas_ordered\u001b[0m\u001b[0;34m(\u001b[0m\u001b[0;34m)\u001b[0m\u001b[0;34m\u001b[0m\n",
       "\u001b[0;34m\u001b[0m            \u001b[0mself\u001b[0m\u001b[0;34m.\u001b[0m\u001b[0mcategories\u001b[0m\u001b[0;34m[\u001b[0m\u001b[0mn\u001b[0m\u001b[0;34m]\u001b[0m \u001b[0;34m=\u001b[0m \u001b[0mdf\u001b[0m\u001b[0;34m[\u001b[0m\u001b[0mn\u001b[0m\u001b[0;34m]\u001b[0m\u001b[0;34m.\u001b[0m\u001b[0mcat\u001b[0m\u001b[0;34m.\u001b[0m\u001b[0mcategories\u001b[0m\u001b[0;34m\u001b[0m\n",
       "\u001b[0;34m\u001b[0m\u001b[0;34m\u001b[0m\n",
       "\u001b[0;34m\u001b[0m    \u001b[0;32mdef\u001b[0m \u001b[0mapply_test\u001b[0m\u001b[0;34m(\u001b[0m\u001b[0mself\u001b[0m\u001b[0;34m,\u001b[0m \u001b[0mdf\u001b[0m\u001b[0;34m:\u001b[0m\u001b[0mDataFrame\u001b[0m\u001b[0;34m)\u001b[0m\u001b[0;34m:\u001b[0m\u001b[0;34m\u001b[0m\n",
       "\u001b[0;34m\u001b[0m        \u001b[0;34m\"Transform `self.cat_names` columns in categorical using the codes decided in `apply_train`.\"\u001b[0m\u001b[0;34m\u001b[0m\n",
       "\u001b[0;34m\u001b[0m        \u001b[0;32mfor\u001b[0m \u001b[0mn\u001b[0m \u001b[0;32min\u001b[0m \u001b[0mself\u001b[0m\u001b[0;34m.\u001b[0m\u001b[0mcat_names\u001b[0m\u001b[0;34m:\u001b[0m\u001b[0;34m\u001b[0m\n",
       "\u001b[0;34m\u001b[0m            \u001b[0mdf\u001b[0m\u001b[0;34m.\u001b[0m\u001b[0mloc\u001b[0m\u001b[0;34m[\u001b[0m\u001b[0;34m:\u001b[0m\u001b[0;34m,\u001b[0m\u001b[0mn\u001b[0m\u001b[0;34m]\u001b[0m \u001b[0;34m=\u001b[0m \u001b[0mpd\u001b[0m\u001b[0;34m.\u001b[0m\u001b[0mCategorical\u001b[0m\u001b[0;34m(\u001b[0m\u001b[0mdf\u001b[0m\u001b[0;34m[\u001b[0m\u001b[0mn\u001b[0m\u001b[0;34m]\u001b[0m\u001b[0;34m,\u001b[0m \u001b[0mcategories\u001b[0m\u001b[0;34m=\u001b[0m\u001b[0mself\u001b[0m\u001b[0;34m.\u001b[0m\u001b[0mcategories\u001b[0m\u001b[0;34m[\u001b[0m\u001b[0mn\u001b[0m\u001b[0;34m]\u001b[0m\u001b[0;34m,\u001b[0m \u001b[0mordered\u001b[0m\u001b[0;34m=\u001b[0m\u001b[0;32mTrue\u001b[0m\u001b[0;34m)\u001b[0m\u001b[0;34m\u001b[0m\u001b[0;34m\u001b[0m\u001b[0m\n",
       "\u001b[0;31mFile:\u001b[0m           ~/anaconda3/lib/python3.7/site-packages/fastai/tabular/transform.py\n",
       "\u001b[0;31mType:\u001b[0m           type\n",
       "\u001b[0;31mSubclasses:\u001b[0m     \n"
      ]
     },
     "metadata": {},
     "output_type": "display_data"
    }
   ],
   "source": [
    "import inspect\n",
    "Categorify??"
   ]
  },
  {
   "cell_type": "code",
   "execution_count": 223,
   "metadata": {
    "colab": {
     "base_uri": "https://localhost:8080/",
     "height": 374
    },
    "colab_type": "code",
    "id": "tbsL5b0NwRRt",
    "outputId": "d74c3613-3064-4bd3-fe79-35fb06565972"
   },
   "outputs": [
    {
     "name": "stdout",
     "output_type": "stream",
     "text": [
      "<class 'pandas.core.frame.DataFrame'>\n",
      "Int64Index: 3000 entries, 9 to 51682\n",
      "Data columns (total 16 columns):\n",
      "PrizeType               3000 non-null category\n",
      "DrawYear                3000 non-null category\n",
      "DrawMonth               3000 non-null category\n",
      "DrawWeek                3000 non-null category\n",
      "DrawDay                 3000 non-null category\n",
      "DrawDayofweek           3000 non-null category\n",
      "DrawDayofyear           3000 non-null category\n",
      "DrawIs_month_end        3000 non-null category\n",
      "DrawIs_month_start      3000 non-null category\n",
      "DrawIs_quarter_end      3000 non-null category\n",
      "DrawIs_quarter_start    3000 non-null category\n",
      "DrawIs_year_end         3000 non-null category\n",
      "DrawIs_year_start       3000 non-null category\n",
      "DrawNo                  3000 non-null int64\n",
      "DrawElapsed             3000 non-null int64\n",
      "LuckyNo                 3000 non-null int64\n",
      "dtypes: category(13), int64(3)\n",
      "memory usage: 154.7 KB\n"
     ]
    }
   ],
   "source": [
    "small_train_df.info()"
   ]
  },
  {
   "cell_type": "code",
   "execution_count": null,
   "metadata": {},
   "outputs": [],
   "source": []
  },
  {
   "cell_type": "markdown",
   "metadata": {
    "colab_type": "text",
    "id": "CBHTYhMCwdem"
   },
   "source": [
    "## Preparing full data set"
   ]
  },
  {
   "cell_type": "code",
   "execution_count": 224,
   "metadata": {
    "colab": {},
    "colab_type": "code",
    "id": "4NdF0S1TwnLT"
   },
   "outputs": [
    {
     "name": "stdout",
     "output_type": "stream",
     "text": [
      "104282\n",
      "4534.0\n",
      "1992-05-06 00:00:00\n",
      "2019-05-01 00:00:00\n",
      "83425.6\n",
      "83421\n",
      "83421\n",
      "20861\n",
      "104282\n"
     ]
    }
   ],
   "source": [
    "n = len(df_processed)\n",
    "print(n)\n",
    "print(n/23)\n",
    "print(df_processed['DrawDate'].min())\n",
    "print(df_processed['DrawDate'].max())\n",
    "\n",
    "split_percent = 0.8\n",
    "idx = n * split_percent\n",
    "print(idx)\n",
    "idx = int(idx // 23 * 23)\n",
    "print(idx)\n",
    "\n",
    "train_df = df_processed[:idx]\n",
    "test_df = df_processed[idx:]\n",
    "print(len(train_df))\n",
    "print(len(test_df))\n",
    "print(len(train_df) + len(test_df))"
   ]
  },
  {
   "cell_type": "code",
   "execution_count": 225,
   "metadata": {},
   "outputs": [
    {
     "data": {
      "application/vnd.dataresource+json": {
       "data": [
        {
         "DrawDate": "1992-05-06T00:00:00.000Z",
         "DrawDay": 6,
         "DrawDayofweek": 2,
         "DrawDayofyear": 127,
         "DrawElapsed": 705110400,
         "DrawIs_month_end": false,
         "DrawIs_month_start": false,
         "DrawIs_quarter_end": false,
         "DrawIs_quarter_start": false,
         "DrawIs_year_end": false,
         "DrawIs_year_start": false,
         "DrawMonth": 5,
         "DrawNo": 40792,
         "DrawWeek": 19,
         "DrawYear": 1992,
         "LuckyNo": 19,
         "PrizeType": "1stPrizeNo",
         "index": 0
        },
        {
         "DrawDate": "1992-05-06T00:00:00.000Z",
         "DrawDay": 6,
         "DrawDayofweek": 2,
         "DrawDayofyear": 127,
         "DrawElapsed": 705110400,
         "DrawIs_month_end": false,
         "DrawIs_month_start": false,
         "DrawIs_quarter_end": false,
         "DrawIs_quarter_start": false,
         "DrawIs_year_end": false,
         "DrawIs_year_start": false,
         "DrawMonth": 5,
         "DrawNo": 40792,
         "DrawWeek": 19,
         "DrawYear": 1992,
         "LuckyNo": 1124,
         "PrizeType": "2ndPrizeNo",
         "index": 1
        }
       ],
       "schema": {
        "fields": [
         {
          "name": "index",
          "type": "integer"
         },
         {
          "name": "DrawNo",
          "type": "integer"
         },
         {
          "name": "DrawDate",
          "type": "datetime"
         },
         {
          "name": "PrizeType",
          "type": "string"
         },
         {
          "name": "LuckyNo",
          "type": "integer"
         },
         {
          "name": "DrawYear",
          "type": "integer"
         },
         {
          "name": "DrawMonth",
          "type": "integer"
         },
         {
          "name": "DrawWeek",
          "type": "integer"
         },
         {
          "name": "DrawDay",
          "type": "integer"
         },
         {
          "name": "DrawDayofweek",
          "type": "integer"
         },
         {
          "name": "DrawDayofyear",
          "type": "integer"
         },
         {
          "name": "DrawIs_month_end",
          "type": "boolean"
         },
         {
          "name": "DrawIs_month_start",
          "type": "boolean"
         },
         {
          "name": "DrawIs_quarter_end",
          "type": "boolean"
         },
         {
          "name": "DrawIs_quarter_start",
          "type": "boolean"
         },
         {
          "name": "DrawIs_year_end",
          "type": "boolean"
         },
         {
          "name": "DrawIs_year_start",
          "type": "boolean"
         },
         {
          "name": "DrawElapsed",
          "type": "integer"
         }
        ],
        "pandas_version": "0.20.0",
        "primaryKey": [
         "index"
        ]
       }
      },
      "text/html": [
       "<div>\n",
       "<style scoped>\n",
       "    .dataframe tbody tr th:only-of-type {\n",
       "        vertical-align: middle;\n",
       "    }\n",
       "\n",
       "    .dataframe tbody tr th {\n",
       "        vertical-align: top;\n",
       "    }\n",
       "\n",
       "    .dataframe thead th {\n",
       "        text-align: right;\n",
       "    }\n",
       "</style>\n",
       "<table border=\"1\" class=\"dataframe\">\n",
       "  <thead>\n",
       "    <tr style=\"text-align: right;\">\n",
       "      <th></th>\n",
       "      <th>DrawNo</th>\n",
       "      <th>DrawDate</th>\n",
       "      <th>PrizeType</th>\n",
       "      <th>LuckyNo</th>\n",
       "      <th>DrawYear</th>\n",
       "      <th>DrawMonth</th>\n",
       "      <th>DrawWeek</th>\n",
       "      <th>DrawDay</th>\n",
       "      <th>DrawDayofweek</th>\n",
       "      <th>DrawDayofyear</th>\n",
       "      <th>DrawIs_month_end</th>\n",
       "      <th>DrawIs_month_start</th>\n",
       "      <th>DrawIs_quarter_end</th>\n",
       "      <th>DrawIs_quarter_start</th>\n",
       "      <th>DrawIs_year_end</th>\n",
       "      <th>DrawIs_year_start</th>\n",
       "      <th>DrawElapsed</th>\n",
       "    </tr>\n",
       "  </thead>\n",
       "  <tbody>\n",
       "    <tr>\n",
       "      <th>0</th>\n",
       "      <td>40792</td>\n",
       "      <td>1992-05-06</td>\n",
       "      <td>1stPrizeNo</td>\n",
       "      <td>19</td>\n",
       "      <td>1992</td>\n",
       "      <td>5</td>\n",
       "      <td>19</td>\n",
       "      <td>6</td>\n",
       "      <td>2</td>\n",
       "      <td>127</td>\n",
       "      <td>False</td>\n",
       "      <td>False</td>\n",
       "      <td>False</td>\n",
       "      <td>False</td>\n",
       "      <td>False</td>\n",
       "      <td>False</td>\n",
       "      <td>705110400</td>\n",
       "    </tr>\n",
       "    <tr>\n",
       "      <th>1</th>\n",
       "      <td>40792</td>\n",
       "      <td>1992-05-06</td>\n",
       "      <td>2ndPrizeNo</td>\n",
       "      <td>1124</td>\n",
       "      <td>1992</td>\n",
       "      <td>5</td>\n",
       "      <td>19</td>\n",
       "      <td>6</td>\n",
       "      <td>2</td>\n",
       "      <td>127</td>\n",
       "      <td>False</td>\n",
       "      <td>False</td>\n",
       "      <td>False</td>\n",
       "      <td>False</td>\n",
       "      <td>False</td>\n",
       "      <td>False</td>\n",
       "      <td>705110400</td>\n",
       "    </tr>\n",
       "  </tbody>\n",
       "</table>\n",
       "</div>"
      ],
      "text/plain": [
       "   DrawNo   DrawDate   PrizeType  LuckyNo  DrawYear  DrawMonth  DrawWeek  \\\n",
       "0   40792 1992-05-06  1stPrizeNo       19      1992          5        19   \n",
       "1   40792 1992-05-06  2ndPrizeNo     1124      1992          5        19   \n",
       "\n",
       "   DrawDay  DrawDayofweek  DrawDayofyear  DrawIs_month_end  \\\n",
       "0        6              2            127             False   \n",
       "1        6              2            127             False   \n",
       "\n",
       "   DrawIs_month_start  DrawIs_quarter_end  DrawIs_quarter_start  \\\n",
       "0               False               False                 False   \n",
       "1               False               False                 False   \n",
       "\n",
       "   DrawIs_year_end  DrawIs_year_start  DrawElapsed  \n",
       "0            False              False    705110400  \n",
       "1            False              False    705110400  "
      ]
     },
     "execution_count": 225,
     "metadata": {},
     "output_type": "execute_result"
    }
   ],
   "source": [
    "train_df.head(2)"
   ]
  },
  {
   "cell_type": "code",
   "execution_count": 226,
   "metadata": {},
   "outputs": [
    {
     "data": {
      "application/vnd.dataresource+json": {
       "data": [
        {
         "DrawDate": "2014-03-25T00:00:00.000Z",
         "DrawDay": 25,
         "DrawDayofweek": 1,
         "DrawDayofyear": 84,
         "DrawElapsed": 1395705600,
         "DrawIs_month_end": false,
         "DrawIs_month_start": false,
         "DrawIs_quarter_end": false,
         "DrawIs_quarter_start": false,
         "DrawIs_year_end": false,
         "DrawIs_year_start": false,
         "DrawMonth": 3,
         "DrawNo": 403514,
         "DrawWeek": 13,
         "DrawYear": 2014,
         "LuckyNo": 1161,
         "PrizeType": "1stPrizeNo",
         "index": 83421
        }
       ],
       "schema": {
        "fields": [
         {
          "name": "index",
          "type": "integer"
         },
         {
          "name": "DrawNo",
          "type": "integer"
         },
         {
          "name": "DrawDate",
          "type": "datetime"
         },
         {
          "name": "PrizeType",
          "type": "string"
         },
         {
          "name": "LuckyNo",
          "type": "integer"
         },
         {
          "name": "DrawYear",
          "type": "integer"
         },
         {
          "name": "DrawMonth",
          "type": "integer"
         },
         {
          "name": "DrawWeek",
          "type": "integer"
         },
         {
          "name": "DrawDay",
          "type": "integer"
         },
         {
          "name": "DrawDayofweek",
          "type": "integer"
         },
         {
          "name": "DrawDayofyear",
          "type": "integer"
         },
         {
          "name": "DrawIs_month_end",
          "type": "boolean"
         },
         {
          "name": "DrawIs_month_start",
          "type": "boolean"
         },
         {
          "name": "DrawIs_quarter_end",
          "type": "boolean"
         },
         {
          "name": "DrawIs_quarter_start",
          "type": "boolean"
         },
         {
          "name": "DrawIs_year_end",
          "type": "boolean"
         },
         {
          "name": "DrawIs_year_start",
          "type": "boolean"
         },
         {
          "name": "DrawElapsed",
          "type": "integer"
         }
        ],
        "pandas_version": "0.20.0",
        "primaryKey": [
         "index"
        ]
       }
      },
      "text/html": [
       "<div>\n",
       "<style scoped>\n",
       "    .dataframe tbody tr th:only-of-type {\n",
       "        vertical-align: middle;\n",
       "    }\n",
       "\n",
       "    .dataframe tbody tr th {\n",
       "        vertical-align: top;\n",
       "    }\n",
       "\n",
       "    .dataframe thead th {\n",
       "        text-align: right;\n",
       "    }\n",
       "</style>\n",
       "<table border=\"1\" class=\"dataframe\">\n",
       "  <thead>\n",
       "    <tr style=\"text-align: right;\">\n",
       "      <th></th>\n",
       "      <th>DrawNo</th>\n",
       "      <th>DrawDate</th>\n",
       "      <th>PrizeType</th>\n",
       "      <th>LuckyNo</th>\n",
       "      <th>DrawYear</th>\n",
       "      <th>DrawMonth</th>\n",
       "      <th>DrawWeek</th>\n",
       "      <th>DrawDay</th>\n",
       "      <th>DrawDayofweek</th>\n",
       "      <th>DrawDayofyear</th>\n",
       "      <th>DrawIs_month_end</th>\n",
       "      <th>DrawIs_month_start</th>\n",
       "      <th>DrawIs_quarter_end</th>\n",
       "      <th>DrawIs_quarter_start</th>\n",
       "      <th>DrawIs_year_end</th>\n",
       "      <th>DrawIs_year_start</th>\n",
       "      <th>DrawElapsed</th>\n",
       "    </tr>\n",
       "  </thead>\n",
       "  <tbody>\n",
       "    <tr>\n",
       "      <th>83421</th>\n",
       "      <td>403514</td>\n",
       "      <td>2014-03-25</td>\n",
       "      <td>1stPrizeNo</td>\n",
       "      <td>1161</td>\n",
       "      <td>2014</td>\n",
       "      <td>3</td>\n",
       "      <td>13</td>\n",
       "      <td>25</td>\n",
       "      <td>1</td>\n",
       "      <td>84</td>\n",
       "      <td>False</td>\n",
       "      <td>False</td>\n",
       "      <td>False</td>\n",
       "      <td>False</td>\n",
       "      <td>False</td>\n",
       "      <td>False</td>\n",
       "      <td>1395705600</td>\n",
       "    </tr>\n",
       "  </tbody>\n",
       "</table>\n",
       "</div>"
      ],
      "text/plain": [
       "       DrawNo   DrawDate   PrizeType  LuckyNo  DrawYear  DrawMonth  DrawWeek  \\\n",
       "83421  403514 2014-03-25  1stPrizeNo     1161      2014          3        13   \n",
       "\n",
       "       DrawDay  DrawDayofweek  DrawDayofyear  DrawIs_month_end  \\\n",
       "83421       25              1             84             False   \n",
       "\n",
       "       DrawIs_month_start  DrawIs_quarter_end  DrawIs_quarter_start  \\\n",
       "83421               False               False                 False   \n",
       "\n",
       "       DrawIs_year_end  DrawIs_year_start  DrawElapsed  \n",
       "83421            False              False   1395705600  "
      ]
     },
     "execution_count": 226,
     "metadata": {},
     "output_type": "execute_result"
    }
   ],
   "source": [
    "test_df.head(1)"
   ]
  },
  {
   "cell_type": "code",
   "execution_count": 227,
   "metadata": {
    "colab": {},
    "colab_type": "code",
    "id": "DwSkbsZeyfJB"
   },
   "outputs": [],
   "source": [
    "# Data normalization proceses\n",
    "procs=[FillMissing, Categorify, Normalize]"
   ]
  },
  {
   "cell_type": "code",
   "execution_count": 228,
   "metadata": {},
   "outputs": [],
   "source": [
    "# Set continuous and categorical columns\n",
    "cont_vars = [\"DrawNo\", \"DrawElapsed\"]\n",
    "cat_vars = [\"PrizeType\", \"DrawYear\", \"DrawMonth\", \"DrawWeek\", \"DrawDay\", \"DrawDayofweek\", \n",
    "                  \"DrawDayofyear\",\"DrawIs_month_end\",\"DrawIs_month_start\", \"DrawIs_quarter_end\", \"DrawIs_quarter_start\", \"DrawIs_year_end\", \"DrawIs_year_start\"]"
   ]
  },
  {
   "cell_type": "code",
   "execution_count": 229,
   "metadata": {},
   "outputs": [],
   "source": [
    "dep_var = 'LuckyNo'"
   ]
  },
  {
   "cell_type": "code",
   "execution_count": 230,
   "metadata": {},
   "outputs": [
    {
     "data": {
      "application/vnd.dataresource+json": {
       "data": [
        {
         "DrawDate": "1992-05-06T00:00:00.000Z",
         "DrawDay": 6,
         "DrawDayofweek": 2,
         "DrawDayofyear": 127,
         "DrawElapsed": 705110400,
         "DrawIs_month_end": false,
         "DrawIs_month_start": false,
         "DrawIs_quarter_end": false,
         "DrawIs_quarter_start": false,
         "DrawIs_year_end": false,
         "DrawIs_year_start": false,
         "DrawMonth": 5,
         "DrawNo": 40792,
         "DrawWeek": 19,
         "DrawYear": 1992,
         "LuckyNo": 19,
         "PrizeType": "1stPrizeNo",
         "index": 0
        }
       ],
       "schema": {
        "fields": [
         {
          "name": "index",
          "type": "integer"
         },
         {
          "name": "PrizeType",
          "type": "string"
         },
         {
          "name": "DrawYear",
          "type": "integer"
         },
         {
          "name": "DrawMonth",
          "type": "integer"
         },
         {
          "name": "DrawWeek",
          "type": "integer"
         },
         {
          "name": "DrawDay",
          "type": "integer"
         },
         {
          "name": "DrawDayofweek",
          "type": "integer"
         },
         {
          "name": "DrawDayofyear",
          "type": "integer"
         },
         {
          "name": "DrawIs_month_end",
          "type": "boolean"
         },
         {
          "name": "DrawIs_month_start",
          "type": "boolean"
         },
         {
          "name": "DrawIs_quarter_end",
          "type": "boolean"
         },
         {
          "name": "DrawIs_quarter_start",
          "type": "boolean"
         },
         {
          "name": "DrawIs_year_end",
          "type": "boolean"
         },
         {
          "name": "DrawIs_year_start",
          "type": "boolean"
         },
         {
          "name": "DrawNo",
          "type": "integer"
         },
         {
          "name": "DrawElapsed",
          "type": "integer"
         },
         {
          "name": "LuckyNo",
          "type": "integer"
         },
         {
          "name": "DrawDate",
          "type": "datetime"
         }
        ],
        "pandas_version": "0.20.0",
        "primaryKey": [
         "index"
        ]
       }
      },
      "text/html": [
       "<div>\n",
       "<style scoped>\n",
       "    .dataframe tbody tr th:only-of-type {\n",
       "        vertical-align: middle;\n",
       "    }\n",
       "\n",
       "    .dataframe tbody tr th {\n",
       "        vertical-align: top;\n",
       "    }\n",
       "\n",
       "    .dataframe thead th {\n",
       "        text-align: right;\n",
       "    }\n",
       "</style>\n",
       "<table border=\"1\" class=\"dataframe\">\n",
       "  <thead>\n",
       "    <tr style=\"text-align: right;\">\n",
       "      <th></th>\n",
       "      <th>PrizeType</th>\n",
       "      <th>DrawYear</th>\n",
       "      <th>DrawMonth</th>\n",
       "      <th>DrawWeek</th>\n",
       "      <th>DrawDay</th>\n",
       "      <th>DrawDayofweek</th>\n",
       "      <th>DrawDayofyear</th>\n",
       "      <th>DrawIs_month_end</th>\n",
       "      <th>DrawIs_month_start</th>\n",
       "      <th>DrawIs_quarter_end</th>\n",
       "      <th>DrawIs_quarter_start</th>\n",
       "      <th>DrawIs_year_end</th>\n",
       "      <th>DrawIs_year_start</th>\n",
       "      <th>DrawNo</th>\n",
       "      <th>DrawElapsed</th>\n",
       "      <th>LuckyNo</th>\n",
       "      <th>DrawDate</th>\n",
       "    </tr>\n",
       "  </thead>\n",
       "  <tbody>\n",
       "    <tr>\n",
       "      <th>0</th>\n",
       "      <td>1stPrizeNo</td>\n",
       "      <td>1992</td>\n",
       "      <td>5</td>\n",
       "      <td>19</td>\n",
       "      <td>6</td>\n",
       "      <td>2</td>\n",
       "      <td>127</td>\n",
       "      <td>False</td>\n",
       "      <td>False</td>\n",
       "      <td>False</td>\n",
       "      <td>False</td>\n",
       "      <td>False</td>\n",
       "      <td>False</td>\n",
       "      <td>40792</td>\n",
       "      <td>705110400</td>\n",
       "      <td>19</td>\n",
       "      <td>1992-05-06</td>\n",
       "    </tr>\n",
       "  </tbody>\n",
       "</table>\n",
       "</div>"
      ],
      "text/plain": [
       "    PrizeType  DrawYear  DrawMonth  DrawWeek  DrawDay  DrawDayofweek  \\\n",
       "0  1stPrizeNo      1992          5        19        6              2   \n",
       "\n",
       "   DrawDayofyear  DrawIs_month_end  DrawIs_month_start  DrawIs_quarter_end  \\\n",
       "0            127             False               False               False   \n",
       "\n",
       "   DrawIs_quarter_start  DrawIs_year_end  DrawIs_year_start  DrawNo  \\\n",
       "0                 False            False              False   40792   \n",
       "\n",
       "   DrawElapsed  LuckyNo   DrawDate  \n",
       "0    705110400       19 1992-05-06  "
      ]
     },
     "execution_count": 230,
     "metadata": {},
     "output_type": "execute_result"
    }
   ],
   "source": [
    "df = train_df[cat_vars + cont_vars + [dep_var,'DrawDate']].copy()\n",
    "df.head(1)"
   ]
  },
  {
   "cell_type": "code",
   "execution_count": 231,
   "metadata": {},
   "outputs": [
    {
     "data": {
      "text/plain": [
       "(Timestamp('2014-03-25 00:00:00'), Timestamp('2019-05-01 00:00:00'))"
      ]
     },
     "execution_count": 231,
     "metadata": {},
     "output_type": "execute_result"
    }
   ],
   "source": [
    "# Min and max draw date\n",
    "test_df['DrawDate'].min(), test_df['DrawDate'].max()"
   ]
  },
  {
   "cell_type": "markdown",
   "metadata": {},
   "source": [
    "### Create a validation set"
   ]
  },
  {
   "cell_type": "code",
   "execution_count": 234,
   "metadata": {},
   "outputs": [
    {
     "name": "stdout",
     "output_type": "stream",
     "text": [
      "20883\n"
     ]
    }
   ],
   "source": [
    "# 1st criteria - of the same date\n",
    "# 2nd criteria - >= len(test_df)\n",
    "\n",
    "cut = train_df['DrawDate'][(train_df['DrawDate'] == train_df['DrawDate'][len(test_df)])].index.max()\n",
    "print(cut)"
   ]
  },
  {
   "cell_type": "code",
   "execution_count": 235,
   "metadata": {},
   "outputs": [
    {
     "name": "stdout",
     "output_type": "stream",
     "text": [
      "range(0, 20883)\n"
     ]
    }
   ],
   "source": [
    "valid_idx = range(cut)\n",
    "print(valid_idx)"
   ]
  },
  {
   "cell_type": "code",
   "execution_count": 236,
   "metadata": {},
   "outputs": [
    {
     "data": {
      "application/vnd.dataresource+json": {
       "data": [
        {
         "LuckyNo": 19,
         "index": 0
        },
        {
         "LuckyNo": 1124,
         "index": 1
        },
        {
         "LuckyNo": 592,
         "index": 2
        },
        {
         "LuckyNo": 5311,
         "index": 3
        },
        {
         "LuckyNo": 407,
         "index": 4
        }
       ],
       "schema": {
        "fields": [
         {
          "name": "index",
          "type": "integer"
         },
         {
          "name": "LuckyNo",
          "type": "integer"
         }
        ],
        "pandas_version": "0.20.0",
        "primaryKey": [
         "index"
        ]
       }
      },
      "text/plain": [
       "0      19\n",
       "1    1124\n",
       "2     592\n",
       "3    5311\n",
       "4     407\n",
       "Name: LuckyNo, dtype: int64"
      ]
     },
     "execution_count": 236,
     "metadata": {},
     "output_type": "execute_result"
    }
   ],
   "source": [
    "df[dep_var].head()"
   ]
  },
  {
   "cell_type": "markdown",
   "metadata": {},
   "source": [
    "## Train"
   ]
  },
  {
   "cell_type": "code",
   "execution_count": 237,
   "metadata": {},
   "outputs": [],
   "source": [
    "path = Path('datasets/lotto')"
   ]
  },
  {
   "cell_type": "code",
   "execution_count": 243,
   "metadata": {},
   "outputs": [
    {
     "data": {
      "text/plain": [
       "\u001b[0;31mInit signature:\u001b[0m\n",
       "\u001b[0mCategoryList\u001b[0m\u001b[0;34m(\u001b[0m\u001b[0;34m\u001b[0m\n",
       "\u001b[0;34m\u001b[0m    \u001b[0;34m[\u001b[0m\u001b[0;34m'items: Iterator'\u001b[0m\u001b[0;34m,\u001b[0m \u001b[0;34m'classes: Collection = None'\u001b[0m\u001b[0;34m,\u001b[0m \u001b[0;34m'label_delim: str = None'\u001b[0m\u001b[0;34m,\u001b[0m \u001b[0;34m'**kwargs'\u001b[0m\u001b[0;34m]\u001b[0m\u001b[0;34m,\u001b[0m\u001b[0;34m\u001b[0m\n",
       "\u001b[0;34m\u001b[0m\u001b[0;34m)\u001b[0m\u001b[0;34m\u001b[0m\u001b[0;34m\u001b[0m\u001b[0m\n",
       "\u001b[0;31mDocstring:\u001b[0m      Basic `ItemList` for single classification labels.\n",
       "\u001b[0;31mFile:\u001b[0m           ~/anaconda3/lib/python3.7/site-packages/fastai/data_block.py\n",
       "\u001b[0;31mType:\u001b[0m           type\n",
       "\u001b[0;31mSubclasses:\u001b[0m     \n"
      ]
     },
     "metadata": {},
     "output_type": "display_data"
    }
   ],
   "source": [
    "data = (TabularList.from_df(df, path=path, cat_names=cat_vars, cont_names=cont_vars, procs=procs,)\n",
    "                .split_by_idx(valid_idx)\n",
    "                .label_from_df(cols=dep_var, label_cls=FloatList, log=True)\n",
    "                .add_test(TabularList.from_df(test_df, path=path, cat_names=cat_vars, cont_names=cont_vars))\n",
    "                .databunch())\n",
    "FloatList?\n",
    "CategoryList?"
   ]
  },
  {
   "cell_type": "markdown",
   "metadata": {},
   "source": [
    "### Model"
   ]
  },
  {
   "cell_type": "code",
   "execution_count": 239,
   "metadata": {},
   "outputs": [],
   "source": [
    "max_log_y = np.log(np.max(train_df[dep_var])*1.2)\n",
    "y_range = torch.tensor([0, max_log_y], device=defaults.device)"
   ]
  },
  {
   "cell_type": "code",
   "execution_count": 240,
   "metadata": {},
   "outputs": [],
   "source": [
    "learn = tabular_learner(data, layers=[1000,500], ps=[0.001,0.01], emb_drop=0.04, \n",
    "                        y_range=y_range, metrics=exp_rmspe)"
   ]
  },
  {
   "cell_type": "code",
   "execution_count": 241,
   "metadata": {},
   "outputs": [
    {
     "data": {
      "text/html": [
       "<h4 id=\"tabular_learner\"><code>tabular_learner</code><a href=\"https://github.com/fastai/fastai/blob/master/fastai/tabular/data.py#L163\" class=\"source_link\">[source]</a></h4><blockquote><p><code>tabular_learner</code>(<b>`data`</b>:<a href=\"https://docs.fast.ai/basic_data.html#DataBunch\"><code>DataBunch</code></a>, <b>`layers`</b>:<code>Collection</code>[<code>int</code>], <b>`emb_szs`</b>:<code>Dict</code>[<code>str</code>, <code>int</code>]=<b><i>`None`</i></b>, <b>`metrics`</b>=<b><i>`None`</i></b>, <b>`ps`</b>:<code>Collection</code>[<code>float</code>]=<b><i>`None`</i></b>, <b>`emb_drop`</b>:<code>float</code>=<b><i>`0.0`</i></b>, <b>`y_range`</b>:<code>OptRange</code>=<b><i>`None`</i></b>, <b>`use_bn`</b>:<code>bool</code>=<b><i>`True`</i></b>, <b>`kwargs`</b>)</p>\n",
       "</blockquote>\n",
       "<p>Get a <a href=\"https://docs.fast.ai/basic_train.html#Learner\"><code>Learner</code></a> using <code>data</code>, with <code>metrics</code>, including a <a href=\"https://docs.fast.ai/tabular.models.html#TabularModel\"><code>TabularModel</code></a> created using the remaining params.</p>\n",
       "<p><a href=\"https://docs.fast.ai/tabular.data.html#tabular_learner\" target=\"_blank\" rel=\"noreferrer noopener\">Show in docs</a></p>\n"
      ]
     },
     "metadata": {},
     "output_type": "display_data"
    }
   ],
   "source": [
    "doc(tabular_learner)"
   ]
  },
  {
   "cell_type": "code",
   "execution_count": 244,
   "metadata": {},
   "outputs": [
    {
     "data": {
      "text/plain": [
       "TabularModel(\n",
       "  (embeds): ModuleList(\n",
       "    (0): Embedding(24, 9)\n",
       "    (1): Embedding(18, 8)\n",
       "    (2): Embedding(13, 7)\n",
       "    (3): Embedding(54, 15)\n",
       "    (4): Embedding(32, 11)\n",
       "    (5): Embedding(6, 4)\n",
       "    (6): Embedding(367, 44)\n",
       "    (7): Embedding(3, 3)\n",
       "    (8): Embedding(3, 3)\n",
       "    (9): Embedding(3, 3)\n",
       "    (10): Embedding(3, 3)\n",
       "    (11): Embedding(3, 3)\n",
       "    (12): Embedding(3, 3)\n",
       "  )\n",
       "  (emb_drop): Dropout(p=0.04)\n",
       "  (bn_cont): BatchNorm1d(2, eps=1e-05, momentum=0.1, affine=True, track_running_stats=True)\n",
       "  (layers): Sequential(\n",
       "    (0): Linear(in_features=118, out_features=1000, bias=True)\n",
       "    (1): ReLU(inplace)\n",
       "    (2): BatchNorm1d(1000, eps=1e-05, momentum=0.1, affine=True, track_running_stats=True)\n",
       "    (3): Dropout(p=0.001)\n",
       "    (4): Linear(in_features=1000, out_features=500, bias=True)\n",
       "    (5): ReLU(inplace)\n",
       "    (6): BatchNorm1d(500, eps=1e-05, momentum=0.1, affine=True, track_running_stats=True)\n",
       "    (7): Dropout(p=0.01)\n",
       "    (8): Linear(in_features=500, out_features=1, bias=True)\n",
       "  )\n",
       ")"
      ]
     },
     "execution_count": 244,
     "metadata": {},
     "output_type": "execute_result"
    }
   ],
   "source": [
    "learn.model"
   ]
  },
  {
   "cell_type": "code",
   "execution_count": 247,
   "metadata": {},
   "outputs": [
    {
     "data": {
      "text/plain": [
       "2"
      ]
     },
     "execution_count": 247,
     "metadata": {},
     "output_type": "execute_result"
    }
   ],
   "source": [
    "len(data.train_ds.cont_names)"
   ]
  },
  {
   "cell_type": "code",
   "execution_count": 248,
   "metadata": {},
   "outputs": [
    {
     "name": "stdout",
     "output_type": "stream",
     "text": [
      "LR Finder is complete, type {learner_name}.recorder.plot() to see the graph.\n"
     ]
    }
   ],
   "source": [
    "learn.lr_find()"
   ]
  },
  {
   "cell_type": "code",
   "execution_count": 249,
   "metadata": {},
   "outputs": [
    {
     "data": {
      "image/png": "[encoded data removed]",
      "text/plain": [
       "<Figure size 432x288 with 1 Axes>"
      ]
     },
     "metadata": {
      "needs_background": "light"
     },
     "output_type": "display_data"
    }
   ],
   "source": [
    "learn.recorder.plot()"
   ]
  },
  {
   "cell_type": "code",
   "execution_count": 250,
   "metadata": {},
   "outputs": [
    {
     "data": {
      "text/html": [
       "Total time: 02:46 <p><table style='width:300px; margin-bottom:10px'>\n",
       "  <tr>\n",
       "    <th>epoch</th>\n",
       "    <th>train_loss</th>\n",
       "    <th>valid_loss</th>\n",
       "    <th>exp_rmspe</th>\n",
       "  </tr>\n",
       "  <tr>\n",
       "    <th>1</th>\n",
       "    <th>inf</th>\n",
       "    <th>nan</th>\n",
       "    <th>nan</th>\n",
       "  </tr>\n",
       "  <tr>\n",
       "    <th>2</th>\n",
       "    <th>inf</th>\n",
       "    <th>nan</th>\n",
       "    <th>nan</th>\n",
       "  </tr>\n",
       "  <tr>\n",
       "    <th>3</th>\n",
       "    <th>inf</th>\n",
       "    <th>nan</th>\n",
       "    <th>nan</th>\n",
       "  </tr>\n",
       "  <tr>\n",
       "    <th>4</th>\n",
       "    <th>inf</th>\n",
       "    <th>nan</th>\n",
       "    <th>nan</th>\n",
       "  </tr>\n",
       "  <tr>\n",
       "    <th>5</th>\n",
       "    <th>inf</th>\n",
       "    <th>nan</th>\n",
       "    <th>nan</th>\n",
       "  </tr>\n",
       "</table>\n"
      ],
      "text/plain": [
       "<IPython.core.display.HTML object>"
      ]
     },
     "metadata": {},
     "output_type": "display_data"
    }
   ],
   "source": [
    "learn.fit_one_cycle(5, 1e-3, wd=0.2)"
   ]
  },
  {
   "cell_type": "code",
   "execution_count": null,
   "metadata": {},
   "outputs": [],
   "source": []
  }
 ],
 "metadata": {
  "colab": {
   "include_colab_link": true,
   "name": "lotto.ipynb",
   "provenance": [],
   "version": "0.3.2"
  },
  "kernelspec": {
   "display_name": "Python 3",
   "language": "python",
   "name": "python3"
  },
  "language_info": {
   "codemirror_mode": {
    "name": "ipython",
    "version": 3
   },
   "file_extension": ".py",
   "mimetype": "text/x-python",
   "name": "python",
   "nbconvert_exporter": "python",
   "pygments_lexer": "ipython3",
   "version": "3.7.2"
  }
 },
 "nbformat": 4,
 "nbformat_minor": 2
}

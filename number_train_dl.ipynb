{
  "nbformat": 4,
  "nbformat_minor": 0,
  "metadata": {
    "accelerator": "GPU",
    "colab": {
      "name": "dl.ipynb",
      "version": "0.3.2",
      "provenance": [],
      "collapsed_sections": []
    },
    "kernelspec": {
      "name": "python3",
      "display_name": "Python 3"
    },
    "language_info": {
      "codemirror_mode": {
        "name": "ipython",
        "version": 3
      },
      "file_extension": ".py",
      "mimetype": "text/x-python",
      "name": "python",
      "nbconvert_exporter": "python",
      "pygments_lexer": "ipython3",
      "version": "3.7.2"
    }
  },
  "cells": [
    {
      "cell_type": "markdown",
      "metadata": {
        "colab_type": "text",
        "id": "b5243bUj8-K1",
        "toc-hr-collapsed": false
      },
      "source": [
        "# Deep Learning Methods"
      ]
    },
    {
      "cell_type": "markdown",
      "metadata": {
        "id": "TJlGXF6aqzD0",
        "colab_type": "text"
      },
      "source": [
        "## Clone the repo"
      ]
    },
    {
      "cell_type": "code",
      "metadata": {
        "id": "uRalr6bZqyZm",
        "colab_type": "code",
        "outputId": "e246cf29-4e2e-4f6d-84af-0ea9f92ec94b",
        "colab": {
          "base_uri": "https://localhost:8080/",
          "height": 221
        }
      },
      "source": [
        "!rm -rf dl-projects\n",
        "!git clone https://github.com/mengwangk/dl-projects\n",
        "!cd dl-projects && ls "
      ],
      "execution_count": 2,
      "outputs": [
        {
          "output_type": "stream",
          "text": [
            "Cloning into 'dl-projects'...\n",
            "remote: Enumerating objects: 211, done.\u001b[K\n",
            "remote: Counting objects:   0% (1/211)   \u001b[K\rremote: Counting objects:   1% (3/211)   \u001b[K\rremote: Counting objects:   2% (5/211)   \u001b[K\rremote: Counting objects:   3% (7/211)   \u001b[K\rremote: Counting objects:   4% (9/211)   \u001b[K\rremote: Counting objects:   5% (11/211)   \u001b[K\rremote: Counting objects:   6% (13/211)   \u001b[K\rremote: Counting objects:   7% (15/211)   \u001b[K\rremote: Counting objects:   8% (17/211)   \u001b[K\rremote: Counting objects:   9% (19/211)   \u001b[K\rremote: Counting objects:  10% (22/211)   \u001b[K\rremote: Counting objects:  11% (24/211)   \u001b[K\rremote: Counting objects:  12% (26/211)   \u001b[K\rremote: Counting objects:  13% (28/211)   \u001b[K\rremote: Counting objects:  14% (30/211)   \u001b[K\rremote: Counting objects:  15% (32/211)   \u001b[K\rremote: Counting objects:  16% (34/211)   \u001b[K\rremote: Counting objects:  17% (36/211)   \u001b[K\rremote: Counting objects:  18% (38/211)   \u001b[K\rremote: Counting objects:  19% (41/211)   \u001b[K\rremote: Counting objects:  20% (43/211)   \u001b[K\rremote: Counting objects:  21% (45/211)   \u001b[K\rremote: Counting objects:  22% (47/211)   \u001b[K\rremote: Counting objects:  23% (49/211)   \u001b[K\rremote: Counting objects:  24% (51/211)   \u001b[K\rremote: Counting objects:  25% (53/211)   \u001b[K\rremote: Counting objects:  26% (55/211)   \u001b[K\rremote: Counting objects:  27% (57/211)   \u001b[K\rremote: Counting objects:  28% (60/211)   \u001b[K\rremote: Counting objects:  29% (62/211)   \u001b[K\rremote: Counting objects:  30% (64/211)   \u001b[K\rremote: Counting objects:  31% (66/211)   \u001b[K\rremote: Counting objects:  32% (68/211)   \u001b[K\rremote: Counting objects:  33% (70/211)   \u001b[K\rremote: Counting objects:  34% (72/211)   \u001b[K\rremote: Counting objects:  35% (74/211)   \u001b[K\rremote: Counting objects:  36% (76/211)   \u001b[K\rremote: Counting objects:  37% (79/211)   \u001b[K\rremote: Counting objects:  38% (81/211)   \u001b[K\rremote: Counting objects:  39% (83/211)   \u001b[K\rremote: Counting objects:  40% (85/211)   \u001b[K\rremote: Counting objects:  41% (87/211)   \u001b[K\rremote: Counting objects:  42% (89/211)   \u001b[K\rremote: Counting objects:  43% (91/211)   \u001b[K\rremote: Counting objects:  44% (93/211)   \u001b[K\rremote: Counting objects:  45% (95/211)   \u001b[K\rremote: Counting objects:  46% (98/211)   \u001b[K\rremote: Counting objects:  47% (100/211)   \u001b[K\rremote: Counting objects:  48% (102/211)   \u001b[K\rremote: Counting objects:  49% (104/211)   \u001b[K\rremote: Counting objects:  50% (106/211)   \u001b[K\rremote: Counting objects:  51% (108/211)   \u001b[K\rremote: Counting objects:  52% (110/211)   \u001b[K\rremote: Counting objects:  53% (112/211)   \u001b[K\rremote: Counting objects:  54% (114/211)   \u001b[K\rremote: Counting objects:  55% (117/211)   \u001b[K\rremote: Counting objects:  56% (119/211)   \u001b[K\rremote: Counting objects:  57% (121/211)   \u001b[K\rremote: Counting objects:  58% (123/211)   \u001b[K\rremote: Counting objects:  59% (125/211)   \u001b[K\rremote: Counting objects:  60% (127/211)   \u001b[K\rremote: Counting objects:  61% (129/211)   \u001b[K\rremote: Counting objects:  62% (131/211)   \u001b[K\rremote: Counting objects:  63% (133/211)   \u001b[K\rremote: Counting objects:  64% (136/211)   \u001b[K\rremote: Counting objects:  65% (138/211)   \u001b[K\rremote: Counting objects:  66% (140/211)   \u001b[K\rremote: Counting objects:  67% (142/211)   \u001b[K\rremote: Counting objects:  68% (144/211)   \u001b[K\rremote: Counting objects:  69% (146/211)   \u001b[K\rremote: Counting objects:  70% (148/211)   \u001b[K\rremote: Counting objects:  71% (150/211)   \u001b[K\rremote: Counting objects:  72% (152/211)   \u001b[K\rremote: Counting objects:  73% (155/211)   \u001b[K\rremote: Counting objects:  74% (157/211)   \u001b[K\rremote: Counting objects:  75% (159/211)   \u001b[K\rremote: Counting objects:  76% (161/211)   \u001b[K\rremote: Counting objects:  77% (163/211)   \u001b[K\rremote: Counting objects:  78% (165/211)   \u001b[K\rremote: Counting objects:  79% (167/211)   \u001b[K\rremote: Counting objects:  80% (169/211)   \u001b[K\rremote: Counting objects:  81% (171/211)   \u001b[K\rremote: Counting objects:  82% (174/211)   \u001b[K\rremote: Counting objects:  83% (176/211)   \u001b[K\rremote: Counting objects:  84% (178/211)   \u001b[K\rremote: Counting objects:  85% (180/211)   \u001b[K\rremote: Counting objects:  86% (182/211)   \u001b[K\rremote: Counting objects:  87% (184/211)   \u001b[K\rremote: Counting objects:  88% (186/211)   \u001b[K\rremote: Counting objects:  89% (188/211)   \u001b[K\rremote: Counting objects:  90% (190/211)   \u001b[K\rremote: Counting objects:  91% (193/211)   \u001b[K\rremote: Counting objects:  92% (195/211)   \u001b[K\rremote: Counting objects:  93% (197/211)   \u001b[K\rremote: Counting objects:  94% (199/211)   \u001b[K\rremote: Counting objects:  95% (201/211)   \u001b[K\rremote: Counting objects:  96% (203/211)   \u001b[K\rremote: Counting objects:  97% (205/211)   \u001b[K\rremote: Counting objects:  98% (207/211)   \u001b[K\rremote: Counting objects:  99% (209/211)   \u001b[K\rremote: Counting objects: 100% (211/211)   \u001b[K\rremote: Counting objects: 100% (211/211), done.\u001b[K\n",
            "remote: Compressing objects: 100% (157/157), done.\u001b[K\n",
            "remote: Total 211 (delta 101), reused 129 (delta 41), pack-reused 0\u001b[K\n",
            "Receiving objects: 100% (211/211), 7.89 MiB | 8.78 MiB/s, done.\n",
            "Resolving deltas: 100% (101/101), done.\n",
            "backup\t       lstm_s2.ipynb  number_download.ipynb  README.md\n",
            "datasets       lstm_s3.ipynb  number_features.ipynb  scraper\n",
            "featurelib     lstm_s4.ipynb  number_train_dl.bak    stock.ipynb\n",
            "LICENSE        lstm_s5.ipynb  number_train_dl.ipynb\n",
            "lstm_s1.ipynb  lstm_s6.ipynb  number_train_ml.ipynb\n"
          ],
          "name": "stdout"
        }
      ]
    },
    {
      "cell_type": "markdown",
      "metadata": {
        "colab_type": "text",
        "id": "CQBDKNHCB7gO"
      },
      "source": [
        "## Magic"
      ]
    },
    {
      "cell_type": "code",
      "metadata": {
        "colab_type": "code",
        "id": "-IIhuSvDcwZy",
        "colab": {}
      },
      "source": [
        "%reload_ext autoreload\n",
        "%autoreload 2\n",
        "\n",
        "%matplotlib inline"
      ],
      "execution_count": 0,
      "outputs": []
    },
    {
      "cell_type": "code",
      "metadata": {
        "colab_type": "code",
        "id": "pdS7XRoicwZ2",
        "colab": {}
      },
      "source": [
        "# To support both python 2 and python 3\n",
        "from __future__ import division, print_function, unicode_literals\n",
        "\n",
        "# Common imports\n",
        "import numpy as np\n",
        "import os\n",
        "import pandas as pd\n",
        "import featuretools as ft\n",
        "import matplotlib as mpl\n",
        "import matplotlib.pyplot as plt"
      ],
      "execution_count": 0,
      "outputs": []
    },
    {
      "cell_type": "code",
      "metadata": {
        "colab_type": "code",
        "id": "A9eZHyChcwZ4",
        "colab": {}
      },
      "source": [
        "from fastai.basics import *\n",
        "from fastai.tabular import *"
      ],
      "execution_count": 0,
      "outputs": []
    },
    {
      "cell_type": "markdown",
      "metadata": {
        "colab_type": "text",
        "id": "ugtBDkyVcwZ6"
      },
      "source": [
        "## Setup"
      ]
    },
    {
      "cell_type": "code",
      "metadata": {
        "colab_type": "code",
        "id": "tc6D3kBScwZ7",
        "colab": {}
      },
      "source": [
        "# to make this notebook's output stable across runs\n",
        "np.random.seed(42)\n",
        "\n",
        "mpl.rc('axes', labelsize=14)\n",
        "mpl.rc('xtick', labelsize=12)\n",
        "mpl.rc('ytick', labelsize=12)\n",
        "\n",
        "# Ignore useless warnings (see SciPy issue #5998)\n",
        "import warnings\n",
        "warnings.filterwarnings(action=\"ignore\", message=\"^internal gelsd\")\n",
        "\n",
        "from IPython.display import display\n",
        "pd.options.display.max_columns = 50\n",
        "pd.options.display.html.table_schema = True"
      ],
      "execution_count": 0,
      "outputs": []
    },
    {
      "cell_type": "code",
      "metadata": {
        "colab_type": "code",
        "id": "qEhj3OF3cwZ9",
        "colab": {}
      },
      "source": [
        "from pathlib import Path\n",
        "\n",
        "DATASET = Path(\"dl-projects/datasets/lotto/data_processed.csv\")"
      ],
      "execution_count": 0,
      "outputs": []
    },
    {
      "cell_type": "markdown",
      "metadata": {
        "colab_type": "text",
        "id": "JigLrfOscwaH"
      },
      "source": [
        "## Load Data"
      ]
    },
    {
      "cell_type": "code",
      "metadata": {
        "colab_type": "code",
        "id": "I7frraxZLNzA",
        "colab": {}
      },
      "source": [
        "# Read into data frame\n",
        "dataset = pd.read_csv(DATASET, header=0, sep=',', quotechar='\"', parse_dates=['DrawDate'], dtype={'PrizeType': str})"
      ],
      "execution_count": 0,
      "outputs": []
    },
    {
      "cell_type": "code",
      "metadata": {
        "id": "57Y-ecp14ZzA",
        "colab_type": "code",
        "colab": {}
      },
      "source": [
        "df = dataset.copy()"
      ],
      "execution_count": 0,
      "outputs": []
    },
    {
      "cell_type": "code",
      "metadata": {
        "colab_type": "code",
        "id": "ZlLHkuqmEeI2",
        "outputId": "15e16bde-badc-40d8-9307-a32d8f089d36",
        "colab": {
          "base_uri": "https://localhost:8080/",
          "height": 578
        }
      },
      "source": [
        "df.tail(10)"
      ],
      "execution_count": 10,
      "outputs": [
        {
          "output_type": "execute_result",
          "data": {
            "application/vnd.dataresource+json": {
              "data": [
                {
                  "DrawDayofweek": 6,
                  "1_7": 11170,
                  "1_6": 11125,
                  "1_5": 10988,
                  "1_4": 11283,
                  "1_3": 11205,
                  "DrawMonth": 6,
                  "1_1": 5573,
                  "0_9": 10950,
                  "0_6": 10814,
                  "0_7": 10962,
                  "0_4": 10946,
                  "0_5": 10857,
                  "0_2": 10908,
                  "0_3": 11165,
                  "0_0": 5531,
                  "1_8": 11058,
                  "pos_2_6_freq": 10525,
                  "pos_2_8_freq": 10431,
                  "DrawDayofyear": 160,
                  "4_8": 10936,
                  "4_9": 10955,
                  "5_7": 10710,
                  "5_6": 10709,
                  "5_5": 5317,
                  "5_9": 10987,
                  "5_8": 10771,
                  "4_6": 10856,
                  "4_7": 10789,
                  "3rd_digit": 6,
                  "4_5": 10717,
                  "pos_3_4_freq": 10504,
                  "LuckyNo": 9569,
                  "pos_4_0_freq": 10498,
                  "pos_4_4_freq": 10504,
                  "2nd_digit": 5,
                  "DaysUntilNextExactMatch": 0,
                  "DrawDay": 9,
                  "1_2": 11199,
                  "0_8": 10880,
                  "pos_3_0_freq": 10499,
                  "1st_digit": 9,
                  "pos_1_2_freq": 10489,
                  "pos_2_9_freq": 10275,
                  "pos_3_1_freq": 10741,
                  "DrawYear": 2019,
                  "8_8": 5408,
                  "8_9": 10835,
                  "index": 104663,
                  "9_9": 5438,
                  "pos_2_5_freq": 10285,
                  "1_9": 11161,
                  "DaysSinceLastExactMatch": 705,
                  "pos_1_4_freq": 10503,
                  "0_1": 11063,
                  "pos_1_8_freq": 10429,
                  "pos_3_7_freq": 10372,
                  "pos_4_9_freq": 10276,
                  "pos_4_1_freq": 10740,
                  "DrawDate": "2019-06-09T00:00:00.000Z",
                  "pos_3_6_freq": 10524,
                  "pos_4_3_freq": 10575,
                  "pos_3_5_freq": 10284,
                  "pos_2_7_freq": 10372,
                  "pos_1_7_freq": 10370,
                  "pos_2_4_freq": 10504,
                  "DrawWeek": 23,
                  "pos_2_2_freq": 10493,
                  "pos_4_6_freq": 10524,
                  "2_8": 10780,
                  "2_9": 10820,
                  "3_3": 5701,
                  "3_5": 11061,
                  "3_4": 11002,
                  "3_7": 11069,
                  "3_6": 10997,
                  "3_9": 11076,
                  "3_8": 10987,
                  "2_2": 5558,
                  "2_3": 11049,
                  "2_4": 11038,
                  "2_5": 10888,
                  "2_6": 10989,
                  "2_7": 10826,
                  "4th_digit": 9,
                  "CumProbaExactMatch": 0.12,
                  "pos_1_6_freq": 10522,
                  "pos_2_0_freq": 10500,
                  "pos_4_7_freq": 10372,
                  "DrawNo": 495819,
                  "pos_3_8_freq": 10431,
                  "DaysSinceLastAnyMatch": 95,
                  "pos_4_2_freq": 10493,
                  "pos_4_8_freq": 10432,
                  "4_4": 5461,
                  "6_6": 5324,
                  "6_7": 10997,
                  "6_8": 10802,
                  "6_9": 10702,
                  "7_9": 10699,
                  "7_8": 10937,
                  "7_7": 5460,
                  "DaysUntilNextAnyMatch": 0,
                  "pos_1_9_freq": 10273,
                  "pos_3_2_freq": 10491,
                  "pos_2_3_freq": 10572,
                  "pos_1_5_freq": 10282,
                  "pos_1_0_freq": 10497,
                  "PrizeType": "SpecialNo1",
                  "pos_4_5_freq": 10282,
                  "pos_2_1_freq": 10739,
                  "pos_3_9_freq": 10276,
                  "pos_3_3_freq": 10574,
                  "pos_1_1_freq": 10737,
                  "CumProbaAnyMatch": 1.31,
                  "pos_1_3_freq": 10571
                },
                {
                  "DrawDayofweek": 6,
                  "1_7": 11170,
                  "1_6": 11125,
                  "1_5": 10988,
                  "1_4": 11283,
                  "1_3": 11205,
                  "DrawMonth": 6,
                  "1_1": 5573,
                  "0_9": 10950,
                  "0_6": 10814,
                  "0_7": 10962,
                  "0_4": 10946,
                  "0_5": 10857,
                  "0_2": 10908,
                  "0_3": 11165,
                  "0_0": 5531,
                  "1_8": 11058,
                  "pos_2_6_freq": 10525,
                  "pos_2_8_freq": 10431,
                  "DrawDayofyear": 160,
                  "4_8": 10936,
                  "4_9": 10955,
                  "5_7": 10710,
                  "5_6": 10709,
                  "5_5": 5317,
                  "5_9": 10987,
                  "5_8": 10771,
                  "4_6": 10856,
                  "4_7": 10789,
                  "3rd_digit": 2,
                  "4_5": 10717,
                  "pos_3_4_freq": 10504,
                  "LuckyNo": 6223,
                  "pos_4_0_freq": 10498,
                  "pos_4_4_freq": 10504,
                  "2nd_digit": 2,
                  "DaysUntilNextExactMatch": 0,
                  "DrawDay": 9,
                  "1_2": 11199,
                  "0_8": 10880,
                  "pos_3_0_freq": 10499,
                  "1st_digit": 6,
                  "pos_1_2_freq": 10489,
                  "pos_2_9_freq": 10275,
                  "pos_3_1_freq": 10741,
                  "DrawYear": 2019,
                  "8_8": 5408,
                  "8_9": 10835,
                  "index": 104664,
                  "9_9": 5438,
                  "pos_2_5_freq": 10285,
                  "1_9": 11161,
                  "DaysSinceLastExactMatch": 735,
                  "pos_1_4_freq": 10503,
                  "0_1": 11063,
                  "pos_1_8_freq": 10429,
                  "pos_3_7_freq": 10372,
                  "pos_4_9_freq": 10276,
                  "pos_4_1_freq": 10740,
                  "DrawDate": "2019-06-09T00:00:00.000Z",
                  "pos_3_6_freq": 10524,
                  "pos_4_3_freq": 10575,
                  "pos_3_5_freq": 10284,
                  "pos_2_7_freq": 10372,
                  "pos_1_7_freq": 10370,
                  "pos_2_4_freq": 10504,
                  "DrawWeek": 23,
                  "pos_2_2_freq": 10493,
                  "pos_4_6_freq": 10524,
                  "2_8": 10780,
                  "2_9": 10820,
                  "3_3": 5701,
                  "3_5": 11061,
                  "3_4": 11002,
                  "3_7": 11069,
                  "3_6": 10997,
                  "3_9": 11076,
                  "3_8": 10987,
                  "2_2": 5558,
                  "2_3": 11049,
                  "2_4": 11038,
                  "2_5": 10888,
                  "2_6": 10989,
                  "2_7": 10826,
                  "4th_digit": 3,
                  "CumProbaExactMatch": 0.06,
                  "pos_1_6_freq": 10522,
                  "pos_2_0_freq": 10500,
                  "pos_4_7_freq": 10372,
                  "DrawNo": 495819,
                  "pos_3_8_freq": 10431,
                  "DaysSinceLastAnyMatch": 25,
                  "pos_4_2_freq": 10493,
                  "pos_4_8_freq": 10432,
                  "4_4": 5461,
                  "6_6": 5324,
                  "6_7": 10997,
                  "6_8": 10802,
                  "6_9": 10702,
                  "7_9": 10699,
                  "7_8": 10937,
                  "7_7": 5460,
                  "DaysUntilNextAnyMatch": 0,
                  "pos_1_9_freq": 10273,
                  "pos_3_2_freq": 10491,
                  "pos_2_3_freq": 10572,
                  "pos_1_5_freq": 10282,
                  "pos_1_0_freq": 10497,
                  "PrizeType": "SpecialNo10",
                  "pos_4_5_freq": 10282,
                  "pos_2_1_freq": 10739,
                  "pos_3_9_freq": 10276,
                  "pos_3_3_freq": 10574,
                  "pos_1_1_freq": 10737,
                  "CumProbaAnyMatch": 1.17,
                  "pos_1_3_freq": 10571
                },
                {
                  "DrawDayofweek": 6,
                  "1_7": 11170,
                  "1_6": 11125,
                  "1_5": 10988,
                  "1_4": 11283,
                  "1_3": 11205,
                  "DrawMonth": 6,
                  "1_1": 5573,
                  "0_9": 10950,
                  "0_6": 10814,
                  "0_7": 10962,
                  "0_4": 10946,
                  "0_5": 10857,
                  "0_2": 10908,
                  "0_3": 11165,
                  "0_0": 5531,
                  "1_8": 11058,
                  "pos_2_6_freq": 10525,
                  "pos_2_8_freq": 10431,
                  "DrawDayofyear": 160,
                  "4_8": 10936,
                  "4_9": 10955,
                  "5_7": 10710,
                  "5_6": 10709,
                  "5_5": 5317,
                  "5_9": 10987,
                  "5_8": 10771,
                  "4_6": 10856,
                  "4_7": 10789,
                  "3rd_digit": 9,
                  "4_5": 10717,
                  "pos_3_4_freq": 10504,
                  "LuckyNo": 791,
                  "pos_4_0_freq": 10498,
                  "pos_4_4_freq": 10504,
                  "2nd_digit": 7,
                  "DaysUntilNextExactMatch": 0,
                  "DrawDay": 9,
                  "1_2": 11199,
                  "0_8": 10880,
                  "pos_3_0_freq": 10499,
                  "1st_digit": 0,
                  "pos_1_2_freq": 10489,
                  "pos_2_9_freq": 10275,
                  "pos_3_1_freq": 10741,
                  "DrawYear": 2019,
                  "8_8": 5408,
                  "8_9": 10835,
                  "index": 104665,
                  "9_9": 5438,
                  "pos_2_5_freq": 10285,
                  "1_9": 11161,
                  "DaysSinceLastExactMatch": 613,
                  "pos_1_4_freq": 10503,
                  "0_1": 11063,
                  "pos_1_8_freq": 10429,
                  "pos_3_7_freq": 10372,
                  "pos_4_9_freq": 10276,
                  "pos_4_1_freq": 10740,
                  "DrawDate": "2019-06-09T00:00:00.000Z",
                  "pos_3_6_freq": 10524,
                  "pos_4_3_freq": 10575,
                  "pos_3_5_freq": 10284,
                  "pos_2_7_freq": 10372,
                  "pos_1_7_freq": 10370,
                  "pos_2_4_freq": 10504,
                  "DrawWeek": 23,
                  "pos_2_2_freq": 10493,
                  "pos_4_6_freq": 10524,
                  "2_8": 10780,
                  "2_9": 10820,
                  "3_3": 5701,
                  "3_5": 11061,
                  "3_4": 11002,
                  "3_7": 11069,
                  "3_6": 10997,
                  "3_9": 11076,
                  "3_8": 10987,
                  "2_2": 5558,
                  "2_3": 11049,
                  "2_4": 11038,
                  "2_5": 10888,
                  "2_6": 10989,
                  "2_7": 10826,
                  "4th_digit": 1,
                  "CumProbaExactMatch": 0.11,
                  "pos_1_6_freq": 10522,
                  "pos_2_0_freq": 10500,
                  "pos_4_7_freq": 10372,
                  "DrawNo": 495819,
                  "pos_3_8_freq": 10431,
                  "DaysSinceLastAnyMatch": 28,
                  "pos_4_2_freq": 10493,
                  "pos_4_8_freq": 10432,
                  "4_4": 5461,
                  "6_6": 5324,
                  "6_7": 10997,
                  "6_8": 10802,
                  "6_9": 10702,
                  "7_9": 10699,
                  "7_8": 10937,
                  "7_7": 5460,
                  "DaysUntilNextAnyMatch": 0,
                  "pos_1_9_freq": 10273,
                  "pos_3_2_freq": 10491,
                  "pos_2_3_freq": 10572,
                  "pos_1_5_freq": 10282,
                  "pos_1_0_freq": 10497,
                  "PrizeType": "SpecialNo2",
                  "pos_4_5_freq": 10282,
                  "pos_2_1_freq": 10739,
                  "pos_3_9_freq": 10276,
                  "pos_3_3_freq": 10574,
                  "pos_1_1_freq": 10737,
                  "CumProbaAnyMatch": 2.56,
                  "pos_1_3_freq": 10571
                },
                {
                  "DrawDayofweek": 6,
                  "1_7": 11170,
                  "1_6": 11125,
                  "1_5": 10988,
                  "1_4": 11283,
                  "1_3": 11205,
                  "DrawMonth": 6,
                  "1_1": 5573,
                  "0_9": 10950,
                  "0_6": 10814,
                  "0_7": 10962,
                  "0_4": 10946,
                  "0_5": 10857,
                  "0_2": 10908,
                  "0_3": 11165,
                  "0_0": 5531,
                  "1_8": 11058,
                  "pos_2_6_freq": 10525,
                  "pos_2_8_freq": 10431,
                  "DrawDayofyear": 160,
                  "4_8": 10936,
                  "4_9": 10955,
                  "5_7": 10710,
                  "5_6": 10709,
                  "5_5": 5317,
                  "5_9": 10987,
                  "5_8": 10771,
                  "4_6": 10856,
                  "4_7": 10789,
                  "3rd_digit": 1,
                  "4_5": 10717,
                  "pos_3_4_freq": 10504,
                  "LuckyNo": 1218,
                  "pos_4_0_freq": 10498,
                  "pos_4_4_freq": 10504,
                  "2nd_digit": 2,
                  "DaysUntilNextExactMatch": 0,
                  "DrawDay": 9,
                  "1_2": 11199,
                  "0_8": 10880,
                  "pos_3_0_freq": 10499,
                  "1st_digit": 1,
                  "pos_1_2_freq": 10489,
                  "pos_2_9_freq": 10275,
                  "pos_3_1_freq": 10741,
                  "DrawYear": 2019,
                  "8_8": 5408,
                  "8_9": 10835,
                  "index": 104666,
                  "9_9": 5438,
                  "pos_2_5_freq": 10285,
                  "1_9": 11161,
                  "DaysSinceLastExactMatch": 1628,
                  "pos_1_4_freq": 10503,
                  "0_1": 11063,
                  "pos_1_8_freq": 10429,
                  "pos_3_7_freq": 10372,
                  "pos_4_9_freq": 10276,
                  "pos_4_1_freq": 10740,
                  "DrawDate": "2019-06-09T00:00:00.000Z",
                  "pos_3_6_freq": 10524,
                  "pos_4_3_freq": 10575,
                  "pos_3_5_freq": 10284,
                  "pos_2_7_freq": 10372,
                  "pos_1_7_freq": 10370,
                  "pos_2_4_freq": 10504,
                  "DrawWeek": 23,
                  "pos_2_2_freq": 10493,
                  "pos_4_6_freq": 10524,
                  "2_8": 10780,
                  "2_9": 10820,
                  "3_3": 5701,
                  "3_5": 11061,
                  "3_4": 11002,
                  "3_7": 11069,
                  "3_6": 10997,
                  "3_9": 11076,
                  "3_8": 10987,
                  "2_2": 5558,
                  "2_3": 11049,
                  "2_4": 11038,
                  "2_5": 10888,
                  "2_6": 10989,
                  "2_7": 10826,
                  "4th_digit": 8,
                  "CumProbaExactMatch": 0.07,
                  "pos_1_6_freq": 10522,
                  "pos_2_0_freq": 10500,
                  "pos_4_7_freq": 10372,
                  "DrawNo": 495819,
                  "pos_3_8_freq": 10431,
                  "DaysSinceLastAnyMatch": 147,
                  "pos_4_2_freq": 10493,
                  "pos_4_8_freq": 10432,
                  "4_4": 5461,
                  "6_6": 5324,
                  "6_7": 10997,
                  "6_8": 10802,
                  "6_9": 10702,
                  "7_9": 10699,
                  "7_8": 10937,
                  "7_7": 5460,
                  "DaysUntilNextAnyMatch": 0,
                  "pos_1_9_freq": 10273,
                  "pos_3_2_freq": 10491,
                  "pos_2_3_freq": 10572,
                  "pos_1_5_freq": 10282,
                  "pos_1_0_freq": 10497,
                  "PrizeType": "SpecialNo3",
                  "pos_4_5_freq": 10282,
                  "pos_2_1_freq": 10739,
                  "pos_3_9_freq": 10276,
                  "pos_3_3_freq": 10574,
                  "pos_1_1_freq": 10737,
                  "CumProbaAnyMatch": 1.38,
                  "pos_1_3_freq": 10571
                },
                {
                  "DrawDayofweek": 6,
                  "1_7": 11170,
                  "1_6": 11125,
                  "1_5": 10988,
                  "1_4": 11283,
                  "1_3": 11205,
                  "DrawMonth": 6,
                  "1_1": 5573,
                  "0_9": 10950,
                  "0_6": 10814,
                  "0_7": 10962,
                  "0_4": 10946,
                  "0_5": 10857,
                  "0_2": 10908,
                  "0_3": 11165,
                  "0_0": 5531,
                  "1_8": 11058,
                  "pos_2_6_freq": 10525,
                  "pos_2_8_freq": 10431,
                  "DrawDayofyear": 160,
                  "4_8": 10936,
                  "4_9": 10955,
                  "5_7": 10710,
                  "5_6": 10709,
                  "5_5": 5317,
                  "5_9": 10987,
                  "5_8": 10771,
                  "4_6": 10856,
                  "4_7": 10789,
                  "3rd_digit": 6,
                  "4_5": 10717,
                  "pos_3_4_freq": 10504,
                  "LuckyNo": 3669,
                  "pos_4_0_freq": 10498,
                  "pos_4_4_freq": 10504,
                  "2nd_digit": 6,
                  "DaysUntilNextExactMatch": 0,
                  "DrawDay": 9,
                  "1_2": 11199,
                  "0_8": 10880,
                  "pos_3_0_freq": 10499,
                  "1st_digit": 3,
                  "pos_1_2_freq": 10489,
                  "pos_2_9_freq": 10275,
                  "pos_3_1_freq": 10741,
                  "DrawYear": 2019,
                  "8_8": 5408,
                  "8_9": 10835,
                  "index": 104667,
                  "9_9": 5438,
                  "pos_2_5_freq": 10285,
                  "1_9": 11161,
                  "DaysSinceLastExactMatch": 14,
                  "pos_1_4_freq": 10503,
                  "0_1": 11063,
                  "pos_1_8_freq": 10429,
                  "pos_3_7_freq": 10372,
                  "pos_4_9_freq": 10276,
                  "pos_4_1_freq": 10740,
                  "DrawDate": "2019-06-09T00:00:00.000Z",
                  "pos_3_6_freq": 10524,
                  "pos_4_3_freq": 10575,
                  "pos_3_5_freq": 10284,
                  "pos_2_7_freq": 10372,
                  "pos_1_7_freq": 10370,
                  "pos_2_4_freq": 10504,
                  "DrawWeek": 23,
                  "pos_2_2_freq": 10493,
                  "pos_4_6_freq": 10524,
                  "2_8": 10780,
                  "2_9": 10820,
                  "3_3": 5701,
                  "3_5": 11061,
                  "3_4": 11002,
                  "3_7": 11069,
                  "3_6": 10997,
                  "3_9": 11076,
                  "3_8": 10987,
                  "2_2": 5558,
                  "2_3": 11049,
                  "2_4": 11038,
                  "2_5": 10888,
                  "2_6": 10989,
                  "2_7": 10826,
                  "4th_digit": 9,
                  "CumProbaExactMatch": 0.12,
                  "pos_1_6_freq": 10522,
                  "pos_2_0_freq": 10500,
                  "pos_4_7_freq": 10372,
                  "DrawNo": 495819,
                  "pos_3_8_freq": 10431,
                  "DaysSinceLastAnyMatch": 14,
                  "pos_4_2_freq": 10493,
                  "pos_4_8_freq": 10432,
                  "4_4": 5461,
                  "6_6": 5324,
                  "6_7": 10997,
                  "6_8": 10802,
                  "6_9": 10702,
                  "7_9": 10699,
                  "7_8": 10937,
                  "7_7": 5460,
                  "DaysUntilNextAnyMatch": 0,
                  "pos_1_9_freq": 10273,
                  "pos_3_2_freq": 10491,
                  "pos_2_3_freq": 10572,
                  "pos_1_5_freq": 10282,
                  "pos_1_0_freq": 10497,
                  "PrizeType": "SpecialNo4",
                  "pos_4_5_freq": 10282,
                  "pos_2_1_freq": 10739,
                  "pos_3_9_freq": 10276,
                  "pos_3_3_freq": 10574,
                  "pos_1_1_freq": 10737,
                  "CumProbaAnyMatch": 1.33,
                  "pos_1_3_freq": 10571
                },
                {
                  "DrawDayofweek": 6,
                  "1_7": 11170,
                  "1_6": 11125,
                  "1_5": 10988,
                  "1_4": 11283,
                  "1_3": 11205,
                  "DrawMonth": 6,
                  "1_1": 5573,
                  "0_9": 10950,
                  "0_6": 10814,
                  "0_7": 10962,
                  "0_4": 10946,
                  "0_5": 10857,
                  "0_2": 10908,
                  "0_3": 11165,
                  "0_0": 5531,
                  "1_8": 11058,
                  "pos_2_6_freq": 10525,
                  "pos_2_8_freq": 10431,
                  "DrawDayofyear": 160,
                  "4_8": 10936,
                  "4_9": 10955,
                  "5_7": 10710,
                  "5_6": 10709,
                  "5_5": 5317,
                  "5_9": 10987,
                  "5_8": 10771,
                  "4_6": 10856,
                  "4_7": 10789,
                  "3rd_digit": 1,
                  "4_5": 10717,
                  "pos_3_4_freq": 10504,
                  "LuckyNo": 9517,
                  "pos_4_0_freq": 10498,
                  "pos_4_4_freq": 10504,
                  "2nd_digit": 5,
                  "DaysUntilNextExactMatch": 0,
                  "DrawDay": 9,
                  "1_2": 11199,
                  "0_8": 10880,
                  "pos_3_0_freq": 10499,
                  "1st_digit": 9,
                  "pos_1_2_freq": 10489,
                  "pos_2_9_freq": 10275,
                  "pos_3_1_freq": 10741,
                  "DrawYear": 2019,
                  "8_8": 5408,
                  "8_9": 10835,
                  "index": 104668,
                  "9_9": 5438,
                  "pos_2_5_freq": 10285,
                  "1_9": 11161,
                  "DaysSinceLastExactMatch": 603,
                  "pos_1_4_freq": 10503,
                  "0_1": 11063,
                  "pos_1_8_freq": 10429,
                  "pos_3_7_freq": 10372,
                  "pos_4_9_freq": 10276,
                  "pos_4_1_freq": 10740,
                  "DrawDate": "2019-06-09T00:00:00.000Z",
                  "pos_3_6_freq": 10524,
                  "pos_4_3_freq": 10575,
                  "pos_3_5_freq": 10284,
                  "pos_2_7_freq": 10372,
                  "pos_1_7_freq": 10370,
                  "pos_2_4_freq": 10504,
                  "DrawWeek": 23,
                  "pos_2_2_freq": 10493,
                  "pos_4_6_freq": 10524,
                  "2_8": 10780,
                  "2_9": 10820,
                  "3_3": 5701,
                  "3_5": 11061,
                  "3_4": 11002,
                  "3_7": 11069,
                  "3_6": 10997,
                  "3_9": 11076,
                  "3_8": 10987,
                  "2_2": 5558,
                  "2_3": 11049,
                  "2_4": 11038,
                  "2_5": 10888,
                  "2_6": 10989,
                  "2_7": 10826,
                  "4th_digit": 7,
                  "CumProbaExactMatch": 0.14,
                  "pos_1_6_freq": 10522,
                  "pos_2_0_freq": 10500,
                  "pos_4_7_freq": 10372,
                  "DrawNo": 495819,
                  "pos_3_8_freq": 10431,
                  "DaysSinceLastAnyMatch": 7,
                  "pos_4_2_freq": 10493,
                  "pos_4_8_freq": 10432,
                  "4_4": 5461,
                  "6_6": 5324,
                  "6_7": 10997,
                  "6_8": 10802,
                  "6_9": 10702,
                  "7_9": 10699,
                  "7_8": 10937,
                  "7_7": 5460,
                  "DaysUntilNextAnyMatch": 0,
                  "pos_1_9_freq": 10273,
                  "pos_3_2_freq": 10491,
                  "pos_2_3_freq": 10572,
                  "pos_1_5_freq": 10282,
                  "pos_1_0_freq": 10497,
                  "PrizeType": "SpecialNo5",
                  "pos_4_5_freq": 10282,
                  "pos_2_1_freq": 10739,
                  "pos_3_9_freq": 10276,
                  "pos_3_3_freq": 10574,
                  "pos_1_1_freq": 10737,
                  "CumProbaAnyMatch": 2.25,
                  "pos_1_3_freq": 10571
                },
                {
                  "DrawDayofweek": 6,
                  "1_7": 11170,
                  "1_6": 11125,
                  "1_5": 10988,
                  "1_4": 11283,
                  "1_3": 11205,
                  "DrawMonth": 6,
                  "1_1": 5573,
                  "0_9": 10950,
                  "0_6": 10814,
                  "0_7": 10962,
                  "0_4": 10946,
                  "0_5": 10857,
                  "0_2": 10908,
                  "0_3": 11165,
                  "0_0": 5531,
                  "1_8": 11058,
                  "pos_2_6_freq": 10525,
                  "pos_2_8_freq": 10431,
                  "DrawDayofyear": 160,
                  "4_8": 10936,
                  "4_9": 10955,
                  "5_7": 10710,
                  "5_6": 10709,
                  "5_5": 5317,
                  "5_9": 10987,
                  "5_8": 10771,
                  "4_6": 10856,
                  "4_7": 10789,
                  "3rd_digit": 4,
                  "4_5": 10717,
                  "pos_3_4_freq": 10504,
                  "LuckyNo": 1844,
                  "pos_4_0_freq": 10498,
                  "pos_4_4_freq": 10504,
                  "2nd_digit": 8,
                  "DaysUntilNextExactMatch": 0,
                  "DrawDay": 9,
                  "1_2": 11199,
                  "0_8": 10880,
                  "pos_3_0_freq": 10499,
                  "1st_digit": 1,
                  "pos_1_2_freq": 10489,
                  "pos_2_9_freq": 10275,
                  "pos_3_1_freq": 10741,
                  "DrawYear": 2019,
                  "8_8": 5408,
                  "8_9": 10835,
                  "index": 104669,
                  "9_9": 5438,
                  "pos_2_5_freq": 10285,
                  "1_9": 11161,
                  "DaysSinceLastExactMatch": 1187,
                  "pos_1_4_freq": 10503,
                  "0_1": 11063,
                  "pos_1_8_freq": 10429,
                  "pos_3_7_freq": 10372,
                  "pos_4_9_freq": 10276,
                  "pos_4_1_freq": 10740,
                  "DrawDate": "2019-06-09T00:00:00.000Z",
                  "pos_3_6_freq": 10524,
                  "pos_4_3_freq": 10575,
                  "pos_3_5_freq": 10284,
                  "pos_2_7_freq": 10372,
                  "pos_1_7_freq": 10370,
                  "pos_2_4_freq": 10504,
                  "DrawWeek": 23,
                  "pos_2_2_freq": 10493,
                  "pos_4_6_freq": 10524,
                  "2_8": 10780,
                  "2_9": 10820,
                  "3_3": 5701,
                  "3_5": 11061,
                  "3_4": 11002,
                  "3_7": 11069,
                  "3_6": 10997,
                  "3_9": 11076,
                  "3_8": 10987,
                  "2_2": 5558,
                  "2_3": 11049,
                  "2_4": 11038,
                  "2_5": 10888,
                  "2_6": 10989,
                  "2_7": 10826,
                  "4th_digit": 4,
                  "CumProbaExactMatch": 0.11,
                  "pos_1_6_freq": 10522,
                  "pos_2_0_freq": 10500,
                  "pos_4_7_freq": 10372,
                  "DrawNo": 495819,
                  "pos_3_8_freq": 10431,
                  "DaysSinceLastAnyMatch": 15,
                  "pos_4_2_freq": 10493,
                  "pos_4_8_freq": 10432,
                  "4_4": 5461,
                  "6_6": 5324,
                  "6_7": 10997,
                  "6_8": 10802,
                  "6_9": 10702,
                  "7_9": 10699,
                  "7_8": 10937,
                  "7_7": 5460,
                  "DaysUntilNextAnyMatch": 0,
                  "pos_1_9_freq": 10273,
                  "pos_3_2_freq": 10491,
                  "pos_2_3_freq": 10572,
                  "pos_1_5_freq": 10282,
                  "pos_1_0_freq": 10497,
                  "PrizeType": "SpecialNo6",
                  "pos_4_5_freq": 10282,
                  "pos_2_1_freq": 10739,
                  "pos_3_9_freq": 10276,
                  "pos_3_3_freq": 10574,
                  "pos_1_1_freq": 10737,
                  "CumProbaAnyMatch": 1.46,
                  "pos_1_3_freq": 10571
                },
                {
                  "DrawDayofweek": 6,
                  "1_7": 11170,
                  "1_6": 11125,
                  "1_5": 10988,
                  "1_4": 11283,
                  "1_3": 11205,
                  "DrawMonth": 6,
                  "1_1": 5573,
                  "0_9": 10950,
                  "0_6": 10814,
                  "0_7": 10962,
                  "0_4": 10946,
                  "0_5": 10857,
                  "0_2": 10908,
                  "0_3": 11165,
                  "0_0": 5531,
                  "1_8": 11058,
                  "pos_2_6_freq": 10525,
                  "pos_2_8_freq": 10431,
                  "DrawDayofyear": 160,
                  "4_8": 10936,
                  "4_9": 10955,
                  "5_7": 10710,
                  "5_6": 10709,
                  "5_5": 5317,
                  "5_9": 10987,
                  "5_8": 10771,
                  "4_6": 10856,
                  "4_7": 10789,
                  "3rd_digit": 5,
                  "4_5": 10717,
                  "pos_3_4_freq": 10504,
                  "LuckyNo": 5050,
                  "pos_4_0_freq": 10498,
                  "pos_4_4_freq": 10504,
                  "2nd_digit": 0,
                  "DaysUntilNextExactMatch": 0,
                  "DrawDay": 9,
                  "1_2": 11199,
                  "0_8": 10880,
                  "pos_3_0_freq": 10499,
                  "1st_digit": 5,
                  "pos_1_2_freq": 10489,
                  "pos_2_9_freq": 10275,
                  "pos_3_1_freq": 10741,
                  "DrawYear": 2019,
                  "8_8": 5408,
                  "8_9": 10835,
                  "index": 104670,
                  "9_9": 5438,
                  "pos_2_5_freq": 10285,
                  "1_9": 11161,
                  "DaysSinceLastExactMatch": 120,
                  "pos_1_4_freq": 10503,
                  "0_1": 11063,
                  "pos_1_8_freq": 10429,
                  "pos_3_7_freq": 10372,
                  "pos_4_9_freq": 10276,
                  "pos_4_1_freq": 10740,
                  "DrawDate": "2019-06-09T00:00:00.000Z",
                  "pos_3_6_freq": 10524,
                  "pos_4_3_freq": 10575,
                  "pos_3_5_freq": 10284,
                  "pos_2_7_freq": 10372,
                  "pos_1_7_freq": 10370,
                  "pos_2_4_freq": 10504,
                  "DrawWeek": 23,
                  "pos_2_2_freq": 10493,
                  "pos_4_6_freq": 10524,
                  "2_8": 10780,
                  "2_9": 10820,
                  "3_3": 5701,
                  "3_5": 11061,
                  "3_4": 11002,
                  "3_7": 11069,
                  "3_6": 10997,
                  "3_9": 11076,
                  "3_8": 10987,
                  "2_2": 5558,
                  "2_3": 11049,
                  "2_4": 11038,
                  "2_5": 10888,
                  "2_6": 10989,
                  "2_7": 10826,
                  "4th_digit": 0,
                  "CumProbaExactMatch": 0.07,
                  "pos_1_6_freq": 10522,
                  "pos_2_0_freq": 10500,
                  "pos_4_7_freq": 10372,
                  "DrawNo": 495819,
                  "pos_3_8_freq": 10431,
                  "DaysSinceLastAnyMatch": 120,
                  "pos_4_2_freq": 10493,
                  "pos_4_8_freq": 10432,
                  "4_4": 5461,
                  "6_6": 5324,
                  "6_7": 10997,
                  "6_8": 10802,
                  "6_9": 10702,
                  "7_9": 10699,
                  "7_8": 10937,
                  "7_7": 5460,
                  "DaysUntilNextAnyMatch": 0,
                  "pos_1_9_freq": 10273,
                  "pos_3_2_freq": 10491,
                  "pos_2_3_freq": 10572,
                  "pos_1_5_freq": 10282,
                  "pos_1_0_freq": 10497,
                  "PrizeType": "SpecialNo7",
                  "pos_4_5_freq": 10282,
                  "pos_2_1_freq": 10739,
                  "pos_3_9_freq": 10276,
                  "pos_3_3_freq": 10574,
                  "pos_1_1_freq": 10737,
                  "CumProbaAnyMatch": 0.49,
                  "pos_1_3_freq": 10571
                },
                {
                  "DrawDayofweek": 6,
                  "1_7": 11170,
                  "1_6": 11125,
                  "1_5": 10988,
                  "1_4": 11283,
                  "1_3": 11205,
                  "DrawMonth": 6,
                  "1_1": 5573,
                  "0_9": 10950,
                  "0_6": 10814,
                  "0_7": 10962,
                  "0_4": 10946,
                  "0_5": 10857,
                  "0_2": 10908,
                  "0_3": 11165,
                  "0_0": 5531,
                  "1_8": 11058,
                  "pos_2_6_freq": 10525,
                  "pos_2_8_freq": 10431,
                  "DrawDayofyear": 160,
                  "4_8": 10936,
                  "4_9": 10955,
                  "5_7": 10710,
                  "5_6": 10709,
                  "5_5": 5317,
                  "5_9": 10987,
                  "5_8": 10771,
                  "4_6": 10856,
                  "4_7": 10789,
                  "3rd_digit": 7,
                  "4_5": 10717,
                  "pos_3_4_freq": 10504,
                  "LuckyNo": 9073,
                  "pos_4_0_freq": 10498,
                  "pos_4_4_freq": 10504,
                  "2nd_digit": 0,
                  "DaysUntilNextExactMatch": 0,
                  "DrawDay": 9,
                  "1_2": 11199,
                  "0_8": 10880,
                  "pos_3_0_freq": 10499,
                  "1st_digit": 9,
                  "pos_1_2_freq": 10489,
                  "pos_2_9_freq": 10275,
                  "pos_3_1_freq": 10741,
                  "DrawYear": 2019,
                  "8_8": 5408,
                  "8_9": 10835,
                  "index": 104671,
                  "9_9": 5438,
                  "pos_2_5_freq": 10285,
                  "1_9": 11161,
                  "DaysSinceLastExactMatch": 592,
                  "pos_1_4_freq": 10503,
                  "0_1": 11063,
                  "pos_1_8_freq": 10429,
                  "pos_3_7_freq": 10372,
                  "pos_4_9_freq": 10276,
                  "pos_4_1_freq": 10740,
                  "DrawDate": "2019-06-09T00:00:00.000Z",
                  "pos_3_6_freq": 10524,
                  "pos_4_3_freq": 10575,
                  "pos_3_5_freq": 10284,
                  "pos_2_7_freq": 10372,
                  "pos_1_7_freq": 10370,
                  "pos_2_4_freq": 10504,
                  "DrawWeek": 23,
                  "pos_2_2_freq": 10493,
                  "pos_4_6_freq": 10524,
                  "2_8": 10780,
                  "2_9": 10820,
                  "3_3": 5701,
                  "3_5": 11061,
                  "3_4": 11002,
                  "3_7": 11069,
                  "3_6": 10997,
                  "3_9": 11076,
                  "3_8": 10987,
                  "2_2": 5558,
                  "2_3": 11049,
                  "2_4": 11038,
                  "2_5": 10888,
                  "2_6": 10989,
                  "2_7": 10826,
                  "4th_digit": 3,
                  "CumProbaExactMatch": 0.14,
                  "pos_1_6_freq": 10522,
                  "pos_2_0_freq": 10500,
                  "pos_4_7_freq": 10372,
                  "DrawNo": 495819,
                  "pos_3_8_freq": 10431,
                  "DaysSinceLastAnyMatch": 0,
                  "pos_4_2_freq": 10493,
                  "pos_4_8_freq": 10432,
                  "4_4": 5461,
                  "6_6": 5324,
                  "6_7": 10997,
                  "6_8": 10802,
                  "6_9": 10702,
                  "7_9": 10699,
                  "7_8": 10937,
                  "7_7": 5460,
                  "DaysUntilNextAnyMatch": 0,
                  "pos_1_9_freq": 10273,
                  "pos_3_2_freq": 10491,
                  "pos_2_3_freq": 10572,
                  "pos_1_5_freq": 10282,
                  "pos_1_0_freq": 10497,
                  "PrizeType": "SpecialNo8",
                  "pos_4_5_freq": 10282,
                  "pos_2_1_freq": 10739,
                  "pos_3_9_freq": 10276,
                  "pos_3_3_freq": 10574,
                  "pos_1_1_freq": 10737,
                  "CumProbaAnyMatch": 2.64,
                  "pos_1_3_freq": 10571
                },
                {
                  "DrawDayofweek": 6,
                  "1_7": 11170,
                  "1_6": 11125,
                  "1_5": 10988,
                  "1_4": 11283,
                  "1_3": 11205,
                  "DrawMonth": 6,
                  "1_1": 5573,
                  "0_9": 10950,
                  "0_6": 10814,
                  "0_7": 10962,
                  "0_4": 10946,
                  "0_5": 10857,
                  "0_2": 10908,
                  "0_3": 11165,
                  "0_0": 5531,
                  "1_8": 11058,
                  "pos_2_6_freq": 10525,
                  "pos_2_8_freq": 10431,
                  "DrawDayofyear": 160,
                  "4_8": 10936,
                  "4_9": 10955,
                  "5_7": 10710,
                  "5_6": 10709,
                  "5_5": 5317,
                  "5_9": 10987,
                  "5_8": 10771,
                  "4_6": 10856,
                  "4_7": 10789,
                  "3rd_digit": 7,
                  "4_5": 10717,
                  "pos_3_4_freq": 10504,
                  "LuckyNo": 2976,
                  "pos_4_0_freq": 10498,
                  "pos_4_4_freq": 10504,
                  "2nd_digit": 9,
                  "DaysUntilNextExactMatch": 0,
                  "DrawDay": 9,
                  "1_2": 11199,
                  "0_8": 10880,
                  "pos_3_0_freq": 10499,
                  "1st_digit": 2,
                  "pos_1_2_freq": 10489,
                  "pos_2_9_freq": 10275,
                  "pos_3_1_freq": 10741,
                  "DrawYear": 2019,
                  "8_8": 5408,
                  "8_9": 10835,
                  "index": 104672,
                  "9_9": 5438,
                  "pos_2_5_freq": 10285,
                  "1_9": 11161,
                  "DaysSinceLastExactMatch": 2066,
                  "pos_1_4_freq": 10503,
                  "0_1": 11063,
                  "pos_1_8_freq": 10429,
                  "pos_3_7_freq": 10372,
                  "pos_4_9_freq": 10276,
                  "pos_4_1_freq": 10740,
                  "DrawDate": "2019-06-09T00:00:00.000Z",
                  "pos_3_6_freq": 10524,
                  "pos_4_3_freq": 10575,
                  "pos_3_5_freq": 10284,
                  "pos_2_7_freq": 10372,
                  "pos_1_7_freq": 10370,
                  "pos_2_4_freq": 10504,
                  "DrawWeek": 23,
                  "pos_2_2_freq": 10493,
                  "pos_4_6_freq": 10524,
                  "2_8": 10780,
                  "2_9": 10820,
                  "3_3": 5701,
                  "3_5": 11061,
                  "3_4": 11002,
                  "3_7": 11069,
                  "3_6": 10997,
                  "3_9": 11076,
                  "3_8": 10987,
                  "2_2": 5558,
                  "2_3": 11049,
                  "2_4": 11038,
                  "2_5": 10888,
                  "2_6": 10989,
                  "2_7": 10826,
                  "4th_digit": 6,
                  "CumProbaExactMatch": 0.08,
                  "pos_1_6_freq": 10522,
                  "pos_2_0_freq": 10500,
                  "pos_4_7_freq": 10372,
                  "DrawNo": 495819,
                  "pos_3_8_freq": 10431,
                  "DaysSinceLastAnyMatch": 39,
                  "pos_4_2_freq": 10493,
                  "pos_4_8_freq": 10432,
                  "4_4": 5461,
                  "6_6": 5324,
                  "6_7": 10997,
                  "6_8": 10802,
                  "6_9": 10702,
                  "7_9": 10699,
                  "7_8": 10937,
                  "7_7": 5460,
                  "DaysUntilNextAnyMatch": 0,
                  "pos_1_9_freq": 10273,
                  "pos_3_2_freq": 10491,
                  "pos_2_3_freq": 10572,
                  "pos_1_5_freq": 10282,
                  "pos_1_0_freq": 10497,
                  "PrizeType": "SpecialNo9",
                  "pos_4_5_freq": 10282,
                  "pos_2_1_freq": 10739,
                  "pos_3_9_freq": 10276,
                  "pos_3_3_freq": 10574,
                  "pos_1_1_freq": 10737,
                  "CumProbaAnyMatch": 2.32,
                  "pos_1_3_freq": 10571
                }
              ],
              "schema": {
                "fields": [
                  {
                    "type": "integer",
                    "name": "index"
                  },
                  {
                    "type": "integer",
                    "name": "DrawNo"
                  },
                  {
                    "type": "datetime",
                    "name": "DrawDate"
                  },
                  {
                    "type": "string",
                    "name": "PrizeType"
                  },
                  {
                    "type": "integer",
                    "name": "LuckyNo"
                  },
                  {
                    "type": "integer",
                    "name": "DaysSinceLastExactMatch"
                  },
                  {
                    "type": "integer",
                    "name": "DaysUntilNextExactMatch"
                  },
                  {
                    "type": "integer",
                    "name": "DaysSinceLastAnyMatch"
                  },
                  {
                    "type": "integer",
                    "name": "DaysUntilNextAnyMatch"
                  },
                  {
                    "type": "integer",
                    "name": "1st_digit"
                  },
                  {
                    "type": "integer",
                    "name": "2nd_digit"
                  },
                  {
                    "type": "integer",
                    "name": "3rd_digit"
                  },
                  {
                    "type": "integer",
                    "name": "4th_digit"
                  },
                  {
                    "type": "integer",
                    "name": "DrawYear"
                  },
                  {
                    "type": "integer",
                    "name": "DrawMonth"
                  },
                  {
                    "type": "integer",
                    "name": "DrawWeek"
                  },
                  {
                    "type": "integer",
                    "name": "DrawDay"
                  },
                  {
                    "type": "integer",
                    "name": "DrawDayofweek"
                  },
                  {
                    "type": "integer",
                    "name": "DrawDayofyear"
                  },
                  {
                    "type": "number",
                    "name": "CumProbaExactMatch"
                  },
                  {
                    "type": "number",
                    "name": "CumProbaAnyMatch"
                  },
                  {
                    "type": "integer",
                    "name": "0_1"
                  },
                  {
                    "type": "integer",
                    "name": "0_2"
                  },
                  {
                    "type": "integer",
                    "name": "0_3"
                  },
                  {
                    "type": "integer",
                    "name": "0_4"
                  },
                  {
                    "type": "integer",
                    "name": "0_5"
                  },
                  {
                    "type": "integer",
                    "name": "0_6"
                  },
                  {
                    "type": "integer",
                    "name": "0_7"
                  },
                  {
                    "type": "integer",
                    "name": "0_8"
                  },
                  {
                    "type": "integer",
                    "name": "0_9"
                  },
                  {
                    "type": "integer",
                    "name": "1_2"
                  },
                  {
                    "type": "integer",
                    "name": "1_3"
                  },
                  {
                    "type": "integer",
                    "name": "1_4"
                  },
                  {
                    "type": "integer",
                    "name": "1_5"
                  },
                  {
                    "type": "integer",
                    "name": "1_6"
                  },
                  {
                    "type": "integer",
                    "name": "1_7"
                  },
                  {
                    "type": "integer",
                    "name": "1_8"
                  },
                  {
                    "type": "integer",
                    "name": "1_9"
                  },
                  {
                    "type": "integer",
                    "name": "2_3"
                  },
                  {
                    "type": "integer",
                    "name": "2_4"
                  },
                  {
                    "type": "integer",
                    "name": "2_5"
                  },
                  {
                    "type": "integer",
                    "name": "2_6"
                  },
                  {
                    "type": "integer",
                    "name": "2_7"
                  },
                  {
                    "type": "integer",
                    "name": "2_8"
                  },
                  {
                    "type": "integer",
                    "name": "2_9"
                  },
                  {
                    "type": "integer",
                    "name": "3_4"
                  },
                  {
                    "type": "integer",
                    "name": "3_5"
                  },
                  {
                    "type": "integer",
                    "name": "3_6"
                  },
                  {
                    "type": "integer",
                    "name": "3_7"
                  },
                  {
                    "type": "integer",
                    "name": "3_8"
                  },
                  {
                    "type": "integer",
                    "name": "3_9"
                  },
                  {
                    "type": "integer",
                    "name": "4_5"
                  },
                  {
                    "type": "integer",
                    "name": "4_6"
                  },
                  {
                    "type": "integer",
                    "name": "4_7"
                  },
                  {
                    "type": "integer",
                    "name": "4_8"
                  },
                  {
                    "type": "integer",
                    "name": "4_9"
                  },
                  {
                    "type": "integer",
                    "name": "5_6"
                  },
                  {
                    "type": "integer",
                    "name": "5_7"
                  },
                  {
                    "type": "integer",
                    "name": "5_8"
                  },
                  {
                    "type": "integer",
                    "name": "5_9"
                  },
                  {
                    "type": "integer",
                    "name": "6_7"
                  },
                  {
                    "type": "integer",
                    "name": "6_8"
                  },
                  {
                    "type": "integer",
                    "name": "6_9"
                  },
                  {
                    "type": "integer",
                    "name": "7_8"
                  },
                  {
                    "type": "integer",
                    "name": "7_9"
                  },
                  {
                    "type": "integer",
                    "name": "8_9"
                  },
                  {
                    "type": "integer",
                    "name": "0_0"
                  },
                  {
                    "type": "integer",
                    "name": "1_1"
                  },
                  {
                    "type": "integer",
                    "name": "2_2"
                  },
                  {
                    "type": "integer",
                    "name": "3_3"
                  },
                  {
                    "type": "integer",
                    "name": "4_4"
                  },
                  {
                    "type": "integer",
                    "name": "5_5"
                  },
                  {
                    "type": "integer",
                    "name": "6_6"
                  },
                  {
                    "type": "integer",
                    "name": "7_7"
                  },
                  {
                    "type": "integer",
                    "name": "8_8"
                  },
                  {
                    "type": "integer",
                    "name": "9_9"
                  },
                  {
                    "type": "integer",
                    "name": "pos_1_0_freq"
                  },
                  {
                    "type": "integer",
                    "name": "pos_1_1_freq"
                  },
                  {
                    "type": "integer",
                    "name": "pos_1_2_freq"
                  },
                  {
                    "type": "integer",
                    "name": "pos_1_3_freq"
                  },
                  {
                    "type": "integer",
                    "name": "pos_1_4_freq"
                  },
                  {
                    "type": "integer",
                    "name": "pos_1_5_freq"
                  },
                  {
                    "type": "integer",
                    "name": "pos_1_6_freq"
                  },
                  {
                    "type": "integer",
                    "name": "pos_1_7_freq"
                  },
                  {
                    "type": "integer",
                    "name": "pos_1_8_freq"
                  },
                  {
                    "type": "integer",
                    "name": "pos_1_9_freq"
                  },
                  {
                    "type": "integer",
                    "name": "pos_2_0_freq"
                  },
                  {
                    "type": "integer",
                    "name": "pos_2_1_freq"
                  },
                  {
                    "type": "integer",
                    "name": "pos_2_2_freq"
                  },
                  {
                    "type": "integer",
                    "name": "pos_2_3_freq"
                  },
                  {
                    "type": "integer",
                    "name": "pos_2_4_freq"
                  },
                  {
                    "type": "integer",
                    "name": "pos_2_5_freq"
                  },
                  {
                    "type": "integer",
                    "name": "pos_2_6_freq"
                  },
                  {
                    "type": "integer",
                    "name": "pos_2_7_freq"
                  },
                  {
                    "type": "integer",
                    "name": "pos_2_8_freq"
                  },
                  {
                    "type": "integer",
                    "name": "pos_2_9_freq"
                  },
                  {
                    "type": "integer",
                    "name": "pos_3_0_freq"
                  },
                  {
                    "type": "integer",
                    "name": "pos_3_1_freq"
                  },
                  {
                    "type": "integer",
                    "name": "pos_3_2_freq"
                  },
                  {
                    "type": "integer",
                    "name": "pos_3_3_freq"
                  },
                  {
                    "type": "integer",
                    "name": "pos_3_4_freq"
                  },
                  {
                    "type": "integer",
                    "name": "pos_3_5_freq"
                  },
                  {
                    "type": "integer",
                    "name": "pos_3_6_freq"
                  },
                  {
                    "type": "integer",
                    "name": "pos_3_7_freq"
                  },
                  {
                    "type": "integer",
                    "name": "pos_3_8_freq"
                  },
                  {
                    "type": "integer",
                    "name": "pos_3_9_freq"
                  },
                  {
                    "type": "integer",
                    "name": "pos_4_0_freq"
                  },
                  {
                    "type": "integer",
                    "name": "pos_4_1_freq"
                  },
                  {
                    "type": "integer",
                    "name": "pos_4_2_freq"
                  },
                  {
                    "type": "integer",
                    "name": "pos_4_3_freq"
                  },
                  {
                    "type": "integer",
                    "name": "pos_4_4_freq"
                  },
                  {
                    "type": "integer",
                    "name": "pos_4_5_freq"
                  },
                  {
                    "type": "integer",
                    "name": "pos_4_6_freq"
                  },
                  {
                    "type": "integer",
                    "name": "pos_4_7_freq"
                  },
                  {
                    "type": "integer",
                    "name": "pos_4_8_freq"
                  },
                  {
                    "type": "integer",
                    "name": "pos_4_9_freq"
                  }
                ],
                "pandas_version": "0.20.0",
                "primaryKey": [
                  "index"
                ]
              }
            },
            "text/html": [
              "<div>\n",
              "<style scoped>\n",
              "    .dataframe tbody tr th:only-of-type {\n",
              "        vertical-align: middle;\n",
              "    }\n",
              "\n",
              "    .dataframe tbody tr th {\n",
              "        vertical-align: top;\n",
              "    }\n",
              "\n",
              "    .dataframe thead th {\n",
              "        text-align: right;\n",
              "    }\n",
              "</style>\n",
              "<table border=\"1\" class=\"dataframe\">\n",
              "  <thead>\n",
              "    <tr style=\"text-align: right;\">\n",
              "      <th></th>\n",
              "      <th>DrawNo</th>\n",
              "      <th>DrawDate</th>\n",
              "      <th>PrizeType</th>\n",
              "      <th>LuckyNo</th>\n",
              "      <th>DaysSinceLastExactMatch</th>\n",
              "      <th>DaysUntilNextExactMatch</th>\n",
              "      <th>DaysSinceLastAnyMatch</th>\n",
              "      <th>DaysUntilNextAnyMatch</th>\n",
              "      <th>1st_digit</th>\n",
              "      <th>2nd_digit</th>\n",
              "      <th>3rd_digit</th>\n",
              "      <th>4th_digit</th>\n",
              "      <th>DrawYear</th>\n",
              "      <th>DrawMonth</th>\n",
              "      <th>DrawWeek</th>\n",
              "      <th>DrawDay</th>\n",
              "      <th>DrawDayofweek</th>\n",
              "      <th>DrawDayofyear</th>\n",
              "      <th>CumProbaExactMatch</th>\n",
              "      <th>CumProbaAnyMatch</th>\n",
              "      <th>0_1</th>\n",
              "      <th>0_2</th>\n",
              "      <th>0_3</th>\n",
              "      <th>0_4</th>\n",
              "      <th>0_5</th>\n",
              "      <th>...</th>\n",
              "      <th>pos_2_5_freq</th>\n",
              "      <th>pos_2_6_freq</th>\n",
              "      <th>pos_2_7_freq</th>\n",
              "      <th>pos_2_8_freq</th>\n",
              "      <th>pos_2_9_freq</th>\n",
              "      <th>pos_3_0_freq</th>\n",
              "      <th>pos_3_1_freq</th>\n",
              "      <th>pos_3_2_freq</th>\n",
              "      <th>pos_3_3_freq</th>\n",
              "      <th>pos_3_4_freq</th>\n",
              "      <th>pos_3_5_freq</th>\n",
              "      <th>pos_3_6_freq</th>\n",
              "      <th>pos_3_7_freq</th>\n",
              "      <th>pos_3_8_freq</th>\n",
              "      <th>pos_3_9_freq</th>\n",
              "      <th>pos_4_0_freq</th>\n",
              "      <th>pos_4_1_freq</th>\n",
              "      <th>pos_4_2_freq</th>\n",
              "      <th>pos_4_3_freq</th>\n",
              "      <th>pos_4_4_freq</th>\n",
              "      <th>pos_4_5_freq</th>\n",
              "      <th>pos_4_6_freq</th>\n",
              "      <th>pos_4_7_freq</th>\n",
              "      <th>pos_4_8_freq</th>\n",
              "      <th>pos_4_9_freq</th>\n",
              "    </tr>\n",
              "  </thead>\n",
              "  <tbody>\n",
              "    <tr>\n",
              "      <th>104663</th>\n",
              "      <td>495819</td>\n",
              "      <td>2019-06-09</td>\n",
              "      <td>SpecialNo1</td>\n",
              "      <td>9569</td>\n",
              "      <td>705</td>\n",
              "      <td>0</td>\n",
              "      <td>95</td>\n",
              "      <td>0</td>\n",
              "      <td>9</td>\n",
              "      <td>5</td>\n",
              "      <td>6</td>\n",
              "      <td>9</td>\n",
              "      <td>2019</td>\n",
              "      <td>6</td>\n",
              "      <td>23</td>\n",
              "      <td>9</td>\n",
              "      <td>6</td>\n",
              "      <td>160</td>\n",
              "      <td>0.12</td>\n",
              "      <td>1.31</td>\n",
              "      <td>11063</td>\n",
              "      <td>10908</td>\n",
              "      <td>11165</td>\n",
              "      <td>10946</td>\n",
              "      <td>10857</td>\n",
              "      <td>...</td>\n",
              "      <td>10285</td>\n",
              "      <td>10525</td>\n",
              "      <td>10372</td>\n",
              "      <td>10431</td>\n",
              "      <td>10275</td>\n",
              "      <td>10499</td>\n",
              "      <td>10741</td>\n",
              "      <td>10491</td>\n",
              "      <td>10574</td>\n",
              "      <td>10504</td>\n",
              "      <td>10284</td>\n",
              "      <td>10524</td>\n",
              "      <td>10372</td>\n",
              "      <td>10431</td>\n",
              "      <td>10276</td>\n",
              "      <td>10498</td>\n",
              "      <td>10740</td>\n",
              "      <td>10493</td>\n",
              "      <td>10575</td>\n",
              "      <td>10504</td>\n",
              "      <td>10282</td>\n",
              "      <td>10524</td>\n",
              "      <td>10372</td>\n",
              "      <td>10432</td>\n",
              "      <td>10276</td>\n",
              "    </tr>\n",
              "    <tr>\n",
              "      <th>104664</th>\n",
              "      <td>495819</td>\n",
              "      <td>2019-06-09</td>\n",
              "      <td>SpecialNo10</td>\n",
              "      <td>6223</td>\n",
              "      <td>735</td>\n",
              "      <td>0</td>\n",
              "      <td>25</td>\n",
              "      <td>0</td>\n",
              "      <td>6</td>\n",
              "      <td>2</td>\n",
              "      <td>2</td>\n",
              "      <td>3</td>\n",
              "      <td>2019</td>\n",
              "      <td>6</td>\n",
              "      <td>23</td>\n",
              "      <td>9</td>\n",
              "      <td>6</td>\n",
              "      <td>160</td>\n",
              "      <td>0.06</td>\n",
              "      <td>1.17</td>\n",
              "      <td>11063</td>\n",
              "      <td>10908</td>\n",
              "      <td>11165</td>\n",
              "      <td>10946</td>\n",
              "      <td>10857</td>\n",
              "      <td>...</td>\n",
              "      <td>10285</td>\n",
              "      <td>10525</td>\n",
              "      <td>10372</td>\n",
              "      <td>10431</td>\n",
              "      <td>10275</td>\n",
              "      <td>10499</td>\n",
              "      <td>10741</td>\n",
              "      <td>10491</td>\n",
              "      <td>10574</td>\n",
              "      <td>10504</td>\n",
              "      <td>10284</td>\n",
              "      <td>10524</td>\n",
              "      <td>10372</td>\n",
              "      <td>10431</td>\n",
              "      <td>10276</td>\n",
              "      <td>10498</td>\n",
              "      <td>10740</td>\n",
              "      <td>10493</td>\n",
              "      <td>10575</td>\n",
              "      <td>10504</td>\n",
              "      <td>10282</td>\n",
              "      <td>10524</td>\n",
              "      <td>10372</td>\n",
              "      <td>10432</td>\n",
              "      <td>10276</td>\n",
              "    </tr>\n",
              "    <tr>\n",
              "      <th>104665</th>\n",
              "      <td>495819</td>\n",
              "      <td>2019-06-09</td>\n",
              "      <td>SpecialNo2</td>\n",
              "      <td>791</td>\n",
              "      <td>613</td>\n",
              "      <td>0</td>\n",
              "      <td>28</td>\n",
              "      <td>0</td>\n",
              "      <td>0</td>\n",
              "      <td>7</td>\n",
              "      <td>9</td>\n",
              "      <td>1</td>\n",
              "      <td>2019</td>\n",
              "      <td>6</td>\n",
              "      <td>23</td>\n",
              "      <td>9</td>\n",
              "      <td>6</td>\n",
              "      <td>160</td>\n",
              "      <td>0.11</td>\n",
              "      <td>2.56</td>\n",
              "      <td>11063</td>\n",
              "      <td>10908</td>\n",
              "      <td>11165</td>\n",
              "      <td>10946</td>\n",
              "      <td>10857</td>\n",
              "      <td>...</td>\n",
              "      <td>10285</td>\n",
              "      <td>10525</td>\n",
              "      <td>10372</td>\n",
              "      <td>10431</td>\n",
              "      <td>10275</td>\n",
              "      <td>10499</td>\n",
              "      <td>10741</td>\n",
              "      <td>10491</td>\n",
              "      <td>10574</td>\n",
              "      <td>10504</td>\n",
              "      <td>10284</td>\n",
              "      <td>10524</td>\n",
              "      <td>10372</td>\n",
              "      <td>10431</td>\n",
              "      <td>10276</td>\n",
              "      <td>10498</td>\n",
              "      <td>10740</td>\n",
              "      <td>10493</td>\n",
              "      <td>10575</td>\n",
              "      <td>10504</td>\n",
              "      <td>10282</td>\n",
              "      <td>10524</td>\n",
              "      <td>10372</td>\n",
              "      <td>10432</td>\n",
              "      <td>10276</td>\n",
              "    </tr>\n",
              "    <tr>\n",
              "      <th>104666</th>\n",
              "      <td>495819</td>\n",
              "      <td>2019-06-09</td>\n",
              "      <td>SpecialNo3</td>\n",
              "      <td>1218</td>\n",
              "      <td>1628</td>\n",
              "      <td>0</td>\n",
              "      <td>147</td>\n",
              "      <td>0</td>\n",
              "      <td>1</td>\n",
              "      <td>2</td>\n",
              "      <td>1</td>\n",
              "      <td>8</td>\n",
              "      <td>2019</td>\n",
              "      <td>6</td>\n",
              "      <td>23</td>\n",
              "      <td>9</td>\n",
              "      <td>6</td>\n",
              "      <td>160</td>\n",
              "      <td>0.07</td>\n",
              "      <td>1.38</td>\n",
              "      <td>11063</td>\n",
              "      <td>10908</td>\n",
              "      <td>11165</td>\n",
              "      <td>10946</td>\n",
              "      <td>10857</td>\n",
              "      <td>...</td>\n",
              "      <td>10285</td>\n",
              "      <td>10525</td>\n",
              "      <td>10372</td>\n",
              "      <td>10431</td>\n",
              "      <td>10275</td>\n",
              "      <td>10499</td>\n",
              "      <td>10741</td>\n",
              "      <td>10491</td>\n",
              "      <td>10574</td>\n",
              "      <td>10504</td>\n",
              "      <td>10284</td>\n",
              "      <td>10524</td>\n",
              "      <td>10372</td>\n",
              "      <td>10431</td>\n",
              "      <td>10276</td>\n",
              "      <td>10498</td>\n",
              "      <td>10740</td>\n",
              "      <td>10493</td>\n",
              "      <td>10575</td>\n",
              "      <td>10504</td>\n",
              "      <td>10282</td>\n",
              "      <td>10524</td>\n",
              "      <td>10372</td>\n",
              "      <td>10432</td>\n",
              "      <td>10276</td>\n",
              "    </tr>\n",
              "    <tr>\n",
              "      <th>104667</th>\n",
              "      <td>495819</td>\n",
              "      <td>2019-06-09</td>\n",
              "      <td>SpecialNo4</td>\n",
              "      <td>3669</td>\n",
              "      <td>14</td>\n",
              "      <td>0</td>\n",
              "      <td>14</td>\n",
              "      <td>0</td>\n",
              "      <td>3</td>\n",
              "      <td>6</td>\n",
              "      <td>6</td>\n",
              "      <td>9</td>\n",
              "      <td>2019</td>\n",
              "      <td>6</td>\n",
              "      <td>23</td>\n",
              "      <td>9</td>\n",
              "      <td>6</td>\n",
              "      <td>160</td>\n",
              "      <td>0.12</td>\n",
              "      <td>1.33</td>\n",
              "      <td>11063</td>\n",
              "      <td>10908</td>\n",
              "      <td>11165</td>\n",
              "      <td>10946</td>\n",
              "      <td>10857</td>\n",
              "      <td>...</td>\n",
              "      <td>10285</td>\n",
              "      <td>10525</td>\n",
              "      <td>10372</td>\n",
              "      <td>10431</td>\n",
              "      <td>10275</td>\n",
              "      <td>10499</td>\n",
              "      <td>10741</td>\n",
              "      <td>10491</td>\n",
              "      <td>10574</td>\n",
              "      <td>10504</td>\n",
              "      <td>10284</td>\n",
              "      <td>10524</td>\n",
              "      <td>10372</td>\n",
              "      <td>10431</td>\n",
              "      <td>10276</td>\n",
              "      <td>10498</td>\n",
              "      <td>10740</td>\n",
              "      <td>10493</td>\n",
              "      <td>10575</td>\n",
              "      <td>10504</td>\n",
              "      <td>10282</td>\n",
              "      <td>10524</td>\n",
              "      <td>10372</td>\n",
              "      <td>10432</td>\n",
              "      <td>10276</td>\n",
              "    </tr>\n",
              "    <tr>\n",
              "      <th>104668</th>\n",
              "      <td>495819</td>\n",
              "      <td>2019-06-09</td>\n",
              "      <td>SpecialNo5</td>\n",
              "      <td>9517</td>\n",
              "      <td>603</td>\n",
              "      <td>0</td>\n",
              "      <td>7</td>\n",
              "      <td>0</td>\n",
              "      <td>9</td>\n",
              "      <td>5</td>\n",
              "      <td>1</td>\n",
              "      <td>7</td>\n",
              "      <td>2019</td>\n",
              "      <td>6</td>\n",
              "      <td>23</td>\n",
              "      <td>9</td>\n",
              "      <td>6</td>\n",
              "      <td>160</td>\n",
              "      <td>0.14</td>\n",
              "      <td>2.25</td>\n",
              "      <td>11063</td>\n",
              "      <td>10908</td>\n",
              "      <td>11165</td>\n",
              "      <td>10946</td>\n",
              "      <td>10857</td>\n",
              "      <td>...</td>\n",
              "      <td>10285</td>\n",
              "      <td>10525</td>\n",
              "      <td>10372</td>\n",
              "      <td>10431</td>\n",
              "      <td>10275</td>\n",
              "      <td>10499</td>\n",
              "      <td>10741</td>\n",
              "      <td>10491</td>\n",
              "      <td>10574</td>\n",
              "      <td>10504</td>\n",
              "      <td>10284</td>\n",
              "      <td>10524</td>\n",
              "      <td>10372</td>\n",
              "      <td>10431</td>\n",
              "      <td>10276</td>\n",
              "      <td>10498</td>\n",
              "      <td>10740</td>\n",
              "      <td>10493</td>\n",
              "      <td>10575</td>\n",
              "      <td>10504</td>\n",
              "      <td>10282</td>\n",
              "      <td>10524</td>\n",
              "      <td>10372</td>\n",
              "      <td>10432</td>\n",
              "      <td>10276</td>\n",
              "    </tr>\n",
              "    <tr>\n",
              "      <th>104669</th>\n",
              "      <td>495819</td>\n",
              "      <td>2019-06-09</td>\n",
              "      <td>SpecialNo6</td>\n",
              "      <td>1844</td>\n",
              "      <td>1187</td>\n",
              "      <td>0</td>\n",
              "      <td>15</td>\n",
              "      <td>0</td>\n",
              "      <td>1</td>\n",
              "      <td>8</td>\n",
              "      <td>4</td>\n",
              "      <td>4</td>\n",
              "      <td>2019</td>\n",
              "      <td>6</td>\n",
              "      <td>23</td>\n",
              "      <td>9</td>\n",
              "      <td>6</td>\n",
              "      <td>160</td>\n",
              "      <td>0.11</td>\n",
              "      <td>1.46</td>\n",
              "      <td>11063</td>\n",
              "      <td>10908</td>\n",
              "      <td>11165</td>\n",
              "      <td>10946</td>\n",
              "      <td>10857</td>\n",
              "      <td>...</td>\n",
              "      <td>10285</td>\n",
              "      <td>10525</td>\n",
              "      <td>10372</td>\n",
              "      <td>10431</td>\n",
              "      <td>10275</td>\n",
              "      <td>10499</td>\n",
              "      <td>10741</td>\n",
              "      <td>10491</td>\n",
              "      <td>10574</td>\n",
              "      <td>10504</td>\n",
              "      <td>10284</td>\n",
              "      <td>10524</td>\n",
              "      <td>10372</td>\n",
              "      <td>10431</td>\n",
              "      <td>10276</td>\n",
              "      <td>10498</td>\n",
              "      <td>10740</td>\n",
              "      <td>10493</td>\n",
              "      <td>10575</td>\n",
              "      <td>10504</td>\n",
              "      <td>10282</td>\n",
              "      <td>10524</td>\n",
              "      <td>10372</td>\n",
              "      <td>10432</td>\n",
              "      <td>10276</td>\n",
              "    </tr>\n",
              "    <tr>\n",
              "      <th>104670</th>\n",
              "      <td>495819</td>\n",
              "      <td>2019-06-09</td>\n",
              "      <td>SpecialNo7</td>\n",
              "      <td>5050</td>\n",
              "      <td>120</td>\n",
              "      <td>0</td>\n",
              "      <td>120</td>\n",
              "      <td>0</td>\n",
              "      <td>5</td>\n",
              "      <td>0</td>\n",
              "      <td>5</td>\n",
              "      <td>0</td>\n",
              "      <td>2019</td>\n",
              "      <td>6</td>\n",
              "      <td>23</td>\n",
              "      <td>9</td>\n",
              "      <td>6</td>\n",
              "      <td>160</td>\n",
              "      <td>0.07</td>\n",
              "      <td>0.49</td>\n",
              "      <td>11063</td>\n",
              "      <td>10908</td>\n",
              "      <td>11165</td>\n",
              "      <td>10946</td>\n",
              "      <td>10857</td>\n",
              "      <td>...</td>\n",
              "      <td>10285</td>\n",
              "      <td>10525</td>\n",
              "      <td>10372</td>\n",
              "      <td>10431</td>\n",
              "      <td>10275</td>\n",
              "      <td>10499</td>\n",
              "      <td>10741</td>\n",
              "      <td>10491</td>\n",
              "      <td>10574</td>\n",
              "      <td>10504</td>\n",
              "      <td>10284</td>\n",
              "      <td>10524</td>\n",
              "      <td>10372</td>\n",
              "      <td>10431</td>\n",
              "      <td>10276</td>\n",
              "      <td>10498</td>\n",
              "      <td>10740</td>\n",
              "      <td>10493</td>\n",
              "      <td>10575</td>\n",
              "      <td>10504</td>\n",
              "      <td>10282</td>\n",
              "      <td>10524</td>\n",
              "      <td>10372</td>\n",
              "      <td>10432</td>\n",
              "      <td>10276</td>\n",
              "    </tr>\n",
              "    <tr>\n",
              "      <th>104671</th>\n",
              "      <td>495819</td>\n",
              "      <td>2019-06-09</td>\n",
              "      <td>SpecialNo8</td>\n",
              "      <td>9073</td>\n",
              "      <td>592</td>\n",
              "      <td>0</td>\n",
              "      <td>0</td>\n",
              "      <td>0</td>\n",
              "      <td>9</td>\n",
              "      <td>0</td>\n",
              "      <td>7</td>\n",
              "      <td>3</td>\n",
              "      <td>2019</td>\n",
              "      <td>6</td>\n",
              "      <td>23</td>\n",
              "      <td>9</td>\n",
              "      <td>6</td>\n",
              "      <td>160</td>\n",
              "      <td>0.14</td>\n",
              "      <td>2.64</td>\n",
              "      <td>11063</td>\n",
              "      <td>10908</td>\n",
              "      <td>11165</td>\n",
              "      <td>10946</td>\n",
              "      <td>10857</td>\n",
              "      <td>...</td>\n",
              "      <td>10285</td>\n",
              "      <td>10525</td>\n",
              "      <td>10372</td>\n",
              "      <td>10431</td>\n",
              "      <td>10275</td>\n",
              "      <td>10499</td>\n",
              "      <td>10741</td>\n",
              "      <td>10491</td>\n",
              "      <td>10574</td>\n",
              "      <td>10504</td>\n",
              "      <td>10284</td>\n",
              "      <td>10524</td>\n",
              "      <td>10372</td>\n",
              "      <td>10431</td>\n",
              "      <td>10276</td>\n",
              "      <td>10498</td>\n",
              "      <td>10740</td>\n",
              "      <td>10493</td>\n",
              "      <td>10575</td>\n",
              "      <td>10504</td>\n",
              "      <td>10282</td>\n",
              "      <td>10524</td>\n",
              "      <td>10372</td>\n",
              "      <td>10432</td>\n",
              "      <td>10276</td>\n",
              "    </tr>\n",
              "    <tr>\n",
              "      <th>104672</th>\n",
              "      <td>495819</td>\n",
              "      <td>2019-06-09</td>\n",
              "      <td>SpecialNo9</td>\n",
              "      <td>2976</td>\n",
              "      <td>2066</td>\n",
              "      <td>0</td>\n",
              "      <td>39</td>\n",
              "      <td>0</td>\n",
              "      <td>2</td>\n",
              "      <td>9</td>\n",
              "      <td>7</td>\n",
              "      <td>6</td>\n",
              "      <td>2019</td>\n",
              "      <td>6</td>\n",
              "      <td>23</td>\n",
              "      <td>9</td>\n",
              "      <td>6</td>\n",
              "      <td>160</td>\n",
              "      <td>0.08</td>\n",
              "      <td>2.32</td>\n",
              "      <td>11063</td>\n",
              "      <td>10908</td>\n",
              "      <td>11165</td>\n",
              "      <td>10946</td>\n",
              "      <td>10857</td>\n",
              "      <td>...</td>\n",
              "      <td>10285</td>\n",
              "      <td>10525</td>\n",
              "      <td>10372</td>\n",
              "      <td>10431</td>\n",
              "      <td>10275</td>\n",
              "      <td>10499</td>\n",
              "      <td>10741</td>\n",
              "      <td>10491</td>\n",
              "      <td>10574</td>\n",
              "      <td>10504</td>\n",
              "      <td>10284</td>\n",
              "      <td>10524</td>\n",
              "      <td>10372</td>\n",
              "      <td>10431</td>\n",
              "      <td>10276</td>\n",
              "      <td>10498</td>\n",
              "      <td>10740</td>\n",
              "      <td>10493</td>\n",
              "      <td>10575</td>\n",
              "      <td>10504</td>\n",
              "      <td>10282</td>\n",
              "      <td>10524</td>\n",
              "      <td>10372</td>\n",
              "      <td>10432</td>\n",
              "      <td>10276</td>\n",
              "    </tr>\n",
              "  </tbody>\n",
              "</table>\n",
              "<p>10 rows × 115 columns</p>\n",
              "</div>"
            ],
            "text/plain": [
              "        DrawNo   DrawDate    PrizeType  LuckyNo  DaysSinceLastExactMatch  \\\n",
              "104663  495819 2019-06-09   SpecialNo1     9569                      705   \n",
              "104664  495819 2019-06-09  SpecialNo10     6223                      735   \n",
              "104665  495819 2019-06-09   SpecialNo2      791                      613   \n",
              "104666  495819 2019-06-09   SpecialNo3     1218                     1628   \n",
              "104667  495819 2019-06-09   SpecialNo4     3669                       14   \n",
              "104668  495819 2019-06-09   SpecialNo5     9517                      603   \n",
              "104669  495819 2019-06-09   SpecialNo6     1844                     1187   \n",
              "104670  495819 2019-06-09   SpecialNo7     5050                      120   \n",
              "104671  495819 2019-06-09   SpecialNo8     9073                      592   \n",
              "104672  495819 2019-06-09   SpecialNo9     2976                     2066   \n",
              "\n",
              "        DaysUntilNextExactMatch  DaysSinceLastAnyMatch  DaysUntilNextAnyMatch  \\\n",
              "104663                        0                     95                      0   \n",
              "104664                        0                     25                      0   \n",
              "104665                        0                     28                      0   \n",
              "104666                        0                    147                      0   \n",
              "104667                        0                     14                      0   \n",
              "104668                        0                      7                      0   \n",
              "104669                        0                     15                      0   \n",
              "104670                        0                    120                      0   \n",
              "104671                        0                      0                      0   \n",
              "104672                        0                     39                      0   \n",
              "\n",
              "        1st_digit  2nd_digit  3rd_digit  4th_digit  DrawYear  DrawMonth  \\\n",
              "104663          9          5          6          9      2019          6   \n",
              "104664          6          2          2          3      2019          6   \n",
              "104665          0          7          9          1      2019          6   \n",
              "104666          1          2          1          8      2019          6   \n",
              "104667          3          6          6          9      2019          6   \n",
              "104668          9          5          1          7      2019          6   \n",
              "104669          1          8          4          4      2019          6   \n",
              "104670          5          0          5          0      2019          6   \n",
              "104671          9          0          7          3      2019          6   \n",
              "104672          2          9          7          6      2019          6   \n",
              "\n",
              "        DrawWeek  DrawDay  DrawDayofweek  DrawDayofyear  CumProbaExactMatch  \\\n",
              "104663        23        9              6            160                0.12   \n",
              "104664        23        9              6            160                0.06   \n",
              "104665        23        9              6            160                0.11   \n",
              "104666        23        9              6            160                0.07   \n",
              "104667        23        9              6            160                0.12   \n",
              "104668        23        9              6            160                0.14   \n",
              "104669        23        9              6            160                0.11   \n",
              "104670        23        9              6            160                0.07   \n",
              "104671        23        9              6            160                0.14   \n",
              "104672        23        9              6            160                0.08   \n",
              "\n",
              "        CumProbaAnyMatch    0_1    0_2    0_3    0_4    0_5  ...  \\\n",
              "104663              1.31  11063  10908  11165  10946  10857  ...   \n",
              "104664              1.17  11063  10908  11165  10946  10857  ...   \n",
              "104665              2.56  11063  10908  11165  10946  10857  ...   \n",
              "104666              1.38  11063  10908  11165  10946  10857  ...   \n",
              "104667              1.33  11063  10908  11165  10946  10857  ...   \n",
              "104668              2.25  11063  10908  11165  10946  10857  ...   \n",
              "104669              1.46  11063  10908  11165  10946  10857  ...   \n",
              "104670              0.49  11063  10908  11165  10946  10857  ...   \n",
              "104671              2.64  11063  10908  11165  10946  10857  ...   \n",
              "104672              2.32  11063  10908  11165  10946  10857  ...   \n",
              "\n",
              "        pos_2_5_freq  pos_2_6_freq  pos_2_7_freq  pos_2_8_freq  pos_2_9_freq  \\\n",
              "104663         10285         10525         10372         10431         10275   \n",
              "104664         10285         10525         10372         10431         10275   \n",
              "104665         10285         10525         10372         10431         10275   \n",
              "104666         10285         10525         10372         10431         10275   \n",
              "104667         10285         10525         10372         10431         10275   \n",
              "104668         10285         10525         10372         10431         10275   \n",
              "104669         10285         10525         10372         10431         10275   \n",
              "104670         10285         10525         10372         10431         10275   \n",
              "104671         10285         10525         10372         10431         10275   \n",
              "104672         10285         10525         10372         10431         10275   \n",
              "\n",
              "        pos_3_0_freq  pos_3_1_freq  pos_3_2_freq  pos_3_3_freq  pos_3_4_freq  \\\n",
              "104663         10499         10741         10491         10574         10504   \n",
              "104664         10499         10741         10491         10574         10504   \n",
              "104665         10499         10741         10491         10574         10504   \n",
              "104666         10499         10741         10491         10574         10504   \n",
              "104667         10499         10741         10491         10574         10504   \n",
              "104668         10499         10741         10491         10574         10504   \n",
              "104669         10499         10741         10491         10574         10504   \n",
              "104670         10499         10741         10491         10574         10504   \n",
              "104671         10499         10741         10491         10574         10504   \n",
              "104672         10499         10741         10491         10574         10504   \n",
              "\n",
              "        pos_3_5_freq  pos_3_6_freq  pos_3_7_freq  pos_3_8_freq  pos_3_9_freq  \\\n",
              "104663         10284         10524         10372         10431         10276   \n",
              "104664         10284         10524         10372         10431         10276   \n",
              "104665         10284         10524         10372         10431         10276   \n",
              "104666         10284         10524         10372         10431         10276   \n",
              "104667         10284         10524         10372         10431         10276   \n",
              "104668         10284         10524         10372         10431         10276   \n",
              "104669         10284         10524         10372         10431         10276   \n",
              "104670         10284         10524         10372         10431         10276   \n",
              "104671         10284         10524         10372         10431         10276   \n",
              "104672         10284         10524         10372         10431         10276   \n",
              "\n",
              "        pos_4_0_freq  pos_4_1_freq  pos_4_2_freq  pos_4_3_freq  pos_4_4_freq  \\\n",
              "104663         10498         10740         10493         10575         10504   \n",
              "104664         10498         10740         10493         10575         10504   \n",
              "104665         10498         10740         10493         10575         10504   \n",
              "104666         10498         10740         10493         10575         10504   \n",
              "104667         10498         10740         10493         10575         10504   \n",
              "104668         10498         10740         10493         10575         10504   \n",
              "104669         10498         10740         10493         10575         10504   \n",
              "104670         10498         10740         10493         10575         10504   \n",
              "104671         10498         10740         10493         10575         10504   \n",
              "104672         10498         10740         10493         10575         10504   \n",
              "\n",
              "        pos_4_5_freq  pos_4_6_freq  pos_4_7_freq  pos_4_8_freq  pos_4_9_freq  \n",
              "104663         10282         10524         10372         10432         10276  \n",
              "104664         10282         10524         10372         10432         10276  \n",
              "104665         10282         10524         10372         10432         10276  \n",
              "104666         10282         10524         10372         10432         10276  \n",
              "104667         10282         10524         10372         10432         10276  \n",
              "104668         10282         10524         10372         10432         10276  \n",
              "104669         10282         10524         10372         10432         10276  \n",
              "104670         10282         10524         10372         10432         10276  \n",
              "104671         10282         10524         10372         10432         10276  \n",
              "104672         10282         10524         10372         10432         10276  \n",
              "\n",
              "[10 rows x 115 columns]"
            ]
          },
          "metadata": {
            "tags": []
          },
          "execution_count": 10
        }
      ]
    },
    {
      "cell_type": "code",
      "metadata": {
        "id": "fv2PKrt64vqc",
        "colab_type": "code",
        "outputId": "9816e400-87e7-4d79-9715-dc3e75dcd50b",
        "colab": {
          "base_uri": "https://localhost:8080/",
          "height": 102
        }
      },
      "source": [
        "df.info()"
      ],
      "execution_count": 11,
      "outputs": [
        {
          "output_type": "stream",
          "text": [
            "<class 'pandas.core.frame.DataFrame'>\n",
            "RangeIndex: 104673 entries, 0 to 104672\n",
            "Columns: 115 entries, DrawNo to pos_4_9_freq\n",
            "dtypes: datetime64[ns](1), float64(2), int64(111), object(1)\n",
            "memory usage: 91.8+ MB\n"
          ],
          "name": "stdout"
        }
      ]
    },
    {
      "cell_type": "code",
      "metadata": {
        "id": "HUT6_qY5tb_G",
        "colab_type": "code",
        "colab": {}
      },
      "source": [
        "# [col for col in df.columns]\n",
        "columns = ['DrawNo',\n",
        " 'DrawDate',\n",
        " 'PrizeType',\n",
        " 'LuckyNo',\n",
        " 'DaysSinceLastExactMatch',\n",
        " 'DaysUntilNextExactMatch',\n",
        " 'DaysSinceLastAnyMatch',\n",
        " 'DaysUntilNextAnyMatch',\n",
        " '1st_digit',\n",
        " '2nd_digit',\n",
        " '3rd_digit',\n",
        " '4th_digit',\n",
        " 'DrawYear',\n",
        " 'DrawMonth',\n",
        " 'DrawWeek',\n",
        " 'DrawDay',\n",
        " 'DrawDayofweek',\n",
        " 'DrawDayofyear',\n",
        " 'CumProbaExactMatch',\n",
        " 'CumProbaAnyMatch',\n",
        " '0_1',\n",
        " '0_2',\n",
        " '0_3',\n",
        " '0_4',\n",
        " '0_5',\n",
        " '0_6',\n",
        " '0_7',\n",
        " '0_8',\n",
        " '0_9',\n",
        " '1_2',\n",
        " '1_3',\n",
        " '1_4',\n",
        " '1_5',\n",
        " '1_6',\n",
        " '1_7',\n",
        " '1_8',\n",
        " '1_9',\n",
        " '2_3',\n",
        " '2_4',\n",
        " '2_5',\n",
        " '2_6',\n",
        " '2_7',\n",
        " '2_8',\n",
        " '2_9',\n",
        " '3_4',\n",
        " '3_5',\n",
        " '3_6',\n",
        " '3_7',\n",
        " '3_8',\n",
        " '3_9',\n",
        " '4_5',\n",
        " '4_6',\n",
        " '4_7',\n",
        " '4_8',\n",
        " '4_9',\n",
        " '5_6',\n",
        " '5_7',\n",
        " '5_8',\n",
        " '5_9',\n",
        " '6_7',\n",
        " '6_8',\n",
        " '6_9',\n",
        " '7_8',\n",
        " '7_9',\n",
        " '8_9',\n",
        " '0_0',\n",
        " '1_1',\n",
        " '2_2',\n",
        " '3_3',\n",
        " '4_4',\n",
        " '5_5',\n",
        " '6_6',\n",
        " '7_7',\n",
        " '8_8',\n",
        " '9_9',\n",
        " 'pos_1_0_freq',\n",
        " 'pos_1_1_freq',\n",
        " 'pos_1_2_freq',\n",
        " 'pos_1_3_freq',\n",
        " 'pos_1_4_freq',\n",
        " 'pos_1_5_freq',\n",
        " 'pos_1_6_freq',\n",
        " 'pos_1_7_freq',\n",
        " 'pos_1_8_freq',\n",
        " 'pos_1_9_freq',\n",
        " 'pos_2_0_freq',\n",
        " 'pos_2_1_freq',\n",
        " 'pos_2_2_freq',\n",
        " 'pos_2_3_freq',\n",
        " 'pos_2_4_freq',\n",
        " 'pos_2_5_freq',\n",
        " 'pos_2_6_freq',\n",
        " 'pos_2_7_freq',\n",
        " 'pos_2_8_freq',\n",
        " 'pos_2_9_freq',\n",
        " 'pos_3_0_freq',\n",
        " 'pos_3_1_freq',\n",
        " 'pos_3_2_freq',\n",
        " 'pos_3_3_freq',\n",
        " 'pos_3_4_freq',\n",
        " 'pos_3_5_freq',\n",
        " 'pos_3_6_freq',\n",
        " 'pos_3_7_freq',\n",
        " 'pos_3_8_freq',\n",
        " 'pos_3_9_freq',\n",
        " 'pos_4_0_freq',\n",
        " 'pos_4_1_freq',\n",
        " 'pos_4_2_freq',\n",
        " 'pos_4_3_freq',\n",
        " 'pos_4_4_freq',\n",
        " 'pos_4_5_freq',\n",
        " 'pos_4_6_freq',\n",
        " 'pos_4_7_freq',\n",
        " 'pos_4_8_freq',\n",
        " 'pos_4_9_freq']"
      ],
      "execution_count": 0,
      "outputs": []
    },
    {
      "cell_type": "markdown",
      "metadata": {
        "colab_type": "text",
        "id": "tIfpzBPOcwaz"
      },
      "source": [
        "### Train and Validation Split"
      ]
    },
    {
      "cell_type": "code",
      "metadata": {
        "colab_type": "code",
        "id": "migCiR94cwa1",
        "outputId": "54ab72db-3af6-4023-dfe0-23f652c4b7e8",
        "colab": {
          "base_uri": "https://localhost:8080/",
          "height": 34
        }
      },
      "source": [
        "n = len(df); n"
      ],
      "execution_count": 13,
      "outputs": [
        {
          "output_type": "execute_result",
          "data": {
            "text/plain": [
              "104673"
            ]
          },
          "metadata": {
            "tags": []
          },
          "execution_count": 13
        }
      ]
    },
    {
      "cell_type": "code",
      "metadata": {
        "id": "46XkPpWAKdf5",
        "colab_type": "code",
        "colab": {}
      },
      "source": [
        "dep_var=\"LuckyNo\""
      ],
      "execution_count": 0,
      "outputs": []
    },
    {
      "cell_type": "code",
      "metadata": {
        "colab_type": "code",
        "id": "BvVWP2DtrN9Z",
        "outputId": "fa7544ba-83ac-4ced-cb0d-fb92e00aeef1",
        "colab": {
          "base_uri": "https://localhost:8080/",
          "height": 51
        }
      },
      "source": [
        "from sklearn.model_selection import train_test_split\n",
        "\n",
        "X = df.copy()\n",
        "y = X[dep_var]; \n",
        "print(len(X))\n",
        "print(len(y))"
      ],
      "execution_count": 16,
      "outputs": [
        {
          "output_type": "stream",
          "text": [
            "104673\n",
            "104673\n"
          ],
          "name": "stdout"
        }
      ]
    },
    {
      "cell_type": "code",
      "metadata": {
        "colab_type": "code",
        "id": "57qAI7kvJRhp",
        "outputId": "99b26085-eaaa-496c-fe8f-df1bbda42b97",
        "colab": {
          "base_uri": "https://localhost:8080/",
          "height": 146
        }
      },
      "source": [
        "X.drop([dep_var], inplace=True, axis=1)\n",
        "X.head(1)"
      ],
      "execution_count": 17,
      "outputs": [
        {
          "output_type": "execute_result",
          "data": {
            "application/vnd.dataresource+json": {
              "data": [
                {
                  "DrawDayofweek": 2,
                  "1_7": 3,
                  "1_6": 2,
                  "1_5": 2,
                  "1_4": 4,
                  "1_3": 4,
                  "DrawMonth": 5,
                  "1_1": 5,
                  "0_9": 5,
                  "0_6": 3,
                  "0_7": 1,
                  "0_4": 3,
                  "0_5": 4,
                  "0_2": 1,
                  "0_3": 1,
                  "0_0": 3,
                  "1_8": 1,
                  "pos_2_6_freq": 4,
                  "pos_2_8_freq": 2,
                  "DrawDayofyear": 127,
                  "4_8": 0,
                  "4_9": 4,
                  "5_7": 2,
                  "5_6": 1,
                  "5_5": 1,
                  "5_9": 3,
                  "5_8": 1,
                  "4_6": 3,
                  "4_7": 3,
                  "3rd_digit": 1,
                  "4_5": 2,
                  "pos_3_4_freq": 3,
                  "pos_4_0_freq": 5,
                  "pos_4_4_freq": 5,
                  "2nd_digit": 0,
                  "DaysUntilNextExactMatch": 28,
                  "DrawDay": 6,
                  "1_2": 3,
                  "0_8": 0,
                  "pos_3_0_freq": 8,
                  "1st_digit": 0,
                  "pos_1_2_freq": 1,
                  "pos_2_9_freq": 4,
                  "pos_3_1_freq": 8,
                  "DrawYear": 1992,
                  "8_8": 1,
                  "8_9": 3,
                  "index": 0,
                  "9_9": 1,
                  "pos_2_5_freq": 3,
                  "1_9": 4,
                  "DaysSinceLastExactMatch": 0,
                  "pos_1_4_freq": 2,
                  "0_1": 3,
                  "pos_1_8_freq": 1,
                  "pos_3_7_freq": 7,
                  "pos_4_9_freq": 6,
                  "pos_4_1_freq": 8,
                  "DrawDate": "1992-05-06T00:00:00.000Z",
                  "pos_3_6_freq": 3,
                  "pos_4_3_freq": 2,
                  "pos_3_5_freq": 5,
                  "pos_2_7_freq": 5,
                  "pos_1_7_freq": 4,
                  "pos_2_4_freq": 6,
                  "DrawWeek": 19,
                  "pos_2_2_freq": 5,
                  "pos_4_6_freq": 5,
                  "2_8": 1,
                  "2_9": 3,
                  "3_3": 0,
                  "3_5": 3,
                  "3_4": 1,
                  "3_7": 3,
                  "3_6": 1,
                  "3_9": 1,
                  "3_8": 1,
                  "2_2": 2,
                  "2_3": 0,
                  "2_4": 2,
                  "2_5": 2,
                  "2_6": 2,
                  "2_7": 4,
                  "4th_digit": 9,
                  "CumProbaExactMatch": 0.01,
                  "pos_1_6_freq": 2,
                  "pos_2_0_freq": 5,
                  "pos_4_7_freq": 6,
                  "DrawNo": 40792,
                  "pos_3_8_freq": 2,
                  "DaysSinceLastAnyMatch": 0,
                  "pos_4_2_freq": 2,
                  "pos_4_8_freq": 2,
                  "4_4": 1,
                  "6_6": 2,
                  "6_7": 1,
                  "6_8": 1,
                  "6_9": 1,
                  "7_9": 2,
                  "7_8": 1,
                  "7_7": 2,
                  "DaysUntilNextAnyMatch": 28,
                  "pos_1_9_freq": 1,
                  "pos_3_2_freq": 4,
                  "pos_2_3_freq": 4,
                  "pos_1_5_freq": 2,
                  "pos_1_0_freq": 4,
                  "PrizeType": "1stPrizeNo",
                  "pos_4_5_freq": 5,
                  "pos_2_1_freq": 8,
                  "pos_3_9_freq": 2,
                  "pos_3_3_freq": 4,
                  "pos_1_1_freq": 4,
                  "CumProbaAnyMatch": 0.01,
                  "pos_1_3_freq": 2
                }
              ],
              "schema": {
                "fields": [
                  {
                    "type": "integer",
                    "name": "index"
                  },
                  {
                    "type": "integer",
                    "name": "DrawNo"
                  },
                  {
                    "type": "datetime",
                    "name": "DrawDate"
                  },
                  {
                    "type": "string",
                    "name": "PrizeType"
                  },
                  {
                    "type": "integer",
                    "name": "DaysSinceLastExactMatch"
                  },
                  {
                    "type": "integer",
                    "name": "DaysUntilNextExactMatch"
                  },
                  {
                    "type": "integer",
                    "name": "DaysSinceLastAnyMatch"
                  },
                  {
                    "type": "integer",
                    "name": "DaysUntilNextAnyMatch"
                  },
                  {
                    "type": "integer",
                    "name": "1st_digit"
                  },
                  {
                    "type": "integer",
                    "name": "2nd_digit"
                  },
                  {
                    "type": "integer",
                    "name": "3rd_digit"
                  },
                  {
                    "type": "integer",
                    "name": "4th_digit"
                  },
                  {
                    "type": "integer",
                    "name": "DrawYear"
                  },
                  {
                    "type": "integer",
                    "name": "DrawMonth"
                  },
                  {
                    "type": "integer",
                    "name": "DrawWeek"
                  },
                  {
                    "type": "integer",
                    "name": "DrawDay"
                  },
                  {
                    "type": "integer",
                    "name": "DrawDayofweek"
                  },
                  {
                    "type": "integer",
                    "name": "DrawDayofyear"
                  },
                  {
                    "type": "number",
                    "name": "CumProbaExactMatch"
                  },
                  {
                    "type": "number",
                    "name": "CumProbaAnyMatch"
                  },
                  {
                    "type": "integer",
                    "name": "0_1"
                  },
                  {
                    "type": "integer",
                    "name": "0_2"
                  },
                  {
                    "type": "integer",
                    "name": "0_3"
                  },
                  {
                    "type": "integer",
                    "name": "0_4"
                  },
                  {
                    "type": "integer",
                    "name": "0_5"
                  },
                  {
                    "type": "integer",
                    "name": "0_6"
                  },
                  {
                    "type": "integer",
                    "name": "0_7"
                  },
                  {
                    "type": "integer",
                    "name": "0_8"
                  },
                  {
                    "type": "integer",
                    "name": "0_9"
                  },
                  {
                    "type": "integer",
                    "name": "1_2"
                  },
                  {
                    "type": "integer",
                    "name": "1_3"
                  },
                  {
                    "type": "integer",
                    "name": "1_4"
                  },
                  {
                    "type": "integer",
                    "name": "1_5"
                  },
                  {
                    "type": "integer",
                    "name": "1_6"
                  },
                  {
                    "type": "integer",
                    "name": "1_7"
                  },
                  {
                    "type": "integer",
                    "name": "1_8"
                  },
                  {
                    "type": "integer",
                    "name": "1_9"
                  },
                  {
                    "type": "integer",
                    "name": "2_3"
                  },
                  {
                    "type": "integer",
                    "name": "2_4"
                  },
                  {
                    "type": "integer",
                    "name": "2_5"
                  },
                  {
                    "type": "integer",
                    "name": "2_6"
                  },
                  {
                    "type": "integer",
                    "name": "2_7"
                  },
                  {
                    "type": "integer",
                    "name": "2_8"
                  },
                  {
                    "type": "integer",
                    "name": "2_9"
                  },
                  {
                    "type": "integer",
                    "name": "3_4"
                  },
                  {
                    "type": "integer",
                    "name": "3_5"
                  },
                  {
                    "type": "integer",
                    "name": "3_6"
                  },
                  {
                    "type": "integer",
                    "name": "3_7"
                  },
                  {
                    "type": "integer",
                    "name": "3_8"
                  },
                  {
                    "type": "integer",
                    "name": "3_9"
                  },
                  {
                    "type": "integer",
                    "name": "4_5"
                  },
                  {
                    "type": "integer",
                    "name": "4_6"
                  },
                  {
                    "type": "integer",
                    "name": "4_7"
                  },
                  {
                    "type": "integer",
                    "name": "4_8"
                  },
                  {
                    "type": "integer",
                    "name": "4_9"
                  },
                  {
                    "type": "integer",
                    "name": "5_6"
                  },
                  {
                    "type": "integer",
                    "name": "5_7"
                  },
                  {
                    "type": "integer",
                    "name": "5_8"
                  },
                  {
                    "type": "integer",
                    "name": "5_9"
                  },
                  {
                    "type": "integer",
                    "name": "6_7"
                  },
                  {
                    "type": "integer",
                    "name": "6_8"
                  },
                  {
                    "type": "integer",
                    "name": "6_9"
                  },
                  {
                    "type": "integer",
                    "name": "7_8"
                  },
                  {
                    "type": "integer",
                    "name": "7_9"
                  },
                  {
                    "type": "integer",
                    "name": "8_9"
                  },
                  {
                    "type": "integer",
                    "name": "0_0"
                  },
                  {
                    "type": "integer",
                    "name": "1_1"
                  },
                  {
                    "type": "integer",
                    "name": "2_2"
                  },
                  {
                    "type": "integer",
                    "name": "3_3"
                  },
                  {
                    "type": "integer",
                    "name": "4_4"
                  },
                  {
                    "type": "integer",
                    "name": "5_5"
                  },
                  {
                    "type": "integer",
                    "name": "6_6"
                  },
                  {
                    "type": "integer",
                    "name": "7_7"
                  },
                  {
                    "type": "integer",
                    "name": "8_8"
                  },
                  {
                    "type": "integer",
                    "name": "9_9"
                  },
                  {
                    "type": "integer",
                    "name": "pos_1_0_freq"
                  },
                  {
                    "type": "integer",
                    "name": "pos_1_1_freq"
                  },
                  {
                    "type": "integer",
                    "name": "pos_1_2_freq"
                  },
                  {
                    "type": "integer",
                    "name": "pos_1_3_freq"
                  },
                  {
                    "type": "integer",
                    "name": "pos_1_4_freq"
                  },
                  {
                    "type": "integer",
                    "name": "pos_1_5_freq"
                  },
                  {
                    "type": "integer",
                    "name": "pos_1_6_freq"
                  },
                  {
                    "type": "integer",
                    "name": "pos_1_7_freq"
                  },
                  {
                    "type": "integer",
                    "name": "pos_1_8_freq"
                  },
                  {
                    "type": "integer",
                    "name": "pos_1_9_freq"
                  },
                  {
                    "type": "integer",
                    "name": "pos_2_0_freq"
                  },
                  {
                    "type": "integer",
                    "name": "pos_2_1_freq"
                  },
                  {
                    "type": "integer",
                    "name": "pos_2_2_freq"
                  },
                  {
                    "type": "integer",
                    "name": "pos_2_3_freq"
                  },
                  {
                    "type": "integer",
                    "name": "pos_2_4_freq"
                  },
                  {
                    "type": "integer",
                    "name": "pos_2_5_freq"
                  },
                  {
                    "type": "integer",
                    "name": "pos_2_6_freq"
                  },
                  {
                    "type": "integer",
                    "name": "pos_2_7_freq"
                  },
                  {
                    "type": "integer",
                    "name": "pos_2_8_freq"
                  },
                  {
                    "type": "integer",
                    "name": "pos_2_9_freq"
                  },
                  {
                    "type": "integer",
                    "name": "pos_3_0_freq"
                  },
                  {
                    "type": "integer",
                    "name": "pos_3_1_freq"
                  },
                  {
                    "type": "integer",
                    "name": "pos_3_2_freq"
                  },
                  {
                    "type": "integer",
                    "name": "pos_3_3_freq"
                  },
                  {
                    "type": "integer",
                    "name": "pos_3_4_freq"
                  },
                  {
                    "type": "integer",
                    "name": "pos_3_5_freq"
                  },
                  {
                    "type": "integer",
                    "name": "pos_3_6_freq"
                  },
                  {
                    "type": "integer",
                    "name": "pos_3_7_freq"
                  },
                  {
                    "type": "integer",
                    "name": "pos_3_8_freq"
                  },
                  {
                    "type": "integer",
                    "name": "pos_3_9_freq"
                  },
                  {
                    "type": "integer",
                    "name": "pos_4_0_freq"
                  },
                  {
                    "type": "integer",
                    "name": "pos_4_1_freq"
                  },
                  {
                    "type": "integer",
                    "name": "pos_4_2_freq"
                  },
                  {
                    "type": "integer",
                    "name": "pos_4_3_freq"
                  },
                  {
                    "type": "integer",
                    "name": "pos_4_4_freq"
                  },
                  {
                    "type": "integer",
                    "name": "pos_4_5_freq"
                  },
                  {
                    "type": "integer",
                    "name": "pos_4_6_freq"
                  },
                  {
                    "type": "integer",
                    "name": "pos_4_7_freq"
                  },
                  {
                    "type": "integer",
                    "name": "pos_4_8_freq"
                  },
                  {
                    "type": "integer",
                    "name": "pos_4_9_freq"
                  }
                ],
                "pandas_version": "0.20.0",
                "primaryKey": [
                  "index"
                ]
              }
            },
            "text/html": [
              "<div>\n",
              "<style scoped>\n",
              "    .dataframe tbody tr th:only-of-type {\n",
              "        vertical-align: middle;\n",
              "    }\n",
              "\n",
              "    .dataframe tbody tr th {\n",
              "        vertical-align: top;\n",
              "    }\n",
              "\n",
              "    .dataframe thead th {\n",
              "        text-align: right;\n",
              "    }\n",
              "</style>\n",
              "<table border=\"1\" class=\"dataframe\">\n",
              "  <thead>\n",
              "    <tr style=\"text-align: right;\">\n",
              "      <th></th>\n",
              "      <th>DrawNo</th>\n",
              "      <th>DrawDate</th>\n",
              "      <th>PrizeType</th>\n",
              "      <th>DaysSinceLastExactMatch</th>\n",
              "      <th>DaysUntilNextExactMatch</th>\n",
              "      <th>DaysSinceLastAnyMatch</th>\n",
              "      <th>DaysUntilNextAnyMatch</th>\n",
              "      <th>1st_digit</th>\n",
              "      <th>2nd_digit</th>\n",
              "      <th>3rd_digit</th>\n",
              "      <th>4th_digit</th>\n",
              "      <th>DrawYear</th>\n",
              "      <th>DrawMonth</th>\n",
              "      <th>DrawWeek</th>\n",
              "      <th>DrawDay</th>\n",
              "      <th>DrawDayofweek</th>\n",
              "      <th>DrawDayofyear</th>\n",
              "      <th>CumProbaExactMatch</th>\n",
              "      <th>CumProbaAnyMatch</th>\n",
              "      <th>0_1</th>\n",
              "      <th>0_2</th>\n",
              "      <th>0_3</th>\n",
              "      <th>0_4</th>\n",
              "      <th>0_5</th>\n",
              "      <th>0_6</th>\n",
              "      <th>...</th>\n",
              "      <th>pos_2_5_freq</th>\n",
              "      <th>pos_2_6_freq</th>\n",
              "      <th>pos_2_7_freq</th>\n",
              "      <th>pos_2_8_freq</th>\n",
              "      <th>pos_2_9_freq</th>\n",
              "      <th>pos_3_0_freq</th>\n",
              "      <th>pos_3_1_freq</th>\n",
              "      <th>pos_3_2_freq</th>\n",
              "      <th>pos_3_3_freq</th>\n",
              "      <th>pos_3_4_freq</th>\n",
              "      <th>pos_3_5_freq</th>\n",
              "      <th>pos_3_6_freq</th>\n",
              "      <th>pos_3_7_freq</th>\n",
              "      <th>pos_3_8_freq</th>\n",
              "      <th>pos_3_9_freq</th>\n",
              "      <th>pos_4_0_freq</th>\n",
              "      <th>pos_4_1_freq</th>\n",
              "      <th>pos_4_2_freq</th>\n",
              "      <th>pos_4_3_freq</th>\n",
              "      <th>pos_4_4_freq</th>\n",
              "      <th>pos_4_5_freq</th>\n",
              "      <th>pos_4_6_freq</th>\n",
              "      <th>pos_4_7_freq</th>\n",
              "      <th>pos_4_8_freq</th>\n",
              "      <th>pos_4_9_freq</th>\n",
              "    </tr>\n",
              "  </thead>\n",
              "  <tbody>\n",
              "    <tr>\n",
              "      <th>0</th>\n",
              "      <td>40792</td>\n",
              "      <td>1992-05-06</td>\n",
              "      <td>1stPrizeNo</td>\n",
              "      <td>0</td>\n",
              "      <td>28</td>\n",
              "      <td>0</td>\n",
              "      <td>28</td>\n",
              "      <td>0</td>\n",
              "      <td>0</td>\n",
              "      <td>1</td>\n",
              "      <td>9</td>\n",
              "      <td>1992</td>\n",
              "      <td>5</td>\n",
              "      <td>19</td>\n",
              "      <td>6</td>\n",
              "      <td>2</td>\n",
              "      <td>127</td>\n",
              "      <td>0.01</td>\n",
              "      <td>0.01</td>\n",
              "      <td>3</td>\n",
              "      <td>1</td>\n",
              "      <td>1</td>\n",
              "      <td>3</td>\n",
              "      <td>4</td>\n",
              "      <td>3</td>\n",
              "      <td>...</td>\n",
              "      <td>3</td>\n",
              "      <td>4</td>\n",
              "      <td>5</td>\n",
              "      <td>2</td>\n",
              "      <td>4</td>\n",
              "      <td>8</td>\n",
              "      <td>8</td>\n",
              "      <td>4</td>\n",
              "      <td>4</td>\n",
              "      <td>3</td>\n",
              "      <td>5</td>\n",
              "      <td>3</td>\n",
              "      <td>7</td>\n",
              "      <td>2</td>\n",
              "      <td>2</td>\n",
              "      <td>5</td>\n",
              "      <td>8</td>\n",
              "      <td>2</td>\n",
              "      <td>2</td>\n",
              "      <td>5</td>\n",
              "      <td>5</td>\n",
              "      <td>5</td>\n",
              "      <td>6</td>\n",
              "      <td>2</td>\n",
              "      <td>6</td>\n",
              "    </tr>\n",
              "  </tbody>\n",
              "</table>\n",
              "<p>1 rows × 114 columns</p>\n",
              "</div>"
            ],
            "text/plain": [
              "   DrawNo   DrawDate   PrizeType  DaysSinceLastExactMatch  \\\n",
              "0   40792 1992-05-06  1stPrizeNo                        0   \n",
              "\n",
              "   DaysUntilNextExactMatch  DaysSinceLastAnyMatch  DaysUntilNextAnyMatch  \\\n",
              "0                       28                      0                     28   \n",
              "\n",
              "   1st_digit  2nd_digit  3rd_digit  4th_digit  DrawYear  DrawMonth  DrawWeek  \\\n",
              "0          0          0          1          9      1992          5        19   \n",
              "\n",
              "   DrawDay  DrawDayofweek  DrawDayofyear  CumProbaExactMatch  \\\n",
              "0        6              2            127                0.01   \n",
              "\n",
              "   CumProbaAnyMatch  0_1  0_2  0_3  0_4  0_5  0_6  ...  pos_2_5_freq  \\\n",
              "0              0.01    3    1    1    3    4    3  ...             3   \n",
              "\n",
              "   pos_2_6_freq  pos_2_7_freq  pos_2_8_freq  pos_2_9_freq  pos_3_0_freq  \\\n",
              "0             4             5             2             4             8   \n",
              "\n",
              "   pos_3_1_freq  pos_3_2_freq  pos_3_3_freq  pos_3_4_freq  pos_3_5_freq  \\\n",
              "0             8             4             4             3             5   \n",
              "\n",
              "   pos_3_6_freq  pos_3_7_freq  pos_3_8_freq  pos_3_9_freq  pos_4_0_freq  \\\n",
              "0             3             7             2             2             5   \n",
              "\n",
              "   pos_4_1_freq  pos_4_2_freq  pos_4_3_freq  pos_4_4_freq  pos_4_5_freq  \\\n",
              "0             8             2             2             5             5   \n",
              "\n",
              "   pos_4_6_freq  pos_4_7_freq  pos_4_8_freq  pos_4_9_freq  \n",
              "0             5             6             2             6  \n",
              "\n",
              "[1 rows x 114 columns]"
            ]
          },
          "metadata": {
            "tags": []
          },
          "execution_count": 17
        }
      ]
    },
    {
      "cell_type": "code",
      "metadata": {
        "colab_type": "code",
        "id": "GZI30urJJRhr",
        "colab": {}
      },
      "source": [
        "X_train, X_test, y_train, y_test = train_test_split(X, y, test_size=0.3, random_state=42)"
      ],
      "execution_count": 0,
      "outputs": []
    },
    {
      "cell_type": "code",
      "metadata": {
        "colab_type": "code",
        "id": "H6HgX1BRJRht",
        "outputId": "8d2c5183-94d5-4fb2-a67b-e1f16a6737ba",
        "colab": {
          "base_uri": "https://localhost:8080/",
          "height": 85
        }
      },
      "source": [
        "print(len(X_train)); print(len(X_test)); print(len(y_train)); print(len(y_test))"
      ],
      "execution_count": 19,
      "outputs": [
        {
          "output_type": "stream",
          "text": [
            "73271\n",
            "31402\n",
            "73271\n",
            "31402\n"
          ],
          "name": "stdout"
        }
      ]
    },
    {
      "cell_type": "markdown",
      "metadata": {
        "colab_type": "text",
        "id": "Zj1_wEzXJRhw"
      },
      "source": [
        "### Assignment"
      ]
    },
    {
      "cell_type": "code",
      "metadata": {
        "colab_type": "code",
        "id": "OzquwRh6rNr5",
        "colab": {}
      },
      "source": [
        "train_dataset = df"
      ],
      "execution_count": 0,
      "outputs": []
    },
    {
      "cell_type": "markdown",
      "metadata": {
        "colab_type": "text",
        "id": "CBHTYhMCwdem"
      },
      "source": [
        "## Preparing full data set"
      ]
    },
    {
      "cell_type": "markdown",
      "metadata": {
        "id": "i5iVvJwdqsb9",
        "colab_type": "text"
      },
      "source": [
        "### Shuffle"
      ]
    },
    {
      "cell_type": "code",
      "metadata": {
        "id": "i8tIwwT9qsb9",
        "colab_type": "code",
        "colab": {}
      },
      "source": [
        "# from sklearn.utils import shuffle\n",
        "# df = shuffle(df)"
      ],
      "execution_count": 0,
      "outputs": []
    },
    {
      "cell_type": "code",
      "metadata": {
        "colab_type": "code",
        "id": "4NdF0S1TwnLT",
        "outputId": "361014b3-4267-450c-ffb6-19a373fe4961",
        "colab": {
          "base_uri": "https://localhost:8080/",
          "height": 170
        }
      },
      "source": [
        "n = len(df)\n",
        "print(n)\n",
        "print(n/23)\n",
        "print(df['DrawDate'].min())\n",
        "print(df['DrawDate'].max())\n",
        "\n",
        "\n",
        "split_percent = 0.75\n",
        "idx = n * split_percent\n",
        "print(idx)\n",
        "idx = int(idx // 23 * 23)\n",
        "print(idx)\n",
        "\n",
        "train_df = df[:idx]\n",
        "test_df = df[idx:]\n",
        "\n",
        "print(len(train_df), train_df.DrawDate.min(), train_df.DrawDate.max())\n",
        "print(len(test_df), test_df.DrawDate.min(), test_df.DrawDate.max())\n",
        "print(len(train_df) + len(test_df))"
      ],
      "execution_count": 22,
      "outputs": [
        {
          "output_type": "stream",
          "text": [
            "104673\n",
            "4551.0\n",
            "1992-05-06 00:00:00\n",
            "2019-06-09 00:00:00\n",
            "78504.75\n",
            "78499\n",
            "78499 1992-05-06 00:00:00 2013-01-12 00:00:00\n",
            "26174 2013-01-13 00:00:00 2019-06-09 00:00:00\n",
            "104673\n"
          ],
          "name": "stdout"
        }
      ]
    },
    {
      "cell_type": "code",
      "metadata": {
        "colab_type": "code",
        "id": "tbDG0RGVJRiv",
        "outputId": "605e5c6f-b821-45d3-ab90-6b16951a8a90",
        "colab": {
          "base_uri": "https://localhost:8080/",
          "height": 1000
        }
      },
      "source": [
        "train_df.head().T.head(120)"
      ],
      "execution_count": 23,
      "outputs": [
        {
          "output_type": "execute_result",
          "data": {
            "application/vnd.dataresource+json": {
              "data": [
                {
                  "0": 40792,
                  "1": 40792,
                  "2": 40792,
                  "3": 40792,
                  "4": 40792,
                  "index": "DrawNo"
                },
                {
                  "0": "1992-05-06T00:00:00.000Z",
                  "1": "1992-05-06T00:00:00.000Z",
                  "2": "1992-05-06T00:00:00.000Z",
                  "3": "1992-05-06T00:00:00.000Z",
                  "4": "1992-05-06T00:00:00.000Z",
                  "index": "DrawDate"
                },
                {
                  "0": "1stPrizeNo",
                  "1": "2ndPrizeNo",
                  "2": "3rdPrizeNo",
                  "3": "ConsolationNo1",
                  "4": "ConsolationNo10",
                  "index": "PrizeType"
                },
                {
                  "0": 19,
                  "1": 1124,
                  "2": 592,
                  "3": 5311,
                  "4": 407,
                  "index": "LuckyNo"
                },
                {
                  "0": 0,
                  "1": 0,
                  "2": 0,
                  "3": 0,
                  "4": 0,
                  "index": "DaysSinceLastExactMatch"
                },
                {
                  "0": 28,
                  "1": 2436,
                  "2": 25,
                  "3": 515,
                  "4": 2114,
                  "index": "DaysUntilNextExactMatch"
                },
                {
                  "0": 0,
                  "1": 0,
                  "2": 0,
                  "3": 0,
                  "4": 0,
                  "index": "DaysSinceLastAnyMatch"
                },
                {
                  "0": 28,
                  "1": 162,
                  "2": 11,
                  "3": 204,
                  "4": 22,
                  "index": "DaysUntilNextAnyMatch"
                },
                {
                  "0": 0,
                  "1": 1,
                  "2": 0,
                  "3": 5,
                  "4": 0,
                  "index": "1st_digit"
                },
                {
                  "0": 0,
                  "1": 1,
                  "2": 5,
                  "3": 3,
                  "4": 4,
                  "index": "2nd_digit"
                },
                {
                  "0": 1,
                  "1": 2,
                  "2": 9,
                  "3": 1,
                  "4": 0,
                  "index": "3rd_digit"
                },
                {
                  "0": 9,
                  "1": 4,
                  "2": 2,
                  "3": 1,
                  "4": 7,
                  "index": "4th_digit"
                },
                {
                  "0": 1992,
                  "1": 1992,
                  "2": 1992,
                  "3": 1992,
                  "4": 1992,
                  "index": "DrawYear"
                },
                {
                  "0": 5,
                  "1": 5,
                  "2": 5,
                  "3": 5,
                  "4": 5,
                  "index": "DrawMonth"
                },
                {
                  "0": 19,
                  "1": 19,
                  "2": 19,
                  "3": 19,
                  "4": 19,
                  "index": "DrawWeek"
                },
                {
                  "0": 6,
                  "1": 6,
                  "2": 6,
                  "3": 6,
                  "4": 6,
                  "index": "DrawDay"
                },
                {
                  "0": 2,
                  "1": 2,
                  "2": 2,
                  "3": 2,
                  "4": 2,
                  "index": "DrawDayofweek"
                },
                {
                  "0": 127,
                  "1": 127,
                  "2": 127,
                  "3": 127,
                  "4": 127,
                  "index": "DrawDayofyear"
                },
                {
                  "0": 0.01,
                  "1": 0.01,
                  "2": 0.01,
                  "3": 0.01,
                  "4": 0.01,
                  "index": "CumProbaExactMatch"
                },
                {
                  "0": 0.01,
                  "1": 0.01,
                  "2": 0.01,
                  "3": 0.01,
                  "4": 0.01,
                  "index": "CumProbaAnyMatch"
                },
                {
                  "0": 3,
                  "1": 3,
                  "2": 3,
                  "3": 3,
                  "4": 3,
                  "index": "0_1"
                },
                {
                  "0": 1,
                  "1": 1,
                  "2": 1,
                  "3": 1,
                  "4": 1,
                  "index": "0_2"
                },
                {
                  "0": 1,
                  "1": 1,
                  "2": 1,
                  "3": 1,
                  "4": 1,
                  "index": "0_3"
                },
                {
                  "0": 3,
                  "1": 3,
                  "2": 3,
                  "3": 3,
                  "4": 3,
                  "index": "0_4"
                },
                {
                  "0": 4,
                  "1": 4,
                  "2": 4,
                  "3": 4,
                  "4": 4,
                  "index": "0_5"
                },
                {
                  "0": 3,
                  "1": 3,
                  "2": 3,
                  "3": 3,
                  "4": 3,
                  "index": "0_6"
                },
                {
                  "0": 1,
                  "1": 1,
                  "2": 1,
                  "3": 1,
                  "4": 1,
                  "index": "0_7"
                },
                {
                  "0": 0,
                  "1": 0,
                  "2": 0,
                  "3": 0,
                  "4": 0,
                  "index": "0_8"
                },
                {
                  "0": 5,
                  "1": 5,
                  "2": 5,
                  "3": 5,
                  "4": 5,
                  "index": "0_9"
                },
                {
                  "0": 3,
                  "1": 3,
                  "2": 3,
                  "3": 3,
                  "4": 3,
                  "index": "1_2"
                },
                {
                  "0": 4,
                  "1": 4,
                  "2": 4,
                  "3": 4,
                  "4": 4,
                  "index": "1_3"
                },
                {
                  "0": 4,
                  "1": 4,
                  "2": 4,
                  "3": 4,
                  "4": 4,
                  "index": "1_4"
                },
                {
                  "0": 2,
                  "1": 2,
                  "2": 2,
                  "3": 2,
                  "4": 2,
                  "index": "1_5"
                },
                {
                  "0": 2,
                  "1": 2,
                  "2": 2,
                  "3": 2,
                  "4": 2,
                  "index": "1_6"
                },
                {
                  "0": 3,
                  "1": 3,
                  "2": 3,
                  "3": 3,
                  "4": 3,
                  "index": "1_7"
                },
                {
                  "0": 1,
                  "1": 1,
                  "2": 1,
                  "3": 1,
                  "4": 1,
                  "index": "1_8"
                },
                {
                  "0": 4,
                  "1": 4,
                  "2": 4,
                  "3": 4,
                  "4": 4,
                  "index": "1_9"
                },
                {
                  "0": 0,
                  "1": 0,
                  "2": 0,
                  "3": 0,
                  "4": 0,
                  "index": "2_3"
                },
                {
                  "0": 2,
                  "1": 2,
                  "2": 2,
                  "3": 2,
                  "4": 2,
                  "index": "2_4"
                },
                {
                  "0": 2,
                  "1": 2,
                  "2": 2,
                  "3": 2,
                  "4": 2,
                  "index": "2_5"
                },
                {
                  "0": 2,
                  "1": 2,
                  "2": 2,
                  "3": 2,
                  "4": 2,
                  "index": "2_6"
                },
                {
                  "0": 4,
                  "1": 4,
                  "2": 4,
                  "3": 4,
                  "4": 4,
                  "index": "2_7"
                },
                {
                  "0": 1,
                  "1": 1,
                  "2": 1,
                  "3": 1,
                  "4": 1,
                  "index": "2_8"
                },
                {
                  "0": 3,
                  "1": 3,
                  "2": 3,
                  "3": 3,
                  "4": 3,
                  "index": "2_9"
                },
                {
                  "0": 1,
                  "1": 1,
                  "2": 1,
                  "3": 1,
                  "4": 1,
                  "index": "3_4"
                },
                {
                  "0": 3,
                  "1": 3,
                  "2": 3,
                  "3": 3,
                  "4": 3,
                  "index": "3_5"
                },
                {
                  "0": 1,
                  "1": 1,
                  "2": 1,
                  "3": 1,
                  "4": 1,
                  "index": "3_6"
                },
                {
                  "0": 3,
                  "1": 3,
                  "2": 3,
                  "3": 3,
                  "4": 3,
                  "index": "3_7"
                },
                {
                  "0": 1,
                  "1": 1,
                  "2": 1,
                  "3": 1,
                  "4": 1,
                  "index": "3_8"
                },
                {
                  "0": 1,
                  "1": 1,
                  "2": 1,
                  "3": 1,
                  "4": 1,
                  "index": "3_9"
                },
                {
                  "0": 2,
                  "1": 2,
                  "2": 2,
                  "3": 2,
                  "4": 2,
                  "index": "4_5"
                },
                {
                  "0": 3,
                  "1": 3,
                  "2": 3,
                  "3": 3,
                  "4": 3,
                  "index": "4_6"
                },
                {
                  "0": 3,
                  "1": 3,
                  "2": 3,
                  "3": 3,
                  "4": 3,
                  "index": "4_7"
                },
                {
                  "0": 0,
                  "1": 0,
                  "2": 0,
                  "3": 0,
                  "4": 0,
                  "index": "4_8"
                },
                {
                  "0": 4,
                  "1": 4,
                  "2": 4,
                  "3": 4,
                  "4": 4,
                  "index": "4_9"
                },
                {
                  "0": 1,
                  "1": 1,
                  "2": 1,
                  "3": 1,
                  "4": 1,
                  "index": "5_6"
                },
                {
                  "0": 2,
                  "1": 2,
                  "2": 2,
                  "3": 2,
                  "4": 2,
                  "index": "5_7"
                },
                {
                  "0": 1,
                  "1": 1,
                  "2": 1,
                  "3": 1,
                  "4": 1,
                  "index": "5_8"
                },
                {
                  "0": 3,
                  "1": 3,
                  "2": 3,
                  "3": 3,
                  "4": 3,
                  "index": "5_9"
                },
                {
                  "0": 1,
                  "1": 1,
                  "2": 1,
                  "3": 1,
                  "4": 1,
                  "index": "6_7"
                }
              ],
              "schema": {
                "fields": [
                  {
                    "type": "string",
                    "name": "index"
                  },
                  {
                    "type": "string",
                    "name": 0
                  },
                  {
                    "type": "string",
                    "name": 1
                  },
                  {
                    "type": "string",
                    "name": 2
                  },
                  {
                    "type": "string",
                    "name": 3
                  },
                  {
                    "type": "string",
                    "name": 4
                  }
                ],
                "pandas_version": "0.20.0",
                "primaryKey": [
                  "index"
                ]
              }
            },
            "text/html": [
              "<div>\n",
              "<style scoped>\n",
              "    .dataframe tbody tr th:only-of-type {\n",
              "        vertical-align: middle;\n",
              "    }\n",
              "\n",
              "    .dataframe tbody tr th {\n",
              "        vertical-align: top;\n",
              "    }\n",
              "\n",
              "    .dataframe thead th {\n",
              "        text-align: right;\n",
              "    }\n",
              "</style>\n",
              "<table border=\"1\" class=\"dataframe\">\n",
              "  <thead>\n",
              "    <tr style=\"text-align: right;\">\n",
              "      <th></th>\n",
              "      <th>0</th>\n",
              "      <th>1</th>\n",
              "      <th>2</th>\n",
              "      <th>3</th>\n",
              "      <th>4</th>\n",
              "    </tr>\n",
              "  </thead>\n",
              "  <tbody>\n",
              "    <tr>\n",
              "      <th>DrawNo</th>\n",
              "      <td>40792</td>\n",
              "      <td>40792</td>\n",
              "      <td>40792</td>\n",
              "      <td>40792</td>\n",
              "      <td>40792</td>\n",
              "    </tr>\n",
              "    <tr>\n",
              "      <th>DrawDate</th>\n",
              "      <td>1992-05-06 00:00:00</td>\n",
              "      <td>1992-05-06 00:00:00</td>\n",
              "      <td>1992-05-06 00:00:00</td>\n",
              "      <td>1992-05-06 00:00:00</td>\n",
              "      <td>1992-05-06 00:00:00</td>\n",
              "    </tr>\n",
              "    <tr>\n",
              "      <th>PrizeType</th>\n",
              "      <td>1stPrizeNo</td>\n",
              "      <td>2ndPrizeNo</td>\n",
              "      <td>3rdPrizeNo</td>\n",
              "      <td>ConsolationNo1</td>\n",
              "      <td>ConsolationNo10</td>\n",
              "    </tr>\n",
              "    <tr>\n",
              "      <th>LuckyNo</th>\n",
              "      <td>19</td>\n",
              "      <td>1124</td>\n",
              "      <td>592</td>\n",
              "      <td>5311</td>\n",
              "      <td>407</td>\n",
              "    </tr>\n",
              "    <tr>\n",
              "      <th>DaysSinceLastExactMatch</th>\n",
              "      <td>0</td>\n",
              "      <td>0</td>\n",
              "      <td>0</td>\n",
              "      <td>0</td>\n",
              "      <td>0</td>\n",
              "    </tr>\n",
              "    <tr>\n",
              "      <th>DaysUntilNextExactMatch</th>\n",
              "      <td>28</td>\n",
              "      <td>2436</td>\n",
              "      <td>25</td>\n",
              "      <td>515</td>\n",
              "      <td>2114</td>\n",
              "    </tr>\n",
              "    <tr>\n",
              "      <th>DaysSinceLastAnyMatch</th>\n",
              "      <td>0</td>\n",
              "      <td>0</td>\n",
              "      <td>0</td>\n",
              "      <td>0</td>\n",
              "      <td>0</td>\n",
              "    </tr>\n",
              "    <tr>\n",
              "      <th>DaysUntilNextAnyMatch</th>\n",
              "      <td>28</td>\n",
              "      <td>162</td>\n",
              "      <td>11</td>\n",
              "      <td>204</td>\n",
              "      <td>22</td>\n",
              "    </tr>\n",
              "    <tr>\n",
              "      <th>1st_digit</th>\n",
              "      <td>0</td>\n",
              "      <td>1</td>\n",
              "      <td>0</td>\n",
              "      <td>5</td>\n",
              "      <td>0</td>\n",
              "    </tr>\n",
              "    <tr>\n",
              "      <th>2nd_digit</th>\n",
              "      <td>0</td>\n",
              "      <td>1</td>\n",
              "      <td>5</td>\n",
              "      <td>3</td>\n",
              "      <td>4</td>\n",
              "    </tr>\n",
              "    <tr>\n",
              "      <th>3rd_digit</th>\n",
              "      <td>1</td>\n",
              "      <td>2</td>\n",
              "      <td>9</td>\n",
              "      <td>1</td>\n",
              "      <td>0</td>\n",
              "    </tr>\n",
              "    <tr>\n",
              "      <th>4th_digit</th>\n",
              "      <td>9</td>\n",
              "      <td>4</td>\n",
              "      <td>2</td>\n",
              "      <td>1</td>\n",
              "      <td>7</td>\n",
              "    </tr>\n",
              "    <tr>\n",
              "      <th>DrawYear</th>\n",
              "      <td>1992</td>\n",
              "      <td>1992</td>\n",
              "      <td>1992</td>\n",
              "      <td>1992</td>\n",
              "      <td>1992</td>\n",
              "    </tr>\n",
              "    <tr>\n",
              "      <th>DrawMonth</th>\n",
              "      <td>5</td>\n",
              "      <td>5</td>\n",
              "      <td>5</td>\n",
              "      <td>5</td>\n",
              "      <td>5</td>\n",
              "    </tr>\n",
              "    <tr>\n",
              "      <th>DrawWeek</th>\n",
              "      <td>19</td>\n",
              "      <td>19</td>\n",
              "      <td>19</td>\n",
              "      <td>19</td>\n",
              "      <td>19</td>\n",
              "    </tr>\n",
              "    <tr>\n",
              "      <th>DrawDay</th>\n",
              "      <td>6</td>\n",
              "      <td>6</td>\n",
              "      <td>6</td>\n",
              "      <td>6</td>\n",
              "      <td>6</td>\n",
              "    </tr>\n",
              "    <tr>\n",
              "      <th>DrawDayofweek</th>\n",
              "      <td>2</td>\n",
              "      <td>2</td>\n",
              "      <td>2</td>\n",
              "      <td>2</td>\n",
              "      <td>2</td>\n",
              "    </tr>\n",
              "    <tr>\n",
              "      <th>DrawDayofyear</th>\n",
              "      <td>127</td>\n",
              "      <td>127</td>\n",
              "      <td>127</td>\n",
              "      <td>127</td>\n",
              "      <td>127</td>\n",
              "    </tr>\n",
              "    <tr>\n",
              "      <th>CumProbaExactMatch</th>\n",
              "      <td>0.01</td>\n",
              "      <td>0.01</td>\n",
              "      <td>0.01</td>\n",
              "      <td>0.01</td>\n",
              "      <td>0.01</td>\n",
              "    </tr>\n",
              "    <tr>\n",
              "      <th>CumProbaAnyMatch</th>\n",
              "      <td>0.01</td>\n",
              "      <td>0.01</td>\n",
              "      <td>0.01</td>\n",
              "      <td>0.01</td>\n",
              "      <td>0.01</td>\n",
              "    </tr>\n",
              "    <tr>\n",
              "      <th>0_1</th>\n",
              "      <td>3</td>\n",
              "      <td>3</td>\n",
              "      <td>3</td>\n",
              "      <td>3</td>\n",
              "      <td>3</td>\n",
              "    </tr>\n",
              "    <tr>\n",
              "      <th>0_2</th>\n",
              "      <td>1</td>\n",
              "      <td>1</td>\n",
              "      <td>1</td>\n",
              "      <td>1</td>\n",
              "      <td>1</td>\n",
              "    </tr>\n",
              "    <tr>\n",
              "      <th>0_3</th>\n",
              "      <td>1</td>\n",
              "      <td>1</td>\n",
              "      <td>1</td>\n",
              "      <td>1</td>\n",
              "      <td>1</td>\n",
              "    </tr>\n",
              "    <tr>\n",
              "      <th>0_4</th>\n",
              "      <td>3</td>\n",
              "      <td>3</td>\n",
              "      <td>3</td>\n",
              "      <td>3</td>\n",
              "      <td>3</td>\n",
              "    </tr>\n",
              "    <tr>\n",
              "      <th>0_5</th>\n",
              "      <td>4</td>\n",
              "      <td>4</td>\n",
              "      <td>4</td>\n",
              "      <td>4</td>\n",
              "      <td>4</td>\n",
              "    </tr>\n",
              "    <tr>\n",
              "      <th>0_6</th>\n",
              "      <td>3</td>\n",
              "      <td>3</td>\n",
              "      <td>3</td>\n",
              "      <td>3</td>\n",
              "      <td>3</td>\n",
              "    </tr>\n",
              "    <tr>\n",
              "      <th>0_7</th>\n",
              "      <td>1</td>\n",
              "      <td>1</td>\n",
              "      <td>1</td>\n",
              "      <td>1</td>\n",
              "      <td>1</td>\n",
              "    </tr>\n",
              "    <tr>\n",
              "      <th>0_8</th>\n",
              "      <td>0</td>\n",
              "      <td>0</td>\n",
              "      <td>0</td>\n",
              "      <td>0</td>\n",
              "      <td>0</td>\n",
              "    </tr>\n",
              "    <tr>\n",
              "      <th>0_9</th>\n",
              "      <td>5</td>\n",
              "      <td>5</td>\n",
              "      <td>5</td>\n",
              "      <td>5</td>\n",
              "      <td>5</td>\n",
              "    </tr>\n",
              "    <tr>\n",
              "      <th>1_2</th>\n",
              "      <td>3</td>\n",
              "      <td>3</td>\n",
              "      <td>3</td>\n",
              "      <td>3</td>\n",
              "      <td>3</td>\n",
              "    </tr>\n",
              "    <tr>\n",
              "      <th>...</th>\n",
              "      <td>...</td>\n",
              "      <td>...</td>\n",
              "      <td>...</td>\n",
              "      <td>...</td>\n",
              "      <td>...</td>\n",
              "    </tr>\n",
              "    <tr>\n",
              "      <th>pos_2_0_freq</th>\n",
              "      <td>5</td>\n",
              "      <td>5</td>\n",
              "      <td>5</td>\n",
              "      <td>5</td>\n",
              "      <td>5</td>\n",
              "    </tr>\n",
              "    <tr>\n",
              "      <th>pos_2_1_freq</th>\n",
              "      <td>8</td>\n",
              "      <td>8</td>\n",
              "      <td>8</td>\n",
              "      <td>8</td>\n",
              "      <td>8</td>\n",
              "    </tr>\n",
              "    <tr>\n",
              "      <th>pos_2_2_freq</th>\n",
              "      <td>5</td>\n",
              "      <td>5</td>\n",
              "      <td>5</td>\n",
              "      <td>5</td>\n",
              "      <td>5</td>\n",
              "    </tr>\n",
              "    <tr>\n",
              "      <th>pos_2_3_freq</th>\n",
              "      <td>4</td>\n",
              "      <td>4</td>\n",
              "      <td>4</td>\n",
              "      <td>4</td>\n",
              "      <td>4</td>\n",
              "    </tr>\n",
              "    <tr>\n",
              "      <th>pos_2_4_freq</th>\n",
              "      <td>6</td>\n",
              "      <td>6</td>\n",
              "      <td>6</td>\n",
              "      <td>6</td>\n",
              "      <td>6</td>\n",
              "    </tr>\n",
              "    <tr>\n",
              "      <th>pos_2_5_freq</th>\n",
              "      <td>3</td>\n",
              "      <td>3</td>\n",
              "      <td>3</td>\n",
              "      <td>3</td>\n",
              "      <td>3</td>\n",
              "    </tr>\n",
              "    <tr>\n",
              "      <th>pos_2_6_freq</th>\n",
              "      <td>4</td>\n",
              "      <td>4</td>\n",
              "      <td>4</td>\n",
              "      <td>4</td>\n",
              "      <td>4</td>\n",
              "    </tr>\n",
              "    <tr>\n",
              "      <th>pos_2_7_freq</th>\n",
              "      <td>5</td>\n",
              "      <td>5</td>\n",
              "      <td>5</td>\n",
              "      <td>5</td>\n",
              "      <td>5</td>\n",
              "    </tr>\n",
              "    <tr>\n",
              "      <th>pos_2_8_freq</th>\n",
              "      <td>2</td>\n",
              "      <td>2</td>\n",
              "      <td>2</td>\n",
              "      <td>2</td>\n",
              "      <td>2</td>\n",
              "    </tr>\n",
              "    <tr>\n",
              "      <th>pos_2_9_freq</th>\n",
              "      <td>4</td>\n",
              "      <td>4</td>\n",
              "      <td>4</td>\n",
              "      <td>4</td>\n",
              "      <td>4</td>\n",
              "    </tr>\n",
              "    <tr>\n",
              "      <th>pos_3_0_freq</th>\n",
              "      <td>8</td>\n",
              "      <td>8</td>\n",
              "      <td>8</td>\n",
              "      <td>8</td>\n",
              "      <td>8</td>\n",
              "    </tr>\n",
              "    <tr>\n",
              "      <th>pos_3_1_freq</th>\n",
              "      <td>8</td>\n",
              "      <td>8</td>\n",
              "      <td>8</td>\n",
              "      <td>8</td>\n",
              "      <td>8</td>\n",
              "    </tr>\n",
              "    <tr>\n",
              "      <th>pos_3_2_freq</th>\n",
              "      <td>4</td>\n",
              "      <td>4</td>\n",
              "      <td>4</td>\n",
              "      <td>4</td>\n",
              "      <td>4</td>\n",
              "    </tr>\n",
              "    <tr>\n",
              "      <th>pos_3_3_freq</th>\n",
              "      <td>4</td>\n",
              "      <td>4</td>\n",
              "      <td>4</td>\n",
              "      <td>4</td>\n",
              "      <td>4</td>\n",
              "    </tr>\n",
              "    <tr>\n",
              "      <th>pos_3_4_freq</th>\n",
              "      <td>3</td>\n",
              "      <td>3</td>\n",
              "      <td>3</td>\n",
              "      <td>3</td>\n",
              "      <td>3</td>\n",
              "    </tr>\n",
              "    <tr>\n",
              "      <th>pos_3_5_freq</th>\n",
              "      <td>5</td>\n",
              "      <td>5</td>\n",
              "      <td>5</td>\n",
              "      <td>5</td>\n",
              "      <td>5</td>\n",
              "    </tr>\n",
              "    <tr>\n",
              "      <th>pos_3_6_freq</th>\n",
              "      <td>3</td>\n",
              "      <td>3</td>\n",
              "      <td>3</td>\n",
              "      <td>3</td>\n",
              "      <td>3</td>\n",
              "    </tr>\n",
              "    <tr>\n",
              "      <th>pos_3_7_freq</th>\n",
              "      <td>7</td>\n",
              "      <td>7</td>\n",
              "      <td>7</td>\n",
              "      <td>7</td>\n",
              "      <td>7</td>\n",
              "    </tr>\n",
              "    <tr>\n",
              "      <th>pos_3_8_freq</th>\n",
              "      <td>2</td>\n",
              "      <td>2</td>\n",
              "      <td>2</td>\n",
              "      <td>2</td>\n",
              "      <td>2</td>\n",
              "    </tr>\n",
              "    <tr>\n",
              "      <th>pos_3_9_freq</th>\n",
              "      <td>2</td>\n",
              "      <td>2</td>\n",
              "      <td>2</td>\n",
              "      <td>2</td>\n",
              "      <td>2</td>\n",
              "    </tr>\n",
              "    <tr>\n",
              "      <th>pos_4_0_freq</th>\n",
              "      <td>5</td>\n",
              "      <td>5</td>\n",
              "      <td>5</td>\n",
              "      <td>5</td>\n",
              "      <td>5</td>\n",
              "    </tr>\n",
              "    <tr>\n",
              "      <th>pos_4_1_freq</th>\n",
              "      <td>8</td>\n",
              "      <td>8</td>\n",
              "      <td>8</td>\n",
              "      <td>8</td>\n",
              "      <td>8</td>\n",
              "    </tr>\n",
              "    <tr>\n",
              "      <th>pos_4_2_freq</th>\n",
              "      <td>2</td>\n",
              "      <td>2</td>\n",
              "      <td>2</td>\n",
              "      <td>2</td>\n",
              "      <td>2</td>\n",
              "    </tr>\n",
              "    <tr>\n",
              "      <th>pos_4_3_freq</th>\n",
              "      <td>2</td>\n",
              "      <td>2</td>\n",
              "      <td>2</td>\n",
              "      <td>2</td>\n",
              "      <td>2</td>\n",
              "    </tr>\n",
              "    <tr>\n",
              "      <th>pos_4_4_freq</th>\n",
              "      <td>5</td>\n",
              "      <td>5</td>\n",
              "      <td>5</td>\n",
              "      <td>5</td>\n",
              "      <td>5</td>\n",
              "    </tr>\n",
              "    <tr>\n",
              "      <th>pos_4_5_freq</th>\n",
              "      <td>5</td>\n",
              "      <td>5</td>\n",
              "      <td>5</td>\n",
              "      <td>5</td>\n",
              "      <td>5</td>\n",
              "    </tr>\n",
              "    <tr>\n",
              "      <th>pos_4_6_freq</th>\n",
              "      <td>5</td>\n",
              "      <td>5</td>\n",
              "      <td>5</td>\n",
              "      <td>5</td>\n",
              "      <td>5</td>\n",
              "    </tr>\n",
              "    <tr>\n",
              "      <th>pos_4_7_freq</th>\n",
              "      <td>6</td>\n",
              "      <td>6</td>\n",
              "      <td>6</td>\n",
              "      <td>6</td>\n",
              "      <td>6</td>\n",
              "    </tr>\n",
              "    <tr>\n",
              "      <th>pos_4_8_freq</th>\n",
              "      <td>2</td>\n",
              "      <td>2</td>\n",
              "      <td>2</td>\n",
              "      <td>2</td>\n",
              "      <td>2</td>\n",
              "    </tr>\n",
              "    <tr>\n",
              "      <th>pos_4_9_freq</th>\n",
              "      <td>6</td>\n",
              "      <td>6</td>\n",
              "      <td>6</td>\n",
              "      <td>6</td>\n",
              "      <td>6</td>\n",
              "    </tr>\n",
              "  </tbody>\n",
              "</table>\n",
              "<p>115 rows × 5 columns</p>\n",
              "</div>"
            ],
            "text/plain": [
              "                                           0                    1  \\\n",
              "DrawNo                                 40792                40792   \n",
              "DrawDate                 1992-05-06 00:00:00  1992-05-06 00:00:00   \n",
              "PrizeType                         1stPrizeNo           2ndPrizeNo   \n",
              "LuckyNo                                   19                 1124   \n",
              "DaysSinceLastExactMatch                    0                    0   \n",
              "DaysUntilNextExactMatch                   28                 2436   \n",
              "DaysSinceLastAnyMatch                      0                    0   \n",
              "DaysUntilNextAnyMatch                     28                  162   \n",
              "1st_digit                                  0                    1   \n",
              "2nd_digit                                  0                    1   \n",
              "3rd_digit                                  1                    2   \n",
              "4th_digit                                  9                    4   \n",
              "DrawYear                                1992                 1992   \n",
              "DrawMonth                                  5                    5   \n",
              "DrawWeek                                  19                   19   \n",
              "DrawDay                                    6                    6   \n",
              "DrawDayofweek                              2                    2   \n",
              "DrawDayofyear                            127                  127   \n",
              "CumProbaExactMatch                      0.01                 0.01   \n",
              "CumProbaAnyMatch                        0.01                 0.01   \n",
              "0_1                                        3                    3   \n",
              "0_2                                        1                    1   \n",
              "0_3                                        1                    1   \n",
              "0_4                                        3                    3   \n",
              "0_5                                        4                    4   \n",
              "0_6                                        3                    3   \n",
              "0_7                                        1                    1   \n",
              "0_8                                        0                    0   \n",
              "0_9                                        5                    5   \n",
              "1_2                                        3                    3   \n",
              "...                                      ...                  ...   \n",
              "pos_2_0_freq                               5                    5   \n",
              "pos_2_1_freq                               8                    8   \n",
              "pos_2_2_freq                               5                    5   \n",
              "pos_2_3_freq                               4                    4   \n",
              "pos_2_4_freq                               6                    6   \n",
              "pos_2_5_freq                               3                    3   \n",
              "pos_2_6_freq                               4                    4   \n",
              "pos_2_7_freq                               5                    5   \n",
              "pos_2_8_freq                               2                    2   \n",
              "pos_2_9_freq                               4                    4   \n",
              "pos_3_0_freq                               8                    8   \n",
              "pos_3_1_freq                               8                    8   \n",
              "pos_3_2_freq                               4                    4   \n",
              "pos_3_3_freq                               4                    4   \n",
              "pos_3_4_freq                               3                    3   \n",
              "pos_3_5_freq                               5                    5   \n",
              "pos_3_6_freq                               3                    3   \n",
              "pos_3_7_freq                               7                    7   \n",
              "pos_3_8_freq                               2                    2   \n",
              "pos_3_9_freq                               2                    2   \n",
              "pos_4_0_freq                               5                    5   \n",
              "pos_4_1_freq                               8                    8   \n",
              "pos_4_2_freq                               2                    2   \n",
              "pos_4_3_freq                               2                    2   \n",
              "pos_4_4_freq                               5                    5   \n",
              "pos_4_5_freq                               5                    5   \n",
              "pos_4_6_freq                               5                    5   \n",
              "pos_4_7_freq                               6                    6   \n",
              "pos_4_8_freq                               2                    2   \n",
              "pos_4_9_freq                               6                    6   \n",
              "\n",
              "                                           2                    3  \\\n",
              "DrawNo                                 40792                40792   \n",
              "DrawDate                 1992-05-06 00:00:00  1992-05-06 00:00:00   \n",
              "PrizeType                         3rdPrizeNo       ConsolationNo1   \n",
              "LuckyNo                                  592                 5311   \n",
              "DaysSinceLastExactMatch                    0                    0   \n",
              "DaysUntilNextExactMatch                   25                  515   \n",
              "DaysSinceLastAnyMatch                      0                    0   \n",
              "DaysUntilNextAnyMatch                     11                  204   \n",
              "1st_digit                                  0                    5   \n",
              "2nd_digit                                  5                    3   \n",
              "3rd_digit                                  9                    1   \n",
              "4th_digit                                  2                    1   \n",
              "DrawYear                                1992                 1992   \n",
              "DrawMonth                                  5                    5   \n",
              "DrawWeek                                  19                   19   \n",
              "DrawDay                                    6                    6   \n",
              "DrawDayofweek                              2                    2   \n",
              "DrawDayofyear                            127                  127   \n",
              "CumProbaExactMatch                      0.01                 0.01   \n",
              "CumProbaAnyMatch                        0.01                 0.01   \n",
              "0_1                                        3                    3   \n",
              "0_2                                        1                    1   \n",
              "0_3                                        1                    1   \n",
              "0_4                                        3                    3   \n",
              "0_5                                        4                    4   \n",
              "0_6                                        3                    3   \n",
              "0_7                                        1                    1   \n",
              "0_8                                        0                    0   \n",
              "0_9                                        5                    5   \n",
              "1_2                                        3                    3   \n",
              "...                                      ...                  ...   \n",
              "pos_2_0_freq                               5                    5   \n",
              "pos_2_1_freq                               8                    8   \n",
              "pos_2_2_freq                               5                    5   \n",
              "pos_2_3_freq                               4                    4   \n",
              "pos_2_4_freq                               6                    6   \n",
              "pos_2_5_freq                               3                    3   \n",
              "pos_2_6_freq                               4                    4   \n",
              "pos_2_7_freq                               5                    5   \n",
              "pos_2_8_freq                               2                    2   \n",
              "pos_2_9_freq                               4                    4   \n",
              "pos_3_0_freq                               8                    8   \n",
              "pos_3_1_freq                               8                    8   \n",
              "pos_3_2_freq                               4                    4   \n",
              "pos_3_3_freq                               4                    4   \n",
              "pos_3_4_freq                               3                    3   \n",
              "pos_3_5_freq                               5                    5   \n",
              "pos_3_6_freq                               3                    3   \n",
              "pos_3_7_freq                               7                    7   \n",
              "pos_3_8_freq                               2                    2   \n",
              "pos_3_9_freq                               2                    2   \n",
              "pos_4_0_freq                               5                    5   \n",
              "pos_4_1_freq                               8                    8   \n",
              "pos_4_2_freq                               2                    2   \n",
              "pos_4_3_freq                               2                    2   \n",
              "pos_4_4_freq                               5                    5   \n",
              "pos_4_5_freq                               5                    5   \n",
              "pos_4_6_freq                               5                    5   \n",
              "pos_4_7_freq                               6                    6   \n",
              "pos_4_8_freq                               2                    2   \n",
              "pos_4_9_freq                               6                    6   \n",
              "\n",
              "                                           4  \n",
              "DrawNo                                 40792  \n",
              "DrawDate                 1992-05-06 00:00:00  \n",
              "PrizeType                    ConsolationNo10  \n",
              "LuckyNo                                  407  \n",
              "DaysSinceLastExactMatch                    0  \n",
              "DaysUntilNextExactMatch                 2114  \n",
              "DaysSinceLastAnyMatch                      0  \n",
              "DaysUntilNextAnyMatch                     22  \n",
              "1st_digit                                  0  \n",
              "2nd_digit                                  4  \n",
              "3rd_digit                                  0  \n",
              "4th_digit                                  7  \n",
              "DrawYear                                1992  \n",
              "DrawMonth                                  5  \n",
              "DrawWeek                                  19  \n",
              "DrawDay                                    6  \n",
              "DrawDayofweek                              2  \n",
              "DrawDayofyear                            127  \n",
              "CumProbaExactMatch                      0.01  \n",
              "CumProbaAnyMatch                        0.01  \n",
              "0_1                                        3  \n",
              "0_2                                        1  \n",
              "0_3                                        1  \n",
              "0_4                                        3  \n",
              "0_5                                        4  \n",
              "0_6                                        3  \n",
              "0_7                                        1  \n",
              "0_8                                        0  \n",
              "0_9                                        5  \n",
              "1_2                                        3  \n",
              "...                                      ...  \n",
              "pos_2_0_freq                               5  \n",
              "pos_2_1_freq                               8  \n",
              "pos_2_2_freq                               5  \n",
              "pos_2_3_freq                               4  \n",
              "pos_2_4_freq                               6  \n",
              "pos_2_5_freq                               3  \n",
              "pos_2_6_freq                               4  \n",
              "pos_2_7_freq                               5  \n",
              "pos_2_8_freq                               2  \n",
              "pos_2_9_freq                               4  \n",
              "pos_3_0_freq                               8  \n",
              "pos_3_1_freq                               8  \n",
              "pos_3_2_freq                               4  \n",
              "pos_3_3_freq                               4  \n",
              "pos_3_4_freq                               3  \n",
              "pos_3_5_freq                               5  \n",
              "pos_3_6_freq                               3  \n",
              "pos_3_7_freq                               7  \n",
              "pos_3_8_freq                               2  \n",
              "pos_3_9_freq                               2  \n",
              "pos_4_0_freq                               5  \n",
              "pos_4_1_freq                               8  \n",
              "pos_4_2_freq                               2  \n",
              "pos_4_3_freq                               2  \n",
              "pos_4_4_freq                               5  \n",
              "pos_4_5_freq                               5  \n",
              "pos_4_6_freq                               5  \n",
              "pos_4_7_freq                               6  \n",
              "pos_4_8_freq                               2  \n",
              "pos_4_9_freq                               6  \n",
              "\n",
              "[115 rows x 5 columns]"
            ]
          },
          "metadata": {
            "tags": []
          },
          "execution_count": 23
        }
      ]
    },
    {
      "cell_type": "code",
      "metadata": {
        "colab_type": "code",
        "id": "XhNtN7sLJRi1",
        "outputId": "36aefcfc-a69a-471e-c6c6-18e31015b163",
        "colab": {
          "base_uri": "https://localhost:8080/",
          "height": 1000
        }
      },
      "source": [
        "test_df.head().T.head(120)"
      ],
      "execution_count": 24,
      "outputs": [
        {
          "output_type": "execute_result",
          "data": {
            "application/vnd.dataresource+json": {
              "data": [
                {
                  "78499": 382113,
                  "78500": 382113,
                  "78501": 382113,
                  "78502": 382113,
                  "78503": 382113,
                  "index": "DrawNo"
                },
                {
                  "78499": "2013-01-13T00:00:00.000Z",
                  "78500": "2013-01-13T00:00:00.000Z",
                  "78501": "2013-01-13T00:00:00.000Z",
                  "78502": "2013-01-13T00:00:00.000Z",
                  "78503": "2013-01-13T00:00:00.000Z",
                  "index": "DrawDate"
                },
                {
                  "78499": "1stPrizeNo",
                  "78500": "2ndPrizeNo",
                  "78501": "3rdPrizeNo",
                  "78502": "ConsolationNo1",
                  "78503": "ConsolationNo10",
                  "index": "PrizeType"
                },
                {
                  "78499": 9580,
                  "78500": 565,
                  "78501": 9124,
                  "78502": 8802,
                  "78503": 1922,
                  "index": "LuckyNo"
                },
                {
                  "78499": 249,
                  "78500": 3221,
                  "78501": 469,
                  "78502": 344,
                  "78503": 578,
                  "index": "DaysSinceLastExactMatch"
                },
                {
                  "78499": 308,
                  "78500": 119,
                  "78501": 672,
                  "78502": 1445,
                  "78503": 1750,
                  "index": "DaysUntilNextExactMatch"
                },
                {
                  "78499": 75,
                  "78500": 43,
                  "78501": 7,
                  "78502": 57,
                  "78503": 7,
                  "index": "DaysSinceLastAnyMatch"
                },
                {
                  "78499": 14,
                  "78500": 28,
                  "78501": 42,
                  "78502": 55,
                  "78503": 42,
                  "index": "DaysUntilNextAnyMatch"
                },
                {
                  "78499": 9,
                  "78500": 0,
                  "78501": 9,
                  "78502": 8,
                  "78503": 1,
                  "index": "1st_digit"
                },
                {
                  "78499": 5,
                  "78500": 5,
                  "78501": 1,
                  "78502": 8,
                  "78503": 9,
                  "index": "2nd_digit"
                },
                {
                  "78499": 8,
                  "78500": 6,
                  "78501": 2,
                  "78502": 0,
                  "78503": 2,
                  "index": "3rd_digit"
                },
                {
                  "78499": 0,
                  "78500": 5,
                  "78501": 4,
                  "78502": 2,
                  "78503": 2,
                  "index": "4th_digit"
                },
                {
                  "78499": 2013,
                  "78500": 2013,
                  "78501": 2013,
                  "78502": 2013,
                  "78503": 2013,
                  "index": "DrawYear"
                },
                {
                  "78499": 1,
                  "78500": 1,
                  "78501": 1,
                  "78502": 1,
                  "78503": 1,
                  "index": "DrawMonth"
                },
                {
                  "78499": 2,
                  "78500": 2,
                  "78501": 2,
                  "78502": 2,
                  "78503": 2,
                  "index": "DrawWeek"
                },
                {
                  "78499": 13,
                  "78500": 13,
                  "78501": 13,
                  "78502": 13,
                  "78503": 13,
                  "index": "DrawDay"
                },
                {
                  "78499": 6,
                  "78500": 6,
                  "78501": 6,
                  "78502": 6,
                  "78503": 6,
                  "index": "DrawDayofweek"
                },
                {
                  "78499": 13,
                  "78500": 13,
                  "78501": 13,
                  "78502": 13,
                  "78503": 13,
                  "index": "DrawDayofyear"
                },
                {
                  "78499": 0.11,
                  "78500": 0.08,
                  "78501": 0.1,
                  "78502": 0.07,
                  "78503": 0.15,
                  "index": "CumProbaExactMatch"
                },
                {
                  "78499": 1.99,
                  "78500": 0.86,
                  "78501": 1.88,
                  "78502": 1.02,
                  "78503": 0.93,
                  "index": "CumProbaAnyMatch"
                },
                {
                  "78499": 8226,
                  "78500": 8226,
                  "78501": 8226,
                  "78502": 8226,
                  "78503": 8226,
                  "index": "0_1"
                },
                {
                  "78499": 8183,
                  "78500": 8183,
                  "78501": 8183,
                  "78502": 8183,
                  "78503": 8183,
                  "index": "0_2"
                },
                {
                  "78499": 8332,
                  "78500": 8332,
                  "78501": 8332,
                  "78502": 8332,
                  "78503": 8332,
                  "index": "0_3"
                },
                {
                  "78499": 8169,
                  "78500": 8169,
                  "78501": 8169,
                  "78502": 8169,
                  "78503": 8169,
                  "index": "0_4"
                },
                {
                  "78499": 8138,
                  "78500": 8138,
                  "78501": 8138,
                  "78502": 8138,
                  "78503": 8138,
                  "index": "0_5"
                },
                {
                  "78499": 8128,
                  "78500": 8128,
                  "78501": 8128,
                  "78502": 8128,
                  "78503": 8128,
                  "index": "0_6"
                },
                {
                  "78499": 8208,
                  "78500": 8208,
                  "78501": 8208,
                  "78502": 8208,
                  "78503": 8208,
                  "index": "0_7"
                },
                {
                  "78499": 8148,
                  "78500": 8148,
                  "78501": 8148,
                  "78502": 8148,
                  "78503": 8148,
                  "index": "0_8"
                },
                {
                  "78499": 8216,
                  "78500": 8216,
                  "78501": 8216,
                  "78502": 8216,
                  "78503": 8216,
                  "index": "0_9"
                },
                {
                  "78499": 8436,
                  "78500": 8436,
                  "78501": 8436,
                  "78502": 8436,
                  "78503": 8436,
                  "index": "1_2"
                },
                {
                  "78499": 8401,
                  "78500": 8401,
                  "78501": 8401,
                  "78502": 8401,
                  "78503": 8401,
                  "index": "1_3"
                },
                {
                  "78499": 8445,
                  "78500": 8445,
                  "78501": 8445,
                  "78502": 8445,
                  "78503": 8445,
                  "index": "1_4"
                },
                {
                  "78499": 8279,
                  "78500": 8279,
                  "78501": 8279,
                  "78502": 8279,
                  "78503": 8279,
                  "index": "1_5"
                },
                {
                  "78499": 8357,
                  "78500": 8357,
                  "78501": 8357,
                  "78502": 8357,
                  "78503": 8357,
                  "index": "1_6"
                },
                {
                  "78499": 8363,
                  "78500": 8363,
                  "78501": 8363,
                  "78502": 8363,
                  "78503": 8363,
                  "index": "1_7"
                },
                {
                  "78499": 8358,
                  "78500": 8358,
                  "78501": 8358,
                  "78502": 8358,
                  "78503": 8358,
                  "index": "1_8"
                },
                {
                  "78499": 8292,
                  "78500": 8292,
                  "78501": 8292,
                  "78502": 8292,
                  "78503": 8292,
                  "index": "1_9"
                },
                {
                  "78499": 8277,
                  "78500": 8277,
                  "78501": 8277,
                  "78502": 8277,
                  "78503": 8277,
                  "index": "2_3"
                },
                {
                  "78499": 8257,
                  "78500": 8257,
                  "78501": 8257,
                  "78502": 8257,
                  "78503": 8257,
                  "index": "2_4"
                },
                {
                  "78499": 8137,
                  "78500": 8137,
                  "78501": 8137,
                  "78502": 8137,
                  "78503": 8137,
                  "index": "2_5"
                },
                {
                  "78499": 8177,
                  "78500": 8177,
                  "78501": 8177,
                  "78502": 8177,
                  "78503": 8177,
                  "index": "2_6"
                },
                {
                  "78499": 8140,
                  "78500": 8140,
                  "78501": 8140,
                  "78502": 8140,
                  "78503": 8140,
                  "index": "2_7"
                },
                {
                  "78499": 8167,
                  "78500": 8167,
                  "78501": 8167,
                  "78502": 8167,
                  "78503": 8167,
                  "index": "2_8"
                },
                {
                  "78499": 8122,
                  "78500": 8122,
                  "78501": 8122,
                  "78502": 8122,
                  "78503": 8122,
                  "index": "2_9"
                },
                {
                  "78499": 8246,
                  "78500": 8246,
                  "78501": 8246,
                  "78502": 8246,
                  "78503": 8246,
                  "index": "3_4"
                },
                {
                  "78499": 8244,
                  "78500": 8244,
                  "78501": 8244,
                  "78502": 8244,
                  "78503": 8244,
                  "index": "3_5"
                },
                {
                  "78499": 8272,
                  "78500": 8272,
                  "78501": 8272,
                  "78502": 8272,
                  "78503": 8272,
                  "index": "3_6"
                },
                {
                  "78499": 8292,
                  "78500": 8292,
                  "78501": 8292,
                  "78502": 8292,
                  "78503": 8292,
                  "index": "3_7"
                },
                {
                  "78499": 8352,
                  "78500": 8352,
                  "78501": 8352,
                  "78502": 8352,
                  "78503": 8352,
                  "index": "3_8"
                },
                {
                  "78499": 8279,
                  "78500": 8279,
                  "78501": 8279,
                  "78502": 8279,
                  "78503": 8279,
                  "index": "3_9"
                },
                {
                  "78499": 8079,
                  "78500": 8079,
                  "78501": 8079,
                  "78502": 8079,
                  "78503": 8079,
                  "index": "4_5"
                },
                {
                  "78499": 8071,
                  "78500": 8071,
                  "78501": 8071,
                  "78502": 8071,
                  "78503": 8071,
                  "index": "4_6"
                },
                {
                  "78499": 8069,
                  "78500": 8069,
                  "78501": 8069,
                  "78502": 8069,
                  "78503": 8069,
                  "index": "4_7"
                },
                {
                  "78499": 8237,
                  "78500": 8237,
                  "78501": 8237,
                  "78502": 8237,
                  "78503": 8237,
                  "index": "4_8"
                },
                {
                  "78499": 8178,
                  "78500": 8178,
                  "78501": 8178,
                  "78502": 8178,
                  "78503": 8178,
                  "index": "4_9"
                },
                {
                  "78499": 8054,
                  "78500": 8054,
                  "78501": 8054,
                  "78502": 8054,
                  "78503": 8054,
                  "index": "5_6"
                },
                {
                  "78499": 8047,
                  "78500": 8047,
                  "78501": 8047,
                  "78502": 8047,
                  "78503": 8047,
                  "index": "5_7"
                },
                {
                  "78499": 8139,
                  "78500": 8139,
                  "78501": 8139,
                  "78502": 8139,
                  "78503": 8139,
                  "index": "5_8"
                },
                {
                  "78499": 8193,
                  "78500": 8193,
                  "78501": 8193,
                  "78502": 8193,
                  "78503": 8193,
                  "index": "5_9"
                },
                {
                  "78499": 8263,
                  "78500": 8263,
                  "78501": 8263,
                  "78502": 8263,
                  "78503": 8263,
                  "index": "6_7"
                }
              ],
              "schema": {
                "fields": [
                  {
                    "type": "string",
                    "name": "index"
                  },
                  {
                    "type": "string",
                    "name": 78499
                  },
                  {
                    "type": "string",
                    "name": 78500
                  },
                  {
                    "type": "string",
                    "name": 78501
                  },
                  {
                    "type": "string",
                    "name": 78502
                  },
                  {
                    "type": "string",
                    "name": 78503
                  }
                ],
                "pandas_version": "0.20.0",
                "primaryKey": [
                  "index"
                ]
              }
            },
            "text/html": [
              "<div>\n",
              "<style scoped>\n",
              "    .dataframe tbody tr th:only-of-type {\n",
              "        vertical-align: middle;\n",
              "    }\n",
              "\n",
              "    .dataframe tbody tr th {\n",
              "        vertical-align: top;\n",
              "    }\n",
              "\n",
              "    .dataframe thead th {\n",
              "        text-align: right;\n",
              "    }\n",
              "</style>\n",
              "<table border=\"1\" class=\"dataframe\">\n",
              "  <thead>\n",
              "    <tr style=\"text-align: right;\">\n",
              "      <th></th>\n",
              "      <th>78499</th>\n",
              "      <th>78500</th>\n",
              "      <th>78501</th>\n",
              "      <th>78502</th>\n",
              "      <th>78503</th>\n",
              "    </tr>\n",
              "  </thead>\n",
              "  <tbody>\n",
              "    <tr>\n",
              "      <th>DrawNo</th>\n",
              "      <td>382113</td>\n",
              "      <td>382113</td>\n",
              "      <td>382113</td>\n",
              "      <td>382113</td>\n",
              "      <td>382113</td>\n",
              "    </tr>\n",
              "    <tr>\n",
              "      <th>DrawDate</th>\n",
              "      <td>2013-01-13 00:00:00</td>\n",
              "      <td>2013-01-13 00:00:00</td>\n",
              "      <td>2013-01-13 00:00:00</td>\n",
              "      <td>2013-01-13 00:00:00</td>\n",
              "      <td>2013-01-13 00:00:00</td>\n",
              "    </tr>\n",
              "    <tr>\n",
              "      <th>PrizeType</th>\n",
              "      <td>1stPrizeNo</td>\n",
              "      <td>2ndPrizeNo</td>\n",
              "      <td>3rdPrizeNo</td>\n",
              "      <td>ConsolationNo1</td>\n",
              "      <td>ConsolationNo10</td>\n",
              "    </tr>\n",
              "    <tr>\n",
              "      <th>LuckyNo</th>\n",
              "      <td>9580</td>\n",
              "      <td>565</td>\n",
              "      <td>9124</td>\n",
              "      <td>8802</td>\n",
              "      <td>1922</td>\n",
              "    </tr>\n",
              "    <tr>\n",
              "      <th>DaysSinceLastExactMatch</th>\n",
              "      <td>249</td>\n",
              "      <td>3221</td>\n",
              "      <td>469</td>\n",
              "      <td>344</td>\n",
              "      <td>578</td>\n",
              "    </tr>\n",
              "    <tr>\n",
              "      <th>DaysUntilNextExactMatch</th>\n",
              "      <td>308</td>\n",
              "      <td>119</td>\n",
              "      <td>672</td>\n",
              "      <td>1445</td>\n",
              "      <td>1750</td>\n",
              "    </tr>\n",
              "    <tr>\n",
              "      <th>DaysSinceLastAnyMatch</th>\n",
              "      <td>75</td>\n",
              "      <td>43</td>\n",
              "      <td>7</td>\n",
              "      <td>57</td>\n",
              "      <td>7</td>\n",
              "    </tr>\n",
              "    <tr>\n",
              "      <th>DaysUntilNextAnyMatch</th>\n",
              "      <td>14</td>\n",
              "      <td>28</td>\n",
              "      <td>42</td>\n",
              "      <td>55</td>\n",
              "      <td>42</td>\n",
              "    </tr>\n",
              "    <tr>\n",
              "      <th>1st_digit</th>\n",
              "      <td>9</td>\n",
              "      <td>0</td>\n",
              "      <td>9</td>\n",
              "      <td>8</td>\n",
              "      <td>1</td>\n",
              "    </tr>\n",
              "    <tr>\n",
              "      <th>2nd_digit</th>\n",
              "      <td>5</td>\n",
              "      <td>5</td>\n",
              "      <td>1</td>\n",
              "      <td>8</td>\n",
              "      <td>9</td>\n",
              "    </tr>\n",
              "    <tr>\n",
              "      <th>3rd_digit</th>\n",
              "      <td>8</td>\n",
              "      <td>6</td>\n",
              "      <td>2</td>\n",
              "      <td>0</td>\n",
              "      <td>2</td>\n",
              "    </tr>\n",
              "    <tr>\n",
              "      <th>4th_digit</th>\n",
              "      <td>0</td>\n",
              "      <td>5</td>\n",
              "      <td>4</td>\n",
              "      <td>2</td>\n",
              "      <td>2</td>\n",
              "    </tr>\n",
              "    <tr>\n",
              "      <th>DrawYear</th>\n",
              "      <td>2013</td>\n",
              "      <td>2013</td>\n",
              "      <td>2013</td>\n",
              "      <td>2013</td>\n",
              "      <td>2013</td>\n",
              "    </tr>\n",
              "    <tr>\n",
              "      <th>DrawMonth</th>\n",
              "      <td>1</td>\n",
              "      <td>1</td>\n",
              "      <td>1</td>\n",
              "      <td>1</td>\n",
              "      <td>1</td>\n",
              "    </tr>\n",
              "    <tr>\n",
              "      <th>DrawWeek</th>\n",
              "      <td>2</td>\n",
              "      <td>2</td>\n",
              "      <td>2</td>\n",
              "      <td>2</td>\n",
              "      <td>2</td>\n",
              "    </tr>\n",
              "    <tr>\n",
              "      <th>DrawDay</th>\n",
              "      <td>13</td>\n",
              "      <td>13</td>\n",
              "      <td>13</td>\n",
              "      <td>13</td>\n",
              "      <td>13</td>\n",
              "    </tr>\n",
              "    <tr>\n",
              "      <th>DrawDayofweek</th>\n",
              "      <td>6</td>\n",
              "      <td>6</td>\n",
              "      <td>6</td>\n",
              "      <td>6</td>\n",
              "      <td>6</td>\n",
              "    </tr>\n",
              "    <tr>\n",
              "      <th>DrawDayofyear</th>\n",
              "      <td>13</td>\n",
              "      <td>13</td>\n",
              "      <td>13</td>\n",
              "      <td>13</td>\n",
              "      <td>13</td>\n",
              "    </tr>\n",
              "    <tr>\n",
              "      <th>CumProbaExactMatch</th>\n",
              "      <td>0.11</td>\n",
              "      <td>0.08</td>\n",
              "      <td>0.1</td>\n",
              "      <td>0.07</td>\n",
              "      <td>0.15</td>\n",
              "    </tr>\n",
              "    <tr>\n",
              "      <th>CumProbaAnyMatch</th>\n",
              "      <td>1.99</td>\n",
              "      <td>0.86</td>\n",
              "      <td>1.88</td>\n",
              "      <td>1.02</td>\n",
              "      <td>0.93</td>\n",
              "    </tr>\n",
              "    <tr>\n",
              "      <th>0_1</th>\n",
              "      <td>8226</td>\n",
              "      <td>8226</td>\n",
              "      <td>8226</td>\n",
              "      <td>8226</td>\n",
              "      <td>8226</td>\n",
              "    </tr>\n",
              "    <tr>\n",
              "      <th>0_2</th>\n",
              "      <td>8183</td>\n",
              "      <td>8183</td>\n",
              "      <td>8183</td>\n",
              "      <td>8183</td>\n",
              "      <td>8183</td>\n",
              "    </tr>\n",
              "    <tr>\n",
              "      <th>0_3</th>\n",
              "      <td>8332</td>\n",
              "      <td>8332</td>\n",
              "      <td>8332</td>\n",
              "      <td>8332</td>\n",
              "      <td>8332</td>\n",
              "    </tr>\n",
              "    <tr>\n",
              "      <th>0_4</th>\n",
              "      <td>8169</td>\n",
              "      <td>8169</td>\n",
              "      <td>8169</td>\n",
              "      <td>8169</td>\n",
              "      <td>8169</td>\n",
              "    </tr>\n",
              "    <tr>\n",
              "      <th>0_5</th>\n",
              "      <td>8138</td>\n",
              "      <td>8138</td>\n",
              "      <td>8138</td>\n",
              "      <td>8138</td>\n",
              "      <td>8138</td>\n",
              "    </tr>\n",
              "    <tr>\n",
              "      <th>0_6</th>\n",
              "      <td>8128</td>\n",
              "      <td>8128</td>\n",
              "      <td>8128</td>\n",
              "      <td>8128</td>\n",
              "      <td>8128</td>\n",
              "    </tr>\n",
              "    <tr>\n",
              "      <th>0_7</th>\n",
              "      <td>8208</td>\n",
              "      <td>8208</td>\n",
              "      <td>8208</td>\n",
              "      <td>8208</td>\n",
              "      <td>8208</td>\n",
              "    </tr>\n",
              "    <tr>\n",
              "      <th>0_8</th>\n",
              "      <td>8148</td>\n",
              "      <td>8148</td>\n",
              "      <td>8148</td>\n",
              "      <td>8148</td>\n",
              "      <td>8148</td>\n",
              "    </tr>\n",
              "    <tr>\n",
              "      <th>0_9</th>\n",
              "      <td>8216</td>\n",
              "      <td>8216</td>\n",
              "      <td>8216</td>\n",
              "      <td>8216</td>\n",
              "      <td>8216</td>\n",
              "    </tr>\n",
              "    <tr>\n",
              "      <th>1_2</th>\n",
              "      <td>8436</td>\n",
              "      <td>8436</td>\n",
              "      <td>8436</td>\n",
              "      <td>8436</td>\n",
              "      <td>8436</td>\n",
              "    </tr>\n",
              "    <tr>\n",
              "      <th>...</th>\n",
              "      <td>...</td>\n",
              "      <td>...</td>\n",
              "      <td>...</td>\n",
              "      <td>...</td>\n",
              "      <td>...</td>\n",
              "    </tr>\n",
              "    <tr>\n",
              "      <th>pos_2_0_freq</th>\n",
              "      <td>7836</td>\n",
              "      <td>7836</td>\n",
              "      <td>7836</td>\n",
              "      <td>7836</td>\n",
              "      <td>7836</td>\n",
              "    </tr>\n",
              "    <tr>\n",
              "      <th>pos_2_1_freq</th>\n",
              "      <td>8059</td>\n",
              "      <td>8059</td>\n",
              "      <td>8059</td>\n",
              "      <td>8059</td>\n",
              "      <td>8059</td>\n",
              "    </tr>\n",
              "    <tr>\n",
              "      <th>pos_2_2_freq</th>\n",
              "      <td>7860</td>\n",
              "      <td>7860</td>\n",
              "      <td>7860</td>\n",
              "      <td>7860</td>\n",
              "      <td>7860</td>\n",
              "    </tr>\n",
              "    <tr>\n",
              "      <th>pos_2_3_freq</th>\n",
              "      <td>7963</td>\n",
              "      <td>7963</td>\n",
              "      <td>7963</td>\n",
              "      <td>7963</td>\n",
              "      <td>7963</td>\n",
              "    </tr>\n",
              "    <tr>\n",
              "      <th>pos_2_4_freq</th>\n",
              "      <td>7864</td>\n",
              "      <td>7864</td>\n",
              "      <td>7864</td>\n",
              "      <td>7864</td>\n",
              "      <td>7864</td>\n",
              "    </tr>\n",
              "    <tr>\n",
              "      <th>pos_2_5_freq</th>\n",
              "      <td>7741</td>\n",
              "      <td>7741</td>\n",
              "      <td>7741</td>\n",
              "      <td>7741</td>\n",
              "      <td>7741</td>\n",
              "    </tr>\n",
              "    <tr>\n",
              "      <th>pos_2_6_freq</th>\n",
              "      <td>7857</td>\n",
              "      <td>7857</td>\n",
              "      <td>7857</td>\n",
              "      <td>7857</td>\n",
              "      <td>7857</td>\n",
              "    </tr>\n",
              "    <tr>\n",
              "      <th>pos_2_7_freq</th>\n",
              "      <td>7789</td>\n",
              "      <td>7789</td>\n",
              "      <td>7789</td>\n",
              "      <td>7789</td>\n",
              "      <td>7789</td>\n",
              "    </tr>\n",
              "    <tr>\n",
              "      <th>pos_2_8_freq</th>\n",
              "      <td>7881</td>\n",
              "      <td>7881</td>\n",
              "      <td>7881</td>\n",
              "      <td>7881</td>\n",
              "      <td>7881</td>\n",
              "    </tr>\n",
              "    <tr>\n",
              "      <th>pos_2_9_freq</th>\n",
              "      <td>7695</td>\n",
              "      <td>7695</td>\n",
              "      <td>7695</td>\n",
              "      <td>7695</td>\n",
              "      <td>7695</td>\n",
              "    </tr>\n",
              "    <tr>\n",
              "      <th>pos_3_0_freq</th>\n",
              "      <td>7835</td>\n",
              "      <td>7835</td>\n",
              "      <td>7835</td>\n",
              "      <td>7835</td>\n",
              "      <td>7835</td>\n",
              "    </tr>\n",
              "    <tr>\n",
              "      <th>pos_3_1_freq</th>\n",
              "      <td>8058</td>\n",
              "      <td>8058</td>\n",
              "      <td>8058</td>\n",
              "      <td>8058</td>\n",
              "      <td>8058</td>\n",
              "    </tr>\n",
              "    <tr>\n",
              "      <th>pos_3_2_freq</th>\n",
              "      <td>7861</td>\n",
              "      <td>7861</td>\n",
              "      <td>7861</td>\n",
              "      <td>7861</td>\n",
              "      <td>7861</td>\n",
              "    </tr>\n",
              "    <tr>\n",
              "      <th>pos_3_3_freq</th>\n",
              "      <td>7961</td>\n",
              "      <td>7961</td>\n",
              "      <td>7961</td>\n",
              "      <td>7961</td>\n",
              "      <td>7961</td>\n",
              "    </tr>\n",
              "    <tr>\n",
              "      <th>pos_3_4_freq</th>\n",
              "      <td>7865</td>\n",
              "      <td>7865</td>\n",
              "      <td>7865</td>\n",
              "      <td>7865</td>\n",
              "      <td>7865</td>\n",
              "    </tr>\n",
              "    <tr>\n",
              "      <th>pos_3_5_freq</th>\n",
              "      <td>7738</td>\n",
              "      <td>7738</td>\n",
              "      <td>7738</td>\n",
              "      <td>7738</td>\n",
              "      <td>7738</td>\n",
              "    </tr>\n",
              "    <tr>\n",
              "      <th>pos_3_6_freq</th>\n",
              "      <td>7860</td>\n",
              "      <td>7860</td>\n",
              "      <td>7860</td>\n",
              "      <td>7860</td>\n",
              "      <td>7860</td>\n",
              "    </tr>\n",
              "    <tr>\n",
              "      <th>pos_3_7_freq</th>\n",
              "      <td>7788</td>\n",
              "      <td>7788</td>\n",
              "      <td>7788</td>\n",
              "      <td>7788</td>\n",
              "      <td>7788</td>\n",
              "    </tr>\n",
              "    <tr>\n",
              "      <th>pos_3_8_freq</th>\n",
              "      <td>7884</td>\n",
              "      <td>7884</td>\n",
              "      <td>7884</td>\n",
              "      <td>7884</td>\n",
              "      <td>7884</td>\n",
              "    </tr>\n",
              "    <tr>\n",
              "      <th>pos_3_9_freq</th>\n",
              "      <td>7695</td>\n",
              "      <td>7695</td>\n",
              "      <td>7695</td>\n",
              "      <td>7695</td>\n",
              "      <td>7695</td>\n",
              "    </tr>\n",
              "    <tr>\n",
              "      <th>pos_4_0_freq</th>\n",
              "      <td>7837</td>\n",
              "      <td>7837</td>\n",
              "      <td>7837</td>\n",
              "      <td>7837</td>\n",
              "      <td>7837</td>\n",
              "    </tr>\n",
              "    <tr>\n",
              "      <th>pos_4_1_freq</th>\n",
              "      <td>8057</td>\n",
              "      <td>8057</td>\n",
              "      <td>8057</td>\n",
              "      <td>8057</td>\n",
              "      <td>8057</td>\n",
              "    </tr>\n",
              "    <tr>\n",
              "      <th>pos_4_2_freq</th>\n",
              "      <td>7862</td>\n",
              "      <td>7862</td>\n",
              "      <td>7862</td>\n",
              "      <td>7862</td>\n",
              "      <td>7862</td>\n",
              "    </tr>\n",
              "    <tr>\n",
              "      <th>pos_4_3_freq</th>\n",
              "      <td>7964</td>\n",
              "      <td>7964</td>\n",
              "      <td>7964</td>\n",
              "      <td>7964</td>\n",
              "      <td>7964</td>\n",
              "    </tr>\n",
              "    <tr>\n",
              "      <th>pos_4_4_freq</th>\n",
              "      <td>7863</td>\n",
              "      <td>7863</td>\n",
              "      <td>7863</td>\n",
              "      <td>7863</td>\n",
              "      <td>7863</td>\n",
              "    </tr>\n",
              "    <tr>\n",
              "      <th>pos_4_5_freq</th>\n",
              "      <td>7738</td>\n",
              "      <td>7738</td>\n",
              "      <td>7738</td>\n",
              "      <td>7738</td>\n",
              "      <td>7738</td>\n",
              "    </tr>\n",
              "    <tr>\n",
              "      <th>pos_4_6_freq</th>\n",
              "      <td>7861</td>\n",
              "      <td>7861</td>\n",
              "      <td>7861</td>\n",
              "      <td>7861</td>\n",
              "      <td>7861</td>\n",
              "    </tr>\n",
              "    <tr>\n",
              "      <th>pos_4_7_freq</th>\n",
              "      <td>7788</td>\n",
              "      <td>7788</td>\n",
              "      <td>7788</td>\n",
              "      <td>7788</td>\n",
              "      <td>7788</td>\n",
              "    </tr>\n",
              "    <tr>\n",
              "      <th>pos_4_8_freq</th>\n",
              "      <td>7883</td>\n",
              "      <td>7883</td>\n",
              "      <td>7883</td>\n",
              "      <td>7883</td>\n",
              "      <td>7883</td>\n",
              "    </tr>\n",
              "    <tr>\n",
              "      <th>pos_4_9_freq</th>\n",
              "      <td>7692</td>\n",
              "      <td>7692</td>\n",
              "      <td>7692</td>\n",
              "      <td>7692</td>\n",
              "      <td>7692</td>\n",
              "    </tr>\n",
              "  </tbody>\n",
              "</table>\n",
              "<p>115 rows × 5 columns</p>\n",
              "</div>"
            ],
            "text/plain": [
              "                                       78499                78500  \\\n",
              "DrawNo                                382113               382113   \n",
              "DrawDate                 2013-01-13 00:00:00  2013-01-13 00:00:00   \n",
              "PrizeType                         1stPrizeNo           2ndPrizeNo   \n",
              "LuckyNo                                 9580                  565   \n",
              "DaysSinceLastExactMatch                  249                 3221   \n",
              "DaysUntilNextExactMatch                  308                  119   \n",
              "DaysSinceLastAnyMatch                     75                   43   \n",
              "DaysUntilNextAnyMatch                     14                   28   \n",
              "1st_digit                                  9                    0   \n",
              "2nd_digit                                  5                    5   \n",
              "3rd_digit                                  8                    6   \n",
              "4th_digit                                  0                    5   \n",
              "DrawYear                                2013                 2013   \n",
              "DrawMonth                                  1                    1   \n",
              "DrawWeek                                   2                    2   \n",
              "DrawDay                                   13                   13   \n",
              "DrawDayofweek                              6                    6   \n",
              "DrawDayofyear                             13                   13   \n",
              "CumProbaExactMatch                      0.11                 0.08   \n",
              "CumProbaAnyMatch                        1.99                 0.86   \n",
              "0_1                                     8226                 8226   \n",
              "0_2                                     8183                 8183   \n",
              "0_3                                     8332                 8332   \n",
              "0_4                                     8169                 8169   \n",
              "0_5                                     8138                 8138   \n",
              "0_6                                     8128                 8128   \n",
              "0_7                                     8208                 8208   \n",
              "0_8                                     8148                 8148   \n",
              "0_9                                     8216                 8216   \n",
              "1_2                                     8436                 8436   \n",
              "...                                      ...                  ...   \n",
              "pos_2_0_freq                            7836                 7836   \n",
              "pos_2_1_freq                            8059                 8059   \n",
              "pos_2_2_freq                            7860                 7860   \n",
              "pos_2_3_freq                            7963                 7963   \n",
              "pos_2_4_freq                            7864                 7864   \n",
              "pos_2_5_freq                            7741                 7741   \n",
              "pos_2_6_freq                            7857                 7857   \n",
              "pos_2_7_freq                            7789                 7789   \n",
              "pos_2_8_freq                            7881                 7881   \n",
              "pos_2_9_freq                            7695                 7695   \n",
              "pos_3_0_freq                            7835                 7835   \n",
              "pos_3_1_freq                            8058                 8058   \n",
              "pos_3_2_freq                            7861                 7861   \n",
              "pos_3_3_freq                            7961                 7961   \n",
              "pos_3_4_freq                            7865                 7865   \n",
              "pos_3_5_freq                            7738                 7738   \n",
              "pos_3_6_freq                            7860                 7860   \n",
              "pos_3_7_freq                            7788                 7788   \n",
              "pos_3_8_freq                            7884                 7884   \n",
              "pos_3_9_freq                            7695                 7695   \n",
              "pos_4_0_freq                            7837                 7837   \n",
              "pos_4_1_freq                            8057                 8057   \n",
              "pos_4_2_freq                            7862                 7862   \n",
              "pos_4_3_freq                            7964                 7964   \n",
              "pos_4_4_freq                            7863                 7863   \n",
              "pos_4_5_freq                            7738                 7738   \n",
              "pos_4_6_freq                            7861                 7861   \n",
              "pos_4_7_freq                            7788                 7788   \n",
              "pos_4_8_freq                            7883                 7883   \n",
              "pos_4_9_freq                            7692                 7692   \n",
              "\n",
              "                                       78501                78502  \\\n",
              "DrawNo                                382113               382113   \n",
              "DrawDate                 2013-01-13 00:00:00  2013-01-13 00:00:00   \n",
              "PrizeType                         3rdPrizeNo       ConsolationNo1   \n",
              "LuckyNo                                 9124                 8802   \n",
              "DaysSinceLastExactMatch                  469                  344   \n",
              "DaysUntilNextExactMatch                  672                 1445   \n",
              "DaysSinceLastAnyMatch                      7                   57   \n",
              "DaysUntilNextAnyMatch                     42                   55   \n",
              "1st_digit                                  9                    8   \n",
              "2nd_digit                                  1                    8   \n",
              "3rd_digit                                  2                    0   \n",
              "4th_digit                                  4                    2   \n",
              "DrawYear                                2013                 2013   \n",
              "DrawMonth                                  1                    1   \n",
              "DrawWeek                                   2                    2   \n",
              "DrawDay                                   13                   13   \n",
              "DrawDayofweek                              6                    6   \n",
              "DrawDayofyear                             13                   13   \n",
              "CumProbaExactMatch                       0.1                 0.07   \n",
              "CumProbaAnyMatch                        1.88                 1.02   \n",
              "0_1                                     8226                 8226   \n",
              "0_2                                     8183                 8183   \n",
              "0_3                                     8332                 8332   \n",
              "0_4                                     8169                 8169   \n",
              "0_5                                     8138                 8138   \n",
              "0_6                                     8128                 8128   \n",
              "0_7                                     8208                 8208   \n",
              "0_8                                     8148                 8148   \n",
              "0_9                                     8216                 8216   \n",
              "1_2                                     8436                 8436   \n",
              "...                                      ...                  ...   \n",
              "pos_2_0_freq                            7836                 7836   \n",
              "pos_2_1_freq                            8059                 8059   \n",
              "pos_2_2_freq                            7860                 7860   \n",
              "pos_2_3_freq                            7963                 7963   \n",
              "pos_2_4_freq                            7864                 7864   \n",
              "pos_2_5_freq                            7741                 7741   \n",
              "pos_2_6_freq                            7857                 7857   \n",
              "pos_2_7_freq                            7789                 7789   \n",
              "pos_2_8_freq                            7881                 7881   \n",
              "pos_2_9_freq                            7695                 7695   \n",
              "pos_3_0_freq                            7835                 7835   \n",
              "pos_3_1_freq                            8058                 8058   \n",
              "pos_3_2_freq                            7861                 7861   \n",
              "pos_3_3_freq                            7961                 7961   \n",
              "pos_3_4_freq                            7865                 7865   \n",
              "pos_3_5_freq                            7738                 7738   \n",
              "pos_3_6_freq                            7860                 7860   \n",
              "pos_3_7_freq                            7788                 7788   \n",
              "pos_3_8_freq                            7884                 7884   \n",
              "pos_3_9_freq                            7695                 7695   \n",
              "pos_4_0_freq                            7837                 7837   \n",
              "pos_4_1_freq                            8057                 8057   \n",
              "pos_4_2_freq                            7862                 7862   \n",
              "pos_4_3_freq                            7964                 7964   \n",
              "pos_4_4_freq                            7863                 7863   \n",
              "pos_4_5_freq                            7738                 7738   \n",
              "pos_4_6_freq                            7861                 7861   \n",
              "pos_4_7_freq                            7788                 7788   \n",
              "pos_4_8_freq                            7883                 7883   \n",
              "pos_4_9_freq                            7692                 7692   \n",
              "\n",
              "                                       78503  \n",
              "DrawNo                                382113  \n",
              "DrawDate                 2013-01-13 00:00:00  \n",
              "PrizeType                    ConsolationNo10  \n",
              "LuckyNo                                 1922  \n",
              "DaysSinceLastExactMatch                  578  \n",
              "DaysUntilNextExactMatch                 1750  \n",
              "DaysSinceLastAnyMatch                      7  \n",
              "DaysUntilNextAnyMatch                     42  \n",
              "1st_digit                                  1  \n",
              "2nd_digit                                  9  \n",
              "3rd_digit                                  2  \n",
              "4th_digit                                  2  \n",
              "DrawYear                                2013  \n",
              "DrawMonth                                  1  \n",
              "DrawWeek                                   2  \n",
              "DrawDay                                   13  \n",
              "DrawDayofweek                              6  \n",
              "DrawDayofyear                             13  \n",
              "CumProbaExactMatch                      0.15  \n",
              "CumProbaAnyMatch                        0.93  \n",
              "0_1                                     8226  \n",
              "0_2                                     8183  \n",
              "0_3                                     8332  \n",
              "0_4                                     8169  \n",
              "0_5                                     8138  \n",
              "0_6                                     8128  \n",
              "0_7                                     8208  \n",
              "0_8                                     8148  \n",
              "0_9                                     8216  \n",
              "1_2                                     8436  \n",
              "...                                      ...  \n",
              "pos_2_0_freq                            7836  \n",
              "pos_2_1_freq                            8059  \n",
              "pos_2_2_freq                            7860  \n",
              "pos_2_3_freq                            7963  \n",
              "pos_2_4_freq                            7864  \n",
              "pos_2_5_freq                            7741  \n",
              "pos_2_6_freq                            7857  \n",
              "pos_2_7_freq                            7789  \n",
              "pos_2_8_freq                            7881  \n",
              "pos_2_9_freq                            7695  \n",
              "pos_3_0_freq                            7835  \n",
              "pos_3_1_freq                            8058  \n",
              "pos_3_2_freq                            7861  \n",
              "pos_3_3_freq                            7961  \n",
              "pos_3_4_freq                            7865  \n",
              "pos_3_5_freq                            7738  \n",
              "pos_3_6_freq                            7860  \n",
              "pos_3_7_freq                            7788  \n",
              "pos_3_8_freq                            7884  \n",
              "pos_3_9_freq                            7695  \n",
              "pos_4_0_freq                            7837  \n",
              "pos_4_1_freq                            8057  \n",
              "pos_4_2_freq                            7862  \n",
              "pos_4_3_freq                            7964  \n",
              "pos_4_4_freq                            7863  \n",
              "pos_4_5_freq                            7738  \n",
              "pos_4_6_freq                            7861  \n",
              "pos_4_7_freq                            7788  \n",
              "pos_4_8_freq                            7883  \n",
              "pos_4_9_freq                            7692  \n",
              "\n",
              "[115 rows x 5 columns]"
            ]
          },
          "metadata": {
            "tags": []
          },
          "execution_count": 24
        }
      ]
    },
    {
      "cell_type": "code",
      "metadata": {
        "colab_type": "code",
        "id": "DwSkbsZeyfJB",
        "colab": {}
      },
      "source": [
        "# Data normalization proceses\n",
        "procs=[FillMissing, Categorify, Normalize]"
      ],
      "execution_count": 0,
      "outputs": []
    },
    {
      "cell_type": "code",
      "metadata": {
        "colab_type": "code",
        "id": "pRSdjjeJJRi9",
        "colab": {}
      },
      "source": [
        "# Set continuous and categorical columns\n",
        "cont_vars = [\n",
        " 'DaysSinceLastExactMatch',\n",
        " 'DaysUntilNextExactMatch',\n",
        " 'DaysSinceLastAnyMatch',\n",
        " 'DaysUntilNextAnyMatch',\n",
        " 'CumProbaExactMatch',\n",
        " 'CumProbaAnyMatch',\n",
        " '0_1',\n",
        " '0_2',\n",
        " '0_3',\n",
        " '0_4',\n",
        " '0_5',\n",
        " '0_6',\n",
        " '0_7',\n",
        " '0_8',\n",
        " '0_9',\n",
        " '1_2',\n",
        " '1_3',\n",
        " '1_4',\n",
        " '1_5',\n",
        " '1_6',\n",
        " '1_7',\n",
        " '1_8',\n",
        " '1_9',\n",
        " '2_3',\n",
        " '2_4',\n",
        " '2_5',\n",
        " '2_6',\n",
        " '2_7',\n",
        " '2_8',\n",
        " '2_9',\n",
        " '3_4',\n",
        " '3_5',\n",
        " '3_6',\n",
        " '3_7',\n",
        " '3_8',\n",
        " '3_9',\n",
        " '4_5',\n",
        " '4_6',\n",
        " '4_7',\n",
        " '4_8',\n",
        " '4_9',\n",
        " '5_6',\n",
        " '5_7',\n",
        " '5_8',\n",
        " '5_9',\n",
        " '6_7',\n",
        " '6_8',\n",
        " '6_9',\n",
        " '7_8',\n",
        " '7_9',\n",
        " '8_9',\n",
        " '0_0',\n",
        " '1_1',\n",
        " '2_2',\n",
        " '3_3',\n",
        " '4_4',\n",
        " '5_5',\n",
        " '6_6',\n",
        " '7_7',\n",
        " '8_8',\n",
        " '9_9',\n",
        " 'pos_1_0_freq',\n",
        " 'pos_1_1_freq',\n",
        " 'pos_1_2_freq',\n",
        " 'pos_1_3_freq',\n",
        " 'pos_1_4_freq',\n",
        " 'pos_1_5_freq',\n",
        " 'pos_1_6_freq',\n",
        " 'pos_1_7_freq',\n",
        " 'pos_1_8_freq',\n",
        " 'pos_1_9_freq',\n",
        " 'pos_2_0_freq',\n",
        " 'pos_2_1_freq',\n",
        " 'pos_2_2_freq',\n",
        " 'pos_2_3_freq',\n",
        " 'pos_2_4_freq',\n",
        " 'pos_2_5_freq',\n",
        " 'pos_2_6_freq',\n",
        " 'pos_2_7_freq',\n",
        " 'pos_2_8_freq',\n",
        " 'pos_2_9_freq',\n",
        " 'pos_3_0_freq',\n",
        " 'pos_3_1_freq',\n",
        " 'pos_3_2_freq',\n",
        " 'pos_3_3_freq',\n",
        " 'pos_3_4_freq',\n",
        " 'pos_3_5_freq',\n",
        " 'pos_3_6_freq',\n",
        " 'pos_3_7_freq',\n",
        " 'pos_3_8_freq',\n",
        " 'pos_3_9_freq',\n",
        " 'pos_4_0_freq',\n",
        " 'pos_4_1_freq',\n",
        " 'pos_4_2_freq',\n",
        " 'pos_4_3_freq',\n",
        " 'pos_4_4_freq',\n",
        " 'pos_4_5_freq',\n",
        " 'pos_4_6_freq',\n",
        " 'pos_4_7_freq',\n",
        " 'pos_4_8_freq',\n",
        " 'pos_4_9_freq']\n",
        "\n",
        "cat_vars = ['PrizeType', 'DrawDayofyear', \"DrawMonth\", \"DrawWeek\", \"DrawDay\", \"DrawDayofweek\"]"
      ],
      "execution_count": 0,
      "outputs": []
    },
    {
      "cell_type": "code",
      "metadata": {
        "colab_type": "code",
        "id": "NX6sRVnFJRi_",
        "colab": {}
      },
      "source": [
        "dep_var = 'LuckyNo'"
      ],
      "execution_count": 0,
      "outputs": []
    },
    {
      "cell_type": "code",
      "metadata": {
        "colab_type": "code",
        "id": "K08LmXY_JRjB",
        "colab": {}
      },
      "source": [
        "df_joined = train_df[cat_vars + cont_vars + [dep_var,'DrawDate']].copy()"
      ],
      "execution_count": 0,
      "outputs": []
    },
    {
      "cell_type": "code",
      "metadata": {
        "id": "sP9U7K7VLKE0",
        "colab_type": "code",
        "colab": {
          "base_uri": "https://localhost:8080/",
          "height": 102
        },
        "outputId": "6f99b703-0524-496f-85aa-82362fa3d616"
      },
      "source": [
        "df_joined.info()"
      ],
      "execution_count": 29,
      "outputs": [
        {
          "output_type": "stream",
          "text": [
            "<class 'pandas.core.frame.DataFrame'>\n",
            "RangeIndex: 78499 entries, 0 to 78498\n",
            "Columns: 109 entries, PrizeType to DrawDate\n",
            "dtypes: datetime64[ns](1), float64(2), int64(105), object(1)\n",
            "memory usage: 65.3+ MB\n"
          ],
          "name": "stdout"
        }
      ]
    },
    {
      "cell_type": "code",
      "metadata": {
        "colab_type": "code",
        "id": "yzK1iibUc1jF",
        "colab": {}
      },
      "source": [
        "train_df = train_df[cat_vars + cont_vars + [dep_var,'DrawDate']].copy()\n",
        "test_df = test_df[cat_vars + cont_vars + [dep_var,'DrawDate']].copy()"
      ],
      "execution_count": 0,
      "outputs": []
    },
    {
      "cell_type": "code",
      "metadata": {
        "id": "3e3cftdmLVSK",
        "colab_type": "code",
        "colab": {
          "base_uri": "https://localhost:8080/",
          "height": 34
        },
        "outputId": "5d69da50-a1cc-4768-c726-a7b846d04eb0"
      },
      "source": [
        "len(train_df), len(test_df)"
      ],
      "execution_count": 31,
      "outputs": [
        {
          "output_type": "execute_result",
          "data": {
            "text/plain": [
              "(78499, 26174)"
            ]
          },
          "metadata": {
            "tags": []
          },
          "execution_count": 31
        }
      ]
    },
    {
      "cell_type": "code",
      "metadata": {
        "id": "qPls2zsqLaY2",
        "colab_type": "code",
        "colab": {
          "base_uri": "https://localhost:8080/",
          "height": 102
        },
        "outputId": "5a82ddd5-207c-4e13-ecd9-e801964a37f6"
      },
      "source": [
        "train_df.info()"
      ],
      "execution_count": 34,
      "outputs": [
        {
          "output_type": "stream",
          "text": [
            "<class 'pandas.core.frame.DataFrame'>\n",
            "RangeIndex: 78499 entries, 0 to 78498\n",
            "Columns: 109 entries, PrizeType to DrawDate\n",
            "dtypes: datetime64[ns](1), float64(2), int64(105), object(1)\n",
            "memory usage: 65.3+ MB\n"
          ],
          "name": "stdout"
        }
      ]
    },
    {
      "cell_type": "code",
      "metadata": {
        "id": "peDre3ANLdPz",
        "colab_type": "code",
        "colab": {
          "base_uri": "https://localhost:8080/",
          "height": 102
        },
        "outputId": "f5227f1c-886a-425e-a774-60113e33c8a4"
      },
      "source": [
        "test_df.info()"
      ],
      "execution_count": 35,
      "outputs": [
        {
          "output_type": "stream",
          "text": [
            "<class 'pandas.core.frame.DataFrame'>\n",
            "RangeIndex: 26174 entries, 78499 to 104672\n",
            "Columns: 109 entries, PrizeType to DrawDate\n",
            "dtypes: datetime64[ns](1), float64(2), int64(105), object(1)\n",
            "memory usage: 21.8+ MB\n"
          ],
          "name": "stdout"
        }
      ]
    },
    {
      "cell_type": "code",
      "metadata": {
        "colab_type": "code",
        "id": "pTtBKYQgJRjE",
        "outputId": "a575eb7f-3af1-4680-aae2-95289fa86a20",
        "colab": {
          "base_uri": "https://localhost:8080/",
          "height": 34
        }
      },
      "source": [
        "# Min and max draw date\n",
        "test_df['DrawDate'].min(), test_df['DrawDate'].max()"
      ],
      "execution_count": 36,
      "outputs": [
        {
          "output_type": "execute_result",
          "data": {
            "text/plain": [
              "(Timestamp('2013-01-13 00:00:00'), Timestamp('2019-06-09 00:00:00'))"
            ]
          },
          "metadata": {
            "tags": []
          },
          "execution_count": 36
        }
      ]
    },
    {
      "cell_type": "markdown",
      "metadata": {
        "colab_type": "text",
        "id": "psovR8pRJRjJ"
      },
      "source": [
        "### Create a validation set"
      ]
    },
    {
      "cell_type": "code",
      "metadata": {
        "colab_type": "code",
        "id": "2M08ikGlJRjK",
        "outputId": "e3373fa8-48ca-4ced-e917-7d5b53574fa1",
        "colab": {
          "base_uri": "https://localhost:8080/",
          "height": 34
        }
      },
      "source": [
        "# 1st criteria - of the same date\n",
        "# 2nd criteria - >= len(test_df)\n",
        "\n",
        "cut = train_df['DrawDate'][(train_df['DrawDate'] == train_df['DrawDate'][len(test_df) * 2.5])].index.max()\n",
        "print(cut)"
      ],
      "execution_count": 39,
      "outputs": [
        {
          "output_type": "stream",
          "text": [
            "65457\n"
          ],
          "name": "stdout"
        }
      ]
    },
    {
      "cell_type": "code",
      "metadata": {
        "colab_type": "code",
        "id": "iEdDShxec1jL",
        "outputId": "f8127843-796c-442b-850a-0d2671aa7c92",
        "colab": {
          "base_uri": "https://localhost:8080/",
          "height": 338
        }
      },
      "source": [
        "train_df.head(5)"
      ],
      "execution_count": 40,
      "outputs": [
        {
          "output_type": "execute_result",
          "data": {
            "application/vnd.dataresource+json": {
              "data": [
                {
                  "DrawDayofweek": 2,
                  "1_7": 3,
                  "1_6": 2,
                  "1_5": 2,
                  "1_4": 4,
                  "1_3": 4,
                  "DrawMonth": 5,
                  "1_1": 5,
                  "0_9": 5,
                  "0_6": 3,
                  "0_7": 1,
                  "0_4": 3,
                  "0_5": 4,
                  "0_2": 1,
                  "0_3": 1,
                  "0_0": 3,
                  "1_8": 1,
                  "pos_2_6_freq": 4,
                  "pos_2_8_freq": 2,
                  "DrawDayofyear": 127,
                  "4_8": 0,
                  "4_9": 4,
                  "5_7": 2,
                  "5_6": 1,
                  "5_5": 1,
                  "5_9": 3,
                  "5_8": 1,
                  "4_6": 3,
                  "4_7": 3,
                  "4_4": 1,
                  "4_5": 2,
                  "pos_3_4_freq": 3,
                  "LuckyNo": 19,
                  "pos_4_0_freq": 5,
                  "DaysUntilNextExactMatch": 28,
                  "DrawDay": 6,
                  "1_2": 3,
                  "0_8": 0,
                  "pos_3_0_freq": 8,
                  "pos_4_4_freq": 5,
                  "pos_2_9_freq": 4,
                  "pos_3_1_freq": 8,
                  "8_8": 1,
                  "8_9": 3,
                  "index": 0,
                  "9_9": 1,
                  "pos_2_5_freq": 3,
                  "1_9": 4,
                  "DaysSinceLastExactMatch": 0,
                  "pos_1_4_freq": 2,
                  "0_1": 3,
                  "pos_1_8_freq": 1,
                  "pos_3_7_freq": 7,
                  "pos_4_9_freq": 6,
                  "pos_4_1_freq": 8,
                  "DrawDate": "1992-05-06T00:00:00.000Z",
                  "pos_3_6_freq": 3,
                  "pos_4_3_freq": 2,
                  "pos_3_5_freq": 5,
                  "pos_2_7_freq": 5,
                  "pos_1_7_freq": 4,
                  "2_5": 2,
                  "DrawWeek": 19,
                  "pos_2_2_freq": 5,
                  "pos_4_6_freq": 5,
                  "2_8": 1,
                  "2_9": 3,
                  "3_3": 0,
                  "3_5": 3,
                  "3_4": 1,
                  "3_7": 3,
                  "3_6": 1,
                  "3_9": 1,
                  "3_8": 1,
                  "2_2": 2,
                  "2_3": 0,
                  "2_4": 2,
                  "pos_2_4_freq": 6,
                  "2_6": 2,
                  "2_7": 4,
                  "CumProbaExactMatch": 0.01,
                  "pos_1_6_freq": 2,
                  "pos_2_0_freq": 5,
                  "pos_4_7_freq": 6,
                  "pos_1_2_freq": 1,
                  "pos_3_8_freq": 2,
                  "DaysSinceLastAnyMatch": 0,
                  "pos_4_2_freq": 2,
                  "pos_4_8_freq": 2,
                  "6_6": 2,
                  "6_7": 1,
                  "6_8": 1,
                  "6_9": 1,
                  "7_9": 2,
                  "7_8": 1,
                  "7_7": 2,
                  "DaysUntilNextAnyMatch": 28,
                  "pos_1_9_freq": 1,
                  "pos_3_2_freq": 4,
                  "pos_2_3_freq": 4,
                  "pos_1_5_freq": 2,
                  "pos_1_0_freq": 4,
                  "PrizeType": "1stPrizeNo",
                  "pos_4_5_freq": 5,
                  "pos_2_1_freq": 8,
                  "pos_3_9_freq": 2,
                  "pos_3_3_freq": 4,
                  "pos_1_1_freq": 4,
                  "CumProbaAnyMatch": 0.01,
                  "pos_1_3_freq": 2
                },
                {
                  "DrawDayofweek": 2,
                  "1_7": 3,
                  "1_6": 2,
                  "1_5": 2,
                  "1_4": 4,
                  "1_3": 4,
                  "DrawMonth": 5,
                  "1_1": 5,
                  "0_9": 5,
                  "0_6": 3,
                  "0_7": 1,
                  "0_4": 3,
                  "0_5": 4,
                  "0_2": 1,
                  "0_3": 1,
                  "0_0": 3,
                  "1_8": 1,
                  "pos_2_6_freq": 4,
                  "pos_2_8_freq": 2,
                  "DrawDayofyear": 127,
                  "4_8": 0,
                  "4_9": 4,
                  "5_7": 2,
                  "5_6": 1,
                  "5_5": 1,
                  "5_9": 3,
                  "5_8": 1,
                  "4_6": 3,
                  "4_7": 3,
                  "4_4": 1,
                  "4_5": 2,
                  "pos_3_4_freq": 3,
                  "LuckyNo": 1124,
                  "pos_4_0_freq": 5,
                  "DaysUntilNextExactMatch": 2436,
                  "DrawDay": 6,
                  "1_2": 3,
                  "0_8": 0,
                  "pos_3_0_freq": 8,
                  "pos_4_4_freq": 5,
                  "pos_2_9_freq": 4,
                  "pos_3_1_freq": 8,
                  "8_8": 1,
                  "8_9": 3,
                  "index": 1,
                  "9_9": 1,
                  "pos_2_5_freq": 3,
                  "1_9": 4,
                  "DaysSinceLastExactMatch": 0,
                  "pos_1_4_freq": 2,
                  "0_1": 3,
                  "pos_1_8_freq": 1,
                  "pos_3_7_freq": 7,
                  "pos_4_9_freq": 6,
                  "pos_4_1_freq": 8,
                  "DrawDate": "1992-05-06T00:00:00.000Z",
                  "pos_3_6_freq": 3,
                  "pos_4_3_freq": 2,
                  "pos_3_5_freq": 5,
                  "pos_2_7_freq": 5,
                  "pos_1_7_freq": 4,
                  "2_5": 2,
                  "DrawWeek": 19,
                  "pos_2_2_freq": 5,
                  "pos_4_6_freq": 5,
                  "2_8": 1,
                  "2_9": 3,
                  "3_3": 0,
                  "3_5": 3,
                  "3_4": 1,
                  "3_7": 3,
                  "3_6": 1,
                  "3_9": 1,
                  "3_8": 1,
                  "2_2": 2,
                  "2_3": 0,
                  "2_4": 2,
                  "pos_2_4_freq": 6,
                  "2_6": 2,
                  "2_7": 4,
                  "CumProbaExactMatch": 0.01,
                  "pos_1_6_freq": 2,
                  "pos_2_0_freq": 5,
                  "pos_4_7_freq": 6,
                  "pos_1_2_freq": 1,
                  "pos_3_8_freq": 2,
                  "DaysSinceLastAnyMatch": 0,
                  "pos_4_2_freq": 2,
                  "pos_4_8_freq": 2,
                  "6_6": 2,
                  "6_7": 1,
                  "6_8": 1,
                  "6_9": 1,
                  "7_9": 2,
                  "7_8": 1,
                  "7_7": 2,
                  "DaysUntilNextAnyMatch": 162,
                  "pos_1_9_freq": 1,
                  "pos_3_2_freq": 4,
                  "pos_2_3_freq": 4,
                  "pos_1_5_freq": 2,
                  "pos_1_0_freq": 4,
                  "PrizeType": "2ndPrizeNo",
                  "pos_4_5_freq": 5,
                  "pos_2_1_freq": 8,
                  "pos_3_9_freq": 2,
                  "pos_3_3_freq": 4,
                  "pos_1_1_freq": 4,
                  "CumProbaAnyMatch": 0.01,
                  "pos_1_3_freq": 2
                },
                {
                  "DrawDayofweek": 2,
                  "1_7": 3,
                  "1_6": 2,
                  "1_5": 2,
                  "1_4": 4,
                  "1_3": 4,
                  "DrawMonth": 5,
                  "1_1": 5,
                  "0_9": 5,
                  "0_6": 3,
                  "0_7": 1,
                  "0_4": 3,
                  "0_5": 4,
                  "0_2": 1,
                  "0_3": 1,
                  "0_0": 3,
                  "1_8": 1,
                  "pos_2_6_freq": 4,
                  "pos_2_8_freq": 2,
                  "DrawDayofyear": 127,
                  "4_8": 0,
                  "4_9": 4,
                  "5_7": 2,
                  "5_6": 1,
                  "5_5": 1,
                  "5_9": 3,
                  "5_8": 1,
                  "4_6": 3,
                  "4_7": 3,
                  "4_4": 1,
                  "4_5": 2,
                  "pos_3_4_freq": 3,
                  "LuckyNo": 592,
                  "pos_4_0_freq": 5,
                  "DaysUntilNextExactMatch": 25,
                  "DrawDay": 6,
                  "1_2": 3,
                  "0_8": 0,
                  "pos_3_0_freq": 8,
                  "pos_4_4_freq": 5,
                  "pos_2_9_freq": 4,
                  "pos_3_1_freq": 8,
                  "8_8": 1,
                  "8_9": 3,
                  "index": 2,
                  "9_9": 1,
                  "pos_2_5_freq": 3,
                  "1_9": 4,
                  "DaysSinceLastExactMatch": 0,
                  "pos_1_4_freq": 2,
                  "0_1": 3,
                  "pos_1_8_freq": 1,
                  "pos_3_7_freq": 7,
                  "pos_4_9_freq": 6,
                  "pos_4_1_freq": 8,
                  "DrawDate": "1992-05-06T00:00:00.000Z",
                  "pos_3_6_freq": 3,
                  "pos_4_3_freq": 2,
                  "pos_3_5_freq": 5,
                  "pos_2_7_freq": 5,
                  "pos_1_7_freq": 4,
                  "2_5": 2,
                  "DrawWeek": 19,
                  "pos_2_2_freq": 5,
                  "pos_4_6_freq": 5,
                  "2_8": 1,
                  "2_9": 3,
                  "3_3": 0,
                  "3_5": 3,
                  "3_4": 1,
                  "3_7": 3,
                  "3_6": 1,
                  "3_9": 1,
                  "3_8": 1,
                  "2_2": 2,
                  "2_3": 0,
                  "2_4": 2,
                  "pos_2_4_freq": 6,
                  "2_6": 2,
                  "2_7": 4,
                  "CumProbaExactMatch": 0.01,
                  "pos_1_6_freq": 2,
                  "pos_2_0_freq": 5,
                  "pos_4_7_freq": 6,
                  "pos_1_2_freq": 1,
                  "pos_3_8_freq": 2,
                  "DaysSinceLastAnyMatch": 0,
                  "pos_4_2_freq": 2,
                  "pos_4_8_freq": 2,
                  "6_6": 2,
                  "6_7": 1,
                  "6_8": 1,
                  "6_9": 1,
                  "7_9": 2,
                  "7_8": 1,
                  "7_7": 2,
                  "DaysUntilNextAnyMatch": 11,
                  "pos_1_9_freq": 1,
                  "pos_3_2_freq": 4,
                  "pos_2_3_freq": 4,
                  "pos_1_5_freq": 2,
                  "pos_1_0_freq": 4,
                  "PrizeType": "3rdPrizeNo",
                  "pos_4_5_freq": 5,
                  "pos_2_1_freq": 8,
                  "pos_3_9_freq": 2,
                  "pos_3_3_freq": 4,
                  "pos_1_1_freq": 4,
                  "CumProbaAnyMatch": 0.01,
                  "pos_1_3_freq": 2
                },
                {
                  "DrawDayofweek": 2,
                  "1_7": 3,
                  "1_6": 2,
                  "1_5": 2,
                  "1_4": 4,
                  "1_3": 4,
                  "DrawMonth": 5,
                  "1_1": 5,
                  "0_9": 5,
                  "0_6": 3,
                  "0_7": 1,
                  "0_4": 3,
                  "0_5": 4,
                  "0_2": 1,
                  "0_3": 1,
                  "0_0": 3,
                  "1_8": 1,
                  "pos_2_6_freq": 4,
                  "pos_2_8_freq": 2,
                  "DrawDayofyear": 127,
                  "4_8": 0,
                  "4_9": 4,
                  "5_7": 2,
                  "5_6": 1,
                  "5_5": 1,
                  "5_9": 3,
                  "5_8": 1,
                  "4_6": 3,
                  "4_7": 3,
                  "4_4": 1,
                  "4_5": 2,
                  "pos_3_4_freq": 3,
                  "LuckyNo": 5311,
                  "pos_4_0_freq": 5,
                  "DaysUntilNextExactMatch": 515,
                  "DrawDay": 6,
                  "1_2": 3,
                  "0_8": 0,
                  "pos_3_0_freq": 8,
                  "pos_4_4_freq": 5,
                  "pos_2_9_freq": 4,
                  "pos_3_1_freq": 8,
                  "8_8": 1,
                  "8_9": 3,
                  "index": 3,
                  "9_9": 1,
                  "pos_2_5_freq": 3,
                  "1_9": 4,
                  "DaysSinceLastExactMatch": 0,
                  "pos_1_4_freq": 2,
                  "0_1": 3,
                  "pos_1_8_freq": 1,
                  "pos_3_7_freq": 7,
                  "pos_4_9_freq": 6,
                  "pos_4_1_freq": 8,
                  "DrawDate": "1992-05-06T00:00:00.000Z",
                  "pos_3_6_freq": 3,
                  "pos_4_3_freq": 2,
                  "pos_3_5_freq": 5,
                  "pos_2_7_freq": 5,
                  "pos_1_7_freq": 4,
                  "2_5": 2,
                  "DrawWeek": 19,
                  "pos_2_2_freq": 5,
                  "pos_4_6_freq": 5,
                  "2_8": 1,
                  "2_9": 3,
                  "3_3": 0,
                  "3_5": 3,
                  "3_4": 1,
                  "3_7": 3,
                  "3_6": 1,
                  "3_9": 1,
                  "3_8": 1,
                  "2_2": 2,
                  "2_3": 0,
                  "2_4": 2,
                  "pos_2_4_freq": 6,
                  "2_6": 2,
                  "2_7": 4,
                  "CumProbaExactMatch": 0.01,
                  "pos_1_6_freq": 2,
                  "pos_2_0_freq": 5,
                  "pos_4_7_freq": 6,
                  "pos_1_2_freq": 1,
                  "pos_3_8_freq": 2,
                  "DaysSinceLastAnyMatch": 0,
                  "pos_4_2_freq": 2,
                  "pos_4_8_freq": 2,
                  "6_6": 2,
                  "6_7": 1,
                  "6_8": 1,
                  "6_9": 1,
                  "7_9": 2,
                  "7_8": 1,
                  "7_7": 2,
                  "DaysUntilNextAnyMatch": 204,
                  "pos_1_9_freq": 1,
                  "pos_3_2_freq": 4,
                  "pos_2_3_freq": 4,
                  "pos_1_5_freq": 2,
                  "pos_1_0_freq": 4,
                  "PrizeType": "ConsolationNo1",
                  "pos_4_5_freq": 5,
                  "pos_2_1_freq": 8,
                  "pos_3_9_freq": 2,
                  "pos_3_3_freq": 4,
                  "pos_1_1_freq": 4,
                  "CumProbaAnyMatch": 0.01,
                  "pos_1_3_freq": 2
                },
                {
                  "DrawDayofweek": 2,
                  "1_7": 3,
                  "1_6": 2,
                  "1_5": 2,
                  "1_4": 4,
                  "1_3": 4,
                  "DrawMonth": 5,
                  "1_1": 5,
                  "0_9": 5,
                  "0_6": 3,
                  "0_7": 1,
                  "0_4": 3,
                  "0_5": 4,
                  "0_2": 1,
                  "0_3": 1,
                  "0_0": 3,
                  "1_8": 1,
                  "pos_2_6_freq": 4,
                  "pos_2_8_freq": 2,
                  "DrawDayofyear": 127,
                  "4_8": 0,
                  "4_9": 4,
                  "5_7": 2,
                  "5_6": 1,
                  "5_5": 1,
                  "5_9": 3,
                  "5_8": 1,
                  "4_6": 3,
                  "4_7": 3,
                  "4_4": 1,
                  "4_5": 2,
                  "pos_3_4_freq": 3,
                  "LuckyNo": 407,
                  "pos_4_0_freq": 5,
                  "DaysUntilNextExactMatch": 2114,
                  "DrawDay": 6,
                  "1_2": 3,
                  "0_8": 0,
                  "pos_3_0_freq": 8,
                  "pos_4_4_freq": 5,
                  "pos_2_9_freq": 4,
                  "pos_3_1_freq": 8,
                  "8_8": 1,
                  "8_9": 3,
                  "index": 4,
                  "9_9": 1,
                  "pos_2_5_freq": 3,
                  "1_9": 4,
                  "DaysSinceLastExactMatch": 0,
                  "pos_1_4_freq": 2,
                  "0_1": 3,
                  "pos_1_8_freq": 1,
                  "pos_3_7_freq": 7,
                  "pos_4_9_freq": 6,
                  "pos_4_1_freq": 8,
                  "DrawDate": "1992-05-06T00:00:00.000Z",
                  "pos_3_6_freq": 3,
                  "pos_4_3_freq": 2,
                  "pos_3_5_freq": 5,
                  "pos_2_7_freq": 5,
                  "pos_1_7_freq": 4,
                  "2_5": 2,
                  "DrawWeek": 19,
                  "pos_2_2_freq": 5,
                  "pos_4_6_freq": 5,
                  "2_8": 1,
                  "2_9": 3,
                  "3_3": 0,
                  "3_5": 3,
                  "3_4": 1,
                  "3_7": 3,
                  "3_6": 1,
                  "3_9": 1,
                  "3_8": 1,
                  "2_2": 2,
                  "2_3": 0,
                  "2_4": 2,
                  "pos_2_4_freq": 6,
                  "2_6": 2,
                  "2_7": 4,
                  "CumProbaExactMatch": 0.01,
                  "pos_1_6_freq": 2,
                  "pos_2_0_freq": 5,
                  "pos_4_7_freq": 6,
                  "pos_1_2_freq": 1,
                  "pos_3_8_freq": 2,
                  "DaysSinceLastAnyMatch": 0,
                  "pos_4_2_freq": 2,
                  "pos_4_8_freq": 2,
                  "6_6": 2,
                  "6_7": 1,
                  "6_8": 1,
                  "6_9": 1,
                  "7_9": 2,
                  "7_8": 1,
                  "7_7": 2,
                  "DaysUntilNextAnyMatch": 22,
                  "pos_1_9_freq": 1,
                  "pos_3_2_freq": 4,
                  "pos_2_3_freq": 4,
                  "pos_1_5_freq": 2,
                  "pos_1_0_freq": 4,
                  "PrizeType": "ConsolationNo10",
                  "pos_4_5_freq": 5,
                  "pos_2_1_freq": 8,
                  "pos_3_9_freq": 2,
                  "pos_3_3_freq": 4,
                  "pos_1_1_freq": 4,
                  "CumProbaAnyMatch": 0.01,
                  "pos_1_3_freq": 2
                }
              ],
              "schema": {
                "fields": [
                  {
                    "type": "integer",
                    "name": "index"
                  },
                  {
                    "type": "string",
                    "name": "PrizeType"
                  },
                  {
                    "type": "integer",
                    "name": "DrawDayofyear"
                  },
                  {
                    "type": "integer",
                    "name": "DrawMonth"
                  },
                  {
                    "type": "integer",
                    "name": "DrawWeek"
                  },
                  {
                    "type": "integer",
                    "name": "DrawDay"
                  },
                  {
                    "type": "integer",
                    "name": "DrawDayofweek"
                  },
                  {
                    "type": "integer",
                    "name": "DaysSinceLastExactMatch"
                  },
                  {
                    "type": "integer",
                    "name": "DaysUntilNextExactMatch"
                  },
                  {
                    "type": "integer",
                    "name": "DaysSinceLastAnyMatch"
                  },
                  {
                    "type": "integer",
                    "name": "DaysUntilNextAnyMatch"
                  },
                  {
                    "type": "number",
                    "name": "CumProbaExactMatch"
                  },
                  {
                    "type": "number",
                    "name": "CumProbaAnyMatch"
                  },
                  {
                    "type": "integer",
                    "name": "0_1"
                  },
                  {
                    "type": "integer",
                    "name": "0_2"
                  },
                  {
                    "type": "integer",
                    "name": "0_3"
                  },
                  {
                    "type": "integer",
                    "name": "0_4"
                  },
                  {
                    "type": "integer",
                    "name": "0_5"
                  },
                  {
                    "type": "integer",
                    "name": "0_6"
                  },
                  {
                    "type": "integer",
                    "name": "0_7"
                  },
                  {
                    "type": "integer",
                    "name": "0_8"
                  },
                  {
                    "type": "integer",
                    "name": "0_9"
                  },
                  {
                    "type": "integer",
                    "name": "1_2"
                  },
                  {
                    "type": "integer",
                    "name": "1_3"
                  },
                  {
                    "type": "integer",
                    "name": "1_4"
                  },
                  {
                    "type": "integer",
                    "name": "1_5"
                  },
                  {
                    "type": "integer",
                    "name": "1_6"
                  },
                  {
                    "type": "integer",
                    "name": "1_7"
                  },
                  {
                    "type": "integer",
                    "name": "1_8"
                  },
                  {
                    "type": "integer",
                    "name": "1_9"
                  },
                  {
                    "type": "integer",
                    "name": "2_3"
                  },
                  {
                    "type": "integer",
                    "name": "2_4"
                  },
                  {
                    "type": "integer",
                    "name": "2_5"
                  },
                  {
                    "type": "integer",
                    "name": "2_6"
                  },
                  {
                    "type": "integer",
                    "name": "2_7"
                  },
                  {
                    "type": "integer",
                    "name": "2_8"
                  },
                  {
                    "type": "integer",
                    "name": "2_9"
                  },
                  {
                    "type": "integer",
                    "name": "3_4"
                  },
                  {
                    "type": "integer",
                    "name": "3_5"
                  },
                  {
                    "type": "integer",
                    "name": "3_6"
                  },
                  {
                    "type": "integer",
                    "name": "3_7"
                  },
                  {
                    "type": "integer",
                    "name": "3_8"
                  },
                  {
                    "type": "integer",
                    "name": "3_9"
                  },
                  {
                    "type": "integer",
                    "name": "4_5"
                  },
                  {
                    "type": "integer",
                    "name": "4_6"
                  },
                  {
                    "type": "integer",
                    "name": "4_7"
                  },
                  {
                    "type": "integer",
                    "name": "4_8"
                  },
                  {
                    "type": "integer",
                    "name": "4_9"
                  },
                  {
                    "type": "integer",
                    "name": "5_6"
                  },
                  {
                    "type": "integer",
                    "name": "5_7"
                  },
                  {
                    "type": "integer",
                    "name": "5_8"
                  },
                  {
                    "type": "integer",
                    "name": "5_9"
                  },
                  {
                    "type": "integer",
                    "name": "6_7"
                  },
                  {
                    "type": "integer",
                    "name": "6_8"
                  },
                  {
                    "type": "integer",
                    "name": "6_9"
                  },
                  {
                    "type": "integer",
                    "name": "7_8"
                  },
                  {
                    "type": "integer",
                    "name": "7_9"
                  },
                  {
                    "type": "integer",
                    "name": "8_9"
                  },
                  {
                    "type": "integer",
                    "name": "0_0"
                  },
                  {
                    "type": "integer",
                    "name": "1_1"
                  },
                  {
                    "type": "integer",
                    "name": "2_2"
                  },
                  {
                    "type": "integer",
                    "name": "3_3"
                  },
                  {
                    "type": "integer",
                    "name": "4_4"
                  },
                  {
                    "type": "integer",
                    "name": "5_5"
                  },
                  {
                    "type": "integer",
                    "name": "6_6"
                  },
                  {
                    "type": "integer",
                    "name": "7_7"
                  },
                  {
                    "type": "integer",
                    "name": "8_8"
                  },
                  {
                    "type": "integer",
                    "name": "9_9"
                  },
                  {
                    "type": "integer",
                    "name": "pos_1_0_freq"
                  },
                  {
                    "type": "integer",
                    "name": "pos_1_1_freq"
                  },
                  {
                    "type": "integer",
                    "name": "pos_1_2_freq"
                  },
                  {
                    "type": "integer",
                    "name": "pos_1_3_freq"
                  },
                  {
                    "type": "integer",
                    "name": "pos_1_4_freq"
                  },
                  {
                    "type": "integer",
                    "name": "pos_1_5_freq"
                  },
                  {
                    "type": "integer",
                    "name": "pos_1_6_freq"
                  },
                  {
                    "type": "integer",
                    "name": "pos_1_7_freq"
                  },
                  {
                    "type": "integer",
                    "name": "pos_1_8_freq"
                  },
                  {
                    "type": "integer",
                    "name": "pos_1_9_freq"
                  },
                  {
                    "type": "integer",
                    "name": "pos_2_0_freq"
                  },
                  {
                    "type": "integer",
                    "name": "pos_2_1_freq"
                  },
                  {
                    "type": "integer",
                    "name": "pos_2_2_freq"
                  },
                  {
                    "type": "integer",
                    "name": "pos_2_3_freq"
                  },
                  {
                    "type": "integer",
                    "name": "pos_2_4_freq"
                  },
                  {
                    "type": "integer",
                    "name": "pos_2_5_freq"
                  },
                  {
                    "type": "integer",
                    "name": "pos_2_6_freq"
                  },
                  {
                    "type": "integer",
                    "name": "pos_2_7_freq"
                  },
                  {
                    "type": "integer",
                    "name": "pos_2_8_freq"
                  },
                  {
                    "type": "integer",
                    "name": "pos_2_9_freq"
                  },
                  {
                    "type": "integer",
                    "name": "pos_3_0_freq"
                  },
                  {
                    "type": "integer",
                    "name": "pos_3_1_freq"
                  },
                  {
                    "type": "integer",
                    "name": "pos_3_2_freq"
                  },
                  {
                    "type": "integer",
                    "name": "pos_3_3_freq"
                  },
                  {
                    "type": "integer",
                    "name": "pos_3_4_freq"
                  },
                  {
                    "type": "integer",
                    "name": "pos_3_5_freq"
                  },
                  {
                    "type": "integer",
                    "name": "pos_3_6_freq"
                  },
                  {
                    "type": "integer",
                    "name": "pos_3_7_freq"
                  },
                  {
                    "type": "integer",
                    "name": "pos_3_8_freq"
                  },
                  {
                    "type": "integer",
                    "name": "pos_3_9_freq"
                  },
                  {
                    "type": "integer",
                    "name": "pos_4_0_freq"
                  },
                  {
                    "type": "integer",
                    "name": "pos_4_1_freq"
                  },
                  {
                    "type": "integer",
                    "name": "pos_4_2_freq"
                  },
                  {
                    "type": "integer",
                    "name": "pos_4_3_freq"
                  },
                  {
                    "type": "integer",
                    "name": "pos_4_4_freq"
                  },
                  {
                    "type": "integer",
                    "name": "pos_4_5_freq"
                  },
                  {
                    "type": "integer",
                    "name": "pos_4_6_freq"
                  },
                  {
                    "type": "integer",
                    "name": "pos_4_7_freq"
                  },
                  {
                    "type": "integer",
                    "name": "pos_4_8_freq"
                  },
                  {
                    "type": "integer",
                    "name": "pos_4_9_freq"
                  },
                  {
                    "type": "integer",
                    "name": "LuckyNo"
                  },
                  {
                    "type": "datetime",
                    "name": "DrawDate"
                  }
                ],
                "pandas_version": "0.20.0",
                "primaryKey": [
                  "index"
                ]
              }
            },
            "text/html": [
              "<div>\n",
              "<style scoped>\n",
              "    .dataframe tbody tr th:only-of-type {\n",
              "        vertical-align: middle;\n",
              "    }\n",
              "\n",
              "    .dataframe tbody tr th {\n",
              "        vertical-align: top;\n",
              "    }\n",
              "\n",
              "    .dataframe thead th {\n",
              "        text-align: right;\n",
              "    }\n",
              "</style>\n",
              "<table border=\"1\" class=\"dataframe\">\n",
              "  <thead>\n",
              "    <tr style=\"text-align: right;\">\n",
              "      <th></th>\n",
              "      <th>PrizeType</th>\n",
              "      <th>DrawDayofyear</th>\n",
              "      <th>DrawMonth</th>\n",
              "      <th>DrawWeek</th>\n",
              "      <th>DrawDay</th>\n",
              "      <th>DrawDayofweek</th>\n",
              "      <th>DaysSinceLastExactMatch</th>\n",
              "      <th>DaysUntilNextExactMatch</th>\n",
              "      <th>DaysSinceLastAnyMatch</th>\n",
              "      <th>DaysUntilNextAnyMatch</th>\n",
              "      <th>CumProbaExactMatch</th>\n",
              "      <th>CumProbaAnyMatch</th>\n",
              "      <th>0_1</th>\n",
              "      <th>0_2</th>\n",
              "      <th>0_3</th>\n",
              "      <th>0_4</th>\n",
              "      <th>0_5</th>\n",
              "      <th>0_6</th>\n",
              "      <th>0_7</th>\n",
              "      <th>0_8</th>\n",
              "      <th>0_9</th>\n",
              "      <th>1_2</th>\n",
              "      <th>1_3</th>\n",
              "      <th>1_4</th>\n",
              "      <th>1_5</th>\n",
              "      <th>...</th>\n",
              "      <th>pos_2_7_freq</th>\n",
              "      <th>pos_2_8_freq</th>\n",
              "      <th>pos_2_9_freq</th>\n",
              "      <th>pos_3_0_freq</th>\n",
              "      <th>pos_3_1_freq</th>\n",
              "      <th>pos_3_2_freq</th>\n",
              "      <th>pos_3_3_freq</th>\n",
              "      <th>pos_3_4_freq</th>\n",
              "      <th>pos_3_5_freq</th>\n",
              "      <th>pos_3_6_freq</th>\n",
              "      <th>pos_3_7_freq</th>\n",
              "      <th>pos_3_8_freq</th>\n",
              "      <th>pos_3_9_freq</th>\n",
              "      <th>pos_4_0_freq</th>\n",
              "      <th>pos_4_1_freq</th>\n",
              "      <th>pos_4_2_freq</th>\n",
              "      <th>pos_4_3_freq</th>\n",
              "      <th>pos_4_4_freq</th>\n",
              "      <th>pos_4_5_freq</th>\n",
              "      <th>pos_4_6_freq</th>\n",
              "      <th>pos_4_7_freq</th>\n",
              "      <th>pos_4_8_freq</th>\n",
              "      <th>pos_4_9_freq</th>\n",
              "      <th>LuckyNo</th>\n",
              "      <th>DrawDate</th>\n",
              "    </tr>\n",
              "  </thead>\n",
              "  <tbody>\n",
              "    <tr>\n",
              "      <th>0</th>\n",
              "      <td>1stPrizeNo</td>\n",
              "      <td>127</td>\n",
              "      <td>5</td>\n",
              "      <td>19</td>\n",
              "      <td>6</td>\n",
              "      <td>2</td>\n",
              "      <td>0</td>\n",
              "      <td>28</td>\n",
              "      <td>0</td>\n",
              "      <td>28</td>\n",
              "      <td>0.01</td>\n",
              "      <td>0.01</td>\n",
              "      <td>3</td>\n",
              "      <td>1</td>\n",
              "      <td>1</td>\n",
              "      <td>3</td>\n",
              "      <td>4</td>\n",
              "      <td>3</td>\n",
              "      <td>1</td>\n",
              "      <td>0</td>\n",
              "      <td>5</td>\n",
              "      <td>3</td>\n",
              "      <td>4</td>\n",
              "      <td>4</td>\n",
              "      <td>2</td>\n",
              "      <td>...</td>\n",
              "      <td>5</td>\n",
              "      <td>2</td>\n",
              "      <td>4</td>\n",
              "      <td>8</td>\n",
              "      <td>8</td>\n",
              "      <td>4</td>\n",
              "      <td>4</td>\n",
              "      <td>3</td>\n",
              "      <td>5</td>\n",
              "      <td>3</td>\n",
              "      <td>7</td>\n",
              "      <td>2</td>\n",
              "      <td>2</td>\n",
              "      <td>5</td>\n",
              "      <td>8</td>\n",
              "      <td>2</td>\n",
              "      <td>2</td>\n",
              "      <td>5</td>\n",
              "      <td>5</td>\n",
              "      <td>5</td>\n",
              "      <td>6</td>\n",
              "      <td>2</td>\n",
              "      <td>6</td>\n",
              "      <td>19</td>\n",
              "      <td>1992-05-06</td>\n",
              "    </tr>\n",
              "    <tr>\n",
              "      <th>1</th>\n",
              "      <td>2ndPrizeNo</td>\n",
              "      <td>127</td>\n",
              "      <td>5</td>\n",
              "      <td>19</td>\n",
              "      <td>6</td>\n",
              "      <td>2</td>\n",
              "      <td>0</td>\n",
              "      <td>2436</td>\n",
              "      <td>0</td>\n",
              "      <td>162</td>\n",
              "      <td>0.01</td>\n",
              "      <td>0.01</td>\n",
              "      <td>3</td>\n",
              "      <td>1</td>\n",
              "      <td>1</td>\n",
              "      <td>3</td>\n",
              "      <td>4</td>\n",
              "      <td>3</td>\n",
              "      <td>1</td>\n",
              "      <td>0</td>\n",
              "      <td>5</td>\n",
              "      <td>3</td>\n",
              "      <td>4</td>\n",
              "      <td>4</td>\n",
              "      <td>2</td>\n",
              "      <td>...</td>\n",
              "      <td>5</td>\n",
              "      <td>2</td>\n",
              "      <td>4</td>\n",
              "      <td>8</td>\n",
              "      <td>8</td>\n",
              "      <td>4</td>\n",
              "      <td>4</td>\n",
              "      <td>3</td>\n",
              "      <td>5</td>\n",
              "      <td>3</td>\n",
              "      <td>7</td>\n",
              "      <td>2</td>\n",
              "      <td>2</td>\n",
              "      <td>5</td>\n",
              "      <td>8</td>\n",
              "      <td>2</td>\n",
              "      <td>2</td>\n",
              "      <td>5</td>\n",
              "      <td>5</td>\n",
              "      <td>5</td>\n",
              "      <td>6</td>\n",
              "      <td>2</td>\n",
              "      <td>6</td>\n",
              "      <td>1124</td>\n",
              "      <td>1992-05-06</td>\n",
              "    </tr>\n",
              "    <tr>\n",
              "      <th>2</th>\n",
              "      <td>3rdPrizeNo</td>\n",
              "      <td>127</td>\n",
              "      <td>5</td>\n",
              "      <td>19</td>\n",
              "      <td>6</td>\n",
              "      <td>2</td>\n",
              "      <td>0</td>\n",
              "      <td>25</td>\n",
              "      <td>0</td>\n",
              "      <td>11</td>\n",
              "      <td>0.01</td>\n",
              "      <td>0.01</td>\n",
              "      <td>3</td>\n",
              "      <td>1</td>\n",
              "      <td>1</td>\n",
              "      <td>3</td>\n",
              "      <td>4</td>\n",
              "      <td>3</td>\n",
              "      <td>1</td>\n",
              "      <td>0</td>\n",
              "      <td>5</td>\n",
              "      <td>3</td>\n",
              "      <td>4</td>\n",
              "      <td>4</td>\n",
              "      <td>2</td>\n",
              "      <td>...</td>\n",
              "      <td>5</td>\n",
              "      <td>2</td>\n",
              "      <td>4</td>\n",
              "      <td>8</td>\n",
              "      <td>8</td>\n",
              "      <td>4</td>\n",
              "      <td>4</td>\n",
              "      <td>3</td>\n",
              "      <td>5</td>\n",
              "      <td>3</td>\n",
              "      <td>7</td>\n",
              "      <td>2</td>\n",
              "      <td>2</td>\n",
              "      <td>5</td>\n",
              "      <td>8</td>\n",
              "      <td>2</td>\n",
              "      <td>2</td>\n",
              "      <td>5</td>\n",
              "      <td>5</td>\n",
              "      <td>5</td>\n",
              "      <td>6</td>\n",
              "      <td>2</td>\n",
              "      <td>6</td>\n",
              "      <td>592</td>\n",
              "      <td>1992-05-06</td>\n",
              "    </tr>\n",
              "    <tr>\n",
              "      <th>3</th>\n",
              "      <td>ConsolationNo1</td>\n",
              "      <td>127</td>\n",
              "      <td>5</td>\n",
              "      <td>19</td>\n",
              "      <td>6</td>\n",
              "      <td>2</td>\n",
              "      <td>0</td>\n",
              "      <td>515</td>\n",
              "      <td>0</td>\n",
              "      <td>204</td>\n",
              "      <td>0.01</td>\n",
              "      <td>0.01</td>\n",
              "      <td>3</td>\n",
              "      <td>1</td>\n",
              "      <td>1</td>\n",
              "      <td>3</td>\n",
              "      <td>4</td>\n",
              "      <td>3</td>\n",
              "      <td>1</td>\n",
              "      <td>0</td>\n",
              "      <td>5</td>\n",
              "      <td>3</td>\n",
              "      <td>4</td>\n",
              "      <td>4</td>\n",
              "      <td>2</td>\n",
              "      <td>...</td>\n",
              "      <td>5</td>\n",
              "      <td>2</td>\n",
              "      <td>4</td>\n",
              "      <td>8</td>\n",
              "      <td>8</td>\n",
              "      <td>4</td>\n",
              "      <td>4</td>\n",
              "      <td>3</td>\n",
              "      <td>5</td>\n",
              "      <td>3</td>\n",
              "      <td>7</td>\n",
              "      <td>2</td>\n",
              "      <td>2</td>\n",
              "      <td>5</td>\n",
              "      <td>8</td>\n",
              "      <td>2</td>\n",
              "      <td>2</td>\n",
              "      <td>5</td>\n",
              "      <td>5</td>\n",
              "      <td>5</td>\n",
              "      <td>6</td>\n",
              "      <td>2</td>\n",
              "      <td>6</td>\n",
              "      <td>5311</td>\n",
              "      <td>1992-05-06</td>\n",
              "    </tr>\n",
              "    <tr>\n",
              "      <th>4</th>\n",
              "      <td>ConsolationNo10</td>\n",
              "      <td>127</td>\n",
              "      <td>5</td>\n",
              "      <td>19</td>\n",
              "      <td>6</td>\n",
              "      <td>2</td>\n",
              "      <td>0</td>\n",
              "      <td>2114</td>\n",
              "      <td>0</td>\n",
              "      <td>22</td>\n",
              "      <td>0.01</td>\n",
              "      <td>0.01</td>\n",
              "      <td>3</td>\n",
              "      <td>1</td>\n",
              "      <td>1</td>\n",
              "      <td>3</td>\n",
              "      <td>4</td>\n",
              "      <td>3</td>\n",
              "      <td>1</td>\n",
              "      <td>0</td>\n",
              "      <td>5</td>\n",
              "      <td>3</td>\n",
              "      <td>4</td>\n",
              "      <td>4</td>\n",
              "      <td>2</td>\n",
              "      <td>...</td>\n",
              "      <td>5</td>\n",
              "      <td>2</td>\n",
              "      <td>4</td>\n",
              "      <td>8</td>\n",
              "      <td>8</td>\n",
              "      <td>4</td>\n",
              "      <td>4</td>\n",
              "      <td>3</td>\n",
              "      <td>5</td>\n",
              "      <td>3</td>\n",
              "      <td>7</td>\n",
              "      <td>2</td>\n",
              "      <td>2</td>\n",
              "      <td>5</td>\n",
              "      <td>8</td>\n",
              "      <td>2</td>\n",
              "      <td>2</td>\n",
              "      <td>5</td>\n",
              "      <td>5</td>\n",
              "      <td>5</td>\n",
              "      <td>6</td>\n",
              "      <td>2</td>\n",
              "      <td>6</td>\n",
              "      <td>407</td>\n",
              "      <td>1992-05-06</td>\n",
              "    </tr>\n",
              "  </tbody>\n",
              "</table>\n",
              "<p>5 rows × 109 columns</p>\n",
              "</div>"
            ],
            "text/plain": [
              "         PrizeType  DrawDayofyear  DrawMonth  DrawWeek  DrawDay  \\\n",
              "0       1stPrizeNo            127          5        19        6   \n",
              "1       2ndPrizeNo            127          5        19        6   \n",
              "2       3rdPrizeNo            127          5        19        6   \n",
              "3   ConsolationNo1            127          5        19        6   \n",
              "4  ConsolationNo10            127          5        19        6   \n",
              "\n",
              "   DrawDayofweek  DaysSinceLastExactMatch  DaysUntilNextExactMatch  \\\n",
              "0              2                        0                       28   \n",
              "1              2                        0                     2436   \n",
              "2              2                        0                       25   \n",
              "3              2                        0                      515   \n",
              "4              2                        0                     2114   \n",
              "\n",
              "   DaysSinceLastAnyMatch  DaysUntilNextAnyMatch  CumProbaExactMatch  \\\n",
              "0                      0                     28                0.01   \n",
              "1                      0                    162                0.01   \n",
              "2                      0                     11                0.01   \n",
              "3                      0                    204                0.01   \n",
              "4                      0                     22                0.01   \n",
              "\n",
              "   CumProbaAnyMatch  0_1  0_2  0_3  0_4  0_5  0_6  0_7  0_8  0_9  1_2  1_3  \\\n",
              "0              0.01    3    1    1    3    4    3    1    0    5    3    4   \n",
              "1              0.01    3    1    1    3    4    3    1    0    5    3    4   \n",
              "2              0.01    3    1    1    3    4    3    1    0    5    3    4   \n",
              "3              0.01    3    1    1    3    4    3    1    0    5    3    4   \n",
              "4              0.01    3    1    1    3    4    3    1    0    5    3    4   \n",
              "\n",
              "   1_4  1_5  ...  pos_2_7_freq  pos_2_8_freq  pos_2_9_freq  pos_3_0_freq  \\\n",
              "0    4    2  ...             5             2             4             8   \n",
              "1    4    2  ...             5             2             4             8   \n",
              "2    4    2  ...             5             2             4             8   \n",
              "3    4    2  ...             5             2             4             8   \n",
              "4    4    2  ...             5             2             4             8   \n",
              "\n",
              "   pos_3_1_freq  pos_3_2_freq  pos_3_3_freq  pos_3_4_freq  pos_3_5_freq  \\\n",
              "0             8             4             4             3             5   \n",
              "1             8             4             4             3             5   \n",
              "2             8             4             4             3             5   \n",
              "3             8             4             4             3             5   \n",
              "4             8             4             4             3             5   \n",
              "\n",
              "   pos_3_6_freq  pos_3_7_freq  pos_3_8_freq  pos_3_9_freq  pos_4_0_freq  \\\n",
              "0             3             7             2             2             5   \n",
              "1             3             7             2             2             5   \n",
              "2             3             7             2             2             5   \n",
              "3             3             7             2             2             5   \n",
              "4             3             7             2             2             5   \n",
              "\n",
              "   pos_4_1_freq  pos_4_2_freq  pos_4_3_freq  pos_4_4_freq  pos_4_5_freq  \\\n",
              "0             8             2             2             5             5   \n",
              "1             8             2             2             5             5   \n",
              "2             8             2             2             5             5   \n",
              "3             8             2             2             5             5   \n",
              "4             8             2             2             5             5   \n",
              "\n",
              "   pos_4_6_freq  pos_4_7_freq  pos_4_8_freq  pos_4_9_freq  LuckyNo   DrawDate  \n",
              "0             5             6             2             6       19 1992-05-06  \n",
              "1             5             6             2             6     1124 1992-05-06  \n",
              "2             5             6             2             6      592 1992-05-06  \n",
              "3             5             6             2             6     5311 1992-05-06  \n",
              "4             5             6             2             6      407 1992-05-06  \n",
              "\n",
              "[5 rows x 109 columns]"
            ]
          },
          "metadata": {
            "tags": []
          },
          "execution_count": 40
        }
      ]
    },
    {
      "cell_type": "code",
      "metadata": {
        "colab_type": "code",
        "id": "rlJZ7WvXc1jN",
        "outputId": "006eb983-7e64-439f-d8fa-4c77d0c6d703",
        "colab": {
          "base_uri": "https://localhost:8080/",
          "height": 204
        }
      },
      "source": [
        "train_df['DrawDate'][(train_df['DrawDate'] == train_df['DrawDate'][len(test_df) * 2.5])].tail(10)"
      ],
      "execution_count": 42,
      "outputs": [
        {
          "output_type": "execute_result",
          "data": {
            "application/vnd.dataresource+json": {
              "data": [
                {
                  "index": 65448,
                  "DrawDate": "2009-11-01T00:00:00.000Z"
                },
                {
                  "index": 65449,
                  "DrawDate": "2009-11-01T00:00:00.000Z"
                },
                {
                  "index": 65450,
                  "DrawDate": "2009-11-01T00:00:00.000Z"
                },
                {
                  "index": 65451,
                  "DrawDate": "2009-11-01T00:00:00.000Z"
                },
                {
                  "index": 65452,
                  "DrawDate": "2009-11-01T00:00:00.000Z"
                },
                {
                  "index": 65453,
                  "DrawDate": "2009-11-01T00:00:00.000Z"
                },
                {
                  "index": 65454,
                  "DrawDate": "2009-11-01T00:00:00.000Z"
                },
                {
                  "index": 65455,
                  "DrawDate": "2009-11-01T00:00:00.000Z"
                },
                {
                  "index": 65456,
                  "DrawDate": "2009-11-01T00:00:00.000Z"
                },
                {
                  "index": 65457,
                  "DrawDate": "2009-11-01T00:00:00.000Z"
                }
              ],
              "schema": {
                "fields": [
                  {
                    "type": "integer",
                    "name": "index"
                  },
                  {
                    "type": "datetime",
                    "name": "DrawDate"
                  }
                ],
                "pandas_version": "0.20.0",
                "primaryKey": [
                  "index"
                ]
              }
            },
            "text/plain": [
              "65448   2009-11-01\n",
              "65449   2009-11-01\n",
              "65450   2009-11-01\n",
              "65451   2009-11-01\n",
              "65452   2009-11-01\n",
              "65453   2009-11-01\n",
              "65454   2009-11-01\n",
              "65455   2009-11-01\n",
              "65456   2009-11-01\n",
              "65457   2009-11-01\n",
              "Name: DrawDate, dtype: datetime64[ns]"
            ]
          },
          "metadata": {
            "tags": []
          },
          "execution_count": 42
        }
      ]
    },
    {
      "cell_type": "code",
      "metadata": {
        "colab_type": "code",
        "id": "825smVEzJRjL",
        "outputId": "67eb7e2e-eda8-4a08-ac34-0b0c26d62920",
        "colab": {
          "base_uri": "https://localhost:8080/",
          "height": 34
        }
      },
      "source": [
        "valid_idx = range(cut)\n",
        "print(valid_idx)"
      ],
      "execution_count": 43,
      "outputs": [
        {
          "output_type": "stream",
          "text": [
            "range(0, 65457)\n"
          ],
          "name": "stdout"
        }
      ]
    },
    {
      "cell_type": "code",
      "metadata": {
        "colab_type": "code",
        "id": "IPUHYMiQzWof",
        "colab": {}
      },
      "source": [
        "# train_idx = len(train_df) - cut\n",
        "# valid_idx = range(train_idx + 1, train_idx + cut)\n",
        "# train_idx = range(train_idx)\n",
        "# print(train_idx)\n",
        "# print(valid_idx)"
      ],
      "execution_count": 0,
      "outputs": []
    },
    {
      "cell_type": "code",
      "metadata": {
        "colab_type": "code",
        "id": "CQf46HenJRjO",
        "outputId": "b833f3a6-d173-41e8-e713-f66ce413244f",
        "colab": {
          "base_uri": "https://localhost:8080/",
          "height": 34
        }
      },
      "source": [
        "len(df_joined)"
      ],
      "execution_count": 45,
      "outputs": [
        {
          "output_type": "execute_result",
          "data": {
            "text/plain": [
              "78499"
            ]
          },
          "metadata": {
            "tags": []
          },
          "execution_count": 45
        }
      ]
    },
    {
      "cell_type": "code",
      "metadata": {
        "id": "3PA8ZtjNMduF",
        "colab_type": "code",
        "colab": {}
      },
      "source": [
        ""
      ],
      "execution_count": 0,
      "outputs": []
    },
    {
      "cell_type": "markdown",
      "metadata": {
        "colab_type": "text",
        "id": "eJ7BbqQOJRjS"
      },
      "source": [
        "## Train"
      ]
    },
    {
      "cell_type": "code",
      "metadata": {
        "colab_type": "code",
        "id": "zvFwyNMfJRjS",
        "colab": {}
      },
      "source": [
        "path = Path('dl-projects/datasets/lotto')"
      ],
      "execution_count": 0,
      "outputs": []
    },
    {
      "cell_type": "code",
      "metadata": {
        "colab_type": "code",
        "id": "NclUP3xdJRjT",
        "colab": {}
      },
      "source": [
        "data = (TabularList.from_df(df_joined, path=path, cat_names=cat_vars, cont_names=cont_vars, procs=procs)\n",
        "                .split_by_idx(valid_idx)\n",
        "                .label_from_df(cols=dep_var, label_cls=FloatList, log=True)\n",
        "                .add_test(TabularList.from_df(test_df, path=path, cat_names=cat_vars, cont_names=cont_vars))\n",
        "                .databunch())\n",
        "# FloatList?\n",
        "# CategoryList?"
      ],
      "execution_count": 0,
      "outputs": []
    },
    {
      "cell_type": "code",
      "metadata": {
        "colab_type": "code",
        "id": "ULMiGgN6yB9J",
        "outputId": "e1104d29-52e3-4fdb-9925-ca1631e49042",
        "colab": {
          "base_uri": "https://localhost:8080/",
          "height": 411
        }
      },
      "source": [
        "data"
      ],
      "execution_count": 48,
      "outputs": [
        {
          "output_type": "execute_result",
          "data": {
            "text/plain": [
              "TabularDataBunch;\n",
              "\n",
              "Train: LabelList (13042 items)\n",
              "x: TabularList\n",
              "PrizeType SpecialNo9; DrawDayofyear 305; DrawMonth 11; DrawWeek 44; DrawDay 1; DrawDayofweek 6; DaysSinceLastExactMatch 1.1824; DaysUntilNextExactMatch 0.3910; DaysSinceLastAnyMatch -0.5718; DaysUntilNextAnyMatch -0.3569; CumProbaExactMatch -0.8164; CumProbaAnyMatch 0.6704; 0_1 -1.7200; 0_2 -1.6447; 0_3 -1.7218; 0_4 -1.7210; 0_5 -1.6608; 0_6 -1.6872; 0_7 -1.7161; 0_8 -1.7154; 0_9 -1.7043; 1_2 -1.6850; 1_3 -1.7354; 1_4 -1.7643; 1_5 -1.7180; 1_6 -1.6485; 1_7 -1.7382; 1_8 -1.7213; 1_9 -1.6800; 2_3 -1.7620; 2_4 -1.7396; 2_5 -1.7189; 2_6 -1.6740; 2_7 -1.7046; 2_8 -1.7573; 2_9 -1.6926; 3_4 -1.7511; 3_5 -1.7481; 3_6 -1.7061; 3_7 -1.7476; 3_8 -1.7636; 3_9 -1.7250; 4_5 -1.8100; 4_6 -1.7313; 4_7 -1.7641; 4_8 -1.7593; 4_9 -1.7670; 5_6 -1.7223; 5_7 -1.7866; 5_8 -1.7266; 5_9 -1.7009; 6_7 -1.7801; 6_8 -1.7163; 6_9 -1.7626; 7_8 -1.7620; 7_9 -1.7643; 8_9 -1.7390; 0_0 -1.6424; 1_1 -1.7507; 2_2 -1.7143; 3_3 -1.7596; 4_4 -1.8627; 5_5 -1.7474; 6_6 -1.7471; 7_7 -1.7675; 8_8 -1.7410; 9_9 -1.7376; pos_1_0_freq -1.6299; pos_1_1_freq -1.7560; pos_1_2_freq -1.7313; pos_1_3_freq -1.8074; pos_1_4_freq -1.7876; pos_1_5_freq -1.7266; pos_1_6_freq -1.6922; pos_1_7_freq -1.7807; pos_1_8_freq -1.7275; pos_1_9_freq -1.7086; pos_2_0_freq -1.6281; pos_2_1_freq -1.7537; pos_2_2_freq -1.7295; pos_2_3_freq -1.8082; pos_2_4_freq -1.7910; pos_2_5_freq -1.7300; pos_2_6_freq -1.6878; pos_2_7_freq -1.7792; pos_2_8_freq -1.7340; pos_2_9_freq -1.7068; pos_3_0_freq -1.6303; pos_3_1_freq -1.7569; pos_3_2_freq -1.7316; pos_3_3_freq -1.8056; pos_3_4_freq -1.7887; pos_3_5_freq -1.7271; pos_3_6_freq -1.6927; pos_3_7_freq -1.7739; pos_3_8_freq -1.7260; pos_3_9_freq -1.7150; pos_4_0_freq -1.6203; pos_4_1_freq -1.7594; pos_4_2_freq -1.7319; pos_4_3_freq -1.8080; pos_4_4_freq -1.7862; pos_4_5_freq -1.7304; pos_4_6_freq -1.6927; pos_4_7_freq -1.7871; pos_4_8_freq -1.7306; pos_4_9_freq -1.7012; ,PrizeType 1stPrizeNo; DrawDayofyear 307; DrawMonth 11; DrawWeek 45; DrawDay 3; DrawDayofweek 1; DaysSinceLastExactMatch 1.3318; DaysUntilNextExactMatch -1.0935; DaysSinceLastAnyMatch 0.3255; DaysUntilNextAnyMatch -0.6477; CumProbaExactMatch -0.8164; CumProbaAnyMatch -1.1387; 0_1 -1.7125; 0_2 -1.6322; 0_3 -1.7143; 0_4 -1.7000; 0_5 -1.6535; 0_6 -1.6772; 0_7 -1.7111; 0_8 -1.7101; 0_9 -1.6912; 1_2 -1.6825; 1_3 -1.7277; 1_4 -1.7538; 1_5 -1.7131; 1_6 -1.6461; 1_7 -1.7305; 1_8 -1.7164; 1_9 -1.6800; 2_3 -1.7620; 2_4 -1.7346; 2_5 -1.7140; 2_6 -1.6613; 2_7 -1.7021; 2_8 -1.7547; 2_9 -1.6926; 3_4 -1.7486; 3_5 -1.7408; 3_6 -1.7035; 3_7 -1.7427; 3_8 -1.7508; 3_9 -1.7224; 4_5 -1.7999; 4_6 -1.7237; 4_7 -1.7615; 4_8 -1.7540; 4_9 -1.7561; 5_6 -1.7121; 5_7 -1.7866; 5_8 -1.7240; 5_9 -1.6985; 6_7 -1.7775; 6_8 -1.7137; 6_9 -1.7600; 7_8 -1.7568; 7_9 -1.7643; 8_9 -1.7337; 0_0 -1.6376; 1_1 -1.7457; 2_2 -1.7095; 3_3 -1.7596; 4_4 -1.8371; 5_5 -1.7366; 6_6 -1.7366; 7_7 -1.7675; 8_8 -1.7304; 9_9 -1.7326; pos_1_0_freq -1.6247; pos_1_1_freq -1.7534; pos_1_2_freq -1.7263; pos_1_3_freq -1.7993; pos_1_4_freq -1.7767; pos_1_5_freq -1.7160; pos_1_6_freq -1.6871; pos_1_7_freq -1.7780; pos_1_8_freq -1.7219; pos_1_9_freq -1.7031; pos_2_0_freq -1.6177; pos_2_1_freq -1.7537; pos_2_2_freq -1.7270; pos_2_3_freq -1.8002; pos_2_4_freq -1.7691; pos_2_5_freq -1.7168; pos_2_6_freq -1.6852; pos_2_7_freq -1.7819; pos_2_8_freq -1.7284; pos_2_9_freq -1.7068; pos_3_0_freq -1.6173; pos_3_1_freq -1.7489; pos_3_2_freq -1.7316; pos_3_3_freq -1.8030; pos_3_4_freq -1.7751; pos_3_5_freq -1.7166; pos_3_6_freq -1.6850; pos_3_7_freq -1.7844; pos_3_8_freq -1.7176; pos_3_9_freq -1.7067; pos_4_0_freq -1.6255; pos_4_1_freq -1.7567; pos_4_2_freq -1.7243; pos_4_3_freq -1.8027; pos_4_4_freq -1.7725; pos_4_5_freq -1.7199; pos_4_6_freq -1.6876; pos_4_7_freq -1.7791; pos_4_8_freq -1.7165; pos_4_9_freq -1.7012; ,PrizeType 2ndPrizeNo; DrawDayofyear 307; DrawMonth 11; DrawWeek 45; DrawDay 3; DrawDayofweek 1; DaysSinceLastExactMatch 0.1249; DaysUntilNextExactMatch 2.2456; DaysSinceLastAnyMatch 0.3147; DaysUntilNextAnyMatch -0.4107; CumProbaExactMatch -0.4467; CumProbaAnyMatch 0.3722; 0_1 -1.7125; 0_2 -1.6322; 0_3 -1.7143; 0_4 -1.7000; 0_5 -1.6535; 0_6 -1.6772; 0_7 -1.7111; 0_8 -1.7101; 0_9 -1.6912; 1_2 -1.6825; 1_3 -1.7277; 1_4 -1.7538; 1_5 -1.7131; 1_6 -1.6461; 1_7 -1.7305; 1_8 -1.7164; 1_9 -1.6800; 2_3 -1.7620; 2_4 -1.7346; 2_5 -1.7140; 2_6 -1.6613; 2_7 -1.7021; 2_8 -1.7547; 2_9 -1.6926; 3_4 -1.7486; 3_5 -1.7408; 3_6 -1.7035; 3_7 -1.7427; 3_8 -1.7508; 3_9 -1.7224; 4_5 -1.7999; 4_6 -1.7237; 4_7 -1.7615; 4_8 -1.7540; 4_9 -1.7561; 5_6 -1.7121; 5_7 -1.7866; 5_8 -1.7240; 5_9 -1.6985; 6_7 -1.7775; 6_8 -1.7137; 6_9 -1.7600; 7_8 -1.7568; 7_9 -1.7643; 8_9 -1.7337; 0_0 -1.6376; 1_1 -1.7457; 2_2 -1.7095; 3_3 -1.7596; 4_4 -1.8371; 5_5 -1.7366; 6_6 -1.7366; 7_7 -1.7675; 8_8 -1.7304; 9_9 -1.7326; pos_1_0_freq -1.6247; pos_1_1_freq -1.7534; pos_1_2_freq -1.7263; pos_1_3_freq -1.7993; pos_1_4_freq -1.7767; pos_1_5_freq -1.7160; pos_1_6_freq -1.6871; pos_1_7_freq -1.7780; pos_1_8_freq -1.7219; pos_1_9_freq -1.7031; pos_2_0_freq -1.6177; pos_2_1_freq -1.7537; pos_2_2_freq -1.7270; pos_2_3_freq -1.8002; pos_2_4_freq -1.7691; pos_2_5_freq -1.7168; pos_2_6_freq -1.6852; pos_2_7_freq -1.7819; pos_2_8_freq -1.7284; pos_2_9_freq -1.7068; pos_3_0_freq -1.6173; pos_3_1_freq -1.7489; pos_3_2_freq -1.7316; pos_3_3_freq -1.8030; pos_3_4_freq -1.7751; pos_3_5_freq -1.7166; pos_3_6_freq -1.6850; pos_3_7_freq -1.7844; pos_3_8_freq -1.7176; pos_3_9_freq -1.7067; pos_4_0_freq -1.6255; pos_4_1_freq -1.7567; pos_4_2_freq -1.7243; pos_4_3_freq -1.8027; pos_4_4_freq -1.7725; pos_4_5_freq -1.7199; pos_4_6_freq -1.6876; pos_4_7_freq -1.7791; pos_4_8_freq -1.7165; pos_4_9_freq -1.7012; ,PrizeType 3rdPrizeNo; DrawDayofyear 307; DrawMonth 11; DrawWeek 45; DrawDay 3; DrawDayofweek 1; DaysSinceLastExactMatch -0.8789; DaysUntilNextExactMatch 1.3434; DaysSinceLastAnyMatch -0.4420; DaysUntilNextAnyMatch -0.4861; CumProbaExactMatch 0.2928; CumProbaAnyMatch 0.3921; 0_1 -1.7125; 0_2 -1.6322; 0_3 -1.7143; 0_4 -1.7000; 0_5 -1.6535; 0_6 -1.6772; 0_7 -1.7111; 0_8 -1.7101; 0_9 -1.6912; 1_2 -1.6825; 1_3 -1.7277; 1_4 -1.7538; 1_5 -1.7131; 1_6 -1.6461; 1_7 -1.7305; 1_8 -1.7164; 1_9 -1.6800; 2_3 -1.7620; 2_4 -1.7346; 2_5 -1.7140; 2_6 -1.6613; 2_7 -1.7021; 2_8 -1.7547; 2_9 -1.6926; 3_4 -1.7486; 3_5 -1.7408; 3_6 -1.7035; 3_7 -1.7427; 3_8 -1.7508; 3_9 -1.7224; 4_5 -1.7999; 4_6 -1.7237; 4_7 -1.7615; 4_8 -1.7540; 4_9 -1.7561; 5_6 -1.7121; 5_7 -1.7866; 5_8 -1.7240; 5_9 -1.6985; 6_7 -1.7775; 6_8 -1.7137; 6_9 -1.7600; 7_8 -1.7568; 7_9 -1.7643; 8_9 -1.7337; 0_0 -1.6376; 1_1 -1.7457; 2_2 -1.7095; 3_3 -1.7596; 4_4 -1.8371; 5_5 -1.7366; 6_6 -1.7366; 7_7 -1.7675; 8_8 -1.7304; 9_9 -1.7326; pos_1_0_freq -1.6247; pos_1_1_freq -1.7534; pos_1_2_freq -1.7263; pos_1_3_freq -1.7993; pos_1_4_freq -1.7767; pos_1_5_freq -1.7160; pos_1_6_freq -1.6871; pos_1_7_freq -1.7780; pos_1_8_freq -1.7219; pos_1_9_freq -1.7031; pos_2_0_freq -1.6177; pos_2_1_freq -1.7537; pos_2_2_freq -1.7270; pos_2_3_freq -1.8002; pos_2_4_freq -1.7691; pos_2_5_freq -1.7168; pos_2_6_freq -1.6852; pos_2_7_freq -1.7819; pos_2_8_freq -1.7284; pos_2_9_freq -1.7068; pos_3_0_freq -1.6173; pos_3_1_freq -1.7489; pos_3_2_freq -1.7316; pos_3_3_freq -1.8030; pos_3_4_freq -1.7751; pos_3_5_freq -1.7166; pos_3_6_freq -1.6850; pos_3_7_freq -1.7844; pos_3_8_freq -1.7176; pos_3_9_freq -1.7067; pos_4_0_freq -1.6255; pos_4_1_freq -1.7567; pos_4_2_freq -1.7243; pos_4_3_freq -1.8027; pos_4_4_freq -1.7725; pos_4_5_freq -1.7199; pos_4_6_freq -1.6876; pos_4_7_freq -1.7791; pos_4_8_freq -1.7165; pos_4_9_freq -1.7012; ,PrizeType ConsolationNo1; DrawDayofyear 307; DrawMonth 11; DrawWeek 45; DrawDay 3; DrawDayofweek 1; DaysSinceLastExactMatch -0.7413; DaysUntilNextExactMatch -1.0361; DaysSinceLastAnyMatch -0.2907; DaysUntilNextAnyMatch -0.2276; CumProbaExactMatch -0.0769; CumProbaAnyMatch -0.8008; 0_1 -1.7125; 0_2 -1.6322; 0_3 -1.7143; 0_4 -1.7000; 0_5 -1.6535; 0_6 -1.6772; 0_7 -1.7111; 0_8 -1.7101; 0_9 -1.6912; 1_2 -1.6825; 1_3 -1.7277; 1_4 -1.7538; 1_5 -1.7131; 1_6 -1.6461; 1_7 -1.7305; 1_8 -1.7164; 1_9 -1.6800; 2_3 -1.7620; 2_4 -1.7346; 2_5 -1.7140; 2_6 -1.6613; 2_7 -1.7021; 2_8 -1.7547; 2_9 -1.6926; 3_4 -1.7486; 3_5 -1.7408; 3_6 -1.7035; 3_7 -1.7427; 3_8 -1.7508; 3_9 -1.7224; 4_5 -1.7999; 4_6 -1.7237; 4_7 -1.7615; 4_8 -1.7540; 4_9 -1.7561; 5_6 -1.7121; 5_7 -1.7866; 5_8 -1.7240; 5_9 -1.6985; 6_7 -1.7775; 6_8 -1.7137; 6_9 -1.7600; 7_8 -1.7568; 7_9 -1.7643; 8_9 -1.7337; 0_0 -1.6376; 1_1 -1.7457; 2_2 -1.7095; 3_3 -1.7596; 4_4 -1.8371; 5_5 -1.7366; 6_6 -1.7366; 7_7 -1.7675; 8_8 -1.7304; 9_9 -1.7326; pos_1_0_freq -1.6247; pos_1_1_freq -1.7534; pos_1_2_freq -1.7263; pos_1_3_freq -1.7993; pos_1_4_freq -1.7767; pos_1_5_freq -1.7160; pos_1_6_freq -1.6871; pos_1_7_freq -1.7780; pos_1_8_freq -1.7219; pos_1_9_freq -1.7031; pos_2_0_freq -1.6177; pos_2_1_freq -1.7537; pos_2_2_freq -1.7270; pos_2_3_freq -1.8002; pos_2_4_freq -1.7691; pos_2_5_freq -1.7168; pos_2_6_freq -1.6852; pos_2_7_freq -1.7819; pos_2_8_freq -1.7284; pos_2_9_freq -1.7068; pos_3_0_freq -1.6173; pos_3_1_freq -1.7489; pos_3_2_freq -1.7316; pos_3_3_freq -1.8030; pos_3_4_freq -1.7751; pos_3_5_freq -1.7166; pos_3_6_freq -1.6850; pos_3_7_freq -1.7844; pos_3_8_freq -1.7176; pos_3_9_freq -1.7067; pos_4_0_freq -1.6255; pos_4_1_freq -1.7567; pos_4_2_freq -1.7243; pos_4_3_freq -1.8027; pos_4_4_freq -1.7725; pos_4_5_freq -1.7199; pos_4_6_freq -1.6876; pos_4_7_freq -1.7791; pos_4_8_freq -1.7165; pos_4_9_freq -1.7012; \n",
              "y: FloatList\n",
              "7.156956,8.402679,8.412055,7.632401,9.109414\n",
              "Path: dl-projects/datasets/lotto;\n",
              "\n",
              "Valid: LabelList (65457 items)\n",
              "x: TabularList\n",
              "PrizeType 1stPrizeNo; DrawDayofyear 127; DrawMonth 5; DrawWeek 19; DrawDay 6; DrawDayofweek 2; DaysSinceLastExactMatch -0.9917; DaysUntilNextExactMatch -1.0582; DaysSinceLastAnyMatch -0.6907; DaysUntilNextAnyMatch -0.3892; CumProbaExactMatch -2.6652; CumProbaAnyMatch -2.5105; 0_1 -18.8442; 0_2 -18.5451; 0_3 -19.0732; 0_4 -19.7157; 0_5 -17.9227; 0_6 -18.6385; 0_7 -18.7375; 0_8 -19.6634; 0_9 -19.7027; 1_2 -19.1146; 1_3 -19.6035; 1_4 -20.2627; 1_5 -18.5061; 1_6 -18.3243; 1_7 -19.8891; 1_8 -19.0271; 1_9 -19.1994; 2_3 -20.4164; 2_4 -19.0934; 2_5 -18.1601; 2_6 -18.8844; 2_7 -18.1366; 2_8 -19.8264; 2_9 -19.0833; 3_4 -19.0024; 3_5 -18.2612; 3_6 -20.0978; 3_7 -18.5295; 3_8 -19.6216; 3_9 -19.6396; 4_5 -18.8105; 4_6 -18.6881; 4_7 -18.8835; 4_8 -20.1379; 4_9 -20.4113; 5_6 -18.8601; 5_7 -17.7451; 5_8 -19.3506; 5_9 -18.6601; 6_7 -19.1766; 6_8 -19.7547; 6_9 -19.3492; 7_8 -19.8386; 7_9 -18.5362; 8_9 -20.0281; 0_0 -17.9938; 1_1 -19.2895; 2_2 -18.1914; 3_3 -19.0040; 4_4 -19.2847; 5_5 -19.8765; 6_6 -19.1213; 7_7 -18.7925; 8_8 -19.7472; 9_9 -18.7632; pos_1_0_freq -18.5500; pos_1_1_freq -19.6476; pos_1_2_freq -18.0956; pos_1_3_freq -19.5668; pos_1_4_freq -19.7898; pos_1_5_freq -18.6304; pos_1_6_freq -18.4028; pos_1_7_freq -18.8526; pos_1_8_freq -20.3699; pos_1_9_freq -19.3841; pos_2_0_freq -18.5530; pos_2_1_freq -19.6383; pos_2_2_freq -18.0885; pos_2_3_freq -19.5679; pos_2_4_freq -19.7843; pos_2_5_freq -18.6326; pos_2_6_freq -18.4036; pos_2_7_freq -18.8618; pos_2_8_freq -20.3742; pos_2_9_freq -19.3841; pos_3_0_freq -18.5409; pos_3_1_freq -19.6433; pos_3_2_freq -18.0908; pos_3_3_freq -19.5684; pos_3_4_freq -19.7970; pos_3_5_freq -18.6263; pos_3_6_freq -18.4056; pos_3_7_freq -18.8524; pos_3_8_freq -20.3778; pos_3_9_freq -19.3875; pos_4_0_freq -18.5525; pos_4_1_freq -19.6396; pos_4_2_freq -18.0972; pos_4_3_freq -19.5717; pos_4_4_freq -19.7926; pos_4_5_freq -18.6320; pos_4_6_freq -18.3973; pos_4_7_freq -18.8557; pos_4_8_freq -20.3717; pos_4_9_freq -19.3782; ,PrizeType 2ndPrizeNo; DrawDayofyear 127; DrawMonth 5; DrawWeek 19; DrawDay 6; DrawDayofweek 2; DaysSinceLastExactMatch -0.9917; DaysUntilNextExactMatch 2.4918; DaysSinceLastAnyMatch -0.6907; DaysUntilNextAnyMatch 1.0540; CumProbaExactMatch -2.6652; CumProbaAnyMatch -2.5105; 0_1 -18.8442; 0_2 -18.5451; 0_3 -19.0732; 0_4 -19.7157; 0_5 -17.9227; 0_6 -18.6385; 0_7 -18.7375; 0_8 -19.6634; 0_9 -19.7027; 1_2 -19.1146; 1_3 -19.6035; 1_4 -20.2627; 1_5 -18.5061; 1_6 -18.3243; 1_7 -19.8891; 1_8 -19.0271; 1_9 -19.1994; 2_3 -20.4164; 2_4 -19.0934; 2_5 -18.1601; 2_6 -18.8844; 2_7 -18.1366; 2_8 -19.8264; 2_9 -19.0833; 3_4 -19.0024; 3_5 -18.2612; 3_6 -20.0978; 3_7 -18.5295; 3_8 -19.6216; 3_9 -19.6396; 4_5 -18.8105; 4_6 -18.6881; 4_7 -18.8835; 4_8 -20.1379; 4_9 -20.4113; 5_6 -18.8601; 5_7 -17.7451; 5_8 -19.3506; 5_9 -18.6601; 6_7 -19.1766; 6_8 -19.7547; 6_9 -19.3492; 7_8 -19.8386; 7_9 -18.5362; 8_9 -20.0281; 0_0 -17.9938; 1_1 -19.2895; 2_2 -18.1914; 3_3 -19.0040; 4_4 -19.2847; 5_5 -19.8765; 6_6 -19.1213; 7_7 -18.7925; 8_8 -19.7472; 9_9 -18.7632; pos_1_0_freq -18.5500; pos_1_1_freq -19.6476; pos_1_2_freq -18.0956; pos_1_3_freq -19.5668; pos_1_4_freq -19.7898; pos_1_5_freq -18.6304; pos_1_6_freq -18.4028; pos_1_7_freq -18.8526; pos_1_8_freq -20.3699; pos_1_9_freq -19.3841; pos_2_0_freq -18.5530; pos_2_1_freq -19.6383; pos_2_2_freq -18.0885; pos_2_3_freq -19.5679; pos_2_4_freq -19.7843; pos_2_5_freq -18.6326; pos_2_6_freq -18.4036; pos_2_7_freq -18.8618; pos_2_8_freq -20.3742; pos_2_9_freq -19.3841; pos_3_0_freq -18.5409; pos_3_1_freq -19.6433; pos_3_2_freq -18.0908; pos_3_3_freq -19.5684; pos_3_4_freq -19.7970; pos_3_5_freq -18.6263; pos_3_6_freq -18.4056; pos_3_7_freq -18.8524; pos_3_8_freq -20.3778; pos_3_9_freq -19.3875; pos_4_0_freq -18.5525; pos_4_1_freq -19.6396; pos_4_2_freq -18.0972; pos_4_3_freq -19.5717; pos_4_4_freq -19.7926; pos_4_5_freq -18.6320; pos_4_6_freq -18.3973; pos_4_7_freq -18.8557; pos_4_8_freq -20.3717; pos_4_9_freq -19.3782; ,PrizeType 3rdPrizeNo; DrawDayofyear 127; DrawMonth 5; DrawWeek 19; DrawDay 6; DrawDayofweek 2; DaysSinceLastExactMatch -0.9917; DaysUntilNextExactMatch -1.0626; DaysSinceLastAnyMatch -0.6907; DaysUntilNextAnyMatch -0.5723; CumProbaExactMatch -2.6652; CumProbaAnyMatch -2.5105; 0_1 -18.8442; 0_2 -18.5451; 0_3 -19.0732; 0_4 -19.7157; 0_5 -17.9227; 0_6 -18.6385; 0_7 -18.7375; 0_8 -19.6634; 0_9 -19.7027; 1_2 -19.1146; 1_3 -19.6035; 1_4 -20.2627; 1_5 -18.5061; 1_6 -18.3243; 1_7 -19.8891; 1_8 -19.0271; 1_9 -19.1994; 2_3 -20.4164; 2_4 -19.0934; 2_5 -18.1601; 2_6 -18.8844; 2_7 -18.1366; 2_8 -19.8264; 2_9 -19.0833; 3_4 -19.0024; 3_5 -18.2612; 3_6 -20.0978; 3_7 -18.5295; 3_8 -19.6216; 3_9 -19.6396; 4_5 -18.8105; 4_6 -18.6881; 4_7 -18.8835; 4_8 -20.1379; 4_9 -20.4113; 5_6 -18.8601; 5_7 -17.7451; 5_8 -19.3506; 5_9 -18.6601; 6_7 -19.1766; 6_8 -19.7547; 6_9 -19.3492; 7_8 -19.8386; 7_9 -18.5362; 8_9 -20.0281; 0_0 -17.9938; 1_1 -19.2895; 2_2 -18.1914; 3_3 -19.0040; 4_4 -19.2847; 5_5 -19.8765; 6_6 -19.1213; 7_7 -18.7925; 8_8 -19.7472; 9_9 -18.7632; pos_1_0_freq -18.5500; pos_1_1_freq -19.6476; pos_1_2_freq -18.0956; pos_1_3_freq -19.5668; pos_1_4_freq -19.7898; pos_1_5_freq -18.6304; pos_1_6_freq -18.4028; pos_1_7_freq -18.8526; pos_1_8_freq -20.3699; pos_1_9_freq -19.3841; pos_2_0_freq -18.5530; pos_2_1_freq -19.6383; pos_2_2_freq -18.0885; pos_2_3_freq -19.5679; pos_2_4_freq -19.7843; pos_2_5_freq -18.6326; pos_2_6_freq -18.4036; pos_2_7_freq -18.8618; pos_2_8_freq -20.3742; pos_2_9_freq -19.3841; pos_3_0_freq -18.5409; pos_3_1_freq -19.6433; pos_3_2_freq -18.0908; pos_3_3_freq -19.5684; pos_3_4_freq -19.7970; pos_3_5_freq -18.6263; pos_3_6_freq -18.4056; pos_3_7_freq -18.8524; pos_3_8_freq -20.3778; pos_3_9_freq -19.3875; pos_4_0_freq -18.5525; pos_4_1_freq -19.6396; pos_4_2_freq -18.0972; pos_4_3_freq -19.5717; pos_4_4_freq -19.7926; pos_4_5_freq -18.6320; pos_4_6_freq -18.3973; pos_4_7_freq -18.8557; pos_4_8_freq -20.3717; pos_4_9_freq -19.3782; ,PrizeType ConsolationNo1; DrawDayofyear 127; DrawMonth 5; DrawWeek 19; DrawDay 6; DrawDayofweek 2; DaysSinceLastExactMatch -0.9917; DaysUntilNextExactMatch -0.3402; DaysSinceLastAnyMatch -0.6907; DaysUntilNextAnyMatch 1.5064; CumProbaExactMatch -2.6652; CumProbaAnyMatch -2.5105; 0_1 -18.8442; 0_2 -18.5451; 0_3 -19.0732; 0_4 -19.7157; 0_5 -17.9227; 0_6 -18.6385; 0_7 -18.7375; 0_8 -19.6634; 0_9 -19.7027; 1_2 -19.1146; 1_3 -19.6035; 1_4 -20.2627; 1_5 -18.5061; 1_6 -18.3243; 1_7 -19.8891; 1_8 -19.0271; 1_9 -19.1994; 2_3 -20.4164; 2_4 -19.0934; 2_5 -18.1601; 2_6 -18.8844; 2_7 -18.1366; 2_8 -19.8264; 2_9 -19.0833; 3_4 -19.0024; 3_5 -18.2612; 3_6 -20.0978; 3_7 -18.5295; 3_8 -19.6216; 3_9 -19.6396; 4_5 -18.8105; 4_6 -18.6881; 4_7 -18.8835; 4_8 -20.1379; 4_9 -20.4113; 5_6 -18.8601; 5_7 -17.7451; 5_8 -19.3506; 5_9 -18.6601; 6_7 -19.1766; 6_8 -19.7547; 6_9 -19.3492; 7_8 -19.8386; 7_9 -18.5362; 8_9 -20.0281; 0_0 -17.9938; 1_1 -19.2895; 2_2 -18.1914; 3_3 -19.0040; 4_4 -19.2847; 5_5 -19.8765; 6_6 -19.1213; 7_7 -18.7925; 8_8 -19.7472; 9_9 -18.7632; pos_1_0_freq -18.5500; pos_1_1_freq -19.6476; pos_1_2_freq -18.0956; pos_1_3_freq -19.5668; pos_1_4_freq -19.7898; pos_1_5_freq -18.6304; pos_1_6_freq -18.4028; pos_1_7_freq -18.8526; pos_1_8_freq -20.3699; pos_1_9_freq -19.3841; pos_2_0_freq -18.5530; pos_2_1_freq -19.6383; pos_2_2_freq -18.0885; pos_2_3_freq -19.5679; pos_2_4_freq -19.7843; pos_2_5_freq -18.6326; pos_2_6_freq -18.4036; pos_2_7_freq -18.8618; pos_2_8_freq -20.3742; pos_2_9_freq -19.3841; pos_3_0_freq -18.5409; pos_3_1_freq -19.6433; pos_3_2_freq -18.0908; pos_3_3_freq -19.5684; pos_3_4_freq -19.7970; pos_3_5_freq -18.6263; pos_3_6_freq -18.4056; pos_3_7_freq -18.8524; pos_3_8_freq -20.3778; pos_3_9_freq -19.3875; pos_4_0_freq -18.5525; pos_4_1_freq -19.6396; pos_4_2_freq -18.0972; pos_4_3_freq -19.5717; pos_4_4_freq -19.7926; pos_4_5_freq -18.6320; pos_4_6_freq -18.3973; pos_4_7_freq -18.8557; pos_4_8_freq -20.3717; pos_4_9_freq -19.3782; ,PrizeType ConsolationNo10; DrawDayofyear 127; DrawMonth 5; DrawWeek 19; DrawDay 6; DrawDayofweek 2; DaysSinceLastExactMatch -0.9917; DaysUntilNextExactMatch 2.0171; DaysSinceLastAnyMatch -0.6907; DaysUntilNextAnyMatch -0.4538; CumProbaExactMatch -2.6652; CumProbaAnyMatch -2.5105; 0_1 -18.8442; 0_2 -18.5451; 0_3 -19.0732; 0_4 -19.7157; 0_5 -17.9227; 0_6 -18.6385; 0_7 -18.7375; 0_8 -19.6634; 0_9 -19.7027; 1_2 -19.1146; 1_3 -19.6035; 1_4 -20.2627; 1_5 -18.5061; 1_6 -18.3243; 1_7 -19.8891; 1_8 -19.0271; 1_9 -19.1994; 2_3 -20.4164; 2_4 -19.0934; 2_5 -18.1601; 2_6 -18.8844; 2_7 -18.1366; 2_8 -19.8264; 2_9 -19.0833; 3_4 -19.0024; 3_5 -18.2612; 3_6 -20.0978; 3_7 -18.5295; 3_8 -19.6216; 3_9 -19.6396; 4_5 -18.8105; 4_6 -18.6881; 4_7 -18.8835; 4_8 -20.1379; 4_9 -20.4113; 5_6 -18.8601; 5_7 -17.7451; 5_8 -19.3506; 5_9 -18.6601; 6_7 -19.1766; 6_8 -19.7547; 6_9 -19.3492; 7_8 -19.8386; 7_9 -18.5362; 8_9 -20.0281; 0_0 -17.9938; 1_1 -19.2895; 2_2 -18.1914; 3_3 -19.0040; 4_4 -19.2847; 5_5 -19.8765; 6_6 -19.1213; 7_7 -18.7925; 8_8 -19.7472; 9_9 -18.7632; pos_1_0_freq -18.5500; pos_1_1_freq -19.6476; pos_1_2_freq -18.0956; pos_1_3_freq -19.5668; pos_1_4_freq -19.7898; pos_1_5_freq -18.6304; pos_1_6_freq -18.4028; pos_1_7_freq -18.8526; pos_1_8_freq -20.3699; pos_1_9_freq -19.3841; pos_2_0_freq -18.5530; pos_2_1_freq -19.6383; pos_2_2_freq -18.0885; pos_2_3_freq -19.5679; pos_2_4_freq -19.7843; pos_2_5_freq -18.6326; pos_2_6_freq -18.4036; pos_2_7_freq -18.8618; pos_2_8_freq -20.3742; pos_2_9_freq -19.3841; pos_3_0_freq -18.5409; pos_3_1_freq -19.6433; pos_3_2_freq -18.0908; pos_3_3_freq -19.5684; pos_3_4_freq -19.7970; pos_3_5_freq -18.6263; pos_3_6_freq -18.4056; pos_3_7_freq -18.8524; pos_3_8_freq -20.3778; pos_3_9_freq -19.3875; pos_4_0_freq -18.5525; pos_4_1_freq -19.6396; pos_4_2_freq -18.0972; pos_4_3_freq -19.5717; pos_4_4_freq -19.7926; pos_4_5_freq -18.6320; pos_4_6_freq -18.3973; pos_4_7_freq -18.8557; pos_4_8_freq -20.3717; pos_4_9_freq -19.3782; \n",
              "y: FloatList\n",
              "2.944439,7.024649,6.383507,8.577536,6.0088134\n",
              "Path: dl-projects/datasets/lotto;\n",
              "\n",
              "Test: LabelList (26174 items)\n",
              "x: TabularList\n",
              "PrizeType 1stPrizeNo; DrawDayofyear 13; DrawMonth 1; DrawWeek 2; DrawDay 13; DrawDayofweek 6; DaysSinceLastExactMatch -0.7241; DaysUntilNextExactMatch -0.6454; DaysSinceLastAnyMatch 0.1201; DaysUntilNextAnyMatch -0.5400; CumProbaExactMatch 1.0323; CumProbaAnyMatch 1.4258; 0_1 1.7574; 0_2 1.7781; 0_3 1.7409; 0_4 1.7643; 0_5 1.7962; 0_6 1.8173; 0_7 1.7126; 0_8 1.7826; 0_9 1.7776; 1_2 1.7846; 1_3 1.7543; 1_4 1.7668; 1_5 1.7085; 1_6 1.7314; 1_7 1.7203; 1_8 1.6986; 1_9 1.7834; 2_3 1.6632; 2_4 1.6924; 2_5 1.7638; 2_6 1.7696; 2_7 1.7343; 2_8 1.7613; 2_9 1.7727; 3_4 1.6535; 3_5 1.7366; 3_6 1.7456; 3_7 1.6570; 3_8 1.7227; 3_9 1.6950; 4_5 1.7115; 4_6 1.7523; 4_7 1.7263; 4_8 1.7006; 4_9 1.6723; 5_6 1.7847; 5_7 1.6632; 5_8 1.7909; 5_9 1.7567; 6_7 1.7296; 6_8 1.7637; 6_9 1.7296; 7_8 1.6926; 7_9 1.7293; 8_9 1.7628; 0_0 1.7385; 1_1 1.7611; 2_2 1.7136; 3_3 1.7457; 4_4 1.7130; 5_5 1.8169; 6_6 1.7162; 7_7 1.6315; 8_8 1.7059; 9_9 1.6956; pos_1_0_freq 1.7920; pos_1_1_freq 1.7516; pos_1_2_freq 1.7033; pos_1_3_freq 1.6980; pos_1_4_freq 1.6460; pos_1_5_freq 1.7803; pos_1_6_freq 1.7572; pos_1_7_freq 1.7194; pos_1_8_freq 1.7411; pos_1_9_freq 1.7550; pos_2_0_freq 1.7938; pos_2_1_freq 1.7504; pos_2_2_freq 1.7020; pos_2_3_freq 1.6972; pos_2_4_freq 1.6452; pos_2_5_freq 1.7846; pos_2_6_freq 1.7514; pos_2_7_freq 1.7219; pos_2_8_freq 1.7375; pos_2_9_freq 1.7599; pos_3_0_freq 1.7908; pos_3_1_freq 1.7481; pos_3_2_freq 1.7050; pos_3_3_freq 1.6919; pos_3_4_freq 1.6482; pos_3_5_freq 1.7767; pos_3_6_freq 1.7592; pos_3_7_freq 1.7185; pos_3_8_freq 1.7461; pos_3_9_freq 1.7596; pos_4_0_freq 1.7963; pos_4_1_freq 1.7449; pos_4_2_freq 1.7075; pos_4_3_freq 1.6998; pos_4_4_freq 1.6427; pos_4_5_freq 1.7771; pos_4_6_freq 1.7611; pos_4_7_freq 1.7187; pos_4_8_freq 1.7434; pos_4_9_freq 1.7517; ,PrizeType 2ndPrizeNo; DrawDayofyear 13; DrawMonth 1; DrawWeek 2; DrawDay 13; DrawDayofweek 6; DaysSinceLastExactMatch 2.4700; DaysUntilNextExactMatch -0.9240; DaysSinceLastAnyMatch -0.2258; DaysUntilNextAnyMatch -0.3892; CumProbaExactMatch -0.0769; CumProbaAnyMatch -0.8206; 0_1 1.7574; 0_2 1.7781; 0_3 1.7409; 0_4 1.7643; 0_5 1.7962; 0_6 1.8173; 0_7 1.7126; 0_8 1.7826; 0_9 1.7776; 1_2 1.7846; 1_3 1.7543; 1_4 1.7668; 1_5 1.7085; 1_6 1.7314; 1_7 1.7203; 1_8 1.6986; 1_9 1.7834; 2_3 1.6632; 2_4 1.6924; 2_5 1.7638; 2_6 1.7696; 2_7 1.7343; 2_8 1.7613; 2_9 1.7727; 3_4 1.6535; 3_5 1.7366; 3_6 1.7456; 3_7 1.6570; 3_8 1.7227; 3_9 1.6950; 4_5 1.7115; 4_6 1.7523; 4_7 1.7263; 4_8 1.7006; 4_9 1.6723; 5_6 1.7847; 5_7 1.6632; 5_8 1.7909; 5_9 1.7567; 6_7 1.7296; 6_8 1.7637; 6_9 1.7296; 7_8 1.6926; 7_9 1.7293; 8_9 1.7628; 0_0 1.7385; 1_1 1.7611; 2_2 1.7136; 3_3 1.7457; 4_4 1.7130; 5_5 1.8169; 6_6 1.7162; 7_7 1.6315; 8_8 1.7059; 9_9 1.6956; pos_1_0_freq 1.7920; pos_1_1_freq 1.7516; pos_1_2_freq 1.7033; pos_1_3_freq 1.6980; pos_1_4_freq 1.6460; pos_1_5_freq 1.7803; pos_1_6_freq 1.7572; pos_1_7_freq 1.7194; pos_1_8_freq 1.7411; pos_1_9_freq 1.7550; pos_2_0_freq 1.7938; pos_2_1_freq 1.7504; pos_2_2_freq 1.7020; pos_2_3_freq 1.6972; pos_2_4_freq 1.6452; pos_2_5_freq 1.7846; pos_2_6_freq 1.7514; pos_2_7_freq 1.7219; pos_2_8_freq 1.7375; pos_2_9_freq 1.7599; pos_3_0_freq 1.7908; pos_3_1_freq 1.7481; pos_3_2_freq 1.7050; pos_3_3_freq 1.6919; pos_3_4_freq 1.6482; pos_3_5_freq 1.7767; pos_3_6_freq 1.7592; pos_3_7_freq 1.7185; pos_3_8_freq 1.7461; pos_3_9_freq 1.7596; pos_4_0_freq 1.7963; pos_4_1_freq 1.7449; pos_4_2_freq 1.7075; pos_4_3_freq 1.6998; pos_4_4_freq 1.6427; pos_4_5_freq 1.7771; pos_4_6_freq 1.7611; pos_4_7_freq 1.7187; pos_4_8_freq 1.7434; pos_4_9_freq 1.7517; ,PrizeType 3rdPrizeNo; DrawDayofyear 13; DrawMonth 1; DrawWeek 2; DrawDay 13; DrawDayofweek 6; DaysSinceLastExactMatch -0.4877; DaysUntilNextExactMatch -0.1088; DaysSinceLastAnyMatch -0.6150; DaysUntilNextAnyMatch -0.2384; CumProbaExactMatch 0.6626; CumProbaAnyMatch 1.2072; 0_1 1.7574; 0_2 1.7781; 0_3 1.7409; 0_4 1.7643; 0_5 1.7962; 0_6 1.8173; 0_7 1.7126; 0_8 1.7826; 0_9 1.7776; 1_2 1.7846; 1_3 1.7543; 1_4 1.7668; 1_5 1.7085; 1_6 1.7314; 1_7 1.7203; 1_8 1.6986; 1_9 1.7834; 2_3 1.6632; 2_4 1.6924; 2_5 1.7638; 2_6 1.7696; 2_7 1.7343; 2_8 1.7613; 2_9 1.7727; 3_4 1.6535; 3_5 1.7366; 3_6 1.7456; 3_7 1.6570; 3_8 1.7227; 3_9 1.6950; 4_5 1.7115; 4_6 1.7523; 4_7 1.7263; 4_8 1.7006; 4_9 1.6723; 5_6 1.7847; 5_7 1.6632; 5_8 1.7909; 5_9 1.7567; 6_7 1.7296; 6_8 1.7637; 6_9 1.7296; 7_8 1.6926; 7_9 1.7293; 8_9 1.7628; 0_0 1.7385; 1_1 1.7611; 2_2 1.7136; 3_3 1.7457; 4_4 1.7130; 5_5 1.8169; 6_6 1.7162; 7_7 1.6315; 8_8 1.7059; 9_9 1.6956; pos_1_0_freq 1.7920; pos_1_1_freq 1.7516; pos_1_2_freq 1.7033; pos_1_3_freq 1.6980; pos_1_4_freq 1.6460; pos_1_5_freq 1.7803; pos_1_6_freq 1.7572; pos_1_7_freq 1.7194; pos_1_8_freq 1.7411; pos_1_9_freq 1.7550; pos_2_0_freq 1.7938; pos_2_1_freq 1.7504; pos_2_2_freq 1.7020; pos_2_3_freq 1.6972; pos_2_4_freq 1.6452; pos_2_5_freq 1.7846; pos_2_6_freq 1.7514; pos_2_7_freq 1.7219; pos_2_8_freq 1.7375; pos_2_9_freq 1.7599; pos_3_0_freq 1.7908; pos_3_1_freq 1.7481; pos_3_2_freq 1.7050; pos_3_3_freq 1.6919; pos_3_4_freq 1.6482; pos_3_5_freq 1.7767; pos_3_6_freq 1.7592; pos_3_7_freq 1.7185; pos_3_8_freq 1.7461; pos_3_9_freq 1.7596; pos_4_0_freq 1.7963; pos_4_1_freq 1.7449; pos_4_2_freq 1.7075; pos_4_3_freq 1.6998; pos_4_4_freq 1.6427; pos_4_5_freq 1.7771; pos_4_6_freq 1.7611; pos_4_7_freq 1.7187; pos_4_8_freq 1.7434; pos_4_9_freq 1.7517; ,PrizeType ConsolationNo1; DrawDayofyear 13; DrawMonth 1; DrawWeek 2; DrawDay 13; DrawDayofweek 6; DaysSinceLastExactMatch -0.6220; DaysUntilNextExactMatch 1.0308; DaysSinceLastAnyMatch -0.0745; DaysUntilNextAnyMatch -0.0984; CumProbaExactMatch -0.4467; CumProbaAnyMatch -0.5026; 0_1 1.7574; 0_2 1.7781; 0_3 1.7409; 0_4 1.7643; 0_5 1.7962; 0_6 1.8173; 0_7 1.7126; 0_8 1.7826; 0_9 1.7776; 1_2 1.7846; 1_3 1.7543; 1_4 1.7668; 1_5 1.7085; 1_6 1.7314; 1_7 1.7203; 1_8 1.6986; 1_9 1.7834; 2_3 1.6632; 2_4 1.6924; 2_5 1.7638; 2_6 1.7696; 2_7 1.7343; 2_8 1.7613; 2_9 1.7727; 3_4 1.6535; 3_5 1.7366; 3_6 1.7456; 3_7 1.6570; 3_8 1.7227; 3_9 1.6950; 4_5 1.7115; 4_6 1.7523; 4_7 1.7263; 4_8 1.7006; 4_9 1.6723; 5_6 1.7847; 5_7 1.6632; 5_8 1.7909; 5_9 1.7567; 6_7 1.7296; 6_8 1.7637; 6_9 1.7296; 7_8 1.6926; 7_9 1.7293; 8_9 1.7628; 0_0 1.7385; 1_1 1.7611; 2_2 1.7136; 3_3 1.7457; 4_4 1.7130; 5_5 1.8169; 6_6 1.7162; 7_7 1.6315; 8_8 1.7059; 9_9 1.6956; pos_1_0_freq 1.7920; pos_1_1_freq 1.7516; pos_1_2_freq 1.7033; pos_1_3_freq 1.6980; pos_1_4_freq 1.6460; pos_1_5_freq 1.7803; pos_1_6_freq 1.7572; pos_1_7_freq 1.7194; pos_1_8_freq 1.7411; pos_1_9_freq 1.7550; pos_2_0_freq 1.7938; pos_2_1_freq 1.7504; pos_2_2_freq 1.7020; pos_2_3_freq 1.6972; pos_2_4_freq 1.6452; pos_2_5_freq 1.7846; pos_2_6_freq 1.7514; pos_2_7_freq 1.7219; pos_2_8_freq 1.7375; pos_2_9_freq 1.7599; pos_3_0_freq 1.7908; pos_3_1_freq 1.7481; pos_3_2_freq 1.7050; pos_3_3_freq 1.6919; pos_3_4_freq 1.6482; pos_3_5_freq 1.7767; pos_3_6_freq 1.7592; pos_3_7_freq 1.7185; pos_3_8_freq 1.7461; pos_3_9_freq 1.7596; pos_4_0_freq 1.7963; pos_4_1_freq 1.7449; pos_4_2_freq 1.7075; pos_4_3_freq 1.6998; pos_4_4_freq 1.6427; pos_4_5_freq 1.7771; pos_4_6_freq 1.7611; pos_4_7_freq 1.7187; pos_4_8_freq 1.7434; pos_4_9_freq 1.7517; ,PrizeType ConsolationNo10; DrawDayofyear 13; DrawMonth 1; DrawWeek 2; DrawDay 13; DrawDayofweek 6; DaysSinceLastExactMatch -0.3706; DaysUntilNextExactMatch 1.4805; DaysSinceLastAnyMatch -0.6150; DaysUntilNextAnyMatch -0.2384; CumProbaExactMatch 2.5113; CumProbaAnyMatch -0.6815; 0_1 1.7574; 0_2 1.7781; 0_3 1.7409; 0_4 1.7643; 0_5 1.7962; 0_6 1.8173; 0_7 1.7126; 0_8 1.7826; 0_9 1.7776; 1_2 1.7846; 1_3 1.7543; 1_4 1.7668; 1_5 1.7085; 1_6 1.7314; 1_7 1.7203; 1_8 1.6986; 1_9 1.7834; 2_3 1.6632; 2_4 1.6924; 2_5 1.7638; 2_6 1.7696; 2_7 1.7343; 2_8 1.7613; 2_9 1.7727; 3_4 1.6535; 3_5 1.7366; 3_6 1.7456; 3_7 1.6570; 3_8 1.7227; 3_9 1.6950; 4_5 1.7115; 4_6 1.7523; 4_7 1.7263; 4_8 1.7006; 4_9 1.6723; 5_6 1.7847; 5_7 1.6632; 5_8 1.7909; 5_9 1.7567; 6_7 1.7296; 6_8 1.7637; 6_9 1.7296; 7_8 1.6926; 7_9 1.7293; 8_9 1.7628; 0_0 1.7385; 1_1 1.7611; 2_2 1.7136; 3_3 1.7457; 4_4 1.7130; 5_5 1.8169; 6_6 1.7162; 7_7 1.6315; 8_8 1.7059; 9_9 1.6956; pos_1_0_freq 1.7920; pos_1_1_freq 1.7516; pos_1_2_freq 1.7033; pos_1_3_freq 1.6980; pos_1_4_freq 1.6460; pos_1_5_freq 1.7803; pos_1_6_freq 1.7572; pos_1_7_freq 1.7194; pos_1_8_freq 1.7411; pos_1_9_freq 1.7550; pos_2_0_freq 1.7938; pos_2_1_freq 1.7504; pos_2_2_freq 1.7020; pos_2_3_freq 1.6972; pos_2_4_freq 1.6452; pos_2_5_freq 1.7846; pos_2_6_freq 1.7514; pos_2_7_freq 1.7219; pos_2_8_freq 1.7375; pos_2_9_freq 1.7599; pos_3_0_freq 1.7908; pos_3_1_freq 1.7481; pos_3_2_freq 1.7050; pos_3_3_freq 1.6919; pos_3_4_freq 1.6482; pos_3_5_freq 1.7767; pos_3_6_freq 1.7592; pos_3_7_freq 1.7185; pos_3_8_freq 1.7461; pos_3_9_freq 1.7596; pos_4_0_freq 1.7963; pos_4_1_freq 1.7449; pos_4_2_freq 1.7075; pos_4_3_freq 1.6998; pos_4_4_freq 1.6427; pos_4_5_freq 1.7771; pos_4_6_freq 1.7611; pos_4_7_freq 1.7187; pos_4_8_freq 1.7434; pos_4_9_freq 1.7517; \n",
              "y: EmptyLabelList\n",
              ",,,,\n",
              "Path: dl-projects/datasets/lotto"
            ]
          },
          "metadata": {
            "tags": []
          },
          "execution_count": 48
        }
      ]
    },
    {
      "cell_type": "markdown",
      "metadata": {
        "colab_type": "text",
        "id": "-yCl0twwJRjV"
      },
      "source": [
        "### Model"
      ]
    },
    {
      "cell_type": "code",
      "metadata": {
        "colab_type": "code",
        "id": "kQnJ0mT9JRjV",
        "outputId": "472b11e0-11df-4be0-8669-77765ed23565",
        "colab": {
          "base_uri": "https://localhost:8080/",
          "height": 85
        }
      },
      "source": [
        "print(np.max(train_df[dep_var]))\n",
        "print(np.log(np.max(train_df[dep_var])))\n",
        "max_log_y = np.log(np.max(train_df[dep_var]) * 1.0)\n",
        "y_range = torch.tensor([0, max_log_y], device=defaults.device)\n",
        "print(max_log_y, y_range)\n",
        "print(y_range.dtype)\n",
        "\n",
        "#y_range = torch.tensor([0, 9999], dtype=torch.long, device=defaults.device)\n",
        "#print(y_range)"
      ],
      "execution_count": 49,
      "outputs": [
        {
          "output_type": "stream",
          "text": [
            "9999\n",
            "9.21024036697585\n",
            "9.21024036697585 tensor([0.0000, 9.2102], device='cuda:0')\n",
            "torch.float32\n"
          ],
          "name": "stdout"
        }
      ]
    },
    {
      "cell_type": "code",
      "metadata": {
        "colab_type": "code",
        "id": "Bm-lBz87JRjW",
        "colab": {}
      },
      "source": [
        "learn = tabular_learner(data, layers=[1000,500], ps=[0.001,0.01], emb_drop=0.04, \n",
        "                        #y_range=y_range, metrics=accuracy)                        \n",
        "                        y_range=y_range, metrics=exp_rmspe)"
      ],
      "execution_count": 0,
      "outputs": []
    },
    {
      "cell_type": "code",
      "metadata": {
        "colab_type": "code",
        "id": "MQB9Eq2RJRjb",
        "colab": {}
      },
      "source": [
        "# doc(tabular_learner)"
      ],
      "execution_count": 0,
      "outputs": []
    },
    {
      "cell_type": "code",
      "metadata": {
        "colab_type": "code",
        "id": "Cmg7aOiiJRjd",
        "outputId": "3fea7ffe-94ff-43d2-f9b3-646b067765df",
        "colab": {
          "base_uri": "https://localhost:8080/",
          "height": 408
        }
      },
      "source": [
        "learn.model"
      ],
      "execution_count": 52,
      "outputs": [
        {
          "output_type": "execute_result",
          "data": {
            "text/plain": [
              "TabularModel(\n",
              "  (embeds): ModuleList(\n",
              "    (0): Embedding(24, 9)\n",
              "    (1): Embedding(366, 44)\n",
              "    (2): Embedding(13, 7)\n",
              "    (3): Embedding(54, 15)\n",
              "    (4): Embedding(32, 11)\n",
              "    (5): Embedding(5, 4)\n",
              "  )\n",
              "  (emb_drop): Dropout(p=0.04)\n",
              "  (bn_cont): BatchNorm1d(101, eps=1e-05, momentum=0.1, affine=True, track_running_stats=True)\n",
              "  (layers): Sequential(\n",
              "    (0): Linear(in_features=191, out_features=1000, bias=True)\n",
              "    (1): ReLU(inplace)\n",
              "    (2): BatchNorm1d(1000, eps=1e-05, momentum=0.1, affine=True, track_running_stats=True)\n",
              "    (3): Dropout(p=0.001)\n",
              "    (4): Linear(in_features=1000, out_features=500, bias=True)\n",
              "    (5): ReLU(inplace)\n",
              "    (6): BatchNorm1d(500, eps=1e-05, momentum=0.1, affine=True, track_running_stats=True)\n",
              "    (7): Dropout(p=0.01)\n",
              "    (8): Linear(in_features=500, out_features=1, bias=True)\n",
              "  )\n",
              ")"
            ]
          },
          "metadata": {
            "tags": []
          },
          "execution_count": 52
        }
      ]
    },
    {
      "cell_type": "code",
      "metadata": {
        "colab_type": "code",
        "id": "JaZQqsvfJRje",
        "outputId": "e069defa-1c74-41e3-a46c-ce16e97d9309",
        "colab": {
          "base_uri": "https://localhost:8080/",
          "height": 34
        }
      },
      "source": [
        "len(data.train_ds.cont_names)"
      ],
      "execution_count": 53,
      "outputs": [
        {
          "output_type": "execute_result",
          "data": {
            "text/plain": [
              "101"
            ]
          },
          "metadata": {
            "tags": []
          },
          "execution_count": 53
        }
      ]
    },
    {
      "cell_type": "code",
      "metadata": {
        "colab_type": "code",
        "id": "kyT9HU-LJRji",
        "outputId": "e0413bac-5d18-4e1d-d053-55be9bdc1b99",
        "colab": {
          "base_uri": "https://localhost:8080/",
          "height": 34
        }
      },
      "source": [
        "learn.lr_find()"
      ],
      "execution_count": 54,
      "outputs": [
        {
          "output_type": "display_data",
          "data": {
            "text/html": [
              ""
            ],
            "text/plain": [
              "<IPython.core.display.HTML object>"
            ]
          },
          "metadata": {
            "tags": []
          }
        },
        {
          "output_type": "stream",
          "text": [
            "LR Finder is complete, type {learner_name}.recorder.plot() to see the graph.\n"
          ],
          "name": "stdout"
        }
      ]
    },
    {
      "cell_type": "code",
      "metadata": {
        "colab_type": "code",
        "id": "vAyOUM7wJRjk",
        "outputId": "d5638605-bf5f-4e6e-ecbc-420fe2ba564b",
        "colab": {
          "base_uri": "https://localhost:8080/",
          "height": 290
        }
      },
      "source": [
        "learn.recorder.plot()"
      ],
      "execution_count": 55,
      "outputs": [
        {
          "output_type": "display_data",
          "data": {
            "image/png": "[encoded data removed]",
            "text/plain": [
              "<Figure size 432x288 with 1 Axes>"
            ]
          },
          "metadata": {
            "tags": []
          }
        }
      ]
    },
    {
      "cell_type": "code",
      "metadata": {
        "colab_type": "code",
        "id": "rRqmRng5JRjn",
        "outputId": "861ba2b7-0776-473d-8b4e-8f7be02511e2",
        "colab": {
          "base_uri": "https://localhost:8080/",
          "height": 111
        }
      },
      "source": [
        "learn.fit_one_cycle(2, 1e-03, wd=0.2)"
      ],
      "execution_count": 56,
      "outputs": [
        {
          "output_type": "display_data",
          "data": {
            "text/html": [
              "<table border=\"1\" class=\"dataframe\">\n",
              "  <thead>\n",
              "    <tr style=\"text-align: left;\">\n",
              "      <th>epoch</th>\n",
              "      <th>train_loss</th>\n",
              "      <th>valid_loss</th>\n",
              "      <th>exp_rmspe</th>\n",
              "      <th>time</th>\n",
              "    </tr>\n",
              "  </thead>\n",
              "  <tbody>\n",
              "    <tr>\n",
              "      <td>0</td>\n",
              "      <td>2.110122</td>\n",
              "      <td>inf</td>\n",
              "      <td>inf</td>\n",
              "      <td>00:11</td>\n",
              "    </tr>\n",
              "    <tr>\n",
              "      <td>1</td>\n",
              "      <td>0.999822</td>\n",
              "      <td>inf</td>\n",
              "      <td>inf</td>\n",
              "      <td>00:11</td>\n",
              "    </tr>\n",
              "  </tbody>\n",
              "</table>"
            ],
            "text/plain": [
              "<IPython.core.display.HTML object>"
            ]
          },
          "metadata": {
            "tags": []
          }
        }
      ]
    },
    {
      "cell_type": "code",
      "metadata": {
        "colab_type": "code",
        "id": "IDxVjdaoJRjp",
        "colab": {}
      },
      "source": [
        "learn.save('1')"
      ],
      "execution_count": 0,
      "outputs": []
    },
    {
      "cell_type": "code",
      "metadata": {
        "colab_type": "code",
        "id": "VsgKgrIDc1jv",
        "outputId": "c4f7ce99-040d-4005-e203-5f2929d0db3b",
        "colab": {
          "base_uri": "https://localhost:8080/",
          "height": 164
        }
      },
      "source": [
        "learn.recorder.plot_losses(last=-1)"
      ],
      "execution_count": 58,
      "outputs": [
        {
          "output_type": "error",
          "ename": "TypeError",
          "evalue": "ignored",
          "traceback": [
            "\u001b[0;31m---------------------------------------------------------------------------\u001b[0m",
            "\u001b[0;31mTypeError\u001b[0m                                 Traceback (most recent call last)",
            "\u001b[0;32m<ipython-input-58-0b26919095ad>\u001b[0m in \u001b[0;36m<module>\u001b[0;34m()\u001b[0m\n\u001b[0;32m----> 1\u001b[0;31m \u001b[0mlearn\u001b[0m\u001b[0;34m.\u001b[0m\u001b[0mrecorder\u001b[0m\u001b[0;34m.\u001b[0m\u001b[0mplot_losses\u001b[0m\u001b[0;34m(\u001b[0m\u001b[0mlast\u001b[0m\u001b[0;34m=\u001b[0m\u001b[0;34m-\u001b[0m\u001b[0;36m1\u001b[0m\u001b[0;34m)\u001b[0m\u001b[0;34m\u001b[0m\u001b[0;34m\u001b[0m\u001b[0m\n\u001b[0m",
            "\u001b[0;31mTypeError\u001b[0m: plot_losses() got an unexpected keyword argument 'last'"
          ]
        }
      ]
    },
    {
      "cell_type": "code",
      "metadata": {
        "colab_type": "code",
        "id": "mM2ORUowc1jw",
        "colab": {}
      },
      "source": [
        ""
      ],
      "execution_count": 0,
      "outputs": []
    }
  ]
}
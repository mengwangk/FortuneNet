{
  "nbformat": 4,
  "nbformat_minor": 0,
  "metadata": {
    "kernelspec": {
      "name": "python3",
      "display_name": "Python 3"
    },
    "language_info": {
      "codemirror_mode": {
        "name": "ipython",
        "version": 3
      },
      "file_extension": ".py",
      "mimetype": "text/x-python",
      "name": "python",
      "nbconvert_exporter": "python",
      "pygments_lexer": "ipython3",
      "version": "3.7.2"
    },
    "colab": {
      "name": "02_3_feature_generation.ipynb",
      "provenance": [],
      "toc_visible": true
    },
    "accelerator": "GPU"
  },
  "cells": [
    {
      "cell_type": "code",
      "metadata": {
        "id": "rcn3MS-1Qqit",
        "colab_type": "code",
        "outputId": "8afc0810-bea3-40b9-97d3-d5c4d5baf795",
        "colab": {
          "base_uri": "https://localhost:8080/",
          "height": 391
        }
      },
      "source": [
        "!rm -rf dl-projects\n",
        "!git clone https://github.com/mengwangk/dl-projects\n",
        "!cd dl-projects && ls "
      ],
      "execution_count": 1,
      "outputs": [
        {
          "output_type": "stream",
          "text": [
            "Cloning into 'dl-projects'...\n",
            "remote: Enumerating objects: 12, done.\u001b[K\n",
            "remote: Counting objects:   8% (1/12)\u001b[K\rremote: Counting objects:  16% (2/12)\u001b[K\rremote: Counting objects:  25% (3/12)\u001b[K\rremote: Counting objects:  33% (4/12)\u001b[K\rremote: Counting objects:  41% (5/12)\u001b[K\rremote: Counting objects:  50% (6/12)\u001b[K\rremote: Counting objects:  58% (7/12)\u001b[K\rremote: Counting objects:  66% (8/12)\u001b[K\rremote: Counting objects:  75% (9/12)\u001b[K\rremote: Counting objects:  83% (10/12)\u001b[K\rremote: Counting objects:  91% (11/12)\u001b[K\rremote: Counting objects: 100% (12/12)\u001b[K\rremote: Counting objects: 100% (12/12), done.\u001b[K\n",
            "remote: Compressing objects: 100% (12/12), done.\u001b[K\n",
            "remote: Total 423 (delta 6), reused 0 (delta 0), pack-reused 411\u001b[K\n",
            "Receiving objects: 100% (423/423), 11.31 MiB | 8.50 MiB/s, done.\n",
            "Resolving deltas: 100% (235/235), done.\n",
            "01_1_tensor.ipynb\t       07_algebra.ipynb      LICENSE\n",
            "01_2_correlation.ipynb\t       08_probability.ipynb  lstm_s1.ipynb\n",
            "01_3_preprocessing.ipynb       09_evaluation.ipynb   lstm_s2.ipynb\n",
            "01_4_numpy.ipynb\t       50_RL.ipynb\t     lstm_s3.ipynb\n",
            "01_5_parallelization.ipynb     999_Links.ipynb\t     lstm_s4.ipynb\n",
            "02_1_feature_engineer.ipynb    archive\t\t     lstm_s5.ipynb\n",
            "02_2_feature_generation.ipynb  d01_download.ipynb    lstm_s6.ipynb\n",
            "02_3_feature_generation.ipynb  d02_0_features.ipynb  notebook2script.py\n",
            "03_1_feature_selection.ipynb   d02_1_features.ipynb  README.md\n",
            "03_2_feature_selection.ipynb   d03_train_dl.ipynb    run_notebook.py\n",
            "04_0_basic_nn.ipynb\t       d04_train_ml.ipynb    scraper\n",
            "04_1_cnn.ipynb\t\t       dask-worker-space     stock.ipynb\n",
            "04_2_rnn.ipynb\t\t       datasets\t\t     utils.py\n",
            "05_calculus.ipynb\t       exp\n",
            "06_stats.ipynb\t\t       featurelib\n"
          ],
          "name": "stdout"
        }
      ]
    },
    {
      "cell_type": "code",
      "metadata": {
        "id": "Y-2caZD3Qnns",
        "colab_type": "code",
        "colab": {}
      },
      "source": [
        "# pandas and numpy for data manipulation\n",
        "import pandas as pd\n",
        "import numpy as np\n",
        "\n",
        "# Visualization\n",
        "import matplotlib.pyplot as plt\n",
        "import seaborn as sns\n",
        "\n",
        "plt.style.use('fivethirtyeight')\n",
        "%matplotlib inline\n",
        "\n",
        "# Automated feature engineering\n",
        "import featuretools as ft\n",
        "\n",
        "# Machine learning\n",
        "from sklearn.pipeline import Pipeline\n",
        "from sklearn.preprocessing import Imputer, MinMaxScaler\n",
        "from sklearn.metrics import precision_score, recall_score, f1_score, roc_auc_score, precision_recall_curve, roc_curve\n",
        "from sklearn.model_selection import train_test_split, cross_val_score\n",
        "from sklearn.ensemble import RandomForestClassifier\n",
        "\n",
        "from pathlib import Path"
      ],
      "execution_count": 0,
      "outputs": []
    },
    {
      "cell_type": "code",
      "metadata": {
        "id": "uX4MO0CWQnny",
        "colab_type": "code",
        "colab": {}
      },
      "source": [
        "# DATASET = Path(\"datasets/lotto/data_processed_2.csv\")\n",
        "\n",
        "DATASET = Path(\"dl-projects/datasets/lotto/data_processed.csv\")\n",
        "\n",
        "# The Answer to the Ultimate Question of Life, the Universe, and Everything.\n",
        "np.random.seed(42)"
      ],
      "execution_count": 0,
      "outputs": []
    },
    {
      "cell_type": "code",
      "metadata": {
        "id": "QYyDAGvaQnn0",
        "colab_type": "code",
        "colab": {}
      },
      "source": [
        "# Read into data frame\n",
        "dataset = pd.read_csv(DATASET, header=0, sep=',', quotechar='\"', parse_dates=['DrawDate'], dtype={'PrizeType': str})"
      ],
      "execution_count": 0,
      "outputs": []
    },
    {
      "cell_type": "code",
      "metadata": {
        "id": "e4cZbF10Qnn3",
        "colab_type": "code",
        "colab": {}
      },
      "source": [
        "df = dataset.copy()"
      ],
      "execution_count": 0,
      "outputs": []
    },
    {
      "cell_type": "code",
      "metadata": {
        "id": "PeqLRK6HQnn_",
        "colab_type": "code",
        "outputId": "865dd3dc-f2da-417f-9df9-124f5e61eafc",
        "colab": {
          "base_uri": "https://localhost:8080/",
          "height": 376
        }
      },
      "source": [
        "columns = ['DrawNo', 'DrawDate', 'PrizeType', 'LuckyNo']\n",
        "df = df[columns]\n",
        "print(df.shape)\n",
        "df.head(10)"
      ],
      "execution_count": 6,
      "outputs": [
        {
          "output_type": "stream",
          "text": [
            "(104673, 4)\n"
          ],
          "name": "stdout"
        },
        {
          "output_type": "execute_result",
          "data": {
            "text/html": [
              "<div>\n",
              "<style scoped>\n",
              "    .dataframe tbody tr th:only-of-type {\n",
              "        vertical-align: middle;\n",
              "    }\n",
              "\n",
              "    .dataframe tbody tr th {\n",
              "        vertical-align: top;\n",
              "    }\n",
              "\n",
              "    .dataframe thead th {\n",
              "        text-align: right;\n",
              "    }\n",
              "</style>\n",
              "<table border=\"1\" class=\"dataframe\">\n",
              "  <thead>\n",
              "    <tr style=\"text-align: right;\">\n",
              "      <th></th>\n",
              "      <th>DrawNo</th>\n",
              "      <th>DrawDate</th>\n",
              "      <th>PrizeType</th>\n",
              "      <th>LuckyNo</th>\n",
              "    </tr>\n",
              "  </thead>\n",
              "  <tbody>\n",
              "    <tr>\n",
              "      <th>0</th>\n",
              "      <td>40792</td>\n",
              "      <td>1992-05-06</td>\n",
              "      <td>1stPrizeNo</td>\n",
              "      <td>19</td>\n",
              "    </tr>\n",
              "    <tr>\n",
              "      <th>1</th>\n",
              "      <td>40792</td>\n",
              "      <td>1992-05-06</td>\n",
              "      <td>2ndPrizeNo</td>\n",
              "      <td>1124</td>\n",
              "    </tr>\n",
              "    <tr>\n",
              "      <th>2</th>\n",
              "      <td>40792</td>\n",
              "      <td>1992-05-06</td>\n",
              "      <td>3rdPrizeNo</td>\n",
              "      <td>592</td>\n",
              "    </tr>\n",
              "    <tr>\n",
              "      <th>3</th>\n",
              "      <td>40792</td>\n",
              "      <td>1992-05-06</td>\n",
              "      <td>ConsolationNo1</td>\n",
              "      <td>5311</td>\n",
              "    </tr>\n",
              "    <tr>\n",
              "      <th>4</th>\n",
              "      <td>40792</td>\n",
              "      <td>1992-05-06</td>\n",
              "      <td>ConsolationNo10</td>\n",
              "      <td>407</td>\n",
              "    </tr>\n",
              "    <tr>\n",
              "      <th>5</th>\n",
              "      <td>40792</td>\n",
              "      <td>1992-05-06</td>\n",
              "      <td>ConsolationNo2</td>\n",
              "      <td>1949</td>\n",
              "    </tr>\n",
              "    <tr>\n",
              "      <th>6</th>\n",
              "      <td>40792</td>\n",
              "      <td>1992-05-06</td>\n",
              "      <td>ConsolationNo3</td>\n",
              "      <td>1606</td>\n",
              "    </tr>\n",
              "    <tr>\n",
              "      <th>7</th>\n",
              "      <td>40792</td>\n",
              "      <td>1992-05-06</td>\n",
              "      <td>ConsolationNo4</td>\n",
              "      <td>3775</td>\n",
              "    </tr>\n",
              "    <tr>\n",
              "      <th>8</th>\n",
              "      <td>40792</td>\n",
              "      <td>1992-05-06</td>\n",
              "      <td>ConsolationNo5</td>\n",
              "      <td>6226</td>\n",
              "    </tr>\n",
              "    <tr>\n",
              "      <th>9</th>\n",
              "      <td>40792</td>\n",
              "      <td>1992-05-06</td>\n",
              "      <td>ConsolationNo6</td>\n",
              "      <td>1271</td>\n",
              "    </tr>\n",
              "  </tbody>\n",
              "</table>\n",
              "</div>"
            ],
            "text/plain": [
              "   DrawNo   DrawDate        PrizeType  LuckyNo\n",
              "0   40792 1992-05-06       1stPrizeNo       19\n",
              "1   40792 1992-05-06       2ndPrizeNo     1124\n",
              "2   40792 1992-05-06       3rdPrizeNo      592\n",
              "3   40792 1992-05-06   ConsolationNo1     5311\n",
              "4   40792 1992-05-06  ConsolationNo10      407\n",
              "5   40792 1992-05-06   ConsolationNo2     1949\n",
              "6   40792 1992-05-06   ConsolationNo3     1606\n",
              "7   40792 1992-05-06   ConsolationNo4     3775\n",
              "8   40792 1992-05-06   ConsolationNo5     6226\n",
              "9   40792 1992-05-06   ConsolationNo6     1271"
            ]
          },
          "metadata": {
            "tags": []
          },
          "execution_count": 6
        }
      ]
    },
    {
      "cell_type": "code",
      "metadata": {
        "id": "hKDROfYKQnoB",
        "colab_type": "code",
        "colab": {}
      },
      "source": [
        "#df['LuckyNo'].value_counts().plot.bar(figsize=(6,5))"
      ],
      "execution_count": 0,
      "outputs": []
    },
    {
      "cell_type": "code",
      "metadata": {
        "id": "LqT_9licQnoF",
        "colab_type": "code",
        "colab": {}
      },
      "source": [
        "# df.groupby(['LuckyNo']).max().head(10)"
      ],
      "execution_count": 0,
      "outputs": []
    },
    {
      "cell_type": "code",
      "metadata": {
        "id": "FjnFRPDsQnoM",
        "colab_type": "code",
        "colab": {}
      },
      "source": [
        "# df.groupby(['LuckyNo']).count().tail(10)"
      ],
      "execution_count": 0,
      "outputs": []
    },
    {
      "cell_type": "code",
      "metadata": {
        "id": "RIiTmg10UCVa",
        "colab_type": "code",
        "colab": {}
      },
      "source": [
        "df.rename(columns={\"DrawNo\": \"draw_no\", \"DrawDate\": \"draw_date\", \"PrizeType\": \"prize_type\", \"LuckyNo\": \"lucky_no\" }, inplace=True)"
      ],
      "execution_count": 0,
      "outputs": []
    },
    {
      "cell_type": "code",
      "metadata": {
        "id": "pPQsQWIQUcaK",
        "colab_type": "code",
        "outputId": "439908d0-1544-4f88-9f93-905bc5bd3320",
        "colab": {
          "base_uri": "https://localhost:8080/",
          "height": 187
        }
      },
      "source": [
        "df.info()"
      ],
      "execution_count": 14,
      "outputs": [
        {
          "output_type": "stream",
          "text": [
            "<class 'pandas.core.frame.DataFrame'>\n",
            "RangeIndex: 104673 entries, 0 to 104672\n",
            "Data columns (total 5 columns):\n",
            "draw_no       104673 non-null int64\n",
            "draw_date     104673 non-null datetime64[ns]\n",
            "prize_type    104673 non-null object\n",
            "lucky_no      104673 non-null int64\n",
            "number_id     104673 non-null int64\n",
            "dtypes: datetime64[ns](1), int64(3), object(1)\n",
            "memory usage: 4.0+ MB\n"
          ],
          "name": "stdout"
        }
      ]
    },
    {
      "cell_type": "code",
      "metadata": {
        "id": "M0Z9x8zgQnoQ",
        "colab_type": "code",
        "colab": {}
      },
      "source": [
        "df['number_id'] = df.groupby(['lucky_no']).ngroup()"
      ],
      "execution_count": 0,
      "outputs": []
    },
    {
      "cell_type": "code",
      "metadata": {
        "id": "PoaBVXBHQnoT",
        "colab_type": "code",
        "outputId": "7ab98b27-24ea-4aa8-bfd9-ae88c7c87247",
        "colab": {
          "base_uri": "https://localhost:8080/",
          "height": 452
        }
      },
      "source": [
        "df.loc[lambda df: df['number_id'] == 0000]"
      ],
      "execution_count": 16,
      "outputs": [
        {
          "output_type": "execute_result",
          "data": {
            "text/html": [
              "<div>\n",
              "<style scoped>\n",
              "    .dataframe tbody tr th:only-of-type {\n",
              "        vertical-align: middle;\n",
              "    }\n",
              "\n",
              "    .dataframe tbody tr th {\n",
              "        vertical-align: top;\n",
              "    }\n",
              "\n",
              "    .dataframe thead th {\n",
              "        text-align: right;\n",
              "    }\n",
              "</style>\n",
              "<table border=\"1\" class=\"dataframe\">\n",
              "  <thead>\n",
              "    <tr style=\"text-align: right;\">\n",
              "      <th></th>\n",
              "      <th>draw_no</th>\n",
              "      <th>draw_date</th>\n",
              "      <th>prize_type</th>\n",
              "      <th>lucky_no</th>\n",
              "      <th>number_id</th>\n",
              "    </tr>\n",
              "  </thead>\n",
              "  <tbody>\n",
              "    <tr>\n",
              "      <th>11686</th>\n",
              "      <td>91595</td>\n",
              "      <td>1995-08-02</td>\n",
              "      <td>3rdPrizeNo</td>\n",
              "      <td>0</td>\n",
              "      <td>0</td>\n",
              "    </tr>\n",
              "    <tr>\n",
              "      <th>21541</th>\n",
              "      <td>134398</td>\n",
              "      <td>1998-04-26</td>\n",
              "      <td>SpecialNo1</td>\n",
              "      <td>0</td>\n",
              "      <td>0</td>\n",
              "    </tr>\n",
              "    <tr>\n",
              "      <th>23100</th>\n",
              "      <td>141198</td>\n",
              "      <td>1998-10-01</td>\n",
              "      <td>ConsolationNo5</td>\n",
              "      <td>0</td>\n",
              "      <td>0</td>\n",
              "    </tr>\n",
              "    <tr>\n",
              "      <th>30430</th>\n",
              "      <td>173000</td>\n",
              "      <td>2000-09-09</td>\n",
              "      <td>2ndPrizeNo</td>\n",
              "      <td>0</td>\n",
              "      <td>0</td>\n",
              "    </tr>\n",
              "    <tr>\n",
              "      <th>48346</th>\n",
              "      <td>251005</td>\n",
              "      <td>2005-06-04</td>\n",
              "      <td>1stPrizeNo</td>\n",
              "      <td>0</td>\n",
              "      <td>0</td>\n",
              "    </tr>\n",
              "    <tr>\n",
              "      <th>56190</th>\n",
              "      <td>285107</td>\n",
              "      <td>2007-06-06</td>\n",
              "      <td>2ndPrizeNo</td>\n",
              "      <td>0</td>\n",
              "      <td>0</td>\n",
              "    </tr>\n",
              "    <tr>\n",
              "      <th>79783</th>\n",
              "      <td>387613</td>\n",
              "      <td>2013-05-04</td>\n",
              "      <td>SpecialNo6</td>\n",
              "      <td>0</td>\n",
              "      <td>0</td>\n",
              "    </tr>\n",
              "    <tr>\n",
              "      <th>81258</th>\n",
              "      <td>394013</td>\n",
              "      <td>2013-09-14</td>\n",
              "      <td>SpecialNo9</td>\n",
              "      <td>0</td>\n",
              "      <td>0</td>\n",
              "    </tr>\n",
              "    <tr>\n",
              "      <th>82908</th>\n",
              "      <td>401214</td>\n",
              "      <td>2014-02-08</td>\n",
              "      <td>SpecialNo3</td>\n",
              "      <td>0</td>\n",
              "      <td>0</td>\n",
              "    </tr>\n",
              "    <tr>\n",
              "      <th>85712</th>\n",
              "      <td>413414</td>\n",
              "      <td>2014-10-18</td>\n",
              "      <td>SpecialNo10</td>\n",
              "      <td>0</td>\n",
              "      <td>0</td>\n",
              "    </tr>\n",
              "    <tr>\n",
              "      <th>85748</th>\n",
              "      <td>413614</td>\n",
              "      <td>2014-10-22</td>\n",
              "      <td>ConsolationNo10</td>\n",
              "      <td>0</td>\n",
              "      <td>0</td>\n",
              "    </tr>\n",
              "    <tr>\n",
              "      <th>85901</th>\n",
              "      <td>414214</td>\n",
              "      <td>2014-11-02</td>\n",
              "      <td>SpecialNo6</td>\n",
              "      <td>0</td>\n",
              "      <td>0</td>\n",
              "    </tr>\n",
              "    <tr>\n",
              "      <th>86157</th>\n",
              "      <td>415314</td>\n",
              "      <td>2014-11-25</td>\n",
              "      <td>SpecialNo9</td>\n",
              "      <td>0</td>\n",
              "      <td>0</td>\n",
              "    </tr>\n",
              "  </tbody>\n",
              "</table>\n",
              "</div>"
            ],
            "text/plain": [
              "       draw_no  draw_date       prize_type  lucky_no  number_id\n",
              "11686    91595 1995-08-02       3rdPrizeNo         0          0\n",
              "21541   134398 1998-04-26       SpecialNo1         0          0\n",
              "23100   141198 1998-10-01   ConsolationNo5         0          0\n",
              "30430   173000 2000-09-09       2ndPrizeNo         0          0\n",
              "48346   251005 2005-06-04       1stPrizeNo         0          0\n",
              "56190   285107 2007-06-06       2ndPrizeNo         0          0\n",
              "79783   387613 2013-05-04       SpecialNo6         0          0\n",
              "81258   394013 2013-09-14       SpecialNo9         0          0\n",
              "82908   401214 2014-02-08       SpecialNo3         0          0\n",
              "85712   413414 2014-10-18      SpecialNo10         0          0\n",
              "85748   413614 2014-10-22  ConsolationNo10         0          0\n",
              "85901   414214 2014-11-02       SpecialNo6         0          0\n",
              "86157   415314 2014-11-25       SpecialNo9         0          0"
            ]
          },
          "metadata": {
            "tags": []
          },
          "execution_count": 16
        }
      ]
    },
    {
      "cell_type": "code",
      "metadata": {
        "id": "nF4T4FbFQnoV",
        "colab_type": "code",
        "outputId": "9d867b21-5f79-4aac-93d0-7b4edd900db1",
        "colab": {
          "base_uri": "https://localhost:8080/",
          "height": 142
        }
      },
      "source": [
        "df = df[[\"number_id\", \"draw_no\", \"draw_date\", \"prize_type\", \"lucky_no\"]]\n",
        "df.head(3)"
      ],
      "execution_count": 18,
      "outputs": [
        {
          "output_type": "execute_result",
          "data": {
            "text/html": [
              "<div>\n",
              "<style scoped>\n",
              "    .dataframe tbody tr th:only-of-type {\n",
              "        vertical-align: middle;\n",
              "    }\n",
              "\n",
              "    .dataframe tbody tr th {\n",
              "        vertical-align: top;\n",
              "    }\n",
              "\n",
              "    .dataframe thead th {\n",
              "        text-align: right;\n",
              "    }\n",
              "</style>\n",
              "<table border=\"1\" class=\"dataframe\">\n",
              "  <thead>\n",
              "    <tr style=\"text-align: right;\">\n",
              "      <th></th>\n",
              "      <th>number_id</th>\n",
              "      <th>draw_no</th>\n",
              "      <th>draw_date</th>\n",
              "      <th>prize_type</th>\n",
              "      <th>lucky_no</th>\n",
              "    </tr>\n",
              "  </thead>\n",
              "  <tbody>\n",
              "    <tr>\n",
              "      <th>0</th>\n",
              "      <td>19</td>\n",
              "      <td>40792</td>\n",
              "      <td>1992-05-06</td>\n",
              "      <td>1stPrizeNo</td>\n",
              "      <td>19</td>\n",
              "    </tr>\n",
              "    <tr>\n",
              "      <th>1</th>\n",
              "      <td>1124</td>\n",
              "      <td>40792</td>\n",
              "      <td>1992-05-06</td>\n",
              "      <td>2ndPrizeNo</td>\n",
              "      <td>1124</td>\n",
              "    </tr>\n",
              "    <tr>\n",
              "      <th>2</th>\n",
              "      <td>592</td>\n",
              "      <td>40792</td>\n",
              "      <td>1992-05-06</td>\n",
              "      <td>3rdPrizeNo</td>\n",
              "      <td>592</td>\n",
              "    </tr>\n",
              "  </tbody>\n",
              "</table>\n",
              "</div>"
            ],
            "text/plain": [
              "   number_id  draw_no  draw_date  prize_type  lucky_no\n",
              "0         19    40792 1992-05-06  1stPrizeNo        19\n",
              "1       1124    40792 1992-05-06  2ndPrizeNo      1124\n",
              "2        592    40792 1992-05-06  3rdPrizeNo       592"
            ]
          },
          "metadata": {
            "tags": []
          },
          "execution_count": 18
        }
      ]
    },
    {
      "cell_type": "markdown",
      "metadata": {
        "id": "jnYAzEezXMVz",
        "colab_type": "text"
      },
      "source": [
        "## Making Labels"
      ]
    },
    {
      "cell_type": "code",
      "metadata": {
        "id": "XkXd7ypeXROT",
        "colab_type": "code",
        "colab": {}
      },
      "source": [
        "def make_cutoffs(draw_date):\n",
        "  all_numbers = df[df['draw_date'] <= draw_date]['number_id'].unique()\n",
        "  matched_numbers = df[df['draw_date'] == draw_date]['number_id'].unique()\n",
        "  df_all = pd.DataFrame({'number_id': all_numbers, 'lucky_no': all_numbers})\n",
        "  df_all['label'] = (df_all['number_id'].isin(matched_numbers)).astype(int)\n",
        "  \n",
        "  # The cutoff time is the draw_date\n",
        "  df_all['cutoff_time'] = pd.to_datetime(draw_date)\n",
        "  df_all = df_all[['number_id', 'cutoff_time', 'lucky_no', 'label']]\n",
        "  return df_all     "
      ],
      "execution_count": 0,
      "outputs": []
    },
    {
      "cell_type": "code",
      "metadata": {
        "id": "reB2wOPjzJ9x",
        "colab_type": "code",
        "outputId": "c99154ca-808a-4c64-924f-2ce571c018d2",
        "colab": {
          "base_uri": "https://localhost:8080/",
          "height": 578
        }
      },
      "source": [
        "  df_draw = make_cutoffs(pd.datetime(1993, 1, 3))\n",
        "  plt.figure(figsize=(8,8))\n",
        "  df_draw['label'].value_counts().plot.bar();\n",
        "  plt.title('Label distribution')\n",
        "  df_draw.loc[df_draw['label'] ==1].count()"
      ],
      "execution_count": 20,
      "outputs": [
        {
          "output_type": "execute_result",
          "data": {
            "text/plain": [
              "number_id      23\n",
              "cutoff_time    23\n",
              "lucky_no       23\n",
              "label          23\n",
              "dtype: int64"
            ]
          },
          "metadata": {
            "tags": []
          },
          "execution_count": 20
        },
        {
          "output_type": "display_data",
          "data": {
            "image/png": "[encoded data removed]",
            "text/plain": [
              "<Figure size 576x576 with 1 Axes>"
            ]
          },
          "metadata": {
            "tags": []
          }
        }
      ]
    },
    {
      "cell_type": "code",
      "metadata": {
        "id": "XUSEYsrf8MCo",
        "colab_type": "code",
        "colab": {
          "base_uri": "https://localhost:8080/",
          "height": 34
        },
        "outputId": "c0d7821f-9bfb-4e77-c410-f8d883538607"
      },
      "source": [
        "df.loc[df['draw_date'].dt.year <= 2014]['lucky_no'].nunique()"
      ],
      "execution_count": 34,
      "outputs": [
        {
          "output_type": "execute_result",
          "data": {
            "text/plain": [
              "9999"
            ]
          },
          "metadata": {
            "tags": []
          },
          "execution_count": 34
        }
      ]
    },
    {
      "cell_type": "code",
      "metadata": {
        "id": "nBVSNnSQXRZB",
        "colab_type": "code",
        "colab": {}
      },
      "source": [
        "# Start year to generate the labels\n",
        "START_YEAR = 2014\n",
        "\n",
        "labels = pd.DataFrame()\n",
        "for dt in df.loc[df['draw_date'].dt.year >= START_YEAR]['draw_date'].unique():\n",
        "  df_draw = make_cutoffs(dt)\n",
        "  if labels.empty:\n",
        "    labels = df_draw\n",
        "  else:\n",
        "    labels = pd.concat([labels, df_draw], axis=0)"
      ],
      "execution_count": 0,
      "outputs": []
    },
    {
      "cell_type": "code",
      "metadata": {
        "id": "CharGC7ozJTR",
        "colab_type": "code",
        "outputId": "dd090ebf-35c0-440b-a60f-c549e3f77329",
        "colab": {
          "base_uri": "https://localhost:8080/",
          "height": 34
        }
      },
      "source": [
        "print(labels.shape, len(labels.loc[labels['label'] == 1]))"
      ],
      "execution_count": 38,
      "outputs": [
        {
          "output_type": "stream",
          "text": [
            "(9659594, 4) 22192\n"
          ],
          "name": "stdout"
        }
      ]
    },
    {
      "cell_type": "code",
      "metadata": {
        "id": "mSr0bzrDzI0J",
        "colab_type": "code",
        "colab": {}
      },
      "source": [
        "labels.to_csv('labels.csv')"
      ],
      "execution_count": 0,
      "outputs": []
    },
    {
      "cell_type": "code",
      "metadata": {
        "id": "9Ye-3RgOXRkM",
        "colab_type": "code",
        "colab": {
          "base_uri": "https://localhost:8080/",
          "height": 442
        },
        "outputId": "e46c9166-b9ad-4ae9-be94-295581910c3c"
      },
      "source": [
        "# !gzip labels.tar\n",
        "\n",
        "from google.colab import files\n",
        "files.download('labels.tar.gz')"
      ],
      "execution_count": 50,
      "outputs": [
        {
          "output_type": "stream",
          "text": [
            "----------------------------------------\n",
            "Exception happened during processing of request from ('::ffff:127.0.0.1', 39026, 0, 0)\n",
            "Traceback (most recent call last):\n",
            "  File \"/usr/lib/python3.6/socketserver.py\", line 320, in _handle_request_noblock\n",
            "    self.process_request(request, client_address)\n",
            "  File \"/usr/lib/python3.6/socketserver.py\", line 351, in process_request\n",
            "    self.finish_request(request, client_address)\n",
            "  File \"/usr/lib/python3.6/socketserver.py\", line 364, in finish_request\n",
            "    self.RequestHandlerClass(request, client_address, self)\n",
            "  File \"/usr/lib/python3.6/socketserver.py\", line 724, in __init__\n",
            "    self.handle()\n",
            "  File \"/usr/lib/python3.6/http/server.py\", line 418, in handle\n",
            "    self.handle_one_request()\n",
            "  File \"/usr/lib/python3.6/http/server.py\", line 406, in handle_one_request\n",
            "    method()\n",
            "  File \"/usr/lib/python3.6/http/server.py\", line 639, in do_GET\n",
            "    self.copyfile(f, self.wfile)\n",
            "  File \"/usr/lib/python3.6/http/server.py\", line 800, in copyfile\n",
            "    shutil.copyfileobj(source, outputfile)\n",
            "  File \"/usr/lib/python3.6/shutil.py\", line 82, in copyfileobj\n",
            "    fdst.write(buf)\n",
            "  File \"/usr/lib/python3.6/socketserver.py\", line 803, in write\n",
            "    self._sock.sendall(b)\n",
            "ConnectionResetError: [Errno 104] Connection reset by peer\n",
            "----------------------------------------\n"
          ],
          "name": "stderr"
        }
      ]
    },
    {
      "cell_type": "markdown",
      "metadata": {
        "id": "Hs6PX8_oQnoX",
        "colab_type": "text"
      },
      "source": [
        "## Skewness of data"
      ]
    },
    {
      "cell_type": "code",
      "metadata": {
        "id": "hZHHa3B5QnoY",
        "colab_type": "code",
        "colab": {}
      },
      "source": [
        "#  https://github.com/mengwangk/Automated-Manual-Comparison/blob/master/Retail%20Spending/notebooks/Automated%20Retail%20Spending.ipynb"
      ],
      "execution_count": 0,
      "outputs": []
    },
    {
      "cell_type": "code",
      "metadata": {
        "id": "JkxnOoWqQnoa",
        "colab_type": "code",
        "colab": {}
      },
      "source": [
        "def ecdf(data):\n",
        "    \"\"\"\n",
        "    Empirical cumulative distribution function (ECDF) plot\n",
        "    \"\"\"\n",
        "    x = np.sort(data)\n",
        "    y = np.arange(1, len(x) + 1) / len(x)\n",
        "    return x, y"
      ],
      "execution_count": 0,
      "outputs": []
    },
    {
      "cell_type": "code",
      "metadata": {
        "id": "hhZxr5x0Qnod",
        "colab_type": "code",
        "colab": {}
      },
      "source": [
        "# d = df['LuckyNo'].astype(str)"
      ],
      "execution_count": 0,
      "outputs": []
    },
    {
      "cell_type": "code",
      "metadata": {
        "id": "E-cTsfHxQnof",
        "colab_type": "code",
        "colab": {}
      },
      "source": [
        "# x, y = ecdf(d)\n",
        "# plt.plot(x, y, marker = '.')\n",
        "# plt.xlabel('Lucky No'); plt.ylabel('Percentile'); plt.title('ECDF of Lucky No');"
      ],
      "execution_count": 0,
      "outputs": []
    },
    {
      "cell_type": "markdown",
      "metadata": {
        "id": "emOJwpx_Qnoi",
        "colab_type": "text"
      },
      "source": [
        "### Generate new features"
      ]
    },
    {
      "cell_type": "code",
      "metadata": {
        "id": "5LClHTifQnoi",
        "colab_type": "code",
        "colab": {}
      },
      "source": [
        "df = df.reset_index()"
      ],
      "execution_count": 0,
      "outputs": []
    },
    {
      "cell_type": "code",
      "metadata": {
        "id": "YV7jk8ZDQnol",
        "colab_type": "code",
        "outputId": "ac58b3dc-cc44-4c73-a1f1-0180453ae144",
        "colab": {}
      },
      "source": [
        "df.rename(columns={\"index\": \"instance_id\"}, inplace=True)\n",
        "df.head(10)"
      ],
      "execution_count": 0,
      "outputs": [
        {
          "output_type": "execute_result",
          "data": {
            "text/html": [
              "<div>\n",
              "<style scoped>\n",
              "    .dataframe tbody tr th:only-of-type {\n",
              "        vertical-align: middle;\n",
              "    }\n",
              "\n",
              "    .dataframe tbody tr th {\n",
              "        vertical-align: top;\n",
              "    }\n",
              "\n",
              "    .dataframe thead th {\n",
              "        text-align: right;\n",
              "    }\n",
              "</style>\n",
              "<table border=\"1\" class=\"dataframe\">\n",
              "  <thead>\n",
              "    <tr style=\"text-align: right;\">\n",
              "      <th></th>\n",
              "      <th>instance_id</th>\n",
              "      <th>DrawNo</th>\n",
              "      <th>DrawDate</th>\n",
              "      <th>PrizeType</th>\n",
              "      <th>LuckyNo</th>\n",
              "      <th>result_id</th>\n",
              "    </tr>\n",
              "  </thead>\n",
              "  <tbody>\n",
              "    <tr>\n",
              "      <th>0</th>\n",
              "      <td>0</td>\n",
              "      <td>40792</td>\n",
              "      <td>1992-05-06</td>\n",
              "      <td>1stPrizeNo</td>\n",
              "      <td>19</td>\n",
              "      <td>19</td>\n",
              "    </tr>\n",
              "    <tr>\n",
              "      <th>1</th>\n",
              "      <td>1</td>\n",
              "      <td>40792</td>\n",
              "      <td>1992-05-06</td>\n",
              "      <td>2ndPrizeNo</td>\n",
              "      <td>1124</td>\n",
              "      <td>1124</td>\n",
              "    </tr>\n",
              "    <tr>\n",
              "      <th>2</th>\n",
              "      <td>2</td>\n",
              "      <td>40792</td>\n",
              "      <td>1992-05-06</td>\n",
              "      <td>3rdPrizeNo</td>\n",
              "      <td>592</td>\n",
              "      <td>592</td>\n",
              "    </tr>\n",
              "    <tr>\n",
              "      <th>3</th>\n",
              "      <td>3</td>\n",
              "      <td>40792</td>\n",
              "      <td>1992-05-06</td>\n",
              "      <td>ConsolationNo1</td>\n",
              "      <td>5311</td>\n",
              "      <td>5311</td>\n",
              "    </tr>\n",
              "    <tr>\n",
              "      <th>4</th>\n",
              "      <td>4</td>\n",
              "      <td>40792</td>\n",
              "      <td>1992-05-06</td>\n",
              "      <td>ConsolationNo10</td>\n",
              "      <td>407</td>\n",
              "      <td>407</td>\n",
              "    </tr>\n",
              "    <tr>\n",
              "      <th>5</th>\n",
              "      <td>5</td>\n",
              "      <td>40792</td>\n",
              "      <td>1992-05-06</td>\n",
              "      <td>ConsolationNo2</td>\n",
              "      <td>1949</td>\n",
              "      <td>1949</td>\n",
              "    </tr>\n",
              "    <tr>\n",
              "      <th>6</th>\n",
              "      <td>6</td>\n",
              "      <td>40792</td>\n",
              "      <td>1992-05-06</td>\n",
              "      <td>ConsolationNo3</td>\n",
              "      <td>1606</td>\n",
              "      <td>1606</td>\n",
              "    </tr>\n",
              "    <tr>\n",
              "      <th>7</th>\n",
              "      <td>7</td>\n",
              "      <td>40792</td>\n",
              "      <td>1992-05-06</td>\n",
              "      <td>ConsolationNo4</td>\n",
              "      <td>3775</td>\n",
              "      <td>3775</td>\n",
              "    </tr>\n",
              "    <tr>\n",
              "      <th>8</th>\n",
              "      <td>8</td>\n",
              "      <td>40792</td>\n",
              "      <td>1992-05-06</td>\n",
              "      <td>ConsolationNo5</td>\n",
              "      <td>6226</td>\n",
              "      <td>6226</td>\n",
              "    </tr>\n",
              "    <tr>\n",
              "      <th>9</th>\n",
              "      <td>9</td>\n",
              "      <td>40792</td>\n",
              "      <td>1992-05-06</td>\n",
              "      <td>ConsolationNo6</td>\n",
              "      <td>1271</td>\n",
              "      <td>1271</td>\n",
              "    </tr>\n",
              "  </tbody>\n",
              "</table>\n",
              "</div>"
            ],
            "text/plain": [
              "   instance_id  DrawNo   DrawDate        PrizeType  LuckyNo  result_id\n",
              "0            0   40792 1992-05-06       1stPrizeNo       19         19\n",
              "1            1   40792 1992-05-06       2ndPrizeNo     1124       1124\n",
              "2            2   40792 1992-05-06       3rdPrizeNo      592        592\n",
              "3            3   40792 1992-05-06   ConsolationNo1     5311       5311\n",
              "4            4   40792 1992-05-06  ConsolationNo10      407        407\n",
              "5            5   40792 1992-05-06   ConsolationNo2     1949       1949\n",
              "6            6   40792 1992-05-06   ConsolationNo3     1606       1606\n",
              "7            7   40792 1992-05-06   ConsolationNo4     3775       3775\n",
              "8            8   40792 1992-05-06   ConsolationNo5     6226       6226\n",
              "9            9   40792 1992-05-06   ConsolationNo6     1271       1271"
            ]
          },
          "metadata": {
            "tags": []
          },
          "execution_count": 18
        }
      ]
    },
    {
      "cell_type": "markdown",
      "metadata": {
        "id": "nFdhbIhRQnon",
        "colab_type": "text"
      },
      "source": [
        "#### Cut off time"
      ]
    },
    {
      "cell_type": "code",
      "metadata": {
        "id": "z0dqQQ4UQnoo",
        "colab_type": "code",
        "outputId": "f8bad55a-8434-413d-8c47-86c82de52045",
        "colab": {}
      },
      "source": [
        "labels = df[[\"instance_id\", \"DrawDate\"]].groupby([\"instance_id\", \"DrawDate\"]).min().reset_index()\n",
        "labels.rename(columns = {\"DrawDate\":\"cutoff_time\"}, inplace=True)"
      ],
      "execution_count": 0,
      "outputs": [
        {
          "output_type": "stream",
          "text": [
            "/Users/mengwangk/anaconda3/lib/python3.7/site-packages/pandas/core/groupby/groupby.py:4315: FutureWarning: arrays to stack must be passed as a \"sequence\" type such as list or tuple. Support for non-sequence iterables such as generators is deprecated as of NumPy 1.16 and will raise an error in the future.\n",
            "  stacked_values = np.vstack(map(np.asarray, values))\n"
          ],
          "name": "stderr"
        }
      ]
    },
    {
      "cell_type": "code",
      "metadata": {
        "id": "xtFG1DZCQnos",
        "colab_type": "code",
        "outputId": "c39530d0-0fc0-4aa3-b960-a754dd0ea7b4",
        "colab": {}
      },
      "source": [
        "labels.head(30)"
      ],
      "execution_count": 0,
      "outputs": [
        {
          "output_type": "execute_result",
          "data": {
            "text/html": [
              "<div>\n",
              "<style scoped>\n",
              "    .dataframe tbody tr th:only-of-type {\n",
              "        vertical-align: middle;\n",
              "    }\n",
              "\n",
              "    .dataframe tbody tr th {\n",
              "        vertical-align: top;\n",
              "    }\n",
              "\n",
              "    .dataframe thead th {\n",
              "        text-align: right;\n",
              "    }\n",
              "</style>\n",
              "<table border=\"1\" class=\"dataframe\">\n",
              "  <thead>\n",
              "    <tr style=\"text-align: right;\">\n",
              "      <th></th>\n",
              "      <th>instance_id</th>\n",
              "      <th>cutoff_time</th>\n",
              "    </tr>\n",
              "  </thead>\n",
              "  <tbody>\n",
              "    <tr>\n",
              "      <th>0</th>\n",
              "      <td>0</td>\n",
              "      <td>1992-05-06</td>\n",
              "    </tr>\n",
              "    <tr>\n",
              "      <th>1</th>\n",
              "      <td>1</td>\n",
              "      <td>1992-05-06</td>\n",
              "    </tr>\n",
              "    <tr>\n",
              "      <th>2</th>\n",
              "      <td>2</td>\n",
              "      <td>1992-05-06</td>\n",
              "    </tr>\n",
              "    <tr>\n",
              "      <th>3</th>\n",
              "      <td>3</td>\n",
              "      <td>1992-05-06</td>\n",
              "    </tr>\n",
              "    <tr>\n",
              "      <th>4</th>\n",
              "      <td>4</td>\n",
              "      <td>1992-05-06</td>\n",
              "    </tr>\n",
              "    <tr>\n",
              "      <th>5</th>\n",
              "      <td>5</td>\n",
              "      <td>1992-05-06</td>\n",
              "    </tr>\n",
              "    <tr>\n",
              "      <th>6</th>\n",
              "      <td>6</td>\n",
              "      <td>1992-05-06</td>\n",
              "    </tr>\n",
              "    <tr>\n",
              "      <th>7</th>\n",
              "      <td>7</td>\n",
              "      <td>1992-05-06</td>\n",
              "    </tr>\n",
              "    <tr>\n",
              "      <th>8</th>\n",
              "      <td>8</td>\n",
              "      <td>1992-05-06</td>\n",
              "    </tr>\n",
              "    <tr>\n",
              "      <th>9</th>\n",
              "      <td>9</td>\n",
              "      <td>1992-05-06</td>\n",
              "    </tr>\n",
              "    <tr>\n",
              "      <th>10</th>\n",
              "      <td>10</td>\n",
              "      <td>1992-05-06</td>\n",
              "    </tr>\n",
              "    <tr>\n",
              "      <th>11</th>\n",
              "      <td>11</td>\n",
              "      <td>1992-05-06</td>\n",
              "    </tr>\n",
              "    <tr>\n",
              "      <th>12</th>\n",
              "      <td>12</td>\n",
              "      <td>1992-05-06</td>\n",
              "    </tr>\n",
              "    <tr>\n",
              "      <th>13</th>\n",
              "      <td>13</td>\n",
              "      <td>1992-05-06</td>\n",
              "    </tr>\n",
              "    <tr>\n",
              "      <th>14</th>\n",
              "      <td>14</td>\n",
              "      <td>1992-05-06</td>\n",
              "    </tr>\n",
              "    <tr>\n",
              "      <th>15</th>\n",
              "      <td>15</td>\n",
              "      <td>1992-05-06</td>\n",
              "    </tr>\n",
              "    <tr>\n",
              "      <th>16</th>\n",
              "      <td>16</td>\n",
              "      <td>1992-05-06</td>\n",
              "    </tr>\n",
              "    <tr>\n",
              "      <th>17</th>\n",
              "      <td>17</td>\n",
              "      <td>1992-05-06</td>\n",
              "    </tr>\n",
              "    <tr>\n",
              "      <th>18</th>\n",
              "      <td>18</td>\n",
              "      <td>1992-05-06</td>\n",
              "    </tr>\n",
              "    <tr>\n",
              "      <th>19</th>\n",
              "      <td>19</td>\n",
              "      <td>1992-05-06</td>\n",
              "    </tr>\n",
              "    <tr>\n",
              "      <th>20</th>\n",
              "      <td>20</td>\n",
              "      <td>1992-05-06</td>\n",
              "    </tr>\n",
              "    <tr>\n",
              "      <th>21</th>\n",
              "      <td>21</td>\n",
              "      <td>1992-05-06</td>\n",
              "    </tr>\n",
              "    <tr>\n",
              "      <th>22</th>\n",
              "      <td>22</td>\n",
              "      <td>1992-05-06</td>\n",
              "    </tr>\n",
              "    <tr>\n",
              "      <th>23</th>\n",
              "      <td>23</td>\n",
              "      <td>1992-05-07</td>\n",
              "    </tr>\n",
              "    <tr>\n",
              "      <th>24</th>\n",
              "      <td>24</td>\n",
              "      <td>1992-05-07</td>\n",
              "    </tr>\n",
              "    <tr>\n",
              "      <th>25</th>\n",
              "      <td>25</td>\n",
              "      <td>1992-05-07</td>\n",
              "    </tr>\n",
              "    <tr>\n",
              "      <th>26</th>\n",
              "      <td>26</td>\n",
              "      <td>1992-05-07</td>\n",
              "    </tr>\n",
              "    <tr>\n",
              "      <th>27</th>\n",
              "      <td>27</td>\n",
              "      <td>1992-05-07</td>\n",
              "    </tr>\n",
              "    <tr>\n",
              "      <th>28</th>\n",
              "      <td>28</td>\n",
              "      <td>1992-05-07</td>\n",
              "    </tr>\n",
              "    <tr>\n",
              "      <th>29</th>\n",
              "      <td>29</td>\n",
              "      <td>1992-05-07</td>\n",
              "    </tr>\n",
              "  </tbody>\n",
              "</table>\n",
              "</div>"
            ],
            "text/plain": [
              "    instance_id cutoff_time\n",
              "0             0  1992-05-06\n",
              "1             1  1992-05-06\n",
              "2             2  1992-05-06\n",
              "3             3  1992-05-06\n",
              "4             4  1992-05-06\n",
              "5             5  1992-05-06\n",
              "6             6  1992-05-06\n",
              "7             7  1992-05-06\n",
              "8             8  1992-05-06\n",
              "9             9  1992-05-06\n",
              "10           10  1992-05-06\n",
              "11           11  1992-05-06\n",
              "12           12  1992-05-06\n",
              "13           13  1992-05-06\n",
              "14           14  1992-05-06\n",
              "15           15  1992-05-06\n",
              "16           16  1992-05-06\n",
              "17           17  1992-05-06\n",
              "18           18  1992-05-06\n",
              "19           19  1992-05-06\n",
              "20           20  1992-05-06\n",
              "21           21  1992-05-06\n",
              "22           22  1992-05-06\n",
              "23           23  1992-05-07\n",
              "24           24  1992-05-07\n",
              "25           25  1992-05-07\n",
              "26           26  1992-05-07\n",
              "27           27  1992-05-07\n",
              "28           28  1992-05-07\n",
              "29           29  1992-05-07"
            ]
          },
          "metadata": {
            "tags": []
          },
          "execution_count": 20
        }
      ]
    },
    {
      "cell_type": "code",
      "metadata": {
        "id": "koYp01SDQnox",
        "colab_type": "code",
        "colab": {}
      },
      "source": [
        "df.drop(columns=['instance_id'], inplace=True)"
      ],
      "execution_count": 0,
      "outputs": []
    },
    {
      "cell_type": "code",
      "metadata": {
        "id": "_cOii6ZBQno0",
        "colab_type": "code",
        "outputId": "f4cf186b-0ef9-45a9-d5d2-65c243ee2b2d",
        "colab": {}
      },
      "source": [
        "df.head(10)"
      ],
      "execution_count": 0,
      "outputs": [
        {
          "output_type": "execute_result",
          "data": {
            "text/html": [
              "<div>\n",
              "<style scoped>\n",
              "    .dataframe tbody tr th:only-of-type {\n",
              "        vertical-align: middle;\n",
              "    }\n",
              "\n",
              "    .dataframe tbody tr th {\n",
              "        vertical-align: top;\n",
              "    }\n",
              "\n",
              "    .dataframe thead th {\n",
              "        text-align: right;\n",
              "    }\n",
              "</style>\n",
              "<table border=\"1\" class=\"dataframe\">\n",
              "  <thead>\n",
              "    <tr style=\"text-align: right;\">\n",
              "      <th></th>\n",
              "      <th>DrawNo</th>\n",
              "      <th>DrawDate</th>\n",
              "      <th>PrizeType</th>\n",
              "      <th>LuckyNo</th>\n",
              "      <th>result_id</th>\n",
              "    </tr>\n",
              "  </thead>\n",
              "  <tbody>\n",
              "    <tr>\n",
              "      <th>0</th>\n",
              "      <td>40792</td>\n",
              "      <td>1992-05-06</td>\n",
              "      <td>1stPrizeNo</td>\n",
              "      <td>19</td>\n",
              "      <td>19</td>\n",
              "    </tr>\n",
              "    <tr>\n",
              "      <th>1</th>\n",
              "      <td>40792</td>\n",
              "      <td>1992-05-06</td>\n",
              "      <td>2ndPrizeNo</td>\n",
              "      <td>1124</td>\n",
              "      <td>1124</td>\n",
              "    </tr>\n",
              "    <tr>\n",
              "      <th>2</th>\n",
              "      <td>40792</td>\n",
              "      <td>1992-05-06</td>\n",
              "      <td>3rdPrizeNo</td>\n",
              "      <td>592</td>\n",
              "      <td>592</td>\n",
              "    </tr>\n",
              "    <tr>\n",
              "      <th>3</th>\n",
              "      <td>40792</td>\n",
              "      <td>1992-05-06</td>\n",
              "      <td>ConsolationNo1</td>\n",
              "      <td>5311</td>\n",
              "      <td>5311</td>\n",
              "    </tr>\n",
              "    <tr>\n",
              "      <th>4</th>\n",
              "      <td>40792</td>\n",
              "      <td>1992-05-06</td>\n",
              "      <td>ConsolationNo10</td>\n",
              "      <td>407</td>\n",
              "      <td>407</td>\n",
              "    </tr>\n",
              "    <tr>\n",
              "      <th>5</th>\n",
              "      <td>40792</td>\n",
              "      <td>1992-05-06</td>\n",
              "      <td>ConsolationNo2</td>\n",
              "      <td>1949</td>\n",
              "      <td>1949</td>\n",
              "    </tr>\n",
              "    <tr>\n",
              "      <th>6</th>\n",
              "      <td>40792</td>\n",
              "      <td>1992-05-06</td>\n",
              "      <td>ConsolationNo3</td>\n",
              "      <td>1606</td>\n",
              "      <td>1606</td>\n",
              "    </tr>\n",
              "    <tr>\n",
              "      <th>7</th>\n",
              "      <td>40792</td>\n",
              "      <td>1992-05-06</td>\n",
              "      <td>ConsolationNo4</td>\n",
              "      <td>3775</td>\n",
              "      <td>3775</td>\n",
              "    </tr>\n",
              "    <tr>\n",
              "      <th>8</th>\n",
              "      <td>40792</td>\n",
              "      <td>1992-05-06</td>\n",
              "      <td>ConsolationNo5</td>\n",
              "      <td>6226</td>\n",
              "      <td>6226</td>\n",
              "    </tr>\n",
              "    <tr>\n",
              "      <th>9</th>\n",
              "      <td>40792</td>\n",
              "      <td>1992-05-06</td>\n",
              "      <td>ConsolationNo6</td>\n",
              "      <td>1271</td>\n",
              "      <td>1271</td>\n",
              "    </tr>\n",
              "  </tbody>\n",
              "</table>\n",
              "</div>"
            ],
            "text/plain": [
              "   DrawNo   DrawDate        PrizeType  LuckyNo  result_id\n",
              "0   40792 1992-05-06       1stPrizeNo       19         19\n",
              "1   40792 1992-05-06       2ndPrizeNo     1124       1124\n",
              "2   40792 1992-05-06       3rdPrizeNo      592        592\n",
              "3   40792 1992-05-06   ConsolationNo1     5311       5311\n",
              "4   40792 1992-05-06  ConsolationNo10      407        407\n",
              "5   40792 1992-05-06   ConsolationNo2     1949       1949\n",
              "6   40792 1992-05-06   ConsolationNo3     1606       1606\n",
              "7   40792 1992-05-06   ConsolationNo4     3775       3775\n",
              "8   40792 1992-05-06   ConsolationNo5     6226       6226\n",
              "9   40792 1992-05-06   ConsolationNo6     1271       1271"
            ]
          },
          "metadata": {
            "tags": []
          },
          "execution_count": 22
        }
      ]
    },
    {
      "cell_type": "code",
      "metadata": {
        "id": "KE3BfV7wQno2",
        "colab_type": "code",
        "colab": {}
      },
      "source": [
        "es = ft.EntitySet(id=\"Draw Results\")"
      ],
      "execution_count": 0,
      "outputs": []
    },
    {
      "cell_type": "code",
      "metadata": {
        "id": "pzk-uwxEQno4",
        "colab_type": "code",
        "outputId": "50a49a72-417a-4b0f-9d48-284c3318acf8",
        "colab": {}
      },
      "source": [
        "# Add the entire data table as an entity\n",
        "es.entity_from_dataframe(\"results\",\n",
        "                         dataframe=df,\n",
        "                         index=\"results_index\",\n",
        "                         time_index = 'DrawDate')\n",
        "\n",
        "es['results']"
      ],
      "execution_count": 0,
      "outputs": [
        {
          "output_type": "stream",
          "text": [
            "2019-10-07 23:19:43,718 featuretools.entityset - WARNING    index results_index not found in dataframe, creating new integer column\n"
          ],
          "name": "stdout"
        },
        {
          "output_type": "execute_result",
          "data": {
            "text/plain": [
              "Entity: results\n",
              "  Variables:\n",
              "    results_index (dtype: index)\n",
              "    DrawNo (dtype: numeric)\n",
              "    DrawDate (dtype: datetime_time_index)\n",
              "    PrizeType (dtype: categorical)\n",
              "    LuckyNo (dtype: numeric)\n",
              "    result_id (dtype: numeric)\n",
              "  Shape:\n",
              "    (Rows: 104673, Columns: 6)"
            ]
          },
          "metadata": {
            "tags": []
          },
          "execution_count": 24
        }
      ]
    },
    {
      "cell_type": "code",
      "metadata": {
        "id": "bikjREJCQno6",
        "colab_type": "code",
        "outputId": "5795a3d6-ea69-4b05-fb85-8f18dd6ca8eb",
        "colab": {}
      },
      "source": [
        "# Create a new entity\n",
        "es.normalize_entity(new_entity_id=\"draws\",\n",
        "                    base_entity_id=\"results\",\n",
        "                    index=\"LuckyNo\")\n",
        "                    # additional_variables=[\"\"])\n",
        "es['draws'].df.head()"
      ],
      "execution_count": 0,
      "outputs": [
        {
          "output_type": "execute_result",
          "data": {
            "text/html": [
              "<div>\n",
              "<style scoped>\n",
              "    .dataframe tbody tr th:only-of-type {\n",
              "        vertical-align: middle;\n",
              "    }\n",
              "\n",
              "    .dataframe tbody tr th {\n",
              "        vertical-align: top;\n",
              "    }\n",
              "\n",
              "    .dataframe thead th {\n",
              "        text-align: right;\n",
              "    }\n",
              "</style>\n",
              "<table border=\"1\" class=\"dataframe\">\n",
              "  <thead>\n",
              "    <tr style=\"text-align: right;\">\n",
              "      <th></th>\n",
              "      <th>LuckyNo</th>\n",
              "      <th>first_results_time</th>\n",
              "    </tr>\n",
              "  </thead>\n",
              "  <tbody>\n",
              "    <tr>\n",
              "      <th>19</th>\n",
              "      <td>19</td>\n",
              "      <td>1992-05-06</td>\n",
              "    </tr>\n",
              "    <tr>\n",
              "      <th>407</th>\n",
              "      <td>407</td>\n",
              "      <td>1992-05-06</td>\n",
              "    </tr>\n",
              "    <tr>\n",
              "      <th>592</th>\n",
              "      <td>592</td>\n",
              "      <td>1992-05-06</td>\n",
              "    </tr>\n",
              "    <tr>\n",
              "      <th>950</th>\n",
              "      <td>950</td>\n",
              "      <td>1992-05-06</td>\n",
              "    </tr>\n",
              "    <tr>\n",
              "      <th>1124</th>\n",
              "      <td>1124</td>\n",
              "      <td>1992-05-06</td>\n",
              "    </tr>\n",
              "  </tbody>\n",
              "</table>\n",
              "</div>"
            ],
            "text/plain": [
              "      LuckyNo first_results_time\n",
              "19         19         1992-05-06\n",
              "407       407         1992-05-06\n",
              "592       592         1992-05-06\n",
              "950       950         1992-05-06\n",
              "1124     1124         1992-05-06"
            ]
          },
          "metadata": {
            "tags": []
          },
          "execution_count": 25
        }
      ]
    },
    {
      "cell_type": "code",
      "metadata": {
        "id": "zj64nCmaQno8",
        "colab_type": "code",
        "outputId": "30d2193d-8dd9-4173-dafb-6291bb5aac52",
        "colab": {}
      },
      "source": [
        "es['results'].df.head(10)"
      ],
      "execution_count": 0,
      "outputs": [
        {
          "output_type": "execute_result",
          "data": {
            "text/html": [
              "<div>\n",
              "<style scoped>\n",
              "    .dataframe tbody tr th:only-of-type {\n",
              "        vertical-align: middle;\n",
              "    }\n",
              "\n",
              "    .dataframe tbody tr th {\n",
              "        vertical-align: top;\n",
              "    }\n",
              "\n",
              "    .dataframe thead th {\n",
              "        text-align: right;\n",
              "    }\n",
              "</style>\n",
              "<table border=\"1\" class=\"dataframe\">\n",
              "  <thead>\n",
              "    <tr style=\"text-align: right;\">\n",
              "      <th></th>\n",
              "      <th>results_index</th>\n",
              "      <th>DrawNo</th>\n",
              "      <th>DrawDate</th>\n",
              "      <th>PrizeType</th>\n",
              "      <th>LuckyNo</th>\n",
              "      <th>result_id</th>\n",
              "    </tr>\n",
              "  </thead>\n",
              "  <tbody>\n",
              "    <tr>\n",
              "      <th>0</th>\n",
              "      <td>0</td>\n",
              "      <td>40792</td>\n",
              "      <td>1992-05-06</td>\n",
              "      <td>1stPrizeNo</td>\n",
              "      <td>19</td>\n",
              "      <td>19</td>\n",
              "    </tr>\n",
              "    <tr>\n",
              "      <th>1</th>\n",
              "      <td>1</td>\n",
              "      <td>40792</td>\n",
              "      <td>1992-05-06</td>\n",
              "      <td>2ndPrizeNo</td>\n",
              "      <td>1124</td>\n",
              "      <td>1124</td>\n",
              "    </tr>\n",
              "    <tr>\n",
              "      <th>2</th>\n",
              "      <td>2</td>\n",
              "      <td>40792</td>\n",
              "      <td>1992-05-06</td>\n",
              "      <td>3rdPrizeNo</td>\n",
              "      <td>592</td>\n",
              "      <td>592</td>\n",
              "    </tr>\n",
              "    <tr>\n",
              "      <th>3</th>\n",
              "      <td>3</td>\n",
              "      <td>40792</td>\n",
              "      <td>1992-05-06</td>\n",
              "      <td>ConsolationNo1</td>\n",
              "      <td>5311</td>\n",
              "      <td>5311</td>\n",
              "    </tr>\n",
              "    <tr>\n",
              "      <th>4</th>\n",
              "      <td>4</td>\n",
              "      <td>40792</td>\n",
              "      <td>1992-05-06</td>\n",
              "      <td>ConsolationNo10</td>\n",
              "      <td>407</td>\n",
              "      <td>407</td>\n",
              "    </tr>\n",
              "    <tr>\n",
              "      <th>5</th>\n",
              "      <td>5</td>\n",
              "      <td>40792</td>\n",
              "      <td>1992-05-06</td>\n",
              "      <td>ConsolationNo2</td>\n",
              "      <td>1949</td>\n",
              "      <td>1949</td>\n",
              "    </tr>\n",
              "    <tr>\n",
              "      <th>6</th>\n",
              "      <td>6</td>\n",
              "      <td>40792</td>\n",
              "      <td>1992-05-06</td>\n",
              "      <td>ConsolationNo3</td>\n",
              "      <td>1606</td>\n",
              "      <td>1606</td>\n",
              "    </tr>\n",
              "    <tr>\n",
              "      <th>7</th>\n",
              "      <td>7</td>\n",
              "      <td>40792</td>\n",
              "      <td>1992-05-06</td>\n",
              "      <td>ConsolationNo4</td>\n",
              "      <td>3775</td>\n",
              "      <td>3775</td>\n",
              "    </tr>\n",
              "    <tr>\n",
              "      <th>8</th>\n",
              "      <td>8</td>\n",
              "      <td>40792</td>\n",
              "      <td>1992-05-06</td>\n",
              "      <td>ConsolationNo5</td>\n",
              "      <td>6226</td>\n",
              "      <td>6226</td>\n",
              "    </tr>\n",
              "    <tr>\n",
              "      <th>9</th>\n",
              "      <td>9</td>\n",
              "      <td>40792</td>\n",
              "      <td>1992-05-06</td>\n",
              "      <td>ConsolationNo6</td>\n",
              "      <td>1271</td>\n",
              "      <td>1271</td>\n",
              "    </tr>\n",
              "  </tbody>\n",
              "</table>\n",
              "</div>"
            ],
            "text/plain": [
              "   results_index  DrawNo   DrawDate        PrizeType  LuckyNo  result_id\n",
              "0              0   40792 1992-05-06       1stPrizeNo       19         19\n",
              "1              1   40792 1992-05-06       2ndPrizeNo     1124       1124\n",
              "2              2   40792 1992-05-06       3rdPrizeNo      592        592\n",
              "3              3   40792 1992-05-06   ConsolationNo1     5311       5311\n",
              "4              4   40792 1992-05-06  ConsolationNo10      407        407\n",
              "5              5   40792 1992-05-06   ConsolationNo2     1949       1949\n",
              "6              6   40792 1992-05-06   ConsolationNo3     1606       1606\n",
              "7              7   40792 1992-05-06   ConsolationNo4     3775       3775\n",
              "8              8   40792 1992-05-06   ConsolationNo5     6226       6226\n",
              "9              9   40792 1992-05-06   ConsolationNo6     1271       1271"
            ]
          },
          "metadata": {
            "tags": []
          },
          "execution_count": 34
        }
      ]
    },
    {
      "cell_type": "code",
      "metadata": {
        "id": "AWUv2rqpQno_",
        "colab_type": "code",
        "outputId": "9ee6ab09-0c32-4a14-e779-1633fe31f0cc",
        "colab": {}
      },
      "source": [
        "es['draws'].df.loc[lambda df: df['LuckyNo'] == 19].head()"
      ],
      "execution_count": 0,
      "outputs": [
        {
          "output_type": "execute_result",
          "data": {
            "text/html": [
              "<div>\n",
              "<style scoped>\n",
              "    .dataframe tbody tr th:only-of-type {\n",
              "        vertical-align: middle;\n",
              "    }\n",
              "\n",
              "    .dataframe tbody tr th {\n",
              "        vertical-align: top;\n",
              "    }\n",
              "\n",
              "    .dataframe thead th {\n",
              "        text-align: right;\n",
              "    }\n",
              "</style>\n",
              "<table border=\"1\" class=\"dataframe\">\n",
              "  <thead>\n",
              "    <tr style=\"text-align: right;\">\n",
              "      <th></th>\n",
              "      <th>LuckyNo</th>\n",
              "      <th>first_results_time</th>\n",
              "    </tr>\n",
              "  </thead>\n",
              "  <tbody>\n",
              "    <tr>\n",
              "      <th>19</th>\n",
              "      <td>19</td>\n",
              "      <td>1992-05-06</td>\n",
              "    </tr>\n",
              "  </tbody>\n",
              "</table>\n",
              "</div>"
            ],
            "text/plain": [
              "    LuckyNo first_results_time\n",
              "19       19         1992-05-06"
            ]
          },
          "metadata": {
            "tags": []
          },
          "execution_count": 27
        }
      ]
    },
    {
      "cell_type": "code",
      "metadata": {
        "id": "3MpuagTLQnpB",
        "colab_type": "code",
        "outputId": "5c0e390f-9a7e-44d2-be63-d06770cf695c",
        "colab": {}
      },
      "source": [
        "es['results'].df.loc[lambda df: df['LuckyNo'] == 19].head()"
      ],
      "execution_count": 0,
      "outputs": [
        {
          "output_type": "execute_result",
          "data": {
            "text/html": [
              "<div>\n",
              "<style scoped>\n",
              "    .dataframe tbody tr th:only-of-type {\n",
              "        vertical-align: middle;\n",
              "    }\n",
              "\n",
              "    .dataframe tbody tr th {\n",
              "        vertical-align: top;\n",
              "    }\n",
              "\n",
              "    .dataframe thead th {\n",
              "        text-align: right;\n",
              "    }\n",
              "</style>\n",
              "<table border=\"1\" class=\"dataframe\">\n",
              "  <thead>\n",
              "    <tr style=\"text-align: right;\">\n",
              "      <th></th>\n",
              "      <th>results_index</th>\n",
              "      <th>DrawNo</th>\n",
              "      <th>DrawDate</th>\n",
              "      <th>PrizeType</th>\n",
              "      <th>LuckyNo</th>\n",
              "      <th>result_id</th>\n",
              "    </tr>\n",
              "  </thead>\n",
              "  <tbody>\n",
              "    <tr>\n",
              "      <th>0</th>\n",
              "      <td>0</td>\n",
              "      <td>40792</td>\n",
              "      <td>1992-05-06</td>\n",
              "      <td>1stPrizeNo</td>\n",
              "      <td>19</td>\n",
              "      <td>19</td>\n",
              "    </tr>\n",
              "    <tr>\n",
              "      <th>297</th>\n",
              "      <td>297</td>\n",
              "      <td>41992</td>\n",
              "      <td>1992-06-03</td>\n",
              "      <td>SpecialNo8</td>\n",
              "      <td>19</td>\n",
              "      <td>19</td>\n",
              "    </tr>\n",
              "    <tr>\n",
              "      <th>10813</th>\n",
              "      <td>10813</td>\n",
              "      <td>87795</td>\n",
              "      <td>1995-05-06</td>\n",
              "      <td>ConsolationNo1</td>\n",
              "      <td>19</td>\n",
              "      <td>19</td>\n",
              "    </tr>\n",
              "    <tr>\n",
              "      <th>11566</th>\n",
              "      <td>11566</td>\n",
              "      <td>90995</td>\n",
              "      <td>1995-07-19</td>\n",
              "      <td>SpecialNo7</td>\n",
              "      <td>19</td>\n",
              "      <td>19</td>\n",
              "    </tr>\n",
              "    <tr>\n",
              "      <th>14844</th>\n",
              "      <td>14844</td>\n",
              "      <td>105296</td>\n",
              "      <td>1996-06-16</td>\n",
              "      <td>ConsolationNo6</td>\n",
              "      <td>19</td>\n",
              "      <td>19</td>\n",
              "    </tr>\n",
              "  </tbody>\n",
              "</table>\n",
              "</div>"
            ],
            "text/plain": [
              "       results_index  DrawNo   DrawDate       PrizeType  LuckyNo  result_id\n",
              "0                  0   40792 1992-05-06      1stPrizeNo       19         19\n",
              "297              297   41992 1992-06-03      SpecialNo8       19         19\n",
              "10813          10813   87795 1995-05-06  ConsolationNo1       19         19\n",
              "11566          11566   90995 1995-07-19      SpecialNo7       19         19\n",
              "14844          14844  105296 1996-06-16  ConsolationNo6       19         19"
            ]
          },
          "metadata": {
            "tags": []
          },
          "execution_count": 28
        }
      ]
    },
    {
      "cell_type": "code",
      "metadata": {
        "id": "x4QY3nTXQnpD",
        "colab_type": "code",
        "outputId": "fbdf1581-8745-48e0-b0e7-f2be98071ca3",
        "colab": {}
      },
      "source": [
        "es"
      ],
      "execution_count": 0,
      "outputs": [
        {
          "output_type": "execute_result",
          "data": {
            "text/plain": [
              "Entityset: Draw Results\n",
              "  Entities:\n",
              "    results [Rows: 104673, Columns: 6]\n",
              "    draws [Rows: 10000, Columns: 2]\n",
              "  Relationships:\n",
              "    results.LuckyNo -> draws.LuckyNo"
            ]
          },
          "metadata": {
            "tags": []
          },
          "execution_count": 29
        }
      ]
    },
    {
      "cell_type": "markdown",
      "metadata": {
        "id": "vqaB8vmnQnpF",
        "colab_type": "text"
      },
      "source": [
        "#### Generate features"
      ]
    },
    {
      "cell_type": "code",
      "metadata": {
        "id": "ASQJn7CeQnpG",
        "colab_type": "code",
        "outputId": "17ec7dfa-ef65-4035-fc54-0b0976941e0f",
        "colab": {}
      },
      "source": [
        "feature_matrix, feature_names = ft.dfs(entityset=es, target_entity='results',\n",
        "                                       cutoff_time = labels, verbose = 2,\n",
        "                                       cutoff_time_in_index = True,\n",
        "                                       chunk_size = len(labels), n_jobs = -1,\n",
        "                                       max_depth = 1)"
      ],
      "execution_count": 0,
      "outputs": [
        {
          "output_type": "stream",
          "text": [
            "Built 8 features\n",
            "EntitySet scattered to workers in 1.006 seconds\n",
            "Elapsed: 01:16 | Remaining: 00:00 | Progress: 100%|██████████| Calculated: 1/1 chunks\n"
          ],
          "name": "stdout"
        }
      ]
    },
    {
      "cell_type": "code",
      "metadata": {
        "id": "RTtJGyfDQnpJ",
        "colab_type": "code",
        "colab": {}
      },
      "source": [
        "feature_matrix.head(50)"
      ],
      "execution_count": 0,
      "outputs": []
    },
    {
      "cell_type": "code",
      "metadata": {
        "id": "3hydhdP2QnpM",
        "colab_type": "code",
        "colab": {}
      },
      "source": [
        ""
      ],
      "execution_count": 0,
      "outputs": []
    }
  ]
}
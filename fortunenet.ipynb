{
  "nbformat": 4,
  "nbformat_minor": 0,
  "metadata": {
    "colab": {
      "name": "lotto.ipynb",
      "version": "0.3.2",
      "provenance": [],
      "include_colab_link": true
    },
    "language_info": {
      "codemirror_mode": {
        "name": "ipython",
        "version": 3
      },
      "file_extension": ".py",
      "mimetype": "text/x-python",
      "name": "python",
      "nbconvert_exporter": "python",
      "pygments_lexer": "ipython3",
      "version": "3.7.2"
    },
    "kernelspec": {
      "name": "python3",
      "display_name": "Python 3"
    },
    "accelerator": "GPU"
  },
  "cells": [
    {
      "cell_type": "markdown",
      "metadata": {
        "id": "view-in-github",
        "colab_type": "text"
      },
      "source": [
        "<a href=\"https://colab.research.google.com/github/mengwangk/FortuneNet/blob/master/fortunenet.ipynb\" target=\"_parent\"><img src=\"https://colab.research.google.com/assets/colab-badge.svg\" alt=\"Open In Colab\"/></a>"
      ]
    },
    {
      "cell_type": "markdown",
      "metadata": {
        "colab_type": "text",
        "id": "b5243bUj8-K1"
      },
      "source": [
        "# FortuneNet"
      ]
    },
    {
      "cell_type": "markdown",
      "metadata": {
        "colab_type": "text",
        "id": "CQBDKNHCB7gO"
      },
      "source": [
        "## Magic"
      ]
    },
    {
      "cell_type": "code",
      "metadata": {
        "colab_type": "code",
        "id": "-IIhuSvDcwZy",
        "colab": {}
      },
      "source": [
        "%reload_ext autoreload\n",
        "%autoreload 2\n",
        "\n",
        "%matplotlib inline"
      ],
      "execution_count": 0,
      "outputs": []
    },
    {
      "cell_type": "markdown",
      "metadata": {
        "colab_type": "text",
        "id": "ytVP_Sy4cwZ1"
      },
      "source": [
        "## Imports"
      ]
    },
    {
      "cell_type": "code",
      "metadata": {
        "colab_type": "code",
        "id": "pdS7XRoicwZ2",
        "colab": {}
      },
      "source": [
        "# To support both python 2 and python 3\n",
        "from __future__ import division, print_function, unicode_literals\n",
        "\n",
        "# Common imports\n",
        "import numpy as np\n",
        "import os\n",
        "import pandas as pd\n",
        "import featuretools as ft\n",
        "import matplotlib as mpl\n",
        "import matplotlib.pyplot as plt"
      ],
      "execution_count": 0,
      "outputs": []
    },
    {
      "cell_type": "code",
      "metadata": {
        "colab_type": "code",
        "id": "A9eZHyChcwZ4",
        "colab": {}
      },
      "source": [
        "from fastai.basics import *\n",
        "from fastai.tabular import *"
      ],
      "execution_count": 0,
      "outputs": []
    },
    {
      "cell_type": "markdown",
      "metadata": {
        "colab_type": "text",
        "id": "ugtBDkyVcwZ6"
      },
      "source": [
        "## Setup"
      ]
    },
    {
      "cell_type": "code",
      "metadata": {
        "colab_type": "code",
        "id": "tc6D3kBScwZ7",
        "colab": {}
      },
      "source": [
        "# to make this notebook's output stable across runs\n",
        "np.random.seed(42)\n",
        "\n",
        "mpl.rc('axes', labelsize=14)\n",
        "mpl.rc('xtick', labelsize=12)\n",
        "mpl.rc('ytick', labelsize=12)\n",
        "\n",
        "# Ignore useless warnings (see SciPy issue #5998)\n",
        "import warnings\n",
        "warnings.filterwarnings(action=\"ignore\", message=\"^internal gelsd\")\n",
        "\n",
        "from IPython.display import display\n",
        "pd.options.display.max_columns = 50\n",
        "pd.options.display.html.table_schema = True"
      ],
      "execution_count": 0,
      "outputs": []
    },
    {
      "cell_type": "code",
      "metadata": {
        "colab_type": "code",
        "id": "qEhj3OF3cwZ9",
        "colab": {}
      },
      "source": [
        "# Where to save the figures\n",
        "PROJECT_ROOT_DIR = \".\"\n",
        "ID = \"fortunenet\"\n",
        "IMAGES_PATH = os.path.join(PROJECT_ROOT_DIR, \"images\", ID)\n",
        "\n",
        "def save_fig(fig_id, tight_layout=True, fig_extension=\"png\", resolution=300):\n",
        "    path = os.path.join(IMAGES_PATH, fig_id + \".\" + fig_extension)\n",
        "    print(\"Saving figure\", fig_id)\n",
        "    if tight_layout:\n",
        "        plt.tight_layout()\n",
        "    plt.savefig(path, format=fig_extension, dpi=resolution)"
      ],
      "execution_count": 0,
      "outputs": []
    },
    {
      "cell_type": "markdown",
      "metadata": {
        "colab_type": "text",
        "id": "W9QfYuy9cwZ_"
      },
      "source": [
        "## Helper Functions"
      ]
    },
    {
      "cell_type": "code",
      "metadata": {
        "colab_type": "code",
        "id": "-18vaytjcwaA",
        "colab": {}
      },
      "source": [
        "def add_datepart(df, fldname, drop=True, time=False):\n",
        "    \"\"\"Helper function that adds columns relevant to a date.\"\"\"\n",
        "    fld = df[fldname]\n",
        "    fld_dtype = fld.dtype\n",
        "    if isinstance(fld_dtype, pd.core.dtypes.dtypes.DatetimeTZDtype):\n",
        "        fld_dtype = np.datetime64\n",
        "\n",
        "    if not np.issubdtype(fld_dtype, np.datetime64):\n",
        "        df[fldname] = fld = pd.to_datetime(fld, infer_datetime_format=True)\n",
        "    targ_pre = re.sub('[Dd]ate$', '', fldname)\n",
        "    attr = ['Year', 'Month', 'Week', 'Day', 'Dayofweek', 'Dayofyear',\n",
        "            'Is_month_end', 'Is_month_start', 'Is_quarter_end', 'Is_quarter_start', 'Is_year_end', 'Is_year_start']\n",
        "    if time: attr = attr + ['Hour', 'Minute', 'Second']\n",
        "    for n in attr: df[targ_pre + n] = getattr(fld.dt, n.lower())\n",
        "    df[targ_pre + 'Elapsed'] = fld.astype(np.int64) // 10 ** 9\n",
        "    if drop: df.drop(fldname, axis=1, inplace=True)"
      ],
      "execution_count": 0,
      "outputs": []
    },
    {
      "cell_type": "code",
      "metadata": {
        "colab_type": "code",
        "id": "Hj7lXLY3cwaD",
        "colab": {}
      },
      "source": [
        "def download_file(url, path, download_path):\n",
        "    \"\"\"Download the dataset\"\"\"\n",
        "    if not os.path.isdir(path):\n",
        "        os.makedirs(path)\n",
        "    urllib.request.urlretrieve(url, download_path)\n",
        "    if (os.path.isfile(download_path)):\n",
        "        print(f'Download path: {download_path}')"
      ],
      "execution_count": 0,
      "outputs": []
    },
    {
      "cell_type": "markdown",
      "metadata": {
        "colab_type": "text",
        "id": "JigLrfOscwaH"
      },
      "source": [
        "## Datasets - Run the section you want to analyse"
      ]
    },
    {
      "cell_type": "code",
      "metadata": {
        "colab_type": "code",
        "id": "O1oXBFtycwaH",
        "colab": {}
      },
      "source": [
        "import os\n",
        "import zipfile\n",
        "from six.moves import urllib\n",
        "\n",
        "DOWNLOAD_ROOT = \"http://www.sportstoto.com.my/\"\n",
        "LOTTO_PATH = os.path.join(os.getcwd(), \"datasets\", \"lotto\")"
      ],
      "execution_count": 0,
      "outputs": []
    },
    {
      "cell_type": "markdown",
      "metadata": {
        "colab_type": "text",
        "id": "9DdDmsXnCDK4"
      },
      "source": [
        "### Dataset - 4D"
      ]
    },
    {
      "cell_type": "code",
      "metadata": {
        "colab_type": "code",
        "id": "KYjdmdlacwaM",
        "colab": {}
      },
      "source": [
        "_4D_URL = DOWNLOAD_ROOT + \"upload/4D.zip\"\n",
        "_4D_ZIP = os.path.join(LOTTO_PATH, \"4D.zip\")"
      ],
      "execution_count": 0,
      "outputs": []
    },
    {
      "cell_type": "code",
      "metadata": {
        "colab_type": "code",
        "id": "kcCjDnNqCsxN",
        "outputId": "2c3b3725-69d2-4d77-93d9-6cbf3b6027a4",
        "colab": {
          "base_uri": "https://localhost:8080/",
          "height": 34
        }
      },
      "source": [
        "# Download 4D\n",
        "download_file(_4D_URL, LOTTO_PATH, _4D_ZIP)"
      ],
      "execution_count": 11,
      "outputs": [
        {
          "output_type": "stream",
          "text": [
            "Download path: /content/datasets/lotto/4D.zip\n"
          ],
          "name": "stdout"
        }
      ]
    },
    {
      "cell_type": "code",
      "metadata": {
        "colab_type": "code",
        "id": "eDYOndxHcwaU",
        "colab": {}
      },
      "source": [
        "downloaded_file = _4D_ZIP"
      ],
      "execution_count": 0,
      "outputs": []
    },
    {
      "cell_type": "markdown",
      "metadata": {
        "colab_type": "text",
        "id": "PpAs4SgXcwaW"
      },
      "source": [
        "### Dataset - Others"
      ]
    },
    {
      "cell_type": "code",
      "metadata": {
        "colab_type": "code",
        "id": "88ENAOYFcwaX",
        "colab": {}
      },
      "source": [
        ""
      ],
      "execution_count": 0,
      "outputs": []
    },
    {
      "cell_type": "markdown",
      "metadata": {
        "colab_type": "text",
        "id": "rNk59tWhcwaZ"
      },
      "source": [
        "## Read the downloaded file"
      ]
    },
    {
      "cell_type": "code",
      "metadata": {
        "colab_type": "code",
        "id": "I7frraxZLNzA",
        "colab": {}
      },
      "source": [
        "# Read into data frame\n",
        "df = pd.read_csv(downloaded_file, header=0, sep=',', quotechar='\"')"
      ],
      "execution_count": 0,
      "outputs": []
    },
    {
      "cell_type": "code",
      "metadata": {
        "colab_type": "code",
        "id": "ZlLHkuqmEeI2",
        "outputId": "301e3669-e403-4b9e-8418-1145cb1ad0d7",
        "colab": {
          "base_uri": "https://localhost:8080/",
          "height": 379
        }
      },
      "source": [
        "# Tail the last 10 rows\n",
        "df.tail(10)"
      ],
      "execution_count": 14,
      "outputs": [
        {
          "output_type": "execute_result",
          "data": {
            "application/vnd.dataresource+json": {
              "data": [
                {
                  "1stPrizeNo": 9397,
                  "index": 4525,
                  "2ndPrizeNo": 1660,
                  "ConsolationNo2": 1401,
                  "ConsolationNo3": 7610,
                  "SpecialNo8": 2589,
                  "ConsolationNo1": 8,
                  "ConsolationNo6": 4544,
                  "ConsolationNo7": 4911,
                  "ConsolationNo4": 6501,
                  "ConsolationNo5": 2624,
                  "SpecialNo2": 2838,
                  "3rdPrizeNo": 2187,
                  "ConsolationNo8": 7295,
                  "SpecialNo1": 9181,
                  "SpecialNo6": 4830,
                  "SpecialNo7": 8293,
                  "SpecialNo4": 400,
                  "SpecialNo5": 9201,
                  "ConsolationNo10": 8741,
                  "SpecialNo3": 4971,
                  "DrawDate": 20190413,
                  "DrawNo": 493319,
                  "ConsolationNo9": 3974,
                  "SpecialNo10": 6365,
                  "SpecialNo9": 2962
                },
                {
                  "1stPrizeNo": 3196,
                  "index": 4526,
                  "2ndPrizeNo": 3443,
                  "ConsolationNo2": 4940,
                  "ConsolationNo3": 4441,
                  "SpecialNo8": 1121,
                  "ConsolationNo1": 8711,
                  "ConsolationNo6": 5403,
                  "ConsolationNo7": 9498,
                  "ConsolationNo4": 6414,
                  "ConsolationNo5": 4897,
                  "SpecialNo2": 7325,
                  "3rdPrizeNo": 1796,
                  "ConsolationNo8": 3661,
                  "SpecialNo1": 1957,
                  "SpecialNo6": 2231,
                  "SpecialNo7": 8870,
                  "SpecialNo4": 2098,
                  "SpecialNo5": 2517,
                  "ConsolationNo10": 1809,
                  "SpecialNo3": 6801,
                  "DrawDate": 20190414,
                  "DrawNo": 493419,
                  "ConsolationNo9": 9290,
                  "SpecialNo10": 7159,
                  "SpecialNo9": 9679
                },
                {
                  "1stPrizeNo": 4007,
                  "index": 4527,
                  "2ndPrizeNo": 8246,
                  "ConsolationNo2": 3325,
                  "ConsolationNo3": 6311,
                  "SpecialNo8": 3514,
                  "ConsolationNo1": 2385,
                  "ConsolationNo6": 8840,
                  "ConsolationNo7": 8743,
                  "ConsolationNo4": 1837,
                  "ConsolationNo5": 8312,
                  "SpecialNo2": 194,
                  "3rdPrizeNo": 1493,
                  "ConsolationNo8": 5015,
                  "SpecialNo1": 2102,
                  "SpecialNo6": 2599,
                  "SpecialNo7": 5192,
                  "SpecialNo4": 9083,
                  "SpecialNo5": 6763,
                  "ConsolationNo10": 5203,
                  "SpecialNo3": 6853,
                  "DrawDate": 20190417,
                  "DrawNo": 493519,
                  "ConsolationNo9": 335,
                  "SpecialNo10": 8548,
                  "SpecialNo9": 8253
                },
                {
                  "1stPrizeNo": 6622,
                  "index": 4528,
                  "2ndPrizeNo": 7203,
                  "ConsolationNo2": 5979,
                  "ConsolationNo3": 1951,
                  "SpecialNo8": 2037,
                  "ConsolationNo1": 5764,
                  "ConsolationNo6": 8027,
                  "ConsolationNo7": 5130,
                  "ConsolationNo4": 7761,
                  "ConsolationNo5": 9182,
                  "SpecialNo2": 7631,
                  "3rdPrizeNo": 4982,
                  "ConsolationNo8": 8119,
                  "SpecialNo1": 993,
                  "SpecialNo6": 4372,
                  "SpecialNo7": 5081,
                  "SpecialNo4": 6902,
                  "SpecialNo5": 8474,
                  "ConsolationNo10": 5710,
                  "SpecialNo3": 8813,
                  "DrawDate": 20190420,
                  "DrawNo": 493619,
                  "ConsolationNo9": 2508,
                  "SpecialNo10": 6705,
                  "SpecialNo9": 8326
                },
                {
                  "1stPrizeNo": 3634,
                  "index": 4529,
                  "2ndPrizeNo": 5822,
                  "ConsolationNo2": 2898,
                  "ConsolationNo3": 352,
                  "SpecialNo8": 918,
                  "ConsolationNo1": 6400,
                  "ConsolationNo6": 3435,
                  "ConsolationNo7": 3716,
                  "ConsolationNo4": 3326,
                  "ConsolationNo5": 6903,
                  "SpecialNo2": 1287,
                  "3rdPrizeNo": 4752,
                  "ConsolationNo8": 5085,
                  "SpecialNo1": 7700,
                  "SpecialNo6": 997,
                  "SpecialNo7": 312,
                  "SpecialNo4": 5179,
                  "SpecialNo5": 4386,
                  "ConsolationNo10": 2554,
                  "SpecialNo3": 2736,
                  "DrawDate": 20190421,
                  "DrawNo": 493719,
                  "ConsolationNo9": 4527,
                  "SpecialNo10": 6232,
                  "SpecialNo9": 4313
                },
                {
                  "1stPrizeNo": 1615,
                  "index": 4530,
                  "2ndPrizeNo": 9328,
                  "ConsolationNo2": 4517,
                  "ConsolationNo3": 1314,
                  "SpecialNo8": 527,
                  "ConsolationNo1": 6585,
                  "ConsolationNo6": 6827,
                  "ConsolationNo7": 1871,
                  "ConsolationNo4": 1181,
                  "ConsolationNo5": 9444,
                  "SpecialNo2": 4874,
                  "3rdPrizeNo": 6138,
                  "ConsolationNo8": 6984,
                  "SpecialNo1": 6914,
                  "SpecialNo6": 1152,
                  "SpecialNo7": 7209,
                  "SpecialNo4": 2663,
                  "SpecialNo5": 3020,
                  "ConsolationNo10": 9314,
                  "SpecialNo3": 6988,
                  "DrawDate": 20190424,
                  "DrawNo": 493819,
                  "ConsolationNo9": 7105,
                  "SpecialNo10": 1081,
                  "SpecialNo9": 3310
                },
                {
                  "1stPrizeNo": 3582,
                  "index": 4531,
                  "2ndPrizeNo": 1486,
                  "ConsolationNo2": 4440,
                  "ConsolationNo3": 8582,
                  "SpecialNo8": 3413,
                  "ConsolationNo1": 955,
                  "ConsolationNo6": 2016,
                  "ConsolationNo7": 2240,
                  "ConsolationNo4": 6238,
                  "ConsolationNo5": 2945,
                  "SpecialNo2": 5668,
                  "3rdPrizeNo": 8937,
                  "ConsolationNo8": 1286,
                  "SpecialNo1": 8464,
                  "SpecialNo6": 7176,
                  "SpecialNo7": 3315,
                  "SpecialNo4": 2182,
                  "SpecialNo5": 2689,
                  "ConsolationNo10": 715,
                  "SpecialNo3": 4914,
                  "DrawDate": 20190427,
                  "DrawNo": 493919,
                  "ConsolationNo9": 8726,
                  "SpecialNo10": 9621,
                  "SpecialNo9": 4247
                },
                {
                  "1stPrizeNo": 8975,
                  "index": 4532,
                  "2ndPrizeNo": 1998,
                  "ConsolationNo2": 1206,
                  "ConsolationNo3": 7955,
                  "SpecialNo8": 1572,
                  "ConsolationNo1": 5392,
                  "ConsolationNo6": 4883,
                  "ConsolationNo7": 6971,
                  "ConsolationNo4": 1235,
                  "ConsolationNo5": 1197,
                  "SpecialNo2": 2316,
                  "3rdPrizeNo": 8973,
                  "ConsolationNo8": 7918,
                  "SpecialNo1": 3112,
                  "SpecialNo6": 9329,
                  "SpecialNo7": 1714,
                  "SpecialNo4": 4631,
                  "SpecialNo5": 3584,
                  "ConsolationNo10": 6495,
                  "SpecialNo3": 8050,
                  "DrawDate": 20190428,
                  "DrawNo": 494019,
                  "ConsolationNo9": 155,
                  "SpecialNo10": 1344,
                  "SpecialNo9": 5405
                },
                {
                  "1stPrizeNo": 4633,
                  "index": 4533,
                  "2ndPrizeNo": 4154,
                  "ConsolationNo2": 8503,
                  "ConsolationNo3": 9387,
                  "SpecialNo8": 6547,
                  "ConsolationNo1": 3663,
                  "ConsolationNo6": 6246,
                  "ConsolationNo7": 9262,
                  "ConsolationNo4": 4279,
                  "ConsolationNo5": 992,
                  "SpecialNo2": 7440,
                  "3rdPrizeNo": 318,
                  "ConsolationNo8": 3764,
                  "SpecialNo1": 1271,
                  "SpecialNo6": 8531,
                  "SpecialNo7": 9627,
                  "SpecialNo4": 6127,
                  "SpecialNo5": 2690,
                  "ConsolationNo10": 8866,
                  "SpecialNo3": 8707,
                  "DrawDate": 20190501,
                  "DrawNo": 494119,
                  "ConsolationNo9": 4649,
                  "SpecialNo10": 2106,
                  "SpecialNo9": 2222
                },
                {
                  "1stPrizeNo": 9401,
                  "index": 4534,
                  "2ndPrizeNo": 962,
                  "ConsolationNo2": 3674,
                  "ConsolationNo3": 8128,
                  "SpecialNo8": 2681,
                  "ConsolationNo1": 2447,
                  "ConsolationNo6": 1032,
                  "ConsolationNo7": 6563,
                  "ConsolationNo4": 8865,
                  "ConsolationNo5": 9808,
                  "SpecialNo2": 8957,
                  "3rdPrizeNo": 3826,
                  "ConsolationNo8": 5311,
                  "SpecialNo1": 6554,
                  "SpecialNo6": 7667,
                  "SpecialNo7": 8775,
                  "SpecialNo4": 1223,
                  "SpecialNo5": 8574,
                  "ConsolationNo10": 5288,
                  "SpecialNo3": 4334,
                  "DrawDate": 20190504,
                  "DrawNo": 494219,
                  "ConsolationNo9": 4172,
                  "SpecialNo10": 1539,
                  "SpecialNo9": 2349
                }
              ],
              "schema": {
                "fields": [
                  {
                    "type": "integer",
                    "name": "index"
                  },
                  {
                    "type": "integer",
                    "name": "DrawNo"
                  },
                  {
                    "type": "integer",
                    "name": "DrawDate"
                  },
                  {
                    "type": "integer",
                    "name": "1stPrizeNo"
                  },
                  {
                    "type": "integer",
                    "name": "2ndPrizeNo"
                  },
                  {
                    "type": "integer",
                    "name": "3rdPrizeNo"
                  },
                  {
                    "type": "integer",
                    "name": "SpecialNo1"
                  },
                  {
                    "type": "integer",
                    "name": "SpecialNo2"
                  },
                  {
                    "type": "integer",
                    "name": "SpecialNo3"
                  },
                  {
                    "type": "integer",
                    "name": "SpecialNo4"
                  },
                  {
                    "type": "integer",
                    "name": "SpecialNo5"
                  },
                  {
                    "type": "integer",
                    "name": "SpecialNo6"
                  },
                  {
                    "type": "integer",
                    "name": "SpecialNo7"
                  },
                  {
                    "type": "integer",
                    "name": "SpecialNo8"
                  },
                  {
                    "type": "integer",
                    "name": "SpecialNo9"
                  },
                  {
                    "type": "integer",
                    "name": "SpecialNo10"
                  },
                  {
                    "type": "integer",
                    "name": "ConsolationNo1"
                  },
                  {
                    "type": "integer",
                    "name": "ConsolationNo2"
                  },
                  {
                    "type": "integer",
                    "name": "ConsolationNo3"
                  },
                  {
                    "type": "integer",
                    "name": "ConsolationNo4"
                  },
                  {
                    "type": "integer",
                    "name": "ConsolationNo5"
                  },
                  {
                    "type": "integer",
                    "name": "ConsolationNo6"
                  },
                  {
                    "type": "integer",
                    "name": "ConsolationNo7"
                  },
                  {
                    "type": "integer",
                    "name": "ConsolationNo8"
                  },
                  {
                    "type": "integer",
                    "name": "ConsolationNo9"
                  },
                  {
                    "type": "integer",
                    "name": "ConsolationNo10"
                  }
                ],
                "pandas_version": "0.20.0",
                "primaryKey": [
                  "index"
                ]
              }
            },
            "text/html": [
              "<div>\n",
              "<style scoped>\n",
              "    .dataframe tbody tr th:only-of-type {\n",
              "        vertical-align: middle;\n",
              "    }\n",
              "\n",
              "    .dataframe tbody tr th {\n",
              "        vertical-align: top;\n",
              "    }\n",
              "\n",
              "    .dataframe thead th {\n",
              "        text-align: right;\n",
              "    }\n",
              "</style>\n",
              "<table border=\"1\" class=\"dataframe\">\n",
              "  <thead>\n",
              "    <tr style=\"text-align: right;\">\n",
              "      <th></th>\n",
              "      <th>DrawNo</th>\n",
              "      <th>DrawDate</th>\n",
              "      <th>1stPrizeNo</th>\n",
              "      <th>2ndPrizeNo</th>\n",
              "      <th>3rdPrizeNo</th>\n",
              "      <th>SpecialNo1</th>\n",
              "      <th>SpecialNo2</th>\n",
              "      <th>SpecialNo3</th>\n",
              "      <th>SpecialNo4</th>\n",
              "      <th>SpecialNo5</th>\n",
              "      <th>SpecialNo6</th>\n",
              "      <th>SpecialNo7</th>\n",
              "      <th>SpecialNo8</th>\n",
              "      <th>SpecialNo9</th>\n",
              "      <th>SpecialNo10</th>\n",
              "      <th>ConsolationNo1</th>\n",
              "      <th>ConsolationNo2</th>\n",
              "      <th>ConsolationNo3</th>\n",
              "      <th>ConsolationNo4</th>\n",
              "      <th>ConsolationNo5</th>\n",
              "      <th>ConsolationNo6</th>\n",
              "      <th>ConsolationNo7</th>\n",
              "      <th>ConsolationNo8</th>\n",
              "      <th>ConsolationNo9</th>\n",
              "      <th>ConsolationNo10</th>\n",
              "    </tr>\n",
              "  </thead>\n",
              "  <tbody>\n",
              "    <tr>\n",
              "      <th>4525</th>\n",
              "      <td>493319</td>\n",
              "      <td>20190413</td>\n",
              "      <td>9397</td>\n",
              "      <td>1660</td>\n",
              "      <td>2187</td>\n",
              "      <td>9181</td>\n",
              "      <td>2838</td>\n",
              "      <td>4971</td>\n",
              "      <td>400</td>\n",
              "      <td>9201</td>\n",
              "      <td>4830</td>\n",
              "      <td>8293</td>\n",
              "      <td>2589</td>\n",
              "      <td>2962</td>\n",
              "      <td>6365</td>\n",
              "      <td>8</td>\n",
              "      <td>1401</td>\n",
              "      <td>7610</td>\n",
              "      <td>6501</td>\n",
              "      <td>2624</td>\n",
              "      <td>4544</td>\n",
              "      <td>4911</td>\n",
              "      <td>7295</td>\n",
              "      <td>3974</td>\n",
              "      <td>8741</td>\n",
              "    </tr>\n",
              "    <tr>\n",
              "      <th>4526</th>\n",
              "      <td>493419</td>\n",
              "      <td>20190414</td>\n",
              "      <td>3196</td>\n",
              "      <td>3443</td>\n",
              "      <td>1796</td>\n",
              "      <td>1957</td>\n",
              "      <td>7325</td>\n",
              "      <td>6801</td>\n",
              "      <td>2098</td>\n",
              "      <td>2517</td>\n",
              "      <td>2231</td>\n",
              "      <td>8870</td>\n",
              "      <td>1121</td>\n",
              "      <td>9679</td>\n",
              "      <td>7159</td>\n",
              "      <td>8711</td>\n",
              "      <td>4940</td>\n",
              "      <td>4441</td>\n",
              "      <td>6414</td>\n",
              "      <td>4897</td>\n",
              "      <td>5403</td>\n",
              "      <td>9498</td>\n",
              "      <td>3661</td>\n",
              "      <td>9290</td>\n",
              "      <td>1809</td>\n",
              "    </tr>\n",
              "    <tr>\n",
              "      <th>4527</th>\n",
              "      <td>493519</td>\n",
              "      <td>20190417</td>\n",
              "      <td>4007</td>\n",
              "      <td>8246</td>\n",
              "      <td>1493</td>\n",
              "      <td>2102</td>\n",
              "      <td>194</td>\n",
              "      <td>6853</td>\n",
              "      <td>9083</td>\n",
              "      <td>6763</td>\n",
              "      <td>2599</td>\n",
              "      <td>5192</td>\n",
              "      <td>3514</td>\n",
              "      <td>8253</td>\n",
              "      <td>8548</td>\n",
              "      <td>2385</td>\n",
              "      <td>3325</td>\n",
              "      <td>6311</td>\n",
              "      <td>1837</td>\n",
              "      <td>8312</td>\n",
              "      <td>8840</td>\n",
              "      <td>8743</td>\n",
              "      <td>5015</td>\n",
              "      <td>335</td>\n",
              "      <td>5203</td>\n",
              "    </tr>\n",
              "    <tr>\n",
              "      <th>4528</th>\n",
              "      <td>493619</td>\n",
              "      <td>20190420</td>\n",
              "      <td>6622</td>\n",
              "      <td>7203</td>\n",
              "      <td>4982</td>\n",
              "      <td>993</td>\n",
              "      <td>7631</td>\n",
              "      <td>8813</td>\n",
              "      <td>6902</td>\n",
              "      <td>8474</td>\n",
              "      <td>4372</td>\n",
              "      <td>5081</td>\n",
              "      <td>2037</td>\n",
              "      <td>8326</td>\n",
              "      <td>6705</td>\n",
              "      <td>5764</td>\n",
              "      <td>5979</td>\n",
              "      <td>1951</td>\n",
              "      <td>7761</td>\n",
              "      <td>9182</td>\n",
              "      <td>8027</td>\n",
              "      <td>5130</td>\n",
              "      <td>8119</td>\n",
              "      <td>2508</td>\n",
              "      <td>5710</td>\n",
              "    </tr>\n",
              "    <tr>\n",
              "      <th>4529</th>\n",
              "      <td>493719</td>\n",
              "      <td>20190421</td>\n",
              "      <td>3634</td>\n",
              "      <td>5822</td>\n",
              "      <td>4752</td>\n",
              "      <td>7700</td>\n",
              "      <td>1287</td>\n",
              "      <td>2736</td>\n",
              "      <td>5179</td>\n",
              "      <td>4386</td>\n",
              "      <td>997</td>\n",
              "      <td>312</td>\n",
              "      <td>918</td>\n",
              "      <td>4313</td>\n",
              "      <td>6232</td>\n",
              "      <td>6400</td>\n",
              "      <td>2898</td>\n",
              "      <td>352</td>\n",
              "      <td>3326</td>\n",
              "      <td>6903</td>\n",
              "      <td>3435</td>\n",
              "      <td>3716</td>\n",
              "      <td>5085</td>\n",
              "      <td>4527</td>\n",
              "      <td>2554</td>\n",
              "    </tr>\n",
              "    <tr>\n",
              "      <th>4530</th>\n",
              "      <td>493819</td>\n",
              "      <td>20190424</td>\n",
              "      <td>1615</td>\n",
              "      <td>9328</td>\n",
              "      <td>6138</td>\n",
              "      <td>6914</td>\n",
              "      <td>4874</td>\n",
              "      <td>6988</td>\n",
              "      <td>2663</td>\n",
              "      <td>3020</td>\n",
              "      <td>1152</td>\n",
              "      <td>7209</td>\n",
              "      <td>527</td>\n",
              "      <td>3310</td>\n",
              "      <td>1081</td>\n",
              "      <td>6585</td>\n",
              "      <td>4517</td>\n",
              "      <td>1314</td>\n",
              "      <td>1181</td>\n",
              "      <td>9444</td>\n",
              "      <td>6827</td>\n",
              "      <td>1871</td>\n",
              "      <td>6984</td>\n",
              "      <td>7105</td>\n",
              "      <td>9314</td>\n",
              "    </tr>\n",
              "    <tr>\n",
              "      <th>4531</th>\n",
              "      <td>493919</td>\n",
              "      <td>20190427</td>\n",
              "      <td>3582</td>\n",
              "      <td>1486</td>\n",
              "      <td>8937</td>\n",
              "      <td>8464</td>\n",
              "      <td>5668</td>\n",
              "      <td>4914</td>\n",
              "      <td>2182</td>\n",
              "      <td>2689</td>\n",
              "      <td>7176</td>\n",
              "      <td>3315</td>\n",
              "      <td>3413</td>\n",
              "      <td>4247</td>\n",
              "      <td>9621</td>\n",
              "      <td>955</td>\n",
              "      <td>4440</td>\n",
              "      <td>8582</td>\n",
              "      <td>6238</td>\n",
              "      <td>2945</td>\n",
              "      <td>2016</td>\n",
              "      <td>2240</td>\n",
              "      <td>1286</td>\n",
              "      <td>8726</td>\n",
              "      <td>715</td>\n",
              "    </tr>\n",
              "    <tr>\n",
              "      <th>4532</th>\n",
              "      <td>494019</td>\n",
              "      <td>20190428</td>\n",
              "      <td>8975</td>\n",
              "      <td>1998</td>\n",
              "      <td>8973</td>\n",
              "      <td>3112</td>\n",
              "      <td>2316</td>\n",
              "      <td>8050</td>\n",
              "      <td>4631</td>\n",
              "      <td>3584</td>\n",
              "      <td>9329</td>\n",
              "      <td>1714</td>\n",
              "      <td>1572</td>\n",
              "      <td>5405</td>\n",
              "      <td>1344</td>\n",
              "      <td>5392</td>\n",
              "      <td>1206</td>\n",
              "      <td>7955</td>\n",
              "      <td>1235</td>\n",
              "      <td>1197</td>\n",
              "      <td>4883</td>\n",
              "      <td>6971</td>\n",
              "      <td>7918</td>\n",
              "      <td>155</td>\n",
              "      <td>6495</td>\n",
              "    </tr>\n",
              "    <tr>\n",
              "      <th>4533</th>\n",
              "      <td>494119</td>\n",
              "      <td>20190501</td>\n",
              "      <td>4633</td>\n",
              "      <td>4154</td>\n",
              "      <td>318</td>\n",
              "      <td>1271</td>\n",
              "      <td>7440</td>\n",
              "      <td>8707</td>\n",
              "      <td>6127</td>\n",
              "      <td>2690</td>\n",
              "      <td>8531</td>\n",
              "      <td>9627</td>\n",
              "      <td>6547</td>\n",
              "      <td>2222</td>\n",
              "      <td>2106</td>\n",
              "      <td>3663</td>\n",
              "      <td>8503</td>\n",
              "      <td>9387</td>\n",
              "      <td>4279</td>\n",
              "      <td>992</td>\n",
              "      <td>6246</td>\n",
              "      <td>9262</td>\n",
              "      <td>3764</td>\n",
              "      <td>4649</td>\n",
              "      <td>8866</td>\n",
              "    </tr>\n",
              "    <tr>\n",
              "      <th>4534</th>\n",
              "      <td>494219</td>\n",
              "      <td>20190504</td>\n",
              "      <td>9401</td>\n",
              "      <td>962</td>\n",
              "      <td>3826</td>\n",
              "      <td>6554</td>\n",
              "      <td>8957</td>\n",
              "      <td>4334</td>\n",
              "      <td>1223</td>\n",
              "      <td>8574</td>\n",
              "      <td>7667</td>\n",
              "      <td>8775</td>\n",
              "      <td>2681</td>\n",
              "      <td>2349</td>\n",
              "      <td>1539</td>\n",
              "      <td>2447</td>\n",
              "      <td>3674</td>\n",
              "      <td>8128</td>\n",
              "      <td>8865</td>\n",
              "      <td>9808</td>\n",
              "      <td>1032</td>\n",
              "      <td>6563</td>\n",
              "      <td>5311</td>\n",
              "      <td>4172</td>\n",
              "      <td>5288</td>\n",
              "    </tr>\n",
              "  </tbody>\n",
              "</table>\n",
              "</div>"
            ],
            "text/plain": [
              "      DrawNo  DrawDate  1stPrizeNo  2ndPrizeNo  3rdPrizeNo  SpecialNo1  \\\n",
              "4525  493319  20190413        9397        1660        2187        9181   \n",
              "4526  493419  20190414        3196        3443        1796        1957   \n",
              "4527  493519  20190417        4007        8246        1493        2102   \n",
              "4528  493619  20190420        6622        7203        4982         993   \n",
              "4529  493719  20190421        3634        5822        4752        7700   \n",
              "4530  493819  20190424        1615        9328        6138        6914   \n",
              "4531  493919  20190427        3582        1486        8937        8464   \n",
              "4532  494019  20190428        8975        1998        8973        3112   \n",
              "4533  494119  20190501        4633        4154         318        1271   \n",
              "4534  494219  20190504        9401         962        3826        6554   \n",
              "\n",
              "      SpecialNo2  SpecialNo3  SpecialNo4  SpecialNo5  SpecialNo6  SpecialNo7  \\\n",
              "4525        2838        4971         400        9201        4830        8293   \n",
              "4526        7325        6801        2098        2517        2231        8870   \n",
              "4527         194        6853        9083        6763        2599        5192   \n",
              "4528        7631        8813        6902        8474        4372        5081   \n",
              "4529        1287        2736        5179        4386         997         312   \n",
              "4530        4874        6988        2663        3020        1152        7209   \n",
              "4531        5668        4914        2182        2689        7176        3315   \n",
              "4532        2316        8050        4631        3584        9329        1714   \n",
              "4533        7440        8707        6127        2690        8531        9627   \n",
              "4534        8957        4334        1223        8574        7667        8775   \n",
              "\n",
              "      SpecialNo8  SpecialNo9  SpecialNo10  ConsolationNo1  ConsolationNo2  \\\n",
              "4525        2589        2962         6365               8            1401   \n",
              "4526        1121        9679         7159            8711            4940   \n",
              "4527        3514        8253         8548            2385            3325   \n",
              "4528        2037        8326         6705            5764            5979   \n",
              "4529         918        4313         6232            6400            2898   \n",
              "4530         527        3310         1081            6585            4517   \n",
              "4531        3413        4247         9621             955            4440   \n",
              "4532        1572        5405         1344            5392            1206   \n",
              "4533        6547        2222         2106            3663            8503   \n",
              "4534        2681        2349         1539            2447            3674   \n",
              "\n",
              "      ConsolationNo3  ConsolationNo4  ConsolationNo5  ConsolationNo6  \\\n",
              "4525            7610            6501            2624            4544   \n",
              "4526            4441            6414            4897            5403   \n",
              "4527            6311            1837            8312            8840   \n",
              "4528            1951            7761            9182            8027   \n",
              "4529             352            3326            6903            3435   \n",
              "4530            1314            1181            9444            6827   \n",
              "4531            8582            6238            2945            2016   \n",
              "4532            7955            1235            1197            4883   \n",
              "4533            9387            4279             992            6246   \n",
              "4534            8128            8865            9808            1032   \n",
              "\n",
              "      ConsolationNo7  ConsolationNo8  ConsolationNo9  ConsolationNo10  \n",
              "4525            4911            7295            3974             8741  \n",
              "4526            9498            3661            9290             1809  \n",
              "4527            8743            5015             335             5203  \n",
              "4528            5130            8119            2508             5710  \n",
              "4529            3716            5085            4527             2554  \n",
              "4530            1871            6984            7105             9314  \n",
              "4531            2240            1286            8726              715  \n",
              "4532            6971            7918             155             6495  \n",
              "4533            9262            3764            4649             8866  \n",
              "4534            6563            5311            4172             5288  "
            ]
          },
          "metadata": {
            "tags": []
          },
          "execution_count": 14
        }
      ]
    },
    {
      "cell_type": "markdown",
      "metadata": {
        "colab_type": "text",
        "id": "hJqn_qhfcwag"
      },
      "source": [
        "## Preprocessing"
      ]
    },
    {
      "cell_type": "markdown",
      "metadata": {
        "colab_type": "text",
        "id": "yve_GeP_cwah"
      },
      "source": [
        "### Transpose the data"
      ]
    },
    {
      "cell_type": "code",
      "metadata": {
        "colab_type": "code",
        "id": "Jk0qwa5kcwai",
        "outputId": "318dea18-b501-4723-9436-b525422089d1",
        "colab": {
          "base_uri": "https://localhost:8080/",
          "height": 170
        }
      },
      "source": [
        "df_transposed = df.melt(id_vars=[\"DrawNo\", \"DrawDate\"], var_name=\"PrizeType\", value_name=\"LuckyNo\")\n",
        "df_transposed = df_transposed.sort_values([\"DrawNo\", \"DrawDate\", \"PrizeType\"], ascending=True)\n",
        "df_transposed['DrawDate'] = pd.to_datetime(df_transposed['DrawDate'], format='%Y%m%d')\n",
        "df_transposed.reset_index(inplace=True, drop=True)\n",
        "df_transposed.info()"
      ],
      "execution_count": 15,
      "outputs": [
        {
          "output_type": "stream",
          "text": [
            "<class 'pandas.core.frame.DataFrame'>\n",
            "RangeIndex: 104305 entries, 0 to 104304\n",
            "Data columns (total 4 columns):\n",
            "DrawNo       104305 non-null int64\n",
            "DrawDate     104305 non-null datetime64[ns]\n",
            "PrizeType    104305 non-null object\n",
            "LuckyNo      104305 non-null int64\n",
            "dtypes: datetime64[ns](1), int64(2), object(1)\n",
            "memory usage: 3.2+ MB\n"
          ],
          "name": "stdout"
        }
      ]
    },
    {
      "cell_type": "code",
      "metadata": {
        "colab_type": "code",
        "id": "TtPqd8Titw6r",
        "outputId": "10845e0a-6046-4bd2-d111-e3e117b4b21e",
        "colab": {
          "base_uri": "https://localhost:8080/",
          "height": 762
        }
      },
      "source": [
        "# Tail the data\n",
        "df_transposed.head(23)"
      ],
      "execution_count": 16,
      "outputs": [
        {
          "output_type": "execute_result",
          "data": {
            "application/vnd.dataresource+json": {
              "data": [
                {
                  "index": 0,
                  "DrawDate": "1992-05-06T00:00:00.000Z",
                  "LuckyNo": 19,
                  "DrawNo": 40792,
                  "PrizeType": "1stPrizeNo"
                },
                {
                  "index": 1,
                  "DrawDate": "1992-05-06T00:00:00.000Z",
                  "LuckyNo": 1124,
                  "DrawNo": 40792,
                  "PrizeType": "2ndPrizeNo"
                },
                {
                  "index": 2,
                  "DrawDate": "1992-05-06T00:00:00.000Z",
                  "LuckyNo": 592,
                  "DrawNo": 40792,
                  "PrizeType": "3rdPrizeNo"
                },
                {
                  "index": 3,
                  "DrawDate": "1992-05-06T00:00:00.000Z",
                  "LuckyNo": 5311,
                  "DrawNo": 40792,
                  "PrizeType": "ConsolationNo1"
                },
                {
                  "index": 4,
                  "DrawDate": "1992-05-06T00:00:00.000Z",
                  "LuckyNo": 407,
                  "DrawNo": 40792,
                  "PrizeType": "ConsolationNo10"
                },
                {
                  "index": 5,
                  "DrawDate": "1992-05-06T00:00:00.000Z",
                  "LuckyNo": 1949,
                  "DrawNo": 40792,
                  "PrizeType": "ConsolationNo2"
                },
                {
                  "index": 6,
                  "DrawDate": "1992-05-06T00:00:00.000Z",
                  "LuckyNo": 1606,
                  "DrawNo": 40792,
                  "PrizeType": "ConsolationNo3"
                },
                {
                  "index": 7,
                  "DrawDate": "1992-05-06T00:00:00.000Z",
                  "LuckyNo": 3775,
                  "DrawNo": 40792,
                  "PrizeType": "ConsolationNo4"
                },
                {
                  "index": 8,
                  "DrawDate": "1992-05-06T00:00:00.000Z",
                  "LuckyNo": 6226,
                  "DrawNo": 40792,
                  "PrizeType": "ConsolationNo5"
                },
                {
                  "index": 9,
                  "DrawDate": "1992-05-06T00:00:00.000Z",
                  "LuckyNo": 1271,
                  "DrawNo": 40792,
                  "PrizeType": "ConsolationNo6"
                },
                {
                  "index": 10,
                  "DrawDate": "1992-05-06T00:00:00.000Z",
                  "LuckyNo": 7455,
                  "DrawNo": 40792,
                  "PrizeType": "ConsolationNo7"
                },
                {
                  "index": 11,
                  "DrawDate": "1992-05-06T00:00:00.000Z",
                  "LuckyNo": 7227,
                  "DrawNo": 40792,
                  "PrizeType": "ConsolationNo8"
                },
                {
                  "index": 12,
                  "DrawDate": "1992-05-06T00:00:00.000Z",
                  "LuckyNo": 9258,
                  "DrawNo": 40792,
                  "PrizeType": "ConsolationNo9"
                },
                {
                  "index": 13,
                  "DrawDate": "1992-05-06T00:00:00.000Z",
                  "LuckyNo": 950,
                  "DrawNo": 40792,
                  "PrizeType": "SpecialNo1"
                },
                {
                  "index": 14,
                  "DrawDate": "1992-05-06T00:00:00.000Z",
                  "LuckyNo": 5301,
                  "DrawNo": 40792,
                  "PrizeType": "SpecialNo10"
                },
                {
                  "index": 15,
                  "DrawDate": "1992-05-06T00:00:00.000Z",
                  "LuckyNo": 2479,
                  "DrawNo": 40792,
                  "PrizeType": "SpecialNo2"
                },
                {
                  "index": 16,
                  "DrawDate": "1992-05-06T00:00:00.000Z",
                  "LuckyNo": 7139,
                  "DrawNo": 40792,
                  "PrizeType": "SpecialNo3"
                },
                {
                  "index": 17,
                  "DrawDate": "1992-05-06T00:00:00.000Z",
                  "LuckyNo": 3114,
                  "DrawNo": 40792,
                  "PrizeType": "SpecialNo4"
                },
                {
                  "index": 18,
                  "DrawDate": "1992-05-06T00:00:00.000Z",
                  "LuckyNo": 4609,
                  "DrawNo": 40792,
                  "PrizeType": "SpecialNo5"
                },
                {
                  "index": 19,
                  "DrawDate": "1992-05-06T00:00:00.000Z",
                  "LuckyNo": 7836,
                  "DrawNo": 40792,
                  "PrizeType": "SpecialNo6"
                },
                {
                  "index": 20,
                  "DrawDate": "1992-05-06T00:00:00.000Z",
                  "LuckyNo": 8981,
                  "DrawNo": 40792,
                  "PrizeType": "SpecialNo7"
                },
                {
                  "index": 21,
                  "DrawDate": "1992-05-06T00:00:00.000Z",
                  "LuckyNo": 4465,
                  "DrawNo": 40792,
                  "PrizeType": "SpecialNo8"
                },
                {
                  "index": 22,
                  "DrawDate": "1992-05-06T00:00:00.000Z",
                  "LuckyNo": 6114,
                  "DrawNo": 40792,
                  "PrizeType": "SpecialNo9"
                }
              ],
              "schema": {
                "fields": [
                  {
                    "type": "integer",
                    "name": "index"
                  },
                  {
                    "type": "integer",
                    "name": "DrawNo"
                  },
                  {
                    "type": "datetime",
                    "name": "DrawDate"
                  },
                  {
                    "type": "string",
                    "name": "PrizeType"
                  },
                  {
                    "type": "integer",
                    "name": "LuckyNo"
                  }
                ],
                "pandas_version": "0.20.0",
                "primaryKey": [
                  "index"
                ]
              }
            },
            "text/html": [
              "<div>\n",
              "<style scoped>\n",
              "    .dataframe tbody tr th:only-of-type {\n",
              "        vertical-align: middle;\n",
              "    }\n",
              "\n",
              "    .dataframe tbody tr th {\n",
              "        vertical-align: top;\n",
              "    }\n",
              "\n",
              "    .dataframe thead th {\n",
              "        text-align: right;\n",
              "    }\n",
              "</style>\n",
              "<table border=\"1\" class=\"dataframe\">\n",
              "  <thead>\n",
              "    <tr style=\"text-align: right;\">\n",
              "      <th></th>\n",
              "      <th>DrawNo</th>\n",
              "      <th>DrawDate</th>\n",
              "      <th>PrizeType</th>\n",
              "      <th>LuckyNo</th>\n",
              "    </tr>\n",
              "  </thead>\n",
              "  <tbody>\n",
              "    <tr>\n",
              "      <th>0</th>\n",
              "      <td>40792</td>\n",
              "      <td>1992-05-06</td>\n",
              "      <td>1stPrizeNo</td>\n",
              "      <td>19</td>\n",
              "    </tr>\n",
              "    <tr>\n",
              "      <th>1</th>\n",
              "      <td>40792</td>\n",
              "      <td>1992-05-06</td>\n",
              "      <td>2ndPrizeNo</td>\n",
              "      <td>1124</td>\n",
              "    </tr>\n",
              "    <tr>\n",
              "      <th>2</th>\n",
              "      <td>40792</td>\n",
              "      <td>1992-05-06</td>\n",
              "      <td>3rdPrizeNo</td>\n",
              "      <td>592</td>\n",
              "    </tr>\n",
              "    <tr>\n",
              "      <th>3</th>\n",
              "      <td>40792</td>\n",
              "      <td>1992-05-06</td>\n",
              "      <td>ConsolationNo1</td>\n",
              "      <td>5311</td>\n",
              "    </tr>\n",
              "    <tr>\n",
              "      <th>4</th>\n",
              "      <td>40792</td>\n",
              "      <td>1992-05-06</td>\n",
              "      <td>ConsolationNo10</td>\n",
              "      <td>407</td>\n",
              "    </tr>\n",
              "    <tr>\n",
              "      <th>5</th>\n",
              "      <td>40792</td>\n",
              "      <td>1992-05-06</td>\n",
              "      <td>ConsolationNo2</td>\n",
              "      <td>1949</td>\n",
              "    </tr>\n",
              "    <tr>\n",
              "      <th>6</th>\n",
              "      <td>40792</td>\n",
              "      <td>1992-05-06</td>\n",
              "      <td>ConsolationNo3</td>\n",
              "      <td>1606</td>\n",
              "    </tr>\n",
              "    <tr>\n",
              "      <th>7</th>\n",
              "      <td>40792</td>\n",
              "      <td>1992-05-06</td>\n",
              "      <td>ConsolationNo4</td>\n",
              "      <td>3775</td>\n",
              "    </tr>\n",
              "    <tr>\n",
              "      <th>8</th>\n",
              "      <td>40792</td>\n",
              "      <td>1992-05-06</td>\n",
              "      <td>ConsolationNo5</td>\n",
              "      <td>6226</td>\n",
              "    </tr>\n",
              "    <tr>\n",
              "      <th>9</th>\n",
              "      <td>40792</td>\n",
              "      <td>1992-05-06</td>\n",
              "      <td>ConsolationNo6</td>\n",
              "      <td>1271</td>\n",
              "    </tr>\n",
              "    <tr>\n",
              "      <th>10</th>\n",
              "      <td>40792</td>\n",
              "      <td>1992-05-06</td>\n",
              "      <td>ConsolationNo7</td>\n",
              "      <td>7455</td>\n",
              "    </tr>\n",
              "    <tr>\n",
              "      <th>11</th>\n",
              "      <td>40792</td>\n",
              "      <td>1992-05-06</td>\n",
              "      <td>ConsolationNo8</td>\n",
              "      <td>7227</td>\n",
              "    </tr>\n",
              "    <tr>\n",
              "      <th>12</th>\n",
              "      <td>40792</td>\n",
              "      <td>1992-05-06</td>\n",
              "      <td>ConsolationNo9</td>\n",
              "      <td>9258</td>\n",
              "    </tr>\n",
              "    <tr>\n",
              "      <th>13</th>\n",
              "      <td>40792</td>\n",
              "      <td>1992-05-06</td>\n",
              "      <td>SpecialNo1</td>\n",
              "      <td>950</td>\n",
              "    </tr>\n",
              "    <tr>\n",
              "      <th>14</th>\n",
              "      <td>40792</td>\n",
              "      <td>1992-05-06</td>\n",
              "      <td>SpecialNo10</td>\n",
              "      <td>5301</td>\n",
              "    </tr>\n",
              "    <tr>\n",
              "      <th>15</th>\n",
              "      <td>40792</td>\n",
              "      <td>1992-05-06</td>\n",
              "      <td>SpecialNo2</td>\n",
              "      <td>2479</td>\n",
              "    </tr>\n",
              "    <tr>\n",
              "      <th>16</th>\n",
              "      <td>40792</td>\n",
              "      <td>1992-05-06</td>\n",
              "      <td>SpecialNo3</td>\n",
              "      <td>7139</td>\n",
              "    </tr>\n",
              "    <tr>\n",
              "      <th>17</th>\n",
              "      <td>40792</td>\n",
              "      <td>1992-05-06</td>\n",
              "      <td>SpecialNo4</td>\n",
              "      <td>3114</td>\n",
              "    </tr>\n",
              "    <tr>\n",
              "      <th>18</th>\n",
              "      <td>40792</td>\n",
              "      <td>1992-05-06</td>\n",
              "      <td>SpecialNo5</td>\n",
              "      <td>4609</td>\n",
              "    </tr>\n",
              "    <tr>\n",
              "      <th>19</th>\n",
              "      <td>40792</td>\n",
              "      <td>1992-05-06</td>\n",
              "      <td>SpecialNo6</td>\n",
              "      <td>7836</td>\n",
              "    </tr>\n",
              "    <tr>\n",
              "      <th>20</th>\n",
              "      <td>40792</td>\n",
              "      <td>1992-05-06</td>\n",
              "      <td>SpecialNo7</td>\n",
              "      <td>8981</td>\n",
              "    </tr>\n",
              "    <tr>\n",
              "      <th>21</th>\n",
              "      <td>40792</td>\n",
              "      <td>1992-05-06</td>\n",
              "      <td>SpecialNo8</td>\n",
              "      <td>4465</td>\n",
              "    </tr>\n",
              "    <tr>\n",
              "      <th>22</th>\n",
              "      <td>40792</td>\n",
              "      <td>1992-05-06</td>\n",
              "      <td>SpecialNo9</td>\n",
              "      <td>6114</td>\n",
              "    </tr>\n",
              "  </tbody>\n",
              "</table>\n",
              "</div>"
            ],
            "text/plain": [
              "    DrawNo   DrawDate        PrizeType  LuckyNo\n",
              "0    40792 1992-05-06       1stPrizeNo       19\n",
              "1    40792 1992-05-06       2ndPrizeNo     1124\n",
              "2    40792 1992-05-06       3rdPrizeNo      592\n",
              "3    40792 1992-05-06   ConsolationNo1     5311\n",
              "4    40792 1992-05-06  ConsolationNo10      407\n",
              "5    40792 1992-05-06   ConsolationNo2     1949\n",
              "6    40792 1992-05-06   ConsolationNo3     1606\n",
              "7    40792 1992-05-06   ConsolationNo4     3775\n",
              "8    40792 1992-05-06   ConsolationNo5     6226\n",
              "9    40792 1992-05-06   ConsolationNo6     1271\n",
              "10   40792 1992-05-06   ConsolationNo7     7455\n",
              "11   40792 1992-05-06   ConsolationNo8     7227\n",
              "12   40792 1992-05-06   ConsolationNo9     9258\n",
              "13   40792 1992-05-06       SpecialNo1      950\n",
              "14   40792 1992-05-06      SpecialNo10     5301\n",
              "15   40792 1992-05-06       SpecialNo2     2479\n",
              "16   40792 1992-05-06       SpecialNo3     7139\n",
              "17   40792 1992-05-06       SpecialNo4     3114\n",
              "18   40792 1992-05-06       SpecialNo5     4609\n",
              "19   40792 1992-05-06       SpecialNo6     7836\n",
              "20   40792 1992-05-06       SpecialNo7     8981\n",
              "21   40792 1992-05-06       SpecialNo8     4465\n",
              "22   40792 1992-05-06       SpecialNo9     6114"
            ]
          },
          "metadata": {
            "tags": []
          },
          "execution_count": 16
        }
      ]
    },
    {
      "cell_type": "code",
      "metadata": {
        "colab_type": "code",
        "id": "EISQP-uNcwar",
        "outputId": "b4fee67c-d12e-46e3-ce38-8d920e4d14cc",
        "colab": {
          "base_uri": "https://localhost:8080/",
          "height": 549
        }
      },
      "source": [
        "# Split the date into year, month, day, day of week\n",
        "# df_transformed[\"DrawYear\"] = pd.DatetimeIndex(df_transformed[\"DrawDate\"]).year\n",
        "# df_transformed[\"DrawMonth\"] = pd.DatetimeIndex(df_transformed[\"DrawDate\"]).month\n",
        "# df_transformed[\"DrawDay\"] = pd.DatetimeIndex(df_transformed[\"DrawDate\"]).day\n",
        "# df_transformed[\"DrawDayOfYear\"] = pd.DatetimeIndex(df_transformed[\"DrawDate\"]).dayofyear\n",
        "# df_transformed[\"DrawDayOfWeek\"] = pd.DatetimeIndex(df_transformed[\"DrawDate\"]).dayofweek\n",
        "# df_transformed[\"DrawWeekDay\"] = pd.DatetimeIndex(df_transformed[\"DrawDate\"]).weekday\n",
        "# df_transformed[\"DrawWeekOfYear\"] = pd.DatetimeIndex(df_transformed[\"DrawDate\"]).weekofyear\n",
        "# df_transformed[\"DrawQuarter\"] = pd.DatetimeIndex(df_transformed[\"DrawDate\"]).quarter\n",
        "df_processed = df_transposed.copy()\n",
        "add_datepart(df_processed, 'DrawDate', drop=False)\n",
        "df_processed.head(10)"
      ],
      "execution_count": 17,
      "outputs": [
        {
          "output_type": "execute_result",
          "data": {
            "application/vnd.dataresource+json": {
              "data": [
                {
                  "index": 0,
                  "DrawIs_quarter_start": false,
                  "DrawIs_year_start": false,
                  "DrawIs_month_start": false,
                  "DrawDayofweek": 2,
                  "LuckyNo": 19,
                  "DrawIs_month_end": false,
                  "DrawNo": 40792,
                  "PrizeType": "1stPrizeNo",
                  "DrawWeek": 19,
                  "DrawMonth": 5,
                  "DrawDayofyear": 127,
                  "DrawDay": 6,
                  "DrawDate": "1992-05-06T00:00:00.000Z",
                  "DrawIs_quarter_end": false,
                  "DrawIs_year_end": false,
                  "DrawYear": 1992,
                  "DrawElapsed": 705110400
                },
                {
                  "index": 1,
                  "DrawIs_quarter_start": false,
                  "DrawIs_year_start": false,
                  "DrawIs_month_start": false,
                  "DrawDayofweek": 2,
                  "LuckyNo": 1124,
                  "DrawIs_month_end": false,
                  "DrawNo": 40792,
                  "PrizeType": "2ndPrizeNo",
                  "DrawWeek": 19,
                  "DrawMonth": 5,
                  "DrawDayofyear": 127,
                  "DrawDay": 6,
                  "DrawDate": "1992-05-06T00:00:00.000Z",
                  "DrawIs_quarter_end": false,
                  "DrawIs_year_end": false,
                  "DrawYear": 1992,
                  "DrawElapsed": 705110400
                },
                {
                  "index": 2,
                  "DrawIs_quarter_start": false,
                  "DrawIs_year_start": false,
                  "DrawIs_month_start": false,
                  "DrawDayofweek": 2,
                  "LuckyNo": 592,
                  "DrawIs_month_end": false,
                  "DrawNo": 40792,
                  "PrizeType": "3rdPrizeNo",
                  "DrawWeek": 19,
                  "DrawMonth": 5,
                  "DrawDayofyear": 127,
                  "DrawDay": 6,
                  "DrawDate": "1992-05-06T00:00:00.000Z",
                  "DrawIs_quarter_end": false,
                  "DrawIs_year_end": false,
                  "DrawYear": 1992,
                  "DrawElapsed": 705110400
                },
                {
                  "index": 3,
                  "DrawIs_quarter_start": false,
                  "DrawIs_year_start": false,
                  "DrawIs_month_start": false,
                  "DrawDayofweek": 2,
                  "LuckyNo": 5311,
                  "DrawIs_month_end": false,
                  "DrawNo": 40792,
                  "PrizeType": "ConsolationNo1",
                  "DrawWeek": 19,
                  "DrawMonth": 5,
                  "DrawDayofyear": 127,
                  "DrawDay": 6,
                  "DrawDate": "1992-05-06T00:00:00.000Z",
                  "DrawIs_quarter_end": false,
                  "DrawIs_year_end": false,
                  "DrawYear": 1992,
                  "DrawElapsed": 705110400
                },
                {
                  "index": 4,
                  "DrawIs_quarter_start": false,
                  "DrawIs_year_start": false,
                  "DrawIs_month_start": false,
                  "DrawDayofweek": 2,
                  "LuckyNo": 407,
                  "DrawIs_month_end": false,
                  "DrawNo": 40792,
                  "PrizeType": "ConsolationNo10",
                  "DrawWeek": 19,
                  "DrawMonth": 5,
                  "DrawDayofyear": 127,
                  "DrawDay": 6,
                  "DrawDate": "1992-05-06T00:00:00.000Z",
                  "DrawIs_quarter_end": false,
                  "DrawIs_year_end": false,
                  "DrawYear": 1992,
                  "DrawElapsed": 705110400
                },
                {
                  "index": 5,
                  "DrawIs_quarter_start": false,
                  "DrawIs_year_start": false,
                  "DrawIs_month_start": false,
                  "DrawDayofweek": 2,
                  "LuckyNo": 1949,
                  "DrawIs_month_end": false,
                  "DrawNo": 40792,
                  "PrizeType": "ConsolationNo2",
                  "DrawWeek": 19,
                  "DrawMonth": 5,
                  "DrawDayofyear": 127,
                  "DrawDay": 6,
                  "DrawDate": "1992-05-06T00:00:00.000Z",
                  "DrawIs_quarter_end": false,
                  "DrawIs_year_end": false,
                  "DrawYear": 1992,
                  "DrawElapsed": 705110400
                },
                {
                  "index": 6,
                  "DrawIs_quarter_start": false,
                  "DrawIs_year_start": false,
                  "DrawIs_month_start": false,
                  "DrawDayofweek": 2,
                  "LuckyNo": 1606,
                  "DrawIs_month_end": false,
                  "DrawNo": 40792,
                  "PrizeType": "ConsolationNo3",
                  "DrawWeek": 19,
                  "DrawMonth": 5,
                  "DrawDayofyear": 127,
                  "DrawDay": 6,
                  "DrawDate": "1992-05-06T00:00:00.000Z",
                  "DrawIs_quarter_end": false,
                  "DrawIs_year_end": false,
                  "DrawYear": 1992,
                  "DrawElapsed": 705110400
                },
                {
                  "index": 7,
                  "DrawIs_quarter_start": false,
                  "DrawIs_year_start": false,
                  "DrawIs_month_start": false,
                  "DrawDayofweek": 2,
                  "LuckyNo": 3775,
                  "DrawIs_month_end": false,
                  "DrawNo": 40792,
                  "PrizeType": "ConsolationNo4",
                  "DrawWeek": 19,
                  "DrawMonth": 5,
                  "DrawDayofyear": 127,
                  "DrawDay": 6,
                  "DrawDate": "1992-05-06T00:00:00.000Z",
                  "DrawIs_quarter_end": false,
                  "DrawIs_year_end": false,
                  "DrawYear": 1992,
                  "DrawElapsed": 705110400
                },
                {
                  "index": 8,
                  "DrawIs_quarter_start": false,
                  "DrawIs_year_start": false,
                  "DrawIs_month_start": false,
                  "DrawDayofweek": 2,
                  "LuckyNo": 6226,
                  "DrawIs_month_end": false,
                  "DrawNo": 40792,
                  "PrizeType": "ConsolationNo5",
                  "DrawWeek": 19,
                  "DrawMonth": 5,
                  "DrawDayofyear": 127,
                  "DrawDay": 6,
                  "DrawDate": "1992-05-06T00:00:00.000Z",
                  "DrawIs_quarter_end": false,
                  "DrawIs_year_end": false,
                  "DrawYear": 1992,
                  "DrawElapsed": 705110400
                },
                {
                  "index": 9,
                  "DrawIs_quarter_start": false,
                  "DrawIs_year_start": false,
                  "DrawIs_month_start": false,
                  "DrawDayofweek": 2,
                  "LuckyNo": 1271,
                  "DrawIs_month_end": false,
                  "DrawNo": 40792,
                  "PrizeType": "ConsolationNo6",
                  "DrawWeek": 19,
                  "DrawMonth": 5,
                  "DrawDayofyear": 127,
                  "DrawDay": 6,
                  "DrawDate": "1992-05-06T00:00:00.000Z",
                  "DrawIs_quarter_end": false,
                  "DrawIs_year_end": false,
                  "DrawYear": 1992,
                  "DrawElapsed": 705110400
                }
              ],
              "schema": {
                "fields": [
                  {
                    "type": "integer",
                    "name": "index"
                  },
                  {
                    "type": "integer",
                    "name": "DrawNo"
                  },
                  {
                    "type": "datetime",
                    "name": "DrawDate"
                  },
                  {
                    "type": "string",
                    "name": "PrizeType"
                  },
                  {
                    "type": "integer",
                    "name": "LuckyNo"
                  },
                  {
                    "type": "integer",
                    "name": "DrawYear"
                  },
                  {
                    "type": "integer",
                    "name": "DrawMonth"
                  },
                  {
                    "type": "integer",
                    "name": "DrawWeek"
                  },
                  {
                    "type": "integer",
                    "name": "DrawDay"
                  },
                  {
                    "type": "integer",
                    "name": "DrawDayofweek"
                  },
                  {
                    "type": "integer",
                    "name": "DrawDayofyear"
                  },
                  {
                    "type": "boolean",
                    "name": "DrawIs_month_end"
                  },
                  {
                    "type": "boolean",
                    "name": "DrawIs_month_start"
                  },
                  {
                    "type": "boolean",
                    "name": "DrawIs_quarter_end"
                  },
                  {
                    "type": "boolean",
                    "name": "DrawIs_quarter_start"
                  },
                  {
                    "type": "boolean",
                    "name": "DrawIs_year_end"
                  },
                  {
                    "type": "boolean",
                    "name": "DrawIs_year_start"
                  },
                  {
                    "type": "integer",
                    "name": "DrawElapsed"
                  }
                ],
                "pandas_version": "0.20.0",
                "primaryKey": [
                  "index"
                ]
              }
            },
            "text/html": [
              "<div>\n",
              "<style scoped>\n",
              "    .dataframe tbody tr th:only-of-type {\n",
              "        vertical-align: middle;\n",
              "    }\n",
              "\n",
              "    .dataframe tbody tr th {\n",
              "        vertical-align: top;\n",
              "    }\n",
              "\n",
              "    .dataframe thead th {\n",
              "        text-align: right;\n",
              "    }\n",
              "</style>\n",
              "<table border=\"1\" class=\"dataframe\">\n",
              "  <thead>\n",
              "    <tr style=\"text-align: right;\">\n",
              "      <th></th>\n",
              "      <th>DrawNo</th>\n",
              "      <th>DrawDate</th>\n",
              "      <th>PrizeType</th>\n",
              "      <th>LuckyNo</th>\n",
              "      <th>DrawYear</th>\n",
              "      <th>DrawMonth</th>\n",
              "      <th>DrawWeek</th>\n",
              "      <th>DrawDay</th>\n",
              "      <th>DrawDayofweek</th>\n",
              "      <th>DrawDayofyear</th>\n",
              "      <th>DrawIs_month_end</th>\n",
              "      <th>DrawIs_month_start</th>\n",
              "      <th>DrawIs_quarter_end</th>\n",
              "      <th>DrawIs_quarter_start</th>\n",
              "      <th>DrawIs_year_end</th>\n",
              "      <th>DrawIs_year_start</th>\n",
              "      <th>DrawElapsed</th>\n",
              "    </tr>\n",
              "  </thead>\n",
              "  <tbody>\n",
              "    <tr>\n",
              "      <th>0</th>\n",
              "      <td>40792</td>\n",
              "      <td>1992-05-06</td>\n",
              "      <td>1stPrizeNo</td>\n",
              "      <td>19</td>\n",
              "      <td>1992</td>\n",
              "      <td>5</td>\n",
              "      <td>19</td>\n",
              "      <td>6</td>\n",
              "      <td>2</td>\n",
              "      <td>127</td>\n",
              "      <td>False</td>\n",
              "      <td>False</td>\n",
              "      <td>False</td>\n",
              "      <td>False</td>\n",
              "      <td>False</td>\n",
              "      <td>False</td>\n",
              "      <td>705110400</td>\n",
              "    </tr>\n",
              "    <tr>\n",
              "      <th>1</th>\n",
              "      <td>40792</td>\n",
              "      <td>1992-05-06</td>\n",
              "      <td>2ndPrizeNo</td>\n",
              "      <td>1124</td>\n",
              "      <td>1992</td>\n",
              "      <td>5</td>\n",
              "      <td>19</td>\n",
              "      <td>6</td>\n",
              "      <td>2</td>\n",
              "      <td>127</td>\n",
              "      <td>False</td>\n",
              "      <td>False</td>\n",
              "      <td>False</td>\n",
              "      <td>False</td>\n",
              "      <td>False</td>\n",
              "      <td>False</td>\n",
              "      <td>705110400</td>\n",
              "    </tr>\n",
              "    <tr>\n",
              "      <th>2</th>\n",
              "      <td>40792</td>\n",
              "      <td>1992-05-06</td>\n",
              "      <td>3rdPrizeNo</td>\n",
              "      <td>592</td>\n",
              "      <td>1992</td>\n",
              "      <td>5</td>\n",
              "      <td>19</td>\n",
              "      <td>6</td>\n",
              "      <td>2</td>\n",
              "      <td>127</td>\n",
              "      <td>False</td>\n",
              "      <td>False</td>\n",
              "      <td>False</td>\n",
              "      <td>False</td>\n",
              "      <td>False</td>\n",
              "      <td>False</td>\n",
              "      <td>705110400</td>\n",
              "    </tr>\n",
              "    <tr>\n",
              "      <th>3</th>\n",
              "      <td>40792</td>\n",
              "      <td>1992-05-06</td>\n",
              "      <td>ConsolationNo1</td>\n",
              "      <td>5311</td>\n",
              "      <td>1992</td>\n",
              "      <td>5</td>\n",
              "      <td>19</td>\n",
              "      <td>6</td>\n",
              "      <td>2</td>\n",
              "      <td>127</td>\n",
              "      <td>False</td>\n",
              "      <td>False</td>\n",
              "      <td>False</td>\n",
              "      <td>False</td>\n",
              "      <td>False</td>\n",
              "      <td>False</td>\n",
              "      <td>705110400</td>\n",
              "    </tr>\n",
              "    <tr>\n",
              "      <th>4</th>\n",
              "      <td>40792</td>\n",
              "      <td>1992-05-06</td>\n",
              "      <td>ConsolationNo10</td>\n",
              "      <td>407</td>\n",
              "      <td>1992</td>\n",
              "      <td>5</td>\n",
              "      <td>19</td>\n",
              "      <td>6</td>\n",
              "      <td>2</td>\n",
              "      <td>127</td>\n",
              "      <td>False</td>\n",
              "      <td>False</td>\n",
              "      <td>False</td>\n",
              "      <td>False</td>\n",
              "      <td>False</td>\n",
              "      <td>False</td>\n",
              "      <td>705110400</td>\n",
              "    </tr>\n",
              "    <tr>\n",
              "      <th>5</th>\n",
              "      <td>40792</td>\n",
              "      <td>1992-05-06</td>\n",
              "      <td>ConsolationNo2</td>\n",
              "      <td>1949</td>\n",
              "      <td>1992</td>\n",
              "      <td>5</td>\n",
              "      <td>19</td>\n",
              "      <td>6</td>\n",
              "      <td>2</td>\n",
              "      <td>127</td>\n",
              "      <td>False</td>\n",
              "      <td>False</td>\n",
              "      <td>False</td>\n",
              "      <td>False</td>\n",
              "      <td>False</td>\n",
              "      <td>False</td>\n",
              "      <td>705110400</td>\n",
              "    </tr>\n",
              "    <tr>\n",
              "      <th>6</th>\n",
              "      <td>40792</td>\n",
              "      <td>1992-05-06</td>\n",
              "      <td>ConsolationNo3</td>\n",
              "      <td>1606</td>\n",
              "      <td>1992</td>\n",
              "      <td>5</td>\n",
              "      <td>19</td>\n",
              "      <td>6</td>\n",
              "      <td>2</td>\n",
              "      <td>127</td>\n",
              "      <td>False</td>\n",
              "      <td>False</td>\n",
              "      <td>False</td>\n",
              "      <td>False</td>\n",
              "      <td>False</td>\n",
              "      <td>False</td>\n",
              "      <td>705110400</td>\n",
              "    </tr>\n",
              "    <tr>\n",
              "      <th>7</th>\n",
              "      <td>40792</td>\n",
              "      <td>1992-05-06</td>\n",
              "      <td>ConsolationNo4</td>\n",
              "      <td>3775</td>\n",
              "      <td>1992</td>\n",
              "      <td>5</td>\n",
              "      <td>19</td>\n",
              "      <td>6</td>\n",
              "      <td>2</td>\n",
              "      <td>127</td>\n",
              "      <td>False</td>\n",
              "      <td>False</td>\n",
              "      <td>False</td>\n",
              "      <td>False</td>\n",
              "      <td>False</td>\n",
              "      <td>False</td>\n",
              "      <td>705110400</td>\n",
              "    </tr>\n",
              "    <tr>\n",
              "      <th>8</th>\n",
              "      <td>40792</td>\n",
              "      <td>1992-05-06</td>\n",
              "      <td>ConsolationNo5</td>\n",
              "      <td>6226</td>\n",
              "      <td>1992</td>\n",
              "      <td>5</td>\n",
              "      <td>19</td>\n",
              "      <td>6</td>\n",
              "      <td>2</td>\n",
              "      <td>127</td>\n",
              "      <td>False</td>\n",
              "      <td>False</td>\n",
              "      <td>False</td>\n",
              "      <td>False</td>\n",
              "      <td>False</td>\n",
              "      <td>False</td>\n",
              "      <td>705110400</td>\n",
              "    </tr>\n",
              "    <tr>\n",
              "      <th>9</th>\n",
              "      <td>40792</td>\n",
              "      <td>1992-05-06</td>\n",
              "      <td>ConsolationNo6</td>\n",
              "      <td>1271</td>\n",
              "      <td>1992</td>\n",
              "      <td>5</td>\n",
              "      <td>19</td>\n",
              "      <td>6</td>\n",
              "      <td>2</td>\n",
              "      <td>127</td>\n",
              "      <td>False</td>\n",
              "      <td>False</td>\n",
              "      <td>False</td>\n",
              "      <td>False</td>\n",
              "      <td>False</td>\n",
              "      <td>False</td>\n",
              "      <td>705110400</td>\n",
              "    </tr>\n",
              "  </tbody>\n",
              "</table>\n",
              "</div>"
            ],
            "text/plain": [
              "   DrawNo   DrawDate        PrizeType  LuckyNo  DrawYear  DrawMonth  DrawWeek  \\\n",
              "0   40792 1992-05-06       1stPrizeNo       19      1992          5        19   \n",
              "1   40792 1992-05-06       2ndPrizeNo     1124      1992          5        19   \n",
              "2   40792 1992-05-06       3rdPrizeNo      592      1992          5        19   \n",
              "3   40792 1992-05-06   ConsolationNo1     5311      1992          5        19   \n",
              "4   40792 1992-05-06  ConsolationNo10      407      1992          5        19   \n",
              "5   40792 1992-05-06   ConsolationNo2     1949      1992          5        19   \n",
              "6   40792 1992-05-06   ConsolationNo3     1606      1992          5        19   \n",
              "7   40792 1992-05-06   ConsolationNo4     3775      1992          5        19   \n",
              "8   40792 1992-05-06   ConsolationNo5     6226      1992          5        19   \n",
              "9   40792 1992-05-06   ConsolationNo6     1271      1992          5        19   \n",
              "\n",
              "   DrawDay  DrawDayofweek  DrawDayofyear  DrawIs_month_end  \\\n",
              "0        6              2            127             False   \n",
              "1        6              2            127             False   \n",
              "2        6              2            127             False   \n",
              "3        6              2            127             False   \n",
              "4        6              2            127             False   \n",
              "5        6              2            127             False   \n",
              "6        6              2            127             False   \n",
              "7        6              2            127             False   \n",
              "8        6              2            127             False   \n",
              "9        6              2            127             False   \n",
              "\n",
              "   DrawIs_month_start  DrawIs_quarter_end  DrawIs_quarter_start  \\\n",
              "0               False               False                 False   \n",
              "1               False               False                 False   \n",
              "2               False               False                 False   \n",
              "3               False               False                 False   \n",
              "4               False               False                 False   \n",
              "5               False               False                 False   \n",
              "6               False               False                 False   \n",
              "7               False               False                 False   \n",
              "8               False               False                 False   \n",
              "9               False               False                 False   \n",
              "\n",
              "   DrawIs_year_end  DrawIs_year_start  DrawElapsed  \n",
              "0            False              False    705110400  \n",
              "1            False              False    705110400  \n",
              "2            False              False    705110400  \n",
              "3            False              False    705110400  \n",
              "4            False              False    705110400  \n",
              "5            False              False    705110400  \n",
              "6            False              False    705110400  \n",
              "7            False              False    705110400  \n",
              "8            False              False    705110400  \n",
              "9            False              False    705110400  "
            ]
          },
          "metadata": {
            "tags": []
          },
          "execution_count": 17
        }
      ]
    },
    {
      "cell_type": "markdown",
      "metadata": {
        "id": "14T0QDkkJRhc",
        "colab_type": "text"
      },
      "source": [
        "### Field Variables"
      ]
    },
    {
      "cell_type": "code",
      "metadata": {
        "id": "WbUfHTt9JRhd",
        "colab_type": "code",
        "colab": {}
      },
      "source": [
        "# Outcome to predict\n",
        "dep_var = \"LuckyNo\""
      ],
      "execution_count": 0,
      "outputs": []
    },
    {
      "cell_type": "markdown",
      "metadata": {
        "colab_type": "text",
        "id": "tIfpzBPOcwaz"
      },
      "source": [
        "### Train and Validation Split"
      ]
    },
    {
      "cell_type": "code",
      "metadata": {
        "colab_type": "code",
        "id": "migCiR94cwa1",
        "outputId": "56e9831d-51a6-4e68-eab6-9bb33b3b599a",
        "colab": {
          "base_uri": "https://localhost:8080/",
          "height": 34
        }
      },
      "source": [
        "n = len(df_processed); n"
      ],
      "execution_count": 19,
      "outputs": [
        {
          "output_type": "execute_result",
          "data": {
            "text/plain": [
              "104305"
            ]
          },
          "metadata": {
            "tags": []
          },
          "execution_count": 19
        }
      ]
    },
    {
      "cell_type": "code",
      "metadata": {
        "colab_type": "code",
        "id": "BvVWP2DtrN9Z",
        "colab": {
          "base_uri": "https://localhost:8080/",
          "height": 51
        },
        "outputId": "d43c8cd0-2f18-47b8-aeef-60058ab1fd84"
      },
      "source": [
        "from sklearn.model_selection import train_test_split\n",
        "\n",
        "X = df_processed.copy()\n",
        "y = X[dep_var]; \n",
        "print(len(X))\n",
        "print(len(y))"
      ],
      "execution_count": 20,
      "outputs": [
        {
          "output_type": "stream",
          "text": [
            "104305\n",
            "104305\n"
          ],
          "name": "stdout"
        }
      ]
    },
    {
      "cell_type": "code",
      "metadata": {
        "id": "57qAI7kvJRhp",
        "colab_type": "code",
        "colab": {
          "base_uri": "https://localhost:8080/",
          "height": 117
        },
        "outputId": "756d6362-cf98-42f9-dd79-81edfabb83e4"
      },
      "source": [
        "X.drop([dep_var], inplace=True, axis=1)\n",
        "X.head(1)"
      ],
      "execution_count": 21,
      "outputs": [
        {
          "output_type": "execute_result",
          "data": {
            "application/vnd.dataresource+json": {
              "data": [
                {
                  "index": 0,
                  "DrawIs_quarter_start": false,
                  "DrawIs_month_start": false,
                  "DrawDayofweek": 2,
                  "DrawIs_year_start": false,
                  "DrawIs_month_end": false,
                  "DrawNo": 40792,
                  "PrizeType": "1stPrizeNo",
                  "DrawWeek": 19,
                  "DrawMonth": 5,
                  "DrawDayofyear": 127,
                  "DrawDay": 6,
                  "DrawDate": "1992-05-06T00:00:00.000Z",
                  "DrawIs_quarter_end": false,
                  "DrawIs_year_end": false,
                  "DrawYear": 1992,
                  "DrawElapsed": 705110400
                }
              ],
              "schema": {
                "fields": [
                  {
                    "type": "integer",
                    "name": "index"
                  },
                  {
                    "type": "integer",
                    "name": "DrawNo"
                  },
                  {
                    "type": "datetime",
                    "name": "DrawDate"
                  },
                  {
                    "type": "string",
                    "name": "PrizeType"
                  },
                  {
                    "type": "integer",
                    "name": "DrawYear"
                  },
                  {
                    "type": "integer",
                    "name": "DrawMonth"
                  },
                  {
                    "type": "integer",
                    "name": "DrawWeek"
                  },
                  {
                    "type": "integer",
                    "name": "DrawDay"
                  },
                  {
                    "type": "integer",
                    "name": "DrawDayofweek"
                  },
                  {
                    "type": "integer",
                    "name": "DrawDayofyear"
                  },
                  {
                    "type": "boolean",
                    "name": "DrawIs_month_end"
                  },
                  {
                    "type": "boolean",
                    "name": "DrawIs_month_start"
                  },
                  {
                    "type": "boolean",
                    "name": "DrawIs_quarter_end"
                  },
                  {
                    "type": "boolean",
                    "name": "DrawIs_quarter_start"
                  },
                  {
                    "type": "boolean",
                    "name": "DrawIs_year_end"
                  },
                  {
                    "type": "boolean",
                    "name": "DrawIs_year_start"
                  },
                  {
                    "type": "integer",
                    "name": "DrawElapsed"
                  }
                ],
                "pandas_version": "0.20.0",
                "primaryKey": [
                  "index"
                ]
              }
            },
            "text/html": [
              "<div>\n",
              "<style scoped>\n",
              "    .dataframe tbody tr th:only-of-type {\n",
              "        vertical-align: middle;\n",
              "    }\n",
              "\n",
              "    .dataframe tbody tr th {\n",
              "        vertical-align: top;\n",
              "    }\n",
              "\n",
              "    .dataframe thead th {\n",
              "        text-align: right;\n",
              "    }\n",
              "</style>\n",
              "<table border=\"1\" class=\"dataframe\">\n",
              "  <thead>\n",
              "    <tr style=\"text-align: right;\">\n",
              "      <th></th>\n",
              "      <th>DrawNo</th>\n",
              "      <th>DrawDate</th>\n",
              "      <th>PrizeType</th>\n",
              "      <th>DrawYear</th>\n",
              "      <th>DrawMonth</th>\n",
              "      <th>DrawWeek</th>\n",
              "      <th>DrawDay</th>\n",
              "      <th>DrawDayofweek</th>\n",
              "      <th>DrawDayofyear</th>\n",
              "      <th>DrawIs_month_end</th>\n",
              "      <th>DrawIs_month_start</th>\n",
              "      <th>DrawIs_quarter_end</th>\n",
              "      <th>DrawIs_quarter_start</th>\n",
              "      <th>DrawIs_year_end</th>\n",
              "      <th>DrawIs_year_start</th>\n",
              "      <th>DrawElapsed</th>\n",
              "    </tr>\n",
              "  </thead>\n",
              "  <tbody>\n",
              "    <tr>\n",
              "      <th>0</th>\n",
              "      <td>40792</td>\n",
              "      <td>1992-05-06</td>\n",
              "      <td>1stPrizeNo</td>\n",
              "      <td>1992</td>\n",
              "      <td>5</td>\n",
              "      <td>19</td>\n",
              "      <td>6</td>\n",
              "      <td>2</td>\n",
              "      <td>127</td>\n",
              "      <td>False</td>\n",
              "      <td>False</td>\n",
              "      <td>False</td>\n",
              "      <td>False</td>\n",
              "      <td>False</td>\n",
              "      <td>False</td>\n",
              "      <td>705110400</td>\n",
              "    </tr>\n",
              "  </tbody>\n",
              "</table>\n",
              "</div>"
            ],
            "text/plain": [
              "   DrawNo   DrawDate   PrizeType  DrawYear  DrawMonth  DrawWeek  DrawDay  \\\n",
              "0   40792 1992-05-06  1stPrizeNo      1992          5        19        6   \n",
              "\n",
              "   DrawDayofweek  DrawDayofyear  DrawIs_month_end  DrawIs_month_start  \\\n",
              "0              2            127             False               False   \n",
              "\n",
              "   DrawIs_quarter_end  DrawIs_quarter_start  DrawIs_year_end  \\\n",
              "0               False                 False            False   \n",
              "\n",
              "   DrawIs_year_start  DrawElapsed  \n",
              "0              False    705110400  "
            ]
          },
          "metadata": {
            "tags": []
          },
          "execution_count": 21
        }
      ]
    },
    {
      "cell_type": "code",
      "metadata": {
        "id": "GZI30urJJRhr",
        "colab_type": "code",
        "colab": {}
      },
      "source": [
        "X_train, X_test, y_train, y_test = train_test_split(X, y, test_size=0.3, random_state=42)"
      ],
      "execution_count": 0,
      "outputs": []
    },
    {
      "cell_type": "code",
      "metadata": {
        "id": "H6HgX1BRJRht",
        "colab_type": "code",
        "colab": {
          "base_uri": "https://localhost:8080/",
          "height": 85
        },
        "outputId": "d66f3915-a4a3-4aeb-c939-75f904b0443f"
      },
      "source": [
        "print(len(X_train)); print(len(X_test)); print(len(y_train)); print(len(y_test))"
      ],
      "execution_count": 23,
      "outputs": [
        {
          "output_type": "stream",
          "text": [
            "73013\n",
            "31292\n",
            "73013\n",
            "31292\n"
          ],
          "name": "stdout"
        }
      ]
    },
    {
      "cell_type": "markdown",
      "metadata": {
        "id": "Zj1_wEzXJRhw",
        "colab_type": "text"
      },
      "source": [
        "### Assignment"
      ]
    },
    {
      "cell_type": "code",
      "metadata": {
        "colab_type": "code",
        "id": "OzquwRh6rNr5",
        "colab": {}
      },
      "source": [
        "train_df = df_processed"
      ],
      "execution_count": 0,
      "outputs": []
    },
    {
      "cell_type": "markdown",
      "metadata": {
        "colab_type": "text",
        "id": "o8-_uHW0waOU"
      },
      "source": [
        "## Experiment with a sample"
      ]
    },
    {
      "cell_type": "code",
      "metadata": {
        "colab_type": "code",
        "id": "9dm_l8Xqs6yq",
        "outputId": "1c8e62c3-27e8-441e-d0b2-9905e96a0b69",
        "colab": {
          "base_uri": "https://localhost:8080/",
          "height": 391
        }
      },
      "source": [
        "train_df.info()"
      ],
      "execution_count": 25,
      "outputs": [
        {
          "output_type": "stream",
          "text": [
            "<class 'pandas.core.frame.DataFrame'>\n",
            "RangeIndex: 104305 entries, 0 to 104304\n",
            "Data columns (total 17 columns):\n",
            "DrawNo                  104305 non-null int64\n",
            "DrawDate                104305 non-null datetime64[ns]\n",
            "PrizeType               104305 non-null object\n",
            "LuckyNo                 104305 non-null int64\n",
            "DrawYear                104305 non-null int64\n",
            "DrawMonth               104305 non-null int64\n",
            "DrawWeek                104305 non-null int64\n",
            "DrawDay                 104305 non-null int64\n",
            "DrawDayofweek           104305 non-null int64\n",
            "DrawDayofyear           104305 non-null int64\n",
            "DrawIs_month_end        104305 non-null bool\n",
            "DrawIs_month_start      104305 non-null bool\n",
            "DrawIs_quarter_end      104305 non-null bool\n",
            "DrawIs_quarter_start    104305 non-null bool\n",
            "DrawIs_year_end         104305 non-null bool\n",
            "DrawIs_year_start       104305 non-null bool\n",
            "DrawElapsed             104305 non-null int64\n",
            "dtypes: bool(6), datetime64[ns](1), int64(9), object(1)\n",
            "memory usage: 9.4+ MB\n"
          ],
          "name": "stdout"
        }
      ]
    },
    {
      "cell_type": "code",
      "metadata": {
        "colab_type": "code",
        "id": "nP6L7tltrM7U",
        "outputId": "0f4b129c-d180-41dc-931e-473ca589d962",
        "colab": {
          "base_uri": "https://localhost:8080/",
          "height": 68
        }
      },
      "source": [
        "idx = np.random.permutation(range(n))[:6000]\n",
        "print(n)\n",
        "print(len(idx))\n",
        "\n",
        "idx.sort()\n",
        "print(idx)\n",
        "\n",
        "small_train_df = train_df.iloc[idx[:3000]]\n",
        "small_test_df = train_df.iloc[idx[3000:]]"
      ],
      "execution_count": 26,
      "outputs": [
        {
          "output_type": "stream",
          "text": [
            "104305\n",
            "6000\n",
            "[    35     87     97    114 ... 104229 104232 104258 104274]\n"
          ],
          "name": "stdout"
        }
      ]
    },
    {
      "cell_type": "code",
      "metadata": {
        "colab_type": "code",
        "id": "rfmvFeagrVBe",
        "colab": {}
      },
      "source": [
        "# Set continuous and categorical columns\n",
        "small_cont_vars = [\"DrawNo\", \"DrawElapsed\"]\n",
        "small_cat_vars = [\"PrizeType\", \"DrawYear\", \"DrawMonth\", \"DrawWeek\", \"DrawDay\", \"DrawDayofweek\", \n",
        "                  \"DrawDayofyear\",\"DrawIs_month_end\",\"DrawIs_month_start\", \"DrawIs_quarter_end\", \"DrawIs_quarter_start\", \"DrawIs_year_end\", \"DrawIs_year_start\"]"
      ],
      "execution_count": 0,
      "outputs": []
    },
    {
      "cell_type": "code",
      "metadata": {
        "colab_type": "code",
        "id": "Ff3NsGryuU2m",
        "colab": {}
      },
      "source": [
        "small_train_df = small_train_df[small_cat_vars + small_cont_vars + [dep_var]]\n",
        "small_test_df = small_test_df[small_cat_vars + small_cont_vars + [dep_var]]"
      ],
      "execution_count": 0,
      "outputs": []
    },
    {
      "cell_type": "code",
      "metadata": {
        "colab_type": "code",
        "id": "vraIDuPCur6N",
        "outputId": "19272c42-5286-4a11-802c-35f077de2d92",
        "colab": {
          "base_uri": "https://localhost:8080/",
          "height": 224
        }
      },
      "source": [
        "small_train_df.head(5)"
      ],
      "execution_count": 29,
      "outputs": [
        {
          "output_type": "execute_result",
          "data": {
            "application/vnd.dataresource+json": {
              "data": [
                {
                  "index": 35,
                  "DrawIs_quarter_start": false,
                  "DrawIs_month_start": false,
                  "DrawDayofweek": 3,
                  "DrawIs_year_start": false,
                  "DrawIs_month_end": false,
                  "DrawDayofyear": 128,
                  "PrizeType": "ConsolationNo9",
                  "DrawWeek": 19,
                  "LuckyNo": 4640,
                  "DrawMonth": 5,
                  "DrawNo": 40892,
                  "DrawDay": 7,
                  "DrawIs_quarter_end": false,
                  "DrawIs_year_end": false,
                  "DrawYear": 1992,
                  "DrawElapsed": 705196800
                },
                {
                  "index": 87,
                  "DrawIs_quarter_start": false,
                  "DrawIs_month_start": false,
                  "DrawDayofweek": 2,
                  "DrawIs_year_start": false,
                  "DrawIs_month_end": false,
                  "DrawDayofyear": 134,
                  "PrizeType": "SpecialNo5",
                  "DrawWeek": 20,
                  "LuckyNo": 6792,
                  "DrawMonth": 5,
                  "DrawNo": 41092,
                  "DrawDay": 13,
                  "DrawIs_quarter_end": false,
                  "DrawIs_year_end": false,
                  "DrawYear": 1992,
                  "DrawElapsed": 705715200
                },
                {
                  "index": 97,
                  "DrawIs_quarter_start": false,
                  "DrawIs_month_start": false,
                  "DrawDayofweek": 3,
                  "DrawIs_year_start": false,
                  "DrawIs_month_end": false,
                  "DrawDayofyear": 135,
                  "PrizeType": "ConsolationNo2",
                  "DrawWeek": 20,
                  "LuckyNo": 6817,
                  "DrawMonth": 5,
                  "DrawNo": 41192,
                  "DrawDay": 14,
                  "DrawIs_quarter_end": false,
                  "DrawIs_year_end": false,
                  "DrawYear": 1992,
                  "DrawElapsed": 705801600
                },
                {
                  "index": 114,
                  "DrawIs_quarter_start": false,
                  "DrawIs_month_start": false,
                  "DrawDayofweek": 3,
                  "DrawIs_year_start": false,
                  "DrawIs_month_end": false,
                  "DrawDayofyear": 135,
                  "PrizeType": "SpecialNo9",
                  "DrawWeek": 20,
                  "LuckyNo": 5664,
                  "DrawMonth": 5,
                  "DrawNo": 41192,
                  "DrawDay": 14,
                  "DrawIs_quarter_end": false,
                  "DrawIs_year_end": false,
                  "DrawYear": 1992,
                  "DrawElapsed": 705801600
                },
                {
                  "index": 127,
                  "DrawIs_quarter_start": false,
                  "DrawIs_month_start": false,
                  "DrawDayofweek": 6,
                  "DrawIs_year_start": false,
                  "DrawIs_month_end": false,
                  "DrawDayofyear": 138,
                  "PrizeType": "ConsolationNo9",
                  "DrawWeek": 20,
                  "LuckyNo": 3573,
                  "DrawMonth": 5,
                  "DrawNo": 41292,
                  "DrawDay": 17,
                  "DrawIs_quarter_end": false,
                  "DrawIs_year_end": false,
                  "DrawYear": 1992,
                  "DrawElapsed": 706060800
                }
              ],
              "schema": {
                "fields": [
                  {
                    "type": "integer",
                    "name": "index"
                  },
                  {
                    "type": "string",
                    "name": "PrizeType"
                  },
                  {
                    "type": "integer",
                    "name": "DrawYear"
                  },
                  {
                    "type": "integer",
                    "name": "DrawMonth"
                  },
                  {
                    "type": "integer",
                    "name": "DrawWeek"
                  },
                  {
                    "type": "integer",
                    "name": "DrawDay"
                  },
                  {
                    "type": "integer",
                    "name": "DrawDayofweek"
                  },
                  {
                    "type": "integer",
                    "name": "DrawDayofyear"
                  },
                  {
                    "type": "boolean",
                    "name": "DrawIs_month_end"
                  },
                  {
                    "type": "boolean",
                    "name": "DrawIs_month_start"
                  },
                  {
                    "type": "boolean",
                    "name": "DrawIs_quarter_end"
                  },
                  {
                    "type": "boolean",
                    "name": "DrawIs_quarter_start"
                  },
                  {
                    "type": "boolean",
                    "name": "DrawIs_year_end"
                  },
                  {
                    "type": "boolean",
                    "name": "DrawIs_year_start"
                  },
                  {
                    "type": "integer",
                    "name": "DrawNo"
                  },
                  {
                    "type": "integer",
                    "name": "DrawElapsed"
                  },
                  {
                    "type": "integer",
                    "name": "LuckyNo"
                  }
                ],
                "pandas_version": "0.20.0",
                "primaryKey": [
                  "index"
                ]
              }
            },
            "text/html": [
              "<div>\n",
              "<style scoped>\n",
              "    .dataframe tbody tr th:only-of-type {\n",
              "        vertical-align: middle;\n",
              "    }\n",
              "\n",
              "    .dataframe tbody tr th {\n",
              "        vertical-align: top;\n",
              "    }\n",
              "\n",
              "    .dataframe thead th {\n",
              "        text-align: right;\n",
              "    }\n",
              "</style>\n",
              "<table border=\"1\" class=\"dataframe\">\n",
              "  <thead>\n",
              "    <tr style=\"text-align: right;\">\n",
              "      <th></th>\n",
              "      <th>PrizeType</th>\n",
              "      <th>DrawYear</th>\n",
              "      <th>DrawMonth</th>\n",
              "      <th>DrawWeek</th>\n",
              "      <th>DrawDay</th>\n",
              "      <th>DrawDayofweek</th>\n",
              "      <th>DrawDayofyear</th>\n",
              "      <th>DrawIs_month_end</th>\n",
              "      <th>DrawIs_month_start</th>\n",
              "      <th>DrawIs_quarter_end</th>\n",
              "      <th>DrawIs_quarter_start</th>\n",
              "      <th>DrawIs_year_end</th>\n",
              "      <th>DrawIs_year_start</th>\n",
              "      <th>DrawNo</th>\n",
              "      <th>DrawElapsed</th>\n",
              "      <th>LuckyNo</th>\n",
              "    </tr>\n",
              "  </thead>\n",
              "  <tbody>\n",
              "    <tr>\n",
              "      <th>35</th>\n",
              "      <td>ConsolationNo9</td>\n",
              "      <td>1992</td>\n",
              "      <td>5</td>\n",
              "      <td>19</td>\n",
              "      <td>7</td>\n",
              "      <td>3</td>\n",
              "      <td>128</td>\n",
              "      <td>False</td>\n",
              "      <td>False</td>\n",
              "      <td>False</td>\n",
              "      <td>False</td>\n",
              "      <td>False</td>\n",
              "      <td>False</td>\n",
              "      <td>40892</td>\n",
              "      <td>705196800</td>\n",
              "      <td>4640</td>\n",
              "    </tr>\n",
              "    <tr>\n",
              "      <th>87</th>\n",
              "      <td>SpecialNo5</td>\n",
              "      <td>1992</td>\n",
              "      <td>5</td>\n",
              "      <td>20</td>\n",
              "      <td>13</td>\n",
              "      <td>2</td>\n",
              "      <td>134</td>\n",
              "      <td>False</td>\n",
              "      <td>False</td>\n",
              "      <td>False</td>\n",
              "      <td>False</td>\n",
              "      <td>False</td>\n",
              "      <td>False</td>\n",
              "      <td>41092</td>\n",
              "      <td>705715200</td>\n",
              "      <td>6792</td>\n",
              "    </tr>\n",
              "    <tr>\n",
              "      <th>97</th>\n",
              "      <td>ConsolationNo2</td>\n",
              "      <td>1992</td>\n",
              "      <td>5</td>\n",
              "      <td>20</td>\n",
              "      <td>14</td>\n",
              "      <td>3</td>\n",
              "      <td>135</td>\n",
              "      <td>False</td>\n",
              "      <td>False</td>\n",
              "      <td>False</td>\n",
              "      <td>False</td>\n",
              "      <td>False</td>\n",
              "      <td>False</td>\n",
              "      <td>41192</td>\n",
              "      <td>705801600</td>\n",
              "      <td>6817</td>\n",
              "    </tr>\n",
              "    <tr>\n",
              "      <th>114</th>\n",
              "      <td>SpecialNo9</td>\n",
              "      <td>1992</td>\n",
              "      <td>5</td>\n",
              "      <td>20</td>\n",
              "      <td>14</td>\n",
              "      <td>3</td>\n",
              "      <td>135</td>\n",
              "      <td>False</td>\n",
              "      <td>False</td>\n",
              "      <td>False</td>\n",
              "      <td>False</td>\n",
              "      <td>False</td>\n",
              "      <td>False</td>\n",
              "      <td>41192</td>\n",
              "      <td>705801600</td>\n",
              "      <td>5664</td>\n",
              "    </tr>\n",
              "    <tr>\n",
              "      <th>127</th>\n",
              "      <td>ConsolationNo9</td>\n",
              "      <td>1992</td>\n",
              "      <td>5</td>\n",
              "      <td>20</td>\n",
              "      <td>17</td>\n",
              "      <td>6</td>\n",
              "      <td>138</td>\n",
              "      <td>False</td>\n",
              "      <td>False</td>\n",
              "      <td>False</td>\n",
              "      <td>False</td>\n",
              "      <td>False</td>\n",
              "      <td>False</td>\n",
              "      <td>41292</td>\n",
              "      <td>706060800</td>\n",
              "      <td>3573</td>\n",
              "    </tr>\n",
              "  </tbody>\n",
              "</table>\n",
              "</div>"
            ],
            "text/plain": [
              "          PrizeType  DrawYear  DrawMonth  DrawWeek  DrawDay  DrawDayofweek  \\\n",
              "35   ConsolationNo9      1992          5        19        7              3   \n",
              "87       SpecialNo5      1992          5        20       13              2   \n",
              "97   ConsolationNo2      1992          5        20       14              3   \n",
              "114      SpecialNo9      1992          5        20       14              3   \n",
              "127  ConsolationNo9      1992          5        20       17              6   \n",
              "\n",
              "     DrawDayofyear  DrawIs_month_end  DrawIs_month_start  DrawIs_quarter_end  \\\n",
              "35             128             False               False               False   \n",
              "87             134             False               False               False   \n",
              "97             135             False               False               False   \n",
              "114            135             False               False               False   \n",
              "127            138             False               False               False   \n",
              "\n",
              "     DrawIs_quarter_start  DrawIs_year_end  DrawIs_year_start  DrawNo  \\\n",
              "35                  False            False              False   40892   \n",
              "87                  False            False              False   41092   \n",
              "97                  False            False              False   41192   \n",
              "114                 False            False              False   41192   \n",
              "127                 False            False              False   41292   \n",
              "\n",
              "     DrawElapsed  LuckyNo  \n",
              "35     705196800     4640  \n",
              "87     705715200     6792  \n",
              "97     705801600     6817  \n",
              "114    705801600     5664  \n",
              "127    706060800     3573  "
            ]
          },
          "metadata": {
            "tags": []
          },
          "execution_count": 29
        }
      ]
    },
    {
      "cell_type": "code",
      "metadata": {
        "colab_type": "code",
        "id": "clcMP_asuvuB",
        "outputId": "67ec7c4e-b63f-4b92-cb9f-06efa3ea8754",
        "colab": {
          "base_uri": "https://localhost:8080/",
          "height": 224
        }
      },
      "source": [
        "small_test_df.head(5)"
      ],
      "execution_count": 30,
      "outputs": [
        {
          "output_type": "execute_result",
          "data": {
            "application/vnd.dataresource+json": {
              "data": [
                {
                  "index": 51210,
                  "DrawIs_quarter_start": false,
                  "DrawIs_month_start": false,
                  "DrawDayofweek": 2,
                  "DrawIs_year_start": false,
                  "DrawIs_month_end": false,
                  "DrawDayofyear": 53,
                  "PrizeType": "ConsolationNo9",
                  "DrawWeek": 8,
                  "LuckyNo": 652,
                  "DrawMonth": 2,
                  "DrawNo": 263406,
                  "DrawDay": 22,
                  "DrawIs_quarter_end": false,
                  "DrawIs_year_end": false,
                  "DrawYear": 2006,
                  "DrawElapsed": 1140566400
                },
                {
                  "index": 51211,
                  "DrawIs_quarter_start": false,
                  "DrawIs_month_start": false,
                  "DrawDayofweek": 2,
                  "DrawIs_year_start": false,
                  "DrawIs_month_end": false,
                  "DrawDayofyear": 53,
                  "PrizeType": "SpecialNo1",
                  "DrawWeek": 8,
                  "LuckyNo": 3402,
                  "DrawMonth": 2,
                  "DrawNo": 263406,
                  "DrawDay": 22,
                  "DrawIs_quarter_end": false,
                  "DrawIs_year_end": false,
                  "DrawYear": 2006,
                  "DrawElapsed": 1140566400
                },
                {
                  "index": 51212,
                  "DrawIs_quarter_start": false,
                  "DrawIs_month_start": false,
                  "DrawDayofweek": 2,
                  "DrawIs_year_start": false,
                  "DrawIs_month_end": false,
                  "DrawDayofyear": 53,
                  "PrizeType": "SpecialNo10",
                  "DrawWeek": 8,
                  "LuckyNo": 9934,
                  "DrawMonth": 2,
                  "DrawNo": 263406,
                  "DrawDay": 22,
                  "DrawIs_quarter_end": false,
                  "DrawIs_year_end": false,
                  "DrawYear": 2006,
                  "DrawElapsed": 1140566400
                },
                {
                  "index": 51246,
                  "DrawIs_quarter_start": false,
                  "DrawIs_month_start": false,
                  "DrawDayofweek": 6,
                  "DrawIs_year_start": false,
                  "DrawIs_month_end": false,
                  "DrawDayofyear": 57,
                  "PrizeType": "3rdPrizeNo",
                  "DrawWeek": 8,
                  "LuckyNo": 548,
                  "DrawMonth": 2,
                  "DrawNo": 263606,
                  "DrawDay": 26,
                  "DrawIs_quarter_end": false,
                  "DrawIs_year_end": false,
                  "DrawYear": 2006,
                  "DrawElapsed": 1140912000
                },
                {
                  "index": 51263,
                  "DrawIs_quarter_start": false,
                  "DrawIs_month_start": false,
                  "DrawDayofweek": 6,
                  "DrawIs_year_start": false,
                  "DrawIs_month_end": false,
                  "DrawDayofyear": 57,
                  "PrizeType": "SpecialNo6",
                  "DrawWeek": 8,
                  "LuckyNo": 5106,
                  "DrawMonth": 2,
                  "DrawNo": 263606,
                  "DrawDay": 26,
                  "DrawIs_quarter_end": false,
                  "DrawIs_year_end": false,
                  "DrawYear": 2006,
                  "DrawElapsed": 1140912000
                }
              ],
              "schema": {
                "fields": [
                  {
                    "type": "integer",
                    "name": "index"
                  },
                  {
                    "type": "string",
                    "name": "PrizeType"
                  },
                  {
                    "type": "integer",
                    "name": "DrawYear"
                  },
                  {
                    "type": "integer",
                    "name": "DrawMonth"
                  },
                  {
                    "type": "integer",
                    "name": "DrawWeek"
                  },
                  {
                    "type": "integer",
                    "name": "DrawDay"
                  },
                  {
                    "type": "integer",
                    "name": "DrawDayofweek"
                  },
                  {
                    "type": "integer",
                    "name": "DrawDayofyear"
                  },
                  {
                    "type": "boolean",
                    "name": "DrawIs_month_end"
                  },
                  {
                    "type": "boolean",
                    "name": "DrawIs_month_start"
                  },
                  {
                    "type": "boolean",
                    "name": "DrawIs_quarter_end"
                  },
                  {
                    "type": "boolean",
                    "name": "DrawIs_quarter_start"
                  },
                  {
                    "type": "boolean",
                    "name": "DrawIs_year_end"
                  },
                  {
                    "type": "boolean",
                    "name": "DrawIs_year_start"
                  },
                  {
                    "type": "integer",
                    "name": "DrawNo"
                  },
                  {
                    "type": "integer",
                    "name": "DrawElapsed"
                  },
                  {
                    "type": "integer",
                    "name": "LuckyNo"
                  }
                ],
                "pandas_version": "0.20.0",
                "primaryKey": [
                  "index"
                ]
              }
            },
            "text/html": [
              "<div>\n",
              "<style scoped>\n",
              "    .dataframe tbody tr th:only-of-type {\n",
              "        vertical-align: middle;\n",
              "    }\n",
              "\n",
              "    .dataframe tbody tr th {\n",
              "        vertical-align: top;\n",
              "    }\n",
              "\n",
              "    .dataframe thead th {\n",
              "        text-align: right;\n",
              "    }\n",
              "</style>\n",
              "<table border=\"1\" class=\"dataframe\">\n",
              "  <thead>\n",
              "    <tr style=\"text-align: right;\">\n",
              "      <th></th>\n",
              "      <th>PrizeType</th>\n",
              "      <th>DrawYear</th>\n",
              "      <th>DrawMonth</th>\n",
              "      <th>DrawWeek</th>\n",
              "      <th>DrawDay</th>\n",
              "      <th>DrawDayofweek</th>\n",
              "      <th>DrawDayofyear</th>\n",
              "      <th>DrawIs_month_end</th>\n",
              "      <th>DrawIs_month_start</th>\n",
              "      <th>DrawIs_quarter_end</th>\n",
              "      <th>DrawIs_quarter_start</th>\n",
              "      <th>DrawIs_year_end</th>\n",
              "      <th>DrawIs_year_start</th>\n",
              "      <th>DrawNo</th>\n",
              "      <th>DrawElapsed</th>\n",
              "      <th>LuckyNo</th>\n",
              "    </tr>\n",
              "  </thead>\n",
              "  <tbody>\n",
              "    <tr>\n",
              "      <th>51210</th>\n",
              "      <td>ConsolationNo9</td>\n",
              "      <td>2006</td>\n",
              "      <td>2</td>\n",
              "      <td>8</td>\n",
              "      <td>22</td>\n",
              "      <td>2</td>\n",
              "      <td>53</td>\n",
              "      <td>False</td>\n",
              "      <td>False</td>\n",
              "      <td>False</td>\n",
              "      <td>False</td>\n",
              "      <td>False</td>\n",
              "      <td>False</td>\n",
              "      <td>263406</td>\n",
              "      <td>1140566400</td>\n",
              "      <td>652</td>\n",
              "    </tr>\n",
              "    <tr>\n",
              "      <th>51211</th>\n",
              "      <td>SpecialNo1</td>\n",
              "      <td>2006</td>\n",
              "      <td>2</td>\n",
              "      <td>8</td>\n",
              "      <td>22</td>\n",
              "      <td>2</td>\n",
              "      <td>53</td>\n",
              "      <td>False</td>\n",
              "      <td>False</td>\n",
              "      <td>False</td>\n",
              "      <td>False</td>\n",
              "      <td>False</td>\n",
              "      <td>False</td>\n",
              "      <td>263406</td>\n",
              "      <td>1140566400</td>\n",
              "      <td>3402</td>\n",
              "    </tr>\n",
              "    <tr>\n",
              "      <th>51212</th>\n",
              "      <td>SpecialNo10</td>\n",
              "      <td>2006</td>\n",
              "      <td>2</td>\n",
              "      <td>8</td>\n",
              "      <td>22</td>\n",
              "      <td>2</td>\n",
              "      <td>53</td>\n",
              "      <td>False</td>\n",
              "      <td>False</td>\n",
              "      <td>False</td>\n",
              "      <td>False</td>\n",
              "      <td>False</td>\n",
              "      <td>False</td>\n",
              "      <td>263406</td>\n",
              "      <td>1140566400</td>\n",
              "      <td>9934</td>\n",
              "    </tr>\n",
              "    <tr>\n",
              "      <th>51246</th>\n",
              "      <td>3rdPrizeNo</td>\n",
              "      <td>2006</td>\n",
              "      <td>2</td>\n",
              "      <td>8</td>\n",
              "      <td>26</td>\n",
              "      <td>6</td>\n",
              "      <td>57</td>\n",
              "      <td>False</td>\n",
              "      <td>False</td>\n",
              "      <td>False</td>\n",
              "      <td>False</td>\n",
              "      <td>False</td>\n",
              "      <td>False</td>\n",
              "      <td>263606</td>\n",
              "      <td>1140912000</td>\n",
              "      <td>548</td>\n",
              "    </tr>\n",
              "    <tr>\n",
              "      <th>51263</th>\n",
              "      <td>SpecialNo6</td>\n",
              "      <td>2006</td>\n",
              "      <td>2</td>\n",
              "      <td>8</td>\n",
              "      <td>26</td>\n",
              "      <td>6</td>\n",
              "      <td>57</td>\n",
              "      <td>False</td>\n",
              "      <td>False</td>\n",
              "      <td>False</td>\n",
              "      <td>False</td>\n",
              "      <td>False</td>\n",
              "      <td>False</td>\n",
              "      <td>263606</td>\n",
              "      <td>1140912000</td>\n",
              "      <td>5106</td>\n",
              "    </tr>\n",
              "  </tbody>\n",
              "</table>\n",
              "</div>"
            ],
            "text/plain": [
              "            PrizeType  DrawYear  DrawMonth  DrawWeek  DrawDay  DrawDayofweek  \\\n",
              "51210  ConsolationNo9      2006          2         8       22              2   \n",
              "51211      SpecialNo1      2006          2         8       22              2   \n",
              "51212     SpecialNo10      2006          2         8       22              2   \n",
              "51246      3rdPrizeNo      2006          2         8       26              6   \n",
              "51263      SpecialNo6      2006          2         8       26              6   \n",
              "\n",
              "       DrawDayofyear  DrawIs_month_end  DrawIs_month_start  \\\n",
              "51210             53             False               False   \n",
              "51211             53             False               False   \n",
              "51212             53             False               False   \n",
              "51246             57             False               False   \n",
              "51263             57             False               False   \n",
              "\n",
              "       DrawIs_quarter_end  DrawIs_quarter_start  DrawIs_year_end  \\\n",
              "51210               False                 False            False   \n",
              "51211               False                 False            False   \n",
              "51212               False                 False            False   \n",
              "51246               False                 False            False   \n",
              "51263               False                 False            False   \n",
              "\n",
              "       DrawIs_year_start  DrawNo  DrawElapsed  LuckyNo  \n",
              "51210              False  263406   1140566400      652  \n",
              "51211              False  263406   1140566400     3402  \n",
              "51212              False  263406   1140566400     9934  \n",
              "51246              False  263606   1140912000      548  \n",
              "51263              False  263606   1140912000     5106  "
            ]
          },
          "metadata": {
            "tags": []
          },
          "execution_count": 30
        }
      ]
    },
    {
      "cell_type": "code",
      "metadata": {
        "colab_type": "code",
        "id": "09XGqEUku4Bl",
        "colab": {}
      },
      "source": [
        "categorify = Categorify(small_cat_vars, small_cont_vars)\n",
        "categorify(small_train_df)\n",
        "categorify(small_test_df, test=True)"
      ],
      "execution_count": 0,
      "outputs": []
    },
    {
      "cell_type": "code",
      "metadata": {
        "colab_type": "code",
        "id": "enAi7pjWvCoA",
        "outputId": "16c18be9-411c-428d-bbc5-a575337d6d59",
        "colab": {
          "base_uri": "https://localhost:8080/",
          "height": 136
        }
      },
      "source": [
        "small_train_df.PrizeType.cat.categories"
      ],
      "execution_count": 32,
      "outputs": [
        {
          "output_type": "execute_result",
          "data": {
            "text/plain": [
              "Index(['1stPrizeNo', '2ndPrizeNo', '3rdPrizeNo', 'ConsolationNo1',\n",
              "       'ConsolationNo10', 'ConsolationNo2', 'ConsolationNo3', 'ConsolationNo4',\n",
              "       'ConsolationNo5', 'ConsolationNo6', 'ConsolationNo7', 'ConsolationNo8',\n",
              "       'ConsolationNo9', 'SpecialNo1', 'SpecialNo10', 'SpecialNo2',\n",
              "       'SpecialNo3', 'SpecialNo4', 'SpecialNo5', 'SpecialNo6', 'SpecialNo7',\n",
              "       'SpecialNo8', 'SpecialNo9'],\n",
              "      dtype='object')"
            ]
          },
          "metadata": {
            "tags": []
          },
          "execution_count": 32
        }
      ]
    },
    {
      "cell_type": "code",
      "metadata": {
        "colab_type": "code",
        "id": "zKbHZ3xYvIFv",
        "outputId": "157fa873-6367-47af-a896-363748685ec4",
        "colab": {
          "base_uri": "https://localhost:8080/",
          "height": 204
        }
      },
      "source": [
        "small_train_df.PrizeType.cat.codes[:10]"
      ],
      "execution_count": 33,
      "outputs": [
        {
          "output_type": "execute_result",
          "data": {
            "application/vnd.dataresource+json": {
              "data": [
                {
                  "index": 35,
                  "values": 12
                },
                {
                  "index": 87,
                  "values": 18
                },
                {
                  "index": 97,
                  "values": 5
                },
                {
                  "index": 114,
                  "values": 22
                },
                {
                  "index": 127,
                  "values": 12
                },
                {
                  "index": 134,
                  "values": 19
                },
                {
                  "index": 144,
                  "values": 6
                },
                {
                  "index": 149,
                  "values": 11
                },
                {
                  "index": 164,
                  "values": 3
                },
                {
                  "index": 186,
                  "values": 2
                }
              ],
              "schema": {
                "fields": [
                  {
                    "type": "integer",
                    "name": "index"
                  },
                  {
                    "type": "integer",
                    "name": "values"
                  }
                ],
                "pandas_version": "0.20.0",
                "primaryKey": [
                  "index"
                ]
              }
            },
            "text/plain": [
              "35     12\n",
              "87     18\n",
              "97      5\n",
              "114    22\n",
              "127    12\n",
              "134    19\n",
              "144     6\n",
              "149    11\n",
              "164     3\n",
              "186     2\n",
              "dtype: int8"
            ]
          },
          "metadata": {
            "tags": []
          },
          "execution_count": 33
        }
      ]
    },
    {
      "cell_type": "code",
      "metadata": {
        "id": "Xutlsh9kJRiP",
        "colab_type": "code",
        "colab": {
          "base_uri": "https://localhost:8080/",
          "height": 238
        },
        "outputId": "7f7f08f4-5cb8-497d-ac3c-ee5f9ba71dc2"
      },
      "source": [
        "small_train_df.PrizeType.head(10)"
      ],
      "execution_count": 34,
      "outputs": [
        {
          "output_type": "execute_result",
          "data": {
            "application/vnd.dataresource+json": {
              "data": [
                {
                  "index": 35,
                  "PrizeType": "ConsolationNo9"
                },
                {
                  "index": 87,
                  "PrizeType": "SpecialNo5"
                },
                {
                  "index": 97,
                  "PrizeType": "ConsolationNo2"
                },
                {
                  "index": 114,
                  "PrizeType": "SpecialNo9"
                },
                {
                  "index": 127,
                  "PrizeType": "ConsolationNo9"
                },
                {
                  "index": 134,
                  "PrizeType": "SpecialNo6"
                },
                {
                  "index": 144,
                  "PrizeType": "ConsolationNo3"
                },
                {
                  "index": 149,
                  "PrizeType": "ConsolationNo8"
                },
                {
                  "index": 164,
                  "PrizeType": "ConsolationNo1"
                },
                {
                  "index": 186,
                  "PrizeType": "3rdPrizeNo"
                }
              ],
              "schema": {
                "fields": [
                  {
                    "type": "integer",
                    "name": "index"
                  },
                  {
                    "ordered": true,
                    "type": "any",
                    "name": "PrizeType",
                    "constraints": {
                      "enum": [
                        "1stPrizeNo",
                        "2ndPrizeNo",
                        "3rdPrizeNo",
                        "ConsolationNo1",
                        "ConsolationNo10",
                        "ConsolationNo2",
                        "ConsolationNo3",
                        "ConsolationNo4",
                        "ConsolationNo5",
                        "ConsolationNo6",
                        "ConsolationNo7",
                        "ConsolationNo8",
                        "ConsolationNo9",
                        "SpecialNo1",
                        "SpecialNo10",
                        "SpecialNo2",
                        "SpecialNo3",
                        "SpecialNo4",
                        "SpecialNo5",
                        "SpecialNo6",
                        "SpecialNo7",
                        "SpecialNo8",
                        "SpecialNo9"
                      ]
                    }
                  }
                ],
                "pandas_version": "0.20.0",
                "primaryKey": [
                  "index"
                ]
              }
            },
            "text/plain": [
              "35     ConsolationNo9\n",
              "87         SpecialNo5\n",
              "97     ConsolationNo2\n",
              "114        SpecialNo9\n",
              "127    ConsolationNo9\n",
              "134        SpecialNo6\n",
              "144    ConsolationNo3\n",
              "149    ConsolationNo8\n",
              "164    ConsolationNo1\n",
              "186        3rdPrizeNo\n",
              "Name: PrizeType, dtype: category\n",
              "Categories (23, object): [1stPrizeNo < 2ndPrizeNo < 3rdPrizeNo < ConsolationNo1 ... SpecialNo6 <\n",
              "                          SpecialNo7 < SpecialNo8 < SpecialNo9]"
            ]
          },
          "metadata": {
            "tags": []
          },
          "execution_count": 34
        }
      ]
    },
    {
      "cell_type": "code",
      "metadata": {
        "colab_type": "code",
        "id": "4lTp1pX4v-kk",
        "colab": {}
      },
      "source": [
        "fill_missing = FillMissing(small_cat_vars, small_cont_vars)\n",
        "fill_missing(small_train_df)\n",
        "fill_missing(small_test_df, test=True)"
      ],
      "execution_count": 0,
      "outputs": []
    },
    {
      "cell_type": "code",
      "metadata": {
        "colab_type": "code",
        "id": "Lnc36v4_wPej",
        "colab": {}
      },
      "source": [
        "FillMissing?"
      ],
      "execution_count": 0,
      "outputs": []
    },
    {
      "cell_type": "code",
      "metadata": {
        "id": "80VmVLlBJRig",
        "colab_type": "code",
        "colab": {}
      },
      "source": [
        "import inspect\n",
        "Categorify??"
      ],
      "execution_count": 0,
      "outputs": []
    },
    {
      "cell_type": "code",
      "metadata": {
        "colab_type": "code",
        "id": "tbsL5b0NwRRt",
        "outputId": "75da4412-e505-4bf2-c852-60cc0bbab097",
        "colab": {
          "base_uri": "https://localhost:8080/",
          "height": 374
        }
      },
      "source": [
        "small_train_df.info()"
      ],
      "execution_count": 40,
      "outputs": [
        {
          "output_type": "stream",
          "text": [
            "<class 'pandas.core.frame.DataFrame'>\n",
            "Int64Index: 3000 entries, 35 to 51206\n",
            "Data columns (total 16 columns):\n",
            "PrizeType               3000 non-null category\n",
            "DrawYear                3000 non-null category\n",
            "DrawMonth               3000 non-null category\n",
            "DrawWeek                3000 non-null category\n",
            "DrawDay                 3000 non-null category\n",
            "DrawDayofweek           3000 non-null category\n",
            "DrawDayofyear           3000 non-null category\n",
            "DrawIs_month_end        3000 non-null category\n",
            "DrawIs_month_start      3000 non-null category\n",
            "DrawIs_quarter_end      3000 non-null category\n",
            "DrawIs_quarter_start    3000 non-null category\n",
            "DrawIs_year_end         3000 non-null category\n",
            "DrawIs_year_start       3000 non-null category\n",
            "DrawNo                  3000 non-null int64\n",
            "DrawElapsed             3000 non-null int64\n",
            "LuckyNo                 3000 non-null int64\n",
            "dtypes: category(13), int64(3)\n",
            "memory usage: 154.7 KB\n"
          ],
          "name": "stdout"
        }
      ]
    },
    {
      "cell_type": "code",
      "metadata": {
        "id": "7kpqWTO-JRio",
        "colab_type": "code",
        "colab": {}
      },
      "source": [
        ""
      ],
      "execution_count": 0,
      "outputs": []
    },
    {
      "cell_type": "markdown",
      "metadata": {
        "colab_type": "text",
        "id": "CBHTYhMCwdem"
      },
      "source": [
        "## Preparing full data set"
      ]
    },
    {
      "cell_type": "code",
      "metadata": {
        "colab_type": "code",
        "id": "4NdF0S1TwnLT",
        "colab": {
          "base_uri": "https://localhost:8080/",
          "height": 170
        },
        "outputId": "96b183e0-ede4-4e71-d64a-7edf83378ed6"
      },
      "source": [
        "n = len(df_processed)\n",
        "print(n)\n",
        "print(n/23)\n",
        "print(df_processed['DrawDate'].min())\n",
        "print(df_processed['DrawDate'].max())\n",
        "\n",
        "split_percent = 0.8\n",
        "idx = n * split_percent\n",
        "print(idx)\n",
        "idx = int(idx // 23 * 23)\n",
        "print(idx)\n",
        "\n",
        "train_df = df_processed[:idx]\n",
        "test_df = df_processed[idx:]\n",
        "print(len(train_df))\n",
        "print(len(test_df))\n",
        "print(len(train_df) + len(test_df))"
      ],
      "execution_count": 41,
      "outputs": [
        {
          "output_type": "stream",
          "text": [
            "104305\n",
            "4535.0\n",
            "1992-05-06 00:00:00\n",
            "2019-05-04 00:00:00\n",
            "83444.0\n",
            "83444\n",
            "83444\n",
            "20861\n",
            "104305\n"
          ],
          "name": "stdout"
        }
      ]
    },
    {
      "cell_type": "code",
      "metadata": {
        "id": "tbDG0RGVJRiv",
        "colab_type": "code",
        "colab": {
          "base_uri": "https://localhost:8080/",
          "height": 165
        },
        "outputId": "de6f8e7d-0efb-459f-d918-5ce5bd24023c"
      },
      "source": [
        "train_df.head(2)"
      ],
      "execution_count": 42,
      "outputs": [
        {
          "output_type": "execute_result",
          "data": {
            "application/vnd.dataresource+json": {
              "data": [
                {
                  "index": 0,
                  "DrawIs_quarter_start": false,
                  "DrawIs_year_start": false,
                  "DrawIs_month_start": false,
                  "DrawDayofweek": 2,
                  "LuckyNo": 19,
                  "DrawIs_month_end": false,
                  "DrawNo": 40792,
                  "PrizeType": "1stPrizeNo",
                  "DrawWeek": 19,
                  "DrawMonth": 5,
                  "DrawDayofyear": 127,
                  "DrawDay": 6,
                  "DrawDate": "1992-05-06T00:00:00.000Z",
                  "DrawIs_quarter_end": false,
                  "DrawIs_year_end": false,
                  "DrawYear": 1992,
                  "DrawElapsed": 705110400
                },
                {
                  "index": 1,
                  "DrawIs_quarter_start": false,
                  "DrawIs_year_start": false,
                  "DrawIs_month_start": false,
                  "DrawDayofweek": 2,
                  "LuckyNo": 1124,
                  "DrawIs_month_end": false,
                  "DrawNo": 40792,
                  "PrizeType": "2ndPrizeNo",
                  "DrawWeek": 19,
                  "DrawMonth": 5,
                  "DrawDayofyear": 127,
                  "DrawDay": 6,
                  "DrawDate": "1992-05-06T00:00:00.000Z",
                  "DrawIs_quarter_end": false,
                  "DrawIs_year_end": false,
                  "DrawYear": 1992,
                  "DrawElapsed": 705110400
                }
              ],
              "schema": {
                "fields": [
                  {
                    "type": "integer",
                    "name": "index"
                  },
                  {
                    "type": "integer",
                    "name": "DrawNo"
                  },
                  {
                    "type": "datetime",
                    "name": "DrawDate"
                  },
                  {
                    "type": "string",
                    "name": "PrizeType"
                  },
                  {
                    "type": "integer",
                    "name": "LuckyNo"
                  },
                  {
                    "type": "integer",
                    "name": "DrawYear"
                  },
                  {
                    "type": "integer",
                    "name": "DrawMonth"
                  },
                  {
                    "type": "integer",
                    "name": "DrawWeek"
                  },
                  {
                    "type": "integer",
                    "name": "DrawDay"
                  },
                  {
                    "type": "integer",
                    "name": "DrawDayofweek"
                  },
                  {
                    "type": "integer",
                    "name": "DrawDayofyear"
                  },
                  {
                    "type": "boolean",
                    "name": "DrawIs_month_end"
                  },
                  {
                    "type": "boolean",
                    "name": "DrawIs_month_start"
                  },
                  {
                    "type": "boolean",
                    "name": "DrawIs_quarter_end"
                  },
                  {
                    "type": "boolean",
                    "name": "DrawIs_quarter_start"
                  },
                  {
                    "type": "boolean",
                    "name": "DrawIs_year_end"
                  },
                  {
                    "type": "boolean",
                    "name": "DrawIs_year_start"
                  },
                  {
                    "type": "integer",
                    "name": "DrawElapsed"
                  }
                ],
                "pandas_version": "0.20.0",
                "primaryKey": [
                  "index"
                ]
              }
            },
            "text/html": [
              "<div>\n",
              "<style scoped>\n",
              "    .dataframe tbody tr th:only-of-type {\n",
              "        vertical-align: middle;\n",
              "    }\n",
              "\n",
              "    .dataframe tbody tr th {\n",
              "        vertical-align: top;\n",
              "    }\n",
              "\n",
              "    .dataframe thead th {\n",
              "        text-align: right;\n",
              "    }\n",
              "</style>\n",
              "<table border=\"1\" class=\"dataframe\">\n",
              "  <thead>\n",
              "    <tr style=\"text-align: right;\">\n",
              "      <th></th>\n",
              "      <th>DrawNo</th>\n",
              "      <th>DrawDate</th>\n",
              "      <th>PrizeType</th>\n",
              "      <th>LuckyNo</th>\n",
              "      <th>DrawYear</th>\n",
              "      <th>DrawMonth</th>\n",
              "      <th>DrawWeek</th>\n",
              "      <th>DrawDay</th>\n",
              "      <th>DrawDayofweek</th>\n",
              "      <th>DrawDayofyear</th>\n",
              "      <th>DrawIs_month_end</th>\n",
              "      <th>DrawIs_month_start</th>\n",
              "      <th>DrawIs_quarter_end</th>\n",
              "      <th>DrawIs_quarter_start</th>\n",
              "      <th>DrawIs_year_end</th>\n",
              "      <th>DrawIs_year_start</th>\n",
              "      <th>DrawElapsed</th>\n",
              "    </tr>\n",
              "  </thead>\n",
              "  <tbody>\n",
              "    <tr>\n",
              "      <th>0</th>\n",
              "      <td>40792</td>\n",
              "      <td>1992-05-06</td>\n",
              "      <td>1stPrizeNo</td>\n",
              "      <td>19</td>\n",
              "      <td>1992</td>\n",
              "      <td>5</td>\n",
              "      <td>19</td>\n",
              "      <td>6</td>\n",
              "      <td>2</td>\n",
              "      <td>127</td>\n",
              "      <td>False</td>\n",
              "      <td>False</td>\n",
              "      <td>False</td>\n",
              "      <td>False</td>\n",
              "      <td>False</td>\n",
              "      <td>False</td>\n",
              "      <td>705110400</td>\n",
              "    </tr>\n",
              "    <tr>\n",
              "      <th>1</th>\n",
              "      <td>40792</td>\n",
              "      <td>1992-05-06</td>\n",
              "      <td>2ndPrizeNo</td>\n",
              "      <td>1124</td>\n",
              "      <td>1992</td>\n",
              "      <td>5</td>\n",
              "      <td>19</td>\n",
              "      <td>6</td>\n",
              "      <td>2</td>\n",
              "      <td>127</td>\n",
              "      <td>False</td>\n",
              "      <td>False</td>\n",
              "      <td>False</td>\n",
              "      <td>False</td>\n",
              "      <td>False</td>\n",
              "      <td>False</td>\n",
              "      <td>705110400</td>\n",
              "    </tr>\n",
              "  </tbody>\n",
              "</table>\n",
              "</div>"
            ],
            "text/plain": [
              "   DrawNo   DrawDate   PrizeType  LuckyNo  DrawYear  DrawMonth  DrawWeek  \\\n",
              "0   40792 1992-05-06  1stPrizeNo       19      1992          5        19   \n",
              "1   40792 1992-05-06  2ndPrizeNo     1124      1992          5        19   \n",
              "\n",
              "   DrawDay  DrawDayofweek  DrawDayofyear  DrawIs_month_end  \\\n",
              "0        6              2            127             False   \n",
              "1        6              2            127             False   \n",
              "\n",
              "   DrawIs_month_start  DrawIs_quarter_end  DrawIs_quarter_start  \\\n",
              "0               False               False                 False   \n",
              "1               False               False                 False   \n",
              "\n",
              "   DrawIs_year_end  DrawIs_year_start  DrawElapsed  \n",
              "0            False              False    705110400  \n",
              "1            False              False    705110400  "
            ]
          },
          "metadata": {
            "tags": []
          },
          "execution_count": 42
        }
      ]
    },
    {
      "cell_type": "code",
      "metadata": {
        "id": "XhNtN7sLJRi1",
        "colab_type": "code",
        "colab": {
          "base_uri": "https://localhost:8080/",
          "height": 117
        },
        "outputId": "89355f38-2e80-4cb2-9e4d-e7f40080ec33"
      },
      "source": [
        "test_df.head(1)"
      ],
      "execution_count": 43,
      "outputs": [
        {
          "output_type": "execute_result",
          "data": {
            "application/vnd.dataresource+json": {
              "data": [
                {
                  "index": 83444,
                  "DrawIs_quarter_start": false,
                  "DrawIs_year_start": false,
                  "DrawIs_month_start": false,
                  "DrawDayofweek": 2,
                  "LuckyNo": 7214,
                  "DrawIs_month_end": false,
                  "DrawNo": 403614,
                  "PrizeType": "1stPrizeNo",
                  "DrawWeek": 13,
                  "DrawMonth": 3,
                  "DrawDayofyear": 85,
                  "DrawDay": 26,
                  "DrawDate": "2014-03-26T00:00:00.000Z",
                  "DrawIs_quarter_end": false,
                  "DrawIs_year_end": false,
                  "DrawYear": 2014,
                  "DrawElapsed": 1395792000
                }
              ],
              "schema": {
                "fields": [
                  {
                    "type": "integer",
                    "name": "index"
                  },
                  {
                    "type": "integer",
                    "name": "DrawNo"
                  },
                  {
                    "type": "datetime",
                    "name": "DrawDate"
                  },
                  {
                    "type": "string",
                    "name": "PrizeType"
                  },
                  {
                    "type": "integer",
                    "name": "LuckyNo"
                  },
                  {
                    "type": "integer",
                    "name": "DrawYear"
                  },
                  {
                    "type": "integer",
                    "name": "DrawMonth"
                  },
                  {
                    "type": "integer",
                    "name": "DrawWeek"
                  },
                  {
                    "type": "integer",
                    "name": "DrawDay"
                  },
                  {
                    "type": "integer",
                    "name": "DrawDayofweek"
                  },
                  {
                    "type": "integer",
                    "name": "DrawDayofyear"
                  },
                  {
                    "type": "boolean",
                    "name": "DrawIs_month_end"
                  },
                  {
                    "type": "boolean",
                    "name": "DrawIs_month_start"
                  },
                  {
                    "type": "boolean",
                    "name": "DrawIs_quarter_end"
                  },
                  {
                    "type": "boolean",
                    "name": "DrawIs_quarter_start"
                  },
                  {
                    "type": "boolean",
                    "name": "DrawIs_year_end"
                  },
                  {
                    "type": "boolean",
                    "name": "DrawIs_year_start"
                  },
                  {
                    "type": "integer",
                    "name": "DrawElapsed"
                  }
                ],
                "pandas_version": "0.20.0",
                "primaryKey": [
                  "index"
                ]
              }
            },
            "text/html": [
              "<div>\n",
              "<style scoped>\n",
              "    .dataframe tbody tr th:only-of-type {\n",
              "        vertical-align: middle;\n",
              "    }\n",
              "\n",
              "    .dataframe tbody tr th {\n",
              "        vertical-align: top;\n",
              "    }\n",
              "\n",
              "    .dataframe thead th {\n",
              "        text-align: right;\n",
              "    }\n",
              "</style>\n",
              "<table border=\"1\" class=\"dataframe\">\n",
              "  <thead>\n",
              "    <tr style=\"text-align: right;\">\n",
              "      <th></th>\n",
              "      <th>DrawNo</th>\n",
              "      <th>DrawDate</th>\n",
              "      <th>PrizeType</th>\n",
              "      <th>LuckyNo</th>\n",
              "      <th>DrawYear</th>\n",
              "      <th>DrawMonth</th>\n",
              "      <th>DrawWeek</th>\n",
              "      <th>DrawDay</th>\n",
              "      <th>DrawDayofweek</th>\n",
              "      <th>DrawDayofyear</th>\n",
              "      <th>DrawIs_month_end</th>\n",
              "      <th>DrawIs_month_start</th>\n",
              "      <th>DrawIs_quarter_end</th>\n",
              "      <th>DrawIs_quarter_start</th>\n",
              "      <th>DrawIs_year_end</th>\n",
              "      <th>DrawIs_year_start</th>\n",
              "      <th>DrawElapsed</th>\n",
              "    </tr>\n",
              "  </thead>\n",
              "  <tbody>\n",
              "    <tr>\n",
              "      <th>83444</th>\n",
              "      <td>403614</td>\n",
              "      <td>2014-03-26</td>\n",
              "      <td>1stPrizeNo</td>\n",
              "      <td>7214</td>\n",
              "      <td>2014</td>\n",
              "      <td>3</td>\n",
              "      <td>13</td>\n",
              "      <td>26</td>\n",
              "      <td>2</td>\n",
              "      <td>85</td>\n",
              "      <td>False</td>\n",
              "      <td>False</td>\n",
              "      <td>False</td>\n",
              "      <td>False</td>\n",
              "      <td>False</td>\n",
              "      <td>False</td>\n",
              "      <td>1395792000</td>\n",
              "    </tr>\n",
              "  </tbody>\n",
              "</table>\n",
              "</div>"
            ],
            "text/plain": [
              "       DrawNo   DrawDate   PrizeType  LuckyNo  DrawYear  DrawMonth  DrawWeek  \\\n",
              "83444  403614 2014-03-26  1stPrizeNo     7214      2014          3        13   \n",
              "\n",
              "       DrawDay  DrawDayofweek  DrawDayofyear  DrawIs_month_end  \\\n",
              "83444       26              2             85             False   \n",
              "\n",
              "       DrawIs_month_start  DrawIs_quarter_end  DrawIs_quarter_start  \\\n",
              "83444               False               False                 False   \n",
              "\n",
              "       DrawIs_year_end  DrawIs_year_start  DrawElapsed  \n",
              "83444            False              False   1395792000  "
            ]
          },
          "metadata": {
            "tags": []
          },
          "execution_count": 43
        }
      ]
    },
    {
      "cell_type": "code",
      "metadata": {
        "colab_type": "code",
        "id": "DwSkbsZeyfJB",
        "colab": {}
      },
      "source": [
        "# Data normalization proceses\n",
        "procs=[FillMissing, Categorify, Normalize]"
      ],
      "execution_count": 0,
      "outputs": []
    },
    {
      "cell_type": "code",
      "metadata": {
        "id": "pRSdjjeJJRi9",
        "colab_type": "code",
        "colab": {}
      },
      "source": [
        "# Set continuous and categorical columns\n",
        "#cont_vars = [\"DrawNo\", \"DrawElapsed\"]\n",
        "cont_vars = []\n",
        "cat_vars = [\"PrizeType\", \"DrawYear\", \"DrawMonth\", \"DrawWeek\", \"DrawDay\", \"DrawDayofweek\", \n",
        "                  \"DrawDayofyear\",\"DrawIs_month_end\",\"DrawIs_month_start\", \"DrawIs_quarter_end\", \"DrawIs_quarter_start\", \"DrawIs_year_end\", \"DrawIs_year_start\"]"
      ],
      "execution_count": 0,
      "outputs": []
    },
    {
      "cell_type": "code",
      "metadata": {
        "id": "NX6sRVnFJRi_",
        "colab_type": "code",
        "colab": {}
      },
      "source": [
        "dep_var = 'LuckyNo'"
      ],
      "execution_count": 0,
      "outputs": []
    },
    {
      "cell_type": "code",
      "metadata": {
        "id": "K08LmXY_JRjB",
        "colab_type": "code",
        "colab": {
          "base_uri": "https://localhost:8080/",
          "height": 117
        },
        "outputId": "f0e12d83-0f57-4457-aef1-dd6b4524051e"
      },
      "source": [
        "df = train_df[cat_vars + cont_vars + [dep_var,'DrawDate']].copy()\n",
        "df.head(1)"
      ],
      "execution_count": 71,
      "outputs": [
        {
          "output_type": "execute_result",
          "data": {
            "application/vnd.dataresource+json": {
              "data": [
                {
                  "index": 0,
                  "DrawIs_quarter_start": false,
                  "DrawIs_month_start": false,
                  "DrawDayofweek": 2,
                  "DrawIs_year_start": false,
                  "DrawIs_month_end": false,
                  "DrawDayofyear": 127,
                  "PrizeType": "1stPrizeNo",
                  "DrawWeek": 19,
                  "LuckyNo": 19,
                  "DrawMonth": 5,
                  "DrawDay": 6,
                  "DrawDate": "1992-05-06T00:00:00.000Z",
                  "DrawIs_quarter_end": false,
                  "DrawIs_year_end": false,
                  "DrawYear": 1992
                }
              ],
              "schema": {
                "fields": [
                  {
                    "type": "integer",
                    "name": "index"
                  },
                  {
                    "type": "string",
                    "name": "PrizeType"
                  },
                  {
                    "type": "integer",
                    "name": "DrawYear"
                  },
                  {
                    "type": "integer",
                    "name": "DrawMonth"
                  },
                  {
                    "type": "integer",
                    "name": "DrawWeek"
                  },
                  {
                    "type": "integer",
                    "name": "DrawDay"
                  },
                  {
                    "type": "integer",
                    "name": "DrawDayofweek"
                  },
                  {
                    "type": "integer",
                    "name": "DrawDayofyear"
                  },
                  {
                    "type": "boolean",
                    "name": "DrawIs_month_end"
                  },
                  {
                    "type": "boolean",
                    "name": "DrawIs_month_start"
                  },
                  {
                    "type": "boolean",
                    "name": "DrawIs_quarter_end"
                  },
                  {
                    "type": "boolean",
                    "name": "DrawIs_quarter_start"
                  },
                  {
                    "type": "boolean",
                    "name": "DrawIs_year_end"
                  },
                  {
                    "type": "boolean",
                    "name": "DrawIs_year_start"
                  },
                  {
                    "type": "integer",
                    "name": "LuckyNo"
                  },
                  {
                    "type": "datetime",
                    "name": "DrawDate"
                  }
                ],
                "pandas_version": "0.20.0",
                "primaryKey": [
                  "index"
                ]
              }
            },
            "text/html": [
              "<div>\n",
              "<style scoped>\n",
              "    .dataframe tbody tr th:only-of-type {\n",
              "        vertical-align: middle;\n",
              "    }\n",
              "\n",
              "    .dataframe tbody tr th {\n",
              "        vertical-align: top;\n",
              "    }\n",
              "\n",
              "    .dataframe thead th {\n",
              "        text-align: right;\n",
              "    }\n",
              "</style>\n",
              "<table border=\"1\" class=\"dataframe\">\n",
              "  <thead>\n",
              "    <tr style=\"text-align: right;\">\n",
              "      <th></th>\n",
              "      <th>PrizeType</th>\n",
              "      <th>DrawYear</th>\n",
              "      <th>DrawMonth</th>\n",
              "      <th>DrawWeek</th>\n",
              "      <th>DrawDay</th>\n",
              "      <th>DrawDayofweek</th>\n",
              "      <th>DrawDayofyear</th>\n",
              "      <th>DrawIs_month_end</th>\n",
              "      <th>DrawIs_month_start</th>\n",
              "      <th>DrawIs_quarter_end</th>\n",
              "      <th>DrawIs_quarter_start</th>\n",
              "      <th>DrawIs_year_end</th>\n",
              "      <th>DrawIs_year_start</th>\n",
              "      <th>LuckyNo</th>\n",
              "      <th>DrawDate</th>\n",
              "    </tr>\n",
              "  </thead>\n",
              "  <tbody>\n",
              "    <tr>\n",
              "      <th>0</th>\n",
              "      <td>1stPrizeNo</td>\n",
              "      <td>1992</td>\n",
              "      <td>5</td>\n",
              "      <td>19</td>\n",
              "      <td>6</td>\n",
              "      <td>2</td>\n",
              "      <td>127</td>\n",
              "      <td>False</td>\n",
              "      <td>False</td>\n",
              "      <td>False</td>\n",
              "      <td>False</td>\n",
              "      <td>False</td>\n",
              "      <td>False</td>\n",
              "      <td>19</td>\n",
              "      <td>1992-05-06</td>\n",
              "    </tr>\n",
              "  </tbody>\n",
              "</table>\n",
              "</div>"
            ],
            "text/plain": [
              "    PrizeType  DrawYear  DrawMonth  DrawWeek  DrawDay  DrawDayofweek  \\\n",
              "0  1stPrizeNo      1992          5        19        6              2   \n",
              "\n",
              "   DrawDayofyear  DrawIs_month_end  DrawIs_month_start  DrawIs_quarter_end  \\\n",
              "0            127             False               False               False   \n",
              "\n",
              "   DrawIs_quarter_start  DrawIs_year_end  DrawIs_year_start  LuckyNo  \\\n",
              "0                 False            False              False       19   \n",
              "\n",
              "    DrawDate  \n",
              "0 1992-05-06  "
            ]
          },
          "metadata": {
            "tags": []
          },
          "execution_count": 71
        }
      ]
    },
    {
      "cell_type": "code",
      "metadata": {
        "id": "pTtBKYQgJRjE",
        "colab_type": "code",
        "colab": {
          "base_uri": "https://localhost:8080/",
          "height": 34
        },
        "outputId": "d785b9ee-1156-42a6-c5e3-64513fa5d415"
      },
      "source": [
        "# Min and max draw date\n",
        "test_df['DrawDate'].min(), test_df['DrawDate'].max()"
      ],
      "execution_count": 72,
      "outputs": [
        {
          "output_type": "execute_result",
          "data": {
            "text/plain": [
              "(Timestamp('2014-03-26 00:00:00'), Timestamp('2019-05-04 00:00:00'))"
            ]
          },
          "metadata": {
            "tags": []
          },
          "execution_count": 72
        }
      ]
    },
    {
      "cell_type": "markdown",
      "metadata": {
        "id": "psovR8pRJRjJ",
        "colab_type": "text"
      },
      "source": [
        "### Create a validation set"
      ]
    },
    {
      "cell_type": "code",
      "metadata": {
        "id": "2M08ikGlJRjK",
        "colab_type": "code",
        "colab": {
          "base_uri": "https://localhost:8080/",
          "height": 34
        },
        "outputId": "12808470-bc8f-488d-a55f-d7e148da976c"
      },
      "source": [
        "# 1st criteria - of the same date\n",
        "# 2nd criteria - >= len(test_df)\n",
        "\n",
        "cut = train_df['DrawDate'][(train_df['DrawDate'] == train_df['DrawDate'][len(test_df)])].index.max()\n",
        "print(cut)"
      ],
      "execution_count": 73,
      "outputs": [
        {
          "output_type": "stream",
          "text": [
            "20883\n"
          ],
          "name": "stdout"
        }
      ]
    },
    {
      "cell_type": "code",
      "metadata": {
        "id": "825smVEzJRjL",
        "colab_type": "code",
        "colab": {
          "base_uri": "https://localhost:8080/",
          "height": 34
        },
        "outputId": "96af803c-9e5c-4d44-a16f-d0c4ab1a4509"
      },
      "source": [
        "valid_idx = range(cut)\n",
        "print(valid_idx)"
      ],
      "execution_count": 74,
      "outputs": [
        {
          "output_type": "stream",
          "text": [
            "range(0, 20883)\n"
          ],
          "name": "stdout"
        }
      ]
    },
    {
      "cell_type": "code",
      "metadata": {
        "id": "CQf46HenJRjO",
        "colab_type": "code",
        "colab": {
          "base_uri": "https://localhost:8080/",
          "height": 119
        },
        "outputId": "dbe114e9-c7c7-4133-86ba-99eb4e3fcff4"
      },
      "source": [
        "df[dep_var].head()"
      ],
      "execution_count": 75,
      "outputs": [
        {
          "output_type": "execute_result",
          "data": {
            "application/vnd.dataresource+json": {
              "data": [
                {
                  "index": 0,
                  "LuckyNo": 19
                },
                {
                  "index": 1,
                  "LuckyNo": 1124
                },
                {
                  "index": 2,
                  "LuckyNo": 592
                },
                {
                  "index": 3,
                  "LuckyNo": 5311
                },
                {
                  "index": 4,
                  "LuckyNo": 407
                }
              ],
              "schema": {
                "fields": [
                  {
                    "type": "integer",
                    "name": "index"
                  },
                  {
                    "type": "integer",
                    "name": "LuckyNo"
                  }
                ],
                "pandas_version": "0.20.0",
                "primaryKey": [
                  "index"
                ]
              }
            },
            "text/plain": [
              "0      19\n",
              "1    1124\n",
              "2     592\n",
              "3    5311\n",
              "4     407\n",
              "Name: LuckyNo, dtype: int64"
            ]
          },
          "metadata": {
            "tags": []
          },
          "execution_count": 75
        }
      ]
    },
    {
      "cell_type": "markdown",
      "metadata": {
        "id": "eJ7BbqQOJRjS",
        "colab_type": "text"
      },
      "source": [
        "## Train"
      ]
    },
    {
      "cell_type": "code",
      "metadata": {
        "id": "zvFwyNMfJRjS",
        "colab_type": "code",
        "colab": {}
      },
      "source": [
        "path = Path('datasets/lotto')"
      ],
      "execution_count": 0,
      "outputs": []
    },
    {
      "cell_type": "code",
      "metadata": {
        "id": "NclUP3xdJRjT",
        "colab_type": "code",
        "colab": {}
      },
      "source": [
        "data = (TabularList.from_df(df, path=path, cat_names=cat_vars, cont_names=cont_vars, procs=procs,)\n",
        "                .split_by_idx(valid_idx)\n",
        "                .label_from_df(cols=dep_var, label_cls=FloatList, log=True)\n",
        "                .add_test(TabularList.from_df(test_df, path=path, cat_names=cat_vars, cont_names=cont_vars))\n",
        "                .databunch())\n",
        "FloatList?\n",
        "CategoryList?"
      ],
      "execution_count": 0,
      "outputs": []
    },
    {
      "cell_type": "markdown",
      "metadata": {
        "id": "-yCl0twwJRjV",
        "colab_type": "text"
      },
      "source": [
        "### Model"
      ]
    },
    {
      "cell_type": "code",
      "metadata": {
        "id": "kQnJ0mT9JRjV",
        "colab_type": "code",
        "colab": {
          "base_uri": "https://localhost:8080/",
          "height": 181
        },
        "outputId": "271cf899-3243-4d19-ce55-40dfd74a6b06"
      },
      "source": [
        "max_log_y = np.log(np.max(train_df[dep_var])*1.2)\n",
        "y_range = torch.tensor([0, max_log_y], device=defaults.device)"
      ],
      "execution_count": 87,
      "outputs": [
        {
          "output_type": "error",
          "ename": "AttributeError",
          "evalue": "ignored",
          "traceback": [
            "\u001b[0;31m---------------------------------------------------------------------------\u001b[0m",
            "\u001b[0;31mAttributeError\u001b[0m                            Traceback (most recent call last)",
            "\u001b[0;32m<ipython-input-87-af6f1ff46bff>\u001b[0m in \u001b[0;36m<module>\u001b[0;34m()\u001b[0m\n\u001b[1;32m      1\u001b[0m \u001b[0mmax_log_y\u001b[0m \u001b[0;34m=\u001b[0m \u001b[0mnp\u001b[0m\u001b[0;34m.\u001b[0m\u001b[0mlog\u001b[0m\u001b[0;34m(\u001b[0m\u001b[0mnp\u001b[0m\u001b[0;34m.\u001b[0m\u001b[0mmax\u001b[0m\u001b[0;34m(\u001b[0m\u001b[0mtrain_df\u001b[0m\u001b[0;34m[\u001b[0m\u001b[0mdep_var\u001b[0m\u001b[0;34m]\u001b[0m\u001b[0;34m)\u001b[0m\u001b[0;34m*\u001b[0m\u001b[0;36m1.2\u001b[0m\u001b[0;34m)\u001b[0m\u001b[0;34m\u001b[0m\u001b[0;34m\u001b[0m\u001b[0m\n\u001b[0;32m----> 2\u001b[0;31m \u001b[0my_range\u001b[0m \u001b[0;34m=\u001b[0m \u001b[0mtorch\u001b[0m\u001b[0;34m.\u001b[0m\u001b[0mtensor\u001b[0m\u001b[0;34m(\u001b[0m\u001b[0;34m[\u001b[0m\u001b[0;36m0\u001b[0m\u001b[0;34m,\u001b[0m \u001b[0mmax_log_y\u001b[0m\u001b[0;34m]\u001b[0m\u001b[0;34m,\u001b[0m \u001b[0mdevice\u001b[0m\u001b[0;34m=\u001b[0m\u001b[0mdefaults\u001b[0m\u001b[0;34m.\u001b[0m\u001b[0mdefaults\u001b[0m\u001b[0;34m.\u001b[0m\u001b[0mdevice\u001b[0m\u001b[0;34m)\u001b[0m\u001b[0;34m\u001b[0m\u001b[0;34m\u001b[0m\u001b[0m\n\u001b[0m",
            "\u001b[0;31mAttributeError\u001b[0m: 'types.SimpleNamespace' object has no attribute 'defaults'"
          ]
        }
      ]
    },
    {
      "cell_type": "code",
      "metadata": {
        "id": "Bm-lBz87JRjW",
        "colab_type": "code",
        "colab": {}
      },
      "source": [
        "learn = tabular_learner(data, layers=[1000,500], ps=[0.001,0.01], emb_drop=0.04, \n",
        "                        y_range=y_range, metrics=exp_rmspe)"
      ],
      "execution_count": 0,
      "outputs": []
    },
    {
      "cell_type": "code",
      "metadata": {
        "id": "MQB9Eq2RJRjb",
        "colab_type": "code",
        "colab": {}
      },
      "source": [
        "# doc(tabular_learner)"
      ],
      "execution_count": 0,
      "outputs": []
    },
    {
      "cell_type": "code",
      "metadata": {
        "id": "Cmg7aOiiJRjd",
        "colab_type": "code",
        "colab": {
          "base_uri": "https://localhost:8080/",
          "height": 527
        },
        "outputId": "931c7e55-2d76-4e1d-9917-f55cb6593192"
      },
      "source": [
        "learn.model"
      ],
      "execution_count": 81,
      "outputs": [
        {
          "output_type": "execute_result",
          "data": {
            "text/plain": [
              "TabularModel(\n",
              "  (embeds): ModuleList(\n",
              "    (0): Embedding(24, 9)\n",
              "    (1): Embedding(18, 8)\n",
              "    (2): Embedding(13, 7)\n",
              "    (3): Embedding(54, 15)\n",
              "    (4): Embedding(32, 11)\n",
              "    (5): Embedding(6, 4)\n",
              "    (6): Embedding(367, 44)\n",
              "    (7): Embedding(3, 3)\n",
              "    (8): Embedding(3, 3)\n",
              "    (9): Embedding(3, 3)\n",
              "    (10): Embedding(3, 3)\n",
              "    (11): Embedding(3, 3)\n",
              "    (12): Embedding(3, 3)\n",
              "  )\n",
              "  (emb_drop): Dropout(p=0.04)\n",
              "  (bn_cont): BatchNorm1d(0, eps=1e-05, momentum=0.1, affine=True, track_running_stats=True)\n",
              "  (layers): Sequential(\n",
              "    (0): Linear(in_features=116, out_features=1000, bias=True)\n",
              "    (1): ReLU(inplace)\n",
              "    (2): BatchNorm1d(1000, eps=1e-05, momentum=0.1, affine=True, track_running_stats=True)\n",
              "    (3): Dropout(p=0.001)\n",
              "    (4): Linear(in_features=1000, out_features=500, bias=True)\n",
              "    (5): ReLU(inplace)\n",
              "    (6): BatchNorm1d(500, eps=1e-05, momentum=0.1, affine=True, track_running_stats=True)\n",
              "    (7): Dropout(p=0.01)\n",
              "    (8): Linear(in_features=500, out_features=1, bias=True)\n",
              "  )\n",
              ")"
            ]
          },
          "metadata": {
            "tags": []
          },
          "execution_count": 81
        }
      ]
    },
    {
      "cell_type": "code",
      "metadata": {
        "id": "JaZQqsvfJRje",
        "colab_type": "code",
        "colab": {
          "base_uri": "https://localhost:8080/",
          "height": 34
        },
        "outputId": "e016994e-4785-4f45-b7a7-68711267165e"
      },
      "source": [
        "len(data.train_ds.cont_names)"
      ],
      "execution_count": 82,
      "outputs": [
        {
          "output_type": "execute_result",
          "data": {
            "text/plain": [
              "0"
            ]
          },
          "metadata": {
            "tags": []
          },
          "execution_count": 82
        }
      ]
    },
    {
      "cell_type": "code",
      "metadata": {
        "id": "kyT9HU-LJRji",
        "colab_type": "code",
        "colab": {
          "base_uri": "https://localhost:8080/",
          "height": 34
        },
        "outputId": "98b7565b-5efd-443d-e8f2-56a856d8b76f"
      },
      "source": [
        "learn.lr_find()"
      ],
      "execution_count": 83,
      "outputs": [
        {
          "output_type": "display_data",
          "data": {
            "text/html": [
              ""
            ],
            "text/plain": [
              "<IPython.core.display.HTML object>"
            ]
          },
          "metadata": {
            "tags": []
          }
        },
        {
          "output_type": "stream",
          "text": [
            "LR Finder is complete, type {learner_name}.recorder.plot() to see the graph.\n"
          ],
          "name": "stdout"
        }
      ]
    },
    {
      "cell_type": "code",
      "metadata": {
        "id": "vAyOUM7wJRjk",
        "colab_type": "code",
        "colab": {
          "base_uri": "https://localhost:8080/",
          "height": 292
        },
        "outputId": "09175474-b274-4c69-cfcc-6c5babd6cc05"
      },
      "source": [
        "learn.recorder.plot()"
      ],
      "execution_count": 61,
      "outputs": [
        {
          "output_type": "display_data",
          "data": {
            "image/png": "[encoded data removed]",
            "text/plain": [
              "<Figure size 432x288 with 1 Axes>"
            ]
          },
          "metadata": {
            "tags": []
          }
        }
      ]
    },
    {
      "cell_type": "code",
      "metadata": {
        "id": "rRqmRng5JRjn",
        "colab_type": "code",
        "colab": {
          "base_uri": "https://localhost:8080/",
          "height": 204
        },
        "outputId": "6157d55c-b18b-417b-a20d-4f6ded57f276"
      },
      "source": [
        "learn.fit_one_cycle(5, 2e-6, wd=0.2)"
      ],
      "execution_count": 86,
      "outputs": [
        {
          "output_type": "display_data",
          "data": {
            "text/html": [
              "<table border=\"1\" class=\"dataframe\">\n",
              "  <thead>\n",
              "    <tr style=\"text-align: left;\">\n",
              "      <th>epoch</th>\n",
              "      <th>train_loss</th>\n",
              "      <th>valid_loss</th>\n",
              "      <th>exp_rmspe</th>\n",
              "      <th>time</th>\n",
              "    </tr>\n",
              "  </thead>\n",
              "  <tbody>\n",
              "    <tr>\n",
              "      <td>0</td>\n",
              "      <td>nan</td>\n",
              "      <td>nan</td>\n",
              "      <td>nan</td>\n",
              "      <td>00:11</td>\n",
              "    </tr>\n",
              "    <tr>\n",
              "      <td>1</td>\n",
              "      <td>nan</td>\n",
              "      <td>nan</td>\n",
              "      <td>nan</td>\n",
              "      <td>00:12</td>\n",
              "    </tr>\n",
              "    <tr>\n",
              "      <td>2</td>\n",
              "      <td>nan</td>\n",
              "      <td>nan</td>\n",
              "      <td>nan</td>\n",
              "      <td>00:11</td>\n",
              "    </tr>\n",
              "    <tr>\n",
              "      <td>3</td>\n",
              "      <td>nan</td>\n",
              "      <td>nan</td>\n",
              "      <td>nan</td>\n",
              "      <td>00:11</td>\n",
              "    </tr>\n",
              "    <tr>\n",
              "      <td>4</td>\n",
              "      <td>nan</td>\n",
              "      <td>nan</td>\n",
              "      <td>nan</td>\n",
              "      <td>00:13</td>\n",
              "    </tr>\n",
              "  </tbody>\n",
              "</table>"
            ],
            "text/plain": [
              "<IPython.core.display.HTML object>"
            ]
          },
          "metadata": {
            "tags": []
          }
        }
      ]
    },
    {
      "cell_type": "code",
      "metadata": {
        "id": "IDxVjdaoJRjp",
        "colab_type": "code",
        "colab": {}
      },
      "source": [
        ""
      ],
      "execution_count": 0,
      "outputs": []
    }
  ]
}
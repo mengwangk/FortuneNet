{
 "cells": [
  {
   "cell_type": "markdown",
   "metadata": {
    "colab_type": "text",
    "id": "view-in-github"
   },
   "source": [
    "<a href=\"https://colab.research.google.com/github/mengwangk/dl-projects/blob/master/number_crunching.ipynb\" target=\"_parent\"><img src=\"https://colab.research.google.com/assets/colab-badge.svg\" alt=\"Open In Colab\"/></a>"
   ]
  },
  {
   "cell_type": "markdown",
   "metadata": {
    "colab_type": "text",
    "id": "b5243bUj8-K1",
    "toc-hr-collapsed": false
   },
   "source": [
    "# Deep Learning Methods"
   ]
  },
  {
   "cell_type": "markdown",
   "metadata": {
    "colab_type": "text",
    "id": "CQBDKNHCB7gO"
   },
   "source": [
    "## Magic"
   ]
  },
  {
   "cell_type": "code",
   "execution_count": 2,
   "metadata": {
    "colab": {},
    "colab_type": "code",
    "id": "-IIhuSvDcwZy"
   },
   "outputs": [],
   "source": [
    "%reload_ext autoreload\n",
    "%autoreload 2\n",
    "\n",
    "%matplotlib inline"
   ]
  },
  {
   "cell_type": "code",
   "execution_count": 3,
   "metadata": {
    "colab": {},
    "colab_type": "code",
    "id": "pdS7XRoicwZ2"
   },
   "outputs": [],
   "source": [
    "# To support both python 2 and python 3\n",
    "from __future__ import division, print_function, unicode_literals\n",
    "\n",
    "# Common imports\n",
    "import numpy as np\n",
    "import os\n",
    "import pandas as pd\n",
    "import featuretools as ft\n",
    "import matplotlib as mpl\n",
    "import matplotlib.pyplot as plt"
   ]
  },
  {
   "cell_type": "code",
   "execution_count": 4,
   "metadata": {
    "colab": {},
    "colab_type": "code",
    "id": "A9eZHyChcwZ4"
   },
   "outputs": [],
   "source": [
    "from fastai.basics import *\n",
    "from fastai.tabular import *"
   ]
  },
  {
   "cell_type": "code",
   "execution_count": 5,
   "metadata": {
    "colab": {},
    "colab_type": "code",
    "id": "L9xMGiLBc1gn"
   },
   "outputs": [],
   "source": [
    "# pdb.set_trace"
   ]
  },
  {
   "cell_type": "markdown",
   "metadata": {
    "colab_type": "text",
    "id": "ugtBDkyVcwZ6"
   },
   "source": [
    "## Setup"
   ]
  },
  {
   "cell_type": "code",
   "execution_count": 6,
   "metadata": {
    "colab": {},
    "colab_type": "code",
    "id": "tc6D3kBScwZ7"
   },
   "outputs": [],
   "source": [
    "# to make this notebook's output stable across runs\n",
    "np.random.seed(42)\n",
    "\n",
    "mpl.rc('axes', labelsize=14)\n",
    "mpl.rc('xtick', labelsize=12)\n",
    "mpl.rc('ytick', labelsize=12)\n",
    "\n",
    "# Ignore useless warnings (see SciPy issue #5998)\n",
    "import warnings\n",
    "warnings.filterwarnings(action=\"ignore\", message=\"^internal gelsd\")\n",
    "\n",
    "from IPython.display import display\n",
    "pd.options.display.max_columns = 50\n",
    "pd.options.display.html.table_schema = True"
   ]
  },
  {
   "cell_type": "code",
   "execution_count": 7,
   "metadata": {
    "colab": {},
    "colab_type": "code",
    "id": "qEhj3OF3cwZ9"
   },
   "outputs": [],
   "source": [
    "# Where to save the figures\n",
    "PROJECT_ROOT_DIR = \".\"\n",
    "ID = \"number_cruncher\"\n",
    "IMAGES_PATH = os.path.join(PROJECT_ROOT_DIR, \"images\", ID)\n",
    "\n",
    "def save_fig(fig_id, tight_layout=True, fig_extension=\"png\", resolution=300):\n",
    "    path = os.path.join(IMAGES_PATH, fig_id + \".\" + fig_extension)\n",
    "    print(\"Saving figure\", fig_id)\n",
    "    if tight_layout:\n",
    "        plt.tight_layout()\n",
    "    plt.savefig(path, format=fig_extension, dpi=resolution)"
   ]
  },
  {
   "cell_type": "markdown",
   "metadata": {
    "colab_type": "text",
    "id": "W9QfYuy9cwZ_"
   },
   "source": [
    "## Helper Functions"
   ]
  },
  {
   "cell_type": "code",
   "execution_count": 8,
   "metadata": {
    "colab": {},
    "colab_type": "code",
    "id": "-18vaytjcwaA"
   },
   "outputs": [],
   "source": [
    "def add_datepart(df, fldname, drop=True, time=False):\n",
    "    \"\"\"Helper function that adds columns relevant to a date.\"\"\"\n",
    "    fld = df[fldname]\n",
    "    fld_dtype = fld.dtype\n",
    "    if isinstance(fld_dtype, pd.core.dtypes.dtypes.DatetimeTZDtype):\n",
    "        fld_dtype = np.datetime64\n",
    "\n",
    "    if not np.issubdtype(fld_dtype, np.datetime64):\n",
    "        df[fldname] = fld = pd.to_datetime(fld, infer_datetime_format=True)\n",
    "    targ_pre = re.sub('[Dd]ate$', '', fldname)\n",
    "    attr = ['Year', 'Month', 'Week', 'Day', 'Dayofweek', 'Dayofyear',\n",
    "            'Is_month_end', 'Is_month_start', 'Is_quarter_end', 'Is_quarter_start', 'Is_year_end', 'Is_year_start']\n",
    "    if time: attr = attr + ['Hour', 'Minute', 'Second']\n",
    "    for n in attr: df[targ_pre + n] = getattr(fld.dt, n.lower())\n",
    "    df[targ_pre + 'Elapsed'] = fld.astype(np.int64) // 10 ** 9\n",
    "    if drop: df.drop(fldname, axis=1, inplace=True)"
   ]
  },
  {
   "cell_type": "code",
   "execution_count": 9,
   "metadata": {
    "colab": {},
    "colab_type": "code",
    "id": "qtjxNLZKc1gz"
   },
   "outputs": [],
   "source": [
    "def get_elapsed(fld, pre):\n",
    "    day1 = np.timedelta64(1, 'D')\n",
    "    last_date = np.datetime64()\n",
    "    last_store = 0\n",
    "    res = []\n",
    "\n",
    "    for s,v,d in zip(df.Store.values,df[fld].values, df.Date.values):\n",
    "        if s != last_store:\n",
    "            last_date = np.datetime64()\n",
    "            last_store = s\n",
    "        if v: last_date = d\n",
    "        res.append(((d-last_date).astype('timedelta64[D]') / day1))\n",
    "    df[pre+fld] = res"
   ]
  },
  {
   "cell_type": "code",
   "execution_count": 10,
   "metadata": {
    "colab": {},
    "colab_type": "code",
    "id": "Hj7lXLY3cwaD"
   },
   "outputs": [],
   "source": [
    "def download_file(url, path, download_path):\n",
    "    \"\"\"Download the dataset\"\"\"\n",
    "    if not os.path.isdir(path):\n",
    "        os.makedirs(path)\n",
    "    urllib.request.urlretrieve(url, download_path)\n",
    "    if (os.path.isfile(download_path)):\n",
    "        print(f'Download path: {download_path}')"
   ]
  },
  {
   "cell_type": "code",
   "execution_count": null,
   "metadata": {},
   "outputs": [],
   "source": []
  },
  {
   "cell_type": "markdown",
   "metadata": {
    "colab_type": "text",
    "id": "JigLrfOscwaH"
   },
   "source": [
    "## Datasets - Run the section you want to analyse"
   ]
  },
  {
   "cell_type": "code",
   "execution_count": 11,
   "metadata": {
    "colab": {},
    "colab_type": "code",
    "id": "O1oXBFtycwaH"
   },
   "outputs": [],
   "source": [
    "import os\n",
    "import zipfile\n",
    "from six.moves import urllib\n",
    "\n",
    "DOWNLOAD_ROOT = \"http://www.sportstoto.com.my/\"\n",
    "LOTTO_PATH = os.path.join(os.getcwd(), \"datasets\", \"lotto\")"
   ]
  },
  {
   "cell_type": "markdown",
   "metadata": {
    "colab_type": "text",
    "id": "9DdDmsXnCDK4"
   },
   "source": [
    "### Dataset - 4D"
   ]
  },
  {
   "cell_type": "code",
   "execution_count": 12,
   "metadata": {
    "colab": {},
    "colab_type": "code",
    "id": "KYjdmdlacwaM"
   },
   "outputs": [],
   "source": [
    "_4D_URL = DOWNLOAD_ROOT + \"upload/4D.zip\"\n",
    "_4D_ZIP = os.path.join(LOTTO_PATH, \"4D.zip\")"
   ]
  },
  {
   "cell_type": "code",
   "execution_count": 13,
   "metadata": {
    "colab": {
     "base_uri": "https://localhost:8080/",
     "height": 34
    },
    "colab_type": "code",
    "id": "kcCjDnNqCsxN",
    "outputId": "b1341e49-8fbd-4e34-aca0-28a6f0629273"
   },
   "outputs": [
    {
     "name": "stdout",
     "output_type": "stream",
     "text": [
      "Download path: /Users/mengwangk/workspace/development/dl-projects/datasets/lotto/4D.zip\n"
     ]
    }
   ],
   "source": [
    "# Download 4D\n",
    "download_file(_4D_URL, LOTTO_PATH, _4D_ZIP)"
   ]
  },
  {
   "cell_type": "code",
   "execution_count": 14,
   "metadata": {
    "colab": {},
    "colab_type": "code",
    "id": "eDYOndxHcwaU"
   },
   "outputs": [],
   "source": [
    "downloaded_file = _4D_ZIP"
   ]
  },
  {
   "cell_type": "markdown",
   "metadata": {
    "colab_type": "text",
    "id": "PpAs4SgXcwaW"
   },
   "source": [
    "### Dataset - Others"
   ]
  },
  {
   "cell_type": "code",
   "execution_count": null,
   "metadata": {
    "colab": {},
    "colab_type": "code",
    "id": "88ENAOYFcwaX"
   },
   "outputs": [],
   "source": []
  },
  {
   "cell_type": "markdown",
   "metadata": {
    "colab_type": "text",
    "id": "rNk59tWhcwaZ"
   },
   "source": [
    "## Read the downloaded file"
   ]
  },
  {
   "cell_type": "code",
   "execution_count": 15,
   "metadata": {
    "colab": {},
    "colab_type": "code",
    "id": "I7frraxZLNzA"
   },
   "outputs": [],
   "source": [
    "# Read into data frame\n",
    "df = pd.read_csv(downloaded_file, header=0, sep=',', quotechar='\"')"
   ]
  },
  {
   "cell_type": "code",
   "execution_count": 16,
   "metadata": {
    "colab": {
     "base_uri": "https://localhost:8080/",
     "height": 379
    },
    "colab_type": "code",
    "id": "ZlLHkuqmEeI2",
    "outputId": "57f46060-3d90-4c84-ebdc-c2e864b7eed1"
   },
   "outputs": [
    {
     "data": {
      "application/vnd.dataresource+json": {
       "data": [
        {
         "1stPrizeNo": 4599,
         "2ndPrizeNo": 2772,
         "3rdPrizeNo": 675,
         "ConsolationNo1": 5133,
         "ConsolationNo10": 6522,
         "ConsolationNo2": 141,
         "ConsolationNo3": 830,
         "ConsolationNo4": 2442,
         "ConsolationNo5": 4281,
         "ConsolationNo6": 5616,
         "ConsolationNo7": 1731,
         "ConsolationNo8": 1441,
         "ConsolationNo9": 4717,
         "DrawDate": 20190518,
         "DrawNo": 494819,
         "SpecialNo1": 7822,
         "SpecialNo10": 1905,
         "SpecialNo2": 2971,
         "SpecialNo3": 4857,
         "SpecialNo4": 2592,
         "SpecialNo5": 2666,
         "SpecialNo6": 8753,
         "SpecialNo7": 7027,
         "SpecialNo8": 7050,
         "SpecialNo9": 3127,
         "index": 4540
        },
        {
         "1stPrizeNo": 9533,
         "2ndPrizeNo": 5236,
         "3rdPrizeNo": 6643,
         "ConsolationNo1": 2023,
         "ConsolationNo10": 1665,
         "ConsolationNo2": 8989,
         "ConsolationNo3": 406,
         "ConsolationNo4": 9780,
         "ConsolationNo5": 503,
         "ConsolationNo6": 182,
         "ConsolationNo7": 3016,
         "ConsolationNo8": 5118,
         "ConsolationNo9": 39,
         "DrawDate": 20190519,
         "DrawNo": 494919,
         "SpecialNo1": 2726,
         "SpecialNo10": 3791,
         "SpecialNo2": 9971,
         "SpecialNo3": 664,
         "SpecialNo4": 6970,
         "SpecialNo5": 3607,
         "SpecialNo6": 3404,
         "SpecialNo7": 920,
         "SpecialNo8": 8625,
         "SpecialNo9": 94,
         "index": 4541
        },
        {
         "1stPrizeNo": 2107,
         "2ndPrizeNo": 2140,
         "3rdPrizeNo": 5099,
         "ConsolationNo1": 6628,
         "ConsolationNo10": 4319,
         "ConsolationNo2": 3068,
         "ConsolationNo3": 5040,
         "ConsolationNo4": 5548,
         "ConsolationNo5": 8464,
         "ConsolationNo6": 1348,
         "ConsolationNo7": 4195,
         "ConsolationNo8": 3481,
         "ConsolationNo9": 1272,
         "DrawDate": 20190522,
         "DrawNo": 495019,
         "SpecialNo1": 6017,
         "SpecialNo10": 7792,
         "SpecialNo2": 6539,
         "SpecialNo3": 7674,
         "SpecialNo4": 5693,
         "SpecialNo5": 9347,
         "SpecialNo6": 2556,
         "SpecialNo7": 757,
         "SpecialNo8": 7523,
         "SpecialNo9": 5538,
         "index": 4542
        },
        {
         "1stPrizeNo": 5337,
         "2ndPrizeNo": 1484,
         "3rdPrizeNo": 1311,
         "ConsolationNo1": 3750,
         "ConsolationNo10": 8313,
         "ConsolationNo2": 2593,
         "ConsolationNo3": 8374,
         "ConsolationNo4": 3788,
         "ConsolationNo5": 8717,
         "ConsolationNo6": 396,
         "ConsolationNo7": 8161,
         "ConsolationNo8": 3780,
         "ConsolationNo9": 3418,
         "DrawDate": 20190525,
         "DrawNo": 495119,
         "SpecialNo1": 1056,
         "SpecialNo10": 3967,
         "SpecialNo2": 5204,
         "SpecialNo3": 6491,
         "SpecialNo4": 3950,
         "SpecialNo5": 5034,
         "SpecialNo6": 517,
         "SpecialNo7": 976,
         "SpecialNo8": 2873,
         "SpecialNo9": 9890,
         "index": 4543
        },
        {
         "1stPrizeNo": 5456,
         "2ndPrizeNo": 5388,
         "3rdPrizeNo": 6294,
         "ConsolationNo1": 8268,
         "ConsolationNo10": 4376,
         "ConsolationNo2": 7579,
         "ConsolationNo3": 4873,
         "ConsolationNo4": 9143,
         "ConsolationNo5": 8421,
         "ConsolationNo6": 3413,
         "ConsolationNo7": 4499,
         "ConsolationNo8": 5424,
         "ConsolationNo9": 8929,
         "DrawDate": 20190526,
         "DrawNo": 495219,
         "SpecialNo1": 448,
         "SpecialNo10": 462,
         "SpecialNo2": 9000,
         "SpecialNo3": 9237,
         "SpecialNo4": 3870,
         "SpecialNo5": 3669,
         "SpecialNo6": 7182,
         "SpecialNo7": 2766,
         "SpecialNo8": 655,
         "SpecialNo9": 6450,
         "index": 4544
        },
        {
         "1stPrizeNo": 6220,
         "2ndPrizeNo": 147,
         "3rdPrizeNo": 5344,
         "ConsolationNo1": 2207,
         "ConsolationNo10": 3250,
         "ConsolationNo2": 9043,
         "ConsolationNo3": 8072,
         "ConsolationNo4": 6455,
         "ConsolationNo5": 8531,
         "ConsolationNo6": 2449,
         "ConsolationNo7": 8621,
         "ConsolationNo8": 4478,
         "ConsolationNo9": 4027,
         "DrawDate": 20190529,
         "DrawNo": 495319,
         "SpecialNo1": 2488,
         "SpecialNo10": 9456,
         "SpecialNo2": 7321,
         "SpecialNo3": 8056,
         "SpecialNo4": 4491,
         "SpecialNo5": 9435,
         "SpecialNo6": 5319,
         "SpecialNo7": 8189,
         "SpecialNo8": 2549,
         "SpecialNo9": 6311,
         "index": 4545
        },
        {
         "1stPrizeNo": 7882,
         "2ndPrizeNo": 8550,
         "3rdPrizeNo": 7022,
         "ConsolationNo1": 2969,
         "ConsolationNo10": 4336,
         "ConsolationNo2": 2006,
         "ConsolationNo3": 9275,
         "ConsolationNo4": 2089,
         "ConsolationNo5": 3649,
         "ConsolationNo6": 2537,
         "ConsolationNo7": 3566,
         "ConsolationNo8": 6964,
         "ConsolationNo9": 4626,
         "DrawDate": 20190601,
         "DrawNo": 495419,
         "SpecialNo1": 511,
         "SpecialNo10": 5916,
         "SpecialNo2": 4738,
         "SpecialNo3": 128,
         "SpecialNo4": 911,
         "SpecialNo5": 1661,
         "SpecialNo6": 2986,
         "SpecialNo7": 2885,
         "SpecialNo8": 5687,
         "SpecialNo9": 4664,
         "index": 4546
        },
        {
         "1stPrizeNo": 2646,
         "2ndPrizeNo": 3531,
         "3rdPrizeNo": 7330,
         "ConsolationNo1": 5914,
         "ConsolationNo10": 1693,
         "ConsolationNo2": 6124,
         "ConsolationNo3": 6946,
         "ConsolationNo4": 2270,
         "ConsolationNo5": 7425,
         "ConsolationNo6": 6924,
         "ConsolationNo7": 1698,
         "ConsolationNo8": 2663,
         "ConsolationNo9": 7664,
         "DrawDate": 20190602,
         "DrawNo": 495519,
         "SpecialNo1": 4150,
         "SpecialNo10": 5545,
         "SpecialNo2": 7579,
         "SpecialNo3": 767,
         "SpecialNo4": 437,
         "SpecialNo5": 558,
         "SpecialNo6": 4071,
         "SpecialNo7": 904,
         "SpecialNo8": 7159,
         "SpecialNo9": 4811,
         "index": 4547
        },
        {
         "1stPrizeNo": 7389,
         "2ndPrizeNo": 6576,
         "3rdPrizeNo": 1495,
         "ConsolationNo1": 3610,
         "ConsolationNo10": 678,
         "ConsolationNo2": 5099,
         "ConsolationNo3": 6276,
         "ConsolationNo4": 4486,
         "ConsolationNo5": 1904,
         "ConsolationNo6": 5901,
         "ConsolationNo7": 9713,
         "ConsolationNo8": 977,
         "ConsolationNo9": 9927,
         "DrawDate": 20190605,
         "DrawNo": 495619,
         "SpecialNo1": 1678,
         "SpecialNo10": 2177,
         "SpecialNo2": 1826,
         "SpecialNo3": 1359,
         "SpecialNo4": 6090,
         "SpecialNo5": 3252,
         "SpecialNo6": 1314,
         "SpecialNo7": 7001,
         "SpecialNo8": 4819,
         "SpecialNo9": 1715,
         "index": 4548
        },
        {
         "1stPrizeNo": 307,
         "2ndPrizeNo": 2971,
         "3rdPrizeNo": 7758,
         "ConsolationNo1": 6780,
         "ConsolationNo10": 3397,
         "ConsolationNo2": 7829,
         "ConsolationNo3": 6894,
         "ConsolationNo4": 6801,
         "ConsolationNo5": 6,
         "ConsolationNo6": 4591,
         "ConsolationNo7": 6964,
         "ConsolationNo8": 9531,
         "ConsolationNo9": 4031,
         "DrawDate": 20190608,
         "DrawNo": 495719,
         "SpecialNo1": 2927,
         "SpecialNo10": 5228,
         "SpecialNo2": 7287,
         "SpecialNo3": 3709,
         "SpecialNo4": 3925,
         "SpecialNo5": 4206,
         "SpecialNo6": 4703,
         "SpecialNo7": 1144,
         "SpecialNo8": 7351,
         "SpecialNo9": 6775,
         "index": 4549
        }
       ],
       "schema": {
        "fields": [
         {
          "name": "index",
          "type": "integer"
         },
         {
          "name": "DrawNo",
          "type": "integer"
         },
         {
          "name": "DrawDate",
          "type": "integer"
         },
         {
          "name": "1stPrizeNo",
          "type": "integer"
         },
         {
          "name": "2ndPrizeNo",
          "type": "integer"
         },
         {
          "name": "3rdPrizeNo",
          "type": "integer"
         },
         {
          "name": "SpecialNo1",
          "type": "integer"
         },
         {
          "name": "SpecialNo2",
          "type": "integer"
         },
         {
          "name": "SpecialNo3",
          "type": "integer"
         },
         {
          "name": "SpecialNo4",
          "type": "integer"
         },
         {
          "name": "SpecialNo5",
          "type": "integer"
         },
         {
          "name": "SpecialNo6",
          "type": "integer"
         },
         {
          "name": "SpecialNo7",
          "type": "integer"
         },
         {
          "name": "SpecialNo8",
          "type": "integer"
         },
         {
          "name": "SpecialNo9",
          "type": "integer"
         },
         {
          "name": "SpecialNo10",
          "type": "integer"
         },
         {
          "name": "ConsolationNo1",
          "type": "integer"
         },
         {
          "name": "ConsolationNo2",
          "type": "integer"
         },
         {
          "name": "ConsolationNo3",
          "type": "integer"
         },
         {
          "name": "ConsolationNo4",
          "type": "integer"
         },
         {
          "name": "ConsolationNo5",
          "type": "integer"
         },
         {
          "name": "ConsolationNo6",
          "type": "integer"
         },
         {
          "name": "ConsolationNo7",
          "type": "integer"
         },
         {
          "name": "ConsolationNo8",
          "type": "integer"
         },
         {
          "name": "ConsolationNo9",
          "type": "integer"
         },
         {
          "name": "ConsolationNo10",
          "type": "integer"
         }
        ],
        "pandas_version": "0.20.0",
        "primaryKey": [
         "index"
        ]
       }
      },
      "text/html": [
       "<div>\n",
       "<style scoped>\n",
       "    .dataframe tbody tr th:only-of-type {\n",
       "        vertical-align: middle;\n",
       "    }\n",
       "\n",
       "    .dataframe tbody tr th {\n",
       "        vertical-align: top;\n",
       "    }\n",
       "\n",
       "    .dataframe thead th {\n",
       "        text-align: right;\n",
       "    }\n",
       "</style>\n",
       "<table border=\"1\" class=\"dataframe\">\n",
       "  <thead>\n",
       "    <tr style=\"text-align: right;\">\n",
       "      <th></th>\n",
       "      <th>DrawNo</th>\n",
       "      <th>DrawDate</th>\n",
       "      <th>1stPrizeNo</th>\n",
       "      <th>2ndPrizeNo</th>\n",
       "      <th>3rdPrizeNo</th>\n",
       "      <th>SpecialNo1</th>\n",
       "      <th>SpecialNo2</th>\n",
       "      <th>SpecialNo3</th>\n",
       "      <th>SpecialNo4</th>\n",
       "      <th>SpecialNo5</th>\n",
       "      <th>SpecialNo6</th>\n",
       "      <th>SpecialNo7</th>\n",
       "      <th>SpecialNo8</th>\n",
       "      <th>SpecialNo9</th>\n",
       "      <th>SpecialNo10</th>\n",
       "      <th>ConsolationNo1</th>\n",
       "      <th>ConsolationNo2</th>\n",
       "      <th>ConsolationNo3</th>\n",
       "      <th>ConsolationNo4</th>\n",
       "      <th>ConsolationNo5</th>\n",
       "      <th>ConsolationNo6</th>\n",
       "      <th>ConsolationNo7</th>\n",
       "      <th>ConsolationNo8</th>\n",
       "      <th>ConsolationNo9</th>\n",
       "      <th>ConsolationNo10</th>\n",
       "    </tr>\n",
       "  </thead>\n",
       "  <tbody>\n",
       "    <tr>\n",
       "      <th>4540</th>\n",
       "      <td>494819</td>\n",
       "      <td>20190518</td>\n",
       "      <td>4599</td>\n",
       "      <td>2772</td>\n",
       "      <td>675</td>\n",
       "      <td>7822</td>\n",
       "      <td>2971</td>\n",
       "      <td>4857</td>\n",
       "      <td>2592</td>\n",
       "      <td>2666</td>\n",
       "      <td>8753</td>\n",
       "      <td>7027</td>\n",
       "      <td>7050</td>\n",
       "      <td>3127</td>\n",
       "      <td>1905</td>\n",
       "      <td>5133</td>\n",
       "      <td>141</td>\n",
       "      <td>830</td>\n",
       "      <td>2442</td>\n",
       "      <td>4281</td>\n",
       "      <td>5616</td>\n",
       "      <td>1731</td>\n",
       "      <td>1441</td>\n",
       "      <td>4717</td>\n",
       "      <td>6522</td>\n",
       "    </tr>\n",
       "    <tr>\n",
       "      <th>4541</th>\n",
       "      <td>494919</td>\n",
       "      <td>20190519</td>\n",
       "      <td>9533</td>\n",
       "      <td>5236</td>\n",
       "      <td>6643</td>\n",
       "      <td>2726</td>\n",
       "      <td>9971</td>\n",
       "      <td>664</td>\n",
       "      <td>6970</td>\n",
       "      <td>3607</td>\n",
       "      <td>3404</td>\n",
       "      <td>920</td>\n",
       "      <td>8625</td>\n",
       "      <td>94</td>\n",
       "      <td>3791</td>\n",
       "      <td>2023</td>\n",
       "      <td>8989</td>\n",
       "      <td>406</td>\n",
       "      <td>9780</td>\n",
       "      <td>503</td>\n",
       "      <td>182</td>\n",
       "      <td>3016</td>\n",
       "      <td>5118</td>\n",
       "      <td>39</td>\n",
       "      <td>1665</td>\n",
       "    </tr>\n",
       "    <tr>\n",
       "      <th>4542</th>\n",
       "      <td>495019</td>\n",
       "      <td>20190522</td>\n",
       "      <td>2107</td>\n",
       "      <td>2140</td>\n",
       "      <td>5099</td>\n",
       "      <td>6017</td>\n",
       "      <td>6539</td>\n",
       "      <td>7674</td>\n",
       "      <td>5693</td>\n",
       "      <td>9347</td>\n",
       "      <td>2556</td>\n",
       "      <td>757</td>\n",
       "      <td>7523</td>\n",
       "      <td>5538</td>\n",
       "      <td>7792</td>\n",
       "      <td>6628</td>\n",
       "      <td>3068</td>\n",
       "      <td>5040</td>\n",
       "      <td>5548</td>\n",
       "      <td>8464</td>\n",
       "      <td>1348</td>\n",
       "      <td>4195</td>\n",
       "      <td>3481</td>\n",
       "      <td>1272</td>\n",
       "      <td>4319</td>\n",
       "    </tr>\n",
       "    <tr>\n",
       "      <th>4543</th>\n",
       "      <td>495119</td>\n",
       "      <td>20190525</td>\n",
       "      <td>5337</td>\n",
       "      <td>1484</td>\n",
       "      <td>1311</td>\n",
       "      <td>1056</td>\n",
       "      <td>5204</td>\n",
       "      <td>6491</td>\n",
       "      <td>3950</td>\n",
       "      <td>5034</td>\n",
       "      <td>517</td>\n",
       "      <td>976</td>\n",
       "      <td>2873</td>\n",
       "      <td>9890</td>\n",
       "      <td>3967</td>\n",
       "      <td>3750</td>\n",
       "      <td>2593</td>\n",
       "      <td>8374</td>\n",
       "      <td>3788</td>\n",
       "      <td>8717</td>\n",
       "      <td>396</td>\n",
       "      <td>8161</td>\n",
       "      <td>3780</td>\n",
       "      <td>3418</td>\n",
       "      <td>8313</td>\n",
       "    </tr>\n",
       "    <tr>\n",
       "      <th>4544</th>\n",
       "      <td>495219</td>\n",
       "      <td>20190526</td>\n",
       "      <td>5456</td>\n",
       "      <td>5388</td>\n",
       "      <td>6294</td>\n",
       "      <td>448</td>\n",
       "      <td>9000</td>\n",
       "      <td>9237</td>\n",
       "      <td>3870</td>\n",
       "      <td>3669</td>\n",
       "      <td>7182</td>\n",
       "      <td>2766</td>\n",
       "      <td>655</td>\n",
       "      <td>6450</td>\n",
       "      <td>462</td>\n",
       "      <td>8268</td>\n",
       "      <td>7579</td>\n",
       "      <td>4873</td>\n",
       "      <td>9143</td>\n",
       "      <td>8421</td>\n",
       "      <td>3413</td>\n",
       "      <td>4499</td>\n",
       "      <td>5424</td>\n",
       "      <td>8929</td>\n",
       "      <td>4376</td>\n",
       "    </tr>\n",
       "    <tr>\n",
       "      <th>4545</th>\n",
       "      <td>495319</td>\n",
       "      <td>20190529</td>\n",
       "      <td>6220</td>\n",
       "      <td>147</td>\n",
       "      <td>5344</td>\n",
       "      <td>2488</td>\n",
       "      <td>7321</td>\n",
       "      <td>8056</td>\n",
       "      <td>4491</td>\n",
       "      <td>9435</td>\n",
       "      <td>5319</td>\n",
       "      <td>8189</td>\n",
       "      <td>2549</td>\n",
       "      <td>6311</td>\n",
       "      <td>9456</td>\n",
       "      <td>2207</td>\n",
       "      <td>9043</td>\n",
       "      <td>8072</td>\n",
       "      <td>6455</td>\n",
       "      <td>8531</td>\n",
       "      <td>2449</td>\n",
       "      <td>8621</td>\n",
       "      <td>4478</td>\n",
       "      <td>4027</td>\n",
       "      <td>3250</td>\n",
       "    </tr>\n",
       "    <tr>\n",
       "      <th>4546</th>\n",
       "      <td>495419</td>\n",
       "      <td>20190601</td>\n",
       "      <td>7882</td>\n",
       "      <td>8550</td>\n",
       "      <td>7022</td>\n",
       "      <td>511</td>\n",
       "      <td>4738</td>\n",
       "      <td>128</td>\n",
       "      <td>911</td>\n",
       "      <td>1661</td>\n",
       "      <td>2986</td>\n",
       "      <td>2885</td>\n",
       "      <td>5687</td>\n",
       "      <td>4664</td>\n",
       "      <td>5916</td>\n",
       "      <td>2969</td>\n",
       "      <td>2006</td>\n",
       "      <td>9275</td>\n",
       "      <td>2089</td>\n",
       "      <td>3649</td>\n",
       "      <td>2537</td>\n",
       "      <td>3566</td>\n",
       "      <td>6964</td>\n",
       "      <td>4626</td>\n",
       "      <td>4336</td>\n",
       "    </tr>\n",
       "    <tr>\n",
       "      <th>4547</th>\n",
       "      <td>495519</td>\n",
       "      <td>20190602</td>\n",
       "      <td>2646</td>\n",
       "      <td>3531</td>\n",
       "      <td>7330</td>\n",
       "      <td>4150</td>\n",
       "      <td>7579</td>\n",
       "      <td>767</td>\n",
       "      <td>437</td>\n",
       "      <td>558</td>\n",
       "      <td>4071</td>\n",
       "      <td>904</td>\n",
       "      <td>7159</td>\n",
       "      <td>4811</td>\n",
       "      <td>5545</td>\n",
       "      <td>5914</td>\n",
       "      <td>6124</td>\n",
       "      <td>6946</td>\n",
       "      <td>2270</td>\n",
       "      <td>7425</td>\n",
       "      <td>6924</td>\n",
       "      <td>1698</td>\n",
       "      <td>2663</td>\n",
       "      <td>7664</td>\n",
       "      <td>1693</td>\n",
       "    </tr>\n",
       "    <tr>\n",
       "      <th>4548</th>\n",
       "      <td>495619</td>\n",
       "      <td>20190605</td>\n",
       "      <td>7389</td>\n",
       "      <td>6576</td>\n",
       "      <td>1495</td>\n",
       "      <td>1678</td>\n",
       "      <td>1826</td>\n",
       "      <td>1359</td>\n",
       "      <td>6090</td>\n",
       "      <td>3252</td>\n",
       "      <td>1314</td>\n",
       "      <td>7001</td>\n",
       "      <td>4819</td>\n",
       "      <td>1715</td>\n",
       "      <td>2177</td>\n",
       "      <td>3610</td>\n",
       "      <td>5099</td>\n",
       "      <td>6276</td>\n",
       "      <td>4486</td>\n",
       "      <td>1904</td>\n",
       "      <td>5901</td>\n",
       "      <td>9713</td>\n",
       "      <td>977</td>\n",
       "      <td>9927</td>\n",
       "      <td>678</td>\n",
       "    </tr>\n",
       "    <tr>\n",
       "      <th>4549</th>\n",
       "      <td>495719</td>\n",
       "      <td>20190608</td>\n",
       "      <td>307</td>\n",
       "      <td>2971</td>\n",
       "      <td>7758</td>\n",
       "      <td>2927</td>\n",
       "      <td>7287</td>\n",
       "      <td>3709</td>\n",
       "      <td>3925</td>\n",
       "      <td>4206</td>\n",
       "      <td>4703</td>\n",
       "      <td>1144</td>\n",
       "      <td>7351</td>\n",
       "      <td>6775</td>\n",
       "      <td>5228</td>\n",
       "      <td>6780</td>\n",
       "      <td>7829</td>\n",
       "      <td>6894</td>\n",
       "      <td>6801</td>\n",
       "      <td>6</td>\n",
       "      <td>4591</td>\n",
       "      <td>6964</td>\n",
       "      <td>9531</td>\n",
       "      <td>4031</td>\n",
       "      <td>3397</td>\n",
       "    </tr>\n",
       "  </tbody>\n",
       "</table>\n",
       "</div>"
      ],
      "text/plain": [
       "      DrawNo  DrawDate  1stPrizeNo  2ndPrizeNo  3rdPrizeNo  SpecialNo1  \\\n",
       "4540  494819  20190518        4599        2772         675        7822   \n",
       "4541  494919  20190519        9533        5236        6643        2726   \n",
       "4542  495019  20190522        2107        2140        5099        6017   \n",
       "4543  495119  20190525        5337        1484        1311        1056   \n",
       "4544  495219  20190526        5456        5388        6294         448   \n",
       "4545  495319  20190529        6220         147        5344        2488   \n",
       "4546  495419  20190601        7882        8550        7022         511   \n",
       "4547  495519  20190602        2646        3531        7330        4150   \n",
       "4548  495619  20190605        7389        6576        1495        1678   \n",
       "4549  495719  20190608         307        2971        7758        2927   \n",
       "\n",
       "      SpecialNo2  SpecialNo3  SpecialNo4  SpecialNo5  SpecialNo6  SpecialNo7  \\\n",
       "4540        2971        4857        2592        2666        8753        7027   \n",
       "4541        9971         664        6970        3607        3404         920   \n",
       "4542        6539        7674        5693        9347        2556         757   \n",
       "4543        5204        6491        3950        5034         517         976   \n",
       "4544        9000        9237        3870        3669        7182        2766   \n",
       "4545        7321        8056        4491        9435        5319        8189   \n",
       "4546        4738         128         911        1661        2986        2885   \n",
       "4547        7579         767         437         558        4071         904   \n",
       "4548        1826        1359        6090        3252        1314        7001   \n",
       "4549        7287        3709        3925        4206        4703        1144   \n",
       "\n",
       "      SpecialNo8  SpecialNo9  SpecialNo10  ConsolationNo1  ConsolationNo2  \\\n",
       "4540        7050        3127         1905            5133             141   \n",
       "4541        8625          94         3791            2023            8989   \n",
       "4542        7523        5538         7792            6628            3068   \n",
       "4543        2873        9890         3967            3750            2593   \n",
       "4544         655        6450          462            8268            7579   \n",
       "4545        2549        6311         9456            2207            9043   \n",
       "4546        5687        4664         5916            2969            2006   \n",
       "4547        7159        4811         5545            5914            6124   \n",
       "4548        4819        1715         2177            3610            5099   \n",
       "4549        7351        6775         5228            6780            7829   \n",
       "\n",
       "      ConsolationNo3  ConsolationNo4  ConsolationNo5  ConsolationNo6  \\\n",
       "4540             830            2442            4281            5616   \n",
       "4541             406            9780             503             182   \n",
       "4542            5040            5548            8464            1348   \n",
       "4543            8374            3788            8717             396   \n",
       "4544            4873            9143            8421            3413   \n",
       "4545            8072            6455            8531            2449   \n",
       "4546            9275            2089            3649            2537   \n",
       "4547            6946            2270            7425            6924   \n",
       "4548            6276            4486            1904            5901   \n",
       "4549            6894            6801               6            4591   \n",
       "\n",
       "      ConsolationNo7  ConsolationNo8  ConsolationNo9  ConsolationNo10  \n",
       "4540            1731            1441            4717             6522  \n",
       "4541            3016            5118              39             1665  \n",
       "4542            4195            3481            1272             4319  \n",
       "4543            8161            3780            3418             8313  \n",
       "4544            4499            5424            8929             4376  \n",
       "4545            8621            4478            4027             3250  \n",
       "4546            3566            6964            4626             4336  \n",
       "4547            1698            2663            7664             1693  \n",
       "4548            9713             977            9927              678  \n",
       "4549            6964            9531            4031             3397  "
      ]
     },
     "execution_count": 16,
     "metadata": {},
     "output_type": "execute_result"
    }
   ],
   "source": [
    "# Tail the last 10 rows\n",
    "df.tail(10)"
   ]
  },
  {
   "cell_type": "markdown",
   "metadata": {
    "colab_type": "text",
    "id": "hJqn_qhfcwag",
    "toc-hr-collapsed": true
   },
   "source": [
    "## Preprocessing"
   ]
  },
  {
   "cell_type": "markdown",
   "metadata": {
    "colab_type": "text",
    "id": "yve_GeP_cwah"
   },
   "source": [
    "### Transpose the data"
   ]
  },
  {
   "cell_type": "code",
   "execution_count": 17,
   "metadata": {
    "colab": {
     "base_uri": "https://localhost:8080/",
     "height": 170
    },
    "colab_type": "code",
    "id": "Jk0qwa5kcwai",
    "outputId": "58781cbc-2551-4e76-e0b4-5c9a52b7961d"
   },
   "outputs": [
    {
     "name": "stdout",
     "output_type": "stream",
     "text": [
      "<class 'pandas.core.frame.DataFrame'>\n",
      "RangeIndex: 104650 entries, 0 to 104649\n",
      "Data columns (total 4 columns):\n",
      "DrawNo       104650 non-null int64\n",
      "DrawDate     104650 non-null datetime64[ns]\n",
      "PrizeType    104650 non-null object\n",
      "LuckyNo      104650 non-null int64\n",
      "dtypes: datetime64[ns](1), int64(2), object(1)\n",
      "memory usage: 3.2+ MB\n"
     ]
    }
   ],
   "source": [
    "df_transposed = df.melt(id_vars=[\"DrawNo\", \"DrawDate\"], var_name=\"PrizeType\", value_name=\"LuckyNo\")\n",
    "df_transposed = df_transposed.sort_values([\"DrawNo\", \"DrawDate\", \"PrizeType\"], ascending=True)\n",
    "df_transposed['DrawDate'] = pd.to_datetime(df_transposed['DrawDate'], format='%Y%m%d')\n",
    "df_transposed.reset_index(inplace=True, drop=True)\n",
    "df_transposed.info()"
   ]
  },
  {
   "cell_type": "code",
   "execution_count": 18,
   "metadata": {
    "colab": {
     "base_uri": "https://localhost:8080/",
     "height": 762
    },
    "colab_type": "code",
    "id": "TtPqd8Titw6r",
    "outputId": "1be14b50-aa80-4763-c7d5-e8301834da3b"
   },
   "outputs": [
    {
     "data": {
      "application/vnd.dataresource+json": {
       "data": [
        {
         "DrawDate": "1992-05-06T00:00:00.000Z",
         "DrawNo": 40792,
         "LuckyNo": 19,
         "PrizeType": "1stPrizeNo",
         "index": 0
        },
        {
         "DrawDate": "1992-05-06T00:00:00.000Z",
         "DrawNo": 40792,
         "LuckyNo": 1124,
         "PrizeType": "2ndPrizeNo",
         "index": 1
        },
        {
         "DrawDate": "1992-05-06T00:00:00.000Z",
         "DrawNo": 40792,
         "LuckyNo": 592,
         "PrizeType": "3rdPrizeNo",
         "index": 2
        },
        {
         "DrawDate": "1992-05-06T00:00:00.000Z",
         "DrawNo": 40792,
         "LuckyNo": 5311,
         "PrizeType": "ConsolationNo1",
         "index": 3
        },
        {
         "DrawDate": "1992-05-06T00:00:00.000Z",
         "DrawNo": 40792,
         "LuckyNo": 407,
         "PrizeType": "ConsolationNo10",
         "index": 4
        }
       ],
       "schema": {
        "fields": [
         {
          "name": "index",
          "type": "integer"
         },
         {
          "name": "DrawNo",
          "type": "integer"
         },
         {
          "name": "DrawDate",
          "type": "datetime"
         },
         {
          "name": "PrizeType",
          "type": "string"
         },
         {
          "name": "LuckyNo",
          "type": "integer"
         }
        ],
        "pandas_version": "0.20.0",
        "primaryKey": [
         "index"
        ]
       }
      },
      "text/html": [
       "<div>\n",
       "<style scoped>\n",
       "    .dataframe tbody tr th:only-of-type {\n",
       "        vertical-align: middle;\n",
       "    }\n",
       "\n",
       "    .dataframe tbody tr th {\n",
       "        vertical-align: top;\n",
       "    }\n",
       "\n",
       "    .dataframe thead th {\n",
       "        text-align: right;\n",
       "    }\n",
       "</style>\n",
       "<table border=\"1\" class=\"dataframe\">\n",
       "  <thead>\n",
       "    <tr style=\"text-align: right;\">\n",
       "      <th></th>\n",
       "      <th>DrawNo</th>\n",
       "      <th>DrawDate</th>\n",
       "      <th>PrizeType</th>\n",
       "      <th>LuckyNo</th>\n",
       "    </tr>\n",
       "  </thead>\n",
       "  <tbody>\n",
       "    <tr>\n",
       "      <th>0</th>\n",
       "      <td>40792</td>\n",
       "      <td>1992-05-06</td>\n",
       "      <td>1stPrizeNo</td>\n",
       "      <td>19</td>\n",
       "    </tr>\n",
       "    <tr>\n",
       "      <th>1</th>\n",
       "      <td>40792</td>\n",
       "      <td>1992-05-06</td>\n",
       "      <td>2ndPrizeNo</td>\n",
       "      <td>1124</td>\n",
       "    </tr>\n",
       "    <tr>\n",
       "      <th>2</th>\n",
       "      <td>40792</td>\n",
       "      <td>1992-05-06</td>\n",
       "      <td>3rdPrizeNo</td>\n",
       "      <td>592</td>\n",
       "    </tr>\n",
       "    <tr>\n",
       "      <th>3</th>\n",
       "      <td>40792</td>\n",
       "      <td>1992-05-06</td>\n",
       "      <td>ConsolationNo1</td>\n",
       "      <td>5311</td>\n",
       "    </tr>\n",
       "    <tr>\n",
       "      <th>4</th>\n",
       "      <td>40792</td>\n",
       "      <td>1992-05-06</td>\n",
       "      <td>ConsolationNo10</td>\n",
       "      <td>407</td>\n",
       "    </tr>\n",
       "  </tbody>\n",
       "</table>\n",
       "</div>"
      ],
      "text/plain": [
       "   DrawNo   DrawDate        PrizeType  LuckyNo\n",
       "0   40792 1992-05-06       1stPrizeNo       19\n",
       "1   40792 1992-05-06       2ndPrizeNo     1124\n",
       "2   40792 1992-05-06       3rdPrizeNo      592\n",
       "3   40792 1992-05-06   ConsolationNo1     5311\n",
       "4   40792 1992-05-06  ConsolationNo10      407"
      ]
     },
     "execution_count": 18,
     "metadata": {},
     "output_type": "execute_result"
    }
   ],
   "source": [
    "# Tail the data\n",
    "df_transposed.head(5)"
   ]
  },
  {
   "cell_type": "code",
   "execution_count": 120,
   "metadata": {
    "colab": {
     "base_uri": "https://localhost:8080/",
     "height": 549
    },
    "colab_type": "code",
    "id": "EISQP-uNcwar",
    "outputId": "bd4b5bb2-82ca-448a-c806-086845557298"
   },
   "outputs": [
    {
     "name": "stdout",
     "output_type": "stream",
     "text": [
      "Index(['DrawNo', 'DrawDate', 'PrizeType', 'LuckyNo', 'DrawYear', 'DrawMonth',\n",
      "       'DrawWeek', 'DrawDay', 'DrawDayofweek', 'DrawDayofyear',\n",
      "       'DrawIs_month_end', 'DrawIs_month_start', 'DrawIs_quarter_end',\n",
      "       'DrawIs_quarter_start', 'DrawIs_year_end', 'DrawIs_year_start',\n",
      "       'DrawElapsed'],\n",
      "      dtype='object')\n"
     ]
    },
    {
     "data": {
      "application/vnd.dataresource+json": {
       "data": [
        {
         "DrawDate": "1992-05-06T00:00:00.000Z",
         "DrawDay": 6,
         "DrawDayofweek": 2,
         "DrawDayofyear": 127,
         "DrawElapsed": 705110400,
         "DrawIs_month_end": false,
         "DrawIs_month_start": false,
         "DrawIs_quarter_end": false,
         "DrawIs_quarter_start": false,
         "DrawIs_year_end": false,
         "DrawIs_year_start": false,
         "DrawMonth": 5,
         "DrawNo": 40792,
         "DrawWeek": 19,
         "DrawYear": 1992,
         "LuckyNo": 19,
         "PrizeType": "1stPrizeNo",
         "index": 0
        },
        {
         "DrawDate": "1992-05-06T00:00:00.000Z",
         "DrawDay": 6,
         "DrawDayofweek": 2,
         "DrawDayofyear": 127,
         "DrawElapsed": 705110400,
         "DrawIs_month_end": false,
         "DrawIs_month_start": false,
         "DrawIs_quarter_end": false,
         "DrawIs_quarter_start": false,
         "DrawIs_year_end": false,
         "DrawIs_year_start": false,
         "DrawMonth": 5,
         "DrawNo": 40792,
         "DrawWeek": 19,
         "DrawYear": 1992,
         "LuckyNo": 1124,
         "PrizeType": "2ndPrizeNo",
         "index": 1
        },
        {
         "DrawDate": "1992-05-06T00:00:00.000Z",
         "DrawDay": 6,
         "DrawDayofweek": 2,
         "DrawDayofyear": 127,
         "DrawElapsed": 705110400,
         "DrawIs_month_end": false,
         "DrawIs_month_start": false,
         "DrawIs_quarter_end": false,
         "DrawIs_quarter_start": false,
         "DrawIs_year_end": false,
         "DrawIs_year_start": false,
         "DrawMonth": 5,
         "DrawNo": 40792,
         "DrawWeek": 19,
         "DrawYear": 1992,
         "LuckyNo": 592,
         "PrizeType": "3rdPrizeNo",
         "index": 2
        },
        {
         "DrawDate": "1992-05-06T00:00:00.000Z",
         "DrawDay": 6,
         "DrawDayofweek": 2,
         "DrawDayofyear": 127,
         "DrawElapsed": 705110400,
         "DrawIs_month_end": false,
         "DrawIs_month_start": false,
         "DrawIs_quarter_end": false,
         "DrawIs_quarter_start": false,
         "DrawIs_year_end": false,
         "DrawIs_year_start": false,
         "DrawMonth": 5,
         "DrawNo": 40792,
         "DrawWeek": 19,
         "DrawYear": 1992,
         "LuckyNo": 5311,
         "PrizeType": "ConsolationNo1",
         "index": 3
        },
        {
         "DrawDate": "1992-05-06T00:00:00.000Z",
         "DrawDay": 6,
         "DrawDayofweek": 2,
         "DrawDayofyear": 127,
         "DrawElapsed": 705110400,
         "DrawIs_month_end": false,
         "DrawIs_month_start": false,
         "DrawIs_quarter_end": false,
         "DrawIs_quarter_start": false,
         "DrawIs_year_end": false,
         "DrawIs_year_start": false,
         "DrawMonth": 5,
         "DrawNo": 40792,
         "DrawWeek": 19,
         "DrawYear": 1992,
         "LuckyNo": 407,
         "PrizeType": "ConsolationNo10",
         "index": 4
        },
        {
         "DrawDate": "1992-05-06T00:00:00.000Z",
         "DrawDay": 6,
         "DrawDayofweek": 2,
         "DrawDayofyear": 127,
         "DrawElapsed": 705110400,
         "DrawIs_month_end": false,
         "DrawIs_month_start": false,
         "DrawIs_quarter_end": false,
         "DrawIs_quarter_start": false,
         "DrawIs_year_end": false,
         "DrawIs_year_start": false,
         "DrawMonth": 5,
         "DrawNo": 40792,
         "DrawWeek": 19,
         "DrawYear": 1992,
         "LuckyNo": 1949,
         "PrizeType": "ConsolationNo2",
         "index": 5
        },
        {
         "DrawDate": "1992-05-06T00:00:00.000Z",
         "DrawDay": 6,
         "DrawDayofweek": 2,
         "DrawDayofyear": 127,
         "DrawElapsed": 705110400,
         "DrawIs_month_end": false,
         "DrawIs_month_start": false,
         "DrawIs_quarter_end": false,
         "DrawIs_quarter_start": false,
         "DrawIs_year_end": false,
         "DrawIs_year_start": false,
         "DrawMonth": 5,
         "DrawNo": 40792,
         "DrawWeek": 19,
         "DrawYear": 1992,
         "LuckyNo": 1606,
         "PrizeType": "ConsolationNo3",
         "index": 6
        },
        {
         "DrawDate": "1992-05-06T00:00:00.000Z",
         "DrawDay": 6,
         "DrawDayofweek": 2,
         "DrawDayofyear": 127,
         "DrawElapsed": 705110400,
         "DrawIs_month_end": false,
         "DrawIs_month_start": false,
         "DrawIs_quarter_end": false,
         "DrawIs_quarter_start": false,
         "DrawIs_year_end": false,
         "DrawIs_year_start": false,
         "DrawMonth": 5,
         "DrawNo": 40792,
         "DrawWeek": 19,
         "DrawYear": 1992,
         "LuckyNo": 3775,
         "PrizeType": "ConsolationNo4",
         "index": 7
        },
        {
         "DrawDate": "1992-05-06T00:00:00.000Z",
         "DrawDay": 6,
         "DrawDayofweek": 2,
         "DrawDayofyear": 127,
         "DrawElapsed": 705110400,
         "DrawIs_month_end": false,
         "DrawIs_month_start": false,
         "DrawIs_quarter_end": false,
         "DrawIs_quarter_start": false,
         "DrawIs_year_end": false,
         "DrawIs_year_start": false,
         "DrawMonth": 5,
         "DrawNo": 40792,
         "DrawWeek": 19,
         "DrawYear": 1992,
         "LuckyNo": 6226,
         "PrizeType": "ConsolationNo5",
         "index": 8
        },
        {
         "DrawDate": "1992-05-06T00:00:00.000Z",
         "DrawDay": 6,
         "DrawDayofweek": 2,
         "DrawDayofyear": 127,
         "DrawElapsed": 705110400,
         "DrawIs_month_end": false,
         "DrawIs_month_start": false,
         "DrawIs_quarter_end": false,
         "DrawIs_quarter_start": false,
         "DrawIs_year_end": false,
         "DrawIs_year_start": false,
         "DrawMonth": 5,
         "DrawNo": 40792,
         "DrawWeek": 19,
         "DrawYear": 1992,
         "LuckyNo": 1271,
         "PrizeType": "ConsolationNo6",
         "index": 9
        }
       ],
       "schema": {
        "fields": [
         {
          "name": "index",
          "type": "integer"
         },
         {
          "name": "DrawNo",
          "type": "integer"
         },
         {
          "name": "DrawDate",
          "type": "datetime"
         },
         {
          "name": "PrizeType",
          "type": "string"
         },
         {
          "name": "LuckyNo",
          "type": "integer"
         },
         {
          "name": "DrawYear",
          "type": "integer"
         },
         {
          "name": "DrawMonth",
          "type": "integer"
         },
         {
          "name": "DrawWeek",
          "type": "integer"
         },
         {
          "name": "DrawDay",
          "type": "integer"
         },
         {
          "name": "DrawDayofweek",
          "type": "integer"
         },
         {
          "name": "DrawDayofyear",
          "type": "integer"
         },
         {
          "name": "DrawIs_month_end",
          "type": "boolean"
         },
         {
          "name": "DrawIs_month_start",
          "type": "boolean"
         },
         {
          "name": "DrawIs_quarter_end",
          "type": "boolean"
         },
         {
          "name": "DrawIs_quarter_start",
          "type": "boolean"
         },
         {
          "name": "DrawIs_year_end",
          "type": "boolean"
         },
         {
          "name": "DrawIs_year_start",
          "type": "boolean"
         },
         {
          "name": "DrawElapsed",
          "type": "integer"
         }
        ],
        "pandas_version": "0.20.0",
        "primaryKey": [
         "index"
        ]
       }
      },
      "text/html": [
       "<div>\n",
       "<style scoped>\n",
       "    .dataframe tbody tr th:only-of-type {\n",
       "        vertical-align: middle;\n",
       "    }\n",
       "\n",
       "    .dataframe tbody tr th {\n",
       "        vertical-align: top;\n",
       "    }\n",
       "\n",
       "    .dataframe thead th {\n",
       "        text-align: right;\n",
       "    }\n",
       "</style>\n",
       "<table border=\"1\" class=\"dataframe\">\n",
       "  <thead>\n",
       "    <tr style=\"text-align: right;\">\n",
       "      <th></th>\n",
       "      <th>DrawNo</th>\n",
       "      <th>DrawDate</th>\n",
       "      <th>PrizeType</th>\n",
       "      <th>LuckyNo</th>\n",
       "      <th>DrawYear</th>\n",
       "      <th>DrawMonth</th>\n",
       "      <th>DrawWeek</th>\n",
       "      <th>DrawDay</th>\n",
       "      <th>DrawDayofweek</th>\n",
       "      <th>DrawDayofyear</th>\n",
       "      <th>DrawIs_month_end</th>\n",
       "      <th>DrawIs_month_start</th>\n",
       "      <th>DrawIs_quarter_end</th>\n",
       "      <th>DrawIs_quarter_start</th>\n",
       "      <th>DrawIs_year_end</th>\n",
       "      <th>DrawIs_year_start</th>\n",
       "      <th>DrawElapsed</th>\n",
       "    </tr>\n",
       "  </thead>\n",
       "  <tbody>\n",
       "    <tr>\n",
       "      <th>0</th>\n",
       "      <td>40792</td>\n",
       "      <td>1992-05-06</td>\n",
       "      <td>1stPrizeNo</td>\n",
       "      <td>19</td>\n",
       "      <td>1992</td>\n",
       "      <td>5</td>\n",
       "      <td>19</td>\n",
       "      <td>6</td>\n",
       "      <td>2</td>\n",
       "      <td>127</td>\n",
       "      <td>False</td>\n",
       "      <td>False</td>\n",
       "      <td>False</td>\n",
       "      <td>False</td>\n",
       "      <td>False</td>\n",
       "      <td>False</td>\n",
       "      <td>705110400</td>\n",
       "    </tr>\n",
       "    <tr>\n",
       "      <th>1</th>\n",
       "      <td>40792</td>\n",
       "      <td>1992-05-06</td>\n",
       "      <td>2ndPrizeNo</td>\n",
       "      <td>1124</td>\n",
       "      <td>1992</td>\n",
       "      <td>5</td>\n",
       "      <td>19</td>\n",
       "      <td>6</td>\n",
       "      <td>2</td>\n",
       "      <td>127</td>\n",
       "      <td>False</td>\n",
       "      <td>False</td>\n",
       "      <td>False</td>\n",
       "      <td>False</td>\n",
       "      <td>False</td>\n",
       "      <td>False</td>\n",
       "      <td>705110400</td>\n",
       "    </tr>\n",
       "    <tr>\n",
       "      <th>2</th>\n",
       "      <td>40792</td>\n",
       "      <td>1992-05-06</td>\n",
       "      <td>3rdPrizeNo</td>\n",
       "      <td>592</td>\n",
       "      <td>1992</td>\n",
       "      <td>5</td>\n",
       "      <td>19</td>\n",
       "      <td>6</td>\n",
       "      <td>2</td>\n",
       "      <td>127</td>\n",
       "      <td>False</td>\n",
       "      <td>False</td>\n",
       "      <td>False</td>\n",
       "      <td>False</td>\n",
       "      <td>False</td>\n",
       "      <td>False</td>\n",
       "      <td>705110400</td>\n",
       "    </tr>\n",
       "    <tr>\n",
       "      <th>3</th>\n",
       "      <td>40792</td>\n",
       "      <td>1992-05-06</td>\n",
       "      <td>ConsolationNo1</td>\n",
       "      <td>5311</td>\n",
       "      <td>1992</td>\n",
       "      <td>5</td>\n",
       "      <td>19</td>\n",
       "      <td>6</td>\n",
       "      <td>2</td>\n",
       "      <td>127</td>\n",
       "      <td>False</td>\n",
       "      <td>False</td>\n",
       "      <td>False</td>\n",
       "      <td>False</td>\n",
       "      <td>False</td>\n",
       "      <td>False</td>\n",
       "      <td>705110400</td>\n",
       "    </tr>\n",
       "    <tr>\n",
       "      <th>4</th>\n",
       "      <td>40792</td>\n",
       "      <td>1992-05-06</td>\n",
       "      <td>ConsolationNo10</td>\n",
       "      <td>407</td>\n",
       "      <td>1992</td>\n",
       "      <td>5</td>\n",
       "      <td>19</td>\n",
       "      <td>6</td>\n",
       "      <td>2</td>\n",
       "      <td>127</td>\n",
       "      <td>False</td>\n",
       "      <td>False</td>\n",
       "      <td>False</td>\n",
       "      <td>False</td>\n",
       "      <td>False</td>\n",
       "      <td>False</td>\n",
       "      <td>705110400</td>\n",
       "    </tr>\n",
       "    <tr>\n",
       "      <th>5</th>\n",
       "      <td>40792</td>\n",
       "      <td>1992-05-06</td>\n",
       "      <td>ConsolationNo2</td>\n",
       "      <td>1949</td>\n",
       "      <td>1992</td>\n",
       "      <td>5</td>\n",
       "      <td>19</td>\n",
       "      <td>6</td>\n",
       "      <td>2</td>\n",
       "      <td>127</td>\n",
       "      <td>False</td>\n",
       "      <td>False</td>\n",
       "      <td>False</td>\n",
       "      <td>False</td>\n",
       "      <td>False</td>\n",
       "      <td>False</td>\n",
       "      <td>705110400</td>\n",
       "    </tr>\n",
       "    <tr>\n",
       "      <th>6</th>\n",
       "      <td>40792</td>\n",
       "      <td>1992-05-06</td>\n",
       "      <td>ConsolationNo3</td>\n",
       "      <td>1606</td>\n",
       "      <td>1992</td>\n",
       "      <td>5</td>\n",
       "      <td>19</td>\n",
       "      <td>6</td>\n",
       "      <td>2</td>\n",
       "      <td>127</td>\n",
       "      <td>False</td>\n",
       "      <td>False</td>\n",
       "      <td>False</td>\n",
       "      <td>False</td>\n",
       "      <td>False</td>\n",
       "      <td>False</td>\n",
       "      <td>705110400</td>\n",
       "    </tr>\n",
       "    <tr>\n",
       "      <th>7</th>\n",
       "      <td>40792</td>\n",
       "      <td>1992-05-06</td>\n",
       "      <td>ConsolationNo4</td>\n",
       "      <td>3775</td>\n",
       "      <td>1992</td>\n",
       "      <td>5</td>\n",
       "      <td>19</td>\n",
       "      <td>6</td>\n",
       "      <td>2</td>\n",
       "      <td>127</td>\n",
       "      <td>False</td>\n",
       "      <td>False</td>\n",
       "      <td>False</td>\n",
       "      <td>False</td>\n",
       "      <td>False</td>\n",
       "      <td>False</td>\n",
       "      <td>705110400</td>\n",
       "    </tr>\n",
       "    <tr>\n",
       "      <th>8</th>\n",
       "      <td>40792</td>\n",
       "      <td>1992-05-06</td>\n",
       "      <td>ConsolationNo5</td>\n",
       "      <td>6226</td>\n",
       "      <td>1992</td>\n",
       "      <td>5</td>\n",
       "      <td>19</td>\n",
       "      <td>6</td>\n",
       "      <td>2</td>\n",
       "      <td>127</td>\n",
       "      <td>False</td>\n",
       "      <td>False</td>\n",
       "      <td>False</td>\n",
       "      <td>False</td>\n",
       "      <td>False</td>\n",
       "      <td>False</td>\n",
       "      <td>705110400</td>\n",
       "    </tr>\n",
       "    <tr>\n",
       "      <th>9</th>\n",
       "      <td>40792</td>\n",
       "      <td>1992-05-06</td>\n",
       "      <td>ConsolationNo6</td>\n",
       "      <td>1271</td>\n",
       "      <td>1992</td>\n",
       "      <td>5</td>\n",
       "      <td>19</td>\n",
       "      <td>6</td>\n",
       "      <td>2</td>\n",
       "      <td>127</td>\n",
       "      <td>False</td>\n",
       "      <td>False</td>\n",
       "      <td>False</td>\n",
       "      <td>False</td>\n",
       "      <td>False</td>\n",
       "      <td>False</td>\n",
       "      <td>705110400</td>\n",
       "    </tr>\n",
       "  </tbody>\n",
       "</table>\n",
       "</div>"
      ],
      "text/plain": [
       "   DrawNo   DrawDate        PrizeType  LuckyNo  DrawYear  DrawMonth  DrawWeek  \\\n",
       "0   40792 1992-05-06       1stPrizeNo       19      1992          5        19   \n",
       "1   40792 1992-05-06       2ndPrizeNo     1124      1992          5        19   \n",
       "2   40792 1992-05-06       3rdPrizeNo      592      1992          5        19   \n",
       "3   40792 1992-05-06   ConsolationNo1     5311      1992          5        19   \n",
       "4   40792 1992-05-06  ConsolationNo10      407      1992          5        19   \n",
       "5   40792 1992-05-06   ConsolationNo2     1949      1992          5        19   \n",
       "6   40792 1992-05-06   ConsolationNo3     1606      1992          5        19   \n",
       "7   40792 1992-05-06   ConsolationNo4     3775      1992          5        19   \n",
       "8   40792 1992-05-06   ConsolationNo5     6226      1992          5        19   \n",
       "9   40792 1992-05-06   ConsolationNo6     1271      1992          5        19   \n",
       "\n",
       "   DrawDay  DrawDayofweek  DrawDayofyear  DrawIs_month_end  \\\n",
       "0        6              2            127             False   \n",
       "1        6              2            127             False   \n",
       "2        6              2            127             False   \n",
       "3        6              2            127             False   \n",
       "4        6              2            127             False   \n",
       "5        6              2            127             False   \n",
       "6        6              2            127             False   \n",
       "7        6              2            127             False   \n",
       "8        6              2            127             False   \n",
       "9        6              2            127             False   \n",
       "\n",
       "   DrawIs_month_start  DrawIs_quarter_end  DrawIs_quarter_start  \\\n",
       "0               False               False                 False   \n",
       "1               False               False                 False   \n",
       "2               False               False                 False   \n",
       "3               False               False                 False   \n",
       "4               False               False                 False   \n",
       "5               False               False                 False   \n",
       "6               False               False                 False   \n",
       "7               False               False                 False   \n",
       "8               False               False                 False   \n",
       "9               False               False                 False   \n",
       "\n",
       "   DrawIs_year_end  DrawIs_year_start  DrawElapsed  \n",
       "0            False              False    705110400  \n",
       "1            False              False    705110400  \n",
       "2            False              False    705110400  \n",
       "3            False              False    705110400  \n",
       "4            False              False    705110400  \n",
       "5            False              False    705110400  \n",
       "6            False              False    705110400  \n",
       "7            False              False    705110400  \n",
       "8            False              False    705110400  \n",
       "9            False              False    705110400  "
      ]
     },
     "execution_count": 120,
     "metadata": {},
     "output_type": "execute_result"
    }
   ],
   "source": [
    "# Add date part\n",
    "df_processed = df_transposed.copy()\n",
    "add_datepart(df_processed, 'DrawDate', drop=False)\n",
    "print(df_processed.columns)\n",
    "df_processed.head(10)"
   ]
  },
  {
   "cell_type": "markdown",
   "metadata": {
    "colab_type": "text",
    "id": "14T0QDkkJRhc"
   },
   "source": [
    "### Field Variables"
   ]
  },
  {
   "cell_type": "code",
   "execution_count": 23,
   "metadata": {
    "colab": {},
    "colab_type": "code",
    "id": "WbUfHTt9JRhd"
   },
   "outputs": [],
   "source": [
    "# Outcome to predict\n",
    "dep_var = \"LuckyNo\""
   ]
  },
  {
   "cell_type": "markdown",
   "metadata": {
    "colab_type": "text",
    "id": "tIfpzBPOcwaz"
   },
   "source": [
    "### Train and Validation Split"
   ]
  },
  {
   "cell_type": "code",
   "execution_count": 24,
   "metadata": {
    "colab": {
     "base_uri": "https://localhost:8080/",
     "height": 34
    },
    "colab_type": "code",
    "id": "migCiR94cwa1",
    "outputId": "6b5a1281-7a03-48e8-de5a-661520b7da72"
   },
   "outputs": [
    {
     "data": {
      "text/plain": [
       "104397"
      ]
     },
     "execution_count": 24,
     "metadata": {},
     "output_type": "execute_result"
    }
   ],
   "source": [
    "n = len(df_processed); n"
   ]
  },
  {
   "cell_type": "code",
   "execution_count": 25,
   "metadata": {
    "colab": {
     "base_uri": "https://localhost:8080/",
     "height": 51
    },
    "colab_type": "code",
    "id": "BvVWP2DtrN9Z",
    "outputId": "a068576f-8453-4830-f43e-3d4c9dca7407"
   },
   "outputs": [
    {
     "name": "stdout",
     "output_type": "stream",
     "text": [
      "104397\n",
      "104397\n"
     ]
    }
   ],
   "source": [
    "from sklearn.model_selection import train_test_split\n",
    "\n",
    "X = df_processed.copy()\n",
    "y = X[dep_var]; \n",
    "print(len(X))\n",
    "print(len(y))"
   ]
  },
  {
   "cell_type": "code",
   "execution_count": 26,
   "metadata": {
    "colab": {
     "base_uri": "https://localhost:8080/",
     "height": 117
    },
    "colab_type": "code",
    "id": "57qAI7kvJRhp",
    "outputId": "424e7cb5-69c1-4bb9-9bf3-d75df5b2c26f"
   },
   "outputs": [
    {
     "data": {
      "application/vnd.dataresource+json": {
       "data": [
        {
         "DrawDate": "1992-05-06T00:00:00.000Z",
         "DrawDay": 6,
         "DrawDayofweek": 2,
         "DrawDayofyear": 127,
         "DrawElapsed": 705110400,
         "DrawIs_month_end": false,
         "DrawIs_month_start": false,
         "DrawIs_quarter_end": false,
         "DrawIs_quarter_start": false,
         "DrawIs_year_end": false,
         "DrawIs_year_start": false,
         "DrawMonth": 5,
         "DrawNo": 40792,
         "DrawWeek": 19,
         "DrawYear": 1992,
         "PrizeType": "1stPrizeNo",
         "index": 0
        }
       ],
       "schema": {
        "fields": [
         {
          "name": "index",
          "type": "integer"
         },
         {
          "name": "DrawNo",
          "type": "integer"
         },
         {
          "name": "DrawDate",
          "type": "datetime"
         },
         {
          "name": "PrizeType",
          "type": "string"
         },
         {
          "name": "DrawYear",
          "type": "integer"
         },
         {
          "name": "DrawMonth",
          "type": "integer"
         },
         {
          "name": "DrawWeek",
          "type": "integer"
         },
         {
          "name": "DrawDay",
          "type": "integer"
         },
         {
          "name": "DrawDayofweek",
          "type": "integer"
         },
         {
          "name": "DrawDayofyear",
          "type": "integer"
         },
         {
          "name": "DrawIs_month_end",
          "type": "boolean"
         },
         {
          "name": "DrawIs_month_start",
          "type": "boolean"
         },
         {
          "name": "DrawIs_quarter_end",
          "type": "boolean"
         },
         {
          "name": "DrawIs_quarter_start",
          "type": "boolean"
         },
         {
          "name": "DrawIs_year_end",
          "type": "boolean"
         },
         {
          "name": "DrawIs_year_start",
          "type": "boolean"
         },
         {
          "name": "DrawElapsed",
          "type": "integer"
         }
        ],
        "pandas_version": "0.20.0",
        "primaryKey": [
         "index"
        ]
       }
      },
      "text/html": [
       "<div>\n",
       "<style scoped>\n",
       "    .dataframe tbody tr th:only-of-type {\n",
       "        vertical-align: middle;\n",
       "    }\n",
       "\n",
       "    .dataframe tbody tr th {\n",
       "        vertical-align: top;\n",
       "    }\n",
       "\n",
       "    .dataframe thead th {\n",
       "        text-align: right;\n",
       "    }\n",
       "</style>\n",
       "<table border=\"1\" class=\"dataframe\">\n",
       "  <thead>\n",
       "    <tr style=\"text-align: right;\">\n",
       "      <th></th>\n",
       "      <th>DrawNo</th>\n",
       "      <th>DrawDate</th>\n",
       "      <th>PrizeType</th>\n",
       "      <th>DrawYear</th>\n",
       "      <th>DrawMonth</th>\n",
       "      <th>DrawWeek</th>\n",
       "      <th>DrawDay</th>\n",
       "      <th>DrawDayofweek</th>\n",
       "      <th>DrawDayofyear</th>\n",
       "      <th>DrawIs_month_end</th>\n",
       "      <th>DrawIs_month_start</th>\n",
       "      <th>DrawIs_quarter_end</th>\n",
       "      <th>DrawIs_quarter_start</th>\n",
       "      <th>DrawIs_year_end</th>\n",
       "      <th>DrawIs_year_start</th>\n",
       "      <th>DrawElapsed</th>\n",
       "    </tr>\n",
       "  </thead>\n",
       "  <tbody>\n",
       "    <tr>\n",
       "      <th>0</th>\n",
       "      <td>40792</td>\n",
       "      <td>1992-05-06</td>\n",
       "      <td>1stPrizeNo</td>\n",
       "      <td>1992</td>\n",
       "      <td>5</td>\n",
       "      <td>19</td>\n",
       "      <td>6</td>\n",
       "      <td>2</td>\n",
       "      <td>127</td>\n",
       "      <td>False</td>\n",
       "      <td>False</td>\n",
       "      <td>False</td>\n",
       "      <td>False</td>\n",
       "      <td>False</td>\n",
       "      <td>False</td>\n",
       "      <td>705110400</td>\n",
       "    </tr>\n",
       "  </tbody>\n",
       "</table>\n",
       "</div>"
      ],
      "text/plain": [
       "   DrawNo   DrawDate   PrizeType  DrawYear  DrawMonth  DrawWeek  DrawDay  \\\n",
       "0   40792 1992-05-06  1stPrizeNo      1992          5        19        6   \n",
       "\n",
       "   DrawDayofweek  DrawDayofyear  DrawIs_month_end  DrawIs_month_start  \\\n",
       "0              2            127             False               False   \n",
       "\n",
       "   DrawIs_quarter_end  DrawIs_quarter_start  DrawIs_year_end  \\\n",
       "0               False                 False            False   \n",
       "\n",
       "   DrawIs_year_start  DrawElapsed  \n",
       "0              False    705110400  "
      ]
     },
     "execution_count": 26,
     "metadata": {},
     "output_type": "execute_result"
    }
   ],
   "source": [
    "X.drop([dep_var], inplace=True, axis=1)\n",
    "X.head(1)"
   ]
  },
  {
   "cell_type": "code",
   "execution_count": 27,
   "metadata": {
    "colab": {},
    "colab_type": "code",
    "id": "GZI30urJJRhr"
   },
   "outputs": [],
   "source": [
    "X_train, X_test, y_train, y_test = train_test_split(X, y, test_size=0.3, random_state=42)"
   ]
  },
  {
   "cell_type": "code",
   "execution_count": 28,
   "metadata": {
    "colab": {
     "base_uri": "https://localhost:8080/",
     "height": 85
    },
    "colab_type": "code",
    "id": "H6HgX1BRJRht",
    "outputId": "eddefe12-bd74-4ff9-eac8-862166a1ad14"
   },
   "outputs": [
    {
     "name": "stdout",
     "output_type": "stream",
     "text": [
      "73077\n",
      "31320\n",
      "73077\n",
      "31320\n"
     ]
    }
   ],
   "source": [
    "print(len(X_train)); print(len(X_test)); print(len(y_train)); print(len(y_test))"
   ]
  },
  {
   "cell_type": "markdown",
   "metadata": {
    "colab_type": "text",
    "id": "Zj1_wEzXJRhw"
   },
   "source": [
    "### Assignment"
   ]
  },
  {
   "cell_type": "code",
   "execution_count": 29,
   "metadata": {
    "colab": {},
    "colab_type": "code",
    "id": "OzquwRh6rNr5"
   },
   "outputs": [],
   "source": [
    "train_df = df_processed"
   ]
  },
  {
   "cell_type": "markdown",
   "metadata": {
    "colab_type": "text",
    "id": "o8-_uHW0waOU"
   },
   "source": [
    "## Experiment with a sample"
   ]
  },
  {
   "cell_type": "code",
   "execution_count": null,
   "metadata": {
    "colab": {
     "base_uri": "https://localhost:8080/",
     "height": 391
    },
    "colab_type": "code",
    "id": "9dm_l8Xqs6yq",
    "outputId": "d7a63f23-9597-419e-964a-38d91c2dd4f9"
   },
   "outputs": [
    {
     "name": "stdout",
     "output_type": "stream",
     "text": [
      "<class 'pandas.core.frame.DataFrame'>\n",
      "RangeIndex: 104397 entries, 0 to 104396\n",
      "Data columns (total 17 columns):\n",
      "DrawNo                  104397 non-null int64\n",
      "DrawDate                104397 non-null datetime64[ns]\n",
      "PrizeType               104397 non-null object\n",
      "LuckyNo                 104397 non-null int64\n",
      "DrawYear                104397 non-null int64\n",
      "DrawMonth               104397 non-null int64\n",
      "DrawWeek                104397 non-null int64\n",
      "DrawDay                 104397 non-null int64\n",
      "DrawDayofweek           104397 non-null int64\n",
      "DrawDayofyear           104397 non-null int64\n",
      "DrawIs_month_end        104397 non-null bool\n",
      "DrawIs_month_start      104397 non-null bool\n",
      "DrawIs_quarter_end      104397 non-null bool\n",
      "DrawIs_quarter_start    104397 non-null bool\n",
      "DrawIs_year_end         104397 non-null bool\n",
      "DrawIs_year_start       104397 non-null bool\n",
      "DrawElapsed             104397 non-null int64\n",
      "dtypes: bool(6), datetime64[ns](1), int64(9), object(1)\n",
      "memory usage: 9.4+ MB\n"
     ]
    }
   ],
   "source": [
    "train_df.info()"
   ]
  },
  {
   "cell_type": "code",
   "execution_count": null,
   "metadata": {
    "colab": {
     "base_uri": "https://localhost:8080/",
     "height": 68
    },
    "colab_type": "code",
    "id": "nP6L7tltrM7U",
    "outputId": "c02be416-e27d-4a26-a635-eb7393dff997"
   },
   "outputs": [
    {
     "name": "stdout",
     "output_type": "stream",
     "text": [
      "104397\n",
      "6000\n",
      "[    35     87     97    114 ... 104302 104306 104360 104366]\n"
     ]
    }
   ],
   "source": [
    "idx = np.random.permutation(range(n))[:6000]\n",
    "print(n)\n",
    "print(len(idx))\n",
    "\n",
    "idx.sort()\n",
    "print(idx)\n",
    "\n",
    "small_train_df = train_df.iloc[idx[:3000]]\n",
    "small_test_df = train_df.iloc[idx[3000:]]"
   ]
  },
  {
   "cell_type": "code",
   "execution_count": null,
   "metadata": {
    "colab": {},
    "colab_type": "code",
    "id": "rfmvFeagrVBe"
   },
   "outputs": [],
   "source": [
    "# Set continuous and categorical columns\n",
    "small_cont_vars = [\"DrawNo\", \"DrawElapsed\"]\n",
    "small_cat_vars = [\"PrizeType\", \"DrawYear\", \"DrawMonth\", \"DrawWeek\", \"DrawDay\", \"DrawDayofweek\", \n",
    "                  \"DrawDayofyear\",\"DrawIs_month_end\",\"DrawIs_month_start\", \"DrawIs_quarter_end\", \"DrawIs_quarter_start\", \"DrawIs_year_end\", \"DrawIs_year_start\"]"
   ]
  },
  {
   "cell_type": "code",
   "execution_count": null,
   "metadata": {
    "colab": {},
    "colab_type": "code",
    "id": "Ff3NsGryuU2m"
   },
   "outputs": [],
   "source": [
    "small_train_df = small_train_df[small_cat_vars + small_cont_vars + [dep_var]]\n",
    "small_test_df = small_test_df[small_cat_vars + small_cont_vars + [dep_var]]"
   ]
  },
  {
   "cell_type": "code",
   "execution_count": null,
   "metadata": {
    "colab": {
     "base_uri": "https://localhost:8080/",
     "height": 224
    },
    "colab_type": "code",
    "id": "vraIDuPCur6N",
    "outputId": "7051d826-3a77-4f98-b0dc-6ca82caa9c03"
   },
   "outputs": [
    {
     "data": {
      "application/vnd.dataresource+json": {
       "data": [
        {
         "DrawDay": 7,
         "DrawDayofweek": 3,
         "DrawDayofyear": 128,
         "DrawElapsed": 705196800,
         "DrawIs_month_end": false,
         "DrawIs_month_start": false,
         "DrawIs_quarter_end": false,
         "DrawIs_quarter_start": false,
         "DrawIs_year_end": false,
         "DrawIs_year_start": false,
         "DrawMonth": 5,
         "DrawNo": 40892,
         "DrawWeek": 19,
         "DrawYear": 1992,
         "LuckyNo": 4640,
         "PrizeType": "ConsolationNo9",
         "index": 35
        },
        {
         "DrawDay": 13,
         "DrawDayofweek": 2,
         "DrawDayofyear": 134,
         "DrawElapsed": 705715200,
         "DrawIs_month_end": false,
         "DrawIs_month_start": false,
         "DrawIs_quarter_end": false,
         "DrawIs_quarter_start": false,
         "DrawIs_year_end": false,
         "DrawIs_year_start": false,
         "DrawMonth": 5,
         "DrawNo": 41092,
         "DrawWeek": 20,
         "DrawYear": 1992,
         "LuckyNo": 6792,
         "PrizeType": "SpecialNo5",
         "index": 87
        },
        {
         "DrawDay": 14,
         "DrawDayofweek": 3,
         "DrawDayofyear": 135,
         "DrawElapsed": 705801600,
         "DrawIs_month_end": false,
         "DrawIs_month_start": false,
         "DrawIs_quarter_end": false,
         "DrawIs_quarter_start": false,
         "DrawIs_year_end": false,
         "DrawIs_year_start": false,
         "DrawMonth": 5,
         "DrawNo": 41192,
         "DrawWeek": 20,
         "DrawYear": 1992,
         "LuckyNo": 6817,
         "PrizeType": "ConsolationNo2",
         "index": 97
        },
        {
         "DrawDay": 14,
         "DrawDayofweek": 3,
         "DrawDayofyear": 135,
         "DrawElapsed": 705801600,
         "DrawIs_month_end": false,
         "DrawIs_month_start": false,
         "DrawIs_quarter_end": false,
         "DrawIs_quarter_start": false,
         "DrawIs_year_end": false,
         "DrawIs_year_start": false,
         "DrawMonth": 5,
         "DrawNo": 41192,
         "DrawWeek": 20,
         "DrawYear": 1992,
         "LuckyNo": 5664,
         "PrizeType": "SpecialNo9",
         "index": 114
        },
        {
         "DrawDay": 17,
         "DrawDayofweek": 6,
         "DrawDayofyear": 138,
         "DrawElapsed": 706060800,
         "DrawIs_month_end": false,
         "DrawIs_month_start": false,
         "DrawIs_quarter_end": false,
         "DrawIs_quarter_start": false,
         "DrawIs_year_end": false,
         "DrawIs_year_start": false,
         "DrawMonth": 5,
         "DrawNo": 41292,
         "DrawWeek": 20,
         "DrawYear": 1992,
         "LuckyNo": 3573,
         "PrizeType": "ConsolationNo9",
         "index": 127
        }
       ],
       "schema": {
        "fields": [
         {
          "name": "index",
          "type": "integer"
         },
         {
          "name": "PrizeType",
          "type": "string"
         },
         {
          "name": "DrawYear",
          "type": "integer"
         },
         {
          "name": "DrawMonth",
          "type": "integer"
         },
         {
          "name": "DrawWeek",
          "type": "integer"
         },
         {
          "name": "DrawDay",
          "type": "integer"
         },
         {
          "name": "DrawDayofweek",
          "type": "integer"
         },
         {
          "name": "DrawDayofyear",
          "type": "integer"
         },
         {
          "name": "DrawIs_month_end",
          "type": "boolean"
         },
         {
          "name": "DrawIs_month_start",
          "type": "boolean"
         },
         {
          "name": "DrawIs_quarter_end",
          "type": "boolean"
         },
         {
          "name": "DrawIs_quarter_start",
          "type": "boolean"
         },
         {
          "name": "DrawIs_year_end",
          "type": "boolean"
         },
         {
          "name": "DrawIs_year_start",
          "type": "boolean"
         },
         {
          "name": "DrawNo",
          "type": "integer"
         },
         {
          "name": "DrawElapsed",
          "type": "integer"
         },
         {
          "name": "LuckyNo",
          "type": "integer"
         }
        ],
        "pandas_version": "0.20.0",
        "primaryKey": [
         "index"
        ]
       }
      },
      "text/html": [
       "<div>\n",
       "<style scoped>\n",
       "    .dataframe tbody tr th:only-of-type {\n",
       "        vertical-align: middle;\n",
       "    }\n",
       "\n",
       "    .dataframe tbody tr th {\n",
       "        vertical-align: top;\n",
       "    }\n",
       "\n",
       "    .dataframe thead th {\n",
       "        text-align: right;\n",
       "    }\n",
       "</style>\n",
       "<table border=\"1\" class=\"dataframe\">\n",
       "  <thead>\n",
       "    <tr style=\"text-align: right;\">\n",
       "      <th></th>\n",
       "      <th>PrizeType</th>\n",
       "      <th>DrawYear</th>\n",
       "      <th>DrawMonth</th>\n",
       "      <th>DrawWeek</th>\n",
       "      <th>DrawDay</th>\n",
       "      <th>DrawDayofweek</th>\n",
       "      <th>DrawDayofyear</th>\n",
       "      <th>DrawIs_month_end</th>\n",
       "      <th>DrawIs_month_start</th>\n",
       "      <th>DrawIs_quarter_end</th>\n",
       "      <th>DrawIs_quarter_start</th>\n",
       "      <th>DrawIs_year_end</th>\n",
       "      <th>DrawIs_year_start</th>\n",
       "      <th>DrawNo</th>\n",
       "      <th>DrawElapsed</th>\n",
       "      <th>LuckyNo</th>\n",
       "    </tr>\n",
       "  </thead>\n",
       "  <tbody>\n",
       "    <tr>\n",
       "      <th>35</th>\n",
       "      <td>ConsolationNo9</td>\n",
       "      <td>1992</td>\n",
       "      <td>5</td>\n",
       "      <td>19</td>\n",
       "      <td>7</td>\n",
       "      <td>3</td>\n",
       "      <td>128</td>\n",
       "      <td>False</td>\n",
       "      <td>False</td>\n",
       "      <td>False</td>\n",
       "      <td>False</td>\n",
       "      <td>False</td>\n",
       "      <td>False</td>\n",
       "      <td>40892</td>\n",
       "      <td>705196800</td>\n",
       "      <td>4640</td>\n",
       "    </tr>\n",
       "    <tr>\n",
       "      <th>87</th>\n",
       "      <td>SpecialNo5</td>\n",
       "      <td>1992</td>\n",
       "      <td>5</td>\n",
       "      <td>20</td>\n",
       "      <td>13</td>\n",
       "      <td>2</td>\n",
       "      <td>134</td>\n",
       "      <td>False</td>\n",
       "      <td>False</td>\n",
       "      <td>False</td>\n",
       "      <td>False</td>\n",
       "      <td>False</td>\n",
       "      <td>False</td>\n",
       "      <td>41092</td>\n",
       "      <td>705715200</td>\n",
       "      <td>6792</td>\n",
       "    </tr>\n",
       "    <tr>\n",
       "      <th>97</th>\n",
       "      <td>ConsolationNo2</td>\n",
       "      <td>1992</td>\n",
       "      <td>5</td>\n",
       "      <td>20</td>\n",
       "      <td>14</td>\n",
       "      <td>3</td>\n",
       "      <td>135</td>\n",
       "      <td>False</td>\n",
       "      <td>False</td>\n",
       "      <td>False</td>\n",
       "      <td>False</td>\n",
       "      <td>False</td>\n",
       "      <td>False</td>\n",
       "      <td>41192</td>\n",
       "      <td>705801600</td>\n",
       "      <td>6817</td>\n",
       "    </tr>\n",
       "    <tr>\n",
       "      <th>114</th>\n",
       "      <td>SpecialNo9</td>\n",
       "      <td>1992</td>\n",
       "      <td>5</td>\n",
       "      <td>20</td>\n",
       "      <td>14</td>\n",
       "      <td>3</td>\n",
       "      <td>135</td>\n",
       "      <td>False</td>\n",
       "      <td>False</td>\n",
       "      <td>False</td>\n",
       "      <td>False</td>\n",
       "      <td>False</td>\n",
       "      <td>False</td>\n",
       "      <td>41192</td>\n",
       "      <td>705801600</td>\n",
       "      <td>5664</td>\n",
       "    </tr>\n",
       "    <tr>\n",
       "      <th>127</th>\n",
       "      <td>ConsolationNo9</td>\n",
       "      <td>1992</td>\n",
       "      <td>5</td>\n",
       "      <td>20</td>\n",
       "      <td>17</td>\n",
       "      <td>6</td>\n",
       "      <td>138</td>\n",
       "      <td>False</td>\n",
       "      <td>False</td>\n",
       "      <td>False</td>\n",
       "      <td>False</td>\n",
       "      <td>False</td>\n",
       "      <td>False</td>\n",
       "      <td>41292</td>\n",
       "      <td>706060800</td>\n",
       "      <td>3573</td>\n",
       "    </tr>\n",
       "  </tbody>\n",
       "</table>\n",
       "</div>"
      ],
      "text/plain": [
       "          PrizeType  DrawYear  DrawMonth  DrawWeek  DrawDay  DrawDayofweek  \\\n",
       "35   ConsolationNo9      1992          5        19        7              3   \n",
       "87       SpecialNo5      1992          5        20       13              2   \n",
       "97   ConsolationNo2      1992          5        20       14              3   \n",
       "114      SpecialNo9      1992          5        20       14              3   \n",
       "127  ConsolationNo9      1992          5        20       17              6   \n",
       "\n",
       "     DrawDayofyear  DrawIs_month_end  DrawIs_month_start  DrawIs_quarter_end  \\\n",
       "35             128             False               False               False   \n",
       "87             134             False               False               False   \n",
       "97             135             False               False               False   \n",
       "114            135             False               False               False   \n",
       "127            138             False               False               False   \n",
       "\n",
       "     DrawIs_quarter_start  DrawIs_year_end  DrawIs_year_start  DrawNo  \\\n",
       "35                  False            False              False   40892   \n",
       "87                  False            False              False   41092   \n",
       "97                  False            False              False   41192   \n",
       "114                 False            False              False   41192   \n",
       "127                 False            False              False   41292   \n",
       "\n",
       "     DrawElapsed  LuckyNo  \n",
       "35     705196800     4640  \n",
       "87     705715200     6792  \n",
       "97     705801600     6817  \n",
       "114    705801600     5664  \n",
       "127    706060800     3573  "
      ]
     },
     "execution_count": 30,
     "metadata": {
      "tags": []
     },
     "output_type": "execute_result"
    }
   ],
   "source": [
    "small_train_df.head(5)"
   ]
  },
  {
   "cell_type": "code",
   "execution_count": null,
   "metadata": {
    "colab": {
     "base_uri": "https://localhost:8080/",
     "height": 224
    },
    "colab_type": "code",
    "id": "clcMP_asuvuB",
    "outputId": "0fdbcda1-957d-44ac-f924-0036502bacc5"
   },
   "outputs": [
    {
     "data": {
      "application/vnd.dataresource+json": {
       "data": [
        {
         "DrawDay": 9,
         "DrawDayofweek": 6,
         "DrawDayofyear": 190,
         "DrawElapsed": 1152403200,
         "DrawIs_month_end": false,
         "DrawIs_month_start": false,
         "DrawIs_quarter_end": false,
         "DrawIs_quarter_start": false,
         "DrawIs_year_end": false,
         "DrawIs_year_start": false,
         "DrawMonth": 7,
         "DrawNo": 270006,
         "DrawWeek": 27,
         "DrawYear": 2006,
         "LuckyNo": 8912,
         "PrizeType": "ConsolationNo9",
         "index": 52728
        },
        {
         "DrawDay": 9,
         "DrawDayofweek": 6,
         "DrawDayofyear": 190,
         "DrawElapsed": 1152403200,
         "DrawIs_month_end": false,
         "DrawIs_month_start": false,
         "DrawIs_quarter_end": false,
         "DrawIs_quarter_start": false,
         "DrawIs_year_end": false,
         "DrawIs_year_start": false,
         "DrawMonth": 7,
         "DrawNo": 270006,
         "DrawWeek": 27,
         "DrawYear": 2006,
         "LuckyNo": 8476,
         "PrizeType": "SpecialNo5",
         "index": 52734
        },
        {
         "DrawDay": 12,
         "DrawDayofweek": 2,
         "DrawDayofyear": 193,
         "DrawElapsed": 1152662400,
         "DrawIs_month_end": false,
         "DrawIs_month_start": false,
         "DrawIs_quarter_end": false,
         "DrawIs_quarter_start": false,
         "DrawIs_year_end": false,
         "DrawIs_year_start": false,
         "DrawMonth": 7,
         "DrawNo": 270106,
         "DrawWeek": 28,
         "DrawYear": 2006,
         "LuckyNo": 1628,
         "PrizeType": "ConsolationNo10",
         "index": 52743
        },
        {
         "DrawDay": 12,
         "DrawDayofweek": 2,
         "DrawDayofyear": 193,
         "DrawElapsed": 1152662400,
         "DrawIs_month_end": false,
         "DrawIs_month_start": false,
         "DrawIs_quarter_end": false,
         "DrawIs_quarter_start": false,
         "DrawIs_year_end": false,
         "DrawIs_year_start": false,
         "DrawMonth": 7,
         "DrawNo": 270106,
         "DrawWeek": 28,
         "DrawYear": 2006,
         "LuckyNo": 8284,
         "PrizeType": "ConsolationNo5",
         "index": 52747
        },
        {
         "DrawDay": 15,
         "DrawDayofweek": 5,
         "DrawDayofyear": 196,
         "DrawElapsed": 1152921600,
         "DrawIs_month_end": false,
         "DrawIs_month_start": false,
         "DrawIs_quarter_end": false,
         "DrawIs_quarter_start": false,
         "DrawIs_year_end": false,
         "DrawIs_year_start": false,
         "DrawMonth": 7,
         "DrawNo": 270206,
         "DrawWeek": 28,
         "DrawYear": 2006,
         "LuckyNo": 2522,
         "PrizeType": "ConsolationNo4",
         "index": 52769
        }
       ],
       "schema": {
        "fields": [
         {
          "name": "index",
          "type": "integer"
         },
         {
          "name": "PrizeType",
          "type": "string"
         },
         {
          "name": "DrawYear",
          "type": "integer"
         },
         {
          "name": "DrawMonth",
          "type": "integer"
         },
         {
          "name": "DrawWeek",
          "type": "integer"
         },
         {
          "name": "DrawDay",
          "type": "integer"
         },
         {
          "name": "DrawDayofweek",
          "type": "integer"
         },
         {
          "name": "DrawDayofyear",
          "type": "integer"
         },
         {
          "name": "DrawIs_month_end",
          "type": "boolean"
         },
         {
          "name": "DrawIs_month_start",
          "type": "boolean"
         },
         {
          "name": "DrawIs_quarter_end",
          "type": "boolean"
         },
         {
          "name": "DrawIs_quarter_start",
          "type": "boolean"
         },
         {
          "name": "DrawIs_year_end",
          "type": "boolean"
         },
         {
          "name": "DrawIs_year_start",
          "type": "boolean"
         },
         {
          "name": "DrawNo",
          "type": "integer"
         },
         {
          "name": "DrawElapsed",
          "type": "integer"
         },
         {
          "name": "LuckyNo",
          "type": "integer"
         }
        ],
        "pandas_version": "0.20.0",
        "primaryKey": [
         "index"
        ]
       }
      },
      "text/html": [
       "<div>\n",
       "<style scoped>\n",
       "    .dataframe tbody tr th:only-of-type {\n",
       "        vertical-align: middle;\n",
       "    }\n",
       "\n",
       "    .dataframe tbody tr th {\n",
       "        vertical-align: top;\n",
       "    }\n",
       "\n",
       "    .dataframe thead th {\n",
       "        text-align: right;\n",
       "    }\n",
       "</style>\n",
       "<table border=\"1\" class=\"dataframe\">\n",
       "  <thead>\n",
       "    <tr style=\"text-align: right;\">\n",
       "      <th></th>\n",
       "      <th>PrizeType</th>\n",
       "      <th>DrawYear</th>\n",
       "      <th>DrawMonth</th>\n",
       "      <th>DrawWeek</th>\n",
       "      <th>DrawDay</th>\n",
       "      <th>DrawDayofweek</th>\n",
       "      <th>DrawDayofyear</th>\n",
       "      <th>DrawIs_month_end</th>\n",
       "      <th>DrawIs_month_start</th>\n",
       "      <th>DrawIs_quarter_end</th>\n",
       "      <th>DrawIs_quarter_start</th>\n",
       "      <th>DrawIs_year_end</th>\n",
       "      <th>DrawIs_year_start</th>\n",
       "      <th>DrawNo</th>\n",
       "      <th>DrawElapsed</th>\n",
       "      <th>LuckyNo</th>\n",
       "    </tr>\n",
       "  </thead>\n",
       "  <tbody>\n",
       "    <tr>\n",
       "      <th>52728</th>\n",
       "      <td>ConsolationNo9</td>\n",
       "      <td>2006</td>\n",
       "      <td>7</td>\n",
       "      <td>27</td>\n",
       "      <td>9</td>\n",
       "      <td>6</td>\n",
       "      <td>190</td>\n",
       "      <td>False</td>\n",
       "      <td>False</td>\n",
       "      <td>False</td>\n",
       "      <td>False</td>\n",
       "      <td>False</td>\n",
       "      <td>False</td>\n",
       "      <td>270006</td>\n",
       "      <td>1152403200</td>\n",
       "      <td>8912</td>\n",
       "    </tr>\n",
       "    <tr>\n",
       "      <th>52734</th>\n",
       "      <td>SpecialNo5</td>\n",
       "      <td>2006</td>\n",
       "      <td>7</td>\n",
       "      <td>27</td>\n",
       "      <td>9</td>\n",
       "      <td>6</td>\n",
       "      <td>190</td>\n",
       "      <td>False</td>\n",
       "      <td>False</td>\n",
       "      <td>False</td>\n",
       "      <td>False</td>\n",
       "      <td>False</td>\n",
       "      <td>False</td>\n",
       "      <td>270006</td>\n",
       "      <td>1152403200</td>\n",
       "      <td>8476</td>\n",
       "    </tr>\n",
       "    <tr>\n",
       "      <th>52743</th>\n",
       "      <td>ConsolationNo10</td>\n",
       "      <td>2006</td>\n",
       "      <td>7</td>\n",
       "      <td>28</td>\n",
       "      <td>12</td>\n",
       "      <td>2</td>\n",
       "      <td>193</td>\n",
       "      <td>False</td>\n",
       "      <td>False</td>\n",
       "      <td>False</td>\n",
       "      <td>False</td>\n",
       "      <td>False</td>\n",
       "      <td>False</td>\n",
       "      <td>270106</td>\n",
       "      <td>1152662400</td>\n",
       "      <td>1628</td>\n",
       "    </tr>\n",
       "    <tr>\n",
       "      <th>52747</th>\n",
       "      <td>ConsolationNo5</td>\n",
       "      <td>2006</td>\n",
       "      <td>7</td>\n",
       "      <td>28</td>\n",
       "      <td>12</td>\n",
       "      <td>2</td>\n",
       "      <td>193</td>\n",
       "      <td>False</td>\n",
       "      <td>False</td>\n",
       "      <td>False</td>\n",
       "      <td>False</td>\n",
       "      <td>False</td>\n",
       "      <td>False</td>\n",
       "      <td>270106</td>\n",
       "      <td>1152662400</td>\n",
       "      <td>8284</td>\n",
       "    </tr>\n",
       "    <tr>\n",
       "      <th>52769</th>\n",
       "      <td>ConsolationNo4</td>\n",
       "      <td>2006</td>\n",
       "      <td>7</td>\n",
       "      <td>28</td>\n",
       "      <td>15</td>\n",
       "      <td>5</td>\n",
       "      <td>196</td>\n",
       "      <td>False</td>\n",
       "      <td>False</td>\n",
       "      <td>False</td>\n",
       "      <td>False</td>\n",
       "      <td>False</td>\n",
       "      <td>False</td>\n",
       "      <td>270206</td>\n",
       "      <td>1152921600</td>\n",
       "      <td>2522</td>\n",
       "    </tr>\n",
       "  </tbody>\n",
       "</table>\n",
       "</div>"
      ],
      "text/plain": [
       "             PrizeType  DrawYear  DrawMonth  DrawWeek  DrawDay  DrawDayofweek  \\\n",
       "52728   ConsolationNo9      2006          7        27        9              6   \n",
       "52734       SpecialNo5      2006          7        27        9              6   \n",
       "52743  ConsolationNo10      2006          7        28       12              2   \n",
       "52747   ConsolationNo5      2006          7        28       12              2   \n",
       "52769   ConsolationNo4      2006          7        28       15              5   \n",
       "\n",
       "       DrawDayofyear  DrawIs_month_end  DrawIs_month_start  \\\n",
       "52728            190             False               False   \n",
       "52734            190             False               False   \n",
       "52743            193             False               False   \n",
       "52747            193             False               False   \n",
       "52769            196             False               False   \n",
       "\n",
       "       DrawIs_quarter_end  DrawIs_quarter_start  DrawIs_year_end  \\\n",
       "52728               False                 False            False   \n",
       "52734               False                 False            False   \n",
       "52743               False                 False            False   \n",
       "52747               False                 False            False   \n",
       "52769               False                 False            False   \n",
       "\n",
       "       DrawIs_year_start  DrawNo  DrawElapsed  LuckyNo  \n",
       "52728              False  270006   1152403200     8912  \n",
       "52734              False  270006   1152403200     8476  \n",
       "52743              False  270106   1152662400     1628  \n",
       "52747              False  270106   1152662400     8284  \n",
       "52769              False  270206   1152921600     2522  "
      ]
     },
     "execution_count": 31,
     "metadata": {
      "tags": []
     },
     "output_type": "execute_result"
    }
   ],
   "source": [
    "small_test_df.head(5)"
   ]
  },
  {
   "cell_type": "code",
   "execution_count": null,
   "metadata": {
    "colab": {},
    "colab_type": "code",
    "id": "09XGqEUku4Bl"
   },
   "outputs": [],
   "source": [
    "categorify = Categorify(small_cat_vars, small_cont_vars)\n",
    "categorify(small_train_df)\n",
    "categorify(small_test_df, test=True)"
   ]
  },
  {
   "cell_type": "code",
   "execution_count": null,
   "metadata": {
    "colab": {
     "base_uri": "https://localhost:8080/",
     "height": 136
    },
    "colab_type": "code",
    "id": "enAi7pjWvCoA",
    "outputId": "1a911747-130e-429f-804c-4f6b08ec6373"
   },
   "outputs": [
    {
     "data": {
      "text/plain": [
       "Index(['1stPrizeNo', '2ndPrizeNo', '3rdPrizeNo', 'ConsolationNo1',\n",
       "       'ConsolationNo10', 'ConsolationNo2', 'ConsolationNo3', 'ConsolationNo4',\n",
       "       'ConsolationNo5', 'ConsolationNo6', 'ConsolationNo7', 'ConsolationNo8',\n",
       "       'ConsolationNo9', 'SpecialNo1', 'SpecialNo10', 'SpecialNo2',\n",
       "       'SpecialNo3', 'SpecialNo4', 'SpecialNo5', 'SpecialNo6', 'SpecialNo7',\n",
       "       'SpecialNo8', 'SpecialNo9'],\n",
       "      dtype='object')"
      ]
     },
     "execution_count": 33,
     "metadata": {
      "tags": []
     },
     "output_type": "execute_result"
    }
   ],
   "source": [
    "small_train_df.PrizeType.cat.categories"
   ]
  },
  {
   "cell_type": "code",
   "execution_count": null,
   "metadata": {
    "colab": {
     "base_uri": "https://localhost:8080/",
     "height": 204
    },
    "colab_type": "code",
    "id": "zKbHZ3xYvIFv",
    "outputId": "fc7c7e6b-6295-4503-edf3-cc2b2ac2caaf"
   },
   "outputs": [
    {
     "data": {
      "application/vnd.dataresource+json": {
       "data": [
        {
         "index": 35,
         "values": 12
        },
        {
         "index": 87,
         "values": 18
        },
        {
         "index": 97,
         "values": 5
        },
        {
         "index": 114,
         "values": 22
        },
        {
         "index": 127,
         "values": 12
        },
        {
         "index": 134,
         "values": 19
        },
        {
         "index": 144,
         "values": 6
        },
        {
         "index": 149,
         "values": 11
        },
        {
         "index": 164,
         "values": 3
        },
        {
         "index": 186,
         "values": 2
        }
       ],
       "schema": {
        "fields": [
         {
          "name": "index",
          "type": "integer"
         },
         {
          "name": "values",
          "type": "integer"
         }
        ],
        "pandas_version": "0.20.0",
        "primaryKey": [
         "index"
        ]
       }
      },
      "text/plain": [
       "35     12\n",
       "87     18\n",
       "97      5\n",
       "114    22\n",
       "127    12\n",
       "134    19\n",
       "144     6\n",
       "149    11\n",
       "164     3\n",
       "186     2\n",
       "dtype: int8"
      ]
     },
     "execution_count": 34,
     "metadata": {
      "tags": []
     },
     "output_type": "execute_result"
    }
   ],
   "source": [
    "small_train_df.PrizeType.cat.codes[:10]"
   ]
  },
  {
   "cell_type": "code",
   "execution_count": null,
   "metadata": {
    "colab": {
     "base_uri": "https://localhost:8080/",
     "height": 238
    },
    "colab_type": "code",
    "id": "Xutlsh9kJRiP",
    "outputId": "f8e0f741-849d-4519-b765-1e89db443274"
   },
   "outputs": [
    {
     "data": {
      "application/vnd.dataresource+json": {
       "data": [
        {
         "PrizeType": "ConsolationNo9",
         "index": 35
        },
        {
         "PrizeType": "SpecialNo5",
         "index": 87
        },
        {
         "PrizeType": "ConsolationNo2",
         "index": 97
        },
        {
         "PrizeType": "SpecialNo9",
         "index": 114
        },
        {
         "PrizeType": "ConsolationNo9",
         "index": 127
        },
        {
         "PrizeType": "SpecialNo6",
         "index": 134
        },
        {
         "PrizeType": "ConsolationNo3",
         "index": 144
        },
        {
         "PrizeType": "ConsolationNo8",
         "index": 149
        },
        {
         "PrizeType": "ConsolationNo1",
         "index": 164
        },
        {
         "PrizeType": "3rdPrizeNo",
         "index": 186
        }
       ],
       "schema": {
        "fields": [
         {
          "name": "index",
          "type": "integer"
         },
         {
          "constraints": {
           "enum": [
            "1stPrizeNo",
            "2ndPrizeNo",
            "3rdPrizeNo",
            "ConsolationNo1",
            "ConsolationNo10",
            "ConsolationNo2",
            "ConsolationNo3",
            "ConsolationNo4",
            "ConsolationNo5",
            "ConsolationNo6",
            "ConsolationNo7",
            "ConsolationNo8",
            "ConsolationNo9",
            "SpecialNo1",
            "SpecialNo10",
            "SpecialNo2",
            "SpecialNo3",
            "SpecialNo4",
            "SpecialNo5",
            "SpecialNo6",
            "SpecialNo7",
            "SpecialNo8",
            "SpecialNo9"
           ]
          },
          "name": "PrizeType",
          "ordered": true,
          "type": "any"
         }
        ],
        "pandas_version": "0.20.0",
        "primaryKey": [
         "index"
        ]
       }
      },
      "text/plain": [
       "35     ConsolationNo9\n",
       "87         SpecialNo5\n",
       "97     ConsolationNo2\n",
       "114        SpecialNo9\n",
       "127    ConsolationNo9\n",
       "134        SpecialNo6\n",
       "144    ConsolationNo3\n",
       "149    ConsolationNo8\n",
       "164    ConsolationNo1\n",
       "186        3rdPrizeNo\n",
       "Name: PrizeType, dtype: category\n",
       "Categories (23, object): [1stPrizeNo < 2ndPrizeNo < 3rdPrizeNo < ConsolationNo1 ... SpecialNo6 <\n",
       "                          SpecialNo7 < SpecialNo8 < SpecialNo9]"
      ]
     },
     "execution_count": 35,
     "metadata": {
      "tags": []
     },
     "output_type": "execute_result"
    }
   ],
   "source": [
    "small_train_df.PrizeType.head(10)"
   ]
  },
  {
   "cell_type": "code",
   "execution_count": null,
   "metadata": {
    "colab": {},
    "colab_type": "code",
    "id": "4lTp1pX4v-kk"
   },
   "outputs": [],
   "source": [
    "fill_missing = FillMissing(small_cat_vars, small_cont_vars)\n",
    "fill_missing(small_train_df)\n",
    "fill_missing(small_test_df, test=True)"
   ]
  },
  {
   "cell_type": "code",
   "execution_count": null,
   "metadata": {
    "colab": {},
    "colab_type": "code",
    "id": "Lnc36v4_wPej"
   },
   "outputs": [],
   "source": [
    "FillMissing?"
   ]
  },
  {
   "cell_type": "code",
   "execution_count": null,
   "metadata": {
    "colab": {},
    "colab_type": "code",
    "id": "80VmVLlBJRig"
   },
   "outputs": [],
   "source": [
    "import inspect\n",
    "Categorify??"
   ]
  },
  {
   "cell_type": "code",
   "execution_count": null,
   "metadata": {
    "colab": {
     "base_uri": "https://localhost:8080/",
     "height": 374
    },
    "colab_type": "code",
    "id": "tbsL5b0NwRRt",
    "outputId": "485cd044-fc27-485c-c203-5b58126adf55"
   },
   "outputs": [
    {
     "name": "stdout",
     "output_type": "stream",
     "text": [
      "<class 'pandas.core.frame.DataFrame'>\n",
      "Int64Index: 3000 entries, 35 to 52725\n",
      "Data columns (total 16 columns):\n",
      "PrizeType               3000 non-null category\n",
      "DrawYear                3000 non-null category\n",
      "DrawMonth               3000 non-null category\n",
      "DrawWeek                3000 non-null category\n",
      "DrawDay                 3000 non-null category\n",
      "DrawDayofweek           3000 non-null category\n",
      "DrawDayofyear           3000 non-null category\n",
      "DrawIs_month_end        3000 non-null category\n",
      "DrawIs_month_start      3000 non-null category\n",
      "DrawIs_quarter_end      3000 non-null category\n",
      "DrawIs_quarter_start    3000 non-null category\n",
      "DrawIs_year_end         3000 non-null category\n",
      "DrawIs_year_start       3000 non-null category\n",
      "DrawNo                  3000 non-null int64\n",
      "DrawElapsed             3000 non-null int64\n",
      "LuckyNo                 3000 non-null int64\n",
      "dtypes: category(13), int64(3)\n",
      "memory usage: 154.7 KB\n"
     ]
    }
   ],
   "source": [
    "small_train_df.info()"
   ]
  },
  {
   "cell_type": "code",
   "execution_count": null,
   "metadata": {
    "colab": {},
    "colab_type": "code",
    "id": "7kpqWTO-JRio"
   },
   "outputs": [],
   "source": []
  },
  {
   "cell_type": "markdown",
   "metadata": {
    "colab_type": "text",
    "id": "CBHTYhMCwdem"
   },
   "source": [
    "## Preparing full data set"
   ]
  },
  {
   "cell_type": "markdown",
   "metadata": {},
   "source": [
    "### Shuffle"
   ]
  },
  {
   "cell_type": "code",
   "execution_count": 117,
   "metadata": {},
   "outputs": [],
   "source": [
    "# from sklearn.utils import shuffle\n",
    "# df_processed = shuffle(df_processed)"
   ]
  },
  {
   "cell_type": "code",
   "execution_count": 79,
   "metadata": {
    "colab": {
     "base_uri": "https://localhost:8080/",
     "height": 170
    },
    "colab_type": "code",
    "id": "4NdF0S1TwnLT",
    "outputId": "b92116a1-1717-492c-a4dc-d458fabd32e7"
   },
   "outputs": [
    {
     "name": "stdout",
     "output_type": "stream",
     "text": [
      "104397\n",
      "4539.0\n",
      "1992-05-06 00:00:00\n",
      "2019-05-12 00:00:00\n",
      "78297.75\n",
      "78292\n",
      "78292 1992-05-06 00:00:00 2019-05-12 00:00:00\n",
      "26105 1992-05-06 00:00:00 2019-05-12 00:00:00\n",
      "104397\n"
     ]
    }
   ],
   "source": [
    "n = len(df_processed)\n",
    "print(n)\n",
    "print(n/23)\n",
    "print(df_processed['DrawDate'].min())\n",
    "print(df_processed['DrawDate'].max())\n",
    "\n",
    "\n",
    "split_percent = 0.75\n",
    "idx = n * split_percent\n",
    "print(idx)\n",
    "idx = int(idx // 23 * 23)\n",
    "print(idx)\n",
    "\n",
    "train_df = df_processed[:idx]\n",
    "test_df = df_processed[idx:]\n",
    "\n",
    "print(len(train_df), train_df.DrawDate.min(), train_df.DrawDate.max())\n",
    "print(len(test_df), test_df.DrawDate.min(), test_df.DrawDate.max())\n",
    "print(len(train_df) + len(test_df))"
   ]
  },
  {
   "cell_type": "code",
   "execution_count": 80,
   "metadata": {
    "colab": {
     "base_uri": "https://localhost:8080/",
     "height": 165
    },
    "colab_type": "code",
    "id": "tbDG0RGVJRiv",
    "outputId": "039f12d2-4d25-4cfe-ea2f-e05943715cac"
   },
   "outputs": [
    {
     "data": {
      "application/vnd.dataresource+json": {
       "data": [
        {
         "DrawDate": "2012-05-12T00:00:00.000Z",
         "DrawDay": 12,
         "DrawDayofweek": 5,
         "DrawDayofyear": 133,
         "DrawElapsed": 1336780800,
         "DrawIs_month_end": false,
         "DrawIs_month_start": false,
         "DrawIs_quarter_end": false,
         "DrawIs_quarter_start": false,
         "DrawIs_year_end": false,
         "DrawIs_year_start": false,
         "DrawMonth": 5,
         "DrawNo": 370112,
         "DrawWeek": 19,
         "DrawYear": 2012,
         "LuckyNo": 1976,
         "PrizeType": "2ndPrizeNo",
         "index": 75740
        },
        {
         "DrawDate": "2017-10-22T00:00:00.000Z",
         "DrawDay": 22,
         "DrawDayofweek": 6,
         "DrawDayofyear": 295,
         "DrawElapsed": 1508630400,
         "DrawIs_month_end": false,
         "DrawIs_month_start": false,
         "DrawIs_quarter_end": false,
         "DrawIs_quarter_start": false,
         "DrawIs_year_end": false,
         "DrawIs_year_start": false,
         "DrawMonth": 10,
         "DrawNo": 467217,
         "DrawWeek": 42,
         "DrawYear": 2017,
         "LuckyNo": 3197,
         "PrizeType": "ConsolationNo1",
         "index": 98075
        }
       ],
       "schema": {
        "fields": [
         {
          "name": "index",
          "type": "integer"
         },
         {
          "name": "DrawNo",
          "type": "integer"
         },
         {
          "name": "DrawDate",
          "type": "datetime"
         },
         {
          "name": "PrizeType",
          "type": "string"
         },
         {
          "name": "LuckyNo",
          "type": "integer"
         },
         {
          "name": "DrawYear",
          "type": "integer"
         },
         {
          "name": "DrawMonth",
          "type": "integer"
         },
         {
          "name": "DrawWeek",
          "type": "integer"
         },
         {
          "name": "DrawDay",
          "type": "integer"
         },
         {
          "name": "DrawDayofweek",
          "type": "integer"
         },
         {
          "name": "DrawDayofyear",
          "type": "integer"
         },
         {
          "name": "DrawIs_month_end",
          "type": "boolean"
         },
         {
          "name": "DrawIs_month_start",
          "type": "boolean"
         },
         {
          "name": "DrawIs_quarter_end",
          "type": "boolean"
         },
         {
          "name": "DrawIs_quarter_start",
          "type": "boolean"
         },
         {
          "name": "DrawIs_year_end",
          "type": "boolean"
         },
         {
          "name": "DrawIs_year_start",
          "type": "boolean"
         },
         {
          "name": "DrawElapsed",
          "type": "integer"
         }
        ],
        "pandas_version": "0.20.0",
        "primaryKey": [
         "index"
        ]
       }
      },
      "text/html": [
       "<div>\n",
       "<style scoped>\n",
       "    .dataframe tbody tr th:only-of-type {\n",
       "        vertical-align: middle;\n",
       "    }\n",
       "\n",
       "    .dataframe tbody tr th {\n",
       "        vertical-align: top;\n",
       "    }\n",
       "\n",
       "    .dataframe thead th {\n",
       "        text-align: right;\n",
       "    }\n",
       "</style>\n",
       "<table border=\"1\" class=\"dataframe\">\n",
       "  <thead>\n",
       "    <tr style=\"text-align: right;\">\n",
       "      <th></th>\n",
       "      <th>DrawNo</th>\n",
       "      <th>DrawDate</th>\n",
       "      <th>PrizeType</th>\n",
       "      <th>LuckyNo</th>\n",
       "      <th>DrawYear</th>\n",
       "      <th>DrawMonth</th>\n",
       "      <th>DrawWeek</th>\n",
       "      <th>DrawDay</th>\n",
       "      <th>DrawDayofweek</th>\n",
       "      <th>DrawDayofyear</th>\n",
       "      <th>DrawIs_month_end</th>\n",
       "      <th>DrawIs_month_start</th>\n",
       "      <th>DrawIs_quarter_end</th>\n",
       "      <th>DrawIs_quarter_start</th>\n",
       "      <th>DrawIs_year_end</th>\n",
       "      <th>DrawIs_year_start</th>\n",
       "      <th>DrawElapsed</th>\n",
       "    </tr>\n",
       "  </thead>\n",
       "  <tbody>\n",
       "    <tr>\n",
       "      <th>75740</th>\n",
       "      <td>370112</td>\n",
       "      <td>2012-05-12</td>\n",
       "      <td>2ndPrizeNo</td>\n",
       "      <td>1976</td>\n",
       "      <td>2012</td>\n",
       "      <td>5</td>\n",
       "      <td>19</td>\n",
       "      <td>12</td>\n",
       "      <td>5</td>\n",
       "      <td>133</td>\n",
       "      <td>False</td>\n",
       "      <td>False</td>\n",
       "      <td>False</td>\n",
       "      <td>False</td>\n",
       "      <td>False</td>\n",
       "      <td>False</td>\n",
       "      <td>1336780800</td>\n",
       "    </tr>\n",
       "    <tr>\n",
       "      <th>98075</th>\n",
       "      <td>467217</td>\n",
       "      <td>2017-10-22</td>\n",
       "      <td>ConsolationNo1</td>\n",
       "      <td>3197</td>\n",
       "      <td>2017</td>\n",
       "      <td>10</td>\n",
       "      <td>42</td>\n",
       "      <td>22</td>\n",
       "      <td>6</td>\n",
       "      <td>295</td>\n",
       "      <td>False</td>\n",
       "      <td>False</td>\n",
       "      <td>False</td>\n",
       "      <td>False</td>\n",
       "      <td>False</td>\n",
       "      <td>False</td>\n",
       "      <td>1508630400</td>\n",
       "    </tr>\n",
       "  </tbody>\n",
       "</table>\n",
       "</div>"
      ],
      "text/plain": [
       "       DrawNo   DrawDate       PrizeType  LuckyNo  DrawYear  DrawMonth  \\\n",
       "75740  370112 2012-05-12      2ndPrizeNo     1976      2012          5   \n",
       "98075  467217 2017-10-22  ConsolationNo1     3197      2017         10   \n",
       "\n",
       "       DrawWeek  DrawDay  DrawDayofweek  DrawDayofyear  DrawIs_month_end  \\\n",
       "75740        19       12              5            133             False   \n",
       "98075        42       22              6            295             False   \n",
       "\n",
       "       DrawIs_month_start  DrawIs_quarter_end  DrawIs_quarter_start  \\\n",
       "75740               False               False                 False   \n",
       "98075               False               False                 False   \n",
       "\n",
       "       DrawIs_year_end  DrawIs_year_start  DrawElapsed  \n",
       "75740            False              False   1336780800  \n",
       "98075            False              False   1508630400  "
      ]
     },
     "execution_count": 80,
     "metadata": {},
     "output_type": "execute_result"
    }
   ],
   "source": [
    "train_df.head(2)"
   ]
  },
  {
   "cell_type": "code",
   "execution_count": 81,
   "metadata": {
    "colab": {
     "base_uri": "https://localhost:8080/",
     "height": 117
    },
    "colab_type": "code",
    "id": "XhNtN7sLJRi1",
    "outputId": "5999afcf-2c01-4488-f2e5-ce2e384219da"
   },
   "outputs": [
    {
     "data": {
      "application/vnd.dataresource+json": {
       "data": [
        {
         "DrawDate": "2018-08-26T00:00:00.000Z",
         "DrawDay": 26,
         "DrawDayofweek": 6,
         "DrawDayofyear": 238,
         "DrawElapsed": 1535241600,
         "DrawIs_month_end": false,
         "DrawIs_month_start": false,
         "DrawIs_quarter_end": false,
         "DrawIs_quarter_start": false,
         "DrawIs_year_end": false,
         "DrawIs_year_start": false,
         "DrawMonth": 8,
         "DrawNo": 482218,
         "DrawWeek": 34,
         "DrawYear": 2018,
         "LuckyNo": 9444,
         "PrizeType": "ConsolationNo10",
         "index": 101526
        }
       ],
       "schema": {
        "fields": [
         {
          "name": "index",
          "type": "integer"
         },
         {
          "name": "DrawNo",
          "type": "integer"
         },
         {
          "name": "DrawDate",
          "type": "datetime"
         },
         {
          "name": "PrizeType",
          "type": "string"
         },
         {
          "name": "LuckyNo",
          "type": "integer"
         },
         {
          "name": "DrawYear",
          "type": "integer"
         },
         {
          "name": "DrawMonth",
          "type": "integer"
         },
         {
          "name": "DrawWeek",
          "type": "integer"
         },
         {
          "name": "DrawDay",
          "type": "integer"
         },
         {
          "name": "DrawDayofweek",
          "type": "integer"
         },
         {
          "name": "DrawDayofyear",
          "type": "integer"
         },
         {
          "name": "DrawIs_month_end",
          "type": "boolean"
         },
         {
          "name": "DrawIs_month_start",
          "type": "boolean"
         },
         {
          "name": "DrawIs_quarter_end",
          "type": "boolean"
         },
         {
          "name": "DrawIs_quarter_start",
          "type": "boolean"
         },
         {
          "name": "DrawIs_year_end",
          "type": "boolean"
         },
         {
          "name": "DrawIs_year_start",
          "type": "boolean"
         },
         {
          "name": "DrawElapsed",
          "type": "integer"
         }
        ],
        "pandas_version": "0.20.0",
        "primaryKey": [
         "index"
        ]
       }
      },
      "text/html": [
       "<div>\n",
       "<style scoped>\n",
       "    .dataframe tbody tr th:only-of-type {\n",
       "        vertical-align: middle;\n",
       "    }\n",
       "\n",
       "    .dataframe tbody tr th {\n",
       "        vertical-align: top;\n",
       "    }\n",
       "\n",
       "    .dataframe thead th {\n",
       "        text-align: right;\n",
       "    }\n",
       "</style>\n",
       "<table border=\"1\" class=\"dataframe\">\n",
       "  <thead>\n",
       "    <tr style=\"text-align: right;\">\n",
       "      <th></th>\n",
       "      <th>DrawNo</th>\n",
       "      <th>DrawDate</th>\n",
       "      <th>PrizeType</th>\n",
       "      <th>LuckyNo</th>\n",
       "      <th>DrawYear</th>\n",
       "      <th>DrawMonth</th>\n",
       "      <th>DrawWeek</th>\n",
       "      <th>DrawDay</th>\n",
       "      <th>DrawDayofweek</th>\n",
       "      <th>DrawDayofyear</th>\n",
       "      <th>DrawIs_month_end</th>\n",
       "      <th>DrawIs_month_start</th>\n",
       "      <th>DrawIs_quarter_end</th>\n",
       "      <th>DrawIs_quarter_start</th>\n",
       "      <th>DrawIs_year_end</th>\n",
       "      <th>DrawIs_year_start</th>\n",
       "      <th>DrawElapsed</th>\n",
       "    </tr>\n",
       "  </thead>\n",
       "  <tbody>\n",
       "    <tr>\n",
       "      <th>101526</th>\n",
       "      <td>482218</td>\n",
       "      <td>2018-08-26</td>\n",
       "      <td>ConsolationNo10</td>\n",
       "      <td>9444</td>\n",
       "      <td>2018</td>\n",
       "      <td>8</td>\n",
       "      <td>34</td>\n",
       "      <td>26</td>\n",
       "      <td>6</td>\n",
       "      <td>238</td>\n",
       "      <td>False</td>\n",
       "      <td>False</td>\n",
       "      <td>False</td>\n",
       "      <td>False</td>\n",
       "      <td>False</td>\n",
       "      <td>False</td>\n",
       "      <td>1535241600</td>\n",
       "    </tr>\n",
       "  </tbody>\n",
       "</table>\n",
       "</div>"
      ],
      "text/plain": [
       "        DrawNo   DrawDate        PrizeType  LuckyNo  DrawYear  DrawMonth  \\\n",
       "101526  482218 2018-08-26  ConsolationNo10     9444      2018          8   \n",
       "\n",
       "        DrawWeek  DrawDay  DrawDayofweek  DrawDayofyear  DrawIs_month_end  \\\n",
       "101526        34       26              6            238             False   \n",
       "\n",
       "        DrawIs_month_start  DrawIs_quarter_end  DrawIs_quarter_start  \\\n",
       "101526               False               False                 False   \n",
       "\n",
       "        DrawIs_year_end  DrawIs_year_start  DrawElapsed  \n",
       "101526            False              False   1535241600  "
      ]
     },
     "execution_count": 81,
     "metadata": {},
     "output_type": "execute_result"
    }
   ],
   "source": [
    "test_df.head(1)"
   ]
  },
  {
   "cell_type": "code",
   "execution_count": 82,
   "metadata": {
    "colab": {},
    "colab_type": "code",
    "id": "DwSkbsZeyfJB"
   },
   "outputs": [],
   "source": [
    "# Data normalization proceses\n",
    "procs=[FillMissing, Categorify, Normalize]"
   ]
  },
  {
   "cell_type": "code",
   "execution_count": 83,
   "metadata": {
    "colab": {},
    "colab_type": "code",
    "id": "pRSdjjeJJRi9"
   },
   "outputs": [],
   "source": [
    "# Set continuous and categorical columns\n",
    "#cont_vars = [\"DrawNo\", \"DrawElapsed\"]\n",
    "cont_vars = [\"DrawDayofyear\"]\n",
    "#cat_vars = [\"PrizeType\", \"DrawYear\", \"DrawMonth\", \"DrawWeek\", \"DrawDay\", \"DrawDayofweek\", \n",
    "#                  \"DrawDayofyear\",\"DrawIs_month_end\",\"DrawIs_month_start\", \"DrawIs_quarter_end\", \"DrawIs_quarter_start\", \"DrawIs_year_end\", \"DrawIs_year_start\"]\n",
    "cat_vars = [\"DrawMonth\", \"DrawWeek\", \"DrawDay\", \"DrawDayofweek\"]"
   ]
  },
  {
   "cell_type": "code",
   "execution_count": 84,
   "metadata": {
    "colab": {},
    "colab_type": "code",
    "id": "NX6sRVnFJRi_"
   },
   "outputs": [],
   "source": [
    "dep_var = 'LuckyNo'"
   ]
  },
  {
   "cell_type": "code",
   "execution_count": 85,
   "metadata": {
    "colab": {},
    "colab_type": "code",
    "id": "K08LmXY_JRjB"
   },
   "outputs": [],
   "source": [
    "df = train_df[cat_vars + cont_vars + [dep_var,'DrawDate']].copy()"
   ]
  },
  {
   "cell_type": "code",
   "execution_count": 86,
   "metadata": {
    "colab": {},
    "colab_type": "code",
    "id": "yzK1iibUc1jF"
   },
   "outputs": [],
   "source": [
    "train_df = train_df[cat_vars + cont_vars + [dep_var,'DrawDate']].copy()\n",
    "test_df = test_df[cat_vars + cont_vars + [dep_var,'DrawDate']].copy()"
   ]
  },
  {
   "cell_type": "code",
   "execution_count": 87,
   "metadata": {
    "colab": {
     "base_uri": "https://localhost:8080/",
     "height": 34
    },
    "colab_type": "code",
    "id": "pTtBKYQgJRjE",
    "outputId": "c29c5a78-d366-4f8e-f808-2a5b45a1ec77"
   },
   "outputs": [
    {
     "data": {
      "text/plain": [
       "(Timestamp('1992-05-06 00:00:00'), Timestamp('2019-05-12 00:00:00'))"
      ]
     },
     "execution_count": 87,
     "metadata": {},
     "output_type": "execute_result"
    }
   ],
   "source": [
    "# Min and max draw date\n",
    "test_df['DrawDate'].min(), test_df['DrawDate'].max()"
   ]
  },
  {
   "cell_type": "markdown",
   "metadata": {
    "colab_type": "text",
    "id": "psovR8pRJRjJ"
   },
   "source": [
    "### Create a validation set"
   ]
  },
  {
   "cell_type": "code",
   "execution_count": 88,
   "metadata": {
    "colab": {
     "base_uri": "https://localhost:8080/",
     "height": 34
    },
    "colab_type": "code",
    "id": "2M08ikGlJRjK",
    "outputId": "282537c9-c19f-4cda-997b-7704453d8f9f"
   },
   "outputs": [
    {
     "name": "stdout",
     "output_type": "stream",
     "text": [
      "26127\n"
     ]
    }
   ],
   "source": [
    "# 1st criteria - of the same date\n",
    "# 2nd criteria - >= len(test_df)\n",
    "\n",
    "cut = train_df['DrawDate'][(train_df['DrawDate'] == train_df['DrawDate'][len(test_df)])].index.max()\n",
    "print(cut)"
   ]
  },
  {
   "cell_type": "code",
   "execution_count": 89,
   "metadata": {
    "colab": {
     "base_uri": "https://localhost:8080/",
     "height": 204
    },
    "colab_type": "code",
    "id": "iEdDShxec1jL",
    "outputId": "1f4e861b-58e4-403f-e4e7-3c64cb513b3a"
   },
   "outputs": [
    {
     "data": {
      "application/vnd.dataresource+json": {
       "data": [
        {
         "DrawDate": "2012-05-12T00:00:00.000Z",
         "DrawDay": 12,
         "DrawDayofweek": 5,
         "DrawDayofyear": 133,
         "DrawMonth": 5,
         "DrawWeek": 19,
         "LuckyNo": 1976,
         "index": 75740
        },
        {
         "DrawDate": "2017-10-22T00:00:00.000Z",
         "DrawDay": 22,
         "DrawDayofweek": 6,
         "DrawDayofyear": 295,
         "DrawMonth": 10,
         "DrawWeek": 42,
         "LuckyNo": 3197,
         "index": 98075
        },
        {
         "DrawDate": "2008-12-21T00:00:00.000Z",
         "DrawDay": 21,
         "DrawDayofweek": 6,
         "DrawDayofyear": 356,
         "DrawMonth": 12,
         "DrawWeek": 51,
         "LuckyNo": 2272,
         "index": 62009
        },
        {
         "DrawDate": "2016-10-15T00:00:00.000Z",
         "DrawDay": 15,
         "DrawDayofweek": 5,
         "DrawDayofyear": 289,
         "DrawMonth": 10,
         "DrawWeek": 41,
         "LuckyNo": 6030,
         "index": 93896
        },
        {
         "DrawDate": "2003-05-10T00:00:00.000Z",
         "DrawDay": 10,
         "DrawDayofweek": 5,
         "DrawDayofyear": 130,
         "DrawMonth": 5,
         "DrawWeek": 19,
         "LuckyNo": 411,
         "index": 40346
        }
       ],
       "schema": {
        "fields": [
         {
          "name": "index",
          "type": "integer"
         },
         {
          "name": "DrawMonth",
          "type": "integer"
         },
         {
          "name": "DrawWeek",
          "type": "integer"
         },
         {
          "name": "DrawDay",
          "type": "integer"
         },
         {
          "name": "DrawDayofweek",
          "type": "integer"
         },
         {
          "name": "DrawDayofyear",
          "type": "integer"
         },
         {
          "name": "LuckyNo",
          "type": "integer"
         },
         {
          "name": "DrawDate",
          "type": "datetime"
         }
        ],
        "pandas_version": "0.20.0",
        "primaryKey": [
         "index"
        ]
       }
      },
      "text/html": [
       "<div>\n",
       "<style scoped>\n",
       "    .dataframe tbody tr th:only-of-type {\n",
       "        vertical-align: middle;\n",
       "    }\n",
       "\n",
       "    .dataframe tbody tr th {\n",
       "        vertical-align: top;\n",
       "    }\n",
       "\n",
       "    .dataframe thead th {\n",
       "        text-align: right;\n",
       "    }\n",
       "</style>\n",
       "<table border=\"1\" class=\"dataframe\">\n",
       "  <thead>\n",
       "    <tr style=\"text-align: right;\">\n",
       "      <th></th>\n",
       "      <th>DrawMonth</th>\n",
       "      <th>DrawWeek</th>\n",
       "      <th>DrawDay</th>\n",
       "      <th>DrawDayofweek</th>\n",
       "      <th>DrawDayofyear</th>\n",
       "      <th>LuckyNo</th>\n",
       "      <th>DrawDate</th>\n",
       "    </tr>\n",
       "  </thead>\n",
       "  <tbody>\n",
       "    <tr>\n",
       "      <th>75740</th>\n",
       "      <td>5</td>\n",
       "      <td>19</td>\n",
       "      <td>12</td>\n",
       "      <td>5</td>\n",
       "      <td>133</td>\n",
       "      <td>1976</td>\n",
       "      <td>2012-05-12</td>\n",
       "    </tr>\n",
       "    <tr>\n",
       "      <th>98075</th>\n",
       "      <td>10</td>\n",
       "      <td>42</td>\n",
       "      <td>22</td>\n",
       "      <td>6</td>\n",
       "      <td>295</td>\n",
       "      <td>3197</td>\n",
       "      <td>2017-10-22</td>\n",
       "    </tr>\n",
       "    <tr>\n",
       "      <th>62009</th>\n",
       "      <td>12</td>\n",
       "      <td>51</td>\n",
       "      <td>21</td>\n",
       "      <td>6</td>\n",
       "      <td>356</td>\n",
       "      <td>2272</td>\n",
       "      <td>2008-12-21</td>\n",
       "    </tr>\n",
       "    <tr>\n",
       "      <th>93896</th>\n",
       "      <td>10</td>\n",
       "      <td>41</td>\n",
       "      <td>15</td>\n",
       "      <td>5</td>\n",
       "      <td>289</td>\n",
       "      <td>6030</td>\n",
       "      <td>2016-10-15</td>\n",
       "    </tr>\n",
       "    <tr>\n",
       "      <th>40346</th>\n",
       "      <td>5</td>\n",
       "      <td>19</td>\n",
       "      <td>10</td>\n",
       "      <td>5</td>\n",
       "      <td>130</td>\n",
       "      <td>411</td>\n",
       "      <td>2003-05-10</td>\n",
       "    </tr>\n",
       "  </tbody>\n",
       "</table>\n",
       "</div>"
      ],
      "text/plain": [
       "       DrawMonth  DrawWeek  DrawDay  DrawDayofweek  DrawDayofyear  LuckyNo  \\\n",
       "75740          5        19       12              5            133     1976   \n",
       "98075         10        42       22              6            295     3197   \n",
       "62009         12        51       21              6            356     2272   \n",
       "93896         10        41       15              5            289     6030   \n",
       "40346          5        19       10              5            130      411   \n",
       "\n",
       "        DrawDate  \n",
       "75740 2012-05-12  \n",
       "98075 2017-10-22  \n",
       "62009 2008-12-21  \n",
       "93896 2016-10-15  \n",
       "40346 2003-05-10  "
      ]
     },
     "execution_count": 89,
     "metadata": {},
     "output_type": "execute_result"
    }
   ],
   "source": [
    "train_df.head(5)"
   ]
  },
  {
   "cell_type": "code",
   "execution_count": 90,
   "metadata": {
    "colab": {
     "base_uri": "https://localhost:8080/",
     "height": 204
    },
    "colab_type": "code",
    "id": "rlJZ7WvXc1jN",
    "outputId": "4bc96267-518d-4f79-b8ee-569020143e71"
   },
   "outputs": [
    {
     "data": {
      "application/vnd.dataresource+json": {
       "data": [
        {
         "DrawDate": "1999-07-18T00:00:00.000Z",
         "index": 26126
        },
        {
         "DrawDate": "1999-07-18T00:00:00.000Z",
         "index": 26105
        },
        {
         "DrawDate": "1999-07-18T00:00:00.000Z",
         "index": 26106
        },
        {
         "DrawDate": "1999-07-18T00:00:00.000Z",
         "index": 26119
        },
        {
         "DrawDate": "1999-07-18T00:00:00.000Z",
         "index": 26116
        },
        {
         "DrawDate": "1999-07-18T00:00:00.000Z",
         "index": 26120
        },
        {
         "DrawDate": "1999-07-18T00:00:00.000Z",
         "index": 26115
        },
        {
         "DrawDate": "1999-07-18T00:00:00.000Z",
         "index": 26108
        },
        {
         "DrawDate": "1999-07-18T00:00:00.000Z",
         "index": 26111
        },
        {
         "DrawDate": "1999-07-18T00:00:00.000Z",
         "index": 26112
        }
       ],
       "schema": {
        "fields": [
         {
          "name": "index",
          "type": "integer"
         },
         {
          "name": "DrawDate",
          "type": "datetime"
         }
        ],
        "pandas_version": "0.20.0",
        "primaryKey": [
         "index"
        ]
       }
      },
      "text/plain": [
       "26126   1999-07-18\n",
       "26105   1999-07-18\n",
       "26106   1999-07-18\n",
       "26119   1999-07-18\n",
       "26116   1999-07-18\n",
       "26120   1999-07-18\n",
       "26115   1999-07-18\n",
       "26108   1999-07-18\n",
       "26111   1999-07-18\n",
       "26112   1999-07-18\n",
       "Name: DrawDate, dtype: datetime64[ns]"
      ]
     },
     "execution_count": 90,
     "metadata": {},
     "output_type": "execute_result"
    }
   ],
   "source": [
    "train_df['DrawDate'][(train_df['DrawDate'] == train_df['DrawDate'][len(test_df)])].tail(10)"
   ]
  },
  {
   "cell_type": "code",
   "execution_count": 91,
   "metadata": {
    "colab": {
     "base_uri": "https://localhost:8080/",
     "height": 34
    },
    "colab_type": "code",
    "id": "825smVEzJRjL",
    "outputId": "91c06c0b-fe5e-41b0-8d83-1b75da3d8f11"
   },
   "outputs": [
    {
     "name": "stdout",
     "output_type": "stream",
     "text": [
      "range(0, 26127)\n"
     ]
    }
   ],
   "source": [
    "valid_idx = range(cut)\n",
    "print(valid_idx)"
   ]
  },
  {
   "cell_type": "code",
   "execution_count": 92,
   "metadata": {
    "colab": {},
    "colab_type": "code",
    "id": "IPUHYMiQzWof"
   },
   "outputs": [],
   "source": [
    "# train_idx = len(train_df) - cut\n",
    "# valid_idx = range(train_idx + 1, train_idx + cut)\n",
    "# train_idx = range(train_idx)\n",
    "# print(train_idx)\n",
    "# print(valid_idx)"
   ]
  },
  {
   "cell_type": "code",
   "execution_count": 93,
   "metadata": {
    "colab": {
     "base_uri": "https://localhost:8080/",
     "height": 119
    },
    "colab_type": "code",
    "id": "CQf46HenJRjO",
    "outputId": "1595beb3-2ee7-4389-aedd-e7bf23b1e814"
   },
   "outputs": [
    {
     "data": {
      "application/vnd.dataresource+json": {
       "data": [
        {
         "LuckyNo": 1976,
         "index": 75740
        },
        {
         "LuckyNo": 3197,
         "index": 98075
        },
        {
         "LuckyNo": 2272,
         "index": 62009
        },
        {
         "LuckyNo": 6030,
         "index": 93896
        },
        {
         "LuckyNo": 411,
         "index": 40346
        }
       ],
       "schema": {
        "fields": [
         {
          "name": "index",
          "type": "integer"
         },
         {
          "name": "LuckyNo",
          "type": "integer"
         }
        ],
        "pandas_version": "0.20.0",
        "primaryKey": [
         "index"
        ]
       }
      },
      "text/plain": [
       "75740    1976\n",
       "98075    3197\n",
       "62009    2272\n",
       "93896    6030\n",
       "40346     411\n",
       "Name: LuckyNo, dtype: int64"
      ]
     },
     "execution_count": 93,
     "metadata": {},
     "output_type": "execute_result"
    }
   ],
   "source": [
    "df[dep_var].head()"
   ]
  },
  {
   "cell_type": "markdown",
   "metadata": {
    "colab_type": "text",
    "id": "eJ7BbqQOJRjS"
   },
   "source": [
    "## Train"
   ]
  },
  {
   "cell_type": "code",
   "execution_count": 94,
   "metadata": {
    "colab": {},
    "colab_type": "code",
    "id": "zvFwyNMfJRjS"
   },
   "outputs": [],
   "source": [
    "path = Path('datasets/lotto')"
   ]
  },
  {
   "cell_type": "code",
   "execution_count": 105,
   "metadata": {
    "colab": {
     "base_uri": "https://localhost:8080/",
     "height": 85
    },
    "colab_type": "code",
    "id": "NclUP3xdJRjT",
    "outputId": "522751e7-5fcf-4f1f-e3c3-8999587e81c8"
   },
   "outputs": [],
   "source": [
    "data = (TabularList.from_df(df, path=path, cat_names=cat_vars, cont_names=cont_vars, procs=procs)\n",
    "                .split_by_idx(valid_idx)\n",
    "                .label_from_df(cols=dep_var, label_cls=FloatList, log=True)\n",
    "                #.label_from_df(cols=dep_var, label_cls=CategoryList)\n",
    "                .add_test(TabularList.from_df(test_df, path=path, cat_names=cat_vars, cont_names=cont_vars))\n",
    "                .databunch())\n",
    "# FloatList?\n",
    "# CategoryList?"
   ]
  },
  {
   "cell_type": "code",
   "execution_count": 106,
   "metadata": {
    "colab": {
     "base_uri": "https://localhost:8080/",
     "height": 411
    },
    "colab_type": "code",
    "id": "ULMiGgN6yB9J",
    "outputId": "63afcf1c-4487-4f4e-fb30-2db6aa51e4a2"
   },
   "outputs": [
    {
     "data": {
      "text/plain": [
       "TabularDataBunch;\n",
       "\n",
       "Train: LabelList\n",
       "y: FloatList (52165 items)\n",
       "[FloatItem 8.883918, FloatItem 9.192787, FloatItem 8.570734, FloatItem 8.993054, FloatItem 7.74457]...\n",
       "Path: datasets/lotto\n",
       "x: TabularList (52165 items)\n",
       "[TabularLine DrawMonth 4; DrawWeek 14; DrawDay 7; DrawDayofweek 3; DrawDayofyear -0.8060; , TabularLine DrawMonth 12; DrawWeek 53; DrawDay 29; DrawDayofweek 2; DrawDayofyear 1.7136; , TabularLine DrawMonth 8; DrawWeek 34; DrawDay 24; DrawDayofweek 5; DrawDayofyear 0.5151; , TabularLine DrawMonth 4; DrawWeek 14; DrawDay 6; DrawDayofweek 5; DrawDayofyear -0.8060; , TabularLine DrawMonth 9; DrawWeek 36; DrawDay 7; DrawDayofweek 5; DrawDayofyear 0.6472; ]...\n",
       "Path: datasets/lotto;\n",
       "\n",
       "Valid: LabelList\n",
       "y: FloatList (26127 items)\n",
       "[FloatItem 7.58883, FloatItem 8.069968, FloatItem 7.728416, FloatItem 8.704502, FloatItem 6.0185933]...\n",
       "Path: datasets/lotto\n",
       "x: TabularList (26127 items)\n",
       "[TabularLine DrawMonth 5; DrawWeek 19; DrawDay 12; DrawDayofweek 5; DrawDayofyear -0.4663; , TabularLine DrawMonth 10; DrawWeek 42; DrawDay 22; DrawDayofweek 6; DrawDayofyear 1.0624; , TabularLine DrawMonth 12; DrawWeek 51; DrawDay 21; DrawDayofweek 6; DrawDayofyear 1.6381; , TabularLine DrawMonth 10; DrawWeek 41; DrawDay 15; DrawDayofweek 5; DrawDayofyear 1.0058; , TabularLine DrawMonth 5; DrawWeek 19; DrawDay 10; DrawDayofweek 5; DrawDayofyear -0.4946; ]...\n",
       "Path: datasets/lotto;\n",
       "\n",
       "Test: LabelList\n",
       "y: EmptyLabelList (26105 items)\n",
       "[EmptyLabel , EmptyLabel , EmptyLabel , EmptyLabel , EmptyLabel ]...\n",
       "Path: .\n",
       "x: TabularList (26105 items)\n",
       "[TabularLine DrawMonth 8; DrawWeek 34; DrawDay 26; DrawDayofweek 6; DrawDayofyear 0.5246; , TabularLine DrawMonth 10; DrawWeek 43; DrawDay 23; DrawDayofweek 2; DrawDayofyear 1.0719; , TabularLine DrawMonth 8; DrawWeek 32; DrawDay 9; DrawDayofweek 2; DrawDayofyear 0.3641; , TabularLine DrawMonth 3; DrawWeek 12; DrawDay 20; DrawDayofweek 1; DrawDayofyear -0.9664; , TabularLine DrawMonth 7; DrawWeek 31; DrawDay 31; DrawDayofweek 2; DrawDayofyear 0.2886; ]...\n",
       "Path: datasets/lotto"
      ]
     },
     "execution_count": 106,
     "metadata": {},
     "output_type": "execute_result"
    }
   ],
   "source": [
    "data"
   ]
  },
  {
   "cell_type": "markdown",
   "metadata": {
    "colab_type": "text",
    "id": "-yCl0twwJRjV"
   },
   "source": [
    "### Model"
   ]
  },
  {
   "cell_type": "code",
   "execution_count": 107,
   "metadata": {
    "colab": {
     "base_uri": "https://localhost:8080/",
     "height": 102
    },
    "colab_type": "code",
    "id": "kQnJ0mT9JRjV",
    "outputId": "6ff5a915-7875-4cb9-a36d-6a04a4e078c1"
   },
   "outputs": [
    {
     "name": "stdout",
     "output_type": "stream",
     "text": [
      "9999\n",
      "9.21024036697585\n",
      "9.21024036697585 tensor([0.0000, 9.2102])\n",
      "torch.float32\n"
     ]
    }
   ],
   "source": [
    "print(np.max(train_df[dep_var]))\n",
    "print(np.log(np.max(train_df[dep_var])))\n",
    "max_log_y = np.log(np.max(train_df[dep_var]) * 1.0)\n",
    "y_range = torch.tensor([0, max_log_y], device=defaults.device)\n",
    "print(max_log_y, y_range)\n",
    "print(y_range.dtype)\n",
    "\n",
    "#y_range = torch.tensor([0, 9999], dtype=torch.long, device=defaults.device)\n",
    "#print(y_range)"
   ]
  },
  {
   "cell_type": "code",
   "execution_count": 108,
   "metadata": {
    "colab": {},
    "colab_type": "code",
    "id": "Bm-lBz87JRjW"
   },
   "outputs": [],
   "source": [
    "learn = tabular_learner(data, layers=[1000,500], ps=[0.001,0.01], emb_drop=0.04, \n",
    "                        #y_range=y_range, metrics=accuracy)                        \n",
    "                        y_range=y_range, metrics=exp_rmspe)"
   ]
  },
  {
   "cell_type": "code",
   "execution_count": 109,
   "metadata": {
    "colab": {},
    "colab_type": "code",
    "id": "MQB9Eq2RJRjb"
   },
   "outputs": [],
   "source": [
    "# doc(tabular_learner)"
   ]
  },
  {
   "cell_type": "code",
   "execution_count": 110,
   "metadata": {
    "colab": {
     "base_uri": "https://localhost:8080/",
     "height": 408
    },
    "colab_type": "code",
    "id": "Cmg7aOiiJRjd",
    "outputId": "5e4aa377-fdf2-4a96-b16f-40d0e3f6eaab"
   },
   "outputs": [
    {
     "data": {
      "text/plain": [
       "TabularModel(\n",
       "  (embeds): ModuleList(\n",
       "    (0): Embedding(13, 7)\n",
       "    (1): Embedding(54, 15)\n",
       "    (2): Embedding(32, 11)\n",
       "    (3): Embedding(6, 4)\n",
       "  )\n",
       "  (emb_drop): Dropout(p=0.04)\n",
       "  (bn_cont): BatchNorm1d(1, eps=1e-05, momentum=0.1, affine=True, track_running_stats=True)\n",
       "  (layers): Sequential(\n",
       "    (0): Linear(in_features=38, out_features=1000, bias=True)\n",
       "    (1): ReLU(inplace)\n",
       "    (2): BatchNorm1d(1000, eps=1e-05, momentum=0.1, affine=True, track_running_stats=True)\n",
       "    (3): Dropout(p=0.001)\n",
       "    (4): Linear(in_features=1000, out_features=500, bias=True)\n",
       "    (5): ReLU(inplace)\n",
       "    (6): BatchNorm1d(500, eps=1e-05, momentum=0.1, affine=True, track_running_stats=True)\n",
       "    (7): Dropout(p=0.01)\n",
       "    (8): Linear(in_features=500, out_features=1, bias=True)\n",
       "  )\n",
       ")"
      ]
     },
     "execution_count": 110,
     "metadata": {},
     "output_type": "execute_result"
    }
   ],
   "source": [
    "learn.model"
   ]
  },
  {
   "cell_type": "code",
   "execution_count": 111,
   "metadata": {
    "colab": {
     "base_uri": "https://localhost:8080/",
     "height": 34
    },
    "colab_type": "code",
    "id": "JaZQqsvfJRje",
    "outputId": "e4fc6b5c-5e67-4576-8b77-6d90b8a56ca0"
   },
   "outputs": [
    {
     "data": {
      "text/plain": [
       "1"
      ]
     },
     "execution_count": 111,
     "metadata": {},
     "output_type": "execute_result"
    }
   ],
   "source": [
    "len(data.train_ds.cont_names)"
   ]
  },
  {
   "cell_type": "code",
   "execution_count": 112,
   "metadata": {
    "colab": {
     "base_uri": "https://localhost:8080/",
     "height": 34
    },
    "colab_type": "code",
    "id": "kyT9HU-LJRji",
    "outputId": "bb770ef3-e1e4-4ffa-fd95-7f5a80d254e9"
   },
   "outputs": [
    {
     "name": "stdout",
     "output_type": "stream",
     "text": [
      "LR Finder is complete, type {learner_name}.recorder.plot() to see the graph.\n"
     ]
    }
   ],
   "source": [
    "learn.lr_find()"
   ]
  },
  {
   "cell_type": "code",
   "execution_count": 113,
   "metadata": {
    "colab": {
     "base_uri": "https://localhost:8080/",
     "height": 290
    },
    "colab_type": "code",
    "id": "vAyOUM7wJRjk",
    "outputId": "32f56120-c87a-4db4-8b4b-cc69d8a80c39"
   },
   "outputs": [
    {
     "data": {
      "image/png": "[encoded data removed]",
      "text/plain": [
       "<Figure size 432x288 with 1 Axes>"
      ]
     },
     "metadata": {
      "needs_background": "light"
     },
     "output_type": "display_data"
    }
   ],
   "source": [
    "learn.recorder.plot()"
   ]
  },
  {
   "cell_type": "code",
   "execution_count": 114,
   "metadata": {
    "colab": {
     "base_uri": "https://localhost:8080/",
     "height": 204
    },
    "colab_type": "code",
    "id": "rRqmRng5JRjn",
    "outputId": "3e26360e-b3d3-4e38-ed06-3d69f8718d15"
   },
   "outputs": [
    {
     "data": {
      "text/html": [
       "Total time: 00:25 <p><table style='width:300px; margin-bottom:10px'>\n",
       "  <tr>\n",
       "    <th>epoch</th>\n",
       "    <th>train_loss</th>\n",
       "    <th>valid_loss</th>\n",
       "    <th>exp_rmspe</th>\n",
       "  </tr>\n",
       "  <tr>\n",
       "    <th>1</th>\n",
       "    <th>inf</th>\n",
       "    <th>nan</th>\n",
       "    <th>nan</th>\n",
       "  </tr>\n",
       "</table>\n"
      ],
      "text/plain": [
       "<IPython.core.display.HTML object>"
      ]
     },
     "metadata": {},
     "output_type": "display_data"
    }
   ],
   "source": [
    "learn.fit_one_cycle(1, 1e-04, wd=0.2)"
   ]
  },
  {
   "cell_type": "code",
   "execution_count": null,
   "metadata": {
    "colab": {},
    "colab_type": "code",
    "id": "IDxVjdaoJRjp"
   },
   "outputs": [],
   "source": [
    "learn.save('1')"
   ]
  },
  {
   "cell_type": "code",
   "execution_count": null,
   "metadata": {
    "colab": {
     "base_uri": "https://localhost:8080/",
     "height": 164
    },
    "colab_type": "code",
    "id": "VsgKgrIDc1jv",
    "outputId": "86ce45b3-2404-44bc-e156-dfefe44b4586"
   },
   "outputs": [
    {
     "ename": "TypeError",
     "evalue": "ignored",
     "output_type": "error",
     "traceback": [
      "\u001b[0;31m---------------------------------------------------------------------------\u001b[0m",
      "\u001b[0;31mTypeError\u001b[0m                                 Traceback (most recent call last)",
      "\u001b[0;32m<ipython-input-143-0b26919095ad>\u001b[0m in \u001b[0;36m<module>\u001b[0;34m()\u001b[0m\n\u001b[0;32m----> 1\u001b[0;31m \u001b[0mlearn\u001b[0m\u001b[0;34m.\u001b[0m\u001b[0mrecorder\u001b[0m\u001b[0;34m.\u001b[0m\u001b[0mplot_losses\u001b[0m\u001b[0;34m(\u001b[0m\u001b[0mlast\u001b[0m\u001b[0;34m=\u001b[0m\u001b[0;34m-\u001b[0m\u001b[0;36m1\u001b[0m\u001b[0;34m)\u001b[0m\u001b[0;34m\u001b[0m\u001b[0;34m\u001b[0m\u001b[0m\n\u001b[0m",
      "\u001b[0;31mTypeError\u001b[0m: plot_losses() got an unexpected keyword argument 'last'"
     ]
    }
   ],
   "source": [
    "learn.recorder.plot_losses(last=-1)"
   ]
  },
  {
   "cell_type": "code",
   "execution_count": null,
   "metadata": {
    "colab": {},
    "colab_type": "code",
    "id": "mM2ORUowc1jw"
   },
   "outputs": [],
   "source": []
  }
 ],
 "metadata": {
  "accelerator": "GPU",
  "colab": {
   "include_colab_link": true,
   "name": "lotto.ipynb",
   "provenance": [],
   "version": "0.3.2"
  },
  "kernelspec": {
   "display_name": "Python 3",
   "language": "python",
   "name": "python3"
  },
  "language_info": {
   "codemirror_mode": {
    "name": "ipython",
    "version": 3
   },
   "file_extension": ".py",
   "mimetype": "text/x-python",
   "name": "python",
   "nbconvert_exporter": "python",
   "pygments_lexer": "ipython3",
   "version": "3.7.2"
  }
 },
 "nbformat": 4,
 "nbformat_minor": 2
}

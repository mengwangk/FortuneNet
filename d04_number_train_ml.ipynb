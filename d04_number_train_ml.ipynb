{
 "cells": [
  {
   "cell_type": "markdown",
   "metadata": {
    "colab_type": "text",
    "id": "view-in-github"
   },
   "source": [
    "<a href=\"https://colab.research.google.com/github/mengwangk/dl-projects/blob/master/number_crunching.ipynb\" target=\"_parent\"><img src=\"https://colab.research.google.com/assets/colab-badge.svg\" alt=\"Open In Colab\"/></a>"
   ]
  },
  {
   "cell_type": "markdown",
   "metadata": {
    "colab_type": "text",
    "id": "b5243bUj8-K1",
    "toc-hr-collapsed": false
   },
   "source": [
    "# Machine Learning Methods"
   ]
  },
  {
   "cell_type": "markdown",
   "metadata": {
    "colab_type": "text",
    "id": "CQBDKNHCB7gO"
   },
   "source": [
    "## Magic"
   ]
  },
  {
   "cell_type": "code",
   "execution_count": 2,
   "metadata": {
    "colab": {},
    "colab_type": "code",
    "id": "-IIhuSvDcwZy"
   },
   "outputs": [],
   "source": [
    "%reload_ext autoreload\n",
    "%autoreload 2\n",
    "\n",
    "%matplotlib inline"
   ]
  },
  {
   "cell_type": "code",
   "execution_count": 2,
   "metadata": {
    "colab": {},
    "colab_type": "code",
    "id": "pdS7XRoicwZ2"
   },
   "outputs": [],
   "source": [
    "# To support both python 2 and python 3\n",
    "from __future__ import division, print_function, unicode_literals\n",
    "\n",
    "# Common imports\n",
    "import numpy as np\n",
    "import os\n",
    "import pandas as pd\n",
    "import featuretools as ft\n",
    "import matplotlib as mpl\n",
    "import matplotlib.pyplot as plt\n",
    "from pathlib import Path"
   ]
  },
  {
   "cell_type": "code",
   "execution_count": 3,
   "metadata": {
    "colab": {},
    "colab_type": "code",
    "id": "L9xMGiLBc1gn"
   },
   "outputs": [],
   "source": [
    "# pdb.set_trace"
   ]
  },
  {
   "cell_type": "markdown",
   "metadata": {
    "colab_type": "text",
    "id": "ugtBDkyVcwZ6"
   },
   "source": [
    "## Setup"
   ]
  },
  {
   "cell_type": "code",
   "execution_count": 4,
   "metadata": {
    "colab": {},
    "colab_type": "code",
    "id": "tc6D3kBScwZ7"
   },
   "outputs": [],
   "source": [
    "# to make this notebook's output stable across runs\n",
    "np.random.seed(42)\n",
    "\n",
    "mpl.rc('axes', labelsize=14)\n",
    "mpl.rc('xtick', labelsize=12)\n",
    "mpl.rc('ytick', labelsize=12)\n",
    "\n",
    "# Ignore useless warnings (see SciPy issue #5998)\n",
    "import warnings\n",
    "warnings.filterwarnings(action=\"ignore\", message=\"^internal gelsd\")\n",
    "\n",
    "from IPython.display import display\n",
    "pd.options.display.max_columns = 50\n",
    "pd.options.display.html.table_schema = True"
   ]
  },
  {
   "cell_type": "markdown",
   "metadata": {
    "colab_type": "text",
    "id": "JigLrfOscwaH"
   },
   "source": [
    "## Datasets"
   ]
  },
  {
   "cell_type": "code",
   "execution_count": 5,
   "metadata": {
    "colab": {},
    "colab_type": "code",
    "id": "O1oXBFtycwaH"
   },
   "outputs": [],
   "source": [
    "DATASET = Path (\"./datasets/lotto/data_all.csv\")"
   ]
  },
  {
   "cell_type": "code",
   "execution_count": 7,
   "metadata": {
    "colab": {},
    "colab_type": "code",
    "id": "I7frraxZLNzA"
   },
   "outputs": [
    {
     "data": {
      "application/vnd.dataresource+json": {
       "data": [
        {
         "DrawDate": "1992-05-06",
         "DrawNo": 40792,
         "LuckyNo": 19,
         "PrizeType": "1stPrizeNo",
         "index": 0
        },
        {
         "DrawDate": "1992-05-06",
         "DrawNo": 40792,
         "LuckyNo": 1124,
         "PrizeType": "2ndPrizeNo",
         "index": 1
        },
        {
         "DrawDate": "1992-05-06",
         "DrawNo": 40792,
         "LuckyNo": 592,
         "PrizeType": "3rdPrizeNo",
         "index": 2
        },
        {
         "DrawDate": "1992-05-06",
         "DrawNo": 40792,
         "LuckyNo": 5311,
         "PrizeType": "ConsolationNo1",
         "index": 3
        },
        {
         "DrawDate": "1992-05-06",
         "DrawNo": 40792,
         "LuckyNo": 407,
         "PrizeType": "ConsolationNo10",
         "index": 4
        },
        {
         "DrawDate": "1992-05-06",
         "DrawNo": 40792,
         "LuckyNo": 1949,
         "PrizeType": "ConsolationNo2",
         "index": 5
        },
        {
         "DrawDate": "1992-05-06",
         "DrawNo": 40792,
         "LuckyNo": 1606,
         "PrizeType": "ConsolationNo3",
         "index": 6
        },
        {
         "DrawDate": "1992-05-06",
         "DrawNo": 40792,
         "LuckyNo": 3775,
         "PrizeType": "ConsolationNo4",
         "index": 7
        },
        {
         "DrawDate": "1992-05-06",
         "DrawNo": 40792,
         "LuckyNo": 6226,
         "PrizeType": "ConsolationNo5",
         "index": 8
        },
        {
         "DrawDate": "1992-05-06",
         "DrawNo": 40792,
         "LuckyNo": 1271,
         "PrizeType": "ConsolationNo6",
         "index": 9
        }
       ],
       "schema": {
        "fields": [
         {
          "name": "index",
          "type": "integer"
         },
         {
          "name": "DrawNo",
          "type": "integer"
         },
         {
          "name": "DrawDate",
          "type": "string"
         },
         {
          "name": "PrizeType",
          "type": "string"
         },
         {
          "name": "LuckyNo",
          "type": "integer"
         }
        ],
        "pandas_version": "0.20.0",
        "primaryKey": [
         "index"
        ]
       }
      },
      "text/html": [
       "<div>\n",
       "<style scoped>\n",
       "    .dataframe tbody tr th:only-of-type {\n",
       "        vertical-align: middle;\n",
       "    }\n",
       "\n",
       "    .dataframe tbody tr th {\n",
       "        vertical-align: top;\n",
       "    }\n",
       "\n",
       "    .dataframe thead th {\n",
       "        text-align: right;\n",
       "    }\n",
       "</style>\n",
       "<table border=\"1\" class=\"dataframe\">\n",
       "  <thead>\n",
       "    <tr style=\"text-align: right;\">\n",
       "      <th></th>\n",
       "      <th>DrawNo</th>\n",
       "      <th>DrawDate</th>\n",
       "      <th>PrizeType</th>\n",
       "      <th>LuckyNo</th>\n",
       "    </tr>\n",
       "  </thead>\n",
       "  <tbody>\n",
       "    <tr>\n",
       "      <th>0</th>\n",
       "      <td>40792</td>\n",
       "      <td>1992-05-06</td>\n",
       "      <td>1stPrizeNo</td>\n",
       "      <td>19</td>\n",
       "    </tr>\n",
       "    <tr>\n",
       "      <th>1</th>\n",
       "      <td>40792</td>\n",
       "      <td>1992-05-06</td>\n",
       "      <td>2ndPrizeNo</td>\n",
       "      <td>1124</td>\n",
       "    </tr>\n",
       "    <tr>\n",
       "      <th>2</th>\n",
       "      <td>40792</td>\n",
       "      <td>1992-05-06</td>\n",
       "      <td>3rdPrizeNo</td>\n",
       "      <td>592</td>\n",
       "    </tr>\n",
       "    <tr>\n",
       "      <th>3</th>\n",
       "      <td>40792</td>\n",
       "      <td>1992-05-06</td>\n",
       "      <td>ConsolationNo1</td>\n",
       "      <td>5311</td>\n",
       "    </tr>\n",
       "    <tr>\n",
       "      <th>4</th>\n",
       "      <td>40792</td>\n",
       "      <td>1992-05-06</td>\n",
       "      <td>ConsolationNo10</td>\n",
       "      <td>407</td>\n",
       "    </tr>\n",
       "    <tr>\n",
       "      <th>5</th>\n",
       "      <td>40792</td>\n",
       "      <td>1992-05-06</td>\n",
       "      <td>ConsolationNo2</td>\n",
       "      <td>1949</td>\n",
       "    </tr>\n",
       "    <tr>\n",
       "      <th>6</th>\n",
       "      <td>40792</td>\n",
       "      <td>1992-05-06</td>\n",
       "      <td>ConsolationNo3</td>\n",
       "      <td>1606</td>\n",
       "    </tr>\n",
       "    <tr>\n",
       "      <th>7</th>\n",
       "      <td>40792</td>\n",
       "      <td>1992-05-06</td>\n",
       "      <td>ConsolationNo4</td>\n",
       "      <td>3775</td>\n",
       "    </tr>\n",
       "    <tr>\n",
       "      <th>8</th>\n",
       "      <td>40792</td>\n",
       "      <td>1992-05-06</td>\n",
       "      <td>ConsolationNo5</td>\n",
       "      <td>6226</td>\n",
       "    </tr>\n",
       "    <tr>\n",
       "      <th>9</th>\n",
       "      <td>40792</td>\n",
       "      <td>1992-05-06</td>\n",
       "      <td>ConsolationNo6</td>\n",
       "      <td>1271</td>\n",
       "    </tr>\n",
       "  </tbody>\n",
       "</table>\n",
       "</div>"
      ],
      "text/plain": [
       "   DrawNo    DrawDate        PrizeType  LuckyNo\n",
       "0   40792  1992-05-06       1stPrizeNo       19\n",
       "1   40792  1992-05-06       2ndPrizeNo     1124\n",
       "2   40792  1992-05-06       3rdPrizeNo      592\n",
       "3   40792  1992-05-06   ConsolationNo1     5311\n",
       "4   40792  1992-05-06  ConsolationNo10      407\n",
       "5   40792  1992-05-06   ConsolationNo2     1949\n",
       "6   40792  1992-05-06   ConsolationNo3     1606\n",
       "7   40792  1992-05-06   ConsolationNo4     3775\n",
       "8   40792  1992-05-06   ConsolationNo5     6226\n",
       "9   40792  1992-05-06   ConsolationNo6     1271"
      ]
     },
     "execution_count": 7,
     "metadata": {},
     "output_type": "execute_result"
    }
   ],
   "source": [
    "df = pd.read_csv(DATASET)\n",
    "df.head(10)"
   ]
  },
  {
   "cell_type": "code",
   "execution_count": null,
   "metadata": {
    "colab": {},
    "colab_type": "code",
    "id": "mM2ORUowc1jw"
   },
   "outputs": [],
   "source": []
  }
 ],
 "metadata": {
  "accelerator": "GPU",
  "colab": {
   "include_colab_link": true,
   "name": "lotto.ipynb",
   "provenance": [],
   "version": "0.3.2"
  },
  "kernelspec": {
   "display_name": "Python 3",
   "language": "python",
   "name": "python3"
  },
  "language_info": {
   "codemirror_mode": {
    "name": "ipython",
    "version": 3
   },
   "file_extension": ".py",
   "mimetype": "text/x-python",
   "name": "python",
   "nbconvert_exporter": "python",
   "pygments_lexer": "ipython3",
   "version": "3.7.2"
  }
 },
 "nbformat": 4,
 "nbformat_minor": 2
}

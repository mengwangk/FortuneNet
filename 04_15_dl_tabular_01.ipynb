{
  "nbformat": 4,
  "nbformat_minor": 0,
  "metadata": {
    "colab": {
      "name": "04_14_gbdt_01.ipynb",
      "provenance": []
    },
    "kernelspec": {
      "display_name": "Python 3",
      "language": "python",
      "name": "python3"
    },
    "language_info": {
      "codemirror_mode": {
        "name": "ipython",
        "version": 3
      },
      "file_extension": ".py",
      "mimetype": "text/x-python",
      "name": "python",
      "nbconvert_exporter": "python",
      "pygments_lexer": "ipython3",
      "version": "3.8.3"
    }
  },
  "cells": [
    {
      "cell_type": "markdown",
      "metadata": {
        "colab_type": "text",
        "id": "I7aG9jzGoP18"
      },
      "source": [
        "# Dataset"
      ]
    },
    {
      "cell_type": "code",
      "metadata": {
        "colab_type": "code",
        "id": "zlVvNIxToP1-",
        "colab": {}
      },
      "source": [
        "from IPython.core.interactiveshell import InteractiveShell\n",
        "InteractiveShell.ast_node_interactivity = \"all\"\n",
        "\n",
        "%load_ext autoreload\n",
        "%autoreload 2"
      ],
      "execution_count": 1,
      "outputs": []
    },
    {
      "cell_type": "code",
      "metadata": {
        "colab_type": "code",
        "id": "UXQchcJCoP2E",
        "colab": {}
      },
      "source": [
        "required_libs = [ (\"numpy\", \"numpy\"),\n",
        "                 (\"pandas\", \"pandas\"),\n",
        "                 (\"seaborn\", \"seaborn\"),\n",
        "                 (\"matplotlib\", \"matplotlib\"),\n",
        "                 (\"sklearn\", \"sklearn\"),\n",
        "                 (\"colorama\", \"colorama\"),\n",
        "                 (\"emoji\", \"emoji\"),\n",
        "                 (\"catboost\", \"catboost\")\n",
        "                ]"
      ],
      "execution_count": 2,
      "outputs": []
    },
    {
      "cell_type": "code",
      "metadata": {
        "colab_type": "code",
        "id": "Uyzk4kXYoP2J",
        "colab": {}
      },
      "source": [
        "def is_lib_exists(name):\n",
        "    import importlib\n",
        "    lib = importlib.util.find_spec(name)\n",
        "    return lib is not None"
      ],
      "execution_count": 3,
      "outputs": []
    },
    {
      "cell_type": "code",
      "metadata": {
        "colab_type": "code",
        "id": "5SJ6r_j2oP2N",
        "colab": {
          "base_uri": "https://localhost:8080/",
          "height": 153
        },
        "outputId": "036d3da5-e5e4-4675-b0b2-e22c19519187"
      },
      "source": [
        "for (clz,lib) in required_libs:\n",
        "    if not is_lib_exists(clz):\n",
        "        print(f\"Installing {lib}\")\n",
        "        !pip -qq install {lib}\n",
        "    else:\n",
        "        print(f\"{lib} exists\")"
      ],
      "execution_count": 4,
      "outputs": [
        {
          "output_type": "stream",
          "text": [
            "numpy exists\n",
            "pandas exists\n",
            "seaborn exists\n",
            "matplotlib exists\n",
            "sklearn exists\n",
            "colorama exists\n",
            "emoji exists\n",
            "catboost exists\n"
          ],
          "name": "stdout"
        }
      ]
    },
    {
      "cell_type": "code",
      "metadata": {
        "id": "kr8IQzcWjE-v",
        "colab_type": "code",
        "colab": {
          "base_uri": "https://localhost:8080/",
          "height": 34
        },
        "outputId": "453b1f30-7be5-4051-ca12-0da308c2d562"
      },
      "source": [
        "# Uninstall fastai ver 1 and install ver 2\n",
        "!pip uninstall -qq --yes fastai \n",
        "!pip install -q fastai\n",
        "import fastai\n",
        "print(fastai.__version__)"
      ],
      "execution_count": 5,
      "outputs": [
        {
          "output_type": "stream",
          "text": [
            "2.0.11\n"
          ],
          "name": "stdout"
        }
      ]
    },
    {
      "cell_type": "code",
      "metadata": {
        "colab_type": "code",
        "id": "hRyT0uoNoP2Q",
        "colab": {}
      },
      "source": [
        "COLAB = True\n",
        "\n",
        "DATASET_NAME = '4D.zip'\n",
        "\n",
        "FEATURE_DATASET_PREFIX = 'feature_matrix_d2_v3'"
      ],
      "execution_count": 6,
      "outputs": []
    },
    {
      "cell_type": "code",
      "metadata": {
        "colab_type": "code",
        "id": "zEbqmb8KoP2S",
        "colab": {
          "base_uri": "https://localhost:8080/",
          "height": 71
        },
        "outputId": "3d0c4c6a-2905-4a7e-ebc7-24934b79dd4a"
      },
      "source": [
        "import numpy as np\n",
        "import pandas as pd\n",
        "import seaborn as sns\n",
        "import matplotlib.pyplot as plt\n",
        "import calendar\n",
        "import traceback\n",
        "import catboost\n",
        "import gc\n",
        "from pathlib import Path\n",
        "from dateutil.relativedelta import *\n",
        "from datetime import *\n",
        "from catboost import *\n",
        "from catboost import datasets\n",
        "from catboost import CatBoostClassifier\n",
        "from scipy import stats\n",
        "from scipy.stats.stats import pearsonr\n",
        "from pandas.api.types import is_string_dtype, is_numeric_dtype, is_categorical_dtype\n",
        "from fastai.tabular.all import *\n",
        "np.set_printoptions(precision=4)\n",
        "pd.options.display.max_columns = None"
      ],
      "execution_count": 7,
      "outputs": [
        {
          "output_type": "stream",
          "text": [
            "/usr/local/lib/python3.6/dist-packages/statsmodels/tools/_testing.py:19: FutureWarning: pandas.util.testing is deprecated. Use the functions in the public API at pandas.testing instead.\n",
            "  import pandas.util.testing as tm\n"
          ],
          "name": "stderr"
        }
      ]
    },
    {
      "cell_type": "code",
      "metadata": {
        "colab_type": "code",
        "id": "C-7Jn85JoP2V",
        "colab": {
          "base_uri": "https://localhost:8080/",
          "height": 102
        },
        "outputId": "79c90c10-5b67-4012-f78c-1f667c11b309"
      },
      "source": [
        "%matplotlib inline\n",
        "%aimport"
      ],
      "execution_count": 8,
      "outputs": [
        {
          "output_type": "stream",
          "text": [
            "Modules to reload:\n",
            "all-except-skipped\n",
            "\n",
            "Modules to skip:\n",
            "\n"
          ],
          "name": "stdout"
        }
      ]
    },
    {
      "cell_type": "code",
      "metadata": {
        "colab_type": "code",
        "id": "bRRyrDnzoP2a",
        "colab": {}
      },
      "source": [
        "from IPython.display import display"
      ],
      "execution_count": 9,
      "outputs": []
    },
    {
      "cell_type": "code",
      "metadata": {
        "colab_type": "code",
        "id": "WQ16s9UjoP2d",
        "colab": {
          "base_uri": "https://localhost:8080/",
          "height": 51
        },
        "outputId": "7d6b1496-f31a-48ee-a893-22934f814577"
      },
      "source": [
        "# check catboost version\n",
        "print(catboost.__version__)\n",
        "!python --version"
      ],
      "execution_count": 10,
      "outputs": [
        {
          "output_type": "stream",
          "text": [
            "0.24.1\n",
            "Python 3.6.9\n"
          ],
          "name": "stdout"
        }
      ]
    },
    {
      "cell_type": "code",
      "metadata": {
        "colab_type": "code",
        "id": "yGhSyyL2pSHj",
        "colab": {
          "base_uri": "https://localhost:8080/",
          "height": 153
        },
        "outputId": "f6d49404-c8c5-4298-aeff-d97fc34a6aa4"
      },
      "source": [
        "# colab setup\n",
        "if COLAB:\n",
        "  !rm -rf dl-projects\n",
        "  !git clone https://github.com/mengwangk/dl-projects\n",
        "  \n",
        "  !cp dl-projects/utils* .\n",
        "  !cp dl-projects/preprocess* .\n",
        "  !cp dl-projects/plot* .\n",
        "  \n",
        "  from google.colab import drive\n",
        "  drive.mount('/content/gdrive')\n",
        "  GDRIVE_DATASET_FOLDER = Path('gdrive/My Drive/datasets/')\n",
        "  DATASET_PATH = GDRIVE_DATASET_FOLDER\n",
        "  ORIGIN_DATASET_PATH = Path('dl-projects/datasets')\n",
        "  #!ls -l gdrive/\"My Drive\"/datasets/ --block-size=M\n",
        "\n",
        "DATASET = DATASET_PATH/f\"{FEATURE_DATASET_PREFIX}.ft\"\n",
        "ORIGIN_DATASET = ORIGIN_DATASET_PATH/DATASET_NAME"
      ],
      "execution_count": 11,
      "outputs": [
        {
          "output_type": "stream",
          "text": [
            "Cloning into 'dl-projects'...\n",
            "remote: Enumerating objects: 42, done.\u001b[K\n",
            "remote: Counting objects: 100% (42/42), done.\u001b[K\n",
            "remote: Compressing objects: 100% (36/36), done.\u001b[K\n",
            "remote: Total 2252 (delta 25), reused 13 (delta 6), pack-reused 2210\u001b[K\n",
            "Receiving objects: 100% (2252/2252), 80.16 MiB | 30.85 MiB/s, done.\n",
            "Resolving deltas: 100% (1404/1404), done.\n",
            "Drive already mounted at /content/gdrive; to attempt to forcibly remount, call drive.mount(\"/content/gdrive\", force_remount=True).\n"
          ],
          "name": "stdout"
        }
      ]
    },
    {
      "cell_type": "markdown",
      "metadata": {
        "colab_type": "text",
        "id": "gvnr5KFJoP2f"
      },
      "source": [
        "## EDA"
      ]
    },
    {
      "cell_type": "code",
      "metadata": {
        "colab_type": "code",
        "id": "ZV-CiR4Yrb7m",
        "colab": {}
      },
      "source": [
        "from preprocess import *\n",
        "from utils import feature_selection, plot_feature_importances\n",
        "from plot import plot_correlation_matrix, plot_labeled_scatter"
      ],
      "execution_count": 12,
      "outputs": []
    },
    {
      "cell_type": "code",
      "metadata": {
        "colab_type": "code",
        "id": "OTuQ19LcpP0L",
        "colab": {}
      },
      "source": [
        "data = pd.read_feather(DATASET)\n",
        "origin_data = format_tabular(ORIGIN_DATASET)"
      ],
      "execution_count": 13,
      "outputs": []
    },
    {
      "cell_type": "code",
      "metadata": {
        "colab_type": "code",
        "id": "NznUjX3ppQeG",
        "colab": {}
      },
      "source": [
        "jan_2020 = pd.read_feather(DATASET_PATH/f\"feature_matrix_2020_jan.ft\")\n",
        "feb_2020 = pd.read_feather(DATASET_PATH/f\"feature_matrix_2020_feb.ft\")\n",
        "mar_2020 = pd.read_feather(DATASET_PATH/f\"feature_matrix_2020_mar.ft\")\n",
        "apr_2020 = pd.read_feather(DATASET_PATH/f\"feature_matrix_2020_apr.ft\")\n",
        "may_2020 = pd.read_feather(DATASET_PATH/f\"feature_matrix_2020_may.ft\")\n",
        "jun_2020 = pd.read_feather(DATASET_PATH/f\"feature_matrix_2020_jun.ft\")\n",
        "jul_2020 = pd.read_feather(DATASET_PATH/f\"feature_matrix_2020_jul.ft\")"
      ],
      "execution_count": 14,
      "outputs": []
    },
    {
      "cell_type": "code",
      "metadata": {
        "colab_type": "code",
        "id": "Z4nQM7SkxbTM",
        "colab": {
          "base_uri": "https://localhost:8080/",
          "height": 34
        },
        "outputId": "6173a109-b01c-4ef3-87e7-2be598cc3616"
      },
      "source": [
        "new_data = data.append(jan_2020[data.columns],ignore_index=True)\n",
        "new_data = new_data.append(feb_2020[data.columns],ignore_index=True)\n",
        "new_data = new_data.append(mar_2020[data.columns],ignore_index=True)\n",
        "new_data = new_data.append(apr_2020[data.columns],ignore_index=True)\n",
        "new_data = new_data.append(may_2020[data.columns],ignore_index=True)\n",
        "new_data = new_data.append(jun_2020[data.columns],ignore_index=True)\n",
        "new_data = new_data.append(jul_2020[data.columns],ignore_index=True)\n",
        "data.shape, new_data.shape "
      ],
      "execution_count": 15,
      "outputs": [
        {
          "output_type": "execute_result",
          "data": {
            "text/plain": [
              "((959893, 217), (1029893, 217))"
            ]
          },
          "metadata": {
            "tags": []
          },
          "execution_count": 15
        }
      ]
    },
    {
      "cell_type": "code",
      "metadata": {
        "colab_type": "code",
        "id": "6fcS0WHNF84G",
        "colab": {}
      },
      "source": [
        "data = new_data"
      ],
      "execution_count": 16,
      "outputs": []
    },
    {
      "cell_type": "code",
      "metadata": {
        "colab_type": "code",
        "id": "P21A_rqdF_SP",
        "colab": {
          "base_uri": "https://localhost:8080/",
          "height": 221
        },
        "outputId": "cee7c4f3-dcad-4b2f-f3dc-cec29545c833"
      },
      "source": [
        "data.isna().sum().sort_values(ascending=False)"
      ],
      "execution_count": 17,
      "outputs": [
        {
          "output_type": "execute_result",
          "data": {
            "text/plain": [
              "CUM_SUM(SKEW(Results.TotalStrike))           7685\n",
              "CUM_MEAN(TREND(Results.DrawNo, DrawDate))    7685\n",
              "TREND(Results.CUM_SUM(DrawNo), DrawDate)     7685\n",
              "TREND(Results.CUM_SUM(LuckyNo), DrawDate)    7685\n",
              "CUM_SUM(SKEW(Results.LuckyNo))               7685\n",
              "                                             ... \n",
              "CUM_SUM(MIN(Results.DrawNo))                    0\n",
              "NUM_UNIQUE(Results.DAY(DrawDate))               0\n",
              "NUM_UNIQUE(Results.MONTH(DrawDate))             0\n",
              "SUM(Results.PERCENTILE(LuckyNo))                0\n",
              "NumberId                                        0\n",
              "Length: 217, dtype: int64"
            ]
          },
          "metadata": {
            "tags": []
          },
          "execution_count": 17
        }
      ]
    },
    {
      "cell_type": "code",
      "metadata": {
        "colab_type": "code",
        "id": "ifvYMCzTGY6X",
        "colab": {
          "base_uri": "https://localhost:8080/",
          "height": 1000
        },
        "outputId": "3557c24a-2531-4cbf-a95f-45e6f98bb00a"
      },
      "source": [
        "# data.info(max_cols=500, null_counts=True)\n",
        "# data.columns.tolist()"
      ],
      "execution_count": 41,
      "outputs": [
        {
          "output_type": "stream",
          "text": [
            "<class 'pandas.core.frame.DataFrame'>\n",
            "RangeIndex: 1029893 entries, 0 to 1029892\n",
            "Data columns (total 217 columns):\n",
            " #   Column                                                  Non-Null Count    Dtype         \n",
            "---  ------                                                  --------------    -----         \n",
            " 0   NumberId                                                1029893 non-null  int64         \n",
            " 1   time                                                    1029893 non-null  datetime64[ns]\n",
            " 2   STD(Results.DrawNo)                                     1028948 non-null  float64       \n",
            " 3   STD(Results.TotalStrike)                                1028948 non-null  float64       \n",
            " 4   STD(Results.LuckyNo)                                    1028948 non-null  float64       \n",
            " 5   MAX(Results.DrawNo)                                     1029893 non-null  int64         \n",
            " 6   MAX(Results.TotalStrike)                                1029893 non-null  int64         \n",
            " 7   MAX(Results.LuckyNo)                                    1029893 non-null  int64         \n",
            " 8   MIN(Results.DrawNo)                                     1029893 non-null  int64         \n",
            " 9   MIN(Results.TotalStrike)                                1029893 non-null  int64         \n",
            " 10  MIN(Results.LuckyNo)                                    1029893 non-null  int64         \n",
            " 11  MEAN(Results.DrawNo)                                    1029893 non-null  float64       \n",
            " 12  MEAN(Results.TotalStrike)                               1029893 non-null  int64         \n",
            " 13  MEAN(Results.LuckyNo)                                   1029893 non-null  int64         \n",
            " 14  SKEW(Results.DrawNo)                                    1022208 non-null  float64       \n",
            " 15  SKEW(Results.TotalStrike)                               1022208 non-null  float64       \n",
            " 16  SKEW(Results.LuckyNo)                                   1022208 non-null  float64       \n",
            " 17  LAST(Results.results_index)                             1029893 non-null  int64         \n",
            " 18  LAST(Results.DrawNo)                                    1029893 non-null  int64         \n",
            " 19  LAST(Results.TotalStrike)                               1029893 non-null  int64         \n",
            " 20  LAST(Results.LuckyNo)                                   1029893 non-null  int64         \n",
            " 21  AVG_TIME_BETWEEN(Results.DrawDate)                      1028948 non-null  float64       \n",
            " 22  COUNT(Results)                                          1029893 non-null  int64         \n",
            " 23  SUM(Results.DrawNo)                                     1029893 non-null  int64         \n",
            " 24  SUM(Results.TotalStrike)                                1029893 non-null  int64         \n",
            " 25  SUM(Results.LuckyNo)                                    1029893 non-null  int64         \n",
            " 26  TREND(Results.TotalStrike, DrawDate)                    1022208 non-null  float64       \n",
            " 27  TREND(Results.LuckyNo, DrawDate)                        1022208 non-null  float64       \n",
            " 28  TREND(Results.DrawNo, DrawDate)                         1022208 non-null  float64       \n",
            " 29  NUM_UNIQUE(Results.PrizeType)                           1029893 non-null  int64         \n",
            " 30  MONTH(first_Results_time)                               1029893 non-null  int64         \n",
            " 31  DAY(first_Results_time)                                 1029893 non-null  int64         \n",
            " 32  TIME_SINCE(first_Results_time)                          1029893 non-null  float64       \n",
            " 33  TIME_SINCE_PREVIOUS(first_Results_time)                 1029790 non-null  float64       \n",
            " 34  STD(Results.TIME_SINCE(DrawDate))                       1028948 non-null  float64       \n",
            " 35  STD(Results.CUM_MEAN(DrawNo))                           1028948 non-null  float64       \n",
            " 36  STD(Results.CUM_SUM(LuckyNo))                           1028948 non-null  float64       \n",
            " 37  STD(Results.PERCENTILE(DrawNo))                         1028948 non-null  float64       \n",
            " 38  STD(Results.TIME_SINCE_PREVIOUS(DrawDate))              1028948 non-null  float64       \n",
            " 39  STD(Results.CUM_SUM(TotalStrike))                       1028948 non-null  float64       \n",
            " 40  STD(Results.PERCENTILE(TotalStrike))                    1028948 non-null  float64       \n",
            " 41  STD(Results.CUM_SUM(DrawNo))                            1028948 non-null  float64       \n",
            " 42  STD(Results.CUM_MEAN(LuckyNo))                          1028948 non-null  float64       \n",
            " 43  STD(Results.CUM_MEAN(TotalStrike))                      1028948 non-null  float64       \n",
            " 44  STD(Results.PERCENTILE(LuckyNo))                        1028948 non-null  float64       \n",
            " 45  MAX(Results.TIME_SINCE(DrawDate))                       1029893 non-null  float64       \n",
            " 46  MAX(Results.CUM_MEAN(DrawNo))                           1029893 non-null  float64       \n",
            " 47  MAX(Results.CUM_SUM(LuckyNo))                           1029893 non-null  int64         \n",
            " 48  MAX(Results.PERCENTILE(DrawNo))                         1029893 non-null  float64       \n",
            " 49  MAX(Results.TIME_SINCE_PREVIOUS(DrawDate))              1029893 non-null  float64       \n",
            " 50  MAX(Results.CUM_SUM(TotalStrike))                       1029893 non-null  int64         \n",
            " 51  MAX(Results.PERCENTILE(TotalStrike))                    1029893 non-null  float64       \n",
            " 52  MAX(Results.CUM_SUM(DrawNo))                            1029893 non-null  int64         \n",
            " 53  MAX(Results.CUM_MEAN(LuckyNo))                          1029893 non-null  float64       \n",
            " 54  MAX(Results.CUM_MEAN(TotalStrike))                      1029893 non-null  float64       \n",
            " 55  MAX(Results.PERCENTILE(LuckyNo))                        1029893 non-null  float64       \n",
            " 56  MIN(Results.TIME_SINCE(DrawDate))                       1029893 non-null  float64       \n",
            " 57  MIN(Results.CUM_MEAN(DrawNo))                           1029893 non-null  float64       \n",
            " 58  MIN(Results.CUM_SUM(LuckyNo))                           1029893 non-null  int64         \n",
            " 59  MIN(Results.PERCENTILE(DrawNo))                         1029893 non-null  float64       \n",
            " 60  MIN(Results.TIME_SINCE_PREVIOUS(DrawDate))              1029893 non-null  float64       \n",
            " 61  MIN(Results.CUM_SUM(TotalStrike))                       1029893 non-null  int64         \n",
            " 62  MIN(Results.PERCENTILE(TotalStrike))                    1029893 non-null  float64       \n",
            " 63  MIN(Results.CUM_SUM(DrawNo))                            1029893 non-null  int64         \n",
            " 64  MIN(Results.CUM_MEAN(LuckyNo))                          1029893 non-null  float64       \n",
            " 65  MIN(Results.CUM_MEAN(TotalStrike))                      1029893 non-null  float64       \n",
            " 66  MIN(Results.PERCENTILE(LuckyNo))                        1029893 non-null  float64       \n",
            " 67  MODE(Results.MONTH(DrawDate))                           1029893 non-null  int64         \n",
            " 68  MODE(Results.DAY(DrawDate))                             1029893 non-null  int64         \n",
            " 69  MEAN(Results.TIME_SINCE(DrawDate))                      1029893 non-null  float64       \n",
            " 70  MEAN(Results.CUM_MEAN(DrawNo))                          1029893 non-null  float64       \n",
            " 71  MEAN(Results.CUM_SUM(LuckyNo))                          1029893 non-null  float64       \n",
            " 72  MEAN(Results.PERCENTILE(DrawNo))                        1029893 non-null  float64       \n",
            " 73  MEAN(Results.TIME_SINCE_PREVIOUS(DrawDate))             1029893 non-null  float64       \n",
            " 74  MEAN(Results.CUM_SUM(TotalStrike))                      1029893 non-null  float64       \n",
            " 75  MEAN(Results.PERCENTILE(TotalStrike))                   1029893 non-null  float64       \n",
            " 76  MEAN(Results.CUM_SUM(DrawNo))                           1029893 non-null  float64       \n",
            " 77  MEAN(Results.CUM_MEAN(LuckyNo))                         1029893 non-null  float64       \n",
            " 78  MEAN(Results.CUM_MEAN(TotalStrike))                     1029893 non-null  float64       \n",
            " 79  MEAN(Results.PERCENTILE(LuckyNo))                       1029893 non-null  float64       \n",
            " 80  SKEW(Results.TIME_SINCE(DrawDate))                      1022208 non-null  float64       \n",
            " 81  SKEW(Results.CUM_MEAN(DrawNo))                          1022208 non-null  float64       \n",
            " 82  SKEW(Results.CUM_SUM(LuckyNo))                          1022208 non-null  float64       \n",
            " 83  SKEW(Results.PERCENTILE(DrawNo))                        1022208 non-null  float64       \n",
            " 84  SKEW(Results.TIME_SINCE_PREVIOUS(DrawDate))             1022208 non-null  float64       \n",
            " 85  SKEW(Results.CUM_SUM(TotalStrike))                      1022208 non-null  float64       \n",
            " 86  SKEW(Results.PERCENTILE(TotalStrike))                   1022208 non-null  float64       \n",
            " 87  SKEW(Results.CUM_SUM(DrawNo))                           1022208 non-null  float64       \n",
            " 88  SKEW(Results.CUM_MEAN(LuckyNo))                         1022208 non-null  float64       \n",
            " 89  SKEW(Results.CUM_MEAN(TotalStrike))                     1022208 non-null  float64       \n",
            " 90  SKEW(Results.PERCENTILE(LuckyNo))                       1022208 non-null  float64       \n",
            " 91  LAST(Results.TIME_SINCE(DrawDate))                      1029893 non-null  float64       \n",
            " 92  LAST(Results.CUM_MEAN(DrawNo))                          1029893 non-null  float64       \n",
            " 93  LAST(Results.CUM_SUM(LuckyNo))                          1029893 non-null  int64         \n",
            " 94  LAST(Results.PERCENTILE(DrawNo))                        1029893 non-null  float64       \n",
            " 95  LAST(Results.DAY(DrawDate))                             1029893 non-null  int64         \n",
            " 96  LAST(Results.TIME_SINCE_PREVIOUS(DrawDate))             1029893 non-null  float64       \n",
            " 97  LAST(Results.CUM_SUM(TotalStrike))                      1029893 non-null  int64         \n",
            " 98  LAST(Results.MONTH(DrawDate))                           1029893 non-null  int64         \n",
            " 99  LAST(Results.CUM_SUM(DrawNo))                           1029893 non-null  int64         \n",
            " 100 LAST(Results.CUM_MEAN(LuckyNo))                         1029893 non-null  float64       \n",
            " 101 LAST(Results.PERCENTILE(TotalStrike))                   1029893 non-null  float64       \n",
            " 102 LAST(Results.CUM_MEAN(TotalStrike))                     1029893 non-null  float64       \n",
            " 103 LAST(Results.PERCENTILE(LuckyNo))                       1029893 non-null  float64       \n",
            " 104 SUM(Results.TIME_SINCE(DrawDate))                       1029893 non-null  float64       \n",
            " 105 SUM(Results.CUM_MEAN(DrawNo))                           1029893 non-null  float64       \n",
            " 106 SUM(Results.CUM_SUM(LuckyNo))                           1029893 non-null  int64         \n",
            " 107 SUM(Results.PERCENTILE(DrawNo))                         1029893 non-null  float64       \n",
            " 108 SUM(Results.TIME_SINCE_PREVIOUS(DrawDate))              1029893 non-null  float64       \n",
            " 109 SUM(Results.CUM_SUM(TotalStrike))                       1029893 non-null  int64         \n",
            " 110 SUM(Results.PERCENTILE(TotalStrike))                    1029893 non-null  float64       \n",
            " 111 SUM(Results.CUM_SUM(DrawNo))                            1029893 non-null  int64         \n",
            " 112 SUM(Results.CUM_MEAN(LuckyNo))                          1029893 non-null  float64       \n",
            " 113 SUM(Results.CUM_MEAN(TotalStrike))                      1029893 non-null  float64       \n",
            " 114 SUM(Results.PERCENTILE(LuckyNo))                        1029893 non-null  float64       \n",
            " 115 TREND(Results.CUM_MEAN(LuckyNo), DrawDate)              1022208 non-null  float64       \n",
            " 116 TREND(Results.PERCENTILE(LuckyNo), DrawDate)            1022208 non-null  float64       \n",
            " 117 TREND(Results.PERCENTILE(DrawNo), DrawDate)             1022208 non-null  float64       \n",
            " 118 TREND(Results.CUM_MEAN(DrawNo), DrawDate)               1022208 non-null  float64       \n",
            " 119 TREND(Results.TIME_SINCE(DrawDate), DrawDate)           1022208 non-null  float64       \n",
            " 120 TREND(Results.CUM_SUM(TotalStrike), DrawDate)           1022208 non-null  float64       \n",
            " 121 TREND(Results.PERCENTILE(TotalStrike), DrawDate)        1022208 non-null  float64       \n",
            " 122 TREND(Results.TIME_SINCE_PREVIOUS(DrawDate), DrawDate)  1022208 non-null  float64       \n",
            " 123 TREND(Results.CUM_MEAN(TotalStrike), DrawDate)          1022208 non-null  float64       \n",
            " 124 TREND(Results.CUM_SUM(DrawNo), DrawDate)                1022208 non-null  float64       \n",
            " 125 TREND(Results.CUM_SUM(LuckyNo), DrawDate)               1022208 non-null  float64       \n",
            " 126 NUM_UNIQUE(Results.MONTH(DrawDate))                     1029893 non-null  int64         \n",
            " 127 NUM_UNIQUE(Results.DAY(DrawDate))                       1029893 non-null  int64         \n",
            " 128 CUM_SUM(SKEW(Results.LuckyNo))                          1022208 non-null  float64       \n",
            " 129 CUM_SUM(MIN(Results.DrawNo))                            1029893 non-null  int64         \n",
            " 130 CUM_SUM(MEAN(Results.DrawNo))                           1029893 non-null  float64       \n",
            " 131 CUM_SUM(STD(Results.LuckyNo))                           1028948 non-null  float64       \n",
            " 132 CUM_SUM(LAST(Results.DrawNo))                           1029893 non-null  int64         \n",
            " 133 CUM_SUM(MAX(Results.TotalStrike))                       1029893 non-null  int64         \n",
            " 134 CUM_SUM(TREND(Results.TotalStrike, DrawDate))           1022208 non-null  float64       \n",
            " 135 CUM_SUM(MEAN(Results.TotalStrike))                      1029893 non-null  int64         \n",
            " 136 CUM_SUM(MIN(Results.TotalStrike))                       1029893 non-null  int64         \n",
            " 137 CUM_SUM(AVG_TIME_BETWEEN(Results.DrawDate))             1028948 non-null  float64       \n",
            " 138 CUM_SUM(MEAN(Results.LuckyNo))                          1029893 non-null  int64         \n",
            " 139 CUM_SUM(MAX(Results.DrawNo))                            1029893 non-null  int64         \n",
            " 140 CUM_SUM(COUNT(Results))                                 1029893 non-null  int64         \n",
            " 141 CUM_SUM(MIN(Results.LuckyNo))                           1029893 non-null  int64         \n",
            " 142 CUM_SUM(SUM(Results.LuckyNo))                           1029893 non-null  int64         \n",
            " 143 CUM_SUM(NUM_UNIQUE(Results.PrizeType))                  1029893 non-null  int64         \n",
            " 144 CUM_SUM(LAST(Results.TotalStrike))                      1029893 non-null  int64         \n",
            " 145 CUM_SUM(STD(Results.DrawNo))                            1028948 non-null  float64       \n",
            " 146 CUM_SUM(SKEW(Results.DrawNo))                           1022208 non-null  float64       \n",
            " 147 CUM_SUM(TREND(Results.LuckyNo, DrawDate))               1022208 non-null  float64       \n",
            " 148 CUM_SUM(SUM(Results.TotalStrike))                       1029893 non-null  int64         \n",
            " 149 CUM_SUM(STD(Results.TotalStrike))                       1028948 non-null  float64       \n",
            " 150 CUM_SUM(SKEW(Results.TotalStrike))                      1022208 non-null  float64       \n",
            " 151 CUM_SUM(SUM(Results.DrawNo))                            1029893 non-null  int64         \n",
            " 152 CUM_SUM(TREND(Results.DrawNo, DrawDate))                1022208 non-null  float64       \n",
            " 153 CUM_SUM(LAST(Results.LuckyNo))                          1029893 non-null  int64         \n",
            " 154 CUM_SUM(MAX(Results.LuckyNo))                           1029893 non-null  int64         \n",
            " 155 CUM_MEAN(SKEW(Results.LuckyNo))                         1022208 non-null  float64       \n",
            " 156 CUM_MEAN(MIN(Results.DrawNo))                           1029893 non-null  float64       \n",
            " 157 CUM_MEAN(MEAN(Results.DrawNo))                          1029893 non-null  float64       \n",
            " 158 CUM_MEAN(STD(Results.LuckyNo))                          1028948 non-null  float64       \n",
            " 159 CUM_MEAN(LAST(Results.DrawNo))                          1029893 non-null  float64       \n",
            " 160 CUM_MEAN(MAX(Results.TotalStrike))                      1029893 non-null  float64       \n",
            " 161 CUM_MEAN(TREND(Results.TotalStrike, DrawDate))          1022208 non-null  float64       \n",
            " 162 CUM_MEAN(MEAN(Results.TotalStrike))                     1029893 non-null  float64       \n",
            " 163 CUM_MEAN(MIN(Results.TotalStrike))                      1029893 non-null  float64       \n",
            " 164 CUM_MEAN(AVG_TIME_BETWEEN(Results.DrawDate))            1028948 non-null  float64       \n",
            " 165 CUM_MEAN(MEAN(Results.LuckyNo))                         1029893 non-null  float64       \n",
            " 166 CUM_MEAN(MAX(Results.DrawNo))                           1029893 non-null  float64       \n",
            " 167 CUM_MEAN(COUNT(Results))                                1029893 non-null  float64       \n",
            " 168 CUM_MEAN(MIN(Results.LuckyNo))                          1029893 non-null  float64       \n",
            " 169 CUM_MEAN(SUM(Results.LuckyNo))                          1029893 non-null  float64       \n",
            " 170 CUM_MEAN(NUM_UNIQUE(Results.PrizeType))                 1029893 non-null  float64       \n",
            " 171 CUM_MEAN(LAST(Results.TotalStrike))                     1029893 non-null  float64       \n",
            " 172 CUM_MEAN(STD(Results.DrawNo))                           1028948 non-null  float64       \n",
            " 173 CUM_MEAN(SKEW(Results.DrawNo))                          1022208 non-null  float64       \n",
            " 174 CUM_MEAN(TREND(Results.LuckyNo, DrawDate))              1022208 non-null  float64       \n",
            " 175 CUM_MEAN(SUM(Results.TotalStrike))                      1029893 non-null  float64       \n",
            " 176 CUM_MEAN(STD(Results.TotalStrike))                      1028948 non-null  float64       \n",
            " 177 CUM_MEAN(SKEW(Results.TotalStrike))                     1022208 non-null  float64       \n",
            " 178 CUM_MEAN(SUM(Results.DrawNo))                           1029893 non-null  float64       \n",
            " 179 CUM_MEAN(TREND(Results.DrawNo, DrawDate))               1022208 non-null  float64       \n",
            " 180 CUM_MEAN(LAST(Results.LuckyNo))                         1029893 non-null  float64       \n",
            " 181 CUM_MEAN(MAX(Results.LuckyNo))                          1029893 non-null  float64       \n",
            " 182 MONTH(LAST(Results.DrawDate))                           1029893 non-null  int64         \n",
            " 183 DAY(LAST(Results.DrawDate))                             1029893 non-null  int64         \n",
            " 184 PERCENTILE(SKEW(Results.LuckyNo))                       1022208 non-null  float64       \n",
            " 185 PERCENTILE(MIN(Results.DrawNo))                         1029893 non-null  float64       \n",
            " 186 PERCENTILE(MEAN(Results.DrawNo))                        1029893 non-null  float64       \n",
            " 187 PERCENTILE(STD(Results.LuckyNo))                        1028948 non-null  float64       \n",
            " 188 PERCENTILE(LAST(Results.DrawNo))                        1029893 non-null  float64       \n",
            " 189 PERCENTILE(MAX(Results.TotalStrike))                    1029893 non-null  float64       \n",
            " 190 PERCENTILE(TREND(Results.TotalStrike, DrawDate))        1022208 non-null  float64       \n",
            " 191 PERCENTILE(MEAN(Results.TotalStrike))                   1029893 non-null  float64       \n",
            " 192 PERCENTILE(MIN(Results.TotalStrike))                    1029893 non-null  float64       \n",
            " 193 PERCENTILE(AVG_TIME_BETWEEN(Results.DrawDate))          1028948 non-null  float64       \n",
            " 194 PERCENTILE(MEAN(Results.LuckyNo))                       1029893 non-null  float64       \n",
            " 195 PERCENTILE(MAX(Results.DrawNo))                         1029893 non-null  float64       \n",
            " 196 PERCENTILE(COUNT(Results))                              1029893 non-null  float64       \n",
            " 197 PERCENTILE(MIN(Results.LuckyNo))                        1029893 non-null  float64       \n",
            " 198 PERCENTILE(SUM(Results.LuckyNo))                        1029893 non-null  float64       \n",
            " 199 PERCENTILE(NUM_UNIQUE(Results.PrizeType))               1029893 non-null  float64       \n",
            " 200 PERCENTILE(LAST(Results.TotalStrike))                   1029893 non-null  float64       \n",
            " 201 PERCENTILE(STD(Results.DrawNo))                         1028948 non-null  float64       \n",
            " 202 PERCENTILE(SKEW(Results.DrawNo))                        1022208 non-null  float64       \n",
            " 203 PERCENTILE(TREND(Results.LuckyNo, DrawDate))            1022208 non-null  float64       \n",
            " 204 PERCENTILE(SUM(Results.TotalStrike))                    1029893 non-null  float64       \n",
            " 205 PERCENTILE(STD(Results.TotalStrike))                    1028948 non-null  float64       \n",
            " 206 PERCENTILE(SKEW(Results.TotalStrike))                   1022208 non-null  float64       \n",
            " 207 PERCENTILE(SUM(Results.DrawNo))                         1029893 non-null  float64       \n",
            " 208 PERCENTILE(TREND(Results.DrawNo, DrawDate))             1022208 non-null  float64       \n",
            " 209 PERCENTILE(LAST(Results.LuckyNo))                       1029893 non-null  float64       \n",
            " 210 PERCENTILE(MAX(Results.LuckyNo))                        1029893 non-null  float64       \n",
            " 211 TotalStrike                                             1029893 non-null  float64       \n",
            " 212 Label                                                   1029893 non-null  int64         \n",
            " 213 MODE(Results.PrizeType)_Prize                           1029893 non-null  uint8         \n",
            " 214 LAST(Results.PrizeType)_Prize                           1029893 non-null  uint8         \n",
            " 215 month                                                   1029893 non-null  int64         \n",
            " 216 year                                                    1029893 non-null  int64         \n",
            "dtypes: datetime64[ns](1), float64(155), int64(59), uint8(2)\n",
            "memory usage: 1.7 GB\n"
          ],
          "name": "stdout"
        }
      ]
    },
    {
      "cell_type": "code",
      "metadata": {
        "colab_type": "code",
        "id": "hwDc-KVoGaG1",
        "colab": {}
      },
      "source": [
        "feature_matrix = data\n",
        "\n",
        "### fastai to handle missing values\n",
        "# feature_matrix = data.fillna(0)\n",
        "# feature_matrix.sort_values(by=['time', 'MAX(Results.LuckyNo)'], inplace=True)\n",
        "# feature_matrix.head(20)"
      ],
      "execution_count": 42,
      "outputs": []
    },
    {
      "cell_type": "code",
      "metadata": {
        "colab_type": "code",
        "id": "gg7SIK0XLaDx",
        "colab": {}
      },
      "source": [
        "from sklearn.feature_selection import SelectKBest\n",
        "from sklearn.feature_selection import f_classif, chi2, f_regression\n",
        "from sklearn.model_selection import train_test_split\n",
        "from sklearn.feature_selection import VarianceThreshold\n",
        "\n",
        "# other_features = ['Label', 'NumberId', 'time', 'TotalStrike',  'month', 'year']\n",
        "# feature_matrix = feature_selection(data)\n",
        "\n",
        "def select_features(df, func=f_regression):\n",
        "  X = df.drop(columns=other_features)\n",
        "  y = df.Label\n",
        "  fs = SelectKBest(score_func=func, k=50)\n",
        "  X_selected = fs.fit_transform(X, y)\n",
        "  mask = fs.get_support()\n",
        "  return X.columns[mask]\n",
        "\n",
        "def reduce_features(df, lower_threshold=10, upper_threshold=10000):\n",
        "  cols_to_drop = []\n",
        "  for col in df.columns:\n",
        "    if df[col].nunique() > upper_threshold or df[col].nunique() < lower_threshold:\n",
        "      cols_to_drop.append(col)\n",
        "  print(cols_to_drop)\n",
        "  return cols_to_drop, df.drop(columns=cols_to_drop)\n",
        "\n",
        "def select_by_variance(df, threshold=0):\n",
        "  \"\"\"Select features by variance\"\"\"\n",
        "  filter = VarianceThreshold(threshold=threshold)\n",
        "  filter.fit(df)\n",
        "  cols_to_drop = [column for column in df.columns\n",
        "                  if column not in df.columns[filter.get_support()]]\n",
        "  print(f\"No of columns to drop - {len(cols_to_drop)}\")\n",
        "  print(cols_to_drop)\n",
        "  return cols_to_drop\n",
        "\n",
        "def select_duplicates(df):\n",
        "  df_transposed = df.head(20000).T\n",
        "  print(df_transposed.duplicated().sum())\n",
        "  unique_features = df_transposed.drop_duplicates(keep='first').T\n",
        "  print(unique_features.shape)\n",
        "  duplicated_features = [dup_col for dup_col in df.columns if dup_col not in unique_features.columns]\n",
        "  return duplicated_features\n",
        "\n",
        "def select_correlated(df):\n",
        "  correlated_features = set()\n",
        "  correlation_matrix = df.corr()\n",
        "  for i in range(len(correlation_matrix .columns)):\n",
        "    for j in range(i):\n",
        "        if abs(correlation_matrix.iloc[i, j]) > 0.8:\n",
        "            colname = correlation_matrix.columns[i]\n",
        "            correlated_features.add(colname)\n",
        "  print(len(correlated_features))\n",
        "  print(correlated_features)\n",
        "  return correlated_features\n"
      ],
      "execution_count": 43,
      "outputs": []
    },
    {
      "cell_type": "code",
      "metadata": {
        "colab_type": "code",
        "id": "Trquu1WUfxY5",
        "colab": {
          "base_uri": "https://localhost:8080/",
          "height": 34
        },
        "outputId": "9a3587ce-614b-4e0f-a7d3-2eb6d393dccf"
      },
      "source": [
        "selected_features = feature_matrix.columns.to_list()\n",
        "# display(len(selected_features), selected_features)\n",
        "print(len(selected_features))"
      ],
      "execution_count": 44,
      "outputs": [
        {
          "output_type": "stream",
          "text": [
            "217\n"
          ],
          "name": "stdout"
        }
      ]
    },
    {
      "cell_type": "code",
      "metadata": {
        "colab_type": "code",
        "id": "C387QlBkPyE5",
        "colab": {}
      },
      "source": [
        "df_selected_features = feature_matrix[selected_features]"
      ],
      "execution_count": 48,
      "outputs": []
    },
    {
      "cell_type": "code",
      "metadata": {
        "colab_type": "code",
        "id": "idW_WF_Bcddg",
        "colab": {}
      },
      "source": [
        "# def split_data(df, dt):\n",
        "#   y_train = df.loc[df['time'] < dt, 'Label']\n",
        "#   y_validation = df.loc[df['time'] == dt, 'Label']\n",
        "# \n",
        "#   X_train = df[df['time'] < dt].drop(columns = ['NumberId', 'time', 'Label', 'TotalStrike', 'year', 'month'])\n",
        "#   X_validation = df[df['time'] == dt].drop(columns = ['NumberId', 'time', 'Label', 'TotalStrike', 'year', 'month'])\n",
        "# \n",
        "#   # Reduce by standard deviation\n",
        "#   # X_train = X_train.loc[:, X_train.std() > .0]\n",
        "#   # X_validation = X_validation[X_train.columns]\n",
        "# \n",
        "#   return X_train, X_validation, y_train, y_validation"
      ],
      "execution_count": 23,
      "outputs": []
    },
    {
      "cell_type": "code",
      "metadata": {
        "colab_type": "code",
        "id": "3zKM2ACMPAtG",
        "colab": {
          "base_uri": "https://localhost:8080/",
          "height": 34
        },
        "outputId": "b41b1539-9ae7-4e52-c020-59d28a8d4aa4"
      },
      "source": [
        "TARGET_MONTH = datetime(2020,1,1)\n",
        "\n",
        "# X_train, X_validation, y_train, y_validation = split_data(df_selected_features, TARGET_MONTH)\n",
        "# X_train.shape, X_validation.shape, y_train.shape, y_validation.shape"
      ],
      "execution_count": 24,
      "outputs": [
        {
          "output_type": "execute_result",
          "data": {
            "text/plain": [
              "((959893, 211), (10000, 211), (959893,), (10000,))"
            ]
          },
          "metadata": {
            "tags": []
          },
          "execution_count": 24
        }
      ]
    },
    {
      "cell_type": "code",
      "metadata": {
        "colab_type": "code",
        "id": "gKqw1dzPQwZm",
        "colab": {}
      },
      "source": [
        "# cols_to_drop = select_by_variance(X_train,0.0)\n",
        "# X_train = X_train.drop(columns=cols_to_drop)\n",
        "# X_validation = X_validation[X_train.columns]\n",
        "# X_train.shape, X_validation.shape\n",
        "# \n",
        "# cols_to_drop = select_by_variance(X_train,0.01)\n",
        "# X_train = X_train.drop(columns=cols_to_drop)\n",
        "# X_validation = X_validation[X_train.columns]\n",
        "# X_train.shape, X_validation.shape\n",
        "# \n",
        "# cols_to_drop = select_duplicates(X_train)\n",
        "# X_train = X_train.drop(columns=cols_to_drop)\n",
        "# X_validation = X_validation[X_train.columns]\n",
        "# X_train.shape, X_validation.shape\n",
        "# \n",
        "# cols_to_drop = select_correlated(X_train)\n",
        "# X_train = X_train.drop(columns=cols_to_drop)\n",
        "# X_validation = X_validation[X_train.columns]\n",
        "# X_train.shape, X_validation.shape"
      ],
      "execution_count": 31,
      "outputs": []
    },
    {
      "cell_type": "code",
      "metadata": {
        "colab_type": "code",
        "id": "Eo0w6jFi8yRA",
        "colab": {}
      },
      "source": [
        "# CAT_FEATURES = []\n",
        "# UNIQUE_THRESHOLD = 500\n",
        "# for col in X_train.select_dtypes(include=['int64']).columns:\n",
        "#   print(f\"{col}: Index - {X_train.columns.get_loc(col)}, Unique values - {X_train[col].nunique()}\")\n",
        "#   if X_train[col].nunique() <= UNIQUE_THRESHOLD:\n",
        "#     CAT_FEATURES.append(X_train.columns.get_loc(col))\n",
        "#   \n",
        "# print(CAT_FEATURES)"
      ],
      "execution_count": 32,
      "outputs": []
    },
    {
      "cell_type": "code",
      "metadata": {
        "id": "RlHYwaMNsLgU",
        "colab_type": "code",
        "colab": {}
      },
      "source": [
        "# Prepare the data\n",
        "# unused_features = ['NumberId', 'time', 'TotalStrike',  'month', 'year']\n",
        "unused_features = ['time', 'TotalStrike']\n",
        "df = df_selected_features.drop(columns=unused_features)\n",
        "\n",
        "# Target label. No need to np.log\n",
        "dep_var = 'Label'\n",
        "\n",
        "# Train test split\n",
        "procs = [Categorify, FillMissing]\n",
        "cond = (df.year < 2020) | (df.month < 1)\n",
        "train_idx = np.where( cond)[0]\n",
        "valid_idx = np.where(~cond)[0]\n",
        "splits = (list(train_idx),list(valid_idx))\n",
        "\n"
      ],
      "execution_count": 49,
      "outputs": []
    },
    {
      "cell_type": "code",
      "metadata": {
        "id": "O4CGlo7hut3V",
        "colab_type": "code",
        "colab": {}
      },
      "source": [
        ""
      ],
      "execution_count": null,
      "outputs": []
    }
  ]
}
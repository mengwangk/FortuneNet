{
 "cells": [
  {
   "cell_type": "markdown",
   "metadata": {
    "colab_type": "text",
    "id": "view-in-github"
   },
   "source": [
    "<a href=\"https://colab.research.google.com/github/mengwangk/dl-projects/blob/master/04_09_auto_ml_1.ipynb\" target=\"_parent\"><img src=\"https://colab.research.google.com/assets/colab-badge.svg\" alt=\"Open In Colab\"/></a>"
   ]
  },
  {
   "cell_type": "markdown",
   "metadata": {
    "colab_type": "text",
    "id": "4hyoPGdjpqa_"
   },
   "source": [
    "# Automated ML - Tuning"
   ]
  },
  {
   "cell_type": "code",
   "execution_count": null,
   "metadata": {
    "colab": {},
    "colab_type": "code",
    "id": "SLxr2k_ue8yq"
   },
   "outputs": [],
   "source": [
    "COLAB = True\n",
    "\n",
    "DATASET_NAME = '4D.zip'\n",
    "\n",
    "FEATURE_DATASET_PREFIX = 'feature_matrix_d2_v3'"
   ]
  },
  {
   "cell_type": "code",
   "execution_count": null,
   "metadata": {
    "colab": {},
    "colab_type": "code",
    "id": "wwYshXtLt7b7"
   },
   "outputs": [],
   "source": [
    "# !pip install -U imblearn\n",
    "# !pip install -U xgboost\n",
    "# !pip install -U featuretools\n",
    "\n",
    "# https://towardsdatascience.com/handling-imbalanced-datasets-in-machine-learning-7a0e84220f28\n",
    "# https://machinelearningmastery.com/threshold-moving-for-imbalanced-classification/\n",
    "# https://machinelearningmastery.com/imbalanced-classification-model-to-detect-oil-spills/"
   ]
  },
  {
   "cell_type": "code",
   "execution_count": null,
   "metadata": {
    "colab": {
     "base_uri": "https://localhost:8080/",
     "height": 136
    },
    "colab_type": "code",
    "id": "oy5ww2zRfFGG",
    "outputId": "eac50e03-94ab-4938-a65e-4851a2cb1961"
   },
   "outputs": [
    {
     "name": "stdout",
     "output_type": "stream",
     "text": [
      "Cloning into 'dl-projects'...\n",
      "remote: Enumerating objects: 165, done.\u001b[K\n",
      "remote: Counting objects: 100% (165/165), done.\u001b[K\n",
      "remote: Compressing objects: 100% (150/150), done.\u001b[K\n",
      "remote: Total 1790 (delta 104), reused 35 (delta 15), pack-reused 1625\u001b[K\n",
      "Receiving objects: 100% (1790/1790), 76.72 MiB | 27.40 MiB/s, done.\n",
      "Resolving deltas: 100% (1099/1099), done.\n"
     ]
    }
   ],
   "source": [
    "if COLAB:\n",
    "  !rm -rf dl-projects\n",
    "  !git clone https://github.com/mengwangk/dl-projects"
   ]
  },
  {
   "cell_type": "code",
   "execution_count": null,
   "metadata": {
    "colab": {},
    "colab_type": "code",
    "id": "G2xin10SfozR"
   },
   "outputs": [],
   "source": [
    "if COLAB:\n",
    "  !cp dl-projects/utils* .\n",
    "  !cp dl-projects/preprocess* .\n",
    "  !cp dl-projects/plot* ."
   ]
  },
  {
   "cell_type": "code",
   "execution_count": null,
   "metadata": {
    "colab": {},
    "colab_type": "code",
    "id": "fC2-l3JBpqbE"
   },
   "outputs": [],
   "source": [
    "%load_ext autoreload\n",
    "# %reload_ext autoreload\n",
    "%autoreload 2\n",
    "\n",
    "%matplotlib inline"
   ]
  },
  {
   "cell_type": "code",
   "execution_count": null,
   "metadata": {
    "colab": {},
    "colab_type": "code",
    "id": "TP7V_IzepqbK"
   },
   "outputs": [],
   "source": [
    "import numpy as np\n",
    "import pandas as pd\n",
    "import seaborn as sns\n",
    "import matplotlib.pyplot as plt\n",
    "import math \n",
    "import matplotlib\n",
    "import sys\n",
    "import gc\n",
    "\n",
    "from scipy import stats\n",
    "from collections import Counter\n",
    "from pathlib import Path\n",
    "\n",
    "import warnings\n",
    "warnings.filterwarnings('ignore')\n",
    "\n",
    "import featuretools as ft\n",
    "from sklearn.pipeline import Pipeline, make_pipeline\n",
    "from sklearn.preprocessing import MinMaxScaler, StandardScaler, RobustScaler\n",
    "from sklearn.impute import SimpleImputer\n",
    "from sklearn.metrics import precision_score, recall_score, f1_score, confusion_matrix, roc_auc_score, precision_recall_curve, make_scorer, recall_score, roc_curve, mean_squared_error, accuracy_score, average_precision_score, classification_report\n",
    "from sklearn.model_selection import train_test_split, cross_val_score, GridSearchCV, RandomizedSearchCV, StratifiedShuffleSplit, RepeatedStratifiedKFold\n",
    "from sklearn.linear_model import LogisticRegression\n",
    "from sklearn.svm import SVC\n",
    "from sklearn.neighbors import KNeighborsClassifier\n",
    "from sklearn.tree import DecisionTreeClassifier\n",
    "from sklearn.ensemble import RandomForestClassifier\n",
    "from sklearn.decomposition import PCA\n",
    "from imblearn.ensemble import BalancedRandomForestClassifier\n",
    "from imblearn.under_sampling import (RandomUnderSampler, \n",
    "                                     ClusterCentroids,\n",
    "                                     TomekLinks,\n",
    "                                     NeighbourhoodCleaningRule,\n",
    "                                     AllKNN,\n",
    "                                     NearMiss,\n",
    "                                     OneSidedSelection)\n",
    "from imblearn.combine import SMOTETomek\n",
    "from imblearn.pipeline import make_pipeline as make_pipeline_imb\n",
    "from imblearn.metrics import classification_report_imbalanced \n",
    "from imblearn.over_sampling import SMOTE, SMOTENC, ADASYN\n",
    "import pylab as pl\n",
    "import xgboost as xgb\n",
    "from collections import Counter\n",
    "from dateutil.relativedelta import relativedelta\n",
    "\n",
    "\n",
    "# from skopt import BayesSearchCV\n",
    "# from skopt.space import Real, Categorical, Integer\n",
    "# from scikitplot.plotters import plot_precision_recall_curve\n",
    "\n",
    "from utils import feature_selection, plot_feature_importances\n",
    "from preprocess import *\n",
    "from plot import plot_correlation_matrix, plot_labeled_scatter\n",
    "\n",
    "from IPython.display import display\n",
    "\n",
    "np.set_printoptions(threshold=sys.maxsize)\n",
    "\n",
    "plt.style.use('fivethirtyeight')\n",
    "\n",
    "sns.set(style=\"ticks\")\n",
    "\n",
    "# The Answer to the Ultimate Question of Life, the Universe, and Everything.\n",
    "np.random.seed(42)"
   ]
  },
  {
   "cell_type": "code",
   "execution_count": null,
   "metadata": {
    "colab": {
     "base_uri": "https://localhost:8080/",
     "height": 102
    },
    "colab_type": "code",
    "id": "3bFT5CoxpqbP",
    "outputId": "26ae3513-111a-41cd-d82b-babc9db8911d"
   },
   "outputs": [
    {
     "name": "stdout",
     "output_type": "stream",
     "text": [
      "Modules to reload:\n",
      "all-except-skipped\n",
      "\n",
      "Modules to skip:\n",
      "\n"
     ]
    }
   ],
   "source": [
    "%aimport"
   ]
  },
  {
   "cell_type": "markdown",
   "metadata": {
    "colab_type": "text",
    "id": "3E16jPVPpqbV"
   },
   "source": [
    "## Preparation"
   ]
  },
  {
   "cell_type": "code",
   "execution_count": null,
   "metadata": {
    "colab": {
     "base_uri": "https://localhost:8080/",
     "height": 122
    },
    "colab_type": "code",
    "id": "U421BuhtfYS7",
    "outputId": "892d3401-7bf4-47ae-885a-5e5e00d0b084"
   },
   "outputs": [
    {
     "name": "stdout",
     "output_type": "stream",
     "text": [
      "Go to this URL in a browser: https://accounts.google.com/o/oauth2/auth?client_id=947318989803-6bn6qk8qdgf4n4g3pfee6491hc0brc4i.apps.googleusercontent.com&redirect_uri=urn%3aietf%3awg%3aoauth%3a2.0%3aoob&response_type=code&scope=email%20https%3a%2f%2fwww.googleapis.com%2fauth%2fdocs.test%20https%3a%2f%2fwww.googleapis.com%2fauth%2fdrive%20https%3a%2f%2fwww.googleapis.com%2fauth%2fdrive.photos.readonly%20https%3a%2f%2fwww.googleapis.com%2fauth%2fpeopleapi.readonly\n",
      "\n",
      "Enter your authorization code:\n",
      "··········\n",
      "Mounted at /content/gdrive\n"
     ]
    }
   ],
   "source": [
    "if COLAB:\n",
    "  from google.colab import drive\n",
    "  drive.mount('/content/gdrive')\n",
    "  GDRIVE_DATASET_FOLDER = Path('gdrive/My Drive/datasets/')"
   ]
  },
  {
   "cell_type": "code",
   "execution_count": null,
   "metadata": {
    "colab": {
     "base_uri": "https://localhost:8080/",
     "height": 289
    },
    "colab_type": "code",
    "id": "9IgnETKkpqbX",
    "outputId": "a5241c00-ca79-4b04-a83e-f18fa29f044a"
   },
   "outputs": [
    {
     "name": "stdout",
     "output_type": "stream",
     "text": [
      "total 6189M\n",
      "-rw------- 1 root root 2454M Jan 12 01:24 feature_matrix_d2_v2.ft\n",
      "-rw------- 1 root root 1585M Jan 12 23:39 feature_matrix_d2_v3.ft\n",
      "-rw------- 1 root root   17M Feb 21 13:07 feature_matrix_snapshot.ft\n",
      "-rw------- 1 root root   17M Feb 21 13:07 feature_matrix_snapshot_origin.pkl\n",
      "-rw------- 1 root root    5M Jan 30 04:33 orig_X_test.ft\n",
      "-rw------- 1 root root  415M Jan 30 04:33 orig_X_train.ft\n",
      "-rw------- 1 root root    1M Jan 30 04:33 orig_y_test.ft\n",
      "-rw------- 1 root root    7M Jan 30 04:33 orig_y_train.ft\n",
      "-rw------- 1 root root   19M Feb 16 14:07 test_X_test.ft\n",
      "-rw------- 1 root root 1667M Feb 16 14:08 test_X_train.ft\n",
      "-rw------- 1 root root    1M Feb 16 14:07 test_y_test.ft\n",
      "-rw------- 1 root root    7M Feb 16 14:07 test_y_train.ft\n",
      "total 25M\n",
      "-rw-r--r-- 1 root root  1M Feb 22 07:34 4D.zip\n",
      "-rw-r--r-- 1 root root 25M Feb 22 07:34 labels.csv\n"
     ]
    }
   ],
   "source": [
    "if COLAB:\n",
    "  DATASET_PATH = GDRIVE_DATASET_FOLDER\n",
    "  ORIGIN_DATASET_PATH = Path('dl-projects/datasets')\n",
    "else:\n",
    "  DATASET_PATH = Path(\"../datasets\")\n",
    "  ORIGIN_DATASET_PATH = Path('datasets')\n",
    "\n",
    "DATASET = DATASET_PATH/f\"{FEATURE_DATASET_PREFIX}.ft\"\n",
    "ORIGIN_DATASET = ORIGIN_DATASET_PATH/DATASET_NAME\n",
    "\n",
    "if COLAB:\n",
    "  !ls -l gdrive/\"My Drive\"/datasets/ --block-size=M\n",
    "  !ls -l dl-projects/datasets --block-size=M"
   ]
  },
  {
   "cell_type": "code",
   "execution_count": null,
   "metadata": {
    "colab": {},
    "colab_type": "code",
    "id": "urQTD6DQNutw"
   },
   "outputs": [],
   "source": [
    "# Read the data\n",
    "data = pd.read_feather(DATASET)\n",
    "origin_data = format_tabular(ORIGIN_DATASET)"
   ]
  },
  {
   "cell_type": "markdown",
   "metadata": {
    "colab_type": "text",
    "id": "vOYlp-8Br61r"
   },
   "source": [
    "## Exploratory Data Analysis"
   ]
  },
  {
   "cell_type": "markdown",
   "metadata": {
    "colab_type": "text",
    "id": "kHiN1VVlG9Kh"
   },
   "source": [
    "### View data"
   ]
  },
  {
   "cell_type": "code",
   "execution_count": null,
   "metadata": {
    "colab": {},
    "colab_type": "code",
    "id": "JnQXyVqng5Cm"
   },
   "outputs": [],
   "source": [
    "# Feature matrix\n",
    "feature_matrix = data.drop(columns=['NumberId', 'month', 'year'])"
   ]
  },
  {
   "cell_type": "code",
   "execution_count": null,
   "metadata": {
    "colab": {
     "base_uri": "https://localhost:8080/",
     "height": 102
    },
    "colab_type": "code",
    "id": "apMYVNz9HK9e",
    "outputId": "bec2a837-7adf-4eba-f5ff-df3b77be6b4e"
   },
   "outputs": [
    {
     "name": "stdout",
     "output_type": "stream",
     "text": [
      "<class 'pandas.core.frame.DataFrame'>\n",
      "Int64Index: 959893 entries, 7020 to 956511\n",
      "Columns: 214 entries, time to LAST(Results.PrizeType)_Prize\n",
      "dtypes: datetime64[ns](1), float64(155), int64(56), uint8(2)\n",
      "memory usage: 1.5 GB\n"
     ]
    }
   ],
   "source": [
    "# Sort data\n",
    "feature_matrix.sort_values(by=['time', 'MAX(Results.LuckyNo)'], inplace=True)\n",
    "feature_matrix.info()"
   ]
  },
  {
   "cell_type": "code",
   "execution_count": null,
   "metadata": {
    "colab": {
     "base_uri": "https://localhost:8080/",
     "height": 136
    },
    "colab_type": "code",
    "id": "CZKTbWRFJNUq",
    "outputId": "123a69aa-9e96-4143-9d97-227c668608ce"
   },
   "outputs": [
    {
     "name": "stdout",
     "output_type": "stream",
     "text": [
      "Distribution\n",
      "0    927839\n",
      "1     32054\n",
      "Name: Label, dtype: int64\n",
      "\n",
      "Positive: 927839 which is  96.66 % of the dataset\n",
      "Negative: 32054 which is  3.34 % of the dataset\n"
     ]
    }
   ],
   "source": [
    "print('Distribution')\n",
    "print(feature_matrix['Label'].value_counts())\n",
    "print()\n",
    "print('Positive: ' + str(feature_matrix['Label'].value_counts()[0]) + ' which is ', round(feature_matrix['Label'].value_counts()[0]/len(feature_matrix) * 100,2), '% of the dataset')\n",
    "print('Negative: ' + str(feature_matrix['Label'].value_counts()[1]) + ' which is ', round(feature_matrix['Label'].value_counts()[1]/len(feature_matrix) * 100,2), '% of the dataset')"
   ]
  },
  {
   "cell_type": "code",
   "execution_count": null,
   "metadata": {
    "colab": {
     "base_uri": "https://localhost:8080/",
     "height": 221
    },
    "colab_type": "code",
    "id": "plplpAQ6JrKb",
    "outputId": "c43d12a1-720f-4a54-e06a-8cc41c0b392a"
   },
   "outputs": [
    {
     "data": {
      "text/plain": [
       "SKEW(Results.TIME_SINCE_PREVIOUS(DrawDate))               7636\n",
       "CUM_MEAN(TREND(Results.LuckyNo, DrawDate))                7636\n",
       "TREND(Results.TIME_SINCE_PREVIOUS(DrawDate), DrawDate)    7636\n",
       "TREND(Results.CUM_MEAN(TotalStrike), DrawDate)            7636\n",
       "TREND(Results.CUM_SUM(LuckyNo), DrawDate)                 7636\n",
       "                                                          ... \n",
       "CUM_SUM(MIN(Results.DrawNo))                                 0\n",
       "NUM_UNIQUE(Results.DAY(DrawDate))                            0\n",
       "NUM_UNIQUE(Results.MONTH(DrawDate))                          0\n",
       "SUM(Results.PERCENTILE(LuckyNo))                             0\n",
       "time                                                         0\n",
       "Length: 214, dtype: int64"
      ]
     },
     "execution_count": 14,
     "metadata": {
      "tags": []
     },
     "output_type": "execute_result"
    }
   ],
   "source": [
    "feature_matrix.isna().sum().sort_values(ascending=False)"
   ]
  },
  {
   "cell_type": "markdown",
   "metadata": {
    "colab_type": "text",
    "id": "zF_zCRksL1Ls"
   },
   "source": [
    "### Feature Selection"
   ]
  },
  {
   "cell_type": "code",
   "execution_count": null,
   "metadata": {
    "colab": {},
    "colab_type": "code",
    "id": "S1aLGsXSOa9K"
   },
   "outputs": [],
   "source": [
    "# Fill all NaN with 0\n",
    "feature_matrix = feature_matrix.fillna(0)"
   ]
  },
  {
   "cell_type": "code",
   "execution_count": null,
   "metadata": {
    "colab": {
     "base_uri": "https://localhost:8080/",
     "height": 34
    },
    "colab_type": "code",
    "id": "5A8LZ805MqjP",
    "outputId": "75cbcba4-530f-464f-9dae-cf449f95b091"
   },
   "outputs": [
    {
     "data": {
      "text/plain": [
       "(959893, 214)"
      ]
     },
     "execution_count": 16,
     "metadata": {
      "tags": []
     },
     "output_type": "execute_result"
    }
   ],
   "source": [
    "feature_matrix.shape"
   ]
  },
  {
   "cell_type": "code",
   "execution_count": null,
   "metadata": {
    "colab": {
     "base_uri": "https://localhost:8080/",
     "height": 119
    },
    "colab_type": "code",
    "id": "rPFOkiGjhuKj",
    "outputId": "2cb67e0b-be83-407b-c11b-f5555a14cd1f"
   },
   "outputs": [
    {
     "name": "stdout",
     "output_type": "stream",
     "text": [
      "Original shape:  (959893, 211)\n",
      "0 missing columns with threshold: 90.\n",
      "41 zero variance columns.\n",
      "109 collinear columns removed with threshold: 0.95.\n",
      "Total columns removed:  150\n",
      "Shape after feature selection: (959893, 61).\n"
     ]
    }
   ],
   "source": [
    "feature_matrix_selection = feature_selection(feature_matrix.drop(columns = ['time', 'TotalStrike', 'Label']))\n",
    "# feature_matrix_selection = feature_matrix.drop(columns = ['time', 'TotalStrike', 'Label'])"
   ]
  },
  {
   "cell_type": "code",
   "execution_count": null,
   "metadata": {
    "colab": {
     "base_uri": "https://localhost:8080/",
     "height": 782
    },
    "colab_type": "code",
    "id": "vT2K0WeJhugH",
    "outputId": "b749396e-97be-41b7-d726-dec9840f33e0"
   },
   "outputs": [
    {
     "data": {
      "text/plain": [
       "((959893, 61),\n",
       " Index(['STD(Results.DrawNo)', 'MAX(Results.DrawNo)', 'MAX(Results.LuckyNo)',\n",
       "        'MIN(Results.DrawNo)', 'MEAN(Results.DrawNo)', 'SKEW(Results.DrawNo)',\n",
       "        'AVG_TIME_BETWEEN(Results.DrawDate)', 'COUNT(Results)',\n",
       "        'SUM(Results.DrawNo)', 'SUM(Results.LuckyNo)',\n",
       "        'TREND(Results.DrawNo, DrawDate)', 'MONTH(first_Results_time)',\n",
       "        'DAY(first_Results_time)', 'TIME_SINCE(first_Results_time)',\n",
       "        'TIME_SINCE_PREVIOUS(first_Results_time)',\n",
       "        'STD(Results.PERCENTILE(DrawNo))',\n",
       "        'STD(Results.TIME_SINCE_PREVIOUS(DrawDate))',\n",
       "        'STD(Results.CUM_SUM(DrawNo))', 'STD(Results.CUM_MEAN(LuckyNo))',\n",
       "        'MAX(Results.PERCENTILE(DrawNo))',\n",
       "        'MAX(Results.PERCENTILE(TotalStrike))',\n",
       "        'MAX(Results.CUM_MEAN(LuckyNo))',\n",
       "        'MIN(Results.TIME_SINCE_PREVIOUS(DrawDate))',\n",
       "        'MIN(Results.CUM_MEAN(LuckyNo))', 'MODE(Results.MONTH(DrawDate))',\n",
       "        'MODE(Results.DAY(DrawDate))', 'MEAN(Results.TIME_SINCE(DrawDate))',\n",
       "        'MEAN(Results.PERCENTILE(DrawNo))',\n",
       "        'MEAN(Results.TIME_SINCE_PREVIOUS(DrawDate))',\n",
       "        'MEAN(Results.CUM_MEAN(LuckyNo))',\n",
       "        'SKEW(Results.TIME_SINCE_PREVIOUS(DrawDate))',\n",
       "        'SKEW(Results.CUM_SUM(DrawNo))', 'SKEW(Results.CUM_MEAN(LuckyNo))',\n",
       "        'LAST(Results.DAY(DrawDate))',\n",
       "        'LAST(Results.TIME_SINCE_PREVIOUS(DrawDate))',\n",
       "        'LAST(Results.MONTH(DrawDate))', 'LAST(Results.CUM_MEAN(LuckyNo))',\n",
       "        'SUM(Results.TIME_SINCE(DrawDate))',\n",
       "        'SUM(Results.TIME_SINCE_PREVIOUS(DrawDate))',\n",
       "        'TREND(Results.CUM_MEAN(LuckyNo), DrawDate)',\n",
       "        'TREND(Results.PERCENTILE(LuckyNo), DrawDate)',\n",
       "        'TREND(Results.PERCENTILE(DrawNo), DrawDate)',\n",
       "        'TREND(Results.PERCENTILE(TotalStrike), DrawDate)',\n",
       "        'TREND(Results.TIME_SINCE_PREVIOUS(DrawDate), DrawDate)',\n",
       "        'TREND(Results.CUM_SUM(DrawNo), DrawDate)',\n",
       "        'NUM_UNIQUE(Results.MONTH(DrawDate))',\n",
       "        'NUM_UNIQUE(Results.DAY(DrawDate))', 'CUM_SUM(MIN(Results.DrawNo))',\n",
       "        'CUM_SUM(SKEW(Results.DrawNo))',\n",
       "        'CUM_MEAN(AVG_TIME_BETWEEN(Results.DrawDate))',\n",
       "        'CUM_MEAN(SUM(Results.LuckyNo))', 'CUM_MEAN(SKEW(Results.DrawNo))',\n",
       "        'PERCENTILE(STD(Results.LuckyNo))', 'PERCENTILE(LAST(Results.DrawNo))',\n",
       "        'PERCENTILE(MAX(Results.TotalStrike))',\n",
       "        'PERCENTILE(AVG_TIME_BETWEEN(Results.DrawDate))',\n",
       "        'PERCENTILE(COUNT(Results))', 'PERCENTILE(STD(Results.DrawNo))',\n",
       "        'PERCENTILE(SKEW(Results.DrawNo))', 'PERCENTILE(SUM(Results.DrawNo))',\n",
       "        'PERCENTILE(TREND(Results.DrawNo, DrawDate))'],\n",
       "       dtype='object'))"
      ]
     },
     "execution_count": 18,
     "metadata": {
      "tags": []
     },
     "output_type": "execute_result"
    }
   ],
   "source": [
    "feature_matrix_selection.shape, feature_matrix_selection.columns"
   ]
  },
  {
   "cell_type": "code",
   "execution_count": null,
   "metadata": {
    "colab": {},
    "colab_type": "code",
    "id": "yZUhYrWFiRod"
   },
   "outputs": [],
   "source": [
    "feature_matrix_selection['time'] = feature_matrix['time']\n",
    "feature_matrix_selection['TotalStrike'] = feature_matrix['TotalStrike']\n",
    "feature_matrix_selection['Label'] = feature_matrix['Label']"
   ]
  },
  {
   "cell_type": "markdown",
   "metadata": {
    "colab_type": "text",
    "id": "hugygOqSiR6K"
   },
   "source": [
    "### Feature Correlation"
   ]
  },
  {
   "cell_type": "code",
   "execution_count": null,
   "metadata": {
    "colab": {
     "base_uri": "https://localhost:8080/",
     "height": 221
    },
    "colab_type": "code",
    "id": "loagcqTEKOkO",
    "outputId": "d63ddd54-0cdc-4413-a0da-7781dccd7893"
   },
   "outputs": [
    {
     "data": {
      "text/plain": [
       "LAST(Results.PrizeType)_Prize                  0\n",
       "SKEW(Results.TIME_SINCE(DrawDate))             0\n",
       "MEAN(Results.CUM_MEAN(TotalStrike))            0\n",
       "MEAN(Results.CUM_MEAN(LuckyNo))                0\n",
       "MEAN(Results.CUM_SUM(DrawNo))                  0\n",
       "                                              ..\n",
       "CUM_SUM(COUNT(Results))                        0\n",
       "CUM_SUM(MAX(Results.DrawNo))                   0\n",
       "CUM_SUM(MEAN(Results.LuckyNo))                 0\n",
       "CUM_SUM(AVG_TIME_BETWEEN(Results.DrawDate))    0\n",
       "time                                           0\n",
       "Length: 214, dtype: int64"
      ]
     },
     "execution_count": 20,
     "metadata": {
      "tags": []
     },
     "output_type": "execute_result"
    }
   ],
   "source": [
    "feature_matrix.isnull().sum().sort_values(ascending=False)"
   ]
  },
  {
   "cell_type": "code",
   "execution_count": null,
   "metadata": {
    "colab": {},
    "colab_type": "code",
    "id": "u7Ha8Zlkhuoe"
   },
   "outputs": [],
   "source": [
    "# Check with feature selection\n",
    "corrs = feature_matrix_selection.corr().sort_values('Label')"
   ]
  },
  {
   "cell_type": "code",
   "execution_count": null,
   "metadata": {
    "colab": {
     "base_uri": "https://localhost:8080/",
     "height": 1000
    },
    "colab_type": "code",
    "id": "EWRODfAdPk6j",
    "outputId": "4bc0463a-cb2b-49b5-e5b3-5e330f4ab198"
   },
   "outputs": [
    {
     "data": {
      "text/plain": [
       "CUM_MEAN(SUM(Results.LuckyNo))                           -0.003288\n",
       "TIME_SINCE(first_Results_time)                           -0.002944\n",
       "STD(Results.DrawNo)                                      -0.002877\n",
       "STD(Results.CUM_SUM(DrawNo))                             -0.002778\n",
       "MAX(Results.LuckyNo)                                     -0.002680\n",
       "SUM(Results.LuckyNo)                                     -0.002426\n",
       "MAX(Results.DrawNo)                                      -0.002377\n",
       "MIN(Results.CUM_MEAN(LuckyNo))                           -0.002333\n",
       "CUM_MEAN(AVG_TIME_BETWEEN(Results.DrawDate))             -0.002238\n",
       "MEAN(Results.TIME_SINCE(DrawDate))                       -0.002056\n",
       "STD(Results.PERCENTILE(DrawNo))                          -0.001937\n",
       "PERCENTILE(STD(Results.LuckyNo))                         -0.001931\n",
       "PERCENTILE(STD(Results.DrawNo))                          -0.001814\n",
       "CUM_SUM(SKEW(Results.DrawNo))                            -0.001741\n",
       "SUM(Results.TIME_SINCE(DrawDate))                        -0.001492\n",
       "MEAN(Results.CUM_MEAN(LuckyNo))                          -0.001477\n",
       "AVG_TIME_BETWEEN(Results.DrawDate)                       -0.001429\n",
       "PERCENTILE(SKEW(Results.DrawNo))                         -0.001354\n",
       "SKEW(Results.CUM_MEAN(LuckyNo))                          -0.001339\n",
       "SKEW(Results.CUM_SUM(DrawNo))                            -0.001294\n",
       "SKEW(Results.DrawNo)                                     -0.001030\n",
       "MAX(Results.PERCENTILE(DrawNo))                          -0.001006\n",
       "LAST(Results.DAY(DrawDate))                              -0.001000\n",
       "TREND(Results.CUM_SUM(DrawNo), DrawDate)                 -0.000958\n",
       "PERCENTILE(AVG_TIME_BETWEEN(Results.DrawDate))           -0.000921\n",
       "NUM_UNIQUE(Results.DAY(DrawDate))                        -0.000833\n",
       "MODE(Results.MONTH(DrawDate))                            -0.000827\n",
       "DAY(first_Results_time)                                  -0.000677\n",
       "TREND(Results.DrawNo, DrawDate)                          -0.000630\n",
       "SUM(Results.DrawNo)                                      -0.000541\n",
       "COUNT(Results)                                           -0.000535\n",
       "CUM_MEAN(SKEW(Results.DrawNo))                           -0.000398\n",
       "LAST(Results.MONTH(DrawDate))                            -0.000351\n",
       "NUM_UNIQUE(Results.MONTH(DrawDate))                      -0.000248\n",
       "SKEW(Results.TIME_SINCE_PREVIOUS(DrawDate))              -0.000226\n",
       "MEAN(Results.DrawNo)                                     -0.000160\n",
       "TREND(Results.PERCENTILE(TotalStrike), DrawDate)         -0.000156\n",
       "PERCENTILE(COUNT(Results))                               -0.000139\n",
       "LAST(Results.TIME_SINCE_PREVIOUS(DrawDate))              -0.000131\n",
       "PERCENTILE(LAST(Results.DrawNo))                         -0.000094\n",
       "TREND(Results.TIME_SINCE_PREVIOUS(DrawDate), DrawDate)    0.000169\n",
       "STD(Results.TIME_SINCE_PREVIOUS(DrawDate))                0.000213\n",
       "MEAN(Results.TIME_SINCE_PREVIOUS(DrawDate))               0.000345\n",
       "SUM(Results.TIME_SINCE_PREVIOUS(DrawDate))                0.000442\n",
       "MODE(Results.DAY(DrawDate))                               0.000471\n",
       "PERCENTILE(SUM(Results.DrawNo))                           0.000610\n",
       "TREND(Results.PERCENTILE(LuckyNo), DrawDate)              0.000687\n",
       "MONTH(first_Results_time)                                 0.000858\n",
       "PERCENTILE(TREND(Results.DrawNo, DrawDate))               0.000912\n",
       "MIN(Results.TIME_SINCE_PREVIOUS(DrawDate))                0.000984\n",
       "TIME_SINCE_PREVIOUS(first_Results_time)                   0.000987\n",
       "LAST(Results.CUM_MEAN(LuckyNo))                           0.000988\n",
       "MAX(Results.CUM_MEAN(LuckyNo))                            0.001007\n",
       "MEAN(Results.PERCENTILE(DrawNo))                          0.001149\n",
       "TREND(Results.CUM_MEAN(LuckyNo), DrawDate)                0.001493\n",
       "TREND(Results.PERCENTILE(DrawNo), DrawDate)               0.001528\n",
       "PERCENTILE(MAX(Results.TotalStrike))                      0.001564\n",
       "MIN(Results.DrawNo)                                       0.001718\n",
       "CUM_SUM(MIN(Results.DrawNo))                              0.001852\n",
       "MAX(Results.PERCENTILE(TotalStrike))                      0.002320\n",
       "Name: Label, dtype: float64"
      ]
     },
     "execution_count": 22,
     "metadata": {
      "tags": []
     },
     "output_type": "execute_result"
    }
   ],
   "source": [
    "corrs['Label'].head(60)"
   ]
  },
  {
   "cell_type": "markdown",
   "metadata": {
    "colab_type": "text",
    "id": "waeD1ED_kqDB"
   },
   "source": [
    "## Modeling"
   ]
  },
  {
   "cell_type": "code",
   "execution_count": null,
   "metadata": {
    "colab": {},
    "colab_type": "code",
    "id": "9yrJyIVLh5So"
   },
   "outputs": [],
   "source": [
    "def recall_optim(y_true, y_pred):\n",
    "    \"\"\"Make a scoring function that improves specificity while identifying all strikes\n",
    "    \"\"\"\n",
    "    conf_matrix = confusion_matrix(y_true, y_pred)\n",
    "    \n",
    "    # Recall will be worth a greater value than specificity\n",
    "    rec = recall_score(y_true, y_pred) * 0.8 \n",
    "    spe = conf_matrix[0,0]/conf_matrix[0,:].sum() * 0.2 \n",
    "    \n",
    "    # Imperfect recalls will lose a penalty\n",
    "    # This means the best results will have perfect recalls and compete for specificity\n",
    "    if rec < 0.8:\n",
    "        rec -= 0.2\n",
    "    return rec + spe \n",
    "\n",
    "\n",
    "# Make a scoring callable from recall_score\n",
    "recall = make_scorer(recall_score)\n",
    "\n",
    "# Create a scoring callable based on the scoring function\n",
    "optimize = make_scorer(recall_optim)\n",
    "\n",
    "# DataFrame to store classifier performance\n",
    "performance = pd.DataFrame(columns=['Train_Recall','Test_Recall','Test_Specificity', 'Optimize'])\n",
    "\n",
    "def to_labels(pos_probs, threshold):\n",
    "    \"\"\"Apply threshold to positive probabilities to create labels.\n",
    "    \"\"\"\n",
    "    return (pos_probs >= threshold).astype('int')\n",
    " \n",
    "\n",
    "def score_optimization(dt, feature_matrix, clf, params, X_train, y_train, X_test, y_test, skip_grid_search_cv=False, optimized_scorer=False):\n",
    "    \"\"\"Find the optimized classifier.\n",
    "    \"\"\"\n",
    "    if not skip_grid_search_cv:\n",
    "      print(\"\\nFinding the optimized classifier...\")\n",
    "\n",
    "      # Load GridSearchCV\n",
    "      # search = GridSearchCV(\n",
    "      search = RandomizedSearchCV(\n",
    "            estimator=clf,\n",
    "            #param_grid=params,\n",
    "            param_distributions=params,\n",
    "            n_jobs=4,\n",
    "            scoring=optimize  # Use custom scorer\n",
    "      )\n",
    "\n",
    "      # Train search object\n",
    "      search.fit(X_train, y_train)\n",
    "\n",
    "      # Heading\n",
    "      print('\\n','-'*40,'\\n',clf.__class__.__name__,'\\n','-'*40)\n",
    "\n",
    "      # Extract best estimator\n",
    "      best = search.best_estimator_\n",
    "      print('Best parameters: \\n\\n',search.best_params_,'\\n')\n",
    "    \n",
    "    else:\n",
    "      print(\"\\nUse the passed in classifier...\\n\")\n",
    "      best = clf\n",
    "\n",
    "    # Cross-validate on the train data\n",
    "    print(\"TRAIN GROUP\")\n",
    "    #cv = RepeatedStratifiedKFold(n_splits=10, n_repeats=3, random_state=42)\n",
    "    cv = 3\n",
    "    if not optimized_scorer:\n",
    "      print('\\nUse default scorer')\n",
    "      train_cv = cross_val_score(\n",
    "                                n_jobs=4,\n",
    "                                X=X_train, \n",
    "                                y=y_train, \n",
    "                                estimator=best, \n",
    "                                scoring=recall,\n",
    "                                cv=cv)\n",
    "    else:\n",
    "      print('\\nUse optimized scorer')\n",
    "      train_cv = cross_val_score(\n",
    "                                n_jobs=4,\n",
    "                                X=X_train, \n",
    "                                y=y_train, \n",
    "                                estimator=best, \n",
    "                                #scoring=optimize,\n",
    "                                scoring='roc_auc',\n",
    "                                cv=cv)\n",
    "\n",
    "    print(\"\\nCross-validation recall scores:\",train_cv)\n",
    "    print(\"Mean recall score:\",train_cv.mean())\n",
    "\n",
    "    # Now predict on the test group\n",
    "    print(\"\\nTEST GROUP\")\n",
    "    y_pred = best.fit(X_train, y_train).predict(X_test)\n",
    "\n",
    "    # keep probabilities for the positive outcome only\n",
    "    probas = best.predict_proba(X_test)[:, 1]\n",
    "    \n",
    "    # define thresholds\n",
    "    thresholds = np.arange(0, 1, 0.001)\n",
    "\n",
    "    # evaluate each threshold\n",
    "    scores = [f1_score(y_test, to_labels(probas, t)) for t in thresholds]\n",
    "\n",
    "    # get best threshold\n",
    "    ix = np.argmax(scores)\n",
    "    print('Threshold=%.3f, F-Score=%.5f' % (thresholds[ix], scores[ix]))\n",
    "\n",
    "    # print recall\n",
    "    print(\"\\nRecall:\",recall_score(y_test,y_pred))\n",
    "\n",
    "    # Get imbalanced classification report\n",
    "    print(classification_report_imbalanced(y_test, y_pred))\n",
    "\n",
    "    # Print confusion matrix\n",
    "    conf_matrix = confusion_matrix(y_test,y_pred)\n",
    "    sns.heatmap(conf_matrix, annot=True, fmt='d', cmap=plt.cm.copper)\n",
    "    plt.show()\n",
    "\n",
    "    # Store results\n",
    "    performance.loc[clf.__class__.__name__+'_optimize',:] = [\n",
    "        train_cv.mean(),\n",
    "        recall_score(y_test,y_pred),\n",
    "        conf_matrix[0,0]/conf_matrix[0,:].sum(),\n",
    "        recall_optim(y_test,y_pred)\n",
    "    ]\n",
    "    # Look at the parameters for the top best scores\n",
    "    if not skip_grid_search_cv:\n",
    "      display(pd.DataFrame(search.cv_results_).iloc[:,4:].sort_values(by='rank_test_score').head())\n",
    "    display(performance)\n",
    "\n",
    "    # Additionl info\n",
    "    print('\\n\\nAdditional Info')\n",
    "    print('='*40)\n",
    "    positive = np.where((y_pred==1))\n",
    "    print(f'Total predicted to be positive: {len(positive[0])} \\n')\n",
    "\n",
    "    # Total predicted matches\n",
    "    print('First 23 matches')\n",
    "    pred = np.where((y_pred==1))\n",
    "    print(23, pred[0][0:23])\n",
    "\n",
    "    print(\"Top 23 Probable Matches\")\n",
    "    print('probas', probas)\n",
    "    topN = np.argpartition(probas, -23)[-23:]\n",
    "    print(f'\\n{topN}\\n')          # Top N most high probability numbers\n",
    "    print(f'\\n{probas[topN]}\\n')  # Top N probability\n",
    "  \n",
    "    # 25% - 75% percentile\n",
    "\n",
    "    \n",
    "    \n",
    "    # All predicted matches\n",
    "    all_preds = pred[0]\n",
    "    print(len(all_preds), all_preds)\n",
    "    \n",
    "    print('Debug')\n",
    "    print(pred)\n",
    "    \n",
    "    if len(positive[0]) > 0:\n",
    "    \n",
    "      # Matching draws\n",
    "      print('Matched draws')\n",
    "      md = np.where((y_pred==1) & (y_test==1))\n",
    "      print(f\"Count: {len(md[0])}, Index: {md}\")\n",
    "      month_data = feature_matrix.loc[feature_matrix['time'] == dt]\n",
    "      numbers = month_data.iloc[md[0]][['MAX(Results.LuckyNo)']]\n",
    "\n",
    "      print('\\n\\nTop 23 Possibility')\n",
    "      print(origin_data[(origin_data['DrawDate'].dt.year == dt.year) & \n",
    "                          (origin_data['DrawDate'].dt.month == dt.month) &  \n",
    "                          (origin_data['LuckyNo'].isin(topN))].head(23))  \n",
    "      \n",
    "      print('\\n\\nFirst 23 Numbers')\n",
    "      print(origin_data[(origin_data['DrawDate'].dt.year == dt.year) & \n",
    "                          (origin_data['DrawDate'].dt.month == dt.month) &  \n",
    "                          (origin_data['LuckyNo'].isin(pred[0][0:23]))].head(23))    \n",
    "             \n",
    "\n",
    "      print('\\n\\nAll matched')\n",
    "      print(origin_data[(origin_data['DrawDate'].dt.year == dt.year) & \n",
    "                          (origin_data['DrawDate'].dt.month == dt.month) &  \n",
    "                          (origin_data['LuckyNo'].isin(numbers['MAX(Results.LuckyNo)']))].head(100))    \n",
    "                                                  \n",
    "    else:\n",
    "      print('No luck this month')  \n",
    "  "
   ]
  },
  {
   "cell_type": "code",
   "execution_count": null,
   "metadata": {
    "colab": {},
    "colab_type": "code",
    "id": "VrL8gYwjc-hd"
   },
   "outputs": [],
   "source": [
    "def remove_outliers(balanced, threshold=0.001, remove=True):\n",
    "    \"\"\"Removing Outliers from high-correlation features.\n",
    "    \"\"\"\n",
    "\n",
    "    if not remove:\n",
    "      return balanced\n",
    "\n",
    "    bal_corr = balanced.corr()\n",
    "    no_outliers=pd.DataFrame(balanced.copy())\n",
    "\n",
    "    cols = bal_corr.Label.index[:-1]\n",
    "\n",
    "    # For each feature correlated with Class...\n",
    "    for col in cols:\n",
    "        # If absolute correlation value is more than X percent...\n",
    "        correlation = bal_corr.loc['Label',col]\n",
    "\n",
    "        if np.absolute(correlation) > threshold:\n",
    "          # Separate the classes of the high-correlation column\n",
    "          nonstrikes = no_outliers.loc[no_outliers.Label==0,col]\n",
    "          strikes = no_outliers.loc[no_outliers.Label==1,col]\n",
    "\n",
    "          # Identify the 25th and 75th quartiles\n",
    "          all_values = no_outliers.loc[:,col]\n",
    "          q25, q75 = np.percentile(all_values, 25), np.percentile(all_values, 75)\n",
    "          # Get the inter quartile range\n",
    "          iqr = q75 - q25\n",
    "          # Smaller cutoffs will remove more outliers\n",
    "          cutoff = iqr * 7\n",
    "          # Set the bounds of the desired portion to keep\n",
    "          lower, upper = q25 - cutoff, q75 + cutoff\n",
    "          \n",
    "          # If positively correlated...\n",
    "          # Drop nonstrikes above upper bound, and strikes below lower bound\n",
    "          if correlation > 0: \n",
    "              no_outliers.drop(index=nonstrikes[nonstrikes>upper].index,inplace=True)\n",
    "              no_outliers.drop(index=strikes[strikes<lower].index,inplace=True)\n",
    "          \n",
    "          # If negatively correlated...\n",
    "          # Drop non strikes below lower bound, and strikes above upper bound\n",
    "          elif correlation < 0: \n",
    "              no_outliers.drop(index=nonstrikes[nonstrikes<lower].index,inplace=True)\n",
    "              no_outliers.drop(index=strikes[strikes>upper].index,inplace=True)\n",
    "        \n",
    "    print('\\nData shape before removing outliers:', balanced.shape)\n",
    "    print('\\nCounts of strikes VS non-strikes in previous data:')\n",
    "    print(balanced.Label.value_counts())\n",
    "    print('-'*40)\n",
    "    print('-'*40)\n",
    "    print('\\nData shape after removing outliers:', no_outliers.shape)\n",
    "    print('\\nCounts of strikes VS non-strikes in new data:')\n",
    "    print(no_outliers.Label.value_counts())\n",
    "\n",
    "    # no_outliers.iloc[:,:-1].boxplot(rot=90,figsize=(16,4))\n",
    "    # plt.title('Distributions with Less Outliers', fontsize=17)\n",
    "    # plt.show()\n",
    "    \n",
    "    no_outliers.reset_index(drop=True, inplace=True)\n",
    "    return no_outliers\n",
    "\n",
    "\n",
    "def filter_features(no_outliers, threshold=0.001):\n",
    "    \"\"\"Feature selection.\n",
    "    \"\"\"\n",
    "    feat_sel = pd.DataFrame(no_outliers.copy())\n",
    "\n",
    "    # Make a dataframe with the label-correlations before removing outliers\n",
    "    # corr_change = pd.DataFrame()\n",
    "    # corr_change['correlation']= bal_corr.Label\n",
    "    # corr_change['origin']= 'w/outliers'\n",
    "\n",
    "    # Make a dataframe with label-correlations after removing outliers \n",
    "    # corr_other = pd.DataFrame()\n",
    "    # corr_other['correlation']= feat_sel.corr().Label\n",
    "    # corr_other['origin']= 'no_outliers'\n",
    "\n",
    "    # Join them\n",
    "    # corr_change = corr_change.append(corr_other)\n",
    "\n",
    "    # plt.figure(figsize=(14,6))\n",
    "    # plt.xticks(rotation=90)\n",
    "\n",
    "    # Plot them\n",
    "    # sns.set_style('darkgrid')\n",
    "    # plt.title('Label correlation per feature. With vs without outliers', fontsize=17)\n",
    "    # sns.barplot(data=corr_change,x=corr_change.index,y='correlation',hue='origin')\n",
    "    # plt.show()\n",
    "\n",
    "    # Feature Selection based on correlation with label\n",
    "\n",
    "    print('\\nData shape before feature selection:', feat_sel.shape)\n",
    "    print('\\nCounts of strikes vs non-strikes before feature selection:')\n",
    "    print(feat_sel.Label.value_counts())\n",
    "    print('-'*40)\n",
    "\n",
    "    # Correlation matrix after removing outliers\n",
    "    new_corr = feat_sel.corr()\n",
    "\n",
    "    for col in new_corr.Label.index[:-1]:\n",
    "        # Pick desired cutoff for dropping features. In absolute-value terms.\n",
    "        if np.absolute(new_corr.loc['Label',col]) < threshold:\n",
    "            # Drop the feature if correlation is below cutoff\n",
    "            feat_sel.drop(columns=col,inplace=True)\n",
    "\n",
    "    print('-'*40)\n",
    "    print('\\nData shape after feature selection:', feat_sel.shape)\n",
    "    print('\\nCounts of strikes vs non-strikes in new data:')\n",
    "    print(feat_sel.Label.value_counts())\n",
    "\n",
    "    return feat_sel\n",
    "\n",
    "    # feat_sel.iloc[:,:-1].boxplot(rot=90,figsize=(16,4))\n",
    "    # plt.title('Distribution of Features Selected', fontsize=17)\n",
    "    # plt.show()\n",
    "\n",
    "def under_sampler(data, sample_size=20000, sampling=False):\n",
    "    # Undersample model for efficiency and balance classes.\n",
    "\n",
    "    X_train = data.drop('Label',1)\n",
    "    y_train = data.Label\n",
    "\n",
    "    if not sampling:\n",
    "      return X_train, y_train\n",
    "\n",
    "    # After feature-selection, X_test needs to include only the same features as X_train\n",
    "    # cols = X_train.columns\n",
    "    # X_test = X_test[cols]\n",
    "\n",
    "    # Undersample and balance classes\n",
    "    X_train, y_train = RandomUnderSampler(sampling_strategy={1:sample_size,0:sample_size}).fit_resample(X_train,y_train)\n",
    "\n",
    "    print('\\nX_train shape after reduction:', X_train.shape)\n",
    "    print('\\nCounts of strikes VS non-strikes in y_train:')\n",
    "    print(np.unique(y_train, return_counts=True))\n",
    "\n",
    "    return X_train, y_train"
   ]
  },
  {
   "cell_type": "code",
   "execution_count": null,
   "metadata": {
    "colab": {},
    "colab_type": "code",
    "id": "pl5ZoepSNPf4"
   },
   "outputs": [],
   "source": [
    "def gen_train_test_set(dt, feature_matrix, file_prefix='data'): \n",
    "    \n",
    "    # Subset labels\n",
    "    test_labels = feature_matrix.loc[feature_matrix['time'] == dt, 'Label']\n",
    "    train_labels = feature_matrix.loc[feature_matrix['time'] < dt, 'Label']\n",
    "\n",
    "    # Features\n",
    "    X_train = feature_matrix[feature_matrix['time'] < dt].drop(columns = ['NumberId', 'time', 'Label', 'TotalStrike', 'month', 'year', 'index'], errors='ignore')\n",
    "    X_test = feature_matrix[feature_matrix['time'] == dt].drop(columns = ['NumberId', 'time', 'Label', 'TotalStrike', 'month', 'year', 'index'], errors='ignore')\n",
    "    feature_names = list(X_train.columns)\n",
    "    \n",
    "    # Labels\n",
    "    y_train = np.array(train_labels).reshape((-1, ))\n",
    "    y_test = np.array(test_labels).reshape((-1, ))\n",
    "    \n",
    "    print('Training on {} observations.'.format(len(X_train)))\n",
    "    print('Testing on {} observations.\\n'.format(len(X_test)))\n",
    "\n",
    "    # Join the train data\n",
    "    train = X_train.join(train_labels)\n",
    "\n",
    "    print('Data shape before balancing:', train.shape)\n",
    "    print('\\nCounts of strikes vs non-strikes in previous data:')\n",
    "    print(train.Label.value_counts())\n",
    "    print('-'*40)\n",
    "\n",
    "    # sklearn pipeline\n",
    "    pipeline = make_pipeline(\n",
    "        SimpleImputer(strategy = 'constant', fill_value=0),\n",
    "        StandardScaler())\n",
    "    \n",
    "    X_train = pipeline.fit_transform(X_train)\n",
    "    X_test = pipeline.transform(X_test)\n",
    "\n",
    "    # imblearn pipeline\n",
    "    imb_pipeline = make_pipeline_imb(\n",
    "          # NearMiss(version=3, n_neighbors_ver3=3, n_jobs=4)\n",
    "          # SMOTE(sampling_strategy='minority',random_state=42, n_jobs=4)\n",
    "          ADASYN(sampling_strategy='minority',random_state=42, n_jobs=4)\n",
    "          # OneSidedSelection(n_neighbors=1, n_seeds_S=200, random_state=42, n_jobs=4)\n",
    "    )\n",
    "     \n",
    "    # Balance the data\n",
    "    to_balanced = False\n",
    "    if to_balanced:\n",
    "      print('\\nBalancing data')\n",
    "      X_bal, y_bal = imb_pipeline.fit_resample(X_train, y_train)\n",
    "      X_bal = pd.DataFrame(X_bal,columns=feature_names)\n",
    "      y_bal = pd.DataFrame(y_bal,columns=['Label'])\n",
    "    else:\n",
    "      print('\\nNO balancing')\n",
    "      X_bal = pd.DataFrame(X_train,columns=feature_names)\n",
    "      y_bal = pd.DataFrame(y_train,columns=['Label'])\n",
    "\n",
    "    balanced = X_bal.join(y_bal)\n",
    "\n",
    "    # print('-'*40)\n",
    "    print('Data shape after balancing:',balanced.shape)\n",
    "    print('\\nCounts of strikes VS non-strikes in new data:')\n",
    "    print(balanced.Label.value_counts())\n",
    "\n",
    "    # Remove high correlation outliers\n",
    "    no_outliers = remove_outliers(balanced, remove=False)\n",
    "   \n",
    "    # Remove features with low correlation\n",
    "    remove_features = True\n",
    "    if remove_features:\n",
    "      print('\\nFiltering features')\n",
    "      features_selected = filter_features(no_outliers)\n",
    "    else:\n",
    "      print('\\nNO filtering')\n",
    "      features_selected = no_outliers \n",
    "\n",
    "    columns_selected = features_selected.drop('Label',1).columns\n",
    "\n",
    "    # Under sampling\n",
    "    X_train, y_train = under_sampler(features_selected, sampling=False) \n",
    "    X_train = pd.DataFrame(X_train,columns=columns_selected)\n",
    "    y_train = pd.DataFrame(y_train,columns=['Label'])\n",
    "\n",
    "    # For X_test, now only use the selected features\n",
    "    X_test = pd.DataFrame(X_test,columns=feature_names)\n",
    "    X_test = X_test[columns_selected]\n",
    "    y_test = pd.DataFrame(y_test,columns=['Label'])\n",
    "\n",
    "    #print(X_train.describe())\n",
    "    #return\n",
    "\n",
    "    # Save data\n",
    "    # print(X_train.head(10))\n",
    "    # print(y_train.head(10)) \n",
    "\n",
    "    # print(X_test.head(10))\n",
    "    # print(y_test.head(10)) \n",
    "    X_train.to_feather(DATASET_PATH/f\"{file_prefix}_X_train.ft\")\n",
    "    y_train.to_feather(DATASET_PATH/f\"{file_prefix}_y_train.ft\")\n",
    "   \n",
    "    X_test.to_feather(DATASET_PATH/f\"{file_prefix}_X_test.ft\")\n",
    "    y_test.to_feather(DATASET_PATH/f\"{file_prefix}_y_test.ft\")\n",
    "\n",
    "    gc.collect()\n"
   ]
  },
  {
   "cell_type": "code",
   "execution_count": null,
   "metadata": {
    "colab": {},
    "colab_type": "code",
    "id": "PcKlL67TP9UM"
   },
   "outputs": [],
   "source": [
    "def model(dt, feature_matrix, file_prefix='data', csv=False):\n",
    "    \"\"\"Predict for a particular month.\n",
    "\n",
    "    - https://www.kaggle.com/miguelniblock/optimizing-imbalanced-classification-100-recall\n",
    "    - https://www.kaggle.com/saxinou/imbalanced-data-xgboost-tunning\n",
    "    - https://www.kaggle.com/andreanuzzo/balance-the-imbalanced-rf-and-xgboost-with-smote\n",
    "    - https://github.com/mengwangk/FraudDetection/blob/master/05_Sampling_techniques_for_extremely_imbalanced_data.ipynb\n",
    "    - https://www.kaggle.com/rafjaa/resampling-strategies-for-imbalanced-datasets\n",
    "    - https://github.com/coding-maniacs/over-under-sampling/blob/master/src/main.py\n",
    "    - https://github.com/scikit-learn-contrib/imbalanced-learn/issues/552#issuecomment-466348310\n",
    "    - https://stackoverflow.com/questions/52499788/smotetomek-how-to-set-ratio-as-dictionary-for-fixed-balance\n",
    "    - https://imbalanced-learn.readthedocs.io/en/stable/generated/imblearn.under_sampling.OneSidedSelection.html#imblearn.under_sampling.OneSidedSelection\n",
    "    - https://xgboost.readthedocs.io/en/latest/python/python_api.html#module-xgboost.sklearn\n",
    "    - https://machinelearningmastery.com/undersampling-algorithms-for-imbalanced-classification/\n",
    "    - https://seaborn.pydata.org/generated/seaborn.heatmap.html\n",
    "    - https://stats.stackexchange.com/questions/243207/what-is-the-proper-usage-of-scale-pos-weight-in-xgboost-for-imbalanced-datasets\n",
    "    - https://scikit-learn.org/stable/auto_examples/svm/plot_oneclass.html#sphx-glr-auto-examples-svm-plot-oneclass-py\n",
    "    - https://machinelearningmastery.com/cost-sensitive-logistic-regression/\n",
    "    \n",
    "    - https://datascience.stackexchange.com/questions/28285/what-is-the-best-way-to-deal-with-imbalanced-data-for-xgboost/28292\n",
    "    - https://machinelearningmastery.com/xgboost-for-imbalanced-classification/\n",
    "    - https://machinelearningmastery.com/tactics-to-combat-imbalanced-classes-in-your-machine-learning-dataset/\n",
    "    \n",
    "    \"\"\"\n",
    "\n",
    "    # Read data\n",
    "    if not csv:\n",
    "      X_train = pd.read_feather(DATASET_PATH/f\"{file_prefix}_X_train.ft\")\n",
    "      y_train = pd.read_feather(DATASET_PATH/f\"{file_prefix}_y_train.ft\")\n",
    "    \n",
    "      X_test = pd.read_feather(DATASET_PATH/f\"{file_prefix}_X_test.ft\")\n",
    "      y_test = pd.read_feather(DATASET_PATH/f\"{file_prefix}_y_test.ft\")\n",
    "    else:\n",
    "      X_train = pd.read_csv(DATASET_PATH/f\"{file_prefix}_X_train.csv\", header=0, sep=',', quotechar='\"')\n",
    "      y_train = pd.read_csv(DATASET_PATH/f\"{file_prefix}_y_train.csv\", header=0, sep=',', quotechar='\"')\n",
    "    \n",
    "      X_test = pd.read_csv(DATASET_PATH/f\"{file_prefix}_X_test.csv\", header=0, sep=',', quotechar='\"')\n",
    "      y_test = pd.read_csv(DATASET_PATH/f\"{file_prefix}_y_test.csv\", header=0, sep=',', quotechar='\"')\n",
    "\n",
    "    # Reshape\n",
    "    y_train = np.array(y_train).reshape((-1, ))\n",
    "    y_test = np.array(y_test).reshape((-1, ))\n",
    "    \n",
    "    print('Data shape')\n",
    "    print(X_train.shape, y_train.shape, X_test.shape, y_test.shape)\n",
    "\n",
    "    # print(X_train.describe())\n",
    "    # return\n",
    "\n",
    "    # Calculate hit ratio for xgboost classifier\n",
    "    print(\"\\nCalculating scale pos weight\")\n",
    "    counter = Counter(y_train)\n",
    "    print(Counter(y_train))\n",
    "    scale_pos_weight = float(counter[0] / counter[1])\n",
    "    print(f\"\\nscale_pos_weight - {scale_pos_weight}\\n\")\n",
    "    \n",
    "     # Modeling\n",
    "#     clf = xgb.XGBClassifier(\n",
    "#               n_jobs=4, \n",
    "#               random_state=42,\n",
    "#               #learning_rate=0.1,\n",
    "#               #n_estimators=500,\n",
    "#               #max_depth=6, \n",
    "#               #min_child_weight=3, \n",
    "#               #gamma=0,\n",
    "#               #subsample=0.8,\n",
    "#               #colsample_bytree=0.8,\n",
    "#               objective='binary:logistic', \n",
    "#               scale_pos_weight=scale_pos_weight,\n",
    "#               ##eval_metric=\"auc\",\n",
    "#               ##max_delta_step=1,\n",
    "#               seed=27)\n",
    "#     clf = xgb.XGBClassifier(n_jobs=4, \n",
    "#                             random_state=42,\n",
    "#                             objective='binary:logistic', \n",
    "#                             #scale_pos_weight=28)\n",
    "#                             scale_pos_weight=scale_pos_weight)\n",
    "    \n",
    "    clf = xgb.XGBClassifier(\n",
    "                    n_jobs=4, \n",
    "                    random_state=42,\n",
    "                    objective='binary:logistic',\n",
    "                    subsample=0.55, \n",
    "                    n_estimators=300,\n",
    "                    #n_estimators=400,\n",
    "                    min_child_weight=1,\n",
    "                    max_depth=3, \n",
    "                    learning_rate=0.007,\n",
    "                    gamma=0.1, \n",
    "                    colsample_bytree=0.95,\n",
    "                    tree_method='hist',\n",
    "                    booster='dart',\n",
    "                    scale_pos_weight=scale_pos_weight\n",
    "                    )\n",
    "\n",
    "    clf_params = clf.get_params()\n",
    "    print(clf_params)\n",
    "\n",
    "    # Set parameters\n",
    "    #clf_params['max_depth'] = 10\n",
    "    #clf.set_params(clf_params)\n",
    "\n",
    "    # Parameters to compare\n",
    "    weights = [i for i in range(1,36,1)]\n",
    "    weights.append(scale_pos_weight)\n",
    "    learn_params = {\n",
    "        'n_estimators': [100, 300, 500, 800, 1000], \n",
    "        'max_depth': range(3,10,2),\n",
    "        'min_child_weight': range(1,6,2),\n",
    "        #'gamma':[i/10.0 for i in range(0,5)],\n",
    "        'subsample':[i/100.0 for i in range(55,70,5)],\n",
    "        'colsample_bytree':[i/100.0 for i in range(85,100,5)],\n",
    "        #'learning_rate':[i/1000.0 for i in range(5,20,2)],\n",
    "        'scale_pos_weight': weights\n",
    "    }\n",
    "    print(f'Parameter distribution: {learn_params}')\n",
    "    \n",
    "    # Test and validate\n",
    "    score_optimization(dt,\n",
    "                       feature_matrix,\n",
    "                       clf, \n",
    "                       learn_params,  \n",
    "                       X_train, \n",
    "                       y_train, \n",
    "                       X_test, \n",
    "                       y_test, \n",
    "                       skip_grid_search_cv=True,\n",
    "                       optimized_scorer=True)\n",
    "\n",
    "    gc.collect()\n",
    "    \n",
    "    # clf.fit(X_train, y_train)\n",
    "    # y_pred = clf.predict(X_test)\n",
    "\n",
    "    # # ROC score\n",
    "    # auc = roc_auc_score(y_test, y_pred)\n",
    "    # print(\"ROC score: \", auc)\n",
    "\n",
    "    # # Print confusion matrix\n",
    "    # conf_matrix = confusion_matrix(y_test, y_pred)\n",
    "    # sns.heatmap(conf_matrix, annot=True,fmt='d', cmap=plt.cm.copper)\n",
    "    # plt.show()\n",
    "\n",
    "    # Parameters to compare\n",
    "    # params = {\n",
    "    #     'criterion':['entropy','gini'],\n",
    "    #     'class_weight':[{1:1,0:0.3},{1:1,0:0.4},{1:1,0:0.5},{1:1,0:0.6},{1:1,0:7}]\n",
    "    # }\n",
    "\n",
    "    # Implement the classifier\n",
    "    # clf = RandomForestClassifier(\n",
    "    #     n_estimators=100,\n",
    "    #     max_features=None,\n",
    "    #     n_jobs=4,\n",
    "    # )\n",
    "\n",
    "    # # Test and validate\n",
    "    # score_optimization(clf, params, X_train, y_train, X_test, y_test)"
   ]
  },
  {
   "cell_type": "code",
   "execution_count": null,
   "metadata": {
    "colab": {
     "base_uri": "https://localhost:8080/",
     "height": 1000
    },
    "colab_type": "code",
    "id": "m9UobqUWMI9b",
    "outputId": "d7b96d9c-6f92-4f43-848a-e3bb5b347995"
   },
   "outputs": [
    {
     "name": "stdout",
     "output_type": "stream",
     "text": [
      "Data shape\n",
      "(889893, 61) (889893,) (10000, 61) (10000,)\n",
      "\n",
      "Calculating scale pos weight\n",
      "Counter({0: 860060, 1: 29833})\n",
      "\n",
      "scale_pos_weight - 28.829148929038315\n",
      "\n",
      "{'base_score': 0.5, 'booster': 'dart', 'colsample_bylevel': 1, 'colsample_bynode': 1, 'colsample_bytree': 0.95, 'gamma': 0.1, 'learning_rate': 0.007, 'max_delta_step': 0, 'max_depth': 3, 'min_child_weight': 1, 'missing': None, 'n_estimators': 300, 'n_jobs': 4, 'nthread': None, 'objective': 'binary:logistic', 'random_state': 42, 'reg_alpha': 0, 'reg_lambda': 1, 'scale_pos_weight': 28.829148929038315, 'seed': None, 'silent': None, 'subsample': 0.55, 'verbosity': 1, 'tree_method': 'hist'}\n",
      "Parameter distribution: {'n_estimators': [100, 300, 500, 800, 1000], 'max_depth': range(3, 10, 2), 'min_child_weight': range(1, 6, 2), 'subsample': [0.55, 0.6, 0.65], 'colsample_bytree': [0.85, 0.9, 0.95], 'scale_pos_weight': [1, 2, 3, 4, 5, 6, 7, 8, 9, 10, 11, 12, 13, 14, 15, 16, 17, 18, 19, 20, 21, 22, 23, 24, 25, 26, 27, 28, 29, 30, 31, 32, 33, 34, 35, 28.829148929038315]}\n",
      "\n",
      "Use the passed in classifier...\n",
      "\n",
      "TRAIN GROUP\n",
      "\n",
      "Use optimized scorer\n",
      "\n",
      "Cross-validation recall scores: [0.50118457 0.5001714  0.49963824]\n",
      "Mean recall score: 0.5003314067016277\n",
      "\n",
      "TEST GROUP\n",
      "Threshold=0.473, F-Score=0.06709\n",
      "\n",
      "Recall: 0.026785714285714284\n",
      "                   pre       rec       spe        f1       geo       iba       sup\n",
      "\n",
      "          0       0.97      0.98      0.03      0.97      0.16      0.03      9664\n",
      "          1       0.05      0.03      0.98      0.03      0.16      0.02       336\n",
      "\n",
      "avg / total       0.94      0.95      0.06      0.94      0.16      0.03     10000\n",
      "\n"
     ]
    },
    {
     "data": {
      "image/png": "[encoded data removed]",
      "text/plain": [
       "<Figure size 432x288 with 2 Axes>"
      ]
     },
     "metadata": {
      "tags": []
     },
     "output_type": "display_data"
    },
    {
     "data": {
      "text/html": [
       "<div>\n",
       "<style scoped>\n",
       "    .dataframe tbody tr th:only-of-type {\n",
       "        vertical-align: middle;\n",
       "    }\n",
       "\n",
       "    .dataframe tbody tr th {\n",
       "        vertical-align: top;\n",
       "    }\n",
       "\n",
       "    .dataframe thead th {\n",
       "        text-align: right;\n",
       "    }\n",
       "</style>\n",
       "<table border=\"1\" class=\"dataframe\">\n",
       "  <thead>\n",
       "    <tr style=\"text-align: right;\">\n",
       "      <th></th>\n",
       "      <th>Train_Recall</th>\n",
       "      <th>Test_Recall</th>\n",
       "      <th>Test_Specificity</th>\n",
       "      <th>Optimize</th>\n",
       "    </tr>\n",
       "  </thead>\n",
       "  <tbody>\n",
       "    <tr>\n",
       "      <th>XGBClassifier_optimize</th>\n",
       "      <td>0.500331</td>\n",
       "      <td>0.0267857</td>\n",
       "      <td>0.980753</td>\n",
       "      <td>0.0175792</td>\n",
       "    </tr>\n",
       "  </tbody>\n",
       "</table>\n",
       "</div>"
      ],
      "text/plain": [
       "                       Train_Recall Test_Recall Test_Specificity   Optimize\n",
       "XGBClassifier_optimize     0.500331   0.0267857         0.980753  0.0175792"
      ]
     },
     "metadata": {
      "tags": []
     },
     "output_type": "display_data"
    },
    {
     "name": "stdout",
     "output_type": "stream",
     "text": [
      "\n",
      "\n",
      "Additional Info\n",
      "========================================\n",
      "Total predicted to be positive: 195 \n",
      "\n",
      "Predicted matches\n",
      "195 [  6  44  52  72 197 217 219 230 279 283 298 356 392 422 463 468 479 487\n",
      " 507 510 520 537 540]\n",
      "\n",
      "[4036  298  974 1553 1686 5311 7983 1047  903 4851 1671  595 4060  510\n",
      "  823 1009  803 4267  706  479  487  230  661]\n",
      "\n",
      "Matched draws\n",
      "Count: 9, Index: (array([   6,   44,  217,  628,  994, 4663, 5501, 6257, 8988]),)\n",
      "\n",
      "\n",
      "Top 23 Possibility\n",
      "Empty DataFrame\n",
      "Columns: [DrawNo, DrawDate, PrizeType, LuckyNo]\n",
      "Index: []\n",
      "\n",
      "\n",
      "First 23 Numbers\n",
      "        DrawNo   DrawDate       PrizeType  LuckyNo\n",
      "104635  495719 2019-06-08  ConsolationNo5        6\n",
      "104789  496419 2019-06-22      2ndPrizeNo       44\n",
      "104844  496619 2019-06-26  ConsolationNo7      217\n",
      "104856  496619 2019-06-26      SpecialNo9        6\n",
      "\n",
      "\n",
      "All matched\n",
      "        DrawNo   DrawDate       PrizeType  LuckyNo\n",
      "104635  495719 2019-06-08  ConsolationNo5        6\n",
      "104789  496419 2019-06-22      2ndPrizeNo       44\n",
      "104798  496419 2019-06-22  ConsolationNo7     8988\n",
      "104803  496419 2019-06-22      SpecialNo2     6257\n",
      "104807  496419 2019-06-22      SpecialNo6     4663\n",
      "104844  496619 2019-06-26  ConsolationNo7      217\n",
      "104847  496619 2019-06-26      SpecialNo1      994\n",
      "104856  496619 2019-06-26      SpecialNo9        6\n",
      "104899  496819 2019-06-30      SpecialNo6     5501\n",
      "104900  496819 2019-06-30      SpecialNo7      628\n",
      "CPU times: user 32min 43s, sys: 1.28 s, total: 32min 44s\n",
      "Wall time: 30min 4s\n"
     ]
    }
   ],
   "source": [
    "# Predict for a particular month\n",
    "\n",
    "# %time gen_train_test_set(pd.datetime(2019,6,1), feature_matrix_selection)\n",
    "\n",
    "#%time gen_train_test_set(pd.datetime(2019,6,1), feature_matrix_selection, file_prefix='test')\n",
    "%time model(pd.datetime(2019,6,1), feature_matrix_selection, file_prefix='orig')"
   ]
  },
  {
   "cell_type": "code",
   "execution_count": null,
   "metadata": {
    "colab": {
     "base_uri": "https://localhost:8080/",
     "height": 1000
    },
    "colab_type": "code",
    "id": "Ns3Puh7Gnxl5",
    "outputId": "73492154-b27b-4ad8-bc2c-0bceb9f6f6e9"
   },
   "outputs": [
    {
     "name": "stdout",
     "output_type": "stream",
     "text": [
      "Training on 889893 observations.\n",
      "Testing on 10000 observations.\n",
      "\n",
      "Data shape before balancing: (889893, 62)\n",
      "\n",
      "Counts of strikes vs non-strikes in previous data:\n",
      "0    860060\n",
      "1     29833\n",
      "Name: Label, dtype: int64\n",
      "----------------------------------------\n",
      "\n",
      "NO balancing\n",
      "Data shape after balancing: (889893, 62)\n",
      "\n",
      "Counts of strikes VS non-strikes in new data:\n",
      "0    860060\n",
      "1     29833\n",
      "Name: Label, dtype: int64\n",
      "\n",
      "Filtering features\n",
      "\n",
      "Data shape before feature selection: (889893, 62)\n",
      "\n",
      "Counts of strikes vs non-strikes before feature selection:\n",
      "0    860060\n",
      "1     29833\n",
      "Name: Label, dtype: int64\n",
      "----------------------------------------\n",
      "----------------------------------------\n",
      "\n",
      "Data shape after feature selection: (889893, 31)\n",
      "\n",
      "Counts of strikes vs non-strikes in new data:\n",
      "0    860060\n",
      "1     29833\n",
      "Name: Label, dtype: int64\n",
      "CPU times: user 11.9 s, sys: 177 ms, total: 12.1 s\n",
      "Wall time: 17.9 s\n",
      "Data shape\n",
      "(889893, 30) (889893,) (10000, 30) (10000,)\n",
      "\n",
      "Calculating scale pos weight\n",
      "Counter({0: 860060, 1: 29833})\n",
      "\n",
      "scale_pos_weight - 28.829148929038315\n",
      "\n",
      "{'base_score': 0.5, 'booster': 'dart', 'colsample_bylevel': 1, 'colsample_bynode': 1, 'colsample_bytree': 0.95, 'gamma': 0.1, 'learning_rate': 0.007, 'max_delta_step': 0, 'max_depth': 3, 'min_child_weight': 1, 'missing': None, 'n_estimators': 300, 'n_jobs': 4, 'nthread': None, 'objective': 'binary:logistic', 'random_state': 42, 'reg_alpha': 0, 'reg_lambda': 1, 'scale_pos_weight': 28.829148929038315, 'seed': None, 'silent': None, 'subsample': 0.55, 'verbosity': 1, 'tree_method': 'hist'}\n",
      "Parameter distribution: {'n_estimators': [100, 300, 500, 800, 1000], 'max_depth': range(3, 10, 2), 'min_child_weight': range(1, 6, 2), 'subsample': [0.55, 0.6, 0.65], 'colsample_bytree': [0.85, 0.9, 0.95], 'scale_pos_weight': [1, 2, 3, 4, 5, 6, 7, 8, 9, 10, 11, 12, 13, 14, 15, 16, 17, 18, 19, 20, 21, 22, 23, 24, 25, 26, 27, 28, 29, 30, 31, 32, 33, 34, 35, 28.829148929038315]}\n",
      "\n",
      "Use the passed in classifier...\n",
      "\n",
      "TRAIN GROUP\n",
      "\n",
      "Use optimized scorer\n",
      "\n",
      "Cross-validation recall scores: [0.50129601 0.49960635 0.4978066 ]\n",
      "Mean recall score: 0.4995696547813773\n",
      "\n",
      "TEST GROUP\n",
      "Threshold=0.489, F-Score=0.06839\n",
      "\n",
      "Recall: 0.017857142857142856\n",
      "                   pre       rec       spe        f1       geo       iba       sup\n",
      "\n",
      "          0       0.97      0.99      0.02      0.98      0.13      0.02      9664\n",
      "          1       0.05      0.02      0.99      0.03      0.13      0.02       336\n",
      "\n",
      "avg / total       0.94      0.96      0.05      0.95      0.13      0.02     10000\n",
      "\n"
     ]
    },
    {
     "data": {
      "image/png": "[encoded data removed]",
      "text/plain": [
       "<Figure size 432x288 with 2 Axes>"
      ]
     },
     "metadata": {
      "tags": []
     },
     "output_type": "display_data"
    },
    {
     "data": {
      "text/html": [
       "<div>\n",
       "<style scoped>\n",
       "    .dataframe tbody tr th:only-of-type {\n",
       "        vertical-align: middle;\n",
       "    }\n",
       "\n",
       "    .dataframe tbody tr th {\n",
       "        vertical-align: top;\n",
       "    }\n",
       "\n",
       "    .dataframe thead th {\n",
       "        text-align: right;\n",
       "    }\n",
       "</style>\n",
       "<table border=\"1\" class=\"dataframe\">\n",
       "  <thead>\n",
       "    <tr style=\"text-align: right;\">\n",
       "      <th></th>\n",
       "      <th>Train_Recall</th>\n",
       "      <th>Test_Recall</th>\n",
       "      <th>Test_Specificity</th>\n",
       "      <th>Optimize</th>\n",
       "    </tr>\n",
       "  </thead>\n",
       "  <tbody>\n",
       "    <tr>\n",
       "      <th>XGBClassifier_optimize</th>\n",
       "      <td>0.49957</td>\n",
       "      <td>0.0178571</td>\n",
       "      <td>0.987997</td>\n",
       "      <td>0.0118851</td>\n",
       "    </tr>\n",
       "  </tbody>\n",
       "</table>\n",
       "</div>"
      ],
      "text/plain": [
       "                       Train_Recall Test_Recall Test_Specificity   Optimize\n",
       "XGBClassifier_optimize      0.49957   0.0178571         0.987997  0.0118851"
      ]
     },
     "metadata": {
      "tags": []
     },
     "output_type": "display_data"
    },
    {
     "name": "stdout",
     "output_type": "stream",
     "text": [
      "\n",
      "\n",
      "Additional Info\n",
      "========================================\n",
      "Total predicted to be positive: 122 \n",
      "\n",
      "Predicted matches\n",
      "122 [  6  22  42  44  52 152 163 193 197 201 219 226 253 259 279 283 291 298\n",
      " 322 352 380 392 498]\n",
      "\n",
      "[1597  594 2958   42 5301 1531 4060 2479 5311 4609 2107 1949 3105 1047\n",
      "  392 1271 1207 1553  283 1702 3576  193 7181]\n",
      "\n",
      "Matched draws\n",
      "Count: 6, Index: (array([   6,   22,   44,  628, 4663, 5501]),)\n",
      "\n",
      "\n",
      "Top 23 Possibility\n",
      "Empty DataFrame\n",
      "Columns: [DrawNo, DrawDate, PrizeType, LuckyNo]\n",
      "Index: []\n",
      "\n",
      "\n",
      "First 23 Numbers\n",
      "        DrawNo   DrawDate       PrizeType  LuckyNo\n",
      "104635  495719 2019-06-08  ConsolationNo5        6\n",
      "104789  496419 2019-06-22      2ndPrizeNo       44\n",
      "104802  496419 2019-06-22     SpecialNo10       22\n",
      "104856  496619 2019-06-26      SpecialNo9        6\n",
      "\n",
      "\n",
      "All matched\n",
      "        DrawNo   DrawDate       PrizeType  LuckyNo\n",
      "104635  495719 2019-06-08  ConsolationNo5        6\n",
      "104789  496419 2019-06-22      2ndPrizeNo       44\n",
      "104802  496419 2019-06-22     SpecialNo10       22\n",
      "104807  496419 2019-06-22      SpecialNo6     4663\n",
      "104856  496619 2019-06-26      SpecialNo9        6\n",
      "104899  496819 2019-06-30      SpecialNo6     5501\n",
      "104900  496819 2019-06-30      SpecialNo7      628\n",
      "CPU times: user 32min 34s, sys: 1.25 s, total: 32min 35s\n",
      "Wall time: 29min 22s\n"
     ]
    }
   ],
   "source": [
    "%time gen_train_test_set(pd.datetime(2019,6,1), feature_matrix_selection, file_prefix='test')\n",
    "%time model(pd.datetime(2019,6,1), feature_matrix_selection, file_prefix='test')"
   ]
  },
  {
   "cell_type": "code",
   "execution_count": null,
   "metadata": {
    "colab": {},
    "colab_type": "code",
    "id": "qktZbi7OGqP3"
   },
   "outputs": [],
   "source": [
    "# NO Feature_selection\n",
    "# n_estimators = 300\n",
    "# NO remove outliers\n",
    "# filter features\n",
    "#start_mt = pd.datetime(2019,6,1)\n",
    "#how_many_mt = 7 \n",
    "#for i in range(how_many_mt):\n",
    "#  month_to_predict = start_mt + relativedelta(months=i)\n",
    "#  print(f\"\\n{month_to_predict}\\n-------------------\\n\")\n",
    "#  %time gen_train_test_set(month_to_predict, feature_matrix_selection, file_prefix='test')\n",
    "#  %time model(month_to_predict, feature_matrix_selection, file_prefix='test')\n"
   ]
  },
  {
   "cell_type": "code",
   "execution_count": null,
   "metadata": {
    "colab": {},
    "colab_type": "code",
    "id": "DPIj7aePrnyg"
   },
   "outputs": [],
   "source": []
  }
 ],
 "metadata": {
  "accelerator": "GPU",
  "colab": {
   "include_colab_link": true,
   "machine_shape": "hm",
   "name": "04_02_automated_machine_learning.ipynb",
   "provenance": [],
   "toc_visible": true
  },
  "kernelspec": {
   "display_name": "Python 3",
   "language": "python",
   "name": "python3"
  },
  "language_info": {
   "codemirror_mode": {
    "name": "ipython",
    "version": 3
   },
   "file_extension": ".py",
   "mimetype": "text/x-python",
   "name": "python",
   "nbconvert_exporter": "python",
   "pygments_lexer": "ipython3",
   "version": "3.7.6"
  }
 },
 "nbformat": 4,
 "nbformat_minor": 4
}

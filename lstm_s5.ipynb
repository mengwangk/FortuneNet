{
  "nbformat": 4,
  "nbformat_minor": 0,
  "metadata": {
    "colab": {
      "name": "lstm_s5.ipynb",
      "version": "0.3.2",
      "provenance": []
    },
    "language_info": {
      "codemirror_mode": {
        "name": "ipython",
        "version": 3
      },
      "file_extension": ".py",
      "mimetype": "text/x-python",
      "name": "python",
      "nbconvert_exporter": "python",
      "pygments_lexer": "ipython3",
      "version": "3.7.2"
    },
    "kernelspec": {
      "name": "python3",
      "display_name": "Python 3"
    },
    "accelerator": "GPU"
  },
  "cells": [
    {
      "cell_type": "code",
      "metadata": {
        "id": "qgmH_sSq4gF0",
        "colab_type": "code",
        "colab": {}
      },
      "source": [
        "# To support both python 2 and python 3\n",
        "from __future__ import division, print_function, unicode_literals\n",
        "\n",
        "# Common imports\n",
        "import numpy as np\n",
        "import os\n",
        "import pandas as pd\n",
        "import io\n",
        "\n",
        "from pathlib import Path\n",
        "\n",
        "# To plot pretty figures\n",
        "%matplotlib inline\n",
        "import matplotlib\n",
        "import matplotlib.pyplot as plt\n",
        "plt.rcParams['axes.labelsize'] = 14\n",
        "plt.rcParams['xtick.labelsize'] = 12\n",
        "plt.rcParams['ytick.labelsize'] = 12\n",
        "\n",
        "# Ignore useless warnings (see SciPy issue #5998)\n",
        "import warnings\n",
        "warnings.filterwarnings(action=\"ignore\", module=\"scipy\", message=\"^internal gelsd\")\n",
        "\n",
        "from IPython.display import display\n",
        "pd.options.display.max_columns = 50\n",
        "pd.options.display.html.table_schema = True"
      ],
      "execution_count": 0,
      "outputs": []
    },
    {
      "cell_type": "markdown",
      "metadata": {
        "id": "bfqOe4xP4gF-",
        "colab_type": "text"
      },
      "source": [
        "## Preprocessing"
      ]
    },
    {
      "cell_type": "code",
      "metadata": {
        "id": "G6NSrtET4gF_",
        "colab_type": "code",
        "colab": {
          "base_uri": "https://localhost:8080/",
          "height": 577
        },
        "outputId": "c2eff6e4-02b5-4648-ffdc-33404e4d86d7"
      },
      "source": [
        "#path = Path('datasets/stocks/mbb.csv')\n",
        "path = Path('mbb.csv')\n",
        "\n",
        "dataset = pd.read_csv(path, parse_dates=True)\n",
        "df = dataset.copy()\n",
        "df.rename(index=str, columns={\"Price\":\"Close\"}, inplace=True)\n",
        "df.head(10)\n",
        "\n",
        "# Convert the date column\n",
        "df['Date'] = pd.to_datetime(df['Date'])\n",
        "\n",
        "df.sort_values(by=['Date'], ascending=True, inplace=True)\n",
        "df.set_index(['Date'], inplace=True)    \n",
        "display(df.head(10))\n",
        "df.info()"
      ],
      "execution_count": 3,
      "outputs": [
        {
          "output_type": "display_data",
          "data": {
            "application/vnd.dataresource+json": {
              "data": [
                {
                  "Vol.": "12.92M",
                  "High": 9,
                  "Low": 8.69,
                  "Date": "2011-09-02T00:00:00.000Z",
                  "Close": 8.72,
                  "Open": 9,
                  "Change %": "0.00%"
                },
                {
                  "Vol.": "12.39M",
                  "High": 8.75,
                  "Low": 8.7,
                  "Date": "2011-09-05T00:00:00.000Z",
                  "Close": 8.73,
                  "Open": 8.72,
                  "Change %": "0.11%"
                },
                {
                  "Vol.": "11.48M",
                  "High": 8.72,
                  "Low": 8.68,
                  "Date": "2011-09-06T00:00:00.000Z",
                  "Close": 8.68,
                  "Open": 8.72,
                  "Change %": "-0.57%"
                },
                {
                  "Vol.": "5.73M",
                  "High": 8.7,
                  "Low": 8.64,
                  "Date": "2011-09-07T00:00:00.000Z",
                  "Close": 8.67,
                  "Open": 8.7,
                  "Change %": "-0.12%"
                },
                {
                  "Vol.": "4.69M",
                  "High": 8.74,
                  "Low": 8.67,
                  "Date": "2011-09-08T00:00:00.000Z",
                  "Close": 8.69,
                  "Open": 8.71,
                  "Change %": "0.23%"
                },
                {
                  "Vol.": "5.09M",
                  "High": 8.7,
                  "Low": 8.68,
                  "Date": "2011-09-09T00:00:00.000Z",
                  "Close": 8.69,
                  "Open": 8.7,
                  "Change %": "0.00%"
                },
                {
                  "Vol.": "8.59M",
                  "High": 8.68,
                  "Low": 8.55,
                  "Date": "2011-09-12T00:00:00.000Z",
                  "Close": 8.61,
                  "Open": 8.65,
                  "Change %": "-0.92%"
                },
                {
                  "Vol.": "3.62M",
                  "High": 8.61,
                  "Low": 8.55,
                  "Date": "2011-09-13T00:00:00.000Z",
                  "Close": 8.6,
                  "Open": 8.58,
                  "Change %": "-0.12%"
                },
                {
                  "Vol.": "10.24M",
                  "High": 8.64,
                  "Low": 8.57,
                  "Date": "2011-09-14T00:00:00.000Z",
                  "Close": 8.6,
                  "Open": 8.64,
                  "Change %": "0.00%"
                },
                {
                  "Vol.": "7.59M",
                  "High": 8.62,
                  "Low": 8.57,
                  "Date": "2011-09-15T00:00:00.000Z",
                  "Close": 8.59,
                  "Open": 8.62,
                  "Change %": "-0.12%"
                }
              ],
              "schema": {
                "fields": [
                  {
                    "type": "datetime",
                    "name": "Date"
                  },
                  {
                    "type": "number",
                    "name": "Close"
                  },
                  {
                    "type": "number",
                    "name": "Open"
                  },
                  {
                    "type": "number",
                    "name": "High"
                  },
                  {
                    "type": "number",
                    "name": "Low"
                  },
                  {
                    "type": "string",
                    "name": "Vol."
                  },
                  {
                    "type": "string",
                    "name": "Change %"
                  }
                ],
                "pandas_version": "0.20.0",
                "primaryKey": [
                  "Date"
                ]
              }
            },
            "text/html": [
              "<div>\n",
              "<style scoped>\n",
              "    .dataframe tbody tr th:only-of-type {\n",
              "        vertical-align: middle;\n",
              "    }\n",
              "\n",
              "    .dataframe tbody tr th {\n",
              "        vertical-align: top;\n",
              "    }\n",
              "\n",
              "    .dataframe thead th {\n",
              "        text-align: right;\n",
              "    }\n",
              "</style>\n",
              "<table border=\"1\" class=\"dataframe\">\n",
              "  <thead>\n",
              "    <tr style=\"text-align: right;\">\n",
              "      <th></th>\n",
              "      <th>Close</th>\n",
              "      <th>Open</th>\n",
              "      <th>High</th>\n",
              "      <th>Low</th>\n",
              "      <th>Vol.</th>\n",
              "      <th>Change %</th>\n",
              "    </tr>\n",
              "    <tr>\n",
              "      <th>Date</th>\n",
              "      <th></th>\n",
              "      <th></th>\n",
              "      <th></th>\n",
              "      <th></th>\n",
              "      <th></th>\n",
              "      <th></th>\n",
              "    </tr>\n",
              "  </thead>\n",
              "  <tbody>\n",
              "    <tr>\n",
              "      <th>2011-09-02</th>\n",
              "      <td>8.72</td>\n",
              "      <td>9.00</td>\n",
              "      <td>9.00</td>\n",
              "      <td>8.69</td>\n",
              "      <td>12.92M</td>\n",
              "      <td>0.00%</td>\n",
              "    </tr>\n",
              "    <tr>\n",
              "      <th>2011-09-05</th>\n",
              "      <td>8.73</td>\n",
              "      <td>8.72</td>\n",
              "      <td>8.75</td>\n",
              "      <td>8.70</td>\n",
              "      <td>12.39M</td>\n",
              "      <td>0.11%</td>\n",
              "    </tr>\n",
              "    <tr>\n",
              "      <th>2011-09-06</th>\n",
              "      <td>8.68</td>\n",
              "      <td>8.72</td>\n",
              "      <td>8.72</td>\n",
              "      <td>8.68</td>\n",
              "      <td>11.48M</td>\n",
              "      <td>-0.57%</td>\n",
              "    </tr>\n",
              "    <tr>\n",
              "      <th>2011-09-07</th>\n",
              "      <td>8.67</td>\n",
              "      <td>8.70</td>\n",
              "      <td>8.70</td>\n",
              "      <td>8.64</td>\n",
              "      <td>5.73M</td>\n",
              "      <td>-0.12%</td>\n",
              "    </tr>\n",
              "    <tr>\n",
              "      <th>2011-09-08</th>\n",
              "      <td>8.69</td>\n",
              "      <td>8.71</td>\n",
              "      <td>8.74</td>\n",
              "      <td>8.67</td>\n",
              "      <td>4.69M</td>\n",
              "      <td>0.23%</td>\n",
              "    </tr>\n",
              "    <tr>\n",
              "      <th>2011-09-09</th>\n",
              "      <td>8.69</td>\n",
              "      <td>8.70</td>\n",
              "      <td>8.70</td>\n",
              "      <td>8.68</td>\n",
              "      <td>5.09M</td>\n",
              "      <td>0.00%</td>\n",
              "    </tr>\n",
              "    <tr>\n",
              "      <th>2011-09-12</th>\n",
              "      <td>8.61</td>\n",
              "      <td>8.65</td>\n",
              "      <td>8.68</td>\n",
              "      <td>8.55</td>\n",
              "      <td>8.59M</td>\n",
              "      <td>-0.92%</td>\n",
              "    </tr>\n",
              "    <tr>\n",
              "      <th>2011-09-13</th>\n",
              "      <td>8.60</td>\n",
              "      <td>8.58</td>\n",
              "      <td>8.61</td>\n",
              "      <td>8.55</td>\n",
              "      <td>3.62M</td>\n",
              "      <td>-0.12%</td>\n",
              "    </tr>\n",
              "    <tr>\n",
              "      <th>2011-09-14</th>\n",
              "      <td>8.60</td>\n",
              "      <td>8.64</td>\n",
              "      <td>8.64</td>\n",
              "      <td>8.57</td>\n",
              "      <td>10.24M</td>\n",
              "      <td>0.00%</td>\n",
              "    </tr>\n",
              "    <tr>\n",
              "      <th>2011-09-15</th>\n",
              "      <td>8.59</td>\n",
              "      <td>8.62</td>\n",
              "      <td>8.62</td>\n",
              "      <td>8.57</td>\n",
              "      <td>7.59M</td>\n",
              "      <td>-0.12%</td>\n",
              "    </tr>\n",
              "  </tbody>\n",
              "</table>\n",
              "</div>"
            ],
            "text/plain": [
              "            Close  Open  High   Low    Vol. Change %\n",
              "Date                                                \n",
              "2011-09-02   8.72  9.00  9.00  8.69  12.92M    0.00%\n",
              "2011-09-05   8.73  8.72  8.75  8.70  12.39M    0.11%\n",
              "2011-09-06   8.68  8.72  8.72  8.68  11.48M   -0.57%\n",
              "2011-09-07   8.67  8.70  8.70  8.64   5.73M   -0.12%\n",
              "2011-09-08   8.69  8.71  8.74  8.67   4.69M    0.23%\n",
              "2011-09-09   8.69  8.70  8.70  8.68   5.09M    0.00%\n",
              "2011-09-12   8.61  8.65  8.68  8.55   8.59M   -0.92%\n",
              "2011-09-13   8.60  8.58  8.61  8.55   3.62M   -0.12%\n",
              "2011-09-14   8.60  8.64  8.64  8.57  10.24M    0.00%\n",
              "2011-09-15   8.59  8.62  8.62  8.57   7.59M   -0.12%"
            ]
          },
          "metadata": {
            "tags": []
          }
        },
        {
          "output_type": "stream",
          "text": [
            "<class 'pandas.core.frame.DataFrame'>\n",
            "DatetimeIndex: 1893 entries, 2011-09-02 to 2019-05-24\n",
            "Data columns (total 6 columns):\n",
            "Close       1893 non-null float64\n",
            "Open        1893 non-null float64\n",
            "High        1893 non-null float64\n",
            "Low         1893 non-null float64\n",
            "Vol.        1893 non-null object\n",
            "Change %    1893 non-null object\n",
            "dtypes: float64(4), object(2)\n",
            "memory usage: 103.5+ KB\n"
          ],
          "name": "stdout"
        }
      ]
    },
    {
      "cell_type": "code",
      "metadata": {
        "id": "lDcEpZeZ4gGG",
        "colab_type": "code",
        "colab": {
          "base_uri": "https://localhost:8080/",
          "height": 136
        },
        "outputId": "81d3764b-c38b-4e81-9a79-8d0603b0f204"
      },
      "source": [
        "df.isna().any()"
      ],
      "execution_count": 4,
      "outputs": [
        {
          "output_type": "execute_result",
          "data": {
            "application/vnd.dataresource+json": {
              "data": [
                {
                  "index": "Close",
                  "values": false
                },
                {
                  "index": "Open",
                  "values": false
                },
                {
                  "index": "High",
                  "values": false
                },
                {
                  "index": "Low",
                  "values": false
                },
                {
                  "index": "Vol.",
                  "values": false
                },
                {
                  "index": "Change %",
                  "values": false
                }
              ],
              "schema": {
                "fields": [
                  {
                    "type": "string",
                    "name": "index"
                  },
                  {
                    "type": "boolean",
                    "name": "values"
                  }
                ],
                "pandas_version": "0.20.0",
                "primaryKey": [
                  "index"
                ]
              }
            },
            "text/plain": [
              "Close       False\n",
              "Open        False\n",
              "High        False\n",
              "Low         False\n",
              "Vol.        False\n",
              "Change %    False\n",
              "dtype: bool"
            ]
          },
          "metadata": {
            "tags": []
          },
          "execution_count": 4
        }
      ]
    },
    {
      "cell_type": "code",
      "metadata": {
        "id": "5P6UXHBJ4gGM",
        "colab_type": "code",
        "colab": {
          "base_uri": "https://localhost:8080/",
          "height": 397
        },
        "outputId": "5b89346a-1d2a-4674-ab93-0cda970958f2"
      },
      "source": [
        "df['Open'].plot(figsize=(16,6))"
      ],
      "execution_count": 5,
      "outputs": [
        {
          "output_type": "execute_result",
          "data": {
            "text/plain": [
              "<matplotlib.axes._subplots.AxesSubplot at 0x7f74c11a7b38>"
            ]
          },
          "metadata": {
            "tags": []
          },
          "execution_count": 5
        },
        {
          "output_type": "display_data",
          "data": {
            "image/png": "[encoded data removed]",
            "text/plain": [
              "<Figure size 1152x432 with 1 Axes>"
            ]
          },
          "metadata": {
            "tags": []
          }
        }
      ]
    },
    {
      "cell_type": "markdown",
      "metadata": {
        "id": "yA0J5UwP4gGQ",
        "colab_type": "text"
      },
      "source": [
        "### 7 days rolling means"
      ]
    },
    {
      "cell_type": "code",
      "metadata": {
        "id": "EBsc1LWz4gGR",
        "colab_type": "code",
        "colab": {
          "base_uri": "https://localhost:8080/",
          "height": 328
        },
        "outputId": "1c99d056-4a47-4301-d3bf-0e368691d855"
      },
      "source": [
        "df = df[['Close', 'Open', 'High', 'Low']]\n",
        "df.rolling(7).mean().head(8)"
      ],
      "execution_count": 6,
      "outputs": [
        {
          "output_type": "execute_result",
          "data": {
            "application/vnd.dataresource+json": {
              "data": [
                {
                  "Date": "2011-09-02T00:00:00.000Z",
                  "Close": null,
                  "Open": null,
                  "High": null,
                  "Low": null
                },
                {
                  "Date": "2011-09-05T00:00:00.000Z",
                  "Close": null,
                  "Open": null,
                  "High": null,
                  "Low": null
                },
                {
                  "Date": "2011-09-06T00:00:00.000Z",
                  "Close": null,
                  "Open": null,
                  "High": null,
                  "Low": null
                },
                {
                  "Date": "2011-09-07T00:00:00.000Z",
                  "Close": null,
                  "Open": null,
                  "High": null,
                  "Low": null
                },
                {
                  "Date": "2011-09-08T00:00:00.000Z",
                  "Close": null,
                  "Open": null,
                  "High": null,
                  "Low": null
                },
                {
                  "Date": "2011-09-09T00:00:00.000Z",
                  "Close": null,
                  "Open": null,
                  "High": null,
                  "Low": null
                },
                {
                  "Date": "2011-09-12T00:00:00.000Z",
                  "Close": 8.6842857143,
                  "Open": 8.7428571429,
                  "High": 8.7557142857,
                  "Low": 8.6585714286
                },
                {
                  "Date": "2011-09-13T00:00:00.000Z",
                  "Close": 8.6671428571,
                  "Open": 8.6828571429,
                  "High": 8.7,
                  "Low": 8.6385714286
                }
              ],
              "schema": {
                "fields": [
                  {
                    "type": "datetime",
                    "name": "Date"
                  },
                  {
                    "type": "number",
                    "name": "Close"
                  },
                  {
                    "type": "number",
                    "name": "Open"
                  },
                  {
                    "type": "number",
                    "name": "High"
                  },
                  {
                    "type": "number",
                    "name": "Low"
                  }
                ],
                "pandas_version": "0.20.0",
                "primaryKey": [
                  "Date"
                ]
              }
            },
            "text/html": [
              "<div>\n",
              "<style scoped>\n",
              "    .dataframe tbody tr th:only-of-type {\n",
              "        vertical-align: middle;\n",
              "    }\n",
              "\n",
              "    .dataframe tbody tr th {\n",
              "        vertical-align: top;\n",
              "    }\n",
              "\n",
              "    .dataframe thead th {\n",
              "        text-align: right;\n",
              "    }\n",
              "</style>\n",
              "<table border=\"1\" class=\"dataframe\">\n",
              "  <thead>\n",
              "    <tr style=\"text-align: right;\">\n",
              "      <th></th>\n",
              "      <th>Close</th>\n",
              "      <th>Open</th>\n",
              "      <th>High</th>\n",
              "      <th>Low</th>\n",
              "    </tr>\n",
              "    <tr>\n",
              "      <th>Date</th>\n",
              "      <th></th>\n",
              "      <th></th>\n",
              "      <th></th>\n",
              "      <th></th>\n",
              "    </tr>\n",
              "  </thead>\n",
              "  <tbody>\n",
              "    <tr>\n",
              "      <th>2011-09-02</th>\n",
              "      <td>NaN</td>\n",
              "      <td>NaN</td>\n",
              "      <td>NaN</td>\n",
              "      <td>NaN</td>\n",
              "    </tr>\n",
              "    <tr>\n",
              "      <th>2011-09-05</th>\n",
              "      <td>NaN</td>\n",
              "      <td>NaN</td>\n",
              "      <td>NaN</td>\n",
              "      <td>NaN</td>\n",
              "    </tr>\n",
              "    <tr>\n",
              "      <th>2011-09-06</th>\n",
              "      <td>NaN</td>\n",
              "      <td>NaN</td>\n",
              "      <td>NaN</td>\n",
              "      <td>NaN</td>\n",
              "    </tr>\n",
              "    <tr>\n",
              "      <th>2011-09-07</th>\n",
              "      <td>NaN</td>\n",
              "      <td>NaN</td>\n",
              "      <td>NaN</td>\n",
              "      <td>NaN</td>\n",
              "    </tr>\n",
              "    <tr>\n",
              "      <th>2011-09-08</th>\n",
              "      <td>NaN</td>\n",
              "      <td>NaN</td>\n",
              "      <td>NaN</td>\n",
              "      <td>NaN</td>\n",
              "    </tr>\n",
              "    <tr>\n",
              "      <th>2011-09-09</th>\n",
              "      <td>NaN</td>\n",
              "      <td>NaN</td>\n",
              "      <td>NaN</td>\n",
              "      <td>NaN</td>\n",
              "    </tr>\n",
              "    <tr>\n",
              "      <th>2011-09-12</th>\n",
              "      <td>8.684286</td>\n",
              "      <td>8.742857</td>\n",
              "      <td>8.755714</td>\n",
              "      <td>8.658571</td>\n",
              "    </tr>\n",
              "    <tr>\n",
              "      <th>2011-09-13</th>\n",
              "      <td>8.667143</td>\n",
              "      <td>8.682857</td>\n",
              "      <td>8.700000</td>\n",
              "      <td>8.638571</td>\n",
              "    </tr>\n",
              "  </tbody>\n",
              "</table>\n",
              "</div>"
            ],
            "text/plain": [
              "               Close      Open      High       Low\n",
              "Date                                              \n",
              "2011-09-02       NaN       NaN       NaN       NaN\n",
              "2011-09-05       NaN       NaN       NaN       NaN\n",
              "2011-09-06       NaN       NaN       NaN       NaN\n",
              "2011-09-07       NaN       NaN       NaN       NaN\n",
              "2011-09-08       NaN       NaN       NaN       NaN\n",
              "2011-09-09       NaN       NaN       NaN       NaN\n",
              "2011-09-12  8.684286  8.742857  8.755714  8.658571\n",
              "2011-09-13  8.667143  8.682857  8.700000  8.638571"
            ]
          },
          "metadata": {
            "tags": []
          },
          "execution_count": 6
        }
      ]
    },
    {
      "cell_type": "code",
      "metadata": {
        "id": "lWbMvESS4gGV",
        "colab_type": "code",
        "colab": {
          "base_uri": "https://localhost:8080/",
          "height": 173
        },
        "outputId": "ecafd22a-e1dc-4ec0-bea8-80e64bb6cdf1"
      },
      "source": [
        "df.head(3)"
      ],
      "execution_count": 7,
      "outputs": [
        {
          "output_type": "execute_result",
          "data": {
            "application/vnd.dataresource+json": {
              "data": [
                {
                  "Date": "2011-09-02T00:00:00.000Z",
                  "Close": 8.72,
                  "Open": 9,
                  "High": 9,
                  "Low": 8.69
                },
                {
                  "Date": "2011-09-05T00:00:00.000Z",
                  "Close": 8.73,
                  "Open": 8.72,
                  "High": 8.75,
                  "Low": 8.7
                },
                {
                  "Date": "2011-09-06T00:00:00.000Z",
                  "Close": 8.68,
                  "Open": 8.72,
                  "High": 8.72,
                  "Low": 8.68
                }
              ],
              "schema": {
                "fields": [
                  {
                    "type": "datetime",
                    "name": "Date"
                  },
                  {
                    "type": "number",
                    "name": "Close"
                  },
                  {
                    "type": "number",
                    "name": "Open"
                  },
                  {
                    "type": "number",
                    "name": "High"
                  },
                  {
                    "type": "number",
                    "name": "Low"
                  }
                ],
                "pandas_version": "0.20.0",
                "primaryKey": [
                  "Date"
                ]
              }
            },
            "text/html": [
              "<div>\n",
              "<style scoped>\n",
              "    .dataframe tbody tr th:only-of-type {\n",
              "        vertical-align: middle;\n",
              "    }\n",
              "\n",
              "    .dataframe tbody tr th {\n",
              "        vertical-align: top;\n",
              "    }\n",
              "\n",
              "    .dataframe thead th {\n",
              "        text-align: right;\n",
              "    }\n",
              "</style>\n",
              "<table border=\"1\" class=\"dataframe\">\n",
              "  <thead>\n",
              "    <tr style=\"text-align: right;\">\n",
              "      <th></th>\n",
              "      <th>Close</th>\n",
              "      <th>Open</th>\n",
              "      <th>High</th>\n",
              "      <th>Low</th>\n",
              "    </tr>\n",
              "    <tr>\n",
              "      <th>Date</th>\n",
              "      <th></th>\n",
              "      <th></th>\n",
              "      <th></th>\n",
              "      <th></th>\n",
              "    </tr>\n",
              "  </thead>\n",
              "  <tbody>\n",
              "    <tr>\n",
              "      <th>2011-09-02</th>\n",
              "      <td>8.72</td>\n",
              "      <td>9.00</td>\n",
              "      <td>9.00</td>\n",
              "      <td>8.69</td>\n",
              "    </tr>\n",
              "    <tr>\n",
              "      <th>2011-09-05</th>\n",
              "      <td>8.73</td>\n",
              "      <td>8.72</td>\n",
              "      <td>8.75</td>\n",
              "      <td>8.70</td>\n",
              "    </tr>\n",
              "    <tr>\n",
              "      <th>2011-09-06</th>\n",
              "      <td>8.68</td>\n",
              "      <td>8.72</td>\n",
              "      <td>8.72</td>\n",
              "      <td>8.68</td>\n",
              "    </tr>\n",
              "  </tbody>\n",
              "</table>\n",
              "</div>"
            ],
            "text/plain": [
              "            Close  Open  High   Low\n",
              "Date                               \n",
              "2011-09-02   8.72  9.00  9.00  8.69\n",
              "2011-09-05   8.73  8.72  8.75  8.70\n",
              "2011-09-06   8.68  8.72  8.72  8.68"
            ]
          },
          "metadata": {
            "tags": []
          },
          "execution_count": 7
        }
      ]
    },
    {
      "cell_type": "code",
      "metadata": {
        "id": "ec4n4zIS4gGb",
        "colab_type": "code",
        "colab": {
          "base_uri": "https://localhost:8080/",
          "height": 397
        },
        "outputId": "2a49a0e7-fee9-450f-feb2-ad9f40e88d8b"
      },
      "source": [
        "# Open vs Close 30 days mean\n",
        "df['Close 30 Days Mean'] = df['Close'].rolling(window=30).mean()\n",
        "df[['Open', 'Close 30 Days Mean']].plot(figsize=(16,6))\n",
        "#df.rolling(window=30).mean()['Close'].plot()"
      ],
      "execution_count": 8,
      "outputs": [
        {
          "output_type": "execute_result",
          "data": {
            "text/plain": [
              "<matplotlib.axes._subplots.AxesSubplot at 0x7f74c07ecc18>"
            ]
          },
          "metadata": {
            "tags": []
          },
          "execution_count": 8
        },
        {
          "output_type": "display_data",
          "data": {
            "image/png": "[encoded data removed]",
            "text/plain": [
              "<Figure size 1152x432 with 1 Axes>"
            ]
          },
          "metadata": {
            "tags": []
          }
        }
      ]
    },
    {
      "cell_type": "code",
      "metadata": {
        "id": "mQzrkYqJ4gGg",
        "colab_type": "code",
        "colab": {
          "base_uri": "https://localhost:8080/",
          "height": 397
        },
        "outputId": "fb56b129-588f-4266-b102-2b373024e00d"
      },
      "source": [
        "# df['Close: 30 Day Mean'] = df['Price'].rolling(window=30).mean()\n",
        "df[['Close','Close 30 Days Mean']].plot(figsize=(16,6))"
      ],
      "execution_count": 9,
      "outputs": [
        {
          "output_type": "execute_result",
          "data": {
            "text/plain": [
              "<matplotlib.axes._subplots.AxesSubplot at 0x7f74c0822828>"
            ]
          },
          "metadata": {
            "tags": []
          },
          "execution_count": 9
        },
        {
          "output_type": "display_data",
          "data": {
            "image/png": "[encoded data removed]",
            "text/plain": [
              "<Figure size 1152x432 with 1 Axes>"
            ]
          },
          "metadata": {
            "tags": []
          }
        }
      ]
    },
    {
      "cell_type": "markdown",
      "metadata": {
        "id": "3cDFPJtC4gGm",
        "colab_type": "text"
      },
      "source": [
        "### Expanding"
      ]
    },
    {
      "cell_type": "code",
      "metadata": {
        "id": "igi21g0m4gGn",
        "colab_type": "code",
        "colab": {
          "base_uri": "https://localhost:8080/",
          "height": 397
        },
        "outputId": "434bd8e5-7541-4bff-ab1c-0ea59439d72b"
      },
      "source": [
        "# Optional specify a minimum number of periods\n",
        "df['Close'].expanding(min_periods=1).mean().plot(figsize=(16,6))"
      ],
      "execution_count": 10,
      "outputs": [
        {
          "output_type": "execute_result",
          "data": {
            "text/plain": [
              "<matplotlib.axes._subplots.AxesSubplot at 0x7f74bc6927f0>"
            ]
          },
          "metadata": {
            "tags": []
          },
          "execution_count": 10
        },
        {
          "output_type": "display_data",
          "data": {
            "image/png": "[encoded data removed]",
            "text/plain": [
              "<Figure size 1152x432 with 1 Axes>"
            ]
          },
          "metadata": {
            "tags": []
          }
        }
      ]
    },
    {
      "cell_type": "markdown",
      "metadata": {
        "id": "ATagRPb74gGs",
        "colab_type": "text"
      },
      "source": [
        "### Group into X days prices"
      ]
    },
    {
      "cell_type": "code",
      "metadata": {
        "id": "-WvxuZSJ4gGu",
        "colab_type": "code",
        "colab": {
          "base_uri": "https://localhost:8080/",
          "height": 204
        },
        "outputId": "3c119b57-f7c3-4c30-cf14-fa7546f5318e"
      },
      "source": [
        "df_temp = df.copy()\n",
        "df_temp.reset_index(inplace=True)\n",
        "number_of_days = 5\n",
        "df_temp.head(5)"
      ],
      "execution_count": 11,
      "outputs": [
        {
          "output_type": "execute_result",
          "data": {
            "application/vnd.dataresource+json": {
              "data": [
                {
                  "index": 0,
                  "Close 30 Days Mean": null,
                  "High": 9,
                  "Low": 8.69,
                  "Date": "2011-09-02T00:00:00.000Z",
                  "Close": 8.72,
                  "Open": 9
                },
                {
                  "index": 1,
                  "Close 30 Days Mean": null,
                  "High": 8.75,
                  "Low": 8.7,
                  "Date": "2011-09-05T00:00:00.000Z",
                  "Close": 8.73,
                  "Open": 8.72
                },
                {
                  "index": 2,
                  "Close 30 Days Mean": null,
                  "High": 8.72,
                  "Low": 8.68,
                  "Date": "2011-09-06T00:00:00.000Z",
                  "Close": 8.68,
                  "Open": 8.72
                },
                {
                  "index": 3,
                  "Close 30 Days Mean": null,
                  "High": 8.7,
                  "Low": 8.64,
                  "Date": "2011-09-07T00:00:00.000Z",
                  "Close": 8.67,
                  "Open": 8.7
                },
                {
                  "index": 4,
                  "Close 30 Days Mean": null,
                  "High": 8.74,
                  "Low": 8.67,
                  "Date": "2011-09-08T00:00:00.000Z",
                  "Close": 8.69,
                  "Open": 8.71
                }
              ],
              "schema": {
                "fields": [
                  {
                    "type": "integer",
                    "name": "index"
                  },
                  {
                    "type": "datetime",
                    "name": "Date"
                  },
                  {
                    "type": "number",
                    "name": "Close"
                  },
                  {
                    "type": "number",
                    "name": "Open"
                  },
                  {
                    "type": "number",
                    "name": "High"
                  },
                  {
                    "type": "number",
                    "name": "Low"
                  },
                  {
                    "type": "number",
                    "name": "Close 30 Days Mean"
                  }
                ],
                "pandas_version": "0.20.0",
                "primaryKey": [
                  "index"
                ]
              }
            },
            "text/html": [
              "<div>\n",
              "<style scoped>\n",
              "    .dataframe tbody tr th:only-of-type {\n",
              "        vertical-align: middle;\n",
              "    }\n",
              "\n",
              "    .dataframe tbody tr th {\n",
              "        vertical-align: top;\n",
              "    }\n",
              "\n",
              "    .dataframe thead th {\n",
              "        text-align: right;\n",
              "    }\n",
              "</style>\n",
              "<table border=\"1\" class=\"dataframe\">\n",
              "  <thead>\n",
              "    <tr style=\"text-align: right;\">\n",
              "      <th></th>\n",
              "      <th>Date</th>\n",
              "      <th>Close</th>\n",
              "      <th>Open</th>\n",
              "      <th>High</th>\n",
              "      <th>Low</th>\n",
              "      <th>Close 30 Days Mean</th>\n",
              "    </tr>\n",
              "  </thead>\n",
              "  <tbody>\n",
              "    <tr>\n",
              "      <th>0</th>\n",
              "      <td>2011-09-02</td>\n",
              "      <td>8.72</td>\n",
              "      <td>9.00</td>\n",
              "      <td>9.00</td>\n",
              "      <td>8.69</td>\n",
              "      <td>NaN</td>\n",
              "    </tr>\n",
              "    <tr>\n",
              "      <th>1</th>\n",
              "      <td>2011-09-05</td>\n",
              "      <td>8.73</td>\n",
              "      <td>8.72</td>\n",
              "      <td>8.75</td>\n",
              "      <td>8.70</td>\n",
              "      <td>NaN</td>\n",
              "    </tr>\n",
              "    <tr>\n",
              "      <th>2</th>\n",
              "      <td>2011-09-06</td>\n",
              "      <td>8.68</td>\n",
              "      <td>8.72</td>\n",
              "      <td>8.72</td>\n",
              "      <td>8.68</td>\n",
              "      <td>NaN</td>\n",
              "    </tr>\n",
              "    <tr>\n",
              "      <th>3</th>\n",
              "      <td>2011-09-07</td>\n",
              "      <td>8.67</td>\n",
              "      <td>8.70</td>\n",
              "      <td>8.70</td>\n",
              "      <td>8.64</td>\n",
              "      <td>NaN</td>\n",
              "    </tr>\n",
              "    <tr>\n",
              "      <th>4</th>\n",
              "      <td>2011-09-08</td>\n",
              "      <td>8.69</td>\n",
              "      <td>8.71</td>\n",
              "      <td>8.74</td>\n",
              "      <td>8.67</td>\n",
              "      <td>NaN</td>\n",
              "    </tr>\n",
              "  </tbody>\n",
              "</table>\n",
              "</div>"
            ],
            "text/plain": [
              "        Date  Close  Open  High   Low  Close 30 Days Mean\n",
              "0 2011-09-02   8.72  9.00  9.00  8.69                 NaN\n",
              "1 2011-09-05   8.73  8.72  8.75  8.70                 NaN\n",
              "2 2011-09-06   8.68  8.72  8.72  8.68                 NaN\n",
              "3 2011-09-07   8.67  8.70  8.70  8.64                 NaN\n",
              "4 2011-09-08   8.69  8.71  8.74  8.67                 NaN"
            ]
          },
          "metadata": {
            "tags": []
          },
          "execution_count": 11
        }
      ]
    },
    {
      "cell_type": "code",
      "metadata": {
        "id": "Xb1VUqVU4gHN",
        "colab_type": "code",
        "colab": {
          "base_uri": "https://localhost:8080/",
          "height": 766
        },
        "outputId": "04dc8e5f-4829-4be8-a29d-33fce7993c7a"
      },
      "source": [
        "df_temp['GroupId'] = df_temp.index\n",
        "df_temp['GroupId'] = df_temp.apply(lambda x: df_temp['GroupId'] // number_of_days)\n",
        "df_grouped_mean = df_temp.groupby(['GroupId'], as_index=False).mean()\n",
        "display(df.head(10), len(df))\n",
        "display(df_grouped_mean.head(10), len(df_grouped_mean))"
      ],
      "execution_count": 12,
      "outputs": [
        {
          "output_type": "display_data",
          "data": {
            "application/vnd.dataresource+json": {
              "data": [
                {
                  "Close 30 Days Mean": null,
                  "High": 9,
                  "Low": 8.69,
                  "Date": "2011-09-02T00:00:00.000Z",
                  "Close": 8.72,
                  "Open": 9
                },
                {
                  "Close 30 Days Mean": null,
                  "High": 8.75,
                  "Low": 8.7,
                  "Date": "2011-09-05T00:00:00.000Z",
                  "Close": 8.73,
                  "Open": 8.72
                },
                {
                  "Close 30 Days Mean": null,
                  "High": 8.72,
                  "Low": 8.68,
                  "Date": "2011-09-06T00:00:00.000Z",
                  "Close": 8.68,
                  "Open": 8.72
                },
                {
                  "Close 30 Days Mean": null,
                  "High": 8.7,
                  "Low": 8.64,
                  "Date": "2011-09-07T00:00:00.000Z",
                  "Close": 8.67,
                  "Open": 8.7
                },
                {
                  "Close 30 Days Mean": null,
                  "High": 8.74,
                  "Low": 8.67,
                  "Date": "2011-09-08T00:00:00.000Z",
                  "Close": 8.69,
                  "Open": 8.71
                },
                {
                  "Close 30 Days Mean": null,
                  "High": 8.7,
                  "Low": 8.68,
                  "Date": "2011-09-09T00:00:00.000Z",
                  "Close": 8.69,
                  "Open": 8.7
                },
                {
                  "Close 30 Days Mean": null,
                  "High": 8.68,
                  "Low": 8.55,
                  "Date": "2011-09-12T00:00:00.000Z",
                  "Close": 8.61,
                  "Open": 8.65
                },
                {
                  "Close 30 Days Mean": null,
                  "High": 8.61,
                  "Low": 8.55,
                  "Date": "2011-09-13T00:00:00.000Z",
                  "Close": 8.6,
                  "Open": 8.58
                },
                {
                  "Close 30 Days Mean": null,
                  "High": 8.64,
                  "Low": 8.57,
                  "Date": "2011-09-14T00:00:00.000Z",
                  "Close": 8.6,
                  "Open": 8.64
                },
                {
                  "Close 30 Days Mean": null,
                  "High": 8.62,
                  "Low": 8.57,
                  "Date": "2011-09-15T00:00:00.000Z",
                  "Close": 8.59,
                  "Open": 8.62
                }
              ],
              "schema": {
                "fields": [
                  {
                    "type": "datetime",
                    "name": "Date"
                  },
                  {
                    "type": "number",
                    "name": "Close"
                  },
                  {
                    "type": "number",
                    "name": "Open"
                  },
                  {
                    "type": "number",
                    "name": "High"
                  },
                  {
                    "type": "number",
                    "name": "Low"
                  },
                  {
                    "type": "number",
                    "name": "Close 30 Days Mean"
                  }
                ],
                "pandas_version": "0.20.0",
                "primaryKey": [
                  "Date"
                ]
              }
            },
            "text/html": [
              "<div>\n",
              "<style scoped>\n",
              "    .dataframe tbody tr th:only-of-type {\n",
              "        vertical-align: middle;\n",
              "    }\n",
              "\n",
              "    .dataframe tbody tr th {\n",
              "        vertical-align: top;\n",
              "    }\n",
              "\n",
              "    .dataframe thead th {\n",
              "        text-align: right;\n",
              "    }\n",
              "</style>\n",
              "<table border=\"1\" class=\"dataframe\">\n",
              "  <thead>\n",
              "    <tr style=\"text-align: right;\">\n",
              "      <th></th>\n",
              "      <th>Close</th>\n",
              "      <th>Open</th>\n",
              "      <th>High</th>\n",
              "      <th>Low</th>\n",
              "      <th>Close 30 Days Mean</th>\n",
              "    </tr>\n",
              "    <tr>\n",
              "      <th>Date</th>\n",
              "      <th></th>\n",
              "      <th></th>\n",
              "      <th></th>\n",
              "      <th></th>\n",
              "      <th></th>\n",
              "    </tr>\n",
              "  </thead>\n",
              "  <tbody>\n",
              "    <tr>\n",
              "      <th>2011-09-02</th>\n",
              "      <td>8.72</td>\n",
              "      <td>9.00</td>\n",
              "      <td>9.00</td>\n",
              "      <td>8.69</td>\n",
              "      <td>NaN</td>\n",
              "    </tr>\n",
              "    <tr>\n",
              "      <th>2011-09-05</th>\n",
              "      <td>8.73</td>\n",
              "      <td>8.72</td>\n",
              "      <td>8.75</td>\n",
              "      <td>8.70</td>\n",
              "      <td>NaN</td>\n",
              "    </tr>\n",
              "    <tr>\n",
              "      <th>2011-09-06</th>\n",
              "      <td>8.68</td>\n",
              "      <td>8.72</td>\n",
              "      <td>8.72</td>\n",
              "      <td>8.68</td>\n",
              "      <td>NaN</td>\n",
              "    </tr>\n",
              "    <tr>\n",
              "      <th>2011-09-07</th>\n",
              "      <td>8.67</td>\n",
              "      <td>8.70</td>\n",
              "      <td>8.70</td>\n",
              "      <td>8.64</td>\n",
              "      <td>NaN</td>\n",
              "    </tr>\n",
              "    <tr>\n",
              "      <th>2011-09-08</th>\n",
              "      <td>8.69</td>\n",
              "      <td>8.71</td>\n",
              "      <td>8.74</td>\n",
              "      <td>8.67</td>\n",
              "      <td>NaN</td>\n",
              "    </tr>\n",
              "    <tr>\n",
              "      <th>2011-09-09</th>\n",
              "      <td>8.69</td>\n",
              "      <td>8.70</td>\n",
              "      <td>8.70</td>\n",
              "      <td>8.68</td>\n",
              "      <td>NaN</td>\n",
              "    </tr>\n",
              "    <tr>\n",
              "      <th>2011-09-12</th>\n",
              "      <td>8.61</td>\n",
              "      <td>8.65</td>\n",
              "      <td>8.68</td>\n",
              "      <td>8.55</td>\n",
              "      <td>NaN</td>\n",
              "    </tr>\n",
              "    <tr>\n",
              "      <th>2011-09-13</th>\n",
              "      <td>8.60</td>\n",
              "      <td>8.58</td>\n",
              "      <td>8.61</td>\n",
              "      <td>8.55</td>\n",
              "      <td>NaN</td>\n",
              "    </tr>\n",
              "    <tr>\n",
              "      <th>2011-09-14</th>\n",
              "      <td>8.60</td>\n",
              "      <td>8.64</td>\n",
              "      <td>8.64</td>\n",
              "      <td>8.57</td>\n",
              "      <td>NaN</td>\n",
              "    </tr>\n",
              "    <tr>\n",
              "      <th>2011-09-15</th>\n",
              "      <td>8.59</td>\n",
              "      <td>8.62</td>\n",
              "      <td>8.62</td>\n",
              "      <td>8.57</td>\n",
              "      <td>NaN</td>\n",
              "    </tr>\n",
              "  </tbody>\n",
              "</table>\n",
              "</div>"
            ],
            "text/plain": [
              "            Close  Open  High   Low  Close 30 Days Mean\n",
              "Date                                                   \n",
              "2011-09-02   8.72  9.00  9.00  8.69                 NaN\n",
              "2011-09-05   8.73  8.72  8.75  8.70                 NaN\n",
              "2011-09-06   8.68  8.72  8.72  8.68                 NaN\n",
              "2011-09-07   8.67  8.70  8.70  8.64                 NaN\n",
              "2011-09-08   8.69  8.71  8.74  8.67                 NaN\n",
              "2011-09-09   8.69  8.70  8.70  8.68                 NaN\n",
              "2011-09-12   8.61  8.65  8.68  8.55                 NaN\n",
              "2011-09-13   8.60  8.58  8.61  8.55                 NaN\n",
              "2011-09-14   8.60  8.64  8.64  8.57                 NaN\n",
              "2011-09-15   8.59  8.62  8.62  8.57                 NaN"
            ]
          },
          "metadata": {
            "tags": []
          }
        },
        {
          "output_type": "display_data",
          "data": {
            "text/plain": [
              "1893"
            ]
          },
          "metadata": {
            "tags": []
          }
        },
        {
          "output_type": "display_data",
          "data": {
            "application/vnd.dataresource+json": {
              "data": [
                {
                  "index": 0,
                  "Close 30 Days Mean": null,
                  "High": 8.782,
                  "Low": 8.676,
                  "Close": 8.698,
                  "Open": 8.77,
                  "GroupId": 0
                },
                {
                  "index": 1,
                  "Close 30 Days Mean": null,
                  "High": 8.65,
                  "Low": 8.584,
                  "Close": 8.618,
                  "Open": 8.638,
                  "GroupId": 1
                },
                {
                  "index": 2,
                  "Close 30 Days Mean": null,
                  "High": 8.526,
                  "Low": 8.352,
                  "Close": 8.408,
                  "Open": 8.508,
                  "GroupId": 2
                },
                {
                  "index": 3,
                  "Close 30 Days Mean": null,
                  "High": 7.996,
                  "Low": 7.698,
                  "Close": 7.866,
                  "Open": 7.856,
                  "GroupId": 3
                },
                {
                  "index": 4,
                  "Close 30 Days Mean": null,
                  "High": 8.086,
                  "Low": 7.906,
                  "Close": 8.03,
                  "Open": 7.972,
                  "GroupId": 4
                },
                {
                  "index": 5,
                  "Close 30 Days Mean": 8.3133333333,
                  "High": 8.3,
                  "Low": 8.212,
                  "Close": 8.26,
                  "Open": 8.256,
                  "GroupId": 5
                },
                {
                  "index": 6,
                  "Close 30 Days Mean": 8.269,
                  "High": 8.3,
                  "Low": 8.218,
                  "Close": 8.254,
                  "Open": 8.272,
                  "GroupId": 6
                },
                {
                  "index": 7,
                  "Close 30 Days Mean": 8.2045333333,
                  "High": 8.358,
                  "Low": 8.278,
                  "Close": 8.304,
                  "Open": 8.318,
                  "GroupId": 7
                },
                {
                  "index": 8,
                  "Close 30 Days Mean": 8.1664666667,
                  "High": 8.338,
                  "Low": 8.232,
                  "Close": 8.264,
                  "Open": 8.33,
                  "GroupId": 8
                },
                {
                  "index": 9,
                  "Close 30 Days Mean": 8.2073333333,
                  "High": 8.282,
                  "Low": 8.178,
                  "Close": 8.244,
                  "Open": 8.23,
                  "GroupId": 9
                }
              ],
              "schema": {
                "fields": [
                  {
                    "type": "integer",
                    "name": "index"
                  },
                  {
                    "type": "integer",
                    "name": "GroupId"
                  },
                  {
                    "type": "number",
                    "name": "Close"
                  },
                  {
                    "type": "number",
                    "name": "Open"
                  },
                  {
                    "type": "number",
                    "name": "High"
                  },
                  {
                    "type": "number",
                    "name": "Low"
                  },
                  {
                    "type": "number",
                    "name": "Close 30 Days Mean"
                  }
                ],
                "pandas_version": "0.20.0",
                "primaryKey": [
                  "index"
                ]
              }
            },
            "text/html": [
              "<div>\n",
              "<style scoped>\n",
              "    .dataframe tbody tr th:only-of-type {\n",
              "        vertical-align: middle;\n",
              "    }\n",
              "\n",
              "    .dataframe tbody tr th {\n",
              "        vertical-align: top;\n",
              "    }\n",
              "\n",
              "    .dataframe thead th {\n",
              "        text-align: right;\n",
              "    }\n",
              "</style>\n",
              "<table border=\"1\" class=\"dataframe\">\n",
              "  <thead>\n",
              "    <tr style=\"text-align: right;\">\n",
              "      <th></th>\n",
              "      <th>GroupId</th>\n",
              "      <th>Close</th>\n",
              "      <th>Open</th>\n",
              "      <th>High</th>\n",
              "      <th>Low</th>\n",
              "      <th>Close 30 Days Mean</th>\n",
              "    </tr>\n",
              "  </thead>\n",
              "  <tbody>\n",
              "    <tr>\n",
              "      <th>0</th>\n",
              "      <td>0</td>\n",
              "      <td>8.698</td>\n",
              "      <td>8.770</td>\n",
              "      <td>8.782</td>\n",
              "      <td>8.676</td>\n",
              "      <td>NaN</td>\n",
              "    </tr>\n",
              "    <tr>\n",
              "      <th>1</th>\n",
              "      <td>1</td>\n",
              "      <td>8.618</td>\n",
              "      <td>8.638</td>\n",
              "      <td>8.650</td>\n",
              "      <td>8.584</td>\n",
              "      <td>NaN</td>\n",
              "    </tr>\n",
              "    <tr>\n",
              "      <th>2</th>\n",
              "      <td>2</td>\n",
              "      <td>8.408</td>\n",
              "      <td>8.508</td>\n",
              "      <td>8.526</td>\n",
              "      <td>8.352</td>\n",
              "      <td>NaN</td>\n",
              "    </tr>\n",
              "    <tr>\n",
              "      <th>3</th>\n",
              "      <td>3</td>\n",
              "      <td>7.866</td>\n",
              "      <td>7.856</td>\n",
              "      <td>7.996</td>\n",
              "      <td>7.698</td>\n",
              "      <td>NaN</td>\n",
              "    </tr>\n",
              "    <tr>\n",
              "      <th>4</th>\n",
              "      <td>4</td>\n",
              "      <td>8.030</td>\n",
              "      <td>7.972</td>\n",
              "      <td>8.086</td>\n",
              "      <td>7.906</td>\n",
              "      <td>NaN</td>\n",
              "    </tr>\n",
              "    <tr>\n",
              "      <th>5</th>\n",
              "      <td>5</td>\n",
              "      <td>8.260</td>\n",
              "      <td>8.256</td>\n",
              "      <td>8.300</td>\n",
              "      <td>8.212</td>\n",
              "      <td>8.313333</td>\n",
              "    </tr>\n",
              "    <tr>\n",
              "      <th>6</th>\n",
              "      <td>6</td>\n",
              "      <td>8.254</td>\n",
              "      <td>8.272</td>\n",
              "      <td>8.300</td>\n",
              "      <td>8.218</td>\n",
              "      <td>8.269000</td>\n",
              "    </tr>\n",
              "    <tr>\n",
              "      <th>7</th>\n",
              "      <td>7</td>\n",
              "      <td>8.304</td>\n",
              "      <td>8.318</td>\n",
              "      <td>8.358</td>\n",
              "      <td>8.278</td>\n",
              "      <td>8.204533</td>\n",
              "    </tr>\n",
              "    <tr>\n",
              "      <th>8</th>\n",
              "      <td>8</td>\n",
              "      <td>8.264</td>\n",
              "      <td>8.330</td>\n",
              "      <td>8.338</td>\n",
              "      <td>8.232</td>\n",
              "      <td>8.166467</td>\n",
              "    </tr>\n",
              "    <tr>\n",
              "      <th>9</th>\n",
              "      <td>9</td>\n",
              "      <td>8.244</td>\n",
              "      <td>8.230</td>\n",
              "      <td>8.282</td>\n",
              "      <td>8.178</td>\n",
              "      <td>8.207333</td>\n",
              "    </tr>\n",
              "  </tbody>\n",
              "</table>\n",
              "</div>"
            ],
            "text/plain": [
              "   GroupId  Close   Open   High    Low  Close 30 Days Mean\n",
              "0        0  8.698  8.770  8.782  8.676                 NaN\n",
              "1        1  8.618  8.638  8.650  8.584                 NaN\n",
              "2        2  8.408  8.508  8.526  8.352                 NaN\n",
              "3        3  7.866  7.856  7.996  7.698                 NaN\n",
              "4        4  8.030  7.972  8.086  7.906                 NaN\n",
              "5        5  8.260  8.256  8.300  8.212            8.313333\n",
              "6        6  8.254  8.272  8.300  8.218            8.269000\n",
              "7        7  8.304  8.318  8.358  8.278            8.204533\n",
              "8        8  8.264  8.330  8.338  8.232            8.166467\n",
              "9        9  8.244  8.230  8.282  8.178            8.207333"
            ]
          },
          "metadata": {
            "tags": []
          }
        },
        {
          "output_type": "display_data",
          "data": {
            "text/plain": [
              "379"
            ]
          },
          "metadata": {
            "tags": []
          }
        }
      ]
    },
    {
      "cell_type": "markdown",
      "metadata": {
        "id": "KwDzSkbI4gHR",
        "colab_type": "text"
      },
      "source": [
        "### Split to train and test data sets"
      ]
    },
    {
      "cell_type": "code",
      "metadata": {
        "id": "nOrrUUfB4gHT",
        "colab_type": "code",
        "colab": {
          "base_uri": "https://localhost:8080/",
          "height": 735
        },
        "outputId": "5a2b9682-16e9-45a3-965c-f41abbe5fd5e"
      },
      "source": [
        "df = df_grouped_mean\n",
        "\n",
        "from sklearn.model_selection import train_test_split\n",
        "training_set, test_set = train_test_split(df, test_size=0.20, shuffle=False)\n",
        "display(len(training_set),training_set.head(10))\n",
        "display(len(test_set), test_set.head(10))"
      ],
      "execution_count": 13,
      "outputs": [
        {
          "output_type": "display_data",
          "data": {
            "text/plain": [
              "303"
            ]
          },
          "metadata": {
            "tags": []
          }
        },
        {
          "output_type": "display_data",
          "data": {
            "application/vnd.dataresource+json": {
              "data": [
                {
                  "index": 0,
                  "Close 30 Days Mean": null,
                  "High": 8.782,
                  "Low": 8.676,
                  "Close": 8.698,
                  "Open": 8.77,
                  "GroupId": 0
                },
                {
                  "index": 1,
                  "Close 30 Days Mean": null,
                  "High": 8.65,
                  "Low": 8.584,
                  "Close": 8.618,
                  "Open": 8.638,
                  "GroupId": 1
                },
                {
                  "index": 2,
                  "Close 30 Days Mean": null,
                  "High": 8.526,
                  "Low": 8.352,
                  "Close": 8.408,
                  "Open": 8.508,
                  "GroupId": 2
                },
                {
                  "index": 3,
                  "Close 30 Days Mean": null,
                  "High": 7.996,
                  "Low": 7.698,
                  "Close": 7.866,
                  "Open": 7.856,
                  "GroupId": 3
                },
                {
                  "index": 4,
                  "Close 30 Days Mean": null,
                  "High": 8.086,
                  "Low": 7.906,
                  "Close": 8.03,
                  "Open": 7.972,
                  "GroupId": 4
                },
                {
                  "index": 5,
                  "Close 30 Days Mean": 8.3133333333,
                  "High": 8.3,
                  "Low": 8.212,
                  "Close": 8.26,
                  "Open": 8.256,
                  "GroupId": 5
                },
                {
                  "index": 6,
                  "Close 30 Days Mean": 8.269,
                  "High": 8.3,
                  "Low": 8.218,
                  "Close": 8.254,
                  "Open": 8.272,
                  "GroupId": 6
                },
                {
                  "index": 7,
                  "Close 30 Days Mean": 8.2045333333,
                  "High": 8.358,
                  "Low": 8.278,
                  "Close": 8.304,
                  "Open": 8.318,
                  "GroupId": 7
                },
                {
                  "index": 8,
                  "Close 30 Days Mean": 8.1664666667,
                  "High": 8.338,
                  "Low": 8.232,
                  "Close": 8.264,
                  "Open": 8.33,
                  "GroupId": 8
                },
                {
                  "index": 9,
                  "Close 30 Days Mean": 8.2073333333,
                  "High": 8.282,
                  "Low": 8.178,
                  "Close": 8.244,
                  "Open": 8.23,
                  "GroupId": 9
                }
              ],
              "schema": {
                "fields": [
                  {
                    "type": "integer",
                    "name": "index"
                  },
                  {
                    "type": "integer",
                    "name": "GroupId"
                  },
                  {
                    "type": "number",
                    "name": "Close"
                  },
                  {
                    "type": "number",
                    "name": "Open"
                  },
                  {
                    "type": "number",
                    "name": "High"
                  },
                  {
                    "type": "number",
                    "name": "Low"
                  },
                  {
                    "type": "number",
                    "name": "Close 30 Days Mean"
                  }
                ],
                "pandas_version": "0.20.0",
                "primaryKey": [
                  "index"
                ]
              }
            },
            "text/html": [
              "<div>\n",
              "<style scoped>\n",
              "    .dataframe tbody tr th:only-of-type {\n",
              "        vertical-align: middle;\n",
              "    }\n",
              "\n",
              "    .dataframe tbody tr th {\n",
              "        vertical-align: top;\n",
              "    }\n",
              "\n",
              "    .dataframe thead th {\n",
              "        text-align: right;\n",
              "    }\n",
              "</style>\n",
              "<table border=\"1\" class=\"dataframe\">\n",
              "  <thead>\n",
              "    <tr style=\"text-align: right;\">\n",
              "      <th></th>\n",
              "      <th>GroupId</th>\n",
              "      <th>Close</th>\n",
              "      <th>Open</th>\n",
              "      <th>High</th>\n",
              "      <th>Low</th>\n",
              "      <th>Close 30 Days Mean</th>\n",
              "    </tr>\n",
              "  </thead>\n",
              "  <tbody>\n",
              "    <tr>\n",
              "      <th>0</th>\n",
              "      <td>0</td>\n",
              "      <td>8.698</td>\n",
              "      <td>8.770</td>\n",
              "      <td>8.782</td>\n",
              "      <td>8.676</td>\n",
              "      <td>NaN</td>\n",
              "    </tr>\n",
              "    <tr>\n",
              "      <th>1</th>\n",
              "      <td>1</td>\n",
              "      <td>8.618</td>\n",
              "      <td>8.638</td>\n",
              "      <td>8.650</td>\n",
              "      <td>8.584</td>\n",
              "      <td>NaN</td>\n",
              "    </tr>\n",
              "    <tr>\n",
              "      <th>2</th>\n",
              "      <td>2</td>\n",
              "      <td>8.408</td>\n",
              "      <td>8.508</td>\n",
              "      <td>8.526</td>\n",
              "      <td>8.352</td>\n",
              "      <td>NaN</td>\n",
              "    </tr>\n",
              "    <tr>\n",
              "      <th>3</th>\n",
              "      <td>3</td>\n",
              "      <td>7.866</td>\n",
              "      <td>7.856</td>\n",
              "      <td>7.996</td>\n",
              "      <td>7.698</td>\n",
              "      <td>NaN</td>\n",
              "    </tr>\n",
              "    <tr>\n",
              "      <th>4</th>\n",
              "      <td>4</td>\n",
              "      <td>8.030</td>\n",
              "      <td>7.972</td>\n",
              "      <td>8.086</td>\n",
              "      <td>7.906</td>\n",
              "      <td>NaN</td>\n",
              "    </tr>\n",
              "    <tr>\n",
              "      <th>5</th>\n",
              "      <td>5</td>\n",
              "      <td>8.260</td>\n",
              "      <td>8.256</td>\n",
              "      <td>8.300</td>\n",
              "      <td>8.212</td>\n",
              "      <td>8.313333</td>\n",
              "    </tr>\n",
              "    <tr>\n",
              "      <th>6</th>\n",
              "      <td>6</td>\n",
              "      <td>8.254</td>\n",
              "      <td>8.272</td>\n",
              "      <td>8.300</td>\n",
              "      <td>8.218</td>\n",
              "      <td>8.269000</td>\n",
              "    </tr>\n",
              "    <tr>\n",
              "      <th>7</th>\n",
              "      <td>7</td>\n",
              "      <td>8.304</td>\n",
              "      <td>8.318</td>\n",
              "      <td>8.358</td>\n",
              "      <td>8.278</td>\n",
              "      <td>8.204533</td>\n",
              "    </tr>\n",
              "    <tr>\n",
              "      <th>8</th>\n",
              "      <td>8</td>\n",
              "      <td>8.264</td>\n",
              "      <td>8.330</td>\n",
              "      <td>8.338</td>\n",
              "      <td>8.232</td>\n",
              "      <td>8.166467</td>\n",
              "    </tr>\n",
              "    <tr>\n",
              "      <th>9</th>\n",
              "      <td>9</td>\n",
              "      <td>8.244</td>\n",
              "      <td>8.230</td>\n",
              "      <td>8.282</td>\n",
              "      <td>8.178</td>\n",
              "      <td>8.207333</td>\n",
              "    </tr>\n",
              "  </tbody>\n",
              "</table>\n",
              "</div>"
            ],
            "text/plain": [
              "   GroupId  Close   Open   High    Low  Close 30 Days Mean\n",
              "0        0  8.698  8.770  8.782  8.676                 NaN\n",
              "1        1  8.618  8.638  8.650  8.584                 NaN\n",
              "2        2  8.408  8.508  8.526  8.352                 NaN\n",
              "3        3  7.866  7.856  7.996  7.698                 NaN\n",
              "4        4  8.030  7.972  8.086  7.906                 NaN\n",
              "5        5  8.260  8.256  8.300  8.212            8.313333\n",
              "6        6  8.254  8.272  8.300  8.218            8.269000\n",
              "7        7  8.304  8.318  8.358  8.278            8.204533\n",
              "8        8  8.264  8.330  8.338  8.232            8.166467\n",
              "9        9  8.244  8.230  8.282  8.178            8.207333"
            ]
          },
          "metadata": {
            "tags": []
          }
        },
        {
          "output_type": "display_data",
          "data": {
            "text/plain": [
              "76"
            ]
          },
          "metadata": {
            "tags": []
          }
        },
        {
          "output_type": "display_data",
          "data": {
            "application/vnd.dataresource+json": {
              "data": [
                {
                  "index": 303,
                  "Close 30 Days Mean": 9.4236666667,
                  "High": 9.248,
                  "Low": 9.186,
                  "Close": 9.21,
                  "Open": 9.224,
                  "GroupId": 303
                },
                {
                  "index": 304,
                  "Close 30 Days Mean": 9.3403333333,
                  "High": 9.346,
                  "Low": 9.152,
                  "Close": 9.22,
                  "Open": 9.238,
                  "GroupId": 304
                },
                {
                  "index": 305,
                  "Close 30 Days Mean": 9.2860666667,
                  "High": 9.238,
                  "Low": 9.196,
                  "Close": 9.212,
                  "Open": 9.208,
                  "GroupId": 305
                },
                {
                  "index": 306,
                  "Close 30 Days Mean": 9.2339333333,
                  "High": 9.23,
                  "Low": 9.166,
                  "Close": 9.2,
                  "Open": 9.204,
                  "GroupId": 306
                },
                {
                  "index": 307,
                  "Close 30 Days Mean": 9.2245333333,
                  "High": 9.36,
                  "Low": 9.238,
                  "Close": 9.286,
                  "Open": 9.286,
                  "GroupId": 307
                },
                {
                  "index": 308,
                  "Close 30 Days Mean": 9.2337333333,
                  "High": 9.396,
                  "Low": 9.274,
                  "Close": 9.356,
                  "Open": 9.294,
                  "GroupId": 308
                },
                {
                  "index": 309,
                  "Close 30 Days Mean": 9.2739333333,
                  "High": 9.51,
                  "Low": 9.436,
                  "Close": 9.49,
                  "Open": 9.488,
                  "GroupId": 309
                },
                {
                  "index": 310,
                  "Close 30 Days Mean": 9.3293333333,
                  "High": 9.632,
                  "Low": 9.504,
                  "Close": 9.608,
                  "Open": 9.544,
                  "GroupId": 310
                },
                {
                  "index": 311,
                  "Close 30 Days Mean": 9.4175333333,
                  "High": 9.824,
                  "Low": 9.764,
                  "Close": 9.812,
                  "Open": 9.772,
                  "GroupId": 311
                },
                {
                  "index": 312,
                  "Close 30 Days Mean": 9.5244,
                  "High": 9.862,
                  "Low": 9.824,
                  "Close": 9.846,
                  "Open": 9.834,
                  "GroupId": 312
                }
              ],
              "schema": {
                "fields": [
                  {
                    "type": "integer",
                    "name": "index"
                  },
                  {
                    "type": "integer",
                    "name": "GroupId"
                  },
                  {
                    "type": "number",
                    "name": "Close"
                  },
                  {
                    "type": "number",
                    "name": "Open"
                  },
                  {
                    "type": "number",
                    "name": "High"
                  },
                  {
                    "type": "number",
                    "name": "Low"
                  },
                  {
                    "type": "number",
                    "name": "Close 30 Days Mean"
                  }
                ],
                "pandas_version": "0.20.0",
                "primaryKey": [
                  "index"
                ]
              }
            },
            "text/html": [
              "<div>\n",
              "<style scoped>\n",
              "    .dataframe tbody tr th:only-of-type {\n",
              "        vertical-align: middle;\n",
              "    }\n",
              "\n",
              "    .dataframe tbody tr th {\n",
              "        vertical-align: top;\n",
              "    }\n",
              "\n",
              "    .dataframe thead th {\n",
              "        text-align: right;\n",
              "    }\n",
              "</style>\n",
              "<table border=\"1\" class=\"dataframe\">\n",
              "  <thead>\n",
              "    <tr style=\"text-align: right;\">\n",
              "      <th></th>\n",
              "      <th>GroupId</th>\n",
              "      <th>Close</th>\n",
              "      <th>Open</th>\n",
              "      <th>High</th>\n",
              "      <th>Low</th>\n",
              "      <th>Close 30 Days Mean</th>\n",
              "    </tr>\n",
              "  </thead>\n",
              "  <tbody>\n",
              "    <tr>\n",
              "      <th>303</th>\n",
              "      <td>303</td>\n",
              "      <td>9.210</td>\n",
              "      <td>9.224</td>\n",
              "      <td>9.248</td>\n",
              "      <td>9.186</td>\n",
              "      <td>9.423667</td>\n",
              "    </tr>\n",
              "    <tr>\n",
              "      <th>304</th>\n",
              "      <td>304</td>\n",
              "      <td>9.220</td>\n",
              "      <td>9.238</td>\n",
              "      <td>9.346</td>\n",
              "      <td>9.152</td>\n",
              "      <td>9.340333</td>\n",
              "    </tr>\n",
              "    <tr>\n",
              "      <th>305</th>\n",
              "      <td>305</td>\n",
              "      <td>9.212</td>\n",
              "      <td>9.208</td>\n",
              "      <td>9.238</td>\n",
              "      <td>9.196</td>\n",
              "      <td>9.286067</td>\n",
              "    </tr>\n",
              "    <tr>\n",
              "      <th>306</th>\n",
              "      <td>306</td>\n",
              "      <td>9.200</td>\n",
              "      <td>9.204</td>\n",
              "      <td>9.230</td>\n",
              "      <td>9.166</td>\n",
              "      <td>9.233933</td>\n",
              "    </tr>\n",
              "    <tr>\n",
              "      <th>307</th>\n",
              "      <td>307</td>\n",
              "      <td>9.286</td>\n",
              "      <td>9.286</td>\n",
              "      <td>9.360</td>\n",
              "      <td>9.238</td>\n",
              "      <td>9.224533</td>\n",
              "    </tr>\n",
              "    <tr>\n",
              "      <th>308</th>\n",
              "      <td>308</td>\n",
              "      <td>9.356</td>\n",
              "      <td>9.294</td>\n",
              "      <td>9.396</td>\n",
              "      <td>9.274</td>\n",
              "      <td>9.233733</td>\n",
              "    </tr>\n",
              "    <tr>\n",
              "      <th>309</th>\n",
              "      <td>309</td>\n",
              "      <td>9.490</td>\n",
              "      <td>9.488</td>\n",
              "      <td>9.510</td>\n",
              "      <td>9.436</td>\n",
              "      <td>9.273933</td>\n",
              "    </tr>\n",
              "    <tr>\n",
              "      <th>310</th>\n",
              "      <td>310</td>\n",
              "      <td>9.608</td>\n",
              "      <td>9.544</td>\n",
              "      <td>9.632</td>\n",
              "      <td>9.504</td>\n",
              "      <td>9.329333</td>\n",
              "    </tr>\n",
              "    <tr>\n",
              "      <th>311</th>\n",
              "      <td>311</td>\n",
              "      <td>9.812</td>\n",
              "      <td>9.772</td>\n",
              "      <td>9.824</td>\n",
              "      <td>9.764</td>\n",
              "      <td>9.417533</td>\n",
              "    </tr>\n",
              "    <tr>\n",
              "      <th>312</th>\n",
              "      <td>312</td>\n",
              "      <td>9.846</td>\n",
              "      <td>9.834</td>\n",
              "      <td>9.862</td>\n",
              "      <td>9.824</td>\n",
              "      <td>9.524400</td>\n",
              "    </tr>\n",
              "  </tbody>\n",
              "</table>\n",
              "</div>"
            ],
            "text/plain": [
              "     GroupId  Close   Open   High    Low  Close 30 Days Mean\n",
              "303      303  9.210  9.224  9.248  9.186            9.423667\n",
              "304      304  9.220  9.238  9.346  9.152            9.340333\n",
              "305      305  9.212  9.208  9.238  9.196            9.286067\n",
              "306      306  9.200  9.204  9.230  9.166            9.233933\n",
              "307      307  9.286  9.286  9.360  9.238            9.224533\n",
              "308      308  9.356  9.294  9.396  9.274            9.233733\n",
              "309      309  9.490  9.488  9.510  9.436            9.273933\n",
              "310      310  9.608  9.544  9.632  9.504            9.329333\n",
              "311      311  9.812  9.772  9.824  9.764            9.417533\n",
              "312      312  9.846  9.834  9.862  9.824            9.524400"
            ]
          },
          "metadata": {
            "tags": []
          }
        }
      ]
    },
    {
      "cell_type": "markdown",
      "metadata": {
        "id": "MCNEWBbc4gHY",
        "colab_type": "text"
      },
      "source": [
        "## Training"
      ]
    },
    {
      "cell_type": "code",
      "metadata": {
        "id": "462sp1MS4gHa",
        "colab_type": "code",
        "colab": {
          "base_uri": "https://localhost:8080/",
          "height": 359
        },
        "outputId": "23ddda45-3df1-4337-80e0-294cbadba97a"
      },
      "source": [
        "training_set=training_set['Open']\n",
        "training_set=pd.DataFrame(training_set)\n",
        "display(training_set.head(10))"
      ],
      "execution_count": 14,
      "outputs": [
        {
          "output_type": "display_data",
          "data": {
            "application/vnd.dataresource+json": {
              "data": [
                {
                  "index": 0,
                  "Open": 8.77
                },
                {
                  "index": 1,
                  "Open": 8.638
                },
                {
                  "index": 2,
                  "Open": 8.508
                },
                {
                  "index": 3,
                  "Open": 7.856
                },
                {
                  "index": 4,
                  "Open": 7.972
                },
                {
                  "index": 5,
                  "Open": 8.256
                },
                {
                  "index": 6,
                  "Open": 8.272
                },
                {
                  "index": 7,
                  "Open": 8.318
                },
                {
                  "index": 8,
                  "Open": 8.33
                },
                {
                  "index": 9,
                  "Open": 8.23
                }
              ],
              "schema": {
                "fields": [
                  {
                    "type": "integer",
                    "name": "index"
                  },
                  {
                    "type": "number",
                    "name": "Open"
                  }
                ],
                "pandas_version": "0.20.0",
                "primaryKey": [
                  "index"
                ]
              }
            },
            "text/html": [
              "<div>\n",
              "<style scoped>\n",
              "    .dataframe tbody tr th:only-of-type {\n",
              "        vertical-align: middle;\n",
              "    }\n",
              "\n",
              "    .dataframe tbody tr th {\n",
              "        vertical-align: top;\n",
              "    }\n",
              "\n",
              "    .dataframe thead th {\n",
              "        text-align: right;\n",
              "    }\n",
              "</style>\n",
              "<table border=\"1\" class=\"dataframe\">\n",
              "  <thead>\n",
              "    <tr style=\"text-align: right;\">\n",
              "      <th></th>\n",
              "      <th>Open</th>\n",
              "    </tr>\n",
              "  </thead>\n",
              "  <tbody>\n",
              "    <tr>\n",
              "      <th>0</th>\n",
              "      <td>8.770</td>\n",
              "    </tr>\n",
              "    <tr>\n",
              "      <th>1</th>\n",
              "      <td>8.638</td>\n",
              "    </tr>\n",
              "    <tr>\n",
              "      <th>2</th>\n",
              "      <td>8.508</td>\n",
              "    </tr>\n",
              "    <tr>\n",
              "      <th>3</th>\n",
              "      <td>7.856</td>\n",
              "    </tr>\n",
              "    <tr>\n",
              "      <th>4</th>\n",
              "      <td>7.972</td>\n",
              "    </tr>\n",
              "    <tr>\n",
              "      <th>5</th>\n",
              "      <td>8.256</td>\n",
              "    </tr>\n",
              "    <tr>\n",
              "      <th>6</th>\n",
              "      <td>8.272</td>\n",
              "    </tr>\n",
              "    <tr>\n",
              "      <th>7</th>\n",
              "      <td>8.318</td>\n",
              "    </tr>\n",
              "    <tr>\n",
              "      <th>8</th>\n",
              "      <td>8.330</td>\n",
              "    </tr>\n",
              "    <tr>\n",
              "      <th>9</th>\n",
              "      <td>8.230</td>\n",
              "    </tr>\n",
              "  </tbody>\n",
              "</table>\n",
              "</div>"
            ],
            "text/plain": [
              "    Open\n",
              "0  8.770\n",
              "1  8.638\n",
              "2  8.508\n",
              "3  7.856\n",
              "4  7.972\n",
              "5  8.256\n",
              "6  8.272\n",
              "7  8.318\n",
              "8  8.330\n",
              "9  8.230"
            ]
          },
          "metadata": {
            "tags": []
          }
        }
      ]
    },
    {
      "cell_type": "code",
      "metadata": {
        "id": "z7iJ-lnY4gHf",
        "colab_type": "code",
        "colab": {}
      },
      "source": [
        "# Feature Scaling\n",
        "from sklearn.preprocessing import MinMaxScaler\n",
        "sc = MinMaxScaler(feature_range = (0, 1))\n",
        "training_set_scaled = sc.fit_transform(training_set)"
      ],
      "execution_count": 0,
      "outputs": []
    },
    {
      "cell_type": "code",
      "metadata": {
        "id": "sYPxwIZI4gHh",
        "colab_type": "code",
        "colab": {
          "base_uri": "https://localhost:8080/",
          "height": 34
        },
        "outputId": "1a01097d-6648-4674-846d-f3160cc5cd70"
      },
      "source": [
        "# Creating a data structure with 30 timesteps and 1 output\n",
        "TIME_STEP=30\n",
        "X_train = []\n",
        "y_train = []\n",
        "for i in range(TIME_STEP, len(training_set)):\n",
        "    X_train.append(training_set_scaled[i-TIME_STEP:i, 0])\n",
        "    y_train.append(training_set_scaled[i, 0])\n",
        "X_train, y_train = np.array(X_train), np.array(y_train)\n",
        "\n",
        "# Reshaping\n",
        "X_train = np.reshape(X_train, (X_train.shape[0], X_train.shape[1], 1))\n",
        "display(X_train.shape)"
      ],
      "execution_count": 16,
      "outputs": [
        {
          "output_type": "display_data",
          "data": {
            "text/plain": [
              "(273, 30, 1)"
            ]
          },
          "metadata": {
            "tags": []
          }
        }
      ]
    },
    {
      "cell_type": "markdown",
      "metadata": {
        "id": "NOeHFURi4gHk",
        "colab_type": "text"
      },
      "source": [
        "### LSTM network"
      ]
    },
    {
      "cell_type": "code",
      "metadata": {
        "id": "ZlhmmwIT4gHl",
        "colab_type": "code",
        "colab": {
          "base_uri": "https://localhost:8080/",
          "height": 34
        },
        "outputId": "66ab9724-8b8b-4d96-c57f-41ed64c73e54"
      },
      "source": [
        "# Importing the Keras libraries and packages\n",
        "from keras.models import Sequential\n",
        "from keras.layers import Dense\n",
        "from keras.layers import LSTM\n",
        "from keras.layers import Dropout"
      ],
      "execution_count": 17,
      "outputs": [
        {
          "output_type": "stream",
          "text": [
            "Using TensorFlow backend.\n"
          ],
          "name": "stderr"
        }
      ]
    },
    {
      "cell_type": "code",
      "metadata": {
        "id": "ZurOrO7o4gHo",
        "colab_type": "code",
        "colab": {
          "base_uri": "https://localhost:8080/",
          "height": 139
        },
        "outputId": "d69c11fb-0046-48a0-bda4-ce9e5fb943c0"
      },
      "source": [
        "# Initialising the LSTM\n",
        "regressor = Sequential()\n",
        "\n",
        "# Adding the first LSTM layer and some Dropout regularisation\n",
        "regressor.add(LSTM(units = 50, return_sequences = True, input_shape = (X_train.shape[1], 1)))\n",
        "regressor.add(Dropout(0.2))\n",
        "\n",
        "# Adding a second LSTM layer and some Dropout regularisation\n",
        "regressor.add(LSTM(units = 50, return_sequences = True))\n",
        "regressor.add(Dropout(0.2))\n",
        "\n",
        "# Adding a third LSTM layer and some Dropout regularisation\n",
        "regressor.add(LSTM(units = 50, return_sequences = True))\n",
        "regressor.add(Dropout(0.2))\n",
        "\n",
        "# Adding a fourth LSTM layer and some Dropout regularisation\n",
        "regressor.add(LSTM(units = 50))\n",
        "regressor.add(Dropout(0.2))\n",
        "\n",
        "# Adding the output layer\n",
        "regressor.add(Dense(units = 1))"
      ],
      "execution_count": 18,
      "outputs": [
        {
          "output_type": "stream",
          "text": [
            "WARNING:tensorflow:From /usr/local/lib/python3.6/dist-packages/tensorflow/python/framework/op_def_library.py:263: colocate_with (from tensorflow.python.framework.ops) is deprecated and will be removed in a future version.\n",
            "Instructions for updating:\n",
            "Colocations handled automatically by placer.\n",
            "WARNING:tensorflow:From /usr/local/lib/python3.6/dist-packages/keras/backend/tensorflow_backend.py:3445: calling dropout (from tensorflow.python.ops.nn_ops) with keep_prob is deprecated and will be removed in a future version.\n",
            "Instructions for updating:\n",
            "Please use `rate` instead of `keep_prob`. Rate should be set to `rate = 1 - keep_prob`.\n"
          ],
          "name": "stdout"
        }
      ]
    },
    {
      "cell_type": "code",
      "metadata": {
        "id": "CVkMDcjf4gHr",
        "colab_type": "code",
        "colab": {
          "base_uri": "https://localhost:8080/",
          "height": 3485
        },
        "outputId": "3535375f-1c6b-4add-b3d0-839b27b1eec3"
      },
      "source": [
        "# Compiling the RNN\n",
        "regressor.compile(optimizer = 'adam', loss = 'mean_squared_error')\n",
        "\n",
        "# Fitting the RNN to the Training set\n",
        "regressor.fit(X_train, y_train, epochs = 100, batch_size = 32)"
      ],
      "execution_count": 19,
      "outputs": [
        {
          "output_type": "stream",
          "text": [
            "WARNING:tensorflow:From /usr/local/lib/python3.6/dist-packages/tensorflow/python/ops/math_ops.py:3066: to_int32 (from tensorflow.python.ops.math_ops) is deprecated and will be removed in a future version.\n",
            "Instructions for updating:\n",
            "Use tf.cast instead.\n",
            "Epoch 1/100\n",
            "273/273 [==============================] - 6s 21ms/step - loss: 0.1565\n",
            "Epoch 2/100\n",
            "273/273 [==============================] - 1s 5ms/step - loss: 0.0484\n",
            "Epoch 3/100\n",
            "273/273 [==============================] - 1s 5ms/step - loss: 0.0328\n",
            "Epoch 4/100\n",
            "273/273 [==============================] - 1s 5ms/step - loss: 0.0295\n",
            "Epoch 5/100\n",
            "273/273 [==============================] - 1s 5ms/step - loss: 0.0260\n",
            "Epoch 6/100\n",
            "273/273 [==============================] - 1s 5ms/step - loss: 0.0256\n",
            "Epoch 7/100\n",
            "273/273 [==============================] - 1s 5ms/step - loss: 0.0248\n",
            "Epoch 8/100\n",
            "273/273 [==============================] - 1s 5ms/step - loss: 0.0231\n",
            "Epoch 9/100\n",
            "273/273 [==============================] - 1s 5ms/step - loss: 0.0221\n",
            "Epoch 10/100\n",
            "273/273 [==============================] - 1s 5ms/step - loss: 0.0204\n",
            "Epoch 11/100\n",
            "273/273 [==============================] - 1s 5ms/step - loss: 0.0211\n",
            "Epoch 12/100\n",
            "273/273 [==============================] - 1s 5ms/step - loss: 0.0172\n",
            "Epoch 13/100\n",
            "273/273 [==============================] - 1s 5ms/step - loss: 0.0179\n",
            "Epoch 14/100\n",
            "273/273 [==============================] - 1s 5ms/step - loss: 0.0171\n",
            "Epoch 15/100\n",
            "273/273 [==============================] - 1s 5ms/step - loss: 0.0147\n",
            "Epoch 16/100\n",
            "273/273 [==============================] - 1s 5ms/step - loss: 0.0135\n",
            "Epoch 17/100\n",
            "273/273 [==============================] - 1s 5ms/step - loss: 0.0136\n",
            "Epoch 18/100\n",
            "273/273 [==============================] - 1s 5ms/step - loss: 0.0124\n",
            "Epoch 19/100\n",
            "273/273 [==============================] - 1s 5ms/step - loss: 0.0114\n",
            "Epoch 20/100\n",
            "273/273 [==============================] - 1s 5ms/step - loss: 0.0124\n",
            "Epoch 21/100\n",
            "273/273 [==============================] - 1s 5ms/step - loss: 0.0135\n",
            "Epoch 22/100\n",
            "273/273 [==============================] - 1s 5ms/step - loss: 0.0124\n",
            "Epoch 23/100\n",
            "273/273 [==============================] - 1s 5ms/step - loss: 0.0117\n",
            "Epoch 24/100\n",
            "273/273 [==============================] - 1s 5ms/step - loss: 0.0145\n",
            "Epoch 25/100\n",
            "273/273 [==============================] - 1s 5ms/step - loss: 0.0129\n",
            "Epoch 26/100\n",
            "273/273 [==============================] - 1s 5ms/step - loss: 0.0127\n",
            "Epoch 27/100\n",
            "273/273 [==============================] - 1s 5ms/step - loss: 0.0120\n",
            "Epoch 28/100\n",
            "273/273 [==============================] - 1s 5ms/step - loss: 0.0098\n",
            "Epoch 29/100\n",
            "273/273 [==============================] - 1s 5ms/step - loss: 0.0098\n",
            "Epoch 30/100\n",
            "273/273 [==============================] - 1s 5ms/step - loss: 0.0107\n",
            "Epoch 31/100\n",
            "273/273 [==============================] - 1s 5ms/step - loss: 0.0105\n",
            "Epoch 32/100\n",
            "273/273 [==============================] - 1s 5ms/step - loss: 0.0104\n",
            "Epoch 33/100\n",
            "273/273 [==============================] - 1s 5ms/step - loss: 0.0092\n",
            "Epoch 34/100\n",
            "273/273 [==============================] - 1s 5ms/step - loss: 0.0085\n",
            "Epoch 35/100\n",
            "273/273 [==============================] - 1s 5ms/step - loss: 0.0080\n",
            "Epoch 36/100\n",
            "273/273 [==============================] - 1s 5ms/step - loss: 0.0097\n",
            "Epoch 37/100\n",
            "273/273 [==============================] - 1s 5ms/step - loss: 0.0091\n",
            "Epoch 38/100\n",
            "273/273 [==============================] - 1s 5ms/step - loss: 0.0089\n",
            "Epoch 39/100\n",
            "273/273 [==============================] - 1s 5ms/step - loss: 0.0088\n",
            "Epoch 40/100\n",
            "273/273 [==============================] - 1s 5ms/step - loss: 0.0091\n",
            "Epoch 41/100\n",
            "273/273 [==============================] - 1s 5ms/step - loss: 0.0096\n",
            "Epoch 42/100\n",
            "273/273 [==============================] - 1s 5ms/step - loss: 0.0090\n",
            "Epoch 43/100\n",
            "273/273 [==============================] - 1s 5ms/step - loss: 0.0080\n",
            "Epoch 44/100\n",
            "273/273 [==============================] - 1s 5ms/step - loss: 0.0089\n",
            "Epoch 45/100\n",
            "273/273 [==============================] - 1s 5ms/step - loss: 0.0086\n",
            "Epoch 46/100\n",
            "273/273 [==============================] - 1s 5ms/step - loss: 0.0089\n",
            "Epoch 47/100\n",
            "273/273 [==============================] - 1s 5ms/step - loss: 0.0079\n",
            "Epoch 48/100\n",
            "273/273 [==============================] - 1s 5ms/step - loss: 0.0082\n",
            "Epoch 49/100\n",
            "273/273 [==============================] - 1s 5ms/step - loss: 0.0086\n",
            "Epoch 50/100\n",
            "273/273 [==============================] - 1s 5ms/step - loss: 0.0080\n",
            "Epoch 51/100\n",
            "273/273 [==============================] - 1s 5ms/step - loss: 0.0073\n",
            "Epoch 52/100\n",
            "273/273 [==============================] - 1s 5ms/step - loss: 0.0083\n",
            "Epoch 53/100\n",
            "273/273 [==============================] - 1s 5ms/step - loss: 0.0089\n",
            "Epoch 54/100\n",
            "273/273 [==============================] - 1s 5ms/step - loss: 0.0087\n",
            "Epoch 55/100\n",
            "273/273 [==============================] - 1s 5ms/step - loss: 0.0087\n",
            "Epoch 56/100\n",
            "273/273 [==============================] - 1s 5ms/step - loss: 0.0073\n",
            "Epoch 57/100\n",
            "273/273 [==============================] - 1s 5ms/step - loss: 0.0071\n",
            "Epoch 58/100\n",
            "273/273 [==============================] - 1s 5ms/step - loss: 0.0080\n",
            "Epoch 59/100\n",
            "273/273 [==============================] - 1s 5ms/step - loss: 0.0094\n",
            "Epoch 60/100\n",
            "273/273 [==============================] - 1s 5ms/step - loss: 0.0065\n",
            "Epoch 61/100\n",
            "273/273 [==============================] - 1s 5ms/step - loss: 0.0074\n",
            "Epoch 62/100\n",
            "273/273 [==============================] - 1s 5ms/step - loss: 0.0075\n",
            "Epoch 63/100\n",
            "273/273 [==============================] - 1s 5ms/step - loss: 0.0072\n",
            "Epoch 64/100\n",
            "273/273 [==============================] - 1s 5ms/step - loss: 0.0065\n",
            "Epoch 65/100\n",
            "273/273 [==============================] - 1s 5ms/step - loss: 0.0078\n",
            "Epoch 66/100\n",
            "273/273 [==============================] - 1s 5ms/step - loss: 0.0074\n",
            "Epoch 67/100\n",
            "273/273 [==============================] - 1s 5ms/step - loss: 0.0063\n",
            "Epoch 68/100\n",
            "273/273 [==============================] - 1s 5ms/step - loss: 0.0071\n",
            "Epoch 69/100\n",
            "273/273 [==============================] - 1s 5ms/step - loss: 0.0077\n",
            "Epoch 70/100\n",
            "273/273 [==============================] - 1s 5ms/step - loss: 0.0081\n",
            "Epoch 71/100\n",
            "273/273 [==============================] - 1s 5ms/step - loss: 0.0068\n",
            "Epoch 72/100\n",
            "273/273 [==============================] - 1s 5ms/step - loss: 0.0079\n",
            "Epoch 73/100\n",
            "273/273 [==============================] - 1s 5ms/step - loss: 0.0069\n",
            "Epoch 74/100\n",
            "273/273 [==============================] - 1s 5ms/step - loss: 0.0074\n",
            "Epoch 75/100\n",
            "273/273 [==============================] - 1s 5ms/step - loss: 0.0077\n",
            "Epoch 76/100\n",
            "273/273 [==============================] - 1s 5ms/step - loss: 0.0070\n",
            "Epoch 77/100\n",
            "273/273 [==============================] - 1s 5ms/step - loss: 0.0065\n",
            "Epoch 78/100\n",
            "273/273 [==============================] - 1s 5ms/step - loss: 0.0064\n",
            "Epoch 79/100\n",
            "273/273 [==============================] - 1s 5ms/step - loss: 0.0068\n",
            "Epoch 80/100\n",
            "273/273 [==============================] - 1s 5ms/step - loss: 0.0072\n",
            "Epoch 81/100\n",
            "273/273 [==============================] - 1s 5ms/step - loss: 0.0062\n",
            "Epoch 82/100\n",
            "273/273 [==============================] - 1s 5ms/step - loss: 0.0079\n",
            "Epoch 83/100\n",
            "273/273 [==============================] - 1s 5ms/step - loss: 0.0058\n",
            "Epoch 84/100\n",
            "273/273 [==============================] - 1s 5ms/step - loss: 0.0058\n",
            "Epoch 85/100\n",
            "273/273 [==============================] - 1s 5ms/step - loss: 0.0068\n",
            "Epoch 86/100\n",
            "273/273 [==============================] - 1s 5ms/step - loss: 0.0069\n",
            "Epoch 87/100\n",
            "273/273 [==============================] - 1s 5ms/step - loss: 0.0059\n",
            "Epoch 88/100\n",
            "273/273 [==============================] - 1s 5ms/step - loss: 0.0067\n",
            "Epoch 89/100\n",
            "273/273 [==============================] - 1s 5ms/step - loss: 0.0072\n",
            "Epoch 90/100\n",
            "273/273 [==============================] - 1s 5ms/step - loss: 0.0064\n",
            "Epoch 91/100\n",
            "273/273 [==============================] - 1s 5ms/step - loss: 0.0058\n",
            "Epoch 92/100\n",
            "273/273 [==============================] - 1s 5ms/step - loss: 0.0061\n",
            "Epoch 93/100\n",
            "273/273 [==============================] - 1s 5ms/step - loss: 0.0054\n",
            "Epoch 94/100\n",
            "273/273 [==============================] - 1s 5ms/step - loss: 0.0060\n",
            "Epoch 95/100\n",
            "273/273 [==============================] - 1s 5ms/step - loss: 0.0064\n",
            "Epoch 96/100\n",
            "273/273 [==============================] - 1s 5ms/step - loss: 0.0060\n",
            "Epoch 97/100\n",
            "273/273 [==============================] - 1s 5ms/step - loss: 0.0056\n",
            "Epoch 98/100\n",
            "273/273 [==============================] - 1s 5ms/step - loss: 0.0055\n",
            "Epoch 99/100\n",
            "273/273 [==============================] - 1s 5ms/step - loss: 0.0056\n",
            "Epoch 100/100\n",
            "273/273 [==============================] - 1s 5ms/step - loss: 0.0058\n"
          ],
          "name": "stdout"
        },
        {
          "output_type": "execute_result",
          "data": {
            "text/plain": [
              "<keras.callbacks.History at 0x7f746ce31c18>"
            ]
          },
          "metadata": {
            "tags": []
          },
          "execution_count": 19
        }
      ]
    },
    {
      "cell_type": "code",
      "metadata": {
        "id": "RhRfcO844gHw",
        "colab_type": "code",
        "colab": {}
      },
      "source": [
        "test_set=test_set['Open']\n",
        "test_set=pd.DataFrame(test_set)"
      ],
      "execution_count": 0,
      "outputs": []
    },
    {
      "cell_type": "code",
      "metadata": {
        "id": "c6EokbOS8tSo",
        "colab_type": "code",
        "colab": {
          "base_uri": "https://localhost:8080/",
          "height": 478
        },
        "outputId": "91cd04bb-83a9-4000-bd9b-8b2c2a07d232"
      },
      "source": [
        "display(test_set.info())\n",
        "display(test_set.head(10))"
      ],
      "execution_count": 22,
      "outputs": [
        {
          "output_type": "stream",
          "text": [
            "<class 'pandas.core.frame.DataFrame'>\n",
            "Int64Index: 76 entries, 303 to 378\n",
            "Data columns (total 1 columns):\n",
            "Open    76 non-null float64\n",
            "dtypes: float64(1)\n",
            "memory usage: 1.2 KB\n"
          ],
          "name": "stdout"
        },
        {
          "output_type": "display_data",
          "data": {
            "text/plain": [
              "None"
            ]
          },
          "metadata": {
            "tags": []
          }
        },
        {
          "output_type": "display_data",
          "data": {
            "application/vnd.dataresource+json": {
              "data": [
                {
                  "index": 303,
                  "Open": 9.224
                },
                {
                  "index": 304,
                  "Open": 9.238
                },
                {
                  "index": 305,
                  "Open": 9.208
                },
                {
                  "index": 306,
                  "Open": 9.204
                },
                {
                  "index": 307,
                  "Open": 9.286
                },
                {
                  "index": 308,
                  "Open": 9.294
                },
                {
                  "index": 309,
                  "Open": 9.488
                },
                {
                  "index": 310,
                  "Open": 9.544
                },
                {
                  "index": 311,
                  "Open": 9.772
                },
                {
                  "index": 312,
                  "Open": 9.834
                }
              ],
              "schema": {
                "fields": [
                  {
                    "type": "integer",
                    "name": "index"
                  },
                  {
                    "type": "number",
                    "name": "Open"
                  }
                ],
                "pandas_version": "0.20.0",
                "primaryKey": [
                  "index"
                ]
              }
            },
            "text/html": [
              "<div>\n",
              "<style scoped>\n",
              "    .dataframe tbody tr th:only-of-type {\n",
              "        vertical-align: middle;\n",
              "    }\n",
              "\n",
              "    .dataframe tbody tr th {\n",
              "        vertical-align: top;\n",
              "    }\n",
              "\n",
              "    .dataframe thead th {\n",
              "        text-align: right;\n",
              "    }\n",
              "</style>\n",
              "<table border=\"1\" class=\"dataframe\">\n",
              "  <thead>\n",
              "    <tr style=\"text-align: right;\">\n",
              "      <th></th>\n",
              "      <th>Open</th>\n",
              "    </tr>\n",
              "  </thead>\n",
              "  <tbody>\n",
              "    <tr>\n",
              "      <th>303</th>\n",
              "      <td>9.224</td>\n",
              "    </tr>\n",
              "    <tr>\n",
              "      <th>304</th>\n",
              "      <td>9.238</td>\n",
              "    </tr>\n",
              "    <tr>\n",
              "      <th>305</th>\n",
              "      <td>9.208</td>\n",
              "    </tr>\n",
              "    <tr>\n",
              "      <th>306</th>\n",
              "      <td>9.204</td>\n",
              "    </tr>\n",
              "    <tr>\n",
              "      <th>307</th>\n",
              "      <td>9.286</td>\n",
              "    </tr>\n",
              "    <tr>\n",
              "      <th>308</th>\n",
              "      <td>9.294</td>\n",
              "    </tr>\n",
              "    <tr>\n",
              "      <th>309</th>\n",
              "      <td>9.488</td>\n",
              "    </tr>\n",
              "    <tr>\n",
              "      <th>310</th>\n",
              "      <td>9.544</td>\n",
              "    </tr>\n",
              "    <tr>\n",
              "      <th>311</th>\n",
              "      <td>9.772</td>\n",
              "    </tr>\n",
              "    <tr>\n",
              "      <th>312</th>\n",
              "      <td>9.834</td>\n",
              "    </tr>\n",
              "  </tbody>\n",
              "</table>\n",
              "</div>"
            ],
            "text/plain": [
              "      Open\n",
              "303  9.224\n",
              "304  9.238\n",
              "305  9.208\n",
              "306  9.204\n",
              "307  9.286\n",
              "308  9.294\n",
              "309  9.488\n",
              "310  9.544\n",
              "311  9.772\n",
              "312  9.834"
            ]
          },
          "metadata": {
            "tags": []
          }
        }
      ]
    },
    {
      "cell_type": "code",
      "metadata": {
        "id": "k6inYG8r8vCL",
        "colab_type": "code",
        "colab": {}
      },
      "source": [
        "# Feature Scaling\n",
        "from sklearn.preprocessing import MinMaxScaler\n",
        "sc = MinMaxScaler(feature_range = (0, 1))\n",
        "test_set_scaled = sc.fit_transform(test_set)"
      ],
      "execution_count": 0,
      "outputs": []
    },
    {
      "cell_type": "code",
      "metadata": {
        "id": "btQwHU0h83_P",
        "colab_type": "code",
        "colab": {
          "base_uri": "https://localhost:8080/",
          "height": 204
        },
        "outputId": "fe27752b-1d87-4724-9233-e1cad5eb2c05"
      },
      "source": [
        "test_set_scaled=pd.DataFrame(test_set_scaled)\n",
        "test_set_scaled.head()"
      ],
      "execution_count": 24,
      "outputs": [
        {
          "output_type": "execute_result",
          "data": {
            "application/vnd.dataresource+json": {
              "data": [
                {
                  "0": 0.1624955939,
                  "index": 0
                },
                {
                  "0": 0.1698977793,
                  "index": 1
                },
                {
                  "0": 0.1540359535,
                  "index": 2
                },
                {
                  "0": 0.1519210434,
                  "index": 3
                },
                {
                  "0": 0.1952767007,
                  "index": 4
                }
              ],
              "schema": {
                "fields": [
                  {
                    "type": "integer",
                    "name": "index"
                  },
                  {
                    "type": "number",
                    "name": 0
                  }
                ],
                "pandas_version": "0.20.0",
                "primaryKey": [
                  "index"
                ]
              }
            },
            "text/html": [
              "<div>\n",
              "<style scoped>\n",
              "    .dataframe tbody tr th:only-of-type {\n",
              "        vertical-align: middle;\n",
              "    }\n",
              "\n",
              "    .dataframe tbody tr th {\n",
              "        vertical-align: top;\n",
              "    }\n",
              "\n",
              "    .dataframe thead th {\n",
              "        text-align: right;\n",
              "    }\n",
              "</style>\n",
              "<table border=\"1\" class=\"dataframe\">\n",
              "  <thead>\n",
              "    <tr style=\"text-align: right;\">\n",
              "      <th></th>\n",
              "      <th>0</th>\n",
              "    </tr>\n",
              "  </thead>\n",
              "  <tbody>\n",
              "    <tr>\n",
              "      <th>0</th>\n",
              "      <td>0.162496</td>\n",
              "    </tr>\n",
              "    <tr>\n",
              "      <th>1</th>\n",
              "      <td>0.169898</td>\n",
              "    </tr>\n",
              "    <tr>\n",
              "      <th>2</th>\n",
              "      <td>0.154036</td>\n",
              "    </tr>\n",
              "    <tr>\n",
              "      <th>3</th>\n",
              "      <td>0.151921</td>\n",
              "    </tr>\n",
              "    <tr>\n",
              "      <th>4</th>\n",
              "      <td>0.195277</td>\n",
              "    </tr>\n",
              "  </tbody>\n",
              "</table>\n",
              "</div>"
            ],
            "text/plain": [
              "          0\n",
              "0  0.162496\n",
              "1  0.169898\n",
              "2  0.154036\n",
              "3  0.151921\n",
              "4  0.195277"
            ]
          },
          "metadata": {
            "tags": []
          },
          "execution_count": 24
        }
      ]
    },
    {
      "cell_type": "code",
      "metadata": {
        "id": "5A3QcLXe86yq",
        "colab_type": "code",
        "colab": {
          "base_uri": "https://localhost:8080/",
          "height": 353
        },
        "outputId": "a5dc46e0-e169-4f70-b112-96141591d0f9"
      },
      "source": [
        "dataset_total = pd.concat((training_set['Open'], test_set['Open']), axis = 0)\n",
        "inputs = dataset_total[len(dataset_total) - len(test_set) - TIME_STEP:].values\n",
        "inputs = inputs.reshape(-1,1)\n",
        "inputs = sc.transform(inputs)\n",
        "X_test = []\n",
        "for i in range(TIME_STEP, 80):\n",
        "    X_test.append(inputs[i-TIME_STEP:i, 0])\n",
        "print(len(X_test[0]))\n",
        "X_test = np.array(X_test)\n",
        "X_test = np.reshape(X_test, (X_test.shape[0], X_test.shape[1], 1))\n",
        "predicted_stock_price = regressor.predict(X_test)\n",
        "predicted_stock_price = sc.inverse_transform(predicted_stock_price)\n",
        "print(X_test.shape)\n",
        "print(predicted_stock_price.shape)\n",
        "\n",
        "inputs = dataset_total[len(dataset_total) - len(test_set) - TIME_STEP:].values\n",
        "inputs = inputs.reshape(-1,1)\n",
        "real_stock_price = []\n",
        "for i in range(TIME_STEP, 80):\n",
        "    real_stock_price.append(inputs[i-TIME_STEP:i, 0])    \n",
        "real_stock_prices = np.array(real_stock_price)\n",
        "#print(real_stock_price)\n",
        "\n",
        "#print(predicted_stock_price.shape)\n",
        "#print(real_stock_prices.shape)\n",
        "real_stock_prices = dataset_total[len(dataset_total) - len(test_set) - 60:].values\n",
        "real_stock_prices = real_stock_prices.reshape(-1,1)\n",
        "#print(len(real_stock_prices))\n",
        "#print(len(predicted_stock_price))\n",
        "\n",
        "# Visualising the results\n",
        "plt.plot(real_stock_prices, color = 'red', label = 'Real Genting Stock Price')\n",
        "plt.plot(predicted_stock_price, color = 'blue', label = 'Predicted Genting Stock Price')\n",
        "plt.title('Genting Stock Price Prediction')\n",
        "plt.xlabel('Time')\n",
        "plt.ylabel('Genting Stock Price')\n",
        "plt.legend()\n",
        "plt.show()\n",
        "#print(predicted_stock_price)\n",
        "#print(test_set)"
      ],
      "execution_count": 29,
      "outputs": [
        {
          "output_type": "stream",
          "text": [
            "30\n",
            "(50, 30, 1)\n",
            "(50, 1)\n"
          ],
          "name": "stdout"
        },
        {
          "output_type": "display_data",
          "data": {
            "image/png": "[encoded data removed]",
            "text/plain": [
              "<Figure size 432x288 with 1 Axes>"
            ]
          },
          "metadata": {
            "tags": []
          }
        }
      ]
    },
    {
      "cell_type": "code",
      "metadata": {
        "id": "wSh3vpi-96qj",
        "colab_type": "code",
        "colab": {}
      },
      "source": [
        ""
      ],
      "execution_count": 0,
      "outputs": []
    }
  ]
}
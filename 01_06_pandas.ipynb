{
 "cells": [
  {
   "cell_type": "code",
   "execution_count": null,
   "metadata": {
    "colab": {},
    "colab_type": "code",
    "id": "9wpj9cC22imp"
   },
   "outputs": [],
   "source": [
    "import pandas as pd \n",
    "import numpy as np\n",
    "import matplotlib.pyplot as plt\n",
    "import seaborn as sns \n",
    "\n",
    "import warnings\n",
    "# current version of seaborn generates a bunch of warnings that we'll ignore\n",
    "warnings.filterwarnings('ignore')\n",
    "sns.set_style('whitegrid')\n",
    "\n",
    "import missingno as msno # missing data visualization module for Python\n",
    "import pandas_profiling\n",
    "\n",
    "import gc\n",
    "import datetime\n",
    "\n",
    "%matplotlib inline\n",
    "color = sns.color_palette()"
   ]
  },
  {
   "cell_type": "markdown",
   "metadata": {
    "colab_type": "text",
    "id": "KNjsLf8u2imv"
   },
   "source": [
    "### idxmin() and idxmax()"
   ]
  },
  {
   "cell_type": "code",
   "execution_count": null,
   "metadata": {
    "colab": {},
    "colab_type": "code",
    "id": "cRriyNt52imw"
   },
   "outputs": [],
   "source": [
    "x = pd.Series([1,3,2,8,124,4,2,1])"
   ]
  },
  {
   "cell_type": "code",
   "execution_count": null,
   "metadata": {
    "colab": {},
    "colab_type": "code",
    "id": "tQxHs-JA2imy",
    "outputId": "33a54e96-ea2b-4e22-c7f4-81dc1b6961dd"
   },
   "outputs": [
    {
     "data": {
      "text/plain": [
       "0"
      ]
     },
     "execution_count": 4,
     "metadata": {
      "tags": []
     },
     "output_type": "execute_result"
    }
   ],
   "source": [
    "x.idxmin()"
   ]
  },
  {
   "cell_type": "code",
   "execution_count": null,
   "metadata": {
    "colab": {},
    "colab_type": "code",
    "id": "hg7nzlPA2im1",
    "outputId": "d1b05c21-4d93-45e9-d330-0b29f80cf28c"
   },
   "outputs": [
    {
     "data": {
      "text/plain": [
       "4"
      ]
     },
     "execution_count": 5,
     "metadata": {
      "tags": []
     },
     "output_type": "execute_result"
    }
   ],
   "source": [
    "x.idxmax()"
   ]
  },
  {
   "cell_type": "markdown",
   "metadata": {
    "colab_type": "text",
    "id": "RT6MDk932im4"
   },
   "source": [
    "### ne()"
   ]
  },
  {
   "cell_type": "code",
   "execution_count": null,
   "metadata": {
    "colab": {},
    "colab_type": "code",
    "id": "UED5VxD82im4"
   },
   "outputs": [],
   "source": [
    "df = pd.DataFrame()\n",
    "df['X'] = [0,0,0,0,0,0,1,3,2,4,3,12,7]"
   ]
  },
  {
   "cell_type": "code",
   "execution_count": null,
   "metadata": {
    "colab": {},
    "colab_type": "code",
    "id": "4sHp360B2im7",
    "outputId": "d95a0598-d853-4ff8-aab8-da6b1d15a943"
   },
   "outputs": [
    {
     "data": {
      "text/plain": [
       "0     False\n",
       "1     False\n",
       "2     False\n",
       "3     False\n",
       "4     False\n",
       "5     False\n",
       "6      True\n",
       "7      True\n",
       "8      True\n",
       "9      True\n",
       "10     True\n",
       "11     True\n",
       "12     True\n",
       "Name: X, dtype: bool"
      ]
     },
     "execution_count": 8,
     "metadata": {
      "tags": []
     },
     "output_type": "execute_result"
    }
   ],
   "source": [
    "df['X'].ne(0)"
   ]
  },
  {
   "cell_type": "code",
   "execution_count": null,
   "metadata": {
    "colab": {},
    "colab_type": "code",
    "id": "eyeMSOqe2im9",
    "outputId": "731c93cb-7e20-451d-cd80-f3d2f02d96aa"
   },
   "outputs": [
    {
     "data": {
      "text/plain": [
       "6"
      ]
     },
     "execution_count": 9,
     "metadata": {
      "tags": []
     },
     "output_type": "execute_result"
    }
   ],
   "source": [
    "df['X'].ne(0).idxmax()"
   ]
  },
  {
   "cell_type": "code",
   "execution_count": null,
   "metadata": {
    "colab": {},
    "colab_type": "code",
    "id": "9pnknAmh2inA",
    "outputId": "7a2d2d07-d893-4129-ca8d-3e738674a199"
   },
   "outputs": [
    {
     "data": {
      "text/html": [
       "<div>\n",
       "<style scoped>\n",
       "    .dataframe tbody tr th:only-of-type {\n",
       "        vertical-align: middle;\n",
       "    }\n",
       "\n",
       "    .dataframe tbody tr th {\n",
       "        vertical-align: top;\n",
       "    }\n",
       "\n",
       "    .dataframe thead th {\n",
       "        text-align: right;\n",
       "    }\n",
       "</style>\n",
       "<table border=\"1\" class=\"dataframe\">\n",
       "  <thead>\n",
       "    <tr style=\"text-align: right;\">\n",
       "      <th></th>\n",
       "      <th>X</th>\n",
       "    </tr>\n",
       "  </thead>\n",
       "  <tbody>\n",
       "    <tr>\n",
       "      <th>6</th>\n",
       "      <td>1</td>\n",
       "    </tr>\n",
       "    <tr>\n",
       "      <th>7</th>\n",
       "      <td>3</td>\n",
       "    </tr>\n",
       "    <tr>\n",
       "      <th>8</th>\n",
       "      <td>2</td>\n",
       "    </tr>\n",
       "    <tr>\n",
       "      <th>9</th>\n",
       "      <td>4</td>\n",
       "    </tr>\n",
       "    <tr>\n",
       "      <th>10</th>\n",
       "      <td>3</td>\n",
       "    </tr>\n",
       "    <tr>\n",
       "      <th>11</th>\n",
       "      <td>12</td>\n",
       "    </tr>\n",
       "    <tr>\n",
       "      <th>12</th>\n",
       "      <td>7</td>\n",
       "    </tr>\n",
       "  </tbody>\n",
       "</table>\n",
       "</div>"
      ],
      "text/plain": [
       "     X\n",
       "6    1\n",
       "7    3\n",
       "8    2\n",
       "9    4\n",
       "10   3\n",
       "11  12\n",
       "12   7"
      ]
     },
     "execution_count": 11,
     "metadata": {
      "tags": []
     },
     "output_type": "execute_result"
    }
   ],
   "source": [
    "df.loc[df['X'].ne(0).idxmax():]"
   ]
  },
  {
   "cell_type": "markdown",
   "metadata": {
    "colab_type": "text",
    "id": "1dfG1GLr2inD"
   },
   "source": [
    "### nsmallest and nlargest()"
   ]
  },
  {
   "cell_type": "code",
   "execution_count": null,
   "metadata": {
    "colab": {},
    "colab_type": "code",
    "id": "JePlfZRP2inE"
   },
   "outputs": [],
   "source": [
    "df = pd.DataFrame({\n",
    "    'Name': [\n",
    "        'Bob', 'Mark', 'Steph', 'Jess', 'Becky'\n",
    "    ],\n",
    "    'Points': [\n",
    "        55, 98,46,77,81\n",
    "    ]\n",
    "})"
   ]
  },
  {
   "cell_type": "code",
   "execution_count": null,
   "metadata": {
    "colab": {},
    "colab_type": "code",
    "id": "O5sg4MV72inG",
    "outputId": "eaa81b5e-a411-43bf-bcff-93ebab068ab2"
   },
   "outputs": [
    {
     "data": {
      "text/html": [
       "<div>\n",
       "<style scoped>\n",
       "    .dataframe tbody tr th:only-of-type {\n",
       "        vertical-align: middle;\n",
       "    }\n",
       "\n",
       "    .dataframe tbody tr th {\n",
       "        vertical-align: top;\n",
       "    }\n",
       "\n",
       "    .dataframe thead th {\n",
       "        text-align: right;\n",
       "    }\n",
       "</style>\n",
       "<table border=\"1\" class=\"dataframe\">\n",
       "  <thead>\n",
       "    <tr style=\"text-align: right;\">\n",
       "      <th></th>\n",
       "      <th>Name</th>\n",
       "      <th>Points</th>\n",
       "    </tr>\n",
       "  </thead>\n",
       "  <tbody>\n",
       "    <tr>\n",
       "      <th>0</th>\n",
       "      <td>Bob</td>\n",
       "      <td>55</td>\n",
       "    </tr>\n",
       "    <tr>\n",
       "      <th>1</th>\n",
       "      <td>Mark</td>\n",
       "      <td>98</td>\n",
       "    </tr>\n",
       "    <tr>\n",
       "      <th>2</th>\n",
       "      <td>Steph</td>\n",
       "      <td>46</td>\n",
       "    </tr>\n",
       "    <tr>\n",
       "      <th>3</th>\n",
       "      <td>Jess</td>\n",
       "      <td>77</td>\n",
       "    </tr>\n",
       "    <tr>\n",
       "      <th>4</th>\n",
       "      <td>Becky</td>\n",
       "      <td>81</td>\n",
       "    </tr>\n",
       "  </tbody>\n",
       "</table>\n",
       "</div>"
      ],
      "text/plain": [
       "    Name  Points\n",
       "0    Bob      55\n",
       "1   Mark      98\n",
       "2  Steph      46\n",
       "3   Jess      77\n",
       "4  Becky      81"
      ]
     },
     "execution_count": 17,
     "metadata": {
      "tags": []
     },
     "output_type": "execute_result"
    }
   ],
   "source": [
    "df"
   ]
  },
  {
   "cell_type": "code",
   "execution_count": null,
   "metadata": {
    "colab": {},
    "colab_type": "code",
    "id": "x9N_iLi_2inJ",
    "outputId": "0e6b3a8c-1952-4941-b4f4-5e02ab1171b6"
   },
   "outputs": [
    {
     "data": {
      "text/html": [
       "<div>\n",
       "<style scoped>\n",
       "    .dataframe tbody tr th:only-of-type {\n",
       "        vertical-align: middle;\n",
       "    }\n",
       "\n",
       "    .dataframe tbody tr th {\n",
       "        vertical-align: top;\n",
       "    }\n",
       "\n",
       "    .dataframe thead th {\n",
       "        text-align: right;\n",
       "    }\n",
       "</style>\n",
       "<table border=\"1\" class=\"dataframe\">\n",
       "  <thead>\n",
       "    <tr style=\"text-align: right;\">\n",
       "      <th></th>\n",
       "      <th>Name</th>\n",
       "      <th>Points</th>\n",
       "    </tr>\n",
       "  </thead>\n",
       "  <tbody>\n",
       "    <tr>\n",
       "      <th>2</th>\n",
       "      <td>Steph</td>\n",
       "      <td>46</td>\n",
       "    </tr>\n",
       "    <tr>\n",
       "      <th>0</th>\n",
       "      <td>Bob</td>\n",
       "      <td>55</td>\n",
       "    </tr>\n",
       "    <tr>\n",
       "      <th>3</th>\n",
       "      <td>Jess</td>\n",
       "      <td>77</td>\n",
       "    </tr>\n",
       "  </tbody>\n",
       "</table>\n",
       "</div>"
      ],
      "text/plain": [
       "    Name  Points\n",
       "2  Steph      46\n",
       "0    Bob      55\n",
       "3   Jess      77"
      ]
     },
     "execution_count": 18,
     "metadata": {
      "tags": []
     },
     "output_type": "execute_result"
    }
   ],
   "source": [
    "df.nsmallest(3,'Points')"
   ]
  },
  {
   "cell_type": "code",
   "execution_count": null,
   "metadata": {
    "colab": {},
    "colab_type": "code",
    "id": "rw8iMDf62inL",
    "outputId": "d7fa6304-4bea-4b91-a3bc-3c9dd6a61125"
   },
   "outputs": [
    {
     "data": {
      "text/html": [
       "<div>\n",
       "<style scoped>\n",
       "    .dataframe tbody tr th:only-of-type {\n",
       "        vertical-align: middle;\n",
       "    }\n",
       "\n",
       "    .dataframe tbody tr th {\n",
       "        vertical-align: top;\n",
       "    }\n",
       "\n",
       "    .dataframe thead th {\n",
       "        text-align: right;\n",
       "    }\n",
       "</style>\n",
       "<table border=\"1\" class=\"dataframe\">\n",
       "  <thead>\n",
       "    <tr style=\"text-align: right;\">\n",
       "      <th></th>\n",
       "      <th>Name</th>\n",
       "      <th>Points</th>\n",
       "    </tr>\n",
       "  </thead>\n",
       "  <tbody>\n",
       "    <tr>\n",
       "      <th>1</th>\n",
       "      <td>Mark</td>\n",
       "      <td>98</td>\n",
       "    </tr>\n",
       "    <tr>\n",
       "      <th>4</th>\n",
       "      <td>Becky</td>\n",
       "      <td>81</td>\n",
       "    </tr>\n",
       "    <tr>\n",
       "      <th>3</th>\n",
       "      <td>Jess</td>\n",
       "      <td>77</td>\n",
       "    </tr>\n",
       "  </tbody>\n",
       "</table>\n",
       "</div>"
      ],
      "text/plain": [
       "    Name  Points\n",
       "1   Mark      98\n",
       "4  Becky      81\n",
       "3   Jess      77"
      ]
     },
     "execution_count": 21,
     "metadata": {
      "tags": []
     },
     "output_type": "execute_result"
    }
   ],
   "source": [
    "df.nlargest(3, 'Points')"
   ]
  },
  {
   "cell_type": "markdown",
   "metadata": {
    "colab_type": "text",
    "id": "G1tqut5u2inN"
   },
   "source": [
    "### cut()"
   ]
  },
  {
   "cell_type": "code",
   "execution_count": null,
   "metadata": {
    "colab": {},
    "colab_type": "code",
    "id": "IvZopMkr2inP",
    "outputId": "f9f244f1-a0a7-4862-cd23-89076de1b84c"
   },
   "outputs": [
    {
     "data": {
      "text/plain": [
       "0    (45.948, 56.4]\n",
       "1      (87.6, 98.0]\n",
       "2    (45.948, 56.4]\n",
       "3      (66.8, 77.2]\n",
       "4      (77.2, 87.6]\n",
       "Name: Points, dtype: category\n",
       "Categories (5, interval[float64]): [(45.948, 56.4] < (56.4, 66.8] < (66.8, 77.2] < (77.2, 87.6] < (87.6, 98.0]]"
      ]
     },
     "execution_count": 24,
     "metadata": {
      "tags": []
     },
     "output_type": "execute_result"
    }
   ],
   "source": [
    "pd.cut(df['Points'],5)"
   ]
  },
  {
   "cell_type": "markdown",
   "metadata": {
    "colab_type": "text",
    "id": "FbVXL4yD2inS"
   },
   "source": [
    "### pivot_table()"
   ]
  },
  {
   "cell_type": "code",
   "execution_count": null,
   "metadata": {
    "colab": {},
    "colab_type": "code",
    "id": "5rMumPj82inS",
    "outputId": "8b6474f2-81c8-408e-f492-e11a75024529"
   },
   "outputs": [
    {
     "data": {
      "text/html": [
       "<div>\n",
       "<style scoped>\n",
       "    .dataframe tbody tr th:only-of-type {\n",
       "        vertical-align: middle;\n",
       "    }\n",
       "\n",
       "    .dataframe tbody tr th {\n",
       "        vertical-align: top;\n",
       "    }\n",
       "\n",
       "    .dataframe thead th {\n",
       "        text-align: right;\n",
       "    }\n",
       "</style>\n",
       "<table border=\"1\" class=\"dataframe\">\n",
       "  <thead>\n",
       "    <tr style=\"text-align: right;\">\n",
       "      <th>Name</th>\n",
       "      <th>Becky</th>\n",
       "      <th>Bob</th>\n",
       "      <th>Jess</th>\n",
       "      <th>Mark</th>\n",
       "      <th>Steph</th>\n",
       "    </tr>\n",
       "    <tr>\n",
       "      <th>Name</th>\n",
       "      <th></th>\n",
       "      <th></th>\n",
       "      <th></th>\n",
       "      <th></th>\n",
       "      <th></th>\n",
       "    </tr>\n",
       "  </thead>\n",
       "  <tbody>\n",
       "    <tr>\n",
       "      <th>Becky</th>\n",
       "      <td>81.0</td>\n",
       "      <td>NaN</td>\n",
       "      <td>NaN</td>\n",
       "      <td>NaN</td>\n",
       "      <td>NaN</td>\n",
       "    </tr>\n",
       "    <tr>\n",
       "      <th>Bob</th>\n",
       "      <td>NaN</td>\n",
       "      <td>55.0</td>\n",
       "      <td>NaN</td>\n",
       "      <td>NaN</td>\n",
       "      <td>NaN</td>\n",
       "    </tr>\n",
       "    <tr>\n",
       "      <th>Jess</th>\n",
       "      <td>NaN</td>\n",
       "      <td>NaN</td>\n",
       "      <td>77.0</td>\n",
       "      <td>NaN</td>\n",
       "      <td>NaN</td>\n",
       "    </tr>\n",
       "    <tr>\n",
       "      <th>Mark</th>\n",
       "      <td>NaN</td>\n",
       "      <td>NaN</td>\n",
       "      <td>NaN</td>\n",
       "      <td>98.0</td>\n",
       "      <td>NaN</td>\n",
       "    </tr>\n",
       "    <tr>\n",
       "      <th>Steph</th>\n",
       "      <td>NaN</td>\n",
       "      <td>NaN</td>\n",
       "      <td>NaN</td>\n",
       "      <td>NaN</td>\n",
       "      <td>46.0</td>\n",
       "    </tr>\n",
       "  </tbody>\n",
       "</table>\n",
       "</div>"
      ],
      "text/plain": [
       "Name   Becky   Bob  Jess  Mark  Steph\n",
       "Name                                 \n",
       "Becky   81.0   NaN   NaN   NaN    NaN\n",
       "Bob      NaN  55.0   NaN   NaN    NaN\n",
       "Jess     NaN   NaN  77.0   NaN    NaN\n",
       "Mark     NaN   NaN   NaN  98.0    NaN\n",
       "Steph    NaN   NaN   NaN   NaN   46.0"
      ]
     },
     "execution_count": 44,
     "metadata": {
      "tags": []
     },
     "output_type": "execute_result"
    }
   ],
   "source": [
    "df.pivot_table(index='Name', columns='Name', values='Points')"
   ]
  },
  {
   "cell_type": "markdown",
   "metadata": {
    "colab_type": "text",
    "id": "VYRTI0lp2inV"
   },
   "source": [
    "https://www.kaggle.com/mengwangk/kernelb53fef5f6e/edit"
   ]
  },
  {
   "cell_type": "code",
   "execution_count": 10,
   "metadata": {
    "colab": {
     "base_uri": "https://localhost:8080/",
     "height": 139
    },
    "colab_type": "code",
    "id": "NLcQ01vhSUqk",
    "outputId": "a9c29c84-097b-415e-a897-1a02b5148e3b"
   },
   "outputs": [
    {
     "data": {
      "text/html": [
       "<div>\n",
       "<style scoped>\n",
       "    .dataframe tbody tr th:only-of-type {\n",
       "        vertical-align: middle;\n",
       "    }\n",
       "\n",
       "    .dataframe tbody tr th {\n",
       "        vertical-align: top;\n",
       "    }\n",
       "\n",
       "    .dataframe thead th {\n",
       "        text-align: right;\n",
       "    }\n",
       "</style>\n",
       "<table border=\"1\" class=\"dataframe\">\n",
       "  <thead>\n",
       "    <tr style=\"text-align: right;\">\n",
       "      <th></th>\n",
       "      <th>a</th>\n",
       "      <th>b</th>\n",
       "      <th>c</th>\n",
       "    </tr>\n",
       "  </thead>\n",
       "  <tbody>\n",
       "    <tr>\n",
       "      <th>0</th>\n",
       "      <td>1</td>\n",
       "      <td>2</td>\n",
       "      <td>x</td>\n",
       "    </tr>\n",
       "    <tr>\n",
       "      <th>1</th>\n",
       "      <td>4</td>\n",
       "      <td>5</td>\n",
       "      <td>y</td>\n",
       "    </tr>\n",
       "    <tr>\n",
       "      <th>2</th>\n",
       "      <td>7</td>\n",
       "      <td>8</td>\n",
       "      <td>None</td>\n",
       "    </tr>\n",
       "  </tbody>\n",
       "</table>\n",
       "</div>"
      ],
      "text/plain": [
       "   a  b     c\n",
       "0  1  2     x\n",
       "1  4  5     y\n",
       "2  7  8  None"
      ]
     },
     "execution_count": 10,
     "metadata": {
      "tags": []
     },
     "output_type": "execute_result"
    }
   ],
   "source": [
    "df2 = pd.DataFrame(np.array([[1, 2, 'x'], [4, 5, 'y'], [7, 8, None]]),\n",
    "                    columns=['a', 'b', 'c'])\n",
    "df2.head()"
   ]
  },
  {
   "cell_type": "code",
   "execution_count": 11,
   "metadata": {
    "colab": {
     "base_uri": "https://localhost:8080/",
     "height": 159
    },
    "colab_type": "code",
    "id": "VHFR3yELSYCE",
    "outputId": "03c7cdcc-c56e-46c6-cfb4-fc4a83856856"
   },
   "outputs": [
    {
     "name": "stdout",
     "output_type": "stream",
     "text": [
      "<class 'pandas.core.frame.DataFrame'>\n",
      "RangeIndex: 3 entries, 0 to 2\n",
      "Data columns (total 3 columns):\n",
      "a    3 non-null object\n",
      "b    3 non-null object\n",
      "c    2 non-null object\n",
      "dtypes: object(3)\n",
      "memory usage: 200.0+ bytes\n"
     ]
    }
   ],
   "source": [
    "df2.info()"
   ]
  },
  {
   "cell_type": "markdown",
   "metadata": {
    "colab_type": "text",
    "id": "BNLKFp4zSyb8"
   },
   "source": [
    "## Check missing values"
   ]
  },
  {
   "cell_type": "code",
   "execution_count": 12,
   "metadata": {
    "colab": {
     "base_uri": "https://localhost:8080/",
     "height": 88
    },
    "colab_type": "code",
    "id": "yi2xblMCS4ep",
    "outputId": "3b8687a3-6235-4740-a533-96deffa60103"
   },
   "outputs": [
    {
     "data": {
      "text/plain": [
       "c    1\n",
       "b    0\n",
       "a    0\n",
       "dtype: int64"
      ]
     },
     "execution_count": 12,
     "metadata": {
      "tags": []
     },
     "output_type": "execute_result"
    }
   ],
   "source": [
    "# check missing values for each column \n",
    "df2.isnull().sum().sort_values(ascending=False)"
   ]
  },
  {
   "cell_type": "code",
   "execution_count": 13,
   "metadata": {
    "colab": {
     "base_uri": "https://localhost:8080/",
     "height": 78
    },
    "colab_type": "code",
    "id": "fiYZNjdHS5dF",
    "outputId": "34167c7d-6eee-49e4-c823-5c0943712dd9"
   },
   "outputs": [
    {
     "data": {
      "text/html": [
       "<div>\n",
       "<style scoped>\n",
       "    .dataframe tbody tr th:only-of-type {\n",
       "        vertical-align: middle;\n",
       "    }\n",
       "\n",
       "    .dataframe tbody tr th {\n",
       "        vertical-align: top;\n",
       "    }\n",
       "\n",
       "    .dataframe thead th {\n",
       "        text-align: right;\n",
       "    }\n",
       "</style>\n",
       "<table border=\"1\" class=\"dataframe\">\n",
       "  <thead>\n",
       "    <tr style=\"text-align: right;\">\n",
       "      <th></th>\n",
       "      <th>a</th>\n",
       "      <th>b</th>\n",
       "      <th>c</th>\n",
       "    </tr>\n",
       "  </thead>\n",
       "  <tbody>\n",
       "    <tr>\n",
       "      <th>2</th>\n",
       "      <td>7</td>\n",
       "      <td>8</td>\n",
       "      <td>None</td>\n",
       "    </tr>\n",
       "  </tbody>\n",
       "</table>\n",
       "</div>"
      ],
      "text/plain": [
       "   a  b     c\n",
       "2  7  8  None"
      ]
     },
     "execution_count": 13,
     "metadata": {
      "tags": []
     },
     "output_type": "execute_result"
    }
   ],
   "source": [
    "# Row with missing values\n",
    "# check out the rows with missing values\n",
    "df2[df2.isnull().any(axis=1)].head()"
   ]
  },
  {
   "cell_type": "code",
   "execution_count": 14,
   "metadata": {
    "colab": {
     "base_uri": "https://localhost:8080/",
     "height": 109
    },
    "colab_type": "code",
    "id": "dMpJR-2cTMyW",
    "outputId": "2e173d9c-6d5c-4424-9cd8-36e84bf7e292"
   },
   "outputs": [
    {
     "data": {
      "text/html": [
       "<div>\n",
       "<style scoped>\n",
       "    .dataframe tbody tr th:only-of-type {\n",
       "        vertical-align: middle;\n",
       "    }\n",
       "\n",
       "    .dataframe tbody tr th {\n",
       "        vertical-align: top;\n",
       "    }\n",
       "\n",
       "    .dataframe thead th {\n",
       "        text-align: right;\n",
       "    }\n",
       "</style>\n",
       "<table border=\"1\" class=\"dataframe\">\n",
       "  <thead>\n",
       "    <tr style=\"text-align: right;\">\n",
       "      <th></th>\n",
       "      <th>a</th>\n",
       "      <th>b</th>\n",
       "      <th>c</th>\n",
       "    </tr>\n",
       "  </thead>\n",
       "  <tbody>\n",
       "    <tr>\n",
       "      <th>0</th>\n",
       "      <td>1</td>\n",
       "      <td>2</td>\n",
       "      <td>x</td>\n",
       "    </tr>\n",
       "    <tr>\n",
       "      <th>1</th>\n",
       "      <td>4</td>\n",
       "      <td>5</td>\n",
       "      <td>y</td>\n",
       "    </tr>\n",
       "  </tbody>\n",
       "</table>\n",
       "</div>"
      ],
      "text/plain": [
       "   a  b  c\n",
       "0  1  2  x\n",
       "1  4  5  y"
      ]
     },
     "execution_count": 14,
     "metadata": {
      "tags": []
     },
     "output_type": "execute_result"
    }
   ],
   "source": [
    "## Remove rows with missing values\n",
    "df_new = df2.dropna()\n",
    "df_new"
   ]
  },
  {
   "cell_type": "code",
   "execution_count": 15,
   "metadata": {
    "colab": {
     "base_uri": "https://localhost:8080/",
     "height": 88
    },
    "colab_type": "code",
    "id": "DLPlPW6_Ta0l",
    "outputId": "03e4970b-19f5-4edc-d249-13e88270a53c"
   },
   "outputs": [
    {
     "data": {
      "text/plain": [
       "c    0\n",
       "b    0\n",
       "a    0\n",
       "dtype: int64"
      ]
     },
     "execution_count": 15,
     "metadata": {
      "tags": []
     },
     "output_type": "execute_result"
    }
   ],
   "source": [
    "# check missing values for each column \n",
    "df_new.isnull().sum().sort_values(ascending=False)"
   ]
  },
  {
   "cell_type": "code",
   "execution_count": 16,
   "metadata": {
    "colab": {
     "base_uri": "https://localhost:8080/",
     "height": 159
    },
    "colab_type": "code",
    "id": "HDzpKZCqToL0",
    "outputId": "210f8970-cf63-4c5d-f6d4-22d0880fc766"
   },
   "outputs": [
    {
     "name": "stdout",
     "output_type": "stream",
     "text": [
      "<class 'pandas.core.frame.DataFrame'>\n",
      "Int64Index: 2 entries, 0 to 1\n",
      "Data columns (total 3 columns):\n",
      "a    2 non-null int64\n",
      "b    2 non-null object\n",
      "c    2 non-null object\n",
      "dtypes: int64(1), object(2)\n",
      "memory usage: 64.0+ bytes\n"
     ]
    }
   ],
   "source": [
    "# change columns tyoe - String to Int type \n",
    "df_new['a'] = df_new['a'].astype('int64')\n",
    "df_new.info()"
   ]
  },
  {
   "cell_type": "code",
   "execution_count": 17,
   "metadata": {
    "colab": {
     "base_uri": "https://localhost:8080/",
     "height": 291
    },
    "colab_type": "code",
    "id": "dNwZrd0JTuia",
    "outputId": "3e841ad2-1bdb-4746-f2f5-a8e8ad7f5942"
   },
   "outputs": [
    {
     "data": {
      "text/html": [
       "<div>\n",
       "<style scoped>\n",
       "    .dataframe tbody tr th:only-of-type {\n",
       "        vertical-align: middle;\n",
       "    }\n",
       "\n",
       "    .dataframe tbody tr th {\n",
       "        vertical-align: top;\n",
       "    }\n",
       "\n",
       "    .dataframe thead th {\n",
       "        text-align: right;\n",
       "    }\n",
       "</style>\n",
       "<table border=\"1\" class=\"dataframe\">\n",
       "  <thead>\n",
       "    <tr style=\"text-align: right;\">\n",
       "      <th></th>\n",
       "      <th>a</th>\n",
       "    </tr>\n",
       "  </thead>\n",
       "  <tbody>\n",
       "    <tr>\n",
       "      <th>count</th>\n",
       "      <td>2.00</td>\n",
       "    </tr>\n",
       "    <tr>\n",
       "      <th>mean</th>\n",
       "      <td>2.50</td>\n",
       "    </tr>\n",
       "    <tr>\n",
       "      <th>std</th>\n",
       "      <td>2.12</td>\n",
       "    </tr>\n",
       "    <tr>\n",
       "      <th>min</th>\n",
       "      <td>1.00</td>\n",
       "    </tr>\n",
       "    <tr>\n",
       "      <th>25%</th>\n",
       "      <td>1.75</td>\n",
       "    </tr>\n",
       "    <tr>\n",
       "      <th>50%</th>\n",
       "      <td>2.50</td>\n",
       "    </tr>\n",
       "    <tr>\n",
       "      <th>75%</th>\n",
       "      <td>3.25</td>\n",
       "    </tr>\n",
       "    <tr>\n",
       "      <th>max</th>\n",
       "      <td>4.00</td>\n",
       "    </tr>\n",
       "  </tbody>\n",
       "</table>\n",
       "</div>"
      ],
      "text/plain": [
       "          a\n",
       "count  2.00\n",
       "mean   2.50\n",
       "std    2.12\n",
       "min    1.00\n",
       "25%    1.75\n",
       "50%    2.50\n",
       "75%    3.25\n",
       "max    4.00"
      ]
     },
     "execution_count": 17,
     "metadata": {
      "tags": []
     },
     "output_type": "execute_result"
    }
   ],
   "source": [
    "df_new.describe().round(2)"
   ]
  },
  {
   "cell_type": "code",
   "execution_count": 18,
   "metadata": {
    "colab": {
     "base_uri": "https://localhost:8080/",
     "height": 78
    },
    "colab_type": "code",
    "id": "BY_fQLX0T0Sj",
    "outputId": "74b5a291-f3dd-48ac-b563-56fb4bee2878"
   },
   "outputs": [
    {
     "data": {
      "text/html": [
       "<div>\n",
       "<style scoped>\n",
       "    .dataframe tbody tr th:only-of-type {\n",
       "        vertical-align: middle;\n",
       "    }\n",
       "\n",
       "    .dataframe tbody tr th {\n",
       "        vertical-align: top;\n",
       "    }\n",
       "\n",
       "    .dataframe thead th {\n",
       "        text-align: right;\n",
       "    }\n",
       "</style>\n",
       "<table border=\"1\" class=\"dataframe\">\n",
       "  <thead>\n",
       "    <tr style=\"text-align: right;\">\n",
       "      <th></th>\n",
       "      <th>a</th>\n",
       "      <th>b</th>\n",
       "      <th>c</th>\n",
       "    </tr>\n",
       "  </thead>\n",
       "  <tbody>\n",
       "    <tr>\n",
       "      <th>1</th>\n",
       "      <td>4</td>\n",
       "      <td>5</td>\n",
       "      <td>y</td>\n",
       "    </tr>\n",
       "  </tbody>\n",
       "</table>\n",
       "</div>"
      ],
      "text/plain": [
       "   a  b  c\n",
       "1  4  5  y"
      ]
     },
     "execution_count": 18,
     "metadata": {
      "tags": []
     },
     "output_type": "execute_result"
    }
   ],
   "source": [
    "df_new = df_new[df_new.a > 1]\n",
    "df_new"
   ]
  },
  {
   "cell_type": "markdown",
   "metadata": {
    "colab": {},
    "colab_type": "code",
    "id": "A4YQRd8nT-tL"
   },
   "source": [
    "## Map "
   ]
  },
  {
   "cell_type": "code",
   "execution_count": 5,
   "metadata": {},
   "outputs": [
    {
     "data": {
      "text/plain": [
       "0       cat\n",
       "1       dog\n",
       "2       NaN\n",
       "3    rabbit\n",
       "dtype: object"
      ]
     },
     "execution_count": 5,
     "metadata": {},
     "output_type": "execute_result"
    }
   ],
   "source": [
    "s = pd.Series(['cat', 'dog', np.nan, 'rabbit'])\n",
    "s.map({'cat': 'kitten', 'dog': 'puppy'})\n",
    "s"
   ]
  },
  {
   "cell_type": "code",
   "execution_count": 7,
   "metadata": {},
   "outputs": [
    {
     "data": {
      "text/plain": [
       "0       I am a cat\n",
       "1       I am a dog\n",
       "2              NaN\n",
       "3    I am a rabbit\n",
       "dtype: object"
      ]
     },
     "execution_count": 7,
     "metadata": {},
     "output_type": "execute_result"
    }
   ],
   "source": [
    "s.map('I am a {}'.format, na_action='ignore')"
   ]
  },
  {
   "cell_type": "markdown",
   "metadata": {},
   "source": [
    "## Style"
   ]
  },
  {
   "cell_type": "code",
   "execution_count": 10,
   "metadata": {},
   "outputs": [
    {
     "data": {
      "text/html": [
       "<div>\n",
       "<style scoped>\n",
       "    .dataframe tbody tr th:only-of-type {\n",
       "        vertical-align: middle;\n",
       "    }\n",
       "\n",
       "    .dataframe tbody tr th {\n",
       "        vertical-align: top;\n",
       "    }\n",
       "\n",
       "    .dataframe thead th {\n",
       "        text-align: right;\n",
       "    }\n",
       "</style>\n",
       "<table border=\"1\" class=\"dataframe\">\n",
       "  <thead>\n",
       "    <tr style=\"text-align: right;\">\n",
       "      <th></th>\n",
       "      <th>A</th>\n",
       "      <th>B</th>\n",
       "      <th>C</th>\n",
       "      <th>D</th>\n",
       "      <th>E</th>\n",
       "    </tr>\n",
       "  </thead>\n",
       "  <tbody>\n",
       "    <tr>\n",
       "      <th>0</th>\n",
       "      <td>1.0</td>\n",
       "      <td>1.329212</td>\n",
       "      <td>NaN</td>\n",
       "      <td>-0.316280</td>\n",
       "      <td>-0.990810</td>\n",
       "    </tr>\n",
       "    <tr>\n",
       "      <th>1</th>\n",
       "      <td>2.0</td>\n",
       "      <td>-1.070816</td>\n",
       "      <td>-1.438713</td>\n",
       "      <td>0.564417</td>\n",
       "      <td>0.295722</td>\n",
       "    </tr>\n",
       "    <tr>\n",
       "      <th>2</th>\n",
       "      <td>3.0</td>\n",
       "      <td>-1.626404</td>\n",
       "      <td>0.219565</td>\n",
       "      <td>0.678805</td>\n",
       "      <td>1.889273</td>\n",
       "    </tr>\n",
       "    <tr>\n",
       "      <th>3</th>\n",
       "      <td>4.0</td>\n",
       "      <td>0.961538</td>\n",
       "      <td>0.104011</td>\n",
       "      <td>NaN</td>\n",
       "      <td>0.850229</td>\n",
       "    </tr>\n",
       "    <tr>\n",
       "      <th>4</th>\n",
       "      <td>5.0</td>\n",
       "      <td>1.453425</td>\n",
       "      <td>1.057737</td>\n",
       "      <td>0.165562</td>\n",
       "      <td>0.515018</td>\n",
       "    </tr>\n",
       "    <tr>\n",
       "      <th>5</th>\n",
       "      <td>6.0</td>\n",
       "      <td>-1.336936</td>\n",
       "      <td>0.562861</td>\n",
       "      <td>1.392855</td>\n",
       "      <td>-0.063328</td>\n",
       "    </tr>\n",
       "    <tr>\n",
       "      <th>6</th>\n",
       "      <td>7.0</td>\n",
       "      <td>0.121668</td>\n",
       "      <td>1.207603</td>\n",
       "      <td>-0.002040</td>\n",
       "      <td>1.627796</td>\n",
       "    </tr>\n",
       "    <tr>\n",
       "      <th>7</th>\n",
       "      <td>8.0</td>\n",
       "      <td>0.354493</td>\n",
       "      <td>1.037528</td>\n",
       "      <td>-0.385684</td>\n",
       "      <td>0.519818</td>\n",
       "    </tr>\n",
       "    <tr>\n",
       "      <th>8</th>\n",
       "      <td>9.0</td>\n",
       "      <td>1.686583</td>\n",
       "      <td>-1.325963</td>\n",
       "      <td>1.428984</td>\n",
       "      <td>-2.089354</td>\n",
       "    </tr>\n",
       "    <tr>\n",
       "      <th>9</th>\n",
       "      <td>10.0</td>\n",
       "      <td>-0.129820</td>\n",
       "      <td>0.631523</td>\n",
       "      <td>-0.586538</td>\n",
       "      <td>0.290720</td>\n",
       "    </tr>\n",
       "  </tbody>\n",
       "</table>\n",
       "</div>"
      ],
      "text/plain": [
       "      A         B         C         D         E\n",
       "0   1.0  1.329212       NaN -0.316280 -0.990810\n",
       "1   2.0 -1.070816 -1.438713  0.564417  0.295722\n",
       "2   3.0 -1.626404  0.219565  0.678805  1.889273\n",
       "3   4.0  0.961538  0.104011       NaN  0.850229\n",
       "4   5.0  1.453425  1.057737  0.165562  0.515018\n",
       "5   6.0 -1.336936  0.562861  1.392855 -0.063328\n",
       "6   7.0  0.121668  1.207603 -0.002040  1.627796\n",
       "7   8.0  0.354493  1.037528 -0.385684  0.519818\n",
       "8   9.0  1.686583 -1.325963  1.428984 -2.089354\n",
       "9  10.0 -0.129820  0.631523 -0.586538  0.290720"
      ]
     },
     "execution_count": 10,
     "metadata": {},
     "output_type": "execute_result"
    }
   ],
   "source": [
    "np.random.seed(24)\n",
    "df = pd.DataFrame({'A': np.linspace(1, 10, 10)})\n",
    "df = pd.concat([df, pd.DataFrame(np.random.randn(10, 4), columns=list('BCDE'))],\n",
    "               axis=1)\n",
    "df.iloc[3, 3] = np.nan\n",
    "df.iloc[0, 2] = np.nan\n",
    "df"
   ]
  },
  {
   "cell_type": "code",
   "execution_count": 12,
   "metadata": {},
   "outputs": [
    {
     "data": {
      "text/html": [
       "<div>\n",
       "<style scoped>\n",
       "    .dataframe tbody tr th:only-of-type {\n",
       "        vertical-align: middle;\n",
       "    }\n",
       "\n",
       "    .dataframe tbody tr th {\n",
       "        vertical-align: top;\n",
       "    }\n",
       "\n",
       "    .dataframe thead th {\n",
       "        text-align: right;\n",
       "    }\n",
       "</style>\n",
       "<table border=\"1\" class=\"dataframe\">\n",
       "  <thead>\n",
       "    <tr style=\"text-align: right;\">\n",
       "      <th></th>\n",
       "      <th>A</th>\n",
       "      <th>B</th>\n",
       "      <th>C</th>\n",
       "      <th>D</th>\n",
       "      <th>E</th>\n",
       "    </tr>\n",
       "  </thead>\n",
       "  <tbody>\n",
       "    <tr>\n",
       "      <th>0</th>\n",
       "      <td>1.0</td>\n",
       "      <td>1.329212</td>\n",
       "      <td>NaN</td>\n",
       "      <td>-0.316280</td>\n",
       "      <td>-0.990810</td>\n",
       "    </tr>\n",
       "    <tr>\n",
       "      <th>1</th>\n",
       "      <td>2.0</td>\n",
       "      <td>-1.070816</td>\n",
       "      <td>-1.438713</td>\n",
       "      <td>0.564417</td>\n",
       "      <td>0.295722</td>\n",
       "    </tr>\n",
       "    <tr>\n",
       "      <th>2</th>\n",
       "      <td>3.0</td>\n",
       "      <td>-1.626404</td>\n",
       "      <td>0.219565</td>\n",
       "      <td>0.678805</td>\n",
       "      <td>1.889273</td>\n",
       "    </tr>\n",
       "    <tr>\n",
       "      <th>3</th>\n",
       "      <td>4.0</td>\n",
       "      <td>0.961538</td>\n",
       "      <td>0.104011</td>\n",
       "      <td>NaN</td>\n",
       "      <td>0.850229</td>\n",
       "    </tr>\n",
       "    <tr>\n",
       "      <th>4</th>\n",
       "      <td>5.0</td>\n",
       "      <td>1.453425</td>\n",
       "      <td>1.057737</td>\n",
       "      <td>0.165562</td>\n",
       "      <td>0.515018</td>\n",
       "    </tr>\n",
       "    <tr>\n",
       "      <th>5</th>\n",
       "      <td>6.0</td>\n",
       "      <td>-1.336936</td>\n",
       "      <td>0.562861</td>\n",
       "      <td>1.392855</td>\n",
       "      <td>-0.063328</td>\n",
       "    </tr>\n",
       "    <tr>\n",
       "      <th>6</th>\n",
       "      <td>7.0</td>\n",
       "      <td>0.121668</td>\n",
       "      <td>1.207603</td>\n",
       "      <td>-0.002040</td>\n",
       "      <td>1.627796</td>\n",
       "    </tr>\n",
       "    <tr>\n",
       "      <th>7</th>\n",
       "      <td>8.0</td>\n",
       "      <td>0.354493</td>\n",
       "      <td>1.037528</td>\n",
       "      <td>-0.385684</td>\n",
       "      <td>0.519818</td>\n",
       "    </tr>\n",
       "    <tr>\n",
       "      <th>8</th>\n",
       "      <td>9.0</td>\n",
       "      <td>1.686583</td>\n",
       "      <td>-1.325963</td>\n",
       "      <td>1.428984</td>\n",
       "      <td>-2.089354</td>\n",
       "    </tr>\n",
       "    <tr>\n",
       "      <th>9</th>\n",
       "      <td>10.0</td>\n",
       "      <td>-0.129820</td>\n",
       "      <td>0.631523</td>\n",
       "      <td>-0.586538</td>\n",
       "      <td>0.290720</td>\n",
       "    </tr>\n",
       "  </tbody>\n",
       "</table>\n",
       "</div>"
      ],
      "text/plain": [
       "      A         B         C         D         E\n",
       "0   1.0  1.329212       NaN -0.316280 -0.990810\n",
       "1   2.0 -1.070816 -1.438713  0.564417  0.295722\n",
       "2   3.0 -1.626404  0.219565  0.678805  1.889273\n",
       "3   4.0  0.961538  0.104011       NaN  0.850229\n",
       "4   5.0  1.453425  1.057737  0.165562  0.515018\n",
       "5   6.0 -1.336936  0.562861  1.392855 -0.063328\n",
       "6   7.0  0.121668  1.207603 -0.002040  1.627796\n",
       "7   8.0  0.354493  1.037528 -0.385684  0.519818\n",
       "8   9.0  1.686583 -1.325963  1.428984 -2.089354\n",
       "9  10.0 -0.129820  0.631523 -0.586538  0.290720"
      ]
     },
     "execution_count": 12,
     "metadata": {},
     "output_type": "execute_result"
    }
   ],
   "source": [
    "df.style.highlight_null().render().split('\\n')[:10]\n",
    "df"
   ]
  },
  {
   "cell_type": "code",
   "execution_count": 13,
   "metadata": {},
   "outputs": [
    {
     "data": {
      "text/html": [
       "<style  type=\"text/css\" >\n",
       "    #T_9437f628_c513_11ea_adb3_784f43a662cbrow0_col0 {\n",
       "            color:  black;\n",
       "        }    #T_9437f628_c513_11ea_adb3_784f43a662cbrow0_col1 {\n",
       "            color:  black;\n",
       "        }    #T_9437f628_c513_11ea_adb3_784f43a662cbrow0_col2 {\n",
       "            color:  black;\n",
       "        }    #T_9437f628_c513_11ea_adb3_784f43a662cbrow0_col3 {\n",
       "            color:  red;\n",
       "        }    #T_9437f628_c513_11ea_adb3_784f43a662cbrow0_col4 {\n",
       "            color:  red;\n",
       "        }    #T_9437f628_c513_11ea_adb3_784f43a662cbrow1_col0 {\n",
       "            color:  black;\n",
       "        }    #T_9437f628_c513_11ea_adb3_784f43a662cbrow1_col1 {\n",
       "            color:  red;\n",
       "        }    #T_9437f628_c513_11ea_adb3_784f43a662cbrow1_col2 {\n",
       "            color:  red;\n",
       "        }    #T_9437f628_c513_11ea_adb3_784f43a662cbrow1_col3 {\n",
       "            color:  black;\n",
       "        }    #T_9437f628_c513_11ea_adb3_784f43a662cbrow1_col4 {\n",
       "            color:  black;\n",
       "        }    #T_9437f628_c513_11ea_adb3_784f43a662cbrow2_col0 {\n",
       "            color:  black;\n",
       "        }    #T_9437f628_c513_11ea_adb3_784f43a662cbrow2_col1 {\n",
       "            color:  red;\n",
       "        }    #T_9437f628_c513_11ea_adb3_784f43a662cbrow2_col2 {\n",
       "            color:  black;\n",
       "        }    #T_9437f628_c513_11ea_adb3_784f43a662cbrow2_col3 {\n",
       "            color:  black;\n",
       "        }    #T_9437f628_c513_11ea_adb3_784f43a662cbrow2_col4 {\n",
       "            color:  black;\n",
       "        }    #T_9437f628_c513_11ea_adb3_784f43a662cbrow3_col0 {\n",
       "            color:  black;\n",
       "        }    #T_9437f628_c513_11ea_adb3_784f43a662cbrow3_col1 {\n",
       "            color:  black;\n",
       "        }    #T_9437f628_c513_11ea_adb3_784f43a662cbrow3_col2 {\n",
       "            color:  black;\n",
       "        }    #T_9437f628_c513_11ea_adb3_784f43a662cbrow3_col3 {\n",
       "            color:  black;\n",
       "        }    #T_9437f628_c513_11ea_adb3_784f43a662cbrow3_col4 {\n",
       "            color:  black;\n",
       "        }    #T_9437f628_c513_11ea_adb3_784f43a662cbrow4_col0 {\n",
       "            color:  black;\n",
       "        }    #T_9437f628_c513_11ea_adb3_784f43a662cbrow4_col1 {\n",
       "            color:  black;\n",
       "        }    #T_9437f628_c513_11ea_adb3_784f43a662cbrow4_col2 {\n",
       "            color:  black;\n",
       "        }    #T_9437f628_c513_11ea_adb3_784f43a662cbrow4_col3 {\n",
       "            color:  black;\n",
       "        }    #T_9437f628_c513_11ea_adb3_784f43a662cbrow4_col4 {\n",
       "            color:  black;\n",
       "        }    #T_9437f628_c513_11ea_adb3_784f43a662cbrow5_col0 {\n",
       "            color:  black;\n",
       "        }    #T_9437f628_c513_11ea_adb3_784f43a662cbrow5_col1 {\n",
       "            color:  red;\n",
       "        }    #T_9437f628_c513_11ea_adb3_784f43a662cbrow5_col2 {\n",
       "            color:  black;\n",
       "        }    #T_9437f628_c513_11ea_adb3_784f43a662cbrow5_col3 {\n",
       "            color:  black;\n",
       "        }    #T_9437f628_c513_11ea_adb3_784f43a662cbrow5_col4 {\n",
       "            color:  red;\n",
       "        }    #T_9437f628_c513_11ea_adb3_784f43a662cbrow6_col0 {\n",
       "            color:  black;\n",
       "        }    #T_9437f628_c513_11ea_adb3_784f43a662cbrow6_col1 {\n",
       "            color:  black;\n",
       "        }    #T_9437f628_c513_11ea_adb3_784f43a662cbrow6_col2 {\n",
       "            color:  black;\n",
       "        }    #T_9437f628_c513_11ea_adb3_784f43a662cbrow6_col3 {\n",
       "            color:  red;\n",
       "        }    #T_9437f628_c513_11ea_adb3_784f43a662cbrow6_col4 {\n",
       "            color:  black;\n",
       "        }    #T_9437f628_c513_11ea_adb3_784f43a662cbrow7_col0 {\n",
       "            color:  black;\n",
       "        }    #T_9437f628_c513_11ea_adb3_784f43a662cbrow7_col1 {\n",
       "            color:  black;\n",
       "        }    #T_9437f628_c513_11ea_adb3_784f43a662cbrow7_col2 {\n",
       "            color:  black;\n",
       "        }    #T_9437f628_c513_11ea_adb3_784f43a662cbrow7_col3 {\n",
       "            color:  red;\n",
       "        }    #T_9437f628_c513_11ea_adb3_784f43a662cbrow7_col4 {\n",
       "            color:  black;\n",
       "        }    #T_9437f628_c513_11ea_adb3_784f43a662cbrow8_col0 {\n",
       "            color:  black;\n",
       "        }    #T_9437f628_c513_11ea_adb3_784f43a662cbrow8_col1 {\n",
       "            color:  black;\n",
       "        }    #T_9437f628_c513_11ea_adb3_784f43a662cbrow8_col2 {\n",
       "            color:  red;\n",
       "        }    #T_9437f628_c513_11ea_adb3_784f43a662cbrow8_col3 {\n",
       "            color:  black;\n",
       "        }    #T_9437f628_c513_11ea_adb3_784f43a662cbrow8_col4 {\n",
       "            color:  red;\n",
       "        }    #T_9437f628_c513_11ea_adb3_784f43a662cbrow9_col0 {\n",
       "            color:  black;\n",
       "        }    #T_9437f628_c513_11ea_adb3_784f43a662cbrow9_col1 {\n",
       "            color:  red;\n",
       "        }    #T_9437f628_c513_11ea_adb3_784f43a662cbrow9_col2 {\n",
       "            color:  black;\n",
       "        }    #T_9437f628_c513_11ea_adb3_784f43a662cbrow9_col3 {\n",
       "            color:  red;\n",
       "        }    #T_9437f628_c513_11ea_adb3_784f43a662cbrow9_col4 {\n",
       "            color:  black;\n",
       "        }</style><table id=\"T_9437f628_c513_11ea_adb3_784f43a662cb\" ><thead>    <tr>        <th class=\"blank level0\" ></th>        <th class=\"col_heading level0 col0\" >A</th>        <th class=\"col_heading level0 col1\" >B</th>        <th class=\"col_heading level0 col2\" >C</th>        <th class=\"col_heading level0 col3\" >D</th>        <th class=\"col_heading level0 col4\" >E</th>    </tr></thead><tbody>\n",
       "                <tr>\n",
       "                        <th id=\"T_9437f628_c513_11ea_adb3_784f43a662cblevel0_row0\" class=\"row_heading level0 row0\" >0</th>\n",
       "                        <td id=\"T_9437f628_c513_11ea_adb3_784f43a662cbrow0_col0\" class=\"data row0 col0\" >1.000000</td>\n",
       "                        <td id=\"T_9437f628_c513_11ea_adb3_784f43a662cbrow0_col1\" class=\"data row0 col1\" >1.329212</td>\n",
       "                        <td id=\"T_9437f628_c513_11ea_adb3_784f43a662cbrow0_col2\" class=\"data row0 col2\" >nan</td>\n",
       "                        <td id=\"T_9437f628_c513_11ea_adb3_784f43a662cbrow0_col3\" class=\"data row0 col3\" >-0.316280</td>\n",
       "                        <td id=\"T_9437f628_c513_11ea_adb3_784f43a662cbrow0_col4\" class=\"data row0 col4\" >-0.990810</td>\n",
       "            </tr>\n",
       "            <tr>\n",
       "                        <th id=\"T_9437f628_c513_11ea_adb3_784f43a662cblevel0_row1\" class=\"row_heading level0 row1\" >1</th>\n",
       "                        <td id=\"T_9437f628_c513_11ea_adb3_784f43a662cbrow1_col0\" class=\"data row1 col0\" >2.000000</td>\n",
       "                        <td id=\"T_9437f628_c513_11ea_adb3_784f43a662cbrow1_col1\" class=\"data row1 col1\" >-1.070816</td>\n",
       "                        <td id=\"T_9437f628_c513_11ea_adb3_784f43a662cbrow1_col2\" class=\"data row1 col2\" >-1.438713</td>\n",
       "                        <td id=\"T_9437f628_c513_11ea_adb3_784f43a662cbrow1_col3\" class=\"data row1 col3\" >0.564417</td>\n",
       "                        <td id=\"T_9437f628_c513_11ea_adb3_784f43a662cbrow1_col4\" class=\"data row1 col4\" >0.295722</td>\n",
       "            </tr>\n",
       "            <tr>\n",
       "                        <th id=\"T_9437f628_c513_11ea_adb3_784f43a662cblevel0_row2\" class=\"row_heading level0 row2\" >2</th>\n",
       "                        <td id=\"T_9437f628_c513_11ea_adb3_784f43a662cbrow2_col0\" class=\"data row2 col0\" >3.000000</td>\n",
       "                        <td id=\"T_9437f628_c513_11ea_adb3_784f43a662cbrow2_col1\" class=\"data row2 col1\" >-1.626404</td>\n",
       "                        <td id=\"T_9437f628_c513_11ea_adb3_784f43a662cbrow2_col2\" class=\"data row2 col2\" >0.219565</td>\n",
       "                        <td id=\"T_9437f628_c513_11ea_adb3_784f43a662cbrow2_col3\" class=\"data row2 col3\" >0.678805</td>\n",
       "                        <td id=\"T_9437f628_c513_11ea_adb3_784f43a662cbrow2_col4\" class=\"data row2 col4\" >1.889273</td>\n",
       "            </tr>\n",
       "            <tr>\n",
       "                        <th id=\"T_9437f628_c513_11ea_adb3_784f43a662cblevel0_row3\" class=\"row_heading level0 row3\" >3</th>\n",
       "                        <td id=\"T_9437f628_c513_11ea_adb3_784f43a662cbrow3_col0\" class=\"data row3 col0\" >4.000000</td>\n",
       "                        <td id=\"T_9437f628_c513_11ea_adb3_784f43a662cbrow3_col1\" class=\"data row3 col1\" >0.961538</td>\n",
       "                        <td id=\"T_9437f628_c513_11ea_adb3_784f43a662cbrow3_col2\" class=\"data row3 col2\" >0.104011</td>\n",
       "                        <td id=\"T_9437f628_c513_11ea_adb3_784f43a662cbrow3_col3\" class=\"data row3 col3\" >nan</td>\n",
       "                        <td id=\"T_9437f628_c513_11ea_adb3_784f43a662cbrow3_col4\" class=\"data row3 col4\" >0.850229</td>\n",
       "            </tr>\n",
       "            <tr>\n",
       "                        <th id=\"T_9437f628_c513_11ea_adb3_784f43a662cblevel0_row4\" class=\"row_heading level0 row4\" >4</th>\n",
       "                        <td id=\"T_9437f628_c513_11ea_adb3_784f43a662cbrow4_col0\" class=\"data row4 col0\" >5.000000</td>\n",
       "                        <td id=\"T_9437f628_c513_11ea_adb3_784f43a662cbrow4_col1\" class=\"data row4 col1\" >1.453425</td>\n",
       "                        <td id=\"T_9437f628_c513_11ea_adb3_784f43a662cbrow4_col2\" class=\"data row4 col2\" >1.057737</td>\n",
       "                        <td id=\"T_9437f628_c513_11ea_adb3_784f43a662cbrow4_col3\" class=\"data row4 col3\" >0.165562</td>\n",
       "                        <td id=\"T_9437f628_c513_11ea_adb3_784f43a662cbrow4_col4\" class=\"data row4 col4\" >0.515018</td>\n",
       "            </tr>\n",
       "            <tr>\n",
       "                        <th id=\"T_9437f628_c513_11ea_adb3_784f43a662cblevel0_row5\" class=\"row_heading level0 row5\" >5</th>\n",
       "                        <td id=\"T_9437f628_c513_11ea_adb3_784f43a662cbrow5_col0\" class=\"data row5 col0\" >6.000000</td>\n",
       "                        <td id=\"T_9437f628_c513_11ea_adb3_784f43a662cbrow5_col1\" class=\"data row5 col1\" >-1.336936</td>\n",
       "                        <td id=\"T_9437f628_c513_11ea_adb3_784f43a662cbrow5_col2\" class=\"data row5 col2\" >0.562861</td>\n",
       "                        <td id=\"T_9437f628_c513_11ea_adb3_784f43a662cbrow5_col3\" class=\"data row5 col3\" >1.392855</td>\n",
       "                        <td id=\"T_9437f628_c513_11ea_adb3_784f43a662cbrow5_col4\" class=\"data row5 col4\" >-0.063328</td>\n",
       "            </tr>\n",
       "            <tr>\n",
       "                        <th id=\"T_9437f628_c513_11ea_adb3_784f43a662cblevel0_row6\" class=\"row_heading level0 row6\" >6</th>\n",
       "                        <td id=\"T_9437f628_c513_11ea_adb3_784f43a662cbrow6_col0\" class=\"data row6 col0\" >7.000000</td>\n",
       "                        <td id=\"T_9437f628_c513_11ea_adb3_784f43a662cbrow6_col1\" class=\"data row6 col1\" >0.121668</td>\n",
       "                        <td id=\"T_9437f628_c513_11ea_adb3_784f43a662cbrow6_col2\" class=\"data row6 col2\" >1.207603</td>\n",
       "                        <td id=\"T_9437f628_c513_11ea_adb3_784f43a662cbrow6_col3\" class=\"data row6 col3\" >-0.002040</td>\n",
       "                        <td id=\"T_9437f628_c513_11ea_adb3_784f43a662cbrow6_col4\" class=\"data row6 col4\" >1.627796</td>\n",
       "            </tr>\n",
       "            <tr>\n",
       "                        <th id=\"T_9437f628_c513_11ea_adb3_784f43a662cblevel0_row7\" class=\"row_heading level0 row7\" >7</th>\n",
       "                        <td id=\"T_9437f628_c513_11ea_adb3_784f43a662cbrow7_col0\" class=\"data row7 col0\" >8.000000</td>\n",
       "                        <td id=\"T_9437f628_c513_11ea_adb3_784f43a662cbrow7_col1\" class=\"data row7 col1\" >0.354493</td>\n",
       "                        <td id=\"T_9437f628_c513_11ea_adb3_784f43a662cbrow7_col2\" class=\"data row7 col2\" >1.037528</td>\n",
       "                        <td id=\"T_9437f628_c513_11ea_adb3_784f43a662cbrow7_col3\" class=\"data row7 col3\" >-0.385684</td>\n",
       "                        <td id=\"T_9437f628_c513_11ea_adb3_784f43a662cbrow7_col4\" class=\"data row7 col4\" >0.519818</td>\n",
       "            </tr>\n",
       "            <tr>\n",
       "                        <th id=\"T_9437f628_c513_11ea_adb3_784f43a662cblevel0_row8\" class=\"row_heading level0 row8\" >8</th>\n",
       "                        <td id=\"T_9437f628_c513_11ea_adb3_784f43a662cbrow8_col0\" class=\"data row8 col0\" >9.000000</td>\n",
       "                        <td id=\"T_9437f628_c513_11ea_adb3_784f43a662cbrow8_col1\" class=\"data row8 col1\" >1.686583</td>\n",
       "                        <td id=\"T_9437f628_c513_11ea_adb3_784f43a662cbrow8_col2\" class=\"data row8 col2\" >-1.325963</td>\n",
       "                        <td id=\"T_9437f628_c513_11ea_adb3_784f43a662cbrow8_col3\" class=\"data row8 col3\" >1.428984</td>\n",
       "                        <td id=\"T_9437f628_c513_11ea_adb3_784f43a662cbrow8_col4\" class=\"data row8 col4\" >-2.089354</td>\n",
       "            </tr>\n",
       "            <tr>\n",
       "                        <th id=\"T_9437f628_c513_11ea_adb3_784f43a662cblevel0_row9\" class=\"row_heading level0 row9\" >9</th>\n",
       "                        <td id=\"T_9437f628_c513_11ea_adb3_784f43a662cbrow9_col0\" class=\"data row9 col0\" >10.000000</td>\n",
       "                        <td id=\"T_9437f628_c513_11ea_adb3_784f43a662cbrow9_col1\" class=\"data row9 col1\" >-0.129820</td>\n",
       "                        <td id=\"T_9437f628_c513_11ea_adb3_784f43a662cbrow9_col2\" class=\"data row9 col2\" >0.631523</td>\n",
       "                        <td id=\"T_9437f628_c513_11ea_adb3_784f43a662cbrow9_col3\" class=\"data row9 col3\" >-0.586538</td>\n",
       "                        <td id=\"T_9437f628_c513_11ea_adb3_784f43a662cbrow9_col4\" class=\"data row9 col4\" >0.290720</td>\n",
       "            </tr>\n",
       "    </tbody></table>"
      ],
      "text/plain": [
       "<pandas.io.formats.style.Styler at 0x7ff549cee690>"
      ]
     },
     "execution_count": 13,
     "metadata": {},
     "output_type": "execute_result"
    }
   ],
   "source": [
    "def color_negative_red(val):\n",
    "    \"\"\"\n",
    "    Takes a scalar and returns a string with\n",
    "    the css property `'color: red'` for negative\n",
    "    strings, black otherwise.\n",
    "    \"\"\"\n",
    "    color = 'red' if val < 0 else 'black'\n",
    "    return 'color: %s' % color\n",
    "\n",
    "s = df.style.applymap(color_negative_red)\n",
    "s\n"
   ]
  },
  {
   "cell_type": "code",
   "execution_count": 14,
   "metadata": {},
   "outputs": [
    {
     "data": {
      "text/html": [
       "<style  type=\"text/css\" >\n",
       "    #T_9e792f9e_c513_11ea_adb3_784f43a662cbrow0_col0 {\n",
       "            background-color:  #e5ffe5;\n",
       "            color:  #000000;\n",
       "        }    #T_9e792f9e_c513_11ea_adb3_784f43a662cbrow0_col1 {\n",
       "            background-color:  #188d18;\n",
       "            color:  #000000;\n",
       "        }    #T_9e792f9e_c513_11ea_adb3_784f43a662cbrow0_col2 {\n",
       "            background-color:  #000000;\n",
       "            color:  #f1f1f1;\n",
       "        }    #T_9e792f9e_c513_11ea_adb3_784f43a662cbrow0_col3 {\n",
       "            background-color:  #c7eec7;\n",
       "            color:  #000000;\n",
       "        }    #T_9e792f9e_c513_11ea_adb3_784f43a662cbrow0_col4 {\n",
       "            background-color:  #a6dca6;\n",
       "            color:  #000000;\n",
       "        }    #T_9e792f9e_c513_11ea_adb3_784f43a662cbrow1_col0 {\n",
       "            background-color:  #ccf1cc;\n",
       "            color:  #000000;\n",
       "        }    #T_9e792f9e_c513_11ea_adb3_784f43a662cbrow1_col1 {\n",
       "            background-color:  #c0eac0;\n",
       "            color:  #000000;\n",
       "        }    #T_9e792f9e_c513_11ea_adb3_784f43a662cbrow1_col2 {\n",
       "            background-color:  #e5ffe5;\n",
       "            color:  #000000;\n",
       "        }    #T_9e792f9e_c513_11ea_adb3_784f43a662cbrow1_col3 {\n",
       "            background-color:  #62b662;\n",
       "            color:  #000000;\n",
       "        }    #T_9e792f9e_c513_11ea_adb3_784f43a662cbrow1_col4 {\n",
       "            background-color:  #5cb35c;\n",
       "            color:  #000000;\n",
       "        }    #T_9e792f9e_c513_11ea_adb3_784f43a662cbrow2_col0 {\n",
       "            background-color:  #b3e3b3;\n",
       "            color:  #000000;\n",
       "        }    #T_9e792f9e_c513_11ea_adb3_784f43a662cbrow2_col1 {\n",
       "            background-color:  #e5ffe5;\n",
       "            color:  #000000;\n",
       "        }    #T_9e792f9e_c513_11ea_adb3_784f43a662cbrow2_col2 {\n",
       "            background-color:  #56af56;\n",
       "            color:  #000000;\n",
       "        }    #T_9e792f9e_c513_11ea_adb3_784f43a662cbrow2_col3 {\n",
       "            background-color:  #56af56;\n",
       "            color:  #000000;\n",
       "        }    #T_9e792f9e_c513_11ea_adb3_784f43a662cbrow2_col4 {\n",
       "            background-color:  #008000;\n",
       "            color:  #f1f1f1;\n",
       "        }    #T_9e792f9e_c513_11ea_adb3_784f43a662cbrow3_col0 {\n",
       "            background-color:  #99d599;\n",
       "            color:  #000000;\n",
       "        }    #T_9e792f9e_c513_11ea_adb3_784f43a662cbrow3_col1 {\n",
       "            background-color:  #329c32;\n",
       "            color:  #000000;\n",
       "        }    #T_9e792f9e_c513_11ea_adb3_784f43a662cbrow3_col2 {\n",
       "            background-color:  #5fb55f;\n",
       "            color:  #000000;\n",
       "        }    #T_9e792f9e_c513_11ea_adb3_784f43a662cbrow3_col3 {\n",
       "            background-color:  #000000;\n",
       "            color:  #f1f1f1;\n",
       "        }    #T_9e792f9e_c513_11ea_adb3_784f43a662cbrow3_col4 {\n",
       "            background-color:  #3ba13b;\n",
       "            color:  #000000;\n",
       "        }    #T_9e792f9e_c513_11ea_adb3_784f43a662cbrow4_col0 {\n",
       "            background-color:  #80c780;\n",
       "            color:  #000000;\n",
       "        }    #T_9e792f9e_c513_11ea_adb3_784f43a662cbrow4_col1 {\n",
       "            background-color:  #108910;\n",
       "            color:  #f1f1f1;\n",
       "        }    #T_9e792f9e_c513_11ea_adb3_784f43a662cbrow4_col2 {\n",
       "            background-color:  #0d870d;\n",
       "            color:  #f1f1f1;\n",
       "        }    #T_9e792f9e_c513_11ea_adb3_784f43a662cbrow4_col3 {\n",
       "            background-color:  #90d090;\n",
       "            color:  #000000;\n",
       "        }    #T_9e792f9e_c513_11ea_adb3_784f43a662cbrow4_col4 {\n",
       "            background-color:  #4fac4f;\n",
       "            color:  #000000;\n",
       "        }    #T_9e792f9e_c513_11ea_adb3_784f43a662cbrow5_col0 {\n",
       "            background-color:  #66b866;\n",
       "            color:  #000000;\n",
       "        }    #T_9e792f9e_c513_11ea_adb3_784f43a662cbrow5_col1 {\n",
       "            background-color:  #d2f4d2;\n",
       "            color:  #000000;\n",
       "        }    #T_9e792f9e_c513_11ea_adb3_784f43a662cbrow5_col2 {\n",
       "            background-color:  #389f38;\n",
       "            color:  #000000;\n",
       "        }    #T_9e792f9e_c513_11ea_adb3_784f43a662cbrow5_col3 {\n",
       "            background-color:  #048204;\n",
       "            color:  #f1f1f1;\n",
       "        }    #T_9e792f9e_c513_11ea_adb3_784f43a662cbrow5_col4 {\n",
       "            background-color:  #70be70;\n",
       "            color:  #000000;\n",
       "        }    #T_9e792f9e_c513_11ea_adb3_784f43a662cbrow6_col0 {\n",
       "            background-color:  #4daa4d;\n",
       "            color:  #000000;\n",
       "        }    #T_9e792f9e_c513_11ea_adb3_784f43a662cbrow6_col1 {\n",
       "            background-color:  #6cbc6c;\n",
       "            color:  #000000;\n",
       "        }    #T_9e792f9e_c513_11ea_adb3_784f43a662cbrow6_col2 {\n",
       "            background-color:  #008000;\n",
       "            color:  #f1f1f1;\n",
       "        }    #T_9e792f9e_c513_11ea_adb3_784f43a662cbrow6_col3 {\n",
       "            background-color:  #a3daa3;\n",
       "            color:  #000000;\n",
       "        }    #T_9e792f9e_c513_11ea_adb3_784f43a662cbrow6_col4 {\n",
       "            background-color:  #0e880e;\n",
       "            color:  #f1f1f1;\n",
       "        }    #T_9e792f9e_c513_11ea_adb3_784f43a662cbrow7_col0 {\n",
       "            background-color:  #329c32;\n",
       "            color:  #000000;\n",
       "        }    #T_9e792f9e_c513_11ea_adb3_784f43a662cbrow7_col1 {\n",
       "            background-color:  #5cb35c;\n",
       "            color:  #000000;\n",
       "        }    #T_9e792f9e_c513_11ea_adb3_784f43a662cbrow7_col2 {\n",
       "            background-color:  #0e880e;\n",
       "            color:  #f1f1f1;\n",
       "        }    #T_9e792f9e_c513_11ea_adb3_784f43a662cbrow7_col3 {\n",
       "            background-color:  #cff3cf;\n",
       "            color:  #000000;\n",
       "        }    #T_9e792f9e_c513_11ea_adb3_784f43a662cbrow7_col4 {\n",
       "            background-color:  #4fac4f;\n",
       "            color:  #000000;\n",
       "        }    #T_9e792f9e_c513_11ea_adb3_784f43a662cbrow8_col0 {\n",
       "            background-color:  #198e19;\n",
       "            color:  #000000;\n",
       "        }    #T_9e792f9e_c513_11ea_adb3_784f43a662cbrow8_col1 {\n",
       "            background-color:  #008000;\n",
       "            color:  #f1f1f1;\n",
       "        }    #T_9e792f9e_c513_11ea_adb3_784f43a662cbrow8_col2 {\n",
       "            background-color:  #dcfadc;\n",
       "            color:  #000000;\n",
       "        }    #T_9e792f9e_c513_11ea_adb3_784f43a662cbrow8_col3 {\n",
       "            background-color:  #008000;\n",
       "            color:  #f1f1f1;\n",
       "        }    #T_9e792f9e_c513_11ea_adb3_784f43a662cbrow8_col4 {\n",
       "            background-color:  #e5ffe5;\n",
       "            color:  #000000;\n",
       "        }    #T_9e792f9e_c513_11ea_adb3_784f43a662cbrow9_col0 {\n",
       "            background-color:  #008000;\n",
       "            color:  #f1f1f1;\n",
       "        }    #T_9e792f9e_c513_11ea_adb3_784f43a662cbrow9_col1 {\n",
       "            background-color:  #7ec67e;\n",
       "            color:  #000000;\n",
       "        }    #T_9e792f9e_c513_11ea_adb3_784f43a662cbrow9_col2 {\n",
       "            background-color:  #319b31;\n",
       "            color:  #000000;\n",
       "        }    #T_9e792f9e_c513_11ea_adb3_784f43a662cbrow9_col3 {\n",
       "            background-color:  #e5ffe5;\n",
       "            color:  #000000;\n",
       "        }    #T_9e792f9e_c513_11ea_adb3_784f43a662cbrow9_col4 {\n",
       "            background-color:  #5cb35c;\n",
       "            color:  #000000;\n",
       "        }</style><table id=\"T_9e792f9e_c513_11ea_adb3_784f43a662cb\" ><thead>    <tr>        <th class=\"blank level0\" ></th>        <th class=\"col_heading level0 col0\" >A</th>        <th class=\"col_heading level0 col1\" >B</th>        <th class=\"col_heading level0 col2\" >C</th>        <th class=\"col_heading level0 col3\" >D</th>        <th class=\"col_heading level0 col4\" >E</th>    </tr></thead><tbody>\n",
       "                <tr>\n",
       "                        <th id=\"T_9e792f9e_c513_11ea_adb3_784f43a662cblevel0_row0\" class=\"row_heading level0 row0\" >0</th>\n",
       "                        <td id=\"T_9e792f9e_c513_11ea_adb3_784f43a662cbrow0_col0\" class=\"data row0 col0\" >1.000000</td>\n",
       "                        <td id=\"T_9e792f9e_c513_11ea_adb3_784f43a662cbrow0_col1\" class=\"data row0 col1\" >1.329212</td>\n",
       "                        <td id=\"T_9e792f9e_c513_11ea_adb3_784f43a662cbrow0_col2\" class=\"data row0 col2\" >nan</td>\n",
       "                        <td id=\"T_9e792f9e_c513_11ea_adb3_784f43a662cbrow0_col3\" class=\"data row0 col3\" >-0.316280</td>\n",
       "                        <td id=\"T_9e792f9e_c513_11ea_adb3_784f43a662cbrow0_col4\" class=\"data row0 col4\" >-0.990810</td>\n",
       "            </tr>\n",
       "            <tr>\n",
       "                        <th id=\"T_9e792f9e_c513_11ea_adb3_784f43a662cblevel0_row1\" class=\"row_heading level0 row1\" >1</th>\n",
       "                        <td id=\"T_9e792f9e_c513_11ea_adb3_784f43a662cbrow1_col0\" class=\"data row1 col0\" >2.000000</td>\n",
       "                        <td id=\"T_9e792f9e_c513_11ea_adb3_784f43a662cbrow1_col1\" class=\"data row1 col1\" >-1.070816</td>\n",
       "                        <td id=\"T_9e792f9e_c513_11ea_adb3_784f43a662cbrow1_col2\" class=\"data row1 col2\" >-1.438713</td>\n",
       "                        <td id=\"T_9e792f9e_c513_11ea_adb3_784f43a662cbrow1_col3\" class=\"data row1 col3\" >0.564417</td>\n",
       "                        <td id=\"T_9e792f9e_c513_11ea_adb3_784f43a662cbrow1_col4\" class=\"data row1 col4\" >0.295722</td>\n",
       "            </tr>\n",
       "            <tr>\n",
       "                        <th id=\"T_9e792f9e_c513_11ea_adb3_784f43a662cblevel0_row2\" class=\"row_heading level0 row2\" >2</th>\n",
       "                        <td id=\"T_9e792f9e_c513_11ea_adb3_784f43a662cbrow2_col0\" class=\"data row2 col0\" >3.000000</td>\n",
       "                        <td id=\"T_9e792f9e_c513_11ea_adb3_784f43a662cbrow2_col1\" class=\"data row2 col1\" >-1.626404</td>\n",
       "                        <td id=\"T_9e792f9e_c513_11ea_adb3_784f43a662cbrow2_col2\" class=\"data row2 col2\" >0.219565</td>\n",
       "                        <td id=\"T_9e792f9e_c513_11ea_adb3_784f43a662cbrow2_col3\" class=\"data row2 col3\" >0.678805</td>\n",
       "                        <td id=\"T_9e792f9e_c513_11ea_adb3_784f43a662cbrow2_col4\" class=\"data row2 col4\" >1.889273</td>\n",
       "            </tr>\n",
       "            <tr>\n",
       "                        <th id=\"T_9e792f9e_c513_11ea_adb3_784f43a662cblevel0_row3\" class=\"row_heading level0 row3\" >3</th>\n",
       "                        <td id=\"T_9e792f9e_c513_11ea_adb3_784f43a662cbrow3_col0\" class=\"data row3 col0\" >4.000000</td>\n",
       "                        <td id=\"T_9e792f9e_c513_11ea_adb3_784f43a662cbrow3_col1\" class=\"data row3 col1\" >0.961538</td>\n",
       "                        <td id=\"T_9e792f9e_c513_11ea_adb3_784f43a662cbrow3_col2\" class=\"data row3 col2\" >0.104011</td>\n",
       "                        <td id=\"T_9e792f9e_c513_11ea_adb3_784f43a662cbrow3_col3\" class=\"data row3 col3\" >nan</td>\n",
       "                        <td id=\"T_9e792f9e_c513_11ea_adb3_784f43a662cbrow3_col4\" class=\"data row3 col4\" >0.850229</td>\n",
       "            </tr>\n",
       "            <tr>\n",
       "                        <th id=\"T_9e792f9e_c513_11ea_adb3_784f43a662cblevel0_row4\" class=\"row_heading level0 row4\" >4</th>\n",
       "                        <td id=\"T_9e792f9e_c513_11ea_adb3_784f43a662cbrow4_col0\" class=\"data row4 col0\" >5.000000</td>\n",
       "                        <td id=\"T_9e792f9e_c513_11ea_adb3_784f43a662cbrow4_col1\" class=\"data row4 col1\" >1.453425</td>\n",
       "                        <td id=\"T_9e792f9e_c513_11ea_adb3_784f43a662cbrow4_col2\" class=\"data row4 col2\" >1.057737</td>\n",
       "                        <td id=\"T_9e792f9e_c513_11ea_adb3_784f43a662cbrow4_col3\" class=\"data row4 col3\" >0.165562</td>\n",
       "                        <td id=\"T_9e792f9e_c513_11ea_adb3_784f43a662cbrow4_col4\" class=\"data row4 col4\" >0.515018</td>\n",
       "            </tr>\n",
       "            <tr>\n",
       "                        <th id=\"T_9e792f9e_c513_11ea_adb3_784f43a662cblevel0_row5\" class=\"row_heading level0 row5\" >5</th>\n",
       "                        <td id=\"T_9e792f9e_c513_11ea_adb3_784f43a662cbrow5_col0\" class=\"data row5 col0\" >6.000000</td>\n",
       "                        <td id=\"T_9e792f9e_c513_11ea_adb3_784f43a662cbrow5_col1\" class=\"data row5 col1\" >-1.336936</td>\n",
       "                        <td id=\"T_9e792f9e_c513_11ea_adb3_784f43a662cbrow5_col2\" class=\"data row5 col2\" >0.562861</td>\n",
       "                        <td id=\"T_9e792f9e_c513_11ea_adb3_784f43a662cbrow5_col3\" class=\"data row5 col3\" >1.392855</td>\n",
       "                        <td id=\"T_9e792f9e_c513_11ea_adb3_784f43a662cbrow5_col4\" class=\"data row5 col4\" >-0.063328</td>\n",
       "            </tr>\n",
       "            <tr>\n",
       "                        <th id=\"T_9e792f9e_c513_11ea_adb3_784f43a662cblevel0_row6\" class=\"row_heading level0 row6\" >6</th>\n",
       "                        <td id=\"T_9e792f9e_c513_11ea_adb3_784f43a662cbrow6_col0\" class=\"data row6 col0\" >7.000000</td>\n",
       "                        <td id=\"T_9e792f9e_c513_11ea_adb3_784f43a662cbrow6_col1\" class=\"data row6 col1\" >0.121668</td>\n",
       "                        <td id=\"T_9e792f9e_c513_11ea_adb3_784f43a662cbrow6_col2\" class=\"data row6 col2\" >1.207603</td>\n",
       "                        <td id=\"T_9e792f9e_c513_11ea_adb3_784f43a662cbrow6_col3\" class=\"data row6 col3\" >-0.002040</td>\n",
       "                        <td id=\"T_9e792f9e_c513_11ea_adb3_784f43a662cbrow6_col4\" class=\"data row6 col4\" >1.627796</td>\n",
       "            </tr>\n",
       "            <tr>\n",
       "                        <th id=\"T_9e792f9e_c513_11ea_adb3_784f43a662cblevel0_row7\" class=\"row_heading level0 row7\" >7</th>\n",
       "                        <td id=\"T_9e792f9e_c513_11ea_adb3_784f43a662cbrow7_col0\" class=\"data row7 col0\" >8.000000</td>\n",
       "                        <td id=\"T_9e792f9e_c513_11ea_adb3_784f43a662cbrow7_col1\" class=\"data row7 col1\" >0.354493</td>\n",
       "                        <td id=\"T_9e792f9e_c513_11ea_adb3_784f43a662cbrow7_col2\" class=\"data row7 col2\" >1.037528</td>\n",
       "                        <td id=\"T_9e792f9e_c513_11ea_adb3_784f43a662cbrow7_col3\" class=\"data row7 col3\" >-0.385684</td>\n",
       "                        <td id=\"T_9e792f9e_c513_11ea_adb3_784f43a662cbrow7_col4\" class=\"data row7 col4\" >0.519818</td>\n",
       "            </tr>\n",
       "            <tr>\n",
       "                        <th id=\"T_9e792f9e_c513_11ea_adb3_784f43a662cblevel0_row8\" class=\"row_heading level0 row8\" >8</th>\n",
       "                        <td id=\"T_9e792f9e_c513_11ea_adb3_784f43a662cbrow8_col0\" class=\"data row8 col0\" >9.000000</td>\n",
       "                        <td id=\"T_9e792f9e_c513_11ea_adb3_784f43a662cbrow8_col1\" class=\"data row8 col1\" >1.686583</td>\n",
       "                        <td id=\"T_9e792f9e_c513_11ea_adb3_784f43a662cbrow8_col2\" class=\"data row8 col2\" >-1.325963</td>\n",
       "                        <td id=\"T_9e792f9e_c513_11ea_adb3_784f43a662cbrow8_col3\" class=\"data row8 col3\" >1.428984</td>\n",
       "                        <td id=\"T_9e792f9e_c513_11ea_adb3_784f43a662cbrow8_col4\" class=\"data row8 col4\" >-2.089354</td>\n",
       "            </tr>\n",
       "            <tr>\n",
       "                        <th id=\"T_9e792f9e_c513_11ea_adb3_784f43a662cblevel0_row9\" class=\"row_heading level0 row9\" >9</th>\n",
       "                        <td id=\"T_9e792f9e_c513_11ea_adb3_784f43a662cbrow9_col0\" class=\"data row9 col0\" >10.000000</td>\n",
       "                        <td id=\"T_9e792f9e_c513_11ea_adb3_784f43a662cbrow9_col1\" class=\"data row9 col1\" >-0.129820</td>\n",
       "                        <td id=\"T_9e792f9e_c513_11ea_adb3_784f43a662cbrow9_col2\" class=\"data row9 col2\" >0.631523</td>\n",
       "                        <td id=\"T_9e792f9e_c513_11ea_adb3_784f43a662cbrow9_col3\" class=\"data row9 col3\" >-0.586538</td>\n",
       "                        <td id=\"T_9e792f9e_c513_11ea_adb3_784f43a662cbrow9_col4\" class=\"data row9 col4\" >0.290720</td>\n",
       "            </tr>\n",
       "    </tbody></table>"
      ],
      "text/plain": [
       "<pandas.io.formats.style.Styler at 0x7ff549cdaa90>"
      ]
     },
     "execution_count": 14,
     "metadata": {},
     "output_type": "execute_result"
    }
   ],
   "source": [
    "import seaborn as sns\n",
    "\n",
    "cm = sns.light_palette(\"green\", as_cmap=True)\n",
    "\n",
    "s = df.style.background_gradient(cmap=cm)\n",
    "s"
   ]
  },
  {
   "cell_type": "code",
   "execution_count": null,
   "metadata": {},
   "outputs": [],
   "source": []
  }
 ],
 "metadata": {
  "colab": {
   "name": "01_06_pandas..ipynb",
   "provenance": []
  },
  "kernelspec": {
   "display_name": "Python 3",
   "language": "python",
   "name": "python3"
  },
  "language_info": {
   "codemirror_mode": {
    "name": "ipython",
    "version": 3
   },
   "file_extension": ".py",
   "mimetype": "text/x-python",
   "name": "python",
   "nbconvert_exporter": "python",
   "pygments_lexer": "ipython3",
   "version": "3.8.3"
  }
 },
 "nbformat": 4,
 "nbformat_minor": 4
}

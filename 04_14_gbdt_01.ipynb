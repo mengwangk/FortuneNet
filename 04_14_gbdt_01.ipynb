{
  "nbformat": 4,
  "nbformat_minor": 0,
  "metadata": {
    "kernelspec": {
      "display_name": "Python 3",
      "language": "python",
      "name": "python3"
    },
    "language_info": {
      "codemirror_mode": {
        "name": "ipython",
        "version": 3
      },
      "file_extension": ".py",
      "mimetype": "text/x-python",
      "name": "python",
      "nbconvert_exporter": "python",
      "pygments_lexer": "ipython3",
      "version": "3.7.6"
    },
    "colab": {
      "name": "04_14_gbdt_01.ipynb",
      "provenance": []
    }
  },
  "cells": [
    {
      "cell_type": "markdown",
      "metadata": {
        "id": "I7aG9jzGoP18",
        "colab_type": "text"
      },
      "source": [
        "# Machine Learning - CatBoost"
      ]
    },
    {
      "cell_type": "code",
      "metadata": {
        "id": "zlVvNIxToP1-",
        "colab_type": "code",
        "colab": {}
      },
      "source": [
        "#from IPython.core.interactiveshell import InteractiveShell\n",
        "#InteractiveShell.ast_node_interactivity = \"all\"\n",
        "\n",
        "%load_ext autoreload\n",
        "%autoreload 2"
      ],
      "execution_count": 2,
      "outputs": []
    },
    {
      "cell_type": "code",
      "metadata": {
        "id": "UXQchcJCoP2E",
        "colab_type": "code",
        "colab": {}
      },
      "source": [
        "required_libs = [ (\"numpy\", \"numpy\"),\n",
        "                 (\"pandas\", \"pandas\"),\n",
        "                 (\"seaborn\", \"seaborn\"),\n",
        "                 (\"matplotlib\", \"matplotlib\"),\n",
        "                 (\"catboost\", \"catboost\"),\n",
        "                 (\"sklearn\", \"sklearn\"),\n",
        "                 (\"ipywidgets\", \"ipywidgets\"),\n",
        "                 (\"shap\", \"shap\"),\n",
        "                 (\"colorama\", \"colorama\"),\n",
        "                 (\"emoji\", \"emoji\")\n",
        "                ]"
      ],
      "execution_count": 3,
      "outputs": []
    },
    {
      "cell_type": "code",
      "metadata": {
        "id": "Uyzk4kXYoP2J",
        "colab_type": "code",
        "colab": {}
      },
      "source": [
        "def is_lib_exists(name):\n",
        "    import importlib\n",
        "    lib = importlib.util.find_spec(name)\n",
        "    return lib is not None"
      ],
      "execution_count": 4,
      "outputs": []
    },
    {
      "cell_type": "code",
      "metadata": {
        "id": "5SJ6r_j2oP2N",
        "colab_type": "code",
        "colab": {
          "base_uri": "https://localhost:8080/",
          "height": 190
        },
        "outputId": "24acc605-1c8b-473c-e552-37efe71fe2e2"
      },
      "source": [
        "for (clz,lib) in required_libs:\n",
        "    if not is_lib_exists(clz):\n",
        "        print(f\"Installing {lib}\")\n",
        "        !pip install {lib}\n",
        "    else:\n",
        "        print(f\"{lib} exists\")"
      ],
      "execution_count": 5,
      "outputs": [
        {
          "output_type": "stream",
          "text": [
            "numpy exists\n",
            "pandas exists\n",
            "seaborn exists\n",
            "matplotlib exists\n",
            "catboost exists\n",
            "sklearn exists\n",
            "ipywidgets exists\n",
            "shap exists\n",
            "colorama exists\n",
            "emoji exists\n"
          ],
          "name": "stdout"
        }
      ]
    },
    {
      "cell_type": "code",
      "metadata": {
        "id": "hRyT0uoNoP2Q",
        "colab_type": "code",
        "colab": {}
      },
      "source": [
        "COLAB = True\n",
        "\n",
        "DATASET_NAME = '4D.zip'\n",
        "\n",
        "FEATURE_DATASET_PREFIX = 'feature_matrix_d2_v3'"
      ],
      "execution_count": 6,
      "outputs": []
    },
    {
      "cell_type": "code",
      "metadata": {
        "id": "zEbqmb8KoP2S",
        "colab_type": "code",
        "colab": {
          "base_uri": "https://localhost:8080/",
          "height": 72
        },
        "outputId": "52582bed-7ada-4e67-e17e-0ef97dd72574"
      },
      "source": [
        "import numpy as np\n",
        "import pandas as pd\n",
        "import seaborn as sns\n",
        "import matplotlib.pyplot as plt\n",
        "import calendar\n",
        "import traceback\n",
        "import catboost\n",
        "from pathlib import Path\n",
        "from dateutil.relativedelta import *\n",
        "from datetime import *\n",
        "from catboost import *\n",
        "from catboost import datasets\n",
        "np.set_printoptions(precision=4)"
      ],
      "execution_count": 7,
      "outputs": [
        {
          "output_type": "stream",
          "text": [
            "/usr/local/lib/python3.6/dist-packages/statsmodels/tools/_testing.py:19: FutureWarning: pandas.util.testing is deprecated. Use the functions in the public API at pandas.testing instead.\n",
            "  import pandas.util.testing as tm\n"
          ],
          "name": "stderr"
        }
      ]
    },
    {
      "cell_type": "code",
      "metadata": {
        "id": "C-7Jn85JoP2V",
        "colab_type": "code",
        "colab": {
          "base_uri": "https://localhost:8080/",
          "height": 104
        },
        "outputId": "6ac64bf6-e59c-4d45-ca52-5c205dd0addf"
      },
      "source": [
        "%matplotlib inline\n",
        "%aimport"
      ],
      "execution_count": 8,
      "outputs": [
        {
          "output_type": "stream",
          "text": [
            "Modules to reload:\n",
            "all-except-skipped\n",
            "\n",
            "Modules to skip:\n",
            "\n"
          ],
          "name": "stdout"
        }
      ]
    },
    {
      "cell_type": "code",
      "metadata": {
        "id": "bRRyrDnzoP2a",
        "colab_type": "code",
        "colab": {}
      },
      "source": [
        "from IPython.display import display"
      ],
      "execution_count": 9,
      "outputs": []
    },
    {
      "cell_type": "code",
      "metadata": {
        "id": "WQ16s9UjoP2d",
        "colab_type": "code",
        "colab": {
          "base_uri": "https://localhost:8080/",
          "height": 52
        },
        "outputId": "0f3bbdce-7e57-4f9b-f1ec-ad50d76c5ec3"
      },
      "source": [
        "# check catboost version\n",
        "print(catboost.__version__)\n",
        "!python --version"
      ],
      "execution_count": 10,
      "outputs": [
        {
          "output_type": "stream",
          "text": [
            "0.24\n",
            "Python 3.6.9\n"
          ],
          "name": "stdout"
        }
      ]
    },
    {
      "cell_type": "code",
      "metadata": {
        "id": "yGhSyyL2pSHj",
        "colab_type": "code",
        "colab": {
          "base_uri": "https://localhost:8080/",
          "height": 587
        },
        "outputId": "acba1c8d-bef2-4008-933a-2764e376c212"
      },
      "source": [
        "# colab setup\n",
        "if COLAB:\n",
        "  !rm -rf dl-projects\n",
        "  !git clone https://github.com/mengwangk/dl-projects\n",
        "  \n",
        "  !cp dl-projects/utils* .\n",
        "  !cp dl-projects/preprocess* .\n",
        "  !cp dl-projects/plot* .\n",
        "  \n",
        "  from google.colab import drive\n",
        "  drive.mount('/content/gdrive')\n",
        "  GDRIVE_DATASET_FOLDER = Path('gdrive/My Drive/datasets/')\n",
        "  DATASET_PATH = GDRIVE_DATASET_FOLDER\n",
        "  ORIGIN_DATASET_PATH = Path('dl-projects/datasets')\n",
        "  !ls -l gdrive/\"My Drive\"/datasets/ --block-size=M\n",
        "\n",
        "DATASET = DATASET_PATH/f\"{FEATURE_DATASET_PREFIX}.ft\"\n",
        "ORIGIN_DATASET = ORIGIN_DATASET_PATH/DATASET_NAME"
      ],
      "execution_count": 11,
      "outputs": [
        {
          "output_type": "stream",
          "text": [
            "Cloning into 'dl-projects'...\n",
            "remote: Enumerating objects: 161, done.\u001b[K\n",
            "remote: Counting objects: 100% (161/161), done.\u001b[K\n",
            "remote: Compressing objects: 100% (147/147), done.\u001b[K\n",
            "remote: Total 2138 (delta 99), reused 32 (delta 14), pack-reused 1977\u001b[K\n",
            "Receiving objects: 100% (2138/2138), 79.29 MiB | 32.48 MiB/s, done.\n",
            "Resolving deltas: 100% (1324/1324), done.\n",
            "Drive already mounted at /content/gdrive; to attempt to forcibly remount, call drive.mount(\"/content/gdrive\", force_remount=True).\n",
            "total 4948M\n",
            "-rw------- 1 root root   17M Jul  6 14:06 feature_matrix_2020_apr.ft\n",
            "-rw------- 1 root root   17M Jul  6 14:06 feature_matrix_2020_apr_orig.pkl\n",
            "-rw------- 1 root root   17M Mar  1 05:47 feature_matrix_2020_feb.ft\n",
            "-rw------- 1 root root   17M Mar  1 05:39 feature_matrix_2020_jan.ft\n",
            "-rw------- 1 root root   17M Jul  7 13:52 feature_matrix_2020_jul.ft\n",
            "-rw------- 1 root root   17M Jul  7 13:52 feature_matrix_2020_jul_orig.pkl\n",
            "-rw------- 1 root root   17M Jul  5 07:30 feature_matrix_2020_jun.ft\n",
            "-rw------- 1 root root   17M Jul  5 07:30 feature_matrix_2020_jun_orig.pkl\n",
            "-rw------- 1 root root   17M Jul  6 13:56 feature_matrix_2020_mar.ft\n",
            "-rw------- 1 root root   17M Jul  6 13:56 feature_matrix_2020_mar_orig.pkl\n",
            "-rw------- 1 root root   17M Jul  7 13:40 feature_matrix_2020_may.ft\n",
            "-rw------- 1 root root   17M Jul  7 13:40 feature_matrix_2020_may_orig.pkl\n",
            "-rw------- 1 root root 2454M Jan 12  2020 feature_matrix_d2_v2.ft\n",
            "-rw------- 1 root root 1585M Jan 12  2020 feature_matrix_d2_v3.ft\n",
            "-rw------- 1 root root   17M Feb 21 13:07 feature_matrix_snapshot.ft\n",
            "-rw------- 1 root root    1M Aug  5 13:33 labels.csv\n",
            "-rw------- 1 root root    5M Jan 30  2020 orig_X_test.ft\n",
            "-rw------- 1 root root  415M Jan 30  2020 orig_X_train.ft\n",
            "-rw------- 1 root root    1M Jan 30  2020 orig_y_test.ft\n",
            "-rw------- 1 root root    7M Jan 30  2020 orig_y_train.ft\n",
            "-rw------- 1 root root    3M Jul 30 13:48 test_X_test.ft\n",
            "-rw------- 1 root root  259M Jul 30 13:48 test_X_train.ft\n",
            "-rw------- 1 root root    1M Jul 30 13:48 test_y_test.ft\n",
            "-rw------- 1 root root    8M Jul 30 13:48 test_y_train.ft\n"
          ],
          "name": "stdout"
        }
      ]
    },
    {
      "cell_type": "markdown",
      "metadata": {
        "id": "gvnr5KFJoP2f",
        "colab_type": "text"
      },
      "source": [
        "## EDA"
      ]
    },
    {
      "cell_type": "code",
      "metadata": {
        "id": "ZV-CiR4Yrb7m",
        "colab_type": "code",
        "colab": {}
      },
      "source": [
        "from preprocess import *\n",
        "from utils import feature_selection, plot_feature_importances\n",
        "from plot import plot_correlation_matrix, plot_labeled_scatter"
      ],
      "execution_count": 12,
      "outputs": []
    },
    {
      "cell_type": "code",
      "metadata": {
        "id": "OTuQ19LcpP0L",
        "colab_type": "code",
        "colab": {}
      },
      "source": [
        "data = pd.read_feather(DATASET)\n",
        "origin_data = format_tabular(ORIGIN_DATASET)"
      ],
      "execution_count": 13,
      "outputs": []
    },
    {
      "cell_type": "code",
      "metadata": {
        "id": "NznUjX3ppQeG",
        "colab_type": "code",
        "colab": {}
      },
      "source": [
        "jan_2020 = pd.read_feather(DATASET_PATH/f\"feature_matrix_2020_jan.ft\")\n",
        "feb_2020 = pd.read_feather(DATASET_PATH/f\"feature_matrix_2020_feb.ft\")\n",
        "mar_2020 = pd.read_feather(DATASET_PATH/f\"feature_matrix_2020_mar.ft\")\n",
        "apr_2020 = pd.read_feather(DATASET_PATH/f\"feature_matrix_2020_apr.ft\")\n",
        "may_2020 = pd.read_feather(DATASET_PATH/f\"feature_matrix_2020_may.ft\")\n",
        "jun_2020 = pd.read_feather(DATASET_PATH/f\"feature_matrix_2020_jun.ft\")\n",
        "jul_2020 = pd.read_feather(DATASET_PATH/f\"feature_matrix_2020_jul.ft\")"
      ],
      "execution_count": 14,
      "outputs": []
    },
    {
      "cell_type": "code",
      "metadata": {
        "id": "Z4nQM7SkxbTM",
        "colab_type": "code",
        "colab": {
          "base_uri": "https://localhost:8080/",
          "height": 35
        },
        "outputId": "d3aad517-7c60-442f-af50-d6870dd54c6a"
      },
      "source": [
        "new_data = data.append(jan_2020[data.columns],ignore_index=True)\n",
        "new_data = new_data.append(feb_2020[data.columns],ignore_index=True)\n",
        "new_data = new_data.append(mar_2020[data.columns],ignore_index=True)\n",
        "new_data = new_data.append(apr_2020[data.columns],ignore_index=True)\n",
        "new_data = new_data.append(may_2020[data.columns],ignore_index=True)\n",
        "new_data = new_data.append(jun_2020[data.columns],ignore_index=True)\n",
        "new_data = new_data.append(jul_2020[data.columns],ignore_index=True)\n",
        "data.shape, new_data.shape "
      ],
      "execution_count": 15,
      "outputs": [
        {
          "output_type": "execute_result",
          "data": {
            "text/plain": [
              "((959893, 217), (1029893, 217))"
            ]
          },
          "metadata": {
            "tags": []
          },
          "execution_count": 15
        }
      ]
    },
    {
      "cell_type": "code",
      "metadata": {
        "id": "6fcS0WHNF84G",
        "colab_type": "code",
        "colab": {}
      },
      "source": [
        "data = new_data"
      ],
      "execution_count": 16,
      "outputs": []
    },
    {
      "cell_type": "code",
      "metadata": {
        "id": "P21A_rqdF_SP",
        "colab_type": "code",
        "colab": {
          "base_uri": "https://localhost:8080/",
          "height": 225
        },
        "outputId": "d0a839d3-808f-456e-c66c-6b781a93cc53"
      },
      "source": [
        "data.isna().sum().sort_values(ascending=False)"
      ],
      "execution_count": 17,
      "outputs": [
        {
          "output_type": "execute_result",
          "data": {
            "text/plain": [
              "CUM_SUM(SKEW(Results.TotalStrike))           7685\n",
              "CUM_MEAN(TREND(Results.DrawNo, DrawDate))    7685\n",
              "TREND(Results.CUM_SUM(DrawNo), DrawDate)     7685\n",
              "TREND(Results.CUM_SUM(LuckyNo), DrawDate)    7685\n",
              "CUM_SUM(SKEW(Results.LuckyNo))               7685\n",
              "                                             ... \n",
              "CUM_SUM(MIN(Results.DrawNo))                    0\n",
              "NUM_UNIQUE(Results.DAY(DrawDate))               0\n",
              "NUM_UNIQUE(Results.MONTH(DrawDate))             0\n",
              "SUM(Results.PERCENTILE(LuckyNo))                0\n",
              "NumberId                                        0\n",
              "Length: 217, dtype: int64"
            ]
          },
          "metadata": {
            "tags": []
          },
          "execution_count": 17
        }
      ]
    },
    {
      "cell_type": "code",
      "metadata": {
        "id": "ifvYMCzTGY6X",
        "colab_type": "code",
        "colab": {
          "base_uri": "https://localhost:8080/",
          "height": 1000
        },
        "outputId": "0ed3272a-f4f4-41f2-8bab-f62f316d853f"
      },
      "source": [
        "data.info(max_cols=500, null_counts=True)\n",
        "#data.columns.tolist()"
      ],
      "execution_count": 18,
      "outputs": [
        {
          "output_type": "stream",
          "text": [
            "<class 'pandas.core.frame.DataFrame'>\n",
            "RangeIndex: 1029893 entries, 0 to 1029892\n",
            "Data columns (total 217 columns):\n",
            " #   Column                                                  Non-Null Count    Dtype         \n",
            "---  ------                                                  --------------    -----         \n",
            " 0   NumberId                                                1029893 non-null  int64         \n",
            " 1   time                                                    1029893 non-null  datetime64[ns]\n",
            " 2   STD(Results.DrawNo)                                     1028948 non-null  float64       \n",
            " 3   STD(Results.TotalStrike)                                1028948 non-null  float64       \n",
            " 4   STD(Results.LuckyNo)                                    1028948 non-null  float64       \n",
            " 5   MAX(Results.DrawNo)                                     1029893 non-null  int64         \n",
            " 6   MAX(Results.TotalStrike)                                1029893 non-null  int64         \n",
            " 7   MAX(Results.LuckyNo)                                    1029893 non-null  int64         \n",
            " 8   MIN(Results.DrawNo)                                     1029893 non-null  int64         \n",
            " 9   MIN(Results.TotalStrike)                                1029893 non-null  int64         \n",
            " 10  MIN(Results.LuckyNo)                                    1029893 non-null  int64         \n",
            " 11  MEAN(Results.DrawNo)                                    1029893 non-null  float64       \n",
            " 12  MEAN(Results.TotalStrike)                               1029893 non-null  int64         \n",
            " 13  MEAN(Results.LuckyNo)                                   1029893 non-null  int64         \n",
            " 14  SKEW(Results.DrawNo)                                    1022208 non-null  float64       \n",
            " 15  SKEW(Results.TotalStrike)                               1022208 non-null  float64       \n",
            " 16  SKEW(Results.LuckyNo)                                   1022208 non-null  float64       \n",
            " 17  LAST(Results.results_index)                             1029893 non-null  int64         \n",
            " 18  LAST(Results.DrawNo)                                    1029893 non-null  int64         \n",
            " 19  LAST(Results.TotalStrike)                               1029893 non-null  int64         \n",
            " 20  LAST(Results.LuckyNo)                                   1029893 non-null  int64         \n",
            " 21  AVG_TIME_BETWEEN(Results.DrawDate)                      1028948 non-null  float64       \n",
            " 22  COUNT(Results)                                          1029893 non-null  int64         \n",
            " 23  SUM(Results.DrawNo)                                     1029893 non-null  int64         \n",
            " 24  SUM(Results.TotalStrike)                                1029893 non-null  int64         \n",
            " 25  SUM(Results.LuckyNo)                                    1029893 non-null  int64         \n",
            " 26  TREND(Results.TotalStrike, DrawDate)                    1022208 non-null  float64       \n",
            " 27  TREND(Results.LuckyNo, DrawDate)                        1022208 non-null  float64       \n",
            " 28  TREND(Results.DrawNo, DrawDate)                         1022208 non-null  float64       \n",
            " 29  NUM_UNIQUE(Results.PrizeType)                           1029893 non-null  int64         \n",
            " 30  MONTH(first_Results_time)                               1029893 non-null  int64         \n",
            " 31  DAY(first_Results_time)                                 1029893 non-null  int64         \n",
            " 32  TIME_SINCE(first_Results_time)                          1029893 non-null  float64       \n",
            " 33  TIME_SINCE_PREVIOUS(first_Results_time)                 1029790 non-null  float64       \n",
            " 34  STD(Results.TIME_SINCE(DrawDate))                       1028948 non-null  float64       \n",
            " 35  STD(Results.CUM_MEAN(DrawNo))                           1028948 non-null  float64       \n",
            " 36  STD(Results.CUM_SUM(LuckyNo))                           1028948 non-null  float64       \n",
            " 37  STD(Results.PERCENTILE(DrawNo))                         1028948 non-null  float64       \n",
            " 38  STD(Results.TIME_SINCE_PREVIOUS(DrawDate))              1028948 non-null  float64       \n",
            " 39  STD(Results.CUM_SUM(TotalStrike))                       1028948 non-null  float64       \n",
            " 40  STD(Results.PERCENTILE(TotalStrike))                    1028948 non-null  float64       \n",
            " 41  STD(Results.CUM_SUM(DrawNo))                            1028948 non-null  float64       \n",
            " 42  STD(Results.CUM_MEAN(LuckyNo))                          1028948 non-null  float64       \n",
            " 43  STD(Results.CUM_MEAN(TotalStrike))                      1028948 non-null  float64       \n",
            " 44  STD(Results.PERCENTILE(LuckyNo))                        1028948 non-null  float64       \n",
            " 45  MAX(Results.TIME_SINCE(DrawDate))                       1029893 non-null  float64       \n",
            " 46  MAX(Results.CUM_MEAN(DrawNo))                           1029893 non-null  float64       \n",
            " 47  MAX(Results.CUM_SUM(LuckyNo))                           1029893 non-null  int64         \n",
            " 48  MAX(Results.PERCENTILE(DrawNo))                         1029893 non-null  float64       \n",
            " 49  MAX(Results.TIME_SINCE_PREVIOUS(DrawDate))              1029893 non-null  float64       \n",
            " 50  MAX(Results.CUM_SUM(TotalStrike))                       1029893 non-null  int64         \n",
            " 51  MAX(Results.PERCENTILE(TotalStrike))                    1029893 non-null  float64       \n",
            " 52  MAX(Results.CUM_SUM(DrawNo))                            1029893 non-null  int64         \n",
            " 53  MAX(Results.CUM_MEAN(LuckyNo))                          1029893 non-null  float64       \n",
            " 54  MAX(Results.CUM_MEAN(TotalStrike))                      1029893 non-null  float64       \n",
            " 55  MAX(Results.PERCENTILE(LuckyNo))                        1029893 non-null  float64       \n",
            " 56  MIN(Results.TIME_SINCE(DrawDate))                       1029893 non-null  float64       \n",
            " 57  MIN(Results.CUM_MEAN(DrawNo))                           1029893 non-null  float64       \n",
            " 58  MIN(Results.CUM_SUM(LuckyNo))                           1029893 non-null  int64         \n",
            " 59  MIN(Results.PERCENTILE(DrawNo))                         1029893 non-null  float64       \n",
            " 60  MIN(Results.TIME_SINCE_PREVIOUS(DrawDate))              1029893 non-null  float64       \n",
            " 61  MIN(Results.CUM_SUM(TotalStrike))                       1029893 non-null  int64         \n",
            " 62  MIN(Results.PERCENTILE(TotalStrike))                    1029893 non-null  float64       \n",
            " 63  MIN(Results.CUM_SUM(DrawNo))                            1029893 non-null  int64         \n",
            " 64  MIN(Results.CUM_MEAN(LuckyNo))                          1029893 non-null  float64       \n",
            " 65  MIN(Results.CUM_MEAN(TotalStrike))                      1029893 non-null  float64       \n",
            " 66  MIN(Results.PERCENTILE(LuckyNo))                        1029893 non-null  float64       \n",
            " 67  MODE(Results.MONTH(DrawDate))                           1029893 non-null  int64         \n",
            " 68  MODE(Results.DAY(DrawDate))                             1029893 non-null  int64         \n",
            " 69  MEAN(Results.TIME_SINCE(DrawDate))                      1029893 non-null  float64       \n",
            " 70  MEAN(Results.CUM_MEAN(DrawNo))                          1029893 non-null  float64       \n",
            " 71  MEAN(Results.CUM_SUM(LuckyNo))                          1029893 non-null  float64       \n",
            " 72  MEAN(Results.PERCENTILE(DrawNo))                        1029893 non-null  float64       \n",
            " 73  MEAN(Results.TIME_SINCE_PREVIOUS(DrawDate))             1029893 non-null  float64       \n",
            " 74  MEAN(Results.CUM_SUM(TotalStrike))                      1029893 non-null  float64       \n",
            " 75  MEAN(Results.PERCENTILE(TotalStrike))                   1029893 non-null  float64       \n",
            " 76  MEAN(Results.CUM_SUM(DrawNo))                           1029893 non-null  float64       \n",
            " 77  MEAN(Results.CUM_MEAN(LuckyNo))                         1029893 non-null  float64       \n",
            " 78  MEAN(Results.CUM_MEAN(TotalStrike))                     1029893 non-null  float64       \n",
            " 79  MEAN(Results.PERCENTILE(LuckyNo))                       1029893 non-null  float64       \n",
            " 80  SKEW(Results.TIME_SINCE(DrawDate))                      1022208 non-null  float64       \n",
            " 81  SKEW(Results.CUM_MEAN(DrawNo))                          1022208 non-null  float64       \n",
            " 82  SKEW(Results.CUM_SUM(LuckyNo))                          1022208 non-null  float64       \n",
            " 83  SKEW(Results.PERCENTILE(DrawNo))                        1022208 non-null  float64       \n",
            " 84  SKEW(Results.TIME_SINCE_PREVIOUS(DrawDate))             1022208 non-null  float64       \n",
            " 85  SKEW(Results.CUM_SUM(TotalStrike))                      1022208 non-null  float64       \n",
            " 86  SKEW(Results.PERCENTILE(TotalStrike))                   1022208 non-null  float64       \n",
            " 87  SKEW(Results.CUM_SUM(DrawNo))                           1022208 non-null  float64       \n",
            " 88  SKEW(Results.CUM_MEAN(LuckyNo))                         1022208 non-null  float64       \n",
            " 89  SKEW(Results.CUM_MEAN(TotalStrike))                     1022208 non-null  float64       \n",
            " 90  SKEW(Results.PERCENTILE(LuckyNo))                       1022208 non-null  float64       \n",
            " 91  LAST(Results.TIME_SINCE(DrawDate))                      1029893 non-null  float64       \n",
            " 92  LAST(Results.CUM_MEAN(DrawNo))                          1029893 non-null  float64       \n",
            " 93  LAST(Results.CUM_SUM(LuckyNo))                          1029893 non-null  int64         \n",
            " 94  LAST(Results.PERCENTILE(DrawNo))                        1029893 non-null  float64       \n",
            " 95  LAST(Results.DAY(DrawDate))                             1029893 non-null  int64         \n",
            " 96  LAST(Results.TIME_SINCE_PREVIOUS(DrawDate))             1029893 non-null  float64       \n",
            " 97  LAST(Results.CUM_SUM(TotalStrike))                      1029893 non-null  int64         \n",
            " 98  LAST(Results.MONTH(DrawDate))                           1029893 non-null  int64         \n",
            " 99  LAST(Results.CUM_SUM(DrawNo))                           1029893 non-null  int64         \n",
            " 100 LAST(Results.CUM_MEAN(LuckyNo))                         1029893 non-null  float64       \n",
            " 101 LAST(Results.PERCENTILE(TotalStrike))                   1029893 non-null  float64       \n",
            " 102 LAST(Results.CUM_MEAN(TotalStrike))                     1029893 non-null  float64       \n",
            " 103 LAST(Results.PERCENTILE(LuckyNo))                       1029893 non-null  float64       \n",
            " 104 SUM(Results.TIME_SINCE(DrawDate))                       1029893 non-null  float64       \n",
            " 105 SUM(Results.CUM_MEAN(DrawNo))                           1029893 non-null  float64       \n",
            " 106 SUM(Results.CUM_SUM(LuckyNo))                           1029893 non-null  int64         \n",
            " 107 SUM(Results.PERCENTILE(DrawNo))                         1029893 non-null  float64       \n",
            " 108 SUM(Results.TIME_SINCE_PREVIOUS(DrawDate))              1029893 non-null  float64       \n",
            " 109 SUM(Results.CUM_SUM(TotalStrike))                       1029893 non-null  int64         \n",
            " 110 SUM(Results.PERCENTILE(TotalStrike))                    1029893 non-null  float64       \n",
            " 111 SUM(Results.CUM_SUM(DrawNo))                            1029893 non-null  int64         \n",
            " 112 SUM(Results.CUM_MEAN(LuckyNo))                          1029893 non-null  float64       \n",
            " 113 SUM(Results.CUM_MEAN(TotalStrike))                      1029893 non-null  float64       \n",
            " 114 SUM(Results.PERCENTILE(LuckyNo))                        1029893 non-null  float64       \n",
            " 115 TREND(Results.CUM_MEAN(LuckyNo), DrawDate)              1022208 non-null  float64       \n",
            " 116 TREND(Results.PERCENTILE(LuckyNo), DrawDate)            1022208 non-null  float64       \n",
            " 117 TREND(Results.PERCENTILE(DrawNo), DrawDate)             1022208 non-null  float64       \n",
            " 118 TREND(Results.CUM_MEAN(DrawNo), DrawDate)               1022208 non-null  float64       \n",
            " 119 TREND(Results.TIME_SINCE(DrawDate), DrawDate)           1022208 non-null  float64       \n",
            " 120 TREND(Results.CUM_SUM(TotalStrike), DrawDate)           1022208 non-null  float64       \n",
            " 121 TREND(Results.PERCENTILE(TotalStrike), DrawDate)        1022208 non-null  float64       \n",
            " 122 TREND(Results.TIME_SINCE_PREVIOUS(DrawDate), DrawDate)  1022208 non-null  float64       \n",
            " 123 TREND(Results.CUM_MEAN(TotalStrike), DrawDate)          1022208 non-null  float64       \n",
            " 124 TREND(Results.CUM_SUM(DrawNo), DrawDate)                1022208 non-null  float64       \n",
            " 125 TREND(Results.CUM_SUM(LuckyNo), DrawDate)               1022208 non-null  float64       \n",
            " 126 NUM_UNIQUE(Results.MONTH(DrawDate))                     1029893 non-null  int64         \n",
            " 127 NUM_UNIQUE(Results.DAY(DrawDate))                       1029893 non-null  int64         \n",
            " 128 CUM_SUM(SKEW(Results.LuckyNo))                          1022208 non-null  float64       \n",
            " 129 CUM_SUM(MIN(Results.DrawNo))                            1029893 non-null  int64         \n",
            " 130 CUM_SUM(MEAN(Results.DrawNo))                           1029893 non-null  float64       \n",
            " 131 CUM_SUM(STD(Results.LuckyNo))                           1028948 non-null  float64       \n",
            " 132 CUM_SUM(LAST(Results.DrawNo))                           1029893 non-null  int64         \n",
            " 133 CUM_SUM(MAX(Results.TotalStrike))                       1029893 non-null  int64         \n",
            " 134 CUM_SUM(TREND(Results.TotalStrike, DrawDate))           1022208 non-null  float64       \n",
            " 135 CUM_SUM(MEAN(Results.TotalStrike))                      1029893 non-null  int64         \n",
            " 136 CUM_SUM(MIN(Results.TotalStrike))                       1029893 non-null  int64         \n",
            " 137 CUM_SUM(AVG_TIME_BETWEEN(Results.DrawDate))             1028948 non-null  float64       \n",
            " 138 CUM_SUM(MEAN(Results.LuckyNo))                          1029893 non-null  int64         \n",
            " 139 CUM_SUM(MAX(Results.DrawNo))                            1029893 non-null  int64         \n",
            " 140 CUM_SUM(COUNT(Results))                                 1029893 non-null  int64         \n",
            " 141 CUM_SUM(MIN(Results.LuckyNo))                           1029893 non-null  int64         \n",
            " 142 CUM_SUM(SUM(Results.LuckyNo))                           1029893 non-null  int64         \n",
            " 143 CUM_SUM(NUM_UNIQUE(Results.PrizeType))                  1029893 non-null  int64         \n",
            " 144 CUM_SUM(LAST(Results.TotalStrike))                      1029893 non-null  int64         \n",
            " 145 CUM_SUM(STD(Results.DrawNo))                            1028948 non-null  float64       \n",
            " 146 CUM_SUM(SKEW(Results.DrawNo))                           1022208 non-null  float64       \n",
            " 147 CUM_SUM(TREND(Results.LuckyNo, DrawDate))               1022208 non-null  float64       \n",
            " 148 CUM_SUM(SUM(Results.TotalStrike))                       1029893 non-null  int64         \n",
            " 149 CUM_SUM(STD(Results.TotalStrike))                       1028948 non-null  float64       \n",
            " 150 CUM_SUM(SKEW(Results.TotalStrike))                      1022208 non-null  float64       \n",
            " 151 CUM_SUM(SUM(Results.DrawNo))                            1029893 non-null  int64         \n",
            " 152 CUM_SUM(TREND(Results.DrawNo, DrawDate))                1022208 non-null  float64       \n",
            " 153 CUM_SUM(LAST(Results.LuckyNo))                          1029893 non-null  int64         \n",
            " 154 CUM_SUM(MAX(Results.LuckyNo))                           1029893 non-null  int64         \n",
            " 155 CUM_MEAN(SKEW(Results.LuckyNo))                         1022208 non-null  float64       \n",
            " 156 CUM_MEAN(MIN(Results.DrawNo))                           1029893 non-null  float64       \n",
            " 157 CUM_MEAN(MEAN(Results.DrawNo))                          1029893 non-null  float64       \n",
            " 158 CUM_MEAN(STD(Results.LuckyNo))                          1028948 non-null  float64       \n",
            " 159 CUM_MEAN(LAST(Results.DrawNo))                          1029893 non-null  float64       \n",
            " 160 CUM_MEAN(MAX(Results.TotalStrike))                      1029893 non-null  float64       \n",
            " 161 CUM_MEAN(TREND(Results.TotalStrike, DrawDate))          1022208 non-null  float64       \n",
            " 162 CUM_MEAN(MEAN(Results.TotalStrike))                     1029893 non-null  float64       \n",
            " 163 CUM_MEAN(MIN(Results.TotalStrike))                      1029893 non-null  float64       \n",
            " 164 CUM_MEAN(AVG_TIME_BETWEEN(Results.DrawDate))            1028948 non-null  float64       \n",
            " 165 CUM_MEAN(MEAN(Results.LuckyNo))                         1029893 non-null  float64       \n",
            " 166 CUM_MEAN(MAX(Results.DrawNo))                           1029893 non-null  float64       \n",
            " 167 CUM_MEAN(COUNT(Results))                                1029893 non-null  float64       \n",
            " 168 CUM_MEAN(MIN(Results.LuckyNo))                          1029893 non-null  float64       \n",
            " 169 CUM_MEAN(SUM(Results.LuckyNo))                          1029893 non-null  float64       \n",
            " 170 CUM_MEAN(NUM_UNIQUE(Results.PrizeType))                 1029893 non-null  float64       \n",
            " 171 CUM_MEAN(LAST(Results.TotalStrike))                     1029893 non-null  float64       \n",
            " 172 CUM_MEAN(STD(Results.DrawNo))                           1028948 non-null  float64       \n",
            " 173 CUM_MEAN(SKEW(Results.DrawNo))                          1022208 non-null  float64       \n",
            " 174 CUM_MEAN(TREND(Results.LuckyNo, DrawDate))              1022208 non-null  float64       \n",
            " 175 CUM_MEAN(SUM(Results.TotalStrike))                      1029893 non-null  float64       \n",
            " 176 CUM_MEAN(STD(Results.TotalStrike))                      1028948 non-null  float64       \n",
            " 177 CUM_MEAN(SKEW(Results.TotalStrike))                     1022208 non-null  float64       \n",
            " 178 CUM_MEAN(SUM(Results.DrawNo))                           1029893 non-null  float64       \n",
            " 179 CUM_MEAN(TREND(Results.DrawNo, DrawDate))               1022208 non-null  float64       \n",
            " 180 CUM_MEAN(LAST(Results.LuckyNo))                         1029893 non-null  float64       \n",
            " 181 CUM_MEAN(MAX(Results.LuckyNo))                          1029893 non-null  float64       \n",
            " 182 MONTH(LAST(Results.DrawDate))                           1029893 non-null  int64         \n",
            " 183 DAY(LAST(Results.DrawDate))                             1029893 non-null  int64         \n",
            " 184 PERCENTILE(SKEW(Results.LuckyNo))                       1022208 non-null  float64       \n",
            " 185 PERCENTILE(MIN(Results.DrawNo))                         1029893 non-null  float64       \n",
            " 186 PERCENTILE(MEAN(Results.DrawNo))                        1029893 non-null  float64       \n",
            " 187 PERCENTILE(STD(Results.LuckyNo))                        1028948 non-null  float64       \n",
            " 188 PERCENTILE(LAST(Results.DrawNo))                        1029893 non-null  float64       \n",
            " 189 PERCENTILE(MAX(Results.TotalStrike))                    1029893 non-null  float64       \n",
            " 190 PERCENTILE(TREND(Results.TotalStrike, DrawDate))        1022208 non-null  float64       \n",
            " 191 PERCENTILE(MEAN(Results.TotalStrike))                   1029893 non-null  float64       \n",
            " 192 PERCENTILE(MIN(Results.TotalStrike))                    1029893 non-null  float64       \n",
            " 193 PERCENTILE(AVG_TIME_BETWEEN(Results.DrawDate))          1028948 non-null  float64       \n",
            " 194 PERCENTILE(MEAN(Results.LuckyNo))                       1029893 non-null  float64       \n",
            " 195 PERCENTILE(MAX(Results.DrawNo))                         1029893 non-null  float64       \n",
            " 196 PERCENTILE(COUNT(Results))                              1029893 non-null  float64       \n",
            " 197 PERCENTILE(MIN(Results.LuckyNo))                        1029893 non-null  float64       \n",
            " 198 PERCENTILE(SUM(Results.LuckyNo))                        1029893 non-null  float64       \n",
            " 199 PERCENTILE(NUM_UNIQUE(Results.PrizeType))               1029893 non-null  float64       \n",
            " 200 PERCENTILE(LAST(Results.TotalStrike))                   1029893 non-null  float64       \n",
            " 201 PERCENTILE(STD(Results.DrawNo))                         1028948 non-null  float64       \n",
            " 202 PERCENTILE(SKEW(Results.DrawNo))                        1022208 non-null  float64       \n",
            " 203 PERCENTILE(TREND(Results.LuckyNo, DrawDate))            1022208 non-null  float64       \n",
            " 204 PERCENTILE(SUM(Results.TotalStrike))                    1029893 non-null  float64       \n",
            " 205 PERCENTILE(STD(Results.TotalStrike))                    1028948 non-null  float64       \n",
            " 206 PERCENTILE(SKEW(Results.TotalStrike))                   1022208 non-null  float64       \n",
            " 207 PERCENTILE(SUM(Results.DrawNo))                         1029893 non-null  float64       \n",
            " 208 PERCENTILE(TREND(Results.DrawNo, DrawDate))             1022208 non-null  float64       \n",
            " 209 PERCENTILE(LAST(Results.LuckyNo))                       1029893 non-null  float64       \n",
            " 210 PERCENTILE(MAX(Results.LuckyNo))                        1029893 non-null  float64       \n",
            " 211 TotalStrike                                             1029893 non-null  float64       \n",
            " 212 Label                                                   1029893 non-null  int64         \n",
            " 213 MODE(Results.PrizeType)_Prize                           1029893 non-null  uint8         \n",
            " 214 LAST(Results.PrizeType)_Prize                           1029893 non-null  uint8         \n",
            " 215 month                                                   1029893 non-null  int64         \n",
            " 216 year                                                    1029893 non-null  int64         \n",
            "dtypes: datetime64[ns](1), float64(155), int64(59), uint8(2)\n",
            "memory usage: 1.7 GB\n"
          ],
          "name": "stdout"
        }
      ]
    },
    {
      "cell_type": "code",
      "metadata": {
        "id": "hwDc-KVoGaG1",
        "colab_type": "code",
        "colab": {}
      },
      "source": [
        "feature_matrix = data\n",
        "feature_matrix = data.fillna(0)"
      ],
      "execution_count": 19,
      "outputs": []
    },
    {
      "cell_type": "code",
      "metadata": {
        "id": "gg7SIK0XLaDx",
        "colab_type": "code",
        "colab": {}
      },
      "source": [
        "from sklearn.feature_selection import SelectKBest\n",
        "from sklearn.feature_selection import f_classif, chi2\n",
        "\n",
        "#columns = ['Number', 'time', 'TotalStrike',  'month', 'year', 'Label']\n",
        "#cols = ['Number', 'time', 'TotalStrike',  'month', 'year', 'Label']\n",
        "#feature_matrix = feature_selection(data)\n",
        "def select_features():\n",
        "  X = feature_matrix.drop(columns=['year', 'time', 'Label', 'TotalStrike'])\n",
        "  y = feature_matrix.Label\n",
        "  fs = SelectKBest(score_func=f_classif, k=30)\n",
        "  X_selected = fs.fit_transform(X, y)\n",
        "  mask = fs.get_support()\n",
        "  return X.columns[mask]"
      ],
      "execution_count": 20,
      "outputs": []
    },
    {
      "cell_type": "code",
      "metadata": {
        "id": "fKOtH50PMPBe",
        "colab_type": "code",
        "colab": {}
      },
      "source": [
        "selected_features = select_features()"
      ],
      "execution_count": null,
      "outputs": []
    },
    {
      "cell_type": "code",
      "metadata": {
        "id": "C387QlBkPyE5",
        "colab_type": "code",
        "colab": {
          "base_uri": "https://localhost:8080/",
          "height": 183
        },
        "outputId": "d5e59e3b-3edc-4778-b4ff-344efe717a4e"
      },
      "source": [
        "features_ = selected_features.to_list() + ['NumberId', 'month']\n",
        "print(features)"
      ],
      "execution_count": 1,
      "outputs": [
        {
          "output_type": "error",
          "ename": "NameError",
          "evalue": "ignored",
          "traceback": [
            "\u001b[0;31m---------------------------------------------------------------------------\u001b[0m",
            "\u001b[0;31mNameError\u001b[0m                                 Traceback (most recent call last)",
            "\u001b[0;32m<ipython-input-1-344da2e8e56a>\u001b[0m in \u001b[0;36m<module>\u001b[0;34m()\u001b[0m\n\u001b[0;32m----> 1\u001b[0;31m \u001b[0mfeatures_\u001b[0m \u001b[0;34m=\u001b[0m \u001b[0mselected_features\u001b[0m\u001b[0;34m.\u001b[0m\u001b[0mto_list\u001b[0m\u001b[0;34m(\u001b[0m\u001b[0;34m)\u001b[0m \u001b[0;34m+\u001b[0m \u001b[0;34m[\u001b[0m\u001b[0;34m'NumberId'\u001b[0m\u001b[0;34m,\u001b[0m \u001b[0;34m'month'\u001b[0m\u001b[0;34m]\u001b[0m\u001b[0;34m\u001b[0m\u001b[0;34m\u001b[0m\u001b[0m\n\u001b[0m\u001b[1;32m      2\u001b[0m \u001b[0mprint\u001b[0m\u001b[0;34m(\u001b[0m\u001b[0mfeatures\u001b[0m\u001b[0;34m)\u001b[0m\u001b[0;34m\u001b[0m\u001b[0;34m\u001b[0m\u001b[0m\n",
            "\u001b[0;31mNameError\u001b[0m: name 'selected_features' is not defined"
          ]
        }
      ]
    },
    {
      "cell_type": "code",
      "metadata": {
        "id": "idW_WF_Bcddg",
        "colab_type": "code",
        "colab": {}
      },
      "source": [
        "def split_data():\n",
        "  pass"
      ],
      "execution_count": 29,
      "outputs": []
    }
  ]
}
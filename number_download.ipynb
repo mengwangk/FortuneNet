{
 "cells": [
  {
   "cell_type": "code",
   "execution_count": 2,
   "metadata": {},
   "outputs": [],
   "source": [
    "%reload_ext autoreload\n",
    "%autoreload 2\n",
    "\n",
    "%matplotlib inline"
   ]
  },
  {
   "cell_type": "code",
   "execution_count": 3,
   "metadata": {},
   "outputs": [],
   "source": [
    "# To support both python 2 and python 3\n",
    "from __future__ import division, print_function, unicode_literals\n",
    "\n",
    "# Common imports\n",
    "import numpy as np\n",
    "import os\n",
    "import pandas as pd\n",
    "import featuretools as ft\n",
    "import matplotlib as mpl\n",
    "import matplotlib.pyplot as plt\n",
    "import re"
   ]
  },
  {
   "cell_type": "code",
   "execution_count": 4,
   "metadata": {},
   "outputs": [],
   "source": [
    "# to make this notebook's output stable across runs\n",
    "np.random.seed(42)\n",
    "\n",
    "mpl.rc('axes', labelsize=14)\n",
    "mpl.rc('xtick', labelsize=12)\n",
    "mpl.rc('ytick', labelsize=12)\n",
    "\n",
    "# Ignore useless warnings (see SciPy issue #5998)\n",
    "import warnings\n",
    "warnings.filterwarnings(action=\"ignore\", message=\"^internal gelsd\")\n",
    "\n",
    "from IPython.display import display\n",
    "pd.options.display.max_columns = 50\n",
    "pd.options.display.html.table_schema = True"
   ]
  },
  {
   "cell_type": "markdown",
   "metadata": {},
   "source": [
    "## Functions"
   ]
  },
  {
   "cell_type": "code",
   "execution_count": 5,
   "metadata": {},
   "outputs": [],
   "source": [
    "def download_file(url, path, download_path):\n",
    "    \"\"\"Download the dataset\"\"\"\n",
    "    if not os.path.isdir(path):\n",
    "        os.makedirs(path)\n",
    "    urllib.request.urlretrieve(url, download_path)\n",
    "    if (os.path.isfile(download_path)):\n",
    "        print(f'Download path: {download_path}')"
   ]
  },
  {
   "cell_type": "markdown",
   "metadata": {},
   "source": [
    "## Download dataset"
   ]
  },
  {
   "cell_type": "code",
   "execution_count": 6,
   "metadata": {},
   "outputs": [],
   "source": [
    "import os\n",
    "import zipfile\n",
    "from six.moves import urllib\n",
    "\n",
    "DOWNLOAD_ROOT = \"http://www.sportstoto.com.my/\"\n",
    "LOTTO_PATH = os.path.join(os.getcwd(), \"datasets\", \"lotto\")"
   ]
  },
  {
   "cell_type": "code",
   "execution_count": 7,
   "metadata": {},
   "outputs": [],
   "source": [
    "_4D_URL = DOWNLOAD_ROOT + \"upload/4D.zip\"\n",
    "_4D_ZIP = os.path.join(LOTTO_PATH, \"4D.zip\")"
   ]
  },
  {
   "cell_type": "code",
   "execution_count": 8,
   "metadata": {},
   "outputs": [
    {
     "name": "stdout",
     "output_type": "stream",
     "text": [
      "Download path: /Users/mengwangk/workspace/development/dl-projects/datasets/lotto/4D.zip\n"
     ]
    }
   ],
   "source": [
    "# Download 4D\n",
    "download_file(_4D_URL, LOTTO_PATH, _4D_ZIP)"
   ]
  },
  {
   "cell_type": "code",
   "execution_count": 9,
   "metadata": {},
   "outputs": [],
   "source": [
    "downloaded_file = _4D_ZIP"
   ]
  },
  {
   "cell_type": "code",
   "execution_count": 10,
   "metadata": {},
   "outputs": [
    {
     "data": {
      "application/vnd.dataresource+json": {
       "data": [
        {
         "1stPrizeNo": "9533",
         "2ndPrizeNo": "5236",
         "3rdPrizeNo": "6643",
         "ConsolationNo1": "2023",
         "ConsolationNo10": "1665",
         "ConsolationNo2": "8989",
         "ConsolationNo3": "0406",
         "ConsolationNo4": "9780",
         "ConsolationNo5": "0503",
         "ConsolationNo6": "0182",
         "ConsolationNo7": "3016",
         "ConsolationNo8": "5118",
         "ConsolationNo9": "0039",
         "DrawDate": "20190519",
         "DrawNo": "494919",
         "SpecialNo1": "2726",
         "SpecialNo10": "3791",
         "SpecialNo2": "9971",
         "SpecialNo3": "0664",
         "SpecialNo4": "6970",
         "SpecialNo5": "3607",
         "SpecialNo6": "3404",
         "SpecialNo7": "0920",
         "SpecialNo8": "8625",
         "SpecialNo9": "0094",
         "index": 4541
        },
        {
         "1stPrizeNo": "2107",
         "2ndPrizeNo": "2140",
         "3rdPrizeNo": "5099",
         "ConsolationNo1": "6628",
         "ConsolationNo10": "4319",
         "ConsolationNo2": "3068",
         "ConsolationNo3": "5040",
         "ConsolationNo4": "5548",
         "ConsolationNo5": "8464",
         "ConsolationNo6": "1348",
         "ConsolationNo7": "4195",
         "ConsolationNo8": "3481",
         "ConsolationNo9": "1272",
         "DrawDate": "20190522",
         "DrawNo": "495019",
         "SpecialNo1": "6017",
         "SpecialNo10": "7792",
         "SpecialNo2": "6539",
         "SpecialNo3": "7674",
         "SpecialNo4": "5693",
         "SpecialNo5": "9347",
         "SpecialNo6": "2556",
         "SpecialNo7": "0757",
         "SpecialNo8": "7523",
         "SpecialNo9": "5538",
         "index": 4542
        },
        {
         "1stPrizeNo": "5337",
         "2ndPrizeNo": "1484",
         "3rdPrizeNo": "1311",
         "ConsolationNo1": "3750",
         "ConsolationNo10": "8313",
         "ConsolationNo2": "2593",
         "ConsolationNo3": "8374",
         "ConsolationNo4": "3788",
         "ConsolationNo5": "8717",
         "ConsolationNo6": "0396",
         "ConsolationNo7": "8161",
         "ConsolationNo8": "3780",
         "ConsolationNo9": "3418",
         "DrawDate": "20190525",
         "DrawNo": "495119",
         "SpecialNo1": "1056",
         "SpecialNo10": "3967",
         "SpecialNo2": "5204",
         "SpecialNo3": "6491",
         "SpecialNo4": "3950",
         "SpecialNo5": "5034",
         "SpecialNo6": "0517",
         "SpecialNo7": "0976",
         "SpecialNo8": "2873",
         "SpecialNo9": "9890",
         "index": 4543
        },
        {
         "1stPrizeNo": "5456",
         "2ndPrizeNo": "5388",
         "3rdPrizeNo": "6294",
         "ConsolationNo1": "8268",
         "ConsolationNo10": "4376",
         "ConsolationNo2": "7579",
         "ConsolationNo3": "4873",
         "ConsolationNo4": "9143",
         "ConsolationNo5": "8421",
         "ConsolationNo6": "3413",
         "ConsolationNo7": "4499",
         "ConsolationNo8": "5424",
         "ConsolationNo9": "8929",
         "DrawDate": "20190526",
         "DrawNo": "495219",
         "SpecialNo1": "0448",
         "SpecialNo10": "0462",
         "SpecialNo2": "9000",
         "SpecialNo3": "9237",
         "SpecialNo4": "3870",
         "SpecialNo5": "3669",
         "SpecialNo6": "7182",
         "SpecialNo7": "2766",
         "SpecialNo8": "0655",
         "SpecialNo9": "6450",
         "index": 4544
        },
        {
         "1stPrizeNo": "6220",
         "2ndPrizeNo": "0147",
         "3rdPrizeNo": "5344",
         "ConsolationNo1": "2207",
         "ConsolationNo10": "3250",
         "ConsolationNo2": "9043",
         "ConsolationNo3": "8072",
         "ConsolationNo4": "6455",
         "ConsolationNo5": "8531",
         "ConsolationNo6": "2449",
         "ConsolationNo7": "8621",
         "ConsolationNo8": "4478",
         "ConsolationNo9": "4027",
         "DrawDate": "20190529",
         "DrawNo": "495319",
         "SpecialNo1": "2488",
         "SpecialNo10": "9456",
         "SpecialNo2": "7321",
         "SpecialNo3": "8056",
         "SpecialNo4": "4491",
         "SpecialNo5": "9435",
         "SpecialNo6": "5319",
         "SpecialNo7": "8189",
         "SpecialNo8": "2549",
         "SpecialNo9": "6311",
         "index": 4545
        },
        {
         "1stPrizeNo": "7882",
         "2ndPrizeNo": "8550",
         "3rdPrizeNo": "7022",
         "ConsolationNo1": "2969",
         "ConsolationNo10": "4336",
         "ConsolationNo2": "2006",
         "ConsolationNo3": "9275",
         "ConsolationNo4": "2089",
         "ConsolationNo5": "3649",
         "ConsolationNo6": "2537",
         "ConsolationNo7": "3566",
         "ConsolationNo8": "6964",
         "ConsolationNo9": "4626",
         "DrawDate": "20190601",
         "DrawNo": "495419",
         "SpecialNo1": "0511",
         "SpecialNo10": "5916",
         "SpecialNo2": "4738",
         "SpecialNo3": "0128",
         "SpecialNo4": "0911",
         "SpecialNo5": "1661",
         "SpecialNo6": "2986",
         "SpecialNo7": "2885",
         "SpecialNo8": "5687",
         "SpecialNo9": "4664",
         "index": 4546
        },
        {
         "1stPrizeNo": "2646",
         "2ndPrizeNo": "3531",
         "3rdPrizeNo": "7330",
         "ConsolationNo1": "5914",
         "ConsolationNo10": "1693",
         "ConsolationNo2": "6124",
         "ConsolationNo3": "6946",
         "ConsolationNo4": "2270",
         "ConsolationNo5": "7425",
         "ConsolationNo6": "6924",
         "ConsolationNo7": "1698",
         "ConsolationNo8": "2663",
         "ConsolationNo9": "7664",
         "DrawDate": "20190602",
         "DrawNo": "495519",
         "SpecialNo1": "4150",
         "SpecialNo10": "5545",
         "SpecialNo2": "7579",
         "SpecialNo3": "0767",
         "SpecialNo4": "0437",
         "SpecialNo5": "0558",
         "SpecialNo6": "4071",
         "SpecialNo7": "0904",
         "SpecialNo8": "7159",
         "SpecialNo9": "4811",
         "index": 4547
        },
        {
         "1stPrizeNo": "7389",
         "2ndPrizeNo": "6576",
         "3rdPrizeNo": "1495",
         "ConsolationNo1": "3610",
         "ConsolationNo10": "0678",
         "ConsolationNo2": "5099",
         "ConsolationNo3": "6276",
         "ConsolationNo4": "4486",
         "ConsolationNo5": "1904",
         "ConsolationNo6": "5901",
         "ConsolationNo7": "9713",
         "ConsolationNo8": "0977",
         "ConsolationNo9": "9927",
         "DrawDate": "20190605",
         "DrawNo": "495619",
         "SpecialNo1": "1678",
         "SpecialNo10": "2177",
         "SpecialNo2": "1826",
         "SpecialNo3": "1359",
         "SpecialNo4": "6090",
         "SpecialNo5": "3252",
         "SpecialNo6": "1314",
         "SpecialNo7": "7001",
         "SpecialNo8": "4819",
         "SpecialNo9": "1715",
         "index": 4548
        },
        {
         "1stPrizeNo": "0307",
         "2ndPrizeNo": "2971",
         "3rdPrizeNo": "7758",
         "ConsolationNo1": "6780",
         "ConsolationNo10": "3397",
         "ConsolationNo2": "7829",
         "ConsolationNo3": "6894",
         "ConsolationNo4": "6801",
         "ConsolationNo5": "0006",
         "ConsolationNo6": "4591",
         "ConsolationNo7": "6964",
         "ConsolationNo8": "9531",
         "ConsolationNo9": "4031",
         "DrawDate": "20190608",
         "DrawNo": "495719",
         "SpecialNo1": "2927",
         "SpecialNo10": "5228",
         "SpecialNo2": "7287",
         "SpecialNo3": "3709",
         "SpecialNo4": "3925",
         "SpecialNo5": "4206",
         "SpecialNo6": "4703",
         "SpecialNo7": "1144",
         "SpecialNo8": "7351",
         "SpecialNo9": "6775",
         "index": 4549
        },
        {
         "1stPrizeNo": "0397",
         "2ndPrizeNo": "1232",
         "3rdPrizeNo": "1219",
         "ConsolationNo1": "8611",
         "ConsolationNo10": "5031",
         "ConsolationNo2": "4622",
         "ConsolationNo3": "0483",
         "ConsolationNo4": "1808",
         "ConsolationNo5": "1132",
         "ConsolationNo6": "3153",
         "ConsolationNo7": "8902",
         "ConsolationNo8": "6788",
         "ConsolationNo9": "3596",
         "DrawDate": "20190609",
         "DrawNo": "495819",
         "SpecialNo1": "9569",
         "SpecialNo10": "6223",
         "SpecialNo2": "0791",
         "SpecialNo3": "1218",
         "SpecialNo4": "3669",
         "SpecialNo5": "9517",
         "SpecialNo6": "1844",
         "SpecialNo7": "5050",
         "SpecialNo8": "9073",
         "SpecialNo9": "2976",
         "index": 4550
        }
       ],
       "schema": {
        "fields": [
         {
          "name": "index",
          "type": "integer"
         },
         {
          "name": "DrawNo",
          "type": "string"
         },
         {
          "name": "DrawDate",
          "type": "string"
         },
         {
          "name": "1stPrizeNo",
          "type": "string"
         },
         {
          "name": "2ndPrizeNo",
          "type": "string"
         },
         {
          "name": "3rdPrizeNo",
          "type": "string"
         },
         {
          "name": "SpecialNo1",
          "type": "string"
         },
         {
          "name": "SpecialNo2",
          "type": "string"
         },
         {
          "name": "SpecialNo3",
          "type": "string"
         },
         {
          "name": "SpecialNo4",
          "type": "string"
         },
         {
          "name": "SpecialNo5",
          "type": "string"
         },
         {
          "name": "SpecialNo6",
          "type": "string"
         },
         {
          "name": "SpecialNo7",
          "type": "string"
         },
         {
          "name": "SpecialNo8",
          "type": "string"
         },
         {
          "name": "SpecialNo9",
          "type": "string"
         },
         {
          "name": "SpecialNo10",
          "type": "string"
         },
         {
          "name": "ConsolationNo1",
          "type": "string"
         },
         {
          "name": "ConsolationNo2",
          "type": "string"
         },
         {
          "name": "ConsolationNo3",
          "type": "string"
         },
         {
          "name": "ConsolationNo4",
          "type": "string"
         },
         {
          "name": "ConsolationNo5",
          "type": "string"
         },
         {
          "name": "ConsolationNo6",
          "type": "string"
         },
         {
          "name": "ConsolationNo7",
          "type": "string"
         },
         {
          "name": "ConsolationNo8",
          "type": "string"
         },
         {
          "name": "ConsolationNo9",
          "type": "string"
         },
         {
          "name": "ConsolationNo10",
          "type": "string"
         }
        ],
        "pandas_version": "0.20.0",
        "primaryKey": [
         "index"
        ]
       }
      },
      "text/html": [
       "<div>\n",
       "<style scoped>\n",
       "    .dataframe tbody tr th:only-of-type {\n",
       "        vertical-align: middle;\n",
       "    }\n",
       "\n",
       "    .dataframe tbody tr th {\n",
       "        vertical-align: top;\n",
       "    }\n",
       "\n",
       "    .dataframe thead th {\n",
       "        text-align: right;\n",
       "    }\n",
       "</style>\n",
       "<table border=\"1\" class=\"dataframe\">\n",
       "  <thead>\n",
       "    <tr style=\"text-align: right;\">\n",
       "      <th></th>\n",
       "      <th>DrawNo</th>\n",
       "      <th>DrawDate</th>\n",
       "      <th>1stPrizeNo</th>\n",
       "      <th>2ndPrizeNo</th>\n",
       "      <th>3rdPrizeNo</th>\n",
       "      <th>SpecialNo1</th>\n",
       "      <th>SpecialNo2</th>\n",
       "      <th>SpecialNo3</th>\n",
       "      <th>SpecialNo4</th>\n",
       "      <th>SpecialNo5</th>\n",
       "      <th>SpecialNo6</th>\n",
       "      <th>SpecialNo7</th>\n",
       "      <th>SpecialNo8</th>\n",
       "      <th>SpecialNo9</th>\n",
       "      <th>SpecialNo10</th>\n",
       "      <th>ConsolationNo1</th>\n",
       "      <th>ConsolationNo2</th>\n",
       "      <th>ConsolationNo3</th>\n",
       "      <th>ConsolationNo4</th>\n",
       "      <th>ConsolationNo5</th>\n",
       "      <th>ConsolationNo6</th>\n",
       "      <th>ConsolationNo7</th>\n",
       "      <th>ConsolationNo8</th>\n",
       "      <th>ConsolationNo9</th>\n",
       "      <th>ConsolationNo10</th>\n",
       "    </tr>\n",
       "  </thead>\n",
       "  <tbody>\n",
       "    <tr>\n",
       "      <th>4541</th>\n",
       "      <td>494919</td>\n",
       "      <td>20190519</td>\n",
       "      <td>9533</td>\n",
       "      <td>5236</td>\n",
       "      <td>6643</td>\n",
       "      <td>2726</td>\n",
       "      <td>9971</td>\n",
       "      <td>0664</td>\n",
       "      <td>6970</td>\n",
       "      <td>3607</td>\n",
       "      <td>3404</td>\n",
       "      <td>0920</td>\n",
       "      <td>8625</td>\n",
       "      <td>0094</td>\n",
       "      <td>3791</td>\n",
       "      <td>2023</td>\n",
       "      <td>8989</td>\n",
       "      <td>0406</td>\n",
       "      <td>9780</td>\n",
       "      <td>0503</td>\n",
       "      <td>0182</td>\n",
       "      <td>3016</td>\n",
       "      <td>5118</td>\n",
       "      <td>0039</td>\n",
       "      <td>1665</td>\n",
       "    </tr>\n",
       "    <tr>\n",
       "      <th>4542</th>\n",
       "      <td>495019</td>\n",
       "      <td>20190522</td>\n",
       "      <td>2107</td>\n",
       "      <td>2140</td>\n",
       "      <td>5099</td>\n",
       "      <td>6017</td>\n",
       "      <td>6539</td>\n",
       "      <td>7674</td>\n",
       "      <td>5693</td>\n",
       "      <td>9347</td>\n",
       "      <td>2556</td>\n",
       "      <td>0757</td>\n",
       "      <td>7523</td>\n",
       "      <td>5538</td>\n",
       "      <td>7792</td>\n",
       "      <td>6628</td>\n",
       "      <td>3068</td>\n",
       "      <td>5040</td>\n",
       "      <td>5548</td>\n",
       "      <td>8464</td>\n",
       "      <td>1348</td>\n",
       "      <td>4195</td>\n",
       "      <td>3481</td>\n",
       "      <td>1272</td>\n",
       "      <td>4319</td>\n",
       "    </tr>\n",
       "    <tr>\n",
       "      <th>4543</th>\n",
       "      <td>495119</td>\n",
       "      <td>20190525</td>\n",
       "      <td>5337</td>\n",
       "      <td>1484</td>\n",
       "      <td>1311</td>\n",
       "      <td>1056</td>\n",
       "      <td>5204</td>\n",
       "      <td>6491</td>\n",
       "      <td>3950</td>\n",
       "      <td>5034</td>\n",
       "      <td>0517</td>\n",
       "      <td>0976</td>\n",
       "      <td>2873</td>\n",
       "      <td>9890</td>\n",
       "      <td>3967</td>\n",
       "      <td>3750</td>\n",
       "      <td>2593</td>\n",
       "      <td>8374</td>\n",
       "      <td>3788</td>\n",
       "      <td>8717</td>\n",
       "      <td>0396</td>\n",
       "      <td>8161</td>\n",
       "      <td>3780</td>\n",
       "      <td>3418</td>\n",
       "      <td>8313</td>\n",
       "    </tr>\n",
       "    <tr>\n",
       "      <th>4544</th>\n",
       "      <td>495219</td>\n",
       "      <td>20190526</td>\n",
       "      <td>5456</td>\n",
       "      <td>5388</td>\n",
       "      <td>6294</td>\n",
       "      <td>0448</td>\n",
       "      <td>9000</td>\n",
       "      <td>9237</td>\n",
       "      <td>3870</td>\n",
       "      <td>3669</td>\n",
       "      <td>7182</td>\n",
       "      <td>2766</td>\n",
       "      <td>0655</td>\n",
       "      <td>6450</td>\n",
       "      <td>0462</td>\n",
       "      <td>8268</td>\n",
       "      <td>7579</td>\n",
       "      <td>4873</td>\n",
       "      <td>9143</td>\n",
       "      <td>8421</td>\n",
       "      <td>3413</td>\n",
       "      <td>4499</td>\n",
       "      <td>5424</td>\n",
       "      <td>8929</td>\n",
       "      <td>4376</td>\n",
       "    </tr>\n",
       "    <tr>\n",
       "      <th>4545</th>\n",
       "      <td>495319</td>\n",
       "      <td>20190529</td>\n",
       "      <td>6220</td>\n",
       "      <td>0147</td>\n",
       "      <td>5344</td>\n",
       "      <td>2488</td>\n",
       "      <td>7321</td>\n",
       "      <td>8056</td>\n",
       "      <td>4491</td>\n",
       "      <td>9435</td>\n",
       "      <td>5319</td>\n",
       "      <td>8189</td>\n",
       "      <td>2549</td>\n",
       "      <td>6311</td>\n",
       "      <td>9456</td>\n",
       "      <td>2207</td>\n",
       "      <td>9043</td>\n",
       "      <td>8072</td>\n",
       "      <td>6455</td>\n",
       "      <td>8531</td>\n",
       "      <td>2449</td>\n",
       "      <td>8621</td>\n",
       "      <td>4478</td>\n",
       "      <td>4027</td>\n",
       "      <td>3250</td>\n",
       "    </tr>\n",
       "    <tr>\n",
       "      <th>4546</th>\n",
       "      <td>495419</td>\n",
       "      <td>20190601</td>\n",
       "      <td>7882</td>\n",
       "      <td>8550</td>\n",
       "      <td>7022</td>\n",
       "      <td>0511</td>\n",
       "      <td>4738</td>\n",
       "      <td>0128</td>\n",
       "      <td>0911</td>\n",
       "      <td>1661</td>\n",
       "      <td>2986</td>\n",
       "      <td>2885</td>\n",
       "      <td>5687</td>\n",
       "      <td>4664</td>\n",
       "      <td>5916</td>\n",
       "      <td>2969</td>\n",
       "      <td>2006</td>\n",
       "      <td>9275</td>\n",
       "      <td>2089</td>\n",
       "      <td>3649</td>\n",
       "      <td>2537</td>\n",
       "      <td>3566</td>\n",
       "      <td>6964</td>\n",
       "      <td>4626</td>\n",
       "      <td>4336</td>\n",
       "    </tr>\n",
       "    <tr>\n",
       "      <th>4547</th>\n",
       "      <td>495519</td>\n",
       "      <td>20190602</td>\n",
       "      <td>2646</td>\n",
       "      <td>3531</td>\n",
       "      <td>7330</td>\n",
       "      <td>4150</td>\n",
       "      <td>7579</td>\n",
       "      <td>0767</td>\n",
       "      <td>0437</td>\n",
       "      <td>0558</td>\n",
       "      <td>4071</td>\n",
       "      <td>0904</td>\n",
       "      <td>7159</td>\n",
       "      <td>4811</td>\n",
       "      <td>5545</td>\n",
       "      <td>5914</td>\n",
       "      <td>6124</td>\n",
       "      <td>6946</td>\n",
       "      <td>2270</td>\n",
       "      <td>7425</td>\n",
       "      <td>6924</td>\n",
       "      <td>1698</td>\n",
       "      <td>2663</td>\n",
       "      <td>7664</td>\n",
       "      <td>1693</td>\n",
       "    </tr>\n",
       "    <tr>\n",
       "      <th>4548</th>\n",
       "      <td>495619</td>\n",
       "      <td>20190605</td>\n",
       "      <td>7389</td>\n",
       "      <td>6576</td>\n",
       "      <td>1495</td>\n",
       "      <td>1678</td>\n",
       "      <td>1826</td>\n",
       "      <td>1359</td>\n",
       "      <td>6090</td>\n",
       "      <td>3252</td>\n",
       "      <td>1314</td>\n",
       "      <td>7001</td>\n",
       "      <td>4819</td>\n",
       "      <td>1715</td>\n",
       "      <td>2177</td>\n",
       "      <td>3610</td>\n",
       "      <td>5099</td>\n",
       "      <td>6276</td>\n",
       "      <td>4486</td>\n",
       "      <td>1904</td>\n",
       "      <td>5901</td>\n",
       "      <td>9713</td>\n",
       "      <td>0977</td>\n",
       "      <td>9927</td>\n",
       "      <td>0678</td>\n",
       "    </tr>\n",
       "    <tr>\n",
       "      <th>4549</th>\n",
       "      <td>495719</td>\n",
       "      <td>20190608</td>\n",
       "      <td>0307</td>\n",
       "      <td>2971</td>\n",
       "      <td>7758</td>\n",
       "      <td>2927</td>\n",
       "      <td>7287</td>\n",
       "      <td>3709</td>\n",
       "      <td>3925</td>\n",
       "      <td>4206</td>\n",
       "      <td>4703</td>\n",
       "      <td>1144</td>\n",
       "      <td>7351</td>\n",
       "      <td>6775</td>\n",
       "      <td>5228</td>\n",
       "      <td>6780</td>\n",
       "      <td>7829</td>\n",
       "      <td>6894</td>\n",
       "      <td>6801</td>\n",
       "      <td>0006</td>\n",
       "      <td>4591</td>\n",
       "      <td>6964</td>\n",
       "      <td>9531</td>\n",
       "      <td>4031</td>\n",
       "      <td>3397</td>\n",
       "    </tr>\n",
       "    <tr>\n",
       "      <th>4550</th>\n",
       "      <td>495819</td>\n",
       "      <td>20190609</td>\n",
       "      <td>0397</td>\n",
       "      <td>1232</td>\n",
       "      <td>1219</td>\n",
       "      <td>9569</td>\n",
       "      <td>0791</td>\n",
       "      <td>1218</td>\n",
       "      <td>3669</td>\n",
       "      <td>9517</td>\n",
       "      <td>1844</td>\n",
       "      <td>5050</td>\n",
       "      <td>9073</td>\n",
       "      <td>2976</td>\n",
       "      <td>6223</td>\n",
       "      <td>8611</td>\n",
       "      <td>4622</td>\n",
       "      <td>0483</td>\n",
       "      <td>1808</td>\n",
       "      <td>1132</td>\n",
       "      <td>3153</td>\n",
       "      <td>8902</td>\n",
       "      <td>6788</td>\n",
       "      <td>3596</td>\n",
       "      <td>5031</td>\n",
       "    </tr>\n",
       "  </tbody>\n",
       "</table>\n",
       "</div>"
      ],
      "text/plain": [
       "      DrawNo  DrawDate 1stPrizeNo 2ndPrizeNo 3rdPrizeNo SpecialNo1 SpecialNo2  \\\n",
       "4541  494919  20190519       9533       5236       6643       2726       9971   \n",
       "4542  495019  20190522       2107       2140       5099       6017       6539   \n",
       "4543  495119  20190525       5337       1484       1311       1056       5204   \n",
       "4544  495219  20190526       5456       5388       6294       0448       9000   \n",
       "4545  495319  20190529       6220       0147       5344       2488       7321   \n",
       "4546  495419  20190601       7882       8550       7022       0511       4738   \n",
       "4547  495519  20190602       2646       3531       7330       4150       7579   \n",
       "4548  495619  20190605       7389       6576       1495       1678       1826   \n",
       "4549  495719  20190608       0307       2971       7758       2927       7287   \n",
       "4550  495819  20190609       0397       1232       1219       9569       0791   \n",
       "\n",
       "     SpecialNo3 SpecialNo4 SpecialNo5 SpecialNo6 SpecialNo7 SpecialNo8  \\\n",
       "4541       0664       6970       3607       3404       0920       8625   \n",
       "4542       7674       5693       9347       2556       0757       7523   \n",
       "4543       6491       3950       5034       0517       0976       2873   \n",
       "4544       9237       3870       3669       7182       2766       0655   \n",
       "4545       8056       4491       9435       5319       8189       2549   \n",
       "4546       0128       0911       1661       2986       2885       5687   \n",
       "4547       0767       0437       0558       4071       0904       7159   \n",
       "4548       1359       6090       3252       1314       7001       4819   \n",
       "4549       3709       3925       4206       4703       1144       7351   \n",
       "4550       1218       3669       9517       1844       5050       9073   \n",
       "\n",
       "     SpecialNo9 SpecialNo10 ConsolationNo1 ConsolationNo2 ConsolationNo3  \\\n",
       "4541       0094        3791           2023           8989           0406   \n",
       "4542       5538        7792           6628           3068           5040   \n",
       "4543       9890        3967           3750           2593           8374   \n",
       "4544       6450        0462           8268           7579           4873   \n",
       "4545       6311        9456           2207           9043           8072   \n",
       "4546       4664        5916           2969           2006           9275   \n",
       "4547       4811        5545           5914           6124           6946   \n",
       "4548       1715        2177           3610           5099           6276   \n",
       "4549       6775        5228           6780           7829           6894   \n",
       "4550       2976        6223           8611           4622           0483   \n",
       "\n",
       "     ConsolationNo4 ConsolationNo5 ConsolationNo6 ConsolationNo7  \\\n",
       "4541           9780           0503           0182           3016   \n",
       "4542           5548           8464           1348           4195   \n",
       "4543           3788           8717           0396           8161   \n",
       "4544           9143           8421           3413           4499   \n",
       "4545           6455           8531           2449           8621   \n",
       "4546           2089           3649           2537           3566   \n",
       "4547           2270           7425           6924           1698   \n",
       "4548           4486           1904           5901           9713   \n",
       "4549           6801           0006           4591           6964   \n",
       "4550           1808           1132           3153           8902   \n",
       "\n",
       "     ConsolationNo8 ConsolationNo9 ConsolationNo10  \n",
       "4541           5118           0039            1665  \n",
       "4542           3481           1272            4319  \n",
       "4543           3780           3418            8313  \n",
       "4544           5424           8929            4376  \n",
       "4545           4478           4027            3250  \n",
       "4546           6964           4626            4336  \n",
       "4547           2663           7664            1693  \n",
       "4548           0977           9927            0678  \n",
       "4549           9531           4031            3397  \n",
       "4550           6788           3596            5031  "
      ]
     },
     "execution_count": 10,
     "metadata": {},
     "output_type": "execute_result"
    }
   ],
   "source": [
    "# Read into data frame\n",
    "df = pd.read_csv(downloaded_file, header=0, sep=',', quotechar='\"', dtype=np.str)\n",
    "df.tail(10)"
   ]
  },
  {
   "cell_type": "code",
   "execution_count": 11,
   "metadata": {},
   "outputs": [
    {
     "name": "stdout",
     "output_type": "stream",
     "text": [
      "<class 'pandas.core.frame.DataFrame'>\n",
      "RangeIndex: 104673 entries, 0 to 104672\n",
      "Data columns (total 4 columns):\n",
      "DrawNo       104673 non-null object\n",
      "DrawDate     104673 non-null datetime64[ns]\n",
      "PrizeType    104673 non-null object\n",
      "LuckyNo      104673 non-null object\n",
      "dtypes: datetime64[ns](1), object(3)\n",
      "memory usage: 3.2+ MB\n"
     ]
    }
   ],
   "source": [
    "df_transposed = df.melt(id_vars=[\"DrawNo\", \"DrawDate\"], var_name=\"PrizeType\", value_name=\"LuckyNo\")\n",
    "df_transposed = df_transposed.sort_values([\"DrawNo\", \"DrawDate\", \"PrizeType\"], ascending=True)\n",
    "df_transposed['DrawDate'] = pd.to_datetime(df_transposed['DrawDate'], format='%Y%m%d')\n",
    "df_transposed.reset_index(inplace=True, drop=True)\n",
    "df_transposed.info()"
   ]
  },
  {
   "cell_type": "code",
   "execution_count": 12,
   "metadata": {},
   "outputs": [
    {
     "data": {
      "application/vnd.dataresource+json": {
       "data": [
        {
         "DrawDate": "2019-06-09T00:00:00.000Z",
         "DrawNo": "495819",
         "LuckyNo": "0397",
         "PrizeType": "1stPrizeNo",
         "index": 104650
        },
        {
         "DrawDate": "2019-06-09T00:00:00.000Z",
         "DrawNo": "495819",
         "LuckyNo": "1232",
         "PrizeType": "2ndPrizeNo",
         "index": 104651
        },
        {
         "DrawDate": "2019-06-09T00:00:00.000Z",
         "DrawNo": "495819",
         "LuckyNo": "1219",
         "PrizeType": "3rdPrizeNo",
         "index": 104652
        },
        {
         "DrawDate": "2019-06-09T00:00:00.000Z",
         "DrawNo": "495819",
         "LuckyNo": "8611",
         "PrizeType": "ConsolationNo1",
         "index": 104653
        },
        {
         "DrawDate": "2019-06-09T00:00:00.000Z",
         "DrawNo": "495819",
         "LuckyNo": "5031",
         "PrizeType": "ConsolationNo10",
         "index": 104654
        },
        {
         "DrawDate": "2019-06-09T00:00:00.000Z",
         "DrawNo": "495819",
         "LuckyNo": "4622",
         "PrizeType": "ConsolationNo2",
         "index": 104655
        },
        {
         "DrawDate": "2019-06-09T00:00:00.000Z",
         "DrawNo": "495819",
         "LuckyNo": "0483",
         "PrizeType": "ConsolationNo3",
         "index": 104656
        },
        {
         "DrawDate": "2019-06-09T00:00:00.000Z",
         "DrawNo": "495819",
         "LuckyNo": "1808",
         "PrizeType": "ConsolationNo4",
         "index": 104657
        },
        {
         "DrawDate": "2019-06-09T00:00:00.000Z",
         "DrawNo": "495819",
         "LuckyNo": "1132",
         "PrizeType": "ConsolationNo5",
         "index": 104658
        },
        {
         "DrawDate": "2019-06-09T00:00:00.000Z",
         "DrawNo": "495819",
         "LuckyNo": "3153",
         "PrizeType": "ConsolationNo6",
         "index": 104659
        },
        {
         "DrawDate": "2019-06-09T00:00:00.000Z",
         "DrawNo": "495819",
         "LuckyNo": "8902",
         "PrizeType": "ConsolationNo7",
         "index": 104660
        },
        {
         "DrawDate": "2019-06-09T00:00:00.000Z",
         "DrawNo": "495819",
         "LuckyNo": "6788",
         "PrizeType": "ConsolationNo8",
         "index": 104661
        },
        {
         "DrawDate": "2019-06-09T00:00:00.000Z",
         "DrawNo": "495819",
         "LuckyNo": "3596",
         "PrizeType": "ConsolationNo9",
         "index": 104662
        },
        {
         "DrawDate": "2019-06-09T00:00:00.000Z",
         "DrawNo": "495819",
         "LuckyNo": "9569",
         "PrizeType": "SpecialNo1",
         "index": 104663
        },
        {
         "DrawDate": "2019-06-09T00:00:00.000Z",
         "DrawNo": "495819",
         "LuckyNo": "6223",
         "PrizeType": "SpecialNo10",
         "index": 104664
        },
        {
         "DrawDate": "2019-06-09T00:00:00.000Z",
         "DrawNo": "495819",
         "LuckyNo": "0791",
         "PrizeType": "SpecialNo2",
         "index": 104665
        },
        {
         "DrawDate": "2019-06-09T00:00:00.000Z",
         "DrawNo": "495819",
         "LuckyNo": "1218",
         "PrizeType": "SpecialNo3",
         "index": 104666
        },
        {
         "DrawDate": "2019-06-09T00:00:00.000Z",
         "DrawNo": "495819",
         "LuckyNo": "3669",
         "PrizeType": "SpecialNo4",
         "index": 104667
        },
        {
         "DrawDate": "2019-06-09T00:00:00.000Z",
         "DrawNo": "495819",
         "LuckyNo": "9517",
         "PrizeType": "SpecialNo5",
         "index": 104668
        },
        {
         "DrawDate": "2019-06-09T00:00:00.000Z",
         "DrawNo": "495819",
         "LuckyNo": "1844",
         "PrizeType": "SpecialNo6",
         "index": 104669
        },
        {
         "DrawDate": "2019-06-09T00:00:00.000Z",
         "DrawNo": "495819",
         "LuckyNo": "5050",
         "PrizeType": "SpecialNo7",
         "index": 104670
        },
        {
         "DrawDate": "2019-06-09T00:00:00.000Z",
         "DrawNo": "495819",
         "LuckyNo": "9073",
         "PrizeType": "SpecialNo8",
         "index": 104671
        },
        {
         "DrawDate": "2019-06-09T00:00:00.000Z",
         "DrawNo": "495819",
         "LuckyNo": "2976",
         "PrizeType": "SpecialNo9",
         "index": 104672
        }
       ],
       "schema": {
        "fields": [
         {
          "name": "index",
          "type": "integer"
         },
         {
          "name": "DrawNo",
          "type": "string"
         },
         {
          "name": "DrawDate",
          "type": "datetime"
         },
         {
          "name": "PrizeType",
          "type": "string"
         },
         {
          "name": "LuckyNo",
          "type": "string"
         }
        ],
        "pandas_version": "0.20.0",
        "primaryKey": [
         "index"
        ]
       }
      },
      "text/html": [
       "<div>\n",
       "<style scoped>\n",
       "    .dataframe tbody tr th:only-of-type {\n",
       "        vertical-align: middle;\n",
       "    }\n",
       "\n",
       "    .dataframe tbody tr th {\n",
       "        vertical-align: top;\n",
       "    }\n",
       "\n",
       "    .dataframe thead th {\n",
       "        text-align: right;\n",
       "    }\n",
       "</style>\n",
       "<table border=\"1\" class=\"dataframe\">\n",
       "  <thead>\n",
       "    <tr style=\"text-align: right;\">\n",
       "      <th></th>\n",
       "      <th>DrawNo</th>\n",
       "      <th>DrawDate</th>\n",
       "      <th>PrizeType</th>\n",
       "      <th>LuckyNo</th>\n",
       "    </tr>\n",
       "  </thead>\n",
       "  <tbody>\n",
       "    <tr>\n",
       "      <th>104650</th>\n",
       "      <td>495819</td>\n",
       "      <td>2019-06-09</td>\n",
       "      <td>1stPrizeNo</td>\n",
       "      <td>0397</td>\n",
       "    </tr>\n",
       "    <tr>\n",
       "      <th>104651</th>\n",
       "      <td>495819</td>\n",
       "      <td>2019-06-09</td>\n",
       "      <td>2ndPrizeNo</td>\n",
       "      <td>1232</td>\n",
       "    </tr>\n",
       "    <tr>\n",
       "      <th>104652</th>\n",
       "      <td>495819</td>\n",
       "      <td>2019-06-09</td>\n",
       "      <td>3rdPrizeNo</td>\n",
       "      <td>1219</td>\n",
       "    </tr>\n",
       "    <tr>\n",
       "      <th>104653</th>\n",
       "      <td>495819</td>\n",
       "      <td>2019-06-09</td>\n",
       "      <td>ConsolationNo1</td>\n",
       "      <td>8611</td>\n",
       "    </tr>\n",
       "    <tr>\n",
       "      <th>104654</th>\n",
       "      <td>495819</td>\n",
       "      <td>2019-06-09</td>\n",
       "      <td>ConsolationNo10</td>\n",
       "      <td>5031</td>\n",
       "    </tr>\n",
       "    <tr>\n",
       "      <th>104655</th>\n",
       "      <td>495819</td>\n",
       "      <td>2019-06-09</td>\n",
       "      <td>ConsolationNo2</td>\n",
       "      <td>4622</td>\n",
       "    </tr>\n",
       "    <tr>\n",
       "      <th>104656</th>\n",
       "      <td>495819</td>\n",
       "      <td>2019-06-09</td>\n",
       "      <td>ConsolationNo3</td>\n",
       "      <td>0483</td>\n",
       "    </tr>\n",
       "    <tr>\n",
       "      <th>104657</th>\n",
       "      <td>495819</td>\n",
       "      <td>2019-06-09</td>\n",
       "      <td>ConsolationNo4</td>\n",
       "      <td>1808</td>\n",
       "    </tr>\n",
       "    <tr>\n",
       "      <th>104658</th>\n",
       "      <td>495819</td>\n",
       "      <td>2019-06-09</td>\n",
       "      <td>ConsolationNo5</td>\n",
       "      <td>1132</td>\n",
       "    </tr>\n",
       "    <tr>\n",
       "      <th>104659</th>\n",
       "      <td>495819</td>\n",
       "      <td>2019-06-09</td>\n",
       "      <td>ConsolationNo6</td>\n",
       "      <td>3153</td>\n",
       "    </tr>\n",
       "    <tr>\n",
       "      <th>104660</th>\n",
       "      <td>495819</td>\n",
       "      <td>2019-06-09</td>\n",
       "      <td>ConsolationNo7</td>\n",
       "      <td>8902</td>\n",
       "    </tr>\n",
       "    <tr>\n",
       "      <th>104661</th>\n",
       "      <td>495819</td>\n",
       "      <td>2019-06-09</td>\n",
       "      <td>ConsolationNo8</td>\n",
       "      <td>6788</td>\n",
       "    </tr>\n",
       "    <tr>\n",
       "      <th>104662</th>\n",
       "      <td>495819</td>\n",
       "      <td>2019-06-09</td>\n",
       "      <td>ConsolationNo9</td>\n",
       "      <td>3596</td>\n",
       "    </tr>\n",
       "    <tr>\n",
       "      <th>104663</th>\n",
       "      <td>495819</td>\n",
       "      <td>2019-06-09</td>\n",
       "      <td>SpecialNo1</td>\n",
       "      <td>9569</td>\n",
       "    </tr>\n",
       "    <tr>\n",
       "      <th>104664</th>\n",
       "      <td>495819</td>\n",
       "      <td>2019-06-09</td>\n",
       "      <td>SpecialNo10</td>\n",
       "      <td>6223</td>\n",
       "    </tr>\n",
       "    <tr>\n",
       "      <th>104665</th>\n",
       "      <td>495819</td>\n",
       "      <td>2019-06-09</td>\n",
       "      <td>SpecialNo2</td>\n",
       "      <td>0791</td>\n",
       "    </tr>\n",
       "    <tr>\n",
       "      <th>104666</th>\n",
       "      <td>495819</td>\n",
       "      <td>2019-06-09</td>\n",
       "      <td>SpecialNo3</td>\n",
       "      <td>1218</td>\n",
       "    </tr>\n",
       "    <tr>\n",
       "      <th>104667</th>\n",
       "      <td>495819</td>\n",
       "      <td>2019-06-09</td>\n",
       "      <td>SpecialNo4</td>\n",
       "      <td>3669</td>\n",
       "    </tr>\n",
       "    <tr>\n",
       "      <th>104668</th>\n",
       "      <td>495819</td>\n",
       "      <td>2019-06-09</td>\n",
       "      <td>SpecialNo5</td>\n",
       "      <td>9517</td>\n",
       "    </tr>\n",
       "    <tr>\n",
       "      <th>104669</th>\n",
       "      <td>495819</td>\n",
       "      <td>2019-06-09</td>\n",
       "      <td>SpecialNo6</td>\n",
       "      <td>1844</td>\n",
       "    </tr>\n",
       "    <tr>\n",
       "      <th>104670</th>\n",
       "      <td>495819</td>\n",
       "      <td>2019-06-09</td>\n",
       "      <td>SpecialNo7</td>\n",
       "      <td>5050</td>\n",
       "    </tr>\n",
       "    <tr>\n",
       "      <th>104671</th>\n",
       "      <td>495819</td>\n",
       "      <td>2019-06-09</td>\n",
       "      <td>SpecialNo8</td>\n",
       "      <td>9073</td>\n",
       "    </tr>\n",
       "    <tr>\n",
       "      <th>104672</th>\n",
       "      <td>495819</td>\n",
       "      <td>2019-06-09</td>\n",
       "      <td>SpecialNo9</td>\n",
       "      <td>2976</td>\n",
       "    </tr>\n",
       "  </tbody>\n",
       "</table>\n",
       "</div>"
      ],
      "text/plain": [
       "        DrawNo   DrawDate        PrizeType LuckyNo\n",
       "104650  495819 2019-06-09       1stPrizeNo    0397\n",
       "104651  495819 2019-06-09       2ndPrizeNo    1232\n",
       "104652  495819 2019-06-09       3rdPrizeNo    1219\n",
       "104653  495819 2019-06-09   ConsolationNo1    8611\n",
       "104654  495819 2019-06-09  ConsolationNo10    5031\n",
       "104655  495819 2019-06-09   ConsolationNo2    4622\n",
       "104656  495819 2019-06-09   ConsolationNo3    0483\n",
       "104657  495819 2019-06-09   ConsolationNo4    1808\n",
       "104658  495819 2019-06-09   ConsolationNo5    1132\n",
       "104659  495819 2019-06-09   ConsolationNo6    3153\n",
       "104660  495819 2019-06-09   ConsolationNo7    8902\n",
       "104661  495819 2019-06-09   ConsolationNo8    6788\n",
       "104662  495819 2019-06-09   ConsolationNo9    3596\n",
       "104663  495819 2019-06-09       SpecialNo1    9569\n",
       "104664  495819 2019-06-09      SpecialNo10    6223\n",
       "104665  495819 2019-06-09       SpecialNo2    0791\n",
       "104666  495819 2019-06-09       SpecialNo3    1218\n",
       "104667  495819 2019-06-09       SpecialNo4    3669\n",
       "104668  495819 2019-06-09       SpecialNo5    9517\n",
       "104669  495819 2019-06-09       SpecialNo6    1844\n",
       "104670  495819 2019-06-09       SpecialNo7    5050\n",
       "104671  495819 2019-06-09       SpecialNo8    9073\n",
       "104672  495819 2019-06-09       SpecialNo9    2976"
      ]
     },
     "execution_count": 12,
     "metadata": {},
     "output_type": "execute_result"
    }
   ],
   "source": [
    "df_transposed.tail(23)"
   ]
  },
  {
   "cell_type": "code",
   "execution_count": 13,
   "metadata": {},
   "outputs": [
    {
     "name": "stdout",
     "output_type": "stream",
     "text": [
      "<class 'pandas.core.frame.DataFrame'>\n",
      "RangeIndex: 104673 entries, 0 to 104672\n",
      "Data columns (total 4 columns):\n",
      "DrawNo       104673 non-null object\n",
      "DrawDate     104673 non-null datetime64[ns]\n",
      "PrizeType    104673 non-null object\n",
      "LuckyNo      104673 non-null object\n",
      "dtypes: datetime64[ns](1), object(3)\n",
      "memory usage: 3.2+ MB\n"
     ]
    }
   ],
   "source": [
    "df_transposed.info()"
   ]
  },
  {
   "cell_type": "code",
   "execution_count": 14,
   "metadata": {},
   "outputs": [
    {
     "data": {
      "application/vnd.dataresource+json": {
       "data": [
        {
         "DrawNo": 23,
         "index": "314209"
        },
        {
         "DrawNo": 23,
         "index": "488118"
        },
        {
         "DrawNo": 23,
         "index": "127697"
        },
        {
         "DrawNo": 23,
         "index": "476918"
        },
        {
         "DrawNo": 23,
         "index": "374812"
        },
        {
         "DrawNo": 23,
         "index": "093295"
        },
        {
         "DrawNo": 23,
         "index": "229804"
        },
        {
         "DrawNo": 23,
         "index": "174500"
        },
        {
         "DrawNo": 23,
         "index": "050892"
        },
        {
         "DrawNo": 23,
         "index": "203602"
        },
        {
         "DrawNo": 23,
         "index": "122597"
        },
        {
         "DrawNo": 23,
         "index": "120997"
        },
        {
         "DrawNo": 23,
         "index": "074994"
        },
        {
         "DrawNo": 23,
         "index": "416014"
        },
        {
         "DrawNo": 23,
         "index": "205302"
        },
        {
         "DrawNo": 23,
         "index": "266906"
        },
        {
         "DrawNo": 23,
         "index": "116197"
        },
        {
         "DrawNo": 23,
         "index": "367012"
        },
        {
         "DrawNo": 23,
         "index": "280107"
        },
        {
         "DrawNo": 23,
         "index": "289507"
        },
        {
         "DrawNo": 23,
         "index": "186201"
        },
        {
         "DrawNo": 23,
         "index": "437316"
        },
        {
         "DrawNo": 23,
         "index": "280407"
        },
        {
         "DrawNo": 23,
         "index": "288307"
        },
        {
         "DrawNo": 23,
         "index": "393013"
        },
        {
         "DrawNo": 23,
         "index": "470617"
        },
        {
         "DrawNo": 23,
         "index": "396313"
        },
        {
         "DrawNo": 23,
         "index": "419215"
        },
        {
         "DrawNo": 23,
         "index": "338510"
        },
        {
         "DrawNo": 23,
         "index": "470818"
        },
        {
         "DrawNo": 23,
         "index": "053193"
        },
        {
         "DrawNo": 23,
         "index": "125097"
        },
        {
         "DrawNo": 23,
         "index": "430815"
        },
        {
         "DrawNo": 23,
         "index": "094095"
        },
        {
         "DrawNo": 23,
         "index": "432415"
        },
        {
         "DrawNo": 23,
         "index": "048792"
        },
        {
         "DrawNo": 23,
         "index": "264506"
        },
        {
         "DrawNo": 23,
         "index": "470217"
        },
        {
         "DrawNo": 23,
         "index": "224903"
        },
        {
         "DrawNo": 23,
         "index": "078394"
        },
        {
         "DrawNo": 23,
         "index": "193301"
        },
        {
         "DrawNo": 23,
         "index": "070194"
        },
        {
         "DrawNo": 23,
         "index": "294407"
        },
        {
         "DrawNo": 23,
         "index": "145499"
        },
        {
         "DrawNo": 23,
         "index": "326409"
        },
        {
         "DrawNo": 23,
         "index": "492519"
        },
        {
         "DrawNo": 23,
         "index": "316309"
        },
        {
         "DrawNo": 23,
         "index": "057193"
        },
        {
         "DrawNo": 23,
         "index": "281407"
        },
        {
         "DrawNo": 23,
         "index": "288807"
        },
        {
         "DrawNo": 23,
         "index": "052293"
        },
        {
         "DrawNo": 23,
         "index": "339110"
        },
        {
         "DrawNo": 23,
         "index": "171400"
        },
        {
         "DrawNo": 23,
         "index": "340010"
        },
        {
         "DrawNo": 23,
         "index": "403814"
        },
        {
         "DrawNo": 23,
         "index": "445116"
        },
        {
         "DrawNo": 23,
         "index": "407514"
        },
        {
         "DrawNo": 23,
         "index": "356311"
        },
        {
         "DrawNo": 23,
         "index": "382513"
        },
        {
         "DrawNo": 23,
         "index": "129197"
        }
       ],
       "schema": {
        "fields": [
         {
          "name": "index",
          "type": "string"
         },
         {
          "name": "DrawNo",
          "type": "integer"
         }
        ],
        "pandas_version": "0.20.0",
        "primaryKey": [
         "index"
        ]
       }
      },
      "text/plain": [
       "314209    23\n",
       "488118    23\n",
       "127697    23\n",
       "476918    23\n",
       "374812    23\n",
       "093295    23\n",
       "229804    23\n",
       "174500    23\n",
       "050892    23\n",
       "203602    23\n",
       "122597    23\n",
       "120997    23\n",
       "074994    23\n",
       "416014    23\n",
       "205302    23\n",
       "266906    23\n",
       "116197    23\n",
       "367012    23\n",
       "280107    23\n",
       "289507    23\n",
       "186201    23\n",
       "437316    23\n",
       "280407    23\n",
       "288307    23\n",
       "393013    23\n",
       "470617    23\n",
       "396313    23\n",
       "419215    23\n",
       "338510    23\n",
       "470818    23\n",
       "          ..\n",
       "328209    23\n",
       "226603    23\n",
       "375912    23\n",
       "154899    23\n",
       "253105    23\n",
       "416214    23\n",
       "174200    23\n",
       "454517    23\n",
       "276906    23\n",
       "477918    23\n",
       "237804    23\n",
       "145399    23\n",
       "441316    23\n",
       "212303    23\n",
       "372212    23\n",
       "377712    23\n",
       "397113    23\n",
       "077394    23\n",
       "358411    23\n",
       "487118    23\n",
       "217503    23\n",
       "124097    23\n",
       "321309    23\n",
       "060593    23\n",
       "393613    23\n",
       "198002    23\n",
       "312709    23\n",
       "267306    23\n",
       "311209    23\n",
       "463517    23\n",
       "Name: DrawNo, Length: 4551, dtype: int64"
      ]
     },
     "execution_count": 14,
     "metadata": {},
     "output_type": "execute_result"
    }
   ],
   "source": [
    "df_transposed.DrawNo.value_counts()"
   ]
  },
  {
   "cell_type": "code",
   "execution_count": 25,
   "metadata": {},
   "outputs": [
    {
     "name": "stdout",
     "output_type": "stream",
     "text": [
      "4551.0\n",
      "4551\n"
     ]
    }
   ],
   "source": [
    "print(len(df_transposed) / 23)\n",
    "print(len(df_transposed.DrawNo.unique()))"
   ]
  },
  {
   "cell_type": "code",
   "execution_count": 30,
   "metadata": {},
   "outputs": [],
   "source": [
    "df_transposed.to_csv(os.path.join(LOTTO_PATH, \"data_all.csv\"), index=False)"
   ]
  },
  {
   "cell_type": "code",
   "execution_count": 31,
   "metadata": {},
   "outputs": [
    {
     "data": {
      "text/plain": [
       "['4D.zip', 'models', 'data_all.csv', '.ipynb_checkpoints']"
      ]
     },
     "execution_count": 31,
     "metadata": {},
     "output_type": "execute_result"
    }
   ],
   "source": [
    "os.listdir(LOTTO_PATH)"
   ]
  },
  {
   "cell_type": "code",
   "execution_count": 32,
   "metadata": {},
   "outputs": [
    {
     "data": {
      "text/plain": [
       "\u001b[0;31mInit signature:\u001b[0m \u001b[0mitertools\u001b[0m\u001b[0;34m.\u001b[0m\u001b[0mcombinations\u001b[0m\u001b[0;34m(\u001b[0m\u001b[0mself\u001b[0m\u001b[0;34m,\u001b[0m \u001b[0;34m/\u001b[0m\u001b[0;34m,\u001b[0m \u001b[0;34m*\u001b[0m\u001b[0margs\u001b[0m\u001b[0;34m,\u001b[0m \u001b[0;34m**\u001b[0m\u001b[0mkwargs\u001b[0m\u001b[0;34m)\u001b[0m\u001b[0;34m\u001b[0m\u001b[0;34m\u001b[0m\u001b[0m\n",
       "\u001b[0;31mDocstring:\u001b[0m     \n",
       "combinations(iterable, r) --> combinations object\n",
       "\n",
       "Return successive r-length combinations of elements in the iterable.\n",
       "\n",
       "combinations(range(4), 3) --> (0,1,2), (0,1,3), (0,2,3), (1,2,3)\n",
       "\u001b[0;31mType:\u001b[0m           type\n",
       "\u001b[0;31mSubclasses:\u001b[0m     \n"
      ]
     },
     "metadata": {},
     "output_type": "display_data"
    }
   ],
   "source": [
    "import itertools\n",
    "\n",
    "itertools.combinations?"
   ]
  },
  {
   "cell_type": "code",
   "execution_count": 34,
   "metadata": {},
   "outputs": [
    {
     "name": "stdout",
     "output_type": "stream",
     "text": [
      "0\n",
      "1\n",
      "2\n",
      "3\n"
     ]
    }
   ],
   "source": [
    "for i in range(4):\n",
    "    print(i)"
   ]
  },
  {
   "cell_type": "code",
   "execution_count": null,
   "metadata": {},
   "outputs": [],
   "source": []
  }
 ],
 "metadata": {
  "kernelspec": {
   "display_name": "Python 3",
   "language": "python",
   "name": "python3"
  },
  "language_info": {
   "codemirror_mode": {
    "name": "ipython",
    "version": 3
   },
   "file_extension": ".py",
   "mimetype": "text/x-python",
   "name": "python",
   "nbconvert_exporter": "python",
   "pygments_lexer": "ipython3",
   "version": "3.7.2"
  }
 },
 "nbformat": 4,
 "nbformat_minor": 2
}

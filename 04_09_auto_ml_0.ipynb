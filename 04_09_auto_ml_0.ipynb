{
  "nbformat": 4,
  "nbformat_minor": 0,
  "metadata": {
    "accelerator": "GPU",
    "colab": {
      "name": "04_02_automated_machine_learning.ipynb",
      "provenance": [],
      "toc_visible": true,
      "include_colab_link": true
    },
    "kernelspec": {
      "display_name": "Python 3",
      "language": "python",
      "name": "python3"
    },
    "language_info": {
      "codemirror_mode": {
        "name": "ipython",
        "version": 3
      },
      "file_extension": ".py",
      "mimetype": "text/x-python",
      "name": "python",
      "nbconvert_exporter": "python",
      "pygments_lexer": "ipython3",
      "version": "3.7.2"
    }
  },
  "cells": [
    {
      "cell_type": "markdown",
      "metadata": {
        "id": "view-in-github",
        "colab_type": "text"
      },
      "source": [
        "<a href=\"https://colab.research.google.com/github/mengwangk/dl-projects/blob/master/04_09_auto_ml_0.ipynb\" target=\"_parent\"><img src=\"https://colab.research.google.com/assets/colab-badge.svg\" alt=\"Open In Colab\"/></a>"
      ]
    },
    {
      "cell_type": "markdown",
      "metadata": {
        "colab_type": "text",
        "id": "4hyoPGdjpqa_"
      },
      "source": [
        "# Automated ML - Generate Data"
      ]
    },
    {
      "cell_type": "code",
      "metadata": {
        "colab_type": "code",
        "id": "SLxr2k_ue8yq",
        "colab": {}
      },
      "source": [
        "COLAB = True\n",
        "\n",
        "DATASET_NAME = '4D.zip'\n",
        "\n",
        "FEATURE_DATASET_PREFIX = 'feature_matrix_snapshot'\n",
        "\n",
        "ORIG_FEATURE_DATASET_PREFIX = 'feature_matrix_d2_v3'\n"
      ],
      "execution_count": 0,
      "outputs": []
    },
    {
      "cell_type": "code",
      "metadata": {
        "colab_type": "code",
        "id": "uHQEWP-jXPzH",
        "outputId": "f7d9cc30-6f09-4df9-9960-3206c404a40f",
        "colab": {
          "base_uri": "https://localhost:8080/",
          "height": 1000
        }
      },
      "source": [
        "if COLAB:\n",
        "  !pip install -U featuretools\n",
        "  from google.colab import drive\n",
        "  drive.mount('/content/gdrive')\n",
        "  !rm -rf dl-projects\n",
        "  !git clone https://github.com/mengwangk/dl-projects\n",
        "  !cd dl-projects && ls\n",
        "else:\n",
        "  !pip install -U featuretools"
      ],
      "execution_count": 3,
      "outputs": [
        {
          "output_type": "stream",
          "text": [
            "Collecting featuretools\n",
            "\u001b[?25l  Downloading https://files.pythonhosted.org/packages/08/04/102e1f3ba55c265c2be462e7e978df67004ac6e7e35bb181d060bd2e2890/featuretools-0.13.2-py3-none-any.whl (236kB)\n",
            "\r\u001b[K     |█▍                              | 10kB 26.8MB/s eta 0:00:01\r\u001b[K     |██▊                             | 20kB 29.9MB/s eta 0:00:01\r\u001b[K     |████▏                           | 30kB 33.3MB/s eta 0:00:01\r\u001b[K     |█████▌                          | 40kB 36.0MB/s eta 0:00:01\r\u001b[K     |███████                         | 51kB 35.9MB/s eta 0:00:01\r\u001b[K     |████████▎                       | 61kB 37.7MB/s eta 0:00:01\r\u001b[K     |█████████▊                      | 71kB 38.4MB/s eta 0:00:01\r\u001b[K     |███████████                     | 81kB 39.5MB/s eta 0:00:01\r\u001b[K     |████████████▌                   | 92kB 40.9MB/s eta 0:00:01\r\u001b[K     |█████████████▉                  | 102kB 41.3MB/s eta 0:00:01\r\u001b[K     |███████████████▎                | 112kB 41.3MB/s eta 0:00:01\r\u001b[K     |████████████████▋               | 122kB 41.3MB/s eta 0:00:01\r\u001b[K     |██████████████████              | 133kB 41.3MB/s eta 0:00:01\r\u001b[K     |███████████████████▍            | 143kB 41.3MB/s eta 0:00:01\r\u001b[K     |████████████████████▉           | 153kB 41.3MB/s eta 0:00:01\r\u001b[K     |██████████████████████▏         | 163kB 41.3MB/s eta 0:00:01\r\u001b[K     |███████████████████████▋        | 174kB 41.3MB/s eta 0:00:01\r\u001b[K     |█████████████████████████       | 184kB 41.3MB/s eta 0:00:01\r\u001b[K     |██████████████████████████▍     | 194kB 41.3MB/s eta 0:00:01\r\u001b[K     |███████████████████████████▊    | 204kB 41.3MB/s eta 0:00:01\r\u001b[K     |█████████████████████████████▏  | 215kB 41.3MB/s eta 0:00:01\r\u001b[K     |██████████████████████████████▌ | 225kB 41.3MB/s eta 0:00:01\r\u001b[K     |████████████████████████████████| 235kB 41.3MB/s eta 0:00:01\r\u001b[K     |████████████████████████████████| 245kB 41.3MB/s \n",
            "\u001b[?25hRequirement already satisfied, skipping upgrade: distributed>=1.24.2 in /usr/local/lib/python3.6/dist-packages (from featuretools) (1.25.3)\n",
            "Requirement already satisfied, skipping upgrade: pyyaml>=3.12 in /usr/local/lib/python3.6/dist-packages (from featuretools) (3.13)\n",
            "Requirement already satisfied, skipping upgrade: click>=7.0.0 in /usr/local/lib/python3.6/dist-packages (from featuretools) (7.0)\n",
            "Requirement already satisfied, skipping upgrade: numpy>=1.13.3 in /usr/local/lib/python3.6/dist-packages (from featuretools) (1.17.5)\n",
            "Requirement already satisfied, skipping upgrade: dask[dataframe]>=1.1.0 in /usr/local/lib/python3.6/dist-packages (from featuretools) (2.9.2)\n",
            "Requirement already satisfied, skipping upgrade: pandas>=0.24.1 in /usr/local/lib/python3.6/dist-packages (from featuretools) (0.25.3)\n",
            "Collecting tqdm>=4.32.0\n",
            "\u001b[?25l  Downloading https://files.pythonhosted.org/packages/47/55/fd9170ba08a1a64a18a7f8a18f088037316f2a41be04d2fe6ece5a653e8f/tqdm-4.43.0-py2.py3-none-any.whl (59kB)\n",
            "\r\u001b[K     |█████▌                          | 10kB 27.3MB/s eta 0:00:01\r\u001b[K     |███████████                     | 20kB 35.7MB/s eta 0:00:01\r\u001b[K     |████████████████▋               | 30kB 42.8MB/s eta 0:00:01\r\u001b[K     |██████████████████████▏         | 40kB 45.1MB/s eta 0:00:01\r\u001b[K     |███████████████████████████▊    | 51kB 46.9MB/s eta 0:00:01\r\u001b[K     |████████████████████████████████| 61kB 10.2MB/s \n",
            "\u001b[?25hRequirement already satisfied, skipping upgrade: cloudpickle>=0.4.0 in /usr/local/lib/python3.6/dist-packages (from featuretools) (1.2.2)\n",
            "Requirement already satisfied, skipping upgrade: scipy>=0.13.3 in /usr/local/lib/python3.6/dist-packages (from featuretools) (1.4.1)\n",
            "Requirement already satisfied, skipping upgrade: psutil>=5.4.8 in /usr/local/lib/python3.6/dist-packages (from featuretools) (5.4.8)\n",
            "Requirement already satisfied, skipping upgrade: toolz>=0.7.4 in /usr/local/lib/python3.6/dist-packages (from distributed>=1.24.2->featuretools) (0.10.0)\n",
            "Requirement already satisfied, skipping upgrade: sortedcontainers!=2.0.0,!=2.0.1 in /usr/local/lib/python3.6/dist-packages (from distributed>=1.24.2->featuretools) (2.1.0)\n",
            "Requirement already satisfied, skipping upgrade: six in /usr/local/lib/python3.6/dist-packages (from distributed>=1.24.2->featuretools) (1.12.0)\n",
            "Requirement already satisfied, skipping upgrade: zict>=0.1.3 in /usr/local/lib/python3.6/dist-packages (from distributed>=1.24.2->featuretools) (1.0.0)\n",
            "Requirement already satisfied, skipping upgrade: msgpack in /usr/local/lib/python3.6/dist-packages (from distributed>=1.24.2->featuretools) (0.5.6)\n",
            "Requirement already satisfied, skipping upgrade: tornado>=4.5.1 in /usr/local/lib/python3.6/dist-packages (from distributed>=1.24.2->featuretools) (4.5.3)\n",
            "Requirement already satisfied, skipping upgrade: tblib in /usr/local/lib/python3.6/dist-packages (from distributed>=1.24.2->featuretools) (1.6.0)\n",
            "Requirement already satisfied, skipping upgrade: fsspec>=0.6.0; extra == \"dataframe\" in /usr/local/lib/python3.6/dist-packages (from dask[dataframe]>=1.1.0->featuretools) (0.6.2)\n",
            "Collecting partd>=0.3.10; extra == \"dataframe\"\n",
            "  Downloading https://files.pythonhosted.org/packages/44/e1/68dbe731c9c067655bff1eca5b7d40c20ca4b23fd5ec9f3d17e201a6f36b/partd-1.1.0-py3-none-any.whl\n",
            "Requirement already satisfied, skipping upgrade: pytz>=2017.2 in /usr/local/lib/python3.6/dist-packages (from pandas>=0.24.1->featuretools) (2018.9)\n",
            "Requirement already satisfied, skipping upgrade: python-dateutil>=2.6.1 in /usr/local/lib/python3.6/dist-packages (from pandas>=0.24.1->featuretools) (2.6.1)\n",
            "Requirement already satisfied, skipping upgrade: heapdict in /usr/local/lib/python3.6/dist-packages (from zict>=0.1.3->distributed>=1.24.2->featuretools) (1.0.1)\n",
            "Collecting locket\n",
            "  Downloading https://files.pythonhosted.org/packages/d0/22/3c0f97614e0be8386542facb3a7dcfc2584f7b83608c02333bced641281c/locket-0.2.0.tar.gz\n",
            "Building wheels for collected packages: locket\n",
            "  Building wheel for locket (setup.py) ... \u001b[?25l\u001b[?25hdone\n",
            "  Created wheel for locket: filename=locket-0.2.0-cp36-none-any.whl size=4040 sha256=7e54ecd45d6289106759eaf02fe751fb5de1b53d9740fac38ed8d9d898ca47e5\n",
            "  Stored in directory: /root/.cache/pip/wheels/26/1e/e8/4fa236ec931b1a0cdd61578e20d4934d7bf188858723b84698\n",
            "Successfully built locket\n",
            "Installing collected packages: tqdm, featuretools, locket, partd\n",
            "  Found existing installation: tqdm 4.28.1\n",
            "    Uninstalling tqdm-4.28.1:\n",
            "      Successfully uninstalled tqdm-4.28.1\n",
            "  Found existing installation: featuretools 0.4.1\n",
            "    Uninstalling featuretools-0.4.1:\n",
            "      Successfully uninstalled featuretools-0.4.1\n",
            "Successfully installed featuretools-0.13.2 locket-0.2.0 partd-1.1.0 tqdm-4.43.0\n"
          ],
          "name": "stdout"
        },
        {
          "output_type": "display_data",
          "data": {
            "application/vnd.colab-display-data+json": {
              "pip_warning": {
                "packages": [
                  "tqdm"
                ]
              }
            }
          },
          "metadata": {
            "tags": []
          }
        },
        {
          "output_type": "stream",
          "text": [
            "Go to this URL in a browser: https://accounts.google.com/o/oauth2/auth?client_id=947318989803-6bn6qk8qdgf4n4g3pfee6491hc0brc4i.apps.googleusercontent.com&redirect_uri=urn%3aietf%3awg%3aoauth%3a2.0%3aoob&response_type=code&scope=email%20https%3a%2f%2fwww.googleapis.com%2fauth%2fdocs.test%20https%3a%2f%2fwww.googleapis.com%2fauth%2fdrive%20https%3a%2f%2fwww.googleapis.com%2fauth%2fdrive.photos.readonly%20https%3a%2f%2fwww.googleapis.com%2fauth%2fpeopleapi.readonly\n",
            "\n",
            "Enter your authorization code:\n",
            "··········\n",
            "Mounted at /content/gdrive\n",
            "Cloning into 'dl-projects'...\n",
            "remote: Enumerating objects: 132, done.\u001b[K\n",
            "remote: Counting objects: 100% (132/132), done.\u001b[K\n",
            "remote: Compressing objects: 100% (119/119), done.\u001b[K\n",
            "remote: Total 1757 (delta 81), reused 33 (delta 13), pack-reused 1625\u001b[K\n",
            "Receiving objects: 100% (1757/1757), 76.66 MiB | 35.15 MiB/s, done.\n",
            "Resolving deltas: 100% (1076/1076), done.\n",
            "01_01_tensor.ipynb\t       04_04_auto_ml_2.ipynb  07_algebra.ipynb\n",
            "01_02_correlation.ipynb        04_04_auto_ml_3.ipynb  08_probability.ipynb\n",
            "01_03_preprocessing.ipynb      04_04_auto_ml_4.ipynb  09_evaluation.ipynb\n",
            "01_04_numpy.ipynb\t       04_05_auto_ml_0.ipynb  50_RL.ipynb\n",
            "01_05_parallelization.ipynb    04_05_auto_ml_1.ipynb  999_Links.ipynb\n",
            "01_06_pandas..ipynb\t       04_05_auto_ml_2.ipynb  archive\n",
            "01_07_python_0.ipynb\t       04_06_auto_ml_1.ipynb  d01_download.ipynb\n",
            "01_07_python_1.ipynb\t       04_06_auto_ml_2.ipynb  d02_0_features.ipynb\n",
            "01_07_python_2.ipynb\t       04_06_auto_ml_3.ipynb  d02_1_features.ipynb\n",
            "01_08_sklearn_1.ipynb\t       04_06_auto_ml_4.ipynb  d03_train_dl.ipynb\n",
            "01_09_matplotlib.ipynb\t       04_07_auto_ml_1.ipynb  d04_train_ml.ipynb\n",
            "01_10_seaborn.ipynb\t       04_07_auto_ml_2.ipynb  datasets\n",
            "01_11_plotly_cufflinks.ipynb   04_07_auto_ml_3.ipynb  exp\n",
            "02_1_feature_engineer.ipynb    04_07_auto_ml_4.ipynb  featurelib\n",
            "02_2_feature_generation.ipynb  04_07_auto_ml_5.ipynb  LICENSE\n",
            "02_3_feature_generation.ipynb  04_08_auto_ml_1.ipynb  lstm_s1.ipynb\n",
            "02_4_feature_generation.ipynb  04_08_auto_ml_2.ipynb  lstm_s2.ipynb\n",
            "03_1_feature_selection.ipynb   04_08_auto_ml_3.ipynb  lstm_s3.ipynb\n",
            "03_2_feature_selection.ipynb   04_08_auto_ml_4.ipynb  lstm_s4.ipynb\n",
            "04_01_machine_learning.ipynb   04_08_auto_ml_5.ipynb  lstm_s5.ipynb\n",
            "04_02_auto_ml_0.ipynb\t       04_08_auto_ml_6.ipynb  lstm_s6.ipynb\n",
            "04_02_auto_ml_1.ipynb\t       04_08_auto_ml_7.ipynb  notebook2script.py\n",
            "04_02_auto_ml_2.ipynb\t       04_09_auto_ml_0.ipynb  numbers.xlsx\n",
            "04_02_auto_ml_3.ipynb\t       04_09_auto_ml_1.ipynb  plot.py\n",
            "04_02_auto_ml_4.ipynb\t       04_10_basic_nn.ipynb   preprocess.py\n",
            "04_02_auto_ml_5.ipynb\t       04_11_cnn.ipynb\t      README.md\n",
            "04_03_auto_ml_1.ipynb\t       04_12_rnn.ipynb\t      run_notebook.py\n",
            "04_03_auto_ml_2.ipynb\t       04_13_embedding.ipynb  scraper\n",
            "04_03_auto_ml_3.ipynb\t       05_calculus.ipynb      stock.ipynb\n",
            "04_04_auto_ml_1.ipynb\t       06_stats.ipynb\t      utils.py\n"
          ],
          "name": "stdout"
        }
      ]
    },
    {
      "cell_type": "code",
      "metadata": {
        "colab_type": "code",
        "id": "G2xin10SfozR",
        "colab": {}
      },
      "source": [
        "if COLAB:\n",
        "  !cp dl-projects/utils* .\n",
        "  !cp dl-projects/preprocess* ."
      ],
      "execution_count": 0,
      "outputs": []
    },
    {
      "cell_type": "code",
      "metadata": {
        "colab_type": "code",
        "id": "fC2-l3JBpqbE",
        "colab": {}
      },
      "source": [
        "%reload_ext autoreload\n",
        "%autoreload 2\n",
        "\n",
        "%matplotlib inline"
      ],
      "execution_count": 0,
      "outputs": []
    },
    {
      "cell_type": "code",
      "metadata": {
        "colab_type": "code",
        "id": "TP7V_IzepqbK",
        "colab": {}
      },
      "source": [
        "import numpy as np\n",
        "import pandas as pd\n",
        "import seaborn as sns\n",
        "import matplotlib.pyplot as plt\n",
        "import scipy.stats as ss\n",
        "import math \n",
        "import matplotlib\n",
        "import re\n",
        "\n",
        "from scipy import stats\n",
        "from collections import Counter\n",
        "from pathlib import Path\n",
        "\n",
        "plt.style.use('fivethirtyeight')\n",
        "\n",
        "sns.set(style=\"ticks\")\n",
        "\n",
        "# Automated feature engineering\n",
        "import featuretools as ft\n",
        "\n",
        "# Machine learning\n",
        "from sklearn.pipeline import Pipeline\n",
        "from sklearn.preprocessing import MinMaxScaler, StandardScaler\n",
        "from sklearn.metrics import precision_score, recall_score, f1_score, roc_auc_score, precision_recall_curve, roc_curve\n",
        "from sklearn.model_selection import train_test_split, cross_val_score\n",
        "from sklearn.ensemble import RandomForestClassifier\n",
        "from dateutil.relativedelta import relativedelta\n",
        "\n",
        "from IPython.display import display\n",
        "\n",
        "from utils import *\n",
        "from preprocess import *\n",
        "\n",
        "# The Answer to the Ultimate Question of Life, the Universe, and Everything.\n",
        "np.random.seed(42)"
      ],
      "execution_count": 0,
      "outputs": []
    },
    {
      "cell_type": "code",
      "metadata": {
        "colab_type": "code",
        "id": "3bFT5CoxpqbP",
        "outputId": "6618acd4-9a87-4a6b-8dd1-aaeef8656a25",
        "colab": {
          "base_uri": "https://localhost:8080/",
          "height": 102
        }
      },
      "source": [
        "%aimport"
      ],
      "execution_count": 7,
      "outputs": [
        {
          "output_type": "stream",
          "text": [
            "Modules to reload:\n",
            "all-except-skipped\n",
            "\n",
            "Modules to skip:\n",
            "\n"
          ],
          "name": "stdout"
        }
      ]
    },
    {
      "cell_type": "markdown",
      "metadata": {
        "colab_type": "text",
        "id": "3E16jPVPpqbV"
      },
      "source": [
        "## Preparation"
      ]
    },
    {
      "cell_type": "code",
      "metadata": {
        "colab_type": "code",
        "id": "9IgnETKkpqbX",
        "colab": {}
      },
      "source": [
        "if COLAB:\n",
        "  DATASET_PATH = Path(\"dl-projects/datasets\")\n",
        "else:\n",
        "  DATASET_PATH = Path(\"datasets\")\n",
        "\n",
        "DATASET = DATASET_PATH/DATASET_NAME"
      ],
      "execution_count": 0,
      "outputs": []
    },
    {
      "cell_type": "code",
      "metadata": {
        "colab_type": "code",
        "id": "vD-iIrCipqbc",
        "colab": {}
      },
      "source": [
        "data = format_tabular(DATASET)"
      ],
      "execution_count": 0,
      "outputs": []
    },
    {
      "cell_type": "code",
      "metadata": {
        "colab_type": "code",
        "id": "BbDpkNHPpqbi",
        "outputId": "3a0ffe23-6dd4-4866-f4fb-96f032fed3bf",
        "colab": {
          "base_uri": "https://localhost:8080/",
          "height": 170
        }
      },
      "source": [
        "data.info()"
      ],
      "execution_count": 10,
      "outputs": [
        {
          "output_type": "stream",
          "text": [
            "<class 'pandas.core.frame.DataFrame'>\n",
            "RangeIndex: 106858 entries, 0 to 106857\n",
            "Data columns (total 4 columns):\n",
            "DrawNo       106858 non-null int64\n",
            "DrawDate     106858 non-null datetime64[ns]\n",
            "PrizeType    106858 non-null object\n",
            "LuckyNo      106858 non-null int64\n",
            "dtypes: datetime64[ns](1), int64(2), object(1)\n",
            "memory usage: 3.3+ MB\n"
          ],
          "name": "stdout"
        }
      ]
    },
    {
      "cell_type": "code",
      "metadata": {
        "colab_type": "code",
        "id": "WY4duu6Tpqbp",
        "outputId": "dbe157c5-28a7-40d7-e301-6bdea036da07",
        "colab": {
          "base_uri": "https://localhost:8080/",
          "height": 793
        }
      },
      "source": [
        "data.tail(24)"
      ],
      "execution_count": 11,
      "outputs": [
        {
          "output_type": "execute_result",
          "data": {
            "text/html": [
              "<div>\n",
              "<style scoped>\n",
              "    .dataframe tbody tr th:only-of-type {\n",
              "        vertical-align: middle;\n",
              "    }\n",
              "\n",
              "    .dataframe tbody tr th {\n",
              "        vertical-align: top;\n",
              "    }\n",
              "\n",
              "    .dataframe thead th {\n",
              "        text-align: right;\n",
              "    }\n",
              "</style>\n",
              "<table border=\"1\" class=\"dataframe\">\n",
              "  <thead>\n",
              "    <tr style=\"text-align: right;\">\n",
              "      <th></th>\n",
              "      <th>DrawNo</th>\n",
              "      <th>DrawDate</th>\n",
              "      <th>PrizeType</th>\n",
              "      <th>LuckyNo</th>\n",
              "    </tr>\n",
              "  </thead>\n",
              "  <tbody>\n",
              "    <tr>\n",
              "      <th>106834</th>\n",
              "      <td>505219</td>\n",
              "      <td>2019-12-29</td>\n",
              "      <td>SpecialNo9</td>\n",
              "      <td>2528</td>\n",
              "    </tr>\n",
              "    <tr>\n",
              "      <th>106835</th>\n",
              "      <td>505320</td>\n",
              "      <td>2020-01-01</td>\n",
              "      <td>1stPrizeNo</td>\n",
              "      <td>875</td>\n",
              "    </tr>\n",
              "    <tr>\n",
              "      <th>106836</th>\n",
              "      <td>505320</td>\n",
              "      <td>2020-01-01</td>\n",
              "      <td>2ndPrizeNo</td>\n",
              "      <td>6307</td>\n",
              "    </tr>\n",
              "    <tr>\n",
              "      <th>106837</th>\n",
              "      <td>505320</td>\n",
              "      <td>2020-01-01</td>\n",
              "      <td>3rdPrizeNo</td>\n",
              "      <td>8552</td>\n",
              "    </tr>\n",
              "    <tr>\n",
              "      <th>106838</th>\n",
              "      <td>505320</td>\n",
              "      <td>2020-01-01</td>\n",
              "      <td>ConsolationNo1</td>\n",
              "      <td>2114</td>\n",
              "    </tr>\n",
              "    <tr>\n",
              "      <th>106839</th>\n",
              "      <td>505320</td>\n",
              "      <td>2020-01-01</td>\n",
              "      <td>ConsolationNo10</td>\n",
              "      <td>4861</td>\n",
              "    </tr>\n",
              "    <tr>\n",
              "      <th>106840</th>\n",
              "      <td>505320</td>\n",
              "      <td>2020-01-01</td>\n",
              "      <td>ConsolationNo2</td>\n",
              "      <td>508</td>\n",
              "    </tr>\n",
              "    <tr>\n",
              "      <th>106841</th>\n",
              "      <td>505320</td>\n",
              "      <td>2020-01-01</td>\n",
              "      <td>ConsolationNo3</td>\n",
              "      <td>2086</td>\n",
              "    </tr>\n",
              "    <tr>\n",
              "      <th>106842</th>\n",
              "      <td>505320</td>\n",
              "      <td>2020-01-01</td>\n",
              "      <td>ConsolationNo4</td>\n",
              "      <td>3296</td>\n",
              "    </tr>\n",
              "    <tr>\n",
              "      <th>106843</th>\n",
              "      <td>505320</td>\n",
              "      <td>2020-01-01</td>\n",
              "      <td>ConsolationNo5</td>\n",
              "      <td>413</td>\n",
              "    </tr>\n",
              "    <tr>\n",
              "      <th>106844</th>\n",
              "      <td>505320</td>\n",
              "      <td>2020-01-01</td>\n",
              "      <td>ConsolationNo6</td>\n",
              "      <td>4781</td>\n",
              "    </tr>\n",
              "    <tr>\n",
              "      <th>106845</th>\n",
              "      <td>505320</td>\n",
              "      <td>2020-01-01</td>\n",
              "      <td>ConsolationNo7</td>\n",
              "      <td>1459</td>\n",
              "    </tr>\n",
              "    <tr>\n",
              "      <th>106846</th>\n",
              "      <td>505320</td>\n",
              "      <td>2020-01-01</td>\n",
              "      <td>ConsolationNo8</td>\n",
              "      <td>7685</td>\n",
              "    </tr>\n",
              "    <tr>\n",
              "      <th>106847</th>\n",
              "      <td>505320</td>\n",
              "      <td>2020-01-01</td>\n",
              "      <td>ConsolationNo9</td>\n",
              "      <td>6087</td>\n",
              "    </tr>\n",
              "    <tr>\n",
              "      <th>106848</th>\n",
              "      <td>505320</td>\n",
              "      <td>2020-01-01</td>\n",
              "      <td>SpecialNo1</td>\n",
              "      <td>2404</td>\n",
              "    </tr>\n",
              "    <tr>\n",
              "      <th>106849</th>\n",
              "      <td>505320</td>\n",
              "      <td>2020-01-01</td>\n",
              "      <td>SpecialNo10</td>\n",
              "      <td>7382</td>\n",
              "    </tr>\n",
              "    <tr>\n",
              "      <th>106850</th>\n",
              "      <td>505320</td>\n",
              "      <td>2020-01-01</td>\n",
              "      <td>SpecialNo2</td>\n",
              "      <td>2220</td>\n",
              "    </tr>\n",
              "    <tr>\n",
              "      <th>106851</th>\n",
              "      <td>505320</td>\n",
              "      <td>2020-01-01</td>\n",
              "      <td>SpecialNo3</td>\n",
              "      <td>3573</td>\n",
              "    </tr>\n",
              "    <tr>\n",
              "      <th>106852</th>\n",
              "      <td>505320</td>\n",
              "      <td>2020-01-01</td>\n",
              "      <td>SpecialNo4</td>\n",
              "      <td>4524</td>\n",
              "    </tr>\n",
              "    <tr>\n",
              "      <th>106853</th>\n",
              "      <td>505320</td>\n",
              "      <td>2020-01-01</td>\n",
              "      <td>SpecialNo5</td>\n",
              "      <td>6856</td>\n",
              "    </tr>\n",
              "    <tr>\n",
              "      <th>106854</th>\n",
              "      <td>505320</td>\n",
              "      <td>2020-01-01</td>\n",
              "      <td>SpecialNo6</td>\n",
              "      <td>8107</td>\n",
              "    </tr>\n",
              "    <tr>\n",
              "      <th>106855</th>\n",
              "      <td>505320</td>\n",
              "      <td>2020-01-01</td>\n",
              "      <td>SpecialNo7</td>\n",
              "      <td>1026</td>\n",
              "    </tr>\n",
              "    <tr>\n",
              "      <th>106856</th>\n",
              "      <td>505320</td>\n",
              "      <td>2020-01-01</td>\n",
              "      <td>SpecialNo8</td>\n",
              "      <td>3960</td>\n",
              "    </tr>\n",
              "    <tr>\n",
              "      <th>106857</th>\n",
              "      <td>505320</td>\n",
              "      <td>2020-01-01</td>\n",
              "      <td>SpecialNo9</td>\n",
              "      <td>5472</td>\n",
              "    </tr>\n",
              "  </tbody>\n",
              "</table>\n",
              "</div>"
            ],
            "text/plain": [
              "        DrawNo   DrawDate        PrizeType  LuckyNo\n",
              "106834  505219 2019-12-29       SpecialNo9     2528\n",
              "106835  505320 2020-01-01       1stPrizeNo      875\n",
              "106836  505320 2020-01-01       2ndPrizeNo     6307\n",
              "106837  505320 2020-01-01       3rdPrizeNo     8552\n",
              "106838  505320 2020-01-01   ConsolationNo1     2114\n",
              "106839  505320 2020-01-01  ConsolationNo10     4861\n",
              "106840  505320 2020-01-01   ConsolationNo2      508\n",
              "106841  505320 2020-01-01   ConsolationNo3     2086\n",
              "106842  505320 2020-01-01   ConsolationNo4     3296\n",
              "106843  505320 2020-01-01   ConsolationNo5      413\n",
              "106844  505320 2020-01-01   ConsolationNo6     4781\n",
              "106845  505320 2020-01-01   ConsolationNo7     1459\n",
              "106846  505320 2020-01-01   ConsolationNo8     7685\n",
              "106847  505320 2020-01-01   ConsolationNo9     6087\n",
              "106848  505320 2020-01-01       SpecialNo1     2404\n",
              "106849  505320 2020-01-01      SpecialNo10     7382\n",
              "106850  505320 2020-01-01       SpecialNo2     2220\n",
              "106851  505320 2020-01-01       SpecialNo3     3573\n",
              "106852  505320 2020-01-01       SpecialNo4     4524\n",
              "106853  505320 2020-01-01       SpecialNo5     6856\n",
              "106854  505320 2020-01-01       SpecialNo6     8107\n",
              "106855  505320 2020-01-01       SpecialNo7     1026\n",
              "106856  505320 2020-01-01       SpecialNo8     3960\n",
              "106857  505320 2020-01-01       SpecialNo9     5472"
            ]
          },
          "metadata": {
            "tags": []
          },
          "execution_count": 11
        }
      ]
    },
    {
      "cell_type": "code",
      "metadata": {
        "colab_type": "code",
        "id": "8qEDuHP2euiI",
        "colab": {}
      },
      "source": [
        "data['NumberId'] = data['LuckyNo']"
      ],
      "execution_count": 0,
      "outputs": []
    },
    {
      "cell_type": "code",
      "metadata": {
        "colab_type": "code",
        "id": "PEXwBE9HeuiK",
        "outputId": "386dcf30-969f-4c6f-bf79-665c8390ee22",
        "colab": {
          "base_uri": "https://localhost:8080/",
          "height": 359
        }
      },
      "source": [
        "data.tail(10)"
      ],
      "execution_count": 13,
      "outputs": [
        {
          "output_type": "execute_result",
          "data": {
            "text/html": [
              "<div>\n",
              "<style scoped>\n",
              "    .dataframe tbody tr th:only-of-type {\n",
              "        vertical-align: middle;\n",
              "    }\n",
              "\n",
              "    .dataframe tbody tr th {\n",
              "        vertical-align: top;\n",
              "    }\n",
              "\n",
              "    .dataframe thead th {\n",
              "        text-align: right;\n",
              "    }\n",
              "</style>\n",
              "<table border=\"1\" class=\"dataframe\">\n",
              "  <thead>\n",
              "    <tr style=\"text-align: right;\">\n",
              "      <th></th>\n",
              "      <th>DrawNo</th>\n",
              "      <th>DrawDate</th>\n",
              "      <th>PrizeType</th>\n",
              "      <th>LuckyNo</th>\n",
              "      <th>NumberId</th>\n",
              "    </tr>\n",
              "  </thead>\n",
              "  <tbody>\n",
              "    <tr>\n",
              "      <th>106848</th>\n",
              "      <td>505320</td>\n",
              "      <td>2020-01-01</td>\n",
              "      <td>SpecialNo1</td>\n",
              "      <td>2404</td>\n",
              "      <td>2404</td>\n",
              "    </tr>\n",
              "    <tr>\n",
              "      <th>106849</th>\n",
              "      <td>505320</td>\n",
              "      <td>2020-01-01</td>\n",
              "      <td>SpecialNo10</td>\n",
              "      <td>7382</td>\n",
              "      <td>7382</td>\n",
              "    </tr>\n",
              "    <tr>\n",
              "      <th>106850</th>\n",
              "      <td>505320</td>\n",
              "      <td>2020-01-01</td>\n",
              "      <td>SpecialNo2</td>\n",
              "      <td>2220</td>\n",
              "      <td>2220</td>\n",
              "    </tr>\n",
              "    <tr>\n",
              "      <th>106851</th>\n",
              "      <td>505320</td>\n",
              "      <td>2020-01-01</td>\n",
              "      <td>SpecialNo3</td>\n",
              "      <td>3573</td>\n",
              "      <td>3573</td>\n",
              "    </tr>\n",
              "    <tr>\n",
              "      <th>106852</th>\n",
              "      <td>505320</td>\n",
              "      <td>2020-01-01</td>\n",
              "      <td>SpecialNo4</td>\n",
              "      <td>4524</td>\n",
              "      <td>4524</td>\n",
              "    </tr>\n",
              "    <tr>\n",
              "      <th>106853</th>\n",
              "      <td>505320</td>\n",
              "      <td>2020-01-01</td>\n",
              "      <td>SpecialNo5</td>\n",
              "      <td>6856</td>\n",
              "      <td>6856</td>\n",
              "    </tr>\n",
              "    <tr>\n",
              "      <th>106854</th>\n",
              "      <td>505320</td>\n",
              "      <td>2020-01-01</td>\n",
              "      <td>SpecialNo6</td>\n",
              "      <td>8107</td>\n",
              "      <td>8107</td>\n",
              "    </tr>\n",
              "    <tr>\n",
              "      <th>106855</th>\n",
              "      <td>505320</td>\n",
              "      <td>2020-01-01</td>\n",
              "      <td>SpecialNo7</td>\n",
              "      <td>1026</td>\n",
              "      <td>1026</td>\n",
              "    </tr>\n",
              "    <tr>\n",
              "      <th>106856</th>\n",
              "      <td>505320</td>\n",
              "      <td>2020-01-01</td>\n",
              "      <td>SpecialNo8</td>\n",
              "      <td>3960</td>\n",
              "      <td>3960</td>\n",
              "    </tr>\n",
              "    <tr>\n",
              "      <th>106857</th>\n",
              "      <td>505320</td>\n",
              "      <td>2020-01-01</td>\n",
              "      <td>SpecialNo9</td>\n",
              "      <td>5472</td>\n",
              "      <td>5472</td>\n",
              "    </tr>\n",
              "  </tbody>\n",
              "</table>\n",
              "</div>"
            ],
            "text/plain": [
              "        DrawNo   DrawDate    PrizeType  LuckyNo  NumberId\n",
              "106848  505320 2020-01-01   SpecialNo1     2404      2404\n",
              "106849  505320 2020-01-01  SpecialNo10     7382      7382\n",
              "106850  505320 2020-01-01   SpecialNo2     2220      2220\n",
              "106851  505320 2020-01-01   SpecialNo3     3573      3573\n",
              "106852  505320 2020-01-01   SpecialNo4     4524      4524\n",
              "106853  505320 2020-01-01   SpecialNo5     6856      6856\n",
              "106854  505320 2020-01-01   SpecialNo6     8107      8107\n",
              "106855  505320 2020-01-01   SpecialNo7     1026      1026\n",
              "106856  505320 2020-01-01   SpecialNo8     3960      3960\n",
              "106857  505320 2020-01-01   SpecialNo9     5472      5472"
            ]
          },
          "metadata": {
            "tags": []
          },
          "execution_count": 13
        }
      ]
    },
    {
      "cell_type": "markdown",
      "metadata": {
        "colab_type": "text",
        "id": "8cSUZyfY8oyB"
      },
      "source": [
        "## Data Cleansing"
      ]
    },
    {
      "cell_type": "code",
      "metadata": {
        "colab_type": "code",
        "id": "F08WbAAF8o_o",
        "colab": {}
      },
      "source": [
        "def change_prize_type(x):\n",
        "  return \"Prize\"\n",
        "  # if \"Special\" in x:\n",
        "  #   return 'Prize'\n",
        "  # elif \"Consolation\" in x:\n",
        "  #   return 'Prize'\n",
        "  # else:\n",
        "  #   return x\n",
        "\n",
        "def increment_draw_date(x):\n",
        "  x = x + relativedelta(minutes=1)\n",
        "  return x\n",
        "\n",
        "data['PrizeType'] = data['PrizeType'].apply(change_prize_type)\n",
        "\n",
        "# Add 1 minutes to draw date to avoid overlapping with the cut off date\n",
        "data['DrawDate'] = data['DrawDate'].apply(increment_draw_date)"
      ],
      "execution_count": 0,
      "outputs": []
    },
    {
      "cell_type": "code",
      "metadata": {
        "colab_type": "code",
        "id": "Fsoy-LoU8pL4",
        "outputId": "d315864d-365e-46ca-b885-ff3269cea175",
        "colab": {
          "base_uri": "https://localhost:8080/",
          "height": 762
        }
      },
      "source": [
        "data.tail(23)"
      ],
      "execution_count": 15,
      "outputs": [
        {
          "output_type": "execute_result",
          "data": {
            "text/html": [
              "<div>\n",
              "<style scoped>\n",
              "    .dataframe tbody tr th:only-of-type {\n",
              "        vertical-align: middle;\n",
              "    }\n",
              "\n",
              "    .dataframe tbody tr th {\n",
              "        vertical-align: top;\n",
              "    }\n",
              "\n",
              "    .dataframe thead th {\n",
              "        text-align: right;\n",
              "    }\n",
              "</style>\n",
              "<table border=\"1\" class=\"dataframe\">\n",
              "  <thead>\n",
              "    <tr style=\"text-align: right;\">\n",
              "      <th></th>\n",
              "      <th>DrawNo</th>\n",
              "      <th>DrawDate</th>\n",
              "      <th>PrizeType</th>\n",
              "      <th>LuckyNo</th>\n",
              "      <th>NumberId</th>\n",
              "    </tr>\n",
              "  </thead>\n",
              "  <tbody>\n",
              "    <tr>\n",
              "      <th>106835</th>\n",
              "      <td>505320</td>\n",
              "      <td>2020-01-01 00:01:00</td>\n",
              "      <td>Prize</td>\n",
              "      <td>875</td>\n",
              "      <td>875</td>\n",
              "    </tr>\n",
              "    <tr>\n",
              "      <th>106836</th>\n",
              "      <td>505320</td>\n",
              "      <td>2020-01-01 00:01:00</td>\n",
              "      <td>Prize</td>\n",
              "      <td>6307</td>\n",
              "      <td>6307</td>\n",
              "    </tr>\n",
              "    <tr>\n",
              "      <th>106837</th>\n",
              "      <td>505320</td>\n",
              "      <td>2020-01-01 00:01:00</td>\n",
              "      <td>Prize</td>\n",
              "      <td>8552</td>\n",
              "      <td>8552</td>\n",
              "    </tr>\n",
              "    <tr>\n",
              "      <th>106838</th>\n",
              "      <td>505320</td>\n",
              "      <td>2020-01-01 00:01:00</td>\n",
              "      <td>Prize</td>\n",
              "      <td>2114</td>\n",
              "      <td>2114</td>\n",
              "    </tr>\n",
              "    <tr>\n",
              "      <th>106839</th>\n",
              "      <td>505320</td>\n",
              "      <td>2020-01-01 00:01:00</td>\n",
              "      <td>Prize</td>\n",
              "      <td>4861</td>\n",
              "      <td>4861</td>\n",
              "    </tr>\n",
              "    <tr>\n",
              "      <th>106840</th>\n",
              "      <td>505320</td>\n",
              "      <td>2020-01-01 00:01:00</td>\n",
              "      <td>Prize</td>\n",
              "      <td>508</td>\n",
              "      <td>508</td>\n",
              "    </tr>\n",
              "    <tr>\n",
              "      <th>106841</th>\n",
              "      <td>505320</td>\n",
              "      <td>2020-01-01 00:01:00</td>\n",
              "      <td>Prize</td>\n",
              "      <td>2086</td>\n",
              "      <td>2086</td>\n",
              "    </tr>\n",
              "    <tr>\n",
              "      <th>106842</th>\n",
              "      <td>505320</td>\n",
              "      <td>2020-01-01 00:01:00</td>\n",
              "      <td>Prize</td>\n",
              "      <td>3296</td>\n",
              "      <td>3296</td>\n",
              "    </tr>\n",
              "    <tr>\n",
              "      <th>106843</th>\n",
              "      <td>505320</td>\n",
              "      <td>2020-01-01 00:01:00</td>\n",
              "      <td>Prize</td>\n",
              "      <td>413</td>\n",
              "      <td>413</td>\n",
              "    </tr>\n",
              "    <tr>\n",
              "      <th>106844</th>\n",
              "      <td>505320</td>\n",
              "      <td>2020-01-01 00:01:00</td>\n",
              "      <td>Prize</td>\n",
              "      <td>4781</td>\n",
              "      <td>4781</td>\n",
              "    </tr>\n",
              "    <tr>\n",
              "      <th>106845</th>\n",
              "      <td>505320</td>\n",
              "      <td>2020-01-01 00:01:00</td>\n",
              "      <td>Prize</td>\n",
              "      <td>1459</td>\n",
              "      <td>1459</td>\n",
              "    </tr>\n",
              "    <tr>\n",
              "      <th>106846</th>\n",
              "      <td>505320</td>\n",
              "      <td>2020-01-01 00:01:00</td>\n",
              "      <td>Prize</td>\n",
              "      <td>7685</td>\n",
              "      <td>7685</td>\n",
              "    </tr>\n",
              "    <tr>\n",
              "      <th>106847</th>\n",
              "      <td>505320</td>\n",
              "      <td>2020-01-01 00:01:00</td>\n",
              "      <td>Prize</td>\n",
              "      <td>6087</td>\n",
              "      <td>6087</td>\n",
              "    </tr>\n",
              "    <tr>\n",
              "      <th>106848</th>\n",
              "      <td>505320</td>\n",
              "      <td>2020-01-01 00:01:00</td>\n",
              "      <td>Prize</td>\n",
              "      <td>2404</td>\n",
              "      <td>2404</td>\n",
              "    </tr>\n",
              "    <tr>\n",
              "      <th>106849</th>\n",
              "      <td>505320</td>\n",
              "      <td>2020-01-01 00:01:00</td>\n",
              "      <td>Prize</td>\n",
              "      <td>7382</td>\n",
              "      <td>7382</td>\n",
              "    </tr>\n",
              "    <tr>\n",
              "      <th>106850</th>\n",
              "      <td>505320</td>\n",
              "      <td>2020-01-01 00:01:00</td>\n",
              "      <td>Prize</td>\n",
              "      <td>2220</td>\n",
              "      <td>2220</td>\n",
              "    </tr>\n",
              "    <tr>\n",
              "      <th>106851</th>\n",
              "      <td>505320</td>\n",
              "      <td>2020-01-01 00:01:00</td>\n",
              "      <td>Prize</td>\n",
              "      <td>3573</td>\n",
              "      <td>3573</td>\n",
              "    </tr>\n",
              "    <tr>\n",
              "      <th>106852</th>\n",
              "      <td>505320</td>\n",
              "      <td>2020-01-01 00:01:00</td>\n",
              "      <td>Prize</td>\n",
              "      <td>4524</td>\n",
              "      <td>4524</td>\n",
              "    </tr>\n",
              "    <tr>\n",
              "      <th>106853</th>\n",
              "      <td>505320</td>\n",
              "      <td>2020-01-01 00:01:00</td>\n",
              "      <td>Prize</td>\n",
              "      <td>6856</td>\n",
              "      <td>6856</td>\n",
              "    </tr>\n",
              "    <tr>\n",
              "      <th>106854</th>\n",
              "      <td>505320</td>\n",
              "      <td>2020-01-01 00:01:00</td>\n",
              "      <td>Prize</td>\n",
              "      <td>8107</td>\n",
              "      <td>8107</td>\n",
              "    </tr>\n",
              "    <tr>\n",
              "      <th>106855</th>\n",
              "      <td>505320</td>\n",
              "      <td>2020-01-01 00:01:00</td>\n",
              "      <td>Prize</td>\n",
              "      <td>1026</td>\n",
              "      <td>1026</td>\n",
              "    </tr>\n",
              "    <tr>\n",
              "      <th>106856</th>\n",
              "      <td>505320</td>\n",
              "      <td>2020-01-01 00:01:00</td>\n",
              "      <td>Prize</td>\n",
              "      <td>3960</td>\n",
              "      <td>3960</td>\n",
              "    </tr>\n",
              "    <tr>\n",
              "      <th>106857</th>\n",
              "      <td>505320</td>\n",
              "      <td>2020-01-01 00:01:00</td>\n",
              "      <td>Prize</td>\n",
              "      <td>5472</td>\n",
              "      <td>5472</td>\n",
              "    </tr>\n",
              "  </tbody>\n",
              "</table>\n",
              "</div>"
            ],
            "text/plain": [
              "        DrawNo            DrawDate PrizeType  LuckyNo  NumberId\n",
              "106835  505320 2020-01-01 00:01:00     Prize      875       875\n",
              "106836  505320 2020-01-01 00:01:00     Prize     6307      6307\n",
              "106837  505320 2020-01-01 00:01:00     Prize     8552      8552\n",
              "106838  505320 2020-01-01 00:01:00     Prize     2114      2114\n",
              "106839  505320 2020-01-01 00:01:00     Prize     4861      4861\n",
              "106840  505320 2020-01-01 00:01:00     Prize      508       508\n",
              "106841  505320 2020-01-01 00:01:00     Prize     2086      2086\n",
              "106842  505320 2020-01-01 00:01:00     Prize     3296      3296\n",
              "106843  505320 2020-01-01 00:01:00     Prize      413       413\n",
              "106844  505320 2020-01-01 00:01:00     Prize     4781      4781\n",
              "106845  505320 2020-01-01 00:01:00     Prize     1459      1459\n",
              "106846  505320 2020-01-01 00:01:00     Prize     7685      7685\n",
              "106847  505320 2020-01-01 00:01:00     Prize     6087      6087\n",
              "106848  505320 2020-01-01 00:01:00     Prize     2404      2404\n",
              "106849  505320 2020-01-01 00:01:00     Prize     7382      7382\n",
              "106850  505320 2020-01-01 00:01:00     Prize     2220      2220\n",
              "106851  505320 2020-01-01 00:01:00     Prize     3573      3573\n",
              "106852  505320 2020-01-01 00:01:00     Prize     4524      4524\n",
              "106853  505320 2020-01-01 00:01:00     Prize     6856      6856\n",
              "106854  505320 2020-01-01 00:01:00     Prize     8107      8107\n",
              "106855  505320 2020-01-01 00:01:00     Prize     1026      1026\n",
              "106856  505320 2020-01-01 00:01:00     Prize     3960      3960\n",
              "106857  505320 2020-01-01 00:01:00     Prize     5472      5472"
            ]
          },
          "metadata": {
            "tags": []
          },
          "execution_count": 15
        }
      ]
    },
    {
      "cell_type": "code",
      "metadata": {
        "colab_type": "code",
        "id": "I7ZFGEhieuiN",
        "outputId": "023ee740-2e07-4730-b54b-f247300ee4cb",
        "colab": {
          "base_uri": "https://localhost:8080/",
          "height": 297
        }
      },
      "source": [
        "data.describe().round(2)"
      ],
      "execution_count": 16,
      "outputs": [
        {
          "output_type": "execute_result",
          "data": {
            "text/html": [
              "<div>\n",
              "<style scoped>\n",
              "    .dataframe tbody tr th:only-of-type {\n",
              "        vertical-align: middle;\n",
              "    }\n",
              "\n",
              "    .dataframe tbody tr th {\n",
              "        vertical-align: top;\n",
              "    }\n",
              "\n",
              "    .dataframe thead th {\n",
              "        text-align: right;\n",
              "    }\n",
              "</style>\n",
              "<table border=\"1\" class=\"dataframe\">\n",
              "  <thead>\n",
              "    <tr style=\"text-align: right;\">\n",
              "      <th></th>\n",
              "      <th>DrawNo</th>\n",
              "      <th>LuckyNo</th>\n",
              "      <th>NumberId</th>\n",
              "    </tr>\n",
              "  </thead>\n",
              "  <tbody>\n",
              "    <tr>\n",
              "      <th>count</th>\n",
              "      <td>106858.00</td>\n",
              "      <td>106858.00</td>\n",
              "      <td>106858.00</td>\n",
              "    </tr>\n",
              "    <tr>\n",
              "      <th>mean</th>\n",
              "      <td>273049.89</td>\n",
              "      <td>4973.57</td>\n",
              "      <td>4973.57</td>\n",
              "    </tr>\n",
              "    <tr>\n",
              "      <th>std</th>\n",
              "      <td>134131.48</td>\n",
              "      <td>2885.58</td>\n",
              "      <td>2885.58</td>\n",
              "    </tr>\n",
              "    <tr>\n",
              "      <th>min</th>\n",
              "      <td>40792.00</td>\n",
              "      <td>0.00</td>\n",
              "      <td>0.00</td>\n",
              "    </tr>\n",
              "    <tr>\n",
              "      <th>25%</th>\n",
              "      <td>156899.00</td>\n",
              "      <td>2462.00</td>\n",
              "      <td>2462.00</td>\n",
              "    </tr>\n",
              "    <tr>\n",
              "      <th>50%</th>\n",
              "      <td>273056.00</td>\n",
              "      <td>4951.00</td>\n",
              "      <td>4951.00</td>\n",
              "    </tr>\n",
              "    <tr>\n",
              "      <th>75%</th>\n",
              "      <td>389213.00</td>\n",
              "      <td>7463.00</td>\n",
              "      <td>7463.00</td>\n",
              "    </tr>\n",
              "    <tr>\n",
              "      <th>max</th>\n",
              "      <td>505320.00</td>\n",
              "      <td>9999.00</td>\n",
              "      <td>9999.00</td>\n",
              "    </tr>\n",
              "  </tbody>\n",
              "</table>\n",
              "</div>"
            ],
            "text/plain": [
              "          DrawNo    LuckyNo   NumberId\n",
              "count  106858.00  106858.00  106858.00\n",
              "mean   273049.89    4973.57    4973.57\n",
              "std    134131.48    2885.58    2885.58\n",
              "min     40792.00       0.00       0.00\n",
              "25%    156899.00    2462.00    2462.00\n",
              "50%    273056.00    4951.00    4951.00\n",
              "75%    389213.00    7463.00    7463.00\n",
              "max    505320.00    9999.00    9999.00"
            ]
          },
          "metadata": {
            "tags": []
          },
          "execution_count": 16
        }
      ]
    },
    {
      "cell_type": "code",
      "metadata": {
        "colab_type": "code",
        "id": "61I6vIJjeuiP",
        "outputId": "86b00ead-f44d-4f8b-f430-03275b0aaeac",
        "colab": {
          "base_uri": "https://localhost:8080/",
          "height": 475
        }
      },
      "source": [
        "plt.figure(figsize=(20,6))\n",
        "sns.boxplot(x='NumberId', y='PrizeType',data=data)\n",
        "plt.xticks(rotation=90)\n",
        "plt.title('Draw')\n",
        "\n",
        "# print(data[data['NumberId']==1760])"
      ],
      "execution_count": 17,
      "outputs": [
        {
          "output_type": "execute_result",
          "data": {
            "text/plain": [
              "Text(0.5, 1.0, 'Draw')"
            ]
          },
          "metadata": {
            "tags": []
          },
          "execution_count": 17
        },
        {
          "output_type": "display_data",
          "data": {
            "image/png": "[encoded data removed]",
            "text/plain": [
              "<Figure size 1440x432 with 1 Axes>"
            ]
          },
          "metadata": {
            "tags": []
          }
        }
      ]
    },
    {
      "cell_type": "markdown",
      "metadata": {
        "colab_type": "text",
        "id": "qBJcDOgAeuiX"
      },
      "source": [
        "## Making Labels"
      ]
    },
    {
      "cell_type": "code",
      "metadata": {
        "colab_type": "code",
        "id": "tsYlAKtpeuiY",
        "outputId": "bc4d0532-eb84-47fe-8a79-578528d9835f",
        "colab": {
          "base_uri": "https://localhost:8080/",
          "height": 359
        }
      },
      "source": [
        "data['TotalStrike'] = 1\n",
        "data.head(10)"
      ],
      "execution_count": 18,
      "outputs": [
        {
          "output_type": "execute_result",
          "data": {
            "text/html": [
              "<div>\n",
              "<style scoped>\n",
              "    .dataframe tbody tr th:only-of-type {\n",
              "        vertical-align: middle;\n",
              "    }\n",
              "\n",
              "    .dataframe tbody tr th {\n",
              "        vertical-align: top;\n",
              "    }\n",
              "\n",
              "    .dataframe thead th {\n",
              "        text-align: right;\n",
              "    }\n",
              "</style>\n",
              "<table border=\"1\" class=\"dataframe\">\n",
              "  <thead>\n",
              "    <tr style=\"text-align: right;\">\n",
              "      <th></th>\n",
              "      <th>DrawNo</th>\n",
              "      <th>DrawDate</th>\n",
              "      <th>PrizeType</th>\n",
              "      <th>LuckyNo</th>\n",
              "      <th>NumberId</th>\n",
              "      <th>TotalStrike</th>\n",
              "    </tr>\n",
              "  </thead>\n",
              "  <tbody>\n",
              "    <tr>\n",
              "      <th>0</th>\n",
              "      <td>40792</td>\n",
              "      <td>1992-05-06 00:01:00</td>\n",
              "      <td>Prize</td>\n",
              "      <td>19</td>\n",
              "      <td>19</td>\n",
              "      <td>1</td>\n",
              "    </tr>\n",
              "    <tr>\n",
              "      <th>1</th>\n",
              "      <td>40792</td>\n",
              "      <td>1992-05-06 00:01:00</td>\n",
              "      <td>Prize</td>\n",
              "      <td>1124</td>\n",
              "      <td>1124</td>\n",
              "      <td>1</td>\n",
              "    </tr>\n",
              "    <tr>\n",
              "      <th>2</th>\n",
              "      <td>40792</td>\n",
              "      <td>1992-05-06 00:01:00</td>\n",
              "      <td>Prize</td>\n",
              "      <td>592</td>\n",
              "      <td>592</td>\n",
              "      <td>1</td>\n",
              "    </tr>\n",
              "    <tr>\n",
              "      <th>3</th>\n",
              "      <td>40792</td>\n",
              "      <td>1992-05-06 00:01:00</td>\n",
              "      <td>Prize</td>\n",
              "      <td>5311</td>\n",
              "      <td>5311</td>\n",
              "      <td>1</td>\n",
              "    </tr>\n",
              "    <tr>\n",
              "      <th>4</th>\n",
              "      <td>40792</td>\n",
              "      <td>1992-05-06 00:01:00</td>\n",
              "      <td>Prize</td>\n",
              "      <td>407</td>\n",
              "      <td>407</td>\n",
              "      <td>1</td>\n",
              "    </tr>\n",
              "    <tr>\n",
              "      <th>5</th>\n",
              "      <td>40792</td>\n",
              "      <td>1992-05-06 00:01:00</td>\n",
              "      <td>Prize</td>\n",
              "      <td>1949</td>\n",
              "      <td>1949</td>\n",
              "      <td>1</td>\n",
              "    </tr>\n",
              "    <tr>\n",
              "      <th>6</th>\n",
              "      <td>40792</td>\n",
              "      <td>1992-05-06 00:01:00</td>\n",
              "      <td>Prize</td>\n",
              "      <td>1606</td>\n",
              "      <td>1606</td>\n",
              "      <td>1</td>\n",
              "    </tr>\n",
              "    <tr>\n",
              "      <th>7</th>\n",
              "      <td>40792</td>\n",
              "      <td>1992-05-06 00:01:00</td>\n",
              "      <td>Prize</td>\n",
              "      <td>3775</td>\n",
              "      <td>3775</td>\n",
              "      <td>1</td>\n",
              "    </tr>\n",
              "    <tr>\n",
              "      <th>8</th>\n",
              "      <td>40792</td>\n",
              "      <td>1992-05-06 00:01:00</td>\n",
              "      <td>Prize</td>\n",
              "      <td>6226</td>\n",
              "      <td>6226</td>\n",
              "      <td>1</td>\n",
              "    </tr>\n",
              "    <tr>\n",
              "      <th>9</th>\n",
              "      <td>40792</td>\n",
              "      <td>1992-05-06 00:01:00</td>\n",
              "      <td>Prize</td>\n",
              "      <td>1271</td>\n",
              "      <td>1271</td>\n",
              "      <td>1</td>\n",
              "    </tr>\n",
              "  </tbody>\n",
              "</table>\n",
              "</div>"
            ],
            "text/plain": [
              "   DrawNo            DrawDate PrizeType  LuckyNo  NumberId  TotalStrike\n",
              "0   40792 1992-05-06 00:01:00     Prize       19        19            1\n",
              "1   40792 1992-05-06 00:01:00     Prize     1124      1124            1\n",
              "2   40792 1992-05-06 00:01:00     Prize      592       592            1\n",
              "3   40792 1992-05-06 00:01:00     Prize     5311      5311            1\n",
              "4   40792 1992-05-06 00:01:00     Prize      407       407            1\n",
              "5   40792 1992-05-06 00:01:00     Prize     1949      1949            1\n",
              "6   40792 1992-05-06 00:01:00     Prize     1606      1606            1\n",
              "7   40792 1992-05-06 00:01:00     Prize     3775      3775            1\n",
              "8   40792 1992-05-06 00:01:00     Prize     6226      6226            1\n",
              "9   40792 1992-05-06 00:01:00     Prize     1271      1271            1"
            ]
          },
          "metadata": {
            "tags": []
          },
          "execution_count": 18
        }
      ]
    },
    {
      "cell_type": "code",
      "metadata": {
        "colab_type": "code",
        "id": "6ti9FbeJeuib",
        "colab": {}
      },
      "source": [
        "def make_cutoffs(start_date, end_date, threshold=0):\n",
        "    # Find numbers exist before start date\n",
        "    number_pool = data[data['DrawDate'] < start_date]['NumberId'].unique()\n",
        "    tmp = pd.DataFrame({'NumberId': number_pool})\n",
        "   \n",
        "    # For numbers in the number pool, find their strike count between the start and end dates\n",
        "    strike_counts = data[(data['NumberId'].isin(number_pool)) & \n",
        "        (data['DrawDate'] >= start_date) & \n",
        "        (data['DrawDate']< end_date)\n",
        "    ].groupby('NumberId')['TotalStrike'].count().reset_index()\n",
        "    \n",
        "    number_of_draws = data[\n",
        "                 (data['DrawDate'] >= start_date) & \n",
        "                 (data['DrawDate']< end_date)]['DrawDate'].nunique()\n",
        "    # display(strike_counts)\n",
        "    # print(number_of_draws)\n",
        "    \n",
        "    # Merge with all the number ids to record all customers who existed before start date\n",
        "    strike_counts = strike_counts.merge(tmp, on='NumberId', how='right')\n",
        "    \n",
        "    # Set the total for any numbers who did not strike in the timeframe equal to 0\n",
        "    strike_counts['TotalStrike'] = strike_counts['TotalStrike'].fillna(0)\n",
        "    \n",
        "    # Label is based on the threshold\n",
        "    strike_counts['Label'] = (strike_counts['TotalStrike'] > threshold).astype(int)\n",
        "        \n",
        "    # The cutoff time is the start date\n",
        "    strike_counts['cutoff_time'] = pd.to_datetime(start_date)\n",
        "    strike_counts = strike_counts[['NumberId', 'cutoff_time', 'TotalStrike', 'Label']]\n",
        "    \n",
        "    #display(strike_counts[strike_counts['Label']==1].nunique())\n",
        "    #display(strike_counts.sort_values(by='TotalStrike', ascending=False))\n",
        "   \n",
        "    return number_of_draws, strike_counts"
      ],
      "execution_count": 0,
      "outputs": []
    },
    {
      "cell_type": "code",
      "metadata": {
        "id": "E79gPmTJzqu1",
        "colab_type": "code",
        "colab": {}
      },
      "source": [
        "TARGET_MONTH_YEAR = pd.datetime(2019,12,1)"
      ],
      "execution_count": 0,
      "outputs": []
    },
    {
      "cell_type": "code",
      "metadata": {
        "id": "ldjt3_eC0NSC",
        "colab_type": "code",
        "colab": {}
      },
      "source": [
        "# For testing purpose\n",
        "data = data[data['DrawDate'] < TARGET_MONTH_YEAR]"
      ],
      "execution_count": 0,
      "outputs": []
    },
    {
      "cell_type": "code",
      "metadata": {
        "id": "sk7Lv-E50MAE",
        "colab_type": "code",
        "colab": {
          "base_uri": "https://localhost:8080/",
          "height": 359
        },
        "outputId": "2225bb4e-b8c0-476a-846d-5b19efbeee3f"
      },
      "source": [
        "data.tail(10)"
      ],
      "execution_count": 32,
      "outputs": [
        {
          "output_type": "execute_result",
          "data": {
            "text/html": [
              "<div>\n",
              "<style scoped>\n",
              "    .dataframe tbody tr th:only-of-type {\n",
              "        vertical-align: middle;\n",
              "    }\n",
              "\n",
              "    .dataframe tbody tr th {\n",
              "        vertical-align: top;\n",
              "    }\n",
              "\n",
              "    .dataframe thead th {\n",
              "        text-align: right;\n",
              "    }\n",
              "</style>\n",
              "<table border=\"1\" class=\"dataframe\">\n",
              "  <thead>\n",
              "    <tr style=\"text-align: right;\">\n",
              "      <th></th>\n",
              "      <th>DrawNo</th>\n",
              "      <th>DrawDate</th>\n",
              "      <th>PrizeType</th>\n",
              "      <th>LuckyNo</th>\n",
              "      <th>NumberId</th>\n",
              "      <th>TotalStrike</th>\n",
              "    </tr>\n",
              "  </thead>\n",
              "  <tbody>\n",
              "    <tr>\n",
              "      <th>106503</th>\n",
              "      <td>503819</td>\n",
              "      <td>2019-11-30 00:01:00</td>\n",
              "      <td>Prize</td>\n",
              "      <td>8329</td>\n",
              "      <td>8329</td>\n",
              "      <td>1</td>\n",
              "    </tr>\n",
              "    <tr>\n",
              "      <th>106504</th>\n",
              "      <td>503819</td>\n",
              "      <td>2019-11-30 00:01:00</td>\n",
              "      <td>Prize</td>\n",
              "      <td>7187</td>\n",
              "      <td>7187</td>\n",
              "      <td>1</td>\n",
              "    </tr>\n",
              "    <tr>\n",
              "      <th>106505</th>\n",
              "      <td>503819</td>\n",
              "      <td>2019-11-30 00:01:00</td>\n",
              "      <td>Prize</td>\n",
              "      <td>5140</td>\n",
              "      <td>5140</td>\n",
              "      <td>1</td>\n",
              "    </tr>\n",
              "    <tr>\n",
              "      <th>106506</th>\n",
              "      <td>503819</td>\n",
              "      <td>2019-11-30 00:01:00</td>\n",
              "      <td>Prize</td>\n",
              "      <td>3515</td>\n",
              "      <td>3515</td>\n",
              "      <td>1</td>\n",
              "    </tr>\n",
              "    <tr>\n",
              "      <th>106507</th>\n",
              "      <td>503819</td>\n",
              "      <td>2019-11-30 00:01:00</td>\n",
              "      <td>Prize</td>\n",
              "      <td>6690</td>\n",
              "      <td>6690</td>\n",
              "      <td>1</td>\n",
              "    </tr>\n",
              "    <tr>\n",
              "      <th>106508</th>\n",
              "      <td>503819</td>\n",
              "      <td>2019-11-30 00:01:00</td>\n",
              "      <td>Prize</td>\n",
              "      <td>753</td>\n",
              "      <td>753</td>\n",
              "      <td>1</td>\n",
              "    </tr>\n",
              "    <tr>\n",
              "      <th>106509</th>\n",
              "      <td>503819</td>\n",
              "      <td>2019-11-30 00:01:00</td>\n",
              "      <td>Prize</td>\n",
              "      <td>7</td>\n",
              "      <td>7</td>\n",
              "      <td>1</td>\n",
              "    </tr>\n",
              "    <tr>\n",
              "      <th>106510</th>\n",
              "      <td>503819</td>\n",
              "      <td>2019-11-30 00:01:00</td>\n",
              "      <td>Prize</td>\n",
              "      <td>3337</td>\n",
              "      <td>3337</td>\n",
              "      <td>1</td>\n",
              "    </tr>\n",
              "    <tr>\n",
              "      <th>106511</th>\n",
              "      <td>503819</td>\n",
              "      <td>2019-11-30 00:01:00</td>\n",
              "      <td>Prize</td>\n",
              "      <td>2383</td>\n",
              "      <td>2383</td>\n",
              "      <td>1</td>\n",
              "    </tr>\n",
              "    <tr>\n",
              "      <th>106512</th>\n",
              "      <td>503819</td>\n",
              "      <td>2019-11-30 00:01:00</td>\n",
              "      <td>Prize</td>\n",
              "      <td>6692</td>\n",
              "      <td>6692</td>\n",
              "      <td>1</td>\n",
              "    </tr>\n",
              "  </tbody>\n",
              "</table>\n",
              "</div>"
            ],
            "text/plain": [
              "        DrawNo            DrawDate PrizeType  LuckyNo  NumberId  TotalStrike\n",
              "106503  503819 2019-11-30 00:01:00     Prize     8329      8329            1\n",
              "106504  503819 2019-11-30 00:01:00     Prize     7187      7187            1\n",
              "106505  503819 2019-11-30 00:01:00     Prize     5140      5140            1\n",
              "106506  503819 2019-11-30 00:01:00     Prize     3515      3515            1\n",
              "106507  503819 2019-11-30 00:01:00     Prize     6690      6690            1\n",
              "106508  503819 2019-11-30 00:01:00     Prize      753       753            1\n",
              "106509  503819 2019-11-30 00:01:00     Prize        7         7            1\n",
              "106510  503819 2019-11-30 00:01:00     Prize     3337      3337            1\n",
              "106511  503819 2019-11-30 00:01:00     Prize     2383      2383            1\n",
              "106512  503819 2019-11-30 00:01:00     Prize     6692      6692            1"
            ]
          },
          "metadata": {
            "tags": []
          },
          "execution_count": 32
        }
      ]
    },
    {
      "cell_type": "code",
      "metadata": {
        "colab_type": "code",
        "id": "D2A36_d7euid",
        "outputId": "157887a8-f534-48fb-ff58-17ab4aac76e8",
        "colab": {
          "base_uri": "https://localhost:8080/",
          "height": 34
        }
      },
      "source": [
        "end_month_year = TARGET_MONTH_YEAR +  relativedelta(months=1)\n",
        "end_month_year"
      ],
      "execution_count": 34,
      "outputs": [
        {
          "output_type": "execute_result",
          "data": {
            "text/plain": [
              "datetime.datetime(2020, 1, 1, 0, 0)"
            ]
          },
          "metadata": {
            "tags": []
          },
          "execution_count": 34
        }
      ]
    },
    {
      "cell_type": "code",
      "metadata": {
        "id": "nNOPEwQq0pCp",
        "colab_type": "code",
        "colab": {
          "base_uri": "https://localhost:8080/",
          "height": 66
        },
        "outputId": "03ff3b46-0174-45c7-c0ad-544a4c4024fb"
      },
      "source": [
        "number_of_draws, target_month_year = make_cutoffs(TARGET_MONTH_YEAR, end_month_year)\n",
        "print(number_of_draws, len(target_month_year))\n",
        "target_month_year[(target_month_year['Label']==1) & (target_month_year['TotalStrike']==2)].sort_values(by='TotalStrike', ascending=False).head()"
      ],
      "execution_count": 36,
      "outputs": [
        {
          "output_type": "stream",
          "text": [
            "0 10000\n"
          ],
          "name": "stdout"
        },
        {
          "output_type": "execute_result",
          "data": {
            "text/html": [
              "<div>\n",
              "<style scoped>\n",
              "    .dataframe tbody tr th:only-of-type {\n",
              "        vertical-align: middle;\n",
              "    }\n",
              "\n",
              "    .dataframe tbody tr th {\n",
              "        vertical-align: top;\n",
              "    }\n",
              "\n",
              "    .dataframe thead th {\n",
              "        text-align: right;\n",
              "    }\n",
              "</style>\n",
              "<table border=\"1\" class=\"dataframe\">\n",
              "  <thead>\n",
              "    <tr style=\"text-align: right;\">\n",
              "      <th></th>\n",
              "      <th>NumberId</th>\n",
              "      <th>cutoff_time</th>\n",
              "      <th>TotalStrike</th>\n",
              "      <th>Label</th>\n",
              "    </tr>\n",
              "  </thead>\n",
              "  <tbody>\n",
              "  </tbody>\n",
              "</table>\n",
              "</div>"
            ],
            "text/plain": [
              "Empty DataFrame\n",
              "Columns: [NumberId, cutoff_time, TotalStrike, Label]\n",
              "Index: []"
            ]
          },
          "metadata": {
            "tags": []
          },
          "execution_count": 36
        }
      ]
    },
    {
      "cell_type": "code",
      "metadata": {
        "colab_type": "code",
        "id": "CWtkzeNV3ae8",
        "outputId": "3681d4c7-e570-4b3d-ad0d-ab05ac491fe4",
        "colab": {
          "base_uri": "https://localhost:8080/",
          "height": 607
        }
      },
      "source": [
        "data[data['NumberId'].isin([135,2513,5030])]"
      ],
      "execution_count": 37,
      "outputs": [
        {
          "output_type": "execute_result",
          "data": {
            "text/html": [
              "<div>\n",
              "<style scoped>\n",
              "    .dataframe tbody tr th:only-of-type {\n",
              "        vertical-align: middle;\n",
              "    }\n",
              "\n",
              "    .dataframe tbody tr th {\n",
              "        vertical-align: top;\n",
              "    }\n",
              "\n",
              "    .dataframe thead th {\n",
              "        text-align: right;\n",
              "    }\n",
              "</style>\n",
              "<table border=\"1\" class=\"dataframe\">\n",
              "  <thead>\n",
              "    <tr style=\"text-align: right;\">\n",
              "      <th></th>\n",
              "      <th>DrawNo</th>\n",
              "      <th>DrawDate</th>\n",
              "      <th>PrizeType</th>\n",
              "      <th>LuckyNo</th>\n",
              "      <th>NumberId</th>\n",
              "      <th>TotalStrike</th>\n",
              "    </tr>\n",
              "  </thead>\n",
              "  <tbody>\n",
              "    <tr>\n",
              "      <th>6255</th>\n",
              "      <td>67894</td>\n",
              "      <td>1994-01-27 00:01:00</td>\n",
              "      <td>Prize</td>\n",
              "      <td>2513</td>\n",
              "      <td>2513</td>\n",
              "      <td>1</td>\n",
              "    </tr>\n",
              "    <tr>\n",
              "      <th>6994</th>\n",
              "      <td>71194</td>\n",
              "      <td>1994-04-14 00:01:00</td>\n",
              "      <td>Prize</td>\n",
              "      <td>5030</td>\n",
              "      <td>5030</td>\n",
              "      <td>1</td>\n",
              "    </tr>\n",
              "    <tr>\n",
              "      <th>9126</th>\n",
              "      <td>80394</td>\n",
              "      <td>1994-11-13 00:01:00</td>\n",
              "      <td>Prize</td>\n",
              "      <td>2513</td>\n",
              "      <td>2513</td>\n",
              "      <td>1</td>\n",
              "    </tr>\n",
              "    <tr>\n",
              "      <th>11857</th>\n",
              "      <td>92295</td>\n",
              "      <td>1995-08-19 00:01:00</td>\n",
              "      <td>Prize</td>\n",
              "      <td>2513</td>\n",
              "      <td>2513</td>\n",
              "      <td>1</td>\n",
              "    </tr>\n",
              "    <tr>\n",
              "      <th>16285</th>\n",
              "      <td>111596</td>\n",
              "      <td>1996-11-10 00:01:00</td>\n",
              "      <td>Prize</td>\n",
              "      <td>2513</td>\n",
              "      <td>2513</td>\n",
              "      <td>1</td>\n",
              "    </tr>\n",
              "    <tr>\n",
              "      <th>19202</th>\n",
              "      <td>124197</td>\n",
              "      <td>1997-08-31 00:01:00</td>\n",
              "      <td>Prize</td>\n",
              "      <td>135</td>\n",
              "      <td>135</td>\n",
              "      <td>1</td>\n",
              "    </tr>\n",
              "    <tr>\n",
              "      <th>40002</th>\n",
              "      <td>214703</td>\n",
              "      <td>2003-04-05 00:01:00</td>\n",
              "      <td>Prize</td>\n",
              "      <td>5030</td>\n",
              "      <td>5030</td>\n",
              "      <td>1</td>\n",
              "    </tr>\n",
              "    <tr>\n",
              "      <th>46671</th>\n",
              "      <td>243705</td>\n",
              "      <td>2005-01-04 00:01:00</td>\n",
              "      <td>Prize</td>\n",
              "      <td>2513</td>\n",
              "      <td>2513</td>\n",
              "      <td>1</td>\n",
              "    </tr>\n",
              "    <tr>\n",
              "      <th>50329</th>\n",
              "      <td>259605</td>\n",
              "      <td>2005-12-10 00:01:00</td>\n",
              "      <td>Prize</td>\n",
              "      <td>2513</td>\n",
              "      <td>2513</td>\n",
              "      <td>1</td>\n",
              "    </tr>\n",
              "    <tr>\n",
              "      <th>55421</th>\n",
              "      <td>281707</td>\n",
              "      <td>2007-03-25 00:01:00</td>\n",
              "      <td>Prize</td>\n",
              "      <td>5030</td>\n",
              "      <td>5030</td>\n",
              "      <td>1</td>\n",
              "    </tr>\n",
              "    <tr>\n",
              "      <th>61894</th>\n",
              "      <td>309908</td>\n",
              "      <td>2008-12-10 00:01:00</td>\n",
              "      <td>Prize</td>\n",
              "      <td>2513</td>\n",
              "      <td>2513</td>\n",
              "      <td>1</td>\n",
              "    </tr>\n",
              "    <tr>\n",
              "      <th>64702</th>\n",
              "      <td>322109</td>\n",
              "      <td>2009-08-26 00:01:00</td>\n",
              "      <td>Prize</td>\n",
              "      <td>135</td>\n",
              "      <td>135</td>\n",
              "      <td>1</td>\n",
              "    </tr>\n",
              "    <tr>\n",
              "      <th>66047</th>\n",
              "      <td>327909</td>\n",
              "      <td>2009-12-23 00:01:00</td>\n",
              "      <td>Prize</td>\n",
              "      <td>2513</td>\n",
              "      <td>2513</td>\n",
              "      <td>1</td>\n",
              "    </tr>\n",
              "    <tr>\n",
              "      <th>72749</th>\n",
              "      <td>357111</td>\n",
              "      <td>2011-08-21 00:01:00</td>\n",
              "      <td>Prize</td>\n",
              "      <td>2513</td>\n",
              "      <td>2513</td>\n",
              "      <td>1</td>\n",
              "    </tr>\n",
              "    <tr>\n",
              "      <th>73171</th>\n",
              "      <td>358911</td>\n",
              "      <td>2011-09-28 00:01:00</td>\n",
              "      <td>Prize</td>\n",
              "      <td>2513</td>\n",
              "      <td>2513</td>\n",
              "      <td>1</td>\n",
              "    </tr>\n",
              "    <tr>\n",
              "      <th>87326</th>\n",
              "      <td>420415</td>\n",
              "      <td>2015-03-04 00:01:00</td>\n",
              "      <td>Prize</td>\n",
              "      <td>2513</td>\n",
              "      <td>2513</td>\n",
              "      <td>1</td>\n",
              "    </tr>\n",
              "    <tr>\n",
              "      <th>92227</th>\n",
              "      <td>441716</td>\n",
              "      <td>2016-05-14 00:01:00</td>\n",
              "      <td>Prize</td>\n",
              "      <td>135</td>\n",
              "      <td>135</td>\n",
              "      <td>1</td>\n",
              "    </tr>\n",
              "    <tr>\n",
              "      <th>99474</th>\n",
              "      <td>473218</td>\n",
              "      <td>2018-02-18 00:01:00</td>\n",
              "      <td>Prize</td>\n",
              "      <td>135</td>\n",
              "      <td>135</td>\n",
              "      <td>1</td>\n",
              "    </tr>\n",
              "  </tbody>\n",
              "</table>\n",
              "</div>"
            ],
            "text/plain": [
              "       DrawNo            DrawDate PrizeType  LuckyNo  NumberId  TotalStrike\n",
              "6255    67894 1994-01-27 00:01:00     Prize     2513      2513            1\n",
              "6994    71194 1994-04-14 00:01:00     Prize     5030      5030            1\n",
              "9126    80394 1994-11-13 00:01:00     Prize     2513      2513            1\n",
              "11857   92295 1995-08-19 00:01:00     Prize     2513      2513            1\n",
              "16285  111596 1996-11-10 00:01:00     Prize     2513      2513            1\n",
              "19202  124197 1997-08-31 00:01:00     Prize      135       135            1\n",
              "40002  214703 2003-04-05 00:01:00     Prize     5030      5030            1\n",
              "46671  243705 2005-01-04 00:01:00     Prize     2513      2513            1\n",
              "50329  259605 2005-12-10 00:01:00     Prize     2513      2513            1\n",
              "55421  281707 2007-03-25 00:01:00     Prize     5030      5030            1\n",
              "61894  309908 2008-12-10 00:01:00     Prize     2513      2513            1\n",
              "64702  322109 2009-08-26 00:01:00     Prize      135       135            1\n",
              "66047  327909 2009-12-23 00:01:00     Prize     2513      2513            1\n",
              "72749  357111 2011-08-21 00:01:00     Prize     2513      2513            1\n",
              "73171  358911 2011-09-28 00:01:00     Prize     2513      2513            1\n",
              "87326  420415 2015-03-04 00:01:00     Prize     2513      2513            1\n",
              "92227  441716 2016-05-14 00:01:00     Prize      135       135            1\n",
              "99474  473218 2018-02-18 00:01:00     Prize      135       135            1"
            ]
          },
          "metadata": {
            "tags": []
          },
          "execution_count": 37
        }
      ]
    },
    {
      "cell_type": "code",
      "metadata": {
        "colab_type": "code",
        "id": "mslYCIBteuif",
        "outputId": "74e38669-335b-48a2-cc0c-8ecd3dfa62b6",
        "colab": {
          "base_uri": "https://localhost:8080/",
          "height": 314
        }
      },
      "source": [
        "target_month_year['Label'].value_counts().plot.bar()\n",
        "plt.title('Label Distribution for Target Month Year')"
      ],
      "execution_count": 40,
      "outputs": [
        {
          "output_type": "execute_result",
          "data": {
            "text/plain": [
              "Text(0.5, 1.0, 'Label Distribution for Target Month Year')"
            ]
          },
          "metadata": {
            "tags": []
          },
          "execution_count": 40
        },
        {
          "output_type": "display_data",
          "data": {
            "image/png": "[encoded data removed]",
            "text/plain": [
              "<Figure size 432x288 with 1 Axes>"
            ]
          },
          "metadata": {
            "tags": []
          }
        }
      ]
    },
    {
      "cell_type": "code",
      "metadata": {
        "colab_type": "code",
        "id": "yay4yhhxeuih",
        "colab": {}
      },
      "source": [
        "CUT_OFF_YEAR = TARGET_MONTH_YEAR"
      ],
      "execution_count": 0,
      "outputs": []
    },
    {
      "cell_type": "code",
      "metadata": {
        "colab_type": "code",
        "id": "FRldQMdyeuik",
        "outputId": "eaae034a-df1d-47f6-9976-b82ffa9d3190",
        "colab": {
          "base_uri": "https://localhost:8080/",
          "height": 119
        }
      },
      "source": [
        "## Loop through each month starting from CUT_OFF_YEAR\n",
        "\n",
        "# print(data['DrawDate'].max())\n",
        "max_year_month = data['DrawDate'].max() - relativedelta(months=1) + relativedelta(day=31)\n",
        "print(f\"Max month year: {max_year_month}\")\n",
        "\n",
        "start_year_month = CUT_OFF_YEAR\n",
        "\n",
        "months_data = []\n",
        "total_draws = 0\n",
        "while start_year_month < max_year_month:\n",
        "    start_date = start_year_month \n",
        "    end_date = start_date + relativedelta(months=1)\n",
        "    start_year_month = start_year_month + relativedelta(months=1)\n",
        "    print(f\"Labels from {start_date} to {end_date}\")\n",
        "    draw_count, month_data = make_cutoffs(start_date, end_date)\n",
        "    total_draws = total_draws + draw_count\n",
        "    months_data.append(month_data)\n",
        "\n",
        "print(f\"Total draws: {total_draws}\")\n",
        "print(f\"Total draws: {data[(data['DrawDate'] >= CUT_OFF_YEAR) & (data['DrawDate'] <= max_year_month)]['DrawDate'].nunique()}\")\n",
        "print(f\"Total months:{len(months_data)}\")\n",
        "print(f\"Total records count: {sum([len(l) for l in months_data])}\")\n",
        "print([len(l) for l in months_data])"
      ],
      "execution_count": 42,
      "outputs": [
        {
          "output_type": "stream",
          "text": [
            "Max month year: 2019-10-31 00:01:00\n",
            "Total draws: 0\n",
            "Total draws: 0\n",
            "Total months:0\n",
            "Total records count: 0\n",
            "[]\n"
          ],
          "name": "stdout"
        }
      ]
    },
    {
      "cell_type": "code",
      "metadata": {
        "colab_type": "code",
        "id": "UVKdKkdReuir",
        "colab": {}
      },
      "source": [
        "labels = pd.concat(months_data)\n",
        "labels.to_csv(DATASET_PATH/'labels.csv')\n",
        "labels.describe()"
      ],
      "execution_count": 0,
      "outputs": []
    },
    {
      "cell_type": "code",
      "metadata": {
        "colab_type": "code",
        "id": "pn4ERZaweuiz",
        "colab": {}
      },
      "source": [
        "labels[(labels['NumberId'] == 9016)  & (labels['Label'] > 0)]"
      ],
      "execution_count": 0,
      "outputs": []
    },
    {
      "cell_type": "code",
      "metadata": {
        "colab_type": "code",
        "id": "tYqyvoCeeui1",
        "colab": {}
      },
      "source": [
        "labels.loc[labels['NumberId'] == 9016].set_index('cutoff_time')['TotalStrike'].plot(figsize = (6, 4), linewidth = 3)\n",
        "plt.xlabel('Date', size = 16); \n",
        "plt.ylabel('Total Strike', size = 16); \n",
        "plt.title('Draw', size = 20);\n",
        "plt.xticks(size = 16); plt.yticks(size = 16);"
      ],
      "execution_count": 0,
      "outputs": []
    },
    {
      "cell_type": "code",
      "metadata": {
        "colab_type": "code",
        "id": "iyAGwDhNeui4",
        "colab": {}
      },
      "source": [
        "labels.tail(10)"
      ],
      "execution_count": 0,
      "outputs": []
    },
    {
      "cell_type": "markdown",
      "metadata": {
        "colab_type": "text",
        "id": "stLvE4bspqbx"
      },
      "source": [
        "## Automated Feature Engineering"
      ]
    },
    {
      "cell_type": "code",
      "metadata": {
        "colab_type": "code",
        "id": "ACOmTMZQpqbz",
        "colab": {}
      },
      "source": [
        "es = ft.EntitySet(id=\"Lotto Results\")\n",
        "\n",
        "# Add the entire data table as an entity\n",
        "es.entity_from_dataframe(\"Results\",\n",
        "                         dataframe=data,\n",
        "                         index=\"results_index\",\n",
        "                         time_index = 'DrawDate')\n",
        "\n",
        "es['Results']"
      ],
      "execution_count": 0,
      "outputs": []
    },
    {
      "cell_type": "code",
      "metadata": {
        "colab_type": "code",
        "id": "aG9Bvh9keui9",
        "colab": {}
      },
      "source": [
        "es.normalize_entity(new_entity_id=\"Numbers\",\n",
        "                    base_entity_id=\"Results\",\n",
        "                    index=\"NumberId\",\n",
        "                    )"
      ],
      "execution_count": 0,
      "outputs": []
    },
    {
      "cell_type": "code",
      "metadata": {
        "colab_type": "code",
        "id": "qVb6QmM6eui_",
        "colab": {}
      },
      "source": [
        "es"
      ],
      "execution_count": 0,
      "outputs": []
    },
    {
      "cell_type": "code",
      "metadata": {
        "colab_type": "code",
        "id": "dtCMg6OgeujB",
        "colab": {}
      },
      "source": [
        "es['Numbers'].df.head(24)"
      ],
      "execution_count": 0,
      "outputs": []
    },
    {
      "cell_type": "code",
      "metadata": {
        "colab_type": "code",
        "id": "pesqNguDeujD",
        "colab": {}
      },
      "source": [
        "es['Results'].df.head(24)"
      ],
      "execution_count": 0,
      "outputs": []
    },
    {
      "cell_type": "code",
      "metadata": {
        "colab_type": "code",
        "id": "Q4B-Isg5hob-",
        "colab": {}
      },
      "source": [
        "len(es['Results'].df)"
      ],
      "execution_count": 0,
      "outputs": []
    },
    {
      "cell_type": "markdown",
      "metadata": {
        "colab_type": "text",
        "id": "UgUuD752eujH"
      },
      "source": [
        "## Deep Feature Synthesis"
      ]
    },
    {
      "cell_type": "code",
      "metadata": {
        "colab_type": "code",
        "id": "-CBGKZuKeujH",
        "colab": {}
      },
      "source": [
        "# feature_matrix, feature_names = ft.dfs(entityset=es, target_entity='Numbers',\n",
        "#                                         cutoff_time = labels, verbose = 2,\n",
        "#                                         cutoff_time_in_index = True,\n",
        "#                                         chunk_size = len(labels), n_jobs = 1,\n",
        "#                                         max_depth = 1)\n",
        "print(ft.__version__)\n",
        "ft.list_primitives().T"
      ],
      "execution_count": 0,
      "outputs": []
    },
    {
      "cell_type": "code",
      "metadata": {
        "colab_type": "code",
        "id": "YBdz1ZRKZ4Gh",
        "colab": {}
      },
      "source": [
        "# default_agg_primitives =  ['std', 'max', 'min', 'mode', 'mean', 'skew', 'last', 'avg_time_between', \n",
        "#                            'count', 'sum', 'trend', 'percent_true', 'num_unique', 'time_since_last', \n",
        "#                            'time_since_first']\n",
        "# default_trans_primitives =  ['cum_sum', 'cum_mean', 'month', 'day', 'percentile', \n",
        "#                               'time_since', 'time_since_previous', 'cum_min', 'cum_max']\n",
        "\n",
        "default_agg_primitives =  ['std', 'max', 'min', 'mode', 'mean', 'skew', 'last', 'avg_time_between', \n",
        "                           'count', 'sum', 'trend', 'percent_true', 'num_unique']\n",
        "default_trans_primitives =  ['cum_sum', 'cum_mean', 'month', 'day', 'percentile', \n",
        "                            'and', 'time_since', 'time_since_previous']\n",
        "\n",
        "feature_matrix, feature_names = ft.dfs(entityset=es, target_entity='Numbers',\n",
        "                                        agg_primitives = default_agg_primitives ,\n",
        "                                        trans_primitives = default_trans_primitives,\n",
        "                                        cutoff_time = labels, verbose = 1,\n",
        "                                        cutoff_time_in_index = True,\n",
        "                                        chunk_size = len(labels), n_jobs = 1,\n",
        "                                        #chunk_size = 10000, n_jobs = -1,\n",
        "                                        max_depth = 2)"
      ],
      "execution_count": 0,
      "outputs": []
    },
    {
      "cell_type": "code",
      "metadata": {
        "colab_type": "code",
        "id": "mIWROhRteujK",
        "colab": {}
      },
      "source": [
        "len(feature_matrix.columns), feature_matrix.columns"
      ],
      "execution_count": 0,
      "outputs": []
    },
    {
      "cell_type": "code",
      "metadata": {
        "colab_type": "code",
        "id": "9Ipeq6WAeujN",
        "colab": {}
      },
      "source": [
        "len(feature_matrix)"
      ],
      "execution_count": 0,
      "outputs": []
    },
    {
      "cell_type": "code",
      "metadata": {
        "colab_type": "code",
        "id": "rlwWExxVeujR",
        "colab": {}
      },
      "source": [
        "feature_matrix.head().T"
      ],
      "execution_count": 0,
      "outputs": []
    },
    {
      "cell_type": "code",
      "metadata": {
        "colab_type": "code",
        "id": "G52SwLCFeujT",
        "colab": {}
      },
      "source": [
        "feature_matrix.shape"
      ],
      "execution_count": 0,
      "outputs": []
    },
    {
      "cell_type": "code",
      "metadata": {
        "colab_type": "code",
        "id": "CRCvwSGFc6Bg",
        "colab": {}
      },
      "source": [
        "feature_matrix.head(2)"
      ],
      "execution_count": 0,
      "outputs": []
    },
    {
      "cell_type": "code",
      "metadata": {
        "colab_type": "code",
        "id": "UTlTGRatewxx",
        "colab": {}
      },
      "source": [
        "#feature_matrix[(feature_matrix['NumberId']==0) & (feature_matrix['Label']==1)].head(10)"
      ],
      "execution_count": 0,
      "outputs": []
    },
    {
      "cell_type": "markdown",
      "metadata": {
        "colab_type": "text",
        "id": "xFeHotmbfnhn"
      },
      "source": [
        "## Correlations"
      ]
    },
    {
      "cell_type": "code",
      "metadata": {
        "colab_type": "code",
        "id": "EE0MZiCipQRi",
        "colab": {}
      },
      "source": [
        "# Save the original feature matrix\n",
        "origin_feature_matrix = feature_matrix\n",
        "\n",
        "feature_matrix = pd.get_dummies(feature_matrix).reset_index()\n",
        "feature_matrix.shape"
      ],
      "execution_count": 0,
      "outputs": []
    },
    {
      "cell_type": "code",
      "metadata": {
        "colab_type": "code",
        "id": "nhljH4WzpWsO",
        "colab": {}
      },
      "source": [
        "feature_matrix.head(10)"
      ],
      "execution_count": 0,
      "outputs": []
    },
    {
      "cell_type": "code",
      "metadata": {
        "colab_type": "code",
        "id": "hYQy-CwppbIT",
        "colab": {}
      },
      "source": [
        "corrs = feature_matrix.corr().sort_values('TotalStrike')\n",
        "corrs['TotalStrike'].head()"
      ],
      "execution_count": 0,
      "outputs": []
    },
    {
      "cell_type": "code",
      "metadata": {
        "colab_type": "code",
        "id": "aJYr17JXpsNf",
        "colab": {}
      },
      "source": [
        "corrs['TotalStrike'].dropna().tail(60)"
      ],
      "execution_count": 0,
      "outputs": []
    },
    {
      "cell_type": "code",
      "metadata": {
        "colab_type": "code",
        "id": "MdhhEg_vqQoC",
        "colab": {}
      },
      "source": [
        "feature_matrix['month'] = feature_matrix['time'].dt.month\n",
        "feature_matrix['year'] = feature_matrix['time'].dt.year"
      ],
      "execution_count": 0,
      "outputs": []
    },
    {
      "cell_type": "code",
      "metadata": {
        "colab_type": "code",
        "id": "88yuBM0przQG",
        "colab": {}
      },
      "source": [
        "feature_matrix.info()"
      ],
      "execution_count": 0,
      "outputs": []
    },
    {
      "cell_type": "code",
      "metadata": {
        "colab_type": "code",
        "id": "-Ym4tZDEstFL",
        "colab": {}
      },
      "source": [
        "feature_matrix.head()"
      ],
      "execution_count": 0,
      "outputs": []
    },
    {
      "cell_type": "code",
      "metadata": {
        "colab_type": "code",
        "id": "ikqkrTUPpHBa",
        "colab": {}
      },
      "source": [
        "feature_matrix.tail()"
      ],
      "execution_count": 0,
      "outputs": []
    },
    {
      "cell_type": "code",
      "metadata": {
        "colab_type": "code",
        "id": "MUlGhp0JqCdJ",
        "colab": {}
      },
      "source": [
        "display(feature_matrix.describe())"
      ],
      "execution_count": 0,
      "outputs": []
    },
    {
      "cell_type": "markdown",
      "metadata": {
        "colab_type": "text",
        "id": "jUgeaJgjYUTH"
      },
      "source": [
        "## Save feature matrix"
      ]
    },
    {
      "cell_type": "code",
      "metadata": {
        "colab_type": "code",
        "id": "9fpAptJ7YUtr",
        "colab": {}
      },
      "source": [
        "# https://towardsdatascience.com/downloading-datasets-into-google-drive-via-google-colab-bcb1b30b0166\n",
        "if COLAB:\n",
        "    GDRIVE_DATASET_FOLDER = Path('gdrive/My Drive/datasets/')\n",
        "    #!ls /content/gdrive/My\\ Drive/\n",
        "    feature_matrix.to_feather(GDRIVE_DATASET_FOLDER/f\"{FEATURE_DATASET_PREFIX}.ft\")\n",
        "    origin_feature_matrix.to_pickle(GDRIVE_DATASET_FOLDER/f\"{FEATURE_DATASET_PREFIX}_origin.pkl\")"
      ],
      "execution_count": 0,
      "outputs": []
    },
    {
      "cell_type": "code",
      "metadata": {
        "colab_type": "code",
        "id": "o2pbgTRtg2-g",
        "colab": {}
      },
      "source": [
        "if COLAB:\n",
        "  !cd gdrive/\"My Drive\"/datasets/ && ls -l --block-size=M"
      ],
      "execution_count": 0,
      "outputs": []
    },
    {
      "cell_type": "markdown",
      "metadata": {
        "colab_type": "text",
        "id": "p5ip9EBq5-IQ"
      },
      "source": [
        "### Validation"
      ]
    },
    {
      "cell_type": "code",
      "metadata": {
        "colab_type": "code",
        "id": "MNpMn_PS7Bx9",
        "colab": {}
      },
      "source": [
        ""
      ],
      "execution_count": 0,
      "outputs": []
    }
  ]
}
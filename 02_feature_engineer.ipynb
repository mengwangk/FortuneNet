{
 "cells": [
  {
   "cell_type": "markdown",
   "metadata": {},
   "source": [
    "# Feature Engineering"
   ]
  },
  {
   "cell_type": "code",
   "execution_count": 146,
   "metadata": {},
   "outputs": [],
   "source": [
    "from pathlib import Path\n",
    "import pandas as pd\n",
    "import numpy as np\n",
    "\n",
    "import warnings\n",
    "warnings.filterwarnings(action=\"ignore\", message=\"^internal gelsd\")\n",
    "\n",
    "DATASET = Path(\"datasets/lotto/data_processed.csv\")\n",
    "\n",
    "# The Answer to the Ultimate Question of Life, the Universe, and Everything.\n",
    "np.random.seed(42)"
   ]
  },
  {
   "cell_type": "code",
   "execution_count": 2,
   "metadata": {},
   "outputs": [],
   "source": [
    "# Read into data frame\n",
    "dataset = pd.read_csv(DATASET, header=0, sep=',', quotechar='\"', parse_dates=['DrawDate'], dtype={'PrizeType': str})"
   ]
  },
  {
   "cell_type": "code",
   "execution_count": 3,
   "metadata": {},
   "outputs": [],
   "source": [
    "df = dataset.copy()"
   ]
  },
  {
   "cell_type": "code",
   "execution_count": 84,
   "metadata": {},
   "outputs": [
    {
     "name": "stdout",
     "output_type": "stream",
     "text": [
      "<class 'pandas.core.frame.DataFrame'>\n",
      "RangeIndex: 104673 entries, 0 to 104672\n",
      "Columns: 115 entries, DrawNo to pos_4_9_freq\n",
      "dtypes: datetime64[ns](1), float64(2), int64(111), object(1)\n",
      "memory usage: 91.8+ MB\n"
     ]
    }
   ],
   "source": [
    "df.info()"
   ]
  },
  {
   "cell_type": "code",
   "execution_count": 98,
   "metadata": {},
   "outputs": [
    {
     "data": {
      "text/html": [
       "<div>\n",
       "<style scoped>\n",
       "    .dataframe tbody tr th:only-of-type {\n",
       "        vertical-align: middle;\n",
       "    }\n",
       "\n",
       "    .dataframe tbody tr th {\n",
       "        vertical-align: top;\n",
       "    }\n",
       "\n",
       "    .dataframe thead th {\n",
       "        text-align: right;\n",
       "    }\n",
       "</style>\n",
       "<table border=\"1\" class=\"dataframe\">\n",
       "  <thead>\n",
       "    <tr style=\"text-align: right;\">\n",
       "      <th></th>\n",
       "      <th>DrawNo</th>\n",
       "      <th>DrawDate</th>\n",
       "      <th>PrizeType</th>\n",
       "      <th>LuckyNo</th>\n",
       "      <th>DaysSinceLastExactMatch</th>\n",
       "      <th>DaysUntilNextExactMatch</th>\n",
       "      <th>DaysSinceLastAnyMatch</th>\n",
       "      <th>DaysUntilNextAnyMatch</th>\n",
       "      <th>1st_digit</th>\n",
       "      <th>2nd_digit</th>\n",
       "      <th>...</th>\n",
       "      <th>pos_4_0_freq</th>\n",
       "      <th>pos_4_1_freq</th>\n",
       "      <th>pos_4_2_freq</th>\n",
       "      <th>pos_4_3_freq</th>\n",
       "      <th>pos_4_4_freq</th>\n",
       "      <th>pos_4_5_freq</th>\n",
       "      <th>pos_4_6_freq</th>\n",
       "      <th>pos_4_7_freq</th>\n",
       "      <th>pos_4_8_freq</th>\n",
       "      <th>pos_4_9_freq</th>\n",
       "    </tr>\n",
       "  </thead>\n",
       "  <tbody>\n",
       "    <tr>\n",
       "      <th>0</th>\n",
       "      <td>40792</td>\n",
       "      <td>1992-05-06</td>\n",
       "      <td>1stPrizeNo</td>\n",
       "      <td>19</td>\n",
       "      <td>0</td>\n",
       "      <td>28</td>\n",
       "      <td>0</td>\n",
       "      <td>28</td>\n",
       "      <td>0</td>\n",
       "      <td>0</td>\n",
       "      <td>...</td>\n",
       "      <td>5</td>\n",
       "      <td>8</td>\n",
       "      <td>2</td>\n",
       "      <td>2</td>\n",
       "      <td>5</td>\n",
       "      <td>5</td>\n",
       "      <td>5</td>\n",
       "      <td>6</td>\n",
       "      <td>2</td>\n",
       "      <td>6</td>\n",
       "    </tr>\n",
       "  </tbody>\n",
       "</table>\n",
       "<p>1 rows × 115 columns</p>\n",
       "</div>"
      ],
      "text/plain": [
       "   DrawNo   DrawDate   PrizeType  LuckyNo  DaysSinceLastExactMatch  \\\n",
       "0   40792 1992-05-06  1stPrizeNo       19                        0   \n",
       "\n",
       "   DaysUntilNextExactMatch  DaysSinceLastAnyMatch  DaysUntilNextAnyMatch  \\\n",
       "0                       28                      0                     28   \n",
       "\n",
       "   1st_digit  2nd_digit      ...       pos_4_0_freq  pos_4_1_freq  \\\n",
       "0          0          0      ...                  5             8   \n",
       "\n",
       "   pos_4_2_freq  pos_4_3_freq  pos_4_4_freq  pos_4_5_freq  pos_4_6_freq  \\\n",
       "0             2             2             5             5             5   \n",
       "\n",
       "   pos_4_7_freq  pos_4_8_freq  pos_4_9_freq  \n",
       "0             6             2             6  \n",
       "\n",
       "[1 rows x 115 columns]"
      ]
     },
     "execution_count": 98,
     "metadata": {},
     "output_type": "execute_result"
    }
   ],
   "source": [
    "df.head(1)"
   ]
  },
  {
   "cell_type": "code",
   "execution_count": 6,
   "metadata": {},
   "outputs": [],
   "source": [
    "# Python ≥3.5 is required\n",
    "import sys\n",
    "assert sys.version_info >= (3, 5)"
   ]
  },
  {
   "cell_type": "code",
   "execution_count": null,
   "metadata": {},
   "outputs": [],
   "source": [
    "# Scikit-Learn ≥0.20 is required\n",
    "import sklearn\n",
    "assert sklearn.__version__ >= \"0.20\""
   ]
  },
  {
   "cell_type": "code",
   "execution_count": 93,
   "metadata": {},
   "outputs": [],
   "source": [
    "# pytorch\n",
    "import torch\n",
    "from torchvision import transforms"
   ]
  },
  {
   "cell_type": "code",
   "execution_count": 103,
   "metadata": {},
   "outputs": [],
   "source": [
    "# fastai\n",
    "from fastai import *\n",
    "from fastai.vision import *"
   ]
  },
  {
   "cell_type": "code",
   "execution_count": null,
   "metadata": {},
   "outputs": [],
   "source": [
    "np.c_?"
   ]
  },
  {
   "cell_type": "code",
   "execution_count": 178,
   "metadata": {},
   "outputs": [
    {
     "name": "stdout",
     "output_type": "stream",
     "text": [
      "[DrawNo] \n",
      "[DrawDate] [PrizeType] [LuckyNo] [DaysSinceLastExactMatch] [DaysUntilNextExactMatch] \n",
      "[DaysSinceLastAnyMatch] [DaysUntilNextAnyMatch] [1st_digit] [2nd_digit] [3rd_digit] \n",
      "[4th_digit] [DrawYear] [DrawMonth] [DrawWeek] [DrawDay] \n",
      "[DrawDayofweek] [DrawDayofyear] [CumProbaExactMatch] [CumProbaAnyMatch] [0_1] \n",
      "[0_2] [0_3] [0_4] [0_5] [0_6] \n",
      "[0_7] [0_8] [0_9] [1_2] [1_3] \n",
      "[1_4] [1_5] [1_6] [1_7] [1_8] \n",
      "[1_9] [2_3] [2_4] [2_5] [2_6] \n",
      "[2_7] [2_8] [2_9] [3_4] [3_5] \n",
      "[3_6] [3_7] [3_8] [3_9] [4_5] \n",
      "[4_6] [4_7] [4_8] [4_9] [5_6] \n",
      "[5_7] [5_8] [5_9] [6_7] [6_8] \n",
      "[6_9] [7_8] [7_9] [8_9] [0_0] \n",
      "[1_1] [2_2] [3_3] [4_4] [5_5] \n",
      "[6_6] [7_7] [8_8] [9_9] [pos_1_0_freq] \n",
      "[pos_1_1_freq] [pos_1_2_freq] [pos_1_3_freq] [pos_1_4_freq] [pos_1_5_freq] \n",
      "[pos_1_6_freq] [pos_1_7_freq] [pos_1_8_freq] [pos_1_9_freq] [pos_2_0_freq] \n",
      "[pos_2_1_freq] [pos_2_2_freq] [pos_2_3_freq] [pos_2_4_freq] [pos_2_5_freq] \n",
      "[pos_2_6_freq] [pos_2_7_freq] [pos_2_8_freq] [pos_2_9_freq] [pos_3_0_freq] \n",
      "[pos_3_1_freq] [pos_3_2_freq] [pos_3_3_freq] [pos_3_4_freq] [pos_3_5_freq] \n",
      "[pos_3_6_freq] [pos_3_7_freq] [pos_3_8_freq] [pos_3_9_freq] [pos_4_0_freq] \n",
      "[pos_4_1_freq] [pos_4_2_freq] [pos_4_3_freq] [pos_4_4_freq] [pos_4_5_freq] \n",
      "[pos_4_6_freq] [pos_4_7_freq] [pos_4_8_freq] [pos_4_9_freq] "
     ]
    }
   ],
   "source": [
    "for ind, column in enumerate(df.columns):\n",
    "    print(\"[{}]\".format(column), end=' ')\n",
    "    if ind % 5 == 0:\n",
    "        print()"
   ]
  },
  {
   "cell_type": "code",
   "execution_count": 177,
   "metadata": {},
   "outputs": [],
   "source": [
    "df = dataset.copy()\n",
    "numeric_features = [\"DaysSinceLastExactMatch\", \"DaysUntilNextExactMatch\", \n",
    "                    \"DaysSinceLastAnyMatch\", \"DaysUntilNextAnyMatch\"\n",
    "                   ]\n",
    "categorical_features = [\"PrizeType\"]\n",
    "datetime_features = [\"DrawDate\"]\n",
    "target_feature = [\"LuckyNo\"]"
   ]
  },
  {
   "cell_type": "code",
   "execution_count": 164,
   "metadata": {},
   "outputs": [],
   "source": [
    "df = df[target_feature + datetime_features + categorical_features + numeric_features]"
   ]
  },
  {
   "cell_type": "code",
   "execution_count": 165,
   "metadata": {},
   "outputs": [
    {
     "data": {
      "text/html": [
       "<div>\n",
       "<style scoped>\n",
       "    .dataframe tbody tr th:only-of-type {\n",
       "        vertical-align: middle;\n",
       "    }\n",
       "\n",
       "    .dataframe tbody tr th {\n",
       "        vertical-align: top;\n",
       "    }\n",
       "\n",
       "    .dataframe thead th {\n",
       "        text-align: right;\n",
       "    }\n",
       "</style>\n",
       "<table border=\"1\" class=\"dataframe\">\n",
       "  <thead>\n",
       "    <tr style=\"text-align: right;\">\n",
       "      <th></th>\n",
       "      <th>LuckyNo</th>\n",
       "      <th>DrawDate</th>\n",
       "      <th>PrizeType</th>\n",
       "      <th>DaysSinceLastExactMatch</th>\n",
       "      <th>DaysUntilNextExactMatch</th>\n",
       "      <th>DaysSinceLastAnyMatch</th>\n",
       "      <th>DaysUntilNextAnyMatch</th>\n",
       "    </tr>\n",
       "  </thead>\n",
       "  <tbody>\n",
       "    <tr>\n",
       "      <th>0</th>\n",
       "      <td>19</td>\n",
       "      <td>1992-05-06</td>\n",
       "      <td>1stPrizeNo</td>\n",
       "      <td>0</td>\n",
       "      <td>28</td>\n",
       "      <td>0</td>\n",
       "      <td>28</td>\n",
       "    </tr>\n",
       "    <tr>\n",
       "      <th>1</th>\n",
       "      <td>1124</td>\n",
       "      <td>1992-05-06</td>\n",
       "      <td>2ndPrizeNo</td>\n",
       "      <td>0</td>\n",
       "      <td>2436</td>\n",
       "      <td>0</td>\n",
       "      <td>162</td>\n",
       "    </tr>\n",
       "    <tr>\n",
       "      <th>2</th>\n",
       "      <td>592</td>\n",
       "      <td>1992-05-06</td>\n",
       "      <td>3rdPrizeNo</td>\n",
       "      <td>0</td>\n",
       "      <td>25</td>\n",
       "      <td>0</td>\n",
       "      <td>11</td>\n",
       "    </tr>\n",
       "    <tr>\n",
       "      <th>3</th>\n",
       "      <td>5311</td>\n",
       "      <td>1992-05-06</td>\n",
       "      <td>ConsolationNo1</td>\n",
       "      <td>0</td>\n",
       "      <td>515</td>\n",
       "      <td>0</td>\n",
       "      <td>204</td>\n",
       "    </tr>\n",
       "    <tr>\n",
       "      <th>4</th>\n",
       "      <td>407</td>\n",
       "      <td>1992-05-06</td>\n",
       "      <td>ConsolationNo10</td>\n",
       "      <td>0</td>\n",
       "      <td>2114</td>\n",
       "      <td>0</td>\n",
       "      <td>22</td>\n",
       "    </tr>\n",
       "    <tr>\n",
       "      <th>5</th>\n",
       "      <td>1949</td>\n",
       "      <td>1992-05-06</td>\n",
       "      <td>ConsolationNo2</td>\n",
       "      <td>0</td>\n",
       "      <td>95</td>\n",
       "      <td>0</td>\n",
       "      <td>95</td>\n",
       "    </tr>\n",
       "    <tr>\n",
       "      <th>6</th>\n",
       "      <td>1606</td>\n",
       "      <td>1992-05-06</td>\n",
       "      <td>ConsolationNo3</td>\n",
       "      <td>0</td>\n",
       "      <td>351</td>\n",
       "      <td>0</td>\n",
       "      <td>35</td>\n",
       "    </tr>\n",
       "    <tr>\n",
       "      <th>7</th>\n",
       "      <td>3775</td>\n",
       "      <td>1992-05-06</td>\n",
       "      <td>ConsolationNo4</td>\n",
       "      <td>0</td>\n",
       "      <td>494</td>\n",
       "      <td>0</td>\n",
       "      <td>126</td>\n",
       "    </tr>\n",
       "    <tr>\n",
       "      <th>8</th>\n",
       "      <td>6226</td>\n",
       "      <td>1992-05-06</td>\n",
       "      <td>ConsolationNo5</td>\n",
       "      <td>0</td>\n",
       "      <td>494</td>\n",
       "      <td>0</td>\n",
       "      <td>232</td>\n",
       "    </tr>\n",
       "    <tr>\n",
       "      <th>9</th>\n",
       "      <td>1271</td>\n",
       "      <td>1992-05-06</td>\n",
       "      <td>ConsolationNo6</td>\n",
       "      <td>0</td>\n",
       "      <td>410</td>\n",
       "      <td>0</td>\n",
       "      <td>119</td>\n",
       "    </tr>\n",
       "  </tbody>\n",
       "</table>\n",
       "</div>"
      ],
      "text/plain": [
       "   LuckyNo   DrawDate        PrizeType  DaysSinceLastExactMatch  \\\n",
       "0       19 1992-05-06       1stPrizeNo                        0   \n",
       "1     1124 1992-05-06       2ndPrizeNo                        0   \n",
       "2      592 1992-05-06       3rdPrizeNo                        0   \n",
       "3     5311 1992-05-06   ConsolationNo1                        0   \n",
       "4      407 1992-05-06  ConsolationNo10                        0   \n",
       "5     1949 1992-05-06   ConsolationNo2                        0   \n",
       "6     1606 1992-05-06   ConsolationNo3                        0   \n",
       "7     3775 1992-05-06   ConsolationNo4                        0   \n",
       "8     6226 1992-05-06   ConsolationNo5                        0   \n",
       "9     1271 1992-05-06   ConsolationNo6                        0   \n",
       "\n",
       "   DaysUntilNextExactMatch  DaysSinceLastAnyMatch  DaysUntilNextAnyMatch  \n",
       "0                       28                      0                     28  \n",
       "1                     2436                      0                    162  \n",
       "2                       25                      0                     11  \n",
       "3                      515                      0                    204  \n",
       "4                     2114                      0                     22  \n",
       "5                       95                      0                     95  \n",
       "6                      351                      0                     35  \n",
       "7                      494                      0                    126  \n",
       "8                      494                      0                    232  \n",
       "9                      410                      0                    119  "
      ]
     },
     "execution_count": 165,
     "metadata": {},
     "output_type": "execute_result"
    }
   ],
   "source": [
    "df.head(10)"
   ]
  },
  {
   "cell_type": "code",
   "execution_count": 166,
   "metadata": {},
   "outputs": [
    {
     "data": {
      "text/html": [
       "<div>\n",
       "<style scoped>\n",
       "    .dataframe tbody tr th:only-of-type {\n",
       "        vertical-align: middle;\n",
       "    }\n",
       "\n",
       "    .dataframe tbody tr th {\n",
       "        vertical-align: top;\n",
       "    }\n",
       "\n",
       "    .dataframe thead th {\n",
       "        text-align: right;\n",
       "    }\n",
       "</style>\n",
       "<table border=\"1\" class=\"dataframe\">\n",
       "  <thead>\n",
       "    <tr style=\"text-align: right;\">\n",
       "      <th></th>\n",
       "      <th>LuckyNo</th>\n",
       "      <th>DaysSinceLastExactMatch</th>\n",
       "      <th>DaysUntilNextExactMatch</th>\n",
       "      <th>DaysSinceLastAnyMatch</th>\n",
       "      <th>DaysUntilNextAnyMatch</th>\n",
       "    </tr>\n",
       "  </thead>\n",
       "  <tbody>\n",
       "    <tr>\n",
       "      <th>count</th>\n",
       "      <td>104673.000000</td>\n",
       "      <td>104673.000000</td>\n",
       "      <td>104673.000000</td>\n",
       "      <td>104673.000000</td>\n",
       "      <td>104673.000000</td>\n",
       "    </tr>\n",
       "    <tr>\n",
       "      <th>mean</th>\n",
       "      <td>4974.001777</td>\n",
       "      <td>764.409447</td>\n",
       "      <td>764.409447</td>\n",
       "      <td>66.179053</td>\n",
       "      <td>66.179053</td>\n",
       "    </tr>\n",
       "    <tr>\n",
       "      <th>std</th>\n",
       "      <td>2885.324727</td>\n",
       "      <td>832.538166</td>\n",
       "      <td>832.538166</td>\n",
       "      <td>93.325465</td>\n",
       "      <td>93.325465</td>\n",
       "    </tr>\n",
       "    <tr>\n",
       "      <th>min</th>\n",
       "      <td>0.000000</td>\n",
       "      <td>0.000000</td>\n",
       "      <td>0.000000</td>\n",
       "      <td>0.000000</td>\n",
       "      <td>0.000000</td>\n",
       "    </tr>\n",
       "    <tr>\n",
       "      <th>25%</th>\n",
       "      <td>2463.000000</td>\n",
       "      <td>157.000000</td>\n",
       "      <td>157.000000</td>\n",
       "      <td>15.000000</td>\n",
       "      <td>15.000000</td>\n",
       "    </tr>\n",
       "    <tr>\n",
       "      <th>50%</th>\n",
       "      <td>4952.000000</td>\n",
       "      <td>504.000000</td>\n",
       "      <td>504.000000</td>\n",
       "      <td>39.000000</td>\n",
       "      <td>39.000000</td>\n",
       "    </tr>\n",
       "    <tr>\n",
       "      <th>75%</th>\n",
       "      <td>7463.000000</td>\n",
       "      <td>1095.000000</td>\n",
       "      <td>1095.000000</td>\n",
       "      <td>83.000000</td>\n",
       "      <td>83.000000</td>\n",
       "    </tr>\n",
       "    <tr>\n",
       "      <th>max</th>\n",
       "      <td>9999.000000</td>\n",
       "      <td>8087.000000</td>\n",
       "      <td>8087.000000</td>\n",
       "      <td>4113.000000</td>\n",
       "      <td>4113.000000</td>\n",
       "    </tr>\n",
       "  </tbody>\n",
       "</table>\n",
       "</div>"
      ],
      "text/plain": [
       "             LuckyNo  DaysSinceLastExactMatch  DaysUntilNextExactMatch  \\\n",
       "count  104673.000000            104673.000000            104673.000000   \n",
       "mean     4974.001777               764.409447               764.409447   \n",
       "std      2885.324727               832.538166               832.538166   \n",
       "min         0.000000                 0.000000                 0.000000   \n",
       "25%      2463.000000               157.000000               157.000000   \n",
       "50%      4952.000000               504.000000               504.000000   \n",
       "75%      7463.000000              1095.000000              1095.000000   \n",
       "max      9999.000000              8087.000000              8087.000000   \n",
       "\n",
       "       DaysSinceLastAnyMatch  DaysUntilNextAnyMatch  \n",
       "count          104673.000000          104673.000000  \n",
       "mean               66.179053              66.179053  \n",
       "std                93.325465              93.325465  \n",
       "min                 0.000000               0.000000  \n",
       "25%                15.000000              15.000000  \n",
       "50%                39.000000              39.000000  \n",
       "75%                83.000000              83.000000  \n",
       "max              4113.000000            4113.000000  "
      ]
     },
     "execution_count": 166,
     "metadata": {},
     "output_type": "execute_result"
    }
   ],
   "source": [
    "df.describe()"
   ]
  },
  {
   "cell_type": "markdown",
   "metadata": {},
   "source": [
    "## Visualization"
   ]
  },
  {
   "cell_type": "code",
   "execution_count": 167,
   "metadata": {},
   "outputs": [],
   "source": [
    "%matplotlib inline\n",
    "import matplotlib as mpl\n",
    "import matplotlib.pyplot as plt"
   ]
  },
  {
   "cell_type": "code",
   "execution_count": 168,
   "metadata": {},
   "outputs": [],
   "source": [
    "mpl.rc('axes', labelsize=14)\n",
    "mpl.rc('xtick', labelsize=12)\n",
    "mpl.rc('ytick', labelsize=12)"
   ]
  },
  {
   "cell_type": "code",
   "execution_count": 157,
   "metadata": {},
   "outputs": [],
   "source": [
    "# pd.cut?\n",
    "# np.inf\n",
    "# pd.Categorical??"
   ]
  },
  {
   "cell_type": "code",
   "execution_count": 173,
   "metadata": {},
   "outputs": [
    {
     "data": {
      "text/plain": [
       "<Figure size 432x288 with 0 Axes>"
      ]
     },
     "metadata": {},
     "output_type": "display_data"
    }
   ],
   "source": [
    "plt.tight_layout()\n",
    "#df.hist(bins=50, figsize=(20,15))\n",
    "\n",
    "# df.hist??"
   ]
  },
  {
   "cell_type": "code",
   "execution_count": 174,
   "metadata": {},
   "outputs": [
    {
     "data": {
      "text/plain": [
       "LuckyNo                    1.000000\n",
       "DaysUntilNextExactMatch    0.005985\n",
       "DaysSinceLastExactMatch    0.005985\n",
       "DaysUntilNextAnyMatch      0.003307\n",
       "DaysSinceLastAnyMatch      0.002328\n",
       "Name: LuckyNo, dtype: float64"
      ]
     },
     "execution_count": 174,
     "metadata": {},
     "output_type": "execute_result"
    }
   ],
   "source": [
    "corr_matrix = df.corr()\n",
    "corr_matrix['LuckyNo'].sort_values(ascending=False)"
   ]
  },
  {
   "cell_type": "code",
   "execution_count": null,
   "metadata": {},
   "outputs": [],
   "source": []
  },
  {
   "cell_type": "code",
   "execution_count": null,
   "metadata": {},
   "outputs": [],
   "source": []
  },
  {
   "cell_type": "markdown",
   "metadata": {},
   "source": [
    "## Numeric\n",
    "\n",
    "```\n",
    "1. Numeric feature preprocessing is different for tree and\n",
    "non-tree models:\n",
    "    a. Tree-based models doesn’t depend on scaling\n",
    "    b. Non-tree-based models hugely depend on scaling\n",
    "\n",
    "\n",
    "2. Most often used preprocessings are:\n",
    "    a. MinMaxScaler - to [0,1]\n",
    "    b. StandardScaler - to mean==0, std==1\n",
    "    c. Rank - sets spaces between sorted values to be equal\n",
    "    d. np.log(1+x) and np.sqrt(1+x)\n",
    "\n",
    "\n",
    "3. Scaling and Rank for numeric features:\n",
    "    a. Tree-based models doesn't depend on them\n",
    "    b. Non-tree-based models hugely depend on them\n",
    "\n",
    "4. Most often used preprocessings are:\n",
    "    a. MinMaxScaler - to [0,1]\n",
    "    b. StandardScaler - to mean==0, std==1\n",
    "    c. Rank - sets spaces between sorted values to be equal\n",
    "    d. np.log(1+x) and np.sqrt(1+x)\n",
    "\n",
    "5. Feature generation is powered by:\n",
    "    a. Prior knowledge\n",
    "    b. Exploratory data analysis\n",
    "    \n",
    "To [0,1]\n",
    "sklearn.preprocessing.MinMaxScaler\n",
    "X = (X  X.min())/(X.max()  X.min())\n",
    "\n",
    "To mean=0, std=1\n",
    "sklearn.preprocessing.StandardScaler\n",
    "X = (X  X.mean())/X.std()    \n",
    "\n",
    "UPPERBOUND, LOWERBOUND = np.percentile(x, [1,99])\n",
    "y = np.clip(x, UPPERBOUBD, LOWERBOUND)\n",
    "pd.Series(y).hist(bins=30)\n",
    "\n",
    "```\n"
   ]
  },
  {
   "cell_type": "code",
   "execution_count": 175,
   "metadata": {},
   "outputs": [
    {
     "data": {
      "text/plain": [
       "['DaysSinceLastExactMatch',\n",
       " 'DaysUntilNextExactMatch',\n",
       " 'DaysSinceLastAnyMatch',\n",
       " 'DaysUntilNextAnyMatch']"
      ]
     },
     "execution_count": 175,
     "metadata": {},
     "output_type": "execute_result"
    }
   ],
   "source": [
    "numeric_features"
   ]
  },
  {
   "cell_type": "code",
   "execution_count": null,
   "metadata": {},
   "outputs": [],
   "source": []
  },
  {
   "cell_type": "markdown",
   "metadata": {},
   "source": [
    "## Categorical"
   ]
  },
  {
   "cell_type": "markdown",
   "metadata": {},
   "source": [
    "### Mean Encoding"
   ]
  },
  {
   "cell_type": "code",
   "execution_count": null,
   "metadata": {},
   "outputs": [],
   "source": []
  },
  {
   "cell_type": "markdown",
   "metadata": {},
   "source": [
    "## DateTime"
   ]
  },
  {
   "cell_type": "code",
   "execution_count": null,
   "metadata": {},
   "outputs": [],
   "source": []
  },
  {
   "cell_type": "code",
   "execution_count": null,
   "metadata": {},
   "outputs": [],
   "source": []
  },
  {
   "cell_type": "code",
   "execution_count": null,
   "metadata": {},
   "outputs": [],
   "source": []
  },
  {
   "cell_type": "code",
   "execution_count": null,
   "metadata": {},
   "outputs": [],
   "source": []
  },
  {
   "cell_type": "markdown",
   "metadata": {},
   "source": [
    "## Timeseries"
   ]
  },
  {
   "cell_type": "markdown",
   "metadata": {},
   "source": [
    "## Coordinate"
   ]
  },
  {
   "cell_type": "code",
   "execution_count": null,
   "metadata": {},
   "outputs": [],
   "source": []
  },
  {
   "cell_type": "code",
   "execution_count": null,
   "metadata": {},
   "outputs": [],
   "source": []
  },
  {
   "cell_type": "code",
   "execution_count": null,
   "metadata": {},
   "outputs": [],
   "source": []
  },
  {
   "cell_type": "code",
   "execution_count": null,
   "metadata": {},
   "outputs": [],
   "source": []
  }
 ],
 "metadata": {
  "kernelspec": {
   "display_name": "Python 3",
   "language": "python",
   "name": "python3"
  },
  "language_info": {
   "codemirror_mode": {
    "name": "ipython",
    "version": 3
   },
   "file_extension": ".py",
   "mimetype": "text/x-python",
   "name": "python",
   "nbconvert_exporter": "python",
   "pygments_lexer": "ipython3",
   "version": "3.7.2"
  }
 },
 "nbformat": 4,
 "nbformat_minor": 2
}

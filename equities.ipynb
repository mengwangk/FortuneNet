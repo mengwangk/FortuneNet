{
 "cells": [
  {
   "cell_type": "markdown",
   "metadata": {
    "colab_type": "text",
    "id": "view-in-github"
   },
   "source": [
    "<a href=\"https://colab.research.google.com/github/mengwangk/dl-projects/blob/master/equities.ipynb\" target=\"_parent\"><img src=\"https://colab.research.google.com/assets/colab-badge.svg\" alt=\"Open In Colab\"/></a>"
   ]
  },
  {
   "cell_type": "markdown",
   "metadata": {
    "colab_type": "text",
    "id": "OS4Nx4-83Jw4",
    "toc-hr-collapsed": false
   },
   "source": [
    "# Equities"
   ]
  },
  {
   "cell_type": "markdown",
   "metadata": {},
   "source": [
    "## Magic and Import"
   ]
  },
  {
   "cell_type": "code",
   "execution_count": 47,
   "metadata": {
    "colab": {},
    "colab_type": "code",
    "id": "9Gl02_J13PFx"
   },
   "outputs": [],
   "source": [
    "%reload_ext autoreload\n",
    "%autoreload 2\n",
    "\n",
    "%matplotlib inline"
   ]
  },
  {
   "cell_type": "code",
   "execution_count": 48,
   "metadata": {},
   "outputs": [],
   "source": [
    "# To support both python 2 and python 3\n",
    "from __future__ import division, print_function, unicode_literals\n",
    "\n",
    "# Common imports\n",
    "import numpy as np\n",
    "import os\n",
    "import pandas as pd\n",
    "import featuretools as ft\n",
    "import matplotlib as mpl\n",
    "import matplotlib.pyplot as plt\n",
    "import logging\n",
    "import json\n",
    "\n",
    "from pathlib import Path"
   ]
  },
  {
   "cell_type": "markdown",
   "metadata": {},
   "source": [
    "## Setup"
   ]
  },
  {
   "cell_type": "code",
   "execution_count": 49,
   "metadata": {},
   "outputs": [
    {
     "data": {
      "text/plain": [
       "'3.7.2'"
      ]
     },
     "execution_count": 49,
     "metadata": {},
     "output_type": "execute_result"
    }
   ],
   "source": [
    "# Settings for notebook\n",
    "from IPython.core.interactiveshell import InteractiveShell\n",
    "InteractiveShell.ast_node_interactivity = \"all\"\n",
    "\n",
    "# Show Python version\n",
    "import platform\n",
    "platform.python_version()"
   ]
  },
  {
   "cell_type": "code",
   "execution_count": 50,
   "metadata": {},
   "outputs": [],
   "source": [
    "# to make this notebook's output stable across runs\n",
    "np.random.seed(42)\n",
    "\n",
    "mpl.rc('axes', labelsize=14)\n",
    "mpl.rc('xtick', labelsize=12)\n",
    "mpl.rc('ytick', labelsize=12)\n",
    "\n",
    "# Ignore useless warnings (see SciPy issue #5998)\n",
    "import warnings\n",
    "warnings.filterwarnings(action=\"ignore\", message=\"^internal gelsd\")\n",
    "\n",
    "from IPython.display import display\n",
    "pd.options.display.max_columns = 50\n",
    "pd.options.display.html.table_schema = True"
   ]
  },
  {
   "cell_type": "markdown",
   "metadata": {},
   "source": [
    "## Global variables"
   ]
  },
  {
   "cell_type": "code",
   "execution_count": 51,
   "metadata": {},
   "outputs": [],
   "source": [
    "# Component stocks URL\n",
    "_URL_COMPONENT_STOCKS = 'https://www.investing.com/indices/ftse-malaysia-klci-components'"
   ]
  },
  {
   "cell_type": "code",
   "execution_count": 52,
   "metadata": {},
   "outputs": [],
   "source": [
    "_DS_PATH = Path('datasets/equities')\n",
    "_EQUITIES_JSON_FILE = _DS_PATH/'equities.json'\n",
    "_EQUITIES_PICKLE_FILE = _DS_PATH/'equities.pickle'\n",
    "\n",
    "os.makedirs(os.path.dirname(_EQUITIES_JSON_FILE), exist_ok=True)"
   ]
  },
  {
   "cell_type": "code",
   "execution_count": 105,
   "metadata": {},
   "outputs": [],
   "source": [
    "# Import and install Scrapy\n",
    "try:\n",
    "    import scrapy\n",
    "except:\n",
    "    !pip install scrapy\n",
    "    import scrapy\n",
    "    \n",
    "import scrapy.crawler as crawler\n",
    "from scrapy.http import *\n",
    "from multiprocessing import Process, Queue\n",
    "from twisted.internet import reactor\n",
    "from scrapy.crawler import CrawlerProcess"
   ]
  },
  {
   "cell_type": "markdown",
   "metadata": {
    "toc-hr-collapsed": false
   },
   "source": [
    "## Scrap Component Stocks"
   ]
  },
  {
   "cell_type": "markdown",
   "metadata": {},
   "source": [
    "### Helper Functions"
   ]
  },
  {
   "cell_type": "code",
   "execution_count": 92,
   "metadata": {},
   "outputs": [],
   "source": [
    "# the wrapper to make it run more times\n",
    "def run_spider(spider):\n",
    "    def f(q):\n",
    "        try:\n",
    "            runner = crawler.CrawlerRunner({'USER_AGENT': 'Mozilla/5.0 (Windows NT 10.0; Win64; x64) AppleWebKit/537.36 (KHTML, like Gecko) Chrome/60.0.3112.113 Safari/537.36'})\n",
    "            deferred = runner.crawl(spider)\n",
    "            deferred.addBoth(lambda _: reactor.stop())\n",
    "            reactor.run()\n",
    "            q.put(None)\n",
    "        except Exception as e:\n",
    "            q.put(e)\n",
    "\n",
    "    q = Queue()\n",
    "    p = Process(target=f, args=(q,))\n",
    "    p.start()\n",
    "    result = q.get()\n",
    "    p.join()\n",
    "\n",
    "    if result is not None:\n",
    "        raise result"
   ]
  },
  {
   "cell_type": "code",
   "execution_count": 93,
   "metadata": {},
   "outputs": [],
   "source": [
    "class JsonWriterPipeline(object):\n",
    "    \"\"\"JSON output writer\"\"\"\n",
    "\n",
    "    def open_spider(self, spider):\n",
    "        self.file = open(_EQUITIES_JSON_FILE, 'w')\n",
    "\n",
    "    def close_spider(self, spider):\n",
    "        self.file.close()\n",
    "\n",
    "    def process_item(self, item, spider):\n",
    "        line = json.dumps(dict(item)) + \"\\n\"\n",
    "        self.file.write(line)\n",
    "        return item"
   ]
  },
  {
   "cell_type": "code",
   "execution_count": 114,
   "metadata": {},
   "outputs": [],
   "source": [
    "class ComponentStocksSpider(scrapy.Spider):\n",
    "    name = \"component_stocks_spider\"\n",
    "    start_urls = [\n",
    "        _URL_COMPONENT_STOCKS\n",
    "    ]\n",
    "    custom_settings = {\n",
    "        'LOG_LEVEL': logging.WARNING,\n",
    "        'ITEM_PIPELINES': {'__main__.JsonWriterPipeline': 1}, # Used for pipeline 1\n",
    "        'FEED_FORMAT':'json',                                 # Used for pipeline 2\n",
    "        'FEED_URI': 'quoteresult.json'                        # Used for pipeline 2\n",
    "    }\n",
    "\n",
    "    def start_requests(self):\n",
    "        # self.driver = webdriver.Chrome(self._CHROME_DRIVER)\n",
    "        for url in self.start_urls:\n",
    "            yield scrapy.Request(url=url, callback=self.parse)\n",
    "\n",
    "    def parse(self, response):\n",
    "        #print(response.url)\n",
    "        #print(response.body)\n",
    "        rows = response.xpath('//*[@id=\"cr1\"]/tbody/tr/td')\n",
    "        print(rows)\n",
    "        for row in rows:\n",
    "            cols = row.find_elements_by_xpath(\".//td\")\n",
    "            print(cols.get_attribute(\"innerText\"))\n",
    "        "
   ]
  },
  {
   "cell_type": "markdown",
   "metadata": {},
   "source": [
    "### Download Component Stocks"
   ]
  },
  {
   "cell_type": "code",
   "execution_count": 115,
   "metadata": {},
   "outputs": [
    {
     "name": "stdout",
     "output_type": "stream",
     "text": [
      "[<Selector xpath='//*[@id=\"cr1\"]/tbody/tr/td' data='<td class=\"flag\"><span title=\"Malaysia\" '>, <Selector xpath='//*[@id=\"cr1\"]/tbody/tr/td' data='<td class=\"bold left noWrap elp plusIcon'>, <Selector xpath='//*[@id=\"cr1\"]/tbody/tr/td' data='<td class=\"pid-41603-last\">4.350</td>'>, <Selector xpath='//*[@id=\"cr1\"]/tbody/tr/td' data='<td class=\"pid-41603-high\">4.460</td>'>, <Selector xpath='//*[@id=\"cr1\"]/tbody/tr/td' data='<td class=\"pid-41603-low\">4.300</td>'>, <Selector xpath='//*[@id=\"cr1\"]/tbody/tr/td' data='<td class=\"bold greenFont pid-41603-pc\">'>, <Selector xpath='//*[@id=\"cr1\"]/tbody/tr/td' data='<td class=\"bold greenFont pid-41603-pcp\"'>, <Selector xpath='//*[@id=\"cr1\"]/tbody/tr/td' data='<td class=\" pid-41603-turnover\">2.23M</t'>, <Selector xpath='//*[@id=\"cr1\"]/tbody/tr/td' data='<td class=\" pid-41603-time\" data-value=\"'>, <Selector xpath='//*[@id=\"cr1\"]/tbody/tr/td' data='<td class=\"icon\"><span class=\"redClockIc'>, <Selector xpath='//*[@id=\"cr1\"]/tbody/tr/td' data='<td class=\"flag\"><span title=\"Malaysia\" '>, <Selector xpath='//*[@id=\"cr1\"]/tbody/tr/td' data='<td class=\"bold left noWrap elp plusIcon'>, <Selector xpath='//*[@id=\"cr1\"]/tbody/tr/td' data='<td class=\"pid-41692-last\">4.44</td>'>, <Selector xpath='//*[@id=\"cr1\"]/tbody/tr/td' data='<td class=\"pid-41692-high\">4.49</td>'>, <Selector xpath='//*[@id=\"cr1\"]/tbody/tr/td' data='<td class=\"pid-41692-low\">4.37</td>'>, <Selector xpath='//*[@id=\"cr1\"]/tbody/tr/td' data='<td class=\"bold greenFont pid-41692-pc\">'>, <Selector xpath='//*[@id=\"cr1\"]/tbody/tr/td' data='<td class=\"bold greenFont pid-41692-pcp\"'>, <Selector xpath='//*[@id=\"cr1\"]/tbody/tr/td' data='<td class=\" pid-41692-turnover\">2.10M</t'>, <Selector xpath='//*[@id=\"cr1\"]/tbody/tr/td' data='<td class=\" pid-41692-time\" data-value=\"'>, <Selector xpath='//*[@id=\"cr1\"]/tbody/tr/td' data='<td class=\"icon\"><span class=\"redClockIc'>, <Selector xpath='//*[@id=\"cr1\"]/tbody/tr/td' data='<td class=\"flag\"><span title=\"Malaysia\" '>, <Selector xpath='//*[@id=\"cr1\"]/tbody/tr/td' data='<td class=\"bold left noWrap elp plusIcon'>, <Selector xpath='//*[@id=\"cr1\"]/tbody/tr/td' data='<td class=\"pid-41604-last\">5.160</td>'>, <Selector xpath='//*[@id=\"cr1\"]/tbody/tr/td' data='<td class=\"pid-41604-high\">5.180</td>'>, <Selector xpath='//*[@id=\"cr1\"]/tbody/tr/td' data='<td class=\"pid-41604-low\">5.130</td>'>, <Selector xpath='//*[@id=\"cr1\"]/tbody/tr/td' data='<td class=\"bold greenFont pid-41604-pc\">'>, <Selector xpath='//*[@id=\"cr1\"]/tbody/tr/td' data='<td class=\"bold greenFont pid-41604-pcp\"'>, <Selector xpath='//*[@id=\"cr1\"]/tbody/tr/td' data='<td class=\" pid-41604-turnover\">3.39M</t'>, <Selector xpath='//*[@id=\"cr1\"]/tbody/tr/td' data='<td class=\" pid-41604-time\" data-value=\"'>, <Selector xpath='//*[@id=\"cr1\"]/tbody/tr/td' data='<td class=\"icon\"><span class=\"redClockIc'>, <Selector xpath='//*[@id=\"cr1\"]/tbody/tr/td' data='<td class=\"flag\"><span title=\"Malaysia\" '>, <Selector xpath='//*[@id=\"cr1\"]/tbody/tr/td' data='<td class=\"bold left noWrap elp plusIcon'>, <Selector xpath='//*[@id=\"cr1\"]/tbody/tr/td' data='<td class=\"pid-41698-last\">3.300</td>'>, <Selector xpath='//*[@id=\"cr1\"]/tbody/tr/td' data='<td class=\"pid-41698-high\">3.350</td>'>, <Selector xpath='//*[@id=\"cr1\"]/tbody/tr/td' data='<td class=\"pid-41698-low\">3.240</td>'>, <Selector xpath='//*[@id=\"cr1\"]/tbody/tr/td' data='<td class=\"bold greenFont pid-41698-pc\">'>, <Selector xpath='//*[@id=\"cr1\"]/tbody/tr/td' data='<td class=\"bold greenFont pid-41698-pcp\"'>, <Selector xpath='//*[@id=\"cr1\"]/tbody/tr/td' data='<td class=\" pid-41698-turnover\">10.40M</'>, <Selector xpath='//*[@id=\"cr1\"]/tbody/tr/td' data='<td class=\" pid-41698-time\" data-value=\"'>, <Selector xpath='//*[@id=\"cr1\"]/tbody/tr/td' data='<td class=\"icon\"><span class=\"redClockIc'>, <Selector xpath='//*[@id=\"cr1\"]/tbody/tr/td' data='<td class=\"flag\"><span title=\"Malaysia\" '>, <Selector xpath='//*[@id=\"cr1\"]/tbody/tr/td' data='<td class=\"bold left noWrap elp plusIcon'>, <Selector xpath='//*[@id=\"cr1\"]/tbody/tr/td' data='<td class=\"pid-41693-last\">4.65</td>'>, <Selector xpath='//*[@id=\"cr1\"]/tbody/tr/td' data='<td class=\"pid-41693-high\">4.75</td>'>, <Selector xpath='//*[@id=\"cr1\"]/tbody/tr/td' data='<td class=\"pid-41693-low\">4.64</td>'>, <Selector xpath='//*[@id=\"cr1\"]/tbody/tr/td' data='<td class=\"bold blackFont pid-41693-pc\">'>, <Selector xpath='//*[@id=\"cr1\"]/tbody/tr/td' data='<td class=\"bold blackFont pid-41693-pcp\"'>, <Selector xpath='//*[@id=\"cr1\"]/tbody/tr/td' data='<td class=\" pid-41693-turnover\">2.95M</t'>, <Selector xpath='//*[@id=\"cr1\"]/tbody/tr/td' data='<td class=\" pid-41693-time\" data-value=\"'>, <Selector xpath='//*[@id=\"cr1\"]/tbody/tr/td' data='<td class=\"icon\"><span class=\"redClockIc'>, <Selector xpath='//*[@id=\"cr1\"]/tbody/tr/td' data='<td class=\"flag\"><span title=\"Malaysia\" '>, <Selector xpath='//*[@id=\"cr1\"]/tbody/tr/td' data='<td class=\"bold left noWrap elp plusIcon'>, <Selector xpath='//*[@id=\"cr1\"]/tbody/tr/td' data='<td class=\"pid-41626-last\">6.50</td>'>, <Selector xpath='//*[@id=\"cr1\"]/tbody/tr/td' data='<td class=\"pid-41626-high\">6.54</td>'>, <Selector xpath='//*[@id=\"cr1\"]/tbody/tr/td' data='<td class=\"pid-41626-low\">6.46</td>'>, <Selector xpath='//*[@id=\"cr1\"]/tbody/tr/td' data='<td class=\"bold greenFont pid-41626-pc\">'>, <Selector xpath='//*[@id=\"cr1\"]/tbody/tr/td' data='<td class=\"bold greenFont pid-41626-pcp\"'>, <Selector xpath='//*[@id=\"cr1\"]/tbody/tr/td' data='<td class=\" pid-41626-turnover\">2.41M</t'>, <Selector xpath='//*[@id=\"cr1\"]/tbody/tr/td' data='<td class=\" pid-41626-time\" data-value=\"'>, <Selector xpath='//*[@id=\"cr1\"]/tbody/tr/td' data='<td class=\"icon\"><span class=\"redClockIc'>, <Selector xpath='//*[@id=\"cr1\"]/tbody/tr/td' data='<td class=\"flag\"><span title=\"Malaysia\" '>, <Selector xpath='//*[@id=\"cr1\"]/tbody/tr/td' data='<td class=\"bold left noWrap elp plusIcon'>, <Selector xpath='//*[@id=\"cr1\"]/tbody/tr/td' data='<td class=\"pid-41655-last\">3.140</td>'>, <Selector xpath='//*[@id=\"cr1\"]/tbody/tr/td' data='<td class=\"pid-41655-high\">3.180</td>'>, <Selector xpath='//*[@id=\"cr1\"]/tbody/tr/td' data='<td class=\"pid-41655-low\">3.120</td>'>, <Selector xpath='//*[@id=\"cr1\"]/tbody/tr/td' data='<td class=\"bold greenFont pid-41655-pc\">'>, <Selector xpath='//*[@id=\"cr1\"]/tbody/tr/td' data='<td class=\"bold greenFont pid-41655-pcp\"'>, <Selector xpath='//*[@id=\"cr1\"]/tbody/tr/td' data='<td class=\" pid-41655-turnover\">5.01M</t'>, <Selector xpath='//*[@id=\"cr1\"]/tbody/tr/td' data='<td class=\" pid-41655-time\" data-value=\"'>, <Selector xpath='//*[@id=\"cr1\"]/tbody/tr/td' data='<td class=\"icon\"><span class=\"redClockIc'>, <Selector xpath='//*[@id=\"cr1\"]/tbody/tr/td' data='<td class=\"flag\"><span title=\"Malaysia\" '>, <Selector xpath='//*[@id=\"cr1\"]/tbody/tr/td' data='<td class=\"bold left noWrap elp plusIcon'>, <Selector xpath='//*[@id=\"cr1\"]/tbody/tr/td' data='<td class=\"pid-41625-last\">9.72</td>'>, <Selector xpath='//*[@id=\"cr1\"]/tbody/tr/td' data='<td class=\"pid-41625-high\">9.76</td>'>, <Selector xpath='//*[@id=\"cr1\"]/tbody/tr/td' data='<td class=\"pid-41625-low\">9.65</td>'>, <Selector xpath='//*[@id=\"cr1\"]/tbody/tr/td' data='<td class=\"bold redFont pid-41625-pc\">-0'>, <Selector xpath='//*[@id=\"cr1\"]/tbody/tr/td' data='<td class=\"bold redFont pid-41625-pcp\">-'>, <Selector xpath='//*[@id=\"cr1\"]/tbody/tr/td' data='<td class=\" pid-41625-turnover\">796.10K<'>, <Selector xpath='//*[@id=\"cr1\"]/tbody/tr/td' data='<td class=\" pid-41625-time\" data-value=\"'>, <Selector xpath='//*[@id=\"cr1\"]/tbody/tr/td' data='<td class=\"icon\"><span class=\"redClockIc'>, <Selector xpath='//*[@id=\"cr1\"]/tbody/tr/td' data='<td class=\"flag\"><span title=\"Malaysia\" '>, <Selector xpath='//*[@id=\"cr1\"]/tbody/tr/td' data='<td class=\"bold left noWrap elp plusIcon'>, <Selector xpath='//*[@id=\"cr1\"]/tbody/tr/td' data='<td class=\"pid-41667-last\">5.100</td>'>, <Selector xpath='//*[@id=\"cr1\"]/tbody/tr/td' data='<td class=\"pid-41667-high\">5.180</td>'>, <Selector xpath='//*[@id=\"cr1\"]/tbody/tr/td' data='<td class=\"pid-41667-low\">5.050</td>'>, <Selector xpath='//*[@id=\"cr1\"]/tbody/tr/td' data='<td class=\"bold blackFont pid-41667-pc\">'>, <Selector xpath='//*[@id=\"cr1\"]/tbody/tr/td' data='<td class=\"bold blackFont pid-41667-pcp\"'>, <Selector xpath='//*[@id=\"cr1\"]/tbody/tr/td' data='<td class=\" pid-41667-turnover\">3.87M</t'>, <Selector xpath='//*[@id=\"cr1\"]/tbody/tr/td' data='<td class=\" pid-41667-time\" data-value=\"'>, <Selector xpath='//*[@id=\"cr1\"]/tbody/tr/td' data='<td class=\"icon\"><span class=\"redClockIc'>, <Selector xpath='//*[@id=\"cr1\"]/tbody/tr/td' data='<td class=\"flag\"><span title=\"Malaysia\" '>, <Selector xpath='//*[@id=\"cr1\"]/tbody/tr/td' data='<td class=\"bold left noWrap elp plusIcon'>, <Selector xpath='//*[@id=\"cr1\"]/tbody/tr/td' data='<td class=\"pid-41685-last\">19.30</td>'>, <Selector xpath='//*[@id=\"cr1\"]/tbody/tr/td' data='<td class=\"pid-41685-high\">19.48</td>'>, <Selector xpath='//*[@id=\"cr1\"]/tbody/tr/td' data='<td class=\"pid-41685-low\">19.16</td>'>, <Selector xpath='//*[@id=\"cr1\"]/tbody/tr/td' data='<td class=\"bold greenFont pid-41685-pc\">'>, <Selector xpath='//*[@id=\"cr1\"]/tbody/tr/td' data='<td class=\"bold greenFont pid-41685-pcp\"'>, <Selector xpath='//*[@id=\"cr1\"]/tbody/tr/td' data='<td class=\" pid-41685-turnover\">643.80K<'>, <Selector xpath='//*[@id=\"cr1\"]/tbody/tr/td' data='<td class=\" pid-41685-time\" data-value=\"'>, <Selector xpath='//*[@id=\"cr1\"]/tbody/tr/td' data='<td class=\"icon\"><span class=\"redClockIc'>, <Selector xpath='//*[@id=\"cr1\"]/tbody/tr/td' data='<td class=\"flag\"><span title=\"Malaysia\" '>, <Selector xpath='//*[@id=\"cr1\"]/tbody/tr/td' data='<td class=\"bold left noWrap elp plusIcon'>, <Selector xpath='//*[@id=\"cr1\"]/tbody/tr/td' data='<td class=\"pid-41606-last\">18.84</td>'>, <Selector xpath='//*[@id=\"cr1\"]/tbody/tr/td' data='<td class=\"pid-41606-high\">19.16</td>'>, <Selector xpath='//*[@id=\"cr1\"]/tbody/tr/td' data='<td class=\"pid-41606-low\">18.84</td>'>, <Selector xpath='//*[@id=\"cr1\"]/tbody/tr/td' data='<td class=\"bold redFont pid-41606-pc\">-0'>, <Selector xpath='//*[@id=\"cr1\"]/tbody/tr/td' data='<td class=\"bold redFont pid-41606-pcp\">-'>, <Selector xpath='//*[@id=\"cr1\"]/tbody/tr/td' data='<td class=\" pid-41606-turnover\">187.80K<'>, <Selector xpath='//*[@id=\"cr1\"]/tbody/tr/td' data='<td class=\" pid-41606-time\" data-value=\"'>, <Selector xpath='//*[@id=\"cr1\"]/tbody/tr/td' data='<td class=\"icon\"><span class=\"redClockIc'>, <Selector xpath='//*[@id=\"cr1\"]/tbody/tr/td' data='<td class=\"flag\"><span title=\"Malaysia\" '>, <Selector xpath='//*[@id=\"cr1\"]/tbody/tr/td' data='<td class=\"bold left noWrap elp plusIcon'>, <Selector xpath='//*[@id=\"cr1\"]/tbody/tr/td' data='<td class=\"pid-41678-last\">5.46</td>'>, <Selector xpath='//*[@id=\"cr1\"]/tbody/tr/td' data='<td class=\"pid-41678-high\">5.48</td>'>, <Selector xpath='//*[@id=\"cr1\"]/tbody/tr/td' data='<td class=\"pid-41678-low\">5.40</td>'>, <Selector xpath='//*[@id=\"cr1\"]/tbody/tr/td' data='<td class=\"bold redFont pid-41678-pc\">-0'>, <Selector xpath='//*[@id=\"cr1\"]/tbody/tr/td' data='<td class=\"bold redFont pid-41678-pcp\">-'>, <Selector xpath='//*[@id=\"cr1\"]/tbody/tr/td' data='<td class=\" pid-41678-turnover\">6.30M</t'>, <Selector xpath='//*[@id=\"cr1\"]/tbody/tr/td' data='<td class=\" pid-41678-time\" data-value=\"'>, <Selector xpath='//*[@id=\"cr1\"]/tbody/tr/td' data='<td class=\"icon\"><span class=\"redClockIc'>, <Selector xpath='//*[@id=\"cr1\"]/tbody/tr/td' data='<td class=\"flag\"><span title=\"Malaysia\" '>, <Selector xpath='//*[@id=\"cr1\"]/tbody/tr/td' data='<td class=\"bold left noWrap elp plusIcon'>, <Selector xpath='//*[@id=\"cr1\"]/tbody/tr/td' data='<td class=\"pid-41615-last\">4.210</td>'>, <Selector xpath='//*[@id=\"cr1\"]/tbody/tr/td' data='<td class=\"pid-41615-high\">4.250</td>'>, <Selector xpath='//*[@id=\"cr1\"]/tbody/tr/td' data='<td class=\"pid-41615-low\">4.200</td>'>, <Selector xpath='//*[@id=\"cr1\"]/tbody/tr/td' data='<td class=\"bold greenFont pid-41615-pc\">'>, <Selector xpath='//*[@id=\"cr1\"]/tbody/tr/td' data='<td class=\"bold greenFont pid-41615-pcp\"'>, <Selector xpath='//*[@id=\"cr1\"]/tbody/tr/td' data='<td class=\" pid-41615-turnover\">2.56M</t'>, <Selector xpath='//*[@id=\"cr1\"]/tbody/tr/td' data='<td class=\" pid-41615-time\" data-value=\"'>, <Selector xpath='//*[@id=\"cr1\"]/tbody/tr/td' data='<td class=\"icon\"><span class=\"redClockIc'>, <Selector xpath='//*[@id=\"cr1\"]/tbody/tr/td' data='<td class=\"flag\"><span title=\"Malaysia\" '>, <Selector xpath='//*[@id=\"cr1\"]/tbody/tr/td' data='<td class=\"bold left noWrap elp plusIcon'>, <Selector xpath='//*[@id=\"cr1\"]/tbody/tr/td' data='<td class=\"pid-41620-last\">24.16</td>'>, <Selector xpath='//*[@id=\"cr1\"]/tbody/tr/td' data='<td class=\"pid-41620-high\">24.32</td>'>, <Selector xpath='//*[@id=\"cr1\"]/tbody/tr/td' data='<td class=\"pid-41620-low\">24.06</td>'>, <Selector xpath='//*[@id=\"cr1\"]/tbody/tr/td' data='<td class=\"bold greenFont pid-41620-pc\">'>, <Selector xpath='//*[@id=\"cr1\"]/tbody/tr/td' data='<td class=\"bold greenFont pid-41620-pcp\"'>, <Selector xpath='//*[@id=\"cr1\"]/tbody/tr/td' data='<td class=\" pid-41620-turnover\">508.70K<'>, <Selector xpath='//*[@id=\"cr1\"]/tbody/tr/td' data='<td class=\" pid-41620-time\" data-value=\"'>, <Selector xpath='//*[@id=\"cr1\"]/tbody/tr/td' data='<td class=\"icon\"><span class=\"redClockIc'>, <Selector xpath='//*[@id=\"cr1\"]/tbody/tr/td' data='<td class=\"flag\"><span title=\"Malaysia\" '>, <Selector xpath='//*[@id=\"cr1\"]/tbody/tr/td' data='<td class=\"bold left noWrap elp plusIcon'>, <Selector xpath='//*[@id=\"cr1\"]/tbody/tr/td' data='<td class=\"pid-41607-last\">9.00</td>'>, <Selector xpath='//*[@id=\"cr1\"]/tbody/tr/td' data='<td class=\"pid-41607-high\">9.02</td>'>, <Selector xpath='//*[@id=\"cr1\"]/tbody/tr/td' data='<td class=\"pid-41607-low\">8.98</td>'>, <Selector xpath='//*[@id=\"cr1\"]/tbody/tr/td' data='<td class=\"bold greenFont pid-41607-pc\">'>, <Selector xpath='//*[@id=\"cr1\"]/tbody/tr/td' data='<td class=\"bold greenFont pid-41607-pcp\"'>, <Selector xpath='//*[@id=\"cr1\"]/tbody/tr/td' data='<td class=\" pid-41607-turnover\">5.44M</t'>, <Selector xpath='//*[@id=\"cr1\"]/tbody/tr/td' data='<td class=\" pid-41607-time\" data-value=\"'>, <Selector xpath='//*[@id=\"cr1\"]/tbody/tr/td' data='<td class=\"icon\"><span class=\"redClockIc'>, <Selector xpath='//*[@id=\"cr1\"]/tbody/tr/td' data='<td class=\"flag\"><span title=\"Malaysia\" '>, <Selector xpath='//*[@id=\"cr1\"]/tbody/tr/td' data='<td class=\"bold left noWrap elp plusIcon'>, <Selector xpath='//*[@id=\"cr1\"]/tbody/tr/td' data='<td class=\"pid-41657-last\">7.23</td>'>, <Selector xpath='//*[@id=\"cr1\"]/tbody/tr/td' data='<td class=\"pid-41657-high\">7.27</td>'>, <Selector xpath='//*[@id=\"cr1\"]/tbody/tr/td' data='<td class=\"pid-41657-low\">7.09</td>'>, <Selector xpath='//*[@id=\"cr1\"]/tbody/tr/td' data='<td class=\"bold greenFont pid-41657-pc\">'>, <Selector xpath='//*[@id=\"cr1\"]/tbody/tr/td' data='<td class=\"bold greenFont pid-41657-pcp\"'>, <Selector xpath='//*[@id=\"cr1\"]/tbody/tr/td' data='<td class=\" pid-41657-turnover\">2.19M</t'>, <Selector xpath='//*[@id=\"cr1\"]/tbody/tr/td' data='<td class=\" pid-41657-time\" data-value=\"'>, <Selector xpath='//*[@id=\"cr1\"]/tbody/tr/td' data='<td class=\"icon\"><span class=\"redClockIc'>, <Selector xpath='//*[@id=\"cr1\"]/tbody/tr/td' data='<td class=\"flag\"><span title=\"Malaysia\" '>, <Selector xpath='//*[@id=\"cr1\"]/tbody/tr/td' data='<td class=\"bold left noWrap elp plusIcon'>, <Selector xpath='//*[@id=\"cr1\"]/tbody/tr/td' data='<td class=\"pid-41688-last\">5.36</td>'>, <Selector xpath='//*[@id=\"cr1\"]/tbody/tr/td' data='<td class=\"pid-41688-high\">5.40</td>'>, <Selector xpath='//*[@id=\"cr1\"]/tbody/tr/td' data='<td class=\"pid-41688-low\">5.29</td>'>, <Selector xpath='//*[@id=\"cr1\"]/tbody/tr/td' data='<td class=\"bold greenFont pid-41688-pc\">'>, <Selector xpath='//*[@id=\"cr1\"]/tbody/tr/td' data='<td class=\"bold greenFont pid-41688-pcp\"'>, <Selector xpath='//*[@id=\"cr1\"]/tbody/tr/td' data='<td class=\" pid-41688-turnover\">1.93M</t'>, <Selector xpath='//*[@id=\"cr1\"]/tbody/tr/td' data='<td class=\" pid-41688-time\" data-value=\"'>, <Selector xpath='//*[@id=\"cr1\"]/tbody/tr/td' data='<td class=\"icon\"><span class=\"redClockIc'>, <Selector xpath='//*[@id=\"cr1\"]/tbody/tr/td' data='<td class=\"flag\"><span title=\"Malaysia\" '>, <Selector xpath='//*[@id=\"cr1\"]/tbody/tr/td' data='<td class=\"bold left noWrap elp plusIcon'>, <Selector xpath='//*[@id=\"cr1\"]/tbody/tr/td' data='<td class=\"pid-41632-last\">6.57</td>'>, <Selector xpath='//*[@id=\"cr1\"]/tbody/tr/td' data='<td class=\"pid-41632-high\">6.62</td>'>, <Selector xpath='//*[@id=\"cr1\"]/tbody/tr/td' data='<td class=\"pid-41632-low\">6.52</td>'>, <Selector xpath='//*[@id=\"cr1\"]/tbody/tr/td' data='<td class=\"bold greenFont pid-41632-pc\">'>, <Selector xpath='//*[@id=\"cr1\"]/tbody/tr/td' data='<td class=\"bold greenFont pid-41632-pcp\"'>, <Selector xpath='//*[@id=\"cr1\"]/tbody/tr/td' data='<td class=\" pid-41632-turnover\">623.70K<'>, <Selector xpath='//*[@id=\"cr1\"]/tbody/tr/td' data='<td class=\" pid-41632-time\" data-value=\"'>, <Selector xpath='//*[@id=\"cr1\"]/tbody/tr/td' data='<td class=\"icon\"><span class=\"redClockIc'>, <Selector xpath='//*[@id=\"cr1\"]/tbody/tr/td' data='<td class=\"flag\"><span title=\"Malaysia\" '>, <Selector xpath='//*[@id=\"cr1\"]/tbody/tr/td' data='<td class=\"bold left noWrap elp plusIcon'>, <Selector xpath='//*[@id=\"cr1\"]/tbody/tr/td' data='<td class=\"pid-950439-last\">145.500</td>'>, <Selector xpath='//*[@id=\"cr1\"]/tbody/tr/td' data='<td class=\"pid-950439-high\">146.900</td>'>, <Selector xpath='//*[@id=\"cr1\"]/tbody/tr/td' data='<td class=\"pid-950439-low\">144.800</td>'>, <Selector xpath='//*[@id=\"cr1\"]/tbody/tr/td' data='<td class=\"bold greenFont pid-950439-pc\"'>, <Selector xpath='//*[@id=\"cr1\"]/tbody/tr/td' data='<td class=\"bold greenFont pid-950439-pcp'>, <Selector xpath='//*[@id=\"cr1\"]/tbody/tr/td' data='<td class=\" pid-950439-turnover\">124.10K'>, <Selector xpath='//*[@id=\"cr1\"]/tbody/tr/td' data='<td class=\" pid-950439-time\" data-value='>, <Selector xpath='//*[@id=\"cr1\"]/tbody/tr/td' data='<td class=\"icon\"><span class=\"redClockIc'>, <Selector xpath='//*[@id=\"cr1\"]/tbody/tr/td' data='<td class=\"flag\"><span title=\"Malaysia\" '>, <Selector xpath='//*[@id=\"cr1\"]/tbody/tr/td' data='<td class=\"bold left noWrap elp plusIcon'>, <Selector xpath='//*[@id=\"cr1\"]/tbody/tr/td' data='<td class=\"pid-41669-last\">8.80</td>'>, <Selector xpath='//*[@id=\"cr1\"]/tbody/tr/td' data='<td class=\"pid-41669-high\">8.84</td>'>, <Selector xpath='//*[@id=\"cr1\"]/tbody/tr/td' data='<td class=\"pid-41669-low\">8.75</td>'>, <Selector xpath='//*[@id=\"cr1\"]/tbody/tr/td' data='<td class=\"bold redFont pid-41669-pc\">-0'>, <Selector xpath='//*[@id=\"cr1\"]/tbody/tr/td' data='<td class=\"bold redFont pid-41669-pcp\">-'>, <Selector xpath='//*[@id=\"cr1\"]/tbody/tr/td' data='<td class=\" pid-41669-turnover\">9.31M</t'>, <Selector xpath='//*[@id=\"cr1\"]/tbody/tr/td' data='<td class=\" pid-41669-time\" data-value=\"'>, <Selector xpath='//*[@id=\"cr1\"]/tbody/tr/td' data='<td class=\"icon\"><span class=\"redClockIc'>, <Selector xpath='//*[@id=\"cr1\"]/tbody/tr/td' data='<td class=\"flag\"><span title=\"Malaysia\" '>, <Selector xpath='//*[@id=\"cr1\"]/tbody/tr/td' data='<td class=\"bold left noWrap elp plusIcon'>, <Selector xpath='//*[@id=\"cr1\"]/tbody/tr/td' data='<td class=\"pid-41684-last\">24.52</td>'>, <Selector xpath='//*[@id=\"cr1\"]/tbody/tr/td' data='<td class=\"pid-41684-high\">24.68</td>'>, <Selector xpath='//*[@id=\"cr1\"]/tbody/tr/td' data='<td class=\"pid-41684-low\">24.20</td>'>, <Selector xpath='//*[@id=\"cr1\"]/tbody/tr/td' data='<td class=\"bold blackFont pid-41684-pc\">'>, <Selector xpath='//*[@id=\"cr1\"]/tbody/tr/td' data='<td class=\"bold blackFont pid-41684-pcp\"'>, <Selector xpath='//*[@id=\"cr1\"]/tbody/tr/td' data='<td class=\" pid-41684-turnover\">374.80K<'>, <Selector xpath='//*[@id=\"cr1\"]/tbody/tr/td' data='<td class=\" pid-41684-time\" data-value=\"'>, <Selector xpath='//*[@id=\"cr1\"]/tbody/tr/td' data='<td class=\"icon\"><span class=\"redClockIc'>, <Selector xpath='//*[@id=\"cr1\"]/tbody/tr/td' data='<td class=\"flag\"><span title=\"Malaysia\" '>, <Selector xpath='//*[@id=\"cr1\"]/tbody/tr/td' data='<td class=\"bold left noWrap elp plusIcon'>, <Selector xpath='//*[@id=\"cr1\"]/tbody/tr/td' data='<td class=\"pid-41689-last\">16.62</td>'>, <Selector xpath='//*[@id=\"cr1\"]/tbody/tr/td' data='<td class=\"pid-41689-high\">16.78</td>'>, <Selector xpath='//*[@id=\"cr1\"]/tbody/tr/td' data='<td class=\"pid-41689-low\">16.60</td>'>, <Selector xpath='//*[@id=\"cr1\"]/tbody/tr/td' data='<td class=\"bold redFont pid-41689-pc\">-0'>, <Selector xpath='//*[@id=\"cr1\"]/tbody/tr/td' data='<td class=\"bold redFont pid-41689-pcp\">-'>, <Selector xpath='//*[@id=\"cr1\"]/tbody/tr/td' data='<td class=\" pid-41689-turnover\">726.80K<'>, <Selector xpath='//*[@id=\"cr1\"]/tbody/tr/td' data='<td class=\" pid-41689-time\" data-value=\"'>, <Selector xpath='//*[@id=\"cr1\"]/tbody/tr/td' data='<td class=\"icon\"><span class=\"redClockIc'>, <Selector xpath='//*[@id=\"cr1\"]/tbody/tr/td' data='<td class=\"flag\"><span title=\"Malaysia\" '>, <Selector xpath='//*[@id=\"cr1\"]/tbody/tr/td' data='<td class=\"bold left noWrap elp plusIcon'>, <Selector xpath='//*[@id=\"cr1\"]/tbody/tr/td' data='<td class=\"pid-41635-last\">18.56</td>'>, <Selector xpath='//*[@id=\"cr1\"]/tbody/tr/td' data='<td class=\"pid-41635-high\">18.60</td>'>, <Selector xpath='//*[@id=\"cr1\"]/tbody/tr/td' data='<td class=\"pid-41635-low\">18.40</td>'>, <Selector xpath='//*[@id=\"cr1\"]/tbody/tr/td' data='<td class=\"bold blackFont pid-41635-pc\">'>, <Selector xpath='//*[@id=\"cr1\"]/tbody/tr/td' data='<td class=\"bold blackFont pid-41635-pcp\"'>, <Selector xpath='//*[@id=\"cr1\"]/tbody/tr/td' data='<td class=\" pid-41635-turnover\">951.70K<'>, <Selector xpath='//*[@id=\"cr1\"]/tbody/tr/td' data='<td class=\" pid-41635-time\" data-value=\"'>, <Selector xpath='//*[@id=\"cr1\"]/tbody/tr/td' data='<td class=\"icon\"><span class=\"redClockIc'>, <Selector xpath='//*[@id=\"cr1\"]/tbody/tr/td' data='<td class=\"flag\"><span title=\"Malaysia\" '>, <Selector xpath='//*[@id=\"cr1\"]/tbody/tr/td' data='<td class=\"bold left noWrap elp plusIcon'>, <Selector xpath='//*[@id=\"cr1\"]/tbody/tr/td' data='<td class=\"pid-953641-last\">4.300</td>'>, <Selector xpath='//*[@id=\"cr1\"]/tbody/tr/td' data='<td class=\"pid-953641-high\">4.320</td>'>, <Selector xpath='//*[@id=\"cr1\"]/tbody/tr/td' data='<td class=\"pid-953641-low\">4.230</td>'>, <Selector xpath='//*[@id=\"cr1\"]/tbody/tr/td' data='<td class=\"bold greenFont pid-953641-pc\"'>, <Selector xpath='//*[@id=\"cr1\"]/tbody/tr/td' data='<td class=\"bold greenFont pid-953641-pcp'>, <Selector xpath='//*[@id=\"cr1\"]/tbody/tr/td' data='<td class=\" pid-953641-turnover\">1.53M</'>, <Selector xpath='//*[@id=\"cr1\"]/tbody/tr/td' data='<td class=\" pid-953641-time\" data-value='>, <Selector xpath='//*[@id=\"cr1\"]/tbody/tr/td' data='<td class=\"icon\"><span class=\"redClockIc'>, <Selector xpath='//*[@id=\"cr1\"]/tbody/tr/td' data='<td class=\"flag\"><span title=\"Malaysia\" '>, <Selector xpath='//*[@id=\"cr1\"]/tbody/tr/td' data='<td class=\"bold left noWrap elp plusIcon'>, <Selector xpath='//*[@id=\"cr1\"]/tbody/tr/td' data='<td class=\"pid-41609-last\">22.42</td>'>, <Selector xpath='//*[@id=\"cr1\"]/tbody/tr/td' data='<td class=\"pid-41609-high\">22.48</td>'>, <Selector xpath='//*[@id=\"cr1\"]/tbody/tr/td' data='<td class=\"pid-41609-low\">22.30</td>'>, <Selector xpath='//*[@id=\"cr1\"]/tbody/tr/td' data='<td class=\"bold greenFont pid-41609-pc\">'>, <Selector xpath='//*[@id=\"cr1\"]/tbody/tr/td' data='<td class=\"bold greenFont pid-41609-pcp\"'>, <Selector xpath='//*[@id=\"cr1\"]/tbody/tr/td' data='<td class=\" pid-41609-turnover\">3.85M</t'>, <Selector xpath='//*[@id=\"cr1\"]/tbody/tr/td' data='<td class=\" pid-41609-time\" data-value=\"'>, <Selector xpath='//*[@id=\"cr1\"]/tbody/tr/td' data='<td class=\"icon\"><span class=\"redClockIc'>, <Selector xpath='//*[@id=\"cr1\"]/tbody/tr/td' data='<td class=\"flag\"><span title=\"Malaysia\" '>, <Selector xpath='//*[@id=\"cr1\"]/tbody/tr/td' data='<td class=\"bold left noWrap elp plusIcon'>, <Selector xpath='//*[@id=\"cr1\"]/tbody/tr/td' data='<td class=\"pid-41605-last\">5.74</td>'>, <Selector xpath='//*[@id=\"cr1\"]/tbody/tr/td' data='<td class=\"pid-41605-high\">5.80</td>'>, <Selector xpath='//*[@id=\"cr1\"]/tbody/tr/td' data='<td class=\"pid-41605-low\">5.72</td>'>, <Selector xpath='//*[@id=\"cr1\"]/tbody/tr/td' data='<td class=\"bold greenFont pid-41605-pc\">'>, <Selector xpath='//*[@id=\"cr1\"]/tbody/tr/td' data='<td class=\"bold greenFont pid-41605-pcp\"'>, <Selector xpath='//*[@id=\"cr1\"]/tbody/tr/td' data='<td class=\" pid-41605-turnover\">2.96M</t'>, <Selector xpath='//*[@id=\"cr1\"]/tbody/tr/td' data='<td class=\" pid-41605-time\" data-value=\"'>, <Selector xpath='//*[@id=\"cr1\"]/tbody/tr/td' data='<td class=\"icon\"><span class=\"redClockIc'>, <Selector xpath='//*[@id=\"cr1\"]/tbody/tr/td' data='<td class=\"flag\"><span title=\"Malaysia\" '>, <Selector xpath='//*[@id=\"cr1\"]/tbody/tr/td' data='<td class=\"bold left noWrap elp plusIcon'>, <Selector xpath='//*[@id=\"cr1\"]/tbody/tr/td' data='<td class=\"pid-41637-last\">2.20</td>'>, <Selector xpath='//*[@id=\"cr1\"]/tbody/tr/td' data='<td class=\"pid-41637-high\">2.23</td>'>, <Selector xpath='//*[@id=\"cr1\"]/tbody/tr/td' data='<td class=\"pid-41637-low\">2.20</td>'>, <Selector xpath='//*[@id=\"cr1\"]/tbody/tr/td' data='<td class=\"bold blackFont pid-41637-pc\">'>, <Selector xpath='//*[@id=\"cr1\"]/tbody/tr/td' data='<td class=\"bold blackFont pid-41637-pcp\"'>, <Selector xpath='//*[@id=\"cr1\"]/tbody/tr/td' data='<td class=\" pid-41637-turnover\">2.50M</t'>, <Selector xpath='//*[@id=\"cr1\"]/tbody/tr/td' data='<td class=\" pid-41637-time\" data-value=\"'>, <Selector xpath='//*[@id=\"cr1\"]/tbody/tr/td' data='<td class=\"icon\"><span class=\"redClockIc'>, <Selector xpath='//*[@id=\"cr1\"]/tbody/tr/td' data='<td class=\"flag\"><span title=\"Malaysia\" '>, <Selector xpath='//*[@id=\"cr1\"]/tbody/tr/td' data='<td class=\"bold left noWrap elp plusIcon'>, <Selector xpath='//*[@id=\"cr1\"]/tbody/tr/td' data='<td class=\"pid-1056019-last\">4.680</td>'>, <Selector xpath='//*[@id=\"cr1\"]/tbody/tr/td' data='<td class=\"pid-1056019-high\">4.760</td>'>, <Selector xpath='//*[@id=\"cr1\"]/tbody/tr/td' data='<td class=\"pid-1056019-low\">4.640</td>'>, <Selector xpath='//*[@id=\"cr1\"]/tbody/tr/td' data='<td class=\"bold greenFont pid-1056019-pc'>, <Selector xpath='//*[@id=\"cr1\"]/tbody/tr/td' data='<td class=\"bold greenFont pid-1056019-pc'>, <Selector xpath='//*[@id=\"cr1\"]/tbody/tr/td' data='<td class=\" pid-1056019-turnover\">3.43M<'>, <Selector xpath='//*[@id=\"cr1\"]/tbody/tr/td' data='<td class=\" pid-1056019-time\" data-value'>, <Selector xpath='//*[@id=\"cr1\"]/tbody/tr/td' data='<td class=\"icon\"><span class=\"redClockIc'>, <Selector xpath='//*[@id=\"cr1\"]/tbody/tr/td' data='<td class=\"flag\"><span title=\"Malaysia\" '>, <Selector xpath='//*[@id=\"cr1\"]/tbody/tr/td' data='<td class=\"bold left noWrap elp plusIcon'>, <Selector xpath='//*[@id=\"cr1\"]/tbody/tr/td' data='<td class=\"pid-41648-last\">11.58</td>'>, <Selector xpath='//*[@id=\"cr1\"]/tbody/tr/td' data='<td class=\"pid-41648-high\">11.76</td>'>, <Selector xpath='//*[@id=\"cr1\"]/tbody/tr/td' data='<td class=\"pid-41648-low\">11.50</td>'>, <Selector xpath='//*[@id=\"cr1\"]/tbody/tr/td' data='<td class=\"bold redFont pid-41648-pc\">-0'>, <Selector xpath='//*[@id=\"cr1\"]/tbody/tr/td' data='<td class=\"bold redFont pid-41648-pcp\">-'>, <Selector xpath='//*[@id=\"cr1\"]/tbody/tr/td' data='<td class=\" pid-41648-turnover\">3.36M</t'>, <Selector xpath='//*[@id=\"cr1\"]/tbody/tr/td' data='<td class=\" pid-41648-time\" data-value=\"'>, <Selector xpath='//*[@id=\"cr1\"]/tbody/tr/td' data='<td class=\"icon\"><span class=\"redClockIc'>, <Selector xpath='//*[@id=\"cr1\"]/tbody/tr/td' data='<td class=\"flag\"><span title=\"Malaysia\" '>, <Selector xpath='//*[@id=\"cr1\"]/tbody/tr/td' data='<td class=\"bold left noWrap elp plusIcon'>, <Selector xpath='//*[@id=\"cr1\"]/tbody/tr/td' data='<td class=\"pid-41651-last\">4.94</td>'>, <Selector xpath='//*[@id=\"cr1\"]/tbody/tr/td' data='<td class=\"pid-41651-high\">5.00</td>'>, <Selector xpath='//*[@id=\"cr1\"]/tbody/tr/td' data='<td class=\"pid-41651-low\">4.90</td>'>, <Selector xpath='//*[@id=\"cr1\"]/tbody/tr/td' data='<td class=\"bold greenFont pid-41651-pc\">'>, <Selector xpath='//*[@id=\"cr1\"]/tbody/tr/td' data='<td class=\"bold greenFont pid-41651-pcp\"'>, <Selector xpath='//*[@id=\"cr1\"]/tbody/tr/td' data='<td class=\" pid-41651-turnover\">5.60M</t'>, <Selector xpath='//*[@id=\"cr1\"]/tbody/tr/td' data='<td class=\" pid-41651-time\" data-value=\"'>, <Selector xpath='//*[@id=\"cr1\"]/tbody/tr/td' data='<td class=\"icon\"><span class=\"redClockIc'>]\n"
     ]
    }
   ],
   "source": [
    "# process = CrawlerProcess({\n",
    "#     'USER_AGENT': 'Mozilla/4.0 (compatible; MSIE 7.0; Windows NT 5.1)'\n",
    "# })\n",
    "\n",
    "# process.crawl(ComponentStocksSpider)\n",
    "# process.start()\n",
    "\n",
    "run_spider(ComponentStocksSpider)"
   ]
  },
  {
   "cell_type": "code",
   "execution_count": null,
   "metadata": {},
   "outputs": [],
   "source": []
  },
  {
   "cell_type": "code",
   "execution_count": null,
   "metadata": {},
   "outputs": [],
   "source": []
  }
 ],
 "metadata": {
  "colab": {
   "include_colab_link": true,
   "name": "equities.ipynb",
   "provenance": [],
   "version": "0.3.2"
  },
  "kernelspec": {
   "display_name": "Python 3",
   "language": "python",
   "name": "python3"
  },
  "language_info": {
   "codemirror_mode": {
    "name": "ipython",
    "version": 3
   },
   "file_extension": ".py",
   "mimetype": "text/x-python",
   "name": "python",
   "nbconvert_exporter": "python",
   "pygments_lexer": "ipython3",
   "version": "3.7.2"
  },
  "toc-showtags": false
 },
 "nbformat": 4,
 "nbformat_minor": 2
}

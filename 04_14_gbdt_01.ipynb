{
  "nbformat": 4,
  "nbformat_minor": 0,
  "metadata": {
    "kernelspec": {
      "display_name": "Python 3",
      "language": "python",
      "name": "python3"
    },
    "language_info": {
      "codemirror_mode": {
        "name": "ipython",
        "version": 3
      },
      "file_extension": ".py",
      "mimetype": "text/x-python",
      "name": "python",
      "nbconvert_exporter": "python",
      "pygments_lexer": "ipython3",
      "version": "3.7.6"
    },
    "colab": {
      "name": "04_14_gbdt_01.ipynb",
      "provenance": []
    }
  },
  "cells": [
    {
      "cell_type": "markdown",
      "metadata": {
        "id": "I7aG9jzGoP18",
        "colab_type": "text"
      },
      "source": [
        "# Machine Learning - CatBoost"
      ]
    },
    {
      "cell_type": "code",
      "metadata": {
        "id": "zlVvNIxToP1-",
        "colab_type": "code",
        "colab": {
          "base_uri": "https://localhost:8080/",
          "height": 52
        },
        "outputId": "41cb9eea-a33c-4239-ac2e-a07ca0f65749"
      },
      "source": [
        "#from IPython.core.interactiveshell import InteractiveShell\n",
        "#InteractiveShell.ast_node_interactivity = \"all\"\n",
        "\n",
        "%load_ext autoreload\n",
        "%autoreload 2"
      ],
      "execution_count": 23,
      "outputs": [
        {
          "output_type": "stream",
          "text": [
            "The autoreload extension is already loaded. To reload it, use:\n",
            "  %reload_ext autoreload\n"
          ],
          "name": "stdout"
        }
      ]
    },
    {
      "cell_type": "code",
      "metadata": {
        "id": "UXQchcJCoP2E",
        "colab_type": "code",
        "colab": {}
      },
      "source": [
        "required_libs = [ (\"numpy\", \"numpy\"),\n",
        "                 (\"pandas\", \"pandas\"),\n",
        "                 (\"seaborn\", \"seaborn\"),\n",
        "                 (\"matplotlib\", \"matplotlib\"),\n",
        "                 (\"catboost\", \"catboost\"),\n",
        "                 (\"sklearn\", \"sklearn\"),\n",
        "                 (\"ipywidgets\", \"ipywidgets\"),\n",
        "                 (\"shap\", \"shap\"),\n",
        "                 (\"colorama\", \"colorama\"),\n",
        "                 (\"emoji\", \"emoji\")\n",
        "                ]"
      ],
      "execution_count": 24,
      "outputs": []
    },
    {
      "cell_type": "code",
      "metadata": {
        "id": "Uyzk4kXYoP2J",
        "colab_type": "code",
        "colab": {}
      },
      "source": [
        "def is_lib_exists(name):\n",
        "    import importlib\n",
        "    lib = importlib.util.find_spec(name)\n",
        "    return lib is not None"
      ],
      "execution_count": 25,
      "outputs": []
    },
    {
      "cell_type": "code",
      "metadata": {
        "id": "5SJ6r_j2oP2N",
        "colab_type": "code",
        "colab": {
          "base_uri": "https://localhost:8080/",
          "height": 190
        },
        "outputId": "06a63def-6c85-429d-86df-21cd53b5b483"
      },
      "source": [
        "for (clz,lib) in required_libs:\n",
        "    if not is_lib_exists(clz):\n",
        "        print(f\"Installing {lib}\")\n",
        "        !pip install {lib}\n",
        "    else:\n",
        "        print(f\"{lib} exists\")"
      ],
      "execution_count": 26,
      "outputs": [
        {
          "output_type": "stream",
          "text": [
            "numpy exists\n",
            "pandas exists\n",
            "seaborn exists\n",
            "matplotlib exists\n",
            "catboost exists\n",
            "sklearn exists\n",
            "ipywidgets exists\n",
            "shap exists\n",
            "colorama exists\n",
            "emoji exists\n"
          ],
          "name": "stdout"
        }
      ]
    },
    {
      "cell_type": "code",
      "metadata": {
        "id": "hRyT0uoNoP2Q",
        "colab_type": "code",
        "colab": {}
      },
      "source": [
        "COLAB = True\n",
        "\n",
        "DATASET_NAME = '4D.zip'\n",
        "\n",
        "FEATURE_DATASET_PREFIX = 'feature_matrix_d2_v3'"
      ],
      "execution_count": 27,
      "outputs": []
    },
    {
      "cell_type": "code",
      "metadata": {
        "id": "zEbqmb8KoP2S",
        "colab_type": "code",
        "colab": {}
      },
      "source": [
        "import numpy as np\n",
        "import pandas as pd\n",
        "import seaborn as sns\n",
        "import matplotlib.pyplot as plt\n",
        "import calendar\n",
        "import traceback\n",
        "import catboost\n",
        "from pathlib import Path\n",
        "from dateutil.relativedelta import *\n",
        "from datetime import *\n",
        "from catboost import *\n",
        "from catboost import datasets\n",
        "np.set_printoptions(precision=4)"
      ],
      "execution_count": 28,
      "outputs": []
    },
    {
      "cell_type": "code",
      "metadata": {
        "id": "C-7Jn85JoP2V",
        "colab_type": "code",
        "colab": {
          "base_uri": "https://localhost:8080/",
          "height": 104
        },
        "outputId": "9800499b-c312-4c0f-8c10-6f5b8dfae2d2"
      },
      "source": [
        "%matplotlib inline\n",
        "%aimport"
      ],
      "execution_count": 29,
      "outputs": [
        {
          "output_type": "stream",
          "text": [
            "Modules to reload:\n",
            "all-except-skipped\n",
            "\n",
            "Modules to skip:\n",
            "\n"
          ],
          "name": "stdout"
        }
      ]
    },
    {
      "cell_type": "code",
      "metadata": {
        "id": "bRRyrDnzoP2a",
        "colab_type": "code",
        "colab": {}
      },
      "source": [
        "from IPython.display import display"
      ],
      "execution_count": 30,
      "outputs": []
    },
    {
      "cell_type": "code",
      "metadata": {
        "id": "WQ16s9UjoP2d",
        "colab_type": "code",
        "colab": {
          "base_uri": "https://localhost:8080/",
          "height": 52
        },
        "outputId": "67fef684-3243-4104-bec4-f9c13bcf5102"
      },
      "source": [
        "# check catboost version\n",
        "print(catboost.__version__)\n",
        "!python --version"
      ],
      "execution_count": 31,
      "outputs": [
        {
          "output_type": "stream",
          "text": [
            "0.24\n",
            "Python 3.6.9\n"
          ],
          "name": "stdout"
        }
      ]
    },
    {
      "cell_type": "code",
      "metadata": {
        "id": "yGhSyyL2pSHj",
        "colab_type": "code",
        "colab": {
          "base_uri": "https://localhost:8080/",
          "height": 587
        },
        "outputId": "0c310ad8-666c-42a8-9fc5-41e81a8b613e"
      },
      "source": [
        "# colab setup\n",
        "if COLAB:\n",
        "  !rm -rf dl-projects\n",
        "  !git clone https://github.com/mengwangk/dl-projects\n",
        "  \n",
        "  !cp dl-projects/utils* .\n",
        "  !cp dl-projects/preprocess* .\n",
        "  !cp dl-projects/plot* .\n",
        "  \n",
        "  from google.colab import drive\n",
        "  drive.mount('/content/gdrive')\n",
        "  GDRIVE_DATASET_FOLDER = Path('gdrive/My Drive/datasets/')\n",
        "  DATASET_PATH = GDRIVE_DATASET_FOLDER\n",
        "  ORIGIN_DATASET_PATH = Path('dl-projects/datasets')\n",
        "  !ls -l gdrive/\"My Drive\"/datasets/ --block-size=M\n",
        "\n",
        "DATASET = DATASET_PATH/f\"{FEATURE_DATASET_PREFIX}.ft\"\n",
        "ORIGIN_DATASET = ORIGIN_DATASET_PATH/DATASET_NAME"
      ],
      "execution_count": 32,
      "outputs": [
        {
          "output_type": "stream",
          "text": [
            "Cloning into 'dl-projects'...\n",
            "remote: Enumerating objects: 158, done.\u001b[K\n",
            "remote: Counting objects: 100% (158/158), done.\u001b[K\n",
            "remote: Compressing objects: 100% (144/144), done.\u001b[K\n",
            "remote: Total 2135 (delta 97), reused 32 (delta 14), pack-reused 1977\u001b[K\n",
            "Receiving objects: 100% (2135/2135), 79.29 MiB | 28.05 MiB/s, done.\n",
            "Resolving deltas: 100% (1322/1322), done.\n",
            "Drive already mounted at /content/gdrive; to attempt to forcibly remount, call drive.mount(\"/content/gdrive\", force_remount=True).\n",
            "total 4948M\n",
            "-rw------- 1 root root   17M Jul  6 14:06 feature_matrix_2020_apr.ft\n",
            "-rw------- 1 root root   17M Jul  6 14:06 feature_matrix_2020_apr_orig.pkl\n",
            "-rw------- 1 root root   17M Mar  1 05:47 feature_matrix_2020_feb.ft\n",
            "-rw------- 1 root root   17M Mar  1 05:39 feature_matrix_2020_jan.ft\n",
            "-rw------- 1 root root   17M Jul  7 13:52 feature_matrix_2020_jul.ft\n",
            "-rw------- 1 root root   17M Jul  7 13:52 feature_matrix_2020_jul_orig.pkl\n",
            "-rw------- 1 root root   17M Jul  5 07:30 feature_matrix_2020_jun.ft\n",
            "-rw------- 1 root root   17M Jul  5 07:30 feature_matrix_2020_jun_orig.pkl\n",
            "-rw------- 1 root root   17M Jul  6 13:56 feature_matrix_2020_mar.ft\n",
            "-rw------- 1 root root   17M Jul  6 13:56 feature_matrix_2020_mar_orig.pkl\n",
            "-rw------- 1 root root   17M Jul  7 13:40 feature_matrix_2020_may.ft\n",
            "-rw------- 1 root root   17M Jul  7 13:40 feature_matrix_2020_may_orig.pkl\n",
            "-rw------- 1 root root 2454M Jan 12  2020 feature_matrix_d2_v2.ft\n",
            "-rw------- 1 root root 1585M Jan 12  2020 feature_matrix_d2_v3.ft\n",
            "-rw------- 1 root root   17M Feb 21 13:07 feature_matrix_snapshot.ft\n",
            "-rw------- 1 root root    1M Aug  5 13:33 labels.csv\n",
            "-rw------- 1 root root    5M Jan 30  2020 orig_X_test.ft\n",
            "-rw------- 1 root root  415M Jan 30  2020 orig_X_train.ft\n",
            "-rw------- 1 root root    1M Jan 30  2020 orig_y_test.ft\n",
            "-rw------- 1 root root    7M Jan 30  2020 orig_y_train.ft\n",
            "-rw------- 1 root root    3M Jul 30 13:48 test_X_test.ft\n",
            "-rw------- 1 root root  259M Jul 30 13:48 test_X_train.ft\n",
            "-rw------- 1 root root    1M Jul 30 13:48 test_y_test.ft\n",
            "-rw------- 1 root root    8M Jul 30 13:48 test_y_train.ft\n"
          ],
          "name": "stdout"
        }
      ]
    },
    {
      "cell_type": "markdown",
      "metadata": {
        "id": "gvnr5KFJoP2f",
        "colab_type": "text"
      },
      "source": [
        "## EDA"
      ]
    },
    {
      "cell_type": "code",
      "metadata": {
        "id": "ZV-CiR4Yrb7m",
        "colab_type": "code",
        "colab": {}
      },
      "source": [
        "from preprocess import *\n",
        "from utils import feature_selection, plot_feature_importances\n",
        "from plot import plot_correlation_matrix, plot_labeled_scatter"
      ],
      "execution_count": 33,
      "outputs": []
    },
    {
      "cell_type": "code",
      "metadata": {
        "id": "OTuQ19LcpP0L",
        "colab_type": "code",
        "colab": {}
      },
      "source": [
        "data = pd.read_feather(DATASET)\n",
        "origin_data = format_tabular(ORIGIN_DATASET)"
      ],
      "execution_count": 34,
      "outputs": []
    },
    {
      "cell_type": "code",
      "metadata": {
        "id": "NznUjX3ppQeG",
        "colab_type": "code",
        "colab": {}
      },
      "source": [
        "jan_2020 = pd.read_feather(DATASET_PATH/f\"feature_matrix_2020_jan.ft\")\n",
        "feb_2020 = pd.read_feather(DATASET_PATH/f\"feature_matrix_2020_feb.ft\")\n",
        "mar_2020 = pd.read_feather(DATASET_PATH/f\"feature_matrix_2020_mar.ft\")\n",
        "apr_2020 = pd.read_feather(DATASET_PATH/f\"feature_matrix_2020_apr.ft\")\n",
        "may_2020 = pd.read_feather(DATASET_PATH/f\"feature_matrix_2020_may.ft\")\n",
        "jun_2020 = pd.read_feather(DATASET_PATH/f\"feature_matrix_2020_jun.ft\")\n",
        "jul_2020 = pd.read_feather(DATASET_PATH/f\"feature_matrix_2020_jul.ft\")"
      ],
      "execution_count": 35,
      "outputs": []
    },
    {
      "cell_type": "code",
      "metadata": {
        "id": "Z4nQM7SkxbTM",
        "colab_type": "code",
        "colab": {
          "base_uri": "https://localhost:8080/",
          "height": 35
        },
        "outputId": "6be14adf-452d-4770-d9f5-c8f758f184f0"
      },
      "source": [
        "new_data = data.append(jan_2020[data.columns],ignore_index=True)\n",
        "new_data = new_data.append(feb_2020[data.columns],ignore_index=True)\n",
        "new_data = new_data.append(mar_2020[data.columns],ignore_index=True)\n",
        "new_data = new_data.append(apr_2020[data.columns],ignore_index=True)\n",
        "new_data = new_data.append(may_2020[data.columns],ignore_index=True)\n",
        "new_data = new_data.append(jun_2020[data.columns],ignore_index=True)\n",
        "new_data = new_data.append(jul_2020[data.columns],ignore_index=True)\n",
        "data.shape, new_data.shape "
      ],
      "execution_count": 36,
      "outputs": [
        {
          "output_type": "execute_result",
          "data": {
            "text/plain": [
              "((959893, 217), (1029893, 217))"
            ]
          },
          "metadata": {
            "tags": []
          },
          "execution_count": 36
        }
      ]
    },
    {
      "cell_type": "code",
      "metadata": {
        "id": "6fcS0WHNF84G",
        "colab_type": "code",
        "colab": {}
      },
      "source": [
        "data = new_data"
      ],
      "execution_count": 37,
      "outputs": []
    },
    {
      "cell_type": "code",
      "metadata": {
        "id": "P21A_rqdF_SP",
        "colab_type": "code",
        "colab": {
          "base_uri": "https://localhost:8080/",
          "height": 225
        },
        "outputId": "bc358fc0-0a9c-4114-e25e-77891d998988"
      },
      "source": [
        "data.isna().sum().sort_values(ascending=False)"
      ],
      "execution_count": 38,
      "outputs": [
        {
          "output_type": "execute_result",
          "data": {
            "text/plain": [
              "CUM_SUM(SKEW(Results.TotalStrike))           7685\n",
              "CUM_MEAN(TREND(Results.DrawNo, DrawDate))    7685\n",
              "TREND(Results.CUM_SUM(DrawNo), DrawDate)     7685\n",
              "TREND(Results.CUM_SUM(LuckyNo), DrawDate)    7685\n",
              "CUM_SUM(SKEW(Results.LuckyNo))               7685\n",
              "                                             ... \n",
              "CUM_SUM(MIN(Results.DrawNo))                    0\n",
              "NUM_UNIQUE(Results.DAY(DrawDate))               0\n",
              "NUM_UNIQUE(Results.MONTH(DrawDate))             0\n",
              "SUM(Results.PERCENTILE(LuckyNo))                0\n",
              "NumberId                                        0\n",
              "Length: 217, dtype: int64"
            ]
          },
          "metadata": {
            "tags": []
          },
          "execution_count": 38
        }
      ]
    },
    {
      "cell_type": "code",
      "metadata": {
        "id": "ifvYMCzTGY6X",
        "colab_type": "code",
        "colab": {
          "base_uri": "https://localhost:8080/",
          "height": 1000
        },
        "outputId": "51adf2b4-a568-4444-cd96-1cd4c17b8cb3"
      },
      "source": [
        "data.info(max_cols=500, null_counts=True)\n",
        "#data.columns.tolist()"
      ],
      "execution_count": 39,
      "outputs": [
        {
          "output_type": "stream",
          "text": [
            "<class 'pandas.core.frame.DataFrame'>\n",
            "RangeIndex: 1029893 entries, 0 to 1029892\n",
            "Data columns (total 217 columns):\n",
            " #   Column                                                  Non-Null Count    Dtype         \n",
            "---  ------                                                  --------------    -----         \n",
            " 0   NumberId                                                1029893 non-null  int64         \n",
            " 1   time                                                    1029893 non-null  datetime64[ns]\n",
            " 2   STD(Results.DrawNo)                                     1028948 non-null  float64       \n",
            " 3   STD(Results.TotalStrike)                                1028948 non-null  float64       \n",
            " 4   STD(Results.LuckyNo)                                    1028948 non-null  float64       \n",
            " 5   MAX(Results.DrawNo)                                     1029893 non-null  int64         \n",
            " 6   MAX(Results.TotalStrike)                                1029893 non-null  int64         \n",
            " 7   MAX(Results.LuckyNo)                                    1029893 non-null  int64         \n",
            " 8   MIN(Results.DrawNo)                                     1029893 non-null  int64         \n",
            " 9   MIN(Results.TotalStrike)                                1029893 non-null  int64         \n",
            " 10  MIN(Results.LuckyNo)                                    1029893 non-null  int64         \n",
            " 11  MEAN(Results.DrawNo)                                    1029893 non-null  float64       \n",
            " 12  MEAN(Results.TotalStrike)                               1029893 non-null  int64         \n",
            " 13  MEAN(Results.LuckyNo)                                   1029893 non-null  int64         \n",
            " 14  SKEW(Results.DrawNo)                                    1022208 non-null  float64       \n",
            " 15  SKEW(Results.TotalStrike)                               1022208 non-null  float64       \n",
            " 16  SKEW(Results.LuckyNo)                                   1022208 non-null  float64       \n",
            " 17  LAST(Results.results_index)                             1029893 non-null  int64         \n",
            " 18  LAST(Results.DrawNo)                                    1029893 non-null  int64         \n",
            " 19  LAST(Results.TotalStrike)                               1029893 non-null  int64         \n",
            " 20  LAST(Results.LuckyNo)                                   1029893 non-null  int64         \n",
            " 21  AVG_TIME_BETWEEN(Results.DrawDate)                      1028948 non-null  float64       \n",
            " 22  COUNT(Results)                                          1029893 non-null  int64         \n",
            " 23  SUM(Results.DrawNo)                                     1029893 non-null  int64         \n",
            " 24  SUM(Results.TotalStrike)                                1029893 non-null  int64         \n",
            " 25  SUM(Results.LuckyNo)                                    1029893 non-null  int64         \n",
            " 26  TREND(Results.TotalStrike, DrawDate)                    1022208 non-null  float64       \n",
            " 27  TREND(Results.LuckyNo, DrawDate)                        1022208 non-null  float64       \n",
            " 28  TREND(Results.DrawNo, DrawDate)                         1022208 non-null  float64       \n",
            " 29  NUM_UNIQUE(Results.PrizeType)                           1029893 non-null  int64         \n",
            " 30  MONTH(first_Results_time)                               1029893 non-null  int64         \n",
            " 31  DAY(first_Results_time)                                 1029893 non-null  int64         \n",
            " 32  TIME_SINCE(first_Results_time)                          1029893 non-null  float64       \n",
            " 33  TIME_SINCE_PREVIOUS(first_Results_time)                 1029790 non-null  float64       \n",
            " 34  STD(Results.TIME_SINCE(DrawDate))                       1028948 non-null  float64       \n",
            " 35  STD(Results.CUM_MEAN(DrawNo))                           1028948 non-null  float64       \n",
            " 36  STD(Results.CUM_SUM(LuckyNo))                           1028948 non-null  float64       \n",
            " 37  STD(Results.PERCENTILE(DrawNo))                         1028948 non-null  float64       \n",
            " 38  STD(Results.TIME_SINCE_PREVIOUS(DrawDate))              1028948 non-null  float64       \n",
            " 39  STD(Results.CUM_SUM(TotalStrike))                       1028948 non-null  float64       \n",
            " 40  STD(Results.PERCENTILE(TotalStrike))                    1028948 non-null  float64       \n",
            " 41  STD(Results.CUM_SUM(DrawNo))                            1028948 non-null  float64       \n",
            " 42  STD(Results.CUM_MEAN(LuckyNo))                          1028948 non-null  float64       \n",
            " 43  STD(Results.CUM_MEAN(TotalStrike))                      1028948 non-null  float64       \n",
            " 44  STD(Results.PERCENTILE(LuckyNo))                        1028948 non-null  float64       \n",
            " 45  MAX(Results.TIME_SINCE(DrawDate))                       1029893 non-null  float64       \n",
            " 46  MAX(Results.CUM_MEAN(DrawNo))                           1029893 non-null  float64       \n",
            " 47  MAX(Results.CUM_SUM(LuckyNo))                           1029893 non-null  int64         \n",
            " 48  MAX(Results.PERCENTILE(DrawNo))                         1029893 non-null  float64       \n",
            " 49  MAX(Results.TIME_SINCE_PREVIOUS(DrawDate))              1029893 non-null  float64       \n",
            " 50  MAX(Results.CUM_SUM(TotalStrike))                       1029893 non-null  int64         \n",
            " 51  MAX(Results.PERCENTILE(TotalStrike))                    1029893 non-null  float64       \n",
            " 52  MAX(Results.CUM_SUM(DrawNo))                            1029893 non-null  int64         \n",
            " 53  MAX(Results.CUM_MEAN(LuckyNo))                          1029893 non-null  float64       \n",
            " 54  MAX(Results.CUM_MEAN(TotalStrike))                      1029893 non-null  float64       \n",
            " 55  MAX(Results.PERCENTILE(LuckyNo))                        1029893 non-null  float64       \n",
            " 56  MIN(Results.TIME_SINCE(DrawDate))                       1029893 non-null  float64       \n",
            " 57  MIN(Results.CUM_MEAN(DrawNo))                           1029893 non-null  float64       \n",
            " 58  MIN(Results.CUM_SUM(LuckyNo))                           1029893 non-null  int64         \n",
            " 59  MIN(Results.PERCENTILE(DrawNo))                         1029893 non-null  float64       \n",
            " 60  MIN(Results.TIME_SINCE_PREVIOUS(DrawDate))              1029893 non-null  float64       \n",
            " 61  MIN(Results.CUM_SUM(TotalStrike))                       1029893 non-null  int64         \n",
            " 62  MIN(Results.PERCENTILE(TotalStrike))                    1029893 non-null  float64       \n",
            " 63  MIN(Results.CUM_SUM(DrawNo))                            1029893 non-null  int64         \n",
            " 64  MIN(Results.CUM_MEAN(LuckyNo))                          1029893 non-null  float64       \n",
            " 65  MIN(Results.CUM_MEAN(TotalStrike))                      1029893 non-null  float64       \n",
            " 66  MIN(Results.PERCENTILE(LuckyNo))                        1029893 non-null  float64       \n",
            " 67  MODE(Results.MONTH(DrawDate))                           1029893 non-null  int64         \n",
            " 68  MODE(Results.DAY(DrawDate))                             1029893 non-null  int64         \n",
            " 69  MEAN(Results.TIME_SINCE(DrawDate))                      1029893 non-null  float64       \n",
            " 70  MEAN(Results.CUM_MEAN(DrawNo))                          1029893 non-null  float64       \n",
            " 71  MEAN(Results.CUM_SUM(LuckyNo))                          1029893 non-null  float64       \n",
            " 72  MEAN(Results.PERCENTILE(DrawNo))                        1029893 non-null  float64       \n",
            " 73  MEAN(Results.TIME_SINCE_PREVIOUS(DrawDate))             1029893 non-null  float64       \n",
            " 74  MEAN(Results.CUM_SUM(TotalStrike))                      1029893 non-null  float64       \n",
            " 75  MEAN(Results.PERCENTILE(TotalStrike))                   1029893 non-null  float64       \n",
            " 76  MEAN(Results.CUM_SUM(DrawNo))                           1029893 non-null  float64       \n",
            " 77  MEAN(Results.CUM_MEAN(LuckyNo))                         1029893 non-null  float64       \n",
            " 78  MEAN(Results.CUM_MEAN(TotalStrike))                     1029893 non-null  float64       \n",
            " 79  MEAN(Results.PERCENTILE(LuckyNo))                       1029893 non-null  float64       \n",
            " 80  SKEW(Results.TIME_SINCE(DrawDate))                      1022208 non-null  float64       \n",
            " 81  SKEW(Results.CUM_MEAN(DrawNo))                          1022208 non-null  float64       \n",
            " 82  SKEW(Results.CUM_SUM(LuckyNo))                          1022208 non-null  float64       \n",
            " 83  SKEW(Results.PERCENTILE(DrawNo))                        1022208 non-null  float64       \n",
            " 84  SKEW(Results.TIME_SINCE_PREVIOUS(DrawDate))             1022208 non-null  float64       \n",
            " 85  SKEW(Results.CUM_SUM(TotalStrike))                      1022208 non-null  float64       \n",
            " 86  SKEW(Results.PERCENTILE(TotalStrike))                   1022208 non-null  float64       \n",
            " 87  SKEW(Results.CUM_SUM(DrawNo))                           1022208 non-null  float64       \n",
            " 88  SKEW(Results.CUM_MEAN(LuckyNo))                         1022208 non-null  float64       \n",
            " 89  SKEW(Results.CUM_MEAN(TotalStrike))                     1022208 non-null  float64       \n",
            " 90  SKEW(Results.PERCENTILE(LuckyNo))                       1022208 non-null  float64       \n",
            " 91  LAST(Results.TIME_SINCE(DrawDate))                      1029893 non-null  float64       \n",
            " 92  LAST(Results.CUM_MEAN(DrawNo))                          1029893 non-null  float64       \n",
            " 93  LAST(Results.CUM_SUM(LuckyNo))                          1029893 non-null  int64         \n",
            " 94  LAST(Results.PERCENTILE(DrawNo))                        1029893 non-null  float64       \n",
            " 95  LAST(Results.DAY(DrawDate))                             1029893 non-null  int64         \n",
            " 96  LAST(Results.TIME_SINCE_PREVIOUS(DrawDate))             1029893 non-null  float64       \n",
            " 97  LAST(Results.CUM_SUM(TotalStrike))                      1029893 non-null  int64         \n",
            " 98  LAST(Results.MONTH(DrawDate))                           1029893 non-null  int64         \n",
            " 99  LAST(Results.CUM_SUM(DrawNo))                           1029893 non-null  int64         \n",
            " 100 LAST(Results.CUM_MEAN(LuckyNo))                         1029893 non-null  float64       \n",
            " 101 LAST(Results.PERCENTILE(TotalStrike))                   1029893 non-null  float64       \n",
            " 102 LAST(Results.CUM_MEAN(TotalStrike))                     1029893 non-null  float64       \n",
            " 103 LAST(Results.PERCENTILE(LuckyNo))                       1029893 non-null  float64       \n",
            " 104 SUM(Results.TIME_SINCE(DrawDate))                       1029893 non-null  float64       \n",
            " 105 SUM(Results.CUM_MEAN(DrawNo))                           1029893 non-null  float64       \n",
            " 106 SUM(Results.CUM_SUM(LuckyNo))                           1029893 non-null  int64         \n",
            " 107 SUM(Results.PERCENTILE(DrawNo))                         1029893 non-null  float64       \n",
            " 108 SUM(Results.TIME_SINCE_PREVIOUS(DrawDate))              1029893 non-null  float64       \n",
            " 109 SUM(Results.CUM_SUM(TotalStrike))                       1029893 non-null  int64         \n",
            " 110 SUM(Results.PERCENTILE(TotalStrike))                    1029893 non-null  float64       \n",
            " 111 SUM(Results.CUM_SUM(DrawNo))                            1029893 non-null  int64         \n",
            " 112 SUM(Results.CUM_MEAN(LuckyNo))                          1029893 non-null  float64       \n",
            " 113 SUM(Results.CUM_MEAN(TotalStrike))                      1029893 non-null  float64       \n",
            " 114 SUM(Results.PERCENTILE(LuckyNo))                        1029893 non-null  float64       \n",
            " 115 TREND(Results.CUM_MEAN(LuckyNo), DrawDate)              1022208 non-null  float64       \n",
            " 116 TREND(Results.PERCENTILE(LuckyNo), DrawDate)            1022208 non-null  float64       \n",
            " 117 TREND(Results.PERCENTILE(DrawNo), DrawDate)             1022208 non-null  float64       \n",
            " 118 TREND(Results.CUM_MEAN(DrawNo), DrawDate)               1022208 non-null  float64       \n",
            " 119 TREND(Results.TIME_SINCE(DrawDate), DrawDate)           1022208 non-null  float64       \n",
            " 120 TREND(Results.CUM_SUM(TotalStrike), DrawDate)           1022208 non-null  float64       \n",
            " 121 TREND(Results.PERCENTILE(TotalStrike), DrawDate)        1022208 non-null  float64       \n",
            " 122 TREND(Results.TIME_SINCE_PREVIOUS(DrawDate), DrawDate)  1022208 non-null  float64       \n",
            " 123 TREND(Results.CUM_MEAN(TotalStrike), DrawDate)          1022208 non-null  float64       \n",
            " 124 TREND(Results.CUM_SUM(DrawNo), DrawDate)                1022208 non-null  float64       \n",
            " 125 TREND(Results.CUM_SUM(LuckyNo), DrawDate)               1022208 non-null  float64       \n",
            " 126 NUM_UNIQUE(Results.MONTH(DrawDate))                     1029893 non-null  int64         \n",
            " 127 NUM_UNIQUE(Results.DAY(DrawDate))                       1029893 non-null  int64         \n",
            " 128 CUM_SUM(SKEW(Results.LuckyNo))                          1022208 non-null  float64       \n",
            " 129 CUM_SUM(MIN(Results.DrawNo))                            1029893 non-null  int64         \n",
            " 130 CUM_SUM(MEAN(Results.DrawNo))                           1029893 non-null  float64       \n",
            " 131 CUM_SUM(STD(Results.LuckyNo))                           1028948 non-null  float64       \n",
            " 132 CUM_SUM(LAST(Results.DrawNo))                           1029893 non-null  int64         \n",
            " 133 CUM_SUM(MAX(Results.TotalStrike))                       1029893 non-null  int64         \n",
            " 134 CUM_SUM(TREND(Results.TotalStrike, DrawDate))           1022208 non-null  float64       \n",
            " 135 CUM_SUM(MEAN(Results.TotalStrike))                      1029893 non-null  int64         \n",
            " 136 CUM_SUM(MIN(Results.TotalStrike))                       1029893 non-null  int64         \n",
            " 137 CUM_SUM(AVG_TIME_BETWEEN(Results.DrawDate))             1028948 non-null  float64       \n",
            " 138 CUM_SUM(MEAN(Results.LuckyNo))                          1029893 non-null  int64         \n",
            " 139 CUM_SUM(MAX(Results.DrawNo))                            1029893 non-null  int64         \n",
            " 140 CUM_SUM(COUNT(Results))                                 1029893 non-null  int64         \n",
            " 141 CUM_SUM(MIN(Results.LuckyNo))                           1029893 non-null  int64         \n",
            " 142 CUM_SUM(SUM(Results.LuckyNo))                           1029893 non-null  int64         \n",
            " 143 CUM_SUM(NUM_UNIQUE(Results.PrizeType))                  1029893 non-null  int64         \n",
            " 144 CUM_SUM(LAST(Results.TotalStrike))                      1029893 non-null  int64         \n",
            " 145 CUM_SUM(STD(Results.DrawNo))                            1028948 non-null  float64       \n",
            " 146 CUM_SUM(SKEW(Results.DrawNo))                           1022208 non-null  float64       \n",
            " 147 CUM_SUM(TREND(Results.LuckyNo, DrawDate))               1022208 non-null  float64       \n",
            " 148 CUM_SUM(SUM(Results.TotalStrike))                       1029893 non-null  int64         \n",
            " 149 CUM_SUM(STD(Results.TotalStrike))                       1028948 non-null  float64       \n",
            " 150 CUM_SUM(SKEW(Results.TotalStrike))                      1022208 non-null  float64       \n",
            " 151 CUM_SUM(SUM(Results.DrawNo))                            1029893 non-null  int64         \n",
            " 152 CUM_SUM(TREND(Results.DrawNo, DrawDate))                1022208 non-null  float64       \n",
            " 153 CUM_SUM(LAST(Results.LuckyNo))                          1029893 non-null  int64         \n",
            " 154 CUM_SUM(MAX(Results.LuckyNo))                           1029893 non-null  int64         \n",
            " 155 CUM_MEAN(SKEW(Results.LuckyNo))                         1022208 non-null  float64       \n",
            " 156 CUM_MEAN(MIN(Results.DrawNo))                           1029893 non-null  float64       \n",
            " 157 CUM_MEAN(MEAN(Results.DrawNo))                          1029893 non-null  float64       \n",
            " 158 CUM_MEAN(STD(Results.LuckyNo))                          1028948 non-null  float64       \n",
            " 159 CUM_MEAN(LAST(Results.DrawNo))                          1029893 non-null  float64       \n",
            " 160 CUM_MEAN(MAX(Results.TotalStrike))                      1029893 non-null  float64       \n",
            " 161 CUM_MEAN(TREND(Results.TotalStrike, DrawDate))          1022208 non-null  float64       \n",
            " 162 CUM_MEAN(MEAN(Results.TotalStrike))                     1029893 non-null  float64       \n",
            " 163 CUM_MEAN(MIN(Results.TotalStrike))                      1029893 non-null  float64       \n",
            " 164 CUM_MEAN(AVG_TIME_BETWEEN(Results.DrawDate))            1028948 non-null  float64       \n",
            " 165 CUM_MEAN(MEAN(Results.LuckyNo))                         1029893 non-null  float64       \n",
            " 166 CUM_MEAN(MAX(Results.DrawNo))                           1029893 non-null  float64       \n",
            " 167 CUM_MEAN(COUNT(Results))                                1029893 non-null  float64       \n",
            " 168 CUM_MEAN(MIN(Results.LuckyNo))                          1029893 non-null  float64       \n",
            " 169 CUM_MEAN(SUM(Results.LuckyNo))                          1029893 non-null  float64       \n",
            " 170 CUM_MEAN(NUM_UNIQUE(Results.PrizeType))                 1029893 non-null  float64       \n",
            " 171 CUM_MEAN(LAST(Results.TotalStrike))                     1029893 non-null  float64       \n",
            " 172 CUM_MEAN(STD(Results.DrawNo))                           1028948 non-null  float64       \n",
            " 173 CUM_MEAN(SKEW(Results.DrawNo))                          1022208 non-null  float64       \n",
            " 174 CUM_MEAN(TREND(Results.LuckyNo, DrawDate))              1022208 non-null  float64       \n",
            " 175 CUM_MEAN(SUM(Results.TotalStrike))                      1029893 non-null  float64       \n",
            " 176 CUM_MEAN(STD(Results.TotalStrike))                      1028948 non-null  float64       \n",
            " 177 CUM_MEAN(SKEW(Results.TotalStrike))                     1022208 non-null  float64       \n",
            " 178 CUM_MEAN(SUM(Results.DrawNo))                           1029893 non-null  float64       \n",
            " 179 CUM_MEAN(TREND(Results.DrawNo, DrawDate))               1022208 non-null  float64       \n",
            " 180 CUM_MEAN(LAST(Results.LuckyNo))                         1029893 non-null  float64       \n",
            " 181 CUM_MEAN(MAX(Results.LuckyNo))                          1029893 non-null  float64       \n",
            " 182 MONTH(LAST(Results.DrawDate))                           1029893 non-null  int64         \n",
            " 183 DAY(LAST(Results.DrawDate))                             1029893 non-null  int64         \n",
            " 184 PERCENTILE(SKEW(Results.LuckyNo))                       1022208 non-null  float64       \n",
            " 185 PERCENTILE(MIN(Results.DrawNo))                         1029893 non-null  float64       \n",
            " 186 PERCENTILE(MEAN(Results.DrawNo))                        1029893 non-null  float64       \n",
            " 187 PERCENTILE(STD(Results.LuckyNo))                        1028948 non-null  float64       \n",
            " 188 PERCENTILE(LAST(Results.DrawNo))                        1029893 non-null  float64       \n",
            " 189 PERCENTILE(MAX(Results.TotalStrike))                    1029893 non-null  float64       \n",
            " 190 PERCENTILE(TREND(Results.TotalStrike, DrawDate))        1022208 non-null  float64       \n",
            " 191 PERCENTILE(MEAN(Results.TotalStrike))                   1029893 non-null  float64       \n",
            " 192 PERCENTILE(MIN(Results.TotalStrike))                    1029893 non-null  float64       \n",
            " 193 PERCENTILE(AVG_TIME_BETWEEN(Results.DrawDate))          1028948 non-null  float64       \n",
            " 194 PERCENTILE(MEAN(Results.LuckyNo))                       1029893 non-null  float64       \n",
            " 195 PERCENTILE(MAX(Results.DrawNo))                         1029893 non-null  float64       \n",
            " 196 PERCENTILE(COUNT(Results))                              1029893 non-null  float64       \n",
            " 197 PERCENTILE(MIN(Results.LuckyNo))                        1029893 non-null  float64       \n",
            " 198 PERCENTILE(SUM(Results.LuckyNo))                        1029893 non-null  float64       \n",
            " 199 PERCENTILE(NUM_UNIQUE(Results.PrizeType))               1029893 non-null  float64       \n",
            " 200 PERCENTILE(LAST(Results.TotalStrike))                   1029893 non-null  float64       \n",
            " 201 PERCENTILE(STD(Results.DrawNo))                         1028948 non-null  float64       \n",
            " 202 PERCENTILE(SKEW(Results.DrawNo))                        1022208 non-null  float64       \n",
            " 203 PERCENTILE(TREND(Results.LuckyNo, DrawDate))            1022208 non-null  float64       \n",
            " 204 PERCENTILE(SUM(Results.TotalStrike))                    1029893 non-null  float64       \n",
            " 205 PERCENTILE(STD(Results.TotalStrike))                    1028948 non-null  float64       \n",
            " 206 PERCENTILE(SKEW(Results.TotalStrike))                   1022208 non-null  float64       \n",
            " 207 PERCENTILE(SUM(Results.DrawNo))                         1029893 non-null  float64       \n",
            " 208 PERCENTILE(TREND(Results.DrawNo, DrawDate))             1022208 non-null  float64       \n",
            " 209 PERCENTILE(LAST(Results.LuckyNo))                       1029893 non-null  float64       \n",
            " 210 PERCENTILE(MAX(Results.LuckyNo))                        1029893 non-null  float64       \n",
            " 211 TotalStrike                                             1029893 non-null  float64       \n",
            " 212 Label                                                   1029893 non-null  int64         \n",
            " 213 MODE(Results.PrizeType)_Prize                           1029893 non-null  uint8         \n",
            " 214 LAST(Results.PrizeType)_Prize                           1029893 non-null  uint8         \n",
            " 215 month                                                   1029893 non-null  int64         \n",
            " 216 year                                                    1029893 non-null  int64         \n",
            "dtypes: datetime64[ns](1), float64(155), int64(59), uint8(2)\n",
            "memory usage: 1.7 GB\n"
          ],
          "name": "stdout"
        }
      ]
    },
    {
      "cell_type": "code",
      "metadata": {
        "id": "hwDc-KVoGaG1",
        "colab_type": "code",
        "colab": {}
      },
      "source": [
        "feature_matrix = data"
      ],
      "execution_count": 40,
      "outputs": []
    },
    {
      "cell_type": "code",
      "metadata": {
        "id": "gg7SIK0XLaDx",
        "colab_type": "code",
        "colab": {
          "base_uri": "https://localhost:8080/",
          "height": 158
        },
        "outputId": "12f468f5-0faf-4a4e-999f-11631d3dec93"
      },
      "source": [
        "#columns = ['Number', 'time', 'TotalStrike',  'month', 'year', 'Label']\n",
        "#cols = ['Number', 'time', 'TotalStrike',  'month', 'year', 'Label']\n",
        "#feature_matrix = feature_selection(data)\n",
        "\n",
        "from sklearn.feature_selection import SelectKBest\n",
        "from sklearn.feature_selection import f_classif\n",
        "\n",
        "feature_matrix = data.fillna(0)\n",
        "X = feature_matrix.drop(columns=['year', 'time', 'Label', 'TotalStrike'])\n",
        "y = feature_matrix.Label\n",
        "fs = SelectKBest(score_func=f_classif)\n",
        "X_selected = fs.fit_transform(X, y)\n",
        "print(X_selected.shape)"
      ],
      "execution_count": 44,
      "outputs": [
        {
          "output_type": "stream",
          "text": [
            "/usr/local/lib/python3.6/dist-packages/sklearn/feature_selection/_univariate_selection.py:114: UserWarning: Features [  2   3   5   8  11  14  15  18  25  26  28  39  42  43  53  64  77  85\n",
            "  88  89 101 122 127 130 133 146 148 149 154 157 159 160 161 162 169 170\n",
            " 173 175 176 210 211] are constant.\n",
            "  UserWarning)\n",
            "/usr/local/lib/python3.6/dist-packages/sklearn/feature_selection/_univariate_selection.py:115: RuntimeWarning: invalid value encountered in true_divide\n",
            "  f = msb / msw\n"
          ],
          "name": "stderr"
        },
        {
          "output_type": "stream",
          "text": [
            "(1029893, 10)\n"
          ],
          "name": "stdout"
        }
      ]
    },
    {
      "cell_type": "code",
      "metadata": {
        "id": "fKOtH50PMPBe",
        "colab_type": "code",
        "colab": {
          "base_uri": "https://localhost:8080/",
          "height": 314
        },
        "outputId": "53622500-71bc-42d0-c825-83c0f34c5da2"
      },
      "source": [
        "feature_names = list(feature_matrix.columns.values)\n",
        "mask = fs.get_support() #list of booleans\n",
        "new_features = [] # The list of your K best features\n",
        "for bool, feature in zip(mask, feature_names):\n",
        "    if bool:\n",
        "        new_features.append(feature)\n",
        "print(new_features)\n",
        "\n",
        "# Get columns to keep and create new dataframe with those only\n",
        "cols = fs.get_support(indices=True)\n",
        "feature_matrix_selected = feature_matrix.iloc[:,cols]\n",
        "feature_matrix_selected.shape, feature_matrix_selected"
      ],
      "execution_count": 50,
      "outputs": [
        {
          "output_type": "stream",
          "text": [
            "['MAX(Results.PERCENTILE(TotalStrike))', 'LAST(Results.MONTH(DrawDate))', 'CUM_MEAN(MIN(Results.DrawNo))', 'CUM_MEAN(STD(Results.LuckyNo))', 'CUM_MEAN(MEAN(Results.LuckyNo))', 'CUM_MEAN(MAX(Results.DrawNo))', 'CUM_MEAN(MIN(Results.LuckyNo))', 'CUM_MEAN(LAST(Results.TotalStrike))', 'CUM_MEAN(TREND(Results.LuckyNo, DrawDate))', 'CUM_MEAN(SKEW(Results.TotalStrike))']\n"
          ],
          "name": "stdout"
        },
        {
          "output_type": "execute_result",
          "data": {
            "text/plain": [
              "((1029893, 10),\n",
              "          MAX(Results.PERCENTILE(TotalStrike))  ...  CUM_MEAN(SKEW(Results.TotalStrike))\n",
              " 0                                    0.500007  ...                                  0.0\n",
              " 1                                    0.500007  ...                                  0.0\n",
              " 2                                    0.500007  ...                                  0.0\n",
              " 3                                    0.500007  ...                                  0.0\n",
              " 4                                    0.500007  ...                                  0.0\n",
              " ...                                       ...  ...                                  ...\n",
              " 1029888                              0.500005  ...                                  0.0\n",
              " 1029889                              0.500005  ...                                  0.0\n",
              " 1029890                              0.500005  ...                                  0.0\n",
              " 1029891                              0.500005  ...                                  0.0\n",
              " 1029892                              0.500005  ...                                  0.0\n",
              " \n",
              " [1029893 rows x 10 columns])"
            ]
          },
          "metadata": {
            "tags": []
          },
          "execution_count": 50
        }
      ]
    },
    {
      "cell_type": "code",
      "metadata": {
        "id": "C387QlBkPyE5",
        "colab_type": "code",
        "colab": {}
      },
      "source": [
        ""
      ],
      "execution_count": null,
      "outputs": []
    }
  ]
}